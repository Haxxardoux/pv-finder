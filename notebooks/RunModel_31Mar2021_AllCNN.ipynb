{
 "cells": [
  {
   "cell_type": "code",
   "execution_count": 1,
   "metadata": {},
   "outputs": [],
   "source": [
    "##%matplotlib widget\n",
    "## with %matplotlib notebook: seems to require ipympl as part of environment, either\n",
    "## part of the conda environment or \"pip install ipympl\"\n",
    "## otherwise, does not show ANY plots in notebook, plt.savefig() works\n",
    "%matplotlib notebook  \n",
    "##%matplotlib inline    ## --plt.savefig()  works, but re-sizing does NOT"
   ]
  },
  {
   "cell_type": "markdown",
   "metadata": {},
   "source": [
    "This notebook is a short demo to illustrate execution.   For odd historical reasons, it uses \"toy Monte Carlo\" (simulated data)for \"training\" and \"full LHCB MC\" for validation.\n",
    "\n",
    "The network architecture is a \"simple\" model that uses 1 input channel (the KDE [kernel density estimator] but from the track parameters) feeding 5 convolutional layers followed by a fully connected layer.\n",
    "\n",
    "In today's version, the network will start with weights from a previously trained version.\n",
    " "
   ]
  },
  {
   "cell_type": "markdown",
   "metadata": {},
   "source": [
    "Check the current GPU usage. Please try to be nice!"
   ]
  },
  {
   "cell_type": "code",
   "execution_count": 2,
   "metadata": {
    "scrolled": true
   },
   "outputs": [
    {
     "name": "stdout",
     "output_type": "stream",
     "text": [
      "Sun Apr  4 09:24:44 2021       \n",
      "+-----------------------------------------------------------------------------+\n",
      "| NVIDIA-SMI 440.64.00    Driver Version: 440.64.00    CUDA Version: 10.2     |\n",
      "|-------------------------------+----------------------+----------------------+\n",
      "| GPU  Name        Persistence-M| Bus-Id        Disp.A | Volatile Uncorr. ECC |\n",
      "| Fan  Temp  Perf  Pwr:Usage/Cap|         Memory-Usage | GPU-Util  Compute M. |\n",
      "|===============================+======================+======================|\n",
      "|   0  TITAN V             Off  | 00000000:03:00.0 Off |                  N/A |\n",
      "| 28%   31C    P8    23W / 250W |   9749MiB / 12066MiB |      0%      Default |\n",
      "+-------------------------------+----------------------+----------------------+\n",
      "|   1  Tesla P100-PCIE...  Off  | 00000000:83:00.0 Off |                    0 |\n",
      "| N/A   32C    P0    28W / 250W |      0MiB / 16280MiB |      0%      Default |\n",
      "+-------------------------------+----------------------+----------------------+\n",
      "|   2  TITAN V             Off  | 00000000:84:00.0 Off |                  N/A |\n",
      "| 28%   34C    P8    25W / 250W |   9749MiB / 12066MiB |      0%      Default |\n",
      "+-------------------------------+----------------------+----------------------+\n",
      "                                                                               \n",
      "+-----------------------------------------------------------------------------+\n",
      "| Processes:                                                       GPU Memory |\n",
      "|  GPU       PID   Type   Process name                             Usage      |\n",
      "|=============================================================================|\n",
      "|    0     13836      C   ...a/conda/envs/goofit-june2020/bin/python  9737MiB |\n",
      "|    2     18379      C   ...a/conda/envs/goofit-june2020/bin/python  9737MiB |\n",
      "+-----------------------------------------------------------------------------+\n"
     ]
    }
   ],
   "source": [
    "!nvidia-smi"
   ]
  },
  {
   "cell_type": "markdown",
   "metadata": {},
   "source": [
    "> **WARNING**: The card numbers here are *not* the same as in CUDA. You have been warned."
   ]
  },
  {
   "cell_type": "markdown",
   "metadata": {},
   "source": [
    "## Imports"
   ]
  },
  {
   "cell_type": "code",
   "execution_count": 3,
   "metadata": {
    "scrolled": false
   },
   "outputs": [
    {
     "name": "stderr",
     "output_type": "stream",
     "text": [
      "/data/conda/envs/goofit-june2020/lib/python3.7/site-packages/awkward/__init__.py:23: DeprecationWarning: Consider switching from 'awkward' to 'awkward1', since the new interface will become the default later this year (2020).\n",
      "\n",
      "    pip install -U awkward1\n",
      "\n",
      "In Python:\n",
      "\n",
      "    >>> import awkward1 as ak\n",
      "    >>> new_style_array = ak.from_awkward0(old_style_array)\n",
      "    >>> old_style_array = ak.to_awkward0(new_style_array)\n",
      "\n",
      "  DeprecationWarning\n"
     ]
    }
   ],
   "source": [
    "import matplotlib.pyplot as plt\n",
    "import numpy as np\n",
    "import time\n",
    "import torch\n",
    "import pandas as pd\n",
    "import mlflow\n",
    "\n",
    "# Python 3 standard library\n",
    "from pathlib import Path\n",
    "\n",
    "from torchsummary import summary\n",
    "\n",
    "'''\n",
    "HELPER FUNCTIONS\n",
    "'''\n",
    "# From model/collectdata.py\n",
    "from model.collectdata_mdsA import collect_data\n",
    "# For poca KDE\n",
    "from model.collectdata_poca_KDE import collect_data_poca\n",
    "\n",
    "# From model/loss.py\n",
    "##from loss import Loss\n",
    "from model.alt_loss_A import Loss\n",
    "\n",
    "# From model/training.py\n",
    "from model.training import trainNet, select_gpu, Results\n",
    "\n",
    "# From model/models.py\n",
    "##  will start with model from TwoFeatures_CNN6Layer_A in the first instance\n",
    "##  see relevant cell below\n",
    "\n",
    "from model.models_mjp_30Mar21 import ACN_2i4_10L_4S_BN as ModelA\n",
    "\n",
    "# From model/utilities.py\n",
    "from model.utilities import load_full_state, count_parameters, Params\n",
    "\n",
    "from model.plots import dual_train_plots, replace_in_ax\n",
    "\n",
    "## adds image of model architecture\n",
    "import hiddenlayer as HL"
   ]
  },
  {
   "cell_type": "markdown",
   "metadata": {},
   "source": [
    "Set up Torch device configuration. All tensors and model parameters need to know where to be put.\n",
    "This takes a BUS ID number: The BUS ID is the same as the listing at the top of this script."
   ]
  },
  {
   "cell_type": "code",
   "execution_count": 4,
   "metadata": {},
   "outputs": [
    {
     "name": "stdout",
     "output_type": "stream",
     "text": [
      "1 available GPUs (initially using device 0):\n",
      "  0 TITAN V\n"
     ]
    },
    {
     "name": "stderr",
     "output_type": "stream",
     "text": [
      "/data/conda/envs/goofit-june2020/lib/python3.7/site-packages/ipykernel/ipkernel.py:287: DeprecationWarning: `should_run_async` will not call `transform_cell` automatically in the future. Please pass the result to `transformed_cell` argument and any exception that happen during thetransform in `preprocessing_exc_tuple` in IPython 7.17 and above.\n",
      "  and should_run_async(code)\n"
     ]
    }
   ],
   "source": [
    "device = select_gpu(0)"
   ]
  },
  {
   "cell_type": "markdown",
   "metadata": {},
   "source": [
    "### Set up local parameters"
   ]
  },
  {
   "cell_type": "code",
   "execution_count": 5,
   "metadata": {},
   "outputs": [],
   "source": [
    "# params order - batch size, epochs, lr, epoch_start (which is usually set to 0)\n",
    "args = Params(128, 500, 1e-5, 200)"
   ]
  },
  {
   "cell_type": "markdown",
   "metadata": {},
   "source": [
    "## Loading data\n",
    "\n",
    "Load the dataset, split into parts, then move to device (see `collectdata.py` in the `../model` directory)"
   ]
  },
  {
   "cell_type": "code",
   "execution_count": 6,
   "metadata": {
    "scrolled": true
   },
   "outputs": [
    {
     "name": "stdout",
     "output_type": "stream",
     "text": [
      "Loading data...\n",
      "Loaded /share/lazy/sokoloff/ML-data_A/Aug14_80K_train.h5 in 14.7 s\n",
      "Loaded /share/lazy/sokoloff/ML-data_AA/Oct03_80K_train.h5 in 12.76 s\n",
      "Loaded /share/lazy/will/ML_mdsA/June30_2020_80k_1.h5 in 12.74 s\n",
      "Constructing 240000 event dataset took 6.135 s\n",
      "Loading data...\n",
      "Loaded /share/lazy/sokoloff/ML-data_AA/Oct03_20K_val.h5 in 3.015 s\n",
      "Constructing 9984 event dataset took 0.1226 s\n"
     ]
    },
    {
     "data": {
      "text/plain": [
       "\"\\n## This is used when training with the new KDE\\ntrain_loader = collect_data_poca('/share/lazy/will/data/June30_2020_80k_1.h5',\\n                            '/share/lazy/will/data/June30_2020_80k_3.h5',\\n                            batch_size=args.batch_size,\\n                            device=device,\\n                            masking=True, shuffle=True,\\n                           ## slice = slice(0,18000)\\n                           )\\n\\nval_loader = collect_data_poca('/share/lazy/sokoloff/ML-data_AA/20K_POCA_kernel_evts_200926.h5',\\n                            batch_size=args.batch_size,\\n                            device=device,\\n                            masking=True, shuffle=True,\\n                            ##slice = slice(18000,None)\\n                           )\\n\""
      ]
     },
     "execution_count": 6,
     "metadata": {},
     "output_type": "execute_result"
    }
   ],
   "source": [
    "## newer vernacular\n",
    "## Training dataset. You can put as many files here as desired.\n",
    "##  set the option load_XandXsq = True to use both DKE and KDE^2 as input features\n",
    "\n",
    "## This is used when training with the original KDE\n",
    "train_loader = collect_data('/share/lazy/sokoloff/ML-data_A/Aug14_80K_train.h5',\n",
    "                             '/share/lazy/sokoloff/ML-data_AA/Oct03_80K_train.h5',\n",
    "#                             '/share/lazy/sokoloff/ML-data_AA/Oct03_40K_train.h5',\n",
    "                             '/share/lazy/will/ML_mdsA/June30_2020_80k_1.h5',\n",
    "#                             '/share/lazy/will/ML_mdsA/June30_2020_80k_3.h5',\n",
    "#                             '/share/lazy/will/ML_mdsA/June30_2020_80k_4.h5',\n",
    "#                             '/share/lazy/will/ML_mdsA/June30_2020_80k_5.h5',\n",
    "#                             '/share/lazy/will/ML_mdsA/June30_2020_80k_6.h5',\n",
    "#                             '/share/lazy/will/ML_mdsA/June30_2020_80k_7.h5',\n",
    "#                             '/share/lazy/will/ML_mdsA/June30_2020_80k_8.h5',\n",
    "#                             '/share/lazy/will/ML_mdsA/June30_2020_80k_9.h5',\n",
    "                            #'/share/lazy/sokoloff/ML-data_AA/Oct03_80K2_train.h5',\n",
    "                             batch_size=args.batch_size,\n",
    "## if we are using a larger dataset (240K events, with the datasets above, and 11 GB  of GPU memory),\n",
    "## not the dataset will overflow the GPU memory; device=device will allow the data to move back\n",
    "## and forth between the CPU and GPU memory. While this allows use of a larger dataset, it slows\n",
    "## down performance by about 10%.  So comment out when not needed.\n",
    "                            device=device,\n",
    "                            masking=True, shuffle=True,\n",
    "                            load_XandXsq=False,\n",
    "                            load_xy=False)\n",
    "\n",
    "# Validation dataset. You can slice to reduce the size.\n",
    "## dataAA -> /share/lazy/sokoloff/ML-data_AA/\n",
    "val_loader = collect_data('/share/lazy/sokoloff/ML-data_AA/Oct03_20K_val.h5',\n",
    "## mds val_loader = collect_data('dataAA/HLT1CPU_1kevts_val.h5',\n",
    "\n",
    "                          batch_size=args.batch_size,\n",
    "                          slice=slice(256 * 39),\n",
    "                          device=device,\n",
    "                          masking=True, shuffle=False,\n",
    "                          load_XandXsq=False,\n",
    "                          load_xy=False)\n",
    "\n",
    "'''\n",
    "## This is used when training with the new KDE\n",
    "train_loader = collect_data_poca('/share/lazy/will/data/June30_2020_80k_1.h5',\n",
    "                            '/share/lazy/will/data/June30_2020_80k_3.h5',\n",
    "                            batch_size=args.batch_size,\n",
    "                            device=device,\n",
    "                            masking=True, shuffle=True,\n",
    "                           ## slice = slice(0,18000)\n",
    "                           )\n",
    "\n",
    "val_loader = collect_data_poca('/share/lazy/sokoloff/ML-data_AA/20K_POCA_kernel_evts_200926.h5',\n",
    "                            batch_size=args.batch_size,\n",
    "                            device=device,\n",
    "                            masking=True, shuffle=True,\n",
    "                            ##slice = slice(18000,None)\n",
    "                           )\n",
    "'''"
   ]
  },
  {
   "cell_type": "markdown",
   "metadata": {},
   "source": [
    "# Preparing the model"
   ]
  },
  {
   "cell_type": "markdown",
   "metadata": {},
   "source": [
    "Prepare a model, use multiple GPUs if they are VISIBLE, and move the model to the device."
   ]
  },
  {
   "cell_type": "code",
   "execution_count": 7,
   "metadata": {
    "scrolled": true
   },
   "outputs": [
    {
     "name": "stderr",
     "output_type": "stream",
     "text": [
      "WARNING:root:Malformed experiment 'ML'. Detailed error Yaml file '/share/lazy/pv-finder_model_repo/ML/meta.yaml' does not exist.\n",
      "Traceback (most recent call last):\n",
      "  File \"/home/michael24peters/.local/lib/python3.7/site-packages/mlflow/store/tracking/file_store.py\", line 197, in list_experiments\n",
      "    experiment = self._get_experiment(exp_id, view_type)\n",
      "  File \"/home/michael24peters/.local/lib/python3.7/site-packages/mlflow/store/tracking/file_store.py\", line 260, in _get_experiment\n",
      "    meta = read_yaml(experiment_dir, FileStore.META_DATA_FILE_NAME)\n",
      "  File \"/home/michael24peters/.local/lib/python3.7/site-packages/mlflow/utils/file_utils.py\", line 167, in read_yaml\n",
      "    raise MissingConfigException(\"Yaml file '%s' does not exist.\" % file_path)\n",
      "mlflow.exceptions.MissingConfigException: Yaml file '/share/lazy/pv-finder_model_repo/ML/meta.yaml' does not exist.\n"
     ]
    }
   ],
   "source": [
    "# Set model to use (defined above)\n",
    "model = ModelA()\n",
    "\n",
    "# Prints out layout of each model (keep commented out)\n",
    "##summary(model, input_size=(4, 4000))\n",
    "##print(model.parameters)\n",
    "\n",
    "# Sets save directory for mlflow\n",
    "mlflow.tracking.set_tracking_uri('file:/share/lazy/pv-finder_model_repo')\n",
    "mlflow.set_experiment('Four Feature AllCNN')"
   ]
  },
  {
   "cell_type": "code",
   "execution_count": 8,
   "metadata": {
    "scrolled": true
   },
   "outputs": [
    {
     "name": "stdout",
     "output_type": "stream",
     "text": [
      "Let's use 1 GPUs!\n"
     ]
    }
   ],
   "source": [
    "print(\"Let's use\", torch.cuda.device_count(), \"GPUs!\")\n",
    "if torch.cuda.device_count() > 1:\n",
    "    model = torch.nn.DataParallel(model)"
   ]
  },
  {
   "cell_type": "markdown",
   "metadata": {},
   "source": [
    "Let's move the model's weight matricies to the GPU:"
   ]
  },
  {
   "cell_type": "code",
   "execution_count": 9,
   "metadata": {},
   "outputs": [
    {
     "name": "stdout",
     "output_type": "stream",
     "text": [
      "we also froze 0 weights\n",
      "Of the 35.0 parameter layers to update in the current model, 35.0 were loaded\n"
     ]
    }
   ],
   "source": [
    "loss = Loss(epsilon=1e-5,coefficient=2.5)\n",
    "optimizer = torch.optim.Adam(model.parameters(), lr=args.lr)\n",
    "\n",
    "##  use the first five layers from a pre-existing model\n",
    "##  see example at https://discuss.pytorch.org/t/how-to-load-part-of-pre-trained-model/1113\n",
    "##   ML -> /share/lazy/sokoloff/ML\n",
    "\n",
    "# When loading pretrained models, use this code; otherwise, comment it out\n",
    "# For other pretrained models, go to MLFlow and find the path for \"run_stats.pyt\"\n",
    "pretrained_dict = '/share/lazy/pv-finder_model_repo/12/c1c6ae0fb0b24eb0a85cd76eea7f5ef6/artifacts/run_stats.pyt'\n",
    "load_full_state(model, optimizer, pretrained_dict)"
   ]
  },
  {
   "cell_type": "markdown",
   "metadata": {},
   "source": [
    "Let's move the model's weight matricies to the GPU:"
   ]
  },
  {
   "cell_type": "code",
   "execution_count": 10,
   "metadata": {
    "scrolled": true
   },
   "outputs": [
    {
     "data": {
      "text/plain": [
       "ACN_2i4_10L_4S_BN(\n",
       "  (conv1): Conv(\n",
       "    (0): Conv1d(1, 20, kernel_size=(25,), stride=(1,), padding=(12,))\n",
       "    (1): BatchNorm1d(20, eps=1e-05, momentum=0.1, affine=True, track_running_stats=True)\n",
       "    (2): Dropout(p=0.15, inplace=False)\n",
       "    (3): LeakyReLU(negative_slope=0.01)\n",
       "  )\n",
       "  (conv2): Conv(\n",
       "    (0): Conv1d(20, 10, kernel_size=(15,), stride=(1,), padding=(7,))\n",
       "    (1): BatchNorm1d(10, eps=1e-05, momentum=0.1, affine=True, track_running_stats=True)\n",
       "    (2): Dropout(p=0.15, inplace=False)\n",
       "    (3): LeakyReLU(negative_slope=0.01)\n",
       "  )\n",
       "  (conv3): Conv(\n",
       "    (0): Conv1d(30, 10, kernel_size=(15,), stride=(1,), padding=(7,))\n",
       "    (1): BatchNorm1d(10, eps=1e-05, momentum=0.1, affine=True, track_running_stats=True)\n",
       "    (2): Dropout(p=0.15, inplace=False)\n",
       "    (3): LeakyReLU(negative_slope=0.01)\n",
       "  )\n",
       "  (conv4): Conv(\n",
       "    (0): Conv1d(10, 10, kernel_size=(15,), stride=(1,), padding=(7,))\n",
       "    (1): BatchNorm1d(10, eps=1e-05, momentum=0.1, affine=True, track_running_stats=True)\n",
       "    (2): Dropout(p=0.15, inplace=False)\n",
       "    (3): LeakyReLU(negative_slope=0.01)\n",
       "  )\n",
       "  (conv5): Conv(\n",
       "    (0): Conv1d(20, 10, kernel_size=(15,), stride=(1,), padding=(7,))\n",
       "    (1): BatchNorm1d(10, eps=1e-05, momentum=0.1, affine=True, track_running_stats=True)\n",
       "    (2): Dropout(p=0.15, inplace=False)\n",
       "    (3): LeakyReLU(negative_slope=0.01)\n",
       "  )\n",
       "  (conv6): Conv(\n",
       "    (0): Conv1d(10, 10, kernel_size=(15,), stride=(1,), padding=(7,))\n",
       "    (1): BatchNorm1d(10, eps=1e-05, momentum=0.1, affine=True, track_running_stats=True)\n",
       "    (2): Dropout(p=0.15, inplace=False)\n",
       "    (3): LeakyReLU(negative_slope=0.01)\n",
       "  )\n",
       "  (conv7): Conv(\n",
       "    (0): Conv1d(20, 7, kernel_size=(15,), stride=(1,), padding=(7,))\n",
       "    (1): BatchNorm1d(7, eps=1e-05, momentum=0.1, affine=True, track_running_stats=True)\n",
       "    (2): Dropout(p=0.15, inplace=False)\n",
       "    (3): LeakyReLU(negative_slope=0.01)\n",
       "  )\n",
       "  (conv8): Conv(\n",
       "    (0): Conv1d(7, 5, kernel_size=(9,), stride=(1,), padding=(4,))\n",
       "    (1): BatchNorm1d(5, eps=1e-05, momentum=0.1, affine=True, track_running_stats=True)\n",
       "    (2): Dropout(p=0.15, inplace=False)\n",
       "    (3): LeakyReLU(negative_slope=0.01)\n",
       "  )\n",
       "  (conv9): Conv(\n",
       "    (0): Conv1d(12, 1, kernel_size=(5,), stride=(1,), padding=(2,))\n",
       "    (1): BatchNorm1d(1, eps=1e-05, momentum=0.1, affine=True, track_running_stats=True)\n",
       "    (2): Dropout(p=0.15, inplace=False)\n",
       "    (3): LeakyReLU(negative_slope=0.01)\n",
       "  )\n",
       "  (conv10): Conv(\n",
       "    (0): Conv1d(1, 1, kernel_size=(91,), stride=(1,), padding=(45,))\n",
       "    (1): BatchNorm1d(1, eps=1e-05, momentum=0.1, affine=True, track_running_stats=True)\n",
       "    (2): Dropout(p=0.15, inplace=False)\n",
       "    (3): LeakyReLU(negative_slope=0.01)\n",
       "  )\n",
       ")"
      ]
     },
     "execution_count": 10,
     "metadata": {},
     "output_type": "execute_result"
    }
   ],
   "source": [
    "model.to(device)"
   ]
  },
  {
   "cell_type": "markdown",
   "metadata": {},
   "source": [
    "## Train \n",
    "\n",
    "\n",
    "\n",
    "The body of this loop runs once per epoch. Results is a named tuple of values (loss per epoch for training and validation, time each). Start by setting up a plot first:"
   ]
  },
  {
   "cell_type": "code",
   "execution_count": 11,
   "metadata": {},
   "outputs": [
    {
     "data": {
      "application/javascript": [
       "/* Put everything inside the global mpl namespace */\n",
       "window.mpl = {};\n",
       "\n",
       "\n",
       "mpl.get_websocket_type = function() {\n",
       "    if (typeof(WebSocket) !== 'undefined') {\n",
       "        return WebSocket;\n",
       "    } else if (typeof(MozWebSocket) !== 'undefined') {\n",
       "        return MozWebSocket;\n",
       "    } else {\n",
       "        alert('Your browser does not have WebSocket support. ' +\n",
       "              'Please try Chrome, Safari or Firefox ≥ 6. ' +\n",
       "              'Firefox 4 and 5 are also supported but you ' +\n",
       "              'have to enable WebSockets in about:config.');\n",
       "    };\n",
       "}\n",
       "\n",
       "mpl.figure = function(figure_id, websocket, ondownload, parent_element) {\n",
       "    this.id = figure_id;\n",
       "\n",
       "    this.ws = websocket;\n",
       "\n",
       "    this.supports_binary = (this.ws.binaryType != undefined);\n",
       "\n",
       "    if (!this.supports_binary) {\n",
       "        var warnings = document.getElementById(\"mpl-warnings\");\n",
       "        if (warnings) {\n",
       "            warnings.style.display = 'block';\n",
       "            warnings.textContent = (\n",
       "                \"This browser does not support binary websocket messages. \" +\n",
       "                    \"Performance may be slow.\");\n",
       "        }\n",
       "    }\n",
       "\n",
       "    this.imageObj = new Image();\n",
       "\n",
       "    this.context = undefined;\n",
       "    this.message = undefined;\n",
       "    this.canvas = undefined;\n",
       "    this.rubberband_canvas = undefined;\n",
       "    this.rubberband_context = undefined;\n",
       "    this.format_dropdown = undefined;\n",
       "\n",
       "    this.image_mode = 'full';\n",
       "\n",
       "    this.root = $('<div/>');\n",
       "    this._root_extra_style(this.root)\n",
       "    this.root.attr('style', 'display: inline-block');\n",
       "\n",
       "    $(parent_element).append(this.root);\n",
       "\n",
       "    this._init_header(this);\n",
       "    this._init_canvas(this);\n",
       "    this._init_toolbar(this);\n",
       "\n",
       "    var fig = this;\n",
       "\n",
       "    this.waiting = false;\n",
       "\n",
       "    this.ws.onopen =  function () {\n",
       "            fig.send_message(\"supports_binary\", {value: fig.supports_binary});\n",
       "            fig.send_message(\"send_image_mode\", {});\n",
       "            if (mpl.ratio != 1) {\n",
       "                fig.send_message(\"set_dpi_ratio\", {'dpi_ratio': mpl.ratio});\n",
       "            }\n",
       "            fig.send_message(\"refresh\", {});\n",
       "        }\n",
       "\n",
       "    this.imageObj.onload = function() {\n",
       "            if (fig.image_mode == 'full') {\n",
       "                // Full images could contain transparency (where diff images\n",
       "                // almost always do), so we need to clear the canvas so that\n",
       "                // there is no ghosting.\n",
       "                fig.context.clearRect(0, 0, fig.canvas.width, fig.canvas.height);\n",
       "            }\n",
       "            fig.context.drawImage(fig.imageObj, 0, 0);\n",
       "        };\n",
       "\n",
       "    this.imageObj.onunload = function() {\n",
       "        fig.ws.close();\n",
       "    }\n",
       "\n",
       "    this.ws.onmessage = this._make_on_message_function(this);\n",
       "\n",
       "    this.ondownload = ondownload;\n",
       "}\n",
       "\n",
       "mpl.figure.prototype._init_header = function() {\n",
       "    var titlebar = $(\n",
       "        '<div class=\"ui-dialog-titlebar ui-widget-header ui-corner-all ' +\n",
       "        'ui-helper-clearfix\"/>');\n",
       "    var titletext = $(\n",
       "        '<div class=\"ui-dialog-title\" style=\"width: 100%; ' +\n",
       "        'text-align: center; padding: 3px;\"/>');\n",
       "    titlebar.append(titletext)\n",
       "    this.root.append(titlebar);\n",
       "    this.header = titletext[0];\n",
       "}\n",
       "\n",
       "\n",
       "\n",
       "mpl.figure.prototype._canvas_extra_style = function(canvas_div) {\n",
       "\n",
       "}\n",
       "\n",
       "\n",
       "mpl.figure.prototype._root_extra_style = function(canvas_div) {\n",
       "\n",
       "}\n",
       "\n",
       "mpl.figure.prototype._init_canvas = function() {\n",
       "    var fig = this;\n",
       "\n",
       "    var canvas_div = $('<div/>');\n",
       "\n",
       "    canvas_div.attr('style', 'position: relative; clear: both; outline: 0');\n",
       "\n",
       "    function canvas_keyboard_event(event) {\n",
       "        return fig.key_event(event, event['data']);\n",
       "    }\n",
       "\n",
       "    canvas_div.keydown('key_press', canvas_keyboard_event);\n",
       "    canvas_div.keyup('key_release', canvas_keyboard_event);\n",
       "    this.canvas_div = canvas_div\n",
       "    this._canvas_extra_style(canvas_div)\n",
       "    this.root.append(canvas_div);\n",
       "\n",
       "    var canvas = $('<canvas/>');\n",
       "    canvas.addClass('mpl-canvas');\n",
       "    canvas.attr('style', \"left: 0; top: 0; z-index: 0; outline: 0\")\n",
       "\n",
       "    this.canvas = canvas[0];\n",
       "    this.context = canvas[0].getContext(\"2d\");\n",
       "\n",
       "    var backingStore = this.context.backingStorePixelRatio ||\n",
       "\tthis.context.webkitBackingStorePixelRatio ||\n",
       "\tthis.context.mozBackingStorePixelRatio ||\n",
       "\tthis.context.msBackingStorePixelRatio ||\n",
       "\tthis.context.oBackingStorePixelRatio ||\n",
       "\tthis.context.backingStorePixelRatio || 1;\n",
       "\n",
       "    mpl.ratio = (window.devicePixelRatio || 1) / backingStore;\n",
       "\n",
       "    var rubberband = $('<canvas/>');\n",
       "    rubberband.attr('style', \"position: absolute; left: 0; top: 0; z-index: 1;\")\n",
       "\n",
       "    var pass_mouse_events = true;\n",
       "\n",
       "    canvas_div.resizable({\n",
       "        start: function(event, ui) {\n",
       "            pass_mouse_events = false;\n",
       "        },\n",
       "        resize: function(event, ui) {\n",
       "            fig.request_resize(ui.size.width, ui.size.height);\n",
       "        },\n",
       "        stop: function(event, ui) {\n",
       "            pass_mouse_events = true;\n",
       "            fig.request_resize(ui.size.width, ui.size.height);\n",
       "        },\n",
       "    });\n",
       "\n",
       "    function mouse_event_fn(event) {\n",
       "        if (pass_mouse_events)\n",
       "            return fig.mouse_event(event, event['data']);\n",
       "    }\n",
       "\n",
       "    rubberband.mousedown('button_press', mouse_event_fn);\n",
       "    rubberband.mouseup('button_release', mouse_event_fn);\n",
       "    // Throttle sequential mouse events to 1 every 20ms.\n",
       "    rubberband.mousemove('motion_notify', mouse_event_fn);\n",
       "\n",
       "    rubberband.mouseenter('figure_enter', mouse_event_fn);\n",
       "    rubberband.mouseleave('figure_leave', mouse_event_fn);\n",
       "\n",
       "    canvas_div.on(\"wheel\", function (event) {\n",
       "        event = event.originalEvent;\n",
       "        event['data'] = 'scroll'\n",
       "        if (event.deltaY < 0) {\n",
       "            event.step = 1;\n",
       "        } else {\n",
       "            event.step = -1;\n",
       "        }\n",
       "        mouse_event_fn(event);\n",
       "    });\n",
       "\n",
       "    canvas_div.append(canvas);\n",
       "    canvas_div.append(rubberband);\n",
       "\n",
       "    this.rubberband = rubberband;\n",
       "    this.rubberband_canvas = rubberband[0];\n",
       "    this.rubberband_context = rubberband[0].getContext(\"2d\");\n",
       "    this.rubberband_context.strokeStyle = \"#000000\";\n",
       "\n",
       "    this._resize_canvas = function(width, height) {\n",
       "        // Keep the size of the canvas, canvas container, and rubber band\n",
       "        // canvas in synch.\n",
       "        canvas_div.css('width', width)\n",
       "        canvas_div.css('height', height)\n",
       "\n",
       "        canvas.attr('width', width * mpl.ratio);\n",
       "        canvas.attr('height', height * mpl.ratio);\n",
       "        canvas.attr('style', 'width: ' + width + 'px; height: ' + height + 'px;');\n",
       "\n",
       "        rubberband.attr('width', width);\n",
       "        rubberband.attr('height', height);\n",
       "    }\n",
       "\n",
       "    // Set the figure to an initial 600x600px, this will subsequently be updated\n",
       "    // upon first draw.\n",
       "    this._resize_canvas(600, 600);\n",
       "\n",
       "    // Disable right mouse context menu.\n",
       "    $(this.rubberband_canvas).bind(\"contextmenu\",function(e){\n",
       "        return false;\n",
       "    });\n",
       "\n",
       "    function set_focus () {\n",
       "        canvas.focus();\n",
       "        canvas_div.focus();\n",
       "    }\n",
       "\n",
       "    window.setTimeout(set_focus, 100);\n",
       "}\n",
       "\n",
       "mpl.figure.prototype._init_toolbar = function() {\n",
       "    var fig = this;\n",
       "\n",
       "    var nav_element = $('<div/>');\n",
       "    nav_element.attr('style', 'width: 100%');\n",
       "    this.root.append(nav_element);\n",
       "\n",
       "    // Define a callback function for later on.\n",
       "    function toolbar_event(event) {\n",
       "        return fig.toolbar_button_onclick(event['data']);\n",
       "    }\n",
       "    function toolbar_mouse_event(event) {\n",
       "        return fig.toolbar_button_onmouseover(event['data']);\n",
       "    }\n",
       "\n",
       "    for(var toolbar_ind in mpl.toolbar_items) {\n",
       "        var name = mpl.toolbar_items[toolbar_ind][0];\n",
       "        var tooltip = mpl.toolbar_items[toolbar_ind][1];\n",
       "        var image = mpl.toolbar_items[toolbar_ind][2];\n",
       "        var method_name = mpl.toolbar_items[toolbar_ind][3];\n",
       "\n",
       "        if (!name) {\n",
       "            // put a spacer in here.\n",
       "            continue;\n",
       "        }\n",
       "        var button = $('<button/>');\n",
       "        button.addClass('ui-button ui-widget ui-state-default ui-corner-all ' +\n",
       "                        'ui-button-icon-only');\n",
       "        button.attr('role', 'button');\n",
       "        button.attr('aria-disabled', 'false');\n",
       "        button.click(method_name, toolbar_event);\n",
       "        button.mouseover(tooltip, toolbar_mouse_event);\n",
       "\n",
       "        var icon_img = $('<span/>');\n",
       "        icon_img.addClass('ui-button-icon-primary ui-icon');\n",
       "        icon_img.addClass(image);\n",
       "        icon_img.addClass('ui-corner-all');\n",
       "\n",
       "        var tooltip_span = $('<span/>');\n",
       "        tooltip_span.addClass('ui-button-text');\n",
       "        tooltip_span.html(tooltip);\n",
       "\n",
       "        button.append(icon_img);\n",
       "        button.append(tooltip_span);\n",
       "\n",
       "        nav_element.append(button);\n",
       "    }\n",
       "\n",
       "    var fmt_picker_span = $('<span/>');\n",
       "\n",
       "    var fmt_picker = $('<select/>');\n",
       "    fmt_picker.addClass('mpl-toolbar-option ui-widget ui-widget-content');\n",
       "    fmt_picker_span.append(fmt_picker);\n",
       "    nav_element.append(fmt_picker_span);\n",
       "    this.format_dropdown = fmt_picker[0];\n",
       "\n",
       "    for (var ind in mpl.extensions) {\n",
       "        var fmt = mpl.extensions[ind];\n",
       "        var option = $(\n",
       "            '<option/>', {selected: fmt === mpl.default_extension}).html(fmt);\n",
       "        fmt_picker.append(option);\n",
       "    }\n",
       "\n",
       "    // Add hover states to the ui-buttons\n",
       "    $( \".ui-button\" ).hover(\n",
       "        function() { $(this).addClass(\"ui-state-hover\");},\n",
       "        function() { $(this).removeClass(\"ui-state-hover\");}\n",
       "    );\n",
       "\n",
       "    var status_bar = $('<span class=\"mpl-message\"/>');\n",
       "    nav_element.append(status_bar);\n",
       "    this.message = status_bar[0];\n",
       "}\n",
       "\n",
       "mpl.figure.prototype.request_resize = function(x_pixels, y_pixels) {\n",
       "    // Request matplotlib to resize the figure. Matplotlib will then trigger a resize in the client,\n",
       "    // which will in turn request a refresh of the image.\n",
       "    this.send_message('resize', {'width': x_pixels, 'height': y_pixels});\n",
       "}\n",
       "\n",
       "mpl.figure.prototype.send_message = function(type, properties) {\n",
       "    properties['type'] = type;\n",
       "    properties['figure_id'] = this.id;\n",
       "    this.ws.send(JSON.stringify(properties));\n",
       "}\n",
       "\n",
       "mpl.figure.prototype.send_draw_message = function() {\n",
       "    if (!this.waiting) {\n",
       "        this.waiting = true;\n",
       "        this.ws.send(JSON.stringify({type: \"draw\", figure_id: this.id}));\n",
       "    }\n",
       "}\n",
       "\n",
       "\n",
       "mpl.figure.prototype.handle_save = function(fig, msg) {\n",
       "    var format_dropdown = fig.format_dropdown;\n",
       "    var format = format_dropdown.options[format_dropdown.selectedIndex].value;\n",
       "    fig.ondownload(fig, format);\n",
       "}\n",
       "\n",
       "\n",
       "mpl.figure.prototype.handle_resize = function(fig, msg) {\n",
       "    var size = msg['size'];\n",
       "    if (size[0] != fig.canvas.width || size[1] != fig.canvas.height) {\n",
       "        fig._resize_canvas(size[0], size[1]);\n",
       "        fig.send_message(\"refresh\", {});\n",
       "    };\n",
       "}\n",
       "\n",
       "mpl.figure.prototype.handle_rubberband = function(fig, msg) {\n",
       "    var x0 = msg['x0'] / mpl.ratio;\n",
       "    var y0 = (fig.canvas.height - msg['y0']) / mpl.ratio;\n",
       "    var x1 = msg['x1'] / mpl.ratio;\n",
       "    var y1 = (fig.canvas.height - msg['y1']) / mpl.ratio;\n",
       "    x0 = Math.floor(x0) + 0.5;\n",
       "    y0 = Math.floor(y0) + 0.5;\n",
       "    x1 = Math.floor(x1) + 0.5;\n",
       "    y1 = Math.floor(y1) + 0.5;\n",
       "    var min_x = Math.min(x0, x1);\n",
       "    var min_y = Math.min(y0, y1);\n",
       "    var width = Math.abs(x1 - x0);\n",
       "    var height = Math.abs(y1 - y0);\n",
       "\n",
       "    fig.rubberband_context.clearRect(\n",
       "        0, 0, fig.canvas.width / mpl.ratio, fig.canvas.height / mpl.ratio);\n",
       "\n",
       "    fig.rubberband_context.strokeRect(min_x, min_y, width, height);\n",
       "}\n",
       "\n",
       "mpl.figure.prototype.handle_figure_label = function(fig, msg) {\n",
       "    // Updates the figure title.\n",
       "    fig.header.textContent = msg['label'];\n",
       "}\n",
       "\n",
       "mpl.figure.prototype.handle_cursor = function(fig, msg) {\n",
       "    var cursor = msg['cursor'];\n",
       "    switch(cursor)\n",
       "    {\n",
       "    case 0:\n",
       "        cursor = 'pointer';\n",
       "        break;\n",
       "    case 1:\n",
       "        cursor = 'default';\n",
       "        break;\n",
       "    case 2:\n",
       "        cursor = 'crosshair';\n",
       "        break;\n",
       "    case 3:\n",
       "        cursor = 'move';\n",
       "        break;\n",
       "    }\n",
       "    fig.rubberband_canvas.style.cursor = cursor;\n",
       "}\n",
       "\n",
       "mpl.figure.prototype.handle_message = function(fig, msg) {\n",
       "    fig.message.textContent = msg['message'];\n",
       "}\n",
       "\n",
       "mpl.figure.prototype.handle_draw = function(fig, msg) {\n",
       "    // Request the server to send over a new figure.\n",
       "    fig.send_draw_message();\n",
       "}\n",
       "\n",
       "mpl.figure.prototype.handle_image_mode = function(fig, msg) {\n",
       "    fig.image_mode = msg['mode'];\n",
       "}\n",
       "\n",
       "mpl.figure.prototype.updated_canvas_event = function() {\n",
       "    // Called whenever the canvas gets updated.\n",
       "    this.send_message(\"ack\", {});\n",
       "}\n",
       "\n",
       "// A function to construct a web socket function for onmessage handling.\n",
       "// Called in the figure constructor.\n",
       "mpl.figure.prototype._make_on_message_function = function(fig) {\n",
       "    return function socket_on_message(evt) {\n",
       "        if (evt.data instanceof Blob) {\n",
       "            /* FIXME: We get \"Resource interpreted as Image but\n",
       "             * transferred with MIME type text/plain:\" errors on\n",
       "             * Chrome.  But how to set the MIME type?  It doesn't seem\n",
       "             * to be part of the websocket stream */\n",
       "            evt.data.type = \"image/png\";\n",
       "\n",
       "            /* Free the memory for the previous frames */\n",
       "            if (fig.imageObj.src) {\n",
       "                (window.URL || window.webkitURL).revokeObjectURL(\n",
       "                    fig.imageObj.src);\n",
       "            }\n",
       "\n",
       "            fig.imageObj.src = (window.URL || window.webkitURL).createObjectURL(\n",
       "                evt.data);\n",
       "            fig.updated_canvas_event();\n",
       "            fig.waiting = false;\n",
       "            return;\n",
       "        }\n",
       "        else if (typeof evt.data === 'string' && evt.data.slice(0, 21) == \"data:image/png;base64\") {\n",
       "            fig.imageObj.src = evt.data;\n",
       "            fig.updated_canvas_event();\n",
       "            fig.waiting = false;\n",
       "            return;\n",
       "        }\n",
       "\n",
       "        var msg = JSON.parse(evt.data);\n",
       "        var msg_type = msg['type'];\n",
       "\n",
       "        // Call the  \"handle_{type}\" callback, which takes\n",
       "        // the figure and JSON message as its only arguments.\n",
       "        try {\n",
       "            var callback = fig[\"handle_\" + msg_type];\n",
       "        } catch (e) {\n",
       "            console.log(\"No handler for the '\" + msg_type + \"' message type: \", msg);\n",
       "            return;\n",
       "        }\n",
       "\n",
       "        if (callback) {\n",
       "            try {\n",
       "                // console.log(\"Handling '\" + msg_type + \"' message: \", msg);\n",
       "                callback(fig, msg);\n",
       "            } catch (e) {\n",
       "                console.log(\"Exception inside the 'handler_\" + msg_type + \"' callback:\", e, e.stack, msg);\n",
       "            }\n",
       "        }\n",
       "    };\n",
       "}\n",
       "\n",
       "// from http://stackoverflow.com/questions/1114465/getting-mouse-location-in-canvas\n",
       "mpl.findpos = function(e) {\n",
       "    //this section is from http://www.quirksmode.org/js/events_properties.html\n",
       "    var targ;\n",
       "    if (!e)\n",
       "        e = window.event;\n",
       "    if (e.target)\n",
       "        targ = e.target;\n",
       "    else if (e.srcElement)\n",
       "        targ = e.srcElement;\n",
       "    if (targ.nodeType == 3) // defeat Safari bug\n",
       "        targ = targ.parentNode;\n",
       "\n",
       "    // jQuery normalizes the pageX and pageY\n",
       "    // pageX,Y are the mouse positions relative to the document\n",
       "    // offset() returns the position of the element relative to the document\n",
       "    var x = e.pageX - $(targ).offset().left;\n",
       "    var y = e.pageY - $(targ).offset().top;\n",
       "\n",
       "    return {\"x\": x, \"y\": y};\n",
       "};\n",
       "\n",
       "/*\n",
       " * return a copy of an object with only non-object keys\n",
       " * we need this to avoid circular references\n",
       " * http://stackoverflow.com/a/24161582/3208463\n",
       " */\n",
       "function simpleKeys (original) {\n",
       "  return Object.keys(original).reduce(function (obj, key) {\n",
       "    if (typeof original[key] !== 'object')\n",
       "        obj[key] = original[key]\n",
       "    return obj;\n",
       "  }, {});\n",
       "}\n",
       "\n",
       "mpl.figure.prototype.mouse_event = function(event, name) {\n",
       "    var canvas_pos = mpl.findpos(event)\n",
       "\n",
       "    if (name === 'button_press')\n",
       "    {\n",
       "        this.canvas.focus();\n",
       "        this.canvas_div.focus();\n",
       "    }\n",
       "\n",
       "    var x = canvas_pos.x * mpl.ratio;\n",
       "    var y = canvas_pos.y * mpl.ratio;\n",
       "\n",
       "    this.send_message(name, {x: x, y: y, button: event.button,\n",
       "                             step: event.step,\n",
       "                             guiEvent: simpleKeys(event)});\n",
       "\n",
       "    /* This prevents the web browser from automatically changing to\n",
       "     * the text insertion cursor when the button is pressed.  We want\n",
       "     * to control all of the cursor setting manually through the\n",
       "     * 'cursor' event from matplotlib */\n",
       "    event.preventDefault();\n",
       "    return false;\n",
       "}\n",
       "\n",
       "mpl.figure.prototype._key_event_extra = function(event, name) {\n",
       "    // Handle any extra behaviour associated with a key event\n",
       "}\n",
       "\n",
       "mpl.figure.prototype.key_event = function(event, name) {\n",
       "\n",
       "    // Prevent repeat events\n",
       "    if (name == 'key_press')\n",
       "    {\n",
       "        if (event.which === this._key)\n",
       "            return;\n",
       "        else\n",
       "            this._key = event.which;\n",
       "    }\n",
       "    if (name == 'key_release')\n",
       "        this._key = null;\n",
       "\n",
       "    var value = '';\n",
       "    if (event.ctrlKey && event.which != 17)\n",
       "        value += \"ctrl+\";\n",
       "    if (event.altKey && event.which != 18)\n",
       "        value += \"alt+\";\n",
       "    if (event.shiftKey && event.which != 16)\n",
       "        value += \"shift+\";\n",
       "\n",
       "    value += 'k';\n",
       "    value += event.which.toString();\n",
       "\n",
       "    this._key_event_extra(event, name);\n",
       "\n",
       "    this.send_message(name, {key: value,\n",
       "                             guiEvent: simpleKeys(event)});\n",
       "    return false;\n",
       "}\n",
       "\n",
       "mpl.figure.prototype.toolbar_button_onclick = function(name) {\n",
       "    if (name == 'download') {\n",
       "        this.handle_save(this, null);\n",
       "    } else {\n",
       "        this.send_message(\"toolbar_button\", {name: name});\n",
       "    }\n",
       "};\n",
       "\n",
       "mpl.figure.prototype.toolbar_button_onmouseover = function(tooltip) {\n",
       "    this.message.textContent = tooltip;\n",
       "};\n",
       "mpl.toolbar_items = [[\"Home\", \"Reset original view\", \"fa fa-home icon-home\", \"home\"], [\"Back\", \"Back to previous view\", \"fa fa-arrow-left icon-arrow-left\", \"back\"], [\"Forward\", \"Forward to next view\", \"fa fa-arrow-right icon-arrow-right\", \"forward\"], [\"\", \"\", \"\", \"\"], [\"Pan\", \"Pan axes with left mouse, zoom with right\", \"fa fa-arrows icon-move\", \"pan\"], [\"Zoom\", \"Zoom to rectangle\", \"fa fa-square-o icon-check-empty\", \"zoom\"], [\"\", \"\", \"\", \"\"], [\"Download\", \"Download plot\", \"fa fa-floppy-o icon-save\", \"download\"]];\n",
       "\n",
       "mpl.extensions = [\"eps\", \"jpeg\", \"pdf\", \"png\", \"ps\", \"raw\", \"svg\", \"tif\"];\n",
       "\n",
       "mpl.default_extension = \"png\";var comm_websocket_adapter = function(comm) {\n",
       "    // Create a \"websocket\"-like object which calls the given IPython comm\n",
       "    // object with the appropriate methods. Currently this is a non binary\n",
       "    // socket, so there is still some room for performance tuning.\n",
       "    var ws = {};\n",
       "\n",
       "    ws.close = function() {\n",
       "        comm.close()\n",
       "    };\n",
       "    ws.send = function(m) {\n",
       "        //console.log('sending', m);\n",
       "        comm.send(m);\n",
       "    };\n",
       "    // Register the callback with on_msg.\n",
       "    comm.on_msg(function(msg) {\n",
       "        //console.log('receiving', msg['content']['data'], msg);\n",
       "        // Pass the mpl event to the overridden (by mpl) onmessage function.\n",
       "        ws.onmessage(msg['content']['data'])\n",
       "    });\n",
       "    return ws;\n",
       "}\n",
       "\n",
       "mpl.mpl_figure_comm = function(comm, msg) {\n",
       "    // This is the function which gets called when the mpl process\n",
       "    // starts-up an IPython Comm through the \"matplotlib\" channel.\n",
       "\n",
       "    var id = msg.content.data.id;\n",
       "    // Get hold of the div created by the display call when the Comm\n",
       "    // socket was opened in Python.\n",
       "    var element = $(\"#\" + id);\n",
       "    var ws_proxy = comm_websocket_adapter(comm)\n",
       "\n",
       "    function ondownload(figure, format) {\n",
       "        window.open(figure.imageObj.src);\n",
       "    }\n",
       "\n",
       "    var fig = new mpl.figure(id, ws_proxy,\n",
       "                           ondownload,\n",
       "                           element.get(0));\n",
       "\n",
       "    // Call onopen now - mpl needs it, as it is assuming we've passed it a real\n",
       "    // web socket which is closed, not our websocket->open comm proxy.\n",
       "    ws_proxy.onopen();\n",
       "\n",
       "    fig.parent_element = element.get(0);\n",
       "    fig.cell_info = mpl.find_output_cell(\"<div id='\" + id + \"'></div>\");\n",
       "    if (!fig.cell_info) {\n",
       "        console.error(\"Failed to find cell for figure\", id, fig);\n",
       "        return;\n",
       "    }\n",
       "\n",
       "    var output_index = fig.cell_info[2]\n",
       "    var cell = fig.cell_info[0];\n",
       "\n",
       "};\n",
       "\n",
       "mpl.figure.prototype.handle_close = function(fig, msg) {\n",
       "    var width = fig.canvas.width/mpl.ratio\n",
       "    fig.root.unbind('remove')\n",
       "\n",
       "    // Update the output cell to use the data from the current canvas.\n",
       "    fig.push_to_output();\n",
       "    var dataURL = fig.canvas.toDataURL();\n",
       "    // Re-enable the keyboard manager in IPython - without this line, in FF,\n",
       "    // the notebook keyboard shortcuts fail.\n",
       "    IPython.keyboard_manager.enable()\n",
       "    $(fig.parent_element).html('<img src=\"' + dataURL + '\" width=\"' + width + '\">');\n",
       "    fig.close_ws(fig, msg);\n",
       "}\n",
       "\n",
       "mpl.figure.prototype.close_ws = function(fig, msg){\n",
       "    fig.send_message('closing', msg);\n",
       "    // fig.ws.close()\n",
       "}\n",
       "\n",
       "mpl.figure.prototype.push_to_output = function(remove_interactive) {\n",
       "    // Turn the data on the canvas into data in the output cell.\n",
       "    var width = this.canvas.width/mpl.ratio\n",
       "    var dataURL = this.canvas.toDataURL();\n",
       "    this.cell_info[1]['text/html'] = '<img src=\"' + dataURL + '\" width=\"' + width + '\">';\n",
       "}\n",
       "\n",
       "mpl.figure.prototype.updated_canvas_event = function() {\n",
       "    // Tell IPython that the notebook contents must change.\n",
       "    IPython.notebook.set_dirty(true);\n",
       "    this.send_message(\"ack\", {});\n",
       "    var fig = this;\n",
       "    // Wait a second, then push the new image to the DOM so\n",
       "    // that it is saved nicely (might be nice to debounce this).\n",
       "    setTimeout(function () { fig.push_to_output() }, 1000);\n",
       "}\n",
       "\n",
       "mpl.figure.prototype._init_toolbar = function() {\n",
       "    var fig = this;\n",
       "\n",
       "    var nav_element = $('<div/>');\n",
       "    nav_element.attr('style', 'width: 100%');\n",
       "    this.root.append(nav_element);\n",
       "\n",
       "    // Define a callback function for later on.\n",
       "    function toolbar_event(event) {\n",
       "        return fig.toolbar_button_onclick(event['data']);\n",
       "    }\n",
       "    function toolbar_mouse_event(event) {\n",
       "        return fig.toolbar_button_onmouseover(event['data']);\n",
       "    }\n",
       "\n",
       "    for(var toolbar_ind in mpl.toolbar_items){\n",
       "        var name = mpl.toolbar_items[toolbar_ind][0];\n",
       "        var tooltip = mpl.toolbar_items[toolbar_ind][1];\n",
       "        var image = mpl.toolbar_items[toolbar_ind][2];\n",
       "        var method_name = mpl.toolbar_items[toolbar_ind][3];\n",
       "\n",
       "        if (!name) { continue; };\n",
       "\n",
       "        var button = $('<button class=\"btn btn-default\" href=\"#\" title=\"' + name + '\"><i class=\"fa ' + image + ' fa-lg\"></i></button>');\n",
       "        button.click(method_name, toolbar_event);\n",
       "        button.mouseover(tooltip, toolbar_mouse_event);\n",
       "        nav_element.append(button);\n",
       "    }\n",
       "\n",
       "    // Add the status bar.\n",
       "    var status_bar = $('<span class=\"mpl-message\" style=\"text-align:right; float: right;\"/>');\n",
       "    nav_element.append(status_bar);\n",
       "    this.message = status_bar[0];\n",
       "\n",
       "    // Add the close button to the window.\n",
       "    var buttongrp = $('<div class=\"btn-group inline pull-right\"></div>');\n",
       "    var button = $('<button class=\"btn btn-mini btn-primary\" href=\"#\" title=\"Stop Interaction\"><i class=\"fa fa-power-off icon-remove icon-large\"></i></button>');\n",
       "    button.click(function (evt) { fig.handle_close(fig, {}); } );\n",
       "    button.mouseover('Stop Interaction', toolbar_mouse_event);\n",
       "    buttongrp.append(button);\n",
       "    var titlebar = this.root.find($('.ui-dialog-titlebar'));\n",
       "    titlebar.prepend(buttongrp);\n",
       "}\n",
       "\n",
       "mpl.figure.prototype._root_extra_style = function(el){\n",
       "    var fig = this\n",
       "    el.on(\"remove\", function(){\n",
       "\tfig.close_ws(fig, {});\n",
       "    });\n",
       "}\n",
       "\n",
       "mpl.figure.prototype._canvas_extra_style = function(el){\n",
       "    // this is important to make the div 'focusable\n",
       "    el.attr('tabindex', 0)\n",
       "    // reach out to IPython and tell the keyboard manager to turn it's self\n",
       "    // off when our div gets focus\n",
       "\n",
       "    // location in version 3\n",
       "    if (IPython.notebook.keyboard_manager) {\n",
       "        IPython.notebook.keyboard_manager.register_events(el);\n",
       "    }\n",
       "    else {\n",
       "        // location in version 2\n",
       "        IPython.keyboard_manager.register_events(el);\n",
       "    }\n",
       "\n",
       "}\n",
       "\n",
       "mpl.figure.prototype._key_event_extra = function(event, name) {\n",
       "    var manager = IPython.notebook.keyboard_manager;\n",
       "    if (!manager)\n",
       "        manager = IPython.keyboard_manager;\n",
       "\n",
       "    // Check for shift+enter\n",
       "    if (event.shiftKey && event.which == 13) {\n",
       "        this.canvas_div.blur();\n",
       "        // select the cell after this one\n",
       "        var index = IPython.notebook.find_cell_index(this.cell_info[0]);\n",
       "        IPython.notebook.select(index + 1);\n",
       "    }\n",
       "}\n",
       "\n",
       "mpl.figure.prototype.handle_save = function(fig, msg) {\n",
       "    fig.ondownload(fig, null);\n",
       "}\n",
       "\n",
       "\n",
       "mpl.find_output_cell = function(html_output) {\n",
       "    // Return the cell and output element which can be found *uniquely* in the notebook.\n",
       "    // Note - this is a bit hacky, but it is done because the \"notebook_saving.Notebook\"\n",
       "    // IPython event is triggered only after the cells have been serialised, which for\n",
       "    // our purposes (turning an active figure into a static one), is too late.\n",
       "    var cells = IPython.notebook.get_cells();\n",
       "    var ncells = cells.length;\n",
       "    for (var i=0; i<ncells; i++) {\n",
       "        var cell = cells[i];\n",
       "        if (cell.cell_type === 'code'){\n",
       "            for (var j=0; j<cell.output_area.outputs.length; j++) {\n",
       "                var data = cell.output_area.outputs[j];\n",
       "                if (data.data) {\n",
       "                    // IPython >= 3 moved mimebundle to data attribute of output\n",
       "                    data = data.data;\n",
       "                }\n",
       "                if (data['text/html'] == html_output) {\n",
       "                    return [cell, data, j];\n",
       "                }\n",
       "            }\n",
       "        }\n",
       "    }\n",
       "}\n",
       "\n",
       "// Register the function which deals with the matplotlib target/channel.\n",
       "// The kernel may be null if the page has been refreshed.\n",
       "if (IPython.notebook.kernel != null) {\n",
       "    IPython.notebook.kernel.comm_manager.register_target('matplotlib', mpl.mpl_figure_comm);\n",
       "}\n"
      ],
      "text/plain": [
       "<IPython.core.display.Javascript object>"
      ]
     },
     "metadata": {},
     "output_type": "display_data"
    },
    {
     "data": {
      "text/html": [
       "<img src=\"data:image/png;base64,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\" width=\"1000\">"
      ],
      "text/plain": [
       "<IPython.core.display.HTML object>"
      ]
     },
     "metadata": {},
     "output_type": "display_data"
    }
   ],
   "source": [
    "ax, tax, lax, lines = dual_train_plots()\n",
    "fig = ax.figure\n",
    "plt.tight_layout()\n",
    "# This gets built up during the run - do not rerun this cell\n",
    "results = pd.DataFrame([], columns=Results._fields)"
   ]
  },
  {
   "cell_type": "code",
   "execution_count": 12,
   "metadata": {
    "scrolled": false
   },
   "outputs": [
    {
     "name": "stdout",
     "output_type": "stream",
     "text": [
      "for model:  ACN_2i4_10L_4S_BN(\n",
      "  (conv1): Conv(\n",
      "    (0): Conv1d(1, 20, kernel_size=(25,), stride=(1,), padding=(12,))\n",
      "    (1): BatchNorm1d(20, eps=1e-05, momentum=0.1, affine=True, track_running_stats=True)\n",
      "    (2): Dropout(p=0.15, inplace=False)\n",
      "    (3): LeakyReLU(negative_slope=0.01)\n",
      "  )\n",
      "  (conv2): Conv(\n",
      "    (0): Conv1d(20, 10, kernel_size=(15,), stride=(1,), padding=(7,))\n",
      "    (1): BatchNorm1d(10, eps=1e-05, momentum=0.1, affine=True, track_running_stats=True)\n",
      "    (2): Dropout(p=0.15, inplace=False)\n",
      "    (3): LeakyReLU(negative_slope=0.01)\n",
      "  )\n",
      "  (conv3): Conv(\n",
      "    (0): Conv1d(30, 10, kernel_size=(15,), stride=(1,), padding=(7,))\n",
      "    (1): BatchNorm1d(10, eps=1e-05, momentum=0.1, affine=True, track_running_stats=True)\n",
      "    (2): Dropout(p=0.15, inplace=False)\n",
      "    (3): LeakyReLU(negative_slope=0.01)\n",
      "  )\n",
      "  (conv4): Conv(\n",
      "    (0): Conv1d(10, 10, kernel_size=(15,), stride=(1,), padding=(7,))\n",
      "    (1): BatchNorm1d(10, eps=1e-05, momentum=0.1, affine=True, track_running_stats=True)\n",
      "    (2): Dropout(p=0.15, inplace=False)\n",
      "    (3): LeakyReLU(negative_slope=0.01)\n",
      "  )\n",
      "  (conv5): Conv(\n",
      "    (0): Conv1d(20, 10, kernel_size=(15,), stride=(1,), padding=(7,))\n",
      "    (1): BatchNorm1d(10, eps=1e-05, momentum=0.1, affine=True, track_running_stats=True)\n",
      "    (2): Dropout(p=0.15, inplace=False)\n",
      "    (3): LeakyReLU(negative_slope=0.01)\n",
      "  )\n",
      "  (conv6): Conv(\n",
      "    (0): Conv1d(10, 10, kernel_size=(15,), stride=(1,), padding=(7,))\n",
      "    (1): BatchNorm1d(10, eps=1e-05, momentum=0.1, affine=True, track_running_stats=True)\n",
      "    (2): Dropout(p=0.15, inplace=False)\n",
      "    (3): LeakyReLU(negative_slope=0.01)\n",
      "  )\n",
      "  (conv7): Conv(\n",
      "    (0): Conv1d(20, 7, kernel_size=(15,), stride=(1,), padding=(7,))\n",
      "    (1): BatchNorm1d(7, eps=1e-05, momentum=0.1, affine=True, track_running_stats=True)\n",
      "    (2): Dropout(p=0.15, inplace=False)\n",
      "    (3): LeakyReLU(negative_slope=0.01)\n",
      "  )\n",
      "  (conv8): Conv(\n",
      "    (0): Conv1d(7, 5, kernel_size=(9,), stride=(1,), padding=(4,))\n",
      "    (1): BatchNorm1d(5, eps=1e-05, momentum=0.1, affine=True, track_running_stats=True)\n",
      "    (2): Dropout(p=0.15, inplace=False)\n",
      "    (3): LeakyReLU(negative_slope=0.01)\n",
      "  )\n",
      "  (conv9): Conv(\n",
      "    (0): Conv1d(12, 1, kernel_size=(5,), stride=(1,), padding=(2,))\n",
      "    (1): BatchNorm1d(1, eps=1e-05, momentum=0.1, affine=True, track_running_stats=True)\n",
      "    (2): Dropout(p=0.15, inplace=False)\n",
      "    (3): LeakyReLU(negative_slope=0.01)\n",
      "  )\n",
      "  (conv10): Conv(\n",
      "    (0): Conv1d(1, 1, kernel_size=(91,), stride=(1,), padding=(45,))\n",
      "    (1): BatchNorm1d(1, eps=1e-05, momentum=0.1, affine=True, track_running_stats=True)\n",
      "    (2): Dropout(p=0.15, inplace=False)\n",
      "    (3): LeakyReLU(negative_slope=0.01)\n",
      "  )\n",
      ")\n",
      "epoch_start 200\n",
      "batch_size 128\n",
      "epochs 500\n",
      "lr 1e-05\n",
      "Number of batches: train = 1875, val = 78\n"
     ]
    },
    {
     "name": "stderr",
     "output_type": "stream",
     "text": [
      "/home/michael24peters/pv-finder/notebooks/model/training.py:95: TqdmDeprecationWarning: This function will be removed in tqdm==5.0.0\n",
      "Please use `tqdm.notebook.tqdm` instead of `tqdm.tqdm_notebook`\n",
      "  file=sys.stderr,\n"
     ]
    },
    {
     "data": {
      "application/vnd.jupyter.widget-view+json": {
       "model_id": "87d33ea3f1444f51ba9a43f51d6cc415",
       "version_major": 2,
       "version_minor": 0
      },
      "text/plain": [
       "HBox(children=(FloatProgress(value=0.0, description='Epochs', layout=Layout(flex='2'), max=500.0, style=Progre…"
      ]
     },
     "metadata": {},
     "output_type": "display_data"
    },
    {
     "data": {
      "application/vnd.jupyter.widget-view+json": {
       "model_id": "",
       "version_major": 2,
       "version_minor": 0
      },
      "text/plain": [
       "HBox(children=(FloatProgress(value=0.0, description='Training', layout=Layout(flex='2'), max=1875.0, style=Pro…"
      ]
     },
     "metadata": {},
     "output_type": "display_data"
    },
    {
     "name": "stdout",
     "output_type": "stream",
     "text": [
      "Epoch 200: train=1316.05, val=1314.7, took 81.229 s\n",
      "  Validation Found 320 of 54504, added 9471 (eff 0.59%) (0.949 FP/event)\n"
     ]
    },
    {
     "data": {
      "application/vnd.jupyter.widget-view+json": {
       "model_id": "",
       "version_major": 2,
       "version_minor": 0
      },
      "text/plain": [
       "HBox(children=(FloatProgress(value=0.0, description='Training', layout=Layout(flex='2'), max=1875.0, style=Pro…"
      ]
     },
     "metadata": {},
     "output_type": "display_data"
    },
    {
     "name": "stdout",
     "output_type": "stream",
     "text": [
      "Epoch 201: train=1316.03, val=1314.67, took 78.758 s\n",
      "  Validation Found 320 of 54504, added 9472 (eff 0.59%) (0.949 FP/event)\n"
     ]
    },
    {
     "data": {
      "application/vnd.jupyter.widget-view+json": {
       "model_id": "",
       "version_major": 2,
       "version_minor": 0
      },
      "text/plain": [
       "HBox(children=(FloatProgress(value=0.0, description='Training', layout=Layout(flex='2'), max=1875.0, style=Pro…"
      ]
     },
     "metadata": {},
     "output_type": "display_data"
    },
    {
     "name": "stdout",
     "output_type": "stream",
     "text": [
      "Epoch 202: train=1316.01, val=1314.65, took 80.04 s\n",
      "  Validation Found 322 of 54504, added 9466 (eff 0.59%) (0.948 FP/event)\n"
     ]
    },
    {
     "data": {
      "application/vnd.jupyter.widget-view+json": {
       "model_id": "",
       "version_major": 2,
       "version_minor": 0
      },
      "text/plain": [
       "HBox(children=(FloatProgress(value=0.0, description='Training', layout=Layout(flex='2'), max=1875.0, style=Pro…"
      ]
     },
     "metadata": {},
     "output_type": "display_data"
    },
    {
     "name": "stdout",
     "output_type": "stream",
     "text": [
      "Epoch 203: train=1316.0, val=1314.63, took 79.581 s\n",
      "  Validation Found 326 of 54504, added 9470 (eff 0.60%) (0.948 FP/event)\n"
     ]
    },
    {
     "data": {
      "application/vnd.jupyter.widget-view+json": {
       "model_id": "",
       "version_major": 2,
       "version_minor": 0
      },
      "text/plain": [
       "HBox(children=(FloatProgress(value=0.0, description='Training', layout=Layout(flex='2'), max=1875.0, style=Pro…"
      ]
     },
     "metadata": {},
     "output_type": "display_data"
    },
    {
     "name": "stdout",
     "output_type": "stream",
     "text": [
      "Epoch 204: train=1315.98, val=1314.61, took 80.859 s\n",
      "  Validation Found 327 of 54504, added 9460 (eff 0.60%) (0.947 FP/event)\n"
     ]
    },
    {
     "data": {
      "application/vnd.jupyter.widget-view+json": {
       "model_id": "",
       "version_major": 2,
       "version_minor": 0
      },
      "text/plain": [
       "HBox(children=(FloatProgress(value=0.0, description='Training', layout=Layout(flex='2'), max=1875.0, style=Pro…"
      ]
     },
     "metadata": {},
     "output_type": "display_data"
    },
    {
     "name": "stdout",
     "output_type": "stream",
     "text": [
      "Epoch 205: train=1315.96, val=1314.61, took 78.652 s\n",
      "  Validation Found 324 of 54504, added 9463 (eff 0.59%) (0.948 FP/event)\n"
     ]
    },
    {
     "data": {
      "application/vnd.jupyter.widget-view+json": {
       "model_id": "",
       "version_major": 2,
       "version_minor": 0
      },
      "text/plain": [
       "HBox(children=(FloatProgress(value=0.0, description='Training', layout=Layout(flex='2'), max=1875.0, style=Pro…"
      ]
     },
     "metadata": {},
     "output_type": "display_data"
    },
    {
     "name": "stdout",
     "output_type": "stream",
     "text": [
      "Epoch 206: train=1315.95, val=1314.59, took 78.541 s\n",
      "  Validation Found 326 of 54504, added 9467 (eff 0.60%) (0.948 FP/event)\n"
     ]
    },
    {
     "data": {
      "application/vnd.jupyter.widget-view+json": {
       "model_id": "",
       "version_major": 2,
       "version_minor": 0
      },
      "text/plain": [
       "HBox(children=(FloatProgress(value=0.0, description='Training', layout=Layout(flex='2'), max=1875.0, style=Pro…"
      ]
     },
     "metadata": {},
     "output_type": "display_data"
    },
    {
     "name": "stdout",
     "output_type": "stream",
     "text": [
      "Epoch 207: train=1315.93, val=1314.57, took 78.488 s\n",
      "  Validation Found 323 of 54504, added 9470 (eff 0.59%) (0.948 FP/event)\n"
     ]
    },
    {
     "data": {
      "application/vnd.jupyter.widget-view+json": {
       "model_id": "",
       "version_major": 2,
       "version_minor": 0
      },
      "text/plain": [
       "HBox(children=(FloatProgress(value=0.0, description='Training', layout=Layout(flex='2'), max=1875.0, style=Pro…"
      ]
     },
     "metadata": {},
     "output_type": "display_data"
    },
    {
     "name": "stdout",
     "output_type": "stream",
     "text": [
      "Epoch 208: train=1315.91, val=1314.54, took 78.416 s\n",
      "  Validation Found 327 of 54504, added 9463 (eff 0.60%) (0.948 FP/event)\n"
     ]
    },
    {
     "data": {
      "application/vnd.jupyter.widget-view+json": {
       "model_id": "",
       "version_major": 2,
       "version_minor": 0
      },
      "text/plain": [
       "HBox(children=(FloatProgress(value=0.0, description='Training', layout=Layout(flex='2'), max=1875.0, style=Pro…"
      ]
     },
     "metadata": {},
     "output_type": "display_data"
    },
    {
     "name": "stdout",
     "output_type": "stream",
     "text": [
      "Epoch 209: train=1315.89, val=1314.52, took 81.154 s\n",
      "  Validation Found 327 of 54504, added 9460 (eff 0.60%) (0.947 FP/event)\n"
     ]
    },
    {
     "data": {
      "application/vnd.jupyter.widget-view+json": {
       "model_id": "",
       "version_major": 2,
       "version_minor": 0
      },
      "text/plain": [
       "HBox(children=(FloatProgress(value=0.0, description='Training', layout=Layout(flex='2'), max=1875.0, style=Pro…"
      ]
     },
     "metadata": {},
     "output_type": "display_data"
    },
    {
     "name": "stdout",
     "output_type": "stream",
     "text": [
      "Epoch 210: train=1315.88, val=1314.37, took 80.57 s\n",
      "  Validation Found 331 of 54504, added 9467 (eff 0.61%) (0.948 FP/event)\n"
     ]
    },
    {
     "data": {
      "application/vnd.jupyter.widget-view+json": {
       "model_id": "",
       "version_major": 2,
       "version_minor": 0
      },
      "text/plain": [
       "HBox(children=(FloatProgress(value=0.0, description='Training', layout=Layout(flex='2'), max=1875.0, style=Pro…"
      ]
     },
     "metadata": {},
     "output_type": "display_data"
    },
    {
     "name": "stdout",
     "output_type": "stream",
     "text": [
      "Epoch 211: train=1315.86, val=1314.5, took 80.864 s\n",
      "  Validation Found 328 of 54504, added 9466 (eff 0.60%) (0.948 FP/event)\n"
     ]
    },
    {
     "data": {
      "application/vnd.jupyter.widget-view+json": {
       "model_id": "",
       "version_major": 2,
       "version_minor": 0
      },
      "text/plain": [
       "HBox(children=(FloatProgress(value=0.0, description='Training', layout=Layout(flex='2'), max=1875.0, style=Pro…"
      ]
     },
     "metadata": {},
     "output_type": "display_data"
    },
    {
     "name": "stdout",
     "output_type": "stream",
     "text": [
      "Epoch 212: train=1315.84, val=1314.48, took 80.639 s\n",
      "  Validation Found 328 of 54504, added 9470 (eff 0.60%) (0.948 FP/event)\n"
     ]
    },
    {
     "data": {
      "application/vnd.jupyter.widget-view+json": {
       "model_id": "",
       "version_major": 2,
       "version_minor": 0
      },
      "text/plain": [
       "HBox(children=(FloatProgress(value=0.0, description='Training', layout=Layout(flex='2'), max=1875.0, style=Pro…"
      ]
     },
     "metadata": {},
     "output_type": "display_data"
    },
    {
     "name": "stdout",
     "output_type": "stream",
     "text": [
      "Epoch 213: train=1315.82, val=1314.46, took 80.079 s\n",
      "  Validation Found 328 of 54504, added 9466 (eff 0.60%) (0.948 FP/event)\n"
     ]
    },
    {
     "data": {
      "application/vnd.jupyter.widget-view+json": {
       "model_id": "",
       "version_major": 2,
       "version_minor": 0
      },
      "text/plain": [
       "HBox(children=(FloatProgress(value=0.0, description='Training', layout=Layout(flex='2'), max=1875.0, style=Pro…"
      ]
     },
     "metadata": {},
     "output_type": "display_data"
    },
    {
     "name": "stdout",
     "output_type": "stream",
     "text": [
      "Epoch 214: train=1315.81, val=1314.45, took 78.907 s\n",
      "  Validation Found 328 of 54504, added 9464 (eff 0.60%) (0.948 FP/event)\n"
     ]
    },
    {
     "data": {
      "application/vnd.jupyter.widget-view+json": {
       "model_id": "",
       "version_major": 2,
       "version_minor": 0
      },
      "text/plain": [
       "HBox(children=(FloatProgress(value=0.0, description='Training', layout=Layout(flex='2'), max=1875.0, style=Pro…"
      ]
     },
     "metadata": {},
     "output_type": "display_data"
    },
    {
     "name": "stdout",
     "output_type": "stream",
     "text": [
      "Epoch 215: train=1315.79, val=1314.43, took 81.3 s\n",
      "  Validation Found 329 of 54504, added 9462 (eff 0.60%) (0.948 FP/event)\n"
     ]
    },
    {
     "data": {
      "application/vnd.jupyter.widget-view+json": {
       "model_id": "",
       "version_major": 2,
       "version_minor": 0
      },
      "text/plain": [
       "HBox(children=(FloatProgress(value=0.0, description='Training', layout=Layout(flex='2'), max=1875.0, style=Pro…"
      ]
     },
     "metadata": {},
     "output_type": "display_data"
    },
    {
     "name": "stdout",
     "output_type": "stream",
     "text": [
      "Epoch 216: train=1315.77, val=1314.41, took 80.345 s\n",
      "  Validation Found 330 of 54504, added 9467 (eff 0.61%) (0.948 FP/event)\n"
     ]
    },
    {
     "data": {
      "application/vnd.jupyter.widget-view+json": {
       "model_id": "",
       "version_major": 2,
       "version_minor": 0
      },
      "text/plain": [
       "HBox(children=(FloatProgress(value=0.0, description='Training', layout=Layout(flex='2'), max=1875.0, style=Pro…"
      ]
     },
     "metadata": {},
     "output_type": "display_data"
    },
    {
     "name": "stdout",
     "output_type": "stream",
     "text": [
      "Epoch 217: train=1315.75, val=1313.77, took 80.942 s\n",
      "  Validation Found 322 of 54504, added 9474 (eff 0.59%) (0.949 FP/event)\n"
     ]
    },
    {
     "data": {
      "application/vnd.jupyter.widget-view+json": {
       "model_id": "",
       "version_major": 2,
       "version_minor": 0
      },
      "text/plain": [
       "HBox(children=(FloatProgress(value=0.0, description='Training', layout=Layout(flex='2'), max=1875.0, style=Pro…"
      ]
     },
     "metadata": {},
     "output_type": "display_data"
    },
    {
     "name": "stdout",
     "output_type": "stream",
     "text": [
      "Epoch 218: train=1315.74, val=1314.33, took 81.426 s\n",
      "  Validation Found 333 of 54504, added 9463 (eff 0.61%) (0.948 FP/event)\n"
     ]
    },
    {
     "data": {
      "application/vnd.jupyter.widget-view+json": {
       "model_id": "",
       "version_major": 2,
       "version_minor": 0
      },
      "text/plain": [
       "HBox(children=(FloatProgress(value=0.0, description='Training', layout=Layout(flex='2'), max=1875.0, style=Pro…"
      ]
     },
     "metadata": {},
     "output_type": "display_data"
    },
    {
     "name": "stdout",
     "output_type": "stream",
     "text": [
      "Epoch 219: train=1315.72, val=1313.67, took 81.262 s\n",
      "  Validation Found 325 of 54504, added 9478 (eff 0.60%) (0.949 FP/event)\n"
     ]
    },
    {
     "data": {
      "application/vnd.jupyter.widget-view+json": {
       "model_id": "",
       "version_major": 2,
       "version_minor": 0
      },
      "text/plain": [
       "HBox(children=(FloatProgress(value=0.0, description='Training', layout=Layout(flex='2'), max=1875.0, style=Pro…"
      ]
     },
     "metadata": {},
     "output_type": "display_data"
    },
    {
     "name": "stdout",
     "output_type": "stream",
     "text": [
      "Epoch 220: train=1315.7, val=1314.28, took 81.203 s\n",
      "  Validation Found 332 of 54504, added 9460 (eff 0.61%) (0.947 FP/event)\n"
     ]
    },
    {
     "data": {
      "application/vnd.jupyter.widget-view+json": {
       "model_id": "",
       "version_major": 2,
       "version_minor": 0
      },
      "text/plain": [
       "HBox(children=(FloatProgress(value=0.0, description='Training', layout=Layout(flex='2'), max=1875.0, style=Pro…"
      ]
     },
     "metadata": {},
     "output_type": "display_data"
    },
    {
     "name": "stdout",
     "output_type": "stream",
     "text": [
      "Epoch 221: train=1315.69, val=1314.24, took 79.226 s\n",
      "  Validation Found 329 of 54504, added 9466 (eff 0.60%) (0.948 FP/event)\n"
     ]
    },
    {
     "data": {
      "application/vnd.jupyter.widget-view+json": {
       "model_id": "",
       "version_major": 2,
       "version_minor": 0
      },
      "text/plain": [
       "HBox(children=(FloatProgress(value=0.0, description='Training', layout=Layout(flex='2'), max=1875.0, style=Pro…"
      ]
     },
     "metadata": {},
     "output_type": "display_data"
    },
    {
     "name": "stdout",
     "output_type": "stream",
     "text": [
      "Epoch 222: train=1315.67, val=1313.7, took 78.369 s\n",
      "  Validation Found 323 of 54504, added 9474 (eff 0.59%) (0.949 FP/event)\n"
     ]
    },
    {
     "data": {
      "application/vnd.jupyter.widget-view+json": {
       "model_id": "",
       "version_major": 2,
       "version_minor": 0
      },
      "text/plain": [
       "HBox(children=(FloatProgress(value=0.0, description='Training', layout=Layout(flex='2'), max=1875.0, style=Pro…"
      ]
     },
     "metadata": {},
     "output_type": "display_data"
    },
    {
     "name": "stdout",
     "output_type": "stream",
     "text": [
      "Epoch 223: train=1315.66, val=1313.39, took 78.358 s\n",
      "  Validation Found 320 of 54504, added 9487 (eff 0.59%) (0.95 FP/event)\n"
     ]
    },
    {
     "data": {
      "application/vnd.jupyter.widget-view+json": {
       "model_id": "",
       "version_major": 2,
       "version_minor": 0
      },
      "text/plain": [
       "HBox(children=(FloatProgress(value=0.0, description='Training', layout=Layout(flex='2'), max=1875.0, style=Pro…"
      ]
     },
     "metadata": {},
     "output_type": "display_data"
    },
    {
     "name": "stdout",
     "output_type": "stream",
     "text": [
      "Epoch 224: train=1315.64, val=1313.99, took 78.466 s\n",
      "  Validation Found 323 of 54504, added 9476 (eff 0.59%) (0.949 FP/event)\n"
     ]
    },
    {
     "data": {
      "application/vnd.jupyter.widget-view+json": {
       "model_id": "",
       "version_major": 2,
       "version_minor": 0
      },
      "text/plain": [
       "HBox(children=(FloatProgress(value=0.0, description='Training', layout=Layout(flex='2'), max=1875.0, style=Pro…"
      ]
     },
     "metadata": {},
     "output_type": "display_data"
    },
    {
     "name": "stdout",
     "output_type": "stream",
     "text": [
      "Epoch 225: train=1315.63, val=1313.75, took 79.024 s\n",
      "  Validation Found 322 of 54504, added 9477 (eff 0.59%) (0.949 FP/event)\n"
     ]
    },
    {
     "data": {
      "application/vnd.jupyter.widget-view+json": {
       "model_id": "a86d884f4aec4292a305775b2a04c4c5",
       "version_major": 2,
       "version_minor": 0
      },
      "text/plain": [
       "HBox(children=(FloatProgress(value=0.0, description='Training', layout=Layout(flex='2'), max=1875.0, style=Pro…"
      ]
     },
     "metadata": {},
     "output_type": "display_data"
    },
    {
     "name": "stdout",
     "output_type": "stream",
     "text": [
      "\n"
     ]
    },
    {
     "ename": "KeyboardInterrupt",
     "evalue": "",
     "output_type": "error",
     "traceback": [
      "\u001b[0;31m---------------------------------------------------------------------------\u001b[0m",
      "\u001b[0;31mKeyboardInterrupt\u001b[0m                         Traceback (most recent call last)",
      "\u001b[0;32m<ipython-input-12-b1152494026e>\u001b[0m in \u001b[0;36m<module>\u001b[0;34m\u001b[0m\n\u001b[1;32m     18\u001b[0m                             \u001b[0mtrain_loader\u001b[0m\u001b[0;34m,\u001b[0m \u001b[0mval_loader\u001b[0m\u001b[0;34m,\u001b[0m\u001b[0;34m\u001b[0m\u001b[0;34m\u001b[0m\u001b[0m\n\u001b[1;32m     19\u001b[0m                             \u001b[0margs\u001b[0m\u001b[0;34m.\u001b[0m\u001b[0mepochs\u001b[0m\u001b[0;34m+\u001b[0m\u001b[0margs\u001b[0m\u001b[0;34m.\u001b[0m\u001b[0mepoch_start\u001b[0m\u001b[0;34m,\u001b[0m \u001b[0mepoch_start\u001b[0m\u001b[0;34m=\u001b[0m\u001b[0margs\u001b[0m\u001b[0;34m.\u001b[0m\u001b[0mepoch_start\u001b[0m\u001b[0;34m,\u001b[0m\u001b[0;34m\u001b[0m\u001b[0;34m\u001b[0m\u001b[0m\n\u001b[0;32m---> 20\u001b[0;31m                             notebook=True, device=device):\n\u001b[0m\u001b[1;32m     21\u001b[0m \u001b[0;34m\u001b[0m\u001b[0m\n\u001b[1;32m     22\u001b[0m         \u001b[0mresult\u001b[0m \u001b[0;34m=\u001b[0m \u001b[0mresult\u001b[0m\u001b[0;34m.\u001b[0m\u001b[0m_asdict\u001b[0m\u001b[0;34m(\u001b[0m\u001b[0;34m)\u001b[0m\u001b[0;34m\u001b[0m\u001b[0;34m\u001b[0m\u001b[0m\n",
      "\u001b[0;32m~/pv-finder/notebooks/model/training.py\u001b[0m in \u001b[0;36mtrainNet\u001b[0;34m(model, optimizer, loss, train_loader, val_loader, n_epochs, notebook, epoch_start, device)\u001b[0m\n\u001b[1;32m    102\u001b[0m         \u001b[0;31m# Run the training step\u001b[0m\u001b[0;34m\u001b[0m\u001b[0;34m\u001b[0m\u001b[0;34m\u001b[0m\u001b[0m\n\u001b[1;32m    103\u001b[0m         total_train_loss = train(\n\u001b[0;32m--> 104\u001b[0;31m             \u001b[0mmodel\u001b[0m\u001b[0;34m,\u001b[0m \u001b[0mloss\u001b[0m\u001b[0;34m,\u001b[0m \u001b[0mtrain_loader\u001b[0m\u001b[0;34m,\u001b[0m \u001b[0moptimizer\u001b[0m\u001b[0;34m,\u001b[0m \u001b[0mdevice\u001b[0m\u001b[0;34m,\u001b[0m \u001b[0mprogress\u001b[0m\u001b[0;34m=\u001b[0m\u001b[0mprogress\u001b[0m\u001b[0;34m\u001b[0m\u001b[0;34m\u001b[0m\u001b[0m\n\u001b[0m\u001b[1;32m    105\u001b[0m         )\n\u001b[1;32m    106\u001b[0m         \u001b[0mcost_epoch\u001b[0m \u001b[0;34m=\u001b[0m \u001b[0mtotal_train_loss\u001b[0m \u001b[0;34m/\u001b[0m \u001b[0mlen\u001b[0m\u001b[0;34m(\u001b[0m\u001b[0mtrain_loader\u001b[0m\u001b[0;34m)\u001b[0m\u001b[0;34m\u001b[0m\u001b[0;34m\u001b[0m\u001b[0m\n",
      "\u001b[0;32m~/pv-finder/notebooks/model/training.py\u001b[0m in \u001b[0;36mtrain\u001b[0;34m(model, loss, loader, optimizer, device, progress)\u001b[0m\n\u001b[1;32m    154\u001b[0m         \u001b[0moutputs\u001b[0m \u001b[0;34m=\u001b[0m \u001b[0mmodel\u001b[0m\u001b[0;34m(\u001b[0m\u001b[0minputs\u001b[0m\u001b[0;34m)\u001b[0m\u001b[0;34m\u001b[0m\u001b[0;34m\u001b[0m\u001b[0m\n\u001b[1;32m    155\u001b[0m         \u001b[0mloss_output\u001b[0m \u001b[0;34m=\u001b[0m \u001b[0mloss\u001b[0m\u001b[0;34m(\u001b[0m\u001b[0moutputs\u001b[0m\u001b[0;34m,\u001b[0m \u001b[0mlabels\u001b[0m\u001b[0;34m)\u001b[0m\u001b[0;34m\u001b[0m\u001b[0;34m\u001b[0m\u001b[0m\n\u001b[0;32m--> 156\u001b[0;31m         \u001b[0mloss_output\u001b[0m\u001b[0;34m.\u001b[0m\u001b[0mbackward\u001b[0m\u001b[0;34m(\u001b[0m\u001b[0;34m)\u001b[0m\u001b[0;34m\u001b[0m\u001b[0;34m\u001b[0m\u001b[0m\n\u001b[0m\u001b[1;32m    157\u001b[0m         \u001b[0moptimizer\u001b[0m\u001b[0;34m.\u001b[0m\u001b[0mstep\u001b[0m\u001b[0;34m(\u001b[0m\u001b[0;34m)\u001b[0m\u001b[0;34m\u001b[0m\u001b[0;34m\u001b[0m\u001b[0m\n\u001b[1;32m    158\u001b[0m \u001b[0;34m\u001b[0m\u001b[0m\n",
      "\u001b[0;32m/data/conda/envs/goofit-june2020/lib/python3.7/site-packages/torch/tensor.py\u001b[0m in \u001b[0;36mbackward\u001b[0;34m(self, gradient, retain_graph, create_graph)\u001b[0m\n\u001b[1;32m    219\u001b[0m                 \u001b[0mretain_graph\u001b[0m\u001b[0;34m=\u001b[0m\u001b[0mretain_graph\u001b[0m\u001b[0;34m,\u001b[0m\u001b[0;34m\u001b[0m\u001b[0;34m\u001b[0m\u001b[0m\n\u001b[1;32m    220\u001b[0m                 create_graph=create_graph)\n\u001b[0;32m--> 221\u001b[0;31m         \u001b[0mtorch\u001b[0m\u001b[0;34m.\u001b[0m\u001b[0mautograd\u001b[0m\u001b[0;34m.\u001b[0m\u001b[0mbackward\u001b[0m\u001b[0;34m(\u001b[0m\u001b[0mself\u001b[0m\u001b[0;34m,\u001b[0m \u001b[0mgradient\u001b[0m\u001b[0;34m,\u001b[0m \u001b[0mretain_graph\u001b[0m\u001b[0;34m,\u001b[0m \u001b[0mcreate_graph\u001b[0m\u001b[0;34m)\u001b[0m\u001b[0;34m\u001b[0m\u001b[0;34m\u001b[0m\u001b[0m\n\u001b[0m\u001b[1;32m    222\u001b[0m \u001b[0;34m\u001b[0m\u001b[0m\n\u001b[1;32m    223\u001b[0m     \u001b[0;32mdef\u001b[0m \u001b[0mregister_hook\u001b[0m\u001b[0;34m(\u001b[0m\u001b[0mself\u001b[0m\u001b[0;34m,\u001b[0m \u001b[0mhook\u001b[0m\u001b[0;34m)\u001b[0m\u001b[0;34m:\u001b[0m\u001b[0;34m\u001b[0m\u001b[0;34m\u001b[0m\u001b[0m\n",
      "\u001b[0;32m/data/conda/envs/goofit-june2020/lib/python3.7/site-packages/torch/autograd/__init__.py\u001b[0m in \u001b[0;36mbackward\u001b[0;34m(tensors, grad_tensors, retain_graph, create_graph, grad_variables)\u001b[0m\n\u001b[1;32m    130\u001b[0m     Variable._execution_engine.run_backward(\n\u001b[1;32m    131\u001b[0m         \u001b[0mtensors\u001b[0m\u001b[0;34m,\u001b[0m \u001b[0mgrad_tensors_\u001b[0m\u001b[0;34m,\u001b[0m \u001b[0mretain_graph\u001b[0m\u001b[0;34m,\u001b[0m \u001b[0mcreate_graph\u001b[0m\u001b[0;34m,\u001b[0m\u001b[0;34m\u001b[0m\u001b[0;34m\u001b[0m\u001b[0m\n\u001b[0;32m--> 132\u001b[0;31m         allow_unreachable=True)  # allow_unreachable flag\n\u001b[0m\u001b[1;32m    133\u001b[0m \u001b[0;34m\u001b[0m\u001b[0m\n\u001b[1;32m    134\u001b[0m \u001b[0;34m\u001b[0m\u001b[0m\n",
      "\u001b[0;31mKeyboardInterrupt\u001b[0m: "
     ]
    }
   ],
   "source": [
    "avgEff = 0.0\n",
    "avgFP = 0.0\n",
    "\n",
    "print('for model: ', model)   \n",
    "run_name = 'ACN_2i4_10L_4S_BN (P3)'\n",
    "# Create an mlflow run\n",
    "with mlflow.start_run(run_name=run_name) as run:\n",
    "    # Log parameters of the model\n",
    "    for key, value in vars(args).items():\n",
    "        print(key, value)\n",
    "        mlflow.log_param(key, value)\n",
    "    \n",
    "    # Log parameter count in the model\n",
    "    mlflow.log_param('Parameters', count_parameters(model))\n",
    "    \n",
    "    # Begin run\n",
    "    for result in trainNet(model, optimizer, loss,\n",
    "                            train_loader, val_loader,\n",
    "                            args.epochs+args.epoch_start, epoch_start=args.epoch_start,\n",
    "                            notebook=True, device=device):\n",
    "\n",
    "        result = result._asdict()\n",
    "        results = results.append(pd.Series(result), ignore_index=True)\n",
    "        xs = results.index\n",
    "\n",
    "        # Update the plot above\n",
    "        lines['train'].set_data(results.index, results.cost)\n",
    "        lines['val'].set_data(results.index, results.val)\n",
    "\n",
    "        #filter first cost epoch (can be really large)\n",
    "        max_cost = max(max(results.cost if len(results.cost)<2 else results.cost[1:]), max(results.val))\n",
    "        min_cost = min(min(results.cost), min(results.val))\n",
    "    \n",
    "        # The plot limits need updating too\n",
    "        ax.set_ylim(min_cost*.9, max_cost*1.1)  \n",
    "        ax.set_xlim(-.5, len(results.cost) - .5)\n",
    "    \n",
    "        replace_in_ax(lax, lines['eff'], xs, results['eff_val'].apply(lambda x: x.eff_rate))\n",
    "        replace_in_ax(tax, lines['fp'], xs, results['eff_val'].apply(lambda x: x.fp_rate))            \n",
    "            \n",
    "        # Redraw the figure\n",
    "        fig.canvas.draw()\n",
    "            \n",
    "        ## MLFLOW ##\n",
    "        # Log metrics\n",
    "        mlflow.log_metric('Efficiency', result['eff_val'].eff_rate, result['epoch'])\n",
    "        mlflow.log_metric('False Positive Rate',  result['eff_val'].fp_rate, result['epoch'])\n",
    "        mlflow.log_metric('Validation Loss',  result['val'], result['epoch'])\n",
    "        mlflow.log_metric('Training Loss',  result['cost'], result['epoch'])\n",
    "        \n",
    "        # If we are on the last 10 epochs but NOT the last epoch\n",
    "        if(result['epoch'] >= args.epochs + args.epoch_start - 10):\n",
    "            avgEff += result['eff_val'].eff_rate\n",
    "            avgFP += result['eff_val'].fp_rate\n",
    "           \n",
    "        # If we are on the last epoch\n",
    "        if(result['epoch'] == args.epochs + args.epoch_start - 1):\n",
    "            print('Averaging...\\n')\n",
    "            avgEff /= 10\n",
    "            avgFP /= 10\n",
    "            mlflow.log_metric('10 Efficiency Average', avgEff)\n",
    "            mlflow.log_metric('10 False Positive Average', avgFP)\n",
    "            print('Average Eff: ', avgEff)\n",
    "            print('Average FP Rate: ', avgFP)\n",
    "            \n",
    "        \n",
    "        # Log tags\n",
    "        mlflow.set_tag('Skip connections', '4')\n",
    "        mlflow.set_tag('Asymmetry', '2.5')\n",
    "        mlflow.set_tag('KDE_A', 'False')\n",
    "        mlflow.set_tag('BN Input', 'False')\n",
    "\n",
    "        # Save model state dictionary, optimizer state dictionary, and epoch number\n",
    "        torch.save({\n",
    "            'model':model.state_dict(),\n",
    "            'optimizer':optimizer.state_dict(),\n",
    "            'epoch':args.epochs+result['epoch']\n",
    "            }, 'run_stats.pyt')\n",
    "        # Save the run stats into mlflow\n",
    "        mlflow.log_artifact('run_stats.pyt')\n",
    "    \n",
    "    # Generate tight plot at end of training\n",
    "    dual_train_plots(results.index,\n",
    "                 results.cost, results.val, \n",
    "                 results['eff_val'].apply(lambda x: x.eff_rate),\n",
    "                 results['eff_val'].apply(lambda x: x.fp_rate))\n",
    "    plt.tight_layout()\n",
    "    # Save plot\n",
    "    plt.savefig('plot.png')  \n",
    "    mlflow.log_artifact('plot.png')"
   ]
  },
  {
   "cell_type": "code",
   "execution_count": null,
   "metadata": {},
   "outputs": [],
   "source": [
    "##quit()"
   ]
  }
 ],
 "metadata": {
  "kernelspec": {
   "display_name": "goofit-june2020",
   "language": "python",
   "name": "goofit-june2020"
  },
  "language_info": {
   "codemirror_mode": {
    "name": "ipython",
    "version": 3
   },
   "file_extension": ".py",
   "mimetype": "text/x-python",
   "name": "python",
   "nbconvert_exporter": "python",
   "pygments_lexer": "ipython3",
   "version": "3.7.6"
  }
 },
 "nbformat": 4,
 "nbformat_minor": 2
}
