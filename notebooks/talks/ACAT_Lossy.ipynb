{
 "cells": [
  {
   "cell_type": "code",
   "execution_count": null,
   "metadata": {},
   "outputs": [],
   "source": [
    "import numpy as np\n",
    "from cycler import cycler # From matplotlib\n",
    "import matplotlib\n",
    "import matplotlib.pyplot as plt"
   ]
  },
  {
   "cell_type": "code",
   "execution_count": null,
   "metadata": {},
   "outputs": [],
   "source": [
    "lhcbBlue = 0/255, 87/255, 167/255\n",
    "lhcbLightBlue = 210, 238/255, 250/255\n",
    "lhcbRed = 215/255, 50/255, 50/255"
   ]
  },
  {
   "cell_type": "markdown",
   "metadata": {},
   "source": [
    "Let's set up the matplotlib cycler"
   ]
  },
  {
   "cell_type": "code",
   "execution_count": null,
   "metadata": {},
   "outputs": [],
   "source": [
    "default_cycler = (cycler(color=[lhcbBlue, lhcbRed])\n",
    "                * cycler(linestyle=['-', '--', ':']))\n",
    "plt.rc('axes', prop_cycle=default_cycler)"
   ]
  },
  {
   "cell_type": "code",
   "execution_count": null,
   "metadata": {},
   "outputs": [],
   "source": [
    "plotstyle = 1 # 0 is original similog, 1 is linear zoomed out, 2 is linear zoomed in\n",
    "\n",
    "name = [\n",
    "    'Asym.CostPlot_190302.png',\n",
    "    'Asym.CostPlot_190302_linear.png',\n",
    "    'Asym.CostPlot_190302_linearA.png'\n",
    "][plotstyle]\n",
    "\n",
    "lnyhat = [np.arange(-13.8,0.0,0.138),\n",
    "          np.arange(-6.9,0.0,0.069),\n",
    "          np.arange(-3.0,0.0,0.03)][plotstyle]\n",
    "\n",
    "legend = [False, True, False][plotstyle]"
   ]
  },
  {
   "cell_type": "code",
   "execution_count": null,
   "metadata": {},
   "outputs": [],
   "source": [
    "yhat = np.exp(lnyhat)\n",
    "cost1 = -np.log(yhat)\n",
    "cost2 = -np.log(1-yhat)\n",
    "\n",
    "epsilon = 1e-5\n",
    "\n",
    "r_C = (yhat+epsilon)/(0.10+epsilon)\n",
    "z_C = (2*r_C)/(r_C*r_C+1)\n",
    "c_C = -np.log(z_C)\n",
    "\n",
    "##c_B = c_C*(1+5*np.exp(-r_C/0.10))\n",
    "\n",
    "c_D = c_C*(1+5*np.exp(-r_C/1.00))\n",
    "\n",
    "#  -- end of code for y = 0.1\n",
    "\n",
    "r_C0p3 = (yhat+epsilon)/(0.30+epsilon)\n",
    "z_C0p3 = (2*r_C0p3)/(r_C0p3*r_C0p3+1)\n",
    "c_C0p3 = -np.log(z_C0p3)\n",
    "\n",
    "##c_B0p3 = c_C0p3*(1+5*np.exp(-r_C0p3/0.10))\n",
    "\n",
    "c_D0p3 = c_C0p3*(1+5*np.exp(-r_C0p3/1.00))\n",
    "\n",
    "#  --  end of code for y = 0.30\n",
    "\n",
    "r_C1em5 = (yhat+epsilon)/(0.00001+epsilon)\n",
    "z_C1em5 = (2*r_C1em5)/(r_C1em5*r_C1em5+1)\n",
    "c_C1em5 = -np.log(z_C1em5)\n",
    "\n",
    "##c_B1em5 = c_C1em5*(1+5*np.exp(-r_C1em5/0.10))\n",
    "\n",
    "c_D1em5 = c_C1em5*(1+5*np.exp(-r_C1em5/1.00))\n",
    "\n",
    "#  -- end of code for y = 0.00001"
   ]
  },
  {
   "cell_type": "code",
   "execution_count": null,
   "metadata": {},
   "outputs": [],
   "source": [
    "plt.figure(figsize=(6, 4))\n",
    "fig, ax1 = plt.subplots()\n",
    "ax1.set_xlabel('yhat', fontsize=16)\n",
    "ax1.set_ylabel('cost', fontsize=16)\n",
    "\n",
    "plot = [ax1.semilogx, ax1.plot, ax1.plot][plotstyle]\n",
    "\n",
    "##plot(yhat,cost1,color='r',label='CrossEntropy for y = 1')\n",
    "plot(yhat, c_D, label='Asym. Cost for y = 0.10')\n",
    "##plot(yhat,c_B,color='g',label='Asym. Cost for y = 0.10')\n",
    "plot(yhat, c_C, label='Symm. Cost for y = 0.10')\n",
    "\n",
    "plot(yhat, c_D0p3, label='Asym. Cost for y = 0.30')\n",
    "##plot(yhat,c_B0p3,color='g',linestyle='--',label='Asym. Cost for y = 0.30')\n",
    "plot(yhat, c_C0p3, label='Symm. Cost for y = 0.30')\n",
    "\n",
    "plot(yhat, c_D1em5, label='Asym. Cost for y = 1e-5')\n",
    "##plot(yhat,c_B1em5,color='g',linestyle=':',label='Asym. Cost for y = 1e-5')\n",
    "plot(yhat, c_C1em5, label='Symm. Cost for y = 1e-5')\n",
    "\n",
    "if legend:\n",
    "    plt.legend()\n",
    "\n",
    "#fig.savefig(name)\n",
    "plt.show()"
   ]
  },
  {
   "cell_type": "code",
   "execution_count": null,
   "metadata": {},
   "outputs": [],
   "source": []
  },
  {
   "cell_type": "code",
   "execution_count": null,
   "metadata": {},
   "outputs": [],
   "source": []
  }
 ],
 "metadata": {
  "kernelspec": {
   "display_name": "Python 3",
   "language": "python",
   "name": "python3"
  },
  "language_info": {
   "codemirror_mode": {
    "name": "ipython",
    "version": 3
   },
   "file_extension": ".py",
   "mimetype": "text/x-python",
   "name": "python",
   "nbconvert_exporter": "python",
   "pygments_lexer": "ipython3",
   "version": "3.6.8"
  }
 },
 "nbformat": 4,
 "nbformat_minor": 2
}
