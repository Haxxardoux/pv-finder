{
 "cells": [
  {
   "cell_type": "code",
   "execution_count": null,
   "metadata": {},
   "outputs": [],
   "source": [
    "import numpy as np\n",
    "import matplotlib.pyplot as plt"
   ]
  },
  {
   "cell_type": "code",
   "execution_count": null,
   "metadata": {},
   "outputs": [],
   "source": [
    "eff = [88.1, 90.4, 92.1, 93.9]\n",
    "fp =  [0.05, 0.08, 0.13, 0.25]"
   ]
  },
  {
   "cell_type": "code",
   "execution_count": null,
   "metadata": {},
   "outputs": [],
   "source": [
    "#for style in plt.style.available:\n",
    "#    with plt.style.context(style):\n",
    "\n",
    "fig, ax = plt.subplots()\n",
    "\n",
    "ax.plot(eff, fp, color = 'b', marker = 'o', linestyle = 'None')\n",
    "ax.set_xlabel('Efficiency [%]')\n",
    "ax.set_ylabel('FP per event')\n",
    "ax.grid()\n",
    "#plt.savefig(\"EffVsFP.png\")\n",
    "\n",
    "plt.show()\n"
   ]
  },
  {
   "cell_type": "code",
   "execution_count": null,
   "metadata": {},
   "outputs": [],
   "source": [
    "\n",
    "\n",
    "fig, ax = plt.subplots()\n",
    "\n",
    "ax.semilogy(eff, fp, color = 'b', marker = 'o', linestyle = 'None')\n",
    "ax.set_xlabel('Efficiency [%]')\n",
    "ax.set_ylabel('FP per event')\n",
    "ax.grid(which='both')\n",
    "#plt.savefig(\"EffVsFP_semilog.png\")\n",
    "\n",
    "plt.show()"
   ]
  },
  {
   "cell_type": "code",
   "execution_count": null,
   "metadata": {},
   "outputs": [],
   "source": []
  }
 ],
 "metadata": {
  "kernelspec": {
   "display_name": "Python 3",
   "language": "python",
   "name": "python3"
  },
  "language_info": {
   "codemirror_mode": {
    "name": "ipython",
    "version": 3
   },
   "file_extension": ".py",
   "mimetype": "text/x-python",
   "name": "python",
   "nbconvert_exporter": "python",
   "pygments_lexer": "ipython3",
   "version": "3.6.8"
  }
 },
 "nbformat": 4,
 "nbformat_minor": 2
}
