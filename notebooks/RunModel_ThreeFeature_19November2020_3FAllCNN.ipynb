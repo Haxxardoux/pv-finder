{
 "cells": [
  {
   "cell_type": "code",
   "execution_count": 1,
   "metadata": {},
   "outputs": [],
   "source": [
    "##%matplotlib widget\n",
    "## with %matplotlib notebook: seems to require ipympl as part of environment, either\n",
    "## part of the conda environment or \"pip install ipympl\"\n",
    "## otherwise, does not show ANY plots in notebook, plt.savefig() works\n",
    "%matplotlib notebook  \n",
    "##%matplotlib inline    ## --plt.savefig()  works, but re-sizing does NOT"
   ]
  },
  {
   "cell_type": "markdown",
   "metadata": {},
   "source": [
    "This notebook is a short demo to illustrate execution.   For odd historical reasons, it uses \"toy Monte Carlo\" (simulated data)for \"training\" and \"full LHCB MC\" for validation.\n",
    "\n",
    "The network architecture is a \"simple\" model that uses 1 input channel (the KDE [kernel density estimator] but from the track parameters) feeding 5 convolutional layers followed by a fully connected layer.\n",
    "\n",
    "In today's version, the network will start with weights from a previously trained version.\n",
    " "
   ]
  },
  {
   "cell_type": "markdown",
   "metadata": {},
   "source": [
    "Check the current GPU usage. Please try to be nice!"
   ]
  },
  {
   "cell_type": "code",
   "execution_count": 2,
   "metadata": {
    "scrolled": true
   },
   "outputs": [
    {
     "name": "stdout",
     "output_type": "stream",
     "text": [
      "Sun Mar 21 09:31:55 2021       \n",
      "+-----------------------------------------------------------------------------+\n",
      "| NVIDIA-SMI 440.64.00    Driver Version: 440.64.00    CUDA Version: 10.2     |\n",
      "|-------------------------------+----------------------+----------------------+\n",
      "| GPU  Name        Persistence-M| Bus-Id        Disp.A | Volatile Uncorr. ECC |\n",
      "| Fan  Temp  Perf  Pwr:Usage/Cap|         Memory-Usage | GPU-Util  Compute M. |\n",
      "|===============================+======================+======================|\n",
      "|   0  TITAN V             Off  | 00000000:03:00.0 Off |                  N/A |\n",
      "| 23%   31C    P0    31W / 250W |      0MiB / 12066MiB |      0%      Default |\n",
      "+-------------------------------+----------------------+----------------------+\n",
      "|   1  Tesla P100-PCIE...  Off  | 00000000:83:00.0 Off |                    0 |\n",
      "| N/A   33C    P0    33W / 250W |      0MiB / 16280MiB |      0%      Default |\n",
      "+-------------------------------+----------------------+----------------------+\n",
      "|   2  TITAN V             Off  | 00000000:84:00.0 Off |                  N/A |\n",
      "| 19%   34C    P0    34W / 250W |      0MiB / 12066MiB |      0%      Default |\n",
      "+-------------------------------+----------------------+----------------------+\n",
      "                                                                               \n",
      "+-----------------------------------------------------------------------------+\n",
      "| Processes:                                                       GPU Memory |\n",
      "|  GPU       PID   Type   Process name                             Usage      |\n",
      "|=============================================================================|\n",
      "|  No running processes found                                                 |\n",
      "+-----------------------------------------------------------------------------+\n"
     ]
    }
   ],
   "source": [
    "!nvidia-smi"
   ]
  },
  {
   "cell_type": "markdown",
   "metadata": {},
   "source": [
    "> **WARNING**: The card numbers here are *not* the same as in CUDA. You have been warned."
   ]
  },
  {
   "cell_type": "markdown",
   "metadata": {},
   "source": [
    "## Imports"
   ]
  },
  {
   "cell_type": "code",
   "execution_count": 3,
   "metadata": {
    "scrolled": false
   },
   "outputs": [
    {
     "name": "stderr",
     "output_type": "stream",
     "text": [
      "/data/conda/envs/goofit-june2020/lib/python3.7/site-packages/awkward/__init__.py:23: DeprecationWarning: Consider switching from 'awkward' to 'awkward1', since the new interface will become the default later this year (2020).\n",
      "\n",
      "    pip install -U awkward1\n",
      "\n",
      "In Python:\n",
      "\n",
      "    >>> import awkward1 as ak\n",
      "    >>> new_style_array = ak.from_awkward0(old_style_array)\n",
      "    >>> old_style_array = ak.to_awkward0(new_style_array)\n",
      "\n",
      "  DeprecationWarning\n"
     ]
    }
   ],
   "source": [
    "import matplotlib.pyplot as plt\n",
    "import numpy as np\n",
    "import time\n",
    "import torch\n",
    "import pandas as pd\n",
    "import mlflow\n",
    "\n",
    "# Python 3 standard library\n",
    "from pathlib import Path\n",
    "\n",
    "from torchsummary import summary\n",
    "\n",
    "'''\n",
    "HELPER FUNCTIONS\n",
    "'''\n",
    "# From model/collectdata.py\n",
    "from model.collectdata_mdsA import collect_data\n",
    "# For poca KDE\n",
    "from model.collectdata_poca_KDE import collect_data_poca\n",
    "\n",
    "# From model/loss.py\n",
    "##from loss import Loss\n",
    "from model.alt_loss_A import Loss\n",
    "\n",
    "# From model/training.py\n",
    "from model.training import trainNet, select_gpu, Results\n",
    "\n",
    "# From model/models.py\n",
    "##  will start with model from TwoFeatures_CNN6Layer_A in the first instance\n",
    "##  see relevant cell below\n",
    "\n",
    "from model.models_mjp_19November20 import ThreeFeature_6Layer_XYPretrain_A as ModelA\n",
    "from model.models_mjp_19November20 import ThreeFeature_6Layer_XYPretrain_E as ModelE\n",
    "from model.models_mjp_19November20 import ThreeFeature_8Layer_XYPretrain_W as ModelW\n",
    "from model.models_mjp_26December20 import ThreeFeature_10Layer_XYPretrain_X as ModelX\n",
    "from model.models_mjp_26December20 import ThreeFeature_8Layer_XYPretrain_Y as ModelY\n",
    "from model.models_mjp_30Jan21_AllCNN import ACN_3_P_10L_4S_BN as ModelXX\n",
    "\n",
    "# From model/utilities.py\n",
    "from model.utilities import load_full_state, count_parameters, Params\n",
    "\n",
    "from model.plots import dual_train_plots, replace_in_ax\n",
    "\n",
    "## adds image of model architecture\n",
    "import hiddenlayer as HL"
   ]
  },
  {
   "cell_type": "markdown",
   "metadata": {},
   "source": [
    "Set up Torch device configuration. All tensors and model parameters need to know where to be put.\n",
    "This takes a BUS ID number: The BUS ID is the same as the listing at the top of this script."
   ]
  },
  {
   "cell_type": "code",
   "execution_count": 4,
   "metadata": {},
   "outputs": [
    {
     "name": "stdout",
     "output_type": "stream",
     "text": [
      "1 available GPUs (initially using device 0):\n",
      "  0 TITAN V\n"
     ]
    },
    {
     "name": "stderr",
     "output_type": "stream",
     "text": [
      "/data/conda/envs/goofit-june2020/lib/python3.7/site-packages/ipykernel/ipkernel.py:287: DeprecationWarning: `should_run_async` will not call `transform_cell` automatically in the future. Please pass the result to `transformed_cell` argument and any exception that happen during thetransform in `preprocessing_exc_tuple` in IPython 7.17 and above.\n",
      "  and should_run_async(code)\n"
     ]
    }
   ],
   "source": [
    "device = select_gpu(2)"
   ]
  },
  {
   "cell_type": "markdown",
   "metadata": {},
   "source": [
    "### Set up local parameters"
   ]
  },
  {
   "cell_type": "code",
   "execution_count": 5,
   "metadata": {},
   "outputs": [],
   "source": [
    "# params order - batch size, epochs, lr, epoch_start (which is usually set to 0)\n",
    "args = Params(128, 1000, 4e-7, 1720)"
   ]
  },
  {
   "cell_type": "markdown",
   "metadata": {},
   "source": [
    "## Loading data\n",
    "\n",
    "Load the dataset, split into parts, then move to device (see `collectdata.py` in the `../model` directory)"
   ]
  },
  {
   "cell_type": "code",
   "execution_count": 6,
   "metadata": {
    "scrolled": true
   },
   "outputs": [
    {
     "name": "stdout",
     "output_type": "stream",
     "text": [
      "Loading data...\n",
      "Loaded /share/lazy/will/data/June30_2020_80k_1.h5 in 30.17 s\n",
      "Loaded /share/lazy/will/data/June30_2020_80k_3.h5 in 29.39 s\n",
      "Constructing 160000 event dataset took 1.267 s\n",
      "Loading data...\n",
      "Loaded /share/lazy/sokoloff/ML-data_AA/20K_POCA_kernel_evts_200926.h5 in 7.587 s\n",
      "Constructing 20000 event dataset took 0.1703 s\n"
     ]
    }
   ],
   "source": [
    "## newer vernacular\n",
    "## Training dataset. You can put as many files here as desired.\n",
    "\n",
    "'''\n",
    "## in this DEMO example we use only one 80K training set -- the model starts with well-trained weights,\n",
    "## and using a smaller training set reduces both the time to load the data and the time to train an epoch\n",
    "##  set the option load_XandXsq = True to use both DKE and KDE^2 as input features\n",
    "train_loader = collect_data('/share/lazy/sokoloff/ML-data_A/Aug14_80K_train.h5',\n",
    "                             '/share/lazy/sokoloff/ML-data_AA/Oct03_80K_train.h5',\n",
    "#                             '/share/lazy/sokoloff/ML-data_AA/Oct03_40K_train.h5',\n",
    "#                             '/share/lazy/will/ML_mdsA/June30_2020_80k_1.h5',\n",
    "#                             '/share/lazy/will/ML_mdsA/June30_2020_80k_3.h5',\n",
    "#                             '/share/lazy/will/ML_mdsA/June30_2020_80k_4.h5',\n",
    "#                             '/share/lazy/will/ML_mdsA/June30_2020_80k_5.h5',\n",
    "#                             '/share/lazy/will/ML_mdsA/June30_2020_80k_6.h5',\n",
    "#                             '/share/lazy/will/ML_mdsA/June30_2020_80k_7.h5',\n",
    "#                             '/share/lazy/will/ML_mdsA/June30_2020_80k_8.h5',\n",
    "#                             '/share/lazy/will/ML_mdsA/June30_2020_80k_9.h5',\n",
    "                            #'/share/lazy/sokoloff/ML-data_AA/Oct03_80K2_train.h5',\n",
    "                             batch_size=args.batch_size,\n",
    "## if we are using a larger dataset (240K events, with the datasets above, and 11 GB  of GPU memory),\n",
    "## not the dataset will overflow the GPU memory; device=device will allow the data to move back\n",
    "## and forth between the CPU and GPU memory. While this allows use of a larger dataset, it slows\n",
    "## down performance by about 10%.  So comment out when not needed.\n",
    "## \n",
    "                            #device=device,\n",
    "                            masking=True, shuffle=True,\n",
    "                            load_XandXsq=True,\n",
    "                            load_xy=True)\n",
    "\n",
    "# Validation dataset. You can slice to reduce the size.\n",
    "## dataAA -> /share/lazy/sokoloff/ML-data_AA/\n",
    "val_loader = collect_data('/share/lazy/sokoloff/ML-data_AA/Oct03_20K_val.h5',\n",
    "## mds val_loader = collect_data('dataAA/HLT1CPU_1kevts_val.h5',\n",
    "\n",
    "                          batch_size=args.batch_size,\n",
    "                          slice=slice(256 * 39),\n",
    "                          #device=device,\n",
    "                          masking=True, shuffle=False,\n",
    "                          load_XandXsq=True,\n",
    "                          load_xy=True)\n",
    "'''\n",
    "\n",
    "## This is used when training with the new KDE\n",
    "train_loader = collect_data_poca('/share/lazy/will/data/June30_2020_80k_1.h5',\n",
    "                            '/share/lazy/will/data/June30_2020_80k_3.h5',\n",
    "                            batch_size=args.batch_size,\n",
    "                            #device=device,\n",
    "                            masking=True, shuffle=True,\n",
    "                            load_XandXsq=True,\n",
    "                            load_xy=True,\n",
    "                           ## slice = slice(0,18000)\n",
    "                           )\n",
    "\n",
    "val_loader = collect_data_poca('/share/lazy/sokoloff/ML-data_AA/20K_POCA_kernel_evts_200926.h5',\n",
    "                            batch_size=args.batch_size,\n",
    "                            #device=device,\n",
    "                            masking=True, shuffle=True,\n",
    "                            load_XandXsq=True,\n",
    "                            load_xy=True,\n",
    "                            ##slice = slice(18000,None)\n",
    "                           )"
   ]
  },
  {
   "cell_type": "markdown",
   "metadata": {},
   "source": [
    "# Preparing the model"
   ]
  },
  {
   "cell_type": "markdown",
   "metadata": {},
   "source": [
    "Prepare a model, use multiple GPUs if they are VISIBLE, and move the model to the device."
   ]
  },
  {
   "cell_type": "code",
   "execution_count": 7,
   "metadata": {
    "scrolled": true
   },
   "outputs": [
    {
     "name": "stderr",
     "output_type": "stream",
     "text": [
      "WARNING:root:Malformed experiment 'ML'. Detailed error Yaml file '/share/lazy/pv-finder_model_repo/ML/meta.yaml' does not exist.\n",
      "Traceback (most recent call last):\n",
      "  File \"/home/michael24peters/.local/lib/python3.7/site-packages/mlflow/store/tracking/file_store.py\", line 197, in list_experiments\n",
      "    experiment = self._get_experiment(exp_id, view_type)\n",
      "  File \"/home/michael24peters/.local/lib/python3.7/site-packages/mlflow/store/tracking/file_store.py\", line 260, in _get_experiment\n",
      "    meta = read_yaml(experiment_dir, FileStore.META_DATA_FILE_NAME)\n",
      "  File \"/home/michael24peters/.local/lib/python3.7/site-packages/mlflow/utils/file_utils.py\", line 167, in read_yaml\n",
      "    raise MissingConfigException(\"Yaml file '%s' does not exist.\" % file_path)\n",
      "mlflow.exceptions.MissingConfigException: Yaml file '/share/lazy/pv-finder_model_repo/ML/meta.yaml' does not exist.\n"
     ]
    }
   ],
   "source": [
    "model = ModelXX()\n",
    "\n",
    "#summary(model.to(device), (1, 4000))\n",
    "\n",
    "mlflow.tracking.set_tracking_uri('file:/share/lazy/pv-finder_model_repo')\n",
    "mlflow.set_experiment('Four Feature AllCNN')"
   ]
  },
  {
   "cell_type": "code",
   "execution_count": 8,
   "metadata": {
    "scrolled": true
   },
   "outputs": [
    {
     "name": "stdout",
     "output_type": "stream",
     "text": [
      "Let's use 1 GPUs!\n"
     ]
    }
   ],
   "source": [
    "print(\"Let's use\", torch.cuda.device_count(), \"GPUs!\")\n",
    "if torch.cuda.device_count() > 1:\n",
    "    model = torch.nn.DataParallel(model)"
   ]
  },
  {
   "cell_type": "markdown",
   "metadata": {},
   "source": [
    "Let's move the model's weight matricies to the GPU:"
   ]
  },
  {
   "cell_type": "code",
   "execution_count": 9,
   "metadata": {},
   "outputs": [
    {
     "name": "stdout",
     "output_type": "stream",
     "text": [
      "we also froze 0 weights\n",
      "Of the 36.5 parameter layers to update in the current model, 36.5 were loaded\n"
     ]
    }
   ],
   "source": [
    "##  mds 200121 loss = Loss(epsilon=1e-5,coefficient=1.0)\n",
    "loss = Loss(epsilon=1e-5,coefficient=2.5)\n",
    "optimizer = torch.optim.Adam(model.parameters(), lr=args.lr)\n",
    "\n",
    "##  use the first five layers from a pre-existing model\n",
    "##  see example at https://discuss.pytorch.org/t/how-to-load-part-of-pre-trained-model/1113\n",
    "##   ML -> /share/lazy/sokoloff/ML\n",
    "\n",
    "#path = 'run_stats.pyt'\n",
    "#load_full_state(model, optimizer, path)\n",
    "# For other pretrained models, go to MLFlow and find the path for \"run_stats.pyt\"\n",
    "pretrained_dict = '/share/lazy/pv-finder_model_repo/12/1814a2acb1ad42deaa08684cf5e2b1e4/artifacts/run_stats.pyt'\n",
    "load_full_state(model, optimizer, pretrained_dict, freeze_weights=False)"
   ]
  },
  {
   "cell_type": "markdown",
   "metadata": {},
   "source": [
    "Let's move the model's weight matricies to the GPU:"
   ]
  },
  {
   "cell_type": "code",
   "execution_count": 10,
   "metadata": {
    "scrolled": true
   },
   "outputs": [
    {
     "data": {
      "text/plain": [
       "ACN_3_P_10L_4S_BN(\n",
       "  (conv1): Conv1d(1, 20, kernel_size=(25,), stride=(1,), padding=(12,))\n",
       "  (conv2): Conv1d(20, 10, kernel_size=(15,), stride=(1,), padding=(7,))\n",
       "  (conv3): Conv1d(30, 10, kernel_size=(15,), stride=(1,), padding=(7,))\n",
       "  (conv4): Conv1d(10, 10, kernel_size=(15,), stride=(1,), padding=(7,))\n",
       "  (conv5): Conv1d(20, 10, kernel_size=(15,), stride=(1,), padding=(7,))\n",
       "  (conv6): Conv1d(10, 10, kernel_size=(15,), stride=(1,), padding=(7,))\n",
       "  (conv7): Conv1d(20, 7, kernel_size=(5,), stride=(1,), padding=(2,))\n",
       "  (conv8): Conv1d(7, 3, kernel_size=(5,), stride=(1,), padding=(2,))\n",
       "  (conv9): Conv1d(10, 1, kernel_size=(5,), stride=(1,), padding=(2,))\n",
       "  (finalFilter): Conv1d(1, 1, kernel_size=(91,), stride=(1,), padding=(45,))\n",
       "  (ppConv1): Conv1d(2, 20, kernel_size=(25,), stride=(1,), padding=(12,))\n",
       "  (ppConv2): Conv1d(20, 10, kernel_size=(15,), stride=(1,), padding=(7,))\n",
       "  (ppConv3): Conv1d(10, 1, kernel_size=(15,), stride=(1,), padding=(7,))\n",
       "  (ppFC): Linear(in_features=4000, out_features=4000, bias=True)\n",
       "  (conv1dropout): Dropout(p=0.15, inplace=False)\n",
       "  (conv2dropout): Dropout(p=0.15, inplace=False)\n",
       "  (conv3dropout): Dropout(p=0.15, inplace=False)\n",
       "  (conv4dropout): Dropout(p=0.15, inplace=False)\n",
       "  (conv5dropout): Dropout(p=0.15, inplace=False)\n",
       "  (conv6dropout): Dropout(p=0.15, inplace=False)\n",
       "  (conv7dropout): Dropout(p=0.15, inplace=False)\n",
       "  (conv8dropout): Dropout(p=0.15, inplace=False)\n",
       "  (conv9dropout): Dropout(p=0.15, inplace=False)\n",
       "  (bn1): BatchNorm1d(20, eps=1e-05, momentum=0.1, affine=True, track_running_stats=True)\n",
       "  (bn2): BatchNorm1d(10, eps=1e-05, momentum=0.1, affine=True, track_running_stats=True)\n",
       "  (bn3): BatchNorm1d(10, eps=1e-05, momentum=0.1, affine=True, track_running_stats=True)\n",
       "  (bn4): BatchNorm1d(10, eps=1e-05, momentum=0.1, affine=True, track_running_stats=True)\n",
       "  (bn5): BatchNorm1d(10, eps=1e-05, momentum=0.1, affine=True, track_running_stats=True)\n",
       "  (bn6): BatchNorm1d(10, eps=1e-05, momentum=0.1, affine=True, track_running_stats=True)\n",
       "  (bn7): BatchNorm1d(7, eps=1e-05, momentum=0.1, affine=True, track_running_stats=True)\n",
       "  (bn8): BatchNorm1d(3, eps=1e-05, momentum=0.1, affine=True, track_running_stats=True)\n",
       "  (bn9): BatchNorm1d(1, eps=1e-05, momentum=0.1, affine=True, track_running_stats=True)\n",
       ")"
      ]
     },
     "execution_count": 10,
     "metadata": {},
     "output_type": "execute_result"
    }
   ],
   "source": [
    "model.to(device)"
   ]
  },
  {
   "cell_type": "markdown",
   "metadata": {},
   "source": [
    "## Train \n",
    "\n",
    "\n",
    "\n",
    "The body of this loop runs once per epoch. Results is a named tuple of values (loss per epoch for training and validation, time each). Start by setting up a plot first:"
   ]
  },
  {
   "cell_type": "code",
   "execution_count": 11,
   "metadata": {
    "scrolled": true
   },
   "outputs": [
    {
     "data": {
      "application/javascript": [
       "/* Put everything inside the global mpl namespace */\n",
       "window.mpl = {};\n",
       "\n",
       "\n",
       "mpl.get_websocket_type = function() {\n",
       "    if (typeof(WebSocket) !== 'undefined') {\n",
       "        return WebSocket;\n",
       "    } else if (typeof(MozWebSocket) !== 'undefined') {\n",
       "        return MozWebSocket;\n",
       "    } else {\n",
       "        alert('Your browser does not have WebSocket support. ' +\n",
       "              'Please try Chrome, Safari or Firefox ≥ 6. ' +\n",
       "              'Firefox 4 and 5 are also supported but you ' +\n",
       "              'have to enable WebSockets in about:config.');\n",
       "    };\n",
       "}\n",
       "\n",
       "mpl.figure = function(figure_id, websocket, ondownload, parent_element) {\n",
       "    this.id = figure_id;\n",
       "\n",
       "    this.ws = websocket;\n",
       "\n",
       "    this.supports_binary = (this.ws.binaryType != undefined);\n",
       "\n",
       "    if (!this.supports_binary) {\n",
       "        var warnings = document.getElementById(\"mpl-warnings\");\n",
       "        if (warnings) {\n",
       "            warnings.style.display = 'block';\n",
       "            warnings.textContent = (\n",
       "                \"This browser does not support binary websocket messages. \" +\n",
       "                    \"Performance may be slow.\");\n",
       "        }\n",
       "    }\n",
       "\n",
       "    this.imageObj = new Image();\n",
       "\n",
       "    this.context = undefined;\n",
       "    this.message = undefined;\n",
       "    this.canvas = undefined;\n",
       "    this.rubberband_canvas = undefined;\n",
       "    this.rubberband_context = undefined;\n",
       "    this.format_dropdown = undefined;\n",
       "\n",
       "    this.image_mode = 'full';\n",
       "\n",
       "    this.root = $('<div/>');\n",
       "    this._root_extra_style(this.root)\n",
       "    this.root.attr('style', 'display: inline-block');\n",
       "\n",
       "    $(parent_element).append(this.root);\n",
       "\n",
       "    this._init_header(this);\n",
       "    this._init_canvas(this);\n",
       "    this._init_toolbar(this);\n",
       "\n",
       "    var fig = this;\n",
       "\n",
       "    this.waiting = false;\n",
       "\n",
       "    this.ws.onopen =  function () {\n",
       "            fig.send_message(\"supports_binary\", {value: fig.supports_binary});\n",
       "            fig.send_message(\"send_image_mode\", {});\n",
       "            if (mpl.ratio != 1) {\n",
       "                fig.send_message(\"set_dpi_ratio\", {'dpi_ratio': mpl.ratio});\n",
       "            }\n",
       "            fig.send_message(\"refresh\", {});\n",
       "        }\n",
       "\n",
       "    this.imageObj.onload = function() {\n",
       "            if (fig.image_mode == 'full') {\n",
       "                // Full images could contain transparency (where diff images\n",
       "                // almost always do), so we need to clear the canvas so that\n",
       "                // there is no ghosting.\n",
       "                fig.context.clearRect(0, 0, fig.canvas.width, fig.canvas.height);\n",
       "            }\n",
       "            fig.context.drawImage(fig.imageObj, 0, 0);\n",
       "        };\n",
       "\n",
       "    this.imageObj.onunload = function() {\n",
       "        fig.ws.close();\n",
       "    }\n",
       "\n",
       "    this.ws.onmessage = this._make_on_message_function(this);\n",
       "\n",
       "    this.ondownload = ondownload;\n",
       "}\n",
       "\n",
       "mpl.figure.prototype._init_header = function() {\n",
       "    var titlebar = $(\n",
       "        '<div class=\"ui-dialog-titlebar ui-widget-header ui-corner-all ' +\n",
       "        'ui-helper-clearfix\"/>');\n",
       "    var titletext = $(\n",
       "        '<div class=\"ui-dialog-title\" style=\"width: 100%; ' +\n",
       "        'text-align: center; padding: 3px;\"/>');\n",
       "    titlebar.append(titletext)\n",
       "    this.root.append(titlebar);\n",
       "    this.header = titletext[0];\n",
       "}\n",
       "\n",
       "\n",
       "\n",
       "mpl.figure.prototype._canvas_extra_style = function(canvas_div) {\n",
       "\n",
       "}\n",
       "\n",
       "\n",
       "mpl.figure.prototype._root_extra_style = function(canvas_div) {\n",
       "\n",
       "}\n",
       "\n",
       "mpl.figure.prototype._init_canvas = function() {\n",
       "    var fig = this;\n",
       "\n",
       "    var canvas_div = $('<div/>');\n",
       "\n",
       "    canvas_div.attr('style', 'position: relative; clear: both; outline: 0');\n",
       "\n",
       "    function canvas_keyboard_event(event) {\n",
       "        return fig.key_event(event, event['data']);\n",
       "    }\n",
       "\n",
       "    canvas_div.keydown('key_press', canvas_keyboard_event);\n",
       "    canvas_div.keyup('key_release', canvas_keyboard_event);\n",
       "    this.canvas_div = canvas_div\n",
       "    this._canvas_extra_style(canvas_div)\n",
       "    this.root.append(canvas_div);\n",
       "\n",
       "    var canvas = $('<canvas/>');\n",
       "    canvas.addClass('mpl-canvas');\n",
       "    canvas.attr('style', \"left: 0; top: 0; z-index: 0; outline: 0\")\n",
       "\n",
       "    this.canvas = canvas[0];\n",
       "    this.context = canvas[0].getContext(\"2d\");\n",
       "\n",
       "    var backingStore = this.context.backingStorePixelRatio ||\n",
       "\tthis.context.webkitBackingStorePixelRatio ||\n",
       "\tthis.context.mozBackingStorePixelRatio ||\n",
       "\tthis.context.msBackingStorePixelRatio ||\n",
       "\tthis.context.oBackingStorePixelRatio ||\n",
       "\tthis.context.backingStorePixelRatio || 1;\n",
       "\n",
       "    mpl.ratio = (window.devicePixelRatio || 1) / backingStore;\n",
       "\n",
       "    var rubberband = $('<canvas/>');\n",
       "    rubberband.attr('style', \"position: absolute; left: 0; top: 0; z-index: 1;\")\n",
       "\n",
       "    var pass_mouse_events = true;\n",
       "\n",
       "    canvas_div.resizable({\n",
       "        start: function(event, ui) {\n",
       "            pass_mouse_events = false;\n",
       "        },\n",
       "        resize: function(event, ui) {\n",
       "            fig.request_resize(ui.size.width, ui.size.height);\n",
       "        },\n",
       "        stop: function(event, ui) {\n",
       "            pass_mouse_events = true;\n",
       "            fig.request_resize(ui.size.width, ui.size.height);\n",
       "        },\n",
       "    });\n",
       "\n",
       "    function mouse_event_fn(event) {\n",
       "        if (pass_mouse_events)\n",
       "            return fig.mouse_event(event, event['data']);\n",
       "    }\n",
       "\n",
       "    rubberband.mousedown('button_press', mouse_event_fn);\n",
       "    rubberband.mouseup('button_release', mouse_event_fn);\n",
       "    // Throttle sequential mouse events to 1 every 20ms.\n",
       "    rubberband.mousemove('motion_notify', mouse_event_fn);\n",
       "\n",
       "    rubberband.mouseenter('figure_enter', mouse_event_fn);\n",
       "    rubberband.mouseleave('figure_leave', mouse_event_fn);\n",
       "\n",
       "    canvas_div.on(\"wheel\", function (event) {\n",
       "        event = event.originalEvent;\n",
       "        event['data'] = 'scroll'\n",
       "        if (event.deltaY < 0) {\n",
       "            event.step = 1;\n",
       "        } else {\n",
       "            event.step = -1;\n",
       "        }\n",
       "        mouse_event_fn(event);\n",
       "    });\n",
       "\n",
       "    canvas_div.append(canvas);\n",
       "    canvas_div.append(rubberband);\n",
       "\n",
       "    this.rubberband = rubberband;\n",
       "    this.rubberband_canvas = rubberband[0];\n",
       "    this.rubberband_context = rubberband[0].getContext(\"2d\");\n",
       "    this.rubberband_context.strokeStyle = \"#000000\";\n",
       "\n",
       "    this._resize_canvas = function(width, height) {\n",
       "        // Keep the size of the canvas, canvas container, and rubber band\n",
       "        // canvas in synch.\n",
       "        canvas_div.css('width', width)\n",
       "        canvas_div.css('height', height)\n",
       "\n",
       "        canvas.attr('width', width * mpl.ratio);\n",
       "        canvas.attr('height', height * mpl.ratio);\n",
       "        canvas.attr('style', 'width: ' + width + 'px; height: ' + height + 'px;');\n",
       "\n",
       "        rubberband.attr('width', width);\n",
       "        rubberband.attr('height', height);\n",
       "    }\n",
       "\n",
       "    // Set the figure to an initial 600x600px, this will subsequently be updated\n",
       "    // upon first draw.\n",
       "    this._resize_canvas(600, 600);\n",
       "\n",
       "    // Disable right mouse context menu.\n",
       "    $(this.rubberband_canvas).bind(\"contextmenu\",function(e){\n",
       "        return false;\n",
       "    });\n",
       "\n",
       "    function set_focus () {\n",
       "        canvas.focus();\n",
       "        canvas_div.focus();\n",
       "    }\n",
       "\n",
       "    window.setTimeout(set_focus, 100);\n",
       "}\n",
       "\n",
       "mpl.figure.prototype._init_toolbar = function() {\n",
       "    var fig = this;\n",
       "\n",
       "    var nav_element = $('<div/>');\n",
       "    nav_element.attr('style', 'width: 100%');\n",
       "    this.root.append(nav_element);\n",
       "\n",
       "    // Define a callback function for later on.\n",
       "    function toolbar_event(event) {\n",
       "        return fig.toolbar_button_onclick(event['data']);\n",
       "    }\n",
       "    function toolbar_mouse_event(event) {\n",
       "        return fig.toolbar_button_onmouseover(event['data']);\n",
       "    }\n",
       "\n",
       "    for(var toolbar_ind in mpl.toolbar_items) {\n",
       "        var name = mpl.toolbar_items[toolbar_ind][0];\n",
       "        var tooltip = mpl.toolbar_items[toolbar_ind][1];\n",
       "        var image = mpl.toolbar_items[toolbar_ind][2];\n",
       "        var method_name = mpl.toolbar_items[toolbar_ind][3];\n",
       "\n",
       "        if (!name) {\n",
       "            // put a spacer in here.\n",
       "            continue;\n",
       "        }\n",
       "        var button = $('<button/>');\n",
       "        button.addClass('ui-button ui-widget ui-state-default ui-corner-all ' +\n",
       "                        'ui-button-icon-only');\n",
       "        button.attr('role', 'button');\n",
       "        button.attr('aria-disabled', 'false');\n",
       "        button.click(method_name, toolbar_event);\n",
       "        button.mouseover(tooltip, toolbar_mouse_event);\n",
       "\n",
       "        var icon_img = $('<span/>');\n",
       "        icon_img.addClass('ui-button-icon-primary ui-icon');\n",
       "        icon_img.addClass(image);\n",
       "        icon_img.addClass('ui-corner-all');\n",
       "\n",
       "        var tooltip_span = $('<span/>');\n",
       "        tooltip_span.addClass('ui-button-text');\n",
       "        tooltip_span.html(tooltip);\n",
       "\n",
       "        button.append(icon_img);\n",
       "        button.append(tooltip_span);\n",
       "\n",
       "        nav_element.append(button);\n",
       "    }\n",
       "\n",
       "    var fmt_picker_span = $('<span/>');\n",
       "\n",
       "    var fmt_picker = $('<select/>');\n",
       "    fmt_picker.addClass('mpl-toolbar-option ui-widget ui-widget-content');\n",
       "    fmt_picker_span.append(fmt_picker);\n",
       "    nav_element.append(fmt_picker_span);\n",
       "    this.format_dropdown = fmt_picker[0];\n",
       "\n",
       "    for (var ind in mpl.extensions) {\n",
       "        var fmt = mpl.extensions[ind];\n",
       "        var option = $(\n",
       "            '<option/>', {selected: fmt === mpl.default_extension}).html(fmt);\n",
       "        fmt_picker.append(option);\n",
       "    }\n",
       "\n",
       "    // Add hover states to the ui-buttons\n",
       "    $( \".ui-button\" ).hover(\n",
       "        function() { $(this).addClass(\"ui-state-hover\");},\n",
       "        function() { $(this).removeClass(\"ui-state-hover\");}\n",
       "    );\n",
       "\n",
       "    var status_bar = $('<span class=\"mpl-message\"/>');\n",
       "    nav_element.append(status_bar);\n",
       "    this.message = status_bar[0];\n",
       "}\n",
       "\n",
       "mpl.figure.prototype.request_resize = function(x_pixels, y_pixels) {\n",
       "    // Request matplotlib to resize the figure. Matplotlib will then trigger a resize in the client,\n",
       "    // which will in turn request a refresh of the image.\n",
       "    this.send_message('resize', {'width': x_pixels, 'height': y_pixels});\n",
       "}\n",
       "\n",
       "mpl.figure.prototype.send_message = function(type, properties) {\n",
       "    properties['type'] = type;\n",
       "    properties['figure_id'] = this.id;\n",
       "    this.ws.send(JSON.stringify(properties));\n",
       "}\n",
       "\n",
       "mpl.figure.prototype.send_draw_message = function() {\n",
       "    if (!this.waiting) {\n",
       "        this.waiting = true;\n",
       "        this.ws.send(JSON.stringify({type: \"draw\", figure_id: this.id}));\n",
       "    }\n",
       "}\n",
       "\n",
       "\n",
       "mpl.figure.prototype.handle_save = function(fig, msg) {\n",
       "    var format_dropdown = fig.format_dropdown;\n",
       "    var format = format_dropdown.options[format_dropdown.selectedIndex].value;\n",
       "    fig.ondownload(fig, format);\n",
       "}\n",
       "\n",
       "\n",
       "mpl.figure.prototype.handle_resize = function(fig, msg) {\n",
       "    var size = msg['size'];\n",
       "    if (size[0] != fig.canvas.width || size[1] != fig.canvas.height) {\n",
       "        fig._resize_canvas(size[0], size[1]);\n",
       "        fig.send_message(\"refresh\", {});\n",
       "    };\n",
       "}\n",
       "\n",
       "mpl.figure.prototype.handle_rubberband = function(fig, msg) {\n",
       "    var x0 = msg['x0'] / mpl.ratio;\n",
       "    var y0 = (fig.canvas.height - msg['y0']) / mpl.ratio;\n",
       "    var x1 = msg['x1'] / mpl.ratio;\n",
       "    var y1 = (fig.canvas.height - msg['y1']) / mpl.ratio;\n",
       "    x0 = Math.floor(x0) + 0.5;\n",
       "    y0 = Math.floor(y0) + 0.5;\n",
       "    x1 = Math.floor(x1) + 0.5;\n",
       "    y1 = Math.floor(y1) + 0.5;\n",
       "    var min_x = Math.min(x0, x1);\n",
       "    var min_y = Math.min(y0, y1);\n",
       "    var width = Math.abs(x1 - x0);\n",
       "    var height = Math.abs(y1 - y0);\n",
       "\n",
       "    fig.rubberband_context.clearRect(\n",
       "        0, 0, fig.canvas.width / mpl.ratio, fig.canvas.height / mpl.ratio);\n",
       "\n",
       "    fig.rubberband_context.strokeRect(min_x, min_y, width, height);\n",
       "}\n",
       "\n",
       "mpl.figure.prototype.handle_figure_label = function(fig, msg) {\n",
       "    // Updates the figure title.\n",
       "    fig.header.textContent = msg['label'];\n",
       "}\n",
       "\n",
       "mpl.figure.prototype.handle_cursor = function(fig, msg) {\n",
       "    var cursor = msg['cursor'];\n",
       "    switch(cursor)\n",
       "    {\n",
       "    case 0:\n",
       "        cursor = 'pointer';\n",
       "        break;\n",
       "    case 1:\n",
       "        cursor = 'default';\n",
       "        break;\n",
       "    case 2:\n",
       "        cursor = 'crosshair';\n",
       "        break;\n",
       "    case 3:\n",
       "        cursor = 'move';\n",
       "        break;\n",
       "    }\n",
       "    fig.rubberband_canvas.style.cursor = cursor;\n",
       "}\n",
       "\n",
       "mpl.figure.prototype.handle_message = function(fig, msg) {\n",
       "    fig.message.textContent = msg['message'];\n",
       "}\n",
       "\n",
       "mpl.figure.prototype.handle_draw = function(fig, msg) {\n",
       "    // Request the server to send over a new figure.\n",
       "    fig.send_draw_message();\n",
       "}\n",
       "\n",
       "mpl.figure.prototype.handle_image_mode = function(fig, msg) {\n",
       "    fig.image_mode = msg['mode'];\n",
       "}\n",
       "\n",
       "mpl.figure.prototype.updated_canvas_event = function() {\n",
       "    // Called whenever the canvas gets updated.\n",
       "    this.send_message(\"ack\", {});\n",
       "}\n",
       "\n",
       "// A function to construct a web socket function for onmessage handling.\n",
       "// Called in the figure constructor.\n",
       "mpl.figure.prototype._make_on_message_function = function(fig) {\n",
       "    return function socket_on_message(evt) {\n",
       "        if (evt.data instanceof Blob) {\n",
       "            /* FIXME: We get \"Resource interpreted as Image but\n",
       "             * transferred with MIME type text/plain:\" errors on\n",
       "             * Chrome.  But how to set the MIME type?  It doesn't seem\n",
       "             * to be part of the websocket stream */\n",
       "            evt.data.type = \"image/png\";\n",
       "\n",
       "            /* Free the memory for the previous frames */\n",
       "            if (fig.imageObj.src) {\n",
       "                (window.URL || window.webkitURL).revokeObjectURL(\n",
       "                    fig.imageObj.src);\n",
       "            }\n",
       "\n",
       "            fig.imageObj.src = (window.URL || window.webkitURL).createObjectURL(\n",
       "                evt.data);\n",
       "            fig.updated_canvas_event();\n",
       "            fig.waiting = false;\n",
       "            return;\n",
       "        }\n",
       "        else if (typeof evt.data === 'string' && evt.data.slice(0, 21) == \"data:image/png;base64\") {\n",
       "            fig.imageObj.src = evt.data;\n",
       "            fig.updated_canvas_event();\n",
       "            fig.waiting = false;\n",
       "            return;\n",
       "        }\n",
       "\n",
       "        var msg = JSON.parse(evt.data);\n",
       "        var msg_type = msg['type'];\n",
       "\n",
       "        // Call the  \"handle_{type}\" callback, which takes\n",
       "        // the figure and JSON message as its only arguments.\n",
       "        try {\n",
       "            var callback = fig[\"handle_\" + msg_type];\n",
       "        } catch (e) {\n",
       "            console.log(\"No handler for the '\" + msg_type + \"' message type: \", msg);\n",
       "            return;\n",
       "        }\n",
       "\n",
       "        if (callback) {\n",
       "            try {\n",
       "                // console.log(\"Handling '\" + msg_type + \"' message: \", msg);\n",
       "                callback(fig, msg);\n",
       "            } catch (e) {\n",
       "                console.log(\"Exception inside the 'handler_\" + msg_type + \"' callback:\", e, e.stack, msg);\n",
       "            }\n",
       "        }\n",
       "    };\n",
       "}\n",
       "\n",
       "// from http://stackoverflow.com/questions/1114465/getting-mouse-location-in-canvas\n",
       "mpl.findpos = function(e) {\n",
       "    //this section is from http://www.quirksmode.org/js/events_properties.html\n",
       "    var targ;\n",
       "    if (!e)\n",
       "        e = window.event;\n",
       "    if (e.target)\n",
       "        targ = e.target;\n",
       "    else if (e.srcElement)\n",
       "        targ = e.srcElement;\n",
       "    if (targ.nodeType == 3) // defeat Safari bug\n",
       "        targ = targ.parentNode;\n",
       "\n",
       "    // jQuery normalizes the pageX and pageY\n",
       "    // pageX,Y are the mouse positions relative to the document\n",
       "    // offset() returns the position of the element relative to the document\n",
       "    var x = e.pageX - $(targ).offset().left;\n",
       "    var y = e.pageY - $(targ).offset().top;\n",
       "\n",
       "    return {\"x\": x, \"y\": y};\n",
       "};\n",
       "\n",
       "/*\n",
       " * return a copy of an object with only non-object keys\n",
       " * we need this to avoid circular references\n",
       " * http://stackoverflow.com/a/24161582/3208463\n",
       " */\n",
       "function simpleKeys (original) {\n",
       "  return Object.keys(original).reduce(function (obj, key) {\n",
       "    if (typeof original[key] !== 'object')\n",
       "        obj[key] = original[key]\n",
       "    return obj;\n",
       "  }, {});\n",
       "}\n",
       "\n",
       "mpl.figure.prototype.mouse_event = function(event, name) {\n",
       "    var canvas_pos = mpl.findpos(event)\n",
       "\n",
       "    if (name === 'button_press')\n",
       "    {\n",
       "        this.canvas.focus();\n",
       "        this.canvas_div.focus();\n",
       "    }\n",
       "\n",
       "    var x = canvas_pos.x * mpl.ratio;\n",
       "    var y = canvas_pos.y * mpl.ratio;\n",
       "\n",
       "    this.send_message(name, {x: x, y: y, button: event.button,\n",
       "                             step: event.step,\n",
       "                             guiEvent: simpleKeys(event)});\n",
       "\n",
       "    /* This prevents the web browser from automatically changing to\n",
       "     * the text insertion cursor when the button is pressed.  We want\n",
       "     * to control all of the cursor setting manually through the\n",
       "     * 'cursor' event from matplotlib */\n",
       "    event.preventDefault();\n",
       "    return false;\n",
       "}\n",
       "\n",
       "mpl.figure.prototype._key_event_extra = function(event, name) {\n",
       "    // Handle any extra behaviour associated with a key event\n",
       "}\n",
       "\n",
       "mpl.figure.prototype.key_event = function(event, name) {\n",
       "\n",
       "    // Prevent repeat events\n",
       "    if (name == 'key_press')\n",
       "    {\n",
       "        if (event.which === this._key)\n",
       "            return;\n",
       "        else\n",
       "            this._key = event.which;\n",
       "    }\n",
       "    if (name == 'key_release')\n",
       "        this._key = null;\n",
       "\n",
       "    var value = '';\n",
       "    if (event.ctrlKey && event.which != 17)\n",
       "        value += \"ctrl+\";\n",
       "    if (event.altKey && event.which != 18)\n",
       "        value += \"alt+\";\n",
       "    if (event.shiftKey && event.which != 16)\n",
       "        value += \"shift+\";\n",
       "\n",
       "    value += 'k';\n",
       "    value += event.which.toString();\n",
       "\n",
       "    this._key_event_extra(event, name);\n",
       "\n",
       "    this.send_message(name, {key: value,\n",
       "                             guiEvent: simpleKeys(event)});\n",
       "    return false;\n",
       "}\n",
       "\n",
       "mpl.figure.prototype.toolbar_button_onclick = function(name) {\n",
       "    if (name == 'download') {\n",
       "        this.handle_save(this, null);\n",
       "    } else {\n",
       "        this.send_message(\"toolbar_button\", {name: name});\n",
       "    }\n",
       "};\n",
       "\n",
       "mpl.figure.prototype.toolbar_button_onmouseover = function(tooltip) {\n",
       "    this.message.textContent = tooltip;\n",
       "};\n",
       "mpl.toolbar_items = [[\"Home\", \"Reset original view\", \"fa fa-home icon-home\", \"home\"], [\"Back\", \"Back to previous view\", \"fa fa-arrow-left icon-arrow-left\", \"back\"], [\"Forward\", \"Forward to next view\", \"fa fa-arrow-right icon-arrow-right\", \"forward\"], [\"\", \"\", \"\", \"\"], [\"Pan\", \"Pan axes with left mouse, zoom with right\", \"fa fa-arrows icon-move\", \"pan\"], [\"Zoom\", \"Zoom to rectangle\", \"fa fa-square-o icon-check-empty\", \"zoom\"], [\"\", \"\", \"\", \"\"], [\"Download\", \"Download plot\", \"fa fa-floppy-o icon-save\", \"download\"]];\n",
       "\n",
       "mpl.extensions = [\"eps\", \"jpeg\", \"pdf\", \"png\", \"ps\", \"raw\", \"svg\", \"tif\"];\n",
       "\n",
       "mpl.default_extension = \"png\";var comm_websocket_adapter = function(comm) {\n",
       "    // Create a \"websocket\"-like object which calls the given IPython comm\n",
       "    // object with the appropriate methods. Currently this is a non binary\n",
       "    // socket, so there is still some room for performance tuning.\n",
       "    var ws = {};\n",
       "\n",
       "    ws.close = function() {\n",
       "        comm.close()\n",
       "    };\n",
       "    ws.send = function(m) {\n",
       "        //console.log('sending', m);\n",
       "        comm.send(m);\n",
       "    };\n",
       "    // Register the callback with on_msg.\n",
       "    comm.on_msg(function(msg) {\n",
       "        //console.log('receiving', msg['content']['data'], msg);\n",
       "        // Pass the mpl event to the overridden (by mpl) onmessage function.\n",
       "        ws.onmessage(msg['content']['data'])\n",
       "    });\n",
       "    return ws;\n",
       "}\n",
       "\n",
       "mpl.mpl_figure_comm = function(comm, msg) {\n",
       "    // This is the function which gets called when the mpl process\n",
       "    // starts-up an IPython Comm through the \"matplotlib\" channel.\n",
       "\n",
       "    var id = msg.content.data.id;\n",
       "    // Get hold of the div created by the display call when the Comm\n",
       "    // socket was opened in Python.\n",
       "    var element = $(\"#\" + id);\n",
       "    var ws_proxy = comm_websocket_adapter(comm)\n",
       "\n",
       "    function ondownload(figure, format) {\n",
       "        window.open(figure.imageObj.src);\n",
       "    }\n",
       "\n",
       "    var fig = new mpl.figure(id, ws_proxy,\n",
       "                           ondownload,\n",
       "                           element.get(0));\n",
       "\n",
       "    // Call onopen now - mpl needs it, as it is assuming we've passed it a real\n",
       "    // web socket which is closed, not our websocket->open comm proxy.\n",
       "    ws_proxy.onopen();\n",
       "\n",
       "    fig.parent_element = element.get(0);\n",
       "    fig.cell_info = mpl.find_output_cell(\"<div id='\" + id + \"'></div>\");\n",
       "    if (!fig.cell_info) {\n",
       "        console.error(\"Failed to find cell for figure\", id, fig);\n",
       "        return;\n",
       "    }\n",
       "\n",
       "    var output_index = fig.cell_info[2]\n",
       "    var cell = fig.cell_info[0];\n",
       "\n",
       "};\n",
       "\n",
       "mpl.figure.prototype.handle_close = function(fig, msg) {\n",
       "    var width = fig.canvas.width/mpl.ratio\n",
       "    fig.root.unbind('remove')\n",
       "\n",
       "    // Update the output cell to use the data from the current canvas.\n",
       "    fig.push_to_output();\n",
       "    var dataURL = fig.canvas.toDataURL();\n",
       "    // Re-enable the keyboard manager in IPython - without this line, in FF,\n",
       "    // the notebook keyboard shortcuts fail.\n",
       "    IPython.keyboard_manager.enable()\n",
       "    $(fig.parent_element).html('<img src=\"' + dataURL + '\" width=\"' + width + '\">');\n",
       "    fig.close_ws(fig, msg);\n",
       "}\n",
       "\n",
       "mpl.figure.prototype.close_ws = function(fig, msg){\n",
       "    fig.send_message('closing', msg);\n",
       "    // fig.ws.close()\n",
       "}\n",
       "\n",
       "mpl.figure.prototype.push_to_output = function(remove_interactive) {\n",
       "    // Turn the data on the canvas into data in the output cell.\n",
       "    var width = this.canvas.width/mpl.ratio\n",
       "    var dataURL = this.canvas.toDataURL();\n",
       "    this.cell_info[1]['text/html'] = '<img src=\"' + dataURL + '\" width=\"' + width + '\">';\n",
       "}\n",
       "\n",
       "mpl.figure.prototype.updated_canvas_event = function() {\n",
       "    // Tell IPython that the notebook contents must change.\n",
       "    IPython.notebook.set_dirty(true);\n",
       "    this.send_message(\"ack\", {});\n",
       "    var fig = this;\n",
       "    // Wait a second, then push the new image to the DOM so\n",
       "    // that it is saved nicely (might be nice to debounce this).\n",
       "    setTimeout(function () { fig.push_to_output() }, 1000);\n",
       "}\n",
       "\n",
       "mpl.figure.prototype._init_toolbar = function() {\n",
       "    var fig = this;\n",
       "\n",
       "    var nav_element = $('<div/>');\n",
       "    nav_element.attr('style', 'width: 100%');\n",
       "    this.root.append(nav_element);\n",
       "\n",
       "    // Define a callback function for later on.\n",
       "    function toolbar_event(event) {\n",
       "        return fig.toolbar_button_onclick(event['data']);\n",
       "    }\n",
       "    function toolbar_mouse_event(event) {\n",
       "        return fig.toolbar_button_onmouseover(event['data']);\n",
       "    }\n",
       "\n",
       "    for(var toolbar_ind in mpl.toolbar_items){\n",
       "        var name = mpl.toolbar_items[toolbar_ind][0];\n",
       "        var tooltip = mpl.toolbar_items[toolbar_ind][1];\n",
       "        var image = mpl.toolbar_items[toolbar_ind][2];\n",
       "        var method_name = mpl.toolbar_items[toolbar_ind][3];\n",
       "\n",
       "        if (!name) { continue; };\n",
       "\n",
       "        var button = $('<button class=\"btn btn-default\" href=\"#\" title=\"' + name + '\"><i class=\"fa ' + image + ' fa-lg\"></i></button>');\n",
       "        button.click(method_name, toolbar_event);\n",
       "        button.mouseover(tooltip, toolbar_mouse_event);\n",
       "        nav_element.append(button);\n",
       "    }\n",
       "\n",
       "    // Add the status bar.\n",
       "    var status_bar = $('<span class=\"mpl-message\" style=\"text-align:right; float: right;\"/>');\n",
       "    nav_element.append(status_bar);\n",
       "    this.message = status_bar[0];\n",
       "\n",
       "    // Add the close button to the window.\n",
       "    var buttongrp = $('<div class=\"btn-group inline pull-right\"></div>');\n",
       "    var button = $('<button class=\"btn btn-mini btn-primary\" href=\"#\" title=\"Stop Interaction\"><i class=\"fa fa-power-off icon-remove icon-large\"></i></button>');\n",
       "    button.click(function (evt) { fig.handle_close(fig, {}); } );\n",
       "    button.mouseover('Stop Interaction', toolbar_mouse_event);\n",
       "    buttongrp.append(button);\n",
       "    var titlebar = this.root.find($('.ui-dialog-titlebar'));\n",
       "    titlebar.prepend(buttongrp);\n",
       "}\n",
       "\n",
       "mpl.figure.prototype._root_extra_style = function(el){\n",
       "    var fig = this\n",
       "    el.on(\"remove\", function(){\n",
       "\tfig.close_ws(fig, {});\n",
       "    });\n",
       "}\n",
       "\n",
       "mpl.figure.prototype._canvas_extra_style = function(el){\n",
       "    // this is important to make the div 'focusable\n",
       "    el.attr('tabindex', 0)\n",
       "    // reach out to IPython and tell the keyboard manager to turn it's self\n",
       "    // off when our div gets focus\n",
       "\n",
       "    // location in version 3\n",
       "    if (IPython.notebook.keyboard_manager) {\n",
       "        IPython.notebook.keyboard_manager.register_events(el);\n",
       "    }\n",
       "    else {\n",
       "        // location in version 2\n",
       "        IPython.keyboard_manager.register_events(el);\n",
       "    }\n",
       "\n",
       "}\n",
       "\n",
       "mpl.figure.prototype._key_event_extra = function(event, name) {\n",
       "    var manager = IPython.notebook.keyboard_manager;\n",
       "    if (!manager)\n",
       "        manager = IPython.keyboard_manager;\n",
       "\n",
       "    // Check for shift+enter\n",
       "    if (event.shiftKey && event.which == 13) {\n",
       "        this.canvas_div.blur();\n",
       "        // select the cell after this one\n",
       "        var index = IPython.notebook.find_cell_index(this.cell_info[0]);\n",
       "        IPython.notebook.select(index + 1);\n",
       "    }\n",
       "}\n",
       "\n",
       "mpl.figure.prototype.handle_save = function(fig, msg) {\n",
       "    fig.ondownload(fig, null);\n",
       "}\n",
       "\n",
       "\n",
       "mpl.find_output_cell = function(html_output) {\n",
       "    // Return the cell and output element which can be found *uniquely* in the notebook.\n",
       "    // Note - this is a bit hacky, but it is done because the \"notebook_saving.Notebook\"\n",
       "    // IPython event is triggered only after the cells have been serialised, which for\n",
       "    // our purposes (turning an active figure into a static one), is too late.\n",
       "    var cells = IPython.notebook.get_cells();\n",
       "    var ncells = cells.length;\n",
       "    for (var i=0; i<ncells; i++) {\n",
       "        var cell = cells[i];\n",
       "        if (cell.cell_type === 'code'){\n",
       "            for (var j=0; j<cell.output_area.outputs.length; j++) {\n",
       "                var data = cell.output_area.outputs[j];\n",
       "                if (data.data) {\n",
       "                    // IPython >= 3 moved mimebundle to data attribute of output\n",
       "                    data = data.data;\n",
       "                }\n",
       "                if (data['text/html'] == html_output) {\n",
       "                    return [cell, data, j];\n",
       "                }\n",
       "            }\n",
       "        }\n",
       "    }\n",
       "}\n",
       "\n",
       "// Register the function which deals with the matplotlib target/channel.\n",
       "// The kernel may be null if the page has been refreshed.\n",
       "if (IPython.notebook.kernel != null) {\n",
       "    IPython.notebook.kernel.comm_manager.register_target('matplotlib', mpl.mpl_figure_comm);\n",
       "}\n"
      ],
      "text/plain": [
       "<IPython.core.display.Javascript object>"
      ]
     },
     "metadata": {},
     "output_type": "display_data"
    },
    {
     "data": {
      "text/html": [
       "<img src=\"data:image/png;base64,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\" width=\"1000\">"
      ],
      "text/plain": [
       "<IPython.core.display.HTML object>"
      ]
     },
     "metadata": {},
     "output_type": "display_data"
    }
   ],
   "source": [
    "ax, tax, lax, lines = dual_train_plots()\n",
    "fig = ax.figure\n",
    "plt.tight_layout()\n",
    "# This gets built up during the run - do not rerun this cell\n",
    "results = pd.DataFrame([], columns=Results._fields)"
   ]
  },
  {
   "cell_type": "code",
   "execution_count": null,
   "metadata": {
    "scrolled": false
   },
   "outputs": [
    {
     "name": "stdout",
     "output_type": "stream",
     "text": [
      "for model:  ACN_3_P_10L_4S_BN(\n",
      "  (conv1): Conv1d(1, 20, kernel_size=(25,), stride=(1,), padding=(12,))\n",
      "  (conv2): Conv1d(20, 10, kernel_size=(15,), stride=(1,), padding=(7,))\n",
      "  (conv3): Conv1d(30, 10, kernel_size=(15,), stride=(1,), padding=(7,))\n",
      "  (conv4): Conv1d(10, 10, kernel_size=(15,), stride=(1,), padding=(7,))\n",
      "  (conv5): Conv1d(20, 10, kernel_size=(15,), stride=(1,), padding=(7,))\n",
      "  (conv6): Conv1d(10, 10, kernel_size=(15,), stride=(1,), padding=(7,))\n",
      "  (conv7): Conv1d(20, 7, kernel_size=(5,), stride=(1,), padding=(2,))\n",
      "  (conv8): Conv1d(7, 3, kernel_size=(5,), stride=(1,), padding=(2,))\n",
      "  (conv9): Conv1d(10, 1, kernel_size=(5,), stride=(1,), padding=(2,))\n",
      "  (finalFilter): Conv1d(1, 1, kernel_size=(91,), stride=(1,), padding=(45,))\n",
      "  (ppConv1): Conv1d(2, 20, kernel_size=(25,), stride=(1,), padding=(12,))\n",
      "  (ppConv2): Conv1d(20, 10, kernel_size=(15,), stride=(1,), padding=(7,))\n",
      "  (ppConv3): Conv1d(10, 1, kernel_size=(15,), stride=(1,), padding=(7,))\n",
      "  (ppFC): Linear(in_features=4000, out_features=4000, bias=True)\n",
      "  (conv1dropout): Dropout(p=0.15, inplace=False)\n",
      "  (conv2dropout): Dropout(p=0.15, inplace=False)\n",
      "  (conv3dropout): Dropout(p=0.15, inplace=False)\n",
      "  (conv4dropout): Dropout(p=0.15, inplace=False)\n",
      "  (conv5dropout): Dropout(p=0.15, inplace=False)\n",
      "  (conv6dropout): Dropout(p=0.15, inplace=False)\n",
      "  (conv7dropout): Dropout(p=0.15, inplace=False)\n",
      "  (conv8dropout): Dropout(p=0.15, inplace=False)\n",
      "  (conv9dropout): Dropout(p=0.15, inplace=False)\n",
      "  (bn1): BatchNorm1d(20, eps=1e-05, momentum=0.1, affine=True, track_running_stats=True)\n",
      "  (bn2): BatchNorm1d(10, eps=1e-05, momentum=0.1, affine=True, track_running_stats=True)\n",
      "  (bn3): BatchNorm1d(10, eps=1e-05, momentum=0.1, affine=True, track_running_stats=True)\n",
      "  (bn4): BatchNorm1d(10, eps=1e-05, momentum=0.1, affine=True, track_running_stats=True)\n",
      "  (bn5): BatchNorm1d(10, eps=1e-05, momentum=0.1, affine=True, track_running_stats=True)\n",
      "  (bn6): BatchNorm1d(10, eps=1e-05, momentum=0.1, affine=True, track_running_stats=True)\n",
      "  (bn7): BatchNorm1d(7, eps=1e-05, momentum=0.1, affine=True, track_running_stats=True)\n",
      "  (bn8): BatchNorm1d(3, eps=1e-05, momentum=0.1, affine=True, track_running_stats=True)\n",
      "  (bn9): BatchNorm1d(1, eps=1e-05, momentum=0.1, affine=True, track_running_stats=True)\n",
      ")\n",
      "epoch_start 1720\n",
      "batch_size 128\n",
      "epochs 1000\n",
      "lr 4e-07\n",
      "Number of batches: train = 1250, val = 157\n"
     ]
    },
    {
     "name": "stderr",
     "output_type": "stream",
     "text": [
      "/home/michael24peters/pv-finder/notebooks/model/training.py:95: TqdmDeprecationWarning: This function will be removed in tqdm==5.0.0\n",
      "Please use `tqdm.notebook.tqdm` instead of `tqdm.tqdm_notebook`\n",
      "  file=sys.stderr,\n"
     ]
    },
    {
     "data": {
      "application/vnd.jupyter.widget-view+json": {
       "model_id": "55f0644a4efb4ed88e251a6f72d6027e",
       "version_major": 2,
       "version_minor": 0
      },
      "text/plain": [
       "HBox(children=(FloatProgress(value=0.0, description='Epochs', layout=Layout(flex='2'), max=1000.0, style=Progr…"
      ]
     },
     "metadata": {},
     "output_type": "display_data"
    },
    {
     "data": {
      "application/vnd.jupyter.widget-view+json": {
       "model_id": "",
       "version_major": 2,
       "version_minor": 0
      },
      "text/plain": [
       "HBox(children=(FloatProgress(value=0.0, description='Training', layout=Layout(flex='2'), max=1250.0, style=Pro…"
      ]
     },
     "metadata": {},
     "output_type": "display_data"
    },
    {
     "name": "stdout",
     "output_type": "stream",
     "text": [
      "Epoch 1720: train=8.78731, val=8.63554, took 73.172 s\n",
      "  Validation Found 101550 of 108007, added 5298 (eff 94.02%) (0.265 FP/event)\n",
      "Result epoch:  1720\n",
      "Average Eff:  0\n",
      "Average FP Rate:  0\n"
     ]
    },
    {
     "data": {
      "application/vnd.jupyter.widget-view+json": {
       "model_id": "",
       "version_major": 2,
       "version_minor": 0
      },
      "text/plain": [
       "HBox(children=(FloatProgress(value=0.0, description='Training', layout=Layout(flex='2'), max=1250.0, style=Pro…"
      ]
     },
     "metadata": {},
     "output_type": "display_data"
    },
    {
     "name": "stdout",
     "output_type": "stream",
     "text": [
      "Epoch 1721: train=8.78697, val=8.62945, took 74.409 s\n",
      "  Validation Found 101702 of 108007, added 5477 (eff 94.16%) (0.274 FP/event)\n",
      "Result epoch:  1721\n",
      "Average Eff:  0\n",
      "Average FP Rate:  0\n"
     ]
    },
    {
     "data": {
      "application/vnd.jupyter.widget-view+json": {
       "model_id": "",
       "version_major": 2,
       "version_minor": 0
      },
      "text/plain": [
       "HBox(children=(FloatProgress(value=0.0, description='Training', layout=Layout(flex='2'), max=1250.0, style=Pro…"
      ]
     },
     "metadata": {},
     "output_type": "display_data"
    },
    {
     "name": "stdout",
     "output_type": "stream",
     "text": [
      "Epoch 1722: train=8.7847, val=8.63084, took 72.72 s\n",
      "  Validation Found 101666 of 108007, added 5409 (eff 94.13%) (0.27 FP/event)\n",
      "Result epoch:  1722\n",
      "Average Eff:  0\n",
      "Average FP Rate:  0\n"
     ]
    },
    {
     "data": {
      "application/vnd.jupyter.widget-view+json": {
       "model_id": "",
       "version_major": 2,
       "version_minor": 0
      },
      "text/plain": [
       "HBox(children=(FloatProgress(value=0.0, description='Training', layout=Layout(flex='2'), max=1250.0, style=Pro…"
      ]
     },
     "metadata": {},
     "output_type": "display_data"
    },
    {
     "name": "stdout",
     "output_type": "stream",
     "text": [
      "Epoch 1723: train=8.78514, val=8.63921, took 72.622 s\n",
      "  Validation Found 101589 of 108007, added 5316 (eff 94.06%) (0.266 FP/event)\n",
      "Result epoch:  1723\n",
      "Average Eff:  0\n",
      "Average FP Rate:  0\n"
     ]
    },
    {
     "data": {
      "application/vnd.jupyter.widget-view+json": {
       "model_id": "",
       "version_major": 2,
       "version_minor": 0
      },
      "text/plain": [
       "HBox(children=(FloatProgress(value=0.0, description='Training', layout=Layout(flex='2'), max=1250.0, style=Pro…"
      ]
     },
     "metadata": {},
     "output_type": "display_data"
    },
    {
     "name": "stdout",
     "output_type": "stream",
     "text": [
      "Epoch 1724: train=8.77904, val=8.62741, took 71.469 s\n",
      "  Validation Found 101714 of 108007, added 5438 (eff 94.17%) (0.272 FP/event)\n",
      "Result epoch:  1724\n",
      "Average Eff:  0\n",
      "Average FP Rate:  0\n"
     ]
    },
    {
     "data": {
      "application/vnd.jupyter.widget-view+json": {
       "model_id": "",
       "version_major": 2,
       "version_minor": 0
      },
      "text/plain": [
       "HBox(children=(FloatProgress(value=0.0, description='Training', layout=Layout(flex='2'), max=1250.0, style=Pro…"
      ]
     },
     "metadata": {},
     "output_type": "display_data"
    },
    {
     "name": "stdout",
     "output_type": "stream",
     "text": [
      "Epoch 1725: train=8.78509, val=8.62896, took 72.002 s\n",
      "  Validation Found 101650 of 108007, added 5358 (eff 94.11%) (0.268 FP/event)\n",
      "Result epoch:  1725\n",
      "Average Eff:  0\n",
      "Average FP Rate:  0\n"
     ]
    },
    {
     "data": {
      "application/vnd.jupyter.widget-view+json": {
       "model_id": "",
       "version_major": 2,
       "version_minor": 0
      },
      "text/plain": [
       "HBox(children=(FloatProgress(value=0.0, description='Training', layout=Layout(flex='2'), max=1250.0, style=Pro…"
      ]
     },
     "metadata": {},
     "output_type": "display_data"
    },
    {
     "name": "stdout",
     "output_type": "stream",
     "text": [
      "Epoch 1726: train=8.78373, val=8.62835, took 72.233 s\n",
      "  Validation Found 101666 of 108007, added 5378 (eff 94.13%) (0.269 FP/event)\n",
      "Result epoch:  1726\n",
      "Average Eff:  0\n",
      "Average FP Rate:  0\n"
     ]
    },
    {
     "data": {
      "application/vnd.jupyter.widget-view+json": {
       "model_id": "",
       "version_major": 2,
       "version_minor": 0
      },
      "text/plain": [
       "HBox(children=(FloatProgress(value=0.0, description='Training', layout=Layout(flex='2'), max=1250.0, style=Pro…"
      ]
     },
     "metadata": {},
     "output_type": "display_data"
    },
    {
     "name": "stdout",
     "output_type": "stream",
     "text": [
      "Epoch 1727: train=8.78081, val=8.63782, took 70.654 s\n",
      "  Validation Found 101752 of 108007, added 5550 (eff 94.21%) (0.277 FP/event)\n",
      "Result epoch:  1727\n",
      "Average Eff:  0\n",
      "Average FP Rate:  0\n"
     ]
    },
    {
     "data": {
      "application/vnd.jupyter.widget-view+json": {
       "model_id": "",
       "version_major": 2,
       "version_minor": 0
      },
      "text/plain": [
       "HBox(children=(FloatProgress(value=0.0, description='Training', layout=Layout(flex='2'), max=1250.0, style=Pro…"
      ]
     },
     "metadata": {},
     "output_type": "display_data"
    },
    {
     "name": "stdout",
     "output_type": "stream",
     "text": [
      "Epoch 1728: train=8.7823, val=8.64018, took 71.156 s\n",
      "  Validation Found 101788 of 108007, added 5661 (eff 94.24%) (0.283 FP/event)\n",
      "Result epoch:  1728\n",
      "Average Eff:  0\n",
      "Average FP Rate:  0\n"
     ]
    },
    {
     "data": {
      "application/vnd.jupyter.widget-view+json": {
       "model_id": "",
       "version_major": 2,
       "version_minor": 0
      },
      "text/plain": [
       "HBox(children=(FloatProgress(value=0.0, description='Training', layout=Layout(flex='2'), max=1250.0, style=Pro…"
      ]
     },
     "metadata": {},
     "output_type": "display_data"
    },
    {
     "name": "stdout",
     "output_type": "stream",
     "text": [
      "Epoch 1729: train=8.78504, val=8.64127, took 70.102 s\n",
      "  Validation Found 101552 of 108007, added 5255 (eff 94.02%) (0.263 FP/event)\n",
      "Result epoch:  1729\n",
      "Average Eff:  0\n",
      "Average FP Rate:  0\n"
     ]
    },
    {
     "data": {
      "application/vnd.jupyter.widget-view+json": {
       "model_id": "",
       "version_major": 2,
       "version_minor": 0
      },
      "text/plain": [
       "HBox(children=(FloatProgress(value=0.0, description='Training', layout=Layout(flex='2'), max=1250.0, style=Pro…"
      ]
     },
     "metadata": {},
     "output_type": "display_data"
    },
    {
     "name": "stdout",
     "output_type": "stream",
     "text": [
      "Epoch 1730: train=8.78181, val=8.63312, took 69.701 s\n",
      "  Validation Found 101693 of 108007, added 5411 (eff 94.15%) (0.271 FP/event)\n",
      "Result epoch:  1730\n",
      "Average Eff:  0\n",
      "Average FP Rate:  0\n"
     ]
    },
    {
     "data": {
      "application/vnd.jupyter.widget-view+json": {
       "model_id": "",
       "version_major": 2,
       "version_minor": 0
      },
      "text/plain": [
       "HBox(children=(FloatProgress(value=0.0, description='Training', layout=Layout(flex='2'), max=1250.0, style=Pro…"
      ]
     },
     "metadata": {},
     "output_type": "display_data"
    },
    {
     "name": "stdout",
     "output_type": "stream",
     "text": [
      "Epoch 1731: train=8.78191, val=8.64268, took 69.636 s\n",
      "  Validation Found 101568 of 108007, added 5254 (eff 94.04%) (0.263 FP/event)\n",
      "Result epoch:  1731\n",
      "Average Eff:  0\n",
      "Average FP Rate:  0\n"
     ]
    },
    {
     "data": {
      "application/vnd.jupyter.widget-view+json": {
       "model_id": "",
       "version_major": 2,
       "version_minor": 0
      },
      "text/plain": [
       "HBox(children=(FloatProgress(value=0.0, description='Training', layout=Layout(flex='2'), max=1250.0, style=Pro…"
      ]
     },
     "metadata": {},
     "output_type": "display_data"
    },
    {
     "name": "stdout",
     "output_type": "stream",
     "text": [
      "Epoch 1732: train=8.77829, val=8.63064, took 69.739 s\n",
      "  Validation Found 101688 of 108007, added 5397 (eff 94.15%) (0.27 FP/event)\n",
      "Result epoch:  1732\n",
      "Average Eff:  0\n",
      "Average FP Rate:  0\n"
     ]
    },
    {
     "data": {
      "application/vnd.jupyter.widget-view+json": {
       "model_id": "",
       "version_major": 2,
       "version_minor": 0
      },
      "text/plain": [
       "HBox(children=(FloatProgress(value=0.0, description='Training', layout=Layout(flex='2'), max=1250.0, style=Pro…"
      ]
     },
     "metadata": {},
     "output_type": "display_data"
    },
    {
     "name": "stdout",
     "output_type": "stream",
     "text": [
      "Epoch 1733: train=8.78229, val=8.63031, took 70.953 s\n",
      "  Validation Found 101737 of 108007, added 5512 (eff 94.19%) (0.276 FP/event)\n",
      "Result epoch:  1733\n",
      "Average Eff:  0\n",
      "Average FP Rate:  0\n"
     ]
    },
    {
     "data": {
      "application/vnd.jupyter.widget-view+json": {
       "model_id": "",
       "version_major": 2,
       "version_minor": 0
      },
      "text/plain": [
       "HBox(children=(FloatProgress(value=0.0, description='Training', layout=Layout(flex='2'), max=1250.0, style=Pro…"
      ]
     },
     "metadata": {},
     "output_type": "display_data"
    },
    {
     "name": "stdout",
     "output_type": "stream",
     "text": [
      "Epoch 1734: train=8.78015, val=8.62546, took 70.14 s\n",
      "  Validation Found 101720 of 108007, added 5443 (eff 94.18%) (0.272 FP/event)\n",
      "Result epoch:  1734\n",
      "Average Eff:  0\n",
      "Average FP Rate:  0\n"
     ]
    },
    {
     "data": {
      "application/vnd.jupyter.widget-view+json": {
       "model_id": "",
       "version_major": 2,
       "version_minor": 0
      },
      "text/plain": [
       "HBox(children=(FloatProgress(value=0.0, description='Training', layout=Layout(flex='2'), max=1250.0, style=Pro…"
      ]
     },
     "metadata": {},
     "output_type": "display_data"
    },
    {
     "name": "stdout",
     "output_type": "stream",
     "text": [
      "Epoch 1735: train=8.78082, val=8.62687, took 70.094 s\n",
      "  Validation Found 101688 of 108007, added 5412 (eff 94.15%) (0.271 FP/event)\n",
      "Result epoch:  1735\n",
      "Average Eff:  0\n",
      "Average FP Rate:  0\n"
     ]
    },
    {
     "data": {
      "application/vnd.jupyter.widget-view+json": {
       "model_id": "",
       "version_major": 2,
       "version_minor": 0
      },
      "text/plain": [
       "HBox(children=(FloatProgress(value=0.0, description='Training', layout=Layout(flex='2'), max=1250.0, style=Pro…"
      ]
     },
     "metadata": {},
     "output_type": "display_data"
    },
    {
     "name": "stdout",
     "output_type": "stream",
     "text": [
      "Epoch 1736: train=8.78265, val=8.62508, took 71.462 s\n",
      "  Validation Found 101660 of 108007, added 5365 (eff 94.12%) (0.268 FP/event)\n",
      "Result epoch:  1736\n",
      "Average Eff:  0\n",
      "Average FP Rate:  0\n"
     ]
    },
    {
     "data": {
      "application/vnd.jupyter.widget-view+json": {
       "model_id": "",
       "version_major": 2,
       "version_minor": 0
      },
      "text/plain": [
       "HBox(children=(FloatProgress(value=0.0, description='Training', layout=Layout(flex='2'), max=1250.0, style=Pro…"
      ]
     },
     "metadata": {},
     "output_type": "display_data"
    },
    {
     "name": "stdout",
     "output_type": "stream",
     "text": [
      "Epoch 1737: train=8.78204, val=8.63474, took 71.148 s\n",
      "  Validation Found 101708 of 108007, added 5444 (eff 94.17%) (0.272 FP/event)\n",
      "Result epoch:  1737\n",
      "Average Eff:  0\n",
      "Average FP Rate:  0\n"
     ]
    },
    {
     "data": {
      "application/vnd.jupyter.widget-view+json": {
       "model_id": "",
       "version_major": 2,
       "version_minor": 0
      },
      "text/plain": [
       "HBox(children=(FloatProgress(value=0.0, description='Training', layout=Layout(flex='2'), max=1250.0, style=Pro…"
      ]
     },
     "metadata": {},
     "output_type": "display_data"
    },
    {
     "name": "stdout",
     "output_type": "stream",
     "text": [
      "Epoch 1738: train=8.77928, val=8.62541, took 70.148 s\n",
      "  Validation Found 101689 of 108007, added 5389 (eff 94.15%) (0.269 FP/event)\n",
      "Result epoch:  1738\n",
      "Average Eff:  0\n",
      "Average FP Rate:  0\n"
     ]
    },
    {
     "data": {
      "application/vnd.jupyter.widget-view+json": {
       "model_id": "",
       "version_major": 2,
       "version_minor": 0
      },
      "text/plain": [
       "HBox(children=(FloatProgress(value=0.0, description='Training', layout=Layout(flex='2'), max=1250.0, style=Pro…"
      ]
     },
     "metadata": {},
     "output_type": "display_data"
    },
    {
     "name": "stdout",
     "output_type": "stream",
     "text": [
      "Epoch 1739: train=8.78127, val=8.63488, took 69.238 s\n",
      "  Validation Found 101745 of 108007, added 5533 (eff 94.20%) (0.277 FP/event)\n",
      "Result epoch:  1739\n",
      "Average Eff:  0\n",
      "Average FP Rate:  0\n"
     ]
    },
    {
     "data": {
      "application/vnd.jupyter.widget-view+json": {
       "model_id": "",
       "version_major": 2,
       "version_minor": 0
      },
      "text/plain": [
       "HBox(children=(FloatProgress(value=0.0, description='Training', layout=Layout(flex='2'), max=1250.0, style=Pro…"
      ]
     },
     "metadata": {},
     "output_type": "display_data"
    },
    {
     "name": "stdout",
     "output_type": "stream",
     "text": [
      "Epoch 1740: train=8.78193, val=8.6361, took 70.145 s\n",
      "  Validation Found 101632 of 108007, added 5322 (eff 94.10%) (0.266 FP/event)\n",
      "Result epoch:  1740\n",
      "Average Eff:  0\n",
      "Average FP Rate:  0\n"
     ]
    },
    {
     "data": {
      "application/vnd.jupyter.widget-view+json": {
       "model_id": "",
       "version_major": 2,
       "version_minor": 0
      },
      "text/plain": [
       "HBox(children=(FloatProgress(value=0.0, description='Training', layout=Layout(flex='2'), max=1250.0, style=Pro…"
      ]
     },
     "metadata": {},
     "output_type": "display_data"
    },
    {
     "name": "stdout",
     "output_type": "stream",
     "text": [
      "Epoch 1741: train=8.79008, val=8.64066, took 69.896 s\n",
      "  Validation Found 101565 of 108007, added 5239 (eff 94.04%) (0.262 FP/event)\n",
      "Result epoch:  1741\n",
      "Average Eff:  0\n",
      "Average FP Rate:  0\n"
     ]
    },
    {
     "data": {
      "application/vnd.jupyter.widget-view+json": {
       "model_id": "",
       "version_major": 2,
       "version_minor": 0
      },
      "text/plain": [
       "HBox(children=(FloatProgress(value=0.0, description='Training', layout=Layout(flex='2'), max=1250.0, style=Pro…"
      ]
     },
     "metadata": {},
     "output_type": "display_data"
    },
    {
     "name": "stdout",
     "output_type": "stream",
     "text": [
      "Epoch 1742: train=8.78133, val=8.63086, took 70.334 s\n",
      "  Validation Found 101724 of 108007, added 5452 (eff 94.18%) (0.273 FP/event)\n",
      "Result epoch:  1742\n",
      "Average Eff:  0\n",
      "Average FP Rate:  0\n"
     ]
    },
    {
     "data": {
      "application/vnd.jupyter.widget-view+json": {
       "model_id": "",
       "version_major": 2,
       "version_minor": 0
      },
      "text/plain": [
       "HBox(children=(FloatProgress(value=0.0, description='Training', layout=Layout(flex='2'), max=1250.0, style=Pro…"
      ]
     },
     "metadata": {},
     "output_type": "display_data"
    },
    {
     "name": "stdout",
     "output_type": "stream",
     "text": [
      "Epoch 1743: train=8.78295, val=8.63213, took 72.153 s\n",
      "  Validation Found 101768 of 108007, added 5542 (eff 94.22%) (0.277 FP/event)\n",
      "Result epoch:  1743\n",
      "Average Eff:  0\n",
      "Average FP Rate:  0\n"
     ]
    },
    {
     "data": {
      "application/vnd.jupyter.widget-view+json": {
       "model_id": "",
       "version_major": 2,
       "version_minor": 0
      },
      "text/plain": [
       "HBox(children=(FloatProgress(value=0.0, description='Training', layout=Layout(flex='2'), max=1250.0, style=Pro…"
      ]
     },
     "metadata": {},
     "output_type": "display_data"
    },
    {
     "name": "stdout",
     "output_type": "stream",
     "text": [
      "Epoch 1744: train=8.782, val=8.63427, took 70.622 s\n",
      "  Validation Found 101764 of 108007, added 5548 (eff 94.22%) (0.277 FP/event)\n",
      "Result epoch:  1744\n",
      "Average Eff:  0\n",
      "Average FP Rate:  0\n"
     ]
    },
    {
     "data": {
      "application/vnd.jupyter.widget-view+json": {
       "model_id": "",
       "version_major": 2,
       "version_minor": 0
      },
      "text/plain": [
       "HBox(children=(FloatProgress(value=0.0, description='Training', layout=Layout(flex='2'), max=1250.0, style=Pro…"
      ]
     },
     "metadata": {},
     "output_type": "display_data"
    },
    {
     "name": "stdout",
     "output_type": "stream",
     "text": [
      "Epoch 1745: train=8.77708, val=8.63044, took 70.44 s\n",
      "  Validation Found 101761 of 108007, added 5529 (eff 94.22%) (0.276 FP/event)\n",
      "Result epoch:  1745\n",
      "Average Eff:  0\n",
      "Average FP Rate:  0\n"
     ]
    },
    {
     "data": {
      "application/vnd.jupyter.widget-view+json": {
       "model_id": "",
       "version_major": 2,
       "version_minor": 0
      },
      "text/plain": [
       "HBox(children=(FloatProgress(value=0.0, description='Training', layout=Layout(flex='2'), max=1250.0, style=Pro…"
      ]
     },
     "metadata": {},
     "output_type": "display_data"
    },
    {
     "name": "stdout",
     "output_type": "stream",
     "text": [
      "Epoch 1746: train=8.77801, val=8.63711, took 69.88 s\n",
      "  Validation Found 101642 of 108007, added 5336 (eff 94.11%) (0.267 FP/event)\n",
      "Result epoch:  1746\n",
      "Average Eff:  0\n",
      "Average FP Rate:  0\n"
     ]
    },
    {
     "data": {
      "application/vnd.jupyter.widget-view+json": {
       "model_id": "",
       "version_major": 2,
       "version_minor": 0
      },
      "text/plain": [
       "HBox(children=(FloatProgress(value=0.0, description='Training', layout=Layout(flex='2'), max=1250.0, style=Pro…"
      ]
     },
     "metadata": {},
     "output_type": "display_data"
    },
    {
     "name": "stdout",
     "output_type": "stream",
     "text": [
      "Epoch 1747: train=8.78392, val=8.63124, took 71.772 s\n",
      "  Validation Found 101749 of 108007, added 5526 (eff 94.21%) (0.276 FP/event)\n",
      "Result epoch:  1747\n",
      "Average Eff:  0\n",
      "Average FP Rate:  0\n"
     ]
    },
    {
     "data": {
      "application/vnd.jupyter.widget-view+json": {
       "model_id": "",
       "version_major": 2,
       "version_minor": 0
      },
      "text/plain": [
       "HBox(children=(FloatProgress(value=0.0, description='Training', layout=Layout(flex='2'), max=1250.0, style=Pro…"
      ]
     },
     "metadata": {},
     "output_type": "display_data"
    },
    {
     "name": "stdout",
     "output_type": "stream",
     "text": [
      "Epoch 1748: train=8.78011, val=8.64114, took 70.656 s\n",
      "  Validation Found 101599 of 108007, added 5305 (eff 94.07%) (0.265 FP/event)\n",
      "Result epoch:  1748\n",
      "Average Eff:  0\n",
      "Average FP Rate:  0\n"
     ]
    },
    {
     "data": {
      "application/vnd.jupyter.widget-view+json": {
       "model_id": "",
       "version_major": 2,
       "version_minor": 0
      },
      "text/plain": [
       "HBox(children=(FloatProgress(value=0.0, description='Training', layout=Layout(flex='2'), max=1250.0, style=Pro…"
      ]
     },
     "metadata": {},
     "output_type": "display_data"
    },
    {
     "name": "stdout",
     "output_type": "stream",
     "text": [
      "Epoch 1749: train=8.77772, val=8.61958, took 70.056 s\n",
      "  Validation Found 101724 of 108007, added 5435 (eff 94.18%) (0.272 FP/event)\n",
      "Result epoch:  1749\n",
      "Average Eff:  0\n",
      "Average FP Rate:  0\n"
     ]
    },
    {
     "data": {
      "application/vnd.jupyter.widget-view+json": {
       "model_id": "",
       "version_major": 2,
       "version_minor": 0
      },
      "text/plain": [
       "HBox(children=(FloatProgress(value=0.0, description='Training', layout=Layout(flex='2'), max=1250.0, style=Pro…"
      ]
     },
     "metadata": {},
     "output_type": "display_data"
    },
    {
     "name": "stdout",
     "output_type": "stream",
     "text": [
      "Epoch 1750: train=8.77633, val=8.63941, took 72.051 s\n",
      "  Validation Found 101791 of 108007, added 5637 (eff 94.24%) (0.282 FP/event)\n",
      "Result epoch:  1750\n",
      "Average Eff:  0\n",
      "Average FP Rate:  0\n"
     ]
    },
    {
     "data": {
      "application/vnd.jupyter.widget-view+json": {
       "model_id": "",
       "version_major": 2,
       "version_minor": 0
      },
      "text/plain": [
       "HBox(children=(FloatProgress(value=0.0, description='Training', layout=Layout(flex='2'), max=1250.0, style=Pro…"
      ]
     },
     "metadata": {},
     "output_type": "display_data"
    },
    {
     "name": "stdout",
     "output_type": "stream",
     "text": [
      "Epoch 1751: train=8.78188, val=8.62692, took 71.987 s\n",
      "  Validation Found 101722 of 108007, added 5441 (eff 94.18%) (0.272 FP/event)\n",
      "Result epoch:  1751\n",
      "Average Eff:  0\n",
      "Average FP Rate:  0\n"
     ]
    },
    {
     "data": {
      "application/vnd.jupyter.widget-view+json": {
       "model_id": "",
       "version_major": 2,
       "version_minor": 0
      },
      "text/plain": [
       "HBox(children=(FloatProgress(value=0.0, description='Training', layout=Layout(flex='2'), max=1250.0, style=Pro…"
      ]
     },
     "metadata": {},
     "output_type": "display_data"
    },
    {
     "name": "stdout",
     "output_type": "stream",
     "text": [
      "Epoch 1752: train=8.77528, val=8.62722, took 71.711 s\n",
      "  Validation Found 101795 of 108007, added 5646 (eff 94.25%) (0.282 FP/event)\n",
      "Result epoch:  1752\n",
      "Average Eff:  0\n",
      "Average FP Rate:  0\n"
     ]
    },
    {
     "data": {
      "application/vnd.jupyter.widget-view+json": {
       "model_id": "",
       "version_major": 2,
       "version_minor": 0
      },
      "text/plain": [
       "HBox(children=(FloatProgress(value=0.0, description='Training', layout=Layout(flex='2'), max=1250.0, style=Pro…"
      ]
     },
     "metadata": {},
     "output_type": "display_data"
    },
    {
     "name": "stdout",
     "output_type": "stream",
     "text": [
      "Epoch 1753: train=8.77764, val=8.6331, took 71.687 s\n",
      "  Validation Found 101661 of 108007, added 5335 (eff 94.12%) (0.267 FP/event)\n",
      "Result epoch:  1753\n",
      "Average Eff:  0\n",
      "Average FP Rate:  0\n"
     ]
    },
    {
     "data": {
      "application/vnd.jupyter.widget-view+json": {
       "model_id": "",
       "version_major": 2,
       "version_minor": 0
      },
      "text/plain": [
       "HBox(children=(FloatProgress(value=0.0, description='Training', layout=Layout(flex='2'), max=1250.0, style=Pro…"
      ]
     },
     "metadata": {},
     "output_type": "display_data"
    },
    {
     "name": "stdout",
     "output_type": "stream",
     "text": [
      "Epoch 1754: train=8.78081, val=8.62384, took 70.448 s\n",
      "  Validation Found 101705 of 108007, added 5390 (eff 94.17%) (0.269 FP/event)\n",
      "Result epoch:  1754\n",
      "Average Eff:  0\n",
      "Average FP Rate:  0\n"
     ]
    },
    {
     "data": {
      "application/vnd.jupyter.widget-view+json": {
       "model_id": "",
       "version_major": 2,
       "version_minor": 0
      },
      "text/plain": [
       "HBox(children=(FloatProgress(value=0.0, description='Training', layout=Layout(flex='2'), max=1250.0, style=Pro…"
      ]
     },
     "metadata": {},
     "output_type": "display_data"
    },
    {
     "name": "stdout",
     "output_type": "stream",
     "text": [
      "Epoch 1755: train=8.77771, val=8.63216, took 70.548 s\n",
      "  Validation Found 101778 of 108007, added 5573 (eff 94.23%) (0.279 FP/event)\n",
      "Result epoch:  1755\n",
      "Average Eff:  0\n",
      "Average FP Rate:  0\n"
     ]
    },
    {
     "data": {
      "application/vnd.jupyter.widget-view+json": {
       "model_id": "",
       "version_major": 2,
       "version_minor": 0
      },
      "text/plain": [
       "HBox(children=(FloatProgress(value=0.0, description='Training', layout=Layout(flex='2'), max=1250.0, style=Pro…"
      ]
     },
     "metadata": {},
     "output_type": "display_data"
    },
    {
     "name": "stdout",
     "output_type": "stream",
     "text": [
      "Epoch 1756: train=8.77723, val=8.63365, took 71.429 s\n",
      "  Validation Found 101635 of 108007, added 5302 (eff 94.10%) (0.265 FP/event)\n",
      "Result epoch:  1756\n",
      "Average Eff:  0\n",
      "Average FP Rate:  0\n"
     ]
    },
    {
     "data": {
      "application/vnd.jupyter.widget-view+json": {
       "model_id": "",
       "version_major": 2,
       "version_minor": 0
      },
      "text/plain": [
       "HBox(children=(FloatProgress(value=0.0, description='Training', layout=Layout(flex='2'), max=1250.0, style=Pro…"
      ]
     },
     "metadata": {},
     "output_type": "display_data"
    },
    {
     "name": "stdout",
     "output_type": "stream",
     "text": [
      "Epoch 1757: train=8.77454, val=8.6326, took 69.738 s\n",
      "  Validation Found 101739 of 108007, added 5479 (eff 94.20%) (0.274 FP/event)\n",
      "Result epoch:  1757\n",
      "Average Eff:  0\n",
      "Average FP Rate:  0\n"
     ]
    },
    {
     "data": {
      "application/vnd.jupyter.widget-view+json": {
       "model_id": "",
       "version_major": 2,
       "version_minor": 0
      },
      "text/plain": [
       "HBox(children=(FloatProgress(value=0.0, description='Training', layout=Layout(flex='2'), max=1250.0, style=Pro…"
      ]
     },
     "metadata": {},
     "output_type": "display_data"
    },
    {
     "name": "stdout",
     "output_type": "stream",
     "text": [
      "Epoch 1758: train=8.78155, val=8.63374, took 72.156 s\n",
      "  Validation Found 101774 of 108007, added 5564 (eff 94.23%) (0.278 FP/event)\n",
      "Result epoch:  1758\n",
      "Average Eff:  0\n",
      "Average FP Rate:  0\n"
     ]
    },
    {
     "data": {
      "application/vnd.jupyter.widget-view+json": {
       "model_id": "",
       "version_major": 2,
       "version_minor": 0
      },
      "text/plain": [
       "HBox(children=(FloatProgress(value=0.0, description='Training', layout=Layout(flex='2'), max=1250.0, style=Pro…"
      ]
     },
     "metadata": {},
     "output_type": "display_data"
    },
    {
     "name": "stdout",
     "output_type": "stream",
     "text": [
      "Epoch 1759: train=8.7814, val=8.62961, took 69.513 s\n",
      "  Validation Found 101754 of 108007, added 5527 (eff 94.21%) (0.276 FP/event)\n",
      "Result epoch:  1759\n",
      "Average Eff:  0\n",
      "Average FP Rate:  0\n"
     ]
    },
    {
     "data": {
      "application/vnd.jupyter.widget-view+json": {
       "model_id": "",
       "version_major": 2,
       "version_minor": 0
      },
      "text/plain": [
       "HBox(children=(FloatProgress(value=0.0, description='Training', layout=Layout(flex='2'), max=1250.0, style=Pro…"
      ]
     },
     "metadata": {},
     "output_type": "display_data"
    },
    {
     "name": "stdout",
     "output_type": "stream",
     "text": [
      "Epoch 1760: train=8.78344, val=8.64061, took 71.555 s\n",
      "  Validation Found 101561 of 108007, added 5221 (eff 94.03%) (0.261 FP/event)\n",
      "Result epoch:  1760\n",
      "Average Eff:  0\n",
      "Average FP Rate:  0\n"
     ]
    },
    {
     "data": {
      "application/vnd.jupyter.widget-view+json": {
       "model_id": "",
       "version_major": 2,
       "version_minor": 0
      },
      "text/plain": [
       "HBox(children=(FloatProgress(value=0.0, description='Training', layout=Layout(flex='2'), max=1250.0, style=Pro…"
      ]
     },
     "metadata": {},
     "output_type": "display_data"
    },
    {
     "name": "stdout",
     "output_type": "stream",
     "text": [
      "Epoch 1761: train=8.78006, val=8.63276, took 71.852 s\n",
      "  Validation Found 101774 of 108007, added 5595 (eff 94.23%) (0.28 FP/event)\n",
      "Result epoch:  1761\n",
      "Average Eff:  0\n",
      "Average FP Rate:  0\n"
     ]
    },
    {
     "data": {
      "application/vnd.jupyter.widget-view+json": {
       "model_id": "",
       "version_major": 2,
       "version_minor": 0
      },
      "text/plain": [
       "HBox(children=(FloatProgress(value=0.0, description='Training', layout=Layout(flex='2'), max=1250.0, style=Pro…"
      ]
     },
     "metadata": {},
     "output_type": "display_data"
    },
    {
     "name": "stdout",
     "output_type": "stream",
     "text": [
      "Epoch 1762: train=8.7762, val=8.63091, took 71.664 s\n",
      "  Validation Found 101748 of 108007, added 5511 (eff 94.21%) (0.276 FP/event)\n",
      "Result epoch:  1762\n",
      "Average Eff:  0\n",
      "Average FP Rate:  0\n"
     ]
    },
    {
     "data": {
      "application/vnd.jupyter.widget-view+json": {
       "model_id": "",
       "version_major": 2,
       "version_minor": 0
      },
      "text/plain": [
       "HBox(children=(FloatProgress(value=0.0, description='Training', layout=Layout(flex='2'), max=1250.0, style=Pro…"
      ]
     },
     "metadata": {},
     "output_type": "display_data"
    },
    {
     "name": "stdout",
     "output_type": "stream",
     "text": [
      "Epoch 1763: train=8.77189, val=8.63073, took 71.787 s\n",
      "  Validation Found 101704 of 108007, added 5425 (eff 94.16%) (0.271 FP/event)\n",
      "Result epoch:  1763\n",
      "Average Eff:  0\n",
      "Average FP Rate:  0\n"
     ]
    },
    {
     "data": {
      "application/vnd.jupyter.widget-view+json": {
       "model_id": "",
       "version_major": 2,
       "version_minor": 0
      },
      "text/plain": [
       "HBox(children=(FloatProgress(value=0.0, description='Training', layout=Layout(flex='2'), max=1250.0, style=Pro…"
      ]
     },
     "metadata": {},
     "output_type": "display_data"
    },
    {
     "name": "stdout",
     "output_type": "stream",
     "text": [
      "Epoch 1764: train=8.77872, val=8.6275, took 70.859 s\n",
      "  Validation Found 101810 of 108007, added 5659 (eff 94.26%) (0.283 FP/event)\n",
      "Result epoch:  1764\n",
      "Average Eff:  0\n",
      "Average FP Rate:  0\n"
     ]
    },
    {
     "data": {
      "application/vnd.jupyter.widget-view+json": {
       "model_id": "",
       "version_major": 2,
       "version_minor": 0
      },
      "text/plain": [
       "HBox(children=(FloatProgress(value=0.0, description='Training', layout=Layout(flex='2'), max=1250.0, style=Pro…"
      ]
     },
     "metadata": {},
     "output_type": "display_data"
    },
    {
     "name": "stdout",
     "output_type": "stream",
     "text": [
      "Epoch 1765: train=8.78139, val=8.62197, took 71.226 s\n",
      "  Validation Found 101755 of 108007, added 5493 (eff 94.21%) (0.275 FP/event)\n",
      "Result epoch:  1765\n",
      "Average Eff:  0\n",
      "Average FP Rate:  0\n"
     ]
    },
    {
     "data": {
      "application/vnd.jupyter.widget-view+json": {
       "model_id": "",
       "version_major": 2,
       "version_minor": 0
      },
      "text/plain": [
       "HBox(children=(FloatProgress(value=0.0, description='Training', layout=Layout(flex='2'), max=1250.0, style=Pro…"
      ]
     },
     "metadata": {},
     "output_type": "display_data"
    },
    {
     "name": "stdout",
     "output_type": "stream",
     "text": [
      "Epoch 1766: train=8.7761, val=8.62381, took 71.423 s\n",
      "  Validation Found 101708 of 108007, added 5383 (eff 94.17%) (0.269 FP/event)\n",
      "Result epoch:  1766\n",
      "Average Eff:  0\n",
      "Average FP Rate:  0\n"
     ]
    },
    {
     "data": {
      "application/vnd.jupyter.widget-view+json": {
       "model_id": "",
       "version_major": 2,
       "version_minor": 0
      },
      "text/plain": [
       "HBox(children=(FloatProgress(value=0.0, description='Training', layout=Layout(flex='2'), max=1250.0, style=Pro…"
      ]
     },
     "metadata": {},
     "output_type": "display_data"
    },
    {
     "name": "stdout",
     "output_type": "stream",
     "text": [
      "Epoch 1767: train=8.77636, val=8.63351, took 70.214 s\n",
      "  Validation Found 101742 of 108007, added 5488 (eff 94.20%) (0.274 FP/event)\n",
      "Result epoch:  1767\n",
      "Average Eff:  0\n",
      "Average FP Rate:  0\n"
     ]
    },
    {
     "data": {
      "application/vnd.jupyter.widget-view+json": {
       "model_id": "",
       "version_major": 2,
       "version_minor": 0
      },
      "text/plain": [
       "HBox(children=(FloatProgress(value=0.0, description='Training', layout=Layout(flex='2'), max=1250.0, style=Pro…"
      ]
     },
     "metadata": {},
     "output_type": "display_data"
    },
    {
     "name": "stdout",
     "output_type": "stream",
     "text": [
      "Epoch 1768: train=8.77535, val=8.62909, took 69.823 s\n",
      "  Validation Found 101737 of 108007, added 5456 (eff 94.19%) (0.273 FP/event)\n",
      "Result epoch:  1768\n",
      "Average Eff:  0\n",
      "Average FP Rate:  0\n"
     ]
    },
    {
     "data": {
      "application/vnd.jupyter.widget-view+json": {
       "model_id": "",
       "version_major": 2,
       "version_minor": 0
      },
      "text/plain": [
       "HBox(children=(FloatProgress(value=0.0, description='Training', layout=Layout(flex='2'), max=1250.0, style=Pro…"
      ]
     },
     "metadata": {},
     "output_type": "display_data"
    },
    {
     "name": "stdout",
     "output_type": "stream",
     "text": [
      "Epoch 1769: train=8.78064, val=8.63408, took 70.348 s\n",
      "  Validation Found 101745 of 108007, added 5474 (eff 94.20%) (0.274 FP/event)\n",
      "Result epoch:  1769\n",
      "Average Eff:  0\n",
      "Average FP Rate:  0\n"
     ]
    },
    {
     "data": {
      "application/vnd.jupyter.widget-view+json": {
       "model_id": "",
       "version_major": 2,
       "version_minor": 0
      },
      "text/plain": [
       "HBox(children=(FloatProgress(value=0.0, description='Training', layout=Layout(flex='2'), max=1250.0, style=Pro…"
      ]
     },
     "metadata": {},
     "output_type": "display_data"
    },
    {
     "name": "stdout",
     "output_type": "stream",
     "text": [
      "Epoch 1770: train=8.77791, val=8.62853, took 72.85 s\n",
      "  Validation Found 101735 of 108007, added 5469 (eff 94.19%) (0.273 FP/event)\n",
      "Result epoch:  1770\n",
      "Average Eff:  0\n",
      "Average FP Rate:  0\n"
     ]
    },
    {
     "data": {
      "application/vnd.jupyter.widget-view+json": {
       "model_id": "",
       "version_major": 2,
       "version_minor": 0
      },
      "text/plain": [
       "HBox(children=(FloatProgress(value=0.0, description='Training', layout=Layout(flex='2'), max=1250.0, style=Pro…"
      ]
     },
     "metadata": {},
     "output_type": "display_data"
    },
    {
     "name": "stdout",
     "output_type": "stream",
     "text": [
      "Epoch 1771: train=8.78097, val=8.62679, took 71.723 s\n",
      "  Validation Found 101752 of 108007, added 5472 (eff 94.21%) (0.274 FP/event)\n",
      "Result epoch:  1771\n",
      "Average Eff:  0\n",
      "Average FP Rate:  0\n"
     ]
    },
    {
     "data": {
      "application/vnd.jupyter.widget-view+json": {
       "model_id": "",
       "version_major": 2,
       "version_minor": 0
      },
      "text/plain": [
       "HBox(children=(FloatProgress(value=0.0, description='Training', layout=Layout(flex='2'), max=1250.0, style=Pro…"
      ]
     },
     "metadata": {},
     "output_type": "display_data"
    },
    {
     "name": "stdout",
     "output_type": "stream",
     "text": [
      "Epoch 1772: train=8.78246, val=8.63153, took 71.935 s\n",
      "  Validation Found 101715 of 108007, added 5429 (eff 94.17%) (0.271 FP/event)\n",
      "Result epoch:  1772\n",
      "Average Eff:  0\n",
      "Average FP Rate:  0\n"
     ]
    },
    {
     "data": {
      "application/vnd.jupyter.widget-view+json": {
       "model_id": "",
       "version_major": 2,
       "version_minor": 0
      },
      "text/plain": [
       "HBox(children=(FloatProgress(value=0.0, description='Training', layout=Layout(flex='2'), max=1250.0, style=Pro…"
      ]
     },
     "metadata": {},
     "output_type": "display_data"
    },
    {
     "name": "stdout",
     "output_type": "stream",
     "text": [
      "Epoch 1773: train=8.77623, val=8.6378, took 69.97 s\n",
      "  Validation Found 101678 of 108007, added 5350 (eff 94.14%) (0.267 FP/event)\n",
      "Result epoch:  1773\n",
      "Average Eff:  0\n",
      "Average FP Rate:  0\n"
     ]
    },
    {
     "data": {
      "application/vnd.jupyter.widget-view+json": {
       "model_id": "",
       "version_major": 2,
       "version_minor": 0
      },
      "text/plain": [
       "HBox(children=(FloatProgress(value=0.0, description='Training', layout=Layout(flex='2'), max=1250.0, style=Pro…"
      ]
     },
     "metadata": {},
     "output_type": "display_data"
    },
    {
     "name": "stdout",
     "output_type": "stream",
     "text": [
      "Epoch 1774: train=8.77761, val=8.63074, took 71.393 s\n",
      "  Validation Found 101751 of 108007, added 5499 (eff 94.21%) (0.275 FP/event)\n",
      "Result epoch:  1774\n",
      "Average Eff:  0\n",
      "Average FP Rate:  0\n"
     ]
    },
    {
     "data": {
      "application/vnd.jupyter.widget-view+json": {
       "model_id": "",
       "version_major": 2,
       "version_minor": 0
      },
      "text/plain": [
       "HBox(children=(FloatProgress(value=0.0, description='Training', layout=Layout(flex='2'), max=1250.0, style=Pro…"
      ]
     },
     "metadata": {},
     "output_type": "display_data"
    },
    {
     "name": "stdout",
     "output_type": "stream",
     "text": [
      "Epoch 1775: train=8.78174, val=8.6316, took 72.155 s\n",
      "  Validation Found 101734 of 108007, added 5422 (eff 94.19%) (0.271 FP/event)\n",
      "Result epoch:  1775\n",
      "Average Eff:  0\n",
      "Average FP Rate:  0\n"
     ]
    },
    {
     "data": {
      "application/vnd.jupyter.widget-view+json": {
       "model_id": "",
       "version_major": 2,
       "version_minor": 0
      },
      "text/plain": [
       "HBox(children=(FloatProgress(value=0.0, description='Training', layout=Layout(flex='2'), max=1250.0, style=Pro…"
      ]
     },
     "metadata": {},
     "output_type": "display_data"
    },
    {
     "name": "stdout",
     "output_type": "stream",
     "text": [
      "Epoch 1776: train=8.78191, val=8.62761, took 70.918 s\n",
      "  Validation Found 101712 of 108007, added 5372 (eff 94.17%) (0.269 FP/event)\n",
      "Result epoch:  1776\n",
      "Average Eff:  0\n",
      "Average FP Rate:  0\n"
     ]
    },
    {
     "data": {
      "application/vnd.jupyter.widget-view+json": {
       "model_id": "",
       "version_major": 2,
       "version_minor": 0
      },
      "text/plain": [
       "HBox(children=(FloatProgress(value=0.0, description='Training', layout=Layout(flex='2'), max=1250.0, style=Pro…"
      ]
     },
     "metadata": {},
     "output_type": "display_data"
    },
    {
     "name": "stdout",
     "output_type": "stream",
     "text": [
      "Epoch 1777: train=8.77527, val=8.62777, took 72.018 s\n",
      "  Validation Found 101669 of 108007, added 5357 (eff 94.13%) (0.268 FP/event)\n",
      "Result epoch:  1777\n",
      "Average Eff:  0\n",
      "Average FP Rate:  0\n"
     ]
    },
    {
     "data": {
      "application/vnd.jupyter.widget-view+json": {
       "model_id": "",
       "version_major": 2,
       "version_minor": 0
      },
      "text/plain": [
       "HBox(children=(FloatProgress(value=0.0, description='Training', layout=Layout(flex='2'), max=1250.0, style=Pro…"
      ]
     },
     "metadata": {},
     "output_type": "display_data"
    },
    {
     "name": "stdout",
     "output_type": "stream",
     "text": [
      "Epoch 1778: train=8.77661, val=8.62672, took 71.22 s\n",
      "  Validation Found 101744 of 108007, added 5477 (eff 94.20%) (0.274 FP/event)\n",
      "Result epoch:  1778\n",
      "Average Eff:  0\n",
      "Average FP Rate:  0\n"
     ]
    },
    {
     "data": {
      "application/vnd.jupyter.widget-view+json": {
       "model_id": "",
       "version_major": 2,
       "version_minor": 0
      },
      "text/plain": [
       "HBox(children=(FloatProgress(value=0.0, description='Training', layout=Layout(flex='2'), max=1250.0, style=Pro…"
      ]
     },
     "metadata": {},
     "output_type": "display_data"
    },
    {
     "name": "stdout",
     "output_type": "stream",
     "text": [
      "Epoch 1779: train=8.78479, val=8.63201, took 70.689 s\n",
      "  Validation Found 101739 of 108007, added 5487 (eff 94.20%) (0.274 FP/event)\n",
      "Result epoch:  1779\n",
      "Average Eff:  0\n",
      "Average FP Rate:  0\n"
     ]
    },
    {
     "data": {
      "application/vnd.jupyter.widget-view+json": {
       "model_id": "",
       "version_major": 2,
       "version_minor": 0
      },
      "text/plain": [
       "HBox(children=(FloatProgress(value=0.0, description='Training', layout=Layout(flex='2'), max=1250.0, style=Pro…"
      ]
     },
     "metadata": {},
     "output_type": "display_data"
    },
    {
     "name": "stdout",
     "output_type": "stream",
     "text": [
      "Epoch 1780: train=8.77578, val=8.63297, took 70.456 s\n",
      "  Validation Found 101753 of 108007, added 5520 (eff 94.21%) (0.276 FP/event)\n",
      "Result epoch:  1780\n",
      "Average Eff:  0\n",
      "Average FP Rate:  0\n"
     ]
    },
    {
     "data": {
      "application/vnd.jupyter.widget-view+json": {
       "model_id": "",
       "version_major": 2,
       "version_minor": 0
      },
      "text/plain": [
       "HBox(children=(FloatProgress(value=0.0, description='Training', layout=Layout(flex='2'), max=1250.0, style=Pro…"
      ]
     },
     "metadata": {},
     "output_type": "display_data"
    },
    {
     "name": "stdout",
     "output_type": "stream",
     "text": [
      "Epoch 1781: train=8.78357, val=8.63359, took 69.782 s\n",
      "  Validation Found 101713 of 108007, added 5409 (eff 94.17%) (0.27 FP/event)\n",
      "Result epoch:  1781\n",
      "Average Eff:  0\n",
      "Average FP Rate:  0\n"
     ]
    },
    {
     "data": {
      "application/vnd.jupyter.widget-view+json": {
       "model_id": "",
       "version_major": 2,
       "version_minor": 0
      },
      "text/plain": [
       "HBox(children=(FloatProgress(value=0.0, description='Training', layout=Layout(flex='2'), max=1250.0, style=Pro…"
      ]
     },
     "metadata": {},
     "output_type": "display_data"
    },
    {
     "name": "stdout",
     "output_type": "stream",
     "text": [
      "Epoch 1782: train=8.77842, val=8.64192, took 70.672 s\n",
      "  Validation Found 101604 of 108007, added 5293 (eff 94.07%) (0.265 FP/event)\n",
      "Result epoch:  1782\n",
      "Average Eff:  0\n",
      "Average FP Rate:  0\n"
     ]
    },
    {
     "data": {
      "application/vnd.jupyter.widget-view+json": {
       "model_id": "",
       "version_major": 2,
       "version_minor": 0
      },
      "text/plain": [
       "HBox(children=(FloatProgress(value=0.0, description='Training', layout=Layout(flex='2'), max=1250.0, style=Pro…"
      ]
     },
     "metadata": {},
     "output_type": "display_data"
    },
    {
     "name": "stdout",
     "output_type": "stream",
     "text": [
      "Epoch 1783: train=8.77694, val=8.6289, took 70.244 s\n",
      "  Validation Found 101664 of 108007, added 5320 (eff 94.13%) (0.266 FP/event)\n",
      "Result epoch:  1783\n",
      "Average Eff:  0\n",
      "Average FP Rate:  0\n"
     ]
    },
    {
     "data": {
      "application/vnd.jupyter.widget-view+json": {
       "model_id": "",
       "version_major": 2,
       "version_minor": 0
      },
      "text/plain": [
       "HBox(children=(FloatProgress(value=0.0, description='Training', layout=Layout(flex='2'), max=1250.0, style=Pro…"
      ]
     },
     "metadata": {},
     "output_type": "display_data"
    },
    {
     "name": "stdout",
     "output_type": "stream",
     "text": [
      "Epoch 1784: train=8.7732, val=8.63338, took 71.966 s\n",
      "  Validation Found 101750 of 108007, added 5507 (eff 94.21%) (0.275 FP/event)\n",
      "Result epoch:  1784\n",
      "Average Eff:  0\n",
      "Average FP Rate:  0\n"
     ]
    },
    {
     "data": {
      "application/vnd.jupyter.widget-view+json": {
       "model_id": "",
       "version_major": 2,
       "version_minor": 0
      },
      "text/plain": [
       "HBox(children=(FloatProgress(value=0.0, description='Training', layout=Layout(flex='2'), max=1250.0, style=Pro…"
      ]
     },
     "metadata": {},
     "output_type": "display_data"
    },
    {
     "name": "stdout",
     "output_type": "stream",
     "text": [
      "Epoch 1785: train=8.77588, val=8.63778, took 70.867 s\n",
      "  Validation Found 101716 of 108007, added 5438 (eff 94.18%) (0.272 FP/event)\n",
      "Result epoch:  1785\n",
      "Average Eff:  0\n",
      "Average FP Rate:  0\n"
     ]
    },
    {
     "data": {
      "application/vnd.jupyter.widget-view+json": {
       "model_id": "",
       "version_major": 2,
       "version_minor": 0
      },
      "text/plain": [
       "HBox(children=(FloatProgress(value=0.0, description='Training', layout=Layout(flex='2'), max=1250.0, style=Pro…"
      ]
     },
     "metadata": {},
     "output_type": "display_data"
    },
    {
     "name": "stdout",
     "output_type": "stream",
     "text": [
      "Epoch 1786: train=8.7766, val=8.62798, took 71.321 s\n",
      "  Validation Found 101775 of 108007, added 5593 (eff 94.23%) (0.28 FP/event)\n",
      "Result epoch:  1786\n",
      "Average Eff:  0\n",
      "Average FP Rate:  0\n"
     ]
    },
    {
     "data": {
      "application/vnd.jupyter.widget-view+json": {
       "model_id": "",
       "version_major": 2,
       "version_minor": 0
      },
      "text/plain": [
       "HBox(children=(FloatProgress(value=0.0, description='Training', layout=Layout(flex='2'), max=1250.0, style=Pro…"
      ]
     },
     "metadata": {},
     "output_type": "display_data"
    },
    {
     "name": "stdout",
     "output_type": "stream",
     "text": [
      "Epoch 1787: train=8.77964, val=8.62568, took 71.425 s\n",
      "  Validation Found 101726 of 108007, added 5424 (eff 94.18%) (0.271 FP/event)\n",
      "Result epoch:  1787\n",
      "Average Eff:  0\n",
      "Average FP Rate:  0\n"
     ]
    },
    {
     "data": {
      "application/vnd.jupyter.widget-view+json": {
       "model_id": "",
       "version_major": 2,
       "version_minor": 0
      },
      "text/plain": [
       "HBox(children=(FloatProgress(value=0.0, description='Training', layout=Layout(flex='2'), max=1250.0, style=Pro…"
      ]
     },
     "metadata": {},
     "output_type": "display_data"
    },
    {
     "name": "stdout",
     "output_type": "stream",
     "text": [
      "Epoch 1788: train=8.77594, val=8.63091, took 70.123 s\n",
      "  Validation Found 101780 of 108007, added 5555 (eff 94.23%) (0.278 FP/event)\n",
      "Result epoch:  1788\n",
      "Average Eff:  0\n",
      "Average FP Rate:  0\n"
     ]
    },
    {
     "data": {
      "application/vnd.jupyter.widget-view+json": {
       "model_id": "",
       "version_major": 2,
       "version_minor": 0
      },
      "text/plain": [
       "HBox(children=(FloatProgress(value=0.0, description='Training', layout=Layout(flex='2'), max=1250.0, style=Pro…"
      ]
     },
     "metadata": {},
     "output_type": "display_data"
    },
    {
     "name": "stdout",
     "output_type": "stream",
     "text": [
      "Epoch 1789: train=8.78023, val=8.63548, took 71.519 s\n",
      "  Validation Found 101664 of 108007, added 5336 (eff 94.13%) (0.267 FP/event)\n",
      "Result epoch:  1789\n",
      "Average Eff:  0\n",
      "Average FP Rate:  0\n"
     ]
    },
    {
     "data": {
      "application/vnd.jupyter.widget-view+json": {
       "model_id": "",
       "version_major": 2,
       "version_minor": 0
      },
      "text/plain": [
       "HBox(children=(FloatProgress(value=0.0, description='Training', layout=Layout(flex='2'), max=1250.0, style=Pro…"
      ]
     },
     "metadata": {},
     "output_type": "display_data"
    },
    {
     "name": "stdout",
     "output_type": "stream",
     "text": [
      "Epoch 1790: train=8.77857, val=8.63374, took 71.946 s\n",
      "  Validation Found 101687 of 108007, added 5371 (eff 94.15%) (0.269 FP/event)\n",
      "Result epoch:  1790\n",
      "Average Eff:  0\n",
      "Average FP Rate:  0\n"
     ]
    },
    {
     "data": {
      "application/vnd.jupyter.widget-view+json": {
       "model_id": "",
       "version_major": 2,
       "version_minor": 0
      },
      "text/plain": [
       "HBox(children=(FloatProgress(value=0.0, description='Training', layout=Layout(flex='2'), max=1250.0, style=Pro…"
      ]
     },
     "metadata": {},
     "output_type": "display_data"
    },
    {
     "name": "stdout",
     "output_type": "stream",
     "text": [
      "Epoch 1791: train=8.77443, val=8.6228, took 71.108 s\n",
      "  Validation Found 101745 of 108007, added 5449 (eff 94.20%) (0.272 FP/event)\n",
      "Result epoch:  1791\n",
      "Average Eff:  0\n",
      "Average FP Rate:  0\n"
     ]
    },
    {
     "data": {
      "application/vnd.jupyter.widget-view+json": {
       "model_id": "",
       "version_major": 2,
       "version_minor": 0
      },
      "text/plain": [
       "HBox(children=(FloatProgress(value=0.0, description='Training', layout=Layout(flex='2'), max=1250.0, style=Pro…"
      ]
     },
     "metadata": {},
     "output_type": "display_data"
    },
    {
     "name": "stdout",
     "output_type": "stream",
     "text": [
      "Epoch 1792: train=8.7768, val=8.62874, took 71.476 s\n",
      "  Validation Found 101583 of 108007, added 5224 (eff 94.05%) (0.261 FP/event)\n",
      "Result epoch:  1792\n",
      "Average Eff:  0\n",
      "Average FP Rate:  0\n"
     ]
    },
    {
     "data": {
      "application/vnd.jupyter.widget-view+json": {
       "model_id": "",
       "version_major": 2,
       "version_minor": 0
      },
      "text/plain": [
       "HBox(children=(FloatProgress(value=0.0, description='Training', layout=Layout(flex='2'), max=1250.0, style=Pro…"
      ]
     },
     "metadata": {},
     "output_type": "display_data"
    },
    {
     "name": "stdout",
     "output_type": "stream",
     "text": [
      "Epoch 1793: train=8.77592, val=8.63651, took 71.685 s\n",
      "  Validation Found 101786 of 108007, added 5583 (eff 94.24%) (0.279 FP/event)\n",
      "Result epoch:  1793\n",
      "Average Eff:  0\n",
      "Average FP Rate:  0\n"
     ]
    },
    {
     "data": {
      "application/vnd.jupyter.widget-view+json": {
       "model_id": "",
       "version_major": 2,
       "version_minor": 0
      },
      "text/plain": [
       "HBox(children=(FloatProgress(value=0.0, description='Training', layout=Layout(flex='2'), max=1250.0, style=Pro…"
      ]
     },
     "metadata": {},
     "output_type": "display_data"
    },
    {
     "name": "stdout",
     "output_type": "stream",
     "text": [
      "Epoch 1794: train=8.77491, val=8.63453, took 69.752 s\n",
      "  Validation Found 101683 of 108007, added 5394 (eff 94.14%) (0.27 FP/event)\n",
      "Result epoch:  1794\n",
      "Average Eff:  0\n",
      "Average FP Rate:  0\n"
     ]
    },
    {
     "data": {
      "application/vnd.jupyter.widget-view+json": {
       "model_id": "",
       "version_major": 2,
       "version_minor": 0
      },
      "text/plain": [
       "HBox(children=(FloatProgress(value=0.0, description='Training', layout=Layout(flex='2'), max=1250.0, style=Pro…"
      ]
     },
     "metadata": {},
     "output_type": "display_data"
    },
    {
     "name": "stdout",
     "output_type": "stream",
     "text": [
      "Epoch 1795: train=8.77646, val=8.62977, took 70.52 s\n",
      "  Validation Found 101755 of 108007, added 5487 (eff 94.21%) (0.274 FP/event)\n",
      "Result epoch:  1795\n",
      "Average Eff:  0\n",
      "Average FP Rate:  0\n"
     ]
    },
    {
     "data": {
      "application/vnd.jupyter.widget-view+json": {
       "model_id": "",
       "version_major": 2,
       "version_minor": 0
      },
      "text/plain": [
       "HBox(children=(FloatProgress(value=0.0, description='Training', layout=Layout(flex='2'), max=1250.0, style=Pro…"
      ]
     },
     "metadata": {},
     "output_type": "display_data"
    },
    {
     "name": "stdout",
     "output_type": "stream",
     "text": [
      "Epoch 1796: train=8.77507, val=8.63018, took 70.009 s\n",
      "  Validation Found 101744 of 108007, added 5507 (eff 94.20%) (0.275 FP/event)\n",
      "Result epoch:  1796\n",
      "Average Eff:  0\n",
      "Average FP Rate:  0\n"
     ]
    },
    {
     "data": {
      "application/vnd.jupyter.widget-view+json": {
       "model_id": "",
       "version_major": 2,
       "version_minor": 0
      },
      "text/plain": [
       "HBox(children=(FloatProgress(value=0.0, description='Training', layout=Layout(flex='2'), max=1250.0, style=Pro…"
      ]
     },
     "metadata": {},
     "output_type": "display_data"
    },
    {
     "name": "stdout",
     "output_type": "stream",
     "text": [
      "Epoch 1797: train=8.77768, val=8.62512, took 69.98 s\n",
      "  Validation Found 101698 of 108007, added 5381 (eff 94.16%) (0.269 FP/event)\n",
      "Result epoch:  1797\n",
      "Average Eff:  0\n",
      "Average FP Rate:  0\n"
     ]
    },
    {
     "data": {
      "application/vnd.jupyter.widget-view+json": {
       "model_id": "",
       "version_major": 2,
       "version_minor": 0
      },
      "text/plain": [
       "HBox(children=(FloatProgress(value=0.0, description='Training', layout=Layout(flex='2'), max=1250.0, style=Pro…"
      ]
     },
     "metadata": {},
     "output_type": "display_data"
    },
    {
     "name": "stdout",
     "output_type": "stream",
     "text": [
      "Epoch 1798: train=8.77531, val=8.62332, took 72.175 s\n",
      "  Validation Found 101747 of 108007, added 5469 (eff 94.20%) (0.273 FP/event)\n",
      "Result epoch:  1798\n",
      "Average Eff:  0\n",
      "Average FP Rate:  0\n"
     ]
    },
    {
     "data": {
      "application/vnd.jupyter.widget-view+json": {
       "model_id": "",
       "version_major": 2,
       "version_minor": 0
      },
      "text/plain": [
       "HBox(children=(FloatProgress(value=0.0, description='Training', layout=Layout(flex='2'), max=1250.0, style=Pro…"
      ]
     },
     "metadata": {},
     "output_type": "display_data"
    },
    {
     "name": "stdout",
     "output_type": "stream",
     "text": [
      "Epoch 1799: train=8.77429, val=8.63236, took 72.223 s\n",
      "  Validation Found 101710 of 108007, added 5415 (eff 94.17%) (0.271 FP/event)\n",
      "Result epoch:  1799\n",
      "Average Eff:  0\n",
      "Average FP Rate:  0\n"
     ]
    },
    {
     "data": {
      "application/vnd.jupyter.widget-view+json": {
       "model_id": "",
       "version_major": 2,
       "version_minor": 0
      },
      "text/plain": [
       "HBox(children=(FloatProgress(value=0.0, description='Training', layout=Layout(flex='2'), max=1250.0, style=Pro…"
      ]
     },
     "metadata": {},
     "output_type": "display_data"
    },
    {
     "name": "stdout",
     "output_type": "stream",
     "text": [
      "Epoch 1800: train=8.77419, val=8.63429, took 71.814 s\n",
      "  Validation Found 101714 of 108007, added 5424 (eff 94.17%) (0.271 FP/event)\n",
      "Result epoch:  1800\n",
      "Average Eff:  0\n",
      "Average FP Rate:  0\n"
     ]
    },
    {
     "data": {
      "application/vnd.jupyter.widget-view+json": {
       "model_id": "",
       "version_major": 2,
       "version_minor": 0
      },
      "text/plain": [
       "HBox(children=(FloatProgress(value=0.0, description='Training', layout=Layout(flex='2'), max=1250.0, style=Pro…"
      ]
     },
     "metadata": {},
     "output_type": "display_data"
    },
    {
     "name": "stdout",
     "output_type": "stream",
     "text": [
      "Epoch 1801: train=8.77656, val=8.6271, took 71.445 s\n",
      "  Validation Found 101741 of 108007, added 5465 (eff 94.20%) (0.273 FP/event)\n",
      "Result epoch:  1801\n",
      "Average Eff:  0\n",
      "Average FP Rate:  0\n"
     ]
    },
    {
     "data": {
      "application/vnd.jupyter.widget-view+json": {
       "model_id": "",
       "version_major": 2,
       "version_minor": 0
      },
      "text/plain": [
       "HBox(children=(FloatProgress(value=0.0, description='Training', layout=Layout(flex='2'), max=1250.0, style=Pro…"
      ]
     },
     "metadata": {},
     "output_type": "display_data"
    },
    {
     "name": "stdout",
     "output_type": "stream",
     "text": [
      "Epoch 1802: train=8.77583, val=8.63613, took 71.57 s\n",
      "  Validation Found 101623 of 108007, added 5318 (eff 94.09%) (0.266 FP/event)\n",
      "Result epoch:  1802\n",
      "Average Eff:  0\n",
      "Average FP Rate:  0\n"
     ]
    },
    {
     "data": {
      "application/vnd.jupyter.widget-view+json": {
       "model_id": "",
       "version_major": 2,
       "version_minor": 0
      },
      "text/plain": [
       "HBox(children=(FloatProgress(value=0.0, description='Training', layout=Layout(flex='2'), max=1250.0, style=Pro…"
      ]
     },
     "metadata": {},
     "output_type": "display_data"
    },
    {
     "name": "stdout",
     "output_type": "stream",
     "text": [
      "Epoch 1803: train=8.78038, val=8.62701, took 72.047 s\n",
      "  Validation Found 101777 of 108007, added 5561 (eff 94.23%) (0.278 FP/event)\n",
      "Result epoch:  1803\n",
      "Average Eff:  0\n",
      "Average FP Rate:  0\n"
     ]
    },
    {
     "data": {
      "application/vnd.jupyter.widget-view+json": {
       "model_id": "",
       "version_major": 2,
       "version_minor": 0
      },
      "text/plain": [
       "HBox(children=(FloatProgress(value=0.0, description='Training', layout=Layout(flex='2'), max=1250.0, style=Pro…"
      ]
     },
     "metadata": {},
     "output_type": "display_data"
    },
    {
     "name": "stdout",
     "output_type": "stream",
     "text": [
      "Epoch 1804: train=8.77264, val=8.62886, took 70.473 s\n",
      "  Validation Found 101772 of 108007, added 5564 (eff 94.23%) (0.278 FP/event)\n",
      "Result epoch:  1804\n",
      "Average Eff:  0\n",
      "Average FP Rate:  0\n"
     ]
    },
    {
     "data": {
      "application/vnd.jupyter.widget-view+json": {
       "model_id": "",
       "version_major": 2,
       "version_minor": 0
      },
      "text/plain": [
       "HBox(children=(FloatProgress(value=0.0, description='Training', layout=Layout(flex='2'), max=1250.0, style=Pro…"
      ]
     },
     "metadata": {},
     "output_type": "display_data"
    },
    {
     "name": "stdout",
     "output_type": "stream",
     "text": [
      "Epoch 1805: train=8.77494, val=8.63282, took 70.617 s\n",
      "  Validation Found 101587 of 108007, added 5244 (eff 94.06%) (0.262 FP/event)\n",
      "Result epoch:  1805\n",
      "Average Eff:  0\n",
      "Average FP Rate:  0\n"
     ]
    },
    {
     "data": {
      "application/vnd.jupyter.widget-view+json": {
       "model_id": "",
       "version_major": 2,
       "version_minor": 0
      },
      "text/plain": [
       "HBox(children=(FloatProgress(value=0.0, description='Training', layout=Layout(flex='2'), max=1250.0, style=Pro…"
      ]
     },
     "metadata": {},
     "output_type": "display_data"
    },
    {
     "name": "stdout",
     "output_type": "stream",
     "text": [
      "Epoch 1806: train=8.77778, val=8.62322, took 71.444 s\n",
      "  Validation Found 101760 of 108007, added 5512 (eff 94.22%) (0.276 FP/event)\n",
      "Result epoch:  1806\n",
      "Average Eff:  0\n",
      "Average FP Rate:  0\n"
     ]
    },
    {
     "data": {
      "application/vnd.jupyter.widget-view+json": {
       "model_id": "",
       "version_major": 2,
       "version_minor": 0
      },
      "text/plain": [
       "HBox(children=(FloatProgress(value=0.0, description='Training', layout=Layout(flex='2'), max=1250.0, style=Pro…"
      ]
     },
     "metadata": {},
     "output_type": "display_data"
    },
    {
     "name": "stdout",
     "output_type": "stream",
     "text": [
      "Epoch 1807: train=8.78103, val=8.63318, took 70.402 s\n",
      "  Validation Found 101750 of 108007, added 5499 (eff 94.21%) (0.275 FP/event)\n",
      "Result epoch:  1807\n",
      "Average Eff:  0\n",
      "Average FP Rate:  0\n"
     ]
    },
    {
     "data": {
      "application/vnd.jupyter.widget-view+json": {
       "model_id": "",
       "version_major": 2,
       "version_minor": 0
      },
      "text/plain": [
       "HBox(children=(FloatProgress(value=0.0, description='Training', layout=Layout(flex='2'), max=1250.0, style=Pro…"
      ]
     },
     "metadata": {},
     "output_type": "display_data"
    },
    {
     "name": "stdout",
     "output_type": "stream",
     "text": [
      "Epoch 1808: train=8.77575, val=8.62098, took 71.685 s\n",
      "  Validation Found 101790 of 108007, added 5575 (eff 94.24%) (0.279 FP/event)\n",
      "Result epoch:  1808\n",
      "Average Eff:  0\n",
      "Average FP Rate:  0\n"
     ]
    },
    {
     "data": {
      "application/vnd.jupyter.widget-view+json": {
       "model_id": "",
       "version_major": 2,
       "version_minor": 0
      },
      "text/plain": [
       "HBox(children=(FloatProgress(value=0.0, description='Training', layout=Layout(flex='2'), max=1250.0, style=Pro…"
      ]
     },
     "metadata": {},
     "output_type": "display_data"
    },
    {
     "name": "stdout",
     "output_type": "stream",
     "text": [
      "Epoch 1809: train=8.77526, val=8.6335, took 72.282 s\n",
      "  Validation Found 101698 of 108007, added 5394 (eff 94.16%) (0.27 FP/event)\n",
      "Result epoch:  1809\n",
      "Average Eff:  0\n",
      "Average FP Rate:  0\n"
     ]
    },
    {
     "data": {
      "application/vnd.jupyter.widget-view+json": {
       "model_id": "",
       "version_major": 2,
       "version_minor": 0
      },
      "text/plain": [
       "HBox(children=(FloatProgress(value=0.0, description='Training', layout=Layout(flex='2'), max=1250.0, style=Pro…"
      ]
     },
     "metadata": {},
     "output_type": "display_data"
    },
    {
     "name": "stdout",
     "output_type": "stream",
     "text": [
      "Epoch 1810: train=8.78219, val=8.62309, took 70.194 s\n",
      "  Validation Found 101666 of 108007, added 5324 (eff 94.13%) (0.266 FP/event)\n",
      "Result epoch:  1810\n",
      "Average Eff:  0\n",
      "Average FP Rate:  0\n"
     ]
    },
    {
     "data": {
      "application/vnd.jupyter.widget-view+json": {
       "model_id": "",
       "version_major": 2,
       "version_minor": 0
      },
      "text/plain": [
       "HBox(children=(FloatProgress(value=0.0, description='Training', layout=Layout(flex='2'), max=1250.0, style=Pro…"
      ]
     },
     "metadata": {},
     "output_type": "display_data"
    },
    {
     "name": "stdout",
     "output_type": "stream",
     "text": [
      "Epoch 1811: train=8.77572, val=8.63042, took 72.421 s\n",
      "  Validation Found 101738 of 108007, added 5462 (eff 94.20%) (0.273 FP/event)\n",
      "Result epoch:  1811\n",
      "Average Eff:  0\n",
      "Average FP Rate:  0\n"
     ]
    },
    {
     "data": {
      "application/vnd.jupyter.widget-view+json": {
       "model_id": "",
       "version_major": 2,
       "version_minor": 0
      },
      "text/plain": [
       "HBox(children=(FloatProgress(value=0.0, description='Training', layout=Layout(flex='2'), max=1250.0, style=Pro…"
      ]
     },
     "metadata": {},
     "output_type": "display_data"
    },
    {
     "name": "stdout",
     "output_type": "stream",
     "text": [
      "Epoch 1812: train=8.77519, val=8.62876, took 71.69 s\n",
      "  Validation Found 101769 of 108007, added 5522 (eff 94.22%) (0.276 FP/event)\n",
      "Result epoch:  1812\n",
      "Average Eff:  0\n",
      "Average FP Rate:  0\n"
     ]
    },
    {
     "data": {
      "application/vnd.jupyter.widget-view+json": {
       "model_id": "",
       "version_major": 2,
       "version_minor": 0
      },
      "text/plain": [
       "HBox(children=(FloatProgress(value=0.0, description='Training', layout=Layout(flex='2'), max=1250.0, style=Pro…"
      ]
     },
     "metadata": {},
     "output_type": "display_data"
    },
    {
     "name": "stdout",
     "output_type": "stream",
     "text": [
      "Epoch 1813: train=8.77549, val=8.63225, took 72.214 s\n",
      "  Validation Found 101676 of 108007, added 5359 (eff 94.14%) (0.268 FP/event)\n",
      "Result epoch:  1813\n",
      "Average Eff:  0\n",
      "Average FP Rate:  0\n"
     ]
    },
    {
     "data": {
      "application/vnd.jupyter.widget-view+json": {
       "model_id": "",
       "version_major": 2,
       "version_minor": 0
      },
      "text/plain": [
       "HBox(children=(FloatProgress(value=0.0, description='Training', layout=Layout(flex='2'), max=1250.0, style=Pro…"
      ]
     },
     "metadata": {},
     "output_type": "display_data"
    },
    {
     "name": "stdout",
     "output_type": "stream",
     "text": [
      "Epoch 1814: train=8.774, val=8.62823, took 71.996 s\n",
      "  Validation Found 101738 of 108007, added 5455 (eff 94.20%) (0.273 FP/event)\n",
      "Result epoch:  1814\n",
      "Average Eff:  0\n",
      "Average FP Rate:  0\n"
     ]
    },
    {
     "data": {
      "application/vnd.jupyter.widget-view+json": {
       "model_id": "",
       "version_major": 2,
       "version_minor": 0
      },
      "text/plain": [
       "HBox(children=(FloatProgress(value=0.0, description='Training', layout=Layout(flex='2'), max=1250.0, style=Pro…"
      ]
     },
     "metadata": {},
     "output_type": "display_data"
    },
    {
     "name": "stdout",
     "output_type": "stream",
     "text": [
      "Epoch 1815: train=8.77263, val=8.63648, took 71.197 s\n",
      "  Validation Found 101667 of 108007, added 5363 (eff 94.13%) (0.268 FP/event)\n",
      "Result epoch:  1815\n",
      "Average Eff:  0\n",
      "Average FP Rate:  0\n"
     ]
    },
    {
     "data": {
      "application/vnd.jupyter.widget-view+json": {
       "model_id": "",
       "version_major": 2,
       "version_minor": 0
      },
      "text/plain": [
       "HBox(children=(FloatProgress(value=0.0, description='Training', layout=Layout(flex='2'), max=1250.0, style=Pro…"
      ]
     },
     "metadata": {},
     "output_type": "display_data"
    },
    {
     "name": "stdout",
     "output_type": "stream",
     "text": [
      "Epoch 1816: train=8.77368, val=8.6288, took 71.399 s\n",
      "  Validation Found 101756 of 108007, added 5463 (eff 94.21%) (0.273 FP/event)\n",
      "Result epoch:  1816\n",
      "Average Eff:  0\n",
      "Average FP Rate:  0\n"
     ]
    },
    {
     "data": {
      "application/vnd.jupyter.widget-view+json": {
       "model_id": "",
       "version_major": 2,
       "version_minor": 0
      },
      "text/plain": [
       "HBox(children=(FloatProgress(value=0.0, description='Training', layout=Layout(flex='2'), max=1250.0, style=Pro…"
      ]
     },
     "metadata": {},
     "output_type": "display_data"
    },
    {
     "name": "stdout",
     "output_type": "stream",
     "text": [
      "Epoch 1817: train=8.77496, val=8.6292, took 71.578 s\n",
      "  Validation Found 101735 of 108007, added 5417 (eff 94.19%) (0.271 FP/event)\n",
      "Result epoch:  1817\n",
      "Average Eff:  0\n",
      "Average FP Rate:  0\n"
     ]
    },
    {
     "data": {
      "application/vnd.jupyter.widget-view+json": {
       "model_id": "",
       "version_major": 2,
       "version_minor": 0
      },
      "text/plain": [
       "HBox(children=(FloatProgress(value=0.0, description='Training', layout=Layout(flex='2'), max=1250.0, style=Pro…"
      ]
     },
     "metadata": {},
     "output_type": "display_data"
    },
    {
     "name": "stdout",
     "output_type": "stream",
     "text": [
      "Epoch 1818: train=8.77292, val=8.64513, took 71.762 s\n",
      "  Validation Found 101835 of 108007, added 5694 (eff 94.29%) (0.285 FP/event)\n",
      "Result epoch:  1818\n",
      "Average Eff:  0\n",
      "Average FP Rate:  0\n"
     ]
    },
    {
     "data": {
      "application/vnd.jupyter.widget-view+json": {
       "model_id": "",
       "version_major": 2,
       "version_minor": 0
      },
      "text/plain": [
       "HBox(children=(FloatProgress(value=0.0, description='Training', layout=Layout(flex='2'), max=1250.0, style=Pro…"
      ]
     },
     "metadata": {},
     "output_type": "display_data"
    },
    {
     "name": "stdout",
     "output_type": "stream",
     "text": [
      "Epoch 1819: train=8.77341, val=8.62096, took 71.665 s\n",
      "  Validation Found 101752 of 108007, added 5458 (eff 94.21%) (0.273 FP/event)\n",
      "Result epoch:  1819\n",
      "Average Eff:  0\n",
      "Average FP Rate:  0\n"
     ]
    },
    {
     "data": {
      "application/vnd.jupyter.widget-view+json": {
       "model_id": "",
       "version_major": 2,
       "version_minor": 0
      },
      "text/plain": [
       "HBox(children=(FloatProgress(value=0.0, description='Training', layout=Layout(flex='2'), max=1250.0, style=Pro…"
      ]
     },
     "metadata": {},
     "output_type": "display_data"
    },
    {
     "name": "stdout",
     "output_type": "stream",
     "text": [
      "Epoch 1820: train=8.77761, val=8.63258, took 72.57 s\n",
      "  Validation Found 101699 of 108007, added 5413 (eff 94.16%) (0.271 FP/event)\n",
      "Result epoch:  1820\n",
      "Average Eff:  0\n",
      "Average FP Rate:  0\n"
     ]
    },
    {
     "data": {
      "application/vnd.jupyter.widget-view+json": {
       "model_id": "",
       "version_major": 2,
       "version_minor": 0
      },
      "text/plain": [
       "HBox(children=(FloatProgress(value=0.0, description='Training', layout=Layout(flex='2'), max=1250.0, style=Pro…"
      ]
     },
     "metadata": {},
     "output_type": "display_data"
    },
    {
     "name": "stdout",
     "output_type": "stream",
     "text": [
      "Epoch 1821: train=8.77227, val=8.62876, took 71.954 s\n",
      "  Validation Found 101655 of 108007, added 5348 (eff 94.12%) (0.267 FP/event)\n",
      "Result epoch:  1821\n",
      "Average Eff:  0\n",
      "Average FP Rate:  0\n"
     ]
    },
    {
     "data": {
      "application/vnd.jupyter.widget-view+json": {
       "model_id": "",
       "version_major": 2,
       "version_minor": 0
      },
      "text/plain": [
       "HBox(children=(FloatProgress(value=0.0, description='Training', layout=Layout(flex='2'), max=1250.0, style=Pro…"
      ]
     },
     "metadata": {},
     "output_type": "display_data"
    },
    {
     "name": "stdout",
     "output_type": "stream",
     "text": [
      "Epoch 1822: train=8.77338, val=8.62555, took 71.307 s\n",
      "  Validation Found 101691 of 108007, added 5377 (eff 94.15%) (0.269 FP/event)\n",
      "Result epoch:  1822\n",
      "Average Eff:  0\n",
      "Average FP Rate:  0\n"
     ]
    },
    {
     "data": {
      "application/vnd.jupyter.widget-view+json": {
       "model_id": "",
       "version_major": 2,
       "version_minor": 0
      },
      "text/plain": [
       "HBox(children=(FloatProgress(value=0.0, description='Training', layout=Layout(flex='2'), max=1250.0, style=Pro…"
      ]
     },
     "metadata": {},
     "output_type": "display_data"
    },
    {
     "name": "stdout",
     "output_type": "stream",
     "text": [
      "Epoch 1823: train=8.77471, val=8.62179, took 70.937 s\n",
      "  Validation Found 101674 of 108007, added 5341 (eff 94.14%) (0.267 FP/event)\n",
      "Result epoch:  1823\n",
      "Average Eff:  0\n",
      "Average FP Rate:  0\n"
     ]
    },
    {
     "data": {
      "application/vnd.jupyter.widget-view+json": {
       "model_id": "",
       "version_major": 2,
       "version_minor": 0
      },
      "text/plain": [
       "HBox(children=(FloatProgress(value=0.0, description='Training', layout=Layout(flex='2'), max=1250.0, style=Pro…"
      ]
     },
     "metadata": {},
     "output_type": "display_data"
    },
    {
     "name": "stdout",
     "output_type": "stream",
     "text": [
      "Epoch 1824: train=8.77178, val=8.62989, took 70.176 s\n",
      "  Validation Found 101677 of 108007, added 5370 (eff 94.14%) (0.268 FP/event)\n",
      "Result epoch:  1824\n",
      "Average Eff:  0\n",
      "Average FP Rate:  0\n"
     ]
    },
    {
     "data": {
      "application/vnd.jupyter.widget-view+json": {
       "model_id": "",
       "version_major": 2,
       "version_minor": 0
      },
      "text/plain": [
       "HBox(children=(FloatProgress(value=0.0, description='Training', layout=Layout(flex='2'), max=1250.0, style=Pro…"
      ]
     },
     "metadata": {},
     "output_type": "display_data"
    },
    {
     "name": "stdout",
     "output_type": "stream",
     "text": [
      "Epoch 1825: train=8.774, val=8.62289, took 71.818 s\n",
      "  Validation Found 101767 of 108007, added 5516 (eff 94.22%) (0.276 FP/event)\n",
      "Result epoch:  1825\n",
      "Average Eff:  0\n",
      "Average FP Rate:  0\n"
     ]
    },
    {
     "data": {
      "application/vnd.jupyter.widget-view+json": {
       "model_id": "",
       "version_major": 2,
       "version_minor": 0
      },
      "text/plain": [
       "HBox(children=(FloatProgress(value=0.0, description='Training', layout=Layout(flex='2'), max=1250.0, style=Pro…"
      ]
     },
     "metadata": {},
     "output_type": "display_data"
    },
    {
     "name": "stdout",
     "output_type": "stream",
     "text": [
      "Epoch 1826: train=8.76691, val=8.62962, took 71.02 s\n",
      "  Validation Found 101589 of 108007, added 5266 (eff 94.06%) (0.263 FP/event)\n",
      "Result epoch:  1826\n",
      "Average Eff:  0\n",
      "Average FP Rate:  0\n"
     ]
    },
    {
     "data": {
      "application/vnd.jupyter.widget-view+json": {
       "model_id": "",
       "version_major": 2,
       "version_minor": 0
      },
      "text/plain": [
       "HBox(children=(FloatProgress(value=0.0, description='Training', layout=Layout(flex='2'), max=1250.0, style=Pro…"
      ]
     },
     "metadata": {},
     "output_type": "display_data"
    },
    {
     "name": "stdout",
     "output_type": "stream",
     "text": [
      "Epoch 1827: train=8.76895, val=8.61855, took 71.709 s\n",
      "  Validation Found 101753 of 108007, added 5468 (eff 94.21%) (0.273 FP/event)\n",
      "Result epoch:  1827\n",
      "Average Eff:  0\n",
      "Average FP Rate:  0\n"
     ]
    },
    {
     "data": {
      "application/vnd.jupyter.widget-view+json": {
       "model_id": "",
       "version_major": 2,
       "version_minor": 0
      },
      "text/plain": [
       "HBox(children=(FloatProgress(value=0.0, description='Training', layout=Layout(flex='2'), max=1250.0, style=Pro…"
      ]
     },
     "metadata": {},
     "output_type": "display_data"
    },
    {
     "name": "stdout",
     "output_type": "stream",
     "text": [
      "Epoch 1828: train=8.77145, val=8.62935, took 70.918 s\n",
      "  Validation Found 101719 of 108007, added 5406 (eff 94.18%) (0.27 FP/event)\n",
      "Result epoch:  1828\n",
      "Average Eff:  0\n",
      "Average FP Rate:  0\n"
     ]
    },
    {
     "data": {
      "application/vnd.jupyter.widget-view+json": {
       "model_id": "",
       "version_major": 2,
       "version_minor": 0
      },
      "text/plain": [
       "HBox(children=(FloatProgress(value=0.0, description='Training', layout=Layout(flex='2'), max=1250.0, style=Pro…"
      ]
     },
     "metadata": {},
     "output_type": "display_data"
    },
    {
     "name": "stdout",
     "output_type": "stream",
     "text": [
      "Epoch 1829: train=8.7749, val=8.62425, took 71.435 s\n",
      "  Validation Found 101741 of 108007, added 5426 (eff 94.20%) (0.271 FP/event)\n",
      "Result epoch:  1829\n",
      "Average Eff:  0\n",
      "Average FP Rate:  0\n"
     ]
    },
    {
     "data": {
      "application/vnd.jupyter.widget-view+json": {
       "model_id": "",
       "version_major": 2,
       "version_minor": 0
      },
      "text/plain": [
       "HBox(children=(FloatProgress(value=0.0, description='Training', layout=Layout(flex='2'), max=1250.0, style=Pro…"
      ]
     },
     "metadata": {},
     "output_type": "display_data"
    },
    {
     "name": "stdout",
     "output_type": "stream",
     "text": [
      "Epoch 1830: train=8.7738, val=8.633, took 71.828 s\n",
      "  Validation Found 101799 of 108007, added 5588 (eff 94.25%) (0.279 FP/event)\n",
      "Result epoch:  1830\n",
      "Average Eff:  0\n",
      "Average FP Rate:  0\n"
     ]
    },
    {
     "data": {
      "application/vnd.jupyter.widget-view+json": {
       "model_id": "",
       "version_major": 2,
       "version_minor": 0
      },
      "text/plain": [
       "HBox(children=(FloatProgress(value=0.0, description='Training', layout=Layout(flex='2'), max=1250.0, style=Pro…"
      ]
     },
     "metadata": {},
     "output_type": "display_data"
    },
    {
     "name": "stdout",
     "output_type": "stream",
     "text": [
      "Epoch 1831: train=8.77596, val=8.62614, took 70.45 s\n",
      "  Validation Found 101628 of 108007, added 5310 (eff 94.09%) (0.265 FP/event)\n",
      "Result epoch:  1831\n",
      "Average Eff:  0\n",
      "Average FP Rate:  0\n"
     ]
    },
    {
     "data": {
      "application/vnd.jupyter.widget-view+json": {
       "model_id": "",
       "version_major": 2,
       "version_minor": 0
      },
      "text/plain": [
       "HBox(children=(FloatProgress(value=0.0, description='Training', layout=Layout(flex='2'), max=1250.0, style=Pro…"
      ]
     },
     "metadata": {},
     "output_type": "display_data"
    },
    {
     "name": "stdout",
     "output_type": "stream",
     "text": [
      "Epoch 1832: train=8.76959, val=8.62583, took 71.969 s\n",
      "  Validation Found 101720 of 108007, added 5401 (eff 94.18%) (0.27 FP/event)\n",
      "Result epoch:  1832\n",
      "Average Eff:  0\n",
      "Average FP Rate:  0\n"
     ]
    },
    {
     "data": {
      "application/vnd.jupyter.widget-view+json": {
       "model_id": "",
       "version_major": 2,
       "version_minor": 0
      },
      "text/plain": [
       "HBox(children=(FloatProgress(value=0.0, description='Training', layout=Layout(flex='2'), max=1250.0, style=Pro…"
      ]
     },
     "metadata": {},
     "output_type": "display_data"
    },
    {
     "name": "stdout",
     "output_type": "stream",
     "text": [
      "Epoch 1833: train=8.77303, val=8.62707, took 71.381 s\n",
      "  Validation Found 101709 of 108007, added 5400 (eff 94.17%) (0.27 FP/event)\n",
      "Result epoch:  1833\n",
      "Average Eff:  0\n",
      "Average FP Rate:  0\n"
     ]
    },
    {
     "data": {
      "application/vnd.jupyter.widget-view+json": {
       "model_id": "",
       "version_major": 2,
       "version_minor": 0
      },
      "text/plain": [
       "HBox(children=(FloatProgress(value=0.0, description='Training', layout=Layout(flex='2'), max=1250.0, style=Pro…"
      ]
     },
     "metadata": {},
     "output_type": "display_data"
    },
    {
     "name": "stdout",
     "output_type": "stream",
     "text": [
      "Epoch 1834: train=8.77245, val=8.6239, took 71.703 s\n",
      "  Validation Found 101639 of 108007, added 5302 (eff 94.10%) (0.265 FP/event)\n",
      "Result epoch:  1834\n",
      "Average Eff:  0\n",
      "Average FP Rate:  0\n"
     ]
    },
    {
     "data": {
      "application/vnd.jupyter.widget-view+json": {
       "model_id": "",
       "version_major": 2,
       "version_minor": 0
      },
      "text/plain": [
       "HBox(children=(FloatProgress(value=0.0, description='Training', layout=Layout(flex='2'), max=1250.0, style=Pro…"
      ]
     },
     "metadata": {},
     "output_type": "display_data"
    },
    {
     "name": "stdout",
     "output_type": "stream",
     "text": [
      "Epoch 1835: train=8.77312, val=8.63528, took 72.28 s\n",
      "  Validation Found 101773 of 108007, added 5504 (eff 94.23%) (0.275 FP/event)\n",
      "Result epoch:  1835\n",
      "Average Eff:  0\n",
      "Average FP Rate:  0\n"
     ]
    },
    {
     "data": {
      "application/vnd.jupyter.widget-view+json": {
       "model_id": "",
       "version_major": 2,
       "version_minor": 0
      },
      "text/plain": [
       "HBox(children=(FloatProgress(value=0.0, description='Training', layout=Layout(flex='2'), max=1250.0, style=Pro…"
      ]
     },
     "metadata": {},
     "output_type": "display_data"
    },
    {
     "name": "stdout",
     "output_type": "stream",
     "text": [
      "Epoch 1836: train=8.77387, val=8.62593, took 70.847 s\n",
      "  Validation Found 101678 of 108007, added 5349 (eff 94.14%) (0.267 FP/event)\n",
      "Result epoch:  1836\n",
      "Average Eff:  0\n",
      "Average FP Rate:  0\n"
     ]
    },
    {
     "data": {
      "application/vnd.jupyter.widget-view+json": {
       "model_id": "",
       "version_major": 2,
       "version_minor": 0
      },
      "text/plain": [
       "HBox(children=(FloatProgress(value=0.0, description='Training', layout=Layout(flex='2'), max=1250.0, style=Pro…"
      ]
     },
     "metadata": {},
     "output_type": "display_data"
    },
    {
     "name": "stdout",
     "output_type": "stream",
     "text": [
      "Epoch 1837: train=8.77013, val=8.63358, took 70.764 s\n",
      "  Validation Found 101660 of 108007, added 5355 (eff 94.12%) (0.268 FP/event)\n",
      "Result epoch:  1837\n",
      "Average Eff:  0\n",
      "Average FP Rate:  0\n"
     ]
    },
    {
     "data": {
      "application/vnd.jupyter.widget-view+json": {
       "model_id": "",
       "version_major": 2,
       "version_minor": 0
      },
      "text/plain": [
       "HBox(children=(FloatProgress(value=0.0, description='Training', layout=Layout(flex='2'), max=1250.0, style=Pro…"
      ]
     },
     "metadata": {},
     "output_type": "display_data"
    },
    {
     "name": "stdout",
     "output_type": "stream",
     "text": [
      "Epoch 1838: train=8.77254, val=8.62392, took 71.516 s\n",
      "  Validation Found 101640 of 108007, added 5300 (eff 94.11%) (0.265 FP/event)\n",
      "Result epoch:  1838\n",
      "Average Eff:  0\n",
      "Average FP Rate:  0\n"
     ]
    },
    {
     "data": {
      "application/vnd.jupyter.widget-view+json": {
       "model_id": "",
       "version_major": 2,
       "version_minor": 0
      },
      "text/plain": [
       "HBox(children=(FloatProgress(value=0.0, description='Training', layout=Layout(flex='2'), max=1250.0, style=Pro…"
      ]
     },
     "metadata": {},
     "output_type": "display_data"
    },
    {
     "name": "stdout",
     "output_type": "stream",
     "text": [
      "Epoch 1839: train=8.7735, val=8.63166, took 72.471 s\n",
      "  Validation Found 101791 of 108007, added 5562 (eff 94.24%) (0.278 FP/event)\n",
      "Result epoch:  1839\n",
      "Average Eff:  0\n",
      "Average FP Rate:  0\n"
     ]
    },
    {
     "data": {
      "application/vnd.jupyter.widget-view+json": {
       "model_id": "",
       "version_major": 2,
       "version_minor": 0
      },
      "text/plain": [
       "HBox(children=(FloatProgress(value=0.0, description='Training', layout=Layout(flex='2'), max=1250.0, style=Pro…"
      ]
     },
     "metadata": {},
     "output_type": "display_data"
    },
    {
     "name": "stdout",
     "output_type": "stream",
     "text": [
      "Epoch 1840: train=8.77606, val=8.62665, took 72.888 s\n",
      "  Validation Found 101752 of 108007, added 5453 (eff 94.21%) (0.273 FP/event)\n",
      "Result epoch:  1840\n",
      "Average Eff:  0\n",
      "Average FP Rate:  0\n"
     ]
    },
    {
     "data": {
      "application/vnd.jupyter.widget-view+json": {
       "model_id": "",
       "version_major": 2,
       "version_minor": 0
      },
      "text/plain": [
       "HBox(children=(FloatProgress(value=0.0, description='Training', layout=Layout(flex='2'), max=1250.0, style=Pro…"
      ]
     },
     "metadata": {},
     "output_type": "display_data"
    },
    {
     "name": "stdout",
     "output_type": "stream",
     "text": [
      "Epoch 1841: train=8.77327, val=8.62765, took 70.835 s\n",
      "  Validation Found 101774 of 108007, added 5506 (eff 94.23%) (0.275 FP/event)\n",
      "Result epoch:  1841\n",
      "Average Eff:  0\n",
      "Average FP Rate:  0\n"
     ]
    },
    {
     "data": {
      "application/vnd.jupyter.widget-view+json": {
       "model_id": "",
       "version_major": 2,
       "version_minor": 0
      },
      "text/plain": [
       "HBox(children=(FloatProgress(value=0.0, description='Training', layout=Layout(flex='2'), max=1250.0, style=Pro…"
      ]
     },
     "metadata": {},
     "output_type": "display_data"
    },
    {
     "name": "stdout",
     "output_type": "stream",
     "text": [
      "Epoch 1842: train=8.77051, val=8.62509, took 71.163 s\n",
      "  Validation Found 101721 of 108007, added 5389 (eff 94.18%) (0.269 FP/event)\n",
      "Result epoch:  1842\n",
      "Average Eff:  0\n",
      "Average FP Rate:  0\n"
     ]
    },
    {
     "data": {
      "application/vnd.jupyter.widget-view+json": {
       "model_id": "",
       "version_major": 2,
       "version_minor": 0
      },
      "text/plain": [
       "HBox(children=(FloatProgress(value=0.0, description='Training', layout=Layout(flex='2'), max=1250.0, style=Pro…"
      ]
     },
     "metadata": {},
     "output_type": "display_data"
    },
    {
     "name": "stdout",
     "output_type": "stream",
     "text": [
      "Epoch 1843: train=8.77169, val=8.62908, took 70.866 s\n",
      "  Validation Found 101803 of 108007, added 5582 (eff 94.26%) (0.279 FP/event)\n",
      "Result epoch:  1843\n",
      "Average Eff:  0\n",
      "Average FP Rate:  0\n"
     ]
    },
    {
     "data": {
      "application/vnd.jupyter.widget-view+json": {
       "model_id": "",
       "version_major": 2,
       "version_minor": 0
      },
      "text/plain": [
       "HBox(children=(FloatProgress(value=0.0, description='Training', layout=Layout(flex='2'), max=1250.0, style=Pro…"
      ]
     },
     "metadata": {},
     "output_type": "display_data"
    },
    {
     "name": "stdout",
     "output_type": "stream",
     "text": [
      "Epoch 1844: train=8.76821, val=8.62477, took 69.079 s\n",
      "  Validation Found 101763 of 108007, added 5461 (eff 94.22%) (0.273 FP/event)\n",
      "Result epoch:  1844\n",
      "Average Eff:  0\n",
      "Average FP Rate:  0\n"
     ]
    },
    {
     "data": {
      "application/vnd.jupyter.widget-view+json": {
       "model_id": "",
       "version_major": 2,
       "version_minor": 0
      },
      "text/plain": [
       "HBox(children=(FloatProgress(value=0.0, description='Training', layout=Layout(flex='2'), max=1250.0, style=Pro…"
      ]
     },
     "metadata": {},
     "output_type": "display_data"
    },
    {
     "name": "stdout",
     "output_type": "stream",
     "text": [
      "Epoch 1845: train=8.77741, val=8.61964, took 72.139 s\n",
      "  Validation Found 101679 of 108007, added 5328 (eff 94.14%) (0.266 FP/event)\n",
      "Result epoch:  1845\n",
      "Average Eff:  0\n",
      "Average FP Rate:  0\n"
     ]
    },
    {
     "data": {
      "application/vnd.jupyter.widget-view+json": {
       "model_id": "",
       "version_major": 2,
       "version_minor": 0
      },
      "text/plain": [
       "HBox(children=(FloatProgress(value=0.0, description='Training', layout=Layout(flex='2'), max=1250.0, style=Pro…"
      ]
     },
     "metadata": {},
     "output_type": "display_data"
    },
    {
     "name": "stdout",
     "output_type": "stream",
     "text": [
      "Epoch 1846: train=8.7735, val=8.63364, took 71.388 s\n",
      "  Validation Found 101701 of 108007, added 5402 (eff 94.16%) (0.27 FP/event)\n",
      "Result epoch:  1846\n",
      "Average Eff:  0\n",
      "Average FP Rate:  0\n"
     ]
    },
    {
     "data": {
      "application/vnd.jupyter.widget-view+json": {
       "model_id": "",
       "version_major": 2,
       "version_minor": 0
      },
      "text/plain": [
       "HBox(children=(FloatProgress(value=0.0, description='Training', layout=Layout(flex='2'), max=1250.0, style=Pro…"
      ]
     },
     "metadata": {},
     "output_type": "display_data"
    },
    {
     "name": "stdout",
     "output_type": "stream",
     "text": [
      "Epoch 1847: train=8.77255, val=8.62506, took 72.137 s\n",
      "  Validation Found 101757 of 108007, added 5476 (eff 94.21%) (0.274 FP/event)\n",
      "Result epoch:  1847\n",
      "Average Eff:  0\n",
      "Average FP Rate:  0\n"
     ]
    },
    {
     "data": {
      "application/vnd.jupyter.widget-view+json": {
       "model_id": "",
       "version_major": 2,
       "version_minor": 0
      },
      "text/plain": [
       "HBox(children=(FloatProgress(value=0.0, description='Training', layout=Layout(flex='2'), max=1250.0, style=Pro…"
      ]
     },
     "metadata": {},
     "output_type": "display_data"
    },
    {
     "name": "stdout",
     "output_type": "stream",
     "text": [
      "Epoch 1848: train=8.77598, val=8.62351, took 71.632 s\n",
      "  Validation Found 101749 of 108007, added 5445 (eff 94.21%) (0.272 FP/event)\n",
      "Result epoch:  1848\n",
      "Average Eff:  0\n",
      "Average FP Rate:  0\n"
     ]
    },
    {
     "data": {
      "application/vnd.jupyter.widget-view+json": {
       "model_id": "",
       "version_major": 2,
       "version_minor": 0
      },
      "text/plain": [
       "HBox(children=(FloatProgress(value=0.0, description='Training', layout=Layout(flex='2'), max=1250.0, style=Pro…"
      ]
     },
     "metadata": {},
     "output_type": "display_data"
    },
    {
     "name": "stdout",
     "output_type": "stream",
     "text": [
      "Epoch 1849: train=8.77155, val=8.62502, took 70.364 s\n",
      "  Validation Found 101685 of 108007, added 5355 (eff 94.15%) (0.268 FP/event)\n",
      "Result epoch:  1849\n",
      "Average Eff:  0\n",
      "Average FP Rate:  0\n"
     ]
    },
    {
     "data": {
      "application/vnd.jupyter.widget-view+json": {
       "model_id": "",
       "version_major": 2,
       "version_minor": 0
      },
      "text/plain": [
       "HBox(children=(FloatProgress(value=0.0, description='Training', layout=Layout(flex='2'), max=1250.0, style=Pro…"
      ]
     },
     "metadata": {},
     "output_type": "display_data"
    },
    {
     "name": "stdout",
     "output_type": "stream",
     "text": [
      "Epoch 1850: train=8.77643, val=8.62349, took 70.373 s\n",
      "  Validation Found 101663 of 108007, added 5323 (eff 94.13%) (0.266 FP/event)\n",
      "Result epoch:  1850\n",
      "Average Eff:  0\n",
      "Average FP Rate:  0\n"
     ]
    },
    {
     "data": {
      "application/vnd.jupyter.widget-view+json": {
       "model_id": "",
       "version_major": 2,
       "version_minor": 0
      },
      "text/plain": [
       "HBox(children=(FloatProgress(value=0.0, description='Training', layout=Layout(flex='2'), max=1250.0, style=Pro…"
      ]
     },
     "metadata": {},
     "output_type": "display_data"
    },
    {
     "name": "stdout",
     "output_type": "stream",
     "text": [
      "Epoch 1851: train=8.76987, val=8.63117, took 70.775 s\n",
      "  Validation Found 101768 of 108007, added 5491 (eff 94.22%) (0.275 FP/event)\n",
      "Result epoch:  1851\n",
      "Average Eff:  0\n",
      "Average FP Rate:  0\n"
     ]
    },
    {
     "data": {
      "application/vnd.jupyter.widget-view+json": {
       "model_id": "",
       "version_major": 2,
       "version_minor": 0
      },
      "text/plain": [
       "HBox(children=(FloatProgress(value=0.0, description='Training', layout=Layout(flex='2'), max=1250.0, style=Pro…"
      ]
     },
     "metadata": {},
     "output_type": "display_data"
    },
    {
     "name": "stdout",
     "output_type": "stream",
     "text": [
      "Epoch 1852: train=8.77435, val=8.63006, took 71.892 s\n",
      "  Validation Found 101729 of 108007, added 5442 (eff 94.19%) (0.272 FP/event)\n",
      "Result epoch:  1852\n",
      "Average Eff:  0\n",
      "Average FP Rate:  0\n"
     ]
    },
    {
     "data": {
      "application/vnd.jupyter.widget-view+json": {
       "model_id": "",
       "version_major": 2,
       "version_minor": 0
      },
      "text/plain": [
       "HBox(children=(FloatProgress(value=0.0, description='Training', layout=Layout(flex='2'), max=1250.0, style=Pro…"
      ]
     },
     "metadata": {},
     "output_type": "display_data"
    },
    {
     "name": "stdout",
     "output_type": "stream",
     "text": [
      "Epoch 1853: train=8.77711, val=8.62475, took 72.316 s\n",
      "  Validation Found 101796 of 108007, added 5598 (eff 94.25%) (0.28 FP/event)\n",
      "Result epoch:  1853\n",
      "Average Eff:  0\n",
      "Average FP Rate:  0\n"
     ]
    },
    {
     "data": {
      "application/vnd.jupyter.widget-view+json": {
       "model_id": "",
       "version_major": 2,
       "version_minor": 0
      },
      "text/plain": [
       "HBox(children=(FloatProgress(value=0.0, description='Training', layout=Layout(flex='2'), max=1250.0, style=Pro…"
      ]
     },
     "metadata": {},
     "output_type": "display_data"
    },
    {
     "name": "stdout",
     "output_type": "stream",
     "text": [
      "Epoch 1854: train=8.77262, val=8.63013, took 71.151 s\n",
      "  Validation Found 101757 of 108007, added 5499 (eff 94.21%) (0.275 FP/event)\n",
      "Result epoch:  1854\n",
      "Average Eff:  0\n",
      "Average FP Rate:  0\n"
     ]
    },
    {
     "data": {
      "application/vnd.jupyter.widget-view+json": {
       "model_id": "",
       "version_major": 2,
       "version_minor": 0
      },
      "text/plain": [
       "HBox(children=(FloatProgress(value=0.0, description='Training', layout=Layout(flex='2'), max=1250.0, style=Pro…"
      ]
     },
     "metadata": {},
     "output_type": "display_data"
    },
    {
     "name": "stdout",
     "output_type": "stream",
     "text": [
      "Epoch 1855: train=8.77397, val=8.63334, took 71.955 s\n",
      "  Validation Found 101755 of 108007, added 5471 (eff 94.21%) (0.274 FP/event)\n",
      "Result epoch:  1855\n",
      "Average Eff:  0\n",
      "Average FP Rate:  0\n"
     ]
    },
    {
     "data": {
      "application/vnd.jupyter.widget-view+json": {
       "model_id": "",
       "version_major": 2,
       "version_minor": 0
      },
      "text/plain": [
       "HBox(children=(FloatProgress(value=0.0, description='Training', layout=Layout(flex='2'), max=1250.0, style=Pro…"
      ]
     },
     "metadata": {},
     "output_type": "display_data"
    },
    {
     "name": "stdout",
     "output_type": "stream",
     "text": [
      "Epoch 1856: train=8.77552, val=8.61957, took 71.335 s\n",
      "  Validation Found 101724 of 108007, added 5392 (eff 94.18%) (0.27 FP/event)\n",
      "Result epoch:  1856\n",
      "Average Eff:  0\n",
      "Average FP Rate:  0\n"
     ]
    },
    {
     "data": {
      "application/vnd.jupyter.widget-view+json": {
       "model_id": "",
       "version_major": 2,
       "version_minor": 0
      },
      "text/plain": [
       "HBox(children=(FloatProgress(value=0.0, description='Training', layout=Layout(flex='2'), max=1250.0, style=Pro…"
      ]
     },
     "metadata": {},
     "output_type": "display_data"
    },
    {
     "name": "stdout",
     "output_type": "stream",
     "text": [
      "Epoch 1857: train=8.77359, val=8.63123, took 71.177 s\n",
      "  Validation Found 101656 of 108007, added 5335 (eff 94.12%) (0.267 FP/event)\n",
      "Result epoch:  1857\n",
      "Average Eff:  0\n",
      "Average FP Rate:  0\n"
     ]
    },
    {
     "data": {
      "application/vnd.jupyter.widget-view+json": {
       "model_id": "",
       "version_major": 2,
       "version_minor": 0
      },
      "text/plain": [
       "HBox(children=(FloatProgress(value=0.0, description='Training', layout=Layout(flex='2'), max=1250.0, style=Pro…"
      ]
     },
     "metadata": {},
     "output_type": "display_data"
    },
    {
     "name": "stdout",
     "output_type": "stream",
     "text": [
      "Epoch 1858: train=8.77443, val=8.62623, took 72.106 s\n",
      "  Validation Found 101673 of 108007, added 5357 (eff 94.14%) (0.268 FP/event)\n",
      "Result epoch:  1858\n",
      "Average Eff:  0\n",
      "Average FP Rate:  0\n"
     ]
    },
    {
     "data": {
      "application/vnd.jupyter.widget-view+json": {
       "model_id": "",
       "version_major": 2,
       "version_minor": 0
      },
      "text/plain": [
       "HBox(children=(FloatProgress(value=0.0, description='Training', layout=Layout(flex='2'), max=1250.0, style=Pro…"
      ]
     },
     "metadata": {},
     "output_type": "display_data"
    },
    {
     "name": "stdout",
     "output_type": "stream",
     "text": [
      "Epoch 1859: train=8.77754, val=8.6299, took 70.91 s\n",
      "  Validation Found 101794 of 108007, added 5532 (eff 94.25%) (0.277 FP/event)\n",
      "Result epoch:  1859\n",
      "Average Eff:  0\n",
      "Average FP Rate:  0\n"
     ]
    },
    {
     "data": {
      "application/vnd.jupyter.widget-view+json": {
       "model_id": "",
       "version_major": 2,
       "version_minor": 0
      },
      "text/plain": [
       "HBox(children=(FloatProgress(value=0.0, description='Training', layout=Layout(flex='2'), max=1250.0, style=Pro…"
      ]
     },
     "metadata": {},
     "output_type": "display_data"
    },
    {
     "name": "stdout",
     "output_type": "stream",
     "text": [
      "Epoch 1860: train=8.76699, val=8.62625, took 71.895 s\n",
      "  Validation Found 101636 of 108007, added 5296 (eff 94.10%) (0.265 FP/event)\n",
      "Result epoch:  1860\n",
      "Average Eff:  0\n",
      "Average FP Rate:  0\n"
     ]
    },
    {
     "data": {
      "application/vnd.jupyter.widget-view+json": {
       "model_id": "",
       "version_major": 2,
       "version_minor": 0
      },
      "text/plain": [
       "HBox(children=(FloatProgress(value=0.0, description='Training', layout=Layout(flex='2'), max=1250.0, style=Pro…"
      ]
     },
     "metadata": {},
     "output_type": "display_data"
    },
    {
     "name": "stdout",
     "output_type": "stream",
     "text": [
      "Epoch 1861: train=8.77247, val=8.63029, took 70.893 s\n",
      "  Validation Found 101670 of 108007, added 5360 (eff 94.13%) (0.268 FP/event)\n",
      "Result epoch:  1861\n",
      "Average Eff:  0\n",
      "Average FP Rate:  0\n"
     ]
    },
    {
     "data": {
      "application/vnd.jupyter.widget-view+json": {
       "model_id": "",
       "version_major": 2,
       "version_minor": 0
      },
      "text/plain": [
       "HBox(children=(FloatProgress(value=0.0, description='Training', layout=Layout(flex='2'), max=1250.0, style=Pro…"
      ]
     },
     "metadata": {},
     "output_type": "display_data"
    },
    {
     "name": "stdout",
     "output_type": "stream",
     "text": [
      "Epoch 1862: train=8.77629, val=8.63209, took 70.679 s\n",
      "  Validation Found 101619 of 108007, added 5296 (eff 94.09%) (0.265 FP/event)\n",
      "Result epoch:  1862\n",
      "Average Eff:  0\n",
      "Average FP Rate:  0\n"
     ]
    },
    {
     "data": {
      "application/vnd.jupyter.widget-view+json": {
       "model_id": "",
       "version_major": 2,
       "version_minor": 0
      },
      "text/plain": [
       "HBox(children=(FloatProgress(value=0.0, description='Training', layout=Layout(flex='2'), max=1250.0, style=Pro…"
      ]
     },
     "metadata": {},
     "output_type": "display_data"
    },
    {
     "name": "stdout",
     "output_type": "stream",
     "text": [
      "Epoch 1863: train=8.76887, val=8.62915, took 69.78 s\n",
      "  Validation Found 101770 of 108007, added 5492 (eff 94.23%) (0.275 FP/event)\n",
      "Result epoch:  1863\n",
      "Average Eff:  0\n",
      "Average FP Rate:  0\n"
     ]
    },
    {
     "data": {
      "application/vnd.jupyter.widget-view+json": {
       "model_id": "",
       "version_major": 2,
       "version_minor": 0
      },
      "text/plain": [
       "HBox(children=(FloatProgress(value=0.0, description='Training', layout=Layout(flex='2'), max=1250.0, style=Pro…"
      ]
     },
     "metadata": {},
     "output_type": "display_data"
    },
    {
     "name": "stdout",
     "output_type": "stream",
     "text": [
      "Epoch 1864: train=8.77436, val=8.6271, took 70.077 s\n",
      "  Validation Found 101793 of 108007, added 5599 (eff 94.25%) (0.28 FP/event)\n",
      "Result epoch:  1864\n",
      "Average Eff:  0\n",
      "Average FP Rate:  0\n"
     ]
    },
    {
     "data": {
      "application/vnd.jupyter.widget-view+json": {
       "model_id": "",
       "version_major": 2,
       "version_minor": 0
      },
      "text/plain": [
       "HBox(children=(FloatProgress(value=0.0, description='Training', layout=Layout(flex='2'), max=1250.0, style=Pro…"
      ]
     },
     "metadata": {},
     "output_type": "display_data"
    },
    {
     "name": "stdout",
     "output_type": "stream",
     "text": [
      "Epoch 1865: train=8.76832, val=8.6226, took 70.296 s\n",
      "  Validation Found 101698 of 108007, added 5392 (eff 94.16%) (0.27 FP/event)\n",
      "Result epoch:  1865\n",
      "Average Eff:  0\n",
      "Average FP Rate:  0\n"
     ]
    },
    {
     "data": {
      "application/vnd.jupyter.widget-view+json": {
       "model_id": "",
       "version_major": 2,
       "version_minor": 0
      },
      "text/plain": [
       "HBox(children=(FloatProgress(value=0.0, description='Training', layout=Layout(flex='2'), max=1250.0, style=Pro…"
      ]
     },
     "metadata": {},
     "output_type": "display_data"
    },
    {
     "name": "stdout",
     "output_type": "stream",
     "text": [
      "Epoch 1866: train=8.77345, val=8.62624, took 71.063 s\n",
      "  Validation Found 101729 of 108007, added 5430 (eff 94.19%) (0.271 FP/event)\n",
      "Result epoch:  1866\n",
      "Average Eff:  0\n",
      "Average FP Rate:  0\n"
     ]
    },
    {
     "data": {
      "application/vnd.jupyter.widget-view+json": {
       "model_id": "",
       "version_major": 2,
       "version_minor": 0
      },
      "text/plain": [
       "HBox(children=(FloatProgress(value=0.0, description='Training', layout=Layout(flex='2'), max=1250.0, style=Pro…"
      ]
     },
     "metadata": {},
     "output_type": "display_data"
    },
    {
     "name": "stdout",
     "output_type": "stream",
     "text": [
      "Epoch 1867: train=8.77112, val=8.62422, took 71.899 s\n",
      "  Validation Found 101764 of 108007, added 5472 (eff 94.22%) (0.274 FP/event)\n",
      "Result epoch:  1867\n",
      "Average Eff:  0\n",
      "Average FP Rate:  0\n"
     ]
    },
    {
     "data": {
      "application/vnd.jupyter.widget-view+json": {
       "model_id": "",
       "version_major": 2,
       "version_minor": 0
      },
      "text/plain": [
       "HBox(children=(FloatProgress(value=0.0, description='Training', layout=Layout(flex='2'), max=1250.0, style=Pro…"
      ]
     },
     "metadata": {},
     "output_type": "display_data"
    },
    {
     "name": "stdout",
     "output_type": "stream",
     "text": [
      "Epoch 1868: train=8.7714, val=8.63244, took 71.553 s\n",
      "  Validation Found 101755 of 108007, added 5489 (eff 94.21%) (0.274 FP/event)\n",
      "Result epoch:  1868\n",
      "Average Eff:  0\n",
      "Average FP Rate:  0\n"
     ]
    },
    {
     "data": {
      "application/vnd.jupyter.widget-view+json": {
       "model_id": "",
       "version_major": 2,
       "version_minor": 0
      },
      "text/plain": [
       "HBox(children=(FloatProgress(value=0.0, description='Training', layout=Layout(flex='2'), max=1250.0, style=Pro…"
      ]
     },
     "metadata": {},
     "output_type": "display_data"
    },
    {
     "name": "stdout",
     "output_type": "stream",
     "text": [
      "Epoch 1869: train=8.76943, val=8.62635, took 71.005 s\n",
      "  Validation Found 101734 of 108007, added 5428 (eff 94.19%) (0.271 FP/event)\n",
      "Result epoch:  1869\n",
      "Average Eff:  0\n",
      "Average FP Rate:  0\n"
     ]
    },
    {
     "data": {
      "application/vnd.jupyter.widget-view+json": {
       "model_id": "",
       "version_major": 2,
       "version_minor": 0
      },
      "text/plain": [
       "HBox(children=(FloatProgress(value=0.0, description='Training', layout=Layout(flex='2'), max=1250.0, style=Pro…"
      ]
     },
     "metadata": {},
     "output_type": "display_data"
    },
    {
     "name": "stdout",
     "output_type": "stream",
     "text": [
      "Epoch 1870: train=8.77098, val=8.61899, took 71.202 s\n",
      "  Validation Found 101737 of 108007, added 5434 (eff 94.19%) (0.272 FP/event)\n",
      "Result epoch:  1870\n",
      "Average Eff:  0\n",
      "Average FP Rate:  0\n"
     ]
    },
    {
     "data": {
      "application/vnd.jupyter.widget-view+json": {
       "model_id": "",
       "version_major": 2,
       "version_minor": 0
      },
      "text/plain": [
       "HBox(children=(FloatProgress(value=0.0, description='Training', layout=Layout(flex='2'), max=1250.0, style=Pro…"
      ]
     },
     "metadata": {},
     "output_type": "display_data"
    },
    {
     "name": "stdout",
     "output_type": "stream",
     "text": [
      "Epoch 1871: train=8.76525, val=8.62549, took 71.37 s\n",
      "  Validation Found 101790 of 108007, added 5553 (eff 94.24%) (0.278 FP/event)\n",
      "Result epoch:  1871\n",
      "Average Eff:  0\n",
      "Average FP Rate:  0\n"
     ]
    },
    {
     "data": {
      "application/vnd.jupyter.widget-view+json": {
       "model_id": "",
       "version_major": 2,
       "version_minor": 0
      },
      "text/plain": [
       "HBox(children=(FloatProgress(value=0.0, description='Training', layout=Layout(flex='2'), max=1250.0, style=Pro…"
      ]
     },
     "metadata": {},
     "output_type": "display_data"
    },
    {
     "name": "stdout",
     "output_type": "stream",
     "text": [
      "Epoch 1872: train=8.77202, val=8.62818, took 71.195 s\n",
      "  Validation Found 101622 of 108007, added 5292 (eff 94.09%) (0.265 FP/event)\n",
      "Result epoch:  1872\n",
      "Average Eff:  0\n",
      "Average FP Rate:  0\n"
     ]
    },
    {
     "data": {
      "application/vnd.jupyter.widget-view+json": {
       "model_id": "",
       "version_major": 2,
       "version_minor": 0
      },
      "text/plain": [
       "HBox(children=(FloatProgress(value=0.0, description='Training', layout=Layout(flex='2'), max=1250.0, style=Pro…"
      ]
     },
     "metadata": {},
     "output_type": "display_data"
    },
    {
     "name": "stdout",
     "output_type": "stream",
     "text": [
      "Epoch 1873: train=8.77061, val=8.62444, took 71.978 s\n",
      "  Validation Found 101650 of 108007, added 5318 (eff 94.11%) (0.266 FP/event)\n",
      "Result epoch:  1873\n",
      "Average Eff:  0\n",
      "Average FP Rate:  0\n"
     ]
    },
    {
     "data": {
      "application/vnd.jupyter.widget-view+json": {
       "model_id": "",
       "version_major": 2,
       "version_minor": 0
      },
      "text/plain": [
       "HBox(children=(FloatProgress(value=0.0, description='Training', layout=Layout(flex='2'), max=1250.0, style=Pro…"
      ]
     },
     "metadata": {},
     "output_type": "display_data"
    },
    {
     "name": "stdout",
     "output_type": "stream",
     "text": [
      "Epoch 1874: train=8.7734, val=8.62596, took 71.36 s\n",
      "  Validation Found 101712 of 108007, added 5415 (eff 94.17%) (0.271 FP/event)\n",
      "Result epoch:  1874\n",
      "Average Eff:  0\n",
      "Average FP Rate:  0\n"
     ]
    },
    {
     "data": {
      "application/vnd.jupyter.widget-view+json": {
       "model_id": "",
       "version_major": 2,
       "version_minor": 0
      },
      "text/plain": [
       "HBox(children=(FloatProgress(value=0.0, description='Training', layout=Layout(flex='2'), max=1250.0, style=Pro…"
      ]
     },
     "metadata": {},
     "output_type": "display_data"
    },
    {
     "name": "stdout",
     "output_type": "stream",
     "text": [
      "Epoch 1875: train=8.76732, val=8.62303, took 70.669 s\n",
      "  Validation Found 101786 of 108007, added 5522 (eff 94.24%) (0.276 FP/event)\n",
      "Result epoch:  1875\n",
      "Average Eff:  0\n",
      "Average FP Rate:  0\n"
     ]
    },
    {
     "data": {
      "application/vnd.jupyter.widget-view+json": {
       "model_id": "",
       "version_major": 2,
       "version_minor": 0
      },
      "text/plain": [
       "HBox(children=(FloatProgress(value=0.0, description='Training', layout=Layout(flex='2'), max=1250.0, style=Pro…"
      ]
     },
     "metadata": {},
     "output_type": "display_data"
    },
    {
     "name": "stdout",
     "output_type": "stream",
     "text": [
      "Epoch 1876: train=8.77258, val=8.63124, took 72.196 s\n",
      "  Validation Found 101802 of 108007, added 5557 (eff 94.26%) (0.278 FP/event)\n",
      "Result epoch:  1876\n",
      "Average Eff:  0\n",
      "Average FP Rate:  0\n"
     ]
    },
    {
     "data": {
      "application/vnd.jupyter.widget-view+json": {
       "model_id": "",
       "version_major": 2,
       "version_minor": 0
      },
      "text/plain": [
       "HBox(children=(FloatProgress(value=0.0, description='Training', layout=Layout(flex='2'), max=1250.0, style=Pro…"
      ]
     },
     "metadata": {},
     "output_type": "display_data"
    },
    {
     "name": "stdout",
     "output_type": "stream",
     "text": [
      "Epoch 1877: train=8.77335, val=8.62723, took 71.805 s\n",
      "  Validation Found 101766 of 108007, added 5471 (eff 94.22%) (0.274 FP/event)\n",
      "Result epoch:  1877\n",
      "Average Eff:  0\n",
      "Average FP Rate:  0\n"
     ]
    },
    {
     "data": {
      "application/vnd.jupyter.widget-view+json": {
       "model_id": "",
       "version_major": 2,
       "version_minor": 0
      },
      "text/plain": [
       "HBox(children=(FloatProgress(value=0.0, description='Training', layout=Layout(flex='2'), max=1250.0, style=Pro…"
      ]
     },
     "metadata": {},
     "output_type": "display_data"
    },
    {
     "name": "stdout",
     "output_type": "stream",
     "text": [
      "Epoch 1878: train=8.76876, val=8.63411, took 71.92 s\n",
      "  Validation Found 101837 of 108007, added 5667 (eff 94.29%) (0.283 FP/event)\n",
      "Result epoch:  1878\n",
      "Average Eff:  0\n",
      "Average FP Rate:  0\n"
     ]
    },
    {
     "data": {
      "application/vnd.jupyter.widget-view+json": {
       "model_id": "",
       "version_major": 2,
       "version_minor": 0
      },
      "text/plain": [
       "HBox(children=(FloatProgress(value=0.0, description='Training', layout=Layout(flex='2'), max=1250.0, style=Pro…"
      ]
     },
     "metadata": {},
     "output_type": "display_data"
    },
    {
     "name": "stdout",
     "output_type": "stream",
     "text": [
      "Epoch 1879: train=8.76992, val=8.6333, took 70.854 s\n",
      "  Validation Found 101698 of 108007, added 5388 (eff 94.16%) (0.269 FP/event)\n",
      "Result epoch:  1879\n",
      "Average Eff:  0\n",
      "Average FP Rate:  0\n"
     ]
    },
    {
     "data": {
      "application/vnd.jupyter.widget-view+json": {
       "model_id": "",
       "version_major": 2,
       "version_minor": 0
      },
      "text/plain": [
       "HBox(children=(FloatProgress(value=0.0, description='Training', layout=Layout(flex='2'), max=1250.0, style=Pro…"
      ]
     },
     "metadata": {},
     "output_type": "display_data"
    },
    {
     "name": "stdout",
     "output_type": "stream",
     "text": [
      "Epoch 1880: train=8.77378, val=8.62152, took 70.089 s\n",
      "  Validation Found 101715 of 108007, added 5387 (eff 94.17%) (0.269 FP/event)\n",
      "Result epoch:  1880\n",
      "Average Eff:  0\n",
      "Average FP Rate:  0\n"
     ]
    },
    {
     "data": {
      "application/vnd.jupyter.widget-view+json": {
       "model_id": "",
       "version_major": 2,
       "version_minor": 0
      },
      "text/plain": [
       "HBox(children=(FloatProgress(value=0.0, description='Training', layout=Layout(flex='2'), max=1250.0, style=Pro…"
      ]
     },
     "metadata": {},
     "output_type": "display_data"
    },
    {
     "name": "stdout",
     "output_type": "stream",
     "text": [
      "Epoch 1881: train=8.76899, val=8.6228, took 71.343 s\n",
      "  Validation Found 101633 of 108007, added 5288 (eff 94.10%) (0.264 FP/event)\n",
      "Result epoch:  1881\n",
      "Average Eff:  0\n",
      "Average FP Rate:  0\n"
     ]
    },
    {
     "data": {
      "application/vnd.jupyter.widget-view+json": {
       "model_id": "",
       "version_major": 2,
       "version_minor": 0
      },
      "text/plain": [
       "HBox(children=(FloatProgress(value=0.0, description='Training', layout=Layout(flex='2'), max=1250.0, style=Pro…"
      ]
     },
     "metadata": {},
     "output_type": "display_data"
    },
    {
     "name": "stdout",
     "output_type": "stream",
     "text": [
      "Epoch 1882: train=8.77325, val=8.62089, took 71.042 s\n",
      "  Validation Found 101667 of 108007, added 5317 (eff 94.13%) (0.266 FP/event)\n",
      "Result epoch:  1882\n",
      "Average Eff:  0\n",
      "Average FP Rate:  0\n"
     ]
    },
    {
     "data": {
      "application/vnd.jupyter.widget-view+json": {
       "model_id": "",
       "version_major": 2,
       "version_minor": 0
      },
      "text/plain": [
       "HBox(children=(FloatProgress(value=0.0, description='Training', layout=Layout(flex='2'), max=1250.0, style=Pro…"
      ]
     },
     "metadata": {},
     "output_type": "display_data"
    },
    {
     "name": "stdout",
     "output_type": "stream",
     "text": [
      "Epoch 1883: train=8.76791, val=8.6271, took 71.905 s\n",
      "  Validation Found 101724 of 108007, added 5419 (eff 94.18%) (0.271 FP/event)\n",
      "Result epoch:  1883\n",
      "Average Eff:  0\n",
      "Average FP Rate:  0\n"
     ]
    },
    {
     "data": {
      "application/vnd.jupyter.widget-view+json": {
       "model_id": "",
       "version_major": 2,
       "version_minor": 0
      },
      "text/plain": [
       "HBox(children=(FloatProgress(value=0.0, description='Training', layout=Layout(flex='2'), max=1250.0, style=Pro…"
      ]
     },
     "metadata": {},
     "output_type": "display_data"
    },
    {
     "name": "stdout",
     "output_type": "stream",
     "text": [
      "Epoch 1884: train=8.77, val=8.63321, took 70.05 s\n",
      "  Validation Found 101772 of 108007, added 5493 (eff 94.23%) (0.275 FP/event)\n",
      "Result epoch:  1884\n",
      "Average Eff:  0\n",
      "Average FP Rate:  0\n"
     ]
    },
    {
     "data": {
      "application/vnd.jupyter.widget-view+json": {
       "model_id": "",
       "version_major": 2,
       "version_minor": 0
      },
      "text/plain": [
       "HBox(children=(FloatProgress(value=0.0, description='Training', layout=Layout(flex='2'), max=1250.0, style=Pro…"
      ]
     },
     "metadata": {},
     "output_type": "display_data"
    },
    {
     "name": "stdout",
     "output_type": "stream",
     "text": [
      "Epoch 1885: train=8.77139, val=8.62703, took 70.69 s\n",
      "  Validation Found 101665 of 108007, added 5328 (eff 94.13%) (0.266 FP/event)\n",
      "Result epoch:  1885\n",
      "Average Eff:  0\n",
      "Average FP Rate:  0\n"
     ]
    },
    {
     "data": {
      "application/vnd.jupyter.widget-view+json": {
       "model_id": "",
       "version_major": 2,
       "version_minor": 0
      },
      "text/plain": [
       "HBox(children=(FloatProgress(value=0.0, description='Training', layout=Layout(flex='2'), max=1250.0, style=Pro…"
      ]
     },
     "metadata": {},
     "output_type": "display_data"
    },
    {
     "name": "stdout",
     "output_type": "stream",
     "text": [
      "Epoch 1886: train=8.76408, val=8.63626, took 71.034 s\n",
      "  Validation Found 101698 of 108007, added 5402 (eff 94.16%) (0.27 FP/event)\n",
      "Result epoch:  1886\n",
      "Average Eff:  0\n",
      "Average FP Rate:  0\n"
     ]
    },
    {
     "data": {
      "application/vnd.jupyter.widget-view+json": {
       "model_id": "",
       "version_major": 2,
       "version_minor": 0
      },
      "text/plain": [
       "HBox(children=(FloatProgress(value=0.0, description='Training', layout=Layout(flex='2'), max=1250.0, style=Pro…"
      ]
     },
     "metadata": {},
     "output_type": "display_data"
    },
    {
     "name": "stdout",
     "output_type": "stream",
     "text": [
      "Epoch 1887: train=8.76894, val=8.62531, took 70.47 s\n",
      "  Validation Found 101787 of 108007, added 5506 (eff 94.24%) (0.275 FP/event)\n",
      "Result epoch:  1887\n",
      "Average Eff:  0\n",
      "Average FP Rate:  0\n"
     ]
    },
    {
     "data": {
      "application/vnd.jupyter.widget-view+json": {
       "model_id": "",
       "version_major": 2,
       "version_minor": 0
      },
      "text/plain": [
       "HBox(children=(FloatProgress(value=0.0, description='Training', layout=Layout(flex='2'), max=1250.0, style=Pro…"
      ]
     },
     "metadata": {},
     "output_type": "display_data"
    },
    {
     "name": "stdout",
     "output_type": "stream",
     "text": [
      "Epoch 1888: train=8.77226, val=8.62241, took 71.573 s\n",
      "  Validation Found 101763 of 108007, added 5455 (eff 94.22%) (0.273 FP/event)\n",
      "Result epoch:  1888\n",
      "Average Eff:  0\n",
      "Average FP Rate:  0\n"
     ]
    },
    {
     "data": {
      "application/vnd.jupyter.widget-view+json": {
       "model_id": "",
       "version_major": 2,
       "version_minor": 0
      },
      "text/plain": [
       "HBox(children=(FloatProgress(value=0.0, description='Training', layout=Layout(flex='2'), max=1250.0, style=Pro…"
      ]
     },
     "metadata": {},
     "output_type": "display_data"
    },
    {
     "name": "stdout",
     "output_type": "stream",
     "text": [
      "Epoch 1889: train=8.76723, val=8.61883, took 70.822 s\n",
      "  Validation Found 101739 of 108007, added 5407 (eff 94.20%) (0.27 FP/event)\n",
      "Result epoch:  1889\n",
      "Average Eff:  0\n",
      "Average FP Rate:  0\n"
     ]
    },
    {
     "data": {
      "application/vnd.jupyter.widget-view+json": {
       "model_id": "",
       "version_major": 2,
       "version_minor": 0
      },
      "text/plain": [
       "HBox(children=(FloatProgress(value=0.0, description='Training', layout=Layout(flex='2'), max=1250.0, style=Pro…"
      ]
     },
     "metadata": {},
     "output_type": "display_data"
    },
    {
     "name": "stdout",
     "output_type": "stream",
     "text": [
      "Epoch 1890: train=8.76814, val=8.62608, took 71.213 s\n",
      "  Validation Found 101667 of 108007, added 5321 (eff 94.13%) (0.266 FP/event)\n",
      "Result epoch:  1890\n",
      "Average Eff:  0\n",
      "Average FP Rate:  0\n"
     ]
    },
    {
     "data": {
      "application/vnd.jupyter.widget-view+json": {
       "model_id": "",
       "version_major": 2,
       "version_minor": 0
      },
      "text/plain": [
       "HBox(children=(FloatProgress(value=0.0, description='Training', layout=Layout(flex='2'), max=1250.0, style=Pro…"
      ]
     },
     "metadata": {},
     "output_type": "display_data"
    },
    {
     "name": "stdout",
     "output_type": "stream",
     "text": [
      "Epoch 1891: train=8.76932, val=8.62315, took 71.541 s\n",
      "  Validation Found 101727 of 108007, added 5395 (eff 94.19%) (0.27 FP/event)\n",
      "Result epoch:  1891\n",
      "Average Eff:  0\n",
      "Average FP Rate:  0\n"
     ]
    },
    {
     "data": {
      "application/vnd.jupyter.widget-view+json": {
       "model_id": "",
       "version_major": 2,
       "version_minor": 0
      },
      "text/plain": [
       "HBox(children=(FloatProgress(value=0.0, description='Training', layout=Layout(flex='2'), max=1250.0, style=Pro…"
      ]
     },
     "metadata": {},
     "output_type": "display_data"
    },
    {
     "name": "stdout",
     "output_type": "stream",
     "text": [
      "Epoch 1892: train=8.77409, val=8.63003, took 71.413 s\n",
      "  Validation Found 101723 of 108007, added 5412 (eff 94.18%) (0.271 FP/event)\n",
      "Result epoch:  1892\n",
      "Average Eff:  0\n",
      "Average FP Rate:  0\n"
     ]
    },
    {
     "data": {
      "application/vnd.jupyter.widget-view+json": {
       "model_id": "",
       "version_major": 2,
       "version_minor": 0
      },
      "text/plain": [
       "HBox(children=(FloatProgress(value=0.0, description='Training', layout=Layout(flex='2'), max=1250.0, style=Pro…"
      ]
     },
     "metadata": {},
     "output_type": "display_data"
    },
    {
     "name": "stdout",
     "output_type": "stream",
     "text": [
      "Epoch 1893: train=8.76658, val=8.62244, took 71.924 s\n",
      "  Validation Found 101711 of 108007, added 5388 (eff 94.17%) (0.269 FP/event)\n",
      "Result epoch:  1893\n",
      "Average Eff:  0\n",
      "Average FP Rate:  0\n"
     ]
    },
    {
     "data": {
      "application/vnd.jupyter.widget-view+json": {
       "model_id": "",
       "version_major": 2,
       "version_minor": 0
      },
      "text/plain": [
       "HBox(children=(FloatProgress(value=0.0, description='Training', layout=Layout(flex='2'), max=1250.0, style=Pro…"
      ]
     },
     "metadata": {},
     "output_type": "display_data"
    },
    {
     "name": "stdout",
     "output_type": "stream",
     "text": [
      "Epoch 1894: train=8.77299, val=8.63138, took 72.252 s\n",
      "  Validation Found 101681 of 108007, added 5352 (eff 94.14%) (0.268 FP/event)\n",
      "Result epoch:  1894\n",
      "Average Eff:  0\n",
      "Average FP Rate:  0\n"
     ]
    },
    {
     "data": {
      "application/vnd.jupyter.widget-view+json": {
       "model_id": "",
       "version_major": 2,
       "version_minor": 0
      },
      "text/plain": [
       "HBox(children=(FloatProgress(value=0.0, description='Training', layout=Layout(flex='2'), max=1250.0, style=Pro…"
      ]
     },
     "metadata": {},
     "output_type": "display_data"
    },
    {
     "name": "stdout",
     "output_type": "stream",
     "text": [
      "Epoch 1895: train=8.77305, val=8.63187, took 71.5 s\n",
      "  Validation Found 101731 of 108007, added 5443 (eff 94.19%) (0.272 FP/event)\n",
      "Result epoch:  1895\n",
      "Average Eff:  0\n",
      "Average FP Rate:  0\n"
     ]
    },
    {
     "data": {
      "application/vnd.jupyter.widget-view+json": {
       "model_id": "",
       "version_major": 2,
       "version_minor": 0
      },
      "text/plain": [
       "HBox(children=(FloatProgress(value=0.0, description='Training', layout=Layout(flex='2'), max=1250.0, style=Pro…"
      ]
     },
     "metadata": {},
     "output_type": "display_data"
    },
    {
     "name": "stdout",
     "output_type": "stream",
     "text": [
      "Epoch 1896: train=8.77019, val=8.6331, took 71.481 s\n",
      "  Validation Found 101572 of 108007, added 5214 (eff 94.04%) (0.261 FP/event)\n",
      "Result epoch:  1896\n",
      "Average Eff:  0\n",
      "Average FP Rate:  0\n"
     ]
    },
    {
     "data": {
      "application/vnd.jupyter.widget-view+json": {
       "model_id": "",
       "version_major": 2,
       "version_minor": 0
      },
      "text/plain": [
       "HBox(children=(FloatProgress(value=0.0, description='Training', layout=Layout(flex='2'), max=1250.0, style=Pro…"
      ]
     },
     "metadata": {},
     "output_type": "display_data"
    },
    {
     "name": "stdout",
     "output_type": "stream",
     "text": [
      "Epoch 1897: train=8.76585, val=8.62907, took 70.836 s\n",
      "  Validation Found 101800 of 108007, added 5543 (eff 94.25%) (0.277 FP/event)\n",
      "Result epoch:  1897\n",
      "Average Eff:  0\n",
      "Average FP Rate:  0\n"
     ]
    },
    {
     "data": {
      "application/vnd.jupyter.widget-view+json": {
       "model_id": "",
       "version_major": 2,
       "version_minor": 0
      },
      "text/plain": [
       "HBox(children=(FloatProgress(value=0.0, description='Training', layout=Layout(flex='2'), max=1250.0, style=Pro…"
      ]
     },
     "metadata": {},
     "output_type": "display_data"
    },
    {
     "name": "stdout",
     "output_type": "stream",
     "text": [
      "Epoch 1898: train=8.77002, val=8.62435, took 71.44 s\n",
      "  Validation Found 101778 of 108007, added 5476 (eff 94.23%) (0.274 FP/event)\n",
      "Result epoch:  1898\n",
      "Average Eff:  0\n",
      "Average FP Rate:  0\n"
     ]
    },
    {
     "data": {
      "application/vnd.jupyter.widget-view+json": {
       "model_id": "",
       "version_major": 2,
       "version_minor": 0
      },
      "text/plain": [
       "HBox(children=(FloatProgress(value=0.0, description='Training', layout=Layout(flex='2'), max=1250.0, style=Pro…"
      ]
     },
     "metadata": {},
     "output_type": "display_data"
    },
    {
     "name": "stdout",
     "output_type": "stream",
     "text": [
      "Epoch 1899: train=8.76968, val=8.63137, took 71.833 s\n",
      "  Validation Found 101741 of 108007, added 5442 (eff 94.20%) (0.272 FP/event)\n",
      "Result epoch:  1899\n",
      "Average Eff:  0\n",
      "Average FP Rate:  0\n"
     ]
    },
    {
     "data": {
      "application/vnd.jupyter.widget-view+json": {
       "model_id": "",
       "version_major": 2,
       "version_minor": 0
      },
      "text/plain": [
       "HBox(children=(FloatProgress(value=0.0, description='Training', layout=Layout(flex='2'), max=1250.0, style=Pro…"
      ]
     },
     "metadata": {},
     "output_type": "display_data"
    },
    {
     "name": "stdout",
     "output_type": "stream",
     "text": [
      "Epoch 1900: train=8.77284, val=8.62276, took 69.685 s\n",
      "  Validation Found 101711 of 108007, added 5380 (eff 94.17%) (0.269 FP/event)\n",
      "Result epoch:  1900\n",
      "Average Eff:  0\n",
      "Average FP Rate:  0\n"
     ]
    },
    {
     "data": {
      "application/vnd.jupyter.widget-view+json": {
       "model_id": "",
       "version_major": 2,
       "version_minor": 0
      },
      "text/plain": [
       "HBox(children=(FloatProgress(value=0.0, description='Training', layout=Layout(flex='2'), max=1250.0, style=Pro…"
      ]
     },
     "metadata": {},
     "output_type": "display_data"
    },
    {
     "name": "stdout",
     "output_type": "stream",
     "text": [
      "Epoch 1901: train=8.76983, val=8.62575, took 71.268 s\n",
      "  Validation Found 101767 of 108007, added 5481 (eff 94.22%) (0.274 FP/event)\n",
      "Result epoch:  1901\n",
      "Average Eff:  0\n",
      "Average FP Rate:  0\n"
     ]
    },
    {
     "data": {
      "application/vnd.jupyter.widget-view+json": {
       "model_id": "",
       "version_major": 2,
       "version_minor": 0
      },
      "text/plain": [
       "HBox(children=(FloatProgress(value=0.0, description='Training', layout=Layout(flex='2'), max=1250.0, style=Pro…"
      ]
     },
     "metadata": {},
     "output_type": "display_data"
    },
    {
     "name": "stdout",
     "output_type": "stream",
     "text": [
      "Epoch 1902: train=8.76541, val=8.62871, took 70.746 s\n",
      "  Validation Found 101668 of 108007, added 5340 (eff 94.13%) (0.267 FP/event)\n",
      "Result epoch:  1902\n",
      "Average Eff:  0\n",
      "Average FP Rate:  0\n"
     ]
    },
    {
     "data": {
      "application/vnd.jupyter.widget-view+json": {
       "model_id": "",
       "version_major": 2,
       "version_minor": 0
      },
      "text/plain": [
       "HBox(children=(FloatProgress(value=0.0, description='Training', layout=Layout(flex='2'), max=1250.0, style=Pro…"
      ]
     },
     "metadata": {},
     "output_type": "display_data"
    },
    {
     "name": "stdout",
     "output_type": "stream",
     "text": [
      "Epoch 1903: train=8.77293, val=8.62197, took 70.338 s\n",
      "  Validation Found 101724 of 108007, added 5392 (eff 94.18%) (0.27 FP/event)\n",
      "Result epoch:  1903\n",
      "Average Eff:  0\n",
      "Average FP Rate:  0\n"
     ]
    },
    {
     "data": {
      "application/vnd.jupyter.widget-view+json": {
       "model_id": "",
       "version_major": 2,
       "version_minor": 0
      },
      "text/plain": [
       "HBox(children=(FloatProgress(value=0.0, description='Training', layout=Layout(flex='2'), max=1250.0, style=Pro…"
      ]
     },
     "metadata": {},
     "output_type": "display_data"
    },
    {
     "name": "stdout",
     "output_type": "stream",
     "text": [
      "Epoch 1904: train=8.76674, val=8.63182, took 71.943 s\n",
      "  Validation Found 101742 of 108007, added 5433 (eff 94.20%) (0.272 FP/event)\n",
      "Result epoch:  1904\n",
      "Average Eff:  0\n",
      "Average FP Rate:  0\n"
     ]
    },
    {
     "data": {
      "application/vnd.jupyter.widget-view+json": {
       "model_id": "",
       "version_major": 2,
       "version_minor": 0
      },
      "text/plain": [
       "HBox(children=(FloatProgress(value=0.0, description='Training', layout=Layout(flex='2'), max=1250.0, style=Pro…"
      ]
     },
     "metadata": {},
     "output_type": "display_data"
    },
    {
     "name": "stdout",
     "output_type": "stream",
     "text": [
      "Epoch 1905: train=8.76854, val=8.61987, took 71.473 s\n",
      "  Validation Found 101671 of 108007, added 5313 (eff 94.13%) (0.266 FP/event)\n",
      "Result epoch:  1905\n",
      "Average Eff:  0\n",
      "Average FP Rate:  0\n"
     ]
    },
    {
     "data": {
      "application/vnd.jupyter.widget-view+json": {
       "model_id": "",
       "version_major": 2,
       "version_minor": 0
      },
      "text/plain": [
       "HBox(children=(FloatProgress(value=0.0, description='Training', layout=Layout(flex='2'), max=1250.0, style=Pro…"
      ]
     },
     "metadata": {},
     "output_type": "display_data"
    },
    {
     "name": "stdout",
     "output_type": "stream",
     "text": [
      "Epoch 1906: train=8.77291, val=8.61778, took 71.445 s\n",
      "  Validation Found 101782 of 108007, added 5467 (eff 94.24%) (0.273 FP/event)\n",
      "Result epoch:  1906\n",
      "Average Eff:  0\n",
      "Average FP Rate:  0\n"
     ]
    },
    {
     "data": {
      "application/vnd.jupyter.widget-view+json": {
       "model_id": "",
       "version_major": 2,
       "version_minor": 0
      },
      "text/plain": [
       "HBox(children=(FloatProgress(value=0.0, description='Training', layout=Layout(flex='2'), max=1250.0, style=Pro…"
      ]
     },
     "metadata": {},
     "output_type": "display_data"
    },
    {
     "name": "stdout",
     "output_type": "stream",
     "text": [
      "Epoch 1907: train=8.77468, val=8.63072, took 71.843 s\n",
      "  Validation Found 101823 of 108007, added 5602 (eff 94.27%) (0.28 FP/event)\n",
      "Result epoch:  1907\n",
      "Average Eff:  0\n",
      "Average FP Rate:  0\n"
     ]
    },
    {
     "data": {
      "application/vnd.jupyter.widget-view+json": {
       "model_id": "",
       "version_major": 2,
       "version_minor": 0
      },
      "text/plain": [
       "HBox(children=(FloatProgress(value=0.0, description='Training', layout=Layout(flex='2'), max=1250.0, style=Pro…"
      ]
     },
     "metadata": {},
     "output_type": "display_data"
    },
    {
     "name": "stdout",
     "output_type": "stream",
     "text": [
      "Epoch 1908: train=8.76721, val=8.61815, took 72.076 s\n",
      "  Validation Found 101692 of 108007, added 5337 (eff 94.15%) (0.267 FP/event)\n",
      "Result epoch:  1908\n",
      "Average Eff:  0\n",
      "Average FP Rate:  0\n"
     ]
    },
    {
     "data": {
      "application/vnd.jupyter.widget-view+json": {
       "model_id": "",
       "version_major": 2,
       "version_minor": 0
      },
      "text/plain": [
       "HBox(children=(FloatProgress(value=0.0, description='Training', layout=Layout(flex='2'), max=1250.0, style=Pro…"
      ]
     },
     "metadata": {},
     "output_type": "display_data"
    },
    {
     "name": "stdout",
     "output_type": "stream",
     "text": [
      "Epoch 1909: train=8.76918, val=8.63009, took 72.21 s\n",
      "  Validation Found 101701 of 108007, added 5373 (eff 94.16%) (0.269 FP/event)\n",
      "Result epoch:  1909\n",
      "Average Eff:  0\n",
      "Average FP Rate:  0\n"
     ]
    },
    {
     "data": {
      "application/vnd.jupyter.widget-view+json": {
       "model_id": "",
       "version_major": 2,
       "version_minor": 0
      },
      "text/plain": [
       "HBox(children=(FloatProgress(value=0.0, description='Training', layout=Layout(flex='2'), max=1250.0, style=Pro…"
      ]
     },
     "metadata": {},
     "output_type": "display_data"
    },
    {
     "name": "stdout",
     "output_type": "stream",
     "text": [
      "Epoch 1910: train=8.76958, val=8.62671, took 70.98 s\n",
      "  Validation Found 101779 of 108007, added 5476 (eff 94.23%) (0.274 FP/event)\n",
      "Result epoch:  1910\n",
      "Average Eff:  0\n",
      "Average FP Rate:  0\n"
     ]
    },
    {
     "data": {
      "application/vnd.jupyter.widget-view+json": {
       "model_id": "",
       "version_major": 2,
       "version_minor": 0
      },
      "text/plain": [
       "HBox(children=(FloatProgress(value=0.0, description='Training', layout=Layout(flex='2'), max=1250.0, style=Pro…"
      ]
     },
     "metadata": {},
     "output_type": "display_data"
    },
    {
     "name": "stdout",
     "output_type": "stream",
     "text": [
      "Epoch 1911: train=8.76414, val=8.62464, took 69.938 s\n",
      "  Validation Found 101706 of 108007, added 5407 (eff 94.17%) (0.27 FP/event)\n",
      "Result epoch:  1911\n",
      "Average Eff:  0\n",
      "Average FP Rate:  0\n"
     ]
    },
    {
     "data": {
      "application/vnd.jupyter.widget-view+json": {
       "model_id": "",
       "version_major": 2,
       "version_minor": 0
      },
      "text/plain": [
       "HBox(children=(FloatProgress(value=0.0, description='Training', layout=Layout(flex='2'), max=1250.0, style=Pro…"
      ]
     },
     "metadata": {},
     "output_type": "display_data"
    },
    {
     "name": "stdout",
     "output_type": "stream",
     "text": [
      "Epoch 1912: train=8.77321, val=8.62628, took 69.714 s\n",
      "  Validation Found 101681 of 108007, added 5325 (eff 94.14%) (0.266 FP/event)\n",
      "Result epoch:  1912\n",
      "Average Eff:  0\n",
      "Average FP Rate:  0\n"
     ]
    },
    {
     "data": {
      "application/vnd.jupyter.widget-view+json": {
       "model_id": "",
       "version_major": 2,
       "version_minor": 0
      },
      "text/plain": [
       "HBox(children=(FloatProgress(value=0.0, description='Training', layout=Layout(flex='2'), max=1250.0, style=Pro…"
      ]
     },
     "metadata": {},
     "output_type": "display_data"
    },
    {
     "name": "stdout",
     "output_type": "stream",
     "text": [
      "Epoch 1913: train=8.76755, val=8.62826, took 71.238 s\n",
      "  Validation Found 101659 of 108007, added 5314 (eff 94.12%) (0.266 FP/event)\n",
      "Result epoch:  1913\n",
      "Average Eff:  0\n",
      "Average FP Rate:  0\n"
     ]
    },
    {
     "data": {
      "application/vnd.jupyter.widget-view+json": {
       "model_id": "",
       "version_major": 2,
       "version_minor": 0
      },
      "text/plain": [
       "HBox(children=(FloatProgress(value=0.0, description='Training', layout=Layout(flex='2'), max=1250.0, style=Pro…"
      ]
     },
     "metadata": {},
     "output_type": "display_data"
    },
    {
     "name": "stdout",
     "output_type": "stream",
     "text": [
      "Epoch 1914: train=8.76137, val=8.62048, took 70.203 s\n",
      "  Validation Found 101721 of 108007, added 5376 (eff 94.18%) (0.269 FP/event)\n",
      "Result epoch:  1914\n",
      "Average Eff:  0\n",
      "Average FP Rate:  0\n"
     ]
    },
    {
     "data": {
      "application/vnd.jupyter.widget-view+json": {
       "model_id": "",
       "version_major": 2,
       "version_minor": 0
      },
      "text/plain": [
       "HBox(children=(FloatProgress(value=0.0, description='Training', layout=Layout(flex='2'), max=1250.0, style=Pro…"
      ]
     },
     "metadata": {},
     "output_type": "display_data"
    },
    {
     "name": "stdout",
     "output_type": "stream",
     "text": [
      "Epoch 1915: train=8.77182, val=8.62591, took 69.895 s\n",
      "  Validation Found 101792 of 108007, added 5508 (eff 94.25%) (0.275 FP/event)\n",
      "Result epoch:  1915\n",
      "Average Eff:  0\n",
      "Average FP Rate:  0\n"
     ]
    },
    {
     "data": {
      "application/vnd.jupyter.widget-view+json": {
       "model_id": "",
       "version_major": 2,
       "version_minor": 0
      },
      "text/plain": [
       "HBox(children=(FloatProgress(value=0.0, description='Training', layout=Layout(flex='2'), max=1250.0, style=Pro…"
      ]
     },
     "metadata": {},
     "output_type": "display_data"
    },
    {
     "name": "stdout",
     "output_type": "stream",
     "text": [
      "Epoch 1916: train=8.77149, val=8.62905, took 71.336 s\n",
      "  Validation Found 101661 of 108007, added 5333 (eff 94.12%) (0.267 FP/event)\n",
      "Result epoch:  1916\n",
      "Average Eff:  0\n",
      "Average FP Rate:  0\n"
     ]
    },
    {
     "data": {
      "application/vnd.jupyter.widget-view+json": {
       "model_id": "",
       "version_major": 2,
       "version_minor": 0
      },
      "text/plain": [
       "HBox(children=(FloatProgress(value=0.0, description='Training', layout=Layout(flex='2'), max=1250.0, style=Pro…"
      ]
     },
     "metadata": {},
     "output_type": "display_data"
    },
    {
     "name": "stdout",
     "output_type": "stream",
     "text": [
      "Epoch 1917: train=8.76837, val=8.62661, took 71.332 s\n",
      "  Validation Found 101613 of 108007, added 5234 (eff 94.08%) (0.262 FP/event)\n",
      "Result epoch:  1917\n",
      "Average Eff:  0\n",
      "Average FP Rate:  0\n"
     ]
    },
    {
     "data": {
      "application/vnd.jupyter.widget-view+json": {
       "model_id": "",
       "version_major": 2,
       "version_minor": 0
      },
      "text/plain": [
       "HBox(children=(FloatProgress(value=0.0, description='Training', layout=Layout(flex='2'), max=1250.0, style=Pro…"
      ]
     },
     "metadata": {},
     "output_type": "display_data"
    },
    {
     "name": "stdout",
     "output_type": "stream",
     "text": [
      "Epoch 1918: train=8.76684, val=8.62891, took 70.446 s\n",
      "  Validation Found 101795 of 108007, added 5495 (eff 94.25%) (0.275 FP/event)\n",
      "Result epoch:  1918\n",
      "Average Eff:  0\n",
      "Average FP Rate:  0\n"
     ]
    },
    {
     "data": {
      "application/vnd.jupyter.widget-view+json": {
       "model_id": "",
       "version_major": 2,
       "version_minor": 0
      },
      "text/plain": [
       "HBox(children=(FloatProgress(value=0.0, description='Training', layout=Layout(flex='2'), max=1250.0, style=Pro…"
      ]
     },
     "metadata": {},
     "output_type": "display_data"
    },
    {
     "name": "stdout",
     "output_type": "stream",
     "text": [
      "Epoch 1919: train=8.76932, val=8.63396, took 71.636 s\n",
      "  Validation Found 101799 of 108007, added 5539 (eff 94.25%) (0.277 FP/event)\n",
      "Result epoch:  1919\n",
      "Average Eff:  0\n",
      "Average FP Rate:  0\n"
     ]
    },
    {
     "data": {
      "application/vnd.jupyter.widget-view+json": {
       "model_id": "",
       "version_major": 2,
       "version_minor": 0
      },
      "text/plain": [
       "HBox(children=(FloatProgress(value=0.0, description='Training', layout=Layout(flex='2'), max=1250.0, style=Pro…"
      ]
     },
     "metadata": {},
     "output_type": "display_data"
    },
    {
     "name": "stdout",
     "output_type": "stream",
     "text": [
      "Epoch 1920: train=8.76875, val=8.62917, took 70.504 s\n",
      "  Validation Found 101788 of 108007, added 5488 (eff 94.24%) (0.274 FP/event)\n",
      "Result epoch:  1920\n",
      "Average Eff:  0\n",
      "Average FP Rate:  0\n"
     ]
    },
    {
     "data": {
      "application/vnd.jupyter.widget-view+json": {
       "model_id": "",
       "version_major": 2,
       "version_minor": 0
      },
      "text/plain": [
       "HBox(children=(FloatProgress(value=0.0, description='Training', layout=Layout(flex='2'), max=1250.0, style=Pro…"
      ]
     },
     "metadata": {},
     "output_type": "display_data"
    },
    {
     "name": "stdout",
     "output_type": "stream",
     "text": [
      "Epoch 1921: train=8.77154, val=8.62713, took 71.244 s\n",
      "  Validation Found 101645 of 108007, added 5292 (eff 94.11%) (0.265 FP/event)\n",
      "Result epoch:  1921\n",
      "Average Eff:  0\n",
      "Average FP Rate:  0\n"
     ]
    },
    {
     "data": {
      "application/vnd.jupyter.widget-view+json": {
       "model_id": "",
       "version_major": 2,
       "version_minor": 0
      },
      "text/plain": [
       "HBox(children=(FloatProgress(value=0.0, description='Training', layout=Layout(flex='2'), max=1250.0, style=Pro…"
      ]
     },
     "metadata": {},
     "output_type": "display_data"
    },
    {
     "name": "stdout",
     "output_type": "stream",
     "text": [
      "Epoch 1922: train=8.76623, val=8.62861, took 69.761 s\n",
      "  Validation Found 101670 of 108007, added 5329 (eff 94.13%) (0.266 FP/event)\n",
      "Result epoch:  1922\n",
      "Average Eff:  0\n",
      "Average FP Rate:  0\n"
     ]
    },
    {
     "data": {
      "application/vnd.jupyter.widget-view+json": {
       "model_id": "",
       "version_major": 2,
       "version_minor": 0
      },
      "text/plain": [
       "HBox(children=(FloatProgress(value=0.0, description='Training', layout=Layout(flex='2'), max=1250.0, style=Pro…"
      ]
     },
     "metadata": {},
     "output_type": "display_data"
    },
    {
     "name": "stdout",
     "output_type": "stream",
     "text": [
      "Epoch 1923: train=8.76665, val=8.62625, took 71.263 s\n",
      "  Validation Found 101752 of 108007, added 5403 (eff 94.21%) (0.27 FP/event)\n",
      "Result epoch:  1923\n",
      "Average Eff:  0\n",
      "Average FP Rate:  0\n"
     ]
    },
    {
     "data": {
      "application/vnd.jupyter.widget-view+json": {
       "model_id": "",
       "version_major": 2,
       "version_minor": 0
      },
      "text/plain": [
       "HBox(children=(FloatProgress(value=0.0, description='Training', layout=Layout(flex='2'), max=1250.0, style=Pro…"
      ]
     },
     "metadata": {},
     "output_type": "display_data"
    },
    {
     "name": "stdout",
     "output_type": "stream",
     "text": [
      "Epoch 1924: train=8.77084, val=8.63155, took 72.16 s\n",
      "  Validation Found 101631 of 108007, added 5284 (eff 94.10%) (0.264 FP/event)\n",
      "Result epoch:  1924\n",
      "Average Eff:  0\n",
      "Average FP Rate:  0\n"
     ]
    },
    {
     "data": {
      "application/vnd.jupyter.widget-view+json": {
       "model_id": "",
       "version_major": 2,
       "version_minor": 0
      },
      "text/plain": [
       "HBox(children=(FloatProgress(value=0.0, description='Training', layout=Layout(flex='2'), max=1250.0, style=Pro…"
      ]
     },
     "metadata": {},
     "output_type": "display_data"
    },
    {
     "name": "stdout",
     "output_type": "stream",
     "text": [
      "Epoch 1925: train=8.76355, val=8.63423, took 71.544 s\n",
      "  Validation Found 101858 of 108007, added 5688 (eff 94.31%) (0.284 FP/event)\n",
      "Result epoch:  1925\n",
      "Average Eff:  0\n",
      "Average FP Rate:  0\n"
     ]
    },
    {
     "data": {
      "application/vnd.jupyter.widget-view+json": {
       "model_id": "",
       "version_major": 2,
       "version_minor": 0
      },
      "text/plain": [
       "HBox(children=(FloatProgress(value=0.0, description='Training', layout=Layout(flex='2'), max=1250.0, style=Pro…"
      ]
     },
     "metadata": {},
     "output_type": "display_data"
    },
    {
     "name": "stdout",
     "output_type": "stream",
     "text": [
      "Epoch 1926: train=8.76487, val=8.62579, took 71.151 s\n",
      "  Validation Found 101700 of 108007, added 5379 (eff 94.16%) (0.269 FP/event)\n",
      "Result epoch:  1926\n",
      "Average Eff:  0\n",
      "Average FP Rate:  0\n"
     ]
    },
    {
     "data": {
      "application/vnd.jupyter.widget-view+json": {
       "model_id": "",
       "version_major": 2,
       "version_minor": 0
      },
      "text/plain": [
       "HBox(children=(FloatProgress(value=0.0, description='Training', layout=Layout(flex='2'), max=1250.0, style=Pro…"
      ]
     },
     "metadata": {},
     "output_type": "display_data"
    },
    {
     "name": "stdout",
     "output_type": "stream",
     "text": [
      "Epoch 1927: train=8.76589, val=8.62724, took 71.576 s\n",
      "  Validation Found 101763 of 108007, added 5492 (eff 94.22%) (0.275 FP/event)\n",
      "Result epoch:  1927\n",
      "Average Eff:  0\n",
      "Average FP Rate:  0\n"
     ]
    },
    {
     "data": {
      "application/vnd.jupyter.widget-view+json": {
       "model_id": "",
       "version_major": 2,
       "version_minor": 0
      },
      "text/plain": [
       "HBox(children=(FloatProgress(value=0.0, description='Training', layout=Layout(flex='2'), max=1250.0, style=Pro…"
      ]
     },
     "metadata": {},
     "output_type": "display_data"
    },
    {
     "name": "stdout",
     "output_type": "stream",
     "text": [
      "Epoch 1928: train=8.77081, val=8.62576, took 71.231 s\n",
      "  Validation Found 101783 of 108007, added 5483 (eff 94.24%) (0.274 FP/event)\n",
      "Result epoch:  1928\n",
      "Average Eff:  0\n",
      "Average FP Rate:  0\n"
     ]
    },
    {
     "data": {
      "application/vnd.jupyter.widget-view+json": {
       "model_id": "",
       "version_major": 2,
       "version_minor": 0
      },
      "text/plain": [
       "HBox(children=(FloatProgress(value=0.0, description='Training', layout=Layout(flex='2'), max=1250.0, style=Pro…"
      ]
     },
     "metadata": {},
     "output_type": "display_data"
    },
    {
     "name": "stdout",
     "output_type": "stream",
     "text": [
      "Epoch 1929: train=8.76644, val=8.62057, took 71.531 s\n",
      "  Validation Found 101807 of 108007, added 5559 (eff 94.26%) (0.278 FP/event)\n",
      "Result epoch:  1929\n",
      "Average Eff:  0\n",
      "Average FP Rate:  0\n"
     ]
    },
    {
     "data": {
      "application/vnd.jupyter.widget-view+json": {
       "model_id": "",
       "version_major": 2,
       "version_minor": 0
      },
      "text/plain": [
       "HBox(children=(FloatProgress(value=0.0, description='Training', layout=Layout(flex='2'), max=1250.0, style=Pro…"
      ]
     },
     "metadata": {},
     "output_type": "display_data"
    },
    {
     "name": "stdout",
     "output_type": "stream",
     "text": [
      "Epoch 1930: train=8.76489, val=8.62023, took 72.247 s\n",
      "  Validation Found 101647 of 108007, added 5277 (eff 94.11%) (0.264 FP/event)\n",
      "Result epoch:  1930\n",
      "Average Eff:  0\n",
      "Average FP Rate:  0\n"
     ]
    },
    {
     "data": {
      "application/vnd.jupyter.widget-view+json": {
       "model_id": "",
       "version_major": 2,
       "version_minor": 0
      },
      "text/plain": [
       "HBox(children=(FloatProgress(value=0.0, description='Training', layout=Layout(flex='2'), max=1250.0, style=Pro…"
      ]
     },
     "metadata": {},
     "output_type": "display_data"
    },
    {
     "name": "stdout",
     "output_type": "stream",
     "text": [
      "Epoch 1931: train=8.75898, val=8.63297, took 69.729 s\n",
      "  Validation Found 101737 of 108007, added 5435 (eff 94.19%) (0.272 FP/event)\n",
      "Result epoch:  1931\n",
      "Average Eff:  0\n",
      "Average FP Rate:  0\n"
     ]
    },
    {
     "data": {
      "application/vnd.jupyter.widget-view+json": {
       "model_id": "",
       "version_major": 2,
       "version_minor": 0
      },
      "text/plain": [
       "HBox(children=(FloatProgress(value=0.0, description='Training', layout=Layout(flex='2'), max=1250.0, style=Pro…"
      ]
     },
     "metadata": {},
     "output_type": "display_data"
    },
    {
     "name": "stdout",
     "output_type": "stream",
     "text": [
      "Epoch 1932: train=8.76812, val=8.62484, took 71.479 s\n",
      "  Validation Found 101720 of 108007, added 5401 (eff 94.18%) (0.27 FP/event)\n",
      "Result epoch:  1932\n",
      "Average Eff:  0\n",
      "Average FP Rate:  0\n"
     ]
    },
    {
     "data": {
      "application/vnd.jupyter.widget-view+json": {
       "model_id": "",
       "version_major": 2,
       "version_minor": 0
      },
      "text/plain": [
       "HBox(children=(FloatProgress(value=0.0, description='Training', layout=Layout(flex='2'), max=1250.0, style=Pro…"
      ]
     },
     "metadata": {},
     "output_type": "display_data"
    },
    {
     "name": "stdout",
     "output_type": "stream",
     "text": [
      "Epoch 1933: train=8.76721, val=8.63416, took 71.405 s\n",
      "  Validation Found 101664 of 108007, added 5344 (eff 94.13%) (0.267 FP/event)\n",
      "Result epoch:  1933\n",
      "Average Eff:  0\n",
      "Average FP Rate:  0\n"
     ]
    },
    {
     "data": {
      "application/vnd.jupyter.widget-view+json": {
       "model_id": "",
       "version_major": 2,
       "version_minor": 0
      },
      "text/plain": [
       "HBox(children=(FloatProgress(value=0.0, description='Training', layout=Layout(flex='2'), max=1250.0, style=Pro…"
      ]
     },
     "metadata": {},
     "output_type": "display_data"
    },
    {
     "name": "stdout",
     "output_type": "stream",
     "text": [
      "Epoch 1934: train=8.76801, val=8.62144, took 71.425 s\n",
      "  Validation Found 101779 of 108007, added 5485 (eff 94.23%) (0.274 FP/event)\n",
      "Result epoch:  1934\n",
      "Average Eff:  0\n",
      "Average FP Rate:  0\n"
     ]
    },
    {
     "data": {
      "application/vnd.jupyter.widget-view+json": {
       "model_id": "",
       "version_major": 2,
       "version_minor": 0
      },
      "text/plain": [
       "HBox(children=(FloatProgress(value=0.0, description='Training', layout=Layout(flex='2'), max=1250.0, style=Pro…"
      ]
     },
     "metadata": {},
     "output_type": "display_data"
    },
    {
     "name": "stdout",
     "output_type": "stream",
     "text": [
      "Epoch 1935: train=8.76725, val=8.62332, took 71.656 s\n",
      "  Validation Found 101710 of 108007, added 5395 (eff 94.17%) (0.27 FP/event)\n",
      "Result epoch:  1935\n",
      "Average Eff:  0\n",
      "Average FP Rate:  0\n"
     ]
    },
    {
     "data": {
      "application/vnd.jupyter.widget-view+json": {
       "model_id": "",
       "version_major": 2,
       "version_minor": 0
      },
      "text/plain": [
       "HBox(children=(FloatProgress(value=0.0, description='Training', layout=Layout(flex='2'), max=1250.0, style=Pro…"
      ]
     },
     "metadata": {},
     "output_type": "display_data"
    },
    {
     "name": "stdout",
     "output_type": "stream",
     "text": [
      "Epoch 1936: train=8.76506, val=8.62724, took 70.962 s\n",
      "  Validation Found 101794 of 108007, added 5505 (eff 94.25%) (0.275 FP/event)\n",
      "Result epoch:  1936\n",
      "Average Eff:  0\n",
      "Average FP Rate:  0\n"
     ]
    },
    {
     "data": {
      "application/vnd.jupyter.widget-view+json": {
       "model_id": "",
       "version_major": 2,
       "version_minor": 0
      },
      "text/plain": [
       "HBox(children=(FloatProgress(value=0.0, description='Training', layout=Layout(flex='2'), max=1250.0, style=Pro…"
      ]
     },
     "metadata": {},
     "output_type": "display_data"
    },
    {
     "name": "stdout",
     "output_type": "stream",
     "text": [
      "Epoch 1937: train=8.76199, val=8.61737, took 72.319 s\n",
      "  Validation Found 101687 of 108007, added 5340 (eff 94.15%) (0.267 FP/event)\n",
      "Result epoch:  1937\n",
      "Average Eff:  0\n",
      "Average FP Rate:  0\n"
     ]
    },
    {
     "data": {
      "application/vnd.jupyter.widget-view+json": {
       "model_id": "",
       "version_major": 2,
       "version_minor": 0
      },
      "text/plain": [
       "HBox(children=(FloatProgress(value=0.0, description='Training', layout=Layout(flex='2'), max=1250.0, style=Pro…"
      ]
     },
     "metadata": {},
     "output_type": "display_data"
    },
    {
     "name": "stdout",
     "output_type": "stream",
     "text": [
      "Epoch 1938: train=8.76314, val=8.62856, took 71.983 s\n",
      "  Validation Found 101631 of 108007, added 5270 (eff 94.10%) (0.263 FP/event)\n",
      "Result epoch:  1938\n",
      "Average Eff:  0\n",
      "Average FP Rate:  0\n"
     ]
    },
    {
     "data": {
      "application/vnd.jupyter.widget-view+json": {
       "model_id": "",
       "version_major": 2,
       "version_minor": 0
      },
      "text/plain": [
       "HBox(children=(FloatProgress(value=0.0, description='Training', layout=Layout(flex='2'), max=1250.0, style=Pro…"
      ]
     },
     "metadata": {},
     "output_type": "display_data"
    },
    {
     "name": "stdout",
     "output_type": "stream",
     "text": [
      "Epoch 1939: train=8.76927, val=8.62667, took 70.95 s\n",
      "  Validation Found 101763 of 108007, added 5443 (eff 94.22%) (0.272 FP/event)\n",
      "Result epoch:  1939\n",
      "Average Eff:  0\n",
      "Average FP Rate:  0\n"
     ]
    },
    {
     "data": {
      "application/vnd.jupyter.widget-view+json": {
       "model_id": "",
       "version_major": 2,
       "version_minor": 0
      },
      "text/plain": [
       "HBox(children=(FloatProgress(value=0.0, description='Training', layout=Layout(flex='2'), max=1250.0, style=Pro…"
      ]
     },
     "metadata": {},
     "output_type": "display_data"
    },
    {
     "name": "stdout",
     "output_type": "stream",
     "text": [
      "Epoch 1940: train=8.76365, val=8.62958, took 71.014 s\n",
      "  Validation Found 101755 of 108007, added 5444 (eff 94.21%) (0.272 FP/event)\n",
      "Result epoch:  1940\n",
      "Average Eff:  0\n",
      "Average FP Rate:  0\n"
     ]
    },
    {
     "data": {
      "application/vnd.jupyter.widget-view+json": {
       "model_id": "",
       "version_major": 2,
       "version_minor": 0
      },
      "text/plain": [
       "HBox(children=(FloatProgress(value=0.0, description='Training', layout=Layout(flex='2'), max=1250.0, style=Pro…"
      ]
     },
     "metadata": {},
     "output_type": "display_data"
    },
    {
     "name": "stdout",
     "output_type": "stream",
     "text": [
      "Epoch 1941: train=8.76417, val=8.62328, took 71.779 s\n",
      "  Validation Found 101720 of 108007, added 5389 (eff 94.18%) (0.269 FP/event)\n",
      "Result epoch:  1941\n",
      "Average Eff:  0\n",
      "Average FP Rate:  0\n"
     ]
    },
    {
     "data": {
      "application/vnd.jupyter.widget-view+json": {
       "model_id": "",
       "version_major": 2,
       "version_minor": 0
      },
      "text/plain": [
       "HBox(children=(FloatProgress(value=0.0, description='Training', layout=Layout(flex='2'), max=1250.0, style=Pro…"
      ]
     },
     "metadata": {},
     "output_type": "display_data"
    },
    {
     "name": "stdout",
     "output_type": "stream",
     "text": [
      "Epoch 1942: train=8.76561, val=8.6259, took 71.273 s\n",
      "  Validation Found 101746 of 108007, added 5418 (eff 94.20%) (0.271 FP/event)\n",
      "Result epoch:  1942\n",
      "Average Eff:  0\n",
      "Average FP Rate:  0\n"
     ]
    },
    {
     "data": {
      "application/vnd.jupyter.widget-view+json": {
       "model_id": "",
       "version_major": 2,
       "version_minor": 0
      },
      "text/plain": [
       "HBox(children=(FloatProgress(value=0.0, description='Training', layout=Layout(flex='2'), max=1250.0, style=Pro…"
      ]
     },
     "metadata": {},
     "output_type": "display_data"
    },
    {
     "name": "stdout",
     "output_type": "stream",
     "text": [
      "Epoch 1943: train=8.76496, val=8.62945, took 72.289 s\n",
      "  Validation Found 101659 of 108007, added 5294 (eff 94.12%) (0.265 FP/event)\n",
      "Result epoch:  1943\n",
      "Average Eff:  0\n",
      "Average FP Rate:  0\n"
     ]
    },
    {
     "data": {
      "application/vnd.jupyter.widget-view+json": {
       "model_id": "",
       "version_major": 2,
       "version_minor": 0
      },
      "text/plain": [
       "HBox(children=(FloatProgress(value=0.0, description='Training', layout=Layout(flex='2'), max=1250.0, style=Pro…"
      ]
     },
     "metadata": {},
     "output_type": "display_data"
    },
    {
     "name": "stdout",
     "output_type": "stream",
     "text": [
      "Epoch 1944: train=8.76417, val=8.63542, took 71.179 s\n",
      "  Validation Found 101580 of 108007, added 5179 (eff 94.05%) (0.259 FP/event)\n",
      "Result epoch:  1944\n",
      "Average Eff:  0\n",
      "Average FP Rate:  0\n"
     ]
    },
    {
     "data": {
      "application/vnd.jupyter.widget-view+json": {
       "model_id": "",
       "version_major": 2,
       "version_minor": 0
      },
      "text/plain": [
       "HBox(children=(FloatProgress(value=0.0, description='Training', layout=Layout(flex='2'), max=1250.0, style=Pro…"
      ]
     },
     "metadata": {},
     "output_type": "display_data"
    },
    {
     "name": "stdout",
     "output_type": "stream",
     "text": [
      "Epoch 1945: train=8.77005, val=8.6315, took 71.648 s\n",
      "  Validation Found 101687 of 108007, added 5344 (eff 94.15%) (0.267 FP/event)\n",
      "Result epoch:  1945\n",
      "Average Eff:  0\n",
      "Average FP Rate:  0\n"
     ]
    },
    {
     "data": {
      "application/vnd.jupyter.widget-view+json": {
       "model_id": "",
       "version_major": 2,
       "version_minor": 0
      },
      "text/plain": [
       "HBox(children=(FloatProgress(value=0.0, description='Training', layout=Layout(flex='2'), max=1250.0, style=Pro…"
      ]
     },
     "metadata": {},
     "output_type": "display_data"
    },
    {
     "name": "stdout",
     "output_type": "stream",
     "text": [
      "Epoch 1946: train=8.7705, val=8.61318, took 71.741 s\n",
      "  Validation Found 101801 of 108007, added 5491 (eff 94.25%) (0.275 FP/event)\n",
      "Result epoch:  1946\n",
      "Average Eff:  0\n",
      "Average FP Rate:  0\n"
     ]
    },
    {
     "data": {
      "application/vnd.jupyter.widget-view+json": {
       "model_id": "",
       "version_major": 2,
       "version_minor": 0
      },
      "text/plain": [
       "HBox(children=(FloatProgress(value=0.0, description='Training', layout=Layout(flex='2'), max=1250.0, style=Pro…"
      ]
     },
     "metadata": {},
     "output_type": "display_data"
    },
    {
     "name": "stdout",
     "output_type": "stream",
     "text": [
      "Epoch 1947: train=8.76346, val=8.62715, took 70.669 s\n",
      "  Validation Found 101641 of 108007, added 5293 (eff 94.11%) (0.265 FP/event)\n",
      "Result epoch:  1947\n",
      "Average Eff:  0\n",
      "Average FP Rate:  0\n"
     ]
    },
    {
     "data": {
      "application/vnd.jupyter.widget-view+json": {
       "model_id": "",
       "version_major": 2,
       "version_minor": 0
      },
      "text/plain": [
       "HBox(children=(FloatProgress(value=0.0, description='Training', layout=Layout(flex='2'), max=1250.0, style=Pro…"
      ]
     },
     "metadata": {},
     "output_type": "display_data"
    },
    {
     "name": "stdout",
     "output_type": "stream",
     "text": [
      "Epoch 1948: train=8.762, val=8.63132, took 70.508 s\n",
      "  Validation Found 101713 of 108007, added 5386 (eff 94.17%) (0.269 FP/event)\n",
      "Result epoch:  1948\n",
      "Average Eff:  0\n",
      "Average FP Rate:  0\n"
     ]
    },
    {
     "data": {
      "application/vnd.jupyter.widget-view+json": {
       "model_id": "",
       "version_major": 2,
       "version_minor": 0
      },
      "text/plain": [
       "HBox(children=(FloatProgress(value=0.0, description='Training', layout=Layout(flex='2'), max=1250.0, style=Pro…"
      ]
     },
     "metadata": {},
     "output_type": "display_data"
    },
    {
     "name": "stdout",
     "output_type": "stream",
     "text": [
      "Epoch 1949: train=8.76066, val=8.62368, took 71.272 s\n",
      "  Validation Found 101792 of 108007, added 5482 (eff 94.25%) (0.274 FP/event)\n",
      "Result epoch:  1949\n",
      "Average Eff:  0\n",
      "Average FP Rate:  0\n"
     ]
    },
    {
     "data": {
      "application/vnd.jupyter.widget-view+json": {
       "model_id": "",
       "version_major": 2,
       "version_minor": 0
      },
      "text/plain": [
       "HBox(children=(FloatProgress(value=0.0, description='Training', layout=Layout(flex='2'), max=1250.0, style=Pro…"
      ]
     },
     "metadata": {},
     "output_type": "display_data"
    },
    {
     "name": "stdout",
     "output_type": "stream",
     "text": [
      "Epoch 1950: train=8.76684, val=8.63238, took 70.521 s\n",
      "  Validation Found 101731 of 108007, added 5405 (eff 94.19%) (0.27 FP/event)\n",
      "Result epoch:  1950\n",
      "Average Eff:  0\n",
      "Average FP Rate:  0\n"
     ]
    },
    {
     "data": {
      "application/vnd.jupyter.widget-view+json": {
       "model_id": "",
       "version_major": 2,
       "version_minor": 0
      },
      "text/plain": [
       "HBox(children=(FloatProgress(value=0.0, description='Training', layout=Layout(flex='2'), max=1250.0, style=Pro…"
      ]
     },
     "metadata": {},
     "output_type": "display_data"
    },
    {
     "name": "stdout",
     "output_type": "stream",
     "text": [
      "Epoch 1951: train=8.76741, val=8.62584, took 72.388 s\n",
      "  Validation Found 101764 of 108007, added 5429 (eff 94.22%) (0.271 FP/event)\n",
      "Result epoch:  1951\n",
      "Average Eff:  0\n",
      "Average FP Rate:  0\n"
     ]
    },
    {
     "data": {
      "application/vnd.jupyter.widget-view+json": {
       "model_id": "",
       "version_major": 2,
       "version_minor": 0
      },
      "text/plain": [
       "HBox(children=(FloatProgress(value=0.0, description='Training', layout=Layout(flex='2'), max=1250.0, style=Pro…"
      ]
     },
     "metadata": {},
     "output_type": "display_data"
    },
    {
     "name": "stdout",
     "output_type": "stream",
     "text": [
      "Epoch 1952: train=8.76227, val=8.62006, took 70.121 s\n",
      "  Validation Found 101821 of 108007, added 5563 (eff 94.27%) (0.278 FP/event)\n",
      "Result epoch:  1952\n",
      "Average Eff:  0\n",
      "Average FP Rate:  0\n"
     ]
    },
    {
     "data": {
      "application/vnd.jupyter.widget-view+json": {
       "model_id": "",
       "version_major": 2,
       "version_minor": 0
      },
      "text/plain": [
       "HBox(children=(FloatProgress(value=0.0, description='Training', layout=Layout(flex='2'), max=1250.0, style=Pro…"
      ]
     },
     "metadata": {},
     "output_type": "display_data"
    },
    {
     "name": "stdout",
     "output_type": "stream",
     "text": [
      "Epoch 1953: train=8.76493, val=8.62924, took 70.287 s\n",
      "  Validation Found 101733 of 108007, added 5418 (eff 94.19%) (0.271 FP/event)\n",
      "Result epoch:  1953\n",
      "Average Eff:  0\n",
      "Average FP Rate:  0\n"
     ]
    },
    {
     "data": {
      "application/vnd.jupyter.widget-view+json": {
       "model_id": "",
       "version_major": 2,
       "version_minor": 0
      },
      "text/plain": [
       "HBox(children=(FloatProgress(value=0.0, description='Training', layout=Layout(flex='2'), max=1250.0, style=Pro…"
      ]
     },
     "metadata": {},
     "output_type": "display_data"
    },
    {
     "name": "stdout",
     "output_type": "stream",
     "text": [
      "Epoch 1954: train=8.76202, val=8.62769, took 71.887 s\n",
      "  Validation Found 101803 of 108007, added 5520 (eff 94.26%) (0.276 FP/event)\n",
      "Result epoch:  1954\n",
      "Average Eff:  0\n",
      "Average FP Rate:  0\n"
     ]
    },
    {
     "data": {
      "application/vnd.jupyter.widget-view+json": {
       "model_id": "",
       "version_major": 2,
       "version_minor": 0
      },
      "text/plain": [
       "HBox(children=(FloatProgress(value=0.0, description='Training', layout=Layout(flex='2'), max=1250.0, style=Pro…"
      ]
     },
     "metadata": {},
     "output_type": "display_data"
    },
    {
     "name": "stdout",
     "output_type": "stream",
     "text": [
      "Epoch 1955: train=8.76667, val=8.62871, took 71.635 s\n",
      "  Validation Found 101780 of 108007, added 5476 (eff 94.23%) (0.274 FP/event)\n",
      "Result epoch:  1955\n",
      "Average Eff:  0\n",
      "Average FP Rate:  0\n"
     ]
    },
    {
     "data": {
      "application/vnd.jupyter.widget-view+json": {
       "model_id": "",
       "version_major": 2,
       "version_minor": 0
      },
      "text/plain": [
       "HBox(children=(FloatProgress(value=0.0, description='Training', layout=Layout(flex='2'), max=1250.0, style=Pro…"
      ]
     },
     "metadata": {},
     "output_type": "display_data"
    },
    {
     "name": "stdout",
     "output_type": "stream",
     "text": [
      "Epoch 1956: train=8.76564, val=8.62129, took 70.599 s\n",
      "  Validation Found 101710 of 108007, added 5330 (eff 94.17%) (0.266 FP/event)\n",
      "Result epoch:  1956\n",
      "Average Eff:  0\n",
      "Average FP Rate:  0\n"
     ]
    },
    {
     "data": {
      "application/vnd.jupyter.widget-view+json": {
       "model_id": "",
       "version_major": 2,
       "version_minor": 0
      },
      "text/plain": [
       "HBox(children=(FloatProgress(value=0.0, description='Training', layout=Layout(flex='2'), max=1250.0, style=Pro…"
      ]
     },
     "metadata": {},
     "output_type": "display_data"
    },
    {
     "name": "stdout",
     "output_type": "stream",
     "text": [
      "Epoch 1957: train=8.768, val=8.63233, took 71.425 s\n",
      "  Validation Found 101637 of 108007, added 5273 (eff 94.10%) (0.264 FP/event)\n",
      "Result epoch:  1957\n",
      "Average Eff:  0\n",
      "Average FP Rate:  0\n"
     ]
    },
    {
     "data": {
      "application/vnd.jupyter.widget-view+json": {
       "model_id": "",
       "version_major": 2,
       "version_minor": 0
      },
      "text/plain": [
       "HBox(children=(FloatProgress(value=0.0, description='Training', layout=Layout(flex='2'), max=1250.0, style=Pro…"
      ]
     },
     "metadata": {},
     "output_type": "display_data"
    },
    {
     "name": "stdout",
     "output_type": "stream",
     "text": [
      "Epoch 1958: train=8.76263, val=8.61969, took 71.197 s\n",
      "  Validation Found 101704 of 108007, added 5333 (eff 94.16%) (0.267 FP/event)\n",
      "Result epoch:  1958\n",
      "Average Eff:  0\n",
      "Average FP Rate:  0\n"
     ]
    },
    {
     "data": {
      "application/vnd.jupyter.widget-view+json": {
       "model_id": "",
       "version_major": 2,
       "version_minor": 0
      },
      "text/plain": [
       "HBox(children=(FloatProgress(value=0.0, description='Training', layout=Layout(flex='2'), max=1250.0, style=Pro…"
      ]
     },
     "metadata": {},
     "output_type": "display_data"
    },
    {
     "name": "stdout",
     "output_type": "stream",
     "text": [
      "Epoch 1959: train=8.76575, val=8.62351, took 70.557 s\n",
      "  Validation Found 101815 of 108007, added 5540 (eff 94.27%) (0.277 FP/event)\n",
      "Result epoch:  1959\n",
      "Average Eff:  0\n",
      "Average FP Rate:  0\n"
     ]
    },
    {
     "data": {
      "application/vnd.jupyter.widget-view+json": {
       "model_id": "",
       "version_major": 2,
       "version_minor": 0
      },
      "text/plain": [
       "HBox(children=(FloatProgress(value=0.0, description='Training', layout=Layout(flex='2'), max=1250.0, style=Pro…"
      ]
     },
     "metadata": {},
     "output_type": "display_data"
    },
    {
     "name": "stdout",
     "output_type": "stream",
     "text": [
      "Epoch 1960: train=8.75976, val=8.62633, took 71.027 s\n",
      "  Validation Found 101680 of 108007, added 5307 (eff 94.14%) (0.265 FP/event)\n",
      "Result epoch:  1960\n",
      "Average Eff:  0\n",
      "Average FP Rate:  0\n"
     ]
    },
    {
     "data": {
      "application/vnd.jupyter.widget-view+json": {
       "model_id": "",
       "version_major": 2,
       "version_minor": 0
      },
      "text/plain": [
       "HBox(children=(FloatProgress(value=0.0, description='Training', layout=Layout(flex='2'), max=1250.0, style=Pro…"
      ]
     },
     "metadata": {},
     "output_type": "display_data"
    },
    {
     "name": "stdout",
     "output_type": "stream",
     "text": [
      "Epoch 1961: train=8.76408, val=8.62752, took 71.021 s\n",
      "  Validation Found 101794 of 108007, added 5510 (eff 94.25%) (0.275 FP/event)\n",
      "Result epoch:  1961\n",
      "Average Eff:  0\n",
      "Average FP Rate:  0\n"
     ]
    },
    {
     "data": {
      "application/vnd.jupyter.widget-view+json": {
       "model_id": "",
       "version_major": 2,
       "version_minor": 0
      },
      "text/plain": [
       "HBox(children=(FloatProgress(value=0.0, description='Training', layout=Layout(flex='2'), max=1250.0, style=Pro…"
      ]
     },
     "metadata": {},
     "output_type": "display_data"
    },
    {
     "name": "stdout",
     "output_type": "stream",
     "text": [
      "Epoch 1962: train=8.76427, val=8.62211, took 71.156 s\n",
      "  Validation Found 101719 of 108007, added 5364 (eff 94.18%) (0.268 FP/event)\n",
      "Result epoch:  1962\n",
      "Average Eff:  0\n",
      "Average FP Rate:  0\n"
     ]
    },
    {
     "data": {
      "application/vnd.jupyter.widget-view+json": {
       "model_id": "",
       "version_major": 2,
       "version_minor": 0
      },
      "text/plain": [
       "HBox(children=(FloatProgress(value=0.0, description='Training', layout=Layout(flex='2'), max=1250.0, style=Pro…"
      ]
     },
     "metadata": {},
     "output_type": "display_data"
    },
    {
     "name": "stdout",
     "output_type": "stream",
     "text": [
      "Epoch 1963: train=8.76323, val=8.6345, took 71.348 s\n",
      "  Validation Found 101653 of 108007, added 5297 (eff 94.12%) (0.265 FP/event)\n",
      "Result epoch:  1963\n",
      "Average Eff:  0\n",
      "Average FP Rate:  0\n"
     ]
    },
    {
     "data": {
      "application/vnd.jupyter.widget-view+json": {
       "model_id": "",
       "version_major": 2,
       "version_minor": 0
      },
      "text/plain": [
       "HBox(children=(FloatProgress(value=0.0, description='Training', layout=Layout(flex='2'), max=1250.0, style=Pro…"
      ]
     },
     "metadata": {},
     "output_type": "display_data"
    },
    {
     "name": "stdout",
     "output_type": "stream",
     "text": [
      "Epoch 1964: train=8.76678, val=8.6235, took 70.32 s\n",
      "  Validation Found 101790 of 108007, added 5453 (eff 94.24%) (0.273 FP/event)\n",
      "Result epoch:  1964\n",
      "Average Eff:  0\n",
      "Average FP Rate:  0\n"
     ]
    },
    {
     "data": {
      "application/vnd.jupyter.widget-view+json": {
       "model_id": "",
       "version_major": 2,
       "version_minor": 0
      },
      "text/plain": [
       "HBox(children=(FloatProgress(value=0.0, description='Training', layout=Layout(flex='2'), max=1250.0, style=Pro…"
      ]
     },
     "metadata": {},
     "output_type": "display_data"
    },
    {
     "name": "stdout",
     "output_type": "stream",
     "text": [
      "Epoch 1965: train=8.75943, val=8.62359, took 70.482 s\n",
      "  Validation Found 101763 of 108007, added 5431 (eff 94.22%) (0.272 FP/event)\n",
      "Result epoch:  1965\n",
      "Average Eff:  0\n",
      "Average FP Rate:  0\n"
     ]
    },
    {
     "data": {
      "application/vnd.jupyter.widget-view+json": {
       "model_id": "",
       "version_major": 2,
       "version_minor": 0
      },
      "text/plain": [
       "HBox(children=(FloatProgress(value=0.0, description='Training', layout=Layout(flex='2'), max=1250.0, style=Pro…"
      ]
     },
     "metadata": {},
     "output_type": "display_data"
    },
    {
     "name": "stdout",
     "output_type": "stream",
     "text": [
      "Epoch 1966: train=8.76208, val=8.63491, took 71.619 s\n",
      "  Validation Found 101722 of 108007, added 5425 (eff 94.18%) (0.271 FP/event)\n",
      "Result epoch:  1966\n",
      "Average Eff:  0\n",
      "Average FP Rate:  0\n"
     ]
    },
    {
     "data": {
      "application/vnd.jupyter.widget-view+json": {
       "model_id": "",
       "version_major": 2,
       "version_minor": 0
      },
      "text/plain": [
       "HBox(children=(FloatProgress(value=0.0, description='Training', layout=Layout(flex='2'), max=1250.0, style=Pro…"
      ]
     },
     "metadata": {},
     "output_type": "display_data"
    },
    {
     "name": "stdout",
     "output_type": "stream",
     "text": [
      "Epoch 1967: train=8.76149, val=8.62054, took 71.946 s\n",
      "  Validation Found 101765 of 108007, added 5437 (eff 94.22%) (0.272 FP/event)\n",
      "Result epoch:  1967\n",
      "Average Eff:  0\n",
      "Average FP Rate:  0\n"
     ]
    },
    {
     "data": {
      "application/vnd.jupyter.widget-view+json": {
       "model_id": "",
       "version_major": 2,
       "version_minor": 0
      },
      "text/plain": [
       "HBox(children=(FloatProgress(value=0.0, description='Training', layout=Layout(flex='2'), max=1250.0, style=Pro…"
      ]
     },
     "metadata": {},
     "output_type": "display_data"
    },
    {
     "name": "stdout",
     "output_type": "stream",
     "text": [
      "Epoch 1968: train=8.76443, val=8.62198, took 71.048 s\n",
      "  Validation Found 101703 of 108007, added 5338 (eff 94.16%) (0.267 FP/event)\n",
      "Result epoch:  1968\n",
      "Average Eff:  0\n",
      "Average FP Rate:  0\n"
     ]
    },
    {
     "data": {
      "application/vnd.jupyter.widget-view+json": {
       "model_id": "",
       "version_major": 2,
       "version_minor": 0
      },
      "text/plain": [
       "HBox(children=(FloatProgress(value=0.0, description='Training', layout=Layout(flex='2'), max=1250.0, style=Pro…"
      ]
     },
     "metadata": {},
     "output_type": "display_data"
    },
    {
     "name": "stdout",
     "output_type": "stream",
     "text": [
      "Epoch 1969: train=8.76432, val=8.62417, took 70.115 s\n",
      "  Validation Found 101797 of 108007, added 5519 (eff 94.25%) (0.276 FP/event)\n",
      "Result epoch:  1969\n",
      "Average Eff:  0\n",
      "Average FP Rate:  0\n"
     ]
    },
    {
     "data": {
      "application/vnd.jupyter.widget-view+json": {
       "model_id": "",
       "version_major": 2,
       "version_minor": 0
      },
      "text/plain": [
       "HBox(children=(FloatProgress(value=0.0, description='Training', layout=Layout(flex='2'), max=1250.0, style=Pro…"
      ]
     },
     "metadata": {},
     "output_type": "display_data"
    },
    {
     "name": "stdout",
     "output_type": "stream",
     "text": [
      "Epoch 1970: train=8.75976, val=8.61984, took 71.526 s\n",
      "  Validation Found 101725 of 108007, added 5377 (eff 94.18%) (0.269 FP/event)\n",
      "Result epoch:  1970\n",
      "Average Eff:  0\n",
      "Average FP Rate:  0\n"
     ]
    },
    {
     "data": {
      "application/vnd.jupyter.widget-view+json": {
       "model_id": "",
       "version_major": 2,
       "version_minor": 0
      },
      "text/plain": [
       "HBox(children=(FloatProgress(value=0.0, description='Training', layout=Layout(flex='2'), max=1250.0, style=Pro…"
      ]
     },
     "metadata": {},
     "output_type": "display_data"
    },
    {
     "name": "stdout",
     "output_type": "stream",
     "text": [
      "Epoch 1971: train=8.76328, val=8.62848, took 71.422 s\n",
      "  Validation Found 101728 of 108007, added 5385 (eff 94.19%) (0.269 FP/event)\n",
      "Result epoch:  1971\n",
      "Average Eff:  0\n",
      "Average FP Rate:  0\n"
     ]
    },
    {
     "data": {
      "application/vnd.jupyter.widget-view+json": {
       "model_id": "",
       "version_major": 2,
       "version_minor": 0
      },
      "text/plain": [
       "HBox(children=(FloatProgress(value=0.0, description='Training', layout=Layout(flex='2'), max=1250.0, style=Pro…"
      ]
     },
     "metadata": {},
     "output_type": "display_data"
    },
    {
     "name": "stdout",
     "output_type": "stream",
     "text": [
      "Epoch 1972: train=8.75954, val=8.62252, took 70.915 s\n",
      "  Validation Found 101646 of 108007, added 5276 (eff 94.11%) (0.264 FP/event)\n",
      "Result epoch:  1972\n",
      "Average Eff:  0\n",
      "Average FP Rate:  0\n"
     ]
    },
    {
     "data": {
      "application/vnd.jupyter.widget-view+json": {
       "model_id": "",
       "version_major": 2,
       "version_minor": 0
      },
      "text/plain": [
       "HBox(children=(FloatProgress(value=0.0, description='Training', layout=Layout(flex='2'), max=1250.0, style=Pro…"
      ]
     },
     "metadata": {},
     "output_type": "display_data"
    },
    {
     "name": "stdout",
     "output_type": "stream",
     "text": [
      "Epoch 1973: train=8.76623, val=8.6281, took 71.673 s\n",
      "  Validation Found 101674 of 108007, added 5305 (eff 94.14%) (0.265 FP/event)\n",
      "Result epoch:  1973\n",
      "Average Eff:  0\n",
      "Average FP Rate:  0\n"
     ]
    },
    {
     "data": {
      "application/vnd.jupyter.widget-view+json": {
       "model_id": "",
       "version_major": 2,
       "version_minor": 0
      },
      "text/plain": [
       "HBox(children=(FloatProgress(value=0.0, description='Training', layout=Layout(flex='2'), max=1250.0, style=Pro…"
      ]
     },
     "metadata": {},
     "output_type": "display_data"
    },
    {
     "name": "stdout",
     "output_type": "stream",
     "text": [
      "Epoch 1974: train=8.76369, val=8.62013, took 71.0 s\n",
      "  Validation Found 101804 of 108007, added 5512 (eff 94.26%) (0.276 FP/event)\n",
      "Result epoch:  1974\n",
      "Average Eff:  0\n",
      "Average FP Rate:  0\n"
     ]
    },
    {
     "data": {
      "application/vnd.jupyter.widget-view+json": {
       "model_id": "",
       "version_major": 2,
       "version_minor": 0
      },
      "text/plain": [
       "HBox(children=(FloatProgress(value=0.0, description='Training', layout=Layout(flex='2'), max=1250.0, style=Pro…"
      ]
     },
     "metadata": {},
     "output_type": "display_data"
    },
    {
     "name": "stdout",
     "output_type": "stream",
     "text": [
      "Epoch 1975: train=8.77082, val=8.62737, took 72.244 s\n",
      "  Validation Found 101676 of 108007, added 5301 (eff 94.14%) (0.265 FP/event)\n",
      "Result epoch:  1975\n",
      "Average Eff:  0\n",
      "Average FP Rate:  0\n"
     ]
    },
    {
     "data": {
      "application/vnd.jupyter.widget-view+json": {
       "model_id": "",
       "version_major": 2,
       "version_minor": 0
      },
      "text/plain": [
       "HBox(children=(FloatProgress(value=0.0, description='Training', layout=Layout(flex='2'), max=1250.0, style=Pro…"
      ]
     },
     "metadata": {},
     "output_type": "display_data"
    },
    {
     "name": "stdout",
     "output_type": "stream",
     "text": [
      "Epoch 1976: train=8.76344, val=8.62446, took 70.421 s\n",
      "  Validation Found 101686 of 108007, added 5332 (eff 94.15%) (0.267 FP/event)\n",
      "Result epoch:  1976\n",
      "Average Eff:  0\n",
      "Average FP Rate:  0\n"
     ]
    },
    {
     "data": {
      "application/vnd.jupyter.widget-view+json": {
       "model_id": "",
       "version_major": 2,
       "version_minor": 0
      },
      "text/plain": [
       "HBox(children=(FloatProgress(value=0.0, description='Training', layout=Layout(flex='2'), max=1250.0, style=Pro…"
      ]
     },
     "metadata": {},
     "output_type": "display_data"
    },
    {
     "name": "stdout",
     "output_type": "stream",
     "text": [
      "Epoch 1977: train=8.76929, val=8.62045, took 71.325 s\n",
      "  Validation Found 101720 of 108007, added 5365 (eff 94.18%) (0.268 FP/event)\n",
      "Result epoch:  1977\n",
      "Average Eff:  0\n",
      "Average FP Rate:  0\n"
     ]
    },
    {
     "data": {
      "application/vnd.jupyter.widget-view+json": {
       "model_id": "",
       "version_major": 2,
       "version_minor": 0
      },
      "text/plain": [
       "HBox(children=(FloatProgress(value=0.0, description='Training', layout=Layout(flex='2'), max=1250.0, style=Pro…"
      ]
     },
     "metadata": {},
     "output_type": "display_data"
    },
    {
     "name": "stdout",
     "output_type": "stream",
     "text": [
      "Epoch 1978: train=8.76629, val=8.62224, took 71.619 s\n",
      "  Validation Found 101712 of 108007, added 5367 (eff 94.17%) (0.268 FP/event)\n",
      "Result epoch:  1978\n",
      "Average Eff:  0\n",
      "Average FP Rate:  0\n"
     ]
    },
    {
     "data": {
      "application/vnd.jupyter.widget-view+json": {
       "model_id": "",
       "version_major": 2,
       "version_minor": 0
      },
      "text/plain": [
       "HBox(children=(FloatProgress(value=0.0, description='Training', layout=Layout(flex='2'), max=1250.0, style=Pro…"
      ]
     },
     "metadata": {},
     "output_type": "display_data"
    },
    {
     "name": "stdout",
     "output_type": "stream",
     "text": [
      "Epoch 1979: train=8.76683, val=8.62098, took 70.8 s\n",
      "  Validation Found 101791 of 108007, added 5516 (eff 94.24%) (0.276 FP/event)\n",
      "Result epoch:  1979\n",
      "Average Eff:  0\n",
      "Average FP Rate:  0\n"
     ]
    },
    {
     "data": {
      "application/vnd.jupyter.widget-view+json": {
       "model_id": "",
       "version_major": 2,
       "version_minor": 0
      },
      "text/plain": [
       "HBox(children=(FloatProgress(value=0.0, description='Training', layout=Layout(flex='2'), max=1250.0, style=Pro…"
      ]
     },
     "metadata": {},
     "output_type": "display_data"
    },
    {
     "name": "stdout",
     "output_type": "stream",
     "text": [
      "Epoch 1980: train=8.75922, val=8.62341, took 72.494 s\n",
      "  Validation Found 101683 of 108007, added 5315 (eff 94.14%) (0.266 FP/event)\n",
      "Result epoch:  1980\n",
      "Average Eff:  0\n",
      "Average FP Rate:  0\n"
     ]
    },
    {
     "data": {
      "application/vnd.jupyter.widget-view+json": {
       "model_id": "",
       "version_major": 2,
       "version_minor": 0
      },
      "text/plain": [
       "HBox(children=(FloatProgress(value=0.0, description='Training', layout=Layout(flex='2'), max=1250.0, style=Pro…"
      ]
     },
     "metadata": {},
     "output_type": "display_data"
    },
    {
     "name": "stdout",
     "output_type": "stream",
     "text": [
      "Epoch 1981: train=8.76019, val=8.62419, took 70.962 s\n",
      "  Validation Found 101809 of 108007, added 5549 (eff 94.26%) (0.277 FP/event)\n",
      "Result epoch:  1981\n",
      "Average Eff:  0\n",
      "Average FP Rate:  0\n"
     ]
    },
    {
     "data": {
      "application/vnd.jupyter.widget-view+json": {
       "model_id": "",
       "version_major": 2,
       "version_minor": 0
      },
      "text/plain": [
       "HBox(children=(FloatProgress(value=0.0, description='Training', layout=Layout(flex='2'), max=1250.0, style=Pro…"
      ]
     },
     "metadata": {},
     "output_type": "display_data"
    },
    {
     "name": "stdout",
     "output_type": "stream",
     "text": [
      "Epoch 1982: train=8.76253, val=8.62812, took 70.136 s\n",
      "  Validation Found 101635 of 108007, added 5271 (eff 94.10%) (0.264 FP/event)\n",
      "Result epoch:  1982\n",
      "Average Eff:  0\n",
      "Average FP Rate:  0\n"
     ]
    },
    {
     "data": {
      "application/vnd.jupyter.widget-view+json": {
       "model_id": "",
       "version_major": 2,
       "version_minor": 0
      },
      "text/plain": [
       "HBox(children=(FloatProgress(value=0.0, description='Training', layout=Layout(flex='2'), max=1250.0, style=Pro…"
      ]
     },
     "metadata": {},
     "output_type": "display_data"
    },
    {
     "name": "stdout",
     "output_type": "stream",
     "text": [
      "Epoch 1983: train=8.76016, val=8.62757, took 70.394 s\n",
      "  Validation Found 101690 of 108007, added 5340 (eff 94.15%) (0.267 FP/event)\n",
      "Result epoch:  1983\n",
      "Average Eff:  0\n",
      "Average FP Rate:  0\n"
     ]
    },
    {
     "data": {
      "application/vnd.jupyter.widget-view+json": {
       "model_id": "",
       "version_major": 2,
       "version_minor": 0
      },
      "text/plain": [
       "HBox(children=(FloatProgress(value=0.0, description='Training', layout=Layout(flex='2'), max=1250.0, style=Pro…"
      ]
     },
     "metadata": {},
     "output_type": "display_data"
    },
    {
     "name": "stdout",
     "output_type": "stream",
     "text": [
      "Epoch 1984: train=8.7628, val=8.62542, took 70.979 s\n",
      "  Validation Found 101782 of 108007, added 5500 (eff 94.24%) (0.275 FP/event)\n",
      "Result epoch:  1984\n",
      "Average Eff:  0\n",
      "Average FP Rate:  0\n"
     ]
    },
    {
     "data": {
      "application/vnd.jupyter.widget-view+json": {
       "model_id": "",
       "version_major": 2,
       "version_minor": 0
      },
      "text/plain": [
       "HBox(children=(FloatProgress(value=0.0, description='Training', layout=Layout(flex='2'), max=1250.0, style=Pro…"
      ]
     },
     "metadata": {},
     "output_type": "display_data"
    },
    {
     "name": "stdout",
     "output_type": "stream",
     "text": [
      "Epoch 1985: train=8.76332, val=8.62511, took 71.571 s\n",
      "  Validation Found 101756 of 108007, added 5413 (eff 94.21%) (0.271 FP/event)\n",
      "Result epoch:  1985\n",
      "Average Eff:  0\n",
      "Average FP Rate:  0\n"
     ]
    },
    {
     "data": {
      "application/vnd.jupyter.widget-view+json": {
       "model_id": "",
       "version_major": 2,
       "version_minor": 0
      },
      "text/plain": [
       "HBox(children=(FloatProgress(value=0.0, description='Training', layout=Layout(flex='2'), max=1250.0, style=Pro…"
      ]
     },
     "metadata": {},
     "output_type": "display_data"
    },
    {
     "name": "stdout",
     "output_type": "stream",
     "text": [
      "Epoch 1986: train=8.75594, val=8.61414, took 70.515 s\n",
      "  Validation Found 101791 of 108007, added 5504 (eff 94.24%) (0.275 FP/event)\n",
      "Result epoch:  1986\n",
      "Average Eff:  0\n",
      "Average FP Rate:  0\n"
     ]
    },
    {
     "data": {
      "application/vnd.jupyter.widget-view+json": {
       "model_id": "",
       "version_major": 2,
       "version_minor": 0
      },
      "text/plain": [
       "HBox(children=(FloatProgress(value=0.0, description='Training', layout=Layout(flex='2'), max=1250.0, style=Pro…"
      ]
     },
     "metadata": {},
     "output_type": "display_data"
    },
    {
     "name": "stdout",
     "output_type": "stream",
     "text": [
      "Epoch 1987: train=8.75726, val=8.62537, took 71.427 s\n",
      "  Validation Found 101622 of 108007, added 5242 (eff 94.09%) (0.262 FP/event)\n",
      "Result epoch:  1987\n",
      "Average Eff:  0\n",
      "Average FP Rate:  0\n"
     ]
    },
    {
     "data": {
      "application/vnd.jupyter.widget-view+json": {
       "model_id": "",
       "version_major": 2,
       "version_minor": 0
      },
      "text/plain": [
       "HBox(children=(FloatProgress(value=0.0, description='Training', layout=Layout(flex='2'), max=1250.0, style=Pro…"
      ]
     },
     "metadata": {},
     "output_type": "display_data"
    },
    {
     "name": "stdout",
     "output_type": "stream",
     "text": [
      "Epoch 1988: train=8.76142, val=8.62272, took 70.137 s\n",
      "  Validation Found 101677 of 108007, added 5301 (eff 94.14%) (0.265 FP/event)\n",
      "Result epoch:  1988\n",
      "Average Eff:  0\n",
      "Average FP Rate:  0\n"
     ]
    },
    {
     "data": {
      "application/vnd.jupyter.widget-view+json": {
       "model_id": "",
       "version_major": 2,
       "version_minor": 0
      },
      "text/plain": [
       "HBox(children=(FloatProgress(value=0.0, description='Training', layout=Layout(flex='2'), max=1250.0, style=Pro…"
      ]
     },
     "metadata": {},
     "output_type": "display_data"
    },
    {
     "name": "stdout",
     "output_type": "stream",
     "text": [
      "Epoch 1989: train=8.76475, val=8.63239, took 69.909 s\n",
      "  Validation Found 101667 of 108007, added 5319 (eff 94.13%) (0.266 FP/event)\n",
      "Result epoch:  1989\n",
      "Average Eff:  0\n",
      "Average FP Rate:  0\n"
     ]
    },
    {
     "data": {
      "application/vnd.jupyter.widget-view+json": {
       "model_id": "",
       "version_major": 2,
       "version_minor": 0
      },
      "text/plain": [
       "HBox(children=(FloatProgress(value=0.0, description='Training', layout=Layout(flex='2'), max=1250.0, style=Pro…"
      ]
     },
     "metadata": {},
     "output_type": "display_data"
    },
    {
     "name": "stdout",
     "output_type": "stream",
     "text": [
      "Epoch 1990: train=8.76511, val=8.62009, took 70.397 s\n",
      "  Validation Found 101737 of 108007, added 5400 (eff 94.19%) (0.27 FP/event)\n",
      "Result epoch:  1990\n",
      "Average Eff:  0\n",
      "Average FP Rate:  0\n"
     ]
    },
    {
     "data": {
      "application/vnd.jupyter.widget-view+json": {
       "model_id": "",
       "version_major": 2,
       "version_minor": 0
      },
      "text/plain": [
       "HBox(children=(FloatProgress(value=0.0, description='Training', layout=Layout(flex='2'), max=1250.0, style=Pro…"
      ]
     },
     "metadata": {},
     "output_type": "display_data"
    },
    {
     "name": "stdout",
     "output_type": "stream",
     "text": [
      "Epoch 1991: train=8.76103, val=8.62577, took 70.192 s\n",
      "  Validation Found 101783 of 108007, added 5454 (eff 94.24%) (0.273 FP/event)\n",
      "Result epoch:  1991\n",
      "Average Eff:  0\n",
      "Average FP Rate:  0\n"
     ]
    },
    {
     "data": {
      "application/vnd.jupyter.widget-view+json": {
       "model_id": "",
       "version_major": 2,
       "version_minor": 0
      },
      "text/plain": [
       "HBox(children=(FloatProgress(value=0.0, description='Training', layout=Layout(flex='2'), max=1250.0, style=Pro…"
      ]
     },
     "metadata": {},
     "output_type": "display_data"
    },
    {
     "name": "stdout",
     "output_type": "stream",
     "text": [
      "Epoch 1992: train=8.76136, val=8.61805, took 70.185 s\n",
      "  Validation Found 101746 of 108007, added 5415 (eff 94.20%) (0.271 FP/event)\n",
      "Result epoch:  1992\n",
      "Average Eff:  0\n",
      "Average FP Rate:  0\n"
     ]
    },
    {
     "data": {
      "application/vnd.jupyter.widget-view+json": {
       "model_id": "",
       "version_major": 2,
       "version_minor": 0
      },
      "text/plain": [
       "HBox(children=(FloatProgress(value=0.0, description='Training', layout=Layout(flex='2'), max=1250.0, style=Pro…"
      ]
     },
     "metadata": {},
     "output_type": "display_data"
    },
    {
     "name": "stdout",
     "output_type": "stream",
     "text": [
      "Epoch 1993: train=8.76666, val=8.62857, took 70.609 s\n",
      "  Validation Found 101685 of 108007, added 5304 (eff 94.15%) (0.265 FP/event)\n",
      "Result epoch:  1993\n",
      "Average Eff:  0\n",
      "Average FP Rate:  0\n"
     ]
    },
    {
     "data": {
      "application/vnd.jupyter.widget-view+json": {
       "model_id": "",
       "version_major": 2,
       "version_minor": 0
      },
      "text/plain": [
       "HBox(children=(FloatProgress(value=0.0, description='Training', layout=Layout(flex='2'), max=1250.0, style=Pro…"
      ]
     },
     "metadata": {},
     "output_type": "display_data"
    },
    {
     "name": "stdout",
     "output_type": "stream",
     "text": [
      "Epoch 1994: train=8.76142, val=8.62683, took 70.426 s\n",
      "  Validation Found 101739 of 108007, added 5388 (eff 94.20%) (0.269 FP/event)\n",
      "Result epoch:  1994\n",
      "Average Eff:  0\n",
      "Average FP Rate:  0\n"
     ]
    },
    {
     "data": {
      "application/vnd.jupyter.widget-view+json": {
       "model_id": "",
       "version_major": 2,
       "version_minor": 0
      },
      "text/plain": [
       "HBox(children=(FloatProgress(value=0.0, description='Training', layout=Layout(flex='2'), max=1250.0, style=Pro…"
      ]
     },
     "metadata": {},
     "output_type": "display_data"
    },
    {
     "name": "stdout",
     "output_type": "stream",
     "text": [
      "Epoch 1995: train=8.76167, val=8.61778, took 71.804 s\n",
      "  Validation Found 101739 of 108007, added 5430 (eff 94.20%) (0.271 FP/event)\n",
      "Result epoch:  1995\n",
      "Average Eff:  0\n",
      "Average FP Rate:  0\n"
     ]
    },
    {
     "data": {
      "application/vnd.jupyter.widget-view+json": {
       "model_id": "",
       "version_major": 2,
       "version_minor": 0
      },
      "text/plain": [
       "HBox(children=(FloatProgress(value=0.0, description='Training', layout=Layout(flex='2'), max=1250.0, style=Pro…"
      ]
     },
     "metadata": {},
     "output_type": "display_data"
    },
    {
     "name": "stdout",
     "output_type": "stream",
     "text": [
      "Epoch 1996: train=8.75762, val=8.62435, took 70.675 s\n",
      "  Validation Found 101709 of 108007, added 5364 (eff 94.17%) (0.268 FP/event)\n",
      "Result epoch:  1996\n",
      "Average Eff:  0\n",
      "Average FP Rate:  0\n"
     ]
    },
    {
     "data": {
      "application/vnd.jupyter.widget-view+json": {
       "model_id": "",
       "version_major": 2,
       "version_minor": 0
      },
      "text/plain": [
       "HBox(children=(FloatProgress(value=0.0, description='Training', layout=Layout(flex='2'), max=1250.0, style=Pro…"
      ]
     },
     "metadata": {},
     "output_type": "display_data"
    },
    {
     "name": "stdout",
     "output_type": "stream",
     "text": [
      "Epoch 1997: train=8.76274, val=8.62496, took 71.121 s\n",
      "  Validation Found 101721 of 108007, added 5376 (eff 94.18%) (0.269 FP/event)\n",
      "Result epoch:  1997\n",
      "Average Eff:  0\n",
      "Average FP Rate:  0\n"
     ]
    },
    {
     "data": {
      "application/vnd.jupyter.widget-view+json": {
       "model_id": "",
       "version_major": 2,
       "version_minor": 0
      },
      "text/plain": [
       "HBox(children=(FloatProgress(value=0.0, description='Training', layout=Layout(flex='2'), max=1250.0, style=Pro…"
      ]
     },
     "metadata": {},
     "output_type": "display_data"
    },
    {
     "name": "stdout",
     "output_type": "stream",
     "text": [
      "Epoch 1998: train=8.76022, val=8.62009, took 71.505 s\n",
      "  Validation Found 101735 of 108007, added 5392 (eff 94.19%) (0.27 FP/event)\n",
      "Result epoch:  1998\n",
      "Average Eff:  0\n",
      "Average FP Rate:  0\n"
     ]
    },
    {
     "data": {
      "application/vnd.jupyter.widget-view+json": {
       "model_id": "",
       "version_major": 2,
       "version_minor": 0
      },
      "text/plain": [
       "HBox(children=(FloatProgress(value=0.0, description='Training', layout=Layout(flex='2'), max=1250.0, style=Pro…"
      ]
     },
     "metadata": {},
     "output_type": "display_data"
    },
    {
     "name": "stdout",
     "output_type": "stream",
     "text": [
      "Epoch 1999: train=8.75924, val=8.6249, took 72.088 s\n",
      "  Validation Found 101709 of 108007, added 5371 (eff 94.17%) (0.269 FP/event)\n",
      "Result epoch:  1999\n",
      "Average Eff:  0\n",
      "Average FP Rate:  0\n"
     ]
    },
    {
     "data": {
      "application/vnd.jupyter.widget-view+json": {
       "model_id": "",
       "version_major": 2,
       "version_minor": 0
      },
      "text/plain": [
       "HBox(children=(FloatProgress(value=0.0, description='Training', layout=Layout(flex='2'), max=1250.0, style=Pro…"
      ]
     },
     "metadata": {},
     "output_type": "display_data"
    },
    {
     "name": "stdout",
     "output_type": "stream",
     "text": [
      "Epoch 2000: train=8.76419, val=8.62307, took 71.503 s\n",
      "  Validation Found 101723 of 108007, added 5375 (eff 94.18%) (0.269 FP/event)\n",
      "Result epoch:  2000\n",
      "Average Eff:  0\n",
      "Average FP Rate:  0\n"
     ]
    },
    {
     "data": {
      "application/vnd.jupyter.widget-view+json": {
       "model_id": "",
       "version_major": 2,
       "version_minor": 0
      },
      "text/plain": [
       "HBox(children=(FloatProgress(value=0.0, description='Training', layout=Layout(flex='2'), max=1250.0, style=Pro…"
      ]
     },
     "metadata": {},
     "output_type": "display_data"
    },
    {
     "name": "stdout",
     "output_type": "stream",
     "text": [
      "Epoch 2001: train=8.76026, val=8.61688, took 72.617 s\n",
      "  Validation Found 101749 of 108007, added 5414 (eff 94.21%) (0.271 FP/event)\n",
      "Result epoch:  2001\n",
      "Average Eff:  0\n",
      "Average FP Rate:  0\n"
     ]
    },
    {
     "data": {
      "application/vnd.jupyter.widget-view+json": {
       "model_id": "",
       "version_major": 2,
       "version_minor": 0
      },
      "text/plain": [
       "HBox(children=(FloatProgress(value=0.0, description='Training', layout=Layout(flex='2'), max=1250.0, style=Pro…"
      ]
     },
     "metadata": {},
     "output_type": "display_data"
    },
    {
     "name": "stdout",
     "output_type": "stream",
     "text": [
      "Epoch 2002: train=8.75703, val=8.62362, took 71.984 s\n",
      "  Validation Found 101711 of 108007, added 5383 (eff 94.17%) (0.269 FP/event)\n",
      "Result epoch:  2002\n",
      "Average Eff:  0\n",
      "Average FP Rate:  0\n"
     ]
    },
    {
     "data": {
      "application/vnd.jupyter.widget-view+json": {
       "model_id": "",
       "version_major": 2,
       "version_minor": 0
      },
      "text/plain": [
       "HBox(children=(FloatProgress(value=0.0, description='Training', layout=Layout(flex='2'), max=1250.0, style=Pro…"
      ]
     },
     "metadata": {},
     "output_type": "display_data"
    },
    {
     "name": "stdout",
     "output_type": "stream",
     "text": [
      "Epoch 2003: train=8.75817, val=8.61763, took 70.94 s\n",
      "  Validation Found 101688 of 108007, added 5313 (eff 94.15%) (0.266 FP/event)\n",
      "Result epoch:  2003\n",
      "Average Eff:  0\n",
      "Average FP Rate:  0\n"
     ]
    },
    {
     "data": {
      "application/vnd.jupyter.widget-view+json": {
       "model_id": "",
       "version_major": 2,
       "version_minor": 0
      },
      "text/plain": [
       "HBox(children=(FloatProgress(value=0.0, description='Training', layout=Layout(flex='2'), max=1250.0, style=Pro…"
      ]
     },
     "metadata": {},
     "output_type": "display_data"
    },
    {
     "name": "stdout",
     "output_type": "stream",
     "text": [
      "Epoch 2004: train=8.75928, val=8.63106, took 71.863 s\n",
      "  Validation Found 101808 of 108007, added 5521 (eff 94.26%) (0.276 FP/event)\n",
      "Result epoch:  2004\n",
      "Average Eff:  0\n",
      "Average FP Rate:  0\n"
     ]
    },
    {
     "data": {
      "application/vnd.jupyter.widget-view+json": {
       "model_id": "",
       "version_major": 2,
       "version_minor": 0
      },
      "text/plain": [
       "HBox(children=(FloatProgress(value=0.0, description='Training', layout=Layout(flex='2'), max=1250.0, style=Pro…"
      ]
     },
     "metadata": {},
     "output_type": "display_data"
    },
    {
     "name": "stdout",
     "output_type": "stream",
     "text": [
      "Epoch 2005: train=8.75552, val=8.6304, took 70.831 s\n",
      "  Validation Found 101632 of 108007, added 5262 (eff 94.10%) (0.263 FP/event)\n",
      "Result epoch:  2005\n",
      "Average Eff:  0\n",
      "Average FP Rate:  0\n"
     ]
    },
    {
     "data": {
      "application/vnd.jupyter.widget-view+json": {
       "model_id": "",
       "version_major": 2,
       "version_minor": 0
      },
      "text/plain": [
       "HBox(children=(FloatProgress(value=0.0, description='Training', layout=Layout(flex='2'), max=1250.0, style=Pro…"
      ]
     },
     "metadata": {},
     "output_type": "display_data"
    },
    {
     "name": "stdout",
     "output_type": "stream",
     "text": [
      "Epoch 2006: train=8.75937, val=8.62317, took 72.33 s\n",
      "  Validation Found 101723 of 108007, added 5374 (eff 94.18%) (0.269 FP/event)\n",
      "Result epoch:  2006\n",
      "Average Eff:  0\n",
      "Average FP Rate:  0\n"
     ]
    },
    {
     "data": {
      "application/vnd.jupyter.widget-view+json": {
       "model_id": "",
       "version_major": 2,
       "version_minor": 0
      },
      "text/plain": [
       "HBox(children=(FloatProgress(value=0.0, description='Training', layout=Layout(flex='2'), max=1250.0, style=Pro…"
      ]
     },
     "metadata": {},
     "output_type": "display_data"
    },
    {
     "name": "stdout",
     "output_type": "stream",
     "text": [
      "Epoch 2007: train=8.75964, val=8.63044, took 71.411 s\n",
      "  Validation Found 101725 of 108007, added 5388 (eff 94.18%) (0.269 FP/event)\n",
      "Result epoch:  2007\n",
      "Average Eff:  0\n",
      "Average FP Rate:  0\n"
     ]
    },
    {
     "data": {
      "application/vnd.jupyter.widget-view+json": {
       "model_id": "",
       "version_major": 2,
       "version_minor": 0
      },
      "text/plain": [
       "HBox(children=(FloatProgress(value=0.0, description='Training', layout=Layout(flex='2'), max=1250.0, style=Pro…"
      ]
     },
     "metadata": {},
     "output_type": "display_data"
    },
    {
     "name": "stdout",
     "output_type": "stream",
     "text": [
      "Epoch 2008: train=8.75689, val=8.62721, took 70.209 s\n",
      "  Validation Found 101728 of 108007, added 5387 (eff 94.19%) (0.269 FP/event)\n",
      "Result epoch:  2008\n",
      "Average Eff:  0\n",
      "Average FP Rate:  0\n"
     ]
    },
    {
     "data": {
      "application/vnd.jupyter.widget-view+json": {
       "model_id": "",
       "version_major": 2,
       "version_minor": 0
      },
      "text/plain": [
       "HBox(children=(FloatProgress(value=0.0, description='Training', layout=Layout(flex='2'), max=1250.0, style=Pro…"
      ]
     },
     "metadata": {},
     "output_type": "display_data"
    },
    {
     "name": "stdout",
     "output_type": "stream",
     "text": [
      "Epoch 2009: train=8.76156, val=8.62076, took 72.37 s\n",
      "  Validation Found 101770 of 108007, added 5476 (eff 94.23%) (0.274 FP/event)\n",
      "Result epoch:  2009\n",
      "Average Eff:  0\n",
      "Average FP Rate:  0\n"
     ]
    },
    {
     "data": {
      "application/vnd.jupyter.widget-view+json": {
       "model_id": "",
       "version_major": 2,
       "version_minor": 0
      },
      "text/plain": [
       "HBox(children=(FloatProgress(value=0.0, description='Training', layout=Layout(flex='2'), max=1250.0, style=Pro…"
      ]
     },
     "metadata": {},
     "output_type": "display_data"
    },
    {
     "name": "stdout",
     "output_type": "stream",
     "text": [
      "Epoch 2010: train=8.75433, val=8.63123, took 70.484 s\n",
      "  Validation Found 101671 of 108007, added 5299 (eff 94.13%) (0.265 FP/event)\n",
      "Result epoch:  2010\n",
      "Average Eff:  0\n",
      "Average FP Rate:  0\n"
     ]
    },
    {
     "data": {
      "application/vnd.jupyter.widget-view+json": {
       "model_id": "",
       "version_major": 2,
       "version_minor": 0
      },
      "text/plain": [
       "HBox(children=(FloatProgress(value=0.0, description='Training', layout=Layout(flex='2'), max=1250.0, style=Pro…"
      ]
     },
     "metadata": {},
     "output_type": "display_data"
    },
    {
     "name": "stdout",
     "output_type": "stream",
     "text": [
      "Epoch 2011: train=8.75626, val=8.61736, took 70.314 s\n",
      "  Validation Found 101667 of 108007, added 5289 (eff 94.13%) (0.264 FP/event)\n",
      "Result epoch:  2011\n",
      "Average Eff:  0\n",
      "Average FP Rate:  0\n"
     ]
    },
    {
     "data": {
      "application/vnd.jupyter.widget-view+json": {
       "model_id": "",
       "version_major": 2,
       "version_minor": 0
      },
      "text/plain": [
       "HBox(children=(FloatProgress(value=0.0, description='Training', layout=Layout(flex='2'), max=1250.0, style=Pro…"
      ]
     },
     "metadata": {},
     "output_type": "display_data"
    },
    {
     "name": "stdout",
     "output_type": "stream",
     "text": [
      "Epoch 2012: train=8.76262, val=8.62682, took 71.307 s\n",
      "  Validation Found 101654 of 108007, added 5286 (eff 94.12%) (0.264 FP/event)\n",
      "Result epoch:  2012\n",
      "Average Eff:  0\n",
      "Average FP Rate:  0\n"
     ]
    },
    {
     "data": {
      "application/vnd.jupyter.widget-view+json": {
       "model_id": "",
       "version_major": 2,
       "version_minor": 0
      },
      "text/plain": [
       "HBox(children=(FloatProgress(value=0.0, description='Training', layout=Layout(flex='2'), max=1250.0, style=Pro…"
      ]
     },
     "metadata": {},
     "output_type": "display_data"
    },
    {
     "name": "stdout",
     "output_type": "stream",
     "text": [
      "Epoch 2013: train=8.75803, val=8.62187, took 71.577 s\n",
      "  Validation Found 101725 of 108007, added 5378 (eff 94.18%) (0.269 FP/event)\n",
      "Result epoch:  2013\n",
      "Average Eff:  0\n",
      "Average FP Rate:  0\n"
     ]
    },
    {
     "data": {
      "application/vnd.jupyter.widget-view+json": {
       "model_id": "",
       "version_major": 2,
       "version_minor": 0
      },
      "text/plain": [
       "HBox(children=(FloatProgress(value=0.0, description='Training', layout=Layout(flex='2'), max=1250.0, style=Pro…"
      ]
     },
     "metadata": {},
     "output_type": "display_data"
    },
    {
     "name": "stdout",
     "output_type": "stream",
     "text": [
      "Epoch 2014: train=8.75907, val=8.62338, took 70.85 s\n",
      "  Validation Found 101750 of 108007, added 5430 (eff 94.21%) (0.271 FP/event)\n",
      "Result epoch:  2014\n",
      "Average Eff:  0\n",
      "Average FP Rate:  0\n"
     ]
    },
    {
     "data": {
      "application/vnd.jupyter.widget-view+json": {
       "model_id": "",
       "version_major": 2,
       "version_minor": 0
      },
      "text/plain": [
       "HBox(children=(FloatProgress(value=0.0, description='Training', layout=Layout(flex='2'), max=1250.0, style=Pro…"
      ]
     },
     "metadata": {},
     "output_type": "display_data"
    },
    {
     "name": "stdout",
     "output_type": "stream",
     "text": [
      "Epoch 2015: train=8.76026, val=8.62376, took 71.752 s\n",
      "  Validation Found 101757 of 108007, added 5414 (eff 94.21%) (0.271 FP/event)\n",
      "Result epoch:  2015\n",
      "Average Eff:  0\n",
      "Average FP Rate:  0\n"
     ]
    },
    {
     "data": {
      "application/vnd.jupyter.widget-view+json": {
       "model_id": "",
       "version_major": 2,
       "version_minor": 0
      },
      "text/plain": [
       "HBox(children=(FloatProgress(value=0.0, description='Training', layout=Layout(flex='2'), max=1250.0, style=Pro…"
      ]
     },
     "metadata": {},
     "output_type": "display_data"
    },
    {
     "name": "stdout",
     "output_type": "stream",
     "text": [
      "Epoch 2016: train=8.76182, val=8.62369, took 71.887 s\n",
      "  Validation Found 101747 of 108007, added 5391 (eff 94.20%) (0.27 FP/event)\n",
      "Result epoch:  2016\n",
      "Average Eff:  0\n",
      "Average FP Rate:  0\n"
     ]
    },
    {
     "data": {
      "application/vnd.jupyter.widget-view+json": {
       "model_id": "",
       "version_major": 2,
       "version_minor": 0
      },
      "text/plain": [
       "HBox(children=(FloatProgress(value=0.0, description='Training', layout=Layout(flex='2'), max=1250.0, style=Pro…"
      ]
     },
     "metadata": {},
     "output_type": "display_data"
    },
    {
     "name": "stdout",
     "output_type": "stream",
     "text": [
      "Epoch 2017: train=8.76006, val=8.62765, took 71.918 s\n",
      "  Validation Found 101843 of 108007, added 5641 (eff 94.29%) (0.282 FP/event)\n",
      "Result epoch:  2017\n",
      "Average Eff:  0\n",
      "Average FP Rate:  0\n"
     ]
    },
    {
     "data": {
      "application/vnd.jupyter.widget-view+json": {
       "model_id": "",
       "version_major": 2,
       "version_minor": 0
      },
      "text/plain": [
       "HBox(children=(FloatProgress(value=0.0, description='Training', layout=Layout(flex='2'), max=1250.0, style=Pro…"
      ]
     },
     "metadata": {},
     "output_type": "display_data"
    },
    {
     "name": "stdout",
     "output_type": "stream",
     "text": [
      "Epoch 2018: train=8.75551, val=8.62871, took 71.443 s\n",
      "  Validation Found 101624 of 108007, added 5250 (eff 94.09%) (0.262 FP/event)\n",
      "Result epoch:  2018\n",
      "Average Eff:  0\n",
      "Average FP Rate:  0\n"
     ]
    },
    {
     "data": {
      "application/vnd.jupyter.widget-view+json": {
       "model_id": "",
       "version_major": 2,
       "version_minor": 0
      },
      "text/plain": [
       "HBox(children=(FloatProgress(value=0.0, description='Training', layout=Layout(flex='2'), max=1250.0, style=Pro…"
      ]
     },
     "metadata": {},
     "output_type": "display_data"
    },
    {
     "name": "stdout",
     "output_type": "stream",
     "text": [
      "Epoch 2019: train=8.76303, val=8.637, took 70.012 s\n",
      "  Validation Found 101608 of 108007, added 5229 (eff 94.08%) (0.261 FP/event)\n",
      "Result epoch:  2019\n",
      "Average Eff:  0\n",
      "Average FP Rate:  0\n"
     ]
    },
    {
     "data": {
      "application/vnd.jupyter.widget-view+json": {
       "model_id": "",
       "version_major": 2,
       "version_minor": 0
      },
      "text/plain": [
       "HBox(children=(FloatProgress(value=0.0, description='Training', layout=Layout(flex='2'), max=1250.0, style=Pro…"
      ]
     },
     "metadata": {},
     "output_type": "display_data"
    },
    {
     "name": "stdout",
     "output_type": "stream",
     "text": [
      "Epoch 2020: train=8.75394, val=8.62226, took 70.538 s\n",
      "  Validation Found 101762 of 108007, added 5425 (eff 94.22%) (0.271 FP/event)\n",
      "Result epoch:  2020\n",
      "Average Eff:  0\n",
      "Average FP Rate:  0\n"
     ]
    },
    {
     "data": {
      "application/vnd.jupyter.widget-view+json": {
       "model_id": "",
       "version_major": 2,
       "version_minor": 0
      },
      "text/plain": [
       "HBox(children=(FloatProgress(value=0.0, description='Training', layout=Layout(flex='2'), max=1250.0, style=Pro…"
      ]
     },
     "metadata": {},
     "output_type": "display_data"
    },
    {
     "name": "stdout",
     "output_type": "stream",
     "text": [
      "Epoch 2021: train=8.75415, val=8.62375, took 71.447 s\n",
      "  Validation Found 101723 of 108007, added 5368 (eff 94.18%) (0.268 FP/event)\n",
      "Result epoch:  2021\n",
      "Average Eff:  0\n",
      "Average FP Rate:  0\n"
     ]
    },
    {
     "data": {
      "application/vnd.jupyter.widget-view+json": {
       "model_id": "",
       "version_major": 2,
       "version_minor": 0
      },
      "text/plain": [
       "HBox(children=(FloatProgress(value=0.0, description='Training', layout=Layout(flex='2'), max=1250.0, style=Pro…"
      ]
     },
     "metadata": {},
     "output_type": "display_data"
    },
    {
     "name": "stdout",
     "output_type": "stream",
     "text": [
      "Epoch 2022: train=8.7567, val=8.63059, took 70.729 s\n",
      "  Validation Found 101689 of 108007, added 5341 (eff 94.15%) (0.267 FP/event)\n",
      "Result epoch:  2022\n",
      "Average Eff:  0\n",
      "Average FP Rate:  0\n"
     ]
    },
    {
     "data": {
      "application/vnd.jupyter.widget-view+json": {
       "model_id": "",
       "version_major": 2,
       "version_minor": 0
      },
      "text/plain": [
       "HBox(children=(FloatProgress(value=0.0, description='Training', layout=Layout(flex='2'), max=1250.0, style=Pro…"
      ]
     },
     "metadata": {},
     "output_type": "display_data"
    },
    {
     "name": "stdout",
     "output_type": "stream",
     "text": [
      "Epoch 2023: train=8.76058, val=8.62607, took 71.662 s\n",
      "  Validation Found 101800 of 108007, added 5518 (eff 94.25%) (0.276 FP/event)\n",
      "Result epoch:  2023\n",
      "Average Eff:  0\n",
      "Average FP Rate:  0\n"
     ]
    },
    {
     "data": {
      "application/vnd.jupyter.widget-view+json": {
       "model_id": "",
       "version_major": 2,
       "version_minor": 0
      },
      "text/plain": [
       "HBox(children=(FloatProgress(value=0.0, description='Training', layout=Layout(flex='2'), max=1250.0, style=Pro…"
      ]
     },
     "metadata": {},
     "output_type": "display_data"
    },
    {
     "name": "stdout",
     "output_type": "stream",
     "text": [
      "Epoch 2024: train=8.75742, val=8.63104, took 70.656 s\n",
      "  Validation Found 101723 of 108007, added 5374 (eff 94.18%) (0.269 FP/event)\n",
      "Result epoch:  2024\n",
      "Average Eff:  0\n",
      "Average FP Rate:  0\n"
     ]
    },
    {
     "data": {
      "application/vnd.jupyter.widget-view+json": {
       "model_id": "",
       "version_major": 2,
       "version_minor": 0
      },
      "text/plain": [
       "HBox(children=(FloatProgress(value=0.0, description='Training', layout=Layout(flex='2'), max=1250.0, style=Pro…"
      ]
     },
     "metadata": {},
     "output_type": "display_data"
    },
    {
     "name": "stdout",
     "output_type": "stream",
     "text": [
      "Epoch 2025: train=8.75603, val=8.63149, took 71.999 s\n",
      "  Validation Found 101804 of 108007, added 5518 (eff 94.26%) (0.276 FP/event)\n",
      "Result epoch:  2025\n",
      "Average Eff:  0\n",
      "Average FP Rate:  0\n"
     ]
    },
    {
     "data": {
      "application/vnd.jupyter.widget-view+json": {
       "model_id": "",
       "version_major": 2,
       "version_minor": 0
      },
      "text/plain": [
       "HBox(children=(FloatProgress(value=0.0, description='Training', layout=Layout(flex='2'), max=1250.0, style=Pro…"
      ]
     },
     "metadata": {},
     "output_type": "display_data"
    },
    {
     "name": "stdout",
     "output_type": "stream",
     "text": [
      "Epoch 2026: train=8.75797, val=8.63223, took 71.494 s\n",
      "  Validation Found 101801 of 108007, added 5511 (eff 94.25%) (0.276 FP/event)\n",
      "Result epoch:  2026\n",
      "Average Eff:  0\n",
      "Average FP Rate:  0\n"
     ]
    },
    {
     "data": {
      "application/vnd.jupyter.widget-view+json": {
       "model_id": "",
       "version_major": 2,
       "version_minor": 0
      },
      "text/plain": [
       "HBox(children=(FloatProgress(value=0.0, description='Training', layout=Layout(flex='2'), max=1250.0, style=Pro…"
      ]
     },
     "metadata": {},
     "output_type": "display_data"
    },
    {
     "name": "stdout",
     "output_type": "stream",
     "text": [
      "Epoch 2027: train=8.75505, val=8.61685, took 70.551 s\n",
      "  Validation Found 101778 of 108007, added 5477 (eff 94.23%) (0.274 FP/event)\n",
      "Result epoch:  2027\n",
      "Average Eff:  0\n",
      "Average FP Rate:  0\n"
     ]
    },
    {
     "data": {
      "application/vnd.jupyter.widget-view+json": {
       "model_id": "",
       "version_major": 2,
       "version_minor": 0
      },
      "text/plain": [
       "HBox(children=(FloatProgress(value=0.0, description='Training', layout=Layout(flex='2'), max=1250.0, style=Pro…"
      ]
     },
     "metadata": {},
     "output_type": "display_data"
    },
    {
     "name": "stdout",
     "output_type": "stream",
     "text": [
      "Epoch 2028: train=8.75868, val=8.63227, took 70.919 s\n",
      "  Validation Found 101573 of 108007, added 5178 (eff 94.04%) (0.259 FP/event)\n",
      "Result epoch:  2028\n",
      "Average Eff:  0\n",
      "Average FP Rate:  0\n"
     ]
    },
    {
     "data": {
      "application/vnd.jupyter.widget-view+json": {
       "model_id": "",
       "version_major": 2,
       "version_minor": 0
      },
      "text/plain": [
       "HBox(children=(FloatProgress(value=0.0, description='Training', layout=Layout(flex='2'), max=1250.0, style=Pro…"
      ]
     },
     "metadata": {},
     "output_type": "display_data"
    },
    {
     "name": "stdout",
     "output_type": "stream",
     "text": [
      "Epoch 2029: train=8.75828, val=8.63251, took 71.777 s\n",
      "  Validation Found 101638 of 108007, added 5251 (eff 94.10%) (0.263 FP/event)\n",
      "Result epoch:  2029\n",
      "Average Eff:  0\n",
      "Average FP Rate:  0\n"
     ]
    },
    {
     "data": {
      "application/vnd.jupyter.widget-view+json": {
       "model_id": "",
       "version_major": 2,
       "version_minor": 0
      },
      "text/plain": [
       "HBox(children=(FloatProgress(value=0.0, description='Training', layout=Layout(flex='2'), max=1250.0, style=Pro…"
      ]
     },
     "metadata": {},
     "output_type": "display_data"
    },
    {
     "name": "stdout",
     "output_type": "stream",
     "text": [
      "Epoch 2030: train=8.76048, val=8.63005, took 72.071 s\n",
      "  Validation Found 101757 of 108007, added 5432 (eff 94.21%) (0.272 FP/event)\n",
      "Result epoch:  2030\n",
      "Average Eff:  0\n",
      "Average FP Rate:  0\n"
     ]
    },
    {
     "data": {
      "application/vnd.jupyter.widget-view+json": {
       "model_id": "",
       "version_major": 2,
       "version_minor": 0
      },
      "text/plain": [
       "HBox(children=(FloatProgress(value=0.0, description='Training', layout=Layout(flex='2'), max=1250.0, style=Pro…"
      ]
     },
     "metadata": {},
     "output_type": "display_data"
    },
    {
     "name": "stdout",
     "output_type": "stream",
     "text": [
      "Epoch 2031: train=8.75632, val=8.62304, took 70.932 s\n",
      "  Validation Found 101688 of 108007, added 5322 (eff 94.15%) (0.266 FP/event)\n",
      "Result epoch:  2031\n",
      "Average Eff:  0\n",
      "Average FP Rate:  0\n"
     ]
    },
    {
     "data": {
      "application/vnd.jupyter.widget-view+json": {
       "model_id": "",
       "version_major": 2,
       "version_minor": 0
      },
      "text/plain": [
       "HBox(children=(FloatProgress(value=0.0, description='Training', layout=Layout(flex='2'), max=1250.0, style=Pro…"
      ]
     },
     "metadata": {},
     "output_type": "display_data"
    },
    {
     "name": "stdout",
     "output_type": "stream",
     "text": [
      "Epoch 2032: train=8.75293, val=8.62146, took 71.347 s\n",
      "  Validation Found 101791 of 108007, added 5495 (eff 94.24%) (0.275 FP/event)\n",
      "Result epoch:  2032\n",
      "Average Eff:  0\n",
      "Average FP Rate:  0\n"
     ]
    },
    {
     "data": {
      "application/vnd.jupyter.widget-view+json": {
       "model_id": "",
       "version_major": 2,
       "version_minor": 0
      },
      "text/plain": [
       "HBox(children=(FloatProgress(value=0.0, description='Training', layout=Layout(flex='2'), max=1250.0, style=Pro…"
      ]
     },
     "metadata": {},
     "output_type": "display_data"
    },
    {
     "name": "stdout",
     "output_type": "stream",
     "text": [
      "Epoch 2033: train=8.76068, val=8.62294, took 71.144 s\n",
      "  Validation Found 101706 of 108007, added 5328 (eff 94.17%) (0.266 FP/event)\n",
      "Result epoch:  2033\n",
      "Average Eff:  0\n",
      "Average FP Rate:  0\n"
     ]
    },
    {
     "data": {
      "application/vnd.jupyter.widget-view+json": {
       "model_id": "",
       "version_major": 2,
       "version_minor": 0
      },
      "text/plain": [
       "HBox(children=(FloatProgress(value=0.0, description='Training', layout=Layout(flex='2'), max=1250.0, style=Pro…"
      ]
     },
     "metadata": {},
     "output_type": "display_data"
    },
    {
     "name": "stdout",
     "output_type": "stream",
     "text": [
      "Epoch 2034: train=8.75721, val=8.61837, took 71.038 s\n",
      "  Validation Found 101737 of 108007, added 5375 (eff 94.19%) (0.269 FP/event)\n",
      "Result epoch:  2034\n",
      "Average Eff:  0\n",
      "Average FP Rate:  0\n"
     ]
    },
    {
     "data": {
      "application/vnd.jupyter.widget-view+json": {
       "model_id": "",
       "version_major": 2,
       "version_minor": 0
      },
      "text/plain": [
       "HBox(children=(FloatProgress(value=0.0, description='Training', layout=Layout(flex='2'), max=1250.0, style=Pro…"
      ]
     },
     "metadata": {},
     "output_type": "display_data"
    },
    {
     "name": "stdout",
     "output_type": "stream",
     "text": [
      "Epoch 2035: train=8.754, val=8.63055, took 70.76 s\n",
      "  Validation Found 101690 of 108007, added 5323 (eff 94.15%) (0.266 FP/event)\n",
      "Result epoch:  2035\n",
      "Average Eff:  0\n",
      "Average FP Rate:  0\n"
     ]
    },
    {
     "data": {
      "application/vnd.jupyter.widget-view+json": {
       "model_id": "",
       "version_major": 2,
       "version_minor": 0
      },
      "text/plain": [
       "HBox(children=(FloatProgress(value=0.0, description='Training', layout=Layout(flex='2'), max=1250.0, style=Pro…"
      ]
     },
     "metadata": {},
     "output_type": "display_data"
    },
    {
     "name": "stdout",
     "output_type": "stream",
     "text": [
      "Epoch 2036: train=8.76171, val=8.62971, took 70.718 s\n",
      "  Validation Found 101781 of 108007, added 5458 (eff 94.24%) (0.273 FP/event)\n",
      "Result epoch:  2036\n",
      "Average Eff:  0\n",
      "Average FP Rate:  0\n"
     ]
    },
    {
     "data": {
      "application/vnd.jupyter.widget-view+json": {
       "model_id": "",
       "version_major": 2,
       "version_minor": 0
      },
      "text/plain": [
       "HBox(children=(FloatProgress(value=0.0, description='Training', layout=Layout(flex='2'), max=1250.0, style=Pro…"
      ]
     },
     "metadata": {},
     "output_type": "display_data"
    },
    {
     "name": "stdout",
     "output_type": "stream",
     "text": [
      "Epoch 2037: train=8.75447, val=8.61865, took 70.895 s\n",
      "  Validation Found 101773 of 108007, added 5460 (eff 94.23%) (0.273 FP/event)\n",
      "Result epoch:  2037\n",
      "Average Eff:  0\n",
      "Average FP Rate:  0\n"
     ]
    },
    {
     "data": {
      "application/vnd.jupyter.widget-view+json": {
       "model_id": "",
       "version_major": 2,
       "version_minor": 0
      },
      "text/plain": [
       "HBox(children=(FloatProgress(value=0.0, description='Training', layout=Layout(flex='2'), max=1250.0, style=Pro…"
      ]
     },
     "metadata": {},
     "output_type": "display_data"
    },
    {
     "name": "stdout",
     "output_type": "stream",
     "text": [
      "Epoch 2038: train=8.75435, val=8.61954, took 71.686 s\n",
      "  Validation Found 101755 of 108007, added 5432 (eff 94.21%) (0.272 FP/event)\n",
      "Result epoch:  2038\n",
      "Average Eff:  0\n",
      "Average FP Rate:  0\n"
     ]
    },
    {
     "data": {
      "application/vnd.jupyter.widget-view+json": {
       "model_id": "",
       "version_major": 2,
       "version_minor": 0
      },
      "text/plain": [
       "HBox(children=(FloatProgress(value=0.0, description='Training', layout=Layout(flex='2'), max=1250.0, style=Pro…"
      ]
     },
     "metadata": {},
     "output_type": "display_data"
    },
    {
     "name": "stdout",
     "output_type": "stream",
     "text": [
      "Epoch 2039: train=8.76153, val=8.63232, took 70.608 s\n",
      "  Validation Found 101732 of 108007, added 5383 (eff 94.19%) (0.269 FP/event)\n",
      "Result epoch:  2039\n",
      "Average Eff:  0\n",
      "Average FP Rate:  0\n"
     ]
    },
    {
     "data": {
      "application/vnd.jupyter.widget-view+json": {
       "model_id": "",
       "version_major": 2,
       "version_minor": 0
      },
      "text/plain": [
       "HBox(children=(FloatProgress(value=0.0, description='Training', layout=Layout(flex='2'), max=1250.0, style=Pro…"
      ]
     },
     "metadata": {},
     "output_type": "display_data"
    },
    {
     "name": "stdout",
     "output_type": "stream",
     "text": [
      "Epoch 2040: train=8.75922, val=8.6259, took 70.547 s\n",
      "  Validation Found 101716 of 108007, added 5338 (eff 94.18%) (0.267 FP/event)\n",
      "Result epoch:  2040\n",
      "Average Eff:  0\n",
      "Average FP Rate:  0\n"
     ]
    },
    {
     "data": {
      "application/vnd.jupyter.widget-view+json": {
       "model_id": "",
       "version_major": 2,
       "version_minor": 0
      },
      "text/plain": [
       "HBox(children=(FloatProgress(value=0.0, description='Training', layout=Layout(flex='2'), max=1250.0, style=Pro…"
      ]
     },
     "metadata": {},
     "output_type": "display_data"
    },
    {
     "name": "stdout",
     "output_type": "stream",
     "text": [
      "Epoch 2041: train=8.75593, val=8.62109, took 70.32 s\n",
      "  Validation Found 101757 of 108007, added 5444 (eff 94.21%) (0.272 FP/event)\n",
      "Result epoch:  2041\n",
      "Average Eff:  0\n",
      "Average FP Rate:  0\n"
     ]
    },
    {
     "data": {
      "application/vnd.jupyter.widget-view+json": {
       "model_id": "",
       "version_major": 2,
       "version_minor": 0
      },
      "text/plain": [
       "HBox(children=(FloatProgress(value=0.0, description='Training', layout=Layout(flex='2'), max=1250.0, style=Pro…"
      ]
     },
     "metadata": {},
     "output_type": "display_data"
    },
    {
     "name": "stdout",
     "output_type": "stream",
     "text": [
      "Epoch 2042: train=8.75863, val=8.62524, took 70.748 s\n",
      "  Validation Found 101715 of 108007, added 5357 (eff 94.17%) (0.268 FP/event)\n",
      "Result epoch:  2042\n",
      "Average Eff:  0\n",
      "Average FP Rate:  0\n"
     ]
    },
    {
     "data": {
      "application/vnd.jupyter.widget-view+json": {
       "model_id": "",
       "version_major": 2,
       "version_minor": 0
      },
      "text/plain": [
       "HBox(children=(FloatProgress(value=0.0, description='Training', layout=Layout(flex='2'), max=1250.0, style=Pro…"
      ]
     },
     "metadata": {},
     "output_type": "display_data"
    },
    {
     "name": "stdout",
     "output_type": "stream",
     "text": [
      "Epoch 2043: train=8.75894, val=8.61898, took 72.451 s\n",
      "  Validation Found 101752 of 108007, added 5420 (eff 94.21%) (0.271 FP/event)\n",
      "Result epoch:  2043\n",
      "Average Eff:  0\n",
      "Average FP Rate:  0\n"
     ]
    },
    {
     "data": {
      "application/vnd.jupyter.widget-view+json": {
       "model_id": "",
       "version_major": 2,
       "version_minor": 0
      },
      "text/plain": [
       "HBox(children=(FloatProgress(value=0.0, description='Training', layout=Layout(flex='2'), max=1250.0, style=Pro…"
      ]
     },
     "metadata": {},
     "output_type": "display_data"
    },
    {
     "name": "stdout",
     "output_type": "stream",
     "text": [
      "Epoch 2044: train=8.75386, val=8.63796, took 72.196 s\n",
      "  Validation Found 101829 of 108007, added 5615 (eff 94.28%) (0.281 FP/event)\n",
      "Result epoch:  2044\n",
      "Average Eff:  0\n",
      "Average FP Rate:  0\n"
     ]
    },
    {
     "data": {
      "application/vnd.jupyter.widget-view+json": {
       "model_id": "",
       "version_major": 2,
       "version_minor": 0
      },
      "text/plain": [
       "HBox(children=(FloatProgress(value=0.0, description='Training', layout=Layout(flex='2'), max=1250.0, style=Pro…"
      ]
     },
     "metadata": {},
     "output_type": "display_data"
    },
    {
     "name": "stdout",
     "output_type": "stream",
     "text": [
      "Epoch 2045: train=8.7553, val=8.61176, took 71.591 s\n",
      "  Validation Found 101752 of 108007, added 5426 (eff 94.21%) (0.271 FP/event)\n",
      "Result epoch:  2045\n",
      "Average Eff:  0\n",
      "Average FP Rate:  0\n"
     ]
    },
    {
     "data": {
      "application/vnd.jupyter.widget-view+json": {
       "model_id": "",
       "version_major": 2,
       "version_minor": 0
      },
      "text/plain": [
       "HBox(children=(FloatProgress(value=0.0, description='Training', layout=Layout(flex='2'), max=1250.0, style=Pro…"
      ]
     },
     "metadata": {},
     "output_type": "display_data"
    },
    {
     "name": "stdout",
     "output_type": "stream",
     "text": [
      "Epoch 2046: train=8.75659, val=8.61755, took 72.211 s\n",
      "  Validation Found 101817 of 108007, added 5565 (eff 94.27%) (0.278 FP/event)\n",
      "Result epoch:  2046\n",
      "Average Eff:  0\n",
      "Average FP Rate:  0\n"
     ]
    },
    {
     "data": {
      "application/vnd.jupyter.widget-view+json": {
       "model_id": "",
       "version_major": 2,
       "version_minor": 0
      },
      "text/plain": [
       "HBox(children=(FloatProgress(value=0.0, description='Training', layout=Layout(flex='2'), max=1250.0, style=Pro…"
      ]
     },
     "metadata": {},
     "output_type": "display_data"
    },
    {
     "name": "stdout",
     "output_type": "stream",
     "text": [
      "Epoch 2047: train=8.75596, val=8.62794, took 70.757 s\n",
      "  Validation Found 101781 of 108007, added 5477 (eff 94.24%) (0.274 FP/event)\n",
      "Result epoch:  2047\n",
      "Average Eff:  0\n",
      "Average FP Rate:  0\n"
     ]
    },
    {
     "data": {
      "application/vnd.jupyter.widget-view+json": {
       "model_id": "",
       "version_major": 2,
       "version_minor": 0
      },
      "text/plain": [
       "HBox(children=(FloatProgress(value=0.0, description='Training', layout=Layout(flex='2'), max=1250.0, style=Pro…"
      ]
     },
     "metadata": {},
     "output_type": "display_data"
    },
    {
     "name": "stdout",
     "output_type": "stream",
     "text": [
      "Epoch 2048: train=8.75334, val=8.61949, took 71.743 s\n",
      "  Validation Found 101752 of 108007, added 5410 (eff 94.21%) (0.27 FP/event)\n",
      "Result epoch:  2048\n",
      "Average Eff:  0\n",
      "Average FP Rate:  0\n"
     ]
    },
    {
     "data": {
      "application/vnd.jupyter.widget-view+json": {
       "model_id": "",
       "version_major": 2,
       "version_minor": 0
      },
      "text/plain": [
       "HBox(children=(FloatProgress(value=0.0, description='Training', layout=Layout(flex='2'), max=1250.0, style=Pro…"
      ]
     },
     "metadata": {},
     "output_type": "display_data"
    },
    {
     "name": "stdout",
     "output_type": "stream",
     "text": [
      "Epoch 2049: train=8.75726, val=8.61756, took 71.727 s\n",
      "  Validation Found 101768 of 108007, added 5467 (eff 94.22%) (0.273 FP/event)\n",
      "Result epoch:  2049\n",
      "Average Eff:  0\n",
      "Average FP Rate:  0\n"
     ]
    },
    {
     "data": {
      "application/vnd.jupyter.widget-view+json": {
       "model_id": "",
       "version_major": 2,
       "version_minor": 0
      },
      "text/plain": [
       "HBox(children=(FloatProgress(value=0.0, description='Training', layout=Layout(flex='2'), max=1250.0, style=Pro…"
      ]
     },
     "metadata": {},
     "output_type": "display_data"
    },
    {
     "name": "stdout",
     "output_type": "stream",
     "text": [
      "Epoch 2050: train=8.75211, val=8.6258, took 71.378 s\n",
      "  Validation Found 101787 of 108007, added 5484 (eff 94.24%) (0.274 FP/event)\n",
      "Result epoch:  2050\n",
      "Average Eff:  0\n",
      "Average FP Rate:  0\n"
     ]
    },
    {
     "data": {
      "application/vnd.jupyter.widget-view+json": {
       "model_id": "",
       "version_major": 2,
       "version_minor": 0
      },
      "text/plain": [
       "HBox(children=(FloatProgress(value=0.0, description='Training', layout=Layout(flex='2'), max=1250.0, style=Pro…"
      ]
     },
     "metadata": {},
     "output_type": "display_data"
    },
    {
     "name": "stdout",
     "output_type": "stream",
     "text": [
      "Epoch 2051: train=8.75471, val=8.62487, took 72.339 s\n",
      "  Validation Found 101758 of 108007, added 5418 (eff 94.21%) (0.271 FP/event)\n",
      "Result epoch:  2051\n",
      "Average Eff:  0\n",
      "Average FP Rate:  0\n"
     ]
    },
    {
     "data": {
      "application/vnd.jupyter.widget-view+json": {
       "model_id": "",
       "version_major": 2,
       "version_minor": 0
      },
      "text/plain": [
       "HBox(children=(FloatProgress(value=0.0, description='Training', layout=Layout(flex='2'), max=1250.0, style=Pro…"
      ]
     },
     "metadata": {},
     "output_type": "display_data"
    },
    {
     "name": "stdout",
     "output_type": "stream",
     "text": [
      "Epoch 2052: train=8.75649, val=8.62887, took 71.041 s\n",
      "  Validation Found 101674 of 108007, added 5309 (eff 94.14%) (0.265 FP/event)\n",
      "Result epoch:  2052\n",
      "Average Eff:  0\n",
      "Average FP Rate:  0\n"
     ]
    },
    {
     "data": {
      "application/vnd.jupyter.widget-view+json": {
       "model_id": "",
       "version_major": 2,
       "version_minor": 0
      },
      "text/plain": [
       "HBox(children=(FloatProgress(value=0.0, description='Training', layout=Layout(flex='2'), max=1250.0, style=Pro…"
      ]
     },
     "metadata": {},
     "output_type": "display_data"
    },
    {
     "name": "stdout",
     "output_type": "stream",
     "text": [
      "Epoch 2053: train=8.74878, val=8.61912, took 72.275 s\n",
      "  Validation Found 101697 of 108007, added 5293 (eff 94.16%) (0.265 FP/event)\n",
      "Result epoch:  2053\n",
      "Average Eff:  0\n",
      "Average FP Rate:  0\n"
     ]
    },
    {
     "data": {
      "application/vnd.jupyter.widget-view+json": {
       "model_id": "",
       "version_major": 2,
       "version_minor": 0
      },
      "text/plain": [
       "HBox(children=(FloatProgress(value=0.0, description='Training', layout=Layout(flex='2'), max=1250.0, style=Pro…"
      ]
     },
     "metadata": {},
     "output_type": "display_data"
    },
    {
     "name": "stdout",
     "output_type": "stream",
     "text": [
      "Epoch 2054: train=8.75524, val=8.62552, took 71.511 s\n",
      "  Validation Found 101644 of 108007, added 5251 (eff 94.11%) (0.263 FP/event)\n",
      "Result epoch:  2054\n",
      "Average Eff:  0\n",
      "Average FP Rate:  0\n"
     ]
    },
    {
     "data": {
      "application/vnd.jupyter.widget-view+json": {
       "model_id": "",
       "version_major": 2,
       "version_minor": 0
      },
      "text/plain": [
       "HBox(children=(FloatProgress(value=0.0, description='Training', layout=Layout(flex='2'), max=1250.0, style=Pro…"
      ]
     },
     "metadata": {},
     "output_type": "display_data"
    },
    {
     "name": "stdout",
     "output_type": "stream",
     "text": [
      "Epoch 2055: train=8.7564, val=8.62925, took 71.522 s\n",
      "  Validation Found 101790 of 108007, added 5472 (eff 94.24%) (0.274 FP/event)\n",
      "Result epoch:  2055\n",
      "Average Eff:  0\n",
      "Average FP Rate:  0\n"
     ]
    },
    {
     "data": {
      "application/vnd.jupyter.widget-view+json": {
       "model_id": "",
       "version_major": 2,
       "version_minor": 0
      },
      "text/plain": [
       "HBox(children=(FloatProgress(value=0.0, description='Training', layout=Layout(flex='2'), max=1250.0, style=Pro…"
      ]
     },
     "metadata": {},
     "output_type": "display_data"
    },
    {
     "name": "stdout",
     "output_type": "stream",
     "text": [
      "Epoch 2056: train=8.75374, val=8.62598, took 71.311 s\n",
      "  Validation Found 101781 of 108007, added 5448 (eff 94.24%) (0.272 FP/event)\n",
      "Result epoch:  2056\n",
      "Average Eff:  0\n",
      "Average FP Rate:  0\n"
     ]
    },
    {
     "data": {
      "application/vnd.jupyter.widget-view+json": {
       "model_id": "",
       "version_major": 2,
       "version_minor": 0
      },
      "text/plain": [
       "HBox(children=(FloatProgress(value=0.0, description='Training', layout=Layout(flex='2'), max=1250.0, style=Pro…"
      ]
     },
     "metadata": {},
     "output_type": "display_data"
    },
    {
     "name": "stdout",
     "output_type": "stream",
     "text": [
      "Epoch 2057: train=8.75851, val=8.62715, took 71.645 s\n",
      "  Validation Found 101781 of 108007, added 5468 (eff 94.24%) (0.273 FP/event)\n",
      "Result epoch:  2057\n",
      "Average Eff:  0\n",
      "Average FP Rate:  0\n"
     ]
    },
    {
     "data": {
      "application/vnd.jupyter.widget-view+json": {
       "model_id": "",
       "version_major": 2,
       "version_minor": 0
      },
      "text/plain": [
       "HBox(children=(FloatProgress(value=0.0, description='Training', layout=Layout(flex='2'), max=1250.0, style=Pro…"
      ]
     },
     "metadata": {},
     "output_type": "display_data"
    },
    {
     "name": "stdout",
     "output_type": "stream",
     "text": [
      "Epoch 2058: train=8.75752, val=8.61876, took 70.149 s\n",
      "  Validation Found 101750 of 108007, added 5410 (eff 94.21%) (0.27 FP/event)\n",
      "Result epoch:  2058\n",
      "Average Eff:  0\n",
      "Average FP Rate:  0\n"
     ]
    },
    {
     "data": {
      "application/vnd.jupyter.widget-view+json": {
       "model_id": "",
       "version_major": 2,
       "version_minor": 0
      },
      "text/plain": [
       "HBox(children=(FloatProgress(value=0.0, description='Training', layout=Layout(flex='2'), max=1250.0, style=Pro…"
      ]
     },
     "metadata": {},
     "output_type": "display_data"
    },
    {
     "name": "stdout",
     "output_type": "stream",
     "text": [
      "Epoch 2059: train=8.75316, val=8.61993, took 69.991 s\n",
      "  Validation Found 101777 of 108007, added 5471 (eff 94.23%) (0.274 FP/event)\n",
      "Result epoch:  2059\n",
      "Average Eff:  0\n",
      "Average FP Rate:  0\n"
     ]
    },
    {
     "data": {
      "application/vnd.jupyter.widget-view+json": {
       "model_id": "",
       "version_major": 2,
       "version_minor": 0
      },
      "text/plain": [
       "HBox(children=(FloatProgress(value=0.0, description='Training', layout=Layout(flex='2'), max=1250.0, style=Pro…"
      ]
     },
     "metadata": {},
     "output_type": "display_data"
    },
    {
     "name": "stdout",
     "output_type": "stream",
     "text": [
      "Epoch 2060: train=8.76095, val=8.6212, took 70.611 s\n",
      "  Validation Found 101731 of 108007, added 5363 (eff 94.19%) (0.268 FP/event)\n",
      "Result epoch:  2060\n",
      "Average Eff:  0\n",
      "Average FP Rate:  0\n"
     ]
    },
    {
     "data": {
      "application/vnd.jupyter.widget-view+json": {
       "model_id": "",
       "version_major": 2,
       "version_minor": 0
      },
      "text/plain": [
       "HBox(children=(FloatProgress(value=0.0, description='Training', layout=Layout(flex='2'), max=1250.0, style=Pro…"
      ]
     },
     "metadata": {},
     "output_type": "display_data"
    },
    {
     "name": "stdout",
     "output_type": "stream",
     "text": [
      "Epoch 2061: train=8.75474, val=8.61997, took 72.199 s\n",
      "  Validation Found 101752 of 108007, added 5399 (eff 94.21%) (0.27 FP/event)\n",
      "Result epoch:  2061\n",
      "Average Eff:  0\n",
      "Average FP Rate:  0\n"
     ]
    },
    {
     "data": {
      "application/vnd.jupyter.widget-view+json": {
       "model_id": "",
       "version_major": 2,
       "version_minor": 0
      },
      "text/plain": [
       "HBox(children=(FloatProgress(value=0.0, description='Training', layout=Layout(flex='2'), max=1250.0, style=Pro…"
      ]
     },
     "metadata": {},
     "output_type": "display_data"
    },
    {
     "name": "stdout",
     "output_type": "stream",
     "text": [
      "Epoch 2062: train=8.75998, val=8.62057, took 71.311 s\n",
      "  Validation Found 101751 of 108007, added 5406 (eff 94.21%) (0.27 FP/event)\n",
      "Result epoch:  2062\n",
      "Average Eff:  0\n",
      "Average FP Rate:  0\n"
     ]
    },
    {
     "data": {
      "application/vnd.jupyter.widget-view+json": {
       "model_id": "",
       "version_major": 2,
       "version_minor": 0
      },
      "text/plain": [
       "HBox(children=(FloatProgress(value=0.0, description='Training', layout=Layout(flex='2'), max=1250.0, style=Pro…"
      ]
     },
     "metadata": {},
     "output_type": "display_data"
    },
    {
     "name": "stdout",
     "output_type": "stream",
     "text": [
      "Epoch 2063: train=8.75291, val=8.62901, took 71.674 s\n",
      "  Validation Found 101670 of 108007, added 5286 (eff 94.13%) (0.264 FP/event)\n",
      "Result epoch:  2063\n",
      "Average Eff:  0\n",
      "Average FP Rate:  0\n"
     ]
    },
    {
     "data": {
      "application/vnd.jupyter.widget-view+json": {
       "model_id": "",
       "version_major": 2,
       "version_minor": 0
      },
      "text/plain": [
       "HBox(children=(FloatProgress(value=0.0, description='Training', layout=Layout(flex='2'), max=1250.0, style=Pro…"
      ]
     },
     "metadata": {},
     "output_type": "display_data"
    },
    {
     "name": "stdout",
     "output_type": "stream",
     "text": [
      "Epoch 2064: train=8.75305, val=8.62282, took 71.446 s\n",
      "  Validation Found 101760 of 108007, added 5392 (eff 94.22%) (0.27 FP/event)\n",
      "Result epoch:  2064\n",
      "Average Eff:  0\n",
      "Average FP Rate:  0\n"
     ]
    },
    {
     "data": {
      "application/vnd.jupyter.widget-view+json": {
       "model_id": "",
       "version_major": 2,
       "version_minor": 0
      },
      "text/plain": [
       "HBox(children=(FloatProgress(value=0.0, description='Training', layout=Layout(flex='2'), max=1250.0, style=Pro…"
      ]
     },
     "metadata": {},
     "output_type": "display_data"
    },
    {
     "name": "stdout",
     "output_type": "stream",
     "text": [
      "Epoch 2065: train=8.75171, val=8.6229, took 71.645 s\n",
      "  Validation Found 101805 of 108007, added 5515 (eff 94.26%) (0.276 FP/event)\n",
      "Result epoch:  2065\n",
      "Average Eff:  0\n",
      "Average FP Rate:  0\n"
     ]
    },
    {
     "data": {
      "application/vnd.jupyter.widget-view+json": {
       "model_id": "",
       "version_major": 2,
       "version_minor": 0
      },
      "text/plain": [
       "HBox(children=(FloatProgress(value=0.0, description='Training', layout=Layout(flex='2'), max=1250.0, style=Pro…"
      ]
     },
     "metadata": {},
     "output_type": "display_data"
    },
    {
     "name": "stdout",
     "output_type": "stream",
     "text": [
      "Epoch 2066: train=8.74972, val=8.62663, took 72.073 s\n",
      "  Validation Found 101794 of 108007, added 5488 (eff 94.25%) (0.274 FP/event)\n",
      "Result epoch:  2066\n",
      "Average Eff:  0\n",
      "Average FP Rate:  0\n"
     ]
    },
    {
     "data": {
      "application/vnd.jupyter.widget-view+json": {
       "model_id": "",
       "version_major": 2,
       "version_minor": 0
      },
      "text/plain": [
       "HBox(children=(FloatProgress(value=0.0, description='Training', layout=Layout(flex='2'), max=1250.0, style=Pro…"
      ]
     },
     "metadata": {},
     "output_type": "display_data"
    },
    {
     "name": "stdout",
     "output_type": "stream",
     "text": [
      "Epoch 2067: train=8.75626, val=8.62461, took 70.84 s\n",
      "  Validation Found 101748 of 108007, added 5388 (eff 94.21%) (0.269 FP/event)\n",
      "Result epoch:  2067\n",
      "Average Eff:  0\n",
      "Average FP Rate:  0\n"
     ]
    },
    {
     "data": {
      "application/vnd.jupyter.widget-view+json": {
       "model_id": "",
       "version_major": 2,
       "version_minor": 0
      },
      "text/plain": [
       "HBox(children=(FloatProgress(value=0.0, description='Training', layout=Layout(flex='2'), max=1250.0, style=Pro…"
      ]
     },
     "metadata": {},
     "output_type": "display_data"
    },
    {
     "name": "stdout",
     "output_type": "stream",
     "text": [
      "Epoch 2068: train=8.75613, val=8.62784, took 70.846 s\n",
      "  Validation Found 101678 of 108007, added 5283 (eff 94.14%) (0.264 FP/event)\n",
      "Result epoch:  2068\n",
      "Average Eff:  0\n",
      "Average FP Rate:  0\n"
     ]
    },
    {
     "data": {
      "application/vnd.jupyter.widget-view+json": {
       "model_id": "",
       "version_major": 2,
       "version_minor": 0
      },
      "text/plain": [
       "HBox(children=(FloatProgress(value=0.0, description='Training', layout=Layout(flex='2'), max=1250.0, style=Pro…"
      ]
     },
     "metadata": {},
     "output_type": "display_data"
    },
    {
     "name": "stdout",
     "output_type": "stream",
     "text": [
      "Epoch 2069: train=8.74824, val=8.62722, took 70.802 s\n",
      "  Validation Found 101766 of 108007, added 5438 (eff 94.22%) (0.272 FP/event)\n",
      "Result epoch:  2069\n",
      "Average Eff:  0\n",
      "Average FP Rate:  0\n"
     ]
    },
    {
     "data": {
      "application/vnd.jupyter.widget-view+json": {
       "model_id": "",
       "version_major": 2,
       "version_minor": 0
      },
      "text/plain": [
       "HBox(children=(FloatProgress(value=0.0, description='Training', layout=Layout(flex='2'), max=1250.0, style=Pro…"
      ]
     },
     "metadata": {},
     "output_type": "display_data"
    },
    {
     "name": "stdout",
     "output_type": "stream",
     "text": [
      "Epoch 2070: train=8.75209, val=8.62845, took 71.198 s\n",
      "  Validation Found 101679 of 108007, added 5316 (eff 94.14%) (0.266 FP/event)\n",
      "Result epoch:  2070\n",
      "Average Eff:  0\n",
      "Average FP Rate:  0\n"
     ]
    },
    {
     "data": {
      "application/vnd.jupyter.widget-view+json": {
       "model_id": "",
       "version_major": 2,
       "version_minor": 0
      },
      "text/plain": [
       "HBox(children=(FloatProgress(value=0.0, description='Training', layout=Layout(flex='2'), max=1250.0, style=Pro…"
      ]
     },
     "metadata": {},
     "output_type": "display_data"
    },
    {
     "name": "stdout",
     "output_type": "stream",
     "text": [
      "Epoch 2071: train=8.75152, val=8.62658, took 70.531 s\n",
      "  Validation Found 101769 of 108007, added 5443 (eff 94.22%) (0.272 FP/event)\n",
      "Result epoch:  2071\n",
      "Average Eff:  0\n",
      "Average FP Rate:  0\n"
     ]
    },
    {
     "data": {
      "application/vnd.jupyter.widget-view+json": {
       "model_id": "",
       "version_major": 2,
       "version_minor": 0
      },
      "text/plain": [
       "HBox(children=(FloatProgress(value=0.0, description='Training', layout=Layout(flex='2'), max=1250.0, style=Pro…"
      ]
     },
     "metadata": {},
     "output_type": "display_data"
    },
    {
     "name": "stdout",
     "output_type": "stream",
     "text": [
      "Epoch 2072: train=8.75408, val=8.62157, took 70.13 s\n",
      "  Validation Found 101684 of 108007, added 5313 (eff 94.15%) (0.266 FP/event)\n",
      "Result epoch:  2072\n",
      "Average Eff:  0\n",
      "Average FP Rate:  0\n"
     ]
    },
    {
     "data": {
      "application/vnd.jupyter.widget-view+json": {
       "model_id": "",
       "version_major": 2,
       "version_minor": 0
      },
      "text/plain": [
       "HBox(children=(FloatProgress(value=0.0, description='Training', layout=Layout(flex='2'), max=1250.0, style=Pro…"
      ]
     },
     "metadata": {},
     "output_type": "display_data"
    },
    {
     "name": "stdout",
     "output_type": "stream",
     "text": [
      "Epoch 2073: train=8.75151, val=8.62881, took 71.393 s\n",
      "  Validation Found 101725 of 108007, added 5348 (eff 94.18%) (0.267 FP/event)\n",
      "Result epoch:  2073\n",
      "Average Eff:  0\n",
      "Average FP Rate:  0\n"
     ]
    },
    {
     "data": {
      "application/vnd.jupyter.widget-view+json": {
       "model_id": "",
       "version_major": 2,
       "version_minor": 0
      },
      "text/plain": [
       "HBox(children=(FloatProgress(value=0.0, description='Training', layout=Layout(flex='2'), max=1250.0, style=Pro…"
      ]
     },
     "metadata": {},
     "output_type": "display_data"
    },
    {
     "name": "stdout",
     "output_type": "stream",
     "text": [
      "Epoch 2074: train=8.75153, val=8.62365, took 71.163 s\n",
      "  Validation Found 101732 of 108007, added 5373 (eff 94.19%) (0.269 FP/event)\n",
      "Result epoch:  2074\n",
      "Average Eff:  0\n",
      "Average FP Rate:  0\n"
     ]
    },
    {
     "data": {
      "application/vnd.jupyter.widget-view+json": {
       "model_id": "",
       "version_major": 2,
       "version_minor": 0
      },
      "text/plain": [
       "HBox(children=(FloatProgress(value=0.0, description='Training', layout=Layout(flex='2'), max=1250.0, style=Pro…"
      ]
     },
     "metadata": {},
     "output_type": "display_data"
    },
    {
     "name": "stdout",
     "output_type": "stream",
     "text": [
      "Epoch 2075: train=8.74937, val=8.62072, took 70.096 s\n",
      "  Validation Found 101660 of 108007, added 5260 (eff 94.12%) (0.263 FP/event)\n",
      "Result epoch:  2075\n",
      "Average Eff:  0\n",
      "Average FP Rate:  0\n"
     ]
    },
    {
     "data": {
      "application/vnd.jupyter.widget-view+json": {
       "model_id": "",
       "version_major": 2,
       "version_minor": 0
      },
      "text/plain": [
       "HBox(children=(FloatProgress(value=0.0, description='Training', layout=Layout(flex='2'), max=1250.0, style=Pro…"
      ]
     },
     "metadata": {},
     "output_type": "display_data"
    },
    {
     "name": "stdout",
     "output_type": "stream",
     "text": [
      "Epoch 2076: train=8.75471, val=8.62576, took 71.791 s\n",
      "  Validation Found 101754 of 108007, added 5394 (eff 94.21%) (0.27 FP/event)\n",
      "Result epoch:  2076\n",
      "Average Eff:  0\n",
      "Average FP Rate:  0\n"
     ]
    },
    {
     "data": {
      "application/vnd.jupyter.widget-view+json": {
       "model_id": "",
       "version_major": 2,
       "version_minor": 0
      },
      "text/plain": [
       "HBox(children=(FloatProgress(value=0.0, description='Training', layout=Layout(flex='2'), max=1250.0, style=Pro…"
      ]
     },
     "metadata": {},
     "output_type": "display_data"
    },
    {
     "name": "stdout",
     "output_type": "stream",
     "text": [
      "Epoch 2077: train=8.75307, val=8.62558, took 70.361 s\n",
      "  Validation Found 101754 of 108007, added 5402 (eff 94.21%) (0.27 FP/event)\n",
      "Result epoch:  2077\n",
      "Average Eff:  0\n",
      "Average FP Rate:  0\n"
     ]
    },
    {
     "data": {
      "application/vnd.jupyter.widget-view+json": {
       "model_id": "",
       "version_major": 2,
       "version_minor": 0
      },
      "text/plain": [
       "HBox(children=(FloatProgress(value=0.0, description='Training', layout=Layout(flex='2'), max=1250.0, style=Pro…"
      ]
     },
     "metadata": {},
     "output_type": "display_data"
    },
    {
     "name": "stdout",
     "output_type": "stream",
     "text": [
      "Epoch 2078: train=8.74939, val=8.6293, took 70.497 s\n",
      "  Validation Found 101756 of 108007, added 5411 (eff 94.21%) (0.271 FP/event)\n",
      "Result epoch:  2078\n",
      "Average Eff:  0\n",
      "Average FP Rate:  0\n"
     ]
    },
    {
     "data": {
      "application/vnd.jupyter.widget-view+json": {
       "model_id": "",
       "version_major": 2,
       "version_minor": 0
      },
      "text/plain": [
       "HBox(children=(FloatProgress(value=0.0, description='Training', layout=Layout(flex='2'), max=1250.0, style=Pro…"
      ]
     },
     "metadata": {},
     "output_type": "display_data"
    },
    {
     "name": "stdout",
     "output_type": "stream",
     "text": [
      "Epoch 2079: train=8.75001, val=8.61786, took 70.665 s\n",
      "  Validation Found 101754 of 108007, added 5406 (eff 94.21%) (0.27 FP/event)\n",
      "Result epoch:  2079\n",
      "Average Eff:  0\n",
      "Average FP Rate:  0\n"
     ]
    },
    {
     "data": {
      "application/vnd.jupyter.widget-view+json": {
       "model_id": "",
       "version_major": 2,
       "version_minor": 0
      },
      "text/plain": [
       "HBox(children=(FloatProgress(value=0.0, description='Training', layout=Layout(flex='2'), max=1250.0, style=Pro…"
      ]
     },
     "metadata": {},
     "output_type": "display_data"
    },
    {
     "name": "stdout",
     "output_type": "stream",
     "text": [
      "Epoch 2080: train=8.75642, val=8.62359, took 70.913 s\n",
      "  Validation Found 101767 of 108007, added 5449 (eff 94.22%) (0.272 FP/event)\n",
      "Result epoch:  2080\n",
      "Average Eff:  0\n",
      "Average FP Rate:  0\n"
     ]
    },
    {
     "data": {
      "application/vnd.jupyter.widget-view+json": {
       "model_id": "",
       "version_major": 2,
       "version_minor": 0
      },
      "text/plain": [
       "HBox(children=(FloatProgress(value=0.0, description='Training', layout=Layout(flex='2'), max=1250.0, style=Pro…"
      ]
     },
     "metadata": {},
     "output_type": "display_data"
    },
    {
     "name": "stdout",
     "output_type": "stream",
     "text": [
      "Epoch 2081: train=8.7477, val=8.62277, took 72.033 s\n",
      "  Validation Found 101752 of 108007, added 5389 (eff 94.21%) (0.269 FP/event)\n",
      "Result epoch:  2081\n",
      "Average Eff:  0\n",
      "Average FP Rate:  0\n"
     ]
    },
    {
     "data": {
      "application/vnd.jupyter.widget-view+json": {
       "model_id": "",
       "version_major": 2,
       "version_minor": 0
      },
      "text/plain": [
       "HBox(children=(FloatProgress(value=0.0, description='Training', layout=Layout(flex='2'), max=1250.0, style=Pro…"
      ]
     },
     "metadata": {},
     "output_type": "display_data"
    },
    {
     "name": "stdout",
     "output_type": "stream",
     "text": [
      "Epoch 2082: train=8.75249, val=8.62461, took 71.228 s\n",
      "  Validation Found 101656 of 108007, added 5278 (eff 94.12%) (0.264 FP/event)\n",
      "Result epoch:  2082\n",
      "Average Eff:  0\n",
      "Average FP Rate:  0\n"
     ]
    },
    {
     "data": {
      "application/vnd.jupyter.widget-view+json": {
       "model_id": "",
       "version_major": 2,
       "version_minor": 0
      },
      "text/plain": [
       "HBox(children=(FloatProgress(value=0.0, description='Training', layout=Layout(flex='2'), max=1250.0, style=Pro…"
      ]
     },
     "metadata": {},
     "output_type": "display_data"
    },
    {
     "name": "stdout",
     "output_type": "stream",
     "text": [
      "Epoch 2083: train=8.75425, val=8.6221, took 71.423 s\n",
      "  Validation Found 101800 of 108007, added 5514 (eff 94.25%) (0.276 FP/event)\n",
      "Result epoch:  2083\n",
      "Average Eff:  0\n",
      "Average FP Rate:  0\n"
     ]
    },
    {
     "data": {
      "application/vnd.jupyter.widget-view+json": {
       "model_id": "",
       "version_major": 2,
       "version_minor": 0
      },
      "text/plain": [
       "HBox(children=(FloatProgress(value=0.0, description='Training', layout=Layout(flex='2'), max=1250.0, style=Pro…"
      ]
     },
     "metadata": {},
     "output_type": "display_data"
    },
    {
     "name": "stdout",
     "output_type": "stream",
     "text": [
      "Epoch 2084: train=8.74893, val=8.63116, took 71.97 s\n",
      "  Validation Found 101873 of 108007, added 5699 (eff 94.32%) (0.285 FP/event)\n",
      "Result epoch:  2084\n",
      "Average Eff:  0\n",
      "Average FP Rate:  0\n"
     ]
    },
    {
     "data": {
      "application/vnd.jupyter.widget-view+json": {
       "model_id": "",
       "version_major": 2,
       "version_minor": 0
      },
      "text/plain": [
       "HBox(children=(FloatProgress(value=0.0, description='Training', layout=Layout(flex='2'), max=1250.0, style=Pro…"
      ]
     },
     "metadata": {},
     "output_type": "display_data"
    },
    {
     "name": "stdout",
     "output_type": "stream",
     "text": [
      "Epoch 2085: train=8.75056, val=8.62631, took 71.629 s\n",
      "  Validation Found 101797 of 108007, added 5488 (eff 94.25%) (0.274 FP/event)\n",
      "Result epoch:  2085\n",
      "Average Eff:  0\n",
      "Average FP Rate:  0\n"
     ]
    },
    {
     "data": {
      "application/vnd.jupyter.widget-view+json": {
       "model_id": "",
       "version_major": 2,
       "version_minor": 0
      },
      "text/plain": [
       "HBox(children=(FloatProgress(value=0.0, description='Training', layout=Layout(flex='2'), max=1250.0, style=Pro…"
      ]
     },
     "metadata": {},
     "output_type": "display_data"
    },
    {
     "name": "stdout",
     "output_type": "stream",
     "text": [
      "Epoch 2086: train=8.7467, val=8.62464, took 72.096 s\n",
      "  Validation Found 101735 of 108007, added 5394 (eff 94.19%) (0.27 FP/event)\n",
      "Result epoch:  2086\n",
      "Average Eff:  0\n",
      "Average FP Rate:  0\n"
     ]
    },
    {
     "data": {
      "application/vnd.jupyter.widget-view+json": {
       "model_id": "",
       "version_major": 2,
       "version_minor": 0
      },
      "text/plain": [
       "HBox(children=(FloatProgress(value=0.0, description='Training', layout=Layout(flex='2'), max=1250.0, style=Pro…"
      ]
     },
     "metadata": {},
     "output_type": "display_data"
    },
    {
     "name": "stdout",
     "output_type": "stream",
     "text": [
      "Epoch 2087: train=8.74642, val=8.62863, took 72.676 s\n",
      "  Validation Found 101675 of 108007, added 5308 (eff 94.14%) (0.265 FP/event)\n",
      "Result epoch:  2087\n",
      "Average Eff:  0\n",
      "Average FP Rate:  0\n"
     ]
    },
    {
     "data": {
      "application/vnd.jupyter.widget-view+json": {
       "model_id": "",
       "version_major": 2,
       "version_minor": 0
      },
      "text/plain": [
       "HBox(children=(FloatProgress(value=0.0, description='Training', layout=Layout(flex='2'), max=1250.0, style=Pro…"
      ]
     },
     "metadata": {},
     "output_type": "display_data"
    },
    {
     "name": "stdout",
     "output_type": "stream",
     "text": [
      "Epoch 2088: train=8.75634, val=8.62239, took 72.047 s\n",
      "  Validation Found 101760 of 108007, added 5426 (eff 94.22%) (0.271 FP/event)\n",
      "Result epoch:  2088\n",
      "Average Eff:  0\n",
      "Average FP Rate:  0\n"
     ]
    },
    {
     "data": {
      "application/vnd.jupyter.widget-view+json": {
       "model_id": "",
       "version_major": 2,
       "version_minor": 0
      },
      "text/plain": [
       "HBox(children=(FloatProgress(value=0.0, description='Training', layout=Layout(flex='2'), max=1250.0, style=Pro…"
      ]
     },
     "metadata": {},
     "output_type": "display_data"
    },
    {
     "name": "stdout",
     "output_type": "stream",
     "text": [
      "Epoch 2089: train=8.74821, val=8.62115, took 72.086 s\n",
      "  Validation Found 101735 of 108007, added 5390 (eff 94.19%) (0.269 FP/event)\n",
      "Result epoch:  2089\n",
      "Average Eff:  0\n",
      "Average FP Rate:  0\n"
     ]
    },
    {
     "data": {
      "application/vnd.jupyter.widget-view+json": {
       "model_id": "",
       "version_major": 2,
       "version_minor": 0
      },
      "text/plain": [
       "HBox(children=(FloatProgress(value=0.0, description='Training', layout=Layout(flex='2'), max=1250.0, style=Pro…"
      ]
     },
     "metadata": {},
     "output_type": "display_data"
    },
    {
     "name": "stdout",
     "output_type": "stream",
     "text": [
      "Epoch 2090: train=8.75174, val=8.62115, took 70.494 s\n",
      "  Validation Found 101710 of 108007, added 5345 (eff 94.17%) (0.267 FP/event)\n",
      "Result epoch:  2090\n",
      "Average Eff:  0\n",
      "Average FP Rate:  0\n"
     ]
    },
    {
     "data": {
      "application/vnd.jupyter.widget-view+json": {
       "model_id": "",
       "version_major": 2,
       "version_minor": 0
      },
      "text/plain": [
       "HBox(children=(FloatProgress(value=0.0, description='Training', layout=Layout(flex='2'), max=1250.0, style=Pro…"
      ]
     },
     "metadata": {},
     "output_type": "display_data"
    },
    {
     "name": "stdout",
     "output_type": "stream",
     "text": [
      "Epoch 2091: train=8.74554, val=8.6256, took 70.852 s\n",
      "  Validation Found 101760 of 108007, added 5403 (eff 94.22%) (0.27 FP/event)\n",
      "Result epoch:  2091\n",
      "Average Eff:  0\n",
      "Average FP Rate:  0\n"
     ]
    },
    {
     "data": {
      "application/vnd.jupyter.widget-view+json": {
       "model_id": "",
       "version_major": 2,
       "version_minor": 0
      },
      "text/plain": [
       "HBox(children=(FloatProgress(value=0.0, description='Training', layout=Layout(flex='2'), max=1250.0, style=Pro…"
      ]
     },
     "metadata": {},
     "output_type": "display_data"
    },
    {
     "name": "stdout",
     "output_type": "stream",
     "text": [
      "Epoch 2092: train=8.75244, val=8.62448, took 72.117 s\n",
      "  Validation Found 101722 of 108007, added 5368 (eff 94.18%) (0.268 FP/event)\n",
      "Result epoch:  2092\n",
      "Average Eff:  0\n",
      "Average FP Rate:  0\n"
     ]
    },
    {
     "data": {
      "application/vnd.jupyter.widget-view+json": {
       "model_id": "",
       "version_major": 2,
       "version_minor": 0
      },
      "text/plain": [
       "HBox(children=(FloatProgress(value=0.0, description='Training', layout=Layout(flex='2'), max=1250.0, style=Pro…"
      ]
     },
     "metadata": {},
     "output_type": "display_data"
    },
    {
     "name": "stdout",
     "output_type": "stream",
     "text": [
      "Epoch 2093: train=8.7501, val=8.6214, took 71.353 s\n",
      "  Validation Found 101748 of 108007, added 5367 (eff 94.21%) (0.268 FP/event)\n",
      "Result epoch:  2093\n",
      "Average Eff:  0\n",
      "Average FP Rate:  0\n"
     ]
    },
    {
     "data": {
      "application/vnd.jupyter.widget-view+json": {
       "model_id": "",
       "version_major": 2,
       "version_minor": 0
      },
      "text/plain": [
       "HBox(children=(FloatProgress(value=0.0, description='Training', layout=Layout(flex='2'), max=1250.0, style=Pro…"
      ]
     },
     "metadata": {},
     "output_type": "display_data"
    },
    {
     "name": "stdout",
     "output_type": "stream",
     "text": [
      "Epoch 2094: train=8.74985, val=8.61914, took 72.62 s\n",
      "  Validation Found 101679 of 108007, added 5290 (eff 94.14%) (0.264 FP/event)\n",
      "Result epoch:  2094\n",
      "Average Eff:  0\n",
      "Average FP Rate:  0\n"
     ]
    },
    {
     "data": {
      "application/vnd.jupyter.widget-view+json": {
       "model_id": "",
       "version_major": 2,
       "version_minor": 0
      },
      "text/plain": [
       "HBox(children=(FloatProgress(value=0.0, description='Training', layout=Layout(flex='2'), max=1250.0, style=Pro…"
      ]
     },
     "metadata": {},
     "output_type": "display_data"
    },
    {
     "name": "stdout",
     "output_type": "stream",
     "text": [
      "Epoch 2095: train=8.75141, val=8.6283, took 70.537 s\n",
      "  Validation Found 101739 of 108007, added 5376 (eff 94.20%) (0.269 FP/event)\n",
      "Result epoch:  2095\n",
      "Average Eff:  0\n",
      "Average FP Rate:  0\n"
     ]
    },
    {
     "data": {
      "application/vnd.jupyter.widget-view+json": {
       "model_id": "",
       "version_major": 2,
       "version_minor": 0
      },
      "text/plain": [
       "HBox(children=(FloatProgress(value=0.0, description='Training', layout=Layout(flex='2'), max=1250.0, style=Pro…"
      ]
     },
     "metadata": {},
     "output_type": "display_data"
    },
    {
     "name": "stdout",
     "output_type": "stream",
     "text": [
      "Epoch 2096: train=8.74993, val=8.61712, took 70.891 s\n",
      "  Validation Found 101760 of 108007, added 5419 (eff 94.22%) (0.271 FP/event)\n",
      "Result epoch:  2096\n",
      "Average Eff:  0\n",
      "Average FP Rate:  0\n"
     ]
    },
    {
     "data": {
      "application/vnd.jupyter.widget-view+json": {
       "model_id": "",
       "version_major": 2,
       "version_minor": 0
      },
      "text/plain": [
       "HBox(children=(FloatProgress(value=0.0, description='Training', layout=Layout(flex='2'), max=1250.0, style=Pro…"
      ]
     },
     "metadata": {},
     "output_type": "display_data"
    },
    {
     "name": "stdout",
     "output_type": "stream",
     "text": [
      "Epoch 2097: train=8.74988, val=8.61356, took 71.484 s\n",
      "  Validation Found 101766 of 108007, added 5401 (eff 94.22%) (0.27 FP/event)\n",
      "Result epoch:  2097\n",
      "Average Eff:  0\n",
      "Average FP Rate:  0\n"
     ]
    },
    {
     "data": {
      "application/vnd.jupyter.widget-view+json": {
       "model_id": "",
       "version_major": 2,
       "version_minor": 0
      },
      "text/plain": [
       "HBox(children=(FloatProgress(value=0.0, description='Training', layout=Layout(flex='2'), max=1250.0, style=Pro…"
      ]
     },
     "metadata": {},
     "output_type": "display_data"
    },
    {
     "name": "stdout",
     "output_type": "stream",
     "text": [
      "Epoch 2098: train=8.74828, val=8.63424, took 71.896 s\n",
      "  Validation Found 101865 of 108007, added 5718 (eff 94.31%) (0.286 FP/event)\n",
      "Result epoch:  2098\n",
      "Average Eff:  0\n",
      "Average FP Rate:  0\n"
     ]
    },
    {
     "data": {
      "application/vnd.jupyter.widget-view+json": {
       "model_id": "",
       "version_major": 2,
       "version_minor": 0
      },
      "text/plain": [
       "HBox(children=(FloatProgress(value=0.0, description='Training', layout=Layout(flex='2'), max=1250.0, style=Pro…"
      ]
     },
     "metadata": {},
     "output_type": "display_data"
    },
    {
     "name": "stdout",
     "output_type": "stream",
     "text": [
      "Epoch 2099: train=8.74475, val=8.6281, took 71.931 s\n",
      "  Validation Found 101685 of 108007, added 5337 (eff 94.15%) (0.267 FP/event)\n",
      "Result epoch:  2099\n",
      "Average Eff:  0\n",
      "Average FP Rate:  0\n"
     ]
    },
    {
     "data": {
      "application/vnd.jupyter.widget-view+json": {
       "model_id": "",
       "version_major": 2,
       "version_minor": 0
      },
      "text/plain": [
       "HBox(children=(FloatProgress(value=0.0, description='Training', layout=Layout(flex='2'), max=1250.0, style=Pro…"
      ]
     },
     "metadata": {},
     "output_type": "display_data"
    },
    {
     "name": "stdout",
     "output_type": "stream",
     "text": [
      "Epoch 2100: train=8.74753, val=8.62925, took 71.013 s\n",
      "  Validation Found 101828 of 108007, added 5605 (eff 94.28%) (0.28 FP/event)\n",
      "Result epoch:  2100\n",
      "Average Eff:  0\n",
      "Average FP Rate:  0\n"
     ]
    },
    {
     "data": {
      "application/vnd.jupyter.widget-view+json": {
       "model_id": "",
       "version_major": 2,
       "version_minor": 0
      },
      "text/plain": [
       "HBox(children=(FloatProgress(value=0.0, description='Training', layout=Layout(flex='2'), max=1250.0, style=Pro…"
      ]
     },
     "metadata": {},
     "output_type": "display_data"
    },
    {
     "name": "stdout",
     "output_type": "stream",
     "text": [
      "Epoch 2101: train=8.74802, val=8.62301, took 71.0 s\n",
      "  Validation Found 101645 of 108007, added 5255 (eff 94.11%) (0.263 FP/event)\n",
      "Result epoch:  2101\n",
      "Average Eff:  0\n",
      "Average FP Rate:  0\n"
     ]
    },
    {
     "data": {
      "application/vnd.jupyter.widget-view+json": {
       "model_id": "",
       "version_major": 2,
       "version_minor": 0
      },
      "text/plain": [
       "HBox(children=(FloatProgress(value=0.0, description='Training', layout=Layout(flex='2'), max=1250.0, style=Pro…"
      ]
     },
     "metadata": {},
     "output_type": "display_data"
    },
    {
     "name": "stdout",
     "output_type": "stream",
     "text": [
      "Epoch 2102: train=8.74871, val=8.6376, took 71.132 s\n",
      "  Validation Found 101696 of 108007, added 5366 (eff 94.16%) (0.268 FP/event)\n",
      "Result epoch:  2102\n",
      "Average Eff:  0\n",
      "Average FP Rate:  0\n"
     ]
    },
    {
     "data": {
      "application/vnd.jupyter.widget-view+json": {
       "model_id": "",
       "version_major": 2,
       "version_minor": 0
      },
      "text/plain": [
       "HBox(children=(FloatProgress(value=0.0, description='Training', layout=Layout(flex='2'), max=1250.0, style=Pro…"
      ]
     },
     "metadata": {},
     "output_type": "display_data"
    },
    {
     "name": "stdout",
     "output_type": "stream",
     "text": [
      "Epoch 2103: train=8.7478, val=8.61955, took 70.943 s\n",
      "  Validation Found 101642 of 108007, added 5239 (eff 94.11%) (0.262 FP/event)\n",
      "Result epoch:  2103\n",
      "Average Eff:  0\n",
      "Average FP Rate:  0\n"
     ]
    },
    {
     "data": {
      "application/vnd.jupyter.widget-view+json": {
       "model_id": "",
       "version_major": 2,
       "version_minor": 0
      },
      "text/plain": [
       "HBox(children=(FloatProgress(value=0.0, description='Training', layout=Layout(flex='2'), max=1250.0, style=Pro…"
      ]
     },
     "metadata": {},
     "output_type": "display_data"
    },
    {
     "name": "stdout",
     "output_type": "stream",
     "text": [
      "Epoch 2104: train=8.74715, val=8.6239, took 71.728 s\n",
      "  Validation Found 101592 of 108007, added 5213 (eff 94.06%) (0.261 FP/event)\n",
      "Result epoch:  2104\n",
      "Average Eff:  0\n",
      "Average FP Rate:  0\n"
     ]
    },
    {
     "data": {
      "application/vnd.jupyter.widget-view+json": {
       "model_id": "",
       "version_major": 2,
       "version_minor": 0
      },
      "text/plain": [
       "HBox(children=(FloatProgress(value=0.0, description='Training', layout=Layout(flex='2'), max=1250.0, style=Pro…"
      ]
     },
     "metadata": {},
     "output_type": "display_data"
    },
    {
     "name": "stdout",
     "output_type": "stream",
     "text": [
      "Epoch 2105: train=8.74798, val=8.61924, took 71.189 s\n",
      "  Validation Found 101715 of 108007, added 5356 (eff 94.17%) (0.268 FP/event)\n",
      "Result epoch:  2105\n",
      "Average Eff:  0\n",
      "Average FP Rate:  0\n"
     ]
    },
    {
     "data": {
      "application/vnd.jupyter.widget-view+json": {
       "model_id": "",
       "version_major": 2,
       "version_minor": 0
      },
      "text/plain": [
       "HBox(children=(FloatProgress(value=0.0, description='Training', layout=Layout(flex='2'), max=1250.0, style=Pro…"
      ]
     },
     "metadata": {},
     "output_type": "display_data"
    },
    {
     "name": "stdout",
     "output_type": "stream",
     "text": [
      "Epoch 2106: train=8.7521, val=8.62258, took 71.958 s\n",
      "  Validation Found 101711 of 108007, added 5334 (eff 94.17%) (0.267 FP/event)\n",
      "Result epoch:  2106\n",
      "Average Eff:  0\n",
      "Average FP Rate:  0\n"
     ]
    },
    {
     "data": {
      "application/vnd.jupyter.widget-view+json": {
       "model_id": "",
       "version_major": 2,
       "version_minor": 0
      },
      "text/plain": [
       "HBox(children=(FloatProgress(value=0.0, description='Training', layout=Layout(flex='2'), max=1250.0, style=Pro…"
      ]
     },
     "metadata": {},
     "output_type": "display_data"
    },
    {
     "name": "stdout",
     "output_type": "stream",
     "text": [
      "Epoch 2107: train=8.74331, val=8.62175, took 71.944 s\n",
      "  Validation Found 101718 of 108007, added 5351 (eff 94.18%) (0.268 FP/event)\n",
      "Result epoch:  2107\n",
      "Average Eff:  0\n",
      "Average FP Rate:  0\n"
     ]
    },
    {
     "data": {
      "application/vnd.jupyter.widget-view+json": {
       "model_id": "",
       "version_major": 2,
       "version_minor": 0
      },
      "text/plain": [
       "HBox(children=(FloatProgress(value=0.0, description='Training', layout=Layout(flex='2'), max=1250.0, style=Pro…"
      ]
     },
     "metadata": {},
     "output_type": "display_data"
    },
    {
     "name": "stdout",
     "output_type": "stream",
     "text": [
      "Epoch 2108: train=8.74721, val=8.62894, took 71.542 s\n",
      "  Validation Found 101786 of 108007, added 5489 (eff 94.24%) (0.274 FP/event)\n",
      "Result epoch:  2108\n",
      "Average Eff:  0\n",
      "Average FP Rate:  0\n"
     ]
    },
    {
     "data": {
      "application/vnd.jupyter.widget-view+json": {
       "model_id": "",
       "version_major": 2,
       "version_minor": 0
      },
      "text/plain": [
       "HBox(children=(FloatProgress(value=0.0, description='Training', layout=Layout(flex='2'), max=1250.0, style=Pro…"
      ]
     },
     "metadata": {},
     "output_type": "display_data"
    },
    {
     "name": "stdout",
     "output_type": "stream",
     "text": [
      "Epoch 2109: train=8.74416, val=8.62445, took 71.264 s\n",
      "  Validation Found 101716 of 108007, added 5374 (eff 94.18%) (0.269 FP/event)\n",
      "Result epoch:  2109\n",
      "Average Eff:  0\n",
      "Average FP Rate:  0\n"
     ]
    },
    {
     "data": {
      "application/vnd.jupyter.widget-view+json": {
       "model_id": "",
       "version_major": 2,
       "version_minor": 0
      },
      "text/plain": [
       "HBox(children=(FloatProgress(value=0.0, description='Training', layout=Layout(flex='2'), max=1250.0, style=Pro…"
      ]
     },
     "metadata": {},
     "output_type": "display_data"
    },
    {
     "name": "stdout",
     "output_type": "stream",
     "text": [
      "Epoch 2110: train=8.74439, val=8.62362, took 72.069 s\n",
      "  Validation Found 101679 of 108007, added 5295 (eff 94.14%) (0.265 FP/event)\n",
      "Result epoch:  2110\n",
      "Average Eff:  0\n",
      "Average FP Rate:  0\n"
     ]
    },
    {
     "data": {
      "application/vnd.jupyter.widget-view+json": {
       "model_id": "",
       "version_major": 2,
       "version_minor": 0
      },
      "text/plain": [
       "HBox(children=(FloatProgress(value=0.0, description='Training', layout=Layout(flex='2'), max=1250.0, style=Pro…"
      ]
     },
     "metadata": {},
     "output_type": "display_data"
    },
    {
     "name": "stdout",
     "output_type": "stream",
     "text": [
      "Epoch 2111: train=8.74839, val=8.62502, took 71.741 s\n",
      "  Validation Found 101687 of 108007, added 5323 (eff 94.15%) (0.266 FP/event)\n",
      "Result epoch:  2111\n",
      "Average Eff:  0\n",
      "Average FP Rate:  0\n"
     ]
    },
    {
     "data": {
      "application/vnd.jupyter.widget-view+json": {
       "model_id": "",
       "version_major": 2,
       "version_minor": 0
      },
      "text/plain": [
       "HBox(children=(FloatProgress(value=0.0, description='Training', layout=Layout(flex='2'), max=1250.0, style=Pro…"
      ]
     },
     "metadata": {},
     "output_type": "display_data"
    },
    {
     "name": "stdout",
     "output_type": "stream",
     "text": [
      "Epoch 2112: train=8.74763, val=8.62469, took 71.945 s\n",
      "  Validation Found 101751 of 108007, added 5405 (eff 94.21%) (0.27 FP/event)\n",
      "Result epoch:  2112\n",
      "Average Eff:  0\n",
      "Average FP Rate:  0\n"
     ]
    },
    {
     "data": {
      "application/vnd.jupyter.widget-view+json": {
       "model_id": "",
       "version_major": 2,
       "version_minor": 0
      },
      "text/plain": [
       "HBox(children=(FloatProgress(value=0.0, description='Training', layout=Layout(flex='2'), max=1250.0, style=Pro…"
      ]
     },
     "metadata": {},
     "output_type": "display_data"
    },
    {
     "name": "stdout",
     "output_type": "stream",
     "text": [
      "Epoch 2113: train=8.74405, val=8.62491, took 72.277 s\n",
      "  Validation Found 101765 of 108007, added 5448 (eff 94.22%) (0.272 FP/event)\n",
      "Result epoch:  2113\n",
      "Average Eff:  0\n",
      "Average FP Rate:  0\n"
     ]
    },
    {
     "data": {
      "application/vnd.jupyter.widget-view+json": {
       "model_id": "",
       "version_major": 2,
       "version_minor": 0
      },
      "text/plain": [
       "HBox(children=(FloatProgress(value=0.0, description='Training', layout=Layout(flex='2'), max=1250.0, style=Pro…"
      ]
     },
     "metadata": {},
     "output_type": "display_data"
    },
    {
     "name": "stdout",
     "output_type": "stream",
     "text": [
      "Epoch 2114: train=8.74564, val=8.6206, took 71.231 s\n",
      "  Validation Found 101638 of 108007, added 5221 (eff 94.10%) (0.261 FP/event)\n",
      "Result epoch:  2114\n",
      "Average Eff:  0\n",
      "Average FP Rate:  0\n"
     ]
    },
    {
     "data": {
      "application/vnd.jupyter.widget-view+json": {
       "model_id": "",
       "version_major": 2,
       "version_minor": 0
      },
      "text/plain": [
       "HBox(children=(FloatProgress(value=0.0, description='Training', layout=Layout(flex='2'), max=1250.0, style=Pro…"
      ]
     },
     "metadata": {},
     "output_type": "display_data"
    },
    {
     "name": "stdout",
     "output_type": "stream",
     "text": [
      "Epoch 2115: train=8.74061, val=8.62389, took 70.616 s\n",
      "  Validation Found 101711 of 108007, added 5342 (eff 94.17%) (0.267 FP/event)\n",
      "Result epoch:  2115\n",
      "Average Eff:  0\n",
      "Average FP Rate:  0\n"
     ]
    },
    {
     "data": {
      "application/vnd.jupyter.widget-view+json": {
       "model_id": "",
       "version_major": 2,
       "version_minor": 0
      },
      "text/plain": [
       "HBox(children=(FloatProgress(value=0.0, description='Training', layout=Layout(flex='2'), max=1250.0, style=Pro…"
      ]
     },
     "metadata": {},
     "output_type": "display_data"
    },
    {
     "name": "stdout",
     "output_type": "stream",
     "text": [
      "Epoch 2116: train=8.74396, val=8.63123, took 70.625 s\n",
      "  Validation Found 101786 of 108007, added 5492 (eff 94.24%) (0.275 FP/event)\n",
      "Result epoch:  2116\n",
      "Average Eff:  0\n",
      "Average FP Rate:  0\n"
     ]
    },
    {
     "data": {
      "application/vnd.jupyter.widget-view+json": {
       "model_id": "",
       "version_major": 2,
       "version_minor": 0
      },
      "text/plain": [
       "HBox(children=(FloatProgress(value=0.0, description='Training', layout=Layout(flex='2'), max=1250.0, style=Pro…"
      ]
     },
     "metadata": {},
     "output_type": "display_data"
    },
    {
     "name": "stdout",
     "output_type": "stream",
     "text": [
      "Epoch 2117: train=8.73977, val=8.62294, took 71.623 s\n",
      "  Validation Found 101761 of 108007, added 5433 (eff 94.22%) (0.272 FP/event)\n",
      "Result epoch:  2117\n",
      "Average Eff:  0\n",
      "Average FP Rate:  0\n"
     ]
    },
    {
     "data": {
      "application/vnd.jupyter.widget-view+json": {
       "model_id": "",
       "version_major": 2,
       "version_minor": 0
      },
      "text/plain": [
       "HBox(children=(FloatProgress(value=0.0, description='Training', layout=Layout(flex='2'), max=1250.0, style=Pro…"
      ]
     },
     "metadata": {},
     "output_type": "display_data"
    },
    {
     "name": "stdout",
     "output_type": "stream",
     "text": [
      "Epoch 2118: train=8.74553, val=8.62133, took 71.026 s\n",
      "  Validation Found 101685 of 108007, added 5284 (eff 94.15%) (0.264 FP/event)\n",
      "Result epoch:  2118\n",
      "Average Eff:  0\n",
      "Average FP Rate:  0\n"
     ]
    },
    {
     "data": {
      "application/vnd.jupyter.widget-view+json": {
       "model_id": "",
       "version_major": 2,
       "version_minor": 0
      },
      "text/plain": [
       "HBox(children=(FloatProgress(value=0.0, description='Training', layout=Layout(flex='2'), max=1250.0, style=Pro…"
      ]
     },
     "metadata": {},
     "output_type": "display_data"
    },
    {
     "name": "stdout",
     "output_type": "stream",
     "text": [
      "Epoch 2119: train=8.74387, val=8.62967, took 70.425 s\n",
      "  Validation Found 101759 of 108007, added 5451 (eff 94.22%) (0.273 FP/event)\n",
      "Result epoch:  2119\n",
      "Average Eff:  0\n",
      "Average FP Rate:  0\n"
     ]
    },
    {
     "data": {
      "application/vnd.jupyter.widget-view+json": {
       "model_id": "",
       "version_major": 2,
       "version_minor": 0
      },
      "text/plain": [
       "HBox(children=(FloatProgress(value=0.0, description='Training', layout=Layout(flex='2'), max=1250.0, style=Pro…"
      ]
     },
     "metadata": {},
     "output_type": "display_data"
    },
    {
     "name": "stdout",
     "output_type": "stream",
     "text": [
      "Epoch 2120: train=8.74412, val=8.63159, took 71.65 s\n",
      "  Validation Found 101808 of 108007, added 5549 (eff 94.26%) (0.277 FP/event)\n",
      "Result epoch:  2120\n",
      "Average Eff:  0\n",
      "Average FP Rate:  0\n"
     ]
    },
    {
     "data": {
      "application/vnd.jupyter.widget-view+json": {
       "model_id": "",
       "version_major": 2,
       "version_minor": 0
      },
      "text/plain": [
       "HBox(children=(FloatProgress(value=0.0, description='Training', layout=Layout(flex='2'), max=1250.0, style=Pro…"
      ]
     },
     "metadata": {},
     "output_type": "display_data"
    },
    {
     "name": "stdout",
     "output_type": "stream",
     "text": [
      "Epoch 2121: train=8.74291, val=8.62553, took 71.284 s\n",
      "  Validation Found 101755 of 108007, added 5419 (eff 94.21%) (0.271 FP/event)\n",
      "Result epoch:  2121\n",
      "Average Eff:  0\n",
      "Average FP Rate:  0\n"
     ]
    },
    {
     "data": {
      "application/vnd.jupyter.widget-view+json": {
       "model_id": "",
       "version_major": 2,
       "version_minor": 0
      },
      "text/plain": [
       "HBox(children=(FloatProgress(value=0.0, description='Training', layout=Layout(flex='2'), max=1250.0, style=Pro…"
      ]
     },
     "metadata": {},
     "output_type": "display_data"
    },
    {
     "name": "stdout",
     "output_type": "stream",
     "text": [
      "Epoch 2122: train=8.74411, val=8.62463, took 71.436 s\n",
      "  Validation Found 101630 of 108007, added 5205 (eff 94.10%) (0.26 FP/event)\n",
      "Result epoch:  2122\n",
      "Average Eff:  0\n",
      "Average FP Rate:  0\n"
     ]
    },
    {
     "data": {
      "application/vnd.jupyter.widget-view+json": {
       "model_id": "",
       "version_major": 2,
       "version_minor": 0
      },
      "text/plain": [
       "HBox(children=(FloatProgress(value=0.0, description='Training', layout=Layout(flex='2'), max=1250.0, style=Pro…"
      ]
     },
     "metadata": {},
     "output_type": "display_data"
    },
    {
     "name": "stdout",
     "output_type": "stream",
     "text": [
      "Epoch 2123: train=8.74111, val=8.62101, took 71.665 s\n",
      "  Validation Found 101733 of 108007, added 5365 (eff 94.19%) (0.268 FP/event)\n",
      "Result epoch:  2123\n",
      "Average Eff:  0\n",
      "Average FP Rate:  0\n"
     ]
    },
    {
     "data": {
      "application/vnd.jupyter.widget-view+json": {
       "model_id": "",
       "version_major": 2,
       "version_minor": 0
      },
      "text/plain": [
       "HBox(children=(FloatProgress(value=0.0, description='Training', layout=Layout(flex='2'), max=1250.0, style=Pro…"
      ]
     },
     "metadata": {},
     "output_type": "display_data"
    },
    {
     "name": "stdout",
     "output_type": "stream",
     "text": [
      "Epoch 2124: train=8.7448, val=8.62494, took 70.878 s\n",
      "  Validation Found 101674 of 108007, added 5303 (eff 94.14%) (0.265 FP/event)\n",
      "Result epoch:  2124\n",
      "Average Eff:  0\n",
      "Average FP Rate:  0\n"
     ]
    },
    {
     "data": {
      "application/vnd.jupyter.widget-view+json": {
       "model_id": "",
       "version_major": 2,
       "version_minor": 0
      },
      "text/plain": [
       "HBox(children=(FloatProgress(value=0.0, description='Training', layout=Layout(flex='2'), max=1250.0, style=Pro…"
      ]
     },
     "metadata": {},
     "output_type": "display_data"
    },
    {
     "name": "stdout",
     "output_type": "stream",
     "text": [
      "Epoch 2125: train=8.74862, val=8.61972, took 69.981 s\n",
      "  Validation Found 101792 of 108007, added 5473 (eff 94.25%) (0.274 FP/event)\n",
      "Result epoch:  2125\n",
      "Average Eff:  0\n",
      "Average FP Rate:  0\n"
     ]
    },
    {
     "data": {
      "application/vnd.jupyter.widget-view+json": {
       "model_id": "",
       "version_major": 2,
       "version_minor": 0
      },
      "text/plain": [
       "HBox(children=(FloatProgress(value=0.0, description='Training', layout=Layout(flex='2'), max=1250.0, style=Pro…"
      ]
     },
     "metadata": {},
     "output_type": "display_data"
    },
    {
     "name": "stdout",
     "output_type": "stream",
     "text": [
      "Epoch 2126: train=8.74697, val=8.62076, took 70.364 s\n",
      "  Validation Found 101791 of 108007, added 5477 (eff 94.24%) (0.274 FP/event)\n",
      "Result epoch:  2126\n",
      "Average Eff:  0\n",
      "Average FP Rate:  0\n"
     ]
    },
    {
     "data": {
      "application/vnd.jupyter.widget-view+json": {
       "model_id": "",
       "version_major": 2,
       "version_minor": 0
      },
      "text/plain": [
       "HBox(children=(FloatProgress(value=0.0, description='Training', layout=Layout(flex='2'), max=1250.0, style=Pro…"
      ]
     },
     "metadata": {},
     "output_type": "display_data"
    },
    {
     "name": "stdout",
     "output_type": "stream",
     "text": [
      "Epoch 2127: train=8.74105, val=8.62327, took 71.018 s\n",
      "  Validation Found 101800 of 108007, added 5496 (eff 94.25%) (0.275 FP/event)\n",
      "Result epoch:  2127\n",
      "Average Eff:  0\n",
      "Average FP Rate:  0\n"
     ]
    },
    {
     "data": {
      "application/vnd.jupyter.widget-view+json": {
       "model_id": "",
       "version_major": 2,
       "version_minor": 0
      },
      "text/plain": [
       "HBox(children=(FloatProgress(value=0.0, description='Training', layout=Layout(flex='2'), max=1250.0, style=Pro…"
      ]
     },
     "metadata": {},
     "output_type": "display_data"
    },
    {
     "name": "stdout",
     "output_type": "stream",
     "text": [
      "Epoch 2128: train=8.73865, val=8.62073, took 70.419 s\n",
      "  Validation Found 101744 of 108007, added 5366 (eff 94.20%) (0.268 FP/event)\n",
      "Result epoch:  2128\n",
      "Average Eff:  0\n",
      "Average FP Rate:  0\n"
     ]
    },
    {
     "data": {
      "application/vnd.jupyter.widget-view+json": {
       "model_id": "",
       "version_major": 2,
       "version_minor": 0
      },
      "text/plain": [
       "HBox(children=(FloatProgress(value=0.0, description='Training', layout=Layout(flex='2'), max=1250.0, style=Pro…"
      ]
     },
     "metadata": {},
     "output_type": "display_data"
    },
    {
     "name": "stdout",
     "output_type": "stream",
     "text": [
      "Epoch 2129: train=8.74621, val=8.62135, took 72.131 s\n",
      "  Validation Found 101662 of 108007, added 5251 (eff 94.13%) (0.263 FP/event)\n",
      "Result epoch:  2129\n",
      "Average Eff:  0\n",
      "Average FP Rate:  0\n"
     ]
    },
    {
     "data": {
      "application/vnd.jupyter.widget-view+json": {
       "model_id": "",
       "version_major": 2,
       "version_minor": 0
      },
      "text/plain": [
       "HBox(children=(FloatProgress(value=0.0, description='Training', layout=Layout(flex='2'), max=1250.0, style=Pro…"
      ]
     },
     "metadata": {},
     "output_type": "display_data"
    },
    {
     "name": "stdout",
     "output_type": "stream",
     "text": [
      "Epoch 2130: train=8.73954, val=8.62799, took 71.203 s\n",
      "  Validation Found 101719 of 108007, added 5330 (eff 94.18%) (0.266 FP/event)\n",
      "Result epoch:  2130\n",
      "Average Eff:  0\n",
      "Average FP Rate:  0\n"
     ]
    },
    {
     "data": {
      "application/vnd.jupyter.widget-view+json": {
       "model_id": "",
       "version_major": 2,
       "version_minor": 0
      },
      "text/plain": [
       "HBox(children=(FloatProgress(value=0.0, description='Training', layout=Layout(flex='2'), max=1250.0, style=Pro…"
      ]
     },
     "metadata": {},
     "output_type": "display_data"
    },
    {
     "name": "stdout",
     "output_type": "stream",
     "text": [
      "Epoch 2131: train=8.74519, val=8.62283, took 70.928 s\n",
      "  Validation Found 101771 of 108007, added 5457 (eff 94.23%) (0.273 FP/event)\n",
      "Result epoch:  2131\n",
      "Average Eff:  0\n",
      "Average FP Rate:  0\n"
     ]
    },
    {
     "data": {
      "application/vnd.jupyter.widget-view+json": {
       "model_id": "",
       "version_major": 2,
       "version_minor": 0
      },
      "text/plain": [
       "HBox(children=(FloatProgress(value=0.0, description='Training', layout=Layout(flex='2'), max=1250.0, style=Pro…"
      ]
     },
     "metadata": {},
     "output_type": "display_data"
    },
    {
     "name": "stdout",
     "output_type": "stream",
     "text": [
      "Epoch 2132: train=8.74295, val=8.6319, took 71.241 s\n",
      "  Validation Found 101725 of 108007, added 5370 (eff 94.18%) (0.268 FP/event)\n",
      "Result epoch:  2132\n",
      "Average Eff:  0\n",
      "Average FP Rate:  0\n"
     ]
    },
    {
     "data": {
      "application/vnd.jupyter.widget-view+json": {
       "model_id": "",
       "version_major": 2,
       "version_minor": 0
      },
      "text/plain": [
       "HBox(children=(FloatProgress(value=0.0, description='Training', layout=Layout(flex='2'), max=1250.0, style=Pro…"
      ]
     },
     "metadata": {},
     "output_type": "display_data"
    },
    {
     "name": "stdout",
     "output_type": "stream",
     "text": [
      "Epoch 2133: train=8.74133, val=8.62514, took 70.762 s\n",
      "  Validation Found 101729 of 108007, added 5355 (eff 94.19%) (0.268 FP/event)\n",
      "Result epoch:  2133\n",
      "Average Eff:  0\n",
      "Average FP Rate:  0\n"
     ]
    },
    {
     "data": {
      "application/vnd.jupyter.widget-view+json": {
       "model_id": "",
       "version_major": 2,
       "version_minor": 0
      },
      "text/plain": [
       "HBox(children=(FloatProgress(value=0.0, description='Training', layout=Layout(flex='2'), max=1250.0, style=Pro…"
      ]
     },
     "metadata": {},
     "output_type": "display_data"
    },
    {
     "name": "stdout",
     "output_type": "stream",
     "text": [
      "Epoch 2134: train=8.73913, val=8.625, took 70.524 s\n",
      "  Validation Found 101765 of 108007, added 5462 (eff 94.22%) (0.273 FP/event)\n",
      "Result epoch:  2134\n",
      "Average Eff:  0\n",
      "Average FP Rate:  0\n"
     ]
    },
    {
     "data": {
      "application/vnd.jupyter.widget-view+json": {
       "model_id": "",
       "version_major": 2,
       "version_minor": 0
      },
      "text/plain": [
       "HBox(children=(FloatProgress(value=0.0, description='Training', layout=Layout(flex='2'), max=1250.0, style=Pro…"
      ]
     },
     "metadata": {},
     "output_type": "display_data"
    },
    {
     "name": "stdout",
     "output_type": "stream",
     "text": [
      "Epoch 2135: train=8.74036, val=8.61762, took 71.51 s\n",
      "  Validation Found 101770 of 108007, added 5450 (eff 94.23%) (0.272 FP/event)\n",
      "Result epoch:  2135\n",
      "Average Eff:  0\n",
      "Average FP Rate:  0\n"
     ]
    },
    {
     "data": {
      "application/vnd.jupyter.widget-view+json": {
       "model_id": "",
       "version_major": 2,
       "version_minor": 0
      },
      "text/plain": [
       "HBox(children=(FloatProgress(value=0.0, description='Training', layout=Layout(flex='2'), max=1250.0, style=Pro…"
      ]
     },
     "metadata": {},
     "output_type": "display_data"
    },
    {
     "name": "stdout",
     "output_type": "stream",
     "text": [
      "Epoch 2136: train=8.74318, val=8.63061, took 72.288 s\n",
      "  Validation Found 101682 of 108007, added 5314 (eff 94.14%) (0.266 FP/event)\n",
      "Result epoch:  2136\n",
      "Average Eff:  0\n",
      "Average FP Rate:  0\n"
     ]
    },
    {
     "data": {
      "application/vnd.jupyter.widget-view+json": {
       "model_id": "",
       "version_major": 2,
       "version_minor": 0
      },
      "text/plain": [
       "HBox(children=(FloatProgress(value=0.0, description='Training', layout=Layout(flex='2'), max=1250.0, style=Pro…"
      ]
     },
     "metadata": {},
     "output_type": "display_data"
    },
    {
     "name": "stdout",
     "output_type": "stream",
     "text": [
      "Epoch 2137: train=8.74064, val=8.6277, took 71.824 s\n",
      "  Validation Found 101721 of 108007, added 5353 (eff 94.18%) (0.268 FP/event)\n",
      "Result epoch:  2137\n",
      "Average Eff:  0\n",
      "Average FP Rate:  0\n"
     ]
    },
    {
     "data": {
      "application/vnd.jupyter.widget-view+json": {
       "model_id": "",
       "version_major": 2,
       "version_minor": 0
      },
      "text/plain": [
       "HBox(children=(FloatProgress(value=0.0, description='Training', layout=Layout(flex='2'), max=1250.0, style=Pro…"
      ]
     },
     "metadata": {},
     "output_type": "display_data"
    },
    {
     "name": "stdout",
     "output_type": "stream",
     "text": [
      "Epoch 2138: train=8.74021, val=8.62205, took 71.579 s\n",
      "  Validation Found 101798 of 108007, added 5494 (eff 94.25%) (0.275 FP/event)\n",
      "Result epoch:  2138\n",
      "Average Eff:  0\n",
      "Average FP Rate:  0\n"
     ]
    },
    {
     "data": {
      "application/vnd.jupyter.widget-view+json": {
       "model_id": "",
       "version_major": 2,
       "version_minor": 0
      },
      "text/plain": [
       "HBox(children=(FloatProgress(value=0.0, description='Training', layout=Layout(flex='2'), max=1250.0, style=Pro…"
      ]
     },
     "metadata": {},
     "output_type": "display_data"
    },
    {
     "name": "stdout",
     "output_type": "stream",
     "text": [
      "Epoch 2139: train=8.74049, val=8.62375, took 71.559 s\n",
      "  Validation Found 101726 of 108007, added 5346 (eff 94.18%) (0.267 FP/event)\n",
      "Result epoch:  2139\n",
      "Average Eff:  0\n",
      "Average FP Rate:  0\n"
     ]
    },
    {
     "data": {
      "application/vnd.jupyter.widget-view+json": {
       "model_id": "",
       "version_major": 2,
       "version_minor": 0
      },
      "text/plain": [
       "HBox(children=(FloatProgress(value=0.0, description='Training', layout=Layout(flex='2'), max=1250.0, style=Pro…"
      ]
     },
     "metadata": {},
     "output_type": "display_data"
    },
    {
     "name": "stdout",
     "output_type": "stream",
     "text": [
      "Epoch 2140: train=8.73838, val=8.62751, took 72.307 s\n",
      "  Validation Found 101780 of 108007, added 5494 (eff 94.23%) (0.275 FP/event)\n",
      "Result epoch:  2140\n",
      "Average Eff:  0\n",
      "Average FP Rate:  0\n"
     ]
    },
    {
     "data": {
      "application/vnd.jupyter.widget-view+json": {
       "model_id": "",
       "version_major": 2,
       "version_minor": 0
      },
      "text/plain": [
       "HBox(children=(FloatProgress(value=0.0, description='Training', layout=Layout(flex='2'), max=1250.0, style=Pro…"
      ]
     },
     "metadata": {},
     "output_type": "display_data"
    },
    {
     "name": "stdout",
     "output_type": "stream",
     "text": [
      "Epoch 2141: train=8.7405, val=8.62935, took 71.708 s\n",
      "  Validation Found 101797 of 108007, added 5545 (eff 94.25%) (0.277 FP/event)\n",
      "Result epoch:  2141\n",
      "Average Eff:  0\n",
      "Average FP Rate:  0\n"
     ]
    },
    {
     "data": {
      "application/vnd.jupyter.widget-view+json": {
       "model_id": "",
       "version_major": 2,
       "version_minor": 0
      },
      "text/plain": [
       "HBox(children=(FloatProgress(value=0.0, description='Training', layout=Layout(flex='2'), max=1250.0, style=Pro…"
      ]
     },
     "metadata": {},
     "output_type": "display_data"
    },
    {
     "name": "stdout",
     "output_type": "stream",
     "text": [
      "Epoch 2142: train=8.73927, val=8.62461, took 71.422 s\n",
      "  Validation Found 101760 of 108007, added 5403 (eff 94.22%) (0.27 FP/event)\n",
      "Result epoch:  2142\n",
      "Average Eff:  0\n",
      "Average FP Rate:  0\n"
     ]
    },
    {
     "data": {
      "application/vnd.jupyter.widget-view+json": {
       "model_id": "",
       "version_major": 2,
       "version_minor": 0
      },
      "text/plain": [
       "HBox(children=(FloatProgress(value=0.0, description='Training', layout=Layout(flex='2'), max=1250.0, style=Pro…"
      ]
     },
     "metadata": {},
     "output_type": "display_data"
    },
    {
     "name": "stdout",
     "output_type": "stream",
     "text": [
      "Epoch 2143: train=8.7389, val=8.62806, took 71.682 s\n",
      "  Validation Found 101782 of 108007, added 5447 (eff 94.24%) (0.272 FP/event)\n",
      "Result epoch:  2143\n",
      "Average Eff:  0\n",
      "Average FP Rate:  0\n"
     ]
    },
    {
     "data": {
      "application/vnd.jupyter.widget-view+json": {
       "model_id": "",
       "version_major": 2,
       "version_minor": 0
      },
      "text/plain": [
       "HBox(children=(FloatProgress(value=0.0, description='Training', layout=Layout(flex='2'), max=1250.0, style=Pro…"
      ]
     },
     "metadata": {},
     "output_type": "display_data"
    },
    {
     "name": "stdout",
     "output_type": "stream",
     "text": [
      "Epoch 2144: train=8.74088, val=8.62329, took 72.417 s\n",
      "  Validation Found 101735 of 108007, added 5366 (eff 94.19%) (0.268 FP/event)\n",
      "Result epoch:  2144\n",
      "Average Eff:  0\n",
      "Average FP Rate:  0\n"
     ]
    },
    {
     "data": {
      "application/vnd.jupyter.widget-view+json": {
       "model_id": "",
       "version_major": 2,
       "version_minor": 0
      },
      "text/plain": [
       "HBox(children=(FloatProgress(value=0.0, description='Training', layout=Layout(flex='2'), max=1250.0, style=Pro…"
      ]
     },
     "metadata": {},
     "output_type": "display_data"
    },
    {
     "name": "stdout",
     "output_type": "stream",
     "text": [
      "Epoch 2145: train=8.74292, val=8.63387, took 71.43 s\n",
      "  Validation Found 101823 of 108007, added 5608 (eff 94.27%) (0.28 FP/event)\n",
      "Result epoch:  2145\n",
      "Average Eff:  0\n",
      "Average FP Rate:  0\n"
     ]
    },
    {
     "data": {
      "application/vnd.jupyter.widget-view+json": {
       "model_id": "",
       "version_major": 2,
       "version_minor": 0
      },
      "text/plain": [
       "HBox(children=(FloatProgress(value=0.0, description='Training', layout=Layout(flex='2'), max=1250.0, style=Pro…"
      ]
     },
     "metadata": {},
     "output_type": "display_data"
    },
    {
     "name": "stdout",
     "output_type": "stream",
     "text": [
      "Epoch 2146: train=8.74315, val=8.62259, took 72.131 s\n",
      "  Validation Found 101777 of 108007, added 5442 (eff 94.23%) (0.272 FP/event)\n",
      "Result epoch:  2146\n",
      "Average Eff:  0\n",
      "Average FP Rate:  0\n"
     ]
    },
    {
     "data": {
      "application/vnd.jupyter.widget-view+json": {
       "model_id": "",
       "version_major": 2,
       "version_minor": 0
      },
      "text/plain": [
       "HBox(children=(FloatProgress(value=0.0, description='Training', layout=Layout(flex='2'), max=1250.0, style=Pro…"
      ]
     },
     "metadata": {},
     "output_type": "display_data"
    },
    {
     "name": "stdout",
     "output_type": "stream",
     "text": [
      "Epoch 2147: train=8.74204, val=8.61806, took 71.488 s\n",
      "  Validation Found 101728 of 108007, added 5364 (eff 94.19%) (0.268 FP/event)\n",
      "Result epoch:  2147\n",
      "Average Eff:  0\n",
      "Average FP Rate:  0\n"
     ]
    },
    {
     "data": {
      "application/vnd.jupyter.widget-view+json": {
       "model_id": "",
       "version_major": 2,
       "version_minor": 0
      },
      "text/plain": [
       "HBox(children=(FloatProgress(value=0.0, description='Training', layout=Layout(flex='2'), max=1250.0, style=Pro…"
      ]
     },
     "metadata": {},
     "output_type": "display_data"
    },
    {
     "name": "stdout",
     "output_type": "stream",
     "text": [
      "Epoch 2148: train=8.74291, val=8.62467, took 71.14 s\n",
      "  Validation Found 101747 of 108007, added 5423 (eff 94.20%) (0.271 FP/event)\n",
      "Result epoch:  2148\n",
      "Average Eff:  0\n",
      "Average FP Rate:  0\n"
     ]
    },
    {
     "data": {
      "application/vnd.jupyter.widget-view+json": {
       "model_id": "",
       "version_major": 2,
       "version_minor": 0
      },
      "text/plain": [
       "HBox(children=(FloatProgress(value=0.0, description='Training', layout=Layout(flex='2'), max=1250.0, style=Pro…"
      ]
     },
     "metadata": {},
     "output_type": "display_data"
    },
    {
     "name": "stdout",
     "output_type": "stream",
     "text": [
      "Epoch 2149: train=8.7402, val=8.63078, took 72.108 s\n",
      "  Validation Found 101682 of 108007, added 5311 (eff 94.14%) (0.266 FP/event)\n",
      "Result epoch:  2149\n",
      "Average Eff:  0\n",
      "Average FP Rate:  0\n"
     ]
    },
    {
     "data": {
      "application/vnd.jupyter.widget-view+json": {
       "model_id": "",
       "version_major": 2,
       "version_minor": 0
      },
      "text/plain": [
       "HBox(children=(FloatProgress(value=0.0, description='Training', layout=Layout(flex='2'), max=1250.0, style=Pro…"
      ]
     },
     "metadata": {},
     "output_type": "display_data"
    },
    {
     "name": "stdout",
     "output_type": "stream",
     "text": [
      "Epoch 2150: train=8.74693, val=8.61965, took 70.568 s\n",
      "  Validation Found 101620 of 108007, added 5231 (eff 94.09%) (0.262 FP/event)\n",
      "Result epoch:  2150\n",
      "Average Eff:  0\n",
      "Average FP Rate:  0\n"
     ]
    },
    {
     "data": {
      "application/vnd.jupyter.widget-view+json": {
       "model_id": "",
       "version_major": 2,
       "version_minor": 0
      },
      "text/plain": [
       "HBox(children=(FloatProgress(value=0.0, description='Training', layout=Layout(flex='2'), max=1250.0, style=Pro…"
      ]
     },
     "metadata": {},
     "output_type": "display_data"
    },
    {
     "name": "stdout",
     "output_type": "stream",
     "text": [
      "Epoch 2151: train=8.73589, val=8.62867, took 71.372 s\n",
      "  Validation Found 101738 of 108007, added 5369 (eff 94.20%) (0.268 FP/event)\n",
      "Result epoch:  2151\n",
      "Average Eff:  0\n",
      "Average FP Rate:  0\n"
     ]
    },
    {
     "data": {
      "application/vnd.jupyter.widget-view+json": {
       "model_id": "",
       "version_major": 2,
       "version_minor": 0
      },
      "text/plain": [
       "HBox(children=(FloatProgress(value=0.0, description='Training', layout=Layout(flex='2'), max=1250.0, style=Pro…"
      ]
     },
     "metadata": {},
     "output_type": "display_data"
    },
    {
     "name": "stdout",
     "output_type": "stream",
     "text": [
      "Epoch 2152: train=8.74347, val=8.62898, took 71.77 s\n",
      "  Validation Found 101726 of 108007, added 5368 (eff 94.18%) (0.268 FP/event)\n",
      "Result epoch:  2152\n",
      "Average Eff:  0\n",
      "Average FP Rate:  0\n"
     ]
    },
    {
     "data": {
      "application/vnd.jupyter.widget-view+json": {
       "model_id": "",
       "version_major": 2,
       "version_minor": 0
      },
      "text/plain": [
       "HBox(children=(FloatProgress(value=0.0, description='Training', layout=Layout(flex='2'), max=1250.0, style=Pro…"
      ]
     },
     "metadata": {},
     "output_type": "display_data"
    },
    {
     "name": "stdout",
     "output_type": "stream",
     "text": [
      "Epoch 2153: train=8.73727, val=8.62808, took 71.133 s\n",
      "  Validation Found 101768 of 108007, added 5506 (eff 94.22%) (0.275 FP/event)\n",
      "Result epoch:  2153\n",
      "Average Eff:  0\n",
      "Average FP Rate:  0\n"
     ]
    },
    {
     "data": {
      "application/vnd.jupyter.widget-view+json": {
       "model_id": "",
       "version_major": 2,
       "version_minor": 0
      },
      "text/plain": [
       "HBox(children=(FloatProgress(value=0.0, description='Training', layout=Layout(flex='2'), max=1250.0, style=Pro…"
      ]
     },
     "metadata": {},
     "output_type": "display_data"
    },
    {
     "name": "stdout",
     "output_type": "stream",
     "text": [
      "Epoch 2154: train=8.73646, val=8.62788, took 71.94 s\n",
      "  Validation Found 101754 of 108007, added 5416 (eff 94.21%) (0.271 FP/event)\n",
      "Result epoch:  2154\n",
      "Average Eff:  0\n",
      "Average FP Rate:  0\n"
     ]
    },
    {
     "data": {
      "application/vnd.jupyter.widget-view+json": {
       "model_id": "",
       "version_major": 2,
       "version_minor": 0
      },
      "text/plain": [
       "HBox(children=(FloatProgress(value=0.0, description='Training', layout=Layout(flex='2'), max=1250.0, style=Pro…"
      ]
     },
     "metadata": {},
     "output_type": "display_data"
    },
    {
     "name": "stdout",
     "output_type": "stream",
     "text": [
      "Epoch 2155: train=8.73654, val=8.63377, took 71.565 s\n",
      "  Validation Found 101788 of 108007, added 5458 (eff 94.24%) (0.273 FP/event)\n",
      "Result epoch:  2155\n",
      "Average Eff:  0\n",
      "Average FP Rate:  0\n"
     ]
    },
    {
     "data": {
      "application/vnd.jupyter.widget-view+json": {
       "model_id": "",
       "version_major": 2,
       "version_minor": 0
      },
      "text/plain": [
       "HBox(children=(FloatProgress(value=0.0, description='Training', layout=Layout(flex='2'), max=1250.0, style=Pro…"
      ]
     },
     "metadata": {},
     "output_type": "display_data"
    },
    {
     "name": "stdout",
     "output_type": "stream",
     "text": [
      "Epoch 2156: train=8.73914, val=8.6292, took 71.548 s\n",
      "  Validation Found 101742 of 108007, added 5403 (eff 94.20%) (0.27 FP/event)\n",
      "Result epoch:  2156\n",
      "Average Eff:  0\n",
      "Average FP Rate:  0\n"
     ]
    },
    {
     "data": {
      "application/vnd.jupyter.widget-view+json": {
       "model_id": "",
       "version_major": 2,
       "version_minor": 0
      },
      "text/plain": [
       "HBox(children=(FloatProgress(value=0.0, description='Training', layout=Layout(flex='2'), max=1250.0, style=Pro…"
      ]
     },
     "metadata": {},
     "output_type": "display_data"
    },
    {
     "name": "stdout",
     "output_type": "stream",
     "text": [
      "Epoch 2157: train=8.73746, val=8.63076, took 70.565 s\n",
      "  Validation Found 101820 of 108007, added 5606 (eff 94.27%) (0.28 FP/event)\n",
      "Result epoch:  2157\n",
      "Average Eff:  0\n",
      "Average FP Rate:  0\n"
     ]
    },
    {
     "data": {
      "application/vnd.jupyter.widget-view+json": {
       "model_id": "",
       "version_major": 2,
       "version_minor": 0
      },
      "text/plain": [
       "HBox(children=(FloatProgress(value=0.0, description='Training', layout=Layout(flex='2'), max=1250.0, style=Pro…"
      ]
     },
     "metadata": {},
     "output_type": "display_data"
    },
    {
     "name": "stdout",
     "output_type": "stream",
     "text": [
      "Epoch 2158: train=8.74065, val=8.62476, took 71.884 s\n",
      "  Validation Found 101751 of 108007, added 5389 (eff 94.21%) (0.269 FP/event)\n",
      "Result epoch:  2158\n",
      "Average Eff:  0\n",
      "Average FP Rate:  0\n"
     ]
    },
    {
     "data": {
      "application/vnd.jupyter.widget-view+json": {
       "model_id": "",
       "version_major": 2,
       "version_minor": 0
      },
      "text/plain": [
       "HBox(children=(FloatProgress(value=0.0, description='Training', layout=Layout(flex='2'), max=1250.0, style=Pro…"
      ]
     },
     "metadata": {},
     "output_type": "display_data"
    },
    {
     "name": "stdout",
     "output_type": "stream",
     "text": [
      "Epoch 2159: train=8.74038, val=8.62458, took 71.791 s\n",
      "  Validation Found 101635 of 108007, added 5248 (eff 94.10%) (0.262 FP/event)\n",
      "Result epoch:  2159\n",
      "Average Eff:  0\n",
      "Average FP Rate:  0\n"
     ]
    },
    {
     "data": {
      "application/vnd.jupyter.widget-view+json": {
       "model_id": "",
       "version_major": 2,
       "version_minor": 0
      },
      "text/plain": [
       "HBox(children=(FloatProgress(value=0.0, description='Training', layout=Layout(flex='2'), max=1250.0, style=Pro…"
      ]
     },
     "metadata": {},
     "output_type": "display_data"
    },
    {
     "name": "stdout",
     "output_type": "stream",
     "text": [
      "Epoch 2160: train=8.74053, val=8.61862, took 71.736 s\n",
      "  Validation Found 101777 of 108007, added 5461 (eff 94.23%) (0.273 FP/event)\n",
      "Result epoch:  2160\n",
      "Average Eff:  0\n",
      "Average FP Rate:  0\n"
     ]
    },
    {
     "data": {
      "application/vnd.jupyter.widget-view+json": {
       "model_id": "",
       "version_major": 2,
       "version_minor": 0
      },
      "text/plain": [
       "HBox(children=(FloatProgress(value=0.0, description='Training', layout=Layout(flex='2'), max=1250.0, style=Pro…"
      ]
     },
     "metadata": {},
     "output_type": "display_data"
    },
    {
     "name": "stdout",
     "output_type": "stream",
     "text": [
      "Epoch 2161: train=8.73738, val=8.62874, took 71.055 s\n",
      "  Validation Found 101658 of 108007, added 5291 (eff 94.12%) (0.265 FP/event)\n",
      "Result epoch:  2161\n",
      "Average Eff:  0\n",
      "Average FP Rate:  0\n"
     ]
    },
    {
     "data": {
      "application/vnd.jupyter.widget-view+json": {
       "model_id": "",
       "version_major": 2,
       "version_minor": 0
      },
      "text/plain": [
       "HBox(children=(FloatProgress(value=0.0, description='Training', layout=Layout(flex='2'), max=1250.0, style=Pro…"
      ]
     },
     "metadata": {},
     "output_type": "display_data"
    },
    {
     "name": "stdout",
     "output_type": "stream",
     "text": [
      "Epoch 2162: train=8.73552, val=8.62343, took 71.579 s\n",
      "  Validation Found 101660 of 108007, added 5284 (eff 94.12%) (0.264 FP/event)\n",
      "Result epoch:  2162\n",
      "Average Eff:  0\n",
      "Average FP Rate:  0\n"
     ]
    },
    {
     "data": {
      "application/vnd.jupyter.widget-view+json": {
       "model_id": "",
       "version_major": 2,
       "version_minor": 0
      },
      "text/plain": [
       "HBox(children=(FloatProgress(value=0.0, description='Training', layout=Layout(flex='2'), max=1250.0, style=Pro…"
      ]
     },
     "metadata": {},
     "output_type": "display_data"
    },
    {
     "name": "stdout",
     "output_type": "stream",
     "text": [
      "Epoch 2163: train=8.73926, val=8.61977, took 71.786 s\n",
      "  Validation Found 101654 of 108007, added 5275 (eff 94.12%) (0.264 FP/event)\n",
      "Result epoch:  2163\n",
      "Average Eff:  0\n",
      "Average FP Rate:  0\n"
     ]
    },
    {
     "data": {
      "application/vnd.jupyter.widget-view+json": {
       "model_id": "",
       "version_major": 2,
       "version_minor": 0
      },
      "text/plain": [
       "HBox(children=(FloatProgress(value=0.0, description='Training', layout=Layout(flex='2'), max=1250.0, style=Pro…"
      ]
     },
     "metadata": {},
     "output_type": "display_data"
    },
    {
     "name": "stdout",
     "output_type": "stream",
     "text": [
      "Epoch 2164: train=8.73756, val=8.62985, took 70.617 s\n",
      "  Validation Found 101696 of 108007, added 5310 (eff 94.16%) (0.265 FP/event)\n",
      "Result epoch:  2164\n",
      "Average Eff:  0\n",
      "Average FP Rate:  0\n"
     ]
    },
    {
     "data": {
      "application/vnd.jupyter.widget-view+json": {
       "model_id": "",
       "version_major": 2,
       "version_minor": 0
      },
      "text/plain": [
       "HBox(children=(FloatProgress(value=0.0, description='Training', layout=Layout(flex='2'), max=1250.0, style=Pro…"
      ]
     },
     "metadata": {},
     "output_type": "display_data"
    },
    {
     "name": "stdout",
     "output_type": "stream",
     "text": [
      "Epoch 2165: train=8.73594, val=8.63066, took 71.63 s\n",
      "  Validation Found 101720 of 108007, added 5399 (eff 94.18%) (0.27 FP/event)\n",
      "Result epoch:  2165\n",
      "Average Eff:  0\n",
      "Average FP Rate:  0\n"
     ]
    },
    {
     "data": {
      "application/vnd.jupyter.widget-view+json": {
       "model_id": "",
       "version_major": 2,
       "version_minor": 0
      },
      "text/plain": [
       "HBox(children=(FloatProgress(value=0.0, description='Training', layout=Layout(flex='2'), max=1250.0, style=Pro…"
      ]
     },
     "metadata": {},
     "output_type": "display_data"
    },
    {
     "name": "stdout",
     "output_type": "stream",
     "text": [
      "Epoch 2166: train=8.73088, val=8.62768, took 72.044 s\n",
      "  Validation Found 101612 of 108007, added 5239 (eff 94.08%) (0.262 FP/event)\n",
      "Result epoch:  2166\n",
      "Average Eff:  0\n",
      "Average FP Rate:  0\n"
     ]
    },
    {
     "data": {
      "application/vnd.jupyter.widget-view+json": {
       "model_id": "",
       "version_major": 2,
       "version_minor": 0
      },
      "text/plain": [
       "HBox(children=(FloatProgress(value=0.0, description='Training', layout=Layout(flex='2'), max=1250.0, style=Pro…"
      ]
     },
     "metadata": {},
     "output_type": "display_data"
    },
    {
     "name": "stdout",
     "output_type": "stream",
     "text": [
      "Epoch 2167: train=8.73849, val=8.62498, took 70.971 s\n",
      "  Validation Found 101738 of 108007, added 5386 (eff 94.20%) (0.269 FP/event)\n",
      "Result epoch:  2167\n",
      "Average Eff:  0\n",
      "Average FP Rate:  0\n"
     ]
    },
    {
     "data": {
      "application/vnd.jupyter.widget-view+json": {
       "model_id": "",
       "version_major": 2,
       "version_minor": 0
      },
      "text/plain": [
       "HBox(children=(FloatProgress(value=0.0, description='Training', layout=Layout(flex='2'), max=1250.0, style=Pro…"
      ]
     },
     "metadata": {},
     "output_type": "display_data"
    },
    {
     "name": "stdout",
     "output_type": "stream",
     "text": [
      "Epoch 2168: train=8.73586, val=8.63049, took 72.551 s\n",
      "  Validation Found 101750 of 108007, added 5449 (eff 94.21%) (0.272 FP/event)\n",
      "Result epoch:  2168\n",
      "Average Eff:  0\n",
      "Average FP Rate:  0\n"
     ]
    },
    {
     "data": {
      "application/vnd.jupyter.widget-view+json": {
       "model_id": "",
       "version_major": 2,
       "version_minor": 0
      },
      "text/plain": [
       "HBox(children=(FloatProgress(value=0.0, description='Training', layout=Layout(flex='2'), max=1250.0, style=Pro…"
      ]
     },
     "metadata": {},
     "output_type": "display_data"
    },
    {
     "name": "stdout",
     "output_type": "stream",
     "text": [
      "Epoch 2169: train=8.73322, val=8.62357, took 71.508 s\n",
      "  Validation Found 101682 of 108007, added 5304 (eff 94.14%) (0.265 FP/event)\n",
      "Result epoch:  2169\n",
      "Average Eff:  0\n",
      "Average FP Rate:  0\n"
     ]
    },
    {
     "data": {
      "application/vnd.jupyter.widget-view+json": {
       "model_id": "",
       "version_major": 2,
       "version_minor": 0
      },
      "text/plain": [
       "HBox(children=(FloatProgress(value=0.0, description='Training', layout=Layout(flex='2'), max=1250.0, style=Pro…"
      ]
     },
     "metadata": {},
     "output_type": "display_data"
    },
    {
     "name": "stdout",
     "output_type": "stream",
     "text": [
      "Epoch 2170: train=8.73206, val=8.62085, took 71.193 s\n",
      "  Validation Found 101764 of 108007, added 5430 (eff 94.22%) (0.271 FP/event)\n",
      "Result epoch:  2170\n",
      "Average Eff:  0\n",
      "Average FP Rate:  0\n"
     ]
    },
    {
     "data": {
      "application/vnd.jupyter.widget-view+json": {
       "model_id": "",
       "version_major": 2,
       "version_minor": 0
      },
      "text/plain": [
       "HBox(children=(FloatProgress(value=0.0, description='Training', layout=Layout(flex='2'), max=1250.0, style=Pro…"
      ]
     },
     "metadata": {},
     "output_type": "display_data"
    },
    {
     "name": "stdout",
     "output_type": "stream",
     "text": [
      "Epoch 2171: train=8.73351, val=8.62531, took 72.119 s\n",
      "  Validation Found 101707 of 108007, added 5323 (eff 94.17%) (0.266 FP/event)\n",
      "Result epoch:  2171\n",
      "Average Eff:  0\n",
      "Average FP Rate:  0\n"
     ]
    },
    {
     "data": {
      "application/vnd.jupyter.widget-view+json": {
       "model_id": "",
       "version_major": 2,
       "version_minor": 0
      },
      "text/plain": [
       "HBox(children=(FloatProgress(value=0.0, description='Training', layout=Layout(flex='2'), max=1250.0, style=Pro…"
      ]
     },
     "metadata": {},
     "output_type": "display_data"
    },
    {
     "name": "stdout",
     "output_type": "stream",
     "text": [
      "Epoch 2172: train=8.73647, val=8.6299, took 71.101 s\n",
      "  Validation Found 101741 of 108007, added 5390 (eff 94.20%) (0.269 FP/event)\n",
      "Result epoch:  2172\n",
      "Average Eff:  0\n",
      "Average FP Rate:  0\n"
     ]
    },
    {
     "data": {
      "application/vnd.jupyter.widget-view+json": {
       "model_id": "",
       "version_major": 2,
       "version_minor": 0
      },
      "text/plain": [
       "HBox(children=(FloatProgress(value=0.0, description='Training', layout=Layout(flex='2'), max=1250.0, style=Pro…"
      ]
     },
     "metadata": {},
     "output_type": "display_data"
    },
    {
     "name": "stdout",
     "output_type": "stream",
     "text": [
      "Epoch 2173: train=8.73175, val=8.62756, took 71.762 s\n",
      "  Validation Found 101717 of 108007, added 5369 (eff 94.18%) (0.268 FP/event)\n",
      "Result epoch:  2173\n",
      "Average Eff:  0\n",
      "Average FP Rate:  0\n"
     ]
    },
    {
     "data": {
      "application/vnd.jupyter.widget-view+json": {
       "model_id": "",
       "version_major": 2,
       "version_minor": 0
      },
      "text/plain": [
       "HBox(children=(FloatProgress(value=0.0, description='Training', layout=Layout(flex='2'), max=1250.0, style=Pro…"
      ]
     },
     "metadata": {},
     "output_type": "display_data"
    },
    {
     "name": "stdout",
     "output_type": "stream",
     "text": [
      "Epoch 2174: train=8.73506, val=8.61897, took 72.119 s\n",
      "  Validation Found 101682 of 108007, added 5293 (eff 94.14%) (0.265 FP/event)\n",
      "Result epoch:  2174\n",
      "Average Eff:  0\n",
      "Average FP Rate:  0\n"
     ]
    },
    {
     "data": {
      "application/vnd.jupyter.widget-view+json": {
       "model_id": "",
       "version_major": 2,
       "version_minor": 0
      },
      "text/plain": [
       "HBox(children=(FloatProgress(value=0.0, description='Training', layout=Layout(flex='2'), max=1250.0, style=Pro…"
      ]
     },
     "metadata": {},
     "output_type": "display_data"
    },
    {
     "name": "stdout",
     "output_type": "stream",
     "text": [
      "Epoch 2175: train=8.72995, val=8.62107, took 71.905 s\n",
      "  Validation Found 101748 of 108007, added 5405 (eff 94.21%) (0.27 FP/event)\n",
      "Result epoch:  2175\n",
      "Average Eff:  0\n",
      "Average FP Rate:  0\n"
     ]
    },
    {
     "data": {
      "application/vnd.jupyter.widget-view+json": {
       "model_id": "",
       "version_major": 2,
       "version_minor": 0
      },
      "text/plain": [
       "HBox(children=(FloatProgress(value=0.0, description='Training', layout=Layout(flex='2'), max=1250.0, style=Pro…"
      ]
     },
     "metadata": {},
     "output_type": "display_data"
    },
    {
     "name": "stdout",
     "output_type": "stream",
     "text": [
      "Epoch 2176: train=8.73519, val=8.62362, took 70.731 s\n",
      "  Validation Found 101752 of 108007, added 5422 (eff 94.21%) (0.271 FP/event)\n",
      "Result epoch:  2176\n",
      "Average Eff:  0\n",
      "Average FP Rate:  0\n"
     ]
    },
    {
     "data": {
      "application/vnd.jupyter.widget-view+json": {
       "model_id": "",
       "version_major": 2,
       "version_minor": 0
      },
      "text/plain": [
       "HBox(children=(FloatProgress(value=0.0, description='Training', layout=Layout(flex='2'), max=1250.0, style=Pro…"
      ]
     },
     "metadata": {},
     "output_type": "display_data"
    },
    {
     "name": "stdout",
     "output_type": "stream",
     "text": [
      "Epoch 2177: train=8.72656, val=8.63248, took 70.731 s\n",
      "  Validation Found 101647 of 108007, added 5287 (eff 94.11%) (0.264 FP/event)\n",
      "Result epoch:  2177\n",
      "Average Eff:  0\n",
      "Average FP Rate:  0\n"
     ]
    },
    {
     "data": {
      "application/vnd.jupyter.widget-view+json": {
       "model_id": "",
       "version_major": 2,
       "version_minor": 0
      },
      "text/plain": [
       "HBox(children=(FloatProgress(value=0.0, description='Training', layout=Layout(flex='2'), max=1250.0, style=Pro…"
      ]
     },
     "metadata": {},
     "output_type": "display_data"
    },
    {
     "name": "stdout",
     "output_type": "stream",
     "text": [
      "Epoch 2178: train=8.73217, val=8.62161, took 70.765 s\n",
      "  Validation Found 101645 of 108007, added 5253 (eff 94.11%) (0.263 FP/event)\n",
      "Result epoch:  2178\n",
      "Average Eff:  0\n",
      "Average FP Rate:  0\n"
     ]
    },
    {
     "data": {
      "application/vnd.jupyter.widget-view+json": {
       "model_id": "",
       "version_major": 2,
       "version_minor": 0
      },
      "text/plain": [
       "HBox(children=(FloatProgress(value=0.0, description='Training', layout=Layout(flex='2'), max=1250.0, style=Pro…"
      ]
     },
     "metadata": {},
     "output_type": "display_data"
    },
    {
     "name": "stdout",
     "output_type": "stream",
     "text": [
      "Epoch 2179: train=8.73913, val=8.62948, took 71.0 s\n",
      "  Validation Found 101810 of 108007, added 5573 (eff 94.26%) (0.279 FP/event)\n",
      "Result epoch:  2179\n",
      "Average Eff:  0\n",
      "Average FP Rate:  0\n"
     ]
    },
    {
     "data": {
      "application/vnd.jupyter.widget-view+json": {
       "model_id": "",
       "version_major": 2,
       "version_minor": 0
      },
      "text/plain": [
       "HBox(children=(FloatProgress(value=0.0, description='Training', layout=Layout(flex='2'), max=1250.0, style=Pro…"
      ]
     },
     "metadata": {},
     "output_type": "display_data"
    },
    {
     "name": "stdout",
     "output_type": "stream",
     "text": [
      "Epoch 2180: train=8.73419, val=8.63271, took 70.479 s\n",
      "  Validation Found 101802 of 108007, added 5549 (eff 94.26%) (0.277 FP/event)\n",
      "Result epoch:  2180\n",
      "Average Eff:  0\n",
      "Average FP Rate:  0\n"
     ]
    },
    {
     "data": {
      "application/vnd.jupyter.widget-view+json": {
       "model_id": "",
       "version_major": 2,
       "version_minor": 0
      },
      "text/plain": [
       "HBox(children=(FloatProgress(value=0.0, description='Training', layout=Layout(flex='2'), max=1250.0, style=Pro…"
      ]
     },
     "metadata": {},
     "output_type": "display_data"
    },
    {
     "name": "stdout",
     "output_type": "stream",
     "text": [
      "Epoch 2181: train=8.73604, val=8.62127, took 71.784 s\n",
      "  Validation Found 101731 of 108007, added 5409 (eff 94.19%) (0.27 FP/event)\n",
      "Result epoch:  2181\n",
      "Average Eff:  0\n",
      "Average FP Rate:  0\n"
     ]
    },
    {
     "data": {
      "application/vnd.jupyter.widget-view+json": {
       "model_id": "",
       "version_major": 2,
       "version_minor": 0
      },
      "text/plain": [
       "HBox(children=(FloatProgress(value=0.0, description='Training', layout=Layout(flex='2'), max=1250.0, style=Pro…"
      ]
     },
     "metadata": {},
     "output_type": "display_data"
    },
    {
     "name": "stdout",
     "output_type": "stream",
     "text": [
      "Epoch 2182: train=8.7324, val=8.62296, took 70.678 s\n",
      "  Validation Found 101722 of 108007, added 5379 (eff 94.18%) (0.269 FP/event)\n",
      "Result epoch:  2182\n",
      "Average Eff:  0\n",
      "Average FP Rate:  0\n"
     ]
    },
    {
     "data": {
      "application/vnd.jupyter.widget-view+json": {
       "model_id": "",
       "version_major": 2,
       "version_minor": 0
      },
      "text/plain": [
       "HBox(children=(FloatProgress(value=0.0, description='Training', layout=Layout(flex='2'), max=1250.0, style=Pro…"
      ]
     },
     "metadata": {},
     "output_type": "display_data"
    },
    {
     "name": "stdout",
     "output_type": "stream",
     "text": [
      "Epoch 2183: train=8.73106, val=8.62458, took 71.766 s\n",
      "  Validation Found 101760 of 108007, added 5467 (eff 94.22%) (0.273 FP/event)\n",
      "Result epoch:  2183\n",
      "Average Eff:  0\n",
      "Average FP Rate:  0\n"
     ]
    },
    {
     "data": {
      "application/vnd.jupyter.widget-view+json": {
       "model_id": "",
       "version_major": 2,
       "version_minor": 0
      },
      "text/plain": [
       "HBox(children=(FloatProgress(value=0.0, description='Training', layout=Layout(flex='2'), max=1250.0, style=Pro…"
      ]
     },
     "metadata": {},
     "output_type": "display_data"
    },
    {
     "name": "stdout",
     "output_type": "stream",
     "text": [
      "Epoch 2184: train=8.73342, val=8.62632, took 71.608 s\n",
      "  Validation Found 101718 of 108007, added 5384 (eff 94.18%) (0.269 FP/event)\n",
      "Result epoch:  2184\n",
      "Average Eff:  0\n",
      "Average FP Rate:  0\n"
     ]
    },
    {
     "data": {
      "application/vnd.jupyter.widget-view+json": {
       "model_id": "",
       "version_major": 2,
       "version_minor": 0
      },
      "text/plain": [
       "HBox(children=(FloatProgress(value=0.0, description='Training', layout=Layout(flex='2'), max=1250.0, style=Pro…"
      ]
     },
     "metadata": {},
     "output_type": "display_data"
    },
    {
     "name": "stdout",
     "output_type": "stream",
     "text": [
      "Epoch 2185: train=8.72504, val=8.62734, took 71.634 s\n",
      "  Validation Found 101762 of 108007, added 5440 (eff 94.22%) (0.272 FP/event)\n",
      "Result epoch:  2185\n",
      "Average Eff:  0\n",
      "Average FP Rate:  0\n"
     ]
    },
    {
     "data": {
      "application/vnd.jupyter.widget-view+json": {
       "model_id": "",
       "version_major": 2,
       "version_minor": 0
      },
      "text/plain": [
       "HBox(children=(FloatProgress(value=0.0, description='Training', layout=Layout(flex='2'), max=1250.0, style=Pro…"
      ]
     },
     "metadata": {},
     "output_type": "display_data"
    },
    {
     "name": "stdout",
     "output_type": "stream",
     "text": [
      "Epoch 2186: train=8.7263, val=8.62899, took 71.666 s\n",
      "  Validation Found 101739 of 108007, added 5428 (eff 94.20%) (0.271 FP/event)\n",
      "Result epoch:  2186\n",
      "Average Eff:  0\n",
      "Average FP Rate:  0\n"
     ]
    },
    {
     "data": {
      "application/vnd.jupyter.widget-view+json": {
       "model_id": "",
       "version_major": 2,
       "version_minor": 0
      },
      "text/plain": [
       "HBox(children=(FloatProgress(value=0.0, description='Training', layout=Layout(flex='2'), max=1250.0, style=Pro…"
      ]
     },
     "metadata": {},
     "output_type": "display_data"
    },
    {
     "name": "stdout",
     "output_type": "stream",
     "text": [
      "Epoch 2187: train=8.73351, val=8.62455, took 70.944 s\n",
      "  Validation Found 101711 of 108007, added 5361 (eff 94.17%) (0.268 FP/event)\n",
      "Result epoch:  2187\n",
      "Average Eff:  0\n",
      "Average FP Rate:  0\n"
     ]
    },
    {
     "data": {
      "application/vnd.jupyter.widget-view+json": {
       "model_id": "",
       "version_major": 2,
       "version_minor": 0
      },
      "text/plain": [
       "HBox(children=(FloatProgress(value=0.0, description='Training', layout=Layout(flex='2'), max=1250.0, style=Pro…"
      ]
     },
     "metadata": {},
     "output_type": "display_data"
    },
    {
     "name": "stdout",
     "output_type": "stream",
     "text": [
      "Epoch 2188: train=8.72644, val=8.62832, took 71.751 s\n",
      "  Validation Found 101720 of 108007, added 5357 (eff 94.18%) (0.268 FP/event)\n",
      "Result epoch:  2188\n",
      "Average Eff:  0\n",
      "Average FP Rate:  0\n"
     ]
    },
    {
     "data": {
      "application/vnd.jupyter.widget-view+json": {
       "model_id": "",
       "version_major": 2,
       "version_minor": 0
      },
      "text/plain": [
       "HBox(children=(FloatProgress(value=0.0, description='Training', layout=Layout(flex='2'), max=1250.0, style=Pro…"
      ]
     },
     "metadata": {},
     "output_type": "display_data"
    },
    {
     "name": "stdout",
     "output_type": "stream",
     "text": [
      "Epoch 2189: train=8.73315, val=8.63353, took 71.803 s\n",
      "  Validation Found 101749 of 108007, added 5452 (eff 94.21%) (0.273 FP/event)\n",
      "Result epoch:  2189\n",
      "Average Eff:  0\n",
      "Average FP Rate:  0\n"
     ]
    },
    {
     "data": {
      "application/vnd.jupyter.widget-view+json": {
       "model_id": "",
       "version_major": 2,
       "version_minor": 0
      },
      "text/plain": [
       "HBox(children=(FloatProgress(value=0.0, description='Training', layout=Layout(flex='2'), max=1250.0, style=Pro…"
      ]
     },
     "metadata": {},
     "output_type": "display_data"
    },
    {
     "name": "stdout",
     "output_type": "stream",
     "text": [
      "Epoch 2190: train=8.73047, val=8.62387, took 72.2 s\n",
      "  Validation Found 101714 of 108007, added 5367 (eff 94.17%) (0.268 FP/event)\n",
      "Result epoch:  2190\n",
      "Average Eff:  0\n",
      "Average FP Rate:  0\n"
     ]
    },
    {
     "data": {
      "application/vnd.jupyter.widget-view+json": {
       "model_id": "",
       "version_major": 2,
       "version_minor": 0
      },
      "text/plain": [
       "HBox(children=(FloatProgress(value=0.0, description='Training', layout=Layout(flex='2'), max=1250.0, style=Pro…"
      ]
     },
     "metadata": {},
     "output_type": "display_data"
    },
    {
     "name": "stdout",
     "output_type": "stream",
     "text": [
      "Epoch 2191: train=8.73068, val=8.62584, took 71.245 s\n",
      "  Validation Found 101708 of 108007, added 5385 (eff 94.17%) (0.269 FP/event)\n",
      "Result epoch:  2191\n",
      "Average Eff:  0\n",
      "Average FP Rate:  0\n"
     ]
    },
    {
     "data": {
      "application/vnd.jupyter.widget-view+json": {
       "model_id": "",
       "version_major": 2,
       "version_minor": 0
      },
      "text/plain": [
       "HBox(children=(FloatProgress(value=0.0, description='Training', layout=Layout(flex='2'), max=1250.0, style=Pro…"
      ]
     },
     "metadata": {},
     "output_type": "display_data"
    },
    {
     "name": "stdout",
     "output_type": "stream",
     "text": [
      "Epoch 2192: train=8.73098, val=8.63136, took 71.204 s\n",
      "  Validation Found 101741 of 108007, added 5449 (eff 94.20%) (0.272 FP/event)\n",
      "Result epoch:  2192\n",
      "Average Eff:  0\n",
      "Average FP Rate:  0\n"
     ]
    },
    {
     "data": {
      "application/vnd.jupyter.widget-view+json": {
       "model_id": "",
       "version_major": 2,
       "version_minor": 0
      },
      "text/plain": [
       "HBox(children=(FloatProgress(value=0.0, description='Training', layout=Layout(flex='2'), max=1250.0, style=Pro…"
      ]
     },
     "metadata": {},
     "output_type": "display_data"
    },
    {
     "name": "stdout",
     "output_type": "stream",
     "text": [
      "Epoch 2193: train=8.7306, val=8.62634, took 71.526 s\n",
      "  Validation Found 101800 of 108007, added 5534 (eff 94.25%) (0.277 FP/event)\n",
      "Result epoch:  2193\n",
      "Average Eff:  0\n",
      "Average FP Rate:  0\n"
     ]
    },
    {
     "data": {
      "application/vnd.jupyter.widget-view+json": {
       "model_id": "",
       "version_major": 2,
       "version_minor": 0
      },
      "text/plain": [
       "HBox(children=(FloatProgress(value=0.0, description='Training', layout=Layout(flex='2'), max=1250.0, style=Pro…"
      ]
     },
     "metadata": {},
     "output_type": "display_data"
    },
    {
     "name": "stdout",
     "output_type": "stream",
     "text": [
      "Epoch 2194: train=8.7326, val=8.62756, took 71.007 s\n",
      "  Validation Found 101705 of 108007, added 5356 (eff 94.17%) (0.268 FP/event)\n",
      "Result epoch:  2194\n",
      "Average Eff:  0\n",
      "Average FP Rate:  0\n"
     ]
    },
    {
     "data": {
      "application/vnd.jupyter.widget-view+json": {
       "model_id": "",
       "version_major": 2,
       "version_minor": 0
      },
      "text/plain": [
       "HBox(children=(FloatProgress(value=0.0, description='Training', layout=Layout(flex='2'), max=1250.0, style=Pro…"
      ]
     },
     "metadata": {},
     "output_type": "display_data"
    },
    {
     "name": "stdout",
     "output_type": "stream",
     "text": [
      "Epoch 2195: train=8.73153, val=8.62543, took 70.284 s\n",
      "  Validation Found 101825 of 108007, added 5587 (eff 94.28%) (0.279 FP/event)\n",
      "Result epoch:  2195\n",
      "Average Eff:  0\n",
      "Average FP Rate:  0\n"
     ]
    },
    {
     "data": {
      "application/vnd.jupyter.widget-view+json": {
       "model_id": "",
       "version_major": 2,
       "version_minor": 0
      },
      "text/plain": [
       "HBox(children=(FloatProgress(value=0.0, description='Training', layout=Layout(flex='2'), max=1250.0, style=Pro…"
      ]
     },
     "metadata": {},
     "output_type": "display_data"
    },
    {
     "name": "stdout",
     "output_type": "stream",
     "text": [
      "Epoch 2196: train=8.73043, val=8.63687, took 71.432 s\n",
      "  Validation Found 101683 of 108007, added 5328 (eff 94.14%) (0.266 FP/event)\n",
      "Result epoch:  2196\n",
      "Average Eff:  0\n",
      "Average FP Rate:  0\n"
     ]
    },
    {
     "data": {
      "application/vnd.jupyter.widget-view+json": {
       "model_id": "",
       "version_major": 2,
       "version_minor": 0
      },
      "text/plain": [
       "HBox(children=(FloatProgress(value=0.0, description='Training', layout=Layout(flex='2'), max=1250.0, style=Pro…"
      ]
     },
     "metadata": {},
     "output_type": "display_data"
    },
    {
     "name": "stdout",
     "output_type": "stream",
     "text": [
      "Epoch 2197: train=8.72453, val=8.62926, took 71.188 s\n",
      "  Validation Found 101822 of 108007, added 5584 (eff 94.27%) (0.279 FP/event)\n",
      "Result epoch:  2197\n",
      "Average Eff:  0\n",
      "Average FP Rate:  0\n"
     ]
    },
    {
     "data": {
      "application/vnd.jupyter.widget-view+json": {
       "model_id": "",
       "version_major": 2,
       "version_minor": 0
      },
      "text/plain": [
       "HBox(children=(FloatProgress(value=0.0, description='Training', layout=Layout(flex='2'), max=1250.0, style=Pro…"
      ]
     },
     "metadata": {},
     "output_type": "display_data"
    },
    {
     "name": "stdout",
     "output_type": "stream",
     "text": [
      "Epoch 2198: train=8.72654, val=8.63287, took 69.59 s\n",
      "  Validation Found 101642 of 108007, added 5265 (eff 94.11%) (0.263 FP/event)\n",
      "Result epoch:  2198\n",
      "Average Eff:  0\n",
      "Average FP Rate:  0\n"
     ]
    },
    {
     "data": {
      "application/vnd.jupyter.widget-view+json": {
       "model_id": "",
       "version_major": 2,
       "version_minor": 0
      },
      "text/plain": [
       "HBox(children=(FloatProgress(value=0.0, description='Training', layout=Layout(flex='2'), max=1250.0, style=Pro…"
      ]
     },
     "metadata": {},
     "output_type": "display_data"
    },
    {
     "name": "stdout",
     "output_type": "stream",
     "text": [
      "Epoch 2199: train=8.73032, val=8.6279, took 69.994 s\n",
      "  Validation Found 101779 of 108007, added 5526 (eff 94.23%) (0.276 FP/event)\n",
      "Result epoch:  2199\n",
      "Average Eff:  0\n",
      "Average FP Rate:  0\n"
     ]
    },
    {
     "data": {
      "application/vnd.jupyter.widget-view+json": {
       "model_id": "",
       "version_major": 2,
       "version_minor": 0
      },
      "text/plain": [
       "HBox(children=(FloatProgress(value=0.0, description='Training', layout=Layout(flex='2'), max=1250.0, style=Pro…"
      ]
     },
     "metadata": {},
     "output_type": "display_data"
    },
    {
     "name": "stdout",
     "output_type": "stream",
     "text": [
      "Epoch 2200: train=8.72961, val=8.62435, took 71.438 s\n",
      "  Validation Found 101800 of 108007, added 5520 (eff 94.25%) (0.276 FP/event)\n",
      "Result epoch:  2200\n",
      "Average Eff:  0\n",
      "Average FP Rate:  0\n"
     ]
    },
    {
     "data": {
      "application/vnd.jupyter.widget-view+json": {
       "model_id": "",
       "version_major": 2,
       "version_minor": 0
      },
      "text/plain": [
       "HBox(children=(FloatProgress(value=0.0, description='Training', layout=Layout(flex='2'), max=1250.0, style=Pro…"
      ]
     },
     "metadata": {},
     "output_type": "display_data"
    },
    {
     "name": "stdout",
     "output_type": "stream",
     "text": [
      "Epoch 2201: train=8.73026, val=8.6307, took 72.413 s\n",
      "  Validation Found 101711 of 108007, added 5367 (eff 94.17%) (0.268 FP/event)\n",
      "Result epoch:  2201\n",
      "Average Eff:  0\n",
      "Average FP Rate:  0\n"
     ]
    },
    {
     "data": {
      "application/vnd.jupyter.widget-view+json": {
       "model_id": "",
       "version_major": 2,
       "version_minor": 0
      },
      "text/plain": [
       "HBox(children=(FloatProgress(value=0.0, description='Training', layout=Layout(flex='2'), max=1250.0, style=Pro…"
      ]
     },
     "metadata": {},
     "output_type": "display_data"
    },
    {
     "name": "stdout",
     "output_type": "stream",
     "text": [
      "Epoch 2202: train=8.72977, val=8.62581, took 72.189 s\n",
      "  Validation Found 101685 of 108007, added 5325 (eff 94.15%) (0.266 FP/event)\n",
      "Result epoch:  2202\n",
      "Average Eff:  0\n",
      "Average FP Rate:  0\n"
     ]
    },
    {
     "data": {
      "application/vnd.jupyter.widget-view+json": {
       "model_id": "",
       "version_major": 2,
       "version_minor": 0
      },
      "text/plain": [
       "HBox(children=(FloatProgress(value=0.0, description='Training', layout=Layout(flex='2'), max=1250.0, style=Pro…"
      ]
     },
     "metadata": {},
     "output_type": "display_data"
    },
    {
     "name": "stdout",
     "output_type": "stream",
     "text": [
      "Epoch 2203: train=8.7253, val=8.63559, took 71.665 s\n",
      "  Validation Found 101760 of 108007, added 5471 (eff 94.22%) (0.274 FP/event)\n",
      "Result epoch:  2203\n",
      "Average Eff:  0\n",
      "Average FP Rate:  0\n"
     ]
    },
    {
     "data": {
      "application/vnd.jupyter.widget-view+json": {
       "model_id": "",
       "version_major": 2,
       "version_minor": 0
      },
      "text/plain": [
       "HBox(children=(FloatProgress(value=0.0, description='Training', layout=Layout(flex='2'), max=1250.0, style=Pro…"
      ]
     },
     "metadata": {},
     "output_type": "display_data"
    },
    {
     "name": "stdout",
     "output_type": "stream",
     "text": [
      "Epoch 2204: train=8.7294, val=8.62287, took 71.79 s\n",
      "  Validation Found 101740 of 108007, added 5401 (eff 94.20%) (0.27 FP/event)\n",
      "Result epoch:  2204\n",
      "Average Eff:  0\n",
      "Average FP Rate:  0\n"
     ]
    },
    {
     "data": {
      "application/vnd.jupyter.widget-view+json": {
       "model_id": "",
       "version_major": 2,
       "version_minor": 0
      },
      "text/plain": [
       "HBox(children=(FloatProgress(value=0.0, description='Training', layout=Layout(flex='2'), max=1250.0, style=Pro…"
      ]
     },
     "metadata": {},
     "output_type": "display_data"
    },
    {
     "name": "stdout",
     "output_type": "stream",
     "text": [
      "Epoch 2205: train=8.72886, val=8.62944, took 71.212 s\n",
      "  Validation Found 101669 of 108007, added 5289 (eff 94.13%) (0.264 FP/event)\n",
      "Result epoch:  2205\n",
      "Average Eff:  0\n",
      "Average FP Rate:  0\n"
     ]
    },
    {
     "data": {
      "application/vnd.jupyter.widget-view+json": {
       "model_id": "",
       "version_major": 2,
       "version_minor": 0
      },
      "text/plain": [
       "HBox(children=(FloatProgress(value=0.0, description='Training', layout=Layout(flex='2'), max=1250.0, style=Pro…"
      ]
     },
     "metadata": {},
     "output_type": "display_data"
    },
    {
     "name": "stdout",
     "output_type": "stream",
     "text": [
      "Epoch 2206: train=8.72785, val=8.62463, took 71.825 s\n",
      "  Validation Found 101644 of 108007, added 5263 (eff 94.11%) (0.263 FP/event)\n",
      "Result epoch:  2206\n",
      "Average Eff:  0\n",
      "Average FP Rate:  0\n"
     ]
    },
    {
     "data": {
      "application/vnd.jupyter.widget-view+json": {
       "model_id": "",
       "version_major": 2,
       "version_minor": 0
      },
      "text/plain": [
       "HBox(children=(FloatProgress(value=0.0, description='Training', layout=Layout(flex='2'), max=1250.0, style=Pro…"
      ]
     },
     "metadata": {},
     "output_type": "display_data"
    },
    {
     "name": "stdout",
     "output_type": "stream",
     "text": [
      "Epoch 2207: train=8.72932, val=8.6189, took 70.741 s\n",
      "  Validation Found 101732 of 108007, added 5392 (eff 94.19%) (0.27 FP/event)\n",
      "Result epoch:  2207\n",
      "Average Eff:  0\n",
      "Average FP Rate:  0\n"
     ]
    },
    {
     "data": {
      "application/vnd.jupyter.widget-view+json": {
       "model_id": "",
       "version_major": 2,
       "version_minor": 0
      },
      "text/plain": [
       "HBox(children=(FloatProgress(value=0.0, description='Training', layout=Layout(flex='2'), max=1250.0, style=Pro…"
      ]
     },
     "metadata": {},
     "output_type": "display_data"
    },
    {
     "name": "stdout",
     "output_type": "stream",
     "text": [
      "Epoch 2208: train=8.72967, val=8.6206, took 71.348 s\n",
      "  Validation Found 101724 of 108007, added 5405 (eff 94.18%) (0.27 FP/event)\n",
      "Result epoch:  2208\n",
      "Average Eff:  0\n",
      "Average FP Rate:  0\n"
     ]
    },
    {
     "data": {
      "application/vnd.jupyter.widget-view+json": {
       "model_id": "",
       "version_major": 2,
       "version_minor": 0
      },
      "text/plain": [
       "HBox(children=(FloatProgress(value=0.0, description='Training', layout=Layout(flex='2'), max=1250.0, style=Pro…"
      ]
     },
     "metadata": {},
     "output_type": "display_data"
    },
    {
     "name": "stdout",
     "output_type": "stream",
     "text": [
      "Epoch 2209: train=8.72911, val=8.61866, took 70.421 s\n",
      "  Validation Found 101798 of 108007, added 5534 (eff 94.25%) (0.277 FP/event)\n",
      "Result epoch:  2209\n",
      "Average Eff:  0\n",
      "Average FP Rate:  0\n"
     ]
    },
    {
     "data": {
      "application/vnd.jupyter.widget-view+json": {
       "model_id": "",
       "version_major": 2,
       "version_minor": 0
      },
      "text/plain": [
       "HBox(children=(FloatProgress(value=0.0, description='Training', layout=Layout(flex='2'), max=1250.0, style=Pro…"
      ]
     },
     "metadata": {},
     "output_type": "display_data"
    },
    {
     "name": "stdout",
     "output_type": "stream",
     "text": [
      "Epoch 2210: train=8.72642, val=8.63097, took 70.224 s\n",
      "  Validation Found 101732 of 108007, added 5451 (eff 94.19%) (0.273 FP/event)\n",
      "Result epoch:  2210\n",
      "Average Eff:  0\n",
      "Average FP Rate:  0\n"
     ]
    },
    {
     "data": {
      "application/vnd.jupyter.widget-view+json": {
       "model_id": "",
       "version_major": 2,
       "version_minor": 0
      },
      "text/plain": [
       "HBox(children=(FloatProgress(value=0.0, description='Training', layout=Layout(flex='2'), max=1250.0, style=Pro…"
      ]
     },
     "metadata": {},
     "output_type": "display_data"
    },
    {
     "name": "stdout",
     "output_type": "stream",
     "text": [
      "Epoch 2211: train=8.72511, val=8.62503, took 70.643 s\n",
      "  Validation Found 101733 of 108007, added 5415 (eff 94.19%) (0.271 FP/event)\n",
      "Result epoch:  2211\n",
      "Average Eff:  0\n",
      "Average FP Rate:  0\n"
     ]
    },
    {
     "data": {
      "application/vnd.jupyter.widget-view+json": {
       "model_id": "",
       "version_major": 2,
       "version_minor": 0
      },
      "text/plain": [
       "HBox(children=(FloatProgress(value=0.0, description='Training', layout=Layout(flex='2'), max=1250.0, style=Pro…"
      ]
     },
     "metadata": {},
     "output_type": "display_data"
    },
    {
     "name": "stdout",
     "output_type": "stream",
     "text": [
      "Epoch 2212: train=8.723, val=8.62407, took 70.418 s\n",
      "  Validation Found 101694 of 108007, added 5359 (eff 94.16%) (0.268 FP/event)\n",
      "Result epoch:  2212\n",
      "Average Eff:  0\n",
      "Average FP Rate:  0\n"
     ]
    },
    {
     "data": {
      "application/vnd.jupyter.widget-view+json": {
       "model_id": "",
       "version_major": 2,
       "version_minor": 0
      },
      "text/plain": [
       "HBox(children=(FloatProgress(value=0.0, description='Training', layout=Layout(flex='2'), max=1250.0, style=Pro…"
      ]
     },
     "metadata": {},
     "output_type": "display_data"
    },
    {
     "name": "stdout",
     "output_type": "stream",
     "text": [
      "Epoch 2213: train=8.72388, val=8.62841, took 70.641 s\n",
      "  Validation Found 101789 of 108007, added 5511 (eff 94.24%) (0.276 FP/event)\n",
      "Result epoch:  2213\n",
      "Average Eff:  0\n",
      "Average FP Rate:  0\n"
     ]
    },
    {
     "data": {
      "application/vnd.jupyter.widget-view+json": {
       "model_id": "",
       "version_major": 2,
       "version_minor": 0
      },
      "text/plain": [
       "HBox(children=(FloatProgress(value=0.0, description='Training', layout=Layout(flex='2'), max=1250.0, style=Pro…"
      ]
     },
     "metadata": {},
     "output_type": "display_data"
    },
    {
     "name": "stdout",
     "output_type": "stream",
     "text": [
      "Epoch 2214: train=8.72813, val=8.63507, took 69.929 s\n",
      "  Validation Found 101810 of 108007, added 5606 (eff 94.26%) (0.28 FP/event)\n",
      "Result epoch:  2214\n",
      "Average Eff:  0\n",
      "Average FP Rate:  0\n"
     ]
    },
    {
     "data": {
      "application/vnd.jupyter.widget-view+json": {
       "model_id": "",
       "version_major": 2,
       "version_minor": 0
      },
      "text/plain": [
       "HBox(children=(FloatProgress(value=0.0, description='Training', layout=Layout(flex='2'), max=1250.0, style=Pro…"
      ]
     },
     "metadata": {},
     "output_type": "display_data"
    },
    {
     "name": "stdout",
     "output_type": "stream",
     "text": [
      "Epoch 2215: train=8.72349, val=8.63149, took 71.079 s\n",
      "  Validation Found 101707 of 108007, added 5364 (eff 94.17%) (0.268 FP/event)\n",
      "Result epoch:  2215\n",
      "Average Eff:  0\n",
      "Average FP Rate:  0\n"
     ]
    },
    {
     "data": {
      "application/vnd.jupyter.widget-view+json": {
       "model_id": "",
       "version_major": 2,
       "version_minor": 0
      },
      "text/plain": [
       "HBox(children=(FloatProgress(value=0.0, description='Training', layout=Layout(flex='2'), max=1250.0, style=Pro…"
      ]
     },
     "metadata": {},
     "output_type": "display_data"
    },
    {
     "name": "stdout",
     "output_type": "stream",
     "text": [
      "Epoch 2216: train=8.72205, val=8.62514, took 70.888 s\n",
      "  Validation Found 101707 of 108007, added 5362 (eff 94.17%) (0.268 FP/event)\n",
      "Result epoch:  2216\n",
      "Average Eff:  0\n",
      "Average FP Rate:  0\n"
     ]
    },
    {
     "data": {
      "application/vnd.jupyter.widget-view+json": {
       "model_id": "",
       "version_major": 2,
       "version_minor": 0
      },
      "text/plain": [
       "HBox(children=(FloatProgress(value=0.0, description='Training', layout=Layout(flex='2'), max=1250.0, style=Pro…"
      ]
     },
     "metadata": {},
     "output_type": "display_data"
    },
    {
     "name": "stdout",
     "output_type": "stream",
     "text": [
      "Epoch 2217: train=8.72126, val=8.62472, took 70.872 s\n",
      "  Validation Found 101783 of 108007, added 5497 (eff 94.24%) (0.275 FP/event)\n",
      "Result epoch:  2217\n",
      "Average Eff:  0\n",
      "Average FP Rate:  0\n"
     ]
    },
    {
     "data": {
      "application/vnd.jupyter.widget-view+json": {
       "model_id": "",
       "version_major": 2,
       "version_minor": 0
      },
      "text/plain": [
       "HBox(children=(FloatProgress(value=0.0, description='Training', layout=Layout(flex='2'), max=1250.0, style=Pro…"
      ]
     },
     "metadata": {},
     "output_type": "display_data"
    },
    {
     "name": "stdout",
     "output_type": "stream",
     "text": [
      "Epoch 2218: train=8.72812, val=8.63701, took 71.616 s\n",
      "  Validation Found 101719 of 108007, added 5398 (eff 94.18%) (0.27 FP/event)\n",
      "Result epoch:  2218\n",
      "Average Eff:  0\n",
      "Average FP Rate:  0\n"
     ]
    },
    {
     "data": {
      "application/vnd.jupyter.widget-view+json": {
       "model_id": "",
       "version_major": 2,
       "version_minor": 0
      },
      "text/plain": [
       "HBox(children=(FloatProgress(value=0.0, description='Training', layout=Layout(flex='2'), max=1250.0, style=Pro…"
      ]
     },
     "metadata": {},
     "output_type": "display_data"
    },
    {
     "name": "stdout",
     "output_type": "stream",
     "text": [
      "Epoch 2219: train=8.7226, val=8.62762, took 71.301 s\n",
      "  Validation Found 101691 of 108007, added 5347 (eff 94.15%) (0.267 FP/event)\n",
      "Result epoch:  2219\n",
      "Average Eff:  0\n",
      "Average FP Rate:  0\n"
     ]
    },
    {
     "data": {
      "application/vnd.jupyter.widget-view+json": {
       "model_id": "",
       "version_major": 2,
       "version_minor": 0
      },
      "text/plain": [
       "HBox(children=(FloatProgress(value=0.0, description='Training', layout=Layout(flex='2'), max=1250.0, style=Pro…"
      ]
     },
     "metadata": {},
     "output_type": "display_data"
    },
    {
     "name": "stdout",
     "output_type": "stream",
     "text": [
      "Epoch 2220: train=8.72166, val=8.62562, took 71.233 s\n",
      "  Validation Found 101792 of 108007, added 5507 (eff 94.25%) (0.275 FP/event)\n",
      "Result epoch:  2220\n",
      "Average Eff:  0\n",
      "Average FP Rate:  0\n"
     ]
    },
    {
     "data": {
      "application/vnd.jupyter.widget-view+json": {
       "model_id": "",
       "version_major": 2,
       "version_minor": 0
      },
      "text/plain": [
       "HBox(children=(FloatProgress(value=0.0, description='Training', layout=Layout(flex='2'), max=1250.0, style=Pro…"
      ]
     },
     "metadata": {},
     "output_type": "display_data"
    },
    {
     "name": "stdout",
     "output_type": "stream",
     "text": [
      "Epoch 2221: train=8.71799, val=8.62831, took 71.272 s\n",
      "  Validation Found 101816 of 108007, added 5566 (eff 94.27%) (0.278 FP/event)\n",
      "Result epoch:  2221\n",
      "Average Eff:  0\n",
      "Average FP Rate:  0\n"
     ]
    },
    {
     "data": {
      "application/vnd.jupyter.widget-view+json": {
       "model_id": "",
       "version_major": 2,
       "version_minor": 0
      },
      "text/plain": [
       "HBox(children=(FloatProgress(value=0.0, description='Training', layout=Layout(flex='2'), max=1250.0, style=Pro…"
      ]
     },
     "metadata": {},
     "output_type": "display_data"
    },
    {
     "name": "stdout",
     "output_type": "stream",
     "text": [
      "Epoch 2222: train=8.71717, val=8.62526, took 72.284 s\n",
      "  Validation Found 101690 of 108007, added 5323 (eff 94.15%) (0.266 FP/event)\n",
      "Result epoch:  2222\n",
      "Average Eff:  0\n",
      "Average FP Rate:  0\n"
     ]
    },
    {
     "data": {
      "application/vnd.jupyter.widget-view+json": {
       "model_id": "",
       "version_major": 2,
       "version_minor": 0
      },
      "text/plain": [
       "HBox(children=(FloatProgress(value=0.0, description='Training', layout=Layout(flex='2'), max=1250.0, style=Pro…"
      ]
     },
     "metadata": {},
     "output_type": "display_data"
    },
    {
     "name": "stdout",
     "output_type": "stream",
     "text": [
      "Epoch 2223: train=8.72574, val=8.62275, took 70.872 s\n",
      "  Validation Found 101739 of 108007, added 5442 (eff 94.20%) (0.272 FP/event)\n",
      "Result epoch:  2223\n",
      "Average Eff:  0\n",
      "Average FP Rate:  0\n"
     ]
    },
    {
     "data": {
      "application/vnd.jupyter.widget-view+json": {
       "model_id": "",
       "version_major": 2,
       "version_minor": 0
      },
      "text/plain": [
       "HBox(children=(FloatProgress(value=0.0, description='Training', layout=Layout(flex='2'), max=1250.0, style=Pro…"
      ]
     },
     "metadata": {},
     "output_type": "display_data"
    },
    {
     "name": "stdout",
     "output_type": "stream",
     "text": [
      "Epoch 2224: train=8.71989, val=8.62527, took 70.884 s\n",
      "  Validation Found 101711 of 108007, added 5383 (eff 94.17%) (0.269 FP/event)\n",
      "Result epoch:  2224\n",
      "Average Eff:  0\n",
      "Average FP Rate:  0\n"
     ]
    },
    {
     "data": {
      "application/vnd.jupyter.widget-view+json": {
       "model_id": "",
       "version_major": 2,
       "version_minor": 0
      },
      "text/plain": [
       "HBox(children=(FloatProgress(value=0.0, description='Training', layout=Layout(flex='2'), max=1250.0, style=Pro…"
      ]
     },
     "metadata": {},
     "output_type": "display_data"
    },
    {
     "name": "stdout",
     "output_type": "stream",
     "text": [
      "Epoch 2225: train=8.71916, val=8.63161, took 70.586 s\n",
      "  Validation Found 101660 of 108007, added 5296 (eff 94.12%) (0.265 FP/event)\n",
      "Result epoch:  2225\n",
      "Average Eff:  0\n",
      "Average FP Rate:  0\n"
     ]
    },
    {
     "data": {
      "application/vnd.jupyter.widget-view+json": {
       "model_id": "",
       "version_major": 2,
       "version_minor": 0
      },
      "text/plain": [
       "HBox(children=(FloatProgress(value=0.0, description='Training', layout=Layout(flex='2'), max=1250.0, style=Pro…"
      ]
     },
     "metadata": {},
     "output_type": "display_data"
    },
    {
     "name": "stdout",
     "output_type": "stream",
     "text": [
      "Epoch 2226: train=8.72431, val=8.63395, took 70.956 s\n",
      "  Validation Found 101686 of 108007, added 5348 (eff 94.15%) (0.267 FP/event)\n",
      "Result epoch:  2226\n",
      "Average Eff:  0\n",
      "Average FP Rate:  0\n"
     ]
    },
    {
     "data": {
      "application/vnd.jupyter.widget-view+json": {
       "model_id": "",
       "version_major": 2,
       "version_minor": 0
      },
      "text/plain": [
       "HBox(children=(FloatProgress(value=0.0, description='Training', layout=Layout(flex='2'), max=1250.0, style=Pro…"
      ]
     },
     "metadata": {},
     "output_type": "display_data"
    },
    {
     "name": "stdout",
     "output_type": "stream",
     "text": [
      "Epoch 2227: train=8.72607, val=8.62912, took 71.866 s\n",
      "  Validation Found 101702 of 108007, added 5369 (eff 94.16%) (0.268 FP/event)\n",
      "Result epoch:  2227\n",
      "Average Eff:  0\n",
      "Average FP Rate:  0\n"
     ]
    },
    {
     "data": {
      "application/vnd.jupyter.widget-view+json": {
       "model_id": "",
       "version_major": 2,
       "version_minor": 0
      },
      "text/plain": [
       "HBox(children=(FloatProgress(value=0.0, description='Training', layout=Layout(flex='2'), max=1250.0, style=Pro…"
      ]
     },
     "metadata": {},
     "output_type": "display_data"
    },
    {
     "name": "stdout",
     "output_type": "stream",
     "text": [
      "Epoch 2228: train=8.72385, val=8.62761, took 71.725 s\n",
      "  Validation Found 101754 of 108007, added 5473 (eff 94.21%) (0.274 FP/event)\n",
      "Result epoch:  2228\n",
      "Average Eff:  0\n",
      "Average FP Rate:  0\n"
     ]
    },
    {
     "data": {
      "application/vnd.jupyter.widget-view+json": {
       "model_id": "",
       "version_major": 2,
       "version_minor": 0
      },
      "text/plain": [
       "HBox(children=(FloatProgress(value=0.0, description='Training', layout=Layout(flex='2'), max=1250.0, style=Pro…"
      ]
     },
     "metadata": {},
     "output_type": "display_data"
    },
    {
     "name": "stdout",
     "output_type": "stream",
     "text": [
      "Epoch 2229: train=8.72182, val=8.62823, took 71.934 s\n",
      "  Validation Found 101668 of 108007, added 5315 (eff 94.13%) (0.266 FP/event)\n",
      "Result epoch:  2229\n",
      "Average Eff:  0\n",
      "Average FP Rate:  0\n"
     ]
    },
    {
     "data": {
      "application/vnd.jupyter.widget-view+json": {
       "model_id": "",
       "version_major": 2,
       "version_minor": 0
      },
      "text/plain": [
       "HBox(children=(FloatProgress(value=0.0, description='Training', layout=Layout(flex='2'), max=1250.0, style=Pro…"
      ]
     },
     "metadata": {},
     "output_type": "display_data"
    },
    {
     "name": "stdout",
     "output_type": "stream",
     "text": [
      "Epoch 2230: train=8.7218, val=8.62852, took 71.765 s\n",
      "  Validation Found 101764 of 108007, added 5472 (eff 94.22%) (0.274 FP/event)\n",
      "Result epoch:  2230\n",
      "Average Eff:  0\n",
      "Average FP Rate:  0\n"
     ]
    },
    {
     "data": {
      "application/vnd.jupyter.widget-view+json": {
       "model_id": "",
       "version_major": 2,
       "version_minor": 0
      },
      "text/plain": [
       "HBox(children=(FloatProgress(value=0.0, description='Training', layout=Layout(flex='2'), max=1250.0, style=Pro…"
      ]
     },
     "metadata": {},
     "output_type": "display_data"
    },
    {
     "name": "stdout",
     "output_type": "stream",
     "text": [
      "Epoch 2231: train=8.71726, val=8.62767, took 70.705 s\n",
      "  Validation Found 101749 of 108007, added 5464 (eff 94.21%) (0.273 FP/event)\n",
      "Result epoch:  2231\n",
      "Average Eff:  0\n",
      "Average FP Rate:  0\n"
     ]
    },
    {
     "data": {
      "application/vnd.jupyter.widget-view+json": {
       "model_id": "",
       "version_major": 2,
       "version_minor": 0
      },
      "text/plain": [
       "HBox(children=(FloatProgress(value=0.0, description='Training', layout=Layout(flex='2'), max=1250.0, style=Pro…"
      ]
     },
     "metadata": {},
     "output_type": "display_data"
    },
    {
     "name": "stdout",
     "output_type": "stream",
     "text": [
      "Epoch 2232: train=8.72166, val=8.63551, took 72.187 s\n",
      "  Validation Found 101738 of 108007, added 5452 (eff 94.20%) (0.273 FP/event)\n",
      "Result epoch:  2232\n",
      "Average Eff:  0\n",
      "Average FP Rate:  0\n"
     ]
    },
    {
     "data": {
      "application/vnd.jupyter.widget-view+json": {
       "model_id": "",
       "version_major": 2,
       "version_minor": 0
      },
      "text/plain": [
       "HBox(children=(FloatProgress(value=0.0, description='Training', layout=Layout(flex='2'), max=1250.0, style=Pro…"
      ]
     },
     "metadata": {},
     "output_type": "display_data"
    },
    {
     "name": "stdout",
     "output_type": "stream",
     "text": [
      "Epoch 2233: train=8.71779, val=8.63814, took 71.672 s\n",
      "  Validation Found 101627 of 108007, added 5245 (eff 94.09%) (0.262 FP/event)\n",
      "Result epoch:  2233\n",
      "Average Eff:  0\n",
      "Average FP Rate:  0\n"
     ]
    },
    {
     "data": {
      "application/vnd.jupyter.widget-view+json": {
       "model_id": "",
       "version_major": 2,
       "version_minor": 0
      },
      "text/plain": [
       "HBox(children=(FloatProgress(value=0.0, description='Training', layout=Layout(flex='2'), max=1250.0, style=Pro…"
      ]
     },
     "metadata": {},
     "output_type": "display_data"
    },
    {
     "name": "stdout",
     "output_type": "stream",
     "text": [
      "Epoch 2234: train=8.71351, val=8.62973, took 70.408 s\n",
      "  Validation Found 101707 of 108007, added 5378 (eff 94.17%) (0.269 FP/event)\n",
      "Result epoch:  2234\n",
      "Average Eff:  0\n",
      "Average FP Rate:  0\n"
     ]
    },
    {
     "data": {
      "application/vnd.jupyter.widget-view+json": {
       "model_id": "",
       "version_major": 2,
       "version_minor": 0
      },
      "text/plain": [
       "HBox(children=(FloatProgress(value=0.0, description='Training', layout=Layout(flex='2'), max=1250.0, style=Pro…"
      ]
     },
     "metadata": {},
     "output_type": "display_data"
    },
    {
     "name": "stdout",
     "output_type": "stream",
     "text": [
      "Epoch 2235: train=8.7121, val=8.63152, took 71.304 s\n",
      "  Validation Found 101677 of 108007, added 5317 (eff 94.14%) (0.266 FP/event)\n",
      "Result epoch:  2235\n",
      "Average Eff:  0\n",
      "Average FP Rate:  0\n"
     ]
    },
    {
     "data": {
      "application/vnd.jupyter.widget-view+json": {
       "model_id": "",
       "version_major": 2,
       "version_minor": 0
      },
      "text/plain": [
       "HBox(children=(FloatProgress(value=0.0, description='Training', layout=Layout(flex='2'), max=1250.0, style=Pro…"
      ]
     },
     "metadata": {},
     "output_type": "display_data"
    },
    {
     "name": "stdout",
     "output_type": "stream",
     "text": [
      "Epoch 2236: train=8.71713, val=8.62971, took 71.106 s\n",
      "  Validation Found 101724 of 108007, added 5441 (eff 94.18%) (0.272 FP/event)\n",
      "Result epoch:  2236\n",
      "Average Eff:  0\n",
      "Average FP Rate:  0\n"
     ]
    },
    {
     "data": {
      "application/vnd.jupyter.widget-view+json": {
       "model_id": "",
       "version_major": 2,
       "version_minor": 0
      },
      "text/plain": [
       "HBox(children=(FloatProgress(value=0.0, description='Training', layout=Layout(flex='2'), max=1250.0, style=Pro…"
      ]
     },
     "metadata": {},
     "output_type": "display_data"
    },
    {
     "name": "stdout",
     "output_type": "stream",
     "text": [
      "Epoch 2237: train=8.71853, val=8.62748, took 72.316 s\n",
      "  Validation Found 101782 of 108007, added 5503 (eff 94.24%) (0.275 FP/event)\n",
      "Result epoch:  2237\n",
      "Average Eff:  0\n",
      "Average FP Rate:  0\n"
     ]
    },
    {
     "data": {
      "application/vnd.jupyter.widget-view+json": {
       "model_id": "",
       "version_major": 2,
       "version_minor": 0
      },
      "text/plain": [
       "HBox(children=(FloatProgress(value=0.0, description='Training', layout=Layout(flex='2'), max=1250.0, style=Pro…"
      ]
     },
     "metadata": {},
     "output_type": "display_data"
    },
    {
     "name": "stdout",
     "output_type": "stream",
     "text": [
      "Epoch 2238: train=8.71816, val=8.63024, took 72.138 s\n",
      "  Validation Found 101730 of 108007, added 5428 (eff 94.19%) (0.271 FP/event)\n",
      "Result epoch:  2238\n",
      "Average Eff:  0\n",
      "Average FP Rate:  0\n"
     ]
    },
    {
     "data": {
      "application/vnd.jupyter.widget-view+json": {
       "model_id": "",
       "version_major": 2,
       "version_minor": 0
      },
      "text/plain": [
       "HBox(children=(FloatProgress(value=0.0, description='Training', layout=Layout(flex='2'), max=1250.0, style=Pro…"
      ]
     },
     "metadata": {},
     "output_type": "display_data"
    },
    {
     "name": "stdout",
     "output_type": "stream",
     "text": [
      "Epoch 2239: train=8.71324, val=8.6249, took 71.874 s\n",
      "  Validation Found 101770 of 108007, added 5472 (eff 94.23%) (0.274 FP/event)\n",
      "Result epoch:  2239\n",
      "Average Eff:  0\n",
      "Average FP Rate:  0\n"
     ]
    },
    {
     "data": {
      "application/vnd.jupyter.widget-view+json": {
       "model_id": "",
       "version_major": 2,
       "version_minor": 0
      },
      "text/plain": [
       "HBox(children=(FloatProgress(value=0.0, description='Training', layout=Layout(flex='2'), max=1250.0, style=Pro…"
      ]
     },
     "metadata": {},
     "output_type": "display_data"
    },
    {
     "name": "stdout",
     "output_type": "stream",
     "text": [
      "Epoch 2240: train=8.72196, val=8.62642, took 71.241 s\n",
      "  Validation Found 101672 of 108007, added 5301 (eff 94.13%) (0.265 FP/event)\n",
      "Result epoch:  2240\n",
      "Average Eff:  0\n",
      "Average FP Rate:  0\n"
     ]
    },
    {
     "data": {
      "application/vnd.jupyter.widget-view+json": {
       "model_id": "",
       "version_major": 2,
       "version_minor": 0
      },
      "text/plain": [
       "HBox(children=(FloatProgress(value=0.0, description='Training', layout=Layout(flex='2'), max=1250.0, style=Pro…"
      ]
     },
     "metadata": {},
     "output_type": "display_data"
    },
    {
     "name": "stdout",
     "output_type": "stream",
     "text": [
      "Epoch 2241: train=8.71564, val=8.62829, took 71.156 s\n",
      "  Validation Found 101731 of 108007, added 5404 (eff 94.19%) (0.27 FP/event)\n",
      "Result epoch:  2241\n",
      "Average Eff:  0\n",
      "Average FP Rate:  0\n"
     ]
    },
    {
     "data": {
      "application/vnd.jupyter.widget-view+json": {
       "model_id": "",
       "version_major": 2,
       "version_minor": 0
      },
      "text/plain": [
       "HBox(children=(FloatProgress(value=0.0, description='Training', layout=Layout(flex='2'), max=1250.0, style=Pro…"
      ]
     },
     "metadata": {},
     "output_type": "display_data"
    },
    {
     "name": "stdout",
     "output_type": "stream",
     "text": [
      "Epoch 2242: train=8.7201, val=8.6246, took 70.723 s\n",
      "  Validation Found 101718 of 108007, added 5380 (eff 94.18%) (0.269 FP/event)\n",
      "Result epoch:  2242\n",
      "Average Eff:  0\n",
      "Average FP Rate:  0\n"
     ]
    },
    {
     "data": {
      "application/vnd.jupyter.widget-view+json": {
       "model_id": "",
       "version_major": 2,
       "version_minor": 0
      },
      "text/plain": [
       "HBox(children=(FloatProgress(value=0.0, description='Training', layout=Layout(flex='2'), max=1250.0, style=Pro…"
      ]
     },
     "metadata": {},
     "output_type": "display_data"
    },
    {
     "name": "stdout",
     "output_type": "stream",
     "text": [
      "Epoch 2243: train=8.71904, val=8.63705, took 70.933 s\n",
      "  Validation Found 101640 of 108007, added 5286 (eff 94.11%) (0.264 FP/event)\n",
      "Result epoch:  2243\n",
      "Average Eff:  0\n",
      "Average FP Rate:  0\n"
     ]
    },
    {
     "data": {
      "application/vnd.jupyter.widget-view+json": {
       "model_id": "",
       "version_major": 2,
       "version_minor": 0
      },
      "text/plain": [
       "HBox(children=(FloatProgress(value=0.0, description='Training', layout=Layout(flex='2'), max=1250.0, style=Pro…"
      ]
     },
     "metadata": {},
     "output_type": "display_data"
    },
    {
     "name": "stdout",
     "output_type": "stream",
     "text": [
      "Epoch 2244: train=8.71462, val=8.62755, took 71.008 s\n",
      "  Validation Found 101761 of 108007, added 5463 (eff 94.22%) (0.273 FP/event)\n",
      "Result epoch:  2244\n",
      "Average Eff:  0\n",
      "Average FP Rate:  0\n"
     ]
    },
    {
     "data": {
      "application/vnd.jupyter.widget-view+json": {
       "model_id": "",
       "version_major": 2,
       "version_minor": 0
      },
      "text/plain": [
       "HBox(children=(FloatProgress(value=0.0, description='Training', layout=Layout(flex='2'), max=1250.0, style=Pro…"
      ]
     },
     "metadata": {},
     "output_type": "display_data"
    },
    {
     "name": "stdout",
     "output_type": "stream",
     "text": [
      "Epoch 2245: train=8.71846, val=8.63033, took 71.116 s\n",
      "  Validation Found 101743 of 108007, added 5443 (eff 94.20%) (0.272 FP/event)\n",
      "Result epoch:  2245\n",
      "Average Eff:  0\n",
      "Average FP Rate:  0\n"
     ]
    },
    {
     "data": {
      "application/vnd.jupyter.widget-view+json": {
       "model_id": "",
       "version_major": 2,
       "version_minor": 0
      },
      "text/plain": [
       "HBox(children=(FloatProgress(value=0.0, description='Training', layout=Layout(flex='2'), max=1250.0, style=Pro…"
      ]
     },
     "metadata": {},
     "output_type": "display_data"
    },
    {
     "name": "stdout",
     "output_type": "stream",
     "text": [
      "Epoch 2246: train=8.71831, val=8.62735, took 71.963 s\n",
      "  Validation Found 101685 of 108007, added 5316 (eff 94.15%) (0.266 FP/event)\n",
      "Result epoch:  2246\n",
      "Average Eff:  0\n",
      "Average FP Rate:  0\n"
     ]
    },
    {
     "data": {
      "application/vnd.jupyter.widget-view+json": {
       "model_id": "",
       "version_major": 2,
       "version_minor": 0
      },
      "text/plain": [
       "HBox(children=(FloatProgress(value=0.0, description='Training', layout=Layout(flex='2'), max=1250.0, style=Pro…"
      ]
     },
     "metadata": {},
     "output_type": "display_data"
    },
    {
     "name": "stdout",
     "output_type": "stream",
     "text": [
      "Epoch 2247: train=8.71502, val=8.64053, took 71.957 s\n",
      "  Validation Found 101553 of 108007, added 5156 (eff 94.02%) (0.258 FP/event)\n",
      "Result epoch:  2247\n",
      "Average Eff:  0\n",
      "Average FP Rate:  0\n"
     ]
    },
    {
     "data": {
      "application/vnd.jupyter.widget-view+json": {
       "model_id": "",
       "version_major": 2,
       "version_minor": 0
      },
      "text/plain": [
       "HBox(children=(FloatProgress(value=0.0, description='Training', layout=Layout(flex='2'), max=1250.0, style=Pro…"
      ]
     },
     "metadata": {},
     "output_type": "display_data"
    },
    {
     "name": "stdout",
     "output_type": "stream",
     "text": [
      "Epoch 2248: train=8.71637, val=8.62515, took 71.727 s\n",
      "  Validation Found 101690 of 108007, added 5348 (eff 94.15%) (0.267 FP/event)\n",
      "Result epoch:  2248\n",
      "Average Eff:  0\n",
      "Average FP Rate:  0\n"
     ]
    },
    {
     "data": {
      "application/vnd.jupyter.widget-view+json": {
       "model_id": "",
       "version_major": 2,
       "version_minor": 0
      },
      "text/plain": [
       "HBox(children=(FloatProgress(value=0.0, description='Training', layout=Layout(flex='2'), max=1250.0, style=Pro…"
      ]
     },
     "metadata": {},
     "output_type": "display_data"
    },
    {
     "name": "stdout",
     "output_type": "stream",
     "text": [
      "Epoch 2249: train=8.71411, val=8.64306, took 72.038 s\n",
      "  Validation Found 101628 of 108007, added 5250 (eff 94.09%) (0.262 FP/event)\n",
      "Result epoch:  2249\n",
      "Average Eff:  0\n",
      "Average FP Rate:  0\n"
     ]
    },
    {
     "data": {
      "application/vnd.jupyter.widget-view+json": {
       "model_id": "",
       "version_major": 2,
       "version_minor": 0
      },
      "text/plain": [
       "HBox(children=(FloatProgress(value=0.0, description='Training', layout=Layout(flex='2'), max=1250.0, style=Pro…"
      ]
     },
     "metadata": {},
     "output_type": "display_data"
    },
    {
     "name": "stdout",
     "output_type": "stream",
     "text": [
      "Epoch 2250: train=8.71562, val=8.62451, took 71.009 s\n",
      "  Validation Found 101786 of 108007, added 5498 (eff 94.24%) (0.275 FP/event)\n",
      "Result epoch:  2250\n",
      "Average Eff:  0\n",
      "Average FP Rate:  0\n"
     ]
    },
    {
     "data": {
      "application/vnd.jupyter.widget-view+json": {
       "model_id": "",
       "version_major": 2,
       "version_minor": 0
      },
      "text/plain": [
       "HBox(children=(FloatProgress(value=0.0, description='Training', layout=Layout(flex='2'), max=1250.0, style=Pro…"
      ]
     },
     "metadata": {},
     "output_type": "display_data"
    },
    {
     "name": "stdout",
     "output_type": "stream",
     "text": [
      "Epoch 2251: train=8.70838, val=8.63275, took 71.548 s\n",
      "  Validation Found 101719 of 108007, added 5397 (eff 94.18%) (0.27 FP/event)\n",
      "Result epoch:  2251\n",
      "Average Eff:  0\n",
      "Average FP Rate:  0\n"
     ]
    },
    {
     "data": {
      "application/vnd.jupyter.widget-view+json": {
       "model_id": "",
       "version_major": 2,
       "version_minor": 0
      },
      "text/plain": [
       "HBox(children=(FloatProgress(value=0.0, description='Training', layout=Layout(flex='2'), max=1250.0, style=Pro…"
      ]
     },
     "metadata": {},
     "output_type": "display_data"
    },
    {
     "name": "stdout",
     "output_type": "stream",
     "text": [
      "Epoch 2252: train=8.71387, val=8.62851, took 72.565 s\n",
      "  Validation Found 101762 of 108007, added 5476 (eff 94.22%) (0.274 FP/event)\n",
      "Result epoch:  2252\n",
      "Average Eff:  0\n",
      "Average FP Rate:  0\n"
     ]
    },
    {
     "data": {
      "application/vnd.jupyter.widget-view+json": {
       "model_id": "",
       "version_major": 2,
       "version_minor": 0
      },
      "text/plain": [
       "HBox(children=(FloatProgress(value=0.0, description='Training', layout=Layout(flex='2'), max=1250.0, style=Pro…"
      ]
     },
     "metadata": {},
     "output_type": "display_data"
    },
    {
     "name": "stdout",
     "output_type": "stream",
     "text": [
      "Epoch 2253: train=8.71287, val=8.62087, took 72.202 s\n",
      "  Validation Found 101748 of 108007, added 5456 (eff 94.21%) (0.273 FP/event)\n",
      "Result epoch:  2253\n",
      "Average Eff:  0\n",
      "Average FP Rate:  0\n"
     ]
    },
    {
     "data": {
      "application/vnd.jupyter.widget-view+json": {
       "model_id": "",
       "version_major": 2,
       "version_minor": 0
      },
      "text/plain": [
       "HBox(children=(FloatProgress(value=0.0, description='Training', layout=Layout(flex='2'), max=1250.0, style=Pro…"
      ]
     },
     "metadata": {},
     "output_type": "display_data"
    },
    {
     "name": "stdout",
     "output_type": "stream",
     "text": [
      "Epoch 2254: train=8.71584, val=8.63751, took 71.663 s\n",
      "  Validation Found 101658 of 108007, added 5317 (eff 94.12%) (0.266 FP/event)\n",
      "Result epoch:  2254\n",
      "Average Eff:  0\n",
      "Average FP Rate:  0\n"
     ]
    },
    {
     "data": {
      "application/vnd.jupyter.widget-view+json": {
       "model_id": "",
       "version_major": 2,
       "version_minor": 0
      },
      "text/plain": [
       "HBox(children=(FloatProgress(value=0.0, description='Training', layout=Layout(flex='2'), max=1250.0, style=Pro…"
      ]
     },
     "metadata": {},
     "output_type": "display_data"
    },
    {
     "name": "stdout",
     "output_type": "stream",
     "text": [
      "Epoch 2255: train=8.71359, val=8.63421, took 71.92 s\n",
      "  Validation Found 101620 of 108007, added 5240 (eff 94.09%) (0.262 FP/event)\n",
      "Result epoch:  2255\n",
      "Average Eff:  0\n",
      "Average FP Rate:  0\n"
     ]
    },
    {
     "data": {
      "application/vnd.jupyter.widget-view+json": {
       "model_id": "",
       "version_major": 2,
       "version_minor": 0
      },
      "text/plain": [
       "HBox(children=(FloatProgress(value=0.0, description='Training', layout=Layout(flex='2'), max=1250.0, style=Pro…"
      ]
     },
     "metadata": {},
     "output_type": "display_data"
    },
    {
     "name": "stdout",
     "output_type": "stream",
     "text": [
      "Epoch 2256: train=8.70974, val=8.62812, took 71.691 s\n",
      "  Validation Found 101681 of 108007, added 5340 (eff 94.14%) (0.267 FP/event)\n",
      "Result epoch:  2256\n",
      "Average Eff:  0\n",
      "Average FP Rate:  0\n"
     ]
    },
    {
     "data": {
      "application/vnd.jupyter.widget-view+json": {
       "model_id": "",
       "version_major": 2,
       "version_minor": 0
      },
      "text/plain": [
       "HBox(children=(FloatProgress(value=0.0, description='Training', layout=Layout(flex='2'), max=1250.0, style=Pro…"
      ]
     },
     "metadata": {},
     "output_type": "display_data"
    },
    {
     "name": "stdout",
     "output_type": "stream",
     "text": [
      "Epoch 2257: train=8.70857, val=8.64067, took 70.655 s\n",
      "  Validation Found 101674 of 108007, added 5337 (eff 94.14%) (0.267 FP/event)\n",
      "Result epoch:  2257\n",
      "Average Eff:  0\n",
      "Average FP Rate:  0\n"
     ]
    },
    {
     "data": {
      "application/vnd.jupyter.widget-view+json": {
       "model_id": "",
       "version_major": 2,
       "version_minor": 0
      },
      "text/plain": [
       "HBox(children=(FloatProgress(value=0.0, description='Training', layout=Layout(flex='2'), max=1250.0, style=Pro…"
      ]
     },
     "metadata": {},
     "output_type": "display_data"
    },
    {
     "name": "stdout",
     "output_type": "stream",
     "text": [
      "Epoch 2258: train=8.7141, val=8.62848, took 71.673 s\n",
      "  Validation Found 101693 of 108007, added 5336 (eff 94.15%) (0.267 FP/event)\n",
      "Result epoch:  2258\n",
      "Average Eff:  0\n",
      "Average FP Rate:  0\n"
     ]
    },
    {
     "data": {
      "application/vnd.jupyter.widget-view+json": {
       "model_id": "",
       "version_major": 2,
       "version_minor": 0
      },
      "text/plain": [
       "HBox(children=(FloatProgress(value=0.0, description='Training', layout=Layout(flex='2'), max=1250.0, style=Pro…"
      ]
     },
     "metadata": {},
     "output_type": "display_data"
    },
    {
     "name": "stdout",
     "output_type": "stream",
     "text": [
      "Epoch 2259: train=8.70904, val=8.62955, took 72.132 s\n",
      "  Validation Found 101687 of 108007, added 5361 (eff 94.15%) (0.268 FP/event)\n",
      "Result epoch:  2259\n",
      "Average Eff:  0\n",
      "Average FP Rate:  0\n"
     ]
    },
    {
     "data": {
      "application/vnd.jupyter.widget-view+json": {
       "model_id": "",
       "version_major": 2,
       "version_minor": 0
      },
      "text/plain": [
       "HBox(children=(FloatProgress(value=0.0, description='Training', layout=Layout(flex='2'), max=1250.0, style=Pro…"
      ]
     },
     "metadata": {},
     "output_type": "display_data"
    },
    {
     "name": "stdout",
     "output_type": "stream",
     "text": [
      "Epoch 2260: train=8.70531, val=8.61924, took 70.976 s\n",
      "  Validation Found 101664 of 108007, added 5266 (eff 94.13%) (0.263 FP/event)\n",
      "Result epoch:  2260\n",
      "Average Eff:  0\n",
      "Average FP Rate:  0\n"
     ]
    },
    {
     "data": {
      "application/vnd.jupyter.widget-view+json": {
       "model_id": "",
       "version_major": 2,
       "version_minor": 0
      },
      "text/plain": [
       "HBox(children=(FloatProgress(value=0.0, description='Training', layout=Layout(flex='2'), max=1250.0, style=Pro…"
      ]
     },
     "metadata": {},
     "output_type": "display_data"
    },
    {
     "name": "stdout",
     "output_type": "stream",
     "text": [
      "Epoch 2261: train=8.7117, val=8.63265, took 71.576 s\n",
      "  Validation Found 101736 of 108007, added 5419 (eff 94.19%) (0.271 FP/event)\n",
      "Result epoch:  2261\n",
      "Average Eff:  0\n",
      "Average FP Rate:  0\n"
     ]
    },
    {
     "data": {
      "application/vnd.jupyter.widget-view+json": {
       "model_id": "",
       "version_major": 2,
       "version_minor": 0
      },
      "text/plain": [
       "HBox(children=(FloatProgress(value=0.0, description='Training', layout=Layout(flex='2'), max=1250.0, style=Pro…"
      ]
     },
     "metadata": {},
     "output_type": "display_data"
    },
    {
     "name": "stdout",
     "output_type": "stream",
     "text": [
      "Epoch 2262: train=8.71056, val=8.63618, took 71.991 s\n",
      "  Validation Found 101635 of 108007, added 5273 (eff 94.10%) (0.264 FP/event)\n",
      "Result epoch:  2262\n",
      "Average Eff:  0\n",
      "Average FP Rate:  0\n"
     ]
    },
    {
     "data": {
      "application/vnd.jupyter.widget-view+json": {
       "model_id": "",
       "version_major": 2,
       "version_minor": 0
      },
      "text/plain": [
       "HBox(children=(FloatProgress(value=0.0, description='Training', layout=Layout(flex='2'), max=1250.0, style=Pro…"
      ]
     },
     "metadata": {},
     "output_type": "display_data"
    },
    {
     "name": "stdout",
     "output_type": "stream",
     "text": [
      "Epoch 2263: train=8.7164, val=8.6238, took 71.311 s\n",
      "  Validation Found 101748 of 108007, added 5440 (eff 94.21%) (0.272 FP/event)\n",
      "Result epoch:  2263\n",
      "Average Eff:  0\n",
      "Average FP Rate:  0\n"
     ]
    },
    {
     "data": {
      "application/vnd.jupyter.widget-view+json": {
       "model_id": "",
       "version_major": 2,
       "version_minor": 0
      },
      "text/plain": [
       "HBox(children=(FloatProgress(value=0.0, description='Training', layout=Layout(flex='2'), max=1250.0, style=Pro…"
      ]
     },
     "metadata": {},
     "output_type": "display_data"
    },
    {
     "name": "stdout",
     "output_type": "stream",
     "text": [
      "Epoch 2264: train=8.70855, val=8.62748, took 70.699 s\n",
      "  Validation Found 101726 of 108007, added 5432 (eff 94.18%) (0.272 FP/event)\n",
      "Result epoch:  2264\n",
      "Average Eff:  0\n",
      "Average FP Rate:  0\n"
     ]
    },
    {
     "data": {
      "application/vnd.jupyter.widget-view+json": {
       "model_id": "",
       "version_major": 2,
       "version_minor": 0
      },
      "text/plain": [
       "HBox(children=(FloatProgress(value=0.0, description='Training', layout=Layout(flex='2'), max=1250.0, style=Pro…"
      ]
     },
     "metadata": {},
     "output_type": "display_data"
    },
    {
     "name": "stdout",
     "output_type": "stream",
     "text": [
      "Epoch 2265: train=8.70671, val=8.63274, took 71.179 s\n",
      "  Validation Found 101730 of 108007, added 5447 (eff 94.19%) (0.272 FP/event)\n",
      "Result epoch:  2265\n",
      "Average Eff:  0\n",
      "Average FP Rate:  0\n"
     ]
    },
    {
     "data": {
      "application/vnd.jupyter.widget-view+json": {
       "model_id": "",
       "version_major": 2,
       "version_minor": 0
      },
      "text/plain": [
       "HBox(children=(FloatProgress(value=0.0, description='Training', layout=Layout(flex='2'), max=1250.0, style=Pro…"
      ]
     },
     "metadata": {},
     "output_type": "display_data"
    },
    {
     "name": "stdout",
     "output_type": "stream",
     "text": [
      "Epoch 2266: train=8.70739, val=8.62855, took 72.074 s\n",
      "  Validation Found 101716 of 108007, added 5420 (eff 94.18%) (0.271 FP/event)\n",
      "Result epoch:  2266\n",
      "Average Eff:  0\n",
      "Average FP Rate:  0\n"
     ]
    },
    {
     "data": {
      "application/vnd.jupyter.widget-view+json": {
       "model_id": "",
       "version_major": 2,
       "version_minor": 0
      },
      "text/plain": [
       "HBox(children=(FloatProgress(value=0.0, description='Training', layout=Layout(flex='2'), max=1250.0, style=Pro…"
      ]
     },
     "metadata": {},
     "output_type": "display_data"
    },
    {
     "name": "stdout",
     "output_type": "stream",
     "text": [
      "Epoch 2267: train=8.70608, val=8.6343, took 71.89 s\n",
      "  Validation Found 101640 of 108007, added 5270 (eff 94.11%) (0.263 FP/event)\n",
      "Result epoch:  2267\n",
      "Average Eff:  0\n",
      "Average FP Rate:  0\n"
     ]
    },
    {
     "data": {
      "application/vnd.jupyter.widget-view+json": {
       "model_id": "",
       "version_major": 2,
       "version_minor": 0
      },
      "text/plain": [
       "HBox(children=(FloatProgress(value=0.0, description='Training', layout=Layout(flex='2'), max=1250.0, style=Pro…"
      ]
     },
     "metadata": {},
     "output_type": "display_data"
    },
    {
     "name": "stdout",
     "output_type": "stream",
     "text": [
      "Epoch 2268: train=8.70842, val=8.63255, took 71.16 s\n",
      "  Validation Found 101736 of 108007, added 5451 (eff 94.19%) (0.273 FP/event)\n",
      "Result epoch:  2268\n",
      "Average Eff:  0\n",
      "Average FP Rate:  0\n"
     ]
    },
    {
     "data": {
      "application/vnd.jupyter.widget-view+json": {
       "model_id": "",
       "version_major": 2,
       "version_minor": 0
      },
      "text/plain": [
       "HBox(children=(FloatProgress(value=0.0, description='Training', layout=Layout(flex='2'), max=1250.0, style=Pro…"
      ]
     },
     "metadata": {},
     "output_type": "display_data"
    },
    {
     "name": "stdout",
     "output_type": "stream",
     "text": [
      "Epoch 2269: train=8.7071, val=8.63478, took 70.696 s\n",
      "  Validation Found 101677 of 108007, added 5328 (eff 94.14%) (0.266 FP/event)\n",
      "Result epoch:  2269\n",
      "Average Eff:  0\n",
      "Average FP Rate:  0\n"
     ]
    },
    {
     "data": {
      "application/vnd.jupyter.widget-view+json": {
       "model_id": "",
       "version_major": 2,
       "version_minor": 0
      },
      "text/plain": [
       "HBox(children=(FloatProgress(value=0.0, description='Training', layout=Layout(flex='2'), max=1250.0, style=Pro…"
      ]
     },
     "metadata": {},
     "output_type": "display_data"
    },
    {
     "name": "stdout",
     "output_type": "stream",
     "text": [
      "Epoch 2270: train=8.70875, val=8.62207, took 71.776 s\n",
      "  Validation Found 101706 of 108007, added 5346 (eff 94.17%) (0.267 FP/event)\n",
      "Result epoch:  2270\n",
      "Average Eff:  0\n",
      "Average FP Rate:  0\n"
     ]
    },
    {
     "data": {
      "application/vnd.jupyter.widget-view+json": {
       "model_id": "",
       "version_major": 2,
       "version_minor": 0
      },
      "text/plain": [
       "HBox(children=(FloatProgress(value=0.0, description='Training', layout=Layout(flex='2'), max=1250.0, style=Pro…"
      ]
     },
     "metadata": {},
     "output_type": "display_data"
    },
    {
     "name": "stdout",
     "output_type": "stream",
     "text": [
      "Epoch 2271: train=8.70205, val=8.62741, took 71.147 s\n",
      "  Validation Found 101732 of 108007, added 5439 (eff 94.19%) (0.272 FP/event)\n",
      "Result epoch:  2271\n",
      "Average Eff:  0\n",
      "Average FP Rate:  0\n"
     ]
    },
    {
     "data": {
      "application/vnd.jupyter.widget-view+json": {
       "model_id": "",
       "version_major": 2,
       "version_minor": 0
      },
      "text/plain": [
       "HBox(children=(FloatProgress(value=0.0, description='Training', layout=Layout(flex='2'), max=1250.0, style=Pro…"
      ]
     },
     "metadata": {},
     "output_type": "display_data"
    },
    {
     "name": "stdout",
     "output_type": "stream",
     "text": [
      "Epoch 2272: train=8.70823, val=8.63535, took 71.374 s\n",
      "  Validation Found 101692 of 108007, added 5355 (eff 94.15%) (0.268 FP/event)\n",
      "Result epoch:  2272\n",
      "Average Eff:  0\n",
      "Average FP Rate:  0\n"
     ]
    },
    {
     "data": {
      "application/vnd.jupyter.widget-view+json": {
       "model_id": "",
       "version_major": 2,
       "version_minor": 0
      },
      "text/plain": [
       "HBox(children=(FloatProgress(value=0.0, description='Training', layout=Layout(flex='2'), max=1250.0, style=Pro…"
      ]
     },
     "metadata": {},
     "output_type": "display_data"
    },
    {
     "name": "stdout",
     "output_type": "stream",
     "text": [
      "Epoch 2273: train=8.7064, val=8.6302, took 71.837 s\n",
      "  Validation Found 101820 of 108007, added 5574 (eff 94.27%) (0.279 FP/event)\n",
      "Result epoch:  2273\n",
      "Average Eff:  0\n",
      "Average FP Rate:  0\n"
     ]
    },
    {
     "data": {
      "application/vnd.jupyter.widget-view+json": {
       "model_id": "",
       "version_major": 2,
       "version_minor": 0
      },
      "text/plain": [
       "HBox(children=(FloatProgress(value=0.0, description='Training', layout=Layout(flex='2'), max=1250.0, style=Pro…"
      ]
     },
     "metadata": {},
     "output_type": "display_data"
    },
    {
     "name": "stdout",
     "output_type": "stream",
     "text": [
      "Epoch 2274: train=8.70515, val=8.63081, took 71.533 s\n",
      "  Validation Found 101690 of 108007, added 5338 (eff 94.15%) (0.267 FP/event)\n",
      "Result epoch:  2274\n",
      "Average Eff:  0\n",
      "Average FP Rate:  0\n"
     ]
    },
    {
     "data": {
      "application/vnd.jupyter.widget-view+json": {
       "model_id": "",
       "version_major": 2,
       "version_minor": 0
      },
      "text/plain": [
       "HBox(children=(FloatProgress(value=0.0, description='Training', layout=Layout(flex='2'), max=1250.0, style=Pro…"
      ]
     },
     "metadata": {},
     "output_type": "display_data"
    },
    {
     "name": "stdout",
     "output_type": "stream",
     "text": [
      "Epoch 2275: train=8.70955, val=8.6294, took 71.416 s\n",
      "  Validation Found 101724 of 108007, added 5403 (eff 94.18%) (0.27 FP/event)\n",
      "Result epoch:  2275\n",
      "Average Eff:  0\n",
      "Average FP Rate:  0\n"
     ]
    },
    {
     "data": {
      "application/vnd.jupyter.widget-view+json": {
       "model_id": "",
       "version_major": 2,
       "version_minor": 0
      },
      "text/plain": [
       "HBox(children=(FloatProgress(value=0.0, description='Training', layout=Layout(flex='2'), max=1250.0, style=Pro…"
      ]
     },
     "metadata": {},
     "output_type": "display_data"
    },
    {
     "name": "stdout",
     "output_type": "stream",
     "text": [
      "Epoch 2276: train=8.70906, val=8.63589, took 71.293 s\n",
      "  Validation Found 101727 of 108007, added 5425 (eff 94.19%) (0.271 FP/event)\n",
      "Result epoch:  2276\n",
      "Average Eff:  0\n",
      "Average FP Rate:  0\n"
     ]
    },
    {
     "data": {
      "application/vnd.jupyter.widget-view+json": {
       "model_id": "",
       "version_major": 2,
       "version_minor": 0
      },
      "text/plain": [
       "HBox(children=(FloatProgress(value=0.0, description='Training', layout=Layout(flex='2'), max=1250.0, style=Pro…"
      ]
     },
     "metadata": {},
     "output_type": "display_data"
    },
    {
     "name": "stdout",
     "output_type": "stream",
     "text": [
      "Epoch 2277: train=8.70368, val=8.63101, took 71.59 s\n",
      "  Validation Found 101699 of 108007, added 5404 (eff 94.16%) (0.27 FP/event)\n",
      "Result epoch:  2277\n",
      "Average Eff:  0\n",
      "Average FP Rate:  0\n"
     ]
    },
    {
     "data": {
      "application/vnd.jupyter.widget-view+json": {
       "model_id": "",
       "version_major": 2,
       "version_minor": 0
      },
      "text/plain": [
       "HBox(children=(FloatProgress(value=0.0, description='Training', layout=Layout(flex='2'), max=1250.0, style=Pro…"
      ]
     },
     "metadata": {},
     "output_type": "display_data"
    },
    {
     "name": "stdout",
     "output_type": "stream",
     "text": [
      "Epoch 2278: train=8.70744, val=8.62447, took 72.098 s\n",
      "  Validation Found 101733 of 108007, added 5448 (eff 94.19%) (0.272 FP/event)\n",
      "Result epoch:  2278\n",
      "Average Eff:  0\n",
      "Average FP Rate:  0\n"
     ]
    },
    {
     "data": {
      "application/vnd.jupyter.widget-view+json": {
       "model_id": "",
       "version_major": 2,
       "version_minor": 0
      },
      "text/plain": [
       "HBox(children=(FloatProgress(value=0.0, description='Training', layout=Layout(flex='2'), max=1250.0, style=Pro…"
      ]
     },
     "metadata": {},
     "output_type": "display_data"
    },
    {
     "name": "stdout",
     "output_type": "stream",
     "text": [
      "Epoch 2279: train=8.70848, val=8.62697, took 71.906 s\n",
      "  Validation Found 101694 of 108007, added 5354 (eff 94.16%) (0.268 FP/event)\n",
      "Result epoch:  2279\n",
      "Average Eff:  0\n",
      "Average FP Rate:  0\n"
     ]
    },
    {
     "data": {
      "application/vnd.jupyter.widget-view+json": {
       "model_id": "",
       "version_major": 2,
       "version_minor": 0
      },
      "text/plain": [
       "HBox(children=(FloatProgress(value=0.0, description='Training', layout=Layout(flex='2'), max=1250.0, style=Pro…"
      ]
     },
     "metadata": {},
     "output_type": "display_data"
    },
    {
     "name": "stdout",
     "output_type": "stream",
     "text": [
      "Epoch 2280: train=8.70311, val=8.62521, took 70.2 s\n",
      "  Validation Found 101685 of 108007, added 5314 (eff 94.15%) (0.266 FP/event)\n",
      "Result epoch:  2280\n",
      "Average Eff:  0\n",
      "Average FP Rate:  0\n"
     ]
    },
    {
     "data": {
      "application/vnd.jupyter.widget-view+json": {
       "model_id": "",
       "version_major": 2,
       "version_minor": 0
      },
      "text/plain": [
       "HBox(children=(FloatProgress(value=0.0, description='Training', layout=Layout(flex='2'), max=1250.0, style=Pro…"
      ]
     },
     "metadata": {},
     "output_type": "display_data"
    },
    {
     "name": "stdout",
     "output_type": "stream",
     "text": [
      "Epoch 2281: train=8.70655, val=8.64466, took 71.463 s\n",
      "  Validation Found 101785 of 108007, added 5544 (eff 94.24%) (0.277 FP/event)\n",
      "Result epoch:  2281\n",
      "Average Eff:  0\n",
      "Average FP Rate:  0\n"
     ]
    },
    {
     "data": {
      "application/vnd.jupyter.widget-view+json": {
       "model_id": "",
       "version_major": 2,
       "version_minor": 0
      },
      "text/plain": [
       "HBox(children=(FloatProgress(value=0.0, description='Training', layout=Layout(flex='2'), max=1250.0, style=Pro…"
      ]
     },
     "metadata": {},
     "output_type": "display_data"
    },
    {
     "name": "stdout",
     "output_type": "stream",
     "text": [
      "Epoch 2282: train=8.70193, val=8.63854, took 71.342 s\n",
      "  Validation Found 101764 of 108007, added 5528 (eff 94.22%) (0.276 FP/event)\n",
      "Result epoch:  2282\n",
      "Average Eff:  0\n",
      "Average FP Rate:  0\n"
     ]
    },
    {
     "data": {
      "application/vnd.jupyter.widget-view+json": {
       "model_id": "",
       "version_major": 2,
       "version_minor": 0
      },
      "text/plain": [
       "HBox(children=(FloatProgress(value=0.0, description='Training', layout=Layout(flex='2'), max=1250.0, style=Pro…"
      ]
     },
     "metadata": {},
     "output_type": "display_data"
    },
    {
     "name": "stdout",
     "output_type": "stream",
     "text": [
      "Epoch 2283: train=8.70289, val=8.63142, took 71.038 s\n",
      "  Validation Found 101694 of 108007, added 5363 (eff 94.16%) (0.268 FP/event)\n",
      "Result epoch:  2283\n",
      "Average Eff:  0\n",
      "Average FP Rate:  0\n"
     ]
    },
    {
     "data": {
      "application/vnd.jupyter.widget-view+json": {
       "model_id": "",
       "version_major": 2,
       "version_minor": 0
      },
      "text/plain": [
       "HBox(children=(FloatProgress(value=0.0, description='Training', layout=Layout(flex='2'), max=1250.0, style=Pro…"
      ]
     },
     "metadata": {},
     "output_type": "display_data"
    },
    {
     "name": "stdout",
     "output_type": "stream",
     "text": [
      "Epoch 2284: train=8.70055, val=8.63215, took 71.492 s\n",
      "  Validation Found 101667 of 108007, added 5328 (eff 94.13%) (0.266 FP/event)\n",
      "Result epoch:  2284\n",
      "Average Eff:  0\n",
      "Average FP Rate:  0\n"
     ]
    },
    {
     "data": {
      "application/vnd.jupyter.widget-view+json": {
       "model_id": "",
       "version_major": 2,
       "version_minor": 0
      },
      "text/plain": [
       "HBox(children=(FloatProgress(value=0.0, description='Training', layout=Layout(flex='2'), max=1250.0, style=Pro…"
      ]
     },
     "metadata": {},
     "output_type": "display_data"
    },
    {
     "name": "stdout",
     "output_type": "stream",
     "text": [
      "Epoch 2285: train=8.70282, val=8.63002, took 70.649 s\n",
      "  Validation Found 101775 of 108007, added 5511 (eff 94.23%) (0.276 FP/event)\n",
      "Result epoch:  2285\n",
      "Average Eff:  0\n",
      "Average FP Rate:  0\n"
     ]
    },
    {
     "data": {
      "application/vnd.jupyter.widget-view+json": {
       "model_id": "",
       "version_major": 2,
       "version_minor": 0
      },
      "text/plain": [
       "HBox(children=(FloatProgress(value=0.0, description='Training', layout=Layout(flex='2'), max=1250.0, style=Pro…"
      ]
     },
     "metadata": {},
     "output_type": "display_data"
    },
    {
     "name": "stdout",
     "output_type": "stream",
     "text": [
      "Epoch 2286: train=8.70725, val=8.63691, took 71.453 s\n",
      "  Validation Found 101658 of 108007, added 5287 (eff 94.12%) (0.264 FP/event)\n",
      "Result epoch:  2286\n",
      "Average Eff:  0\n",
      "Average FP Rate:  0\n"
     ]
    },
    {
     "data": {
      "application/vnd.jupyter.widget-view+json": {
       "model_id": "",
       "version_major": 2,
       "version_minor": 0
      },
      "text/plain": [
       "HBox(children=(FloatProgress(value=0.0, description='Training', layout=Layout(flex='2'), max=1250.0, style=Pro…"
      ]
     },
     "metadata": {},
     "output_type": "display_data"
    },
    {
     "name": "stdout",
     "output_type": "stream",
     "text": [
      "Epoch 2287: train=8.70355, val=8.62937, took 71.159 s\n",
      "  Validation Found 101692 of 108007, added 5328 (eff 94.15%) (0.266 FP/event)\n",
      "Result epoch:  2287\n",
      "Average Eff:  0\n",
      "Average FP Rate:  0\n"
     ]
    },
    {
     "data": {
      "application/vnd.jupyter.widget-view+json": {
       "model_id": "",
       "version_major": 2,
       "version_minor": 0
      },
      "text/plain": [
       "HBox(children=(FloatProgress(value=0.0, description='Training', layout=Layout(flex='2'), max=1250.0, style=Pro…"
      ]
     },
     "metadata": {},
     "output_type": "display_data"
    },
    {
     "name": "stdout",
     "output_type": "stream",
     "text": [
      "Epoch 2288: train=8.69923, val=8.64134, took 71.534 s\n",
      "  Validation Found 101785 of 108007, added 5530 (eff 94.24%) (0.276 FP/event)\n",
      "Result epoch:  2288\n",
      "Average Eff:  0\n",
      "Average FP Rate:  0\n"
     ]
    },
    {
     "data": {
      "application/vnd.jupyter.widget-view+json": {
       "model_id": "",
       "version_major": 2,
       "version_minor": 0
      },
      "text/plain": [
       "HBox(children=(FloatProgress(value=0.0, description='Training', layout=Layout(flex='2'), max=1250.0, style=Pro…"
      ]
     },
     "metadata": {},
     "output_type": "display_data"
    },
    {
     "name": "stdout",
     "output_type": "stream",
     "text": [
      "Epoch 2289: train=8.70389, val=8.63693, took 72.034 s\n",
      "  Validation Found 101714 of 108007, added 5412 (eff 94.17%) (0.271 FP/event)\n",
      "Result epoch:  2289\n",
      "Average Eff:  0\n",
      "Average FP Rate:  0\n"
     ]
    },
    {
     "data": {
      "application/vnd.jupyter.widget-view+json": {
       "model_id": "",
       "version_major": 2,
       "version_minor": 0
      },
      "text/plain": [
       "HBox(children=(FloatProgress(value=0.0, description='Training', layout=Layout(flex='2'), max=1250.0, style=Pro…"
      ]
     },
     "metadata": {},
     "output_type": "display_data"
    },
    {
     "name": "stdout",
     "output_type": "stream",
     "text": [
      "Epoch 2290: train=8.70065, val=8.62452, took 71.244 s\n",
      "  Validation Found 101801 of 108007, added 5540 (eff 94.25%) (0.277 FP/event)\n",
      "Result epoch:  2290\n",
      "Average Eff:  0\n",
      "Average FP Rate:  0\n"
     ]
    },
    {
     "data": {
      "application/vnd.jupyter.widget-view+json": {
       "model_id": "",
       "version_major": 2,
       "version_minor": 0
      },
      "text/plain": [
       "HBox(children=(FloatProgress(value=0.0, description='Training', layout=Layout(flex='2'), max=1250.0, style=Pro…"
      ]
     },
     "metadata": {},
     "output_type": "display_data"
    },
    {
     "name": "stdout",
     "output_type": "stream",
     "text": [
      "Epoch 2291: train=8.70296, val=8.63891, took 71.172 s\n",
      "  Validation Found 101616 of 108007, added 5244 (eff 94.08%) (0.262 FP/event)\n",
      "Result epoch:  2291\n",
      "Average Eff:  0\n",
      "Average FP Rate:  0\n"
     ]
    },
    {
     "data": {
      "application/vnd.jupyter.widget-view+json": {
       "model_id": "",
       "version_major": 2,
       "version_minor": 0
      },
      "text/plain": [
       "HBox(children=(FloatProgress(value=0.0, description='Training', layout=Layout(flex='2'), max=1250.0, style=Pro…"
      ]
     },
     "metadata": {},
     "output_type": "display_data"
    },
    {
     "name": "stdout",
     "output_type": "stream",
     "text": [
      "Epoch 2292: train=8.69802, val=8.63777, took 71.824 s\n",
      "  Validation Found 101748 of 108007, added 5452 (eff 94.21%) (0.273 FP/event)\n",
      "Result epoch:  2292\n",
      "Average Eff:  0\n",
      "Average FP Rate:  0\n"
     ]
    },
    {
     "data": {
      "application/vnd.jupyter.widget-view+json": {
       "model_id": "",
       "version_major": 2,
       "version_minor": 0
      },
      "text/plain": [
       "HBox(children=(FloatProgress(value=0.0, description='Training', layout=Layout(flex='2'), max=1250.0, style=Pro…"
      ]
     },
     "metadata": {},
     "output_type": "display_data"
    },
    {
     "name": "stdout",
     "output_type": "stream",
     "text": [
      "Epoch 2293: train=8.69979, val=8.64595, took 70.559 s\n",
      "  Validation Found 101691 of 108007, added 5361 (eff 94.15%) (0.268 FP/event)\n",
      "Result epoch:  2293\n",
      "Average Eff:  0\n",
      "Average FP Rate:  0\n"
     ]
    },
    {
     "data": {
      "application/vnd.jupyter.widget-view+json": {
       "model_id": "",
       "version_major": 2,
       "version_minor": 0
      },
      "text/plain": [
       "HBox(children=(FloatProgress(value=0.0, description='Training', layout=Layout(flex='2'), max=1250.0, style=Pro…"
      ]
     },
     "metadata": {},
     "output_type": "display_data"
    },
    {
     "name": "stdout",
     "output_type": "stream",
     "text": [
      "Epoch 2294: train=8.70517, val=8.6411, took 71.13 s\n",
      "  Validation Found 101724 of 108007, added 5458 (eff 94.18%) (0.273 FP/event)\n",
      "Result epoch:  2294\n",
      "Average Eff:  0\n",
      "Average FP Rate:  0\n"
     ]
    },
    {
     "data": {
      "application/vnd.jupyter.widget-view+json": {
       "model_id": "",
       "version_major": 2,
       "version_minor": 0
      },
      "text/plain": [
       "HBox(children=(FloatProgress(value=0.0, description='Training', layout=Layout(flex='2'), max=1250.0, style=Pro…"
      ]
     },
     "metadata": {},
     "output_type": "display_data"
    },
    {
     "name": "stdout",
     "output_type": "stream",
     "text": [
      "Epoch 2295: train=8.70405, val=8.64236, took 71.283 s\n",
      "  Validation Found 101683 of 108007, added 5360 (eff 94.14%) (0.268 FP/event)\n",
      "Result epoch:  2295\n",
      "Average Eff:  0\n",
      "Average FP Rate:  0\n"
     ]
    },
    {
     "data": {
      "application/vnd.jupyter.widget-view+json": {
       "model_id": "",
       "version_major": 2,
       "version_minor": 0
      },
      "text/plain": [
       "HBox(children=(FloatProgress(value=0.0, description='Training', layout=Layout(flex='2'), max=1250.0, style=Pro…"
      ]
     },
     "metadata": {},
     "output_type": "display_data"
    },
    {
     "name": "stdout",
     "output_type": "stream",
     "text": [
      "Epoch 2296: train=8.70169, val=8.63588, took 71.636 s\n",
      "  Validation Found 101654 of 108007, added 5287 (eff 94.12%) (0.264 FP/event)\n",
      "Result epoch:  2296\n",
      "Average Eff:  0\n",
      "Average FP Rate:  0\n"
     ]
    },
    {
     "data": {
      "application/vnd.jupyter.widget-view+json": {
       "model_id": "",
       "version_major": 2,
       "version_minor": 0
      },
      "text/plain": [
       "HBox(children=(FloatProgress(value=0.0, description='Training', layout=Layout(flex='2'), max=1250.0, style=Pro…"
      ]
     },
     "metadata": {},
     "output_type": "display_data"
    },
    {
     "name": "stdout",
     "output_type": "stream",
     "text": [
      "Epoch 2297: train=8.7034, val=8.63962, took 69.403 s\n",
      "  Validation Found 101667 of 108007, added 5349 (eff 94.13%) (0.267 FP/event)\n",
      "Result epoch:  2297\n",
      "Average Eff:  0\n",
      "Average FP Rate:  0\n"
     ]
    },
    {
     "data": {
      "application/vnd.jupyter.widget-view+json": {
       "model_id": "",
       "version_major": 2,
       "version_minor": 0
      },
      "text/plain": [
       "HBox(children=(FloatProgress(value=0.0, description='Training', layout=Layout(flex='2'), max=1250.0, style=Pro…"
      ]
     },
     "metadata": {},
     "output_type": "display_data"
    },
    {
     "name": "stdout",
     "output_type": "stream",
     "text": [
      "Epoch 2298: train=8.70086, val=8.62926, took 71.067 s\n",
      "  Validation Found 101701 of 108007, added 5373 (eff 94.16%) (0.269 FP/event)\n",
      "Result epoch:  2298\n",
      "Average Eff:  0\n",
      "Average FP Rate:  0\n"
     ]
    },
    {
     "data": {
      "application/vnd.jupyter.widget-view+json": {
       "model_id": "",
       "version_major": 2,
       "version_minor": 0
      },
      "text/plain": [
       "HBox(children=(FloatProgress(value=0.0, description='Training', layout=Layout(flex='2'), max=1250.0, style=Pro…"
      ]
     },
     "metadata": {},
     "output_type": "display_data"
    },
    {
     "name": "stdout",
     "output_type": "stream",
     "text": [
      "Epoch 2299: train=8.70279, val=8.64144, took 71.826 s\n",
      "  Validation Found 101687 of 108007, added 5353 (eff 94.15%) (0.268 FP/event)\n",
      "Result epoch:  2299\n",
      "Average Eff:  0\n",
      "Average FP Rate:  0\n"
     ]
    },
    {
     "data": {
      "application/vnd.jupyter.widget-view+json": {
       "model_id": "",
       "version_major": 2,
       "version_minor": 0
      },
      "text/plain": [
       "HBox(children=(FloatProgress(value=0.0, description='Training', layout=Layout(flex='2'), max=1250.0, style=Pro…"
      ]
     },
     "metadata": {},
     "output_type": "display_data"
    },
    {
     "name": "stdout",
     "output_type": "stream",
     "text": [
      "Epoch 2300: train=8.69807, val=8.63629, took 71.58 s\n",
      "  Validation Found 101665 of 108007, added 5331 (eff 94.13%) (0.267 FP/event)\n",
      "Result epoch:  2300\n",
      "Average Eff:  0\n",
      "Average FP Rate:  0\n"
     ]
    },
    {
     "data": {
      "application/vnd.jupyter.widget-view+json": {
       "model_id": "",
       "version_major": 2,
       "version_minor": 0
      },
      "text/plain": [
       "HBox(children=(FloatProgress(value=0.0, description='Training', layout=Layout(flex='2'), max=1250.0, style=Pro…"
      ]
     },
     "metadata": {},
     "output_type": "display_data"
    },
    {
     "name": "stdout",
     "output_type": "stream",
     "text": [
      "Epoch 2301: train=8.68928, val=8.63427, took 71.002 s\n",
      "  Validation Found 101790 of 108007, added 5520 (eff 94.24%) (0.276 FP/event)\n",
      "Result epoch:  2301\n",
      "Average Eff:  0\n",
      "Average FP Rate:  0\n"
     ]
    },
    {
     "data": {
      "application/vnd.jupyter.widget-view+json": {
       "model_id": "",
       "version_major": 2,
       "version_minor": 0
      },
      "text/plain": [
       "HBox(children=(FloatProgress(value=0.0, description='Training', layout=Layout(flex='2'), max=1250.0, style=Pro…"
      ]
     },
     "metadata": {},
     "output_type": "display_data"
    },
    {
     "name": "stdout",
     "output_type": "stream",
     "text": [
      "Epoch 2302: train=8.70127, val=8.63123, took 71.901 s\n",
      "  Validation Found 101740 of 108007, added 5456 (eff 94.20%) (0.273 FP/event)\n",
      "Result epoch:  2302\n",
      "Average Eff:  0\n",
      "Average FP Rate:  0\n"
     ]
    },
    {
     "data": {
      "application/vnd.jupyter.widget-view+json": {
       "model_id": "",
       "version_major": 2,
       "version_minor": 0
      },
      "text/plain": [
       "HBox(children=(FloatProgress(value=0.0, description='Training', layout=Layout(flex='2'), max=1250.0, style=Pro…"
      ]
     },
     "metadata": {},
     "output_type": "display_data"
    },
    {
     "name": "stdout",
     "output_type": "stream",
     "text": [
      "Epoch 2303: train=8.69565, val=8.63618, took 71.065 s\n",
      "  Validation Found 101750 of 108007, added 5485 (eff 94.21%) (0.274 FP/event)\n",
      "Result epoch:  2303\n",
      "Average Eff:  0\n",
      "Average FP Rate:  0\n"
     ]
    },
    {
     "data": {
      "application/vnd.jupyter.widget-view+json": {
       "model_id": "",
       "version_major": 2,
       "version_minor": 0
      },
      "text/plain": [
       "HBox(children=(FloatProgress(value=0.0, description='Training', layout=Layout(flex='2'), max=1250.0, style=Pro…"
      ]
     },
     "metadata": {},
     "output_type": "display_data"
    },
    {
     "name": "stdout",
     "output_type": "stream",
     "text": [
      "Epoch 2304: train=8.69624, val=8.6341, took 72.081 s\n",
      "  Validation Found 101779 of 108007, added 5528 (eff 94.23%) (0.276 FP/event)\n",
      "Result epoch:  2304\n",
      "Average Eff:  0\n",
      "Average FP Rate:  0\n"
     ]
    },
    {
     "data": {
      "application/vnd.jupyter.widget-view+json": {
       "model_id": "",
       "version_major": 2,
       "version_minor": 0
      },
      "text/plain": [
       "HBox(children=(FloatProgress(value=0.0, description='Training', layout=Layout(flex='2'), max=1250.0, style=Pro…"
      ]
     },
     "metadata": {},
     "output_type": "display_data"
    },
    {
     "name": "stdout",
     "output_type": "stream",
     "text": [
      "Epoch 2305: train=8.70119, val=8.63824, took 71.545 s\n",
      "  Validation Found 101636 of 108007, added 5264 (eff 94.10%) (0.263 FP/event)\n",
      "Result epoch:  2305\n",
      "Average Eff:  0\n",
      "Average FP Rate:  0\n"
     ]
    },
    {
     "data": {
      "application/vnd.jupyter.widget-view+json": {
       "model_id": "",
       "version_major": 2,
       "version_minor": 0
      },
      "text/plain": [
       "HBox(children=(FloatProgress(value=0.0, description='Training', layout=Layout(flex='2'), max=1250.0, style=Pro…"
      ]
     },
     "metadata": {},
     "output_type": "display_data"
    },
    {
     "name": "stdout",
     "output_type": "stream",
     "text": [
      "Epoch 2306: train=8.69482, val=8.63539, took 71.015 s\n",
      "  Validation Found 101725 of 108007, added 5434 (eff 94.18%) (0.272 FP/event)\n",
      "Result epoch:  2306\n",
      "Average Eff:  0\n",
      "Average FP Rate:  0\n"
     ]
    },
    {
     "data": {
      "application/vnd.jupyter.widget-view+json": {
       "model_id": "",
       "version_major": 2,
       "version_minor": 0
      },
      "text/plain": [
       "HBox(children=(FloatProgress(value=0.0, description='Training', layout=Layout(flex='2'), max=1250.0, style=Pro…"
      ]
     },
     "metadata": {},
     "output_type": "display_data"
    },
    {
     "name": "stdout",
     "output_type": "stream",
     "text": [
      "Epoch 2307: train=8.69799, val=8.63676, took 72.124 s\n",
      "  Validation Found 101748 of 108007, added 5457 (eff 94.21%) (0.273 FP/event)\n",
      "Result epoch:  2307\n",
      "Average Eff:  0\n",
      "Average FP Rate:  0\n"
     ]
    },
    {
     "data": {
      "application/vnd.jupyter.widget-view+json": {
       "model_id": "",
       "version_major": 2,
       "version_minor": 0
      },
      "text/plain": [
       "HBox(children=(FloatProgress(value=0.0, description='Training', layout=Layout(flex='2'), max=1250.0, style=Pro…"
      ]
     },
     "metadata": {},
     "output_type": "display_data"
    },
    {
     "name": "stdout",
     "output_type": "stream",
     "text": [
      "Epoch 2308: train=8.69461, val=8.63185, took 71.322 s\n",
      "  Validation Found 101704 of 108007, added 5368 (eff 94.16%) (0.268 FP/event)\n",
      "Result epoch:  2308\n",
      "Average Eff:  0\n",
      "Average FP Rate:  0\n"
     ]
    },
    {
     "data": {
      "application/vnd.jupyter.widget-view+json": {
       "model_id": "",
       "version_major": 2,
       "version_minor": 0
      },
      "text/plain": [
       "HBox(children=(FloatProgress(value=0.0, description='Training', layout=Layout(flex='2'), max=1250.0, style=Pro…"
      ]
     },
     "metadata": {},
     "output_type": "display_data"
    },
    {
     "name": "stdout",
     "output_type": "stream",
     "text": [
      "Epoch 2309: train=8.69662, val=8.63347, took 70.893 s\n",
      "  Validation Found 101745 of 108007, added 5479 (eff 94.20%) (0.274 FP/event)\n",
      "Result epoch:  2309\n",
      "Average Eff:  0\n",
      "Average FP Rate:  0\n"
     ]
    },
    {
     "data": {
      "application/vnd.jupyter.widget-view+json": {
       "model_id": "",
       "version_major": 2,
       "version_minor": 0
      },
      "text/plain": [
       "HBox(children=(FloatProgress(value=0.0, description='Training', layout=Layout(flex='2'), max=1250.0, style=Pro…"
      ]
     },
     "metadata": {},
     "output_type": "display_data"
    },
    {
     "name": "stdout",
     "output_type": "stream",
     "text": [
      "Epoch 2310: train=8.68985, val=8.63471, took 71.937 s\n",
      "  Validation Found 101690 of 108007, added 5362 (eff 94.15%) (0.268 FP/event)\n",
      "Result epoch:  2310\n",
      "Average Eff:  0\n",
      "Average FP Rate:  0\n"
     ]
    },
    {
     "data": {
      "application/vnd.jupyter.widget-view+json": {
       "model_id": "",
       "version_major": 2,
       "version_minor": 0
      },
      "text/plain": [
       "HBox(children=(FloatProgress(value=0.0, description='Training', layout=Layout(flex='2'), max=1250.0, style=Pro…"
      ]
     },
     "metadata": {},
     "output_type": "display_data"
    },
    {
     "name": "stdout",
     "output_type": "stream",
     "text": [
      "Epoch 2311: train=8.69331, val=8.63298, took 70.557 s\n",
      "  Validation Found 101730 of 108007, added 5407 (eff 94.19%) (0.27 FP/event)\n",
      "Result epoch:  2311\n",
      "Average Eff:  0\n",
      "Average FP Rate:  0\n"
     ]
    },
    {
     "data": {
      "application/vnd.jupyter.widget-view+json": {
       "model_id": "",
       "version_major": 2,
       "version_minor": 0
      },
      "text/plain": [
       "HBox(children=(FloatProgress(value=0.0, description='Training', layout=Layout(flex='2'), max=1250.0, style=Pro…"
      ]
     },
     "metadata": {},
     "output_type": "display_data"
    },
    {
     "name": "stdout",
     "output_type": "stream",
     "text": [
      "Epoch 2312: train=8.69159, val=8.63274, took 72.161 s\n",
      "  Validation Found 101722 of 108007, added 5418 (eff 94.18%) (0.271 FP/event)\n",
      "Result epoch:  2312\n",
      "Average Eff:  0\n",
      "Average FP Rate:  0\n"
     ]
    },
    {
     "data": {
      "application/vnd.jupyter.widget-view+json": {
       "model_id": "",
       "version_major": 2,
       "version_minor": 0
      },
      "text/plain": [
       "HBox(children=(FloatProgress(value=0.0, description='Training', layout=Layout(flex='2'), max=1250.0, style=Pro…"
      ]
     },
     "metadata": {},
     "output_type": "display_data"
    },
    {
     "name": "stdout",
     "output_type": "stream",
     "text": [
      "Epoch 2313: train=8.69257, val=8.63433, took 71.741 s\n",
      "  Validation Found 101738 of 108007, added 5452 (eff 94.20%) (0.273 FP/event)\n",
      "Result epoch:  2313\n",
      "Average Eff:  0\n",
      "Average FP Rate:  0\n"
     ]
    },
    {
     "data": {
      "application/vnd.jupyter.widget-view+json": {
       "model_id": "",
       "version_major": 2,
       "version_minor": 0
      },
      "text/plain": [
       "HBox(children=(FloatProgress(value=0.0, description='Training', layout=Layout(flex='2'), max=1250.0, style=Pro…"
      ]
     },
     "metadata": {},
     "output_type": "display_data"
    },
    {
     "name": "stdout",
     "output_type": "stream",
     "text": [
      "Epoch 2314: train=8.69681, val=8.63018, took 71.808 s\n",
      "  Validation Found 101597 of 108007, added 5166 (eff 94.07%) (0.258 FP/event)\n",
      "Result epoch:  2314\n",
      "Average Eff:  0\n",
      "Average FP Rate:  0\n"
     ]
    },
    {
     "data": {
      "application/vnd.jupyter.widget-view+json": {
       "model_id": "",
       "version_major": 2,
       "version_minor": 0
      },
      "text/plain": [
       "HBox(children=(FloatProgress(value=0.0, description='Training', layout=Layout(flex='2'), max=1250.0, style=Pro…"
      ]
     },
     "metadata": {},
     "output_type": "display_data"
    },
    {
     "name": "stdout",
     "output_type": "stream",
     "text": [
      "Epoch 2315: train=8.69387, val=8.63771, took 70.986 s\n",
      "  Validation Found 101650 of 108007, added 5295 (eff 94.11%) (0.265 FP/event)\n",
      "Result epoch:  2315\n",
      "Average Eff:  0\n",
      "Average FP Rate:  0\n"
     ]
    },
    {
     "data": {
      "application/vnd.jupyter.widget-view+json": {
       "model_id": "",
       "version_major": 2,
       "version_minor": 0
      },
      "text/plain": [
       "HBox(children=(FloatProgress(value=0.0, description='Training', layout=Layout(flex='2'), max=1250.0, style=Pro…"
      ]
     },
     "metadata": {},
     "output_type": "display_data"
    },
    {
     "name": "stdout",
     "output_type": "stream",
     "text": [
      "Epoch 2316: train=8.69255, val=8.63547, took 71.618 s\n",
      "  Validation Found 101736 of 108007, added 5427 (eff 94.19%) (0.271 FP/event)\n",
      "Result epoch:  2316\n",
      "Average Eff:  0\n",
      "Average FP Rate:  0\n"
     ]
    },
    {
     "data": {
      "application/vnd.jupyter.widget-view+json": {
       "model_id": "",
       "version_major": 2,
       "version_minor": 0
      },
      "text/plain": [
       "HBox(children=(FloatProgress(value=0.0, description='Training', layout=Layout(flex='2'), max=1250.0, style=Pro…"
      ]
     },
     "metadata": {},
     "output_type": "display_data"
    },
    {
     "name": "stdout",
     "output_type": "stream",
     "text": [
      "Epoch 2317: train=8.69725, val=8.63907, took 71.861 s\n",
      "  Validation Found 101703 of 108007, added 5375 (eff 94.16%) (0.269 FP/event)\n",
      "Result epoch:  2317\n",
      "Average Eff:  0\n",
      "Average FP Rate:  0\n"
     ]
    },
    {
     "data": {
      "application/vnd.jupyter.widget-view+json": {
       "model_id": "",
       "version_major": 2,
       "version_minor": 0
      },
      "text/plain": [
       "HBox(children=(FloatProgress(value=0.0, description='Training', layout=Layout(flex='2'), max=1250.0, style=Pro…"
      ]
     },
     "metadata": {},
     "output_type": "display_data"
    },
    {
     "name": "stdout",
     "output_type": "stream",
     "text": [
      "Epoch 2318: train=8.68919, val=8.63572, took 69.855 s\n",
      "  Validation Found 101713 of 108007, added 5420 (eff 94.17%) (0.271 FP/event)\n",
      "Result epoch:  2318\n",
      "Average Eff:  0\n",
      "Average FP Rate:  0\n"
     ]
    },
    {
     "data": {
      "application/vnd.jupyter.widget-view+json": {
       "model_id": "",
       "version_major": 2,
       "version_minor": 0
      },
      "text/plain": [
       "HBox(children=(FloatProgress(value=0.0, description='Training', layout=Layout(flex='2'), max=1250.0, style=Pro…"
      ]
     },
     "metadata": {},
     "output_type": "display_data"
    },
    {
     "name": "stdout",
     "output_type": "stream",
     "text": [
      "Epoch 2319: train=8.69328, val=8.63377, took 70.769 s\n",
      "  Validation Found 101738 of 108007, added 5457 (eff 94.20%) (0.273 FP/event)\n",
      "Result epoch:  2319\n",
      "Average Eff:  0\n",
      "Average FP Rate:  0\n"
     ]
    },
    {
     "data": {
      "application/vnd.jupyter.widget-view+json": {
       "model_id": "",
       "version_major": 2,
       "version_minor": 0
      },
      "text/plain": [
       "HBox(children=(FloatProgress(value=0.0, description='Training', layout=Layout(flex='2'), max=1250.0, style=Pro…"
      ]
     },
     "metadata": {},
     "output_type": "display_data"
    },
    {
     "name": "stdout",
     "output_type": "stream",
     "text": [
      "Epoch 2320: train=8.68856, val=8.63283, took 70.95 s\n",
      "  Validation Found 101701 of 108007, added 5332 (eff 94.16%) (0.267 FP/event)\n",
      "Result epoch:  2320\n",
      "Average Eff:  0\n",
      "Average FP Rate:  0\n"
     ]
    },
    {
     "data": {
      "application/vnd.jupyter.widget-view+json": {
       "model_id": "",
       "version_major": 2,
       "version_minor": 0
      },
      "text/plain": [
       "HBox(children=(FloatProgress(value=0.0, description='Training', layout=Layout(flex='2'), max=1250.0, style=Pro…"
      ]
     },
     "metadata": {},
     "output_type": "display_data"
    },
    {
     "name": "stdout",
     "output_type": "stream",
     "text": [
      "Epoch 2321: train=8.69145, val=8.64327, took 71.112 s\n",
      "  Validation Found 101710 of 108007, added 5413 (eff 94.17%) (0.271 FP/event)\n",
      "Result epoch:  2321\n",
      "Average Eff:  0\n",
      "Average FP Rate:  0\n"
     ]
    },
    {
     "data": {
      "application/vnd.jupyter.widget-view+json": {
       "model_id": "",
       "version_major": 2,
       "version_minor": 0
      },
      "text/plain": [
       "HBox(children=(FloatProgress(value=0.0, description='Training', layout=Layout(flex='2'), max=1250.0, style=Pro…"
      ]
     },
     "metadata": {},
     "output_type": "display_data"
    },
    {
     "name": "stdout",
     "output_type": "stream",
     "text": [
      "Epoch 2322: train=8.68867, val=8.64106, took 70.479 s\n",
      "  Validation Found 101709 of 108007, added 5388 (eff 94.17%) (0.269 FP/event)\n",
      "Result epoch:  2322\n",
      "Average Eff:  0\n",
      "Average FP Rate:  0\n"
     ]
    },
    {
     "data": {
      "application/vnd.jupyter.widget-view+json": {
       "model_id": "",
       "version_major": 2,
       "version_minor": 0
      },
      "text/plain": [
       "HBox(children=(FloatProgress(value=0.0, description='Training', layout=Layout(flex='2'), max=1250.0, style=Pro…"
      ]
     },
     "metadata": {},
     "output_type": "display_data"
    },
    {
     "name": "stdout",
     "output_type": "stream",
     "text": [
      "Epoch 2323: train=8.68851, val=8.63562, took 70.441 s\n",
      "  Validation Found 101711 of 108007, added 5427 (eff 94.17%) (0.271 FP/event)\n",
      "Result epoch:  2323\n",
      "Average Eff:  0\n",
      "Average FP Rate:  0\n"
     ]
    },
    {
     "data": {
      "application/vnd.jupyter.widget-view+json": {
       "model_id": "",
       "version_major": 2,
       "version_minor": 0
      },
      "text/plain": [
       "HBox(children=(FloatProgress(value=0.0, description='Training', layout=Layout(flex='2'), max=1250.0, style=Pro…"
      ]
     },
     "metadata": {},
     "output_type": "display_data"
    },
    {
     "name": "stdout",
     "output_type": "stream",
     "text": [
      "Epoch 2324: train=8.6842, val=8.63742, took 70.541 s\n",
      "  Validation Found 101719 of 108007, added 5410 (eff 94.18%) (0.27 FP/event)\n",
      "Result epoch:  2324\n",
      "Average Eff:  0\n",
      "Average FP Rate:  0\n"
     ]
    },
    {
     "data": {
      "application/vnd.jupyter.widget-view+json": {
       "model_id": "",
       "version_major": 2,
       "version_minor": 0
      },
      "text/plain": [
       "HBox(children=(FloatProgress(value=0.0, description='Training', layout=Layout(flex='2'), max=1250.0, style=Pro…"
      ]
     },
     "metadata": {},
     "output_type": "display_data"
    },
    {
     "name": "stdout",
     "output_type": "stream",
     "text": [
      "Epoch 2325: train=8.69191, val=8.63605, took 70.889 s\n",
      "  Validation Found 101702 of 108007, added 5337 (eff 94.16%) (0.267 FP/event)\n",
      "Result epoch:  2325\n",
      "Average Eff:  0\n",
      "Average FP Rate:  0\n"
     ]
    },
    {
     "data": {
      "application/vnd.jupyter.widget-view+json": {
       "model_id": "",
       "version_major": 2,
       "version_minor": 0
      },
      "text/plain": [
       "HBox(children=(FloatProgress(value=0.0, description='Training', layout=Layout(flex='2'), max=1250.0, style=Pro…"
      ]
     },
     "metadata": {},
     "output_type": "display_data"
    },
    {
     "name": "stdout",
     "output_type": "stream",
     "text": [
      "Epoch 2326: train=8.69249, val=8.63829, took 72.018 s\n",
      "  Validation Found 101718 of 108007, added 5381 (eff 94.18%) (0.269 FP/event)\n",
      "Result epoch:  2326\n",
      "Average Eff:  0\n",
      "Average FP Rate:  0\n"
     ]
    },
    {
     "data": {
      "application/vnd.jupyter.widget-view+json": {
       "model_id": "",
       "version_major": 2,
       "version_minor": 0
      },
      "text/plain": [
       "HBox(children=(FloatProgress(value=0.0, description='Training', layout=Layout(flex='2'), max=1250.0, style=Pro…"
      ]
     },
     "metadata": {},
     "output_type": "display_data"
    },
    {
     "name": "stdout",
     "output_type": "stream",
     "text": [
      "Epoch 2327: train=8.69115, val=8.63529, took 71.42 s\n",
      "  Validation Found 101776 of 108007, added 5527 (eff 94.23%) (0.276 FP/event)\n",
      "Result epoch:  2327\n",
      "Average Eff:  0\n",
      "Average FP Rate:  0\n"
     ]
    },
    {
     "data": {
      "application/vnd.jupyter.widget-view+json": {
       "model_id": "",
       "version_major": 2,
       "version_minor": 0
      },
      "text/plain": [
       "HBox(children=(FloatProgress(value=0.0, description='Training', layout=Layout(flex='2'), max=1250.0, style=Pro…"
      ]
     },
     "metadata": {},
     "output_type": "display_data"
    },
    {
     "name": "stdout",
     "output_type": "stream",
     "text": [
      "Epoch 2328: train=8.68465, val=8.63283, took 72.169 s\n",
      "  Validation Found 101721 of 108007, added 5392 (eff 94.18%) (0.27 FP/event)\n",
      "Result epoch:  2328\n",
      "Average Eff:  0\n",
      "Average FP Rate:  0\n"
     ]
    },
    {
     "data": {
      "application/vnd.jupyter.widget-view+json": {
       "model_id": "",
       "version_major": 2,
       "version_minor": 0
      },
      "text/plain": [
       "HBox(children=(FloatProgress(value=0.0, description='Training', layout=Layout(flex='2'), max=1250.0, style=Pro…"
      ]
     },
     "metadata": {},
     "output_type": "display_data"
    },
    {
     "name": "stdout",
     "output_type": "stream",
     "text": [
      "Epoch 2329: train=8.68908, val=8.63782, took 71.201 s\n",
      "  Validation Found 101621 of 108007, added 5255 (eff 94.09%) (0.263 FP/event)\n",
      "Result epoch:  2329\n",
      "Average Eff:  0\n",
      "Average FP Rate:  0\n"
     ]
    },
    {
     "data": {
      "application/vnd.jupyter.widget-view+json": {
       "model_id": "",
       "version_major": 2,
       "version_minor": 0
      },
      "text/plain": [
       "HBox(children=(FloatProgress(value=0.0, description='Training', layout=Layout(flex='2'), max=1250.0, style=Pro…"
      ]
     },
     "metadata": {},
     "output_type": "display_data"
    },
    {
     "name": "stdout",
     "output_type": "stream",
     "text": [
      "Epoch 2330: train=8.68951, val=8.63865, took 70.516 s\n",
      "  Validation Found 101650 of 108007, added 5286 (eff 94.11%) (0.264 FP/event)\n",
      "Result epoch:  2330\n",
      "Average Eff:  0\n",
      "Average FP Rate:  0\n"
     ]
    },
    {
     "data": {
      "application/vnd.jupyter.widget-view+json": {
       "model_id": "",
       "version_major": 2,
       "version_minor": 0
      },
      "text/plain": [
       "HBox(children=(FloatProgress(value=0.0, description='Training', layout=Layout(flex='2'), max=1250.0, style=Pro…"
      ]
     },
     "metadata": {},
     "output_type": "display_data"
    },
    {
     "name": "stdout",
     "output_type": "stream",
     "text": [
      "Epoch 2331: train=8.69116, val=8.63221, took 72.627 s\n",
      "  Validation Found 101695 of 108007, added 5348 (eff 94.16%) (0.267 FP/event)\n",
      "Result epoch:  2331\n",
      "Average Eff:  0\n",
      "Average FP Rate:  0\n"
     ]
    },
    {
     "data": {
      "application/vnd.jupyter.widget-view+json": {
       "model_id": "",
       "version_major": 2,
       "version_minor": 0
      },
      "text/plain": [
       "HBox(children=(FloatProgress(value=0.0, description='Training', layout=Layout(flex='2'), max=1250.0, style=Pro…"
      ]
     },
     "metadata": {},
     "output_type": "display_data"
    },
    {
     "name": "stdout",
     "output_type": "stream",
     "text": [
      "Epoch 2332: train=8.68655, val=8.64162, took 69.087 s\n",
      "  Validation Found 101727 of 108007, added 5420 (eff 94.19%) (0.271 FP/event)\n",
      "Result epoch:  2332\n",
      "Average Eff:  0\n",
      "Average FP Rate:  0\n"
     ]
    },
    {
     "data": {
      "application/vnd.jupyter.widget-view+json": {
       "model_id": "",
       "version_major": 2,
       "version_minor": 0
      },
      "text/plain": [
       "HBox(children=(FloatProgress(value=0.0, description='Training', layout=Layout(flex='2'), max=1250.0, style=Pro…"
      ]
     },
     "metadata": {},
     "output_type": "display_data"
    },
    {
     "name": "stdout",
     "output_type": "stream",
     "text": [
      "Epoch 2333: train=8.68575, val=8.63973, took 71.521 s\n",
      "  Validation Found 101769 of 108007, added 5521 (eff 94.22%) (0.276 FP/event)\n",
      "Result epoch:  2333\n",
      "Average Eff:  0\n",
      "Average FP Rate:  0\n"
     ]
    },
    {
     "data": {
      "application/vnd.jupyter.widget-view+json": {
       "model_id": "",
       "version_major": 2,
       "version_minor": 0
      },
      "text/plain": [
       "HBox(children=(FloatProgress(value=0.0, description='Training', layout=Layout(flex='2'), max=1250.0, style=Pro…"
      ]
     },
     "metadata": {},
     "output_type": "display_data"
    },
    {
     "name": "stdout",
     "output_type": "stream",
     "text": [
      "Epoch 2334: train=8.68756, val=8.64262, took 71.493 s\n",
      "  Validation Found 101716 of 108007, added 5432 (eff 94.18%) (0.272 FP/event)\n",
      "Result epoch:  2334\n",
      "Average Eff:  0\n",
      "Average FP Rate:  0\n"
     ]
    },
    {
     "data": {
      "application/vnd.jupyter.widget-view+json": {
       "model_id": "",
       "version_major": 2,
       "version_minor": 0
      },
      "text/plain": [
       "HBox(children=(FloatProgress(value=0.0, description='Training', layout=Layout(flex='2'), max=1250.0, style=Pro…"
      ]
     },
     "metadata": {},
     "output_type": "display_data"
    },
    {
     "name": "stdout",
     "output_type": "stream",
     "text": [
      "Epoch 2335: train=8.6871, val=8.63956, took 72.063 s\n",
      "  Validation Found 101694 of 108007, added 5322 (eff 94.16%) (0.266 FP/event)\n",
      "Result epoch:  2335\n",
      "Average Eff:  0\n",
      "Average FP Rate:  0\n"
     ]
    },
    {
     "data": {
      "application/vnd.jupyter.widget-view+json": {
       "model_id": "",
       "version_major": 2,
       "version_minor": 0
      },
      "text/plain": [
       "HBox(children=(FloatProgress(value=0.0, description='Training', layout=Layout(flex='2'), max=1250.0, style=Pro…"
      ]
     },
     "metadata": {},
     "output_type": "display_data"
    },
    {
     "name": "stdout",
     "output_type": "stream",
     "text": [
      "Epoch 2336: train=8.68528, val=8.64078, took 71.276 s\n",
      "  Validation Found 101716 of 108007, added 5411 (eff 94.18%) (0.271 FP/event)\n",
      "Result epoch:  2336\n",
      "Average Eff:  0\n",
      "Average FP Rate:  0\n"
     ]
    },
    {
     "data": {
      "application/vnd.jupyter.widget-view+json": {
       "model_id": "",
       "version_major": 2,
       "version_minor": 0
      },
      "text/plain": [
       "HBox(children=(FloatProgress(value=0.0, description='Training', layout=Layout(flex='2'), max=1250.0, style=Pro…"
      ]
     },
     "metadata": {},
     "output_type": "display_data"
    },
    {
     "name": "stdout",
     "output_type": "stream",
     "text": [
      "Epoch 2337: train=8.68557, val=8.63612, took 71.818 s\n",
      "  Validation Found 101719 of 108007, added 5440 (eff 94.18%) (0.272 FP/event)\n",
      "Result epoch:  2337\n",
      "Average Eff:  0\n",
      "Average FP Rate:  0\n"
     ]
    },
    {
     "data": {
      "application/vnd.jupyter.widget-view+json": {
       "model_id": "",
       "version_major": 2,
       "version_minor": 0
      },
      "text/plain": [
       "HBox(children=(FloatProgress(value=0.0, description='Training', layout=Layout(flex='2'), max=1250.0, style=Pro…"
      ]
     },
     "metadata": {},
     "output_type": "display_data"
    },
    {
     "name": "stdout",
     "output_type": "stream",
     "text": [
      "Epoch 2338: train=8.68781, val=8.64143, took 70.903 s\n",
      "  Validation Found 101693 of 108007, added 5332 (eff 94.15%) (0.267 FP/event)\n",
      "Result epoch:  2338\n",
      "Average Eff:  0\n",
      "Average FP Rate:  0\n"
     ]
    },
    {
     "data": {
      "application/vnd.jupyter.widget-view+json": {
       "model_id": "",
       "version_major": 2,
       "version_minor": 0
      },
      "text/plain": [
       "HBox(children=(FloatProgress(value=0.0, description='Training', layout=Layout(flex='2'), max=1250.0, style=Pro…"
      ]
     },
     "metadata": {},
     "output_type": "display_data"
    },
    {
     "name": "stdout",
     "output_type": "stream",
     "text": [
      "Epoch 2339: train=8.6877, val=8.63438, took 71.199 s\n",
      "  Validation Found 101636 of 108007, added 5214 (eff 94.10%) (0.261 FP/event)\n",
      "Result epoch:  2339\n",
      "Average Eff:  0\n",
      "Average FP Rate:  0\n"
     ]
    },
    {
     "data": {
      "application/vnd.jupyter.widget-view+json": {
       "model_id": "",
       "version_major": 2,
       "version_minor": 0
      },
      "text/plain": [
       "HBox(children=(FloatProgress(value=0.0, description='Training', layout=Layout(flex='2'), max=1250.0, style=Pro…"
      ]
     },
     "metadata": {},
     "output_type": "display_data"
    },
    {
     "name": "stdout",
     "output_type": "stream",
     "text": [
      "Epoch 2340: train=8.68555, val=8.63761, took 70.885 s\n",
      "  Validation Found 101768 of 108007, added 5500 (eff 94.22%) (0.275 FP/event)\n",
      "Result epoch:  2340\n",
      "Average Eff:  0\n",
      "Average FP Rate:  0\n"
     ]
    },
    {
     "data": {
      "application/vnd.jupyter.widget-view+json": {
       "model_id": "",
       "version_major": 2,
       "version_minor": 0
      },
      "text/plain": [
       "HBox(children=(FloatProgress(value=0.0, description='Training', layout=Layout(flex='2'), max=1250.0, style=Pro…"
      ]
     },
     "metadata": {},
     "output_type": "display_data"
    },
    {
     "name": "stdout",
     "output_type": "stream",
     "text": [
      "Epoch 2341: train=8.68467, val=8.63713, took 70.641 s\n",
      "  Validation Found 101728 of 108007, added 5464 (eff 94.19%) (0.273 FP/event)\n",
      "Result epoch:  2341\n",
      "Average Eff:  0\n",
      "Average FP Rate:  0\n"
     ]
    },
    {
     "data": {
      "application/vnd.jupyter.widget-view+json": {
       "model_id": "",
       "version_major": 2,
       "version_minor": 0
      },
      "text/plain": [
       "HBox(children=(FloatProgress(value=0.0, description='Training', layout=Layout(flex='2'), max=1250.0, style=Pro…"
      ]
     },
     "metadata": {},
     "output_type": "display_data"
    },
    {
     "name": "stdout",
     "output_type": "stream",
     "text": [
      "Epoch 2342: train=8.67862, val=8.63768, took 70.371 s\n",
      "  Validation Found 101737 of 108007, added 5478 (eff 94.19%) (0.274 FP/event)\n",
      "Result epoch:  2342\n",
      "Average Eff:  0\n",
      "Average FP Rate:  0\n"
     ]
    },
    {
     "data": {
      "application/vnd.jupyter.widget-view+json": {
       "model_id": "",
       "version_major": 2,
       "version_minor": 0
      },
      "text/plain": [
       "HBox(children=(FloatProgress(value=0.0, description='Training', layout=Layout(flex='2'), max=1250.0, style=Pro…"
      ]
     },
     "metadata": {},
     "output_type": "display_data"
    },
    {
     "name": "stdout",
     "output_type": "stream",
     "text": [
      "Epoch 2343: train=8.68257, val=8.63964, took 70.568 s\n",
      "  Validation Found 101723 of 108007, added 5421 (eff 94.18%) (0.271 FP/event)\n",
      "Result epoch:  2343\n",
      "Average Eff:  0\n",
      "Average FP Rate:  0\n"
     ]
    },
    {
     "data": {
      "application/vnd.jupyter.widget-view+json": {
       "model_id": "",
       "version_major": 2,
       "version_minor": 0
      },
      "text/plain": [
       "HBox(children=(FloatProgress(value=0.0, description='Training', layout=Layout(flex='2'), max=1250.0, style=Pro…"
      ]
     },
     "metadata": {},
     "output_type": "display_data"
    },
    {
     "name": "stdout",
     "output_type": "stream",
     "text": [
      "Epoch 2344: train=8.68145, val=8.63782, took 71.61 s\n",
      "  Validation Found 101696 of 108007, added 5358 (eff 94.16%) (0.268 FP/event)\n",
      "Result epoch:  2344\n",
      "Average Eff:  0\n",
      "Average FP Rate:  0\n"
     ]
    },
    {
     "data": {
      "application/vnd.jupyter.widget-view+json": {
       "model_id": "",
       "version_major": 2,
       "version_minor": 0
      },
      "text/plain": [
       "HBox(children=(FloatProgress(value=0.0, description='Training', layout=Layout(flex='2'), max=1250.0, style=Pro…"
      ]
     },
     "metadata": {},
     "output_type": "display_data"
    },
    {
     "name": "stdout",
     "output_type": "stream",
     "text": [
      "Epoch 2345: train=8.68352, val=8.64442, took 70.739 s\n",
      "  Validation Found 101782 of 108007, added 5546 (eff 94.24%) (0.277 FP/event)\n",
      "Result epoch:  2345\n",
      "Average Eff:  0\n",
      "Average FP Rate:  0\n"
     ]
    },
    {
     "data": {
      "application/vnd.jupyter.widget-view+json": {
       "model_id": "",
       "version_major": 2,
       "version_minor": 0
      },
      "text/plain": [
       "HBox(children=(FloatProgress(value=0.0, description='Training', layout=Layout(flex='2'), max=1250.0, style=Pro…"
      ]
     },
     "metadata": {},
     "output_type": "display_data"
    },
    {
     "name": "stdout",
     "output_type": "stream",
     "text": [
      "Epoch 2346: train=8.68251, val=8.63407, took 71.324 s\n",
      "  Validation Found 101702 of 108007, added 5388 (eff 94.16%) (0.269 FP/event)\n",
      "Result epoch:  2346\n",
      "Average Eff:  0\n",
      "Average FP Rate:  0\n"
     ]
    },
    {
     "data": {
      "application/vnd.jupyter.widget-view+json": {
       "model_id": "",
       "version_major": 2,
       "version_minor": 0
      },
      "text/plain": [
       "HBox(children=(FloatProgress(value=0.0, description='Training', layout=Layout(flex='2'), max=1250.0, style=Pro…"
      ]
     },
     "metadata": {},
     "output_type": "display_data"
    },
    {
     "name": "stdout",
     "output_type": "stream",
     "text": [
      "Epoch 2347: train=8.6809, val=8.64309, took 71.61 s\n",
      "  Validation Found 101696 of 108007, added 5349 (eff 94.16%) (0.267 FP/event)\n",
      "Result epoch:  2347\n",
      "Average Eff:  0\n",
      "Average FP Rate:  0\n"
     ]
    },
    {
     "data": {
      "application/vnd.jupyter.widget-view+json": {
       "model_id": "",
       "version_major": 2,
       "version_minor": 0
      },
      "text/plain": [
       "HBox(children=(FloatProgress(value=0.0, description='Training', layout=Layout(flex='2'), max=1250.0, style=Pro…"
      ]
     },
     "metadata": {},
     "output_type": "display_data"
    },
    {
     "name": "stdout",
     "output_type": "stream",
     "text": [
      "Epoch 2348: train=8.6792, val=8.64014, took 71.517 s\n",
      "  Validation Found 101704 of 108007, added 5385 (eff 94.16%) (0.269 FP/event)\n",
      "Result epoch:  2348\n",
      "Average Eff:  0\n",
      "Average FP Rate:  0\n"
     ]
    },
    {
     "data": {
      "application/vnd.jupyter.widget-view+json": {
       "model_id": "",
       "version_major": 2,
       "version_minor": 0
      },
      "text/plain": [
       "HBox(children=(FloatProgress(value=0.0, description='Training', layout=Layout(flex='2'), max=1250.0, style=Pro…"
      ]
     },
     "metadata": {},
     "output_type": "display_data"
    },
    {
     "name": "stdout",
     "output_type": "stream",
     "text": [
      "Epoch 2349: train=8.68108, val=8.64063, took 72.078 s\n",
      "  Validation Found 101728 of 108007, added 5402 (eff 94.19%) (0.27 FP/event)\n",
      "Result epoch:  2349\n",
      "Average Eff:  0\n",
      "Average FP Rate:  0\n"
     ]
    },
    {
     "data": {
      "application/vnd.jupyter.widget-view+json": {
       "model_id": "",
       "version_major": 2,
       "version_minor": 0
      },
      "text/plain": [
       "HBox(children=(FloatProgress(value=0.0, description='Training', layout=Layout(flex='2'), max=1250.0, style=Pro…"
      ]
     },
     "metadata": {},
     "output_type": "display_data"
    },
    {
     "name": "stdout",
     "output_type": "stream",
     "text": [
      "Epoch 2350: train=8.68305, val=8.63938, took 71.11 s\n",
      "  Validation Found 101713 of 108007, added 5428 (eff 94.17%) (0.271 FP/event)\n",
      "Result epoch:  2350\n",
      "Average Eff:  0\n",
      "Average FP Rate:  0\n"
     ]
    },
    {
     "data": {
      "application/vnd.jupyter.widget-view+json": {
       "model_id": "",
       "version_major": 2,
       "version_minor": 0
      },
      "text/plain": [
       "HBox(children=(FloatProgress(value=0.0, description='Training', layout=Layout(flex='2'), max=1250.0, style=Pro…"
      ]
     },
     "metadata": {},
     "output_type": "display_data"
    },
    {
     "name": "stdout",
     "output_type": "stream",
     "text": [
      "Epoch 2351: train=8.67926, val=8.64238, took 71.144 s\n",
      "  Validation Found 101726 of 108007, added 5445 (eff 94.18%) (0.272 FP/event)\n",
      "Result epoch:  2351\n",
      "Average Eff:  0\n",
      "Average FP Rate:  0\n"
     ]
    },
    {
     "data": {
      "application/vnd.jupyter.widget-view+json": {
       "model_id": "",
       "version_major": 2,
       "version_minor": 0
      },
      "text/plain": [
       "HBox(children=(FloatProgress(value=0.0, description='Training', layout=Layout(flex='2'), max=1250.0, style=Pro…"
      ]
     },
     "metadata": {},
     "output_type": "display_data"
    },
    {
     "name": "stdout",
     "output_type": "stream",
     "text": [
      "Epoch 2352: train=8.68213, val=8.64359, took 71.473 s\n",
      "  Validation Found 101744 of 108007, added 5493 (eff 94.20%) (0.275 FP/event)\n",
      "Result epoch:  2352\n",
      "Average Eff:  0\n",
      "Average FP Rate:  0\n"
     ]
    },
    {
     "data": {
      "application/vnd.jupyter.widget-view+json": {
       "model_id": "",
       "version_major": 2,
       "version_minor": 0
      },
      "text/plain": [
       "HBox(children=(FloatProgress(value=0.0, description='Training', layout=Layout(flex='2'), max=1250.0, style=Pro…"
      ]
     },
     "metadata": {},
     "output_type": "display_data"
    },
    {
     "name": "stdout",
     "output_type": "stream",
     "text": [
      "Epoch 2353: train=8.67749, val=8.63924, took 70.608 s\n",
      "  Validation Found 101683 of 108007, added 5316 (eff 94.14%) (0.266 FP/event)\n",
      "Result epoch:  2353\n",
      "Average Eff:  0\n",
      "Average FP Rate:  0\n"
     ]
    },
    {
     "data": {
      "application/vnd.jupyter.widget-view+json": {
       "model_id": "",
       "version_major": 2,
       "version_minor": 0
      },
      "text/plain": [
       "HBox(children=(FloatProgress(value=0.0, description='Training', layout=Layout(flex='2'), max=1250.0, style=Pro…"
      ]
     },
     "metadata": {},
     "output_type": "display_data"
    },
    {
     "name": "stdout",
     "output_type": "stream",
     "text": [
      "Epoch 2354: train=8.67114, val=8.64559, took 70.826 s\n",
      "  Validation Found 101633 of 108007, added 5264 (eff 94.10%) (0.263 FP/event)\n",
      "Result epoch:  2354\n",
      "Average Eff:  0\n",
      "Average FP Rate:  0\n"
     ]
    },
    {
     "data": {
      "application/vnd.jupyter.widget-view+json": {
       "model_id": "",
       "version_major": 2,
       "version_minor": 0
      },
      "text/plain": [
       "HBox(children=(FloatProgress(value=0.0, description='Training', layout=Layout(flex='2'), max=1250.0, style=Pro…"
      ]
     },
     "metadata": {},
     "output_type": "display_data"
    },
    {
     "name": "stdout",
     "output_type": "stream",
     "text": [
      "Epoch 2355: train=8.67394, val=8.63808, took 71.179 s\n",
      "  Validation Found 101687 of 108007, added 5353 (eff 94.15%) (0.268 FP/event)\n",
      "Result epoch:  2355\n",
      "Average Eff:  0\n",
      "Average FP Rate:  0\n"
     ]
    },
    {
     "data": {
      "application/vnd.jupyter.widget-view+json": {
       "model_id": "",
       "version_major": 2,
       "version_minor": 0
      },
      "text/plain": [
       "HBox(children=(FloatProgress(value=0.0, description='Training', layout=Layout(flex='2'), max=1250.0, style=Pro…"
      ]
     },
     "metadata": {},
     "output_type": "display_data"
    },
    {
     "name": "stdout",
     "output_type": "stream",
     "text": [
      "Epoch 2356: train=8.67206, val=8.64241, took 70.551 s\n",
      "  Validation Found 101702 of 108007, added 5394 (eff 94.16%) (0.27 FP/event)\n",
      "Result epoch:  2356\n",
      "Average Eff:  0\n",
      "Average FP Rate:  0\n"
     ]
    },
    {
     "data": {
      "application/vnd.jupyter.widget-view+json": {
       "model_id": "",
       "version_major": 2,
       "version_minor": 0
      },
      "text/plain": [
       "HBox(children=(FloatProgress(value=0.0, description='Training', layout=Layout(flex='2'), max=1250.0, style=Pro…"
      ]
     },
     "metadata": {},
     "output_type": "display_data"
    },
    {
     "name": "stdout",
     "output_type": "stream",
     "text": [
      "Epoch 2357: train=8.67707, val=8.64217, took 71.272 s\n",
      "  Validation Found 101720 of 108007, added 5422 (eff 94.18%) (0.271 FP/event)\n",
      "Result epoch:  2357\n",
      "Average Eff:  0\n",
      "Average FP Rate:  0\n"
     ]
    },
    {
     "data": {
      "application/vnd.jupyter.widget-view+json": {
       "model_id": "",
       "version_major": 2,
       "version_minor": 0
      },
      "text/plain": [
       "HBox(children=(FloatProgress(value=0.0, description='Training', layout=Layout(flex='2'), max=1250.0, style=Pro…"
      ]
     },
     "metadata": {},
     "output_type": "display_data"
    },
    {
     "name": "stdout",
     "output_type": "stream",
     "text": [
      "Epoch 2358: train=8.67908, val=8.63661, took 72.341 s\n",
      "  Validation Found 101714 of 108007, added 5375 (eff 94.17%) (0.269 FP/event)\n",
      "Result epoch:  2358\n",
      "Average Eff:  0\n",
      "Average FP Rate:  0\n"
     ]
    },
    {
     "data": {
      "application/vnd.jupyter.widget-view+json": {
       "model_id": "",
       "version_major": 2,
       "version_minor": 0
      },
      "text/plain": [
       "HBox(children=(FloatProgress(value=0.0, description='Training', layout=Layout(flex='2'), max=1250.0, style=Pro…"
      ]
     },
     "metadata": {},
     "output_type": "display_data"
    },
    {
     "name": "stdout",
     "output_type": "stream",
     "text": [
      "Epoch 2359: train=8.67543, val=8.63769, took 70.85 s\n",
      "  Validation Found 101644 of 108007, added 5250 (eff 94.11%) (0.262 FP/event)\n",
      "Result epoch:  2359\n",
      "Average Eff:  0\n",
      "Average FP Rate:  0\n"
     ]
    },
    {
     "data": {
      "application/vnd.jupyter.widget-view+json": {
       "model_id": "",
       "version_major": 2,
       "version_minor": 0
      },
      "text/plain": [
       "HBox(children=(FloatProgress(value=0.0, description='Training', layout=Layout(flex='2'), max=1250.0, style=Pro…"
      ]
     },
     "metadata": {},
     "output_type": "display_data"
    },
    {
     "name": "stdout",
     "output_type": "stream",
     "text": [
      "Epoch 2360: train=8.67728, val=8.63219, took 72.58 s\n",
      "  Validation Found 101688 of 108007, added 5328 (eff 94.15%) (0.266 FP/event)\n",
      "Result epoch:  2360\n",
      "Average Eff:  0\n",
      "Average FP Rate:  0\n"
     ]
    },
    {
     "data": {
      "application/vnd.jupyter.widget-view+json": {
       "model_id": "",
       "version_major": 2,
       "version_minor": 0
      },
      "text/plain": [
       "HBox(children=(FloatProgress(value=0.0, description='Training', layout=Layout(flex='2'), max=1250.0, style=Pro…"
      ]
     },
     "metadata": {},
     "output_type": "display_data"
    },
    {
     "name": "stdout",
     "output_type": "stream",
     "text": [
      "Epoch 2361: train=8.67172, val=8.65013, took 70.642 s\n",
      "  Validation Found 101700 of 108007, added 5415 (eff 94.16%) (0.271 FP/event)\n",
      "Result epoch:  2361\n",
      "Average Eff:  0\n",
      "Average FP Rate:  0\n"
     ]
    },
    {
     "data": {
      "application/vnd.jupyter.widget-view+json": {
       "model_id": "",
       "version_major": 2,
       "version_minor": 0
      },
      "text/plain": [
       "HBox(children=(FloatProgress(value=0.0, description='Training', layout=Layout(flex='2'), max=1250.0, style=Pro…"
      ]
     },
     "metadata": {},
     "output_type": "display_data"
    },
    {
     "name": "stdout",
     "output_type": "stream",
     "text": [
      "Epoch 2362: train=8.67449, val=8.63525, took 72.34 s\n",
      "  Validation Found 101687 of 108007, added 5321 (eff 94.15%) (0.266 FP/event)\n",
      "Result epoch:  2362\n",
      "Average Eff:  0\n",
      "Average FP Rate:  0\n"
     ]
    },
    {
     "data": {
      "application/vnd.jupyter.widget-view+json": {
       "model_id": "",
       "version_major": 2,
       "version_minor": 0
      },
      "text/plain": [
       "HBox(children=(FloatProgress(value=0.0, description='Training', layout=Layout(flex='2'), max=1250.0, style=Pro…"
      ]
     },
     "metadata": {},
     "output_type": "display_data"
    },
    {
     "name": "stdout",
     "output_type": "stream",
     "text": [
      "Epoch 2363: train=8.67425, val=8.64979, took 70.621 s\n",
      "  Validation Found 101676 of 108007, added 5333 (eff 94.14%) (0.267 FP/event)\n",
      "Result epoch:  2363\n",
      "Average Eff:  0\n",
      "Average FP Rate:  0\n"
     ]
    },
    {
     "data": {
      "application/vnd.jupyter.widget-view+json": {
       "model_id": "",
       "version_major": 2,
       "version_minor": 0
      },
      "text/plain": [
       "HBox(children=(FloatProgress(value=0.0, description='Training', layout=Layout(flex='2'), max=1250.0, style=Pro…"
      ]
     },
     "metadata": {},
     "output_type": "display_data"
    },
    {
     "name": "stdout",
     "output_type": "stream",
     "text": [
      "Epoch 2364: train=8.66982, val=8.63983, took 71.375 s\n",
      "  Validation Found 101744 of 108007, added 5455 (eff 94.20%) (0.273 FP/event)\n",
      "Result epoch:  2364\n",
      "Average Eff:  0\n",
      "Average FP Rate:  0\n"
     ]
    },
    {
     "data": {
      "application/vnd.jupyter.widget-view+json": {
       "model_id": "",
       "version_major": 2,
       "version_minor": 0
      },
      "text/plain": [
       "HBox(children=(FloatProgress(value=0.0, description='Training', layout=Layout(flex='2'), max=1250.0, style=Pro…"
      ]
     },
     "metadata": {},
     "output_type": "display_data"
    },
    {
     "name": "stdout",
     "output_type": "stream",
     "text": [
      "Epoch 2365: train=8.66959, val=8.6466, took 72.07 s\n",
      "  Validation Found 101707 of 108007, added 5394 (eff 94.17%) (0.27 FP/event)\n",
      "Result epoch:  2365\n",
      "Average Eff:  0\n",
      "Average FP Rate:  0\n"
     ]
    },
    {
     "data": {
      "application/vnd.jupyter.widget-view+json": {
       "model_id": "",
       "version_major": 2,
       "version_minor": 0
      },
      "text/plain": [
       "HBox(children=(FloatProgress(value=0.0, description='Training', layout=Layout(flex='2'), max=1250.0, style=Pro…"
      ]
     },
     "metadata": {},
     "output_type": "display_data"
    },
    {
     "name": "stdout",
     "output_type": "stream",
     "text": [
      "Epoch 2366: train=8.66967, val=8.64638, took 70.235 s\n",
      "  Validation Found 101636 of 108007, added 5243 (eff 94.10%) (0.262 FP/event)\n",
      "Result epoch:  2366\n",
      "Average Eff:  0\n",
      "Average FP Rate:  0\n"
     ]
    },
    {
     "data": {
      "application/vnd.jupyter.widget-view+json": {
       "model_id": "",
       "version_major": 2,
       "version_minor": 0
      },
      "text/plain": [
       "HBox(children=(FloatProgress(value=0.0, description='Training', layout=Layout(flex='2'), max=1250.0, style=Pro…"
      ]
     },
     "metadata": {},
     "output_type": "display_data"
    },
    {
     "name": "stdout",
     "output_type": "stream",
     "text": [
      "Epoch 2367: train=8.67438, val=8.64022, took 71.456 s\n",
      "  Validation Found 101733 of 108007, added 5430 (eff 94.19%) (0.271 FP/event)\n",
      "Result epoch:  2367\n",
      "Average Eff:  0\n",
      "Average FP Rate:  0\n"
     ]
    },
    {
     "data": {
      "application/vnd.jupyter.widget-view+json": {
       "model_id": "",
       "version_major": 2,
       "version_minor": 0
      },
      "text/plain": [
       "HBox(children=(FloatProgress(value=0.0, description='Training', layout=Layout(flex='2'), max=1250.0, style=Pro…"
      ]
     },
     "metadata": {},
     "output_type": "display_data"
    },
    {
     "name": "stdout",
     "output_type": "stream",
     "text": [
      "Epoch 2368: train=8.66943, val=8.64819, took 71.716 s\n",
      "  Validation Found 101674 of 108007, added 5335 (eff 94.14%) (0.267 FP/event)\n",
      "Result epoch:  2368\n",
      "Average Eff:  0\n",
      "Average FP Rate:  0\n"
     ]
    },
    {
     "data": {
      "application/vnd.jupyter.widget-view+json": {
       "model_id": "",
       "version_major": 2,
       "version_minor": 0
      },
      "text/plain": [
       "HBox(children=(FloatProgress(value=0.0, description='Training', layout=Layout(flex='2'), max=1250.0, style=Pro…"
      ]
     },
     "metadata": {},
     "output_type": "display_data"
    },
    {
     "name": "stdout",
     "output_type": "stream",
     "text": [
      "Epoch 2369: train=8.6723, val=8.64075, took 70.307 s\n",
      "  Validation Found 101755 of 108007, added 5495 (eff 94.21%) (0.275 FP/event)\n",
      "Result epoch:  2369\n",
      "Average Eff:  0\n",
      "Average FP Rate:  0\n"
     ]
    },
    {
     "data": {
      "application/vnd.jupyter.widget-view+json": {
       "model_id": "",
       "version_major": 2,
       "version_minor": 0
      },
      "text/plain": [
       "HBox(children=(FloatProgress(value=0.0, description='Training', layout=Layout(flex='2'), max=1250.0, style=Pro…"
      ]
     },
     "metadata": {},
     "output_type": "display_data"
    },
    {
     "name": "stdout",
     "output_type": "stream",
     "text": [
      "Epoch 2370: train=8.66856, val=8.64317, took 71.831 s\n",
      "  Validation Found 101723 of 108007, added 5416 (eff 94.18%) (0.271 FP/event)\n",
      "Result epoch:  2370\n",
      "Average Eff:  0\n",
      "Average FP Rate:  0\n"
     ]
    },
    {
     "data": {
      "application/vnd.jupyter.widget-view+json": {
       "model_id": "",
       "version_major": 2,
       "version_minor": 0
      },
      "text/plain": [
       "HBox(children=(FloatProgress(value=0.0, description='Training', layout=Layout(flex='2'), max=1250.0, style=Pro…"
      ]
     },
     "metadata": {},
     "output_type": "display_data"
    },
    {
     "name": "stdout",
     "output_type": "stream",
     "text": [
      "Epoch 2371: train=8.67493, val=8.64021, took 71.936 s\n",
      "  Validation Found 101665 of 108007, added 5290 (eff 94.13%) (0.264 FP/event)\n",
      "Result epoch:  2371\n",
      "Average Eff:  0\n",
      "Average FP Rate:  0\n"
     ]
    },
    {
     "data": {
      "application/vnd.jupyter.widget-view+json": {
       "model_id": "",
       "version_major": 2,
       "version_minor": 0
      },
      "text/plain": [
       "HBox(children=(FloatProgress(value=0.0, description='Training', layout=Layout(flex='2'), max=1250.0, style=Pro…"
      ]
     },
     "metadata": {},
     "output_type": "display_data"
    },
    {
     "name": "stdout",
     "output_type": "stream",
     "text": [
      "Epoch 2372: train=8.66768, val=8.64521, took 72.18 s\n",
      "  Validation Found 101695 of 108007, added 5379 (eff 94.16%) (0.269 FP/event)\n",
      "Result epoch:  2372\n",
      "Average Eff:  0\n",
      "Average FP Rate:  0\n"
     ]
    },
    {
     "data": {
      "application/vnd.jupyter.widget-view+json": {
       "model_id": "",
       "version_major": 2,
       "version_minor": 0
      },
      "text/plain": [
       "HBox(children=(FloatProgress(value=0.0, description='Training', layout=Layout(flex='2'), max=1250.0, style=Pro…"
      ]
     },
     "metadata": {},
     "output_type": "display_data"
    },
    {
     "name": "stdout",
     "output_type": "stream",
     "text": [
      "Epoch 2373: train=8.67279, val=8.64392, took 72.358 s\n",
      "  Validation Found 101759 of 108007, added 5517 (eff 94.22%) (0.276 FP/event)\n",
      "Result epoch:  2373\n",
      "Average Eff:  0\n",
      "Average FP Rate:  0\n"
     ]
    },
    {
     "data": {
      "application/vnd.jupyter.widget-view+json": {
       "model_id": "",
       "version_major": 2,
       "version_minor": 0
      },
      "text/plain": [
       "HBox(children=(FloatProgress(value=0.0, description='Training', layout=Layout(flex='2'), max=1250.0, style=Pro…"
      ]
     },
     "metadata": {},
     "output_type": "display_data"
    },
    {
     "name": "stdout",
     "output_type": "stream",
     "text": [
      "Epoch 2374: train=8.67672, val=8.64533, took 70.971 s\n",
      "  Validation Found 101650 of 108007, added 5268 (eff 94.11%) (0.263 FP/event)\n",
      "Result epoch:  2374\n",
      "Average Eff:  0\n",
      "Average FP Rate:  0\n"
     ]
    },
    {
     "data": {
      "application/vnd.jupyter.widget-view+json": {
       "model_id": "",
       "version_major": 2,
       "version_minor": 0
      },
      "text/plain": [
       "HBox(children=(FloatProgress(value=0.0, description='Training', layout=Layout(flex='2'), max=1250.0, style=Pro…"
      ]
     },
     "metadata": {},
     "output_type": "display_data"
    },
    {
     "name": "stdout",
     "output_type": "stream",
     "text": [
      "Epoch 2375: train=8.66481, val=8.64085, took 71.516 s\n",
      "  Validation Found 101736 of 108007, added 5472 (eff 94.19%) (0.274 FP/event)\n",
      "Result epoch:  2375\n",
      "Average Eff:  0\n",
      "Average FP Rate:  0\n"
     ]
    },
    {
     "data": {
      "application/vnd.jupyter.widget-view+json": {
       "model_id": "",
       "version_major": 2,
       "version_minor": 0
      },
      "text/plain": [
       "HBox(children=(FloatProgress(value=0.0, description='Training', layout=Layout(flex='2'), max=1250.0, style=Pro…"
      ]
     },
     "metadata": {},
     "output_type": "display_data"
    },
    {
     "name": "stdout",
     "output_type": "stream",
     "text": [
      "Epoch 2376: train=8.66729, val=8.64738, took 71.439 s\n",
      "  Validation Found 101717 of 108007, added 5427 (eff 94.18%) (0.271 FP/event)\n",
      "Result epoch:  2376\n",
      "Average Eff:  0\n",
      "Average FP Rate:  0\n"
     ]
    },
    {
     "data": {
      "application/vnd.jupyter.widget-view+json": {
       "model_id": "",
       "version_major": 2,
       "version_minor": 0
      },
      "text/plain": [
       "HBox(children=(FloatProgress(value=0.0, description='Training', layout=Layout(flex='2'), max=1250.0, style=Pro…"
      ]
     },
     "metadata": {},
     "output_type": "display_data"
    },
    {
     "name": "stdout",
     "output_type": "stream",
     "text": [
      "Epoch 2377: train=8.67007, val=8.64087, took 71.834 s\n",
      "  Validation Found 101698 of 108007, added 5368 (eff 94.16%) (0.268 FP/event)\n",
      "Result epoch:  2377\n",
      "Average Eff:  0\n",
      "Average FP Rate:  0\n"
     ]
    },
    {
     "data": {
      "application/vnd.jupyter.widget-view+json": {
       "model_id": "",
       "version_major": 2,
       "version_minor": 0
      },
      "text/plain": [
       "HBox(children=(FloatProgress(value=0.0, description='Training', layout=Layout(flex='2'), max=1250.0, style=Pro…"
      ]
     },
     "metadata": {},
     "output_type": "display_data"
    },
    {
     "name": "stdout",
     "output_type": "stream",
     "text": [
      "Epoch 2378: train=8.66892, val=8.63902, took 71.695 s\n",
      "  Validation Found 101740 of 108007, added 5450 (eff 94.20%) (0.272 FP/event)\n",
      "Result epoch:  2378\n",
      "Average Eff:  0\n",
      "Average FP Rate:  0\n"
     ]
    },
    {
     "data": {
      "application/vnd.jupyter.widget-view+json": {
       "model_id": "",
       "version_major": 2,
       "version_minor": 0
      },
      "text/plain": [
       "HBox(children=(FloatProgress(value=0.0, description='Training', layout=Layout(flex='2'), max=1250.0, style=Pro…"
      ]
     },
     "metadata": {},
     "output_type": "display_data"
    },
    {
     "name": "stdout",
     "output_type": "stream",
     "text": [
      "Epoch 2379: train=8.66363, val=8.65635, took 71.415 s\n",
      "  Validation Found 101681 of 108007, added 5335 (eff 94.14%) (0.267 FP/event)\n",
      "Result epoch:  2379\n",
      "Average Eff:  0\n",
      "Average FP Rate:  0\n"
     ]
    },
    {
     "data": {
      "application/vnd.jupyter.widget-view+json": {
       "model_id": "",
       "version_major": 2,
       "version_minor": 0
      },
      "text/plain": [
       "HBox(children=(FloatProgress(value=0.0, description='Training', layout=Layout(flex='2'), max=1250.0, style=Pro…"
      ]
     },
     "metadata": {},
     "output_type": "display_data"
    },
    {
     "name": "stdout",
     "output_type": "stream",
     "text": [
      "Epoch 2380: train=8.66802, val=8.6483, took 71.189 s\n",
      "  Validation Found 101719 of 108007, added 5434 (eff 94.18%) (0.272 FP/event)\n",
      "Result epoch:  2380\n",
      "Average Eff:  0\n",
      "Average FP Rate:  0\n"
     ]
    },
    {
     "data": {
      "application/vnd.jupyter.widget-view+json": {
       "model_id": "",
       "version_major": 2,
       "version_minor": 0
      },
      "text/plain": [
       "HBox(children=(FloatProgress(value=0.0, description='Training', layout=Layout(flex='2'), max=1250.0, style=Pro…"
      ]
     },
     "metadata": {},
     "output_type": "display_data"
    },
    {
     "name": "stdout",
     "output_type": "stream",
     "text": [
      "Epoch 2381: train=8.66606, val=8.6411, took 72.081 s\n",
      "  Validation Found 101717 of 108007, added 5391 (eff 94.18%) (0.27 FP/event)\n",
      "Result epoch:  2381\n",
      "Average Eff:  0\n",
      "Average FP Rate:  0\n"
     ]
    },
    {
     "data": {
      "application/vnd.jupyter.widget-view+json": {
       "model_id": "",
       "version_major": 2,
       "version_minor": 0
      },
      "text/plain": [
       "HBox(children=(FloatProgress(value=0.0, description='Training', layout=Layout(flex='2'), max=1250.0, style=Pro…"
      ]
     },
     "metadata": {},
     "output_type": "display_data"
    },
    {
     "name": "stdout",
     "output_type": "stream",
     "text": [
      "Epoch 2382: train=8.66629, val=8.64589, took 71.644 s\n",
      "  Validation Found 101658 of 108007, added 5295 (eff 94.12%) (0.265 FP/event)\n",
      "Result epoch:  2382\n",
      "Average Eff:  0\n",
      "Average FP Rate:  0\n"
     ]
    },
    {
     "data": {
      "application/vnd.jupyter.widget-view+json": {
       "model_id": "",
       "version_major": 2,
       "version_minor": 0
      },
      "text/plain": [
       "HBox(children=(FloatProgress(value=0.0, description='Training', layout=Layout(flex='2'), max=1250.0, style=Pro…"
      ]
     },
     "metadata": {},
     "output_type": "display_data"
    },
    {
     "name": "stdout",
     "output_type": "stream",
     "text": [
      "Epoch 2383: train=8.66813, val=8.65016, took 70.553 s\n",
      "  Validation Found 101724 of 108007, added 5435 (eff 94.18%) (0.272 FP/event)\n",
      "Result epoch:  2383\n",
      "Average Eff:  0\n",
      "Average FP Rate:  0\n"
     ]
    },
    {
     "data": {
      "application/vnd.jupyter.widget-view+json": {
       "model_id": "",
       "version_major": 2,
       "version_minor": 0
      },
      "text/plain": [
       "HBox(children=(FloatProgress(value=0.0, description='Training', layout=Layout(flex='2'), max=1250.0, style=Pro…"
      ]
     },
     "metadata": {},
     "output_type": "display_data"
    },
    {
     "name": "stdout",
     "output_type": "stream",
     "text": [
      "Epoch 2384: train=8.66417, val=8.65264, took 70.777 s\n",
      "  Validation Found 101762 of 108007, added 5509 (eff 94.22%) (0.275 FP/event)\n",
      "Result epoch:  2384\n",
      "Average Eff:  0\n",
      "Average FP Rate:  0\n"
     ]
    },
    {
     "data": {
      "application/vnd.jupyter.widget-view+json": {
       "model_id": "",
       "version_major": 2,
       "version_minor": 0
      },
      "text/plain": [
       "HBox(children=(FloatProgress(value=0.0, description='Training', layout=Layout(flex='2'), max=1250.0, style=Pro…"
      ]
     },
     "metadata": {},
     "output_type": "display_data"
    },
    {
     "name": "stdout",
     "output_type": "stream",
     "text": [
      "Epoch 2385: train=8.66424, val=8.64474, took 71.231 s\n",
      "  Validation Found 101777 of 108007, added 5539 (eff 94.23%) (0.277 FP/event)\n",
      "Result epoch:  2385\n",
      "Average Eff:  0\n",
      "Average FP Rate:  0\n"
     ]
    },
    {
     "data": {
      "application/vnd.jupyter.widget-view+json": {
       "model_id": "",
       "version_major": 2,
       "version_minor": 0
      },
      "text/plain": [
       "HBox(children=(FloatProgress(value=0.0, description='Training', layout=Layout(flex='2'), max=1250.0, style=Pro…"
      ]
     },
     "metadata": {},
     "output_type": "display_data"
    },
    {
     "name": "stdout",
     "output_type": "stream",
     "text": [
      "Epoch 2386: train=8.65879, val=8.64642, took 71.288 s\n",
      "  Validation Found 101687 of 108007, added 5347 (eff 94.15%) (0.267 FP/event)\n",
      "Result epoch:  2386\n",
      "Average Eff:  0\n",
      "Average FP Rate:  0\n"
     ]
    },
    {
     "data": {
      "application/vnd.jupyter.widget-view+json": {
       "model_id": "",
       "version_major": 2,
       "version_minor": 0
      },
      "text/plain": [
       "HBox(children=(FloatProgress(value=0.0, description='Training', layout=Layout(flex='2'), max=1250.0, style=Pro…"
      ]
     },
     "metadata": {},
     "output_type": "display_data"
    },
    {
     "name": "stdout",
     "output_type": "stream",
     "text": [
      "Epoch 2387: train=8.65947, val=8.64642, took 71.22 s\n",
      "  Validation Found 101771 of 108007, added 5518 (eff 94.23%) (0.276 FP/event)\n",
      "Result epoch:  2387\n",
      "Average Eff:  0\n",
      "Average FP Rate:  0\n"
     ]
    },
    {
     "data": {
      "application/vnd.jupyter.widget-view+json": {
       "model_id": "",
       "version_major": 2,
       "version_minor": 0
      },
      "text/plain": [
       "HBox(children=(FloatProgress(value=0.0, description='Training', layout=Layout(flex='2'), max=1250.0, style=Pro…"
      ]
     },
     "metadata": {},
     "output_type": "display_data"
    },
    {
     "name": "stdout",
     "output_type": "stream",
     "text": [
      "Epoch 2388: train=8.66042, val=8.66074, took 70.486 s\n",
      "  Validation Found 101496 of 108007, added 5006 (eff 93.97%) (0.25 FP/event)\n",
      "Result epoch:  2388\n",
      "Average Eff:  0\n",
      "Average FP Rate:  0\n"
     ]
    },
    {
     "data": {
      "application/vnd.jupyter.widget-view+json": {
       "model_id": "",
       "version_major": 2,
       "version_minor": 0
      },
      "text/plain": [
       "HBox(children=(FloatProgress(value=0.0, description='Training', layout=Layout(flex='2'), max=1250.0, style=Pro…"
      ]
     },
     "metadata": {},
     "output_type": "display_data"
    },
    {
     "name": "stdout",
     "output_type": "stream",
     "text": [
      "Epoch 2389: train=8.65579, val=8.6503, took 71.557 s\n",
      "  Validation Found 101685 of 108007, added 5352 (eff 94.15%) (0.268 FP/event)\n",
      "Result epoch:  2389\n",
      "Average Eff:  0\n",
      "Average FP Rate:  0\n"
     ]
    },
    {
     "data": {
      "application/vnd.jupyter.widget-view+json": {
       "model_id": "",
       "version_major": 2,
       "version_minor": 0
      },
      "text/plain": [
       "HBox(children=(FloatProgress(value=0.0, description='Training', layout=Layout(flex='2'), max=1250.0, style=Pro…"
      ]
     },
     "metadata": {},
     "output_type": "display_data"
    },
    {
     "name": "stdout",
     "output_type": "stream",
     "text": [
      "Epoch 2390: train=8.66234, val=8.64343, took 71.307 s\n",
      "  Validation Found 101753 of 108007, added 5498 (eff 94.21%) (0.275 FP/event)\n",
      "Result epoch:  2390\n",
      "Average Eff:  0\n",
      "Average FP Rate:  0\n"
     ]
    },
    {
     "data": {
      "application/vnd.jupyter.widget-view+json": {
       "model_id": "",
       "version_major": 2,
       "version_minor": 0
      },
      "text/plain": [
       "HBox(children=(FloatProgress(value=0.0, description='Training', layout=Layout(flex='2'), max=1250.0, style=Pro…"
      ]
     },
     "metadata": {},
     "output_type": "display_data"
    },
    {
     "name": "stdout",
     "output_type": "stream",
     "text": [
      "Epoch 2391: train=8.66211, val=8.65002, took 71.752 s\n",
      "  Validation Found 101765 of 108007, added 5530 (eff 94.22%) (0.276 FP/event)\n",
      "Result epoch:  2391\n",
      "Average Eff:  0\n",
      "Average FP Rate:  0\n"
     ]
    },
    {
     "data": {
      "application/vnd.jupyter.widget-view+json": {
       "model_id": "",
       "version_major": 2,
       "version_minor": 0
      },
      "text/plain": [
       "HBox(children=(FloatProgress(value=0.0, description='Training', layout=Layout(flex='2'), max=1250.0, style=Pro…"
      ]
     },
     "metadata": {},
     "output_type": "display_data"
    },
    {
     "name": "stdout",
     "output_type": "stream",
     "text": [
      "Epoch 2392: train=8.66655, val=8.65455, took 72.374 s\n",
      "  Validation Found 101738 of 108007, added 5463 (eff 94.20%) (0.273 FP/event)\n",
      "Result epoch:  2392\n",
      "Average Eff:  0\n",
      "Average FP Rate:  0\n"
     ]
    },
    {
     "data": {
      "application/vnd.jupyter.widget-view+json": {
       "model_id": "",
       "version_major": 2,
       "version_minor": 0
      },
      "text/plain": [
       "HBox(children=(FloatProgress(value=0.0, description='Training', layout=Layout(flex='2'), max=1250.0, style=Pro…"
      ]
     },
     "metadata": {},
     "output_type": "display_data"
    },
    {
     "name": "stdout",
     "output_type": "stream",
     "text": [
      "Epoch 2393: train=8.66476, val=8.64704, took 72.053 s\n",
      "  Validation Found 101707 of 108007, added 5405 (eff 94.17%) (0.27 FP/event)\n",
      "Result epoch:  2393\n",
      "Average Eff:  0\n",
      "Average FP Rate:  0\n"
     ]
    },
    {
     "data": {
      "application/vnd.jupyter.widget-view+json": {
       "model_id": "",
       "version_major": 2,
       "version_minor": 0
      },
      "text/plain": [
       "HBox(children=(FloatProgress(value=0.0, description='Training', layout=Layout(flex='2'), max=1250.0, style=Pro…"
      ]
     },
     "metadata": {},
     "output_type": "display_data"
    },
    {
     "name": "stdout",
     "output_type": "stream",
     "text": [
      "Epoch 2394: train=8.66073, val=8.65013, took 72.132 s\n",
      "  Validation Found 101671 of 108007, added 5318 (eff 94.13%) (0.266 FP/event)\n",
      "Result epoch:  2394\n",
      "Average Eff:  0\n",
      "Average FP Rate:  0\n"
     ]
    },
    {
     "data": {
      "application/vnd.jupyter.widget-view+json": {
       "model_id": "",
       "version_major": 2,
       "version_minor": 0
      },
      "text/plain": [
       "HBox(children=(FloatProgress(value=0.0, description='Training', layout=Layout(flex='2'), max=1250.0, style=Pro…"
      ]
     },
     "metadata": {},
     "output_type": "display_data"
    },
    {
     "name": "stdout",
     "output_type": "stream",
     "text": [
      "Epoch 2395: train=8.65995, val=8.65665, took 71.41 s\n",
      "  Validation Found 101693 of 108007, added 5363 (eff 94.15%) (0.268 FP/event)\n",
      "Result epoch:  2395\n",
      "Average Eff:  0\n",
      "Average FP Rate:  0\n"
     ]
    },
    {
     "data": {
      "application/vnd.jupyter.widget-view+json": {
       "model_id": "",
       "version_major": 2,
       "version_minor": 0
      },
      "text/plain": [
       "HBox(children=(FloatProgress(value=0.0, description='Training', layout=Layout(flex='2'), max=1250.0, style=Pro…"
      ]
     },
     "metadata": {},
     "output_type": "display_data"
    },
    {
     "name": "stdout",
     "output_type": "stream",
     "text": [
      "Epoch 2396: train=8.66239, val=8.65121, took 70.658 s\n",
      "  Validation Found 101806 of 108007, added 5554 (eff 94.26%) (0.278 FP/event)\n",
      "Result epoch:  2396\n",
      "Average Eff:  0\n",
      "Average FP Rate:  0\n"
     ]
    },
    {
     "data": {
      "application/vnd.jupyter.widget-view+json": {
       "model_id": "",
       "version_major": 2,
       "version_minor": 0
      },
      "text/plain": [
       "HBox(children=(FloatProgress(value=0.0, description='Training', layout=Layout(flex='2'), max=1250.0, style=Pro…"
      ]
     },
     "metadata": {},
     "output_type": "display_data"
    },
    {
     "name": "stdout",
     "output_type": "stream",
     "text": [
      "Epoch 2397: train=8.66102, val=8.6515, took 71.029 s\n",
      "  Validation Found 101654 of 108007, added 5258 (eff 94.12%) (0.263 FP/event)\n",
      "Result epoch:  2397\n",
      "Average Eff:  0\n",
      "Average FP Rate:  0\n"
     ]
    },
    {
     "data": {
      "application/vnd.jupyter.widget-view+json": {
       "model_id": "",
       "version_major": 2,
       "version_minor": 0
      },
      "text/plain": [
       "HBox(children=(FloatProgress(value=0.0, description='Training', layout=Layout(flex='2'), max=1250.0, style=Pro…"
      ]
     },
     "metadata": {},
     "output_type": "display_data"
    },
    {
     "name": "stdout",
     "output_type": "stream",
     "text": [
      "Epoch 2398: train=8.65999, val=8.64031, took 71.945 s\n",
      "  Validation Found 101743 of 108007, added 5496 (eff 94.20%) (0.275 FP/event)\n",
      "Result epoch:  2398\n",
      "Average Eff:  0\n",
      "Average FP Rate:  0\n"
     ]
    },
    {
     "data": {
      "application/vnd.jupyter.widget-view+json": {
       "model_id": "",
       "version_major": 2,
       "version_minor": 0
      },
      "text/plain": [
       "HBox(children=(FloatProgress(value=0.0, description='Training', layout=Layout(flex='2'), max=1250.0, style=Pro…"
      ]
     },
     "metadata": {},
     "output_type": "display_data"
    },
    {
     "name": "stdout",
     "output_type": "stream",
     "text": [
      "Epoch 2399: train=8.65969, val=8.64436, took 71.019 s\n",
      "  Validation Found 101706 of 108007, added 5386 (eff 94.17%) (0.269 FP/event)\n",
      "Result epoch:  2399\n",
      "Average Eff:  0\n",
      "Average FP Rate:  0\n"
     ]
    },
    {
     "data": {
      "application/vnd.jupyter.widget-view+json": {
       "model_id": "",
       "version_major": 2,
       "version_minor": 0
      },
      "text/plain": [
       "HBox(children=(FloatProgress(value=0.0, description='Training', layout=Layout(flex='2'), max=1250.0, style=Pro…"
      ]
     },
     "metadata": {},
     "output_type": "display_data"
    },
    {
     "name": "stdout",
     "output_type": "stream",
     "text": [
      "Epoch 2400: train=8.66095, val=8.63954, took 70.765 s\n",
      "  Validation Found 101713 of 108007, added 5384 (eff 94.17%) (0.269 FP/event)\n",
      "Result epoch:  2400\n",
      "Average Eff:  0\n",
      "Average FP Rate:  0\n"
     ]
    },
    {
     "data": {
      "application/vnd.jupyter.widget-view+json": {
       "model_id": "",
       "version_major": 2,
       "version_minor": 0
      },
      "text/plain": [
       "HBox(children=(FloatProgress(value=0.0, description='Training', layout=Layout(flex='2'), max=1250.0, style=Pro…"
      ]
     },
     "metadata": {},
     "output_type": "display_data"
    },
    {
     "name": "stdout",
     "output_type": "stream",
     "text": [
      "Epoch 2401: train=8.6563, val=8.64549, took 70.542 s\n",
      "  Validation Found 101719 of 108007, added 5382 (eff 94.18%) (0.269 FP/event)\n",
      "Result epoch:  2401\n",
      "Average Eff:  0\n",
      "Average FP Rate:  0\n"
     ]
    },
    {
     "data": {
      "application/vnd.jupyter.widget-view+json": {
       "model_id": "",
       "version_major": 2,
       "version_minor": 0
      },
      "text/plain": [
       "HBox(children=(FloatProgress(value=0.0, description='Training', layout=Layout(flex='2'), max=1250.0, style=Pro…"
      ]
     },
     "metadata": {},
     "output_type": "display_data"
    },
    {
     "name": "stdout",
     "output_type": "stream",
     "text": [
      "Epoch 2402: train=8.6552, val=8.64242, took 70.513 s\n",
      "  Validation Found 101667 of 108007, added 5288 (eff 94.13%) (0.264 FP/event)\n",
      "Result epoch:  2402\n",
      "Average Eff:  0\n",
      "Average FP Rate:  0\n"
     ]
    },
    {
     "data": {
      "application/vnd.jupyter.widget-view+json": {
       "model_id": "",
       "version_major": 2,
       "version_minor": 0
      },
      "text/plain": [
       "HBox(children=(FloatProgress(value=0.0, description='Training', layout=Layout(flex='2'), max=1250.0, style=Pro…"
      ]
     },
     "metadata": {},
     "output_type": "display_data"
    },
    {
     "name": "stdout",
     "output_type": "stream",
     "text": [
      "Epoch 2403: train=8.654, val=8.65098, took 70.433 s\n",
      "  Validation Found 101664 of 108007, added 5302 (eff 94.13%) (0.265 FP/event)\n",
      "Result epoch:  2403\n",
      "Average Eff:  0\n",
      "Average FP Rate:  0\n"
     ]
    },
    {
     "data": {
      "application/vnd.jupyter.widget-view+json": {
       "model_id": "",
       "version_major": 2,
       "version_minor": 0
      },
      "text/plain": [
       "HBox(children=(FloatProgress(value=0.0, description='Training', layout=Layout(flex='2'), max=1250.0, style=Pro…"
      ]
     },
     "metadata": {},
     "output_type": "display_data"
    },
    {
     "name": "stdout",
     "output_type": "stream",
     "text": [
      "Epoch 2404: train=8.65774, val=8.64472, took 70.349 s\n",
      "  Validation Found 101686 of 108007, added 5328 (eff 94.15%) (0.266 FP/event)\n",
      "Result epoch:  2404\n",
      "Average Eff:  0\n",
      "Average FP Rate:  0\n"
     ]
    },
    {
     "data": {
      "application/vnd.jupyter.widget-view+json": {
       "model_id": "",
       "version_major": 2,
       "version_minor": 0
      },
      "text/plain": [
       "HBox(children=(FloatProgress(value=0.0, description='Training', layout=Layout(flex='2'), max=1250.0, style=Pro…"
      ]
     },
     "metadata": {},
     "output_type": "display_data"
    },
    {
     "name": "stdout",
     "output_type": "stream",
     "text": [
      "Epoch 2405: train=8.65353, val=8.64212, took 70.727 s\n",
      "  Validation Found 101652 of 108007, added 5273 (eff 94.12%) (0.264 FP/event)\n",
      "Result epoch:  2405\n",
      "Average Eff:  0\n",
      "Average FP Rate:  0\n"
     ]
    },
    {
     "data": {
      "application/vnd.jupyter.widget-view+json": {
       "model_id": "",
       "version_major": 2,
       "version_minor": 0
      },
      "text/plain": [
       "HBox(children=(FloatProgress(value=0.0, description='Training', layout=Layout(flex='2'), max=1250.0, style=Pro…"
      ]
     },
     "metadata": {},
     "output_type": "display_data"
    },
    {
     "name": "stdout",
     "output_type": "stream",
     "text": [
      "Epoch 2406: train=8.65244, val=8.64198, took 72.136 s\n",
      "  Validation Found 101683 of 108007, added 5314 (eff 94.14%) (0.266 FP/event)\n",
      "Result epoch:  2406\n",
      "Average Eff:  0\n",
      "Average FP Rate:  0\n"
     ]
    },
    {
     "data": {
      "application/vnd.jupyter.widget-view+json": {
       "model_id": "",
       "version_major": 2,
       "version_minor": 0
      },
      "text/plain": [
       "HBox(children=(FloatProgress(value=0.0, description='Training', layout=Layout(flex='2'), max=1250.0, style=Pro…"
      ]
     },
     "metadata": {},
     "output_type": "display_data"
    },
    {
     "name": "stdout",
     "output_type": "stream",
     "text": [
      "Epoch 2407: train=8.65243, val=8.64474, took 71.934 s\n",
      "  Validation Found 101688 of 108007, added 5354 (eff 94.15%) (0.268 FP/event)\n",
      "Result epoch:  2407\n",
      "Average Eff:  0\n",
      "Average FP Rate:  0\n"
     ]
    },
    {
     "data": {
      "application/vnd.jupyter.widget-view+json": {
       "model_id": "",
       "version_major": 2,
       "version_minor": 0
      },
      "text/plain": [
       "HBox(children=(FloatProgress(value=0.0, description='Training', layout=Layout(flex='2'), max=1250.0, style=Pro…"
      ]
     },
     "metadata": {},
     "output_type": "display_data"
    },
    {
     "name": "stdout",
     "output_type": "stream",
     "text": [
      "Epoch 2408: train=8.65178, val=8.6522, took 71.322 s\n",
      "  Validation Found 101655 of 108007, added 5279 (eff 94.12%) (0.264 FP/event)\n",
      "Result epoch:  2408\n",
      "Average Eff:  0\n",
      "Average FP Rate:  0\n"
     ]
    },
    {
     "data": {
      "application/vnd.jupyter.widget-view+json": {
       "model_id": "",
       "version_major": 2,
       "version_minor": 0
      },
      "text/plain": [
       "HBox(children=(FloatProgress(value=0.0, description='Training', layout=Layout(flex='2'), max=1250.0, style=Pro…"
      ]
     },
     "metadata": {},
     "output_type": "display_data"
    },
    {
     "name": "stdout",
     "output_type": "stream",
     "text": [
      "Epoch 2409: train=8.65152, val=8.64984, took 72.043 s\n",
      "  Validation Found 101683 of 108007, added 5317 (eff 94.14%) (0.266 FP/event)\n",
      "Result epoch:  2409\n",
      "Average Eff:  0\n",
      "Average FP Rate:  0\n"
     ]
    },
    {
     "data": {
      "application/vnd.jupyter.widget-view+json": {
       "model_id": "",
       "version_major": 2,
       "version_minor": 0
      },
      "text/plain": [
       "HBox(children=(FloatProgress(value=0.0, description='Training', layout=Layout(flex='2'), max=1250.0, style=Pro…"
      ]
     },
     "metadata": {},
     "output_type": "display_data"
    },
    {
     "name": "stdout",
     "output_type": "stream",
     "text": [
      "Epoch 2410: train=8.64903, val=8.6461, took 71.361 s\n",
      "  Validation Found 101725 of 108007, added 5437 (eff 94.18%) (0.272 FP/event)\n",
      "Result epoch:  2410\n",
      "Average Eff:  0\n",
      "Average FP Rate:  0\n"
     ]
    },
    {
     "data": {
      "application/vnd.jupyter.widget-view+json": {
       "model_id": "",
       "version_major": 2,
       "version_minor": 0
      },
      "text/plain": [
       "HBox(children=(FloatProgress(value=0.0, description='Training', layout=Layout(flex='2'), max=1250.0, style=Pro…"
      ]
     },
     "metadata": {},
     "output_type": "display_data"
    },
    {
     "name": "stdout",
     "output_type": "stream",
     "text": [
      "Epoch 2411: train=8.65208, val=8.65231, took 72.137 s\n",
      "  Validation Found 101763 of 108007, added 5509 (eff 94.22%) (0.275 FP/event)\n",
      "Result epoch:  2411\n",
      "Average Eff:  0\n",
      "Average FP Rate:  0\n"
     ]
    },
    {
     "data": {
      "application/vnd.jupyter.widget-view+json": {
       "model_id": "",
       "version_major": 2,
       "version_minor": 0
      },
      "text/plain": [
       "HBox(children=(FloatProgress(value=0.0, description='Training', layout=Layout(flex='2'), max=1250.0, style=Pro…"
      ]
     },
     "metadata": {},
     "output_type": "display_data"
    },
    {
     "name": "stdout",
     "output_type": "stream",
     "text": [
      "Epoch 2412: train=8.65098, val=8.64774, took 71.032 s\n",
      "  Validation Found 101718 of 108007, added 5403 (eff 94.18%) (0.27 FP/event)\n",
      "Result epoch:  2412\n",
      "Average Eff:  0\n",
      "Average FP Rate:  0\n"
     ]
    },
    {
     "data": {
      "application/vnd.jupyter.widget-view+json": {
       "model_id": "",
       "version_major": 2,
       "version_minor": 0
      },
      "text/plain": [
       "HBox(children=(FloatProgress(value=0.0, description='Training', layout=Layout(flex='2'), max=1250.0, style=Pro…"
      ]
     },
     "metadata": {},
     "output_type": "display_data"
    },
    {
     "name": "stdout",
     "output_type": "stream",
     "text": [
      "Epoch 2413: train=8.65058, val=8.64601, took 71.785 s\n",
      "  Validation Found 101700 of 108007, added 5353 (eff 94.16%) (0.268 FP/event)\n",
      "Result epoch:  2413\n",
      "Average Eff:  0\n",
      "Average FP Rate:  0\n"
     ]
    },
    {
     "data": {
      "application/vnd.jupyter.widget-view+json": {
       "model_id": "",
       "version_major": 2,
       "version_minor": 0
      },
      "text/plain": [
       "HBox(children=(FloatProgress(value=0.0, description='Training', layout=Layout(flex='2'), max=1250.0, style=Pro…"
      ]
     },
     "metadata": {},
     "output_type": "display_data"
    },
    {
     "name": "stdout",
     "output_type": "stream",
     "text": [
      "Epoch 2414: train=8.65235, val=8.64763, took 71.34 s\n",
      "  Validation Found 101670 of 108007, added 5308 (eff 94.13%) (0.265 FP/event)\n",
      "Result epoch:  2414\n",
      "Average Eff:  0\n",
      "Average FP Rate:  0\n"
     ]
    },
    {
     "data": {
      "application/vnd.jupyter.widget-view+json": {
       "model_id": "",
       "version_major": 2,
       "version_minor": 0
      },
      "text/plain": [
       "HBox(children=(FloatProgress(value=0.0, description='Training', layout=Layout(flex='2'), max=1250.0, style=Pro…"
      ]
     },
     "metadata": {},
     "output_type": "display_data"
    },
    {
     "name": "stdout",
     "output_type": "stream",
     "text": [
      "Epoch 2415: train=8.6541, val=8.6485, took 71.215 s\n",
      "  Validation Found 101756 of 108007, added 5473 (eff 94.21%) (0.274 FP/event)\n",
      "Result epoch:  2415\n",
      "Average Eff:  0\n",
      "Average FP Rate:  0\n"
     ]
    },
    {
     "data": {
      "application/vnd.jupyter.widget-view+json": {
       "model_id": "",
       "version_major": 2,
       "version_minor": 0
      },
      "text/plain": [
       "HBox(children=(FloatProgress(value=0.0, description='Training', layout=Layout(flex='2'), max=1250.0, style=Pro…"
      ]
     },
     "metadata": {},
     "output_type": "display_data"
    },
    {
     "name": "stdout",
     "output_type": "stream",
     "text": [
      "Epoch 2416: train=8.65001, val=8.65344, took 71.871 s\n",
      "  Validation Found 101712 of 108007, added 5389 (eff 94.17%) (0.269 FP/event)\n",
      "Result epoch:  2416\n",
      "Average Eff:  0\n",
      "Average FP Rate:  0\n"
     ]
    },
    {
     "data": {
      "application/vnd.jupyter.widget-view+json": {
       "model_id": "",
       "version_major": 2,
       "version_minor": 0
      },
      "text/plain": [
       "HBox(children=(FloatProgress(value=0.0, description='Training', layout=Layout(flex='2'), max=1250.0, style=Pro…"
      ]
     },
     "metadata": {},
     "output_type": "display_data"
    },
    {
     "name": "stdout",
     "output_type": "stream",
     "text": [
      "Epoch 2417: train=8.64709, val=8.64956, took 71.712 s\n",
      "  Validation Found 101703 of 108007, added 5372 (eff 94.16%) (0.269 FP/event)\n",
      "Result epoch:  2417\n",
      "Average Eff:  0\n",
      "Average FP Rate:  0\n"
     ]
    },
    {
     "data": {
      "application/vnd.jupyter.widget-view+json": {
       "model_id": "",
       "version_major": 2,
       "version_minor": 0
      },
      "text/plain": [
       "HBox(children=(FloatProgress(value=0.0, description='Training', layout=Layout(flex='2'), max=1250.0, style=Pro…"
      ]
     },
     "metadata": {},
     "output_type": "display_data"
    },
    {
     "name": "stdout",
     "output_type": "stream",
     "text": [
      "Epoch 2418: train=8.64467, val=8.64799, took 72.13 s\n",
      "  Validation Found 101743 of 108007, added 5490 (eff 94.20%) (0.274 FP/event)\n",
      "Result epoch:  2418\n",
      "Average Eff:  0\n",
      "Average FP Rate:  0\n"
     ]
    },
    {
     "data": {
      "application/vnd.jupyter.widget-view+json": {
       "model_id": "",
       "version_major": 2,
       "version_minor": 0
      },
      "text/plain": [
       "HBox(children=(FloatProgress(value=0.0, description='Training', layout=Layout(flex='2'), max=1250.0, style=Pro…"
      ]
     },
     "metadata": {},
     "output_type": "display_data"
    },
    {
     "name": "stdout",
     "output_type": "stream",
     "text": [
      "Epoch 2419: train=8.6492, val=8.65352, took 72.398 s\n",
      "  Validation Found 101703 of 108007, added 5383 (eff 94.16%) (0.269 FP/event)\n",
      "Result epoch:  2419\n",
      "Average Eff:  0\n",
      "Average FP Rate:  0\n"
     ]
    },
    {
     "data": {
      "application/vnd.jupyter.widget-view+json": {
       "model_id": "",
       "version_major": 2,
       "version_minor": 0
      },
      "text/plain": [
       "HBox(children=(FloatProgress(value=0.0, description='Training', layout=Layout(flex='2'), max=1250.0, style=Pro…"
      ]
     },
     "metadata": {},
     "output_type": "display_data"
    },
    {
     "name": "stdout",
     "output_type": "stream",
     "text": [
      "Epoch 2420: train=8.64927, val=8.6538, took 71.368 s\n",
      "  Validation Found 101749 of 108007, added 5492 (eff 94.21%) (0.275 FP/event)\n",
      "Result epoch:  2420\n",
      "Average Eff:  0\n",
      "Average FP Rate:  0\n"
     ]
    },
    {
     "data": {
      "application/vnd.jupyter.widget-view+json": {
       "model_id": "",
       "version_major": 2,
       "version_minor": 0
      },
      "text/plain": [
       "HBox(children=(FloatProgress(value=0.0, description='Training', layout=Layout(flex='2'), max=1250.0, style=Pro…"
      ]
     },
     "metadata": {},
     "output_type": "display_data"
    },
    {
     "name": "stdout",
     "output_type": "stream",
     "text": [
      "Epoch 2421: train=8.65117, val=8.64802, took 72.168 s\n",
      "  Validation Found 101686 of 108007, added 5321 (eff 94.15%) (0.266 FP/event)\n",
      "Result epoch:  2421\n",
      "Average Eff:  0\n",
      "Average FP Rate:  0\n"
     ]
    },
    {
     "data": {
      "application/vnd.jupyter.widget-view+json": {
       "model_id": "",
       "version_major": 2,
       "version_minor": 0
      },
      "text/plain": [
       "HBox(children=(FloatProgress(value=0.0, description='Training', layout=Layout(flex='2'), max=1250.0, style=Pro…"
      ]
     },
     "metadata": {},
     "output_type": "display_data"
    },
    {
     "name": "stdout",
     "output_type": "stream",
     "text": [
      "Epoch 2422: train=8.64491, val=8.65128, took 71.719 s\n",
      "  Validation Found 101687 of 108007, added 5348 (eff 94.15%) (0.267 FP/event)\n",
      "Result epoch:  2422\n",
      "Average Eff:  0\n",
      "Average FP Rate:  0\n"
     ]
    },
    {
     "data": {
      "application/vnd.jupyter.widget-view+json": {
       "model_id": "",
       "version_major": 2,
       "version_minor": 0
      },
      "text/plain": [
       "HBox(children=(FloatProgress(value=0.0, description='Training', layout=Layout(flex='2'), max=1250.0, style=Pro…"
      ]
     },
     "metadata": {},
     "output_type": "display_data"
    },
    {
     "name": "stdout",
     "output_type": "stream",
     "text": [
      "Epoch 2423: train=8.6429, val=8.65359, took 72.565 s\n",
      "  Validation Found 101684 of 108007, added 5353 (eff 94.15%) (0.268 FP/event)\n",
      "Result epoch:  2423\n",
      "Average Eff:  0\n",
      "Average FP Rate:  0\n"
     ]
    },
    {
     "data": {
      "application/vnd.jupyter.widget-view+json": {
       "model_id": "",
       "version_major": 2,
       "version_minor": 0
      },
      "text/plain": [
       "HBox(children=(FloatProgress(value=0.0, description='Training', layout=Layout(flex='2'), max=1250.0, style=Pro…"
      ]
     },
     "metadata": {},
     "output_type": "display_data"
    },
    {
     "name": "stdout",
     "output_type": "stream",
     "text": [
      "Epoch 2424: train=8.64881, val=8.65284, took 71.562 s\n",
      "  Validation Found 101695 of 108007, added 5356 (eff 94.16%) (0.268 FP/event)\n",
      "Result epoch:  2424\n",
      "Average Eff:  0\n",
      "Average FP Rate:  0\n"
     ]
    },
    {
     "data": {
      "application/vnd.jupyter.widget-view+json": {
       "model_id": "",
       "version_major": 2,
       "version_minor": 0
      },
      "text/plain": [
       "HBox(children=(FloatProgress(value=0.0, description='Training', layout=Layout(flex='2'), max=1250.0, style=Pro…"
      ]
     },
     "metadata": {},
     "output_type": "display_data"
    },
    {
     "name": "stdout",
     "output_type": "stream",
     "text": [
      "Epoch 2425: train=8.64449, val=8.65302, took 72.079 s\n",
      "  Validation Found 101681 of 108007, added 5346 (eff 94.14%) (0.267 FP/event)\n",
      "Result epoch:  2425\n",
      "Average Eff:  0\n",
      "Average FP Rate:  0\n"
     ]
    },
    {
     "data": {
      "application/vnd.jupyter.widget-view+json": {
       "model_id": "",
       "version_major": 2,
       "version_minor": 0
      },
      "text/plain": [
       "HBox(children=(FloatProgress(value=0.0, description='Training', layout=Layout(flex='2'), max=1250.0, style=Pro…"
      ]
     },
     "metadata": {},
     "output_type": "display_data"
    },
    {
     "name": "stdout",
     "output_type": "stream",
     "text": [
      "Epoch 2426: train=8.64174, val=8.63816, took 72.282 s\n",
      "  Validation Found 101683 of 108007, added 5332 (eff 94.14%) (0.267 FP/event)\n",
      "Result epoch:  2426\n",
      "Average Eff:  0\n",
      "Average FP Rate:  0\n"
     ]
    },
    {
     "data": {
      "application/vnd.jupyter.widget-view+json": {
       "model_id": "",
       "version_major": 2,
       "version_minor": 0
      },
      "text/plain": [
       "HBox(children=(FloatProgress(value=0.0, description='Training', layout=Layout(flex='2'), max=1250.0, style=Pro…"
      ]
     },
     "metadata": {},
     "output_type": "display_data"
    },
    {
     "name": "stdout",
     "output_type": "stream",
     "text": [
      "Epoch 2427: train=8.64424, val=8.64312, took 71.676 s\n",
      "  Validation Found 101721 of 108007, added 5421 (eff 94.18%) (0.271 FP/event)\n",
      "Result epoch:  2427\n",
      "Average Eff:  0\n",
      "Average FP Rate:  0\n"
     ]
    },
    {
     "data": {
      "application/vnd.jupyter.widget-view+json": {
       "model_id": "",
       "version_major": 2,
       "version_minor": 0
      },
      "text/plain": [
       "HBox(children=(FloatProgress(value=0.0, description='Training', layout=Layout(flex='2'), max=1250.0, style=Pro…"
      ]
     },
     "metadata": {},
     "output_type": "display_data"
    },
    {
     "name": "stdout",
     "output_type": "stream",
     "text": [
      "Epoch 2428: train=8.64781, val=8.65399, took 71.714 s\n",
      "  Validation Found 101755 of 108007, added 5491 (eff 94.21%) (0.275 FP/event)\n",
      "Result epoch:  2428\n",
      "Average Eff:  0\n",
      "Average FP Rate:  0\n"
     ]
    },
    {
     "data": {
      "application/vnd.jupyter.widget-view+json": {
       "model_id": "",
       "version_major": 2,
       "version_minor": 0
      },
      "text/plain": [
       "HBox(children=(FloatProgress(value=0.0, description='Training', layout=Layout(flex='2'), max=1250.0, style=Pro…"
      ]
     },
     "metadata": {},
     "output_type": "display_data"
    },
    {
     "name": "stdout",
     "output_type": "stream",
     "text": [
      "Epoch 2429: train=8.64546, val=8.65127, took 71.892 s\n",
      "  Validation Found 101646 of 108007, added 5228 (eff 94.11%) (0.261 FP/event)\n",
      "Result epoch:  2429\n",
      "Average Eff:  0\n",
      "Average FP Rate:  0\n"
     ]
    },
    {
     "data": {
      "application/vnd.jupyter.widget-view+json": {
       "model_id": "",
       "version_major": 2,
       "version_minor": 0
      },
      "text/plain": [
       "HBox(children=(FloatProgress(value=0.0, description='Training', layout=Layout(flex='2'), max=1250.0, style=Pro…"
      ]
     },
     "metadata": {},
     "output_type": "display_data"
    },
    {
     "name": "stdout",
     "output_type": "stream",
     "text": [
      "Epoch 2430: train=8.64435, val=8.6525, took 71.715 s\n",
      "  Validation Found 101691 of 108007, added 5339 (eff 94.15%) (0.267 FP/event)\n",
      "Result epoch:  2430\n",
      "Average Eff:  0\n",
      "Average FP Rate:  0\n"
     ]
    },
    {
     "data": {
      "application/vnd.jupyter.widget-view+json": {
       "model_id": "",
       "version_major": 2,
       "version_minor": 0
      },
      "text/plain": [
       "HBox(children=(FloatProgress(value=0.0, description='Training', layout=Layout(flex='2'), max=1250.0, style=Pro…"
      ]
     },
     "metadata": {},
     "output_type": "display_data"
    },
    {
     "name": "stdout",
     "output_type": "stream",
     "text": [
      "Epoch 2431: train=8.64167, val=8.65188, took 71.761 s\n",
      "  Validation Found 101749 of 108007, added 5465 (eff 94.21%) (0.273 FP/event)\n",
      "Result epoch:  2431\n",
      "Average Eff:  0\n",
      "Average FP Rate:  0\n"
     ]
    },
    {
     "data": {
      "application/vnd.jupyter.widget-view+json": {
       "model_id": "",
       "version_major": 2,
       "version_minor": 0
      },
      "text/plain": [
       "HBox(children=(FloatProgress(value=0.0, description='Training', layout=Layout(flex='2'), max=1250.0, style=Pro…"
      ]
     },
     "metadata": {},
     "output_type": "display_data"
    },
    {
     "name": "stdout",
     "output_type": "stream",
     "text": [
      "Epoch 2432: train=8.64046, val=8.65571, took 72.449 s\n",
      "  Validation Found 101716 of 108007, added 5399 (eff 94.18%) (0.27 FP/event)\n",
      "Result epoch:  2432\n",
      "Average Eff:  0\n",
      "Average FP Rate:  0\n"
     ]
    },
    {
     "data": {
      "application/vnd.jupyter.widget-view+json": {
       "model_id": "",
       "version_major": 2,
       "version_minor": 0
      },
      "text/plain": [
       "HBox(children=(FloatProgress(value=0.0, description='Training', layout=Layout(flex='2'), max=1250.0, style=Pro…"
      ]
     },
     "metadata": {},
     "output_type": "display_data"
    },
    {
     "name": "stdout",
     "output_type": "stream",
     "text": [
      "Epoch 2433: train=8.64266, val=8.65362, took 71.647 s\n",
      "  Validation Found 101722 of 108007, added 5409 (eff 94.18%) (0.27 FP/event)\n",
      "Result epoch:  2433\n",
      "Average Eff:  0\n",
      "Average FP Rate:  0\n"
     ]
    },
    {
     "data": {
      "application/vnd.jupyter.widget-view+json": {
       "model_id": "",
       "version_major": 2,
       "version_minor": 0
      },
      "text/plain": [
       "HBox(children=(FloatProgress(value=0.0, description='Training', layout=Layout(flex='2'), max=1250.0, style=Pro…"
      ]
     },
     "metadata": {},
     "output_type": "display_data"
    },
    {
     "name": "stdout",
     "output_type": "stream",
     "text": [
      "Epoch 2434: train=8.6368, val=8.65458, took 72.222 s\n",
      "  Validation Found 101744 of 108007, added 5455 (eff 94.20%) (0.273 FP/event)\n",
      "Result epoch:  2434\n",
      "Average Eff:  0\n",
      "Average FP Rate:  0\n"
     ]
    },
    {
     "data": {
      "application/vnd.jupyter.widget-view+json": {
       "model_id": "",
       "version_major": 2,
       "version_minor": 0
      },
      "text/plain": [
       "HBox(children=(FloatProgress(value=0.0, description='Training', layout=Layout(flex='2'), max=1250.0, style=Pro…"
      ]
     },
     "metadata": {},
     "output_type": "display_data"
    },
    {
     "name": "stdout",
     "output_type": "stream",
     "text": [
      "Epoch 2435: train=8.64019, val=8.66094, took 71.7 s\n",
      "  Validation Found 101654 of 108007, added 5284 (eff 94.12%) (0.264 FP/event)\n",
      "Result epoch:  2435\n",
      "Average Eff:  0\n",
      "Average FP Rate:  0\n"
     ]
    },
    {
     "data": {
      "application/vnd.jupyter.widget-view+json": {
       "model_id": "",
       "version_major": 2,
       "version_minor": 0
      },
      "text/plain": [
       "HBox(children=(FloatProgress(value=0.0, description='Training', layout=Layout(flex='2'), max=1250.0, style=Pro…"
      ]
     },
     "metadata": {},
     "output_type": "display_data"
    },
    {
     "name": "stdout",
     "output_type": "stream",
     "text": [
      "Epoch 2436: train=8.63528, val=8.65866, took 71.11 s\n",
      "  Validation Found 101700 of 108007, added 5355 (eff 94.16%) (0.268 FP/event)\n",
      "Result epoch:  2436\n",
      "Average Eff:  0\n",
      "Average FP Rate:  0\n"
     ]
    },
    {
     "data": {
      "application/vnd.jupyter.widget-view+json": {
       "model_id": "",
       "version_major": 2,
       "version_minor": 0
      },
      "text/plain": [
       "HBox(children=(FloatProgress(value=0.0, description='Training', layout=Layout(flex='2'), max=1250.0, style=Pro…"
      ]
     },
     "metadata": {},
     "output_type": "display_data"
    },
    {
     "name": "stdout",
     "output_type": "stream",
     "text": [
      "Epoch 2437: train=8.63707, val=8.65721, took 72.156 s\n",
      "  Validation Found 101724 of 108007, added 5393 (eff 94.18%) (0.27 FP/event)\n",
      "Result epoch:  2437\n",
      "Average Eff:  0\n",
      "Average FP Rate:  0\n"
     ]
    },
    {
     "data": {
      "application/vnd.jupyter.widget-view+json": {
       "model_id": "",
       "version_major": 2,
       "version_minor": 0
      },
      "text/plain": [
       "HBox(children=(FloatProgress(value=0.0, description='Training', layout=Layout(flex='2'), max=1250.0, style=Pro…"
      ]
     },
     "metadata": {},
     "output_type": "display_data"
    },
    {
     "name": "stdout",
     "output_type": "stream",
     "text": [
      "Epoch 2438: train=8.63655, val=8.64879, took 70.915 s\n",
      "  Validation Found 101720 of 108007, added 5401 (eff 94.18%) (0.27 FP/event)\n",
      "Result epoch:  2438\n",
      "Average Eff:  0\n",
      "Average FP Rate:  0\n"
     ]
    },
    {
     "data": {
      "application/vnd.jupyter.widget-view+json": {
       "model_id": "",
       "version_major": 2,
       "version_minor": 0
      },
      "text/plain": [
       "HBox(children=(FloatProgress(value=0.0, description='Training', layout=Layout(flex='2'), max=1250.0, style=Pro…"
      ]
     },
     "metadata": {},
     "output_type": "display_data"
    },
    {
     "name": "stdout",
     "output_type": "stream",
     "text": [
      "Epoch 2439: train=8.63758, val=8.65654, took 71.391 s\n",
      "  Validation Found 101669 of 108007, added 5316 (eff 94.13%) (0.266 FP/event)\n",
      "Result epoch:  2439\n",
      "Average Eff:  0\n",
      "Average FP Rate:  0\n"
     ]
    },
    {
     "data": {
      "application/vnd.jupyter.widget-view+json": {
       "model_id": "",
       "version_major": 2,
       "version_minor": 0
      },
      "text/plain": [
       "HBox(children=(FloatProgress(value=0.0, description='Training', layout=Layout(flex='2'), max=1250.0, style=Pro…"
      ]
     },
     "metadata": {},
     "output_type": "display_data"
    },
    {
     "name": "stdout",
     "output_type": "stream",
     "text": [
      "Epoch 2440: train=8.63638, val=8.66015, took 71.238 s\n",
      "  Validation Found 101680 of 108007, added 5330 (eff 94.14%) (0.266 FP/event)\n",
      "Result epoch:  2440\n",
      "Average Eff:  0\n",
      "Average FP Rate:  0\n"
     ]
    },
    {
     "data": {
      "application/vnd.jupyter.widget-view+json": {
       "model_id": "",
       "version_major": 2,
       "version_minor": 0
      },
      "text/plain": [
       "HBox(children=(FloatProgress(value=0.0, description='Training', layout=Layout(flex='2'), max=1250.0, style=Pro…"
      ]
     },
     "metadata": {},
     "output_type": "display_data"
    },
    {
     "name": "stdout",
     "output_type": "stream",
     "text": [
      "Epoch 2441: train=8.63728, val=8.65617, took 71.23 s\n",
      "  Validation Found 101701 of 108007, added 5372 (eff 94.16%) (0.269 FP/event)\n",
      "Result epoch:  2441\n",
      "Average Eff:  0\n",
      "Average FP Rate:  0\n"
     ]
    },
    {
     "data": {
      "application/vnd.jupyter.widget-view+json": {
       "model_id": "",
       "version_major": 2,
       "version_minor": 0
      },
      "text/plain": [
       "HBox(children=(FloatProgress(value=0.0, description='Training', layout=Layout(flex='2'), max=1250.0, style=Pro…"
      ]
     },
     "metadata": {},
     "output_type": "display_data"
    },
    {
     "name": "stdout",
     "output_type": "stream",
     "text": [
      "Epoch 2442: train=8.63134, val=8.65865, took 70.284 s\n",
      "  Validation Found 101654 of 108007, added 5270 (eff 94.12%) (0.263 FP/event)\n",
      "Result epoch:  2442\n",
      "Average Eff:  0\n",
      "Average FP Rate:  0\n"
     ]
    },
    {
     "data": {
      "application/vnd.jupyter.widget-view+json": {
       "model_id": "",
       "version_major": 2,
       "version_minor": 0
      },
      "text/plain": [
       "HBox(children=(FloatProgress(value=0.0, description='Training', layout=Layout(flex='2'), max=1250.0, style=Pro…"
      ]
     },
     "metadata": {},
     "output_type": "display_data"
    },
    {
     "name": "stdout",
     "output_type": "stream",
     "text": [
      "Epoch 2443: train=8.63501, val=8.65298, took 72.213 s\n",
      "  Validation Found 101737 of 108007, added 5459 (eff 94.19%) (0.273 FP/event)\n",
      "Result epoch:  2443\n",
      "Average Eff:  0\n",
      "Average FP Rate:  0\n"
     ]
    },
    {
     "data": {
      "application/vnd.jupyter.widget-view+json": {
       "model_id": "",
       "version_major": 2,
       "version_minor": 0
      },
      "text/plain": [
       "HBox(children=(FloatProgress(value=0.0, description='Training', layout=Layout(flex='2'), max=1250.0, style=Pro…"
      ]
     },
     "metadata": {},
     "output_type": "display_data"
    },
    {
     "name": "stdout",
     "output_type": "stream",
     "text": [
      "Epoch 2444: train=8.63376, val=8.65188, took 70.367 s\n",
      "  Validation Found 101737 of 108007, added 5428 (eff 94.19%) (0.271 FP/event)\n",
      "Result epoch:  2444\n",
      "Average Eff:  0\n",
      "Average FP Rate:  0\n"
     ]
    },
    {
     "data": {
      "application/vnd.jupyter.widget-view+json": {
       "model_id": "",
       "version_major": 2,
       "version_minor": 0
      },
      "text/plain": [
       "HBox(children=(FloatProgress(value=0.0, description='Training', layout=Layout(flex='2'), max=1250.0, style=Pro…"
      ]
     },
     "metadata": {},
     "output_type": "display_data"
    },
    {
     "name": "stdout",
     "output_type": "stream",
     "text": [
      "Epoch 2445: train=8.63144, val=8.66053, took 71.601 s\n",
      "  Validation Found 101767 of 108007, added 5501 (eff 94.22%) (0.275 FP/event)\n",
      "Result epoch:  2445\n",
      "Average Eff:  0\n",
      "Average FP Rate:  0\n"
     ]
    },
    {
     "data": {
      "application/vnd.jupyter.widget-view+json": {
       "model_id": "",
       "version_major": 2,
       "version_minor": 0
      },
      "text/plain": [
       "HBox(children=(FloatProgress(value=0.0, description='Training', layout=Layout(flex='2'), max=1250.0, style=Pro…"
      ]
     },
     "metadata": {},
     "output_type": "display_data"
    },
    {
     "name": "stdout",
     "output_type": "stream",
     "text": [
      "Epoch 2446: train=8.63822, val=8.65478, took 72.078 s\n",
      "  Validation Found 101674 of 108007, added 5318 (eff 94.14%) (0.266 FP/event)\n",
      "Result epoch:  2446\n",
      "Average Eff:  0\n",
      "Average FP Rate:  0\n"
     ]
    },
    {
     "data": {
      "application/vnd.jupyter.widget-view+json": {
       "model_id": "",
       "version_major": 2,
       "version_minor": 0
      },
      "text/plain": [
       "HBox(children=(FloatProgress(value=0.0, description='Training', layout=Layout(flex='2'), max=1250.0, style=Pro…"
      ]
     },
     "metadata": {},
     "output_type": "display_data"
    },
    {
     "name": "stdout",
     "output_type": "stream",
     "text": [
      "Epoch 2447: train=8.63191, val=8.65888, took 71.312 s\n",
      "  Validation Found 101726 of 108007, added 5439 (eff 94.18%) (0.272 FP/event)\n",
      "Result epoch:  2447\n",
      "Average Eff:  0\n",
      "Average FP Rate:  0\n"
     ]
    },
    {
     "data": {
      "application/vnd.jupyter.widget-view+json": {
       "model_id": "",
       "version_major": 2,
       "version_minor": 0
      },
      "text/plain": [
       "HBox(children=(FloatProgress(value=0.0, description='Training', layout=Layout(flex='2'), max=1250.0, style=Pro…"
      ]
     },
     "metadata": {},
     "output_type": "display_data"
    },
    {
     "name": "stdout",
     "output_type": "stream",
     "text": [
      "Epoch 2448: train=8.63342, val=8.66446, took 72.187 s\n",
      "  Validation Found 101646 of 108007, added 5260 (eff 94.11%) (0.263 FP/event)\n",
      "Result epoch:  2448\n",
      "Average Eff:  0\n",
      "Average FP Rate:  0\n"
     ]
    },
    {
     "data": {
      "application/vnd.jupyter.widget-view+json": {
       "model_id": "",
       "version_major": 2,
       "version_minor": 0
      },
      "text/plain": [
       "HBox(children=(FloatProgress(value=0.0, description='Training', layout=Layout(flex='2'), max=1250.0, style=Pro…"
      ]
     },
     "metadata": {},
     "output_type": "display_data"
    },
    {
     "name": "stdout",
     "output_type": "stream",
     "text": [
      "Epoch 2449: train=8.63066, val=8.65689, took 70.846 s\n",
      "  Validation Found 101734 of 108007, added 5412 (eff 94.19%) (0.271 FP/event)\n",
      "Result epoch:  2449\n",
      "Average Eff:  0\n",
      "Average FP Rate:  0\n"
     ]
    },
    {
     "data": {
      "application/vnd.jupyter.widget-view+json": {
       "model_id": "",
       "version_major": 2,
       "version_minor": 0
      },
      "text/plain": [
       "HBox(children=(FloatProgress(value=0.0, description='Training', layout=Layout(flex='2'), max=1250.0, style=Pro…"
      ]
     },
     "metadata": {},
     "output_type": "display_data"
    },
    {
     "name": "stdout",
     "output_type": "stream",
     "text": [
      "Epoch 2450: train=8.63029, val=8.65972, took 71.107 s\n",
      "  Validation Found 101716 of 108007, added 5382 (eff 94.18%) (0.269 FP/event)\n",
      "Result epoch:  2450\n",
      "Average Eff:  0\n",
      "Average FP Rate:  0\n"
     ]
    },
    {
     "data": {
      "application/vnd.jupyter.widget-view+json": {
       "model_id": "",
       "version_major": 2,
       "version_minor": 0
      },
      "text/plain": [
       "HBox(children=(FloatProgress(value=0.0, description='Training', layout=Layout(flex='2'), max=1250.0, style=Pro…"
      ]
     },
     "metadata": {},
     "output_type": "display_data"
    },
    {
     "name": "stdout",
     "output_type": "stream",
     "text": [
      "Epoch 2451: train=8.63204, val=8.65842, took 70.776 s\n",
      "  Validation Found 101768 of 108007, added 5501 (eff 94.22%) (0.275 FP/event)\n",
      "Result epoch:  2451\n",
      "Average Eff:  0\n",
      "Average FP Rate:  0\n"
     ]
    },
    {
     "data": {
      "application/vnd.jupyter.widget-view+json": {
       "model_id": "",
       "version_major": 2,
       "version_minor": 0
      },
      "text/plain": [
       "HBox(children=(FloatProgress(value=0.0, description='Training', layout=Layout(flex='2'), max=1250.0, style=Pro…"
      ]
     },
     "metadata": {},
     "output_type": "display_data"
    },
    {
     "name": "stdout",
     "output_type": "stream",
     "text": [
      "Epoch 2452: train=8.63083, val=8.6573, took 71.802 s\n",
      "  Validation Found 101742 of 108007, added 5432 (eff 94.20%) (0.272 FP/event)\n",
      "Result epoch:  2452\n",
      "Average Eff:  0\n",
      "Average FP Rate:  0\n"
     ]
    },
    {
     "data": {
      "application/vnd.jupyter.widget-view+json": {
       "model_id": "",
       "version_major": 2,
       "version_minor": 0
      },
      "text/plain": [
       "HBox(children=(FloatProgress(value=0.0, description='Training', layout=Layout(flex='2'), max=1250.0, style=Pro…"
      ]
     },
     "metadata": {},
     "output_type": "display_data"
    },
    {
     "name": "stdout",
     "output_type": "stream",
     "text": [
      "Epoch 2453: train=8.62966, val=8.66877, took 71.24 s\n",
      "  Validation Found 101714 of 108007, added 5396 (eff 94.17%) (0.27 FP/event)\n",
      "Result epoch:  2453\n",
      "Average Eff:  0\n",
      "Average FP Rate:  0\n"
     ]
    },
    {
     "data": {
      "application/vnd.jupyter.widget-view+json": {
       "model_id": "",
       "version_major": 2,
       "version_minor": 0
      },
      "text/plain": [
       "HBox(children=(FloatProgress(value=0.0, description='Training', layout=Layout(flex='2'), max=1250.0, style=Pro…"
      ]
     },
     "metadata": {},
     "output_type": "display_data"
    },
    {
     "name": "stdout",
     "output_type": "stream",
     "text": [
      "Epoch 2454: train=8.62973, val=8.66726, took 70.597 s\n",
      "  Validation Found 101752 of 108007, added 5467 (eff 94.21%) (0.273 FP/event)\n",
      "Result epoch:  2454\n",
      "Average Eff:  0\n",
      "Average FP Rate:  0\n"
     ]
    },
    {
     "data": {
      "application/vnd.jupyter.widget-view+json": {
       "model_id": "",
       "version_major": 2,
       "version_minor": 0
      },
      "text/plain": [
       "HBox(children=(FloatProgress(value=0.0, description='Training', layout=Layout(flex='2'), max=1250.0, style=Pro…"
      ]
     },
     "metadata": {},
     "output_type": "display_data"
    },
    {
     "name": "stdout",
     "output_type": "stream",
     "text": [
      "Epoch 2455: train=8.63285, val=8.66493, took 70.576 s\n",
      "  Validation Found 101695 of 108007, added 5386 (eff 94.16%) (0.269 FP/event)\n",
      "Result epoch:  2455\n",
      "Average Eff:  0\n",
      "Average FP Rate:  0\n"
     ]
    },
    {
     "data": {
      "application/vnd.jupyter.widget-view+json": {
       "model_id": "",
       "version_major": 2,
       "version_minor": 0
      },
      "text/plain": [
       "HBox(children=(FloatProgress(value=0.0, description='Training', layout=Layout(flex='2'), max=1250.0, style=Pro…"
      ]
     },
     "metadata": {},
     "output_type": "display_data"
    },
    {
     "name": "stdout",
     "output_type": "stream",
     "text": [
      "Epoch 2456: train=8.62702, val=8.66032, took 72.531 s\n",
      "  Validation Found 101737 of 108007, added 5449 (eff 94.19%) (0.272 FP/event)\n",
      "Result epoch:  2456\n",
      "Average Eff:  0\n",
      "Average FP Rate:  0\n"
     ]
    },
    {
     "data": {
      "application/vnd.jupyter.widget-view+json": {
       "model_id": "",
       "version_major": 2,
       "version_minor": 0
      },
      "text/plain": [
       "HBox(children=(FloatProgress(value=0.0, description='Training', layout=Layout(flex='2'), max=1250.0, style=Pro…"
      ]
     },
     "metadata": {},
     "output_type": "display_data"
    },
    {
     "name": "stdout",
     "output_type": "stream",
     "text": [
      "Epoch 2457: train=8.62873, val=8.666, took 72.272 s\n",
      "  Validation Found 101676 of 108007, added 5331 (eff 94.14%) (0.267 FP/event)\n",
      "Result epoch:  2457\n",
      "Average Eff:  0\n",
      "Average FP Rate:  0\n"
     ]
    },
    {
     "data": {
      "application/vnd.jupyter.widget-view+json": {
       "model_id": "",
       "version_major": 2,
       "version_minor": 0
      },
      "text/plain": [
       "HBox(children=(FloatProgress(value=0.0, description='Training', layout=Layout(flex='2'), max=1250.0, style=Pro…"
      ]
     },
     "metadata": {},
     "output_type": "display_data"
    },
    {
     "name": "stdout",
     "output_type": "stream",
     "text": [
      "Epoch 2458: train=8.62699, val=8.65476, took 71.744 s\n",
      "  Validation Found 101698 of 108007, added 5373 (eff 94.16%) (0.269 FP/event)\n",
      "Result epoch:  2458\n",
      "Average Eff:  0\n",
      "Average FP Rate:  0\n"
     ]
    },
    {
     "data": {
      "application/vnd.jupyter.widget-view+json": {
       "model_id": "",
       "version_major": 2,
       "version_minor": 0
      },
      "text/plain": [
       "HBox(children=(FloatProgress(value=0.0, description='Training', layout=Layout(flex='2'), max=1250.0, style=Pro…"
      ]
     },
     "metadata": {},
     "output_type": "display_data"
    },
    {
     "name": "stdout",
     "output_type": "stream",
     "text": [
      "Epoch 2459: train=8.62466, val=8.66148, took 72.155 s\n",
      "  Validation Found 101698 of 108007, added 5359 (eff 94.16%) (0.268 FP/event)\n",
      "Result epoch:  2459\n",
      "Average Eff:  0\n",
      "Average FP Rate:  0\n"
     ]
    },
    {
     "data": {
      "application/vnd.jupyter.widget-view+json": {
       "model_id": "",
       "version_major": 2,
       "version_minor": 0
      },
      "text/plain": [
       "HBox(children=(FloatProgress(value=0.0, description='Training', layout=Layout(flex='2'), max=1250.0, style=Pro…"
      ]
     },
     "metadata": {},
     "output_type": "display_data"
    },
    {
     "name": "stdout",
     "output_type": "stream",
     "text": [
      "Epoch 2460: train=8.62886, val=8.6641, took 72.377 s\n",
      "  Validation Found 101760 of 108007, added 5476 (eff 94.22%) (0.274 FP/event)\n",
      "Result epoch:  2460\n",
      "Average Eff:  0\n",
      "Average FP Rate:  0\n"
     ]
    },
    {
     "data": {
      "application/vnd.jupyter.widget-view+json": {
       "model_id": "",
       "version_major": 2,
       "version_minor": 0
      },
      "text/plain": [
       "HBox(children=(FloatProgress(value=0.0, description='Training', layout=Layout(flex='2'), max=1250.0, style=Pro…"
      ]
     },
     "metadata": {},
     "output_type": "display_data"
    },
    {
     "name": "stdout",
     "output_type": "stream",
     "text": [
      "Epoch 2461: train=8.62663, val=8.65612, took 71.906 s\n",
      "  Validation Found 101731 of 108007, added 5414 (eff 94.19%) (0.271 FP/event)\n",
      "Result epoch:  2461\n",
      "Average Eff:  0\n",
      "Average FP Rate:  0\n"
     ]
    },
    {
     "data": {
      "application/vnd.jupyter.widget-view+json": {
       "model_id": "",
       "version_major": 2,
       "version_minor": 0
      },
      "text/plain": [
       "HBox(children=(FloatProgress(value=0.0, description='Training', layout=Layout(flex='2'), max=1250.0, style=Pro…"
      ]
     },
     "metadata": {},
     "output_type": "display_data"
    },
    {
     "name": "stdout",
     "output_type": "stream",
     "text": [
      "Epoch 2462: train=8.62559, val=8.65866, took 70.671 s\n",
      "  Validation Found 101671 of 108007, added 5318 (eff 94.13%) (0.266 FP/event)\n",
      "Result epoch:  2462\n",
      "Average Eff:  0\n",
      "Average FP Rate:  0\n"
     ]
    },
    {
     "data": {
      "application/vnd.jupyter.widget-view+json": {
       "model_id": "",
       "version_major": 2,
       "version_minor": 0
      },
      "text/plain": [
       "HBox(children=(FloatProgress(value=0.0, description='Training', layout=Layout(flex='2'), max=1250.0, style=Pro…"
      ]
     },
     "metadata": {},
     "output_type": "display_data"
    },
    {
     "name": "stdout",
     "output_type": "stream",
     "text": [
      "Epoch 2463: train=8.62654, val=8.65928, took 71.025 s\n",
      "  Validation Found 101772 of 108007, added 5491 (eff 94.23%) (0.275 FP/event)\n",
      "Result epoch:  2463\n",
      "Average Eff:  0\n",
      "Average FP Rate:  0\n"
     ]
    },
    {
     "data": {
      "application/vnd.jupyter.widget-view+json": {
       "model_id": "",
       "version_major": 2,
       "version_minor": 0
      },
      "text/plain": [
       "HBox(children=(FloatProgress(value=0.0, description='Training', layout=Layout(flex='2'), max=1250.0, style=Pro…"
      ]
     },
     "metadata": {},
     "output_type": "display_data"
    },
    {
     "name": "stdout",
     "output_type": "stream",
     "text": [
      "Epoch 2464: train=8.61857, val=8.67611, took 71.156 s\n",
      "  Validation Found 101673 of 108007, added 5328 (eff 94.14%) (0.266 FP/event)\n",
      "Result epoch:  2464\n",
      "Average Eff:  0\n",
      "Average FP Rate:  0\n"
     ]
    },
    {
     "data": {
      "application/vnd.jupyter.widget-view+json": {
       "model_id": "",
       "version_major": 2,
       "version_minor": 0
      },
      "text/plain": [
       "HBox(children=(FloatProgress(value=0.0, description='Training', layout=Layout(flex='2'), max=1250.0, style=Pro…"
      ]
     },
     "metadata": {},
     "output_type": "display_data"
    },
    {
     "name": "stdout",
     "output_type": "stream",
     "text": [
      "Epoch 2465: train=8.62015, val=8.67366, took 71.141 s\n",
      "  Validation Found 101711 of 108007, added 5406 (eff 94.17%) (0.27 FP/event)\n",
      "Result epoch:  2465\n",
      "Average Eff:  0\n",
      "Average FP Rate:  0\n"
     ]
    },
    {
     "data": {
      "application/vnd.jupyter.widget-view+json": {
       "model_id": "",
       "version_major": 2,
       "version_minor": 0
      },
      "text/plain": [
       "HBox(children=(FloatProgress(value=0.0, description='Training', layout=Layout(flex='2'), max=1250.0, style=Pro…"
      ]
     },
     "metadata": {},
     "output_type": "display_data"
    },
    {
     "name": "stdout",
     "output_type": "stream",
     "text": [
      "Epoch 2466: train=8.62468, val=8.66572, took 70.621 s\n",
      "  Validation Found 101682 of 108007, added 5328 (eff 94.14%) (0.266 FP/event)\n",
      "Result epoch:  2466\n",
      "Average Eff:  0\n",
      "Average FP Rate:  0\n"
     ]
    },
    {
     "data": {
      "application/vnd.jupyter.widget-view+json": {
       "model_id": "",
       "version_major": 2,
       "version_minor": 0
      },
      "text/plain": [
       "HBox(children=(FloatProgress(value=0.0, description='Training', layout=Layout(flex='2'), max=1250.0, style=Pro…"
      ]
     },
     "metadata": {},
     "output_type": "display_data"
    },
    {
     "name": "stdout",
     "output_type": "stream",
     "text": [
      "Epoch 2467: train=8.62392, val=8.65829, took 70.518 s\n",
      "  Validation Found 101741 of 108007, added 5412 (eff 94.20%) (0.271 FP/event)\n",
      "Result epoch:  2467\n",
      "Average Eff:  0\n",
      "Average FP Rate:  0\n"
     ]
    },
    {
     "data": {
      "application/vnd.jupyter.widget-view+json": {
       "model_id": "",
       "version_major": 2,
       "version_minor": 0
      },
      "text/plain": [
       "HBox(children=(FloatProgress(value=0.0, description='Training', layout=Layout(flex='2'), max=1250.0, style=Pro…"
      ]
     },
     "metadata": {},
     "output_type": "display_data"
    },
    {
     "name": "stdout",
     "output_type": "stream",
     "text": [
      "Epoch 2468: train=8.61926, val=8.65827, took 71.377 s\n",
      "  Validation Found 101692 of 108007, added 5331 (eff 94.15%) (0.267 FP/event)\n",
      "Result epoch:  2468\n",
      "Average Eff:  0\n",
      "Average FP Rate:  0\n"
     ]
    },
    {
     "data": {
      "application/vnd.jupyter.widget-view+json": {
       "model_id": "",
       "version_major": 2,
       "version_minor": 0
      },
      "text/plain": [
       "HBox(children=(FloatProgress(value=0.0, description='Training', layout=Layout(flex='2'), max=1250.0, style=Pro…"
      ]
     },
     "metadata": {},
     "output_type": "display_data"
    },
    {
     "name": "stdout",
     "output_type": "stream",
     "text": [
      "Epoch 2469: train=8.62002, val=8.66488, took 71.24 s\n",
      "  Validation Found 101626 of 108007, added 5220 (eff 94.09%) (0.261 FP/event)\n",
      "Result epoch:  2469\n",
      "Average Eff:  0\n",
      "Average FP Rate:  0\n"
     ]
    },
    {
     "data": {
      "application/vnd.jupyter.widget-view+json": {
       "model_id": "",
       "version_major": 2,
       "version_minor": 0
      },
      "text/plain": [
       "HBox(children=(FloatProgress(value=0.0, description='Training', layout=Layout(flex='2'), max=1250.0, style=Pro…"
      ]
     },
     "metadata": {},
     "output_type": "display_data"
    },
    {
     "name": "stdout",
     "output_type": "stream",
     "text": [
      "Epoch 2470: train=8.61664, val=8.66469, took 71.061 s\n",
      "  Validation Found 101720 of 108007, added 5375 (eff 94.18%) (0.269 FP/event)\n",
      "Result epoch:  2470\n",
      "Average Eff:  0\n",
      "Average FP Rate:  0\n"
     ]
    },
    {
     "data": {
      "application/vnd.jupyter.widget-view+json": {
       "model_id": "",
       "version_major": 2,
       "version_minor": 0
      },
      "text/plain": [
       "HBox(children=(FloatProgress(value=0.0, description='Training', layout=Layout(flex='2'), max=1250.0, style=Pro…"
      ]
     },
     "metadata": {},
     "output_type": "display_data"
    },
    {
     "name": "stdout",
     "output_type": "stream",
     "text": [
      "Epoch 2471: train=8.62131, val=8.65705, took 71.775 s\n",
      "  Validation Found 101720 of 108007, added 5380 (eff 94.18%) (0.269 FP/event)\n",
      "Result epoch:  2471\n",
      "Average Eff:  0\n",
      "Average FP Rate:  0\n"
     ]
    },
    {
     "data": {
      "application/vnd.jupyter.widget-view+json": {
       "model_id": "",
       "version_major": 2,
       "version_minor": 0
      },
      "text/plain": [
       "HBox(children=(FloatProgress(value=0.0, description='Training', layout=Layout(flex='2'), max=1250.0, style=Pro…"
      ]
     },
     "metadata": {},
     "output_type": "display_data"
    },
    {
     "name": "stdout",
     "output_type": "stream",
     "text": [
      "Epoch 2472: train=8.61814, val=8.66841, took 70.918 s\n",
      "  Validation Found 101670 of 108007, added 5316 (eff 94.13%) (0.266 FP/event)\n",
      "Result epoch:  2472\n",
      "Average Eff:  0\n",
      "Average FP Rate:  0\n"
     ]
    },
    {
     "data": {
      "application/vnd.jupyter.widget-view+json": {
       "model_id": "",
       "version_major": 2,
       "version_minor": 0
      },
      "text/plain": [
       "HBox(children=(FloatProgress(value=0.0, description='Training', layout=Layout(flex='2'), max=1250.0, style=Pro…"
      ]
     },
     "metadata": {},
     "output_type": "display_data"
    },
    {
     "name": "stdout",
     "output_type": "stream",
     "text": [
      "Epoch 2473: train=8.62065, val=8.66267, took 72.492 s\n",
      "  Validation Found 101779 of 108007, added 5497 (eff 94.23%) (0.275 FP/event)\n",
      "Result epoch:  2473\n",
      "Average Eff:  0\n",
      "Average FP Rate:  0\n"
     ]
    },
    {
     "data": {
      "application/vnd.jupyter.widget-view+json": {
       "model_id": "",
       "version_major": 2,
       "version_minor": 0
      },
      "text/plain": [
       "HBox(children=(FloatProgress(value=0.0, description='Training', layout=Layout(flex='2'), max=1250.0, style=Pro…"
      ]
     },
     "metadata": {},
     "output_type": "display_data"
    },
    {
     "name": "stdout",
     "output_type": "stream",
     "text": [
      "Epoch 2474: train=8.61608, val=8.6615, took 71.279 s\n",
      "  Validation Found 101655 of 108007, added 5267 (eff 94.12%) (0.263 FP/event)\n",
      "Result epoch:  2474\n",
      "Average Eff:  0\n",
      "Average FP Rate:  0\n"
     ]
    },
    {
     "data": {
      "application/vnd.jupyter.widget-view+json": {
       "model_id": "",
       "version_major": 2,
       "version_minor": 0
      },
      "text/plain": [
       "HBox(children=(FloatProgress(value=0.0, description='Training', layout=Layout(flex='2'), max=1250.0, style=Pro…"
      ]
     },
     "metadata": {},
     "output_type": "display_data"
    },
    {
     "name": "stdout",
     "output_type": "stream",
     "text": [
      "Epoch 2475: train=8.62147, val=8.66679, took 71.526 s\n",
      "  Validation Found 101781 of 108007, added 5520 (eff 94.24%) (0.276 FP/event)\n",
      "Result epoch:  2475\n",
      "Average Eff:  0\n",
      "Average FP Rate:  0\n"
     ]
    },
    {
     "data": {
      "application/vnd.jupyter.widget-view+json": {
       "model_id": "",
       "version_major": 2,
       "version_minor": 0
      },
      "text/plain": [
       "HBox(children=(FloatProgress(value=0.0, description='Training', layout=Layout(flex='2'), max=1250.0, style=Pro…"
      ]
     },
     "metadata": {},
     "output_type": "display_data"
    },
    {
     "name": "stdout",
     "output_type": "stream",
     "text": [
      "Epoch 2476: train=8.61977, val=8.66801, took 72.479 s\n",
      "  Validation Found 101866 of 108007, added 5636 (eff 94.31%) (0.282 FP/event)\n",
      "Result epoch:  2476\n",
      "Average Eff:  0\n",
      "Average FP Rate:  0\n"
     ]
    },
    {
     "data": {
      "application/vnd.jupyter.widget-view+json": {
       "model_id": "",
       "version_major": 2,
       "version_minor": 0
      },
      "text/plain": [
       "HBox(children=(FloatProgress(value=0.0, description='Training', layout=Layout(flex='2'), max=1250.0, style=Pro…"
      ]
     },
     "metadata": {},
     "output_type": "display_data"
    },
    {
     "name": "stdout",
     "output_type": "stream",
     "text": [
      "Epoch 2477: train=8.62374, val=8.66096, took 72.229 s\n",
      "  Validation Found 101685 of 108007, added 5328 (eff 94.15%) (0.266 FP/event)\n",
      "Result epoch:  2477\n",
      "Average Eff:  0\n",
      "Average FP Rate:  0\n"
     ]
    },
    {
     "data": {
      "application/vnd.jupyter.widget-view+json": {
       "model_id": "",
       "version_major": 2,
       "version_minor": 0
      },
      "text/plain": [
       "HBox(children=(FloatProgress(value=0.0, description='Training', layout=Layout(flex='2'), max=1250.0, style=Pro…"
      ]
     },
     "metadata": {},
     "output_type": "display_data"
    },
    {
     "name": "stdout",
     "output_type": "stream",
     "text": [
      "Epoch 2478: train=8.6134, val=8.65798, took 71.762 s\n",
      "  Validation Found 101719 of 108007, added 5378 (eff 94.18%) (0.269 FP/event)\n",
      "Result epoch:  2478\n",
      "Average Eff:  0\n",
      "Average FP Rate:  0\n"
     ]
    },
    {
     "data": {
      "application/vnd.jupyter.widget-view+json": {
       "model_id": "",
       "version_major": 2,
       "version_minor": 0
      },
      "text/plain": [
       "HBox(children=(FloatProgress(value=0.0, description='Training', layout=Layout(flex='2'), max=1250.0, style=Pro…"
      ]
     },
     "metadata": {},
     "output_type": "display_data"
    },
    {
     "name": "stdout",
     "output_type": "stream",
     "text": [
      "Epoch 2479: train=8.61076, val=8.67737, took 70.5 s\n",
      "  Validation Found 101757 of 108007, added 5488 (eff 94.21%) (0.274 FP/event)\n",
      "Result epoch:  2479\n",
      "Average Eff:  0\n",
      "Average FP Rate:  0\n"
     ]
    },
    {
     "data": {
      "application/vnd.jupyter.widget-view+json": {
       "model_id": "",
       "version_major": 2,
       "version_minor": 0
      },
      "text/plain": [
       "HBox(children=(FloatProgress(value=0.0, description='Training', layout=Layout(flex='2'), max=1250.0, style=Pro…"
      ]
     },
     "metadata": {},
     "output_type": "display_data"
    },
    {
     "name": "stdout",
     "output_type": "stream",
     "text": [
      "Epoch 2480: train=8.61413, val=8.6617, took 72.44 s\n",
      "  Validation Found 101695 of 108007, added 5352 (eff 94.16%) (0.268 FP/event)\n",
      "Result epoch:  2480\n",
      "Average Eff:  0\n",
      "Average FP Rate:  0\n"
     ]
    },
    {
     "data": {
      "application/vnd.jupyter.widget-view+json": {
       "model_id": "",
       "version_major": 2,
       "version_minor": 0
      },
      "text/plain": [
       "HBox(children=(FloatProgress(value=0.0, description='Training', layout=Layout(flex='2'), max=1250.0, style=Pro…"
      ]
     },
     "metadata": {},
     "output_type": "display_data"
    },
    {
     "name": "stdout",
     "output_type": "stream",
     "text": [
      "Epoch 2481: train=8.614, val=8.66516, took 72.1 s\n",
      "  Validation Found 101701 of 108007, added 5330 (eff 94.16%) (0.266 FP/event)\n",
      "Result epoch:  2481\n",
      "Average Eff:  0\n",
      "Average FP Rate:  0\n"
     ]
    },
    {
     "data": {
      "application/vnd.jupyter.widget-view+json": {
       "model_id": "",
       "version_major": 2,
       "version_minor": 0
      },
      "text/plain": [
       "HBox(children=(FloatProgress(value=0.0, description='Training', layout=Layout(flex='2'), max=1250.0, style=Pro…"
      ]
     },
     "metadata": {},
     "output_type": "display_data"
    },
    {
     "name": "stdout",
     "output_type": "stream",
     "text": [
      "Epoch 2482: train=8.6148, val=8.67061, took 72.197 s\n",
      "  Validation Found 101708 of 108007, added 5380 (eff 94.17%) (0.269 FP/event)\n",
      "Result epoch:  2482\n",
      "Average Eff:  0\n",
      "Average FP Rate:  0\n"
     ]
    },
    {
     "data": {
      "application/vnd.jupyter.widget-view+json": {
       "model_id": "",
       "version_major": 2,
       "version_minor": 0
      },
      "text/plain": [
       "HBox(children=(FloatProgress(value=0.0, description='Training', layout=Layout(flex='2'), max=1250.0, style=Pro…"
      ]
     },
     "metadata": {},
     "output_type": "display_data"
    },
    {
     "name": "stdout",
     "output_type": "stream",
     "text": [
      "Epoch 2483: train=8.61115, val=8.66382, took 71.508 s\n",
      "  Validation Found 101762 of 108007, added 5452 (eff 94.22%) (0.273 FP/event)\n",
      "Result epoch:  2483\n",
      "Average Eff:  0\n",
      "Average FP Rate:  0\n"
     ]
    },
    {
     "data": {
      "application/vnd.jupyter.widget-view+json": {
       "model_id": "",
       "version_major": 2,
       "version_minor": 0
      },
      "text/plain": [
       "HBox(children=(FloatProgress(value=0.0, description='Training', layout=Layout(flex='2'), max=1250.0, style=Pro…"
      ]
     },
     "metadata": {},
     "output_type": "display_data"
    },
    {
     "name": "stdout",
     "output_type": "stream",
     "text": [
      "Epoch 2484: train=8.60857, val=8.66553, took 71.791 s\n",
      "  Validation Found 101668 of 108007, added 5301 (eff 94.13%) (0.265 FP/event)\n",
      "Result epoch:  2484\n",
      "Average Eff:  0\n",
      "Average FP Rate:  0\n"
     ]
    },
    {
     "data": {
      "application/vnd.jupyter.widget-view+json": {
       "model_id": "",
       "version_major": 2,
       "version_minor": 0
      },
      "text/plain": [
       "HBox(children=(FloatProgress(value=0.0, description='Training', layout=Layout(flex='2'), max=1250.0, style=Pro…"
      ]
     },
     "metadata": {},
     "output_type": "display_data"
    },
    {
     "name": "stdout",
     "output_type": "stream",
     "text": [
      "Epoch 2485: train=8.61429, val=8.66707, took 70.992 s\n",
      "  Validation Found 101680 of 108007, added 5320 (eff 94.14%) (0.266 FP/event)\n",
      "Result epoch:  2485\n",
      "Average Eff:  0\n",
      "Average FP Rate:  0\n"
     ]
    },
    {
     "data": {
      "application/vnd.jupyter.widget-view+json": {
       "model_id": "",
       "version_major": 2,
       "version_minor": 0
      },
      "text/plain": [
       "HBox(children=(FloatProgress(value=0.0, description='Training', layout=Layout(flex='2'), max=1250.0, style=Pro…"
      ]
     },
     "metadata": {},
     "output_type": "display_data"
    },
    {
     "name": "stdout",
     "output_type": "stream",
     "text": [
      "Epoch 2486: train=8.61289, val=8.67262, took 71.418 s\n",
      "  Validation Found 101735 of 108007, added 5415 (eff 94.19%) (0.271 FP/event)\n",
      "Result epoch:  2486\n",
      "Average Eff:  0\n",
      "Average FP Rate:  0\n"
     ]
    },
    {
     "data": {
      "application/vnd.jupyter.widget-view+json": {
       "model_id": "",
       "version_major": 2,
       "version_minor": 0
      },
      "text/plain": [
       "HBox(children=(FloatProgress(value=0.0, description='Training', layout=Layout(flex='2'), max=1250.0, style=Pro…"
      ]
     },
     "metadata": {},
     "output_type": "display_data"
    },
    {
     "name": "stdout",
     "output_type": "stream",
     "text": [
      "Epoch 2487: train=8.60893, val=8.67336, took 71.376 s\n",
      "  Validation Found 101685 of 108007, added 5334 (eff 94.15%) (0.267 FP/event)\n",
      "Result epoch:  2487\n",
      "Average Eff:  0\n",
      "Average FP Rate:  0\n"
     ]
    },
    {
     "data": {
      "application/vnd.jupyter.widget-view+json": {
       "model_id": "",
       "version_major": 2,
       "version_minor": 0
      },
      "text/plain": [
       "HBox(children=(FloatProgress(value=0.0, description='Training', layout=Layout(flex='2'), max=1250.0, style=Pro…"
      ]
     },
     "metadata": {},
     "output_type": "display_data"
    },
    {
     "name": "stdout",
     "output_type": "stream",
     "text": [
      "Epoch 2488: train=8.60956, val=8.67381, took 71.672 s\n",
      "  Validation Found 101705 of 108007, added 5356 (eff 94.17%) (0.268 FP/event)\n",
      "Result epoch:  2488\n",
      "Average Eff:  0\n",
      "Average FP Rate:  0\n"
     ]
    },
    {
     "data": {
      "application/vnd.jupyter.widget-view+json": {
       "model_id": "",
       "version_major": 2,
       "version_minor": 0
      },
      "text/plain": [
       "HBox(children=(FloatProgress(value=0.0, description='Training', layout=Layout(flex='2'), max=1250.0, style=Pro…"
      ]
     },
     "metadata": {},
     "output_type": "display_data"
    },
    {
     "name": "stdout",
     "output_type": "stream",
     "text": [
      "Epoch 2489: train=8.60876, val=8.66719, took 71.404 s\n",
      "  Validation Found 101692 of 108007, added 5333 (eff 94.15%) (0.267 FP/event)\n",
      "Result epoch:  2489\n",
      "Average Eff:  0\n",
      "Average FP Rate:  0\n"
     ]
    },
    {
     "data": {
      "application/vnd.jupyter.widget-view+json": {
       "model_id": "",
       "version_major": 2,
       "version_minor": 0
      },
      "text/plain": [
       "HBox(children=(FloatProgress(value=0.0, description='Training', layout=Layout(flex='2'), max=1250.0, style=Pro…"
      ]
     },
     "metadata": {},
     "output_type": "display_data"
    },
    {
     "name": "stdout",
     "output_type": "stream",
     "text": [
      "Epoch 2490: train=8.61116, val=8.67638, took 71.358 s\n",
      "  Validation Found 101656 of 108007, added 5278 (eff 94.12%) (0.264 FP/event)\n",
      "Result epoch:  2490\n",
      "Average Eff:  0\n",
      "Average FP Rate:  0\n"
     ]
    },
    {
     "data": {
      "application/vnd.jupyter.widget-view+json": {
       "model_id": "",
       "version_major": 2,
       "version_minor": 0
      },
      "text/plain": [
       "HBox(children=(FloatProgress(value=0.0, description='Training', layout=Layout(flex='2'), max=1250.0, style=Pro…"
      ]
     },
     "metadata": {},
     "output_type": "display_data"
    },
    {
     "name": "stdout",
     "output_type": "stream",
     "text": [
      "Epoch 2491: train=8.60891, val=8.66608, took 71.641 s\n",
      "  Validation Found 101685 of 108007, added 5314 (eff 94.15%) (0.266 FP/event)\n",
      "Result epoch:  2491\n",
      "Average Eff:  0\n",
      "Average FP Rate:  0\n"
     ]
    },
    {
     "data": {
      "application/vnd.jupyter.widget-view+json": {
       "model_id": "",
       "version_major": 2,
       "version_minor": 0
      },
      "text/plain": [
       "HBox(children=(FloatProgress(value=0.0, description='Training', layout=Layout(flex='2'), max=1250.0, style=Pro…"
      ]
     },
     "metadata": {},
     "output_type": "display_data"
    },
    {
     "name": "stdout",
     "output_type": "stream",
     "text": [
      "Epoch 2492: train=8.61249, val=8.66517, took 71.961 s\n",
      "  Validation Found 101750 of 108007, added 5439 (eff 94.21%) (0.272 FP/event)\n",
      "Result epoch:  2492\n",
      "Average Eff:  0\n",
      "Average FP Rate:  0\n"
     ]
    },
    {
     "data": {
      "application/vnd.jupyter.widget-view+json": {
       "model_id": "",
       "version_major": 2,
       "version_minor": 0
      },
      "text/plain": [
       "HBox(children=(FloatProgress(value=0.0, description='Training', layout=Layout(flex='2'), max=1250.0, style=Pro…"
      ]
     },
     "metadata": {},
     "output_type": "display_data"
    },
    {
     "name": "stdout",
     "output_type": "stream",
     "text": [
      "Epoch 2493: train=8.60945, val=8.66811, took 71.829 s\n",
      "  Validation Found 101662 of 108007, added 5283 (eff 94.13%) (0.264 FP/event)\n",
      "Result epoch:  2493\n",
      "Average Eff:  0\n",
      "Average FP Rate:  0\n"
     ]
    },
    {
     "data": {
      "application/vnd.jupyter.widget-view+json": {
       "model_id": "",
       "version_major": 2,
       "version_minor": 0
      },
      "text/plain": [
       "HBox(children=(FloatProgress(value=0.0, description='Training', layout=Layout(flex='2'), max=1250.0, style=Pro…"
      ]
     },
     "metadata": {},
     "output_type": "display_data"
    },
    {
     "name": "stdout",
     "output_type": "stream",
     "text": [
      "Epoch 2494: train=8.60959, val=8.67012, took 70.235 s\n",
      "  Validation Found 101791 of 108007, added 5534 (eff 94.24%) (0.277 FP/event)\n",
      "Result epoch:  2494\n",
      "Average Eff:  0\n",
      "Average FP Rate:  0\n"
     ]
    },
    {
     "data": {
      "application/vnd.jupyter.widget-view+json": {
       "model_id": "",
       "version_major": 2,
       "version_minor": 0
      },
      "text/plain": [
       "HBox(children=(FloatProgress(value=0.0, description='Training', layout=Layout(flex='2'), max=1250.0, style=Pro…"
      ]
     },
     "metadata": {},
     "output_type": "display_data"
    },
    {
     "name": "stdout",
     "output_type": "stream",
     "text": [
      "Epoch 2495: train=8.60367, val=8.66945, took 70.641 s\n",
      "  Validation Found 101739 of 108007, added 5424 (eff 94.20%) (0.271 FP/event)\n",
      "Result epoch:  2495\n",
      "Average Eff:  0\n",
      "Average FP Rate:  0\n"
     ]
    },
    {
     "data": {
      "application/vnd.jupyter.widget-view+json": {
       "model_id": "",
       "version_major": 2,
       "version_minor": 0
      },
      "text/plain": [
       "HBox(children=(FloatProgress(value=0.0, description='Training', layout=Layout(flex='2'), max=1250.0, style=Pro…"
      ]
     },
     "metadata": {},
     "output_type": "display_data"
    },
    {
     "name": "stdout",
     "output_type": "stream",
     "text": [
      "Epoch 2496: train=8.60046, val=8.67653, took 72.191 s\n",
      "  Validation Found 101698 of 108007, added 5383 (eff 94.16%) (0.269 FP/event)\n",
      "Result epoch:  2496\n",
      "Average Eff:  0\n",
      "Average FP Rate:  0\n"
     ]
    },
    {
     "data": {
      "application/vnd.jupyter.widget-view+json": {
       "model_id": "",
       "version_major": 2,
       "version_minor": 0
      },
      "text/plain": [
       "HBox(children=(FloatProgress(value=0.0, description='Training', layout=Layout(flex='2'), max=1250.0, style=Pro…"
      ]
     },
     "metadata": {},
     "output_type": "display_data"
    },
    {
     "name": "stdout",
     "output_type": "stream",
     "text": [
      "Epoch 2497: train=8.60412, val=8.66291, took 70.967 s\n",
      "  Validation Found 101649 of 108007, added 5257 (eff 94.11%) (0.263 FP/event)\n",
      "Result epoch:  2497\n",
      "Average Eff:  0\n",
      "Average FP Rate:  0\n"
     ]
    },
    {
     "data": {
      "application/vnd.jupyter.widget-view+json": {
       "model_id": "",
       "version_major": 2,
       "version_minor": 0
      },
      "text/plain": [
       "HBox(children=(FloatProgress(value=0.0, description='Training', layout=Layout(flex='2'), max=1250.0, style=Pro…"
      ]
     },
     "metadata": {},
     "output_type": "display_data"
    },
    {
     "name": "stdout",
     "output_type": "stream",
     "text": [
      "Epoch 2498: train=8.6063, val=8.67726, took 71.441 s\n",
      "  Validation Found 101689 of 108007, added 5334 (eff 94.15%) (0.267 FP/event)\n",
      "Result epoch:  2498\n",
      "Average Eff:  0\n",
      "Average FP Rate:  0\n"
     ]
    },
    {
     "data": {
      "application/vnd.jupyter.widget-view+json": {
       "model_id": "",
       "version_major": 2,
       "version_minor": 0
      },
      "text/plain": [
       "HBox(children=(FloatProgress(value=0.0, description='Training', layout=Layout(flex='2'), max=1250.0, style=Pro…"
      ]
     },
     "metadata": {},
     "output_type": "display_data"
    },
    {
     "name": "stdout",
     "output_type": "stream",
     "text": [
      "Epoch 2499: train=8.60132, val=8.6724, took 71.646 s\n",
      "  Validation Found 101701 of 108007, added 5348 (eff 94.16%) (0.267 FP/event)\n",
      "Result epoch:  2499\n",
      "Average Eff:  0\n",
      "Average FP Rate:  0\n"
     ]
    },
    {
     "data": {
      "application/vnd.jupyter.widget-view+json": {
       "model_id": "",
       "version_major": 2,
       "version_minor": 0
      },
      "text/plain": [
       "HBox(children=(FloatProgress(value=0.0, description='Training', layout=Layout(flex='2'), max=1250.0, style=Pro…"
      ]
     },
     "metadata": {},
     "output_type": "display_data"
    },
    {
     "name": "stdout",
     "output_type": "stream",
     "text": [
      "Epoch 2500: train=8.59971, val=8.67946, took 71.157 s\n",
      "  Validation Found 101750 of 108007, added 5439 (eff 94.21%) (0.272 FP/event)\n",
      "Result epoch:  2500\n",
      "Average Eff:  0\n",
      "Average FP Rate:  0\n"
     ]
    },
    {
     "data": {
      "application/vnd.jupyter.widget-view+json": {
       "model_id": "",
       "version_major": 2,
       "version_minor": 0
      },
      "text/plain": [
       "HBox(children=(FloatProgress(value=0.0, description='Training', layout=Layout(flex='2'), max=1250.0, style=Pro…"
      ]
     },
     "metadata": {},
     "output_type": "display_data"
    },
    {
     "name": "stdout",
     "output_type": "stream",
     "text": [
      "Epoch 2501: train=8.6007, val=8.67068, took 71.645 s\n",
      "  Validation Found 101713 of 108007, added 5387 (eff 94.17%) (0.269 FP/event)\n",
      "Result epoch:  2501\n",
      "Average Eff:  0\n",
      "Average FP Rate:  0\n"
     ]
    },
    {
     "data": {
      "application/vnd.jupyter.widget-view+json": {
       "model_id": "",
       "version_major": 2,
       "version_minor": 0
      },
      "text/plain": [
       "HBox(children=(FloatProgress(value=0.0, description='Training', layout=Layout(flex='2'), max=1250.0, style=Pro…"
      ]
     },
     "metadata": {},
     "output_type": "display_data"
    },
    {
     "name": "stdout",
     "output_type": "stream",
     "text": [
      "Epoch 2502: train=8.60225, val=8.67277, took 71.32 s\n",
      "  Validation Found 101703 of 108007, added 5360 (eff 94.16%) (0.268 FP/event)\n",
      "Result epoch:  2502\n",
      "Average Eff:  0\n",
      "Average FP Rate:  0\n"
     ]
    },
    {
     "data": {
      "application/vnd.jupyter.widget-view+json": {
       "model_id": "",
       "version_major": 2,
       "version_minor": 0
      },
      "text/plain": [
       "HBox(children=(FloatProgress(value=0.0, description='Training', layout=Layout(flex='2'), max=1250.0, style=Pro…"
      ]
     },
     "metadata": {},
     "output_type": "display_data"
    },
    {
     "name": "stdout",
     "output_type": "stream",
     "text": [
      "Epoch 2503: train=8.59866, val=8.67558, took 71.676 s\n",
      "  Validation Found 101716 of 108007, added 5399 (eff 94.18%) (0.27 FP/event)\n",
      "Result epoch:  2503\n",
      "Average Eff:  0\n",
      "Average FP Rate:  0\n"
     ]
    },
    {
     "data": {
      "application/vnd.jupyter.widget-view+json": {
       "model_id": "",
       "version_major": 2,
       "version_minor": 0
      },
      "text/plain": [
       "HBox(children=(FloatProgress(value=0.0, description='Training', layout=Layout(flex='2'), max=1250.0, style=Pro…"
      ]
     },
     "metadata": {},
     "output_type": "display_data"
    },
    {
     "name": "stdout",
     "output_type": "stream",
     "text": [
      "Epoch 2504: train=8.60127, val=8.67799, took 72.092 s\n",
      "  Validation Found 101706 of 108007, added 5392 (eff 94.17%) (0.27 FP/event)\n",
      "Result epoch:  2504\n",
      "Average Eff:  0\n",
      "Average FP Rate:  0\n"
     ]
    },
    {
     "data": {
      "application/vnd.jupyter.widget-view+json": {
       "model_id": "",
       "version_major": 2,
       "version_minor": 0
      },
      "text/plain": [
       "HBox(children=(FloatProgress(value=0.0, description='Training', layout=Layout(flex='2'), max=1250.0, style=Pro…"
      ]
     },
     "metadata": {},
     "output_type": "display_data"
    },
    {
     "name": "stdout",
     "output_type": "stream",
     "text": [
      "Epoch 2505: train=8.60316, val=8.67721, took 70.027 s\n",
      "  Validation Found 101694 of 108007, added 5360 (eff 94.16%) (0.268 FP/event)\n",
      "Result epoch:  2505\n",
      "Average Eff:  0\n",
      "Average FP Rate:  0\n"
     ]
    },
    {
     "data": {
      "application/vnd.jupyter.widget-view+json": {
       "model_id": "",
       "version_major": 2,
       "version_minor": 0
      },
      "text/plain": [
       "HBox(children=(FloatProgress(value=0.0, description='Training', layout=Layout(flex='2'), max=1250.0, style=Pro…"
      ]
     },
     "metadata": {},
     "output_type": "display_data"
    },
    {
     "name": "stdout",
     "output_type": "stream",
     "text": [
      "Epoch 2506: train=8.59908, val=8.67204, took 70.971 s\n",
      "  Validation Found 101686 of 108007, added 5329 (eff 94.15%) (0.266 FP/event)\n",
      "Result epoch:  2506\n",
      "Average Eff:  0\n",
      "Average FP Rate:  0\n"
     ]
    },
    {
     "data": {
      "application/vnd.jupyter.widget-view+json": {
       "model_id": "",
       "version_major": 2,
       "version_minor": 0
      },
      "text/plain": [
       "HBox(children=(FloatProgress(value=0.0, description='Training', layout=Layout(flex='2'), max=1250.0, style=Pro…"
      ]
     },
     "metadata": {},
     "output_type": "display_data"
    },
    {
     "name": "stdout",
     "output_type": "stream",
     "text": [
      "Epoch 2507: train=8.59985, val=8.66365, took 70.834 s\n",
      "  Validation Found 101676 of 108007, added 5308 (eff 94.14%) (0.265 FP/event)\n",
      "Result epoch:  2507\n",
      "Average Eff:  0\n",
      "Average FP Rate:  0\n"
     ]
    },
    {
     "data": {
      "application/vnd.jupyter.widget-view+json": {
       "model_id": "",
       "version_major": 2,
       "version_minor": 0
      },
      "text/plain": [
       "HBox(children=(FloatProgress(value=0.0, description='Training', layout=Layout(flex='2'), max=1250.0, style=Pro…"
      ]
     },
     "metadata": {},
     "output_type": "display_data"
    },
    {
     "name": "stdout",
     "output_type": "stream",
     "text": [
      "Epoch 2508: train=8.60685, val=8.6761, took 72.811 s\n",
      "  Validation Found 101723 of 108007, added 5426 (eff 94.18%) (0.271 FP/event)\n",
      "Result epoch:  2508\n",
      "Average Eff:  0\n",
      "Average FP Rate:  0\n"
     ]
    },
    {
     "data": {
      "application/vnd.jupyter.widget-view+json": {
       "model_id": "",
       "version_major": 2,
       "version_minor": 0
      },
      "text/plain": [
       "HBox(children=(FloatProgress(value=0.0, description='Training', layout=Layout(flex='2'), max=1250.0, style=Pro…"
      ]
     },
     "metadata": {},
     "output_type": "display_data"
    },
    {
     "name": "stdout",
     "output_type": "stream",
     "text": [
      "Epoch 2509: train=8.59584, val=8.68265, took 70.737 s\n",
      "  Validation Found 101588 of 108007, added 5135 (eff 94.06%) (0.257 FP/event)\n",
      "Result epoch:  2509\n",
      "Average Eff:  0\n",
      "Average FP Rate:  0\n"
     ]
    },
    {
     "data": {
      "application/vnd.jupyter.widget-view+json": {
       "model_id": "",
       "version_major": 2,
       "version_minor": 0
      },
      "text/plain": [
       "HBox(children=(FloatProgress(value=0.0, description='Training', layout=Layout(flex='2'), max=1250.0, style=Pro…"
      ]
     },
     "metadata": {},
     "output_type": "display_data"
    },
    {
     "name": "stdout",
     "output_type": "stream",
     "text": [
      "Epoch 2510: train=8.59002, val=8.67243, took 70.424 s\n",
      "  Validation Found 101679 of 108007, added 5320 (eff 94.14%) (0.266 FP/event)\n",
      "Result epoch:  2510\n",
      "Average Eff:  0\n",
      "Average FP Rate:  0\n"
     ]
    },
    {
     "data": {
      "application/vnd.jupyter.widget-view+json": {
       "model_id": "",
       "version_major": 2,
       "version_minor": 0
      },
      "text/plain": [
       "HBox(children=(FloatProgress(value=0.0, description='Training', layout=Layout(flex='2'), max=1250.0, style=Pro…"
      ]
     },
     "metadata": {},
     "output_type": "display_data"
    },
    {
     "name": "stdout",
     "output_type": "stream",
     "text": [
      "Epoch 2511: train=8.59875, val=8.67076, took 71.019 s\n",
      "  Validation Found 101649 of 108007, added 5262 (eff 94.11%) (0.263 FP/event)\n",
      "Result epoch:  2511\n",
      "Average Eff:  0\n",
      "Average FP Rate:  0\n"
     ]
    },
    {
     "data": {
      "application/vnd.jupyter.widget-view+json": {
       "model_id": "",
       "version_major": 2,
       "version_minor": 0
      },
      "text/plain": [
       "HBox(children=(FloatProgress(value=0.0, description='Training', layout=Layout(flex='2'), max=1250.0, style=Pro…"
      ]
     },
     "metadata": {},
     "output_type": "display_data"
    },
    {
     "name": "stdout",
     "output_type": "stream",
     "text": [
      "Epoch 2512: train=8.59478, val=8.67994, took 70.84 s\n",
      "  Validation Found 101661 of 108007, added 5296 (eff 94.12%) (0.265 FP/event)\n",
      "Result epoch:  2512\n",
      "Average Eff:  0\n",
      "Average FP Rate:  0\n"
     ]
    },
    {
     "data": {
      "application/vnd.jupyter.widget-view+json": {
       "model_id": "",
       "version_major": 2,
       "version_minor": 0
      },
      "text/plain": [
       "HBox(children=(FloatProgress(value=0.0, description='Training', layout=Layout(flex='2'), max=1250.0, style=Pro…"
      ]
     },
     "metadata": {},
     "output_type": "display_data"
    },
    {
     "name": "stdout",
     "output_type": "stream",
     "text": [
      "Epoch 2513: train=8.58965, val=8.67349, took 72.004 s\n",
      "  Validation Found 101664 of 108007, added 5270 (eff 94.13%) (0.263 FP/event)\n",
      "Result epoch:  2513\n",
      "Average Eff:  0\n",
      "Average FP Rate:  0\n"
     ]
    },
    {
     "data": {
      "application/vnd.jupyter.widget-view+json": {
       "model_id": "",
       "version_major": 2,
       "version_minor": 0
      },
      "text/plain": [
       "HBox(children=(FloatProgress(value=0.0, description='Training', layout=Layout(flex='2'), max=1250.0, style=Pro…"
      ]
     },
     "metadata": {},
     "output_type": "display_data"
    },
    {
     "name": "stdout",
     "output_type": "stream",
     "text": [
      "Epoch 2514: train=8.59939, val=8.66985, took 70.21 s\n",
      "  Validation Found 101731 of 108007, added 5389 (eff 94.19%) (0.269 FP/event)\n",
      "Result epoch:  2514\n",
      "Average Eff:  0\n",
      "Average FP Rate:  0\n"
     ]
    },
    {
     "data": {
      "application/vnd.jupyter.widget-view+json": {
       "model_id": "",
       "version_major": 2,
       "version_minor": 0
      },
      "text/plain": [
       "HBox(children=(FloatProgress(value=0.0, description='Training', layout=Layout(flex='2'), max=1250.0, style=Pro…"
      ]
     },
     "metadata": {},
     "output_type": "display_data"
    },
    {
     "name": "stdout",
     "output_type": "stream",
     "text": [
      "Epoch 2515: train=8.59549, val=8.67181, took 70.439 s\n",
      "  Validation Found 101739 of 108007, added 5401 (eff 94.20%) (0.27 FP/event)\n",
      "Result epoch:  2515\n",
      "Average Eff:  0\n",
      "Average FP Rate:  0\n"
     ]
    },
    {
     "data": {
      "application/vnd.jupyter.widget-view+json": {
       "model_id": "",
       "version_major": 2,
       "version_minor": 0
      },
      "text/plain": [
       "HBox(children=(FloatProgress(value=0.0, description='Training', layout=Layout(flex='2'), max=1250.0, style=Pro…"
      ]
     },
     "metadata": {},
     "output_type": "display_data"
    },
    {
     "name": "stdout",
     "output_type": "stream",
     "text": [
      "Epoch 2516: train=8.59613, val=8.67546, took 71.439 s\n",
      "  Validation Found 101698 of 108007, added 5354 (eff 94.16%) (0.268 FP/event)\n",
      "Result epoch:  2516\n",
      "Average Eff:  0\n",
      "Average FP Rate:  0\n"
     ]
    },
    {
     "data": {
      "application/vnd.jupyter.widget-view+json": {
       "model_id": "",
       "version_major": 2,
       "version_minor": 0
      },
      "text/plain": [
       "HBox(children=(FloatProgress(value=0.0, description='Training', layout=Layout(flex='2'), max=1250.0, style=Pro…"
      ]
     },
     "metadata": {},
     "output_type": "display_data"
    },
    {
     "name": "stdout",
     "output_type": "stream",
     "text": [
      "Epoch 2517: train=8.59503, val=8.67514, took 71.847 s\n",
      "  Validation Found 101728 of 108007, added 5402 (eff 94.19%) (0.27 FP/event)\n",
      "Result epoch:  2517\n",
      "Average Eff:  0\n",
      "Average FP Rate:  0\n"
     ]
    },
    {
     "data": {
      "application/vnd.jupyter.widget-view+json": {
       "model_id": "",
       "version_major": 2,
       "version_minor": 0
      },
      "text/plain": [
       "HBox(children=(FloatProgress(value=0.0, description='Training', layout=Layout(flex='2'), max=1250.0, style=Pro…"
      ]
     },
     "metadata": {},
     "output_type": "display_data"
    },
    {
     "name": "stdout",
     "output_type": "stream",
     "text": [
      "Epoch 2518: train=8.59067, val=8.68265, took 70.965 s\n",
      "  Validation Found 101733 of 108007, added 5409 (eff 94.19%) (0.27 FP/event)\n",
      "Result epoch:  2518\n",
      "Average Eff:  0\n",
      "Average FP Rate:  0\n"
     ]
    },
    {
     "data": {
      "application/vnd.jupyter.widget-view+json": {
       "model_id": "eabd53bb1ac7439abc82695a4a6a2c9e",
       "version_major": 2,
       "version_minor": 0
      },
      "text/plain": [
       "HBox(children=(FloatProgress(value=0.0, description='Training', layout=Layout(flex='2'), max=1250.0, style=Pro…"
      ]
     },
     "metadata": {},
     "output_type": "display_data"
    }
   ],
   "source": [
    "avgEff=0\n",
    "avgFP=0\n",
    "print('for model: ', model)   \n",
    "run_name = 'ACN_3_P_10L_4S_BN (P6)'\n",
    "# Create an mlflow run\n",
    "with mlflow.start_run(run_name=run_name) as run:\n",
    "    # Log parameters of the model\n",
    "    for key, value in vars(args).items():\n",
    "        print(key, value)\n",
    "        mlflow.log_param(key, value)\n",
    "    \n",
    "    # Log parameter count in the model\n",
    "    mlflow.log_param('Parameters', count_parameters(model))\n",
    "    \n",
    "    # Begin run\n",
    "    for result in trainNet(model, optimizer, loss,\n",
    "                            train_loader, val_loader,\n",
    "                            args.epochs+args.epoch_start, epoch_start=args.epoch_start,\n",
    "                            notebook=True, device=device):\n",
    "\n",
    "        result = result._asdict()\n",
    "        results = results.append(pd.Series(result), ignore_index=True)\n",
    "    \n",
    "        xs = results.index\n",
    "    \n",
    "        # Update the plot above\n",
    "        lines['train'].set_data(results.index,results.cost)\n",
    "        lines['val'].set_data(results.index,results.val)\n",
    "    \n",
    "        #filter first cost epoch (can be really large)\n",
    "        max_cost = max(max(results.cost if len(results.cost)<2 else results.cost[1:]), max(results.val))\n",
    "        min_cost = min(min(results.cost), min(results.val))\n",
    "    \n",
    "        # The plot limits need updating too\n",
    "        ax.set_ylim(min_cost*.9, max_cost*1.1)  \n",
    "        ax.set_xlim(-.5, len(results.cost) - .5)\n",
    "    \n",
    "        replace_in_ax(lax, lines['eff'], xs, results['eff_val'].apply(lambda x: x.eff_rate))\n",
    "        replace_in_ax(tax, lines['fp'], xs, results['eff_val'].apply(lambda x: x.fp_rate))\n",
    "    \n",
    "        # Redraw the figure\n",
    "        fig.canvas.draw()\n",
    "            \n",
    "        ## MLFLOW ##\n",
    "        # Log metrics\n",
    "        mlflow.log_metric('Efficiency', result['eff_val'].eff_rate, result['epoch'])\n",
    "        mlflow.log_metric('False Positive Rate',  result['eff_val'].fp_rate, result['epoch'])\n",
    "        mlflow.log_metric('Validation Loss',  result['val'], result['epoch'])\n",
    "        mlflow.log_metric('Training Loss',  result['cost'], result['epoch'])\n",
    "        \n",
    "        print('Result epoch: ', result['epoch'])\n",
    "        if(result['epoch'] >= args.epochs + args.epoch_start - 10):\n",
    "            avgEff += result['eff_val'].eff_rate\n",
    "            avgFP += result['eff_val'].fp_rate\n",
    "           \n",
    "        if(result['epoch'] == args.epochs + args.epoch_start - 1):\n",
    "            print('Averaging...\\n')\n",
    "            avgEff /= 10\n",
    "            avgFP /= 10\n",
    "            mlflow.log_metric('10 Efficiency Average', avgEff)\n",
    "            mlflow.log_metric('10 False Positive Average', avgFP)\n",
    "            \n",
    "        print('Average Eff: ', avgEff)\n",
    "        print('Average FP Rate: ', avgFP)\n",
    "            \n",
    "        # Log tags\n",
    "#        mlflow.set_tag('Optimizer', 'Adam')\n",
    "#        mlflow.set_tag('Kernel size', 'Mixed')\n",
    "#        mlflow.set_tag('Skip connections', '4')\n",
    "#        mlflow.set_tag('Activation', 'Softplus')\n",
    "#        mlflow.set_tag('Mid Activation', 'Relu')\n",
    "        mlflow.set_tag('Asymmetry', '2.5')\n",
    "        mlflow.set_tag('KDE', 'Poca')\n",
    "\n",
    "        # Save model state dictionary, optimizer state dictionary, and epoch number\n",
    "        torch.save({\n",
    "            'model':model.state_dict(),\n",
    "            'optimizer':optimizer.state_dict(),\n",
    "            'epoch':args.epochs+result['epoch']\n",
    "            }, 'run_stats.pyt')\n",
    "        # Save the run stats into mlflow\n",
    "        mlflow.log_artifact('run_stats.pyt')\n",
    "            \n",
    "        # Save a diagram of the architecture\n",
    "#        HL.transforms.Fold(\"Conv\", \"Conv\"),\n",
    "#        HL.build_graph(model, torch.zeros([args.batch_size, 1, 4000]).to(device)).save('architecture', format='png')\n",
    "#        mlflow.log_artifact('architecture.png')\n",
    "        \n",
    "        # log the code for the model architecture\n",
    "#        mlflow.log_artifact('architecture.txt')\n",
    "        \n",
    "    dual_train_plots(results.index,\n",
    "                 results.cost, results.val, \n",
    "                 results['eff_val'].apply(lambda x: x.eff_rate),\n",
    "                 results['eff_val'].apply(lambda x: x.fp_rate))\n",
    "    # save plot\n",
    "    plt.tight_layout()\n",
    "    plt.savefig('plot.png')\n",
    "    mlflow.log_artifact('plot.png')"
   ]
  },
  {
   "cell_type": "code",
   "execution_count": null,
   "metadata": {},
   "outputs": [],
   "source": [
    "##quit()"
   ]
  }
 ],
 "metadata": {
  "kernelspec": {
   "display_name": "goofit-june2020",
   "language": "python",
   "name": "goofit-june2020"
  },
  "language_info": {
   "codemirror_mode": {
    "name": "ipython",
    "version": 3
   },
   "file_extension": ".py",
   "mimetype": "text/x-python",
   "name": "python",
   "nbconvert_exporter": "python",
   "pygments_lexer": "ipython3",
   "version": "3.7.6"
  }
 },
 "nbformat": 4,
 "nbformat_minor": 2
}
