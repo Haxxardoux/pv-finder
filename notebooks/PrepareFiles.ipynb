{
 "cells": [
  {
   "cell_type": "code",
   "execution_count": null,
   "metadata": {},
   "outputs": [],
   "source": [
    "import sys\n",
    "sys.path.append('../model')"
   ]
  },
  {
   "cell_type": "code",
   "execution_count": null,
   "metadata": {},
   "outputs": [],
   "source": [
    "import numpy as np\n",
    "from origdata import process_root_file\n",
    "from tqdm import tqdm_notebook as progress_bar\n",
    "from pathlib import Path"
   ]
  },
  {
   "cell_type": "markdown",
   "metadata": {},
   "source": [
    "This is the processor function. It works by making a `mat` array that looks like:\n",
    "\n",
    "    [[-100.3 -100.2 -100.1 -100.   -99.9  -99.8  -99.7]\n",
    "     [-100.2 -100.1 -100.   -99.9  -99.8  -99.7  -99.6]]\n",
    "     \n",
    "This array is the edges of the bins, where `[0,:]` is the lower edge.\n",
    "By simply adding this to a bin number, you can calculate the locations of\n",
    "all element in parallel, for usage in the `cdf` function."
   ]
  },
  {
   "cell_type": "code",
   "execution_count": null,
   "metadata": {},
   "outputs": [],
   "source": [
    "names = '''\n",
    "kernel_20180719\n",
    "kernel_20180720_1\n",
    "kernel_20180720_2\n",
    "'''.split()\n",
    "\n",
    "files = [Path('/data/schreihf/PvFinder') / (name + '.root') for name in names]\n",
    "\n",
    "Xs = []\n",
    "Ys = []\n",
    "\n",
    "for path in progress_bar(files, desc=\"Getting files\", dynamic_ncols=True):\n",
    "    X, Y = process_root_file(path, notebook=True)\n",
    "    Xs.append(X)\n",
    "    Ys.append(Y)\n",
    "    "
   ]
  },
  {
   "cell_type": "code",
   "execution_count": null,
   "metadata": {},
   "outputs": [],
   "source": [
    "%%time\n",
    "X = np.concatenate(Xs)\n",
    "Y = np.concatenate(Ys, 1)"
   ]
  },
  {
   "cell_type": "code",
   "execution_count": null,
   "metadata": {},
   "outputs": [],
   "source": [
    "%%time\n",
    "np.savez_compressed('/data/schreihf/PvFinder/Aug_10_30000.npz', X=X, pv=Y[0], sv=Y[2], pv_other=Y[1], sv_other=Y[3])"
   ]
  }
 ],
 "metadata": {
  "kernelspec": {
   "display_name": "Python 3",
   "language": "python",
   "name": "python3"
  },
  "language_info": {
   "codemirror_mode": {
    "name": "ipython",
    "version": 3
   },
   "file_extension": ".py",
   "mimetype": "text/x-python",
   "name": "python",
   "nbconvert_exporter": "python",
   "pygments_lexer": "ipython3",
   "version": "3.6.4"
  }
 },
 "nbformat": 4,
 "nbformat_minor": 2
}
