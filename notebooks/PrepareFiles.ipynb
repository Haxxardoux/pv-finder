{
 "cells": [
  {
   "cell_type": "code",
   "execution_count": 1,
   "metadata": {},
   "outputs": [],
   "source": [
    "import uproot\n",
    "import numpy as np\n",
    "from scipy.stats import norm\n",
    "from tqdm import tqdm as progress_bar\n",
    "from pathlib import Path"
   ]
  },
  {
   "cell_type": "markdown",
   "metadata": {},
   "source": [
    "This is the processor function. It works by making a `mat` array that looks like:\n",
    "\n",
    "    [[-100.3 -100.2 -100.1 -100.   -99.9  -99.8  -99.7]\n",
    "     [-100.2 -100.1 -100.   -99.9  -99.8  -99.7  -99.6]]\n",
    "     \n",
    "This array is the edges of the bins, where `[0,:]` is the lower edge.\n",
    "By simply adding this to a bin number, you can calculate the locations of\n",
    "all element in parallel, for usage in the `cdf` function."
   ]
  },
  {
   "cell_type": "code",
   "execution_count": 7,
   "metadata": {},
   "outputs": [],
   "source": [
    "def proc(name, sd_1 = 0.1, in_dir = Path('/data/schreihf/PvFinder')):\n",
    "    filename = in_dir / (name + '.root')\n",
    "    print(\"Loading\", filename)\n",
    "    tree = uproot.open(str(filename))['kernel']\n",
    "         \n",
    "    X = tree['zdata'].array()\n",
    "    pv_loc = tree['pv_loc'].array()\n",
    "    pv_cat = tree['pv_cat'].array()\n",
    "    #sv_loc = tree['sv_loc'].array()\n",
    "    #sv_cat = tree['sv_cat'].array()\n",
    "    \n",
    "    N_vals = len(X)\n",
    "    zvals_range = (-99.95, 299.95)\n",
    "    Y = np.zeros([N_vals, 4000])\n",
    "    edges = np.array([-0.05, 0.05])\n",
    "    bins = np.arange(-3, 4)\n",
    "    mat = 0.1*bins[np.newaxis,:] + edges[:,np.newaxis] - 99.95\n",
    "\n",
    "    for i in progress_bar(range(N_vals), desc=name):\n",
    "        # Centers of PVs\n",
    "        pv_1 = pv_loc[i][pv_cat[i]==1]\n",
    "        pv_1 = pv_1[(zvals_range[0] < pv_1) & (pv_1 < zvals_range[1])]\n",
    "        \n",
    "        for mean in pv_1:\n",
    "            # Compute bin number\n",
    "            N_bin = int(round((mean - zvals_range[0])*10))\n",
    "            prob = norm(mean, sd_1)\n",
    "                \n",
    "            values = prob.cdf(N_bin/10 + mat)\n",
    "            Y[i,bins + N_bin] += values[1] - values[0] \n",
    "                \n",
    "    return X, Y"
   ]
  },
  {
   "cell_type": "code",
   "execution_count": 10,
   "metadata": {},
   "outputs": [
    {
     "name": "stdout",
     "output_type": "stream",
     "text": [
      "Loading /data/schreihf/PvFinder/kernel_20180509.root\n"
     ]
    },
    {
     "name": "stderr",
     "output_type": "stream",
     "text": [
      "kernel_20180509: 100%|██████████| 5000/5000 [00:20<00:00, 246.12it/s]\n"
     ]
    },
    {
     "name": "stdout",
     "output_type": "stream",
     "text": [
      "Loading /data/schreihf/PvFinder/kernel_20180510.root\n"
     ]
    },
    {
     "name": "stderr",
     "output_type": "stream",
     "text": [
      "kernel_20180510: 100%|██████████| 10000/10000 [00:40<00:00, 246.58it/s]\n"
     ]
    },
    {
     "name": "stdout",
     "output_type": "stream",
     "text": [
      "Loading /data/schreihf/PvFinder/kernel_20180515.root\n"
     ]
    },
    {
     "name": "stderr",
     "output_type": "stream",
     "text": [
      "kernel_20180515: 100%|██████████| 10000/10000 [00:41<00:00, 241.43it/s]\n"
     ]
    },
    {
     "name": "stdout",
     "output_type": "stream",
     "text": [
      "Loading /data/schreihf/PvFinder/kernel_20180516.root\n"
     ]
    },
    {
     "name": "stderr",
     "output_type": "stream",
     "text": [
      "kernel_20180516: 100%|██████████| 10000/10000 [00:40<00:00, 245.45it/s]\n"
     ]
    },
    {
     "name": "stdout",
     "output_type": "stream",
     "text": [
      "Loading /data/schreihf/PvFinder/kernel_20180522.root\n"
     ]
    },
    {
     "name": "stderr",
     "output_type": "stream",
     "text": [
      "kernel_20180522: 100%|██████████| 10000/10000 [00:40<00:00, 247.31it/s]\n"
     ]
    },
    {
     "name": "stdout",
     "output_type": "stream",
     "text": [
      "Loading /data/schreihf/PvFinder/kernel_20180719.root\n"
     ]
    },
    {
     "name": "stderr",
     "output_type": "stream",
     "text": [
      "kernel_20180719: 100%|██████████| 10000/10000 [00:40<00:00, 246.82it/s]\n"
     ]
    },
    {
     "name": "stdout",
     "output_type": "stream",
     "text": [
      "Loading /data/schreihf/PvFinder/kernel_20180720_1.root\n"
     ]
    },
    {
     "name": "stderr",
     "output_type": "stream",
     "text": [
      "kernel_20180720_1: 100%|██████████| 10000/10000 [00:40<00:00, 248.24it/s]\n"
     ]
    },
    {
     "name": "stdout",
     "output_type": "stream",
     "text": [
      "Loading /data/schreihf/PvFinder/kernel_20180720_2.root\n"
     ]
    },
    {
     "name": "stderr",
     "output_type": "stream",
     "text": [
      "kernel_20180720_2: 100%|██████████| 10000/10000 [00:40<00:00, 246.88it/s]\n"
     ]
    }
   ],
   "source": [
    "names = '''\n",
    "kernel_20180509\n",
    "kernel_20180510\n",
    "kernel_20180515\n",
    "kernel_20180516\n",
    "kernel_20180522\n",
    "kernel_20180719\n",
    "kernel_20180720_1\n",
    "kernel_20180720_2\n",
    "'''.split()\n",
    "\n",
    "Xs = []\n",
    "Ys = []\n",
    "\n",
    "for name in names:\n",
    "    X, Y = proc(name)\n",
    "    Xs.append(X)\n",
    "    Ys.append(Y)\n",
    "    \n",
    "X = np.concatenate(Xs)\n",
    "Y = np.concatenate(Ys)"
   ]
  },
  {
   "cell_type": "code",
   "execution_count": 11,
   "metadata": {},
   "outputs": [],
   "source": [
    "np.savez_compressed('/data/schreihf/PvFinder/July_31_75000.npz', X=X, Y=Y)"
   ]
  },
  {
   "cell_type": "code",
   "execution_count": 12,
   "metadata": {},
   "outputs": [
    {
     "data": {
      "text/plain": [
       "((75000, 4000), (75000, 4000))"
      ]
     },
     "execution_count": 12,
     "metadata": {},
     "output_type": "execute_result"
    }
   ],
   "source": [
    "X.shape, Y.shape"
   ]
  }
 ],
 "metadata": {
  "kernelspec": {
   "display_name": "Python 3",
   "language": "python",
   "name": "python3"
  },
  "language_info": {
   "codemirror_mode": {
    "name": "ipython",
    "version": 3
   },
   "file_extension": ".py",
   "mimetype": "text/x-python",
   "name": "python",
   "nbconvert_exporter": "python",
   "pygments_lexer": "ipython3",
   "version": "3.6.4"
  }
 },
 "nbformat": 4,
 "nbformat_minor": 2
}
