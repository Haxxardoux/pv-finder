{
 "cells": [
  {
   "cell_type": "code",
   "execution_count": 1,
   "metadata": {},
   "outputs": [],
   "source": [
    "##%matplotlib widget\n",
    "## with %matplotlib notebook: seems to require ipympl as part of environment, either\n",
    "## part of the conda environment or \"pip install ipympl\"\n",
    "## otherwise, does not show ANY plots in notebook, plt.savefig() works\n",
    "%matplotlib notebook  \n",
    "##%matplotlib inline    ## --plt.savefig()  works, but re-sizing does NOT"
   ]
  },
  {
   "cell_type": "markdown",
   "metadata": {},
   "source": [
    "This notebook is a short demo to illustrate execution.   For odd historical reasons, it uses \"toy Monte Carlo\" (simulated data)for \"training\" and \"full LHCB MC\" for validation.\n",
    "\n",
    "The network architecture is a \"simple\" model that uses 1 input channel (the KDE [kernel density estimator] but from the track parameters) feeding 5 convolutional layers followed by a fully connected layer.\n",
    "\n",
    "In today's version, the network will start with weights from a previously trained version.\n",
    " "
   ]
  },
  {
   "cell_type": "markdown",
   "metadata": {},
   "source": [
    "Check the current GPU usage. Please try to be nice!"
   ]
  },
  {
   "cell_type": "code",
   "execution_count": 2,
   "metadata": {
    "scrolled": true
   },
   "outputs": [
    {
     "name": "stdout",
     "output_type": "stream",
     "text": [
      "Tue Mar 30 14:25:58 2021       \n",
      "+-----------------------------------------------------------------------------+\n",
      "| NVIDIA-SMI 440.64.00    Driver Version: 440.64.00    CUDA Version: 10.2     |\n",
      "|-------------------------------+----------------------+----------------------+\n",
      "| GPU  Name        Persistence-M| Bus-Id        Disp.A | Volatile Uncorr. ECC |\n",
      "| Fan  Temp  Perf  Pwr:Usage/Cap|         Memory-Usage | GPU-Util  Compute M. |\n",
      "|===============================+======================+======================|\n",
      "|   0  TITAN V             Off  | 00000000:03:00.0 Off |                  N/A |\n",
      "| 20%   35C    P0    32W / 250W |      0MiB / 12066MiB |      0%      Default |\n",
      "+-------------------------------+----------------------+----------------------+\n",
      "|   1  Tesla P100-PCIE...  Off  | 00000000:83:00.0 Off |                    0 |\n",
      "| N/A   32C    P0    33W / 250W |      0MiB / 16280MiB |      0%      Default |\n",
      "+-------------------------------+----------------------+----------------------+\n",
      "|   2  TITAN V             Off  | 00000000:84:00.0 Off |                  N/A |\n",
      "| 22%   37C    P0    34W / 250W |      0MiB / 12066MiB |      0%      Default |\n",
      "+-------------------------------+----------------------+----------------------+\n",
      "                                                                               \n",
      "+-----------------------------------------------------------------------------+\n",
      "| Processes:                                                       GPU Memory |\n",
      "|  GPU       PID   Type   Process name                             Usage      |\n",
      "|=============================================================================|\n",
      "|  No running processes found                                                 |\n",
      "+-----------------------------------------------------------------------------+\n"
     ]
    }
   ],
   "source": [
    "!nvidia-smi"
   ]
  },
  {
   "cell_type": "markdown",
   "metadata": {},
   "source": [
    "> **WARNING**: The card numbers here are *not* the same as in CUDA. You have been warned."
   ]
  },
  {
   "cell_type": "markdown",
   "metadata": {},
   "source": [
    "## Imports"
   ]
  },
  {
   "cell_type": "code",
   "execution_count": 3,
   "metadata": {
    "scrolled": false
   },
   "outputs": [
    {
     "name": "stderr",
     "output_type": "stream",
     "text": [
      "/data/conda/envs/goofit-june2020/lib/python3.7/site-packages/awkward/__init__.py:23: DeprecationWarning: Consider switching from 'awkward' to 'awkward1', since the new interface will become the default later this year (2020).\n",
      "\n",
      "    pip install -U awkward1\n",
      "\n",
      "In Python:\n",
      "\n",
      "    >>> import awkward1 as ak\n",
      "    >>> new_style_array = ak.from_awkward0(old_style_array)\n",
      "    >>> old_style_array = ak.to_awkward0(new_style_array)\n",
      "\n",
      "  DeprecationWarning\n"
     ]
    }
   ],
   "source": [
    "import matplotlib.pyplot as plt\n",
    "import numpy as np\n",
    "import time\n",
    "import torch\n",
    "import pandas as pd\n",
    "import mlflow\n",
    "\n",
    "# Python 3 standard library\n",
    "from pathlib import Path\n",
    "\n",
    "from torchsummary import summary\n",
    "\n",
    "'''\n",
    "HELPER FUNCTIONS\n",
    "'''\n",
    "# From model/collectdata.py\n",
    "from model.collectdata_mdsA import collect_data\n",
    "# For poca KDE\n",
    "from model.collectdata_poca_KDE import collect_data_poca\n",
    "\n",
    "# From model/loss.py\n",
    "##from loss import Loss\n",
    "from model.alt_loss_A import Loss\n",
    "\n",
    "# From model/training.py\n",
    "from model.training import trainNet, select_gpu, Results\n",
    "\n",
    "# From model/models.py\n",
    "##  will start with model from TwoFeatures_CNN6Layer_A in the first instance\n",
    "##  see relevant cell below\n",
    "\n",
    "from model.models_mjp_19November20 import ThreeFeature_6Layer_XYPretrain_A as ModelA\n",
    "from model.models_mjp_19November20 import ThreeFeature_6Layer_XYPretrain_E as ModelE\n",
    "from model.models_mjp_19November20 import ThreeFeature_8Layer_XYPretrain_W as ModelW\n",
    "from model.models_mjp_26December20 import ThreeFeature_10Layer_XYPretrain_X as ModelX\n",
    "from model.models_mjp_26December20 import ThreeFeature_8Layer_XYPretrain_Y as ModelY\n",
    "from model.models_mjp_30Jan21_AllCNN import ACN_3_P_10L_4S_BN as ModelXX\n",
    "\n",
    "# From model/utilities.py\n",
    "from model.utilities import load_full_state, count_parameters, Params\n",
    "\n",
    "from model.plots import dual_train_plots, replace_in_ax\n",
    "\n",
    "## adds image of model architecture\n",
    "import hiddenlayer as HL"
   ]
  },
  {
   "cell_type": "markdown",
   "metadata": {},
   "source": [
    "Set up Torch device configuration. All tensors and model parameters need to know where to be put.\n",
    "This takes a BUS ID number: The BUS ID is the same as the listing at the top of this script."
   ]
  },
  {
   "cell_type": "code",
   "execution_count": 4,
   "metadata": {},
   "outputs": [
    {
     "name": "stdout",
     "output_type": "stream",
     "text": [
      "1 available GPUs (initially using device 0):\n",
      "  0 TITAN V\n"
     ]
    },
    {
     "name": "stderr",
     "output_type": "stream",
     "text": [
      "/data/conda/envs/goofit-june2020/lib/python3.7/site-packages/ipykernel/ipkernel.py:287: DeprecationWarning: `should_run_async` will not call `transform_cell` automatically in the future. Please pass the result to `transformed_cell` argument and any exception that happen during thetransform in `preprocessing_exc_tuple` in IPython 7.17 and above.\n",
      "  and should_run_async(code)\n"
     ]
    }
   ],
   "source": [
    "device = select_gpu(0)"
   ]
  },
  {
   "cell_type": "markdown",
   "metadata": {},
   "source": [
    "### Set up local parameters"
   ]
  },
  {
   "cell_type": "code",
   "execution_count": 5,
   "metadata": {},
   "outputs": [],
   "source": [
    "# params order - batch size, epochs, lr, epoch_start (which is usually set to 0)\n",
    "args = Params(128, 1500, 1e-7, 1720)"
   ]
  },
  {
   "cell_type": "markdown",
   "metadata": {},
   "source": [
    "## Loading data\n",
    "\n",
    "Load the dataset, split into parts, then move to device (see `collectdata.py` in the `../model` directory)"
   ]
  },
  {
   "cell_type": "code",
   "execution_count": 6,
   "metadata": {
    "scrolled": true
   },
   "outputs": [
    {
     "name": "stdout",
     "output_type": "stream",
     "text": [
      "Loading data...\n",
      "Loaded /share/lazy/will/data/June30_2020_80k_1.h5 in 31.13 s\n",
      "Loaded /share/lazy/will/data/June30_2020_80k_3.h5 in 29.79 s\n",
      "Constructing 160000 event dataset took 1.436 s\n",
      "Loading data...\n",
      "Loaded /share/lazy/sokoloff/ML-data_AA/20K_POCA_kernel_evts_200926.h5 in 7.443 s\n",
      "Constructing 20000 event dataset took 0.1873 s\n"
     ]
    }
   ],
   "source": [
    "## newer vernacular\n",
    "## Training dataset. You can put as many files here as desired.\n",
    "\n",
    "'''\n",
    "## in this DEMO example we use only one 80K training set -- the model starts with well-trained weights,\n",
    "## and using a smaller training set reduces both the time to load the data and the time to train an epoch\n",
    "##  set the option load_XandXsq = True to use both DKE and KDE^2 as input features\n",
    "train_loader = collect_data('/share/lazy/sokoloff/ML-data_A/Aug14_80K_train.h5',\n",
    "                             '/share/lazy/sokoloff/ML-data_AA/Oct03_80K_train.h5',\n",
    "#                             '/share/lazy/sokoloff/ML-data_AA/Oct03_40K_train.h5',\n",
    "                             '/share/lazy/will/ML_mdsA/June30_2020_80k_1.h5',\n",
    "                             '/share/lazy/will/ML_mdsA/June30_2020_80k_3.h5',\n",
    "#                             '/share/lazy/will/ML_mdsA/June30_2020_80k_4.h5',\n",
    "#                             '/share/lazy/will/ML_mdsA/June30_2020_80k_5.h5',\n",
    "#                             '/share/lazy/will/ML_mdsA/June30_2020_80k_6.h5',\n",
    "#                             '/share/lazy/will/ML_mdsA/June30_2020_80k_7.h5',\n",
    "#                             '/share/lazy/will/ML_mdsA/June30_2020_80k_8.h5',\n",
    "#                             '/share/lazy/will/ML_mdsA/June30_2020_80k_9.h5',\n",
    "                            #'/share/lazy/sokoloff/ML-data_AA/Oct03_80K2_train.h5',\n",
    "                             batch_size=args.batch_size,\n",
    "## if we are using a larger dataset (240K events, with the datasets above, and 11 GB  of GPU memory),\n",
    "## not the dataset will overflow the GPU memory; device=device will allow the data to move back\n",
    "## and forth between the CPU and GPU memory. While this allows use of a larger dataset, it slows\n",
    "## down performance by about 10%.  So comment out when not needed.\n",
    "## \n",
    "                            #device=device,\n",
    "                            masking=True, shuffle=True,\n",
    "                            load_XandXsq=True,\n",
    "                            load_xy=True)\n",
    "\n",
    "# Validation dataset. You can slice to reduce the size.\n",
    "## dataAA -> /share/lazy/sokoloff/ML-data_AA/\n",
    "val_loader = collect_data('/share/lazy/sokoloff/ML-data_AA/Oct03_20K_val.h5',\n",
    "## mds val_loader = collect_data('dataAA/HLT1CPU_1kevts_val.h5',\n",
    "\n",
    "                          batch_size=args.batch_size,\n",
    "                          slice=slice(256 * 39),\n",
    "                          #device=device,\n",
    "                          masking=True, shuffle=False,\n",
    "                          load_XandXsq=True,\n",
    "                          load_xy=True)\n",
    "'''\n",
    "\n",
    "## This is used when training with the new KDE\n",
    "train_loader = collect_data_poca('/share/lazy/will/data/June30_2020_80k_1.h5',\n",
    "                            '/share/lazy/will/data/June30_2020_80k_3.h5',\n",
    "                            batch_size=args.batch_size,\n",
    "                            #device=device,\n",
    "                            masking=True, shuffle=True,\n",
    "                            load_XandXsq=True,\n",
    "                            load_xy=True,\n",
    "                           ## slice = slice(0,18000)\n",
    "                           )\n",
    "\n",
    "val_loader = collect_data_poca('/share/lazy/sokoloff/ML-data_AA/20K_POCA_kernel_evts_200926.h5',\n",
    "                            batch_size=args.batch_size,\n",
    "                            #device=device,\n",
    "                            masking=True, shuffle=True,\n",
    "                            load_XandXsq=True,\n",
    "                            load_xy=True,\n",
    "                            ##slice = slice(18000,None)\n",
    "                           )"
   ]
  },
  {
   "cell_type": "markdown",
   "metadata": {},
   "source": [
    "# Preparing the model"
   ]
  },
  {
   "cell_type": "markdown",
   "metadata": {},
   "source": [
    "Prepare a model, use multiple GPUs if they are VISIBLE, and move the model to the device."
   ]
  },
  {
   "cell_type": "code",
   "execution_count": 7,
   "metadata": {
    "scrolled": true
   },
   "outputs": [
    {
     "name": "stderr",
     "output_type": "stream",
     "text": [
      "WARNING:root:Malformed experiment 'ML'. Detailed error Yaml file '/share/lazy/pv-finder_model_repo/ML/meta.yaml' does not exist.\n",
      "Traceback (most recent call last):\n",
      "  File \"/home/michael24peters/.local/lib/python3.7/site-packages/mlflow/store/tracking/file_store.py\", line 197, in list_experiments\n",
      "    experiment = self._get_experiment(exp_id, view_type)\n",
      "  File \"/home/michael24peters/.local/lib/python3.7/site-packages/mlflow/store/tracking/file_store.py\", line 260, in _get_experiment\n",
      "    meta = read_yaml(experiment_dir, FileStore.META_DATA_FILE_NAME)\n",
      "  File \"/home/michael24peters/.local/lib/python3.7/site-packages/mlflow/utils/file_utils.py\", line 167, in read_yaml\n",
      "    raise MissingConfigException(\"Yaml file '%s' does not exist.\" % file_path)\n",
      "mlflow.exceptions.MissingConfigException: Yaml file '/share/lazy/pv-finder_model_repo/ML/meta.yaml' does not exist.\n"
     ]
    }
   ],
   "source": [
    "model = ModelXX()\n",
    "\n",
    "#summary(model.to(device), (1, 4000))\n",
    "\n",
    "mlflow.tracking.set_tracking_uri('file:/share/lazy/pv-finder_model_repo')\n",
    "mlflow.set_experiment('Four Feature AllCNN')"
   ]
  },
  {
   "cell_type": "code",
   "execution_count": 8,
   "metadata": {
    "scrolled": true
   },
   "outputs": [
    {
     "name": "stdout",
     "output_type": "stream",
     "text": [
      "Let's use 1 GPUs!\n"
     ]
    }
   ],
   "source": [
    "print(\"Let's use\", torch.cuda.device_count(), \"GPUs!\")\n",
    "if torch.cuda.device_count() > 1:\n",
    "    model = torch.nn.DataParallel(model)"
   ]
  },
  {
   "cell_type": "markdown",
   "metadata": {},
   "source": [
    "Let's move the model's weight matricies to the GPU:"
   ]
  },
  {
   "cell_type": "code",
   "execution_count": 9,
   "metadata": {},
   "outputs": [
    {
     "name": "stdout",
     "output_type": "stream",
     "text": [
      "we also froze 0 weights\n",
      "Of the 36.5 parameter layers to update in the current model, 36.5 were loaded\n"
     ]
    }
   ],
   "source": [
    "##  mds 200121 loss = Loss(epsilon=1e-5,coefficient=1.0)\n",
    "loss = Loss(epsilon=1e-5,coefficient=2.5)\n",
    "optimizer = torch.optim.Adam(model.parameters(), lr=args.lr)\n",
    "\n",
    "##  use the first five layers from a pre-existing model\n",
    "##  see example at https://discuss.pytorch.org/t/how-to-load-part-of-pre-trained-model/1113\n",
    "##   ML -> /share/lazy/sokoloff/ML\n",
    "\n",
    "#path = 'run_stats.pyt'\n",
    "#load_full_state(model, optimizer, path)\n",
    "# For other pretrained models, go to MLFlow and find the path for \"run_stats.pyt\"\n",
    "pretrained_dict = '/share/lazy/pv-finder_model_repo/12/1814a2acb1ad42deaa08684cf5e2b1e4/artifacts/run_stats.pyt'\n",
    "load_full_state(model, optimizer, pretrained_dict, freeze_weights=False)"
   ]
  },
  {
   "cell_type": "markdown",
   "metadata": {},
   "source": [
    "Let's move the model's weight matricies to the GPU:"
   ]
  },
  {
   "cell_type": "code",
   "execution_count": 10,
   "metadata": {
    "scrolled": true
   },
   "outputs": [
    {
     "data": {
      "text/plain": [
       "ACN_3_P_10L_4S_BN(\n",
       "  (conv1): Conv1d(1, 20, kernel_size=(25,), stride=(1,), padding=(12,))\n",
       "  (conv2): Conv1d(20, 10, kernel_size=(15,), stride=(1,), padding=(7,))\n",
       "  (conv3): Conv1d(30, 10, kernel_size=(15,), stride=(1,), padding=(7,))\n",
       "  (conv4): Conv1d(10, 10, kernel_size=(15,), stride=(1,), padding=(7,))\n",
       "  (conv5): Conv1d(20, 10, kernel_size=(15,), stride=(1,), padding=(7,))\n",
       "  (conv6): Conv1d(10, 10, kernel_size=(15,), stride=(1,), padding=(7,))\n",
       "  (conv7): Conv1d(20, 7, kernel_size=(5,), stride=(1,), padding=(2,))\n",
       "  (conv8): Conv1d(7, 3, kernel_size=(5,), stride=(1,), padding=(2,))\n",
       "  (conv9): Conv1d(10, 1, kernel_size=(5,), stride=(1,), padding=(2,))\n",
       "  (finalFilter): Conv1d(1, 1, kernel_size=(91,), stride=(1,), padding=(45,))\n",
       "  (ppConv1): Conv1d(2, 20, kernel_size=(25,), stride=(1,), padding=(12,))\n",
       "  (ppConv2): Conv1d(20, 10, kernel_size=(15,), stride=(1,), padding=(7,))\n",
       "  (ppConv3): Conv1d(10, 1, kernel_size=(15,), stride=(1,), padding=(7,))\n",
       "  (ppFC): Linear(in_features=4000, out_features=4000, bias=True)\n",
       "  (conv1dropout): Dropout(p=0.15, inplace=False)\n",
       "  (conv2dropout): Dropout(p=0.15, inplace=False)\n",
       "  (conv3dropout): Dropout(p=0.15, inplace=False)\n",
       "  (conv4dropout): Dropout(p=0.15, inplace=False)\n",
       "  (conv5dropout): Dropout(p=0.15, inplace=False)\n",
       "  (conv6dropout): Dropout(p=0.15, inplace=False)\n",
       "  (conv7dropout): Dropout(p=0.15, inplace=False)\n",
       "  (conv8dropout): Dropout(p=0.15, inplace=False)\n",
       "  (conv9dropout): Dropout(p=0.15, inplace=False)\n",
       "  (bn1): BatchNorm1d(20, eps=1e-05, momentum=0.1, affine=True, track_running_stats=True)\n",
       "  (bn2): BatchNorm1d(10, eps=1e-05, momentum=0.1, affine=True, track_running_stats=True)\n",
       "  (bn3): BatchNorm1d(10, eps=1e-05, momentum=0.1, affine=True, track_running_stats=True)\n",
       "  (bn4): BatchNorm1d(10, eps=1e-05, momentum=0.1, affine=True, track_running_stats=True)\n",
       "  (bn5): BatchNorm1d(10, eps=1e-05, momentum=0.1, affine=True, track_running_stats=True)\n",
       "  (bn6): BatchNorm1d(10, eps=1e-05, momentum=0.1, affine=True, track_running_stats=True)\n",
       "  (bn7): BatchNorm1d(7, eps=1e-05, momentum=0.1, affine=True, track_running_stats=True)\n",
       "  (bn8): BatchNorm1d(3, eps=1e-05, momentum=0.1, affine=True, track_running_stats=True)\n",
       "  (bn9): BatchNorm1d(1, eps=1e-05, momentum=0.1, affine=True, track_running_stats=True)\n",
       ")"
      ]
     },
     "execution_count": 10,
     "metadata": {},
     "output_type": "execute_result"
    }
   ],
   "source": [
    "model.to(device)"
   ]
  },
  {
   "cell_type": "markdown",
   "metadata": {},
   "source": [
    "## Train \n",
    "\n",
    "\n",
    "\n",
    "The body of this loop runs once per epoch. Results is a named tuple of values (loss per epoch for training and validation, time each). Start by setting up a plot first:"
   ]
  },
  {
   "cell_type": "code",
   "execution_count": 11,
   "metadata": {
    "scrolled": true
   },
   "outputs": [
    {
     "data": {
      "application/javascript": [
       "/* Put everything inside the global mpl namespace */\n",
       "window.mpl = {};\n",
       "\n",
       "\n",
       "mpl.get_websocket_type = function() {\n",
       "    if (typeof(WebSocket) !== 'undefined') {\n",
       "        return WebSocket;\n",
       "    } else if (typeof(MozWebSocket) !== 'undefined') {\n",
       "        return MozWebSocket;\n",
       "    } else {\n",
       "        alert('Your browser does not have WebSocket support. ' +\n",
       "              'Please try Chrome, Safari or Firefox ≥ 6. ' +\n",
       "              'Firefox 4 and 5 are also supported but you ' +\n",
       "              'have to enable WebSockets in about:config.');\n",
       "    };\n",
       "}\n",
       "\n",
       "mpl.figure = function(figure_id, websocket, ondownload, parent_element) {\n",
       "    this.id = figure_id;\n",
       "\n",
       "    this.ws = websocket;\n",
       "\n",
       "    this.supports_binary = (this.ws.binaryType != undefined);\n",
       "\n",
       "    if (!this.supports_binary) {\n",
       "        var warnings = document.getElementById(\"mpl-warnings\");\n",
       "        if (warnings) {\n",
       "            warnings.style.display = 'block';\n",
       "            warnings.textContent = (\n",
       "                \"This browser does not support binary websocket messages. \" +\n",
       "                    \"Performance may be slow.\");\n",
       "        }\n",
       "    }\n",
       "\n",
       "    this.imageObj = new Image();\n",
       "\n",
       "    this.context = undefined;\n",
       "    this.message = undefined;\n",
       "    this.canvas = undefined;\n",
       "    this.rubberband_canvas = undefined;\n",
       "    this.rubberband_context = undefined;\n",
       "    this.format_dropdown = undefined;\n",
       "\n",
       "    this.image_mode = 'full';\n",
       "\n",
       "    this.root = $('<div/>');\n",
       "    this._root_extra_style(this.root)\n",
       "    this.root.attr('style', 'display: inline-block');\n",
       "\n",
       "    $(parent_element).append(this.root);\n",
       "\n",
       "    this._init_header(this);\n",
       "    this._init_canvas(this);\n",
       "    this._init_toolbar(this);\n",
       "\n",
       "    var fig = this;\n",
       "\n",
       "    this.waiting = false;\n",
       "\n",
       "    this.ws.onopen =  function () {\n",
       "            fig.send_message(\"supports_binary\", {value: fig.supports_binary});\n",
       "            fig.send_message(\"send_image_mode\", {});\n",
       "            if (mpl.ratio != 1) {\n",
       "                fig.send_message(\"set_dpi_ratio\", {'dpi_ratio': mpl.ratio});\n",
       "            }\n",
       "            fig.send_message(\"refresh\", {});\n",
       "        }\n",
       "\n",
       "    this.imageObj.onload = function() {\n",
       "            if (fig.image_mode == 'full') {\n",
       "                // Full images could contain transparency (where diff images\n",
       "                // almost always do), so we need to clear the canvas so that\n",
       "                // there is no ghosting.\n",
       "                fig.context.clearRect(0, 0, fig.canvas.width, fig.canvas.height);\n",
       "            }\n",
       "            fig.context.drawImage(fig.imageObj, 0, 0);\n",
       "        };\n",
       "\n",
       "    this.imageObj.onunload = function() {\n",
       "        fig.ws.close();\n",
       "    }\n",
       "\n",
       "    this.ws.onmessage = this._make_on_message_function(this);\n",
       "\n",
       "    this.ondownload = ondownload;\n",
       "}\n",
       "\n",
       "mpl.figure.prototype._init_header = function() {\n",
       "    var titlebar = $(\n",
       "        '<div class=\"ui-dialog-titlebar ui-widget-header ui-corner-all ' +\n",
       "        'ui-helper-clearfix\"/>');\n",
       "    var titletext = $(\n",
       "        '<div class=\"ui-dialog-title\" style=\"width: 100%; ' +\n",
       "        'text-align: center; padding: 3px;\"/>');\n",
       "    titlebar.append(titletext)\n",
       "    this.root.append(titlebar);\n",
       "    this.header = titletext[0];\n",
       "}\n",
       "\n",
       "\n",
       "\n",
       "mpl.figure.prototype._canvas_extra_style = function(canvas_div) {\n",
       "\n",
       "}\n",
       "\n",
       "\n",
       "mpl.figure.prototype._root_extra_style = function(canvas_div) {\n",
       "\n",
       "}\n",
       "\n",
       "mpl.figure.prototype._init_canvas = function() {\n",
       "    var fig = this;\n",
       "\n",
       "    var canvas_div = $('<div/>');\n",
       "\n",
       "    canvas_div.attr('style', 'position: relative; clear: both; outline: 0');\n",
       "\n",
       "    function canvas_keyboard_event(event) {\n",
       "        return fig.key_event(event, event['data']);\n",
       "    }\n",
       "\n",
       "    canvas_div.keydown('key_press', canvas_keyboard_event);\n",
       "    canvas_div.keyup('key_release', canvas_keyboard_event);\n",
       "    this.canvas_div = canvas_div\n",
       "    this._canvas_extra_style(canvas_div)\n",
       "    this.root.append(canvas_div);\n",
       "\n",
       "    var canvas = $('<canvas/>');\n",
       "    canvas.addClass('mpl-canvas');\n",
       "    canvas.attr('style', \"left: 0; top: 0; z-index: 0; outline: 0\")\n",
       "\n",
       "    this.canvas = canvas[0];\n",
       "    this.context = canvas[0].getContext(\"2d\");\n",
       "\n",
       "    var backingStore = this.context.backingStorePixelRatio ||\n",
       "\tthis.context.webkitBackingStorePixelRatio ||\n",
       "\tthis.context.mozBackingStorePixelRatio ||\n",
       "\tthis.context.msBackingStorePixelRatio ||\n",
       "\tthis.context.oBackingStorePixelRatio ||\n",
       "\tthis.context.backingStorePixelRatio || 1;\n",
       "\n",
       "    mpl.ratio = (window.devicePixelRatio || 1) / backingStore;\n",
       "\n",
       "    var rubberband = $('<canvas/>');\n",
       "    rubberband.attr('style', \"position: absolute; left: 0; top: 0; z-index: 1;\")\n",
       "\n",
       "    var pass_mouse_events = true;\n",
       "\n",
       "    canvas_div.resizable({\n",
       "        start: function(event, ui) {\n",
       "            pass_mouse_events = false;\n",
       "        },\n",
       "        resize: function(event, ui) {\n",
       "            fig.request_resize(ui.size.width, ui.size.height);\n",
       "        },\n",
       "        stop: function(event, ui) {\n",
       "            pass_mouse_events = true;\n",
       "            fig.request_resize(ui.size.width, ui.size.height);\n",
       "        },\n",
       "    });\n",
       "\n",
       "    function mouse_event_fn(event) {\n",
       "        if (pass_mouse_events)\n",
       "            return fig.mouse_event(event, event['data']);\n",
       "    }\n",
       "\n",
       "    rubberband.mousedown('button_press', mouse_event_fn);\n",
       "    rubberband.mouseup('button_release', mouse_event_fn);\n",
       "    // Throttle sequential mouse events to 1 every 20ms.\n",
       "    rubberband.mousemove('motion_notify', mouse_event_fn);\n",
       "\n",
       "    rubberband.mouseenter('figure_enter', mouse_event_fn);\n",
       "    rubberband.mouseleave('figure_leave', mouse_event_fn);\n",
       "\n",
       "    canvas_div.on(\"wheel\", function (event) {\n",
       "        event = event.originalEvent;\n",
       "        event['data'] = 'scroll'\n",
       "        if (event.deltaY < 0) {\n",
       "            event.step = 1;\n",
       "        } else {\n",
       "            event.step = -1;\n",
       "        }\n",
       "        mouse_event_fn(event);\n",
       "    });\n",
       "\n",
       "    canvas_div.append(canvas);\n",
       "    canvas_div.append(rubberband);\n",
       "\n",
       "    this.rubberband = rubberband;\n",
       "    this.rubberband_canvas = rubberband[0];\n",
       "    this.rubberband_context = rubberband[0].getContext(\"2d\");\n",
       "    this.rubberband_context.strokeStyle = \"#000000\";\n",
       "\n",
       "    this._resize_canvas = function(width, height) {\n",
       "        // Keep the size of the canvas, canvas container, and rubber band\n",
       "        // canvas in synch.\n",
       "        canvas_div.css('width', width)\n",
       "        canvas_div.css('height', height)\n",
       "\n",
       "        canvas.attr('width', width * mpl.ratio);\n",
       "        canvas.attr('height', height * mpl.ratio);\n",
       "        canvas.attr('style', 'width: ' + width + 'px; height: ' + height + 'px;');\n",
       "\n",
       "        rubberband.attr('width', width);\n",
       "        rubberband.attr('height', height);\n",
       "    }\n",
       "\n",
       "    // Set the figure to an initial 600x600px, this will subsequently be updated\n",
       "    // upon first draw.\n",
       "    this._resize_canvas(600, 600);\n",
       "\n",
       "    // Disable right mouse context menu.\n",
       "    $(this.rubberband_canvas).bind(\"contextmenu\",function(e){\n",
       "        return false;\n",
       "    });\n",
       "\n",
       "    function set_focus () {\n",
       "        canvas.focus();\n",
       "        canvas_div.focus();\n",
       "    }\n",
       "\n",
       "    window.setTimeout(set_focus, 100);\n",
       "}\n",
       "\n",
       "mpl.figure.prototype._init_toolbar = function() {\n",
       "    var fig = this;\n",
       "\n",
       "    var nav_element = $('<div/>');\n",
       "    nav_element.attr('style', 'width: 100%');\n",
       "    this.root.append(nav_element);\n",
       "\n",
       "    // Define a callback function for later on.\n",
       "    function toolbar_event(event) {\n",
       "        return fig.toolbar_button_onclick(event['data']);\n",
       "    }\n",
       "    function toolbar_mouse_event(event) {\n",
       "        return fig.toolbar_button_onmouseover(event['data']);\n",
       "    }\n",
       "\n",
       "    for(var toolbar_ind in mpl.toolbar_items) {\n",
       "        var name = mpl.toolbar_items[toolbar_ind][0];\n",
       "        var tooltip = mpl.toolbar_items[toolbar_ind][1];\n",
       "        var image = mpl.toolbar_items[toolbar_ind][2];\n",
       "        var method_name = mpl.toolbar_items[toolbar_ind][3];\n",
       "\n",
       "        if (!name) {\n",
       "            // put a spacer in here.\n",
       "            continue;\n",
       "        }\n",
       "        var button = $('<button/>');\n",
       "        button.addClass('ui-button ui-widget ui-state-default ui-corner-all ' +\n",
       "                        'ui-button-icon-only');\n",
       "        button.attr('role', 'button');\n",
       "        button.attr('aria-disabled', 'false');\n",
       "        button.click(method_name, toolbar_event);\n",
       "        button.mouseover(tooltip, toolbar_mouse_event);\n",
       "\n",
       "        var icon_img = $('<span/>');\n",
       "        icon_img.addClass('ui-button-icon-primary ui-icon');\n",
       "        icon_img.addClass(image);\n",
       "        icon_img.addClass('ui-corner-all');\n",
       "\n",
       "        var tooltip_span = $('<span/>');\n",
       "        tooltip_span.addClass('ui-button-text');\n",
       "        tooltip_span.html(tooltip);\n",
       "\n",
       "        button.append(icon_img);\n",
       "        button.append(tooltip_span);\n",
       "\n",
       "        nav_element.append(button);\n",
       "    }\n",
       "\n",
       "    var fmt_picker_span = $('<span/>');\n",
       "\n",
       "    var fmt_picker = $('<select/>');\n",
       "    fmt_picker.addClass('mpl-toolbar-option ui-widget ui-widget-content');\n",
       "    fmt_picker_span.append(fmt_picker);\n",
       "    nav_element.append(fmt_picker_span);\n",
       "    this.format_dropdown = fmt_picker[0];\n",
       "\n",
       "    for (var ind in mpl.extensions) {\n",
       "        var fmt = mpl.extensions[ind];\n",
       "        var option = $(\n",
       "            '<option/>', {selected: fmt === mpl.default_extension}).html(fmt);\n",
       "        fmt_picker.append(option);\n",
       "    }\n",
       "\n",
       "    // Add hover states to the ui-buttons\n",
       "    $( \".ui-button\" ).hover(\n",
       "        function() { $(this).addClass(\"ui-state-hover\");},\n",
       "        function() { $(this).removeClass(\"ui-state-hover\");}\n",
       "    );\n",
       "\n",
       "    var status_bar = $('<span class=\"mpl-message\"/>');\n",
       "    nav_element.append(status_bar);\n",
       "    this.message = status_bar[0];\n",
       "}\n",
       "\n",
       "mpl.figure.prototype.request_resize = function(x_pixels, y_pixels) {\n",
       "    // Request matplotlib to resize the figure. Matplotlib will then trigger a resize in the client,\n",
       "    // which will in turn request a refresh of the image.\n",
       "    this.send_message('resize', {'width': x_pixels, 'height': y_pixels});\n",
       "}\n",
       "\n",
       "mpl.figure.prototype.send_message = function(type, properties) {\n",
       "    properties['type'] = type;\n",
       "    properties['figure_id'] = this.id;\n",
       "    this.ws.send(JSON.stringify(properties));\n",
       "}\n",
       "\n",
       "mpl.figure.prototype.send_draw_message = function() {\n",
       "    if (!this.waiting) {\n",
       "        this.waiting = true;\n",
       "        this.ws.send(JSON.stringify({type: \"draw\", figure_id: this.id}));\n",
       "    }\n",
       "}\n",
       "\n",
       "\n",
       "mpl.figure.prototype.handle_save = function(fig, msg) {\n",
       "    var format_dropdown = fig.format_dropdown;\n",
       "    var format = format_dropdown.options[format_dropdown.selectedIndex].value;\n",
       "    fig.ondownload(fig, format);\n",
       "}\n",
       "\n",
       "\n",
       "mpl.figure.prototype.handle_resize = function(fig, msg) {\n",
       "    var size = msg['size'];\n",
       "    if (size[0] != fig.canvas.width || size[1] != fig.canvas.height) {\n",
       "        fig._resize_canvas(size[0], size[1]);\n",
       "        fig.send_message(\"refresh\", {});\n",
       "    };\n",
       "}\n",
       "\n",
       "mpl.figure.prototype.handle_rubberband = function(fig, msg) {\n",
       "    var x0 = msg['x0'] / mpl.ratio;\n",
       "    var y0 = (fig.canvas.height - msg['y0']) / mpl.ratio;\n",
       "    var x1 = msg['x1'] / mpl.ratio;\n",
       "    var y1 = (fig.canvas.height - msg['y1']) / mpl.ratio;\n",
       "    x0 = Math.floor(x0) + 0.5;\n",
       "    y0 = Math.floor(y0) + 0.5;\n",
       "    x1 = Math.floor(x1) + 0.5;\n",
       "    y1 = Math.floor(y1) + 0.5;\n",
       "    var min_x = Math.min(x0, x1);\n",
       "    var min_y = Math.min(y0, y1);\n",
       "    var width = Math.abs(x1 - x0);\n",
       "    var height = Math.abs(y1 - y0);\n",
       "\n",
       "    fig.rubberband_context.clearRect(\n",
       "        0, 0, fig.canvas.width / mpl.ratio, fig.canvas.height / mpl.ratio);\n",
       "\n",
       "    fig.rubberband_context.strokeRect(min_x, min_y, width, height);\n",
       "}\n",
       "\n",
       "mpl.figure.prototype.handle_figure_label = function(fig, msg) {\n",
       "    // Updates the figure title.\n",
       "    fig.header.textContent = msg['label'];\n",
       "}\n",
       "\n",
       "mpl.figure.prototype.handle_cursor = function(fig, msg) {\n",
       "    var cursor = msg['cursor'];\n",
       "    switch(cursor)\n",
       "    {\n",
       "    case 0:\n",
       "        cursor = 'pointer';\n",
       "        break;\n",
       "    case 1:\n",
       "        cursor = 'default';\n",
       "        break;\n",
       "    case 2:\n",
       "        cursor = 'crosshair';\n",
       "        break;\n",
       "    case 3:\n",
       "        cursor = 'move';\n",
       "        break;\n",
       "    }\n",
       "    fig.rubberband_canvas.style.cursor = cursor;\n",
       "}\n",
       "\n",
       "mpl.figure.prototype.handle_message = function(fig, msg) {\n",
       "    fig.message.textContent = msg['message'];\n",
       "}\n",
       "\n",
       "mpl.figure.prototype.handle_draw = function(fig, msg) {\n",
       "    // Request the server to send over a new figure.\n",
       "    fig.send_draw_message();\n",
       "}\n",
       "\n",
       "mpl.figure.prototype.handle_image_mode = function(fig, msg) {\n",
       "    fig.image_mode = msg['mode'];\n",
       "}\n",
       "\n",
       "mpl.figure.prototype.updated_canvas_event = function() {\n",
       "    // Called whenever the canvas gets updated.\n",
       "    this.send_message(\"ack\", {});\n",
       "}\n",
       "\n",
       "// A function to construct a web socket function for onmessage handling.\n",
       "// Called in the figure constructor.\n",
       "mpl.figure.prototype._make_on_message_function = function(fig) {\n",
       "    return function socket_on_message(evt) {\n",
       "        if (evt.data instanceof Blob) {\n",
       "            /* FIXME: We get \"Resource interpreted as Image but\n",
       "             * transferred with MIME type text/plain:\" errors on\n",
       "             * Chrome.  But how to set the MIME type?  It doesn't seem\n",
       "             * to be part of the websocket stream */\n",
       "            evt.data.type = \"image/png\";\n",
       "\n",
       "            /* Free the memory for the previous frames */\n",
       "            if (fig.imageObj.src) {\n",
       "                (window.URL || window.webkitURL).revokeObjectURL(\n",
       "                    fig.imageObj.src);\n",
       "            }\n",
       "\n",
       "            fig.imageObj.src = (window.URL || window.webkitURL).createObjectURL(\n",
       "                evt.data);\n",
       "            fig.updated_canvas_event();\n",
       "            fig.waiting = false;\n",
       "            return;\n",
       "        }\n",
       "        else if (typeof evt.data === 'string' && evt.data.slice(0, 21) == \"data:image/png;base64\") {\n",
       "            fig.imageObj.src = evt.data;\n",
       "            fig.updated_canvas_event();\n",
       "            fig.waiting = false;\n",
       "            return;\n",
       "        }\n",
       "\n",
       "        var msg = JSON.parse(evt.data);\n",
       "        var msg_type = msg['type'];\n",
       "\n",
       "        // Call the  \"handle_{type}\" callback, which takes\n",
       "        // the figure and JSON message as its only arguments.\n",
       "        try {\n",
       "            var callback = fig[\"handle_\" + msg_type];\n",
       "        } catch (e) {\n",
       "            console.log(\"No handler for the '\" + msg_type + \"' message type: \", msg);\n",
       "            return;\n",
       "        }\n",
       "\n",
       "        if (callback) {\n",
       "            try {\n",
       "                // console.log(\"Handling '\" + msg_type + \"' message: \", msg);\n",
       "                callback(fig, msg);\n",
       "            } catch (e) {\n",
       "                console.log(\"Exception inside the 'handler_\" + msg_type + \"' callback:\", e, e.stack, msg);\n",
       "            }\n",
       "        }\n",
       "    };\n",
       "}\n",
       "\n",
       "// from http://stackoverflow.com/questions/1114465/getting-mouse-location-in-canvas\n",
       "mpl.findpos = function(e) {\n",
       "    //this section is from http://www.quirksmode.org/js/events_properties.html\n",
       "    var targ;\n",
       "    if (!e)\n",
       "        e = window.event;\n",
       "    if (e.target)\n",
       "        targ = e.target;\n",
       "    else if (e.srcElement)\n",
       "        targ = e.srcElement;\n",
       "    if (targ.nodeType == 3) // defeat Safari bug\n",
       "        targ = targ.parentNode;\n",
       "\n",
       "    // jQuery normalizes the pageX and pageY\n",
       "    // pageX,Y are the mouse positions relative to the document\n",
       "    // offset() returns the position of the element relative to the document\n",
       "    var x = e.pageX - $(targ).offset().left;\n",
       "    var y = e.pageY - $(targ).offset().top;\n",
       "\n",
       "    return {\"x\": x, \"y\": y};\n",
       "};\n",
       "\n",
       "/*\n",
       " * return a copy of an object with only non-object keys\n",
       " * we need this to avoid circular references\n",
       " * http://stackoverflow.com/a/24161582/3208463\n",
       " */\n",
       "function simpleKeys (original) {\n",
       "  return Object.keys(original).reduce(function (obj, key) {\n",
       "    if (typeof original[key] !== 'object')\n",
       "        obj[key] = original[key]\n",
       "    return obj;\n",
       "  }, {});\n",
       "}\n",
       "\n",
       "mpl.figure.prototype.mouse_event = function(event, name) {\n",
       "    var canvas_pos = mpl.findpos(event)\n",
       "\n",
       "    if (name === 'button_press')\n",
       "    {\n",
       "        this.canvas.focus();\n",
       "        this.canvas_div.focus();\n",
       "    }\n",
       "\n",
       "    var x = canvas_pos.x * mpl.ratio;\n",
       "    var y = canvas_pos.y * mpl.ratio;\n",
       "\n",
       "    this.send_message(name, {x: x, y: y, button: event.button,\n",
       "                             step: event.step,\n",
       "                             guiEvent: simpleKeys(event)});\n",
       "\n",
       "    /* This prevents the web browser from automatically changing to\n",
       "     * the text insertion cursor when the button is pressed.  We want\n",
       "     * to control all of the cursor setting manually through the\n",
       "     * 'cursor' event from matplotlib */\n",
       "    event.preventDefault();\n",
       "    return false;\n",
       "}\n",
       "\n",
       "mpl.figure.prototype._key_event_extra = function(event, name) {\n",
       "    // Handle any extra behaviour associated with a key event\n",
       "}\n",
       "\n",
       "mpl.figure.prototype.key_event = function(event, name) {\n",
       "\n",
       "    // Prevent repeat events\n",
       "    if (name == 'key_press')\n",
       "    {\n",
       "        if (event.which === this._key)\n",
       "            return;\n",
       "        else\n",
       "            this._key = event.which;\n",
       "    }\n",
       "    if (name == 'key_release')\n",
       "        this._key = null;\n",
       "\n",
       "    var value = '';\n",
       "    if (event.ctrlKey && event.which != 17)\n",
       "        value += \"ctrl+\";\n",
       "    if (event.altKey && event.which != 18)\n",
       "        value += \"alt+\";\n",
       "    if (event.shiftKey && event.which != 16)\n",
       "        value += \"shift+\";\n",
       "\n",
       "    value += 'k';\n",
       "    value += event.which.toString();\n",
       "\n",
       "    this._key_event_extra(event, name);\n",
       "\n",
       "    this.send_message(name, {key: value,\n",
       "                             guiEvent: simpleKeys(event)});\n",
       "    return false;\n",
       "}\n",
       "\n",
       "mpl.figure.prototype.toolbar_button_onclick = function(name) {\n",
       "    if (name == 'download') {\n",
       "        this.handle_save(this, null);\n",
       "    } else {\n",
       "        this.send_message(\"toolbar_button\", {name: name});\n",
       "    }\n",
       "};\n",
       "\n",
       "mpl.figure.prototype.toolbar_button_onmouseover = function(tooltip) {\n",
       "    this.message.textContent = tooltip;\n",
       "};\n",
       "mpl.toolbar_items = [[\"Home\", \"Reset original view\", \"fa fa-home icon-home\", \"home\"], [\"Back\", \"Back to previous view\", \"fa fa-arrow-left icon-arrow-left\", \"back\"], [\"Forward\", \"Forward to next view\", \"fa fa-arrow-right icon-arrow-right\", \"forward\"], [\"\", \"\", \"\", \"\"], [\"Pan\", \"Pan axes with left mouse, zoom with right\", \"fa fa-arrows icon-move\", \"pan\"], [\"Zoom\", \"Zoom to rectangle\", \"fa fa-square-o icon-check-empty\", \"zoom\"], [\"\", \"\", \"\", \"\"], [\"Download\", \"Download plot\", \"fa fa-floppy-o icon-save\", \"download\"]];\n",
       "\n",
       "mpl.extensions = [\"eps\", \"jpeg\", \"pdf\", \"png\", \"ps\", \"raw\", \"svg\", \"tif\"];\n",
       "\n",
       "mpl.default_extension = \"png\";var comm_websocket_adapter = function(comm) {\n",
       "    // Create a \"websocket\"-like object which calls the given IPython comm\n",
       "    // object with the appropriate methods. Currently this is a non binary\n",
       "    // socket, so there is still some room for performance tuning.\n",
       "    var ws = {};\n",
       "\n",
       "    ws.close = function() {\n",
       "        comm.close()\n",
       "    };\n",
       "    ws.send = function(m) {\n",
       "        //console.log('sending', m);\n",
       "        comm.send(m);\n",
       "    };\n",
       "    // Register the callback with on_msg.\n",
       "    comm.on_msg(function(msg) {\n",
       "        //console.log('receiving', msg['content']['data'], msg);\n",
       "        // Pass the mpl event to the overridden (by mpl) onmessage function.\n",
       "        ws.onmessage(msg['content']['data'])\n",
       "    });\n",
       "    return ws;\n",
       "}\n",
       "\n",
       "mpl.mpl_figure_comm = function(comm, msg) {\n",
       "    // This is the function which gets called when the mpl process\n",
       "    // starts-up an IPython Comm through the \"matplotlib\" channel.\n",
       "\n",
       "    var id = msg.content.data.id;\n",
       "    // Get hold of the div created by the display call when the Comm\n",
       "    // socket was opened in Python.\n",
       "    var element = $(\"#\" + id);\n",
       "    var ws_proxy = comm_websocket_adapter(comm)\n",
       "\n",
       "    function ondownload(figure, format) {\n",
       "        window.open(figure.imageObj.src);\n",
       "    }\n",
       "\n",
       "    var fig = new mpl.figure(id, ws_proxy,\n",
       "                           ondownload,\n",
       "                           element.get(0));\n",
       "\n",
       "    // Call onopen now - mpl needs it, as it is assuming we've passed it a real\n",
       "    // web socket which is closed, not our websocket->open comm proxy.\n",
       "    ws_proxy.onopen();\n",
       "\n",
       "    fig.parent_element = element.get(0);\n",
       "    fig.cell_info = mpl.find_output_cell(\"<div id='\" + id + \"'></div>\");\n",
       "    if (!fig.cell_info) {\n",
       "        console.error(\"Failed to find cell for figure\", id, fig);\n",
       "        return;\n",
       "    }\n",
       "\n",
       "    var output_index = fig.cell_info[2]\n",
       "    var cell = fig.cell_info[0];\n",
       "\n",
       "};\n",
       "\n",
       "mpl.figure.prototype.handle_close = function(fig, msg) {\n",
       "    var width = fig.canvas.width/mpl.ratio\n",
       "    fig.root.unbind('remove')\n",
       "\n",
       "    // Update the output cell to use the data from the current canvas.\n",
       "    fig.push_to_output();\n",
       "    var dataURL = fig.canvas.toDataURL();\n",
       "    // Re-enable the keyboard manager in IPython - without this line, in FF,\n",
       "    // the notebook keyboard shortcuts fail.\n",
       "    IPython.keyboard_manager.enable()\n",
       "    $(fig.parent_element).html('<img src=\"' + dataURL + '\" width=\"' + width + '\">');\n",
       "    fig.close_ws(fig, msg);\n",
       "}\n",
       "\n",
       "mpl.figure.prototype.close_ws = function(fig, msg){\n",
       "    fig.send_message('closing', msg);\n",
       "    // fig.ws.close()\n",
       "}\n",
       "\n",
       "mpl.figure.prototype.push_to_output = function(remove_interactive) {\n",
       "    // Turn the data on the canvas into data in the output cell.\n",
       "    var width = this.canvas.width/mpl.ratio\n",
       "    var dataURL = this.canvas.toDataURL();\n",
       "    this.cell_info[1]['text/html'] = '<img src=\"' + dataURL + '\" width=\"' + width + '\">';\n",
       "}\n",
       "\n",
       "mpl.figure.prototype.updated_canvas_event = function() {\n",
       "    // Tell IPython that the notebook contents must change.\n",
       "    IPython.notebook.set_dirty(true);\n",
       "    this.send_message(\"ack\", {});\n",
       "    var fig = this;\n",
       "    // Wait a second, then push the new image to the DOM so\n",
       "    // that it is saved nicely (might be nice to debounce this).\n",
       "    setTimeout(function () { fig.push_to_output() }, 1000);\n",
       "}\n",
       "\n",
       "mpl.figure.prototype._init_toolbar = function() {\n",
       "    var fig = this;\n",
       "\n",
       "    var nav_element = $('<div/>');\n",
       "    nav_element.attr('style', 'width: 100%');\n",
       "    this.root.append(nav_element);\n",
       "\n",
       "    // Define a callback function for later on.\n",
       "    function toolbar_event(event) {\n",
       "        return fig.toolbar_button_onclick(event['data']);\n",
       "    }\n",
       "    function toolbar_mouse_event(event) {\n",
       "        return fig.toolbar_button_onmouseover(event['data']);\n",
       "    }\n",
       "\n",
       "    for(var toolbar_ind in mpl.toolbar_items){\n",
       "        var name = mpl.toolbar_items[toolbar_ind][0];\n",
       "        var tooltip = mpl.toolbar_items[toolbar_ind][1];\n",
       "        var image = mpl.toolbar_items[toolbar_ind][2];\n",
       "        var method_name = mpl.toolbar_items[toolbar_ind][3];\n",
       "\n",
       "        if (!name) { continue; };\n",
       "\n",
       "        var button = $('<button class=\"btn btn-default\" href=\"#\" title=\"' + name + '\"><i class=\"fa ' + image + ' fa-lg\"></i></button>');\n",
       "        button.click(method_name, toolbar_event);\n",
       "        button.mouseover(tooltip, toolbar_mouse_event);\n",
       "        nav_element.append(button);\n",
       "    }\n",
       "\n",
       "    // Add the status bar.\n",
       "    var status_bar = $('<span class=\"mpl-message\" style=\"text-align:right; float: right;\"/>');\n",
       "    nav_element.append(status_bar);\n",
       "    this.message = status_bar[0];\n",
       "\n",
       "    // Add the close button to the window.\n",
       "    var buttongrp = $('<div class=\"btn-group inline pull-right\"></div>');\n",
       "    var button = $('<button class=\"btn btn-mini btn-primary\" href=\"#\" title=\"Stop Interaction\"><i class=\"fa fa-power-off icon-remove icon-large\"></i></button>');\n",
       "    button.click(function (evt) { fig.handle_close(fig, {}); } );\n",
       "    button.mouseover('Stop Interaction', toolbar_mouse_event);\n",
       "    buttongrp.append(button);\n",
       "    var titlebar = this.root.find($('.ui-dialog-titlebar'));\n",
       "    titlebar.prepend(buttongrp);\n",
       "}\n",
       "\n",
       "mpl.figure.prototype._root_extra_style = function(el){\n",
       "    var fig = this\n",
       "    el.on(\"remove\", function(){\n",
       "\tfig.close_ws(fig, {});\n",
       "    });\n",
       "}\n",
       "\n",
       "mpl.figure.prototype._canvas_extra_style = function(el){\n",
       "    // this is important to make the div 'focusable\n",
       "    el.attr('tabindex', 0)\n",
       "    // reach out to IPython and tell the keyboard manager to turn it's self\n",
       "    // off when our div gets focus\n",
       "\n",
       "    // location in version 3\n",
       "    if (IPython.notebook.keyboard_manager) {\n",
       "        IPython.notebook.keyboard_manager.register_events(el);\n",
       "    }\n",
       "    else {\n",
       "        // location in version 2\n",
       "        IPython.keyboard_manager.register_events(el);\n",
       "    }\n",
       "\n",
       "}\n",
       "\n",
       "mpl.figure.prototype._key_event_extra = function(event, name) {\n",
       "    var manager = IPython.notebook.keyboard_manager;\n",
       "    if (!manager)\n",
       "        manager = IPython.keyboard_manager;\n",
       "\n",
       "    // Check for shift+enter\n",
       "    if (event.shiftKey && event.which == 13) {\n",
       "        this.canvas_div.blur();\n",
       "        // select the cell after this one\n",
       "        var index = IPython.notebook.find_cell_index(this.cell_info[0]);\n",
       "        IPython.notebook.select(index + 1);\n",
       "    }\n",
       "}\n",
       "\n",
       "mpl.figure.prototype.handle_save = function(fig, msg) {\n",
       "    fig.ondownload(fig, null);\n",
       "}\n",
       "\n",
       "\n",
       "mpl.find_output_cell = function(html_output) {\n",
       "    // Return the cell and output element which can be found *uniquely* in the notebook.\n",
       "    // Note - this is a bit hacky, but it is done because the \"notebook_saving.Notebook\"\n",
       "    // IPython event is triggered only after the cells have been serialised, which for\n",
       "    // our purposes (turning an active figure into a static one), is too late.\n",
       "    var cells = IPython.notebook.get_cells();\n",
       "    var ncells = cells.length;\n",
       "    for (var i=0; i<ncells; i++) {\n",
       "        var cell = cells[i];\n",
       "        if (cell.cell_type === 'code'){\n",
       "            for (var j=0; j<cell.output_area.outputs.length; j++) {\n",
       "                var data = cell.output_area.outputs[j];\n",
       "                if (data.data) {\n",
       "                    // IPython >= 3 moved mimebundle to data attribute of output\n",
       "                    data = data.data;\n",
       "                }\n",
       "                if (data['text/html'] == html_output) {\n",
       "                    return [cell, data, j];\n",
       "                }\n",
       "            }\n",
       "        }\n",
       "    }\n",
       "}\n",
       "\n",
       "// Register the function which deals with the matplotlib target/channel.\n",
       "// The kernel may be null if the page has been refreshed.\n",
       "if (IPython.notebook.kernel != null) {\n",
       "    IPython.notebook.kernel.comm_manager.register_target('matplotlib', mpl.mpl_figure_comm);\n",
       "}\n"
      ],
      "text/plain": [
       "<IPython.core.display.Javascript object>"
      ]
     },
     "metadata": {},
     "output_type": "display_data"
    },
    {
     "data": {
      "text/html": [
       "<img src=\"data:image/png;base64,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\" width=\"1000\">"
      ],
      "text/plain": [
       "<IPython.core.display.HTML object>"
      ]
     },
     "metadata": {},
     "output_type": "display_data"
    }
   ],
   "source": [
    "ax, tax, lax, lines = dual_train_plots()\n",
    "fig = ax.figure\n",
    "plt.tight_layout()\n",
    "# This gets built up during the run - do not rerun this cell\n",
    "results = pd.DataFrame([], columns=Results._fields)"
   ]
  },
  {
   "cell_type": "code",
   "execution_count": null,
   "metadata": {
    "scrolled": false
   },
   "outputs": [
    {
     "name": "stdout",
     "output_type": "stream",
     "text": [
      "for model:  ACN_3_P_10L_4S_BN(\n",
      "  (conv1): Conv1d(1, 20, kernel_size=(25,), stride=(1,), padding=(12,))\n",
      "  (conv2): Conv1d(20, 10, kernel_size=(15,), stride=(1,), padding=(7,))\n",
      "  (conv3): Conv1d(30, 10, kernel_size=(15,), stride=(1,), padding=(7,))\n",
      "  (conv4): Conv1d(10, 10, kernel_size=(15,), stride=(1,), padding=(7,))\n",
      "  (conv5): Conv1d(20, 10, kernel_size=(15,), stride=(1,), padding=(7,))\n",
      "  (conv6): Conv1d(10, 10, kernel_size=(15,), stride=(1,), padding=(7,))\n",
      "  (conv7): Conv1d(20, 7, kernel_size=(5,), stride=(1,), padding=(2,))\n",
      "  (conv8): Conv1d(7, 3, kernel_size=(5,), stride=(1,), padding=(2,))\n",
      "  (conv9): Conv1d(10, 1, kernel_size=(5,), stride=(1,), padding=(2,))\n",
      "  (finalFilter): Conv1d(1, 1, kernel_size=(91,), stride=(1,), padding=(45,))\n",
      "  (ppConv1): Conv1d(2, 20, kernel_size=(25,), stride=(1,), padding=(12,))\n",
      "  (ppConv2): Conv1d(20, 10, kernel_size=(15,), stride=(1,), padding=(7,))\n",
      "  (ppConv3): Conv1d(10, 1, kernel_size=(15,), stride=(1,), padding=(7,))\n",
      "  (ppFC): Linear(in_features=4000, out_features=4000, bias=True)\n",
      "  (conv1dropout): Dropout(p=0.15, inplace=False)\n",
      "  (conv2dropout): Dropout(p=0.15, inplace=False)\n",
      "  (conv3dropout): Dropout(p=0.15, inplace=False)\n",
      "  (conv4dropout): Dropout(p=0.15, inplace=False)\n",
      "  (conv5dropout): Dropout(p=0.15, inplace=False)\n",
      "  (conv6dropout): Dropout(p=0.15, inplace=False)\n",
      "  (conv7dropout): Dropout(p=0.15, inplace=False)\n",
      "  (conv8dropout): Dropout(p=0.15, inplace=False)\n",
      "  (conv9dropout): Dropout(p=0.15, inplace=False)\n",
      "  (bn1): BatchNorm1d(20, eps=1e-05, momentum=0.1, affine=True, track_running_stats=True)\n",
      "  (bn2): BatchNorm1d(10, eps=1e-05, momentum=0.1, affine=True, track_running_stats=True)\n",
      "  (bn3): BatchNorm1d(10, eps=1e-05, momentum=0.1, affine=True, track_running_stats=True)\n",
      "  (bn4): BatchNorm1d(10, eps=1e-05, momentum=0.1, affine=True, track_running_stats=True)\n",
      "  (bn5): BatchNorm1d(10, eps=1e-05, momentum=0.1, affine=True, track_running_stats=True)\n",
      "  (bn6): BatchNorm1d(10, eps=1e-05, momentum=0.1, affine=True, track_running_stats=True)\n",
      "  (bn7): BatchNorm1d(7, eps=1e-05, momentum=0.1, affine=True, track_running_stats=True)\n",
      "  (bn8): BatchNorm1d(3, eps=1e-05, momentum=0.1, affine=True, track_running_stats=True)\n",
      "  (bn9): BatchNorm1d(1, eps=1e-05, momentum=0.1, affine=True, track_running_stats=True)\n",
      ")\n",
      "epoch_start 1720\n",
      "batch_size 128\n",
      "epochs 1500\n",
      "lr 1e-07\n",
      "Number of batches: train = 1250, val = 157\n"
     ]
    },
    {
     "name": "stderr",
     "output_type": "stream",
     "text": [
      "/home/michael24peters/pv-finder/notebooks/model/training.py:95: TqdmDeprecationWarning: This function will be removed in tqdm==5.0.0\n",
      "Please use `tqdm.notebook.tqdm` instead of `tqdm.tqdm_notebook`\n",
      "  file=sys.stderr,\n"
     ]
    },
    {
     "data": {
      "application/vnd.jupyter.widget-view+json": {
       "model_id": "6d2e9301d54440b6b94ac08377ab68c2",
       "version_major": 2,
       "version_minor": 0
      },
      "text/plain": [
       "HBox(children=(FloatProgress(value=0.0, description='Epochs', layout=Layout(flex='2'), max=1500.0, style=Progr…"
      ]
     },
     "metadata": {},
     "output_type": "display_data"
    },
    {
     "data": {
      "application/vnd.jupyter.widget-view+json": {
       "model_id": "",
       "version_major": 2,
       "version_minor": 0
      },
      "text/plain": [
       "HBox(children=(FloatProgress(value=0.0, description='Training', layout=Layout(flex='2'), max=1250.0, style=Pro…"
      ]
     },
     "metadata": {},
     "output_type": "display_data"
    },
    {
     "name": "stdout",
     "output_type": "stream",
     "text": [
      "Epoch 1720: train=8.79163, val=8.63358, took 72.896 s\n",
      "  Validation Found 101601 of 108007, added 5319 (eff 94.07%) (0.266 FP/event)\n",
      "Result epoch:  1720\n",
      "Average Eff:  0\n",
      "Average FP Rate:  0\n"
     ]
    },
    {
     "data": {
      "application/vnd.jupyter.widget-view+json": {
       "model_id": "",
       "version_major": 2,
       "version_minor": 0
      },
      "text/plain": [
       "HBox(children=(FloatProgress(value=0.0, description='Training', layout=Layout(flex='2'), max=1250.0, style=Pro…"
      ]
     },
     "metadata": {},
     "output_type": "display_data"
    },
    {
     "name": "stdout",
     "output_type": "stream",
     "text": [
      "Epoch 1721: train=8.78521, val=8.63729, took 72.193 s\n",
      "  Validation Found 101664 of 108007, added 5443 (eff 94.13%) (0.272 FP/event)\n",
      "Result epoch:  1721\n",
      "Average Eff:  0\n",
      "Average FP Rate:  0\n"
     ]
    },
    {
     "data": {
      "application/vnd.jupyter.widget-view+json": {
       "model_id": "",
       "version_major": 2,
       "version_minor": 0
      },
      "text/plain": [
       "HBox(children=(FloatProgress(value=0.0, description='Training', layout=Layout(flex='2'), max=1250.0, style=Pro…"
      ]
     },
     "metadata": {},
     "output_type": "display_data"
    },
    {
     "name": "stdout",
     "output_type": "stream",
     "text": [
      "Epoch 1722: train=8.78351, val=8.62313, took 72.395 s\n",
      "  Validation Found 101654 of 108007, added 5412 (eff 94.12%) (0.271 FP/event)\n",
      "Result epoch:  1722\n",
      "Average Eff:  0\n",
      "Average FP Rate:  0\n"
     ]
    },
    {
     "data": {
      "application/vnd.jupyter.widget-view+json": {
       "model_id": "",
       "version_major": 2,
       "version_minor": 0
      },
      "text/plain": [
       "HBox(children=(FloatProgress(value=0.0, description='Training', layout=Layout(flex='2'), max=1250.0, style=Pro…"
      ]
     },
     "metadata": {},
     "output_type": "display_data"
    },
    {
     "name": "stdout",
     "output_type": "stream",
     "text": [
      "Epoch 1723: train=8.78744, val=8.63162, took 72.09 s\n",
      "  Validation Found 101627 of 108007, added 5350 (eff 94.09%) (0.267 FP/event)\n",
      "Result epoch:  1723\n",
      "Average Eff:  0\n",
      "Average FP Rate:  0\n"
     ]
    },
    {
     "data": {
      "application/vnd.jupyter.widget-view+json": {
       "model_id": "",
       "version_major": 2,
       "version_minor": 0
      },
      "text/plain": [
       "HBox(children=(FloatProgress(value=0.0, description='Training', layout=Layout(flex='2'), max=1250.0, style=Pro…"
      ]
     },
     "metadata": {},
     "output_type": "display_data"
    },
    {
     "name": "stdout",
     "output_type": "stream",
     "text": [
      "Epoch 1724: train=8.78449, val=8.62909, took 72.066 s\n",
      "  Validation Found 101719 of 108007, added 5507 (eff 94.18%) (0.275 FP/event)\n",
      "Result epoch:  1724\n",
      "Average Eff:  0\n",
      "Average FP Rate:  0\n"
     ]
    },
    {
     "data": {
      "application/vnd.jupyter.widget-view+json": {
       "model_id": "",
       "version_major": 2,
       "version_minor": 0
      },
      "text/plain": [
       "HBox(children=(FloatProgress(value=0.0, description='Training', layout=Layout(flex='2'), max=1250.0, style=Pro…"
      ]
     },
     "metadata": {},
     "output_type": "display_data"
    },
    {
     "name": "stdout",
     "output_type": "stream",
     "text": [
      "Epoch 1725: train=8.78379, val=8.62378, took 72.723 s\n",
      "  Validation Found 101649 of 108007, added 5393 (eff 94.11%) (0.27 FP/event)\n",
      "Result epoch:  1725\n",
      "Average Eff:  0\n",
      "Average FP Rate:  0\n"
     ]
    },
    {
     "data": {
      "application/vnd.jupyter.widget-view+json": {
       "model_id": "",
       "version_major": 2,
       "version_minor": 0
      },
      "text/plain": [
       "HBox(children=(FloatProgress(value=0.0, description='Training', layout=Layout(flex='2'), max=1250.0, style=Pro…"
      ]
     },
     "metadata": {},
     "output_type": "display_data"
    },
    {
     "name": "stdout",
     "output_type": "stream",
     "text": [
      "Epoch 1726: train=8.78697, val=8.62715, took 71.6 s\n",
      "  Validation Found 101659 of 108007, added 5421 (eff 94.12%) (0.271 FP/event)\n",
      "Result epoch:  1726\n",
      "Average Eff:  0\n",
      "Average FP Rate:  0\n"
     ]
    },
    {
     "data": {
      "application/vnd.jupyter.widget-view+json": {
       "model_id": "",
       "version_major": 2,
       "version_minor": 0
      },
      "text/plain": [
       "HBox(children=(FloatProgress(value=0.0, description='Training', layout=Layout(flex='2'), max=1250.0, style=Pro…"
      ]
     },
     "metadata": {},
     "output_type": "display_data"
    },
    {
     "name": "stdout",
     "output_type": "stream",
     "text": [
      "Epoch 1727: train=8.78854, val=8.63849, took 71.835 s\n",
      "  Validation Found 101651 of 108007, added 5400 (eff 94.12%) (0.27 FP/event)\n",
      "Result epoch:  1727\n",
      "Average Eff:  0\n",
      "Average FP Rate:  0\n"
     ]
    },
    {
     "data": {
      "application/vnd.jupyter.widget-view+json": {
       "model_id": "",
       "version_major": 2,
       "version_minor": 0
      },
      "text/plain": [
       "HBox(children=(FloatProgress(value=0.0, description='Training', layout=Layout(flex='2'), max=1250.0, style=Pro…"
      ]
     },
     "metadata": {},
     "output_type": "display_data"
    },
    {
     "name": "stdout",
     "output_type": "stream",
     "text": [
      "Epoch 1728: train=8.78392, val=8.62192, took 71.906 s\n",
      "  Validation Found 101648 of 108007, added 5377 (eff 94.11%) (0.269 FP/event)\n",
      "Result epoch:  1728\n",
      "Average Eff:  0\n",
      "Average FP Rate:  0\n"
     ]
    },
    {
     "data": {
      "application/vnd.jupyter.widget-view+json": {
       "model_id": "",
       "version_major": 2,
       "version_minor": 0
      },
      "text/plain": [
       "HBox(children=(FloatProgress(value=0.0, description='Training', layout=Layout(flex='2'), max=1250.0, style=Pro…"
      ]
     },
     "metadata": {},
     "output_type": "display_data"
    },
    {
     "name": "stdout",
     "output_type": "stream",
     "text": [
      "Epoch 1729: train=8.78456, val=8.6244, took 71.834 s\n",
      "  Validation Found 101680 of 108007, added 5436 (eff 94.14%) (0.272 FP/event)\n",
      "Result epoch:  1729\n",
      "Average Eff:  0\n",
      "Average FP Rate:  0\n"
     ]
    },
    {
     "data": {
      "application/vnd.jupyter.widget-view+json": {
       "model_id": "",
       "version_major": 2,
       "version_minor": 0
      },
      "text/plain": [
       "HBox(children=(FloatProgress(value=0.0, description='Training', layout=Layout(flex='2'), max=1250.0, style=Pro…"
      ]
     },
     "metadata": {},
     "output_type": "display_data"
    },
    {
     "name": "stdout",
     "output_type": "stream",
     "text": [
      "Epoch 1730: train=8.78229, val=8.62153, took 71.082 s\n",
      "  Validation Found 101770 of 108007, added 5616 (eff 94.23%) (0.281 FP/event)\n",
      "Result epoch:  1730\n",
      "Average Eff:  0\n",
      "Average FP Rate:  0\n"
     ]
    },
    {
     "data": {
      "application/vnd.jupyter.widget-view+json": {
       "model_id": "",
       "version_major": 2,
       "version_minor": 0
      },
      "text/plain": [
       "HBox(children=(FloatProgress(value=0.0, description='Training', layout=Layout(flex='2'), max=1250.0, style=Pro…"
      ]
     },
     "metadata": {},
     "output_type": "display_data"
    },
    {
     "name": "stdout",
     "output_type": "stream",
     "text": [
      "Epoch 1731: train=8.78665, val=8.62307, took 72.111 s\n",
      "  Validation Found 101689 of 108007, added 5459 (eff 94.15%) (0.273 FP/event)\n",
      "Result epoch:  1731\n",
      "Average Eff:  0\n",
      "Average FP Rate:  0\n"
     ]
    },
    {
     "data": {
      "application/vnd.jupyter.widget-view+json": {
       "model_id": "",
       "version_major": 2,
       "version_minor": 0
      },
      "text/plain": [
       "HBox(children=(FloatProgress(value=0.0, description='Training', layout=Layout(flex='2'), max=1250.0, style=Pro…"
      ]
     },
     "metadata": {},
     "output_type": "display_data"
    },
    {
     "name": "stdout",
     "output_type": "stream",
     "text": [
      "Epoch 1732: train=8.78593, val=8.62986, took 70.617 s\n",
      "  Validation Found 101739 of 108007, added 5532 (eff 94.20%) (0.277 FP/event)\n",
      "Result epoch:  1732\n",
      "Average Eff:  0\n",
      "Average FP Rate:  0\n"
     ]
    },
    {
     "data": {
      "application/vnd.jupyter.widget-view+json": {
       "model_id": "",
       "version_major": 2,
       "version_minor": 0
      },
      "text/plain": [
       "HBox(children=(FloatProgress(value=0.0, description='Training', layout=Layout(flex='2'), max=1250.0, style=Pro…"
      ]
     },
     "metadata": {},
     "output_type": "display_data"
    },
    {
     "name": "stdout",
     "output_type": "stream",
     "text": [
      "Epoch 1733: train=8.78556, val=8.6322, took 72.148 s\n",
      "  Validation Found 101697 of 108007, added 5470 (eff 94.16%) (0.273 FP/event)\n",
      "Result epoch:  1733\n",
      "Average Eff:  0\n",
      "Average FP Rate:  0\n"
     ]
    },
    {
     "data": {
      "application/vnd.jupyter.widget-view+json": {
       "model_id": "",
       "version_major": 2,
       "version_minor": 0
      },
      "text/plain": [
       "HBox(children=(FloatProgress(value=0.0, description='Training', layout=Layout(flex='2'), max=1250.0, style=Pro…"
      ]
     },
     "metadata": {},
     "output_type": "display_data"
    },
    {
     "name": "stdout",
     "output_type": "stream",
     "text": [
      "Epoch 1734: train=8.78305, val=8.63195, took 72.301 s\n",
      "  Validation Found 101677 of 108007, added 5416 (eff 94.14%) (0.271 FP/event)\n",
      "Result epoch:  1734\n",
      "Average Eff:  0\n",
      "Average FP Rate:  0\n"
     ]
    },
    {
     "data": {
      "application/vnd.jupyter.widget-view+json": {
       "model_id": "",
       "version_major": 2,
       "version_minor": 0
      },
      "text/plain": [
       "HBox(children=(FloatProgress(value=0.0, description='Training', layout=Layout(flex='2'), max=1250.0, style=Pro…"
      ]
     },
     "metadata": {},
     "output_type": "display_data"
    },
    {
     "name": "stdout",
     "output_type": "stream",
     "text": [
      "Epoch 1735: train=8.78269, val=8.63257, took 71.091 s\n",
      "  Validation Found 101715 of 108007, added 5481 (eff 94.17%) (0.274 FP/event)\n",
      "Result epoch:  1735\n",
      "Average Eff:  0\n",
      "Average FP Rate:  0\n"
     ]
    },
    {
     "data": {
      "application/vnd.jupyter.widget-view+json": {
       "model_id": "",
       "version_major": 2,
       "version_minor": 0
      },
      "text/plain": [
       "HBox(children=(FloatProgress(value=0.0, description='Training', layout=Layout(flex='2'), max=1250.0, style=Pro…"
      ]
     },
     "metadata": {},
     "output_type": "display_data"
    },
    {
     "name": "stdout",
     "output_type": "stream",
     "text": [
      "Epoch 1736: train=8.7845, val=8.61863, took 71.014 s\n",
      "  Validation Found 101731 of 108007, added 5484 (eff 94.19%) (0.274 FP/event)\n",
      "Result epoch:  1736\n",
      "Average Eff:  0\n",
      "Average FP Rate:  0\n"
     ]
    },
    {
     "data": {
      "application/vnd.jupyter.widget-view+json": {
       "model_id": "",
       "version_major": 2,
       "version_minor": 0
      },
      "text/plain": [
       "HBox(children=(FloatProgress(value=0.0, description='Training', layout=Layout(flex='2'), max=1250.0, style=Pro…"
      ]
     },
     "metadata": {},
     "output_type": "display_data"
    },
    {
     "name": "stdout",
     "output_type": "stream",
     "text": [
      "Epoch 1737: train=8.78393, val=8.63142, took 71.051 s\n",
      "  Validation Found 101602 of 108007, added 5316 (eff 94.07%) (0.266 FP/event)\n",
      "Result epoch:  1737\n",
      "Average Eff:  0\n",
      "Average FP Rate:  0\n"
     ]
    },
    {
     "data": {
      "application/vnd.jupyter.widget-view+json": {
       "model_id": "",
       "version_major": 2,
       "version_minor": 0
      },
      "text/plain": [
       "HBox(children=(FloatProgress(value=0.0, description='Training', layout=Layout(flex='2'), max=1250.0, style=Pro…"
      ]
     },
     "metadata": {},
     "output_type": "display_data"
    },
    {
     "name": "stdout",
     "output_type": "stream",
     "text": [
      "Epoch 1738: train=8.7874, val=8.62521, took 70.921 s\n",
      "  Validation Found 101758 of 108007, added 5546 (eff 94.21%) (0.277 FP/event)\n",
      "Result epoch:  1738\n",
      "Average Eff:  0\n",
      "Average FP Rate:  0\n"
     ]
    },
    {
     "data": {
      "application/vnd.jupyter.widget-view+json": {
       "model_id": "",
       "version_major": 2,
       "version_minor": 0
      },
      "text/plain": [
       "HBox(children=(FloatProgress(value=0.0, description='Training', layout=Layout(flex='2'), max=1250.0, style=Pro…"
      ]
     },
     "metadata": {},
     "output_type": "display_data"
    },
    {
     "name": "stdout",
     "output_type": "stream",
     "text": [
      "Epoch 1739: train=8.78263, val=8.63215, took 70.744 s\n",
      "  Validation Found 101782 of 108007, added 5618 (eff 94.24%) (0.281 FP/event)\n",
      "Result epoch:  1739\n",
      "Average Eff:  0\n",
      "Average FP Rate:  0\n"
     ]
    },
    {
     "data": {
      "application/vnd.jupyter.widget-view+json": {
       "model_id": "",
       "version_major": 2,
       "version_minor": 0
      },
      "text/plain": [
       "HBox(children=(FloatProgress(value=0.0, description='Training', layout=Layout(flex='2'), max=1250.0, style=Pro…"
      ]
     },
     "metadata": {},
     "output_type": "display_data"
    },
    {
     "name": "stdout",
     "output_type": "stream",
     "text": [
      "Epoch 1740: train=8.79087, val=8.63049, took 71.885 s\n",
      "  Validation Found 101728 of 108007, added 5486 (eff 94.19%) (0.274 FP/event)\n",
      "Result epoch:  1740\n",
      "Average Eff:  0\n",
      "Average FP Rate:  0\n"
     ]
    },
    {
     "data": {
      "application/vnd.jupyter.widget-view+json": {
       "model_id": "",
       "version_major": 2,
       "version_minor": 0
      },
      "text/plain": [
       "HBox(children=(FloatProgress(value=0.0, description='Training', layout=Layout(flex='2'), max=1250.0, style=Pro…"
      ]
     },
     "metadata": {},
     "output_type": "display_data"
    },
    {
     "name": "stdout",
     "output_type": "stream",
     "text": [
      "Epoch 1741: train=8.78066, val=8.62252, took 72.926 s\n",
      "  Validation Found 101760 of 108007, added 5540 (eff 94.22%) (0.277 FP/event)\n",
      "Result epoch:  1741\n",
      "Average Eff:  0\n",
      "Average FP Rate:  0\n"
     ]
    },
    {
     "data": {
      "application/vnd.jupyter.widget-view+json": {
       "model_id": "",
       "version_major": 2,
       "version_minor": 0
      },
      "text/plain": [
       "HBox(children=(FloatProgress(value=0.0, description='Training', layout=Layout(flex='2'), max=1250.0, style=Pro…"
      ]
     },
     "metadata": {},
     "output_type": "display_data"
    },
    {
     "name": "stdout",
     "output_type": "stream",
     "text": [
      "Epoch 1742: train=8.78828, val=8.63281, took 71.551 s\n",
      "  Validation Found 101624 of 108007, added 5346 (eff 94.09%) (0.267 FP/event)\n",
      "Result epoch:  1742\n",
      "Average Eff:  0\n",
      "Average FP Rate:  0\n"
     ]
    },
    {
     "data": {
      "application/vnd.jupyter.widget-view+json": {
       "model_id": "",
       "version_major": 2,
       "version_minor": 0
      },
      "text/plain": [
       "HBox(children=(FloatProgress(value=0.0, description='Training', layout=Layout(flex='2'), max=1250.0, style=Pro…"
      ]
     },
     "metadata": {},
     "output_type": "display_data"
    },
    {
     "name": "stdout",
     "output_type": "stream",
     "text": [
      "Epoch 1743: train=8.7846, val=8.62017, took 71.583 s\n",
      "  Validation Found 101714 of 108007, added 5449 (eff 94.17%) (0.272 FP/event)\n",
      "Result epoch:  1743\n",
      "Average Eff:  0\n",
      "Average FP Rate:  0\n"
     ]
    },
    {
     "data": {
      "application/vnd.jupyter.widget-view+json": {
       "model_id": "",
       "version_major": 2,
       "version_minor": 0
      },
      "text/plain": [
       "HBox(children=(FloatProgress(value=0.0, description='Training', layout=Layout(flex='2'), max=1250.0, style=Pro…"
      ]
     },
     "metadata": {},
     "output_type": "display_data"
    },
    {
     "name": "stdout",
     "output_type": "stream",
     "text": [
      "Epoch 1744: train=8.78502, val=8.63502, took 70.726 s\n",
      "  Validation Found 101636 of 108007, added 5342 (eff 94.10%) (0.267 FP/event)\n",
      "Result epoch:  1744\n",
      "Average Eff:  0\n",
      "Average FP Rate:  0\n"
     ]
    },
    {
     "data": {
      "application/vnd.jupyter.widget-view+json": {
       "model_id": "",
       "version_major": 2,
       "version_minor": 0
      },
      "text/plain": [
       "HBox(children=(FloatProgress(value=0.0, description='Training', layout=Layout(flex='2'), max=1250.0, style=Pro…"
      ]
     },
     "metadata": {},
     "output_type": "display_data"
    },
    {
     "name": "stdout",
     "output_type": "stream",
     "text": [
      "Epoch 1745: train=8.78354, val=8.62968, took 70.746 s\n",
      "  Validation Found 101726 of 108007, added 5476 (eff 94.18%) (0.274 FP/event)\n",
      "Result epoch:  1745\n",
      "Average Eff:  0\n",
      "Average FP Rate:  0\n"
     ]
    },
    {
     "data": {
      "application/vnd.jupyter.widget-view+json": {
       "model_id": "",
       "version_major": 2,
       "version_minor": 0
      },
      "text/plain": [
       "HBox(children=(FloatProgress(value=0.0, description='Training', layout=Layout(flex='2'), max=1250.0, style=Pro…"
      ]
     },
     "metadata": {},
     "output_type": "display_data"
    },
    {
     "name": "stdout",
     "output_type": "stream",
     "text": [
      "Epoch 1746: train=8.78532, val=8.62785, took 70.565 s\n",
      "  Validation Found 101757 of 108007, added 5528 (eff 94.21%) (0.276 FP/event)\n",
      "Result epoch:  1746\n",
      "Average Eff:  0\n",
      "Average FP Rate:  0\n"
     ]
    },
    {
     "data": {
      "application/vnd.jupyter.widget-view+json": {
       "model_id": "",
       "version_major": 2,
       "version_minor": 0
      },
      "text/plain": [
       "HBox(children=(FloatProgress(value=0.0, description='Training', layout=Layout(flex='2'), max=1250.0, style=Pro…"
      ]
     },
     "metadata": {},
     "output_type": "display_data"
    },
    {
     "name": "stdout",
     "output_type": "stream",
     "text": [
      "Epoch 1747: train=8.78649, val=8.63806, took 71.029 s\n",
      "  Validation Found 101758 of 108007, added 5542 (eff 94.21%) (0.277 FP/event)\n",
      "Result epoch:  1747\n",
      "Average Eff:  0\n",
      "Average FP Rate:  0\n"
     ]
    },
    {
     "data": {
      "application/vnd.jupyter.widget-view+json": {
       "model_id": "",
       "version_major": 2,
       "version_minor": 0
      },
      "text/plain": [
       "HBox(children=(FloatProgress(value=0.0, description='Training', layout=Layout(flex='2'), max=1250.0, style=Pro…"
      ]
     },
     "metadata": {},
     "output_type": "display_data"
    },
    {
     "name": "stdout",
     "output_type": "stream",
     "text": [
      "Epoch 1748: train=8.77908, val=8.62776, took 70.858 s\n",
      "  Validation Found 101681 of 108007, added 5408 (eff 94.14%) (0.27 FP/event)\n",
      "Result epoch:  1748\n",
      "Average Eff:  0\n",
      "Average FP Rate:  0\n"
     ]
    },
    {
     "data": {
      "application/vnd.jupyter.widget-view+json": {
       "model_id": "",
       "version_major": 2,
       "version_minor": 0
      },
      "text/plain": [
       "HBox(children=(FloatProgress(value=0.0, description='Training', layout=Layout(flex='2'), max=1250.0, style=Pro…"
      ]
     },
     "metadata": {},
     "output_type": "display_data"
    },
    {
     "name": "stdout",
     "output_type": "stream",
     "text": [
      "Epoch 1749: train=8.77955, val=8.63583, took 72.111 s\n",
      "  Validation Found 101645 of 108007, added 5359 (eff 94.11%) (0.268 FP/event)\n",
      "Result epoch:  1749\n",
      "Average Eff:  0\n",
      "Average FP Rate:  0\n"
     ]
    },
    {
     "data": {
      "application/vnd.jupyter.widget-view+json": {
       "model_id": "",
       "version_major": 2,
       "version_minor": 0
      },
      "text/plain": [
       "HBox(children=(FloatProgress(value=0.0, description='Training', layout=Layout(flex='2'), max=1250.0, style=Pro…"
      ]
     },
     "metadata": {},
     "output_type": "display_data"
    },
    {
     "name": "stdout",
     "output_type": "stream",
     "text": [
      "Epoch 1750: train=8.78581, val=8.63107, took 72.629 s\n",
      "  Validation Found 101693 of 108007, added 5426 (eff 94.15%) (0.271 FP/event)\n",
      "Result epoch:  1750\n",
      "Average Eff:  0\n",
      "Average FP Rate:  0\n"
     ]
    },
    {
     "data": {
      "application/vnd.jupyter.widget-view+json": {
       "model_id": "",
       "version_major": 2,
       "version_minor": 0
      },
      "text/plain": [
       "HBox(children=(FloatProgress(value=0.0, description='Training', layout=Layout(flex='2'), max=1250.0, style=Pro…"
      ]
     },
     "metadata": {},
     "output_type": "display_data"
    },
    {
     "name": "stdout",
     "output_type": "stream",
     "text": [
      "Epoch 1751: train=8.77817, val=8.63091, took 72.862 s\n",
      "  Validation Found 101751 of 108007, added 5535 (eff 94.21%) (0.277 FP/event)\n",
      "Result epoch:  1751\n",
      "Average Eff:  0\n",
      "Average FP Rate:  0\n"
     ]
    },
    {
     "data": {
      "application/vnd.jupyter.widget-view+json": {
       "model_id": "",
       "version_major": 2,
       "version_minor": 0
      },
      "text/plain": [
       "HBox(children=(FloatProgress(value=0.0, description='Training', layout=Layout(flex='2'), max=1250.0, style=Pro…"
      ]
     },
     "metadata": {},
     "output_type": "display_data"
    },
    {
     "name": "stdout",
     "output_type": "stream",
     "text": [
      "Epoch 1752: train=8.77989, val=8.62664, took 72.307 s\n",
      "  Validation Found 101729 of 108007, added 5504 (eff 94.19%) (0.275 FP/event)\n",
      "Result epoch:  1752\n",
      "Average Eff:  0\n",
      "Average FP Rate:  0\n"
     ]
    },
    {
     "data": {
      "application/vnd.jupyter.widget-view+json": {
       "model_id": "",
       "version_major": 2,
       "version_minor": 0
      },
      "text/plain": [
       "HBox(children=(FloatProgress(value=0.0, description='Training', layout=Layout(flex='2'), max=1250.0, style=Pro…"
      ]
     },
     "metadata": {},
     "output_type": "display_data"
    },
    {
     "name": "stdout",
     "output_type": "stream",
     "text": [
      "Epoch 1753: train=8.78617, val=8.63071, took 72.533 s\n",
      "  Validation Found 101675 of 108007, added 5383 (eff 94.14%) (0.269 FP/event)\n",
      "Result epoch:  1753\n",
      "Average Eff:  0\n",
      "Average FP Rate:  0\n"
     ]
    },
    {
     "data": {
      "application/vnd.jupyter.widget-view+json": {
       "model_id": "",
       "version_major": 2,
       "version_minor": 0
      },
      "text/plain": [
       "HBox(children=(FloatProgress(value=0.0, description='Training', layout=Layout(flex='2'), max=1250.0, style=Pro…"
      ]
     },
     "metadata": {},
     "output_type": "display_data"
    },
    {
     "name": "stdout",
     "output_type": "stream",
     "text": [
      "Epoch 1754: train=8.78166, val=8.62312, took 72.553 s\n",
      "  Validation Found 101715 of 108007, added 5456 (eff 94.17%) (0.273 FP/event)\n",
      "Result epoch:  1754\n",
      "Average Eff:  0\n",
      "Average FP Rate:  0\n"
     ]
    },
    {
     "data": {
      "application/vnd.jupyter.widget-view+json": {
       "model_id": "",
       "version_major": 2,
       "version_minor": 0
      },
      "text/plain": [
       "HBox(children=(FloatProgress(value=0.0, description='Training', layout=Layout(flex='2'), max=1250.0, style=Pro…"
      ]
     },
     "metadata": {},
     "output_type": "display_data"
    },
    {
     "name": "stdout",
     "output_type": "stream",
     "text": [
      "Epoch 1755: train=8.7805, val=8.62595, took 72.824 s\n",
      "  Validation Found 101711 of 108007, added 5449 (eff 94.17%) (0.272 FP/event)\n",
      "Result epoch:  1755\n",
      "Average Eff:  0\n",
      "Average FP Rate:  0\n"
     ]
    },
    {
     "data": {
      "application/vnd.jupyter.widget-view+json": {
       "model_id": "",
       "version_major": 2,
       "version_minor": 0
      },
      "text/plain": [
       "HBox(children=(FloatProgress(value=0.0, description='Training', layout=Layout(flex='2'), max=1250.0, style=Pro…"
      ]
     },
     "metadata": {},
     "output_type": "display_data"
    },
    {
     "name": "stdout",
     "output_type": "stream",
     "text": [
      "Epoch 1756: train=8.77985, val=8.62938, took 72.52 s\n",
      "  Validation Found 101679 of 108007, added 5398 (eff 94.14%) (0.27 FP/event)\n",
      "Result epoch:  1756\n",
      "Average Eff:  0\n",
      "Average FP Rate:  0\n"
     ]
    },
    {
     "data": {
      "application/vnd.jupyter.widget-view+json": {
       "model_id": "",
       "version_major": 2,
       "version_minor": 0
      },
      "text/plain": [
       "HBox(children=(FloatProgress(value=0.0, description='Training', layout=Layout(flex='2'), max=1250.0, style=Pro…"
      ]
     },
     "metadata": {},
     "output_type": "display_data"
    },
    {
     "name": "stdout",
     "output_type": "stream",
     "text": [
      "Epoch 1757: train=8.77382, val=8.62879, took 72.4 s\n",
      "  Validation Found 101750 of 108007, added 5493 (eff 94.21%) (0.275 FP/event)\n",
      "Result epoch:  1757\n",
      "Average Eff:  0\n",
      "Average FP Rate:  0\n"
     ]
    },
    {
     "data": {
      "application/vnd.jupyter.widget-view+json": {
       "model_id": "",
       "version_major": 2,
       "version_minor": 0
      },
      "text/plain": [
       "HBox(children=(FloatProgress(value=0.0, description='Training', layout=Layout(flex='2'), max=1250.0, style=Pro…"
      ]
     },
     "metadata": {},
     "output_type": "display_data"
    },
    {
     "name": "stdout",
     "output_type": "stream",
     "text": [
      "Epoch 1758: train=8.78363, val=8.62931, took 71.297 s\n",
      "  Validation Found 101670 of 108007, added 5387 (eff 94.13%) (0.269 FP/event)\n",
      "Result epoch:  1758\n",
      "Average Eff:  0\n",
      "Average FP Rate:  0\n"
     ]
    },
    {
     "data": {
      "application/vnd.jupyter.widget-view+json": {
       "model_id": "",
       "version_major": 2,
       "version_minor": 0
      },
      "text/plain": [
       "HBox(children=(FloatProgress(value=0.0, description='Training', layout=Layout(flex='2'), max=1250.0, style=Pro…"
      ]
     },
     "metadata": {},
     "output_type": "display_data"
    },
    {
     "name": "stdout",
     "output_type": "stream",
     "text": [
      "Epoch 1759: train=8.78256, val=8.62834, took 71.052 s\n",
      "  Validation Found 101638 of 108007, added 5308 (eff 94.10%) (0.265 FP/event)\n",
      "Result epoch:  1759\n",
      "Average Eff:  0\n",
      "Average FP Rate:  0\n"
     ]
    },
    {
     "data": {
      "application/vnd.jupyter.widget-view+json": {
       "model_id": "",
       "version_major": 2,
       "version_minor": 0
      },
      "text/plain": [
       "HBox(children=(FloatProgress(value=0.0, description='Training', layout=Layout(flex='2'), max=1250.0, style=Pro…"
      ]
     },
     "metadata": {},
     "output_type": "display_data"
    },
    {
     "name": "stdout",
     "output_type": "stream",
     "text": [
      "Epoch 1760: train=8.7864, val=8.62563, took 72.677 s\n",
      "  Validation Found 101671 of 108007, added 5346 (eff 94.13%) (0.267 FP/event)\n",
      "Result epoch:  1760\n",
      "Average Eff:  0\n",
      "Average FP Rate:  0\n"
     ]
    },
    {
     "data": {
      "application/vnd.jupyter.widget-view+json": {
       "model_id": "",
       "version_major": 2,
       "version_minor": 0
      },
      "text/plain": [
       "HBox(children=(FloatProgress(value=0.0, description='Training', layout=Layout(flex='2'), max=1250.0, style=Pro…"
      ]
     },
     "metadata": {},
     "output_type": "display_data"
    },
    {
     "name": "stdout",
     "output_type": "stream",
     "text": [
      "Epoch 1761: train=8.7838, val=8.63249, took 72.804 s\n",
      "  Validation Found 101734 of 108007, added 5481 (eff 94.19%) (0.274 FP/event)\n",
      "Result epoch:  1761\n",
      "Average Eff:  0\n",
      "Average FP Rate:  0\n"
     ]
    },
    {
     "data": {
      "application/vnd.jupyter.widget-view+json": {
       "model_id": "",
       "version_major": 2,
       "version_minor": 0
      },
      "text/plain": [
       "HBox(children=(FloatProgress(value=0.0, description='Training', layout=Layout(flex='2'), max=1250.0, style=Pro…"
      ]
     },
     "metadata": {},
     "output_type": "display_data"
    },
    {
     "name": "stdout",
     "output_type": "stream",
     "text": [
      "Epoch 1762: train=8.78629, val=8.63598, took 72.242 s\n",
      "  Validation Found 101621 of 108007, added 5336 (eff 94.09%) (0.267 FP/event)\n",
      "Result epoch:  1762\n",
      "Average Eff:  0\n",
      "Average FP Rate:  0\n"
     ]
    },
    {
     "data": {
      "application/vnd.jupyter.widget-view+json": {
       "model_id": "",
       "version_major": 2,
       "version_minor": 0
      },
      "text/plain": [
       "HBox(children=(FloatProgress(value=0.0, description='Training', layout=Layout(flex='2'), max=1250.0, style=Pro…"
      ]
     },
     "metadata": {},
     "output_type": "display_data"
    },
    {
     "name": "stdout",
     "output_type": "stream",
     "text": [
      "Epoch 1763: train=8.78109, val=8.63299, took 73.299 s\n",
      "  Validation Found 101702 of 108007, added 5433 (eff 94.16%) (0.272 FP/event)\n",
      "Result epoch:  1763\n",
      "Average Eff:  0\n",
      "Average FP Rate:  0\n"
     ]
    },
    {
     "data": {
      "application/vnd.jupyter.widget-view+json": {
       "model_id": "",
       "version_major": 2,
       "version_minor": 0
      },
      "text/plain": [
       "HBox(children=(FloatProgress(value=0.0, description='Training', layout=Layout(flex='2'), max=1250.0, style=Pro…"
      ]
     },
     "metadata": {},
     "output_type": "display_data"
    },
    {
     "name": "stdout",
     "output_type": "stream",
     "text": [
      "Epoch 1764: train=8.7817, val=8.63112, took 72.507 s\n",
      "  Validation Found 101718 of 108007, added 5450 (eff 94.18%) (0.272 FP/event)\n",
      "Result epoch:  1764\n",
      "Average Eff:  0\n",
      "Average FP Rate:  0\n"
     ]
    },
    {
     "data": {
      "application/vnd.jupyter.widget-view+json": {
       "model_id": "",
       "version_major": 2,
       "version_minor": 0
      },
      "text/plain": [
       "HBox(children=(FloatProgress(value=0.0, description='Training', layout=Layout(flex='2'), max=1250.0, style=Pro…"
      ]
     },
     "metadata": {},
     "output_type": "display_data"
    },
    {
     "name": "stdout",
     "output_type": "stream",
     "text": [
      "Epoch 1765: train=8.77883, val=8.63335, took 72.241 s\n",
      "  Validation Found 101717 of 108007, added 5448 (eff 94.18%) (0.272 FP/event)\n",
      "Result epoch:  1765\n",
      "Average Eff:  0\n",
      "Average FP Rate:  0\n"
     ]
    },
    {
     "data": {
      "application/vnd.jupyter.widget-view+json": {
       "model_id": "",
       "version_major": 2,
       "version_minor": 0
      },
      "text/plain": [
       "HBox(children=(FloatProgress(value=0.0, description='Training', layout=Layout(flex='2'), max=1250.0, style=Pro…"
      ]
     },
     "metadata": {},
     "output_type": "display_data"
    },
    {
     "name": "stdout",
     "output_type": "stream",
     "text": [
      "Epoch 1766: train=8.78036, val=8.63403, took 72.095 s\n",
      "  Validation Found 101715 of 108007, added 5438 (eff 94.17%) (0.272 FP/event)\n",
      "Result epoch:  1766\n",
      "Average Eff:  0\n",
      "Average FP Rate:  0\n"
     ]
    },
    {
     "data": {
      "application/vnd.jupyter.widget-view+json": {
       "model_id": "",
       "version_major": 2,
       "version_minor": 0
      },
      "text/plain": [
       "HBox(children=(FloatProgress(value=0.0, description='Training', layout=Layout(flex='2'), max=1250.0, style=Pro…"
      ]
     },
     "metadata": {},
     "output_type": "display_data"
    },
    {
     "name": "stdout",
     "output_type": "stream",
     "text": [
      "Epoch 1767: train=8.7864, val=8.62953, took 72.763 s\n",
      "  Validation Found 101777 of 108007, added 5617 (eff 94.23%) (0.281 FP/event)\n",
      "Result epoch:  1767\n",
      "Average Eff:  0\n",
      "Average FP Rate:  0\n"
     ]
    },
    {
     "data": {
      "application/vnd.jupyter.widget-view+json": {
       "model_id": "",
       "version_major": 2,
       "version_minor": 0
      },
      "text/plain": [
       "HBox(children=(FloatProgress(value=0.0, description='Training', layout=Layout(flex='2'), max=1250.0, style=Pro…"
      ]
     },
     "metadata": {},
     "output_type": "display_data"
    },
    {
     "name": "stdout",
     "output_type": "stream",
     "text": [
      "Epoch 1768: train=8.78213, val=8.6283, took 72.417 s\n",
      "  Validation Found 101676 of 108007, added 5381 (eff 94.14%) (0.269 FP/event)\n",
      "Result epoch:  1768\n",
      "Average Eff:  0\n",
      "Average FP Rate:  0\n"
     ]
    },
    {
     "data": {
      "application/vnd.jupyter.widget-view+json": {
       "model_id": "",
       "version_major": 2,
       "version_minor": 0
      },
      "text/plain": [
       "HBox(children=(FloatProgress(value=0.0, description='Training', layout=Layout(flex='2'), max=1250.0, style=Pro…"
      ]
     },
     "metadata": {},
     "output_type": "display_data"
    },
    {
     "name": "stdout",
     "output_type": "stream",
     "text": [
      "Epoch 1769: train=8.77977, val=8.63026, took 73.34 s\n",
      "  Validation Found 101715 of 108007, added 5440 (eff 94.17%) (0.272 FP/event)\n",
      "Result epoch:  1769\n",
      "Average Eff:  0\n",
      "Average FP Rate:  0\n"
     ]
    },
    {
     "data": {
      "application/vnd.jupyter.widget-view+json": {
       "model_id": "",
       "version_major": 2,
       "version_minor": 0
      },
      "text/plain": [
       "HBox(children=(FloatProgress(value=0.0, description='Training', layout=Layout(flex='2'), max=1250.0, style=Pro…"
      ]
     },
     "metadata": {},
     "output_type": "display_data"
    },
    {
     "name": "stdout",
     "output_type": "stream",
     "text": [
      "Epoch 1770: train=8.78644, val=8.6314, took 71.224 s\n",
      "  Validation Found 101676 of 108007, added 5380 (eff 94.14%) (0.269 FP/event)\n",
      "Result epoch:  1770\n",
      "Average Eff:  0\n",
      "Average FP Rate:  0\n"
     ]
    },
    {
     "data": {
      "application/vnd.jupyter.widget-view+json": {
       "model_id": "",
       "version_major": 2,
       "version_minor": 0
      },
      "text/plain": [
       "HBox(children=(FloatProgress(value=0.0, description='Training', layout=Layout(flex='2'), max=1250.0, style=Pro…"
      ]
     },
     "metadata": {},
     "output_type": "display_data"
    },
    {
     "name": "stdout",
     "output_type": "stream",
     "text": [
      "Epoch 1771: train=8.78764, val=8.62788, took 71.803 s\n",
      "  Validation Found 101764 of 108007, added 5562 (eff 94.22%) (0.278 FP/event)\n",
      "Result epoch:  1771\n",
      "Average Eff:  0\n",
      "Average FP Rate:  0\n"
     ]
    },
    {
     "data": {
      "application/vnd.jupyter.widget-view+json": {
       "model_id": "",
       "version_major": 2,
       "version_minor": 0
      },
      "text/plain": [
       "HBox(children=(FloatProgress(value=0.0, description='Training', layout=Layout(flex='2'), max=1250.0, style=Pro…"
      ]
     },
     "metadata": {},
     "output_type": "display_data"
    },
    {
     "name": "stdout",
     "output_type": "stream",
     "text": [
      "Epoch 1772: train=8.78455, val=8.63373, took 70.659 s\n",
      "  Validation Found 101734 of 108007, added 5492 (eff 94.19%) (0.275 FP/event)\n",
      "Result epoch:  1772\n",
      "Average Eff:  0\n",
      "Average FP Rate:  0\n"
     ]
    },
    {
     "data": {
      "application/vnd.jupyter.widget-view+json": {
       "model_id": "",
       "version_major": 2,
       "version_minor": 0
      },
      "text/plain": [
       "HBox(children=(FloatProgress(value=0.0, description='Training', layout=Layout(flex='2'), max=1250.0, style=Pro…"
      ]
     },
     "metadata": {},
     "output_type": "display_data"
    },
    {
     "name": "stdout",
     "output_type": "stream",
     "text": [
      "Epoch 1773: train=8.78011, val=8.62974, took 71.07 s\n",
      "  Validation Found 101736 of 108007, added 5497 (eff 94.19%) (0.275 FP/event)\n",
      "Result epoch:  1773\n",
      "Average Eff:  0\n",
      "Average FP Rate:  0\n"
     ]
    },
    {
     "data": {
      "application/vnd.jupyter.widget-view+json": {
       "model_id": "",
       "version_major": 2,
       "version_minor": 0
      },
      "text/plain": [
       "HBox(children=(FloatProgress(value=0.0, description='Training', layout=Layout(flex='2'), max=1250.0, style=Pro…"
      ]
     },
     "metadata": {},
     "output_type": "display_data"
    },
    {
     "name": "stdout",
     "output_type": "stream",
     "text": [
      "Epoch 1774: train=8.78018, val=8.63236, took 70.867 s\n",
      "  Validation Found 101731 of 108007, added 5468 (eff 94.19%) (0.273 FP/event)\n",
      "Result epoch:  1774\n",
      "Average Eff:  0\n",
      "Average FP Rate:  0\n"
     ]
    },
    {
     "data": {
      "application/vnd.jupyter.widget-view+json": {
       "model_id": "",
       "version_major": 2,
       "version_minor": 0
      },
      "text/plain": [
       "HBox(children=(FloatProgress(value=0.0, description='Training', layout=Layout(flex='2'), max=1250.0, style=Pro…"
      ]
     },
     "metadata": {},
     "output_type": "display_data"
    },
    {
     "name": "stdout",
     "output_type": "stream",
     "text": [
      "Epoch 1775: train=8.78771, val=8.62052, took 71.199 s\n",
      "  Validation Found 101700 of 108007, added 5393 (eff 94.16%) (0.27 FP/event)\n",
      "Result epoch:  1775\n",
      "Average Eff:  0\n",
      "Average FP Rate:  0\n"
     ]
    },
    {
     "data": {
      "application/vnd.jupyter.widget-view+json": {
       "model_id": "",
       "version_major": 2,
       "version_minor": 0
      },
      "text/plain": [
       "HBox(children=(FloatProgress(value=0.0, description='Training', layout=Layout(flex='2'), max=1250.0, style=Pro…"
      ]
     },
     "metadata": {},
     "output_type": "display_data"
    },
    {
     "name": "stdout",
     "output_type": "stream",
     "text": [
      "Epoch 1776: train=8.78039, val=8.6289, took 71.416 s\n",
      "  Validation Found 101735 of 108007, added 5466 (eff 94.19%) (0.273 FP/event)\n",
      "Result epoch:  1776\n",
      "Average Eff:  0\n",
      "Average FP Rate:  0\n"
     ]
    },
    {
     "data": {
      "application/vnd.jupyter.widget-view+json": {
       "model_id": "",
       "version_major": 2,
       "version_minor": 0
      },
      "text/plain": [
       "HBox(children=(FloatProgress(value=0.0, description='Training', layout=Layout(flex='2'), max=1250.0, style=Pro…"
      ]
     },
     "metadata": {},
     "output_type": "display_data"
    },
    {
     "name": "stdout",
     "output_type": "stream",
     "text": [
      "Epoch 1777: train=8.77929, val=8.63113, took 71.484 s\n",
      "  Validation Found 101728 of 108007, added 5468 (eff 94.19%) (0.273 FP/event)\n",
      "Result epoch:  1777\n",
      "Average Eff:  0\n",
      "Average FP Rate:  0\n"
     ]
    },
    {
     "data": {
      "application/vnd.jupyter.widget-view+json": {
       "model_id": "",
       "version_major": 2,
       "version_minor": 0
      },
      "text/plain": [
       "HBox(children=(FloatProgress(value=0.0, description='Training', layout=Layout(flex='2'), max=1250.0, style=Pro…"
      ]
     },
     "metadata": {},
     "output_type": "display_data"
    },
    {
     "name": "stdout",
     "output_type": "stream",
     "text": [
      "Epoch 1778: train=8.78611, val=8.62855, took 71.291 s\n",
      "  Validation Found 101672 of 108007, added 5381 (eff 94.13%) (0.269 FP/event)\n",
      "Result epoch:  1778\n",
      "Average Eff:  0\n",
      "Average FP Rate:  0\n"
     ]
    },
    {
     "data": {
      "application/vnd.jupyter.widget-view+json": {
       "model_id": "",
       "version_major": 2,
       "version_minor": 0
      },
      "text/plain": [
       "HBox(children=(FloatProgress(value=0.0, description='Training', layout=Layout(flex='2'), max=1250.0, style=Pro…"
      ]
     },
     "metadata": {},
     "output_type": "display_data"
    },
    {
     "name": "stdout",
     "output_type": "stream",
     "text": [
      "Epoch 1779: train=8.77838, val=8.62802, took 72.549 s\n",
      "  Validation Found 101666 of 108007, added 5373 (eff 94.13%) (0.269 FP/event)\n",
      "Result epoch:  1779\n",
      "Average Eff:  0\n",
      "Average FP Rate:  0\n"
     ]
    },
    {
     "data": {
      "application/vnd.jupyter.widget-view+json": {
       "model_id": "",
       "version_major": 2,
       "version_minor": 0
      },
      "text/plain": [
       "HBox(children=(FloatProgress(value=0.0, description='Training', layout=Layout(flex='2'), max=1250.0, style=Pro…"
      ]
     },
     "metadata": {},
     "output_type": "display_data"
    },
    {
     "name": "stdout",
     "output_type": "stream",
     "text": [
      "Epoch 1780: train=8.7775, val=8.63163, took 72.725 s\n",
      "  Validation Found 101668 of 108007, added 5383 (eff 94.13%) (0.269 FP/event)\n",
      "Result epoch:  1780\n",
      "Average Eff:  0\n",
      "Average FP Rate:  0\n"
     ]
    },
    {
     "data": {
      "application/vnd.jupyter.widget-view+json": {
       "model_id": "",
       "version_major": 2,
       "version_minor": 0
      },
      "text/plain": [
       "HBox(children=(FloatProgress(value=0.0, description='Training', layout=Layout(flex='2'), max=1250.0, style=Pro…"
      ]
     },
     "metadata": {},
     "output_type": "display_data"
    },
    {
     "name": "stdout",
     "output_type": "stream",
     "text": [
      "Epoch 1781: train=8.77902, val=8.63209, took 73.102 s\n",
      "  Validation Found 101652 of 108007, added 5343 (eff 94.12%) (0.267 FP/event)\n",
      "Result epoch:  1781\n",
      "Average Eff:  0\n",
      "Average FP Rate:  0\n"
     ]
    },
    {
     "data": {
      "application/vnd.jupyter.widget-view+json": {
       "model_id": "",
       "version_major": 2,
       "version_minor": 0
      },
      "text/plain": [
       "HBox(children=(FloatProgress(value=0.0, description='Training', layout=Layout(flex='2'), max=1250.0, style=Pro…"
      ]
     },
     "metadata": {},
     "output_type": "display_data"
    },
    {
     "name": "stdout",
     "output_type": "stream",
     "text": [
      "Epoch 1782: train=8.78219, val=8.63449, took 72.134 s\n",
      "  Validation Found 101683 of 108007, added 5413 (eff 94.14%) (0.271 FP/event)\n",
      "Result epoch:  1782\n",
      "Average Eff:  0\n",
      "Average FP Rate:  0\n"
     ]
    },
    {
     "data": {
      "application/vnd.jupyter.widget-view+json": {
       "model_id": "",
       "version_major": 2,
       "version_minor": 0
      },
      "text/plain": [
       "HBox(children=(FloatProgress(value=0.0, description='Training', layout=Layout(flex='2'), max=1250.0, style=Pro…"
      ]
     },
     "metadata": {},
     "output_type": "display_data"
    },
    {
     "name": "stdout",
     "output_type": "stream",
     "text": [
      "Epoch 1783: train=8.78194, val=8.63217, took 72.283 s\n",
      "  Validation Found 101704 of 108007, added 5426 (eff 94.16%) (0.271 FP/event)\n",
      "Result epoch:  1783\n",
      "Average Eff:  0\n",
      "Average FP Rate:  0\n"
     ]
    },
    {
     "data": {
      "application/vnd.jupyter.widget-view+json": {
       "model_id": "",
       "version_major": 2,
       "version_minor": 0
      },
      "text/plain": [
       "HBox(children=(FloatProgress(value=0.0, description='Training', layout=Layout(flex='2'), max=1250.0, style=Pro…"
      ]
     },
     "metadata": {},
     "output_type": "display_data"
    },
    {
     "name": "stdout",
     "output_type": "stream",
     "text": [
      "Epoch 1784: train=8.77789, val=8.63328, took 70.8 s\n",
      "  Validation Found 101739 of 108007, added 5519 (eff 94.20%) (0.276 FP/event)\n",
      "Result epoch:  1784\n",
      "Average Eff:  0\n",
      "Average FP Rate:  0\n"
     ]
    },
    {
     "data": {
      "application/vnd.jupyter.widget-view+json": {
       "model_id": "",
       "version_major": 2,
       "version_minor": 0
      },
      "text/plain": [
       "HBox(children=(FloatProgress(value=0.0, description='Training', layout=Layout(flex='2'), max=1250.0, style=Pro…"
      ]
     },
     "metadata": {},
     "output_type": "display_data"
    },
    {
     "name": "stdout",
     "output_type": "stream",
     "text": [
      "Epoch 1785: train=8.78039, val=8.63201, took 72.458 s\n",
      "  Validation Found 101715 of 108007, added 5440 (eff 94.17%) (0.272 FP/event)\n",
      "Result epoch:  1785\n",
      "Average Eff:  0\n",
      "Average FP Rate:  0\n"
     ]
    },
    {
     "data": {
      "application/vnd.jupyter.widget-view+json": {
       "model_id": "",
       "version_major": 2,
       "version_minor": 0
      },
      "text/plain": [
       "HBox(children=(FloatProgress(value=0.0, description='Training', layout=Layout(flex='2'), max=1250.0, style=Pro…"
      ]
     },
     "metadata": {},
     "output_type": "display_data"
    },
    {
     "name": "stdout",
     "output_type": "stream",
     "text": [
      "Epoch 1786: train=8.77763, val=8.6374, took 71.618 s\n",
      "  Validation Found 101774 of 108007, added 5611 (eff 94.23%) (0.281 FP/event)\n",
      "Result epoch:  1786\n",
      "Average Eff:  0\n",
      "Average FP Rate:  0\n"
     ]
    },
    {
     "data": {
      "application/vnd.jupyter.widget-view+json": {
       "model_id": "",
       "version_major": 2,
       "version_minor": 0
      },
      "text/plain": [
       "HBox(children=(FloatProgress(value=0.0, description='Training', layout=Layout(flex='2'), max=1250.0, style=Pro…"
      ]
     },
     "metadata": {},
     "output_type": "display_data"
    },
    {
     "name": "stdout",
     "output_type": "stream",
     "text": [
      "Epoch 1787: train=8.77782, val=8.62563, took 72.438 s\n",
      "  Validation Found 101726 of 108007, added 5455 (eff 94.18%) (0.273 FP/event)\n",
      "Result epoch:  1787\n",
      "Average Eff:  0\n",
      "Average FP Rate:  0\n"
     ]
    },
    {
     "data": {
      "application/vnd.jupyter.widget-view+json": {
       "model_id": "",
       "version_major": 2,
       "version_minor": 0
      },
      "text/plain": [
       "HBox(children=(FloatProgress(value=0.0, description='Training', layout=Layout(flex='2'), max=1250.0, style=Pro…"
      ]
     },
     "metadata": {},
     "output_type": "display_data"
    },
    {
     "name": "stdout",
     "output_type": "stream",
     "text": [
      "Epoch 1788: train=8.78267, val=8.6324, took 72.407 s\n",
      "  Validation Found 101749 of 108007, added 5549 (eff 94.21%) (0.277 FP/event)\n",
      "Result epoch:  1788\n",
      "Average Eff:  0\n",
      "Average FP Rate:  0\n"
     ]
    },
    {
     "data": {
      "application/vnd.jupyter.widget-view+json": {
       "model_id": "",
       "version_major": 2,
       "version_minor": 0
      },
      "text/plain": [
       "HBox(children=(FloatProgress(value=0.0, description='Training', layout=Layout(flex='2'), max=1250.0, style=Pro…"
      ]
     },
     "metadata": {},
     "output_type": "display_data"
    },
    {
     "name": "stdout",
     "output_type": "stream",
     "text": [
      "Epoch 1789: train=8.7839, val=8.63047, took 71.648 s\n",
      "  Validation Found 101697 of 108007, added 5431 (eff 94.16%) (0.272 FP/event)\n",
      "Result epoch:  1789\n",
      "Average Eff:  0\n",
      "Average FP Rate:  0\n"
     ]
    },
    {
     "data": {
      "application/vnd.jupyter.widget-view+json": {
       "model_id": "",
       "version_major": 2,
       "version_minor": 0
      },
      "text/plain": [
       "HBox(children=(FloatProgress(value=0.0, description='Training', layout=Layout(flex='2'), max=1250.0, style=Pro…"
      ]
     },
     "metadata": {},
     "output_type": "display_data"
    },
    {
     "name": "stdout",
     "output_type": "stream",
     "text": [
      "Epoch 1790: train=8.78498, val=8.63482, took 71.88 s\n",
      "  Validation Found 101781 of 108007, added 5607 (eff 94.24%) (0.28 FP/event)\n",
      "Result epoch:  1790\n",
      "Average Eff:  0\n",
      "Average FP Rate:  0\n"
     ]
    },
    {
     "data": {
      "application/vnd.jupyter.widget-view+json": {
       "model_id": "",
       "version_major": 2,
       "version_minor": 0
      },
      "text/plain": [
       "HBox(children=(FloatProgress(value=0.0, description='Training', layout=Layout(flex='2'), max=1250.0, style=Pro…"
      ]
     },
     "metadata": {},
     "output_type": "display_data"
    },
    {
     "name": "stdout",
     "output_type": "stream",
     "text": [
      "Epoch 1791: train=8.78664, val=8.62482, took 71.353 s\n",
      "  Validation Found 101691 of 108007, added 5391 (eff 94.15%) (0.27 FP/event)\n",
      "Result epoch:  1791\n",
      "Average Eff:  0\n",
      "Average FP Rate:  0\n"
     ]
    },
    {
     "data": {
      "application/vnd.jupyter.widget-view+json": {
       "model_id": "",
       "version_major": 2,
       "version_minor": 0
      },
      "text/plain": [
       "HBox(children=(FloatProgress(value=0.0, description='Training', layout=Layout(flex='2'), max=1250.0, style=Pro…"
      ]
     },
     "metadata": {},
     "output_type": "display_data"
    },
    {
     "name": "stdout",
     "output_type": "stream",
     "text": [
      "Epoch 1792: train=8.7835, val=8.63445, took 70.702 s\n",
      "  Validation Found 101581 of 108007, added 5264 (eff 94.05%) (0.263 FP/event)\n",
      "Result epoch:  1792\n",
      "Average Eff:  0\n",
      "Average FP Rate:  0\n"
     ]
    },
    {
     "data": {
      "application/vnd.jupyter.widget-view+json": {
       "model_id": "",
       "version_major": 2,
       "version_minor": 0
      },
      "text/plain": [
       "HBox(children=(FloatProgress(value=0.0, description='Training', layout=Layout(flex='2'), max=1250.0, style=Pro…"
      ]
     },
     "metadata": {},
     "output_type": "display_data"
    },
    {
     "name": "stdout",
     "output_type": "stream",
     "text": [
      "Epoch 1793: train=8.78526, val=8.62876, took 70.864 s\n",
      "  Validation Found 101730 of 108007, added 5452 (eff 94.19%) (0.273 FP/event)\n",
      "Result epoch:  1793\n",
      "Average Eff:  0\n",
      "Average FP Rate:  0\n"
     ]
    },
    {
     "data": {
      "application/vnd.jupyter.widget-view+json": {
       "model_id": "",
       "version_major": 2,
       "version_minor": 0
      },
      "text/plain": [
       "HBox(children=(FloatProgress(value=0.0, description='Training', layout=Layout(flex='2'), max=1250.0, style=Pro…"
      ]
     },
     "metadata": {},
     "output_type": "display_data"
    },
    {
     "name": "stdout",
     "output_type": "stream",
     "text": [
      "Epoch 1794: train=8.78254, val=8.64243, took 70.826 s\n",
      "  Validation Found 101786 of 108007, added 5616 (eff 94.24%) (0.281 FP/event)\n",
      "Result epoch:  1794\n",
      "Average Eff:  0\n",
      "Average FP Rate:  0\n"
     ]
    },
    {
     "data": {
      "application/vnd.jupyter.widget-view+json": {
       "model_id": "",
       "version_major": 2,
       "version_minor": 0
      },
      "text/plain": [
       "HBox(children=(FloatProgress(value=0.0, description='Training', layout=Layout(flex='2'), max=1250.0, style=Pro…"
      ]
     },
     "metadata": {},
     "output_type": "display_data"
    },
    {
     "name": "stdout",
     "output_type": "stream",
     "text": [
      "Epoch 1795: train=8.78127, val=8.63073, took 71.924 s\n",
      "  Validation Found 101713 of 108007, added 5435 (eff 94.17%) (0.272 FP/event)\n",
      "Result epoch:  1795\n",
      "Average Eff:  0\n",
      "Average FP Rate:  0\n"
     ]
    },
    {
     "data": {
      "application/vnd.jupyter.widget-view+json": {
       "model_id": "",
       "version_major": 2,
       "version_minor": 0
      },
      "text/plain": [
       "HBox(children=(FloatProgress(value=0.0, description='Training', layout=Layout(flex='2'), max=1250.0, style=Pro…"
      ]
     },
     "metadata": {},
     "output_type": "display_data"
    },
    {
     "name": "stdout",
     "output_type": "stream",
     "text": [
      "Epoch 1796: train=8.78037, val=8.62425, took 72.255 s\n",
      "  Validation Found 101724 of 108007, added 5463 (eff 94.18%) (0.273 FP/event)\n",
      "Result epoch:  1796\n",
      "Average Eff:  0\n",
      "Average FP Rate:  0\n"
     ]
    },
    {
     "data": {
      "application/vnd.jupyter.widget-view+json": {
       "model_id": "",
       "version_major": 2,
       "version_minor": 0
      },
      "text/plain": [
       "HBox(children=(FloatProgress(value=0.0, description='Training', layout=Layout(flex='2'), max=1250.0, style=Pro…"
      ]
     },
     "metadata": {},
     "output_type": "display_data"
    },
    {
     "name": "stdout",
     "output_type": "stream",
     "text": [
      "Epoch 1797: train=8.78309, val=8.62876, took 72.182 s\n",
      "  Validation Found 101725 of 108007, added 5445 (eff 94.18%) (0.272 FP/event)\n",
      "Result epoch:  1797\n",
      "Average Eff:  0\n",
      "Average FP Rate:  0\n"
     ]
    },
    {
     "data": {
      "application/vnd.jupyter.widget-view+json": {
       "model_id": "",
       "version_major": 2,
       "version_minor": 0
      },
      "text/plain": [
       "HBox(children=(FloatProgress(value=0.0, description='Training', layout=Layout(flex='2'), max=1250.0, style=Pro…"
      ]
     },
     "metadata": {},
     "output_type": "display_data"
    },
    {
     "name": "stdout",
     "output_type": "stream",
     "text": [
      "Epoch 1798: train=8.78074, val=8.63296, took 71.739 s\n",
      "  Validation Found 101729 of 108007, added 5470 (eff 94.19%) (0.273 FP/event)\n",
      "Result epoch:  1798\n",
      "Average Eff:  0\n",
      "Average FP Rate:  0\n"
     ]
    },
    {
     "data": {
      "application/vnd.jupyter.widget-view+json": {
       "model_id": "",
       "version_major": 2,
       "version_minor": 0
      },
      "text/plain": [
       "HBox(children=(FloatProgress(value=0.0, description='Training', layout=Layout(flex='2'), max=1250.0, style=Pro…"
      ]
     },
     "metadata": {},
     "output_type": "display_data"
    },
    {
     "name": "stdout",
     "output_type": "stream",
     "text": [
      "Epoch 1799: train=8.77669, val=8.63445, took 71.257 s\n",
      "  Validation Found 101655 of 108007, added 5367 (eff 94.12%) (0.268 FP/event)\n",
      "Result epoch:  1799\n",
      "Average Eff:  0\n",
      "Average FP Rate:  0\n"
     ]
    },
    {
     "data": {
      "application/vnd.jupyter.widget-view+json": {
       "model_id": "",
       "version_major": 2,
       "version_minor": 0
      },
      "text/plain": [
       "HBox(children=(FloatProgress(value=0.0, description='Training', layout=Layout(flex='2'), max=1250.0, style=Pro…"
      ]
     },
     "metadata": {},
     "output_type": "display_data"
    },
    {
     "name": "stdout",
     "output_type": "stream",
     "text": [
      "Epoch 1800: train=8.78122, val=8.63338, took 71.725 s\n",
      "  Validation Found 101600 of 108007, added 5296 (eff 94.07%) (0.265 FP/event)\n",
      "Result epoch:  1800\n",
      "Average Eff:  0\n",
      "Average FP Rate:  0\n"
     ]
    },
    {
     "data": {
      "application/vnd.jupyter.widget-view+json": {
       "model_id": "",
       "version_major": 2,
       "version_minor": 0
      },
      "text/plain": [
       "HBox(children=(FloatProgress(value=0.0, description='Training', layout=Layout(flex='2'), max=1250.0, style=Pro…"
      ]
     },
     "metadata": {},
     "output_type": "display_data"
    },
    {
     "name": "stdout",
     "output_type": "stream",
     "text": [
      "Epoch 1801: train=8.78754, val=8.62121, took 72.747 s\n",
      "  Validation Found 101729 of 108007, added 5439 (eff 94.19%) (0.272 FP/event)\n",
      "Result epoch:  1801\n",
      "Average Eff:  0\n",
      "Average FP Rate:  0\n"
     ]
    },
    {
     "data": {
      "application/vnd.jupyter.widget-view+json": {
       "model_id": "",
       "version_major": 2,
       "version_minor": 0
      },
      "text/plain": [
       "HBox(children=(FloatProgress(value=0.0, description='Training', layout=Layout(flex='2'), max=1250.0, style=Pro…"
      ]
     },
     "metadata": {},
     "output_type": "display_data"
    },
    {
     "name": "stdout",
     "output_type": "stream",
     "text": [
      "Epoch 1802: train=8.78101, val=8.64735, took 72.203 s\n",
      "  Validation Found 101590 of 108007, added 5300 (eff 94.06%) (0.265 FP/event)\n",
      "Result epoch:  1802\n",
      "Average Eff:  0\n",
      "Average FP Rate:  0\n"
     ]
    },
    {
     "data": {
      "application/vnd.jupyter.widget-view+json": {
       "model_id": "",
       "version_major": 2,
       "version_minor": 0
      },
      "text/plain": [
       "HBox(children=(FloatProgress(value=0.0, description='Training', layout=Layout(flex='2'), max=1250.0, style=Pro…"
      ]
     },
     "metadata": {},
     "output_type": "display_data"
    },
    {
     "name": "stdout",
     "output_type": "stream",
     "text": [
      "Epoch 1803: train=8.78035, val=8.62614, took 72.173 s\n",
      "  Validation Found 101762 of 108007, added 5551 (eff 94.22%) (0.278 FP/event)\n",
      "Result epoch:  1803\n",
      "Average Eff:  0\n",
      "Average FP Rate:  0\n"
     ]
    },
    {
     "data": {
      "application/vnd.jupyter.widget-view+json": {
       "model_id": "",
       "version_major": 2,
       "version_minor": 0
      },
      "text/plain": [
       "HBox(children=(FloatProgress(value=0.0, description='Training', layout=Layout(flex='2'), max=1250.0, style=Pro…"
      ]
     },
     "metadata": {},
     "output_type": "display_data"
    },
    {
     "name": "stdout",
     "output_type": "stream",
     "text": [
      "Epoch 1804: train=8.78177, val=8.63612, took 71.616 s\n",
      "  Validation Found 101705 of 108007, added 5432 (eff 94.17%) (0.272 FP/event)\n",
      "Result epoch:  1804\n",
      "Average Eff:  0\n",
      "Average FP Rate:  0\n"
     ]
    },
    {
     "data": {
      "application/vnd.jupyter.widget-view+json": {
       "model_id": "",
       "version_major": 2,
       "version_minor": 0
      },
      "text/plain": [
       "HBox(children=(FloatProgress(value=0.0, description='Training', layout=Layout(flex='2'), max=1250.0, style=Pro…"
      ]
     },
     "metadata": {},
     "output_type": "display_data"
    },
    {
     "name": "stdout",
     "output_type": "stream",
     "text": [
      "Epoch 1805: train=8.78475, val=8.63445, took 71.733 s\n",
      "  Validation Found 101769 of 108007, added 5566 (eff 94.22%) (0.278 FP/event)\n",
      "Result epoch:  1805\n",
      "Average Eff:  0\n",
      "Average FP Rate:  0\n"
     ]
    },
    {
     "data": {
      "application/vnd.jupyter.widget-view+json": {
       "model_id": "",
       "version_major": 2,
       "version_minor": 0
      },
      "text/plain": [
       "HBox(children=(FloatProgress(value=0.0, description='Training', layout=Layout(flex='2'), max=1250.0, style=Pro…"
      ]
     },
     "metadata": {},
     "output_type": "display_data"
    },
    {
     "name": "stdout",
     "output_type": "stream",
     "text": [
      "Epoch 1806: train=8.78295, val=8.63038, took 72.309 s\n",
      "  Validation Found 101698 of 108007, added 5409 (eff 94.16%) (0.27 FP/event)\n",
      "Result epoch:  1806\n",
      "Average Eff:  0\n",
      "Average FP Rate:  0\n"
     ]
    },
    {
     "data": {
      "application/vnd.jupyter.widget-view+json": {
       "model_id": "",
       "version_major": 2,
       "version_minor": 0
      },
      "text/plain": [
       "HBox(children=(FloatProgress(value=0.0, description='Training', layout=Layout(flex='2'), max=1250.0, style=Pro…"
      ]
     },
     "metadata": {},
     "output_type": "display_data"
    },
    {
     "name": "stdout",
     "output_type": "stream",
     "text": [
      "Epoch 1807: train=8.78237, val=8.62942, took 72.575 s\n",
      "  Validation Found 101715 of 108007, added 5433 (eff 94.17%) (0.272 FP/event)\n",
      "Result epoch:  1807\n",
      "Average Eff:  0\n",
      "Average FP Rate:  0\n"
     ]
    },
    {
     "data": {
      "application/vnd.jupyter.widget-view+json": {
       "model_id": "",
       "version_major": 2,
       "version_minor": 0
      },
      "text/plain": [
       "HBox(children=(FloatProgress(value=0.0, description='Training', layout=Layout(flex='2'), max=1250.0, style=Pro…"
      ]
     },
     "metadata": {},
     "output_type": "display_data"
    },
    {
     "name": "stdout",
     "output_type": "stream",
     "text": [
      "Epoch 1808: train=8.7798, val=8.62349, took 71.467 s\n",
      "  Validation Found 101710 of 108007, added 5419 (eff 94.17%) (0.271 FP/event)\n",
      "Result epoch:  1808\n",
      "Average Eff:  0\n",
      "Average FP Rate:  0\n"
     ]
    },
    {
     "data": {
      "application/vnd.jupyter.widget-view+json": {
       "model_id": "",
       "version_major": 2,
       "version_minor": 0
      },
      "text/plain": [
       "HBox(children=(FloatProgress(value=0.0, description='Training', layout=Layout(flex='2'), max=1250.0, style=Pro…"
      ]
     },
     "metadata": {},
     "output_type": "display_data"
    },
    {
     "name": "stdout",
     "output_type": "stream",
     "text": [
      "Epoch 1809: train=8.77602, val=8.62699, took 71.353 s\n",
      "  Validation Found 101718 of 108007, added 5448 (eff 94.18%) (0.272 FP/event)\n",
      "Result epoch:  1809\n",
      "Average Eff:  0\n",
      "Average FP Rate:  0\n"
     ]
    },
    {
     "data": {
      "application/vnd.jupyter.widget-view+json": {
       "model_id": "",
       "version_major": 2,
       "version_minor": 0
      },
      "text/plain": [
       "HBox(children=(FloatProgress(value=0.0, description='Training', layout=Layout(flex='2'), max=1250.0, style=Pro…"
      ]
     },
     "metadata": {},
     "output_type": "display_data"
    },
    {
     "name": "stdout",
     "output_type": "stream",
     "text": [
      "Epoch 1810: train=8.78086, val=8.62621, took 71.157 s\n",
      "  Validation Found 101788 of 108007, added 5632 (eff 94.24%) (0.282 FP/event)\n",
      "Result epoch:  1810\n",
      "Average Eff:  0\n",
      "Average FP Rate:  0\n"
     ]
    },
    {
     "data": {
      "application/vnd.jupyter.widget-view+json": {
       "model_id": "",
       "version_major": 2,
       "version_minor": 0
      },
      "text/plain": [
       "HBox(children=(FloatProgress(value=0.0, description='Training', layout=Layout(flex='2'), max=1250.0, style=Pro…"
      ]
     },
     "metadata": {},
     "output_type": "display_data"
    },
    {
     "name": "stdout",
     "output_type": "stream",
     "text": [
      "Epoch 1811: train=8.77963, val=8.63567, took 70.937 s\n",
      "  Validation Found 101657 of 108007, added 5371 (eff 94.12%) (0.269 FP/event)\n",
      "Result epoch:  1811\n",
      "Average Eff:  0\n",
      "Average FP Rate:  0\n"
     ]
    },
    {
     "data": {
      "application/vnd.jupyter.widget-view+json": {
       "model_id": "",
       "version_major": 2,
       "version_minor": 0
      },
      "text/plain": [
       "HBox(children=(FloatProgress(value=0.0, description='Training', layout=Layout(flex='2'), max=1250.0, style=Pro…"
      ]
     },
     "metadata": {},
     "output_type": "display_data"
    },
    {
     "name": "stdout",
     "output_type": "stream",
     "text": [
      "Epoch 1812: train=8.7772, val=8.6294, took 71.161 s\n",
      "  Validation Found 101800 of 108007, added 5641 (eff 94.25%) (0.282 FP/event)\n",
      "Result epoch:  1812\n",
      "Average Eff:  0\n",
      "Average FP Rate:  0\n"
     ]
    },
    {
     "data": {
      "application/vnd.jupyter.widget-view+json": {
       "model_id": "",
       "version_major": 2,
       "version_minor": 0
      },
      "text/plain": [
       "HBox(children=(FloatProgress(value=0.0, description='Training', layout=Layout(flex='2'), max=1250.0, style=Pro…"
      ]
     },
     "metadata": {},
     "output_type": "display_data"
    },
    {
     "name": "stdout",
     "output_type": "stream",
     "text": [
      "Epoch 1813: train=8.77858, val=8.63109, took 71.979 s\n",
      "  Validation Found 101683 of 108007, added 5371 (eff 94.14%) (0.269 FP/event)\n",
      "Result epoch:  1813\n",
      "Average Eff:  0\n",
      "Average FP Rate:  0\n"
     ]
    },
    {
     "data": {
      "application/vnd.jupyter.widget-view+json": {
       "model_id": "",
       "version_major": 2,
       "version_minor": 0
      },
      "text/plain": [
       "HBox(children=(FloatProgress(value=0.0, description='Training', layout=Layout(flex='2'), max=1250.0, style=Pro…"
      ]
     },
     "metadata": {},
     "output_type": "display_data"
    },
    {
     "name": "stdout",
     "output_type": "stream",
     "text": [
      "Epoch 1814: train=8.77624, val=8.62763, took 71.439 s\n",
      "  Validation Found 101772 of 108007, added 5550 (eff 94.23%) (0.277 FP/event)\n",
      "Result epoch:  1814\n",
      "Average Eff:  0\n",
      "Average FP Rate:  0\n"
     ]
    },
    {
     "data": {
      "application/vnd.jupyter.widget-view+json": {
       "model_id": "",
       "version_major": 2,
       "version_minor": 0
      },
      "text/plain": [
       "HBox(children=(FloatProgress(value=0.0, description='Training', layout=Layout(flex='2'), max=1250.0, style=Pro…"
      ]
     },
     "metadata": {},
     "output_type": "display_data"
    },
    {
     "name": "stdout",
     "output_type": "stream",
     "text": [
      "Epoch 1815: train=8.77987, val=8.63131, took 72.987 s\n",
      "  Validation Found 101740 of 108007, added 5515 (eff 94.20%) (0.276 FP/event)\n",
      "Result epoch:  1815\n",
      "Average Eff:  0\n",
      "Average FP Rate:  0\n"
     ]
    },
    {
     "data": {
      "application/vnd.jupyter.widget-view+json": {
       "model_id": "",
       "version_major": 2,
       "version_minor": 0
      },
      "text/plain": [
       "HBox(children=(FloatProgress(value=0.0, description='Training', layout=Layout(flex='2'), max=1250.0, style=Pro…"
      ]
     },
     "metadata": {},
     "output_type": "display_data"
    },
    {
     "name": "stdout",
     "output_type": "stream",
     "text": [
      "Epoch 1816: train=8.78553, val=8.62646, took 72.134 s\n",
      "  Validation Found 101732 of 108007, added 5466 (eff 94.19%) (0.273 FP/event)\n",
      "Result epoch:  1816\n",
      "Average Eff:  0\n",
      "Average FP Rate:  0\n"
     ]
    },
    {
     "data": {
      "application/vnd.jupyter.widget-view+json": {
       "model_id": "",
       "version_major": 2,
       "version_minor": 0
      },
      "text/plain": [
       "HBox(children=(FloatProgress(value=0.0, description='Training', layout=Layout(flex='2'), max=1250.0, style=Pro…"
      ]
     },
     "metadata": {},
     "output_type": "display_data"
    },
    {
     "name": "stdout",
     "output_type": "stream",
     "text": [
      "Epoch 1817: train=8.78239, val=8.62539, took 72.099 s\n",
      "  Validation Found 101617 of 108007, added 5315 (eff 94.08%) (0.266 FP/event)\n",
      "Result epoch:  1817\n",
      "Average Eff:  0\n",
      "Average FP Rate:  0\n"
     ]
    },
    {
     "data": {
      "application/vnd.jupyter.widget-view+json": {
       "model_id": "",
       "version_major": 2,
       "version_minor": 0
      },
      "text/plain": [
       "HBox(children=(FloatProgress(value=0.0, description='Training', layout=Layout(flex='2'), max=1250.0, style=Pro…"
      ]
     },
     "metadata": {},
     "output_type": "display_data"
    },
    {
     "name": "stdout",
     "output_type": "stream",
     "text": [
      "Epoch 1818: train=8.77964, val=8.6359, took 72.012 s\n",
      "  Validation Found 101713 of 108007, added 5436 (eff 94.17%) (0.272 FP/event)\n",
      "Result epoch:  1818\n",
      "Average Eff:  0\n",
      "Average FP Rate:  0\n"
     ]
    },
    {
     "data": {
      "application/vnd.jupyter.widget-view+json": {
       "model_id": "",
       "version_major": 2,
       "version_minor": 0
      },
      "text/plain": [
       "HBox(children=(FloatProgress(value=0.0, description='Training', layout=Layout(flex='2'), max=1250.0, style=Pro…"
      ]
     },
     "metadata": {},
     "output_type": "display_data"
    },
    {
     "name": "stdout",
     "output_type": "stream",
     "text": [
      "Epoch 1819: train=8.77756, val=8.62704, took 71.694 s\n",
      "  Validation Found 101755 of 108007, added 5528 (eff 94.21%) (0.276 FP/event)\n",
      "Result epoch:  1819\n",
      "Average Eff:  0\n",
      "Average FP Rate:  0\n"
     ]
    },
    {
     "data": {
      "application/vnd.jupyter.widget-view+json": {
       "model_id": "",
       "version_major": 2,
       "version_minor": 0
      },
      "text/plain": [
       "HBox(children=(FloatProgress(value=0.0, description='Training', layout=Layout(flex='2'), max=1250.0, style=Pro…"
      ]
     },
     "metadata": {},
     "output_type": "display_data"
    },
    {
     "name": "stdout",
     "output_type": "stream",
     "text": [
      "Epoch 1820: train=8.78412, val=8.63302, took 71.627 s\n",
      "  Validation Found 101648 of 108007, added 5366 (eff 94.11%) (0.268 FP/event)\n",
      "Result epoch:  1820\n",
      "Average Eff:  0\n",
      "Average FP Rate:  0\n"
     ]
    },
    {
     "data": {
      "application/vnd.jupyter.widget-view+json": {
       "model_id": "",
       "version_major": 2,
       "version_minor": 0
      },
      "text/plain": [
       "HBox(children=(FloatProgress(value=0.0, description='Training', layout=Layout(flex='2'), max=1250.0, style=Pro…"
      ]
     },
     "metadata": {},
     "output_type": "display_data"
    },
    {
     "name": "stdout",
     "output_type": "stream",
     "text": [
      "Epoch 1821: train=8.78047, val=8.63642, took 72.316 s\n",
      "  Validation Found 101639 of 108007, added 5325 (eff 94.10%) (0.266 FP/event)\n",
      "Result epoch:  1821\n",
      "Average Eff:  0\n",
      "Average FP Rate:  0\n"
     ]
    },
    {
     "data": {
      "application/vnd.jupyter.widget-view+json": {
       "model_id": "",
       "version_major": 2,
       "version_minor": 0
      },
      "text/plain": [
       "HBox(children=(FloatProgress(value=0.0, description='Training', layout=Layout(flex='2'), max=1250.0, style=Pro…"
      ]
     },
     "metadata": {},
     "output_type": "display_data"
    },
    {
     "name": "stdout",
     "output_type": "stream",
     "text": [
      "Epoch 1822: train=8.77946, val=8.63957, took 72.232 s\n",
      "  Validation Found 101531 of 108007, added 5187 (eff 94.00%) (0.259 FP/event)\n",
      "Result epoch:  1822\n",
      "Average Eff:  0\n",
      "Average FP Rate:  0\n"
     ]
    },
    {
     "data": {
      "application/vnd.jupyter.widget-view+json": {
       "model_id": "",
       "version_major": 2,
       "version_minor": 0
      },
      "text/plain": [
       "HBox(children=(FloatProgress(value=0.0, description='Training', layout=Layout(flex='2'), max=1250.0, style=Pro…"
      ]
     },
     "metadata": {},
     "output_type": "display_data"
    },
    {
     "name": "stdout",
     "output_type": "stream",
     "text": [
      "Epoch 1823: train=8.78227, val=8.62956, took 72.609 s\n",
      "  Validation Found 101709 of 108007, added 5403 (eff 94.17%) (0.27 FP/event)\n",
      "Result epoch:  1823\n",
      "Average Eff:  0\n",
      "Average FP Rate:  0\n"
     ]
    },
    {
     "data": {
      "application/vnd.jupyter.widget-view+json": {
       "model_id": "",
       "version_major": 2,
       "version_minor": 0
      },
      "text/plain": [
       "HBox(children=(FloatProgress(value=0.0, description='Training', layout=Layout(flex='2'), max=1250.0, style=Pro…"
      ]
     },
     "metadata": {},
     "output_type": "display_data"
    },
    {
     "name": "stdout",
     "output_type": "stream",
     "text": [
      "Epoch 1824: train=8.77841, val=8.6305, took 72.247 s\n",
      "  Validation Found 101737 of 108007, added 5525 (eff 94.19%) (0.276 FP/event)\n",
      "Result epoch:  1824\n",
      "Average Eff:  0\n",
      "Average FP Rate:  0\n"
     ]
    },
    {
     "data": {
      "application/vnd.jupyter.widget-view+json": {
       "model_id": "",
       "version_major": 2,
       "version_minor": 0
      },
      "text/plain": [
       "HBox(children=(FloatProgress(value=0.0, description='Training', layout=Layout(flex='2'), max=1250.0, style=Pro…"
      ]
     },
     "metadata": {},
     "output_type": "display_data"
    },
    {
     "name": "stdout",
     "output_type": "stream",
     "text": [
      "Epoch 1825: train=8.78396, val=8.62497, took 71.609 s\n",
      "  Validation Found 101752 of 108007, added 5501 (eff 94.21%) (0.275 FP/event)\n",
      "Result epoch:  1825\n",
      "Average Eff:  0\n",
      "Average FP Rate:  0\n"
     ]
    },
    {
     "data": {
      "application/vnd.jupyter.widget-view+json": {
       "model_id": "",
       "version_major": 2,
       "version_minor": 0
      },
      "text/plain": [
       "HBox(children=(FloatProgress(value=0.0, description='Training', layout=Layout(flex='2'), max=1250.0, style=Pro…"
      ]
     },
     "metadata": {},
     "output_type": "display_data"
    },
    {
     "name": "stdout",
     "output_type": "stream",
     "text": [
      "Epoch 1826: train=8.77935, val=8.62994, took 71.706 s\n",
      "  Validation Found 101647 of 108007, added 5331 (eff 94.11%) (0.267 FP/event)\n",
      "Result epoch:  1826\n",
      "Average Eff:  0\n",
      "Average FP Rate:  0\n"
     ]
    },
    {
     "data": {
      "application/vnd.jupyter.widget-view+json": {
       "model_id": "",
       "version_major": 2,
       "version_minor": 0
      },
      "text/plain": [
       "HBox(children=(FloatProgress(value=0.0, description='Training', layout=Layout(flex='2'), max=1250.0, style=Pro…"
      ]
     },
     "metadata": {},
     "output_type": "display_data"
    },
    {
     "name": "stdout",
     "output_type": "stream",
     "text": [
      "Epoch 1827: train=8.7818, val=8.63371, took 71.888 s\n",
      "  Validation Found 101666 of 108007, added 5344 (eff 94.13%) (0.267 FP/event)\n",
      "Result epoch:  1827\n",
      "Average Eff:  0\n",
      "Average FP Rate:  0\n"
     ]
    },
    {
     "data": {
      "application/vnd.jupyter.widget-view+json": {
       "model_id": "",
       "version_major": 2,
       "version_minor": 0
      },
      "text/plain": [
       "HBox(children=(FloatProgress(value=0.0, description='Training', layout=Layout(flex='2'), max=1250.0, style=Pro…"
      ]
     },
     "metadata": {},
     "output_type": "display_data"
    },
    {
     "name": "stdout",
     "output_type": "stream",
     "text": [
      "Epoch 1828: train=8.78156, val=8.63184, took 72.165 s\n",
      "  Validation Found 101756 of 108007, added 5544 (eff 94.21%) (0.277 FP/event)\n",
      "Result epoch:  1828\n",
      "Average Eff:  0\n",
      "Average FP Rate:  0\n"
     ]
    },
    {
     "data": {
      "application/vnd.jupyter.widget-view+json": {
       "model_id": "",
       "version_major": 2,
       "version_minor": 0
      },
      "text/plain": [
       "HBox(children=(FloatProgress(value=0.0, description='Training', layout=Layout(flex='2'), max=1250.0, style=Pro…"
      ]
     },
     "metadata": {},
     "output_type": "display_data"
    },
    {
     "name": "stdout",
     "output_type": "stream",
     "text": [
      "Epoch 1829: train=8.78168, val=8.63322, took 72.292 s\n",
      "  Validation Found 101736 of 108007, added 5484 (eff 94.19%) (0.274 FP/event)\n",
      "Result epoch:  1829\n",
      "Average Eff:  0\n",
      "Average FP Rate:  0\n"
     ]
    },
    {
     "data": {
      "application/vnd.jupyter.widget-view+json": {
       "model_id": "",
       "version_major": 2,
       "version_minor": 0
      },
      "text/plain": [
       "HBox(children=(FloatProgress(value=0.0, description='Training', layout=Layout(flex='2'), max=1250.0, style=Pro…"
      ]
     },
     "metadata": {},
     "output_type": "display_data"
    },
    {
     "name": "stdout",
     "output_type": "stream",
     "text": [
      "Epoch 1830: train=8.78172, val=8.6346, took 71.576 s\n",
      "  Validation Found 101669 of 108007, added 5361 (eff 94.13%) (0.268 FP/event)\n",
      "Result epoch:  1830\n",
      "Average Eff:  0\n",
      "Average FP Rate:  0\n"
     ]
    },
    {
     "data": {
      "application/vnd.jupyter.widget-view+json": {
       "model_id": "",
       "version_major": 2,
       "version_minor": 0
      },
      "text/plain": [
       "HBox(children=(FloatProgress(value=0.0, description='Training', layout=Layout(flex='2'), max=1250.0, style=Pro…"
      ]
     },
     "metadata": {},
     "output_type": "display_data"
    },
    {
     "name": "stdout",
     "output_type": "stream",
     "text": [
      "Epoch 1831: train=8.78268, val=8.62729, took 73.296 s\n",
      "  Validation Found 101792 of 108007, added 5617 (eff 94.25%) (0.281 FP/event)\n",
      "Result epoch:  1831\n",
      "Average Eff:  0\n",
      "Average FP Rate:  0\n"
     ]
    },
    {
     "data": {
      "application/vnd.jupyter.widget-view+json": {
       "model_id": "",
       "version_major": 2,
       "version_minor": 0
      },
      "text/plain": [
       "HBox(children=(FloatProgress(value=0.0, description='Training', layout=Layout(flex='2'), max=1250.0, style=Pro…"
      ]
     },
     "metadata": {},
     "output_type": "display_data"
    },
    {
     "name": "stdout",
     "output_type": "stream",
     "text": [
      "Epoch 1832: train=8.77903, val=8.62787, took 72.627 s\n",
      "  Validation Found 101726 of 108007, added 5462 (eff 94.18%) (0.273 FP/event)\n",
      "Result epoch:  1832\n",
      "Average Eff:  0\n",
      "Average FP Rate:  0\n"
     ]
    },
    {
     "data": {
      "application/vnd.jupyter.widget-view+json": {
       "model_id": "",
       "version_major": 2,
       "version_minor": 0
      },
      "text/plain": [
       "HBox(children=(FloatProgress(value=0.0, description='Training', layout=Layout(flex='2'), max=1250.0, style=Pro…"
      ]
     },
     "metadata": {},
     "output_type": "display_data"
    },
    {
     "name": "stdout",
     "output_type": "stream",
     "text": [
      "Epoch 1833: train=8.78093, val=8.6309, took 72.542 s\n",
      "  Validation Found 101636 of 108007, added 5334 (eff 94.10%) (0.267 FP/event)\n",
      "Result epoch:  1833\n",
      "Average Eff:  0\n",
      "Average FP Rate:  0\n"
     ]
    },
    {
     "data": {
      "application/vnd.jupyter.widget-view+json": {
       "model_id": "",
       "version_major": 2,
       "version_minor": 0
      },
      "text/plain": [
       "HBox(children=(FloatProgress(value=0.0, description='Training', layout=Layout(flex='2'), max=1250.0, style=Pro…"
      ]
     },
     "metadata": {},
     "output_type": "display_data"
    },
    {
     "name": "stdout",
     "output_type": "stream",
     "text": [
      "Epoch 1834: train=8.77818, val=8.62941, took 72.351 s\n",
      "  Validation Found 101725 of 108007, added 5455 (eff 94.18%) (0.273 FP/event)\n",
      "Result epoch:  1834\n",
      "Average Eff:  0\n",
      "Average FP Rate:  0\n"
     ]
    },
    {
     "data": {
      "application/vnd.jupyter.widget-view+json": {
       "model_id": "",
       "version_major": 2,
       "version_minor": 0
      },
      "text/plain": [
       "HBox(children=(FloatProgress(value=0.0, description='Training', layout=Layout(flex='2'), max=1250.0, style=Pro…"
      ]
     },
     "metadata": {},
     "output_type": "display_data"
    },
    {
     "name": "stdout",
     "output_type": "stream",
     "text": [
      "Epoch 1835: train=8.77945, val=8.62667, took 72.283 s\n",
      "  Validation Found 101671 of 108007, added 5348 (eff 94.13%) (0.267 FP/event)\n",
      "Result epoch:  1835\n",
      "Average Eff:  0\n",
      "Average FP Rate:  0\n"
     ]
    },
    {
     "data": {
      "application/vnd.jupyter.widget-view+json": {
       "model_id": "",
       "version_major": 2,
       "version_minor": 0
      },
      "text/plain": [
       "HBox(children=(FloatProgress(value=0.0, description='Training', layout=Layout(flex='2'), max=1250.0, style=Pro…"
      ]
     },
     "metadata": {},
     "output_type": "display_data"
    },
    {
     "name": "stdout",
     "output_type": "stream",
     "text": [
      "Epoch 1836: train=8.77963, val=8.62816, took 72.008 s\n",
      "  Validation Found 101618 of 108007, added 5314 (eff 94.08%) (0.266 FP/event)\n",
      "Result epoch:  1836\n",
      "Average Eff:  0\n",
      "Average FP Rate:  0\n"
     ]
    },
    {
     "data": {
      "application/vnd.jupyter.widget-view+json": {
       "model_id": "",
       "version_major": 2,
       "version_minor": 0
      },
      "text/plain": [
       "HBox(children=(FloatProgress(value=0.0, description='Training', layout=Layout(flex='2'), max=1250.0, style=Pro…"
      ]
     },
     "metadata": {},
     "output_type": "display_data"
    },
    {
     "name": "stdout",
     "output_type": "stream",
     "text": [
      "Epoch 1837: train=8.7817, val=8.63592, took 72.028 s\n",
      "  Validation Found 101708 of 108007, added 5427 (eff 94.17%) (0.271 FP/event)\n",
      "Result epoch:  1837\n",
      "Average Eff:  0\n",
      "Average FP Rate:  0\n"
     ]
    },
    {
     "data": {
      "application/vnd.jupyter.widget-view+json": {
       "model_id": "",
       "version_major": 2,
       "version_minor": 0
      },
      "text/plain": [
       "HBox(children=(FloatProgress(value=0.0, description='Training', layout=Layout(flex='2'), max=1250.0, style=Pro…"
      ]
     },
     "metadata": {},
     "output_type": "display_data"
    },
    {
     "name": "stdout",
     "output_type": "stream",
     "text": [
      "Epoch 1838: train=8.77732, val=8.63159, took 71.453 s\n",
      "  Validation Found 101773 of 108007, added 5584 (eff 94.23%) (0.279 FP/event)\n",
      "Result epoch:  1838\n",
      "Average Eff:  0\n",
      "Average FP Rate:  0\n"
     ]
    },
    {
     "data": {
      "application/vnd.jupyter.widget-view+json": {
       "model_id": "",
       "version_major": 2,
       "version_minor": 0
      },
      "text/plain": [
       "HBox(children=(FloatProgress(value=0.0, description='Training', layout=Layout(flex='2'), max=1250.0, style=Pro…"
      ]
     },
     "metadata": {},
     "output_type": "display_data"
    },
    {
     "name": "stdout",
     "output_type": "stream",
     "text": [
      "Epoch 1839: train=8.77741, val=8.62328, took 72.722 s\n",
      "  Validation Found 101625 of 108007, added 5304 (eff 94.09%) (0.265 FP/event)\n",
      "Result epoch:  1839\n",
      "Average Eff:  0\n",
      "Average FP Rate:  0\n"
     ]
    },
    {
     "data": {
      "application/vnd.jupyter.widget-view+json": {
       "model_id": "",
       "version_major": 2,
       "version_minor": 0
      },
      "text/plain": [
       "HBox(children=(FloatProgress(value=0.0, description='Training', layout=Layout(flex='2'), max=1250.0, style=Pro…"
      ]
     },
     "metadata": {},
     "output_type": "display_data"
    },
    {
     "name": "stdout",
     "output_type": "stream",
     "text": [
      "Epoch 1840: train=8.7796, val=8.63244, took 72.492 s\n",
      "  Validation Found 101691 of 108007, added 5384 (eff 94.15%) (0.269 FP/event)\n",
      "Result epoch:  1840\n",
      "Average Eff:  0\n",
      "Average FP Rate:  0\n"
     ]
    },
    {
     "data": {
      "application/vnd.jupyter.widget-view+json": {
       "model_id": "",
       "version_major": 2,
       "version_minor": 0
      },
      "text/plain": [
       "HBox(children=(FloatProgress(value=0.0, description='Training', layout=Layout(flex='2'), max=1250.0, style=Pro…"
      ]
     },
     "metadata": {},
     "output_type": "display_data"
    },
    {
     "name": "stdout",
     "output_type": "stream",
     "text": [
      "Epoch 1841: train=8.78092, val=8.63224, took 72.744 s\n",
      "  Validation Found 101618 of 108007, added 5308 (eff 94.08%) (0.265 FP/event)\n",
      "Result epoch:  1841\n",
      "Average Eff:  0\n",
      "Average FP Rate:  0\n"
     ]
    },
    {
     "data": {
      "application/vnd.jupyter.widget-view+json": {
       "model_id": "",
       "version_major": 2,
       "version_minor": 0
      },
      "text/plain": [
       "HBox(children=(FloatProgress(value=0.0, description='Training', layout=Layout(flex='2'), max=1250.0, style=Pro…"
      ]
     },
     "metadata": {},
     "output_type": "display_data"
    },
    {
     "name": "stdout",
     "output_type": "stream",
     "text": [
      "Epoch 1842: train=8.78209, val=8.63438, took 72.55 s\n",
      "  Validation Found 101792 of 108007, added 5644 (eff 94.25%) (0.282 FP/event)\n",
      "Result epoch:  1842\n",
      "Average Eff:  0\n",
      "Average FP Rate:  0\n"
     ]
    },
    {
     "data": {
      "application/vnd.jupyter.widget-view+json": {
       "model_id": "",
       "version_major": 2,
       "version_minor": 0
      },
      "text/plain": [
       "HBox(children=(FloatProgress(value=0.0, description='Training', layout=Layout(flex='2'), max=1250.0, style=Pro…"
      ]
     },
     "metadata": {},
     "output_type": "display_data"
    },
    {
     "name": "stdout",
     "output_type": "stream",
     "text": [
      "Epoch 1843: train=8.7792, val=8.63917, took 72.647 s\n",
      "  Validation Found 101670 of 108007, added 5380 (eff 94.13%) (0.269 FP/event)\n",
      "Result epoch:  1843\n",
      "Average Eff:  0\n",
      "Average FP Rate:  0\n"
     ]
    },
    {
     "data": {
      "application/vnd.jupyter.widget-view+json": {
       "model_id": "",
       "version_major": 2,
       "version_minor": 0
      },
      "text/plain": [
       "HBox(children=(FloatProgress(value=0.0, description='Training', layout=Layout(flex='2'), max=1250.0, style=Pro…"
      ]
     },
     "metadata": {},
     "output_type": "display_data"
    },
    {
     "name": "stdout",
     "output_type": "stream",
     "text": [
      "Epoch 1844: train=8.78277, val=8.63097, took 72.695 s\n",
      "  Validation Found 101756 of 108007, added 5572 (eff 94.21%) (0.279 FP/event)\n",
      "Result epoch:  1844\n",
      "Average Eff:  0\n",
      "Average FP Rate:  0\n"
     ]
    },
    {
     "data": {
      "application/vnd.jupyter.widget-view+json": {
       "model_id": "",
       "version_major": 2,
       "version_minor": 0
      },
      "text/plain": [
       "HBox(children=(FloatProgress(value=0.0, description='Training', layout=Layout(flex='2'), max=1250.0, style=Pro…"
      ]
     },
     "metadata": {},
     "output_type": "display_data"
    },
    {
     "name": "stdout",
     "output_type": "stream",
     "text": [
      "Epoch 1845: train=8.77888, val=8.62982, took 72.218 s\n",
      "  Validation Found 101747 of 108007, added 5498 (eff 94.20%) (0.275 FP/event)\n",
      "Result epoch:  1845\n",
      "Average Eff:  0\n",
      "Average FP Rate:  0\n"
     ]
    },
    {
     "data": {
      "application/vnd.jupyter.widget-view+json": {
       "model_id": "",
       "version_major": 2,
       "version_minor": 0
      },
      "text/plain": [
       "HBox(children=(FloatProgress(value=0.0, description='Training', layout=Layout(flex='2'), max=1250.0, style=Pro…"
      ]
     },
     "metadata": {},
     "output_type": "display_data"
    },
    {
     "name": "stdout",
     "output_type": "stream",
     "text": [
      "Epoch 1846: train=8.77357, val=8.63083, took 72.841 s\n",
      "  Validation Found 101769 of 108007, added 5578 (eff 94.22%) (0.279 FP/event)\n",
      "Result epoch:  1846\n",
      "Average Eff:  0\n",
      "Average FP Rate:  0\n"
     ]
    },
    {
     "data": {
      "application/vnd.jupyter.widget-view+json": {
       "model_id": "",
       "version_major": 2,
       "version_minor": 0
      },
      "text/plain": [
       "HBox(children=(FloatProgress(value=0.0, description='Training', layout=Layout(flex='2'), max=1250.0, style=Pro…"
      ]
     },
     "metadata": {},
     "output_type": "display_data"
    },
    {
     "name": "stdout",
     "output_type": "stream",
     "text": [
      "Epoch 1847: train=8.77972, val=8.63254, took 72.236 s\n",
      "  Validation Found 101734 of 108007, added 5453 (eff 94.19%) (0.273 FP/event)\n",
      "Result epoch:  1847\n",
      "Average Eff:  0\n",
      "Average FP Rate:  0\n"
     ]
    },
    {
     "data": {
      "application/vnd.jupyter.widget-view+json": {
       "model_id": "",
       "version_major": 2,
       "version_minor": 0
      },
      "text/plain": [
       "HBox(children=(FloatProgress(value=0.0, description='Training', layout=Layout(flex='2'), max=1250.0, style=Pro…"
      ]
     },
     "metadata": {},
     "output_type": "display_data"
    },
    {
     "name": "stdout",
     "output_type": "stream",
     "text": [
      "Epoch 1848: train=8.78052, val=8.62754, took 72.742 s\n",
      "  Validation Found 101739 of 108007, added 5462 (eff 94.20%) (0.273 FP/event)\n",
      "Result epoch:  1848\n",
      "Average Eff:  0\n",
      "Average FP Rate:  0\n"
     ]
    },
    {
     "data": {
      "application/vnd.jupyter.widget-view+json": {
       "model_id": "",
       "version_major": 2,
       "version_minor": 0
      },
      "text/plain": [
       "HBox(children=(FloatProgress(value=0.0, description='Training', layout=Layout(flex='2'), max=1250.0, style=Pro…"
      ]
     },
     "metadata": {},
     "output_type": "display_data"
    },
    {
     "name": "stdout",
     "output_type": "stream",
     "text": [
      "Epoch 1849: train=8.77839, val=8.62879, took 72.177 s\n",
      "  Validation Found 101701 of 108007, added 5415 (eff 94.16%) (0.271 FP/event)\n",
      "Result epoch:  1849\n",
      "Average Eff:  0\n",
      "Average FP Rate:  0\n"
     ]
    },
    {
     "data": {
      "application/vnd.jupyter.widget-view+json": {
       "model_id": "",
       "version_major": 2,
       "version_minor": 0
      },
      "text/plain": [
       "HBox(children=(FloatProgress(value=0.0, description='Training', layout=Layout(flex='2'), max=1250.0, style=Pro…"
      ]
     },
     "metadata": {},
     "output_type": "display_data"
    },
    {
     "name": "stdout",
     "output_type": "stream",
     "text": [
      "Epoch 1850: train=8.77867, val=8.63063, took 71.784 s\n",
      "  Validation Found 101707 of 108007, added 5415 (eff 94.17%) (0.271 FP/event)\n",
      "Result epoch:  1850\n",
      "Average Eff:  0\n",
      "Average FP Rate:  0\n"
     ]
    },
    {
     "data": {
      "application/vnd.jupyter.widget-view+json": {
       "model_id": "",
       "version_major": 2,
       "version_minor": 0
      },
      "text/plain": [
       "HBox(children=(FloatProgress(value=0.0, description='Training', layout=Layout(flex='2'), max=1250.0, style=Pro…"
      ]
     },
     "metadata": {},
     "output_type": "display_data"
    },
    {
     "name": "stdout",
     "output_type": "stream",
     "text": [
      "Epoch 1851: train=8.77924, val=8.63667, took 73.16 s\n",
      "  Validation Found 101575 of 108007, added 5269 (eff 94.04%) (0.263 FP/event)\n",
      "Result epoch:  1851\n",
      "Average Eff:  0\n",
      "Average FP Rate:  0\n"
     ]
    },
    {
     "data": {
      "application/vnd.jupyter.widget-view+json": {
       "model_id": "",
       "version_major": 2,
       "version_minor": 0
      },
      "text/plain": [
       "HBox(children=(FloatProgress(value=0.0, description='Training', layout=Layout(flex='2'), max=1250.0, style=Pro…"
      ]
     },
     "metadata": {},
     "output_type": "display_data"
    },
    {
     "name": "stdout",
     "output_type": "stream",
     "text": [
      "Epoch 1852: train=8.7836, val=8.62809, took 72.615 s\n",
      "  Validation Found 101767 of 108007, added 5550 (eff 94.22%) (0.277 FP/event)\n",
      "Result epoch:  1852\n",
      "Average Eff:  0\n",
      "Average FP Rate:  0\n"
     ]
    },
    {
     "data": {
      "application/vnd.jupyter.widget-view+json": {
       "model_id": "",
       "version_major": 2,
       "version_minor": 0
      },
      "text/plain": [
       "HBox(children=(FloatProgress(value=0.0, description='Training', layout=Layout(flex='2'), max=1250.0, style=Pro…"
      ]
     },
     "metadata": {},
     "output_type": "display_data"
    },
    {
     "name": "stdout",
     "output_type": "stream",
     "text": [
      "Epoch 1853: train=8.78411, val=8.63571, took 72.176 s\n",
      "  Validation Found 101772 of 108007, added 5551 (eff 94.23%) (0.278 FP/event)\n",
      "Result epoch:  1853\n",
      "Average Eff:  0\n",
      "Average FP Rate:  0\n"
     ]
    },
    {
     "data": {
      "application/vnd.jupyter.widget-view+json": {
       "model_id": "",
       "version_major": 2,
       "version_minor": 0
      },
      "text/plain": [
       "HBox(children=(FloatProgress(value=0.0, description='Training', layout=Layout(flex='2'), max=1250.0, style=Pro…"
      ]
     },
     "metadata": {},
     "output_type": "display_data"
    },
    {
     "name": "stdout",
     "output_type": "stream",
     "text": [
      "Epoch 1854: train=8.77448, val=8.63319, took 71.885 s\n",
      "  Validation Found 101623 of 108007, added 5318 (eff 94.09%) (0.266 FP/event)\n",
      "Result epoch:  1854\n",
      "Average Eff:  0\n",
      "Average FP Rate:  0\n"
     ]
    },
    {
     "data": {
      "application/vnd.jupyter.widget-view+json": {
       "model_id": "",
       "version_major": 2,
       "version_minor": 0
      },
      "text/plain": [
       "HBox(children=(FloatProgress(value=0.0, description='Training', layout=Layout(flex='2'), max=1250.0, style=Pro…"
      ]
     },
     "metadata": {},
     "output_type": "display_data"
    },
    {
     "name": "stdout",
     "output_type": "stream",
     "text": [
      "Epoch 1855: train=8.78053, val=8.63909, took 71.998 s\n",
      "  Validation Found 101750 of 108007, added 5526 (eff 94.21%) (0.276 FP/event)\n",
      "Result epoch:  1855\n",
      "Average Eff:  0\n",
      "Average FP Rate:  0\n"
     ]
    },
    {
     "data": {
      "application/vnd.jupyter.widget-view+json": {
       "model_id": "",
       "version_major": 2,
       "version_minor": 0
      },
      "text/plain": [
       "HBox(children=(FloatProgress(value=0.0, description='Training', layout=Layout(flex='2'), max=1250.0, style=Pro…"
      ]
     },
     "metadata": {},
     "output_type": "display_data"
    },
    {
     "name": "stdout",
     "output_type": "stream",
     "text": [
      "Epoch 1856: train=8.77855, val=8.62939, took 71.318 s\n",
      "  Validation Found 101730 of 108007, added 5469 (eff 94.19%) (0.273 FP/event)\n",
      "Result epoch:  1856\n",
      "Average Eff:  0\n",
      "Average FP Rate:  0\n"
     ]
    },
    {
     "data": {
      "application/vnd.jupyter.widget-view+json": {
       "model_id": "",
       "version_major": 2,
       "version_minor": 0
      },
      "text/plain": [
       "HBox(children=(FloatProgress(value=0.0, description='Training', layout=Layout(flex='2'), max=1250.0, style=Pro…"
      ]
     },
     "metadata": {},
     "output_type": "display_data"
    },
    {
     "name": "stdout",
     "output_type": "stream",
     "text": [
      "Epoch 1857: train=8.78227, val=8.62459, took 71.426 s\n",
      "  Validation Found 101694 of 108007, added 5346 (eff 94.16%) (0.267 FP/event)\n",
      "Result epoch:  1857\n",
      "Average Eff:  0\n",
      "Average FP Rate:  0\n"
     ]
    },
    {
     "data": {
      "application/vnd.jupyter.widget-view+json": {
       "model_id": "",
       "version_major": 2,
       "version_minor": 0
      },
      "text/plain": [
       "HBox(children=(FloatProgress(value=0.0, description='Training', layout=Layout(flex='2'), max=1250.0, style=Pro…"
      ]
     },
     "metadata": {},
     "output_type": "display_data"
    },
    {
     "name": "stdout",
     "output_type": "stream",
     "text": [
      "Epoch 1858: train=8.77745, val=8.62837, took 72.322 s\n",
      "  Validation Found 101652 of 108007, added 5323 (eff 94.12%) (0.266 FP/event)\n",
      "Result epoch:  1858\n",
      "Average Eff:  0\n",
      "Average FP Rate:  0\n"
     ]
    },
    {
     "data": {
      "application/vnd.jupyter.widget-view+json": {
       "model_id": "",
       "version_major": 2,
       "version_minor": 0
      },
      "text/plain": [
       "HBox(children=(FloatProgress(value=0.0, description='Training', layout=Layout(flex='2'), max=1250.0, style=Pro…"
      ]
     },
     "metadata": {},
     "output_type": "display_data"
    },
    {
     "name": "stdout",
     "output_type": "stream",
     "text": [
      "Epoch 1859: train=8.78466, val=8.62537, took 72.883 s\n",
      "  Validation Found 101694 of 108007, added 5383 (eff 94.16%) (0.269 FP/event)\n",
      "Result epoch:  1859\n",
      "Average Eff:  0\n",
      "Average FP Rate:  0\n"
     ]
    },
    {
     "data": {
      "application/vnd.jupyter.widget-view+json": {
       "model_id": "",
       "version_major": 2,
       "version_minor": 0
      },
      "text/plain": [
       "HBox(children=(FloatProgress(value=0.0, description='Training', layout=Layout(flex='2'), max=1250.0, style=Pro…"
      ]
     },
     "metadata": {},
     "output_type": "display_data"
    },
    {
     "name": "stdout",
     "output_type": "stream",
     "text": [
      "Epoch 1860: train=8.77516, val=8.62878, took 71.65 s\n",
      "  Validation Found 101565 of 108007, added 5239 (eff 94.04%) (0.262 FP/event)\n",
      "Result epoch:  1860\n",
      "Average Eff:  0\n",
      "Average FP Rate:  0\n"
     ]
    },
    {
     "data": {
      "application/vnd.jupyter.widget-view+json": {
       "model_id": "",
       "version_major": 2,
       "version_minor": 0
      },
      "text/plain": [
       "HBox(children=(FloatProgress(value=0.0, description='Training', layout=Layout(flex='2'), max=1250.0, style=Pro…"
      ]
     },
     "metadata": {},
     "output_type": "display_data"
    },
    {
     "name": "stdout",
     "output_type": "stream",
     "text": [
      "Epoch 1861: train=8.7797, val=8.62999, took 71.609 s\n",
      "  Validation Found 101693 of 108007, added 5395 (eff 94.15%) (0.27 FP/event)\n",
      "Result epoch:  1861\n",
      "Average Eff:  0\n",
      "Average FP Rate:  0\n"
     ]
    },
    {
     "data": {
      "application/vnd.jupyter.widget-view+json": {
       "model_id": "",
       "version_major": 2,
       "version_minor": 0
      },
      "text/plain": [
       "HBox(children=(FloatProgress(value=0.0, description='Training', layout=Layout(flex='2'), max=1250.0, style=Pro…"
      ]
     },
     "metadata": {},
     "output_type": "display_data"
    },
    {
     "name": "stdout",
     "output_type": "stream",
     "text": [
      "Epoch 1862: train=8.77949, val=8.63078, took 71.725 s\n",
      "  Validation Found 101699 of 108007, added 5396 (eff 94.16%) (0.27 FP/event)\n",
      "Result epoch:  1862\n",
      "Average Eff:  0\n",
      "Average FP Rate:  0\n"
     ]
    },
    {
     "data": {
      "application/vnd.jupyter.widget-view+json": {
       "model_id": "",
       "version_major": 2,
       "version_minor": 0
      },
      "text/plain": [
       "HBox(children=(FloatProgress(value=0.0, description='Training', layout=Layout(flex='2'), max=1250.0, style=Pro…"
      ]
     },
     "metadata": {},
     "output_type": "display_data"
    },
    {
     "name": "stdout",
     "output_type": "stream",
     "text": [
      "Epoch 1863: train=8.77719, val=8.63005, took 71.902 s\n",
      "  Validation Found 101705 of 108007, added 5418 (eff 94.17%) (0.271 FP/event)\n",
      "Result epoch:  1863\n",
      "Average Eff:  0\n",
      "Average FP Rate:  0\n"
     ]
    },
    {
     "data": {
      "application/vnd.jupyter.widget-view+json": {
       "model_id": "",
       "version_major": 2,
       "version_minor": 0
      },
      "text/plain": [
       "HBox(children=(FloatProgress(value=0.0, description='Training', layout=Layout(flex='2'), max=1250.0, style=Pro…"
      ]
     },
     "metadata": {},
     "output_type": "display_data"
    },
    {
     "name": "stdout",
     "output_type": "stream",
     "text": [
      "Epoch 1864: train=8.78242, val=8.63245, took 70.673 s\n",
      "  Validation Found 101693 of 108007, added 5390 (eff 94.15%) (0.269 FP/event)\n",
      "Result epoch:  1864\n",
      "Average Eff:  0\n",
      "Average FP Rate:  0\n"
     ]
    },
    {
     "data": {
      "application/vnd.jupyter.widget-view+json": {
       "model_id": "",
       "version_major": 2,
       "version_minor": 0
      },
      "text/plain": [
       "HBox(children=(FloatProgress(value=0.0, description='Training', layout=Layout(flex='2'), max=1250.0, style=Pro…"
      ]
     },
     "metadata": {},
     "output_type": "display_data"
    },
    {
     "name": "stdout",
     "output_type": "stream",
     "text": [
      "Epoch 1865: train=8.77892, val=8.63348, took 71.995 s\n",
      "  Validation Found 101777 of 108007, added 5587 (eff 94.23%) (0.279 FP/event)\n",
      "Result epoch:  1865\n",
      "Average Eff:  0\n",
      "Average FP Rate:  0\n"
     ]
    },
    {
     "data": {
      "application/vnd.jupyter.widget-view+json": {
       "model_id": "",
       "version_major": 2,
       "version_minor": 0
      },
      "text/plain": [
       "HBox(children=(FloatProgress(value=0.0, description='Training', layout=Layout(flex='2'), max=1250.0, style=Pro…"
      ]
     },
     "metadata": {},
     "output_type": "display_data"
    },
    {
     "name": "stdout",
     "output_type": "stream",
     "text": [
      "Epoch 1866: train=8.77719, val=8.63287, took 71.583 s\n",
      "  Validation Found 101731 of 108007, added 5474 (eff 94.19%) (0.274 FP/event)\n",
      "Result epoch:  1866\n",
      "Average Eff:  0\n",
      "Average FP Rate:  0\n"
     ]
    },
    {
     "data": {
      "application/vnd.jupyter.widget-view+json": {
       "model_id": "",
       "version_major": 2,
       "version_minor": 0
      },
      "text/plain": [
       "HBox(children=(FloatProgress(value=0.0, description='Training', layout=Layout(flex='2'), max=1250.0, style=Pro…"
      ]
     },
     "metadata": {},
     "output_type": "display_data"
    },
    {
     "name": "stdout",
     "output_type": "stream",
     "text": [
      "Epoch 1867: train=8.78138, val=8.62441, took 71.91 s\n",
      "  Validation Found 101732 of 108007, added 5435 (eff 94.19%) (0.272 FP/event)\n",
      "Result epoch:  1867\n",
      "Average Eff:  0\n",
      "Average FP Rate:  0\n"
     ]
    },
    {
     "data": {
      "application/vnd.jupyter.widget-view+json": {
       "model_id": "",
       "version_major": 2,
       "version_minor": 0
      },
      "text/plain": [
       "HBox(children=(FloatProgress(value=0.0, description='Training', layout=Layout(flex='2'), max=1250.0, style=Pro…"
      ]
     },
     "metadata": {},
     "output_type": "display_data"
    },
    {
     "name": "stdout",
     "output_type": "stream",
     "text": [
      "Epoch 1868: train=8.78303, val=8.63538, took 72.222 s\n",
      "  Validation Found 101681 of 108007, added 5374 (eff 94.14%) (0.269 FP/event)\n",
      "Result epoch:  1868\n",
      "Average Eff:  0\n",
      "Average FP Rate:  0\n"
     ]
    },
    {
     "data": {
      "application/vnd.jupyter.widget-view+json": {
       "model_id": "",
       "version_major": 2,
       "version_minor": 0
      },
      "text/plain": [
       "HBox(children=(FloatProgress(value=0.0, description='Training', layout=Layout(flex='2'), max=1250.0, style=Pro…"
      ]
     },
     "metadata": {},
     "output_type": "display_data"
    },
    {
     "name": "stdout",
     "output_type": "stream",
     "text": [
      "Epoch 1869: train=8.77932, val=8.63703, took 71.567 s\n",
      "  Validation Found 101739 of 108007, added 5489 (eff 94.20%) (0.274 FP/event)\n",
      "Result epoch:  1869\n",
      "Average Eff:  0\n",
      "Average FP Rate:  0\n"
     ]
    },
    {
     "data": {
      "application/vnd.jupyter.widget-view+json": {
       "model_id": "",
       "version_major": 2,
       "version_minor": 0
      },
      "text/plain": [
       "HBox(children=(FloatProgress(value=0.0, description='Training', layout=Layout(flex='2'), max=1250.0, style=Pro…"
      ]
     },
     "metadata": {},
     "output_type": "display_data"
    },
    {
     "name": "stdout",
     "output_type": "stream",
     "text": [
      "Epoch 1870: train=8.77685, val=8.63574, took 72.074 s\n",
      "  Validation Found 101716 of 108007, added 5425 (eff 94.18%) (0.271 FP/event)\n",
      "Result epoch:  1870\n",
      "Average Eff:  0\n",
      "Average FP Rate:  0\n"
     ]
    },
    {
     "data": {
      "application/vnd.jupyter.widget-view+json": {
       "model_id": "",
       "version_major": 2,
       "version_minor": 0
      },
      "text/plain": [
       "HBox(children=(FloatProgress(value=0.0, description='Training', layout=Layout(flex='2'), max=1250.0, style=Pro…"
      ]
     },
     "metadata": {},
     "output_type": "display_data"
    },
    {
     "name": "stdout",
     "output_type": "stream",
     "text": [
      "Epoch 1871: train=8.7843, val=8.62565, took 72.712 s\n",
      "  Validation Found 101691 of 108007, added 5366 (eff 94.15%) (0.268 FP/event)\n",
      "Result epoch:  1871\n",
      "Average Eff:  0\n",
      "Average FP Rate:  0\n"
     ]
    },
    {
     "data": {
      "application/vnd.jupyter.widget-view+json": {
       "model_id": "",
       "version_major": 2,
       "version_minor": 0
      },
      "text/plain": [
       "HBox(children=(FloatProgress(value=0.0, description='Training', layout=Layout(flex='2'), max=1250.0, style=Pro…"
      ]
     },
     "metadata": {},
     "output_type": "display_data"
    },
    {
     "name": "stdout",
     "output_type": "stream",
     "text": [
      "Epoch 1872: train=8.78065, val=8.62615, took 71.927 s\n",
      "  Validation Found 101754 of 108007, added 5502 (eff 94.21%) (0.275 FP/event)\n",
      "Result epoch:  1872\n",
      "Average Eff:  0\n",
      "Average FP Rate:  0\n"
     ]
    },
    {
     "data": {
      "application/vnd.jupyter.widget-view+json": {
       "model_id": "",
       "version_major": 2,
       "version_minor": 0
      },
      "text/plain": [
       "HBox(children=(FloatProgress(value=0.0, description='Training', layout=Layout(flex='2'), max=1250.0, style=Pro…"
      ]
     },
     "metadata": {},
     "output_type": "display_data"
    },
    {
     "name": "stdout",
     "output_type": "stream",
     "text": [
      "Epoch 1873: train=8.77946, val=8.62589, took 72.442 s\n",
      "  Validation Found 101741 of 108007, added 5504 (eff 94.20%) (0.275 FP/event)\n",
      "Result epoch:  1873\n",
      "Average Eff:  0\n",
      "Average FP Rate:  0\n"
     ]
    },
    {
     "data": {
      "application/vnd.jupyter.widget-view+json": {
       "model_id": "",
       "version_major": 2,
       "version_minor": 0
      },
      "text/plain": [
       "HBox(children=(FloatProgress(value=0.0, description='Training', layout=Layout(flex='2'), max=1250.0, style=Pro…"
      ]
     },
     "metadata": {},
     "output_type": "display_data"
    },
    {
     "name": "stdout",
     "output_type": "stream",
     "text": [
      "Epoch 1874: train=8.77898, val=8.63411, took 72.235 s\n",
      "  Validation Found 101709 of 108007, added 5405 (eff 94.17%) (0.27 FP/event)\n",
      "Result epoch:  1874\n",
      "Average Eff:  0\n",
      "Average FP Rate:  0\n"
     ]
    },
    {
     "data": {
      "application/vnd.jupyter.widget-view+json": {
       "model_id": "",
       "version_major": 2,
       "version_minor": 0
      },
      "text/plain": [
       "HBox(children=(FloatProgress(value=0.0, description='Training', layout=Layout(flex='2'), max=1250.0, style=Pro…"
      ]
     },
     "metadata": {},
     "output_type": "display_data"
    },
    {
     "name": "stdout",
     "output_type": "stream",
     "text": [
      "Epoch 1875: train=8.7786, val=8.63342, took 71.815 s\n",
      "  Validation Found 101751 of 108007, added 5536 (eff 94.21%) (0.277 FP/event)\n",
      "Result epoch:  1875\n",
      "Average Eff:  0\n",
      "Average FP Rate:  0\n"
     ]
    },
    {
     "data": {
      "application/vnd.jupyter.widget-view+json": {
       "model_id": "",
       "version_major": 2,
       "version_minor": 0
      },
      "text/plain": [
       "HBox(children=(FloatProgress(value=0.0, description='Training', layout=Layout(flex='2'), max=1250.0, style=Pro…"
      ]
     },
     "metadata": {},
     "output_type": "display_data"
    },
    {
     "name": "stdout",
     "output_type": "stream",
     "text": [
      "Epoch 1876: train=8.77392, val=8.62838, took 72.118 s\n",
      "  Validation Found 101769 of 108007, added 5569 (eff 94.22%) (0.278 FP/event)\n",
      "Result epoch:  1876\n",
      "Average Eff:  0\n",
      "Average FP Rate:  0\n"
     ]
    },
    {
     "data": {
      "application/vnd.jupyter.widget-view+json": {
       "model_id": "",
       "version_major": 2,
       "version_minor": 0
      },
      "text/plain": [
       "HBox(children=(FloatProgress(value=0.0, description='Training', layout=Layout(flex='2'), max=1250.0, style=Pro…"
      ]
     },
     "metadata": {},
     "output_type": "display_data"
    },
    {
     "name": "stdout",
     "output_type": "stream",
     "text": [
      "Epoch 1877: train=8.7776, val=8.62994, took 72.912 s\n",
      "  Validation Found 101751 of 108007, added 5549 (eff 94.21%) (0.277 FP/event)\n",
      "Result epoch:  1877\n",
      "Average Eff:  0\n",
      "Average FP Rate:  0\n"
     ]
    },
    {
     "data": {
      "application/vnd.jupyter.widget-view+json": {
       "model_id": "",
       "version_major": 2,
       "version_minor": 0
      },
      "text/plain": [
       "HBox(children=(FloatProgress(value=0.0, description='Training', layout=Layout(flex='2'), max=1250.0, style=Pro…"
      ]
     },
     "metadata": {},
     "output_type": "display_data"
    },
    {
     "name": "stdout",
     "output_type": "stream",
     "text": [
      "Epoch 1878: train=8.77787, val=8.62665, took 72.542 s\n",
      "  Validation Found 101789 of 108007, added 5609 (eff 94.24%) (0.28 FP/event)\n",
      "Result epoch:  1878\n",
      "Average Eff:  0\n",
      "Average FP Rate:  0\n"
     ]
    },
    {
     "data": {
      "application/vnd.jupyter.widget-view+json": {
       "model_id": "",
       "version_major": 2,
       "version_minor": 0
      },
      "text/plain": [
       "HBox(children=(FloatProgress(value=0.0, description='Training', layout=Layout(flex='2'), max=1250.0, style=Pro…"
      ]
     },
     "metadata": {},
     "output_type": "display_data"
    },
    {
     "name": "stdout",
     "output_type": "stream",
     "text": [
      "Epoch 1879: train=8.77707, val=8.62874, took 72.526 s\n",
      "  Validation Found 101758 of 108007, added 5536 (eff 94.21%) (0.277 FP/event)\n",
      "Result epoch:  1879\n",
      "Average Eff:  0\n",
      "Average FP Rate:  0\n"
     ]
    },
    {
     "data": {
      "application/vnd.jupyter.widget-view+json": {
       "model_id": "",
       "version_major": 2,
       "version_minor": 0
      },
      "text/plain": [
       "HBox(children=(FloatProgress(value=0.0, description='Training', layout=Layout(flex='2'), max=1250.0, style=Pro…"
      ]
     },
     "metadata": {},
     "output_type": "display_data"
    },
    {
     "name": "stdout",
     "output_type": "stream",
     "text": [
      "Epoch 1880: train=8.77565, val=8.63355, took 73.381 s\n",
      "  Validation Found 101637 of 108007, added 5342 (eff 94.10%) (0.267 FP/event)\n",
      "Result epoch:  1880\n",
      "Average Eff:  0\n",
      "Average FP Rate:  0\n"
     ]
    },
    {
     "data": {
      "application/vnd.jupyter.widget-view+json": {
       "model_id": "",
       "version_major": 2,
       "version_minor": 0
      },
      "text/plain": [
       "HBox(children=(FloatProgress(value=0.0, description='Training', layout=Layout(flex='2'), max=1250.0, style=Pro…"
      ]
     },
     "metadata": {},
     "output_type": "display_data"
    },
    {
     "name": "stdout",
     "output_type": "stream",
     "text": [
      "Epoch 1881: train=8.77885, val=8.62598, took 72.974 s\n",
      "  Validation Found 101748 of 108007, added 5506 (eff 94.21%) (0.275 FP/event)\n",
      "Result epoch:  1881\n",
      "Average Eff:  0\n",
      "Average FP Rate:  0\n"
     ]
    },
    {
     "data": {
      "application/vnd.jupyter.widget-view+json": {
       "model_id": "",
       "version_major": 2,
       "version_minor": 0
      },
      "text/plain": [
       "HBox(children=(FloatProgress(value=0.0, description='Training', layout=Layout(flex='2'), max=1250.0, style=Pro…"
      ]
     },
     "metadata": {},
     "output_type": "display_data"
    },
    {
     "name": "stdout",
     "output_type": "stream",
     "text": [
      "Epoch 1882: train=8.77706, val=8.63548, took 72.576 s\n",
      "  Validation Found 101764 of 108007, added 5537 (eff 94.22%) (0.277 FP/event)\n",
      "Result epoch:  1882\n",
      "Average Eff:  0\n",
      "Average FP Rate:  0\n"
     ]
    },
    {
     "data": {
      "application/vnd.jupyter.widget-view+json": {
       "model_id": "",
       "version_major": 2,
       "version_minor": 0
      },
      "text/plain": [
       "HBox(children=(FloatProgress(value=0.0, description='Training', layout=Layout(flex='2'), max=1250.0, style=Pro…"
      ]
     },
     "metadata": {},
     "output_type": "display_data"
    },
    {
     "name": "stdout",
     "output_type": "stream",
     "text": [
      "Epoch 1883: train=8.77577, val=8.62866, took 72.806 s\n",
      "  Validation Found 101743 of 108007, added 5448 (eff 94.20%) (0.272 FP/event)\n",
      "Result epoch:  1883\n",
      "Average Eff:  0\n",
      "Average FP Rate:  0\n"
     ]
    },
    {
     "data": {
      "application/vnd.jupyter.widget-view+json": {
       "model_id": "",
       "version_major": 2,
       "version_minor": 0
      },
      "text/plain": [
       "HBox(children=(FloatProgress(value=0.0, description='Training', layout=Layout(flex='2'), max=1250.0, style=Pro…"
      ]
     },
     "metadata": {},
     "output_type": "display_data"
    },
    {
     "name": "stdout",
     "output_type": "stream",
     "text": [
      "Epoch 1884: train=8.77818, val=8.62217, took 70.996 s\n",
      "  Validation Found 101707 of 108007, added 5384 (eff 94.17%) (0.269 FP/event)\n",
      "Result epoch:  1884\n",
      "Average Eff:  0\n",
      "Average FP Rate:  0\n"
     ]
    },
    {
     "data": {
      "application/vnd.jupyter.widget-view+json": {
       "model_id": "",
       "version_major": 2,
       "version_minor": 0
      },
      "text/plain": [
       "HBox(children=(FloatProgress(value=0.0, description='Training', layout=Layout(flex='2'), max=1250.0, style=Pro…"
      ]
     },
     "metadata": {},
     "output_type": "display_data"
    },
    {
     "name": "stdout",
     "output_type": "stream",
     "text": [
      "Epoch 1885: train=8.77717, val=8.62653, took 71.841 s\n",
      "  Validation Found 101713 of 108007, added 5422 (eff 94.17%) (0.271 FP/event)\n",
      "Result epoch:  1885\n",
      "Average Eff:  0\n",
      "Average FP Rate:  0\n"
     ]
    },
    {
     "data": {
      "application/vnd.jupyter.widget-view+json": {
       "model_id": "",
       "version_major": 2,
       "version_minor": 0
      },
      "text/plain": [
       "HBox(children=(FloatProgress(value=0.0, description='Training', layout=Layout(flex='2'), max=1250.0, style=Pro…"
      ]
     },
     "metadata": {},
     "output_type": "display_data"
    },
    {
     "name": "stdout",
     "output_type": "stream",
     "text": [
      "Epoch 1886: train=8.78234, val=8.63572, took 72.011 s\n",
      "  Validation Found 101758 of 108007, added 5511 (eff 94.21%) (0.276 FP/event)\n",
      "Result epoch:  1886\n",
      "Average Eff:  0\n",
      "Average FP Rate:  0\n"
     ]
    },
    {
     "data": {
      "application/vnd.jupyter.widget-view+json": {
       "model_id": "",
       "version_major": 2,
       "version_minor": 0
      },
      "text/plain": [
       "HBox(children=(FloatProgress(value=0.0, description='Training', layout=Layout(flex='2'), max=1250.0, style=Pro…"
      ]
     },
     "metadata": {},
     "output_type": "display_data"
    },
    {
     "name": "stdout",
     "output_type": "stream",
     "text": [
      "Epoch 1887: train=8.7827, val=8.6243, took 73.158 s\n",
      "  Validation Found 101706 of 108007, added 5397 (eff 94.17%) (0.27 FP/event)\n",
      "Result epoch:  1887\n",
      "Average Eff:  0\n",
      "Average FP Rate:  0\n"
     ]
    },
    {
     "data": {
      "application/vnd.jupyter.widget-view+json": {
       "model_id": "",
       "version_major": 2,
       "version_minor": 0
      },
      "text/plain": [
       "HBox(children=(FloatProgress(value=0.0, description='Training', layout=Layout(flex='2'), max=1250.0, style=Pro…"
      ]
     },
     "metadata": {},
     "output_type": "display_data"
    },
    {
     "name": "stdout",
     "output_type": "stream",
     "text": [
      "Epoch 1888: train=8.77494, val=8.63603, took 72.006 s\n",
      "  Validation Found 101743 of 108007, added 5497 (eff 94.20%) (0.275 FP/event)\n",
      "Result epoch:  1888\n",
      "Average Eff:  0\n",
      "Average FP Rate:  0\n"
     ]
    },
    {
     "data": {
      "application/vnd.jupyter.widget-view+json": {
       "model_id": "",
       "version_major": 2,
       "version_minor": 0
      },
      "text/plain": [
       "HBox(children=(FloatProgress(value=0.0, description='Training', layout=Layout(flex='2'), max=1250.0, style=Pro…"
      ]
     },
     "metadata": {},
     "output_type": "display_data"
    },
    {
     "name": "stdout",
     "output_type": "stream",
     "text": [
      "Epoch 1889: train=8.77576, val=8.63431, took 71.676 s\n",
      "  Validation Found 101616 of 108007, added 5301 (eff 94.08%) (0.265 FP/event)\n",
      "Result epoch:  1889\n",
      "Average Eff:  0\n",
      "Average FP Rate:  0\n"
     ]
    },
    {
     "data": {
      "application/vnd.jupyter.widget-view+json": {
       "model_id": "",
       "version_major": 2,
       "version_minor": 0
      },
      "text/plain": [
       "HBox(children=(FloatProgress(value=0.0, description='Training', layout=Layout(flex='2'), max=1250.0, style=Pro…"
      ]
     },
     "metadata": {},
     "output_type": "display_data"
    },
    {
     "name": "stdout",
     "output_type": "stream",
     "text": [
      "Epoch 1890: train=8.7721, val=8.62315, took 71.606 s\n",
      "  Validation Found 101764 of 108007, added 5523 (eff 94.22%) (0.276 FP/event)\n",
      "Result epoch:  1890\n",
      "Average Eff:  0\n",
      "Average FP Rate:  0\n"
     ]
    },
    {
     "data": {
      "application/vnd.jupyter.widget-view+json": {
       "model_id": "",
       "version_major": 2,
       "version_minor": 0
      },
      "text/plain": [
       "HBox(children=(FloatProgress(value=0.0, description='Training', layout=Layout(flex='2'), max=1250.0, style=Pro…"
      ]
     },
     "metadata": {},
     "output_type": "display_data"
    },
    {
     "name": "stdout",
     "output_type": "stream",
     "text": [
      "Epoch 1891: train=8.77769, val=8.62925, took 72.744 s\n",
      "  Validation Found 101741 of 108007, added 5485 (eff 94.20%) (0.274 FP/event)\n",
      "Result epoch:  1891\n",
      "Average Eff:  0\n",
      "Average FP Rate:  0\n"
     ]
    },
    {
     "data": {
      "application/vnd.jupyter.widget-view+json": {
       "model_id": "",
       "version_major": 2,
       "version_minor": 0
      },
      "text/plain": [
       "HBox(children=(FloatProgress(value=0.0, description='Training', layout=Layout(flex='2'), max=1250.0, style=Pro…"
      ]
     },
     "metadata": {},
     "output_type": "display_data"
    },
    {
     "name": "stdout",
     "output_type": "stream",
     "text": [
      "Epoch 1892: train=8.77644, val=8.63574, took 72.266 s\n",
      "  Validation Found 101729 of 108007, added 5455 (eff 94.19%) (0.273 FP/event)\n",
      "Result epoch:  1892\n",
      "Average Eff:  0\n",
      "Average FP Rate:  0\n"
     ]
    },
    {
     "data": {
      "application/vnd.jupyter.widget-view+json": {
       "model_id": "",
       "version_major": 2,
       "version_minor": 0
      },
      "text/plain": [
       "HBox(children=(FloatProgress(value=0.0, description='Training', layout=Layout(flex='2'), max=1250.0, style=Pro…"
      ]
     },
     "metadata": {},
     "output_type": "display_data"
    },
    {
     "name": "stdout",
     "output_type": "stream",
     "text": [
      "Epoch 1893: train=8.77748, val=8.62589, took 71.592 s\n",
      "  Validation Found 101651 of 108007, added 5322 (eff 94.12%) (0.266 FP/event)\n",
      "Result epoch:  1893\n",
      "Average Eff:  0\n",
      "Average FP Rate:  0\n"
     ]
    },
    {
     "data": {
      "application/vnd.jupyter.widget-view+json": {
       "model_id": "",
       "version_major": 2,
       "version_minor": 0
      },
      "text/plain": [
       "HBox(children=(FloatProgress(value=0.0, description='Training', layout=Layout(flex='2'), max=1250.0, style=Pro…"
      ]
     },
     "metadata": {},
     "output_type": "display_data"
    },
    {
     "name": "stdout",
     "output_type": "stream",
     "text": [
      "Epoch 1894: train=8.78395, val=8.62652, took 70.944 s\n",
      "  Validation Found 101783 of 108007, added 5586 (eff 94.24%) (0.279 FP/event)\n",
      "Result epoch:  1894\n",
      "Average Eff:  0\n",
      "Average FP Rate:  0\n"
     ]
    },
    {
     "data": {
      "application/vnd.jupyter.widget-view+json": {
       "model_id": "",
       "version_major": 2,
       "version_minor": 0
      },
      "text/plain": [
       "HBox(children=(FloatProgress(value=0.0, description='Training', layout=Layout(flex='2'), max=1250.0, style=Pro…"
      ]
     },
     "metadata": {},
     "output_type": "display_data"
    },
    {
     "name": "stdout",
     "output_type": "stream",
     "text": [
      "Epoch 1895: train=8.77454, val=8.62543, took 71.258 s\n",
      "  Validation Found 101730 of 108007, added 5442 (eff 94.19%) (0.272 FP/event)\n",
      "Result epoch:  1895\n",
      "Average Eff:  0\n",
      "Average FP Rate:  0\n"
     ]
    },
    {
     "data": {
      "application/vnd.jupyter.widget-view+json": {
       "model_id": "",
       "version_major": 2,
       "version_minor": 0
      },
      "text/plain": [
       "HBox(children=(FloatProgress(value=0.0, description='Training', layout=Layout(flex='2'), max=1250.0, style=Pro…"
      ]
     },
     "metadata": {},
     "output_type": "display_data"
    },
    {
     "name": "stdout",
     "output_type": "stream",
     "text": [
      "Epoch 1896: train=8.78218, val=8.62335, took 71.937 s\n",
      "  Validation Found 101740 of 108007, added 5447 (eff 94.20%) (0.272 FP/event)\n",
      "Result epoch:  1896\n",
      "Average Eff:  0\n",
      "Average FP Rate:  0\n"
     ]
    },
    {
     "data": {
      "application/vnd.jupyter.widget-view+json": {
       "model_id": "",
       "version_major": 2,
       "version_minor": 0
      },
      "text/plain": [
       "HBox(children=(FloatProgress(value=0.0, description='Training', layout=Layout(flex='2'), max=1250.0, style=Pro…"
      ]
     },
     "metadata": {},
     "output_type": "display_data"
    },
    {
     "name": "stdout",
     "output_type": "stream",
     "text": [
      "Epoch 1897: train=8.78105, val=8.6265, took 72.824 s\n",
      "  Validation Found 101789 of 108007, added 5636 (eff 94.24%) (0.282 FP/event)\n",
      "Result epoch:  1897\n",
      "Average Eff:  0\n",
      "Average FP Rate:  0\n"
     ]
    },
    {
     "data": {
      "application/vnd.jupyter.widget-view+json": {
       "model_id": "",
       "version_major": 2,
       "version_minor": 0
      },
      "text/plain": [
       "HBox(children=(FloatProgress(value=0.0, description='Training', layout=Layout(flex='2'), max=1250.0, style=Pro…"
      ]
     },
     "metadata": {},
     "output_type": "display_data"
    },
    {
     "name": "stdout",
     "output_type": "stream",
     "text": [
      "Epoch 1898: train=8.77895, val=8.62641, took 71.978 s\n",
      "  Validation Found 101736 of 108007, added 5455 (eff 94.19%) (0.273 FP/event)\n",
      "Result epoch:  1898\n",
      "Average Eff:  0\n",
      "Average FP Rate:  0\n"
     ]
    },
    {
     "data": {
      "application/vnd.jupyter.widget-view+json": {
       "model_id": "",
       "version_major": 2,
       "version_minor": 0
      },
      "text/plain": [
       "HBox(children=(FloatProgress(value=0.0, description='Training', layout=Layout(flex='2'), max=1250.0, style=Pro…"
      ]
     },
     "metadata": {},
     "output_type": "display_data"
    },
    {
     "name": "stdout",
     "output_type": "stream",
     "text": [
      "Epoch 1899: train=8.77998, val=8.63142, took 72.174 s\n",
      "  Validation Found 101780 of 108007, added 5605 (eff 94.23%) (0.28 FP/event)\n",
      "Result epoch:  1899\n",
      "Average Eff:  0\n",
      "Average FP Rate:  0\n"
     ]
    },
    {
     "data": {
      "application/vnd.jupyter.widget-view+json": {
       "model_id": "",
       "version_major": 2,
       "version_minor": 0
      },
      "text/plain": [
       "HBox(children=(FloatProgress(value=0.0, description='Training', layout=Layout(flex='2'), max=1250.0, style=Pro…"
      ]
     },
     "metadata": {},
     "output_type": "display_data"
    },
    {
     "name": "stdout",
     "output_type": "stream",
     "text": [
      "Epoch 1900: train=8.77918, val=8.62891, took 72.165 s\n",
      "  Validation Found 101690 of 108007, added 5384 (eff 94.15%) (0.269 FP/event)\n",
      "Result epoch:  1900\n",
      "Average Eff:  0\n",
      "Average FP Rate:  0\n"
     ]
    },
    {
     "data": {
      "application/vnd.jupyter.widget-view+json": {
       "model_id": "",
       "version_major": 2,
       "version_minor": 0
      },
      "text/plain": [
       "HBox(children=(FloatProgress(value=0.0, description='Training', layout=Layout(flex='2'), max=1250.0, style=Pro…"
      ]
     },
     "metadata": {},
     "output_type": "display_data"
    },
    {
     "name": "stdout",
     "output_type": "stream",
     "text": [
      "Epoch 1901: train=8.77754, val=8.62145, took 72.682 s\n",
      "  Validation Found 101684 of 108007, added 5357 (eff 94.15%) (0.268 FP/event)\n",
      "Result epoch:  1901\n",
      "Average Eff:  0\n",
      "Average FP Rate:  0\n"
     ]
    },
    {
     "data": {
      "application/vnd.jupyter.widget-view+json": {
       "model_id": "",
       "version_major": 2,
       "version_minor": 0
      },
      "text/plain": [
       "HBox(children=(FloatProgress(value=0.0, description='Training', layout=Layout(flex='2'), max=1250.0, style=Pro…"
      ]
     },
     "metadata": {},
     "output_type": "display_data"
    },
    {
     "name": "stdout",
     "output_type": "stream",
     "text": [
      "Epoch 1902: train=8.77766, val=8.63986, took 72.205 s\n",
      "  Validation Found 101682 of 108007, added 5388 (eff 94.14%) (0.269 FP/event)\n",
      "Result epoch:  1902\n",
      "Average Eff:  0\n",
      "Average FP Rate:  0\n"
     ]
    },
    {
     "data": {
      "application/vnd.jupyter.widget-view+json": {
       "model_id": "",
       "version_major": 2,
       "version_minor": 0
      },
      "text/plain": [
       "HBox(children=(FloatProgress(value=0.0, description='Training', layout=Layout(flex='2'), max=1250.0, style=Pro…"
      ]
     },
     "metadata": {},
     "output_type": "display_data"
    },
    {
     "name": "stdout",
     "output_type": "stream",
     "text": [
      "Epoch 1903: train=8.78386, val=8.63648, took 71.727 s\n",
      "  Validation Found 101651 of 108007, added 5348 (eff 94.12%) (0.267 FP/event)\n",
      "Result epoch:  1903\n",
      "Average Eff:  0\n",
      "Average FP Rate:  0\n"
     ]
    },
    {
     "data": {
      "application/vnd.jupyter.widget-view+json": {
       "model_id": "",
       "version_major": 2,
       "version_minor": 0
      },
      "text/plain": [
       "HBox(children=(FloatProgress(value=0.0, description='Training', layout=Layout(flex='2'), max=1250.0, style=Pro…"
      ]
     },
     "metadata": {},
     "output_type": "display_data"
    },
    {
     "name": "stdout",
     "output_type": "stream",
     "text": [
      "Epoch 1904: train=8.78227, val=8.62594, took 70.74 s\n",
      "  Validation Found 101709 of 108007, added 5405 (eff 94.17%) (0.27 FP/event)\n",
      "Result epoch:  1904\n",
      "Average Eff:  0\n",
      "Average FP Rate:  0\n"
     ]
    },
    {
     "data": {
      "application/vnd.jupyter.widget-view+json": {
       "model_id": "",
       "version_major": 2,
       "version_minor": 0
      },
      "text/plain": [
       "HBox(children=(FloatProgress(value=0.0, description='Training', layout=Layout(flex='2'), max=1250.0, style=Pro…"
      ]
     },
     "metadata": {},
     "output_type": "display_data"
    },
    {
     "name": "stdout",
     "output_type": "stream",
     "text": [
      "Epoch 1905: train=8.78025, val=8.63476, took 71.078 s\n",
      "  Validation Found 101670 of 108007, added 5374 (eff 94.13%) (0.269 FP/event)\n",
      "Result epoch:  1905\n",
      "Average Eff:  0\n",
      "Average FP Rate:  0\n"
     ]
    },
    {
     "data": {
      "application/vnd.jupyter.widget-view+json": {
       "model_id": "",
       "version_major": 2,
       "version_minor": 0
      },
      "text/plain": [
       "HBox(children=(FloatProgress(value=0.0, description='Training', layout=Layout(flex='2'), max=1250.0, style=Pro…"
      ]
     },
     "metadata": {},
     "output_type": "display_data"
    },
    {
     "name": "stdout",
     "output_type": "stream",
     "text": [
      "Epoch 1906: train=8.77798, val=8.63206, took 70.654 s\n",
      "  Validation Found 101642 of 108007, added 5331 (eff 94.11%) (0.267 FP/event)\n",
      "Result epoch:  1906\n",
      "Average Eff:  0\n",
      "Average FP Rate:  0\n"
     ]
    },
    {
     "data": {
      "application/vnd.jupyter.widget-view+json": {
       "model_id": "",
       "version_major": 2,
       "version_minor": 0
      },
      "text/plain": [
       "HBox(children=(FloatProgress(value=0.0, description='Training', layout=Layout(flex='2'), max=1250.0, style=Pro…"
      ]
     },
     "metadata": {},
     "output_type": "display_data"
    },
    {
     "name": "stdout",
     "output_type": "stream",
     "text": [
      "Epoch 1907: train=8.77882, val=8.62156, took 71.056 s\n",
      "  Validation Found 101688 of 108007, added 5354 (eff 94.15%) (0.268 FP/event)\n",
      "Result epoch:  1907\n",
      "Average Eff:  0\n",
      "Average FP Rate:  0\n"
     ]
    },
    {
     "data": {
      "application/vnd.jupyter.widget-view+json": {
       "model_id": "",
       "version_major": 2,
       "version_minor": 0
      },
      "text/plain": [
       "HBox(children=(FloatProgress(value=0.0, description='Training', layout=Layout(flex='2'), max=1250.0, style=Pro…"
      ]
     },
     "metadata": {},
     "output_type": "display_data"
    },
    {
     "name": "stdout",
     "output_type": "stream",
     "text": [
      "Epoch 1908: train=8.7844, val=8.62827, took 70.197 s\n",
      "  Validation Found 101604 of 108007, added 5281 (eff 94.07%) (0.264 FP/event)\n",
      "Result epoch:  1908\n",
      "Average Eff:  0\n",
      "Average FP Rate:  0\n"
     ]
    },
    {
     "data": {
      "application/vnd.jupyter.widget-view+json": {
       "model_id": "",
       "version_major": 2,
       "version_minor": 0
      },
      "text/plain": [
       "HBox(children=(FloatProgress(value=0.0, description='Training', layout=Layout(flex='2'), max=1250.0, style=Pro…"
      ]
     },
     "metadata": {},
     "output_type": "display_data"
    },
    {
     "name": "stdout",
     "output_type": "stream",
     "text": [
      "Epoch 1909: train=8.77378, val=8.62866, took 71.556 s\n",
      "  Validation Found 101769 of 108007, added 5578 (eff 94.22%) (0.279 FP/event)\n",
      "Result epoch:  1909\n",
      "Average Eff:  0\n",
      "Average FP Rate:  0\n"
     ]
    },
    {
     "data": {
      "application/vnd.jupyter.widget-view+json": {
       "model_id": "",
       "version_major": 2,
       "version_minor": 0
      },
      "text/plain": [
       "HBox(children=(FloatProgress(value=0.0, description='Training', layout=Layout(flex='2'), max=1250.0, style=Pro…"
      ]
     },
     "metadata": {},
     "output_type": "display_data"
    },
    {
     "name": "stdout",
     "output_type": "stream",
     "text": [
      "Epoch 1910: train=8.78008, val=8.62882, took 72.148 s\n",
      "  Validation Found 101789 of 108007, added 5620 (eff 94.24%) (0.281 FP/event)\n",
      "Result epoch:  1910\n",
      "Average Eff:  0\n",
      "Average FP Rate:  0\n"
     ]
    },
    {
     "data": {
      "application/vnd.jupyter.widget-view+json": {
       "model_id": "",
       "version_major": 2,
       "version_minor": 0
      },
      "text/plain": [
       "HBox(children=(FloatProgress(value=0.0, description='Training', layout=Layout(flex='2'), max=1250.0, style=Pro…"
      ]
     },
     "metadata": {},
     "output_type": "display_data"
    },
    {
     "name": "stdout",
     "output_type": "stream",
     "text": [
      "Epoch 1911: train=8.77871, val=8.63268, took 71.475 s\n",
      "  Validation Found 101676 of 108007, added 5350 (eff 94.14%) (0.267 FP/event)\n",
      "Result epoch:  1911\n",
      "Average Eff:  0\n",
      "Average FP Rate:  0\n"
     ]
    },
    {
     "data": {
      "application/vnd.jupyter.widget-view+json": {
       "model_id": "",
       "version_major": 2,
       "version_minor": 0
      },
      "text/plain": [
       "HBox(children=(FloatProgress(value=0.0, description='Training', layout=Layout(flex='2'), max=1250.0, style=Pro…"
      ]
     },
     "metadata": {},
     "output_type": "display_data"
    },
    {
     "name": "stdout",
     "output_type": "stream",
     "text": [
      "Epoch 1912: train=8.78235, val=8.62665, took 71.906 s\n",
      "  Validation Found 101690 of 108007, added 5380 (eff 94.15%) (0.269 FP/event)\n",
      "Result epoch:  1912\n",
      "Average Eff:  0\n",
      "Average FP Rate:  0\n"
     ]
    },
    {
     "data": {
      "application/vnd.jupyter.widget-view+json": {
       "model_id": "",
       "version_major": 2,
       "version_minor": 0
      },
      "text/plain": [
       "HBox(children=(FloatProgress(value=0.0, description='Training', layout=Layout(flex='2'), max=1250.0, style=Pro…"
      ]
     },
     "metadata": {},
     "output_type": "display_data"
    },
    {
     "name": "stdout",
     "output_type": "stream",
     "text": [
      "Epoch 1913: train=8.77678, val=8.63086, took 71.585 s\n",
      "  Validation Found 101745 of 108007, added 5551 (eff 94.20%) (0.278 FP/event)\n",
      "Result epoch:  1913\n",
      "Average Eff:  0\n",
      "Average FP Rate:  0\n"
     ]
    },
    {
     "data": {
      "application/vnd.jupyter.widget-view+json": {
       "model_id": "",
       "version_major": 2,
       "version_minor": 0
      },
      "text/plain": [
       "HBox(children=(FloatProgress(value=0.0, description='Training', layout=Layout(flex='2'), max=1250.0, style=Pro…"
      ]
     },
     "metadata": {},
     "output_type": "display_data"
    },
    {
     "name": "stdout",
     "output_type": "stream",
     "text": [
      "Epoch 1914: train=8.77903, val=8.63865, took 70.873 s\n",
      "  Validation Found 101658 of 108007, added 5351 (eff 94.12%) (0.268 FP/event)\n",
      "Result epoch:  1914\n",
      "Average Eff:  0\n",
      "Average FP Rate:  0\n"
     ]
    },
    {
     "data": {
      "application/vnd.jupyter.widget-view+json": {
       "model_id": "",
       "version_major": 2,
       "version_minor": 0
      },
      "text/plain": [
       "HBox(children=(FloatProgress(value=0.0, description='Training', layout=Layout(flex='2'), max=1250.0, style=Pro…"
      ]
     },
     "metadata": {},
     "output_type": "display_data"
    },
    {
     "name": "stdout",
     "output_type": "stream",
     "text": [
      "Epoch 1915: train=8.78071, val=8.62335, took 71.939 s\n",
      "  Validation Found 101757 of 108007, added 5518 (eff 94.21%) (0.276 FP/event)\n",
      "Result epoch:  1915\n",
      "Average Eff:  0\n",
      "Average FP Rate:  0\n"
     ]
    },
    {
     "data": {
      "application/vnd.jupyter.widget-view+json": {
       "model_id": "",
       "version_major": 2,
       "version_minor": 0
      },
      "text/plain": [
       "HBox(children=(FloatProgress(value=0.0, description='Training', layout=Layout(flex='2'), max=1250.0, style=Pro…"
      ]
     },
     "metadata": {},
     "output_type": "display_data"
    },
    {
     "name": "stdout",
     "output_type": "stream",
     "text": [
      "Epoch 1916: train=8.77429, val=8.62675, took 71.559 s\n",
      "  Validation Found 101702 of 108007, added 5398 (eff 94.16%) (0.27 FP/event)\n",
      "Result epoch:  1916\n",
      "Average Eff:  0\n",
      "Average FP Rate:  0\n"
     ]
    },
    {
     "data": {
      "application/vnd.jupyter.widget-view+json": {
       "model_id": "",
       "version_major": 2,
       "version_minor": 0
      },
      "text/plain": [
       "HBox(children=(FloatProgress(value=0.0, description='Training', layout=Layout(flex='2'), max=1250.0, style=Pro…"
      ]
     },
     "metadata": {},
     "output_type": "display_data"
    },
    {
     "name": "stdout",
     "output_type": "stream",
     "text": [
      "Epoch 1917: train=8.78009, val=8.62786, took 71.534 s\n",
      "  Validation Found 101692 of 108007, added 5364 (eff 94.15%) (0.268 FP/event)\n",
      "Result epoch:  1917\n",
      "Average Eff:  0\n",
      "Average FP Rate:  0\n"
     ]
    },
    {
     "data": {
      "application/vnd.jupyter.widget-view+json": {
       "model_id": "",
       "version_major": 2,
       "version_minor": 0
      },
      "text/plain": [
       "HBox(children=(FloatProgress(value=0.0, description='Training', layout=Layout(flex='2'), max=1250.0, style=Pro…"
      ]
     },
     "metadata": {},
     "output_type": "display_data"
    },
    {
     "name": "stdout",
     "output_type": "stream",
     "text": [
      "Epoch 1918: train=8.77223, val=8.63279, took 71.99 s\n",
      "  Validation Found 101688 of 108007, added 5386 (eff 94.15%) (0.269 FP/event)\n",
      "Result epoch:  1918\n",
      "Average Eff:  0\n",
      "Average FP Rate:  0\n"
     ]
    },
    {
     "data": {
      "application/vnd.jupyter.widget-view+json": {
       "model_id": "",
       "version_major": 2,
       "version_minor": 0
      },
      "text/plain": [
       "HBox(children=(FloatProgress(value=0.0, description='Training', layout=Layout(flex='2'), max=1250.0, style=Pro…"
      ]
     },
     "metadata": {},
     "output_type": "display_data"
    },
    {
     "name": "stdout",
     "output_type": "stream",
     "text": [
      "Epoch 1919: train=8.77558, val=8.6279, took 72.114 s\n",
      "  Validation Found 101702 of 108007, added 5399 (eff 94.16%) (0.27 FP/event)\n",
      "Result epoch:  1919\n",
      "Average Eff:  0\n",
      "Average FP Rate:  0\n"
     ]
    },
    {
     "data": {
      "application/vnd.jupyter.widget-view+json": {
       "model_id": "",
       "version_major": 2,
       "version_minor": 0
      },
      "text/plain": [
       "HBox(children=(FloatProgress(value=0.0, description='Training', layout=Layout(flex='2'), max=1250.0, style=Pro…"
      ]
     },
     "metadata": {},
     "output_type": "display_data"
    },
    {
     "name": "stdout",
     "output_type": "stream",
     "text": [
      "Epoch 1920: train=8.78149, val=8.62662, took 72.084 s\n",
      "  Validation Found 101718 of 108007, added 5428 (eff 94.18%) (0.271 FP/event)\n",
      "Result epoch:  1920\n",
      "Average Eff:  0\n",
      "Average FP Rate:  0\n"
     ]
    },
    {
     "data": {
      "application/vnd.jupyter.widget-view+json": {
       "model_id": "",
       "version_major": 2,
       "version_minor": 0
      },
      "text/plain": [
       "HBox(children=(FloatProgress(value=0.0, description='Training', layout=Layout(flex='2'), max=1250.0, style=Pro…"
      ]
     },
     "metadata": {},
     "output_type": "display_data"
    },
    {
     "name": "stdout",
     "output_type": "stream",
     "text": [
      "Epoch 1921: train=8.77794, val=8.62569, took 72.267 s\n",
      "  Validation Found 101747 of 108007, added 5476 (eff 94.20%) (0.274 FP/event)\n",
      "Result epoch:  1921\n",
      "Average Eff:  0\n",
      "Average FP Rate:  0\n"
     ]
    },
    {
     "data": {
      "application/vnd.jupyter.widget-view+json": {
       "model_id": "",
       "version_major": 2,
       "version_minor": 0
      },
      "text/plain": [
       "HBox(children=(FloatProgress(value=0.0, description='Training', layout=Layout(flex='2'), max=1250.0, style=Pro…"
      ]
     },
     "metadata": {},
     "output_type": "display_data"
    },
    {
     "name": "stdout",
     "output_type": "stream",
     "text": [
      "Epoch 1922: train=8.77844, val=8.62459, took 73.185 s\n",
      "  Validation Found 101755 of 108007, added 5494 (eff 94.21%) (0.275 FP/event)\n",
      "Result epoch:  1922\n",
      "Average Eff:  0\n",
      "Average FP Rate:  0\n"
     ]
    },
    {
     "data": {
      "application/vnd.jupyter.widget-view+json": {
       "model_id": "",
       "version_major": 2,
       "version_minor": 0
      },
      "text/plain": [
       "HBox(children=(FloatProgress(value=0.0, description='Training', layout=Layout(flex='2'), max=1250.0, style=Pro…"
      ]
     },
     "metadata": {},
     "output_type": "display_data"
    },
    {
     "name": "stdout",
     "output_type": "stream",
     "text": [
      "Epoch 1923: train=8.78117, val=8.63557, took 72.477 s\n",
      "  Validation Found 101565 of 108007, added 5231 (eff 94.04%) (0.262 FP/event)\n",
      "Result epoch:  1923\n",
      "Average Eff:  0\n",
      "Average FP Rate:  0\n"
     ]
    },
    {
     "data": {
      "application/vnd.jupyter.widget-view+json": {
       "model_id": "",
       "version_major": 2,
       "version_minor": 0
      },
      "text/plain": [
       "HBox(children=(FloatProgress(value=0.0, description='Training', layout=Layout(flex='2'), max=1250.0, style=Pro…"
      ]
     },
     "metadata": {},
     "output_type": "display_data"
    },
    {
     "name": "stdout",
     "output_type": "stream",
     "text": [
      "Epoch 1924: train=8.77932, val=8.63191, took 71.807 s\n",
      "  Validation Found 101698 of 108007, added 5396 (eff 94.16%) (0.27 FP/event)\n",
      "Result epoch:  1924\n",
      "Average Eff:  0\n",
      "Average FP Rate:  0\n"
     ]
    },
    {
     "data": {
      "application/vnd.jupyter.widget-view+json": {
       "model_id": "",
       "version_major": 2,
       "version_minor": 0
      },
      "text/plain": [
       "HBox(children=(FloatProgress(value=0.0, description='Training', layout=Layout(flex='2'), max=1250.0, style=Pro…"
      ]
     },
     "metadata": {},
     "output_type": "display_data"
    },
    {
     "name": "stdout",
     "output_type": "stream",
     "text": [
      "Epoch 1925: train=8.7784, val=8.6287, took 71.247 s\n",
      "  Validation Found 101767 of 108007, added 5568 (eff 94.22%) (0.278 FP/event)\n",
      "Result epoch:  1925\n",
      "Average Eff:  0\n",
      "Average FP Rate:  0\n"
     ]
    },
    {
     "data": {
      "application/vnd.jupyter.widget-view+json": {
       "model_id": "",
       "version_major": 2,
       "version_minor": 0
      },
      "text/plain": [
       "HBox(children=(FloatProgress(value=0.0, description='Training', layout=Layout(flex='2'), max=1250.0, style=Pro…"
      ]
     },
     "metadata": {},
     "output_type": "display_data"
    },
    {
     "name": "stdout",
     "output_type": "stream",
     "text": [
      "Epoch 1926: train=8.78047, val=8.62841, took 72.258 s\n",
      "  Validation Found 101736 of 108007, added 5464 (eff 94.19%) (0.273 FP/event)\n",
      "Result epoch:  1926\n",
      "Average Eff:  0\n",
      "Average FP Rate:  0\n"
     ]
    },
    {
     "data": {
      "application/vnd.jupyter.widget-view+json": {
       "model_id": "",
       "version_major": 2,
       "version_minor": 0
      },
      "text/plain": [
       "HBox(children=(FloatProgress(value=0.0, description='Training', layout=Layout(flex='2'), max=1250.0, style=Pro…"
      ]
     },
     "metadata": {},
     "output_type": "display_data"
    },
    {
     "name": "stdout",
     "output_type": "stream",
     "text": [
      "Epoch 1927: train=8.77916, val=8.63222, took 73.158 s\n",
      "  Validation Found 101732 of 108007, added 5435 (eff 94.19%) (0.272 FP/event)\n",
      "Result epoch:  1927\n",
      "Average Eff:  0\n",
      "Average FP Rate:  0\n"
     ]
    },
    {
     "data": {
      "application/vnd.jupyter.widget-view+json": {
       "model_id": "",
       "version_major": 2,
       "version_minor": 0
      },
      "text/plain": [
       "HBox(children=(FloatProgress(value=0.0, description='Training', layout=Layout(flex='2'), max=1250.0, style=Pro…"
      ]
     },
     "metadata": {},
     "output_type": "display_data"
    },
    {
     "name": "stdout",
     "output_type": "stream",
     "text": [
      "Epoch 1928: train=8.77895, val=8.63245, took 71.982 s\n",
      "  Validation Found 101615 of 108007, added 5308 (eff 94.08%) (0.265 FP/event)\n",
      "Result epoch:  1928\n",
      "Average Eff:  0\n",
      "Average FP Rate:  0\n"
     ]
    },
    {
     "data": {
      "application/vnd.jupyter.widget-view+json": {
       "model_id": "",
       "version_major": 2,
       "version_minor": 0
      },
      "text/plain": [
       "HBox(children=(FloatProgress(value=0.0, description='Training', layout=Layout(flex='2'), max=1250.0, style=Pro…"
      ]
     },
     "metadata": {},
     "output_type": "display_data"
    },
    {
     "name": "stdout",
     "output_type": "stream",
     "text": [
      "Epoch 1929: train=8.78225, val=8.62985, took 72.265 s\n",
      "  Validation Found 101711 of 108007, added 5406 (eff 94.17%) (0.27 FP/event)\n",
      "Result epoch:  1929\n",
      "Average Eff:  0\n",
      "Average FP Rate:  0\n"
     ]
    },
    {
     "data": {
      "application/vnd.jupyter.widget-view+json": {
       "model_id": "",
       "version_major": 2,
       "version_minor": 0
      },
      "text/plain": [
       "HBox(children=(FloatProgress(value=0.0, description='Training', layout=Layout(flex='2'), max=1250.0, style=Pro…"
      ]
     },
     "metadata": {},
     "output_type": "display_data"
    },
    {
     "name": "stdout",
     "output_type": "stream",
     "text": [
      "Epoch 1930: train=8.77272, val=8.62623, took 72.634 s\n",
      "  Validation Found 101763 of 108007, added 5541 (eff 94.22%) (0.277 FP/event)\n",
      "Result epoch:  1930\n",
      "Average Eff:  0\n",
      "Average FP Rate:  0\n"
     ]
    },
    {
     "data": {
      "application/vnd.jupyter.widget-view+json": {
       "model_id": "",
       "version_major": 2,
       "version_minor": 0
      },
      "text/plain": [
       "HBox(children=(FloatProgress(value=0.0, description='Training', layout=Layout(flex='2'), max=1250.0, style=Pro…"
      ]
     },
     "metadata": {},
     "output_type": "display_data"
    },
    {
     "name": "stdout",
     "output_type": "stream",
     "text": [
      "Epoch 1931: train=8.77729, val=8.627, took 73.16 s\n",
      "  Validation Found 101675 of 108007, added 5335 (eff 94.14%) (0.267 FP/event)\n",
      "Result epoch:  1931\n",
      "Average Eff:  0\n",
      "Average FP Rate:  0\n"
     ]
    },
    {
     "data": {
      "application/vnd.jupyter.widget-view+json": {
       "model_id": "",
       "version_major": 2,
       "version_minor": 0
      },
      "text/plain": [
       "HBox(children=(FloatProgress(value=0.0, description='Training', layout=Layout(flex='2'), max=1250.0, style=Pro…"
      ]
     },
     "metadata": {},
     "output_type": "display_data"
    },
    {
     "name": "stdout",
     "output_type": "stream",
     "text": [
      "Epoch 1932: train=8.77429, val=8.62281, took 71.775 s\n",
      "  Validation Found 101665 of 108007, added 5333 (eff 94.13%) (0.267 FP/event)\n",
      "Result epoch:  1932\n",
      "Average Eff:  0\n",
      "Average FP Rate:  0\n"
     ]
    },
    {
     "data": {
      "application/vnd.jupyter.widget-view+json": {
       "model_id": "",
       "version_major": 2,
       "version_minor": 0
      },
      "text/plain": [
       "HBox(children=(FloatProgress(value=0.0, description='Training', layout=Layout(flex='2'), max=1250.0, style=Pro…"
      ]
     },
     "metadata": {},
     "output_type": "display_data"
    },
    {
     "name": "stdout",
     "output_type": "stream",
     "text": [
      "Epoch 1933: train=8.77521, val=8.62255, took 71.697 s\n",
      "  Validation Found 101732 of 108007, added 5444 (eff 94.19%) (0.272 FP/event)\n",
      "Result epoch:  1933\n",
      "Average Eff:  0\n",
      "Average FP Rate:  0\n"
     ]
    },
    {
     "data": {
      "application/vnd.jupyter.widget-view+json": {
       "model_id": "",
       "version_major": 2,
       "version_minor": 0
      },
      "text/plain": [
       "HBox(children=(FloatProgress(value=0.0, description='Training', layout=Layout(flex='2'), max=1250.0, style=Pro…"
      ]
     },
     "metadata": {},
     "output_type": "display_data"
    },
    {
     "name": "stdout",
     "output_type": "stream",
     "text": [
      "Epoch 1934: train=8.78377, val=8.63322, took 71.921 s\n",
      "  Validation Found 101728 of 108007, added 5461 (eff 94.19%) (0.273 FP/event)\n",
      "Result epoch:  1934\n",
      "Average Eff:  0\n",
      "Average FP Rate:  0\n"
     ]
    },
    {
     "data": {
      "application/vnd.jupyter.widget-view+json": {
       "model_id": "",
       "version_major": 2,
       "version_minor": 0
      },
      "text/plain": [
       "HBox(children=(FloatProgress(value=0.0, description='Training', layout=Layout(flex='2'), max=1250.0, style=Pro…"
      ]
     },
     "metadata": {},
     "output_type": "display_data"
    },
    {
     "name": "stdout",
     "output_type": "stream",
     "text": [
      "Epoch 1935: train=8.77807, val=8.62593, took 72.192 s\n",
      "  Validation Found 101795 of 108007, added 5626 (eff 94.25%) (0.281 FP/event)\n",
      "Result epoch:  1935\n",
      "Average Eff:  0\n",
      "Average FP Rate:  0\n"
     ]
    },
    {
     "data": {
      "application/vnd.jupyter.widget-view+json": {
       "model_id": "",
       "version_major": 2,
       "version_minor": 0
      },
      "text/plain": [
       "HBox(children=(FloatProgress(value=0.0, description='Training', layout=Layout(flex='2'), max=1250.0, style=Pro…"
      ]
     },
     "metadata": {},
     "output_type": "display_data"
    },
    {
     "name": "stdout",
     "output_type": "stream",
     "text": [
      "Epoch 1936: train=8.7754, val=8.62656, took 72.751 s\n",
      "  Validation Found 101671 of 108007, added 5332 (eff 94.13%) (0.267 FP/event)\n",
      "Result epoch:  1936\n",
      "Average Eff:  0\n",
      "Average FP Rate:  0\n"
     ]
    },
    {
     "data": {
      "application/vnd.jupyter.widget-view+json": {
       "model_id": "",
       "version_major": 2,
       "version_minor": 0
      },
      "text/plain": [
       "HBox(children=(FloatProgress(value=0.0, description='Training', layout=Layout(flex='2'), max=1250.0, style=Pro…"
      ]
     },
     "metadata": {},
     "output_type": "display_data"
    },
    {
     "name": "stdout",
     "output_type": "stream",
     "text": [
      "Epoch 1937: train=8.7786, val=8.62942, took 72.394 s\n",
      "  Validation Found 101721 of 108007, added 5413 (eff 94.18%) (0.271 FP/event)\n",
      "Result epoch:  1937\n",
      "Average Eff:  0\n",
      "Average FP Rate:  0\n"
     ]
    },
    {
     "data": {
      "application/vnd.jupyter.widget-view+json": {
       "model_id": "",
       "version_major": 2,
       "version_minor": 0
      },
      "text/plain": [
       "HBox(children=(FloatProgress(value=0.0, description='Training', layout=Layout(flex='2'), max=1250.0, style=Pro…"
      ]
     },
     "metadata": {},
     "output_type": "display_data"
    },
    {
     "name": "stdout",
     "output_type": "stream",
     "text": [
      "Epoch 1938: train=8.77597, val=8.63866, took 71.352 s\n",
      "  Validation Found 101675 of 108007, added 5377 (eff 94.14%) (0.269 FP/event)\n",
      "Result epoch:  1938\n",
      "Average Eff:  0\n",
      "Average FP Rate:  0\n"
     ]
    },
    {
     "data": {
      "application/vnd.jupyter.widget-view+json": {
       "model_id": "",
       "version_major": 2,
       "version_minor": 0
      },
      "text/plain": [
       "HBox(children=(FloatProgress(value=0.0, description='Training', layout=Layout(flex='2'), max=1250.0, style=Pro…"
      ]
     },
     "metadata": {},
     "output_type": "display_data"
    },
    {
     "name": "stdout",
     "output_type": "stream",
     "text": [
      "Epoch 1939: train=8.77916, val=8.62578, took 72.521 s\n",
      "  Validation Found 101730 of 108007, added 5457 (eff 94.19%) (0.273 FP/event)\n",
      "Result epoch:  1939\n",
      "Average Eff:  0\n",
      "Average FP Rate:  0\n"
     ]
    },
    {
     "data": {
      "application/vnd.jupyter.widget-view+json": {
       "model_id": "",
       "version_major": 2,
       "version_minor": 0
      },
      "text/plain": [
       "HBox(children=(FloatProgress(value=0.0, description='Training', layout=Layout(flex='2'), max=1250.0, style=Pro…"
      ]
     },
     "metadata": {},
     "output_type": "display_data"
    },
    {
     "name": "stdout",
     "output_type": "stream",
     "text": [
      "Epoch 1940: train=8.77898, val=8.62935, took 70.888 s\n",
      "  Validation Found 101742 of 108007, added 5490 (eff 94.20%) (0.274 FP/event)\n",
      "Result epoch:  1940\n",
      "Average Eff:  0\n",
      "Average FP Rate:  0\n"
     ]
    },
    {
     "data": {
      "application/vnd.jupyter.widget-view+json": {
       "model_id": "",
       "version_major": 2,
       "version_minor": 0
      },
      "text/plain": [
       "HBox(children=(FloatProgress(value=0.0, description='Training', layout=Layout(flex='2'), max=1250.0, style=Pro…"
      ]
     },
     "metadata": {},
     "output_type": "display_data"
    },
    {
     "name": "stdout",
     "output_type": "stream",
     "text": [
      "Epoch 1941: train=8.78011, val=8.62314, took 72.213 s\n",
      "  Validation Found 101763 of 108007, added 5549 (eff 94.22%) (0.277 FP/event)\n",
      "Result epoch:  1941\n",
      "Average Eff:  0\n",
      "Average FP Rate:  0\n"
     ]
    },
    {
     "data": {
      "application/vnd.jupyter.widget-view+json": {
       "model_id": "",
       "version_major": 2,
       "version_minor": 0
      },
      "text/plain": [
       "HBox(children=(FloatProgress(value=0.0, description='Training', layout=Layout(flex='2'), max=1250.0, style=Pro…"
      ]
     },
     "metadata": {},
     "output_type": "display_data"
    },
    {
     "name": "stdout",
     "output_type": "stream",
     "text": [
      "Epoch 1942: train=8.77943, val=8.63365, took 73.014 s\n",
      "  Validation Found 101744 of 108007, added 5501 (eff 94.20%) (0.275 FP/event)\n",
      "Result epoch:  1942\n",
      "Average Eff:  0\n",
      "Average FP Rate:  0\n"
     ]
    },
    {
     "data": {
      "application/vnd.jupyter.widget-view+json": {
       "model_id": "",
       "version_major": 2,
       "version_minor": 0
      },
      "text/plain": [
       "HBox(children=(FloatProgress(value=0.0, description='Training', layout=Layout(flex='2'), max=1250.0, style=Pro…"
      ]
     },
     "metadata": {},
     "output_type": "display_data"
    },
    {
     "name": "stdout",
     "output_type": "stream",
     "text": [
      "Epoch 1943: train=8.77811, val=8.62752, took 72.564 s\n",
      "  Validation Found 101789 of 108007, added 5621 (eff 94.24%) (0.281 FP/event)\n",
      "Result epoch:  1943\n",
      "Average Eff:  0\n",
      "Average FP Rate:  0\n"
     ]
    },
    {
     "data": {
      "application/vnd.jupyter.widget-view+json": {
       "model_id": "",
       "version_major": 2,
       "version_minor": 0
      },
      "text/plain": [
       "HBox(children=(FloatProgress(value=0.0, description='Training', layout=Layout(flex='2'), max=1250.0, style=Pro…"
      ]
     },
     "metadata": {},
     "output_type": "display_data"
    },
    {
     "name": "stdout",
     "output_type": "stream",
     "text": [
      "Epoch 1944: train=8.77858, val=8.6231, took 71.367 s\n",
      "  Validation Found 101696 of 108007, added 5374 (eff 94.16%) (0.269 FP/event)\n",
      "Result epoch:  1944\n",
      "Average Eff:  0\n",
      "Average FP Rate:  0\n"
     ]
    },
    {
     "data": {
      "application/vnd.jupyter.widget-view+json": {
       "model_id": "",
       "version_major": 2,
       "version_minor": 0
      },
      "text/plain": [
       "HBox(children=(FloatProgress(value=0.0, description='Training', layout=Layout(flex='2'), max=1250.0, style=Pro…"
      ]
     },
     "metadata": {},
     "output_type": "display_data"
    },
    {
     "name": "stdout",
     "output_type": "stream",
     "text": [
      "Epoch 1945: train=8.77685, val=8.63029, took 71.962 s\n",
      "  Validation Found 101636 of 108007, added 5318 (eff 94.10%) (0.266 FP/event)\n",
      "Result epoch:  1945\n",
      "Average Eff:  0\n",
      "Average FP Rate:  0\n"
     ]
    },
    {
     "data": {
      "application/vnd.jupyter.widget-view+json": {
       "model_id": "",
       "version_major": 2,
       "version_minor": 0
      },
      "text/plain": [
       "HBox(children=(FloatProgress(value=0.0, description='Training', layout=Layout(flex='2'), max=1250.0, style=Pro…"
      ]
     },
     "metadata": {},
     "output_type": "display_data"
    },
    {
     "name": "stdout",
     "output_type": "stream",
     "text": [
      "Epoch 1946: train=8.7808, val=8.63261, took 71.836 s\n",
      "  Validation Found 101715 of 108007, added 5426 (eff 94.17%) (0.271 FP/event)\n",
      "Result epoch:  1946\n",
      "Average Eff:  0\n",
      "Average FP Rate:  0\n"
     ]
    },
    {
     "data": {
      "application/vnd.jupyter.widget-view+json": {
       "model_id": "",
       "version_major": 2,
       "version_minor": 0
      },
      "text/plain": [
       "HBox(children=(FloatProgress(value=0.0, description='Training', layout=Layout(flex='2'), max=1250.0, style=Pro…"
      ]
     },
     "metadata": {},
     "output_type": "display_data"
    },
    {
     "name": "stdout",
     "output_type": "stream",
     "text": [
      "Epoch 1947: train=8.78159, val=8.63021, took 72.854 s\n",
      "  Validation Found 101759 of 108007, added 5559 (eff 94.22%) (0.278 FP/event)\n",
      "Result epoch:  1947\n",
      "Average Eff:  0\n",
      "Average FP Rate:  0\n"
     ]
    },
    {
     "data": {
      "application/vnd.jupyter.widget-view+json": {
       "model_id": "",
       "version_major": 2,
       "version_minor": 0
      },
      "text/plain": [
       "HBox(children=(FloatProgress(value=0.0, description='Training', layout=Layout(flex='2'), max=1250.0, style=Pro…"
      ]
     },
     "metadata": {},
     "output_type": "display_data"
    },
    {
     "name": "stdout",
     "output_type": "stream",
     "text": [
      "Epoch 1948: train=8.77704, val=8.6243, took 72.95 s\n",
      "  Validation Found 101677 of 108007, added 5346 (eff 94.14%) (0.267 FP/event)\n",
      "Result epoch:  1948\n",
      "Average Eff:  0\n",
      "Average FP Rate:  0\n"
     ]
    },
    {
     "data": {
      "application/vnd.jupyter.widget-view+json": {
       "model_id": "",
       "version_major": 2,
       "version_minor": 0
      },
      "text/plain": [
       "HBox(children=(FloatProgress(value=0.0, description='Training', layout=Layout(flex='2'), max=1250.0, style=Pro…"
      ]
     },
     "metadata": {},
     "output_type": "display_data"
    },
    {
     "name": "stdout",
     "output_type": "stream",
     "text": [
      "Epoch 1949: train=8.77814, val=8.62803, took 72.088 s\n",
      "  Validation Found 101728 of 108007, added 5449 (eff 94.19%) (0.272 FP/event)\n",
      "Result epoch:  1949\n",
      "Average Eff:  0\n",
      "Average FP Rate:  0\n"
     ]
    },
    {
     "data": {
      "application/vnd.jupyter.widget-view+json": {
       "model_id": "",
       "version_major": 2,
       "version_minor": 0
      },
      "text/plain": [
       "HBox(children=(FloatProgress(value=0.0, description='Training', layout=Layout(flex='2'), max=1250.0, style=Pro…"
      ]
     },
     "metadata": {},
     "output_type": "display_data"
    },
    {
     "name": "stdout",
     "output_type": "stream",
     "text": [
      "Epoch 1950: train=8.7755, val=8.62753, took 72.12 s\n",
      "  Validation Found 101730 of 108007, added 5426 (eff 94.19%) (0.271 FP/event)\n",
      "Result epoch:  1950\n",
      "Average Eff:  0\n",
      "Average FP Rate:  0\n"
     ]
    },
    {
     "data": {
      "application/vnd.jupyter.widget-view+json": {
       "model_id": "",
       "version_major": 2,
       "version_minor": 0
      },
      "text/plain": [
       "HBox(children=(FloatProgress(value=0.0, description='Training', layout=Layout(flex='2'), max=1250.0, style=Pro…"
      ]
     },
     "metadata": {},
     "output_type": "display_data"
    },
    {
     "name": "stdout",
     "output_type": "stream",
     "text": [
      "Epoch 1951: train=8.77902, val=8.62064, took 73.047 s\n",
      "  Validation Found 101734 of 108007, added 5423 (eff 94.19%) (0.271 FP/event)\n",
      "Result epoch:  1951\n",
      "Average Eff:  0\n",
      "Average FP Rate:  0\n"
     ]
    },
    {
     "data": {
      "application/vnd.jupyter.widget-view+json": {
       "model_id": "",
       "version_major": 2,
       "version_minor": 0
      },
      "text/plain": [
       "HBox(children=(FloatProgress(value=0.0, description='Training', layout=Layout(flex='2'), max=1250.0, style=Pro…"
      ]
     },
     "metadata": {},
     "output_type": "display_data"
    },
    {
     "name": "stdout",
     "output_type": "stream",
     "text": [
      "Epoch 1952: train=8.78042, val=8.63538, took 72.66 s\n",
      "  Validation Found 101655 of 108007, added 5349 (eff 94.12%) (0.267 FP/event)\n",
      "Result epoch:  1952\n",
      "Average Eff:  0\n",
      "Average FP Rate:  0\n"
     ]
    },
    {
     "data": {
      "application/vnd.jupyter.widget-view+json": {
       "model_id": "",
       "version_major": 2,
       "version_minor": 0
      },
      "text/plain": [
       "HBox(children=(FloatProgress(value=0.0, description='Training', layout=Layout(flex='2'), max=1250.0, style=Pro…"
      ]
     },
     "metadata": {},
     "output_type": "display_data"
    },
    {
     "name": "stdout",
     "output_type": "stream",
     "text": [
      "Epoch 1953: train=8.7804, val=8.63353, took 72.912 s\n",
      "  Validation Found 101760 of 108007, added 5527 (eff 94.22%) (0.276 FP/event)\n",
      "Result epoch:  1953\n",
      "Average Eff:  0\n",
      "Average FP Rate:  0\n"
     ]
    },
    {
     "data": {
      "application/vnd.jupyter.widget-view+json": {
       "model_id": "",
       "version_major": 2,
       "version_minor": 0
      },
      "text/plain": [
       "HBox(children=(FloatProgress(value=0.0, description='Training', layout=Layout(flex='2'), max=1250.0, style=Pro…"
      ]
     },
     "metadata": {},
     "output_type": "display_data"
    },
    {
     "name": "stdout",
     "output_type": "stream",
     "text": [
      "Epoch 1954: train=8.77956, val=8.6365, took 72.328 s\n",
      "  Validation Found 101735 of 108007, added 5439 (eff 94.19%) (0.272 FP/event)\n",
      "Result epoch:  1954\n",
      "Average Eff:  0\n",
      "Average FP Rate:  0\n"
     ]
    },
    {
     "data": {
      "application/vnd.jupyter.widget-view+json": {
       "model_id": "",
       "version_major": 2,
       "version_minor": 0
      },
      "text/plain": [
       "HBox(children=(FloatProgress(value=0.0, description='Training', layout=Layout(flex='2'), max=1250.0, style=Pro…"
      ]
     },
     "metadata": {},
     "output_type": "display_data"
    },
    {
     "name": "stdout",
     "output_type": "stream",
     "text": [
      "Epoch 1955: train=8.78464, val=8.62651, took 72.651 s\n",
      "  Validation Found 101769 of 108007, added 5553 (eff 94.22%) (0.278 FP/event)\n",
      "Result epoch:  1955\n",
      "Average Eff:  0\n",
      "Average FP Rate:  0\n"
     ]
    },
    {
     "data": {
      "application/vnd.jupyter.widget-view+json": {
       "model_id": "",
       "version_major": 2,
       "version_minor": 0
      },
      "text/plain": [
       "HBox(children=(FloatProgress(value=0.0, description='Training', layout=Layout(flex='2'), max=1250.0, style=Pro…"
      ]
     },
     "metadata": {},
     "output_type": "display_data"
    },
    {
     "name": "stdout",
     "output_type": "stream",
     "text": [
      "Epoch 1956: train=8.77641, val=8.63077, took 72.609 s\n",
      "  Validation Found 101675 of 108007, added 5342 (eff 94.14%) (0.267 FP/event)\n",
      "Result epoch:  1956\n",
      "Average Eff:  0\n",
      "Average FP Rate:  0\n"
     ]
    },
    {
     "data": {
      "application/vnd.jupyter.widget-view+json": {
       "model_id": "",
       "version_major": 2,
       "version_minor": 0
      },
      "text/plain": [
       "HBox(children=(FloatProgress(value=0.0, description='Training', layout=Layout(flex='2'), max=1250.0, style=Pro…"
      ]
     },
     "metadata": {},
     "output_type": "display_data"
    },
    {
     "name": "stdout",
     "output_type": "stream",
     "text": [
      "Epoch 1957: train=8.7805, val=8.63325, took 72.868 s\n",
      "  Validation Found 101768 of 108007, added 5585 (eff 94.22%) (0.279 FP/event)\n",
      "Result epoch:  1957\n",
      "Average Eff:  0\n",
      "Average FP Rate:  0\n"
     ]
    },
    {
     "data": {
      "application/vnd.jupyter.widget-view+json": {
       "model_id": "",
       "version_major": 2,
       "version_minor": 0
      },
      "text/plain": [
       "HBox(children=(FloatProgress(value=0.0, description='Training', layout=Layout(flex='2'), max=1250.0, style=Pro…"
      ]
     },
     "metadata": {},
     "output_type": "display_data"
    },
    {
     "name": "stdout",
     "output_type": "stream",
     "text": [
      "Epoch 1958: train=8.78226, val=8.6301, took 73.926 s\n",
      "  Validation Found 101712 of 108007, added 5416 (eff 94.17%) (0.271 FP/event)\n",
      "Result epoch:  1958\n",
      "Average Eff:  0\n",
      "Average FP Rate:  0\n"
     ]
    },
    {
     "data": {
      "application/vnd.jupyter.widget-view+json": {
       "model_id": "",
       "version_major": 2,
       "version_minor": 0
      },
      "text/plain": [
       "HBox(children=(FloatProgress(value=0.0, description='Training', layout=Layout(flex='2'), max=1250.0, style=Pro…"
      ]
     },
     "metadata": {},
     "output_type": "display_data"
    },
    {
     "name": "stdout",
     "output_type": "stream",
     "text": [
      "Epoch 1959: train=8.77693, val=8.63877, took 72.146 s\n",
      "  Validation Found 101659 of 108007, added 5353 (eff 94.12%) (0.268 FP/event)\n",
      "Result epoch:  1959\n",
      "Average Eff:  0\n",
      "Average FP Rate:  0\n"
     ]
    },
    {
     "data": {
      "application/vnd.jupyter.widget-view+json": {
       "model_id": "",
       "version_major": 2,
       "version_minor": 0
      },
      "text/plain": [
       "HBox(children=(FloatProgress(value=0.0, description='Training', layout=Layout(flex='2'), max=1250.0, style=Pro…"
      ]
     },
     "metadata": {},
     "output_type": "display_data"
    },
    {
     "name": "stdout",
     "output_type": "stream",
     "text": [
      "Epoch 1960: train=8.77631, val=8.62312, took 70.681 s\n",
      "  Validation Found 101781 of 108007, added 5586 (eff 94.24%) (0.279 FP/event)\n",
      "Result epoch:  1960\n",
      "Average Eff:  0\n",
      "Average FP Rate:  0\n"
     ]
    },
    {
     "data": {
      "application/vnd.jupyter.widget-view+json": {
       "model_id": "",
       "version_major": 2,
       "version_minor": 0
      },
      "text/plain": [
       "HBox(children=(FloatProgress(value=0.0, description='Training', layout=Layout(flex='2'), max=1250.0, style=Pro…"
      ]
     },
     "metadata": {},
     "output_type": "display_data"
    },
    {
     "name": "stdout",
     "output_type": "stream",
     "text": [
      "Epoch 1961: train=8.77385, val=8.62455, took 73.277 s\n",
      "  Validation Found 101650 of 108007, added 5328 (eff 94.11%) (0.266 FP/event)\n",
      "Result epoch:  1961\n",
      "Average Eff:  0\n",
      "Average FP Rate:  0\n"
     ]
    },
    {
     "data": {
      "application/vnd.jupyter.widget-view+json": {
       "model_id": "",
       "version_major": 2,
       "version_minor": 0
      },
      "text/plain": [
       "HBox(children=(FloatProgress(value=0.0, description='Training', layout=Layout(flex='2'), max=1250.0, style=Pro…"
      ]
     },
     "metadata": {},
     "output_type": "display_data"
    },
    {
     "name": "stdout",
     "output_type": "stream",
     "text": [
      "Epoch 1962: train=8.77665, val=8.63636, took 72.013 s\n",
      "  Validation Found 101784 of 108007, added 5605 (eff 94.24%) (0.28 FP/event)\n",
      "Result epoch:  1962\n",
      "Average Eff:  0\n",
      "Average FP Rate:  0\n"
     ]
    },
    {
     "data": {
      "application/vnd.jupyter.widget-view+json": {
       "model_id": "",
       "version_major": 2,
       "version_minor": 0
      },
      "text/plain": [
       "HBox(children=(FloatProgress(value=0.0, description='Training', layout=Layout(flex='2'), max=1250.0, style=Pro…"
      ]
     },
     "metadata": {},
     "output_type": "display_data"
    },
    {
     "name": "stdout",
     "output_type": "stream",
     "text": [
      "Epoch 1963: train=8.7796, val=8.63981, took 73.066 s\n",
      "  Validation Found 101653 of 108007, added 5351 (eff 94.12%) (0.268 FP/event)\n",
      "Result epoch:  1963\n",
      "Average Eff:  0\n",
      "Average FP Rate:  0\n"
     ]
    },
    {
     "data": {
      "application/vnd.jupyter.widget-view+json": {
       "model_id": "",
       "version_major": 2,
       "version_minor": 0
      },
      "text/plain": [
       "HBox(children=(FloatProgress(value=0.0, description='Training', layout=Layout(flex='2'), max=1250.0, style=Pro…"
      ]
     },
     "metadata": {},
     "output_type": "display_data"
    },
    {
     "name": "stdout",
     "output_type": "stream",
     "text": [
      "Epoch 1964: train=8.77965, val=8.62896, took 71.886 s\n",
      "  Validation Found 101748 of 108007, added 5485 (eff 94.21%) (0.274 FP/event)\n",
      "Result epoch:  1964\n",
      "Average Eff:  0\n",
      "Average FP Rate:  0\n"
     ]
    },
    {
     "data": {
      "application/vnd.jupyter.widget-view+json": {
       "model_id": "",
       "version_major": 2,
       "version_minor": 0
      },
      "text/plain": [
       "HBox(children=(FloatProgress(value=0.0, description='Training', layout=Layout(flex='2'), max=1250.0, style=Pro…"
      ]
     },
     "metadata": {},
     "output_type": "display_data"
    },
    {
     "name": "stdout",
     "output_type": "stream",
     "text": [
      "Epoch 1965: train=8.77677, val=8.6332, took 72.709 s\n",
      "  Validation Found 101723 of 108007, added 5441 (eff 94.18%) (0.272 FP/event)\n",
      "Result epoch:  1965\n",
      "Average Eff:  0\n",
      "Average FP Rate:  0\n"
     ]
    },
    {
     "data": {
      "application/vnd.jupyter.widget-view+json": {
       "model_id": "",
       "version_major": 2,
       "version_minor": 0
      },
      "text/plain": [
       "HBox(children=(FloatProgress(value=0.0, description='Training', layout=Layout(flex='2'), max=1250.0, style=Pro…"
      ]
     },
     "metadata": {},
     "output_type": "display_data"
    },
    {
     "name": "stdout",
     "output_type": "stream",
     "text": [
      "Epoch 1966: train=8.77605, val=8.62537, took 71.314 s\n",
      "  Validation Found 101726 of 108007, added 5404 (eff 94.18%) (0.27 FP/event)\n",
      "Result epoch:  1966\n",
      "Average Eff:  0\n",
      "Average FP Rate:  0\n"
     ]
    },
    {
     "data": {
      "application/vnd.jupyter.widget-view+json": {
       "model_id": "",
       "version_major": 2,
       "version_minor": 0
      },
      "text/plain": [
       "HBox(children=(FloatProgress(value=0.0, description='Training', layout=Layout(flex='2'), max=1250.0, style=Pro…"
      ]
     },
     "metadata": {},
     "output_type": "display_data"
    },
    {
     "name": "stdout",
     "output_type": "stream",
     "text": [
      "Epoch 1967: train=8.77682, val=8.62835, took 73.326 s\n",
      "  Validation Found 101717 of 108007, added 5404 (eff 94.18%) (0.27 FP/event)\n",
      "Result epoch:  1967\n",
      "Average Eff:  0\n",
      "Average FP Rate:  0\n"
     ]
    },
    {
     "data": {
      "application/vnd.jupyter.widget-view+json": {
       "model_id": "",
       "version_major": 2,
       "version_minor": 0
      },
      "text/plain": [
       "HBox(children=(FloatProgress(value=0.0, description='Training', layout=Layout(flex='2'), max=1250.0, style=Pro…"
      ]
     },
     "metadata": {},
     "output_type": "display_data"
    },
    {
     "name": "stdout",
     "output_type": "stream",
     "text": [
      "Epoch 1968: train=8.77766, val=8.6258, took 72.746 s\n",
      "  Validation Found 101734 of 108007, added 5471 (eff 94.19%) (0.274 FP/event)\n",
      "Result epoch:  1968\n",
      "Average Eff:  0\n",
      "Average FP Rate:  0\n"
     ]
    },
    {
     "data": {
      "application/vnd.jupyter.widget-view+json": {
       "model_id": "",
       "version_major": 2,
       "version_minor": 0
      },
      "text/plain": [
       "HBox(children=(FloatProgress(value=0.0, description='Training', layout=Layout(flex='2'), max=1250.0, style=Pro…"
      ]
     },
     "metadata": {},
     "output_type": "display_data"
    },
    {
     "name": "stdout",
     "output_type": "stream",
     "text": [
      "Epoch 1969: train=8.7722, val=8.63312, took 72.764 s\n",
      "  Validation Found 101676 of 108007, added 5371 (eff 94.14%) (0.269 FP/event)\n",
      "Result epoch:  1969\n",
      "Average Eff:  0\n",
      "Average FP Rate:  0\n"
     ]
    },
    {
     "data": {
      "application/vnd.jupyter.widget-view+json": {
       "model_id": "",
       "version_major": 2,
       "version_minor": 0
      },
      "text/plain": [
       "HBox(children=(FloatProgress(value=0.0, description='Training', layout=Layout(flex='2'), max=1250.0, style=Pro…"
      ]
     },
     "metadata": {},
     "output_type": "display_data"
    },
    {
     "name": "stdout",
     "output_type": "stream",
     "text": [
      "Epoch 1970: train=8.77973, val=8.63002, took 72.693 s\n",
      "  Validation Found 101625 of 108007, added 5311 (eff 94.09%) (0.266 FP/event)\n",
      "Result epoch:  1970\n",
      "Average Eff:  0\n",
      "Average FP Rate:  0\n"
     ]
    },
    {
     "data": {
      "application/vnd.jupyter.widget-view+json": {
       "model_id": "",
       "version_major": 2,
       "version_minor": 0
      },
      "text/plain": [
       "HBox(children=(FloatProgress(value=0.0, description='Training', layout=Layout(flex='2'), max=1250.0, style=Pro…"
      ]
     },
     "metadata": {},
     "output_type": "display_data"
    },
    {
     "name": "stdout",
     "output_type": "stream",
     "text": [
      "Epoch 1971: train=8.77944, val=8.62928, took 72.065 s\n",
      "  Validation Found 101773 of 108007, added 5617 (eff 94.23%) (0.281 FP/event)\n",
      "Result epoch:  1971\n",
      "Average Eff:  0\n",
      "Average FP Rate:  0\n"
     ]
    },
    {
     "data": {
      "application/vnd.jupyter.widget-view+json": {
       "model_id": "",
       "version_major": 2,
       "version_minor": 0
      },
      "text/plain": [
       "HBox(children=(FloatProgress(value=0.0, description='Training', layout=Layout(flex='2'), max=1250.0, style=Pro…"
      ]
     },
     "metadata": {},
     "output_type": "display_data"
    },
    {
     "name": "stdout",
     "output_type": "stream",
     "text": [
      "Epoch 1972: train=8.77454, val=8.63678, took 72.375 s\n",
      "  Validation Found 101635 of 108007, added 5327 (eff 94.10%) (0.266 FP/event)\n",
      "Result epoch:  1972\n",
      "Average Eff:  0\n",
      "Average FP Rate:  0\n"
     ]
    },
    {
     "data": {
      "application/vnd.jupyter.widget-view+json": {
       "model_id": "",
       "version_major": 2,
       "version_minor": 0
      },
      "text/plain": [
       "HBox(children=(FloatProgress(value=0.0, description='Training', layout=Layout(flex='2'), max=1250.0, style=Pro…"
      ]
     },
     "metadata": {},
     "output_type": "display_data"
    },
    {
     "name": "stdout",
     "output_type": "stream",
     "text": [
      "Epoch 1973: train=8.776, val=8.62972, took 72.763 s\n",
      "  Validation Found 101668 of 108007, added 5340 (eff 94.13%) (0.267 FP/event)\n",
      "Result epoch:  1973\n",
      "Average Eff:  0\n",
      "Average FP Rate:  0\n"
     ]
    },
    {
     "data": {
      "application/vnd.jupyter.widget-view+json": {
       "model_id": "",
       "version_major": 2,
       "version_minor": 0
      },
      "text/plain": [
       "HBox(children=(FloatProgress(value=0.0, description='Training', layout=Layout(flex='2'), max=1250.0, style=Pro…"
      ]
     },
     "metadata": {},
     "output_type": "display_data"
    },
    {
     "name": "stdout",
     "output_type": "stream",
     "text": [
      "Epoch 1974: train=8.77575, val=8.63272, took 71.363 s\n",
      "  Validation Found 101708 of 108007, added 5403 (eff 94.17%) (0.27 FP/event)\n",
      "Result epoch:  1974\n",
      "Average Eff:  0\n",
      "Average FP Rate:  0\n"
     ]
    },
    {
     "data": {
      "application/vnd.jupyter.widget-view+json": {
       "model_id": "",
       "version_major": 2,
       "version_minor": 0
      },
      "text/plain": [
       "HBox(children=(FloatProgress(value=0.0, description='Training', layout=Layout(flex='2'), max=1250.0, style=Pro…"
      ]
     },
     "metadata": {},
     "output_type": "display_data"
    },
    {
     "name": "stdout",
     "output_type": "stream",
     "text": [
      "Epoch 1975: train=8.7746, val=8.63659, took 73.007 s\n",
      "  Validation Found 101780 of 108007, added 5565 (eff 94.23%) (0.278 FP/event)\n",
      "Result epoch:  1975\n",
      "Average Eff:  0\n",
      "Average FP Rate:  0\n"
     ]
    },
    {
     "data": {
      "application/vnd.jupyter.widget-view+json": {
       "model_id": "",
       "version_major": 2,
       "version_minor": 0
      },
      "text/plain": [
       "HBox(children=(FloatProgress(value=0.0, description='Training', layout=Layout(flex='2'), max=1250.0, style=Pro…"
      ]
     },
     "metadata": {},
     "output_type": "display_data"
    },
    {
     "name": "stdout",
     "output_type": "stream",
     "text": [
      "Epoch 1976: train=8.77801, val=8.6346, took 72.2 s\n",
      "  Validation Found 101710 of 108007, added 5423 (eff 94.17%) (0.271 FP/event)\n",
      "Result epoch:  1976\n",
      "Average Eff:  0\n",
      "Average FP Rate:  0\n"
     ]
    },
    {
     "data": {
      "application/vnd.jupyter.widget-view+json": {
       "model_id": "",
       "version_major": 2,
       "version_minor": 0
      },
      "text/plain": [
       "HBox(children=(FloatProgress(value=0.0, description='Training', layout=Layout(flex='2'), max=1250.0, style=Pro…"
      ]
     },
     "metadata": {},
     "output_type": "display_data"
    },
    {
     "name": "stdout",
     "output_type": "stream",
     "text": [
      "Epoch 1977: train=8.77944, val=8.63095, took 73.432 s\n",
      "  Validation Found 101786 of 108007, added 5599 (eff 94.24%) (0.28 FP/event)\n",
      "Result epoch:  1977\n",
      "Average Eff:  0\n",
      "Average FP Rate:  0\n"
     ]
    },
    {
     "data": {
      "application/vnd.jupyter.widget-view+json": {
       "model_id": "",
       "version_major": 2,
       "version_minor": 0
      },
      "text/plain": [
       "HBox(children=(FloatProgress(value=0.0, description='Training', layout=Layout(flex='2'), max=1250.0, style=Pro…"
      ]
     },
     "metadata": {},
     "output_type": "display_data"
    },
    {
     "name": "stdout",
     "output_type": "stream",
     "text": [
      "Epoch 1978: train=8.77549, val=8.62922, took 72.272 s\n",
      "  Validation Found 101743 of 108007, added 5463 (eff 94.20%) (0.273 FP/event)\n",
      "Result epoch:  1978\n",
      "Average Eff:  0\n",
      "Average FP Rate:  0\n"
     ]
    },
    {
     "data": {
      "application/vnd.jupyter.widget-view+json": {
       "model_id": "",
       "version_major": 2,
       "version_minor": 0
      },
      "text/plain": [
       "HBox(children=(FloatProgress(value=0.0, description='Training', layout=Layout(flex='2'), max=1250.0, style=Pro…"
      ]
     },
     "metadata": {},
     "output_type": "display_data"
    },
    {
     "name": "stdout",
     "output_type": "stream",
     "text": [
      "Epoch 1979: train=8.77369, val=8.63175, took 72.533 s\n",
      "  Validation Found 101753 of 108007, added 5538 (eff 94.21%) (0.277 FP/event)\n",
      "Result epoch:  1979\n",
      "Average Eff:  0\n",
      "Average FP Rate:  0\n"
     ]
    },
    {
     "data": {
      "application/vnd.jupyter.widget-view+json": {
       "model_id": "",
       "version_major": 2,
       "version_minor": 0
      },
      "text/plain": [
       "HBox(children=(FloatProgress(value=0.0, description='Training', layout=Layout(flex='2'), max=1250.0, style=Pro…"
      ]
     },
     "metadata": {},
     "output_type": "display_data"
    },
    {
     "name": "stdout",
     "output_type": "stream",
     "text": [
      "Epoch 1980: train=8.77425, val=8.62733, took 71.887 s\n",
      "  Validation Found 101787 of 108007, added 5606 (eff 94.24%) (0.28 FP/event)\n",
      "Result epoch:  1980\n",
      "Average Eff:  0\n",
      "Average FP Rate:  0\n"
     ]
    },
    {
     "data": {
      "application/vnd.jupyter.widget-view+json": {
       "model_id": "",
       "version_major": 2,
       "version_minor": 0
      },
      "text/plain": [
       "HBox(children=(FloatProgress(value=0.0, description='Training', layout=Layout(flex='2'), max=1250.0, style=Pro…"
      ]
     },
     "metadata": {},
     "output_type": "display_data"
    },
    {
     "name": "stdout",
     "output_type": "stream",
     "text": [
      "Epoch 1981: train=8.77185, val=8.63511, took 72.918 s\n",
      "  Validation Found 101730 of 108007, added 5466 (eff 94.19%) (0.273 FP/event)\n",
      "Result epoch:  1981\n",
      "Average Eff:  0\n",
      "Average FP Rate:  0\n"
     ]
    },
    {
     "data": {
      "application/vnd.jupyter.widget-view+json": {
       "model_id": "",
       "version_major": 2,
       "version_minor": 0
      },
      "text/plain": [
       "HBox(children=(FloatProgress(value=0.0, description='Training', layout=Layout(flex='2'), max=1250.0, style=Pro…"
      ]
     },
     "metadata": {},
     "output_type": "display_data"
    },
    {
     "name": "stdout",
     "output_type": "stream",
     "text": [
      "Epoch 1982: train=8.78152, val=8.63303, took 71.843 s\n",
      "  Validation Found 101722 of 108007, added 5453 (eff 94.18%) (0.273 FP/event)\n",
      "Result epoch:  1982\n",
      "Average Eff:  0\n",
      "Average FP Rate:  0\n"
     ]
    },
    {
     "data": {
      "application/vnd.jupyter.widget-view+json": {
       "model_id": "",
       "version_major": 2,
       "version_minor": 0
      },
      "text/plain": [
       "HBox(children=(FloatProgress(value=0.0, description='Training', layout=Layout(flex='2'), max=1250.0, style=Pro…"
      ]
     },
     "metadata": {},
     "output_type": "display_data"
    },
    {
     "name": "stdout",
     "output_type": "stream",
     "text": [
      "Epoch 1983: train=8.7827, val=8.62598, took 71.811 s\n",
      "  Validation Found 101730 of 108007, added 5448 (eff 94.19%) (0.272 FP/event)\n",
      "Result epoch:  1983\n",
      "Average Eff:  0\n",
      "Average FP Rate:  0\n"
     ]
    },
    {
     "data": {
      "application/vnd.jupyter.widget-view+json": {
       "model_id": "",
       "version_major": 2,
       "version_minor": 0
      },
      "text/plain": [
       "HBox(children=(FloatProgress(value=0.0, description='Training', layout=Layout(flex='2'), max=1250.0, style=Pro…"
      ]
     },
     "metadata": {},
     "output_type": "display_data"
    },
    {
     "name": "stdout",
     "output_type": "stream",
     "text": [
      "Epoch 1984: train=8.78109, val=8.63388, took 71.811 s\n",
      "  Validation Found 101659 of 108007, added 5340 (eff 94.12%) (0.267 FP/event)\n",
      "Result epoch:  1984\n",
      "Average Eff:  0\n",
      "Average FP Rate:  0\n"
     ]
    },
    {
     "data": {
      "application/vnd.jupyter.widget-view+json": {
       "model_id": "",
       "version_major": 2,
       "version_minor": 0
      },
      "text/plain": [
       "HBox(children=(FloatProgress(value=0.0, description='Training', layout=Layout(flex='2'), max=1250.0, style=Pro…"
      ]
     },
     "metadata": {},
     "output_type": "display_data"
    },
    {
     "name": "stdout",
     "output_type": "stream",
     "text": [
      "Epoch 1985: train=8.77981, val=8.62502, took 71.571 s\n",
      "  Validation Found 101733 of 108007, added 5445 (eff 94.19%) (0.272 FP/event)\n",
      "Result epoch:  1985\n",
      "Average Eff:  0\n",
      "Average FP Rate:  0\n"
     ]
    },
    {
     "data": {
      "application/vnd.jupyter.widget-view+json": {
       "model_id": "",
       "version_major": 2,
       "version_minor": 0
      },
      "text/plain": [
       "HBox(children=(FloatProgress(value=0.0, description='Training', layout=Layout(flex='2'), max=1250.0, style=Pro…"
      ]
     },
     "metadata": {},
     "output_type": "display_data"
    },
    {
     "name": "stdout",
     "output_type": "stream",
     "text": [
      "Epoch 1986: train=8.77755, val=8.63171, took 72.669 s\n",
      "  Validation Found 101628 of 108007, added 5313 (eff 94.09%) (0.266 FP/event)\n",
      "Result epoch:  1986\n",
      "Average Eff:  0\n",
      "Average FP Rate:  0\n"
     ]
    },
    {
     "data": {
      "application/vnd.jupyter.widget-view+json": {
       "model_id": "",
       "version_major": 2,
       "version_minor": 0
      },
      "text/plain": [
       "HBox(children=(FloatProgress(value=0.0, description='Training', layout=Layout(flex='2'), max=1250.0, style=Pro…"
      ]
     },
     "metadata": {},
     "output_type": "display_data"
    },
    {
     "name": "stdout",
     "output_type": "stream",
     "text": [
      "Epoch 1987: train=8.77807, val=8.62887, took 72.92 s\n",
      "  Validation Found 101745 of 108007, added 5474 (eff 94.20%) (0.274 FP/event)\n",
      "Result epoch:  1987\n",
      "Average Eff:  0\n",
      "Average FP Rate:  0\n"
     ]
    },
    {
     "data": {
      "application/vnd.jupyter.widget-view+json": {
       "model_id": "",
       "version_major": 2,
       "version_minor": 0
      },
      "text/plain": [
       "HBox(children=(FloatProgress(value=0.0, description='Training', layout=Layout(flex='2'), max=1250.0, style=Pro…"
      ]
     },
     "metadata": {},
     "output_type": "display_data"
    },
    {
     "name": "stdout",
     "output_type": "stream",
     "text": [
      "Epoch 1988: train=8.77273, val=8.62996, took 72.633 s\n",
      "  Validation Found 101725 of 108007, added 5447 (eff 94.18%) (0.272 FP/event)\n",
      "Result epoch:  1988\n",
      "Average Eff:  0\n",
      "Average FP Rate:  0\n"
     ]
    },
    {
     "data": {
      "application/vnd.jupyter.widget-view+json": {
       "model_id": "",
       "version_major": 2,
       "version_minor": 0
      },
      "text/plain": [
       "HBox(children=(FloatProgress(value=0.0, description='Training', layout=Layout(flex='2'), max=1250.0, style=Pro…"
      ]
     },
     "metadata": {},
     "output_type": "display_data"
    },
    {
     "name": "stdout",
     "output_type": "stream",
     "text": [
      "Epoch 1989: train=8.7776, val=8.63234, took 72.324 s\n",
      "  Validation Found 101747 of 108007, added 5483 (eff 94.20%) (0.274 FP/event)\n",
      "Result epoch:  1989\n",
      "Average Eff:  0\n",
      "Average FP Rate:  0\n"
     ]
    },
    {
     "data": {
      "application/vnd.jupyter.widget-view+json": {
       "model_id": "",
       "version_major": 2,
       "version_minor": 0
      },
      "text/plain": [
       "HBox(children=(FloatProgress(value=0.0, description='Training', layout=Layout(flex='2'), max=1250.0, style=Pro…"
      ]
     },
     "metadata": {},
     "output_type": "display_data"
    },
    {
     "name": "stdout",
     "output_type": "stream",
     "text": [
      "Epoch 1990: train=8.77929, val=8.63003, took 71.854 s\n",
      "  Validation Found 101734 of 108007, added 5477 (eff 94.19%) (0.274 FP/event)\n",
      "Result epoch:  1990\n",
      "Average Eff:  0\n",
      "Average FP Rate:  0\n"
     ]
    },
    {
     "data": {
      "application/vnd.jupyter.widget-view+json": {
       "model_id": "",
       "version_major": 2,
       "version_minor": 0
      },
      "text/plain": [
       "HBox(children=(FloatProgress(value=0.0, description='Training', layout=Layout(flex='2'), max=1250.0, style=Pro…"
      ]
     },
     "metadata": {},
     "output_type": "display_data"
    },
    {
     "name": "stdout",
     "output_type": "stream",
     "text": [
      "Epoch 1991: train=8.77569, val=8.63507, took 72.197 s\n",
      "  Validation Found 101723 of 108007, added 5472 (eff 94.18%) (0.274 FP/event)\n",
      "Result epoch:  1991\n",
      "Average Eff:  0\n",
      "Average FP Rate:  0\n"
     ]
    },
    {
     "data": {
      "application/vnd.jupyter.widget-view+json": {
       "model_id": "",
       "version_major": 2,
       "version_minor": 0
      },
      "text/plain": [
       "HBox(children=(FloatProgress(value=0.0, description='Training', layout=Layout(flex='2'), max=1250.0, style=Pro…"
      ]
     },
     "metadata": {},
     "output_type": "display_data"
    },
    {
     "name": "stdout",
     "output_type": "stream",
     "text": [
      "Epoch 1992: train=8.77847, val=8.62454, took 71.84 s\n",
      "  Validation Found 101725 of 108007, added 5422 (eff 94.18%) (0.271 FP/event)\n",
      "Result epoch:  1992\n",
      "Average Eff:  0\n",
      "Average FP Rate:  0\n"
     ]
    },
    {
     "data": {
      "application/vnd.jupyter.widget-view+json": {
       "model_id": "",
       "version_major": 2,
       "version_minor": 0
      },
      "text/plain": [
       "HBox(children=(FloatProgress(value=0.0, description='Training', layout=Layout(flex='2'), max=1250.0, style=Pro…"
      ]
     },
     "metadata": {},
     "output_type": "display_data"
    },
    {
     "name": "stdout",
     "output_type": "stream",
     "text": [
      "Epoch 1993: train=8.77257, val=8.62775, took 72.698 s\n",
      "  Validation Found 101745 of 108007, added 5475 (eff 94.20%) (0.274 FP/event)\n",
      "Result epoch:  1993\n",
      "Average Eff:  0\n",
      "Average FP Rate:  0\n"
     ]
    },
    {
     "data": {
      "application/vnd.jupyter.widget-view+json": {
       "model_id": "",
       "version_major": 2,
       "version_minor": 0
      },
      "text/plain": [
       "HBox(children=(FloatProgress(value=0.0, description='Training', layout=Layout(flex='2'), max=1250.0, style=Pro…"
      ]
     },
     "metadata": {},
     "output_type": "display_data"
    },
    {
     "name": "stdout",
     "output_type": "stream",
     "text": [
      "Epoch 1994: train=8.77453, val=8.62763, took 71.831 s\n",
      "  Validation Found 101729 of 108007, added 5423 (eff 94.19%) (0.271 FP/event)\n",
      "Result epoch:  1994\n",
      "Average Eff:  0\n",
      "Average FP Rate:  0\n"
     ]
    },
    {
     "data": {
      "application/vnd.jupyter.widget-view+json": {
       "model_id": "",
       "version_major": 2,
       "version_minor": 0
      },
      "text/plain": [
       "HBox(children=(FloatProgress(value=0.0, description='Training', layout=Layout(flex='2'), max=1250.0, style=Pro…"
      ]
     },
     "metadata": {},
     "output_type": "display_data"
    },
    {
     "name": "stdout",
     "output_type": "stream",
     "text": [
      "Epoch 1995: train=8.78158, val=8.63066, took 71.281 s\n",
      "  Validation Found 101679 of 108007, added 5367 (eff 94.14%) (0.268 FP/event)\n",
      "Result epoch:  1995\n",
      "Average Eff:  0\n",
      "Average FP Rate:  0\n"
     ]
    },
    {
     "data": {
      "application/vnd.jupyter.widget-view+json": {
       "model_id": "",
       "version_major": 2,
       "version_minor": 0
      },
      "text/plain": [
       "HBox(children=(FloatProgress(value=0.0, description='Training', layout=Layout(flex='2'), max=1250.0, style=Pro…"
      ]
     },
     "metadata": {},
     "output_type": "display_data"
    },
    {
     "name": "stdout",
     "output_type": "stream",
     "text": [
      "Epoch 1996: train=8.77748, val=8.63263, took 71.407 s\n",
      "  Validation Found 101715 of 108007, added 5405 (eff 94.17%) (0.27 FP/event)\n",
      "Result epoch:  1996\n",
      "Average Eff:  0\n",
      "Average FP Rate:  0\n"
     ]
    },
    {
     "data": {
      "application/vnd.jupyter.widget-view+json": {
       "model_id": "",
       "version_major": 2,
       "version_minor": 0
      },
      "text/plain": [
       "HBox(children=(FloatProgress(value=0.0, description='Training', layout=Layout(flex='2'), max=1250.0, style=Pro…"
      ]
     },
     "metadata": {},
     "output_type": "display_data"
    },
    {
     "name": "stdout",
     "output_type": "stream",
     "text": [
      "Epoch 1997: train=8.78069, val=8.63791, took 72.895 s\n",
      "  Validation Found 101662 of 108007, added 5350 (eff 94.13%) (0.267 FP/event)\n",
      "Result epoch:  1997\n",
      "Average Eff:  0\n",
      "Average FP Rate:  0\n"
     ]
    },
    {
     "data": {
      "application/vnd.jupyter.widget-view+json": {
       "model_id": "",
       "version_major": 2,
       "version_minor": 0
      },
      "text/plain": [
       "HBox(children=(FloatProgress(value=0.0, description='Training', layout=Layout(flex='2'), max=1250.0, style=Pro…"
      ]
     },
     "metadata": {},
     "output_type": "display_data"
    },
    {
     "name": "stdout",
     "output_type": "stream",
     "text": [
      "Epoch 1998: train=8.7776, val=8.62978, took 71.355 s\n",
      "  Validation Found 101838 of 108007, added 5670 (eff 94.29%) (0.283 FP/event)\n",
      "Result epoch:  1998\n",
      "Average Eff:  0\n",
      "Average FP Rate:  0\n"
     ]
    },
    {
     "data": {
      "application/vnd.jupyter.widget-view+json": {
       "model_id": "",
       "version_major": 2,
       "version_minor": 0
      },
      "text/plain": [
       "HBox(children=(FloatProgress(value=0.0, description='Training', layout=Layout(flex='2'), max=1250.0, style=Pro…"
      ]
     },
     "metadata": {},
     "output_type": "display_data"
    },
    {
     "name": "stdout",
     "output_type": "stream",
     "text": [
      "Epoch 1999: train=8.77487, val=8.63114, took 71.716 s\n",
      "  Validation Found 101686 of 108007, added 5345 (eff 94.15%) (0.267 FP/event)\n",
      "Result epoch:  1999\n",
      "Average Eff:  0\n",
      "Average FP Rate:  0\n"
     ]
    },
    {
     "data": {
      "application/vnd.jupyter.widget-view+json": {
       "model_id": "",
       "version_major": 2,
       "version_minor": 0
      },
      "text/plain": [
       "HBox(children=(FloatProgress(value=0.0, description='Training', layout=Layout(flex='2'), max=1250.0, style=Pro…"
      ]
     },
     "metadata": {},
     "output_type": "display_data"
    },
    {
     "name": "stdout",
     "output_type": "stream",
     "text": [
      "Epoch 2000: train=8.77555, val=8.62622, took 71.762 s\n",
      "  Validation Found 101775 of 108007, added 5604 (eff 94.23%) (0.28 FP/event)\n",
      "Result epoch:  2000\n",
      "Average Eff:  0\n",
      "Average FP Rate:  0\n"
     ]
    },
    {
     "data": {
      "application/vnd.jupyter.widget-view+json": {
       "model_id": "",
       "version_major": 2,
       "version_minor": 0
      },
      "text/plain": [
       "HBox(children=(FloatProgress(value=0.0, description='Training', layout=Layout(flex='2'), max=1250.0, style=Pro…"
      ]
     },
     "metadata": {},
     "output_type": "display_data"
    },
    {
     "name": "stdout",
     "output_type": "stream",
     "text": [
      "Epoch 2001: train=8.78237, val=8.63249, took 72.027 s\n",
      "  Validation Found 101759 of 108007, added 5498 (eff 94.22%) (0.275 FP/event)\n",
      "Result epoch:  2001\n",
      "Average Eff:  0\n",
      "Average FP Rate:  0\n"
     ]
    },
    {
     "data": {
      "application/vnd.jupyter.widget-view+json": {
       "model_id": "",
       "version_major": 2,
       "version_minor": 0
      },
      "text/plain": [
       "HBox(children=(FloatProgress(value=0.0, description='Training', layout=Layout(flex='2'), max=1250.0, style=Pro…"
      ]
     },
     "metadata": {},
     "output_type": "display_data"
    },
    {
     "name": "stdout",
     "output_type": "stream",
     "text": [
      "Epoch 2002: train=8.77524, val=8.62585, took 71.701 s\n",
      "  Validation Found 101779 of 108007, added 5568 (eff 94.23%) (0.278 FP/event)\n",
      "Result epoch:  2002\n",
      "Average Eff:  0\n",
      "Average FP Rate:  0\n"
     ]
    },
    {
     "data": {
      "application/vnd.jupyter.widget-view+json": {
       "model_id": "",
       "version_major": 2,
       "version_minor": 0
      },
      "text/plain": [
       "HBox(children=(FloatProgress(value=0.0, description='Training', layout=Layout(flex='2'), max=1250.0, style=Pro…"
      ]
     },
     "metadata": {},
     "output_type": "display_data"
    },
    {
     "name": "stdout",
     "output_type": "stream",
     "text": [
      "Epoch 2003: train=8.77839, val=8.62423, took 72.339 s\n",
      "  Validation Found 101724 of 108007, added 5434 (eff 94.18%) (0.272 FP/event)\n",
      "Result epoch:  2003\n",
      "Average Eff:  0\n",
      "Average FP Rate:  0\n"
     ]
    },
    {
     "data": {
      "application/vnd.jupyter.widget-view+json": {
       "model_id": "",
       "version_major": 2,
       "version_minor": 0
      },
      "text/plain": [
       "HBox(children=(FloatProgress(value=0.0, description='Training', layout=Layout(flex='2'), max=1250.0, style=Pro…"
      ]
     },
     "metadata": {},
     "output_type": "display_data"
    },
    {
     "name": "stdout",
     "output_type": "stream",
     "text": [
      "Epoch 2004: train=8.77993, val=8.62505, took 71.608 s\n",
      "  Validation Found 101767 of 108007, added 5519 (eff 94.22%) (0.276 FP/event)\n",
      "Result epoch:  2004\n",
      "Average Eff:  0\n",
      "Average FP Rate:  0\n"
     ]
    },
    {
     "data": {
      "application/vnd.jupyter.widget-view+json": {
       "model_id": "",
       "version_major": 2,
       "version_minor": 0
      },
      "text/plain": [
       "HBox(children=(FloatProgress(value=0.0, description='Training', layout=Layout(flex='2'), max=1250.0, style=Pro…"
      ]
     },
     "metadata": {},
     "output_type": "display_data"
    },
    {
     "name": "stdout",
     "output_type": "stream",
     "text": [
      "Epoch 2005: train=8.77468, val=8.63306, took 71.706 s\n",
      "  Validation Found 101760 of 108007, added 5549 (eff 94.22%) (0.277 FP/event)\n",
      "Result epoch:  2005\n",
      "Average Eff:  0\n",
      "Average FP Rate:  0\n"
     ]
    },
    {
     "data": {
      "application/vnd.jupyter.widget-view+json": {
       "model_id": "",
       "version_major": 2,
       "version_minor": 0
      },
      "text/plain": [
       "HBox(children=(FloatProgress(value=0.0, description='Training', layout=Layout(flex='2'), max=1250.0, style=Pro…"
      ]
     },
     "metadata": {},
     "output_type": "display_data"
    },
    {
     "name": "stdout",
     "output_type": "stream",
     "text": [
      "Epoch 2006: train=8.7716, val=8.6352, took 72.415 s\n",
      "  Validation Found 101770 of 108007, added 5551 (eff 94.23%) (0.278 FP/event)\n",
      "Result epoch:  2006\n",
      "Average Eff:  0\n",
      "Average FP Rate:  0\n"
     ]
    },
    {
     "data": {
      "application/vnd.jupyter.widget-view+json": {
       "model_id": "",
       "version_major": 2,
       "version_minor": 0
      },
      "text/plain": [
       "HBox(children=(FloatProgress(value=0.0, description='Training', layout=Layout(flex='2'), max=1250.0, style=Pro…"
      ]
     },
     "metadata": {},
     "output_type": "display_data"
    },
    {
     "name": "stdout",
     "output_type": "stream",
     "text": [
      "Epoch 2007: train=8.77841, val=8.62669, took 70.977 s\n",
      "  Validation Found 101671 of 108007, added 5337 (eff 94.13%) (0.267 FP/event)\n",
      "Result epoch:  2007\n",
      "Average Eff:  0\n",
      "Average FP Rate:  0\n"
     ]
    },
    {
     "data": {
      "application/vnd.jupyter.widget-view+json": {
       "model_id": "",
       "version_major": 2,
       "version_minor": 0
      },
      "text/plain": [
       "HBox(children=(FloatProgress(value=0.0, description='Training', layout=Layout(flex='2'), max=1250.0, style=Pro…"
      ]
     },
     "metadata": {},
     "output_type": "display_data"
    },
    {
     "name": "stdout",
     "output_type": "stream",
     "text": [
      "Epoch 2008: train=8.77733, val=8.62965, took 71.647 s\n",
      "  Validation Found 101678 of 108007, added 5349 (eff 94.14%) (0.267 FP/event)\n",
      "Result epoch:  2008\n",
      "Average Eff:  0\n",
      "Average FP Rate:  0\n"
     ]
    },
    {
     "data": {
      "application/vnd.jupyter.widget-view+json": {
       "model_id": "",
       "version_major": 2,
       "version_minor": 0
      },
      "text/plain": [
       "HBox(children=(FloatProgress(value=0.0, description='Training', layout=Layout(flex='2'), max=1250.0, style=Pro…"
      ]
     },
     "metadata": {},
     "output_type": "display_data"
    },
    {
     "name": "stdout",
     "output_type": "stream",
     "text": [
      "Epoch 2009: train=8.78085, val=8.62923, took 72.149 s\n",
      "  Validation Found 101754 of 108007, added 5530 (eff 94.21%) (0.276 FP/event)\n",
      "Result epoch:  2009\n",
      "Average Eff:  0\n",
      "Average FP Rate:  0\n"
     ]
    },
    {
     "data": {
      "application/vnd.jupyter.widget-view+json": {
       "model_id": "",
       "version_major": 2,
       "version_minor": 0
      },
      "text/plain": [
       "HBox(children=(FloatProgress(value=0.0, description='Training', layout=Layout(flex='2'), max=1250.0, style=Pro…"
      ]
     },
     "metadata": {},
     "output_type": "display_data"
    },
    {
     "name": "stdout",
     "output_type": "stream",
     "text": [
      "Epoch 2010: train=8.77631, val=8.62892, took 71.785 s\n",
      "  Validation Found 101679 of 108007, added 5364 (eff 94.14%) (0.268 FP/event)\n",
      "Result epoch:  2010\n",
      "Average Eff:  0\n",
      "Average FP Rate:  0\n"
     ]
    },
    {
     "data": {
      "application/vnd.jupyter.widget-view+json": {
       "model_id": "",
       "version_major": 2,
       "version_minor": 0
      },
      "text/plain": [
       "HBox(children=(FloatProgress(value=0.0, description='Training', layout=Layout(flex='2'), max=1250.0, style=Pro…"
      ]
     },
     "metadata": {},
     "output_type": "display_data"
    },
    {
     "name": "stdout",
     "output_type": "stream",
     "text": [
      "Epoch 2011: train=8.78245, val=8.62958, took 71.683 s\n",
      "  Validation Found 101729 of 108007, added 5416 (eff 94.19%) (0.271 FP/event)\n",
      "Result epoch:  2011\n",
      "Average Eff:  0\n",
      "Average FP Rate:  0\n"
     ]
    },
    {
     "data": {
      "application/vnd.jupyter.widget-view+json": {
       "model_id": "",
       "version_major": 2,
       "version_minor": 0
      },
      "text/plain": [
       "HBox(children=(FloatProgress(value=0.0, description='Training', layout=Layout(flex='2'), max=1250.0, style=Pro…"
      ]
     },
     "metadata": {},
     "output_type": "display_data"
    },
    {
     "name": "stdout",
     "output_type": "stream",
     "text": [
      "Epoch 2012: train=8.77841, val=8.63144, took 73.666 s\n",
      "  Validation Found 101770 of 108007, added 5536 (eff 94.23%) (0.277 FP/event)\n",
      "Result epoch:  2012\n",
      "Average Eff:  0\n",
      "Average FP Rate:  0\n"
     ]
    },
    {
     "data": {
      "application/vnd.jupyter.widget-view+json": {
       "model_id": "",
       "version_major": 2,
       "version_minor": 0
      },
      "text/plain": [
       "HBox(children=(FloatProgress(value=0.0, description='Training', layout=Layout(flex='2'), max=1250.0, style=Pro…"
      ]
     },
     "metadata": {},
     "output_type": "display_data"
    },
    {
     "name": "stdout",
     "output_type": "stream",
     "text": [
      "Epoch 2013: train=8.77453, val=8.62759, took 72.047 s\n",
      "  Validation Found 101723 of 108007, added 5432 (eff 94.18%) (0.272 FP/event)\n",
      "Result epoch:  2013\n",
      "Average Eff:  0\n",
      "Average FP Rate:  0\n"
     ]
    },
    {
     "data": {
      "application/vnd.jupyter.widget-view+json": {
       "model_id": "",
       "version_major": 2,
       "version_minor": 0
      },
      "text/plain": [
       "HBox(children=(FloatProgress(value=0.0, description='Training', layout=Layout(flex='2'), max=1250.0, style=Pro…"
      ]
     },
     "metadata": {},
     "output_type": "display_data"
    },
    {
     "name": "stdout",
     "output_type": "stream",
     "text": [
      "Epoch 2014: train=8.77743, val=8.61752, took 71.776 s\n",
      "  Validation Found 101767 of 108007, added 5521 (eff 94.22%) (0.276 FP/event)\n",
      "Result epoch:  2014\n",
      "Average Eff:  0\n",
      "Average FP Rate:  0\n"
     ]
    },
    {
     "data": {
      "application/vnd.jupyter.widget-view+json": {
       "model_id": "",
       "version_major": 2,
       "version_minor": 0
      },
      "text/plain": [
       "HBox(children=(FloatProgress(value=0.0, description='Training', layout=Layout(flex='2'), max=1250.0, style=Pro…"
      ]
     },
     "metadata": {},
     "output_type": "display_data"
    },
    {
     "name": "stdout",
     "output_type": "stream",
     "text": [
      "Epoch 2015: train=8.77533, val=8.63043, took 72.498 s\n",
      "  Validation Found 101608 of 108007, added 5307 (eff 94.08%) (0.265 FP/event)\n",
      "Result epoch:  2015\n",
      "Average Eff:  0\n",
      "Average FP Rate:  0\n"
     ]
    },
    {
     "data": {
      "application/vnd.jupyter.widget-view+json": {
       "model_id": "",
       "version_major": 2,
       "version_minor": 0
      },
      "text/plain": [
       "HBox(children=(FloatProgress(value=0.0, description='Training', layout=Layout(flex='2'), max=1250.0, style=Pro…"
      ]
     },
     "metadata": {},
     "output_type": "display_data"
    },
    {
     "name": "stdout",
     "output_type": "stream",
     "text": [
      "Epoch 2016: train=8.77816, val=8.63021, took 71.473 s\n",
      "  Validation Found 101701 of 108007, added 5383 (eff 94.16%) (0.269 FP/event)\n",
      "Result epoch:  2016\n",
      "Average Eff:  0\n",
      "Average FP Rate:  0\n"
     ]
    },
    {
     "data": {
      "application/vnd.jupyter.widget-view+json": {
       "model_id": "",
       "version_major": 2,
       "version_minor": 0
      },
      "text/plain": [
       "HBox(children=(FloatProgress(value=0.0, description='Training', layout=Layout(flex='2'), max=1250.0, style=Pro…"
      ]
     },
     "metadata": {},
     "output_type": "display_data"
    },
    {
     "name": "stdout",
     "output_type": "stream",
     "text": [
      "Epoch 2017: train=8.77297, val=8.62625, took 73.201 s\n",
      "  Validation Found 101701 of 108007, added 5381 (eff 94.16%) (0.269 FP/event)\n",
      "Result epoch:  2017\n",
      "Average Eff:  0\n",
      "Average FP Rate:  0\n"
     ]
    },
    {
     "data": {
      "application/vnd.jupyter.widget-view+json": {
       "model_id": "",
       "version_major": 2,
       "version_minor": 0
      },
      "text/plain": [
       "HBox(children=(FloatProgress(value=0.0, description='Training', layout=Layout(flex='2'), max=1250.0, style=Pro…"
      ]
     },
     "metadata": {},
     "output_type": "display_data"
    },
    {
     "name": "stdout",
     "output_type": "stream",
     "text": [
      "Epoch 2018: train=8.77586, val=8.63422, took 72.013 s\n",
      "  Validation Found 101711 of 108007, added 5420 (eff 94.17%) (0.271 FP/event)\n",
      "Result epoch:  2018\n",
      "Average Eff:  0\n",
      "Average FP Rate:  0\n"
     ]
    },
    {
     "data": {
      "application/vnd.jupyter.widget-view+json": {
       "model_id": "",
       "version_major": 2,
       "version_minor": 0
      },
      "text/plain": [
       "HBox(children=(FloatProgress(value=0.0, description='Training', layout=Layout(flex='2'), max=1250.0, style=Pro…"
      ]
     },
     "metadata": {},
     "output_type": "display_data"
    },
    {
     "name": "stdout",
     "output_type": "stream",
     "text": [
      "Epoch 2019: train=8.77579, val=8.63252, took 72.552 s\n",
      "  Validation Found 101665 of 108007, added 5344 (eff 94.13%) (0.267 FP/event)\n",
      "Result epoch:  2019\n",
      "Average Eff:  0\n",
      "Average FP Rate:  0\n"
     ]
    },
    {
     "data": {
      "application/vnd.jupyter.widget-view+json": {
       "model_id": "",
       "version_major": 2,
       "version_minor": 0
      },
      "text/plain": [
       "HBox(children=(FloatProgress(value=0.0, description='Training', layout=Layout(flex='2'), max=1250.0, style=Pro…"
      ]
     },
     "metadata": {},
     "output_type": "display_data"
    },
    {
     "name": "stdout",
     "output_type": "stream",
     "text": [
      "Epoch 2020: train=8.77484, val=8.62607, took 72.485 s\n",
      "  Validation Found 101618 of 108007, added 5316 (eff 94.08%) (0.266 FP/event)\n",
      "Result epoch:  2020\n",
      "Average Eff:  0\n",
      "Average FP Rate:  0\n"
     ]
    },
    {
     "data": {
      "application/vnd.jupyter.widget-view+json": {
       "model_id": "",
       "version_major": 2,
       "version_minor": 0
      },
      "text/plain": [
       "HBox(children=(FloatProgress(value=0.0, description='Training', layout=Layout(flex='2'), max=1250.0, style=Pro…"
      ]
     },
     "metadata": {},
     "output_type": "display_data"
    },
    {
     "name": "stdout",
     "output_type": "stream",
     "text": [
      "Epoch 2021: train=8.77526, val=8.63515, took 71.96 s\n",
      "  Validation Found 101702 of 108007, added 5417 (eff 94.16%) (0.271 FP/event)\n",
      "Result epoch:  2021\n",
      "Average Eff:  0\n",
      "Average FP Rate:  0\n"
     ]
    },
    {
     "data": {
      "application/vnd.jupyter.widget-view+json": {
       "model_id": "",
       "version_major": 2,
       "version_minor": 0
      },
      "text/plain": [
       "HBox(children=(FloatProgress(value=0.0, description='Training', layout=Layout(flex='2'), max=1250.0, style=Pro…"
      ]
     },
     "metadata": {},
     "output_type": "display_data"
    },
    {
     "name": "stdout",
     "output_type": "stream",
     "text": [
      "Epoch 2022: train=8.77847, val=8.62293, took 71.826 s\n",
      "  Validation Found 101742 of 108007, added 5445 (eff 94.20%) (0.272 FP/event)\n",
      "Result epoch:  2022\n",
      "Average Eff:  0\n",
      "Average FP Rate:  0\n"
     ]
    },
    {
     "data": {
      "application/vnd.jupyter.widget-view+json": {
       "model_id": "",
       "version_major": 2,
       "version_minor": 0
      },
      "text/plain": [
       "HBox(children=(FloatProgress(value=0.0, description='Training', layout=Layout(flex='2'), max=1250.0, style=Pro…"
      ]
     },
     "metadata": {},
     "output_type": "display_data"
    },
    {
     "name": "stdout",
     "output_type": "stream",
     "text": [
      "Epoch 2023: train=8.78273, val=8.62812, took 72.13 s\n",
      "  Validation Found 101615 of 108007, added 5289 (eff 94.08%) (0.264 FP/event)\n",
      "Result epoch:  2023\n",
      "Average Eff:  0\n",
      "Average FP Rate:  0\n"
     ]
    },
    {
     "data": {
      "application/vnd.jupyter.widget-view+json": {
       "model_id": "",
       "version_major": 2,
       "version_minor": 0
      },
      "text/plain": [
       "HBox(children=(FloatProgress(value=0.0, description='Training', layout=Layout(flex='2'), max=1250.0, style=Pro…"
      ]
     },
     "metadata": {},
     "output_type": "display_data"
    },
    {
     "name": "stdout",
     "output_type": "stream",
     "text": [
      "Epoch 2024: train=8.77231, val=8.63065, took 71.676 s\n",
      "  Validation Found 101819 of 108007, added 5668 (eff 94.27%) (0.283 FP/event)\n",
      "Result epoch:  2024\n",
      "Average Eff:  0\n",
      "Average FP Rate:  0\n"
     ]
    },
    {
     "data": {
      "application/vnd.jupyter.widget-view+json": {
       "model_id": "",
       "version_major": 2,
       "version_minor": 0
      },
      "text/plain": [
       "HBox(children=(FloatProgress(value=0.0, description='Training', layout=Layout(flex='2'), max=1250.0, style=Pro…"
      ]
     },
     "metadata": {},
     "output_type": "display_data"
    },
    {
     "name": "stdout",
     "output_type": "stream",
     "text": [
      "Epoch 2025: train=8.77377, val=8.63527, took 72.978 s\n",
      "  Validation Found 101651 of 108007, added 5340 (eff 94.12%) (0.267 FP/event)\n",
      "Result epoch:  2025\n",
      "Average Eff:  0\n",
      "Average FP Rate:  0\n"
     ]
    },
    {
     "data": {
      "application/vnd.jupyter.widget-view+json": {
       "model_id": "",
       "version_major": 2,
       "version_minor": 0
      },
      "text/plain": [
       "HBox(children=(FloatProgress(value=0.0, description='Training', layout=Layout(flex='2'), max=1250.0, style=Pro…"
      ]
     },
     "metadata": {},
     "output_type": "display_data"
    },
    {
     "name": "stdout",
     "output_type": "stream",
     "text": [
      "Epoch 2026: train=8.77794, val=8.63474, took 72.319 s\n",
      "  Validation Found 101708 of 108007, added 5389 (eff 94.17%) (0.269 FP/event)\n",
      "Result epoch:  2026\n",
      "Average Eff:  0\n",
      "Average FP Rate:  0\n"
     ]
    },
    {
     "data": {
      "application/vnd.jupyter.widget-view+json": {
       "model_id": "",
       "version_major": 2,
       "version_minor": 0
      },
      "text/plain": [
       "HBox(children=(FloatProgress(value=0.0, description='Training', layout=Layout(flex='2'), max=1250.0, style=Pro…"
      ]
     },
     "metadata": {},
     "output_type": "display_data"
    },
    {
     "name": "stdout",
     "output_type": "stream",
     "text": [
      "Epoch 2027: train=8.77785, val=8.62986, took 72.215 s\n",
      "  Validation Found 101761 of 108007, added 5534 (eff 94.22%) (0.277 FP/event)\n",
      "Result epoch:  2027\n",
      "Average Eff:  0\n",
      "Average FP Rate:  0\n"
     ]
    },
    {
     "data": {
      "application/vnd.jupyter.widget-view+json": {
       "model_id": "",
       "version_major": 2,
       "version_minor": 0
      },
      "text/plain": [
       "HBox(children=(FloatProgress(value=0.0, description='Training', layout=Layout(flex='2'), max=1250.0, style=Pro…"
      ]
     },
     "metadata": {},
     "output_type": "display_data"
    },
    {
     "name": "stdout",
     "output_type": "stream",
     "text": [
      "Epoch 2028: train=8.77617, val=8.62932, took 70.908 s\n",
      "  Validation Found 101740 of 108007, added 5468 (eff 94.20%) (0.273 FP/event)\n",
      "Result epoch:  2028\n",
      "Average Eff:  0\n",
      "Average FP Rate:  0\n"
     ]
    },
    {
     "data": {
      "application/vnd.jupyter.widget-view+json": {
       "model_id": "",
       "version_major": 2,
       "version_minor": 0
      },
      "text/plain": [
       "HBox(children=(FloatProgress(value=0.0, description='Training', layout=Layout(flex='2'), max=1250.0, style=Pro…"
      ]
     },
     "metadata": {},
     "output_type": "display_data"
    },
    {
     "name": "stdout",
     "output_type": "stream",
     "text": [
      "Epoch 2029: train=8.77429, val=8.62608, took 72.207 s\n",
      "  Validation Found 101739 of 108007, added 5470 (eff 94.20%) (0.273 FP/event)\n",
      "Result epoch:  2029\n",
      "Average Eff:  0\n",
      "Average FP Rate:  0\n"
     ]
    },
    {
     "data": {
      "application/vnd.jupyter.widget-view+json": {
       "model_id": "",
       "version_major": 2,
       "version_minor": 0
      },
      "text/plain": [
       "HBox(children=(FloatProgress(value=0.0, description='Training', layout=Layout(flex='2'), max=1250.0, style=Pro…"
      ]
     },
     "metadata": {},
     "output_type": "display_data"
    },
    {
     "name": "stdout",
     "output_type": "stream",
     "text": [
      "Epoch 2030: train=8.77734, val=8.62817, took 72.743 s\n",
      "  Validation Found 101732 of 108007, added 5435 (eff 94.19%) (0.272 FP/event)\n",
      "Result epoch:  2030\n",
      "Average Eff:  0\n",
      "Average FP Rate:  0\n"
     ]
    },
    {
     "data": {
      "application/vnd.jupyter.widget-view+json": {
       "model_id": "",
       "version_major": 2,
       "version_minor": 0
      },
      "text/plain": [
       "HBox(children=(FloatProgress(value=0.0, description='Training', layout=Layout(flex='2'), max=1250.0, style=Pro…"
      ]
     },
     "metadata": {},
     "output_type": "display_data"
    },
    {
     "name": "stdout",
     "output_type": "stream",
     "text": [
      "Epoch 2031: train=8.77786, val=8.62485, took 72.046 s\n",
      "  Validation Found 101636 of 108007, added 5311 (eff 94.10%) (0.266 FP/event)\n",
      "Result epoch:  2031\n",
      "Average Eff:  0\n",
      "Average FP Rate:  0\n"
     ]
    },
    {
     "data": {
      "application/vnd.jupyter.widget-view+json": {
       "model_id": "",
       "version_major": 2,
       "version_minor": 0
      },
      "text/plain": [
       "HBox(children=(FloatProgress(value=0.0, description='Training', layout=Layout(flex='2'), max=1250.0, style=Pro…"
      ]
     },
     "metadata": {},
     "output_type": "display_data"
    },
    {
     "name": "stdout",
     "output_type": "stream",
     "text": [
      "Epoch 2032: train=8.77597, val=8.63556, took 72.042 s\n",
      "  Validation Found 101690 of 108007, added 5375 (eff 94.15%) (0.269 FP/event)\n",
      "Result epoch:  2032\n",
      "Average Eff:  0\n",
      "Average FP Rate:  0\n"
     ]
    },
    {
     "data": {
      "application/vnd.jupyter.widget-view+json": {
       "model_id": "",
       "version_major": 2,
       "version_minor": 0
      },
      "text/plain": [
       "HBox(children=(FloatProgress(value=0.0, description='Training', layout=Layout(flex='2'), max=1250.0, style=Pro…"
      ]
     },
     "metadata": {},
     "output_type": "display_data"
    },
    {
     "name": "stdout",
     "output_type": "stream",
     "text": [
      "Epoch 2033: train=8.77874, val=8.63241, took 73.1 s\n",
      "  Validation Found 101732 of 108007, added 5464 (eff 94.19%) (0.273 FP/event)\n",
      "Result epoch:  2033\n",
      "Average Eff:  0\n",
      "Average FP Rate:  0\n"
     ]
    },
    {
     "data": {
      "application/vnd.jupyter.widget-view+json": {
       "model_id": "",
       "version_major": 2,
       "version_minor": 0
      },
      "text/plain": [
       "HBox(children=(FloatProgress(value=0.0, description='Training', layout=Layout(flex='2'), max=1250.0, style=Pro…"
      ]
     },
     "metadata": {},
     "output_type": "display_data"
    },
    {
     "name": "stdout",
     "output_type": "stream",
     "text": [
      "Epoch 2034: train=8.77454, val=8.62828, took 72.135 s\n",
      "  Validation Found 101707 of 108007, added 5409 (eff 94.17%) (0.27 FP/event)\n",
      "Result epoch:  2034\n",
      "Average Eff:  0\n",
      "Average FP Rate:  0\n"
     ]
    },
    {
     "data": {
      "application/vnd.jupyter.widget-view+json": {
       "model_id": "",
       "version_major": 2,
       "version_minor": 0
      },
      "text/plain": [
       "HBox(children=(FloatProgress(value=0.0, description='Training', layout=Layout(flex='2'), max=1250.0, style=Pro…"
      ]
     },
     "metadata": {},
     "output_type": "display_data"
    },
    {
     "name": "stdout",
     "output_type": "stream",
     "text": [
      "Epoch 2035: train=8.77721, val=8.63669, took 72.782 s\n",
      "  Validation Found 101686 of 108007, added 5382 (eff 94.15%) (0.269 FP/event)\n",
      "Result epoch:  2035\n",
      "Average Eff:  0\n",
      "Average FP Rate:  0\n"
     ]
    },
    {
     "data": {
      "application/vnd.jupyter.widget-view+json": {
       "model_id": "",
       "version_major": 2,
       "version_minor": 0
      },
      "text/plain": [
       "HBox(children=(FloatProgress(value=0.0, description='Training', layout=Layout(flex='2'), max=1250.0, style=Pro…"
      ]
     },
     "metadata": {},
     "output_type": "display_data"
    },
    {
     "name": "stdout",
     "output_type": "stream",
     "text": [
      "Epoch 2036: train=8.77975, val=8.63682, took 72.929 s\n",
      "  Validation Found 101704 of 108007, added 5401 (eff 94.16%) (0.27 FP/event)\n",
      "Result epoch:  2036\n",
      "Average Eff:  0\n",
      "Average FP Rate:  0\n"
     ]
    },
    {
     "data": {
      "application/vnd.jupyter.widget-view+json": {
       "model_id": "",
       "version_major": 2,
       "version_minor": 0
      },
      "text/plain": [
       "HBox(children=(FloatProgress(value=0.0, description='Training', layout=Layout(flex='2'), max=1250.0, style=Pro…"
      ]
     },
     "metadata": {},
     "output_type": "display_data"
    },
    {
     "name": "stdout",
     "output_type": "stream",
     "text": [
      "Epoch 2037: train=8.77827, val=8.61966, took 72.928 s\n",
      "  Validation Found 101711 of 108007, added 5392 (eff 94.17%) (0.27 FP/event)\n",
      "Result epoch:  2037\n",
      "Average Eff:  0\n",
      "Average FP Rate:  0\n"
     ]
    },
    {
     "data": {
      "application/vnd.jupyter.widget-view+json": {
       "model_id": "",
       "version_major": 2,
       "version_minor": 0
      },
      "text/plain": [
       "HBox(children=(FloatProgress(value=0.0, description='Training', layout=Layout(flex='2'), max=1250.0, style=Pro…"
      ]
     },
     "metadata": {},
     "output_type": "display_data"
    },
    {
     "name": "stdout",
     "output_type": "stream",
     "text": [
      "Epoch 2038: train=8.77751, val=8.63388, took 72.486 s\n",
      "  Validation Found 101608 of 108007, added 5301 (eff 94.08%) (0.265 FP/event)\n",
      "Result epoch:  2038\n",
      "Average Eff:  0\n",
      "Average FP Rate:  0\n"
     ]
    },
    {
     "data": {
      "application/vnd.jupyter.widget-view+json": {
       "model_id": "",
       "version_major": 2,
       "version_minor": 0
      },
      "text/plain": [
       "HBox(children=(FloatProgress(value=0.0, description='Training', layout=Layout(flex='2'), max=1250.0, style=Pro…"
      ]
     },
     "metadata": {},
     "output_type": "display_data"
    },
    {
     "name": "stdout",
     "output_type": "stream",
     "text": [
      "Epoch 2039: train=8.77479, val=8.63101, took 72.161 s\n",
      "  Validation Found 101640 of 108007, added 5315 (eff 94.11%) (0.266 FP/event)\n",
      "Result epoch:  2039\n",
      "Average Eff:  0\n",
      "Average FP Rate:  0\n"
     ]
    },
    {
     "data": {
      "application/vnd.jupyter.widget-view+json": {
       "model_id": "",
       "version_major": 2,
       "version_minor": 0
      },
      "text/plain": [
       "HBox(children=(FloatProgress(value=0.0, description='Training', layout=Layout(flex='2'), max=1250.0, style=Pro…"
      ]
     },
     "metadata": {},
     "output_type": "display_data"
    },
    {
     "name": "stdout",
     "output_type": "stream",
     "text": [
      "Epoch 2040: train=8.77288, val=8.63267, took 72.502 s\n",
      "  Validation Found 101761 of 108007, added 5541 (eff 94.22%) (0.277 FP/event)\n",
      "Result epoch:  2040\n",
      "Average Eff:  0\n",
      "Average FP Rate:  0\n"
     ]
    },
    {
     "data": {
      "application/vnd.jupyter.widget-view+json": {
       "model_id": "",
       "version_major": 2,
       "version_minor": 0
      },
      "text/plain": [
       "HBox(children=(FloatProgress(value=0.0, description='Training', layout=Layout(flex='2'), max=1250.0, style=Pro…"
      ]
     },
     "metadata": {},
     "output_type": "display_data"
    },
    {
     "name": "stdout",
     "output_type": "stream",
     "text": [
      "Epoch 2041: train=8.77537, val=8.62948, took 72.975 s\n",
      "  Validation Found 101682 of 108007, added 5359 (eff 94.14%) (0.268 FP/event)\n",
      "Result epoch:  2041\n",
      "Average Eff:  0\n",
      "Average FP Rate:  0\n"
     ]
    },
    {
     "data": {
      "application/vnd.jupyter.widget-view+json": {
       "model_id": "",
       "version_major": 2,
       "version_minor": 0
      },
      "text/plain": [
       "HBox(children=(FloatProgress(value=0.0, description='Training', layout=Layout(flex='2'), max=1250.0, style=Pro…"
      ]
     },
     "metadata": {},
     "output_type": "display_data"
    },
    {
     "name": "stdout",
     "output_type": "stream",
     "text": [
      "Epoch 2042: train=8.7769, val=8.63262, took 72.772 s\n",
      "  Validation Found 101596 of 108007, added 5277 (eff 94.06%) (0.264 FP/event)\n",
      "Result epoch:  2042\n",
      "Average Eff:  0\n",
      "Average FP Rate:  0\n"
     ]
    },
    {
     "data": {
      "application/vnd.jupyter.widget-view+json": {
       "model_id": "",
       "version_major": 2,
       "version_minor": 0
      },
      "text/plain": [
       "HBox(children=(FloatProgress(value=0.0, description='Training', layout=Layout(flex='2'), max=1250.0, style=Pro…"
      ]
     },
     "metadata": {},
     "output_type": "display_data"
    },
    {
     "name": "stdout",
     "output_type": "stream",
     "text": [
      "Epoch 2043: train=8.77465, val=8.63483, took 72.654 s\n",
      "  Validation Found 101650 of 108007, added 5358 (eff 94.11%) (0.268 FP/event)\n",
      "Result epoch:  2043\n",
      "Average Eff:  0\n",
      "Average FP Rate:  0\n"
     ]
    },
    {
     "data": {
      "application/vnd.jupyter.widget-view+json": {
       "model_id": "",
       "version_major": 2,
       "version_minor": 0
      },
      "text/plain": [
       "HBox(children=(FloatProgress(value=0.0, description='Training', layout=Layout(flex='2'), max=1250.0, style=Pro…"
      ]
     },
     "metadata": {},
     "output_type": "display_data"
    },
    {
     "name": "stdout",
     "output_type": "stream",
     "text": [
      "Epoch 2044: train=8.77563, val=8.63733, took 71.874 s\n",
      "  Validation Found 101726 of 108007, added 5447 (eff 94.18%) (0.272 FP/event)\n",
      "Result epoch:  2044\n",
      "Average Eff:  0\n",
      "Average FP Rate:  0\n"
     ]
    },
    {
     "data": {
      "application/vnd.jupyter.widget-view+json": {
       "model_id": "",
       "version_major": 2,
       "version_minor": 0
      },
      "text/plain": [
       "HBox(children=(FloatProgress(value=0.0, description='Training', layout=Layout(flex='2'), max=1250.0, style=Pro…"
      ]
     },
     "metadata": {},
     "output_type": "display_data"
    },
    {
     "name": "stdout",
     "output_type": "stream",
     "text": [
      "Epoch 2045: train=8.77088, val=8.63525, took 72.16 s\n",
      "  Validation Found 101721 of 108007, added 5437 (eff 94.18%) (0.272 FP/event)\n",
      "Result epoch:  2045\n",
      "Average Eff:  0\n",
      "Average FP Rate:  0\n"
     ]
    },
    {
     "data": {
      "application/vnd.jupyter.widget-view+json": {
       "model_id": "",
       "version_major": 2,
       "version_minor": 0
      },
      "text/plain": [
       "HBox(children=(FloatProgress(value=0.0, description='Training', layout=Layout(flex='2'), max=1250.0, style=Pro…"
      ]
     },
     "metadata": {},
     "output_type": "display_data"
    },
    {
     "name": "stdout",
     "output_type": "stream",
     "text": [
      "Epoch 2046: train=8.77865, val=8.62817, took 71.715 s\n",
      "  Validation Found 101745 of 108007, added 5477 (eff 94.20%) (0.274 FP/event)\n",
      "Result epoch:  2046\n",
      "Average Eff:  0\n",
      "Average FP Rate:  0\n"
     ]
    },
    {
     "data": {
      "application/vnd.jupyter.widget-view+json": {
       "model_id": "",
       "version_major": 2,
       "version_minor": 0
      },
      "text/plain": [
       "HBox(children=(FloatProgress(value=0.0, description='Training', layout=Layout(flex='2'), max=1250.0, style=Pro…"
      ]
     },
     "metadata": {},
     "output_type": "display_data"
    },
    {
     "name": "stdout",
     "output_type": "stream",
     "text": [
      "Epoch 2047: train=8.77867, val=8.62762, took 71.777 s\n",
      "  Validation Found 101782 of 108007, added 5560 (eff 94.24%) (0.278 FP/event)\n",
      "Result epoch:  2047\n",
      "Average Eff:  0\n",
      "Average FP Rate:  0\n"
     ]
    },
    {
     "data": {
      "application/vnd.jupyter.widget-view+json": {
       "model_id": "",
       "version_major": 2,
       "version_minor": 0
      },
      "text/plain": [
       "HBox(children=(FloatProgress(value=0.0, description='Training', layout=Layout(flex='2'), max=1250.0, style=Pro…"
      ]
     },
     "metadata": {},
     "output_type": "display_data"
    },
    {
     "name": "stdout",
     "output_type": "stream",
     "text": [
      "Epoch 2048: train=8.77664, val=8.63069, took 71.052 s\n",
      "  Validation Found 101747 of 108007, added 5482 (eff 94.20%) (0.274 FP/event)\n",
      "Result epoch:  2048\n",
      "Average Eff:  0\n",
      "Average FP Rate:  0\n"
     ]
    },
    {
     "data": {
      "application/vnd.jupyter.widget-view+json": {
       "model_id": "",
       "version_major": 2,
       "version_minor": 0
      },
      "text/plain": [
       "HBox(children=(FloatProgress(value=0.0, description='Training', layout=Layout(flex='2'), max=1250.0, style=Pro…"
      ]
     },
     "metadata": {},
     "output_type": "display_data"
    },
    {
     "name": "stdout",
     "output_type": "stream",
     "text": [
      "Epoch 2049: train=8.77988, val=8.62603, took 71.964 s\n",
      "  Validation Found 101721 of 108007, added 5445 (eff 94.18%) (0.272 FP/event)\n",
      "Result epoch:  2049\n",
      "Average Eff:  0\n",
      "Average FP Rate:  0\n"
     ]
    },
    {
     "data": {
      "application/vnd.jupyter.widget-view+json": {
       "model_id": "",
       "version_major": 2,
       "version_minor": 0
      },
      "text/plain": [
       "HBox(children=(FloatProgress(value=0.0, description='Training', layout=Layout(flex='2'), max=1250.0, style=Pro…"
      ]
     },
     "metadata": {},
     "output_type": "display_data"
    },
    {
     "name": "stdout",
     "output_type": "stream",
     "text": [
      "Epoch 2050: train=8.7751, val=8.62003, took 72.542 s\n",
      "  Validation Found 101660 of 108007, added 5338 (eff 94.12%) (0.267 FP/event)\n",
      "Result epoch:  2050\n",
      "Average Eff:  0\n",
      "Average FP Rate:  0\n"
     ]
    },
    {
     "data": {
      "application/vnd.jupyter.widget-view+json": {
       "model_id": "",
       "version_major": 2,
       "version_minor": 0
      },
      "text/plain": [
       "HBox(children=(FloatProgress(value=0.0, description='Training', layout=Layout(flex='2'), max=1250.0, style=Pro…"
      ]
     },
     "metadata": {},
     "output_type": "display_data"
    },
    {
     "name": "stdout",
     "output_type": "stream",
     "text": [
      "Epoch 2051: train=8.77656, val=8.62551, took 71.905 s\n",
      "  Validation Found 101692 of 108007, added 5385 (eff 94.15%) (0.269 FP/event)\n",
      "Result epoch:  2051\n",
      "Average Eff:  0\n",
      "Average FP Rate:  0\n"
     ]
    },
    {
     "data": {
      "application/vnd.jupyter.widget-view+json": {
       "model_id": "",
       "version_major": 2,
       "version_minor": 0
      },
      "text/plain": [
       "HBox(children=(FloatProgress(value=0.0, description='Training', layout=Layout(flex='2'), max=1250.0, style=Pro…"
      ]
     },
     "metadata": {},
     "output_type": "display_data"
    },
    {
     "name": "stdout",
     "output_type": "stream",
     "text": [
      "Epoch 2052: train=8.77632, val=8.6333, took 73.466 s\n",
      "  Validation Found 101672 of 108007, added 5371 (eff 94.13%) (0.269 FP/event)\n",
      "Result epoch:  2052\n",
      "Average Eff:  0\n",
      "Average FP Rate:  0\n"
     ]
    },
    {
     "data": {
      "application/vnd.jupyter.widget-view+json": {
       "model_id": "",
       "version_major": 2,
       "version_minor": 0
      },
      "text/plain": [
       "HBox(children=(FloatProgress(value=0.0, description='Training', layout=Layout(flex='2'), max=1250.0, style=Pro…"
      ]
     },
     "metadata": {},
     "output_type": "display_data"
    },
    {
     "name": "stdout",
     "output_type": "stream",
     "text": [
      "Epoch 2053: train=8.77567, val=8.62463, took 73.013 s\n",
      "  Validation Found 101695 of 108007, added 5388 (eff 94.16%) (0.269 FP/event)\n",
      "Result epoch:  2053\n",
      "Average Eff:  0\n",
      "Average FP Rate:  0\n"
     ]
    },
    {
     "data": {
      "application/vnd.jupyter.widget-view+json": {
       "model_id": "",
       "version_major": 2,
       "version_minor": 0
      },
      "text/plain": [
       "HBox(children=(FloatProgress(value=0.0, description='Training', layout=Layout(flex='2'), max=1250.0, style=Pro…"
      ]
     },
     "metadata": {},
     "output_type": "display_data"
    },
    {
     "name": "stdout",
     "output_type": "stream",
     "text": [
      "Epoch 2054: train=8.77847, val=8.62904, took 72.887 s\n",
      "  Validation Found 101716 of 108007, added 5428 (eff 94.18%) (0.271 FP/event)\n",
      "Result epoch:  2054\n",
      "Average Eff:  0\n",
      "Average FP Rate:  0\n"
     ]
    },
    {
     "data": {
      "application/vnd.jupyter.widget-view+json": {
       "model_id": "",
       "version_major": 2,
       "version_minor": 0
      },
      "text/plain": [
       "HBox(children=(FloatProgress(value=0.0, description='Training', layout=Layout(flex='2'), max=1250.0, style=Pro…"
      ]
     },
     "metadata": {},
     "output_type": "display_data"
    },
    {
     "name": "stdout",
     "output_type": "stream",
     "text": [
      "Epoch 2055: train=8.77729, val=8.63644, took 72.759 s\n",
      "  Validation Found 101709 of 108007, added 5455 (eff 94.17%) (0.273 FP/event)\n",
      "Result epoch:  2055\n",
      "Average Eff:  0\n",
      "Average FP Rate:  0\n"
     ]
    },
    {
     "data": {
      "application/vnd.jupyter.widget-view+json": {
       "model_id": "",
       "version_major": 2,
       "version_minor": 0
      },
      "text/plain": [
       "HBox(children=(FloatProgress(value=0.0, description='Training', layout=Layout(flex='2'), max=1250.0, style=Pro…"
      ]
     },
     "metadata": {},
     "output_type": "display_data"
    },
    {
     "name": "stdout",
     "output_type": "stream",
     "text": [
      "Epoch 2056: train=8.77794, val=8.62725, took 71.803 s\n",
      "  Validation Found 101649 of 108007, added 5324 (eff 94.11%) (0.266 FP/event)\n",
      "Result epoch:  2056\n",
      "Average Eff:  0\n",
      "Average FP Rate:  0\n"
     ]
    },
    {
     "data": {
      "application/vnd.jupyter.widget-view+json": {
       "model_id": "",
       "version_major": 2,
       "version_minor": 0
      },
      "text/plain": [
       "HBox(children=(FloatProgress(value=0.0, description='Training', layout=Layout(flex='2'), max=1250.0, style=Pro…"
      ]
     },
     "metadata": {},
     "output_type": "display_data"
    },
    {
     "name": "stdout",
     "output_type": "stream",
     "text": [
      "Epoch 2057: train=8.7737, val=8.62958, took 73.25 s\n",
      "  Validation Found 101723 of 108007, added 5454 (eff 94.18%) (0.273 FP/event)\n",
      "Result epoch:  2057\n",
      "Average Eff:  0\n",
      "Average FP Rate:  0\n"
     ]
    },
    {
     "data": {
      "application/vnd.jupyter.widget-view+json": {
       "model_id": "",
       "version_major": 2,
       "version_minor": 0
      },
      "text/plain": [
       "HBox(children=(FloatProgress(value=0.0, description='Training', layout=Layout(flex='2'), max=1250.0, style=Pro…"
      ]
     },
     "metadata": {},
     "output_type": "display_data"
    },
    {
     "name": "stdout",
     "output_type": "stream",
     "text": [
      "Epoch 2058: train=8.77603, val=8.63583, took 72.688 s\n",
      "  Validation Found 101664 of 108007, added 5354 (eff 94.13%) (0.268 FP/event)\n",
      "Result epoch:  2058\n",
      "Average Eff:  0\n",
      "Average FP Rate:  0\n"
     ]
    },
    {
     "data": {
      "application/vnd.jupyter.widget-view+json": {
       "model_id": "",
       "version_major": 2,
       "version_minor": 0
      },
      "text/plain": [
       "HBox(children=(FloatProgress(value=0.0, description='Training', layout=Layout(flex='2'), max=1250.0, style=Pro…"
      ]
     },
     "metadata": {},
     "output_type": "display_data"
    },
    {
     "name": "stdout",
     "output_type": "stream",
     "text": [
      "Epoch 2059: train=8.77312, val=8.62756, took 72.453 s\n",
      "  Validation Found 101676 of 108007, added 5363 (eff 94.14%) (0.268 FP/event)\n",
      "Result epoch:  2059\n",
      "Average Eff:  0\n",
      "Average FP Rate:  0\n"
     ]
    },
    {
     "data": {
      "application/vnd.jupyter.widget-view+json": {
       "model_id": "",
       "version_major": 2,
       "version_minor": 0
      },
      "text/plain": [
       "HBox(children=(FloatProgress(value=0.0, description='Training', layout=Layout(flex='2'), max=1250.0, style=Pro…"
      ]
     },
     "metadata": {},
     "output_type": "display_data"
    },
    {
     "name": "stdout",
     "output_type": "stream",
     "text": [
      "Epoch 2060: train=8.77632, val=8.62547, took 72.054 s\n",
      "  Validation Found 101670 of 108007, added 5335 (eff 94.13%) (0.267 FP/event)\n",
      "Result epoch:  2060\n",
      "Average Eff:  0\n",
      "Average FP Rate:  0\n"
     ]
    },
    {
     "data": {
      "application/vnd.jupyter.widget-view+json": {
       "model_id": "",
       "version_major": 2,
       "version_minor": 0
      },
      "text/plain": [
       "HBox(children=(FloatProgress(value=0.0, description='Training', layout=Layout(flex='2'), max=1250.0, style=Pro…"
      ]
     },
     "metadata": {},
     "output_type": "display_data"
    },
    {
     "name": "stdout",
     "output_type": "stream",
     "text": [
      "Epoch 2061: train=8.7753, val=8.62585, took 72.156 s\n",
      "  Validation Found 101725 of 108007, added 5415 (eff 94.18%) (0.271 FP/event)\n",
      "Result epoch:  2061\n",
      "Average Eff:  0\n",
      "Average FP Rate:  0\n"
     ]
    },
    {
     "data": {
      "application/vnd.jupyter.widget-view+json": {
       "model_id": "",
       "version_major": 2,
       "version_minor": 0
      },
      "text/plain": [
       "HBox(children=(FloatProgress(value=0.0, description='Training', layout=Layout(flex='2'), max=1250.0, style=Pro…"
      ]
     },
     "metadata": {},
     "output_type": "display_data"
    },
    {
     "name": "stdout",
     "output_type": "stream",
     "text": [
      "Epoch 2062: train=8.77807, val=8.63019, took 72.838 s\n",
      "  Validation Found 101678 of 108007, added 5381 (eff 94.14%) (0.269 FP/event)\n",
      "Result epoch:  2062\n",
      "Average Eff:  0\n",
      "Average FP Rate:  0\n"
     ]
    },
    {
     "data": {
      "application/vnd.jupyter.widget-view+json": {
       "model_id": "",
       "version_major": 2,
       "version_minor": 0
      },
      "text/plain": [
       "HBox(children=(FloatProgress(value=0.0, description='Training', layout=Layout(flex='2'), max=1250.0, style=Pro…"
      ]
     },
     "metadata": {},
     "output_type": "display_data"
    },
    {
     "name": "stdout",
     "output_type": "stream",
     "text": [
      "Epoch 2063: train=8.7757, val=8.62882, took 72.069 s\n",
      "  Validation Found 101677 of 108007, added 5347 (eff 94.14%) (0.267 FP/event)\n",
      "Result epoch:  2063\n",
      "Average Eff:  0\n",
      "Average FP Rate:  0\n"
     ]
    },
    {
     "data": {
      "application/vnd.jupyter.widget-view+json": {
       "model_id": "",
       "version_major": 2,
       "version_minor": 0
      },
      "text/plain": [
       "HBox(children=(FloatProgress(value=0.0, description='Training', layout=Layout(flex='2'), max=1250.0, style=Pro…"
      ]
     },
     "metadata": {},
     "output_type": "display_data"
    },
    {
     "name": "stdout",
     "output_type": "stream",
     "text": [
      "Epoch 2064: train=8.7761, val=8.63016, took 72.047 s\n",
      "  Validation Found 101814 of 108007, added 5644 (eff 94.27%) (0.282 FP/event)\n",
      "Result epoch:  2064\n",
      "Average Eff:  0\n",
      "Average FP Rate:  0\n"
     ]
    },
    {
     "data": {
      "application/vnd.jupyter.widget-view+json": {
       "model_id": "",
       "version_major": 2,
       "version_minor": 0
      },
      "text/plain": [
       "HBox(children=(FloatProgress(value=0.0, description='Training', layout=Layout(flex='2'), max=1250.0, style=Pro…"
      ]
     },
     "metadata": {},
     "output_type": "display_data"
    },
    {
     "name": "stdout",
     "output_type": "stream",
     "text": [
      "Epoch 2065: train=8.77667, val=8.62645, took 71.605 s\n",
      "  Validation Found 101755 of 108007, added 5480 (eff 94.21%) (0.274 FP/event)\n",
      "Result epoch:  2065\n",
      "Average Eff:  0\n",
      "Average FP Rate:  0\n"
     ]
    },
    {
     "data": {
      "application/vnd.jupyter.widget-view+json": {
       "model_id": "",
       "version_major": 2,
       "version_minor": 0
      },
      "text/plain": [
       "HBox(children=(FloatProgress(value=0.0, description='Training', layout=Layout(flex='2'), max=1250.0, style=Pro…"
      ]
     },
     "metadata": {},
     "output_type": "display_data"
    },
    {
     "name": "stdout",
     "output_type": "stream",
     "text": [
      "Epoch 2066: train=8.7788, val=8.63638, took 73.242 s\n",
      "  Validation Found 101765 of 108007, added 5534 (eff 94.22%) (0.277 FP/event)\n",
      "Result epoch:  2066\n",
      "Average Eff:  0\n",
      "Average FP Rate:  0\n"
     ]
    },
    {
     "data": {
      "application/vnd.jupyter.widget-view+json": {
       "model_id": "",
       "version_major": 2,
       "version_minor": 0
      },
      "text/plain": [
       "HBox(children=(FloatProgress(value=0.0, description='Training', layout=Layout(flex='2'), max=1250.0, style=Pro…"
      ]
     },
     "metadata": {},
     "output_type": "display_data"
    },
    {
     "name": "stdout",
     "output_type": "stream",
     "text": [
      "Epoch 2067: train=8.78152, val=8.6251, took 73.148 s\n",
      "  Validation Found 101749 of 108007, added 5458 (eff 94.21%) (0.273 FP/event)\n",
      "Result epoch:  2067\n",
      "Average Eff:  0\n",
      "Average FP Rate:  0\n"
     ]
    },
    {
     "data": {
      "application/vnd.jupyter.widget-view+json": {
       "model_id": "",
       "version_major": 2,
       "version_minor": 0
      },
      "text/plain": [
       "HBox(children=(FloatProgress(value=0.0, description='Training', layout=Layout(flex='2'), max=1250.0, style=Pro…"
      ]
     },
     "metadata": {},
     "output_type": "display_data"
    },
    {
     "name": "stdout",
     "output_type": "stream",
     "text": [
      "Epoch 2068: train=8.77664, val=8.62932, took 71.942 s\n",
      "  Validation Found 101730 of 108007, added 5436 (eff 94.19%) (0.272 FP/event)\n",
      "Result epoch:  2068\n",
      "Average Eff:  0\n",
      "Average FP Rate:  0\n"
     ]
    },
    {
     "data": {
      "application/vnd.jupyter.widget-view+json": {
       "model_id": "",
       "version_major": 2,
       "version_minor": 0
      },
      "text/plain": [
       "HBox(children=(FloatProgress(value=0.0, description='Training', layout=Layout(flex='2'), max=1250.0, style=Pro…"
      ]
     },
     "metadata": {},
     "output_type": "display_data"
    },
    {
     "name": "stdout",
     "output_type": "stream",
     "text": [
      "Epoch 2069: train=8.78055, val=8.6321, took 72.193 s\n",
      "  Validation Found 101580 of 108007, added 5238 (eff 94.05%) (0.262 FP/event)\n",
      "Result epoch:  2069\n",
      "Average Eff:  0\n",
      "Average FP Rate:  0\n"
     ]
    },
    {
     "data": {
      "application/vnd.jupyter.widget-view+json": {
       "model_id": "",
       "version_major": 2,
       "version_minor": 0
      },
      "text/plain": [
       "HBox(children=(FloatProgress(value=0.0, description='Training', layout=Layout(flex='2'), max=1250.0, style=Pro…"
      ]
     },
     "metadata": {},
     "output_type": "display_data"
    },
    {
     "name": "stdout",
     "output_type": "stream",
     "text": [
      "Epoch 2070: train=8.7745, val=8.62815, took 71.821 s\n",
      "  Validation Found 101666 of 108007, added 5328 (eff 94.13%) (0.266 FP/event)\n",
      "Result epoch:  2070\n",
      "Average Eff:  0\n",
      "Average FP Rate:  0\n"
     ]
    },
    {
     "data": {
      "application/vnd.jupyter.widget-view+json": {
       "model_id": "",
       "version_major": 2,
       "version_minor": 0
      },
      "text/plain": [
       "HBox(children=(FloatProgress(value=0.0, description='Training', layout=Layout(flex='2'), max=1250.0, style=Pro…"
      ]
     },
     "metadata": {},
     "output_type": "display_data"
    },
    {
     "name": "stdout",
     "output_type": "stream",
     "text": [
      "Epoch 2071: train=8.77637, val=8.62543, took 71.849 s\n",
      "  Validation Found 101686 of 108007, added 5376 (eff 94.15%) (0.269 FP/event)\n",
      "Result epoch:  2071\n",
      "Average Eff:  0\n",
      "Average FP Rate:  0\n"
     ]
    },
    {
     "data": {
      "application/vnd.jupyter.widget-view+json": {
       "model_id": "",
       "version_major": 2,
       "version_minor": 0
      },
      "text/plain": [
       "HBox(children=(FloatProgress(value=0.0, description='Training', layout=Layout(flex='2'), max=1250.0, style=Pro…"
      ]
     },
     "metadata": {},
     "output_type": "display_data"
    },
    {
     "name": "stdout",
     "output_type": "stream",
     "text": [
      "Epoch 2072: train=8.7739, val=8.62473, took 71.91 s\n",
      "  Validation Found 101667 of 108007, added 5327 (eff 94.13%) (0.266 FP/event)\n",
      "Result epoch:  2072\n",
      "Average Eff:  0\n",
      "Average FP Rate:  0\n"
     ]
    },
    {
     "data": {
      "application/vnd.jupyter.widget-view+json": {
       "model_id": "",
       "version_major": 2,
       "version_minor": 0
      },
      "text/plain": [
       "HBox(children=(FloatProgress(value=0.0, description='Training', layout=Layout(flex='2'), max=1250.0, style=Pro…"
      ]
     },
     "metadata": {},
     "output_type": "display_data"
    },
    {
     "name": "stdout",
     "output_type": "stream",
     "text": [
      "Epoch 2073: train=8.7738, val=8.63127, took 72.664 s\n",
      "  Validation Found 101776 of 108007, added 5529 (eff 94.23%) (0.276 FP/event)\n",
      "Result epoch:  2073\n",
      "Average Eff:  0\n",
      "Average FP Rate:  0\n"
     ]
    },
    {
     "data": {
      "application/vnd.jupyter.widget-view+json": {
       "model_id": "",
       "version_major": 2,
       "version_minor": 0
      },
      "text/plain": [
       "HBox(children=(FloatProgress(value=0.0, description='Training', layout=Layout(flex='2'), max=1250.0, style=Pro…"
      ]
     },
     "metadata": {},
     "output_type": "display_data"
    },
    {
     "name": "stdout",
     "output_type": "stream",
     "text": [
      "Epoch 2074: train=8.7718, val=8.61924, took 71.654 s\n",
      "  Validation Found 101782 of 108007, added 5605 (eff 94.24%) (0.28 FP/event)\n",
      "Result epoch:  2074\n",
      "Average Eff:  0\n",
      "Average FP Rate:  0\n"
     ]
    },
    {
     "data": {
      "application/vnd.jupyter.widget-view+json": {
       "model_id": "",
       "version_major": 2,
       "version_minor": 0
      },
      "text/plain": [
       "HBox(children=(FloatProgress(value=0.0, description='Training', layout=Layout(flex='2'), max=1250.0, style=Pro…"
      ]
     },
     "metadata": {},
     "output_type": "display_data"
    },
    {
     "name": "stdout",
     "output_type": "stream",
     "text": [
      "Epoch 2075: train=8.77676, val=8.62829, took 72.308 s\n",
      "  Validation Found 101622 of 108007, added 5318 (eff 94.09%) (0.266 FP/event)\n",
      "Result epoch:  2075\n",
      "Average Eff:  0\n",
      "Average FP Rate:  0\n"
     ]
    },
    {
     "data": {
      "application/vnd.jupyter.widget-view+json": {
       "model_id": "",
       "version_major": 2,
       "version_minor": 0
      },
      "text/plain": [
       "HBox(children=(FloatProgress(value=0.0, description='Training', layout=Layout(flex='2'), max=1250.0, style=Pro…"
      ]
     },
     "metadata": {},
     "output_type": "display_data"
    },
    {
     "name": "stdout",
     "output_type": "stream",
     "text": [
      "Epoch 2076: train=8.77503, val=8.62229, took 72.683 s\n",
      "  Validation Found 101777 of 108007, added 5525 (eff 94.23%) (0.276 FP/event)\n",
      "Result epoch:  2076\n",
      "Average Eff:  0\n",
      "Average FP Rate:  0\n"
     ]
    },
    {
     "data": {
      "application/vnd.jupyter.widget-view+json": {
       "model_id": "",
       "version_major": 2,
       "version_minor": 0
      },
      "text/plain": [
       "HBox(children=(FloatProgress(value=0.0, description='Training', layout=Layout(flex='2'), max=1250.0, style=Pro…"
      ]
     },
     "metadata": {},
     "output_type": "display_data"
    },
    {
     "name": "stdout",
     "output_type": "stream",
     "text": [
      "Epoch 2077: train=8.78058, val=8.63439, took 73.367 s\n",
      "  Validation Found 101709 of 108007, added 5424 (eff 94.17%) (0.271 FP/event)\n",
      "Result epoch:  2077\n",
      "Average Eff:  0\n",
      "Average FP Rate:  0\n"
     ]
    },
    {
     "data": {
      "application/vnd.jupyter.widget-view+json": {
       "model_id": "",
       "version_major": 2,
       "version_minor": 0
      },
      "text/plain": [
       "HBox(children=(FloatProgress(value=0.0, description='Training', layout=Layout(flex='2'), max=1250.0, style=Pro…"
      ]
     },
     "metadata": {},
     "output_type": "display_data"
    },
    {
     "name": "stdout",
     "output_type": "stream",
     "text": [
      "Epoch 2078: train=8.77053, val=8.62444, took 71.863 s\n",
      "  Validation Found 101686 of 108007, added 5378 (eff 94.15%) (0.269 FP/event)\n",
      "Result epoch:  2078\n",
      "Average Eff:  0\n",
      "Average FP Rate:  0\n"
     ]
    },
    {
     "data": {
      "application/vnd.jupyter.widget-view+json": {
       "model_id": "",
       "version_major": 2,
       "version_minor": 0
      },
      "text/plain": [
       "HBox(children=(FloatProgress(value=0.0, description='Training', layout=Layout(flex='2'), max=1250.0, style=Pro…"
      ]
     },
     "metadata": {},
     "output_type": "display_data"
    },
    {
     "name": "stdout",
     "output_type": "stream",
     "text": [
      "Epoch 2079: train=8.76768, val=8.63887, took 72.843 s\n",
      "  Validation Found 101655 of 108007, added 5339 (eff 94.12%) (0.267 FP/event)\n",
      "Result epoch:  2079\n",
      "Average Eff:  0\n",
      "Average FP Rate:  0\n"
     ]
    },
    {
     "data": {
      "application/vnd.jupyter.widget-view+json": {
       "model_id": "",
       "version_major": 2,
       "version_minor": 0
      },
      "text/plain": [
       "HBox(children=(FloatProgress(value=0.0, description='Training', layout=Layout(flex='2'), max=1250.0, style=Pro…"
      ]
     },
     "metadata": {},
     "output_type": "display_data"
    },
    {
     "name": "stdout",
     "output_type": "stream",
     "text": [
      "Epoch 2080: train=8.77402, val=8.63246, took 72.154 s\n",
      "  Validation Found 101677 of 108007, added 5369 (eff 94.14%) (0.268 FP/event)\n",
      "Result epoch:  2080\n",
      "Average Eff:  0\n",
      "Average FP Rate:  0\n"
     ]
    },
    {
     "data": {
      "application/vnd.jupyter.widget-view+json": {
       "model_id": "",
       "version_major": 2,
       "version_minor": 0
      },
      "text/plain": [
       "HBox(children=(FloatProgress(value=0.0, description='Training', layout=Layout(flex='2'), max=1250.0, style=Pro…"
      ]
     },
     "metadata": {},
     "output_type": "display_data"
    },
    {
     "name": "stdout",
     "output_type": "stream",
     "text": [
      "Epoch 2081: train=8.77803, val=8.6313, took 72.8 s\n",
      "  Validation Found 101688 of 108007, added 5358 (eff 94.15%) (0.268 FP/event)\n",
      "Result epoch:  2081\n",
      "Average Eff:  0\n",
      "Average FP Rate:  0\n"
     ]
    },
    {
     "data": {
      "application/vnd.jupyter.widget-view+json": {
       "model_id": "",
       "version_major": 2,
       "version_minor": 0
      },
      "text/plain": [
       "HBox(children=(FloatProgress(value=0.0, description='Training', layout=Layout(flex='2'), max=1250.0, style=Pro…"
      ]
     },
     "metadata": {},
     "output_type": "display_data"
    },
    {
     "name": "stdout",
     "output_type": "stream",
     "text": [
      "Epoch 2082: train=8.77991, val=8.63519, took 72.868 s\n",
      "  Validation Found 101768 of 108007, added 5496 (eff 94.22%) (0.275 FP/event)\n",
      "Result epoch:  2082\n",
      "Average Eff:  0\n",
      "Average FP Rate:  0\n"
     ]
    },
    {
     "data": {
      "application/vnd.jupyter.widget-view+json": {
       "model_id": "",
       "version_major": 2,
       "version_minor": 0
      },
      "text/plain": [
       "HBox(children=(FloatProgress(value=0.0, description='Training', layout=Layout(flex='2'), max=1250.0, style=Pro…"
      ]
     },
     "metadata": {},
     "output_type": "display_data"
    },
    {
     "name": "stdout",
     "output_type": "stream",
     "text": [
      "Epoch 2083: train=8.77412, val=8.63011, took 72.817 s\n",
      "  Validation Found 101680 of 108007, added 5351 (eff 94.14%) (0.268 FP/event)\n",
      "Result epoch:  2083\n",
      "Average Eff:  0\n",
      "Average FP Rate:  0\n"
     ]
    },
    {
     "data": {
      "application/vnd.jupyter.widget-view+json": {
       "model_id": "",
       "version_major": 2,
       "version_minor": 0
      },
      "text/plain": [
       "HBox(children=(FloatProgress(value=0.0, description='Training', layout=Layout(flex='2'), max=1250.0, style=Pro…"
      ]
     },
     "metadata": {},
     "output_type": "display_data"
    },
    {
     "name": "stdout",
     "output_type": "stream",
     "text": [
      "Epoch 2084: train=8.77827, val=8.63295, took 72.017 s\n",
      "  Validation Found 101760 of 108007, added 5512 (eff 94.22%) (0.276 FP/event)\n",
      "Result epoch:  2084\n",
      "Average Eff:  0\n",
      "Average FP Rate:  0\n"
     ]
    },
    {
     "data": {
      "application/vnd.jupyter.widget-view+json": {
       "model_id": "",
       "version_major": 2,
       "version_minor": 0
      },
      "text/plain": [
       "HBox(children=(FloatProgress(value=0.0, description='Training', layout=Layout(flex='2'), max=1250.0, style=Pro…"
      ]
     },
     "metadata": {},
     "output_type": "display_data"
    },
    {
     "name": "stdout",
     "output_type": "stream",
     "text": [
      "Epoch 2085: train=8.77039, val=8.63905, took 72.243 s\n",
      "  Validation Found 101752 of 108007, added 5505 (eff 94.21%) (0.275 FP/event)\n",
      "Result epoch:  2085\n",
      "Average Eff:  0\n",
      "Average FP Rate:  0\n"
     ]
    },
    {
     "data": {
      "application/vnd.jupyter.widget-view+json": {
       "model_id": "",
       "version_major": 2,
       "version_minor": 0
      },
      "text/plain": [
       "HBox(children=(FloatProgress(value=0.0, description='Training', layout=Layout(flex='2'), max=1250.0, style=Pro…"
      ]
     },
     "metadata": {},
     "output_type": "display_data"
    },
    {
     "name": "stdout",
     "output_type": "stream",
     "text": [
      "Epoch 2086: train=8.77557, val=8.62856, took 71.71 s\n",
      "  Validation Found 101706 of 108007, added 5390 (eff 94.17%) (0.269 FP/event)\n",
      "Result epoch:  2086\n",
      "Average Eff:  0\n",
      "Average FP Rate:  0\n"
     ]
    },
    {
     "data": {
      "application/vnd.jupyter.widget-view+json": {
       "model_id": "",
       "version_major": 2,
       "version_minor": 0
      },
      "text/plain": [
       "HBox(children=(FloatProgress(value=0.0, description='Training', layout=Layout(flex='2'), max=1250.0, style=Pro…"
      ]
     },
     "metadata": {},
     "output_type": "display_data"
    },
    {
     "name": "stdout",
     "output_type": "stream",
     "text": [
      "Epoch 2087: train=8.77914, val=8.62519, took 72.468 s\n",
      "  Validation Found 101770 of 108007, added 5521 (eff 94.23%) (0.276 FP/event)\n",
      "Result epoch:  2087\n",
      "Average Eff:  0\n",
      "Average FP Rate:  0\n"
     ]
    },
    {
     "data": {
      "application/vnd.jupyter.widget-view+json": {
       "model_id": "",
       "version_major": 2,
       "version_minor": 0
      },
      "text/plain": [
       "HBox(children=(FloatProgress(value=0.0, description='Training', layout=Layout(flex='2'), max=1250.0, style=Pro…"
      ]
     },
     "metadata": {},
     "output_type": "display_data"
    },
    {
     "name": "stdout",
     "output_type": "stream",
     "text": [
      "Epoch 2088: train=8.77361, val=8.63258, took 72.253 s\n",
      "  Validation Found 101806 of 108007, added 5624 (eff 94.26%) (0.281 FP/event)\n",
      "Result epoch:  2088\n",
      "Average Eff:  0\n",
      "Average FP Rate:  0\n"
     ]
    },
    {
     "data": {
      "application/vnd.jupyter.widget-view+json": {
       "model_id": "",
       "version_major": 2,
       "version_minor": 0
      },
      "text/plain": [
       "HBox(children=(FloatProgress(value=0.0, description='Training', layout=Layout(flex='2'), max=1250.0, style=Pro…"
      ]
     },
     "metadata": {},
     "output_type": "display_data"
    },
    {
     "name": "stdout",
     "output_type": "stream",
     "text": [
      "Epoch 2089: train=8.77306, val=8.64159, took 72.005 s\n",
      "  Validation Found 101831 of 108007, added 5716 (eff 94.28%) (0.286 FP/event)\n",
      "Result epoch:  2089\n",
      "Average Eff:  0\n",
      "Average FP Rate:  0\n"
     ]
    },
    {
     "data": {
      "application/vnd.jupyter.widget-view+json": {
       "model_id": "",
       "version_major": 2,
       "version_minor": 0
      },
      "text/plain": [
       "HBox(children=(FloatProgress(value=0.0, description='Training', layout=Layout(flex='2'), max=1250.0, style=Pro…"
      ]
     },
     "metadata": {},
     "output_type": "display_data"
    },
    {
     "name": "stdout",
     "output_type": "stream",
     "text": [
      "Epoch 2090: train=8.77447, val=8.62372, took 72.004 s\n",
      "  Validation Found 101715 of 108007, added 5417 (eff 94.17%) (0.271 FP/event)\n",
      "Result epoch:  2090\n",
      "Average Eff:  0\n",
      "Average FP Rate:  0\n"
     ]
    },
    {
     "data": {
      "application/vnd.jupyter.widget-view+json": {
       "model_id": "",
       "version_major": 2,
       "version_minor": 0
      },
      "text/plain": [
       "HBox(children=(FloatProgress(value=0.0, description='Training', layout=Layout(flex='2'), max=1250.0, style=Pro…"
      ]
     },
     "metadata": {},
     "output_type": "display_data"
    },
    {
     "name": "stdout",
     "output_type": "stream",
     "text": [
      "Epoch 2091: train=8.78007, val=8.63518, took 71.657 s\n",
      "  Validation Found 101726 of 108007, added 5472 (eff 94.18%) (0.274 FP/event)\n",
      "Result epoch:  2091\n",
      "Average Eff:  0\n",
      "Average FP Rate:  0\n"
     ]
    },
    {
     "data": {
      "application/vnd.jupyter.widget-view+json": {
       "model_id": "",
       "version_major": 2,
       "version_minor": 0
      },
      "text/plain": [
       "HBox(children=(FloatProgress(value=0.0, description='Training', layout=Layout(flex='2'), max=1250.0, style=Pro…"
      ]
     },
     "metadata": {},
     "output_type": "display_data"
    },
    {
     "name": "stdout",
     "output_type": "stream",
     "text": [
      "Epoch 2092: train=8.77301, val=8.62433, took 71.499 s\n",
      "  Validation Found 101780 of 108007, added 5584 (eff 94.23%) (0.279 FP/event)\n",
      "Result epoch:  2092\n",
      "Average Eff:  0\n",
      "Average FP Rate:  0\n"
     ]
    },
    {
     "data": {
      "application/vnd.jupyter.widget-view+json": {
       "model_id": "",
       "version_major": 2,
       "version_minor": 0
      },
      "text/plain": [
       "HBox(children=(FloatProgress(value=0.0, description='Training', layout=Layout(flex='2'), max=1250.0, style=Pro…"
      ]
     },
     "metadata": {},
     "output_type": "display_data"
    },
    {
     "name": "stdout",
     "output_type": "stream",
     "text": [
      "Epoch 2093: train=8.77273, val=8.63309, took 72.797 s\n",
      "  Validation Found 101763 of 108007, added 5517 (eff 94.22%) (0.276 FP/event)\n",
      "Result epoch:  2093\n",
      "Average Eff:  0\n",
      "Average FP Rate:  0\n"
     ]
    },
    {
     "data": {
      "application/vnd.jupyter.widget-view+json": {
       "model_id": "",
       "version_major": 2,
       "version_minor": 0
      },
      "text/plain": [
       "HBox(children=(FloatProgress(value=0.0, description='Training', layout=Layout(flex='2'), max=1250.0, style=Pro…"
      ]
     },
     "metadata": {},
     "output_type": "display_data"
    },
    {
     "name": "stdout",
     "output_type": "stream",
     "text": [
      "Epoch 2094: train=8.77415, val=8.62716, took 72.115 s\n",
      "  Validation Found 101703 of 108007, added 5399 (eff 94.16%) (0.27 FP/event)\n",
      "Result epoch:  2094\n",
      "Average Eff:  0\n",
      "Average FP Rate:  0\n"
     ]
    },
    {
     "data": {
      "application/vnd.jupyter.widget-view+json": {
       "model_id": "",
       "version_major": 2,
       "version_minor": 0
      },
      "text/plain": [
       "HBox(children=(FloatProgress(value=0.0, description='Training', layout=Layout(flex='2'), max=1250.0, style=Pro…"
      ]
     },
     "metadata": {},
     "output_type": "display_data"
    },
    {
     "name": "stdout",
     "output_type": "stream",
     "text": [
      "Epoch 2095: train=8.77419, val=8.62901, took 71.862 s\n",
      "  Validation Found 101721 of 108007, added 5417 (eff 94.18%) (0.271 FP/event)\n",
      "Result epoch:  2095\n",
      "Average Eff:  0\n",
      "Average FP Rate:  0\n"
     ]
    },
    {
     "data": {
      "application/vnd.jupyter.widget-view+json": {
       "model_id": "",
       "version_major": 2,
       "version_minor": 0
      },
      "text/plain": [
       "HBox(children=(FloatProgress(value=0.0, description='Training', layout=Layout(flex='2'), max=1250.0, style=Pro…"
      ]
     },
     "metadata": {},
     "output_type": "display_data"
    },
    {
     "name": "stdout",
     "output_type": "stream",
     "text": [
      "Epoch 2096: train=8.77338, val=8.62796, took 72.636 s\n",
      "  Validation Found 101663 of 108007, added 5338 (eff 94.13%) (0.267 FP/event)\n",
      "Result epoch:  2096\n",
      "Average Eff:  0\n",
      "Average FP Rate:  0\n"
     ]
    },
    {
     "data": {
      "application/vnd.jupyter.widget-view+json": {
       "model_id": "",
       "version_major": 2,
       "version_minor": 0
      },
      "text/plain": [
       "HBox(children=(FloatProgress(value=0.0, description='Training', layout=Layout(flex='2'), max=1250.0, style=Pro…"
      ]
     },
     "metadata": {},
     "output_type": "display_data"
    },
    {
     "name": "stdout",
     "output_type": "stream",
     "text": [
      "Epoch 2097: train=8.77693, val=8.63133, took 73.044 s\n",
      "  Validation Found 101581 of 108007, added 5235 (eff 94.05%) (0.262 FP/event)\n",
      "Result epoch:  2097\n",
      "Average Eff:  0\n",
      "Average FP Rate:  0\n"
     ]
    },
    {
     "data": {
      "application/vnd.jupyter.widget-view+json": {
       "model_id": "",
       "version_major": 2,
       "version_minor": 0
      },
      "text/plain": [
       "HBox(children=(FloatProgress(value=0.0, description='Training', layout=Layout(flex='2'), max=1250.0, style=Pro…"
      ]
     },
     "metadata": {},
     "output_type": "display_data"
    },
    {
     "name": "stdout",
     "output_type": "stream",
     "text": [
      "Epoch 2098: train=8.77117, val=8.63979, took 71.911 s\n",
      "  Validation Found 101612 of 108007, added 5312 (eff 94.08%) (0.266 FP/event)\n",
      "Result epoch:  2098\n",
      "Average Eff:  0\n",
      "Average FP Rate:  0\n"
     ]
    },
    {
     "data": {
      "application/vnd.jupyter.widget-view+json": {
       "model_id": "",
       "version_major": 2,
       "version_minor": 0
      },
      "text/plain": [
       "HBox(children=(FloatProgress(value=0.0, description='Training', layout=Layout(flex='2'), max=1250.0, style=Pro…"
      ]
     },
     "metadata": {},
     "output_type": "display_data"
    },
    {
     "name": "stdout",
     "output_type": "stream",
     "text": [
      "Epoch 2099: train=8.77842, val=8.63326, took 72.543 s\n",
      "  Validation Found 101693 of 108007, added 5382 (eff 94.15%) (0.269 FP/event)\n",
      "Result epoch:  2099\n",
      "Average Eff:  0\n",
      "Average FP Rate:  0\n"
     ]
    },
    {
     "data": {
      "application/vnd.jupyter.widget-view+json": {
       "model_id": "",
       "version_major": 2,
       "version_minor": 0
      },
      "text/plain": [
       "HBox(children=(FloatProgress(value=0.0, description='Training', layout=Layout(flex='2'), max=1250.0, style=Pro…"
      ]
     },
     "metadata": {},
     "output_type": "display_data"
    },
    {
     "name": "stdout",
     "output_type": "stream",
     "text": [
      "Epoch 2100: train=8.77533, val=8.622, took 71.603 s\n",
      "  Validation Found 101642 of 108007, added 5310 (eff 94.11%) (0.265 FP/event)\n",
      "Result epoch:  2100\n",
      "Average Eff:  0\n",
      "Average FP Rate:  0\n"
     ]
    },
    {
     "data": {
      "application/vnd.jupyter.widget-view+json": {
       "model_id": "",
       "version_major": 2,
       "version_minor": 0
      },
      "text/plain": [
       "HBox(children=(FloatProgress(value=0.0, description='Training', layout=Layout(flex='2'), max=1250.0, style=Pro…"
      ]
     },
     "metadata": {},
     "output_type": "display_data"
    },
    {
     "name": "stdout",
     "output_type": "stream",
     "text": [
      "Epoch 2101: train=8.77375, val=8.62695, took 72.993 s\n",
      "  Validation Found 101660 of 108007, added 5328 (eff 94.12%) (0.266 FP/event)\n",
      "Result epoch:  2101\n",
      "Average Eff:  0\n",
      "Average FP Rate:  0\n"
     ]
    },
    {
     "data": {
      "application/vnd.jupyter.widget-view+json": {
       "model_id": "",
       "version_major": 2,
       "version_minor": 0
      },
      "text/plain": [
       "HBox(children=(FloatProgress(value=0.0, description='Training', layout=Layout(flex='2'), max=1250.0, style=Pro…"
      ]
     },
     "metadata": {},
     "output_type": "display_data"
    },
    {
     "name": "stdout",
     "output_type": "stream",
     "text": [
      "Epoch 2102: train=8.78184, val=8.62964, took 72.217 s\n",
      "  Validation Found 101745 of 108007, added 5473 (eff 94.20%) (0.274 FP/event)\n",
      "Result epoch:  2102\n",
      "Average Eff:  0\n",
      "Average FP Rate:  0\n"
     ]
    },
    {
     "data": {
      "application/vnd.jupyter.widget-view+json": {
       "model_id": "",
       "version_major": 2,
       "version_minor": 0
      },
      "text/plain": [
       "HBox(children=(FloatProgress(value=0.0, description='Training', layout=Layout(flex='2'), max=1250.0, style=Pro…"
      ]
     },
     "metadata": {},
     "output_type": "display_data"
    },
    {
     "name": "stdout",
     "output_type": "stream",
     "text": [
      "Epoch 2103: train=8.77261, val=8.63532, took 73.291 s\n",
      "  Validation Found 101697 of 108007, added 5422 (eff 94.16%) (0.271 FP/event)\n",
      "Result epoch:  2103\n",
      "Average Eff:  0\n",
      "Average FP Rate:  0\n"
     ]
    },
    {
     "data": {
      "application/vnd.jupyter.widget-view+json": {
       "model_id": "",
       "version_major": 2,
       "version_minor": 0
      },
      "text/plain": [
       "HBox(children=(FloatProgress(value=0.0, description='Training', layout=Layout(flex='2'), max=1250.0, style=Pro…"
      ]
     },
     "metadata": {},
     "output_type": "display_data"
    },
    {
     "name": "stdout",
     "output_type": "stream",
     "text": [
      "Epoch 2104: train=8.77484, val=8.62695, took 72.32 s\n",
      "  Validation Found 101673 of 108007, added 5345 (eff 94.14%) (0.267 FP/event)\n",
      "Result epoch:  2104\n",
      "Average Eff:  0\n",
      "Average FP Rate:  0\n"
     ]
    },
    {
     "data": {
      "application/vnd.jupyter.widget-view+json": {
       "model_id": "",
       "version_major": 2,
       "version_minor": 0
      },
      "text/plain": [
       "HBox(children=(FloatProgress(value=0.0, description='Training', layout=Layout(flex='2'), max=1250.0, style=Pro…"
      ]
     },
     "metadata": {},
     "output_type": "display_data"
    },
    {
     "name": "stdout",
     "output_type": "stream",
     "text": [
      "Epoch 2105: train=8.76683, val=8.62655, took 72.3 s\n",
      "  Validation Found 101768 of 108007, added 5519 (eff 94.22%) (0.276 FP/event)\n",
      "Result epoch:  2105\n",
      "Average Eff:  0\n",
      "Average FP Rate:  0\n"
     ]
    },
    {
     "data": {
      "application/vnd.jupyter.widget-view+json": {
       "model_id": "",
       "version_major": 2,
       "version_minor": 0
      },
      "text/plain": [
       "HBox(children=(FloatProgress(value=0.0, description='Training', layout=Layout(flex='2'), max=1250.0, style=Pro…"
      ]
     },
     "metadata": {},
     "output_type": "display_data"
    },
    {
     "name": "stdout",
     "output_type": "stream",
     "text": [
      "Epoch 2106: train=8.77582, val=8.63043, took 70.855 s\n",
      "  Validation Found 101731 of 108007, added 5443 (eff 94.19%) (0.272 FP/event)\n",
      "Result epoch:  2106\n",
      "Average Eff:  0\n",
      "Average FP Rate:  0\n"
     ]
    },
    {
     "data": {
      "application/vnd.jupyter.widget-view+json": {
       "model_id": "",
       "version_major": 2,
       "version_minor": 0
      },
      "text/plain": [
       "HBox(children=(FloatProgress(value=0.0, description='Training', layout=Layout(flex='2'), max=1250.0, style=Pro…"
      ]
     },
     "metadata": {},
     "output_type": "display_data"
    },
    {
     "name": "stdout",
     "output_type": "stream",
     "text": [
      "Epoch 2107: train=8.77286, val=8.62957, took 72.718 s\n",
      "  Validation Found 101717 of 108007, added 5417 (eff 94.18%) (0.271 FP/event)\n",
      "Result epoch:  2107\n",
      "Average Eff:  0\n",
      "Average FP Rate:  0\n"
     ]
    },
    {
     "data": {
      "application/vnd.jupyter.widget-view+json": {
       "model_id": "",
       "version_major": 2,
       "version_minor": 0
      },
      "text/plain": [
       "HBox(children=(FloatProgress(value=0.0, description='Training', layout=Layout(flex='2'), max=1250.0, style=Pro…"
      ]
     },
     "metadata": {},
     "output_type": "display_data"
    },
    {
     "name": "stdout",
     "output_type": "stream",
     "text": [
      "Epoch 2108: train=8.78547, val=8.62599, took 72.284 s\n",
      "  Validation Found 101737 of 108007, added 5444 (eff 94.19%) (0.272 FP/event)\n",
      "Result epoch:  2108\n",
      "Average Eff:  0\n",
      "Average FP Rate:  0\n"
     ]
    },
    {
     "data": {
      "application/vnd.jupyter.widget-view+json": {
       "model_id": "",
       "version_major": 2,
       "version_minor": 0
      },
      "text/plain": [
       "HBox(children=(FloatProgress(value=0.0, description='Training', layout=Layout(flex='2'), max=1250.0, style=Pro…"
      ]
     },
     "metadata": {},
     "output_type": "display_data"
    },
    {
     "name": "stdout",
     "output_type": "stream",
     "text": [
      "Epoch 2109: train=8.77673, val=8.63862, took 71.879 s\n",
      "  Validation Found 101572 of 108007, added 5216 (eff 94.04%) (0.261 FP/event)\n",
      "Result epoch:  2109\n",
      "Average Eff:  0\n",
      "Average FP Rate:  0\n"
     ]
    },
    {
     "data": {
      "application/vnd.jupyter.widget-view+json": {
       "model_id": "",
       "version_major": 2,
       "version_minor": 0
      },
      "text/plain": [
       "HBox(children=(FloatProgress(value=0.0, description='Training', layout=Layout(flex='2'), max=1250.0, style=Pro…"
      ]
     },
     "metadata": {},
     "output_type": "display_data"
    },
    {
     "name": "stdout",
     "output_type": "stream",
     "text": [
      "Epoch 2110: train=8.77686, val=8.6276, took 71.225 s\n",
      "  Validation Found 101726 of 108007, added 5425 (eff 94.18%) (0.271 FP/event)\n",
      "Result epoch:  2110\n",
      "Average Eff:  0\n",
      "Average FP Rate:  0\n"
     ]
    },
    {
     "data": {
      "application/vnd.jupyter.widget-view+json": {
       "model_id": "",
       "version_major": 2,
       "version_minor": 0
      },
      "text/plain": [
       "HBox(children=(FloatProgress(value=0.0, description='Training', layout=Layout(flex='2'), max=1250.0, style=Pro…"
      ]
     },
     "metadata": {},
     "output_type": "display_data"
    },
    {
     "name": "stdout",
     "output_type": "stream",
     "text": [
      "Epoch 2111: train=8.77806, val=8.62566, took 71.098 s\n",
      "  Validation Found 101783 of 108007, added 5536 (eff 94.24%) (0.277 FP/event)\n",
      "Result epoch:  2111\n",
      "Average Eff:  0\n",
      "Average FP Rate:  0\n"
     ]
    },
    {
     "data": {
      "application/vnd.jupyter.widget-view+json": {
       "model_id": "",
       "version_major": 2,
       "version_minor": 0
      },
      "text/plain": [
       "HBox(children=(FloatProgress(value=0.0, description='Training', layout=Layout(flex='2'), max=1250.0, style=Pro…"
      ]
     },
     "metadata": {},
     "output_type": "display_data"
    },
    {
     "name": "stdout",
     "output_type": "stream",
     "text": [
      "Epoch 2112: train=8.77196, val=8.63558, took 72.165 s\n",
      "  Validation Found 101779 of 108007, added 5558 (eff 94.23%) (0.278 FP/event)\n",
      "Result epoch:  2112\n",
      "Average Eff:  0\n",
      "Average FP Rate:  0\n"
     ]
    },
    {
     "data": {
      "application/vnd.jupyter.widget-view+json": {
       "model_id": "",
       "version_major": 2,
       "version_minor": 0
      },
      "text/plain": [
       "HBox(children=(FloatProgress(value=0.0, description='Training', layout=Layout(flex='2'), max=1250.0, style=Pro…"
      ]
     },
     "metadata": {},
     "output_type": "display_data"
    },
    {
     "name": "stdout",
     "output_type": "stream",
     "text": [
      "Epoch 2113: train=8.77264, val=8.63718, took 72.449 s\n",
      "  Validation Found 101758 of 108007, added 5533 (eff 94.21%) (0.277 FP/event)\n",
      "Result epoch:  2113\n",
      "Average Eff:  0\n",
      "Average FP Rate:  0\n"
     ]
    },
    {
     "data": {
      "application/vnd.jupyter.widget-view+json": {
       "model_id": "",
       "version_major": 2,
       "version_minor": 0
      },
      "text/plain": [
       "HBox(children=(FloatProgress(value=0.0, description='Training', layout=Layout(flex='2'), max=1250.0, style=Pro…"
      ]
     },
     "metadata": {},
     "output_type": "display_data"
    },
    {
     "name": "stdout",
     "output_type": "stream",
     "text": [
      "Epoch 2114: train=8.77579, val=8.6211, took 70.535 s\n",
      "  Validation Found 101746 of 108007, added 5454 (eff 94.20%) (0.273 FP/event)\n",
      "Result epoch:  2114\n",
      "Average Eff:  0\n",
      "Average FP Rate:  0\n"
     ]
    },
    {
     "data": {
      "application/vnd.jupyter.widget-view+json": {
       "model_id": "",
       "version_major": 2,
       "version_minor": 0
      },
      "text/plain": [
       "HBox(children=(FloatProgress(value=0.0, description='Training', layout=Layout(flex='2'), max=1250.0, style=Pro…"
      ]
     },
     "metadata": {},
     "output_type": "display_data"
    },
    {
     "name": "stdout",
     "output_type": "stream",
     "text": [
      "Epoch 2115: train=8.77503, val=8.62064, took 71.497 s\n",
      "  Validation Found 101761 of 108007, added 5502 (eff 94.22%) (0.275 FP/event)\n",
      "Result epoch:  2115\n",
      "Average Eff:  0\n",
      "Average FP Rate:  0\n"
     ]
    },
    {
     "data": {
      "application/vnd.jupyter.widget-view+json": {
       "model_id": "",
       "version_major": 2,
       "version_minor": 0
      },
      "text/plain": [
       "HBox(children=(FloatProgress(value=0.0, description='Training', layout=Layout(flex='2'), max=1250.0, style=Pro…"
      ]
     },
     "metadata": {},
     "output_type": "display_data"
    },
    {
     "name": "stdout",
     "output_type": "stream",
     "text": [
      "Epoch 2116: train=8.7708, val=8.62703, took 71.604 s\n",
      "  Validation Found 101719 of 108007, added 5444 (eff 94.18%) (0.272 FP/event)\n",
      "Result epoch:  2116\n",
      "Average Eff:  0\n",
      "Average FP Rate:  0\n"
     ]
    },
    {
     "data": {
      "application/vnd.jupyter.widget-view+json": {
       "model_id": "",
       "version_major": 2,
       "version_minor": 0
      },
      "text/plain": [
       "HBox(children=(FloatProgress(value=0.0, description='Training', layout=Layout(flex='2'), max=1250.0, style=Pro…"
      ]
     },
     "metadata": {},
     "output_type": "display_data"
    },
    {
     "name": "stdout",
     "output_type": "stream",
     "text": [
      "Epoch 2117: train=8.77809, val=8.63127, took 73.372 s\n",
      "  Validation Found 101659 of 108007, added 5337 (eff 94.12%) (0.267 FP/event)\n",
      "Result epoch:  2117\n",
      "Average Eff:  0\n",
      "Average FP Rate:  0\n"
     ]
    },
    {
     "data": {
      "application/vnd.jupyter.widget-view+json": {
       "model_id": "",
       "version_major": 2,
       "version_minor": 0
      },
      "text/plain": [
       "HBox(children=(FloatProgress(value=0.0, description='Training', layout=Layout(flex='2'), max=1250.0, style=Pro…"
      ]
     },
     "metadata": {},
     "output_type": "display_data"
    },
    {
     "name": "stdout",
     "output_type": "stream",
     "text": [
      "Epoch 2118: train=8.76951, val=8.63693, took 72.112 s\n",
      "  Validation Found 101684 of 108007, added 5380 (eff 94.15%) (0.269 FP/event)\n",
      "Result epoch:  2118\n",
      "Average Eff:  0\n",
      "Average FP Rate:  0\n"
     ]
    },
    {
     "data": {
      "application/vnd.jupyter.widget-view+json": {
       "model_id": "",
       "version_major": 2,
       "version_minor": 0
      },
      "text/plain": [
       "HBox(children=(FloatProgress(value=0.0, description='Training', layout=Layout(flex='2'), max=1250.0, style=Pro…"
      ]
     },
     "metadata": {},
     "output_type": "display_data"
    },
    {
     "name": "stdout",
     "output_type": "stream",
     "text": [
      "Epoch 2119: train=8.77937, val=8.62703, took 72.68 s\n",
      "  Validation Found 101727 of 108007, added 5404 (eff 94.19%) (0.27 FP/event)\n",
      "Result epoch:  2119\n",
      "Average Eff:  0\n",
      "Average FP Rate:  0\n"
     ]
    },
    {
     "data": {
      "application/vnd.jupyter.widget-view+json": {
       "model_id": "",
       "version_major": 2,
       "version_minor": 0
      },
      "text/plain": [
       "HBox(children=(FloatProgress(value=0.0, description='Training', layout=Layout(flex='2'), max=1250.0, style=Pro…"
      ]
     },
     "metadata": {},
     "output_type": "display_data"
    },
    {
     "name": "stdout",
     "output_type": "stream",
     "text": [
      "Epoch 2120: train=8.77779, val=8.6258, took 72.158 s\n",
      "  Validation Found 101768 of 108007, added 5525 (eff 94.22%) (0.276 FP/event)\n",
      "Result epoch:  2120\n",
      "Average Eff:  0\n",
      "Average FP Rate:  0\n"
     ]
    },
    {
     "data": {
      "application/vnd.jupyter.widget-view+json": {
       "model_id": "",
       "version_major": 2,
       "version_minor": 0
      },
      "text/plain": [
       "HBox(children=(FloatProgress(value=0.0, description='Training', layout=Layout(flex='2'), max=1250.0, style=Pro…"
      ]
     },
     "metadata": {},
     "output_type": "display_data"
    },
    {
     "name": "stdout",
     "output_type": "stream",
     "text": [
      "Epoch 2121: train=8.77093, val=8.61744, took 72.01 s\n",
      "  Validation Found 101750 of 108007, added 5456 (eff 94.21%) (0.273 FP/event)\n",
      "Result epoch:  2121\n",
      "Average Eff:  0\n",
      "Average FP Rate:  0\n"
     ]
    },
    {
     "data": {
      "application/vnd.jupyter.widget-view+json": {
       "model_id": "",
       "version_major": 2,
       "version_minor": 0
      },
      "text/plain": [
       "HBox(children=(FloatProgress(value=0.0, description='Training', layout=Layout(flex='2'), max=1250.0, style=Pro…"
      ]
     },
     "metadata": {},
     "output_type": "display_data"
    },
    {
     "name": "stdout",
     "output_type": "stream",
     "text": [
      "Epoch 2122: train=8.77431, val=8.63099, took 72.172 s\n",
      "  Validation Found 101663 of 108007, added 5331 (eff 94.13%) (0.267 FP/event)\n",
      "Result epoch:  2122\n",
      "Average Eff:  0\n",
      "Average FP Rate:  0\n"
     ]
    },
    {
     "data": {
      "application/vnd.jupyter.widget-view+json": {
       "model_id": "",
       "version_major": 2,
       "version_minor": 0
      },
      "text/plain": [
       "HBox(children=(FloatProgress(value=0.0, description='Training', layout=Layout(flex='2'), max=1250.0, style=Pro…"
      ]
     },
     "metadata": {},
     "output_type": "display_data"
    },
    {
     "name": "stdout",
     "output_type": "stream",
     "text": [
      "Epoch 2123: train=8.77112, val=8.63155, took 72.6 s\n",
      "  Validation Found 101696 of 108007, added 5397 (eff 94.16%) (0.27 FP/event)\n",
      "Result epoch:  2123\n",
      "Average Eff:  0\n",
      "Average FP Rate:  0\n"
     ]
    },
    {
     "data": {
      "application/vnd.jupyter.widget-view+json": {
       "model_id": "",
       "version_major": 2,
       "version_minor": 0
      },
      "text/plain": [
       "HBox(children=(FloatProgress(value=0.0, description='Training', layout=Layout(flex='2'), max=1250.0, style=Pro…"
      ]
     },
     "metadata": {},
     "output_type": "display_data"
    },
    {
     "name": "stdout",
     "output_type": "stream",
     "text": [
      "Epoch 2124: train=8.77429, val=8.62802, took 71.704 s\n",
      "  Validation Found 101750 of 108007, added 5445 (eff 94.21%) (0.272 FP/event)\n",
      "Result epoch:  2124\n",
      "Average Eff:  0\n",
      "Average FP Rate:  0\n"
     ]
    },
    {
     "data": {
      "application/vnd.jupyter.widget-view+json": {
       "model_id": "",
       "version_major": 2,
       "version_minor": 0
      },
      "text/plain": [
       "HBox(children=(FloatProgress(value=0.0, description='Training', layout=Layout(flex='2'), max=1250.0, style=Pro…"
      ]
     },
     "metadata": {},
     "output_type": "display_data"
    },
    {
     "name": "stdout",
     "output_type": "stream",
     "text": [
      "Epoch 2125: train=8.77777, val=8.63454, took 72.039 s\n",
      "  Validation Found 101730 of 108007, added 5419 (eff 94.19%) (0.271 FP/event)\n",
      "Result epoch:  2125\n",
      "Average Eff:  0\n",
      "Average FP Rate:  0\n"
     ]
    },
    {
     "data": {
      "application/vnd.jupyter.widget-view+json": {
       "model_id": "",
       "version_major": 2,
       "version_minor": 0
      },
      "text/plain": [
       "HBox(children=(FloatProgress(value=0.0, description='Training', layout=Layout(flex='2'), max=1250.0, style=Pro…"
      ]
     },
     "metadata": {},
     "output_type": "display_data"
    },
    {
     "name": "stdout",
     "output_type": "stream",
     "text": [
      "Epoch 2126: train=8.77384, val=8.61985, took 71.98 s\n",
      "  Validation Found 101668 of 108007, added 5329 (eff 94.13%) (0.266 FP/event)\n",
      "Result epoch:  2126\n",
      "Average Eff:  0\n",
      "Average FP Rate:  0\n"
     ]
    },
    {
     "data": {
      "application/vnd.jupyter.widget-view+json": {
       "model_id": "",
       "version_major": 2,
       "version_minor": 0
      },
      "text/plain": [
       "HBox(children=(FloatProgress(value=0.0, description='Training', layout=Layout(flex='2'), max=1250.0, style=Pro…"
      ]
     },
     "metadata": {},
     "output_type": "display_data"
    },
    {
     "name": "stdout",
     "output_type": "stream",
     "text": [
      "Epoch 2127: train=8.77816, val=8.62633, took 72.918 s\n",
      "  Validation Found 101750 of 108007, added 5489 (eff 94.21%) (0.274 FP/event)\n",
      "Result epoch:  2127\n",
      "Average Eff:  0\n",
      "Average FP Rate:  0\n"
     ]
    },
    {
     "data": {
      "application/vnd.jupyter.widget-view+json": {
       "model_id": "",
       "version_major": 2,
       "version_minor": 0
      },
      "text/plain": [
       "HBox(children=(FloatProgress(value=0.0, description='Training', layout=Layout(flex='2'), max=1250.0, style=Pro…"
      ]
     },
     "metadata": {},
     "output_type": "display_data"
    },
    {
     "name": "stdout",
     "output_type": "stream",
     "text": [
      "Epoch 2128: train=8.77394, val=8.63738, took 73.11 s\n",
      "  Validation Found 101719 of 108007, added 5410 (eff 94.18%) (0.27 FP/event)\n",
      "Result epoch:  2128\n",
      "Average Eff:  0\n",
      "Average FP Rate:  0\n"
     ]
    },
    {
     "data": {
      "application/vnd.jupyter.widget-view+json": {
       "model_id": "",
       "version_major": 2,
       "version_minor": 0
      },
      "text/plain": [
       "HBox(children=(FloatProgress(value=0.0, description='Training', layout=Layout(flex='2'), max=1250.0, style=Pro…"
      ]
     },
     "metadata": {},
     "output_type": "display_data"
    },
    {
     "name": "stdout",
     "output_type": "stream",
     "text": [
      "Epoch 2129: train=8.7769, val=8.62506, took 71.52 s\n",
      "  Validation Found 101789 of 108007, added 5561 (eff 94.24%) (0.278 FP/event)\n",
      "Result epoch:  2129\n",
      "Average Eff:  0\n",
      "Average FP Rate:  0\n"
     ]
    },
    {
     "data": {
      "application/vnd.jupyter.widget-view+json": {
       "model_id": "",
       "version_major": 2,
       "version_minor": 0
      },
      "text/plain": [
       "HBox(children=(FloatProgress(value=0.0, description='Training', layout=Layout(flex='2'), max=1250.0, style=Pro…"
      ]
     },
     "metadata": {},
     "output_type": "display_data"
    },
    {
     "name": "stdout",
     "output_type": "stream",
     "text": [
      "Epoch 2130: train=8.77877, val=8.62105, took 71.304 s\n",
      "  Validation Found 101751 of 108007, added 5463 (eff 94.21%) (0.273 FP/event)\n",
      "Result epoch:  2130\n",
      "Average Eff:  0\n",
      "Average FP Rate:  0\n"
     ]
    },
    {
     "data": {
      "application/vnd.jupyter.widget-view+json": {
       "model_id": "",
       "version_major": 2,
       "version_minor": 0
      },
      "text/plain": [
       "HBox(children=(FloatProgress(value=0.0, description='Training', layout=Layout(flex='2'), max=1250.0, style=Pro…"
      ]
     },
     "metadata": {},
     "output_type": "display_data"
    },
    {
     "name": "stdout",
     "output_type": "stream",
     "text": [
      "Epoch 2131: train=8.77967, val=8.63282, took 70.711 s\n",
      "  Validation Found 101677 of 108007, added 5379 (eff 94.14%) (0.269 FP/event)\n",
      "Result epoch:  2131\n",
      "Average Eff:  0\n",
      "Average FP Rate:  0\n"
     ]
    },
    {
     "data": {
      "application/vnd.jupyter.widget-view+json": {
       "model_id": "",
       "version_major": 2,
       "version_minor": 0
      },
      "text/plain": [
       "HBox(children=(FloatProgress(value=0.0, description='Training', layout=Layout(flex='2'), max=1250.0, style=Pro…"
      ]
     },
     "metadata": {},
     "output_type": "display_data"
    },
    {
     "name": "stdout",
     "output_type": "stream",
     "text": [
      "Epoch 2132: train=8.77336, val=8.62581, took 70.655 s\n",
      "  Validation Found 101710 of 108007, added 5390 (eff 94.17%) (0.269 FP/event)\n",
      "Result epoch:  2132\n",
      "Average Eff:  0\n",
      "Average FP Rate:  0\n"
     ]
    },
    {
     "data": {
      "application/vnd.jupyter.widget-view+json": {
       "model_id": "",
       "version_major": 2,
       "version_minor": 0
      },
      "text/plain": [
       "HBox(children=(FloatProgress(value=0.0, description='Training', layout=Layout(flex='2'), max=1250.0, style=Pro…"
      ]
     },
     "metadata": {},
     "output_type": "display_data"
    },
    {
     "name": "stdout",
     "output_type": "stream",
     "text": [
      "Epoch 2133: train=8.77978, val=8.62818, took 70.784 s\n",
      "  Validation Found 101722 of 108007, added 5385 (eff 94.18%) (0.269 FP/event)\n",
      "Result epoch:  2133\n",
      "Average Eff:  0\n",
      "Average FP Rate:  0\n"
     ]
    },
    {
     "data": {
      "application/vnd.jupyter.widget-view+json": {
       "model_id": "",
       "version_major": 2,
       "version_minor": 0
      },
      "text/plain": [
       "HBox(children=(FloatProgress(value=0.0, description='Training', layout=Layout(flex='2'), max=1250.0, style=Pro…"
      ]
     },
     "metadata": {},
     "output_type": "display_data"
    },
    {
     "name": "stdout",
     "output_type": "stream",
     "text": [
      "Epoch 2134: train=8.77774, val=8.62999, took 71.058 s\n",
      "  Validation Found 101800 of 108007, added 5576 (eff 94.25%) (0.279 FP/event)\n",
      "Result epoch:  2134\n",
      "Average Eff:  0\n",
      "Average FP Rate:  0\n"
     ]
    },
    {
     "data": {
      "application/vnd.jupyter.widget-view+json": {
       "model_id": "",
       "version_major": 2,
       "version_minor": 0
      },
      "text/plain": [
       "HBox(children=(FloatProgress(value=0.0, description='Training', layout=Layout(flex='2'), max=1250.0, style=Pro…"
      ]
     },
     "metadata": {},
     "output_type": "display_data"
    },
    {
     "name": "stdout",
     "output_type": "stream",
     "text": [
      "Epoch 2135: train=8.7761, val=8.63323, took 70.95 s\n",
      "  Validation Found 101694 of 108007, added 5391 (eff 94.16%) (0.27 FP/event)\n",
      "Result epoch:  2135\n",
      "Average Eff:  0\n",
      "Average FP Rate:  0\n"
     ]
    },
    {
     "data": {
      "application/vnd.jupyter.widget-view+json": {
       "model_id": "",
       "version_major": 2,
       "version_minor": 0
      },
      "text/plain": [
       "HBox(children=(FloatProgress(value=0.0, description='Training', layout=Layout(flex='2'), max=1250.0, style=Pro…"
      ]
     },
     "metadata": {},
     "output_type": "display_data"
    },
    {
     "name": "stdout",
     "output_type": "stream",
     "text": [
      "Epoch 2136: train=8.77354, val=8.6297, took 71.071 s\n",
      "  Validation Found 101754 of 108007, added 5495 (eff 94.21%) (0.275 FP/event)\n",
      "Result epoch:  2136\n",
      "Average Eff:  0\n",
      "Average FP Rate:  0\n"
     ]
    },
    {
     "data": {
      "application/vnd.jupyter.widget-view+json": {
       "model_id": "",
       "version_major": 2,
       "version_minor": 0
      },
      "text/plain": [
       "HBox(children=(FloatProgress(value=0.0, description='Training', layout=Layout(flex='2'), max=1250.0, style=Pro…"
      ]
     },
     "metadata": {},
     "output_type": "display_data"
    },
    {
     "name": "stdout",
     "output_type": "stream",
     "text": [
      "Epoch 2137: train=8.77585, val=8.6269, took 71.362 s\n",
      "  Validation Found 101746 of 108007, added 5479 (eff 94.20%) (0.274 FP/event)\n",
      "Result epoch:  2137\n",
      "Average Eff:  0\n",
      "Average FP Rate:  0\n"
     ]
    },
    {
     "data": {
      "application/vnd.jupyter.widget-view+json": {
       "model_id": "",
       "version_major": 2,
       "version_minor": 0
      },
      "text/plain": [
       "HBox(children=(FloatProgress(value=0.0, description='Training', layout=Layout(flex='2'), max=1250.0, style=Pro…"
      ]
     },
     "metadata": {},
     "output_type": "display_data"
    },
    {
     "name": "stdout",
     "output_type": "stream",
     "text": [
      "Epoch 2138: train=8.77357, val=8.63787, took 72.309 s\n",
      "  Validation Found 101752 of 108007, added 5492 (eff 94.21%) (0.275 FP/event)\n",
      "Result epoch:  2138\n",
      "Average Eff:  0\n",
      "Average FP Rate:  0\n"
     ]
    },
    {
     "data": {
      "application/vnd.jupyter.widget-view+json": {
       "model_id": "",
       "version_major": 2,
       "version_minor": 0
      },
      "text/plain": [
       "HBox(children=(FloatProgress(value=0.0, description='Training', layout=Layout(flex='2'), max=1250.0, style=Pro…"
      ]
     },
     "metadata": {},
     "output_type": "display_data"
    },
    {
     "name": "stdout",
     "output_type": "stream",
     "text": [
      "Epoch 2139: train=8.77481, val=8.62741, took 72.09 s\n",
      "  Validation Found 101686 of 108007, added 5392 (eff 94.15%) (0.27 FP/event)\n",
      "Result epoch:  2139\n",
      "Average Eff:  0\n",
      "Average FP Rate:  0\n"
     ]
    },
    {
     "data": {
      "application/vnd.jupyter.widget-view+json": {
       "model_id": "",
       "version_major": 2,
       "version_minor": 0
      },
      "text/plain": [
       "HBox(children=(FloatProgress(value=0.0, description='Training', layout=Layout(flex='2'), max=1250.0, style=Pro…"
      ]
     },
     "metadata": {},
     "output_type": "display_data"
    },
    {
     "name": "stdout",
     "output_type": "stream",
     "text": [
      "Epoch 2140: train=8.77496, val=8.62471, took 72.982 s\n",
      "  Validation Found 101754 of 108007, added 5487 (eff 94.21%) (0.274 FP/event)\n",
      "Result epoch:  2140\n",
      "Average Eff:  0\n",
      "Average FP Rate:  0\n"
     ]
    },
    {
     "data": {
      "application/vnd.jupyter.widget-view+json": {
       "model_id": "",
       "version_major": 2,
       "version_minor": 0
      },
      "text/plain": [
       "HBox(children=(FloatProgress(value=0.0, description='Training', layout=Layout(flex='2'), max=1250.0, style=Pro…"
      ]
     },
     "metadata": {},
     "output_type": "display_data"
    },
    {
     "name": "stdout",
     "output_type": "stream",
     "text": [
      "Epoch 2141: train=8.77572, val=8.62401, took 72.165 s\n",
      "  Validation Found 101760 of 108007, added 5480 (eff 94.22%) (0.274 FP/event)\n",
      "Result epoch:  2141\n",
      "Average Eff:  0\n",
      "Average FP Rate:  0\n"
     ]
    },
    {
     "data": {
      "application/vnd.jupyter.widget-view+json": {
       "model_id": "",
       "version_major": 2,
       "version_minor": 0
      },
      "text/plain": [
       "HBox(children=(FloatProgress(value=0.0, description='Training', layout=Layout(flex='2'), max=1250.0, style=Pro…"
      ]
     },
     "metadata": {},
     "output_type": "display_data"
    },
    {
     "name": "stdout",
     "output_type": "stream",
     "text": [
      "Epoch 2142: train=8.78045, val=8.63258, took 71.91 s\n",
      "  Validation Found 101702 of 108007, added 5391 (eff 94.16%) (0.27 FP/event)\n",
      "Result epoch:  2142\n",
      "Average Eff:  0\n",
      "Average FP Rate:  0\n"
     ]
    },
    {
     "data": {
      "application/vnd.jupyter.widget-view+json": {
       "model_id": "",
       "version_major": 2,
       "version_minor": 0
      },
      "text/plain": [
       "HBox(children=(FloatProgress(value=0.0, description='Training', layout=Layout(flex='2'), max=1250.0, style=Pro…"
      ]
     },
     "metadata": {},
     "output_type": "display_data"
    },
    {
     "name": "stdout",
     "output_type": "stream",
     "text": [
      "Epoch 2143: train=8.77542, val=8.6281, took 73.576 s\n",
      "  Validation Found 101742 of 108007, added 5448 (eff 94.20%) (0.272 FP/event)\n",
      "Result epoch:  2143\n",
      "Average Eff:  0\n",
      "Average FP Rate:  0\n"
     ]
    },
    {
     "data": {
      "application/vnd.jupyter.widget-view+json": {
       "model_id": "",
       "version_major": 2,
       "version_minor": 0
      },
      "text/plain": [
       "HBox(children=(FloatProgress(value=0.0, description='Training', layout=Layout(flex='2'), max=1250.0, style=Pro…"
      ]
     },
     "metadata": {},
     "output_type": "display_data"
    },
    {
     "name": "stdout",
     "output_type": "stream",
     "text": [
      "Epoch 2144: train=8.77241, val=8.62813, took 72.122 s\n",
      "  Validation Found 101792 of 108007, added 5576 (eff 94.25%) (0.279 FP/event)\n",
      "Result epoch:  2144\n",
      "Average Eff:  0\n",
      "Average FP Rate:  0\n"
     ]
    },
    {
     "data": {
      "application/vnd.jupyter.widget-view+json": {
       "model_id": "",
       "version_major": 2,
       "version_minor": 0
      },
      "text/plain": [
       "HBox(children=(FloatProgress(value=0.0, description='Training', layout=Layout(flex='2'), max=1250.0, style=Pro…"
      ]
     },
     "metadata": {},
     "output_type": "display_data"
    },
    {
     "name": "stdout",
     "output_type": "stream",
     "text": [
      "Epoch 2145: train=8.77468, val=8.62646, took 73.205 s\n",
      "  Validation Found 101685 of 108007, added 5353 (eff 94.15%) (0.268 FP/event)\n",
      "Result epoch:  2145\n",
      "Average Eff:  0\n",
      "Average FP Rate:  0\n"
     ]
    },
    {
     "data": {
      "application/vnd.jupyter.widget-view+json": {
       "model_id": "",
       "version_major": 2,
       "version_minor": 0
      },
      "text/plain": [
       "HBox(children=(FloatProgress(value=0.0, description='Training', layout=Layout(flex='2'), max=1250.0, style=Pro…"
      ]
     },
     "metadata": {},
     "output_type": "display_data"
    },
    {
     "name": "stdout",
     "output_type": "stream",
     "text": [
      "Epoch 2146: train=8.77645, val=8.63294, took 71.44 s\n",
      "  Validation Found 101682 of 108007, added 5383 (eff 94.14%) (0.269 FP/event)\n",
      "Result epoch:  2146\n",
      "Average Eff:  0\n",
      "Average FP Rate:  0\n"
     ]
    },
    {
     "data": {
      "application/vnd.jupyter.widget-view+json": {
       "model_id": "",
       "version_major": 2,
       "version_minor": 0
      },
      "text/plain": [
       "HBox(children=(FloatProgress(value=0.0, description='Training', layout=Layout(flex='2'), max=1250.0, style=Pro…"
      ]
     },
     "metadata": {},
     "output_type": "display_data"
    },
    {
     "name": "stdout",
     "output_type": "stream",
     "text": [
      "Epoch 2147: train=8.77549, val=8.61857, took 70.96 s\n",
      "  Validation Found 101709 of 108007, added 5371 (eff 94.17%) (0.269 FP/event)\n",
      "Result epoch:  2147\n",
      "Average Eff:  0\n",
      "Average FP Rate:  0\n"
     ]
    },
    {
     "data": {
      "application/vnd.jupyter.widget-view+json": {
       "model_id": "",
       "version_major": 2,
       "version_minor": 0
      },
      "text/plain": [
       "HBox(children=(FloatProgress(value=0.0, description='Training', layout=Layout(flex='2'), max=1250.0, style=Pro…"
      ]
     },
     "metadata": {},
     "output_type": "display_data"
    },
    {
     "name": "stdout",
     "output_type": "stream",
     "text": [
      "Epoch 2148: train=8.77417, val=8.63337, took 70.754 s\n",
      "  Validation Found 101731 of 108007, added 5453 (eff 94.19%) (0.273 FP/event)\n",
      "Result epoch:  2148\n",
      "Average Eff:  0\n",
      "Average FP Rate:  0\n"
     ]
    },
    {
     "data": {
      "application/vnd.jupyter.widget-view+json": {
       "model_id": "",
       "version_major": 2,
       "version_minor": 0
      },
      "text/plain": [
       "HBox(children=(FloatProgress(value=0.0, description='Training', layout=Layout(flex='2'), max=1250.0, style=Pro…"
      ]
     },
     "metadata": {},
     "output_type": "display_data"
    },
    {
     "name": "stdout",
     "output_type": "stream",
     "text": [
      "Epoch 2149: train=8.77322, val=8.63243, took 73.018 s\n",
      "  Validation Found 101700 of 108007, added 5397 (eff 94.16%) (0.27 FP/event)\n",
      "Result epoch:  2149\n",
      "Average Eff:  0\n",
      "Average FP Rate:  0\n"
     ]
    },
    {
     "data": {
      "application/vnd.jupyter.widget-view+json": {
       "model_id": "",
       "version_major": 2,
       "version_minor": 0
      },
      "text/plain": [
       "HBox(children=(FloatProgress(value=0.0, description='Training', layout=Layout(flex='2'), max=1250.0, style=Pro…"
      ]
     },
     "metadata": {},
     "output_type": "display_data"
    },
    {
     "name": "stdout",
     "output_type": "stream",
     "text": [
      "Epoch 2150: train=8.77593, val=8.63008, took 73.031 s\n",
      "  Validation Found 101781 of 108007, added 5503 (eff 94.24%) (0.275 FP/event)\n",
      "Result epoch:  2150\n",
      "Average Eff:  0\n",
      "Average FP Rate:  0\n"
     ]
    },
    {
     "data": {
      "application/vnd.jupyter.widget-view+json": {
       "model_id": "",
       "version_major": 2,
       "version_minor": 0
      },
      "text/plain": [
       "HBox(children=(FloatProgress(value=0.0, description='Training', layout=Layout(flex='2'), max=1250.0, style=Pro…"
      ]
     },
     "metadata": {},
     "output_type": "display_data"
    },
    {
     "name": "stdout",
     "output_type": "stream",
     "text": [
      "Epoch 2151: train=8.77029, val=8.62847, took 73.98 s\n",
      "  Validation Found 101668 of 108007, added 5334 (eff 94.13%) (0.267 FP/event)\n",
      "Result epoch:  2151\n",
      "Average Eff:  0\n",
      "Average FP Rate:  0\n"
     ]
    },
    {
     "data": {
      "application/vnd.jupyter.widget-view+json": {
       "model_id": "",
       "version_major": 2,
       "version_minor": 0
      },
      "text/plain": [
       "HBox(children=(FloatProgress(value=0.0, description='Training', layout=Layout(flex='2'), max=1250.0, style=Pro…"
      ]
     },
     "metadata": {},
     "output_type": "display_data"
    },
    {
     "name": "stdout",
     "output_type": "stream",
     "text": [
      "Epoch 2152: train=8.77188, val=8.62865, took 71.055 s\n",
      "  Validation Found 101796 of 108007, added 5599 (eff 94.25%) (0.28 FP/event)\n",
      "Result epoch:  2152\n",
      "Average Eff:  0\n",
      "Average FP Rate:  0\n"
     ]
    },
    {
     "data": {
      "application/vnd.jupyter.widget-view+json": {
       "model_id": "",
       "version_major": 2,
       "version_minor": 0
      },
      "text/plain": [
       "HBox(children=(FloatProgress(value=0.0, description='Training', layout=Layout(flex='2'), max=1250.0, style=Pro…"
      ]
     },
     "metadata": {},
     "output_type": "display_data"
    },
    {
     "name": "stdout",
     "output_type": "stream",
     "text": [
      "Epoch 2153: train=8.77643, val=8.63062, took 73.218 s\n",
      "  Validation Found 101655 of 108007, added 5333 (eff 94.12%) (0.267 FP/event)\n",
      "Result epoch:  2153\n",
      "Average Eff:  0\n",
      "Average FP Rate:  0\n"
     ]
    },
    {
     "data": {
      "application/vnd.jupyter.widget-view+json": {
       "model_id": "",
       "version_major": 2,
       "version_minor": 0
      },
      "text/plain": [
       "HBox(children=(FloatProgress(value=0.0, description='Training', layout=Layout(flex='2'), max=1250.0, style=Pro…"
      ]
     },
     "metadata": {},
     "output_type": "display_data"
    },
    {
     "name": "stdout",
     "output_type": "stream",
     "text": [
      "Epoch 2154: train=8.77659, val=8.63266, took 73.764 s\n",
      "  Validation Found 101680 of 108007, added 5380 (eff 94.14%) (0.269 FP/event)\n",
      "Result epoch:  2154\n",
      "Average Eff:  0\n",
      "Average FP Rate:  0\n"
     ]
    },
    {
     "data": {
      "application/vnd.jupyter.widget-view+json": {
       "model_id": "",
       "version_major": 2,
       "version_minor": 0
      },
      "text/plain": [
       "HBox(children=(FloatProgress(value=0.0, description='Training', layout=Layout(flex='2'), max=1250.0, style=Pro…"
      ]
     },
     "metadata": {},
     "output_type": "display_data"
    },
    {
     "name": "stdout",
     "output_type": "stream",
     "text": [
      "Epoch 2155: train=8.77664, val=8.62963, took 73.456 s\n",
      "  Validation Found 101720 of 108007, added 5427 (eff 94.18%) (0.271 FP/event)\n",
      "Result epoch:  2155\n",
      "Average Eff:  0\n",
      "Average FP Rate:  0\n"
     ]
    },
    {
     "data": {
      "application/vnd.jupyter.widget-view+json": {
       "model_id": "",
       "version_major": 2,
       "version_minor": 0
      },
      "text/plain": [
       "HBox(children=(FloatProgress(value=0.0, description='Training', layout=Layout(flex='2'), max=1250.0, style=Pro…"
      ]
     },
     "metadata": {},
     "output_type": "display_data"
    },
    {
     "name": "stdout",
     "output_type": "stream",
     "text": [
      "Epoch 2156: train=8.77448, val=8.6367, took 71.042 s\n",
      "  Validation Found 101770 of 108007, added 5533 (eff 94.23%) (0.277 FP/event)\n",
      "Result epoch:  2156\n",
      "Average Eff:  0\n",
      "Average FP Rate:  0\n"
     ]
    },
    {
     "data": {
      "application/vnd.jupyter.widget-view+json": {
       "model_id": "",
       "version_major": 2,
       "version_minor": 0
      },
      "text/plain": [
       "HBox(children=(FloatProgress(value=0.0, description='Training', layout=Layout(flex='2'), max=1250.0, style=Pro…"
      ]
     },
     "metadata": {},
     "output_type": "display_data"
    },
    {
     "name": "stdout",
     "output_type": "stream",
     "text": [
      "Epoch 2157: train=8.76988, val=8.62871, took 71.627 s\n",
      "  Validation Found 101707 of 108007, added 5416 (eff 94.17%) (0.271 FP/event)\n",
      "Result epoch:  2157\n",
      "Average Eff:  0\n",
      "Average FP Rate:  0\n"
     ]
    },
    {
     "data": {
      "application/vnd.jupyter.widget-view+json": {
       "model_id": "",
       "version_major": 2,
       "version_minor": 0
      },
      "text/plain": [
       "HBox(children=(FloatProgress(value=0.0, description='Training', layout=Layout(flex='2'), max=1250.0, style=Pro…"
      ]
     },
     "metadata": {},
     "output_type": "display_data"
    },
    {
     "name": "stdout",
     "output_type": "stream",
     "text": [
      "Epoch 2158: train=8.77335, val=8.63798, took 74.22 s\n",
      "  Validation Found 101590 of 108007, added 5259 (eff 94.06%) (0.263 FP/event)\n",
      "Result epoch:  2158\n",
      "Average Eff:  0\n",
      "Average FP Rate:  0\n"
     ]
    },
    {
     "data": {
      "application/vnd.jupyter.widget-view+json": {
       "model_id": "",
       "version_major": 2,
       "version_minor": 0
      },
      "text/plain": [
       "HBox(children=(FloatProgress(value=0.0, description='Training', layout=Layout(flex='2'), max=1250.0, style=Pro…"
      ]
     },
     "metadata": {},
     "output_type": "display_data"
    },
    {
     "name": "stdout",
     "output_type": "stream",
     "text": [
      "Epoch 2159: train=8.77173, val=8.64166, took 72.581 s\n",
      "  Validation Found 101661 of 108007, added 5368 (eff 94.12%) (0.268 FP/event)\n",
      "Result epoch:  2159\n",
      "Average Eff:  0\n",
      "Average FP Rate:  0\n"
     ]
    },
    {
     "data": {
      "application/vnd.jupyter.widget-view+json": {
       "model_id": "",
       "version_major": 2,
       "version_minor": 0
      },
      "text/plain": [
       "HBox(children=(FloatProgress(value=0.0, description='Training', layout=Layout(flex='2'), max=1250.0, style=Pro…"
      ]
     },
     "metadata": {},
     "output_type": "display_data"
    },
    {
     "name": "stdout",
     "output_type": "stream",
     "text": [
      "Epoch 2160: train=8.77731, val=8.63029, took 72.102 s\n",
      "  Validation Found 101675 of 108007, added 5357 (eff 94.14%) (0.268 FP/event)\n",
      "Result epoch:  2160\n",
      "Average Eff:  0\n",
      "Average FP Rate:  0\n"
     ]
    },
    {
     "data": {
      "application/vnd.jupyter.widget-view+json": {
       "model_id": "",
       "version_major": 2,
       "version_minor": 0
      },
      "text/plain": [
       "HBox(children=(FloatProgress(value=0.0, description='Training', layout=Layout(flex='2'), max=1250.0, style=Pro…"
      ]
     },
     "metadata": {},
     "output_type": "display_data"
    },
    {
     "name": "stdout",
     "output_type": "stream",
     "text": [
      "Epoch 2161: train=8.77791, val=8.6219, took 71.638 s\n",
      "  Validation Found 101781 of 108007, added 5537 (eff 94.24%) (0.277 FP/event)\n",
      "Result epoch:  2161\n",
      "Average Eff:  0\n",
      "Average FP Rate:  0\n"
     ]
    },
    {
     "data": {
      "application/vnd.jupyter.widget-view+json": {
       "model_id": "",
       "version_major": 2,
       "version_minor": 0
      },
      "text/plain": [
       "HBox(children=(FloatProgress(value=0.0, description='Training', layout=Layout(flex='2'), max=1250.0, style=Pro…"
      ]
     },
     "metadata": {},
     "output_type": "display_data"
    },
    {
     "name": "stdout",
     "output_type": "stream",
     "text": [
      "Epoch 2162: train=8.77551, val=8.63056, took 71.772 s\n",
      "  Validation Found 101627 of 108007, added 5302 (eff 94.09%) (0.265 FP/event)\n",
      "Result epoch:  2162\n",
      "Average Eff:  0\n",
      "Average FP Rate:  0\n"
     ]
    },
    {
     "data": {
      "application/vnd.jupyter.widget-view+json": {
       "model_id": "",
       "version_major": 2,
       "version_minor": 0
      },
      "text/plain": [
       "HBox(children=(FloatProgress(value=0.0, description='Training', layout=Layout(flex='2'), max=1250.0, style=Pro…"
      ]
     },
     "metadata": {},
     "output_type": "display_data"
    },
    {
     "name": "stdout",
     "output_type": "stream",
     "text": [
      "Epoch 2163: train=8.77414, val=8.63308, took 72.539 s\n",
      "  Validation Found 101798 of 108007, added 5585 (eff 94.25%) (0.279 FP/event)\n",
      "Result epoch:  2163\n",
      "Average Eff:  0\n",
      "Average FP Rate:  0\n"
     ]
    },
    {
     "data": {
      "application/vnd.jupyter.widget-view+json": {
       "model_id": "",
       "version_major": 2,
       "version_minor": 0
      },
      "text/plain": [
       "HBox(children=(FloatProgress(value=0.0, description='Training', layout=Layout(flex='2'), max=1250.0, style=Pro…"
      ]
     },
     "metadata": {},
     "output_type": "display_data"
    },
    {
     "name": "stdout",
     "output_type": "stream",
     "text": [
      "Epoch 2164: train=8.77495, val=8.63227, took 72.045 s\n",
      "  Validation Found 101779 of 108007, added 5512 (eff 94.23%) (0.276 FP/event)\n",
      "Result epoch:  2164\n",
      "Average Eff:  0\n",
      "Average FP Rate:  0\n"
     ]
    },
    {
     "data": {
      "application/vnd.jupyter.widget-view+json": {
       "model_id": "",
       "version_major": 2,
       "version_minor": 0
      },
      "text/plain": [
       "HBox(children=(FloatProgress(value=0.0, description='Training', layout=Layout(flex='2'), max=1250.0, style=Pro…"
      ]
     },
     "metadata": {},
     "output_type": "display_data"
    },
    {
     "name": "stdout",
     "output_type": "stream",
     "text": [
      "Epoch 2165: train=8.77526, val=8.62621, took 72.183 s\n",
      "  Validation Found 101686 of 108007, added 5392 (eff 94.15%) (0.27 FP/event)\n",
      "Result epoch:  2165\n",
      "Average Eff:  0\n",
      "Average FP Rate:  0\n"
     ]
    },
    {
     "data": {
      "application/vnd.jupyter.widget-view+json": {
       "model_id": "",
       "version_major": 2,
       "version_minor": 0
      },
      "text/plain": [
       "HBox(children=(FloatProgress(value=0.0, description='Training', layout=Layout(flex='2'), max=1250.0, style=Pro…"
      ]
     },
     "metadata": {},
     "output_type": "display_data"
    },
    {
     "name": "stdout",
     "output_type": "stream",
     "text": [
      "Epoch 2166: train=8.77705, val=8.63242, took 72.108 s\n",
      "  Validation Found 101654 of 108007, added 5342 (eff 94.12%) (0.267 FP/event)\n",
      "Result epoch:  2166\n",
      "Average Eff:  0\n",
      "Average FP Rate:  0\n"
     ]
    },
    {
     "data": {
      "application/vnd.jupyter.widget-view+json": {
       "model_id": "",
       "version_major": 2,
       "version_minor": 0
      },
      "text/plain": [
       "HBox(children=(FloatProgress(value=0.0, description='Training', layout=Layout(flex='2'), max=1250.0, style=Pro…"
      ]
     },
     "metadata": {},
     "output_type": "display_data"
    },
    {
     "name": "stdout",
     "output_type": "stream",
     "text": [
      "Epoch 2167: train=8.77722, val=8.62601, took 71.148 s\n",
      "  Validation Found 101727 of 108007, added 5398 (eff 94.19%) (0.27 FP/event)\n",
      "Result epoch:  2167\n",
      "Average Eff:  0\n",
      "Average FP Rate:  0\n"
     ]
    },
    {
     "data": {
      "application/vnd.jupyter.widget-view+json": {
       "model_id": "",
       "version_major": 2,
       "version_minor": 0
      },
      "text/plain": [
       "HBox(children=(FloatProgress(value=0.0, description='Training', layout=Layout(flex='2'), max=1250.0, style=Pro…"
      ]
     },
     "metadata": {},
     "output_type": "display_data"
    },
    {
     "name": "stdout",
     "output_type": "stream",
     "text": [
      "Epoch 2168: train=8.77075, val=8.62794, took 71.533 s\n",
      "  Validation Found 101734 of 108007, added 5440 (eff 94.19%) (0.272 FP/event)\n",
      "Result epoch:  2168\n",
      "Average Eff:  0\n",
      "Average FP Rate:  0\n"
     ]
    },
    {
     "data": {
      "application/vnd.jupyter.widget-view+json": {
       "model_id": "",
       "version_major": 2,
       "version_minor": 0
      },
      "text/plain": [
       "HBox(children=(FloatProgress(value=0.0, description='Training', layout=Layout(flex='2'), max=1250.0, style=Pro…"
      ]
     },
     "metadata": {},
     "output_type": "display_data"
    },
    {
     "name": "stdout",
     "output_type": "stream",
     "text": [
      "Epoch 2169: train=8.77557, val=8.6218, took 72.664 s\n",
      "  Validation Found 101763 of 108007, added 5481 (eff 94.22%) (0.274 FP/event)\n",
      "Result epoch:  2169\n",
      "Average Eff:  0\n",
      "Average FP Rate:  0\n"
     ]
    },
    {
     "data": {
      "application/vnd.jupyter.widget-view+json": {
       "model_id": "",
       "version_major": 2,
       "version_minor": 0
      },
      "text/plain": [
       "HBox(children=(FloatProgress(value=0.0, description='Training', layout=Layout(flex='2'), max=1250.0, style=Pro…"
      ]
     },
     "metadata": {},
     "output_type": "display_data"
    },
    {
     "name": "stdout",
     "output_type": "stream",
     "text": [
      "Epoch 2170: train=8.77266, val=8.62957, took 70.806 s\n",
      "  Validation Found 101673 of 108007, added 5359 (eff 94.14%) (0.268 FP/event)\n",
      "Result epoch:  2170\n",
      "Average Eff:  0\n",
      "Average FP Rate:  0\n"
     ]
    },
    {
     "data": {
      "application/vnd.jupyter.widget-view+json": {
       "model_id": "",
       "version_major": 2,
       "version_minor": 0
      },
      "text/plain": [
       "HBox(children=(FloatProgress(value=0.0, description='Training', layout=Layout(flex='2'), max=1250.0, style=Pro…"
      ]
     },
     "metadata": {},
     "output_type": "display_data"
    },
    {
     "name": "stdout",
     "output_type": "stream",
     "text": [
      "Epoch 2171: train=8.77208, val=8.62169, took 71.443 s\n",
      "  Validation Found 101797 of 108007, added 5551 (eff 94.25%) (0.278 FP/event)\n",
      "Result epoch:  2171\n",
      "Average Eff:  0\n",
      "Average FP Rate:  0\n"
     ]
    },
    {
     "data": {
      "application/vnd.jupyter.widget-view+json": {
       "model_id": "",
       "version_major": 2,
       "version_minor": 0
      },
      "text/plain": [
       "HBox(children=(FloatProgress(value=0.0, description='Training', layout=Layout(flex='2'), max=1250.0, style=Pro…"
      ]
     },
     "metadata": {},
     "output_type": "display_data"
    },
    {
     "name": "stdout",
     "output_type": "stream",
     "text": [
      "Epoch 2172: train=8.77476, val=8.63396, took 71.341 s\n",
      "  Validation Found 101841 of 108007, added 5741 (eff 94.29%) (0.287 FP/event)\n",
      "Result epoch:  2172\n",
      "Average Eff:  0\n",
      "Average FP Rate:  0\n"
     ]
    },
    {
     "data": {
      "application/vnd.jupyter.widget-view+json": {
       "model_id": "",
       "version_major": 2,
       "version_minor": 0
      },
      "text/plain": [
       "HBox(children=(FloatProgress(value=0.0, description='Training', layout=Layout(flex='2'), max=1250.0, style=Pro…"
      ]
     },
     "metadata": {},
     "output_type": "display_data"
    },
    {
     "name": "stdout",
     "output_type": "stream",
     "text": [
      "Epoch 2173: train=8.7697, val=8.63363, took 72.061 s\n",
      "  Validation Found 101806 of 108007, added 5624 (eff 94.26%) (0.281 FP/event)\n",
      "Result epoch:  2173\n",
      "Average Eff:  0\n",
      "Average FP Rate:  0\n"
     ]
    },
    {
     "data": {
      "application/vnd.jupyter.widget-view+json": {
       "model_id": "",
       "version_major": 2,
       "version_minor": 0
      },
      "text/plain": [
       "HBox(children=(FloatProgress(value=0.0, description='Training', layout=Layout(flex='2'), max=1250.0, style=Pro…"
      ]
     },
     "metadata": {},
     "output_type": "display_data"
    },
    {
     "name": "stdout",
     "output_type": "stream",
     "text": [
      "Epoch 2174: train=8.77084, val=8.62289, took 71.124 s\n",
      "  Validation Found 101730 of 108007, added 5403 (eff 94.19%) (0.27 FP/event)\n",
      "Result epoch:  2174\n",
      "Average Eff:  0\n",
      "Average FP Rate:  0\n"
     ]
    },
    {
     "data": {
      "application/vnd.jupyter.widget-view+json": {
       "model_id": "",
       "version_major": 2,
       "version_minor": 0
      },
      "text/plain": [
       "HBox(children=(FloatProgress(value=0.0, description='Training', layout=Layout(flex='2'), max=1250.0, style=Pro…"
      ]
     },
     "metadata": {},
     "output_type": "display_data"
    },
    {
     "name": "stdout",
     "output_type": "stream",
     "text": [
      "Epoch 2175: train=8.77285, val=8.62928, took 71.207 s\n",
      "  Validation Found 101676 of 108007, added 5357 (eff 94.14%) (0.268 FP/event)\n",
      "Result epoch:  2175\n",
      "Average Eff:  0\n",
      "Average FP Rate:  0\n"
     ]
    },
    {
     "data": {
      "application/vnd.jupyter.widget-view+json": {
       "model_id": "",
       "version_major": 2,
       "version_minor": 0
      },
      "text/plain": [
       "HBox(children=(FloatProgress(value=0.0, description='Training', layout=Layout(flex='2'), max=1250.0, style=Pro…"
      ]
     },
     "metadata": {},
     "output_type": "display_data"
    },
    {
     "name": "stdout",
     "output_type": "stream",
     "text": [
      "Epoch 2176: train=8.77185, val=8.62713, took 71.026 s\n",
      "  Validation Found 101656 of 108007, added 5327 (eff 94.12%) (0.266 FP/event)\n",
      "Result epoch:  2176\n",
      "Average Eff:  0\n",
      "Average FP Rate:  0\n"
     ]
    },
    {
     "data": {
      "application/vnd.jupyter.widget-view+json": {
       "model_id": "",
       "version_major": 2,
       "version_minor": 0
      },
      "text/plain": [
       "HBox(children=(FloatProgress(value=0.0, description='Training', layout=Layout(flex='2'), max=1250.0, style=Pro…"
      ]
     },
     "metadata": {},
     "output_type": "display_data"
    },
    {
     "name": "stdout",
     "output_type": "stream",
     "text": [
      "Epoch 2177: train=8.7734, val=8.63563, took 71.586 s\n",
      "  Validation Found 101638 of 108007, added 5318 (eff 94.10%) (0.266 FP/event)\n",
      "Result epoch:  2177\n",
      "Average Eff:  0\n",
      "Average FP Rate:  0\n"
     ]
    },
    {
     "data": {
      "application/vnd.jupyter.widget-view+json": {
       "model_id": "",
       "version_major": 2,
       "version_minor": 0
      },
      "text/plain": [
       "HBox(children=(FloatProgress(value=0.0, description='Training', layout=Layout(flex='2'), max=1250.0, style=Pro…"
      ]
     },
     "metadata": {},
     "output_type": "display_data"
    },
    {
     "name": "stdout",
     "output_type": "stream",
     "text": [
      "Epoch 2178: train=8.77275, val=8.62796, took 73.024 s\n",
      "  Validation Found 101709 of 108007, added 5378 (eff 94.17%) (0.269 FP/event)\n",
      "Result epoch:  2178\n",
      "Average Eff:  0\n",
      "Average FP Rate:  0\n"
     ]
    },
    {
     "data": {
      "application/vnd.jupyter.widget-view+json": {
       "model_id": "",
       "version_major": 2,
       "version_minor": 0
      },
      "text/plain": [
       "HBox(children=(FloatProgress(value=0.0, description='Training', layout=Layout(flex='2'), max=1250.0, style=Pro…"
      ]
     },
     "metadata": {},
     "output_type": "display_data"
    },
    {
     "name": "stdout",
     "output_type": "stream",
     "text": [
      "Epoch 2179: train=8.77553, val=8.6314, took 71.996 s\n",
      "  Validation Found 101628 of 108007, added 5303 (eff 94.09%) (0.265 FP/event)\n",
      "Result epoch:  2179\n",
      "Average Eff:  0\n",
      "Average FP Rate:  0\n"
     ]
    },
    {
     "data": {
      "application/vnd.jupyter.widget-view+json": {
       "model_id": "",
       "version_major": 2,
       "version_minor": 0
      },
      "text/plain": [
       "HBox(children=(FloatProgress(value=0.0, description='Training', layout=Layout(flex='2'), max=1250.0, style=Pro…"
      ]
     },
     "metadata": {},
     "output_type": "display_data"
    },
    {
     "name": "stdout",
     "output_type": "stream",
     "text": [
      "Epoch 2180: train=8.77293, val=8.62528, took 73.313 s\n",
      "  Validation Found 101691 of 108007, added 5380 (eff 94.15%) (0.269 FP/event)\n",
      "Result epoch:  2180\n",
      "Average Eff:  0\n",
      "Average FP Rate:  0\n"
     ]
    },
    {
     "data": {
      "application/vnd.jupyter.widget-view+json": {
       "model_id": "",
       "version_major": 2,
       "version_minor": 0
      },
      "text/plain": [
       "HBox(children=(FloatProgress(value=0.0, description='Training', layout=Layout(flex='2'), max=1250.0, style=Pro…"
      ]
     },
     "metadata": {},
     "output_type": "display_data"
    },
    {
     "name": "stdout",
     "output_type": "stream",
     "text": [
      "Epoch 2181: train=8.77377, val=8.62924, took 71.615 s\n",
      "  Validation Found 101788 of 108007, added 5554 (eff 94.24%) (0.278 FP/event)\n",
      "Result epoch:  2181\n",
      "Average Eff:  0\n",
      "Average FP Rate:  0\n"
     ]
    },
    {
     "data": {
      "application/vnd.jupyter.widget-view+json": {
       "model_id": "",
       "version_major": 2,
       "version_minor": 0
      },
      "text/plain": [
       "HBox(children=(FloatProgress(value=0.0, description='Training', layout=Layout(flex='2'), max=1250.0, style=Pro…"
      ]
     },
     "metadata": {},
     "output_type": "display_data"
    },
    {
     "name": "stdout",
     "output_type": "stream",
     "text": [
      "Epoch 2182: train=8.77367, val=8.62674, took 71.422 s\n",
      "  Validation Found 101813 of 108007, added 5642 (eff 94.27%) (0.282 FP/event)\n",
      "Result epoch:  2182\n",
      "Average Eff:  0\n",
      "Average FP Rate:  0\n"
     ]
    },
    {
     "data": {
      "application/vnd.jupyter.widget-view+json": {
       "model_id": "",
       "version_major": 2,
       "version_minor": 0
      },
      "text/plain": [
       "HBox(children=(FloatProgress(value=0.0, description='Training', layout=Layout(flex='2'), max=1250.0, style=Pro…"
      ]
     },
     "metadata": {},
     "output_type": "display_data"
    },
    {
     "name": "stdout",
     "output_type": "stream",
     "text": [
      "Epoch 2183: train=8.77405, val=8.6306, took 72.922 s\n",
      "  Validation Found 101705 of 108007, added 5398 (eff 94.17%) (0.27 FP/event)\n",
      "Result epoch:  2183\n",
      "Average Eff:  0\n",
      "Average FP Rate:  0\n"
     ]
    },
    {
     "data": {
      "application/vnd.jupyter.widget-view+json": {
       "model_id": "",
       "version_major": 2,
       "version_minor": 0
      },
      "text/plain": [
       "HBox(children=(FloatProgress(value=0.0, description='Training', layout=Layout(flex='2'), max=1250.0, style=Pro…"
      ]
     },
     "metadata": {},
     "output_type": "display_data"
    },
    {
     "name": "stdout",
     "output_type": "stream",
     "text": [
      "Epoch 2184: train=8.77388, val=8.62896, took 72.658 s\n",
      "  Validation Found 101719 of 108007, added 5421 (eff 94.18%) (0.271 FP/event)\n",
      "Result epoch:  2184\n",
      "Average Eff:  0\n",
      "Average FP Rate:  0\n"
     ]
    },
    {
     "data": {
      "application/vnd.jupyter.widget-view+json": {
       "model_id": "",
       "version_major": 2,
       "version_minor": 0
      },
      "text/plain": [
       "HBox(children=(FloatProgress(value=0.0, description='Training', layout=Layout(flex='2'), max=1250.0, style=Pro…"
      ]
     },
     "metadata": {},
     "output_type": "display_data"
    },
    {
     "name": "stdout",
     "output_type": "stream",
     "text": [
      "Epoch 2185: train=8.77751, val=8.62485, took 72.52 s\n",
      "  Validation Found 101756 of 108007, added 5459 (eff 94.21%) (0.273 FP/event)\n",
      "Result epoch:  2185\n",
      "Average Eff:  0\n",
      "Average FP Rate:  0\n"
     ]
    },
    {
     "data": {
      "application/vnd.jupyter.widget-view+json": {
       "model_id": "",
       "version_major": 2,
       "version_minor": 0
      },
      "text/plain": [
       "HBox(children=(FloatProgress(value=0.0, description='Training', layout=Layout(flex='2'), max=1250.0, style=Pro…"
      ]
     },
     "metadata": {},
     "output_type": "display_data"
    },
    {
     "name": "stdout",
     "output_type": "stream",
     "text": [
      "Epoch 2186: train=8.76942, val=8.63074, took 70.909 s\n",
      "  Validation Found 101695 of 108007, added 5400 (eff 94.16%) (0.27 FP/event)\n",
      "Result epoch:  2186\n",
      "Average Eff:  0\n",
      "Average FP Rate:  0\n"
     ]
    },
    {
     "data": {
      "application/vnd.jupyter.widget-view+json": {
       "model_id": "",
       "version_major": 2,
       "version_minor": 0
      },
      "text/plain": [
       "HBox(children=(FloatProgress(value=0.0, description='Training', layout=Layout(flex='2'), max=1250.0, style=Pro…"
      ]
     },
     "metadata": {},
     "output_type": "display_data"
    },
    {
     "name": "stdout",
     "output_type": "stream",
     "text": [
      "Epoch 2187: train=8.77764, val=8.63096, took 72.128 s\n",
      "  Validation Found 101724 of 108007, added 5440 (eff 94.18%) (0.272 FP/event)\n",
      "Result epoch:  2187\n",
      "Average Eff:  0\n",
      "Average FP Rate:  0\n"
     ]
    },
    {
     "data": {
      "application/vnd.jupyter.widget-view+json": {
       "model_id": "",
       "version_major": 2,
       "version_minor": 0
      },
      "text/plain": [
       "HBox(children=(FloatProgress(value=0.0, description='Training', layout=Layout(flex='2'), max=1250.0, style=Pro…"
      ]
     },
     "metadata": {},
     "output_type": "display_data"
    },
    {
     "name": "stdout",
     "output_type": "stream",
     "text": [
      "Epoch 2188: train=8.77653, val=8.62179, took 71.25 s\n",
      "  Validation Found 101697 of 108007, added 5377 (eff 94.16%) (0.269 FP/event)\n",
      "Result epoch:  2188\n",
      "Average Eff:  0\n",
      "Average FP Rate:  0\n"
     ]
    },
    {
     "data": {
      "application/vnd.jupyter.widget-view+json": {
       "model_id": "",
       "version_major": 2,
       "version_minor": 0
      },
      "text/plain": [
       "HBox(children=(FloatProgress(value=0.0, description='Training', layout=Layout(flex='2'), max=1250.0, style=Pro…"
      ]
     },
     "metadata": {},
     "output_type": "display_data"
    },
    {
     "name": "stdout",
     "output_type": "stream",
     "text": [
      "Epoch 2189: train=8.77734, val=8.63469, took 72.055 s\n",
      "  Validation Found 101758 of 108007, added 5497 (eff 94.21%) (0.275 FP/event)\n",
      "Result epoch:  2189\n",
      "Average Eff:  0\n",
      "Average FP Rate:  0\n"
     ]
    },
    {
     "data": {
      "application/vnd.jupyter.widget-view+json": {
       "model_id": "",
       "version_major": 2,
       "version_minor": 0
      },
      "text/plain": [
       "HBox(children=(FloatProgress(value=0.0, description='Training', layout=Layout(flex='2'), max=1250.0, style=Pro…"
      ]
     },
     "metadata": {},
     "output_type": "display_data"
    },
    {
     "name": "stdout",
     "output_type": "stream",
     "text": [
      "Epoch 2190: train=8.7724, val=8.62773, took 71.066 s\n",
      "  Validation Found 101694 of 108007, added 5380 (eff 94.16%) (0.269 FP/event)\n",
      "Result epoch:  2190\n",
      "Average Eff:  0\n",
      "Average FP Rate:  0\n"
     ]
    },
    {
     "data": {
      "application/vnd.jupyter.widget-view+json": {
       "model_id": "",
       "version_major": 2,
       "version_minor": 0
      },
      "text/plain": [
       "HBox(children=(FloatProgress(value=0.0, description='Training', layout=Layout(flex='2'), max=1250.0, style=Pro…"
      ]
     },
     "metadata": {},
     "output_type": "display_data"
    },
    {
     "name": "stdout",
     "output_type": "stream",
     "text": [
      "Epoch 2191: train=8.77602, val=8.62161, took 70.06 s\n",
      "  Validation Found 101684 of 108007, added 5345 (eff 94.15%) (0.267 FP/event)\n",
      "Result epoch:  2191\n",
      "Average Eff:  0\n",
      "Average FP Rate:  0\n"
     ]
    },
    {
     "data": {
      "application/vnd.jupyter.widget-view+json": {
       "model_id": "",
       "version_major": 2,
       "version_minor": 0
      },
      "text/plain": [
       "HBox(children=(FloatProgress(value=0.0, description='Training', layout=Layout(flex='2'), max=1250.0, style=Pro…"
      ]
     },
     "metadata": {},
     "output_type": "display_data"
    },
    {
     "name": "stdout",
     "output_type": "stream",
     "text": [
      "Epoch 2192: train=8.77397, val=8.63439, took 71.639 s\n",
      "  Validation Found 101649 of 108007, added 5342 (eff 94.11%) (0.267 FP/event)\n",
      "Result epoch:  2192\n",
      "Average Eff:  0\n",
      "Average FP Rate:  0\n"
     ]
    },
    {
     "data": {
      "application/vnd.jupyter.widget-view+json": {
       "model_id": "",
       "version_major": 2,
       "version_minor": 0
      },
      "text/plain": [
       "HBox(children=(FloatProgress(value=0.0, description='Training', layout=Layout(flex='2'), max=1250.0, style=Pro…"
      ]
     },
     "metadata": {},
     "output_type": "display_data"
    },
    {
     "name": "stdout",
     "output_type": "stream",
     "text": [
      "Epoch 2193: train=8.77097, val=8.62988, took 73.613 s\n",
      "  Validation Found 101719 of 108007, added 5436 (eff 94.18%) (0.272 FP/event)\n",
      "Result epoch:  2193\n",
      "Average Eff:  0\n",
      "Average FP Rate:  0\n"
     ]
    },
    {
     "data": {
      "application/vnd.jupyter.widget-view+json": {
       "model_id": "",
       "version_major": 2,
       "version_minor": 0
      },
      "text/plain": [
       "HBox(children=(FloatProgress(value=0.0, description='Training', layout=Layout(flex='2'), max=1250.0, style=Pro…"
      ]
     },
     "metadata": {},
     "output_type": "display_data"
    },
    {
     "name": "stdout",
     "output_type": "stream",
     "text": [
      "Epoch 2194: train=8.77653, val=8.62552, took 72.777 s\n",
      "  Validation Found 101694 of 108007, added 5369 (eff 94.16%) (0.268 FP/event)\n",
      "Result epoch:  2194\n",
      "Average Eff:  0\n",
      "Average FP Rate:  0\n"
     ]
    },
    {
     "data": {
      "application/vnd.jupyter.widget-view+json": {
       "model_id": "",
       "version_major": 2,
       "version_minor": 0
      },
      "text/plain": [
       "HBox(children=(FloatProgress(value=0.0, description='Training', layout=Layout(flex='2'), max=1250.0, style=Pro…"
      ]
     },
     "metadata": {},
     "output_type": "display_data"
    },
    {
     "name": "stdout",
     "output_type": "stream",
     "text": [
      "Epoch 2195: train=8.77717, val=8.63192, took 72.463 s\n",
      "  Validation Found 101856 of 108007, added 5757 (eff 94.30%) (0.288 FP/event)\n",
      "Result epoch:  2195\n",
      "Average Eff:  0\n",
      "Average FP Rate:  0\n"
     ]
    },
    {
     "data": {
      "application/vnd.jupyter.widget-view+json": {
       "model_id": "",
       "version_major": 2,
       "version_minor": 0
      },
      "text/plain": [
       "HBox(children=(FloatProgress(value=0.0, description='Training', layout=Layout(flex='2'), max=1250.0, style=Pro…"
      ]
     },
     "metadata": {},
     "output_type": "display_data"
    },
    {
     "name": "stdout",
     "output_type": "stream",
     "text": [
      "Epoch 2196: train=8.77411, val=8.63952, took 70.962 s\n",
      "  Validation Found 101566 of 108007, added 5228 (eff 94.04%) (0.261 FP/event)\n",
      "Result epoch:  2196\n",
      "Average Eff:  0\n",
      "Average FP Rate:  0\n"
     ]
    },
    {
     "data": {
      "application/vnd.jupyter.widget-view+json": {
       "model_id": "",
       "version_major": 2,
       "version_minor": 0
      },
      "text/plain": [
       "HBox(children=(FloatProgress(value=0.0, description='Training', layout=Layout(flex='2'), max=1250.0, style=Pro…"
      ]
     },
     "metadata": {},
     "output_type": "display_data"
    },
    {
     "name": "stdout",
     "output_type": "stream",
     "text": [
      "Epoch 2197: train=8.77057, val=8.61957, took 71.235 s\n",
      "  Validation Found 101719 of 108007, added 5406 (eff 94.18%) (0.27 FP/event)\n",
      "Result epoch:  2197\n",
      "Average Eff:  0\n",
      "Average FP Rate:  0\n"
     ]
    },
    {
     "data": {
      "application/vnd.jupyter.widget-view+json": {
       "model_id": "",
       "version_major": 2,
       "version_minor": 0
      },
      "text/plain": [
       "HBox(children=(FloatProgress(value=0.0, description='Training', layout=Layout(flex='2'), max=1250.0, style=Pro…"
      ]
     },
     "metadata": {},
     "output_type": "display_data"
    },
    {
     "name": "stdout",
     "output_type": "stream",
     "text": [
      "Epoch 2198: train=8.77313, val=8.63258, took 72.55 s\n",
      "  Validation Found 101665 of 108007, added 5338 (eff 94.13%) (0.267 FP/event)\n",
      "Result epoch:  2198\n",
      "Average Eff:  0\n",
      "Average FP Rate:  0\n"
     ]
    },
    {
     "data": {
      "application/vnd.jupyter.widget-view+json": {
       "model_id": "7e70eed5448d41ad803a8ef3502e86e0",
       "version_major": 2,
       "version_minor": 0
      },
      "text/plain": [
       "HBox(children=(FloatProgress(value=0.0, description='Training', layout=Layout(flex='2'), max=1250.0, style=Pro…"
      ]
     },
     "metadata": {},
     "output_type": "display_data"
    }
   ],
   "source": [
    "avgEff=0\n",
    "avgFP=0\n",
    "print('for model: ', model)   \n",
    "run_name = 'ACN_3_P_10L_4S_BN (P6)'\n",
    "# Create an mlflow run\n",
    "with mlflow.start_run(run_name=run_name) as run:\n",
    "    # Log parameters of the model\n",
    "    for key, value in vars(args).items():\n",
    "        print(key, value)\n",
    "        mlflow.log_param(key, value)\n",
    "    \n",
    "    # Log parameter count in the model\n",
    "    mlflow.log_param('Parameters', count_parameters(model))\n",
    "    \n",
    "    # Begin run\n",
    "    for result in trainNet(model, optimizer, loss,\n",
    "                            train_loader, val_loader,\n",
    "                            args.epochs+args.epoch_start, epoch_start=args.epoch_start,\n",
    "                            notebook=True, device=device):\n",
    "\n",
    "        result = result._asdict()\n",
    "        results = results.append(pd.Series(result), ignore_index=True)\n",
    "    \n",
    "        xs = results.index\n",
    "    \n",
    "        # Update the plot above\n",
    "        lines['train'].set_data(results.index,results.cost)\n",
    "        lines['val'].set_data(results.index,results.val)\n",
    "    \n",
    "        #filter first cost epoch (can be really large)\n",
    "        max_cost = max(max(results.cost if len(results.cost)<2 else results.cost[1:]), max(results.val))\n",
    "        min_cost = min(min(results.cost), min(results.val))\n",
    "    \n",
    "        # The plot limits need updating too\n",
    "        ax.set_ylim(min_cost*.9, max_cost*1.1)  \n",
    "        ax.set_xlim(-.5, len(results.cost) - .5)\n",
    "    \n",
    "        replace_in_ax(lax, lines['eff'], xs, results['eff_val'].apply(lambda x: x.eff_rate))\n",
    "        replace_in_ax(tax, lines['fp'], xs, results['eff_val'].apply(lambda x: x.fp_rate))\n",
    "    \n",
    "        # Redraw the figure\n",
    "        fig.canvas.draw()\n",
    "            \n",
    "        ## MLFLOW ##\n",
    "        # Log metrics\n",
    "        mlflow.log_metric('Efficiency', result['eff_val'].eff_rate, result['epoch'])\n",
    "        mlflow.log_metric('False Positive Rate',  result['eff_val'].fp_rate, result['epoch'])\n",
    "        mlflow.log_metric('Validation Loss',  result['val'], result['epoch'])\n",
    "        mlflow.log_metric('Training Loss',  result['cost'], result['epoch'])\n",
    "        \n",
    "        print('Result epoch: ', result['epoch'])\n",
    "        if(result['epoch'] >= args.epochs + args.epoch_start - 10):\n",
    "            avgEff += result['eff_val'].eff_rate\n",
    "            avgFP += result['eff_val'].fp_rate\n",
    "           \n",
    "        if(result['epoch'] == args.epochs + args.epoch_start - 1):\n",
    "            print('Averaging...\\n')\n",
    "            avgEff /= 10\n",
    "            avgFP /= 10\n",
    "            mlflow.log_metric('10 Efficiency Average', avgEff)\n",
    "            mlflow.log_metric('10 False Positive Average', avgFP)\n",
    "            \n",
    "        print('Average Eff: ', avgEff)\n",
    "        print('Average FP Rate: ', avgFP)\n",
    "            \n",
    "        # Log tags\n",
    "#        mlflow.set_tag('Optimizer', 'Adam')\n",
    "#        mlflow.set_tag('Kernel size', 'Mixed')\n",
    "#        mlflow.set_tag('Skip connections', '4')\n",
    "#        mlflow.set_tag('Activation', 'Softplus')\n",
    "#        mlflow.set_tag('Mid Activation', 'Relu')\n",
    "        mlflow.set_tag('Asymmetry', '2.5')\n",
    "        mlflow.set_tag('KDE', 'Poca')\n",
    "\n",
    "        # Save model state dictionary, optimizer state dictionary, and epoch number\n",
    "        torch.save({\n",
    "            'model':model.state_dict(),\n",
    "            'optimizer':optimizer.state_dict(),\n",
    "            'epoch':args.epochs+result['epoch']\n",
    "            }, 'run_stats.pyt')\n",
    "        # Save the run stats into mlflow\n",
    "        mlflow.log_artifact('run_stats.pyt')\n",
    "            \n",
    "        # Save a diagram of the architecture\n",
    "#        HL.transforms.Fold(\"Conv\", \"Conv\"),\n",
    "#        HL.build_graph(model, torch.zeros([args.batch_size, 1, 4000]).to(device)).save('architecture', format='png')\n",
    "#        mlflow.log_artifact('architecture.png')\n",
    "        \n",
    "        # log the code for the model architecture\n",
    "#        mlflow.log_artifact('architecture.txt')\n",
    "        \n",
    "    dual_train_plots(results.index,\n",
    "                 results.cost, results.val, \n",
    "                 results['eff_val'].apply(lambda x: x.eff_rate),\n",
    "                 results['eff_val'].apply(lambda x: x.fp_rate))\n",
    "    # save plot\n",
    "    plt.tight_layout()\n",
    "    plt.savefig('plot.png')\n",
    "    mlflow.log_artifact('plot.png')"
   ]
  },
  {
   "cell_type": "code",
   "execution_count": null,
   "metadata": {},
   "outputs": [],
   "source": [
    "##quit()"
   ]
  }
 ],
 "metadata": {
  "kernelspec": {
   "display_name": "goofit-june2020",
   "language": "python",
   "name": "goofit-june2020"
  },
  "language_info": {
   "codemirror_mode": {
    "name": "ipython",
    "version": 3
   },
   "file_extension": ".py",
   "mimetype": "text/x-python",
   "name": "python",
   "nbconvert_exporter": "python",
   "pygments_lexer": "ipython3",
   "version": "3.7.6"
  }
 },
 "nbformat": 4,
 "nbformat_minor": 2
}
