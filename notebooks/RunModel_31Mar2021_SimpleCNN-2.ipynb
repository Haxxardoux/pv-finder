{
 "cells": [
  {
   "cell_type": "code",
   "execution_count": 1,
   "metadata": {},
   "outputs": [],
   "source": [
    "##%matplotlib widget\n",
    "## with %matplotlib notebook: seems to require ipympl as part of environment, either\n",
    "## part of the conda environment or \"pip install ipympl\"\n",
    "## otherwise, does not show ANY plots in notebook, plt.savefig() works\n",
    "%matplotlib notebook  \n",
    "##%matplotlib inline    ## --plt.savefig()  works, but re-sizing does NOT"
   ]
  },
  {
   "cell_type": "markdown",
   "metadata": {},
   "source": [
    "Check the current GPU usage. Please try to be nice!"
   ]
  },
  {
   "cell_type": "code",
   "execution_count": 2,
   "metadata": {},
   "outputs": [
    {
     "name": "stdout",
     "output_type": "stream",
     "text": [
      "Sat Apr  3 18:56:09 2021       \r\n",
      "+-----------------------------------------------------------------------------+\r\n",
      "| NVIDIA-SMI 440.64.00    Driver Version: 440.64.00    CUDA Version: 10.2     |\r\n",
      "|-------------------------------+----------------------+----------------------+\r\n",
      "| GPU  Name        Persistence-M| Bus-Id        Disp.A | Volatile Uncorr. ECC |\r\n",
      "| Fan  Temp  Perf  Pwr:Usage/Cap|         Memory-Usage | GPU-Util  Compute M. |\r\n",
      "|===============================+======================+======================|\r\n",
      "|   0  TITAN V             Off  | 00000000:03:00.0 Off |                  N/A |\r\n",
      "| 34%   40C    P8    24W / 250W |  10129MiB / 12066MiB |      0%      Default |\r\n",
      "+-------------------------------+----------------------+----------------------+\r\n",
      "|   1  Tesla P100-PCIE...  Off  | 00000000:83:00.0 Off |                    0 |\r\n",
      "| N/A   32C    P0    33W / 250W |      0MiB / 16280MiB |      0%      Default |\r\n",
      "+-------------------------------+----------------------+----------------------+\r\n",
      "|   2  TITAN V             Off  | 00000000:84:00.0 Off |                  N/A |\r\n",
      "| 28%   41C    P0    36W / 250W |      0MiB / 12066MiB |      0%      Default |\r\n",
      "+-------------------------------+----------------------+----------------------+\r\n",
      "                                                                               \r\n",
      "+-----------------------------------------------------------------------------+\r\n",
      "| Processes:                                                       GPU Memory |\r\n",
      "|  GPU       PID   Type   Process name                             Usage      |\r\n",
      "|=============================================================================|\r\n",
      "|    0     15747      C   ...a/conda/envs/goofit-june2020/bin/python 10117MiB |\r\n",
      "+-----------------------------------------------------------------------------+\r\n"
     ]
    }
   ],
   "source": [
    "!nvidia-smi"
   ]
  },
  {
   "cell_type": "markdown",
   "metadata": {},
   "source": [
    "## Imports"
   ]
  },
  {
   "cell_type": "code",
   "execution_count": 3,
   "metadata": {},
   "outputs": [
    {
     "name": "stderr",
     "output_type": "stream",
     "text": [
      "/data/conda/envs/goofit-june2020/lib/python3.7/site-packages/awkward/__init__.py:23: DeprecationWarning: Consider switching from 'awkward' to 'awkward1', since the new interface will become the default later this year (2020).\n",
      "\n",
      "    pip install -U awkward1\n",
      "\n",
      "In Python:\n",
      "\n",
      "    >>> import awkward1 as ak\n",
      "    >>> new_style_array = ak.from_awkward0(old_style_array)\n",
      "    >>> old_style_array = ak.to_awkward0(new_style_array)\n",
      "\n",
      "  DeprecationWarning\n"
     ]
    }
   ],
   "source": [
    "import matplotlib.pyplot as plt\n",
    "import numpy as np\n",
    "import time\n",
    "import torch\n",
    "import pandas as pd\n",
    "import mlflow\n",
    "\n",
    "# Python 3 standard library\n",
    "from pathlib import Path\n",
    "\n",
    "from torchsummary import summary\n",
    "\n",
    "'''\n",
    "HELPER FUNCTIONS\n",
    "'''\n",
    "# From model/collectdata.py\n",
    "from model.collectdata_mdsA import collect_data\n",
    "# For poca KDE\n",
    "from model.collectdata_poca_KDE import collect_data_poca\n",
    "\n",
    "# From model/loss.py\n",
    "##from loss import Loss\n",
    "from model.alt_loss_A import Loss\n",
    "\n",
    "# From model/training.py\n",
    "from model.training import trainNet, select_gpu, Results\n",
    "\n",
    "# From model/models.py\n",
    "##  will start with model from TwoFeatures_CNN6Layer_A in the first instance\n",
    "##  see relevant cell below\n",
    "\n",
    "from model.models_mjp_30Mar21 import ACN_1i4_10L_4S_BN_NI as ModelA\n",
    "\n",
    "# From model/utilities.py\n",
    "from model.utilities import load_full_state, count_parameters, Params\n",
    "\n",
    "from model.plots import dual_train_plots, replace_in_ax\n",
    "\n",
    "## adds image of model architecture\n",
    "import hiddenlayer as HL"
   ]
  },
  {
   "cell_type": "markdown",
   "metadata": {},
   "source": [
    "Set up Torch device configuration. All tensors and model parameters need to know where to be put.\n",
    "This takes a BUS ID number: The BUS ID is the same as the listing at the top of this script."
   ]
  },
  {
   "cell_type": "code",
   "execution_count": 4,
   "metadata": {},
   "outputs": [
    {
     "name": "stdout",
     "output_type": "stream",
     "text": [
      "1 available GPUs (initially using device 0):\n",
      "  0 TITAN V\n"
     ]
    },
    {
     "name": "stderr",
     "output_type": "stream",
     "text": [
      "/data/conda/envs/goofit-june2020/lib/python3.7/site-packages/ipykernel/ipkernel.py:287: DeprecationWarning: `should_run_async` will not call `transform_cell` automatically in the future. Please pass the result to `transformed_cell` argument and any exception that happen during thetransform in `preprocessing_exc_tuple` in IPython 7.17 and above.\n",
      "  and should_run_async(code)\n"
     ]
    }
   ],
   "source": [
    "device = select_gpu(2)"
   ]
  },
  {
   "cell_type": "markdown",
   "metadata": {},
   "source": [
    "### Set up local parameters"
   ]
  },
  {
   "cell_type": "code",
   "execution_count": 5,
   "metadata": {},
   "outputs": [],
   "source": [
    "# params order - batch size, epochs, lr, epoch_start (which is usually set to 0)\n",
    "# NOTE: to break out of inital training stall, start with Params(128, 20, 5e-5, 0), \n",
    "# then transistion to normal training\n",
    "args = Params(128, 100, 1e-4, 0)"
   ]
  },
  {
   "cell_type": "markdown",
   "metadata": {},
   "source": [
    "## Loading data\n",
    "\n",
    "Load the dataset, split into parts, then move to device (see `collectdata.py` in the `../model` directory)"
   ]
  },
  {
   "cell_type": "code",
   "execution_count": 6,
   "metadata": {
    "scrolled": true
   },
   "outputs": [
    {
     "name": "stdout",
     "output_type": "stream",
     "text": [
      "Loading data...\n",
      "Loaded /share/lazy/sokoloff/ML-data_A/Aug14_80K_train.h5 in 13.01 s\n",
      "Loaded /share/lazy/sokoloff/ML-data_AA/Oct03_80K_train.h5 in 12.41 s\n",
      "Loaded /share/lazy/will/ML_mdsA/June30_2020_80k_1.h5 in 12.16 s\n",
      "Constructing 240000 event dataset took 6.491 s\n",
      "Loading data...\n",
      "Loaded /share/lazy/sokoloff/ML-data_AA/Oct03_20K_val.h5 in 3.039 s\n",
      "Constructing 9984 event dataset took 0.1293 s\n"
     ]
    },
    {
     "data": {
      "text/plain": [
       "\"\\n## This is used when training with the new KDE\\ntrain_loader = collect_data_poca('/share/lazy/will/data/June30_2020_80k_1.h5',\\n                            '/share/lazy/will/data/June30_2020_80k_3.h5',\\n                            batch_size=args.batch_size,\\n                            device=device,\\n                            masking=True, shuffle=True,\\n                           ## slice = slice(0,18000)\\n                           )\\n\\nval_loader = collect_data_poca('/share/lazy/sokoloff/ML-data_AA/20K_POCA_kernel_evts_200926.h5',\\n                            batch_size=args.batch_size,\\n                            device=device,\\n                            masking=True, shuffle=True,\\n                            ##slice = slice(18000,None)\\n                           )\\n\""
      ]
     },
     "execution_count": 6,
     "metadata": {},
     "output_type": "execute_result"
    }
   ],
   "source": [
    "## newer vernacular\n",
    "## Training dataset. You can put as many files here as desired.\n",
    "##  set the option load_XandXsq = True to use both DKE and KDE^2 as input features\n",
    "\n",
    "## This is used when training with the original KDE\n",
    "train_loader = collect_data('/share/lazy/sokoloff/ML-data_A/Aug14_80K_train.h5',\n",
    "                             '/share/lazy/sokoloff/ML-data_AA/Oct03_80K_train.h5',\n",
    "#                             '/share/lazy/sokoloff/ML-data_AA/Oct03_40K_train.h5',\n",
    "                             '/share/lazy/will/ML_mdsA/June30_2020_80k_1.h5',\n",
    "#                             '/share/lazy/will/ML_mdsA/June30_2020_80k_3.h5',\n",
    "#                             '/share/lazy/will/ML_mdsA/June30_2020_80k_4.h5',\n",
    "#                             '/share/lazy/will/ML_mdsA/June30_2020_80k_5.h5',\n",
    "#                             '/share/lazy/will/ML_mdsA/June30_2020_80k_6.h5',\n",
    "#                             '/share/lazy/will/ML_mdsA/June30_2020_80k_7.h5',\n",
    "#                             '/share/lazy/will/ML_mdsA/June30_2020_80k_8.h5',\n",
    "#                             '/share/lazy/will/ML_mdsA/June30_2020_80k_9.h5',\n",
    "                            #'/share/lazy/sokoloff/ML-data_AA/Oct03_80K2_train.h5',\n",
    "                             batch_size=args.batch_size,\n",
    "## if we are using a larger dataset (240K events, with the datasets above, and 11 GB  of GPU memory),\n",
    "## not the dataset will overflow the GPU memory; device=device will allow the data to move back\n",
    "## and forth between the CPU and GPU memory. While this allows use of a larger dataset, it slows\n",
    "## down performance by about 10%.  So comment out when not needed.\n",
    "                            device=device,\n",
    "                            masking=True, shuffle=True,\n",
    "                            load_XandXsq=False,\n",
    "                            load_xy=False)\n",
    "\n",
    "# Validation dataset. You can slice to reduce the size.\n",
    "## dataAA -> /share/lazy/sokoloff/ML-data_AA/\n",
    "val_loader = collect_data('/share/lazy/sokoloff/ML-data_AA/Oct03_20K_val.h5',\n",
    "## mds val_loader = collect_data('dataAA/HLT1CPU_1kevts_val.h5',\n",
    "\n",
    "                          batch_size=args.batch_size,\n",
    "                          slice=slice(256 * 39),\n",
    "                          device=device,\n",
    "                          masking=True, shuffle=False,\n",
    "                          load_XandXsq=False,\n",
    "                          load_xy=False)\n",
    "\n",
    "'''\n",
    "## This is used when training with the new KDE\n",
    "train_loader = collect_data_poca('/share/lazy/will/data/June30_2020_80k_1.h5',\n",
    "                            '/share/lazy/will/data/June30_2020_80k_3.h5',\n",
    "                            batch_size=args.batch_size,\n",
    "                            device=device,\n",
    "                            masking=True, shuffle=True,\n",
    "                           ## slice = slice(0,18000)\n",
    "                           )\n",
    "\n",
    "val_loader = collect_data_poca('/share/lazy/sokoloff/ML-data_AA/20K_POCA_kernel_evts_200926.h5',\n",
    "                            batch_size=args.batch_size,\n",
    "                            device=device,\n",
    "                            masking=True, shuffle=True,\n",
    "                            ##slice = slice(18000,None)\n",
    "                           )\n",
    "'''"
   ]
  },
  {
   "cell_type": "markdown",
   "metadata": {},
   "source": [
    "# Preparing the model"
   ]
  },
  {
   "cell_type": "markdown",
   "metadata": {},
   "source": [
    "Prepare a model, use multiple GPUs if they are VISIBLE, and move the model to the device."
   ]
  },
  {
   "cell_type": "code",
   "execution_count": 7,
   "metadata": {
    "scrolled": true
   },
   "outputs": [
    {
     "name": "stderr",
     "output_type": "stream",
     "text": [
      "WARNING:root:Malformed experiment 'ML'. Detailed error Yaml file '/share/lazy/pv-finder_model_repo/ML/meta.yaml' does not exist.\n",
      "Traceback (most recent call last):\n",
      "  File \"/home/michael24peters/.local/lib/python3.7/site-packages/mlflow/store/tracking/file_store.py\", line 197, in list_experiments\n",
      "    experiment = self._get_experiment(exp_id, view_type)\n",
      "  File \"/home/michael24peters/.local/lib/python3.7/site-packages/mlflow/store/tracking/file_store.py\", line 260, in _get_experiment\n",
      "    meta = read_yaml(experiment_dir, FileStore.META_DATA_FILE_NAME)\n",
      "  File \"/home/michael24peters/.local/lib/python3.7/site-packages/mlflow/utils/file_utils.py\", line 167, in read_yaml\n",
      "    raise MissingConfigException(\"Yaml file '%s' does not exist.\" % file_path)\n",
      "mlflow.exceptions.MissingConfigException: Yaml file '/share/lazy/pv-finder_model_repo/ML/meta.yaml' does not exist.\n"
     ]
    }
   ],
   "source": [
    "# Set model to use (defined above)\n",
    "model = ModelA()\n",
    "\n",
    "# Prints out layout of each model (keep commented out)\n",
    "##summary(model, input_size=(4, 4000))\n",
    "##print(model.parameters)\n",
    "\n",
    "# Sets save directory for mlflow\n",
    "mlflow.tracking.set_tracking_uri('file:/share/lazy/pv-finder_model_repo')\n",
    "mlflow.set_experiment('Four Feature AllCNN')"
   ]
  },
  {
   "cell_type": "code",
   "execution_count": 8,
   "metadata": {
    "scrolled": true
   },
   "outputs": [
    {
     "name": "stdout",
     "output_type": "stream",
     "text": [
      "Let's use 1 GPUs!\n"
     ]
    }
   ],
   "source": [
    "print(\"Let's use\", torch.cuda.device_count(), \"GPUs!\")\n",
    "if torch.cuda.device_count() > 1:\n",
    "    model = torch.nn.DataParallel(model)"
   ]
  },
  {
   "cell_type": "code",
   "execution_count": 9,
   "metadata": {
    "scrolled": true
   },
   "outputs": [],
   "source": [
    "loss = Loss(epsilon=1e-5,coefficient=2.5)\n",
    "optimizer = torch.optim.Adam(model.parameters(), lr=args.lr)\n",
    "\n",
    "##  use the first five layers from a pre-existing model\n",
    "##  see example at https://discuss.pytorch.org/t/how-to-load-part-of-pre-trained-model/1113\n",
    "##   ML -> /share/lazy/sokoloff/ML\n",
    "\n",
    "# When loading pretrained models, use this code; otherwise, comment it out\n",
    "# For other pretrained models, go to MLFlow and find the path for \"run_stats.pyt\"\n",
    "#pretrained_dict = '/share/lazy/pv-finder_model_repo/12/8b2d0e31296841a89f8c38a2b3b2b655/artifacts/run_stats.pyt'\n",
    "#load_full_state(model, optimizer, pretrained_dict)"
   ]
  },
  {
   "cell_type": "code",
   "execution_count": 10,
   "metadata": {},
   "outputs": [
    {
     "data": {
      "text/plain": [
       "ACN_1i4_10L_4S_BN_NI(\n",
       "  (conv1): Conv(\n",
       "    (0): Conv1d(1, 20, kernel_size=(25,), stride=(1,), padding=(12,))\n",
       "    (1): BatchNorm1d(20, eps=1e-05, momentum=0.1, affine=True, track_running_stats=True)\n",
       "    (2): Dropout(p=0.15, inplace=False)\n",
       "    (3): LeakyReLU(negative_slope=0.01)\n",
       "  )\n",
       "  (conv2): Conv(\n",
       "    (0): Conv1d(20, 10, kernel_size=(15,), stride=(1,), padding=(7,))\n",
       "    (1): BatchNorm1d(10, eps=1e-05, momentum=0.1, affine=True, track_running_stats=True)\n",
       "    (2): Dropout(p=0.15, inplace=False)\n",
       "    (3): LeakyReLU(negative_slope=0.01)\n",
       "  )\n",
       "  (conv3): Conv(\n",
       "    (0): Conv1d(30, 10, kernel_size=(15,), stride=(1,), padding=(7,))\n",
       "    (1): BatchNorm1d(10, eps=1e-05, momentum=0.1, affine=True, track_running_stats=True)\n",
       "    (2): Dropout(p=0.15, inplace=False)\n",
       "    (3): LeakyReLU(negative_slope=0.01)\n",
       "  )\n",
       "  (conv4): Conv(\n",
       "    (0): Conv1d(10, 10, kernel_size=(15,), stride=(1,), padding=(7,))\n",
       "    (1): BatchNorm1d(10, eps=1e-05, momentum=0.1, affine=True, track_running_stats=True)\n",
       "    (2): Dropout(p=0.15, inplace=False)\n",
       "    (3): LeakyReLU(negative_slope=0.01)\n",
       "  )\n",
       "  (conv5): Conv(\n",
       "    (0): Conv1d(20, 10, kernel_size=(15,), stride=(1,), padding=(7,))\n",
       "    (1): BatchNorm1d(10, eps=1e-05, momentum=0.1, affine=True, track_running_stats=True)\n",
       "    (2): Dropout(p=0.15, inplace=False)\n",
       "    (3): LeakyReLU(negative_slope=0.01)\n",
       "  )\n",
       "  (conv6): Conv(\n",
       "    (0): Conv1d(10, 10, kernel_size=(15,), stride=(1,), padding=(7,))\n",
       "    (1): BatchNorm1d(10, eps=1e-05, momentum=0.1, affine=True, track_running_stats=True)\n",
       "    (2): Dropout(p=0.15, inplace=False)\n",
       "    (3): LeakyReLU(negative_slope=0.01)\n",
       "  )\n",
       "  (conv7): Conv(\n",
       "    (0): Conv1d(20, 7, kernel_size=(15,), stride=(1,), padding=(7,))\n",
       "    (1): BatchNorm1d(7, eps=1e-05, momentum=0.1, affine=True, track_running_stats=True)\n",
       "    (2): Dropout(p=0.15, inplace=False)\n",
       "    (3): LeakyReLU(negative_slope=0.01)\n",
       "  )\n",
       "  (conv8): Conv(\n",
       "    (0): Conv1d(7, 5, kernel_size=(9,), stride=(1,), padding=(4,))\n",
       "    (1): BatchNorm1d(5, eps=1e-05, momentum=0.1, affine=True, track_running_stats=True)\n",
       "    (2): Dropout(p=0.15, inplace=False)\n",
       "    (3): LeakyReLU(negative_slope=0.01)\n",
       "  )\n",
       "  (conv9): Conv(\n",
       "    (0): Conv1d(12, 1, kernel_size=(5,), stride=(1,), padding=(2,))\n",
       "    (1): BatchNorm1d(1, eps=1e-05, momentum=0.1, affine=True, track_running_stats=True)\n",
       "    (2): Dropout(p=0.35, inplace=False)\n",
       "    (3): LeakyReLU(negative_slope=0.01)\n",
       "  )\n",
       "  (fc1): Linear(in_features=4000, out_features=4000, bias=True)\n",
       ")"
      ]
     },
     "execution_count": 10,
     "metadata": {},
     "output_type": "execute_result"
    }
   ],
   "source": [
    "model.to(device)"
   ]
  },
  {
   "cell_type": "markdown",
   "metadata": {},
   "source": [
    "## Train \n",
    "\n",
    "\n",
    "\n",
    "The body of this loop runs once per epoch. Results is a named tuple of values (loss per epoch for training and validation, time each). Start by setting up a plot first:"
   ]
  },
  {
   "cell_type": "code",
   "execution_count": 11,
   "metadata": {},
   "outputs": [
    {
     "data": {
      "application/javascript": [
       "/* Put everything inside the global mpl namespace */\n",
       "window.mpl = {};\n",
       "\n",
       "\n",
       "mpl.get_websocket_type = function() {\n",
       "    if (typeof(WebSocket) !== 'undefined') {\n",
       "        return WebSocket;\n",
       "    } else if (typeof(MozWebSocket) !== 'undefined') {\n",
       "        return MozWebSocket;\n",
       "    } else {\n",
       "        alert('Your browser does not have WebSocket support. ' +\n",
       "              'Please try Chrome, Safari or Firefox ≥ 6. ' +\n",
       "              'Firefox 4 and 5 are also supported but you ' +\n",
       "              'have to enable WebSockets in about:config.');\n",
       "    };\n",
       "}\n",
       "\n",
       "mpl.figure = function(figure_id, websocket, ondownload, parent_element) {\n",
       "    this.id = figure_id;\n",
       "\n",
       "    this.ws = websocket;\n",
       "\n",
       "    this.supports_binary = (this.ws.binaryType != undefined);\n",
       "\n",
       "    if (!this.supports_binary) {\n",
       "        var warnings = document.getElementById(\"mpl-warnings\");\n",
       "        if (warnings) {\n",
       "            warnings.style.display = 'block';\n",
       "            warnings.textContent = (\n",
       "                \"This browser does not support binary websocket messages. \" +\n",
       "                    \"Performance may be slow.\");\n",
       "        }\n",
       "    }\n",
       "\n",
       "    this.imageObj = new Image();\n",
       "\n",
       "    this.context = undefined;\n",
       "    this.message = undefined;\n",
       "    this.canvas = undefined;\n",
       "    this.rubberband_canvas = undefined;\n",
       "    this.rubberband_context = undefined;\n",
       "    this.format_dropdown = undefined;\n",
       "\n",
       "    this.image_mode = 'full';\n",
       "\n",
       "    this.root = $('<div/>');\n",
       "    this._root_extra_style(this.root)\n",
       "    this.root.attr('style', 'display: inline-block');\n",
       "\n",
       "    $(parent_element).append(this.root);\n",
       "\n",
       "    this._init_header(this);\n",
       "    this._init_canvas(this);\n",
       "    this._init_toolbar(this);\n",
       "\n",
       "    var fig = this;\n",
       "\n",
       "    this.waiting = false;\n",
       "\n",
       "    this.ws.onopen =  function () {\n",
       "            fig.send_message(\"supports_binary\", {value: fig.supports_binary});\n",
       "            fig.send_message(\"send_image_mode\", {});\n",
       "            if (mpl.ratio != 1) {\n",
       "                fig.send_message(\"set_dpi_ratio\", {'dpi_ratio': mpl.ratio});\n",
       "            }\n",
       "            fig.send_message(\"refresh\", {});\n",
       "        }\n",
       "\n",
       "    this.imageObj.onload = function() {\n",
       "            if (fig.image_mode == 'full') {\n",
       "                // Full images could contain transparency (where diff images\n",
       "                // almost always do), so we need to clear the canvas so that\n",
       "                // there is no ghosting.\n",
       "                fig.context.clearRect(0, 0, fig.canvas.width, fig.canvas.height);\n",
       "            }\n",
       "            fig.context.drawImage(fig.imageObj, 0, 0);\n",
       "        };\n",
       "\n",
       "    this.imageObj.onunload = function() {\n",
       "        fig.ws.close();\n",
       "    }\n",
       "\n",
       "    this.ws.onmessage = this._make_on_message_function(this);\n",
       "\n",
       "    this.ondownload = ondownload;\n",
       "}\n",
       "\n",
       "mpl.figure.prototype._init_header = function() {\n",
       "    var titlebar = $(\n",
       "        '<div class=\"ui-dialog-titlebar ui-widget-header ui-corner-all ' +\n",
       "        'ui-helper-clearfix\"/>');\n",
       "    var titletext = $(\n",
       "        '<div class=\"ui-dialog-title\" style=\"width: 100%; ' +\n",
       "        'text-align: center; padding: 3px;\"/>');\n",
       "    titlebar.append(titletext)\n",
       "    this.root.append(titlebar);\n",
       "    this.header = titletext[0];\n",
       "}\n",
       "\n",
       "\n",
       "\n",
       "mpl.figure.prototype._canvas_extra_style = function(canvas_div) {\n",
       "\n",
       "}\n",
       "\n",
       "\n",
       "mpl.figure.prototype._root_extra_style = function(canvas_div) {\n",
       "\n",
       "}\n",
       "\n",
       "mpl.figure.prototype._init_canvas = function() {\n",
       "    var fig = this;\n",
       "\n",
       "    var canvas_div = $('<div/>');\n",
       "\n",
       "    canvas_div.attr('style', 'position: relative; clear: both; outline: 0');\n",
       "\n",
       "    function canvas_keyboard_event(event) {\n",
       "        return fig.key_event(event, event['data']);\n",
       "    }\n",
       "\n",
       "    canvas_div.keydown('key_press', canvas_keyboard_event);\n",
       "    canvas_div.keyup('key_release', canvas_keyboard_event);\n",
       "    this.canvas_div = canvas_div\n",
       "    this._canvas_extra_style(canvas_div)\n",
       "    this.root.append(canvas_div);\n",
       "\n",
       "    var canvas = $('<canvas/>');\n",
       "    canvas.addClass('mpl-canvas');\n",
       "    canvas.attr('style', \"left: 0; top: 0; z-index: 0; outline: 0\")\n",
       "\n",
       "    this.canvas = canvas[0];\n",
       "    this.context = canvas[0].getContext(\"2d\");\n",
       "\n",
       "    var backingStore = this.context.backingStorePixelRatio ||\n",
       "\tthis.context.webkitBackingStorePixelRatio ||\n",
       "\tthis.context.mozBackingStorePixelRatio ||\n",
       "\tthis.context.msBackingStorePixelRatio ||\n",
       "\tthis.context.oBackingStorePixelRatio ||\n",
       "\tthis.context.backingStorePixelRatio || 1;\n",
       "\n",
       "    mpl.ratio = (window.devicePixelRatio || 1) / backingStore;\n",
       "\n",
       "    var rubberband = $('<canvas/>');\n",
       "    rubberband.attr('style', \"position: absolute; left: 0; top: 0; z-index: 1;\")\n",
       "\n",
       "    var pass_mouse_events = true;\n",
       "\n",
       "    canvas_div.resizable({\n",
       "        start: function(event, ui) {\n",
       "            pass_mouse_events = false;\n",
       "        },\n",
       "        resize: function(event, ui) {\n",
       "            fig.request_resize(ui.size.width, ui.size.height);\n",
       "        },\n",
       "        stop: function(event, ui) {\n",
       "            pass_mouse_events = true;\n",
       "            fig.request_resize(ui.size.width, ui.size.height);\n",
       "        },\n",
       "    });\n",
       "\n",
       "    function mouse_event_fn(event) {\n",
       "        if (pass_mouse_events)\n",
       "            return fig.mouse_event(event, event['data']);\n",
       "    }\n",
       "\n",
       "    rubberband.mousedown('button_press', mouse_event_fn);\n",
       "    rubberband.mouseup('button_release', mouse_event_fn);\n",
       "    // Throttle sequential mouse events to 1 every 20ms.\n",
       "    rubberband.mousemove('motion_notify', mouse_event_fn);\n",
       "\n",
       "    rubberband.mouseenter('figure_enter', mouse_event_fn);\n",
       "    rubberband.mouseleave('figure_leave', mouse_event_fn);\n",
       "\n",
       "    canvas_div.on(\"wheel\", function (event) {\n",
       "        event = event.originalEvent;\n",
       "        event['data'] = 'scroll'\n",
       "        if (event.deltaY < 0) {\n",
       "            event.step = 1;\n",
       "        } else {\n",
       "            event.step = -1;\n",
       "        }\n",
       "        mouse_event_fn(event);\n",
       "    });\n",
       "\n",
       "    canvas_div.append(canvas);\n",
       "    canvas_div.append(rubberband);\n",
       "\n",
       "    this.rubberband = rubberband;\n",
       "    this.rubberband_canvas = rubberband[0];\n",
       "    this.rubberband_context = rubberband[0].getContext(\"2d\");\n",
       "    this.rubberband_context.strokeStyle = \"#000000\";\n",
       "\n",
       "    this._resize_canvas = function(width, height) {\n",
       "        // Keep the size of the canvas, canvas container, and rubber band\n",
       "        // canvas in synch.\n",
       "        canvas_div.css('width', width)\n",
       "        canvas_div.css('height', height)\n",
       "\n",
       "        canvas.attr('width', width * mpl.ratio);\n",
       "        canvas.attr('height', height * mpl.ratio);\n",
       "        canvas.attr('style', 'width: ' + width + 'px; height: ' + height + 'px;');\n",
       "\n",
       "        rubberband.attr('width', width);\n",
       "        rubberband.attr('height', height);\n",
       "    }\n",
       "\n",
       "    // Set the figure to an initial 600x600px, this will subsequently be updated\n",
       "    // upon first draw.\n",
       "    this._resize_canvas(600, 600);\n",
       "\n",
       "    // Disable right mouse context menu.\n",
       "    $(this.rubberband_canvas).bind(\"contextmenu\",function(e){\n",
       "        return false;\n",
       "    });\n",
       "\n",
       "    function set_focus () {\n",
       "        canvas.focus();\n",
       "        canvas_div.focus();\n",
       "    }\n",
       "\n",
       "    window.setTimeout(set_focus, 100);\n",
       "}\n",
       "\n",
       "mpl.figure.prototype._init_toolbar = function() {\n",
       "    var fig = this;\n",
       "\n",
       "    var nav_element = $('<div/>');\n",
       "    nav_element.attr('style', 'width: 100%');\n",
       "    this.root.append(nav_element);\n",
       "\n",
       "    // Define a callback function for later on.\n",
       "    function toolbar_event(event) {\n",
       "        return fig.toolbar_button_onclick(event['data']);\n",
       "    }\n",
       "    function toolbar_mouse_event(event) {\n",
       "        return fig.toolbar_button_onmouseover(event['data']);\n",
       "    }\n",
       "\n",
       "    for(var toolbar_ind in mpl.toolbar_items) {\n",
       "        var name = mpl.toolbar_items[toolbar_ind][0];\n",
       "        var tooltip = mpl.toolbar_items[toolbar_ind][1];\n",
       "        var image = mpl.toolbar_items[toolbar_ind][2];\n",
       "        var method_name = mpl.toolbar_items[toolbar_ind][3];\n",
       "\n",
       "        if (!name) {\n",
       "            // put a spacer in here.\n",
       "            continue;\n",
       "        }\n",
       "        var button = $('<button/>');\n",
       "        button.addClass('ui-button ui-widget ui-state-default ui-corner-all ' +\n",
       "                        'ui-button-icon-only');\n",
       "        button.attr('role', 'button');\n",
       "        button.attr('aria-disabled', 'false');\n",
       "        button.click(method_name, toolbar_event);\n",
       "        button.mouseover(tooltip, toolbar_mouse_event);\n",
       "\n",
       "        var icon_img = $('<span/>');\n",
       "        icon_img.addClass('ui-button-icon-primary ui-icon');\n",
       "        icon_img.addClass(image);\n",
       "        icon_img.addClass('ui-corner-all');\n",
       "\n",
       "        var tooltip_span = $('<span/>');\n",
       "        tooltip_span.addClass('ui-button-text');\n",
       "        tooltip_span.html(tooltip);\n",
       "\n",
       "        button.append(icon_img);\n",
       "        button.append(tooltip_span);\n",
       "\n",
       "        nav_element.append(button);\n",
       "    }\n",
       "\n",
       "    var fmt_picker_span = $('<span/>');\n",
       "\n",
       "    var fmt_picker = $('<select/>');\n",
       "    fmt_picker.addClass('mpl-toolbar-option ui-widget ui-widget-content');\n",
       "    fmt_picker_span.append(fmt_picker);\n",
       "    nav_element.append(fmt_picker_span);\n",
       "    this.format_dropdown = fmt_picker[0];\n",
       "\n",
       "    for (var ind in mpl.extensions) {\n",
       "        var fmt = mpl.extensions[ind];\n",
       "        var option = $(\n",
       "            '<option/>', {selected: fmt === mpl.default_extension}).html(fmt);\n",
       "        fmt_picker.append(option);\n",
       "    }\n",
       "\n",
       "    // Add hover states to the ui-buttons\n",
       "    $( \".ui-button\" ).hover(\n",
       "        function() { $(this).addClass(\"ui-state-hover\");},\n",
       "        function() { $(this).removeClass(\"ui-state-hover\");}\n",
       "    );\n",
       "\n",
       "    var status_bar = $('<span class=\"mpl-message\"/>');\n",
       "    nav_element.append(status_bar);\n",
       "    this.message = status_bar[0];\n",
       "}\n",
       "\n",
       "mpl.figure.prototype.request_resize = function(x_pixels, y_pixels) {\n",
       "    // Request matplotlib to resize the figure. Matplotlib will then trigger a resize in the client,\n",
       "    // which will in turn request a refresh of the image.\n",
       "    this.send_message('resize', {'width': x_pixels, 'height': y_pixels});\n",
       "}\n",
       "\n",
       "mpl.figure.prototype.send_message = function(type, properties) {\n",
       "    properties['type'] = type;\n",
       "    properties['figure_id'] = this.id;\n",
       "    this.ws.send(JSON.stringify(properties));\n",
       "}\n",
       "\n",
       "mpl.figure.prototype.send_draw_message = function() {\n",
       "    if (!this.waiting) {\n",
       "        this.waiting = true;\n",
       "        this.ws.send(JSON.stringify({type: \"draw\", figure_id: this.id}));\n",
       "    }\n",
       "}\n",
       "\n",
       "\n",
       "mpl.figure.prototype.handle_save = function(fig, msg) {\n",
       "    var format_dropdown = fig.format_dropdown;\n",
       "    var format = format_dropdown.options[format_dropdown.selectedIndex].value;\n",
       "    fig.ondownload(fig, format);\n",
       "}\n",
       "\n",
       "\n",
       "mpl.figure.prototype.handle_resize = function(fig, msg) {\n",
       "    var size = msg['size'];\n",
       "    if (size[0] != fig.canvas.width || size[1] != fig.canvas.height) {\n",
       "        fig._resize_canvas(size[0], size[1]);\n",
       "        fig.send_message(\"refresh\", {});\n",
       "    };\n",
       "}\n",
       "\n",
       "mpl.figure.prototype.handle_rubberband = function(fig, msg) {\n",
       "    var x0 = msg['x0'] / mpl.ratio;\n",
       "    var y0 = (fig.canvas.height - msg['y0']) / mpl.ratio;\n",
       "    var x1 = msg['x1'] / mpl.ratio;\n",
       "    var y1 = (fig.canvas.height - msg['y1']) / mpl.ratio;\n",
       "    x0 = Math.floor(x0) + 0.5;\n",
       "    y0 = Math.floor(y0) + 0.5;\n",
       "    x1 = Math.floor(x1) + 0.5;\n",
       "    y1 = Math.floor(y1) + 0.5;\n",
       "    var min_x = Math.min(x0, x1);\n",
       "    var min_y = Math.min(y0, y1);\n",
       "    var width = Math.abs(x1 - x0);\n",
       "    var height = Math.abs(y1 - y0);\n",
       "\n",
       "    fig.rubberband_context.clearRect(\n",
       "        0, 0, fig.canvas.width / mpl.ratio, fig.canvas.height / mpl.ratio);\n",
       "\n",
       "    fig.rubberband_context.strokeRect(min_x, min_y, width, height);\n",
       "}\n",
       "\n",
       "mpl.figure.prototype.handle_figure_label = function(fig, msg) {\n",
       "    // Updates the figure title.\n",
       "    fig.header.textContent = msg['label'];\n",
       "}\n",
       "\n",
       "mpl.figure.prototype.handle_cursor = function(fig, msg) {\n",
       "    var cursor = msg['cursor'];\n",
       "    switch(cursor)\n",
       "    {\n",
       "    case 0:\n",
       "        cursor = 'pointer';\n",
       "        break;\n",
       "    case 1:\n",
       "        cursor = 'default';\n",
       "        break;\n",
       "    case 2:\n",
       "        cursor = 'crosshair';\n",
       "        break;\n",
       "    case 3:\n",
       "        cursor = 'move';\n",
       "        break;\n",
       "    }\n",
       "    fig.rubberband_canvas.style.cursor = cursor;\n",
       "}\n",
       "\n",
       "mpl.figure.prototype.handle_message = function(fig, msg) {\n",
       "    fig.message.textContent = msg['message'];\n",
       "}\n",
       "\n",
       "mpl.figure.prototype.handle_draw = function(fig, msg) {\n",
       "    // Request the server to send over a new figure.\n",
       "    fig.send_draw_message();\n",
       "}\n",
       "\n",
       "mpl.figure.prototype.handle_image_mode = function(fig, msg) {\n",
       "    fig.image_mode = msg['mode'];\n",
       "}\n",
       "\n",
       "mpl.figure.prototype.updated_canvas_event = function() {\n",
       "    // Called whenever the canvas gets updated.\n",
       "    this.send_message(\"ack\", {});\n",
       "}\n",
       "\n",
       "// A function to construct a web socket function for onmessage handling.\n",
       "// Called in the figure constructor.\n",
       "mpl.figure.prototype._make_on_message_function = function(fig) {\n",
       "    return function socket_on_message(evt) {\n",
       "        if (evt.data instanceof Blob) {\n",
       "            /* FIXME: We get \"Resource interpreted as Image but\n",
       "             * transferred with MIME type text/plain:\" errors on\n",
       "             * Chrome.  But how to set the MIME type?  It doesn't seem\n",
       "             * to be part of the websocket stream */\n",
       "            evt.data.type = \"image/png\";\n",
       "\n",
       "            /* Free the memory for the previous frames */\n",
       "            if (fig.imageObj.src) {\n",
       "                (window.URL || window.webkitURL).revokeObjectURL(\n",
       "                    fig.imageObj.src);\n",
       "            }\n",
       "\n",
       "            fig.imageObj.src = (window.URL || window.webkitURL).createObjectURL(\n",
       "                evt.data);\n",
       "            fig.updated_canvas_event();\n",
       "            fig.waiting = false;\n",
       "            return;\n",
       "        }\n",
       "        else if (typeof evt.data === 'string' && evt.data.slice(0, 21) == \"data:image/png;base64\") {\n",
       "            fig.imageObj.src = evt.data;\n",
       "            fig.updated_canvas_event();\n",
       "            fig.waiting = false;\n",
       "            return;\n",
       "        }\n",
       "\n",
       "        var msg = JSON.parse(evt.data);\n",
       "        var msg_type = msg['type'];\n",
       "\n",
       "        // Call the  \"handle_{type}\" callback, which takes\n",
       "        // the figure and JSON message as its only arguments.\n",
       "        try {\n",
       "            var callback = fig[\"handle_\" + msg_type];\n",
       "        } catch (e) {\n",
       "            console.log(\"No handler for the '\" + msg_type + \"' message type: \", msg);\n",
       "            return;\n",
       "        }\n",
       "\n",
       "        if (callback) {\n",
       "            try {\n",
       "                // console.log(\"Handling '\" + msg_type + \"' message: \", msg);\n",
       "                callback(fig, msg);\n",
       "            } catch (e) {\n",
       "                console.log(\"Exception inside the 'handler_\" + msg_type + \"' callback:\", e, e.stack, msg);\n",
       "            }\n",
       "        }\n",
       "    };\n",
       "}\n",
       "\n",
       "// from http://stackoverflow.com/questions/1114465/getting-mouse-location-in-canvas\n",
       "mpl.findpos = function(e) {\n",
       "    //this section is from http://www.quirksmode.org/js/events_properties.html\n",
       "    var targ;\n",
       "    if (!e)\n",
       "        e = window.event;\n",
       "    if (e.target)\n",
       "        targ = e.target;\n",
       "    else if (e.srcElement)\n",
       "        targ = e.srcElement;\n",
       "    if (targ.nodeType == 3) // defeat Safari bug\n",
       "        targ = targ.parentNode;\n",
       "\n",
       "    // jQuery normalizes the pageX and pageY\n",
       "    // pageX,Y are the mouse positions relative to the document\n",
       "    // offset() returns the position of the element relative to the document\n",
       "    var x = e.pageX - $(targ).offset().left;\n",
       "    var y = e.pageY - $(targ).offset().top;\n",
       "\n",
       "    return {\"x\": x, \"y\": y};\n",
       "};\n",
       "\n",
       "/*\n",
       " * return a copy of an object with only non-object keys\n",
       " * we need this to avoid circular references\n",
       " * http://stackoverflow.com/a/24161582/3208463\n",
       " */\n",
       "function simpleKeys (original) {\n",
       "  return Object.keys(original).reduce(function (obj, key) {\n",
       "    if (typeof original[key] !== 'object')\n",
       "        obj[key] = original[key]\n",
       "    return obj;\n",
       "  }, {});\n",
       "}\n",
       "\n",
       "mpl.figure.prototype.mouse_event = function(event, name) {\n",
       "    var canvas_pos = mpl.findpos(event)\n",
       "\n",
       "    if (name === 'button_press')\n",
       "    {\n",
       "        this.canvas.focus();\n",
       "        this.canvas_div.focus();\n",
       "    }\n",
       "\n",
       "    var x = canvas_pos.x * mpl.ratio;\n",
       "    var y = canvas_pos.y * mpl.ratio;\n",
       "\n",
       "    this.send_message(name, {x: x, y: y, button: event.button,\n",
       "                             step: event.step,\n",
       "                             guiEvent: simpleKeys(event)});\n",
       "\n",
       "    /* This prevents the web browser from automatically changing to\n",
       "     * the text insertion cursor when the button is pressed.  We want\n",
       "     * to control all of the cursor setting manually through the\n",
       "     * 'cursor' event from matplotlib */\n",
       "    event.preventDefault();\n",
       "    return false;\n",
       "}\n",
       "\n",
       "mpl.figure.prototype._key_event_extra = function(event, name) {\n",
       "    // Handle any extra behaviour associated with a key event\n",
       "}\n",
       "\n",
       "mpl.figure.prototype.key_event = function(event, name) {\n",
       "\n",
       "    // Prevent repeat events\n",
       "    if (name == 'key_press')\n",
       "    {\n",
       "        if (event.which === this._key)\n",
       "            return;\n",
       "        else\n",
       "            this._key = event.which;\n",
       "    }\n",
       "    if (name == 'key_release')\n",
       "        this._key = null;\n",
       "\n",
       "    var value = '';\n",
       "    if (event.ctrlKey && event.which != 17)\n",
       "        value += \"ctrl+\";\n",
       "    if (event.altKey && event.which != 18)\n",
       "        value += \"alt+\";\n",
       "    if (event.shiftKey && event.which != 16)\n",
       "        value += \"shift+\";\n",
       "\n",
       "    value += 'k';\n",
       "    value += event.which.toString();\n",
       "\n",
       "    this._key_event_extra(event, name);\n",
       "\n",
       "    this.send_message(name, {key: value,\n",
       "                             guiEvent: simpleKeys(event)});\n",
       "    return false;\n",
       "}\n",
       "\n",
       "mpl.figure.prototype.toolbar_button_onclick = function(name) {\n",
       "    if (name == 'download') {\n",
       "        this.handle_save(this, null);\n",
       "    } else {\n",
       "        this.send_message(\"toolbar_button\", {name: name});\n",
       "    }\n",
       "};\n",
       "\n",
       "mpl.figure.prototype.toolbar_button_onmouseover = function(tooltip) {\n",
       "    this.message.textContent = tooltip;\n",
       "};\n",
       "mpl.toolbar_items = [[\"Home\", \"Reset original view\", \"fa fa-home icon-home\", \"home\"], [\"Back\", \"Back to previous view\", \"fa fa-arrow-left icon-arrow-left\", \"back\"], [\"Forward\", \"Forward to next view\", \"fa fa-arrow-right icon-arrow-right\", \"forward\"], [\"\", \"\", \"\", \"\"], [\"Pan\", \"Pan axes with left mouse, zoom with right\", \"fa fa-arrows icon-move\", \"pan\"], [\"Zoom\", \"Zoom to rectangle\", \"fa fa-square-o icon-check-empty\", \"zoom\"], [\"\", \"\", \"\", \"\"], [\"Download\", \"Download plot\", \"fa fa-floppy-o icon-save\", \"download\"]];\n",
       "\n",
       "mpl.extensions = [\"eps\", \"jpeg\", \"pdf\", \"png\", \"ps\", \"raw\", \"svg\", \"tif\"];\n",
       "\n",
       "mpl.default_extension = \"png\";var comm_websocket_adapter = function(comm) {\n",
       "    // Create a \"websocket\"-like object which calls the given IPython comm\n",
       "    // object with the appropriate methods. Currently this is a non binary\n",
       "    // socket, so there is still some room for performance tuning.\n",
       "    var ws = {};\n",
       "\n",
       "    ws.close = function() {\n",
       "        comm.close()\n",
       "    };\n",
       "    ws.send = function(m) {\n",
       "        //console.log('sending', m);\n",
       "        comm.send(m);\n",
       "    };\n",
       "    // Register the callback with on_msg.\n",
       "    comm.on_msg(function(msg) {\n",
       "        //console.log('receiving', msg['content']['data'], msg);\n",
       "        // Pass the mpl event to the overridden (by mpl) onmessage function.\n",
       "        ws.onmessage(msg['content']['data'])\n",
       "    });\n",
       "    return ws;\n",
       "}\n",
       "\n",
       "mpl.mpl_figure_comm = function(comm, msg) {\n",
       "    // This is the function which gets called when the mpl process\n",
       "    // starts-up an IPython Comm through the \"matplotlib\" channel.\n",
       "\n",
       "    var id = msg.content.data.id;\n",
       "    // Get hold of the div created by the display call when the Comm\n",
       "    // socket was opened in Python.\n",
       "    var element = $(\"#\" + id);\n",
       "    var ws_proxy = comm_websocket_adapter(comm)\n",
       "\n",
       "    function ondownload(figure, format) {\n",
       "        window.open(figure.imageObj.src);\n",
       "    }\n",
       "\n",
       "    var fig = new mpl.figure(id, ws_proxy,\n",
       "                           ondownload,\n",
       "                           element.get(0));\n",
       "\n",
       "    // Call onopen now - mpl needs it, as it is assuming we've passed it a real\n",
       "    // web socket which is closed, not our websocket->open comm proxy.\n",
       "    ws_proxy.onopen();\n",
       "\n",
       "    fig.parent_element = element.get(0);\n",
       "    fig.cell_info = mpl.find_output_cell(\"<div id='\" + id + \"'></div>\");\n",
       "    if (!fig.cell_info) {\n",
       "        console.error(\"Failed to find cell for figure\", id, fig);\n",
       "        return;\n",
       "    }\n",
       "\n",
       "    var output_index = fig.cell_info[2]\n",
       "    var cell = fig.cell_info[0];\n",
       "\n",
       "};\n",
       "\n",
       "mpl.figure.prototype.handle_close = function(fig, msg) {\n",
       "    var width = fig.canvas.width/mpl.ratio\n",
       "    fig.root.unbind('remove')\n",
       "\n",
       "    // Update the output cell to use the data from the current canvas.\n",
       "    fig.push_to_output();\n",
       "    var dataURL = fig.canvas.toDataURL();\n",
       "    // Re-enable the keyboard manager in IPython - without this line, in FF,\n",
       "    // the notebook keyboard shortcuts fail.\n",
       "    IPython.keyboard_manager.enable()\n",
       "    $(fig.parent_element).html('<img src=\"' + dataURL + '\" width=\"' + width + '\">');\n",
       "    fig.close_ws(fig, msg);\n",
       "}\n",
       "\n",
       "mpl.figure.prototype.close_ws = function(fig, msg){\n",
       "    fig.send_message('closing', msg);\n",
       "    // fig.ws.close()\n",
       "}\n",
       "\n",
       "mpl.figure.prototype.push_to_output = function(remove_interactive) {\n",
       "    // Turn the data on the canvas into data in the output cell.\n",
       "    var width = this.canvas.width/mpl.ratio\n",
       "    var dataURL = this.canvas.toDataURL();\n",
       "    this.cell_info[1]['text/html'] = '<img src=\"' + dataURL + '\" width=\"' + width + '\">';\n",
       "}\n",
       "\n",
       "mpl.figure.prototype.updated_canvas_event = function() {\n",
       "    // Tell IPython that the notebook contents must change.\n",
       "    IPython.notebook.set_dirty(true);\n",
       "    this.send_message(\"ack\", {});\n",
       "    var fig = this;\n",
       "    // Wait a second, then push the new image to the DOM so\n",
       "    // that it is saved nicely (might be nice to debounce this).\n",
       "    setTimeout(function () { fig.push_to_output() }, 1000);\n",
       "}\n",
       "\n",
       "mpl.figure.prototype._init_toolbar = function() {\n",
       "    var fig = this;\n",
       "\n",
       "    var nav_element = $('<div/>');\n",
       "    nav_element.attr('style', 'width: 100%');\n",
       "    this.root.append(nav_element);\n",
       "\n",
       "    // Define a callback function for later on.\n",
       "    function toolbar_event(event) {\n",
       "        return fig.toolbar_button_onclick(event['data']);\n",
       "    }\n",
       "    function toolbar_mouse_event(event) {\n",
       "        return fig.toolbar_button_onmouseover(event['data']);\n",
       "    }\n",
       "\n",
       "    for(var toolbar_ind in mpl.toolbar_items){\n",
       "        var name = mpl.toolbar_items[toolbar_ind][0];\n",
       "        var tooltip = mpl.toolbar_items[toolbar_ind][1];\n",
       "        var image = mpl.toolbar_items[toolbar_ind][2];\n",
       "        var method_name = mpl.toolbar_items[toolbar_ind][3];\n",
       "\n",
       "        if (!name) { continue; };\n",
       "\n",
       "        var button = $('<button class=\"btn btn-default\" href=\"#\" title=\"' + name + '\"><i class=\"fa ' + image + ' fa-lg\"></i></button>');\n",
       "        button.click(method_name, toolbar_event);\n",
       "        button.mouseover(tooltip, toolbar_mouse_event);\n",
       "        nav_element.append(button);\n",
       "    }\n",
       "\n",
       "    // Add the status bar.\n",
       "    var status_bar = $('<span class=\"mpl-message\" style=\"text-align:right; float: right;\"/>');\n",
       "    nav_element.append(status_bar);\n",
       "    this.message = status_bar[0];\n",
       "\n",
       "    // Add the close button to the window.\n",
       "    var buttongrp = $('<div class=\"btn-group inline pull-right\"></div>');\n",
       "    var button = $('<button class=\"btn btn-mini btn-primary\" href=\"#\" title=\"Stop Interaction\"><i class=\"fa fa-power-off icon-remove icon-large\"></i></button>');\n",
       "    button.click(function (evt) { fig.handle_close(fig, {}); } );\n",
       "    button.mouseover('Stop Interaction', toolbar_mouse_event);\n",
       "    buttongrp.append(button);\n",
       "    var titlebar = this.root.find($('.ui-dialog-titlebar'));\n",
       "    titlebar.prepend(buttongrp);\n",
       "}\n",
       "\n",
       "mpl.figure.prototype._root_extra_style = function(el){\n",
       "    var fig = this\n",
       "    el.on(\"remove\", function(){\n",
       "\tfig.close_ws(fig, {});\n",
       "    });\n",
       "}\n",
       "\n",
       "mpl.figure.prototype._canvas_extra_style = function(el){\n",
       "    // this is important to make the div 'focusable\n",
       "    el.attr('tabindex', 0)\n",
       "    // reach out to IPython and tell the keyboard manager to turn it's self\n",
       "    // off when our div gets focus\n",
       "\n",
       "    // location in version 3\n",
       "    if (IPython.notebook.keyboard_manager) {\n",
       "        IPython.notebook.keyboard_manager.register_events(el);\n",
       "    }\n",
       "    else {\n",
       "        // location in version 2\n",
       "        IPython.keyboard_manager.register_events(el);\n",
       "    }\n",
       "\n",
       "}\n",
       "\n",
       "mpl.figure.prototype._key_event_extra = function(event, name) {\n",
       "    var manager = IPython.notebook.keyboard_manager;\n",
       "    if (!manager)\n",
       "        manager = IPython.keyboard_manager;\n",
       "\n",
       "    // Check for shift+enter\n",
       "    if (event.shiftKey && event.which == 13) {\n",
       "        this.canvas_div.blur();\n",
       "        // select the cell after this one\n",
       "        var index = IPython.notebook.find_cell_index(this.cell_info[0]);\n",
       "        IPython.notebook.select(index + 1);\n",
       "    }\n",
       "}\n",
       "\n",
       "mpl.figure.prototype.handle_save = function(fig, msg) {\n",
       "    fig.ondownload(fig, null);\n",
       "}\n",
       "\n",
       "\n",
       "mpl.find_output_cell = function(html_output) {\n",
       "    // Return the cell and output element which can be found *uniquely* in the notebook.\n",
       "    // Note - this is a bit hacky, but it is done because the \"notebook_saving.Notebook\"\n",
       "    // IPython event is triggered only after the cells have been serialised, which for\n",
       "    // our purposes (turning an active figure into a static one), is too late.\n",
       "    var cells = IPython.notebook.get_cells();\n",
       "    var ncells = cells.length;\n",
       "    for (var i=0; i<ncells; i++) {\n",
       "        var cell = cells[i];\n",
       "        if (cell.cell_type === 'code'){\n",
       "            for (var j=0; j<cell.output_area.outputs.length; j++) {\n",
       "                var data = cell.output_area.outputs[j];\n",
       "                if (data.data) {\n",
       "                    // IPython >= 3 moved mimebundle to data attribute of output\n",
       "                    data = data.data;\n",
       "                }\n",
       "                if (data['text/html'] == html_output) {\n",
       "                    return [cell, data, j];\n",
       "                }\n",
       "            }\n",
       "        }\n",
       "    }\n",
       "}\n",
       "\n",
       "// Register the function which deals with the matplotlib target/channel.\n",
       "// The kernel may be null if the page has been refreshed.\n",
       "if (IPython.notebook.kernel != null) {\n",
       "    IPython.notebook.kernel.comm_manager.register_target('matplotlib', mpl.mpl_figure_comm);\n",
       "}\n"
      ],
      "text/plain": [
       "<IPython.core.display.Javascript object>"
      ]
     },
     "metadata": {},
     "output_type": "display_data"
    },
    {
     "data": {
      "text/html": [
       "<img src=\"data:image/png;base64,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\" width=\"1000\">"
      ],
      "text/plain": [
       "<IPython.core.display.HTML object>"
      ]
     },
     "metadata": {},
     "output_type": "display_data"
    }
   ],
   "source": [
    "ax, tax, lax, lines = dual_train_plots()\n",
    "fig = ax.figure\n",
    "plt.tight_layout()\n",
    "# This gets built up during the run - do not rerun this cell\n",
    "results = pd.DataFrame([], columns=Results._fields)"
   ]
  },
  {
   "cell_type": "code",
   "execution_count": 12,
   "metadata": {
    "scrolled": true
   },
   "outputs": [
    {
     "name": "stdout",
     "output_type": "stream",
     "text": [
      "for model:  ACN_1i4_10L_4S_BN_NI(\n",
      "  (conv1): Conv(\n",
      "    (0): Conv1d(1, 20, kernel_size=(25,), stride=(1,), padding=(12,))\n",
      "    (1): BatchNorm1d(20, eps=1e-05, momentum=0.1, affine=True, track_running_stats=True)\n",
      "    (2): Dropout(p=0.15, inplace=False)\n",
      "    (3): LeakyReLU(negative_slope=0.01)\n",
      "  )\n",
      "  (conv2): Conv(\n",
      "    (0): Conv1d(20, 10, kernel_size=(15,), stride=(1,), padding=(7,))\n",
      "    (1): BatchNorm1d(10, eps=1e-05, momentum=0.1, affine=True, track_running_stats=True)\n",
      "    (2): Dropout(p=0.15, inplace=False)\n",
      "    (3): LeakyReLU(negative_slope=0.01)\n",
      "  )\n",
      "  (conv3): Conv(\n",
      "    (0): Conv1d(30, 10, kernel_size=(15,), stride=(1,), padding=(7,))\n",
      "    (1): BatchNorm1d(10, eps=1e-05, momentum=0.1, affine=True, track_running_stats=True)\n",
      "    (2): Dropout(p=0.15, inplace=False)\n",
      "    (3): LeakyReLU(negative_slope=0.01)\n",
      "  )\n",
      "  (conv4): Conv(\n",
      "    (0): Conv1d(10, 10, kernel_size=(15,), stride=(1,), padding=(7,))\n",
      "    (1): BatchNorm1d(10, eps=1e-05, momentum=0.1, affine=True, track_running_stats=True)\n",
      "    (2): Dropout(p=0.15, inplace=False)\n",
      "    (3): LeakyReLU(negative_slope=0.01)\n",
      "  )\n",
      "  (conv5): Conv(\n",
      "    (0): Conv1d(20, 10, kernel_size=(15,), stride=(1,), padding=(7,))\n",
      "    (1): BatchNorm1d(10, eps=1e-05, momentum=0.1, affine=True, track_running_stats=True)\n",
      "    (2): Dropout(p=0.15, inplace=False)\n",
      "    (3): LeakyReLU(negative_slope=0.01)\n",
      "  )\n",
      "  (conv6): Conv(\n",
      "    (0): Conv1d(10, 10, kernel_size=(15,), stride=(1,), padding=(7,))\n",
      "    (1): BatchNorm1d(10, eps=1e-05, momentum=0.1, affine=True, track_running_stats=True)\n",
      "    (2): Dropout(p=0.15, inplace=False)\n",
      "    (3): LeakyReLU(negative_slope=0.01)\n",
      "  )\n",
      "  (conv7): Conv(\n",
      "    (0): Conv1d(20, 7, kernel_size=(15,), stride=(1,), padding=(7,))\n",
      "    (1): BatchNorm1d(7, eps=1e-05, momentum=0.1, affine=True, track_running_stats=True)\n",
      "    (2): Dropout(p=0.15, inplace=False)\n",
      "    (3): LeakyReLU(negative_slope=0.01)\n",
      "  )\n",
      "  (conv8): Conv(\n",
      "    (0): Conv1d(7, 5, kernel_size=(9,), stride=(1,), padding=(4,))\n",
      "    (1): BatchNorm1d(5, eps=1e-05, momentum=0.1, affine=True, track_running_stats=True)\n",
      "    (2): Dropout(p=0.15, inplace=False)\n",
      "    (3): LeakyReLU(negative_slope=0.01)\n",
      "  )\n",
      "  (conv9): Conv(\n",
      "    (0): Conv1d(12, 1, kernel_size=(5,), stride=(1,), padding=(2,))\n",
      "    (1): BatchNorm1d(1, eps=1e-05, momentum=0.1, affine=True, track_running_stats=True)\n",
      "    (2): Dropout(p=0.35, inplace=False)\n",
      "    (3): LeakyReLU(negative_slope=0.01)\n",
      "  )\n",
      "  (fc1): Linear(in_features=4000, out_features=4000, bias=True)\n",
      ")\n",
      "epoch_start 0\n",
      "batch_size 128\n",
      "epochs 100\n",
      "lr 0.0001\n",
      "Number of batches: train = 1875, val = 78\n"
     ]
    },
    {
     "name": "stderr",
     "output_type": "stream",
     "text": [
      "/home/michael24peters/pv-finder/notebooks/model/training.py:95: TqdmDeprecationWarning: This function will be removed in tqdm==5.0.0\n",
      "Please use `tqdm.notebook.tqdm` instead of `tqdm.tqdm_notebook`\n",
      "  file=sys.stderr,\n"
     ]
    },
    {
     "data": {
      "application/vnd.jupyter.widget-view+json": {
       "model_id": "2e400a848c8c42128b022bd34dff7ad2",
       "version_major": 2,
       "version_minor": 0
      },
      "text/plain": [
       "HBox(children=(FloatProgress(value=0.0, description='Epochs', layout=Layout(flex='2'), style=ProgressStyle(des…"
      ]
     },
     "metadata": {},
     "output_type": "display_data"
    },
    {
     "data": {
      "application/vnd.jupyter.widget-view+json": {
       "model_id": "",
       "version_major": 2,
       "version_minor": 0
      },
      "text/plain": [
       "HBox(children=(FloatProgress(value=0.0, description='Training', layout=Layout(flex='2'), max=1875.0, style=Pro…"
      ]
     },
     "metadata": {},
     "output_type": "display_data"
    },
    {
     "name": "stdout",
     "output_type": "stream",
     "text": [
      "Epoch 0: train=65.5588, val=42.7179, took 81.174 s\n",
      "  Validation Found 0 of 54504, added 0 (eff 0.00%) (0.0 FP/event)\n"
     ]
    },
    {
     "data": {
      "application/vnd.jupyter.widget-view+json": {
       "model_id": "",
       "version_major": 2,
       "version_minor": 0
      },
      "text/plain": [
       "HBox(children=(FloatProgress(value=0.0, description='Training', layout=Layout(flex='2'), max=1875.0, style=Pro…"
      ]
     },
     "metadata": {},
     "output_type": "display_data"
    },
    {
     "name": "stdout",
     "output_type": "stream",
     "text": [
      "Epoch 1: train=39.5987, val=42.658, took 80.85 s\n",
      "  Validation Found 0 of 54504, added 0 (eff 0.00%) (0.0 FP/event)\n"
     ]
    },
    {
     "data": {
      "application/vnd.jupyter.widget-view+json": {
       "model_id": "",
       "version_major": 2,
       "version_minor": 0
      },
      "text/plain": [
       "HBox(children=(FloatProgress(value=0.0, description='Training', layout=Layout(flex='2'), max=1875.0, style=Pro…"
      ]
     },
     "metadata": {},
     "output_type": "display_data"
    },
    {
     "name": "stdout",
     "output_type": "stream",
     "text": [
      "Epoch 2: train=32.4474, val=20.2816, took 80.855 s\n",
      "  Validation Found 16212 of 54504, added 150 (eff 29.74%) (0.015 FP/event)\n"
     ]
    },
    {
     "data": {
      "application/vnd.jupyter.widget-view+json": {
       "model_id": "",
       "version_major": 2,
       "version_minor": 0
      },
      "text/plain": [
       "HBox(children=(FloatProgress(value=0.0, description='Training', layout=Layout(flex='2'), max=1875.0, style=Pro…"
      ]
     },
     "metadata": {},
     "output_type": "display_data"
    },
    {
     "name": "stdout",
     "output_type": "stream",
     "text": [
      "Epoch 3: train=17.7279, val=14.4465, took 79.55 s\n",
      "  Validation Found 44577 of 54504, added 1061 (eff 81.79%) (0.106 FP/event)\n"
     ]
    },
    {
     "data": {
      "application/vnd.jupyter.widget-view+json": {
       "model_id": "",
       "version_major": 2,
       "version_minor": 0
      },
      "text/plain": [
       "HBox(children=(FloatProgress(value=0.0, description='Training', layout=Layout(flex='2'), max=1875.0, style=Pro…"
      ]
     },
     "metadata": {},
     "output_type": "display_data"
    },
    {
     "name": "stdout",
     "output_type": "stream",
     "text": [
      "Epoch 4: train=15.1664, val=20.0932, took 81.771 s\n",
      "  Validation Found 48015 of 54504, added 1896 (eff 88.09%) (0.19 FP/event)\n"
     ]
    },
    {
     "data": {
      "application/vnd.jupyter.widget-view+json": {
       "model_id": "",
       "version_major": 2,
       "version_minor": 0
      },
      "text/plain": [
       "HBox(children=(FloatProgress(value=0.0, description='Training', layout=Layout(flex='2'), max=1875.0, style=Pro…"
      ]
     },
     "metadata": {},
     "output_type": "display_data"
    },
    {
     "name": "stdout",
     "output_type": "stream",
     "text": [
      "Epoch 5: train=14.0644, val=24.8759, took 79.089 s\n",
      "  Validation Found 48643 of 54504, added 1863 (eff 89.25%) (0.187 FP/event)\n"
     ]
    },
    {
     "data": {
      "application/vnd.jupyter.widget-view+json": {
       "model_id": "",
       "version_major": 2,
       "version_minor": 0
      },
      "text/plain": [
       "HBox(children=(FloatProgress(value=0.0, description='Training', layout=Layout(flex='2'), max=1875.0, style=Pro…"
      ]
     },
     "metadata": {},
     "output_type": "display_data"
    },
    {
     "name": "stdout",
     "output_type": "stream",
     "text": [
      "Epoch 6: train=13.4178, val=19.7103, took 79.044 s\n",
      "  Validation Found 49082 of 54504, added 1993 (eff 90.05%) (0.2 FP/event)\n"
     ]
    },
    {
     "data": {
      "application/vnd.jupyter.widget-view+json": {
       "model_id": "",
       "version_major": 2,
       "version_minor": 0
      },
      "text/plain": [
       "HBox(children=(FloatProgress(value=0.0, description='Training', layout=Layout(flex='2'), max=1875.0, style=Pro…"
      ]
     },
     "metadata": {},
     "output_type": "display_data"
    },
    {
     "name": "stdout",
     "output_type": "stream",
     "text": [
      "Epoch 7: train=13.0249, val=20.1325, took 81.362 s\n",
      "  Validation Found 49179 of 54504, added 1830 (eff 90.23%) (0.183 FP/event)\n"
     ]
    },
    {
     "data": {
      "application/vnd.jupyter.widget-view+json": {
       "model_id": "",
       "version_major": 2,
       "version_minor": 0
      },
      "text/plain": [
       "HBox(children=(FloatProgress(value=0.0, description='Training', layout=Layout(flex='2'), max=1875.0, style=Pro…"
      ]
     },
     "metadata": {},
     "output_type": "display_data"
    },
    {
     "name": "stdout",
     "output_type": "stream",
     "text": [
      "Epoch 8: train=12.7835, val=15.5266, took 79.089 s\n",
      "  Validation Found 49054 of 54504, added 1694 (eff 90.00%) (0.17 FP/event)\n"
     ]
    },
    {
     "data": {
      "application/vnd.jupyter.widget-view+json": {
       "model_id": "",
       "version_major": 2,
       "version_minor": 0
      },
      "text/plain": [
       "HBox(children=(FloatProgress(value=0.0, description='Training', layout=Layout(flex='2'), max=1875.0, style=Pro…"
      ]
     },
     "metadata": {},
     "output_type": "display_data"
    },
    {
     "name": "stdout",
     "output_type": "stream",
     "text": [
      "Epoch 9: train=12.5936, val=14.023, took 81.67 s\n",
      "  Validation Found 49308 of 54504, added 1891 (eff 90.47%) (0.189 FP/event)\n"
     ]
    },
    {
     "data": {
      "application/vnd.jupyter.widget-view+json": {
       "model_id": "",
       "version_major": 2,
       "version_minor": 0
      },
      "text/plain": [
       "HBox(children=(FloatProgress(value=0.0, description='Training', layout=Layout(flex='2'), max=1875.0, style=Pro…"
      ]
     },
     "metadata": {},
     "output_type": "display_data"
    },
    {
     "name": "stdout",
     "output_type": "stream",
     "text": [
      "Epoch 10: train=12.4582, val=13.7844, took 79.035 s\n",
      "  Validation Found 49278 of 54504, added 1696 (eff 90.41%) (0.17 FP/event)\n"
     ]
    },
    {
     "data": {
      "application/vnd.jupyter.widget-view+json": {
       "model_id": "",
       "version_major": 2,
       "version_minor": 0
      },
      "text/plain": [
       "HBox(children=(FloatProgress(value=0.0, description='Training', layout=Layout(flex='2'), max=1875.0, style=Pro…"
      ]
     },
     "metadata": {},
     "output_type": "display_data"
    },
    {
     "name": "stdout",
     "output_type": "stream",
     "text": [
      "Epoch 11: train=12.3317, val=12.3707, took 81.706 s\n",
      "  Validation Found 49055 of 54504, added 1445 (eff 90.00%) (0.145 FP/event)\n"
     ]
    },
    {
     "data": {
      "application/vnd.jupyter.widget-view+json": {
       "model_id": "",
       "version_major": 2,
       "version_minor": 0
      },
      "text/plain": [
       "HBox(children=(FloatProgress(value=0.0, description='Training', layout=Layout(flex='2'), max=1875.0, style=Pro…"
      ]
     },
     "metadata": {},
     "output_type": "display_data"
    },
    {
     "name": "stdout",
     "output_type": "stream",
     "text": [
      "Epoch 12: train=12.2516, val=12.354, took 81.066 s\n",
      "  Validation Found 49088 of 54504, added 1393 (eff 90.06%) (0.14 FP/event)\n"
     ]
    },
    {
     "data": {
      "application/vnd.jupyter.widget-view+json": {
       "model_id": "",
       "version_major": 2,
       "version_minor": 0
      },
      "text/plain": [
       "HBox(children=(FloatProgress(value=0.0, description='Training', layout=Layout(flex='2'), max=1875.0, style=Pro…"
      ]
     },
     "metadata": {},
     "output_type": "display_data"
    },
    {
     "name": "stdout",
     "output_type": "stream",
     "text": [
      "Epoch 13: train=12.172, val=11.7383, took 79.423 s\n",
      "  Validation Found 48972 of 54504, added 1317 (eff 89.85%) (0.132 FP/event)\n"
     ]
    },
    {
     "data": {
      "application/vnd.jupyter.widget-view+json": {
       "model_id": "",
       "version_major": 2,
       "version_minor": 0
      },
      "text/plain": [
       "HBox(children=(FloatProgress(value=0.0, description='Training', layout=Layout(flex='2'), max=1875.0, style=Pro…"
      ]
     },
     "metadata": {},
     "output_type": "display_data"
    },
    {
     "name": "stdout",
     "output_type": "stream",
     "text": [
      "Epoch 14: train=12.0989, val=11.7549, took 81.037 s\n",
      "  Validation Found 49331 of 54504, added 1627 (eff 90.51%) (0.163 FP/event)\n"
     ]
    },
    {
     "data": {
      "application/vnd.jupyter.widget-view+json": {
       "model_id": "",
       "version_major": 2,
       "version_minor": 0
      },
      "text/plain": [
       "HBox(children=(FloatProgress(value=0.0, description='Training', layout=Layout(flex='2'), max=1875.0, style=Pro…"
      ]
     },
     "metadata": {},
     "output_type": "display_data"
    },
    {
     "name": "stdout",
     "output_type": "stream",
     "text": [
      "Epoch 15: train=12.0381, val=11.277, took 79.865 s\n",
      "  Validation Found 48972 of 54504, added 1232 (eff 89.85%) (0.123 FP/event)\n"
     ]
    },
    {
     "data": {
      "application/vnd.jupyter.widget-view+json": {
       "model_id": "",
       "version_major": 2,
       "version_minor": 0
      },
      "text/plain": [
       "HBox(children=(FloatProgress(value=0.0, description='Training', layout=Layout(flex='2'), max=1875.0, style=Pro…"
      ]
     },
     "metadata": {},
     "output_type": "display_data"
    },
    {
     "name": "stdout",
     "output_type": "stream",
     "text": [
      "Epoch 16: train=11.9764, val=11.1247, took 79.921 s\n",
      "  Validation Found 49206 of 54504, added 1417 (eff 90.28%) (0.142 FP/event)\n"
     ]
    },
    {
     "data": {
      "application/vnd.jupyter.widget-view+json": {
       "model_id": "",
       "version_major": 2,
       "version_minor": 0
      },
      "text/plain": [
       "HBox(children=(FloatProgress(value=0.0, description='Training', layout=Layout(flex='2'), max=1875.0, style=Pro…"
      ]
     },
     "metadata": {},
     "output_type": "display_data"
    },
    {
     "name": "stdout",
     "output_type": "stream",
     "text": [
      "Epoch 17: train=11.9294, val=11.0645, took 81.054 s\n",
      "  Validation Found 48928 of 54504, added 1234 (eff 89.77%) (0.124 FP/event)\n"
     ]
    },
    {
     "data": {
      "application/vnd.jupyter.widget-view+json": {
       "model_id": "",
       "version_major": 2,
       "version_minor": 0
      },
      "text/plain": [
       "HBox(children=(FloatProgress(value=0.0, description='Training', layout=Layout(flex='2'), max=1875.0, style=Pro…"
      ]
     },
     "metadata": {},
     "output_type": "display_data"
    },
    {
     "name": "stdout",
     "output_type": "stream",
     "text": [
      "Epoch 18: train=11.8824, val=10.8098, took 80.912 s\n",
      "  Validation Found 49486 of 54504, added 1715 (eff 90.79%) (0.172 FP/event)\n"
     ]
    },
    {
     "data": {
      "application/vnd.jupyter.widget-view+json": {
       "model_id": "",
       "version_major": 2,
       "version_minor": 0
      },
      "text/plain": [
       "HBox(children=(FloatProgress(value=0.0, description='Training', layout=Layout(flex='2'), max=1875.0, style=Pro…"
      ]
     },
     "metadata": {},
     "output_type": "display_data"
    },
    {
     "name": "stdout",
     "output_type": "stream",
     "text": [
      "Epoch 19: train=11.8332, val=10.6969, took 79.845 s\n",
      "  Validation Found 49113 of 54504, added 1354 (eff 90.11%) (0.136 FP/event)\n"
     ]
    },
    {
     "data": {
      "application/vnd.jupyter.widget-view+json": {
       "model_id": "",
       "version_major": 2,
       "version_minor": 0
      },
      "text/plain": [
       "HBox(children=(FloatProgress(value=0.0, description='Training', layout=Layout(flex='2'), max=1875.0, style=Pro…"
      ]
     },
     "metadata": {},
     "output_type": "display_data"
    },
    {
     "name": "stdout",
     "output_type": "stream",
     "text": [
      "Epoch 20: train=11.7941, val=10.6689, took 79.588 s\n",
      "  Validation Found 49142 of 54504, added 1373 (eff 90.16%) (0.138 FP/event)\n"
     ]
    },
    {
     "data": {
      "application/vnd.jupyter.widget-view+json": {
       "model_id": "",
       "version_major": 2,
       "version_minor": 0
      },
      "text/plain": [
       "HBox(children=(FloatProgress(value=0.0, description='Training', layout=Layout(flex='2'), max=1875.0, style=Pro…"
      ]
     },
     "metadata": {},
     "output_type": "display_data"
    },
    {
     "name": "stdout",
     "output_type": "stream",
     "text": [
      "Epoch 21: train=11.7496, val=11.0347, took 79.09 s\n",
      "  Validation Found 49226 of 54504, added 1434 (eff 90.32%) (0.144 FP/event)\n"
     ]
    },
    {
     "data": {
      "application/vnd.jupyter.widget-view+json": {
       "model_id": "",
       "version_major": 2,
       "version_minor": 0
      },
      "text/plain": [
       "HBox(children=(FloatProgress(value=0.0, description='Training', layout=Layout(flex='2'), max=1875.0, style=Pro…"
      ]
     },
     "metadata": {},
     "output_type": "display_data"
    },
    {
     "name": "stdout",
     "output_type": "stream",
     "text": [
      "Epoch 22: train=11.7055, val=10.7192, took 77.236 s\n",
      "  Validation Found 49380 of 54504, added 1526 (eff 90.60%) (0.153 FP/event)\n"
     ]
    },
    {
     "data": {
      "application/vnd.jupyter.widget-view+json": {
       "model_id": "",
       "version_major": 2,
       "version_minor": 0
      },
      "text/plain": [
       "HBox(children=(FloatProgress(value=0.0, description='Training', layout=Layout(flex='2'), max=1875.0, style=Pro…"
      ]
     },
     "metadata": {},
     "output_type": "display_data"
    },
    {
     "name": "stdout",
     "output_type": "stream",
     "text": [
      "Epoch 23: train=11.6725, val=10.4978, took 81.476 s\n",
      "  Validation Found 49037 of 54504, added 1230 (eff 89.97%) (0.123 FP/event)\n"
     ]
    },
    {
     "data": {
      "application/vnd.jupyter.widget-view+json": {
       "model_id": "",
       "version_major": 2,
       "version_minor": 0
      },
      "text/plain": [
       "HBox(children=(FloatProgress(value=0.0, description='Training', layout=Layout(flex='2'), max=1875.0, style=Pro…"
      ]
     },
     "metadata": {},
     "output_type": "display_data"
    },
    {
     "name": "stdout",
     "output_type": "stream",
     "text": [
      "Epoch 24: train=11.6374, val=10.5606, took 81.179 s\n",
      "  Validation Found 49411 of 54504, added 1537 (eff 90.66%) (0.154 FP/event)\n"
     ]
    },
    {
     "data": {
      "application/vnd.jupyter.widget-view+json": {
       "model_id": "",
       "version_major": 2,
       "version_minor": 0
      },
      "text/plain": [
       "HBox(children=(FloatProgress(value=0.0, description='Training', layout=Layout(flex='2'), max=1875.0, style=Pro…"
      ]
     },
     "metadata": {},
     "output_type": "display_data"
    },
    {
     "name": "stdout",
     "output_type": "stream",
     "text": [
      "Epoch 25: train=11.615, val=10.2647, took 81.834 s\n",
      "  Validation Found 49228 of 54504, added 1374 (eff 90.32%) (0.138 FP/event)\n"
     ]
    },
    {
     "data": {
      "application/vnd.jupyter.widget-view+json": {
       "model_id": "",
       "version_major": 2,
       "version_minor": 0
      },
      "text/plain": [
       "HBox(children=(FloatProgress(value=0.0, description='Training', layout=Layout(flex='2'), max=1875.0, style=Pro…"
      ]
     },
     "metadata": {},
     "output_type": "display_data"
    },
    {
     "name": "stdout",
     "output_type": "stream",
     "text": [
      "Epoch 26: train=11.5724, val=10.2821, took 79.101 s\n",
      "  Validation Found 49009 of 54504, added 1259 (eff 89.92%) (0.126 FP/event)\n"
     ]
    },
    {
     "data": {
      "application/vnd.jupyter.widget-view+json": {
       "model_id": "",
       "version_major": 2,
       "version_minor": 0
      },
      "text/plain": [
       "HBox(children=(FloatProgress(value=0.0, description='Training', layout=Layout(flex='2'), max=1875.0, style=Pro…"
      ]
     },
     "metadata": {},
     "output_type": "display_data"
    },
    {
     "name": "stdout",
     "output_type": "stream",
     "text": [
      "Epoch 27: train=11.5514, val=10.3379, took 79.146 s\n",
      "  Validation Found 49029 of 54504, added 1186 (eff 89.95%) (0.119 FP/event)\n"
     ]
    },
    {
     "data": {
      "application/vnd.jupyter.widget-view+json": {
       "model_id": "",
       "version_major": 2,
       "version_minor": 0
      },
      "text/plain": [
       "HBox(children=(FloatProgress(value=0.0, description='Training', layout=Layout(flex='2'), max=1875.0, style=Pro…"
      ]
     },
     "metadata": {},
     "output_type": "display_data"
    },
    {
     "name": "stdout",
     "output_type": "stream",
     "text": [
      "Epoch 28: train=11.5215, val=10.1708, took 81.837 s\n",
      "  Validation Found 49086 of 54504, added 1372 (eff 90.06%) (0.137 FP/event)\n"
     ]
    },
    {
     "data": {
      "application/vnd.jupyter.widget-view+json": {
       "model_id": "",
       "version_major": 2,
       "version_minor": 0
      },
      "text/plain": [
       "HBox(children=(FloatProgress(value=0.0, description='Training', layout=Layout(flex='2'), max=1875.0, style=Pro…"
      ]
     },
     "metadata": {},
     "output_type": "display_data"
    },
    {
     "name": "stdout",
     "output_type": "stream",
     "text": [
      "Epoch 29: train=11.4931, val=10.2518, took 79.152 s\n",
      "  Validation Found 49140 of 54504, added 1272 (eff 90.16%) (0.127 FP/event)\n"
     ]
    },
    {
     "data": {
      "application/vnd.jupyter.widget-view+json": {
       "model_id": "",
       "version_major": 2,
       "version_minor": 0
      },
      "text/plain": [
       "HBox(children=(FloatProgress(value=0.0, description='Training', layout=Layout(flex='2'), max=1875.0, style=Pro…"
      ]
     },
     "metadata": {},
     "output_type": "display_data"
    },
    {
     "name": "stdout",
     "output_type": "stream",
     "text": [
      "Epoch 30: train=11.4772, val=10.1815, took 79.09 s\n",
      "  Validation Found 49085 of 54504, added 1226 (eff 90.06%) (0.123 FP/event)\n"
     ]
    },
    {
     "data": {
      "application/vnd.jupyter.widget-view+json": {
       "model_id": "",
       "version_major": 2,
       "version_minor": 0
      },
      "text/plain": [
       "HBox(children=(FloatProgress(value=0.0, description='Training', layout=Layout(flex='2'), max=1875.0, style=Pro…"
      ]
     },
     "metadata": {},
     "output_type": "display_data"
    },
    {
     "name": "stdout",
     "output_type": "stream",
     "text": [
      "Epoch 31: train=11.4496, val=10.1957, took 80.46 s\n",
      "  Validation Found 49028 of 54504, added 1185 (eff 89.95%) (0.119 FP/event)\n"
     ]
    },
    {
     "data": {
      "application/vnd.jupyter.widget-view+json": {
       "model_id": "",
       "version_major": 2,
       "version_minor": 0
      },
      "text/plain": [
       "HBox(children=(FloatProgress(value=0.0, description='Training', layout=Layout(flex='2'), max=1875.0, style=Pro…"
      ]
     },
     "metadata": {},
     "output_type": "display_data"
    },
    {
     "name": "stdout",
     "output_type": "stream",
     "text": [
      "Epoch 32: train=11.4234, val=10.2203, took 82.076 s\n",
      "  Validation Found 48834 of 54504, added 1078 (eff 89.60%) (0.108 FP/event)\n"
     ]
    },
    {
     "data": {
      "application/vnd.jupyter.widget-view+json": {
       "model_id": "",
       "version_major": 2,
       "version_minor": 0
      },
      "text/plain": [
       "HBox(children=(FloatProgress(value=0.0, description='Training', layout=Layout(flex='2'), max=1875.0, style=Pro…"
      ]
     },
     "metadata": {},
     "output_type": "display_data"
    },
    {
     "name": "stdout",
     "output_type": "stream",
     "text": [
      "Epoch 33: train=11.4052, val=10.181, took 79.137 s\n",
      "  Validation Found 49306 of 54504, added 1503 (eff 90.46%) (0.151 FP/event)\n"
     ]
    },
    {
     "data": {
      "application/vnd.jupyter.widget-view+json": {
       "model_id": "",
       "version_major": 2,
       "version_minor": 0
      },
      "text/plain": [
       "HBox(children=(FloatProgress(value=0.0, description='Training', layout=Layout(flex='2'), max=1875.0, style=Pro…"
      ]
     },
     "metadata": {},
     "output_type": "display_data"
    },
    {
     "name": "stdout",
     "output_type": "stream",
     "text": [
      "Epoch 34: train=11.3914, val=10.3341, took 79.158 s\n",
      "  Validation Found 49131 of 54504, added 1318 (eff 90.14%) (0.132 FP/event)\n"
     ]
    },
    {
     "data": {
      "application/vnd.jupyter.widget-view+json": {
       "model_id": "",
       "version_major": 2,
       "version_minor": 0
      },
      "text/plain": [
       "HBox(children=(FloatProgress(value=0.0, description='Training', layout=Layout(flex='2'), max=1875.0, style=Pro…"
      ]
     },
     "metadata": {},
     "output_type": "display_data"
    },
    {
     "name": "stdout",
     "output_type": "stream",
     "text": [
      "Epoch 35: train=11.3608, val=10.1214, took 81.042 s\n",
      "  Validation Found 49157 of 54504, added 1327 (eff 90.19%) (0.133 FP/event)\n"
     ]
    },
    {
     "data": {
      "application/vnd.jupyter.widget-view+json": {
       "model_id": "",
       "version_major": 2,
       "version_minor": 0
      },
      "text/plain": [
       "HBox(children=(FloatProgress(value=0.0, description='Training', layout=Layout(flex='2'), max=1875.0, style=Pro…"
      ]
     },
     "metadata": {},
     "output_type": "display_data"
    },
    {
     "name": "stdout",
     "output_type": "stream",
     "text": [
      "Epoch 36: train=11.3403, val=10.0763, took 81.01 s\n",
      "  Validation Found 49059 of 54504, added 1211 (eff 90.01%) (0.121 FP/event)\n"
     ]
    },
    {
     "data": {
      "application/vnd.jupyter.widget-view+json": {
       "model_id": "",
       "version_major": 2,
       "version_minor": 0
      },
      "text/plain": [
       "HBox(children=(FloatProgress(value=0.0, description='Training', layout=Layout(flex='2'), max=1875.0, style=Pro…"
      ]
     },
     "metadata": {},
     "output_type": "display_data"
    },
    {
     "name": "stdout",
     "output_type": "stream",
     "text": [
      "Epoch 37: train=11.3255, val=10.0559, took 80.709 s\n",
      "  Validation Found 48840 of 54504, added 1084 (eff 89.61%) (0.109 FP/event)\n"
     ]
    },
    {
     "data": {
      "application/vnd.jupyter.widget-view+json": {
       "model_id": "",
       "version_major": 2,
       "version_minor": 0
      },
      "text/plain": [
       "HBox(children=(FloatProgress(value=0.0, description='Training', layout=Layout(flex='2'), max=1875.0, style=Pro…"
      ]
     },
     "metadata": {},
     "output_type": "display_data"
    },
    {
     "name": "stdout",
     "output_type": "stream",
     "text": [
      "Epoch 38: train=11.3011, val=9.94383, took 81.051 s\n",
      "  Validation Found 49279 of 54504, added 1436 (eff 90.41%) (0.144 FP/event)\n"
     ]
    },
    {
     "data": {
      "application/vnd.jupyter.widget-view+json": {
       "model_id": "",
       "version_major": 2,
       "version_minor": 0
      },
      "text/plain": [
       "HBox(children=(FloatProgress(value=0.0, description='Training', layout=Layout(flex='2'), max=1875.0, style=Pro…"
      ]
     },
     "metadata": {},
     "output_type": "display_data"
    },
    {
     "name": "stdout",
     "output_type": "stream",
     "text": [
      "Epoch 39: train=11.2884, val=10.0364, took 79.036 s\n",
      "  Validation Found 49017 of 54504, added 1203 (eff 89.93%) (0.12 FP/event)\n"
     ]
    },
    {
     "data": {
      "application/vnd.jupyter.widget-view+json": {
       "model_id": "",
       "version_major": 2,
       "version_minor": 0
      },
      "text/plain": [
       "HBox(children=(FloatProgress(value=0.0, description='Training', layout=Layout(flex='2'), max=1875.0, style=Pro…"
      ]
     },
     "metadata": {},
     "output_type": "display_data"
    },
    {
     "name": "stdout",
     "output_type": "stream",
     "text": [
      "Epoch 40: train=11.2669, val=9.94697, took 81.58 s\n",
      "  Validation Found 48930 of 54504, added 1156 (eff 89.77%) (0.116 FP/event)\n"
     ]
    },
    {
     "data": {
      "application/vnd.jupyter.widget-view+json": {
       "model_id": "",
       "version_major": 2,
       "version_minor": 0
      },
      "text/plain": [
       "HBox(children=(FloatProgress(value=0.0, description='Training', layout=Layout(flex='2'), max=1875.0, style=Pro…"
      ]
     },
     "metadata": {},
     "output_type": "display_data"
    },
    {
     "name": "stdout",
     "output_type": "stream",
     "text": [
      "Epoch 41: train=11.2511, val=9.94658, took 81.422 s\n",
      "  Validation Found 48933 of 54504, added 1175 (eff 89.78%) (0.118 FP/event)\n"
     ]
    },
    {
     "data": {
      "application/vnd.jupyter.widget-view+json": {
       "model_id": "",
       "version_major": 2,
       "version_minor": 0
      },
      "text/plain": [
       "HBox(children=(FloatProgress(value=0.0, description='Training', layout=Layout(flex='2'), max=1875.0, style=Pro…"
      ]
     },
     "metadata": {},
     "output_type": "display_data"
    },
    {
     "name": "stdout",
     "output_type": "stream",
     "text": [
      "Epoch 42: train=11.2339, val=9.97566, took 80.397 s\n",
      "  Validation Found 49226 of 54504, added 1378 (eff 90.32%) (0.138 FP/event)\n"
     ]
    },
    {
     "data": {
      "application/vnd.jupyter.widget-view+json": {
       "model_id": "",
       "version_major": 2,
       "version_minor": 0
      },
      "text/plain": [
       "HBox(children=(FloatProgress(value=0.0, description='Training', layout=Layout(flex='2'), max=1875.0, style=Pro…"
      ]
     },
     "metadata": {},
     "output_type": "display_data"
    },
    {
     "name": "stdout",
     "output_type": "stream",
     "text": [
      "Epoch 43: train=11.2119, val=9.90495, took 81.73 s\n",
      "  Validation Found 49136 of 54504, added 1257 (eff 90.15%) (0.126 FP/event)\n"
     ]
    },
    {
     "data": {
      "application/vnd.jupyter.widget-view+json": {
       "model_id": "",
       "version_major": 2,
       "version_minor": 0
      },
      "text/plain": [
       "HBox(children=(FloatProgress(value=0.0, description='Training', layout=Layout(flex='2'), max=1875.0, style=Pro…"
      ]
     },
     "metadata": {},
     "output_type": "display_data"
    },
    {
     "name": "stdout",
     "output_type": "stream",
     "text": [
      "Epoch 44: train=11.2011, val=9.9311, took 80.793 s\n",
      "  Validation Found 49046 of 54504, added 1229 (eff 89.99%) (0.123 FP/event)\n"
     ]
    },
    {
     "data": {
      "application/vnd.jupyter.widget-view+json": {
       "model_id": "",
       "version_major": 2,
       "version_minor": 0
      },
      "text/plain": [
       "HBox(children=(FloatProgress(value=0.0, description='Training', layout=Layout(flex='2'), max=1875.0, style=Pro…"
      ]
     },
     "metadata": {},
     "output_type": "display_data"
    },
    {
     "name": "stdout",
     "output_type": "stream",
     "text": [
      "Epoch 45: train=11.1765, val=9.8981, took 79.113 s\n",
      "  Validation Found 49040 of 54504, added 1213 (eff 89.98%) (0.121 FP/event)\n"
     ]
    },
    {
     "data": {
      "application/vnd.jupyter.widget-view+json": {
       "model_id": "",
       "version_major": 2,
       "version_minor": 0
      },
      "text/plain": [
       "HBox(children=(FloatProgress(value=0.0, description='Training', layout=Layout(flex='2'), max=1875.0, style=Pro…"
      ]
     },
     "metadata": {},
     "output_type": "display_data"
    },
    {
     "name": "stdout",
     "output_type": "stream",
     "text": [
      "Epoch 46: train=11.16, val=10.3345, took 79.67 s\n",
      "  Validation Found 47648 of 54504, added 698 (eff 87.42%) (0.0699 FP/event)\n"
     ]
    },
    {
     "data": {
      "application/vnd.jupyter.widget-view+json": {
       "model_id": "",
       "version_major": 2,
       "version_minor": 0
      },
      "text/plain": [
       "HBox(children=(FloatProgress(value=0.0, description='Training', layout=Layout(flex='2'), max=1875.0, style=Pro…"
      ]
     },
     "metadata": {},
     "output_type": "display_data"
    },
    {
     "name": "stdout",
     "output_type": "stream",
     "text": [
      "Epoch 47: train=11.1441, val=9.98358, took 79.959 s\n",
      "  Validation Found 48767 of 54504, added 1126 (eff 89.47%) (0.113 FP/event)\n"
     ]
    },
    {
     "data": {
      "application/vnd.jupyter.widget-view+json": {
       "model_id": "",
       "version_major": 2,
       "version_minor": 0
      },
      "text/plain": [
       "HBox(children=(FloatProgress(value=0.0, description='Training', layout=Layout(flex='2'), max=1875.0, style=Pro…"
      ]
     },
     "metadata": {},
     "output_type": "display_data"
    },
    {
     "name": "stdout",
     "output_type": "stream",
     "text": [
      "Epoch 48: train=11.1339, val=9.9931, took 79.97 s\n",
      "  Validation Found 48501 of 54504, added 942 (eff 88.99%) (0.0943 FP/event)\n"
     ]
    },
    {
     "data": {
      "application/vnd.jupyter.widget-view+json": {
       "model_id": "",
       "version_major": 2,
       "version_minor": 0
      },
      "text/plain": [
       "HBox(children=(FloatProgress(value=0.0, description='Training', layout=Layout(flex='2'), max=1875.0, style=Pro…"
      ]
     },
     "metadata": {},
     "output_type": "display_data"
    },
    {
     "name": "stdout",
     "output_type": "stream",
     "text": [
      "Epoch 49: train=11.1138, val=9.95908, took 81.171 s\n",
      "  Validation Found 48783 of 54504, added 1067 (eff 89.50%) (0.107 FP/event)\n"
     ]
    },
    {
     "data": {
      "application/vnd.jupyter.widget-view+json": {
       "model_id": "",
       "version_major": 2,
       "version_minor": 0
      },
      "text/plain": [
       "HBox(children=(FloatProgress(value=0.0, description='Training', layout=Layout(flex='2'), max=1875.0, style=Pro…"
      ]
     },
     "metadata": {},
     "output_type": "display_data"
    },
    {
     "name": "stdout",
     "output_type": "stream",
     "text": [
      "Epoch 50: train=11.1057, val=9.93959, took 81.034 s\n",
      "  Validation Found 48606 of 54504, added 1035 (eff 89.18%) (0.104 FP/event)\n"
     ]
    },
    {
     "data": {
      "application/vnd.jupyter.widget-view+json": {
       "model_id": "",
       "version_major": 2,
       "version_minor": 0
      },
      "text/plain": [
       "HBox(children=(FloatProgress(value=0.0, description='Training', layout=Layout(flex='2'), max=1875.0, style=Pro…"
      ]
     },
     "metadata": {},
     "output_type": "display_data"
    },
    {
     "name": "stdout",
     "output_type": "stream",
     "text": [
      "Epoch 51: train=11.0865, val=10.0353, took 81.038 s\n",
      "  Validation Found 48596 of 54504, added 962 (eff 89.16%) (0.0963 FP/event)\n"
     ]
    },
    {
     "data": {
      "application/vnd.jupyter.widget-view+json": {
       "model_id": "",
       "version_major": 2,
       "version_minor": 0
      },
      "text/plain": [
       "HBox(children=(FloatProgress(value=0.0, description='Training', layout=Layout(flex='2'), max=1875.0, style=Pro…"
      ]
     },
     "metadata": {},
     "output_type": "display_data"
    },
    {
     "name": "stdout",
     "output_type": "stream",
     "text": [
      "Epoch 52: train=11.0733, val=9.97384, took 80.992 s\n",
      "  Validation Found 48618 of 54504, added 1038 (eff 89.20%) (0.104 FP/event)\n"
     ]
    },
    {
     "data": {
      "application/vnd.jupyter.widget-view+json": {
       "model_id": "",
       "version_major": 2,
       "version_minor": 0
      },
      "text/plain": [
       "HBox(children=(FloatProgress(value=0.0, description='Training', layout=Layout(flex='2'), max=1875.0, style=Pro…"
      ]
     },
     "metadata": {},
     "output_type": "display_data"
    },
    {
     "name": "stdout",
     "output_type": "stream",
     "text": [
      "Epoch 53: train=11.0523, val=10.0113, took 80.749 s\n",
      "  Validation Found 48364 of 54504, added 945 (eff 88.73%) (0.0946 FP/event)\n"
     ]
    },
    {
     "data": {
      "application/vnd.jupyter.widget-view+json": {
       "model_id": "",
       "version_major": 2,
       "version_minor": 0
      },
      "text/plain": [
       "HBox(children=(FloatProgress(value=0.0, description='Training', layout=Layout(flex='2'), max=1875.0, style=Pro…"
      ]
     },
     "metadata": {},
     "output_type": "display_data"
    },
    {
     "name": "stdout",
     "output_type": "stream",
     "text": [
      "Epoch 54: train=11.0397, val=9.95509, took 82.002 s\n",
      "  Validation Found 48652 of 54504, added 1052 (eff 89.26%) (0.105 FP/event)\n"
     ]
    },
    {
     "data": {
      "application/vnd.jupyter.widget-view+json": {
       "model_id": "",
       "version_major": 2,
       "version_minor": 0
      },
      "text/plain": [
       "HBox(children=(FloatProgress(value=0.0, description='Training', layout=Layout(flex='2'), max=1875.0, style=Pro…"
      ]
     },
     "metadata": {},
     "output_type": "display_data"
    },
    {
     "name": "stdout",
     "output_type": "stream",
     "text": [
      "Epoch 55: train=11.0257, val=9.90021, took 81.892 s\n",
      "  Validation Found 48706 of 54504, added 1047 (eff 89.36%) (0.105 FP/event)\n"
     ]
    },
    {
     "data": {
      "application/vnd.jupyter.widget-view+json": {
       "model_id": "",
       "version_major": 2,
       "version_minor": 0
      },
      "text/plain": [
       "HBox(children=(FloatProgress(value=0.0, description='Training', layout=Layout(flex='2'), max=1875.0, style=Pro…"
      ]
     },
     "metadata": {},
     "output_type": "display_data"
    },
    {
     "name": "stdout",
     "output_type": "stream",
     "text": [
      "Epoch 56: train=11.0103, val=9.97076, took 79.459 s\n",
      "  Validation Found 48703 of 54504, added 1098 (eff 89.36%) (0.11 FP/event)\n"
     ]
    },
    {
     "data": {
      "application/vnd.jupyter.widget-view+json": {
       "model_id": "",
       "version_major": 2,
       "version_minor": 0
      },
      "text/plain": [
       "HBox(children=(FloatProgress(value=0.0, description='Training', layout=Layout(flex='2'), max=1875.0, style=Pro…"
      ]
     },
     "metadata": {},
     "output_type": "display_data"
    },
    {
     "name": "stdout",
     "output_type": "stream",
     "text": [
      "Epoch 57: train=11.0064, val=9.88028, took 81.726 s\n",
      "  Validation Found 48651 of 54504, added 1017 (eff 89.26%) (0.102 FP/event)\n"
     ]
    },
    {
     "data": {
      "application/vnd.jupyter.widget-view+json": {
       "model_id": "",
       "version_major": 2,
       "version_minor": 0
      },
      "text/plain": [
       "HBox(children=(FloatProgress(value=0.0, description='Training', layout=Layout(flex='2'), max=1875.0, style=Pro…"
      ]
     },
     "metadata": {},
     "output_type": "display_data"
    },
    {
     "name": "stdout",
     "output_type": "stream",
     "text": [
      "Epoch 58: train=10.9844, val=9.82051, took 81.737 s\n",
      "  Validation Found 48739 of 54504, added 1065 (eff 89.42%) (0.107 FP/event)\n"
     ]
    },
    {
     "data": {
      "application/vnd.jupyter.widget-view+json": {
       "model_id": "",
       "version_major": 2,
       "version_minor": 0
      },
      "text/plain": [
       "HBox(children=(FloatProgress(value=0.0, description='Training', layout=Layout(flex='2'), max=1875.0, style=Pro…"
      ]
     },
     "metadata": {},
     "output_type": "display_data"
    },
    {
     "name": "stdout",
     "output_type": "stream",
     "text": [
      "Epoch 59: train=10.9796, val=10.1951, took 80.429 s\n",
      "  Validation Found 47885 of 54504, added 795 (eff 87.86%) (0.0796 FP/event)\n"
     ]
    },
    {
     "data": {
      "application/vnd.jupyter.widget-view+json": {
       "model_id": "",
       "version_major": 2,
       "version_minor": 0
      },
      "text/plain": [
       "HBox(children=(FloatProgress(value=0.0, description='Training', layout=Layout(flex='2'), max=1875.0, style=Pro…"
      ]
     },
     "metadata": {},
     "output_type": "display_data"
    },
    {
     "name": "stdout",
     "output_type": "stream",
     "text": [
      "Epoch 60: train=10.9695, val=9.9808, took 80.527 s\n",
      "  Validation Found 48636 of 54504, added 1003 (eff 89.23%) (0.1 FP/event)\n"
     ]
    },
    {
     "data": {
      "application/vnd.jupyter.widget-view+json": {
       "model_id": "",
       "version_major": 2,
       "version_minor": 0
      },
      "text/plain": [
       "HBox(children=(FloatProgress(value=0.0, description='Training', layout=Layout(flex='2'), max=1875.0, style=Pro…"
      ]
     },
     "metadata": {},
     "output_type": "display_data"
    },
    {
     "name": "stdout",
     "output_type": "stream",
     "text": [
      "Epoch 61: train=10.9502, val=9.91964, took 81.166 s\n",
      "  Validation Found 48544 of 54504, added 960 (eff 89.07%) (0.0961 FP/event)\n"
     ]
    },
    {
     "data": {
      "application/vnd.jupyter.widget-view+json": {
       "model_id": "",
       "version_major": 2,
       "version_minor": 0
      },
      "text/plain": [
       "HBox(children=(FloatProgress(value=0.0, description='Training', layout=Layout(flex='2'), max=1875.0, style=Pro…"
      ]
     },
     "metadata": {},
     "output_type": "display_data"
    },
    {
     "name": "stdout",
     "output_type": "stream",
     "text": [
      "Epoch 62: train=10.9428, val=9.933, took 81.446 s\n",
      "  Validation Found 48476 of 54504, added 952 (eff 88.94%) (0.0953 FP/event)\n"
     ]
    },
    {
     "data": {
      "application/vnd.jupyter.widget-view+json": {
       "model_id": "",
       "version_major": 2,
       "version_minor": 0
      },
      "text/plain": [
       "HBox(children=(FloatProgress(value=0.0, description='Training', layout=Layout(flex='2'), max=1875.0, style=Pro…"
      ]
     },
     "metadata": {},
     "output_type": "display_data"
    },
    {
     "name": "stdout",
     "output_type": "stream",
     "text": [
      "Epoch 63: train=10.9272, val=10.033, took 81.087 s\n",
      "  Validation Found 48405 of 54504, added 989 (eff 88.81%) (0.099 FP/event)\n"
     ]
    },
    {
     "data": {
      "application/vnd.jupyter.widget-view+json": {
       "model_id": "",
       "version_major": 2,
       "version_minor": 0
      },
      "text/plain": [
       "HBox(children=(FloatProgress(value=0.0, description='Training', layout=Layout(flex='2'), max=1875.0, style=Pro…"
      ]
     },
     "metadata": {},
     "output_type": "display_data"
    },
    {
     "name": "stdout",
     "output_type": "stream",
     "text": [
      "Epoch 64: train=10.9147, val=9.99393, took 81.099 s\n",
      "  Validation Found 48296 of 54504, added 895 (eff 88.61%) (0.0896 FP/event)\n"
     ]
    },
    {
     "data": {
      "application/vnd.jupyter.widget-view+json": {
       "model_id": "",
       "version_major": 2,
       "version_minor": 0
      },
      "text/plain": [
       "HBox(children=(FloatProgress(value=0.0, description='Training', layout=Layout(flex='2'), max=1875.0, style=Pro…"
      ]
     },
     "metadata": {},
     "output_type": "display_data"
    },
    {
     "name": "stdout",
     "output_type": "stream",
     "text": [
      "Epoch 65: train=10.9037, val=10.0056, took 80.199 s\n",
      "  Validation Found 48173 of 54504, added 812 (eff 88.38%) (0.0813 FP/event)\n"
     ]
    },
    {
     "data": {
      "application/vnd.jupyter.widget-view+json": {
       "model_id": "",
       "version_major": 2,
       "version_minor": 0
      },
      "text/plain": [
       "HBox(children=(FloatProgress(value=0.0, description='Training', layout=Layout(flex='2'), max=1875.0, style=Pro…"
      ]
     },
     "metadata": {},
     "output_type": "display_data"
    },
    {
     "name": "stdout",
     "output_type": "stream",
     "text": [
      "Epoch 66: train=10.8921, val=9.95324, took 79.973 s\n",
      "  Validation Found 48432 of 54504, added 919 (eff 88.86%) (0.092 FP/event)\n"
     ]
    },
    {
     "data": {
      "application/vnd.jupyter.widget-view+json": {
       "model_id": "",
       "version_major": 2,
       "version_minor": 0
      },
      "text/plain": [
       "HBox(children=(FloatProgress(value=0.0, description='Training', layout=Layout(flex='2'), max=1875.0, style=Pro…"
      ]
     },
     "metadata": {},
     "output_type": "display_data"
    },
    {
     "name": "stdout",
     "output_type": "stream",
     "text": [
      "Epoch 67: train=10.8821, val=10.0899, took 80.062 s\n",
      "  Validation Found 47947 of 54504, added 769 (eff 87.97%) (0.077 FP/event)\n"
     ]
    },
    {
     "data": {
      "application/vnd.jupyter.widget-view+json": {
       "model_id": "",
       "version_major": 2,
       "version_minor": 0
      },
      "text/plain": [
       "HBox(children=(FloatProgress(value=0.0, description='Training', layout=Layout(flex='2'), max=1875.0, style=Pro…"
      ]
     },
     "metadata": {},
     "output_type": "display_data"
    },
    {
     "name": "stdout",
     "output_type": "stream",
     "text": [
      "Epoch 68: train=10.8784, val=9.96275, took 79.926 s\n",
      "  Validation Found 48384 of 54504, added 906 (eff 88.77%) (0.0907 FP/event)\n"
     ]
    },
    {
     "data": {
      "application/vnd.jupyter.widget-view+json": {
       "model_id": "",
       "version_major": 2,
       "version_minor": 0
      },
      "text/plain": [
       "HBox(children=(FloatProgress(value=0.0, description='Training', layout=Layout(flex='2'), max=1875.0, style=Pro…"
      ]
     },
     "metadata": {},
     "output_type": "display_data"
    },
    {
     "name": "stdout",
     "output_type": "stream",
     "text": [
      "Epoch 69: train=10.8601, val=9.92261, took 79.992 s\n",
      "  Validation Found 48375 of 54504, added 896 (eff 88.75%) (0.0897 FP/event)\n"
     ]
    },
    {
     "data": {
      "application/vnd.jupyter.widget-view+json": {
       "model_id": "",
       "version_major": 2,
       "version_minor": 0
      },
      "text/plain": [
       "HBox(children=(FloatProgress(value=0.0, description='Training', layout=Layout(flex='2'), max=1875.0, style=Pro…"
      ]
     },
     "metadata": {},
     "output_type": "display_data"
    },
    {
     "name": "stdout",
     "output_type": "stream",
     "text": [
      "Epoch 70: train=10.8586, val=9.9262, took 79.974 s\n",
      "  Validation Found 48417 of 54504, added 917 (eff 88.83%) (0.0918 FP/event)\n"
     ]
    },
    {
     "data": {
      "application/vnd.jupyter.widget-view+json": {
       "model_id": "",
       "version_major": 2,
       "version_minor": 0
      },
      "text/plain": [
       "HBox(children=(FloatProgress(value=0.0, description='Training', layout=Layout(flex='2'), max=1875.0, style=Pro…"
      ]
     },
     "metadata": {},
     "output_type": "display_data"
    },
    {
     "name": "stdout",
     "output_type": "stream",
     "text": [
      "Epoch 71: train=10.8437, val=9.82798, took 81.132 s\n",
      "  Validation Found 48625 of 54504, added 1048 (eff 89.21%) (0.105 FP/event)\n"
     ]
    },
    {
     "data": {
      "application/vnd.jupyter.widget-view+json": {
       "model_id": "",
       "version_major": 2,
       "version_minor": 0
      },
      "text/plain": [
       "HBox(children=(FloatProgress(value=0.0, description='Training', layout=Layout(flex='2'), max=1875.0, style=Pro…"
      ]
     },
     "metadata": {},
     "output_type": "display_data"
    },
    {
     "name": "stdout",
     "output_type": "stream",
     "text": [
      "Epoch 72: train=10.8317, val=10.004, took 80.441 s\n",
      "  Validation Found 48256 of 54504, added 898 (eff 88.54%) (0.0899 FP/event)\n"
     ]
    },
    {
     "data": {
      "application/vnd.jupyter.widget-view+json": {
       "model_id": "",
       "version_major": 2,
       "version_minor": 0
      },
      "text/plain": [
       "HBox(children=(FloatProgress(value=0.0, description='Training', layout=Layout(flex='2'), max=1875.0, style=Pro…"
      ]
     },
     "metadata": {},
     "output_type": "display_data"
    },
    {
     "name": "stdout",
     "output_type": "stream",
     "text": [
      "Epoch 73: train=10.8251, val=10.0745, took 80.441 s\n",
      "  Validation Found 48498 of 54504, added 1109 (eff 88.98%) (0.111 FP/event)\n"
     ]
    },
    {
     "data": {
      "application/vnd.jupyter.widget-view+json": {
       "model_id": "",
       "version_major": 2,
       "version_minor": 0
      },
      "text/plain": [
       "HBox(children=(FloatProgress(value=0.0, description='Training', layout=Layout(flex='2'), max=1875.0, style=Pro…"
      ]
     },
     "metadata": {},
     "output_type": "display_data"
    },
    {
     "name": "stdout",
     "output_type": "stream",
     "text": [
      "Epoch 74: train=10.8167, val=9.95037, took 81.078 s\n",
      "  Validation Found 48260 of 54504, added 837 (eff 88.54%) (0.0838 FP/event)\n"
     ]
    },
    {
     "data": {
      "application/vnd.jupyter.widget-view+json": {
       "model_id": "",
       "version_major": 2,
       "version_minor": 0
      },
      "text/plain": [
       "HBox(children=(FloatProgress(value=0.0, description='Training', layout=Layout(flex='2'), max=1875.0, style=Pro…"
      ]
     },
     "metadata": {},
     "output_type": "display_data"
    },
    {
     "name": "stdout",
     "output_type": "stream",
     "text": [
      "Epoch 75: train=10.7994, val=9.97769, took 79.323 s\n",
      "  Validation Found 48337 of 54504, added 929 (eff 88.69%) (0.093 FP/event)\n"
     ]
    },
    {
     "data": {
      "application/vnd.jupyter.widget-view+json": {
       "model_id": "",
       "version_major": 2,
       "version_minor": 0
      },
      "text/plain": [
       "HBox(children=(FloatProgress(value=0.0, description='Training', layout=Layout(flex='2'), max=1875.0, style=Pro…"
      ]
     },
     "metadata": {},
     "output_type": "display_data"
    },
    {
     "name": "stdout",
     "output_type": "stream",
     "text": [
      "Epoch 76: train=10.7886, val=9.93, took 81.777 s\n",
      "  Validation Found 48262 of 54504, added 872 (eff 88.55%) (0.0873 FP/event)\n"
     ]
    },
    {
     "data": {
      "application/vnd.jupyter.widget-view+json": {
       "model_id": "",
       "version_major": 2,
       "version_minor": 0
      },
      "text/plain": [
       "HBox(children=(FloatProgress(value=0.0, description='Training', layout=Layout(flex='2'), max=1875.0, style=Pro…"
      ]
     },
     "metadata": {},
     "output_type": "display_data"
    },
    {
     "name": "stdout",
     "output_type": "stream",
     "text": [
      "Epoch 77: train=10.7826, val=9.92625, took 81.173 s\n",
      "  Validation Found 48127 of 54504, added 857 (eff 88.30%) (0.0858 FP/event)\n"
     ]
    },
    {
     "data": {
      "application/vnd.jupyter.widget-view+json": {
       "model_id": "",
       "version_major": 2,
       "version_minor": 0
      },
      "text/plain": [
       "HBox(children=(FloatProgress(value=0.0, description='Training', layout=Layout(flex='2'), max=1875.0, style=Pro…"
      ]
     },
     "metadata": {},
     "output_type": "display_data"
    },
    {
     "name": "stdout",
     "output_type": "stream",
     "text": [
      "Epoch 78: train=10.7765, val=9.9258, took 82.063 s\n",
      "  Validation Found 48391 of 54504, added 889 (eff 88.78%) (0.089 FP/event)\n"
     ]
    },
    {
     "data": {
      "application/vnd.jupyter.widget-view+json": {
       "model_id": "",
       "version_major": 2,
       "version_minor": 0
      },
      "text/plain": [
       "HBox(children=(FloatProgress(value=0.0, description='Training', layout=Layout(flex='2'), max=1875.0, style=Pro…"
      ]
     },
     "metadata": {},
     "output_type": "display_data"
    },
    {
     "name": "stdout",
     "output_type": "stream",
     "text": [
      "Epoch 79: train=10.7652, val=9.97069, took 79.084 s\n",
      "  Validation Found 48198 of 54504, added 880 (eff 88.43%) (0.0881 FP/event)\n"
     ]
    },
    {
     "data": {
      "application/vnd.jupyter.widget-view+json": {
       "model_id": "",
       "version_major": 2,
       "version_minor": 0
      },
      "text/plain": [
       "HBox(children=(FloatProgress(value=0.0, description='Training', layout=Layout(flex='2'), max=1875.0, style=Pro…"
      ]
     },
     "metadata": {},
     "output_type": "display_data"
    },
    {
     "name": "stdout",
     "output_type": "stream",
     "text": [
      "Epoch 80: train=10.7593, val=9.99989, took 79.087 s\n",
      "  Validation Found 48128 of 54504, added 887 (eff 88.30%) (0.0888 FP/event)\n"
     ]
    },
    {
     "data": {
      "application/vnd.jupyter.widget-view+json": {
       "model_id": "",
       "version_major": 2,
       "version_minor": 0
      },
      "text/plain": [
       "HBox(children=(FloatProgress(value=0.0, description='Training', layout=Layout(flex='2'), max=1875.0, style=Pro…"
      ]
     },
     "metadata": {},
     "output_type": "display_data"
    },
    {
     "name": "stdout",
     "output_type": "stream",
     "text": [
      "Epoch 81: train=10.75, val=9.86485, took 80.67 s\n",
      "  Validation Found 48504 of 54504, added 953 (eff 88.99%) (0.0954 FP/event)\n"
     ]
    },
    {
     "data": {
      "application/vnd.jupyter.widget-view+json": {
       "model_id": "",
       "version_major": 2,
       "version_minor": 0
      },
      "text/plain": [
       "HBox(children=(FloatProgress(value=0.0, description='Training', layout=Layout(flex='2'), max=1875.0, style=Pro…"
      ]
     },
     "metadata": {},
     "output_type": "display_data"
    },
    {
     "name": "stdout",
     "output_type": "stream",
     "text": [
      "Epoch 82: train=10.7394, val=9.95825, took 79.091 s\n",
      "  Validation Found 48112 of 54504, added 884 (eff 88.27%) (0.0885 FP/event)\n"
     ]
    },
    {
     "data": {
      "application/vnd.jupyter.widget-view+json": {
       "model_id": "",
       "version_major": 2,
       "version_minor": 0
      },
      "text/plain": [
       "HBox(children=(FloatProgress(value=0.0, description='Training', layout=Layout(flex='2'), max=1875.0, style=Pro…"
      ]
     },
     "metadata": {},
     "output_type": "display_data"
    },
    {
     "name": "stdout",
     "output_type": "stream",
     "text": [
      "Epoch 83: train=10.738, val=9.87762, took 81.254 s\n",
      "  Validation Found 48461 of 54504, added 961 (eff 88.91%) (0.0962 FP/event)\n"
     ]
    },
    {
     "data": {
      "application/vnd.jupyter.widget-view+json": {
       "model_id": "",
       "version_major": 2,
       "version_minor": 0
      },
      "text/plain": [
       "HBox(children=(FloatProgress(value=0.0, description='Training', layout=Layout(flex='2'), max=1875.0, style=Pro…"
      ]
     },
     "metadata": {},
     "output_type": "display_data"
    },
    {
     "name": "stdout",
     "output_type": "stream",
     "text": [
      "Epoch 84: train=10.7258, val=10.0062, took 81.332 s\n",
      "  Validation Found 48188 of 54504, added 877 (eff 88.41%) (0.0878 FP/event)\n"
     ]
    },
    {
     "data": {
      "application/vnd.jupyter.widget-view+json": {
       "model_id": "",
       "version_major": 2,
       "version_minor": 0
      },
      "text/plain": [
       "HBox(children=(FloatProgress(value=0.0, description='Training', layout=Layout(flex='2'), max=1875.0, style=Pro…"
      ]
     },
     "metadata": {},
     "output_type": "display_data"
    },
    {
     "name": "stdout",
     "output_type": "stream",
     "text": [
      "Epoch 85: train=10.7133, val=9.95397, took 81.994 s\n",
      "  Validation Found 48304 of 54504, added 946 (eff 88.62%) (0.0947 FP/event)\n"
     ]
    },
    {
     "data": {
      "application/vnd.jupyter.widget-view+json": {
       "model_id": "",
       "version_major": 2,
       "version_minor": 0
      },
      "text/plain": [
       "HBox(children=(FloatProgress(value=0.0, description='Training', layout=Layout(flex='2'), max=1875.0, style=Pro…"
      ]
     },
     "metadata": {},
     "output_type": "display_data"
    },
    {
     "name": "stdout",
     "output_type": "stream",
     "text": [
      "Epoch 86: train=10.7085, val=9.88409, took 81.942 s\n",
      "  Validation Found 48282 of 54504, added 906 (eff 88.58%) (0.0907 FP/event)\n"
     ]
    },
    {
     "data": {
      "application/vnd.jupyter.widget-view+json": {
       "model_id": "",
       "version_major": 2,
       "version_minor": 0
      },
      "text/plain": [
       "HBox(children=(FloatProgress(value=0.0, description='Training', layout=Layout(flex='2'), max=1875.0, style=Pro…"
      ]
     },
     "metadata": {},
     "output_type": "display_data"
    },
    {
     "name": "stdout",
     "output_type": "stream",
     "text": [
      "Epoch 87: train=10.7023, val=9.973, took 79.874 s\n",
      "  Validation Found 48108 of 54504, added 837 (eff 88.27%) (0.0838 FP/event)\n"
     ]
    },
    {
     "data": {
      "application/vnd.jupyter.widget-view+json": {
       "model_id": "",
       "version_major": 2,
       "version_minor": 0
      },
      "text/plain": [
       "HBox(children=(FloatProgress(value=0.0, description='Training', layout=Layout(flex='2'), max=1875.0, style=Pro…"
      ]
     },
     "metadata": {},
     "output_type": "display_data"
    },
    {
     "name": "stdout",
     "output_type": "stream",
     "text": [
      "Epoch 88: train=10.6929, val=9.99024, took 79.097 s\n",
      "  Validation Found 48259 of 54504, added 898 (eff 88.54%) (0.0899 FP/event)\n"
     ]
    },
    {
     "data": {
      "application/vnd.jupyter.widget-view+json": {
       "model_id": "",
       "version_major": 2,
       "version_minor": 0
      },
      "text/plain": [
       "HBox(children=(FloatProgress(value=0.0, description='Training', layout=Layout(flex='2'), max=1875.0, style=Pro…"
      ]
     },
     "metadata": {},
     "output_type": "display_data"
    },
    {
     "name": "stdout",
     "output_type": "stream",
     "text": [
      "Epoch 89: train=10.6826, val=9.83031, took 79.092 s\n",
      "  Validation Found 48536 of 54504, added 899 (eff 89.05%) (0.09 FP/event)\n"
     ]
    },
    {
     "data": {
      "application/vnd.jupyter.widget-view+json": {
       "model_id": "",
       "version_major": 2,
       "version_minor": 0
      },
      "text/plain": [
       "HBox(children=(FloatProgress(value=0.0, description='Training', layout=Layout(flex='2'), max=1875.0, style=Pro…"
      ]
     },
     "metadata": {},
     "output_type": "display_data"
    },
    {
     "name": "stdout",
     "output_type": "stream",
     "text": [
      "Epoch 90: train=10.6738, val=9.93032, took 79.041 s\n",
      "  Validation Found 48314 of 54504, added 977 (eff 88.64%) (0.0978 FP/event)\n"
     ]
    },
    {
     "data": {
      "application/vnd.jupyter.widget-view+json": {
       "model_id": "",
       "version_major": 2,
       "version_minor": 0
      },
      "text/plain": [
       "HBox(children=(FloatProgress(value=0.0, description='Training', layout=Layout(flex='2'), max=1875.0, style=Pro…"
      ]
     },
     "metadata": {},
     "output_type": "display_data"
    },
    {
     "name": "stdout",
     "output_type": "stream",
     "text": [
      "Epoch 91: train=10.667, val=9.97725, took 79.076 s\n",
      "  Validation Found 48187 of 54504, added 891 (eff 88.41%) (0.0892 FP/event)\n"
     ]
    },
    {
     "data": {
      "application/vnd.jupyter.widget-view+json": {
       "model_id": "",
       "version_major": 2,
       "version_minor": 0
      },
      "text/plain": [
       "HBox(children=(FloatProgress(value=0.0, description='Training', layout=Layout(flex='2'), max=1875.0, style=Pro…"
      ]
     },
     "metadata": {},
     "output_type": "display_data"
    },
    {
     "name": "stdout",
     "output_type": "stream",
     "text": [
      "Epoch 92: train=10.6561, val=9.97205, took 79.007 s\n",
      "  Validation Found 48277 of 54504, added 852 (eff 88.58%) (0.0853 FP/event)\n"
     ]
    },
    {
     "data": {
      "application/vnd.jupyter.widget-view+json": {
       "model_id": "",
       "version_major": 2,
       "version_minor": 0
      },
      "text/plain": [
       "HBox(children=(FloatProgress(value=0.0, description='Training', layout=Layout(flex='2'), max=1875.0, style=Pro…"
      ]
     },
     "metadata": {},
     "output_type": "display_data"
    },
    {
     "name": "stdout",
     "output_type": "stream",
     "text": [
      "Epoch 93: train=10.6418, val=9.98402, took 79.031 s\n",
      "  Validation Found 48187 of 54504, added 841 (eff 88.41%) (0.0842 FP/event)\n"
     ]
    },
    {
     "data": {
      "application/vnd.jupyter.widget-view+json": {
       "model_id": "",
       "version_major": 2,
       "version_minor": 0
      },
      "text/plain": [
       "HBox(children=(FloatProgress(value=0.0, description='Training', layout=Layout(flex='2'), max=1875.0, style=Pro…"
      ]
     },
     "metadata": {},
     "output_type": "display_data"
    },
    {
     "name": "stdout",
     "output_type": "stream",
     "text": [
      "Epoch 94: train=10.6384, val=9.97892, took 79.045 s\n",
      "  Validation Found 48027 of 54504, added 858 (eff 88.12%) (0.0859 FP/event)\n"
     ]
    },
    {
     "data": {
      "application/vnd.jupyter.widget-view+json": {
       "model_id": "",
       "version_major": 2,
       "version_minor": 0
      },
      "text/plain": [
       "HBox(children=(FloatProgress(value=0.0, description='Training', layout=Layout(flex='2'), max=1875.0, style=Pro…"
      ]
     },
     "metadata": {},
     "output_type": "display_data"
    },
    {
     "name": "stdout",
     "output_type": "stream",
     "text": [
      "Epoch 95: train=10.6293, val=9.99127, took 81.851 s\n",
      "  Validation Found 48181 of 54504, added 938 (eff 88.40%) (0.0939 FP/event)\n"
     ]
    },
    {
     "data": {
      "application/vnd.jupyter.widget-view+json": {
       "model_id": "",
       "version_major": 2,
       "version_minor": 0
      },
      "text/plain": [
       "HBox(children=(FloatProgress(value=0.0, description='Training', layout=Layout(flex='2'), max=1875.0, style=Pro…"
      ]
     },
     "metadata": {},
     "output_type": "display_data"
    },
    {
     "name": "stdout",
     "output_type": "stream",
     "text": [
      "Epoch 96: train=10.6237, val=9.87711, took 79.711 s\n",
      "  Validation Found 48538 of 54504, added 1008 (eff 89.05%) (0.101 FP/event)\n"
     ]
    },
    {
     "data": {
      "application/vnd.jupyter.widget-view+json": {
       "model_id": "",
       "version_major": 2,
       "version_minor": 0
      },
      "text/plain": [
       "HBox(children=(FloatProgress(value=0.0, description='Training', layout=Layout(flex='2'), max=1875.0, style=Pro…"
      ]
     },
     "metadata": {},
     "output_type": "display_data"
    },
    {
     "name": "stdout",
     "output_type": "stream",
     "text": [
      "Epoch 97: train=10.615, val=9.91829, took 79.855 s\n",
      "  Validation Found 48386 of 54504, added 987 (eff 88.78%) (0.0988 FP/event)\n"
     ]
    },
    {
     "data": {
      "application/vnd.jupyter.widget-view+json": {
       "model_id": "",
       "version_major": 2,
       "version_minor": 0
      },
      "text/plain": [
       "HBox(children=(FloatProgress(value=0.0, description='Training', layout=Layout(flex='2'), max=1875.0, style=Pro…"
      ]
     },
     "metadata": {},
     "output_type": "display_data"
    },
    {
     "name": "stdout",
     "output_type": "stream",
     "text": [
      "Epoch 98: train=10.6141, val=10.0012, took 80.124 s\n",
      "  Validation Found 48003 of 54504, added 783 (eff 88.07%) (0.0784 FP/event)\n"
     ]
    },
    {
     "data": {
      "application/vnd.jupyter.widget-view+json": {
       "model_id": "",
       "version_major": 2,
       "version_minor": 0
      },
      "text/plain": [
       "HBox(children=(FloatProgress(value=0.0, description='Training', layout=Layout(flex='2'), max=1875.0, style=Pro…"
      ]
     },
     "metadata": {},
     "output_type": "display_data"
    },
    {
     "name": "stdout",
     "output_type": "stream",
     "text": [
      "Epoch 99: train=10.6009, val=9.94666, took 80.846 s\n",
      "  Validation Found 48118 of 54504, added 868 (eff 88.28%) (0.0869 FP/event)\n",
      "Averaging...\n",
      "\n",
      "Average Eff:  0.8847387347717598\n",
      "Average FP Rate:  0.09016524787180771\n",
      "\n"
     ]
    },
    {
     "data": {
      "application/javascript": [
       "/* Put everything inside the global mpl namespace */\n",
       "window.mpl = {};\n",
       "\n",
       "\n",
       "mpl.get_websocket_type = function() {\n",
       "    if (typeof(WebSocket) !== 'undefined') {\n",
       "        return WebSocket;\n",
       "    } else if (typeof(MozWebSocket) !== 'undefined') {\n",
       "        return MozWebSocket;\n",
       "    } else {\n",
       "        alert('Your browser does not have WebSocket support. ' +\n",
       "              'Please try Chrome, Safari or Firefox ≥ 6. ' +\n",
       "              'Firefox 4 and 5 are also supported but you ' +\n",
       "              'have to enable WebSockets in about:config.');\n",
       "    };\n",
       "}\n",
       "\n",
       "mpl.figure = function(figure_id, websocket, ondownload, parent_element) {\n",
       "    this.id = figure_id;\n",
       "\n",
       "    this.ws = websocket;\n",
       "\n",
       "    this.supports_binary = (this.ws.binaryType != undefined);\n",
       "\n",
       "    if (!this.supports_binary) {\n",
       "        var warnings = document.getElementById(\"mpl-warnings\");\n",
       "        if (warnings) {\n",
       "            warnings.style.display = 'block';\n",
       "            warnings.textContent = (\n",
       "                \"This browser does not support binary websocket messages. \" +\n",
       "                    \"Performance may be slow.\");\n",
       "        }\n",
       "    }\n",
       "\n",
       "    this.imageObj = new Image();\n",
       "\n",
       "    this.context = undefined;\n",
       "    this.message = undefined;\n",
       "    this.canvas = undefined;\n",
       "    this.rubberband_canvas = undefined;\n",
       "    this.rubberband_context = undefined;\n",
       "    this.format_dropdown = undefined;\n",
       "\n",
       "    this.image_mode = 'full';\n",
       "\n",
       "    this.root = $('<div/>');\n",
       "    this._root_extra_style(this.root)\n",
       "    this.root.attr('style', 'display: inline-block');\n",
       "\n",
       "    $(parent_element).append(this.root);\n",
       "\n",
       "    this._init_header(this);\n",
       "    this._init_canvas(this);\n",
       "    this._init_toolbar(this);\n",
       "\n",
       "    var fig = this;\n",
       "\n",
       "    this.waiting = false;\n",
       "\n",
       "    this.ws.onopen =  function () {\n",
       "            fig.send_message(\"supports_binary\", {value: fig.supports_binary});\n",
       "            fig.send_message(\"send_image_mode\", {});\n",
       "            if (mpl.ratio != 1) {\n",
       "                fig.send_message(\"set_dpi_ratio\", {'dpi_ratio': mpl.ratio});\n",
       "            }\n",
       "            fig.send_message(\"refresh\", {});\n",
       "        }\n",
       "\n",
       "    this.imageObj.onload = function() {\n",
       "            if (fig.image_mode == 'full') {\n",
       "                // Full images could contain transparency (where diff images\n",
       "                // almost always do), so we need to clear the canvas so that\n",
       "                // there is no ghosting.\n",
       "                fig.context.clearRect(0, 0, fig.canvas.width, fig.canvas.height);\n",
       "            }\n",
       "            fig.context.drawImage(fig.imageObj, 0, 0);\n",
       "        };\n",
       "\n",
       "    this.imageObj.onunload = function() {\n",
       "        fig.ws.close();\n",
       "    }\n",
       "\n",
       "    this.ws.onmessage = this._make_on_message_function(this);\n",
       "\n",
       "    this.ondownload = ondownload;\n",
       "}\n",
       "\n",
       "mpl.figure.prototype._init_header = function() {\n",
       "    var titlebar = $(\n",
       "        '<div class=\"ui-dialog-titlebar ui-widget-header ui-corner-all ' +\n",
       "        'ui-helper-clearfix\"/>');\n",
       "    var titletext = $(\n",
       "        '<div class=\"ui-dialog-title\" style=\"width: 100%; ' +\n",
       "        'text-align: center; padding: 3px;\"/>');\n",
       "    titlebar.append(titletext)\n",
       "    this.root.append(titlebar);\n",
       "    this.header = titletext[0];\n",
       "}\n",
       "\n",
       "\n",
       "\n",
       "mpl.figure.prototype._canvas_extra_style = function(canvas_div) {\n",
       "\n",
       "}\n",
       "\n",
       "\n",
       "mpl.figure.prototype._root_extra_style = function(canvas_div) {\n",
       "\n",
       "}\n",
       "\n",
       "mpl.figure.prototype._init_canvas = function() {\n",
       "    var fig = this;\n",
       "\n",
       "    var canvas_div = $('<div/>');\n",
       "\n",
       "    canvas_div.attr('style', 'position: relative; clear: both; outline: 0');\n",
       "\n",
       "    function canvas_keyboard_event(event) {\n",
       "        return fig.key_event(event, event['data']);\n",
       "    }\n",
       "\n",
       "    canvas_div.keydown('key_press', canvas_keyboard_event);\n",
       "    canvas_div.keyup('key_release', canvas_keyboard_event);\n",
       "    this.canvas_div = canvas_div\n",
       "    this._canvas_extra_style(canvas_div)\n",
       "    this.root.append(canvas_div);\n",
       "\n",
       "    var canvas = $('<canvas/>');\n",
       "    canvas.addClass('mpl-canvas');\n",
       "    canvas.attr('style', \"left: 0; top: 0; z-index: 0; outline: 0\")\n",
       "\n",
       "    this.canvas = canvas[0];\n",
       "    this.context = canvas[0].getContext(\"2d\");\n",
       "\n",
       "    var backingStore = this.context.backingStorePixelRatio ||\n",
       "\tthis.context.webkitBackingStorePixelRatio ||\n",
       "\tthis.context.mozBackingStorePixelRatio ||\n",
       "\tthis.context.msBackingStorePixelRatio ||\n",
       "\tthis.context.oBackingStorePixelRatio ||\n",
       "\tthis.context.backingStorePixelRatio || 1;\n",
       "\n",
       "    mpl.ratio = (window.devicePixelRatio || 1) / backingStore;\n",
       "\n",
       "    var rubberband = $('<canvas/>');\n",
       "    rubberband.attr('style', \"position: absolute; left: 0; top: 0; z-index: 1;\")\n",
       "\n",
       "    var pass_mouse_events = true;\n",
       "\n",
       "    canvas_div.resizable({\n",
       "        start: function(event, ui) {\n",
       "            pass_mouse_events = false;\n",
       "        },\n",
       "        resize: function(event, ui) {\n",
       "            fig.request_resize(ui.size.width, ui.size.height);\n",
       "        },\n",
       "        stop: function(event, ui) {\n",
       "            pass_mouse_events = true;\n",
       "            fig.request_resize(ui.size.width, ui.size.height);\n",
       "        },\n",
       "    });\n",
       "\n",
       "    function mouse_event_fn(event) {\n",
       "        if (pass_mouse_events)\n",
       "            return fig.mouse_event(event, event['data']);\n",
       "    }\n",
       "\n",
       "    rubberband.mousedown('button_press', mouse_event_fn);\n",
       "    rubberband.mouseup('button_release', mouse_event_fn);\n",
       "    // Throttle sequential mouse events to 1 every 20ms.\n",
       "    rubberband.mousemove('motion_notify', mouse_event_fn);\n",
       "\n",
       "    rubberband.mouseenter('figure_enter', mouse_event_fn);\n",
       "    rubberband.mouseleave('figure_leave', mouse_event_fn);\n",
       "\n",
       "    canvas_div.on(\"wheel\", function (event) {\n",
       "        event = event.originalEvent;\n",
       "        event['data'] = 'scroll'\n",
       "        if (event.deltaY < 0) {\n",
       "            event.step = 1;\n",
       "        } else {\n",
       "            event.step = -1;\n",
       "        }\n",
       "        mouse_event_fn(event);\n",
       "    });\n",
       "\n",
       "    canvas_div.append(canvas);\n",
       "    canvas_div.append(rubberband);\n",
       "\n",
       "    this.rubberband = rubberband;\n",
       "    this.rubberband_canvas = rubberband[0];\n",
       "    this.rubberband_context = rubberband[0].getContext(\"2d\");\n",
       "    this.rubberband_context.strokeStyle = \"#000000\";\n",
       "\n",
       "    this._resize_canvas = function(width, height) {\n",
       "        // Keep the size of the canvas, canvas container, and rubber band\n",
       "        // canvas in synch.\n",
       "        canvas_div.css('width', width)\n",
       "        canvas_div.css('height', height)\n",
       "\n",
       "        canvas.attr('width', width * mpl.ratio);\n",
       "        canvas.attr('height', height * mpl.ratio);\n",
       "        canvas.attr('style', 'width: ' + width + 'px; height: ' + height + 'px;');\n",
       "\n",
       "        rubberband.attr('width', width);\n",
       "        rubberband.attr('height', height);\n",
       "    }\n",
       "\n",
       "    // Set the figure to an initial 600x600px, this will subsequently be updated\n",
       "    // upon first draw.\n",
       "    this._resize_canvas(600, 600);\n",
       "\n",
       "    // Disable right mouse context menu.\n",
       "    $(this.rubberband_canvas).bind(\"contextmenu\",function(e){\n",
       "        return false;\n",
       "    });\n",
       "\n",
       "    function set_focus () {\n",
       "        canvas.focus();\n",
       "        canvas_div.focus();\n",
       "    }\n",
       "\n",
       "    window.setTimeout(set_focus, 100);\n",
       "}\n",
       "\n",
       "mpl.figure.prototype._init_toolbar = function() {\n",
       "    var fig = this;\n",
       "\n",
       "    var nav_element = $('<div/>');\n",
       "    nav_element.attr('style', 'width: 100%');\n",
       "    this.root.append(nav_element);\n",
       "\n",
       "    // Define a callback function for later on.\n",
       "    function toolbar_event(event) {\n",
       "        return fig.toolbar_button_onclick(event['data']);\n",
       "    }\n",
       "    function toolbar_mouse_event(event) {\n",
       "        return fig.toolbar_button_onmouseover(event['data']);\n",
       "    }\n",
       "\n",
       "    for(var toolbar_ind in mpl.toolbar_items) {\n",
       "        var name = mpl.toolbar_items[toolbar_ind][0];\n",
       "        var tooltip = mpl.toolbar_items[toolbar_ind][1];\n",
       "        var image = mpl.toolbar_items[toolbar_ind][2];\n",
       "        var method_name = mpl.toolbar_items[toolbar_ind][3];\n",
       "\n",
       "        if (!name) {\n",
       "            // put a spacer in here.\n",
       "            continue;\n",
       "        }\n",
       "        var button = $('<button/>');\n",
       "        button.addClass('ui-button ui-widget ui-state-default ui-corner-all ' +\n",
       "                        'ui-button-icon-only');\n",
       "        button.attr('role', 'button');\n",
       "        button.attr('aria-disabled', 'false');\n",
       "        button.click(method_name, toolbar_event);\n",
       "        button.mouseover(tooltip, toolbar_mouse_event);\n",
       "\n",
       "        var icon_img = $('<span/>');\n",
       "        icon_img.addClass('ui-button-icon-primary ui-icon');\n",
       "        icon_img.addClass(image);\n",
       "        icon_img.addClass('ui-corner-all');\n",
       "\n",
       "        var tooltip_span = $('<span/>');\n",
       "        tooltip_span.addClass('ui-button-text');\n",
       "        tooltip_span.html(tooltip);\n",
       "\n",
       "        button.append(icon_img);\n",
       "        button.append(tooltip_span);\n",
       "\n",
       "        nav_element.append(button);\n",
       "    }\n",
       "\n",
       "    var fmt_picker_span = $('<span/>');\n",
       "\n",
       "    var fmt_picker = $('<select/>');\n",
       "    fmt_picker.addClass('mpl-toolbar-option ui-widget ui-widget-content');\n",
       "    fmt_picker_span.append(fmt_picker);\n",
       "    nav_element.append(fmt_picker_span);\n",
       "    this.format_dropdown = fmt_picker[0];\n",
       "\n",
       "    for (var ind in mpl.extensions) {\n",
       "        var fmt = mpl.extensions[ind];\n",
       "        var option = $(\n",
       "            '<option/>', {selected: fmt === mpl.default_extension}).html(fmt);\n",
       "        fmt_picker.append(option);\n",
       "    }\n",
       "\n",
       "    // Add hover states to the ui-buttons\n",
       "    $( \".ui-button\" ).hover(\n",
       "        function() { $(this).addClass(\"ui-state-hover\");},\n",
       "        function() { $(this).removeClass(\"ui-state-hover\");}\n",
       "    );\n",
       "\n",
       "    var status_bar = $('<span class=\"mpl-message\"/>');\n",
       "    nav_element.append(status_bar);\n",
       "    this.message = status_bar[0];\n",
       "}\n",
       "\n",
       "mpl.figure.prototype.request_resize = function(x_pixels, y_pixels) {\n",
       "    // Request matplotlib to resize the figure. Matplotlib will then trigger a resize in the client,\n",
       "    // which will in turn request a refresh of the image.\n",
       "    this.send_message('resize', {'width': x_pixels, 'height': y_pixels});\n",
       "}\n",
       "\n",
       "mpl.figure.prototype.send_message = function(type, properties) {\n",
       "    properties['type'] = type;\n",
       "    properties['figure_id'] = this.id;\n",
       "    this.ws.send(JSON.stringify(properties));\n",
       "}\n",
       "\n",
       "mpl.figure.prototype.send_draw_message = function() {\n",
       "    if (!this.waiting) {\n",
       "        this.waiting = true;\n",
       "        this.ws.send(JSON.stringify({type: \"draw\", figure_id: this.id}));\n",
       "    }\n",
       "}\n",
       "\n",
       "\n",
       "mpl.figure.prototype.handle_save = function(fig, msg) {\n",
       "    var format_dropdown = fig.format_dropdown;\n",
       "    var format = format_dropdown.options[format_dropdown.selectedIndex].value;\n",
       "    fig.ondownload(fig, format);\n",
       "}\n",
       "\n",
       "\n",
       "mpl.figure.prototype.handle_resize = function(fig, msg) {\n",
       "    var size = msg['size'];\n",
       "    if (size[0] != fig.canvas.width || size[1] != fig.canvas.height) {\n",
       "        fig._resize_canvas(size[0], size[1]);\n",
       "        fig.send_message(\"refresh\", {});\n",
       "    };\n",
       "}\n",
       "\n",
       "mpl.figure.prototype.handle_rubberband = function(fig, msg) {\n",
       "    var x0 = msg['x0'] / mpl.ratio;\n",
       "    var y0 = (fig.canvas.height - msg['y0']) / mpl.ratio;\n",
       "    var x1 = msg['x1'] / mpl.ratio;\n",
       "    var y1 = (fig.canvas.height - msg['y1']) / mpl.ratio;\n",
       "    x0 = Math.floor(x0) + 0.5;\n",
       "    y0 = Math.floor(y0) + 0.5;\n",
       "    x1 = Math.floor(x1) + 0.5;\n",
       "    y1 = Math.floor(y1) + 0.5;\n",
       "    var min_x = Math.min(x0, x1);\n",
       "    var min_y = Math.min(y0, y1);\n",
       "    var width = Math.abs(x1 - x0);\n",
       "    var height = Math.abs(y1 - y0);\n",
       "\n",
       "    fig.rubberband_context.clearRect(\n",
       "        0, 0, fig.canvas.width / mpl.ratio, fig.canvas.height / mpl.ratio);\n",
       "\n",
       "    fig.rubberband_context.strokeRect(min_x, min_y, width, height);\n",
       "}\n",
       "\n",
       "mpl.figure.prototype.handle_figure_label = function(fig, msg) {\n",
       "    // Updates the figure title.\n",
       "    fig.header.textContent = msg['label'];\n",
       "}\n",
       "\n",
       "mpl.figure.prototype.handle_cursor = function(fig, msg) {\n",
       "    var cursor = msg['cursor'];\n",
       "    switch(cursor)\n",
       "    {\n",
       "    case 0:\n",
       "        cursor = 'pointer';\n",
       "        break;\n",
       "    case 1:\n",
       "        cursor = 'default';\n",
       "        break;\n",
       "    case 2:\n",
       "        cursor = 'crosshair';\n",
       "        break;\n",
       "    case 3:\n",
       "        cursor = 'move';\n",
       "        break;\n",
       "    }\n",
       "    fig.rubberband_canvas.style.cursor = cursor;\n",
       "}\n",
       "\n",
       "mpl.figure.prototype.handle_message = function(fig, msg) {\n",
       "    fig.message.textContent = msg['message'];\n",
       "}\n",
       "\n",
       "mpl.figure.prototype.handle_draw = function(fig, msg) {\n",
       "    // Request the server to send over a new figure.\n",
       "    fig.send_draw_message();\n",
       "}\n",
       "\n",
       "mpl.figure.prototype.handle_image_mode = function(fig, msg) {\n",
       "    fig.image_mode = msg['mode'];\n",
       "}\n",
       "\n",
       "mpl.figure.prototype.updated_canvas_event = function() {\n",
       "    // Called whenever the canvas gets updated.\n",
       "    this.send_message(\"ack\", {});\n",
       "}\n",
       "\n",
       "// A function to construct a web socket function for onmessage handling.\n",
       "// Called in the figure constructor.\n",
       "mpl.figure.prototype._make_on_message_function = function(fig) {\n",
       "    return function socket_on_message(evt) {\n",
       "        if (evt.data instanceof Blob) {\n",
       "            /* FIXME: We get \"Resource interpreted as Image but\n",
       "             * transferred with MIME type text/plain:\" errors on\n",
       "             * Chrome.  But how to set the MIME type?  It doesn't seem\n",
       "             * to be part of the websocket stream */\n",
       "            evt.data.type = \"image/png\";\n",
       "\n",
       "            /* Free the memory for the previous frames */\n",
       "            if (fig.imageObj.src) {\n",
       "                (window.URL || window.webkitURL).revokeObjectURL(\n",
       "                    fig.imageObj.src);\n",
       "            }\n",
       "\n",
       "            fig.imageObj.src = (window.URL || window.webkitURL).createObjectURL(\n",
       "                evt.data);\n",
       "            fig.updated_canvas_event();\n",
       "            fig.waiting = false;\n",
       "            return;\n",
       "        }\n",
       "        else if (typeof evt.data === 'string' && evt.data.slice(0, 21) == \"data:image/png;base64\") {\n",
       "            fig.imageObj.src = evt.data;\n",
       "            fig.updated_canvas_event();\n",
       "            fig.waiting = false;\n",
       "            return;\n",
       "        }\n",
       "\n",
       "        var msg = JSON.parse(evt.data);\n",
       "        var msg_type = msg['type'];\n",
       "\n",
       "        // Call the  \"handle_{type}\" callback, which takes\n",
       "        // the figure and JSON message as its only arguments.\n",
       "        try {\n",
       "            var callback = fig[\"handle_\" + msg_type];\n",
       "        } catch (e) {\n",
       "            console.log(\"No handler for the '\" + msg_type + \"' message type: \", msg);\n",
       "            return;\n",
       "        }\n",
       "\n",
       "        if (callback) {\n",
       "            try {\n",
       "                // console.log(\"Handling '\" + msg_type + \"' message: \", msg);\n",
       "                callback(fig, msg);\n",
       "            } catch (e) {\n",
       "                console.log(\"Exception inside the 'handler_\" + msg_type + \"' callback:\", e, e.stack, msg);\n",
       "            }\n",
       "        }\n",
       "    };\n",
       "}\n",
       "\n",
       "// from http://stackoverflow.com/questions/1114465/getting-mouse-location-in-canvas\n",
       "mpl.findpos = function(e) {\n",
       "    //this section is from http://www.quirksmode.org/js/events_properties.html\n",
       "    var targ;\n",
       "    if (!e)\n",
       "        e = window.event;\n",
       "    if (e.target)\n",
       "        targ = e.target;\n",
       "    else if (e.srcElement)\n",
       "        targ = e.srcElement;\n",
       "    if (targ.nodeType == 3) // defeat Safari bug\n",
       "        targ = targ.parentNode;\n",
       "\n",
       "    // jQuery normalizes the pageX and pageY\n",
       "    // pageX,Y are the mouse positions relative to the document\n",
       "    // offset() returns the position of the element relative to the document\n",
       "    var x = e.pageX - $(targ).offset().left;\n",
       "    var y = e.pageY - $(targ).offset().top;\n",
       "\n",
       "    return {\"x\": x, \"y\": y};\n",
       "};\n",
       "\n",
       "/*\n",
       " * return a copy of an object with only non-object keys\n",
       " * we need this to avoid circular references\n",
       " * http://stackoverflow.com/a/24161582/3208463\n",
       " */\n",
       "function simpleKeys (original) {\n",
       "  return Object.keys(original).reduce(function (obj, key) {\n",
       "    if (typeof original[key] !== 'object')\n",
       "        obj[key] = original[key]\n",
       "    return obj;\n",
       "  }, {});\n",
       "}\n",
       "\n",
       "mpl.figure.prototype.mouse_event = function(event, name) {\n",
       "    var canvas_pos = mpl.findpos(event)\n",
       "\n",
       "    if (name === 'button_press')\n",
       "    {\n",
       "        this.canvas.focus();\n",
       "        this.canvas_div.focus();\n",
       "    }\n",
       "\n",
       "    var x = canvas_pos.x * mpl.ratio;\n",
       "    var y = canvas_pos.y * mpl.ratio;\n",
       "\n",
       "    this.send_message(name, {x: x, y: y, button: event.button,\n",
       "                             step: event.step,\n",
       "                             guiEvent: simpleKeys(event)});\n",
       "\n",
       "    /* This prevents the web browser from automatically changing to\n",
       "     * the text insertion cursor when the button is pressed.  We want\n",
       "     * to control all of the cursor setting manually through the\n",
       "     * 'cursor' event from matplotlib */\n",
       "    event.preventDefault();\n",
       "    return false;\n",
       "}\n",
       "\n",
       "mpl.figure.prototype._key_event_extra = function(event, name) {\n",
       "    // Handle any extra behaviour associated with a key event\n",
       "}\n",
       "\n",
       "mpl.figure.prototype.key_event = function(event, name) {\n",
       "\n",
       "    // Prevent repeat events\n",
       "    if (name == 'key_press')\n",
       "    {\n",
       "        if (event.which === this._key)\n",
       "            return;\n",
       "        else\n",
       "            this._key = event.which;\n",
       "    }\n",
       "    if (name == 'key_release')\n",
       "        this._key = null;\n",
       "\n",
       "    var value = '';\n",
       "    if (event.ctrlKey && event.which != 17)\n",
       "        value += \"ctrl+\";\n",
       "    if (event.altKey && event.which != 18)\n",
       "        value += \"alt+\";\n",
       "    if (event.shiftKey && event.which != 16)\n",
       "        value += \"shift+\";\n",
       "\n",
       "    value += 'k';\n",
       "    value += event.which.toString();\n",
       "\n",
       "    this._key_event_extra(event, name);\n",
       "\n",
       "    this.send_message(name, {key: value,\n",
       "                             guiEvent: simpleKeys(event)});\n",
       "    return false;\n",
       "}\n",
       "\n",
       "mpl.figure.prototype.toolbar_button_onclick = function(name) {\n",
       "    if (name == 'download') {\n",
       "        this.handle_save(this, null);\n",
       "    } else {\n",
       "        this.send_message(\"toolbar_button\", {name: name});\n",
       "    }\n",
       "};\n",
       "\n",
       "mpl.figure.prototype.toolbar_button_onmouseover = function(tooltip) {\n",
       "    this.message.textContent = tooltip;\n",
       "};\n",
       "mpl.toolbar_items = [[\"Home\", \"Reset original view\", \"fa fa-home icon-home\", \"home\"], [\"Back\", \"Back to previous view\", \"fa fa-arrow-left icon-arrow-left\", \"back\"], [\"Forward\", \"Forward to next view\", \"fa fa-arrow-right icon-arrow-right\", \"forward\"], [\"\", \"\", \"\", \"\"], [\"Pan\", \"Pan axes with left mouse, zoom with right\", \"fa fa-arrows icon-move\", \"pan\"], [\"Zoom\", \"Zoom to rectangle\", \"fa fa-square-o icon-check-empty\", \"zoom\"], [\"\", \"\", \"\", \"\"], [\"Download\", \"Download plot\", \"fa fa-floppy-o icon-save\", \"download\"]];\n",
       "\n",
       "mpl.extensions = [\"eps\", \"jpeg\", \"pdf\", \"png\", \"ps\", \"raw\", \"svg\", \"tif\"];\n",
       "\n",
       "mpl.default_extension = \"png\";var comm_websocket_adapter = function(comm) {\n",
       "    // Create a \"websocket\"-like object which calls the given IPython comm\n",
       "    // object with the appropriate methods. Currently this is a non binary\n",
       "    // socket, so there is still some room for performance tuning.\n",
       "    var ws = {};\n",
       "\n",
       "    ws.close = function() {\n",
       "        comm.close()\n",
       "    };\n",
       "    ws.send = function(m) {\n",
       "        //console.log('sending', m);\n",
       "        comm.send(m);\n",
       "    };\n",
       "    // Register the callback with on_msg.\n",
       "    comm.on_msg(function(msg) {\n",
       "        //console.log('receiving', msg['content']['data'], msg);\n",
       "        // Pass the mpl event to the overridden (by mpl) onmessage function.\n",
       "        ws.onmessage(msg['content']['data'])\n",
       "    });\n",
       "    return ws;\n",
       "}\n",
       "\n",
       "mpl.mpl_figure_comm = function(comm, msg) {\n",
       "    // This is the function which gets called when the mpl process\n",
       "    // starts-up an IPython Comm through the \"matplotlib\" channel.\n",
       "\n",
       "    var id = msg.content.data.id;\n",
       "    // Get hold of the div created by the display call when the Comm\n",
       "    // socket was opened in Python.\n",
       "    var element = $(\"#\" + id);\n",
       "    var ws_proxy = comm_websocket_adapter(comm)\n",
       "\n",
       "    function ondownload(figure, format) {\n",
       "        window.open(figure.imageObj.src);\n",
       "    }\n",
       "\n",
       "    var fig = new mpl.figure(id, ws_proxy,\n",
       "                           ondownload,\n",
       "                           element.get(0));\n",
       "\n",
       "    // Call onopen now - mpl needs it, as it is assuming we've passed it a real\n",
       "    // web socket which is closed, not our websocket->open comm proxy.\n",
       "    ws_proxy.onopen();\n",
       "\n",
       "    fig.parent_element = element.get(0);\n",
       "    fig.cell_info = mpl.find_output_cell(\"<div id='\" + id + \"'></div>\");\n",
       "    if (!fig.cell_info) {\n",
       "        console.error(\"Failed to find cell for figure\", id, fig);\n",
       "        return;\n",
       "    }\n",
       "\n",
       "    var output_index = fig.cell_info[2]\n",
       "    var cell = fig.cell_info[0];\n",
       "\n",
       "};\n",
       "\n",
       "mpl.figure.prototype.handle_close = function(fig, msg) {\n",
       "    var width = fig.canvas.width/mpl.ratio\n",
       "    fig.root.unbind('remove')\n",
       "\n",
       "    // Update the output cell to use the data from the current canvas.\n",
       "    fig.push_to_output();\n",
       "    var dataURL = fig.canvas.toDataURL();\n",
       "    // Re-enable the keyboard manager in IPython - without this line, in FF,\n",
       "    // the notebook keyboard shortcuts fail.\n",
       "    IPython.keyboard_manager.enable()\n",
       "    $(fig.parent_element).html('<img src=\"' + dataURL + '\" width=\"' + width + '\">');\n",
       "    fig.close_ws(fig, msg);\n",
       "}\n",
       "\n",
       "mpl.figure.prototype.close_ws = function(fig, msg){\n",
       "    fig.send_message('closing', msg);\n",
       "    // fig.ws.close()\n",
       "}\n",
       "\n",
       "mpl.figure.prototype.push_to_output = function(remove_interactive) {\n",
       "    // Turn the data on the canvas into data in the output cell.\n",
       "    var width = this.canvas.width/mpl.ratio\n",
       "    var dataURL = this.canvas.toDataURL();\n",
       "    this.cell_info[1]['text/html'] = '<img src=\"' + dataURL + '\" width=\"' + width + '\">';\n",
       "}\n",
       "\n",
       "mpl.figure.prototype.updated_canvas_event = function() {\n",
       "    // Tell IPython that the notebook contents must change.\n",
       "    IPython.notebook.set_dirty(true);\n",
       "    this.send_message(\"ack\", {});\n",
       "    var fig = this;\n",
       "    // Wait a second, then push the new image to the DOM so\n",
       "    // that it is saved nicely (might be nice to debounce this).\n",
       "    setTimeout(function () { fig.push_to_output() }, 1000);\n",
       "}\n",
       "\n",
       "mpl.figure.prototype._init_toolbar = function() {\n",
       "    var fig = this;\n",
       "\n",
       "    var nav_element = $('<div/>');\n",
       "    nav_element.attr('style', 'width: 100%');\n",
       "    this.root.append(nav_element);\n",
       "\n",
       "    // Define a callback function for later on.\n",
       "    function toolbar_event(event) {\n",
       "        return fig.toolbar_button_onclick(event['data']);\n",
       "    }\n",
       "    function toolbar_mouse_event(event) {\n",
       "        return fig.toolbar_button_onmouseover(event['data']);\n",
       "    }\n",
       "\n",
       "    for(var toolbar_ind in mpl.toolbar_items){\n",
       "        var name = mpl.toolbar_items[toolbar_ind][0];\n",
       "        var tooltip = mpl.toolbar_items[toolbar_ind][1];\n",
       "        var image = mpl.toolbar_items[toolbar_ind][2];\n",
       "        var method_name = mpl.toolbar_items[toolbar_ind][3];\n",
       "\n",
       "        if (!name) { continue; };\n",
       "\n",
       "        var button = $('<button class=\"btn btn-default\" href=\"#\" title=\"' + name + '\"><i class=\"fa ' + image + ' fa-lg\"></i></button>');\n",
       "        button.click(method_name, toolbar_event);\n",
       "        button.mouseover(tooltip, toolbar_mouse_event);\n",
       "        nav_element.append(button);\n",
       "    }\n",
       "\n",
       "    // Add the status bar.\n",
       "    var status_bar = $('<span class=\"mpl-message\" style=\"text-align:right; float: right;\"/>');\n",
       "    nav_element.append(status_bar);\n",
       "    this.message = status_bar[0];\n",
       "\n",
       "    // Add the close button to the window.\n",
       "    var buttongrp = $('<div class=\"btn-group inline pull-right\"></div>');\n",
       "    var button = $('<button class=\"btn btn-mini btn-primary\" href=\"#\" title=\"Stop Interaction\"><i class=\"fa fa-power-off icon-remove icon-large\"></i></button>');\n",
       "    button.click(function (evt) { fig.handle_close(fig, {}); } );\n",
       "    button.mouseover('Stop Interaction', toolbar_mouse_event);\n",
       "    buttongrp.append(button);\n",
       "    var titlebar = this.root.find($('.ui-dialog-titlebar'));\n",
       "    titlebar.prepend(buttongrp);\n",
       "}\n",
       "\n",
       "mpl.figure.prototype._root_extra_style = function(el){\n",
       "    var fig = this\n",
       "    el.on(\"remove\", function(){\n",
       "\tfig.close_ws(fig, {});\n",
       "    });\n",
       "}\n",
       "\n",
       "mpl.figure.prototype._canvas_extra_style = function(el){\n",
       "    // this is important to make the div 'focusable\n",
       "    el.attr('tabindex', 0)\n",
       "    // reach out to IPython and tell the keyboard manager to turn it's self\n",
       "    // off when our div gets focus\n",
       "\n",
       "    // location in version 3\n",
       "    if (IPython.notebook.keyboard_manager) {\n",
       "        IPython.notebook.keyboard_manager.register_events(el);\n",
       "    }\n",
       "    else {\n",
       "        // location in version 2\n",
       "        IPython.keyboard_manager.register_events(el);\n",
       "    }\n",
       "\n",
       "}\n",
       "\n",
       "mpl.figure.prototype._key_event_extra = function(event, name) {\n",
       "    var manager = IPython.notebook.keyboard_manager;\n",
       "    if (!manager)\n",
       "        manager = IPython.keyboard_manager;\n",
       "\n",
       "    // Check for shift+enter\n",
       "    if (event.shiftKey && event.which == 13) {\n",
       "        this.canvas_div.blur();\n",
       "        // select the cell after this one\n",
       "        var index = IPython.notebook.find_cell_index(this.cell_info[0]);\n",
       "        IPython.notebook.select(index + 1);\n",
       "    }\n",
       "}\n",
       "\n",
       "mpl.figure.prototype.handle_save = function(fig, msg) {\n",
       "    fig.ondownload(fig, null);\n",
       "}\n",
       "\n",
       "\n",
       "mpl.find_output_cell = function(html_output) {\n",
       "    // Return the cell and output element which can be found *uniquely* in the notebook.\n",
       "    // Note - this is a bit hacky, but it is done because the \"notebook_saving.Notebook\"\n",
       "    // IPython event is triggered only after the cells have been serialised, which for\n",
       "    // our purposes (turning an active figure into a static one), is too late.\n",
       "    var cells = IPython.notebook.get_cells();\n",
       "    var ncells = cells.length;\n",
       "    for (var i=0; i<ncells; i++) {\n",
       "        var cell = cells[i];\n",
       "        if (cell.cell_type === 'code'){\n",
       "            for (var j=0; j<cell.output_area.outputs.length; j++) {\n",
       "                var data = cell.output_area.outputs[j];\n",
       "                if (data.data) {\n",
       "                    // IPython >= 3 moved mimebundle to data attribute of output\n",
       "                    data = data.data;\n",
       "                }\n",
       "                if (data['text/html'] == html_output) {\n",
       "                    return [cell, data, j];\n",
       "                }\n",
       "            }\n",
       "        }\n",
       "    }\n",
       "}\n",
       "\n",
       "// Register the function which deals with the matplotlib target/channel.\n",
       "// The kernel may be null if the page has been refreshed.\n",
       "if (IPython.notebook.kernel != null) {\n",
       "    IPython.notebook.kernel.comm_manager.register_target('matplotlib', mpl.mpl_figure_comm);\n",
       "}\n"
      ],
      "text/plain": [
       "<IPython.core.display.Javascript object>"
      ]
     },
     "metadata": {},
     "output_type": "display_data"
    },
    {
     "data": {
      "text/html": [
       "<img src=\"data:image/png;base64,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\" width=\"1000\">"
      ],
      "text/plain": [
       "<IPython.core.display.HTML object>"
      ]
     },
     "metadata": {},
     "output_type": "display_data"
    }
   ],
   "source": [
    "avgEff = 0.0\n",
    "avgFP = 0.0\n",
    "\n",
    "print('for model: ', model)   \n",
    "run_name = 'ACN_1i4_10L_4S_BN_NI (P1)'\n",
    "# Create an mlflow run\n",
    "with mlflow.start_run(run_name=run_name) as run:\n",
    "    # Log parameters of the model\n",
    "    for key, value in vars(args).items():\n",
    "        print(key, value)\n",
    "        mlflow.log_param(key, value)\n",
    "    \n",
    "    # Log parameter count in the model\n",
    "    mlflow.log_param('Parameters', count_parameters(model))\n",
    "    \n",
    "    # Begin run\n",
    "    for result in trainNet(model, optimizer, loss,\n",
    "                            train_loader, val_loader,\n",
    "                            args.epochs+args.epoch_start, epoch_start=args.epoch_start,\n",
    "                            notebook=True, device=device):\n",
    "\n",
    "        result = result._asdict()\n",
    "        results = results.append(pd.Series(result), ignore_index=True)\n",
    "        xs = results.index\n",
    "\n",
    "        # Update the plot above\n",
    "        lines['train'].set_data(results.index, results.cost)\n",
    "        lines['val'].set_data(results.index, results.val)\n",
    "\n",
    "        #filter first cost epoch (can be really large)\n",
    "        max_cost = max(max(results.cost if len(results.cost)<2 else results.cost[1:]), max(results.val))\n",
    "        min_cost = min(min(results.cost), min(results.val))\n",
    "    \n",
    "        # The plot limits need updating too\n",
    "        ax.set_ylim(min_cost*.9, max_cost*1.1)  \n",
    "        ax.set_xlim(-.5, len(results.cost) - .5)\n",
    "    \n",
    "        replace_in_ax(lax, lines['eff'], xs, results['eff_val'].apply(lambda x: x.eff_rate))\n",
    "        replace_in_ax(tax, lines['fp'], xs, results['eff_val'].apply(lambda x: x.fp_rate))            \n",
    "            \n",
    "        # Redraw the figure\n",
    "        fig.canvas.draw()\n",
    "            \n",
    "        ## MLFLOW ##\n",
    "        # Log metrics\n",
    "        mlflow.log_metric('Efficiency', result['eff_val'].eff_rate, result['epoch'])\n",
    "        mlflow.log_metric('False Positive Rate',  result['eff_val'].fp_rate, result['epoch'])\n",
    "        mlflow.log_metric('Validation Loss',  result['val'], result['epoch'])\n",
    "        mlflow.log_metric('Training Loss',  result['cost'], result['epoch'])\n",
    "        \n",
    "        # If we are on the last 10 epochs but NOT the last epoch\n",
    "        if(result['epoch'] >= args.epochs + args.epoch_start - 10):\n",
    "            avgEff += result['eff_val'].eff_rate\n",
    "            avgFP += result['eff_val'].fp_rate\n",
    "           \n",
    "        # If we are on the last epoch\n",
    "        if(result['epoch'] == args.epochs + args.epoch_start - 1):\n",
    "            print('Averaging...\\n')\n",
    "            avgEff /= 10\n",
    "            avgFP /= 10\n",
    "            mlflow.log_metric('10 Efficiency Average', avgEff)\n",
    "            mlflow.log_metric('10 False Positive Average', avgFP)\n",
    "            print('Average Eff: ', avgEff)\n",
    "            print('Average FP Rate: ', avgFP)\n",
    "            \n",
    "        \n",
    "        # Log tags\n",
    "        mlflow.set_tag('Skip connections', '4')\n",
    "        mlflow.set_tag('Asymmetry', '2.5')\n",
    "        mlflow.set_tag('KDE_A', 'False')\n",
    "        mlflow.set_tag('BN Input', 'True')\n",
    "\n",
    "        # Save model state dictionary, optimizer state dictionary, and epoch number\n",
    "        torch.save({\n",
    "            'model':model.state_dict(),\n",
    "            'optimizer':optimizer.state_dict(),\n",
    "            'epoch':args.epochs+result['epoch']\n",
    "            }, 'run_stats.pyt')\n",
    "        # Save the run stats into mlflow\n",
    "        mlflow.log_artifact('run_stats.pyt')\n",
    "    \n",
    "    # Generate tight plot at end of training\n",
    "    dual_train_plots(results.index,\n",
    "                 results.cost, results.val, \n",
    "                 results['eff_val'].apply(lambda x: x.eff_rate),\n",
    "                 results['eff_val'].apply(lambda x: x.fp_rate))\n",
    "    plt.tight_layout()\n",
    "    # Save plot\n",
    "    plt.savefig('plot.png')  \n",
    "    mlflow.log_artifact('plot.png')"
   ]
  },
  {
   "cell_type": "code",
   "execution_count": 13,
   "metadata": {},
   "outputs": [
    {
     "name": "stderr",
     "output_type": "stream",
     "text": [
      "/data/conda/envs/goofit-june2020/lib/python3.7/site-packages/ipykernel/ipkernel.py:287: DeprecationWarning: `should_run_async` will not call `transform_cell` automatically in the future. Please pass the result to `transformed_cell` argument and any exception that happen during thetransform in `preprocessing_exc_tuple` in IPython 7.17 and above.\n",
      "  and should_run_async(code)\n"
     ]
    }
   ],
   "source": [
    "##quit()"
   ]
  }
 ],
 "metadata": {
  "celltoolbar": "Raw Cell Format",
  "kernelspec": {
   "display_name": "goofit-june2020",
   "language": "python",
   "name": "goofit-june2020"
  },
  "language_info": {
   "codemirror_mode": {
    "name": "ipython",
    "version": 3
   },
   "file_extension": ".py",
   "mimetype": "text/x-python",
   "name": "python",
   "nbconvert_exporter": "python",
   "pygments_lexer": "ipython3",
   "version": "3.7.6"
  }
 },
 "nbformat": 4,
 "nbformat_minor": 2
}
