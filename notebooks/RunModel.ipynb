{
 "cells": [
  {
   "cell_type": "code",
   "execution_count": null,
   "metadata": {},
   "outputs": [],
   "source": [
    "import matplotlib\n",
    "import matplotlib.pyplot as plt\n",
    "import numpy as np\n",
    "\n",
    "# Nicer plotting\n",
    "plt.rcParams[\"font.weight\"] = \"bold\"\n",
    "plt.rcParams[\"font.size\"] = \"18\"\n",
    "plt.rcParams[\"axes.labelweight\"] = \"bold\"\n",
    "\n",
    "# Force only P100 GPU\n",
    "import os\n",
    "os.environ['CUDA_VISIBLE_DEVICES']=\"0\"\n",
    "\n",
    "import torch\n",
    "\n",
    "# Device configuration\n",
    "device = torch.device(\"cuda:0\" if torch.cuda.is_available() else \"cpu\")"
   ]
  },
  {
   "cell_type": "markdown",
   "metadata": {},
   "source": [
    "### Set up local parameters"
   ]
  },
  {
   "cell_type": "code",
   "execution_count": null,
   "metadata": {},
   "outputs": [],
   "source": [
    "n_epochs = 200\n",
    "name = 'July_31_75000_2layer'"
   ]
  },
  {
   "cell_type": "code",
   "execution_count": null,
   "metadata": {
    "scrolled": true
   },
   "outputs": [],
   "source": [
    "# When you type import X.py,\n",
    "# Python searches sys.path for a python\n",
    "# file named X.py to import.\n",
    "#\n",
    "# Add the directory with the model\n",
    "# definitions to the path so we can import it\n",
    "import sys\n",
    "sys.path.append('../model')\n",
    "\n",
    "from collectdata import collect_data\n",
    "from loss import Loss\n",
    "from training import trainNet\n",
    "from models import SimpleCNN2Layer as Model"
   ]
  },
  {
   "cell_type": "code",
   "execution_count": null,
   "metadata": {
    "scrolled": true
   },
   "outputs": [],
   "source": [
    "dataset_train, dataset_val, _ = collect_data(\n",
    "    \"/data/schreihf/PvFinder/July_31_75000.npz\", 55_000, 10_000,\n",
    "    device=device)"
   ]
  },
  {
   "cell_type": "code",
   "execution_count": null,
   "metadata": {
    "scrolled": true
   },
   "outputs": [],
   "source": [
    "seed = 42\n",
    "np.random.seed(seed)\n",
    "torch.manual_seed(seed);"
   ]
  },
  {
   "cell_type": "code",
   "execution_count": null,
   "metadata": {
    "scrolled": true
   },
   "outputs": [],
   "source": [
    "model = Model().to(device)"
   ]
  },
  {
   "cell_type": "code",
   "execution_count": null,
   "metadata": {
    "scrolled": true
   },
   "outputs": [],
   "source": [
    "results = trainNet(model, dataset_train, dataset_val, Loss(), 32, n_epochs, learning_rate=1e-3, name=name)\n",
    "# Add name=name to save each model param file\n",
    "\n",
    "print()\n",
    "print(\"Training finished, took {:.2f}s\".format(results.time))"
   ]
  },
  {
   "cell_type": "code",
   "execution_count": null,
   "metadata": {},
   "outputs": [],
   "source": [
    "torch.save(model.state_dict(), f'{name}_final.pyt')"
   ]
  },
  {
   "cell_type": "code",
   "execution_count": null,
   "metadata": {
    "scrolled": true
   },
   "outputs": [],
   "source": [
    "fig=plt.figure() \n",
    "fig.set_figheight(10)\n",
    "fig.set_figwidth(15)\n",
    "plt.plot(np.arange(len(results.cost))+1, results.cost, 'o-',color='r',label='Train')\n",
    "plt.plot(np.arange(len(results.val))+1, results.val, 'o-' , color='b', label='Validation')\n",
    "plt.xlabel('Number of epoch', weight='bold', size= 20)\n",
    "plt.ylabel('Average cost per bin of a batch',  weight='bold', size= 20)\n",
    "plt.yscale('log') \n",
    "plt.tick_params('y', colors = 'k',labelsize=16 )\n",
    "plt.tick_params('x', colors = 'k',labelsize=16 )\n",
    "plt.legend()\n",
    "fig.savefig(name + '.png')"
   ]
  },
  {
   "cell_type": "code",
   "execution_count": null,
   "metadata": {},
   "outputs": [],
   "source": []
  }
 ],
 "metadata": {
  "kernelspec": {
   "display_name": "Python 3",
   "language": "python",
   "name": "python3"
  },
  "language_info": {
   "codemirror_mode": {
    "name": "ipython",
    "version": 3
   },
   "file_extension": ".py",
   "mimetype": "text/x-python",
   "name": "python",
   "nbconvert_exporter": "python",
   "pygments_lexer": "ipython3",
   "version": "3.6.4"
  }
 },
 "nbformat": 4,
 "nbformat_minor": 2
}
