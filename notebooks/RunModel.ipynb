{
 "cells": [
  {
   "cell_type": "code",
   "execution_count": 1,
   "metadata": {},
   "outputs": [],
   "source": [
    "import matplotlib\n",
    "import matplotlib.pyplot as plt\n",
    "import numpy as np\n",
    "\n",
    "# Python standard library\n",
    "from pathlib import Path\n",
    "\n",
    "# Pretty progress bar\n",
    "from tqdm import tqdm_notebook as progress_bar\n",
    "\n",
    "# Nicer plotting\n",
    "plt.rcParams[\"font.weight\"] = \"bold\"\n",
    "plt.rcParams[\"font.size\"] = \"18\"\n",
    "plt.rcParams[\"axes.labelweight\"] = \"bold\"\n",
    "\n",
    "# Force only first GPU (P100 GPU) on Goofy\n",
    "import os\n",
    "os.environ['CUDA_VISIBLE_DEVICES']=\"0\"\n",
    "\n",
    "import torch\n",
    "\n",
    "# Device configuration\n",
    "device = torch.device(\"cuda:0\" if torch.cuda.is_available() else \"cpu\")"
   ]
  },
  {
   "cell_type": "markdown",
   "metadata": {},
   "source": [
    "### Set up local parameters"
   ]
  },
  {
   "cell_type": "code",
   "execution_count": 2,
   "metadata": {},
   "outputs": [],
   "source": [
    "n_epochs = 200\n",
    "name = 'Aug_01_75000_2layer'\n",
    "data = '/data/schreihf/PvFinder/July_31_75000.npz'\n",
    "output = Path('Aug_01_75000_2layer')\n",
    "batch = 32\n",
    "learning_rate = 1e-3"
   ]
  },
  {
   "cell_type": "markdown",
   "metadata": {},
   "source": [
    "Make the output directory if it does not exist"
   ]
  },
  {
   "cell_type": "code",
   "execution_count": 3,
   "metadata": {},
   "outputs": [],
   "source": [
    "output.mkdir(exist_ok=True)"
   ]
  },
  {
   "cell_type": "markdown",
   "metadata": {},
   "source": [
    "When you type `import X`,\n",
    "Python searches `sys.path` for a python\n",
    "file named `X.py` to import.\n",
    "\n",
    "Add the directory with the model\n",
    "definitions to the path so we can import it"
   ]
  },
  {
   "cell_type": "code",
   "execution_count": 4,
   "metadata": {
    "scrolled": true
   },
   "outputs": [],
   "source": [
    "import sys\n",
    "sys.path.append('../model')"
   ]
  },
  {
   "cell_type": "code",
   "execution_count": null,
   "metadata": {
    "scrolled": true
   },
   "outputs": [],
   "source": [
    "from collectdata import collect_data\n",
    "from loss import Loss\n",
    "from training import trainNet\n",
    "from models import SimpleCNN2Layer as Model"
   ]
  },
  {
   "cell_type": "markdown",
   "metadata": {},
   "source": [
    "Load the dataset, split into parts, then move to device (see `collectdata.py`)"
   ]
  },
  {
   "cell_type": "code",
   "execution_count": 5,
   "metadata": {
    "scrolled": true
   },
   "outputs": [
    {
     "name": "stdout",
     "output_type": "stream",
     "text": [
      "Loading /data/schreihf/PvFinder/July_31_75000.npz\n",
      "Loaded files in 14.93 s\n",
      "Samples in Training: 55000 Validation: 10000 Test: 10000\n",
      "Constructed datasets on device in 4.617 s\n"
     ]
    }
   ],
   "source": [
    "dataset_train, dataset_val, _ = collect_data(\n",
    "    data, 55_000, 10_000,\n",
    "    verbose=True, device=device)"
   ]
  },
  {
   "cell_type": "markdown",
   "metadata": {},
   "source": [
    "Set a fixed seed"
>>>>>>> c712311ff09ef737f2c43a12584e25c72e1e240c
   ]
  },
  {
   "cell_type": "code",
   "execution_count": 6,
   "metadata": {},
   "outputs": [],
   "source": [
    "model = Model()\n",
    "loss_fn = Loss()"
   ]
  },
  {
   "cell_type": "markdown",
   "metadata": {},
   "source": [
    "Prepare a model, use multpile GPUs if they are VISIBLE, and move the model to the device."
   ]
  },
  {
   "cell_type": "code",
   "execution_count": null,
   "metadata": {
    "scrolled": true
   },
   "outputs": [
    {
     "name": "stdout",
     "output_type": "stream",
     "text": [
      "Let's use 1 GPUs!\n"
     ]
    }
   ],
   "source": [
    "print(\"Let's use\", torch.cuda.device_count(), \"GPUs!\")\n",
    "    \n",
    "model = model.to(device)\n",
    "loss_fn = loss_fn.to(device)"
   ]
  },
  {
   "cell_type": "markdown",
   "metadata": {},
   "source": [
    "Train. The body of this loop runs once per epoch."
   ]
  },
  {
   "cell_type": "code",
   "execution_count": null,
   "metadata": {
    "scrolled": true
   },
   "outputs": [
    {
     "data": {
      "application/vnd.jupyter.widget-view+json": {
       "model_id": "228ccfad8a20434882d1e69ddf7adab5",
       "version_major": 2,
       "version_minor": 0
      },
      "text/html": [
       "<p>Failed to display Jupyter Widget of type <code>HBox</code>.</p>\n",
       "<p>\n",
       "  If you're reading this message in the Jupyter Notebook or JupyterLab Notebook, it may mean\n",
       "  that the widgets JavaScript is still loading. If this message persists, it\n",
       "  likely means that the widgets JavaScript library is either not installed or\n",
       "  not enabled. See the <a href=\"https://ipywidgets.readthedocs.io/en/stable/user_install.html\">Jupyter\n",
       "  Widgets Documentation</a> for setup instructions.\n",
       "</p>\n",
       "<p>\n",
       "  If you're reading this message in another frontend (for example, a static\n",
       "  rendering on GitHub or <a href=\"https://nbviewer.jupyter.org/\">NBViewer</a>),\n",
       "  it may mean that your frontend doesn't currently support widgets.\n",
       "</p>\n"
      ],
      "text/plain": [
       "HBox(children=(IntProgress(value=0, layout=Layout(flex='2'), max=200), HTML(value='')), layout=Layout(display='inline-flex', flex_flow='row wrap', width='100%'))"
      ]
     },
     "metadata": {},
     "output_type": "display_data"
    }
   ],
   "source": [
    "# Make a progress bar\n",
    "progress = progress_bar(range(n_epochs), dynamic_ncols=True)\n",
    "\n",
    "# Run the epochs, using progress instead of range(n_epochs)\n",
    "for results in trainNet(model, dataset_train, dataset_val,\n",
    "                            loss_fn, batch, progress,\n",
    "                            learning_rate=learning_rate, verbose=False):\n",
    "        \n",
    "    # Pretty print a description\n",
    "    progress.set_postfix(train=results.cost[-1], val=results.val[-1])\n",
    "\n",
    "    # Save each model state dictionary\n",
    "    torch.save(model.state_dict(), output / f'{name}_{results.epoch}.pyt')"
   ]
  },
  {
   "cell_type": "code",
   "execution_count": null,
   "metadata": {},
   "outputs": [],
   "source": [
    "print(\"Training finished, took {:.2f}s\".format(sum(results.time))"
   ]
  },
  {
   "cell_type": "markdown",
   "metadata": {},
   "source": [
    "Go ahead and save the final model (even though it was also saved above):"
   ]
  },
  {
   "cell_type": "code",
   "execution_count": null,
   "metadata": {},
   "outputs": [],
   "source": [
    "torch.save(model.state_dict(), output / f'{name}_final.pyt')"
   ]
  },
  {
   "cell_type": "markdown",
   "metadata": {},
   "source": [
    "Who doesn't like pretty pictures?"
   ]
  },
  {
   "cell_type": "code",
   "execution_count": null,
   "metadata": {
    "scrolled": true
   },
   "outputs": [],
   "source": [
    "fig=plt.figure() \n",
    "fig.set_figheight(10)\n",
    "fig.set_figwidth(15)\n",
    "plt.plot(np.arange(len(results.cost))+1, results.cost, 'o-',color='r',label='Train')\n",
    "plt.plot(np.arange(len(results.val))+1, results.val, 'o-' , color='b', label='Validation')\n",
    "plt.xlabel('Number of epoch', weight='bold', size= 20)\n",
    "plt.ylabel('Average cost per bin of a batch',  weight='bold', size= 20)\n",
    "plt.yscale('log') \n",
    "plt.tick_params('y', colors = 'k',labelsize=16 )\n",
    "plt.tick_params('x', colors = 'k',labelsize=16 )\n",
    "plt.legend()\n",
    "fig.savefig(name + '.png')"
   ]
  }
 ],
 "metadata": {
  "kernelspec": {
   "display_name": "Python 3",
   "language": "python",
   "name": "python3"
  },
  "language_info": {
   "codemirror_mode": {
    "name": "ipython",
    "version": 3
   },
   "file_extension": ".py",
   "mimetype": "text/x-python",
   "name": "python",
   "nbconvert_exporter": "python",
   "pygments_lexer": "ipython3",
   "version": "3.7.0"
  }
 },
 "nbformat": 4,
 "nbformat_minor": 2
}
