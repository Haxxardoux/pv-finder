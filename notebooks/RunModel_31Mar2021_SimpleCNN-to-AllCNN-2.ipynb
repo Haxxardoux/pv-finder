{
 "cells": [
  {
   "cell_type": "code",
   "execution_count": 1,
   "metadata": {},
   "outputs": [],
   "source": [
    "##%matplotlib widget\n",
    "## with %matplotlib notebook: seems to require ipympl as part of environment, either\n",
    "## part of the conda environment or \"pip install ipympl\"\n",
    "## otherwise, does not show ANY plots in notebook, plt.savefig() works\n",
    "%matplotlib notebook  \n",
    "##%matplotlib inline    ## --plt.savefig()  works, but re-sizing does NOT"
   ]
  },
  {
   "cell_type": "markdown",
   "metadata": {},
   "source": [
    "This notebook is a short demo to illustrate execution.   For odd historical reasons, it uses \"toy Monte Carlo\" (simulated data)for \"training\" and \"full LHCB MC\" for validation.\n",
    "\n",
    "The network architecture is a \"simple\" model that uses 1 input channel (the KDE [kernel density estimator] but from the track parameters) feeding 5 convolutional layers followed by a fully connected layer.\n",
    "\n",
    "In today's version, the network will start with weights from a previously trained version.\n",
    " "
   ]
  },
  {
   "cell_type": "markdown",
   "metadata": {},
   "source": [
    "Check the current GPU usage. Please try to be nice!"
   ]
  },
  {
   "cell_type": "code",
   "execution_count": 2,
   "metadata": {},
   "outputs": [
    {
     "name": "stdout",
     "output_type": "stream",
     "text": [
      "Sun Apr  4 10:02:38 2021       \n",
      "+-----------------------------------------------------------------------------+\n",
      "| NVIDIA-SMI 440.64.00    Driver Version: 440.64.00    CUDA Version: 10.2     |\n",
      "|-------------------------------+----------------------+----------------------+\n",
      "| GPU  Name        Persistence-M| Bus-Id        Disp.A | Volatile Uncorr. ECC |\n",
      "| Fan  Temp  Perf  Pwr:Usage/Cap|         Memory-Usage | GPU-Util  Compute M. |\n",
      "|===============================+======================+======================|\n",
      "|   0  TITAN V             Off  | 00000000:03:00.0 Off |                  N/A |\n",
      "| 30%   45C    P0    34W / 250W |      0MiB / 12066MiB |      0%      Default |\n",
      "+-------------------------------+----------------------+----------------------+\n",
      "|   1  Tesla P100-PCIE...  Off  | 00000000:83:00.0 Off |                    0 |\n",
      "| N/A   34C    P0    34W / 250W |      0MiB / 16280MiB |      0%      Default |\n",
      "+-------------------------------+----------------------+----------------------+\n",
      "|   2  TITAN V             Off  | 00000000:84:00.0 Off |                  N/A |\n",
      "| 41%   52C    P0    39W / 250W |      0MiB / 12066MiB |      0%      Default |\n",
      "+-------------------------------+----------------------+----------------------+\n",
      "                                                                               \n",
      "+-----------------------------------------------------------------------------+\n",
      "| Processes:                                                       GPU Memory |\n",
      "|  GPU       PID   Type   Process name                             Usage      |\n",
      "|=============================================================================|\n",
      "|  No running processes found                                                 |\n",
      "+-----------------------------------------------------------------------------+\n"
     ]
    }
   ],
   "source": [
    "!nvidia-smi"
   ]
  },
  {
   "cell_type": "markdown",
   "metadata": {},
   "source": [
    "> **WARNING**: The card numbers here are *not* the same as in CUDA. You have been warned."
   ]
  },
  {
   "cell_type": "markdown",
   "metadata": {},
   "source": [
    "## Imports"
   ]
  },
  {
   "cell_type": "code",
   "execution_count": 3,
   "metadata": {},
   "outputs": [
    {
     "name": "stderr",
     "output_type": "stream",
     "text": [
      "/data/conda/envs/goofit-june2020/lib/python3.7/site-packages/awkward/__init__.py:23: DeprecationWarning: Consider switching from 'awkward' to 'awkward1', since the new interface will become the default later this year (2020).\n",
      "\n",
      "    pip install -U awkward1\n",
      "\n",
      "In Python:\n",
      "\n",
      "    >>> import awkward1 as ak\n",
      "    >>> new_style_array = ak.from_awkward0(old_style_array)\n",
      "    >>> old_style_array = ak.to_awkward0(new_style_array)\n",
      "\n",
      "  DeprecationWarning\n"
     ]
    }
   ],
   "source": [
    "import matplotlib.pyplot as plt\n",
    "import numpy as np\n",
    "import time\n",
    "import torch\n",
    "import pandas as pd\n",
    "import mlflow\n",
    "\n",
    "# Python 3 standard library\n",
    "from pathlib import Path\n",
    "\n",
    "from torchsummary import summary\n",
    "\n",
    "'''\n",
    "HELPER FUNCTIONS\n",
    "'''\n",
    "# From model/collectdata.py\n",
    "from model.collectdata_mdsA import collect_data\n",
    "# For poca KDE\n",
    "from model.collectdata_poca_KDE import collect_data_poca\n",
    "\n",
    "# From model/loss.py\n",
    "##from loss import Loss\n",
    "from model.alt_loss_A import Loss\n",
    "\n",
    "# From model/training.py\n",
    "from model.training import trainNet, select_gpu, Results\n",
    "\n",
    "# From model/models.py\n",
    "##  will start with model from TwoFeatures_CNN6Layer_A in the first instance\n",
    "##  see relevant cell below\n",
    "\n",
    "from model.models_mjp_30Mar21 import ACN_2i4_10L_4S_BN_NI as ModelA\n",
    "\n",
    "# From model/utilities.py\n",
    "from model.utilities import load_full_state, count_parameters, Params\n",
    "\n",
    "from model.plots import dual_train_plots, replace_in_ax\n",
    "\n",
    "## adds image of model architecture\n",
    "import hiddenlayer as HL"
   ]
  },
  {
   "cell_type": "markdown",
   "metadata": {},
   "source": [
    "Set up Torch device configuration. All tensors and model parameters need to know where to be put.\n",
    "This takes a BUS ID number: The BUS ID is the same as the listing at the top of this script."
   ]
  },
  {
   "cell_type": "code",
   "execution_count": 4,
   "metadata": {
    "scrolled": true
   },
   "outputs": [
    {
     "name": "stdout",
     "output_type": "stream",
     "text": [
      "1 available GPUs (initially using device 0):\n",
      "  0 TITAN V\n"
     ]
    },
    {
     "name": "stderr",
     "output_type": "stream",
     "text": [
      "/data/conda/envs/goofit-june2020/lib/python3.7/site-packages/ipykernel/ipkernel.py:287: DeprecationWarning: `should_run_async` will not call `transform_cell` automatically in the future. Please pass the result to `transformed_cell` argument and any exception that happen during thetransform in `preprocessing_exc_tuple` in IPython 7.17 and above.\n",
      "  and should_run_async(code)\n"
     ]
    }
   ],
   "source": [
    "device = select_gpu(2)"
   ]
  },
  {
   "cell_type": "markdown",
   "metadata": {},
   "source": [
    "### Set up local parameters"
   ]
  },
  {
   "cell_type": "code",
   "execution_count": 5,
   "metadata": {},
   "outputs": [],
   "source": [
    "# params order - batch size, epochs, lr, epoch_start (which is usually set to 0)\n",
    "args = Params(128, 100, 1e-6, 100)"
   ]
  },
  {
   "cell_type": "markdown",
   "metadata": {},
   "source": [
    "## Loading data\n",
    "\n",
    "Load the dataset, split into parts, then move to device (see `collectdata.py` in the `../model` directory)"
   ]
  },
  {
   "cell_type": "code",
   "execution_count": 6,
   "metadata": {
    "scrolled": true
   },
   "outputs": [
    {
     "name": "stdout",
     "output_type": "stream",
     "text": [
      "Loading data...\n",
      "Loaded /share/lazy/sokoloff/ML-data_A/Aug14_80K_train.h5 in 12.77 s\n",
      "Loaded /share/lazy/sokoloff/ML-data_AA/Oct03_80K_train.h5 in 12.68 s\n",
      "Loaded /share/lazy/will/ML_mdsA/June30_2020_80k_1.h5 in 12.31 s\n",
      "Constructing 240000 event dataset took 6.688 s\n",
      "Loading data...\n",
      "Loaded /share/lazy/sokoloff/ML-data_AA/Oct03_20K_val.h5 in 3.074 s\n",
      "Constructing 9984 event dataset took 0.09319 s\n"
     ]
    },
    {
     "data": {
      "text/plain": [
       "\"\\n## This is used when training with the new KDE\\ntrain_loader = collect_data_poca('/share/lazy/will/data/June30_2020_80k_1.h5',\\n                            '/share/lazy/will/data/June30_2020_80k_3.h5',\\n                            batch_size=args.batch_size,\\n                            device=device,\\n                            masking=True, shuffle=True,\\n                           ## slice = slice(0,18000)\\n                           )\\n\\nval_loader = collect_data_poca('/share/lazy/sokoloff/ML-data_AA/20K_POCA_kernel_evts_200926.h5',\\n                            batch_size=args.batch_size,\\n                            device=device,\\n                            masking=True, shuffle=True,\\n                            ##slice = slice(18000,None)\\n                           )\\n\""
      ]
     },
     "execution_count": 6,
     "metadata": {},
     "output_type": "execute_result"
    }
   ],
   "source": [
    "## newer vernacular\n",
    "## Training dataset. You can put as many files here as desired.\n",
    "##  set the option load_XandXsq = True to use both DKE and KDE^2 as input features\n",
    "\n",
    "## This is used when training with the original KDE\n",
    "train_loader = collect_data('/share/lazy/sokoloff/ML-data_A/Aug14_80K_train.h5',\n",
    "                             '/share/lazy/sokoloff/ML-data_AA/Oct03_80K_train.h5',\n",
    "#                             '/share/lazy/sokoloff/ML-data_AA/Oct03_40K_train.h5',\n",
    "                             '/share/lazy/will/ML_mdsA/June30_2020_80k_1.h5',\n",
    "#                             '/share/lazy/will/ML_mdsA/June30_2020_80k_3.h5',\n",
    "#                             '/share/lazy/will/ML_mdsA/June30_2020_80k_4.h5',\n",
    "#                             '/share/lazy/will/ML_mdsA/June30_2020_80k_5.h5',\n",
    "#                             '/share/lazy/will/ML_mdsA/June30_2020_80k_6.h5',\n",
    "#                             '/share/lazy/will/ML_mdsA/June30_2020_80k_7.h5',\n",
    "#                             '/share/lazy/will/ML_mdsA/June30_2020_80k_8.h5',\n",
    "#                             '/share/lazy/will/ML_mdsA/June30_2020_80k_9.h5',\n",
    "                            #'/share/lazy/sokoloff/ML-data_AA/Oct03_80K2_train.h5',\n",
    "                             batch_size=args.batch_size,\n",
    "## if we are using a larger dataset (240K events, with the datasets above, and 11 GB  of GPU memory),\n",
    "## not the dataset will overflow the GPU memory; device=device will allow the data to move back\n",
    "## and forth between the CPU and GPU memory. While this allows use of a larger dataset, it slows\n",
    "## down performance by about 10%.  So comment out when not needed.\n",
    "                            device=device,\n",
    "                            masking=True, shuffle=True,\n",
    "                            load_XandXsq=False,\n",
    "                            load_xy=False)\n",
    "\n",
    "# Validation dataset. You can slice to reduce the size.\n",
    "## dataAA -> /share/lazy/sokoloff/ML-data_AA/\n",
    "val_loader = collect_data('/share/lazy/sokoloff/ML-data_AA/Oct03_20K_val.h5',\n",
    "## mds val_loader = collect_data('dataAA/HLT1CPU_1kevts_val.h5',\n",
    "\n",
    "                          batch_size=args.batch_size,\n",
    "                          slice=slice(256 * 39),\n",
    "                          device=device,\n",
    "                          masking=True, shuffle=False,\n",
    "                          load_XandXsq=False,\n",
    "                          load_xy=False)\n",
    "\n",
    "'''\n",
    "## This is used when training with the new KDE\n",
    "train_loader = collect_data_poca('/share/lazy/will/data/June30_2020_80k_1.h5',\n",
    "                            '/share/lazy/will/data/June30_2020_80k_3.h5',\n",
    "                            batch_size=args.batch_size,\n",
    "                            device=device,\n",
    "                            masking=True, shuffle=True,\n",
    "                           ## slice = slice(0,18000)\n",
    "                           )\n",
    "\n",
    "val_loader = collect_data_poca('/share/lazy/sokoloff/ML-data_AA/20K_POCA_kernel_evts_200926.h5',\n",
    "                            batch_size=args.batch_size,\n",
    "                            device=device,\n",
    "                            masking=True, shuffle=True,\n",
    "                            ##slice = slice(18000,None)\n",
    "                           )\n",
    "'''"
   ]
  },
  {
   "cell_type": "markdown",
   "metadata": {},
   "source": [
    "# Preparing the model"
   ]
  },
  {
   "cell_type": "markdown",
   "metadata": {},
   "source": [
    "Prepare a model, use multiple GPUs if they are VISIBLE, and move the model to the device."
   ]
  },
  {
   "cell_type": "code",
   "execution_count": 7,
   "metadata": {
    "scrolled": true
   },
   "outputs": [
    {
     "name": "stderr",
     "output_type": "stream",
     "text": [
      "WARNING:root:Malformed experiment 'ML'. Detailed error Yaml file '/share/lazy/pv-finder_model_repo/ML/meta.yaml' does not exist.\n",
      "Traceback (most recent call last):\n",
      "  File \"/home/michael24peters/.local/lib/python3.7/site-packages/mlflow/store/tracking/file_store.py\", line 197, in list_experiments\n",
      "    experiment = self._get_experiment(exp_id, view_type)\n",
      "  File \"/home/michael24peters/.local/lib/python3.7/site-packages/mlflow/store/tracking/file_store.py\", line 260, in _get_experiment\n",
      "    meta = read_yaml(experiment_dir, FileStore.META_DATA_FILE_NAME)\n",
      "  File \"/home/michael24peters/.local/lib/python3.7/site-packages/mlflow/utils/file_utils.py\", line 167, in read_yaml\n",
      "    raise MissingConfigException(\"Yaml file '%s' does not exist.\" % file_path)\n",
      "mlflow.exceptions.MissingConfigException: Yaml file '/share/lazy/pv-finder_model_repo/ML/meta.yaml' does not exist.\n"
     ]
    }
   ],
   "source": [
    "# Set model to use (defined above)\n",
    "model = ModelA()\n",
    "\n",
    "# Prints out layout of each model (keep commented out)\n",
    "##summary(model, input_size=(4, 4000))\n",
    "##print(model.parameters)\n",
    "\n",
    "# Sets save directory for mlflow\n",
    "mlflow.tracking.set_tracking_uri('file:/share/lazy/pv-finder_model_repo')\n",
    "mlflow.set_experiment('Four Feature AllCNN')"
   ]
  },
  {
   "cell_type": "code",
   "execution_count": 8,
   "metadata": {
    "scrolled": true
   },
   "outputs": [
    {
     "name": "stdout",
     "output_type": "stream",
     "text": [
      "Let's use 1 GPUs!\n"
     ]
    }
   ],
   "source": [
    "print(\"Let's use\", torch.cuda.device_count(), \"GPUs!\")\n",
    "if torch.cuda.device_count() > 1:\n",
    "    model = torch.nn.DataParallel(model)"
   ]
  },
  {
   "cell_type": "code",
   "execution_count": 9,
   "metadata": {},
   "outputs": [
    {
     "name": "stdout",
     "output_type": "stream",
     "text": [
      "we also froze 0 weights\n",
      "Of the 35.0 parameter layers to update in the current model, 31.5 were loaded\n"
     ]
    }
   ],
   "source": [
    "loss = Loss(epsilon=1e-5,coefficient=2.5)\n",
    "optimizer = torch.optim.Adam(model.parameters(), lr=args.lr)\n",
    "\n",
    "##  use the first five layers from a pre-existing model\n",
    "##  see example at https://discuss.pytorch.org/t/how-to-load-part-of-pre-trained-model/1113\n",
    "##   ML -> /share/lazy/sokoloff/ML\n",
    "\n",
    "# When loading pretrained models, use this code; otherwise, comment it out\n",
    "# For other pretrained models, go to MLFlow and find the path for \"run_stats.pyt\"\n",
    "pretrained_dict = '/share/lazy/pv-finder_model_repo/12/88a7d95d1df3432599fb7b289a08d92e/artifacts/run_stats.pyt'\n",
    "load_full_state(model, optimizer, pretrained_dict, freeze_weights=True)"
   ]
  },
  {
   "cell_type": "markdown",
   "metadata": {},
   "source": [
    "Let's move the model's weight matricies to the GPU:"
   ]
  },
  {
   "cell_type": "code",
   "execution_count": 10,
   "metadata": {
    "scrolled": true
   },
   "outputs": [
    {
     "data": {
      "text/plain": [
       "ACN_2i4_10L_4S_BN_NI(\n",
       "  (conv1): Conv(\n",
       "    (0): Conv1d(1, 20, kernel_size=(25,), stride=(1,), padding=(12,))\n",
       "    (1): BatchNorm1d(20, eps=1e-05, momentum=0.1, affine=True, track_running_stats=True)\n",
       "    (2): Dropout(p=0.15, inplace=False)\n",
       "    (3): LeakyReLU(negative_slope=0.01)\n",
       "  )\n",
       "  (conv2): Conv(\n",
       "    (0): Conv1d(20, 10, kernel_size=(15,), stride=(1,), padding=(7,))\n",
       "    (1): BatchNorm1d(10, eps=1e-05, momentum=0.1, affine=True, track_running_stats=True)\n",
       "    (2): Dropout(p=0.15, inplace=False)\n",
       "    (3): LeakyReLU(negative_slope=0.01)\n",
       "  )\n",
       "  (conv3): Conv(\n",
       "    (0): Conv1d(30, 10, kernel_size=(15,), stride=(1,), padding=(7,))\n",
       "    (1): BatchNorm1d(10, eps=1e-05, momentum=0.1, affine=True, track_running_stats=True)\n",
       "    (2): Dropout(p=0.15, inplace=False)\n",
       "    (3): LeakyReLU(negative_slope=0.01)\n",
       "  )\n",
       "  (conv4): Conv(\n",
       "    (0): Conv1d(10, 10, kernel_size=(15,), stride=(1,), padding=(7,))\n",
       "    (1): BatchNorm1d(10, eps=1e-05, momentum=0.1, affine=True, track_running_stats=True)\n",
       "    (2): Dropout(p=0.15, inplace=False)\n",
       "    (3): LeakyReLU(negative_slope=0.01)\n",
       "  )\n",
       "  (conv5): Conv(\n",
       "    (0): Conv1d(20, 10, kernel_size=(15,), stride=(1,), padding=(7,))\n",
       "    (1): BatchNorm1d(10, eps=1e-05, momentum=0.1, affine=True, track_running_stats=True)\n",
       "    (2): Dropout(p=0.15, inplace=False)\n",
       "    (3): LeakyReLU(negative_slope=0.01)\n",
       "  )\n",
       "  (conv6): Conv(\n",
       "    (0): Conv1d(10, 10, kernel_size=(15,), stride=(1,), padding=(7,))\n",
       "    (1): BatchNorm1d(10, eps=1e-05, momentum=0.1, affine=True, track_running_stats=True)\n",
       "    (2): Dropout(p=0.15, inplace=False)\n",
       "    (3): LeakyReLU(negative_slope=0.01)\n",
       "  )\n",
       "  (conv7): Conv(\n",
       "    (0): Conv1d(20, 7, kernel_size=(15,), stride=(1,), padding=(7,))\n",
       "    (1): BatchNorm1d(7, eps=1e-05, momentum=0.1, affine=True, track_running_stats=True)\n",
       "    (2): Dropout(p=0.15, inplace=False)\n",
       "    (3): LeakyReLU(negative_slope=0.01)\n",
       "  )\n",
       "  (conv8): Conv(\n",
       "    (0): Conv1d(7, 5, kernel_size=(9,), stride=(1,), padding=(4,))\n",
       "    (1): BatchNorm1d(5, eps=1e-05, momentum=0.1, affine=True, track_running_stats=True)\n",
       "    (2): Dropout(p=0.15, inplace=False)\n",
       "    (3): LeakyReLU(negative_slope=0.01)\n",
       "  )\n",
       "  (conv9): Conv(\n",
       "    (0): Conv1d(12, 1, kernel_size=(5,), stride=(1,), padding=(2,))\n",
       "    (1): BatchNorm1d(1, eps=1e-05, momentum=0.1, affine=True, track_running_stats=True)\n",
       "    (2): Dropout(p=0.15, inplace=False)\n",
       "    (3): LeakyReLU(negative_slope=0.01)\n",
       "  )\n",
       "  (conv10): Conv(\n",
       "    (0): Conv1d(1, 1, kernel_size=(91,), stride=(1,), padding=(45,))\n",
       "    (1): BatchNorm1d(1, eps=1e-05, momentum=0.1, affine=True, track_running_stats=True)\n",
       "    (2): Dropout(p=0.15, inplace=False)\n",
       "    (3): LeakyReLU(negative_slope=0.01)\n",
       "  )\n",
       ")"
      ]
     },
     "execution_count": 10,
     "metadata": {},
     "output_type": "execute_result"
    }
   ],
   "source": [
    "model.to(device)"
   ]
  },
  {
   "cell_type": "markdown",
   "metadata": {},
   "source": [
    "## Train \n",
    "\n",
    "\n",
    "\n",
    "The body of this loop runs once per epoch. Results is a named tuple of values (loss per epoch for training and validation, time each). Start by setting up a plot first:"
   ]
  },
  {
   "cell_type": "code",
   "execution_count": 11,
   "metadata": {},
   "outputs": [
    {
     "data": {
      "application/javascript": [
       "/* Put everything inside the global mpl namespace */\n",
       "window.mpl = {};\n",
       "\n",
       "\n",
       "mpl.get_websocket_type = function() {\n",
       "    if (typeof(WebSocket) !== 'undefined') {\n",
       "        return WebSocket;\n",
       "    } else if (typeof(MozWebSocket) !== 'undefined') {\n",
       "        return MozWebSocket;\n",
       "    } else {\n",
       "        alert('Your browser does not have WebSocket support. ' +\n",
       "              'Please try Chrome, Safari or Firefox ≥ 6. ' +\n",
       "              'Firefox 4 and 5 are also supported but you ' +\n",
       "              'have to enable WebSockets in about:config.');\n",
       "    };\n",
       "}\n",
       "\n",
       "mpl.figure = function(figure_id, websocket, ondownload, parent_element) {\n",
       "    this.id = figure_id;\n",
       "\n",
       "    this.ws = websocket;\n",
       "\n",
       "    this.supports_binary = (this.ws.binaryType != undefined);\n",
       "\n",
       "    if (!this.supports_binary) {\n",
       "        var warnings = document.getElementById(\"mpl-warnings\");\n",
       "        if (warnings) {\n",
       "            warnings.style.display = 'block';\n",
       "            warnings.textContent = (\n",
       "                \"This browser does not support binary websocket messages. \" +\n",
       "                    \"Performance may be slow.\");\n",
       "        }\n",
       "    }\n",
       "\n",
       "    this.imageObj = new Image();\n",
       "\n",
       "    this.context = undefined;\n",
       "    this.message = undefined;\n",
       "    this.canvas = undefined;\n",
       "    this.rubberband_canvas = undefined;\n",
       "    this.rubberband_context = undefined;\n",
       "    this.format_dropdown = undefined;\n",
       "\n",
       "    this.image_mode = 'full';\n",
       "\n",
       "    this.root = $('<div/>');\n",
       "    this._root_extra_style(this.root)\n",
       "    this.root.attr('style', 'display: inline-block');\n",
       "\n",
       "    $(parent_element).append(this.root);\n",
       "\n",
       "    this._init_header(this);\n",
       "    this._init_canvas(this);\n",
       "    this._init_toolbar(this);\n",
       "\n",
       "    var fig = this;\n",
       "\n",
       "    this.waiting = false;\n",
       "\n",
       "    this.ws.onopen =  function () {\n",
       "            fig.send_message(\"supports_binary\", {value: fig.supports_binary});\n",
       "            fig.send_message(\"send_image_mode\", {});\n",
       "            if (mpl.ratio != 1) {\n",
       "                fig.send_message(\"set_dpi_ratio\", {'dpi_ratio': mpl.ratio});\n",
       "            }\n",
       "            fig.send_message(\"refresh\", {});\n",
       "        }\n",
       "\n",
       "    this.imageObj.onload = function() {\n",
       "            if (fig.image_mode == 'full') {\n",
       "                // Full images could contain transparency (where diff images\n",
       "                // almost always do), so we need to clear the canvas so that\n",
       "                // there is no ghosting.\n",
       "                fig.context.clearRect(0, 0, fig.canvas.width, fig.canvas.height);\n",
       "            }\n",
       "            fig.context.drawImage(fig.imageObj, 0, 0);\n",
       "        };\n",
       "\n",
       "    this.imageObj.onunload = function() {\n",
       "        fig.ws.close();\n",
       "    }\n",
       "\n",
       "    this.ws.onmessage = this._make_on_message_function(this);\n",
       "\n",
       "    this.ondownload = ondownload;\n",
       "}\n",
       "\n",
       "mpl.figure.prototype._init_header = function() {\n",
       "    var titlebar = $(\n",
       "        '<div class=\"ui-dialog-titlebar ui-widget-header ui-corner-all ' +\n",
       "        'ui-helper-clearfix\"/>');\n",
       "    var titletext = $(\n",
       "        '<div class=\"ui-dialog-title\" style=\"width: 100%; ' +\n",
       "        'text-align: center; padding: 3px;\"/>');\n",
       "    titlebar.append(titletext)\n",
       "    this.root.append(titlebar);\n",
       "    this.header = titletext[0];\n",
       "}\n",
       "\n",
       "\n",
       "\n",
       "mpl.figure.prototype._canvas_extra_style = function(canvas_div) {\n",
       "\n",
       "}\n",
       "\n",
       "\n",
       "mpl.figure.prototype._root_extra_style = function(canvas_div) {\n",
       "\n",
       "}\n",
       "\n",
       "mpl.figure.prototype._init_canvas = function() {\n",
       "    var fig = this;\n",
       "\n",
       "    var canvas_div = $('<div/>');\n",
       "\n",
       "    canvas_div.attr('style', 'position: relative; clear: both; outline: 0');\n",
       "\n",
       "    function canvas_keyboard_event(event) {\n",
       "        return fig.key_event(event, event['data']);\n",
       "    }\n",
       "\n",
       "    canvas_div.keydown('key_press', canvas_keyboard_event);\n",
       "    canvas_div.keyup('key_release', canvas_keyboard_event);\n",
       "    this.canvas_div = canvas_div\n",
       "    this._canvas_extra_style(canvas_div)\n",
       "    this.root.append(canvas_div);\n",
       "\n",
       "    var canvas = $('<canvas/>');\n",
       "    canvas.addClass('mpl-canvas');\n",
       "    canvas.attr('style', \"left: 0; top: 0; z-index: 0; outline: 0\")\n",
       "\n",
       "    this.canvas = canvas[0];\n",
       "    this.context = canvas[0].getContext(\"2d\");\n",
       "\n",
       "    var backingStore = this.context.backingStorePixelRatio ||\n",
       "\tthis.context.webkitBackingStorePixelRatio ||\n",
       "\tthis.context.mozBackingStorePixelRatio ||\n",
       "\tthis.context.msBackingStorePixelRatio ||\n",
       "\tthis.context.oBackingStorePixelRatio ||\n",
       "\tthis.context.backingStorePixelRatio || 1;\n",
       "\n",
       "    mpl.ratio = (window.devicePixelRatio || 1) / backingStore;\n",
       "\n",
       "    var rubberband = $('<canvas/>');\n",
       "    rubberband.attr('style', \"position: absolute; left: 0; top: 0; z-index: 1;\")\n",
       "\n",
       "    var pass_mouse_events = true;\n",
       "\n",
       "    canvas_div.resizable({\n",
       "        start: function(event, ui) {\n",
       "            pass_mouse_events = false;\n",
       "        },\n",
       "        resize: function(event, ui) {\n",
       "            fig.request_resize(ui.size.width, ui.size.height);\n",
       "        },\n",
       "        stop: function(event, ui) {\n",
       "            pass_mouse_events = true;\n",
       "            fig.request_resize(ui.size.width, ui.size.height);\n",
       "        },\n",
       "    });\n",
       "\n",
       "    function mouse_event_fn(event) {\n",
       "        if (pass_mouse_events)\n",
       "            return fig.mouse_event(event, event['data']);\n",
       "    }\n",
       "\n",
       "    rubberband.mousedown('button_press', mouse_event_fn);\n",
       "    rubberband.mouseup('button_release', mouse_event_fn);\n",
       "    // Throttle sequential mouse events to 1 every 20ms.\n",
       "    rubberband.mousemove('motion_notify', mouse_event_fn);\n",
       "\n",
       "    rubberband.mouseenter('figure_enter', mouse_event_fn);\n",
       "    rubberband.mouseleave('figure_leave', mouse_event_fn);\n",
       "\n",
       "    canvas_div.on(\"wheel\", function (event) {\n",
       "        event = event.originalEvent;\n",
       "        event['data'] = 'scroll'\n",
       "        if (event.deltaY < 0) {\n",
       "            event.step = 1;\n",
       "        } else {\n",
       "            event.step = -1;\n",
       "        }\n",
       "        mouse_event_fn(event);\n",
       "    });\n",
       "\n",
       "    canvas_div.append(canvas);\n",
       "    canvas_div.append(rubberband);\n",
       "\n",
       "    this.rubberband = rubberband;\n",
       "    this.rubberband_canvas = rubberband[0];\n",
       "    this.rubberband_context = rubberband[0].getContext(\"2d\");\n",
       "    this.rubberband_context.strokeStyle = \"#000000\";\n",
       "\n",
       "    this._resize_canvas = function(width, height) {\n",
       "        // Keep the size of the canvas, canvas container, and rubber band\n",
       "        // canvas in synch.\n",
       "        canvas_div.css('width', width)\n",
       "        canvas_div.css('height', height)\n",
       "\n",
       "        canvas.attr('width', width * mpl.ratio);\n",
       "        canvas.attr('height', height * mpl.ratio);\n",
       "        canvas.attr('style', 'width: ' + width + 'px; height: ' + height + 'px;');\n",
       "\n",
       "        rubberband.attr('width', width);\n",
       "        rubberband.attr('height', height);\n",
       "    }\n",
       "\n",
       "    // Set the figure to an initial 600x600px, this will subsequently be updated\n",
       "    // upon first draw.\n",
       "    this._resize_canvas(600, 600);\n",
       "\n",
       "    // Disable right mouse context menu.\n",
       "    $(this.rubberband_canvas).bind(\"contextmenu\",function(e){\n",
       "        return false;\n",
       "    });\n",
       "\n",
       "    function set_focus () {\n",
       "        canvas.focus();\n",
       "        canvas_div.focus();\n",
       "    }\n",
       "\n",
       "    window.setTimeout(set_focus, 100);\n",
       "}\n",
       "\n",
       "mpl.figure.prototype._init_toolbar = function() {\n",
       "    var fig = this;\n",
       "\n",
       "    var nav_element = $('<div/>');\n",
       "    nav_element.attr('style', 'width: 100%');\n",
       "    this.root.append(nav_element);\n",
       "\n",
       "    // Define a callback function for later on.\n",
       "    function toolbar_event(event) {\n",
       "        return fig.toolbar_button_onclick(event['data']);\n",
       "    }\n",
       "    function toolbar_mouse_event(event) {\n",
       "        return fig.toolbar_button_onmouseover(event['data']);\n",
       "    }\n",
       "\n",
       "    for(var toolbar_ind in mpl.toolbar_items) {\n",
       "        var name = mpl.toolbar_items[toolbar_ind][0];\n",
       "        var tooltip = mpl.toolbar_items[toolbar_ind][1];\n",
       "        var image = mpl.toolbar_items[toolbar_ind][2];\n",
       "        var method_name = mpl.toolbar_items[toolbar_ind][3];\n",
       "\n",
       "        if (!name) {\n",
       "            // put a spacer in here.\n",
       "            continue;\n",
       "        }\n",
       "        var button = $('<button/>');\n",
       "        button.addClass('ui-button ui-widget ui-state-default ui-corner-all ' +\n",
       "                        'ui-button-icon-only');\n",
       "        button.attr('role', 'button');\n",
       "        button.attr('aria-disabled', 'false');\n",
       "        button.click(method_name, toolbar_event);\n",
       "        button.mouseover(tooltip, toolbar_mouse_event);\n",
       "\n",
       "        var icon_img = $('<span/>');\n",
       "        icon_img.addClass('ui-button-icon-primary ui-icon');\n",
       "        icon_img.addClass(image);\n",
       "        icon_img.addClass('ui-corner-all');\n",
       "\n",
       "        var tooltip_span = $('<span/>');\n",
       "        tooltip_span.addClass('ui-button-text');\n",
       "        tooltip_span.html(tooltip);\n",
       "\n",
       "        button.append(icon_img);\n",
       "        button.append(tooltip_span);\n",
       "\n",
       "        nav_element.append(button);\n",
       "    }\n",
       "\n",
       "    var fmt_picker_span = $('<span/>');\n",
       "\n",
       "    var fmt_picker = $('<select/>');\n",
       "    fmt_picker.addClass('mpl-toolbar-option ui-widget ui-widget-content');\n",
       "    fmt_picker_span.append(fmt_picker);\n",
       "    nav_element.append(fmt_picker_span);\n",
       "    this.format_dropdown = fmt_picker[0];\n",
       "\n",
       "    for (var ind in mpl.extensions) {\n",
       "        var fmt = mpl.extensions[ind];\n",
       "        var option = $(\n",
       "            '<option/>', {selected: fmt === mpl.default_extension}).html(fmt);\n",
       "        fmt_picker.append(option);\n",
       "    }\n",
       "\n",
       "    // Add hover states to the ui-buttons\n",
       "    $( \".ui-button\" ).hover(\n",
       "        function() { $(this).addClass(\"ui-state-hover\");},\n",
       "        function() { $(this).removeClass(\"ui-state-hover\");}\n",
       "    );\n",
       "\n",
       "    var status_bar = $('<span class=\"mpl-message\"/>');\n",
       "    nav_element.append(status_bar);\n",
       "    this.message = status_bar[0];\n",
       "}\n",
       "\n",
       "mpl.figure.prototype.request_resize = function(x_pixels, y_pixels) {\n",
       "    // Request matplotlib to resize the figure. Matplotlib will then trigger a resize in the client,\n",
       "    // which will in turn request a refresh of the image.\n",
       "    this.send_message('resize', {'width': x_pixels, 'height': y_pixels});\n",
       "}\n",
       "\n",
       "mpl.figure.prototype.send_message = function(type, properties) {\n",
       "    properties['type'] = type;\n",
       "    properties['figure_id'] = this.id;\n",
       "    this.ws.send(JSON.stringify(properties));\n",
       "}\n",
       "\n",
       "mpl.figure.prototype.send_draw_message = function() {\n",
       "    if (!this.waiting) {\n",
       "        this.waiting = true;\n",
       "        this.ws.send(JSON.stringify({type: \"draw\", figure_id: this.id}));\n",
       "    }\n",
       "}\n",
       "\n",
       "\n",
       "mpl.figure.prototype.handle_save = function(fig, msg) {\n",
       "    var format_dropdown = fig.format_dropdown;\n",
       "    var format = format_dropdown.options[format_dropdown.selectedIndex].value;\n",
       "    fig.ondownload(fig, format);\n",
       "}\n",
       "\n",
       "\n",
       "mpl.figure.prototype.handle_resize = function(fig, msg) {\n",
       "    var size = msg['size'];\n",
       "    if (size[0] != fig.canvas.width || size[1] != fig.canvas.height) {\n",
       "        fig._resize_canvas(size[0], size[1]);\n",
       "        fig.send_message(\"refresh\", {});\n",
       "    };\n",
       "}\n",
       "\n",
       "mpl.figure.prototype.handle_rubberband = function(fig, msg) {\n",
       "    var x0 = msg['x0'] / mpl.ratio;\n",
       "    var y0 = (fig.canvas.height - msg['y0']) / mpl.ratio;\n",
       "    var x1 = msg['x1'] / mpl.ratio;\n",
       "    var y1 = (fig.canvas.height - msg['y1']) / mpl.ratio;\n",
       "    x0 = Math.floor(x0) + 0.5;\n",
       "    y0 = Math.floor(y0) + 0.5;\n",
       "    x1 = Math.floor(x1) + 0.5;\n",
       "    y1 = Math.floor(y1) + 0.5;\n",
       "    var min_x = Math.min(x0, x1);\n",
       "    var min_y = Math.min(y0, y1);\n",
       "    var width = Math.abs(x1 - x0);\n",
       "    var height = Math.abs(y1 - y0);\n",
       "\n",
       "    fig.rubberband_context.clearRect(\n",
       "        0, 0, fig.canvas.width / mpl.ratio, fig.canvas.height / mpl.ratio);\n",
       "\n",
       "    fig.rubberband_context.strokeRect(min_x, min_y, width, height);\n",
       "}\n",
       "\n",
       "mpl.figure.prototype.handle_figure_label = function(fig, msg) {\n",
       "    // Updates the figure title.\n",
       "    fig.header.textContent = msg['label'];\n",
       "}\n",
       "\n",
       "mpl.figure.prototype.handle_cursor = function(fig, msg) {\n",
       "    var cursor = msg['cursor'];\n",
       "    switch(cursor)\n",
       "    {\n",
       "    case 0:\n",
       "        cursor = 'pointer';\n",
       "        break;\n",
       "    case 1:\n",
       "        cursor = 'default';\n",
       "        break;\n",
       "    case 2:\n",
       "        cursor = 'crosshair';\n",
       "        break;\n",
       "    case 3:\n",
       "        cursor = 'move';\n",
       "        break;\n",
       "    }\n",
       "    fig.rubberband_canvas.style.cursor = cursor;\n",
       "}\n",
       "\n",
       "mpl.figure.prototype.handle_message = function(fig, msg) {\n",
       "    fig.message.textContent = msg['message'];\n",
       "}\n",
       "\n",
       "mpl.figure.prototype.handle_draw = function(fig, msg) {\n",
       "    // Request the server to send over a new figure.\n",
       "    fig.send_draw_message();\n",
       "}\n",
       "\n",
       "mpl.figure.prototype.handle_image_mode = function(fig, msg) {\n",
       "    fig.image_mode = msg['mode'];\n",
       "}\n",
       "\n",
       "mpl.figure.prototype.updated_canvas_event = function() {\n",
       "    // Called whenever the canvas gets updated.\n",
       "    this.send_message(\"ack\", {});\n",
       "}\n",
       "\n",
       "// A function to construct a web socket function for onmessage handling.\n",
       "// Called in the figure constructor.\n",
       "mpl.figure.prototype._make_on_message_function = function(fig) {\n",
       "    return function socket_on_message(evt) {\n",
       "        if (evt.data instanceof Blob) {\n",
       "            /* FIXME: We get \"Resource interpreted as Image but\n",
       "             * transferred with MIME type text/plain:\" errors on\n",
       "             * Chrome.  But how to set the MIME type?  It doesn't seem\n",
       "             * to be part of the websocket stream */\n",
       "            evt.data.type = \"image/png\";\n",
       "\n",
       "            /* Free the memory for the previous frames */\n",
       "            if (fig.imageObj.src) {\n",
       "                (window.URL || window.webkitURL).revokeObjectURL(\n",
       "                    fig.imageObj.src);\n",
       "            }\n",
       "\n",
       "            fig.imageObj.src = (window.URL || window.webkitURL).createObjectURL(\n",
       "                evt.data);\n",
       "            fig.updated_canvas_event();\n",
       "            fig.waiting = false;\n",
       "            return;\n",
       "        }\n",
       "        else if (typeof evt.data === 'string' && evt.data.slice(0, 21) == \"data:image/png;base64\") {\n",
       "            fig.imageObj.src = evt.data;\n",
       "            fig.updated_canvas_event();\n",
       "            fig.waiting = false;\n",
       "            return;\n",
       "        }\n",
       "\n",
       "        var msg = JSON.parse(evt.data);\n",
       "        var msg_type = msg['type'];\n",
       "\n",
       "        // Call the  \"handle_{type}\" callback, which takes\n",
       "        // the figure and JSON message as its only arguments.\n",
       "        try {\n",
       "            var callback = fig[\"handle_\" + msg_type];\n",
       "        } catch (e) {\n",
       "            console.log(\"No handler for the '\" + msg_type + \"' message type: \", msg);\n",
       "            return;\n",
       "        }\n",
       "\n",
       "        if (callback) {\n",
       "            try {\n",
       "                // console.log(\"Handling '\" + msg_type + \"' message: \", msg);\n",
       "                callback(fig, msg);\n",
       "            } catch (e) {\n",
       "                console.log(\"Exception inside the 'handler_\" + msg_type + \"' callback:\", e, e.stack, msg);\n",
       "            }\n",
       "        }\n",
       "    };\n",
       "}\n",
       "\n",
       "// from http://stackoverflow.com/questions/1114465/getting-mouse-location-in-canvas\n",
       "mpl.findpos = function(e) {\n",
       "    //this section is from http://www.quirksmode.org/js/events_properties.html\n",
       "    var targ;\n",
       "    if (!e)\n",
       "        e = window.event;\n",
       "    if (e.target)\n",
       "        targ = e.target;\n",
       "    else if (e.srcElement)\n",
       "        targ = e.srcElement;\n",
       "    if (targ.nodeType == 3) // defeat Safari bug\n",
       "        targ = targ.parentNode;\n",
       "\n",
       "    // jQuery normalizes the pageX and pageY\n",
       "    // pageX,Y are the mouse positions relative to the document\n",
       "    // offset() returns the position of the element relative to the document\n",
       "    var x = e.pageX - $(targ).offset().left;\n",
       "    var y = e.pageY - $(targ).offset().top;\n",
       "\n",
       "    return {\"x\": x, \"y\": y};\n",
       "};\n",
       "\n",
       "/*\n",
       " * return a copy of an object with only non-object keys\n",
       " * we need this to avoid circular references\n",
       " * http://stackoverflow.com/a/24161582/3208463\n",
       " */\n",
       "function simpleKeys (original) {\n",
       "  return Object.keys(original).reduce(function (obj, key) {\n",
       "    if (typeof original[key] !== 'object')\n",
       "        obj[key] = original[key]\n",
       "    return obj;\n",
       "  }, {});\n",
       "}\n",
       "\n",
       "mpl.figure.prototype.mouse_event = function(event, name) {\n",
       "    var canvas_pos = mpl.findpos(event)\n",
       "\n",
       "    if (name === 'button_press')\n",
       "    {\n",
       "        this.canvas.focus();\n",
       "        this.canvas_div.focus();\n",
       "    }\n",
       "\n",
       "    var x = canvas_pos.x * mpl.ratio;\n",
       "    var y = canvas_pos.y * mpl.ratio;\n",
       "\n",
       "    this.send_message(name, {x: x, y: y, button: event.button,\n",
       "                             step: event.step,\n",
       "                             guiEvent: simpleKeys(event)});\n",
       "\n",
       "    /* This prevents the web browser from automatically changing to\n",
       "     * the text insertion cursor when the button is pressed.  We want\n",
       "     * to control all of the cursor setting manually through the\n",
       "     * 'cursor' event from matplotlib */\n",
       "    event.preventDefault();\n",
       "    return false;\n",
       "}\n",
       "\n",
       "mpl.figure.prototype._key_event_extra = function(event, name) {\n",
       "    // Handle any extra behaviour associated with a key event\n",
       "}\n",
       "\n",
       "mpl.figure.prototype.key_event = function(event, name) {\n",
       "\n",
       "    // Prevent repeat events\n",
       "    if (name == 'key_press')\n",
       "    {\n",
       "        if (event.which === this._key)\n",
       "            return;\n",
       "        else\n",
       "            this._key = event.which;\n",
       "    }\n",
       "    if (name == 'key_release')\n",
       "        this._key = null;\n",
       "\n",
       "    var value = '';\n",
       "    if (event.ctrlKey && event.which != 17)\n",
       "        value += \"ctrl+\";\n",
       "    if (event.altKey && event.which != 18)\n",
       "        value += \"alt+\";\n",
       "    if (event.shiftKey && event.which != 16)\n",
       "        value += \"shift+\";\n",
       "\n",
       "    value += 'k';\n",
       "    value += event.which.toString();\n",
       "\n",
       "    this._key_event_extra(event, name);\n",
       "\n",
       "    this.send_message(name, {key: value,\n",
       "                             guiEvent: simpleKeys(event)});\n",
       "    return false;\n",
       "}\n",
       "\n",
       "mpl.figure.prototype.toolbar_button_onclick = function(name) {\n",
       "    if (name == 'download') {\n",
       "        this.handle_save(this, null);\n",
       "    } else {\n",
       "        this.send_message(\"toolbar_button\", {name: name});\n",
       "    }\n",
       "};\n",
       "\n",
       "mpl.figure.prototype.toolbar_button_onmouseover = function(tooltip) {\n",
       "    this.message.textContent = tooltip;\n",
       "};\n",
       "mpl.toolbar_items = [[\"Home\", \"Reset original view\", \"fa fa-home icon-home\", \"home\"], [\"Back\", \"Back to previous view\", \"fa fa-arrow-left icon-arrow-left\", \"back\"], [\"Forward\", \"Forward to next view\", \"fa fa-arrow-right icon-arrow-right\", \"forward\"], [\"\", \"\", \"\", \"\"], [\"Pan\", \"Pan axes with left mouse, zoom with right\", \"fa fa-arrows icon-move\", \"pan\"], [\"Zoom\", \"Zoom to rectangle\", \"fa fa-square-o icon-check-empty\", \"zoom\"], [\"\", \"\", \"\", \"\"], [\"Download\", \"Download plot\", \"fa fa-floppy-o icon-save\", \"download\"]];\n",
       "\n",
       "mpl.extensions = [\"eps\", \"jpeg\", \"pdf\", \"png\", \"ps\", \"raw\", \"svg\", \"tif\"];\n",
       "\n",
       "mpl.default_extension = \"png\";var comm_websocket_adapter = function(comm) {\n",
       "    // Create a \"websocket\"-like object which calls the given IPython comm\n",
       "    // object with the appropriate methods. Currently this is a non binary\n",
       "    // socket, so there is still some room for performance tuning.\n",
       "    var ws = {};\n",
       "\n",
       "    ws.close = function() {\n",
       "        comm.close()\n",
       "    };\n",
       "    ws.send = function(m) {\n",
       "        //console.log('sending', m);\n",
       "        comm.send(m);\n",
       "    };\n",
       "    // Register the callback with on_msg.\n",
       "    comm.on_msg(function(msg) {\n",
       "        //console.log('receiving', msg['content']['data'], msg);\n",
       "        // Pass the mpl event to the overridden (by mpl) onmessage function.\n",
       "        ws.onmessage(msg['content']['data'])\n",
       "    });\n",
       "    return ws;\n",
       "}\n",
       "\n",
       "mpl.mpl_figure_comm = function(comm, msg) {\n",
       "    // This is the function which gets called when the mpl process\n",
       "    // starts-up an IPython Comm through the \"matplotlib\" channel.\n",
       "\n",
       "    var id = msg.content.data.id;\n",
       "    // Get hold of the div created by the display call when the Comm\n",
       "    // socket was opened in Python.\n",
       "    var element = $(\"#\" + id);\n",
       "    var ws_proxy = comm_websocket_adapter(comm)\n",
       "\n",
       "    function ondownload(figure, format) {\n",
       "        window.open(figure.imageObj.src);\n",
       "    }\n",
       "\n",
       "    var fig = new mpl.figure(id, ws_proxy,\n",
       "                           ondownload,\n",
       "                           element.get(0));\n",
       "\n",
       "    // Call onopen now - mpl needs it, as it is assuming we've passed it a real\n",
       "    // web socket which is closed, not our websocket->open comm proxy.\n",
       "    ws_proxy.onopen();\n",
       "\n",
       "    fig.parent_element = element.get(0);\n",
       "    fig.cell_info = mpl.find_output_cell(\"<div id='\" + id + \"'></div>\");\n",
       "    if (!fig.cell_info) {\n",
       "        console.error(\"Failed to find cell for figure\", id, fig);\n",
       "        return;\n",
       "    }\n",
       "\n",
       "    var output_index = fig.cell_info[2]\n",
       "    var cell = fig.cell_info[0];\n",
       "\n",
       "};\n",
       "\n",
       "mpl.figure.prototype.handle_close = function(fig, msg) {\n",
       "    var width = fig.canvas.width/mpl.ratio\n",
       "    fig.root.unbind('remove')\n",
       "\n",
       "    // Update the output cell to use the data from the current canvas.\n",
       "    fig.push_to_output();\n",
       "    var dataURL = fig.canvas.toDataURL();\n",
       "    // Re-enable the keyboard manager in IPython - without this line, in FF,\n",
       "    // the notebook keyboard shortcuts fail.\n",
       "    IPython.keyboard_manager.enable()\n",
       "    $(fig.parent_element).html('<img src=\"' + dataURL + '\" width=\"' + width + '\">');\n",
       "    fig.close_ws(fig, msg);\n",
       "}\n",
       "\n",
       "mpl.figure.prototype.close_ws = function(fig, msg){\n",
       "    fig.send_message('closing', msg);\n",
       "    // fig.ws.close()\n",
       "}\n",
       "\n",
       "mpl.figure.prototype.push_to_output = function(remove_interactive) {\n",
       "    // Turn the data on the canvas into data in the output cell.\n",
       "    var width = this.canvas.width/mpl.ratio\n",
       "    var dataURL = this.canvas.toDataURL();\n",
       "    this.cell_info[1]['text/html'] = '<img src=\"' + dataURL + '\" width=\"' + width + '\">';\n",
       "}\n",
       "\n",
       "mpl.figure.prototype.updated_canvas_event = function() {\n",
       "    // Tell IPython that the notebook contents must change.\n",
       "    IPython.notebook.set_dirty(true);\n",
       "    this.send_message(\"ack\", {});\n",
       "    var fig = this;\n",
       "    // Wait a second, then push the new image to the DOM so\n",
       "    // that it is saved nicely (might be nice to debounce this).\n",
       "    setTimeout(function () { fig.push_to_output() }, 1000);\n",
       "}\n",
       "\n",
       "mpl.figure.prototype._init_toolbar = function() {\n",
       "    var fig = this;\n",
       "\n",
       "    var nav_element = $('<div/>');\n",
       "    nav_element.attr('style', 'width: 100%');\n",
       "    this.root.append(nav_element);\n",
       "\n",
       "    // Define a callback function for later on.\n",
       "    function toolbar_event(event) {\n",
       "        return fig.toolbar_button_onclick(event['data']);\n",
       "    }\n",
       "    function toolbar_mouse_event(event) {\n",
       "        return fig.toolbar_button_onmouseover(event['data']);\n",
       "    }\n",
       "\n",
       "    for(var toolbar_ind in mpl.toolbar_items){\n",
       "        var name = mpl.toolbar_items[toolbar_ind][0];\n",
       "        var tooltip = mpl.toolbar_items[toolbar_ind][1];\n",
       "        var image = mpl.toolbar_items[toolbar_ind][2];\n",
       "        var method_name = mpl.toolbar_items[toolbar_ind][3];\n",
       "\n",
       "        if (!name) { continue; };\n",
       "\n",
       "        var button = $('<button class=\"btn btn-default\" href=\"#\" title=\"' + name + '\"><i class=\"fa ' + image + ' fa-lg\"></i></button>');\n",
       "        button.click(method_name, toolbar_event);\n",
       "        button.mouseover(tooltip, toolbar_mouse_event);\n",
       "        nav_element.append(button);\n",
       "    }\n",
       "\n",
       "    // Add the status bar.\n",
       "    var status_bar = $('<span class=\"mpl-message\" style=\"text-align:right; float: right;\"/>');\n",
       "    nav_element.append(status_bar);\n",
       "    this.message = status_bar[0];\n",
       "\n",
       "    // Add the close button to the window.\n",
       "    var buttongrp = $('<div class=\"btn-group inline pull-right\"></div>');\n",
       "    var button = $('<button class=\"btn btn-mini btn-primary\" href=\"#\" title=\"Stop Interaction\"><i class=\"fa fa-power-off icon-remove icon-large\"></i></button>');\n",
       "    button.click(function (evt) { fig.handle_close(fig, {}); } );\n",
       "    button.mouseover('Stop Interaction', toolbar_mouse_event);\n",
       "    buttongrp.append(button);\n",
       "    var titlebar = this.root.find($('.ui-dialog-titlebar'));\n",
       "    titlebar.prepend(buttongrp);\n",
       "}\n",
       "\n",
       "mpl.figure.prototype._root_extra_style = function(el){\n",
       "    var fig = this\n",
       "    el.on(\"remove\", function(){\n",
       "\tfig.close_ws(fig, {});\n",
       "    });\n",
       "}\n",
       "\n",
       "mpl.figure.prototype._canvas_extra_style = function(el){\n",
       "    // this is important to make the div 'focusable\n",
       "    el.attr('tabindex', 0)\n",
       "    // reach out to IPython and tell the keyboard manager to turn it's self\n",
       "    // off when our div gets focus\n",
       "\n",
       "    // location in version 3\n",
       "    if (IPython.notebook.keyboard_manager) {\n",
       "        IPython.notebook.keyboard_manager.register_events(el);\n",
       "    }\n",
       "    else {\n",
       "        // location in version 2\n",
       "        IPython.keyboard_manager.register_events(el);\n",
       "    }\n",
       "\n",
       "}\n",
       "\n",
       "mpl.figure.prototype._key_event_extra = function(event, name) {\n",
       "    var manager = IPython.notebook.keyboard_manager;\n",
       "    if (!manager)\n",
       "        manager = IPython.keyboard_manager;\n",
       "\n",
       "    // Check for shift+enter\n",
       "    if (event.shiftKey && event.which == 13) {\n",
       "        this.canvas_div.blur();\n",
       "        // select the cell after this one\n",
       "        var index = IPython.notebook.find_cell_index(this.cell_info[0]);\n",
       "        IPython.notebook.select(index + 1);\n",
       "    }\n",
       "}\n",
       "\n",
       "mpl.figure.prototype.handle_save = function(fig, msg) {\n",
       "    fig.ondownload(fig, null);\n",
       "}\n",
       "\n",
       "\n",
       "mpl.find_output_cell = function(html_output) {\n",
       "    // Return the cell and output element which can be found *uniquely* in the notebook.\n",
       "    // Note - this is a bit hacky, but it is done because the \"notebook_saving.Notebook\"\n",
       "    // IPython event is triggered only after the cells have been serialised, which for\n",
       "    // our purposes (turning an active figure into a static one), is too late.\n",
       "    var cells = IPython.notebook.get_cells();\n",
       "    var ncells = cells.length;\n",
       "    for (var i=0; i<ncells; i++) {\n",
       "        var cell = cells[i];\n",
       "        if (cell.cell_type === 'code'){\n",
       "            for (var j=0; j<cell.output_area.outputs.length; j++) {\n",
       "                var data = cell.output_area.outputs[j];\n",
       "                if (data.data) {\n",
       "                    // IPython >= 3 moved mimebundle to data attribute of output\n",
       "                    data = data.data;\n",
       "                }\n",
       "                if (data['text/html'] == html_output) {\n",
       "                    return [cell, data, j];\n",
       "                }\n",
       "            }\n",
       "        }\n",
       "    }\n",
       "}\n",
       "\n",
       "// Register the function which deals with the matplotlib target/channel.\n",
       "// The kernel may be null if the page has been refreshed.\n",
       "if (IPython.notebook.kernel != null) {\n",
       "    IPython.notebook.kernel.comm_manager.register_target('matplotlib', mpl.mpl_figure_comm);\n",
       "}\n"
      ],
      "text/plain": [
       "<IPython.core.display.Javascript object>"
      ]
     },
     "metadata": {},
     "output_type": "display_data"
    },
    {
     "data": {
      "text/html": [
       "<img src=\"data:image/png;base64,iVBORw0KGgoAAAANSUhEUgAAA+gAAAH0CAYAAACuKActAAAgAElEQVR4nOzde1xUdf4/8KPDzAh4KcwLIhdzuUyiJPY1uyhlbprZ2qMbdlG6WGIPA/y5q7i1kfsVFusbtbuiu/Jl3R4paoK2tVmJLZevkLfEZBtS8S5giiVeEHDg9ftjdiYOc+YGfBw4vJ6Px+eRc/icM5+B3c+8X3POfI4EIiIiIiIiIvI4ydMDICIiIiIiIiIGdCIiIiIiIqIugQGdiIiIiIiIqAtgQCciIiIiIiLqAhjQiYiIiIiIiLoABnQiIiIiIiKiLoABnYiIiIiIiKgLYEAnIiIiIiIi6gIY0ImIiIiIiIi6AAZ0IiIiIiIioi6AAZ2IiIiIiIioC2BAJyIiIiIiIuoCVB3QL126hDvuuANRUVGIjIzEmjVrPD0kIiIiIiIiIkWqDugmkwlXr14FAFy9ehUjRoxAbW2t0/2am5tx+vRpXLx4EXV1dWxsbGxsKmsXL17E6dOn0dzc3OnvPZmZmQgJCYFer0d0dDSKi4sd9i8sLER0dDT0ej1GjBiB1atX2/TJzc2FwWCATqeDwWDAli1bZD8PDg6GJEk27dVXXwUANDU1YfHixYiMjISPjw/8/f0xe/ZsVFVVyY4TExNjc4zY2Fi3Xv/169exZ88enDx5EqdPn2ZjY2NjU1k7efIk9uzZg+vXr7v1/kCuUXVAb+3ChQsICgrC+fPnnfY9ffq0YqHDxsbGxqaudvr06U59r9m4cSO0Wi2ysrJgNBqRmJgIX19fnDx5UrH/sWPH4OPjg8TERBiNRmRlZUGr1SI3N9fap7S0FBqNBmlpaaioqEBaWhq8vLywa9cua59z586hpqbG2vLz8yFJEgoKCgAAFy9exJQpU7Bp0yZ8//33+Prrr3HnnXdi3LhxsvHExMTg5Zdflh3r4sWLbv0O9uzZ4/G/KxsbGxub+LZnzx633h/INQ4DelpaGiRJQmJiomx7SkqKzR9oyJAhnTqwoqIizJgxA/7+/pAkCVu3blXs5+xMxU8//YQxY8bA29sbK1eudOm5L168CEkyF26ePsvDxsbGxtb5zfJBrLvh05nx48cjPj5eti0iIgLJycmK/RcvXoyIiAjZtnnz5mHChAnWx0899RSmTZsm6zN16lTMmjXL7jgSExMxcuRItLS02O1jCdKtPzyIiYmxec9318mTJ62Fm6fP8rCxsbGxdX5Tev+gzmM3oO/ZswchISEYM2aMYkAfNWqU7BP2c+fO2X2SnTt3oqmpyWZ7RUUFampqFPfZtm0bXn/9deTl5dkN6O6cqTh79izuvvtunD171u44Lerq6iBJEurq6pz2JSKi7kfEPN/Y2AiNRmNz+XlCQgImTZqkuM/EiRORkJAg27ZlyxZ4eXlZ3zcDAwORkZEh65ORkYGgoCC74xg4cCBSU1Mdjjc/Px+9evWS/Q5iYmJwyy23YODAgbjtttuwaNEiXLp0yeFxGhoaZB9+GI1G64fcRESkPqdPn+Y8L5BiQL98+TJCQ0ORn5+v+Gl6SkoKoqKiXHqC5uZmREVF4YknnoDJZLJuP3ToEIYOHYoVK1Y4H6SdgO7umYr4+Hh89NFHTp+PAZ2ISN1EzPNVVVWQJAklJSWy7ampqQgLC1PcJzQ01CZIl5SUQJIkVFdXAwC0Wi3Wr18v67N+/XrodDrFY27atAkajcbm++WtXbt2DePGjcOzzz4r275mzRrk5+ejvLwcGzZsQEhICKZMmWL3OIDyVXUs3IiI1IsBXSzFgD5nzhwkJSUBUL7cLSUlxbrITEhICGJjY3H06FG7T1JVVYWRI0fimWeeQXNzMyorKxEQEIBXXnnFtUEqBHRXzlScPXvWWnzV1dXhtttuw7fffmv3eVauXAmDwYCwsDAGdCIiFRMZ0EtLS2Xbly9fjvDwcMV9QkNDkZaWJtu2c+dOSJJkvcJMq9UiJydH1mfdunXQ6/WKx3zwwQcxY8YMu+NsamrCzJkzMXbsWKevf9++fZAkCd98843dPjyDTkTUszCgi2UT0Dds2IDIyEhcu3YNgHJA37ZtG3Jzc3Hw4EHrWfYhQ4Y4XCH95MmTCA4ORmxsLIKCgjBnzhyH342TDVIhoLtypmLfvn2IiorCmDFjMHr0aKxatcql5+MZdCIidVPrJe4nTpxA79698fHHHys+X1NTEx599FGMGTPGpbuatLS0QKvVYuPGjU77WrBwIyJSN87zYskC+qlTpzB48GAcOHDAus2VBWOuXLmCIUOG4N1333XYr6ioCJIk4dZbb3VrWX5HAd2dMxWuYkAn6plMJhOuXbvGpoLW+itVSkTN8+PHj8f8+fNl2wwGg8NF4gwGg2xbfHy8zSJxDz30kKzPtGnTFBeJS0lJwdChQxXfYy3hfNSoUQ7XjWmtvLwckiShqKjIpf4ACzci6t5YCzh/D+U8L5YsoG/duhWSJEGj0VibJEno1asXNBqNwz/WlClTbL4P3trZs2cRHh6ORx55BEOHDsWCBQtcH2Q7L3FvLwZ0op6lpaUF1dXVMBqNbCpq1dXVdq/UEjXPWxYvzc7OhtFoRFJSEnx9fXHixAkAQHJyMmbPnm3tb7nN2sKFC2E0GpGdnW1zm7WSkhJoNBqkp6ejoqIC6enpNrdZA8xrvgQFBWHJkiU247p+/Tp+9atfYfjw4Thw4IBskdfGxkYAQGVlJZYtW4a9e/fi+PHj+OyzzxAREYGxY8c6LdZaY+FGRN0RawHX30M5z4slC+iXLl1CeXm5rN1xxx147rnnUF5ebvcgDQ0NCAgIwLJlyxR/fv78eYwaNQqPPvoorl+/DqPRiMGDB2PRokWuDdLBInHunKlwFQM6Uc9ieUOura1FfX29xz+5ZutYq6+vR21trbXAUCJyns/MzERwcDB0Oh2io6NlZ5/j4uIQExMj619YWIixY8dCp9MhJCQEq1evtjnm5s2bER4eDq1Wi4iICOTl5dn0+fLLLyFJEg4dOmTzs+PHj9u9j63lXumnTp3CpEmT4OfnB51Oh5EjRyIhIQEXLlxw6/WzcCOi7oi1gOvvoZznxZImT57ssIPSJe6LFi1CYWEhjh07hl27dmHGjBno16+f9QxBa83NzRg3bhymT59u/ZQeAA4ePIiBAwfafK/O4vLlyygrK0NZWRkkSUJGRgbKyspkt1BzdqaivRjQiXoOk8lkfUMmdbEUGEpnfznPi8PCjYi6G9YCthy9h3KeF0sKDg522EEpoMfGxsLf3x9arRbDhg3DY489hu+++87uMbZv345r167ZbC8rK8OpU6cU9ykoKFD8pD8uLk7Wz9GZivZi4UbUc1y7dg1GoxH19fWeHgp1svr6ehiNRsX3H87z4rBwI6LuhrWALUfvoZznxVK8zVpPx8KNqOewvCkrvQFR9+bob8t5XhwWbkTU3bAWsOXod8J5XiwGdAUs3Ih6Dr4py7ly547uggHdM1i4EVF3o+ZaoKamBlOmTIGPjw8GDBhgd1tbDOiew4CugIUbUc/RXd+U7S34Ze/rQK66cOECLl261LmD9RAGdM9g4UZE3U13rQUA8+KjSnXA1KlTAZhv5zlq1CgcPnwYP/zwg91tbTGgew4DugIWbkQ9R2e+KZuaW1BaWYuPy86gtLIWpmbl25N0hta3yXr//ffRv39/2baLFy/K+jc1NQkbS1fFgO4ZLNyIqLvp1FrABBQUADk55v+6cZfKdomLi8O0adNkNUBNTQ1+/PFHAMDjjz+OOXPmyPZR2tYWA7rnMKArYOFG1HN01pvy5+XVmJC2A8FL/mltE9J24PNy5VuUdKa1a9fKLlGz3FJr06ZNiImJgV6vx9/+9jfU1tZi1qxZCAgIgLe3NyIjI5GTkyM7VttL3IODg5GamooXXngBffv2RWBgIP76178Kf02dgQHdM1i4EVF301m1QF4eMHw4IEk/t+HDzdtFiYuLw8yZMxV/FhwcbHN1ndI2JQzonsOAroCFG1HP0Rlvyp+XVyOkVTC3tJD/NNEh3V5ADwkJQV5eHo4dO4aqqiqcOXMG77zzDsrKynD06FH86U9/gkajwa5du6z7KgV0Pz8/ZGZm4siRI/jDH/6A3r17o6KiQuhr6gwM6J7Bwo2IupvOqAXy8oBeveThXJLM23r1EhfSHQX0c+fOYdq0aXjqqaesV9cpbVPCgO45DOgKWLgR9RxKb0AtLS242njdpXbpWhPGp+bbhPPWIf3O1B24dK3J6bFaWtp3Sby9gP7+++873Xf69OlYtGiR9bFSQH/uuedkv5vBgwdj9erV7RrrjcSA7hks3Iiou1GuBYArV1xrdXVAQIBtOG8d0ocPN/dz5XjulANxcXHQaDTw9fWVtd///vcAgJkzZ9qcJVfa5srvxILzvFgM6ApYuBH1HEpvQFcbr9sN3CLb1cbr7XoN9gL6zp07Zf1MJhOWL1+O0aNHw8/PD76+vvDy8sKTTz5p7aMU0N9++23ZccaMGYNly5a1a6w3EgO6Z7BwI6LuRun94soV+4FbdLtyxfWxx8XFYcqUKThy5IisXbhwAQADenfEgK6AhRtRz6HmgF5WVibrt2LFCgwcOBAffvghDhw4gCNHjuDhhx+WXRqnFNDfe+892XGioqKQkpLSrrHeSAzonsHCjYi6m+4e0O1d4g4woHdHDOgKWLgR9RwdvcS94PsfXArfBd//cMMvcW8b0GfMmIEXX3zR+ri5uRlhYWEM6NSpWLgRUXfT0Uvct21zLXhv2ybmEncGdHVhQFfAwo2o5+jowjCm5hZMSNuhuEic5TvoE9J2CL3lmqsBPSkpCYGBgSgpKYHRaMTcuXPRv39/BnTqVCzciKi76XAtYDJ/x1xpkTjLd9ADA8Xccs3ebdbOnz8PgAG9O2JAV8DCjajn6MxV3NuGdE+v4t42oF+4cAEzZ85E3759MXjwYLzxxhuYM2cOAzp1KhZuRNTddOYq7m1D+o1Yxb31bdMsLTw8HAADenfEgK6AhRtRz6GG+6CTMgZ0z2DhRkTdjcj7oAcGir0PuigM6J7DgK6AhRtRz9FZb8qA+XL30spafFx2BqWVtUIvayfnGNA9g4UbEXU3nVoLmICCAiAnx/xfEZe13wgM6J7DgK6AhRtRz9GZb8rUtTCgewYLNyLqblgL2GJA9xwGdAUs3Ih6Dr4pqxcDumewcCOi7oa1gC0GdM9hQFfAwo2o5+CbsnoxoHsGCzci6m5YC9hiQPccBnQFLNyIeg6+KasXA7pnsHAjou6GtYAtBnTPYUBXwMKNqOfgm7J6MaB7Bgs3IupuLO8X9fX1nh5Kl1FfX8+A7iEM6ApYuBH1HAzo6sWA7hks3IiouzGZTDAajaitrfX0ULqM2tpaGI1GmBSWoec8LxYDugIWbkQ9BwO6ejGgewYLNyLqjqqrq60hvb6+HteuXeuRrb6+3hrOq6urFX9XnOfFYkBXwMKNqOdgQFcvBnTPYOFGRN1RS0uLNaSzmcN5S0uL4u+K87xYDOgKWLgR9Rw9OaDHxMQgMTHR+jg4OBjvvfeew30kScLWrVs7/NyddRxHGNA9g4UbEXVnJpPJ42exPd2ULmtvjfO8WAzoCli4EfUc3TWgz5gxAw888IDiz0pLSyFJEr755huHx2gb0M+dO4erV6863MfdYJ2SkoKoqCib7TU1NWhoaHD5OO3BgO4ZLNyIiNSN87xYDOgKWLgR9RydGtCbTcCxYuDgZvN/mx1/At0RW7duRa9evXDixAmbn82dOxe3336702O0Deiu6KyAfiMwoHsGCzciInXjPC8WA7oCFm5EPUenBfTv/gG8GwGk9P+5vRth3i7A9evXMWTIELz11luy7VevXkW/fv3w1ltvYdasWQgICIC3tzciIyORk5Mj6+vsEvfDhw9j4sSJ0Ov1MBgM2L59u01AX7x4MUJDQ+Ht7Y0RI0bgjTfeQFNTEwBg7dq1kCRJ1tauXQvANugfPHgQ999/P/r06QM/Pz+8/PLLuHz5svXncXFxmDlzJt555x0MHToUfn5+ePXVV63PpYQB3TNYuBERqRvnebEY0BWwcCPqOToloH/3DyBlgDycp/T/z7YBwkL6b37zG4SEhMgWcfn73/8OvV6PM2fO4J133kFZWRmOHj2KP/3pT9BoNNi1a5e1r6OA3tzcjMjISNx3330oKytDUVERxo4daxOs//u//xslJSU4fvw4PvnkEwwZMgQrVqwAYL6H6qJFizBq1CjU1NSgpqbGeo/Z1se5evUqhg0bhsceewzl5eX46quvMGLECMTFxVmfJy4uDv3790d8fDwqKirw6aefwsfHB2vWrLH7+2FA9wwWbkRE6sZ5XiwGdAUs3Ih6DsUQ19ICNF5xrV2rA/4nXCGctwrp70aY+zk7lp3VUu2pqKiAJEn417/+Zd02adIkPP3004r9p0+fjkWLFlkfOwroX375JTQajezN9/PPP3d6ifvbb7+NcePGWR/bu8S99XHWrFmDm2++GVeuXLH+/LPPPkPv3r1x9uxZAOaAHhwcLFu45sknn0RsbKzdsTCgewYLNyIidXN3ni8qKsKMGTPg7+/v8lflCgsLER0dDb1ejxEjRmD16tWyn69Zswb33nsvbrrpJtx000144IEHsHv3blmflJQUmyv5hgwZ4voL9RAGdAUs3Ih6DsUQ13jFQeAW2Bqv2B+oHXfffTeee+45AEBlZSV69eqF/Px8mEwmLF++HKNHj4afnx98fX3h5eWFJ5980rqvo4D+/vvvY8SIEbLnunjxos0b6+bNm3HPPfdgyJAh8PX1hV6vx6BBg6w/dyWgL1y4EPfdd5/icxUVFQEwB/Tp06fL+iQkJOD++++3+7thQPcMBnQiInVzd57ftm0bXn/9deTl5bkU0I8dOwYfHx8kJibCaDQiKysLWq0Wubm51j7PPPMMMjMzUVZWhoqKCrzwwgsYMGAAzpw5Y+2TkpIiu4qvpqYG586da9+LvoEY0BWwcCPqObp7QM/Ozoa3tzfq6urw+uuvWy95X7FiBQYOHIgPP/wQBw4cwJEjR/Dwww9j5syZ1n0dBfT33nvPJqBb5kbLG+vXX38NjUaD5cuXY+/evTh8+DB+//vfY8CAAdZ9XAnoSUlJNkHbEtCLi4sB/Pwd9NYSExMRExNj93fDgO4ZDOhEROrWkXnelYC+ePFiREREyLbNmzcPEyZMsLuPyWRCv3798MEHH1i3eXKh2o5gQFfAwo2o5+jwJe6Ht7sWvg9v7/RL3AHg8uXL6Nu3L1avXo3hw4dj2bJlAMy3YXvxxRet/ZqbmxEWFuZyQLdc4l5VVWX9+RdffCF7Y/2f//kf3HrrrbLxvPTSS7KAnpqaisjISJtxt+cSdwb07oEBnYhI3UQH9IkTJyIhIUG2bcuWLfDy8rK7OOylS5fQp08ffPrpp9ZtKSkp8PHxgb+/P0JCQhAbG4ujR4+6PeYbjQFdAQs3op6jw4vENZv+s3q70iJxlu+gG4Tecu2ll17CzTffjN69e+PkyZMAzGelAwMDUVJSAqPRiLlz56J///4uB/Tm5mbcdttteOCBB3DgwAEUFxdj3LhxsjfWjz/+GF5eXtiwYQMqKyvxxz/+EX5+frKAvn79evj6+qKsrAznz5+33vu87SJx/v7+ePzxx1FeXo5//etfuPXWW20WiWNA7x4Y0ImI1M0yzxuNRtTV1Vmb5T3eEVcCemhoKFJTU2XbSkpKIEkSqqurFfd59dVXMXLkSNl7/rZt25Cbm4uDBw8iPz8fMTExGDJkCGpra114lZ7DgK6AhRtRz9G5q7i3DeliV3G3KC0thSRJePDBB63bLly4gJkzZ6Jv374YPHgw3njjDcyZM8flgA4Ahw4dwr333gudToewsDCbM+iAeSX5gQMHom/fvoiNjcV7770nC+gNDQ14/PHHcdNNN3XKbdZaY0DvmhjQiYjUzTLPt20pKSlO93U1oKelpcm27dy5E5Ikoaamxqb/ihUrcPPNN+Pbb791eNwrV65gyJAhePfdd52O05MY0BWwcCPqOcTeB90gPJyTfQzonsGATkSkbqLPoLtzifs777yDAQMGYO/evS6NfcqUKYiPj3epr6cwoCtg4UbUc3RaQAfMl7EfKwYObjb/V+Bl7eQcA7pnMKATEanbjVgkzmAwyLbFx8fbLBL39ttvo3///vj6669deu6GhgYEBARY1+vpqhjQFbBwI+o5OjWgU5fCgO4ZDOhEROrm7jx/+fJllJWVoaysDJIkISMjA2VlZdZ1c5KTkzF79mxrf8tt1hYuXAij0Yjs7Gyb26ytWLECOp0Oubm5stuotf563KJFi1BYWIhjx45h165dmDFjBvr164cTJ0500m9CDAZ0BSzciHoOBnT1YkD3DAZ0IiJ1c3eeLygoUPzOumUx2Li4OJs1ZQoLCzF27FjodDqEhIRg9erVsp8HBwc7/R58bGws/P39odVqMWzYMDz22GP47rvvOvLSbwgGdAUs3Ih6DgZ09WJA9wwGdCIideM8LxYDugIWbkQ9BwO6ejGgewYLNyIideM8LxYDugIWbkQ9hyXE1dfXe3oo1Mnq6+sZ0D2AhRsRkbpxnheLAV0BCzeinsNkMsFoNKK2ttbTQ6FOVltbC6PRCJPJdjV9zvPisHAjIlI3zvNiMaArYOFG1LNUV1dbQ3p9fT2uXbvG1o1bfX29NZxXV1cr/s1FzvOZmZkICQmBXq9HdHQ0iouLHfYvLCxEdHQ09Ho9RowYYbMQDgDk5ubCYDBAp9PBYDBgy5Ytsp/bWyzn1VdftfZpaWlBSkoK/P390adPH8TExODf//637DgNDQ1YsGABBg4cCB8fHzzyyCNuF2As3IiI1I3zvFgM6AoY0Il6lpaWFmtIZ1NPq66uRktLi+LfXNQ8v3HjRmi1WmRlZcFoNCIxMRG+vr7WW8m0ZbmVTGJiIoxGI7KysmxuJVNaWgqNRoO0tDRUVFQgLS0NXl5e2LVrl7XPuXPnZLeZyc/PhyRJKCgosPZJT09Hv379kJeXh/LycuvqtpcuXbL2iY+PR0BAAPLz87F//37cf//9iIqKUrwKwR4WbkRE6sZ5XiwGdAUM6EQ9k8lk8vjZX7bOac4Cpah5fvz48YiPj5dti4iIQHJysmL/xYsXIyIiQrZt3rx5mDBhgvXxU089hWnTpsn6TJ06FbNmzbI7jsTERIwcOdL6AUVLSwuGDh2K9PR0a5+GhgYMGDAAf/nLXwAAFy9ehFarxcaNG619qqqq0Lt3b3zxxReOXrYMCzciInXjPC8WA7oCBnQiInUTMc83NjZCo9HYXH6ekJCASZMmKe4zceJEJCQkyLZt2bIFXl5eaGpqAgAEBgYiIyND1icjIwNBQUF2xzFw4ECkpqZatx09ehSSJGH//v2yvr/61a8wZ84cAMBXX30FSZLw448/yvqMGTMGb775pr2XjYaGBtTV1Vmb0Whk4UZEpGIM6GIxoCtgQCciUjcR83xVVRUkSUJJSYlse2pqKsLCwhT3CQ0NlQVpACgpKYEkSdbvz2u1Wqxfv17WZ/369dDpdIrH3LRpEzQaDaqqqmyO2XobALz88st48MEHHR7zl7/8JV555RXF5wKAlJQUxe+/s3AjIlInBnSxGNAVMKATEambyIBeWloq2758+XKEh4cr7hMaGoq0tDTZtp07d0KSJNTU1AAwB/ScnBxZn3Xr1kGv1yse88EHH8SMGTNk29qGfou5c+di6tSpAOwH9ClTpmDevHmKzwXwDDoRUU/DgC4WA7oCBnQiInVT6yXuJ06cQO/evfHxxx/Ltou8xL0tFm5EROrGeV4sBnQFDOhEROomcpG4+fPny7YZDAaHi8QZDAbZtvj4eJtF4h566CFZn2nTpikuEpeSkoKhQ4fi+vXrsu2WReJWrFhh3dbY2Ki4SNymTZusfaqrq7lIHBERyXCeF4sBXQEDOhGRuom+zVp2djaMRiOSkpLg6+uLEydOAACSk5Mxe/Zsa3/LbdYWLlwIo9GI7Oxsm9uslZSUQKPRID09HRUVFUhPT7e5zRoANDc3IygoCEuWLFEcW3p6OgYMGIAtW7agvLwcTz/9tOJt1oYPH44dO3Zg//79mDx5Mm+zRkREMpznxWJAV8CATkSkbiLn+czMTAQHB0On0yE6OhpFRUXWn8XFxSEmJkbWv7CwEGPHjoVOp0NISAhWr15tc8zNmzcjPDwcWq0WERERyMvLs+nz5ZdfQpIkHDp0SHFcLS0t1jPser0ekyZNQnl5uazPtWvXsGDBAvj5+cHb2xszZszAqVOn3Hr9LNyIiNSN87xYDOgKGNCJiNSN87w4LNyIiNSN87xYDOgKWLgREakb53lxWLgREakb53mxGNAVsHAjIlI3zvPisHAjIlI3zvNiMaArYOFGRKRunOfFYeFGRKRunOfFYkBXwMKNiEjdOM+Lw8KNiEjdOM+LxYCugIUbEZG6cZ4Xh4UbEZG6cZ4XiwFdAQs3IiJ14zwvDgs3IiJ14zwvFgO6AhZuRETqxnleHBZuRETqxnleLAZ0BSzciIjUjfO8OCzciIjUjfO8WKoO6JcuXcIdd9yBqKgoREZGYs2aNS7tx8KNiEjdOM+Lw8KNiEjdOM+LpeqAbjKZcPXqVQDA1atXMWLECNTW1jrdj4UbEZG6cZ4Xh4UbEZG6cZ4XS9UBvbULFy4gKCgI58+fd9qXhRsRkbpxnheHhRsRkbpxnhdLKioqwowZM+Dv7w9JkrB161a3DpCWlgZJkpCYmNjpg3NlbJmZmQgJCYFer0d0dDSKi4tlP//pp58wZswYeHt7Y+XKlS49Lws3IiJ14zwvDgs3IiJ14zwvlrRt2za8/vrryMvLczug79mzByEhIRgzZozDgL5z5040NTXZbK+oqEBNTY3d/ZyNbePGjdBqtcjKyoLRaERiYiJ8fX1x8uRJm2OdPXsWd999N86ePev0dbFwIyJSN87z4rBwIyJSN87zYskucXcnoF++fBmhoeL5lssAACAASURBVKHIz89HTEyM3YDe3NyMqKgoPPHEEzCZTNbthw4dwtChQ7FixQrXBqowtvHjxyM+Pl62LSIiAsnJyYrHiI+Px0cffeT0uVi4ERGpG+d5cVi4ERGpG+d5sdod0OfMmYOkpCQAcBjQAaCqqgojR47EM888g+bmZlRWViIgIACvvPKK6wNtM7bGxkZoNBps2bJF1i8hIQGTJk0CYD5rbim+6urqcNttt+Hbb7+1+xwrV66EwWBAWFgYCzciIhVjQBeHhRsRkbpxnherXQF9w4YNiIyMxLVr1wA4D+gAcPLkSQQHByM2NhZBQUGYM2cOWlpaXB9om7FVVVVBkiSUlJTI+qWmpiIsLAwAsG/fPkRFRWHMmDEYPXo0Vq1a5dJzsXAjIlI3zvPisHAjIlI3zvNiuR3QT506hcGDB+PAgQPWba4EdMC86JskSbj11ltx/fp19wZqJ6CXlpbK+i1fvhzh4eFuHbstFm5EROrGeV4cFm5EROrGeV4stwP61q1bIUkSNBqNtUmShF69ekGj0ci+Z97a2bNnER4ejkceeQRDhw7FggUL3BtoOy5xby8WbkRE6sZ5XhwWbkRE6sZ5Xiy3A/qlS5dQXl4ua3fccQeee+45lJeXK+5z/vx5jBo1Co8++iiuX78Oo9GIwYMHY9GiRa4P1M4icfPnz5dtMxgMdheJcxULNyIideM8Lw4LNyIideM8L5Z0+fJllJWVoaysDJIkISMjA2VlZdZblf35z3/G5MmTHR7E2Sru48aNw/Tp09HY2GjdfvDgQQwcOBAZGRl2j+tsbJbbrGVnZ8NoNCIpKQm+vr44ceKEu78HGRZuRETqxnleHBZuRETqxnleLKmgoACSJNm0uLg4AEBKSgqCg4MdHsTZd9C3b99uXVCutbKyMpw6dcrufs7GBgCZmZkIDg6GTqdDdHQ0ioqKHI7VFSzciIjUjfO8OCzciIjUjfO8WJLzLj0PCzciInXjPC8OCzciInXjPC8WA7oCFm5EROrGeV4cFm5EROrGeV4sBnQFLNyIiNSN87w4LNyIiNSN87xYDOgKWLgREakb53lxWLgREakb53mxGNAVsHAjIlI3zvPisHAjIlI3zvNiMaArYOFGRKRunOfFYeFGRKRunOfFYkBXwMKNiEjdOM+Lw8KNiEjdOM+LxYCugIUbEZG6cZ4Xh4UbEZG6cZ4XiwFdAQs3IiJ14zwvDgs3IiJ14zwvFgO6AhZuRETqxnleHBZuRETq5u48X1RUhBkzZsDf3x+SJGHr1q1O9yksLER0dDT0ej1GjBiB1atX2/TJzc2FwWCATqeDwWDAli1bbPpkZmYiJCQEer0e0dHRKC4udmnMnsSAroCFGxGRunGeF4cBnYhI3dyd57dt24bXX38deXl5LgX0Y8eOwcfHB4mJiTAajcjKyoJWq0Vubq61T2lpKTQaDdLS0lBRUYG0tDR4eXlh165d1j4bN26EVqtFVlYWjEYjEhMT4evri5MnT7bvhd8gDOgKWLgREakb53lxGNCJiNStI/O8KwF98eLFiIiIkG2bN28eJkyYYH381FNPYdq0abI+U6dOxaxZs6yPx48fj/j4eFmfiIgIJCcnuz3uG4kBXQELNyIideM8Lw4DOhGRulnmeaPRiLq6OmtraGhwuq8rAX3ixIlISEiQbduyZQu8vLzQ1NQEAAgMDERGRoasT0ZGBoKCggAAjY2N0Gg0Npe9JyQkYNKkSU7H6UkM6ApYuBERqRvneXEY0ImI1M0yz7dtKSkpTvd1JaCHhoYiNTVVtq2kpASSJKG6uhoAoNVqsX79elmf9evXQ6fTAQCqqqogSRJKSkpkfVJTUxEWFuZ0nJ7EgK6AhRsRkbpxnheHAZ2ISN1En0EPDQ1FWlqabNvOnTshSRJqamoAmAN6Tk6OrM+6deug1+sB/BzQS0tLZX2WL1+O8PBwp+P0JAZ0BSzciIjUjfO8OAzoRETqJvo76LzEnWywcCMiUjfO8+IwoBMRqduNWCTOYDDItsXHx9ssEvfQQw/J+kybNs1mkbj58+fL+hgMBi4S1x2xcCMiUjfO8+IwoBMRqZu78/zly5dRVlaGsrIySJKEjIwMlJWVWW93lpycjNmzZ1v7W26ztnDhQhiNRmRnZ9vcZq2kpAQajQbp6emoqKhAenq63dusZWdnw2g0IikpCb6+vjhx4kQn/SbEYEBXwMKNiEjdOM+Lw4BORKRu7s7zBQUFiovKxcXFAQDi4uIQExMj26ewsBBjx46FTqdDSEgIVq9ebXPczZs3Izw8HFqtFhEREcjLy7Ppk5mZieDgYOh0OkRHR6OoqMjt13ujMaArYOFGRKRunOfFYUAnIlI3zvNiMaArYOFGRKRunOfFYeFGRKRunOfFYkBXwMKNiEjdRM7zmZmZCAkJgV6vR3R0NIqLix32LywsRHR0NPR6PUaMGKF4GV9ubi4MBgN0Oh0MBoPNqrQAcObMGTz77LPw8/ODt7c3oqKisG/fPuvPlS4vlCQJb7/9trVPTEyMzc9jY2Pdev0s3IiI1I3zvFgM6AoY0ImI1E3UPG9ZkCYrKwtGoxGJiYnw9fW1LoTTlmUhnMTERBiNRmRlZdkshFNaWgqNRoO0tDRUVFQgLS3NZiGcH3/8EcHBwXj++eexe/duHD9+HDt27EBlZaW1T01Njaz97W9/Q69evXD06FFrn5iYGLz88suyfhcvXnTrd8DCjYhI3TjPi8WAroABnYhI3UTN8+PHj0d8fLxsW0REhN1buixevBgRERGybfPmzbO5lcy0adNkfaZOnSq7lcySJUtw7733ujXWmTNnYvLkybJtMTExSExMdOs4bbFwIyJSN87zYjGgK2BAJyJSNxHzfGNjIzQajc3l5wkJCZg0aZLiPhMnTkRCQoJs25YtW+Dl5YWmpiYAQGBgIDIyMmR9MjIyEBQUZH1sMBiQlJSEJ554AoMGDcLtt9+ONWvW2B3r2bNn4eXlhfXr18u2x8TE4JZbbsHAgQNx2223YdGiRbh06ZLD193Q0IC6ujprMxqNLNyIiFSMAV0sBnQFDOhEROomYp6vqqqCJEkoKSmRbU9NTUVYWJjiPqGhoUhNTZVtKykpgSRJqK6uBgBotVqbIL1+/XrodDrrY71eD71ej6VLl2L//v34y1/+gj59+uCDDz5QfN4VK1bg5ptvxrVr12Tb16xZg/z8fJSXl2PDhg0ICQnBlClTHL7ulJQUxe+2s3AjIlInBnSxGNAVMKATEambyIBeWloq2758+XKEh4cr7hMaGoq0tDTZtp07d0KSJNTU1AAwB/ScnBxZn3Xr1kGv11sfa7Va3HXXXbI+r732muxS+dbCw8OxYMECp69p3759kCQJ33zzjd0+PINORNSzMKCLxYCugAGdiEjd1HaJe1BQEF566SVZn1WrVmHYsGE2z1lcXAxJknDgwAGnr6mlpQVarRYbN2502teChRsRkbpxnheLAV0BAzoRkbqJXCRu/vz5sm0Gg8HhInEGg0G2LT4+3maRuIceekjWZ9q0abJF4p5++mmbReKSkpJszqoDQFxcHMaNG+fS6ykvL4ckSSgqKnKpP8DCjYhI7TjPi8WAroABnYhI3UTfZi07OxtGoxFJSUnw9fXFiRMnAADJycmYPXu2tb/lNmsLFy6E0WhEdna2zW3WSkpKoNFokJ6ejoqKCqSnp9vcZm3Pnj3w8vJCamoqjhw5gvXr18PHxwfr1q2zed0+Pj6K91qvrKzEsmXLsHfvXhw/fhyfffYZIiIiMHbsWJhMJpd/ByzciIjUjfO8WAzoChjQiYjUTeQ8n5mZieDgYOh0OkRHR8vOPsfFxSEmJkbWv7CwEGPHjoVOp0NISIhieN68eTPCw8Oh1WoRERGBvLw8mz6ffvopIiMjodfrERERobiK+1//+ld4e3sr3tv81KlTmDRpEvz8/KDT6TBy5EgkJCTgwoULbr1+Fm5EROrGeV4sBnQFDOhEROrGeV4cFm5EROrGeV4sBnQFLNyIiNSN87w4LNyIiNSN87xYDOgKWLgREakb53lxWLgREakb53mxGNAVsHAjIlI3zvPisHAjIlI3zvNiMaArYOFGRKRunOfFYeFGRKRunOfFYkBXwMKNiEjdOM+Lw8KNiEjdOM+LxYCugIUbEZG6cZ4Xh4UbEZG6cZ4XiwFdAQs3IiJ14zwvDgs3IiJ14zwvFgO6AhZuRETqxnleHBZuRETqxnleLAZ0BSzciIjUjfO8OCzciIjUjfO8WAzoCli4ERGpG+d5cVi4ERGpG+d5sRjQFbBwIyJSN87z4rBwIyJSN87zYjGgK2DhRkSkbpznxWHhRkSkbpznxWJAV8DCjYhI3TjPi8PCjYhI3TjPi8WAroCFGxGRunGeF4eFGxGRunGeF4sBXQELNyIideM8Lw4LNyIideM8LxYDugIWbkRE6sZ5XhwWbkRE6sZ5XiwGdAUs3IiI1I3zvDgs3IiI1I3zvFgM6ApYuBERqRvneXFYuBERqRvnebEY0BWwcCMiUjfO8+KwcCMiUjfO82IxoCtg4UZEpG6c58Vxt3AzmYCCAiAnx/xfk0no8IiIqIMY0MViQFfAwo2ISN04z4vjTuGWlwcMHw5I0s9t+HDzdiIi6poY0MViQFfAwo2ISN04z4vjauGWlwf06iUP55Jk3tarF0M6EVFXxYAuFgO6AhZuRETqxnleHFcKN5PJ9sx525AeGMjL3YmIuiIGdLEY0BWwcCMiUjfO8+K0LdyUvmNeUGA/nLduBQUefCFERKSIAV0sBnQFLNyIiNSN87w4rQs3e98xT0pyLaDn5Hj61RARUVsM6GIxoCtg4UZEpG6c58WxFG5r1py2+x1zV8I5z6ATEXVNDOhiMaArYOFGRKRunOfFsRRuQ4eedhi+NRp+B52IqDtiQBeLAV0BCzciInXjPC+OpXCTJMcB3VE45yruRERdFwO6WAzoCli4ERGpG+d5cToa0AMDGc6JiLoyBnSxGNAVsHAjIlI3zvPidCSgx8XxsnYioq6OAV0sBnQFLNyIiNSN87w4rb+D7s6CcJIEvPqqp0dPRETOMKCLpeqAfunSJdxxxx2IiopCZGQk1qxZ49J+LNyIiNSN87w4bVdxdyekT57s6dETEZEzDOhiqTqgm0wmXL16FQBw9epVjBgxArW1tU73Y+FGRKRunOfFcXYfdEdt9GhPj56IiJxpb0DPzMxESEgI9Ho9oqOjUVxc7LD/ypUrERERgT59+iAsLAwffPCB7OcxMTH/+UqVvE2fPt3aJyUlxebnQ4YMcWvcN5qqA3prFy5cQFBQEM6fP++0Lws3IiJ14zwvTtvCrabG9YAeFubhwRMRkVPtCegbN26EVqtFVlYWjEYjEhMT4evri5MnTyr2X7VqFfr164eNGzfi6NGj2LBhA/r27YtPPvnE2ufChQuoqamxtn//+9/QaDRYu3attU9KSgpGjRol63fu3Ll2v/YbwSagr1q1CqNHj0a/fv3Qr18/TJgwAdu2bZP1uRGfRBQVFWHGjBnw9/eHJEnYunWrYj9nn8T89NNPGDNmDLy9vbFy5UqXnpuFGxGRunGeF6dt4VZebg7fvXs7v9w9ONizYyciIufaE9DHjx+P+Ph42baIiAgkJycr9r/rrrvw61//WrYtMTER99xzj93neO+999CvXz9cuXLFui0lJQVRUVEuj7MrsAnon3zyCT777DMcOnQIhw4dwm9/+1totVr8+9//tvZx95OInTt3oqmpyWZ7RUUFampqFPfZtm0bXn/9deTl5dkN6O58EnP27FncfffdOHv2rN1xWrBwIyJSN87z4rQt3L76yhy+AwKg+J301tv69vXw4ImIyCnLPG80GlFXV2dtDQ0Niv0bGxuh0WiwZcsW2faEhARMmjRJcZ/o6Gi88cYbsm3JycnQarWKuRIAIiMj8fLLL8u2paSkwMfHB/7+/ggJCUFsbCyOHj3q6kv1CJcucb/55pvxv//7v9bH7nwS0dzcjKioKDzxxBMwtbp3yqFDhzB06FCsWLHC+SDtBHR3P4mJj4/HRx995PT5WLgREakb53lx2gb0nBxz+L7vPih+Jz0wEPj7339+3Njo4RdAREQO/Xw7TXlLSUlR7F9VVQVJklBSUiLbnpqaijA7321aunQphg4din379qGlpQV79+7F4MGDIUkSqqurbfrv3r0bkiRh9+7dsu3btm1Dbm4uDh48iPz8fMTExGDIkCEurUvmKQ4DuslkwoYNG6DT6fDdd99Zt7v7SURVVRVGjhyJZ555Bs3NzaisrERAQABeeeUV1wapENBd+STm7Nmz1uKrrq4Ot912G7799lu7z7Ny5UoYDAaEhYWxcCMiUjEGdHHaBvT33jMH79hY889NJqCgwBzcCwrMj5ubzZfASxKgUHcREVEX4u4ZdEtALy0tlW1fvnw5wsPDFfepr6/HCy+8AC8vL2g0GgwbNgyLFy+GJEn44YcfbPq/8soriIyMdDr2K1euYMiQIXj33XddeKWeoRjQDx48CF9fX2g0GgwYMACfffaZ7Oft+STi5MmTCA4ORmxsLIKCgjBnzhy0tLS4NkiFgO7KJzH79u1DVFQUxowZg9GjR2PVqlUuPR8LNyIideM8L07bgL50qTl4v/aa4/1uucXcr7z8BgySiIjazd3voLfnEneLpqYmnD59GiaTybpwXHNzs6zP1atX0b9/f7z//vsujWfKlCk2V2F3JYoBvbGxEUeOHMHevXuRnJyMW265RXYGvS1XP4koKiqCJEm49dZbcf36ddcH6SCgu/NJjKtYuBERqRvneXHaFm4vvmgO3suXO94vPNzcr7DwBgySiIjarb2LxM2fP1+2zWAw2P1qspJJkybh6aefttm+du1a6PV6ly5bb2hoQEBAAJYtW+by895oLn0H/YEHHnB6ObqzTyLOnj2L8PBwPPLIIxg6dCgWLFjg+iDbeYl7e7FwIyJSN87z4rQt3B5+2By8s7Ic73f33eZ+ubk3YJBERNRuHbnNWnZ2NoxGI5KSkuDr64sTJ04AMC8AN3v2bGv/Q4cO4cMPP8Thw4exe/duxMbGws/PD8ePH7c59r333otYy/eo2li0aBEKCwtx7Ngx7Nq1CzNmzEC/fv2sz9sVuRTQJ0+ejLi4OLs/d/ZJxPnz5zFq1Cg8+uijuH79OoxGIwYPHoxFixa5NkgHi8R19JMYJSzciIjUjfO8OG0Lt//6L3Pw/sc/HO/3yCPmfn/96w0YJBERtVt7Ajpgvj12cHAwdDodoqOjUVRUZP1ZXFwcYmJirI+NRiNuv/12eHt7o3///pg5cya+//57m2MeOnQIkiRh+/btis8ZGxsLf39/aLVaDBs2DI899pjDK8O7Amny5MmyDUuXLkVxcTGOHz+OgwcP4re//S169+4te9HufBLR3NyMcePGYfr06WhstTTrwYMHMXDgQGRkZCgO7PLlyygrK0NZWRkkSUJGRgbKyspkt1Bz9klMe7FwIyJSN5HzfGZmJkJCQqDX6xEdHY3i4mKH/QsLCxEdHQ29Xo8RI0Zg9erVNn1yc3NhMBig0+lgMBhsrh4DgDNnzuDZZ5+Fn58fvL29ERUVhX379ll/HhcXZ7Pi7p133ik7RkNDAxYsWICBAwfCx8cHjzzyiNsFWNvCLSjIHLx37XK83/PPm/ulpbn1dEREdIO1N6CTa6Tg4GDZhhdffNH6ycagQYPwwAMP2Hwi4e4nEdu3b8e1a9dstpeVleHUqVOK+xQUFCgu39/2TL6jT2LaiwGdiEjdRM3zlg+Os7KyYDQakZiYCF9fX9mHy60dO3YMPj4+SExMhNFoRFZWFrRaLXJbXeddWloKjUaDtLQ0VFRUIC0tDV5eXtjVKvH++OOPCA4OxvPPP4/du3fj+PHj2LFjByorK6194uLiMG3aNNTU1FjbhQsXZOOJj49HQEAA8vPzsX//ftx///2IioqS3SbVmdaFW0sLoNebg7fCVYkyv/61uZ+LF9cREZGHMKCL5dIl7j0NAzoRkbqJmufHjx9vsx5LRESE3a9eLV68GBEREbJt8+bNw4QJE6yPn3rqKUybNk3WZ+rUqZg1a5b18ZIlS3Dvvfc6HFtcXBxmzpxp9+cXL16EVqvFxo0brduqqqrQu3dvfPHFFw6P3Vrrwq2u7uf7m1+96ni/P/zB3O/5511+KiIi8gAGdLEY0BUwoBMRqZuIeb49i5dOnDgRCQkJsm1btmyBl5cXmpqaAACBgYE2XwfLyMhAUFCQ9bHBYEBSUhKeeOIJDBo0CLfffjvWrFkj2ycuLg4DBgzAoEGDEBoairlz58ruJfvVV19BkiT8+OOPsv3GjBmDN9980+7rbmhokN0H12g0Wgu3w4fNobtvX7u7W61ZY+77yCPO+xIRkecwoIvFgK6AAZ2ISN1EzPOW23+WlJTItqempiIsLExxn9DQUKSmpsq2lZSUQJIkVFdXAwC0Wi3Wr18v67N+/XrodDrrY71eD71ej6VLl2L//v34y1/+gj59+uCDDz6w9tm4cSP++c9/ory8HJ988gmioqIwatQoNDQ0KB7T4pe//KXDO7mkpKQofiXt9OnT+L//M4fukSPt7m6Vl2fue9ddzvsSEZHnMKCLxYCugAGdiEjdRAb00tJS2fbly5cjPDxccZ/Q0FCktVkVbefOnZAkCTU1NQDMAT0nJ0fWZ926ddDr9dbHWq0Wd7VJtq+99prsUvm2qqurodVqkZeXB8B+QJ8yZQrmzZtn9ziOzqC7E7oLC8197XyWQUREXQQDulgM6AoY0ImI1E1tl7gHBQXhpZdekvVZtWoVhg0b5nDMv/jFL5Ceng6g/Ze4t9W6cFu1yhy6H33U+X7l5ea+Awe6/FREROQBDOhiMaArYEAnIlI3kYvEzZ8/X7bNYDA4XCTOYDDItsXHx9ssEvfQQw/J+kybNk22SNzTTz9ts0hcUlKSzVn11mpra6HX662XwVsWidu0aZO1T3V1dYcWiUtJMYduByfgrWpqzH179waam11+OiIiusEY0MViQFfAgE5EpG6ib7OWnZ0No9GIpKQk+Pr64sSJEwCA5ORkzJ4929rfcpu1hQsXwmg0Ijs72+Y2ayUlJdBoNEhPT0dFRQXS09NtbrO2Z88eeHl5ITU1FUeOHMH69evh4+ODdevWAQAuX76MRYsWobS0FMePH0dBQQHuuusuBAQE4NKlS9bjxMfHY/jw4dixYwf279+PyZMnd+g2a/Pnm0P3737nfL/Gxp9XfG9z9zciIupCGNDFYkBXwIBORKRuIuf5zMxMBAcHQ6fTITo6GkVFRdafxcXFISYmRta/sLAQY8eOhU6nQ0hICFavXm1zzM2bNyM8PBxarRYRERHW74239umnnyIyMhJ6vR4RERGyVdzr6+vx4IMPYtCgQdBqtQgKCkJcXBxOnTolO8a1a9ewYMEC+Pn5wdvbGzNmzLDp40zrwu2xx8yBe+VK1/bt18/c/9Aht56SiIhuIAZ0sRjQFTCgExGpG+d5cVoXbvfcYw7cmze7tm9IiLl/m3X2iIioC2FAF4sBXQELNyIideM8L07rwi001By4W11E4NC4ceb+n34qdoxERNR+DOhiMaArYOFGRKRunOfFaV249e9vDtzff+/avg8+aO7/97+LHSMREbUfA7pYDOgKWLgREakb53lxLIVbZeVp66JvP/3k2r7PPGPu/+67YsdIRETtx4AuFgO6AhZuRETqxnleHEvhtmuXOaDrdEBLi2v7vvaaOaD/9rdix0hERO3HgC4WA7oCFm5EROrGeV4cS+H26afmgD58uOv7vvWWOaC/8oq48RERUccwoIvFgK6AhRsRkbpxnhfHUritXWsO6OPGub7vn/9sDuiPPy5ufERE1DEM6GIxoCtg4UZEpG6c58WxFG7vvGMO6A895Pq+OTnmgH7ffeLGR0REHcOALhYDugIWbkRE6sZ5XhxL4bZkiTmgP/+86/tu324O6KNHixsfERF1DAO6WAzoCli4ERGpG+d5cSyF20svmQP6kiWu7/vNN+aAPmyYuPEREVHHMKCLxYCugIUbEZG6cZ4Xx1K4zZx52u1bpp04YQ7oer3rK78TEdGNxYAuFgO6AhZuRETqxnleHEvhdvfd5oC+bp3r+16+DOu90y9fFjdGIiJqPwZ0sRjQFbBwIyJSN87z4lgKt7Awc0DPz3d935YW833TJcl8Np2IiLoeBnSxGNAVsHAjIlI3zvPiWAq3m282B/Rvv3Vvf39/c0D/5hsx4yMioo5hQBeLAV0BCzciInXjPC+OpXCTJHNAz8sDTCbX9x892hzQt28XN0YiImo/BnSxGNAVsHAjIlI3zvPitA3okgQMH24O6q647z7zPhs2iB0nERG1DwO6WAzoCli4ERGpG+d5cZQCeq9e5uZKSH/8cfM+f/6z+LESEZH7GNDFYkBXwMKNiEjdOM+LoxTQLSE9MND55e5z55r7P/44UFDg3uXxREQkHgO6WAzoCiyFW87/VaC0shamZt6MlYhITRjQxbEX0C2toMD+vnl5QL9+8v7uXB5PRETiMaCLxYCuwFK4BSZ9hOAl/8SEtB34vLza08MiIqJOwoAujrOAnpOjvF9envkse9v+7lweT0RE4jGgi8WArqBtQA/5T2NIJyJSBwZ0cdpzBt1kMp8pV+rvzuXxREQkHgO6WAzoCtoGdEtIn5C2g5e7ExGpAAO6OO35DnpBgf1w7url8UREdGMwoIvFgK5AKaBbWmllraeHR0REHcSALk57VnHPyXEtoNu7PJ6IiG6cHhXQf/oJyMoCkpOBCxfM2775BjhzRthTMqArcBTQPy4T98cgIqIbgwFdHKWAHhjo+DvkPINORNR99JiA/u23wKBBwC9+AXh5AUePmre/8QYwe7awp2VAV8Az6ERE6saALo6lcPvoo9PIyXHtVmmW76ArQXlougAAIABJREFULRLH76ATEXUtPSagP/AA8JvfmP/dt+/PAb2kBAgOFva0DOgK7AX0qLe+xM4j5/k9dCKibo4BXZz2Fm6WVdzbhnSu4k5E1LX0mIDevz9QWWn+d+uAfuIEoNcLe1oGdAWWwm3e/1uE2KVvY8SST2RBnbddIyLq3hjQxelI4ZaXZ7uau7PL44mI6MbqMQF98GBg/37zv1sH9C+/NL9ZCcKArsBauCX3A1L6o+rNELyy9E3Ziu687RoRUffFgC5ORws3kwlITDSH87vu4mXtRERdTY8J6C+/DDz6KNDUZA7ox44BJ08CY8ea36gEYUBX0DagN79pbq1DOi95JyLqvhjQxemMwu1f/zIH9JEjO3FgRETUKXpMQK+rA+65B7jpJkCjMV/SpdUCkyYBV64Ie1oGdAVtA7olpP/45jDMWprOS96JiLo5BnRxOqNwO3vWHNB79wbq6ztxcERE1GE9JqBbfPUV8M47wIoVQH6+8KdjQFegFNBbt7aXvFva7z/5N0ora3lGnYioi2NAF6czCreWFuDmm80h/cCBThwcERF1WI8J6B98ADQ02G5vbDT/TBAGdAXOArrlkves159SXETuztR8vJ9/CB+XncHOw+ex88h5fFx2huGdiKiLYEAXp7MKt3vuMQf0DRs6aWBERNQpekxA790b+OEH2+21teafCcKArsBZQHf1jLpSax3eSytr0Xi9GaWVtS49bhv2b9S+N3Ic/ACDiG4EBnRxOqtwmzvXHNB/97tOGhgREXWKHhPQe/UCzp2z3X7ggPkyL0EY0BW4G9DbnlEfueRjxC59G68t/a3iGfbWbUSye489te+NGoc7H2B0lw8duuOxOA71v6auMg5Pvab8suMM6IJ0VuGWkWEO6E880UkDIyKiTqH6gH777eaV2nv3BkaPNv/b0saMAfr1A558UtjTM6ArcDegt22mNwfIHp9/M8BueHfn8ayl6Zi1NL1d+zr7oKCrNjV86NBdj8VxqP81dZVxeOI1BSZ9xIAuSGcVbp9/bg7ot93WSQMjIqJO0d55PjMzEyEhIdDr9YiOjkZxcbHD/itXrkRERAT69OmDsLAwfNDme99r166FJEk27dq1ax16Xrz1lrn16gX8+tc/P37rLSAtDcjJMX8PXRAGdAUdDegtb7oe3t193JF9u8IHBR39kKErHqurjEONr6mrjEONr6mrjMNTr+mx//d7BnRBOiugnzxpDuharfkWtNTFmUxAQYG5cN2xw9xycszb2t7MvnXfggJzodv6cdv+rj6vs2M569uZ+7Z+3Pb34c6+nXksZ38XZ79bd/4upGrtmec3btwIrVaLrKwsGI1GJCYmwtfXFydPnlTsv2rVKvTr1w8bN27E0aNHsWHDBvTt2xeffPKJtc/atWvRv39/1NTUyFpHnlfm738H2oT9G4EBXYE1oL8V2K6A7k54d/dxZ+3ryQ8Kuso4+Jo4jp7+mrrKODzxmuqS+zGgC9JZAb2lBfD1NYf0iopOGlx34E4o6mjQdRSq3Ql+y5YBw4eb/1hKbfhwIC/P/Jx5ebZ9NRr541tuAZKS2ve89o7lSt/O3Lft447s25nHsvd3aUvp7xQQYP5ddMaHDj097Hfmh1Qded52Pk975vnx48cjPj5eti0iIgLJycmK/e+66y78+te/lm1LTEzEPffcY328du1aDBgwoFOftytgQFdgDei7NwApA/7TlAvA7tq6ygcFnhwHXxPH0dNfU1cZhydeEwO6OJ353cQ77jDngi1bOmFgQNc/I+gsFLUesytBt20Aa/36nYXqjgS/tq1XL3P7zW/M/3V1v44+L5trf5e2IT0vr/P/Ts7+t9kdtfcDLnc+WGrPFSj2rppQel5784sT7s7zjY2N0Gg02NJmMk9ISMCkSZMU94mOjsYbb7wh25acnAytVoum/1xWtXbtWmg0GgQFBSEgIAAPP/ww9u/f36HnlTGZzPc//6//AoYMMS8M17oJIgk7cjcmW933u38A70bYLQDZ2NjY2LpfY0AXpzMD+uzZ5hpy+XI7HdwJ3EqB1lER7I6OBH/LvklJrgWh4cPdD7r2zgJ7IhB6OpSy2TY/P3OIa2w0/9fP78Y997JlnrvkvyP/v1eaT1q3zvxgqXWIbs/VHO19Lgdf86j+yLyOi9FoRF1dnbU1KN0zHEBVVRUkSUJJSYlse2pqKsLCwhT3Wbp0KYYOHYp9+/ahpaUFe/fuxeDBgyFJEqqrqwEAX3/9NT788EMcOHAAxcXFePzxx+Ht7Y3Dhw+3+3llfvc7wN/fHNL79AH++7+Bl14CBg4E/vhH5/u3kyTsyN2Yze13mk3AsWLg8+T/FHfqO6POxsbG1pOaOaBfwLFjlwAAL7wAXLrkwTceFenMgP6HP5hrxmefVfihu2ebnYVDR2eb3T0r5erZQWdFPhvbjWyeujrBk5f8t+eyfVc/TFNDs/M1jzrJdmE2SZKQkpKiONVZgnJpaals+/LlyxEeHq64T319PV544QV4eXlBo9Fg2LBhWLx4MSRJwg9K9yYH0NzcjKioKLz22mvtfl6ZW28F/vlP87/79gUqK83//uMfgaefdr5/O0nCjtyNObw/Ls+os7GxsXX7Zg7ol3HggDmV9+6tfKtTcp/TgO7G2eaPPzbXg2PHttnX1QI5IABISXHvjKCr3zl29Vj2Cv1lyzxffLOxsdlv/HqF3WYJ6K6eQe/IpeZNTU04ffo0TCaTdeG45uZmu/3nzp2LadOmdfh5AQA+PuYVSwFg6FDgm2/M/z56FOjf3/n+7SQJO3I35jCgA07PqLd0geKTjY2Njc1+Mwf07Rg1yoTnnzefXJ01y3wmXamR6xwGdKUzxg7ONh8+DPSWTJjiVQDj1CQ0Dhjk8cK0Uwr93r09PyY2Nja2djZLQHd3kbj58+fLthkMBrcWa5s0aRKednDmuqWlBXfccQdeaPXG3aHnDQsDdu0y//vee82XdQHAxo3AoEEuj9tdkrAjd2NOA3prSmfU37rJblHYNry7+7iz9mVjY2Pryc0c0AcjKakBTzxhDugPPQQ8+qhyI9fZDej2LjO3t1AVgJJFeTgl8RJwNjY2tq7U2hPQLbc7y87OhtFoRFJSEnx9fXHixAkA5gXgZs+ebe1/6NAhfPjhhzh8+DB2796N2NhY+Pn54fjx49Y+b731Fr744gscPXoUZWVl1kvid+/e7fLzOrRkCZCaav735s2Alxfwi18AOp35Z4JIwo7cjbkV0IGfz6gf3Gz+7/XGn8+wr7hVXhi2De/uPu6sfbtou5EfWIj68MOT41Dja+oq41Dja+oq4/DEa2q7SFxICFBb2znvIZmZmQgJCYFer0d0dDSKi4sd9i8sLER0dDT0ej1GjBiB1atX2/TJzc2FwWCATqeDwWCwuVwPAM6cOYNnn30Wfn5+8Pb2RlRUFPbt2wfAfIng4sWLERkZCR8fH/j7+2P27NmoqqqSHSMmJgZtv1MYGxvr1uu3Cegmk/OFp3r1AgIDZZe7f/2bPDRLvdDcBYpRNjY2NrafW3sCOmB+fwwODoZOp0N0dDSKioqsP4uLi0NMTIz1sdFoxO233w5vb2/0798fM2fOxPfffy87XlJSEoKCgqDT6TBo0CA8+OCDNt83d/a8btm1C3j3XeAf/2jf/i6ShB69m3I7oDtiL7y353FlAXC00P19u/IHBZ4cB18Tx9HTX1NXGYcHXpOoReIsn9RnZWXBaDQiMTERvr6+OGn5Dlsbx44dg4+PDxITE2E0GpGVlQWtVovc3Fxrn9LSUmg0GqSlpaGiogJpaWnw8vLCLstldwB+/PFHBAcH4/nnn8fu3btx/Phx7NixA5X/WdDm4sWLmDJlCjZt2oTvv/8eX3/9Ne68806MGzdONp6YmBi8/PLLqKmpsbaLFy+69TuQBfT/z969R0dRpWsDL0g6IQkQBQK5QBJgIAkgkcji4IjJEhlBBWEYDhEvxDtBkcTDDMbBb/pwJDlBRxyVoAPDiR4JMELwLB04juBHQMLIZQgSbOR+0RDkooBckpD08/3RX3dS6eru6k7v7sr2+a1VC7p6d1V1pfP2+6Zq7+3tIGibNwMAGusbURPSm8X5z2XxZ99eb7bVlj7GMsyDzoWLj4uvBXq70tAAPPaYrb95gCkB32M74NcC3SiM8IeCtr7WqNsyynHI+J6MchwyviejHEeQ3tOlr/4XIgaJGzFiBHJzc1XrUlNTXfZ1mzt3LlJTU1XrZsyYgZEjRzoeT5061THgjd3YsWPx4IMPOh6/+OKLGDVqlFfHunPnTiiKovrjQVZWFvLy8rzaTmv2Ar126VLvp9V6+WWgvh6Hn3sj6Alou1z82bfdl3mtW46G/fe/ex6cr+X0XvbB/2JifN9v65G2W2/LVVt/vlbEVGD+2pben4vWz8lsbtu0Yhx3wbvfN4MvP4sCHQCio1mgG4WUBToRETnY4rx/B4nzZbTYO++8E7Nnz1atW7duHUJDQ9HQ0AAA6NOnDxYtWqRqs2jRIiQmJjoep6WlIT8/H1OmTEFMTAxuvfVWLF261O3xbty4ER06dFB912VlZaFHjx7o3r07Bg0ahDlz5uCyh1sL6urqVKP4WiwWKIqCH2NjfxaJqrDFl7nL//539Sj3eqaW83aKKW/mk7aPO9D6ONyMO+B2ejtv57H2x/z0bZ0v24hc/VxaL61/Ti3PiS+fl5/TzAX+/MNSW/flar/expcWy8+mQH/sMdst7QGmBHyP7QALdCIiudnifPMgcR07tn2QOPt8q5WVlar1hYWFGDhwoOZrBgwYgEL7ADT/X2VlJRRFwenTpwEAJpMJZWVlqjZlZWUICwtzPA4PD0d4eDheeukl7NmzB++++y46deqE999/X3O/169fx2233YaHW00wvnTpUmzcuBHV1dVYtWoVkpOTMWbMGLfv22w2Q2s+3EvBTpDdLZ072+b3DfZxuEqgW8/H7kMffpcj5mvNEy+S1nH06aNvnngSR+vn0rqwE/Fz0rPf9nbLf36+93+w0PuHJa0i2pu7OVofV+v9etqXi+VnU6AvWADcdBPwm98ARUW2+c9bLoIowrbcjrFAJyKSW+s4749B4uwFeusBahYsWICUlBTN1wwYMABFRUWqddu2bYOiKKitrQVgK9BXrlyparNixQqEh4c7HptMJtx+++2qNs8//7zqVnm7hoYGTJw4EcOGDfP4Pbd7924oioJ/2ud+1eDqCnogCnRrywRZT3LZ8opg6znVPV1N1HNVSu+2XC3z57tO3P1xNTpYV4GNchyk5uluBVE/J2/vkhB1y7+nmOGpuA/UH5oC+fvTMi666eZx+sMPfx4FenKy66VvX2G7ZYGugQU6EZHc7HH+V79qQMsx0BYsAH78sfnx+fNAWpq+bQbzFvfExEQ8+eSTqjZLlixBfHy8al1DQwMmTZqEoUOH4ryOv0hYrVaYTCasXr3aY1s7ex/0gFxBb50ge7oa5Cqh1nO1We9VKV+uEOpN9Hk1msi/2nLbvux/aHLzhwGX02mSX7BA18ACnYhIbvY436GDFd9/37y+Sxf1eDBnzthuf9drxIgRmDlzpmpdWlqa20Hi0lr9BSA3N9dpkLh7771X1WbcuHGqQeKmTZvmNEhcfn6+6qq6vTgfPHgwzuocEa+6uhqKong1JY3oAv1sxxgcGp+vL0H25sqTP69S+bMftcjjJCLyAQt0sViga2CBTkQkN1cFeufObSvQ7dOsLV++HBaLBfn5+YiKisKJEycAAAUFBXj00Ucd7e3TrL3wwguwWCxYvny50zRrlZWVCAkJQXFxMQ4cOIDi4mKnadZ27tyJ0NBQFBYW4vDhwygrK0NkZCRWrFgBALhx4wYeeOAB9O7dG3v37lVNo1ZfXw8AOHLkCObPn49du3bh+PHjWL9+PVJTUzFs2DA0elEEiizQlw56A431LEiJiIKJBbpYLNA1sEAnIpKbqAIdAEpKSpCUlISwsDBkZGSorj7n5OQgKytL1b6iogLDhg1DWFgYkpOT8c477zhtc82aNUhJSYHJZEJqairKNW5p/uSTTzBkyBCEh4cjNTVVNYr78ePHoTWQm6Io2Lx5MwDg1KlTyMzMRLdu3RAWFob+/ftj9uzZuHDhglfv32OB3r078OGHtlu1dfbVtiodcFLpg7syWZwTEQUbC3SxWKBrYIFORCQ3e5zv2NGqmv+8c2fg2LHmx74U6D93Hgv0TZtsDb2Y6smqdMCvlXLExAT3vREREQt00Viga2CBTkQkt5ZX0O+7D/j1r21LaChwzz3Nj++7jwW6t1wW6HqnAtMYQO16Wbnj4blzwXtvRETEAl00FugaWKATEcnNHucffrgejz0Gjwvpp1mgezMVmIsB1JKSbJvaujVw74WIiJxJX6BfvQo8+ywQH2+bbm7atID+dZgFugYW6EREcmOcF0ezQPfDVGD33mvb1J//7KcDJSIin0hfoP/2t0BkJPD008Ds2UCPHsCUKQHbvdQF+uXLlzF8+HCkp6djyJAhqgFz3GHiRkQkN8Z5ceyJ2+kPP/TrVGD/9m+2Aj0vr+3HSEREvpO+QO/XD1i1qvnxjh22PnABmtZS6gK9sbERV69eBQBcvXoVffv2xfnz5z2+jokbEZHcGOfFEZW4/eUvtgL9nnv8ulkiIvKS9AW6yQR89516XadOwKlTAdm91AV6SxcuXEBiYiLO6eg/wMSNiEhujPPiiErcKittBXrv3n7dLBEReUn6Ar1jR6imeAGcp3kRSNmyZQvGjx+PuLg4KIqCjz76yOOLlixZgltuuQVdunRBly5dMHLkSGzYsMHvB6fn2EpKSpCcnIzw8HBkZGRga6vRY3788UcMHToUERERWLx4sa79MnEjIpIb47w4ohK3H35o7tLOHxsRUfBIX6B36ADVFC9a07z8+tfCdq9s2LAB8+bNQ3l5ue4C/eOPP8b69etx8OBBHDx4EL///e9hMpmwf/9+zfbbtm1DQ0OD0/oDBw6gtrbW5X48Hdvq1athMpmwbNkyWCwW5OXlISoqCidPnnTa1pkzZ/DLX/4SZ86c8fj+mLgREcmNcV4ckYlbbKytQN+xw++bJiIinaQv0HNyPE/vInCKF9Ut7noLdC0333wz/vKXvzitb2pqQnp6OqZMmYLGFh3rDx48iNjYWCxcuFDfgWoc24gRI5Cbm6tal5qaioKCAs1t5Obm4sMPP/S4LyZuRERyY5wXR2TiNnq0rUB/7z2/b5qIiHSSvkAPsjYX6I2NjVi1ahXCwsLw9ddfa7apqalB//798dBDD6GpqQlHjhxBQkICnnnmGf0H2urY6uvrERISgnXr1qnazZ49G5mZmQBsV83tydelS5cwaNAgfPXVVy73sXjxYqSlpWHgwIFM3IiIJMYCXRyRidtzz9kK9Llz/b5pIiLSSfoC/ehRwGoN2u59LtD37duHqKgohISEIDo6GuvXr3fb/uTJk0hKSkJ2djYSExMxffp0WL14462PraamBoqioLKyUtWusLAQAwcOBADs3r0b6enpGDp0KG655RYsWbJE176YuBERyY1xXhyRidvbb9sK9GHD/DZ7GxEReUn6Ar1jR+D775sfT50K6Ogm7S8+F+j19fU4fPgwdu3ahYKCAvTo0cPlFXS7LVu2QFEU9OvXDzdu3PDuQF0U6Nu3b1e1W7BgAVJSUrzadmtM3IiI5MY4L46oxK28HIiJaR4ozj6ie3m5X3dDREQeSF+gd+igLtA7d7ZdVQ8Qv/VBv/vuu93esn7mzBmkpKRgwoQJiI2NxaxZs7w7UB9ucfcVEzciIrkxzosjInErL7flSy2Lc0WxrevQgUU6EVEgsUAXy28F+ujRo5GTk6P53Llz5zB48GBMmjQJN27cgMViQc+ePTFnzhz9B+pikLiZM2eq1qWlpbkcJE4vJm5ERHJjnBfH34lbY6PtSnnr4rxlkd6nD293JyIKFOkL9NbzoAdwDnQAUH766SdUVVWhqqoKiqJg0aJFqKqqckxV9vbbb2P06NGqF7300kvYunUrjh8/jn379uH3v/89OnbsiM8++8xpB01NTbjttttw3333ob6+3rF+37596N69OxYtWuTy4Dwdm32ateXLl8NisSA/Px9RUVE4ceJEm04KEzciIrkxzovj78Rt82bXxXnLZfNmv+yOiIg8kL5Abz0PutYc6CLnQd+8eTMURXFa7FfDzWYzkpKSVC964oknkJSUhLCwMMTExODuu+/WLM7tPvvsM1y/ft1pfVVVFU6dOuXydZ6ODQBKSkocx5KRkYEtW7Z4dQK0MHEjIpIb47w4/k7cVq7UV6CvXOmX3RERkQfSF+h65kAP1DzoZMPEjYhIbozz4vAKOhGR3KQv0IOMBboGJm5ERHJjnBdHVB90rUHi2AediCjwWKCLxQJdAxM3IiK5Mc6LI3IU99ZFOkdxJyIKPBboYrFA18DEjYhIbozz4oicB731aO49erA4JyIKNBboYrFA18DEjYhIbozz4ohM3BobbX3NMzNtBfr/+T9+3wUREXnAAl0sFugamLgREcmNcV6cQCRub71lK9AnTBC2CyIicoEFulgs0DUwcSMikhvjvDiBSNy2bbMV6AkJ7tvZr7ivXGn7191Act60JSL6OWOBLhYLdA1M3IiI5MY4L04gEreffmoeMO7MGe02Wn3We/fW7rPuTVsiop87FuhisUDXwMSNiEhujPPiBCpxS0mxFdL/+7/Oz9lHfdeakq31qO/etCUiIhboorFA18DEjYhIbozz4gQqcZs2zVZIFxaq19vnTdeaM731vOnetCUiIhsW6GKxQNfAxI2ISG6M8+IEKnF77TVbET1linr95s2uC+6Wy+bN3rUlIiIbFuhisUDXwMSNiEhujPPiBCpx+/xzW/Hcr596/cqV+orulSu9a0tERDYs0MViga6BiRsRkdwY58UJVOL2ww/NBfQPPzSv5xV0IiKxWKCLxQJdAxM3IiK5Mc6LE8jELSnJVkDPm9c8NZq9X7nWwG+u+qDradsWnMKNiGTCAl0sFugamLgREcmNcV6cQCVu5eVARIT21Gjl5a4L7kCP4s4p3IhINizQxWKBroGJGxGR3BjnxQlE4qanqP7Xf3V+vk8f1/Og33yzum2PHv4pzjmFGxHJhgW6WCzQNTBxIyKSG+O8OKITN71To2Vlqdf/5S/uby1/5RV1+9mzA3OcvN2diNobFuhisUDXwMSNiEhujPPiiE7c9A7sZjLZ/rXfBl9R4X67eXm2dsnJtn8zMgJznByAjojaGxboYrFA18DEjYhIbozz4ohO3PROjaYoQEwMMHKk7f/r1rnf7oMP2tr99re2fzt2BC5eFH+cnMKNiNobFuhisUDXwMSNiEhujPPiGOUKuqIAv/kNcP/9zbe4u3PXXbZ2ZWVA//62/69fL/44eQWdiNobX+N8SUkJkpOTER4ejoyMDGzdutVt+8WLFyM1NRWdOnXCwIED8f7776ueX7p0KUaNGoWbbroJN910E+6++27s2LFD1cZsNkNRFNXSq1cvr4470Figa2DiRkQkN8Z5cQLVB93d1GidOtn+/9ZbwKOP2v7/6qvutzt4sK3dpk3AE0/Y/v/ii2KPk33Qiag98iXOr169GiaTCcuWLYPFYkFeXh6ioqJw8uRJzfZLlixBly5dsHr1ahw9ehSrVq1C586d8fHHHzvaPPTQQygpKUFVVRUOHDiAxx9/HNHR0fjuu+8cbcxmMwYPHoza2lrHcvbsWd/ffACwQNfAxI2ISG6M8+IEchR3V8Wvvf/5P//Z3Le8oMD9Nnv0sLWrrgbee8/2/0GD2jZ3uavp3uxLfj7nRSei9seXOD9ixAjk5uaq1qWmpqLARXC+/fbb8dvf/la1Li8vD3fccYfLfTQ2NqJLly6qK+1msxnp6em6j9MIWKBrYOJGRCQ3xnlxAjkPurtR0hXF9nx2tu3/M2a43taNG83F/vffA++8o70tX6ZFs9867+k4OeUaEbUX9jhvsVhw6dIlx1JXV6fZvr6+HiEhIVjXajCQ2bNnIzMzU/M1GRkZePnll1XrCgoKYDKZ0NDQoPmay5cvo1OnTvjkk08c68xmMyIjIxEXF4fk5GRkZ2fj6NGj3rzdgGOBroGJGxGR3BjnxQnk4EGNjbYr0Pn5rm8jt///X//V9XZqa5sHhluzxn9zlzc0AN262V6/aBHw3HOuj5PzohNRe2GP860Xs9ms2b6mpgaKoqCyslK1vrCwEAMHDtR8zUsvvYTY2Fjs3r0bVqsVu3btQs+ePaEoCk6fPq35mmeffRb9+/fH9evXHes2bNiAtWvXYt++fdi4cSOysrLQq1cvnD9/3rc3HwAs0DUwcSMikhvjvDiBHt3X03zj9mX0aNfb2LvX1qZnT//OXb5xo+11PXoAdXWcF52I5ODtFXR7gb59+3bV+gULFiAlJUXzNdeuXcPjjz+O0NBQhISEID4+HnPnzoWiKPj++++d2i9cuBA333wzvvrqK7fHfuXKFfTq1Quvv/66zncbeCzQNTBxIyKSG+O8OIEu0PWOlv6LX7jext//bmvTt6++bW3aZNuvq/7p9iv7d99ta//EE/qPc9MmYaeKiMgvvI3zvtzibtfQ0IBvv/0WjY2NjoHjmpqaVG1ee+01REdHY9euXbqOZ8yYMU794Y2EBboGJm5ERHITGee9nUamoqICGRkZCA8PR9++ffHOO+84tVm7di3S0tIQFhaGtLQ0pyQHAL777js8/PDD6NatGyIiIpCeno7du3c7nrdarTCbzYiLi0OnTp2QlZWF/fv3q7ZRV1eHWbNmoXv37oiMjMSECRO8LrQDXaDrnW+8Rw/X2/jgA1ubIUP0bct+27pWH3KtvvE9eri+DV9r27zVnYiMzNdB4mbOnKlal5aW5nKQOC2ZmZmYNm2aat2rr76Krl274h//+IeubdTV1SGnw8dhAAAgAElEQVQhIQHz58/Xvd9AY4GugQU6EZHcRMV5b6eROXbsGCIjI5GXlweLxYJly5bBZDJh7dq1jjbbt29HSEgIioqKcODAARQVFSE0NBRffvmlo80PP/yApKQkPPbYY9ixYweOHz+OTZs24ciRI442xcXF6NKlC8rLy1FdXY3s7GzExcXh8uXLjja5ublISEjAxo0bsWfPHtx1111IT09Hoxf3XRv1CnpkpOtt/PGPtjZjxujbltbt6R06AL/7nev+695uj0U6ERlVW6ZZW758OSwWC/Lz8xEVFYUTJ04AsA0A9+ijjzraHzx4EB988AEOHTqEHTt2IDs7G926dcPx48cdbRYuXIiwsDCsXbtWNY3aTz/95GgzZ84cVFRU4NixY/jyyy8xfvx4dOnSxbFfI2KBroEFOhGR3ETFeW+nkZk7dy5SU1NV62bMmIGRI0c6Hk+dOhXjxo1TtRk7diwefPBBx+MXX3wRo0aNcnlcVqsVsbGxKC4udqyrq6tDdHQ03n33XQDAxYsXYTKZsHr1akebmpoadOzYEZ9++qnLbbcWrD7o7uYbt//fxcC/+N3vbM/n5bnflqclJMTz83q2zf7oRGRkvsb5kpISJCUlISwsDBkZGdiyZYvjuZycHGRlZTkeWywW3HrrrYiIiEDXrl0xceJEfPPNN6rtJSUlwdNgdfY/RptMJsTHx2Py5Mn4+uuvfXrfgcICXQMLdCIiuYmI8770sbvzzjsxe/Zs1bp169YhNDTUMY1Mnz59sGjRIlWbRYsWITEx0fE4LS0N+fn5mDJlCmJiYnDrrbdi6dKljuePHj0KRVGwZ88e1XYeeOABTJ8+HQDw+eefQ1EU/PDDD6o2Q4cOxR/+8AeX77uurk41SJDFYglogQ64nhe99bqzZ7Vfn5Nje7642PMc64Fc3ngDqK9339+diCjQAv2H2J8bFugaWKATEclNRJz3ZRqZAQMGoLCwULWusrISLaeRMZlMKCsrU7UpKytDWFiY43F4eDjCw8Px0ksvYc+ePXj33XfRqVMnvP/++6pt1tTUqLbz9NNP45577tHcpt2vfvUrPPPMMy7ft9ls1ryCEejETavvd58+tvXR0bbHrS6+OIwbZ3u+tNT1tvy15Oc792H35qo850wnomBjgS4WC3QNLNCJiOQmskD3ZhqZAQMGoKioSLVu27ZtUBQFtbW1AGwF+sqVK1VtVqxYgfDwcMdjk8mE22+/XdXm+eefd9wq37rot3vqqacwduxYAK4L9DFjxmDGjBku37cRrqDb2UdPb3212T46e6sfjcOwYbbn16933pbewd30Lps320Zq9/X1nDOdiIKNBbpYLNA1sEAnIpKbbLe4JyYm4sknn1S1WbJkCeLj4wGIvcW9NSMmbhkZzgV4SwkJtudbDHoPQP8c6y2vdrvrC2/vV+6p37yeIp191IkoWIwY52XCAl0DC3QiIrmJHCTOm2lk5s6di7S0NNW63Nxcp0Hi7r33XlWbcePGqQaJmzZtmtMgcfn5+Y6r6vZB4hYuXOh4vr6+XnOQuL/+9a+ONqdPnzb8IHF62Edn/+AD5+esVsBksj1/6pT6Ob0jxNuLZnejuLe+6u2Pvu6bN/vvHLW++4B934naB1d3DolkxDgvExboGligExHJTfQ0a3qnkbFPs/bCCy/AYrFg+fLlTtOsVVZWIiQkBMXFxThw4ACKi4udplnbuXMnQkNDUVhYiMOHD6OsrAyRkZFYsWKFo01xcTGio6Oxbt06VFdXY9q0aZrTrPXu3RubNm3Cnj17MHr0aMNPs6bH1Km2gvbNN52fu3ChueCtq1M/p3eO9U6dmovvJUucn7f3hW+trX3dW/V88JnWcbDvO5Hxaf3uBuJ31YhxXiYs0DWwQCcikpvIOO/NNDIAUFFRgWHDhiEsLAzJycl45513nLa5Zs0apKSkwGQyITU1FeUa2dcnn3yCIUOGIDw8HKmpqapR3AHbVXSz2YzY2FiEh4cjMzMT1dXVqjbXr1/HrFmz0K1bN0RERGD8+PE41fqysgdGTNxyc22Ja4uZdxwOHLA9d9NNzs/pvYLev3/za0pLbesGD9Z3Raux0TZae7CuoNuv5Ou5Q4B934mMw9XvbiB+V40Y52XCAl0DC3QiIrkxzotjxMTt97+3Ja7PP+/8XEWF7Tmtgfa9mWP94kXbax57zPb4pZf0H5+3fdL91Qfd2z727PtOZAyefndF/64aMc7LhAW6BiZuRERyY5wXx4iJ22uv2ZLWRx5xfu6vf7U9d+ed2q/1NMd6bKztsX0Aun79bI//93+9O0Zv+6Tn57e9v6k3few9XbkPRj9YIn8y6mdY67j0/u6+8Ybv78Pd+TBinJcJC3QNTNyIiOTGOC+OERO35cttyep99zk/9/bbtuemTHH9endzrD/xhO3xiy8C335r+3/HjoAvHy09fcFbL23pb6q3j33rpXXf92D1gyXyF6N+hl0dlzfTP/ryPjydDyPGeZmwQNfAxI2ISG6M8+IYMXH76CNbgtlicHyHl1+2Pffss+634epq0nvvNW+7rMz2/+HDfT9WV6Opu0rI29Lf1B9X0IPZD5bIH4z6GXZ3XN78vnr7PvScDyPGeZmwQNfAxI2ISG6M8+IYMXHbssWWYGr1M3/mGdtz8+f7tu3jx22vDw213UKvKMC//VubDteJqP6mbe37Hux+sERtZdTPsJ7xITzdXePL+9B7Pk6cMF6clwkLdA1M3IiI5MY4L44RC/Tqalty2aOH83MTJ9qe+//TwXvNam1OaDt2tP3r7ytueq90b9rkfR9avaO425eWfd/1Hpc/52sn+XnqC+5NX3FPbTdt0vcZfuON5rtZWt/dsnKlbTubNvnvmH2d2aGtv4t6z4fZbLw4LxMW6BqYuBERyY1xXhwjFujffdd8xclqVT83cqTtuXXrfNt2eTkQGalOXuPj/Vuk6+0r3q2b+rHevqd//KP3V+e86Qfrr/naSX6e+j5701dcz7Za/864W1r/Trj7HfHnMbtboqO9K9Dd/S56dz6MF+dlwgJdAxM3IiK5Mc6LY8QC/dq15sSy9Y/cPup6ZaX32w1U31Vf+4rrPQ57P/w77vCu77ve4+AVdNLD0+/T736n//fN1235a/HnMXtawsOB//zPtv0uer9v48V5mbBA18DEjYhIbozz4hixQAeATp1sieXx4+r1UVG29UeOeLe9QPZd9bavuLfHkZZma/vBB969R0VxfxWRfdBJL39+1vzdf7stiz+PufVru3a1/X/iRM8xwt3vorf7ZoEuHgt0DUzciIjkxjgvjlEL9Ph4W2L5z382r7typTnhvHzZu+0Fuv+1t/Okt15c9aG1j0IfEgJcuODbe3RVEPhyF4E/+x+TMWnNVOCvPtf2cRgCUXz7a9m8WX/f75aL/Xb0996znVdPMWL+fO0Y4Nu5N2acl4US7AMwIiZuRERyY5wXx6gF+pAhtsRy48bmdceO2dZFRDj3TfdEb79wf/a/1uqf6s8+tK37xfo6T7qiAHFx/p972ahzVZN+Wj9Df17N7tbNuznCjbDk53v3e9x6aTnmhac+7N70o3e/GDPOy0IJ9gEYERM3IiK5Mc6LY9QC/c47bYnlhx82r/vHP2zrkpO9316wRjBvbGwe1C0uzrcrb66W1le9vbkS+S//Ymtv/0NIUZF378uf/Y/JmHztY83Fu9/bxkbb1XKx+zVmnJeFEuwDMCImbkREcmOcF8eoBXrr6dQaG4FXXrGtS031/xziIvtfX7jQvJ9z53zvn+7puPX0fQ8Ntf27cKHt2N591/Y4JUX/beii+rq35XZ43krvX771c3b+OYtoG8zFm+MU1Z/dt8WYcV4WSrAPwIiYuBERyY1xXhyjFuiPP25LLIuK/HertKs+n4G4qpucbNvX//2/Yq5M2q/86+37Hhtra7t8ufNzns6tv/oMt7xboS0/Y95K73/tpV94y895eynyW/8O+PNcuz4fxozzslCCfQBGxMSNiEhujPPiGLVAnzPHllg+8IB/b5XWKub69BFfzE2ebNvX66/bHv/1r/5N9Fv2ndczN7O7YsbTuW1LX3etY27L9HeBmjrv58ZfP2PRi/13V09f+UCNBN+9u/5+9StX+vdcuz4fxozzslCCfQBGxMSNiEhujPPiGLVALyy0JZaRka6TUV9vSw/G7dD22/Mfftj2ePt2z+/Pm6V13/nGRlt/d18Hs3J3bv15Bb0t098Fcuq8n5v2cAX9jTfUP1ut0eZdPd60qXlsCH8v3oxM788r6O7Ox4cfGjPOy0IJ9gEYERM3IiK5Mc6LY9QCfckS7wo9o1u/3nasaWm2x8XFtseTJrWtT7roQtrVdG+ejtnT++nWzVbI6B00r3XxAeh/rf0PAe29j7qnAtRdn377udZTvOr9GQdr8dcfXvSM2eDrcXkz5kVbj0PP+TBqnJeFEuwDMCImbkREcmOcF8eoidvq1foTVH9OjSZKbW1zMn3lCnDffc2Fp69zpgfqVnSt6d1cjdLu7eLNFf7WU7jpfW1+fvvvo67nFm5PU9y5e21bfsYii3jR40W4G5eirb+L3ox5ISoG2Bk1zstCCfYBGBETNyIiuTHOi2PUxO2zz/Qnqe3hCjpgm2ZNUYCtW4GuXW3/37PH9pwvfWg99Z0XdZuyvSjIzhZXmLnbrz/+ONCe+qjrHVRQxPmZPt35Oa3Pod5pwmJi9B/D/PmBGS/C1bgU3kx95uq4vBnzQkQMsDNqnJeFEuwDMCImbkREcmOcF8eoidvu3bYEtGPH4EyNJsL999uO2z5Cfdeuvveh9WY6NBFXODt0ADp3tv3/nns8X8325zF4M9iXL9O9GYkvU3D5azC0Dh2a/5B0553uP4d6b+mur/c8NkLr278D0TVBaz96fn/sXTXcHZc378HfMcDOqHFeFizQNTBxIyKSG+O8OEZN3I4etSXAYWHyjNI9b566gLr3XvH71HMLb1uL5wUL/Fd8B2Np3Ufdl/7aroombwvM1u319rMXvXzwQds+a225/TuY2stxemLUOC8LFugamLgREcmNcV4coyZuP/7YnAwvXuxcMARiajR/Ki+3Tb/U8j1ERwfmPbi7zVbPlGyelptvDn4B2ZZFq496y8XTbcau+oJ7Oz+7VntfR+H39xIf7/uc9P64/TuY2stxumPUOC8LJdgHYERM3IiI5MY4L45RE7emJtvt7YoCFBTY/h0ypH2Owu2uD3GgrsK5u5Lb2GgbrC7YRaAsiy9zzOvtZx7M96T3s9qWW7qN+nvdXo7TFaPGeVkowT4AI2LiRkQkN8Z5cYycuNmvOMfG2v5dtCjYR+S99jJXt8j+6opiu8psxALUX/21vS12W/7MfelnHozFKJ9V8p6R47wMlGAfgBExcSMikhvjvDhGTtx+8Qt1gXD0aLCPyHt6R1I3wkj0vk715KmoazmyuBGL9GAt9jnm29vdC0b4rJJ3jBznZaAE+wCMiIkbEZHcGOfFMWriVl5uGyCuZWHQ3uauBvTPRW6Uudz1TPXkbmndZ7plX11v+7t72//aKP21vVnacgXfn6/1ZltG+aySfkaN87JQgn0ARsTEjYhIbozz4hgxcXPVH7e9jZwMtK8r6HZaUz3pvcq7aZP7vrre9HfftEl/2zfeMM6I56KX/Hzvfy6vv+55ZHq92zLSZ5X0MWKclwkLdA1M3IiI5MY4L47RErf20mdbL73zQxv9/fjzfXizLX+2VZTg9Dn35+Kq/3qgfy7UvhgtzsuGBboGJm5ERHJjnBfHaIlbe7zi7Ikscyn7832ImjNbz7zvMiwtP//B+rlQ+2G0OC8bFugamLgREcmNcV4coyVu7a3Ptl4yzKUM+Pd9iJoz21Xb/HzfimFv50EPxNL68x+snwu1D0aL87Jhga6BiRsRkdwY58UxWuIm4xV0u/Y+l7KdP9+HqDmztdrq/Wzp6a/ta/9tfy1an/9g/VzI+IwW52XDAl0DEzciIrkxzotjtMSN/WBJFJGfLdHzyPPzT21htDgvG+kL9MuXL2P48OFIT0/HkCFDsHTpUo+vYeJGRCQ3xnlxjJi4sR8siSLys6Wn/7unAt5dW37+yVdGjPMykb5Ab2xsxNWrVwEAV69eRd++fXH+/Hm3r2HiRkQkN8Z5cYyauLEfLIki8rPlbtt65ph315aff/KVUeO8LKQv0Fu6cOECEhMTce7cObftmLgREcmNcV4cIydu7AdLooj8bLnbttYc83rb8vNPvjJynJeBU4FeVFSE4cOHo3PnzoiJicHEiRPxzTffqNqYzWYoiqJaevXq5feD27JlC8aPH4+4uDgoioKPPvpIs11JSQmSk5MRHh6OjIwMbN26VfX8jz/+iKFDhyIiIgKLFy/2uF8mbkREcmOcF4eJGxGR3BjnxXIq0MeOHYvS0lLs378fe/fuxf3334/ExERcuXLF0cZsNmPw4MGora11LGfPnnW5k23btqGhocFp/YEDB1BbW+vydRs2bMC8efNQXl7uskBfvXo1TCYTli1bBovFgry8PERFReHkyZNObc+cOYNf/vKXOHPmjMt9AkzciIhkxzgvDhM3IiK5Mc6L5fEW97Nnz0JRFGzZssWxzmw2Iz09XdcOmpqakJ6ejilTpqCxxb00Bw8eRGxsLBYuXKjvQF0U6CNGjEBubq5qXWpqKgoKCjS3k5ubiw8//NDtvpi4ERHJjXFeHCZuRERyY5wXy2OBfvjwYSiKgurqasc6s9mMyMhIxMXFITk5GdnZ2Th69KjLbdTU1KB///546KGH0NTUhCNHjiAhIQHPPPOM/gPVKNDr6+sREhKCdevWqdbPnj0bmZmZAGxXze0J2KVLlzBo0CB89dVXbvfFxI2ISG6M8+IwcSMikpuvcd5Tt+TWFi9ejNTUVHTq1AkDBw7E+++/79Rm7dq1SEtLQ1hYGNLS0pzqQl/2G2xuC3Sr1YoJEyZg1KhRqvUbNmzA2rVrsW/fPmzcuBFZWVno1auX29HRT548iaSkJGRnZyMxMRHTp0+H1WrVf6AaBXpNTQ0URUFlZaVqfWFhIQYOHAgA2L17N9LT0zF06FDccsstWLJkict9LF68GGlpaRg4cCATNyIiibFAF4cFOhGR3HyJ8950SwaAJUuWoEuXLli9ejWOHj2KVatWoXPnzvj4448dbbZv346QkBAUFRXhwIEDKCoqQmhoKL788kuf92sEbgv0Z599FklJSR5P/pUrV9CrVy+8/vrrbttt2bIFiqKgX79+uHHjhncH6qZA3759u2r9ggULkJKS4tX2W2LiRkQkN8Z5cVigExHJzZc472235Ntvvx2//e1vVevy8vJwxx13OB5PnToV48aNU7UZO3YsHnzwQZ/3awQuC/RZs2ahd+/eOHbsmK4NjRkzxunNt3TmzBmkpKRgwoQJiI2NxaxZs7w7UB9vcfcFEzciIrkxzovDAp2ISG72OG+xWHDp0iXHUldXp9nel5otIyMDL7/8smpdQUEBTCaTY/DxPn36YNGiRao2ixYtQmJios/7NQKnAt1qteK5555DfHw8Dh06pGsjdXV1SEhIwPz58zWfP3fuHAYPHoxJkybhxo0bsFgs6NmzJ+bMmaP/QN0MEjdz5kzVurS0tDb9VYSJGxGR3BjnxWGBTkQkN3ucb72YzWbN9nq6Jbf20ksvITY2Frt374bVasWuXbvQs2dPKIqC06dPAwBMJhPKyspUrysrK0NYWJjP+zUC5e2338bo0aMdK2bOnIno6GhUVFSoplG7du2ao82cOXNQUVGBY8eO4csvv8T48ePRpUsXnDhxwmkHTU1NuO2223Dfffehvr7esX7fvn3o3r270189Wvrpp59QVVWFqqoqKIqCRYsWoaqqStVnwN6vYPny5bBYLMjPz0dUVJTmsejFxI2ISG4i47y3g9FUVFQgIyMD4eHh6Nu3L9555x2nNp4GwTGbzU6JUq9evVRttJIpRVHw6quvOtpkZWU5PZ+dne3V+2eBTkQkN2+voPvSLfnatWt4/PHHERoaipCQEMTHx2Pu3LlQFAXff/89AFuBvnLlStXrVqxYgfDwcJ/3awSK2WxGUlJS8woXX+ClpaWONtnZ2YiLi4PJZEJ8fDwmT56Mr7/+2uVOPvvsM1y/ft1pfVVVFU6dOuXydZs3b9Y8lpycHFW7kpISJCUlISwsDBkZGaop4XzBAp2ISG6i4ry3g9EcO3YMkZGRyMvLg8ViwbJly2AymbB27VpHGz2D4JjNZgwePFj1h/WzZ8+q9tXyudraWvzXf/0XOnTooJqFJSsrC08//bSq3cWLF706ByzQiYjk5m2cb8ut5g0NDfj222/R2NjoGDiuqakJwM/oFndigU5EJDtRcd7bwWjmzp2L1NRU1boZM2Zg5MiRjsd6BsExm81IT0/36lgnTpyouoMOsBXoeXl5Xm2nNRboRERy83WQuLZ2S87MzMS0adMcj6dOnYp7771X1WbcuHFOg8T5uzu0aCzQNbBAJyKSm4g478tf6u+8807Mnj1btW7dunUIDQ3VPQgOYCvQIyMjERcXh+TkZGRnZ6uujLd25swZhIaGOvXdy8rKQo8ePdC9e3cMGjQIc+bMweXLl92+77q6OtUtjhaLhQU6EZHE2jLNmqtuyQUFBXj00Ucd7Q8ePIgPPvgAhw4dwo4dO5CdnY1u3brh+PHjjjaVlZUICQlBcXExDhw4gOLiYpfTrPmzO7RoLNA1sEAnIpKbiDjvy2A0AwYMQGFhoWpdZWWlV4PgAMCGDRuwdu1a7Nu3Dxs3bkRWVhZ69eqF8+fPa+534cKFuPnmm526ny1duhQbN25EdXU1Vq1aheTkZIwZM8bt+9bq/84CnYhIXr7eKeWuW3JOTg6ysrIcjy0WC2699VZERESga9eumDhxIr755hunba5ZswYpKSkwmUxITU1FeXm5V/s1IhboGligExHJTWSB7s1gNAMGDEBRUZFq3bZt26AoCmprawF4HgRHy5UrV9CrVy+8/vrrms+npKTomu509+7dUBQF//znP1224RV0IqKfF3ZlEosFugYW6EREcpPtFnctY8aMceoPDwBbt26FoijYu3evx/dktVphMpmwevVqj23tmLgREcmNcV4sFugaWKATEclN5CBx3gxGM3fuXKSlpanW5ebmOg0S52kQnNbq6uqQkJCA+fPnOz2Xk5OD2267zeN7AYDq6mooiuLV7YBM3IiI5MY4LxYLdA0s0ImI5CZ6mjW9g+DYp1l74YUXYLFYsHz5cqdp1vQMgjNnzhxUVFTg2LFj+PLLLzF+/Hh06dLFaRCcS5cuITIyUnOu9SNHjmD+/PnYtWsXjh8/jvXr1yM1NRXDhg1DY2Oj7nPAxI2ISG6M82KxQNfAAp2ISG4i47w3g+AAQEVFBYYNG4awsDAkJydrFs+eBsHJzs5GXFwcTCYT4uPjMXnyZHz99ddO2/nzn/+MiIgIzbnNT506hczMTHTr1g1hYWHo378/Zs+ejQsXLnj1/pm4ERHJjXFeLBboGligExHJjXFeHCZuRERyY5wXiwW6BiZuRERyY5wXh4kbEZHcGOfFYoGugYkbEZHcGOfFYeJGRCQ3xnmxWKBrYOJGRCQ3xnlxmLgREcmNcV4sFugamLgREcmNcV4cJm5ERHJjnBeLBboGJm5ERHJjnBeHiRsRkdwY58Viga6BiRsRkdwY58Vh4kZEJDfGebFYoGtg4kZEJDfGeXGYuBERyY1xXiwW6BqYuBERyY1xXhwmbkREcmOcF4sFugYmbkREcmOcF4eJGxGR3BjnxWKBroGJGxGR3BjnxWHiRkQkN8Z5sViga2DiRkQkN8Z5cZi4ERHJjXFeLBboGpi4ERHJjXFeHCZuRERyY5wXiwW6BiZuRERyY5wXh4kbEZHcGOfFYoGugYkbEZHcGOfFYeJGRCQ3xnmxWKBrYOJGRCQ3xnlxmLgREcmNcV4sFugamLgREcmNcV4cJm5ERHJjnBeLBboGJm5ERHJjnBeHiRsRkdwY58Viga6BiRsRkdwY58Vh4kZEJDfGebFYoGtg4kZEJDfGeXGYuBERyY1xXiwW6BqYuBERyY1xXhwmbkREcmOcF4sFugYmbkREcmOcF4eJGxGR3BjnxWKBroGJGxGR3BjnxWHiRkQkN8Z5sViga2DiRkQkN8Z5cZi4ERHJjXFeLBboGpi4ERHJjXFeHCZuRERyY5wXiwW6BiZuRERyY5wXh4kbEZHcGOfFYoGugYkbEZHcGOfFYeJGRCQ3xnmxWKBrYOJGRCQ3xnlxmLgREcmNcV4sFugamLgREcmNcV4cJm5ERHJjnBeLBboGJm5ERHJjnBeHiRsRkdwY58Viga6BiRsRkdwY58Vh4kZEJDfGebFYoGtg4kZEJDfGeXGYuBERyY1xXiwW6BqYuBERyY1xXhwmbkREcmOcF4sFugYmbkREcmOcF4eJGxGR3BjnxWKBroGJGxGR3BjnxWHiRkQkN8Z5sViga2DiRkQkN8Z5cZi4ERHJjXFeLBboGpi4ERHJjXFeHCZuRERyY5wXiwW6BiZuRERyY5wXh4kbEZHcGOfFYoGugYkbEZHcGOfFYeJGRCQ3xnmxWKBrYOJGRCQ3xnlxmLgREcnN1zhfUlKC5ORkhIeHIyMjA1u3bnXbfsWKFRg6dCgiIiIQGxuLxx57DOfPn3c8n5WVBUVRnJb77rvP0cZsNjs936tXL+/ecICxQNfAxI2ISG6M8+KwQCcikpsvcX716tUwmUxYtmwZLBYL8vLyEBUVhZMnT2q2/+KLL9CxY0e8+eabOHbsGL744gsMHjwYkyZNcrS5cOECamtrHcv+/fsREhKC0tJSRxuz2YzBgwer2p09e9bn9x4ILNA1MHEjIpIb47w4LNCJiOTmS5wfMWIEcnNzVetSU1NRUFCg2f61115Dv379VOveeust9O7d2+U+3njjDZi8bVsAAB/NSURBVHTp0gVXrlxxrDObzUhPT9d9nEbAAl0DEzciIrmJjPPe3sJXUVGBjIwMhIeHo2/fvnjnnXec2qxduxZpaWkICwtDWloa1q1bp3pezy18OTk5Tm3+5V/+RdWmrq4Os2bNQvfu3REZGYkJEyZ4XWizQCcikpu3cb6+vh4hISFO312zZ89GZmam5msqKysRFhaG9evXw2q14syZM8jMzMSMGTNc7mfIkCF4+umnVevMZjMiIyMRFxeH5ORkZGdn4+jRo7qOO1hYoGtggU5EJDdRcd7bW/iOHTuGyMhI5OXlwWKxYNmyZTCZTFi7dq2jzfbt2xESEoKioiIcOHAARUVFCA0NxZdffuloo+cWvpycHIwbN07V5sKFC6o2ubm5SEhIwMaNG7Fnzx7cddddSE9PR2Njo+5zwAKdiEhu9jhvsVhw6dIlx1JXV6fZvqamBoqioLKyUrW+sLAQAwcOdLmfNWvWoHPnzggNDYWiKHjggQfQ0NCg2XbHjh1QFAU7duxQrd+wYQPWrl2Lffv2YePGjcjKykKvXr1UfdmNhgW6BhboRERyExXnvb2Fb+7cuUhNTVWtmzFjBkaOHOl4PHXqVIwbN07VZuzYsXjwwQcdj/XcwpeTk4OJEye6fP7ixYswmUxYvXq1Y11NTQ06duyITz/91O22W2KBTkQkN3ucb72YzWbN9vYCffv27ar1CxYsQEpKiuZrvv76a8TFxeHVV1/FV199hU8//RS33HILnnjiCc32zzzzDIYMGeLx2K9cuYJevXrh9ddf99g2WFiga2CBTkQkNxFx3pdb+O68807Mnj1btW7dunUIDQ11XCXo06cPFi1apGqzaNEiJCYmOh7ruYUvJycH0dHRiImJwYABA/DUU0/h+++/dzz/+eefQ1EU/PDDD6rXDR06FH/4wx90ngUW6EREsvP2Crov34+PPPIIpkyZolr3xRdfQFEUnD59WrX+6tWr6Nq1K/70pz/pOv4xY8Y4/THdSFiga2CBTkQkNxFx3pdb+AYMGIDCwkLVusrKSlUCYjKZUFZWpmpTVlaGsLAwx2M9t/CtXr0af/vb31BdXY2PP/4Y6enpGDx4sCOhar1Nu1/96ld45plnXL7vuro6VYJmsVhYoBMRSczXQeJmzpypWpeWlubyDrPJkydj6tSpqnXbt2+HoiioqalRrS8tLUV4eLiu29br6uqQkJCA+fPn6z72QGOBroEFOhGR3EQW6N7cwjdgwAAUFRWp1m3btg2KoqC2thaArUBfuXKlqs2KFSsQHh7u8lj03MJ3+vRpmEwmlJeXA3BdoI8ZM8btoDxaA9SxQCcikldbpllbvnw5LBYL8vPzERUVhRMnTgAACgoK8Oijjzral5aWIjQ0FEuWLMHRo0exbds2DB8+HCNGjHDa9qhRo5Cdna253zlz5qCiogLHjh3Dl19+ifHjx6NLly6O/RoRC3QNLNCJiOQm2y3uWvTcwveLX/wCxcXFAHy/xZ1X0ImIfl587cpUUlKCpKQkhIWFISMjA1u2bHE8l5OTg6ysLFX7t956C4MGDUJERATi4uLw8MMP47vvvlO1OXjwIBRFwWeffaa5z+zsbMTFxcFkMiE+Ph6TJ0/G119/7dVxBxoLdA0s0ImI5CZykDhvbuGbO3cu0tLSVOtyc3OdBom79957VW3GjRunGiSuNT238J0/fx7h4eF4//33ATQPEvfXv/7V0eb06dMcJI6IiFQY58Viga6BBToRkdxET7Om9xY++zRrL7zwAiwWC5YvX+40zVplZSVCQkJQXFyMAwcOoLi42GmaNU+38P3000+YM2cOtm/fjuPHj2Pz5s24/fbbkZCQgMuXLzu2k5ubi969e2PTpk3Ys2cPRo8ezWnWiIhIhXFeLBboGligExHJTWSc9/YWvoqKCgwbNgxhYWFITk7GO++847TNNWvWICUlBSaTCampqY5+43aebuG7du0a7rnnHsTExMBkMiExMRE5OTk4deqUajvXr1/HrFmz0K1bN0RERGD8+PFObTxh4kZEJDfGebFYoGtggU5EJDfGeXGYuBERyY1xXiwW6BqYuBERyY1xXhwmbkREcmOcF4sFugYmbkREcmOcF4eJGxGR3BjnxWKBroGJGxGR3BjnxWHiRkQkN8Z5sViga2DiRkQkN8Z5cZi4ERHJjXFeLBboGpi4ERHJjXFeHCZuRERyY5wXiwW6BiZuRERyY5wXh4kbEZHcGOfFYoGugYkbEZHcGOfFYeJGRCQ3xnmxWKBrYOJGRCQ3xnlxmLgREcmNcV4sFugamLgREcmNcV4cJm5ERHJjnBeLBboGJm5ERHJjnBeHiRsRkdwY58Viga6BiRsRkdwY58Vh4kZEJDfGebGkL9AvX76M4cOHIz09HUOGDMHSpUs9voaJGxGR3BjnxWHiRkQkN8Z5saQv0BsbG3H16lUAwNWrV9G3b1+cP3/e7WuYuBERyY1xXhwmbkREcmOcF0v6Ar2lCxcuIDExEefOnXPbjokbEZHcGOfFYeJGRCQ3xnmxFADYsmULxo8fj7i4OCiKgo8++sjti4qKijB8+HB07twZMTExmDhxIr755hu/H5ze4yopKUFycjLCw8ORkZGBrVu3qp7/8ccfMXToUERERGDx4sUe98vEjYhIbozz4uhJ3KxWKxoaGnD9+nUuQVgaGhpgtVoD+KkgIpmwQBdLAYANGzZg3rx5KC8v11Wgjx07FqWlpdi/fz/27t2L+++/H4mJibhy5YrL12zbtg0NDQ1O6w8cOIDa2lrN1+g5rtWrV8NkMmHZsmWwWCzIy8tDVFQUTp486dT2zJkz+OUvf4kzZ864fX9M3IiI5MY4L46nxK2+vh4nTpyAxWLhEsTlxIkTqK+vD/Cng4hkwAJdLKdb3PUU6K2dPXsWiqJgy5Ytms83NTUhPT0dU6ZMQWNjo2P9wYMHERsbi4ULF3o+UBfHNWLECOTm5qrWpaamoqCgQHM7ubm5+PDDD93ui4kbEZHcGOfFcZe4NTU14ZtvvsHhw4dx8eJFXLt2LehXk39uy7Vr13Dx4kUcPnwY33zzDZqamoLwKSGi9owFulh+KdAPHz4MRVFQXV3tsk1NTQ369++Phx56CE1NTThy5AgSEhLwzDPP6DtQjeOqr69HSEgI1q1bp1o/e/ZsZGZmArBdNbcnYJcuXcKgQYPw1Vdfae5j8eLFSEtLw8CBA5m4ERFJjAW6OO4St+vXr8NisTgGb6XguXr1KiwWC65fvx7sQyGidoYFulhtLtCtVismTJiAUaNGeWx78uRJJCUlITs7G4mJiZg+fbruPlBax1VTUwNFUVBZWalaX1hYiIEDBwIAdu/ejfT0dAwdOhS33HILlixZ4nFfTNyIiOTGOC+OngKdRWHw8WdBRL5igS5Wmwv0Z599FklJSbp/QFu2bIGiKOjXrx9u3Lih/0DdFOjbt29XrV+wYAFSUlJ0b7s1Jm5ERHJjnBeHBXr7wJ8FEfmKBbpYbSrQZ82ahd69e+PYsWO62p85cwYpKSmYMGECYmNjMWvWLP0H6uMt7r5g4kZEJDfGeXFYoLcP/FkQka9YoIvlU4FutVrx3HPPIT4+HocOHdK1o3PnzmHw4MGYNGkSbty4AYvFgp49e2LOnDn6DtTNIHEzZ85UrUtLS3M5SJweTNyIiOTGOC9OQAr0xkZg82Zg5Urbvy0GoBUhJycHiqI4LYcPH3Z6PjQ0FH379sWcOXPczm7jK7PZjPT09DZvhwU6EfmKBbpYCgD89NNPqKqqQlVVFRRFwaJFi1BVVeWYquztt9/G6NGjHS+aOXMmoqOjUVFRgdraWsdy7do1zZ00NTXhtttuw3333aea0mPfvn3o3r07Fi1apPk6T8cFNE+ztnz5clgsFuTn5yMqKgonTpzw+aQwcSMikhvjvDjCC/TycqB3b0BRmpfevW3rBcnJycG4ceNUOU9tba1jZpqWz586dQplZWWIiIhwmmXGHb1TnrFAJ6JgY4EulgIAmzdv1vzLcE5ODgDbl0FSUlLzizTaKoqC0tJSlzv67LPPNL8EqqqqcOrUKc3XeDouu5KSEiQlJSEsLAwZGRkup3vTi4kbEZHcGOfFEVqgl5cDHTqoi3NFsa3r0EFYkZ6Tk4OJEyd69fxTTz2F2NhYl69JSkrCK6+8gpycHHTt2hXTp08HAMydOxcDBgxAREQE+vbti5dffhkNDQ0AgNLSUpe518WLF/H0008jJiYGXbp0wV133YW9e/e63D8LdCLyFQt0sZxucScmbkREsmOcF8erAt1qBa5c0bdcugQkJDgX5y2L9N69be30bE/nLDKAbwX6888/j+7du7t8TVJSErp27YrXXnsNhw8fdtwu/8orr6CyshLHjx/Hxx9/jF69emHhwoUAgGvXrmHOnDkYPHiw6u5Fq9WKO+64AxMmTMCuXbtw6NAhzJkzB927d8eFCxc0988CnYh8xQJdLBboGpi4ERHJjXFeHK8K9CtXXBfcohcv+ofn5OQgJCQEUVFRjmXKlCmq51sW6Dt27ED37t0xdepUl9tMSkrCpEmTPO771VdfxW233eZ4rHWL++eff46uXbuirq5Otb5///7485//rLldFuhE5CsW6GKxQNfAxI2ISG6M8+LIWqCPGTPGcaX78OHDOH36tOp5ewEfHh6Ojh074te//jW+//57l9tMSkrCggULnNavWbMGd9xxB3r16uXYXkxMjON5rQL91VdfRceOHVV/QIiKikLHjh0xd+5czf2zQCciX7FAF4sFugYmbkREcmOcF0fYLe4bNugrvDdsCMot7vYC/sSJE44+4+4kJSXhjTfeUK37xz/+gZCQECxYsMBxq/p//Md/IDo62tFGq0AvLi5GQkKC6g8I9uXcuXOa+2eBTkS+YoEuFgt0DUzciIjkxjgvjrBB4hobbX3MtQaJs/dB79NHyJRrvvRB90SrQP/jH/+Ifv36qdY9+eSTqgK9sLAQQ4YMUbX57LPPEBISguPHj+vePwt0IvIVC3SxWKBrYOJGRCQ3xnlxAjKKe+si3YCjuHuiVaD/z//8D0JDQ7Fq1SocOXIEb775Jrp166Yq0MvKyhAVFYWqqiqcO3cOdXV1sFqtGDVqFNLT0/Hpp5/i+PHjqKysxLx587Br1y7N/bNAJyJfsUAXiwW6BiZuRERyY5wXJyjzoPfpI3we9EAU6ADwu9/9Dt27d0fnzp2RnZ2NN954Q1Wg19XV4Te/+Q1uuukm1TRrly9fxvPPP4/4+HiYTCb06dMHDz/8sMupbFmgE5GvWKCLxQJdAxM3IiK5Mc6LI7xAB2y3sW/eDKxcaftXwG3tsmOBTkS+YoEuFgt0DUzciIjkxjgvTkAKdGoz/iyIyFcs0MViga6BiRsRkdwY58Vhgd4+8GdBRL5igS4WC3QNTNyIiOTGOC8OC/T2gT8LIvIVC3SxWKBrYOJGRCQ3xnlxWKC3D/xZEJGvWKCLxQJdAxM3IiK5Mc6LwwK9feDPgoh8xQJdLBboGpi4ERHJjXFeHD0F+rVr14JwZNTStWvXWKATkU9YoIvFAl0DEzciIrkxzovjLnFrbGyExWLB+fPng3Bk1NL58+dhsVjQyCnqiMhLLNDFYoGugYkbEZHcGOfF8ZS4nT592lGkX7t2DdevX+cSwOXatWuO4vz06dMB/nQQkQxYoIvFAl0DEzciIrkxzovjKXGzWq2OIp1L8JbTp0/DarUG+NNBRDJggS4WC3QNTNyIiOTGOC+O3sStsbEx6FeTf64Lb2snorbwtUAvKSlBcnIywsPDkZGRga1bt7ptv2LFCgwdOhQRERGIjY3FY489puoiVVpaCkVRnJbr19Vja3i732Bjga6BiRsRkdwY58XhlRUiIrn5EudXr14Nk8mEZcuWwWKxIC8vD1FRUTh58qRm+y+++AIdO3bEm2++iWPHjuGLL77A4MGDMWnSJEeb0tJSdO3aFbW1taqlLfs1AhboGpi4ERHJjXFeHBboRERy8yXOjxgxArm5uap1qampKCgo0Gz/2muvoV+/fqp1b731Fnr37u14XFpaiujoaL/u1whYoGtg4kZEJDfGeXFYoBMRyc0e5y0WCy5duuRY6urqNNvX19cjJCQE69atU62fPXs2MjMzNV9TWVmJsLAwrF+/HlarFWfOnEFmZiZmzJjhaFNaWoqQkBAkJiYiISEB999/P/bs2dOm/RoBC3QNTNyIiOTGOC8OC3QiIrnZ43zrxWw2a7avqamBoiiorKxUrS8sLMTAgQNd7mfNmjXo3LkzQkNDoSgKHnjgATQ0NDie/8c//oEPPvgAe/fuxdatW/Gb3/wGEREROHToUJv2G2ws0DVcvHjRkVy0/KsQFy5cuHCRY7EnFxcvXgz2V450Tp48CUVRsHPnTnz77bdcuHDhwkWyZefOnVAUBfv371d9t7q6gm4vlLdv365av2DBAqSkpGi+5uuvv0ZcXBxeffVVfPXVV/j0009xyy234IknnnD5/dPU1IT09HQ8//zzPu/XCFiga/j2W+2/CnHhwoULF7mWb7/lVV5/syduXLhw4cJF7mXnzp26vhd8udX8kUcewZQpU1TrvvjiCyiKgtOnT7vc11NPPYVx48b5vF8jYIGuoampCRaLBYrCq+jeXo3i+eL54rni+WoPy8WLF/Htt9+iqakp2F850rlx4wZ27tyJ/fv3Q1FsfRSDfbXH6Is95+C54vni+eK5ag/LyZMnsXPnTty4cUP3d8OIESMwc+ZM1bq0tDSXg7VNnjwZU6dOVa3bvn07FEVBTU2N5musViuGDx+Oxx9/3Of9GgELdBcuXWL/RG/wfHmH50s/nivv8HyRUfCzqB/PlXd4vrzD86Ufz5U49unOli9fDovFgvz8fERFReHEiRMAgIKCAjz66KOO9qWlpQgNDcWSJUtw9OhRbNu2DcOHD8eIESMcbf793/8dn376KY4ePYqqqio8/vjjCA0NxY4dO3Tv14hYoLvAX1Dv8Hx5h+dLP54r7/B8kVHws6gfz5V3eL68w/OlH8+VWCUlJUhKSkJYWBgyMjKwZcsWx3M5OTnIyspStX/rrbcwaNAgREREIC4uDg8//DC+++47x/P5+flITExEWFgYYmJicM899zj1N/e0XyNige4Cf0G9w/PlHZ4v/XiuvMPzRUbBz6J+PFfe4fnyDs+XfjxXZAQs0F2oq6uD2Wx2ORohqfF8eYfnSz+eK+/wfJFR8LOoH8+Vd3i+vMPzpR/PFRkBC3QiIiIiIiIiA2CBTkRERERERGQALNCJiIiIiIiIDIAFOhEREREREZEBsEB3oaSkBMnJyQgPD0dGRga2bt0a7EMKuqKiIgwfPhydO3dGTEwMJk6ciG+++UbVxmq1wmw2Iy4uDp06dUJWVhb2798fpCM2lqKiIiiKgry8PMc6ni+17777Dg8//DC6deuGiIgIpKenY/fu3Y7neb5sbty4gXnz5iE5ORmdOnVC3759MX/+fDQ1NTna8FxRMPE71Bm/Q9uG36Ge8TtUH36HktGxQNdgn9B+2bJlsFgsyMvLQ1RUFE6ePBnsQwuqsWPHorS0FPv378fevXtx//33IzExEVeuXHG0KS4uRpcuXVBeXo7q6mpkZ2cjLi4Oly9fDuKRB9/OnTuRnJyMoUOHqpILnq9mP/zwA5KSkvDYY49hx44dOH78ODZt2oQjR4442vB82SxYsADdu3fH3/72Nxw/fhxr1qxB586d8ac//cnRhueKgoXfodr4Heo7fod6xu9Q/fgdSkbHAl3DiBEjkJubq1qXmpqKgoKCIB2RMZ09exaKomDLli0AbH9tjI2NRXFxsaNNXV0doqOj8e677wbrMIPup59+woABA7Bx40ZkZWU5kgueL7UXX3wRo0aNcvk8z1ez+++/H0888YRq3eTJk/HII48A4Lmi4OJ3qD78DtWH36H68DtUP36HktGxQG+lvr4eISEhWLdunWr97NmzkZmZGaSjMqbDhw9DURRUV1cDAI4ePQpFUbBnzx5VuwceeADTp08PxiEawvTp05Gfnw8AquSC50stLS0N+fn5mDJlCmJiYnDrrbdi6dKljud5vpr953/+J5KSknDw4EEAwN69e9GzZ0+sXLkSAM8VBQ+/Q/Xjd6g+/A7Vh9+h+vE7lIyOBXorNTU1UBQFlZWVqvWFhYUYOHBgkI7KeKxWKyZMmKD6a21lZSUURUFNTY2q7dNPP4177rkn0IdoCKtWrcKQIUNw/fp1AOrkgudLLTw8HOHh4XjppZewZ88evPvuu+jUqRPef/99ADxfLVmtVhQUFKBDhw4IDQ1Fhw4dUFRU5Hie54qChd+h+vA7VB9+h+rH71D9+B1KRscCvRV7crF9+3bV+gULFiAlJSVIR2U8zz77LJKSkvDtt9861tkD2unTp1Vtn3rqKYwdOzbQhxh0p06dQs+ePbF3717HOq3kgufLxmQy4fbbb1ete/755zFy5EgAPF8trVq1Cr1798aqVauwb98+/Pd//ze6deuG9957DwDPFQUPv0P14XeoZ/wO9Q6/Q/XjdygZHQv0Vnh7nmezZs1C7969cezYMdV63hKk9tFHH0FRFISEhDgWRVHQoUMHhISE4MiRIzxfLSQmJuLJJ59UrVuyZAni4+MB8PPVUu/evbF48WLVuldeecVRAPFcUbDwO9Qzfofqw+9Q7/A7VD9+h5LRsUDXMGLECMycOVO1Li0t7Wc/wI3VasVzzz2H+Ph4HDp0SPP52NhYLFy40LGuvr7+ZzuoxuXLl1FdXa1ahg8fjkceeQTV1dU8X61MmzbNaYCb/Px8xxUBnq9m3bp1w5IlS1TrioqKMGDAAAA8VxRc/A7Vxu9Q7/A71Dv8DtWP36FkdCzQNdiniFm+fDksFgvy8/MRFRWFEydOBPvQgmrmzJmIjo5GRUUFamtrHcu1a9ccbYqLixEdHY1169ahuroa06ZN47QULbS8PQ/g+Wpp586dCA0NRWFhIQ4fPoyysjJERkZixYoVjjY8XzY5OTlISEhwTBGzbt069OjRA3PnznW04bmiYOF3qDZ+h7Ydv0Nd43eofvwOJaNjge5CSUkJkpKSEBYWhoyMDMc0KD9niqJoLqWlpY42VqsVZrMZsbGxCA8PR2ZmpmOEWnJOLni+1D755BMMGTIE4eHhSE1NVY1AC/B82V2+fBl5eXlITExEp06d0K9fP8ybNw/19fWONjxXFEz8DnXG79C243eoe/wO1YffoWR0LNCJiIiIiIiIDIAFOhEREREREZEBsEAnIiIiIiIiMgAW6EREREREREQGwAKdiIiIiIiIyABYoBMREREREREZAAt0IiIiIiIiIgNggU5ERERERERkACzQiYiIiIiIiAyABToR6aYoCj766KNgHwYREVG7xO9RIvKEBTpRO5GTkwNFUZyWsWPHBuwYmFgQEVF7xe9RImoPWKATtRM5OTkYN24camtrVcsPP/wQsGNgYkFERO0Vv0eJqD1ggU70/9q7l1f4/jiO4wfhTG5hFki5pMSGFZYUZUHEjsXJQpGIZOWy4A9wKZNMbhvKCoWFKMqGbNxqTLF1ieSyfv0WMv3m5+tn+PHrHD0fdWpOn3PfvN+v6dM5DmFZlmpqat4dNwxDHo9HlZWVMk1TmZmZWlxcDNrm8PBQZWVlMk1TSUlJam5u1uPjY9A2U1NTys/PV1RUlFJSUtTW1hZ0Dq/Xq9raWrlcLuXk5Gh5eTkwfnd3p4aGBrndbpmmqZycHE1PT3/TEwAA4OuoowCcgIAOOEQojUVycrK8Xq98Pp/6+voUERGh09NTSdLz87PS0tJUV1eno6MjbW5uKisrS5ZlBY7h8XhkmqZGRkbk8/m0t7en4eHhoHOkp6drfn5efr9fHR0dio2N1e3trSSpra1NhYWF2t/f18XFhTY2NrSysvIzDwQAgE+gjgJwAgI64BCWZSkiIkIxMTFBy+DgoKSXot/S0hK0T3FxsVpbWyVJk5OTSkxM1NPTU2B8dXVV4eHhury8lCSlpaWpt7f33WswDEN9fX2B9aenJ4WFhWl9fV2SVF1draampu+5YQAAvhF1FIATENABh7AsS+Xl5fL7/UHL67/uhmFobm4uaJ/Ozk6VlpZKkrq6ugK/X93f38swDG1vb+vq6kqGYWhra+vdazAM4810v/j4+MB519bW5HK5VFBQoJ6eHu3u7v7n+wYA4DtQRwE4AQEdcIhQpub9qbEoKyt78/vVa2Oxs7Ojh4eHkBqLf77cJiEhQTMzM4H16+trzczMqLGxUaZpqru7O9RbBADgx1BHATgBAR1wiFAai9dpeK9KSko+NTUvMzPzw6l5HzUWfzcxMaG4uLh/vS8AAP4P1FEATkBABxzivc/D3NzcSHop+m63W1NTU/L5fBoYGFB4eLhOTk4kvbzcJjU1VfX19To6OtLW1pays7ODXm4zOzsr0zQ1Ojqqs7MzHRwcaGxsLDD+UWPR39+vpaUl+f1+HR8fq6qqSkVFRT/7YAAACAF1FIATENABh7AsS4ZhvFlyc3MlvRT98fFxVVRUKDo6WhkZGVpYWAg6Riifh5mYmFBubq4iIyOVmpqq9vb2wNhHjcXQ0JDy8vLkcrmUlJSkmpoanZ+f/8DTAADgc6ijAJyAgA78En8q+gAAIDTUUQB2QEAHfgkaCwAAvo46CsAOCOjAL0FjAQDA11FHAdgBAR0AAAAAABsgoAMAAAAAYAMEdAAAAAAAbICADgAAAACADRDQAQAAAACwAQI6AAAAAAA2QEAHAAAAAMAGCOgAAAAAANgAAR0AAAAAABsgoAMAAAAAYAMEdAAAAAAAbICADgAAAACADRDQAQAAAACwAQI6AAAAAAA2QEAHAAAAAMAG/gIPRC8Y2u33YgAAAABJRU5ErkJggg==\" width=\"1000\">"
      ],
      "text/plain": [
       "<IPython.core.display.HTML object>"
      ]
     },
     "metadata": {},
     "output_type": "display_data"
    }
   ],
   "source": [
    "ax, tax, lax, lines = dual_train_plots()\n",
    "fig = ax.figure\n",
    "plt.tight_layout()\n",
    "# This gets built up during the run - do not rerun this cell\n",
    "results = pd.DataFrame([], columns=Results._fields)"
   ]
  },
  {
   "cell_type": "code",
   "execution_count": 12,
   "metadata": {
    "scrolled": false
   },
   "outputs": [
    {
     "name": "stdout",
     "output_type": "stream",
     "text": [
      "for model:  ACN_2i4_10L_4S_BN_NI(\n",
      "  (conv1): Conv(\n",
      "    (0): Conv1d(1, 20, kernel_size=(25,), stride=(1,), padding=(12,))\n",
      "    (1): BatchNorm1d(20, eps=1e-05, momentum=0.1, affine=True, track_running_stats=True)\n",
      "    (2): Dropout(p=0.15, inplace=False)\n",
      "    (3): LeakyReLU(negative_slope=0.01)\n",
      "  )\n",
      "  (conv2): Conv(\n",
      "    (0): Conv1d(20, 10, kernel_size=(15,), stride=(1,), padding=(7,))\n",
      "    (1): BatchNorm1d(10, eps=1e-05, momentum=0.1, affine=True, track_running_stats=True)\n",
      "    (2): Dropout(p=0.15, inplace=False)\n",
      "    (3): LeakyReLU(negative_slope=0.01)\n",
      "  )\n",
      "  (conv3): Conv(\n",
      "    (0): Conv1d(30, 10, kernel_size=(15,), stride=(1,), padding=(7,))\n",
      "    (1): BatchNorm1d(10, eps=1e-05, momentum=0.1, affine=True, track_running_stats=True)\n",
      "    (2): Dropout(p=0.15, inplace=False)\n",
      "    (3): LeakyReLU(negative_slope=0.01)\n",
      "  )\n",
      "  (conv4): Conv(\n",
      "    (0): Conv1d(10, 10, kernel_size=(15,), stride=(1,), padding=(7,))\n",
      "    (1): BatchNorm1d(10, eps=1e-05, momentum=0.1, affine=True, track_running_stats=True)\n",
      "    (2): Dropout(p=0.15, inplace=False)\n",
      "    (3): LeakyReLU(negative_slope=0.01)\n",
      "  )\n",
      "  (conv5): Conv(\n",
      "    (0): Conv1d(20, 10, kernel_size=(15,), stride=(1,), padding=(7,))\n",
      "    (1): BatchNorm1d(10, eps=1e-05, momentum=0.1, affine=True, track_running_stats=True)\n",
      "    (2): Dropout(p=0.15, inplace=False)\n",
      "    (3): LeakyReLU(negative_slope=0.01)\n",
      "  )\n",
      "  (conv6): Conv(\n",
      "    (0): Conv1d(10, 10, kernel_size=(15,), stride=(1,), padding=(7,))\n",
      "    (1): BatchNorm1d(10, eps=1e-05, momentum=0.1, affine=True, track_running_stats=True)\n",
      "    (2): Dropout(p=0.15, inplace=False)\n",
      "    (3): LeakyReLU(negative_slope=0.01)\n",
      "  )\n",
      "  (conv7): Conv(\n",
      "    (0): Conv1d(20, 7, kernel_size=(15,), stride=(1,), padding=(7,))\n",
      "    (1): BatchNorm1d(7, eps=1e-05, momentum=0.1, affine=True, track_running_stats=True)\n",
      "    (2): Dropout(p=0.15, inplace=False)\n",
      "    (3): LeakyReLU(negative_slope=0.01)\n",
      "  )\n",
      "  (conv8): Conv(\n",
      "    (0): Conv1d(7, 5, kernel_size=(9,), stride=(1,), padding=(4,))\n",
      "    (1): BatchNorm1d(5, eps=1e-05, momentum=0.1, affine=True, track_running_stats=True)\n",
      "    (2): Dropout(p=0.15, inplace=False)\n",
      "    (3): LeakyReLU(negative_slope=0.01)\n",
      "  )\n",
      "  (conv9): Conv(\n",
      "    (0): Conv1d(12, 1, kernel_size=(5,), stride=(1,), padding=(2,))\n",
      "    (1): BatchNorm1d(1, eps=1e-05, momentum=0.1, affine=True, track_running_stats=True)\n",
      "    (2): Dropout(p=0.15, inplace=False)\n",
      "    (3): LeakyReLU(negative_slope=0.01)\n",
      "  )\n",
      "  (conv10): Conv(\n",
      "    (0): Conv1d(1, 1, kernel_size=(91,), stride=(1,), padding=(45,))\n",
      "    (1): BatchNorm1d(1, eps=1e-05, momentum=0.1, affine=True, track_running_stats=True)\n",
      "    (2): Dropout(p=0.15, inplace=False)\n",
      "    (3): LeakyReLU(negative_slope=0.01)\n",
      "  )\n",
      ")\n",
      "epoch_start 100\n",
      "batch_size 128\n",
      "epochs 100\n",
      "lr 1e-06\n",
      "Number of batches: train = 1875, val = 78\n"
     ]
    },
    {
     "name": "stderr",
     "output_type": "stream",
     "text": [
      "/home/michael24peters/pv-finder/notebooks/model/training.py:95: TqdmDeprecationWarning: This function will be removed in tqdm==5.0.0\n",
      "Please use `tqdm.notebook.tqdm` instead of `tqdm.tqdm_notebook`\n",
      "  file=sys.stderr,\n"
     ]
    },
    {
     "data": {
      "application/vnd.jupyter.widget-view+json": {
       "model_id": "db8753063aa944858c8c47ee2850da2c",
       "version_major": 2,
       "version_minor": 0
      },
      "text/plain": [
       "HBox(children=(FloatProgress(value=0.0, description='Epochs', layout=Layout(flex='2'), style=ProgressStyle(des…"
      ]
     },
     "metadata": {},
     "output_type": "display_data"
    },
    {
     "data": {
      "application/vnd.jupyter.widget-view+json": {
       "model_id": "",
       "version_major": 2,
       "version_minor": 0
      },
      "text/plain": [
       "HBox(children=(FloatProgress(value=0.0, description='Training', layout=Layout(flex='2'), max=1875.0, style=Pro…"
      ]
     },
     "metadata": {},
     "output_type": "display_data"
    },
    {
     "name": "stdout",
     "output_type": "stream",
     "text": [
      "Epoch 100: train=1325.11, val=1320.51, took 78.905 s\n",
      "  Validation Found 348 of 54504, added 9424 (eff 0.64%) (0.944 FP/event)\n"
     ]
    },
    {
     "data": {
      "application/vnd.jupyter.widget-view+json": {
       "model_id": "",
       "version_major": 2,
       "version_minor": 0
      },
      "text/plain": [
       "HBox(children=(FloatProgress(value=0.0, description='Training', layout=Layout(flex='2'), max=1875.0, style=Pro…"
      ]
     },
     "metadata": {},
     "output_type": "display_data"
    },
    {
     "name": "stdout",
     "output_type": "stream",
     "text": [
      "Epoch 101: train=1320.97, val=1318.44, took 78.534 s\n",
      "  Validation Found 359 of 54504, added 9442 (eff 0.66%) (0.946 FP/event)\n"
     ]
    },
    {
     "data": {
      "application/vnd.jupyter.widget-view+json": {
       "model_id": "",
       "version_major": 2,
       "version_minor": 0
      },
      "text/plain": [
       "HBox(children=(FloatProgress(value=0.0, description='Training', layout=Layout(flex='2'), max=1875.0, style=Pro…"
      ]
     },
     "metadata": {},
     "output_type": "display_data"
    },
    {
     "name": "stdout",
     "output_type": "stream",
     "text": [
      "Epoch 102: train=1319.25, val=1316.95, took 78.987 s\n",
      "  Validation Found 358 of 54504, added 9458 (eff 0.66%) (0.947 FP/event)\n"
     ]
    },
    {
     "data": {
      "application/vnd.jupyter.widget-view+json": {
       "model_id": "",
       "version_major": 2,
       "version_minor": 0
      },
      "text/plain": [
       "HBox(children=(FloatProgress(value=0.0, description='Training', layout=Layout(flex='2'), max=1875.0, style=Pro…"
      ]
     },
     "metadata": {},
     "output_type": "display_data"
    },
    {
     "name": "stdout",
     "output_type": "stream",
     "text": [
      "Epoch 103: train=1317.95, val=1315.94, took 78.555 s\n",
      "  Validation Found 360 of 54504, added 9434 (eff 0.66%) (0.945 FP/event)\n"
     ]
    },
    {
     "data": {
      "application/vnd.jupyter.widget-view+json": {
       "model_id": "",
       "version_major": 2,
       "version_minor": 0
      },
      "text/plain": [
       "HBox(children=(FloatProgress(value=0.0, description='Training', layout=Layout(flex='2'), max=1875.0, style=Pro…"
      ]
     },
     "metadata": {},
     "output_type": "display_data"
    },
    {
     "name": "stdout",
     "output_type": "stream",
     "text": [
      "Epoch 104: train=1317.29, val=1315.6, took 79.746 s\n",
      "  Validation Found 347 of 54504, added 9433 (eff 0.64%) (0.945 FP/event)\n"
     ]
    },
    {
     "data": {
      "application/vnd.jupyter.widget-view+json": {
       "model_id": "",
       "version_major": 2,
       "version_minor": 0
      },
      "text/plain": [
       "HBox(children=(FloatProgress(value=0.0, description='Training', layout=Layout(flex='2'), max=1875.0, style=Pro…"
      ]
     },
     "metadata": {},
     "output_type": "display_data"
    },
    {
     "name": "stdout",
     "output_type": "stream",
     "text": [
      "Epoch 105: train=1316.97, val=1315.42, took 78.591 s\n",
      "  Validation Found 341 of 54504, added 9452 (eff 0.63%) (0.947 FP/event)\n"
     ]
    },
    {
     "data": {
      "application/vnd.jupyter.widget-view+json": {
       "model_id": "",
       "version_major": 2,
       "version_minor": 0
      },
      "text/plain": [
       "HBox(children=(FloatProgress(value=0.0, description='Training', layout=Layout(flex='2'), max=1875.0, style=Pro…"
      ]
     },
     "metadata": {},
     "output_type": "display_data"
    },
    {
     "name": "stdout",
     "output_type": "stream",
     "text": [
      "Epoch 106: train=1316.77, val=1315.33, took 78.77 s\n",
      "  Validation Found 335 of 54504, added 9459 (eff 0.61%) (0.947 FP/event)\n"
     ]
    },
    {
     "data": {
      "application/vnd.jupyter.widget-view+json": {
       "model_id": "",
       "version_major": 2,
       "version_minor": 0
      },
      "text/plain": [
       "HBox(children=(FloatProgress(value=0.0, description='Training', layout=Layout(flex='2'), max=1875.0, style=Pro…"
      ]
     },
     "metadata": {},
     "output_type": "display_data"
    },
    {
     "name": "stdout",
     "output_type": "stream",
     "text": [
      "Epoch 107: train=1316.64, val=1315.18, took 78.447 s\n",
      "  Validation Found 330 of 54504, added 9467 (eff 0.61%) (0.948 FP/event)\n"
     ]
    },
    {
     "data": {
      "application/vnd.jupyter.widget-view+json": {
       "model_id": "",
       "version_major": 2,
       "version_minor": 0
      },
      "text/plain": [
       "HBox(children=(FloatProgress(value=0.0, description='Training', layout=Layout(flex='2'), max=1875.0, style=Pro…"
      ]
     },
     "metadata": {},
     "output_type": "display_data"
    },
    {
     "name": "stdout",
     "output_type": "stream",
     "text": [
      "Epoch 108: train=1316.54, val=1315.08, took 78.271 s\n",
      "  Validation Found 328 of 54504, added 9463 (eff 0.60%) (0.948 FP/event)\n"
     ]
    },
    {
     "data": {
      "application/vnd.jupyter.widget-view+json": {
       "model_id": "",
       "version_major": 2,
       "version_minor": 0
      },
      "text/plain": [
       "HBox(children=(FloatProgress(value=0.0, description='Training', layout=Layout(flex='2'), max=1875.0, style=Pro…"
      ]
     },
     "metadata": {},
     "output_type": "display_data"
    },
    {
     "name": "stdout",
     "output_type": "stream",
     "text": [
      "Epoch 109: train=1316.47, val=1315.09, took 78.882 s\n",
      "  Validation Found 332 of 54504, added 9459 (eff 0.61%) (0.947 FP/event)\n"
     ]
    },
    {
     "data": {
      "application/vnd.jupyter.widget-view+json": {
       "model_id": "",
       "version_major": 2,
       "version_minor": 0
      },
      "text/plain": [
       "HBox(children=(FloatProgress(value=0.0, description='Training', layout=Layout(flex='2'), max=1875.0, style=Pro…"
      ]
     },
     "metadata": {},
     "output_type": "display_data"
    },
    {
     "name": "stdout",
     "output_type": "stream",
     "text": [
      "Epoch 110: train=1316.41, val=1315.01, took 78.203 s\n",
      "  Validation Found 318 of 54504, added 9471 (eff 0.58%) (0.949 FP/event)\n"
     ]
    },
    {
     "data": {
      "application/vnd.jupyter.widget-view+json": {
       "model_id": "",
       "version_major": 2,
       "version_minor": 0
      },
      "text/plain": [
       "HBox(children=(FloatProgress(value=0.0, description='Training', layout=Layout(flex='2'), max=1875.0, style=Pro…"
      ]
     },
     "metadata": {},
     "output_type": "display_data"
    },
    {
     "name": "stdout",
     "output_type": "stream",
     "text": [
      "Epoch 111: train=1316.37, val=1314.97, took 78.194 s\n",
      "  Validation Found 321 of 54504, added 9468 (eff 0.59%) (0.948 FP/event)\n"
     ]
    },
    {
     "data": {
      "application/vnd.jupyter.widget-view+json": {
       "model_id": "",
       "version_major": 2,
       "version_minor": 0
      },
      "text/plain": [
       "HBox(children=(FloatProgress(value=0.0, description='Training', layout=Layout(flex='2'), max=1875.0, style=Pro…"
      ]
     },
     "metadata": {},
     "output_type": "display_data"
    },
    {
     "name": "stdout",
     "output_type": "stream",
     "text": [
      "Epoch 112: train=1316.34, val=1314.95, took 78.174 s\n",
      "  Validation Found 332 of 54504, added 9459 (eff 0.61%) (0.947 FP/event)\n"
     ]
    },
    {
     "data": {
      "application/vnd.jupyter.widget-view+json": {
       "model_id": "",
       "version_major": 2,
       "version_minor": 0
      },
      "text/plain": [
       "HBox(children=(FloatProgress(value=0.0, description='Training', layout=Layout(flex='2'), max=1875.0, style=Pro…"
      ]
     },
     "metadata": {},
     "output_type": "display_data"
    },
    {
     "name": "stdout",
     "output_type": "stream",
     "text": [
      "Epoch 113: train=1316.32, val=1314.94, took 78.583 s\n",
      "  Validation Found 328 of 54504, added 9460 (eff 0.60%) (0.947 FP/event)\n"
     ]
    },
    {
     "data": {
      "application/vnd.jupyter.widget-view+json": {
       "model_id": "",
       "version_major": 2,
       "version_minor": 0
      },
      "text/plain": [
       "HBox(children=(FloatProgress(value=0.0, description='Training', layout=Layout(flex='2'), max=1875.0, style=Pro…"
      ]
     },
     "metadata": {},
     "output_type": "display_data"
    },
    {
     "name": "stdout",
     "output_type": "stream",
     "text": [
      "Epoch 114: train=1316.3, val=1314.92, took 78.168 s\n",
      "  Validation Found 326 of 54504, added 9462 (eff 0.60%) (0.948 FP/event)\n"
     ]
    },
    {
     "data": {
      "application/vnd.jupyter.widget-view+json": {
       "model_id": "",
       "version_major": 2,
       "version_minor": 0
      },
      "text/plain": [
       "HBox(children=(FloatProgress(value=0.0, description='Training', layout=Layout(flex='2'), max=1875.0, style=Pro…"
      ]
     },
     "metadata": {},
     "output_type": "display_data"
    },
    {
     "name": "stdout",
     "output_type": "stream",
     "text": [
      "Epoch 115: train=1316.28, val=1314.92, took 78.621 s\n",
      "  Validation Found 327 of 54504, added 9460 (eff 0.60%) (0.947 FP/event)\n"
     ]
    },
    {
     "data": {
      "application/vnd.jupyter.widget-view+json": {
       "model_id": "",
       "version_major": 2,
       "version_minor": 0
      },
      "text/plain": [
       "HBox(children=(FloatProgress(value=0.0, description='Training', layout=Layout(flex='2'), max=1875.0, style=Pro…"
      ]
     },
     "metadata": {},
     "output_type": "display_data"
    },
    {
     "name": "stdout",
     "output_type": "stream",
     "text": [
      "Epoch 116: train=1316.27, val=1314.9, took 78.188 s\n",
      "  Validation Found 323 of 54504, added 9467 (eff 0.59%) (0.948 FP/event)\n"
     ]
    },
    {
     "data": {
      "application/vnd.jupyter.widget-view+json": {
       "model_id": "",
       "version_major": 2,
       "version_minor": 0
      },
      "text/plain": [
       "HBox(children=(FloatProgress(value=0.0, description='Training', layout=Layout(flex='2'), max=1875.0, style=Pro…"
      ]
     },
     "metadata": {},
     "output_type": "display_data"
    },
    {
     "name": "stdout",
     "output_type": "stream",
     "text": [
      "Epoch 117: train=1316.26, val=1314.88, took 79.438 s\n",
      "  Validation Found 327 of 54504, added 9457 (eff 0.60%) (0.947 FP/event)\n"
     ]
    },
    {
     "data": {
      "application/vnd.jupyter.widget-view+json": {
       "model_id": "",
       "version_major": 2,
       "version_minor": 0
      },
      "text/plain": [
       "HBox(children=(FloatProgress(value=0.0, description='Training', layout=Layout(flex='2'), max=1875.0, style=Pro…"
      ]
     },
     "metadata": {},
     "output_type": "display_data"
    },
    {
     "name": "stdout",
     "output_type": "stream",
     "text": [
      "Epoch 118: train=1316.26, val=1314.89, took 78.278 s\n",
      "  Validation Found 330 of 54504, added 9458 (eff 0.61%) (0.947 FP/event)\n"
     ]
    },
    {
     "data": {
      "application/vnd.jupyter.widget-view+json": {
       "model_id": "",
       "version_major": 2,
       "version_minor": 0
      },
      "text/plain": [
       "HBox(children=(FloatProgress(value=0.0, description='Training', layout=Layout(flex='2'), max=1875.0, style=Pro…"
      ]
     },
     "metadata": {},
     "output_type": "display_data"
    },
    {
     "name": "stdout",
     "output_type": "stream",
     "text": [
      "Epoch 119: train=1316.25, val=1314.89, took 79.307 s\n",
      "  Validation Found 328 of 54504, added 9459 (eff 0.60%) (0.947 FP/event)\n"
     ]
    },
    {
     "data": {
      "application/vnd.jupyter.widget-view+json": {
       "model_id": "",
       "version_major": 2,
       "version_minor": 0
      },
      "text/plain": [
       "HBox(children=(FloatProgress(value=0.0, description='Training', layout=Layout(flex='2'), max=1875.0, style=Pro…"
      ]
     },
     "metadata": {},
     "output_type": "display_data"
    },
    {
     "name": "stdout",
     "output_type": "stream",
     "text": [
      "Epoch 120: train=1316.23, val=1314.88, took 78.317 s\n",
      "  Validation Found 327 of 54504, added 9467 (eff 0.60%) (0.948 FP/event)\n"
     ]
    },
    {
     "data": {
      "application/vnd.jupyter.widget-view+json": {
       "model_id": "",
       "version_major": 2,
       "version_minor": 0
      },
      "text/plain": [
       "HBox(children=(FloatProgress(value=0.0, description='Training', layout=Layout(flex='2'), max=1875.0, style=Pro…"
      ]
     },
     "metadata": {},
     "output_type": "display_data"
    },
    {
     "name": "stdout",
     "output_type": "stream",
     "text": [
      "Epoch 121: train=1316.23, val=1314.88, took 78.81 s\n",
      "  Validation Found 326 of 54504, added 9475 (eff 0.60%) (0.949 FP/event)\n"
     ]
    },
    {
     "data": {
      "application/vnd.jupyter.widget-view+json": {
       "model_id": "",
       "version_major": 2,
       "version_minor": 0
      },
      "text/plain": [
       "HBox(children=(FloatProgress(value=0.0, description='Training', layout=Layout(flex='2'), max=1875.0, style=Pro…"
      ]
     },
     "metadata": {},
     "output_type": "display_data"
    },
    {
     "name": "stdout",
     "output_type": "stream",
     "text": [
      "Epoch 122: train=1316.22, val=1314.87, took 78.705 s\n",
      "  Validation Found 326 of 54504, added 9470 (eff 0.60%) (0.948 FP/event)\n"
     ]
    },
    {
     "data": {
      "application/vnd.jupyter.widget-view+json": {
       "model_id": "",
       "version_major": 2,
       "version_minor": 0
      },
      "text/plain": [
       "HBox(children=(FloatProgress(value=0.0, description='Training', layout=Layout(flex='2'), max=1875.0, style=Pro…"
      ]
     },
     "metadata": {},
     "output_type": "display_data"
    },
    {
     "name": "stdout",
     "output_type": "stream",
     "text": [
      "Epoch 123: train=1316.21, val=1314.86, took 78.204 s\n",
      "  Validation Found 324 of 54504, added 9459 (eff 0.59%) (0.947 FP/event)\n"
     ]
    },
    {
     "data": {
      "application/vnd.jupyter.widget-view+json": {
       "model_id": "",
       "version_major": 2,
       "version_minor": 0
      },
      "text/plain": [
       "HBox(children=(FloatProgress(value=0.0, description='Training', layout=Layout(flex='2'), max=1875.0, style=Pro…"
      ]
     },
     "metadata": {},
     "output_type": "display_data"
    },
    {
     "name": "stdout",
     "output_type": "stream",
     "text": [
      "Epoch 124: train=1316.21, val=1314.86, took 78.224 s\n",
      "  Validation Found 319 of 54504, added 9477 (eff 0.59%) (0.949 FP/event)\n"
     ]
    },
    {
     "data": {
      "application/vnd.jupyter.widget-view+json": {
       "model_id": "",
       "version_major": 2,
       "version_minor": 0
      },
      "text/plain": [
       "HBox(children=(FloatProgress(value=0.0, description='Training', layout=Layout(flex='2'), max=1875.0, style=Pro…"
      ]
     },
     "metadata": {},
     "output_type": "display_data"
    },
    {
     "name": "stdout",
     "output_type": "stream",
     "text": [
      "Epoch 125: train=1316.2, val=1314.85, took 78.832 s\n",
      "  Validation Found 323 of 54504, added 9476 (eff 0.59%) (0.949 FP/event)\n"
     ]
    },
    {
     "data": {
      "application/vnd.jupyter.widget-view+json": {
       "model_id": "",
       "version_major": 2,
       "version_minor": 0
      },
      "text/plain": [
       "HBox(children=(FloatProgress(value=0.0, description='Training', layout=Layout(flex='2'), max=1875.0, style=Pro…"
      ]
     },
     "metadata": {},
     "output_type": "display_data"
    },
    {
     "name": "stdout",
     "output_type": "stream",
     "text": [
      "Epoch 126: train=1316.19, val=1314.85, took 78.497 s\n",
      "  Validation Found 322 of 54504, added 9465 (eff 0.59%) (0.948 FP/event)\n"
     ]
    },
    {
     "data": {
      "application/vnd.jupyter.widget-view+json": {
       "model_id": "",
       "version_major": 2,
       "version_minor": 0
      },
      "text/plain": [
       "HBox(children=(FloatProgress(value=0.0, description='Training', layout=Layout(flex='2'), max=1875.0, style=Pro…"
      ]
     },
     "metadata": {},
     "output_type": "display_data"
    },
    {
     "name": "stdout",
     "output_type": "stream",
     "text": [
      "Epoch 127: train=1316.19, val=1314.84, took 79.041 s\n",
      "  Validation Found 322 of 54504, added 9473 (eff 0.59%) (0.949 FP/event)\n"
     ]
    },
    {
     "data": {
      "application/vnd.jupyter.widget-view+json": {
       "model_id": "",
       "version_major": 2,
       "version_minor": 0
      },
      "text/plain": [
       "HBox(children=(FloatProgress(value=0.0, description='Training', layout=Layout(flex='2'), max=1875.0, style=Pro…"
      ]
     },
     "metadata": {},
     "output_type": "display_data"
    },
    {
     "name": "stdout",
     "output_type": "stream",
     "text": [
      "Epoch 128: train=1316.18, val=1314.84, took 80.335 s\n",
      "  Validation Found 322 of 54504, added 9476 (eff 0.59%) (0.949 FP/event)\n"
     ]
    },
    {
     "data": {
      "application/vnd.jupyter.widget-view+json": {
       "model_id": "",
       "version_major": 2,
       "version_minor": 0
      },
      "text/plain": [
       "HBox(children=(FloatProgress(value=0.0, description='Training', layout=Layout(flex='2'), max=1875.0, style=Pro…"
      ]
     },
     "metadata": {},
     "output_type": "display_data"
    },
    {
     "name": "stdout",
     "output_type": "stream",
     "text": [
      "Epoch 129: train=1316.18, val=1314.83, took 80.382 s\n",
      "  Validation Found 325 of 54504, added 9474 (eff 0.60%) (0.949 FP/event)\n"
     ]
    },
    {
     "data": {
      "application/vnd.jupyter.widget-view+json": {
       "model_id": "",
       "version_major": 2,
       "version_minor": 0
      },
      "text/plain": [
       "HBox(children=(FloatProgress(value=0.0, description='Training', layout=Layout(flex='2'), max=1875.0, style=Pro…"
      ]
     },
     "metadata": {},
     "output_type": "display_data"
    },
    {
     "name": "stdout",
     "output_type": "stream",
     "text": [
      "Epoch 130: train=1316.17, val=1314.83, took 80.467 s\n",
      "  Validation Found 325 of 54504, added 9475 (eff 0.60%) (0.949 FP/event)\n"
     ]
    },
    {
     "data": {
      "application/vnd.jupyter.widget-view+json": {
       "model_id": "",
       "version_major": 2,
       "version_minor": 0
      },
      "text/plain": [
       "HBox(children=(FloatProgress(value=0.0, description='Training', layout=Layout(flex='2'), max=1875.0, style=Pro…"
      ]
     },
     "metadata": {},
     "output_type": "display_data"
    },
    {
     "name": "stdout",
     "output_type": "stream",
     "text": [
      "Epoch 131: train=1316.17, val=1314.82, took 80.551 s\n",
      "  Validation Found 323 of 54504, added 9475 (eff 0.59%) (0.949 FP/event)\n"
     ]
    },
    {
     "data": {
      "application/vnd.jupyter.widget-view+json": {
       "model_id": "",
       "version_major": 2,
       "version_minor": 0
      },
      "text/plain": [
       "HBox(children=(FloatProgress(value=0.0, description='Training', layout=Layout(flex='2'), max=1875.0, style=Pro…"
      ]
     },
     "metadata": {},
     "output_type": "display_data"
    },
    {
     "name": "stdout",
     "output_type": "stream",
     "text": [
      "Epoch 132: train=1316.17, val=1314.82, took 80.548 s\n",
      "  Validation Found 321 of 54504, added 9478 (eff 0.59%) (0.949 FP/event)\n"
     ]
    },
    {
     "data": {
      "application/vnd.jupyter.widget-view+json": {
       "model_id": "",
       "version_major": 2,
       "version_minor": 0
      },
      "text/plain": [
       "HBox(children=(FloatProgress(value=0.0, description='Training', layout=Layout(flex='2'), max=1875.0, style=Pro…"
      ]
     },
     "metadata": {},
     "output_type": "display_data"
    },
    {
     "name": "stdout",
     "output_type": "stream",
     "text": [
      "Epoch 133: train=1316.16, val=1314.81, took 80.294 s\n",
      "  Validation Found 324 of 54504, added 9479 (eff 0.59%) (0.949 FP/event)\n"
     ]
    },
    {
     "data": {
      "application/vnd.jupyter.widget-view+json": {
       "model_id": "",
       "version_major": 2,
       "version_minor": 0
      },
      "text/plain": [
       "HBox(children=(FloatProgress(value=0.0, description='Training', layout=Layout(flex='2'), max=1875.0, style=Pro…"
      ]
     },
     "metadata": {},
     "output_type": "display_data"
    },
    {
     "name": "stdout",
     "output_type": "stream",
     "text": [
      "Epoch 134: train=1316.16, val=1314.81, took 80.512 s\n",
      "  Validation Found 321 of 54504, added 9479 (eff 0.59%) (0.949 FP/event)\n"
     ]
    },
    {
     "data": {
      "application/vnd.jupyter.widget-view+json": {
       "model_id": "",
       "version_major": 2,
       "version_minor": 0
      },
      "text/plain": [
       "HBox(children=(FloatProgress(value=0.0, description='Training', layout=Layout(flex='2'), max=1875.0, style=Pro…"
      ]
     },
     "metadata": {},
     "output_type": "display_data"
    },
    {
     "name": "stdout",
     "output_type": "stream",
     "text": [
      "Epoch 135: train=1316.15, val=1314.81, took 80.579 s\n",
      "  Validation Found 320 of 54504, added 9468 (eff 0.59%) (0.948 FP/event)\n"
     ]
    },
    {
     "data": {
      "application/vnd.jupyter.widget-view+json": {
       "model_id": "",
       "version_major": 2,
       "version_minor": 0
      },
      "text/plain": [
       "HBox(children=(FloatProgress(value=0.0, description='Training', layout=Layout(flex='2'), max=1875.0, style=Pro…"
      ]
     },
     "metadata": {},
     "output_type": "display_data"
    },
    {
     "name": "stdout",
     "output_type": "stream",
     "text": [
      "Epoch 136: train=1316.15, val=1314.8, took 80.353 s\n",
      "  Validation Found 320 of 54504, added 9482 (eff 0.59%) (0.95 FP/event)\n"
     ]
    },
    {
     "data": {
      "application/vnd.jupyter.widget-view+json": {
       "model_id": "",
       "version_major": 2,
       "version_minor": 0
      },
      "text/plain": [
       "HBox(children=(FloatProgress(value=0.0, description='Training', layout=Layout(flex='2'), max=1875.0, style=Pro…"
      ]
     },
     "metadata": {},
     "output_type": "display_data"
    },
    {
     "name": "stdout",
     "output_type": "stream",
     "text": [
      "Epoch 137: train=1316.14, val=1314.81, took 80.409 s\n",
      "  Validation Found 319 of 54504, added 9479 (eff 0.59%) (0.949 FP/event)\n"
     ]
    },
    {
     "data": {
      "application/vnd.jupyter.widget-view+json": {
       "model_id": "",
       "version_major": 2,
       "version_minor": 0
      },
      "text/plain": [
       "HBox(children=(FloatProgress(value=0.0, description='Training', layout=Layout(flex='2'), max=1875.0, style=Pro…"
      ]
     },
     "metadata": {},
     "output_type": "display_data"
    },
    {
     "name": "stdout",
     "output_type": "stream",
     "text": [
      "Epoch 138: train=1316.14, val=1314.79, took 78.745 s\n",
      "  Validation Found 322 of 54504, added 9475 (eff 0.59%) (0.949 FP/event)\n"
     ]
    },
    {
     "data": {
      "application/vnd.jupyter.widget-view+json": {
       "model_id": "",
       "version_major": 2,
       "version_minor": 0
      },
      "text/plain": [
       "HBox(children=(FloatProgress(value=0.0, description='Training', layout=Layout(flex='2'), max=1875.0, style=Pro…"
      ]
     },
     "metadata": {},
     "output_type": "display_data"
    },
    {
     "name": "stdout",
     "output_type": "stream",
     "text": [
      "Epoch 139: train=1316.14, val=1314.8, took 78.288 s\n",
      "  Validation Found 320 of 54504, added 9476 (eff 0.59%) (0.949 FP/event)\n"
     ]
    },
    {
     "data": {
      "application/vnd.jupyter.widget-view+json": {
       "model_id": "",
       "version_major": 2,
       "version_minor": 0
      },
      "text/plain": [
       "HBox(children=(FloatProgress(value=0.0, description='Training', layout=Layout(flex='2'), max=1875.0, style=Pro…"
      ]
     },
     "metadata": {},
     "output_type": "display_data"
    },
    {
     "name": "stdout",
     "output_type": "stream",
     "text": [
      "Epoch 140: train=1316.14, val=1314.8, took 78.112 s\n",
      "  Validation Found 322 of 54504, added 9475 (eff 0.59%) (0.949 FP/event)\n"
     ]
    },
    {
     "data": {
      "application/vnd.jupyter.widget-view+json": {
       "model_id": "",
       "version_major": 2,
       "version_minor": 0
      },
      "text/plain": [
       "HBox(children=(FloatProgress(value=0.0, description='Training', layout=Layout(flex='2'), max=1875.0, style=Pro…"
      ]
     },
     "metadata": {},
     "output_type": "display_data"
    },
    {
     "name": "stdout",
     "output_type": "stream",
     "text": [
      "Epoch 141: train=1316.13, val=1314.79, took 78.502 s\n",
      "  Validation Found 320 of 54504, added 9479 (eff 0.59%) (0.949 FP/event)\n"
     ]
    },
    {
     "data": {
      "application/vnd.jupyter.widget-view+json": {
       "model_id": "",
       "version_major": 2,
       "version_minor": 0
      },
      "text/plain": [
       "HBox(children=(FloatProgress(value=0.0, description='Training', layout=Layout(flex='2'), max=1875.0, style=Pro…"
      ]
     },
     "metadata": {},
     "output_type": "display_data"
    },
    {
     "name": "stdout",
     "output_type": "stream",
     "text": [
      "Epoch 142: train=1316.13, val=1314.79, took 78.155 s\n",
      "  Validation Found 319 of 54504, added 9480 (eff 0.59%) (0.949 FP/event)\n"
     ]
    },
    {
     "data": {
      "application/vnd.jupyter.widget-view+json": {
       "model_id": "",
       "version_major": 2,
       "version_minor": 0
      },
      "text/plain": [
       "HBox(children=(FloatProgress(value=0.0, description='Training', layout=Layout(flex='2'), max=1875.0, style=Pro…"
      ]
     },
     "metadata": {},
     "output_type": "display_data"
    },
    {
     "name": "stdout",
     "output_type": "stream",
     "text": [
      "Epoch 143: train=1316.13, val=1314.8, took 78.198 s\n",
      "  Validation Found 321 of 54504, added 9477 (eff 0.59%) (0.949 FP/event)\n"
     ]
    },
    {
     "data": {
      "application/vnd.jupyter.widget-view+json": {
       "model_id": "",
       "version_major": 2,
       "version_minor": 0
      },
      "text/plain": [
       "HBox(children=(FloatProgress(value=0.0, description='Training', layout=Layout(flex='2'), max=1875.0, style=Pro…"
      ]
     },
     "metadata": {},
     "output_type": "display_data"
    },
    {
     "name": "stdout",
     "output_type": "stream",
     "text": [
      "Epoch 144: train=1316.13, val=1314.8, took 78.488 s\n",
      "  Validation Found 320 of 54504, added 9479 (eff 0.59%) (0.949 FP/event)\n"
     ]
    },
    {
     "data": {
      "application/vnd.jupyter.widget-view+json": {
       "model_id": "",
       "version_major": 2,
       "version_minor": 0
      },
      "text/plain": [
       "HBox(children=(FloatProgress(value=0.0, description='Training', layout=Layout(flex='2'), max=1875.0, style=Pro…"
      ]
     },
     "metadata": {},
     "output_type": "display_data"
    },
    {
     "name": "stdout",
     "output_type": "stream",
     "text": [
      "Epoch 145: train=1316.13, val=1314.79, took 78.874 s\n",
      "  Validation Found 319 of 54504, added 9481 (eff 0.59%) (0.95 FP/event)\n"
     ]
    },
    {
     "data": {
      "application/vnd.jupyter.widget-view+json": {
       "model_id": "",
       "version_major": 2,
       "version_minor": 0
      },
      "text/plain": [
       "HBox(children=(FloatProgress(value=0.0, description='Training', layout=Layout(flex='2'), max=1875.0, style=Pro…"
      ]
     },
     "metadata": {},
     "output_type": "display_data"
    },
    {
     "name": "stdout",
     "output_type": "stream",
     "text": [
      "Epoch 146: train=1316.13, val=1314.79, took 79.124 s\n",
      "  Validation Found 320 of 54504, added 9480 (eff 0.59%) (0.949 FP/event)\n"
     ]
    },
    {
     "data": {
      "application/vnd.jupyter.widget-view+json": {
       "model_id": "",
       "version_major": 2,
       "version_minor": 0
      },
      "text/plain": [
       "HBox(children=(FloatProgress(value=0.0, description='Training', layout=Layout(flex='2'), max=1875.0, style=Pro…"
      ]
     },
     "metadata": {},
     "output_type": "display_data"
    },
    {
     "name": "stdout",
     "output_type": "stream",
     "text": [
      "Epoch 147: train=1316.12, val=1314.8, took 79.083 s\n",
      "  Validation Found 321 of 54504, added 9478 (eff 0.59%) (0.949 FP/event)\n"
     ]
    },
    {
     "data": {
      "application/vnd.jupyter.widget-view+json": {
       "model_id": "",
       "version_major": 2,
       "version_minor": 0
      },
      "text/plain": [
       "HBox(children=(FloatProgress(value=0.0, description='Training', layout=Layout(flex='2'), max=1875.0, style=Pro…"
      ]
     },
     "metadata": {},
     "output_type": "display_data"
    },
    {
     "name": "stdout",
     "output_type": "stream",
     "text": [
      "Epoch 148: train=1316.13, val=1314.79, took 78.236 s\n",
      "  Validation Found 319 of 54504, added 9480 (eff 0.59%) (0.949 FP/event)\n"
     ]
    },
    {
     "data": {
      "application/vnd.jupyter.widget-view+json": {
       "model_id": "",
       "version_major": 2,
       "version_minor": 0
      },
      "text/plain": [
       "HBox(children=(FloatProgress(value=0.0, description='Training', layout=Layout(flex='2'), max=1875.0, style=Pro…"
      ]
     },
     "metadata": {},
     "output_type": "display_data"
    },
    {
     "name": "stdout",
     "output_type": "stream",
     "text": [
      "Epoch 149: train=1316.12, val=1314.79, took 81.26 s\n",
      "  Validation Found 320 of 54504, added 9479 (eff 0.59%) (0.949 FP/event)\n"
     ]
    },
    {
     "data": {
      "application/vnd.jupyter.widget-view+json": {
       "model_id": "",
       "version_major": 2,
       "version_minor": 0
      },
      "text/plain": [
       "HBox(children=(FloatProgress(value=0.0, description='Training', layout=Layout(flex='2'), max=1875.0, style=Pro…"
      ]
     },
     "metadata": {},
     "output_type": "display_data"
    },
    {
     "name": "stdout",
     "output_type": "stream",
     "text": [
      "Epoch 150: train=1316.12, val=1314.79, took 82.208 s\n",
      "  Validation Found 318 of 54504, added 9481 (eff 0.58%) (0.95 FP/event)\n"
     ]
    },
    {
     "data": {
      "application/vnd.jupyter.widget-view+json": {
       "model_id": "",
       "version_major": 2,
       "version_minor": 0
      },
      "text/plain": [
       "HBox(children=(FloatProgress(value=0.0, description='Training', layout=Layout(flex='2'), max=1875.0, style=Pro…"
      ]
     },
     "metadata": {},
     "output_type": "display_data"
    },
    {
     "name": "stdout",
     "output_type": "stream",
     "text": [
      "Epoch 151: train=1316.12, val=1314.79, took 80.516 s\n",
      "  Validation Found 319 of 54504, added 9481 (eff 0.59%) (0.95 FP/event)\n"
     ]
    },
    {
     "data": {
      "application/vnd.jupyter.widget-view+json": {
       "model_id": "",
       "version_major": 2,
       "version_minor": 0
      },
      "text/plain": [
       "HBox(children=(FloatProgress(value=0.0, description='Training', layout=Layout(flex='2'), max=1875.0, style=Pro…"
      ]
     },
     "metadata": {},
     "output_type": "display_data"
    },
    {
     "name": "stdout",
     "output_type": "stream",
     "text": [
      "Epoch 152: train=1316.12, val=1314.79, took 82.567 s\n",
      "  Validation Found 319 of 54504, added 9479 (eff 0.59%) (0.949 FP/event)\n"
     ]
    },
    {
     "data": {
      "application/vnd.jupyter.widget-view+json": {
       "model_id": "",
       "version_major": 2,
       "version_minor": 0
      },
      "text/plain": [
       "HBox(children=(FloatProgress(value=0.0, description='Training', layout=Layout(flex='2'), max=1875.0, style=Pro…"
      ]
     },
     "metadata": {},
     "output_type": "display_data"
    },
    {
     "name": "stdout",
     "output_type": "stream",
     "text": [
      "Epoch 153: train=1316.12, val=1314.79, took 80.891 s\n",
      "  Validation Found 319 of 54504, added 9480 (eff 0.59%) (0.949 FP/event)\n"
     ]
    },
    {
     "data": {
      "application/vnd.jupyter.widget-view+json": {
       "model_id": "",
       "version_major": 2,
       "version_minor": 0
      },
      "text/plain": [
       "HBox(children=(FloatProgress(value=0.0, description='Training', layout=Layout(flex='2'), max=1875.0, style=Pro…"
      ]
     },
     "metadata": {},
     "output_type": "display_data"
    },
    {
     "name": "stdout",
     "output_type": "stream",
     "text": [
      "Epoch 154: train=1316.12, val=1314.8, took 80.439 s\n",
      "  Validation Found 319 of 54504, added 9480 (eff 0.59%) (0.949 FP/event)\n"
     ]
    },
    {
     "data": {
      "application/vnd.jupyter.widget-view+json": {
       "model_id": "",
       "version_major": 2,
       "version_minor": 0
      },
      "text/plain": [
       "HBox(children=(FloatProgress(value=0.0, description='Training', layout=Layout(flex='2'), max=1875.0, style=Pro…"
      ]
     },
     "metadata": {},
     "output_type": "display_data"
    },
    {
     "name": "stdout",
     "output_type": "stream",
     "text": [
      "Epoch 155: train=1316.12, val=1314.8, took 79.817 s\n",
      "  Validation Found 319 of 54504, added 9480 (eff 0.59%) (0.949 FP/event)\n"
     ]
    },
    {
     "data": {
      "application/vnd.jupyter.widget-view+json": {
       "model_id": "",
       "version_major": 2,
       "version_minor": 0
      },
      "text/plain": [
       "HBox(children=(FloatProgress(value=0.0, description='Training', layout=Layout(flex='2'), max=1875.0, style=Pro…"
      ]
     },
     "metadata": {},
     "output_type": "display_data"
    },
    {
     "name": "stdout",
     "output_type": "stream",
     "text": [
      "Epoch 156: train=1316.12, val=1314.79, took 82.472 s\n",
      "  Validation Found 318 of 54504, added 9480 (eff 0.58%) (0.949 FP/event)\n"
     ]
    },
    {
     "data": {
      "application/vnd.jupyter.widget-view+json": {
       "model_id": "",
       "version_major": 2,
       "version_minor": 0
      },
      "text/plain": [
       "HBox(children=(FloatProgress(value=0.0, description='Training', layout=Layout(flex='2'), max=1875.0, style=Pro…"
      ]
     },
     "metadata": {},
     "output_type": "display_data"
    },
    {
     "name": "stdout",
     "output_type": "stream",
     "text": [
      "Epoch 157: train=1316.12, val=1314.79, took 80.014 s\n",
      "  Validation Found 319 of 54504, added 9480 (eff 0.59%) (0.949 FP/event)\n"
     ]
    },
    {
     "data": {
      "application/vnd.jupyter.widget-view+json": {
       "model_id": "",
       "version_major": 2,
       "version_minor": 0
      },
      "text/plain": [
       "HBox(children=(FloatProgress(value=0.0, description='Training', layout=Layout(flex='2'), max=1875.0, style=Pro…"
      ]
     },
     "metadata": {},
     "output_type": "display_data"
    },
    {
     "name": "stdout",
     "output_type": "stream",
     "text": [
      "Epoch 158: train=1316.12, val=1314.79, took 78.114 s\n",
      "  Validation Found 318 of 54504, added 9479 (eff 0.58%) (0.949 FP/event)\n"
     ]
    },
    {
     "data": {
      "application/vnd.jupyter.widget-view+json": {
       "model_id": "",
       "version_major": 2,
       "version_minor": 0
      },
      "text/plain": [
       "HBox(children=(FloatProgress(value=0.0, description='Training', layout=Layout(flex='2'), max=1875.0, style=Pro…"
      ]
     },
     "metadata": {},
     "output_type": "display_data"
    },
    {
     "name": "stdout",
     "output_type": "stream",
     "text": [
      "Epoch 159: train=1316.11, val=1314.79, took 78.414 s\n",
      "  Validation Found 318 of 54504, added 9480 (eff 0.58%) (0.949 FP/event)\n"
     ]
    },
    {
     "data": {
      "application/vnd.jupyter.widget-view+json": {
       "model_id": "",
       "version_major": 2,
       "version_minor": 0
      },
      "text/plain": [
       "HBox(children=(FloatProgress(value=0.0, description='Training', layout=Layout(flex='2'), max=1875.0, style=Pro…"
      ]
     },
     "metadata": {},
     "output_type": "display_data"
    },
    {
     "name": "stdout",
     "output_type": "stream",
     "text": [
      "Epoch 160: train=1316.11, val=1314.78, took 78.326 s\n",
      "  Validation Found 319 of 54504, added 9479 (eff 0.59%) (0.949 FP/event)\n"
     ]
    },
    {
     "data": {
      "application/vnd.jupyter.widget-view+json": {
       "model_id": "",
       "version_major": 2,
       "version_minor": 0
      },
      "text/plain": [
       "HBox(children=(FloatProgress(value=0.0, description='Training', layout=Layout(flex='2'), max=1875.0, style=Pro…"
      ]
     },
     "metadata": {},
     "output_type": "display_data"
    },
    {
     "name": "stdout",
     "output_type": "stream",
     "text": [
      "Epoch 161: train=1316.11, val=1314.78, took 78.705 s\n",
      "  Validation Found 318 of 54504, added 9480 (eff 0.58%) (0.949 FP/event)\n"
     ]
    },
    {
     "data": {
      "application/vnd.jupyter.widget-view+json": {
       "model_id": "",
       "version_major": 2,
       "version_minor": 0
      },
      "text/plain": [
       "HBox(children=(FloatProgress(value=0.0, description='Training', layout=Layout(flex='2'), max=1875.0, style=Pro…"
      ]
     },
     "metadata": {},
     "output_type": "display_data"
    },
    {
     "name": "stdout",
     "output_type": "stream",
     "text": [
      "Epoch 162: train=1316.11, val=1314.79, took 78.984 s\n",
      "  Validation Found 320 of 54504, added 9466 (eff 0.59%) (0.948 FP/event)\n"
     ]
    },
    {
     "data": {
      "application/vnd.jupyter.widget-view+json": {
       "model_id": "",
       "version_major": 2,
       "version_minor": 0
      },
      "text/plain": [
       "HBox(children=(FloatProgress(value=0.0, description='Training', layout=Layout(flex='2'), max=1875.0, style=Pro…"
      ]
     },
     "metadata": {},
     "output_type": "display_data"
    },
    {
     "name": "stdout",
     "output_type": "stream",
     "text": [
      "Epoch 163: train=1316.11, val=1314.78, took 78.304 s\n",
      "  Validation Found 320 of 54504, added 9467 (eff 0.59%) (0.948 FP/event)\n"
     ]
    },
    {
     "data": {
      "application/vnd.jupyter.widget-view+json": {
       "model_id": "",
       "version_major": 2,
       "version_minor": 0
      },
      "text/plain": [
       "HBox(children=(FloatProgress(value=0.0, description='Training', layout=Layout(flex='2'), max=1875.0, style=Pro…"
      ]
     },
     "metadata": {},
     "output_type": "display_data"
    },
    {
     "name": "stdout",
     "output_type": "stream",
     "text": [
      "Epoch 164: train=1316.11, val=1314.77, took 78.221 s\n",
      "  Validation Found 319 of 54504, added 9479 (eff 0.59%) (0.949 FP/event)\n"
     ]
    },
    {
     "data": {
      "application/vnd.jupyter.widget-view+json": {
       "model_id": "",
       "version_major": 2,
       "version_minor": 0
      },
      "text/plain": [
       "HBox(children=(FloatProgress(value=0.0, description='Training', layout=Layout(flex='2'), max=1875.0, style=Pro…"
      ]
     },
     "metadata": {},
     "output_type": "display_data"
    },
    {
     "name": "stdout",
     "output_type": "stream",
     "text": [
      "Epoch 165: train=1316.11, val=1314.77, took 78.186 s\n",
      "  Validation Found 320 of 54504, added 9476 (eff 0.59%) (0.949 FP/event)\n"
     ]
    },
    {
     "data": {
      "application/vnd.jupyter.widget-view+json": {
       "model_id": "",
       "version_major": 2,
       "version_minor": 0
      },
      "text/plain": [
       "HBox(children=(FloatProgress(value=0.0, description='Training', layout=Layout(flex='2'), max=1875.0, style=Pro…"
      ]
     },
     "metadata": {},
     "output_type": "display_data"
    },
    {
     "name": "stdout",
     "output_type": "stream",
     "text": [
      "Epoch 166: train=1316.1, val=1314.76, took 78.345 s\n",
      "  Validation Found 320 of 54504, added 9477 (eff 0.59%) (0.949 FP/event)\n"
     ]
    },
    {
     "data": {
      "application/vnd.jupyter.widget-view+json": {
       "model_id": "",
       "version_major": 2,
       "version_minor": 0
      },
      "text/plain": [
       "HBox(children=(FloatProgress(value=0.0, description='Training', layout=Layout(flex='2'), max=1875.0, style=Pro…"
      ]
     },
     "metadata": {},
     "output_type": "display_data"
    },
    {
     "name": "stdout",
     "output_type": "stream",
     "text": [
      "Epoch 167: train=1316.1, val=1314.78, took 78.176 s\n",
      "  Validation Found 320 of 54504, added 9475 (eff 0.59%) (0.949 FP/event)\n"
     ]
    },
    {
     "data": {
      "application/vnd.jupyter.widget-view+json": {
       "model_id": "",
       "version_major": 2,
       "version_minor": 0
      },
      "text/plain": [
       "HBox(children=(FloatProgress(value=0.0, description='Training', layout=Layout(flex='2'), max=1875.0, style=Pro…"
      ]
     },
     "metadata": {},
     "output_type": "display_data"
    },
    {
     "name": "stdout",
     "output_type": "stream",
     "text": [
      "Epoch 168: train=1316.1, val=1314.76, took 78.156 s\n",
      "  Validation Found 320 of 54504, added 9477 (eff 0.59%) (0.949 FP/event)\n"
     ]
    },
    {
     "data": {
      "application/vnd.jupyter.widget-view+json": {
       "model_id": "",
       "version_major": 2,
       "version_minor": 0
      },
      "text/plain": [
       "HBox(children=(FloatProgress(value=0.0, description='Training', layout=Layout(flex='2'), max=1875.0, style=Pro…"
      ]
     },
     "metadata": {},
     "output_type": "display_data"
    },
    {
     "name": "stdout",
     "output_type": "stream",
     "text": [
      "Epoch 169: train=1316.1, val=1314.76, took 78.157 s\n",
      "  Validation Found 319 of 54504, added 9478 (eff 0.59%) (0.949 FP/event)\n"
     ]
    },
    {
     "data": {
      "application/vnd.jupyter.widget-view+json": {
       "model_id": "",
       "version_major": 2,
       "version_minor": 0
      },
      "text/plain": [
       "HBox(children=(FloatProgress(value=0.0, description='Training', layout=Layout(flex='2'), max=1875.0, style=Pro…"
      ]
     },
     "metadata": {},
     "output_type": "display_data"
    },
    {
     "name": "stdout",
     "output_type": "stream",
     "text": [
      "Epoch 170: train=1316.1, val=1314.77, took 79.07 s\n",
      "  Validation Found 322 of 54504, added 9466 (eff 0.59%) (0.948 FP/event)\n"
     ]
    },
    {
     "data": {
      "application/vnd.jupyter.widget-view+json": {
       "model_id": "",
       "version_major": 2,
       "version_minor": 0
      },
      "text/plain": [
       "HBox(children=(FloatProgress(value=0.0, description='Training', layout=Layout(flex='2'), max=1875.0, style=Pro…"
      ]
     },
     "metadata": {},
     "output_type": "display_data"
    },
    {
     "name": "stdout",
     "output_type": "stream",
     "text": [
      "Epoch 171: train=1316.1, val=1314.76, took 78.518 s\n",
      "  Validation Found 322 of 54504, added 9466 (eff 0.59%) (0.948 FP/event)\n"
     ]
    },
    {
     "data": {
      "application/vnd.jupyter.widget-view+json": {
       "model_id": "",
       "version_major": 2,
       "version_minor": 0
      },
      "text/plain": [
       "HBox(children=(FloatProgress(value=0.0, description='Training', layout=Layout(flex='2'), max=1875.0, style=Pro…"
      ]
     },
     "metadata": {},
     "output_type": "display_data"
    },
    {
     "name": "stdout",
     "output_type": "stream",
     "text": [
      "Epoch 172: train=1316.09, val=1314.75, took 78.352 s\n",
      "  Validation Found 323 of 54504, added 9465 (eff 0.59%) (0.948 FP/event)\n"
     ]
    },
    {
     "data": {
      "application/vnd.jupyter.widget-view+json": {
       "model_id": "",
       "version_major": 2,
       "version_minor": 0
      },
      "text/plain": [
       "HBox(children=(FloatProgress(value=0.0, description='Training', layout=Layout(flex='2'), max=1875.0, style=Pro…"
      ]
     },
     "metadata": {},
     "output_type": "display_data"
    },
    {
     "name": "stdout",
     "output_type": "stream",
     "text": [
      "Epoch 173: train=1316.09, val=1314.76, took 78.581 s\n",
      "  Validation Found 321 of 54504, added 9467 (eff 0.59%) (0.948 FP/event)\n"
     ]
    },
    {
     "data": {
      "application/vnd.jupyter.widget-view+json": {
       "model_id": "",
       "version_major": 2,
       "version_minor": 0
      },
      "text/plain": [
       "HBox(children=(FloatProgress(value=0.0, description='Training', layout=Layout(flex='2'), max=1875.0, style=Pro…"
      ]
     },
     "metadata": {},
     "output_type": "display_data"
    },
    {
     "name": "stdout",
     "output_type": "stream",
     "text": [
      "Epoch 174: train=1316.09, val=1314.75, took 80.289 s\n",
      "  Validation Found 323 of 54504, added 9465 (eff 0.59%) (0.948 FP/event)\n"
     ]
    },
    {
     "data": {
      "application/vnd.jupyter.widget-view+json": {
       "model_id": "",
       "version_major": 2,
       "version_minor": 0
      },
      "text/plain": [
       "HBox(children=(FloatProgress(value=0.0, description='Training', layout=Layout(flex='2'), max=1875.0, style=Pro…"
      ]
     },
     "metadata": {},
     "output_type": "display_data"
    },
    {
     "name": "stdout",
     "output_type": "stream",
     "text": [
      "Epoch 175: train=1316.09, val=1314.74, took 78.212 s\n",
      "  Validation Found 322 of 54504, added 9466 (eff 0.59%) (0.948 FP/event)\n"
     ]
    },
    {
     "data": {
      "application/vnd.jupyter.widget-view+json": {
       "model_id": "",
       "version_major": 2,
       "version_minor": 0
      },
      "text/plain": [
       "HBox(children=(FloatProgress(value=0.0, description='Training', layout=Layout(flex='2'), max=1875.0, style=Pro…"
      ]
     },
     "metadata": {},
     "output_type": "display_data"
    },
    {
     "name": "stdout",
     "output_type": "stream",
     "text": [
      "Epoch 176: train=1316.09, val=1314.75, took 78.202 s\n",
      "  Validation Found 321 of 54504, added 9465 (eff 0.59%) (0.948 FP/event)\n"
     ]
    },
    {
     "data": {
      "application/vnd.jupyter.widget-view+json": {
       "model_id": "",
       "version_major": 2,
       "version_minor": 0
      },
      "text/plain": [
       "HBox(children=(FloatProgress(value=0.0, description='Training', layout=Layout(flex='2'), max=1875.0, style=Pro…"
      ]
     },
     "metadata": {},
     "output_type": "display_data"
    },
    {
     "name": "stdout",
     "output_type": "stream",
     "text": [
      "Epoch 177: train=1316.09, val=1314.75, took 78.265 s\n",
      "  Validation Found 323 of 54504, added 9465 (eff 0.59%) (0.948 FP/event)\n"
     ]
    },
    {
     "data": {
      "application/vnd.jupyter.widget-view+json": {
       "model_id": "",
       "version_major": 2,
       "version_minor": 0
      },
      "text/plain": [
       "HBox(children=(FloatProgress(value=0.0, description='Training', layout=Layout(flex='2'), max=1875.0, style=Pro…"
      ]
     },
     "metadata": {},
     "output_type": "display_data"
    },
    {
     "name": "stdout",
     "output_type": "stream",
     "text": [
      "Epoch 178: train=1316.08, val=1314.74, took 78.692 s\n",
      "  Validation Found 322 of 54504, added 9466 (eff 0.59%) (0.948 FP/event)\n"
     ]
    },
    {
     "data": {
      "application/vnd.jupyter.widget-view+json": {
       "model_id": "",
       "version_major": 2,
       "version_minor": 0
      },
      "text/plain": [
       "HBox(children=(FloatProgress(value=0.0, description='Training', layout=Layout(flex='2'), max=1875.0, style=Pro…"
      ]
     },
     "metadata": {},
     "output_type": "display_data"
    },
    {
     "name": "stdout",
     "output_type": "stream",
     "text": [
      "Epoch 179: train=1316.08, val=1314.75, took 79.046 s\n",
      "  Validation Found 323 of 54504, added 9464 (eff 0.59%) (0.948 FP/event)\n"
     ]
    },
    {
     "data": {
      "application/vnd.jupyter.widget-view+json": {
       "model_id": "",
       "version_major": 2,
       "version_minor": 0
      },
      "text/plain": [
       "HBox(children=(FloatProgress(value=0.0, description='Training', layout=Layout(flex='2'), max=1875.0, style=Pro…"
      ]
     },
     "metadata": {},
     "output_type": "display_data"
    },
    {
     "name": "stdout",
     "output_type": "stream",
     "text": [
      "Epoch 180: train=1316.08, val=1314.74, took 79.13 s\n",
      "  Validation Found 324 of 54504, added 9463 (eff 0.59%) (0.948 FP/event)\n"
     ]
    },
    {
     "data": {
      "application/vnd.jupyter.widget-view+json": {
       "model_id": "",
       "version_major": 2,
       "version_minor": 0
      },
      "text/plain": [
       "HBox(children=(FloatProgress(value=0.0, description='Training', layout=Layout(flex='2'), max=1875.0, style=Pro…"
      ]
     },
     "metadata": {},
     "output_type": "display_data"
    },
    {
     "name": "stdout",
     "output_type": "stream",
     "text": [
      "Epoch 181: train=1316.08, val=1314.73, took 79.059 s\n",
      "  Validation Found 323 of 54504, added 9464 (eff 0.59%) (0.948 FP/event)\n"
     ]
    },
    {
     "data": {
      "application/vnd.jupyter.widget-view+json": {
       "model_id": "",
       "version_major": 2,
       "version_minor": 0
      },
      "text/plain": [
       "HBox(children=(FloatProgress(value=0.0, description='Training', layout=Layout(flex='2'), max=1875.0, style=Pro…"
      ]
     },
     "metadata": {},
     "output_type": "display_data"
    },
    {
     "name": "stdout",
     "output_type": "stream",
     "text": [
      "Epoch 182: train=1316.08, val=1314.74, took 78.288 s\n",
      "  Validation Found 323 of 54504, added 9464 (eff 0.59%) (0.948 FP/event)\n"
     ]
    },
    {
     "data": {
      "application/vnd.jupyter.widget-view+json": {
       "model_id": "",
       "version_major": 2,
       "version_minor": 0
      },
      "text/plain": [
       "HBox(children=(FloatProgress(value=0.0, description='Training', layout=Layout(flex='2'), max=1875.0, style=Pro…"
      ]
     },
     "metadata": {},
     "output_type": "display_data"
    },
    {
     "name": "stdout",
     "output_type": "stream",
     "text": [
      "Epoch 183: train=1316.08, val=1314.74, took 79.14 s\n",
      "  Validation Found 323 of 54504, added 9472 (eff 0.59%) (0.949 FP/event)\n"
     ]
    },
    {
     "data": {
      "application/vnd.jupyter.widget-view+json": {
       "model_id": "",
       "version_major": 2,
       "version_minor": 0
      },
      "text/plain": [
       "HBox(children=(FloatProgress(value=0.0, description='Training', layout=Layout(flex='2'), max=1875.0, style=Pro…"
      ]
     },
     "metadata": {},
     "output_type": "display_data"
    },
    {
     "name": "stdout",
     "output_type": "stream",
     "text": [
      "Epoch 184: train=1316.07, val=1314.74, took 79.14 s\n",
      "  Validation Found 323 of 54504, added 9472 (eff 0.59%) (0.949 FP/event)\n"
     ]
    },
    {
     "data": {
      "application/vnd.jupyter.widget-view+json": {
       "model_id": "",
       "version_major": 2,
       "version_minor": 0
      },
      "text/plain": [
       "HBox(children=(FloatProgress(value=0.0, description='Training', layout=Layout(flex='2'), max=1875.0, style=Pro…"
      ]
     },
     "metadata": {},
     "output_type": "display_data"
    },
    {
     "name": "stdout",
     "output_type": "stream",
     "text": [
      "Epoch 185: train=1316.07, val=1314.73, took 78.639 s\n",
      "  Validation Found 322 of 54504, added 9473 (eff 0.59%) (0.949 FP/event)\n"
     ]
    },
    {
     "data": {
      "application/vnd.jupyter.widget-view+json": {
       "model_id": "",
       "version_major": 2,
       "version_minor": 0
      },
      "text/plain": [
       "HBox(children=(FloatProgress(value=0.0, description='Training', layout=Layout(flex='2'), max=1875.0, style=Pro…"
      ]
     },
     "metadata": {},
     "output_type": "display_data"
    },
    {
     "name": "stdout",
     "output_type": "stream",
     "text": [
      "Epoch 186: train=1316.07, val=1314.73, took 78.608 s\n",
      "  Validation Found 323 of 54504, added 9472 (eff 0.59%) (0.949 FP/event)\n"
     ]
    },
    {
     "data": {
      "application/vnd.jupyter.widget-view+json": {
       "model_id": "",
       "version_major": 2,
       "version_minor": 0
      },
      "text/plain": [
       "HBox(children=(FloatProgress(value=0.0, description='Training', layout=Layout(flex='2'), max=1875.0, style=Pro…"
      ]
     },
     "metadata": {},
     "output_type": "display_data"
    },
    {
     "name": "stdout",
     "output_type": "stream",
     "text": [
      "Epoch 187: train=1316.07, val=1314.73, took 78.599 s\n",
      "  Validation Found 321 of 54504, added 9474 (eff 0.59%) (0.949 FP/event)\n"
     ]
    },
    {
     "data": {
      "application/vnd.jupyter.widget-view+json": {
       "model_id": "",
       "version_major": 2,
       "version_minor": 0
      },
      "text/plain": [
       "HBox(children=(FloatProgress(value=0.0, description='Training', layout=Layout(flex='2'), max=1875.0, style=Pro…"
      ]
     },
     "metadata": {},
     "output_type": "display_data"
    },
    {
     "name": "stdout",
     "output_type": "stream",
     "text": [
      "Epoch 188: train=1316.07, val=1314.73, took 78.607 s\n",
      "  Validation Found 322 of 54504, added 9474 (eff 0.59%) (0.949 FP/event)\n"
     ]
    },
    {
     "data": {
      "application/vnd.jupyter.widget-view+json": {
       "model_id": "",
       "version_major": 2,
       "version_minor": 0
      },
      "text/plain": [
       "HBox(children=(FloatProgress(value=0.0, description='Training', layout=Layout(flex='2'), max=1875.0, style=Pro…"
      ]
     },
     "metadata": {},
     "output_type": "display_data"
    },
    {
     "name": "stdout",
     "output_type": "stream",
     "text": [
      "Epoch 189: train=1316.07, val=1314.72, took 78.598 s\n",
      "  Validation Found 323 of 54504, added 9472 (eff 0.59%) (0.949 FP/event)\n"
     ]
    },
    {
     "data": {
      "application/vnd.jupyter.widget-view+json": {
       "model_id": "",
       "version_major": 2,
       "version_minor": 0
      },
      "text/plain": [
       "HBox(children=(FloatProgress(value=0.0, description='Training', layout=Layout(flex='2'), max=1875.0, style=Pro…"
      ]
     },
     "metadata": {},
     "output_type": "display_data"
    },
    {
     "name": "stdout",
     "output_type": "stream",
     "text": [
      "Epoch 190: train=1316.06, val=1314.72, took 78.594 s\n",
      "  Validation Found 324 of 54504, added 9466 (eff 0.59%) (0.948 FP/event)\n"
     ]
    },
    {
     "data": {
      "application/vnd.jupyter.widget-view+json": {
       "model_id": "",
       "version_major": 2,
       "version_minor": 0
      },
      "text/plain": [
       "HBox(children=(FloatProgress(value=0.0, description='Training', layout=Layout(flex='2'), max=1875.0, style=Pro…"
      ]
     },
     "metadata": {},
     "output_type": "display_data"
    },
    {
     "name": "stdout",
     "output_type": "stream",
     "text": [
      "Epoch 191: train=1316.06, val=1314.73, took 78.588 s\n",
      "  Validation Found 322 of 54504, added 9473 (eff 0.59%) (0.949 FP/event)\n"
     ]
    },
    {
     "data": {
      "application/vnd.jupyter.widget-view+json": {
       "model_id": "",
       "version_major": 2,
       "version_minor": 0
      },
      "text/plain": [
       "HBox(children=(FloatProgress(value=0.0, description='Training', layout=Layout(flex='2'), max=1875.0, style=Pro…"
      ]
     },
     "metadata": {},
     "output_type": "display_data"
    },
    {
     "name": "stdout",
     "output_type": "stream",
     "text": [
      "Epoch 192: train=1316.06, val=1314.71, took 78.604 s\n",
      "  Validation Found 325 of 54504, added 9471 (eff 0.60%) (0.949 FP/event)\n"
     ]
    },
    {
     "data": {
      "application/vnd.jupyter.widget-view+json": {
       "model_id": "",
       "version_major": 2,
       "version_minor": 0
      },
      "text/plain": [
       "HBox(children=(FloatProgress(value=0.0, description='Training', layout=Layout(flex='2'), max=1875.0, style=Pro…"
      ]
     },
     "metadata": {},
     "output_type": "display_data"
    },
    {
     "name": "stdout",
     "output_type": "stream",
     "text": [
      "Epoch 193: train=1316.06, val=1314.72, took 78.599 s\n",
      "  Validation Found 324 of 54504, added 9471 (eff 0.59%) (0.949 FP/event)\n"
     ]
    },
    {
     "data": {
      "application/vnd.jupyter.widget-view+json": {
       "model_id": "",
       "version_major": 2,
       "version_minor": 0
      },
      "text/plain": [
       "HBox(children=(FloatProgress(value=0.0, description='Training', layout=Layout(flex='2'), max=1875.0, style=Pro…"
      ]
     },
     "metadata": {},
     "output_type": "display_data"
    },
    {
     "name": "stdout",
     "output_type": "stream",
     "text": [
      "Epoch 194: train=1316.06, val=1314.72, took 78.876 s\n",
      "  Validation Found 322 of 54504, added 9473 (eff 0.59%) (0.949 FP/event)\n"
     ]
    },
    {
     "data": {
      "application/vnd.jupyter.widget-view+json": {
       "model_id": "",
       "version_major": 2,
       "version_minor": 0
      },
      "text/plain": [
       "HBox(children=(FloatProgress(value=0.0, description='Training', layout=Layout(flex='2'), max=1875.0, style=Pro…"
      ]
     },
     "metadata": {},
     "output_type": "display_data"
    },
    {
     "name": "stdout",
     "output_type": "stream",
     "text": [
      "Epoch 195: train=1316.06, val=1314.71, took 79.846 s\n",
      "  Validation Found 322 of 54504, added 9474 (eff 0.59%) (0.949 FP/event)\n"
     ]
    },
    {
     "data": {
      "application/vnd.jupyter.widget-view+json": {
       "model_id": "",
       "version_major": 2,
       "version_minor": 0
      },
      "text/plain": [
       "HBox(children=(FloatProgress(value=0.0, description='Training', layout=Layout(flex='2'), max=1875.0, style=Pro…"
      ]
     },
     "metadata": {},
     "output_type": "display_data"
    },
    {
     "name": "stdout",
     "output_type": "stream",
     "text": [
      "Epoch 196: train=1316.05, val=1314.72, took 79.065 s\n",
      "  Validation Found 322 of 54504, added 9473 (eff 0.59%) (0.949 FP/event)\n"
     ]
    },
    {
     "data": {
      "application/vnd.jupyter.widget-view+json": {
       "model_id": "",
       "version_major": 2,
       "version_minor": 0
      },
      "text/plain": [
       "HBox(children=(FloatProgress(value=0.0, description='Training', layout=Layout(flex='2'), max=1875.0, style=Pro…"
      ]
     },
     "metadata": {},
     "output_type": "display_data"
    },
    {
     "name": "stdout",
     "output_type": "stream",
     "text": [
      "Epoch 197: train=1316.05, val=1314.71, took 79.101 s\n",
      "  Validation Found 323 of 54504, added 9465 (eff 0.59%) (0.948 FP/event)\n"
     ]
    },
    {
     "data": {
      "application/vnd.jupyter.widget-view+json": {
       "model_id": "",
       "version_major": 2,
       "version_minor": 0
      },
      "text/plain": [
       "HBox(children=(FloatProgress(value=0.0, description='Training', layout=Layout(flex='2'), max=1875.0, style=Pro…"
      ]
     },
     "metadata": {},
     "output_type": "display_data"
    },
    {
     "name": "stdout",
     "output_type": "stream",
     "text": [
      "Epoch 198: train=1316.05, val=1314.71, took 79.328 s\n",
      "  Validation Found 324 of 54504, added 9464 (eff 0.59%) (0.948 FP/event)\n"
     ]
    },
    {
     "data": {
      "application/vnd.jupyter.widget-view+json": {
       "model_id": "",
       "version_major": 2,
       "version_minor": 0
      },
      "text/plain": [
       "HBox(children=(FloatProgress(value=0.0, description='Training', layout=Layout(flex='2'), max=1875.0, style=Pro…"
      ]
     },
     "metadata": {},
     "output_type": "display_data"
    },
    {
     "name": "stdout",
     "output_type": "stream",
     "text": [
      "Epoch 199: train=1316.05, val=1314.72, took 79.103 s\n",
      "  Validation Found 323 of 54504, added 9465 (eff 0.59%) (0.948 FP/event)\n",
      "Averaging...\n",
      "\n",
      "Average Eff:  0.005928005284015852\n",
      "Average FP Rate:  0.9483725588382572\n",
      "\n"
     ]
    },
    {
     "data": {
      "application/javascript": [
       "/* Put everything inside the global mpl namespace */\n",
       "window.mpl = {};\n",
       "\n",
       "\n",
       "mpl.get_websocket_type = function() {\n",
       "    if (typeof(WebSocket) !== 'undefined') {\n",
       "        return WebSocket;\n",
       "    } else if (typeof(MozWebSocket) !== 'undefined') {\n",
       "        return MozWebSocket;\n",
       "    } else {\n",
       "        alert('Your browser does not have WebSocket support. ' +\n",
       "              'Please try Chrome, Safari or Firefox ≥ 6. ' +\n",
       "              'Firefox 4 and 5 are also supported but you ' +\n",
       "              'have to enable WebSockets in about:config.');\n",
       "    };\n",
       "}\n",
       "\n",
       "mpl.figure = function(figure_id, websocket, ondownload, parent_element) {\n",
       "    this.id = figure_id;\n",
       "\n",
       "    this.ws = websocket;\n",
       "\n",
       "    this.supports_binary = (this.ws.binaryType != undefined);\n",
       "\n",
       "    if (!this.supports_binary) {\n",
       "        var warnings = document.getElementById(\"mpl-warnings\");\n",
       "        if (warnings) {\n",
       "            warnings.style.display = 'block';\n",
       "            warnings.textContent = (\n",
       "                \"This browser does not support binary websocket messages. \" +\n",
       "                    \"Performance may be slow.\");\n",
       "        }\n",
       "    }\n",
       "\n",
       "    this.imageObj = new Image();\n",
       "\n",
       "    this.context = undefined;\n",
       "    this.message = undefined;\n",
       "    this.canvas = undefined;\n",
       "    this.rubberband_canvas = undefined;\n",
       "    this.rubberband_context = undefined;\n",
       "    this.format_dropdown = undefined;\n",
       "\n",
       "    this.image_mode = 'full';\n",
       "\n",
       "    this.root = $('<div/>');\n",
       "    this._root_extra_style(this.root)\n",
       "    this.root.attr('style', 'display: inline-block');\n",
       "\n",
       "    $(parent_element).append(this.root);\n",
       "\n",
       "    this._init_header(this);\n",
       "    this._init_canvas(this);\n",
       "    this._init_toolbar(this);\n",
       "\n",
       "    var fig = this;\n",
       "\n",
       "    this.waiting = false;\n",
       "\n",
       "    this.ws.onopen =  function () {\n",
       "            fig.send_message(\"supports_binary\", {value: fig.supports_binary});\n",
       "            fig.send_message(\"send_image_mode\", {});\n",
       "            if (mpl.ratio != 1) {\n",
       "                fig.send_message(\"set_dpi_ratio\", {'dpi_ratio': mpl.ratio});\n",
       "            }\n",
       "            fig.send_message(\"refresh\", {});\n",
       "        }\n",
       "\n",
       "    this.imageObj.onload = function() {\n",
       "            if (fig.image_mode == 'full') {\n",
       "                // Full images could contain transparency (where diff images\n",
       "                // almost always do), so we need to clear the canvas so that\n",
       "                // there is no ghosting.\n",
       "                fig.context.clearRect(0, 0, fig.canvas.width, fig.canvas.height);\n",
       "            }\n",
       "            fig.context.drawImage(fig.imageObj, 0, 0);\n",
       "        };\n",
       "\n",
       "    this.imageObj.onunload = function() {\n",
       "        fig.ws.close();\n",
       "    }\n",
       "\n",
       "    this.ws.onmessage = this._make_on_message_function(this);\n",
       "\n",
       "    this.ondownload = ondownload;\n",
       "}\n",
       "\n",
       "mpl.figure.prototype._init_header = function() {\n",
       "    var titlebar = $(\n",
       "        '<div class=\"ui-dialog-titlebar ui-widget-header ui-corner-all ' +\n",
       "        'ui-helper-clearfix\"/>');\n",
       "    var titletext = $(\n",
       "        '<div class=\"ui-dialog-title\" style=\"width: 100%; ' +\n",
       "        'text-align: center; padding: 3px;\"/>');\n",
       "    titlebar.append(titletext)\n",
       "    this.root.append(titlebar);\n",
       "    this.header = titletext[0];\n",
       "}\n",
       "\n",
       "\n",
       "\n",
       "mpl.figure.prototype._canvas_extra_style = function(canvas_div) {\n",
       "\n",
       "}\n",
       "\n",
       "\n",
       "mpl.figure.prototype._root_extra_style = function(canvas_div) {\n",
       "\n",
       "}\n",
       "\n",
       "mpl.figure.prototype._init_canvas = function() {\n",
       "    var fig = this;\n",
       "\n",
       "    var canvas_div = $('<div/>');\n",
       "\n",
       "    canvas_div.attr('style', 'position: relative; clear: both; outline: 0');\n",
       "\n",
       "    function canvas_keyboard_event(event) {\n",
       "        return fig.key_event(event, event['data']);\n",
       "    }\n",
       "\n",
       "    canvas_div.keydown('key_press', canvas_keyboard_event);\n",
       "    canvas_div.keyup('key_release', canvas_keyboard_event);\n",
       "    this.canvas_div = canvas_div\n",
       "    this._canvas_extra_style(canvas_div)\n",
       "    this.root.append(canvas_div);\n",
       "\n",
       "    var canvas = $('<canvas/>');\n",
       "    canvas.addClass('mpl-canvas');\n",
       "    canvas.attr('style', \"left: 0; top: 0; z-index: 0; outline: 0\")\n",
       "\n",
       "    this.canvas = canvas[0];\n",
       "    this.context = canvas[0].getContext(\"2d\");\n",
       "\n",
       "    var backingStore = this.context.backingStorePixelRatio ||\n",
       "\tthis.context.webkitBackingStorePixelRatio ||\n",
       "\tthis.context.mozBackingStorePixelRatio ||\n",
       "\tthis.context.msBackingStorePixelRatio ||\n",
       "\tthis.context.oBackingStorePixelRatio ||\n",
       "\tthis.context.backingStorePixelRatio || 1;\n",
       "\n",
       "    mpl.ratio = (window.devicePixelRatio || 1) / backingStore;\n",
       "\n",
       "    var rubberband = $('<canvas/>');\n",
       "    rubberband.attr('style', \"position: absolute; left: 0; top: 0; z-index: 1;\")\n",
       "\n",
       "    var pass_mouse_events = true;\n",
       "\n",
       "    canvas_div.resizable({\n",
       "        start: function(event, ui) {\n",
       "            pass_mouse_events = false;\n",
       "        },\n",
       "        resize: function(event, ui) {\n",
       "            fig.request_resize(ui.size.width, ui.size.height);\n",
       "        },\n",
       "        stop: function(event, ui) {\n",
       "            pass_mouse_events = true;\n",
       "            fig.request_resize(ui.size.width, ui.size.height);\n",
       "        },\n",
       "    });\n",
       "\n",
       "    function mouse_event_fn(event) {\n",
       "        if (pass_mouse_events)\n",
       "            return fig.mouse_event(event, event['data']);\n",
       "    }\n",
       "\n",
       "    rubberband.mousedown('button_press', mouse_event_fn);\n",
       "    rubberband.mouseup('button_release', mouse_event_fn);\n",
       "    // Throttle sequential mouse events to 1 every 20ms.\n",
       "    rubberband.mousemove('motion_notify', mouse_event_fn);\n",
       "\n",
       "    rubberband.mouseenter('figure_enter', mouse_event_fn);\n",
       "    rubberband.mouseleave('figure_leave', mouse_event_fn);\n",
       "\n",
       "    canvas_div.on(\"wheel\", function (event) {\n",
       "        event = event.originalEvent;\n",
       "        event['data'] = 'scroll'\n",
       "        if (event.deltaY < 0) {\n",
       "            event.step = 1;\n",
       "        } else {\n",
       "            event.step = -1;\n",
       "        }\n",
       "        mouse_event_fn(event);\n",
       "    });\n",
       "\n",
       "    canvas_div.append(canvas);\n",
       "    canvas_div.append(rubberband);\n",
       "\n",
       "    this.rubberband = rubberband;\n",
       "    this.rubberband_canvas = rubberband[0];\n",
       "    this.rubberband_context = rubberband[0].getContext(\"2d\");\n",
       "    this.rubberband_context.strokeStyle = \"#000000\";\n",
       "\n",
       "    this._resize_canvas = function(width, height) {\n",
       "        // Keep the size of the canvas, canvas container, and rubber band\n",
       "        // canvas in synch.\n",
       "        canvas_div.css('width', width)\n",
       "        canvas_div.css('height', height)\n",
       "\n",
       "        canvas.attr('width', width * mpl.ratio);\n",
       "        canvas.attr('height', height * mpl.ratio);\n",
       "        canvas.attr('style', 'width: ' + width + 'px; height: ' + height + 'px;');\n",
       "\n",
       "        rubberband.attr('width', width);\n",
       "        rubberband.attr('height', height);\n",
       "    }\n",
       "\n",
       "    // Set the figure to an initial 600x600px, this will subsequently be updated\n",
       "    // upon first draw.\n",
       "    this._resize_canvas(600, 600);\n",
       "\n",
       "    // Disable right mouse context menu.\n",
       "    $(this.rubberband_canvas).bind(\"contextmenu\",function(e){\n",
       "        return false;\n",
       "    });\n",
       "\n",
       "    function set_focus () {\n",
       "        canvas.focus();\n",
       "        canvas_div.focus();\n",
       "    }\n",
       "\n",
       "    window.setTimeout(set_focus, 100);\n",
       "}\n",
       "\n",
       "mpl.figure.prototype._init_toolbar = function() {\n",
       "    var fig = this;\n",
       "\n",
       "    var nav_element = $('<div/>');\n",
       "    nav_element.attr('style', 'width: 100%');\n",
       "    this.root.append(nav_element);\n",
       "\n",
       "    // Define a callback function for later on.\n",
       "    function toolbar_event(event) {\n",
       "        return fig.toolbar_button_onclick(event['data']);\n",
       "    }\n",
       "    function toolbar_mouse_event(event) {\n",
       "        return fig.toolbar_button_onmouseover(event['data']);\n",
       "    }\n",
       "\n",
       "    for(var toolbar_ind in mpl.toolbar_items) {\n",
       "        var name = mpl.toolbar_items[toolbar_ind][0];\n",
       "        var tooltip = mpl.toolbar_items[toolbar_ind][1];\n",
       "        var image = mpl.toolbar_items[toolbar_ind][2];\n",
       "        var method_name = mpl.toolbar_items[toolbar_ind][3];\n",
       "\n",
       "        if (!name) {\n",
       "            // put a spacer in here.\n",
       "            continue;\n",
       "        }\n",
       "        var button = $('<button/>');\n",
       "        button.addClass('ui-button ui-widget ui-state-default ui-corner-all ' +\n",
       "                        'ui-button-icon-only');\n",
       "        button.attr('role', 'button');\n",
       "        button.attr('aria-disabled', 'false');\n",
       "        button.click(method_name, toolbar_event);\n",
       "        button.mouseover(tooltip, toolbar_mouse_event);\n",
       "\n",
       "        var icon_img = $('<span/>');\n",
       "        icon_img.addClass('ui-button-icon-primary ui-icon');\n",
       "        icon_img.addClass(image);\n",
       "        icon_img.addClass('ui-corner-all');\n",
       "\n",
       "        var tooltip_span = $('<span/>');\n",
       "        tooltip_span.addClass('ui-button-text');\n",
       "        tooltip_span.html(tooltip);\n",
       "\n",
       "        button.append(icon_img);\n",
       "        button.append(tooltip_span);\n",
       "\n",
       "        nav_element.append(button);\n",
       "    }\n",
       "\n",
       "    var fmt_picker_span = $('<span/>');\n",
       "\n",
       "    var fmt_picker = $('<select/>');\n",
       "    fmt_picker.addClass('mpl-toolbar-option ui-widget ui-widget-content');\n",
       "    fmt_picker_span.append(fmt_picker);\n",
       "    nav_element.append(fmt_picker_span);\n",
       "    this.format_dropdown = fmt_picker[0];\n",
       "\n",
       "    for (var ind in mpl.extensions) {\n",
       "        var fmt = mpl.extensions[ind];\n",
       "        var option = $(\n",
       "            '<option/>', {selected: fmt === mpl.default_extension}).html(fmt);\n",
       "        fmt_picker.append(option);\n",
       "    }\n",
       "\n",
       "    // Add hover states to the ui-buttons\n",
       "    $( \".ui-button\" ).hover(\n",
       "        function() { $(this).addClass(\"ui-state-hover\");},\n",
       "        function() { $(this).removeClass(\"ui-state-hover\");}\n",
       "    );\n",
       "\n",
       "    var status_bar = $('<span class=\"mpl-message\"/>');\n",
       "    nav_element.append(status_bar);\n",
       "    this.message = status_bar[0];\n",
       "}\n",
       "\n",
       "mpl.figure.prototype.request_resize = function(x_pixels, y_pixels) {\n",
       "    // Request matplotlib to resize the figure. Matplotlib will then trigger a resize in the client,\n",
       "    // which will in turn request a refresh of the image.\n",
       "    this.send_message('resize', {'width': x_pixels, 'height': y_pixels});\n",
       "}\n",
       "\n",
       "mpl.figure.prototype.send_message = function(type, properties) {\n",
       "    properties['type'] = type;\n",
       "    properties['figure_id'] = this.id;\n",
       "    this.ws.send(JSON.stringify(properties));\n",
       "}\n",
       "\n",
       "mpl.figure.prototype.send_draw_message = function() {\n",
       "    if (!this.waiting) {\n",
       "        this.waiting = true;\n",
       "        this.ws.send(JSON.stringify({type: \"draw\", figure_id: this.id}));\n",
       "    }\n",
       "}\n",
       "\n",
       "\n",
       "mpl.figure.prototype.handle_save = function(fig, msg) {\n",
       "    var format_dropdown = fig.format_dropdown;\n",
       "    var format = format_dropdown.options[format_dropdown.selectedIndex].value;\n",
       "    fig.ondownload(fig, format);\n",
       "}\n",
       "\n",
       "\n",
       "mpl.figure.prototype.handle_resize = function(fig, msg) {\n",
       "    var size = msg['size'];\n",
       "    if (size[0] != fig.canvas.width || size[1] != fig.canvas.height) {\n",
       "        fig._resize_canvas(size[0], size[1]);\n",
       "        fig.send_message(\"refresh\", {});\n",
       "    };\n",
       "}\n",
       "\n",
       "mpl.figure.prototype.handle_rubberband = function(fig, msg) {\n",
       "    var x0 = msg['x0'] / mpl.ratio;\n",
       "    var y0 = (fig.canvas.height - msg['y0']) / mpl.ratio;\n",
       "    var x1 = msg['x1'] / mpl.ratio;\n",
       "    var y1 = (fig.canvas.height - msg['y1']) / mpl.ratio;\n",
       "    x0 = Math.floor(x0) + 0.5;\n",
       "    y0 = Math.floor(y0) + 0.5;\n",
       "    x1 = Math.floor(x1) + 0.5;\n",
       "    y1 = Math.floor(y1) + 0.5;\n",
       "    var min_x = Math.min(x0, x1);\n",
       "    var min_y = Math.min(y0, y1);\n",
       "    var width = Math.abs(x1 - x0);\n",
       "    var height = Math.abs(y1 - y0);\n",
       "\n",
       "    fig.rubberband_context.clearRect(\n",
       "        0, 0, fig.canvas.width / mpl.ratio, fig.canvas.height / mpl.ratio);\n",
       "\n",
       "    fig.rubberband_context.strokeRect(min_x, min_y, width, height);\n",
       "}\n",
       "\n",
       "mpl.figure.prototype.handle_figure_label = function(fig, msg) {\n",
       "    // Updates the figure title.\n",
       "    fig.header.textContent = msg['label'];\n",
       "}\n",
       "\n",
       "mpl.figure.prototype.handle_cursor = function(fig, msg) {\n",
       "    var cursor = msg['cursor'];\n",
       "    switch(cursor)\n",
       "    {\n",
       "    case 0:\n",
       "        cursor = 'pointer';\n",
       "        break;\n",
       "    case 1:\n",
       "        cursor = 'default';\n",
       "        break;\n",
       "    case 2:\n",
       "        cursor = 'crosshair';\n",
       "        break;\n",
       "    case 3:\n",
       "        cursor = 'move';\n",
       "        break;\n",
       "    }\n",
       "    fig.rubberband_canvas.style.cursor = cursor;\n",
       "}\n",
       "\n",
       "mpl.figure.prototype.handle_message = function(fig, msg) {\n",
       "    fig.message.textContent = msg['message'];\n",
       "}\n",
       "\n",
       "mpl.figure.prototype.handle_draw = function(fig, msg) {\n",
       "    // Request the server to send over a new figure.\n",
       "    fig.send_draw_message();\n",
       "}\n",
       "\n",
       "mpl.figure.prototype.handle_image_mode = function(fig, msg) {\n",
       "    fig.image_mode = msg['mode'];\n",
       "}\n",
       "\n",
       "mpl.figure.prototype.updated_canvas_event = function() {\n",
       "    // Called whenever the canvas gets updated.\n",
       "    this.send_message(\"ack\", {});\n",
       "}\n",
       "\n",
       "// A function to construct a web socket function for onmessage handling.\n",
       "// Called in the figure constructor.\n",
       "mpl.figure.prototype._make_on_message_function = function(fig) {\n",
       "    return function socket_on_message(evt) {\n",
       "        if (evt.data instanceof Blob) {\n",
       "            /* FIXME: We get \"Resource interpreted as Image but\n",
       "             * transferred with MIME type text/plain:\" errors on\n",
       "             * Chrome.  But how to set the MIME type?  It doesn't seem\n",
       "             * to be part of the websocket stream */\n",
       "            evt.data.type = \"image/png\";\n",
       "\n",
       "            /* Free the memory for the previous frames */\n",
       "            if (fig.imageObj.src) {\n",
       "                (window.URL || window.webkitURL).revokeObjectURL(\n",
       "                    fig.imageObj.src);\n",
       "            }\n",
       "\n",
       "            fig.imageObj.src = (window.URL || window.webkitURL).createObjectURL(\n",
       "                evt.data);\n",
       "            fig.updated_canvas_event();\n",
       "            fig.waiting = false;\n",
       "            return;\n",
       "        }\n",
       "        else if (typeof evt.data === 'string' && evt.data.slice(0, 21) == \"data:image/png;base64\") {\n",
       "            fig.imageObj.src = evt.data;\n",
       "            fig.updated_canvas_event();\n",
       "            fig.waiting = false;\n",
       "            return;\n",
       "        }\n",
       "\n",
       "        var msg = JSON.parse(evt.data);\n",
       "        var msg_type = msg['type'];\n",
       "\n",
       "        // Call the  \"handle_{type}\" callback, which takes\n",
       "        // the figure and JSON message as its only arguments.\n",
       "        try {\n",
       "            var callback = fig[\"handle_\" + msg_type];\n",
       "        } catch (e) {\n",
       "            console.log(\"No handler for the '\" + msg_type + \"' message type: \", msg);\n",
       "            return;\n",
       "        }\n",
       "\n",
       "        if (callback) {\n",
       "            try {\n",
       "                // console.log(\"Handling '\" + msg_type + \"' message: \", msg);\n",
       "                callback(fig, msg);\n",
       "            } catch (e) {\n",
       "                console.log(\"Exception inside the 'handler_\" + msg_type + \"' callback:\", e, e.stack, msg);\n",
       "            }\n",
       "        }\n",
       "    };\n",
       "}\n",
       "\n",
       "// from http://stackoverflow.com/questions/1114465/getting-mouse-location-in-canvas\n",
       "mpl.findpos = function(e) {\n",
       "    //this section is from http://www.quirksmode.org/js/events_properties.html\n",
       "    var targ;\n",
       "    if (!e)\n",
       "        e = window.event;\n",
       "    if (e.target)\n",
       "        targ = e.target;\n",
       "    else if (e.srcElement)\n",
       "        targ = e.srcElement;\n",
       "    if (targ.nodeType == 3) // defeat Safari bug\n",
       "        targ = targ.parentNode;\n",
       "\n",
       "    // jQuery normalizes the pageX and pageY\n",
       "    // pageX,Y are the mouse positions relative to the document\n",
       "    // offset() returns the position of the element relative to the document\n",
       "    var x = e.pageX - $(targ).offset().left;\n",
       "    var y = e.pageY - $(targ).offset().top;\n",
       "\n",
       "    return {\"x\": x, \"y\": y};\n",
       "};\n",
       "\n",
       "/*\n",
       " * return a copy of an object with only non-object keys\n",
       " * we need this to avoid circular references\n",
       " * http://stackoverflow.com/a/24161582/3208463\n",
       " */\n",
       "function simpleKeys (original) {\n",
       "  return Object.keys(original).reduce(function (obj, key) {\n",
       "    if (typeof original[key] !== 'object')\n",
       "        obj[key] = original[key]\n",
       "    return obj;\n",
       "  }, {});\n",
       "}\n",
       "\n",
       "mpl.figure.prototype.mouse_event = function(event, name) {\n",
       "    var canvas_pos = mpl.findpos(event)\n",
       "\n",
       "    if (name === 'button_press')\n",
       "    {\n",
       "        this.canvas.focus();\n",
       "        this.canvas_div.focus();\n",
       "    }\n",
       "\n",
       "    var x = canvas_pos.x * mpl.ratio;\n",
       "    var y = canvas_pos.y * mpl.ratio;\n",
       "\n",
       "    this.send_message(name, {x: x, y: y, button: event.button,\n",
       "                             step: event.step,\n",
       "                             guiEvent: simpleKeys(event)});\n",
       "\n",
       "    /* This prevents the web browser from automatically changing to\n",
       "     * the text insertion cursor when the button is pressed.  We want\n",
       "     * to control all of the cursor setting manually through the\n",
       "     * 'cursor' event from matplotlib */\n",
       "    event.preventDefault();\n",
       "    return false;\n",
       "}\n",
       "\n",
       "mpl.figure.prototype._key_event_extra = function(event, name) {\n",
       "    // Handle any extra behaviour associated with a key event\n",
       "}\n",
       "\n",
       "mpl.figure.prototype.key_event = function(event, name) {\n",
       "\n",
       "    // Prevent repeat events\n",
       "    if (name == 'key_press')\n",
       "    {\n",
       "        if (event.which === this._key)\n",
       "            return;\n",
       "        else\n",
       "            this._key = event.which;\n",
       "    }\n",
       "    if (name == 'key_release')\n",
       "        this._key = null;\n",
       "\n",
       "    var value = '';\n",
       "    if (event.ctrlKey && event.which != 17)\n",
       "        value += \"ctrl+\";\n",
       "    if (event.altKey && event.which != 18)\n",
       "        value += \"alt+\";\n",
       "    if (event.shiftKey && event.which != 16)\n",
       "        value += \"shift+\";\n",
       "\n",
       "    value += 'k';\n",
       "    value += event.which.toString();\n",
       "\n",
       "    this._key_event_extra(event, name);\n",
       "\n",
       "    this.send_message(name, {key: value,\n",
       "                             guiEvent: simpleKeys(event)});\n",
       "    return false;\n",
       "}\n",
       "\n",
       "mpl.figure.prototype.toolbar_button_onclick = function(name) {\n",
       "    if (name == 'download') {\n",
       "        this.handle_save(this, null);\n",
       "    } else {\n",
       "        this.send_message(\"toolbar_button\", {name: name});\n",
       "    }\n",
       "};\n",
       "\n",
       "mpl.figure.prototype.toolbar_button_onmouseover = function(tooltip) {\n",
       "    this.message.textContent = tooltip;\n",
       "};\n",
       "mpl.toolbar_items = [[\"Home\", \"Reset original view\", \"fa fa-home icon-home\", \"home\"], [\"Back\", \"Back to previous view\", \"fa fa-arrow-left icon-arrow-left\", \"back\"], [\"Forward\", \"Forward to next view\", \"fa fa-arrow-right icon-arrow-right\", \"forward\"], [\"\", \"\", \"\", \"\"], [\"Pan\", \"Pan axes with left mouse, zoom with right\", \"fa fa-arrows icon-move\", \"pan\"], [\"Zoom\", \"Zoom to rectangle\", \"fa fa-square-o icon-check-empty\", \"zoom\"], [\"\", \"\", \"\", \"\"], [\"Download\", \"Download plot\", \"fa fa-floppy-o icon-save\", \"download\"]];\n",
       "\n",
       "mpl.extensions = [\"eps\", \"jpeg\", \"pdf\", \"png\", \"ps\", \"raw\", \"svg\", \"tif\"];\n",
       "\n",
       "mpl.default_extension = \"png\";var comm_websocket_adapter = function(comm) {\n",
       "    // Create a \"websocket\"-like object which calls the given IPython comm\n",
       "    // object with the appropriate methods. Currently this is a non binary\n",
       "    // socket, so there is still some room for performance tuning.\n",
       "    var ws = {};\n",
       "\n",
       "    ws.close = function() {\n",
       "        comm.close()\n",
       "    };\n",
       "    ws.send = function(m) {\n",
       "        //console.log('sending', m);\n",
       "        comm.send(m);\n",
       "    };\n",
       "    // Register the callback with on_msg.\n",
       "    comm.on_msg(function(msg) {\n",
       "        //console.log('receiving', msg['content']['data'], msg);\n",
       "        // Pass the mpl event to the overridden (by mpl) onmessage function.\n",
       "        ws.onmessage(msg['content']['data'])\n",
       "    });\n",
       "    return ws;\n",
       "}\n",
       "\n",
       "mpl.mpl_figure_comm = function(comm, msg) {\n",
       "    // This is the function which gets called when the mpl process\n",
       "    // starts-up an IPython Comm through the \"matplotlib\" channel.\n",
       "\n",
       "    var id = msg.content.data.id;\n",
       "    // Get hold of the div created by the display call when the Comm\n",
       "    // socket was opened in Python.\n",
       "    var element = $(\"#\" + id);\n",
       "    var ws_proxy = comm_websocket_adapter(comm)\n",
       "\n",
       "    function ondownload(figure, format) {\n",
       "        window.open(figure.imageObj.src);\n",
       "    }\n",
       "\n",
       "    var fig = new mpl.figure(id, ws_proxy,\n",
       "                           ondownload,\n",
       "                           element.get(0));\n",
       "\n",
       "    // Call onopen now - mpl needs it, as it is assuming we've passed it a real\n",
       "    // web socket which is closed, not our websocket->open comm proxy.\n",
       "    ws_proxy.onopen();\n",
       "\n",
       "    fig.parent_element = element.get(0);\n",
       "    fig.cell_info = mpl.find_output_cell(\"<div id='\" + id + \"'></div>\");\n",
       "    if (!fig.cell_info) {\n",
       "        console.error(\"Failed to find cell for figure\", id, fig);\n",
       "        return;\n",
       "    }\n",
       "\n",
       "    var output_index = fig.cell_info[2]\n",
       "    var cell = fig.cell_info[0];\n",
       "\n",
       "};\n",
       "\n",
       "mpl.figure.prototype.handle_close = function(fig, msg) {\n",
       "    var width = fig.canvas.width/mpl.ratio\n",
       "    fig.root.unbind('remove')\n",
       "\n",
       "    // Update the output cell to use the data from the current canvas.\n",
       "    fig.push_to_output();\n",
       "    var dataURL = fig.canvas.toDataURL();\n",
       "    // Re-enable the keyboard manager in IPython - without this line, in FF,\n",
       "    // the notebook keyboard shortcuts fail.\n",
       "    IPython.keyboard_manager.enable()\n",
       "    $(fig.parent_element).html('<img src=\"' + dataURL + '\" width=\"' + width + '\">');\n",
       "    fig.close_ws(fig, msg);\n",
       "}\n",
       "\n",
       "mpl.figure.prototype.close_ws = function(fig, msg){\n",
       "    fig.send_message('closing', msg);\n",
       "    // fig.ws.close()\n",
       "}\n",
       "\n",
       "mpl.figure.prototype.push_to_output = function(remove_interactive) {\n",
       "    // Turn the data on the canvas into data in the output cell.\n",
       "    var width = this.canvas.width/mpl.ratio\n",
       "    var dataURL = this.canvas.toDataURL();\n",
       "    this.cell_info[1]['text/html'] = '<img src=\"' + dataURL + '\" width=\"' + width + '\">';\n",
       "}\n",
       "\n",
       "mpl.figure.prototype.updated_canvas_event = function() {\n",
       "    // Tell IPython that the notebook contents must change.\n",
       "    IPython.notebook.set_dirty(true);\n",
       "    this.send_message(\"ack\", {});\n",
       "    var fig = this;\n",
       "    // Wait a second, then push the new image to the DOM so\n",
       "    // that it is saved nicely (might be nice to debounce this).\n",
       "    setTimeout(function () { fig.push_to_output() }, 1000);\n",
       "}\n",
       "\n",
       "mpl.figure.prototype._init_toolbar = function() {\n",
       "    var fig = this;\n",
       "\n",
       "    var nav_element = $('<div/>');\n",
       "    nav_element.attr('style', 'width: 100%');\n",
       "    this.root.append(nav_element);\n",
       "\n",
       "    // Define a callback function for later on.\n",
       "    function toolbar_event(event) {\n",
       "        return fig.toolbar_button_onclick(event['data']);\n",
       "    }\n",
       "    function toolbar_mouse_event(event) {\n",
       "        return fig.toolbar_button_onmouseover(event['data']);\n",
       "    }\n",
       "\n",
       "    for(var toolbar_ind in mpl.toolbar_items){\n",
       "        var name = mpl.toolbar_items[toolbar_ind][0];\n",
       "        var tooltip = mpl.toolbar_items[toolbar_ind][1];\n",
       "        var image = mpl.toolbar_items[toolbar_ind][2];\n",
       "        var method_name = mpl.toolbar_items[toolbar_ind][3];\n",
       "\n",
       "        if (!name) { continue; };\n",
       "\n",
       "        var button = $('<button class=\"btn btn-default\" href=\"#\" title=\"' + name + '\"><i class=\"fa ' + image + ' fa-lg\"></i></button>');\n",
       "        button.click(method_name, toolbar_event);\n",
       "        button.mouseover(tooltip, toolbar_mouse_event);\n",
       "        nav_element.append(button);\n",
       "    }\n",
       "\n",
       "    // Add the status bar.\n",
       "    var status_bar = $('<span class=\"mpl-message\" style=\"text-align:right; float: right;\"/>');\n",
       "    nav_element.append(status_bar);\n",
       "    this.message = status_bar[0];\n",
       "\n",
       "    // Add the close button to the window.\n",
       "    var buttongrp = $('<div class=\"btn-group inline pull-right\"></div>');\n",
       "    var button = $('<button class=\"btn btn-mini btn-primary\" href=\"#\" title=\"Stop Interaction\"><i class=\"fa fa-power-off icon-remove icon-large\"></i></button>');\n",
       "    button.click(function (evt) { fig.handle_close(fig, {}); } );\n",
       "    button.mouseover('Stop Interaction', toolbar_mouse_event);\n",
       "    buttongrp.append(button);\n",
       "    var titlebar = this.root.find($('.ui-dialog-titlebar'));\n",
       "    titlebar.prepend(buttongrp);\n",
       "}\n",
       "\n",
       "mpl.figure.prototype._root_extra_style = function(el){\n",
       "    var fig = this\n",
       "    el.on(\"remove\", function(){\n",
       "\tfig.close_ws(fig, {});\n",
       "    });\n",
       "}\n",
       "\n",
       "mpl.figure.prototype._canvas_extra_style = function(el){\n",
       "    // this is important to make the div 'focusable\n",
       "    el.attr('tabindex', 0)\n",
       "    // reach out to IPython and tell the keyboard manager to turn it's self\n",
       "    // off when our div gets focus\n",
       "\n",
       "    // location in version 3\n",
       "    if (IPython.notebook.keyboard_manager) {\n",
       "        IPython.notebook.keyboard_manager.register_events(el);\n",
       "    }\n",
       "    else {\n",
       "        // location in version 2\n",
       "        IPython.keyboard_manager.register_events(el);\n",
       "    }\n",
       "\n",
       "}\n",
       "\n",
       "mpl.figure.prototype._key_event_extra = function(event, name) {\n",
       "    var manager = IPython.notebook.keyboard_manager;\n",
       "    if (!manager)\n",
       "        manager = IPython.keyboard_manager;\n",
       "\n",
       "    // Check for shift+enter\n",
       "    if (event.shiftKey && event.which == 13) {\n",
       "        this.canvas_div.blur();\n",
       "        // select the cell after this one\n",
       "        var index = IPython.notebook.find_cell_index(this.cell_info[0]);\n",
       "        IPython.notebook.select(index + 1);\n",
       "    }\n",
       "}\n",
       "\n",
       "mpl.figure.prototype.handle_save = function(fig, msg) {\n",
       "    fig.ondownload(fig, null);\n",
       "}\n",
       "\n",
       "\n",
       "mpl.find_output_cell = function(html_output) {\n",
       "    // Return the cell and output element which can be found *uniquely* in the notebook.\n",
       "    // Note - this is a bit hacky, but it is done because the \"notebook_saving.Notebook\"\n",
       "    // IPython event is triggered only after the cells have been serialised, which for\n",
       "    // our purposes (turning an active figure into a static one), is too late.\n",
       "    var cells = IPython.notebook.get_cells();\n",
       "    var ncells = cells.length;\n",
       "    for (var i=0; i<ncells; i++) {\n",
       "        var cell = cells[i];\n",
       "        if (cell.cell_type === 'code'){\n",
       "            for (var j=0; j<cell.output_area.outputs.length; j++) {\n",
       "                var data = cell.output_area.outputs[j];\n",
       "                if (data.data) {\n",
       "                    // IPython >= 3 moved mimebundle to data attribute of output\n",
       "                    data = data.data;\n",
       "                }\n",
       "                if (data['text/html'] == html_output) {\n",
       "                    return [cell, data, j];\n",
       "                }\n",
       "            }\n",
       "        }\n",
       "    }\n",
       "}\n",
       "\n",
       "// Register the function which deals with the matplotlib target/channel.\n",
       "// The kernel may be null if the page has been refreshed.\n",
       "if (IPython.notebook.kernel != null) {\n",
       "    IPython.notebook.kernel.comm_manager.register_target('matplotlib', mpl.mpl_figure_comm);\n",
       "}\n"
      ],
      "text/plain": [
       "<IPython.core.display.Javascript object>"
      ]
     },
     "metadata": {},
     "output_type": "display_data"
    },
    {
     "data": {
      "text/html": [
       "<img src=\"data:image/png;base64,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\" width=\"1000\">"
      ],
      "text/plain": [
       "<IPython.core.display.HTML object>"
      ]
     },
     "metadata": {},
     "output_type": "display_data"
    }
   ],
   "source": [
    "avgEff = 0.0\n",
    "avgFP = 0.0\n",
    "\n",
    "print('for model: ', model)   \n",
    "run_name = 'ACN_2i4_10L_4S_BN_NI (P2)'\n",
    "# Create an mlflow run\n",
    "with mlflow.start_run(run_name=run_name) as run:\n",
    "    # Log parameters of the model\n",
    "    for key, value in vars(args).items():\n",
    "        print(key, value)\n",
    "        mlflow.log_param(key, value)\n",
    "    \n",
    "    # Log parameter count in the model\n",
    "    mlflow.log_param('Parameters', count_parameters(model))\n",
    "    \n",
    "    # Begin run\n",
    "    for result in trainNet(model, optimizer, loss,\n",
    "                            train_loader, val_loader,\n",
    "                            args.epochs+args.epoch_start, epoch_start=args.epoch_start,\n",
    "                            notebook=True, device=device):\n",
    "\n",
    "        result = result._asdict()\n",
    "        results = results.append(pd.Series(result), ignore_index=True)\n",
    "        xs = results.index\n",
    "\n",
    "        # Update the plot above\n",
    "        lines['train'].set_data(results.index, results.cost)\n",
    "        lines['val'].set_data(results.index, results.val)\n",
    "\n",
    "        #filter first cost epoch (can be really large)\n",
    "        max_cost = max(max(results.cost if len(results.cost)<2 else results.cost[1:]), max(results.val))\n",
    "        min_cost = min(min(results.cost), min(results.val))\n",
    "    \n",
    "        # The plot limits need updating too\n",
    "        ax.set_ylim(min_cost*.9, max_cost*1.1)  \n",
    "        ax.set_xlim(-.5, len(results.cost) - .5)\n",
    "    \n",
    "        replace_in_ax(lax, lines['eff'], xs, results['eff_val'].apply(lambda x: x.eff_rate))\n",
    "        replace_in_ax(tax, lines['fp'], xs, results['eff_val'].apply(lambda x: x.fp_rate))            \n",
    "            \n",
    "        # Redraw the figure\n",
    "        fig.canvas.draw()\n",
    "            \n",
    "        ## MLFLOW ##\n",
    "        # Log metrics\n",
    "        mlflow.log_metric('Efficiency', result['eff_val'].eff_rate, result['epoch'])\n",
    "        mlflow.log_metric('False Positive Rate',  result['eff_val'].fp_rate, result['epoch'])\n",
    "        mlflow.log_metric('Validation Loss',  result['val'], result['epoch'])\n",
    "        mlflow.log_metric('Training Loss',  result['cost'], result['epoch'])\n",
    "        \n",
    "        # If we are on the last 10 epochs but NOT the last epoch\n",
    "        if(result['epoch'] >= args.epochs + args.epoch_start - 10):\n",
    "            avgEff += result['eff_val'].eff_rate\n",
    "            avgFP += result['eff_val'].fp_rate\n",
    "           \n",
    "        # If we are on the last epoch\n",
    "        if(result['epoch'] == args.epochs + args.epoch_start - 1):\n",
    "            print('Averaging...\\n')\n",
    "            avgEff /= 10\n",
    "            avgFP /= 10\n",
    "            mlflow.log_metric('10 Efficiency Average', avgEff)\n",
    "            mlflow.log_metric('10 False Positive Average', avgFP)\n",
    "            print('Average Eff: ', avgEff)\n",
    "            print('Average FP Rate: ', avgFP)\n",
    "            \n",
    "        \n",
    "        # Log tags\n",
    "        mlflow.set_tag('Skip connections', '4')\n",
    "        mlflow.set_tag('Asymmetry', '2.5')\n",
    "        mlflow.set_tag('KDE_A', 'False')\n",
    "        mlflow.set_tag('BN Input', 'True')\n",
    "\n",
    "        # Save model state dictionary, optimizer state dictionary, and epoch number\n",
    "        torch.save({\n",
    "            'model':model.state_dict(),\n",
    "            'optimizer':optimizer.state_dict(),\n",
    "            'epoch':args.epochs+result['epoch']\n",
    "            }, 'run_stats.pyt')\n",
    "        # Save the run stats into mlflow\n",
    "        mlflow.log_artifact('run_stats.pyt')\n",
    "    \n",
    "    # Generate tight plot at end of training\n",
    "    dual_train_plots(results.index,\n",
    "                 results.cost, results.val, \n",
    "                 results['eff_val'].apply(lambda x: x.eff_rate),\n",
    "                 results['eff_val'].apply(lambda x: x.fp_rate))\n",
    "    plt.tight_layout()\n",
    "    # Save plot\n",
    "    plt.savefig('plot.png')  \n",
    "    mlflow.log_artifact('plot.png')"
   ]
  },
  {
   "cell_type": "code",
   "execution_count": 13,
   "metadata": {},
   "outputs": [
    {
     "name": "stderr",
     "output_type": "stream",
     "text": [
      "/data/conda/envs/goofit-june2020/lib/python3.7/site-packages/ipykernel/ipkernel.py:287: DeprecationWarning: `should_run_async` will not call `transform_cell` automatically in the future. Please pass the result to `transformed_cell` argument and any exception that happen during thetransform in `preprocessing_exc_tuple` in IPython 7.17 and above.\n",
      "  and should_run_async(code)\n"
     ]
    }
   ],
   "source": [
    "##quit()"
   ]
  }
 ],
 "metadata": {
  "kernelspec": {
   "display_name": "goofit-june2020",
   "language": "python",
   "name": "goofit-june2020"
  },
  "language_info": {
   "codemirror_mode": {
    "name": "ipython",
    "version": 3
   },
   "file_extension": ".py",
   "mimetype": "text/x-python",
   "name": "python",
   "nbconvert_exporter": "python",
   "pygments_lexer": "ipython3",
   "version": "3.7.6"
  }
 },
 "nbformat": 4,
 "nbformat_minor": 2
}
