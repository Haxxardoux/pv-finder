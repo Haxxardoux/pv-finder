{
 "cells": [
  {
   "cell_type": "code",
   "execution_count": 1,
   "metadata": {},
   "outputs": [],
   "source": [
    "##%matplotlib widget\n",
    "## with %matplotlib notebook: seems to require ipympl as part of environment, either\n",
    "## part of the conda environment or \"pip install ipympl\"\n",
    "## otherwise, does not show ANY plots in notebook, plt.savefig() works\n",
    "%matplotlib notebook  \n",
    "##%matplotlib inline    ## --plt.savefig()  works, but re-sizing does NOT"
   ]
  },
  {
   "cell_type": "markdown",
   "metadata": {},
   "source": [
    "Check the current GPU usage. Please try to be nice!"
   ]
  },
  {
   "cell_type": "code",
   "execution_count": 2,
   "metadata": {},
   "outputs": [
    {
     "name": "stdout",
     "output_type": "stream",
     "text": [
      "Sat Mar  6 12:20:32 2021       \n",
      "+-----------------------------------------------------------------------------+\n",
      "| NVIDIA-SMI 440.64.00    Driver Version: 440.64.00    CUDA Version: 10.2     |\n",
      "|-------------------------------+----------------------+----------------------+\n",
      "| GPU  Name        Persistence-M| Bus-Id        Disp.A | Volatile Uncorr. ECC |\n",
      "| Fan  Temp  Perf  Pwr:Usage/Cap|         Memory-Usage | GPU-Util  Compute M. |\n",
      "|===============================+======================+======================|\n",
      "|   0  TITAN V             Off  | 00000000:03:00.0 Off |                  N/A |\n",
      "| 26%   31C    P0    31W / 250W |      0MiB / 12066MiB |      0%      Default |\n",
      "+-------------------------------+----------------------+----------------------+\n",
      "|   1  Tesla P100-PCIE...  Off  | 00000000:83:00.0 Off |                    0 |\n",
      "| N/A   32C    P0    33W / 250W |      0MiB / 16280MiB |      0%      Default |\n",
      "+-------------------------------+----------------------+----------------------+\n",
      "|   2  TITAN V             Off  | 00000000:84:00.0 Off |                  N/A |\n",
      "| 22%   37C    P0    34W / 250W |      0MiB / 12066MiB |      8%      Default |\n",
      "+-------------------------------+----------------------+----------------------+\n",
      "                                                                               \n",
      "+-----------------------------------------------------------------------------+\n",
      "| Processes:                                                       GPU Memory |\n",
      "|  GPU       PID   Type   Process name                             Usage      |\n",
      "|=============================================================================|\n",
      "|  No running processes found                                                 |\n",
      "+-----------------------------------------------------------------------------+\n"
     ]
    }
   ],
   "source": [
    "!nvidia-smi"
   ]
  },
  {
   "cell_type": "markdown",
   "metadata": {},
   "source": [
    "## Imports"
   ]
  },
  {
   "cell_type": "code",
   "execution_count": 3,
   "metadata": {},
   "outputs": [
    {
     "name": "stderr",
     "output_type": "stream",
     "text": [
      "/data/conda/envs/goofit-june2020/lib/python3.7/site-packages/awkward/__init__.py:23: DeprecationWarning: Consider switching from 'awkward' to 'awkward1', since the new interface will become the default later this year (2020).\n",
      "\n",
      "    pip install -U awkward1\n",
      "\n",
      "In Python:\n",
      "\n",
      "    >>> import awkward1 as ak\n",
      "    >>> new_style_array = ak.from_awkward0(old_style_array)\n",
      "    >>> old_style_array = ak.to_awkward0(new_style_array)\n",
      "\n",
      "  DeprecationWarning\n"
     ]
    }
   ],
   "source": [
    "import matplotlib.pyplot as plt\n",
    "import numpy as np\n",
    "import time\n",
    "import torch\n",
    "import pandas as pd\n",
    "import mlflow\n",
    "\n",
    "# Python 3 standard library\n",
    "from pathlib import Path\n",
    "\n",
    "from torchsummary import summary\n",
    "\n",
    "'''\n",
    "HELPER FUNCTIONS\n",
    "'''\n",
    "# From model/collectdata.py\n",
    "from model.collectdata_mdsA import collect_data\n",
    "# For poca KDE\n",
    "from model.collectdata_poca_KDE import collect_data_poca\n",
    "\n",
    "# From model/loss.py\n",
    "##from loss import Loss\n",
    "from model.alt_loss_A import Loss\n",
    "\n",
    "# From model/training.py\n",
    "from model.training import trainNet, select_gpu, Results\n",
    "\n",
    "# From model/models.py\n",
    "##  will start with model from TwoFeatures_CNN6Layer_A in the first instance\n",
    "##  see relevant cell below\n",
    "\n",
    "from model.models_mjp_19November20 import SimpleCNN5Layer_Ca_A as ModelA\n",
    "from model.models_mjp_19November20 import SimpleCNN5Layer_Ca_E as ModelE\n",
    "from model.models_mjp_19November20 import SimpleCNN7Layer_Ca_W as ModelW\n",
    "from model.models_mjp_26December20 import SimpleCNN9Layer_Ca_X as ModelX\n",
    "from model.models_mjp_26December20 import SimpleCNN7Layer_Ca_Y as ModelY\n",
    "from model.models_mjp_30Jan21_AllCNN import ACN_1_10L_4S as ModelXX\n",
    "\n",
    "# From model/utilities.py\n",
    "from model.utilities import load_full_state, count_parameters, Params\n",
    "\n",
    "from model.plots import dual_train_plots, replace_in_ax\n",
    "\n",
    "## adds image of model architecture\n",
    "import hiddenlayer as HL"
   ]
  },
  {
   "cell_type": "markdown",
   "metadata": {},
   "source": [
    "Set up Torch device configuration. All tensors and model parameters need to know where to be put.\n",
    "This takes a BUS ID number: The BUS ID is the same as the listing at the top of this script."
   ]
  },
  {
   "cell_type": "code",
   "execution_count": 4,
   "metadata": {},
   "outputs": [
    {
     "name": "stdout",
     "output_type": "stream",
     "text": [
      "1 available GPUs (initially using device 0):\n",
      "  0 TITAN V\n"
     ]
    },
    {
     "name": "stderr",
     "output_type": "stream",
     "text": [
      "/data/conda/envs/goofit-june2020/lib/python3.7/site-packages/ipykernel/ipkernel.py:287: DeprecationWarning: `should_run_async` will not call `transform_cell` automatically in the future. Please pass the result to `transformed_cell` argument and any exception that happen during thetransform in `preprocessing_exc_tuple` in IPython 7.17 and above.\n",
      "  and should_run_async(code)\n"
     ]
    }
   ],
   "source": [
    "device = select_gpu(0)"
   ]
  },
  {
   "cell_type": "markdown",
   "metadata": {},
   "source": [
    "### Set up local parameters"
   ]
  },
  {
   "cell_type": "code",
   "execution_count": 5,
   "metadata": {},
   "outputs": [],
   "source": [
    "# params order - batch size, epochs, lr, epoch_start (which is usually set to 0)\n",
    "args = Params(128, 200, 1e-4, 20)"
   ]
  },
  {
   "cell_type": "markdown",
   "metadata": {},
   "source": [
    "## Loading data\n",
    "\n",
    "Load the dataset, split into parts, then move to device (see `collectdata.py` in the `../model` directory)"
   ]
  },
  {
   "cell_type": "code",
   "execution_count": 6,
   "metadata": {
    "scrolled": true
   },
   "outputs": [
    {
     "name": "stdout",
     "output_type": "stream",
     "text": [
      "Loading data...\n",
      "Loaded /share/lazy/will/data/June30_2020_80k_1.h5 in 13.4 s\n",
      "Loaded /share/lazy/will/data/June30_2020_80k_3.h5 in 13.59 s\n",
      "Constructing 160000 event dataset took 4.941 s\n",
      "Loading data...\n",
      "Loaded /share/lazy/sokoloff/ML-data_AA/20K_POCA_kernel_evts_200926.h5 in 3.232 s\n",
      "Constructing 20000 event dataset took 0.1214 s\n"
     ]
    }
   ],
   "source": [
    "## newer vernacular\n",
    "## Training dataset. You can put as many files here as desired.\n",
    "\n",
    "## This is used when training with the original KDE\n",
    "'''\n",
    "## in this DEMO example we use only one 80K training set -- the model starts with well-trained weights,\n",
    "## and using a smaller training set reduces both the time to load the data and the time to train an epoch\n",
    "##  set the option load_XandXsq = True to use both DKE and KDE^2 as input features\n",
    "train_loader = collect_data('/share/lazy/sokoloff/ML-data_A/Aug14_80K_train.h5',\n",
    "                             '/share/lazy/sokoloff/ML-data_AA/Oct03_80K_train.h5',\n",
    "#                             '/share/lazy/sokoloff/ML-data_AA/Oct03_40K_train.h5',\n",
    "#                             '/share/lazy/will/ML_mdsA/June30_2020_80k_1.h5',\n",
    "#                             '/share/lazy/will/ML_mdsA/June30_2020_80k_3.h5',\n",
    "#                             '/share/lazy/will/ML_mdsA/June30_2020_80k_4.h5',\n",
    "#                             '/share/lazy/will/ML_mdsA/June30_2020_80k_5.h5',\n",
    "#                             '/share/lazy/will/ML_mdsA/June30_2020_80k_6.h5',\n",
    "#                             '/share/lazy/will/ML_mdsA/June30_2020_80k_7.h5',\n",
    "#                             '/share/lazy/will/ML_mdsA/June30_2020_80k_8.h5',\n",
    "#                             '/share/lazy/will/ML_mdsA/June30_2020_80k_9.h5',\n",
    "                            #'/share/lazy/sokoloff/ML-data_AA/Oct03_80K2_train.h5',\n",
    "                             batch_size=args.batch_size,\n",
    "## if we are using a larger dataset (240K events, with the datasets above, and 11 GB  of GPU memory),\n",
    "## not the dataset will overflow the GPU memory; device=device will allow the data to move back\n",
    "## and forth between the CPU and GPU memory. While this allows use of a larger dataset, it slows\n",
    "## down performance by about 10%.  So comment out when not needed.\n",
    "                            device=device,\n",
    "                            masking=True, shuffle=True,\n",
    "                            load_XandXsq=False,\n",
    "                            load_xy=False)\n",
    "\n",
    "# Validation dataset. You can slice to reduce the size.\n",
    "## dataAA -> /share/lazy/sokoloff/ML-data_AA/\n",
    "val_loader = collect_data('/share/lazy/sokoloff/ML-data_AA/Oct03_20K_val.h5',\n",
    "## mds val_loader = collect_data('dataAA/HLT1CPU_1kevts_val.h5',\n",
    "\n",
    "                          batch_size=args.batch_size,\n",
    "                          slice=slice(256 * 39),\n",
    "                          device=device,\n",
    "                          masking=True, shuffle=False,\n",
    "                          load_XandXsq=False,\n",
    "                          load_xy=False)\n",
    "'''\n",
    "\n",
    "## This is used when training with the new KDE\n",
    "train_loader = collect_data_poca('/share/lazy/will/data/June30_2020_80k_1.h5',\n",
    "                            '/share/lazy/will/data/June30_2020_80k_3.h5',\n",
    "                            batch_size=args.batch_size,\n",
    "                            device=device,\n",
    "                            masking=True, shuffle=True,\n",
    "                           ## slice = slice(0,18000)\n",
    "                           )\n",
    "\n",
    "val_loader = collect_data_poca('/share/lazy/sokoloff/ML-data_AA/20K_POCA_kernel_evts_200926.h5',\n",
    "                            batch_size=args.batch_size,\n",
    "                            device=device,\n",
    "                            masking=True, shuffle=True,\n",
    "                            ##slice = slice(18000,None)\n",
    "                           )"
   ]
  },
  {
   "cell_type": "markdown",
   "metadata": {},
   "source": [
    "# Preparing the model"
   ]
  },
  {
   "cell_type": "markdown",
   "metadata": {},
   "source": [
    "Prepare a model, use multiple GPUs if they are VISIBLE, and move the model to the device."
   ]
  },
  {
   "cell_type": "code",
   "execution_count": 7,
   "metadata": {
    "scrolled": true
   },
   "outputs": [
    {
     "name": "stderr",
     "output_type": "stream",
     "text": [
      "WARNING:root:Malformed experiment 'ML'. Detailed error Yaml file '/share/lazy/pv-finder_model_repo/ML/meta.yaml' does not exist.\n",
      "Traceback (most recent call last):\n",
      "  File \"/home/michael24peters/.local/lib/python3.7/site-packages/mlflow/store/tracking/file_store.py\", line 197, in list_experiments\n",
      "    experiment = self._get_experiment(exp_id, view_type)\n",
      "  File \"/home/michael24peters/.local/lib/python3.7/site-packages/mlflow/store/tracking/file_store.py\", line 260, in _get_experiment\n",
      "    meta = read_yaml(experiment_dir, FileStore.META_DATA_FILE_NAME)\n",
      "  File \"/home/michael24peters/.local/lib/python3.7/site-packages/mlflow/utils/file_utils.py\", line 167, in read_yaml\n",
      "    raise MissingConfigException(\"Yaml file '%s' does not exist.\" % file_path)\n",
      "mlflow.exceptions.MissingConfigException: Yaml file '/share/lazy/pv-finder_model_repo/ML/meta.yaml' does not exist.\n"
     ]
    }
   ],
   "source": [
    "model = ModelXX()\n",
    "\n",
    "##summary(model, input_size=(4, 4000))\n",
    "##print(model.parameters)\n",
    "\n",
    "mlflow.tracking.set_tracking_uri('file:/share/lazy/pv-finder_model_repo')\n",
    "mlflow.set_experiment('Four Feature AllCNN')"
   ]
  },
  {
   "cell_type": "code",
   "execution_count": 8,
   "metadata": {
    "scrolled": true
   },
   "outputs": [
    {
     "name": "stdout",
     "output_type": "stream",
     "text": [
      "Let's use 1 GPUs!\n"
     ]
    }
   ],
   "source": [
    "print(\"Let's use\", torch.cuda.device_count(), \"GPUs!\")\n",
    "if torch.cuda.device_count() > 1:\n",
    "    model = torch.nn.DataParallel(model)"
   ]
  },
  {
   "cell_type": "code",
   "execution_count": 9,
   "metadata": {
    "scrolled": true
   },
   "outputs": [
    {
     "name": "stdout",
     "output_type": "stream",
     "text": [
      "we also froze 0 weights\n",
      "Of the 10.0 parameter layers to update in the current model, 10.0 were loaded\n"
     ]
    }
   ],
   "source": [
    "loss = Loss(epsilon=1e-5,coefficient=2.5)\n",
    "optimizer = torch.optim.Adam(model.parameters(), lr=args.lr)\n",
    "\n",
    "##  use the first five layers from a pre-existing model\n",
    "##  see example at https://discuss.pytorch.org/t/how-to-load-part-of-pre-trained-model/1113\n",
    "##   ML -> /share/lazy/sokoloff/ML\n",
    "\n",
    "# don't need this; likely relic code (keep for now)\n",
    "#path = 'run_stats.pyt'\n",
    "#load_full_state(model, optimizer, path)\n",
    "\n",
    "# When loading pretrained models, use this code; otherwise, comment it out\n",
    "# For other pretrained models, go to MLFlow and find the path for \"run_stats.pyt\"\n",
    "pretrained_dict = '/share/lazy/pv-finder_model_repo/12/8b2d0e31296841a89f8c38a2b3b2b655/artifacts/run_stats.pyt'\n",
    "load_full_state(model, optimizer, pretrained_dict)"
   ]
  },
  {
   "cell_type": "code",
   "execution_count": 10,
   "metadata": {},
   "outputs": [
    {
     "data": {
      "text/plain": [
       "ACN_1_10L_4S(\n",
       "  (conv1): Conv1d(1, 20, kernel_size=(25,), stride=(1,), padding=(12,))\n",
       "  (conv2): Conv1d(20, 10, kernel_size=(15,), stride=(1,), padding=(7,))\n",
       "  (conv3): Conv1d(30, 10, kernel_size=(15,), stride=(1,), padding=(7,))\n",
       "  (conv4): Conv1d(10, 10, kernel_size=(15,), stride=(1,), padding=(7,))\n",
       "  (conv5): Conv1d(20, 10, kernel_size=(15,), stride=(1,), padding=(7,))\n",
       "  (conv6): Conv1d(10, 10, kernel_size=(15,), stride=(1,), padding=(7,))\n",
       "  (conv7): Conv1d(20, 7, kernel_size=(5,), stride=(1,), padding=(2,))\n",
       "  (conv8): Conv1d(7, 3, kernel_size=(5,), stride=(1,), padding=(2,))\n",
       "  (conv9): Conv1d(10, 1, kernel_size=(5,), stride=(1,), padding=(2,))\n",
       "  (conv1dropout): Dropout(p=0.15, inplace=False)\n",
       "  (conv2dropout): Dropout(p=0.15, inplace=False)\n",
       "  (conv3dropout): Dropout(p=0.15, inplace=False)\n",
       "  (conv4dropout): Dropout(p=0.15, inplace=False)\n",
       "  (conv5dropout): Dropout(p=0.15, inplace=False)\n",
       "  (conv6dropout): Dropout(p=0.15, inplace=False)\n",
       "  (conv7dropout): Dropout(p=0.15, inplace=False)\n",
       "  (conv8dropout): Dropout(p=0.15, inplace=False)\n",
       "  (conv9dropout): Dropout(p=0.35, inplace=False)\n",
       "  (fc1): Linear(in_features=4000, out_features=4000, bias=True)\n",
       ")"
      ]
     },
     "execution_count": 10,
     "metadata": {},
     "output_type": "execute_result"
    }
   ],
   "source": [
    "model.to(device)"
   ]
  },
  {
   "cell_type": "markdown",
   "metadata": {},
   "source": [
    "## Train \n",
    "\n",
    "\n",
    "\n",
    "The body of this loop runs once per epoch. Results is a named tuple of values (loss per epoch for training and validation, time each). Start by setting up a plot first:"
   ]
  },
  {
   "cell_type": "code",
   "execution_count": 11,
   "metadata": {},
   "outputs": [
    {
     "data": {
      "application/javascript": [
       "/* Put everything inside the global mpl namespace */\n",
       "window.mpl = {};\n",
       "\n",
       "\n",
       "mpl.get_websocket_type = function() {\n",
       "    if (typeof(WebSocket) !== 'undefined') {\n",
       "        return WebSocket;\n",
       "    } else if (typeof(MozWebSocket) !== 'undefined') {\n",
       "        return MozWebSocket;\n",
       "    } else {\n",
       "        alert('Your browser does not have WebSocket support. ' +\n",
       "              'Please try Chrome, Safari or Firefox ≥ 6. ' +\n",
       "              'Firefox 4 and 5 are also supported but you ' +\n",
       "              'have to enable WebSockets in about:config.');\n",
       "    };\n",
       "}\n",
       "\n",
       "mpl.figure = function(figure_id, websocket, ondownload, parent_element) {\n",
       "    this.id = figure_id;\n",
       "\n",
       "    this.ws = websocket;\n",
       "\n",
       "    this.supports_binary = (this.ws.binaryType != undefined);\n",
       "\n",
       "    if (!this.supports_binary) {\n",
       "        var warnings = document.getElementById(\"mpl-warnings\");\n",
       "        if (warnings) {\n",
       "            warnings.style.display = 'block';\n",
       "            warnings.textContent = (\n",
       "                \"This browser does not support binary websocket messages. \" +\n",
       "                    \"Performance may be slow.\");\n",
       "        }\n",
       "    }\n",
       "\n",
       "    this.imageObj = new Image();\n",
       "\n",
       "    this.context = undefined;\n",
       "    this.message = undefined;\n",
       "    this.canvas = undefined;\n",
       "    this.rubberband_canvas = undefined;\n",
       "    this.rubberband_context = undefined;\n",
       "    this.format_dropdown = undefined;\n",
       "\n",
       "    this.image_mode = 'full';\n",
       "\n",
       "    this.root = $('<div/>');\n",
       "    this._root_extra_style(this.root)\n",
       "    this.root.attr('style', 'display: inline-block');\n",
       "\n",
       "    $(parent_element).append(this.root);\n",
       "\n",
       "    this._init_header(this);\n",
       "    this._init_canvas(this);\n",
       "    this._init_toolbar(this);\n",
       "\n",
       "    var fig = this;\n",
       "\n",
       "    this.waiting = false;\n",
       "\n",
       "    this.ws.onopen =  function () {\n",
       "            fig.send_message(\"supports_binary\", {value: fig.supports_binary});\n",
       "            fig.send_message(\"send_image_mode\", {});\n",
       "            if (mpl.ratio != 1) {\n",
       "                fig.send_message(\"set_dpi_ratio\", {'dpi_ratio': mpl.ratio});\n",
       "            }\n",
       "            fig.send_message(\"refresh\", {});\n",
       "        }\n",
       "\n",
       "    this.imageObj.onload = function() {\n",
       "            if (fig.image_mode == 'full') {\n",
       "                // Full images could contain transparency (where diff images\n",
       "                // almost always do), so we need to clear the canvas so that\n",
       "                // there is no ghosting.\n",
       "                fig.context.clearRect(0, 0, fig.canvas.width, fig.canvas.height);\n",
       "            }\n",
       "            fig.context.drawImage(fig.imageObj, 0, 0);\n",
       "        };\n",
       "\n",
       "    this.imageObj.onunload = function() {\n",
       "        fig.ws.close();\n",
       "    }\n",
       "\n",
       "    this.ws.onmessage = this._make_on_message_function(this);\n",
       "\n",
       "    this.ondownload = ondownload;\n",
       "}\n",
       "\n",
       "mpl.figure.prototype._init_header = function() {\n",
       "    var titlebar = $(\n",
       "        '<div class=\"ui-dialog-titlebar ui-widget-header ui-corner-all ' +\n",
       "        'ui-helper-clearfix\"/>');\n",
       "    var titletext = $(\n",
       "        '<div class=\"ui-dialog-title\" style=\"width: 100%; ' +\n",
       "        'text-align: center; padding: 3px;\"/>');\n",
       "    titlebar.append(titletext)\n",
       "    this.root.append(titlebar);\n",
       "    this.header = titletext[0];\n",
       "}\n",
       "\n",
       "\n",
       "\n",
       "mpl.figure.prototype._canvas_extra_style = function(canvas_div) {\n",
       "\n",
       "}\n",
       "\n",
       "\n",
       "mpl.figure.prototype._root_extra_style = function(canvas_div) {\n",
       "\n",
       "}\n",
       "\n",
       "mpl.figure.prototype._init_canvas = function() {\n",
       "    var fig = this;\n",
       "\n",
       "    var canvas_div = $('<div/>');\n",
       "\n",
       "    canvas_div.attr('style', 'position: relative; clear: both; outline: 0');\n",
       "\n",
       "    function canvas_keyboard_event(event) {\n",
       "        return fig.key_event(event, event['data']);\n",
       "    }\n",
       "\n",
       "    canvas_div.keydown('key_press', canvas_keyboard_event);\n",
       "    canvas_div.keyup('key_release', canvas_keyboard_event);\n",
       "    this.canvas_div = canvas_div\n",
       "    this._canvas_extra_style(canvas_div)\n",
       "    this.root.append(canvas_div);\n",
       "\n",
       "    var canvas = $('<canvas/>');\n",
       "    canvas.addClass('mpl-canvas');\n",
       "    canvas.attr('style', \"left: 0; top: 0; z-index: 0; outline: 0\")\n",
       "\n",
       "    this.canvas = canvas[0];\n",
       "    this.context = canvas[0].getContext(\"2d\");\n",
       "\n",
       "    var backingStore = this.context.backingStorePixelRatio ||\n",
       "\tthis.context.webkitBackingStorePixelRatio ||\n",
       "\tthis.context.mozBackingStorePixelRatio ||\n",
       "\tthis.context.msBackingStorePixelRatio ||\n",
       "\tthis.context.oBackingStorePixelRatio ||\n",
       "\tthis.context.backingStorePixelRatio || 1;\n",
       "\n",
       "    mpl.ratio = (window.devicePixelRatio || 1) / backingStore;\n",
       "\n",
       "    var rubberband = $('<canvas/>');\n",
       "    rubberband.attr('style', \"position: absolute; left: 0; top: 0; z-index: 1;\")\n",
       "\n",
       "    var pass_mouse_events = true;\n",
       "\n",
       "    canvas_div.resizable({\n",
       "        start: function(event, ui) {\n",
       "            pass_mouse_events = false;\n",
       "        },\n",
       "        resize: function(event, ui) {\n",
       "            fig.request_resize(ui.size.width, ui.size.height);\n",
       "        },\n",
       "        stop: function(event, ui) {\n",
       "            pass_mouse_events = true;\n",
       "            fig.request_resize(ui.size.width, ui.size.height);\n",
       "        },\n",
       "    });\n",
       "\n",
       "    function mouse_event_fn(event) {\n",
       "        if (pass_mouse_events)\n",
       "            return fig.mouse_event(event, event['data']);\n",
       "    }\n",
       "\n",
       "    rubberband.mousedown('button_press', mouse_event_fn);\n",
       "    rubberband.mouseup('button_release', mouse_event_fn);\n",
       "    // Throttle sequential mouse events to 1 every 20ms.\n",
       "    rubberband.mousemove('motion_notify', mouse_event_fn);\n",
       "\n",
       "    rubberband.mouseenter('figure_enter', mouse_event_fn);\n",
       "    rubberband.mouseleave('figure_leave', mouse_event_fn);\n",
       "\n",
       "    canvas_div.on(\"wheel\", function (event) {\n",
       "        event = event.originalEvent;\n",
       "        event['data'] = 'scroll'\n",
       "        if (event.deltaY < 0) {\n",
       "            event.step = 1;\n",
       "        } else {\n",
       "            event.step = -1;\n",
       "        }\n",
       "        mouse_event_fn(event);\n",
       "    });\n",
       "\n",
       "    canvas_div.append(canvas);\n",
       "    canvas_div.append(rubberband);\n",
       "\n",
       "    this.rubberband = rubberband;\n",
       "    this.rubberband_canvas = rubberband[0];\n",
       "    this.rubberband_context = rubberband[0].getContext(\"2d\");\n",
       "    this.rubberband_context.strokeStyle = \"#000000\";\n",
       "\n",
       "    this._resize_canvas = function(width, height) {\n",
       "        // Keep the size of the canvas, canvas container, and rubber band\n",
       "        // canvas in synch.\n",
       "        canvas_div.css('width', width)\n",
       "        canvas_div.css('height', height)\n",
       "\n",
       "        canvas.attr('width', width * mpl.ratio);\n",
       "        canvas.attr('height', height * mpl.ratio);\n",
       "        canvas.attr('style', 'width: ' + width + 'px; height: ' + height + 'px;');\n",
       "\n",
       "        rubberband.attr('width', width);\n",
       "        rubberband.attr('height', height);\n",
       "    }\n",
       "\n",
       "    // Set the figure to an initial 600x600px, this will subsequently be updated\n",
       "    // upon first draw.\n",
       "    this._resize_canvas(600, 600);\n",
       "\n",
       "    // Disable right mouse context menu.\n",
       "    $(this.rubberband_canvas).bind(\"contextmenu\",function(e){\n",
       "        return false;\n",
       "    });\n",
       "\n",
       "    function set_focus () {\n",
       "        canvas.focus();\n",
       "        canvas_div.focus();\n",
       "    }\n",
       "\n",
       "    window.setTimeout(set_focus, 100);\n",
       "}\n",
       "\n",
       "mpl.figure.prototype._init_toolbar = function() {\n",
       "    var fig = this;\n",
       "\n",
       "    var nav_element = $('<div/>');\n",
       "    nav_element.attr('style', 'width: 100%');\n",
       "    this.root.append(nav_element);\n",
       "\n",
       "    // Define a callback function for later on.\n",
       "    function toolbar_event(event) {\n",
       "        return fig.toolbar_button_onclick(event['data']);\n",
       "    }\n",
       "    function toolbar_mouse_event(event) {\n",
       "        return fig.toolbar_button_onmouseover(event['data']);\n",
       "    }\n",
       "\n",
       "    for(var toolbar_ind in mpl.toolbar_items) {\n",
       "        var name = mpl.toolbar_items[toolbar_ind][0];\n",
       "        var tooltip = mpl.toolbar_items[toolbar_ind][1];\n",
       "        var image = mpl.toolbar_items[toolbar_ind][2];\n",
       "        var method_name = mpl.toolbar_items[toolbar_ind][3];\n",
       "\n",
       "        if (!name) {\n",
       "            // put a spacer in here.\n",
       "            continue;\n",
       "        }\n",
       "        var button = $('<button/>');\n",
       "        button.addClass('ui-button ui-widget ui-state-default ui-corner-all ' +\n",
       "                        'ui-button-icon-only');\n",
       "        button.attr('role', 'button');\n",
       "        button.attr('aria-disabled', 'false');\n",
       "        button.click(method_name, toolbar_event);\n",
       "        button.mouseover(tooltip, toolbar_mouse_event);\n",
       "\n",
       "        var icon_img = $('<span/>');\n",
       "        icon_img.addClass('ui-button-icon-primary ui-icon');\n",
       "        icon_img.addClass(image);\n",
       "        icon_img.addClass('ui-corner-all');\n",
       "\n",
       "        var tooltip_span = $('<span/>');\n",
       "        tooltip_span.addClass('ui-button-text');\n",
       "        tooltip_span.html(tooltip);\n",
       "\n",
       "        button.append(icon_img);\n",
       "        button.append(tooltip_span);\n",
       "\n",
       "        nav_element.append(button);\n",
       "    }\n",
       "\n",
       "    var fmt_picker_span = $('<span/>');\n",
       "\n",
       "    var fmt_picker = $('<select/>');\n",
       "    fmt_picker.addClass('mpl-toolbar-option ui-widget ui-widget-content');\n",
       "    fmt_picker_span.append(fmt_picker);\n",
       "    nav_element.append(fmt_picker_span);\n",
       "    this.format_dropdown = fmt_picker[0];\n",
       "\n",
       "    for (var ind in mpl.extensions) {\n",
       "        var fmt = mpl.extensions[ind];\n",
       "        var option = $(\n",
       "            '<option/>', {selected: fmt === mpl.default_extension}).html(fmt);\n",
       "        fmt_picker.append(option);\n",
       "    }\n",
       "\n",
       "    // Add hover states to the ui-buttons\n",
       "    $( \".ui-button\" ).hover(\n",
       "        function() { $(this).addClass(\"ui-state-hover\");},\n",
       "        function() { $(this).removeClass(\"ui-state-hover\");}\n",
       "    );\n",
       "\n",
       "    var status_bar = $('<span class=\"mpl-message\"/>');\n",
       "    nav_element.append(status_bar);\n",
       "    this.message = status_bar[0];\n",
       "}\n",
       "\n",
       "mpl.figure.prototype.request_resize = function(x_pixels, y_pixels) {\n",
       "    // Request matplotlib to resize the figure. Matplotlib will then trigger a resize in the client,\n",
       "    // which will in turn request a refresh of the image.\n",
       "    this.send_message('resize', {'width': x_pixels, 'height': y_pixels});\n",
       "}\n",
       "\n",
       "mpl.figure.prototype.send_message = function(type, properties) {\n",
       "    properties['type'] = type;\n",
       "    properties['figure_id'] = this.id;\n",
       "    this.ws.send(JSON.stringify(properties));\n",
       "}\n",
       "\n",
       "mpl.figure.prototype.send_draw_message = function() {\n",
       "    if (!this.waiting) {\n",
       "        this.waiting = true;\n",
       "        this.ws.send(JSON.stringify({type: \"draw\", figure_id: this.id}));\n",
       "    }\n",
       "}\n",
       "\n",
       "\n",
       "mpl.figure.prototype.handle_save = function(fig, msg) {\n",
       "    var format_dropdown = fig.format_dropdown;\n",
       "    var format = format_dropdown.options[format_dropdown.selectedIndex].value;\n",
       "    fig.ondownload(fig, format);\n",
       "}\n",
       "\n",
       "\n",
       "mpl.figure.prototype.handle_resize = function(fig, msg) {\n",
       "    var size = msg['size'];\n",
       "    if (size[0] != fig.canvas.width || size[1] != fig.canvas.height) {\n",
       "        fig._resize_canvas(size[0], size[1]);\n",
       "        fig.send_message(\"refresh\", {});\n",
       "    };\n",
       "}\n",
       "\n",
       "mpl.figure.prototype.handle_rubberband = function(fig, msg) {\n",
       "    var x0 = msg['x0'] / mpl.ratio;\n",
       "    var y0 = (fig.canvas.height - msg['y0']) / mpl.ratio;\n",
       "    var x1 = msg['x1'] / mpl.ratio;\n",
       "    var y1 = (fig.canvas.height - msg['y1']) / mpl.ratio;\n",
       "    x0 = Math.floor(x0) + 0.5;\n",
       "    y0 = Math.floor(y0) + 0.5;\n",
       "    x1 = Math.floor(x1) + 0.5;\n",
       "    y1 = Math.floor(y1) + 0.5;\n",
       "    var min_x = Math.min(x0, x1);\n",
       "    var min_y = Math.min(y0, y1);\n",
       "    var width = Math.abs(x1 - x0);\n",
       "    var height = Math.abs(y1 - y0);\n",
       "\n",
       "    fig.rubberband_context.clearRect(\n",
       "        0, 0, fig.canvas.width / mpl.ratio, fig.canvas.height / mpl.ratio);\n",
       "\n",
       "    fig.rubberband_context.strokeRect(min_x, min_y, width, height);\n",
       "}\n",
       "\n",
       "mpl.figure.prototype.handle_figure_label = function(fig, msg) {\n",
       "    // Updates the figure title.\n",
       "    fig.header.textContent = msg['label'];\n",
       "}\n",
       "\n",
       "mpl.figure.prototype.handle_cursor = function(fig, msg) {\n",
       "    var cursor = msg['cursor'];\n",
       "    switch(cursor)\n",
       "    {\n",
       "    case 0:\n",
       "        cursor = 'pointer';\n",
       "        break;\n",
       "    case 1:\n",
       "        cursor = 'default';\n",
       "        break;\n",
       "    case 2:\n",
       "        cursor = 'crosshair';\n",
       "        break;\n",
       "    case 3:\n",
       "        cursor = 'move';\n",
       "        break;\n",
       "    }\n",
       "    fig.rubberband_canvas.style.cursor = cursor;\n",
       "}\n",
       "\n",
       "mpl.figure.prototype.handle_message = function(fig, msg) {\n",
       "    fig.message.textContent = msg['message'];\n",
       "}\n",
       "\n",
       "mpl.figure.prototype.handle_draw = function(fig, msg) {\n",
       "    // Request the server to send over a new figure.\n",
       "    fig.send_draw_message();\n",
       "}\n",
       "\n",
       "mpl.figure.prototype.handle_image_mode = function(fig, msg) {\n",
       "    fig.image_mode = msg['mode'];\n",
       "}\n",
       "\n",
       "mpl.figure.prototype.updated_canvas_event = function() {\n",
       "    // Called whenever the canvas gets updated.\n",
       "    this.send_message(\"ack\", {});\n",
       "}\n",
       "\n",
       "// A function to construct a web socket function for onmessage handling.\n",
       "// Called in the figure constructor.\n",
       "mpl.figure.prototype._make_on_message_function = function(fig) {\n",
       "    return function socket_on_message(evt) {\n",
       "        if (evt.data instanceof Blob) {\n",
       "            /* FIXME: We get \"Resource interpreted as Image but\n",
       "             * transferred with MIME type text/plain:\" errors on\n",
       "             * Chrome.  But how to set the MIME type?  It doesn't seem\n",
       "             * to be part of the websocket stream */\n",
       "            evt.data.type = \"image/png\";\n",
       "\n",
       "            /* Free the memory for the previous frames */\n",
       "            if (fig.imageObj.src) {\n",
       "                (window.URL || window.webkitURL).revokeObjectURL(\n",
       "                    fig.imageObj.src);\n",
       "            }\n",
       "\n",
       "            fig.imageObj.src = (window.URL || window.webkitURL).createObjectURL(\n",
       "                evt.data);\n",
       "            fig.updated_canvas_event();\n",
       "            fig.waiting = false;\n",
       "            return;\n",
       "        }\n",
       "        else if (typeof evt.data === 'string' && evt.data.slice(0, 21) == \"data:image/png;base64\") {\n",
       "            fig.imageObj.src = evt.data;\n",
       "            fig.updated_canvas_event();\n",
       "            fig.waiting = false;\n",
       "            return;\n",
       "        }\n",
       "\n",
       "        var msg = JSON.parse(evt.data);\n",
       "        var msg_type = msg['type'];\n",
       "\n",
       "        // Call the  \"handle_{type}\" callback, which takes\n",
       "        // the figure and JSON message as its only arguments.\n",
       "        try {\n",
       "            var callback = fig[\"handle_\" + msg_type];\n",
       "        } catch (e) {\n",
       "            console.log(\"No handler for the '\" + msg_type + \"' message type: \", msg);\n",
       "            return;\n",
       "        }\n",
       "\n",
       "        if (callback) {\n",
       "            try {\n",
       "                // console.log(\"Handling '\" + msg_type + \"' message: \", msg);\n",
       "                callback(fig, msg);\n",
       "            } catch (e) {\n",
       "                console.log(\"Exception inside the 'handler_\" + msg_type + \"' callback:\", e, e.stack, msg);\n",
       "            }\n",
       "        }\n",
       "    };\n",
       "}\n",
       "\n",
       "// from http://stackoverflow.com/questions/1114465/getting-mouse-location-in-canvas\n",
       "mpl.findpos = function(e) {\n",
       "    //this section is from http://www.quirksmode.org/js/events_properties.html\n",
       "    var targ;\n",
       "    if (!e)\n",
       "        e = window.event;\n",
       "    if (e.target)\n",
       "        targ = e.target;\n",
       "    else if (e.srcElement)\n",
       "        targ = e.srcElement;\n",
       "    if (targ.nodeType == 3) // defeat Safari bug\n",
       "        targ = targ.parentNode;\n",
       "\n",
       "    // jQuery normalizes the pageX and pageY\n",
       "    // pageX,Y are the mouse positions relative to the document\n",
       "    // offset() returns the position of the element relative to the document\n",
       "    var x = e.pageX - $(targ).offset().left;\n",
       "    var y = e.pageY - $(targ).offset().top;\n",
       "\n",
       "    return {\"x\": x, \"y\": y};\n",
       "};\n",
       "\n",
       "/*\n",
       " * return a copy of an object with only non-object keys\n",
       " * we need this to avoid circular references\n",
       " * http://stackoverflow.com/a/24161582/3208463\n",
       " */\n",
       "function simpleKeys (original) {\n",
       "  return Object.keys(original).reduce(function (obj, key) {\n",
       "    if (typeof original[key] !== 'object')\n",
       "        obj[key] = original[key]\n",
       "    return obj;\n",
       "  }, {});\n",
       "}\n",
       "\n",
       "mpl.figure.prototype.mouse_event = function(event, name) {\n",
       "    var canvas_pos = mpl.findpos(event)\n",
       "\n",
       "    if (name === 'button_press')\n",
       "    {\n",
       "        this.canvas.focus();\n",
       "        this.canvas_div.focus();\n",
       "    }\n",
       "\n",
       "    var x = canvas_pos.x * mpl.ratio;\n",
       "    var y = canvas_pos.y * mpl.ratio;\n",
       "\n",
       "    this.send_message(name, {x: x, y: y, button: event.button,\n",
       "                             step: event.step,\n",
       "                             guiEvent: simpleKeys(event)});\n",
       "\n",
       "    /* This prevents the web browser from automatically changing to\n",
       "     * the text insertion cursor when the button is pressed.  We want\n",
       "     * to control all of the cursor setting manually through the\n",
       "     * 'cursor' event from matplotlib */\n",
       "    event.preventDefault();\n",
       "    return false;\n",
       "}\n",
       "\n",
       "mpl.figure.prototype._key_event_extra = function(event, name) {\n",
       "    // Handle any extra behaviour associated with a key event\n",
       "}\n",
       "\n",
       "mpl.figure.prototype.key_event = function(event, name) {\n",
       "\n",
       "    // Prevent repeat events\n",
       "    if (name == 'key_press')\n",
       "    {\n",
       "        if (event.which === this._key)\n",
       "            return;\n",
       "        else\n",
       "            this._key = event.which;\n",
       "    }\n",
       "    if (name == 'key_release')\n",
       "        this._key = null;\n",
       "\n",
       "    var value = '';\n",
       "    if (event.ctrlKey && event.which != 17)\n",
       "        value += \"ctrl+\";\n",
       "    if (event.altKey && event.which != 18)\n",
       "        value += \"alt+\";\n",
       "    if (event.shiftKey && event.which != 16)\n",
       "        value += \"shift+\";\n",
       "\n",
       "    value += 'k';\n",
       "    value += event.which.toString();\n",
       "\n",
       "    this._key_event_extra(event, name);\n",
       "\n",
       "    this.send_message(name, {key: value,\n",
       "                             guiEvent: simpleKeys(event)});\n",
       "    return false;\n",
       "}\n",
       "\n",
       "mpl.figure.prototype.toolbar_button_onclick = function(name) {\n",
       "    if (name == 'download') {\n",
       "        this.handle_save(this, null);\n",
       "    } else {\n",
       "        this.send_message(\"toolbar_button\", {name: name});\n",
       "    }\n",
       "};\n",
       "\n",
       "mpl.figure.prototype.toolbar_button_onmouseover = function(tooltip) {\n",
       "    this.message.textContent = tooltip;\n",
       "};\n",
       "mpl.toolbar_items = [[\"Home\", \"Reset original view\", \"fa fa-home icon-home\", \"home\"], [\"Back\", \"Back to previous view\", \"fa fa-arrow-left icon-arrow-left\", \"back\"], [\"Forward\", \"Forward to next view\", \"fa fa-arrow-right icon-arrow-right\", \"forward\"], [\"\", \"\", \"\", \"\"], [\"Pan\", \"Pan axes with left mouse, zoom with right\", \"fa fa-arrows icon-move\", \"pan\"], [\"Zoom\", \"Zoom to rectangle\", \"fa fa-square-o icon-check-empty\", \"zoom\"], [\"\", \"\", \"\", \"\"], [\"Download\", \"Download plot\", \"fa fa-floppy-o icon-save\", \"download\"]];\n",
       "\n",
       "mpl.extensions = [\"eps\", \"jpeg\", \"pdf\", \"png\", \"ps\", \"raw\", \"svg\", \"tif\"];\n",
       "\n",
       "mpl.default_extension = \"png\";var comm_websocket_adapter = function(comm) {\n",
       "    // Create a \"websocket\"-like object which calls the given IPython comm\n",
       "    // object with the appropriate methods. Currently this is a non binary\n",
       "    // socket, so there is still some room for performance tuning.\n",
       "    var ws = {};\n",
       "\n",
       "    ws.close = function() {\n",
       "        comm.close()\n",
       "    };\n",
       "    ws.send = function(m) {\n",
       "        //console.log('sending', m);\n",
       "        comm.send(m);\n",
       "    };\n",
       "    // Register the callback with on_msg.\n",
       "    comm.on_msg(function(msg) {\n",
       "        //console.log('receiving', msg['content']['data'], msg);\n",
       "        // Pass the mpl event to the overridden (by mpl) onmessage function.\n",
       "        ws.onmessage(msg['content']['data'])\n",
       "    });\n",
       "    return ws;\n",
       "}\n",
       "\n",
       "mpl.mpl_figure_comm = function(comm, msg) {\n",
       "    // This is the function which gets called when the mpl process\n",
       "    // starts-up an IPython Comm through the \"matplotlib\" channel.\n",
       "\n",
       "    var id = msg.content.data.id;\n",
       "    // Get hold of the div created by the display call when the Comm\n",
       "    // socket was opened in Python.\n",
       "    var element = $(\"#\" + id);\n",
       "    var ws_proxy = comm_websocket_adapter(comm)\n",
       "\n",
       "    function ondownload(figure, format) {\n",
       "        window.open(figure.imageObj.src);\n",
       "    }\n",
       "\n",
       "    var fig = new mpl.figure(id, ws_proxy,\n",
       "                           ondownload,\n",
       "                           element.get(0));\n",
       "\n",
       "    // Call onopen now - mpl needs it, as it is assuming we've passed it a real\n",
       "    // web socket which is closed, not our websocket->open comm proxy.\n",
       "    ws_proxy.onopen();\n",
       "\n",
       "    fig.parent_element = element.get(0);\n",
       "    fig.cell_info = mpl.find_output_cell(\"<div id='\" + id + \"'></div>\");\n",
       "    if (!fig.cell_info) {\n",
       "        console.error(\"Failed to find cell for figure\", id, fig);\n",
       "        return;\n",
       "    }\n",
       "\n",
       "    var output_index = fig.cell_info[2]\n",
       "    var cell = fig.cell_info[0];\n",
       "\n",
       "};\n",
       "\n",
       "mpl.figure.prototype.handle_close = function(fig, msg) {\n",
       "    var width = fig.canvas.width/mpl.ratio\n",
       "    fig.root.unbind('remove')\n",
       "\n",
       "    // Update the output cell to use the data from the current canvas.\n",
       "    fig.push_to_output();\n",
       "    var dataURL = fig.canvas.toDataURL();\n",
       "    // Re-enable the keyboard manager in IPython - without this line, in FF,\n",
       "    // the notebook keyboard shortcuts fail.\n",
       "    IPython.keyboard_manager.enable()\n",
       "    $(fig.parent_element).html('<img src=\"' + dataURL + '\" width=\"' + width + '\">');\n",
       "    fig.close_ws(fig, msg);\n",
       "}\n",
       "\n",
       "mpl.figure.prototype.close_ws = function(fig, msg){\n",
       "    fig.send_message('closing', msg);\n",
       "    // fig.ws.close()\n",
       "}\n",
       "\n",
       "mpl.figure.prototype.push_to_output = function(remove_interactive) {\n",
       "    // Turn the data on the canvas into data in the output cell.\n",
       "    var width = this.canvas.width/mpl.ratio\n",
       "    var dataURL = this.canvas.toDataURL();\n",
       "    this.cell_info[1]['text/html'] = '<img src=\"' + dataURL + '\" width=\"' + width + '\">';\n",
       "}\n",
       "\n",
       "mpl.figure.prototype.updated_canvas_event = function() {\n",
       "    // Tell IPython that the notebook contents must change.\n",
       "    IPython.notebook.set_dirty(true);\n",
       "    this.send_message(\"ack\", {});\n",
       "    var fig = this;\n",
       "    // Wait a second, then push the new image to the DOM so\n",
       "    // that it is saved nicely (might be nice to debounce this).\n",
       "    setTimeout(function () { fig.push_to_output() }, 1000);\n",
       "}\n",
       "\n",
       "mpl.figure.prototype._init_toolbar = function() {\n",
       "    var fig = this;\n",
       "\n",
       "    var nav_element = $('<div/>');\n",
       "    nav_element.attr('style', 'width: 100%');\n",
       "    this.root.append(nav_element);\n",
       "\n",
       "    // Define a callback function for later on.\n",
       "    function toolbar_event(event) {\n",
       "        return fig.toolbar_button_onclick(event['data']);\n",
       "    }\n",
       "    function toolbar_mouse_event(event) {\n",
       "        return fig.toolbar_button_onmouseover(event['data']);\n",
       "    }\n",
       "\n",
       "    for(var toolbar_ind in mpl.toolbar_items){\n",
       "        var name = mpl.toolbar_items[toolbar_ind][0];\n",
       "        var tooltip = mpl.toolbar_items[toolbar_ind][1];\n",
       "        var image = mpl.toolbar_items[toolbar_ind][2];\n",
       "        var method_name = mpl.toolbar_items[toolbar_ind][3];\n",
       "\n",
       "        if (!name) { continue; };\n",
       "\n",
       "        var button = $('<button class=\"btn btn-default\" href=\"#\" title=\"' + name + '\"><i class=\"fa ' + image + ' fa-lg\"></i></button>');\n",
       "        button.click(method_name, toolbar_event);\n",
       "        button.mouseover(tooltip, toolbar_mouse_event);\n",
       "        nav_element.append(button);\n",
       "    }\n",
       "\n",
       "    // Add the status bar.\n",
       "    var status_bar = $('<span class=\"mpl-message\" style=\"text-align:right; float: right;\"/>');\n",
       "    nav_element.append(status_bar);\n",
       "    this.message = status_bar[0];\n",
       "\n",
       "    // Add the close button to the window.\n",
       "    var buttongrp = $('<div class=\"btn-group inline pull-right\"></div>');\n",
       "    var button = $('<button class=\"btn btn-mini btn-primary\" href=\"#\" title=\"Stop Interaction\"><i class=\"fa fa-power-off icon-remove icon-large\"></i></button>');\n",
       "    button.click(function (evt) { fig.handle_close(fig, {}); } );\n",
       "    button.mouseover('Stop Interaction', toolbar_mouse_event);\n",
       "    buttongrp.append(button);\n",
       "    var titlebar = this.root.find($('.ui-dialog-titlebar'));\n",
       "    titlebar.prepend(buttongrp);\n",
       "}\n",
       "\n",
       "mpl.figure.prototype._root_extra_style = function(el){\n",
       "    var fig = this\n",
       "    el.on(\"remove\", function(){\n",
       "\tfig.close_ws(fig, {});\n",
       "    });\n",
       "}\n",
       "\n",
       "mpl.figure.prototype._canvas_extra_style = function(el){\n",
       "    // this is important to make the div 'focusable\n",
       "    el.attr('tabindex', 0)\n",
       "    // reach out to IPython and tell the keyboard manager to turn it's self\n",
       "    // off when our div gets focus\n",
       "\n",
       "    // location in version 3\n",
       "    if (IPython.notebook.keyboard_manager) {\n",
       "        IPython.notebook.keyboard_manager.register_events(el);\n",
       "    }\n",
       "    else {\n",
       "        // location in version 2\n",
       "        IPython.keyboard_manager.register_events(el);\n",
       "    }\n",
       "\n",
       "}\n",
       "\n",
       "mpl.figure.prototype._key_event_extra = function(event, name) {\n",
       "    var manager = IPython.notebook.keyboard_manager;\n",
       "    if (!manager)\n",
       "        manager = IPython.keyboard_manager;\n",
       "\n",
       "    // Check for shift+enter\n",
       "    if (event.shiftKey && event.which == 13) {\n",
       "        this.canvas_div.blur();\n",
       "        // select the cell after this one\n",
       "        var index = IPython.notebook.find_cell_index(this.cell_info[0]);\n",
       "        IPython.notebook.select(index + 1);\n",
       "    }\n",
       "}\n",
       "\n",
       "mpl.figure.prototype.handle_save = function(fig, msg) {\n",
       "    fig.ondownload(fig, null);\n",
       "}\n",
       "\n",
       "\n",
       "mpl.find_output_cell = function(html_output) {\n",
       "    // Return the cell and output element which can be found *uniquely* in the notebook.\n",
       "    // Note - this is a bit hacky, but it is done because the \"notebook_saving.Notebook\"\n",
       "    // IPython event is triggered only after the cells have been serialised, which for\n",
       "    // our purposes (turning an active figure into a static one), is too late.\n",
       "    var cells = IPython.notebook.get_cells();\n",
       "    var ncells = cells.length;\n",
       "    for (var i=0; i<ncells; i++) {\n",
       "        var cell = cells[i];\n",
       "        if (cell.cell_type === 'code'){\n",
       "            for (var j=0; j<cell.output_area.outputs.length; j++) {\n",
       "                var data = cell.output_area.outputs[j];\n",
       "                if (data.data) {\n",
       "                    // IPython >= 3 moved mimebundle to data attribute of output\n",
       "                    data = data.data;\n",
       "                }\n",
       "                if (data['text/html'] == html_output) {\n",
       "                    return [cell, data, j];\n",
       "                }\n",
       "            }\n",
       "        }\n",
       "    }\n",
       "}\n",
       "\n",
       "// Register the function which deals with the matplotlib target/channel.\n",
       "// The kernel may be null if the page has been refreshed.\n",
       "if (IPython.notebook.kernel != null) {\n",
       "    IPython.notebook.kernel.comm_manager.register_target('matplotlib', mpl.mpl_figure_comm);\n",
       "}\n"
      ],
      "text/plain": [
       "<IPython.core.display.Javascript object>"
      ]
     },
     "metadata": {},
     "output_type": "display_data"
    },
    {
     "data": {
      "text/html": [
       "<img src=\"data:image/png;base64,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\" width=\"1000\">"
      ],
      "text/plain": [
       "<IPython.core.display.HTML object>"
      ]
     },
     "metadata": {},
     "output_type": "display_data"
    }
   ],
   "source": [
    "ax, tax, lax, lines = dual_train_plots()\n",
    "fig = ax.figure\n",
    "plt.tight_layout()\n",
    "# This gets built up during the run - do not rerun this cell\n",
    "results = pd.DataFrame([], columns=Results._fields)"
   ]
  },
  {
   "cell_type": "code",
   "execution_count": 12,
   "metadata": {
    "scrolled": true
   },
   "outputs": [
    {
     "name": "stdout",
     "output_type": "stream",
     "text": [
      "for model:  ACN_1_10L_4S(\n",
      "  (conv1): Conv1d(1, 20, kernel_size=(25,), stride=(1,), padding=(12,))\n",
      "  (conv2): Conv1d(20, 10, kernel_size=(15,), stride=(1,), padding=(7,))\n",
      "  (conv3): Conv1d(30, 10, kernel_size=(15,), stride=(1,), padding=(7,))\n",
      "  (conv4): Conv1d(10, 10, kernel_size=(15,), stride=(1,), padding=(7,))\n",
      "  (conv5): Conv1d(20, 10, kernel_size=(15,), stride=(1,), padding=(7,))\n",
      "  (conv6): Conv1d(10, 10, kernel_size=(15,), stride=(1,), padding=(7,))\n",
      "  (conv7): Conv1d(20, 7, kernel_size=(5,), stride=(1,), padding=(2,))\n",
      "  (conv8): Conv1d(7, 3, kernel_size=(5,), stride=(1,), padding=(2,))\n",
      "  (conv9): Conv1d(10, 1, kernel_size=(5,), stride=(1,), padding=(2,))\n",
      "  (conv1dropout): Dropout(p=0.15, inplace=False)\n",
      "  (conv2dropout): Dropout(p=0.15, inplace=False)\n",
      "  (conv3dropout): Dropout(p=0.15, inplace=False)\n",
      "  (conv4dropout): Dropout(p=0.15, inplace=False)\n",
      "  (conv5dropout): Dropout(p=0.15, inplace=False)\n",
      "  (conv6dropout): Dropout(p=0.15, inplace=False)\n",
      "  (conv7dropout): Dropout(p=0.15, inplace=False)\n",
      "  (conv8dropout): Dropout(p=0.15, inplace=False)\n",
      "  (conv9dropout): Dropout(p=0.35, inplace=False)\n",
      "  (fc1): Linear(in_features=4000, out_features=4000, bias=True)\n",
      ")\n",
      "epoch_start 20\n",
      "batch_size 128\n",
      "epochs 200\n",
      "lr 0.0001\n",
      "Number of batches: train = 1250, val = 157\n"
     ]
    },
    {
     "name": "stderr",
     "output_type": "stream",
     "text": [
      "/home/michael24peters/pv-finder/notebooks/model/training.py:95: TqdmDeprecationWarning: This function will be removed in tqdm==5.0.0\n",
      "Please use `tqdm.notebook.tqdm` instead of `tqdm.tqdm_notebook`\n",
      "  file=sys.stderr,\n"
     ]
    },
    {
     "data": {
      "application/vnd.jupyter.widget-view+json": {
       "model_id": "47f04f4284df4c8093c892e108eef54f",
       "version_major": 2,
       "version_minor": 0
      },
      "text/plain": [
       "HBox(children=(FloatProgress(value=0.0, description='Epochs', layout=Layout(flex='2'), max=200.0, style=Progre…"
      ]
     },
     "metadata": {},
     "output_type": "display_data"
    },
    {
     "data": {
      "application/vnd.jupyter.widget-view+json": {
       "model_id": "",
       "version_major": 2,
       "version_minor": 0
      },
      "text/plain": [
       "HBox(children=(FloatProgress(value=0.0, description='Training', layout=Layout(flex='2'), max=1250.0, style=Pro…"
      ]
     },
     "metadata": {},
     "output_type": "display_data"
    },
    {
     "name": "stdout",
     "output_type": "stream",
     "text": [
      "Epoch 20: train=17.4134, val=14.2681, took 41.333 s\n",
      "  Validation Found 84375 of 108007, added 4203 (eff 78.12%) (0.21 FP/event)\n"
     ]
    },
    {
     "data": {
      "application/vnd.jupyter.widget-view+json": {
       "model_id": "",
       "version_major": 2,
       "version_minor": 0
      },
      "text/plain": [
       "HBox(children=(FloatProgress(value=0.0, description='Training', layout=Layout(flex='2'), max=1250.0, style=Pro…"
      ]
     },
     "metadata": {},
     "output_type": "display_data"
    },
    {
     "name": "stdout",
     "output_type": "stream",
     "text": [
      "Epoch 21: train=17.0335, val=13.8848, took 40.127 s\n",
      "  Validation Found 89447 of 108007, added 5021 (eff 82.82%) (0.251 FP/event)\n"
     ]
    },
    {
     "data": {
      "application/vnd.jupyter.widget-view+json": {
       "model_id": "",
       "version_major": 2,
       "version_minor": 0
      },
      "text/plain": [
       "HBox(children=(FloatProgress(value=0.0, description='Training', layout=Layout(flex='2'), max=1250.0, style=Pro…"
      ]
     },
     "metadata": {},
     "output_type": "display_data"
    },
    {
     "name": "stdout",
     "output_type": "stream",
     "text": [
      "Epoch 22: train=16.7584, val=13.7261, took 40.137 s\n",
      "  Validation Found 88876 of 108007, added 4386 (eff 82.29%) (0.219 FP/event)\n"
     ]
    },
    {
     "data": {
      "application/vnd.jupyter.widget-view+json": {
       "model_id": "",
       "version_major": 2,
       "version_minor": 0
      },
      "text/plain": [
       "HBox(children=(FloatProgress(value=0.0, description='Training', layout=Layout(flex='2'), max=1250.0, style=Pro…"
      ]
     },
     "metadata": {},
     "output_type": "display_data"
    },
    {
     "name": "stdout",
     "output_type": "stream",
     "text": [
      "Epoch 23: train=16.5569, val=13.5243, took 41.51 s\n",
      "  Validation Found 89486 of 108007, added 4624 (eff 82.85%) (0.231 FP/event)\n"
     ]
    },
    {
     "data": {
      "application/vnd.jupyter.widget-view+json": {
       "model_id": "",
       "version_major": 2,
       "version_minor": 0
      },
      "text/plain": [
       "HBox(children=(FloatProgress(value=0.0, description='Training', layout=Layout(flex='2'), max=1250.0, style=Pro…"
      ]
     },
     "metadata": {},
     "output_type": "display_data"
    },
    {
     "name": "stdout",
     "output_type": "stream",
     "text": [
      "Epoch 24: train=16.388, val=13.435, took 40.175 s\n",
      "  Validation Found 90467 of 108007, added 4527 (eff 83.76%) (0.226 FP/event)\n"
     ]
    },
    {
     "data": {
      "application/vnd.jupyter.widget-view+json": {
       "model_id": "",
       "version_major": 2,
       "version_minor": 0
      },
      "text/plain": [
       "HBox(children=(FloatProgress(value=0.0, description='Training', layout=Layout(flex='2'), max=1250.0, style=Pro…"
      ]
     },
     "metadata": {},
     "output_type": "display_data"
    },
    {
     "name": "stdout",
     "output_type": "stream",
     "text": [
      "Epoch 25: train=16.2604, val=13.3191, took 40.147 s\n",
      "  Validation Found 91481 of 108007, added 4728 (eff 84.70%) (0.236 FP/event)\n"
     ]
    },
    {
     "data": {
      "application/vnd.jupyter.widget-view+json": {
       "model_id": "",
       "version_major": 2,
       "version_minor": 0
      },
      "text/plain": [
       "HBox(children=(FloatProgress(value=0.0, description='Training', layout=Layout(flex='2'), max=1250.0, style=Pro…"
      ]
     },
     "metadata": {},
     "output_type": "display_data"
    },
    {
     "name": "stdout",
     "output_type": "stream",
     "text": [
      "Epoch 26: train=16.1171, val=13.3075, took 40.771 s\n",
      "  Validation Found 92127 of 108007, added 4988 (eff 85.30%) (0.249 FP/event)\n"
     ]
    },
    {
     "data": {
      "application/vnd.jupyter.widget-view+json": {
       "model_id": "",
       "version_major": 2,
       "version_minor": 0
      },
      "text/plain": [
       "HBox(children=(FloatProgress(value=0.0, description='Training', layout=Layout(flex='2'), max=1250.0, style=Pro…"
      ]
     },
     "metadata": {},
     "output_type": "display_data"
    },
    {
     "name": "stdout",
     "output_type": "stream",
     "text": [
      "Epoch 27: train=16.0165, val=13.1474, took 40.889 s\n",
      "  Validation Found 91949 of 108007, added 4901 (eff 85.13%) (0.245 FP/event)\n"
     ]
    },
    {
     "data": {
      "application/vnd.jupyter.widget-view+json": {
       "model_id": "",
       "version_major": 2,
       "version_minor": 0
      },
      "text/plain": [
       "HBox(children=(FloatProgress(value=0.0, description='Training', layout=Layout(flex='2'), max=1250.0, style=Pro…"
      ]
     },
     "metadata": {},
     "output_type": "display_data"
    },
    {
     "name": "stdout",
     "output_type": "stream",
     "text": [
      "Epoch 28: train=15.9004, val=13.0598, took 40.188 s\n",
      "  Validation Found 91845 of 108007, added 4689 (eff 85.04%) (0.234 FP/event)\n"
     ]
    },
    {
     "data": {
      "application/vnd.jupyter.widget-view+json": {
       "model_id": "",
       "version_major": 2,
       "version_minor": 0
      },
      "text/plain": [
       "HBox(children=(FloatProgress(value=0.0, description='Training', layout=Layout(flex='2'), max=1250.0, style=Pro…"
      ]
     },
     "metadata": {},
     "output_type": "display_data"
    },
    {
     "name": "stdout",
     "output_type": "stream",
     "text": [
      "Epoch 29: train=15.7966, val=13.1034, took 40.176 s\n",
      "  Validation Found 92235 of 108007, added 4678 (eff 85.40%) (0.234 FP/event)\n"
     ]
    },
    {
     "data": {
      "application/vnd.jupyter.widget-view+json": {
       "model_id": "",
       "version_major": 2,
       "version_minor": 0
      },
      "text/plain": [
       "HBox(children=(FloatProgress(value=0.0, description='Training', layout=Layout(flex='2'), max=1250.0, style=Pro…"
      ]
     },
     "metadata": {},
     "output_type": "display_data"
    },
    {
     "name": "stdout",
     "output_type": "stream",
     "text": [
      "Epoch 30: train=15.6893, val=12.896, took 40.177 s\n",
      "  Validation Found 92150 of 108007, added 4867 (eff 85.32%) (0.243 FP/event)\n"
     ]
    },
    {
     "data": {
      "application/vnd.jupyter.widget-view+json": {
       "model_id": "",
       "version_major": 2,
       "version_minor": 0
      },
      "text/plain": [
       "HBox(children=(FloatProgress(value=0.0, description='Training', layout=Layout(flex='2'), max=1250.0, style=Pro…"
      ]
     },
     "metadata": {},
     "output_type": "display_data"
    },
    {
     "name": "stdout",
     "output_type": "stream",
     "text": [
      "Epoch 31: train=15.5814, val=12.9196, took 40.171 s\n",
      "  Validation Found 92429 of 108007, added 4682 (eff 85.58%) (0.234 FP/event)\n"
     ]
    },
    {
     "data": {
      "application/vnd.jupyter.widget-view+json": {
       "model_id": "",
       "version_major": 2,
       "version_minor": 0
      },
      "text/plain": [
       "HBox(children=(FloatProgress(value=0.0, description='Training', layout=Layout(flex='2'), max=1250.0, style=Pro…"
      ]
     },
     "metadata": {},
     "output_type": "display_data"
    },
    {
     "name": "stdout",
     "output_type": "stream",
     "text": [
      "Epoch 32: train=15.4488, val=12.7936, took 40.186 s\n",
      "  Validation Found 92208 of 108007, added 4584 (eff 85.37%) (0.229 FP/event)\n"
     ]
    },
    {
     "data": {
      "application/vnd.jupyter.widget-view+json": {
       "model_id": "",
       "version_major": 2,
       "version_minor": 0
      },
      "text/plain": [
       "HBox(children=(FloatProgress(value=0.0, description='Training', layout=Layout(flex='2'), max=1250.0, style=Pro…"
      ]
     },
     "metadata": {},
     "output_type": "display_data"
    },
    {
     "name": "stdout",
     "output_type": "stream",
     "text": [
      "Epoch 33: train=15.3272, val=12.7834, took 40.96 s\n",
      "  Validation Found 92483 of 108007, added 4673 (eff 85.63%) (0.234 FP/event)\n"
     ]
    },
    {
     "data": {
      "application/vnd.jupyter.widget-view+json": {
       "model_id": "",
       "version_major": 2,
       "version_minor": 0
      },
      "text/plain": [
       "HBox(children=(FloatProgress(value=0.0, description='Training', layout=Layout(flex='2'), max=1250.0, style=Pro…"
      ]
     },
     "metadata": {},
     "output_type": "display_data"
    },
    {
     "name": "stdout",
     "output_type": "stream",
     "text": [
      "Epoch 34: train=15.203, val=12.8714, took 40.282 s\n",
      "  Validation Found 92706 of 108007, added 4806 (eff 85.83%) (0.24 FP/event)\n"
     ]
    },
    {
     "data": {
      "application/vnd.jupyter.widget-view+json": {
       "model_id": "",
       "version_major": 2,
       "version_minor": 0
      },
      "text/plain": [
       "HBox(children=(FloatProgress(value=0.0, description='Training', layout=Layout(flex='2'), max=1250.0, style=Pro…"
      ]
     },
     "metadata": {},
     "output_type": "display_data"
    },
    {
     "name": "stdout",
     "output_type": "stream",
     "text": [
      "Epoch 35: train=15.0447, val=12.7323, took 41.588 s\n",
      "  Validation Found 92449 of 108007, added 4600 (eff 85.60%) (0.23 FP/event)\n"
     ]
    },
    {
     "data": {
      "application/vnd.jupyter.widget-view+json": {
       "model_id": "",
       "version_major": 2,
       "version_minor": 0
      },
      "text/plain": [
       "HBox(children=(FloatProgress(value=0.0, description='Training', layout=Layout(flex='2'), max=1250.0, style=Pro…"
      ]
     },
     "metadata": {},
     "output_type": "display_data"
    },
    {
     "name": "stdout",
     "output_type": "stream",
     "text": [
      "Epoch 36: train=14.8998, val=12.6004, took 41.09 s\n",
      "  Validation Found 92642 of 108007, added 4764 (eff 85.77%) (0.238 FP/event)\n"
     ]
    },
    {
     "data": {
      "application/vnd.jupyter.widget-view+json": {
       "model_id": "",
       "version_major": 2,
       "version_minor": 0
      },
      "text/plain": [
       "HBox(children=(FloatProgress(value=0.0, description='Training', layout=Layout(flex='2'), max=1250.0, style=Pro…"
      ]
     },
     "metadata": {},
     "output_type": "display_data"
    },
    {
     "name": "stdout",
     "output_type": "stream",
     "text": [
      "Epoch 37: train=14.7637, val=12.501, took 41.57 s\n",
      "  Validation Found 91998 of 108007, added 4600 (eff 85.18%) (0.23 FP/event)\n"
     ]
    },
    {
     "data": {
      "application/vnd.jupyter.widget-view+json": {
       "model_id": "",
       "version_major": 2,
       "version_minor": 0
      },
      "text/plain": [
       "HBox(children=(FloatProgress(value=0.0, description='Training', layout=Layout(flex='2'), max=1250.0, style=Pro…"
      ]
     },
     "metadata": {},
     "output_type": "display_data"
    },
    {
     "name": "stdout",
     "output_type": "stream",
     "text": [
      "Epoch 38: train=14.6447, val=12.5082, took 41.563 s\n",
      "  Validation Found 92555 of 108007, added 4590 (eff 85.69%) (0.229 FP/event)\n"
     ]
    },
    {
     "data": {
      "application/vnd.jupyter.widget-view+json": {
       "model_id": "",
       "version_major": 2,
       "version_minor": 0
      },
      "text/plain": [
       "HBox(children=(FloatProgress(value=0.0, description='Training', layout=Layout(flex='2'), max=1250.0, style=Pro…"
      ]
     },
     "metadata": {},
     "output_type": "display_data"
    },
    {
     "name": "stdout",
     "output_type": "stream",
     "text": [
      "Epoch 39: train=14.5317, val=12.4536, took 41.561 s\n",
      "  Validation Found 92702 of 108007, added 4677 (eff 85.83%) (0.234 FP/event)\n"
     ]
    },
    {
     "data": {
      "application/vnd.jupyter.widget-view+json": {
       "model_id": "",
       "version_major": 2,
       "version_minor": 0
      },
      "text/plain": [
       "HBox(children=(FloatProgress(value=0.0, description='Training', layout=Layout(flex='2'), max=1250.0, style=Pro…"
      ]
     },
     "metadata": {},
     "output_type": "display_data"
    },
    {
     "name": "stdout",
     "output_type": "stream",
     "text": [
      "Epoch 40: train=14.421, val=12.5312, took 40.265 s\n",
      "  Validation Found 93230 of 108007, added 5100 (eff 86.32%) (0.255 FP/event)\n"
     ]
    },
    {
     "data": {
      "application/vnd.jupyter.widget-view+json": {
       "model_id": "",
       "version_major": 2,
       "version_minor": 0
      },
      "text/plain": [
       "HBox(children=(FloatProgress(value=0.0, description='Training', layout=Layout(flex='2'), max=1250.0, style=Pro…"
      ]
     },
     "metadata": {},
     "output_type": "display_data"
    },
    {
     "name": "stdout",
     "output_type": "stream",
     "text": [
      "Epoch 41: train=14.3073, val=12.3714, took 40.187 s\n",
      "  Validation Found 92631 of 108007, added 4528 (eff 85.76%) (0.226 FP/event)\n"
     ]
    },
    {
     "data": {
      "application/vnd.jupyter.widget-view+json": {
       "model_id": "",
       "version_major": 2,
       "version_minor": 0
      },
      "text/plain": [
       "HBox(children=(FloatProgress(value=0.0, description='Training', layout=Layout(flex='2'), max=1250.0, style=Pro…"
      ]
     },
     "metadata": {},
     "output_type": "display_data"
    },
    {
     "name": "stdout",
     "output_type": "stream",
     "text": [
      "Epoch 42: train=14.2162, val=12.3308, took 40.207 s\n",
      "  Validation Found 92530 of 108007, added 4261 (eff 85.67%) (0.213 FP/event)\n"
     ]
    },
    {
     "data": {
      "application/vnd.jupyter.widget-view+json": {
       "model_id": "",
       "version_major": 2,
       "version_minor": 0
      },
      "text/plain": [
       "HBox(children=(FloatProgress(value=0.0, description='Training', layout=Layout(flex='2'), max=1250.0, style=Pro…"
      ]
     },
     "metadata": {},
     "output_type": "display_data"
    },
    {
     "name": "stdout",
     "output_type": "stream",
     "text": [
      "Epoch 43: train=14.1125, val=12.3454, took 40.206 s\n",
      "  Validation Found 93225 of 108007, added 4793 (eff 86.31%) (0.24 FP/event)\n"
     ]
    },
    {
     "data": {
      "application/vnd.jupyter.widget-view+json": {
       "model_id": "",
       "version_major": 2,
       "version_minor": 0
      },
      "text/plain": [
       "HBox(children=(FloatProgress(value=0.0, description='Training', layout=Layout(flex='2'), max=1250.0, style=Pro…"
      ]
     },
     "metadata": {},
     "output_type": "display_data"
    },
    {
     "name": "stdout",
     "output_type": "stream",
     "text": [
      "Epoch 44: train=14.0275, val=12.2933, took 40.228 s\n",
      "  Validation Found 93114 of 108007, added 4642 (eff 86.21%) (0.232 FP/event)\n"
     ]
    },
    {
     "data": {
      "application/vnd.jupyter.widget-view+json": {
       "model_id": "",
       "version_major": 2,
       "version_minor": 0
      },
      "text/plain": [
       "HBox(children=(FloatProgress(value=0.0, description='Training', layout=Layout(flex='2'), max=1250.0, style=Pro…"
      ]
     },
     "metadata": {},
     "output_type": "display_data"
    },
    {
     "name": "stdout",
     "output_type": "stream",
     "text": [
      "Epoch 45: train=13.9357, val=12.1921, took 40.694 s\n",
      "  Validation Found 93295 of 108007, added 4786 (eff 86.38%) (0.239 FP/event)\n"
     ]
    },
    {
     "data": {
      "application/vnd.jupyter.widget-view+json": {
       "model_id": "",
       "version_major": 2,
       "version_minor": 0
      },
      "text/plain": [
       "HBox(children=(FloatProgress(value=0.0, description='Training', layout=Layout(flex='2'), max=1250.0, style=Pro…"
      ]
     },
     "metadata": {},
     "output_type": "display_data"
    },
    {
     "name": "stdout",
     "output_type": "stream",
     "text": [
      "Epoch 46: train=13.8785, val=12.1649, took 40.165 s\n",
      "  Validation Found 93585 of 108007, added 5070 (eff 86.65%) (0.253 FP/event)\n"
     ]
    },
    {
     "data": {
      "application/vnd.jupyter.widget-view+json": {
       "model_id": "",
       "version_major": 2,
       "version_minor": 0
      },
      "text/plain": [
       "HBox(children=(FloatProgress(value=0.0, description='Training', layout=Layout(flex='2'), max=1250.0, style=Pro…"
      ]
     },
     "metadata": {},
     "output_type": "display_data"
    },
    {
     "name": "stdout",
     "output_type": "stream",
     "text": [
      "Epoch 47: train=13.8018, val=12.1613, took 41.52 s\n",
      "  Validation Found 93289 of 108007, added 4559 (eff 86.37%) (0.228 FP/event)\n"
     ]
    },
    {
     "data": {
      "application/vnd.jupyter.widget-view+json": {
       "model_id": "",
       "version_major": 2,
       "version_minor": 0
      },
      "text/plain": [
       "HBox(children=(FloatProgress(value=0.0, description='Training', layout=Layout(flex='2'), max=1250.0, style=Pro…"
      ]
     },
     "metadata": {},
     "output_type": "display_data"
    },
    {
     "name": "stdout",
     "output_type": "stream",
     "text": [
      "Epoch 48: train=13.7273, val=12.1202, took 40.221 s\n",
      "  Validation Found 93659 of 108007, added 4855 (eff 86.72%) (0.243 FP/event)\n"
     ]
    },
    {
     "data": {
      "application/vnd.jupyter.widget-view+json": {
       "model_id": "",
       "version_major": 2,
       "version_minor": 0
      },
      "text/plain": [
       "HBox(children=(FloatProgress(value=0.0, description='Training', layout=Layout(flex='2'), max=1250.0, style=Pro…"
      ]
     },
     "metadata": {},
     "output_type": "display_data"
    },
    {
     "name": "stdout",
     "output_type": "stream",
     "text": [
      "Epoch 49: train=13.6668, val=12.0923, took 40.222 s\n",
      "  Validation Found 93778 of 108007, added 4975 (eff 86.83%) (0.249 FP/event)\n"
     ]
    },
    {
     "data": {
      "application/vnd.jupyter.widget-view+json": {
       "model_id": "",
       "version_major": 2,
       "version_minor": 0
      },
      "text/plain": [
       "HBox(children=(FloatProgress(value=0.0, description='Training', layout=Layout(flex='2'), max=1250.0, style=Pro…"
      ]
     },
     "metadata": {},
     "output_type": "display_data"
    },
    {
     "name": "stdout",
     "output_type": "stream",
     "text": [
      "Epoch 50: train=13.6058, val=11.9877, took 40.282 s\n",
      "  Validation Found 93274 of 108007, added 4417 (eff 86.36%) (0.221 FP/event)\n"
     ]
    },
    {
     "data": {
      "application/vnd.jupyter.widget-view+json": {
       "model_id": "",
       "version_major": 2,
       "version_minor": 0
      },
      "text/plain": [
       "HBox(children=(FloatProgress(value=0.0, description='Training', layout=Layout(flex='2'), max=1250.0, style=Pro…"
      ]
     },
     "metadata": {},
     "output_type": "display_data"
    },
    {
     "name": "stdout",
     "output_type": "stream",
     "text": [
      "Epoch 51: train=13.5435, val=12.026, took 40.471 s\n",
      "  Validation Found 93778 of 108007, added 4723 (eff 86.83%) (0.236 FP/event)\n"
     ]
    },
    {
     "data": {
      "application/vnd.jupyter.widget-view+json": {
       "model_id": "",
       "version_major": 2,
       "version_minor": 0
      },
      "text/plain": [
       "HBox(children=(FloatProgress(value=0.0, description='Training', layout=Layout(flex='2'), max=1250.0, style=Pro…"
      ]
     },
     "metadata": {},
     "output_type": "display_data"
    },
    {
     "name": "stdout",
     "output_type": "stream",
     "text": [
      "Epoch 52: train=13.495, val=11.9552, took 40.231 s\n",
      "  Validation Found 93807 of 108007, added 4724 (eff 86.85%) (0.236 FP/event)\n"
     ]
    },
    {
     "data": {
      "application/vnd.jupyter.widget-view+json": {
       "model_id": "",
       "version_major": 2,
       "version_minor": 0
      },
      "text/plain": [
       "HBox(children=(FloatProgress(value=0.0, description='Training', layout=Layout(flex='2'), max=1250.0, style=Pro…"
      ]
     },
     "metadata": {},
     "output_type": "display_data"
    },
    {
     "name": "stdout",
     "output_type": "stream",
     "text": [
      "Epoch 53: train=13.4368, val=12.196, took 40.201 s\n",
      "  Validation Found 93996 of 108007, added 4779 (eff 87.03%) (0.239 FP/event)\n"
     ]
    },
    {
     "data": {
      "application/vnd.jupyter.widget-view+json": {
       "model_id": "",
       "version_major": 2,
       "version_minor": 0
      },
      "text/plain": [
       "HBox(children=(FloatProgress(value=0.0, description='Training', layout=Layout(flex='2'), max=1250.0, style=Pro…"
      ]
     },
     "metadata": {},
     "output_type": "display_data"
    },
    {
     "name": "stdout",
     "output_type": "stream",
     "text": [
      "Epoch 54: train=13.3922, val=11.9675, took 40.572 s\n",
      "  Validation Found 93966 of 108007, added 4827 (eff 87.00%) (0.241 FP/event)\n"
     ]
    },
    {
     "data": {
      "application/vnd.jupyter.widget-view+json": {
       "model_id": "",
       "version_major": 2,
       "version_minor": 0
      },
      "text/plain": [
       "HBox(children=(FloatProgress(value=0.0, description='Training', layout=Layout(flex='2'), max=1250.0, style=Pro…"
      ]
     },
     "metadata": {},
     "output_type": "display_data"
    },
    {
     "name": "stdout",
     "output_type": "stream",
     "text": [
      "Epoch 55: train=13.3466, val=11.9055, took 40.174 s\n",
      "  Validation Found 93584 of 108007, added 4219 (eff 86.65%) (0.211 FP/event)\n"
     ]
    },
    {
     "data": {
      "application/vnd.jupyter.widget-view+json": {
       "model_id": "",
       "version_major": 2,
       "version_minor": 0
      },
      "text/plain": [
       "HBox(children=(FloatProgress(value=0.0, description='Training', layout=Layout(flex='2'), max=1250.0, style=Pro…"
      ]
     },
     "metadata": {},
     "output_type": "display_data"
    },
    {
     "name": "stdout",
     "output_type": "stream",
     "text": [
      "Epoch 56: train=13.3042, val=11.8847, took 40.246 s\n",
      "  Validation Found 93340 of 108007, added 3974 (eff 86.42%) (0.199 FP/event)\n"
     ]
    },
    {
     "data": {
      "application/vnd.jupyter.widget-view+json": {
       "model_id": "",
       "version_major": 2,
       "version_minor": 0
      },
      "text/plain": [
       "HBox(children=(FloatProgress(value=0.0, description='Training', layout=Layout(flex='2'), max=1250.0, style=Pro…"
      ]
     },
     "metadata": {},
     "output_type": "display_data"
    },
    {
     "name": "stdout",
     "output_type": "stream",
     "text": [
      "Epoch 57: train=13.2581, val=11.8712, took 40.208 s\n",
      "  Validation Found 93609 of 108007, added 4217 (eff 86.67%) (0.211 FP/event)\n"
     ]
    },
    {
     "data": {
      "application/vnd.jupyter.widget-view+json": {
       "model_id": "",
       "version_major": 2,
       "version_minor": 0
      },
      "text/plain": [
       "HBox(children=(FloatProgress(value=0.0, description='Training', layout=Layout(flex='2'), max=1250.0, style=Pro…"
      ]
     },
     "metadata": {},
     "output_type": "display_data"
    },
    {
     "name": "stdout",
     "output_type": "stream",
     "text": [
      "Epoch 58: train=13.222, val=11.8761, took 40.228 s\n",
      "  Validation Found 93924 of 108007, added 4411 (eff 86.96%) (0.221 FP/event)\n"
     ]
    },
    {
     "data": {
      "application/vnd.jupyter.widget-view+json": {
       "model_id": "",
       "version_major": 2,
       "version_minor": 0
      },
      "text/plain": [
       "HBox(children=(FloatProgress(value=0.0, description='Training', layout=Layout(flex='2'), max=1250.0, style=Pro…"
      ]
     },
     "metadata": {},
     "output_type": "display_data"
    },
    {
     "name": "stdout",
     "output_type": "stream",
     "text": [
      "Epoch 59: train=13.1908, val=11.8668, took 40.239 s\n",
      "  Validation Found 93638 of 108007, added 4037 (eff 86.70%) (0.202 FP/event)\n"
     ]
    },
    {
     "data": {
      "application/vnd.jupyter.widget-view+json": {
       "model_id": "",
       "version_major": 2,
       "version_minor": 0
      },
      "text/plain": [
       "HBox(children=(FloatProgress(value=0.0, description='Training', layout=Layout(flex='2'), max=1250.0, style=Pro…"
      ]
     },
     "metadata": {},
     "output_type": "display_data"
    },
    {
     "name": "stdout",
     "output_type": "stream",
     "text": [
      "Epoch 60: train=13.1515, val=11.8706, took 41.581 s\n",
      "  Validation Found 94112 of 108007, added 4560 (eff 87.14%) (0.228 FP/event)\n"
     ]
    },
    {
     "data": {
      "application/vnd.jupyter.widget-view+json": {
       "model_id": "",
       "version_major": 2,
       "version_minor": 0
      },
      "text/plain": [
       "HBox(children=(FloatProgress(value=0.0, description='Training', layout=Layout(flex='2'), max=1250.0, style=Pro…"
      ]
     },
     "metadata": {},
     "output_type": "display_data"
    },
    {
     "name": "stdout",
     "output_type": "stream",
     "text": [
      "Epoch 61: train=13.1173, val=11.8071, took 40.897 s\n",
      "  Validation Found 93931 of 108007, added 4301 (eff 86.97%) (0.215 FP/event)\n"
     ]
    },
    {
     "data": {
      "application/vnd.jupyter.widget-view+json": {
       "model_id": "",
       "version_major": 2,
       "version_minor": 0
      },
      "text/plain": [
       "HBox(children=(FloatProgress(value=0.0, description='Training', layout=Layout(flex='2'), max=1250.0, style=Pro…"
      ]
     },
     "metadata": {},
     "output_type": "display_data"
    },
    {
     "name": "stdout",
     "output_type": "stream",
     "text": [
      "Epoch 62: train=13.0873, val=11.8814, took 40.283 s\n",
      "  Validation Found 94111 of 108007, added 4363 (eff 87.13%) (0.218 FP/event)\n"
     ]
    },
    {
     "data": {
      "application/vnd.jupyter.widget-view+json": {
       "model_id": "",
       "version_major": 2,
       "version_minor": 0
      },
      "text/plain": [
       "HBox(children=(FloatProgress(value=0.0, description='Training', layout=Layout(flex='2'), max=1250.0, style=Pro…"
      ]
     },
     "metadata": {},
     "output_type": "display_data"
    },
    {
     "name": "stdout",
     "output_type": "stream",
     "text": [
      "Epoch 63: train=13.0605, val=11.7999, took 41.537 s\n",
      "  Validation Found 94174 of 108007, added 4329 (eff 87.19%) (0.216 FP/event)\n"
     ]
    },
    {
     "data": {
      "application/vnd.jupyter.widget-view+json": {
       "model_id": "",
       "version_major": 2,
       "version_minor": 0
      },
      "text/plain": [
       "HBox(children=(FloatProgress(value=0.0, description='Training', layout=Layout(flex='2'), max=1250.0, style=Pro…"
      ]
     },
     "metadata": {},
     "output_type": "display_data"
    },
    {
     "name": "stdout",
     "output_type": "stream",
     "text": [
      "Epoch 64: train=13.0333, val=11.8328, took 40.464 s\n",
      "  Validation Found 94185 of 108007, added 4328 (eff 87.20%) (0.216 FP/event)\n"
     ]
    },
    {
     "data": {
      "application/vnd.jupyter.widget-view+json": {
       "model_id": "",
       "version_major": 2,
       "version_minor": 0
      },
      "text/plain": [
       "HBox(children=(FloatProgress(value=0.0, description='Training', layout=Layout(flex='2'), max=1250.0, style=Pro…"
      ]
     },
     "metadata": {},
     "output_type": "display_data"
    },
    {
     "name": "stdout",
     "output_type": "stream",
     "text": [
      "Epoch 65: train=13.0027, val=11.8073, took 41.589 s\n",
      "  Validation Found 94132 of 108007, added 4300 (eff 87.15%) (0.215 FP/event)\n"
     ]
    },
    {
     "data": {
      "application/vnd.jupyter.widget-view+json": {
       "model_id": "",
       "version_major": 2,
       "version_minor": 0
      },
      "text/plain": [
       "HBox(children=(FloatProgress(value=0.0, description='Training', layout=Layout(flex='2'), max=1250.0, style=Pro…"
      ]
     },
     "metadata": {},
     "output_type": "display_data"
    },
    {
     "name": "stdout",
     "output_type": "stream",
     "text": [
      "Epoch 66: train=12.9807, val=11.7552, took 41.54 s\n",
      "  Validation Found 94362 of 108007, added 4679 (eff 87.37%) (0.234 FP/event)\n"
     ]
    },
    {
     "data": {
      "application/vnd.jupyter.widget-view+json": {
       "model_id": "",
       "version_major": 2,
       "version_minor": 0
      },
      "text/plain": [
       "HBox(children=(FloatProgress(value=0.0, description='Training', layout=Layout(flex='2'), max=1250.0, style=Pro…"
      ]
     },
     "metadata": {},
     "output_type": "display_data"
    },
    {
     "name": "stdout",
     "output_type": "stream",
     "text": [
      "Epoch 67: train=12.9534, val=11.7778, took 40.216 s\n",
      "  Validation Found 94524 of 108007, added 4720 (eff 87.52%) (0.236 FP/event)\n"
     ]
    },
    {
     "data": {
      "application/vnd.jupyter.widget-view+json": {
       "model_id": "",
       "version_major": 2,
       "version_minor": 0
      },
      "text/plain": [
       "HBox(children=(FloatProgress(value=0.0, description='Training', layout=Layout(flex='2'), max=1250.0, style=Pro…"
      ]
     },
     "metadata": {},
     "output_type": "display_data"
    },
    {
     "name": "stdout",
     "output_type": "stream",
     "text": [
      "Epoch 68: train=12.9175, val=11.6678, took 40.154 s\n",
      "  Validation Found 94222 of 108007, added 4244 (eff 87.24%) (0.212 FP/event)\n"
     ]
    },
    {
     "data": {
      "application/vnd.jupyter.widget-view+json": {
       "model_id": "",
       "version_major": 2,
       "version_minor": 0
      },
      "text/plain": [
       "HBox(children=(FloatProgress(value=0.0, description='Training', layout=Layout(flex='2'), max=1250.0, style=Pro…"
      ]
     },
     "metadata": {},
     "output_type": "display_data"
    },
    {
     "name": "stdout",
     "output_type": "stream",
     "text": [
      "Epoch 69: train=12.9001, val=11.7264, took 40.183 s\n",
      "  Validation Found 94100 of 108007, added 4089 (eff 87.12%) (0.204 FP/event)\n"
     ]
    },
    {
     "data": {
      "application/vnd.jupyter.widget-view+json": {
       "model_id": "",
       "version_major": 2,
       "version_minor": 0
      },
      "text/plain": [
       "HBox(children=(FloatProgress(value=0.0, description='Training', layout=Layout(flex='2'), max=1250.0, style=Pro…"
      ]
     },
     "metadata": {},
     "output_type": "display_data"
    },
    {
     "name": "stdout",
     "output_type": "stream",
     "text": [
      "Epoch 70: train=12.8729, val=11.756, took 41.407 s\n",
      "  Validation Found 94176 of 108007, added 4143 (eff 87.19%) (0.207 FP/event)\n"
     ]
    },
    {
     "data": {
      "application/vnd.jupyter.widget-view+json": {
       "model_id": "",
       "version_major": 2,
       "version_minor": 0
      },
      "text/plain": [
       "HBox(children=(FloatProgress(value=0.0, description='Training', layout=Layout(flex='2'), max=1250.0, style=Pro…"
      ]
     },
     "metadata": {},
     "output_type": "display_data"
    },
    {
     "name": "stdout",
     "output_type": "stream",
     "text": [
      "Epoch 71: train=12.8515, val=11.667, took 41.457 s\n",
      "  Validation Found 94238 of 108007, added 4119 (eff 87.25%) (0.206 FP/event)\n"
     ]
    },
    {
     "data": {
      "application/vnd.jupyter.widget-view+json": {
       "model_id": "",
       "version_major": 2,
       "version_minor": 0
      },
      "text/plain": [
       "HBox(children=(FloatProgress(value=0.0, description='Training', layout=Layout(flex='2'), max=1250.0, style=Pro…"
      ]
     },
     "metadata": {},
     "output_type": "display_data"
    },
    {
     "name": "stdout",
     "output_type": "stream",
     "text": [
      "Epoch 72: train=12.8257, val=11.6823, took 41.553 s\n",
      "  Validation Found 94509 of 108007, added 4312 (eff 87.50%) (0.216 FP/event)\n"
     ]
    },
    {
     "data": {
      "application/vnd.jupyter.widget-view+json": {
       "model_id": "",
       "version_major": 2,
       "version_minor": 0
      },
      "text/plain": [
       "HBox(children=(FloatProgress(value=0.0, description='Training', layout=Layout(flex='2'), max=1250.0, style=Pro…"
      ]
     },
     "metadata": {},
     "output_type": "display_data"
    },
    {
     "name": "stdout",
     "output_type": "stream",
     "text": [
      "Epoch 73: train=12.8103, val=11.6611, took 40.7 s\n",
      "  Validation Found 94297 of 108007, added 4113 (eff 87.31%) (0.206 FP/event)\n"
     ]
    },
    {
     "data": {
      "application/vnd.jupyter.widget-view+json": {
       "model_id": "",
       "version_major": 2,
       "version_minor": 0
      },
      "text/plain": [
       "HBox(children=(FloatProgress(value=0.0, description='Training', layout=Layout(flex='2'), max=1250.0, style=Pro…"
      ]
     },
     "metadata": {},
     "output_type": "display_data"
    },
    {
     "name": "stdout",
     "output_type": "stream",
     "text": [
      "Epoch 74: train=12.7803, val=11.6594, took 41.081 s\n",
      "  Validation Found 94337 of 108007, added 4139 (eff 87.34%) (0.207 FP/event)\n"
     ]
    },
    {
     "data": {
      "application/vnd.jupyter.widget-view+json": {
       "model_id": "",
       "version_major": 2,
       "version_minor": 0
      },
      "text/plain": [
       "HBox(children=(FloatProgress(value=0.0, description='Training', layout=Layout(flex='2'), max=1250.0, style=Pro…"
      ]
     },
     "metadata": {},
     "output_type": "display_data"
    },
    {
     "name": "stdout",
     "output_type": "stream",
     "text": [
      "Epoch 75: train=12.7638, val=11.6466, took 40.223 s\n",
      "  Validation Found 94415 of 108007, added 4228 (eff 87.42%) (0.211 FP/event)\n"
     ]
    },
    {
     "data": {
      "application/vnd.jupyter.widget-view+json": {
       "model_id": "",
       "version_major": 2,
       "version_minor": 0
      },
      "text/plain": [
       "HBox(children=(FloatProgress(value=0.0, description='Training', layout=Layout(flex='2'), max=1250.0, style=Pro…"
      ]
     },
     "metadata": {},
     "output_type": "display_data"
    },
    {
     "name": "stdout",
     "output_type": "stream",
     "text": [
      "Epoch 76: train=12.7364, val=11.6879, took 40.184 s\n",
      "  Validation Found 94815 of 108007, added 4810 (eff 87.79%) (0.24 FP/event)\n"
     ]
    },
    {
     "data": {
      "application/vnd.jupyter.widget-view+json": {
       "model_id": "",
       "version_major": 2,
       "version_minor": 0
      },
      "text/plain": [
       "HBox(children=(FloatProgress(value=0.0, description='Training', layout=Layout(flex='2'), max=1250.0, style=Pro…"
      ]
     },
     "metadata": {},
     "output_type": "display_data"
    },
    {
     "name": "stdout",
     "output_type": "stream",
     "text": [
      "Epoch 77: train=12.7158, val=11.5192, took 40.179 s\n",
      "  Validation Found 94318 of 108007, added 4200 (eff 87.33%) (0.21 FP/event)\n"
     ]
    },
    {
     "data": {
      "application/vnd.jupyter.widget-view+json": {
       "model_id": "",
       "version_major": 2,
       "version_minor": 0
      },
      "text/plain": [
       "HBox(children=(FloatProgress(value=0.0, description='Training', layout=Layout(flex='2'), max=1250.0, style=Pro…"
      ]
     },
     "metadata": {},
     "output_type": "display_data"
    },
    {
     "name": "stdout",
     "output_type": "stream",
     "text": [
      "Epoch 78: train=12.6957, val=11.5299, took 41.569 s\n",
      "  Validation Found 94437 of 108007, added 4213 (eff 87.44%) (0.211 FP/event)\n"
     ]
    },
    {
     "data": {
      "application/vnd.jupyter.widget-view+json": {
       "model_id": "",
       "version_major": 2,
       "version_minor": 0
      },
      "text/plain": [
       "HBox(children=(FloatProgress(value=0.0, description='Training', layout=Layout(flex='2'), max=1250.0, style=Pro…"
      ]
     },
     "metadata": {},
     "output_type": "display_data"
    },
    {
     "name": "stdout",
     "output_type": "stream",
     "text": [
      "Epoch 79: train=12.6724, val=11.5705, took 40.169 s\n",
      "  Validation Found 94362 of 108007, added 4044 (eff 87.37%) (0.202 FP/event)\n"
     ]
    },
    {
     "data": {
      "application/vnd.jupyter.widget-view+json": {
       "model_id": "",
       "version_major": 2,
       "version_minor": 0
      },
      "text/plain": [
       "HBox(children=(FloatProgress(value=0.0, description='Training', layout=Layout(flex='2'), max=1250.0, style=Pro…"
      ]
     },
     "metadata": {},
     "output_type": "display_data"
    },
    {
     "name": "stdout",
     "output_type": "stream",
     "text": [
      "Epoch 80: train=12.644, val=11.5463, took 40.264 s\n",
      "  Validation Found 94450 of 108007, added 4249 (eff 87.45%) (0.212 FP/event)\n"
     ]
    },
    {
     "data": {
      "application/vnd.jupyter.widget-view+json": {
       "model_id": "",
       "version_major": 2,
       "version_minor": 0
      },
      "text/plain": [
       "HBox(children=(FloatProgress(value=0.0, description='Training', layout=Layout(flex='2'), max=1250.0, style=Pro…"
      ]
     },
     "metadata": {},
     "output_type": "display_data"
    },
    {
     "name": "stdout",
     "output_type": "stream",
     "text": [
      "Epoch 81: train=12.6347, val=11.571, took 40.137 s\n",
      "  Validation Found 94577 of 108007, added 4416 (eff 87.57%) (0.221 FP/event)\n"
     ]
    },
    {
     "data": {
      "application/vnd.jupyter.widget-view+json": {
       "model_id": "",
       "version_major": 2,
       "version_minor": 0
      },
      "text/plain": [
       "HBox(children=(FloatProgress(value=0.0, description='Training', layout=Layout(flex='2'), max=1250.0, style=Pro…"
      ]
     },
     "metadata": {},
     "output_type": "display_data"
    },
    {
     "name": "stdout",
     "output_type": "stream",
     "text": [
      "Epoch 82: train=12.6126, val=11.6001, took 40.162 s\n",
      "  Validation Found 94498 of 108007, added 4171 (eff 87.49%) (0.209 FP/event)\n"
     ]
    },
    {
     "data": {
      "application/vnd.jupyter.widget-view+json": {
       "model_id": "",
       "version_major": 2,
       "version_minor": 0
      },
      "text/plain": [
       "HBox(children=(FloatProgress(value=0.0, description='Training', layout=Layout(flex='2'), max=1250.0, style=Pro…"
      ]
     },
     "metadata": {},
     "output_type": "display_data"
    },
    {
     "name": "stdout",
     "output_type": "stream",
     "text": [
      "Epoch 83: train=12.5919, val=11.5562, took 40.182 s\n",
      "  Validation Found 94492 of 108007, added 4174 (eff 87.49%) (0.209 FP/event)\n"
     ]
    },
    {
     "data": {
      "application/vnd.jupyter.widget-view+json": {
       "model_id": "",
       "version_major": 2,
       "version_minor": 0
      },
      "text/plain": [
       "HBox(children=(FloatProgress(value=0.0, description='Training', layout=Layout(flex='2'), max=1250.0, style=Pro…"
      ]
     },
     "metadata": {},
     "output_type": "display_data"
    },
    {
     "name": "stdout",
     "output_type": "stream",
     "text": [
      "Epoch 84: train=12.5871, val=11.5415, took 40.154 s\n",
      "  Validation Found 94685 of 108007, added 4389 (eff 87.67%) (0.219 FP/event)\n"
     ]
    },
    {
     "data": {
      "application/vnd.jupyter.widget-view+json": {
       "model_id": "",
       "version_major": 2,
       "version_minor": 0
      },
      "text/plain": [
       "HBox(children=(FloatProgress(value=0.0, description='Training', layout=Layout(flex='2'), max=1250.0, style=Pro…"
      ]
     },
     "metadata": {},
     "output_type": "display_data"
    },
    {
     "name": "stdout",
     "output_type": "stream",
     "text": [
      "Epoch 85: train=12.5604, val=11.4912, took 40.174 s\n",
      "  Validation Found 94695 of 108007, added 4406 (eff 87.67%) (0.22 FP/event)\n"
     ]
    },
    {
     "data": {
      "application/vnd.jupyter.widget-view+json": {
       "model_id": "",
       "version_major": 2,
       "version_minor": 0
      },
      "text/plain": [
       "HBox(children=(FloatProgress(value=0.0, description='Training', layout=Layout(flex='2'), max=1250.0, style=Pro…"
      ]
     },
     "metadata": {},
     "output_type": "display_data"
    },
    {
     "name": "stdout",
     "output_type": "stream",
     "text": [
      "Epoch 86: train=12.5445, val=11.5309, took 40.17 s\n",
      "  Validation Found 94732 of 108007, added 4328 (eff 87.71%) (0.216 FP/event)\n"
     ]
    },
    {
     "data": {
      "application/vnd.jupyter.widget-view+json": {
       "model_id": "",
       "version_major": 2,
       "version_minor": 0
      },
      "text/plain": [
       "HBox(children=(FloatProgress(value=0.0, description='Training', layout=Layout(flex='2'), max=1250.0, style=Pro…"
      ]
     },
     "metadata": {},
     "output_type": "display_data"
    },
    {
     "name": "stdout",
     "output_type": "stream",
     "text": [
      "Epoch 87: train=12.5151, val=11.5649, took 40.177 s\n",
      "  Validation Found 94585 of 108007, added 4137 (eff 87.57%) (0.207 FP/event)\n"
     ]
    },
    {
     "data": {
      "application/vnd.jupyter.widget-view+json": {
       "model_id": "",
       "version_major": 2,
       "version_minor": 0
      },
      "text/plain": [
       "HBox(children=(FloatProgress(value=0.0, description='Training', layout=Layout(flex='2'), max=1250.0, style=Pro…"
      ]
     },
     "metadata": {},
     "output_type": "display_data"
    },
    {
     "name": "stdout",
     "output_type": "stream",
     "text": [
      "Epoch 88: train=12.5044, val=11.5114, took 40.25 s\n",
      "  Validation Found 94627 of 108007, added 4338 (eff 87.61%) (0.217 FP/event)\n"
     ]
    },
    {
     "data": {
      "application/vnd.jupyter.widget-view+json": {
       "model_id": "",
       "version_major": 2,
       "version_minor": 0
      },
      "text/plain": [
       "HBox(children=(FloatProgress(value=0.0, description='Training', layout=Layout(flex='2'), max=1250.0, style=Pro…"
      ]
     },
     "metadata": {},
     "output_type": "display_data"
    },
    {
     "name": "stdout",
     "output_type": "stream",
     "text": [
      "Epoch 89: train=12.4912, val=11.4546, took 41.428 s\n",
      "  Validation Found 94595 of 108007, added 4170 (eff 87.58%) (0.208 FP/event)\n"
     ]
    },
    {
     "data": {
      "application/vnd.jupyter.widget-view+json": {
       "model_id": "",
       "version_major": 2,
       "version_minor": 0
      },
      "text/plain": [
       "HBox(children=(FloatProgress(value=0.0, description='Training', layout=Layout(flex='2'), max=1250.0, style=Pro…"
      ]
     },
     "metadata": {},
     "output_type": "display_data"
    },
    {
     "name": "stdout",
     "output_type": "stream",
     "text": [
      "Epoch 90: train=12.4662, val=11.4887, took 40.891 s\n",
      "  Validation Found 94804 of 108007, added 4459 (eff 87.78%) (0.223 FP/event)\n"
     ]
    },
    {
     "data": {
      "application/vnd.jupyter.widget-view+json": {
       "model_id": "",
       "version_major": 2,
       "version_minor": 0
      },
      "text/plain": [
       "HBox(children=(FloatProgress(value=0.0, description='Training', layout=Layout(flex='2'), max=1250.0, style=Pro…"
      ]
     },
     "metadata": {},
     "output_type": "display_data"
    },
    {
     "name": "stdout",
     "output_type": "stream",
     "text": [
      "Epoch 91: train=12.4562, val=11.3775, took 40.149 s\n",
      "  Validation Found 94449 of 108007, added 4098 (eff 87.45%) (0.205 FP/event)\n"
     ]
    },
    {
     "data": {
      "application/vnd.jupyter.widget-view+json": {
       "model_id": "",
       "version_major": 2,
       "version_minor": 0
      },
      "text/plain": [
       "HBox(children=(FloatProgress(value=0.0, description='Training', layout=Layout(flex='2'), max=1250.0, style=Pro…"
      ]
     },
     "metadata": {},
     "output_type": "display_data"
    },
    {
     "name": "stdout",
     "output_type": "stream",
     "text": [
      "Epoch 92: train=12.4321, val=11.4127, took 40.172 s\n",
      "  Validation Found 94635 of 108007, added 4211 (eff 87.62%) (0.211 FP/event)\n"
     ]
    },
    {
     "data": {
      "application/vnd.jupyter.widget-view+json": {
       "model_id": "",
       "version_major": 2,
       "version_minor": 0
      },
      "text/plain": [
       "HBox(children=(FloatProgress(value=0.0, description='Training', layout=Layout(flex='2'), max=1250.0, style=Pro…"
      ]
     },
     "metadata": {},
     "output_type": "display_data"
    },
    {
     "name": "stdout",
     "output_type": "stream",
     "text": [
      "Epoch 93: train=12.4253, val=11.5307, took 41.527 s\n",
      "  Validation Found 94764 of 108007, added 4389 (eff 87.74%) (0.219 FP/event)\n"
     ]
    },
    {
     "data": {
      "application/vnd.jupyter.widget-view+json": {
       "model_id": "",
       "version_major": 2,
       "version_minor": 0
      },
      "text/plain": [
       "HBox(children=(FloatProgress(value=0.0, description='Training', layout=Layout(flex='2'), max=1250.0, style=Pro…"
      ]
     },
     "metadata": {},
     "output_type": "display_data"
    },
    {
     "name": "stdout",
     "output_type": "stream",
     "text": [
      "Epoch 94: train=12.4077, val=11.4143, took 40.163 s\n",
      "  Validation Found 94836 of 108007, added 4536 (eff 87.81%) (0.227 FP/event)\n"
     ]
    },
    {
     "data": {
      "application/vnd.jupyter.widget-view+json": {
       "model_id": "",
       "version_major": 2,
       "version_minor": 0
      },
      "text/plain": [
       "HBox(children=(FloatProgress(value=0.0, description='Training', layout=Layout(flex='2'), max=1250.0, style=Pro…"
      ]
     },
     "metadata": {},
     "output_type": "display_data"
    },
    {
     "name": "stdout",
     "output_type": "stream",
     "text": [
      "Epoch 95: train=12.3959, val=11.4268, took 40.163 s\n",
      "  Validation Found 94774 of 108007, added 4341 (eff 87.75%) (0.217 FP/event)\n"
     ]
    },
    {
     "data": {
      "application/vnd.jupyter.widget-view+json": {
       "model_id": "",
       "version_major": 2,
       "version_minor": 0
      },
      "text/plain": [
       "HBox(children=(FloatProgress(value=0.0, description='Training', layout=Layout(flex='2'), max=1250.0, style=Pro…"
      ]
     },
     "metadata": {},
     "output_type": "display_data"
    },
    {
     "name": "stdout",
     "output_type": "stream",
     "text": [
      "Epoch 96: train=12.3696, val=11.4742, took 40.164 s\n",
      "  Validation Found 94924 of 108007, added 4486 (eff 87.89%) (0.224 FP/event)\n"
     ]
    },
    {
     "data": {
      "application/vnd.jupyter.widget-view+json": {
       "model_id": "",
       "version_major": 2,
       "version_minor": 0
      },
      "text/plain": [
       "HBox(children=(FloatProgress(value=0.0, description='Training', layout=Layout(flex='2'), max=1250.0, style=Pro…"
      ]
     },
     "metadata": {},
     "output_type": "display_data"
    },
    {
     "name": "stdout",
     "output_type": "stream",
     "text": [
      "Epoch 97: train=12.3544, val=11.3936, took 40.255 s\n",
      "  Validation Found 94813 of 108007, added 4279 (eff 87.78%) (0.214 FP/event)\n"
     ]
    },
    {
     "data": {
      "application/vnd.jupyter.widget-view+json": {
       "model_id": "",
       "version_major": 2,
       "version_minor": 0
      },
      "text/plain": [
       "HBox(children=(FloatProgress(value=0.0, description='Training', layout=Layout(flex='2'), max=1250.0, style=Pro…"
      ]
     },
     "metadata": {},
     "output_type": "display_data"
    },
    {
     "name": "stdout",
     "output_type": "stream",
     "text": [
      "Epoch 98: train=12.3451, val=11.3413, took 40.182 s\n",
      "  Validation Found 94660 of 108007, added 4243 (eff 87.64%) (0.212 FP/event)\n"
     ]
    },
    {
     "data": {
      "application/vnd.jupyter.widget-view+json": {
       "model_id": "",
       "version_major": 2,
       "version_minor": 0
      },
      "text/plain": [
       "HBox(children=(FloatProgress(value=0.0, description='Training', layout=Layout(flex='2'), max=1250.0, style=Pro…"
      ]
     },
     "metadata": {},
     "output_type": "display_data"
    },
    {
     "name": "stdout",
     "output_type": "stream",
     "text": [
      "Epoch 99: train=12.3298, val=11.3122, took 40.149 s\n",
      "  Validation Found 94656 of 108007, added 4149 (eff 87.64%) (0.207 FP/event)\n"
     ]
    },
    {
     "data": {
      "application/vnd.jupyter.widget-view+json": {
       "model_id": "",
       "version_major": 2,
       "version_minor": 0
      },
      "text/plain": [
       "HBox(children=(FloatProgress(value=0.0, description='Training', layout=Layout(flex='2'), max=1250.0, style=Pro…"
      ]
     },
     "metadata": {},
     "output_type": "display_data"
    },
    {
     "name": "stdout",
     "output_type": "stream",
     "text": [
      "Epoch 100: train=12.3183, val=11.3034, took 40.343 s\n",
      "  Validation Found 94728 of 108007, added 4278 (eff 87.71%) (0.214 FP/event)\n"
     ]
    },
    {
     "data": {
      "application/vnd.jupyter.widget-view+json": {
       "model_id": "",
       "version_major": 2,
       "version_minor": 0
      },
      "text/plain": [
       "HBox(children=(FloatProgress(value=0.0, description='Training', layout=Layout(flex='2'), max=1250.0, style=Pro…"
      ]
     },
     "metadata": {},
     "output_type": "display_data"
    },
    {
     "name": "stdout",
     "output_type": "stream",
     "text": [
      "Epoch 101: train=12.2966, val=11.329, took 41.414 s\n",
      "  Validation Found 94861 of 108007, added 4386 (eff 87.83%) (0.219 FP/event)\n"
     ]
    },
    {
     "data": {
      "application/vnd.jupyter.widget-view+json": {
       "model_id": "",
       "version_major": 2,
       "version_minor": 0
      },
      "text/plain": [
       "HBox(children=(FloatProgress(value=0.0, description='Training', layout=Layout(flex='2'), max=1250.0, style=Pro…"
      ]
     },
     "metadata": {},
     "output_type": "display_data"
    },
    {
     "name": "stdout",
     "output_type": "stream",
     "text": [
      "Epoch 102: train=12.2856, val=11.3819, took 40.278 s\n",
      "  Validation Found 94864 of 108007, added 4343 (eff 87.83%) (0.217 FP/event)\n"
     ]
    },
    {
     "data": {
      "application/vnd.jupyter.widget-view+json": {
       "model_id": "",
       "version_major": 2,
       "version_minor": 0
      },
      "text/plain": [
       "HBox(children=(FloatProgress(value=0.0, description='Training', layout=Layout(flex='2'), max=1250.0, style=Pro…"
      ]
     },
     "metadata": {},
     "output_type": "display_data"
    },
    {
     "name": "stdout",
     "output_type": "stream",
     "text": [
      "Epoch 103: train=12.2711, val=11.4155, took 40.174 s\n",
      "  Validation Found 94834 of 108007, added 4280 (eff 87.80%) (0.214 FP/event)\n"
     ]
    },
    {
     "data": {
      "application/vnd.jupyter.widget-view+json": {
       "model_id": "",
       "version_major": 2,
       "version_minor": 0
      },
      "text/plain": [
       "HBox(children=(FloatProgress(value=0.0, description='Training', layout=Layout(flex='2'), max=1250.0, style=Pro…"
      ]
     },
     "metadata": {},
     "output_type": "display_data"
    },
    {
     "name": "stdout",
     "output_type": "stream",
     "text": [
      "Epoch 104: train=12.2613, val=11.4445, took 40.179 s\n",
      "  Validation Found 94905 of 108007, added 4489 (eff 87.87%) (0.224 FP/event)\n"
     ]
    },
    {
     "data": {
      "application/vnd.jupyter.widget-view+json": {
       "model_id": "",
       "version_major": 2,
       "version_minor": 0
      },
      "text/plain": [
       "HBox(children=(FloatProgress(value=0.0, description='Training', layout=Layout(flex='2'), max=1250.0, style=Pro…"
      ]
     },
     "metadata": {},
     "output_type": "display_data"
    },
    {
     "name": "stdout",
     "output_type": "stream",
     "text": [
      "Epoch 105: train=12.2427, val=11.3958, took 40.126 s\n",
      "  Validation Found 94765 of 108007, added 4156 (eff 87.74%) (0.208 FP/event)\n"
     ]
    },
    {
     "data": {
      "application/vnd.jupyter.widget-view+json": {
       "model_id": "",
       "version_major": 2,
       "version_minor": 0
      },
      "text/plain": [
       "HBox(children=(FloatProgress(value=0.0, description='Training', layout=Layout(flex='2'), max=1250.0, style=Pro…"
      ]
     },
     "metadata": {},
     "output_type": "display_data"
    },
    {
     "name": "stdout",
     "output_type": "stream",
     "text": [
      "Epoch 106: train=12.2331, val=11.455, took 40.133 s\n",
      "  Validation Found 94989 of 108007, added 4493 (eff 87.95%) (0.225 FP/event)\n"
     ]
    },
    {
     "data": {
      "application/vnd.jupyter.widget-view+json": {
       "model_id": "",
       "version_major": 2,
       "version_minor": 0
      },
      "text/plain": [
       "HBox(children=(FloatProgress(value=0.0, description='Training', layout=Layout(flex='2'), max=1250.0, style=Pro…"
      ]
     },
     "metadata": {},
     "output_type": "display_data"
    },
    {
     "name": "stdout",
     "output_type": "stream",
     "text": [
      "Epoch 107: train=12.2272, val=11.2814, took 40.183 s\n",
      "  Validation Found 94825 of 108007, added 4294 (eff 87.80%) (0.215 FP/event)\n"
     ]
    },
    {
     "data": {
      "application/vnd.jupyter.widget-view+json": {
       "model_id": "",
       "version_major": 2,
       "version_minor": 0
      },
      "text/plain": [
       "HBox(children=(FloatProgress(value=0.0, description='Training', layout=Layout(flex='2'), max=1250.0, style=Pro…"
      ]
     },
     "metadata": {},
     "output_type": "display_data"
    },
    {
     "name": "stdout",
     "output_type": "stream",
     "text": [
      "Epoch 108: train=12.2071, val=11.3379, took 40.581 s\n",
      "  Validation Found 94766 of 108007, added 4237 (eff 87.74%) (0.212 FP/event)\n"
     ]
    },
    {
     "data": {
      "application/vnd.jupyter.widget-view+json": {
       "model_id": "",
       "version_major": 2,
       "version_minor": 0
      },
      "text/plain": [
       "HBox(children=(FloatProgress(value=0.0, description='Training', layout=Layout(flex='2'), max=1250.0, style=Pro…"
      ]
     },
     "metadata": {},
     "output_type": "display_data"
    },
    {
     "name": "stdout",
     "output_type": "stream",
     "text": [
      "Epoch 109: train=12.1924, val=11.3277, took 40.129 s\n",
      "  Validation Found 94952 of 108007, added 4337 (eff 87.91%) (0.217 FP/event)\n"
     ]
    },
    {
     "data": {
      "application/vnd.jupyter.widget-view+json": {
       "model_id": "",
       "version_major": 2,
       "version_minor": 0
      },
      "text/plain": [
       "HBox(children=(FloatProgress(value=0.0, description='Training', layout=Layout(flex='2'), max=1250.0, style=Pro…"
      ]
     },
     "metadata": {},
     "output_type": "display_data"
    },
    {
     "name": "stdout",
     "output_type": "stream",
     "text": [
      "Epoch 110: train=12.1804, val=11.2122, took 40.275 s\n",
      "  Validation Found 94972 of 108007, added 4450 (eff 87.93%) (0.222 FP/event)\n"
     ]
    },
    {
     "data": {
      "application/vnd.jupyter.widget-view+json": {
       "model_id": "",
       "version_major": 2,
       "version_minor": 0
      },
      "text/plain": [
       "HBox(children=(FloatProgress(value=0.0, description='Training', layout=Layout(flex='2'), max=1250.0, style=Pro…"
      ]
     },
     "metadata": {},
     "output_type": "display_data"
    },
    {
     "name": "stdout",
     "output_type": "stream",
     "text": [
      "Epoch 111: train=12.1734, val=11.3265, took 41.426 s\n",
      "  Validation Found 94992 of 108007, added 4413 (eff 87.95%) (0.221 FP/event)\n"
     ]
    },
    {
     "data": {
      "application/vnd.jupyter.widget-view+json": {
       "model_id": "",
       "version_major": 2,
       "version_minor": 0
      },
      "text/plain": [
       "HBox(children=(FloatProgress(value=0.0, description='Training', layout=Layout(flex='2'), max=1250.0, style=Pro…"
      ]
     },
     "metadata": {},
     "output_type": "display_data"
    },
    {
     "name": "stdout",
     "output_type": "stream",
     "text": [
      "Epoch 112: train=12.1545, val=11.2891, took 40.227 s\n",
      "  Validation Found 95010 of 108007, added 4389 (eff 87.97%) (0.219 FP/event)\n"
     ]
    },
    {
     "data": {
      "application/vnd.jupyter.widget-view+json": {
       "model_id": "",
       "version_major": 2,
       "version_minor": 0
      },
      "text/plain": [
       "HBox(children=(FloatProgress(value=0.0, description='Training', layout=Layout(flex='2'), max=1250.0, style=Pro…"
      ]
     },
     "metadata": {},
     "output_type": "display_data"
    },
    {
     "name": "stdout",
     "output_type": "stream",
     "text": [
      "Epoch 113: train=12.1398, val=11.4335, took 40.754 s\n",
      "  Validation Found 94973 of 108007, added 4314 (eff 87.93%) (0.216 FP/event)\n"
     ]
    },
    {
     "data": {
      "application/vnd.jupyter.widget-view+json": {
       "model_id": "",
       "version_major": 2,
       "version_minor": 0
      },
      "text/plain": [
       "HBox(children=(FloatProgress(value=0.0, description='Training', layout=Layout(flex='2'), max=1250.0, style=Pro…"
      ]
     },
     "metadata": {},
     "output_type": "display_data"
    },
    {
     "name": "stdout",
     "output_type": "stream",
     "text": [
      "Epoch 114: train=12.1275, val=11.2547, took 40.158 s\n",
      "  Validation Found 94911 of 108007, added 4164 (eff 87.87%) (0.208 FP/event)\n"
     ]
    },
    {
     "data": {
      "application/vnd.jupyter.widget-view+json": {
       "model_id": "",
       "version_major": 2,
       "version_minor": 0
      },
      "text/plain": [
       "HBox(children=(FloatProgress(value=0.0, description='Training', layout=Layout(flex='2'), max=1250.0, style=Pro…"
      ]
     },
     "metadata": {},
     "output_type": "display_data"
    },
    {
     "name": "stdout",
     "output_type": "stream",
     "text": [
      "Epoch 115: train=12.1171, val=11.3591, took 40.888 s\n",
      "  Validation Found 95058 of 108007, added 4464 (eff 88.01%) (0.223 FP/event)\n"
     ]
    },
    {
     "data": {
      "application/vnd.jupyter.widget-view+json": {
       "model_id": "",
       "version_major": 2,
       "version_minor": 0
      },
      "text/plain": [
       "HBox(children=(FloatProgress(value=0.0, description='Training', layout=Layout(flex='2'), max=1250.0, style=Pro…"
      ]
     },
     "metadata": {},
     "output_type": "display_data"
    },
    {
     "name": "stdout",
     "output_type": "stream",
     "text": [
      "Epoch 116: train=12.1019, val=11.2214, took 41.347 s\n",
      "  Validation Found 94820 of 108007, added 4017 (eff 87.79%) (0.201 FP/event)\n"
     ]
    },
    {
     "data": {
      "application/vnd.jupyter.widget-view+json": {
       "model_id": "",
       "version_major": 2,
       "version_minor": 0
      },
      "text/plain": [
       "HBox(children=(FloatProgress(value=0.0, description='Training', layout=Layout(flex='2'), max=1250.0, style=Pro…"
      ]
     },
     "metadata": {},
     "output_type": "display_data"
    },
    {
     "name": "stdout",
     "output_type": "stream",
     "text": [
      "Epoch 117: train=12.0962, val=11.3043, took 40.146 s\n",
      "  Validation Found 94972 of 108007, added 4293 (eff 87.93%) (0.215 FP/event)\n"
     ]
    },
    {
     "data": {
      "application/vnd.jupyter.widget-view+json": {
       "model_id": "",
       "version_major": 2,
       "version_minor": 0
      },
      "text/plain": [
       "HBox(children=(FloatProgress(value=0.0, description='Training', layout=Layout(flex='2'), max=1250.0, style=Pro…"
      ]
     },
     "metadata": {},
     "output_type": "display_data"
    },
    {
     "name": "stdout",
     "output_type": "stream",
     "text": [
      "Epoch 118: train=12.0796, val=11.2697, took 41.52 s\n",
      "  Validation Found 94973 of 108007, added 4314 (eff 87.93%) (0.216 FP/event)\n"
     ]
    },
    {
     "data": {
      "application/vnd.jupyter.widget-view+json": {
       "model_id": "",
       "version_major": 2,
       "version_minor": 0
      },
      "text/plain": [
       "HBox(children=(FloatProgress(value=0.0, description='Training', layout=Layout(flex='2'), max=1250.0, style=Pro…"
      ]
     },
     "metadata": {},
     "output_type": "display_data"
    },
    {
     "name": "stdout",
     "output_type": "stream",
     "text": [
      "Epoch 119: train=12.067, val=11.252, took 41.21 s\n",
      "  Validation Found 95073 of 108007, added 4498 (eff 88.02%) (0.225 FP/event)\n"
     ]
    },
    {
     "data": {
      "application/vnd.jupyter.widget-view+json": {
       "model_id": "",
       "version_major": 2,
       "version_minor": 0
      },
      "text/plain": [
       "HBox(children=(FloatProgress(value=0.0, description='Training', layout=Layout(flex='2'), max=1250.0, style=Pro…"
      ]
     },
     "metadata": {},
     "output_type": "display_data"
    },
    {
     "name": "stdout",
     "output_type": "stream",
     "text": [
      "Epoch 120: train=12.0533, val=11.272, took 40.198 s\n",
      "  Validation Found 95276 of 108007, added 4726 (eff 88.21%) (0.236 FP/event)\n"
     ]
    },
    {
     "data": {
      "application/vnd.jupyter.widget-view+json": {
       "model_id": "",
       "version_major": 2,
       "version_minor": 0
      },
      "text/plain": [
       "HBox(children=(FloatProgress(value=0.0, description='Training', layout=Layout(flex='2'), max=1250.0, style=Pro…"
      ]
     },
     "metadata": {},
     "output_type": "display_data"
    },
    {
     "name": "stdout",
     "output_type": "stream",
     "text": [
      "Epoch 121: train=12.0479, val=11.197, took 40.141 s\n",
      "  Validation Found 94920 of 108007, added 4219 (eff 87.88%) (0.211 FP/event)\n"
     ]
    },
    {
     "data": {
      "application/vnd.jupyter.widget-view+json": {
       "model_id": "",
       "version_major": 2,
       "version_minor": 0
      },
      "text/plain": [
       "HBox(children=(FloatProgress(value=0.0, description='Training', layout=Layout(flex='2'), max=1250.0, style=Pro…"
      ]
     },
     "metadata": {},
     "output_type": "display_data"
    },
    {
     "name": "stdout",
     "output_type": "stream",
     "text": [
      "Epoch 122: train=12.035, val=11.1774, took 41.414 s\n",
      "  Validation Found 95033 of 108007, added 4326 (eff 87.99%) (0.216 FP/event)\n"
     ]
    },
    {
     "data": {
      "application/vnd.jupyter.widget-view+json": {
       "model_id": "",
       "version_major": 2,
       "version_minor": 0
      },
      "text/plain": [
       "HBox(children=(FloatProgress(value=0.0, description='Training', layout=Layout(flex='2'), max=1250.0, style=Pro…"
      ]
     },
     "metadata": {},
     "output_type": "display_data"
    },
    {
     "name": "stdout",
     "output_type": "stream",
     "text": [
      "Epoch 123: train=12.0218, val=11.2374, took 41.45 s\n",
      "  Validation Found 95034 of 108007, added 4471 (eff 87.99%) (0.224 FP/event)\n"
     ]
    },
    {
     "data": {
      "application/vnd.jupyter.widget-view+json": {
       "model_id": "",
       "version_major": 2,
       "version_minor": 0
      },
      "text/plain": [
       "HBox(children=(FloatProgress(value=0.0, description='Training', layout=Layout(flex='2'), max=1250.0, style=Pro…"
      ]
     },
     "metadata": {},
     "output_type": "display_data"
    },
    {
     "name": "stdout",
     "output_type": "stream",
     "text": [
      "Epoch 124: train=12.0113, val=11.261, took 40.861 s\n",
      "  Validation Found 95100 of 108007, added 4429 (eff 88.05%) (0.221 FP/event)\n"
     ]
    },
    {
     "data": {
      "application/vnd.jupyter.widget-view+json": {
       "model_id": "",
       "version_major": 2,
       "version_minor": 0
      },
      "text/plain": [
       "HBox(children=(FloatProgress(value=0.0, description='Training', layout=Layout(flex='2'), max=1250.0, style=Pro…"
      ]
     },
     "metadata": {},
     "output_type": "display_data"
    },
    {
     "name": "stdout",
     "output_type": "stream",
     "text": [
      "Epoch 125: train=12.0023, val=11.2313, took 40.241 s\n",
      "  Validation Found 95082 of 108007, added 4336 (eff 88.03%) (0.217 FP/event)\n"
     ]
    },
    {
     "data": {
      "application/vnd.jupyter.widget-view+json": {
       "model_id": "",
       "version_major": 2,
       "version_minor": 0
      },
      "text/plain": [
       "HBox(children=(FloatProgress(value=0.0, description='Training', layout=Layout(flex='2'), max=1250.0, style=Pro…"
      ]
     },
     "metadata": {},
     "output_type": "display_data"
    },
    {
     "name": "stdout",
     "output_type": "stream",
     "text": [
      "Epoch 126: train=11.9873, val=11.1473, took 41.582 s\n",
      "  Validation Found 95070 of 108007, added 4315 (eff 88.02%) (0.216 FP/event)\n"
     ]
    },
    {
     "data": {
      "application/vnd.jupyter.widget-view+json": {
       "model_id": "",
       "version_major": 2,
       "version_minor": 0
      },
      "text/plain": [
       "HBox(children=(FloatProgress(value=0.0, description='Training', layout=Layout(flex='2'), max=1250.0, style=Pro…"
      ]
     },
     "metadata": {},
     "output_type": "display_data"
    },
    {
     "name": "stdout",
     "output_type": "stream",
     "text": [
      "Epoch 127: train=11.9729, val=11.2329, took 41.669 s\n",
      "  Validation Found 95094 of 108007, added 4444 (eff 88.04%) (0.222 FP/event)\n"
     ]
    },
    {
     "data": {
      "application/vnd.jupyter.widget-view+json": {
       "model_id": "",
       "version_major": 2,
       "version_minor": 0
      },
      "text/plain": [
       "HBox(children=(FloatProgress(value=0.0, description='Training', layout=Layout(flex='2'), max=1250.0, style=Pro…"
      ]
     },
     "metadata": {},
     "output_type": "display_data"
    },
    {
     "name": "stdout",
     "output_type": "stream",
     "text": [
      "Epoch 128: train=11.9702, val=11.192, took 41.586 s\n",
      "  Validation Found 95098 of 108007, added 4573 (eff 88.05%) (0.229 FP/event)\n"
     ]
    },
    {
     "data": {
      "application/vnd.jupyter.widget-view+json": {
       "model_id": "",
       "version_major": 2,
       "version_minor": 0
      },
      "text/plain": [
       "HBox(children=(FloatProgress(value=0.0, description='Training', layout=Layout(flex='2'), max=1250.0, style=Pro…"
      ]
     },
     "metadata": {},
     "output_type": "display_data"
    },
    {
     "name": "stdout",
     "output_type": "stream",
     "text": [
      "Epoch 129: train=11.956, val=11.1991, took 40.197 s\n",
      "  Validation Found 95246 of 108007, added 4496 (eff 88.19%) (0.225 FP/event)\n"
     ]
    },
    {
     "data": {
      "application/vnd.jupyter.widget-view+json": {
       "model_id": "",
       "version_major": 2,
       "version_minor": 0
      },
      "text/plain": [
       "HBox(children=(FloatProgress(value=0.0, description='Training', layout=Layout(flex='2'), max=1250.0, style=Pro…"
      ]
     },
     "metadata": {},
     "output_type": "display_data"
    },
    {
     "name": "stdout",
     "output_type": "stream",
     "text": [
      "Epoch 130: train=11.9451, val=11.1527, took 41.606 s\n",
      "  Validation Found 95273 of 108007, added 4612 (eff 88.21%) (0.231 FP/event)\n"
     ]
    },
    {
     "data": {
      "application/vnd.jupyter.widget-view+json": {
       "model_id": "",
       "version_major": 2,
       "version_minor": 0
      },
      "text/plain": [
       "HBox(children=(FloatProgress(value=0.0, description='Training', layout=Layout(flex='2'), max=1250.0, style=Pro…"
      ]
     },
     "metadata": {},
     "output_type": "display_data"
    },
    {
     "name": "stdout",
     "output_type": "stream",
     "text": [
      "Epoch 131: train=11.9406, val=11.1528, took 41.594 s\n",
      "  Validation Found 95098 of 108007, added 4270 (eff 88.05%) (0.213 FP/event)\n"
     ]
    },
    {
     "data": {
      "application/vnd.jupyter.widget-view+json": {
       "model_id": "",
       "version_major": 2,
       "version_minor": 0
      },
      "text/plain": [
       "HBox(children=(FloatProgress(value=0.0, description='Training', layout=Layout(flex='2'), max=1250.0, style=Pro…"
      ]
     },
     "metadata": {},
     "output_type": "display_data"
    },
    {
     "name": "stdout",
     "output_type": "stream",
     "text": [
      "Epoch 132: train=11.926, val=11.0688, took 40.187 s\n",
      "  Validation Found 95025 of 108007, added 4251 (eff 87.98%) (0.213 FP/event)\n"
     ]
    },
    {
     "data": {
      "application/vnd.jupyter.widget-view+json": {
       "model_id": "",
       "version_major": 2,
       "version_minor": 0
      },
      "text/plain": [
       "HBox(children=(FloatProgress(value=0.0, description='Training', layout=Layout(flex='2'), max=1250.0, style=Pro…"
      ]
     },
     "metadata": {},
     "output_type": "display_data"
    },
    {
     "name": "stdout",
     "output_type": "stream",
     "text": [
      "Epoch 133: train=11.916, val=11.1645, took 40.207 s\n",
      "  Validation Found 95214 of 108007, added 4447 (eff 88.16%) (0.222 FP/event)\n"
     ]
    },
    {
     "data": {
      "application/vnd.jupyter.widget-view+json": {
       "model_id": "",
       "version_major": 2,
       "version_minor": 0
      },
      "text/plain": [
       "HBox(children=(FloatProgress(value=0.0, description='Training', layout=Layout(flex='2'), max=1250.0, style=Pro…"
      ]
     },
     "metadata": {},
     "output_type": "display_data"
    },
    {
     "name": "stdout",
     "output_type": "stream",
     "text": [
      "Epoch 134: train=11.909, val=11.1161, took 41.526 s\n",
      "  Validation Found 95028 of 108007, added 4231 (eff 87.98%) (0.212 FP/event)\n"
     ]
    },
    {
     "data": {
      "application/vnd.jupyter.widget-view+json": {
       "model_id": "",
       "version_major": 2,
       "version_minor": 0
      },
      "text/plain": [
       "HBox(children=(FloatProgress(value=0.0, description='Training', layout=Layout(flex='2'), max=1250.0, style=Pro…"
      ]
     },
     "metadata": {},
     "output_type": "display_data"
    },
    {
     "name": "stdout",
     "output_type": "stream",
     "text": [
      "Epoch 135: train=11.8977, val=11.0814, took 41.492 s\n",
      "  Validation Found 95090 of 108007, added 4330 (eff 88.04%) (0.216 FP/event)\n"
     ]
    },
    {
     "data": {
      "application/vnd.jupyter.widget-view+json": {
       "model_id": "",
       "version_major": 2,
       "version_minor": 0
      },
      "text/plain": [
       "HBox(children=(FloatProgress(value=0.0, description='Training', layout=Layout(flex='2'), max=1250.0, style=Pro…"
      ]
     },
     "metadata": {},
     "output_type": "display_data"
    },
    {
     "name": "stdout",
     "output_type": "stream",
     "text": [
      "Epoch 136: train=11.8767, val=11.0266, took 40.23 s\n",
      "  Validation Found 94962 of 108007, added 4209 (eff 87.92%) (0.21 FP/event)\n"
     ]
    },
    {
     "data": {
      "application/vnd.jupyter.widget-view+json": {
       "model_id": "",
       "version_major": 2,
       "version_minor": 0
      },
      "text/plain": [
       "HBox(children=(FloatProgress(value=0.0, description='Training', layout=Layout(flex='2'), max=1250.0, style=Pro…"
      ]
     },
     "metadata": {},
     "output_type": "display_data"
    },
    {
     "name": "stdout",
     "output_type": "stream",
     "text": [
      "Epoch 137: train=11.8685, val=11.0677, took 41.611 s\n",
      "  Validation Found 95110 of 108007, added 4312 (eff 88.06%) (0.216 FP/event)\n"
     ]
    },
    {
     "data": {
      "application/vnd.jupyter.widget-view+json": {
       "model_id": "",
       "version_major": 2,
       "version_minor": 0
      },
      "text/plain": [
       "HBox(children=(FloatProgress(value=0.0, description='Training', layout=Layout(flex='2'), max=1250.0, style=Pro…"
      ]
     },
     "metadata": {},
     "output_type": "display_data"
    },
    {
     "name": "stdout",
     "output_type": "stream",
     "text": [
      "Epoch 138: train=11.8687, val=11.0687, took 40.185 s\n",
      "  Validation Found 95094 of 108007, added 4267 (eff 88.04%) (0.213 FP/event)\n"
     ]
    },
    {
     "data": {
      "application/vnd.jupyter.widget-view+json": {
       "model_id": "",
       "version_major": 2,
       "version_minor": 0
      },
      "text/plain": [
       "HBox(children=(FloatProgress(value=0.0, description='Training', layout=Layout(flex='2'), max=1250.0, style=Pro…"
      ]
     },
     "metadata": {},
     "output_type": "display_data"
    },
    {
     "name": "stdout",
     "output_type": "stream",
     "text": [
      "Epoch 139: train=11.8545, val=11.1101, took 41.573 s\n",
      "  Validation Found 95317 of 108007, added 4550 (eff 88.25%) (0.227 FP/event)\n"
     ]
    },
    {
     "data": {
      "application/vnd.jupyter.widget-view+json": {
       "model_id": "",
       "version_major": 2,
       "version_minor": 0
      },
      "text/plain": [
       "HBox(children=(FloatProgress(value=0.0, description='Training', layout=Layout(flex='2'), max=1250.0, style=Pro…"
      ]
     },
     "metadata": {},
     "output_type": "display_data"
    },
    {
     "name": "stdout",
     "output_type": "stream",
     "text": [
      "Epoch 140: train=11.8447, val=11.0568, took 40.244 s\n",
      "  Validation Found 94894 of 108007, added 4052 (eff 87.86%) (0.203 FP/event)\n"
     ]
    },
    {
     "data": {
      "application/vnd.jupyter.widget-view+json": {
       "model_id": "",
       "version_major": 2,
       "version_minor": 0
      },
      "text/plain": [
       "HBox(children=(FloatProgress(value=0.0, description='Training', layout=Layout(flex='2'), max=1250.0, style=Pro…"
      ]
     },
     "metadata": {},
     "output_type": "display_data"
    },
    {
     "name": "stdout",
     "output_type": "stream",
     "text": [
      "Epoch 141: train=11.8352, val=11.0339, took 40.167 s\n",
      "  Validation Found 94986 of 108007, added 4032 (eff 87.94%) (0.202 FP/event)\n"
     ]
    },
    {
     "data": {
      "application/vnd.jupyter.widget-view+json": {
       "model_id": "",
       "version_major": 2,
       "version_minor": 0
      },
      "text/plain": [
       "HBox(children=(FloatProgress(value=0.0, description='Training', layout=Layout(flex='2'), max=1250.0, style=Pro…"
      ]
     },
     "metadata": {},
     "output_type": "display_data"
    },
    {
     "name": "stdout",
     "output_type": "stream",
     "text": [
      "Epoch 142: train=11.8214, val=11.0012, took 40.63 s\n",
      "  Validation Found 94948 of 108007, added 4103 (eff 87.91%) (0.205 FP/event)\n"
     ]
    },
    {
     "data": {
      "application/vnd.jupyter.widget-view+json": {
       "model_id": "",
       "version_major": 2,
       "version_minor": 0
      },
      "text/plain": [
       "HBox(children=(FloatProgress(value=0.0, description='Training', layout=Layout(flex='2'), max=1250.0, style=Pro…"
      ]
     },
     "metadata": {},
     "output_type": "display_data"
    },
    {
     "name": "stdout",
     "output_type": "stream",
     "text": [
      "Epoch 143: train=11.8126, val=11.002, took 40.892 s\n",
      "  Validation Found 95161 of 108007, added 4366 (eff 88.11%) (0.218 FP/event)\n"
     ]
    },
    {
     "data": {
      "application/vnd.jupyter.widget-view+json": {
       "model_id": "",
       "version_major": 2,
       "version_minor": 0
      },
      "text/plain": [
       "HBox(children=(FloatProgress(value=0.0, description='Training', layout=Layout(flex='2'), max=1250.0, style=Pro…"
      ]
     },
     "metadata": {},
     "output_type": "display_data"
    },
    {
     "name": "stdout",
     "output_type": "stream",
     "text": [
      "Epoch 144: train=11.8004, val=11.0178, took 40.206 s\n",
      "  Validation Found 95224 of 108007, added 4408 (eff 88.16%) (0.22 FP/event)\n"
     ]
    },
    {
     "data": {
      "application/vnd.jupyter.widget-view+json": {
       "model_id": "",
       "version_major": 2,
       "version_minor": 0
      },
      "text/plain": [
       "HBox(children=(FloatProgress(value=0.0, description='Training', layout=Layout(flex='2'), max=1250.0, style=Pro…"
      ]
     },
     "metadata": {},
     "output_type": "display_data"
    },
    {
     "name": "stdout",
     "output_type": "stream",
     "text": [
      "Epoch 145: train=11.7967, val=11.0035, took 40.999 s\n",
      "  Validation Found 94916 of 108007, added 4076 (eff 87.88%) (0.204 FP/event)\n"
     ]
    },
    {
     "data": {
      "application/vnd.jupyter.widget-view+json": {
       "model_id": "",
       "version_major": 2,
       "version_minor": 0
      },
      "text/plain": [
       "HBox(children=(FloatProgress(value=0.0, description='Training', layout=Layout(flex='2'), max=1250.0, style=Pro…"
      ]
     },
     "metadata": {},
     "output_type": "display_data"
    },
    {
     "name": "stdout",
     "output_type": "stream",
     "text": [
      "Epoch 146: train=11.7755, val=10.9964, took 41.864 s\n",
      "  Validation Found 95147 of 108007, added 4273 (eff 88.09%) (0.214 FP/event)\n"
     ]
    },
    {
     "data": {
      "application/vnd.jupyter.widget-view+json": {
       "model_id": "",
       "version_major": 2,
       "version_minor": 0
      },
      "text/plain": [
       "HBox(children=(FloatProgress(value=0.0, description='Training', layout=Layout(flex='2'), max=1250.0, style=Pro…"
      ]
     },
     "metadata": {},
     "output_type": "display_data"
    },
    {
     "name": "stdout",
     "output_type": "stream",
     "text": [
      "Epoch 147: train=11.7706, val=11.0058, took 41.421 s\n",
      "  Validation Found 95171 of 108007, added 4413 (eff 88.12%) (0.221 FP/event)\n"
     ]
    },
    {
     "data": {
      "application/vnd.jupyter.widget-view+json": {
       "model_id": "",
       "version_major": 2,
       "version_minor": 0
      },
      "text/plain": [
       "HBox(children=(FloatProgress(value=0.0, description='Training', layout=Layout(flex='2'), max=1250.0, style=Pro…"
      ]
     },
     "metadata": {},
     "output_type": "display_data"
    },
    {
     "name": "stdout",
     "output_type": "stream",
     "text": [
      "Epoch 148: train=11.7629, val=10.9561, took 40.464 s\n",
      "  Validation Found 95138 of 108007, added 4289 (eff 88.09%) (0.214 FP/event)\n"
     ]
    },
    {
     "data": {
      "application/vnd.jupyter.widget-view+json": {
       "model_id": "",
       "version_major": 2,
       "version_minor": 0
      },
      "text/plain": [
       "HBox(children=(FloatProgress(value=0.0, description='Training', layout=Layout(flex='2'), max=1250.0, style=Pro…"
      ]
     },
     "metadata": {},
     "output_type": "display_data"
    },
    {
     "name": "stdout",
     "output_type": "stream",
     "text": [
      "Epoch 149: train=11.7555, val=10.9442, took 41.603 s\n",
      "  Validation Found 95001 of 108007, added 4183 (eff 87.96%) (0.209 FP/event)\n"
     ]
    },
    {
     "data": {
      "application/vnd.jupyter.widget-view+json": {
       "model_id": "",
       "version_major": 2,
       "version_minor": 0
      },
      "text/plain": [
       "HBox(children=(FloatProgress(value=0.0, description='Training', layout=Layout(flex='2'), max=1250.0, style=Pro…"
      ]
     },
     "metadata": {},
     "output_type": "display_data"
    },
    {
     "name": "stdout",
     "output_type": "stream",
     "text": [
      "Epoch 150: train=11.738, val=11.0033, took 41.628 s\n",
      "  Validation Found 94926 of 108007, added 3993 (eff 87.89%) (0.2 FP/event)\n"
     ]
    },
    {
     "data": {
      "application/vnd.jupyter.widget-view+json": {
       "model_id": "",
       "version_major": 2,
       "version_minor": 0
      },
      "text/plain": [
       "HBox(children=(FloatProgress(value=0.0, description='Training', layout=Layout(flex='2'), max=1250.0, style=Pro…"
      ]
     },
     "metadata": {},
     "output_type": "display_data"
    },
    {
     "name": "stdout",
     "output_type": "stream",
     "text": [
      "Epoch 151: train=11.7281, val=10.9576, took 40.339 s\n",
      "  Validation Found 95079 of 108007, added 4180 (eff 88.03%) (0.209 FP/event)\n"
     ]
    },
    {
     "data": {
      "application/vnd.jupyter.widget-view+json": {
       "model_id": "",
       "version_major": 2,
       "version_minor": 0
      },
      "text/plain": [
       "HBox(children=(FloatProgress(value=0.0, description='Training', layout=Layout(flex='2'), max=1250.0, style=Pro…"
      ]
     },
     "metadata": {},
     "output_type": "display_data"
    },
    {
     "name": "stdout",
     "output_type": "stream",
     "text": [
      "Epoch 152: train=11.7124, val=10.9343, took 41.56 s\n",
      "  Validation Found 95124 of 108007, added 4420 (eff 88.07%) (0.221 FP/event)\n"
     ]
    },
    {
     "data": {
      "application/vnd.jupyter.widget-view+json": {
       "model_id": "",
       "version_major": 2,
       "version_minor": 0
      },
      "text/plain": [
       "HBox(children=(FloatProgress(value=0.0, description='Training', layout=Layout(flex='2'), max=1250.0, style=Pro…"
      ]
     },
     "metadata": {},
     "output_type": "display_data"
    },
    {
     "name": "stdout",
     "output_type": "stream",
     "text": [
      "Epoch 153: train=11.7053, val=10.9544, took 40.281 s\n",
      "  Validation Found 95116 of 108007, added 4282 (eff 88.06%) (0.214 FP/event)\n"
     ]
    },
    {
     "data": {
      "application/vnd.jupyter.widget-view+json": {
       "model_id": "",
       "version_major": 2,
       "version_minor": 0
      },
      "text/plain": [
       "HBox(children=(FloatProgress(value=0.0, description='Training', layout=Layout(flex='2'), max=1250.0, style=Pro…"
      ]
     },
     "metadata": {},
     "output_type": "display_data"
    },
    {
     "name": "stdout",
     "output_type": "stream",
     "text": [
      "Epoch 154: train=11.7005, val=10.952, took 40.278 s\n",
      "  Validation Found 95202 of 108007, added 4359 (eff 88.14%) (0.218 FP/event)\n"
     ]
    },
    {
     "data": {
      "application/vnd.jupyter.widget-view+json": {
       "model_id": "",
       "version_major": 2,
       "version_minor": 0
      },
      "text/plain": [
       "HBox(children=(FloatProgress(value=0.0, description='Training', layout=Layout(flex='2'), max=1250.0, style=Pro…"
      ]
     },
     "metadata": {},
     "output_type": "display_data"
    },
    {
     "name": "stdout",
     "output_type": "stream",
     "text": [
      "Epoch 155: train=11.684, val=10.915, took 41.274 s\n",
      "  Validation Found 95110 of 108007, added 4457 (eff 88.06%) (0.223 FP/event)\n"
     ]
    },
    {
     "data": {
      "application/vnd.jupyter.widget-view+json": {
       "model_id": "",
       "version_major": 2,
       "version_minor": 0
      },
      "text/plain": [
       "HBox(children=(FloatProgress(value=0.0, description='Training', layout=Layout(flex='2'), max=1250.0, style=Pro…"
      ]
     },
     "metadata": {},
     "output_type": "display_data"
    },
    {
     "name": "stdout",
     "output_type": "stream",
     "text": [
      "Epoch 156: train=11.6768, val=10.9611, took 40.762 s\n",
      "  Validation Found 95206 of 108007, added 4523 (eff 88.15%) (0.226 FP/event)\n"
     ]
    },
    {
     "data": {
      "application/vnd.jupyter.widget-view+json": {
       "model_id": "",
       "version_major": 2,
       "version_minor": 0
      },
      "text/plain": [
       "HBox(children=(FloatProgress(value=0.0, description='Training', layout=Layout(flex='2'), max=1250.0, style=Pro…"
      ]
     },
     "metadata": {},
     "output_type": "display_data"
    },
    {
     "name": "stdout",
     "output_type": "stream",
     "text": [
      "Epoch 157: train=11.6669, val=10.933, took 40.236 s\n",
      "  Validation Found 95274 of 108007, added 4600 (eff 88.21%) (0.23 FP/event)\n"
     ]
    },
    {
     "data": {
      "application/vnd.jupyter.widget-view+json": {
       "model_id": "",
       "version_major": 2,
       "version_minor": 0
      },
      "text/plain": [
       "HBox(children=(FloatProgress(value=0.0, description='Training', layout=Layout(flex='2'), max=1250.0, style=Pro…"
      ]
     },
     "metadata": {},
     "output_type": "display_data"
    },
    {
     "name": "stdout",
     "output_type": "stream",
     "text": [
      "Epoch 158: train=11.6516, val=10.9955, took 40.178 s\n",
      "  Validation Found 95230 of 108007, added 4355 (eff 88.17%) (0.218 FP/event)\n"
     ]
    },
    {
     "data": {
      "application/vnd.jupyter.widget-view+json": {
       "model_id": "",
       "version_major": 2,
       "version_minor": 0
      },
      "text/plain": [
       "HBox(children=(FloatProgress(value=0.0, description='Training', layout=Layout(flex='2'), max=1250.0, style=Pro…"
      ]
     },
     "metadata": {},
     "output_type": "display_data"
    },
    {
     "name": "stdout",
     "output_type": "stream",
     "text": [
      "Epoch 159: train=11.6387, val=10.9873, took 40.169 s\n",
      "  Validation Found 95245 of 108007, added 4666 (eff 88.18%) (0.233 FP/event)\n"
     ]
    },
    {
     "data": {
      "application/vnd.jupyter.widget-view+json": {
       "model_id": "",
       "version_major": 2,
       "version_minor": 0
      },
      "text/plain": [
       "HBox(children=(FloatProgress(value=0.0, description='Training', layout=Layout(flex='2'), max=1250.0, style=Pro…"
      ]
     },
     "metadata": {},
     "output_type": "display_data"
    },
    {
     "name": "stdout",
     "output_type": "stream",
     "text": [
      "Epoch 160: train=11.6289, val=10.9339, took 40.22 s\n",
      "  Validation Found 95128 of 108007, added 4290 (eff 88.08%) (0.214 FP/event)\n"
     ]
    },
    {
     "data": {
      "application/vnd.jupyter.widget-view+json": {
       "model_id": "",
       "version_major": 2,
       "version_minor": 0
      },
      "text/plain": [
       "HBox(children=(FloatProgress(value=0.0, description='Training', layout=Layout(flex='2'), max=1250.0, style=Pro…"
      ]
     },
     "metadata": {},
     "output_type": "display_data"
    },
    {
     "name": "stdout",
     "output_type": "stream",
     "text": [
      "Epoch 161: train=11.6294, val=10.9607, took 40.53 s\n",
      "  Validation Found 95272 of 108007, added 4462 (eff 88.21%) (0.223 FP/event)\n"
     ]
    },
    {
     "data": {
      "application/vnd.jupyter.widget-view+json": {
       "model_id": "",
       "version_major": 2,
       "version_minor": 0
      },
      "text/plain": [
       "HBox(children=(FloatProgress(value=0.0, description='Training', layout=Layout(flex='2'), max=1250.0, style=Pro…"
      ]
     },
     "metadata": {},
     "output_type": "display_data"
    },
    {
     "name": "stdout",
     "output_type": "stream",
     "text": [
      "Epoch 162: train=11.6175, val=10.9603, took 41.39 s\n",
      "  Validation Found 95201 of 108007, added 4341 (eff 88.14%) (0.217 FP/event)\n"
     ]
    },
    {
     "data": {
      "application/vnd.jupyter.widget-view+json": {
       "model_id": "",
       "version_major": 2,
       "version_minor": 0
      },
      "text/plain": [
       "HBox(children=(FloatProgress(value=0.0, description='Training', layout=Layout(flex='2'), max=1250.0, style=Pro…"
      ]
     },
     "metadata": {},
     "output_type": "display_data"
    },
    {
     "name": "stdout",
     "output_type": "stream",
     "text": [
      "Epoch 163: train=11.607, val=10.9142, took 40.323 s\n",
      "  Validation Found 95204 of 108007, added 4357 (eff 88.15%) (0.218 FP/event)\n"
     ]
    },
    {
     "data": {
      "application/vnd.jupyter.widget-view+json": {
       "model_id": "",
       "version_major": 2,
       "version_minor": 0
      },
      "text/plain": [
       "HBox(children=(FloatProgress(value=0.0, description='Training', layout=Layout(flex='2'), max=1250.0, style=Pro…"
      ]
     },
     "metadata": {},
     "output_type": "display_data"
    },
    {
     "name": "stdout",
     "output_type": "stream",
     "text": [
      "Epoch 164: train=11.5924, val=10.9467, took 40.805 s\n",
      "  Validation Found 95137 of 108007, added 4136 (eff 88.08%) (0.207 FP/event)\n"
     ]
    },
    {
     "data": {
      "application/vnd.jupyter.widget-view+json": {
       "model_id": "",
       "version_major": 2,
       "version_minor": 0
      },
      "text/plain": [
       "HBox(children=(FloatProgress(value=0.0, description='Training', layout=Layout(flex='2'), max=1250.0, style=Pro…"
      ]
     },
     "metadata": {},
     "output_type": "display_data"
    },
    {
     "name": "stdout",
     "output_type": "stream",
     "text": [
      "Epoch 165: train=11.589, val=10.8937, took 41.607 s\n",
      "  Validation Found 95402 of 108007, added 4684 (eff 88.33%) (0.234 FP/event)\n"
     ]
    },
    {
     "data": {
      "application/vnd.jupyter.widget-view+json": {
       "model_id": "",
       "version_major": 2,
       "version_minor": 0
      },
      "text/plain": [
       "HBox(children=(FloatProgress(value=0.0, description='Training', layout=Layout(flex='2'), max=1250.0, style=Pro…"
      ]
     },
     "metadata": {},
     "output_type": "display_data"
    },
    {
     "name": "stdout",
     "output_type": "stream",
     "text": [
      "Epoch 166: train=11.5736, val=10.9547, took 41.611 s\n",
      "  Validation Found 95411 of 108007, added 4654 (eff 88.34%) (0.233 FP/event)\n"
     ]
    },
    {
     "data": {
      "application/vnd.jupyter.widget-view+json": {
       "model_id": "",
       "version_major": 2,
       "version_minor": 0
      },
      "text/plain": [
       "HBox(children=(FloatProgress(value=0.0, description='Training', layout=Layout(flex='2'), max=1250.0, style=Pro…"
      ]
     },
     "metadata": {},
     "output_type": "display_data"
    },
    {
     "name": "stdout",
     "output_type": "stream",
     "text": [
      "Epoch 167: train=11.557, val=10.9764, took 41.133 s\n",
      "  Validation Found 95190 of 108007, added 4237 (eff 88.13%) (0.212 FP/event)\n"
     ]
    },
    {
     "data": {
      "application/vnd.jupyter.widget-view+json": {
       "model_id": "",
       "version_major": 2,
       "version_minor": 0
      },
      "text/plain": [
       "HBox(children=(FloatProgress(value=0.0, description='Training', layout=Layout(flex='2'), max=1250.0, style=Pro…"
      ]
     },
     "metadata": {},
     "output_type": "display_data"
    },
    {
     "name": "stdout",
     "output_type": "stream",
     "text": [
      "Epoch 168: train=11.5583, val=10.9269, took 40.269 s\n",
      "  Validation Found 95366 of 108007, added 4556 (eff 88.30%) (0.228 FP/event)\n"
     ]
    },
    {
     "data": {
      "application/vnd.jupyter.widget-view+json": {
       "model_id": "",
       "version_major": 2,
       "version_minor": 0
      },
      "text/plain": [
       "HBox(children=(FloatProgress(value=0.0, description='Training', layout=Layout(flex='2'), max=1250.0, style=Pro…"
      ]
     },
     "metadata": {},
     "output_type": "display_data"
    },
    {
     "name": "stdout",
     "output_type": "stream",
     "text": [
      "Epoch 169: train=11.5421, val=10.9117, took 41.67 s\n",
      "  Validation Found 95271 of 108007, added 4566 (eff 88.21%) (0.228 FP/event)\n"
     ]
    },
    {
     "data": {
      "application/vnd.jupyter.widget-view+json": {
       "model_id": "",
       "version_major": 2,
       "version_minor": 0
      },
      "text/plain": [
       "HBox(children=(FloatProgress(value=0.0, description='Training', layout=Layout(flex='2'), max=1250.0, style=Pro…"
      ]
     },
     "metadata": {},
     "output_type": "display_data"
    },
    {
     "name": "stdout",
     "output_type": "stream",
     "text": [
      "Epoch 170: train=11.5315, val=10.9239, took 41.651 s\n",
      "  Validation Found 95316 of 108007, added 4471 (eff 88.25%) (0.224 FP/event)\n"
     ]
    },
    {
     "data": {
      "application/vnd.jupyter.widget-view+json": {
       "model_id": "",
       "version_major": 2,
       "version_minor": 0
      },
      "text/plain": [
       "HBox(children=(FloatProgress(value=0.0, description='Training', layout=Layout(flex='2'), max=1250.0, style=Pro…"
      ]
     },
     "metadata": {},
     "output_type": "display_data"
    },
    {
     "name": "stdout",
     "output_type": "stream",
     "text": [
      "Epoch 171: train=11.53, val=10.8965, took 40.425 s\n",
      "  Validation Found 95261 of 108007, added 4614 (eff 88.20%) (0.231 FP/event)\n"
     ]
    },
    {
     "data": {
      "application/vnd.jupyter.widget-view+json": {
       "model_id": "",
       "version_major": 2,
       "version_minor": 0
      },
      "text/plain": [
       "HBox(children=(FloatProgress(value=0.0, description='Training', layout=Layout(flex='2'), max=1250.0, style=Pro…"
      ]
     },
     "metadata": {},
     "output_type": "display_data"
    },
    {
     "name": "stdout",
     "output_type": "stream",
     "text": [
      "Epoch 172: train=11.5119, val=10.9105, took 41.632 s\n",
      "  Validation Found 95257 of 108007, added 4317 (eff 88.20%) (0.216 FP/event)\n"
     ]
    },
    {
     "data": {
      "application/vnd.jupyter.widget-view+json": {
       "model_id": "",
       "version_major": 2,
       "version_minor": 0
      },
      "text/plain": [
       "HBox(children=(FloatProgress(value=0.0, description='Training', layout=Layout(flex='2'), max=1250.0, style=Pro…"
      ]
     },
     "metadata": {},
     "output_type": "display_data"
    },
    {
     "name": "stdout",
     "output_type": "stream",
     "text": [
      "Epoch 173: train=11.5081, val=10.9275, took 40.229 s\n",
      "  Validation Found 95193 of 108007, added 4302 (eff 88.14%) (0.215 FP/event)\n"
     ]
    },
    {
     "data": {
      "application/vnd.jupyter.widget-view+json": {
       "model_id": "",
       "version_major": 2,
       "version_minor": 0
      },
      "text/plain": [
       "HBox(children=(FloatProgress(value=0.0, description='Training', layout=Layout(flex='2'), max=1250.0, style=Pro…"
      ]
     },
     "metadata": {},
     "output_type": "display_data"
    },
    {
     "name": "stdout",
     "output_type": "stream",
     "text": [
      "Epoch 174: train=11.4969, val=10.9218, took 40.21 s\n",
      "  Validation Found 95251 of 108007, added 4357 (eff 88.19%) (0.218 FP/event)\n"
     ]
    },
    {
     "data": {
      "application/vnd.jupyter.widget-view+json": {
       "model_id": "",
       "version_major": 2,
       "version_minor": 0
      },
      "text/plain": [
       "HBox(children=(FloatProgress(value=0.0, description='Training', layout=Layout(flex='2'), max=1250.0, style=Pro…"
      ]
     },
     "metadata": {},
     "output_type": "display_data"
    },
    {
     "name": "stdout",
     "output_type": "stream",
     "text": [
      "Epoch 175: train=11.4809, val=10.8931, took 40.466 s\n",
      "  Validation Found 95300 of 108007, added 4353 (eff 88.24%) (0.218 FP/event)\n"
     ]
    },
    {
     "data": {
      "application/vnd.jupyter.widget-view+json": {
       "model_id": "",
       "version_major": 2,
       "version_minor": 0
      },
      "text/plain": [
       "HBox(children=(FloatProgress(value=0.0, description='Training', layout=Layout(flex='2'), max=1250.0, style=Pro…"
      ]
     },
     "metadata": {},
     "output_type": "display_data"
    },
    {
     "name": "stdout",
     "output_type": "stream",
     "text": [
      "Epoch 176: train=11.475, val=10.8923, took 40.635 s\n",
      "  Validation Found 95081 of 108007, added 4261 (eff 88.03%) (0.213 FP/event)\n"
     ]
    },
    {
     "data": {
      "application/vnd.jupyter.widget-view+json": {
       "model_id": "",
       "version_major": 2,
       "version_minor": 0
      },
      "text/plain": [
       "HBox(children=(FloatProgress(value=0.0, description='Training', layout=Layout(flex='2'), max=1250.0, style=Pro…"
      ]
     },
     "metadata": {},
     "output_type": "display_data"
    },
    {
     "name": "stdout",
     "output_type": "stream",
     "text": [
      "Epoch 177: train=11.4695, val=10.8686, took 40.222 s\n",
      "  Validation Found 95305 of 108007, added 4440 (eff 88.24%) (0.222 FP/event)\n"
     ]
    },
    {
     "data": {
      "application/vnd.jupyter.widget-view+json": {
       "model_id": "",
       "version_major": 2,
       "version_minor": 0
      },
      "text/plain": [
       "HBox(children=(FloatProgress(value=0.0, description='Training', layout=Layout(flex='2'), max=1250.0, style=Pro…"
      ]
     },
     "metadata": {},
     "output_type": "display_data"
    },
    {
     "name": "stdout",
     "output_type": "stream",
     "text": [
      "Epoch 178: train=11.4582, val=10.8802, took 40.714 s\n",
      "  Validation Found 95330 of 108007, added 4699 (eff 88.26%) (0.235 FP/event)\n"
     ]
    },
    {
     "data": {
      "application/vnd.jupyter.widget-view+json": {
       "model_id": "",
       "version_major": 2,
       "version_minor": 0
      },
      "text/plain": [
       "HBox(children=(FloatProgress(value=0.0, description='Training', layout=Layout(flex='2'), max=1250.0, style=Pro…"
      ]
     },
     "metadata": {},
     "output_type": "display_data"
    },
    {
     "name": "stdout",
     "output_type": "stream",
     "text": [
      "Epoch 179: train=11.4439, val=10.8973, took 41.665 s\n",
      "  Validation Found 95281 of 108007, added 4478 (eff 88.22%) (0.224 FP/event)\n"
     ]
    },
    {
     "data": {
      "application/vnd.jupyter.widget-view+json": {
       "model_id": "",
       "version_major": 2,
       "version_minor": 0
      },
      "text/plain": [
       "HBox(children=(FloatProgress(value=0.0, description='Training', layout=Layout(flex='2'), max=1250.0, style=Pro…"
      ]
     },
     "metadata": {},
     "output_type": "display_data"
    },
    {
     "name": "stdout",
     "output_type": "stream",
     "text": [
      "Epoch 180: train=11.4377, val=10.9012, took 41.464 s\n",
      "  Validation Found 95433 of 108007, added 4620 (eff 88.36%) (0.231 FP/event)\n"
     ]
    },
    {
     "data": {
      "application/vnd.jupyter.widget-view+json": {
       "model_id": "",
       "version_major": 2,
       "version_minor": 0
      },
      "text/plain": [
       "HBox(children=(FloatProgress(value=0.0, description='Training', layout=Layout(flex='2'), max=1250.0, style=Pro…"
      ]
     },
     "metadata": {},
     "output_type": "display_data"
    },
    {
     "name": "stdout",
     "output_type": "stream",
     "text": [
      "Epoch 181: train=11.4264, val=10.8656, took 41.617 s\n",
      "  Validation Found 95426 of 108007, added 4533 (eff 88.35%) (0.227 FP/event)\n"
     ]
    },
    {
     "data": {
      "application/vnd.jupyter.widget-view+json": {
       "model_id": "",
       "version_major": 2,
       "version_minor": 0
      },
      "text/plain": [
       "HBox(children=(FloatProgress(value=0.0, description='Training', layout=Layout(flex='2'), max=1250.0, style=Pro…"
      ]
     },
     "metadata": {},
     "output_type": "display_data"
    },
    {
     "name": "stdout",
     "output_type": "stream",
     "text": [
      "Epoch 182: train=11.4241, val=10.8485, took 40.669 s\n",
      "  Validation Found 95417 of 108007, added 4574 (eff 88.34%) (0.229 FP/event)\n"
     ]
    },
    {
     "data": {
      "application/vnd.jupyter.widget-view+json": {
       "model_id": "",
       "version_major": 2,
       "version_minor": 0
      },
      "text/plain": [
       "HBox(children=(FloatProgress(value=0.0, description='Training', layout=Layout(flex='2'), max=1250.0, style=Pro…"
      ]
     },
     "metadata": {},
     "output_type": "display_data"
    },
    {
     "name": "stdout",
     "output_type": "stream",
     "text": [
      "Epoch 183: train=11.4215, val=10.8219, took 41.671 s\n",
      "  Validation Found 95301 of 108007, added 4390 (eff 88.24%) (0.219 FP/event)\n"
     ]
    },
    {
     "data": {
      "application/vnd.jupyter.widget-view+json": {
       "model_id": "",
       "version_major": 2,
       "version_minor": 0
      },
      "text/plain": [
       "HBox(children=(FloatProgress(value=0.0, description='Training', layout=Layout(flex='2'), max=1250.0, style=Pro…"
      ]
     },
     "metadata": {},
     "output_type": "display_data"
    },
    {
     "name": "stdout",
     "output_type": "stream",
     "text": [
      "Epoch 184: train=11.4074, val=10.9037, took 40.58 s\n",
      "  Validation Found 95565 of 108007, added 4889 (eff 88.48%) (0.244 FP/event)\n"
     ]
    },
    {
     "data": {
      "application/vnd.jupyter.widget-view+json": {
       "model_id": "",
       "version_major": 2,
       "version_minor": 0
      },
      "text/plain": [
       "HBox(children=(FloatProgress(value=0.0, description='Training', layout=Layout(flex='2'), max=1250.0, style=Pro…"
      ]
     },
     "metadata": {},
     "output_type": "display_data"
    },
    {
     "name": "stdout",
     "output_type": "stream",
     "text": [
      "Epoch 185: train=11.3948, val=10.8908, took 40.927 s\n",
      "  Validation Found 95424 of 108007, added 4504 (eff 88.35%) (0.225 FP/event)\n"
     ]
    },
    {
     "data": {
      "application/vnd.jupyter.widget-view+json": {
       "model_id": "",
       "version_major": 2,
       "version_minor": 0
      },
      "text/plain": [
       "HBox(children=(FloatProgress(value=0.0, description='Training', layout=Layout(flex='2'), max=1250.0, style=Pro…"
      ]
     },
     "metadata": {},
     "output_type": "display_data"
    },
    {
     "name": "stdout",
     "output_type": "stream",
     "text": [
      "Epoch 186: train=11.3878, val=10.823, took 41.647 s\n",
      "  Validation Found 95265 of 108007, added 4394 (eff 88.20%) (0.22 FP/event)\n"
     ]
    },
    {
     "data": {
      "application/vnd.jupyter.widget-view+json": {
       "model_id": "",
       "version_major": 2,
       "version_minor": 0
      },
      "text/plain": [
       "HBox(children=(FloatProgress(value=0.0, description='Training', layout=Layout(flex='2'), max=1250.0, style=Pro…"
      ]
     },
     "metadata": {},
     "output_type": "display_data"
    },
    {
     "name": "stdout",
     "output_type": "stream",
     "text": [
      "Epoch 187: train=11.3768, val=10.8728, took 41.615 s\n",
      "  Validation Found 95438 of 108007, added 4574 (eff 88.36%) (0.229 FP/event)\n"
     ]
    },
    {
     "data": {
      "application/vnd.jupyter.widget-view+json": {
       "model_id": "",
       "version_major": 2,
       "version_minor": 0
      },
      "text/plain": [
       "HBox(children=(FloatProgress(value=0.0, description='Training', layout=Layout(flex='2'), max=1250.0, style=Pro…"
      ]
     },
     "metadata": {},
     "output_type": "display_data"
    },
    {
     "name": "stdout",
     "output_type": "stream",
     "text": [
      "Epoch 188: train=11.3743, val=10.8848, took 41.66 s\n",
      "  Validation Found 95398 of 108007, added 4412 (eff 88.33%) (0.221 FP/event)\n"
     ]
    },
    {
     "data": {
      "application/vnd.jupyter.widget-view+json": {
       "model_id": "",
       "version_major": 2,
       "version_minor": 0
      },
      "text/plain": [
       "HBox(children=(FloatProgress(value=0.0, description='Training', layout=Layout(flex='2'), max=1250.0, style=Pro…"
      ]
     },
     "metadata": {},
     "output_type": "display_data"
    },
    {
     "name": "stdout",
     "output_type": "stream",
     "text": [
      "Epoch 189: train=11.3629, val=10.8561, took 40.221 s\n",
      "  Validation Found 95481 of 108007, added 4566 (eff 88.40%) (0.228 FP/event)\n"
     ]
    },
    {
     "data": {
      "application/vnd.jupyter.widget-view+json": {
       "model_id": "",
       "version_major": 2,
       "version_minor": 0
      },
      "text/plain": [
       "HBox(children=(FloatProgress(value=0.0, description='Training', layout=Layout(flex='2'), max=1250.0, style=Pro…"
      ]
     },
     "metadata": {},
     "output_type": "display_data"
    },
    {
     "name": "stdout",
     "output_type": "stream",
     "text": [
      "Epoch 190: train=11.3528, val=10.8297, took 40.221 s\n",
      "  Validation Found 95353 of 108007, added 4452 (eff 88.28%) (0.223 FP/event)\n"
     ]
    },
    {
     "data": {
      "application/vnd.jupyter.widget-view+json": {
       "model_id": "",
       "version_major": 2,
       "version_minor": 0
      },
      "text/plain": [
       "HBox(children=(FloatProgress(value=0.0, description='Training', layout=Layout(flex='2'), max=1250.0, style=Pro…"
      ]
     },
     "metadata": {},
     "output_type": "display_data"
    },
    {
     "name": "stdout",
     "output_type": "stream",
     "text": [
      "Epoch 191: train=11.3451, val=10.8556, took 41.331 s\n",
      "  Validation Found 95424 of 108007, added 4481 (eff 88.35%) (0.224 FP/event)\n"
     ]
    },
    {
     "data": {
      "application/vnd.jupyter.widget-view+json": {
       "model_id": "",
       "version_major": 2,
       "version_minor": 0
      },
      "text/plain": [
       "HBox(children=(FloatProgress(value=0.0, description='Training', layout=Layout(flex='2'), max=1250.0, style=Pro…"
      ]
     },
     "metadata": {},
     "output_type": "display_data"
    },
    {
     "name": "stdout",
     "output_type": "stream",
     "text": [
      "Epoch 192: train=11.335, val=10.9254, took 40.46 s\n",
      "  Validation Found 95502 of 108007, added 4758 (eff 88.42%) (0.238 FP/event)\n"
     ]
    },
    {
     "data": {
      "application/vnd.jupyter.widget-view+json": {
       "model_id": "",
       "version_major": 2,
       "version_minor": 0
      },
      "text/plain": [
       "HBox(children=(FloatProgress(value=0.0, description='Training', layout=Layout(flex='2'), max=1250.0, style=Pro…"
      ]
     },
     "metadata": {},
     "output_type": "display_data"
    },
    {
     "name": "stdout",
     "output_type": "stream",
     "text": [
      "Epoch 193: train=11.3319, val=10.863, took 40.252 s\n",
      "  Validation Found 95473 of 108007, added 4641 (eff 88.40%) (0.232 FP/event)\n"
     ]
    },
    {
     "data": {
      "application/vnd.jupyter.widget-view+json": {
       "model_id": "",
       "version_major": 2,
       "version_minor": 0
      },
      "text/plain": [
       "HBox(children=(FloatProgress(value=0.0, description='Training', layout=Layout(flex='2'), max=1250.0, style=Pro…"
      ]
     },
     "metadata": {},
     "output_type": "display_data"
    },
    {
     "name": "stdout",
     "output_type": "stream",
     "text": [
      "Epoch 194: train=11.3252, val=10.8564, took 41.483 s\n",
      "  Validation Found 95415 of 108007, added 4491 (eff 88.34%) (0.225 FP/event)\n"
     ]
    },
    {
     "data": {
      "application/vnd.jupyter.widget-view+json": {
       "model_id": "",
       "version_major": 2,
       "version_minor": 0
      },
      "text/plain": [
       "HBox(children=(FloatProgress(value=0.0, description='Training', layout=Layout(flex='2'), max=1250.0, style=Pro…"
      ]
     },
     "metadata": {},
     "output_type": "display_data"
    },
    {
     "name": "stdout",
     "output_type": "stream",
     "text": [
      "Epoch 195: train=11.3135, val=10.8323, took 40.197 s\n",
      "  Validation Found 95494 of 108007, added 4636 (eff 88.41%) (0.232 FP/event)\n"
     ]
    },
    {
     "data": {
      "application/vnd.jupyter.widget-view+json": {
       "model_id": "",
       "version_major": 2,
       "version_minor": 0
      },
      "text/plain": [
       "HBox(children=(FloatProgress(value=0.0, description='Training', layout=Layout(flex='2'), max=1250.0, style=Pro…"
      ]
     },
     "metadata": {},
     "output_type": "display_data"
    },
    {
     "name": "stdout",
     "output_type": "stream",
     "text": [
      "Epoch 196: train=11.3089, val=10.8196, took 40.19 s\n",
      "  Validation Found 95417 of 108007, added 4528 (eff 88.34%) (0.226 FP/event)\n"
     ]
    },
    {
     "data": {
      "application/vnd.jupyter.widget-view+json": {
       "model_id": "",
       "version_major": 2,
       "version_minor": 0
      },
      "text/plain": [
       "HBox(children=(FloatProgress(value=0.0, description='Training', layout=Layout(flex='2'), max=1250.0, style=Pro…"
      ]
     },
     "metadata": {},
     "output_type": "display_data"
    },
    {
     "name": "stdout",
     "output_type": "stream",
     "text": [
      "Epoch 197: train=11.2981, val=10.8147, took 40.191 s\n",
      "  Validation Found 95338 of 108007, added 4346 (eff 88.27%) (0.217 FP/event)\n"
     ]
    },
    {
     "data": {
      "application/vnd.jupyter.widget-view+json": {
       "model_id": "",
       "version_major": 2,
       "version_minor": 0
      },
      "text/plain": [
       "HBox(children=(FloatProgress(value=0.0, description='Training', layout=Layout(flex='2'), max=1250.0, style=Pro…"
      ]
     },
     "metadata": {},
     "output_type": "display_data"
    },
    {
     "name": "stdout",
     "output_type": "stream",
     "text": [
      "Epoch 198: train=11.297, val=10.8122, took 40.21 s\n",
      "  Validation Found 95358 of 108007, added 4537 (eff 88.29%) (0.227 FP/event)\n"
     ]
    },
    {
     "data": {
      "application/vnd.jupyter.widget-view+json": {
       "model_id": "",
       "version_major": 2,
       "version_minor": 0
      },
      "text/plain": [
       "HBox(children=(FloatProgress(value=0.0, description='Training', layout=Layout(flex='2'), max=1250.0, style=Pro…"
      ]
     },
     "metadata": {},
     "output_type": "display_data"
    },
    {
     "name": "stdout",
     "output_type": "stream",
     "text": [
      "Epoch 199: train=11.2861, val=10.8341, took 40.22 s\n",
      "  Validation Found 95412 of 108007, added 4436 (eff 88.34%) (0.222 FP/event)\n"
     ]
    },
    {
     "data": {
      "application/vnd.jupyter.widget-view+json": {
       "model_id": "",
       "version_major": 2,
       "version_minor": 0
      },
      "text/plain": [
       "HBox(children=(FloatProgress(value=0.0, description='Training', layout=Layout(flex='2'), max=1250.0, style=Pro…"
      ]
     },
     "metadata": {},
     "output_type": "display_data"
    },
    {
     "name": "stdout",
     "output_type": "stream",
     "text": [
      "Epoch 200: train=11.2706, val=10.827, took 41.569 s\n",
      "  Validation Found 95303 of 108007, added 4537 (eff 88.24%) (0.227 FP/event)\n"
     ]
    },
    {
     "data": {
      "application/vnd.jupyter.widget-view+json": {
       "model_id": "",
       "version_major": 2,
       "version_minor": 0
      },
      "text/plain": [
       "HBox(children=(FloatProgress(value=0.0, description='Training', layout=Layout(flex='2'), max=1250.0, style=Pro…"
      ]
     },
     "metadata": {},
     "output_type": "display_data"
    },
    {
     "name": "stdout",
     "output_type": "stream",
     "text": [
      "Epoch 201: train=11.2692, val=10.8368, took 40.979 s\n",
      "  Validation Found 95305 of 108007, added 4511 (eff 88.24%) (0.226 FP/event)\n"
     ]
    },
    {
     "data": {
      "application/vnd.jupyter.widget-view+json": {
       "model_id": "",
       "version_major": 2,
       "version_minor": 0
      },
      "text/plain": [
       "HBox(children=(FloatProgress(value=0.0, description='Training', layout=Layout(flex='2'), max=1250.0, style=Pro…"
      ]
     },
     "metadata": {},
     "output_type": "display_data"
    },
    {
     "name": "stdout",
     "output_type": "stream",
     "text": [
      "Epoch 202: train=11.2624, val=10.8361, took 40.66 s\n",
      "  Validation Found 95428 of 108007, added 4546 (eff 88.35%) (0.227 FP/event)\n"
     ]
    },
    {
     "data": {
      "application/vnd.jupyter.widget-view+json": {
       "model_id": "",
       "version_major": 2,
       "version_minor": 0
      },
      "text/plain": [
       "HBox(children=(FloatProgress(value=0.0, description='Training', layout=Layout(flex='2'), max=1250.0, style=Pro…"
      ]
     },
     "metadata": {},
     "output_type": "display_data"
    },
    {
     "name": "stdout",
     "output_type": "stream",
     "text": [
      "Epoch 203: train=11.2577, val=10.8198, took 40.191 s\n",
      "  Validation Found 95531 of 108007, added 4721 (eff 88.45%) (0.236 FP/event)\n"
     ]
    },
    {
     "data": {
      "application/vnd.jupyter.widget-view+json": {
       "model_id": "",
       "version_major": 2,
       "version_minor": 0
      },
      "text/plain": [
       "HBox(children=(FloatProgress(value=0.0, description='Training', layout=Layout(flex='2'), max=1250.0, style=Pro…"
      ]
     },
     "metadata": {},
     "output_type": "display_data"
    },
    {
     "name": "stdout",
     "output_type": "stream",
     "text": [
      "Epoch 204: train=11.2533, val=10.8082, took 40.247 s\n",
      "  Validation Found 95452 of 108007, added 4697 (eff 88.38%) (0.235 FP/event)\n"
     ]
    },
    {
     "data": {
      "application/vnd.jupyter.widget-view+json": {
       "model_id": "",
       "version_major": 2,
       "version_minor": 0
      },
      "text/plain": [
       "HBox(children=(FloatProgress(value=0.0, description='Training', layout=Layout(flex='2'), max=1250.0, style=Pro…"
      ]
     },
     "metadata": {},
     "output_type": "display_data"
    },
    {
     "name": "stdout",
     "output_type": "stream",
     "text": [
      "Epoch 205: train=11.2417, val=10.8211, took 40.24 s\n",
      "  Validation Found 95403 of 108007, added 4455 (eff 88.33%) (0.223 FP/event)\n"
     ]
    },
    {
     "data": {
      "application/vnd.jupyter.widget-view+json": {
       "model_id": "",
       "version_major": 2,
       "version_minor": 0
      },
      "text/plain": [
       "HBox(children=(FloatProgress(value=0.0, description='Training', layout=Layout(flex='2'), max=1250.0, style=Pro…"
      ]
     },
     "metadata": {},
     "output_type": "display_data"
    },
    {
     "name": "stdout",
     "output_type": "stream",
     "text": [
      "Epoch 206: train=11.2344, val=10.8176, took 40.206 s\n",
      "  Validation Found 95428 of 108007, added 4524 (eff 88.35%) (0.226 FP/event)\n"
     ]
    },
    {
     "data": {
      "application/vnd.jupyter.widget-view+json": {
       "model_id": "",
       "version_major": 2,
       "version_minor": 0
      },
      "text/plain": [
       "HBox(children=(FloatProgress(value=0.0, description='Training', layout=Layout(flex='2'), max=1250.0, style=Pro…"
      ]
     },
     "metadata": {},
     "output_type": "display_data"
    },
    {
     "name": "stdout",
     "output_type": "stream",
     "text": [
      "Epoch 207: train=11.2186, val=10.8218, took 40.219 s\n",
      "  Validation Found 95416 of 108007, added 4566 (eff 88.34%) (0.228 FP/event)\n"
     ]
    },
    {
     "data": {
      "application/vnd.jupyter.widget-view+json": {
       "model_id": "",
       "version_major": 2,
       "version_minor": 0
      },
      "text/plain": [
       "HBox(children=(FloatProgress(value=0.0, description='Training', layout=Layout(flex='2'), max=1250.0, style=Pro…"
      ]
     },
     "metadata": {},
     "output_type": "display_data"
    },
    {
     "name": "stdout",
     "output_type": "stream",
     "text": [
      "Epoch 208: train=11.2159, val=10.7877, took 40.208 s\n",
      "  Validation Found 95521 of 108007, added 4693 (eff 88.44%) (0.235 FP/event)\n"
     ]
    },
    {
     "data": {
      "application/vnd.jupyter.widget-view+json": {
       "model_id": "",
       "version_major": 2,
       "version_minor": 0
      },
      "text/plain": [
       "HBox(children=(FloatProgress(value=0.0, description='Training', layout=Layout(flex='2'), max=1250.0, style=Pro…"
      ]
     },
     "metadata": {},
     "output_type": "display_data"
    },
    {
     "name": "stdout",
     "output_type": "stream",
     "text": [
      "Epoch 209: train=11.2089, val=10.8295, took 41.266 s\n",
      "  Validation Found 95589 of 108007, added 4890 (eff 88.50%) (0.244 FP/event)\n"
     ]
    },
    {
     "data": {
      "application/vnd.jupyter.widget-view+json": {
       "model_id": "",
       "version_major": 2,
       "version_minor": 0
      },
      "text/plain": [
       "HBox(children=(FloatProgress(value=0.0, description='Training', layout=Layout(flex='2'), max=1250.0, style=Pro…"
      ]
     },
     "metadata": {},
     "output_type": "display_data"
    },
    {
     "name": "stdout",
     "output_type": "stream",
     "text": [
      "Epoch 210: train=11.2077, val=10.8207, took 40.776 s\n",
      "  Validation Found 95510 of 108007, added 4525 (eff 88.43%) (0.226 FP/event)\n"
     ]
    },
    {
     "data": {
      "application/vnd.jupyter.widget-view+json": {
       "model_id": "",
       "version_major": 2,
       "version_minor": 0
      },
      "text/plain": [
       "HBox(children=(FloatProgress(value=0.0, description='Training', layout=Layout(flex='2'), max=1250.0, style=Pro…"
      ]
     },
     "metadata": {},
     "output_type": "display_data"
    },
    {
     "name": "stdout",
     "output_type": "stream",
     "text": [
      "Epoch 211: train=11.193, val=10.8306, took 41.112 s\n",
      "  Validation Found 95389 of 108007, added 4514 (eff 88.32%) (0.226 FP/event)\n"
     ]
    },
    {
     "data": {
      "application/vnd.jupyter.widget-view+json": {
       "model_id": "",
       "version_major": 2,
       "version_minor": 0
      },
      "text/plain": [
       "HBox(children=(FloatProgress(value=0.0, description='Training', layout=Layout(flex='2'), max=1250.0, style=Pro…"
      ]
     },
     "metadata": {},
     "output_type": "display_data"
    },
    {
     "name": "stdout",
     "output_type": "stream",
     "text": [
      "Epoch 212: train=11.1857, val=10.817, took 40.198 s\n",
      "  Validation Found 95405 of 108007, added 4393 (eff 88.33%) (0.22 FP/event)\n"
     ]
    },
    {
     "data": {
      "application/vnd.jupyter.widget-view+json": {
       "model_id": "",
       "version_major": 2,
       "version_minor": 0
      },
      "text/plain": [
       "HBox(children=(FloatProgress(value=0.0, description='Training', layout=Layout(flex='2'), max=1250.0, style=Pro…"
      ]
     },
     "metadata": {},
     "output_type": "display_data"
    },
    {
     "name": "stdout",
     "output_type": "stream",
     "text": [
      "Epoch 213: train=11.1834, val=10.7963, took 40.2 s\n",
      "  Validation Found 95420 of 108007, added 4602 (eff 88.35%) (0.23 FP/event)\n"
     ]
    },
    {
     "data": {
      "application/vnd.jupyter.widget-view+json": {
       "model_id": "",
       "version_major": 2,
       "version_minor": 0
      },
      "text/plain": [
       "HBox(children=(FloatProgress(value=0.0, description='Training', layout=Layout(flex='2'), max=1250.0, style=Pro…"
      ]
     },
     "metadata": {},
     "output_type": "display_data"
    },
    {
     "name": "stdout",
     "output_type": "stream",
     "text": [
      "Epoch 214: train=11.1758, val=10.8274, took 40.213 s\n",
      "  Validation Found 95545 of 108007, added 4614 (eff 88.46%) (0.231 FP/event)\n"
     ]
    },
    {
     "data": {
      "application/vnd.jupyter.widget-view+json": {
       "model_id": "",
       "version_major": 2,
       "version_minor": 0
      },
      "text/plain": [
       "HBox(children=(FloatProgress(value=0.0, description='Training', layout=Layout(flex='2'), max=1250.0, style=Pro…"
      ]
     },
     "metadata": {},
     "output_type": "display_data"
    },
    {
     "name": "stdout",
     "output_type": "stream",
     "text": [
      "Epoch 215: train=11.1656, val=10.769, took 40.188 s\n",
      "  Validation Found 95348 of 108007, added 4391 (eff 88.28%) (0.22 FP/event)\n"
     ]
    },
    {
     "data": {
      "application/vnd.jupyter.widget-view+json": {
       "model_id": "",
       "version_major": 2,
       "version_minor": 0
      },
      "text/plain": [
       "HBox(children=(FloatProgress(value=0.0, description='Training', layout=Layout(flex='2'), max=1250.0, style=Pro…"
      ]
     },
     "metadata": {},
     "output_type": "display_data"
    },
    {
     "name": "stdout",
     "output_type": "stream",
     "text": [
      "Epoch 216: train=11.1642, val=10.7677, took 40.182 s\n",
      "  Validation Found 95444 of 108007, added 4634 (eff 88.37%) (0.232 FP/event)\n"
     ]
    },
    {
     "data": {
      "application/vnd.jupyter.widget-view+json": {
       "model_id": "",
       "version_major": 2,
       "version_minor": 0
      },
      "text/plain": [
       "HBox(children=(FloatProgress(value=0.0, description='Training', layout=Layout(flex='2'), max=1250.0, style=Pro…"
      ]
     },
     "metadata": {},
     "output_type": "display_data"
    },
    {
     "name": "stdout",
     "output_type": "stream",
     "text": [
      "Epoch 217: train=11.1534, val=10.7844, took 40.197 s\n",
      "  Validation Found 95234 of 108007, added 4178 (eff 88.17%) (0.209 FP/event)\n"
     ]
    },
    {
     "data": {
      "application/vnd.jupyter.widget-view+json": {
       "model_id": "",
       "version_major": 2,
       "version_minor": 0
      },
      "text/plain": [
       "HBox(children=(FloatProgress(value=0.0, description='Training', layout=Layout(flex='2'), max=1250.0, style=Pro…"
      ]
     },
     "metadata": {},
     "output_type": "display_data"
    },
    {
     "name": "stdout",
     "output_type": "stream",
     "text": [
      "Epoch 218: train=11.1469, val=10.8206, took 40.191 s\n",
      "  Validation Found 95521 of 108007, added 4684 (eff 88.44%) (0.234 FP/event)\n"
     ]
    },
    {
     "data": {
      "application/vnd.jupyter.widget-view+json": {
       "model_id": "",
       "version_major": 2,
       "version_minor": 0
      },
      "text/plain": [
       "HBox(children=(FloatProgress(value=0.0, description='Training', layout=Layout(flex='2'), max=1250.0, style=Pro…"
      ]
     },
     "metadata": {},
     "output_type": "display_data"
    },
    {
     "name": "stdout",
     "output_type": "stream",
     "text": [
      "Epoch 219: train=11.1416, val=10.7852, took 41.544 s\n",
      "  Validation Found 95506 of 108007, added 4583 (eff 88.43%) (0.229 FP/event)\n",
      "Averaging...\n",
      "\n",
      "Average Eff:  0.8835742127825048\n",
      "Average FP Rate:  0.22557872106394683\n",
      "\n"
     ]
    },
    {
     "data": {
      "application/javascript": [
       "/* Put everything inside the global mpl namespace */\n",
       "window.mpl = {};\n",
       "\n",
       "\n",
       "mpl.get_websocket_type = function() {\n",
       "    if (typeof(WebSocket) !== 'undefined') {\n",
       "        return WebSocket;\n",
       "    } else if (typeof(MozWebSocket) !== 'undefined') {\n",
       "        return MozWebSocket;\n",
       "    } else {\n",
       "        alert('Your browser does not have WebSocket support. ' +\n",
       "              'Please try Chrome, Safari or Firefox ≥ 6. ' +\n",
       "              'Firefox 4 and 5 are also supported but you ' +\n",
       "              'have to enable WebSockets in about:config.');\n",
       "    };\n",
       "}\n",
       "\n",
       "mpl.figure = function(figure_id, websocket, ondownload, parent_element) {\n",
       "    this.id = figure_id;\n",
       "\n",
       "    this.ws = websocket;\n",
       "\n",
       "    this.supports_binary = (this.ws.binaryType != undefined);\n",
       "\n",
       "    if (!this.supports_binary) {\n",
       "        var warnings = document.getElementById(\"mpl-warnings\");\n",
       "        if (warnings) {\n",
       "            warnings.style.display = 'block';\n",
       "            warnings.textContent = (\n",
       "                \"This browser does not support binary websocket messages. \" +\n",
       "                    \"Performance may be slow.\");\n",
       "        }\n",
       "    }\n",
       "\n",
       "    this.imageObj = new Image();\n",
       "\n",
       "    this.context = undefined;\n",
       "    this.message = undefined;\n",
       "    this.canvas = undefined;\n",
       "    this.rubberband_canvas = undefined;\n",
       "    this.rubberband_context = undefined;\n",
       "    this.format_dropdown = undefined;\n",
       "\n",
       "    this.image_mode = 'full';\n",
       "\n",
       "    this.root = $('<div/>');\n",
       "    this._root_extra_style(this.root)\n",
       "    this.root.attr('style', 'display: inline-block');\n",
       "\n",
       "    $(parent_element).append(this.root);\n",
       "\n",
       "    this._init_header(this);\n",
       "    this._init_canvas(this);\n",
       "    this._init_toolbar(this);\n",
       "\n",
       "    var fig = this;\n",
       "\n",
       "    this.waiting = false;\n",
       "\n",
       "    this.ws.onopen =  function () {\n",
       "            fig.send_message(\"supports_binary\", {value: fig.supports_binary});\n",
       "            fig.send_message(\"send_image_mode\", {});\n",
       "            if (mpl.ratio != 1) {\n",
       "                fig.send_message(\"set_dpi_ratio\", {'dpi_ratio': mpl.ratio});\n",
       "            }\n",
       "            fig.send_message(\"refresh\", {});\n",
       "        }\n",
       "\n",
       "    this.imageObj.onload = function() {\n",
       "            if (fig.image_mode == 'full') {\n",
       "                // Full images could contain transparency (where diff images\n",
       "                // almost always do), so we need to clear the canvas so that\n",
       "                // there is no ghosting.\n",
       "                fig.context.clearRect(0, 0, fig.canvas.width, fig.canvas.height);\n",
       "            }\n",
       "            fig.context.drawImage(fig.imageObj, 0, 0);\n",
       "        };\n",
       "\n",
       "    this.imageObj.onunload = function() {\n",
       "        fig.ws.close();\n",
       "    }\n",
       "\n",
       "    this.ws.onmessage = this._make_on_message_function(this);\n",
       "\n",
       "    this.ondownload = ondownload;\n",
       "}\n",
       "\n",
       "mpl.figure.prototype._init_header = function() {\n",
       "    var titlebar = $(\n",
       "        '<div class=\"ui-dialog-titlebar ui-widget-header ui-corner-all ' +\n",
       "        'ui-helper-clearfix\"/>');\n",
       "    var titletext = $(\n",
       "        '<div class=\"ui-dialog-title\" style=\"width: 100%; ' +\n",
       "        'text-align: center; padding: 3px;\"/>');\n",
       "    titlebar.append(titletext)\n",
       "    this.root.append(titlebar);\n",
       "    this.header = titletext[0];\n",
       "}\n",
       "\n",
       "\n",
       "\n",
       "mpl.figure.prototype._canvas_extra_style = function(canvas_div) {\n",
       "\n",
       "}\n",
       "\n",
       "\n",
       "mpl.figure.prototype._root_extra_style = function(canvas_div) {\n",
       "\n",
       "}\n",
       "\n",
       "mpl.figure.prototype._init_canvas = function() {\n",
       "    var fig = this;\n",
       "\n",
       "    var canvas_div = $('<div/>');\n",
       "\n",
       "    canvas_div.attr('style', 'position: relative; clear: both; outline: 0');\n",
       "\n",
       "    function canvas_keyboard_event(event) {\n",
       "        return fig.key_event(event, event['data']);\n",
       "    }\n",
       "\n",
       "    canvas_div.keydown('key_press', canvas_keyboard_event);\n",
       "    canvas_div.keyup('key_release', canvas_keyboard_event);\n",
       "    this.canvas_div = canvas_div\n",
       "    this._canvas_extra_style(canvas_div)\n",
       "    this.root.append(canvas_div);\n",
       "\n",
       "    var canvas = $('<canvas/>');\n",
       "    canvas.addClass('mpl-canvas');\n",
       "    canvas.attr('style', \"left: 0; top: 0; z-index: 0; outline: 0\")\n",
       "\n",
       "    this.canvas = canvas[0];\n",
       "    this.context = canvas[0].getContext(\"2d\");\n",
       "\n",
       "    var backingStore = this.context.backingStorePixelRatio ||\n",
       "\tthis.context.webkitBackingStorePixelRatio ||\n",
       "\tthis.context.mozBackingStorePixelRatio ||\n",
       "\tthis.context.msBackingStorePixelRatio ||\n",
       "\tthis.context.oBackingStorePixelRatio ||\n",
       "\tthis.context.backingStorePixelRatio || 1;\n",
       "\n",
       "    mpl.ratio = (window.devicePixelRatio || 1) / backingStore;\n",
       "\n",
       "    var rubberband = $('<canvas/>');\n",
       "    rubberband.attr('style', \"position: absolute; left: 0; top: 0; z-index: 1;\")\n",
       "\n",
       "    var pass_mouse_events = true;\n",
       "\n",
       "    canvas_div.resizable({\n",
       "        start: function(event, ui) {\n",
       "            pass_mouse_events = false;\n",
       "        },\n",
       "        resize: function(event, ui) {\n",
       "            fig.request_resize(ui.size.width, ui.size.height);\n",
       "        },\n",
       "        stop: function(event, ui) {\n",
       "            pass_mouse_events = true;\n",
       "            fig.request_resize(ui.size.width, ui.size.height);\n",
       "        },\n",
       "    });\n",
       "\n",
       "    function mouse_event_fn(event) {\n",
       "        if (pass_mouse_events)\n",
       "            return fig.mouse_event(event, event['data']);\n",
       "    }\n",
       "\n",
       "    rubberband.mousedown('button_press', mouse_event_fn);\n",
       "    rubberband.mouseup('button_release', mouse_event_fn);\n",
       "    // Throttle sequential mouse events to 1 every 20ms.\n",
       "    rubberband.mousemove('motion_notify', mouse_event_fn);\n",
       "\n",
       "    rubberband.mouseenter('figure_enter', mouse_event_fn);\n",
       "    rubberband.mouseleave('figure_leave', mouse_event_fn);\n",
       "\n",
       "    canvas_div.on(\"wheel\", function (event) {\n",
       "        event = event.originalEvent;\n",
       "        event['data'] = 'scroll'\n",
       "        if (event.deltaY < 0) {\n",
       "            event.step = 1;\n",
       "        } else {\n",
       "            event.step = -1;\n",
       "        }\n",
       "        mouse_event_fn(event);\n",
       "    });\n",
       "\n",
       "    canvas_div.append(canvas);\n",
       "    canvas_div.append(rubberband);\n",
       "\n",
       "    this.rubberband = rubberband;\n",
       "    this.rubberband_canvas = rubberband[0];\n",
       "    this.rubberband_context = rubberband[0].getContext(\"2d\");\n",
       "    this.rubberband_context.strokeStyle = \"#000000\";\n",
       "\n",
       "    this._resize_canvas = function(width, height) {\n",
       "        // Keep the size of the canvas, canvas container, and rubber band\n",
       "        // canvas in synch.\n",
       "        canvas_div.css('width', width)\n",
       "        canvas_div.css('height', height)\n",
       "\n",
       "        canvas.attr('width', width * mpl.ratio);\n",
       "        canvas.attr('height', height * mpl.ratio);\n",
       "        canvas.attr('style', 'width: ' + width + 'px; height: ' + height + 'px;');\n",
       "\n",
       "        rubberband.attr('width', width);\n",
       "        rubberband.attr('height', height);\n",
       "    }\n",
       "\n",
       "    // Set the figure to an initial 600x600px, this will subsequently be updated\n",
       "    // upon first draw.\n",
       "    this._resize_canvas(600, 600);\n",
       "\n",
       "    // Disable right mouse context menu.\n",
       "    $(this.rubberband_canvas).bind(\"contextmenu\",function(e){\n",
       "        return false;\n",
       "    });\n",
       "\n",
       "    function set_focus () {\n",
       "        canvas.focus();\n",
       "        canvas_div.focus();\n",
       "    }\n",
       "\n",
       "    window.setTimeout(set_focus, 100);\n",
       "}\n",
       "\n",
       "mpl.figure.prototype._init_toolbar = function() {\n",
       "    var fig = this;\n",
       "\n",
       "    var nav_element = $('<div/>');\n",
       "    nav_element.attr('style', 'width: 100%');\n",
       "    this.root.append(nav_element);\n",
       "\n",
       "    // Define a callback function for later on.\n",
       "    function toolbar_event(event) {\n",
       "        return fig.toolbar_button_onclick(event['data']);\n",
       "    }\n",
       "    function toolbar_mouse_event(event) {\n",
       "        return fig.toolbar_button_onmouseover(event['data']);\n",
       "    }\n",
       "\n",
       "    for(var toolbar_ind in mpl.toolbar_items) {\n",
       "        var name = mpl.toolbar_items[toolbar_ind][0];\n",
       "        var tooltip = mpl.toolbar_items[toolbar_ind][1];\n",
       "        var image = mpl.toolbar_items[toolbar_ind][2];\n",
       "        var method_name = mpl.toolbar_items[toolbar_ind][3];\n",
       "\n",
       "        if (!name) {\n",
       "            // put a spacer in here.\n",
       "            continue;\n",
       "        }\n",
       "        var button = $('<button/>');\n",
       "        button.addClass('ui-button ui-widget ui-state-default ui-corner-all ' +\n",
       "                        'ui-button-icon-only');\n",
       "        button.attr('role', 'button');\n",
       "        button.attr('aria-disabled', 'false');\n",
       "        button.click(method_name, toolbar_event);\n",
       "        button.mouseover(tooltip, toolbar_mouse_event);\n",
       "\n",
       "        var icon_img = $('<span/>');\n",
       "        icon_img.addClass('ui-button-icon-primary ui-icon');\n",
       "        icon_img.addClass(image);\n",
       "        icon_img.addClass('ui-corner-all');\n",
       "\n",
       "        var tooltip_span = $('<span/>');\n",
       "        tooltip_span.addClass('ui-button-text');\n",
       "        tooltip_span.html(tooltip);\n",
       "\n",
       "        button.append(icon_img);\n",
       "        button.append(tooltip_span);\n",
       "\n",
       "        nav_element.append(button);\n",
       "    }\n",
       "\n",
       "    var fmt_picker_span = $('<span/>');\n",
       "\n",
       "    var fmt_picker = $('<select/>');\n",
       "    fmt_picker.addClass('mpl-toolbar-option ui-widget ui-widget-content');\n",
       "    fmt_picker_span.append(fmt_picker);\n",
       "    nav_element.append(fmt_picker_span);\n",
       "    this.format_dropdown = fmt_picker[0];\n",
       "\n",
       "    for (var ind in mpl.extensions) {\n",
       "        var fmt = mpl.extensions[ind];\n",
       "        var option = $(\n",
       "            '<option/>', {selected: fmt === mpl.default_extension}).html(fmt);\n",
       "        fmt_picker.append(option);\n",
       "    }\n",
       "\n",
       "    // Add hover states to the ui-buttons\n",
       "    $( \".ui-button\" ).hover(\n",
       "        function() { $(this).addClass(\"ui-state-hover\");},\n",
       "        function() { $(this).removeClass(\"ui-state-hover\");}\n",
       "    );\n",
       "\n",
       "    var status_bar = $('<span class=\"mpl-message\"/>');\n",
       "    nav_element.append(status_bar);\n",
       "    this.message = status_bar[0];\n",
       "}\n",
       "\n",
       "mpl.figure.prototype.request_resize = function(x_pixels, y_pixels) {\n",
       "    // Request matplotlib to resize the figure. Matplotlib will then trigger a resize in the client,\n",
       "    // which will in turn request a refresh of the image.\n",
       "    this.send_message('resize', {'width': x_pixels, 'height': y_pixels});\n",
       "}\n",
       "\n",
       "mpl.figure.prototype.send_message = function(type, properties) {\n",
       "    properties['type'] = type;\n",
       "    properties['figure_id'] = this.id;\n",
       "    this.ws.send(JSON.stringify(properties));\n",
       "}\n",
       "\n",
       "mpl.figure.prototype.send_draw_message = function() {\n",
       "    if (!this.waiting) {\n",
       "        this.waiting = true;\n",
       "        this.ws.send(JSON.stringify({type: \"draw\", figure_id: this.id}));\n",
       "    }\n",
       "}\n",
       "\n",
       "\n",
       "mpl.figure.prototype.handle_save = function(fig, msg) {\n",
       "    var format_dropdown = fig.format_dropdown;\n",
       "    var format = format_dropdown.options[format_dropdown.selectedIndex].value;\n",
       "    fig.ondownload(fig, format);\n",
       "}\n",
       "\n",
       "\n",
       "mpl.figure.prototype.handle_resize = function(fig, msg) {\n",
       "    var size = msg['size'];\n",
       "    if (size[0] != fig.canvas.width || size[1] != fig.canvas.height) {\n",
       "        fig._resize_canvas(size[0], size[1]);\n",
       "        fig.send_message(\"refresh\", {});\n",
       "    };\n",
       "}\n",
       "\n",
       "mpl.figure.prototype.handle_rubberband = function(fig, msg) {\n",
       "    var x0 = msg['x0'] / mpl.ratio;\n",
       "    var y0 = (fig.canvas.height - msg['y0']) / mpl.ratio;\n",
       "    var x1 = msg['x1'] / mpl.ratio;\n",
       "    var y1 = (fig.canvas.height - msg['y1']) / mpl.ratio;\n",
       "    x0 = Math.floor(x0) + 0.5;\n",
       "    y0 = Math.floor(y0) + 0.5;\n",
       "    x1 = Math.floor(x1) + 0.5;\n",
       "    y1 = Math.floor(y1) + 0.5;\n",
       "    var min_x = Math.min(x0, x1);\n",
       "    var min_y = Math.min(y0, y1);\n",
       "    var width = Math.abs(x1 - x0);\n",
       "    var height = Math.abs(y1 - y0);\n",
       "\n",
       "    fig.rubberband_context.clearRect(\n",
       "        0, 0, fig.canvas.width / mpl.ratio, fig.canvas.height / mpl.ratio);\n",
       "\n",
       "    fig.rubberband_context.strokeRect(min_x, min_y, width, height);\n",
       "}\n",
       "\n",
       "mpl.figure.prototype.handle_figure_label = function(fig, msg) {\n",
       "    // Updates the figure title.\n",
       "    fig.header.textContent = msg['label'];\n",
       "}\n",
       "\n",
       "mpl.figure.prototype.handle_cursor = function(fig, msg) {\n",
       "    var cursor = msg['cursor'];\n",
       "    switch(cursor)\n",
       "    {\n",
       "    case 0:\n",
       "        cursor = 'pointer';\n",
       "        break;\n",
       "    case 1:\n",
       "        cursor = 'default';\n",
       "        break;\n",
       "    case 2:\n",
       "        cursor = 'crosshair';\n",
       "        break;\n",
       "    case 3:\n",
       "        cursor = 'move';\n",
       "        break;\n",
       "    }\n",
       "    fig.rubberband_canvas.style.cursor = cursor;\n",
       "}\n",
       "\n",
       "mpl.figure.prototype.handle_message = function(fig, msg) {\n",
       "    fig.message.textContent = msg['message'];\n",
       "}\n",
       "\n",
       "mpl.figure.prototype.handle_draw = function(fig, msg) {\n",
       "    // Request the server to send over a new figure.\n",
       "    fig.send_draw_message();\n",
       "}\n",
       "\n",
       "mpl.figure.prototype.handle_image_mode = function(fig, msg) {\n",
       "    fig.image_mode = msg['mode'];\n",
       "}\n",
       "\n",
       "mpl.figure.prototype.updated_canvas_event = function() {\n",
       "    // Called whenever the canvas gets updated.\n",
       "    this.send_message(\"ack\", {});\n",
       "}\n",
       "\n",
       "// A function to construct a web socket function for onmessage handling.\n",
       "// Called in the figure constructor.\n",
       "mpl.figure.prototype._make_on_message_function = function(fig) {\n",
       "    return function socket_on_message(evt) {\n",
       "        if (evt.data instanceof Blob) {\n",
       "            /* FIXME: We get \"Resource interpreted as Image but\n",
       "             * transferred with MIME type text/plain:\" errors on\n",
       "             * Chrome.  But how to set the MIME type?  It doesn't seem\n",
       "             * to be part of the websocket stream */\n",
       "            evt.data.type = \"image/png\";\n",
       "\n",
       "            /* Free the memory for the previous frames */\n",
       "            if (fig.imageObj.src) {\n",
       "                (window.URL || window.webkitURL).revokeObjectURL(\n",
       "                    fig.imageObj.src);\n",
       "            }\n",
       "\n",
       "            fig.imageObj.src = (window.URL || window.webkitURL).createObjectURL(\n",
       "                evt.data);\n",
       "            fig.updated_canvas_event();\n",
       "            fig.waiting = false;\n",
       "            return;\n",
       "        }\n",
       "        else if (typeof evt.data === 'string' && evt.data.slice(0, 21) == \"data:image/png;base64\") {\n",
       "            fig.imageObj.src = evt.data;\n",
       "            fig.updated_canvas_event();\n",
       "            fig.waiting = false;\n",
       "            return;\n",
       "        }\n",
       "\n",
       "        var msg = JSON.parse(evt.data);\n",
       "        var msg_type = msg['type'];\n",
       "\n",
       "        // Call the  \"handle_{type}\" callback, which takes\n",
       "        // the figure and JSON message as its only arguments.\n",
       "        try {\n",
       "            var callback = fig[\"handle_\" + msg_type];\n",
       "        } catch (e) {\n",
       "            console.log(\"No handler for the '\" + msg_type + \"' message type: \", msg);\n",
       "            return;\n",
       "        }\n",
       "\n",
       "        if (callback) {\n",
       "            try {\n",
       "                // console.log(\"Handling '\" + msg_type + \"' message: \", msg);\n",
       "                callback(fig, msg);\n",
       "            } catch (e) {\n",
       "                console.log(\"Exception inside the 'handler_\" + msg_type + \"' callback:\", e, e.stack, msg);\n",
       "            }\n",
       "        }\n",
       "    };\n",
       "}\n",
       "\n",
       "// from http://stackoverflow.com/questions/1114465/getting-mouse-location-in-canvas\n",
       "mpl.findpos = function(e) {\n",
       "    //this section is from http://www.quirksmode.org/js/events_properties.html\n",
       "    var targ;\n",
       "    if (!e)\n",
       "        e = window.event;\n",
       "    if (e.target)\n",
       "        targ = e.target;\n",
       "    else if (e.srcElement)\n",
       "        targ = e.srcElement;\n",
       "    if (targ.nodeType == 3) // defeat Safari bug\n",
       "        targ = targ.parentNode;\n",
       "\n",
       "    // jQuery normalizes the pageX and pageY\n",
       "    // pageX,Y are the mouse positions relative to the document\n",
       "    // offset() returns the position of the element relative to the document\n",
       "    var x = e.pageX - $(targ).offset().left;\n",
       "    var y = e.pageY - $(targ).offset().top;\n",
       "\n",
       "    return {\"x\": x, \"y\": y};\n",
       "};\n",
       "\n",
       "/*\n",
       " * return a copy of an object with only non-object keys\n",
       " * we need this to avoid circular references\n",
       " * http://stackoverflow.com/a/24161582/3208463\n",
       " */\n",
       "function simpleKeys (original) {\n",
       "  return Object.keys(original).reduce(function (obj, key) {\n",
       "    if (typeof original[key] !== 'object')\n",
       "        obj[key] = original[key]\n",
       "    return obj;\n",
       "  }, {});\n",
       "}\n",
       "\n",
       "mpl.figure.prototype.mouse_event = function(event, name) {\n",
       "    var canvas_pos = mpl.findpos(event)\n",
       "\n",
       "    if (name === 'button_press')\n",
       "    {\n",
       "        this.canvas.focus();\n",
       "        this.canvas_div.focus();\n",
       "    }\n",
       "\n",
       "    var x = canvas_pos.x * mpl.ratio;\n",
       "    var y = canvas_pos.y * mpl.ratio;\n",
       "\n",
       "    this.send_message(name, {x: x, y: y, button: event.button,\n",
       "                             step: event.step,\n",
       "                             guiEvent: simpleKeys(event)});\n",
       "\n",
       "    /* This prevents the web browser from automatically changing to\n",
       "     * the text insertion cursor when the button is pressed.  We want\n",
       "     * to control all of the cursor setting manually through the\n",
       "     * 'cursor' event from matplotlib */\n",
       "    event.preventDefault();\n",
       "    return false;\n",
       "}\n",
       "\n",
       "mpl.figure.prototype._key_event_extra = function(event, name) {\n",
       "    // Handle any extra behaviour associated with a key event\n",
       "}\n",
       "\n",
       "mpl.figure.prototype.key_event = function(event, name) {\n",
       "\n",
       "    // Prevent repeat events\n",
       "    if (name == 'key_press')\n",
       "    {\n",
       "        if (event.which === this._key)\n",
       "            return;\n",
       "        else\n",
       "            this._key = event.which;\n",
       "    }\n",
       "    if (name == 'key_release')\n",
       "        this._key = null;\n",
       "\n",
       "    var value = '';\n",
       "    if (event.ctrlKey && event.which != 17)\n",
       "        value += \"ctrl+\";\n",
       "    if (event.altKey && event.which != 18)\n",
       "        value += \"alt+\";\n",
       "    if (event.shiftKey && event.which != 16)\n",
       "        value += \"shift+\";\n",
       "\n",
       "    value += 'k';\n",
       "    value += event.which.toString();\n",
       "\n",
       "    this._key_event_extra(event, name);\n",
       "\n",
       "    this.send_message(name, {key: value,\n",
       "                             guiEvent: simpleKeys(event)});\n",
       "    return false;\n",
       "}\n",
       "\n",
       "mpl.figure.prototype.toolbar_button_onclick = function(name) {\n",
       "    if (name == 'download') {\n",
       "        this.handle_save(this, null);\n",
       "    } else {\n",
       "        this.send_message(\"toolbar_button\", {name: name});\n",
       "    }\n",
       "};\n",
       "\n",
       "mpl.figure.prototype.toolbar_button_onmouseover = function(tooltip) {\n",
       "    this.message.textContent = tooltip;\n",
       "};\n",
       "mpl.toolbar_items = [[\"Home\", \"Reset original view\", \"fa fa-home icon-home\", \"home\"], [\"Back\", \"Back to previous view\", \"fa fa-arrow-left icon-arrow-left\", \"back\"], [\"Forward\", \"Forward to next view\", \"fa fa-arrow-right icon-arrow-right\", \"forward\"], [\"\", \"\", \"\", \"\"], [\"Pan\", \"Pan axes with left mouse, zoom with right\", \"fa fa-arrows icon-move\", \"pan\"], [\"Zoom\", \"Zoom to rectangle\", \"fa fa-square-o icon-check-empty\", \"zoom\"], [\"\", \"\", \"\", \"\"], [\"Download\", \"Download plot\", \"fa fa-floppy-o icon-save\", \"download\"]];\n",
       "\n",
       "mpl.extensions = [\"eps\", \"jpeg\", \"pdf\", \"png\", \"ps\", \"raw\", \"svg\", \"tif\"];\n",
       "\n",
       "mpl.default_extension = \"png\";var comm_websocket_adapter = function(comm) {\n",
       "    // Create a \"websocket\"-like object which calls the given IPython comm\n",
       "    // object with the appropriate methods. Currently this is a non binary\n",
       "    // socket, so there is still some room for performance tuning.\n",
       "    var ws = {};\n",
       "\n",
       "    ws.close = function() {\n",
       "        comm.close()\n",
       "    };\n",
       "    ws.send = function(m) {\n",
       "        //console.log('sending', m);\n",
       "        comm.send(m);\n",
       "    };\n",
       "    // Register the callback with on_msg.\n",
       "    comm.on_msg(function(msg) {\n",
       "        //console.log('receiving', msg['content']['data'], msg);\n",
       "        // Pass the mpl event to the overridden (by mpl) onmessage function.\n",
       "        ws.onmessage(msg['content']['data'])\n",
       "    });\n",
       "    return ws;\n",
       "}\n",
       "\n",
       "mpl.mpl_figure_comm = function(comm, msg) {\n",
       "    // This is the function which gets called when the mpl process\n",
       "    // starts-up an IPython Comm through the \"matplotlib\" channel.\n",
       "\n",
       "    var id = msg.content.data.id;\n",
       "    // Get hold of the div created by the display call when the Comm\n",
       "    // socket was opened in Python.\n",
       "    var element = $(\"#\" + id);\n",
       "    var ws_proxy = comm_websocket_adapter(comm)\n",
       "\n",
       "    function ondownload(figure, format) {\n",
       "        window.open(figure.imageObj.src);\n",
       "    }\n",
       "\n",
       "    var fig = new mpl.figure(id, ws_proxy,\n",
       "                           ondownload,\n",
       "                           element.get(0));\n",
       "\n",
       "    // Call onopen now - mpl needs it, as it is assuming we've passed it a real\n",
       "    // web socket which is closed, not our websocket->open comm proxy.\n",
       "    ws_proxy.onopen();\n",
       "\n",
       "    fig.parent_element = element.get(0);\n",
       "    fig.cell_info = mpl.find_output_cell(\"<div id='\" + id + \"'></div>\");\n",
       "    if (!fig.cell_info) {\n",
       "        console.error(\"Failed to find cell for figure\", id, fig);\n",
       "        return;\n",
       "    }\n",
       "\n",
       "    var output_index = fig.cell_info[2]\n",
       "    var cell = fig.cell_info[0];\n",
       "\n",
       "};\n",
       "\n",
       "mpl.figure.prototype.handle_close = function(fig, msg) {\n",
       "    var width = fig.canvas.width/mpl.ratio\n",
       "    fig.root.unbind('remove')\n",
       "\n",
       "    // Update the output cell to use the data from the current canvas.\n",
       "    fig.push_to_output();\n",
       "    var dataURL = fig.canvas.toDataURL();\n",
       "    // Re-enable the keyboard manager in IPython - without this line, in FF,\n",
       "    // the notebook keyboard shortcuts fail.\n",
       "    IPython.keyboard_manager.enable()\n",
       "    $(fig.parent_element).html('<img src=\"' + dataURL + '\" width=\"' + width + '\">');\n",
       "    fig.close_ws(fig, msg);\n",
       "}\n",
       "\n",
       "mpl.figure.prototype.close_ws = function(fig, msg){\n",
       "    fig.send_message('closing', msg);\n",
       "    // fig.ws.close()\n",
       "}\n",
       "\n",
       "mpl.figure.prototype.push_to_output = function(remove_interactive) {\n",
       "    // Turn the data on the canvas into data in the output cell.\n",
       "    var width = this.canvas.width/mpl.ratio\n",
       "    var dataURL = this.canvas.toDataURL();\n",
       "    this.cell_info[1]['text/html'] = '<img src=\"' + dataURL + '\" width=\"' + width + '\">';\n",
       "}\n",
       "\n",
       "mpl.figure.prototype.updated_canvas_event = function() {\n",
       "    // Tell IPython that the notebook contents must change.\n",
       "    IPython.notebook.set_dirty(true);\n",
       "    this.send_message(\"ack\", {});\n",
       "    var fig = this;\n",
       "    // Wait a second, then push the new image to the DOM so\n",
       "    // that it is saved nicely (might be nice to debounce this).\n",
       "    setTimeout(function () { fig.push_to_output() }, 1000);\n",
       "}\n",
       "\n",
       "mpl.figure.prototype._init_toolbar = function() {\n",
       "    var fig = this;\n",
       "\n",
       "    var nav_element = $('<div/>');\n",
       "    nav_element.attr('style', 'width: 100%');\n",
       "    this.root.append(nav_element);\n",
       "\n",
       "    // Define a callback function for later on.\n",
       "    function toolbar_event(event) {\n",
       "        return fig.toolbar_button_onclick(event['data']);\n",
       "    }\n",
       "    function toolbar_mouse_event(event) {\n",
       "        return fig.toolbar_button_onmouseover(event['data']);\n",
       "    }\n",
       "\n",
       "    for(var toolbar_ind in mpl.toolbar_items){\n",
       "        var name = mpl.toolbar_items[toolbar_ind][0];\n",
       "        var tooltip = mpl.toolbar_items[toolbar_ind][1];\n",
       "        var image = mpl.toolbar_items[toolbar_ind][2];\n",
       "        var method_name = mpl.toolbar_items[toolbar_ind][3];\n",
       "\n",
       "        if (!name) { continue; };\n",
       "\n",
       "        var button = $('<button class=\"btn btn-default\" href=\"#\" title=\"' + name + '\"><i class=\"fa ' + image + ' fa-lg\"></i></button>');\n",
       "        button.click(method_name, toolbar_event);\n",
       "        button.mouseover(tooltip, toolbar_mouse_event);\n",
       "        nav_element.append(button);\n",
       "    }\n",
       "\n",
       "    // Add the status bar.\n",
       "    var status_bar = $('<span class=\"mpl-message\" style=\"text-align:right; float: right;\"/>');\n",
       "    nav_element.append(status_bar);\n",
       "    this.message = status_bar[0];\n",
       "\n",
       "    // Add the close button to the window.\n",
       "    var buttongrp = $('<div class=\"btn-group inline pull-right\"></div>');\n",
       "    var button = $('<button class=\"btn btn-mini btn-primary\" href=\"#\" title=\"Stop Interaction\"><i class=\"fa fa-power-off icon-remove icon-large\"></i></button>');\n",
       "    button.click(function (evt) { fig.handle_close(fig, {}); } );\n",
       "    button.mouseover('Stop Interaction', toolbar_mouse_event);\n",
       "    buttongrp.append(button);\n",
       "    var titlebar = this.root.find($('.ui-dialog-titlebar'));\n",
       "    titlebar.prepend(buttongrp);\n",
       "}\n",
       "\n",
       "mpl.figure.prototype._root_extra_style = function(el){\n",
       "    var fig = this\n",
       "    el.on(\"remove\", function(){\n",
       "\tfig.close_ws(fig, {});\n",
       "    });\n",
       "}\n",
       "\n",
       "mpl.figure.prototype._canvas_extra_style = function(el){\n",
       "    // this is important to make the div 'focusable\n",
       "    el.attr('tabindex', 0)\n",
       "    // reach out to IPython and tell the keyboard manager to turn it's self\n",
       "    // off when our div gets focus\n",
       "\n",
       "    // location in version 3\n",
       "    if (IPython.notebook.keyboard_manager) {\n",
       "        IPython.notebook.keyboard_manager.register_events(el);\n",
       "    }\n",
       "    else {\n",
       "        // location in version 2\n",
       "        IPython.keyboard_manager.register_events(el);\n",
       "    }\n",
       "\n",
       "}\n",
       "\n",
       "mpl.figure.prototype._key_event_extra = function(event, name) {\n",
       "    var manager = IPython.notebook.keyboard_manager;\n",
       "    if (!manager)\n",
       "        manager = IPython.keyboard_manager;\n",
       "\n",
       "    // Check for shift+enter\n",
       "    if (event.shiftKey && event.which == 13) {\n",
       "        this.canvas_div.blur();\n",
       "        // select the cell after this one\n",
       "        var index = IPython.notebook.find_cell_index(this.cell_info[0]);\n",
       "        IPython.notebook.select(index + 1);\n",
       "    }\n",
       "}\n",
       "\n",
       "mpl.figure.prototype.handle_save = function(fig, msg) {\n",
       "    fig.ondownload(fig, null);\n",
       "}\n",
       "\n",
       "\n",
       "mpl.find_output_cell = function(html_output) {\n",
       "    // Return the cell and output element which can be found *uniquely* in the notebook.\n",
       "    // Note - this is a bit hacky, but it is done because the \"notebook_saving.Notebook\"\n",
       "    // IPython event is triggered only after the cells have been serialised, which for\n",
       "    // our purposes (turning an active figure into a static one), is too late.\n",
       "    var cells = IPython.notebook.get_cells();\n",
       "    var ncells = cells.length;\n",
       "    for (var i=0; i<ncells; i++) {\n",
       "        var cell = cells[i];\n",
       "        if (cell.cell_type === 'code'){\n",
       "            for (var j=0; j<cell.output_area.outputs.length; j++) {\n",
       "                var data = cell.output_area.outputs[j];\n",
       "                if (data.data) {\n",
       "                    // IPython >= 3 moved mimebundle to data attribute of output\n",
       "                    data = data.data;\n",
       "                }\n",
       "                if (data['text/html'] == html_output) {\n",
       "                    return [cell, data, j];\n",
       "                }\n",
       "            }\n",
       "        }\n",
       "    }\n",
       "}\n",
       "\n",
       "// Register the function which deals with the matplotlib target/channel.\n",
       "// The kernel may be null if the page has been refreshed.\n",
       "if (IPython.notebook.kernel != null) {\n",
       "    IPython.notebook.kernel.comm_manager.register_target('matplotlib', mpl.mpl_figure_comm);\n",
       "}\n"
      ],
      "text/plain": [
       "<IPython.core.display.Javascript object>"
      ]
     },
     "metadata": {},
     "output_type": "display_data"
    },
    {
     "data": {
      "text/html": [
       "<img src=\"data:image/png;base64,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\" width=\"1000\">"
      ],
      "text/plain": [
       "<IPython.core.display.HTML object>"
      ]
     },
     "metadata": {},
     "output_type": "display_data"
    }
   ],
   "source": [
    "avgEff = 0.0\n",
    "avgFP = 0.0\n",
    "print('for model: ', model)   \n",
    "run_name = 'ACN_1_10L_4S (P2)'\n",
    "# Create an mlflow run\n",
    "with mlflow.start_run(run_name=run_name) as run:\n",
    "    # Log parameters of the model\n",
    "    for key, value in vars(args).items():\n",
    "        print(key, value)\n",
    "        mlflow.log_param(key, value)\n",
    "    \n",
    "    # Log parameter count in the model\n",
    "    mlflow.log_param('Parameters', count_parameters(model))\n",
    "    \n",
    "    # Begin run\n",
    "    for result in trainNet(model, optimizer, loss,\n",
    "                            train_loader, val_loader,\n",
    "                            args.epochs+args.epoch_start, epoch_start=args.epoch_start,\n",
    "                            notebook=True, device=device):\n",
    "\n",
    "        result = result._asdict()\n",
    "        results = results.append(pd.Series(result), ignore_index=True)\n",
    "        xs = results.index\n",
    "\n",
    "        # Update the plot above\n",
    "        lines['train'].set_data(results.index, results.cost)\n",
    "        lines['val'].set_data(results.index, results.val)\n",
    "\n",
    "        #filter first cost epoch (can be really large)\n",
    "        max_cost = max(max(results.cost if len(results.cost)<2 else results.cost[1:]), max(results.val))\n",
    "        min_cost = min(min(results.cost), min(results.val))\n",
    "    \n",
    "        # The plot limits need updating too\n",
    "        ax.set_ylim(min_cost*.9, max_cost*1.1)  \n",
    "        ax.set_xlim(-.5, len(results.cost) - .5)\n",
    "    \n",
    "        replace_in_ax(lax, lines['eff'], xs, results['eff_val'].apply(lambda x: x.eff_rate))\n",
    "        replace_in_ax(tax, lines['fp'], xs, results['eff_val'].apply(lambda x: x.fp_rate))            \n",
    "            \n",
    "        # Redraw the figure\n",
    "        fig.canvas.draw()\n",
    "            \n",
    "        ## MLFLOW ##\n",
    "        # Log metrics\n",
    "        mlflow.log_metric('Efficiency', result['eff_val'].eff_rate, result['epoch'])\n",
    "        mlflow.log_metric('False Positive Rate',  result['eff_val'].fp_rate, result['epoch'])\n",
    "        mlflow.log_metric('Validation Loss',  result['val'], result['epoch'])\n",
    "        mlflow.log_metric('Training Loss',  result['cost'], result['epoch'])\n",
    "        \n",
    "        if(result['epoch'] >= args.epochs + args.epoch_start - 10):\n",
    "            avgEff += result['eff_val'].eff_rate\n",
    "            avgFP += result['eff_val'].fp_rate\n",
    "           \n",
    "        if(result['epoch'] == args.epochs + args.epoch_start - 1):\n",
    "            print('Averaging...\\n')\n",
    "            avgEff /= 10\n",
    "            avgFP /= 10\n",
    "            mlflow.log_metric('10 Efficiency Average', avgEff)\n",
    "            mlflow.log_metric('10 False Positive Average', avgFP)\n",
    "            print('Average Eff: ', avgEff)\n",
    "            print('Average FP Rate: ', avgFP)\n",
    "            \n",
    "        \n",
    "        # Log tags\n",
    "#        mlflow.set_tag('Optimizer', 'Adam')\n",
    "#        mlflow.set_tag('Kernel size', 'Mixed')\n",
    "#        mlflow.set_tag('Skip connections', '4')\n",
    "#        mlflow.set_tag('Activation', 'Softplus')\n",
    "#        mlflow.set_tag('Mid Activation', 'Relu')\n",
    "        mlflow.set_tag('Asymmetry', '2.5')\n",
    "        mlflow.set_tag('KDE', 'Poca')\n",
    "\n",
    "        # Save model state dictionary, optimizer state dictionary, and epoch number\n",
    "        torch.save({\n",
    "            'model':model.state_dict(),\n",
    "            'optimizer':optimizer.state_dict(),\n",
    "            'epoch':args.epochs+result['epoch']\n",
    "            }, 'run_stats.pyt')\n",
    "        # Save the run stats into mlflow\n",
    "        mlflow.log_artifact('run_stats.pyt')\n",
    "        \n",
    "    dual_train_plots(results.index,\n",
    "                 results.cost, results.val, \n",
    "                 results['eff_val'].apply(lambda x: x.eff_rate),\n",
    "                 results['eff_val'].apply(lambda x: x.fp_rate))\n",
    "    plt.tight_layout()\n",
    "    # save plot\n",
    "    plt.savefig('plot.png')  \n",
    "    mlflow.log_artifact('plot.png')"
   ]
  },
  {
   "cell_type": "code",
   "execution_count": 13,
   "metadata": {},
   "outputs": [
    {
     "name": "stderr",
     "output_type": "stream",
     "text": [
      "/data/conda/envs/goofit-june2020/lib/python3.7/site-packages/ipykernel/ipkernel.py:287: DeprecationWarning: `should_run_async` will not call `transform_cell` automatically in the future. Please pass the result to `transformed_cell` argument and any exception that happen during thetransform in `preprocessing_exc_tuple` in IPython 7.17 and above.\n",
      "  and should_run_async(code)\n"
     ]
    }
   ],
   "source": [
    "##quit()"
   ]
  }
 ],
 "metadata": {
  "celltoolbar": "Raw Cell Format",
  "kernelspec": {
   "display_name": "goofit-june2020",
   "language": "python",
   "name": "goofit-june2020"
  },
  "language_info": {
   "codemirror_mode": {
    "name": "ipython",
    "version": 3
   },
   "file_extension": ".py",
   "mimetype": "text/x-python",
   "name": "python",
   "nbconvert_exporter": "python",
   "pygments_lexer": "ipython3",
   "version": "3.7.6"
  }
 },
 "nbformat": 4,
 "nbformat_minor": 2
}
