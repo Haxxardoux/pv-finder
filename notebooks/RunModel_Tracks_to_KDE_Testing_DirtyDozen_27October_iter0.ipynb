{
 "cells": [
  {
   "cell_type": "code",
   "execution_count": 1,
   "metadata": {},
   "outputs": [],
   "source": [
    "##%matplotlib widget\n",
    "## with %matplotlib notebook: seems to require ipympl as part of environment, either\n",
    "## part of the conda environment or \"pip install ipympl\"\n",
    "## otherwise, does not show ANY plots in note\"book, plt.savefig() works\n",
    "%matplotlib notebook  \n",
    "##%matplotlib inline    ## --plt.savefig()  works, but re-sizing does NOT\n"
   ]
  },
  {
   "cell_type": "markdown",
   "metadata": {},
   "source": [
    "This notebook is the second (perhaps third) attempt to read in track information and use it to predict the KDE used as input to pv-finder. This time, we are reading in poca KDEs rather than the original KDEs. \n",
    "\n",
    "collectdata_kde_Ellipsoids.py uses poca_z, poca_x, poca_y, and six parameters A, B, C, D, E, and F describing the error ellipsoids are those defined at\n",
    "\n",
    "from https://math.stackexchange.com/questions/1865188/how-to-prove-the-parallel-projection-of-an-ellipsoid-is-an-ellipse\n",
    "\n",
    "Up to translation, a general ellipsoid can be written in the form\n",
    "\n",
    "  𝐴$𝑥^2$ +𝐵$𝑦^2$+𝐶$𝑧^2$+2(𝐷𝑥𝑦+𝐸𝑥𝑧+𝐹𝑦𝑧)=1\n",
    "  \n",
    "for some positive-definite coefficient matrix \n",
    "\n",
    "$$\n",
    "\\left(\\begin{array}{ccc}\n",
    "A & D & E \\\\\n",
    "D & B & F \\\\\n",
    "E & F & C \\\\\n",
    "\\end{array}\\right)\n",
    "$$\n",
    "\n",
    "Note that other conventions use a similarly named set of parameters with D, E, and and F denoting the coefficients of different combinations of $ x y $, etc., or without the factor of 2 in front of the cross-terms.  However, this is the convention we are using for pv-finder related work, as of early November, 20020\n"
   ]
  },
  {
   "cell_type": "markdown",
   "metadata": {},
   "source": [
    "Check the current GPU usage. Please try to be nice!"
   ]
  },
  {
   "cell_type": "code",
   "execution_count": 2,
   "metadata": {},
   "outputs": [
    {
     "name": "stdout",
     "output_type": "stream",
     "text": [
      "Fri Nov  6 20:22:11 2020       \r\n",
      "+-----------------------------------------------------------------------------+\r\n",
      "| NVIDIA-SMI 440.64.00    Driver Version: 440.64.00    CUDA Version: 10.2     |\r\n",
      "|-------------------------------+----------------------+----------------------+\r\n",
      "| GPU  Name        Persistence-M| Bus-Id        Disp.A | Volatile Uncorr. ECC |\r\n",
      "| Fan  Temp  Perf  Pwr:Usage/Cap|         Memory-Usage | GPU-Util  Compute M. |\r\n",
      "|===============================+======================+======================|\r\n",
      "|   0  TITAN V             Off  | 00000000:03:00.0 Off |                  N/A |\r\n",
      "| 28%   38C    P8    23W / 250W |     12MiB / 12066MiB |      0%      Default |\r\n",
      "+-------------------------------+----------------------+----------------------+\r\n",
      "|   1  Tesla P100-PCIE...  Off  | 00000000:83:00.0 Off |                    0 |\r\n",
      "| N/A   39C    P0    35W / 250W |      0MiB / 16280MiB |      0%      Default |\r\n",
      "+-------------------------------+----------------------+----------------------+\r\n",
      "|   2  TITAN V             Off  | 00000000:84:00.0 Off |                  N/A |\r\n",
      "| 28%   43C    P0    36W / 250W |      0MiB / 12066MiB |      0%      Default |\r\n",
      "+-------------------------------+----------------------+----------------------+\r\n",
      "                                                                               \r\n",
      "+-----------------------------------------------------------------------------+\r\n",
      "| Processes:                                                       GPU Memory |\r\n",
      "|  GPU       PID   Type   Process name                             Usage      |\r\n",
      "|=============================================================================|\r\n",
      "|  No running processes found                                                 |\r\n",
      "+-----------------------------------------------------------------------------+\r\n"
     ]
    }
   ],
   "source": [
    "!nvidia-smi"
   ]
  },
  {
   "cell_type": "markdown",
   "metadata": {},
   "source": [
    "> **WARNING**: The card numbers here are *not* the same as in CUDA. You have been warned."
   ]
  },
  {
   "cell_type": "markdown",
   "metadata": {},
   "source": [
    "This notebook is first attempt to read in track information and use it to predict the KDE used as input to PvFinder.\n"
   ]
  },
  {
   "cell_type": "markdown",
   "metadata": {},
   "source": [
    "## Imports"
   ]
  },
  {
   "cell_type": "code",
   "execution_count": 3,
   "metadata": {},
   "outputs": [],
   "source": [
    "import matplotlib.pyplot as plt\n",
    "import numpy as np\n",
    "import time\n",
    "import torch\n",
    "import pandas as pd\n",
    "\n",
    "# Python 3 standard library\n",
    "from pathlib import Path\n",
    "\n",
    "##from torchsummary import summary"
   ]
  },
  {
   "cell_type": "markdown",
   "metadata": {},
   "source": [
    "### Set up local parameters"
   ]
  },
  {
   "cell_type": "code",
   "execution_count": 4,
   "metadata": {},
   "outputs": [],
   "source": [
    "n_epochs = 100\n",
    "\n",
    "# Name is the output file name\n",
    "\n",
    "\n",
    "##  201019  mds\n",
    "folder = '06November_testing_DirtyDozen_first_learning_iter2_100epochs_3em5'\n",
    "name   = folder\n",
    "\n",
    "# Make an output folder named \"name\" (change if you want)\n",
    "\n",
    "## Special instructions for those working on goofy at UC\n",
    "## Please be very careful to make sure that your folder\n",
    "## does not live in a subdirectory of your home directory\n",
    "## this disk has very little capacity. Instead, use \n",
    "## a subdirectory in /share/lazy with a symbolic link to\n",
    "## it in this (the notebooks) subdirectory\n",
    "folder = 'ML/' + folder\n",
    "output = Path(folder)\n",
    "\n",
    "\n",
    "# Size of batches\n",
    "batch_size = 64\n",
    "# How fast to learn\n",
    "learning_rate = 3e-5"
   ]
  },
  {
   "cell_type": "markdown",
   "metadata": {},
   "source": [
    "Make the output directory if it does not exist:"
   ]
  },
  {
   "cell_type": "code",
   "execution_count": 5,
   "metadata": {},
   "outputs": [],
   "source": [
    "output.mkdir(exist_ok=True)"
   ]
  },
  {
   "cell_type": "markdown",
   "metadata": {},
   "source": [
    "## Get the helper functions\n",
    "\n",
    "Add the directory with the model\n",
    "definitions to the path so we can import from it:\n",
    "\n",
    "> When you type `import X`,\n",
    "Python searches `sys.path` for a python\n",
    "file named `X.py` to import. So we need to add the model directory to the path."
   ]
  },
  {
   "cell_type": "code",
   "execution_count": 6,
   "metadata": {
    "scrolled": true
   },
   "outputs": [],
   "source": [
    "# From model/collectdata.py\n",
    "##from model.collectdata_kde_B import collect_t2kde_data\n",
    "## collectdata_kde_C should use the new poca KDE rather than the original kernel KDE\n",
    "from model.collectdata_kde_Ellipsoids import collect_t2kde_data\n",
    "\n",
    "\n",
    "# From model/loss.py\n",
    "##from loss import Loss\n",
    "## kde_loss_D includes botha ratio term and a chisq term, 98% ave_chisq\n",
    "## kde_loss_E adds a chi^4 term to the kde_loss_D return value\n",
    "## this is intended to emphasize the importance of values significantly different than zero\n",
    "from model.kde_loss_E import Loss\n",
    "\n",
    "##  TracksToKDE_Ellipsoids_SevenLayerCake has 7 hidden layers producing the 4000-bin KDE historgram\n",
    "##  It takes 9 input features (pocca centers + (A,B,C,D,E,F) . \n",
    "from model.models_kde import TracksToKDE_Ellipsoids_DirtyDozen as Model\n",
    "\n",
    "\n",
    "from model.training_kde import trainNet, select_gpu, Results\n",
    "from model.plots import dual_train_plots, replace_in_ax"
   ]
  },
  {
   "cell_type": "code",
   "execution_count": 7,
   "metadata": {},
   "outputs": [],
   "source": [
    "# This gets built up during the run - do not rerun this cell\n",
    "results = pd.DataFrame([], columns=Results._fields)"
   ]
  },
  {
   "cell_type": "markdown",
   "metadata": {},
   "source": [
    "Set up Torch device configuration. All tensors and model parameters need to know where to be put.\n",
    "This takes a BUS ID number: The BUS ID is the same as the listing at the top of this script."
   ]
  },
  {
   "cell_type": "code",
   "execution_count": 8,
   "metadata": {},
   "outputs": [
    {
     "name": "stdout",
     "output_type": "stream",
     "text": [
      "1 available GPUs (initially using device 0):\n",
      "  0 TITAN V\n"
     ]
    }
   ],
   "source": [
    "device = select_gpu(0)\n",
    "##device = \"cpu\""
   ]
  },
  {
   "cell_type": "markdown",
   "metadata": {},
   "source": [
    "## Loading data\n",
    "\n",
    "Load the dataset, split into parts, then move to device (see `collectdata.py` in the `../model` directory)"
   ]
  },
  {
   "cell_type": "markdown",
   "metadata": {},
   "source": [
    "# Preparing the model"
   ]
  },
  {
   "cell_type": "markdown",
   "metadata": {},
   "source": [
    "Prepare a model, use multiple GPUs if they are VISIBLE, and move the model to the device."
   ]
  },
  {
   "cell_type": "code",
   "execution_count": 9,
   "metadata": {
    "scrolled": true
   },
   "outputs": [],
   "source": [
    "##print(\"Let's use\", torch.cuda.device_count(), \"GPUs!\")\n",
    "##if torch.cuda.device_count() > 1:\n",
    "##    model = torch.nn.DataParallel(model)"
   ]
  },
  {
   "cell_type": "code",
   "execution_count": 10,
   "metadata": {},
   "outputs": [
    {
     "name": "stdout",
     "output_type": "stream",
     "text": [
      "ct, child =  0    Linear(in_features=9, out_features=50, bias=True)\n",
      "ct, child =  1    Linear(in_features=50, out_features=50, bias=True)\n",
      "ct, child =  2    Linear(in_features=50, out_features=50, bias=True)\n",
      "ct, child =  3    Linear(in_features=50, out_features=50, bias=True)\n",
      "ct, child =  4    Linear(in_features=50, out_features=50, bias=True)\n",
      "ct, child =  5    Linear(in_features=50, out_features=50, bias=True)\n",
      "ct, child =  6    Linear(in_features=50, out_features=50, bias=True)\n",
      "ct, child =  7    Linear(in_features=50, out_features=50, bias=True)\n",
      "ct, child =  8    Linear(in_features=50, out_features=50, bias=True)\n",
      "ct, child =  9    Linear(in_features=50, out_features=50, bias=True)\n",
      "ct, child =  10    Linear(in_features=50, out_features=50, bias=True)\n",
      "ct, child =  11    Linear(in_features=50, out_features=4000, bias=True)\n"
     ]
    }
   ],
   "source": [
    "## a comment on the web at https://pytorch.org/docs/stable/optim.html says\n",
    "\"\"\"\n",
    "If you need to move a model to GPU via .cuda(), please do so before constructing optimizers for it. \n",
    "Parameters of a model after .cuda() will be different objects with those before the call.\n",
    "\n",
    "In general, you should make sure that optimized parameters live in consistent locations when \n",
    "optimizers are constructed and used.\n",
    "\"\"\"\n",
    "## so move this here (although we are using model.to(device) not explicitly using .cuda()\n",
    "\n",
    "nOut1 = 50\n",
    "nOut2 = 50\n",
    "nOut3 = 50\n",
    "nOut4 = 50\n",
    "nOut5 = 50\n",
    "nOut6 = 50\n",
    "nOut7 = 50\n",
    "nOut8 = 50\n",
    "nOut9 = 50\n",
    "nOut10 = 50\n",
    "nOut11 = 50\n",
    "model = Model(nOut1,nOut2,nOut3,nOut4,nOut5,nOut6,nOut7,nOut8,nOut9,nOut10,nOut11)\n",
    "\n",
    "##summary(model, input_size=(4, 4000))\n",
    "##print(model.parameters)\n",
    "\n",
    "## add the following code to allow the user to freeze the some of the weights corresponding \n",
    "## to those taken from an earlier model trained with the original target histograms\n",
    "## presumably -- this leaves either the perturbative filter \"fixed\" and lets the \n",
    "## learning focus on the non-perturbative features, so get started faster, or vice versa\n",
    "ct = 0\n",
    "for child in model.children():\n",
    "  print('ct, child = ',ct, \"  \", child)\n",
    "  if ct < 0:\n",
    "    print(\"     About to set param.requires_grad=False for ct = \", ct, \"params\")\n",
    "    for param in child.parameters():\n",
    "        param.requires_grad = False \n",
    "  ct += 1\n",
    "##  mds 200121 loss = Loss(epsilon=1e-5,coefficient=1.0)\n",
    "##  loss = Loss(epsilon=1e-5,coefficient=2.5)\n",
    "loss = Loss(epsilon=3e-5, debug=False)"
   ]
  },
  {
   "cell_type": "markdown",
   "metadata": {},
   "source": [
    "Let's move the model's weight matricies to the GPU:"
   ]
  },
  {
   "cell_type": "code",
   "execution_count": 11,
   "metadata": {
    "scrolled": true
   },
   "outputs": [],
   "source": [
    "model = model.to(device)"
   ]
  },
  {
   "cell_type": "code",
   "execution_count": 12,
   "metadata": {
    "scrolled": true
   },
   "outputs": [],
   "source": [
    "optimizer = torch.optim.Adam(model.parameters(), lr=learning_rate)\n",
    "##optimizer = torch.optim.SGD(model.parameters(), lr=learning_rate)"
   ]
  },
  {
   "cell_type": "code",
   "execution_count": 13,
   "metadata": {
    "scrolled": false
   },
   "outputs": [
    {
     "name": "stdout",
     "output_type": "stream",
     "text": [
      "output =  ML/06November_testing_DirtyDozen_first_learning_iter2_100epochs_3em5\n",
      "for model_dict\n",
      "index, k =   0    layer1.weight\n",
      "index, k =   1    layer1.bias\n",
      "index, k =   2    layer2.weight\n",
      "index, k =   3    layer2.bias\n",
      "index, k =   4    layer3.weight\n",
      "index, k =   5    layer3.bias\n",
      "index, k =   6    layer4.weight\n",
      "index, k =   7    layer4.bias\n",
      "index, k =   8    layer5.weight\n",
      "index, k =   9    layer5.bias\n",
      "index, k =   10    layer6.weight\n",
      "index, k =   11    layer6.bias\n",
      "index, k =   12    layer7.weight\n",
      "index, k =   13    layer7.bias\n",
      "index, k =   14    layer8.weight\n",
      "index, k =   15    layer8.bias\n",
      "index, k =   16    layer9.weight\n",
      "index, k =   17    layer9.bias\n",
      "index, k =   18    layer10.weight\n",
      "index, k =   19    layer10.bias\n",
      "index, k =   20    layer11.weight\n",
      "index, k =   21    layer11.bias\n",
      "index, k =   22    layer12.weight\n",
      "index, k =   23    layer12.bias\n",
      " \n",
      "  for pretrained_dict\n",
      "index, k =   0    layer1.weight\n",
      "index, k =   1    layer1.bias\n",
      "index, k =   2    layer2.weight\n",
      "index, k =   3    layer2.bias\n",
      "index, k =   4    layer3.weight\n",
      "index, k =   5    layer3.bias\n",
      "index, k =   6    layer4.weight\n",
      "index, k =   7    layer4.bias\n",
      "index, k =   8    layer5.weight\n",
      "index, k =   9    layer5.bias\n",
      "index, k =   10    layer6.weight\n",
      "index, k =   11    layer6.bias\n",
      "index, k =   12    layer7.weight\n",
      "index, k =   13    layer7.bias\n",
      "index, k =   14    layer8.weight\n",
      "index, k =   15    layer8.bias\n",
      "index, k =   16    layer9.weight\n",
      "index, k =   17    layer9.bias\n",
      "index, k =   18    layer10.weight\n",
      "index, k =   19    layer10.bias\n",
      "index, k =   20    layer11.weight\n",
      "index, k =   21    layer11.bias\n",
      "index, k =   22    layer12.weight\n",
      "index, k =   23    layer12.bias\n",
      "pretrained_dict iterated\n"
     ]
    },
    {
     "data": {
      "text/plain": [
       "<All keys matched successfully>"
      ]
     },
     "execution_count": 13,
     "metadata": {},
     "output_type": "execute_result"
    }
   ],
   "source": [
    "print('output = ',output)\n",
    "##print('oldOutput = ',oldOutput)\n",
    "##  use the first four layers from a pre-existing model\n",
    "##  see example at https://discuss.pytorch.org/t/how-to-load-part-of-pre-trained-model/1113\n",
    "\n",
    "##   ML -> /share/lazy/sokoloff/ML\n",
    "model_dict = model.state_dict()\n",
    "## mds 190725 for debugging\n",
    "print(\"for model_dict\")\n",
    "index = 0\n",
    "for k,v in model_dict.items():\n",
    "    print(\"index, k =  \",index,\"  \",k)\n",
    "    index = index+1\n",
    "##    print(\"value = \", v)\n",
    " \n",
    "updated_dict = model_dict\n",
    "##print(\"updated_dict = \",updated_dict)\n",
    "## when starting \"ab initio\", reduce biases as the bias gets summed for each track\n",
    "## contributing to the predicted KDE\n",
    "updated_dict[\"layer1.bias\"] = 0.005*model_dict[\"layer1.bias\"]\n",
    "updated_dict[\"layer2.bias\"] = 0.005*model_dict[\"layer2.bias\"]\n",
    "updated_dict[\"layer3.bias\"] = 0.005*model_dict[\"layer3.bias\"]\n",
    "updated_dict[\"layer4.bias\"] = 0.005*model_dict[\"layer4.bias\"]\n",
    "updated_dict[\"layer5.bias\"] = 0.005*model_dict[\"layer5.bias\"]\n",
    "updated_dict[\"layer6.bias\"] = 0.005*model_dict[\"layer6.bias\"]\n",
    "updated_dict[\"layer7.bias\"] = 0.005*model_dict[\"layer7.bias\"]\n",
    "updated_dict[\"layer8.bias\"] = 0.005*model_dict[\"layer8.bias\"]\n",
    "updated_dict[\"layer9.bias\"] = 0.005*model_dict[\"layer9.bias\"]\n",
    "updated_dict[\"layer10.bias\"] = 0.005*model_dict[\"layer10.bias\"]\n",
    "updated_dict[\"layer11.bias\"] = 0.005*model_dict[\"layer11.bias\"]\n",
    "\n",
    "model.load_state_dict(updated_dict,strict=False)\n",
    "\n",
    "model_dict = model.state_dict()\n",
    "##print(\"updated model_dict = \",model_dict)\n",
    "\n",
    "## print(\" \\n\",\"  for pretrained_dict\")\n",
    "## index = 0\n",
    "##for k,v in pretrained_dict.items():\n",
    "##    print(\"index, k =  \",index,\"  \",k)\n",
    "##    index = index+1\n",
    "## mds  \n",
    "\n",
    "##pretrained_dict = torch.load('ML/29July2020_Trks_to_KDE_C_lossB_100epochs_b64_1m3_nOut_50x50/29July2020_Trks_to_KDE_C_lossB_100epochs_b64_1m3_nOut_50x50_final.pyt')\n",
    "##print(\"model_dict instantiated\")\n",
    "# 1. filter out unnecessary keys\n",
    "##pretrained_dict = {k: v for k, v in pretrained_dict.items() if k in model_dict}\n",
    "##print(\"pretrained_dict iterated\")\n",
    "# 2. overwrite entries in the existing state dict\n",
    "##model_dict.update(pretrained_dict) \n",
    "##\n",
    "#   when starting from a model with a fully connected last layer rather than a convolutional layer\n",
    "# 3. load the new state dict\n",
    "#   need to use strict=False as the two models state model attributes do not agree exactly\n",
    "#   see https://pytorch.org/docs/master/_modules/torch/nn/modules/module.html#Module.load_state_dict\n",
    "\n",
    "##model.load_state_dict(pretrained_dict,strict=False)\n",
    "\n",
    "## print('model_dict =    ', model_dict)\n",
    "\n",
    "## pretrained_dict = torch.load('ML/19October_testing_loss_C_500epochs_more_learning/19October_testing_loss_C_500epochs_more_learning_final.pyt')\n",
    "## pretrained_dict = torch.load('ML/24October_testing_SevenLayerCake_first_learning_50epochs/24October_testing_SevenLayerCake_first_learning_50epochs_44.pyt')\n",
    "\n",
    "##pretrained_dict = torch.load('ML/24October_testing_SevenLayerCake_first_learning_next1000epochs/24October_testing_SevenLayerCake_first_learning_next1000epochs_976.pyt')\n",
    "## pretrained_dict = torch.load('ML/24October_testing_SevenLayerCake_first_learning_iter4_2500epochs_1em5/24October_testing_SevenLayerCake_first_learning_iter4_2500epochs_1em5_final.pyt')\n",
    "## pretrained_dict = torch.load('ML/25October_testing_SevenLayerCake_first_learning_iter0_1000epochs_lossE/25October_testing_SevenLayerCake_first_learning_iter0_1000epochs_lossE_503.pyt')\n",
    "\n",
    "\n",
    "## pretrained_dict = torch.load('ML/25October_testing_SevenLayerCake_first_learning_iter0_1000epochs_lossE/25October_testing_SevenLayerCake_first_learning_iter0_1000epochs_lossE_final.pyt')\n",
    "\n",
    "## pretrained_dict = torch.load('ML/25October_testing_SevenLayerCake_first_learning_iter2_100epochs_lossE/25October_testing_SevenLayerCake_first_learning_iter2_100epochs_lossE_final.pyt')\n",
    "\n",
    "## pretrained_dict = torch.load('ML/25October_testing_SevenLayerCake_first_learning_iter2_2nd_100epochs_lossE_Adam/25October_testing_SevenLayerCake_first_learning_iter2_2nd_100epochs_lossE_Adam_final.pyt')\n",
    "\n",
    "## pretrained_dict = torch.load('ML/25October_testing_SevenLayerCake_first_learning_iter3_4000epochs_lossE_Adam/25October_testing_SevenLayerCake_first_learning_iter3_4000epochs_lossE_Adam_final.pyt')\n",
    "\n",
    "##  results from the previous model were fluctuating, so choose epoch with relatively low costs\n",
    "pretrained_dict = torch.load('ML/27October_testing_DirtyDozen_first_learning_iter0_250epochs_1em3/27October_testing_DirtyDozen_first_learning_iter0_250epochs_1em3_220.pyt')\n",
    "\n",
    "##  the next model had fluctuations near the end, but the final epoch is within striking distance of the lowest cost\n",
    "pretrained_dict = torch.load('ML/27October_testing_DirtyDozen_first_learning_iter1_250epochs_1em4/27October_testing_DirtyDozen_first_learning_iter1_250epochs_1em4_final.pyt')\n",
    "print(\" \")\n",
    "print(\"  for pretrained_dict\")\n",
    "index = 0\n",
    "for k,v in pretrained_dict.items():\n",
    "    print(\"index, k =  \",index,\"  \",k)\n",
    "    index = index+1\n",
    " \n",
    "\n",
    "##print(\"model_dict instantiated\")\n",
    "# 1. filter out unnecessary keys\n",
    "pretrained_dict = {k: v for k, v in pretrained_dict.items() if k in model_dict}\n",
    "print(\"pretrained_dict iterated\")\n",
    "# 2. overwrite entries in the existing state dict\n",
    "model_dict.update(pretrained_dict) \n",
    "##\n",
    "#   when starting from a model with a fully connected last layer rather than a convolutional layer\n",
    "# 3. load the new state dict\n",
    "#   need to use strict=False as the two models state model attributes do not agree exactly\n",
    "#   see https://pytorch.org/docs/master/_modules/torch/nn/modules/module.html#Module.load_state_dict\n",
    "\n",
    "model.load_state_dict(pretrained_dict,strict=False)\n",
    "\n"
   ]
  },
  {
   "cell_type": "code",
   "execution_count": 14,
   "metadata": {},
   "outputs": [],
   "source": [
    "##print('validation.dataset.tensors = ',validation.dataset.tensors)\n",
    "fig_size = plt.rcParams[\"figure.figsize\"]\n",
    "fig_size[0] = 10\n",
    "fig_size[1] = 4\n",
    "plt.rcParams[\"figure.figsize\"] = fig_size"
   ]
  },
  {
   "cell_type": "code",
   "execution_count": 15,
   "metadata": {
    "scrolled": true
   },
   "outputs": [
    {
     "name": "stdout",
     "output_type": "stream",
     "text": [
      "Loading data...\n",
      "pocaMx.shape =  (20000,)\n",
      "nEvts =  20000\n",
      "len(pocaMx[0]) =  211\n",
      "len(pocaMx[1]) =  21\n",
      "len(pocaMx[2]) =  20\n",
      "len(pocaMx[3]) =  198\n",
      "len(pocaMx[4]) =  233\n",
      "majorAxis.shape =  (20000, 3)\n",
      "minorAxis_1.shape =  (20000, 3)\n",
      "minorAxis_2.shape =  (20000, 3)\n",
      "have entered six_ellipsoid_parameters\n",
      "  \n",
      " \n",
      "  nEvts =  20000\n",
      " iEvt, nTrks =  0 211\n",
      " iEvt, nTrks =  1 21\n",
      " iEvt, nTrks =  2 20\n",
      " iEvt, nTrks =  3 198\n",
      " iEvt, nTrks =  4 233\n",
      " iEvt, nTrks =  5 85\n",
      " iEvt, nTrks =  6 223\n",
      " iEvt, nTrks =  7 425\n",
      " iEvt, nTrks =  8 252\n",
      " iEvt, nTrks =  9 169\n",
      "A.shape =  (20000,)\n",
      "A[iTrk][0] =  312.1509\n",
      "B[iTrk][0] =  312.14526\n",
      "C[iTrk][0] =  0.018625624\n",
      "D[iTrk][0] =  -0.003707775\n",
      "E[iTrk][0] =  0.7585639\n",
      "F[iTrk][0] =  1.5268729\n",
      "A[iTrk][0] =  307.0049\n",
      "B[iTrk][0] =  309.3697\n",
      "C[iTrk][0] =  16.298458\n",
      "D[iTrk][0] =  3.7850251\n",
      "E[iTrk][0] =  39.0255\n",
      "F[iTrk][0] =  -28.694317\n",
      "A[iTrk][0] =  311.72607\n",
      "B[iTrk][0] =  312.14993\n",
      "C[iTrk][0] =  0.86016846\n",
      "D[iTrk][0] =  0.03459918\n",
      "E[iTrk][0] =  11.524924\n",
      "F[iTrk][0] =  -0.93459\n",
      "A[iTrk][0] =  312.03\n",
      "B[iTrk][0] =  312.1198\n",
      "C[iTrk][0] =  0.31132916\n",
      "D[iTrk][0] =  0.06352115\n",
      "E[iTrk][0] =  6.1855507\n",
      "F[iTrk][0] =  -3.2027178\n",
      "A[iTrk][0] =  312.0758\n",
      "B[iTrk][0] =  312.14346\n",
      "C[iTrk][0] =  0.17242321\n",
      "D[iTrk][0] =  0.02671076\n",
      "E[iTrk][0] =  -4.8985863\n",
      "F[iTrk][0] =  1.7008059\n",
      "A[iTrk][0] =  312.1496\n",
      "B[iTrk][0] =  312.15186\n",
      "C[iTrk][0] =  0.0079896655\n",
      "D[iTrk][0] =  0.0016326695\n",
      "E[iTrk][0] =  0.98978716\n",
      "F[iTrk][0] =  -0.51698303\n",
      "A[iTrk][0] =  312.15152\n",
      "B[iTrk][0] =  312.14337\n",
      "C[iTrk][0] =  0.02129215\n",
      "D[iTrk][0] =  -0.0034102227\n",
      "E[iTrk][0] =  0.62326497\n",
      "F[iTrk][0] =  1.7130098\n",
      "A[iTrk][0] =  312.146\n",
      "B[iTrk][0] =  312.1519\n",
      "C[iTrk][0] =  0.015216089\n",
      "D[iTrk][0] =  0.0024184594\n",
      "E[iTrk][0] =  1.4515046\n",
      "F[iTrk][0] =  -0.5175251\n",
      "A[iTrk][0] =  312.1459\n",
      "B[iTrk][0] =  312.15268\n",
      "C[iTrk][0] =  0.013644187\n",
      "D[iTrk][0] =  0.00061224576\n",
      "E[iTrk][0] =  -1.4534992\n",
      "F[iTrk][0] =  0.12936354\n",
      "A[iTrk][0] =  311.7683\n",
      "B[iTrk][0] =  312.13577\n",
      "C[iTrk][0] =  0.80389833\n",
      "D[iTrk][0] =  -0.08082064\n",
      "E[iTrk][0] =  10.9404955\n",
      "F[iTrk][0] =  2.3001347\n",
      "len(X) =  20000\n",
      "len(Xlist) =  1\n",
      "Loaded dataAA/20K_POCA_kernel_evts_200926.h5 in 43.71 s\n",
      "outer loop X.shape =  (20000, 9, 600)\n",
      "Constructing 18000 event dataset took 0.5862 s\n",
      "x_t.shape =  torch.Size([18000, 9, 600])\n",
      "x_t.shape[0] =  18000\n",
      "x_t.shape[1] =  9\n",
      "x_t.shape =  torch.Size([18000, 9, 600])\n",
      "Loading data...\n",
      "pocaMx.shape =  (20000,)\n",
      "nEvts =  20000\n",
      "len(pocaMx[0]) =  211\n",
      "len(pocaMx[1]) =  21\n",
      "len(pocaMx[2]) =  20\n",
      "len(pocaMx[3]) =  198\n",
      "len(pocaMx[4]) =  233\n",
      "majorAxis.shape =  (20000, 3)\n",
      "minorAxis_1.shape =  (20000, 3)\n",
      "minorAxis_2.shape =  (20000, 3)\n",
      "have entered six_ellipsoid_parameters\n",
      "  \n",
      " \n",
      "  nEvts =  20000\n",
      " iEvt, nTrks =  0 211\n",
      " iEvt, nTrks =  1 21\n",
      " iEvt, nTrks =  2 20\n",
      " iEvt, nTrks =  3 198\n",
      " iEvt, nTrks =  4 233\n",
      " iEvt, nTrks =  5 85\n",
      " iEvt, nTrks =  6 223\n",
      " iEvt, nTrks =  7 425\n",
      " iEvt, nTrks =  8 252\n",
      " iEvt, nTrks =  9 169\n",
      "A.shape =  (20000,)\n",
      "A[iTrk][0] =  312.1509\n",
      "B[iTrk][0] =  312.14526\n",
      "C[iTrk][0] =  0.018625624\n",
      "D[iTrk][0] =  -0.003707775\n",
      "E[iTrk][0] =  0.7585639\n",
      "F[iTrk][0] =  1.5268729\n",
      "A[iTrk][0] =  307.0049\n",
      "B[iTrk][0] =  309.3697\n",
      "C[iTrk][0] =  16.298458\n",
      "D[iTrk][0] =  3.7850251\n",
      "E[iTrk][0] =  39.0255\n",
      "F[iTrk][0] =  -28.694317\n",
      "A[iTrk][0] =  311.72607\n",
      "B[iTrk][0] =  312.14993\n",
      "C[iTrk][0] =  0.86016846\n",
      "D[iTrk][0] =  0.03459918\n",
      "E[iTrk][0] =  11.524924\n",
      "F[iTrk][0] =  -0.93459\n",
      "A[iTrk][0] =  312.03\n",
      "B[iTrk][0] =  312.1198\n",
      "C[iTrk][0] =  0.31132916\n",
      "D[iTrk][0] =  0.06352115\n",
      "E[iTrk][0] =  6.1855507\n",
      "F[iTrk][0] =  -3.2027178\n",
      "A[iTrk][0] =  312.0758\n",
      "B[iTrk][0] =  312.14346\n",
      "C[iTrk][0] =  0.17242321\n",
      "D[iTrk][0] =  0.02671076\n",
      "E[iTrk][0] =  -4.8985863\n",
      "F[iTrk][0] =  1.7008059\n",
      "A[iTrk][0] =  312.1496\n",
      "B[iTrk][0] =  312.15186\n",
      "C[iTrk][0] =  0.0079896655\n",
      "D[iTrk][0] =  0.0016326695\n",
      "E[iTrk][0] =  0.98978716\n",
      "F[iTrk][0] =  -0.51698303\n",
      "A[iTrk][0] =  312.15152\n",
      "B[iTrk][0] =  312.14337\n",
      "C[iTrk][0] =  0.02129215\n",
      "D[iTrk][0] =  -0.0034102227\n",
      "E[iTrk][0] =  0.62326497\n",
      "F[iTrk][0] =  1.7130098\n",
      "A[iTrk][0] =  312.146\n",
      "B[iTrk][0] =  312.1519\n",
      "C[iTrk][0] =  0.015216089\n",
      "D[iTrk][0] =  0.0024184594\n",
      "E[iTrk][0] =  1.4515046\n",
      "F[iTrk][0] =  -0.5175251\n",
      "A[iTrk][0] =  312.1459\n",
      "B[iTrk][0] =  312.15268\n",
      "C[iTrk][0] =  0.013644187\n",
      "D[iTrk][0] =  0.00061224576\n",
      "E[iTrk][0] =  -1.4534992\n",
      "F[iTrk][0] =  0.12936354\n",
      "A[iTrk][0] =  311.7683\n",
      "B[iTrk][0] =  312.13577\n",
      "C[iTrk][0] =  0.80389833\n",
      "D[iTrk][0] =  -0.08082064\n",
      "E[iTrk][0] =  10.9404955\n",
      "F[iTrk][0] =  2.3001347\n",
      "len(X) =  20000\n",
      "len(Xlist) =  1\n",
      "Loaded dataAA/20K_POCA_kernel_evts_200926.h5 in 44.0 s\n",
      "outer loop X.shape =  (20000, 9, 600)\n",
      "Constructing 2000 event dataset took 0.08006 s\n",
      "x_t.shape =  torch.Size([2000, 9, 600])\n",
      "x_t.shape[0] =  2000\n",
      "x_t.shape[1] =  9\n",
      "x_t.shape =  torch.Size([2000, 9, 600])\n"
     ]
    }
   ],
   "source": [
    "\n",
    "## Training dataset. You can put as many files here as desired.\n",
    "\n",
    "##train_loader = collect_t2kde_data('/share/lazy/pv-finder/20k_evts_for_KDE_learning_200716.h5',\n",
    "train_loader = collect_t2kde_data('dataAA/20K_POCA_kernel_evts_200926.h5',\n",
    "##train_loader = collect_t2kde_data('/share/lazy/pv-finder/test_data_for_KDE_learning_BastilleDay20.h5',\n",
    "                            batch_size=batch_size,\n",
    "## if we are using a larger dataset (240K events, with the datasets above, and 11 GB  of GPU memory),\n",
    "## the dataset will overflow the GPU memory; device=device will allow the data to move back\n",
    "## and forth between the CPU and GPU memory. While this allows use of a larger dataset, it slows\n",
    "## down performance by about 10%.  So comment out when not needed.\n",
    "                           device=device,\n",
    "                           slice = slice(None,18000)\n",
    "                           )\n",
    "                            \n",
    "# Validation dataset. You can slice to reduce the size.\n",
    "## mds no separate validation set yet,\n",
    "val_loader = collect_t2kde_data('dataAA/20K_POCA_kernel_evts_200926.h5',\n",
    "                            batch_size=batch_size,\n",
    "                            device=device,\n",
    "                            slice = slice(18000,None)\n",
    "                           )\n"
   ]
  },
  {
   "cell_type": "markdown",
   "metadata": {
    "scrolled": false
   },
   "source": [
    "with torch.no_grad():\n",
    "    counter = 0\n",
    "    event = 0\n",
    "    print(\"train_loader = \",train_loader)\n",
    "    for inputs, labels in train_loader:\n",
    "##        print(\"counter = \",counter)\n",
    "##        print(\"inputs = \",inputs)\n",
    "        print(\"inputs.shape = \",inputs.shape)\n",
    "        if inputs.device != device:\n",
    "            inputs, labels = inputs.to(device), labels.to(device)\n",
    "            \n",
    "        outputs = model(inputs)\n",
    "##        print(\"outputs.shape = \",outputs.shape)\n",
    "        nEvts = outputs.shape[0]\n",
    "        for iEvt in range(nEvts):\n",
    "            y_pred = outputs[iEvt,:]\n",
    "            y_pred = y_pred.cpu().numpy()\n",
    "            \n",
    "            event = event +1\n",
    "##            print(\"event = \",event)\n",
    "            if (event<5):\n",
    "                plt.figure()\n",
    "                plt.plot(y_pred[0:50])\n",
    "                plt.show()\n",
    "                \n",
    "##                print(\"  point AA \")\n",
    "                features = inputs[iEvt,:]\n",
    "                features = features[np.newaxis,:,:]\n",
    "                \n",
    "                \n",
    "                print(\"features.shape = \",features.shape)\n",
    "                \n",
    "                output_A = model(features)\n",
    "                y_prime = output_A[0,:]\n",
    "                y_prime = y_prime.cpu().numpy()\n",
    "                plt.figure()\n",
    "                plt.plot(y_prime[0:50], color=\"r\")\n",
    "                plt.show()\n",
    "                \n",
    "            \n",
    "\n",
    "##        print(\"nEvts = \",nEvts)\n",
    "        \n",
    "        counter = counter+1\n",
    "        \n",
    "        \n",
    "        "
   ]
  },
  {
   "cell_type": "code",
   "execution_count": 16,
   "metadata": {
    "scrolled": false
   },
   "outputs": [
    {
     "data": {
      "application/javascript": [
       "/* Put everything inside the global mpl namespace */\n",
       "window.mpl = {};\n",
       "\n",
       "\n",
       "mpl.get_websocket_type = function() {\n",
       "    if (typeof(WebSocket) !== 'undefined') {\n",
       "        return WebSocket;\n",
       "    } else if (typeof(MozWebSocket) !== 'undefined') {\n",
       "        return MozWebSocket;\n",
       "    } else {\n",
       "        alert('Your browser does not have WebSocket support. ' +\n",
       "              'Please try Chrome, Safari or Firefox ≥ 6. ' +\n",
       "              'Firefox 4 and 5 are also supported but you ' +\n",
       "              'have to enable WebSockets in about:config.');\n",
       "    };\n",
       "}\n",
       "\n",
       "mpl.figure = function(figure_id, websocket, ondownload, parent_element) {\n",
       "    this.id = figure_id;\n",
       "\n",
       "    this.ws = websocket;\n",
       "\n",
       "    this.supports_binary = (this.ws.binaryType != undefined);\n",
       "\n",
       "    if (!this.supports_binary) {\n",
       "        var warnings = document.getElementById(\"mpl-warnings\");\n",
       "        if (warnings) {\n",
       "            warnings.style.display = 'block';\n",
       "            warnings.textContent = (\n",
       "                \"This browser does not support binary websocket messages. \" +\n",
       "                    \"Performance may be slow.\");\n",
       "        }\n",
       "    }\n",
       "\n",
       "    this.imageObj = new Image();\n",
       "\n",
       "    this.context = undefined;\n",
       "    this.message = undefined;\n",
       "    this.canvas = undefined;\n",
       "    this.rubberband_canvas = undefined;\n",
       "    this.rubberband_context = undefined;\n",
       "    this.format_dropdown = undefined;\n",
       "\n",
       "    this.image_mode = 'full';\n",
       "\n",
       "    this.root = $('<div/>');\n",
       "    this._root_extra_style(this.root)\n",
       "    this.root.attr('style', 'display: inline-block');\n",
       "\n",
       "    $(parent_element).append(this.root);\n",
       "\n",
       "    this._init_header(this);\n",
       "    this._init_canvas(this);\n",
       "    this._init_toolbar(this);\n",
       "\n",
       "    var fig = this;\n",
       "\n",
       "    this.waiting = false;\n",
       "\n",
       "    this.ws.onopen =  function () {\n",
       "            fig.send_message(\"supports_binary\", {value: fig.supports_binary});\n",
       "            fig.send_message(\"send_image_mode\", {});\n",
       "            if (mpl.ratio != 1) {\n",
       "                fig.send_message(\"set_dpi_ratio\", {'dpi_ratio': mpl.ratio});\n",
       "            }\n",
       "            fig.send_message(\"refresh\", {});\n",
       "        }\n",
       "\n",
       "    this.imageObj.onload = function() {\n",
       "            if (fig.image_mode == 'full') {\n",
       "                // Full images could contain transparency (where diff images\n",
       "                // almost always do), so we need to clear the canvas so that\n",
       "                // there is no ghosting.\n",
       "                fig.context.clearRect(0, 0, fig.canvas.width, fig.canvas.height);\n",
       "            }\n",
       "            fig.context.drawImage(fig.imageObj, 0, 0);\n",
       "        };\n",
       "\n",
       "    this.imageObj.onunload = function() {\n",
       "        fig.ws.close();\n",
       "    }\n",
       "\n",
       "    this.ws.onmessage = this._make_on_message_function(this);\n",
       "\n",
       "    this.ondownload = ondownload;\n",
       "}\n",
       "\n",
       "mpl.figure.prototype._init_header = function() {\n",
       "    var titlebar = $(\n",
       "        '<div class=\"ui-dialog-titlebar ui-widget-header ui-corner-all ' +\n",
       "        'ui-helper-clearfix\"/>');\n",
       "    var titletext = $(\n",
       "        '<div class=\"ui-dialog-title\" style=\"width: 100%; ' +\n",
       "        'text-align: center; padding: 3px;\"/>');\n",
       "    titlebar.append(titletext)\n",
       "    this.root.append(titlebar);\n",
       "    this.header = titletext[0];\n",
       "}\n",
       "\n",
       "\n",
       "\n",
       "mpl.figure.prototype._canvas_extra_style = function(canvas_div) {\n",
       "\n",
       "}\n",
       "\n",
       "\n",
       "mpl.figure.prototype._root_extra_style = function(canvas_div) {\n",
       "\n",
       "}\n",
       "\n",
       "mpl.figure.prototype._init_canvas = function() {\n",
       "    var fig = this;\n",
       "\n",
       "    var canvas_div = $('<div/>');\n",
       "\n",
       "    canvas_div.attr('style', 'position: relative; clear: both; outline: 0');\n",
       "\n",
       "    function canvas_keyboard_event(event) {\n",
       "        return fig.key_event(event, event['data']);\n",
       "    }\n",
       "\n",
       "    canvas_div.keydown('key_press', canvas_keyboard_event);\n",
       "    canvas_div.keyup('key_release', canvas_keyboard_event);\n",
       "    this.canvas_div = canvas_div\n",
       "    this._canvas_extra_style(canvas_div)\n",
       "    this.root.append(canvas_div);\n",
       "\n",
       "    var canvas = $('<canvas/>');\n",
       "    canvas.addClass('mpl-canvas');\n",
       "    canvas.attr('style', \"left: 0; top: 0; z-index: 0; outline: 0\")\n",
       "\n",
       "    this.canvas = canvas[0];\n",
       "    this.context = canvas[0].getContext(\"2d\");\n",
       "\n",
       "    var backingStore = this.context.backingStorePixelRatio ||\n",
       "\tthis.context.webkitBackingStorePixelRatio ||\n",
       "\tthis.context.mozBackingStorePixelRatio ||\n",
       "\tthis.context.msBackingStorePixelRatio ||\n",
       "\tthis.context.oBackingStorePixelRatio ||\n",
       "\tthis.context.backingStorePixelRatio || 1;\n",
       "\n",
       "    mpl.ratio = (window.devicePixelRatio || 1) / backingStore;\n",
       "\n",
       "    var rubberband = $('<canvas/>');\n",
       "    rubberband.attr('style', \"position: absolute; left: 0; top: 0; z-index: 1;\")\n",
       "\n",
       "    var pass_mouse_events = true;\n",
       "\n",
       "    canvas_div.resizable({\n",
       "        start: function(event, ui) {\n",
       "            pass_mouse_events = false;\n",
       "        },\n",
       "        resize: function(event, ui) {\n",
       "            fig.request_resize(ui.size.width, ui.size.height);\n",
       "        },\n",
       "        stop: function(event, ui) {\n",
       "            pass_mouse_events = true;\n",
       "            fig.request_resize(ui.size.width, ui.size.height);\n",
       "        },\n",
       "    });\n",
       "\n",
       "    function mouse_event_fn(event) {\n",
       "        if (pass_mouse_events)\n",
       "            return fig.mouse_event(event, event['data']);\n",
       "    }\n",
       "\n",
       "    rubberband.mousedown('button_press', mouse_event_fn);\n",
       "    rubberband.mouseup('button_release', mouse_event_fn);\n",
       "    // Throttle sequential mouse events to 1 every 20ms.\n",
       "    rubberband.mousemove('motion_notify', mouse_event_fn);\n",
       "\n",
       "    rubberband.mouseenter('figure_enter', mouse_event_fn);\n",
       "    rubberband.mouseleave('figure_leave', mouse_event_fn);\n",
       "\n",
       "    canvas_div.on(\"wheel\", function (event) {\n",
       "        event = event.originalEvent;\n",
       "        event['data'] = 'scroll'\n",
       "        if (event.deltaY < 0) {\n",
       "            event.step = 1;\n",
       "        } else {\n",
       "            event.step = -1;\n",
       "        }\n",
       "        mouse_event_fn(event);\n",
       "    });\n",
       "\n",
       "    canvas_div.append(canvas);\n",
       "    canvas_div.append(rubberband);\n",
       "\n",
       "    this.rubberband = rubberband;\n",
       "    this.rubberband_canvas = rubberband[0];\n",
       "    this.rubberband_context = rubberband[0].getContext(\"2d\");\n",
       "    this.rubberband_context.strokeStyle = \"#000000\";\n",
       "\n",
       "    this._resize_canvas = function(width, height) {\n",
       "        // Keep the size of the canvas, canvas container, and rubber band\n",
       "        // canvas in synch.\n",
       "        canvas_div.css('width', width)\n",
       "        canvas_div.css('height', height)\n",
       "\n",
       "        canvas.attr('width', width * mpl.ratio);\n",
       "        canvas.attr('height', height * mpl.ratio);\n",
       "        canvas.attr('style', 'width: ' + width + 'px; height: ' + height + 'px;');\n",
       "\n",
       "        rubberband.attr('width', width);\n",
       "        rubberband.attr('height', height);\n",
       "    }\n",
       "\n",
       "    // Set the figure to an initial 600x600px, this will subsequently be updated\n",
       "    // upon first draw.\n",
       "    this._resize_canvas(600, 600);\n",
       "\n",
       "    // Disable right mouse context menu.\n",
       "    $(this.rubberband_canvas).bind(\"contextmenu\",function(e){\n",
       "        return false;\n",
       "    });\n",
       "\n",
       "    function set_focus () {\n",
       "        canvas.focus();\n",
       "        canvas_div.focus();\n",
       "    }\n",
       "\n",
       "    window.setTimeout(set_focus, 100);\n",
       "}\n",
       "\n",
       "mpl.figure.prototype._init_toolbar = function() {\n",
       "    var fig = this;\n",
       "\n",
       "    var nav_element = $('<div/>');\n",
       "    nav_element.attr('style', 'width: 100%');\n",
       "    this.root.append(nav_element);\n",
       "\n",
       "    // Define a callback function for later on.\n",
       "    function toolbar_event(event) {\n",
       "        return fig.toolbar_button_onclick(event['data']);\n",
       "    }\n",
       "    function toolbar_mouse_event(event) {\n",
       "        return fig.toolbar_button_onmouseover(event['data']);\n",
       "    }\n",
       "\n",
       "    for(var toolbar_ind in mpl.toolbar_items) {\n",
       "        var name = mpl.toolbar_items[toolbar_ind][0];\n",
       "        var tooltip = mpl.toolbar_items[toolbar_ind][1];\n",
       "        var image = mpl.toolbar_items[toolbar_ind][2];\n",
       "        var method_name = mpl.toolbar_items[toolbar_ind][3];\n",
       "\n",
       "        if (!name) {\n",
       "            // put a spacer in here.\n",
       "            continue;\n",
       "        }\n",
       "        var button = $('<button/>');\n",
       "        button.addClass('ui-button ui-widget ui-state-default ui-corner-all ' +\n",
       "                        'ui-button-icon-only');\n",
       "        button.attr('role', 'button');\n",
       "        button.attr('aria-disabled', 'false');\n",
       "        button.click(method_name, toolbar_event);\n",
       "        button.mouseover(tooltip, toolbar_mouse_event);\n",
       "\n",
       "        var icon_img = $('<span/>');\n",
       "        icon_img.addClass('ui-button-icon-primary ui-icon');\n",
       "        icon_img.addClass(image);\n",
       "        icon_img.addClass('ui-corner-all');\n",
       "\n",
       "        var tooltip_span = $('<span/>');\n",
       "        tooltip_span.addClass('ui-button-text');\n",
       "        tooltip_span.html(tooltip);\n",
       "\n",
       "        button.append(icon_img);\n",
       "        button.append(tooltip_span);\n",
       "\n",
       "        nav_element.append(button);\n",
       "    }\n",
       "\n",
       "    var fmt_picker_span = $('<span/>');\n",
       "\n",
       "    var fmt_picker = $('<select/>');\n",
       "    fmt_picker.addClass('mpl-toolbar-option ui-widget ui-widget-content');\n",
       "    fmt_picker_span.append(fmt_picker);\n",
       "    nav_element.append(fmt_picker_span);\n",
       "    this.format_dropdown = fmt_picker[0];\n",
       "\n",
       "    for (var ind in mpl.extensions) {\n",
       "        var fmt = mpl.extensions[ind];\n",
       "        var option = $(\n",
       "            '<option/>', {selected: fmt === mpl.default_extension}).html(fmt);\n",
       "        fmt_picker.append(option);\n",
       "    }\n",
       "\n",
       "    // Add hover states to the ui-buttons\n",
       "    $( \".ui-button\" ).hover(\n",
       "        function() { $(this).addClass(\"ui-state-hover\");},\n",
       "        function() { $(this).removeClass(\"ui-state-hover\");}\n",
       "    );\n",
       "\n",
       "    var status_bar = $('<span class=\"mpl-message\"/>');\n",
       "    nav_element.append(status_bar);\n",
       "    this.message = status_bar[0];\n",
       "}\n",
       "\n",
       "mpl.figure.prototype.request_resize = function(x_pixels, y_pixels) {\n",
       "    // Request matplotlib to resize the figure. Matplotlib will then trigger a resize in the client,\n",
       "    // which will in turn request a refresh of the image.\n",
       "    this.send_message('resize', {'width': x_pixels, 'height': y_pixels});\n",
       "}\n",
       "\n",
       "mpl.figure.prototype.send_message = function(type, properties) {\n",
       "    properties['type'] = type;\n",
       "    properties['figure_id'] = this.id;\n",
       "    this.ws.send(JSON.stringify(properties));\n",
       "}\n",
       "\n",
       "mpl.figure.prototype.send_draw_message = function() {\n",
       "    if (!this.waiting) {\n",
       "        this.waiting = true;\n",
       "        this.ws.send(JSON.stringify({type: \"draw\", figure_id: this.id}));\n",
       "    }\n",
       "}\n",
       "\n",
       "\n",
       "mpl.figure.prototype.handle_save = function(fig, msg) {\n",
       "    var format_dropdown = fig.format_dropdown;\n",
       "    var format = format_dropdown.options[format_dropdown.selectedIndex].value;\n",
       "    fig.ondownload(fig, format);\n",
       "}\n",
       "\n",
       "\n",
       "mpl.figure.prototype.handle_resize = function(fig, msg) {\n",
       "    var size = msg['size'];\n",
       "    if (size[0] != fig.canvas.width || size[1] != fig.canvas.height) {\n",
       "        fig._resize_canvas(size[0], size[1]);\n",
       "        fig.send_message(\"refresh\", {});\n",
       "    };\n",
       "}\n",
       "\n",
       "mpl.figure.prototype.handle_rubberband = function(fig, msg) {\n",
       "    var x0 = msg['x0'] / mpl.ratio;\n",
       "    var y0 = (fig.canvas.height - msg['y0']) / mpl.ratio;\n",
       "    var x1 = msg['x1'] / mpl.ratio;\n",
       "    var y1 = (fig.canvas.height - msg['y1']) / mpl.ratio;\n",
       "    x0 = Math.floor(x0) + 0.5;\n",
       "    y0 = Math.floor(y0) + 0.5;\n",
       "    x1 = Math.floor(x1) + 0.5;\n",
       "    y1 = Math.floor(y1) + 0.5;\n",
       "    var min_x = Math.min(x0, x1);\n",
       "    var min_y = Math.min(y0, y1);\n",
       "    var width = Math.abs(x1 - x0);\n",
       "    var height = Math.abs(y1 - y0);\n",
       "\n",
       "    fig.rubberband_context.clearRect(\n",
       "        0, 0, fig.canvas.width / mpl.ratio, fig.canvas.height / mpl.ratio);\n",
       "\n",
       "    fig.rubberband_context.strokeRect(min_x, min_y, width, height);\n",
       "}\n",
       "\n",
       "mpl.figure.prototype.handle_figure_label = function(fig, msg) {\n",
       "    // Updates the figure title.\n",
       "    fig.header.textContent = msg['label'];\n",
       "}\n",
       "\n",
       "mpl.figure.prototype.handle_cursor = function(fig, msg) {\n",
       "    var cursor = msg['cursor'];\n",
       "    switch(cursor)\n",
       "    {\n",
       "    case 0:\n",
       "        cursor = 'pointer';\n",
       "        break;\n",
       "    case 1:\n",
       "        cursor = 'default';\n",
       "        break;\n",
       "    case 2:\n",
       "        cursor = 'crosshair';\n",
       "        break;\n",
       "    case 3:\n",
       "        cursor = 'move';\n",
       "        break;\n",
       "    }\n",
       "    fig.rubberband_canvas.style.cursor = cursor;\n",
       "}\n",
       "\n",
       "mpl.figure.prototype.handle_message = function(fig, msg) {\n",
       "    fig.message.textContent = msg['message'];\n",
       "}\n",
       "\n",
       "mpl.figure.prototype.handle_draw = function(fig, msg) {\n",
       "    // Request the server to send over a new figure.\n",
       "    fig.send_draw_message();\n",
       "}\n",
       "\n",
       "mpl.figure.prototype.handle_image_mode = function(fig, msg) {\n",
       "    fig.image_mode = msg['mode'];\n",
       "}\n",
       "\n",
       "mpl.figure.prototype.updated_canvas_event = function() {\n",
       "    // Called whenever the canvas gets updated.\n",
       "    this.send_message(\"ack\", {});\n",
       "}\n",
       "\n",
       "// A function to construct a web socket function for onmessage handling.\n",
       "// Called in the figure constructor.\n",
       "mpl.figure.prototype._make_on_message_function = function(fig) {\n",
       "    return function socket_on_message(evt) {\n",
       "        if (evt.data instanceof Blob) {\n",
       "            /* FIXME: We get \"Resource interpreted as Image but\n",
       "             * transferred with MIME type text/plain:\" errors on\n",
       "             * Chrome.  But how to set the MIME type?  It doesn't seem\n",
       "             * to be part of the websocket stream */\n",
       "            evt.data.type = \"image/png\";\n",
       "\n",
       "            /* Free the memory for the previous frames */\n",
       "            if (fig.imageObj.src) {\n",
       "                (window.URL || window.webkitURL).revokeObjectURL(\n",
       "                    fig.imageObj.src);\n",
       "            }\n",
       "\n",
       "            fig.imageObj.src = (window.URL || window.webkitURL).createObjectURL(\n",
       "                evt.data);\n",
       "            fig.updated_canvas_event();\n",
       "            fig.waiting = false;\n",
       "            return;\n",
       "        }\n",
       "        else if (typeof evt.data === 'string' && evt.data.slice(0, 21) == \"data:image/png;base64\") {\n",
       "            fig.imageObj.src = evt.data;\n",
       "            fig.updated_canvas_event();\n",
       "            fig.waiting = false;\n",
       "            return;\n",
       "        }\n",
       "\n",
       "        var msg = JSON.parse(evt.data);\n",
       "        var msg_type = msg['type'];\n",
       "\n",
       "        // Call the  \"handle_{type}\" callback, which takes\n",
       "        // the figure and JSON message as its only arguments.\n",
       "        try {\n",
       "            var callback = fig[\"handle_\" + msg_type];\n",
       "        } catch (e) {\n",
       "            console.log(\"No handler for the '\" + msg_type + \"' message type: \", msg);\n",
       "            return;\n",
       "        }\n",
       "\n",
       "        if (callback) {\n",
       "            try {\n",
       "                // console.log(\"Handling '\" + msg_type + \"' message: \", msg);\n",
       "                callback(fig, msg);\n",
       "            } catch (e) {\n",
       "                console.log(\"Exception inside the 'handler_\" + msg_type + \"' callback:\", e, e.stack, msg);\n",
       "            }\n",
       "        }\n",
       "    };\n",
       "}\n",
       "\n",
       "// from http://stackoverflow.com/questions/1114465/getting-mouse-location-in-canvas\n",
       "mpl.findpos = function(e) {\n",
       "    //this section is from http://www.quirksmode.org/js/events_properties.html\n",
       "    var targ;\n",
       "    if (!e)\n",
       "        e = window.event;\n",
       "    if (e.target)\n",
       "        targ = e.target;\n",
       "    else if (e.srcElement)\n",
       "        targ = e.srcElement;\n",
       "    if (targ.nodeType == 3) // defeat Safari bug\n",
       "        targ = targ.parentNode;\n",
       "\n",
       "    // jQuery normalizes the pageX and pageY\n",
       "    // pageX,Y are the mouse positions relative to the document\n",
       "    // offset() returns the position of the element relative to the document\n",
       "    var x = e.pageX - $(targ).offset().left;\n",
       "    var y = e.pageY - $(targ).offset().top;\n",
       "\n",
       "    return {\"x\": x, \"y\": y};\n",
       "};\n",
       "\n",
       "/*\n",
       " * return a copy of an object with only non-object keys\n",
       " * we need this to avoid circular references\n",
       " * http://stackoverflow.com/a/24161582/3208463\n",
       " */\n",
       "function simpleKeys (original) {\n",
       "  return Object.keys(original).reduce(function (obj, key) {\n",
       "    if (typeof original[key] !== 'object')\n",
       "        obj[key] = original[key]\n",
       "    return obj;\n",
       "  }, {});\n",
       "}\n",
       "\n",
       "mpl.figure.prototype.mouse_event = function(event, name) {\n",
       "    var canvas_pos = mpl.findpos(event)\n",
       "\n",
       "    if (name === 'button_press')\n",
       "    {\n",
       "        this.canvas.focus();\n",
       "        this.canvas_div.focus();\n",
       "    }\n",
       "\n",
       "    var x = canvas_pos.x * mpl.ratio;\n",
       "    var y = canvas_pos.y * mpl.ratio;\n",
       "\n",
       "    this.send_message(name, {x: x, y: y, button: event.button,\n",
       "                             step: event.step,\n",
       "                             guiEvent: simpleKeys(event)});\n",
       "\n",
       "    /* This prevents the web browser from automatically changing to\n",
       "     * the text insertion cursor when the button is pressed.  We want\n",
       "     * to control all of the cursor setting manually through the\n",
       "     * 'cursor' event from matplotlib */\n",
       "    event.preventDefault();\n",
       "    return false;\n",
       "}\n",
       "\n",
       "mpl.figure.prototype._key_event_extra = function(event, name) {\n",
       "    // Handle any extra behaviour associated with a key event\n",
       "}\n",
       "\n",
       "mpl.figure.prototype.key_event = function(event, name) {\n",
       "\n",
       "    // Prevent repeat events\n",
       "    if (name == 'key_press')\n",
       "    {\n",
       "        if (event.which === this._key)\n",
       "            return;\n",
       "        else\n",
       "            this._key = event.which;\n",
       "    }\n",
       "    if (name == 'key_release')\n",
       "        this._key = null;\n",
       "\n",
       "    var value = '';\n",
       "    if (event.ctrlKey && event.which != 17)\n",
       "        value += \"ctrl+\";\n",
       "    if (event.altKey && event.which != 18)\n",
       "        value += \"alt+\";\n",
       "    if (event.shiftKey && event.which != 16)\n",
       "        value += \"shift+\";\n",
       "\n",
       "    value += 'k';\n",
       "    value += event.which.toString();\n",
       "\n",
       "    this._key_event_extra(event, name);\n",
       "\n",
       "    this.send_message(name, {key: value,\n",
       "                             guiEvent: simpleKeys(event)});\n",
       "    return false;\n",
       "}\n",
       "\n",
       "mpl.figure.prototype.toolbar_button_onclick = function(name) {\n",
       "    if (name == 'download') {\n",
       "        this.handle_save(this, null);\n",
       "    } else {\n",
       "        this.send_message(\"toolbar_button\", {name: name});\n",
       "    }\n",
       "};\n",
       "\n",
       "mpl.figure.prototype.toolbar_button_onmouseover = function(tooltip) {\n",
       "    this.message.textContent = tooltip;\n",
       "};\n",
       "mpl.toolbar_items = [[\"Home\", \"Reset original view\", \"fa fa-home icon-home\", \"home\"], [\"Back\", \"Back to previous view\", \"fa fa-arrow-left icon-arrow-left\", \"back\"], [\"Forward\", \"Forward to next view\", \"fa fa-arrow-right icon-arrow-right\", \"forward\"], [\"\", \"\", \"\", \"\"], [\"Pan\", \"Pan axes with left mouse, zoom with right\", \"fa fa-arrows icon-move\", \"pan\"], [\"Zoom\", \"Zoom to rectangle\", \"fa fa-square-o icon-check-empty\", \"zoom\"], [\"\", \"\", \"\", \"\"], [\"Download\", \"Download plot\", \"fa fa-floppy-o icon-save\", \"download\"]];\n",
       "\n",
       "mpl.extensions = [\"eps\", \"jpeg\", \"pdf\", \"png\", \"ps\", \"raw\", \"svg\", \"tif\"];\n",
       "\n",
       "mpl.default_extension = \"png\";var comm_websocket_adapter = function(comm) {\n",
       "    // Create a \"websocket\"-like object which calls the given IPython comm\n",
       "    // object with the appropriate methods. Currently this is a non binary\n",
       "    // socket, so there is still some room for performance tuning.\n",
       "    var ws = {};\n",
       "\n",
       "    ws.close = function() {\n",
       "        comm.close()\n",
       "    };\n",
       "    ws.send = function(m) {\n",
       "        //console.log('sending', m);\n",
       "        comm.send(m);\n",
       "    };\n",
       "    // Register the callback with on_msg.\n",
       "    comm.on_msg(function(msg) {\n",
       "        //console.log('receiving', msg['content']['data'], msg);\n",
       "        // Pass the mpl event to the overridden (by mpl) onmessage function.\n",
       "        ws.onmessage(msg['content']['data'])\n",
       "    });\n",
       "    return ws;\n",
       "}\n",
       "\n",
       "mpl.mpl_figure_comm = function(comm, msg) {\n",
       "    // This is the function which gets called when the mpl process\n",
       "    // starts-up an IPython Comm through the \"matplotlib\" channel.\n",
       "\n",
       "    var id = msg.content.data.id;\n",
       "    // Get hold of the div created by the display call when the Comm\n",
       "    // socket was opened in Python.\n",
       "    var element = $(\"#\" + id);\n",
       "    var ws_proxy = comm_websocket_adapter(comm)\n",
       "\n",
       "    function ondownload(figure, format) {\n",
       "        window.open(figure.imageObj.src);\n",
       "    }\n",
       "\n",
       "    var fig = new mpl.figure(id, ws_proxy,\n",
       "                           ondownload,\n",
       "                           element.get(0));\n",
       "\n",
       "    // Call onopen now - mpl needs it, as it is assuming we've passed it a real\n",
       "    // web socket which is closed, not our websocket->open comm proxy.\n",
       "    ws_proxy.onopen();\n",
       "\n",
       "    fig.parent_element = element.get(0);\n",
       "    fig.cell_info = mpl.find_output_cell(\"<div id='\" + id + \"'></div>\");\n",
       "    if (!fig.cell_info) {\n",
       "        console.error(\"Failed to find cell for figure\", id, fig);\n",
       "        return;\n",
       "    }\n",
       "\n",
       "    var output_index = fig.cell_info[2]\n",
       "    var cell = fig.cell_info[0];\n",
       "\n",
       "};\n",
       "\n",
       "mpl.figure.prototype.handle_close = function(fig, msg) {\n",
       "    var width = fig.canvas.width/mpl.ratio\n",
       "    fig.root.unbind('remove')\n",
       "\n",
       "    // Update the output cell to use the data from the current canvas.\n",
       "    fig.push_to_output();\n",
       "    var dataURL = fig.canvas.toDataURL();\n",
       "    // Re-enable the keyboard manager in IPython - without this line, in FF,\n",
       "    // the notebook keyboard shortcuts fail.\n",
       "    IPython.keyboard_manager.enable()\n",
       "    $(fig.parent_element).html('<img src=\"' + dataURL + '\" width=\"' + width + '\">');\n",
       "    fig.close_ws(fig, msg);\n",
       "}\n",
       "\n",
       "mpl.figure.prototype.close_ws = function(fig, msg){\n",
       "    fig.send_message('closing', msg);\n",
       "    // fig.ws.close()\n",
       "}\n",
       "\n",
       "mpl.figure.prototype.push_to_output = function(remove_interactive) {\n",
       "    // Turn the data on the canvas into data in the output cell.\n",
       "    var width = this.canvas.width/mpl.ratio\n",
       "    var dataURL = this.canvas.toDataURL();\n",
       "    this.cell_info[1]['text/html'] = '<img src=\"' + dataURL + '\" width=\"' + width + '\">';\n",
       "}\n",
       "\n",
       "mpl.figure.prototype.updated_canvas_event = function() {\n",
       "    // Tell IPython that the notebook contents must change.\n",
       "    IPython.notebook.set_dirty(true);\n",
       "    this.send_message(\"ack\", {});\n",
       "    var fig = this;\n",
       "    // Wait a second, then push the new image to the DOM so\n",
       "    // that it is saved nicely (might be nice to debounce this).\n",
       "    setTimeout(function () { fig.push_to_output() }, 1000);\n",
       "}\n",
       "\n",
       "mpl.figure.prototype._init_toolbar = function() {\n",
       "    var fig = this;\n",
       "\n",
       "    var nav_element = $('<div/>');\n",
       "    nav_element.attr('style', 'width: 100%');\n",
       "    this.root.append(nav_element);\n",
       "\n",
       "    // Define a callback function for later on.\n",
       "    function toolbar_event(event) {\n",
       "        return fig.toolbar_button_onclick(event['data']);\n",
       "    }\n",
       "    function toolbar_mouse_event(event) {\n",
       "        return fig.toolbar_button_onmouseover(event['data']);\n",
       "    }\n",
       "\n",
       "    for(var toolbar_ind in mpl.toolbar_items){\n",
       "        var name = mpl.toolbar_items[toolbar_ind][0];\n",
       "        var tooltip = mpl.toolbar_items[toolbar_ind][1];\n",
       "        var image = mpl.toolbar_items[toolbar_ind][2];\n",
       "        var method_name = mpl.toolbar_items[toolbar_ind][3];\n",
       "\n",
       "        if (!name) { continue; };\n",
       "\n",
       "        var button = $('<button class=\"btn btn-default\" href=\"#\" title=\"' + name + '\"><i class=\"fa ' + image + ' fa-lg\"></i></button>');\n",
       "        button.click(method_name, toolbar_event);\n",
       "        button.mouseover(tooltip, toolbar_mouse_event);\n",
       "        nav_element.append(button);\n",
       "    }\n",
       "\n",
       "    // Add the status bar.\n",
       "    var status_bar = $('<span class=\"mpl-message\" style=\"text-align:right; float: right;\"/>');\n",
       "    nav_element.append(status_bar);\n",
       "    this.message = status_bar[0];\n",
       "\n",
       "    // Add the close button to the window.\n",
       "    var buttongrp = $('<div class=\"btn-group inline pull-right\"></div>');\n",
       "    var button = $('<button class=\"btn btn-mini btn-primary\" href=\"#\" title=\"Stop Interaction\"><i class=\"fa fa-power-off icon-remove icon-large\"></i></button>');\n",
       "    button.click(function (evt) { fig.handle_close(fig, {}); } );\n",
       "    button.mouseover('Stop Interaction', toolbar_mouse_event);\n",
       "    buttongrp.append(button);\n",
       "    var titlebar = this.root.find($('.ui-dialog-titlebar'));\n",
       "    titlebar.prepend(buttongrp);\n",
       "}\n",
       "\n",
       "mpl.figure.prototype._root_extra_style = function(el){\n",
       "    var fig = this\n",
       "    el.on(\"remove\", function(){\n",
       "\tfig.close_ws(fig, {});\n",
       "    });\n",
       "}\n",
       "\n",
       "mpl.figure.prototype._canvas_extra_style = function(el){\n",
       "    // this is important to make the div 'focusable\n",
       "    el.attr('tabindex', 0)\n",
       "    // reach out to IPython and tell the keyboard manager to turn it's self\n",
       "    // off when our div gets focus\n",
       "\n",
       "    // location in version 3\n",
       "    if (IPython.notebook.keyboard_manager) {\n",
       "        IPython.notebook.keyboard_manager.register_events(el);\n",
       "    }\n",
       "    else {\n",
       "        // location in version 2\n",
       "        IPython.keyboard_manager.register_events(el);\n",
       "    }\n",
       "\n",
       "}\n",
       "\n",
       "mpl.figure.prototype._key_event_extra = function(event, name) {\n",
       "    var manager = IPython.notebook.keyboard_manager;\n",
       "    if (!manager)\n",
       "        manager = IPython.keyboard_manager;\n",
       "\n",
       "    // Check for shift+enter\n",
       "    if (event.shiftKey && event.which == 13) {\n",
       "        this.canvas_div.blur();\n",
       "        // select the cell after this one\n",
       "        var index = IPython.notebook.find_cell_index(this.cell_info[0]);\n",
       "        IPython.notebook.select(index + 1);\n",
       "    }\n",
       "}\n",
       "\n",
       "mpl.figure.prototype.handle_save = function(fig, msg) {\n",
       "    fig.ondownload(fig, null);\n",
       "}\n",
       "\n",
       "\n",
       "mpl.find_output_cell = function(html_output) {\n",
       "    // Return the cell and output element which can be found *uniquely* in the notebook.\n",
       "    // Note - this is a bit hacky, but it is done because the \"notebook_saving.Notebook\"\n",
       "    // IPython event is triggered only after the cells have been serialised, which for\n",
       "    // our purposes (turning an active figure into a static one), is too late.\n",
       "    var cells = IPython.notebook.get_cells();\n",
       "    var ncells = cells.length;\n",
       "    for (var i=0; i<ncells; i++) {\n",
       "        var cell = cells[i];\n",
       "        if (cell.cell_type === 'code'){\n",
       "            for (var j=0; j<cell.output_area.outputs.length; j++) {\n",
       "                var data = cell.output_area.outputs[j];\n",
       "                if (data.data) {\n",
       "                    // IPython >= 3 moved mimebundle to data attribute of output\n",
       "                    data = data.data;\n",
       "                }\n",
       "                if (data['text/html'] == html_output) {\n",
       "                    return [cell, data, j];\n",
       "                }\n",
       "            }\n",
       "        }\n",
       "    }\n",
       "}\n",
       "\n",
       "// Register the function which deals with the matplotlib target/channel.\n",
       "// The kernel may be null if the page has been refreshed.\n",
       "if (IPython.notebook.kernel != null) {\n",
       "    IPython.notebook.kernel.comm_manager.register_target('matplotlib', mpl.mpl_figure_comm);\n",
       "}\n"
      ],
      "text/plain": [
       "<IPython.core.display.Javascript object>"
      ]
     },
     "metadata": {},
     "output_type": "display_data"
    },
    {
     "data": {
      "text/html": [
       "<img src=\"data:image/png;base64,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\" width=\"1000\">"
      ],
      "text/plain": [
       "<IPython.core.display.HTML object>"
      ]
     },
     "metadata": {},
     "output_type": "display_data"
    }
   ],
   "source": [
    "ax, tax, lax, lines = dual_train_plots()\n",
    "fig = ax.figure\n",
    "plt.tight_layout()"
   ]
  },
  {
   "cell_type": "code",
   "execution_count": 17,
   "metadata": {
    "scrolled": false
   },
   "outputs": [
    {
     "name": "stdout",
     "output_type": "stream",
     "text": [
      "Number of batches: train = 282, val = 32\n"
     ]
    },
    {
     "data": {
      "application/vnd.jupyter.widget-view+json": {
       "model_id": "f428880e9ba646ce9d07f7d27a82c2e2",
       "version_major": 2,
       "version_minor": 0
      },
      "text/plain": [
       "HBox(children=(FloatProgress(value=0.0, description='Epochs', layout=Layout(flex='2'), style=ProgressStyle(des…"
      ]
     },
     "metadata": {},
     "output_type": "display_data"
    },
    {
     "name": "stdout",
     "output_type": "stream",
     "text": [
      "Number of batches: train = 282, val = 32\n"
     ]
    },
    {
     "data": {
      "application/vnd.jupyter.widget-view+json": {
       "model_id": "",
       "version_major": 2,
       "version_minor": 0
      },
      "text/plain": [
       "HBox(children=(FloatProgress(value=0.0, description='Training', layout=Layout(flex='2'), max=282.0, style=Prog…"
      ]
     },
     "metadata": {},
     "output_type": "display_data"
    },
    {
     "name": "stdout",
     "output_type": "stream",
     "text": [
      "Epoch 0: train=2.23318, val=2.1659, took 9.9198 s\n"
     ]
    },
    {
     "data": {
      "application/vnd.jupyter.widget-view+json": {
       "model_id": "",
       "version_major": 2,
       "version_minor": 0
      },
      "text/plain": [
       "HBox(children=(FloatProgress(value=0.0, description='Training', layout=Layout(flex='2'), max=282.0, style=Prog…"
      ]
     },
     "metadata": {},
     "output_type": "display_data"
    },
    {
     "name": "stdout",
     "output_type": "stream",
     "text": [
      "Epoch 1: train=2.15302, val=2.17918, took 9.3577 s\n"
     ]
    },
    {
     "data": {
      "application/vnd.jupyter.widget-view+json": {
       "model_id": "",
       "version_major": 2,
       "version_minor": 0
      },
      "text/plain": [
       "HBox(children=(FloatProgress(value=0.0, description='Training', layout=Layout(flex='2'), max=282.0, style=Prog…"
      ]
     },
     "metadata": {},
     "output_type": "display_data"
    },
    {
     "name": "stdout",
     "output_type": "stream",
     "text": [
      "Epoch 2: train=2.15393, val=2.15305, took 9.3623 s\n"
     ]
    },
    {
     "data": {
      "application/vnd.jupyter.widget-view+json": {
       "model_id": "",
       "version_major": 2,
       "version_minor": 0
      },
      "text/plain": [
       "HBox(children=(FloatProgress(value=0.0, description='Training', layout=Layout(flex='2'), max=282.0, style=Prog…"
      ]
     },
     "metadata": {},
     "output_type": "display_data"
    },
    {
     "name": "stdout",
     "output_type": "stream",
     "text": [
      "Epoch 3: train=2.15206, val=2.16274, took 9.2183 s\n"
     ]
    },
    {
     "data": {
      "application/vnd.jupyter.widget-view+json": {
       "model_id": "",
       "version_major": 2,
       "version_minor": 0
      },
      "text/plain": [
       "HBox(children=(FloatProgress(value=0.0, description='Training', layout=Layout(flex='2'), max=282.0, style=Prog…"
      ]
     },
     "metadata": {},
     "output_type": "display_data"
    },
    {
     "name": "stdout",
     "output_type": "stream",
     "text": [
      "Epoch 4: train=2.14959, val=2.15052, took 9.2537 s\n"
     ]
    },
    {
     "data": {
      "application/vnd.jupyter.widget-view+json": {
       "model_id": "",
       "version_major": 2,
       "version_minor": 0
      },
      "text/plain": [
       "HBox(children=(FloatProgress(value=0.0, description='Training', layout=Layout(flex='2'), max=282.0, style=Prog…"
      ]
     },
     "metadata": {},
     "output_type": "display_data"
    },
    {
     "name": "stdout",
     "output_type": "stream",
     "text": [
      "Epoch 5: train=2.14767, val=2.14951, took 9.141 s\n"
     ]
    },
    {
     "data": {
      "application/vnd.jupyter.widget-view+json": {
       "model_id": "",
       "version_major": 2,
       "version_minor": 0
      },
      "text/plain": [
       "HBox(children=(FloatProgress(value=0.0, description='Training', layout=Layout(flex='2'), max=282.0, style=Prog…"
      ]
     },
     "metadata": {},
     "output_type": "display_data"
    },
    {
     "name": "stdout",
     "output_type": "stream",
     "text": [
      "Epoch 6: train=2.14612, val=2.15731, took 8.8344 s\n"
     ]
    },
    {
     "data": {
      "application/vnd.jupyter.widget-view+json": {
       "model_id": "",
       "version_major": 2,
       "version_minor": 0
      },
      "text/plain": [
       "HBox(children=(FloatProgress(value=0.0, description='Training', layout=Layout(flex='2'), max=282.0, style=Prog…"
      ]
     },
     "metadata": {},
     "output_type": "display_data"
    },
    {
     "name": "stdout",
     "output_type": "stream",
     "text": [
      "Epoch 7: train=2.14138, val=2.14351, took 9.0591 s\n"
     ]
    },
    {
     "data": {
      "application/vnd.jupyter.widget-view+json": {
       "model_id": "",
       "version_major": 2,
       "version_minor": 0
      },
      "text/plain": [
       "HBox(children=(FloatProgress(value=0.0, description='Training', layout=Layout(flex='2'), max=282.0, style=Prog…"
      ]
     },
     "metadata": {},
     "output_type": "display_data"
    },
    {
     "name": "stdout",
     "output_type": "stream",
     "text": [
      "Epoch 8: train=2.14077, val=2.14098, took 8.9942 s\n"
     ]
    },
    {
     "data": {
      "application/vnd.jupyter.widget-view+json": {
       "model_id": "",
       "version_major": 2,
       "version_minor": 0
      },
      "text/plain": [
       "HBox(children=(FloatProgress(value=0.0, description='Training', layout=Layout(flex='2'), max=282.0, style=Prog…"
      ]
     },
     "metadata": {},
     "output_type": "display_data"
    },
    {
     "name": "stdout",
     "output_type": "stream",
     "text": [
      "Epoch 9: train=2.14023, val=2.14026, took 9.3397 s\n"
     ]
    },
    {
     "data": {
      "application/vnd.jupyter.widget-view+json": {
       "model_id": "",
       "version_major": 2,
       "version_minor": 0
      },
      "text/plain": [
       "HBox(children=(FloatProgress(value=0.0, description='Training', layout=Layout(flex='2'), max=282.0, style=Prog…"
      ]
     },
     "metadata": {},
     "output_type": "display_data"
    },
    {
     "name": "stdout",
     "output_type": "stream",
     "text": [
      "Epoch 10: train=2.13777, val=2.14008, took 8.8613 s\n"
     ]
    },
    {
     "data": {
      "application/vnd.jupyter.widget-view+json": {
       "model_id": "",
       "version_major": 2,
       "version_minor": 0
      },
      "text/plain": [
       "HBox(children=(FloatProgress(value=0.0, description='Training', layout=Layout(flex='2'), max=282.0, style=Prog…"
      ]
     },
     "metadata": {},
     "output_type": "display_data"
    },
    {
     "name": "stdout",
     "output_type": "stream",
     "text": [
      "Epoch 11: train=2.13745, val=2.14811, took 9.1206 s\n"
     ]
    },
    {
     "data": {
      "application/vnd.jupyter.widget-view+json": {
       "model_id": "",
       "version_major": 2,
       "version_minor": 0
      },
      "text/plain": [
       "HBox(children=(FloatProgress(value=0.0, description='Training', layout=Layout(flex='2'), max=282.0, style=Prog…"
      ]
     },
     "metadata": {},
     "output_type": "display_data"
    },
    {
     "name": "stdout",
     "output_type": "stream",
     "text": [
      "Epoch 12: train=2.13322, val=2.14608, took 9.1292 s\n"
     ]
    },
    {
     "data": {
      "application/vnd.jupyter.widget-view+json": {
       "model_id": "",
       "version_major": 2,
       "version_minor": 0
      },
      "text/plain": [
       "HBox(children=(FloatProgress(value=0.0, description='Training', layout=Layout(flex='2'), max=282.0, style=Prog…"
      ]
     },
     "metadata": {},
     "output_type": "display_data"
    },
    {
     "name": "stdout",
     "output_type": "stream",
     "text": [
      "Epoch 13: train=2.13336, val=2.14917, took 8.5789 s\n"
     ]
    },
    {
     "data": {
      "application/vnd.jupyter.widget-view+json": {
       "model_id": "",
       "version_major": 2,
       "version_minor": 0
      },
      "text/plain": [
       "HBox(children=(FloatProgress(value=0.0, description='Training', layout=Layout(flex='2'), max=282.0, style=Prog…"
      ]
     },
     "metadata": {},
     "output_type": "display_data"
    },
    {
     "name": "stdout",
     "output_type": "stream",
     "text": [
      "Epoch 14: train=2.12544, val=2.12346, took 8.586 s\n"
     ]
    },
    {
     "data": {
      "application/vnd.jupyter.widget-view+json": {
       "model_id": "",
       "version_major": 2,
       "version_minor": 0
      },
      "text/plain": [
       "HBox(children=(FloatProgress(value=0.0, description='Training', layout=Layout(flex='2'), max=282.0, style=Prog…"
      ]
     },
     "metadata": {},
     "output_type": "display_data"
    },
    {
     "name": "stdout",
     "output_type": "stream",
     "text": [
      "Epoch 15: train=2.12755, val=2.12178, took 8.6625 s\n"
     ]
    },
    {
     "data": {
      "application/vnd.jupyter.widget-view+json": {
       "model_id": "",
       "version_major": 2,
       "version_minor": 0
      },
      "text/plain": [
       "HBox(children=(FloatProgress(value=0.0, description='Training', layout=Layout(flex='2'), max=282.0, style=Prog…"
      ]
     },
     "metadata": {},
     "output_type": "display_data"
    },
    {
     "name": "stdout",
     "output_type": "stream",
     "text": [
      "Epoch 16: train=2.12851, val=2.12274, took 8.6568 s\n"
     ]
    },
    {
     "data": {
      "application/vnd.jupyter.widget-view+json": {
       "model_id": "",
       "version_major": 2,
       "version_minor": 0
      },
      "text/plain": [
       "HBox(children=(FloatProgress(value=0.0, description='Training', layout=Layout(flex='2'), max=282.0, style=Prog…"
      ]
     },
     "metadata": {},
     "output_type": "display_data"
    },
    {
     "name": "stdout",
     "output_type": "stream",
     "text": [
      "Epoch 17: train=2.12503, val=2.11998, took 8.7624 s\n"
     ]
    },
    {
     "data": {
      "application/vnd.jupyter.widget-view+json": {
       "model_id": "",
       "version_major": 2,
       "version_minor": 0
      },
      "text/plain": [
       "HBox(children=(FloatProgress(value=0.0, description='Training', layout=Layout(flex='2'), max=282.0, style=Prog…"
      ]
     },
     "metadata": {},
     "output_type": "display_data"
    },
    {
     "name": "stdout",
     "output_type": "stream",
     "text": [
      "Epoch 18: train=2.12178, val=2.11663, took 8.7325 s\n"
     ]
    },
    {
     "data": {
      "application/vnd.jupyter.widget-view+json": {
       "model_id": "",
       "version_major": 2,
       "version_minor": 0
      },
      "text/plain": [
       "HBox(children=(FloatProgress(value=0.0, description='Training', layout=Layout(flex='2'), max=282.0, style=Prog…"
      ]
     },
     "metadata": {},
     "output_type": "display_data"
    },
    {
     "name": "stdout",
     "output_type": "stream",
     "text": [
      "Epoch 19: train=2.12699, val=2.1392, took 8.9597 s\n"
     ]
    },
    {
     "data": {
      "application/vnd.jupyter.widget-view+json": {
       "model_id": "",
       "version_major": 2,
       "version_minor": 0
      },
      "text/plain": [
       "HBox(children=(FloatProgress(value=0.0, description='Training', layout=Layout(flex='2'), max=282.0, style=Prog…"
      ]
     },
     "metadata": {},
     "output_type": "display_data"
    },
    {
     "name": "stdout",
     "output_type": "stream",
     "text": [
      "Epoch 20: train=2.11781, val=2.11604, took 8.8502 s\n"
     ]
    },
    {
     "data": {
      "application/vnd.jupyter.widget-view+json": {
       "model_id": "",
       "version_major": 2,
       "version_minor": 0
      },
      "text/plain": [
       "HBox(children=(FloatProgress(value=0.0, description='Training', layout=Layout(flex='2'), max=282.0, style=Prog…"
      ]
     },
     "metadata": {},
     "output_type": "display_data"
    },
    {
     "name": "stdout",
     "output_type": "stream",
     "text": [
      "Epoch 21: train=2.11898, val=2.11702, took 8.6491 s\n"
     ]
    },
    {
     "data": {
      "application/vnd.jupyter.widget-view+json": {
       "model_id": "",
       "version_major": 2,
       "version_minor": 0
      },
      "text/plain": [
       "HBox(children=(FloatProgress(value=0.0, description='Training', layout=Layout(flex='2'), max=282.0, style=Prog…"
      ]
     },
     "metadata": {},
     "output_type": "display_data"
    },
    {
     "name": "stdout",
     "output_type": "stream",
     "text": [
      "Epoch 22: train=2.11879, val=2.10977, took 8.6722 s\n"
     ]
    },
    {
     "data": {
      "application/vnd.jupyter.widget-view+json": {
       "model_id": "",
       "version_major": 2,
       "version_minor": 0
      },
      "text/plain": [
       "HBox(children=(FloatProgress(value=0.0, description='Training', layout=Layout(flex='2'), max=282.0, style=Prog…"
      ]
     },
     "metadata": {},
     "output_type": "display_data"
    },
    {
     "name": "stdout",
     "output_type": "stream",
     "text": [
      "Epoch 23: train=2.11399, val=2.10873, took 8.9213 s\n"
     ]
    },
    {
     "data": {
      "application/vnd.jupyter.widget-view+json": {
       "model_id": "",
       "version_major": 2,
       "version_minor": 0
      },
      "text/plain": [
       "HBox(children=(FloatProgress(value=0.0, description='Training', layout=Layout(flex='2'), max=282.0, style=Prog…"
      ]
     },
     "metadata": {},
     "output_type": "display_data"
    },
    {
     "name": "stdout",
     "output_type": "stream",
     "text": [
      "Epoch 24: train=2.11327, val=2.10923, took 8.6931 s\n"
     ]
    },
    {
     "data": {
      "application/vnd.jupyter.widget-view+json": {
       "model_id": "",
       "version_major": 2,
       "version_minor": 0
      },
      "text/plain": [
       "HBox(children=(FloatProgress(value=0.0, description='Training', layout=Layout(flex='2'), max=282.0, style=Prog…"
      ]
     },
     "metadata": {},
     "output_type": "display_data"
    },
    {
     "name": "stdout",
     "output_type": "stream",
     "text": [
      "Epoch 25: train=2.11388, val=2.10456, took 8.8108 s\n"
     ]
    },
    {
     "data": {
      "application/vnd.jupyter.widget-view+json": {
       "model_id": "",
       "version_major": 2,
       "version_minor": 0
      },
      "text/plain": [
       "HBox(children=(FloatProgress(value=0.0, description='Training', layout=Layout(flex='2'), max=282.0, style=Prog…"
      ]
     },
     "metadata": {},
     "output_type": "display_data"
    },
    {
     "name": "stdout",
     "output_type": "stream",
     "text": [
      "Epoch 26: train=2.1082, val=2.11004, took 8.8713 s\n"
     ]
    },
    {
     "data": {
      "application/vnd.jupyter.widget-view+json": {
       "model_id": "",
       "version_major": 2,
       "version_minor": 0
      },
      "text/plain": [
       "HBox(children=(FloatProgress(value=0.0, description='Training', layout=Layout(flex='2'), max=282.0, style=Prog…"
      ]
     },
     "metadata": {},
     "output_type": "display_data"
    },
    {
     "name": "stdout",
     "output_type": "stream",
     "text": [
      "Epoch 27: train=2.11109, val=2.10247, took 8.7075 s\n"
     ]
    },
    {
     "data": {
      "application/vnd.jupyter.widget-view+json": {
       "model_id": "",
       "version_major": 2,
       "version_minor": 0
      },
      "text/plain": [
       "HBox(children=(FloatProgress(value=0.0, description='Training', layout=Layout(flex='2'), max=282.0, style=Prog…"
      ]
     },
     "metadata": {},
     "output_type": "display_data"
    },
    {
     "name": "stdout",
     "output_type": "stream",
     "text": [
      "Epoch 28: train=2.10526, val=2.10375, took 8.7066 s\n"
     ]
    },
    {
     "data": {
      "application/vnd.jupyter.widget-view+json": {
       "model_id": "",
       "version_major": 2,
       "version_minor": 0
      },
      "text/plain": [
       "HBox(children=(FloatProgress(value=0.0, description='Training', layout=Layout(flex='2'), max=282.0, style=Prog…"
      ]
     },
     "metadata": {},
     "output_type": "display_data"
    },
    {
     "name": "stdout",
     "output_type": "stream",
     "text": [
      "Epoch 29: train=2.10774, val=2.10364, took 8.7552 s\n"
     ]
    },
    {
     "data": {
      "application/vnd.jupyter.widget-view+json": {
       "model_id": "",
       "version_major": 2,
       "version_minor": 0
      },
      "text/plain": [
       "HBox(children=(FloatProgress(value=0.0, description='Training', layout=Layout(flex='2'), max=282.0, style=Prog…"
      ]
     },
     "metadata": {},
     "output_type": "display_data"
    },
    {
     "name": "stdout",
     "output_type": "stream",
     "text": [
      "Epoch 30: train=2.10493, val=2.10375, took 8.8668 s\n"
     ]
    },
    {
     "data": {
      "application/vnd.jupyter.widget-view+json": {
       "model_id": "",
       "version_major": 2,
       "version_minor": 0
      },
      "text/plain": [
       "HBox(children=(FloatProgress(value=0.0, description='Training', layout=Layout(flex='2'), max=282.0, style=Prog…"
      ]
     },
     "metadata": {},
     "output_type": "display_data"
    },
    {
     "name": "stdout",
     "output_type": "stream",
     "text": [
      "Epoch 31: train=2.10325, val=2.09822, took 8.832 s\n"
     ]
    },
    {
     "data": {
      "application/vnd.jupyter.widget-view+json": {
       "model_id": "",
       "version_major": 2,
       "version_minor": 0
      },
      "text/plain": [
       "HBox(children=(FloatProgress(value=0.0, description='Training', layout=Layout(flex='2'), max=282.0, style=Prog…"
      ]
     },
     "metadata": {},
     "output_type": "display_data"
    },
    {
     "name": "stdout",
     "output_type": "stream",
     "text": [
      "Epoch 32: train=2.103, val=2.09614, took 8.6272 s\n"
     ]
    },
    {
     "data": {
      "application/vnd.jupyter.widget-view+json": {
       "model_id": "",
       "version_major": 2,
       "version_minor": 0
      },
      "text/plain": [
       "HBox(children=(FloatProgress(value=0.0, description='Training', layout=Layout(flex='2'), max=282.0, style=Prog…"
      ]
     },
     "metadata": {},
     "output_type": "display_data"
    },
    {
     "name": "stdout",
     "output_type": "stream",
     "text": [
      "Epoch 33: train=2.09963, val=2.0917, took 8.5777 s\n"
     ]
    },
    {
     "data": {
      "application/vnd.jupyter.widget-view+json": {
       "model_id": "",
       "version_major": 2,
       "version_minor": 0
      },
      "text/plain": [
       "HBox(children=(FloatProgress(value=0.0, description='Training', layout=Layout(flex='2'), max=282.0, style=Prog…"
      ]
     },
     "metadata": {},
     "output_type": "display_data"
    },
    {
     "name": "stdout",
     "output_type": "stream",
     "text": [
      "Epoch 34: train=2.09753, val=2.09833, took 8.5799 s\n"
     ]
    },
    {
     "data": {
      "application/vnd.jupyter.widget-view+json": {
       "model_id": "",
       "version_major": 2,
       "version_minor": 0
      },
      "text/plain": [
       "HBox(children=(FloatProgress(value=0.0, description='Training', layout=Layout(flex='2'), max=282.0, style=Prog…"
      ]
     },
     "metadata": {},
     "output_type": "display_data"
    },
    {
     "name": "stdout",
     "output_type": "stream",
     "text": [
      "Epoch 35: train=2.09903, val=2.0946, took 8.7854 s\n"
     ]
    },
    {
     "data": {
      "application/vnd.jupyter.widget-view+json": {
       "model_id": "",
       "version_major": 2,
       "version_minor": 0
      },
      "text/plain": [
       "HBox(children=(FloatProgress(value=0.0, description='Training', layout=Layout(flex='2'), max=282.0, style=Prog…"
      ]
     },
     "metadata": {},
     "output_type": "display_data"
    },
    {
     "name": "stdout",
     "output_type": "stream",
     "text": [
      "Epoch 36: train=2.09552, val=2.09631, took 9.0013 s\n"
     ]
    },
    {
     "data": {
      "application/vnd.jupyter.widget-view+json": {
       "model_id": "",
       "version_major": 2,
       "version_minor": 0
      },
      "text/plain": [
       "HBox(children=(FloatProgress(value=0.0, description='Training', layout=Layout(flex='2'), max=282.0, style=Prog…"
      ]
     },
     "metadata": {},
     "output_type": "display_data"
    },
    {
     "name": "stdout",
     "output_type": "stream",
     "text": [
      "Epoch 37: train=2.09441, val=2.08815, took 8.8676 s\n"
     ]
    },
    {
     "data": {
      "application/vnd.jupyter.widget-view+json": {
       "model_id": "",
       "version_major": 2,
       "version_minor": 0
      },
      "text/plain": [
       "HBox(children=(FloatProgress(value=0.0, description='Training', layout=Layout(flex='2'), max=282.0, style=Prog…"
      ]
     },
     "metadata": {},
     "output_type": "display_data"
    },
    {
     "name": "stdout",
     "output_type": "stream",
     "text": [
      "Epoch 38: train=2.09242, val=2.09654, took 8.6179 s\n"
     ]
    },
    {
     "data": {
      "application/vnd.jupyter.widget-view+json": {
       "model_id": "",
       "version_major": 2,
       "version_minor": 0
      },
      "text/plain": [
       "HBox(children=(FloatProgress(value=0.0, description='Training', layout=Layout(flex='2'), max=282.0, style=Prog…"
      ]
     },
     "metadata": {},
     "output_type": "display_data"
    },
    {
     "name": "stdout",
     "output_type": "stream",
     "text": [
      "Epoch 39: train=2.09228, val=2.08295, took 8.8148 s\n"
     ]
    },
    {
     "data": {
      "application/vnd.jupyter.widget-view+json": {
       "model_id": "",
       "version_major": 2,
       "version_minor": 0
      },
      "text/plain": [
       "HBox(children=(FloatProgress(value=0.0, description='Training', layout=Layout(flex='2'), max=282.0, style=Prog…"
      ]
     },
     "metadata": {},
     "output_type": "display_data"
    },
    {
     "name": "stdout",
     "output_type": "stream",
     "text": [
      "Epoch 40: train=2.09227, val=2.09114, took 8.7875 s\n"
     ]
    },
    {
     "data": {
      "application/vnd.jupyter.widget-view+json": {
       "model_id": "",
       "version_major": 2,
       "version_minor": 0
      },
      "text/plain": [
       "HBox(children=(FloatProgress(value=0.0, description='Training', layout=Layout(flex='2'), max=282.0, style=Prog…"
      ]
     },
     "metadata": {},
     "output_type": "display_data"
    },
    {
     "name": "stdout",
     "output_type": "stream",
     "text": [
      "Epoch 41: train=2.0878, val=2.08117, took 8.7927 s\n"
     ]
    },
    {
     "data": {
      "application/vnd.jupyter.widget-view+json": {
       "model_id": "",
       "version_major": 2,
       "version_minor": 0
      },
      "text/plain": [
       "HBox(children=(FloatProgress(value=0.0, description='Training', layout=Layout(flex='2'), max=282.0, style=Prog…"
      ]
     },
     "metadata": {},
     "output_type": "display_data"
    },
    {
     "name": "stdout",
     "output_type": "stream",
     "text": [
      "Epoch 42: train=2.08612, val=2.07897, took 8.6228 s\n"
     ]
    },
    {
     "data": {
      "application/vnd.jupyter.widget-view+json": {
       "model_id": "",
       "version_major": 2,
       "version_minor": 0
      },
      "text/plain": [
       "HBox(children=(FloatProgress(value=0.0, description='Training', layout=Layout(flex='2'), max=282.0, style=Prog…"
      ]
     },
     "metadata": {},
     "output_type": "display_data"
    },
    {
     "name": "stdout",
     "output_type": "stream",
     "text": [
      "Epoch 43: train=2.08595, val=2.07831, took 8.6177 s\n"
     ]
    },
    {
     "data": {
      "application/vnd.jupyter.widget-view+json": {
       "model_id": "",
       "version_major": 2,
       "version_minor": 0
      },
      "text/plain": [
       "HBox(children=(FloatProgress(value=0.0, description='Training', layout=Layout(flex='2'), max=282.0, style=Prog…"
      ]
     },
     "metadata": {},
     "output_type": "display_data"
    },
    {
     "name": "stdout",
     "output_type": "stream",
     "text": [
      "Epoch 44: train=2.07996, val=2.08561, took 8.6813 s\n"
     ]
    },
    {
     "data": {
      "application/vnd.jupyter.widget-view+json": {
       "model_id": "",
       "version_major": 2,
       "version_minor": 0
      },
      "text/plain": [
       "HBox(children=(FloatProgress(value=0.0, description='Training', layout=Layout(flex='2'), max=282.0, style=Prog…"
      ]
     },
     "metadata": {},
     "output_type": "display_data"
    },
    {
     "name": "stdout",
     "output_type": "stream",
     "text": [
      "Epoch 45: train=2.08546, val=2.07733, took 8.6764 s\n"
     ]
    },
    {
     "data": {
      "application/vnd.jupyter.widget-view+json": {
       "model_id": "",
       "version_major": 2,
       "version_minor": 0
      },
      "text/plain": [
       "HBox(children=(FloatProgress(value=0.0, description='Training', layout=Layout(flex='2'), max=282.0, style=Prog…"
      ]
     },
     "metadata": {},
     "output_type": "display_data"
    },
    {
     "name": "stdout",
     "output_type": "stream",
     "text": [
      "Epoch 46: train=2.08104, val=2.07428, took 8.959 s\n"
     ]
    },
    {
     "data": {
      "application/vnd.jupyter.widget-view+json": {
       "model_id": "",
       "version_major": 2,
       "version_minor": 0
      },
      "text/plain": [
       "HBox(children=(FloatProgress(value=0.0, description='Training', layout=Layout(flex='2'), max=282.0, style=Prog…"
      ]
     },
     "metadata": {},
     "output_type": "display_data"
    },
    {
     "name": "stdout",
     "output_type": "stream",
     "text": [
      "Epoch 47: train=2.0787, val=2.07695, took 8.7213 s\n"
     ]
    },
    {
     "data": {
      "application/vnd.jupyter.widget-view+json": {
       "model_id": "",
       "version_major": 2,
       "version_minor": 0
      },
      "text/plain": [
       "HBox(children=(FloatProgress(value=0.0, description='Training', layout=Layout(flex='2'), max=282.0, style=Prog…"
      ]
     },
     "metadata": {},
     "output_type": "display_data"
    },
    {
     "name": "stdout",
     "output_type": "stream",
     "text": [
      "Epoch 48: train=2.07893, val=2.07251, took 8.7678 s\n"
     ]
    },
    {
     "data": {
      "application/vnd.jupyter.widget-view+json": {
       "model_id": "",
       "version_major": 2,
       "version_minor": 0
      },
      "text/plain": [
       "HBox(children=(FloatProgress(value=0.0, description='Training', layout=Layout(flex='2'), max=282.0, style=Prog…"
      ]
     },
     "metadata": {},
     "output_type": "display_data"
    },
    {
     "name": "stdout",
     "output_type": "stream",
     "text": [
      "Epoch 49: train=2.07664, val=2.07446, took 8.9032 s\n"
     ]
    },
    {
     "data": {
      "application/vnd.jupyter.widget-view+json": {
       "model_id": "",
       "version_major": 2,
       "version_minor": 0
      },
      "text/plain": [
       "HBox(children=(FloatProgress(value=0.0, description='Training', layout=Layout(flex='2'), max=282.0, style=Prog…"
      ]
     },
     "metadata": {},
     "output_type": "display_data"
    },
    {
     "name": "stdout",
     "output_type": "stream",
     "text": [
      "Epoch 50: train=2.07959, val=2.10018, took 8.7833 s\n"
     ]
    },
    {
     "data": {
      "application/vnd.jupyter.widget-view+json": {
       "model_id": "",
       "version_major": 2,
       "version_minor": 0
      },
      "text/plain": [
       "HBox(children=(FloatProgress(value=0.0, description='Training', layout=Layout(flex='2'), max=282.0, style=Prog…"
      ]
     },
     "metadata": {},
     "output_type": "display_data"
    },
    {
     "name": "stdout",
     "output_type": "stream",
     "text": [
      "Epoch 51: train=2.07488, val=2.07229, took 8.9018 s\n"
     ]
    },
    {
     "data": {
      "application/vnd.jupyter.widget-view+json": {
       "model_id": "",
       "version_major": 2,
       "version_minor": 0
      },
      "text/plain": [
       "HBox(children=(FloatProgress(value=0.0, description='Training', layout=Layout(flex='2'), max=282.0, style=Prog…"
      ]
     },
     "metadata": {},
     "output_type": "display_data"
    },
    {
     "name": "stdout",
     "output_type": "stream",
     "text": [
      "Epoch 52: train=2.07032, val=2.06694, took 9.0684 s\n"
     ]
    },
    {
     "data": {
      "application/vnd.jupyter.widget-view+json": {
       "model_id": "",
       "version_major": 2,
       "version_minor": 0
      },
      "text/plain": [
       "HBox(children=(FloatProgress(value=0.0, description='Training', layout=Layout(flex='2'), max=282.0, style=Prog…"
      ]
     },
     "metadata": {},
     "output_type": "display_data"
    },
    {
     "name": "stdout",
     "output_type": "stream",
     "text": [
      "Epoch 53: train=2.06836, val=2.08519, took 8.7569 s\n"
     ]
    },
    {
     "data": {
      "application/vnd.jupyter.widget-view+json": {
       "model_id": "",
       "version_major": 2,
       "version_minor": 0
      },
      "text/plain": [
       "HBox(children=(FloatProgress(value=0.0, description='Training', layout=Layout(flex='2'), max=282.0, style=Prog…"
      ]
     },
     "metadata": {},
     "output_type": "display_data"
    },
    {
     "name": "stdout",
     "output_type": "stream",
     "text": [
      "Epoch 54: train=2.06988, val=2.07492, took 8.7457 s\n"
     ]
    },
    {
     "data": {
      "application/vnd.jupyter.widget-view+json": {
       "model_id": "",
       "version_major": 2,
       "version_minor": 0
      },
      "text/plain": [
       "HBox(children=(FloatProgress(value=0.0, description='Training', layout=Layout(flex='2'), max=282.0, style=Prog…"
      ]
     },
     "metadata": {},
     "output_type": "display_data"
    },
    {
     "name": "stdout",
     "output_type": "stream",
     "text": [
      "Epoch 55: train=2.06957, val=2.06816, took 8.7482 s\n"
     ]
    },
    {
     "data": {
      "application/vnd.jupyter.widget-view+json": {
       "model_id": "",
       "version_major": 2,
       "version_minor": 0
      },
      "text/plain": [
       "HBox(children=(FloatProgress(value=0.0, description='Training', layout=Layout(flex='2'), max=282.0, style=Prog…"
      ]
     },
     "metadata": {},
     "output_type": "display_data"
    },
    {
     "name": "stdout",
     "output_type": "stream",
     "text": [
      "Epoch 56: train=2.06742, val=2.08755, took 8.7284 s\n"
     ]
    },
    {
     "data": {
      "application/vnd.jupyter.widget-view+json": {
       "model_id": "",
       "version_major": 2,
       "version_minor": 0
      },
      "text/plain": [
       "HBox(children=(FloatProgress(value=0.0, description='Training', layout=Layout(flex='2'), max=282.0, style=Prog…"
      ]
     },
     "metadata": {},
     "output_type": "display_data"
    },
    {
     "name": "stdout",
     "output_type": "stream",
     "text": [
      "Epoch 57: train=2.07068, val=2.067, took 8.6335 s\n"
     ]
    },
    {
     "data": {
      "application/vnd.jupyter.widget-view+json": {
       "model_id": "",
       "version_major": 2,
       "version_minor": 0
      },
      "text/plain": [
       "HBox(children=(FloatProgress(value=0.0, description='Training', layout=Layout(flex='2'), max=282.0, style=Prog…"
      ]
     },
     "metadata": {},
     "output_type": "display_data"
    },
    {
     "name": "stdout",
     "output_type": "stream",
     "text": [
      "Epoch 58: train=2.0668, val=2.06818, took 9.1957 s\n"
     ]
    },
    {
     "data": {
      "application/vnd.jupyter.widget-view+json": {
       "model_id": "",
       "version_major": 2,
       "version_minor": 0
      },
      "text/plain": [
       "HBox(children=(FloatProgress(value=0.0, description='Training', layout=Layout(flex='2'), max=282.0, style=Prog…"
      ]
     },
     "metadata": {},
     "output_type": "display_data"
    },
    {
     "name": "stdout",
     "output_type": "stream",
     "text": [
      "Epoch 59: train=2.06195, val=2.06461, took 9.2254 s\n"
     ]
    },
    {
     "data": {
      "application/vnd.jupyter.widget-view+json": {
       "model_id": "",
       "version_major": 2,
       "version_minor": 0
      },
      "text/plain": [
       "HBox(children=(FloatProgress(value=0.0, description='Training', layout=Layout(flex='2'), max=282.0, style=Prog…"
      ]
     },
     "metadata": {},
     "output_type": "display_data"
    },
    {
     "name": "stdout",
     "output_type": "stream",
     "text": [
      "Epoch 60: train=2.06153, val=2.05782, took 9.0042 s\n"
     ]
    },
    {
     "data": {
      "application/vnd.jupyter.widget-view+json": {
       "model_id": "",
       "version_major": 2,
       "version_minor": 0
      },
      "text/plain": [
       "HBox(children=(FloatProgress(value=0.0, description='Training', layout=Layout(flex='2'), max=282.0, style=Prog…"
      ]
     },
     "metadata": {},
     "output_type": "display_data"
    },
    {
     "name": "stdout",
     "output_type": "stream",
     "text": [
      "Epoch 61: train=2.06657, val=2.06348, took 9.1222 s\n"
     ]
    },
    {
     "data": {
      "application/vnd.jupyter.widget-view+json": {
       "model_id": "",
       "version_major": 2,
       "version_minor": 0
      },
      "text/plain": [
       "HBox(children=(FloatProgress(value=0.0, description='Training', layout=Layout(flex='2'), max=282.0, style=Prog…"
      ]
     },
     "metadata": {},
     "output_type": "display_data"
    },
    {
     "name": "stdout",
     "output_type": "stream",
     "text": [
      "Epoch 62: train=2.06092, val=2.06185, took 9.1124 s\n"
     ]
    },
    {
     "data": {
      "application/vnd.jupyter.widget-view+json": {
       "model_id": "",
       "version_major": 2,
       "version_minor": 0
      },
      "text/plain": [
       "HBox(children=(FloatProgress(value=0.0, description='Training', layout=Layout(flex='2'), max=282.0, style=Prog…"
      ]
     },
     "metadata": {},
     "output_type": "display_data"
    },
    {
     "name": "stdout",
     "output_type": "stream",
     "text": [
      "Epoch 63: train=2.05673, val=2.06734, took 8.9186 s\n"
     ]
    },
    {
     "data": {
      "application/vnd.jupyter.widget-view+json": {
       "model_id": "",
       "version_major": 2,
       "version_minor": 0
      },
      "text/plain": [
       "HBox(children=(FloatProgress(value=0.0, description='Training', layout=Layout(flex='2'), max=282.0, style=Prog…"
      ]
     },
     "metadata": {},
     "output_type": "display_data"
    },
    {
     "name": "stdout",
     "output_type": "stream",
     "text": [
      "Epoch 64: train=2.06326, val=2.05984, took 8.7713 s\n"
     ]
    },
    {
     "data": {
      "application/vnd.jupyter.widget-view+json": {
       "model_id": "",
       "version_major": 2,
       "version_minor": 0
      },
      "text/plain": [
       "HBox(children=(FloatProgress(value=0.0, description='Training', layout=Layout(flex='2'), max=282.0, style=Prog…"
      ]
     },
     "metadata": {},
     "output_type": "display_data"
    },
    {
     "name": "stdout",
     "output_type": "stream",
     "text": [
      "Epoch 65: train=2.06126, val=2.06679, took 8.8215 s\n"
     ]
    },
    {
     "data": {
      "application/vnd.jupyter.widget-view+json": {
       "model_id": "",
       "version_major": 2,
       "version_minor": 0
      },
      "text/plain": [
       "HBox(children=(FloatProgress(value=0.0, description='Training', layout=Layout(flex='2'), max=282.0, style=Prog…"
      ]
     },
     "metadata": {},
     "output_type": "display_data"
    },
    {
     "name": "stdout",
     "output_type": "stream",
     "text": [
      "Epoch 66: train=2.05983, val=2.07082, took 8.6674 s\n"
     ]
    },
    {
     "data": {
      "application/vnd.jupyter.widget-view+json": {
       "model_id": "",
       "version_major": 2,
       "version_minor": 0
      },
      "text/plain": [
       "HBox(children=(FloatProgress(value=0.0, description='Training', layout=Layout(flex='2'), max=282.0, style=Prog…"
      ]
     },
     "metadata": {},
     "output_type": "display_data"
    },
    {
     "name": "stdout",
     "output_type": "stream",
     "text": [
      "Epoch 67: train=2.06415, val=2.06083, took 8.8585 s\n"
     ]
    },
    {
     "data": {
      "application/vnd.jupyter.widget-view+json": {
       "model_id": "",
       "version_major": 2,
       "version_minor": 0
      },
      "text/plain": [
       "HBox(children=(FloatProgress(value=0.0, description='Training', layout=Layout(flex='2'), max=282.0, style=Prog…"
      ]
     },
     "metadata": {},
     "output_type": "display_data"
    },
    {
     "name": "stdout",
     "output_type": "stream",
     "text": [
      "Epoch 68: train=2.05911, val=2.06404, took 8.9968 s\n"
     ]
    },
    {
     "data": {
      "application/vnd.jupyter.widget-view+json": {
       "model_id": "",
       "version_major": 2,
       "version_minor": 0
      },
      "text/plain": [
       "HBox(children=(FloatProgress(value=0.0, description='Training', layout=Layout(flex='2'), max=282.0, style=Prog…"
      ]
     },
     "metadata": {},
     "output_type": "display_data"
    },
    {
     "name": "stdout",
     "output_type": "stream",
     "text": [
      "Epoch 69: train=2.05657, val=2.05709, took 8.7617 s\n"
     ]
    },
    {
     "data": {
      "application/vnd.jupyter.widget-view+json": {
       "model_id": "",
       "version_major": 2,
       "version_minor": 0
      },
      "text/plain": [
       "HBox(children=(FloatProgress(value=0.0, description='Training', layout=Layout(flex='2'), max=282.0, style=Prog…"
      ]
     },
     "metadata": {},
     "output_type": "display_data"
    },
    {
     "name": "stdout",
     "output_type": "stream",
     "text": [
      "Epoch 70: train=2.05556, val=2.05602, took 8.8451 s\n"
     ]
    },
    {
     "data": {
      "application/vnd.jupyter.widget-view+json": {
       "model_id": "",
       "version_major": 2,
       "version_minor": 0
      },
      "text/plain": [
       "HBox(children=(FloatProgress(value=0.0, description='Training', layout=Layout(flex='2'), max=282.0, style=Prog…"
      ]
     },
     "metadata": {},
     "output_type": "display_data"
    },
    {
     "name": "stdout",
     "output_type": "stream",
     "text": [
      "Epoch 71: train=2.05666, val=2.08567, took 8.8395 s\n"
     ]
    },
    {
     "data": {
      "application/vnd.jupyter.widget-view+json": {
       "model_id": "",
       "version_major": 2,
       "version_minor": 0
      },
      "text/plain": [
       "HBox(children=(FloatProgress(value=0.0, description='Training', layout=Layout(flex='2'), max=282.0, style=Prog…"
      ]
     },
     "metadata": {},
     "output_type": "display_data"
    },
    {
     "name": "stdout",
     "output_type": "stream",
     "text": [
      "Epoch 72: train=2.05238, val=2.04601, took 8.8734 s\n"
     ]
    },
    {
     "data": {
      "application/vnd.jupyter.widget-view+json": {
       "model_id": "",
       "version_major": 2,
       "version_minor": 0
      },
      "text/plain": [
       "HBox(children=(FloatProgress(value=0.0, description='Training', layout=Layout(flex='2'), max=282.0, style=Prog…"
      ]
     },
     "metadata": {},
     "output_type": "display_data"
    },
    {
     "name": "stdout",
     "output_type": "stream",
     "text": [
      "Epoch 73: train=2.04685, val=2.03898, took 8.9131 s\n"
     ]
    },
    {
     "data": {
      "application/vnd.jupyter.widget-view+json": {
       "model_id": "",
       "version_major": 2,
       "version_minor": 0
      },
      "text/plain": [
       "HBox(children=(FloatProgress(value=0.0, description='Training', layout=Layout(flex='2'), max=282.0, style=Prog…"
      ]
     },
     "metadata": {},
     "output_type": "display_data"
    },
    {
     "name": "stdout",
     "output_type": "stream",
     "text": [
      "Epoch 74: train=2.04901, val=2.0379, took 8.9418 s\n"
     ]
    },
    {
     "data": {
      "application/vnd.jupyter.widget-view+json": {
       "model_id": "",
       "version_major": 2,
       "version_minor": 0
      },
      "text/plain": [
       "HBox(children=(FloatProgress(value=0.0, description='Training', layout=Layout(flex='2'), max=282.0, style=Prog…"
      ]
     },
     "metadata": {},
     "output_type": "display_data"
    },
    {
     "name": "stdout",
     "output_type": "stream",
     "text": [
      "Epoch 75: train=2.05083, val=2.03894, took 8.8063 s\n"
     ]
    },
    {
     "data": {
      "application/vnd.jupyter.widget-view+json": {
       "model_id": "",
       "version_major": 2,
       "version_minor": 0
      },
      "text/plain": [
       "HBox(children=(FloatProgress(value=0.0, description='Training', layout=Layout(flex='2'), max=282.0, style=Prog…"
      ]
     },
     "metadata": {},
     "output_type": "display_data"
    },
    {
     "name": "stdout",
     "output_type": "stream",
     "text": [
      "Epoch 76: train=2.04576, val=2.03508, took 8.8533 s\n"
     ]
    },
    {
     "data": {
      "application/vnd.jupyter.widget-view+json": {
       "model_id": "",
       "version_major": 2,
       "version_minor": 0
      },
      "text/plain": [
       "HBox(children=(FloatProgress(value=0.0, description='Training', layout=Layout(flex='2'), max=282.0, style=Prog…"
      ]
     },
     "metadata": {},
     "output_type": "display_data"
    },
    {
     "name": "stdout",
     "output_type": "stream",
     "text": [
      "Epoch 77: train=2.04301, val=2.03409, took 8.9983 s\n"
     ]
    },
    {
     "data": {
      "application/vnd.jupyter.widget-view+json": {
       "model_id": "",
       "version_major": 2,
       "version_minor": 0
      },
      "text/plain": [
       "HBox(children=(FloatProgress(value=0.0, description='Training', layout=Layout(flex='2'), max=282.0, style=Prog…"
      ]
     },
     "metadata": {},
     "output_type": "display_data"
    },
    {
     "name": "stdout",
     "output_type": "stream",
     "text": [
      "Epoch 78: train=2.04524, val=2.0332, took 9.0099 s\n"
     ]
    },
    {
     "data": {
      "application/vnd.jupyter.widget-view+json": {
       "model_id": "",
       "version_major": 2,
       "version_minor": 0
      },
      "text/plain": [
       "HBox(children=(FloatProgress(value=0.0, description='Training', layout=Layout(flex='2'), max=282.0, style=Prog…"
      ]
     },
     "metadata": {},
     "output_type": "display_data"
    },
    {
     "name": "stdout",
     "output_type": "stream",
     "text": [
      "Epoch 79: train=2.04065, val=2.03213, took 8.8028 s\n"
     ]
    },
    {
     "data": {
      "application/vnd.jupyter.widget-view+json": {
       "model_id": "",
       "version_major": 2,
       "version_minor": 0
      },
      "text/plain": [
       "HBox(children=(FloatProgress(value=0.0, description='Training', layout=Layout(flex='2'), max=282.0, style=Prog…"
      ]
     },
     "metadata": {},
     "output_type": "display_data"
    },
    {
     "name": "stdout",
     "output_type": "stream",
     "text": [
      "Epoch 80: train=2.04107, val=2.03537, took 8.6961 s\n"
     ]
    },
    {
     "data": {
      "application/vnd.jupyter.widget-view+json": {
       "model_id": "",
       "version_major": 2,
       "version_minor": 0
      },
      "text/plain": [
       "HBox(children=(FloatProgress(value=0.0, description='Training', layout=Layout(flex='2'), max=282.0, style=Prog…"
      ]
     },
     "metadata": {},
     "output_type": "display_data"
    },
    {
     "name": "stdout",
     "output_type": "stream",
     "text": [
      "Epoch 81: train=2.04092, val=2.03892, took 8.94 s\n"
     ]
    },
    {
     "data": {
      "application/vnd.jupyter.widget-view+json": {
       "model_id": "",
       "version_major": 2,
       "version_minor": 0
      },
      "text/plain": [
       "HBox(children=(FloatProgress(value=0.0, description='Training', layout=Layout(flex='2'), max=282.0, style=Prog…"
      ]
     },
     "metadata": {},
     "output_type": "display_data"
    },
    {
     "name": "stdout",
     "output_type": "stream",
     "text": [
      "Epoch 82: train=2.04092, val=2.03193, took 9.0094 s\n"
     ]
    },
    {
     "data": {
      "application/vnd.jupyter.widget-view+json": {
       "model_id": "",
       "version_major": 2,
       "version_minor": 0
      },
      "text/plain": [
       "HBox(children=(FloatProgress(value=0.0, description='Training', layout=Layout(flex='2'), max=282.0, style=Prog…"
      ]
     },
     "metadata": {},
     "output_type": "display_data"
    },
    {
     "name": "stdout",
     "output_type": "stream",
     "text": [
      "Epoch 83: train=2.04368, val=2.04941, took 8.8305 s\n"
     ]
    },
    {
     "data": {
      "application/vnd.jupyter.widget-view+json": {
       "model_id": "",
       "version_major": 2,
       "version_minor": 0
      },
      "text/plain": [
       "HBox(children=(FloatProgress(value=0.0, description='Training', layout=Layout(flex='2'), max=282.0, style=Prog…"
      ]
     },
     "metadata": {},
     "output_type": "display_data"
    },
    {
     "name": "stdout",
     "output_type": "stream",
     "text": [
      "Epoch 84: train=2.04454, val=2.05218, took 8.8637 s\n"
     ]
    },
    {
     "data": {
      "application/vnd.jupyter.widget-view+json": {
       "model_id": "",
       "version_major": 2,
       "version_minor": 0
      },
      "text/plain": [
       "HBox(children=(FloatProgress(value=0.0, description='Training', layout=Layout(flex='2'), max=282.0, style=Prog…"
      ]
     },
     "metadata": {},
     "output_type": "display_data"
    },
    {
     "name": "stdout",
     "output_type": "stream",
     "text": [
      "Epoch 85: train=2.03777, val=2.02942, took 8.8538 s\n"
     ]
    },
    {
     "data": {
      "application/vnd.jupyter.widget-view+json": {
       "model_id": "",
       "version_major": 2,
       "version_minor": 0
      },
      "text/plain": [
       "HBox(children=(FloatProgress(value=0.0, description='Training', layout=Layout(flex='2'), max=282.0, style=Prog…"
      ]
     },
     "metadata": {},
     "output_type": "display_data"
    },
    {
     "name": "stdout",
     "output_type": "stream",
     "text": [
      "Epoch 86: train=2.03834, val=2.02551, took 8.9821 s\n"
     ]
    },
    {
     "data": {
      "application/vnd.jupyter.widget-view+json": {
       "model_id": "",
       "version_major": 2,
       "version_minor": 0
      },
      "text/plain": [
       "HBox(children=(FloatProgress(value=0.0, description='Training', layout=Layout(flex='2'), max=282.0, style=Prog…"
      ]
     },
     "metadata": {},
     "output_type": "display_data"
    },
    {
     "name": "stdout",
     "output_type": "stream",
     "text": [
      "Epoch 87: train=2.03562, val=2.02325, took 8.7991 s\n"
     ]
    },
    {
     "data": {
      "application/vnd.jupyter.widget-view+json": {
       "model_id": "",
       "version_major": 2,
       "version_minor": 0
      },
      "text/plain": [
       "HBox(children=(FloatProgress(value=0.0, description='Training', layout=Layout(flex='2'), max=282.0, style=Prog…"
      ]
     },
     "metadata": {},
     "output_type": "display_data"
    },
    {
     "name": "stdout",
     "output_type": "stream",
     "text": [
      "Epoch 88: train=2.03863, val=2.02764, took 8.7899 s\n"
     ]
    },
    {
     "data": {
      "application/vnd.jupyter.widget-view+json": {
       "model_id": "",
       "version_major": 2,
       "version_minor": 0
      },
      "text/plain": [
       "HBox(children=(FloatProgress(value=0.0, description='Training', layout=Layout(flex='2'), max=282.0, style=Prog…"
      ]
     },
     "metadata": {},
     "output_type": "display_data"
    },
    {
     "name": "stdout",
     "output_type": "stream",
     "text": [
      "Epoch 89: train=2.03152, val=2.03231, took 9.0057 s\n"
     ]
    },
    {
     "data": {
      "application/vnd.jupyter.widget-view+json": {
       "model_id": "",
       "version_major": 2,
       "version_minor": 0
      },
      "text/plain": [
       "HBox(children=(FloatProgress(value=0.0, description='Training', layout=Layout(flex='2'), max=282.0, style=Prog…"
      ]
     },
     "metadata": {},
     "output_type": "display_data"
    },
    {
     "name": "stdout",
     "output_type": "stream",
     "text": [
      "Epoch 90: train=2.02936, val=2.01938, took 9.0037 s\n"
     ]
    },
    {
     "data": {
      "application/vnd.jupyter.widget-view+json": {
       "model_id": "",
       "version_major": 2,
       "version_minor": 0
      },
      "text/plain": [
       "HBox(children=(FloatProgress(value=0.0, description='Training', layout=Layout(flex='2'), max=282.0, style=Prog…"
      ]
     },
     "metadata": {},
     "output_type": "display_data"
    },
    {
     "name": "stdout",
     "output_type": "stream",
     "text": [
      "Epoch 91: train=2.02737, val=2.02011, took 8.8037 s\n"
     ]
    },
    {
     "data": {
      "application/vnd.jupyter.widget-view+json": {
       "model_id": "",
       "version_major": 2,
       "version_minor": 0
      },
      "text/plain": [
       "HBox(children=(FloatProgress(value=0.0, description='Training', layout=Layout(flex='2'), max=282.0, style=Prog…"
      ]
     },
     "metadata": {},
     "output_type": "display_data"
    },
    {
     "name": "stdout",
     "output_type": "stream",
     "text": [
      "Epoch 92: train=2.02592, val=2.02596, took 8.6977 s\n"
     ]
    },
    {
     "data": {
      "application/vnd.jupyter.widget-view+json": {
       "model_id": "",
       "version_major": 2,
       "version_minor": 0
      },
      "text/plain": [
       "HBox(children=(FloatProgress(value=0.0, description='Training', layout=Layout(flex='2'), max=282.0, style=Prog…"
      ]
     },
     "metadata": {},
     "output_type": "display_data"
    },
    {
     "name": "stdout",
     "output_type": "stream",
     "text": [
      "Epoch 93: train=2.02966, val=2.02363, took 8.895 s\n"
     ]
    },
    {
     "data": {
      "application/vnd.jupyter.widget-view+json": {
       "model_id": "",
       "version_major": 2,
       "version_minor": 0
      },
      "text/plain": [
       "HBox(children=(FloatProgress(value=0.0, description='Training', layout=Layout(flex='2'), max=282.0, style=Prog…"
      ]
     },
     "metadata": {},
     "output_type": "display_data"
    },
    {
     "name": "stdout",
     "output_type": "stream",
     "text": [
      "Epoch 94: train=2.02714, val=2.01956, took 8.8948 s\n"
     ]
    },
    {
     "data": {
      "application/vnd.jupyter.widget-view+json": {
       "model_id": "",
       "version_major": 2,
       "version_minor": 0
      },
      "text/plain": [
       "HBox(children=(FloatProgress(value=0.0, description='Training', layout=Layout(flex='2'), max=282.0, style=Prog…"
      ]
     },
     "metadata": {},
     "output_type": "display_data"
    },
    {
     "name": "stdout",
     "output_type": "stream",
     "text": [
      "Epoch 95: train=2.02379, val=2.02283, took 8.8896 s\n"
     ]
    },
    {
     "data": {
      "application/vnd.jupyter.widget-view+json": {
       "model_id": "",
       "version_major": 2,
       "version_minor": 0
      },
      "text/plain": [
       "HBox(children=(FloatProgress(value=0.0, description='Training', layout=Layout(flex='2'), max=282.0, style=Prog…"
      ]
     },
     "metadata": {},
     "output_type": "display_data"
    },
    {
     "name": "stdout",
     "output_type": "stream",
     "text": [
      "Epoch 96: train=2.023, val=2.01335, took 8.8448 s\n"
     ]
    },
    {
     "data": {
      "application/vnd.jupyter.widget-view+json": {
       "model_id": "",
       "version_major": 2,
       "version_minor": 0
      },
      "text/plain": [
       "HBox(children=(FloatProgress(value=0.0, description='Training', layout=Layout(flex='2'), max=282.0, style=Prog…"
      ]
     },
     "metadata": {},
     "output_type": "display_data"
    },
    {
     "name": "stdout",
     "output_type": "stream",
     "text": [
      "Epoch 97: train=2.02096, val=2.01309, took 8.8864 s\n"
     ]
    },
    {
     "data": {
      "application/vnd.jupyter.widget-view+json": {
       "model_id": "",
       "version_major": 2,
       "version_minor": 0
      },
      "text/plain": [
       "HBox(children=(FloatProgress(value=0.0, description='Training', layout=Layout(flex='2'), max=282.0, style=Prog…"
      ]
     },
     "metadata": {},
     "output_type": "display_data"
    },
    {
     "name": "stdout",
     "output_type": "stream",
     "text": [
      "Epoch 98: train=2.02553, val=2.02493, took 8.7191 s\n"
     ]
    },
    {
     "data": {
      "application/vnd.jupyter.widget-view+json": {
       "model_id": "",
       "version_major": 2,
       "version_minor": 0
      },
      "text/plain": [
       "HBox(children=(FloatProgress(value=0.0, description='Training', layout=Layout(flex='2'), max=282.0, style=Prog…"
      ]
     },
     "metadata": {},
     "output_type": "display_data"
    },
    {
     "name": "stdout",
     "output_type": "stream",
     "text": [
      "Epoch 99: train=2.02336, val=2.01339, took 8.5426 s\n",
      "\n"
     ]
    }
   ],
   "source": [
    "for result in trainNet(model, optimizer, loss,\n",
    "                        train_loader, val_loader,\n",
    "                        n_epochs, epoch_start=len(results),\n",
    "                        notebook=True):\n",
    "    \n",
    "    results = results.append(pd.Series(result._asdict()), ignore_index=True)\n",
    "    xs = results.index\n",
    "    \n",
    "    # Update the plot above\n",
    "    lines['train'].set_data(results.index,results.cost)\n",
    "    lines['val'].set_data(results.index,results.val)\n",
    "    \n",
    "    #filter first cost epoch (can be really large)\n",
    "    max_cost = max(max(results.cost if len(results.cost)<2 else results.cost[1:]), max(results.val))\n",
    "    min_cost = min(min(results.cost), min(results.val))\n",
    "    \n",
    "    # The plot limits need updating too\n",
    "    \n",
    "    \n",
    "    \n",
    "    ax.set_ylim(min_cost*.9, max_cost*1.1)  \n",
    "    ax.set_xlim(-.5, len(results.cost) - .5)\n",
    "\n",
    "    \n",
    "    # Redraw the figure\n",
    "    fig.canvas.draw()\n",
    "\n",
    "    # Save each model state dictionary\n",
    "    torch.save(model.state_dict(), output / f'{name}_{result.epoch}.pyt')"
   ]
  },
  {
   "cell_type": "markdown",
   "metadata": {},
   "source": [
    "Go ahead and save the final model (even though it was also saved above):"
   ]
  },
  {
   "cell_type": "code",
   "execution_count": null,
   "metadata": {},
   "outputs": [],
   "source": [
    "torch.save(model.state_dict(), output / f'{name}_final.pyt')"
   ]
  },
  {
   "cell_type": "markdown",
   "metadata": {},
   "source": [
    "Save the output results:"
   ]
  },
  {
   "cell_type": "code",
   "execution_count": null,
   "metadata": {},
   "outputs": [],
   "source": [
    "results.to_hdf(f'{name}_stats.hdf5', 'results')"
   ]
  },
  {
   "cell_type": "markdown",
   "metadata": {},
   "source": [
    "Save the plot above:"
   ]
  },
  {
   "cell_type": "code",
   "execution_count": null,
   "metadata": {},
   "outputs": [],
   "source": [
    "dual_train_plots(results.index,\n",
    "                 results.cost, results.val,\n",
    "                 results.cost, results.val)\n",
    "plt.tight_layout()\n",
    "plt.savefig(str(output / f'{name}_stats_a.png'))"
   ]
  },
  {
   "cell_type": "code",
   "execution_count": null,
   "metadata": {},
   "outputs": [],
   "source": []
  },
  {
   "cell_type": "code",
   "execution_count": null,
   "metadata": {},
   "outputs": [],
   "source": []
  },
  {
   "cell_type": "code",
   "execution_count": null,
   "metadata": {},
   "outputs": [],
   "source": []
  }
 ],
 "metadata": {
  "kernelspec": {
   "display_name": "goofit-june2020",
   "language": "python",
   "name": "goofit-june2020"
  },
  "language_info": {
   "codemirror_mode": {
    "name": "ipython",
    "version": 3
   },
   "file_extension": ".py",
   "mimetype": "text/x-python",
   "name": "python",
   "nbconvert_exporter": "python",
   "pygments_lexer": "ipython3",
   "version": "3.7.6"
  }
 },
 "nbformat": 4,
 "nbformat_minor": 2
}
