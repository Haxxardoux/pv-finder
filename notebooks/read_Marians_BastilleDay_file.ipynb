{
 "cells": [
  {
   "cell_type": "code",
   "execution_count": 1,
   "metadata": {},
   "outputs": [],
   "source": [
    "import numpy as np\n",
    "import awkward\n",
    "import h5py"
   ]
  },
  {
   "cell_type": "code",
   "execution_count": 2,
   "metadata": {
    "scrolled": false
   },
   "outputs": [
    {
     "name": "stdout",
     "output_type": "stream",
     "text": [
      "f =  <HDF5 file \"test_data_for_KDE_learning_BastilleDay20.h5\" (mode r)>\n",
      "keys =  ['Xmax', 'Ymax', 'kernel', 'pv', 'pv_cat', 'pv_loc', 'pv_loc_x', 'pv_loc_y', 'pv_ntracks', 'pv_other', 'recon_pocax', 'recon_pocay', 'recon_pocaz', 'recon_sigmapocaxy', 'sv', 'sv_cat', 'sv_loc', 'sv_loc_x', 'sv_loc_y', 'sv_ntracks', 'sv_other']\n",
      "f[\"Xmax\"] =  <HDF5 dataset \"Xmax\": shape (100, 4000), type \"<f2\">\n",
      "f[\"Ymax\"] =  <HDF5 dataset \"Ymax\": shape (100, 4000), type \"<f2\">\n",
      "f[\"kernel\"] =  <HDF5 dataset \"kernel\": shape (100, 4000), type \"<f2\">\n",
      "f[\"pv\"] =  <HDF5 dataset \"pv\": shape (100, 4000), type \"<f2\">\n",
      "f[\"pv_cat\"] =  <HDF5 group \"/pv_cat\" (3 members)>\n",
      "f[\"pv_loc\"] =  <HDF5 group \"/pv_loc\" (3 members)>\n",
      "f[\"pv_loc_x\"] =  <HDF5 group \"/pv_loc_x\" (3 members)>\n",
      "f[\"pv_loc_y\"] =  <HDF5 group \"/pv_loc_y\" (3 members)>\n",
      "f[\"pv_ntracks\"] =  <HDF5 group \"/pv_ntracks\" (3 members)>\n",
      "f[\"pv_other\"] =  <HDF5 dataset \"pv_other\": shape (100, 4000), type \"<f2\">\n",
      "f[\"recon_pocax\"] =  <HDF5 group \"/recon_pocax\" (3 members)>\n",
      "f[\"recon_pocay\"] =  <HDF5 group \"/recon_pocay\" (3 members)>\n",
      "f[\"recon_pocaz\"] =  <HDF5 group \"/recon_pocaz\" (3 members)>\n",
      "f[\"recon_sigmapocaxy\"] =  <HDF5 group \"/recon_sigmapocaxy\" (3 members)>\n"
     ]
    }
   ],
   "source": [
    "testFile =  \"/share/lazy/pv-finder/test_data_for_KDE_learning_BastilleDay20.h5\"\n",
    "f = h5py.File(testFile,'r')\n",
    "print(\"f = \",f)\n",
    "print(\"keys = \",list(f.keys()))\n",
    "print('f[\"Xmax\"] = ', f[\"Xmax\"])\n",
    "print('f[\"Ymax\"] = ', f[\"Ymax\"])\n",
    "print('f[\"kernel\"] = ', f[\"kernel\"])\n",
    "print('f[\"pv\"] = ', f[\"pv\"])\n",
    "print('f[\"pv_cat\"] = ', f[\"pv_cat\"])\n",
    "print('f[\"pv_loc\"] = ', f[\"pv_loc\"])\n",
    "print('f[\"pv_loc_x\"] = ', f[\"pv_loc_x\"])\n",
    "print('f[\"pv_loc_y\"] = ', f[\"pv_loc_y\"])\n",
    "print('f[\"pv_ntracks\"] = ', f[\"pv_ntracks\"])\n",
    "print('f[\"pv_other\"] = ', f[\"pv_other\"])\n",
    "print('f[\"recon_pocax\"] = ', f[\"recon_pocax\"])\n",
    "print('f[\"recon_pocay\"] = ', f[\"recon_pocay\"])\n",
    "print('f[\"recon_pocaz\"] = ', f[\"recon_pocaz\"])\n",
    "print('f[\"recon_sigmapocaxy\"] = ', f[\"recon_sigmapocaxy\"])\n"
   ]
  },
  {
   "cell_type": "code",
   "execution_count": 3,
   "metadata": {},
   "outputs": [
    {
     "name": "stdout",
     "output_type": "stream",
     "text": [
      "kernel.shape =  (100, 4000)\n",
      "kernel[:,2037] =  [  83.08411   162.96387   491.333      41.84723   138.47351   497.43652\n",
      "  204.77295   703.73535    52.604675  181.27441   340.271      87.58545\n",
      "   83.847046    0.        120.23926   166.3208    134.96399   183.41064\n",
      "  137.02393   529.48      789.7949    144.9585     70.30487    49.7818\n",
      "  217.28516    60.691833   85.754395  146.1029    416.87012    72.631836\n",
      "   86.517334  601.1963    742.79785   110.62622   242.61475   141.1438\n",
      "   78.50647   629.27246   683.59375   127.94495    95.90149   120.84961\n",
      "  109.86328   256.50024  1143.1885    284.729     132.14111    66.604614\n",
      "   91.934204  185.39429    75.98877   925.9033    362.24365    38.204193\n",
      "   38.700104   76.14136    90.026855  203.39966   112.075806   61.98883\n",
      "  191.65039    60.61554   120.010376  152.96936   133.36182    55.351257\n",
      "  137.2528     60.005188   27.198792   84.609985  101.85242   503.54004\n",
      "  174.71313   147.4762     66.79535    20.980835   22.888184  114.89868\n",
      "  303.6499    201.87378    59.47113    45.547485    0.        134.8877\n",
      "   65.00244    75.49286    55.732727  192.8711    149.68872   512.39014\n",
      "  336.91406   218.50586    86.8988    109.10034    95.13855   418.396\n",
      "   10.404587   90.026855  171.20361    61.454773]\n",
      "Xmax.shape =  (100, 4000)\n",
      "Xmax[:,2037] =  [-4.0531e-06  3.0577e-05 -1.0729e-06  1.0645e-04 -1.7452e-04 -1.2517e-05\n",
      "  5.8532e-05 -1.6868e-05  6.4075e-05  9.1255e-05 -3.1292e-05  3.6657e-05\n",
      "  4.8697e-05  0.0000e+00 -5.8055e-05  1.0729e-06  3.4571e-05 -9.3579e-05\n",
      " -4.9591e-05 -1.6391e-05 -4.9949e-05  5.8591e-05 -2.5451e-05 -6.4790e-05\n",
      "  7.8678e-06 -3.3736e-05 -3.6180e-05  1.1170e-04  2.4915e-05 -1.2672e-04\n",
      "  1.0359e-04 -2.8849e-05  4.9472e-06 -1.8549e-04  8.6188e-05 -7.1287e-05\n",
      " -9.0063e-05  4.0770e-05 -5.1439e-05  4.6849e-05  1.5223e-04 -2.2650e-05\n",
      " -5.9187e-05 -2.5332e-05  2.4140e-05 -5.2452e-06 -8.5056e-05  1.4293e-04\n",
      " -3.2663e-05  5.7220e-06  1.7357e-04  2.4080e-05 -1.8954e-05 -7.9572e-05\n",
      " -2.0921e-05 -4.4703e-05  1.1063e-04 -3.8743e-05 -1.3530e-05 -3.6538e-05\n",
      "  6.1393e-06 -1.2529e-04 -8.6010e-05 -8.2970e-05  2.1458e-06  6.0201e-05\n",
      "  6.7174e-05  3.6895e-05 -3.4451e-05  3.7551e-05  8.0168e-05 -2.8014e-06\n",
      "  1.4687e-04  3.7849e-05 -5.0664e-05 -1.5843e-04 -1.5807e-04 -1.2219e-05\n",
      "  4.9889e-05  2.7061e-05 -1.1563e-04 -1.5199e-05  0.0000e+00 -1.1921e-06\n",
      " -8.7142e-05  1.5223e-04  1.9729e-05  1.6320e-04  1.2279e-05  1.4901e-06\n",
      " -5.4777e-05 -1.0967e-05 -1.0133e-05  1.0610e-05 -6.0260e-05  5.8591e-05\n",
      "  9.5963e-05 -1.0765e-04 -1.2696e-05 -2.9027e-05]\n",
      "pv.shape =  (100, 4000)\n",
      "pv[:,2037] =  [0.000e+00 0.000e+00 0.000e+00 0.000e+00 0.000e+00 0.000e+00 0.000e+00\n",
      " 3.567e-03 0.000e+00 0.000e+00 0.000e+00 0.000e+00 0.000e+00 0.000e+00\n",
      " 0.000e+00 0.000e+00 0.000e+00 0.000e+00 0.000e+00 0.000e+00 0.000e+00\n",
      " 0.000e+00 0.000e+00 0.000e+00 0.000e+00 0.000e+00 0.000e+00 0.000e+00\n",
      " 0.000e+00 0.000e+00 0.000e+00 0.000e+00 2.373e-01 0.000e+00 0.000e+00\n",
      " 0.000e+00 0.000e+00 0.000e+00 4.721e-05 0.000e+00 0.000e+00 0.000e+00\n",
      " 0.000e+00 0.000e+00 3.889e-01 0.000e+00 0.000e+00 0.000e+00 0.000e+00\n",
      " 0.000e+00 0.000e+00 0.000e+00 9.680e-02 0.000e+00 0.000e+00 0.000e+00\n",
      " 0.000e+00 0.000e+00 0.000e+00 0.000e+00 0.000e+00 0.000e+00 0.000e+00\n",
      " 0.000e+00 0.000e+00 0.000e+00 0.000e+00 0.000e+00 0.000e+00 0.000e+00\n",
      " 0.000e+00 0.000e+00 0.000e+00 0.000e+00 0.000e+00 0.000e+00 0.000e+00\n",
      " 0.000e+00 0.000e+00 0.000e+00 0.000e+00 0.000e+00 0.000e+00 0.000e+00\n",
      " 0.000e+00 0.000e+00 0.000e+00 0.000e+00 0.000e+00 0.000e+00 0.000e+00\n",
      " 0.000e+00 0.000e+00 0.000e+00 0.000e+00 0.000e+00 0.000e+00 0.000e+00\n",
      " 0.000e+00 0.000e+00]\n"
     ]
    }
   ],
   "source": [
    "kernel = np.asarray(f[\"kernel\"])\n",
    "print(\"kernel.shape = \",kernel.shape)\n",
    "print(\"kernel[:,2037] = \",2500*kernel[:,2037])\n",
    "\n",
    "Xmax = np.asarray(f[\"Xmax\"])\n",
    "print(\"Xmax.shape = \",Xmax.shape)\n",
    "print(\"Xmax[:,2037] = \",Xmax[:,2037])\n",
    "\n",
    "pv = np.asarray(f[\"pv\"])\n",
    "print(\"pv.shape = \",pv.shape)\n",
    "print(\"pv[:,2037] = \",pv[:,2037])"
   ]
  },
  {
   "cell_type": "code",
   "execution_count": null,
   "metadata": {},
   "outputs": [],
   "source": [
    "afile = awkward.hdf5(f)"
   ]
  },
  {
   "cell_type": "code",
   "execution_count": null,
   "metadata": {},
   "outputs": [],
   "source": [
    "test = []\n",
    "test.append(afile[f\"pv_ntracks\"])\n",
    "print(\"test = \",test)\n",
    "a = awkward.fromiter(test)\n",
    "print(\"a = \", a)\n",
    "print(\"a.shape = \",a.shape)\n",
    "print(\"a[0] = \",a[0])\n",
    "print(\"a[1:,0] = \",a[1:,0])\n",
    "\n"
   ]
  },
  {
   "cell_type": "code",
   "execution_count": null,
   "metadata": {},
   "outputs": [],
   "source": [
    "test = []\n",
    "test.append(afile[\"recon_pocaz\"])\n",
    "print(\"test = \",test)\n",
    "a = awkward.fromiter(test)\n",
    "print(\"a = \", a)\n",
    "print(\"a.shape = \",a.shape)\n",
    "print(\"a[0] = \",a[0])\n",
    "print(\"a[1:,0] = \",a[1:,0])\n",
    "\n"
   ]
  },
  {
   "cell_type": "code",
   "execution_count": null,
   "metadata": {
    "scrolled": true
   },
   "outputs": [],
   "source": [
    "recon_pocaz = afile[\"recon_pocaz\"]\n",
    "print(\"recon_pocaz = \",recon_pocaz)\n",
    "print(\"len(recon_pocaz) = \",len(recon_pocaz))\n",
    "print(\"recon_pocaz[0] = \",recon_pocaz[0])\n",
    "\n",
    "recon_pocax = afile[\"recon_pocax\"]\n",
    "print(\"recon_pocax = \",recon_pocax)\n",
    "print(\"len(recon_pocax) = \",len(recon_pocax))\n",
    "print(\"recon_pocax[0] = \",recon_pocax[0])"
   ]
  },
  {
   "cell_type": "code",
   "execution_count": null,
   "metadata": {
    "scrolled": true
   },
   "outputs": [],
   "source": [
    "recon_sigmapocaxy = afile[\"recon_sigmapocaxy\"]\n",
    "print(\"recon_sigmapocaxy = \",recon_sigmapocaxy)\n",
    "print(\"len(recon_sigmapocaxy) = \",len(recon_sigmapocaxy))\n",
    "print(\"recon_sigmapocaxy[0] = \",recon_sigmapocaxy[0])\n",
    "\n"
   ]
  },
  {
   "cell_type": "code",
   "execution_count": null,
   "metadata": {},
   "outputs": [],
   "source": []
  }
 ],
 "metadata": {
  "kernelspec": {
   "display_name": "goofit-june2020",
   "language": "python",
   "name": "goofit-june2020"
  },
  "language_info": {
   "codemirror_mode": {
    "name": "ipython",
    "version": 3
   },
   "file_extension": ".py",
   "mimetype": "text/x-python",
   "name": "python",
   "nbconvert_exporter": "python",
   "pygments_lexer": "ipython3",
   "version": "3.7.6"
  }
 },
 "nbformat": 4,
 "nbformat_minor": 2
}
