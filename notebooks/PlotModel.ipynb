{
 "cells": [
  {
   "cell_type": "code",
   "execution_count": null,
   "metadata": {},
   "outputs": [],
   "source": [
    "# Import from local package\n",
    "import sys\n",
    "sys.path.append('../model')\n",
    "import torch\n",
    "import numpy as np\n",
    "\n",
    "# Device configuration\n",
    "device = torch.device(\"cpu\")"
   ]
  },
  {
   "cell_type": "code",
   "execution_count": null,
   "metadata": {},
   "outputs": [],
   "source": [
    "import matplotlib.pyplot as plt\n",
    "import matplotlib.animation as animation"
   ]
  },
  {
   "cell_type": "code",
   "execution_count": null,
   "metadata": {},
   "outputs": [],
   "source": [
    "from models import SimpleCNN2Layer as Model\n",
    "from collectdata import collect_data"
   ]
  },
  {
   "cell_type": "code",
   "execution_count": null,
   "metadata": {},
   "outputs": [],
   "source": [
    "_, _, dataset_test = collect_data(\n",
    "    \"/data/schreihf/PvFinder/July_31_75000.npz\",\n",
    "    30000, 10000,\n",
    "    device=device)"
   ]
  },
  {
   "cell_type": "code",
   "execution_count": null,
   "metadata": {},
   "outputs": [],
   "source": [
    "model = Model().to(device)"
   ]
  },
  {
   "cell_type": "code",
   "execution_count": null,
   "metadata": {},
   "outputs": [],
   "source": [
    "name = 'July_31_75000_2layer_{}.pyt'\n",
    "def run_over(i):\n",
    "    model.load_state_dict(torch.load(name.format(i)))\n",
    "    model.eval()\n",
    "    vals = model.state_dict()['conv1.weight'].numpy()\n",
    "    return vals"
   ]
  },
  {
   "cell_type": "code",
   "execution_count": null,
   "metadata": {},
   "outputs": [],
   "source": [
    "fig, axs = plt.subplots(1,5, figsize=(18,3), sharey=True)\n",
    "lns = [0,0,0,0,0]\n",
    "for i, ax in enumerate(axs):\n",
    "    lns[i], = ax.plot(run_over(0)[i,0,:], '.')\n",
    "    ax.set_xlim(0, 24)\n",
    "    ax.set_ylim(-4, 4)\n",
    "fig.subplots_adjust(wspace=0)\n",
    "txt = axs[4].text(17, 3, \"Epoch 0\")"
   ]
  },
  {
   "cell_type": "code",
   "execution_count": null,
   "metadata": {},
   "outputs": [],
   "source": [
    "def plot_over(i):\n",
    "    vals = run_over(i)\n",
    "    for j in range(5):\n",
    "        lns[j].set_data(np.arange(25), vals[j,0,:])\n",
    "    txt.set_text(f\"Epoch {i}\")"
   ]
  },
  {
   "cell_type": "code",
   "execution_count": null,
   "metadata": {},
   "outputs": [],
   "source": [
    "ani = animation.FuncAnimation(fig, plot_over, frames=range(200), interval=100, repeat_delay=2_000)\n",
    "ani.save('July_31_75000_training.gif', dpi=80, writer='imagemagick')"
   ]
  }
 ],
 "metadata": {
  "kernelspec": {
   "display_name": "Python 3",
   "language": "python",
   "name": "python3"
  },
  "language_info": {
   "codemirror_mode": {
    "name": "ipython",
    "version": 3
   },
   "file_extension": ".py",
   "mimetype": "text/x-python",
   "name": "python",
   "nbconvert_exporter": "python",
   "pygments_lexer": "ipython3",
   "version": "3.6.4"
  }
 },
 "nbformat": 4,
 "nbformat_minor": 2
}
