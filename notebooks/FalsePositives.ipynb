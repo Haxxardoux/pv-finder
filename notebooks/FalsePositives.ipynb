{
 "cells": [
  {
   "cell_type": "code",
   "execution_count": 9,
   "metadata": {},
   "outputs": [],
   "source": [
    "# Import from local package\n",
    "import sys\n",
    "sys.path.append('../model')\n",
    "import torch\n",
    "import numpy as np\n",
    "from tqdm import tqdm as progress_bar\n",
    "\n",
    "# Device configuration\n",
    "device = torch.device(\"cpu\")"
   ]
  },
  {
   "cell_type": "code",
   "execution_count": 2,
   "metadata": {},
   "outputs": [],
   "source": [
    "### import numpy as np\n",
    "import matplotlib.pyplot as plt\n",
    "import matplotlib as mpl\n",
    "from matplotlib.ticker import FormatStrFormatter\n",
    "#mpl.use('Agg')\n",
    "mpl.style.use('classic')"
   ]
  },
  {
   "cell_type": "code",
   "execution_count": 3,
   "metadata": {},
   "outputs": [],
   "source": [
    "from models import SimpleCNN2Layer as Model\n",
    "from collectdata import collect_data"
   ]
  },
  {
   "cell_type": "code",
   "execution_count": 5,
   "metadata": {},
   "outputs": [
    {
     "name": "stdout",
     "output_type": "stream",
     "text": [
      "Loading /data/schreihf/PvFinder/July_31_75000.npz\n",
      "Training: 30000 Validation: 10000 Test: 35000\n"
     ]
    }
   ],
   "source": [
    "_, _, dataset_test = collect_data(\n",
    "    \"/data/schreihf/PvFinder/July_31_75000.npz\",\n",
    "    30000, 10000,\n",
    "    device=device)"
   ]
  },
  {
   "cell_type": "code",
   "execution_count": 6,
   "metadata": {},
   "outputs": [
    {
     "data": {
      "text/plain": [
       "SimpleCNN2Layer(\n",
       "  (conv1): Conv1d(1, 5, kernel_size=(25,), stride=(1,), padding=(12,))\n",
       "  (conv2): Conv1d(5, 1, kernel_size=(15,), stride=(1,), padding=(7,))\n",
       "  (fc1): Linear(in_features=4000, out_features=4000, bias=True)\n",
       ")"
      ]
     },
     "execution_count": 6,
     "metadata": {},
     "output_type": "execute_result"
    }
   ],
   "source": [
    "name = 'July_31_75000_2layer_{}.pyt'\n",
    "model = Model().to(device)\n",
    "model.load_state_dict(torch.load(name.format(25)))\n",
    "model.eval()"
   ]
  },
  {
   "cell_type": "code",
   "execution_count": 10,
   "metadata": {},
   "outputs": [],
   "source": [
    "# Check False Positive\n",
    "def testNet2(model, batch_size):\n",
    "    FP_list=[]\n",
    "    N=0\n",
    "    Times=0\n",
    "    NO_Batch=0\n",
    "    FP=0\n",
    "    \n",
    "    test_loader = torch.utils.data.DataLoader(dataset_test, batch_size=batch_size)\n",
    "    \n",
    "    with torch.no_grad():\n",
    "        for inputs, labels in progress_bar(test_loader):\n",
    "            NO_Batch = NO_Batch +1\n",
    "            \n",
    "            #Forward pass\n",
    "            outputs = model(inputs)\n",
    "            prob=0\n",
    "            Tprob=0\n",
    "            j=0\n",
    "\n",
    "            while j < 3900:\n",
    "                for i in range (j,j+1):\n",
    "                    if outputs[0][i].item()> 1e-2 and labels[0][i].item()==0:\n",
    "                        for jj in range (i,i+10):\n",
    "                            Tprob+=labels[0][jj].item()\n",
    "                            prob+=outputs[0][jj].item()\n",
    "                            if outputs[0][jj]>0.01:\n",
    "                                Times=Times+1      \n",
    "                        if Tprob<0.9 and prob>0.2 and Times>=3:\n",
    "                            FP=FP+1\n",
    "                            FP_list.append((NO_Batch, j))\n",
    "                            j+=10\n",
    "                        else:\n",
    "                            j+=1\n",
    "                    else:\n",
    "                        j+=1\n",
    "          \n",
    "                            \n",
    "    return FP"
   ]
  },
  {
   "cell_type": "code",
   "execution_count": 11,
   "metadata": {},
   "outputs": [
    {
     "name": "stderr",
     "output_type": "stream",
     "text": [
      "100%|██████████| 35000/35000 [07:26<00:00, 78.32it/s]"
     ]
    },
    {
     "name": "stdout",
     "output_type": "stream",
     "text": [
      "2834\n"
     ]
    },
    {
     "name": "stderr",
     "output_type": "stream",
     "text": [
      "\n"
     ]
    }
   ],
   "source": [
    "FP = testNet2(model, batch_size=1)\n",
    "print(FP)"
   ]
  },
  {
   "cell_type": "code",
   "execution_count": null,
   "metadata": {},
   "outputs": [],
   "source": []
  }
 ],
 "metadata": {
  "kernelspec": {
   "display_name": "Python 3",
   "language": "python",
   "name": "python3"
  },
  "language_info": {
   "codemirror_mode": {
    "name": "ipython",
    "version": 3
   },
   "file_extension": ".py",
   "mimetype": "text/x-python",
   "name": "python",
   "nbconvert_exporter": "python",
   "pygments_lexer": "ipython3",
   "version": "3.6.4"
  }
 },
 "nbformat": 4,
 "nbformat_minor": 2
}
