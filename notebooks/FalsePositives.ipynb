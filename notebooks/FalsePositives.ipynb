{
 "cells": [
  {
   "cell_type": "code",
   "execution_count": 150,
   "metadata": {},
   "outputs": [],
   "source": [
    "# Import from local package\n",
    "import sys\n",
    "sys.path.append('../model')\n",
    "import torch\n",
    "import numpy as np\n",
    "from tqdm import tqdm as progress_bar\n",
    "import numba\n",
    "\n",
    "# Device configuration\n",
    "device = torch.device(\"cpu\")"
   ]
  },
  {
   "cell_type": "code",
   "execution_count": 2,
   "metadata": {},
   "outputs": [],
   "source": [
    "import matplotlib.pyplot as plt"
   ]
  },
  {
   "cell_type": "code",
   "execution_count": 8,
   "metadata": {},
   "outputs": [],
   "source": [
    "from models import SimpleCNN3Layer as Model\n",
    "from collectdata import DataCollector"
   ]
  },
  {
   "cell_type": "code",
   "execution_count": 9,
   "metadata": {},
   "outputs": [
    {
     "name": "stdout",
     "output_type": "stream",
     "text": [
      "Loaded /data/schreihf/PvFinder/Aug_15_140000.npz in 8.927 s\n",
      "Samples in Training: 120000 Validation: 10000 Test: 10000\n"
     ]
    }
   ],
   "source": [
    "collector = DataCollector(\n",
    "    \"/data/schreihf/PvFinder/Aug_15_140000.npz\",\n",
    "    120_000, 10_000)"
   ]
  },
  {
   "cell_type": "code",
   "execution_count": 10,
   "metadata": {},
   "outputs": [
    {
     "name": "stdout",
     "output_type": "stream",
     "text": [
      "Constructing dataset on cpu took 0.4116 s\n"
     ]
    }
   ],
   "source": [
    "validation = collector.get_validation(1)"
   ]
  },
  {
   "cell_type": "code",
   "execution_count": 11,
   "metadata": {},
   "outputs": [
    {
     "data": {
      "text/plain": [
       "SimpleCNN3Layer(\n",
       "  (conv1): Conv1d(1, 10, kernel_size=(25,), stride=(1,), padding=(12,))\n",
       "  (conv2): Conv1d(10, 5, kernel_size=(15,), stride=(1,), padding=(7,))\n",
       "  (conv3): Conv1d(5, 1, kernel_size=(5,), stride=(1,), padding=(2,))\n",
       "  (conv3dropout): Dropout(p=0.35)\n",
       "  (fc1): Linear(in_features=4000, out_features=4000, bias=True)\n",
       ")"
      ]
     },
     "execution_count": 11,
     "metadata": {},
     "output_type": "execute_result"
    }
   ],
   "source": [
    "name = '../model/output3/20180815_120000_3layer_30.pyt'\n",
    "model = Model().to(device)\n",
    "model.load_state_dict(torch.load(name))\n",
    "model.eval()"
   ]
  },
  {
   "cell_type": "markdown",
   "metadata": {},
   "source": [
    "## Old version"
   ]
  },
  {
   "cell_type": "code",
   "execution_count": 13,
   "metadata": {},
   "outputs": [],
   "source": [
    "# Check False Positive\n",
    "def testNet2(model, test_loader):\n",
    "    FP_list=[]\n",
    "    N=0\n",
    "    Times=0\n",
    "    NO_Batch=0\n",
    "    FP=0\n",
    "    \n",
    "    \n",
    "    with torch.no_grad():\n",
    "        for inputs, labels in progress_bar(test_loader):\n",
    "            NO_Batch = NO_Batch +1\n",
    "            \n",
    "            #Forward pass\n",
    "            outputs = model(inputs)\n",
    "            \n",
    "            \n",
    "            prob=0\n",
    "            Tprob=0\n",
    "            j=0\n",
    "\n",
    "            while j < 3900:\n",
    "                for i in range (j,j+1):\n",
    "                    if outputs[0][i].item()> 1e-2 and labels[0][i].item()==0:\n",
    "                        for jj in range (i,i+10):\n",
    "                            Tprob+=labels[0][jj].item()\n",
    "                            prob+=outputs[0][jj].item()\n",
    "                            if outputs[0][jj]>0.01:\n",
    "                                Times=Times+1      \n",
    "                        if Tprob<0.9 and prob>0.2 and Times>=3:\n",
    "                            FP=FP+1\n",
    "                            FP_list.append((NO_Batch, j))\n",
    "                            j+=10\n",
    "                        else:\n",
    "                            j+=1\n",
    "                    else:\n",
    "                        j+=1\n",
    "                            \n",
    "    return FP"
   ]
  },
  {
   "cell_type": "code",
   "execution_count": 14,
   "metadata": {},
   "outputs": [
    {
     "name": "stderr",
     "output_type": "stream",
     "text": [
      "100%|██████████| 10000/10000 [02:12<00:00, 75.41it/s]"
     ]
    },
    {
     "name": "stdout",
     "output_type": "stream",
     "text": [
      "2348\n"
     ]
    },
    {
     "name": "stderr",
     "output_type": "stream",
     "text": [
      "\n"
     ]
    }
   ],
   "source": [
    "FP = testNet2(model, validation)\n",
    "print(FP)"
   ]
  },
  {
   "cell_type": "markdown",
   "metadata": {},
   "source": [
    "## Modern Version"
   ]
  },
  {
   "cell_type": "code",
   "execution_count": 35,
   "metadata": {},
   "outputs": [],
   "source": [
    "@numba.jit(numba.int32(numba.float32[:],numba.float32[:]))\n",
    "def look_for_missing(outputs, labels):\n",
    "    prob = 0\n",
    "    Tprob = 0\n",
    "    j = 0\n",
    "    FP = 0\n",
    "\n",
    "    while j < 3900:\n",
    "        \n",
    "        for i in range (j, j+1):\n",
    "            \n",
    "            # If output value and not label value\n",
    "            if outputs[i] > 1e-2 and labels[i] == 0:\n",
    "                \n",
    "                # Scan the next ten cells\n",
    "                for jj in range(i, i+10):\n",
    "                    Tprob += labels[jj]\n",
    "                    prob += outputs[jj]\n",
    "                    \n",
    "                        \n",
    "                # If label_prob is small and output_prob is large,\n",
    "                # count a false positive and move on 10 cells\n",
    "                if Tprob < 0.9 and prob > 0.2:\n",
    "                    FP += 1\n",
    "                    j += 10\n",
    "                else:\n",
    "                    j += 1\n",
    "            else:\n",
    "                j += 1\n",
    "                \n",
    "    return FP"
   ]
  },
  {
   "cell_type": "code",
   "execution_count": 75,
   "metadata": {},
   "outputs": [],
   "source": [
    "# Check False Positive\n",
    "def testNet3(model, test_loader):\n",
    "    FP_list=[]\n",
    "    N=0\n",
    "    NO_Batch=0\n",
    "    FP=0\n",
    "    \n",
    "    \n",
    "    with torch.no_grad():\n",
    "        for inputs, labels in progress_bar(test_loader):\n",
    "            NO_Batch = NO_Batch +1\n",
    "            \n",
    "            #Forward pass\n",
    "            outputs = model(inputs)\n",
    "            \n",
    "            \n",
    "            value = look_for_missing(outputs[0].numpy(), labels[0].numpy())\n",
    "            FP += value\n",
    "                            \n",
    "    return FP"
   ]
  },
  {
   "cell_type": "code",
   "execution_count": 76,
   "metadata": {},
   "outputs": [
    {
     "name": "stderr",
     "output_type": "stream",
     "text": [
      "  1%|          | 79/10000 [00:00<00:26, 372.27it/s]"
     ]
    },
    {
     "name": "stdout",
     "output_type": "stream",
     "text": [
      "2: 1\n",
      "4: 2\n",
      "11: 1\n",
      "18: 1\n",
      "20: 1\n",
      "22: 1\n",
      "30: 1\n",
      "35: 1\n",
      "36: 1\n",
      "38: 1\n",
      "47: 1\n",
      "55: 1\n",
      "58: 1\n",
      "62: 2\n",
      "64: 1\n",
      "65: 1\n",
      "71: 1\n",
      "78: 2\n",
      "81: 1\n"
     ]
    },
    {
     "name": "stderr",
     "output_type": "stream",
     "text": []
    },
    {
     "name": "stdout",
     "output_type": "stream",
     "text": [
      "86: 1\n",
      "87: 1\n",
      "88: 1\n",
      "99: 1\n",
      "112: 1\n",
      "122: 1\n",
      "134: 1\n",
      "137: 2\n",
      "138: 1\n",
      "147: 2\n",
      "150: 2\n",
      "154: 3\n",
      "156: 1\n",
      "160: 1\n",
      "164: 1\n"
     ]
    },
    {
     "name": "stderr",
     "output_type": "stream",
     "text": [
      "  3%|▎         | 314/10000 [00:00<00:18, 517.93it/s]"
     ]
    },
    {
     "name": "stdout",
     "output_type": "stream",
     "text": [
      "189: 1\n",
      "196: 1\n"
     ]
    },
    {
     "name": "stderr",
     "output_type": "stream",
     "text": [
      "100%|██████████| 10000/10000 [00:13<00:00, 737.83it/s]"
     ]
    },
    {
     "name": "stdout",
     "output_type": "stream",
     "text": [
      "2348\n"
     ]
    },
    {
     "name": "stderr",
     "output_type": "stream",
     "text": [
      "\n"
     ]
    }
   ],
   "source": [
    "FP3 = testNet3(model, validation)\n",
    "print(FP3)"
   ]
  },
  {
   "cell_type": "code",
   "execution_count": 95,
   "metadata": {},
   "outputs": [
    {
     "data": {
      "image/png": "[encoded data removed]",
      "text/plain": [
       "<matplotlib.figure.Figure at 0x7f8f2518cf60>"
      ]
     },
     "metadata": {},
     "output_type": "display_data"
    }
   ],
   "source": [
    "i = 154\n",
    "Y = validation.dataset.tensors[1][i]\n",
    "with torch.no_grad():\n",
    "    out = model(validation.dataset.tensors[0][i][None,:,:])\n",
    "\n",
    "truth = Y.numpy()\n",
    "predict = out.numpy().squeeze()\n",
    "\n",
    "# Find the locations of values so that we can set limits\n",
    "non_zero, = np.nonzero(np.round(truth + predict, 4))\n",
    "    \n",
    "plt.figure(figsize=(18,2))\n",
    "plt.plot(-truth, label='Truth')\n",
    "plt.plot(predict, label='Prediction')\n",
    "plt.xlim(min(non_zero) - 20, max(non_zero) + 400)\n",
    "plt.legend();"
   ]
  },
  {
   "cell_type": "code",
   "execution_count": 128,
   "metadata": {},
   "outputs": [],
   "source": [
    "@numba.jit(numba.float32[:](numba.float32[:], numba.float32), nopython=True)\n",
    "def pv_locations(targets, threshold):\n",
    "    state = False\n",
    "    start = 0\n",
    "    items = np.empty(150, np.float32)\n",
    "    nitems = 0\n",
    "    \n",
    "    for i in range(len(targets)):\n",
    "        if targets[i] >= threshold and not state:\n",
    "            state = True\n",
    "            start = i\n",
    "        elif targets[i] < threshold and state:\n",
    "            state = False\n",
    "            items[nitems] = (i + start) / 2.\n",
    "            nitems += 1\n",
    "        # otherwise, keep going\n",
    "    return items[:nitems]"
   ]
  },
  {
   "cell_type": "code",
   "execution_count": 123,
   "metadata": {},
   "outputs": [
    {
     "data": {
      "text/plain": [
       "array([ 828. , 1249. , 1291.5, 1783.5, 2208.5, 2338. , 2800. , 3153.5],\n",
       "      dtype=float32)"
      ]
     },
     "execution_count": 123,
     "metadata": {},
     "output_type": "execute_result"
    }
   ],
   "source": [
    "pv_locations(truth,1e-2)"
   ]
  },
  {
   "cell_type": "code",
   "execution_count": 129,
   "metadata": {},
   "outputs": [
    {
     "data": {
      "text/plain": [
       "array([ 827. , 1249. , 1292.5, 1783. , 1925.5, 2208.5, 2355.5, 2800.5,\n",
       "       3153.5], dtype=float32)"
      ]
     },
     "execution_count": 129,
     "metadata": {},
     "output_type": "execute_result"
    }
   ],
   "source": [
    "pv_locations(predict, 1e-2)"
   ]
  },
  {
   "cell_type": "code",
   "execution_count": 125,
   "metadata": {},
   "outputs": [
    {
     "name": "stdout",
     "output_type": "stream",
     "text": [
      "5.11 µs ± 11.5 ns per loop (mean ± std. dev. of 7 runs, 100000 loops each)\n"
     ]
    }
   ],
   "source": [
    "%%timeit\n",
    "pv_locations(predict, 1e-2)"
   ]
  },
  {
   "cell_type": "code",
   "execution_count": 127,
   "metadata": {},
   "outputs": [
    {
     "name": "stdout",
     "output_type": "stream",
     "text": [
      "9.19 ms ± 32.6 µs per loop (mean ± std. dev. of 7 runs, 100 loops each)\n"
     ]
    }
   ],
   "source": [
    "%%timeit\n",
    "pv_locations(predict, 1e-2)"
   ]
  },
  {
   "cell_type": "code",
   "execution_count": 138,
   "metadata": {},
   "outputs": [],
   "source": [
    "@numba.jit(numba.types.UniTuple(numba.int32,2)(numba.float32[:], numba.float32[:], numba.float32), nopython=True)\n",
    "def compare(a, b, diff):\n",
    "    succeed = 0\n",
    "    fail = 0\n",
    "    \n",
    "    # Check for closest value\n",
    "    for item in a:\n",
    "        mindiff = np.abs(b-item).min()\n",
    "        if mindiff > diff:\n",
    "            fail += 1\n",
    "        else:\n",
    "            succeed += 1\n",
    "    \n",
    "    return succeed, fail"
   ]
  },
  {
   "cell_type": "code",
   "execution_count": 139,
   "metadata": {},
   "outputs": [
    {
     "name": "stdout",
     "output_type": "stream",
     "text": [
      "7 1\n",
      "7 2\n"
     ]
    }
   ],
   "source": [
    "a = pv_locations(truth, 1e-2)\n",
    "b = pv_locations(predict, 1e-2)\n",
    "\n",
    "print(*compare(a, b, 3.))\n",
    "print(*compare(b, a, 3.))"
   ]
  },
  {
   "cell_type": "code",
   "execution_count": 145,
   "metadata": {},
   "outputs": [],
   "source": [
    "@numba.jit(numba.types.UniTuple(numba.int32,3)(numba.float32[:], numba.float32[:], numba.float32, numba.float32))\n",
    "def efficency(truth, predict, threshold, difference):\n",
    "    \"\"\"\n",
    "    Compute three value: The number of succeses (S), the number of missed true values (MT), and the number of missed false values (FP).\n",
    "    \n",
    "    Accepts:\n",
    "      * truth: Numpy array of truth values\n",
    "      * predict: Numpy array of predictions\n",
    "      * threshold: The threshold for considering an \"on\" value\n",
    "      * difference: The maximum difference to count a success, in bin widths (successes and failures are to the nearest half bin, currently)\n",
    "    \n",
    "    Returns: S, MT, FP\n",
    "    \n",
    "    A future advancement of this algorithm would be to compute the weighted mean, and use that.\n",
    "    Also, this will currently be triggered by small fluctionations in the input array. It should have a minium total integrated value\n",
    "    required to \"turn it on\".\n",
    "    \"\"\"\n",
    "    \n",
    "    a = pv_locations(truth, threshold)\n",
    "    b = pv_locations(predict, threshold)\n",
    "\n",
    "    S, MT = compare(a, b, difference)\n",
    "    Sp, FP = compare(b, a, difference)\n",
    "    \n",
    "    assert S == Sp\n",
    "    \n",
    "    return S, MT, FP"
   ]
  },
  {
   "cell_type": "code",
   "execution_count": 149,
   "metadata": {},
   "outputs": [
    {
     "name": "stdout",
     "output_type": "stream",
     "text": [
      "11.8 µs ± 38.7 ns per loop (mean ± std. dev. of 7 runs, 100000 loops each)\n"
     ]
    }
   ],
   "source": [
    "%%timeit\n",
    "efficency(truth, predict, 1e-2, 20.)"
   ]
  },
  {
   "cell_type": "code",
   "execution_count": null,
   "metadata": {},
   "outputs": [],
   "source": []
  }
 ],
 "metadata": {
  "kernelspec": {
   "display_name": "Python 3",
   "language": "python",
   "name": "python3"
  },
  "language_info": {
   "codemirror_mode": {
    "name": "ipython",
    "version": 3
   },
   "file_extension": ".py",
   "mimetype": "text/x-python",
   "name": "python",
   "nbconvert_exporter": "python",
   "pygments_lexer": "ipython3",
   "version": "3.6.4"
  }
 },
 "nbformat": 4,
 "nbformat_minor": 2
}
