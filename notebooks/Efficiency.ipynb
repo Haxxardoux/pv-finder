{
 "cells": [
  {
   "cell_type": "code",
   "execution_count": null,
   "metadata": {},
   "outputs": [],
   "source": [
    "import torch\n",
    "from pathlib import Path\n",
    "import numpy as np\n",
    "from collections import Counter, OrderedDict\n",
    "import matplotlib.pyplot as plt"
   ]
  },
  {
   "cell_type": "code",
   "execution_count": null,
   "metadata": {},
   "outputs": [],
   "source": [
    "plt.style.use('model/lhcb.mplstyle')"
   ]
  },
  {
   "cell_type": "code",
   "execution_count": null,
   "metadata": {},
   "outputs": [],
   "source": [
    "from model.models import AltCNN4Layer_D35_sp as Model\n",
    "from model.collectdata import collect_data, collect_truth\n",
    "from model.plots import plot_truth_vs_predict\n",
    "from model.efficiency import efficiency, ValueSet, pv_locations, exact_efficiency\n",
    "from model.training import select_gpu\n",
    "from model.core import modernize_state"
   ]
  },
  {
   "cell_type": "markdown",
   "metadata": {},
   "source": [
    "#### Device configuration"
   ]
  },
  {
   "cell_type": "code",
   "execution_count": null,
   "metadata": {},
   "outputs": [],
   "source": [
    "# device = select_gpu(2)\n",
    "device = torch.device(\"cpu\")"
   ]
  },
  {
   "cell_type": "markdown",
   "metadata": {},
   "source": [
    "#### Load a dataset"
   ]
  },
  {
   "cell_type": "code",
   "execution_count": null,
   "metadata": {},
   "outputs": [],
   "source": [
    "valfile = Path('/share/lazy/schreihf/PvFinder/Oct03_20K_val.h5')"
   ]
  },
  {
   "cell_type": "code",
   "execution_count": null,
   "metadata": {},
   "outputs": [],
   "source": [
    "validation = collect_data(valfile,\n",
    "                          batch_size=1,\n",
    "                          device=device,\n",
    "                          slice=slice(20000),\n",
    "                          masking=True)\n",
    "                          "
   ]
  },
  {
   "cell_type": "code",
   "execution_count": null,
   "metadata": {},
   "outputs": [],
   "source": [
    "model = Model().to(device)"
   ]
  },
  {
   "cell_type": "markdown",
   "metadata": {},
   "source": [
    "#### Load the model weights\n",
    "\n",
    "Modernizing old style models if needed."
   ]
  },
  {
   "cell_type": "code",
   "execution_count": null,
   "metadata": {},
   "outputs": [],
   "source": [
    "state = torch.load(\n",
    "    '/share/lazy/schreihf/PvFinder/models/'\n",
    "    '07Jan19_AltCNN4Layer_D35_sp_300epochs_240K_lr_3em5_bs256_Alt_Loss_A_5p5/'\n",
    "    '07Jan19_AltCNN4Layer_D35_sp_300epochs_240K_lr_3em5_bs256_Alt_Loss_A_5p5_199.pyt'\n",
    ")"
   ]
  },
  {
   "cell_type": "code",
   "execution_count": null,
   "metadata": {},
   "outputs": [],
   "source": [
    "del state['fc1.weight'], state['fc1.bias']"
   ]
  },
  {
   "cell_type": "code",
   "execution_count": null,
   "metadata": {},
   "outputs": [],
   "source": [
    "state = modernize_state(model, state)"
   ]
  },
  {
   "cell_type": "code",
   "execution_count": null,
   "metadata": {},
   "outputs": [],
   "source": [
    "model.load_state_dict(state)\n",
    "model.eval()"
   ]
  },
  {
   "cell_type": "markdown",
   "metadata": {},
   "source": [
    "#### Compute the model and move results to Numpy"
   ]
  },
  {
   "cell_type": "code",
   "execution_count": null,
   "metadata": {},
   "outputs": [],
   "source": [
    "%%time\n",
    "with torch.no_grad():\n",
    "    outputs = model(validation.dataset.tensors[0]).cpu().numpy()\n",
    "    labels = validation.dataset.tensors[1].cpu().numpy()"
   ]
  },
  {
   "cell_type": "markdown",
   "metadata": {},
   "source": [
    "#### Compute the efficencies over the dataset"
   ]
  },
  {
   "cell_type": "code",
   "execution_count": null,
   "metadata": {},
   "outputs": [],
   "source": [
    "%%time\n",
    "total = ValueSet(0,0,0,0)\n",
    "\n",
    "for label, output in zip(labels, outputs):\n",
    "    total += efficiency(label, output, 5., 1e-2, .2, 3)"
   ]
  },
  {
   "cell_type": "code",
   "execution_count": null,
   "metadata": {},
   "outputs": [],
   "source": [
    "print(total)\n",
    "print()\n",
    "print(total.pretty())"
   ]
  },
  {
   "cell_type": "markdown",
   "metadata": {},
   "source": [
    "#### Some examples of the counting algorithm:"
   ]
  },
  {
   "cell_type": "code",
   "execution_count": null,
   "metadata": {},
   "outputs": [],
   "source": [
    "for i in range(20):\n",
    "    result = efficiency(labels[i], outputs[i], 5., 1e-2, .2, 3)\n",
    "    print(format(i, '2'), result)"
   ]
  },
  {
   "cell_type": "code",
   "execution_count": null,
   "metadata": {},
   "outputs": [],
   "source": [
    "for i in range(20):\n",
    "    result = efficiency(labels[i], outputs[i], 5., 1e-2,.2, 3)\n",
    "    ax = plot_truth_vs_predict(labels[i], outputs[i])\n",
    "    ax.set_title(str(result))"
   ]
  },
  {
   "cell_type": "markdown",
   "metadata": {},
   "source": [
    "#### Adding nTracks"
   ]
  },
  {
   "cell_type": "code",
   "execution_count": null,
   "metadata": {},
   "outputs": [],
   "source": [
    "truth = collect_truth(valfile)"
   ]
  },
  {
   "cell_type": "code",
   "execution_count": null,
   "metadata": {},
   "outputs": [],
   "source": [
    "eff_settings = dict(\n",
    "    difference = 5., # bins\n",
    "    threshold = 1e-2,\n",
    "    integral_threshold = .2,\n",
    "    min_width = 3    # bins\n",
    ")\n",
    "\n",
    "eff_settings_nodiff = eff_settings.copy()\n",
    "del eff_settings_nodiff['difference']"
   ]
  },
  {
   "cell_type": "code",
   "execution_count": null,
   "metadata": {},
   "outputs": [],
   "source": [
    "i = 2\n",
    "\n",
    "print(efficiency(labels[i], outputs[i], **eff_settings))\n",
    "\n",
    "found_values = pv_locations(outputs[i], **eff_settings_nodiff)/10-100\n",
    "\n",
    "valid = truth.n[i] > 4\n",
    "zs = truth.z[i][valid]\n",
    "ns = truth.n[i][valid]\n",
    "\n",
    "print(\"Found nTracks Location\\tDistance\")\n",
    "for z,n in zip(zs, ns):\n",
    "    closest = np.min(np.abs(z - found_values))\n",
    "    found = closest < eff_settings['difference']/10\n",
    "    print(f\"{found!s:5} {n:7} {z:8.5}  {closest:8.5}\")\n",
    "    \n",
    "target_values = pv_locations(labels[i], **eff_settings_nodiff)/10-100\n",
    "target_values"
   ]
  },
  {
   "cell_type": "code",
   "execution_count": null,
   "metadata": {},
   "outputs": [],
   "source": [
    "for i in range(100):\n",
    "\n",
    "    eff = efficiency(labels[i], outputs[i], **eff_settings)\n",
    "\n",
    "    found_values = pv_locations(outputs[i], **eff_settings_nodiff)/10-100\n",
    "\n",
    "    valid = truth.n[i] > 4\n",
    "    zs = truth.z[i][valid]\n",
    "    ns = truth.n[i][valid]\n",
    "\n",
    "    total_found = 0\n",
    "    for z,n in zip(zs, ns):\n",
    "        closest = np.min(np.abs(z - found_values))\n",
    "        found = closest < eff_settings['difference']/10\n",
    "        total_found += found\n",
    "        \n",
    "    if total_found != eff.S:\n",
    "        print(i, total_found, eff.S)"
   ]
  },
  {
   "cell_type": "code",
   "execution_count": null,
   "metadata": {},
   "outputs": [],
   "source": [
    "total_found, pvs_successful, pvs_failed = exact_efficiency(truth, outputs, **eff_settings)"
   ]
  },
  {
   "cell_type": "code",
   "execution_count": null,
   "metadata": {},
   "outputs": [],
   "source": [
    "fr = (total_found - total.S) / ((total_found + total.S) / 2)\n",
    "print(f'Fractional difference between the two methods: {fr:.2%}')"
   ]
  },
  {
   "cell_type": "code",
   "execution_count": null,
   "metadata": {},
   "outputs": [],
   "source": [
    "# Found 49507 of 54804, added 5570 (eff 90.33%) (0.557 FP/event)\n",
    "print(total)\n",
    "print(f'Found {total_found} of {total.real_pvs} (eff {total_found/total.real_pvs:.2%})')"
   ]
  },
  {
   "cell_type": "code",
   "execution_count": null,
   "metadata": {},
   "outputs": [],
   "source": [
    "arr_successful = np.array([pvs_successful[i] for i in range(100)])\n",
    "arr_failed = np.array([pvs_failed[i] for i in range(100)])"
   ]
  },
  {
   "cell_type": "code",
   "execution_count": null,
   "metadata": {},
   "outputs": [],
   "source": [
    "arr_totals = arr_successful + arr_failed\n",
    "arr_totals = np.ma.array(arr_totals, mask=arr_totals==0)\n",
    "\n",
    "arr_eff = arr_successful / arr_totals"
   ]
  },
  {
   "cell_type": "code",
   "execution_count": null,
   "metadata": {},
   "outputs": [],
   "source": [
    "print(arr_eff[:61])\n",
    "print(arr_totals[:61])"
   ]
  },
  {
   "cell_type": "code",
   "execution_count": null,
   "metadata": {},
   "outputs": [],
   "source": [
    "fix, (ax1, ax2) = plt.subplots(2,1,figsize=(10,7), gridspec_kw={'height_ratios':(2,1)})\n",
    "\n",
    "ax1.bar(np.arange(5,61), arr_eff[5:61], width=1, align='edge')\n",
    "ax1.bar(np.arange(5), arr_eff[:5], width=1, align='edge')\n",
    "ax1.set_xlabel('nTracks')\n",
    "ax1.set_ylabel('Efficiency')\n",
    "ax1.set_ylim(0,1.0)\n",
    "ax1.set_xlim(0,61)\n",
    "ax1.set_yticks(np.arange(11)/10)\n",
    "ax1.set_yticks([.96,.97,.98,.99],minor=True)\n",
    "ax1.set_xticks(np.arange(0,61,5))\n",
    "ax1.grid(which='both')\n",
    "\n",
    "ax2.bar(np.arange(5,61), arr_totals[5:61], width=1, align='edge')\n",
    "ax2.bar(np.arange(5), arr_totals[:5], width=1, align='edge')\n",
    "ax2.set_xlabel('nTracks')\n",
    "ax2.set_ylabel('PVs')\n",
    "ax2.set_xlim(0,61)\n",
    "ax2.set_ylim(50,20000)\n",
    "ax2.set_yscale('log')\n",
    "ax2.set_xticks(np.arange(0,61,5))\n",
    "ax2.grid(which='both')\n",
    "\n",
    "# these are matplotlib.patch.Patch properties\n",
    "props = dict(boxstyle='round', facecolor='C2')\n",
    "textprops = dict(color='C0', multialignment='left')\n",
    "textstr = f'Found {total_found} of {total.real_pvs} (eff {total_found/total.real_pvs:.2%})'\n",
    "textstr += f'\\nMissed {total.FP} ({total.fp_rate:.3} per event)'\n",
    "textstr += '\\nAsymmetry param = 5.5'\n",
    "textstr += '\\nEvents in sample = 20K'\n",
    "\n",
    "# place a text box in upper left in axes coords\n",
    "ax1.text(0.95, 0.9, textstr, transform=ax1.transAxes, fontsize=14,\n",
    "        verticalalignment='top', horizontalalignment='right', bbox=props, fontdict=textprops)\n",
    "\n",
    "plt.tight_layout()\n",
    "plt.savefig('effntracks.pdf')\n",
    "plt.show()"
   ]
  },
  {
   "cell_type": "code",
   "execution_count": null,
   "metadata": {},
   "outputs": [],
   "source": [
    "fig, ax = plt.subplots(figsize=(12,7))\n",
    "\n",
    "ax.bar(np.arange(5,61), arr_eff[5:61], width=1, align='edge')\n",
    "ax.bar(np.arange(5), arr_eff[:5], width=1, align='edge')\n",
    "ax.set_xlabel('nTracks')\n",
    "ax.set_ylabel('Efficiency')\n",
    "ax.set_ylim(0,1.0)\n",
    "ax.set_xlim(0,61)\n",
    "ax.set_yticks(np.arange(11)/10)\n",
    "ax.set_yticks([.96,.97,.98,.99],minor=True)\n",
    "ax.set_xticks(np.arange(0,61,5))\n",
    "ax.spines[\"top\"].set_visible(False)\n",
    "ax.spines[\"right\"].set_visible(False)\n",
    "\n",
    "plt.tight_layout()\n",
    "plt.savefig('effntracks_bg.pdf')\n",
    "plt.show()"
   ]
  },
  {
   "cell_type": "code",
   "execution_count": null,
   "metadata": {},
   "outputs": [],
   "source": []
  }
 ],
 "metadata": {
  "kernelspec": {
   "display_name": "Python 3",
   "language": "python",
   "name": "python3"
  },
  "language_info": {
   "codemirror_mode": {
    "name": "ipython",
    "version": 3
   },
   "file_extension": ".py",
   "mimetype": "text/x-python",
   "name": "python",
   "nbconvert_exporter": "python",
   "pygments_lexer": "ipython3",
   "version": "3.6.8"
  }
 },
 "nbformat": 4,
 "nbformat_minor": 2
}
