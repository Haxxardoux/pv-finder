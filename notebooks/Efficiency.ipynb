{
 "cells": [
  {
   "cell_type": "code",
   "execution_count": null,
   "metadata": {},
   "outputs": [],
   "source": [
    "!nvidia-smi"
   ]
  },
  {
   "cell_type": "code",
   "execution_count": null,
   "metadata": {},
   "outputs": [],
   "source": [
    "import torch\n",
    "from pathlib import Path\n",
    "import numpy as np\n",
    "from collections import Counter\n",
    "import matplotlib.pyplot as plt"
   ]
  },
  {
   "cell_type": "markdown",
   "metadata": {},
   "source": [
    "(Don't worry if importing h5py gives a warning)"
   ]
  },
  {
   "cell_type": "code",
   "execution_count": null,
   "metadata": {},
   "outputs": [],
   "source": [
    "from model.models import SimpleCNN4Layer_D35_sp as Model\n",
    "from model.collectdata import collect_data, collect_truth\n",
    "from model.plots import plot_truth_vs_predict\n",
    "from model.efficiency import efficiency, ValueSet, pv_locations\n",
    "from model.training import select_gpu\n",
    "from model.core import modernize"
   ]
  },
  {
   "cell_type": "markdown",
   "metadata": {},
   "source": [
    "#### Device configuration"
   ]
  },
  {
   "cell_type": "code",
   "execution_count": null,
   "metadata": {},
   "outputs": [],
   "source": [
    "# device = select_gpu(2)\n",
    "device = torch.device(\"cpu\")"
   ]
  },
  {
   "cell_type": "markdown",
   "metadata": {},
   "source": [
    "#### Load a dataset"
   ]
  },
  {
   "cell_type": "code",
   "execution_count": null,
   "metadata": {},
   "outputs": [],
   "source": [
    "valfile = Path('/share/lazy/schreihf/PvFinder/Oct03_20K_val.h5')"
   ]
  },
  {
   "cell_type": "code",
   "execution_count": null,
   "metadata": {},
   "outputs": [],
   "source": [
    "validation = collect_data(valfile,\n",
    "                          batch_size=1,\n",
    "                          device=device,\n",
    "                          slice=slice(10000))\n",
    "                          "
   ]
  },
  {
   "cell_type": "code",
   "execution_count": null,
   "metadata": {},
   "outputs": [],
   "source": [
    "model = Model().to(device)"
   ]
  },
  {
   "cell_type": "markdown",
   "metadata": {},
   "source": [
    "#### Load the model weights\n",
    "\n",
    "Modernizing old style models if needed."
   ]
  },
  {
   "cell_type": "code",
   "execution_count": null,
   "metadata": {},
   "outputs": [],
   "source": [
    "state = torch.load('/share/lazy/schreihf/PvFinder/models/Dec11_SimpleCNN4Layer_D35_sp_first200epochs_240K_lr_3em5_bs512_Alt_Loss_A_4p5_final.pyt')\n",
    "state = modernize(state, 3)\n",
    "model.load_state_dict(state)\n",
    "model.eval()"
   ]
  },
  {
   "cell_type": "markdown",
   "metadata": {},
   "source": [
    "#### Compute the model and move results to Numpy"
   ]
  },
  {
   "cell_type": "code",
   "execution_count": null,
   "metadata": {},
   "outputs": [],
   "source": [
    "%%time\n",
    "with torch.no_grad():\n",
    "    outputs = model(validation.dataset.tensors[0]).cpu().numpy()\n",
    "    labels = validation.dataset.tensors[1].cpu().numpy()"
   ]
  },
  {
   "cell_type": "markdown",
   "metadata": {},
   "source": [
    "#### Compute the efficencies over the dataset"
   ]
  },
  {
   "cell_type": "code",
   "execution_count": null,
   "metadata": {},
   "outputs": [],
   "source": [
    "%%time\n",
    "total = ValueSet(0,0,0,0)\n",
    "\n",
    "for label, output in zip(labels, outputs):\n",
    "    total += efficiency(label, output, 5., 1e-2, .2, 3)"
   ]
  },
  {
   "cell_type": "code",
   "execution_count": null,
   "metadata": {},
   "outputs": [],
   "source": [
    "print(total)\n",
    "print()\n",
    "print(total.pretty())"
   ]
  },
  {
   "cell_type": "markdown",
   "metadata": {},
   "source": [
    "#### Some examples of the counting algorithm:"
   ]
  },
  {
   "cell_type": "code",
   "execution_count": null,
   "metadata": {},
   "outputs": [],
   "source": [
    "for i in range(20):\n",
    "    result = efficiency(labels[i], outputs[i], 5., 1e-2, .2, 3)\n",
    "    print(format(i, '2'), result)"
   ]
  },
  {
   "cell_type": "code",
   "execution_count": null,
   "metadata": {},
   "outputs": [],
   "source": [
    "for i in range(20):\n",
    "    result = efficiency(labels[i], outputs[i], 5., 1e-2,.2, 3)\n",
    "    ax = plot_truth_vs_predict(labels[i], outputs[i])\n",
    "    ax.set_title(str(result))"
   ]
  },
  {
   "cell_type": "markdown",
   "metadata": {},
   "source": [
    "#### Adding nTracks"
   ]
  },
  {
   "cell_type": "code",
   "execution_count": null,
   "metadata": {},
   "outputs": [],
   "source": [
    "truth = collect_truth(valfile)"
   ]
  },
  {
   "cell_type": "code",
   "execution_count": null,
   "metadata": {},
   "outputs": [],
   "source": [
    "threshold = 1e-2\n",
    "integral_threshold = .2\n",
    "min_width = 3 # bins\n",
    "difference = 5. # bins"
   ]
  },
  {
   "cell_type": "code",
   "execution_count": null,
   "metadata": {},
   "outputs": [],
   "source": [
    "i = 2\n",
    "\n",
    "print(efficiency(labels[i], outputs[i], difference, threshold, integral_threshold, min_width))\n",
    "\n",
    "found_values = pv_locations(outputs[i], threshold, integral_threshold, min_width)/10-100\n",
    "\n",
    "valid = truth.n[i] > 4\n",
    "zs = truth.z[i][valid]\n",
    "ns = truth.n[i][valid]\n",
    "\n",
    "print(\"Found nTracks Location\\tDistance\")\n",
    "for z,n in zip(zs, ns):\n",
    "    closest = np.min(np.abs(z - found_values))\n",
    "    found = closest < difference/10\n",
    "    print(f\"{found!s:5} {n:7} {z:8.5}  {closest:8.5}\")\n",
    "    \n",
    "target_values = pv_locations(labels[i], threshold, integral_threshold, min_width)/10-100\n",
    "target_values"
   ]
  },
  {
   "cell_type": "code",
   "execution_count": null,
   "metadata": {},
   "outputs": [],
   "source": []
  },
  {
   "cell_type": "code",
   "execution_count": null,
   "metadata": {},
   "outputs": [],
   "source": []
  },
  {
   "cell_type": "code",
   "execution_count": null,
   "metadata": {},
   "outputs": [],
   "source": [
    "for i in range(100):\n",
    "\n",
    "    eff = efficiency(labels[i], outputs[i], difference, threshold, integral_threshold, min_width)\n",
    "\n",
    "    found_values = pv_locations(outputs[i], threshold, integral_threshold, min_width)/10-100\n",
    "\n",
    "    valid = truth.n[i] > 4\n",
    "    zs = truth.z[i][valid]\n",
    "    ns = truth.n[i][valid]\n",
    "\n",
    "    total_found = 0\n",
    "    for z,n in zip(zs, ns):\n",
    "        closest = np.min(np.abs(z - found_values))\n",
    "        found = closest < difference/10\n",
    "        total_found += found\n",
    "        \n",
    "    if total_found != eff.S:\n",
    "        print(i, total_found, eff.S)"
   ]
  },
  {
   "cell_type": "code",
   "execution_count": null,
   "metadata": {},
   "outputs": [],
   "source": [
    "total_found = 0\n",
    "eff_found = 0\n",
    "\n",
    "pvs_successful = Counter()\n",
    "pvs_failed = Counter()\n",
    "\n",
    "for i in range(len(labels)):\n",
    "    eff = efficiency(labels[i], outputs[i], difference, threshold, integral_threshold, min_width)\n",
    "\n",
    "    found_values = pv_locations(outputs[i], threshold, integral_threshold, min_width)/10-100\n",
    "\n",
    "    valid = truth.n[i] > 4\n",
    "    zs = truth.z[i][valid]\n",
    "    ns = truth.n[i][valid]\n",
    "\n",
    "    for z,n in zip(zs, ns):\n",
    "        if len(found_values) == 0:\n",
    "            continue\n",
    "        closest = np.min(np.abs(z - found_values))\n",
    "        found = closest < difference/10\n",
    "        total_found += found\n",
    "        \n",
    "        if found:\n",
    "            pvs_successful[n] += 1\n",
    "        else:\n",
    "            pvs_failed[n] += 1\n",
    "        \n",
    "    eff_found += eff.S\n"
   ]
  },
  {
   "cell_type": "code",
   "execution_count": null,
   "metadata": {},
   "outputs": [],
   "source": [
    "(total_found - eff_found) / ((total_found + eff_found) / 2)"
   ]
  },
  {
   "cell_type": "code",
   "execution_count": null,
   "metadata": {},
   "outputs": [],
   "source": [
    "# Found 49507 of 54804, added 5570 (eff 90.33%) (0.557 FP/event)\n",
    "print(total_found, eff_found)"
   ]
  },
  {
   "cell_type": "code",
   "execution_count": null,
   "metadata": {},
   "outputs": [],
   "source": [
    "arr_successful = np.array([pvs_successful[i] for i in range(100)])\n",
    "arr_failed = np.array([pvs_failed[i] for i in range(100)])"
   ]
  },
  {
   "cell_type": "code",
   "execution_count": null,
   "metadata": {},
   "outputs": [],
   "source": [
    "arr_totals = arr_successful + arr_failed\n",
    "arr_totals = np.ma.array(arr_totals, mask=arr_totals==0)\n",
    "\n",
    "arr_eff = arr_successful / arr_totals"
   ]
  },
  {
   "cell_type": "code",
   "execution_count": null,
   "metadata": {},
   "outputs": [],
   "source": [
    "print(arr_eff[:61])\n",
    "print(arr_totals[:61])"
   ]
  },
  {
   "cell_type": "code",
   "execution_count": null,
   "metadata": {},
   "outputs": [],
   "source": [
    "plt.figure(figsize=(10,10))\n",
    "\n",
    "plt.subplot(211)\n",
    "plt.bar(np.arange(61), arr_eff[:61], width=1, align='edge')\n",
    "plt.xlabel('nTracks')\n",
    "plt.ylabel('Efficiency')\n",
    "plt.ylim(.6,1.01)\n",
    "plt.xlim(5,61)\n",
    "plt.grid()\n",
    "\n",
    "plt.subplot(212)\n",
    "plt.bar(np.arange(61), arr_totals[:61], width=1, align='edge')\n",
    "plt.xlabel('nTracks')\n",
    "plt.ylabel('PVs')\n",
    "plt.xlim(5,61)\n",
    "plt.grid()\n",
    "plt.show()"
   ]
  },
  {
   "cell_type": "code",
   "execution_count": null,
   "metadata": {},
   "outputs": [],
   "source": []
  }
 ],
 "metadata": {
  "kernelspec": {
   "display_name": "Python 3",
   "language": "python",
   "name": "python3"
  },
  "language_info": {
   "codemirror_mode": {
    "name": "ipython",
    "version": 3
   },
   "file_extension": ".py",
   "mimetype": "text/x-python",
   "name": "python",
   "nbconvert_exporter": "python",
   "pygments_lexer": "ipython3",
   "version": "3.6.8"
  }
 },
 "nbformat": 4,
 "nbformat_minor": 2
}
