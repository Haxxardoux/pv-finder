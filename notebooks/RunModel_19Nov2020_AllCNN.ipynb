{
 "cells": [
  {
   "cell_type": "code",
   "execution_count": 1,
   "metadata": {},
   "outputs": [],
   "source": [
    "##%matplotlib widget\n",
    "## with %matplotlib notebook: seems to require ipympl as part of environment, either\n",
    "## part of the conda environment or \"pip install ipympl\"\n",
    "## otherwise, does not show ANY plots in notebook, plt.savefig() works\n",
    "%matplotlib notebook  \n",
    "##%matplotlib inline    ## --plt.savefig()  works, but re-sizing does NOT"
   ]
  },
  {
   "cell_type": "markdown",
   "metadata": {},
   "source": [
    "This notebook is a short demo to illustrate execution.   For odd historical reasons, it uses \"toy Monte Carlo\" (simulated data)for \"training\" and \"full LHCB MC\" for validation.\n",
    "\n",
    "The network architecture is a \"simple\" model that uses 1 input channel (the KDE [kernel density estimator] but from the track parameters) feeding 5 convolutional layers followed by a fully connected layer.\n",
    "\n",
    "In today's version, the network will start with weights from a previously trained version.\n",
    " "
   ]
  },
  {
   "cell_type": "markdown",
   "metadata": {},
   "source": [
    "Check the current GPU usage. Please try to be nice!"
   ]
  },
  {
   "cell_type": "code",
   "execution_count": 2,
   "metadata": {
    "scrolled": true
   },
   "outputs": [
    {
     "name": "stdout",
     "output_type": "stream",
     "text": [
      "Wed Mar 10 09:00:49 2021       \r\n",
      "+-----------------------------------------------------------------------------+\r\n",
      "| NVIDIA-SMI 440.64.00    Driver Version: 440.64.00    CUDA Version: 10.2     |\r\n",
      "|-------------------------------+----------------------+----------------------+\r\n",
      "| GPU  Name        Persistence-M| Bus-Id        Disp.A | Volatile Uncorr. ECC |\r\n",
      "| Fan  Temp  Perf  Pwr:Usage/Cap|         Memory-Usage | GPU-Util  Compute M. |\r\n",
      "|===============================+======================+======================|\r\n",
      "|   0  TITAN V             Off  | 00000000:03:00.0 Off |                  N/A |\r\n",
      "| 20%   32C    P0    31W / 250W |      0MiB / 12066MiB |      0%      Default |\r\n",
      "+-------------------------------+----------------------+----------------------+\r\n",
      "|   1  Tesla P100-PCIE...  Off  | 00000000:83:00.0 Off |                    0 |\r\n",
      "| N/A   32C    P0    33W / 250W |      0MiB / 16280MiB |      0%      Default |\r\n",
      "+-------------------------------+----------------------+----------------------+\r\n",
      "|   2  TITAN V             Off  | 00000000:84:00.0 Off |                  N/A |\r\n",
      "| 20%   35C    P0    34W / 250W |      0MiB / 12066MiB |      0%      Default |\r\n",
      "+-------------------------------+----------------------+----------------------+\r\n",
      "                                                                               \r\n",
      "+-----------------------------------------------------------------------------+\r\n",
      "| Processes:                                                       GPU Memory |\r\n",
      "|  GPU       PID   Type   Process name                             Usage      |\r\n",
      "|=============================================================================|\r\n",
      "|  No running processes found                                                 |\r\n",
      "+-----------------------------------------------------------------------------+\r\n"
     ]
    }
   ],
   "source": [
    "!nvidia-smi"
   ]
  },
  {
   "cell_type": "markdown",
   "metadata": {},
   "source": [
    "> **WARNING**: The card numbers here are *not* the same as in CUDA. You have been warned."
   ]
  },
  {
   "cell_type": "markdown",
   "metadata": {},
   "source": [
    "## Imports"
   ]
  },
  {
   "cell_type": "code",
   "execution_count": 3,
   "metadata": {
    "scrolled": false
   },
   "outputs": [
    {
     "name": "stderr",
     "output_type": "stream",
     "text": [
      "/data/conda/envs/goofit-june2020/lib/python3.7/site-packages/awkward/__init__.py:23: DeprecationWarning: Consider switching from 'awkward' to 'awkward1', since the new interface will become the default later this year (2020).\n",
      "\n",
      "    pip install -U awkward1\n",
      "\n",
      "In Python:\n",
      "\n",
      "    >>> import awkward1 as ak\n",
      "    >>> new_style_array = ak.from_awkward0(old_style_array)\n",
      "    >>> old_style_array = ak.to_awkward0(new_style_array)\n",
      "\n",
      "  DeprecationWarning\n"
     ]
    }
   ],
   "source": [
    "import matplotlib.pyplot as plt\n",
    "import numpy as np\n",
    "import time\n",
    "import torch\n",
    "import pandas as pd\n",
    "import mlflow\n",
    "\n",
    "# Python 3 standard library\n",
    "from pathlib import Path\n",
    "\n",
    "from torchsummary import summary\n",
    "\n",
    "'''\n",
    "HELPER FUNCTIONS\n",
    "'''\n",
    "# From model/collectdata.py\n",
    "from model.collectdata_mdsA import collect_data\n",
    "# For poca KDE\n",
    "from model.collectdata_poca_KDE import collect_data_poca\n",
    "\n",
    "# From model/loss.py\n",
    "##from loss import Loss\n",
    "from model.alt_loss_A import Loss\n",
    "\n",
    "# From model/training.py\n",
    "from model.training import trainNet, select_gpu, Results\n",
    "\n",
    "# From model/models.py\n",
    "##  will start with model from TwoFeatures_CNN6Layer_A in the first instance\n",
    "##  see relevant cell below\n",
    "\n",
    "from model.models_mjp_19November20 import All_CNN6Layer_A as ModelA\n",
    "from model.models_mjp_19November20 import All_CNN6Layer_E as ModelE\n",
    "from model.models_mjp_19November20 import All_CNN8Layer_W as ModelW\n",
    "from model.models_mjp_26December20 import All_CNN10Layer_X as ModelX\n",
    "from model.models_mjp_26December20 import All_CNN8Layer_Y as ModelY\n",
    "from model.models_mjp_30Jan21_AllCNN import ACN_2_10L_4S_BN as ModelXX\n",
    "\n",
    "# From model/utilities.py\n",
    "from model.utilities import load_full_state, count_parameters, Params\n",
    "\n",
    "from model.plots import dual_train_plots, replace_in_ax\n",
    "\n",
    "## adds image of model architecture\n",
    "import hiddenlayer as HL"
   ]
  },
  {
   "cell_type": "markdown",
   "metadata": {},
   "source": [
    "Set up Torch device configuration. All tensors and model parameters need to know where to be put.\n",
    "This takes a BUS ID number: The BUS ID is the same as the listing at the top of this script."
   ]
  },
  {
   "cell_type": "code",
   "execution_count": 4,
   "metadata": {},
   "outputs": [
    {
     "name": "stdout",
     "output_type": "stream",
     "text": [
      "1 available GPUs (initially using device 0):\n",
      "  0 TITAN V\n"
     ]
    },
    {
     "name": "stderr",
     "output_type": "stream",
     "text": [
      "/data/conda/envs/goofit-june2020/lib/python3.7/site-packages/ipykernel/ipkernel.py:287: DeprecationWarning: `should_run_async` will not call `transform_cell` automatically in the future. Please pass the result to `transformed_cell` argument and any exception that happen during thetransform in `preprocessing_exc_tuple` in IPython 7.17 and above.\n",
      "  and should_run_async(code)\n"
     ]
    }
   ],
   "source": [
    "device = select_gpu(0)"
   ]
  },
  {
   "cell_type": "markdown",
   "metadata": {},
   "source": [
    "### Set up local parameters"
   ]
  },
  {
   "cell_type": "code",
   "execution_count": 5,
   "metadata": {},
   "outputs": [],
   "source": [
    "# params order - batch size, epochs, lr, epoch_start (which is usually set to 0)\n",
    "args = Params(128, 500, 1e-6, 820)"
   ]
  },
  {
   "cell_type": "markdown",
   "metadata": {},
   "source": [
    "## Loading data\n",
    "\n",
    "Load the dataset, split into parts, then move to device (see `collectdata.py` in the `../model` directory)"
   ]
  },
  {
   "cell_type": "code",
   "execution_count": 6,
   "metadata": {
    "scrolled": true
   },
   "outputs": [
    {
     "name": "stdout",
     "output_type": "stream",
     "text": [
      "Loading data...\n",
      "Loaded /share/lazy/will/data/June30_2020_80k_1.h5 in 15.89 s\n",
      "Loaded /share/lazy/will/data/June30_2020_80k_3.h5 in 16.48 s\n",
      "Constructing 160000 event dataset took 9.432 s\n",
      "Loading data...\n",
      "Loaded /share/lazy/sokoloff/ML-data_AA/20K_POCA_kernel_evts_200926.h5 in 3.767 s\n",
      "Constructing 20000 event dataset took 0.1876 s\n"
     ]
    }
   ],
   "source": [
    "## newer vernacular\n",
    "## Training dataset. You can put as many files here as desired.\n",
    "\n",
    "## This is used when training with the original KDE\n",
    "'''\n",
    "## in this DEMO example we use only one 80K training set -- the model starts with well-trained weights,\n",
    "## and using a smaller training set reduces both the time to load the data and the time to train an epoch\n",
    "##  set the option load_XandXsq = True to use both DKE and KDE^2 as input features\n",
    "train_loader = collect_data('/share/lazy/sokoloff/ML-data_A/Aug14_80K_train.h5',\n",
    "                             '/share/lazy/sokoloff/ML-data_AA/Oct03_80K_train.h5',\n",
    "#                             '/share/lazy/sokoloff/ML-data_AA/Oct03_40K_train.h5',\n",
    "#                             '/share/lazy/will/ML_mdsA/June30_2020_80k_1.h5',\n",
    "#                             '/share/lazy/will/ML_mdsA/June30_2020_80k_3.h5',\n",
    "#                             '/share/lazy/will/ML_mdsA/June30_2020_80k_4.h5',\n",
    "#                             '/share/lazy/will/ML_mdsA/June30_2020_80k_5.h5',\n",
    "#                             '/share/lazy/will/ML_mdsA/June30_2020_80k_6.h5',\n",
    "#                             '/share/lazy/will/ML_mdsA/June30_2020_80k_7.h5',\n",
    "#                             '/share/lazy/will/ML_mdsA/June30_2020_80k_8.h5',\n",
    "#                             '/share/lazy/will/ML_mdsA/June30_2020_80k_9.h5',\n",
    "                            #'/share/lazy/sokoloff/ML-data_AA/Oct03_80K2_train.h5',\n",
    "                             batch_size=args.batch_size,\n",
    "## if we are using a larger dataset (240K events, with the datasets above, and 11 GB  of GPU memory),\n",
    "## not the dataset will overflow the GPU memory; device=device will allow the data to move back\n",
    "## and forth between the CPU and GPU memory. While this allows use of a larger dataset, it slows\n",
    "## down performance by about 10%.  So comment out when not needed.\n",
    "                            device=device,\n",
    "                            masking=True, shuffle=True,\n",
    "                            load_XandXsq=False,\n",
    "                            load_xy=False)\n",
    "\n",
    "# Validation dataset. You can slice to reduce the size.\n",
    "## dataAA -> /share/lazy/sokoloff/ML-data_AA/\n",
    "val_loader = collect_data('/share/lazy/sokoloff/ML-data_AA/Oct03_20K_val.h5',\n",
    "## mds val_loader = collect_data('dataAA/HLT1CPU_1kevts_val.h5',\n",
    "\n",
    "                          batch_size=args.batch_size,\n",
    "                          slice=slice(256 * 39),\n",
    "                          device=device,\n",
    "                          masking=True, shuffle=False,\n",
    "                          load_XandXsq=False,\n",
    "                          load_xy=False)\n",
    "'''\n",
    "\n",
    "## This is used when training with the new KDE\n",
    "train_loader = collect_data_poca('/share/lazy/will/data/June30_2020_80k_1.h5',\n",
    "                            '/share/lazy/will/data/June30_2020_80k_3.h5',\n",
    "                            batch_size=args.batch_size,\n",
    "                            device=device,\n",
    "                            masking=True, shuffle=True,\n",
    "                           ## slice = slice(0,18000)\n",
    "                           )\n",
    "\n",
    "val_loader = collect_data_poca('/share/lazy/sokoloff/ML-data_AA/20K_POCA_kernel_evts_200926.h5',\n",
    "                            batch_size=args.batch_size,\n",
    "                            device=device,\n",
    "                            masking=True, shuffle=True,\n",
    "                            ##slice = slice(18000,None)\n",
    "                           )"
   ]
  },
  {
   "cell_type": "markdown",
   "metadata": {},
   "source": [
    "# Preparing the model"
   ]
  },
  {
   "cell_type": "markdown",
   "metadata": {},
   "source": [
    "Prepare a model, use multiple GPUs if they are VISIBLE, and move the model to the device."
   ]
  },
  {
   "cell_type": "code",
   "execution_count": 7,
   "metadata": {
    "scrolled": true
   },
   "outputs": [
    {
     "name": "stderr",
     "output_type": "stream",
     "text": [
      "WARNING:root:Malformed experiment 'ML'. Detailed error Yaml file '/share/lazy/pv-finder_model_repo/ML/meta.yaml' does not exist.\n",
      "Traceback (most recent call last):\n",
      "  File \"/home/michael24peters/.local/lib/python3.7/site-packages/mlflow/store/tracking/file_store.py\", line 197, in list_experiments\n",
      "    experiment = self._get_experiment(exp_id, view_type)\n",
      "  File \"/home/michael24peters/.local/lib/python3.7/site-packages/mlflow/store/tracking/file_store.py\", line 260, in _get_experiment\n",
      "    meta = read_yaml(experiment_dir, FileStore.META_DATA_FILE_NAME)\n",
      "  File \"/home/michael24peters/.local/lib/python3.7/site-packages/mlflow/utils/file_utils.py\", line 167, in read_yaml\n",
      "    raise MissingConfigException(\"Yaml file '%s' does not exist.\" % file_path)\n",
      "mlflow.exceptions.MissingConfigException: Yaml file '/share/lazy/pv-finder_model_repo/ML/meta.yaml' does not exist.\n"
     ]
    }
   ],
   "source": [
    "model = ModelXX()\n",
    "\n",
    "#summary(model.to(device), (1, 4000))\n",
    "\n",
    "mlflow.tracking.set_tracking_uri('file:/share/lazy/pv-finder_model_repo')\n",
    "mlflow.set_experiment('Four Feature AllCNN')"
   ]
  },
  {
   "cell_type": "code",
   "execution_count": 8,
   "metadata": {
    "scrolled": true
   },
   "outputs": [
    {
     "name": "stdout",
     "output_type": "stream",
     "text": [
      "Let's use 1 GPUs!\n"
     ]
    }
   ],
   "source": [
    "print(\"Let's use\", torch.cuda.device_count(), \"GPUs!\")\n",
    "if torch.cuda.device_count() > 1:\n",
    "    model = torch.nn.DataParallel(model)"
   ]
  },
  {
   "cell_type": "markdown",
   "metadata": {},
   "source": [
    "Let's move the model's weight matricies to the GPU:"
   ]
  },
  {
   "cell_type": "code",
   "execution_count": 9,
   "metadata": {},
   "outputs": [
    {
     "name": "stdout",
     "output_type": "stream",
     "text": [
      "we also froze 0 weights\n",
      "Of the 32.5 parameter layers to update in the current model, 32.5 were loaded\n"
     ]
    }
   ],
   "source": [
    "##  mds 200121 loss = Loss(epsilon=1e-5,coefficient=1.0)\n",
    "loss = Loss(epsilon=1e-5,coefficient=2.5)\n",
    "optimizer = torch.optim.Adam(model.parameters(), lr=args.lr)\n",
    "\n",
    "##  use the first five layers from a pre-existing model\n",
    "##  see example at https://discuss.pytorch.org/t/how-to-load-part-of-pre-trained-model/1113\n",
    "##   ML -> /share/lazy/sokoloff/ML\n",
    "\n",
    "#path = 'run_stats.pyt'\n",
    "#load_full_state(model, optimizer, path)\n",
    "# For other pretrained models, go to MLFlow and find the path for \"run_stats.pyt\"\n",
    "pretrained_dict = '/share/lazy/pv-finder_model_repo/12/983605f0a0924f3dadb8f3b260d4f5e4/artifacts/run_stats.pyt'\n",
    "load_full_state(model, optimizer, pretrained_dict)"
   ]
  },
  {
   "cell_type": "markdown",
   "metadata": {},
   "source": [
    "Let's move the model's weight matricies to the GPU:"
   ]
  },
  {
   "cell_type": "code",
   "execution_count": 10,
   "metadata": {
    "scrolled": true
   },
   "outputs": [
    {
     "data": {
      "text/plain": [
       "ACN_2_10L_4S_BN(\n",
       "  (conv1): Conv1d(1, 20, kernel_size=(25,), stride=(1,), padding=(12,))\n",
       "  (conv2): Conv1d(20, 10, kernel_size=(15,), stride=(1,), padding=(7,))\n",
       "  (conv3): Conv1d(30, 10, kernel_size=(15,), stride=(1,), padding=(7,))\n",
       "  (conv4): Conv1d(10, 10, kernel_size=(15,), stride=(1,), padding=(7,))\n",
       "  (conv5): Conv1d(20, 10, kernel_size=(15,), stride=(1,), padding=(7,))\n",
       "  (conv6): Conv1d(10, 10, kernel_size=(15,), stride=(1,), padding=(7,))\n",
       "  (conv7): Conv1d(20, 7, kernel_size=(5,), stride=(1,), padding=(2,))\n",
       "  (conv8): Conv1d(7, 3, kernel_size=(5,), stride=(1,), padding=(2,))\n",
       "  (conv9): Conv1d(10, 1, kernel_size=(5,), stride=(1,), padding=(2,))\n",
       "  (finalFilter): Conv1d(1, 1, kernel_size=(91,), stride=(1,), padding=(45,))\n",
       "  (conv1dropout): Dropout(p=0.15, inplace=False)\n",
       "  (conv2dropout): Dropout(p=0.15, inplace=False)\n",
       "  (conv3dropout): Dropout(p=0.15, inplace=False)\n",
       "  (conv4dropout): Dropout(p=0.15, inplace=False)\n",
       "  (conv5dropout): Dropout(p=0.15, inplace=False)\n",
       "  (conv6dropout): Dropout(p=0.15, inplace=False)\n",
       "  (conv7dropout): Dropout(p=0.15, inplace=False)\n",
       "  (conv8dropout): Dropout(p=0.15, inplace=False)\n",
       "  (conv9dropout): Dropout(p=0.15, inplace=False)\n",
       "  (bn1): BatchNorm1d(20, eps=1e-05, momentum=0.1, affine=True, track_running_stats=True)\n",
       "  (bn2): BatchNorm1d(10, eps=1e-05, momentum=0.1, affine=True, track_running_stats=True)\n",
       "  (bn3): BatchNorm1d(10, eps=1e-05, momentum=0.1, affine=True, track_running_stats=True)\n",
       "  (bn4): BatchNorm1d(10, eps=1e-05, momentum=0.1, affine=True, track_running_stats=True)\n",
       "  (bn5): BatchNorm1d(10, eps=1e-05, momentum=0.1, affine=True, track_running_stats=True)\n",
       "  (bn6): BatchNorm1d(10, eps=1e-05, momentum=0.1, affine=True, track_running_stats=True)\n",
       "  (bn7): BatchNorm1d(7, eps=1e-05, momentum=0.1, affine=True, track_running_stats=True)\n",
       "  (bn8): BatchNorm1d(3, eps=1e-05, momentum=0.1, affine=True, track_running_stats=True)\n",
       "  (bn9): BatchNorm1d(1, eps=1e-05, momentum=0.1, affine=True, track_running_stats=True)\n",
       ")"
      ]
     },
     "execution_count": 10,
     "metadata": {},
     "output_type": "execute_result"
    }
   ],
   "source": [
    "model.to(device)"
   ]
  },
  {
   "cell_type": "markdown",
   "metadata": {},
   "source": [
    "## Train \n",
    "\n",
    "\n",
    "\n",
    "The body of this loop runs once per epoch. Results is a named tuple of values (loss per epoch for training and validation, time each). Start by setting up a plot first:"
   ]
  },
  {
   "cell_type": "code",
   "execution_count": 11,
   "metadata": {},
   "outputs": [
    {
     "data": {
      "application/javascript": [
       "/* Put everything inside the global mpl namespace */\n",
       "window.mpl = {};\n",
       "\n",
       "\n",
       "mpl.get_websocket_type = function() {\n",
       "    if (typeof(WebSocket) !== 'undefined') {\n",
       "        return WebSocket;\n",
       "    } else if (typeof(MozWebSocket) !== 'undefined') {\n",
       "        return MozWebSocket;\n",
       "    } else {\n",
       "        alert('Your browser does not have WebSocket support. ' +\n",
       "              'Please try Chrome, Safari or Firefox ≥ 6. ' +\n",
       "              'Firefox 4 and 5 are also supported but you ' +\n",
       "              'have to enable WebSockets in about:config.');\n",
       "    };\n",
       "}\n",
       "\n",
       "mpl.figure = function(figure_id, websocket, ondownload, parent_element) {\n",
       "    this.id = figure_id;\n",
       "\n",
       "    this.ws = websocket;\n",
       "\n",
       "    this.supports_binary = (this.ws.binaryType != undefined);\n",
       "\n",
       "    if (!this.supports_binary) {\n",
       "        var warnings = document.getElementById(\"mpl-warnings\");\n",
       "        if (warnings) {\n",
       "            warnings.style.display = 'block';\n",
       "            warnings.textContent = (\n",
       "                \"This browser does not support binary websocket messages. \" +\n",
       "                    \"Performance may be slow.\");\n",
       "        }\n",
       "    }\n",
       "\n",
       "    this.imageObj = new Image();\n",
       "\n",
       "    this.context = undefined;\n",
       "    this.message = undefined;\n",
       "    this.canvas = undefined;\n",
       "    this.rubberband_canvas = undefined;\n",
       "    this.rubberband_context = undefined;\n",
       "    this.format_dropdown = undefined;\n",
       "\n",
       "    this.image_mode = 'full';\n",
       "\n",
       "    this.root = $('<div/>');\n",
       "    this._root_extra_style(this.root)\n",
       "    this.root.attr('style', 'display: inline-block');\n",
       "\n",
       "    $(parent_element).append(this.root);\n",
       "\n",
       "    this._init_header(this);\n",
       "    this._init_canvas(this);\n",
       "    this._init_toolbar(this);\n",
       "\n",
       "    var fig = this;\n",
       "\n",
       "    this.waiting = false;\n",
       "\n",
       "    this.ws.onopen =  function () {\n",
       "            fig.send_message(\"supports_binary\", {value: fig.supports_binary});\n",
       "            fig.send_message(\"send_image_mode\", {});\n",
       "            if (mpl.ratio != 1) {\n",
       "                fig.send_message(\"set_dpi_ratio\", {'dpi_ratio': mpl.ratio});\n",
       "            }\n",
       "            fig.send_message(\"refresh\", {});\n",
       "        }\n",
       "\n",
       "    this.imageObj.onload = function() {\n",
       "            if (fig.image_mode == 'full') {\n",
       "                // Full images could contain transparency (where diff images\n",
       "                // almost always do), so we need to clear the canvas so that\n",
       "                // there is no ghosting.\n",
       "                fig.context.clearRect(0, 0, fig.canvas.width, fig.canvas.height);\n",
       "            }\n",
       "            fig.context.drawImage(fig.imageObj, 0, 0);\n",
       "        };\n",
       "\n",
       "    this.imageObj.onunload = function() {\n",
       "        fig.ws.close();\n",
       "    }\n",
       "\n",
       "    this.ws.onmessage = this._make_on_message_function(this);\n",
       "\n",
       "    this.ondownload = ondownload;\n",
       "}\n",
       "\n",
       "mpl.figure.prototype._init_header = function() {\n",
       "    var titlebar = $(\n",
       "        '<div class=\"ui-dialog-titlebar ui-widget-header ui-corner-all ' +\n",
       "        'ui-helper-clearfix\"/>');\n",
       "    var titletext = $(\n",
       "        '<div class=\"ui-dialog-title\" style=\"width: 100%; ' +\n",
       "        'text-align: center; padding: 3px;\"/>');\n",
       "    titlebar.append(titletext)\n",
       "    this.root.append(titlebar);\n",
       "    this.header = titletext[0];\n",
       "}\n",
       "\n",
       "\n",
       "\n",
       "mpl.figure.prototype._canvas_extra_style = function(canvas_div) {\n",
       "\n",
       "}\n",
       "\n",
       "\n",
       "mpl.figure.prototype._root_extra_style = function(canvas_div) {\n",
       "\n",
       "}\n",
       "\n",
       "mpl.figure.prototype._init_canvas = function() {\n",
       "    var fig = this;\n",
       "\n",
       "    var canvas_div = $('<div/>');\n",
       "\n",
       "    canvas_div.attr('style', 'position: relative; clear: both; outline: 0');\n",
       "\n",
       "    function canvas_keyboard_event(event) {\n",
       "        return fig.key_event(event, event['data']);\n",
       "    }\n",
       "\n",
       "    canvas_div.keydown('key_press', canvas_keyboard_event);\n",
       "    canvas_div.keyup('key_release', canvas_keyboard_event);\n",
       "    this.canvas_div = canvas_div\n",
       "    this._canvas_extra_style(canvas_div)\n",
       "    this.root.append(canvas_div);\n",
       "\n",
       "    var canvas = $('<canvas/>');\n",
       "    canvas.addClass('mpl-canvas');\n",
       "    canvas.attr('style', \"left: 0; top: 0; z-index: 0; outline: 0\")\n",
       "\n",
       "    this.canvas = canvas[0];\n",
       "    this.context = canvas[0].getContext(\"2d\");\n",
       "\n",
       "    var backingStore = this.context.backingStorePixelRatio ||\n",
       "\tthis.context.webkitBackingStorePixelRatio ||\n",
       "\tthis.context.mozBackingStorePixelRatio ||\n",
       "\tthis.context.msBackingStorePixelRatio ||\n",
       "\tthis.context.oBackingStorePixelRatio ||\n",
       "\tthis.context.backingStorePixelRatio || 1;\n",
       "\n",
       "    mpl.ratio = (window.devicePixelRatio || 1) / backingStore;\n",
       "\n",
       "    var rubberband = $('<canvas/>');\n",
       "    rubberband.attr('style', \"position: absolute; left: 0; top: 0; z-index: 1;\")\n",
       "\n",
       "    var pass_mouse_events = true;\n",
       "\n",
       "    canvas_div.resizable({\n",
       "        start: function(event, ui) {\n",
       "            pass_mouse_events = false;\n",
       "        },\n",
       "        resize: function(event, ui) {\n",
       "            fig.request_resize(ui.size.width, ui.size.height);\n",
       "        },\n",
       "        stop: function(event, ui) {\n",
       "            pass_mouse_events = true;\n",
       "            fig.request_resize(ui.size.width, ui.size.height);\n",
       "        },\n",
       "    });\n",
       "\n",
       "    function mouse_event_fn(event) {\n",
       "        if (pass_mouse_events)\n",
       "            return fig.mouse_event(event, event['data']);\n",
       "    }\n",
       "\n",
       "    rubberband.mousedown('button_press', mouse_event_fn);\n",
       "    rubberband.mouseup('button_release', mouse_event_fn);\n",
       "    // Throttle sequential mouse events to 1 every 20ms.\n",
       "    rubberband.mousemove('motion_notify', mouse_event_fn);\n",
       "\n",
       "    rubberband.mouseenter('figure_enter', mouse_event_fn);\n",
       "    rubberband.mouseleave('figure_leave', mouse_event_fn);\n",
       "\n",
       "    canvas_div.on(\"wheel\", function (event) {\n",
       "        event = event.originalEvent;\n",
       "        event['data'] = 'scroll'\n",
       "        if (event.deltaY < 0) {\n",
       "            event.step = 1;\n",
       "        } else {\n",
       "            event.step = -1;\n",
       "        }\n",
       "        mouse_event_fn(event);\n",
       "    });\n",
       "\n",
       "    canvas_div.append(canvas);\n",
       "    canvas_div.append(rubberband);\n",
       "\n",
       "    this.rubberband = rubberband;\n",
       "    this.rubberband_canvas = rubberband[0];\n",
       "    this.rubberband_context = rubberband[0].getContext(\"2d\");\n",
       "    this.rubberband_context.strokeStyle = \"#000000\";\n",
       "\n",
       "    this._resize_canvas = function(width, height) {\n",
       "        // Keep the size of the canvas, canvas container, and rubber band\n",
       "        // canvas in synch.\n",
       "        canvas_div.css('width', width)\n",
       "        canvas_div.css('height', height)\n",
       "\n",
       "        canvas.attr('width', width * mpl.ratio);\n",
       "        canvas.attr('height', height * mpl.ratio);\n",
       "        canvas.attr('style', 'width: ' + width + 'px; height: ' + height + 'px;');\n",
       "\n",
       "        rubberband.attr('width', width);\n",
       "        rubberband.attr('height', height);\n",
       "    }\n",
       "\n",
       "    // Set the figure to an initial 600x600px, this will subsequently be updated\n",
       "    // upon first draw.\n",
       "    this._resize_canvas(600, 600);\n",
       "\n",
       "    // Disable right mouse context menu.\n",
       "    $(this.rubberband_canvas).bind(\"contextmenu\",function(e){\n",
       "        return false;\n",
       "    });\n",
       "\n",
       "    function set_focus () {\n",
       "        canvas.focus();\n",
       "        canvas_div.focus();\n",
       "    }\n",
       "\n",
       "    window.setTimeout(set_focus, 100);\n",
       "}\n",
       "\n",
       "mpl.figure.prototype._init_toolbar = function() {\n",
       "    var fig = this;\n",
       "\n",
       "    var nav_element = $('<div/>');\n",
       "    nav_element.attr('style', 'width: 100%');\n",
       "    this.root.append(nav_element);\n",
       "\n",
       "    // Define a callback function for later on.\n",
       "    function toolbar_event(event) {\n",
       "        return fig.toolbar_button_onclick(event['data']);\n",
       "    }\n",
       "    function toolbar_mouse_event(event) {\n",
       "        return fig.toolbar_button_onmouseover(event['data']);\n",
       "    }\n",
       "\n",
       "    for(var toolbar_ind in mpl.toolbar_items) {\n",
       "        var name = mpl.toolbar_items[toolbar_ind][0];\n",
       "        var tooltip = mpl.toolbar_items[toolbar_ind][1];\n",
       "        var image = mpl.toolbar_items[toolbar_ind][2];\n",
       "        var method_name = mpl.toolbar_items[toolbar_ind][3];\n",
       "\n",
       "        if (!name) {\n",
       "            // put a spacer in here.\n",
       "            continue;\n",
       "        }\n",
       "        var button = $('<button/>');\n",
       "        button.addClass('ui-button ui-widget ui-state-default ui-corner-all ' +\n",
       "                        'ui-button-icon-only');\n",
       "        button.attr('role', 'button');\n",
       "        button.attr('aria-disabled', 'false');\n",
       "        button.click(method_name, toolbar_event);\n",
       "        button.mouseover(tooltip, toolbar_mouse_event);\n",
       "\n",
       "        var icon_img = $('<span/>');\n",
       "        icon_img.addClass('ui-button-icon-primary ui-icon');\n",
       "        icon_img.addClass(image);\n",
       "        icon_img.addClass('ui-corner-all');\n",
       "\n",
       "        var tooltip_span = $('<span/>');\n",
       "        tooltip_span.addClass('ui-button-text');\n",
       "        tooltip_span.html(tooltip);\n",
       "\n",
       "        button.append(icon_img);\n",
       "        button.append(tooltip_span);\n",
       "\n",
       "        nav_element.append(button);\n",
       "    }\n",
       "\n",
       "    var fmt_picker_span = $('<span/>');\n",
       "\n",
       "    var fmt_picker = $('<select/>');\n",
       "    fmt_picker.addClass('mpl-toolbar-option ui-widget ui-widget-content');\n",
       "    fmt_picker_span.append(fmt_picker);\n",
       "    nav_element.append(fmt_picker_span);\n",
       "    this.format_dropdown = fmt_picker[0];\n",
       "\n",
       "    for (var ind in mpl.extensions) {\n",
       "        var fmt = mpl.extensions[ind];\n",
       "        var option = $(\n",
       "            '<option/>', {selected: fmt === mpl.default_extension}).html(fmt);\n",
       "        fmt_picker.append(option);\n",
       "    }\n",
       "\n",
       "    // Add hover states to the ui-buttons\n",
       "    $( \".ui-button\" ).hover(\n",
       "        function() { $(this).addClass(\"ui-state-hover\");},\n",
       "        function() { $(this).removeClass(\"ui-state-hover\");}\n",
       "    );\n",
       "\n",
       "    var status_bar = $('<span class=\"mpl-message\"/>');\n",
       "    nav_element.append(status_bar);\n",
       "    this.message = status_bar[0];\n",
       "}\n",
       "\n",
       "mpl.figure.prototype.request_resize = function(x_pixels, y_pixels) {\n",
       "    // Request matplotlib to resize the figure. Matplotlib will then trigger a resize in the client,\n",
       "    // which will in turn request a refresh of the image.\n",
       "    this.send_message('resize', {'width': x_pixels, 'height': y_pixels});\n",
       "}\n",
       "\n",
       "mpl.figure.prototype.send_message = function(type, properties) {\n",
       "    properties['type'] = type;\n",
       "    properties['figure_id'] = this.id;\n",
       "    this.ws.send(JSON.stringify(properties));\n",
       "}\n",
       "\n",
       "mpl.figure.prototype.send_draw_message = function() {\n",
       "    if (!this.waiting) {\n",
       "        this.waiting = true;\n",
       "        this.ws.send(JSON.stringify({type: \"draw\", figure_id: this.id}));\n",
       "    }\n",
       "}\n",
       "\n",
       "\n",
       "mpl.figure.prototype.handle_save = function(fig, msg) {\n",
       "    var format_dropdown = fig.format_dropdown;\n",
       "    var format = format_dropdown.options[format_dropdown.selectedIndex].value;\n",
       "    fig.ondownload(fig, format);\n",
       "}\n",
       "\n",
       "\n",
       "mpl.figure.prototype.handle_resize = function(fig, msg) {\n",
       "    var size = msg['size'];\n",
       "    if (size[0] != fig.canvas.width || size[1] != fig.canvas.height) {\n",
       "        fig._resize_canvas(size[0], size[1]);\n",
       "        fig.send_message(\"refresh\", {});\n",
       "    };\n",
       "}\n",
       "\n",
       "mpl.figure.prototype.handle_rubberband = function(fig, msg) {\n",
       "    var x0 = msg['x0'] / mpl.ratio;\n",
       "    var y0 = (fig.canvas.height - msg['y0']) / mpl.ratio;\n",
       "    var x1 = msg['x1'] / mpl.ratio;\n",
       "    var y1 = (fig.canvas.height - msg['y1']) / mpl.ratio;\n",
       "    x0 = Math.floor(x0) + 0.5;\n",
       "    y0 = Math.floor(y0) + 0.5;\n",
       "    x1 = Math.floor(x1) + 0.5;\n",
       "    y1 = Math.floor(y1) + 0.5;\n",
       "    var min_x = Math.min(x0, x1);\n",
       "    var min_y = Math.min(y0, y1);\n",
       "    var width = Math.abs(x1 - x0);\n",
       "    var height = Math.abs(y1 - y0);\n",
       "\n",
       "    fig.rubberband_context.clearRect(\n",
       "        0, 0, fig.canvas.width / mpl.ratio, fig.canvas.height / mpl.ratio);\n",
       "\n",
       "    fig.rubberband_context.strokeRect(min_x, min_y, width, height);\n",
       "}\n",
       "\n",
       "mpl.figure.prototype.handle_figure_label = function(fig, msg) {\n",
       "    // Updates the figure title.\n",
       "    fig.header.textContent = msg['label'];\n",
       "}\n",
       "\n",
       "mpl.figure.prototype.handle_cursor = function(fig, msg) {\n",
       "    var cursor = msg['cursor'];\n",
       "    switch(cursor)\n",
       "    {\n",
       "    case 0:\n",
       "        cursor = 'pointer';\n",
       "        break;\n",
       "    case 1:\n",
       "        cursor = 'default';\n",
       "        break;\n",
       "    case 2:\n",
       "        cursor = 'crosshair';\n",
       "        break;\n",
       "    case 3:\n",
       "        cursor = 'move';\n",
       "        break;\n",
       "    }\n",
       "    fig.rubberband_canvas.style.cursor = cursor;\n",
       "}\n",
       "\n",
       "mpl.figure.prototype.handle_message = function(fig, msg) {\n",
       "    fig.message.textContent = msg['message'];\n",
       "}\n",
       "\n",
       "mpl.figure.prototype.handle_draw = function(fig, msg) {\n",
       "    // Request the server to send over a new figure.\n",
       "    fig.send_draw_message();\n",
       "}\n",
       "\n",
       "mpl.figure.prototype.handle_image_mode = function(fig, msg) {\n",
       "    fig.image_mode = msg['mode'];\n",
       "}\n",
       "\n",
       "mpl.figure.prototype.updated_canvas_event = function() {\n",
       "    // Called whenever the canvas gets updated.\n",
       "    this.send_message(\"ack\", {});\n",
       "}\n",
       "\n",
       "// A function to construct a web socket function for onmessage handling.\n",
       "// Called in the figure constructor.\n",
       "mpl.figure.prototype._make_on_message_function = function(fig) {\n",
       "    return function socket_on_message(evt) {\n",
       "        if (evt.data instanceof Blob) {\n",
       "            /* FIXME: We get \"Resource interpreted as Image but\n",
       "             * transferred with MIME type text/plain:\" errors on\n",
       "             * Chrome.  But how to set the MIME type?  It doesn't seem\n",
       "             * to be part of the websocket stream */\n",
       "            evt.data.type = \"image/png\";\n",
       "\n",
       "            /* Free the memory for the previous frames */\n",
       "            if (fig.imageObj.src) {\n",
       "                (window.URL || window.webkitURL).revokeObjectURL(\n",
       "                    fig.imageObj.src);\n",
       "            }\n",
       "\n",
       "            fig.imageObj.src = (window.URL || window.webkitURL).createObjectURL(\n",
       "                evt.data);\n",
       "            fig.updated_canvas_event();\n",
       "            fig.waiting = false;\n",
       "            return;\n",
       "        }\n",
       "        else if (typeof evt.data === 'string' && evt.data.slice(0, 21) == \"data:image/png;base64\") {\n",
       "            fig.imageObj.src = evt.data;\n",
       "            fig.updated_canvas_event();\n",
       "            fig.waiting = false;\n",
       "            return;\n",
       "        }\n",
       "\n",
       "        var msg = JSON.parse(evt.data);\n",
       "        var msg_type = msg['type'];\n",
       "\n",
       "        // Call the  \"handle_{type}\" callback, which takes\n",
       "        // the figure and JSON message as its only arguments.\n",
       "        try {\n",
       "            var callback = fig[\"handle_\" + msg_type];\n",
       "        } catch (e) {\n",
       "            console.log(\"No handler for the '\" + msg_type + \"' message type: \", msg);\n",
       "            return;\n",
       "        }\n",
       "\n",
       "        if (callback) {\n",
       "            try {\n",
       "                // console.log(\"Handling '\" + msg_type + \"' message: \", msg);\n",
       "                callback(fig, msg);\n",
       "            } catch (e) {\n",
       "                console.log(\"Exception inside the 'handler_\" + msg_type + \"' callback:\", e, e.stack, msg);\n",
       "            }\n",
       "        }\n",
       "    };\n",
       "}\n",
       "\n",
       "// from http://stackoverflow.com/questions/1114465/getting-mouse-location-in-canvas\n",
       "mpl.findpos = function(e) {\n",
       "    //this section is from http://www.quirksmode.org/js/events_properties.html\n",
       "    var targ;\n",
       "    if (!e)\n",
       "        e = window.event;\n",
       "    if (e.target)\n",
       "        targ = e.target;\n",
       "    else if (e.srcElement)\n",
       "        targ = e.srcElement;\n",
       "    if (targ.nodeType == 3) // defeat Safari bug\n",
       "        targ = targ.parentNode;\n",
       "\n",
       "    // jQuery normalizes the pageX and pageY\n",
       "    // pageX,Y are the mouse positions relative to the document\n",
       "    // offset() returns the position of the element relative to the document\n",
       "    var x = e.pageX - $(targ).offset().left;\n",
       "    var y = e.pageY - $(targ).offset().top;\n",
       "\n",
       "    return {\"x\": x, \"y\": y};\n",
       "};\n",
       "\n",
       "/*\n",
       " * return a copy of an object with only non-object keys\n",
       " * we need this to avoid circular references\n",
       " * http://stackoverflow.com/a/24161582/3208463\n",
       " */\n",
       "function simpleKeys (original) {\n",
       "  return Object.keys(original).reduce(function (obj, key) {\n",
       "    if (typeof original[key] !== 'object')\n",
       "        obj[key] = original[key]\n",
       "    return obj;\n",
       "  }, {});\n",
       "}\n",
       "\n",
       "mpl.figure.prototype.mouse_event = function(event, name) {\n",
       "    var canvas_pos = mpl.findpos(event)\n",
       "\n",
       "    if (name === 'button_press')\n",
       "    {\n",
       "        this.canvas.focus();\n",
       "        this.canvas_div.focus();\n",
       "    }\n",
       "\n",
       "    var x = canvas_pos.x * mpl.ratio;\n",
       "    var y = canvas_pos.y * mpl.ratio;\n",
       "\n",
       "    this.send_message(name, {x: x, y: y, button: event.button,\n",
       "                             step: event.step,\n",
       "                             guiEvent: simpleKeys(event)});\n",
       "\n",
       "    /* This prevents the web browser from automatically changing to\n",
       "     * the text insertion cursor when the button is pressed.  We want\n",
       "     * to control all of the cursor setting manually through the\n",
       "     * 'cursor' event from matplotlib */\n",
       "    event.preventDefault();\n",
       "    return false;\n",
       "}\n",
       "\n",
       "mpl.figure.prototype._key_event_extra = function(event, name) {\n",
       "    // Handle any extra behaviour associated with a key event\n",
       "}\n",
       "\n",
       "mpl.figure.prototype.key_event = function(event, name) {\n",
       "\n",
       "    // Prevent repeat events\n",
       "    if (name == 'key_press')\n",
       "    {\n",
       "        if (event.which === this._key)\n",
       "            return;\n",
       "        else\n",
       "            this._key = event.which;\n",
       "    }\n",
       "    if (name == 'key_release')\n",
       "        this._key = null;\n",
       "\n",
       "    var value = '';\n",
       "    if (event.ctrlKey && event.which != 17)\n",
       "        value += \"ctrl+\";\n",
       "    if (event.altKey && event.which != 18)\n",
       "        value += \"alt+\";\n",
       "    if (event.shiftKey && event.which != 16)\n",
       "        value += \"shift+\";\n",
       "\n",
       "    value += 'k';\n",
       "    value += event.which.toString();\n",
       "\n",
       "    this._key_event_extra(event, name);\n",
       "\n",
       "    this.send_message(name, {key: value,\n",
       "                             guiEvent: simpleKeys(event)});\n",
       "    return false;\n",
       "}\n",
       "\n",
       "mpl.figure.prototype.toolbar_button_onclick = function(name) {\n",
       "    if (name == 'download') {\n",
       "        this.handle_save(this, null);\n",
       "    } else {\n",
       "        this.send_message(\"toolbar_button\", {name: name});\n",
       "    }\n",
       "};\n",
       "\n",
       "mpl.figure.prototype.toolbar_button_onmouseover = function(tooltip) {\n",
       "    this.message.textContent = tooltip;\n",
       "};\n",
       "mpl.toolbar_items = [[\"Home\", \"Reset original view\", \"fa fa-home icon-home\", \"home\"], [\"Back\", \"Back to previous view\", \"fa fa-arrow-left icon-arrow-left\", \"back\"], [\"Forward\", \"Forward to next view\", \"fa fa-arrow-right icon-arrow-right\", \"forward\"], [\"\", \"\", \"\", \"\"], [\"Pan\", \"Pan axes with left mouse, zoom with right\", \"fa fa-arrows icon-move\", \"pan\"], [\"Zoom\", \"Zoom to rectangle\", \"fa fa-square-o icon-check-empty\", \"zoom\"], [\"\", \"\", \"\", \"\"], [\"Download\", \"Download plot\", \"fa fa-floppy-o icon-save\", \"download\"]];\n",
       "\n",
       "mpl.extensions = [\"eps\", \"jpeg\", \"pdf\", \"png\", \"ps\", \"raw\", \"svg\", \"tif\"];\n",
       "\n",
       "mpl.default_extension = \"png\";var comm_websocket_adapter = function(comm) {\n",
       "    // Create a \"websocket\"-like object which calls the given IPython comm\n",
       "    // object with the appropriate methods. Currently this is a non binary\n",
       "    // socket, so there is still some room for performance tuning.\n",
       "    var ws = {};\n",
       "\n",
       "    ws.close = function() {\n",
       "        comm.close()\n",
       "    };\n",
       "    ws.send = function(m) {\n",
       "        //console.log('sending', m);\n",
       "        comm.send(m);\n",
       "    };\n",
       "    // Register the callback with on_msg.\n",
       "    comm.on_msg(function(msg) {\n",
       "        //console.log('receiving', msg['content']['data'], msg);\n",
       "        // Pass the mpl event to the overridden (by mpl) onmessage function.\n",
       "        ws.onmessage(msg['content']['data'])\n",
       "    });\n",
       "    return ws;\n",
       "}\n",
       "\n",
       "mpl.mpl_figure_comm = function(comm, msg) {\n",
       "    // This is the function which gets called when the mpl process\n",
       "    // starts-up an IPython Comm through the \"matplotlib\" channel.\n",
       "\n",
       "    var id = msg.content.data.id;\n",
       "    // Get hold of the div created by the display call when the Comm\n",
       "    // socket was opened in Python.\n",
       "    var element = $(\"#\" + id);\n",
       "    var ws_proxy = comm_websocket_adapter(comm)\n",
       "\n",
       "    function ondownload(figure, format) {\n",
       "        window.open(figure.imageObj.src);\n",
       "    }\n",
       "\n",
       "    var fig = new mpl.figure(id, ws_proxy,\n",
       "                           ondownload,\n",
       "                           element.get(0));\n",
       "\n",
       "    // Call onopen now - mpl needs it, as it is assuming we've passed it a real\n",
       "    // web socket which is closed, not our websocket->open comm proxy.\n",
       "    ws_proxy.onopen();\n",
       "\n",
       "    fig.parent_element = element.get(0);\n",
       "    fig.cell_info = mpl.find_output_cell(\"<div id='\" + id + \"'></div>\");\n",
       "    if (!fig.cell_info) {\n",
       "        console.error(\"Failed to find cell for figure\", id, fig);\n",
       "        return;\n",
       "    }\n",
       "\n",
       "    var output_index = fig.cell_info[2]\n",
       "    var cell = fig.cell_info[0];\n",
       "\n",
       "};\n",
       "\n",
       "mpl.figure.prototype.handle_close = function(fig, msg) {\n",
       "    var width = fig.canvas.width/mpl.ratio\n",
       "    fig.root.unbind('remove')\n",
       "\n",
       "    // Update the output cell to use the data from the current canvas.\n",
       "    fig.push_to_output();\n",
       "    var dataURL = fig.canvas.toDataURL();\n",
       "    // Re-enable the keyboard manager in IPython - without this line, in FF,\n",
       "    // the notebook keyboard shortcuts fail.\n",
       "    IPython.keyboard_manager.enable()\n",
       "    $(fig.parent_element).html('<img src=\"' + dataURL + '\" width=\"' + width + '\">');\n",
       "    fig.close_ws(fig, msg);\n",
       "}\n",
       "\n",
       "mpl.figure.prototype.close_ws = function(fig, msg){\n",
       "    fig.send_message('closing', msg);\n",
       "    // fig.ws.close()\n",
       "}\n",
       "\n",
       "mpl.figure.prototype.push_to_output = function(remove_interactive) {\n",
       "    // Turn the data on the canvas into data in the output cell.\n",
       "    var width = this.canvas.width/mpl.ratio\n",
       "    var dataURL = this.canvas.toDataURL();\n",
       "    this.cell_info[1]['text/html'] = '<img src=\"' + dataURL + '\" width=\"' + width + '\">';\n",
       "}\n",
       "\n",
       "mpl.figure.prototype.updated_canvas_event = function() {\n",
       "    // Tell IPython that the notebook contents must change.\n",
       "    IPython.notebook.set_dirty(true);\n",
       "    this.send_message(\"ack\", {});\n",
       "    var fig = this;\n",
       "    // Wait a second, then push the new image to the DOM so\n",
       "    // that it is saved nicely (might be nice to debounce this).\n",
       "    setTimeout(function () { fig.push_to_output() }, 1000);\n",
       "}\n",
       "\n",
       "mpl.figure.prototype._init_toolbar = function() {\n",
       "    var fig = this;\n",
       "\n",
       "    var nav_element = $('<div/>');\n",
       "    nav_element.attr('style', 'width: 100%');\n",
       "    this.root.append(nav_element);\n",
       "\n",
       "    // Define a callback function for later on.\n",
       "    function toolbar_event(event) {\n",
       "        return fig.toolbar_button_onclick(event['data']);\n",
       "    }\n",
       "    function toolbar_mouse_event(event) {\n",
       "        return fig.toolbar_button_onmouseover(event['data']);\n",
       "    }\n",
       "\n",
       "    for(var toolbar_ind in mpl.toolbar_items){\n",
       "        var name = mpl.toolbar_items[toolbar_ind][0];\n",
       "        var tooltip = mpl.toolbar_items[toolbar_ind][1];\n",
       "        var image = mpl.toolbar_items[toolbar_ind][2];\n",
       "        var method_name = mpl.toolbar_items[toolbar_ind][3];\n",
       "\n",
       "        if (!name) { continue; };\n",
       "\n",
       "        var button = $('<button class=\"btn btn-default\" href=\"#\" title=\"' + name + '\"><i class=\"fa ' + image + ' fa-lg\"></i></button>');\n",
       "        button.click(method_name, toolbar_event);\n",
       "        button.mouseover(tooltip, toolbar_mouse_event);\n",
       "        nav_element.append(button);\n",
       "    }\n",
       "\n",
       "    // Add the status bar.\n",
       "    var status_bar = $('<span class=\"mpl-message\" style=\"text-align:right; float: right;\"/>');\n",
       "    nav_element.append(status_bar);\n",
       "    this.message = status_bar[0];\n",
       "\n",
       "    // Add the close button to the window.\n",
       "    var buttongrp = $('<div class=\"btn-group inline pull-right\"></div>');\n",
       "    var button = $('<button class=\"btn btn-mini btn-primary\" href=\"#\" title=\"Stop Interaction\"><i class=\"fa fa-power-off icon-remove icon-large\"></i></button>');\n",
       "    button.click(function (evt) { fig.handle_close(fig, {}); } );\n",
       "    button.mouseover('Stop Interaction', toolbar_mouse_event);\n",
       "    buttongrp.append(button);\n",
       "    var titlebar = this.root.find($('.ui-dialog-titlebar'));\n",
       "    titlebar.prepend(buttongrp);\n",
       "}\n",
       "\n",
       "mpl.figure.prototype._root_extra_style = function(el){\n",
       "    var fig = this\n",
       "    el.on(\"remove\", function(){\n",
       "\tfig.close_ws(fig, {});\n",
       "    });\n",
       "}\n",
       "\n",
       "mpl.figure.prototype._canvas_extra_style = function(el){\n",
       "    // this is important to make the div 'focusable\n",
       "    el.attr('tabindex', 0)\n",
       "    // reach out to IPython and tell the keyboard manager to turn it's self\n",
       "    // off when our div gets focus\n",
       "\n",
       "    // location in version 3\n",
       "    if (IPython.notebook.keyboard_manager) {\n",
       "        IPython.notebook.keyboard_manager.register_events(el);\n",
       "    }\n",
       "    else {\n",
       "        // location in version 2\n",
       "        IPython.keyboard_manager.register_events(el);\n",
       "    }\n",
       "\n",
       "}\n",
       "\n",
       "mpl.figure.prototype._key_event_extra = function(event, name) {\n",
       "    var manager = IPython.notebook.keyboard_manager;\n",
       "    if (!manager)\n",
       "        manager = IPython.keyboard_manager;\n",
       "\n",
       "    // Check for shift+enter\n",
       "    if (event.shiftKey && event.which == 13) {\n",
       "        this.canvas_div.blur();\n",
       "        // select the cell after this one\n",
       "        var index = IPython.notebook.find_cell_index(this.cell_info[0]);\n",
       "        IPython.notebook.select(index + 1);\n",
       "    }\n",
       "}\n",
       "\n",
       "mpl.figure.prototype.handle_save = function(fig, msg) {\n",
       "    fig.ondownload(fig, null);\n",
       "}\n",
       "\n",
       "\n",
       "mpl.find_output_cell = function(html_output) {\n",
       "    // Return the cell and output element which can be found *uniquely* in the notebook.\n",
       "    // Note - this is a bit hacky, but it is done because the \"notebook_saving.Notebook\"\n",
       "    // IPython event is triggered only after the cells have been serialised, which for\n",
       "    // our purposes (turning an active figure into a static one), is too late.\n",
       "    var cells = IPython.notebook.get_cells();\n",
       "    var ncells = cells.length;\n",
       "    for (var i=0; i<ncells; i++) {\n",
       "        var cell = cells[i];\n",
       "        if (cell.cell_type === 'code'){\n",
       "            for (var j=0; j<cell.output_area.outputs.length; j++) {\n",
       "                var data = cell.output_area.outputs[j];\n",
       "                if (data.data) {\n",
       "                    // IPython >= 3 moved mimebundle to data attribute of output\n",
       "                    data = data.data;\n",
       "                }\n",
       "                if (data['text/html'] == html_output) {\n",
       "                    return [cell, data, j];\n",
       "                }\n",
       "            }\n",
       "        }\n",
       "    }\n",
       "}\n",
       "\n",
       "// Register the function which deals with the matplotlib target/channel.\n",
       "// The kernel may be null if the page has been refreshed.\n",
       "if (IPython.notebook.kernel != null) {\n",
       "    IPython.notebook.kernel.comm_manager.register_target('matplotlib', mpl.mpl_figure_comm);\n",
       "}\n"
      ],
      "text/plain": [
       "<IPython.core.display.Javascript object>"
      ]
     },
     "metadata": {},
     "output_type": "display_data"
    },
    {
     "data": {
      "text/html": [
       "<img src=\"data:image/png;base64,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\" width=\"1000\">"
      ],
      "text/plain": [
       "<IPython.core.display.HTML object>"
      ]
     },
     "metadata": {},
     "output_type": "display_data"
    }
   ],
   "source": [
    "ax, tax, lax, lines = dual_train_plots()\n",
    "fig = ax.figure\n",
    "plt.tight_layout()\n",
    "# This gets built up during the run - do not rerun this cell\n",
    "results = pd.DataFrame([], columns=Results._fields)"
   ]
  },
  {
   "cell_type": "code",
   "execution_count": null,
   "metadata": {
    "scrolled": false
   },
   "outputs": [
    {
     "name": "stdout",
     "output_type": "stream",
     "text": [
      "for model:  ACN_2_10L_4S_BN(\n",
      "  (conv1): Conv1d(1, 20, kernel_size=(25,), stride=(1,), padding=(12,))\n",
      "  (conv2): Conv1d(20, 10, kernel_size=(15,), stride=(1,), padding=(7,))\n",
      "  (conv3): Conv1d(30, 10, kernel_size=(15,), stride=(1,), padding=(7,))\n",
      "  (conv4): Conv1d(10, 10, kernel_size=(15,), stride=(1,), padding=(7,))\n",
      "  (conv5): Conv1d(20, 10, kernel_size=(15,), stride=(1,), padding=(7,))\n",
      "  (conv6): Conv1d(10, 10, kernel_size=(15,), stride=(1,), padding=(7,))\n",
      "  (conv7): Conv1d(20, 7, kernel_size=(5,), stride=(1,), padding=(2,))\n",
      "  (conv8): Conv1d(7, 3, kernel_size=(5,), stride=(1,), padding=(2,))\n",
      "  (conv9): Conv1d(10, 1, kernel_size=(5,), stride=(1,), padding=(2,))\n",
      "  (finalFilter): Conv1d(1, 1, kernel_size=(91,), stride=(1,), padding=(45,))\n",
      "  (conv1dropout): Dropout(p=0.15, inplace=False)\n",
      "  (conv2dropout): Dropout(p=0.15, inplace=False)\n",
      "  (conv3dropout): Dropout(p=0.15, inplace=False)\n",
      "  (conv4dropout): Dropout(p=0.15, inplace=False)\n",
      "  (conv5dropout): Dropout(p=0.15, inplace=False)\n",
      "  (conv6dropout): Dropout(p=0.15, inplace=False)\n",
      "  (conv7dropout): Dropout(p=0.15, inplace=False)\n",
      "  (conv8dropout): Dropout(p=0.15, inplace=False)\n",
      "  (conv9dropout): Dropout(p=0.15, inplace=False)\n",
      "  (bn1): BatchNorm1d(20, eps=1e-05, momentum=0.1, affine=True, track_running_stats=True)\n",
      "  (bn2): BatchNorm1d(10, eps=1e-05, momentum=0.1, affine=True, track_running_stats=True)\n",
      "  (bn3): BatchNorm1d(10, eps=1e-05, momentum=0.1, affine=True, track_running_stats=True)\n",
      "  (bn4): BatchNorm1d(10, eps=1e-05, momentum=0.1, affine=True, track_running_stats=True)\n",
      "  (bn5): BatchNorm1d(10, eps=1e-05, momentum=0.1, affine=True, track_running_stats=True)\n",
      "  (bn6): BatchNorm1d(10, eps=1e-05, momentum=0.1, affine=True, track_running_stats=True)\n",
      "  (bn7): BatchNorm1d(7, eps=1e-05, momentum=0.1, affine=True, track_running_stats=True)\n",
      "  (bn8): BatchNorm1d(3, eps=1e-05, momentum=0.1, affine=True, track_running_stats=True)\n",
      "  (bn9): BatchNorm1d(1, eps=1e-05, momentum=0.1, affine=True, track_running_stats=True)\n",
      ")\n",
      "epoch_start 820\n",
      "batch_size 128\n",
      "epochs 500\n",
      "lr 1e-06\n",
      "Number of batches: train = 1250, val = 157\n"
     ]
    },
    {
     "name": "stderr",
     "output_type": "stream",
     "text": [
      "/home/michael24peters/pv-finder/notebooks/model/training.py:95: TqdmDeprecationWarning: This function will be removed in tqdm==5.0.0\n",
      "Please use `tqdm.notebook.tqdm` instead of `tqdm.tqdm_notebook`\n",
      "  file=sys.stderr,\n"
     ]
    },
    {
     "data": {
      "application/vnd.jupyter.widget-view+json": {
       "model_id": "42cba289a7c14e6ea51a3d5020e97417",
       "version_major": 2,
       "version_minor": 0
      },
      "text/plain": [
       "HBox(children=(FloatProgress(value=0.0, description='Epochs', layout=Layout(flex='2'), max=500.0, style=Progre…"
      ]
     },
     "metadata": {},
     "output_type": "display_data"
    },
    {
     "data": {
      "application/vnd.jupyter.widget-view+json": {
       "model_id": "",
       "version_major": 2,
       "version_minor": 0
      },
      "text/plain": [
       "HBox(children=(FloatProgress(value=0.0, description='Training', layout=Layout(flex='2'), max=1250.0, style=Pro…"
      ]
     },
     "metadata": {},
     "output_type": "display_data"
    },
    {
     "name": "stdout",
     "output_type": "stream",
     "text": [
      "Epoch 820: train=8.93579, val=8.65985, took 52.458 s\n",
      "  Validation Found 101645 of 108007, added 5525 (eff 94.11%) (0.276 FP/event)\n",
      "Result epoch:  820\n",
      "Average Eff:  0.0\n",
      "Average FP Rate:  0.0\n"
     ]
    },
    {
     "data": {
      "application/vnd.jupyter.widget-view+json": {
       "model_id": "",
       "version_major": 2,
       "version_minor": 0
      },
      "text/plain": [
       "HBox(children=(FloatProgress(value=0.0, description='Training', layout=Layout(flex='2'), max=1250.0, style=Pro…"
      ]
     },
     "metadata": {},
     "output_type": "display_data"
    },
    {
     "name": "stdout",
     "output_type": "stream",
     "text": [
      "Epoch 821: train=8.94161, val=8.65143, took 52.442 s\n",
      "  Validation Found 101563 of 108007, added 5339 (eff 94.03%) (0.267 FP/event)\n",
      "Result epoch:  821\n",
      "Average Eff:  0.0\n",
      "Average FP Rate:  0.0\n"
     ]
    },
    {
     "data": {
      "application/vnd.jupyter.widget-view+json": {
       "model_id": "",
       "version_major": 2,
       "version_minor": 0
      },
      "text/plain": [
       "HBox(children=(FloatProgress(value=0.0, description='Training', layout=Layout(flex='2'), max=1250.0, style=Pro…"
      ]
     },
     "metadata": {},
     "output_type": "display_data"
    },
    {
     "name": "stdout",
     "output_type": "stream",
     "text": [
      "Epoch 822: train=8.93988, val=8.6519, took 51.497 s\n",
      "  Validation Found 101650 of 108007, added 5496 (eff 94.11%) (0.275 FP/event)\n",
      "Result epoch:  822\n",
      "Average Eff:  0.0\n",
      "Average FP Rate:  0.0\n"
     ]
    },
    {
     "data": {
      "application/vnd.jupyter.widget-view+json": {
       "model_id": "",
       "version_major": 2,
       "version_minor": 0
      },
      "text/plain": [
       "HBox(children=(FloatProgress(value=0.0, description='Training', layout=Layout(flex='2'), max=1250.0, style=Pro…"
      ]
     },
     "metadata": {},
     "output_type": "display_data"
    },
    {
     "name": "stdout",
     "output_type": "stream",
     "text": [
      "Epoch 823: train=8.93202, val=8.6473, took 51.032 s\n",
      "  Validation Found 101663 of 108007, added 5490 (eff 94.13%) (0.274 FP/event)\n",
      "Result epoch:  823\n",
      "Average Eff:  0.0\n",
      "Average FP Rate:  0.0\n"
     ]
    },
    {
     "data": {
      "application/vnd.jupyter.widget-view+json": {
       "model_id": "",
       "version_major": 2,
       "version_minor": 0
      },
      "text/plain": [
       "HBox(children=(FloatProgress(value=0.0, description='Training', layout=Layout(flex='2'), max=1250.0, style=Pro…"
      ]
     },
     "metadata": {},
     "output_type": "display_data"
    },
    {
     "name": "stdout",
     "output_type": "stream",
     "text": [
      "Epoch 824: train=8.937, val=8.64471, took 51.072 s\n",
      "  Validation Found 101707 of 108007, added 5628 (eff 94.17%) (0.281 FP/event)\n",
      "Result epoch:  824\n",
      "Average Eff:  0.0\n",
      "Average FP Rate:  0.0\n"
     ]
    },
    {
     "data": {
      "application/vnd.jupyter.widget-view+json": {
       "model_id": "",
       "version_major": 2,
       "version_minor": 0
      },
      "text/plain": [
       "HBox(children=(FloatProgress(value=0.0, description='Training', layout=Layout(flex='2'), max=1250.0, style=Pro…"
      ]
     },
     "metadata": {},
     "output_type": "display_data"
    },
    {
     "name": "stdout",
     "output_type": "stream",
     "text": [
      "Epoch 825: train=8.93527, val=8.64489, took 51.086 s\n",
      "  Validation Found 101733 of 108007, added 5662 (eff 94.19%) (0.283 FP/event)\n",
      "Result epoch:  825\n",
      "Average Eff:  0.0\n",
      "Average FP Rate:  0.0\n"
     ]
    },
    {
     "data": {
      "application/vnd.jupyter.widget-view+json": {
       "model_id": "",
       "version_major": 2,
       "version_minor": 0
      },
      "text/plain": [
       "HBox(children=(FloatProgress(value=0.0, description='Training', layout=Layout(flex='2'), max=1250.0, style=Pro…"
      ]
     },
     "metadata": {},
     "output_type": "display_data"
    },
    {
     "name": "stdout",
     "output_type": "stream",
     "text": [
      "Epoch 826: train=8.93599, val=8.64357, took 50.972 s\n",
      "  Validation Found 101614 of 108007, added 5442 (eff 94.08%) (0.272 FP/event)\n",
      "Result epoch:  826\n",
      "Average Eff:  0.0\n",
      "Average FP Rate:  0.0\n"
     ]
    },
    {
     "data": {
      "application/vnd.jupyter.widget-view+json": {
       "model_id": "",
       "version_major": 2,
       "version_minor": 0
      },
      "text/plain": [
       "HBox(children=(FloatProgress(value=0.0, description='Training', layout=Layout(flex='2'), max=1250.0, style=Pro…"
      ]
     },
     "metadata": {},
     "output_type": "display_data"
    },
    {
     "name": "stdout",
     "output_type": "stream",
     "text": [
      "Epoch 827: train=8.93429, val=8.65149, took 50.843 s\n",
      "  Validation Found 101650 of 108007, added 5497 (eff 94.11%) (0.275 FP/event)\n",
      "Result epoch:  827\n",
      "Average Eff:  0.0\n",
      "Average FP Rate:  0.0\n"
     ]
    },
    {
     "data": {
      "application/vnd.jupyter.widget-view+json": {
       "model_id": "",
       "version_major": 2,
       "version_minor": 0
      },
      "text/plain": [
       "HBox(children=(FloatProgress(value=0.0, description='Training', layout=Layout(flex='2'), max=1250.0, style=Pro…"
      ]
     },
     "metadata": {},
     "output_type": "display_data"
    },
    {
     "name": "stdout",
     "output_type": "stream",
     "text": [
      "Epoch 828: train=8.93932, val=8.64717, took 50.927 s\n",
      "  Validation Found 101653 of 108007, added 5495 (eff 94.12%) (0.275 FP/event)\n",
      "Result epoch:  828\n",
      "Average Eff:  0.0\n",
      "Average FP Rate:  0.0\n"
     ]
    },
    {
     "data": {
      "application/vnd.jupyter.widget-view+json": {
       "model_id": "",
       "version_major": 2,
       "version_minor": 0
      },
      "text/plain": [
       "HBox(children=(FloatProgress(value=0.0, description='Training', layout=Layout(flex='2'), max=1250.0, style=Pro…"
      ]
     },
     "metadata": {},
     "output_type": "display_data"
    },
    {
     "name": "stdout",
     "output_type": "stream",
     "text": [
      "Epoch 829: train=8.93374, val=8.64614, took 50.932 s\n",
      "  Validation Found 101634 of 108007, added 5450 (eff 94.10%) (0.272 FP/event)\n",
      "Result epoch:  829\n",
      "Average Eff:  0.0\n",
      "Average FP Rate:  0.0\n"
     ]
    },
    {
     "data": {
      "application/vnd.jupyter.widget-view+json": {
       "model_id": "",
       "version_major": 2,
       "version_minor": 0
      },
      "text/plain": [
       "HBox(children=(FloatProgress(value=0.0, description='Training', layout=Layout(flex='2'), max=1250.0, style=Pro…"
      ]
     },
     "metadata": {},
     "output_type": "display_data"
    },
    {
     "name": "stdout",
     "output_type": "stream",
     "text": [
      "Epoch 830: train=8.93586, val=8.64587, took 51.081 s\n",
      "  Validation Found 101628 of 108007, added 5449 (eff 94.09%) (0.272 FP/event)\n",
      "Result epoch:  830\n",
      "Average Eff:  0.0\n",
      "Average FP Rate:  0.0\n"
     ]
    },
    {
     "data": {
      "application/vnd.jupyter.widget-view+json": {
       "model_id": "",
       "version_major": 2,
       "version_minor": 0
      },
      "text/plain": [
       "HBox(children=(FloatProgress(value=0.0, description='Training', layout=Layout(flex='2'), max=1250.0, style=Pro…"
      ]
     },
     "metadata": {},
     "output_type": "display_data"
    },
    {
     "name": "stdout",
     "output_type": "stream",
     "text": [
      "Epoch 831: train=8.93873, val=8.64862, took 51.857 s\n",
      "  Validation Found 101647 of 108007, added 5488 (eff 94.11%) (0.274 FP/event)\n",
      "Result epoch:  831\n",
      "Average Eff:  0.0\n",
      "Average FP Rate:  0.0\n"
     ]
    },
    {
     "data": {
      "application/vnd.jupyter.widget-view+json": {
       "model_id": "",
       "version_major": 2,
       "version_minor": 0
      },
      "text/plain": [
       "HBox(children=(FloatProgress(value=0.0, description='Training', layout=Layout(flex='2'), max=1250.0, style=Pro…"
      ]
     },
     "metadata": {},
     "output_type": "display_data"
    },
    {
     "name": "stdout",
     "output_type": "stream",
     "text": [
      "Epoch 832: train=8.9402, val=8.65254, took 52.358 s\n",
      "  Validation Found 101669 of 108007, added 5539 (eff 94.13%) (0.277 FP/event)\n",
      "Result epoch:  832\n",
      "Average Eff:  0.0\n",
      "Average FP Rate:  0.0\n"
     ]
    },
    {
     "data": {
      "application/vnd.jupyter.widget-view+json": {
       "model_id": "",
       "version_major": 2,
       "version_minor": 0
      },
      "text/plain": [
       "HBox(children=(FloatProgress(value=0.0, description='Training', layout=Layout(flex='2'), max=1250.0, style=Pro…"
      ]
     },
     "metadata": {},
     "output_type": "display_data"
    },
    {
     "name": "stdout",
     "output_type": "stream",
     "text": [
      "Epoch 833: train=8.93472, val=8.6557, took 52.36 s\n",
      "  Validation Found 101618 of 108007, added 5456 (eff 94.08%) (0.273 FP/event)\n",
      "Result epoch:  833\n",
      "Average Eff:  0.0\n",
      "Average FP Rate:  0.0\n"
     ]
    },
    {
     "data": {
      "application/vnd.jupyter.widget-view+json": {
       "model_id": "",
       "version_major": 2,
       "version_minor": 0
      },
      "text/plain": [
       "HBox(children=(FloatProgress(value=0.0, description='Training', layout=Layout(flex='2'), max=1250.0, style=Pro…"
      ]
     },
     "metadata": {},
     "output_type": "display_data"
    },
    {
     "name": "stdout",
     "output_type": "stream",
     "text": [
      "Epoch 834: train=8.9387, val=8.65366, took 52.293 s\n",
      "  Validation Found 101504 of 108007, added 5258 (eff 93.98%) (0.263 FP/event)\n",
      "Result epoch:  834\n",
      "Average Eff:  0.0\n",
      "Average FP Rate:  0.0\n"
     ]
    },
    {
     "data": {
      "application/vnd.jupyter.widget-view+json": {
       "model_id": "",
       "version_major": 2,
       "version_minor": 0
      },
      "text/plain": [
       "HBox(children=(FloatProgress(value=0.0, description='Training', layout=Layout(flex='2'), max=1250.0, style=Pro…"
      ]
     },
     "metadata": {},
     "output_type": "display_data"
    },
    {
     "name": "stdout",
     "output_type": "stream",
     "text": [
      "Epoch 835: train=8.93885, val=8.64627, took 52.268 s\n",
      "  Validation Found 101660 of 108007, added 5524 (eff 94.12%) (0.276 FP/event)\n",
      "Result epoch:  835\n",
      "Average Eff:  0.0\n",
      "Average FP Rate:  0.0\n"
     ]
    },
    {
     "data": {
      "application/vnd.jupyter.widget-view+json": {
       "model_id": "",
       "version_major": 2,
       "version_minor": 0
      },
      "text/plain": [
       "HBox(children=(FloatProgress(value=0.0, description='Training', layout=Layout(flex='2'), max=1250.0, style=Pro…"
      ]
     },
     "metadata": {},
     "output_type": "display_data"
    },
    {
     "name": "stdout",
     "output_type": "stream",
     "text": [
      "Epoch 836: train=8.93757, val=8.64523, took 52.138 s\n",
      "  Validation Found 101664 of 108007, added 5544 (eff 94.13%) (0.277 FP/event)\n",
      "Result epoch:  836\n",
      "Average Eff:  0.0\n",
      "Average FP Rate:  0.0\n"
     ]
    },
    {
     "data": {
      "application/vnd.jupyter.widget-view+json": {
       "model_id": "",
       "version_major": 2,
       "version_minor": 0
      },
      "text/plain": [
       "HBox(children=(FloatProgress(value=0.0, description='Training', layout=Layout(flex='2'), max=1250.0, style=Pro…"
      ]
     },
     "metadata": {},
     "output_type": "display_data"
    },
    {
     "name": "stdout",
     "output_type": "stream",
     "text": [
      "Epoch 837: train=8.93355, val=8.64208, took 51.048 s\n",
      "  Validation Found 101636 of 108007, added 5486 (eff 94.10%) (0.274 FP/event)\n",
      "Result epoch:  837\n",
      "Average Eff:  0.0\n",
      "Average FP Rate:  0.0\n"
     ]
    },
    {
     "data": {
      "application/vnd.jupyter.widget-view+json": {
       "model_id": "",
       "version_major": 2,
       "version_minor": 0
      },
      "text/plain": [
       "HBox(children=(FloatProgress(value=0.0, description='Training', layout=Layout(flex='2'), max=1250.0, style=Pro…"
      ]
     },
     "metadata": {},
     "output_type": "display_data"
    },
    {
     "name": "stdout",
     "output_type": "stream",
     "text": [
      "Epoch 838: train=8.93701, val=8.64909, took 51.93 s\n",
      "  Validation Found 101561 of 108007, added 5341 (eff 94.03%) (0.267 FP/event)\n",
      "Result epoch:  838\n",
      "Average Eff:  0.0\n",
      "Average FP Rate:  0.0\n"
     ]
    },
    {
     "data": {
      "application/vnd.jupyter.widget-view+json": {
       "model_id": "",
       "version_major": 2,
       "version_minor": 0
      },
      "text/plain": [
       "HBox(children=(FloatProgress(value=0.0, description='Training', layout=Layout(flex='2'), max=1250.0, style=Pro…"
      ]
     },
     "metadata": {},
     "output_type": "display_data"
    },
    {
     "name": "stdout",
     "output_type": "stream",
     "text": [
      "Epoch 839: train=8.93697, val=8.64592, took 52.28 s\n",
      "  Validation Found 101621 of 108007, added 5427 (eff 94.09%) (0.271 FP/event)\n",
      "Result epoch:  839\n",
      "Average Eff:  0.0\n",
      "Average FP Rate:  0.0\n"
     ]
    },
    {
     "data": {
      "application/vnd.jupyter.widget-view+json": {
       "model_id": "",
       "version_major": 2,
       "version_minor": 0
      },
      "text/plain": [
       "HBox(children=(FloatProgress(value=0.0, description='Training', layout=Layout(flex='2'), max=1250.0, style=Pro…"
      ]
     },
     "metadata": {},
     "output_type": "display_data"
    },
    {
     "name": "stdout",
     "output_type": "stream",
     "text": [
      "Epoch 840: train=8.93646, val=8.64567, took 52.358 s\n",
      "  Validation Found 101638 of 108007, added 5480 (eff 94.10%) (0.274 FP/event)\n",
      "Result epoch:  840\n",
      "Average Eff:  0.0\n",
      "Average FP Rate:  0.0\n"
     ]
    },
    {
     "data": {
      "application/vnd.jupyter.widget-view+json": {
       "model_id": "",
       "version_major": 2,
       "version_minor": 0
      },
      "text/plain": [
       "HBox(children=(FloatProgress(value=0.0, description='Training', layout=Layout(flex='2'), max=1250.0, style=Pro…"
      ]
     },
     "metadata": {},
     "output_type": "display_data"
    },
    {
     "name": "stdout",
     "output_type": "stream",
     "text": [
      "Epoch 841: train=8.93406, val=8.64707, took 52.246 s\n",
      "  Validation Found 101619 of 108007, added 5439 (eff 94.09%) (0.272 FP/event)\n",
      "Result epoch:  841\n",
      "Average Eff:  0.0\n",
      "Average FP Rate:  0.0\n"
     ]
    },
    {
     "data": {
      "application/vnd.jupyter.widget-view+json": {
       "model_id": "",
       "version_major": 2,
       "version_minor": 0
      },
      "text/plain": [
       "HBox(children=(FloatProgress(value=0.0, description='Training', layout=Layout(flex='2'), max=1250.0, style=Pro…"
      ]
     },
     "metadata": {},
     "output_type": "display_data"
    },
    {
     "name": "stdout",
     "output_type": "stream",
     "text": [
      "Epoch 842: train=8.93659, val=8.64677, took 52.336 s\n",
      "  Validation Found 101677 of 108007, added 5519 (eff 94.14%) (0.276 FP/event)\n",
      "Result epoch:  842\n",
      "Average Eff:  0.0\n",
      "Average FP Rate:  0.0\n"
     ]
    },
    {
     "data": {
      "application/vnd.jupyter.widget-view+json": {
       "model_id": "",
       "version_major": 2,
       "version_minor": 0
      },
      "text/plain": [
       "HBox(children=(FloatProgress(value=0.0, description='Training', layout=Layout(flex='2'), max=1250.0, style=Pro…"
      ]
     },
     "metadata": {},
     "output_type": "display_data"
    },
    {
     "name": "stdout",
     "output_type": "stream",
     "text": [
      "Epoch 843: train=8.93116, val=8.65771, took 52.323 s\n",
      "  Validation Found 101664 of 108007, added 5545 (eff 94.13%) (0.277 FP/event)\n",
      "Result epoch:  843\n",
      "Average Eff:  0.0\n",
      "Average FP Rate:  0.0\n"
     ]
    },
    {
     "data": {
      "application/vnd.jupyter.widget-view+json": {
       "model_id": "",
       "version_major": 2,
       "version_minor": 0
      },
      "text/plain": [
       "HBox(children=(FloatProgress(value=0.0, description='Training', layout=Layout(flex='2'), max=1250.0, style=Pro…"
      ]
     },
     "metadata": {},
     "output_type": "display_data"
    },
    {
     "name": "stdout",
     "output_type": "stream",
     "text": [
      "Epoch 844: train=8.93596, val=8.64283, took 52.363 s\n",
      "  Validation Found 101681 of 108007, added 5569 (eff 94.14%) (0.278 FP/event)\n",
      "Result epoch:  844\n",
      "Average Eff:  0.0\n",
      "Average FP Rate:  0.0\n"
     ]
    },
    {
     "data": {
      "application/vnd.jupyter.widget-view+json": {
       "model_id": "",
       "version_major": 2,
       "version_minor": 0
      },
      "text/plain": [
       "HBox(children=(FloatProgress(value=0.0, description='Training', layout=Layout(flex='2'), max=1250.0, style=Pro…"
      ]
     },
     "metadata": {},
     "output_type": "display_data"
    },
    {
     "name": "stdout",
     "output_type": "stream",
     "text": [
      "Epoch 845: train=8.93254, val=8.65268, took 51.364 s\n",
      "  Validation Found 101592 of 108007, added 5402 (eff 94.06%) (0.27 FP/event)\n",
      "Result epoch:  845\n",
      "Average Eff:  0.0\n",
      "Average FP Rate:  0.0\n"
     ]
    },
    {
     "data": {
      "application/vnd.jupyter.widget-view+json": {
       "model_id": "",
       "version_major": 2,
       "version_minor": 0
      },
      "text/plain": [
       "HBox(children=(FloatProgress(value=0.0, description='Training', layout=Layout(flex='2'), max=1250.0, style=Pro…"
      ]
     },
     "metadata": {},
     "output_type": "display_data"
    },
    {
     "name": "stdout",
     "output_type": "stream",
     "text": [
      "Epoch 846: train=8.93857, val=8.64531, took 51.078 s\n",
      "  Validation Found 101574 of 108007, added 5370 (eff 94.04%) (0.268 FP/event)\n",
      "Result epoch:  846\n",
      "Average Eff:  0.0\n",
      "Average FP Rate:  0.0\n"
     ]
    },
    {
     "data": {
      "application/vnd.jupyter.widget-view+json": {
       "model_id": "",
       "version_major": 2,
       "version_minor": 0
      },
      "text/plain": [
       "HBox(children=(FloatProgress(value=0.0, description='Training', layout=Layout(flex='2'), max=1250.0, style=Pro…"
      ]
     },
     "metadata": {},
     "output_type": "display_data"
    },
    {
     "name": "stdout",
     "output_type": "stream",
     "text": [
      "Epoch 847: train=8.93774, val=8.65304, took 50.967 s\n",
      "  Validation Found 101634 of 108007, added 5476 (eff 94.10%) (0.274 FP/event)\n",
      "Result epoch:  847\n",
      "Average Eff:  0.0\n",
      "Average FP Rate:  0.0\n"
     ]
    },
    {
     "data": {
      "application/vnd.jupyter.widget-view+json": {
       "model_id": "",
       "version_major": 2,
       "version_minor": 0
      },
      "text/plain": [
       "HBox(children=(FloatProgress(value=0.0, description='Training', layout=Layout(flex='2'), max=1250.0, style=Pro…"
      ]
     },
     "metadata": {},
     "output_type": "display_data"
    },
    {
     "name": "stdout",
     "output_type": "stream",
     "text": [
      "Epoch 848: train=8.93348, val=8.64274, took 50.947 s\n",
      "  Validation Found 101675 of 108007, added 5565 (eff 94.14%) (0.278 FP/event)\n",
      "Result epoch:  848\n",
      "Average Eff:  0.0\n",
      "Average FP Rate:  0.0\n"
     ]
    },
    {
     "data": {
      "application/vnd.jupyter.widget-view+json": {
       "model_id": "",
       "version_major": 2,
       "version_minor": 0
      },
      "text/plain": [
       "HBox(children=(FloatProgress(value=0.0, description='Training', layout=Layout(flex='2'), max=1250.0, style=Pro…"
      ]
     },
     "metadata": {},
     "output_type": "display_data"
    },
    {
     "name": "stdout",
     "output_type": "stream",
     "text": [
      "Epoch 849: train=8.933, val=8.65575, took 50.446 s\n",
      "  Validation Found 101650 of 108007, added 5518 (eff 94.11%) (0.276 FP/event)\n",
      "Result epoch:  849\n",
      "Average Eff:  0.0\n",
      "Average FP Rate:  0.0\n"
     ]
    },
    {
     "data": {
      "application/vnd.jupyter.widget-view+json": {
       "model_id": "",
       "version_major": 2,
       "version_minor": 0
      },
      "text/plain": [
       "HBox(children=(FloatProgress(value=0.0, description='Training', layout=Layout(flex='2'), max=1250.0, style=Pro…"
      ]
     },
     "metadata": {},
     "output_type": "display_data"
    },
    {
     "name": "stdout",
     "output_type": "stream",
     "text": [
      "Epoch 850: train=8.93481, val=8.64793, took 50.459 s\n",
      "  Validation Found 101694 of 108007, added 5611 (eff 94.16%) (0.281 FP/event)\n",
      "Result epoch:  850\n",
      "Average Eff:  0.0\n",
      "Average FP Rate:  0.0\n"
     ]
    },
    {
     "data": {
      "application/vnd.jupyter.widget-view+json": {
       "model_id": "",
       "version_major": 2,
       "version_minor": 0
      },
      "text/plain": [
       "HBox(children=(FloatProgress(value=0.0, description='Training', layout=Layout(flex='2'), max=1250.0, style=Pro…"
      ]
     },
     "metadata": {},
     "output_type": "display_data"
    },
    {
     "name": "stdout",
     "output_type": "stream",
     "text": [
      "Epoch 851: train=8.92891, val=8.64074, took 50.431 s\n",
      "  Validation Found 101636 of 108007, added 5480 (eff 94.10%) (0.274 FP/event)\n",
      "Result epoch:  851\n",
      "Average Eff:  0.0\n",
      "Average FP Rate:  0.0\n"
     ]
    },
    {
     "data": {
      "application/vnd.jupyter.widget-view+json": {
       "model_id": "",
       "version_major": 2,
       "version_minor": 0
      },
      "text/plain": [
       "HBox(children=(FloatProgress(value=0.0, description='Training', layout=Layout(flex='2'), max=1250.0, style=Pro…"
      ]
     },
     "metadata": {},
     "output_type": "display_data"
    },
    {
     "name": "stdout",
     "output_type": "stream",
     "text": [
      "Epoch 852: train=8.93768, val=8.64482, took 50.427 s\n",
      "  Validation Found 101625 of 108007, added 5468 (eff 94.09%) (0.273 FP/event)\n",
      "Result epoch:  852\n",
      "Average Eff:  0.0\n",
      "Average FP Rate:  0.0\n"
     ]
    },
    {
     "data": {
      "application/vnd.jupyter.widget-view+json": {
       "model_id": "",
       "version_major": 2,
       "version_minor": 0
      },
      "text/plain": [
       "HBox(children=(FloatProgress(value=0.0, description='Training', layout=Layout(flex='2'), max=1250.0, style=Pro…"
      ]
     },
     "metadata": {},
     "output_type": "display_data"
    },
    {
     "name": "stdout",
     "output_type": "stream",
     "text": [
      "Epoch 853: train=8.93579, val=8.63604, took 50.588 s\n",
      "  Validation Found 101625 of 108007, added 5442 (eff 94.09%) (0.272 FP/event)\n",
      "Result epoch:  853\n",
      "Average Eff:  0.0\n",
      "Average FP Rate:  0.0\n"
     ]
    },
    {
     "data": {
      "application/vnd.jupyter.widget-view+json": {
       "model_id": "",
       "version_major": 2,
       "version_minor": 0
      },
      "text/plain": [
       "HBox(children=(FloatProgress(value=0.0, description='Training', layout=Layout(flex='2'), max=1250.0, style=Pro…"
      ]
     },
     "metadata": {},
     "output_type": "display_data"
    },
    {
     "name": "stdout",
     "output_type": "stream",
     "text": [
      "Epoch 854: train=8.93852, val=8.65288, took 50.65 s\n",
      "  Validation Found 101606 of 108007, added 5420 (eff 94.07%) (0.271 FP/event)\n",
      "Result epoch:  854\n",
      "Average Eff:  0.0\n",
      "Average FP Rate:  0.0\n"
     ]
    },
    {
     "data": {
      "application/vnd.jupyter.widget-view+json": {
       "model_id": "",
       "version_major": 2,
       "version_minor": 0
      },
      "text/plain": [
       "HBox(children=(FloatProgress(value=0.0, description='Training', layout=Layout(flex='2'), max=1250.0, style=Pro…"
      ]
     },
     "metadata": {},
     "output_type": "display_data"
    },
    {
     "name": "stdout",
     "output_type": "stream",
     "text": [
      "Epoch 855: train=8.9389, val=8.6487, took 50.479 s\n",
      "  Validation Found 101606 of 108007, added 5405 (eff 94.07%) (0.27 FP/event)\n",
      "Result epoch:  855\n",
      "Average Eff:  0.0\n",
      "Average FP Rate:  0.0\n"
     ]
    },
    {
     "data": {
      "application/vnd.jupyter.widget-view+json": {
       "model_id": "",
       "version_major": 2,
       "version_minor": 0
      },
      "text/plain": [
       "HBox(children=(FloatProgress(value=0.0, description='Training', layout=Layout(flex='2'), max=1250.0, style=Pro…"
      ]
     },
     "metadata": {},
     "output_type": "display_data"
    },
    {
     "name": "stdout",
     "output_type": "stream",
     "text": [
      "Epoch 856: train=8.93726, val=8.64049, took 50.455 s\n",
      "  Validation Found 101634 of 108007, added 5460 (eff 94.10%) (0.273 FP/event)\n",
      "Result epoch:  856\n",
      "Average Eff:  0.0\n",
      "Average FP Rate:  0.0\n"
     ]
    },
    {
     "data": {
      "application/vnd.jupyter.widget-view+json": {
       "model_id": "",
       "version_major": 2,
       "version_minor": 0
      },
      "text/plain": [
       "HBox(children=(FloatProgress(value=0.0, description='Training', layout=Layout(flex='2'), max=1250.0, style=Pro…"
      ]
     },
     "metadata": {},
     "output_type": "display_data"
    },
    {
     "name": "stdout",
     "output_type": "stream",
     "text": [
      "Epoch 857: train=8.9371, val=8.64335, took 50.499 s\n",
      "  Validation Found 101577 of 108007, added 5339 (eff 94.05%) (0.267 FP/event)\n",
      "Result epoch:  857\n",
      "Average Eff:  0.0\n",
      "Average FP Rate:  0.0\n"
     ]
    },
    {
     "data": {
      "application/vnd.jupyter.widget-view+json": {
       "model_id": "",
       "version_major": 2,
       "version_minor": 0
      },
      "text/plain": [
       "HBox(children=(FloatProgress(value=0.0, description='Training', layout=Layout(flex='2'), max=1250.0, style=Pro…"
      ]
     },
     "metadata": {},
     "output_type": "display_data"
    },
    {
     "name": "stdout",
     "output_type": "stream",
     "text": [
      "Epoch 858: train=8.93664, val=8.64441, took 50.5 s\n",
      "  Validation Found 101607 of 108007, added 5418 (eff 94.07%) (0.271 FP/event)\n",
      "Result epoch:  858\n",
      "Average Eff:  0.0\n",
      "Average FP Rate:  0.0\n"
     ]
    },
    {
     "data": {
      "application/vnd.jupyter.widget-view+json": {
       "model_id": "",
       "version_major": 2,
       "version_minor": 0
      },
      "text/plain": [
       "HBox(children=(FloatProgress(value=0.0, description='Training', layout=Layout(flex='2'), max=1250.0, style=Pro…"
      ]
     },
     "metadata": {},
     "output_type": "display_data"
    },
    {
     "name": "stdout",
     "output_type": "stream",
     "text": [
      "Epoch 859: train=8.94048, val=8.6477, took 50.441 s\n",
      "  Validation Found 101542 of 108007, added 5318 (eff 94.01%) (0.266 FP/event)\n",
      "Result epoch:  859\n",
      "Average Eff:  0.0\n",
      "Average FP Rate:  0.0\n"
     ]
    },
    {
     "data": {
      "application/vnd.jupyter.widget-view+json": {
       "model_id": "",
       "version_major": 2,
       "version_minor": 0
      },
      "text/plain": [
       "HBox(children=(FloatProgress(value=0.0, description='Training', layout=Layout(flex='2'), max=1250.0, style=Pro…"
      ]
     },
     "metadata": {},
     "output_type": "display_data"
    },
    {
     "name": "stdout",
     "output_type": "stream",
     "text": [
      "Epoch 860: train=8.93429, val=8.64408, took 50.651 s\n",
      "  Validation Found 101663 of 108007, added 5544 (eff 94.13%) (0.277 FP/event)\n",
      "Result epoch:  860\n",
      "Average Eff:  0.0\n",
      "Average FP Rate:  0.0\n"
     ]
    },
    {
     "data": {
      "application/vnd.jupyter.widget-view+json": {
       "model_id": "",
       "version_major": 2,
       "version_minor": 0
      },
      "text/plain": [
       "HBox(children=(FloatProgress(value=0.0, description='Training', layout=Layout(flex='2'), max=1250.0, style=Pro…"
      ]
     },
     "metadata": {},
     "output_type": "display_data"
    },
    {
     "name": "stdout",
     "output_type": "stream",
     "text": [
      "Epoch 861: train=8.93488, val=8.65296, took 50.427 s\n",
      "  Validation Found 101648 of 108007, added 5514 (eff 94.11%) (0.276 FP/event)\n",
      "Result epoch:  861\n",
      "Average Eff:  0.0\n",
      "Average FP Rate:  0.0\n"
     ]
    },
    {
     "data": {
      "application/vnd.jupyter.widget-view+json": {
       "model_id": "",
       "version_major": 2,
       "version_minor": 0
      },
      "text/plain": [
       "HBox(children=(FloatProgress(value=0.0, description='Training', layout=Layout(flex='2'), max=1250.0, style=Pro…"
      ]
     },
     "metadata": {},
     "output_type": "display_data"
    },
    {
     "name": "stdout",
     "output_type": "stream",
     "text": [
      "Epoch 862: train=8.93005, val=8.65044, took 50.424 s\n",
      "  Validation Found 101699 of 108007, added 5614 (eff 94.16%) (0.281 FP/event)\n",
      "Result epoch:  862\n",
      "Average Eff:  0.0\n",
      "Average FP Rate:  0.0\n"
     ]
    },
    {
     "data": {
      "application/vnd.jupyter.widget-view+json": {
       "model_id": "",
       "version_major": 2,
       "version_minor": 0
      },
      "text/plain": [
       "HBox(children=(FloatProgress(value=0.0, description='Training', layout=Layout(flex='2'), max=1250.0, style=Pro…"
      ]
     },
     "metadata": {},
     "output_type": "display_data"
    },
    {
     "name": "stdout",
     "output_type": "stream",
     "text": [
      "Epoch 863: train=8.93132, val=8.64083, took 50.471 s\n",
      "  Validation Found 101623 of 108007, added 5427 (eff 94.09%) (0.271 FP/event)\n",
      "Result epoch:  863\n",
      "Average Eff:  0.0\n",
      "Average FP Rate:  0.0\n"
     ]
    },
    {
     "data": {
      "application/vnd.jupyter.widget-view+json": {
       "model_id": "",
       "version_major": 2,
       "version_minor": 0
      },
      "text/plain": [
       "HBox(children=(FloatProgress(value=0.0, description='Training', layout=Layout(flex='2'), max=1250.0, style=Pro…"
      ]
     },
     "metadata": {},
     "output_type": "display_data"
    },
    {
     "name": "stdout",
     "output_type": "stream",
     "text": [
      "Epoch 864: train=8.92871, val=8.64394, took 50.378 s\n",
      "  Validation Found 101532 of 108007, added 5288 (eff 94.01%) (0.264 FP/event)\n",
      "Result epoch:  864\n",
      "Average Eff:  0.0\n",
      "Average FP Rate:  0.0\n"
     ]
    },
    {
     "data": {
      "application/vnd.jupyter.widget-view+json": {
       "model_id": "",
       "version_major": 2,
       "version_minor": 0
      },
      "text/plain": [
       "HBox(children=(FloatProgress(value=0.0, description='Training', layout=Layout(flex='2'), max=1250.0, style=Pro…"
      ]
     },
     "metadata": {},
     "output_type": "display_data"
    },
    {
     "name": "stdout",
     "output_type": "stream",
     "text": [
      "Epoch 865: train=8.93045, val=8.6483, took 50.363 s\n",
      "  Validation Found 101638 of 108007, added 5465 (eff 94.10%) (0.273 FP/event)\n",
      "Result epoch:  865\n",
      "Average Eff:  0.0\n",
      "Average FP Rate:  0.0\n"
     ]
    },
    {
     "data": {
      "application/vnd.jupyter.widget-view+json": {
       "model_id": "",
       "version_major": 2,
       "version_minor": 0
      },
      "text/plain": [
       "HBox(children=(FloatProgress(value=0.0, description='Training', layout=Layout(flex='2'), max=1250.0, style=Pro…"
      ]
     },
     "metadata": {},
     "output_type": "display_data"
    },
    {
     "name": "stdout",
     "output_type": "stream",
     "text": [
      "Epoch 866: train=8.93357, val=8.64534, took 50.219 s\n",
      "  Validation Found 101654 of 108007, added 5531 (eff 94.12%) (0.277 FP/event)\n",
      "Result epoch:  866\n",
      "Average Eff:  0.0\n",
      "Average FP Rate:  0.0\n"
     ]
    },
    {
     "data": {
      "application/vnd.jupyter.widget-view+json": {
       "model_id": "",
       "version_major": 2,
       "version_minor": 0
      },
      "text/plain": [
       "HBox(children=(FloatProgress(value=0.0, description='Training', layout=Layout(flex='2'), max=1250.0, style=Pro…"
      ]
     },
     "metadata": {},
     "output_type": "display_data"
    },
    {
     "name": "stdout",
     "output_type": "stream",
     "text": [
      "Epoch 867: train=8.93127, val=8.64665, took 50.403 s\n",
      "  Validation Found 101623 of 108007, added 5416 (eff 94.09%) (0.271 FP/event)\n",
      "Result epoch:  867\n",
      "Average Eff:  0.0\n",
      "Average FP Rate:  0.0\n"
     ]
    },
    {
     "data": {
      "application/vnd.jupyter.widget-view+json": {
       "model_id": "",
       "version_major": 2,
       "version_minor": 0
      },
      "text/plain": [
       "HBox(children=(FloatProgress(value=0.0, description='Training', layout=Layout(flex='2'), max=1250.0, style=Pro…"
      ]
     },
     "metadata": {},
     "output_type": "display_data"
    },
    {
     "name": "stdout",
     "output_type": "stream",
     "text": [
      "Epoch 868: train=8.93302, val=8.64879, took 50.425 s\n",
      "  Validation Found 101679 of 108007, added 5552 (eff 94.14%) (0.278 FP/event)\n",
      "Result epoch:  868\n",
      "Average Eff:  0.0\n",
      "Average FP Rate:  0.0\n"
     ]
    },
    {
     "data": {
      "application/vnd.jupyter.widget-view+json": {
       "model_id": "",
       "version_major": 2,
       "version_minor": 0
      },
      "text/plain": [
       "HBox(children=(FloatProgress(value=0.0, description='Training', layout=Layout(flex='2'), max=1250.0, style=Pro…"
      ]
     },
     "metadata": {},
     "output_type": "display_data"
    },
    {
     "name": "stdout",
     "output_type": "stream",
     "text": [
      "Epoch 869: train=8.93441, val=8.64837, took 50.682 s\n",
      "  Validation Found 101638 of 108007, added 5498 (eff 94.10%) (0.275 FP/event)\n",
      "Result epoch:  869\n",
      "Average Eff:  0.0\n",
      "Average FP Rate:  0.0\n"
     ]
    },
    {
     "data": {
      "application/vnd.jupyter.widget-view+json": {
       "model_id": "",
       "version_major": 2,
       "version_minor": 0
      },
      "text/plain": [
       "HBox(children=(FloatProgress(value=0.0, description='Training', layout=Layout(flex='2'), max=1250.0, style=Pro…"
      ]
     },
     "metadata": {},
     "output_type": "display_data"
    },
    {
     "name": "stdout",
     "output_type": "stream",
     "text": [
      "Epoch 870: train=8.93178, val=8.6411, took 50.422 s\n",
      "  Validation Found 101696 of 108007, added 5577 (eff 94.16%) (0.279 FP/event)\n",
      "Result epoch:  870\n",
      "Average Eff:  0.0\n",
      "Average FP Rate:  0.0\n"
     ]
    },
    {
     "data": {
      "application/vnd.jupyter.widget-view+json": {
       "model_id": "",
       "version_major": 2,
       "version_minor": 0
      },
      "text/plain": [
       "HBox(children=(FloatProgress(value=0.0, description='Training', layout=Layout(flex='2'), max=1250.0, style=Pro…"
      ]
     },
     "metadata": {},
     "output_type": "display_data"
    },
    {
     "name": "stdout",
     "output_type": "stream",
     "text": [
      "Epoch 871: train=8.9361, val=8.64124, took 50.412 s\n",
      "  Validation Found 101621 of 108007, added 5419 (eff 94.09%) (0.271 FP/event)\n",
      "Result epoch:  871\n",
      "Average Eff:  0.0\n",
      "Average FP Rate:  0.0\n"
     ]
    },
    {
     "data": {
      "application/vnd.jupyter.widget-view+json": {
       "model_id": "",
       "version_major": 2,
       "version_minor": 0
      },
      "text/plain": [
       "HBox(children=(FloatProgress(value=0.0, description='Training', layout=Layout(flex='2'), max=1250.0, style=Pro…"
      ]
     },
     "metadata": {},
     "output_type": "display_data"
    },
    {
     "name": "stdout",
     "output_type": "stream",
     "text": [
      "Epoch 872: train=8.92598, val=8.64531, took 50.419 s\n",
      "  Validation Found 101607 of 108007, added 5399 (eff 94.07%) (0.27 FP/event)\n",
      "Result epoch:  872\n",
      "Average Eff:  0.0\n",
      "Average FP Rate:  0.0\n"
     ]
    },
    {
     "data": {
      "application/vnd.jupyter.widget-view+json": {
       "model_id": "",
       "version_major": 2,
       "version_minor": 0
      },
      "text/plain": [
       "HBox(children=(FloatProgress(value=0.0, description='Training', layout=Layout(flex='2'), max=1250.0, style=Pro…"
      ]
     },
     "metadata": {},
     "output_type": "display_data"
    },
    {
     "name": "stdout",
     "output_type": "stream",
     "text": [
      "Epoch 873: train=8.93397, val=8.65322, took 50.432 s\n",
      "  Validation Found 101584 of 108007, added 5368 (eff 94.05%) (0.268 FP/event)\n",
      "Result epoch:  873\n",
      "Average Eff:  0.0\n",
      "Average FP Rate:  0.0\n"
     ]
    },
    {
     "data": {
      "application/vnd.jupyter.widget-view+json": {
       "model_id": "",
       "version_major": 2,
       "version_minor": 0
      },
      "text/plain": [
       "HBox(children=(FloatProgress(value=0.0, description='Training', layout=Layout(flex='2'), max=1250.0, style=Pro…"
      ]
     },
     "metadata": {},
     "output_type": "display_data"
    },
    {
     "name": "stdout",
     "output_type": "stream",
     "text": [
      "Epoch 874: train=8.93216, val=8.65207, took 50.429 s\n",
      "  Validation Found 101587 of 108007, added 5394 (eff 94.06%) (0.27 FP/event)\n",
      "Result epoch:  874\n",
      "Average Eff:  0.0\n",
      "Average FP Rate:  0.0\n"
     ]
    },
    {
     "data": {
      "application/vnd.jupyter.widget-view+json": {
       "model_id": "",
       "version_major": 2,
       "version_minor": 0
      },
      "text/plain": [
       "HBox(children=(FloatProgress(value=0.0, description='Training', layout=Layout(flex='2'), max=1250.0, style=Pro…"
      ]
     },
     "metadata": {},
     "output_type": "display_data"
    },
    {
     "name": "stdout",
     "output_type": "stream",
     "text": [
      "Epoch 875: train=8.93758, val=8.64559, took 50.416 s\n",
      "  Validation Found 101615 of 108007, added 5417 (eff 94.08%) (0.271 FP/event)\n",
      "Result epoch:  875\n",
      "Average Eff:  0.0\n",
      "Average FP Rate:  0.0\n"
     ]
    },
    {
     "data": {
      "application/vnd.jupyter.widget-view+json": {
       "model_id": "",
       "version_major": 2,
       "version_minor": 0
      },
      "text/plain": [
       "HBox(children=(FloatProgress(value=0.0, description='Training', layout=Layout(flex='2'), max=1250.0, style=Pro…"
      ]
     },
     "metadata": {},
     "output_type": "display_data"
    },
    {
     "name": "stdout",
     "output_type": "stream",
     "text": [
      "Epoch 876: train=8.92816, val=8.64628, took 50.461 s\n",
      "  Validation Found 101646 of 108007, added 5519 (eff 94.11%) (0.276 FP/event)\n",
      "Result epoch:  876\n",
      "Average Eff:  0.0\n",
      "Average FP Rate:  0.0\n"
     ]
    },
    {
     "data": {
      "application/vnd.jupyter.widget-view+json": {
       "model_id": "",
       "version_major": 2,
       "version_minor": 0
      },
      "text/plain": [
       "HBox(children=(FloatProgress(value=0.0, description='Training', layout=Layout(flex='2'), max=1250.0, style=Pro…"
      ]
     },
     "metadata": {},
     "output_type": "display_data"
    },
    {
     "name": "stdout",
     "output_type": "stream",
     "text": [
      "Epoch 877: train=8.93226, val=8.6422, took 50.41 s\n",
      "  Validation Found 101646 of 108007, added 5515 (eff 94.11%) (0.276 FP/event)\n",
      "Result epoch:  877\n",
      "Average Eff:  0.0\n",
      "Average FP Rate:  0.0\n"
     ]
    },
    {
     "data": {
      "application/vnd.jupyter.widget-view+json": {
       "model_id": "",
       "version_major": 2,
       "version_minor": 0
      },
      "text/plain": [
       "HBox(children=(FloatProgress(value=0.0, description='Training', layout=Layout(flex='2'), max=1250.0, style=Pro…"
      ]
     },
     "metadata": {},
     "output_type": "display_data"
    },
    {
     "name": "stdout",
     "output_type": "stream",
     "text": [
      "Epoch 878: train=8.93238, val=8.64535, took 50.517 s\n",
      "  Validation Found 101637 of 108007, added 5462 (eff 94.10%) (0.273 FP/event)\n",
      "Result epoch:  878\n",
      "Average Eff:  0.0\n",
      "Average FP Rate:  0.0\n"
     ]
    },
    {
     "data": {
      "application/vnd.jupyter.widget-view+json": {
       "model_id": "",
       "version_major": 2,
       "version_minor": 0
      },
      "text/plain": [
       "HBox(children=(FloatProgress(value=0.0, description='Training', layout=Layout(flex='2'), max=1250.0, style=Pro…"
      ]
     },
     "metadata": {},
     "output_type": "display_data"
    },
    {
     "name": "stdout",
     "output_type": "stream",
     "text": [
      "Epoch 879: train=8.93706, val=8.64785, took 50.393 s\n",
      "  Validation Found 101629 of 108007, added 5461 (eff 94.09%) (0.273 FP/event)\n",
      "Result epoch:  879\n",
      "Average Eff:  0.0\n",
      "Average FP Rate:  0.0\n"
     ]
    },
    {
     "data": {
      "application/vnd.jupyter.widget-view+json": {
       "model_id": "",
       "version_major": 2,
       "version_minor": 0
      },
      "text/plain": [
       "HBox(children=(FloatProgress(value=0.0, description='Training', layout=Layout(flex='2'), max=1250.0, style=Pro…"
      ]
     },
     "metadata": {},
     "output_type": "display_data"
    },
    {
     "name": "stdout",
     "output_type": "stream",
     "text": [
      "Epoch 880: train=8.93292, val=8.64311, took 50.67 s\n",
      "  Validation Found 101565 of 108007, added 5309 (eff 94.04%) (0.265 FP/event)\n",
      "Result epoch:  880\n",
      "Average Eff:  0.0\n",
      "Average FP Rate:  0.0\n"
     ]
    },
    {
     "data": {
      "application/vnd.jupyter.widget-view+json": {
       "model_id": "",
       "version_major": 2,
       "version_minor": 0
      },
      "text/plain": [
       "HBox(children=(FloatProgress(value=0.0, description='Training', layout=Layout(flex='2'), max=1250.0, style=Pro…"
      ]
     },
     "metadata": {},
     "output_type": "display_data"
    },
    {
     "name": "stdout",
     "output_type": "stream",
     "text": [
      "Epoch 881: train=8.92985, val=8.6565, took 50.484 s\n",
      "  Validation Found 101655 of 108007, added 5503 (eff 94.12%) (0.275 FP/event)\n",
      "Result epoch:  881\n",
      "Average Eff:  0.0\n",
      "Average FP Rate:  0.0\n"
     ]
    },
    {
     "data": {
      "application/vnd.jupyter.widget-view+json": {
       "model_id": "",
       "version_major": 2,
       "version_minor": 0
      },
      "text/plain": [
       "HBox(children=(FloatProgress(value=0.0, description='Training', layout=Layout(flex='2'), max=1250.0, style=Pro…"
      ]
     },
     "metadata": {},
     "output_type": "display_data"
    },
    {
     "name": "stdout",
     "output_type": "stream",
     "text": [
      "Epoch 882: train=8.92868, val=8.64294, took 50.414 s\n",
      "  Validation Found 101602 of 108007, added 5411 (eff 94.07%) (0.271 FP/event)\n",
      "Result epoch:  882\n",
      "Average Eff:  0.0\n",
      "Average FP Rate:  0.0\n"
     ]
    },
    {
     "data": {
      "application/vnd.jupyter.widget-view+json": {
       "model_id": "",
       "version_major": 2,
       "version_minor": 0
      },
      "text/plain": [
       "HBox(children=(FloatProgress(value=0.0, description='Training', layout=Layout(flex='2'), max=1250.0, style=Pro…"
      ]
     },
     "metadata": {},
     "output_type": "display_data"
    },
    {
     "name": "stdout",
     "output_type": "stream",
     "text": [
      "Epoch 883: train=8.93049, val=8.65383, took 50.423 s\n",
      "  Validation Found 101580 of 108007, added 5387 (eff 94.05%) (0.269 FP/event)\n",
      "Result epoch:  883\n",
      "Average Eff:  0.0\n",
      "Average FP Rate:  0.0\n"
     ]
    },
    {
     "data": {
      "application/vnd.jupyter.widget-view+json": {
       "model_id": "",
       "version_major": 2,
       "version_minor": 0
      },
      "text/plain": [
       "HBox(children=(FloatProgress(value=0.0, description='Training', layout=Layout(flex='2'), max=1250.0, style=Pro…"
      ]
     },
     "metadata": {},
     "output_type": "display_data"
    },
    {
     "name": "stdout",
     "output_type": "stream",
     "text": [
      "Epoch 884: train=8.93876, val=8.64064, took 50.394 s\n",
      "  Validation Found 101620 of 108007, added 5435 (eff 94.09%) (0.272 FP/event)\n",
      "Result epoch:  884\n",
      "Average Eff:  0.0\n",
      "Average FP Rate:  0.0\n"
     ]
    },
    {
     "data": {
      "application/vnd.jupyter.widget-view+json": {
       "model_id": "",
       "version_major": 2,
       "version_minor": 0
      },
      "text/plain": [
       "HBox(children=(FloatProgress(value=0.0, description='Training', layout=Layout(flex='2'), max=1250.0, style=Pro…"
      ]
     },
     "metadata": {},
     "output_type": "display_data"
    },
    {
     "name": "stdout",
     "output_type": "stream",
     "text": [
      "Epoch 885: train=8.93532, val=8.64618, took 50.422 s\n",
      "  Validation Found 101604 of 108007, added 5417 (eff 94.07%) (0.271 FP/event)\n",
      "Result epoch:  885\n",
      "Average Eff:  0.0\n",
      "Average FP Rate:  0.0\n"
     ]
    },
    {
     "data": {
      "application/vnd.jupyter.widget-view+json": {
       "model_id": "",
       "version_major": 2,
       "version_minor": 0
      },
      "text/plain": [
       "HBox(children=(FloatProgress(value=0.0, description='Training', layout=Layout(flex='2'), max=1250.0, style=Pro…"
      ]
     },
     "metadata": {},
     "output_type": "display_data"
    },
    {
     "name": "stdout",
     "output_type": "stream",
     "text": [
      "Epoch 886: train=8.93479, val=8.64628, took 50.428 s\n",
      "  Validation Found 101696 of 108007, added 5587 (eff 94.16%) (0.279 FP/event)\n",
      "Result epoch:  886\n",
      "Average Eff:  0.0\n",
      "Average FP Rate:  0.0\n"
     ]
    },
    {
     "data": {
      "application/vnd.jupyter.widget-view+json": {
       "model_id": "",
       "version_major": 2,
       "version_minor": 0
      },
      "text/plain": [
       "HBox(children=(FloatProgress(value=0.0, description='Training', layout=Layout(flex='2'), max=1250.0, style=Pro…"
      ]
     },
     "metadata": {},
     "output_type": "display_data"
    },
    {
     "name": "stdout",
     "output_type": "stream",
     "text": [
      "Epoch 887: train=8.92738, val=8.66041, took 50.519 s\n",
      "  Validation Found 101615 of 108007, added 5416 (eff 94.08%) (0.271 FP/event)\n",
      "Result epoch:  887\n",
      "Average Eff:  0.0\n",
      "Average FP Rate:  0.0\n"
     ]
    },
    {
     "data": {
      "application/vnd.jupyter.widget-view+json": {
       "model_id": "",
       "version_major": 2,
       "version_minor": 0
      },
      "text/plain": [
       "HBox(children=(FloatProgress(value=0.0, description='Training', layout=Layout(flex='2'), max=1250.0, style=Pro…"
      ]
     },
     "metadata": {},
     "output_type": "display_data"
    },
    {
     "name": "stdout",
     "output_type": "stream",
     "text": [
      "Epoch 888: train=8.93172, val=8.63233, took 50.56 s\n",
      "  Validation Found 101667 of 108007, added 5530 (eff 94.13%) (0.276 FP/event)\n",
      "Result epoch:  888\n",
      "Average Eff:  0.0\n",
      "Average FP Rate:  0.0\n"
     ]
    },
    {
     "data": {
      "application/vnd.jupyter.widget-view+json": {
       "model_id": "",
       "version_major": 2,
       "version_minor": 0
      },
      "text/plain": [
       "HBox(children=(FloatProgress(value=0.0, description='Training', layout=Layout(flex='2'), max=1250.0, style=Pro…"
      ]
     },
     "metadata": {},
     "output_type": "display_data"
    },
    {
     "name": "stdout",
     "output_type": "stream",
     "text": [
      "Epoch 889: train=8.92738, val=8.65225, took 50.499 s\n",
      "  Validation Found 101628 of 108007, added 5473 (eff 94.09%) (0.274 FP/event)\n",
      "Result epoch:  889\n",
      "Average Eff:  0.0\n",
      "Average FP Rate:  0.0\n"
     ]
    },
    {
     "data": {
      "application/vnd.jupyter.widget-view+json": {
       "model_id": "",
       "version_major": 2,
       "version_minor": 0
      },
      "text/plain": [
       "HBox(children=(FloatProgress(value=0.0, description='Training', layout=Layout(flex='2'), max=1250.0, style=Pro…"
      ]
     },
     "metadata": {},
     "output_type": "display_data"
    },
    {
     "name": "stdout",
     "output_type": "stream",
     "text": [
      "Epoch 890: train=8.93212, val=8.64638, took 50.498 s\n",
      "  Validation Found 101656 of 108007, added 5549 (eff 94.12%) (0.277 FP/event)\n",
      "Result epoch:  890\n",
      "Average Eff:  0.0\n",
      "Average FP Rate:  0.0\n"
     ]
    },
    {
     "data": {
      "application/vnd.jupyter.widget-view+json": {
       "model_id": "",
       "version_major": 2,
       "version_minor": 0
      },
      "text/plain": [
       "HBox(children=(FloatProgress(value=0.0, description='Training', layout=Layout(flex='2'), max=1250.0, style=Pro…"
      ]
     },
     "metadata": {},
     "output_type": "display_data"
    },
    {
     "name": "stdout",
     "output_type": "stream",
     "text": [
      "Epoch 891: train=8.9326, val=8.65514, took 50.518 s\n",
      "  Validation Found 101543 of 108007, added 5302 (eff 94.02%) (0.265 FP/event)\n",
      "Result epoch:  891\n",
      "Average Eff:  0.0\n",
      "Average FP Rate:  0.0\n"
     ]
    },
    {
     "data": {
      "application/vnd.jupyter.widget-view+json": {
       "model_id": "",
       "version_major": 2,
       "version_minor": 0
      },
      "text/plain": [
       "HBox(children=(FloatProgress(value=0.0, description='Training', layout=Layout(flex='2'), max=1250.0, style=Pro…"
      ]
     },
     "metadata": {},
     "output_type": "display_data"
    },
    {
     "name": "stdout",
     "output_type": "stream",
     "text": [
      "Epoch 892: train=8.93173, val=8.65012, took 50.548 s\n",
      "  Validation Found 101571 of 108007, added 5364 (eff 94.04%) (0.268 FP/event)\n",
      "Result epoch:  892\n",
      "Average Eff:  0.0\n",
      "Average FP Rate:  0.0\n"
     ]
    },
    {
     "data": {
      "application/vnd.jupyter.widget-view+json": {
       "model_id": "",
       "version_major": 2,
       "version_minor": 0
      },
      "text/plain": [
       "HBox(children=(FloatProgress(value=0.0, description='Training', layout=Layout(flex='2'), max=1250.0, style=Pro…"
      ]
     },
     "metadata": {},
     "output_type": "display_data"
    },
    {
     "name": "stdout",
     "output_type": "stream",
     "text": [
      "Epoch 893: train=8.92827, val=8.64454, took 50.502 s\n",
      "  Validation Found 101576 of 108007, added 5387 (eff 94.05%) (0.269 FP/event)\n",
      "Result epoch:  893\n",
      "Average Eff:  0.0\n",
      "Average FP Rate:  0.0\n"
     ]
    },
    {
     "data": {
      "application/vnd.jupyter.widget-view+json": {
       "model_id": "",
       "version_major": 2,
       "version_minor": 0
      },
      "text/plain": [
       "HBox(children=(FloatProgress(value=0.0, description='Training', layout=Layout(flex='2'), max=1250.0, style=Pro…"
      ]
     },
     "metadata": {},
     "output_type": "display_data"
    },
    {
     "name": "stdout",
     "output_type": "stream",
     "text": [
      "Epoch 894: train=8.93361, val=8.65128, took 50.546 s\n",
      "  Validation Found 101573 of 108007, added 5362 (eff 94.04%) (0.268 FP/event)\n",
      "Result epoch:  894\n",
      "Average Eff:  0.0\n",
      "Average FP Rate:  0.0\n"
     ]
    },
    {
     "data": {
      "application/vnd.jupyter.widget-view+json": {
       "model_id": "",
       "version_major": 2,
       "version_minor": 0
      },
      "text/plain": [
       "HBox(children=(FloatProgress(value=0.0, description='Training', layout=Layout(flex='2'), max=1250.0, style=Pro…"
      ]
     },
     "metadata": {},
     "output_type": "display_data"
    },
    {
     "name": "stdout",
     "output_type": "stream",
     "text": [
      "Epoch 895: train=8.93198, val=8.64432, took 50.545 s\n",
      "  Validation Found 101539 of 108007, added 5302 (eff 94.01%) (0.265 FP/event)\n",
      "Result epoch:  895\n",
      "Average Eff:  0.0\n",
      "Average FP Rate:  0.0\n"
     ]
    },
    {
     "data": {
      "application/vnd.jupyter.widget-view+json": {
       "model_id": "",
       "version_major": 2,
       "version_minor": 0
      },
      "text/plain": [
       "HBox(children=(FloatProgress(value=0.0, description='Training', layout=Layout(flex='2'), max=1250.0, style=Pro…"
      ]
     },
     "metadata": {},
     "output_type": "display_data"
    },
    {
     "name": "stdout",
     "output_type": "stream",
     "text": [
      "Epoch 896: train=8.932, val=8.64388, took 50.544 s\n",
      "  Validation Found 101638 of 108007, added 5451 (eff 94.10%) (0.273 FP/event)\n",
      "Result epoch:  896\n",
      "Average Eff:  0.0\n",
      "Average FP Rate:  0.0\n"
     ]
    },
    {
     "data": {
      "application/vnd.jupyter.widget-view+json": {
       "model_id": "",
       "version_major": 2,
       "version_minor": 0
      },
      "text/plain": [
       "HBox(children=(FloatProgress(value=0.0, description='Training', layout=Layout(flex='2'), max=1250.0, style=Pro…"
      ]
     },
     "metadata": {},
     "output_type": "display_data"
    },
    {
     "name": "stdout",
     "output_type": "stream",
     "text": [
      "Epoch 897: train=8.93654, val=8.63803, took 50.498 s\n",
      "  Validation Found 101688 of 108007, added 5533 (eff 94.15%) (0.277 FP/event)\n",
      "Result epoch:  897\n",
      "Average Eff:  0.0\n",
      "Average FP Rate:  0.0\n"
     ]
    },
    {
     "data": {
      "application/vnd.jupyter.widget-view+json": {
       "model_id": "",
       "version_major": 2,
       "version_minor": 0
      },
      "text/plain": [
       "HBox(children=(FloatProgress(value=0.0, description='Training', layout=Layout(flex='2'), max=1250.0, style=Pro…"
      ]
     },
     "metadata": {},
     "output_type": "display_data"
    },
    {
     "name": "stdout",
     "output_type": "stream",
     "text": [
      "Epoch 898: train=8.92831, val=8.65095, took 50.5 s\n",
      "  Validation Found 101628 of 108007, added 5522 (eff 94.09%) (0.276 FP/event)\n",
      "Result epoch:  898\n",
      "Average Eff:  0.0\n",
      "Average FP Rate:  0.0\n"
     ]
    },
    {
     "data": {
      "application/vnd.jupyter.widget-view+json": {
       "model_id": "",
       "version_major": 2,
       "version_minor": 0
      },
      "text/plain": [
       "HBox(children=(FloatProgress(value=0.0, description='Training', layout=Layout(flex='2'), max=1250.0, style=Pro…"
      ]
     },
     "metadata": {},
     "output_type": "display_data"
    },
    {
     "name": "stdout",
     "output_type": "stream",
     "text": [
      "Epoch 899: train=8.93471, val=8.65117, took 50.497 s\n",
      "  Validation Found 101575 of 108007, added 5361 (eff 94.04%) (0.268 FP/event)\n",
      "Result epoch:  899\n",
      "Average Eff:  0.0\n",
      "Average FP Rate:  0.0\n"
     ]
    },
    {
     "data": {
      "application/vnd.jupyter.widget-view+json": {
       "model_id": "",
       "version_major": 2,
       "version_minor": 0
      },
      "text/plain": [
       "HBox(children=(FloatProgress(value=0.0, description='Training', layout=Layout(flex='2'), max=1250.0, style=Pro…"
      ]
     },
     "metadata": {},
     "output_type": "display_data"
    },
    {
     "name": "stdout",
     "output_type": "stream",
     "text": [
      "Epoch 900: train=8.93399, val=8.65051, took 50.993 s\n",
      "  Validation Found 101556 of 108007, added 5343 (eff 94.03%) (0.267 FP/event)\n",
      "Result epoch:  900\n",
      "Average Eff:  0.0\n",
      "Average FP Rate:  0.0\n"
     ]
    },
    {
     "data": {
      "application/vnd.jupyter.widget-view+json": {
       "model_id": "",
       "version_major": 2,
       "version_minor": 0
      },
      "text/plain": [
       "HBox(children=(FloatProgress(value=0.0, description='Training', layout=Layout(flex='2'), max=1250.0, style=Pro…"
      ]
     },
     "metadata": {},
     "output_type": "display_data"
    },
    {
     "name": "stdout",
     "output_type": "stream",
     "text": [
      "Epoch 901: train=8.93233, val=8.65342, took 51.857 s\n",
      "  Validation Found 101532 of 108007, added 5288 (eff 94.01%) (0.264 FP/event)\n",
      "Result epoch:  901\n",
      "Average Eff:  0.0\n",
      "Average FP Rate:  0.0\n"
     ]
    },
    {
     "data": {
      "application/vnd.jupyter.widget-view+json": {
       "model_id": "",
       "version_major": 2,
       "version_minor": 0
      },
      "text/plain": [
       "HBox(children=(FloatProgress(value=0.0, description='Training', layout=Layout(flex='2'), max=1250.0, style=Pro…"
      ]
     },
     "metadata": {},
     "output_type": "display_data"
    },
    {
     "name": "stdout",
     "output_type": "stream",
     "text": [
      "Epoch 902: train=8.92592, val=8.6392, took 51.957 s\n",
      "  Validation Found 101637 of 108007, added 5499 (eff 94.10%) (0.275 FP/event)\n",
      "Result epoch:  902\n",
      "Average Eff:  0.0\n",
      "Average FP Rate:  0.0\n"
     ]
    },
    {
     "data": {
      "application/vnd.jupyter.widget-view+json": {
       "model_id": "",
       "version_major": 2,
       "version_minor": 0
      },
      "text/plain": [
       "HBox(children=(FloatProgress(value=0.0, description='Training', layout=Layout(flex='2'), max=1250.0, style=Pro…"
      ]
     },
     "metadata": {},
     "output_type": "display_data"
    },
    {
     "name": "stdout",
     "output_type": "stream",
     "text": [
      "Epoch 903: train=8.9345, val=8.64818, took 51.838 s\n",
      "  Validation Found 101572 of 108007, added 5347 (eff 94.04%) (0.267 FP/event)\n",
      "Result epoch:  903\n",
      "Average Eff:  0.0\n",
      "Average FP Rate:  0.0\n"
     ]
    },
    {
     "data": {
      "application/vnd.jupyter.widget-view+json": {
       "model_id": "",
       "version_major": 2,
       "version_minor": 0
      },
      "text/plain": [
       "HBox(children=(FloatProgress(value=0.0, description='Training', layout=Layout(flex='2'), max=1250.0, style=Pro…"
      ]
     },
     "metadata": {},
     "output_type": "display_data"
    },
    {
     "name": "stdout",
     "output_type": "stream",
     "text": [
      "Epoch 904: train=8.93137, val=8.63956, took 50.67 s\n",
      "  Validation Found 101492 of 108007, added 5194 (eff 93.97%) (0.26 FP/event)\n",
      "Result epoch:  904\n",
      "Average Eff:  0.0\n",
      "Average FP Rate:  0.0\n"
     ]
    },
    {
     "data": {
      "application/vnd.jupyter.widget-view+json": {
       "model_id": "",
       "version_major": 2,
       "version_minor": 0
      },
      "text/plain": [
       "HBox(children=(FloatProgress(value=0.0, description='Training', layout=Layout(flex='2'), max=1250.0, style=Pro…"
      ]
     },
     "metadata": {},
     "output_type": "display_data"
    },
    {
     "name": "stdout",
     "output_type": "stream",
     "text": [
      "Epoch 905: train=8.92971, val=8.6434, took 50.427 s\n",
      "  Validation Found 101617 of 108007, added 5444 (eff 94.08%) (0.272 FP/event)\n",
      "Result epoch:  905\n",
      "Average Eff:  0.0\n",
      "Average FP Rate:  0.0\n"
     ]
    },
    {
     "data": {
      "application/vnd.jupyter.widget-view+json": {
       "model_id": "",
       "version_major": 2,
       "version_minor": 0
      },
      "text/plain": [
       "HBox(children=(FloatProgress(value=0.0, description='Training', layout=Layout(flex='2'), max=1250.0, style=Pro…"
      ]
     },
     "metadata": {},
     "output_type": "display_data"
    },
    {
     "name": "stdout",
     "output_type": "stream",
     "text": [
      "Epoch 906: train=8.93134, val=8.64587, took 50.396 s\n",
      "  Validation Found 101686 of 108007, added 5609 (eff 94.15%) (0.28 FP/event)\n",
      "Result epoch:  906\n",
      "Average Eff:  0.0\n",
      "Average FP Rate:  0.0\n"
     ]
    },
    {
     "data": {
      "application/vnd.jupyter.widget-view+json": {
       "model_id": "",
       "version_major": 2,
       "version_minor": 0
      },
      "text/plain": [
       "HBox(children=(FloatProgress(value=0.0, description='Training', layout=Layout(flex='2'), max=1250.0, style=Pro…"
      ]
     },
     "metadata": {},
     "output_type": "display_data"
    },
    {
     "name": "stdout",
     "output_type": "stream",
     "text": [
      "Epoch 907: train=8.93418, val=8.64621, took 50.451 s\n",
      "  Validation Found 101557 of 108007, added 5312 (eff 94.03%) (0.266 FP/event)\n",
      "Result epoch:  907\n",
      "Average Eff:  0.0\n",
      "Average FP Rate:  0.0\n"
     ]
    },
    {
     "data": {
      "application/vnd.jupyter.widget-view+json": {
       "model_id": "",
       "version_major": 2,
       "version_minor": 0
      },
      "text/plain": [
       "HBox(children=(FloatProgress(value=0.0, description='Training', layout=Layout(flex='2'), max=1250.0, style=Pro…"
      ]
     },
     "metadata": {},
     "output_type": "display_data"
    },
    {
     "name": "stdout",
     "output_type": "stream",
     "text": [
      "Epoch 908: train=8.93059, val=8.65855, took 50.45 s\n",
      "  Validation Found 101574 of 108007, added 5364 (eff 94.04%) (0.268 FP/event)\n",
      "Result epoch:  908\n",
      "Average Eff:  0.0\n",
      "Average FP Rate:  0.0\n"
     ]
    },
    {
     "data": {
      "application/vnd.jupyter.widget-view+json": {
       "model_id": "",
       "version_major": 2,
       "version_minor": 0
      },
      "text/plain": [
       "HBox(children=(FloatProgress(value=0.0, description='Training', layout=Layout(flex='2'), max=1250.0, style=Pro…"
      ]
     },
     "metadata": {},
     "output_type": "display_data"
    },
    {
     "name": "stdout",
     "output_type": "stream",
     "text": [
      "Epoch 909: train=8.92865, val=8.64264, took 50.439 s\n",
      "  Validation Found 101681 of 108007, added 5563 (eff 94.14%) (0.278 FP/event)\n",
      "Result epoch:  909\n",
      "Average Eff:  0.0\n",
      "Average FP Rate:  0.0\n"
     ]
    },
    {
     "data": {
      "application/vnd.jupyter.widget-view+json": {
       "model_id": "",
       "version_major": 2,
       "version_minor": 0
      },
      "text/plain": [
       "HBox(children=(FloatProgress(value=0.0, description='Training', layout=Layout(flex='2'), max=1250.0, style=Pro…"
      ]
     },
     "metadata": {},
     "output_type": "display_data"
    },
    {
     "name": "stdout",
     "output_type": "stream",
     "text": [
      "Epoch 910: train=8.92745, val=8.64489, took 50.39 s\n",
      "  Validation Found 101586 of 108007, added 5374 (eff 94.06%) (0.269 FP/event)\n",
      "Result epoch:  910\n",
      "Average Eff:  0.0\n",
      "Average FP Rate:  0.0\n"
     ]
    },
    {
     "data": {
      "application/vnd.jupyter.widget-view+json": {
       "model_id": "",
       "version_major": 2,
       "version_minor": 0
      },
      "text/plain": [
       "HBox(children=(FloatProgress(value=0.0, description='Training', layout=Layout(flex='2'), max=1250.0, style=Pro…"
      ]
     },
     "metadata": {},
     "output_type": "display_data"
    },
    {
     "name": "stdout",
     "output_type": "stream",
     "text": [
      "Epoch 911: train=8.9325, val=8.63995, took 50.692 s\n",
      "  Validation Found 101656 of 108007, added 5471 (eff 94.12%) (0.274 FP/event)\n",
      "Result epoch:  911\n",
      "Average Eff:  0.0\n",
      "Average FP Rate:  0.0\n"
     ]
    },
    {
     "data": {
      "application/vnd.jupyter.widget-view+json": {
       "model_id": "",
       "version_major": 2,
       "version_minor": 0
      },
      "text/plain": [
       "HBox(children=(FloatProgress(value=0.0, description='Training', layout=Layout(flex='2'), max=1250.0, style=Pro…"
      ]
     },
     "metadata": {},
     "output_type": "display_data"
    },
    {
     "name": "stdout",
     "output_type": "stream",
     "text": [
      "Epoch 912: train=8.92735, val=8.65415, took 50.512 s\n",
      "  Validation Found 101638 of 108007, added 5454 (eff 94.10%) (0.273 FP/event)\n",
      "Result epoch:  912\n",
      "Average Eff:  0.0\n",
      "Average FP Rate:  0.0\n"
     ]
    },
    {
     "data": {
      "application/vnd.jupyter.widget-view+json": {
       "model_id": "",
       "version_major": 2,
       "version_minor": 0
      },
      "text/plain": [
       "HBox(children=(FloatProgress(value=0.0, description='Training', layout=Layout(flex='2'), max=1250.0, style=Pro…"
      ]
     },
     "metadata": {},
     "output_type": "display_data"
    },
    {
     "name": "stdout",
     "output_type": "stream",
     "text": [
      "Epoch 913: train=8.93088, val=8.65113, took 50.501 s\n",
      "  Validation Found 101583 of 108007, added 5357 (eff 94.05%) (0.268 FP/event)\n",
      "Result epoch:  913\n",
      "Average Eff:  0.0\n",
      "Average FP Rate:  0.0\n"
     ]
    },
    {
     "data": {
      "application/vnd.jupyter.widget-view+json": {
       "model_id": "",
       "version_major": 2,
       "version_minor": 0
      },
      "text/plain": [
       "HBox(children=(FloatProgress(value=0.0, description='Training', layout=Layout(flex='2'), max=1250.0, style=Pro…"
      ]
     },
     "metadata": {},
     "output_type": "display_data"
    },
    {
     "name": "stdout",
     "output_type": "stream",
     "text": [
      "Epoch 914: train=8.93199, val=8.64453, took 50.537 s\n",
      "  Validation Found 101695 of 108007, added 5609 (eff 94.16%) (0.28 FP/event)\n",
      "Result epoch:  914\n",
      "Average Eff:  0.0\n",
      "Average FP Rate:  0.0\n"
     ]
    },
    {
     "data": {
      "application/vnd.jupyter.widget-view+json": {
       "model_id": "",
       "version_major": 2,
       "version_minor": 0
      },
      "text/plain": [
       "HBox(children=(FloatProgress(value=0.0, description='Training', layout=Layout(flex='2'), max=1250.0, style=Pro…"
      ]
     },
     "metadata": {},
     "output_type": "display_data"
    },
    {
     "name": "stdout",
     "output_type": "stream",
     "text": [
      "Epoch 915: train=8.92971, val=8.64211, took 50.859 s\n",
      "  Validation Found 101616 of 108007, added 5414 (eff 94.08%) (0.271 FP/event)\n",
      "Result epoch:  915\n",
      "Average Eff:  0.0\n",
      "Average FP Rate:  0.0\n"
     ]
    },
    {
     "data": {
      "application/vnd.jupyter.widget-view+json": {
       "model_id": "",
       "version_major": 2,
       "version_minor": 0
      },
      "text/plain": [
       "HBox(children=(FloatProgress(value=0.0, description='Training', layout=Layout(flex='2'), max=1250.0, style=Pro…"
      ]
     },
     "metadata": {},
     "output_type": "display_data"
    },
    {
     "name": "stdout",
     "output_type": "stream",
     "text": [
      "Epoch 916: train=8.92943, val=8.6425, took 50.885 s\n",
      "  Validation Found 101574 of 108007, added 5317 (eff 94.04%) (0.266 FP/event)\n",
      "Result epoch:  916\n",
      "Average Eff:  0.0\n",
      "Average FP Rate:  0.0\n"
     ]
    },
    {
     "data": {
      "application/vnd.jupyter.widget-view+json": {
       "model_id": "",
       "version_major": 2,
       "version_minor": 0
      },
      "text/plain": [
       "HBox(children=(FloatProgress(value=0.0, description='Training', layout=Layout(flex='2'), max=1250.0, style=Pro…"
      ]
     },
     "metadata": {},
     "output_type": "display_data"
    },
    {
     "name": "stdout",
     "output_type": "stream",
     "text": [
      "Epoch 917: train=8.9318, val=8.64874, took 50.89 s\n",
      "  Validation Found 101600 of 108007, added 5390 (eff 94.07%) (0.269 FP/event)\n",
      "Result epoch:  917\n",
      "Average Eff:  0.0\n",
      "Average FP Rate:  0.0\n"
     ]
    },
    {
     "data": {
      "application/vnd.jupyter.widget-view+json": {
       "model_id": "",
       "version_major": 2,
       "version_minor": 0
      },
      "text/plain": [
       "HBox(children=(FloatProgress(value=0.0, description='Training', layout=Layout(flex='2'), max=1250.0, style=Pro…"
      ]
     },
     "metadata": {},
     "output_type": "display_data"
    },
    {
     "name": "stdout",
     "output_type": "stream",
     "text": [
      "Epoch 918: train=8.93256, val=8.63835, took 50.904 s\n",
      "  Validation Found 101610 of 108007, added 5412 (eff 94.08%) (0.271 FP/event)\n",
      "Result epoch:  918\n",
      "Average Eff:  0.0\n",
      "Average FP Rate:  0.0\n"
     ]
    },
    {
     "data": {
      "application/vnd.jupyter.widget-view+json": {
       "model_id": "",
       "version_major": 2,
       "version_minor": 0
      },
      "text/plain": [
       "HBox(children=(FloatProgress(value=0.0, description='Training', layout=Layout(flex='2'), max=1250.0, style=Pro…"
      ]
     },
     "metadata": {},
     "output_type": "display_data"
    },
    {
     "name": "stdout",
     "output_type": "stream",
     "text": [
      "Epoch 919: train=8.93337, val=8.63956, took 50.638 s\n",
      "  Validation Found 101633 of 108007, added 5472 (eff 94.10%) (0.274 FP/event)\n",
      "Result epoch:  919\n",
      "Average Eff:  0.0\n",
      "Average FP Rate:  0.0\n"
     ]
    },
    {
     "data": {
      "application/vnd.jupyter.widget-view+json": {
       "model_id": "",
       "version_major": 2,
       "version_minor": 0
      },
      "text/plain": [
       "HBox(children=(FloatProgress(value=0.0, description='Training', layout=Layout(flex='2'), max=1250.0, style=Pro…"
      ]
     },
     "metadata": {},
     "output_type": "display_data"
    },
    {
     "name": "stdout",
     "output_type": "stream",
     "text": [
      "Epoch 920: train=8.93168, val=8.64578, took 50.556 s\n",
      "  Validation Found 101562 of 108007, added 5310 (eff 94.03%) (0.265 FP/event)\n",
      "Result epoch:  920\n",
      "Average Eff:  0.0\n",
      "Average FP Rate:  0.0\n"
     ]
    },
    {
     "data": {
      "application/vnd.jupyter.widget-view+json": {
       "model_id": "",
       "version_major": 2,
       "version_minor": 0
      },
      "text/plain": [
       "HBox(children=(FloatProgress(value=0.0, description='Training', layout=Layout(flex='2'), max=1250.0, style=Pro…"
      ]
     },
     "metadata": {},
     "output_type": "display_data"
    },
    {
     "name": "stdout",
     "output_type": "stream",
     "text": [
      "Epoch 921: train=8.93287, val=8.64357, took 50.472 s\n",
      "  Validation Found 101678 of 108007, added 5559 (eff 94.14%) (0.278 FP/event)\n",
      "Result epoch:  921\n",
      "Average Eff:  0.0\n",
      "Average FP Rate:  0.0\n"
     ]
    },
    {
     "data": {
      "application/vnd.jupyter.widget-view+json": {
       "model_id": "",
       "version_major": 2,
       "version_minor": 0
      },
      "text/plain": [
       "HBox(children=(FloatProgress(value=0.0, description='Training', layout=Layout(flex='2'), max=1250.0, style=Pro…"
      ]
     },
     "metadata": {},
     "output_type": "display_data"
    },
    {
     "name": "stdout",
     "output_type": "stream",
     "text": [
      "Epoch 922: train=8.93059, val=8.65034, took 51.385 s\n",
      "  Validation Found 101605 of 108007, added 5448 (eff 94.07%) (0.272 FP/event)\n",
      "Result epoch:  922\n",
      "Average Eff:  0.0\n",
      "Average FP Rate:  0.0\n"
     ]
    },
    {
     "data": {
      "application/vnd.jupyter.widget-view+json": {
       "model_id": "",
       "version_major": 2,
       "version_minor": 0
      },
      "text/plain": [
       "HBox(children=(FloatProgress(value=0.0, description='Training', layout=Layout(flex='2'), max=1250.0, style=Pro…"
      ]
     },
     "metadata": {},
     "output_type": "display_data"
    },
    {
     "name": "stdout",
     "output_type": "stream",
     "text": [
      "Epoch 923: train=8.93231, val=8.64254, took 51.891 s\n",
      "  Validation Found 101620 of 108007, added 5454 (eff 94.09%) (0.273 FP/event)\n",
      "Result epoch:  923\n",
      "Average Eff:  0.0\n",
      "Average FP Rate:  0.0\n"
     ]
    },
    {
     "data": {
      "application/vnd.jupyter.widget-view+json": {
       "model_id": "",
       "version_major": 2,
       "version_minor": 0
      },
      "text/plain": [
       "HBox(children=(FloatProgress(value=0.0, description='Training', layout=Layout(flex='2'), max=1250.0, style=Pro…"
      ]
     },
     "metadata": {},
     "output_type": "display_data"
    },
    {
     "name": "stdout",
     "output_type": "stream",
     "text": [
      "Epoch 924: train=8.93113, val=8.65137, took 51.899 s\n",
      "  Validation Found 101569 of 108007, added 5320 (eff 94.04%) (0.266 FP/event)\n",
      "Result epoch:  924\n",
      "Average Eff:  0.0\n",
      "Average FP Rate:  0.0\n"
     ]
    },
    {
     "data": {
      "application/vnd.jupyter.widget-view+json": {
       "model_id": "",
       "version_major": 2,
       "version_minor": 0
      },
      "text/plain": [
       "HBox(children=(FloatProgress(value=0.0, description='Training', layout=Layout(flex='2'), max=1250.0, style=Pro…"
      ]
     },
     "metadata": {},
     "output_type": "display_data"
    },
    {
     "name": "stdout",
     "output_type": "stream",
     "text": [
      "Epoch 925: train=8.93224, val=8.63932, took 50.801 s\n",
      "  Validation Found 101658 of 108007, added 5523 (eff 94.12%) (0.276 FP/event)\n",
      "Result epoch:  925\n",
      "Average Eff:  0.0\n",
      "Average FP Rate:  0.0\n"
     ]
    },
    {
     "data": {
      "application/vnd.jupyter.widget-view+json": {
       "model_id": "",
       "version_major": 2,
       "version_minor": 0
      },
      "text/plain": [
       "HBox(children=(FloatProgress(value=0.0, description='Training', layout=Layout(flex='2'), max=1250.0, style=Pro…"
      ]
     },
     "metadata": {},
     "output_type": "display_data"
    },
    {
     "name": "stdout",
     "output_type": "stream",
     "text": [
      "Epoch 926: train=8.9307, val=8.63974, took 50.613 s\n",
      "  Validation Found 101619 of 108007, added 5416 (eff 94.09%) (0.271 FP/event)\n",
      "Result epoch:  926\n",
      "Average Eff:  0.0\n",
      "Average FP Rate:  0.0\n"
     ]
    },
    {
     "data": {
      "application/vnd.jupyter.widget-view+json": {
       "model_id": "",
       "version_major": 2,
       "version_minor": 0
      },
      "text/plain": [
       "HBox(children=(FloatProgress(value=0.0, description='Training', layout=Layout(flex='2'), max=1250.0, style=Pro…"
      ]
     },
     "metadata": {},
     "output_type": "display_data"
    },
    {
     "name": "stdout",
     "output_type": "stream",
     "text": [
      "Epoch 927: train=8.93052, val=8.64142, took 50.556 s\n",
      "  Validation Found 101672 of 108007, added 5534 (eff 94.13%) (0.277 FP/event)\n",
      "Result epoch:  927\n",
      "Average Eff:  0.0\n",
      "Average FP Rate:  0.0\n"
     ]
    },
    {
     "data": {
      "application/vnd.jupyter.widget-view+json": {
       "model_id": "",
       "version_major": 2,
       "version_minor": 0
      },
      "text/plain": [
       "HBox(children=(FloatProgress(value=0.0, description='Training', layout=Layout(flex='2'), max=1250.0, style=Pro…"
      ]
     },
     "metadata": {},
     "output_type": "display_data"
    },
    {
     "name": "stdout",
     "output_type": "stream",
     "text": [
      "Epoch 928: train=8.9338, val=8.6411, took 50.537 s\n",
      "  Validation Found 101645 of 108007, added 5510 (eff 94.11%) (0.275 FP/event)\n",
      "Result epoch:  928\n",
      "Average Eff:  0.0\n",
      "Average FP Rate:  0.0\n"
     ]
    },
    {
     "data": {
      "application/vnd.jupyter.widget-view+json": {
       "model_id": "",
       "version_major": 2,
       "version_minor": 0
      },
      "text/plain": [
       "HBox(children=(FloatProgress(value=0.0, description='Training', layout=Layout(flex='2'), max=1250.0, style=Pro…"
      ]
     },
     "metadata": {},
     "output_type": "display_data"
    },
    {
     "name": "stdout",
     "output_type": "stream",
     "text": [
      "Epoch 929: train=8.92995, val=8.64561, took 50.812 s\n",
      "  Validation Found 101631 of 108007, added 5468 (eff 94.10%) (0.273 FP/event)\n",
      "Result epoch:  929\n",
      "Average Eff:  0.0\n",
      "Average FP Rate:  0.0\n"
     ]
    },
    {
     "data": {
      "application/vnd.jupyter.widget-view+json": {
       "model_id": "",
       "version_major": 2,
       "version_minor": 0
      },
      "text/plain": [
       "HBox(children=(FloatProgress(value=0.0, description='Training', layout=Layout(flex='2'), max=1250.0, style=Pro…"
      ]
     },
     "metadata": {},
     "output_type": "display_data"
    },
    {
     "name": "stdout",
     "output_type": "stream",
     "text": [
      "Epoch 930: train=8.93396, val=8.63615, took 50.495 s\n",
      "  Validation Found 101614 of 108007, added 5375 (eff 94.08%) (0.269 FP/event)\n",
      "Result epoch:  930\n",
      "Average Eff:  0.0\n",
      "Average FP Rate:  0.0\n"
     ]
    },
    {
     "data": {
      "application/vnd.jupyter.widget-view+json": {
       "model_id": "",
       "version_major": 2,
       "version_minor": 0
      },
      "text/plain": [
       "HBox(children=(FloatProgress(value=0.0, description='Training', layout=Layout(flex='2'), max=1250.0, style=Pro…"
      ]
     },
     "metadata": {},
     "output_type": "display_data"
    },
    {
     "name": "stdout",
     "output_type": "stream",
     "text": [
      "Epoch 931: train=8.92784, val=8.64566, took 50.642 s\n",
      "  Validation Found 101648 of 108007, added 5490 (eff 94.11%) (0.274 FP/event)\n",
      "Result epoch:  931\n",
      "Average Eff:  0.0\n",
      "Average FP Rate:  0.0\n"
     ]
    },
    {
     "data": {
      "application/vnd.jupyter.widget-view+json": {
       "model_id": "",
       "version_major": 2,
       "version_minor": 0
      },
      "text/plain": [
       "HBox(children=(FloatProgress(value=0.0, description='Training', layout=Layout(flex='2'), max=1250.0, style=Pro…"
      ]
     },
     "metadata": {},
     "output_type": "display_data"
    },
    {
     "name": "stdout",
     "output_type": "stream",
     "text": [
      "Epoch 932: train=8.92626, val=8.65305, took 50.819 s\n",
      "  Validation Found 101639 of 108007, added 5461 (eff 94.10%) (0.273 FP/event)\n",
      "Result epoch:  932\n",
      "Average Eff:  0.0\n",
      "Average FP Rate:  0.0\n"
     ]
    },
    {
     "data": {
      "application/vnd.jupyter.widget-view+json": {
       "model_id": "",
       "version_major": 2,
       "version_minor": 0
      },
      "text/plain": [
       "HBox(children=(FloatProgress(value=0.0, description='Training', layout=Layout(flex='2'), max=1250.0, style=Pro…"
      ]
     },
     "metadata": {},
     "output_type": "display_data"
    },
    {
     "name": "stdout",
     "output_type": "stream",
     "text": [
      "Epoch 933: train=8.9253, val=8.64413, took 50.831 s\n",
      "  Validation Found 101675 of 108007, added 5545 (eff 94.14%) (0.277 FP/event)\n",
      "Result epoch:  933\n",
      "Average Eff:  0.0\n",
      "Average FP Rate:  0.0\n"
     ]
    },
    {
     "data": {
      "application/vnd.jupyter.widget-view+json": {
       "model_id": "",
       "version_major": 2,
       "version_minor": 0
      },
      "text/plain": [
       "HBox(children=(FloatProgress(value=0.0, description='Training', layout=Layout(flex='2'), max=1250.0, style=Pro…"
      ]
     },
     "metadata": {},
     "output_type": "display_data"
    },
    {
     "name": "stdout",
     "output_type": "stream",
     "text": [
      "Epoch 934: train=8.92869, val=8.64585, took 50.53 s\n",
      "  Validation Found 101612 of 108007, added 5408 (eff 94.08%) (0.27 FP/event)\n",
      "Result epoch:  934\n",
      "Average Eff:  0.0\n",
      "Average FP Rate:  0.0\n"
     ]
    },
    {
     "data": {
      "application/vnd.jupyter.widget-view+json": {
       "model_id": "",
       "version_major": 2,
       "version_minor": 0
      },
      "text/plain": [
       "HBox(children=(FloatProgress(value=0.0, description='Training', layout=Layout(flex='2'), max=1250.0, style=Pro…"
      ]
     },
     "metadata": {},
     "output_type": "display_data"
    },
    {
     "name": "stdout",
     "output_type": "stream",
     "text": [
      "Epoch 935: train=8.93199, val=8.64341, took 50.461 s\n",
      "  Validation Found 101591 of 108007, added 5361 (eff 94.06%) (0.268 FP/event)\n",
      "Result epoch:  935\n",
      "Average Eff:  0.0\n",
      "Average FP Rate:  0.0\n"
     ]
    },
    {
     "data": {
      "application/vnd.jupyter.widget-view+json": {
       "model_id": "",
       "version_major": 2,
       "version_minor": 0
      },
      "text/plain": [
       "HBox(children=(FloatProgress(value=0.0, description='Training', layout=Layout(flex='2'), max=1250.0, style=Pro…"
      ]
     },
     "metadata": {},
     "output_type": "display_data"
    },
    {
     "name": "stdout",
     "output_type": "stream",
     "text": [
      "Epoch 936: train=8.92871, val=8.64564, took 50.497 s\n",
      "  Validation Found 101624 of 108007, added 5439 (eff 94.09%) (0.272 FP/event)\n",
      "Result epoch:  936\n",
      "Average Eff:  0.0\n",
      "Average FP Rate:  0.0\n"
     ]
    },
    {
     "data": {
      "application/vnd.jupyter.widget-view+json": {
       "model_id": "",
       "version_major": 2,
       "version_minor": 0
      },
      "text/plain": [
       "HBox(children=(FloatProgress(value=0.0, description='Training', layout=Layout(flex='2'), max=1250.0, style=Pro…"
      ]
     },
     "metadata": {},
     "output_type": "display_data"
    },
    {
     "name": "stdout",
     "output_type": "stream",
     "text": [
      "Epoch 937: train=8.92853, val=8.64352, took 50.542 s\n",
      "  Validation Found 101630 of 108007, added 5443 (eff 94.10%) (0.272 FP/event)\n",
      "Result epoch:  937\n",
      "Average Eff:  0.0\n",
      "Average FP Rate:  0.0\n"
     ]
    },
    {
     "data": {
      "application/vnd.jupyter.widget-view+json": {
       "model_id": "",
       "version_major": 2,
       "version_minor": 0
      },
      "text/plain": [
       "HBox(children=(FloatProgress(value=0.0, description='Training', layout=Layout(flex='2'), max=1250.0, style=Pro…"
      ]
     },
     "metadata": {},
     "output_type": "display_data"
    },
    {
     "name": "stdout",
     "output_type": "stream",
     "text": [
      "Epoch 938: train=8.93548, val=8.63989, took 50.548 s\n",
      "  Validation Found 101592 of 108007, added 5380 (eff 94.06%) (0.269 FP/event)\n",
      "Result epoch:  938\n",
      "Average Eff:  0.0\n",
      "Average FP Rate:  0.0\n"
     ]
    },
    {
     "data": {
      "application/vnd.jupyter.widget-view+json": {
       "model_id": "",
       "version_major": 2,
       "version_minor": 0
      },
      "text/plain": [
       "HBox(children=(FloatProgress(value=0.0, description='Training', layout=Layout(flex='2'), max=1250.0, style=Pro…"
      ]
     },
     "metadata": {},
     "output_type": "display_data"
    },
    {
     "name": "stdout",
     "output_type": "stream",
     "text": [
      "Epoch 939: train=8.92695, val=8.64813, took 50.528 s\n",
      "  Validation Found 101603 of 108007, added 5412 (eff 94.07%) (0.271 FP/event)\n",
      "Result epoch:  939\n",
      "Average Eff:  0.0\n",
      "Average FP Rate:  0.0\n"
     ]
    },
    {
     "data": {
      "application/vnd.jupyter.widget-view+json": {
       "model_id": "",
       "version_major": 2,
       "version_minor": 0
      },
      "text/plain": [
       "HBox(children=(FloatProgress(value=0.0, description='Training', layout=Layout(flex='2'), max=1250.0, style=Pro…"
      ]
     },
     "metadata": {},
     "output_type": "display_data"
    },
    {
     "name": "stdout",
     "output_type": "stream",
     "text": [
      "Epoch 940: train=8.93005, val=8.6478, took 50.609 s\n",
      "  Validation Found 101554 of 108007, added 5304 (eff 94.03%) (0.265 FP/event)\n",
      "Result epoch:  940\n",
      "Average Eff:  0.0\n",
      "Average FP Rate:  0.0\n"
     ]
    },
    {
     "data": {
      "application/vnd.jupyter.widget-view+json": {
       "model_id": "",
       "version_major": 2,
       "version_minor": 0
      },
      "text/plain": [
       "HBox(children=(FloatProgress(value=0.0, description='Training', layout=Layout(flex='2'), max=1250.0, style=Pro…"
      ]
     },
     "metadata": {},
     "output_type": "display_data"
    },
    {
     "name": "stdout",
     "output_type": "stream",
     "text": [
      "Epoch 941: train=8.93217, val=8.65519, took 50.554 s\n",
      "  Validation Found 101576 of 108007, added 5352 (eff 94.05%) (0.268 FP/event)\n",
      "Result epoch:  941\n",
      "Average Eff:  0.0\n",
      "Average FP Rate:  0.0\n"
     ]
    },
    {
     "data": {
      "application/vnd.jupyter.widget-view+json": {
       "model_id": "",
       "version_major": 2,
       "version_minor": 0
      },
      "text/plain": [
       "HBox(children=(FloatProgress(value=0.0, description='Training', layout=Layout(flex='2'), max=1250.0, style=Pro…"
      ]
     },
     "metadata": {},
     "output_type": "display_data"
    },
    {
     "name": "stdout",
     "output_type": "stream",
     "text": [
      "Epoch 942: train=8.93171, val=8.63739, took 50.735 s\n",
      "  Validation Found 101633 of 108007, added 5413 (eff 94.10%) (0.271 FP/event)\n",
      "Result epoch:  942\n",
      "Average Eff:  0.0\n",
      "Average FP Rate:  0.0\n"
     ]
    },
    {
     "data": {
      "application/vnd.jupyter.widget-view+json": {
       "model_id": "",
       "version_major": 2,
       "version_minor": 0
      },
      "text/plain": [
       "HBox(children=(FloatProgress(value=0.0, description='Training', layout=Layout(flex='2'), max=1250.0, style=Pro…"
      ]
     },
     "metadata": {},
     "output_type": "display_data"
    },
    {
     "name": "stdout",
     "output_type": "stream",
     "text": [
      "Epoch 943: train=8.93242, val=8.64298, took 50.779 s\n",
      "  Validation Found 101590 of 108007, added 5381 (eff 94.06%) (0.269 FP/event)\n",
      "Result epoch:  943\n",
      "Average Eff:  0.0\n",
      "Average FP Rate:  0.0\n"
     ]
    },
    {
     "data": {
      "application/vnd.jupyter.widget-view+json": {
       "model_id": "",
       "version_major": 2,
       "version_minor": 0
      },
      "text/plain": [
       "HBox(children=(FloatProgress(value=0.0, description='Training', layout=Layout(flex='2'), max=1250.0, style=Pro…"
      ]
     },
     "metadata": {},
     "output_type": "display_data"
    },
    {
     "name": "stdout",
     "output_type": "stream",
     "text": [
      "Epoch 944: train=8.92967, val=8.63799, took 50.433 s\n",
      "  Validation Found 101623 of 108007, added 5463 (eff 94.09%) (0.273 FP/event)\n",
      "Result epoch:  944\n",
      "Average Eff:  0.0\n",
      "Average FP Rate:  0.0\n"
     ]
    },
    {
     "data": {
      "application/vnd.jupyter.widget-view+json": {
       "model_id": "",
       "version_major": 2,
       "version_minor": 0
      },
      "text/plain": [
       "HBox(children=(FloatProgress(value=0.0, description='Training', layout=Layout(flex='2'), max=1250.0, style=Pro…"
      ]
     },
     "metadata": {},
     "output_type": "display_data"
    },
    {
     "name": "stdout",
     "output_type": "stream",
     "text": [
      "Epoch 945: train=8.92932, val=8.64645, took 50.464 s\n",
      "  Validation Found 101674 of 108007, added 5562 (eff 94.14%) (0.278 FP/event)\n",
      "Result epoch:  945\n",
      "Average Eff:  0.0\n",
      "Average FP Rate:  0.0\n"
     ]
    },
    {
     "data": {
      "application/vnd.jupyter.widget-view+json": {
       "model_id": "",
       "version_major": 2,
       "version_minor": 0
      },
      "text/plain": [
       "HBox(children=(FloatProgress(value=0.0, description='Training', layout=Layout(flex='2'), max=1250.0, style=Pro…"
      ]
     },
     "metadata": {},
     "output_type": "display_data"
    },
    {
     "name": "stdout",
     "output_type": "stream",
     "text": [
      "Epoch 946: train=8.93142, val=8.64202, took 50.442 s\n",
      "  Validation Found 101668 of 108007, added 5546 (eff 94.13%) (0.277 FP/event)\n",
      "Result epoch:  946\n",
      "Average Eff:  0.0\n",
      "Average FP Rate:  0.0\n"
     ]
    },
    {
     "data": {
      "application/vnd.jupyter.widget-view+json": {
       "model_id": "",
       "version_major": 2,
       "version_minor": 0
      },
      "text/plain": [
       "HBox(children=(FloatProgress(value=0.0, description='Training', layout=Layout(flex='2'), max=1250.0, style=Pro…"
      ]
     },
     "metadata": {},
     "output_type": "display_data"
    },
    {
     "name": "stdout",
     "output_type": "stream",
     "text": [
      "Epoch 947: train=8.93473, val=8.63671, took 50.426 s\n",
      "  Validation Found 101668 of 108007, added 5514 (eff 94.13%) (0.276 FP/event)\n",
      "Result epoch:  947\n",
      "Average Eff:  0.0\n",
      "Average FP Rate:  0.0\n"
     ]
    },
    {
     "data": {
      "application/vnd.jupyter.widget-view+json": {
       "model_id": "",
       "version_major": 2,
       "version_minor": 0
      },
      "text/plain": [
       "HBox(children=(FloatProgress(value=0.0, description='Training', layout=Layout(flex='2'), max=1250.0, style=Pro…"
      ]
     },
     "metadata": {},
     "output_type": "display_data"
    },
    {
     "name": "stdout",
     "output_type": "stream",
     "text": [
      "Epoch 948: train=8.92898, val=8.64232, took 50.467 s\n",
      "  Validation Found 101646 of 108007, added 5460 (eff 94.11%) (0.273 FP/event)\n",
      "Result epoch:  948\n",
      "Average Eff:  0.0\n",
      "Average FP Rate:  0.0\n"
     ]
    },
    {
     "data": {
      "application/vnd.jupyter.widget-view+json": {
       "model_id": "",
       "version_major": 2,
       "version_minor": 0
      },
      "text/plain": [
       "HBox(children=(FloatProgress(value=0.0, description='Training', layout=Layout(flex='2'), max=1250.0, style=Pro…"
      ]
     },
     "metadata": {},
     "output_type": "display_data"
    },
    {
     "name": "stdout",
     "output_type": "stream",
     "text": [
      "Epoch 949: train=8.92585, val=8.65293, took 50.465 s\n",
      "  Validation Found 101611 of 108007, added 5426 (eff 94.08%) (0.271 FP/event)\n",
      "Result epoch:  949\n",
      "Average Eff:  0.0\n",
      "Average FP Rate:  0.0\n"
     ]
    },
    {
     "data": {
      "application/vnd.jupyter.widget-view+json": {
       "model_id": "",
       "version_major": 2,
       "version_minor": 0
      },
      "text/plain": [
       "HBox(children=(FloatProgress(value=0.0, description='Training', layout=Layout(flex='2'), max=1250.0, style=Pro…"
      ]
     },
     "metadata": {},
     "output_type": "display_data"
    },
    {
     "name": "stdout",
     "output_type": "stream",
     "text": [
      "Epoch 950: train=8.92994, val=8.6516, took 50.44 s\n",
      "  Validation Found 101591 of 108007, added 5388 (eff 94.06%) (0.269 FP/event)\n",
      "Result epoch:  950\n",
      "Average Eff:  0.0\n",
      "Average FP Rate:  0.0\n"
     ]
    },
    {
     "data": {
      "application/vnd.jupyter.widget-view+json": {
       "model_id": "",
       "version_major": 2,
       "version_minor": 0
      },
      "text/plain": [
       "HBox(children=(FloatProgress(value=0.0, description='Training', layout=Layout(flex='2'), max=1250.0, style=Pro…"
      ]
     },
     "metadata": {},
     "output_type": "display_data"
    },
    {
     "name": "stdout",
     "output_type": "stream",
     "text": [
      "Epoch 951: train=8.93078, val=8.64945, took 50.427 s\n",
      "  Validation Found 101570 of 108007, added 5339 (eff 94.04%) (0.267 FP/event)\n",
      "Result epoch:  951\n",
      "Average Eff:  0.0\n",
      "Average FP Rate:  0.0\n"
     ]
    },
    {
     "data": {
      "application/vnd.jupyter.widget-view+json": {
       "model_id": "",
       "version_major": 2,
       "version_minor": 0
      },
      "text/plain": [
       "HBox(children=(FloatProgress(value=0.0, description='Training', layout=Layout(flex='2'), max=1250.0, style=Pro…"
      ]
     },
     "metadata": {},
     "output_type": "display_data"
    },
    {
     "name": "stdout",
     "output_type": "stream",
     "text": [
      "Epoch 952: train=8.93169, val=8.64969, took 50.47 s\n",
      "  Validation Found 101674 of 108007, added 5556 (eff 94.14%) (0.278 FP/event)\n",
      "Result epoch:  952\n",
      "Average Eff:  0.0\n",
      "Average FP Rate:  0.0\n"
     ]
    },
    {
     "data": {
      "application/vnd.jupyter.widget-view+json": {
       "model_id": "",
       "version_major": 2,
       "version_minor": 0
      },
      "text/plain": [
       "HBox(children=(FloatProgress(value=0.0, description='Training', layout=Layout(flex='2'), max=1250.0, style=Pro…"
      ]
     },
     "metadata": {},
     "output_type": "display_data"
    },
    {
     "name": "stdout",
     "output_type": "stream",
     "text": [
      "Epoch 953: train=8.92584, val=8.63101, took 50.413 s\n",
      "  Validation Found 101682 of 108007, added 5500 (eff 94.14%) (0.275 FP/event)\n",
      "Result epoch:  953\n",
      "Average Eff:  0.0\n",
      "Average FP Rate:  0.0\n"
     ]
    },
    {
     "data": {
      "application/vnd.jupyter.widget-view+json": {
       "model_id": "",
       "version_major": 2,
       "version_minor": 0
      },
      "text/plain": [
       "HBox(children=(FloatProgress(value=0.0, description='Training', layout=Layout(flex='2'), max=1250.0, style=Pro…"
      ]
     },
     "metadata": {},
     "output_type": "display_data"
    },
    {
     "name": "stdout",
     "output_type": "stream",
     "text": [
      "Epoch 954: train=8.9257, val=8.63159, took 50.387 s\n",
      "  Validation Found 101670 of 108007, added 5490 (eff 94.13%) (0.274 FP/event)\n",
      "Result epoch:  954\n",
      "Average Eff:  0.0\n",
      "Average FP Rate:  0.0\n"
     ]
    },
    {
     "data": {
      "application/vnd.jupyter.widget-view+json": {
       "model_id": "",
       "version_major": 2,
       "version_minor": 0
      },
      "text/plain": [
       "HBox(children=(FloatProgress(value=0.0, description='Training', layout=Layout(flex='2'), max=1250.0, style=Pro…"
      ]
     },
     "metadata": {},
     "output_type": "display_data"
    },
    {
     "name": "stdout",
     "output_type": "stream",
     "text": [
      "Epoch 955: train=8.92723, val=8.64417, took 50.405 s\n",
      "  Validation Found 101702 of 108007, added 5596 (eff 94.16%) (0.28 FP/event)\n",
      "Result epoch:  955\n",
      "Average Eff:  0.0\n",
      "Average FP Rate:  0.0\n"
     ]
    },
    {
     "data": {
      "application/vnd.jupyter.widget-view+json": {
       "model_id": "",
       "version_major": 2,
       "version_minor": 0
      },
      "text/plain": [
       "HBox(children=(FloatProgress(value=0.0, description='Training', layout=Layout(flex='2'), max=1250.0, style=Pro…"
      ]
     },
     "metadata": {},
     "output_type": "display_data"
    },
    {
     "name": "stdout",
     "output_type": "stream",
     "text": [
      "Epoch 956: train=8.93188, val=8.64486, took 50.4 s\n",
      "  Validation Found 101613 of 108007, added 5421 (eff 94.08%) (0.271 FP/event)\n",
      "Result epoch:  956\n",
      "Average Eff:  0.0\n",
      "Average FP Rate:  0.0\n"
     ]
    },
    {
     "data": {
      "application/vnd.jupyter.widget-view+json": {
       "model_id": "",
       "version_major": 2,
       "version_minor": 0
      },
      "text/plain": [
       "HBox(children=(FloatProgress(value=0.0, description='Training', layout=Layout(flex='2'), max=1250.0, style=Pro…"
      ]
     },
     "metadata": {},
     "output_type": "display_data"
    },
    {
     "name": "stdout",
     "output_type": "stream",
     "text": [
      "Epoch 957: train=8.92767, val=8.65395, took 50.423 s\n",
      "  Validation Found 101590 of 108007, added 5392 (eff 94.06%) (0.27 FP/event)\n",
      "Result epoch:  957\n",
      "Average Eff:  0.0\n",
      "Average FP Rate:  0.0\n"
     ]
    },
    {
     "data": {
      "application/vnd.jupyter.widget-view+json": {
       "model_id": "",
       "version_major": 2,
       "version_minor": 0
      },
      "text/plain": [
       "HBox(children=(FloatProgress(value=0.0, description='Training', layout=Layout(flex='2'), max=1250.0, style=Pro…"
      ]
     },
     "metadata": {},
     "output_type": "display_data"
    },
    {
     "name": "stdout",
     "output_type": "stream",
     "text": [
      "Epoch 958: train=8.92376, val=8.63892, took 50.423 s\n",
      "  Validation Found 101681 of 108007, added 5529 (eff 94.14%) (0.276 FP/event)\n",
      "Result epoch:  958\n",
      "Average Eff:  0.0\n",
      "Average FP Rate:  0.0\n"
     ]
    },
    {
     "data": {
      "application/vnd.jupyter.widget-view+json": {
       "model_id": "",
       "version_major": 2,
       "version_minor": 0
      },
      "text/plain": [
       "HBox(children=(FloatProgress(value=0.0, description='Training', layout=Layout(flex='2'), max=1250.0, style=Pro…"
      ]
     },
     "metadata": {},
     "output_type": "display_data"
    },
    {
     "name": "stdout",
     "output_type": "stream",
     "text": [
      "Epoch 959: train=8.9227, val=8.6461, took 50.396 s\n",
      "  Validation Found 101571 of 108007, added 5321 (eff 94.04%) (0.266 FP/event)\n",
      "Result epoch:  959\n",
      "Average Eff:  0.0\n",
      "Average FP Rate:  0.0\n"
     ]
    },
    {
     "data": {
      "application/vnd.jupyter.widget-view+json": {
       "model_id": "",
       "version_major": 2,
       "version_minor": 0
      },
      "text/plain": [
       "HBox(children=(FloatProgress(value=0.0, description='Training', layout=Layout(flex='2'), max=1250.0, style=Pro…"
      ]
     },
     "metadata": {},
     "output_type": "display_data"
    },
    {
     "name": "stdout",
     "output_type": "stream",
     "text": [
      "Epoch 960: train=8.92581, val=8.64773, took 50.494 s\n",
      "  Validation Found 101589 of 108007, added 5379 (eff 94.06%) (0.269 FP/event)\n",
      "Result epoch:  960\n",
      "Average Eff:  0.0\n",
      "Average FP Rate:  0.0\n"
     ]
    },
    {
     "data": {
      "application/vnd.jupyter.widget-view+json": {
       "model_id": "",
       "version_major": 2,
       "version_minor": 0
      },
      "text/plain": [
       "HBox(children=(FloatProgress(value=0.0, description='Training', layout=Layout(flex='2'), max=1250.0, style=Pro…"
      ]
     },
     "metadata": {},
     "output_type": "display_data"
    },
    {
     "name": "stdout",
     "output_type": "stream",
     "text": [
      "Epoch 961: train=8.92887, val=8.64321, took 50.474 s\n",
      "  Validation Found 101646 of 108007, added 5510 (eff 94.11%) (0.275 FP/event)\n",
      "Result epoch:  961\n",
      "Average Eff:  0.0\n",
      "Average FP Rate:  0.0\n"
     ]
    },
    {
     "data": {
      "application/vnd.jupyter.widget-view+json": {
       "model_id": "",
       "version_major": 2,
       "version_minor": 0
      },
      "text/plain": [
       "HBox(children=(FloatProgress(value=0.0, description='Training', layout=Layout(flex='2'), max=1250.0, style=Pro…"
      ]
     },
     "metadata": {},
     "output_type": "display_data"
    },
    {
     "name": "stdout",
     "output_type": "stream",
     "text": [
      "Epoch 962: train=8.92829, val=8.62716, took 50.408 s\n",
      "  Validation Found 101663 of 108007, added 5468 (eff 94.13%) (0.273 FP/event)\n",
      "Result epoch:  962\n",
      "Average Eff:  0.0\n",
      "Average FP Rate:  0.0\n"
     ]
    },
    {
     "data": {
      "application/vnd.jupyter.widget-view+json": {
       "model_id": "",
       "version_major": 2,
       "version_minor": 0
      },
      "text/plain": [
       "HBox(children=(FloatProgress(value=0.0, description='Training', layout=Layout(flex='2'), max=1250.0, style=Pro…"
      ]
     },
     "metadata": {},
     "output_type": "display_data"
    },
    {
     "name": "stdout",
     "output_type": "stream",
     "text": [
      "Epoch 963: train=8.927, val=8.64315, took 50.405 s\n",
      "  Validation Found 101586 of 108007, added 5350 (eff 94.06%) (0.267 FP/event)\n",
      "Result epoch:  963\n",
      "Average Eff:  0.0\n",
      "Average FP Rate:  0.0\n"
     ]
    },
    {
     "data": {
      "application/vnd.jupyter.widget-view+json": {
       "model_id": "",
       "version_major": 2,
       "version_minor": 0
      },
      "text/plain": [
       "HBox(children=(FloatProgress(value=0.0, description='Training', layout=Layout(flex='2'), max=1250.0, style=Pro…"
      ]
     },
     "metadata": {},
     "output_type": "display_data"
    },
    {
     "name": "stdout",
     "output_type": "stream",
     "text": [
      "Epoch 964: train=8.92459, val=8.64716, took 50.512 s\n",
      "  Validation Found 101643 of 108007, added 5499 (eff 94.11%) (0.275 FP/event)\n",
      "Result epoch:  964\n",
      "Average Eff:  0.0\n",
      "Average FP Rate:  0.0\n"
     ]
    },
    {
     "data": {
      "application/vnd.jupyter.widget-view+json": {
       "model_id": "",
       "version_major": 2,
       "version_minor": 0
      },
      "text/plain": [
       "HBox(children=(FloatProgress(value=0.0, description='Training', layout=Layout(flex='2'), max=1250.0, style=Pro…"
      ]
     },
     "metadata": {},
     "output_type": "display_data"
    },
    {
     "name": "stdout",
     "output_type": "stream",
     "text": [
      "Epoch 965: train=8.9217, val=8.634, took 50.462 s\n",
      "  Validation Found 101691 of 108007, added 5547 (eff 94.15%) (0.277 FP/event)\n",
      "Result epoch:  965\n",
      "Average Eff:  0.0\n",
      "Average FP Rate:  0.0\n"
     ]
    },
    {
     "data": {
      "application/vnd.jupyter.widget-view+json": {
       "model_id": "",
       "version_major": 2,
       "version_minor": 0
      },
      "text/plain": [
       "HBox(children=(FloatProgress(value=0.0, description='Training', layout=Layout(flex='2'), max=1250.0, style=Pro…"
      ]
     },
     "metadata": {},
     "output_type": "display_data"
    },
    {
     "name": "stdout",
     "output_type": "stream",
     "text": [
      "Epoch 966: train=8.93018, val=8.6433, took 50.441 s\n",
      "  Validation Found 101696 of 108007, added 5576 (eff 94.16%) (0.279 FP/event)\n",
      "Result epoch:  966\n",
      "Average Eff:  0.0\n",
      "Average FP Rate:  0.0\n"
     ]
    },
    {
     "data": {
      "application/vnd.jupyter.widget-view+json": {
       "model_id": "",
       "version_major": 2,
       "version_minor": 0
      },
      "text/plain": [
       "HBox(children=(FloatProgress(value=0.0, description='Training', layout=Layout(flex='2'), max=1250.0, style=Pro…"
      ]
     },
     "metadata": {},
     "output_type": "display_data"
    },
    {
     "name": "stdout",
     "output_type": "stream",
     "text": [
      "Epoch 967: train=8.9241, val=8.64439, took 50.514 s\n",
      "  Validation Found 101654 of 108007, added 5497 (eff 94.12%) (0.275 FP/event)\n",
      "Result epoch:  967\n",
      "Average Eff:  0.0\n",
      "Average FP Rate:  0.0\n"
     ]
    },
    {
     "data": {
      "application/vnd.jupyter.widget-view+json": {
       "model_id": "",
       "version_major": 2,
       "version_minor": 0
      },
      "text/plain": [
       "HBox(children=(FloatProgress(value=0.0, description='Training', layout=Layout(flex='2'), max=1250.0, style=Pro…"
      ]
     },
     "metadata": {},
     "output_type": "display_data"
    },
    {
     "name": "stdout",
     "output_type": "stream",
     "text": [
      "Epoch 968: train=8.92744, val=8.64481, took 50.422 s\n",
      "  Validation Found 101645 of 108007, added 5491 (eff 94.11%) (0.275 FP/event)\n",
      "Result epoch:  968\n",
      "Average Eff:  0.0\n",
      "Average FP Rate:  0.0\n"
     ]
    },
    {
     "data": {
      "application/vnd.jupyter.widget-view+json": {
       "model_id": "",
       "version_major": 2,
       "version_minor": 0
      },
      "text/plain": [
       "HBox(children=(FloatProgress(value=0.0, description='Training', layout=Layout(flex='2'), max=1250.0, style=Pro…"
      ]
     },
     "metadata": {},
     "output_type": "display_data"
    },
    {
     "name": "stdout",
     "output_type": "stream",
     "text": [
      "Epoch 969: train=8.93079, val=8.63749, took 50.442 s\n",
      "  Validation Found 101665 of 108007, added 5493 (eff 94.13%) (0.275 FP/event)\n",
      "Result epoch:  969\n",
      "Average Eff:  0.0\n",
      "Average FP Rate:  0.0\n"
     ]
    },
    {
     "data": {
      "application/vnd.jupyter.widget-view+json": {
       "model_id": "",
       "version_major": 2,
       "version_minor": 0
      },
      "text/plain": [
       "HBox(children=(FloatProgress(value=0.0, description='Training', layout=Layout(flex='2'), max=1250.0, style=Pro…"
      ]
     },
     "metadata": {},
     "output_type": "display_data"
    },
    {
     "name": "stdout",
     "output_type": "stream",
     "text": [
      "Epoch 970: train=8.92654, val=8.64405, took 50.424 s\n",
      "  Validation Found 101584 of 108007, added 5355 (eff 94.05%) (0.268 FP/event)\n",
      "Result epoch:  970\n",
      "Average Eff:  0.0\n",
      "Average FP Rate:  0.0\n"
     ]
    },
    {
     "data": {
      "application/vnd.jupyter.widget-view+json": {
       "model_id": "",
       "version_major": 2,
       "version_minor": 0
      },
      "text/plain": [
       "HBox(children=(FloatProgress(value=0.0, description='Training', layout=Layout(flex='2'), max=1250.0, style=Pro…"
      ]
     },
     "metadata": {},
     "output_type": "display_data"
    },
    {
     "name": "stdout",
     "output_type": "stream",
     "text": [
      "Epoch 971: train=8.92661, val=8.64356, took 50.487 s\n",
      "  Validation Found 101624 of 108007, added 5414 (eff 94.09%) (0.271 FP/event)\n",
      "Result epoch:  971\n",
      "Average Eff:  0.0\n",
      "Average FP Rate:  0.0\n"
     ]
    },
    {
     "data": {
      "application/vnd.jupyter.widget-view+json": {
       "model_id": "",
       "version_major": 2,
       "version_minor": 0
      },
      "text/plain": [
       "HBox(children=(FloatProgress(value=0.0, description='Training', layout=Layout(flex='2'), max=1250.0, style=Pro…"
      ]
     },
     "metadata": {},
     "output_type": "display_data"
    },
    {
     "name": "stdout",
     "output_type": "stream",
     "text": [
      "Epoch 972: train=8.92966, val=8.63981, took 50.399 s\n",
      "  Validation Found 101627 of 108007, added 5424 (eff 94.09%) (0.271 FP/event)\n",
      "Result epoch:  972\n",
      "Average Eff:  0.0\n",
      "Average FP Rate:  0.0\n"
     ]
    },
    {
     "data": {
      "application/vnd.jupyter.widget-view+json": {
       "model_id": "",
       "version_major": 2,
       "version_minor": 0
      },
      "text/plain": [
       "HBox(children=(FloatProgress(value=0.0, description='Training', layout=Layout(flex='2'), max=1250.0, style=Pro…"
      ]
     },
     "metadata": {},
     "output_type": "display_data"
    },
    {
     "name": "stdout",
     "output_type": "stream",
     "text": [
      "Epoch 973: train=8.92344, val=8.6454, took 50.414 s\n",
      "  Validation Found 101682 of 108007, added 5545 (eff 94.14%) (0.277 FP/event)\n",
      "Result epoch:  973\n",
      "Average Eff:  0.0\n",
      "Average FP Rate:  0.0\n"
     ]
    },
    {
     "data": {
      "application/vnd.jupyter.widget-view+json": {
       "model_id": "",
       "version_major": 2,
       "version_minor": 0
      },
      "text/plain": [
       "HBox(children=(FloatProgress(value=0.0, description='Training', layout=Layout(flex='2'), max=1250.0, style=Pro…"
      ]
     },
     "metadata": {},
     "output_type": "display_data"
    },
    {
     "name": "stdout",
     "output_type": "stream",
     "text": [
      "Epoch 974: train=8.92628, val=8.63673, took 50.467 s\n",
      "  Validation Found 101702 of 108007, added 5565 (eff 94.16%) (0.278 FP/event)\n",
      "Result epoch:  974\n",
      "Average Eff:  0.0\n",
      "Average FP Rate:  0.0\n"
     ]
    },
    {
     "data": {
      "application/vnd.jupyter.widget-view+json": {
       "model_id": "",
       "version_major": 2,
       "version_minor": 0
      },
      "text/plain": [
       "HBox(children=(FloatProgress(value=0.0, description='Training', layout=Layout(flex='2'), max=1250.0, style=Pro…"
      ]
     },
     "metadata": {},
     "output_type": "display_data"
    },
    {
     "name": "stdout",
     "output_type": "stream",
     "text": [
      "Epoch 975: train=8.93051, val=8.63328, took 50.439 s\n",
      "  Validation Found 101607 of 108007, added 5396 (eff 94.07%) (0.27 FP/event)\n",
      "Result epoch:  975\n",
      "Average Eff:  0.0\n",
      "Average FP Rate:  0.0\n"
     ]
    },
    {
     "data": {
      "application/vnd.jupyter.widget-view+json": {
       "model_id": "",
       "version_major": 2,
       "version_minor": 0
      },
      "text/plain": [
       "HBox(children=(FloatProgress(value=0.0, description='Training', layout=Layout(flex='2'), max=1250.0, style=Pro…"
      ]
     },
     "metadata": {},
     "output_type": "display_data"
    },
    {
     "name": "stdout",
     "output_type": "stream",
     "text": [
      "Epoch 976: train=8.92745, val=8.6412, took 50.408 s\n",
      "  Validation Found 101702 of 108007, added 5589 (eff 94.16%) (0.279 FP/event)\n",
      "Result epoch:  976\n",
      "Average Eff:  0.0\n",
      "Average FP Rate:  0.0\n"
     ]
    },
    {
     "data": {
      "application/vnd.jupyter.widget-view+json": {
       "model_id": "",
       "version_major": 2,
       "version_minor": 0
      },
      "text/plain": [
       "HBox(children=(FloatProgress(value=0.0, description='Training', layout=Layout(flex='2'), max=1250.0, style=Pro…"
      ]
     },
     "metadata": {},
     "output_type": "display_data"
    },
    {
     "name": "stdout",
     "output_type": "stream",
     "text": [
      "Epoch 977: train=8.9294, val=8.64045, took 50.433 s\n",
      "  Validation Found 101653 of 108007, added 5451 (eff 94.12%) (0.273 FP/event)\n",
      "Result epoch:  977\n",
      "Average Eff:  0.0\n",
      "Average FP Rate:  0.0\n"
     ]
    },
    {
     "data": {
      "application/vnd.jupyter.widget-view+json": {
       "model_id": "",
       "version_major": 2,
       "version_minor": 0
      },
      "text/plain": [
       "HBox(children=(FloatProgress(value=0.0, description='Training', layout=Layout(flex='2'), max=1250.0, style=Pro…"
      ]
     },
     "metadata": {},
     "output_type": "display_data"
    },
    {
     "name": "stdout",
     "output_type": "stream",
     "text": [
      "Epoch 978: train=8.9281, val=8.63411, took 50.439 s\n",
      "  Validation Found 101625 of 108007, added 5380 (eff 94.09%) (0.269 FP/event)\n",
      "Result epoch:  978\n",
      "Average Eff:  0.0\n",
      "Average FP Rate:  0.0\n"
     ]
    },
    {
     "data": {
      "application/vnd.jupyter.widget-view+json": {
       "model_id": "",
       "version_major": 2,
       "version_minor": 0
      },
      "text/plain": [
       "HBox(children=(FloatProgress(value=0.0, description='Training', layout=Layout(flex='2'), max=1250.0, style=Pro…"
      ]
     },
     "metadata": {},
     "output_type": "display_data"
    },
    {
     "name": "stdout",
     "output_type": "stream",
     "text": [
      "Epoch 979: train=8.92602, val=8.641, took 50.49 s\n",
      "  Validation Found 101702 of 108007, added 5560 (eff 94.16%) (0.278 FP/event)\n",
      "Result epoch:  979\n",
      "Average Eff:  0.0\n",
      "Average FP Rate:  0.0\n"
     ]
    },
    {
     "data": {
      "application/vnd.jupyter.widget-view+json": {
       "model_id": "",
       "version_major": 2,
       "version_minor": 0
      },
      "text/plain": [
       "HBox(children=(FloatProgress(value=0.0, description='Training', layout=Layout(flex='2'), max=1250.0, style=Pro…"
      ]
     },
     "metadata": {},
     "output_type": "display_data"
    },
    {
     "name": "stdout",
     "output_type": "stream",
     "text": [
      "Epoch 980: train=8.929, val=8.64479, took 50.515 s\n",
      "  Validation Found 101627 of 108007, added 5428 (eff 94.09%) (0.271 FP/event)\n",
      "Result epoch:  980\n",
      "Average Eff:  0.0\n",
      "Average FP Rate:  0.0\n"
     ]
    },
    {
     "data": {
      "application/vnd.jupyter.widget-view+json": {
       "model_id": "",
       "version_major": 2,
       "version_minor": 0
      },
      "text/plain": [
       "HBox(children=(FloatProgress(value=0.0, description='Training', layout=Layout(flex='2'), max=1250.0, style=Pro…"
      ]
     },
     "metadata": {},
     "output_type": "display_data"
    },
    {
     "name": "stdout",
     "output_type": "stream",
     "text": [
      "Epoch 981: train=8.9253, val=8.63335, took 50.536 s\n",
      "  Validation Found 101648 of 108007, added 5439 (eff 94.11%) (0.272 FP/event)\n",
      "Result epoch:  981\n",
      "Average Eff:  0.0\n",
      "Average FP Rate:  0.0\n"
     ]
    },
    {
     "data": {
      "application/vnd.jupyter.widget-view+json": {
       "model_id": "",
       "version_major": 2,
       "version_minor": 0
      },
      "text/plain": [
       "HBox(children=(FloatProgress(value=0.0, description='Training', layout=Layout(flex='2'), max=1250.0, style=Pro…"
      ]
     },
     "metadata": {},
     "output_type": "display_data"
    },
    {
     "name": "stdout",
     "output_type": "stream",
     "text": [
      "Epoch 982: train=8.92783, val=8.64649, took 50.521 s\n",
      "  Validation Found 101712 of 108007, added 5603 (eff 94.17%) (0.28 FP/event)\n",
      "Result epoch:  982\n",
      "Average Eff:  0.0\n",
      "Average FP Rate:  0.0\n"
     ]
    },
    {
     "data": {
      "application/vnd.jupyter.widget-view+json": {
       "model_id": "",
       "version_major": 2,
       "version_minor": 0
      },
      "text/plain": [
       "HBox(children=(FloatProgress(value=0.0, description='Training', layout=Layout(flex='2'), max=1250.0, style=Pro…"
      ]
     },
     "metadata": {},
     "output_type": "display_data"
    },
    {
     "name": "stdout",
     "output_type": "stream",
     "text": [
      "Epoch 983: train=8.92774, val=8.64121, took 50.662 s\n",
      "  Validation Found 101598 of 108007, added 5396 (eff 94.07%) (0.27 FP/event)\n",
      "Result epoch:  983\n",
      "Average Eff:  0.0\n",
      "Average FP Rate:  0.0\n"
     ]
    },
    {
     "data": {
      "application/vnd.jupyter.widget-view+json": {
       "model_id": "",
       "version_major": 2,
       "version_minor": 0
      },
      "text/plain": [
       "HBox(children=(FloatProgress(value=0.0, description='Training', layout=Layout(flex='2'), max=1250.0, style=Pro…"
      ]
     },
     "metadata": {},
     "output_type": "display_data"
    },
    {
     "name": "stdout",
     "output_type": "stream",
     "text": [
      "Epoch 984: train=8.92298, val=8.63334, took 50.939 s\n",
      "  Validation Found 101621 of 108007, added 5430 (eff 94.09%) (0.271 FP/event)\n",
      "Result epoch:  984\n",
      "Average Eff:  0.0\n",
      "Average FP Rate:  0.0\n"
     ]
    },
    {
     "data": {
      "application/vnd.jupyter.widget-view+json": {
       "model_id": "",
       "version_major": 2,
       "version_minor": 0
      },
      "text/plain": [
       "HBox(children=(FloatProgress(value=0.0, description='Training', layout=Layout(flex='2'), max=1250.0, style=Pro…"
      ]
     },
     "metadata": {},
     "output_type": "display_data"
    },
    {
     "name": "stdout",
     "output_type": "stream",
     "text": [
      "Epoch 985: train=8.93117, val=8.64716, took 50.903 s\n",
      "  Validation Found 101586 of 108007, added 5351 (eff 94.06%) (0.268 FP/event)\n",
      "Result epoch:  985\n",
      "Average Eff:  0.0\n",
      "Average FP Rate:  0.0\n"
     ]
    },
    {
     "data": {
      "application/vnd.jupyter.widget-view+json": {
       "model_id": "",
       "version_major": 2,
       "version_minor": 0
      },
      "text/plain": [
       "HBox(children=(FloatProgress(value=0.0, description='Training', layout=Layout(flex='2'), max=1250.0, style=Pro…"
      ]
     },
     "metadata": {},
     "output_type": "display_data"
    },
    {
     "name": "stdout",
     "output_type": "stream",
     "text": [
      "Epoch 986: train=8.92815, val=8.64636, took 50.968 s\n",
      "  Validation Found 101616 of 108007, added 5429 (eff 94.08%) (0.271 FP/event)\n",
      "Result epoch:  986\n",
      "Average Eff:  0.0\n",
      "Average FP Rate:  0.0\n"
     ]
    },
    {
     "data": {
      "application/vnd.jupyter.widget-view+json": {
       "model_id": "",
       "version_major": 2,
       "version_minor": 0
      },
      "text/plain": [
       "HBox(children=(FloatProgress(value=0.0, description='Training', layout=Layout(flex='2'), max=1250.0, style=Pro…"
      ]
     },
     "metadata": {},
     "output_type": "display_data"
    },
    {
     "name": "stdout",
     "output_type": "stream",
     "text": [
      "Epoch 987: train=8.93043, val=8.63377, took 50.913 s\n",
      "  Validation Found 101700 of 108007, added 5571 (eff 94.16%) (0.279 FP/event)\n",
      "Result epoch:  987\n",
      "Average Eff:  0.0\n",
      "Average FP Rate:  0.0\n"
     ]
    },
    {
     "data": {
      "application/vnd.jupyter.widget-view+json": {
       "model_id": "",
       "version_major": 2,
       "version_minor": 0
      },
      "text/plain": [
       "HBox(children=(FloatProgress(value=0.0, description='Training', layout=Layout(flex='2'), max=1250.0, style=Pro…"
      ]
     },
     "metadata": {},
     "output_type": "display_data"
    },
    {
     "name": "stdout",
     "output_type": "stream",
     "text": [
      "Epoch 988: train=8.9211, val=8.638, took 50.913 s\n",
      "  Validation Found 101682 of 108007, added 5540 (eff 94.14%) (0.277 FP/event)\n",
      "Result epoch:  988\n",
      "Average Eff:  0.0\n",
      "Average FP Rate:  0.0\n"
     ]
    },
    {
     "data": {
      "application/vnd.jupyter.widget-view+json": {
       "model_id": "",
       "version_major": 2,
       "version_minor": 0
      },
      "text/plain": [
       "HBox(children=(FloatProgress(value=0.0, description='Training', layout=Layout(flex='2'), max=1250.0, style=Pro…"
      ]
     },
     "metadata": {},
     "output_type": "display_data"
    },
    {
     "name": "stdout",
     "output_type": "stream",
     "text": [
      "Epoch 989: train=8.93019, val=8.63833, took 51.034 s\n",
      "  Validation Found 101642 of 108007, added 5462 (eff 94.11%) (0.273 FP/event)\n",
      "Result epoch:  989\n",
      "Average Eff:  0.0\n",
      "Average FP Rate:  0.0\n"
     ]
    },
    {
     "data": {
      "application/vnd.jupyter.widget-view+json": {
       "model_id": "",
       "version_major": 2,
       "version_minor": 0
      },
      "text/plain": [
       "HBox(children=(FloatProgress(value=0.0, description='Training', layout=Layout(flex='2'), max=1250.0, style=Pro…"
      ]
     },
     "metadata": {},
     "output_type": "display_data"
    },
    {
     "name": "stdout",
     "output_type": "stream",
     "text": [
      "Epoch 990: train=8.92051, val=8.64609, took 50.922 s\n",
      "  Validation Found 101552 of 108007, added 5295 (eff 94.02%) (0.265 FP/event)\n",
      "Result epoch:  990\n",
      "Average Eff:  0.0\n",
      "Average FP Rate:  0.0\n"
     ]
    },
    {
     "data": {
      "application/vnd.jupyter.widget-view+json": {
       "model_id": "",
       "version_major": 2,
       "version_minor": 0
      },
      "text/plain": [
       "HBox(children=(FloatProgress(value=0.0, description='Training', layout=Layout(flex='2'), max=1250.0, style=Pro…"
      ]
     },
     "metadata": {},
     "output_type": "display_data"
    },
    {
     "name": "stdout",
     "output_type": "stream",
     "text": [
      "Epoch 991: train=8.93357, val=8.65109, took 50.466 s\n",
      "  Validation Found 101636 of 108007, added 5447 (eff 94.10%) (0.272 FP/event)\n",
      "Result epoch:  991\n",
      "Average Eff:  0.0\n",
      "Average FP Rate:  0.0\n"
     ]
    },
    {
     "data": {
      "application/vnd.jupyter.widget-view+json": {
       "model_id": "518abf9bfe014fe3ad3aae0bb07d6541",
       "version_major": 2,
       "version_minor": 0
      },
      "text/plain": [
       "HBox(children=(FloatProgress(value=0.0, description='Training', layout=Layout(flex='2'), max=1250.0, style=Pro…"
      ]
     },
     "metadata": {},
     "output_type": "display_data"
    }
   ],
   "source": [
    "avgEff = 0.0\n",
    "avgFP = 0.0\n",
    "print('for model: ', model)   \n",
    "run_name = 'ACN_2_10L_4S_BN Cont. (P4)'\n",
    "# Create an mlflow run\n",
    "with mlflow.start_run(run_name=run_name) as run:\n",
    "    # Log parameters of the model\n",
    "    for key, value in vars(args).items():\n",
    "        print(key, value)\n",
    "        mlflow.log_param(key, value)\n",
    "    \n",
    "    # Log parameter count in the model\n",
    "    mlflow.log_param('Parameters', count_parameters(model))\n",
    "    \n",
    "    # Begin run\n",
    "    for result in trainNet(model, optimizer, loss,\n",
    "                            train_loader, val_loader,\n",
    "                            args.epochs+args.epoch_start, epoch_start=args.epoch_start,\n",
    "                            notebook=True, device=device):\n",
    "\n",
    "        result = result._asdict()\n",
    "        results = results.append(pd.Series(result), ignore_index=True)\n",
    "    \n",
    "        xs = results.index\n",
    "    \n",
    "        # Update the plot above\n",
    "        lines['train'].set_data(results.index,results.cost)\n",
    "        lines['val'].set_data(results.index,results.val)\n",
    "    \n",
    "        #filter first cost epoch (can be really large)\n",
    "        max_cost = max(max(results.cost if len(results.cost)<2 else results.cost[1:]), max(results.val))\n",
    "        min_cost = min(min(results.cost), min(results.val))\n",
    "    \n",
    "        # The plot limits need updating too\n",
    "        ax.set_ylim(min_cost*.9, max_cost*1.1)  \n",
    "        ax.set_xlim(-.5, len(results.cost) - .5)\n",
    "    \n",
    "        replace_in_ax(lax, lines['eff'], xs, results['eff_val'].apply(lambda x: x.eff_rate))\n",
    "        replace_in_ax(tax, lines['fp'], xs, results['eff_val'].apply(lambda x: x.fp_rate))\n",
    "    \n",
    "        # Redraw the figure\n",
    "        fig.canvas.draw()\n",
    "            \n",
    "        ## MLFLOW ##\n",
    "        # Log metrics\n",
    "        mlflow.log_metric('Efficiency', result['eff_val'].eff_rate, result['epoch'])\n",
    "        mlflow.log_metric('False Positive Rate',  result['eff_val'].fp_rate, result['epoch'])\n",
    "        mlflow.log_metric('Validation Loss',  result['val'], result['epoch'])\n",
    "        mlflow.log_metric('Training Loss',  result['cost'], result['epoch'])\n",
    "        \n",
    "        print('Result epoch: ', result['epoch'])\n",
    "        if(result['epoch'] >= args.epochs + args.epoch_start - 10):\n",
    "            avgEff += result['eff_val'].eff_rate\n",
    "            avgFP += result['eff_val'].fp_rate\n",
    "           \n",
    "        if(result['epoch'] == args.epochs + args.epoch_start - 1):\n",
    "            print('Averaging...\\n')\n",
    "            avgEff /= 10\n",
    "            avgFP /= 10\n",
    "            mlflow.log_metric('10 Efficiency Average', avgEff)\n",
    "            mlflow.log_metric('10 False Positive Average', avgFP)\n",
    "            \n",
    "        print('Average Eff: ', avgEff)\n",
    "        print('Average FP Rate: ', avgFP)\n",
    "            \n",
    "        # Log tags\n",
    "#        mlflow.set_tag('Optimizer', 'Adam')\n",
    "#        mlflow.set_tag('Kernel size', 'Mixed')\n",
    "#        mlflow.set_tag('Skip connections', '4')\n",
    "#        mlflow.set_tag('Activation', 'Softplus')\n",
    "#        mlflow.set_tag('Mid Activation', 'Relu')\n",
    "        mlflow.set_tag('Asymmetry', '2.5')\n",
    "        mlflow.set_tag('KDE', 'Poca')\n",
    "\n",
    "        # Save model state dictionary, optimizer state dictionary, and epoch number\n",
    "        torch.save({\n",
    "            'model':model.state_dict(),\n",
    "            'optimizer':optimizer.state_dict(),\n",
    "            'epoch':args.epochs+result['epoch']\n",
    "            }, 'run_stats.pyt')\n",
    "        # Save the run stats into mlflow\n",
    "        mlflow.log_artifact('run_stats.pyt')\n",
    "            \n",
    "        # Save a diagram of the architecture\n",
    "#        HL.transforms.Fold(\"Conv\", \"Conv\"),\n",
    "#        HL.build_graph(model, torch.zeros([args.batch_size, 1, 4000]).to(device)).save('architecture', format='png')\n",
    "#        mlflow.log_artifact('architecture.png')\n",
    "        \n",
    "        # log the code for the model architecture\n",
    "#        mlflow.log_artifact('architecture.txt')\n",
    "        \n",
    "    dual_train_plots(results.index,\n",
    "                 results.cost, results.val, \n",
    "                 results['eff_val'].apply(lambda x: x.eff_rate),\n",
    "                 results['eff_val'].apply(lambda x: x.fp_rate))\n",
    "    # save plot\n",
    "    plt.tight_layout()\n",
    "    plt.savefig('plot.png')\n",
    "    mlflow.log_artifact('plot.png')"
   ]
  },
  {
   "cell_type": "code",
   "execution_count": null,
   "metadata": {},
   "outputs": [],
   "source": [
    "##quit()"
   ]
  }
 ],
 "metadata": {
  "kernelspec": {
   "display_name": "goofit-june2020",
   "language": "python",
   "name": "goofit-june2020"
  },
  "language_info": {
   "codemirror_mode": {
    "name": "ipython",
    "version": 3
   },
   "file_extension": ".py",
   "mimetype": "text/x-python",
   "name": "python",
   "nbconvert_exporter": "python",
   "pygments_lexer": "ipython3",
   "version": "3.7.6"
  }
 },
 "nbformat": 4,
 "nbformat_minor": 2
}
