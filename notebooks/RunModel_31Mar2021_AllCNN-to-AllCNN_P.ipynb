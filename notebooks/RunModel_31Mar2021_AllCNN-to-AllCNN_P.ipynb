{
 "cells": [
  {
   "cell_type": "code",
   "execution_count": 1,
   "metadata": {},
   "outputs": [],
   "source": [
    "##%matplotlib widget\n",
    "## with %matplotlib notebook: seems to require ipympl as part of environment, either\n",
    "## part of the conda environment or \"pip install ipympl\"\n",
    "## otherwise, does not show ANY plots in notebook, plt.savefig() works\n",
    "%matplotlib notebook  \n",
    "##%matplotlib inline    ## --plt.savefig()  works, but re-sizing does NOT"
   ]
  },
  {
   "cell_type": "markdown",
   "metadata": {},
   "source": [
    "This notebook is a short demo to illustrate execution.   For odd historical reasons, it uses \"toy Monte Carlo\" (simulated data)for \"training\" and \"full LHCB MC\" for validation.\n",
    "\n",
    "The network architecture is a \"simple\" model that uses 1 input channel (the KDE [kernel density estimator] but from the track parameters) feeding 5 convolutional layers followed by a fully connected layer.\n",
    "\n",
    "In today's version, the network will start with weights from a previously trained version.\n",
    " "
   ]
  },
  {
   "cell_type": "markdown",
   "metadata": {},
   "source": [
    "Check the current GPU usage. Please try to be nice!"
   ]
  },
  {
   "cell_type": "code",
   "execution_count": 2,
   "metadata": {
    "scrolled": true
   },
   "outputs": [
    {
     "name": "stdout",
     "output_type": "stream",
     "text": [
      "Sun Mar 14 10:19:52 2021       \r\n",
      "+-----------------------------------------------------------------------------+\r\n",
      "| NVIDIA-SMI 440.64.00    Driver Version: 440.64.00    CUDA Version: 10.2     |\r\n",
      "|-------------------------------+----------------------+----------------------+\r\n",
      "| GPU  Name        Persistence-M| Bus-Id        Disp.A | Volatile Uncorr. ECC |\r\n",
      "| Fan  Temp  Perf  Pwr:Usage/Cap|         Memory-Usage | GPU-Util  Compute M. |\r\n",
      "|===============================+======================+======================|\r\n",
      "|   0  TITAN V             Off  | 00000000:03:00.0 Off |                  N/A |\r\n",
      "| 20%   32C    P0    31W / 250W |      0MiB / 12066MiB |      0%      Default |\r\n",
      "+-------------------------------+----------------------+----------------------+\r\n",
      "|   1  Tesla P100-PCIE...  Off  | 00000000:83:00.0 Off |                    0 |\r\n",
      "| N/A   33C    P0    33W / 250W |      0MiB / 16280MiB |      0%      Default |\r\n",
      "+-------------------------------+----------------------+----------------------+\r\n",
      "|   2  TITAN V             Off  | 00000000:84:00.0 Off |                  N/A |\r\n",
      "| 22%   37C    P0    34W / 250W |      0MiB / 12066MiB |      1%      Default |\r\n",
      "+-------------------------------+----------------------+----------------------+\r\n",
      "                                                                               \r\n",
      "+-----------------------------------------------------------------------------+\r\n",
      "| Processes:                                                       GPU Memory |\r\n",
      "|  GPU       PID   Type   Process name                             Usage      |\r\n",
      "|=============================================================================|\r\n",
      "|  No running processes found                                                 |\r\n",
      "+-----------------------------------------------------------------------------+\r\n"
     ]
    }
   ],
   "source": [
    "!nvidia-smi"
   ]
  },
  {
   "cell_type": "markdown",
   "metadata": {},
   "source": [
    "> **WARNING**: The card numbers here are *not* the same as in CUDA. You have been warned."
   ]
  },
  {
   "cell_type": "markdown",
   "metadata": {},
   "source": [
    "## Imports"
   ]
  },
  {
   "cell_type": "code",
   "execution_count": 3,
   "metadata": {
    "scrolled": false
   },
   "outputs": [
    {
     "name": "stderr",
     "output_type": "stream",
     "text": [
      "/data/conda/envs/goofit-june2020/lib/python3.7/site-packages/awkward/__init__.py:23: DeprecationWarning: Consider switching from 'awkward' to 'awkward1', since the new interface will become the default later this year (2020).\n",
      "\n",
      "    pip install -U awkward1\n",
      "\n",
      "In Python:\n",
      "\n",
      "    >>> import awkward1 as ak\n",
      "    >>> new_style_array = ak.from_awkward0(old_style_array)\n",
      "    >>> old_style_array = ak.to_awkward0(new_style_array)\n",
      "\n",
      "  DeprecationWarning\n"
     ]
    }
   ],
   "source": [
    "import matplotlib.pyplot as plt\n",
    "import numpy as np\n",
    "import time\n",
    "import torch\n",
    "import pandas as pd\n",
    "import mlflow\n",
    "\n",
    "# Python 3 standard library\n",
    "from pathlib import Path\n",
    "\n",
    "from torchsummary import summary\n",
    "\n",
    "'''\n",
    "HELPER FUNCTIONS\n",
    "'''\n",
    "# From model/collectdata.py\n",
    "from model.collectdata_mdsA import collect_data\n",
    "# For poca KDE\n",
    "from model.collectdata_poca_KDE import collect_data_poca\n",
    "\n",
    "# From model/loss.py\n",
    "##from loss import Loss\n",
    "from model.alt_loss_A import Loss\n",
    "\n",
    "# From model/training.py\n",
    "from model.training import trainNet, select_gpu, Results\n",
    "\n",
    "# From model/models.py\n",
    "##  will start with model from TwoFeatures_CNN6Layer_A in the first instance\n",
    "##  see relevant cell below\n",
    "\n",
    "from model.models_mjp_19November20 import ThreeFeature_6Layer_XYPretrain_A as ModelA\n",
    "from model.models_mjp_19November20 import ThreeFeature_6Layer_XYPretrain_E as ModelE\n",
    "from model.models_mjp_19November20 import ThreeFeature_8Layer_XYPretrain_W as ModelW\n",
    "from model.models_mjp_26December20 import ThreeFeature_10Layer_XYPretrain_X as ModelX\n",
    "from model.models_mjp_26December20 import ThreeFeature_8Layer_XYPretrain_Y as ModelY\n",
    "from model.models_mjp_30Jan21_AllCNN import ACN_3_P_10L_4S_BN as ModelXX\n",
    "\n",
    "# From model/utilities.py\n",
    "from model.utilities import load_full_state, count_parameters, Params\n",
    "\n",
    "from model.plots import dual_train_plots, replace_in_ax\n",
    "\n",
    "## adds image of model architecture\n",
    "import hiddenlayer as HL"
   ]
  },
  {
   "cell_type": "markdown",
   "metadata": {},
   "source": [
    "Set up Torch device configuration. All tensors and model parameters need to know where to be put.\n",
    "This takes a BUS ID number: The BUS ID is the same as the listing at the top of this script."
   ]
  },
  {
   "cell_type": "code",
   "execution_count": 4,
   "metadata": {},
   "outputs": [
    {
     "name": "stdout",
     "output_type": "stream",
     "text": [
      "1 available GPUs (initially using device 0):\n",
      "  0 TITAN V\n"
     ]
    },
    {
     "name": "stderr",
     "output_type": "stream",
     "text": [
      "/data/conda/envs/goofit-june2020/lib/python3.7/site-packages/ipykernel/ipkernel.py:287: DeprecationWarning: `should_run_async` will not call `transform_cell` automatically in the future. Please pass the result to `transformed_cell` argument and any exception that happen during thetransform in `preprocessing_exc_tuple` in IPython 7.17 and above.\n",
      "  and should_run_async(code)\n"
     ]
    }
   ],
   "source": [
    "device = select_gpu(0)"
   ]
  },
  {
   "cell_type": "markdown",
   "metadata": {},
   "source": [
    "### Set up local parameters"
   ]
  },
  {
   "cell_type": "code",
   "execution_count": 5,
   "metadata": {},
   "outputs": [],
   "source": [
    "# params order - batch size, epochs, lr, epoch_start (which is usually set to 0)\n",
    "args = Params(128, 400, 1e-6, 1320)"
   ]
  },
  {
   "cell_type": "markdown",
   "metadata": {},
   "source": [
    "## Loading data\n",
    "\n",
    "Load the dataset, split into parts, then move to device (see `collectdata.py` in the `../model` directory)"
   ]
  },
  {
   "cell_type": "code",
   "execution_count": 6,
   "metadata": {
    "scrolled": true
   },
   "outputs": [
    {
     "name": "stdout",
     "output_type": "stream",
     "text": [
      "Loading data...\n",
      "Loaded /share/lazy/will/data/June30_2020_80k_1.h5 in 30.03 s\n",
      "Loaded /share/lazy/will/data/June30_2020_80k_3.h5 in 30.54 s\n",
      "Constructing 160000 event dataset took 1.705 s\n",
      "Loading data...\n",
      "Loaded /share/lazy/sokoloff/ML-data_AA/20K_POCA_kernel_evts_200926.h5 in 7.469 s\n",
      "Constructing 20000 event dataset took 0.1991 s\n"
     ]
    }
   ],
   "source": [
    "## newer vernacular\n",
    "## Training dataset. You can put as many files here as desired.\n",
    "\n",
    "'''\n",
    "## in this DEMO example we use only one 80K training set -- the model starts with well-trained weights,\n",
    "## and using a smaller training set reduces both the time to load the data and the time to train an epoch\n",
    "##  set the option load_XandXsq = True to use both DKE and KDE^2 as input features\n",
    "train_loader = collect_data('/share/lazy/sokoloff/ML-data_A/Aug14_80K_train.h5',\n",
    "                             '/share/lazy/sokoloff/ML-data_AA/Oct03_80K_train.h5',\n",
    "#                             '/share/lazy/sokoloff/ML-data_AA/Oct03_40K_train.h5',\n",
    "#                             '/share/lazy/will/ML_mdsA/June30_2020_80k_1.h5',\n",
    "#                             '/share/lazy/will/ML_mdsA/June30_2020_80k_3.h5',\n",
    "#                             '/share/lazy/will/ML_mdsA/June30_2020_80k_4.h5',\n",
    "#                             '/share/lazy/will/ML_mdsA/June30_2020_80k_5.h5',\n",
    "#                             '/share/lazy/will/ML_mdsA/June30_2020_80k_6.h5',\n",
    "#                             '/share/lazy/will/ML_mdsA/June30_2020_80k_7.h5',\n",
    "#                             '/share/lazy/will/ML_mdsA/June30_2020_80k_8.h5',\n",
    "#                             '/share/lazy/will/ML_mdsA/June30_2020_80k_9.h5',\n",
    "                            #'/share/lazy/sokoloff/ML-data_AA/Oct03_80K2_train.h5',\n",
    "                             batch_size=args.batch_size,\n",
    "## if we are using a larger dataset (240K events, with the datasets above, and 11 GB  of GPU memory),\n",
    "## not the dataset will overflow the GPU memory; device=device will allow the data to move back\n",
    "## and forth between the CPU and GPU memory. While this allows use of a larger dataset, it slows\n",
    "## down performance by about 10%.  So comment out when not needed.\n",
    "## \n",
    "                            #device=device,\n",
    "                            masking=True, shuffle=True,\n",
    "                            load_XandXsq=True,\n",
    "                            load_xy=True)\n",
    "\n",
    "# Validation dataset. You can slice to reduce the size.\n",
    "## dataAA -> /share/lazy/sokoloff/ML-data_AA/\n",
    "val_loader = collect_data('/share/lazy/sokoloff/ML-data_AA/Oct03_20K_val.h5',\n",
    "## mds val_loader = collect_data('dataAA/HLT1CPU_1kevts_val.h5',\n",
    "\n",
    "                          batch_size=args.batch_size,\n",
    "                          slice=slice(256 * 39),\n",
    "                          #device=device,\n",
    "                          masking=True, shuffle=False,\n",
    "                          load_XandXsq=True,\n",
    "                          load_xy=True)\n",
    "'''\n",
    "\n",
    "## This is used when training with the new KDE\n",
    "train_loader = collect_data_poca('/share/lazy/will/data/June30_2020_80k_1.h5',\n",
    "                            '/share/lazy/will/data/June30_2020_80k_3.h5',\n",
    "                            batch_size=args.batch_size,\n",
    "#                            device=device,\n",
    "                            masking=True, shuffle=True,\n",
    "                            load_XandXsq=True,\n",
    "                            load_xy=True,\n",
    "                           ## slice = slice(0,18000)\n",
    "                           )\n",
    "\n",
    "val_loader = collect_data_poca('/share/lazy/sokoloff/ML-data_AA/20K_POCA_kernel_evts_200926.h5',\n",
    "                            batch_size=args.batch_size,\n",
    "#                            device=device,\n",
    "                            masking=True, shuffle=True,\n",
    "                            load_XandXsq=True,\n",
    "                            load_xy=True,\n",
    "                            ##slice = slice(18000,None)\n",
    "                           )"
   ]
  },
  {
   "cell_type": "markdown",
   "metadata": {},
   "source": [
    "# Preparing the model"
   ]
  },
  {
   "cell_type": "markdown",
   "metadata": {},
   "source": [
    "Prepare a model, use multiple GPUs if they are VISIBLE, and move the model to the device."
   ]
  },
  {
   "cell_type": "code",
   "execution_count": 7,
   "metadata": {
    "scrolled": true
   },
   "outputs": [
    {
     "name": "stderr",
     "output_type": "stream",
     "text": [
      "WARNING:root:Malformed experiment 'ML'. Detailed error Yaml file '/share/lazy/pv-finder_model_repo/ML/meta.yaml' does not exist.\n",
      "Traceback (most recent call last):\n",
      "  File \"/home/michael24peters/.local/lib/python3.7/site-packages/mlflow/store/tracking/file_store.py\", line 197, in list_experiments\n",
      "    experiment = self._get_experiment(exp_id, view_type)\n",
      "  File \"/home/michael24peters/.local/lib/python3.7/site-packages/mlflow/store/tracking/file_store.py\", line 260, in _get_experiment\n",
      "    meta = read_yaml(experiment_dir, FileStore.META_DATA_FILE_NAME)\n",
      "  File \"/home/michael24peters/.local/lib/python3.7/site-packages/mlflow/utils/file_utils.py\", line 167, in read_yaml\n",
      "    raise MissingConfigException(\"Yaml file '%s' does not exist.\" % file_path)\n",
      "mlflow.exceptions.MissingConfigException: Yaml file '/share/lazy/pv-finder_model_repo/ML/meta.yaml' does not exist.\n"
     ]
    }
   ],
   "source": [
    "model = ModelXX()\n",
    "\n",
    "#summary(model.to(device), (1, 4000))\n",
    "\n",
    "mlflow.tracking.set_tracking_uri('file:/share/lazy/pv-finder_model_repo')\n",
    "mlflow.set_experiment('Four Feature AllCNN')"
   ]
  },
  {
   "cell_type": "code",
   "execution_count": 8,
   "metadata": {
    "scrolled": true
   },
   "outputs": [
    {
     "name": "stdout",
     "output_type": "stream",
     "text": [
      "Let's use 1 GPUs!\n"
     ]
    }
   ],
   "source": [
    "print(\"Let's use\", torch.cuda.device_count(), \"GPUs!\")\n",
    "if torch.cuda.device_count() > 1:\n",
    "    model = torch.nn.DataParallel(model)"
   ]
  },
  {
   "cell_type": "markdown",
   "metadata": {},
   "source": [
    "Let's move the model's weight matricies to the GPU:"
   ]
  },
  {
   "cell_type": "code",
   "execution_count": 9,
   "metadata": {},
   "outputs": [
    {
     "name": "stdout",
     "output_type": "stream",
     "text": [
      "we also froze 19 weights\n",
      "Of the 36.5 parameter layers to update in the current model, 32.5 were loaded\n"
     ]
    }
   ],
   "source": [
    "##  mds 200121 loss = Loss(epsilon=1e-5,coefficient=1.0)\n",
    "loss = Loss(epsilon=1e-5,coefficient=2.5)\n",
    "optimizer = torch.optim.Adam(model.parameters(), lr=args.lr)\n",
    "\n",
    "##  use the first five layers from a pre-existing model\n",
    "##  see example at https://discuss.pytorch.org/t/how-to-load-part-of-pre-trained-model/1113\n",
    "##   ML -> /share/lazy/sokoloff/ML\n",
    "\n",
    "#path = 'run_stats.pyt'\n",
    "#load_full_state(model, optimizer, path)\n",
    "# For other pretrained models, go to MLFlow and find the path for \"run_stats.pyt\"\n",
    "pretrained_dict = '/share/lazy/pv-finder_model_repo/12/6a37aa4f7c89412abe8798e57325c338/artifacts/run_stats.pyt'\n",
    "load_full_state(model, optimizer, pretrained_dict, freeze_weights=True)"
   ]
  },
  {
   "cell_type": "markdown",
   "metadata": {},
   "source": [
    "Let's move the model's weight matricies to the GPU:"
   ]
  },
  {
   "cell_type": "code",
   "execution_count": 10,
   "metadata": {
    "scrolled": true
   },
   "outputs": [
    {
     "data": {
      "text/plain": [
       "ACN_3_P_10L_4S_BN(\n",
       "  (conv1): Conv1d(1, 20, kernel_size=(25,), stride=(1,), padding=(12,))\n",
       "  (conv2): Conv1d(20, 10, kernel_size=(15,), stride=(1,), padding=(7,))\n",
       "  (conv3): Conv1d(30, 10, kernel_size=(15,), stride=(1,), padding=(7,))\n",
       "  (conv4): Conv1d(10, 10, kernel_size=(15,), stride=(1,), padding=(7,))\n",
       "  (conv5): Conv1d(20, 10, kernel_size=(15,), stride=(1,), padding=(7,))\n",
       "  (conv6): Conv1d(10, 10, kernel_size=(15,), stride=(1,), padding=(7,))\n",
       "  (conv7): Conv1d(20, 7, kernel_size=(5,), stride=(1,), padding=(2,))\n",
       "  (conv8): Conv1d(7, 3, kernel_size=(5,), stride=(1,), padding=(2,))\n",
       "  (conv9): Conv1d(10, 1, kernel_size=(5,), stride=(1,), padding=(2,))\n",
       "  (finalFilter): Conv1d(1, 1, kernel_size=(91,), stride=(1,), padding=(45,))\n",
       "  (ppConv1): Conv1d(2, 20, kernel_size=(25,), stride=(1,), padding=(12,))\n",
       "  (ppConv2): Conv1d(20, 10, kernel_size=(15,), stride=(1,), padding=(7,))\n",
       "  (ppConv3): Conv1d(10, 1, kernel_size=(15,), stride=(1,), padding=(7,))\n",
       "  (ppFC): Linear(in_features=4000, out_features=4000, bias=True)\n",
       "  (conv1dropout): Dropout(p=0.15, inplace=False)\n",
       "  (conv2dropout): Dropout(p=0.15, inplace=False)\n",
       "  (conv3dropout): Dropout(p=0.15, inplace=False)\n",
       "  (conv4dropout): Dropout(p=0.15, inplace=False)\n",
       "  (conv5dropout): Dropout(p=0.15, inplace=False)\n",
       "  (conv6dropout): Dropout(p=0.15, inplace=False)\n",
       "  (conv7dropout): Dropout(p=0.15, inplace=False)\n",
       "  (conv8dropout): Dropout(p=0.15, inplace=False)\n",
       "  (conv9dropout): Dropout(p=0.15, inplace=False)\n",
       "  (bn1): BatchNorm1d(20, eps=1e-05, momentum=0.1, affine=True, track_running_stats=True)\n",
       "  (bn2): BatchNorm1d(10, eps=1e-05, momentum=0.1, affine=True, track_running_stats=True)\n",
       "  (bn3): BatchNorm1d(10, eps=1e-05, momentum=0.1, affine=True, track_running_stats=True)\n",
       "  (bn4): BatchNorm1d(10, eps=1e-05, momentum=0.1, affine=True, track_running_stats=True)\n",
       "  (bn5): BatchNorm1d(10, eps=1e-05, momentum=0.1, affine=True, track_running_stats=True)\n",
       "  (bn6): BatchNorm1d(10, eps=1e-05, momentum=0.1, affine=True, track_running_stats=True)\n",
       "  (bn7): BatchNorm1d(7, eps=1e-05, momentum=0.1, affine=True, track_running_stats=True)\n",
       "  (bn8): BatchNorm1d(3, eps=1e-05, momentum=0.1, affine=True, track_running_stats=True)\n",
       "  (bn9): BatchNorm1d(1, eps=1e-05, momentum=0.1, affine=True, track_running_stats=True)\n",
       ")"
      ]
     },
     "execution_count": 10,
     "metadata": {},
     "output_type": "execute_result"
    }
   ],
   "source": [
    "model.to(device)"
   ]
  },
  {
   "cell_type": "markdown",
   "metadata": {},
   "source": [
    "## Train \n",
    "\n",
    "\n",
    "\n",
    "The body of this loop runs once per epoch. Results is a named tuple of values (loss per epoch for training and validation, time each). Start by setting up a plot first:"
   ]
  },
  {
   "cell_type": "code",
   "execution_count": 11,
   "metadata": {},
   "outputs": [
    {
     "data": {
      "application/javascript": [
       "/* Put everything inside the global mpl namespace */\n",
       "window.mpl = {};\n",
       "\n",
       "\n",
       "mpl.get_websocket_type = function() {\n",
       "    if (typeof(WebSocket) !== 'undefined') {\n",
       "        return WebSocket;\n",
       "    } else if (typeof(MozWebSocket) !== 'undefined') {\n",
       "        return MozWebSocket;\n",
       "    } else {\n",
       "        alert('Your browser does not have WebSocket support. ' +\n",
       "              'Please try Chrome, Safari or Firefox ≥ 6. ' +\n",
       "              'Firefox 4 and 5 are also supported but you ' +\n",
       "              'have to enable WebSockets in about:config.');\n",
       "    };\n",
       "}\n",
       "\n",
       "mpl.figure = function(figure_id, websocket, ondownload, parent_element) {\n",
       "    this.id = figure_id;\n",
       "\n",
       "    this.ws = websocket;\n",
       "\n",
       "    this.supports_binary = (this.ws.binaryType != undefined);\n",
       "\n",
       "    if (!this.supports_binary) {\n",
       "        var warnings = document.getElementById(\"mpl-warnings\");\n",
       "        if (warnings) {\n",
       "            warnings.style.display = 'block';\n",
       "            warnings.textContent = (\n",
       "                \"This browser does not support binary websocket messages. \" +\n",
       "                    \"Performance may be slow.\");\n",
       "        }\n",
       "    }\n",
       "\n",
       "    this.imageObj = new Image();\n",
       "\n",
       "    this.context = undefined;\n",
       "    this.message = undefined;\n",
       "    this.canvas = undefined;\n",
       "    this.rubberband_canvas = undefined;\n",
       "    this.rubberband_context = undefined;\n",
       "    this.format_dropdown = undefined;\n",
       "\n",
       "    this.image_mode = 'full';\n",
       "\n",
       "    this.root = $('<div/>');\n",
       "    this._root_extra_style(this.root)\n",
       "    this.root.attr('style', 'display: inline-block');\n",
       "\n",
       "    $(parent_element).append(this.root);\n",
       "\n",
       "    this._init_header(this);\n",
       "    this._init_canvas(this);\n",
       "    this._init_toolbar(this);\n",
       "\n",
       "    var fig = this;\n",
       "\n",
       "    this.waiting = false;\n",
       "\n",
       "    this.ws.onopen =  function () {\n",
       "            fig.send_message(\"supports_binary\", {value: fig.supports_binary});\n",
       "            fig.send_message(\"send_image_mode\", {});\n",
       "            if (mpl.ratio != 1) {\n",
       "                fig.send_message(\"set_dpi_ratio\", {'dpi_ratio': mpl.ratio});\n",
       "            }\n",
       "            fig.send_message(\"refresh\", {});\n",
       "        }\n",
       "\n",
       "    this.imageObj.onload = function() {\n",
       "            if (fig.image_mode == 'full') {\n",
       "                // Full images could contain transparency (where diff images\n",
       "                // almost always do), so we need to clear the canvas so that\n",
       "                // there is no ghosting.\n",
       "                fig.context.clearRect(0, 0, fig.canvas.width, fig.canvas.height);\n",
       "            }\n",
       "            fig.context.drawImage(fig.imageObj, 0, 0);\n",
       "        };\n",
       "\n",
       "    this.imageObj.onunload = function() {\n",
       "        fig.ws.close();\n",
       "    }\n",
       "\n",
       "    this.ws.onmessage = this._make_on_message_function(this);\n",
       "\n",
       "    this.ondownload = ondownload;\n",
       "}\n",
       "\n",
       "mpl.figure.prototype._init_header = function() {\n",
       "    var titlebar = $(\n",
       "        '<div class=\"ui-dialog-titlebar ui-widget-header ui-corner-all ' +\n",
       "        'ui-helper-clearfix\"/>');\n",
       "    var titletext = $(\n",
       "        '<div class=\"ui-dialog-title\" style=\"width: 100%; ' +\n",
       "        'text-align: center; padding: 3px;\"/>');\n",
       "    titlebar.append(titletext)\n",
       "    this.root.append(titlebar);\n",
       "    this.header = titletext[0];\n",
       "}\n",
       "\n",
       "\n",
       "\n",
       "mpl.figure.prototype._canvas_extra_style = function(canvas_div) {\n",
       "\n",
       "}\n",
       "\n",
       "\n",
       "mpl.figure.prototype._root_extra_style = function(canvas_div) {\n",
       "\n",
       "}\n",
       "\n",
       "mpl.figure.prototype._init_canvas = function() {\n",
       "    var fig = this;\n",
       "\n",
       "    var canvas_div = $('<div/>');\n",
       "\n",
       "    canvas_div.attr('style', 'position: relative; clear: both; outline: 0');\n",
       "\n",
       "    function canvas_keyboard_event(event) {\n",
       "        return fig.key_event(event, event['data']);\n",
       "    }\n",
       "\n",
       "    canvas_div.keydown('key_press', canvas_keyboard_event);\n",
       "    canvas_div.keyup('key_release', canvas_keyboard_event);\n",
       "    this.canvas_div = canvas_div\n",
       "    this._canvas_extra_style(canvas_div)\n",
       "    this.root.append(canvas_div);\n",
       "\n",
       "    var canvas = $('<canvas/>');\n",
       "    canvas.addClass('mpl-canvas');\n",
       "    canvas.attr('style', \"left: 0; top: 0; z-index: 0; outline: 0\")\n",
       "\n",
       "    this.canvas = canvas[0];\n",
       "    this.context = canvas[0].getContext(\"2d\");\n",
       "\n",
       "    var backingStore = this.context.backingStorePixelRatio ||\n",
       "\tthis.context.webkitBackingStorePixelRatio ||\n",
       "\tthis.context.mozBackingStorePixelRatio ||\n",
       "\tthis.context.msBackingStorePixelRatio ||\n",
       "\tthis.context.oBackingStorePixelRatio ||\n",
       "\tthis.context.backingStorePixelRatio || 1;\n",
       "\n",
       "    mpl.ratio = (window.devicePixelRatio || 1) / backingStore;\n",
       "\n",
       "    var rubberband = $('<canvas/>');\n",
       "    rubberband.attr('style', \"position: absolute; left: 0; top: 0; z-index: 1;\")\n",
       "\n",
       "    var pass_mouse_events = true;\n",
       "\n",
       "    canvas_div.resizable({\n",
       "        start: function(event, ui) {\n",
       "            pass_mouse_events = false;\n",
       "        },\n",
       "        resize: function(event, ui) {\n",
       "            fig.request_resize(ui.size.width, ui.size.height);\n",
       "        },\n",
       "        stop: function(event, ui) {\n",
       "            pass_mouse_events = true;\n",
       "            fig.request_resize(ui.size.width, ui.size.height);\n",
       "        },\n",
       "    });\n",
       "\n",
       "    function mouse_event_fn(event) {\n",
       "        if (pass_mouse_events)\n",
       "            return fig.mouse_event(event, event['data']);\n",
       "    }\n",
       "\n",
       "    rubberband.mousedown('button_press', mouse_event_fn);\n",
       "    rubberband.mouseup('button_release', mouse_event_fn);\n",
       "    // Throttle sequential mouse events to 1 every 20ms.\n",
       "    rubberband.mousemove('motion_notify', mouse_event_fn);\n",
       "\n",
       "    rubberband.mouseenter('figure_enter', mouse_event_fn);\n",
       "    rubberband.mouseleave('figure_leave', mouse_event_fn);\n",
       "\n",
       "    canvas_div.on(\"wheel\", function (event) {\n",
       "        event = event.originalEvent;\n",
       "        event['data'] = 'scroll'\n",
       "        if (event.deltaY < 0) {\n",
       "            event.step = 1;\n",
       "        } else {\n",
       "            event.step = -1;\n",
       "        }\n",
       "        mouse_event_fn(event);\n",
       "    });\n",
       "\n",
       "    canvas_div.append(canvas);\n",
       "    canvas_div.append(rubberband);\n",
       "\n",
       "    this.rubberband = rubberband;\n",
       "    this.rubberband_canvas = rubberband[0];\n",
       "    this.rubberband_context = rubberband[0].getContext(\"2d\");\n",
       "    this.rubberband_context.strokeStyle = \"#000000\";\n",
       "\n",
       "    this._resize_canvas = function(width, height) {\n",
       "        // Keep the size of the canvas, canvas container, and rubber band\n",
       "        // canvas in synch.\n",
       "        canvas_div.css('width', width)\n",
       "        canvas_div.css('height', height)\n",
       "\n",
       "        canvas.attr('width', width * mpl.ratio);\n",
       "        canvas.attr('height', height * mpl.ratio);\n",
       "        canvas.attr('style', 'width: ' + width + 'px; height: ' + height + 'px;');\n",
       "\n",
       "        rubberband.attr('width', width);\n",
       "        rubberband.attr('height', height);\n",
       "    }\n",
       "\n",
       "    // Set the figure to an initial 600x600px, this will subsequently be updated\n",
       "    // upon first draw.\n",
       "    this._resize_canvas(600, 600);\n",
       "\n",
       "    // Disable right mouse context menu.\n",
       "    $(this.rubberband_canvas).bind(\"contextmenu\",function(e){\n",
       "        return false;\n",
       "    });\n",
       "\n",
       "    function set_focus () {\n",
       "        canvas.focus();\n",
       "        canvas_div.focus();\n",
       "    }\n",
       "\n",
       "    window.setTimeout(set_focus, 100);\n",
       "}\n",
       "\n",
       "mpl.figure.prototype._init_toolbar = function() {\n",
       "    var fig = this;\n",
       "\n",
       "    var nav_element = $('<div/>');\n",
       "    nav_element.attr('style', 'width: 100%');\n",
       "    this.root.append(nav_element);\n",
       "\n",
       "    // Define a callback function for later on.\n",
       "    function toolbar_event(event) {\n",
       "        return fig.toolbar_button_onclick(event['data']);\n",
       "    }\n",
       "    function toolbar_mouse_event(event) {\n",
       "        return fig.toolbar_button_onmouseover(event['data']);\n",
       "    }\n",
       "\n",
       "    for(var toolbar_ind in mpl.toolbar_items) {\n",
       "        var name = mpl.toolbar_items[toolbar_ind][0];\n",
       "        var tooltip = mpl.toolbar_items[toolbar_ind][1];\n",
       "        var image = mpl.toolbar_items[toolbar_ind][2];\n",
       "        var method_name = mpl.toolbar_items[toolbar_ind][3];\n",
       "\n",
       "        if (!name) {\n",
       "            // put a spacer in here.\n",
       "            continue;\n",
       "        }\n",
       "        var button = $('<button/>');\n",
       "        button.addClass('ui-button ui-widget ui-state-default ui-corner-all ' +\n",
       "                        'ui-button-icon-only');\n",
       "        button.attr('role', 'button');\n",
       "        button.attr('aria-disabled', 'false');\n",
       "        button.click(method_name, toolbar_event);\n",
       "        button.mouseover(tooltip, toolbar_mouse_event);\n",
       "\n",
       "        var icon_img = $('<span/>');\n",
       "        icon_img.addClass('ui-button-icon-primary ui-icon');\n",
       "        icon_img.addClass(image);\n",
       "        icon_img.addClass('ui-corner-all');\n",
       "\n",
       "        var tooltip_span = $('<span/>');\n",
       "        tooltip_span.addClass('ui-button-text');\n",
       "        tooltip_span.html(tooltip);\n",
       "\n",
       "        button.append(icon_img);\n",
       "        button.append(tooltip_span);\n",
       "\n",
       "        nav_element.append(button);\n",
       "    }\n",
       "\n",
       "    var fmt_picker_span = $('<span/>');\n",
       "\n",
       "    var fmt_picker = $('<select/>');\n",
       "    fmt_picker.addClass('mpl-toolbar-option ui-widget ui-widget-content');\n",
       "    fmt_picker_span.append(fmt_picker);\n",
       "    nav_element.append(fmt_picker_span);\n",
       "    this.format_dropdown = fmt_picker[0];\n",
       "\n",
       "    for (var ind in mpl.extensions) {\n",
       "        var fmt = mpl.extensions[ind];\n",
       "        var option = $(\n",
       "            '<option/>', {selected: fmt === mpl.default_extension}).html(fmt);\n",
       "        fmt_picker.append(option);\n",
       "    }\n",
       "\n",
       "    // Add hover states to the ui-buttons\n",
       "    $( \".ui-button\" ).hover(\n",
       "        function() { $(this).addClass(\"ui-state-hover\");},\n",
       "        function() { $(this).removeClass(\"ui-state-hover\");}\n",
       "    );\n",
       "\n",
       "    var status_bar = $('<span class=\"mpl-message\"/>');\n",
       "    nav_element.append(status_bar);\n",
       "    this.message = status_bar[0];\n",
       "}\n",
       "\n",
       "mpl.figure.prototype.request_resize = function(x_pixels, y_pixels) {\n",
       "    // Request matplotlib to resize the figure. Matplotlib will then trigger a resize in the client,\n",
       "    // which will in turn request a refresh of the image.\n",
       "    this.send_message('resize', {'width': x_pixels, 'height': y_pixels});\n",
       "}\n",
       "\n",
       "mpl.figure.prototype.send_message = function(type, properties) {\n",
       "    properties['type'] = type;\n",
       "    properties['figure_id'] = this.id;\n",
       "    this.ws.send(JSON.stringify(properties));\n",
       "}\n",
       "\n",
       "mpl.figure.prototype.send_draw_message = function() {\n",
       "    if (!this.waiting) {\n",
       "        this.waiting = true;\n",
       "        this.ws.send(JSON.stringify({type: \"draw\", figure_id: this.id}));\n",
       "    }\n",
       "}\n",
       "\n",
       "\n",
       "mpl.figure.prototype.handle_save = function(fig, msg) {\n",
       "    var format_dropdown = fig.format_dropdown;\n",
       "    var format = format_dropdown.options[format_dropdown.selectedIndex].value;\n",
       "    fig.ondownload(fig, format);\n",
       "}\n",
       "\n",
       "\n",
       "mpl.figure.prototype.handle_resize = function(fig, msg) {\n",
       "    var size = msg['size'];\n",
       "    if (size[0] != fig.canvas.width || size[1] != fig.canvas.height) {\n",
       "        fig._resize_canvas(size[0], size[1]);\n",
       "        fig.send_message(\"refresh\", {});\n",
       "    };\n",
       "}\n",
       "\n",
       "mpl.figure.prototype.handle_rubberband = function(fig, msg) {\n",
       "    var x0 = msg['x0'] / mpl.ratio;\n",
       "    var y0 = (fig.canvas.height - msg['y0']) / mpl.ratio;\n",
       "    var x1 = msg['x1'] / mpl.ratio;\n",
       "    var y1 = (fig.canvas.height - msg['y1']) / mpl.ratio;\n",
       "    x0 = Math.floor(x0) + 0.5;\n",
       "    y0 = Math.floor(y0) + 0.5;\n",
       "    x1 = Math.floor(x1) + 0.5;\n",
       "    y1 = Math.floor(y1) + 0.5;\n",
       "    var min_x = Math.min(x0, x1);\n",
       "    var min_y = Math.min(y0, y1);\n",
       "    var width = Math.abs(x1 - x0);\n",
       "    var height = Math.abs(y1 - y0);\n",
       "\n",
       "    fig.rubberband_context.clearRect(\n",
       "        0, 0, fig.canvas.width / mpl.ratio, fig.canvas.height / mpl.ratio);\n",
       "\n",
       "    fig.rubberband_context.strokeRect(min_x, min_y, width, height);\n",
       "}\n",
       "\n",
       "mpl.figure.prototype.handle_figure_label = function(fig, msg) {\n",
       "    // Updates the figure title.\n",
       "    fig.header.textContent = msg['label'];\n",
       "}\n",
       "\n",
       "mpl.figure.prototype.handle_cursor = function(fig, msg) {\n",
       "    var cursor = msg['cursor'];\n",
       "    switch(cursor)\n",
       "    {\n",
       "    case 0:\n",
       "        cursor = 'pointer';\n",
       "        break;\n",
       "    case 1:\n",
       "        cursor = 'default';\n",
       "        break;\n",
       "    case 2:\n",
       "        cursor = 'crosshair';\n",
       "        break;\n",
       "    case 3:\n",
       "        cursor = 'move';\n",
       "        break;\n",
       "    }\n",
       "    fig.rubberband_canvas.style.cursor = cursor;\n",
       "}\n",
       "\n",
       "mpl.figure.prototype.handle_message = function(fig, msg) {\n",
       "    fig.message.textContent = msg['message'];\n",
       "}\n",
       "\n",
       "mpl.figure.prototype.handle_draw = function(fig, msg) {\n",
       "    // Request the server to send over a new figure.\n",
       "    fig.send_draw_message();\n",
       "}\n",
       "\n",
       "mpl.figure.prototype.handle_image_mode = function(fig, msg) {\n",
       "    fig.image_mode = msg['mode'];\n",
       "}\n",
       "\n",
       "mpl.figure.prototype.updated_canvas_event = function() {\n",
       "    // Called whenever the canvas gets updated.\n",
       "    this.send_message(\"ack\", {});\n",
       "}\n",
       "\n",
       "// A function to construct a web socket function for onmessage handling.\n",
       "// Called in the figure constructor.\n",
       "mpl.figure.prototype._make_on_message_function = function(fig) {\n",
       "    return function socket_on_message(evt) {\n",
       "        if (evt.data instanceof Blob) {\n",
       "            /* FIXME: We get \"Resource interpreted as Image but\n",
       "             * transferred with MIME type text/plain:\" errors on\n",
       "             * Chrome.  But how to set the MIME type?  It doesn't seem\n",
       "             * to be part of the websocket stream */\n",
       "            evt.data.type = \"image/png\";\n",
       "\n",
       "            /* Free the memory for the previous frames */\n",
       "            if (fig.imageObj.src) {\n",
       "                (window.URL || window.webkitURL).revokeObjectURL(\n",
       "                    fig.imageObj.src);\n",
       "            }\n",
       "\n",
       "            fig.imageObj.src = (window.URL || window.webkitURL).createObjectURL(\n",
       "                evt.data);\n",
       "            fig.updated_canvas_event();\n",
       "            fig.waiting = false;\n",
       "            return;\n",
       "        }\n",
       "        else if (typeof evt.data === 'string' && evt.data.slice(0, 21) == \"data:image/png;base64\") {\n",
       "            fig.imageObj.src = evt.data;\n",
       "            fig.updated_canvas_event();\n",
       "            fig.waiting = false;\n",
       "            return;\n",
       "        }\n",
       "\n",
       "        var msg = JSON.parse(evt.data);\n",
       "        var msg_type = msg['type'];\n",
       "\n",
       "        // Call the  \"handle_{type}\" callback, which takes\n",
       "        // the figure and JSON message as its only arguments.\n",
       "        try {\n",
       "            var callback = fig[\"handle_\" + msg_type];\n",
       "        } catch (e) {\n",
       "            console.log(\"No handler for the '\" + msg_type + \"' message type: \", msg);\n",
       "            return;\n",
       "        }\n",
       "\n",
       "        if (callback) {\n",
       "            try {\n",
       "                // console.log(\"Handling '\" + msg_type + \"' message: \", msg);\n",
       "                callback(fig, msg);\n",
       "            } catch (e) {\n",
       "                console.log(\"Exception inside the 'handler_\" + msg_type + \"' callback:\", e, e.stack, msg);\n",
       "            }\n",
       "        }\n",
       "    };\n",
       "}\n",
       "\n",
       "// from http://stackoverflow.com/questions/1114465/getting-mouse-location-in-canvas\n",
       "mpl.findpos = function(e) {\n",
       "    //this section is from http://www.quirksmode.org/js/events_properties.html\n",
       "    var targ;\n",
       "    if (!e)\n",
       "        e = window.event;\n",
       "    if (e.target)\n",
       "        targ = e.target;\n",
       "    else if (e.srcElement)\n",
       "        targ = e.srcElement;\n",
       "    if (targ.nodeType == 3) // defeat Safari bug\n",
       "        targ = targ.parentNode;\n",
       "\n",
       "    // jQuery normalizes the pageX and pageY\n",
       "    // pageX,Y are the mouse positions relative to the document\n",
       "    // offset() returns the position of the element relative to the document\n",
       "    var x = e.pageX - $(targ).offset().left;\n",
       "    var y = e.pageY - $(targ).offset().top;\n",
       "\n",
       "    return {\"x\": x, \"y\": y};\n",
       "};\n",
       "\n",
       "/*\n",
       " * return a copy of an object with only non-object keys\n",
       " * we need this to avoid circular references\n",
       " * http://stackoverflow.com/a/24161582/3208463\n",
       " */\n",
       "function simpleKeys (original) {\n",
       "  return Object.keys(original).reduce(function (obj, key) {\n",
       "    if (typeof original[key] !== 'object')\n",
       "        obj[key] = original[key]\n",
       "    return obj;\n",
       "  }, {});\n",
       "}\n",
       "\n",
       "mpl.figure.prototype.mouse_event = function(event, name) {\n",
       "    var canvas_pos = mpl.findpos(event)\n",
       "\n",
       "    if (name === 'button_press')\n",
       "    {\n",
       "        this.canvas.focus();\n",
       "        this.canvas_div.focus();\n",
       "    }\n",
       "\n",
       "    var x = canvas_pos.x * mpl.ratio;\n",
       "    var y = canvas_pos.y * mpl.ratio;\n",
       "\n",
       "    this.send_message(name, {x: x, y: y, button: event.button,\n",
       "                             step: event.step,\n",
       "                             guiEvent: simpleKeys(event)});\n",
       "\n",
       "    /* This prevents the web browser from automatically changing to\n",
       "     * the text insertion cursor when the button is pressed.  We want\n",
       "     * to control all of the cursor setting manually through the\n",
       "     * 'cursor' event from matplotlib */\n",
       "    event.preventDefault();\n",
       "    return false;\n",
       "}\n",
       "\n",
       "mpl.figure.prototype._key_event_extra = function(event, name) {\n",
       "    // Handle any extra behaviour associated with a key event\n",
       "}\n",
       "\n",
       "mpl.figure.prototype.key_event = function(event, name) {\n",
       "\n",
       "    // Prevent repeat events\n",
       "    if (name == 'key_press')\n",
       "    {\n",
       "        if (event.which === this._key)\n",
       "            return;\n",
       "        else\n",
       "            this._key = event.which;\n",
       "    }\n",
       "    if (name == 'key_release')\n",
       "        this._key = null;\n",
       "\n",
       "    var value = '';\n",
       "    if (event.ctrlKey && event.which != 17)\n",
       "        value += \"ctrl+\";\n",
       "    if (event.altKey && event.which != 18)\n",
       "        value += \"alt+\";\n",
       "    if (event.shiftKey && event.which != 16)\n",
       "        value += \"shift+\";\n",
       "\n",
       "    value += 'k';\n",
       "    value += event.which.toString();\n",
       "\n",
       "    this._key_event_extra(event, name);\n",
       "\n",
       "    this.send_message(name, {key: value,\n",
       "                             guiEvent: simpleKeys(event)});\n",
       "    return false;\n",
       "}\n",
       "\n",
       "mpl.figure.prototype.toolbar_button_onclick = function(name) {\n",
       "    if (name == 'download') {\n",
       "        this.handle_save(this, null);\n",
       "    } else {\n",
       "        this.send_message(\"toolbar_button\", {name: name});\n",
       "    }\n",
       "};\n",
       "\n",
       "mpl.figure.prototype.toolbar_button_onmouseover = function(tooltip) {\n",
       "    this.message.textContent = tooltip;\n",
       "};\n",
       "mpl.toolbar_items = [[\"Home\", \"Reset original view\", \"fa fa-home icon-home\", \"home\"], [\"Back\", \"Back to previous view\", \"fa fa-arrow-left icon-arrow-left\", \"back\"], [\"Forward\", \"Forward to next view\", \"fa fa-arrow-right icon-arrow-right\", \"forward\"], [\"\", \"\", \"\", \"\"], [\"Pan\", \"Pan axes with left mouse, zoom with right\", \"fa fa-arrows icon-move\", \"pan\"], [\"Zoom\", \"Zoom to rectangle\", \"fa fa-square-o icon-check-empty\", \"zoom\"], [\"\", \"\", \"\", \"\"], [\"Download\", \"Download plot\", \"fa fa-floppy-o icon-save\", \"download\"]];\n",
       "\n",
       "mpl.extensions = [\"eps\", \"jpeg\", \"pdf\", \"png\", \"ps\", \"raw\", \"svg\", \"tif\"];\n",
       "\n",
       "mpl.default_extension = \"png\";var comm_websocket_adapter = function(comm) {\n",
       "    // Create a \"websocket\"-like object which calls the given IPython comm\n",
       "    // object with the appropriate methods. Currently this is a non binary\n",
       "    // socket, so there is still some room for performance tuning.\n",
       "    var ws = {};\n",
       "\n",
       "    ws.close = function() {\n",
       "        comm.close()\n",
       "    };\n",
       "    ws.send = function(m) {\n",
       "        //console.log('sending', m);\n",
       "        comm.send(m);\n",
       "    };\n",
       "    // Register the callback with on_msg.\n",
       "    comm.on_msg(function(msg) {\n",
       "        //console.log('receiving', msg['content']['data'], msg);\n",
       "        // Pass the mpl event to the overridden (by mpl) onmessage function.\n",
       "        ws.onmessage(msg['content']['data'])\n",
       "    });\n",
       "    return ws;\n",
       "}\n",
       "\n",
       "mpl.mpl_figure_comm = function(comm, msg) {\n",
       "    // This is the function which gets called when the mpl process\n",
       "    // starts-up an IPython Comm through the \"matplotlib\" channel.\n",
       "\n",
       "    var id = msg.content.data.id;\n",
       "    // Get hold of the div created by the display call when the Comm\n",
       "    // socket was opened in Python.\n",
       "    var element = $(\"#\" + id);\n",
       "    var ws_proxy = comm_websocket_adapter(comm)\n",
       "\n",
       "    function ondownload(figure, format) {\n",
       "        window.open(figure.imageObj.src);\n",
       "    }\n",
       "\n",
       "    var fig = new mpl.figure(id, ws_proxy,\n",
       "                           ondownload,\n",
       "                           element.get(0));\n",
       "\n",
       "    // Call onopen now - mpl needs it, as it is assuming we've passed it a real\n",
       "    // web socket which is closed, not our websocket->open comm proxy.\n",
       "    ws_proxy.onopen();\n",
       "\n",
       "    fig.parent_element = element.get(0);\n",
       "    fig.cell_info = mpl.find_output_cell(\"<div id='\" + id + \"'></div>\");\n",
       "    if (!fig.cell_info) {\n",
       "        console.error(\"Failed to find cell for figure\", id, fig);\n",
       "        return;\n",
       "    }\n",
       "\n",
       "    var output_index = fig.cell_info[2]\n",
       "    var cell = fig.cell_info[0];\n",
       "\n",
       "};\n",
       "\n",
       "mpl.figure.prototype.handle_close = function(fig, msg) {\n",
       "    var width = fig.canvas.width/mpl.ratio\n",
       "    fig.root.unbind('remove')\n",
       "\n",
       "    // Update the output cell to use the data from the current canvas.\n",
       "    fig.push_to_output();\n",
       "    var dataURL = fig.canvas.toDataURL();\n",
       "    // Re-enable the keyboard manager in IPython - without this line, in FF,\n",
       "    // the notebook keyboard shortcuts fail.\n",
       "    IPython.keyboard_manager.enable()\n",
       "    $(fig.parent_element).html('<img src=\"' + dataURL + '\" width=\"' + width + '\">');\n",
       "    fig.close_ws(fig, msg);\n",
       "}\n",
       "\n",
       "mpl.figure.prototype.close_ws = function(fig, msg){\n",
       "    fig.send_message('closing', msg);\n",
       "    // fig.ws.close()\n",
       "}\n",
       "\n",
       "mpl.figure.prototype.push_to_output = function(remove_interactive) {\n",
       "    // Turn the data on the canvas into data in the output cell.\n",
       "    var width = this.canvas.width/mpl.ratio\n",
       "    var dataURL = this.canvas.toDataURL();\n",
       "    this.cell_info[1]['text/html'] = '<img src=\"' + dataURL + '\" width=\"' + width + '\">';\n",
       "}\n",
       "\n",
       "mpl.figure.prototype.updated_canvas_event = function() {\n",
       "    // Tell IPython that the notebook contents must change.\n",
       "    IPython.notebook.set_dirty(true);\n",
       "    this.send_message(\"ack\", {});\n",
       "    var fig = this;\n",
       "    // Wait a second, then push the new image to the DOM so\n",
       "    // that it is saved nicely (might be nice to debounce this).\n",
       "    setTimeout(function () { fig.push_to_output() }, 1000);\n",
       "}\n",
       "\n",
       "mpl.figure.prototype._init_toolbar = function() {\n",
       "    var fig = this;\n",
       "\n",
       "    var nav_element = $('<div/>');\n",
       "    nav_element.attr('style', 'width: 100%');\n",
       "    this.root.append(nav_element);\n",
       "\n",
       "    // Define a callback function for later on.\n",
       "    function toolbar_event(event) {\n",
       "        return fig.toolbar_button_onclick(event['data']);\n",
       "    }\n",
       "    function toolbar_mouse_event(event) {\n",
       "        return fig.toolbar_button_onmouseover(event['data']);\n",
       "    }\n",
       "\n",
       "    for(var toolbar_ind in mpl.toolbar_items){\n",
       "        var name = mpl.toolbar_items[toolbar_ind][0];\n",
       "        var tooltip = mpl.toolbar_items[toolbar_ind][1];\n",
       "        var image = mpl.toolbar_items[toolbar_ind][2];\n",
       "        var method_name = mpl.toolbar_items[toolbar_ind][3];\n",
       "\n",
       "        if (!name) { continue; };\n",
       "\n",
       "        var button = $('<button class=\"btn btn-default\" href=\"#\" title=\"' + name + '\"><i class=\"fa ' + image + ' fa-lg\"></i></button>');\n",
       "        button.click(method_name, toolbar_event);\n",
       "        button.mouseover(tooltip, toolbar_mouse_event);\n",
       "        nav_element.append(button);\n",
       "    }\n",
       "\n",
       "    // Add the status bar.\n",
       "    var status_bar = $('<span class=\"mpl-message\" style=\"text-align:right; float: right;\"/>');\n",
       "    nav_element.append(status_bar);\n",
       "    this.message = status_bar[0];\n",
       "\n",
       "    // Add the close button to the window.\n",
       "    var buttongrp = $('<div class=\"btn-group inline pull-right\"></div>');\n",
       "    var button = $('<button class=\"btn btn-mini btn-primary\" href=\"#\" title=\"Stop Interaction\"><i class=\"fa fa-power-off icon-remove icon-large\"></i></button>');\n",
       "    button.click(function (evt) { fig.handle_close(fig, {}); } );\n",
       "    button.mouseover('Stop Interaction', toolbar_mouse_event);\n",
       "    buttongrp.append(button);\n",
       "    var titlebar = this.root.find($('.ui-dialog-titlebar'));\n",
       "    titlebar.prepend(buttongrp);\n",
       "}\n",
       "\n",
       "mpl.figure.prototype._root_extra_style = function(el){\n",
       "    var fig = this\n",
       "    el.on(\"remove\", function(){\n",
       "\tfig.close_ws(fig, {});\n",
       "    });\n",
       "}\n",
       "\n",
       "mpl.figure.prototype._canvas_extra_style = function(el){\n",
       "    // this is important to make the div 'focusable\n",
       "    el.attr('tabindex', 0)\n",
       "    // reach out to IPython and tell the keyboard manager to turn it's self\n",
       "    // off when our div gets focus\n",
       "\n",
       "    // location in version 3\n",
       "    if (IPython.notebook.keyboard_manager) {\n",
       "        IPython.notebook.keyboard_manager.register_events(el);\n",
       "    }\n",
       "    else {\n",
       "        // location in version 2\n",
       "        IPython.keyboard_manager.register_events(el);\n",
       "    }\n",
       "\n",
       "}\n",
       "\n",
       "mpl.figure.prototype._key_event_extra = function(event, name) {\n",
       "    var manager = IPython.notebook.keyboard_manager;\n",
       "    if (!manager)\n",
       "        manager = IPython.keyboard_manager;\n",
       "\n",
       "    // Check for shift+enter\n",
       "    if (event.shiftKey && event.which == 13) {\n",
       "        this.canvas_div.blur();\n",
       "        // select the cell after this one\n",
       "        var index = IPython.notebook.find_cell_index(this.cell_info[0]);\n",
       "        IPython.notebook.select(index + 1);\n",
       "    }\n",
       "}\n",
       "\n",
       "mpl.figure.prototype.handle_save = function(fig, msg) {\n",
       "    fig.ondownload(fig, null);\n",
       "}\n",
       "\n",
       "\n",
       "mpl.find_output_cell = function(html_output) {\n",
       "    // Return the cell and output element which can be found *uniquely* in the notebook.\n",
       "    // Note - this is a bit hacky, but it is done because the \"notebook_saving.Notebook\"\n",
       "    // IPython event is triggered only after the cells have been serialised, which for\n",
       "    // our purposes (turning an active figure into a static one), is too late.\n",
       "    var cells = IPython.notebook.get_cells();\n",
       "    var ncells = cells.length;\n",
       "    for (var i=0; i<ncells; i++) {\n",
       "        var cell = cells[i];\n",
       "        if (cell.cell_type === 'code'){\n",
       "            for (var j=0; j<cell.output_area.outputs.length; j++) {\n",
       "                var data = cell.output_area.outputs[j];\n",
       "                if (data.data) {\n",
       "                    // IPython >= 3 moved mimebundle to data attribute of output\n",
       "                    data = data.data;\n",
       "                }\n",
       "                if (data['text/html'] == html_output) {\n",
       "                    return [cell, data, j];\n",
       "                }\n",
       "            }\n",
       "        }\n",
       "    }\n",
       "}\n",
       "\n",
       "// Register the function which deals with the matplotlib target/channel.\n",
       "// The kernel may be null if the page has been refreshed.\n",
       "if (IPython.notebook.kernel != null) {\n",
       "    IPython.notebook.kernel.comm_manager.register_target('matplotlib', mpl.mpl_figure_comm);\n",
       "}\n"
      ],
      "text/plain": [
       "<IPython.core.display.Javascript object>"
      ]
     },
     "metadata": {},
     "output_type": "display_data"
    },
    {
     "data": {
      "text/html": [
       "<img src=\"data:image/png;base64,iVBORw0KGgoAAAANSUhEUgAAA+gAAAH0CAYAAACuKActAAAgAElEQVR4nOzdeXhU5d2H8RO2gGBQrAtKHKAaiYJWtNaqhVqs1qXS1xVaS2pditYC1bbDZsYFKCAIKLgh4ooLBsGOIIIiCCi4BEGCsoclgAQlLGFL8n3/OMwwy5kwmZzDmRnuz3U9lzCZzPwmYPLczMw5hgAAAAAAgOsMtwcAAAAAAAAEOgAAAAAASYFABwAAAAAgCRDoAAAAAAAkAQIdAAAAAIAkQKADAAAAAJAECHQAAAAAAJIAgQ4AAAAAQBIg0AEAAAAASAIEOgAAAAAASYBABwAAAAAgCRDoAAAAAAAkAQIdAAAAAIAkQKBbqKys1Pr167V9+3aVlZWxWCwWK83W9u3btX79elVWVrr9IyftHDhwQAsXLlRxcbHWr1/PYrFYrDRbxcXFWrhwoQ4cOOD2j5y0RKBbWL9+vQzDYLFYLFaar/Xr17v9IyftLFy40PU/VxaLxWI5vxYuXOj2j5y0RKBb2L59uwzD3Li5/SwPi8VisexfgX+I3b59u9s/ctJOcXFxcOPm9rM8LBaLxbJ/Bf4htri42O0fOWmJQLdQVlYmwzA0o3CNKiqr3B4HAGCzwPf5srIyt0dJO+vXrw/+IzcAIP3wfd5ZBLqFwMbthvsf0SUDp2vakhK3RwIA2IhAdw4bNwBIb3yfdxaBbiG4cet9rDbmt9Tf+uQT6QCQRgh057BxA4D0xvd5ZxHoFkIDvTI/S5X5WfI+OoCXuwNAmiDQncPGDQDSG9/nnUWgWwgNdPnMQN+Y30rzl29xezQADqqoqNCePXtYabAqKiqq/bMm0J3Dxg1AKmMvcPifoXyfdxaBbiEy0APrkw8muT0aAAdUVVWppKRERUVFrDRaJSUlqqqyfuUTge4cNm4AUhF7gfh/hvJ93lkEuoVYgf7djBfcHg2AAwI/kEtLS1VeXu76v1yzarfKy8tVWloa3GBYIdCdw8YNQCpiLxD/z1C+zzuLQLcQK9C/faOf26MBsFlFRUXwBzLSS2CDYfVSPQLdOWzcAKQa9gLRqvsZyvd5ZxHoFqwCvSo/S5t9rVRx4IDb4wGw0Z49e1RUVKTy8nK3R4HNysvLVVRUpD179kR9jEB3Dhs3AKmGvUC06n6G8n3eWQS6hVjPoMuXpW/m+t0eD4CNAj+UrX4AIbVV92d7tAT67Nmzdd1116l58+YyDEPvvPPOYT/n448/Vvv27ZWZmalWrVrp6aefrtF9snEDkGrYC0Sr7mvC93lnEegWqgv0z//3rNvjAbARP5TDdezYUT179nR7DFsQ6NLUqVPVr18/FRQUxBXoq1ev1jHHHKOePXuqqKhIY8eOVf369fX222/HfZ9s3ACkmnTeC2zatElXXHGFjjnmGDVt2jTmZZEIdPcQ6BZ4Bh04eqTqD2XDMKpdeXl5Cd3utm3btGPHDnuHdQmBHi6eQP/Pf/6jNm3ahF32t7/9TRdffHHc98PGDUCqSdW9gCTl5eVZ7gOuuuoqSeb39XPOOUfLly/Xli1bYl4WiUB3D4FuwSrQK/OztIn3oANpx84fyhWVVZq/slSTCzdo/spSVVRan57EDps2bQqukSNHKisrK+yy7du3h11///79js2SrAj0cPEE+q9+9Sv16NEj7LJJkyapXr16Mf8O7d27V2VlZcFVVFTExg1ASrF1L1AhzZolTZhg/vcwpxSvtby8PP3ud78L2wNs2rRJP/zwgyTpxhtvVLdu3cI+x+qySAS6ewh0C5GBXplvrq/ef9Ht0QDYzK4fytOWlOjiQTPl8fqD6+JBMzVtifUpSuw0fvz4sJeorVmzRoZh6M0331THjh2VmZmpF154QaWlperSpYtOO+00NWrUSG3bttWECRPCbivyJe4ej0cDBw7U7bffriZNmig7O1vPPpsab/Uh0MPFE+hnnnmmBg4cGHbZvHnzZBhGzNPt+Hw+y2dv2LgBSBV27QUKCqQWLSTDOLRatDAvd0peXp46d+5s+TGPxxP16jqry6wQ6O4h0C1EBvo2Xwt9NY1zoAPpyI4fytOWlKhlSJgHVsuDy+lIjxXoLVu2VEFBgVavXq2NGzdqw4YNeuyxx1RYWKhVq1bpiSeeUN26dfXZZ58FP9cq0Js1a6YxY8ZoxYoV+u9//6s6depo2bJljj4mOxDo4eIN9EGDBoVdNnfuXBmGoU2bNll+Ds+gA0h1duwFCgqkjIzwODcM87KMDOcivbpA//777/W73/1Ot9xyS/DVdVaXWSHQ3UOgW7B8D/rwNtLSKW6PBsBmVj+AqqqqtHvfgbjWjj37ddHAGVFxHhrpvxg4Uzv27D/sbVVVJfaS+FiBPnLkyMN+7jXXXKMHHngg+HurQL/tttvCvjYnnXRSjY/s7QYCPZxTL3GPxMYNQKqx3gtIu3bFt8rKpNNOi47z0Ehv0cK8Xjy3V5PtQF5enurWravGjRuHrUceeUSS1Llz56hnya0ui+drEsD3eWcR6BasDxLX1FxEOpBWrH4A7d53IGZwO7l270vsGBexAn3u3Llh16uoqNCAAQPUrl07NWvWTI0bN1a9evV08803B69jFehDhw4Nu51zzz1XDz/8cEKzHkkEerh4DxKXm5sbdln37t05SByAtGb182LXrtjB7fTatSv+2fPy8nTFFVdoxYoVYWvbtm2SCPRURKBbiH0U96bS8Fyp0uGjPQA4YtI50AsLC8OuN2TIEJ1wwgl65ZVXtGjRIq1YsULXXntt2EvjrAJ9xIgRYbdz3nnnyefzJTTrkUSgSzt37lRhYaEKCwtlGIYef/xxFRYWqri4WJLUu3dv/fnPfw5eP3CatX/+858qKirSuHHjOM0agLSX6oEe6yXuEoGeigh0C9WdZk2+LGn1HLdHBGCT2r7Efda3W+KK71nfbjniL3GPDPTrrrtOf/3rX4O/r6ysVE5ODoGexmbNmmV5ALfAxiwvL08dO3YM+5yPP/5Y559/vho0aKCWLVvW+O0MbNwApJravsR96tT4wnvqVGde4k6gpxcC3cJhA33xRLdHBGCT2h4YpqKyShcPmml5kLjAe9AvHjTT0VOuxRvovXr1UnZ2tubNm6eioiLdeeedysrKItBhKzZuAFJNrfcCFeZ7zK0OEhd4D3p2tjOnXIt1mrWtW7dKItBTUVoG+o4dO3ThhRfqvPPOU9u2bfXcc8/V6PN5Bh04eth5FPfISHf7KO6Rgb5t2zZ17txZTZo00UknnaT+/furW7duBDpsxcYNQKqx8yjukZF+JI7ibvVKqbPOOksSgZ6K0jLQKyoqtHv3bknS7t271apVK5WWlsb9+bECvTI/S5t8rVRxILH3iQJIPulwHnRYI9DdwcYNQKpx8jzo2dnOngfdKQS6e9Iy0ENt27ZNp59+evBlHvGwCvTKfHPd3Sdf81fGH/sAkptdP5Ql8+Xu81eWanLhBs1fWeroy9pxeAS6O9i4AUg1tu4FKqRZs6QJE8z/OvGy9iOBQHdPUgb67Nmzdd1116l58+YxTwszZswYtWzZUpmZmWrfvr3mzAl/2fmPP/6oc889V40aNdLo0aNrdP9Wgb4xv5Xu7pMvj9evyYUbavX4ACQPO38oI7kQ6O5g4wYg1bAXiEaguycpA33q1Knq16+fCgoKLAP9jTfeUP369TV27FgVFRWpZ8+eaty4cfC0MaE2b96sSy65RJs3b477/gMbtw//3V7yZen5freolffd4MtWeQYdSB/8UE5fBLo72LgBSDXsBaIR6O5JykAPZRXoF110kbp37x52WZs2bdS7d2/L2+jevbveeuutmPexd+9elZWVBVfgL93Yf10j+bI0rO9fj9jRmAEcWfxQTl8EujvYuAFINewFohHo7km5QN+3b5/q1q2rSZMmhV2vR48e6tChgyTzWfPApqusrExnn322vv7665j34fP5LI9+OOxft0i+LM3qf5lu7TNUrb3vcsAnIM3wQzl9EejuYOMGINWwF4hGoLsn5QJ948aNMgxD8+bNC7vewIEDlZOTI0n64osvdN555+ncc89Vu3bt9NRTT1V7H7GeQV/nPSnsKO7lg3OkpVPsf5AAXMMP5fRFoLuDjRuAVBP4eVFeXu72KEmjvLycQHdJygb6/Pnzw643YMCA4Pn+aiuwcdsedR70puYi0oG0QaCnLwLdHWzcAKSaiooKFRUV1ei0zOmutLRURUVFqrA4DD3f552VcoEez0vcayvWedCDkT48V6pM0XMmAAhDoKcvAt0dbNwApKKSkpJgpJeXl2vPnj1H5SovLw/GeUmJ9Vt7+T7vrJQLdMk8SNw999wTdllubm7Mg8TVVPWBfnCtnnP4GwKQ9Aj09EWgu4ONG4BUVFVVFYx0lhnnVVXWB8bm+7yzkjLQd+7cqcLCQhUWFsowDD3++OMqLCwMnkYtcJq1cePGqaioSL169VLjxo21du1aW+4/rkBfPNGW+wLgrqM50Dt27KiePXsGf+/xeDRixIhqP8fqH00TYdftVIdAdwcbNwCprKKiwvVnsd1eVi9rD8X3eWclZaDPmjXL8qjqeXl5weuMGTNGHo9HDRo0UPv27TV79mzb7p9n0IGjR6oG+nXXXadOnTpZfmz+/PkyDENffvlltbcRGejff/+9du/eXe3n1DSsfT6fzjvvvKjLN23apL1798Z9O4kg0N0R2LhtGj1amjVLOsxGL6Ciwrz6q69KI0aY/4316VbXnT5dGjpU6txZ+u1vJa9XGjbM/NjMmeaaMCH8Nq1uJ/S6kZ+3b1/1M9bkMYReP3SueG7D6vOqu+1Yjz+emROdsbo545m/NrdR3XzxfN7hvmbxzhjvdROZKZ75Ij93+nSpb1/pj3+U/vQn89czZx6aYeZMqX9/c4VeHnkbkdeJdb+Br//LL4f/N/LPI/J+rf4/q+njjfy7Enof06eHP47p062/roFfV/f/htXX7HAi5ww83lj/jw0fbv5ZxfpziXUb1f39ifdbs9X9zJwp9ehBoDspKQPdbbwHHTh62BrolRXmP94tnmj+18HvE++8844yMjIsXzl055136mc/+9lhbyMy0ONhV6AfCQS6OwKBXmYYkmFILVpIBQXVfs6bb0pNm5pXj1wNG0qXXSZ17Wquyy6TjjnG+rrxroYNpTZtan878d5e5GOI9Tjq15caNKj+Nqw+r6Zfo+pu63CPqW7dw88Ya4bMTCk7O/rzrb4+id5GdY/J6utbr57Utq106aXxfc1C57v1Vqldu9o9nnr1zLlq+lgiV2am+TguuUTq1Onwjyfyz7RevejL69SJ/Wcd+jWN/LvXqFF891u/vvX9xvv/3OH+zgf+Did6H9Xdd5s21l+byK9H6N+VTp2ks84y/6wO93Wp7utep87hH1M83+MCf/e7dIme9/DfRwh0JxluD5CMOIo7cPSwLdCXTpGGtwn/njG8jWPfLw4cOKCTTz5ZDz30UNjlu3fv1rHHHquHHnpIXbp00WmnnaZGjRqpbdu2mjBhQth1D/cS9+XLl+tXv/qVMjMzlZubqw8++ECRgf6f//xHZ555pho1aqRWrVqpf//+2r9/vyRp/Pjxinwl1Pjx4yUp6nYWL16syy+/XA0bNlSzZs101113aefOncGP5+XlqXPnznrsscd0yimnqFmzZrr33nuD92WFQHdHVKBnZJgrRqRff729m2cWi8ViOb0IdCcZbg+QTEaPHq3c3Fzl5OSYf+kebB2x2c4lzoE0Y0ugL51y8B/wLF5x4+A/6v373/9Wy5Ytww7i8uKLLyozM1MbNmzQY489psLCQq1atUpPPPGE6tatq88++yx43eoCvbKyUm3bttWvf/1rFRYWavbs2Tr//PMVGdaPPvqo5s2bpzVr1ujdd9/VySefrCFDhkgyz6H6wAMP6JxzztGmTZu0adOm4DlmQ29n9+7dOvXUU3XDDTdoyZIl+vDDD9WqVauwtzXl5eUpKytL3bt317Jly/S///1PxxxzjJ577rmYXx8C3R1RgW4YZqBnZ0e9pvL3v3d7k8lisVismi8C3UmG2wMko8DGbfA7C1UciPR5T/CydiANWUZcVZW0b1d8a0+ZNOys2Mer8DU1n0nfU3b424pxtNRYli1bJsMw9NFHHwUv69Chg7p27Wp5/WuuuUYPPPBA8PfVBfr06dNVt27dsB++06ZN0+Fe4j506FBdcMEFwd/Heol76O0899xzOv7447Vr167gx9977z3VqVNHmzdvlmQGusfjCTtwzc0336xbb7015iwEujssAz2wZs0KXq9XL7c3mCwWi8VKbBHoTjLcHiAZBTZuI6cWauGDF5qbbJ45B9KSZcTt21VNcDu49u2KPWgMl1xyiW677TZJ0sqVK5WRkaEZM2aooqJCAwYMULt27dSsWTM1btxY9erV08033xz83OoCfeTIkWrVqlXYfW3fvl2RgT5x4kRdeumlOvnkk9W4cWNlZmbqxBNPDH48nkD/5z//qV//+teW9xU4AGheXp6uueaasOv06NFDl19+ecyvDYHujmoD/eDbLO6/3+3NJYvFYrESXwS6kwy3B0hGgY3bszOXaGb/jubG+cuX3R4LgANSPdDHjRunRo0aqaysTP369Qu+5H3IkCE64YQT9Morr2jRokVasWKFrr32WnXu3Dn4udUF+ogRI6ICPfC9MRDWn376qerWrasBAwbo888/1/Lly/XII4+oadOmwc+JJ9B79eoVFdqBQJ8zxzxjRuA96KF69uypjh07xvzaEOjuONwz6MQ5i8Vipfoi0J1kuD1AMgps3F7+uEjv9P/dwZe4P+n2WAAcUOuXuC//IL74Xv6B7S9xl6SdO3eqSZMmevrpp9WiRQs9/PDDkszTsP31r38NXq+yslI5OTlxB3rgJe4bN24Mfvz9999XaFgPGzZMrVu3DpvnjjvuCAv0gQMHqm3btlFzJ/ISdwI9NVT3HvQHelUkwcaSxWKxWLVbBLqTDLcHSEaBjdtbc7/VS/1ulHxZWv92P1VU1nzzDCC51fogcZUVB4/ebnWQuCNzasY77rhDxx9/vOrUqaPi4mJJ5rPS2dnZmjdvnoqKinTnnXcqKysr7kCvrKzU2WefrU6dOmnRokWaM2eOLrjgAoWG9eTJk1WvXj29/vrrWrlypUaNGqVmzZqFBfprr72mxo0bq7CwUFu3bg2e+zzyIHHNmzfXjTfeqCVLluijjz5S69atow4SR6CnhlhHcR9/fUESbCpZLBaLVftFoDvJcHuAZBTYuLXrM0lP9vuz5MvSC/1u1sWDZmrakhK3xwNgI3uP4h4Z6Ufm1Izz58+XYRi68sorg5dt27ZNnTt3VpMmTXTSSSepf//+6tatW9yBLknfffedLrvsMjVo0EA5OTlRz6BL5pHkTzjhBDVp0kS33nqrRowYERboe/fu1Y033qjjjjtOdpxmLRSBnpyiAj07W/MeIM5ZLBYrfRaB7iTD7QGSUWDjlt3rLQ3qe5fky9JnD/5ct/YZqtbed4l0II04ex50Ts3oJgLdHWGB3rWrKvZVKCvL7c0ki8UKrLp1pXr13J+DlcqLQHeS4fYAySiwcfvL/V79mN88bMO9Mb+lvI8O4OXuQJqwLdAl82Xsq+dIiyea/+XUjK4i0N0RFuherx5+uOabv6uukoYPl3r3lv74R6lr1/D1pz+ZHxs2THr5ZfO6fftK/ftLM2dK+/aZZ3R79dVDH+vbVxo6NPw2rW7H6uOBz7vttppd32p2q8cRev14bqMm1xk82Px1587S3XdLXm/49eP5GvznP+bnXn+9dMUV5seq+5xYc3bpInXqJF16qfnxIUMO/3VK5Daqe0yhX5euXaVLLjFvr0uX8PuK9XcmdN16qz2P54orzK9tdX8+kTNFzhf4ulT3eAL/f1RUmGvmTPPy6v7eWd3G9OnmCnzu4R5r4M9hxAjrP4++fcNv87bbzL9z3bub6557pD59Dv/nYfUYbr3V/Pp27mxePm2a+RhCH0f//tZf18P9HbCaPdbXI/B35ZJLzHm83ujvK1bfB4YNM7+PzZxp3kfv3tZ/56xuI9bfH6u/+/H+fb3tNvM2Xn+dQHcSgW4hsHH70XusqvLD309amW+ubz961e0xAdjA1kBHUiHQ3REa6JUP/FvNmtUszu+/3+1HAACoTuD7PIHuDAI9xOjRo5Wbm6ucnJxgoFsd9KkyP0u7B+fw7BiQBgj09EWguyM00Itv/RdxDgBphkB3FoFuIbhx620d6MG1eo7bowKoJQI9fRHo7ggN9KJrHyDOASDNEOjOItAtxB3oiye6PSqAWiLQ0xeB7o7QQF938/1xxfnNN7s9NQAgXgS6swh0CzyDDhw9AhFXXl7u9iiwWXl5OYHugtBA/+7afx42zps1Mw9YBQBIDQS6swh0C8GDxMUM9Kbm6ZN4DzqQ8ioqKlRUVKTS0lK3R4HNSktLVVRUpAqL+iPQnRMa6GOb9DpsoE/kxWgAkFIIdGcR6BYCG7ftvc0DwkXFua8p5zYG0khJSUkw0svLy7Vnzx5WCq/y8vJgnJeUlFj+mRPozgkN9BFGz8MG+qxZbk8MAKgJAt1ZBLqF4MZtwevalN8yPNCH5xLnQJqpqqoKRjorfVZJSYmqqqos/8wJdOeEBvpIo8dhA33CBLcnBgDUBIHuLALdQujGrf1DU7Ut/1Qzzj9/gZe1A2msoqLC9Wd/WfYsq5e1hyLQnRMa6KOMf/AMOgCkGQLdWQS6hdCN20UDZ2jFg204KBwApBEC3Tmhgf5C4/uUkWEd5hkZUnY2B4gDgFRDoDuLQLcQunG7bMiHKnzwZ2agfzvV7dEAADYg0J0TGujzfnZvzGfOMzKkggK3pwUA1BSB7iwCPcTo0aOVm5urnJyc4Mat0/CPNbf/L81A//pNt0cEANiAQHdOaKA/ZdwTM9D//W+3JwUAJIJAdxaBbiF043b1yDl6v/9vzEBf+LzbowEAbECgOyc80LvHDHRe3g4AqYlAdxaBbiF049Z59Fy93f8aM9DnjnR7NACADQh054QG+tPG3zhAHACkGQLdWQS6hdCN2y3PzNeL/W40A/3DR90eDQBgAwLdOaGB/oxxN6dYA4A0Q6A7i0C3ELpxu+35zzSm321moE/1uj0aAMAGBLpzQgP9WeMunkEHgDRDoDuLQLcQunG748WFGtr3DjPQX7jaPNUa50IHgJRGoDsnNNDHGndyijUASDMEurMIdAuhG7dnn3lc2/NPMQM9sIa3kZZOcXtMAECCCHTnhAb688ZfOcUaAKQZAt1ZBLqF4MZtweuq8mWpKj8rPNB9Tc1FpANASiLQnRNPoHOKNQBIXQS6swh0C8GN28AzVeWLjPOQSB+ey8vdASAFEejOCQ30ccbtnGINANIMge4sAt1CcOPW+9gYcR6yVs9xe1wAQA0R6M4JDfTxRh4HiAOANEOgO4tAt1CjQF880e1xAQA1RKA7JzTQXzS6cYo1AEgzBLqzCHQLPIMOAOmNQHdOaKC/ZPyZZ9ABIM0Q6M4i0C3wHnQASG8EunNCA/0V40+cYg0A0gyB7iwCPcTo0aOVm5urnJycsKO4V3IUdwBIKwS6c6oL9IwMTrEGAKmOQHcWgW4hdOM2o2CsSvI9EedBzyXOASCFEejOCQ30N+r+Mero7cQ5AKQ2At1ZBLqF0I3by5+uVSvvFFX4jjPj/Jt3eFk7AKQ4At05oYH+mtE1GOc/+Yn01ltuTwcAqC0C3VkEuoXQjdubC9fJ4/Vr18OnmoG+dbnb4wEAaolAd05ooL9u3MrL2wEgzRDoziLQLYRu3N75aoM8Xr9KH2ltBvrGr9weDwBQSwS6c8Je4m7cwgHiACDNEOjOItAthG7c/Is2yuP1a+1DZ0u+LFWs4rRqAJDqCHTnhAb6m8bNnGINANIMge4sAt1CYOP29qff6WcPT5fH69eiB38m+bJ0/6ODNW1JidsjAgBqgUB3Tmigv2XcZBnoEya4PSUAIFE1DfRBgwbpwgsvVJMmTXTiiSeqc+fO+vbbb8OuU1VVJZ/Pp+bNm6thw4bq2LGjvvnmGyfGT3oEuoXAxu30Xm/J4/XL4/Vrfv+LJV+W/t6nn1p6/UQ6AKQwAt05oYE+0biRZ9ABIM3UNNCvuuoqjR8/Xt98840WLVqka6+9Vqeffrp27doVvM7gwYN17LHHqqCgQEuWLNGtt96q5s2ba8eOHU49jKRFoFsIbNyyQwJ9Rv+Oki9L/+77gFp6/bp40ExVVFa5PSoAIAEEunNCA/1t4wbegw4Aaaa2L3H//vvvZRiGZs+eLcl89vyUU07R4MGDg9fZu3evmjZtqmeeecaWmVMJgW7BKtDf7X+l5MvSQ33/fuhZ9ZWlbo8KAEgAge6c0EAvMP6Po7gDQJoJfJ8vKipSWVlZcO3duzeuz1+xYoUMw9CSJUskSatWrZJhGPrqq/CDcV9//fXq1q2b7fMnOwLdglWgv97vesmXpaF97wxeNrlwg9ujAgASQKA7JzTQ3zE6BwM9O5s4B4B0EPg+H7l8Pt9hP7eqqkq///3vddlllwUvmzdvngzD0MaNG8Oue9ddd+nKK6+0e/ykR6BbsAr0cf1ukXxZGtPvNp5BB4AUR6A7JzLQ69Qx33POy9oBID3U5hn0e++9Vx6PJ+zl8YFALykJP8bXnXfeqauuusr2+ZMdgW7B6iBxT/b7s+TL0sf9L9WtfYbqkoHTeQ86AKQoAt05oYE+2bheTZq4PREAwE6Jvgf9vvvuU4sWLbR69eqwy3mJezgC3UJkoN/dJ19l+SdLvqzgKh+cIy2d4vaoAIAEEOjOCQ30d43rdMIJbk8EALBTTQO9qqpKf//733Xqqadq+fLllh8/5ZRTNGTIkOBl+/bt4yBxOCT0POj/fuRRVeZnqSo/KyzQ5WtqLiIdAFIOge6c0ED/n3GtTjvN7YkAAHaqaaDfc889atq0qT7++GNt2rQpuMrLy4PXGTx4sJo2bapJkyZpyZIl6kXghCYAACAASURBVNq1K6dZgzR69Gjl5uYqJyfH3Fz8+IMqHjtLlVFxHhLpw3OlSt5YBwCphEB3Tmig+41r9NOfuj0RAMBONQ10qwPKGYah8ePHB69TVVUln8+nU045RZmZmerQoUPwKO9HGwLdQnDj9vW0GGEesVbPcXtkAEANEOjOCQ3094yrdc45bk8EALBTbc+DjuoR6BaCG7f5L8UX6Isnuj0yAKAGCHTnhAb6VON3uuACtycCANiJQHcWgW6BZ9ABIL0R6M4JDfRpxlW69FK3JwIA2IlAdxaBbiG4cfvxB1UNa8N70AEgzRDozgkN9PeNK9Wpk9sTAQDsRKA7i0C3ELpxq1o6WZX5WRaRzlHcASBVEejOCQ30D4wrdO21bk8EALATge4sAt1C5Mbt3n4+bck/PTzQh+cS5wCQogh054QG+gyjk2680e2JAAB2ItCdRaBbiNy4tek/TT/3vhLynvPZvKwdAFIYge6c0ECfafxGf/qT2xMBAOxEoDuLQLcQuXFr63tfZ3snHgr0/eUuTwgAqA0C3Tmhgf6hcbnuuMPtiQAAdiLQnUWgW4jcuJ3/yAdq7Z1yKNB3b3N5QgBAbRxNgT5mzBi1bNlSmZmZat++vebMqf7MI6+++qrOPfdcNWrUSKeccor+8pe/qLS0NO77Cw30j4xf6+9/r+0jAAAkEwLdWQS6hciN288HzJDH61flwz8xA307fxkBIJUdLYH+xhtvqH79+ho7dqyKiorUs2dPNW7cWMXFxZbX/+STT1SnTh2NGjVKq1ev1ieffKJzzjlHf/jDH+K+z9BAn2V01AMP2PVoAADJgEB3FoFuIXLjdsl/P5TH69eBgS3MQN+63OUJAQC1cbQE+kUXXaTu3buHXdamTRv17t3b8vqPPfaYWrduHXbZE088oRYtWsR9n6GBPtv4lfr1q/ncAIDkRaA7i0C3ELlx6zD0I3m8fu0bcqYZ6CWLXJ4QAFAbR0Og79u3T3Xr1tWkSZPCLu/Ro4c6dOhg+Tnz5s1TgwYN9N5776mqqkqbN29Whw4d9Le//S3m/ezdu1dlZWXBVVRUFBbojz5q68MCALiMQHcWgW4hcuP2m2Gz5PH6VT6snRnoxZ+6PCEAoDaOhkDfuHGjDMPQvHnzwi4fOHCgcnJyYn7exIkT1aRJE9WrV0+GYej666/X/v37Y17f5/PJMIyoVWYYmmNcpsces+0hAQCSAIHuLALdQuTG7aoRs+Xx+rVrxEVmoK/80OUJAQC1cTQF+vz588MuHzBggM466yzLz1m6dKmaN2+uoUOH6uuvv9b777+vdu3a6a9//WvM+6nuGfRPjEv15JO2PiwAgMsIdGcR6BYiN27XPjFHHq9f25/oYAb6Mr/LEwIAauNoCPREXuJ+22236aabbgq77JNPPpFhGCopKYnrfkPfgz7P+KXGjk1sfgBAciLQnUWgW4jcuHUePVcer1+lY640A33xRJcnBADUxtEQ6JJ5kLh77rkn7LLc3NyYB4m74YYbdMstt4RdNn/+fBmGoY0bN8Z1n6GBPt+4WC+/nNjsAIDkRKA7i0C3ELlxu+npefJ4/dry9PVmoH/5kssTAgBq42gJ9MBp1saNG6eioiL16tVLjRs31tq1ayVJvXv31p///Ofg9cePH6969erpqaee0qpVqzR37lxdeOGFuuiii+K+z9BA/9T4hXw+qaLC7kcGAHALge4sAj3E6NGjlZubq5ycnLCNW5dnP5XH69eG524xA/2zZ1yeFABQG0dLoEvSmDFj5PF41KBBA7Vv316zZ88OfiwvL08dO3YMu/4TTzyhs88+W40aNVLz5s31pz/9SRs2bIj7/kID/TPjIhmG1KKFVFBg1yMCALiJQHcWgW4hcuN22/OfyeP1a+3z3cxA/+RxlycEANTG0RToR1pooC8wfi7DkDIyzEWkA0DqI9CdRaBbiNy43T5+oTxev1a8cLcZ6B8NdHlCAEBtEOjOCQ30hcaFMgwFIz07m5e7A0CqI9CdRaBbiNy43fXS5/J4/Vo6/u9moL96s7R6jlTJLgMAUhGB7pzQQP/cuCAY6IE1a5bbEwIAaoNAdxaBbiFy43bvq1/q7j752vdIczPQA2t4G2npFJenBQDUFIHunNBA/9I4PyrQJ0xwe0IAQG0Q6M4i0C1Ebtyef26kKvOzVBUa574sydfUXEQ6AKQUAt05hwt0nkEHgNRGoDuLQLcQtnGrrNCPj/5UlfmRcR4S6cNzebk7AKQQAt05oYH+lfEz3oMOAGmGQHcWgW4hbOO2ek6MMI9Yq+e4PTYAIE4EunNCA32RcS5HcQeANEOgO4tAtxC2cVs8Mb5AXzzR7bEBAHEi0J0TGuhfG+1kGOYz58Q5AKQHAt1ZBLoFnkEHgPRGoDsnNNAXG231wgu8rB0A0gmB7iwC3ULke9DLBpzBe9ABII0Q6M4JDfRvjLNVVOT2RAAAOxHoziLQLURu3Ca99hRHcQeANEKgOycy0Jctc3siAICdCHRnEegWIjduw6d/q7v75Gvno56I86DnEucAkIIIdOeEBvpSI1fffef2RAAAOxHoziLQLURu3EbNXC6P16/hr71rhvmAk833nPOydgBISQS6c0IDvchoo+XL3Z4IAGAnAt1ZBLqFyI3bmFkr5PH69ehrH5iB/shPXJ4QAFAbBLpzQgP9WyNHK1e6PREAwE4EurMIdAuRG7fnZq+Sx+tX39dmH3p5e8UBl6cEACSKQHdOaKB/Z5ypVavcnggAYCcC3VkEuoXIjdu4T1bL4/Wr5yufHgr0vTtcnhIAkCgC3Tmhgb7cOENr1rg9EQDATgS6swh0C5Ebt5fnr5HH69ffXvr84JHbs6SdW1yeEgCQKALdOaGBvsL4qdaudXsiAICdCHRnEegWIjduExYUy+P1644XF0oDmpuB/sMad4cEACSMQHdOaKCvNFpr3Tq3JwIA2IlAdxaBbiFy4/bW5+vk8frVbdwCaUhrM9C3FLk8JQAgUQS6c0IDfZXRSuzfACC9EOjOItAtRG7c3vlqgzxev/449lPp8bZmoG/4wuUpAQCJItCdExroawyPNm50eyIAgJ0IdGcR6BYiN25TCs1A/82wWdr9eHsz0Nd84vKUAIBEEejOCQ30tcbpKilxeyIAgJ0IdGcR6BZCN27TlpTovIeny+P1y+P16+sHz5N8Wfr8gzfcHhMAkCAC3TmRgb55s9sTAQDsRKA7i0C3ENi4vf3pd2p5MMwD67MHL5J8Wbqnz4OatoSnBQAgFRHozgkN9GIjW1s46QkApBUC3VkEeojRo0crNzdXOTk5MgxDF+ZPCYtzj9evj/tfJvmydH+f/+jiQTNVUVnl9tgAgBoi0J0TGujrjdO0davbEwEA7ESgO4tAtxDYuGX3eisq0Kf17yT5stS3by95vH7NX1nq9rgAgBoi0J0TGugbjFNVyo9JAEgrBLqzCHQL1QX6pP5XS74sPdL3Hnm8fk0u3OD2uACAGiLQnRMa6BuN5vrhB7cnAgDYiUB3FoFuobpAn9DvesmXpf/1+61u7TNU85fz5joASDUEunNCA73EOEU//uj2RAAAOxHoziLQLQQ2bhfmTwk7SNzdffK1M/9E8zRrB1fV8DbS0ilujwwAqAEC3Tmhgb7JOFl8iQEgvRDoziLQLVgdxf3uPvmqzM9SVX5WWKDL19RcRDoApAwC3Tmhgb7FOFE7drg9EQDATgS6swh0C5HnQf/5I9O0Mb+lKqPiPCTSh+dKlRVujw4AiAOB7pzQQN9qnKBdu9yeCABgJwLdWQS6hciNW/EX78cI84i1eo7LkwMA4kGgOyc00LcZx2v3brcnAgDYiUB3FoFuIXLjtmXeK/EF+uKJLk8OAIgHge6c0ED/0WiqPXvcnggAYCcC3VkEuoWoQP96Bs+gA0AaIdCdExroZcax2rfP7YkAAHYi0J1FoFuI3Lht3LaT96ADQBoh0J0TGug7jCbav9/tiQAAdiLQnUWgW4h6Bn3HnuBR3C3jnKO4A0BKIdCdExrou4xjVMG/XQNAWiHQnUWgW4jcuG3btS94qrWqIa3CA314LnEOACmGQHdOaKCXGw1VWen2RAAAOxHoziLQLURu3LaX75fn4PnQDyz/yAzzYWeZ7znnZe0AkHIIdOeEBvpeo4GqqtyeCABgJwLdWQS6hciN2669B4KBvnfNp2agj2jn8pQAgEQR6M4JDfT9Rj23xwEA2IxAdxaBbiFy47Znf0Uw0HcXf2UG+mM5Lk8JAEgUge6c0EA/YNR1exwAgM0IdGcR6BYiN24HKiqDgb5j3VIz0P97ustTAgASRaA7JzTQK40Mt8cBANiMQHcWgW4hcuNWVVUVDPQfNiw3A/3Rk12eEgCQKALdOaGBLsMQb0IHgPRCoDuLQLdgtXFr3ec9ebx+bS0pPnR6NTYdAJCSCHTnRAU6h3EHgLRCoDuLQLdgtXE7s99Uebx+lWzadOgUawf2uTglACBRBLpzogL9wAG3RwIA2IhAdxaBbsFq45b74DR5vH4Vb952KND3sLEDgFREoDsnKtD38Y/ZAJBOCHRnEegWrDZubX3vy+P1a9WWHYcCfef3Lk4JAEgUge6cqEDfu9ftkQAANiLQnUWgW7DauP3s4enyeP1avnmH9OhJZqD/uM7FKQEAiSLQnRMV6OXlbo8EALARge4sAt2C1cbtgkdnyOP1q6ikTPpvthnoW1e4OCUAIFEEunOiAn3XLrdHAgDYiEB3FoFuwWrj9ouBM+Xx+rVkw3bpsTPNQN+0xMUpAQCJItCdExXoO3a4PRIAwEYEurMIdAtWG7dLB38oj9evwnU/SiPamoG+/gsXpwQAJIpAd05UoG/f7vZIAAAbEejOItAtWG3cOg79SB6vX1+s3SY9eaEZ6Gs+cXFKAECiCHTnRAX6jz+6PRIAwEYEurMIdAtWG7ffDJslj9evz1aVSk9fagb6ihkuTgkASBSB7pyoQN+2ze2RAAA2ItCdRaBbsNq4Xfn4bHm8fs1bsVUa28kM9GV+F6cEACSKQHdOVKBv3er2SAAAGxHoziLQLVht3K4eOUcer1+zv/teGn+tGehL3nZxSgBAogh050QF+pYtbo8EALARge4sAt2C1cbt909+Io/Xr4+WbZFeucEM9MLXXJwSAJAoAt05UYG+aZPbIwEAbESgO4tAt2C1cfvDmLnyeP36YOlm6fU/moH++TgXpwQAJIpAd05UoG/c6PZIAAAbEejOItAtWG3cbnp6njxev6YuLpEm3m4G+qdPuTglACBRBLpzogJ9wwa3RwIA2IhAdxaBHmL06NHKzc1VTk5O1Mbt1mfny+P1691FG6VJfzMDfeLt0uo5UmWFi1MDAGqKQHdOVKCvW+f2SAAAGxHoziLQLVht3P409jPzNGv+8dKAU8xAD6zhbaSlU9wbGABQIwS6c6ICfe1at0cCANiIQHcWgW7BauPWbdwC3d0nX1W+puFx7suSfE3NRaQDQEog0J0TFeirV7s9EgDARgS6swh0C1Ybtzte+FQb81uqKirOQyJ9eC4vdweAFECgOycq0FeudHskAICNahros2fP1nXXXafmzZvLMAy98847YR/Py8uTYRhh6xe/+IUTo6cEAt2C1cbtsWfGxgjziLV6jouTAwDiQaA7JyrQV6xweyQAgI1qGuhTp05Vv379VFBQEDPQf/e732nTpk3BtW3bNidGTwkEugWrjdu4p4fEF+iLJ7o4OQAgHgS6c6IC/bvv3B4JAGCj2rzEPVagd+7c2a7xUh6BbsFq4zbq+XE8gw4AaYJAd05UoC9b5vZIAAAbORHoTZs21YknnqgzzzxTd955p7Zs2WLXuCmHQLdgtXG7//UvDr4H3eogcbwHHQBSCYHunKhAX7rU7ZEAADYKfJ8vKipSWVlZcO3du/ewn2sV6G+88Yb8fr+WLFmid999V+edd57OOeecuG4vHRHoFqw2bv96axFHcQeANEGgOycq0F94QargH68BIF0Evs9HLp/Pd9jPtQr0SCUlJapfv74KCgpsmji1EOgWrDZuvQu+lsfr13tvPiMN9kScBz2XOAeAFEKgOycq0A1DatFCOko3WgCQbux+Bt3KGWecocGDB9sxbsoh0C1Ybdz6vbNYHq9fI2Z8Jy39nxnmI88z33POy9oBIKUQ6M6xDPSMDHMR6QCQ8ux+D3qk0tJSZWZm6qWXXkp0xJRGoFuw2rj5pnwjj9evYdO/lVbMNAP9qUtdnBIAkCgC3TmWgR6I9OxsXu4OACmupoG+c+dOFRYWqrCwUIZh6PHHH1dhYaGKi4u1c+dOPfDAA5o/f77WrFmjWbNm6Ze//KVOO+007dixw+FHkpwIdAtWG7dH/rdUHq9f/526TFoz1wz0Jy5wcUoAQKIIdOfEDPTAmjXL7REBALVQ00CfNWuW5XvW8/LyVF5eriuvvFInnnii6tevr9NPP115eXlat26dw48ieRHoFqw2boPeK5LH69cA/1Jp/RdmoD/e1sUpAQCJItCdc9hAnzDB7REBALVQm5e44/AIdAtWG7ch05bJ4/XroXe/kTYtMQN96BkuTgkASBSB7hyeQQeA9EagO4tAt2C1cRs+/Vt5vH49OHmJVLrSDPRB2S5OCQBIFIHuHN6DDgDpjUB3FoFuwWrjNnLGcnm8fvWZtFjavt4M9EdOdHFKAECiCHTncBR3AEhvBLqzCHQLVhu30R+tkMfr138mfi3t2nroHOhVVS5OCgBIxNEU6GPGjFHLli2VmZmp9u3ba86cOdVef+/everbt69OP/10NWjQQK1bt9a4cePivj/LQM/OJs4BIE0Q6M4i0C1Ybdye/nilPF6/7n9zkbR3x6FA37/HxUkBAIk4WgL9jTfeUP369TV27FgVFRWpZ8+eaty4sYqLi2N+zvXXX69f/OIXmjFjhtasWaMFCxZo3rx5cd9nVKA/+CAvaweANEKgO4tAt2C1cRs7Z5U8Xr96vv6VVLH/UKCX/+jipACARBwtgX7RRRepe/fuYZe1adNGvXv3trz+tGnT1LRpU23bti3h+4wK9BdfTPi2AADJh0B3FoFuwWrjNn7uanm8fv39tS/Nl7U/dJwZ6Ds2uzgpACARR0Og79u3T3Xr1tWkSZPCLu/Ro4c6dOhg+Tn33HOPOnXqJK/Xq1NPPVVnnnmmHnjgAZWXl8e8n71796qsrCy4ioqKwgP9uedsfVwAAHcR6M4i0C1Ybdxe/nStPF6/ur/yhXnBgFPMQP9hjTtDAgASdjQE+saNG2UYRtTL0wcOHKicnBzLz7nqqquUmZmpa6+9VgsWLNB7770nj8ej22+/Peb9+Hw+GYYRtYKB/uSTtj4uAIC7CHRnEegWrDZuExYUy+P1686XPjcvGOwxA/37b90ZEgCQsKMp0OfPnx92+YABA3TWWWdZfs5vf/tbNWzYUNu3bw9eVlBQoIyMjJjPoh/2GfThw+17UAAA1xHoziLQLVht3N78fJ08Xr9uH7/QvGDYWWaglyxyaUoAQKKOhkBP5CXu3bp1009/+tOwywLBvXz58rjuN+o96IMGJfYAAABJiUB3FoFuwWrjNvFgoF85YrbmryxV1chzzUBft8DFSQEAiTgaAl0yDxJ3zz33hF2Wm5sb8yBxzz77rBo1aqSdO3cGL5s8ebLq1KlT7fvQQ0UF+kMPJf4AAABJh0B3FoFuIXLjNm1Jic57aLo8Xn9wrXroHDPQV892eVoAQE0dLYEeOM3auHHjVFRUpF69eqlx48Zau3atJKl3797685//HLz+zp071aJFC910001aunSpZs+erTPPPFN33nln3PcZFeh9+tj+uAAA7iHQnUWgWwjduE1bUqKWIWEeWIsfNJ9B//yDN9weFwBQQ0dLoEvSmDFj5PF41KBBA7Vv316zZx/6h+W8vDx17Ngx7PrLli3TFVdcoUaNGqlFixa6//774372XLII9AcesOuhAACSAIHuLALdQmDj9sOP23XxoJlRce7x+vX5gxdKvix5Hx2gisoqt0cGANTA0RToR1pUoN93n9sjAQBsRKA7i0C3ENi4zShcYxnnHq9fc/v/UvJl6R99+mr+ylK3RwYA1ACB7pyoQL/7brdHAgDYiEB3FoFuIbBxm/DJspiBPrN/R8mXpX/1/ZcmF25we2QAQA0Q6M6JCvS//MXtkQAANiLQnUWgW4jnGfT3+neSfFl6s9/v9c1cv1RZ4fbYAIA4EejOiQr0rl3dHgkAYKOkDPQff5TGjpV695a2bTMv+/JLaUPqPZFKoFuIfA965EHi7u6Tr935PzGP4h5Yw9tIS6e4PToAIA4EunOiAv3GG90eCQBgo6QL9K+/lk48UTrjDKlePWnVKvPy/v2lkDOVpAoC3UJ1R3G/u0++KvOzVJWfFR7ovqbmItIBIOkR6M6JCvTrrnN7JACAjZIu0Dt1kv79b/PXTZocCvR58ySPx7WxEkWgW7A6D3r7Rz5QK++72pjfUpVRcR4S6cNzebk7ACQ5At05UYF+5ZVujwQAsFHSBXpWlrRypfnr0EBfu1bKzHRvrgQR6BasNm5fFf+gW/sMjRHmEWv1HBenBwAcDoHunKhAjzjPOgAgtSVdoJ90kvTVV+avQwN9+nSpRQv35koQgW7BauP2zcbt+kefvvEF+uKJLk4PADgcAt05UYH+y1+6PRIAwEZJF+h33SX94Q/S/v1moK9eLRUXS+efL/Xs6fZ0NUagW7DauH27aQfPoANAmiDQnRMV6O3buz0SAMBGSRfoZWXSpZdKxx0n1a0rZWdL9etLHTpIu3a5PV2NEegWrDZuK7bsVCvvu9rka3XwgHC8Bx0AUhWB7pyoQG/b1u2RAAA2SrpAD/jwQ+mxx6QhQ6QZM9yeJmEEugWrjduarbvk8frVM//hGIHOUdwBIFUQ6M6JCvQzz3R7JACAjZIu0F96Sdq7N/ryffvMj6UYAt2C1cZt3bbd8nj9Oqv/VDPC/5sdcR70XOIcAFIEge6cqEBPwVPcAABiS7pAr1NH2rIl+vLSUvNjKca2QH/44Ye1e/fuqMvLy8v18MMP23U3R4TVxq1ke7k8Xr/O6PueecGXL5lh/vSl5nvOeVk7AKQMAt05gY3bj4FAP+UUt0cCANgo6QI9I0P6/vvoyxctko4//sjPU0u2BXqdOnW0xeJfLkpLS1Unxf7lwmrjtmXHHnm8frXs7Tcv+PotM9Bf/L1LUwIAEkWgOyewcdtsZJqB3qyZ2yMBAGyUNIH+s5+ZR2qvU0dq1878dWCde6507LHSzTe7O2MCbAv0jIwMfW/xLxcffvihfvKTn9h1N0eE1cZt26598nj98nj9qqyskpZONgN93FUuTgoASASB7pzAxm2tkWUGeuPGbo8EALBR0gT6Qw+ZKyND+te/Dv3+oYekQYOkCRPM96GnmFoH+nHHHafjjz9ederUCf46sLKyslSnTh3de++9dsx6xFht3LaX7w8G+r4DldK308xAf/bXLk4KAEgEge6cwMZtufETM9Dr13d7JACAjZIm0ANefFHas8ftKWxT60B/8cUXNX78eGVkZGjUqFF68cUXg2vChAmaP3++HXMeUVYbt117DwQDvXxfhbTyQzPQn7rExUkBAIkg0J0T2LgtMU4zA90wpKoqt8cCANgk6QI9zdj2EvePP/5YBw4csOvmXGW1cduzvyIY6Dv27JfWzDUD/YkLXJwUAJAIAt05gY3bl0bLQ4E+fbpUwcFUASAdJF2gV1SY5z//+c+lk082DwwXulKMbYH+5ZdfavHixcHfT548WZ07d1afPn20L8Ve+2+1cTtQURkM9B9375PWf24G+oi2Lk4KAEgEge6cwMZtq1H3UKAbhtSihVRQ4PZ4AIBaSrpAf/BBqXlzM9IbNpQefVS64w7phBOkUaPcnq7GbAv0Cy+8UG+//bYkadWqVcrMzFTXrl11xhlnqGfPnnbdzRFhtXGrqqoKBvrWnXulkq/NQH8sx8VJAQCJSMZAP/54aetW89e33y7t2OHuPIkKbNy2h8a5YZgH8cnIINIBIMUlXaC3bi35D55pq0kTaeVK89ejRkldu7o3V4JsC/SsrCytPPjFGDx4sK688kpJ0ty5c9WiRQu77uaIiLVx+2mf9+Tx+rW5bI/0/bdmoA/2uDMkACBhyRjojRtLq1aZv65Tx/qUrqkgsHEriwz0QKRnZ/NydwBIYUkX6MccIxUXm78+5RTpyy/NX69aJWVluTdXgmwL9GOPPVbLly+XJF1xxRUaOXKkJKm4uFgNGza0626OiFgbt5x+U+Xx+rX+h93SttVmoA9o7tKUAIBEJWOgX3GFeRrXv/zF7NguXcxn0q1WMqs20ANr1iy3xwQAJCjpAj0nR/rsM/PXl10m/fe/5q/feEM68UT35kqQbYF++eWXq1u3bnr55ZdVv359rVixQpJ58DiPx2PX3RwRsTZuZz84TR6vX2tLd0llG81Af7iZS1MCABKVjIG+ebPk9Uo33WQG+tVXS3/4g/VKZnEF+oQJbo8JAEhQ0gW61ysNHGj+euJEqV496YwzpAYNzI+lGNsC/euvv1bbtm2VlZWlhx56KHj5fffdp65H+LX/69atU8eOHZWbm6t27drprbfeqtHnx9q4tfO9L4/Xr5Xf75R2lZqB7suSKivtHB8A4LBkDPRQLVtKpaVuT5EYnkEHgPSWdIEe6bPPpOHDpSlT3J4kIbYFeix79uzR/v37nb6bMCUlJSosLJQkbdmyRaeddpp27doV9+fH2rid/8gH8nj9+m7zDmnvjkOBvr/c1vkBAM5KxkBPt4PE8R50AEhPSRXo+/eb7w0LHMQlDdge6F988YVeeeUVvfrqq/oy8AZ9l7Vr107r1q2L+/qxNm4XDpghj9evpRvLpAP7DgV6+Q92jwwAcFAyBnq6HSSOo7gDQHpKqkCXpKZNCXQrW7Zs0a9//WtlZGTo+OOP8k8DrgAAIABJREFU13HHHaeMjAz95je/0fc13GXMnj1b1113nZo3by7DMPTOO+9EXWfMmDFq2bKlMjMz1b59e82ZM8fytj7//HOdc845Nbr/WBu3iwfNlMfr1+L126WqqkOBvmNzjW4fAOCuZAz0dDtI3PdG/fBAz84mzgEgDSRdoP/lL+ZL2tOEbYF+yy236IILLlBRUVHwsqVLl+rCCy9Uly5danRbU6dOVb9+/VRQUGAZ6G+88Ybq16+vsWPHqqioSD179lTjxo1VHDi8/kGlpaXKzc3VvHnzanT/sTZulw7+UB6vX18VH3zG/JETzUD/sdjiVgAAySoZAz30IHF16qT+QeKmGxdo2em/NeO8e3de1g4AaSLpAn3AAOm446Qbb5QGDTLPfx66Uoyt50FfuHBh1OULFixQ06ZNE75dq0C/6KKL1L1797DL2rRpo969ewd/v3fvXv3qV7/Syy+/fNj72Lt3r8rKyoIr+P65iI1bx6EfyeP16/M128wLBrUwA33rigQfHQDADckY6KHS4SBx7xsX6pOf3WcGev/+bo8FALBJ0gV6y5axV6tWbk9XY7YFepMmTYIHZgv11Vdf6dhjj034diMDfd++fapbt64mTZoUdr0ePXqoQ4cOkqSqqip16dJFPp8vrvvw+XwyDCNqRW7cfjNsljxevz5ddXDXNKS1Geibv0n48QEAjrxkDfSrr5a2bz/0+wEDpB9/PPT70lIpN/fIz1UTgY3bNOPnmvGLvmag/+Mfbo8FALBJ0gV6mrEt0K+//np16NBBGzduDF62YcMGdezYUX+oxevxIgN948aNMgwj6mXrAwcOVE5OjiTpk08+UUZGhs4777zgWrx4ccz7iPcZ9Csfny2P16+5Kw4eZnd4rhnoG5LjYHgAgPgka6BnZEhbthz6/bHHhh/3ZvNm8+XvySw00P0dhpiB3q2b22MBAGxCoDvLtkBft26dzj//fNWvX1+tW7fWT3/6U9WvX1/t27ev1R9erECfP39+2PUGDBigs846K+H7CRVr43b1yDnyeP36+LuDB70beZ4Z6MWf2nK/AIAjI1UCvUmT1A30qcZFKrjyGTPQk/2N8wCAuBHozrL9NGsffPCBnnjiCY0aNUozZsyo9e0l8hL32oq1cfv9k5/I4/Xrw2UHj9o++hdmoK/62Jb7BQAcGQS6cwIbt/eMX+j16yeYgX755W6PBQCwCYHurFoH+ocffqjc3FzLTc727dt19tlnxzwFWjxiHSTunnvuCbssNzc37CBxtRFr4/aHMXPl8fr1/jebzAue+ZUZ6Ms/sOV+AQBHRrIGeuT5z5s0kVavPvT7VAv08Te/ZwZ6+/ZujwUAsAmB7qxaB/rvf/97Pf744zE/PmrUqBq/B33nzp0qLCxUYWGhDMPQ448/rsLCwuBp1AKnWRs3bpyKiorUq1cvNW7cWGvXrq3VYwmItXG7+en58nj9em9xiXnB2CvMQC/6ny33CwA4MpI10DMypGuukf7v/8xVr5505ZWHfn/NNakT6H7jYj1322wz0E86SZo1i1OtAUAaINCdVetAP/3008POfR5p2bJlys7OrtFtzpo1y/Ko6nl5ecHrjBkzRh6PRw0aNFD79u01e/bsRB9ClFgbty7PfiqP168piw4eCG/8tWagL3nbtvsGADgvWQP9L3+JbyWzwMZtvpGjHY1PNgM9sFq0kAoK3B4RAFALSRPou3dL994rnXqqdOKJUteu0tat7s5kg1oHemZmplasiH0e8BUrVqhhw4a1vZsjKtbG7bbnP5PH69ekrw7+ZXz5/8xAL5zgwpQAgEQla6Cng8DGbbthqCo0zg3DfIlARgaRDgApLGkC/V//ko45RrrrLqlHD+knP5FuusndmWxQ60Bv3bp11AHbQhUUFKhVip0gPtbGLe+FBfJ4/Xrr83XmBRO6mIH+xfgjPyQAIGEEunNCA11WKyNDys7m5e4AkKKSJtBbt5Zef/3Q7xcsMN8bluI/X2od6Pfdd5/atm2rPXv2RH2svLxcbdu21T/+8Y/a3s0RMXr0aOXm5ionJ8dy43bHiwvl8fr1+oJiqbJCeuFqM9Df+4/5ewBASiDQnRPYuJXFCvTAmjXL7VEBAAlImkCvX1/asCH8soYNpXXr3JnHJrUO9M2bN+vUU09Vdna2hgwZosmTJ2vKlCkaPHiwsrOzdeqpp2rz5s12zHrExNq43f3y5+Z50N95XhrexozzwBreRlo6xaWJAQA1QaA7J+5An8DbwwAgFSVNoEee+kSKPv1JCrLlPOhr167V1VdfrTp16igjI0MZGRmqU6eOrr76aq1Zs8aOuziiYm3c7n31S93dJ19Vvqbhce7LknxNzUWkA0DSI9CdwzPoAJDekibQI099YnX6k//7P3dnTIAtgR7www8/aOHChVqwYIF++OEHO2/6iIq1cevx2ufamN9SVVFxHhLpw3N5uTsAJDkC3Tm8Bx0A0lvSBHpeXuqf+sSCrYGeLmJt3EaPeyFGmEes1XNcmhwAEA8C3TnhR3HP4CjuAJBmkibQ0xSBbiHWxu3VscPiC/TFE12aHAAQDwLdOYGN2ydGrsqatggP9Oxs4hwAUlzSBPqqVVJVlbszOIBAtxBr4/bsSy/yDDoApAEC3TmBjVuB0UGPDa6QWhyM9FGjeFk7AKSBpAn0OnWkLVsO/f6WW6QUOzi5FQLdQqyNW/9JhbwHHQDSAIHunMDG7W2jo4YNk9S2rRnoM2e6PRoAwAZJE+gZGeGB3qSJ+ax6iiPQLcTauPmmfHPwKO6Bo7ZzFHcASEUEunMOBfqvNXy4pPbtzUCfOtXt0QAANiDQnUWghxg9erRyc3OVk5NjuXF79H9L5fH69farYyzOg55LnANAiiDQnRMa6CNGSPrlL81AnzzZ7dEAADZImkCPPA96GpwDXSLQLcXauA2aWiSP169H/7fUfBn7+/3MOB/biZe1A0AKIdCdE9i4TTQu18iRkjp2NAP9zTfdHg0AYIOkCfTI86BbnQP9aD8PerqItXEb+v4yebx++aZ8Y16w6HUz0F/q7MKUAIBEEejOCWzc3jJ+oyeekPTb35qB/sorbo8GALBB0gR6POdA5zzo6SHWxm34B9/J4/Wr/ztLzAuWFJiB/sLVLkwJAEgUge6c0EB/8klJ115rBvq4cW6PBgCwQdIEepoi0C3E2riNmrlcHq9fvQsWmxcs85uB/txvXJgSAJAoAt05gY3bm0YnjRkj6YYbzEB/+mm3RwMA2IBAdxaBbiHWxm30Ryvk8fr174mLzAuWzzAD/elLXZgSAJAoAt05gY3bG8YVeuopSV26mIE+cqTbowEAbECgO4tAtxBr4/bMxyvl8fr1zzcLzQtWzzYD/cmfuzAlACBRBLpzAhu3140r9Mwzkrp1MwN96FC3RwMA2IBAdxaBbiHWxm3snFXyeP3q8fpX5gXrFpiBPvJcF6YEACSKQHdOaKA/+6yku+4yA33AALdHAwDYgEB3FoFuIdbGbdwnZqB3Hj1X81eWqmLDV2agD2vj0qQAgEQQ6M4JbNwmGL/V2LGS/v53M9Dz890eDQBgAwLdWQS6BauN27QlJWrne18erz+4ug54wQz0Ia1cnBYAUFMEunMCG7fXjCv1/POS/vlPM9C9XrdHAwDYgEB3FoFuIXLjNm1JiVqGhHlgdez9vOTL0oFHm7s8MQCgJgh054QG+gsvyAxzwzBDHQCQ8gh0ZxHoIUaPHq3c3Fzl5OQEN24VlVW6eNDMqDj3eP262PuS5MvSPl8zVVRWuT0+ACBOBLpzAhu3V42rNH68zJe2G4b5UncAQMoj0J1FoFsI3bjNX1lqGecer1/tva+ZL3H3ZWn+iq1ujw0AiBOB7pzAxu0V4yq99JLMg8MZhnmwOABAyiPQnUWgWwjduE0u3BAz0Nt63woG+rtfrHZ7bABAnAh054QG+ssvyzy9mmGYp1sDAKQ8At1ZBLqFeJ9Bz/FOCgb6gqI1bo8NAIgTge6cwMbtZeN3evVVSSNHmoHepYvbowEAbECgO4tAtxC6cQu8B93qIHEtve8GA71ix/dujw0AiBOB7pzAxu0l42q99pqkp582A/2GG9weDQBgAwLdWQS6hXiP4t7S69e+/OPNSN++weWpAQDxItCdE9i4vWhco9dflzRunBno117r9mgAABvUNNBnz56t6667Ts2bN5dhGHrnnXfCPl5VVSWfz6fmzZurYcOG6tixo7755hsnRk8JBLqFWOdBP/+RD8KP4j5opg48eooZ6NtWuTgxAKAmCHTnhAb6m29K/9/encdHVd/7Hz+AbCKhspTdCVaBVFt60Utd+sOqiPYW995StZqrVQsqi6V12MyIAgKKKygVEW0r4hJAOiyKrEJUUKIEouybhMqiYRGCJHn//jiZyUw4k0wm850zA6/n4/F9WE4myScD5XxfzMwZ/fOfdqBfdZXbowEA4qC6gT537lwNGzZM2dnZjoE+ZswYNW7cWNnZ2crLy1Pv3r3VunVrHTx40MT4SY9AdxBp47Zi4155vH7998gFytm0z35rtTHpdqB/86VL0wIAqotANyewcZtq/VZvvSXpzTftQL/sMrdHAwDEQU2e4l4x0EtLS9WqVSuNGTMmeKyoqEhNmjTRpEmT4jJvqiHQHUTauH26bb88Xr/+39hF5Qef7GQHesHnCZ4SABArAt2cwMbtFauX3nlH0qxZdqBffLHbowEA4iCegb5582ZZlqXVq1eH3e66667THafou38Q6A4ibdw+3/GdPF6/Lh79QfnBp39mB/qOlQmeEgAQKwLdnNBAz86WNHeuHehdu7o9GgAgDgJ/z+fn5+vAgQPBVVRUVOXnVgz0FStWyLIs7dq1K+x299xzj3r27Bn32VMBge4g0sZt7a5Cebx+XThyQfnB5y+0A33LsgRPCQCIFYFuTmDjNsW6VjNnSvrgAzvQzz/f7dEAAHEQ+Hu+4vL5fFV+bqRALygoCLvd3Xffrauvvjreo6cEAt1BpI3b+v8clMfr1y9GvFd+8IVL7UDfuEAAgNRAoJsT2Li9bF2nWbMkffihHegdO7o9GgAgDuL5CDpPcT8Rge4g0sZt855D8nj9Oj9rfvnBly63A/3LOQmeEgAQKwLdnNBAnz1b0ief2IGenu72aACAODBxkbixY8cGjx07doyLxME2YcIEZWRkqGPHjo4btx37v5fH61en4XPtAyXF0sSL7UBfNMr+NQAg6RHo5gQ2bpOt6/Xvf0vKzbUDvXVrt0cDAMRBdQP90KFDys3NVW5urizL0lNPPaXc3Fxt375dkv02a02aNNGMGTOUl5enW265hbdZQ7hIG7eCwiPyeP06Z+gcad270vjOdpwH1vjO9nEAQFI7lQJ94sSJSk9PV/369dW1a1ctWxbdNVOWL1+uOnXqqEuXLtX6foGN20vWDZozR9KaNXagn3GGtHixVMw/ZgNAKqtuoC9evNjxNeuZmZmS7EfRfT6fWrVqpfr166t79+7Ky8sz+BMkNwLdQaSN256DRfJ4/bp3SJZKfU3C49yXJvma2ItIB4CkdqoE+vTp01W3bl1NnjxZ+fn5GjBggBo1ahR81CKSwsJCnX322erZs2cNAv1GfTYsW2rVyg70wGrXTvbl3QEAqagmT3FH1Qh0B5E2bt99f0wdvLO1KytdpSfEeUikj8/g6e4AkMROlUDv1q2b+vTpE3asc+fOGjx4cKWf17t3bw0fPlw+ny/mQJ9jdVOpVSs8zi1LqlXLXkQ6AKQkAt0sAt1BpI3boaLj6j1kXIQwr7B42zUASFqnQqAfO3ZMderU0YwZM8KO9+/fX927d4/4ea+88oouvPBCHT9+PKpALyoqCruKb35+vv2WOVYDlVaM89BIb9+ep7sDQAoi0M0i0B1E2rgd/aFY/YYMjS7Q17zt0vQAgKqcCoG+a9cuWZalFStWhB0fNWqUOkZ4y7MNGzboxz/+sdavXy9JUQW6z+dzfG3hgUhxHroWL47LzwoASBwC3SwC3UGkjdvx4hIeQQeAk8CpFOg5OTlhx0eOHKlOnTqdcPvi4mJdeOGFevHFF4PHavIIelSBPm1afH5YAEDCEOhmEegOIm3cSktLQ16D7nSROF6DDgCp4FQI9Oo+xf27776TZVmqU6dOcNWqVSt4bOHChVF938DGjUfQAeDkRKCbRaA7qGzjds7QOSFXca8Y6VzFHQBSwakQ6JJ9kbi+ffuGHcvIyHC8SFxJSYny8vLCVt++fdWpUyfl5eXp8OHDUX3PwMatwGrofJE4XoMOACmNQDeLQHdQ2cat8/B58nj92vPxWw7vg55BnANACjhVAj3wNmtTpkxRfn6+Bg4cqEaNGmnbtm2SpMGDB+v222+P+Pk1uYr7bOtilVi1VFIx0rmKOwCkNALdLALdQWUbt/N98+Xx+rVpzyH7aezZ99px/satPK0dAFLEqRLokjRx4kR5PB7Vq1dPXbt21dKlS4Mfy8zM1GWXXRbxc2sS6BOt3+tGK1s7rHbhgd6+PXEOACmMQDeLQHdQ2cbtvx59Xx6vX1/tPmgfWDLWDvTZ/RM8JQAgVqdSoCdaYOM2wfq9LEuqbR0Pxnlx9iye1g4AKY5AN4tAd1DZxu2/Ry6Qx+tX3teF9oEPn7IDfWbfE24LAEhOBLo5gY3b82WBblkKBvryGd+4PR4AoIYIdLMIdAeVbdwueXyhPF6/cnd8Zx/ImWAH+jt3J3hKAECsCHRznAK92KotWZZmvLDb7fEAADVEoJtFoDuobOPWfdwiebx+rdq63z7wyUt2oL95R4KnBADEikA3J7Bxe87qHQz0H6zTJMvSird3uT0eAKCGCHSzCPQQEyZMUEZGhjp27Bhx43bFk4vl8fqVs2mffWDVK3agT7slwdMCAGJFoJsT2Lg9a/0hGOhFVj37Nejb2MwBQKoj0M0i0B1UtnG7+uml8nj9WrZhj31g9b/sQP/nzQmeEgAQKwLdnIqBXquWdMRqYJf69u1ujwcAqCEC3SwC3UFlG7ffPrdMHq9fi74su9DNF2/Zgf7adQmeEgAQKwLdnMDG7RnrluC7qh2vf7od6Fu3uj0eAKCGCHSzCHQHlW3crp+wXB6vX++tLbvQzdoZdqC/8psETwkAiBWBbk5g4/a0dateeqnsXdXOOMMO9M2b3R4PAFBDBLpZBLqDyjZuv3txhTxev+asKbAPfOm3A33ylQmeEgAQKwLdnMDG7SnrNn3+ednBtDQ70DdudHU2AEDNEehmEegOKtu4/eHvH8nj9WtW7tf2gQ3v24E+qXuCpwQAxIpANyc00L/4ouzgj35kB/r69a7OBgCoOQLdLALdQWUbtz++/LE8Xr/e+bTsD+SmRXagT7w4wVMCAGJFoJsT2LiNt/6ovLyyg02b2oH+5ZeuzgYAqDkC3SwC3UFlG7c7p66Ux+vX9JVlV6LdutwO9OcuSPCUAIBYEejmBDZuT1q3a926soPNm9uBHjwAAEhVBLpZBLqDyjZu97y2Sh6vX//8aJt9YMdKO9Cf+XmCpwQAxIpANyc00PPzyw7++Md2oAcfUgcApCoC3SwC3UFlG7f7/vWZPF6/pi7fYh/YlWsH+viMBE8JAIgVgW5OYOP2hHWHvvqq7GCrVnagB1+UDgBIVQS6WQS6g8o2bv3fWC2P16/Jy8reKuY/a+1AH/eTBE8JAIgVgW5OYOM2zsosvyZcmzZ2oOfmujobAKDmCHSzCHQHlW3c/vLm5/J4/XpxySb7wN4NdqA/3j7BUwIAYkWgmxMa6MF3VWvXzg70zz5zdTYAQM0R6GYR6A4q27h53/lCHq9fzy/cYB/4dqsd6CNbJ3ZIAEDMCHRzAhu3sdb/aVPZv2XrrLPsQF+1ytXZAAA1R6CbRaA7qGzjNmzmGnm8fj31ftnz9gq/tgN9RLMETwkAiBWBbk55oN+pLWWXa1F6uh3on3zi6mwAgJoj0M0i0B1UtnHzvbtWHq9f4+aXvZfroT12oPvSpNLSBE8KAIgFgW5OYOM2xrpLW7eWHTz7bDvQP/rIzdEAAHFAoJtFoDuobOM20r9OHq9fo+eUvXfMke/KA734hwRPCgCIBYFuTmigb99edvCcc+xAX7HC1dkAADVHoJtFoDuobOM2Zt6X8nj9GjF7nX3g2OHyQD92OMGTAgBiQaCbE9i4PW79STt2lB3s2NEO9A8/dHU2AEDNEehmEegOKtu4PTHfDvQ/vvyxcjbtU/EPx8oD/ci3LkwLAKguAt2cwMZttHW3vv667GDnznagL13q6mwAgJoj0M0i0ENMmDBBGRkZ6tixo+PGbV5egc7Lmi+P1x9cF41aUB7oh/a4NDkAoDoIdHNCA33XrrKDP/2pHeiLF7s5GgAgDgh0swh0B04bt3l5BUoPCfPASvf6VZTV1A70wq8r+aoAgGRBoJsT2LiNsu7R7t1lB88/3w70hQtdnQ0AUHMEulkEuoOKG7fiklJdNPqDE+I8sA5ntZB8aSret6WKrwwASAYEujmBjdtI61795z9lB3/+czvQFyxwdTYAQM0R6GYR6A4qbtxyNu2LGOcer1/fZbWWfGla/Rnv7woAqYBANyewcXvMuld7Aq/8+sUv7EB/7z1XZwMA1ByBbhaB7qDixm1W7teVBvqerPaSL00LlyxyeXIAQDQIdHNCA33v3rKDXbvagT5vnquzAQBqjkA3i0B3UN1H0HdlpUu+NH3xyWJ3BwcARIVANyewcXvU+rP27y87eOGFdqDPmePqbACAmiPQzSLQHUR6DbrTReI8Xr+2PXyO/Rr0bR+7PDkAIBoEujmBjdsI68/6NvDuo9262YE+e7arswEAao5AN4tAd1Ddq7hvfLizfRX3rctdnBoAEC0C3ZzQQC8sLDt40UV2oM+a5epsAICaI9DNItAdRNq4zcsr0C9GvBf+PuijP9DBpy60A30Tr0EHgFRAoJsT2Lg9YvVR8O695BI70GfMcHU2AEDNEehmEegOKtu4LfryG3m8fl3y+ELlbNqn4pJSaVJ3O9DXc3VaAEgFBLo5gY2bz+qrQ4fKDv7qV3agv/OOq7MBAGqOQDeLQHdQ2cZtxaa98nj96jF+SfnByT3sQP/Sn8ApAQCxItDNCQ30w4fLDnbvbgf6W2+5OhsAoOYIdLMIdAeVbdw+3bZfHq9f3ceVPZ29pFh64RI70BeNsn8NAEhqBLo5gY1blnWfjhwpO3j55XagT5/u6mwAgJoj0M0i0B1UtnFbs7Mw+NpzrXtXGl92gbjAGt/ZPg4ASFoEujmBjdvD1v06erTs4JVX2oE+bZqrswEAao5AN4tAd1DZxu3L3Qfk8fr11xGPSr4m4XHuSys71oRIB4AkRqCbE9i4Dbce0LFjZQevusoO9H/9y9XZAAA1R6CbRaA7qGzjtnnPIXXwztZuXweHOA+J9PEZPN0dAJIUgW5OaKD/8EPZwauvtgP9H/9wdTYAQM0R6GYR6A4q27jt/PZ79R4yrpI4D1lblrkwPQCgKgS6OYGN2zCrn4oD/079m9/Ygf7qq67OBgCoOQLdLALdQWUbt28OHlW/IUOjC/Q1b7swPQCgKgS6OYGN21Crv0pKyg7+9rd2oL/yiquzAQBqjkA3i0B3UNnG7bvvj/EIOgCkOALdnNBALy0tO3jttXagv/yyq7MBAGqOQDeLQHdQ2cbt+2PH1cE7W7uy0lXqeJE4XoMOAMmOQDcnsHEbYg0oP3j99Xagv/SSe4MBAOKCQDeLQHdQ2cbteHGJPF6/7h2SVRboFSOdq7gDQLIj0M0pD/SB5QdvvNEO9EmT3BsMABAXBLpZBLqDyjZupaWlSh/sl8frV+Fn7zi8D3oGcQ4ASY5AN6f8Ke4hgX7zzXagv/CCe4MBAOKCQDeLQHdQ1cat47C58nj92vnt9/bT2N++y47z6XfwtHYASAEEujnlj6A/WH7wf//XDvQJE9wbDAAQFwS6WQS6g6o2buf75svj9WvznkP2gYUj7UD3D0rglACAWBHo5gQDvfZfyg/27m0H+nPPuTcYACAuCHSzCHQHVW3cuj76vjxev77afdA+sKTsqu7v9kvglACAWBHo5pQHesg/Wt9yix3ozzzj3mAAgLgg0M0i0ENMmDBBGRkZ6tixY6Ubt4tGfyCP1681OwvtAx8+bQf6zL4JnBYAECsC3Zzga9DrhAT6bbfZgf7UU+4NBgCICwLdLALdQVUbt+7jFsnj9evTbfvtAzkT7EB/508JnBIAECsC3ZzgI+in/bX84O2324H+5JPuDQYAiAsC3SwC3UFVG7ce45fI4/Vrxaa99oFPXrID/c3bEzglACBWBLo5wUCv+7fyg5mZdqCPG+faXACA+CDQzSLQHVS1cfvNM8vk8fq1ZP0e+8CnU+1An3ZL4oYEAMSMQDcn+BT30EC/80470MeMcW8wAEBcEOhmEegOqtq4XT9huTxev95f9x/7wOp/2YH+z5sTOCUAIFYEujnBQK8XEuh/+pMd6KNHuzcYACAuCHSzCHQHVW3c/ndSjjxev/xfFNgHvnjLDvRXr03glACAWBHo5gQDvf5D5QfvuccO9JEj3RsMABAXBLpZBLqDqjZut03+WB6vXzNXf20fWDvTDvRXfpPAKQEAsSLQzXEM9D//2Q70Rx91bzAAQFwQ6GYR6A6q2rjdOXWlPF6/3ly5wz7w5Rw70CdfmcApAQCxItDNCQZ6A2/5wb597UB/5BH3BgMAxAWBbhaB7qCqjduf//GpPF6//vHRNvvAhvftQJ/0/xI4JQAgVgS6OcFAbzi4/OD999uBnpXl3mAAgLgg0M0i0B1UtXF7YNpqebx+vfzhFvvA5sV2oE+8KGEzAgBiR6CbEwz000MCvV8/O9CHD3dvMABAXBDoZhHoDqrauP3lzc/l8fr14pJN9oFtK+xAf+6CBE4JAIgVgW5OYOM2rFFIoA8YYAf60KHuDQYAiAsC3SwC3UFTv8fvAAAgAElEQVRVG7eH3vlCHq9fff/5qXI27VPx9k/sQH/6ZwmeFAAQCwLdnOAj6I2GlB988EE70AcPjvyJAICUQKCbRaA7qGzjNi+vQBkPz5PH6w+uO0b+3Q70Jzu7MC0AoLoIdHOCgd445NHyQYPsQH/oocifCABICQS6WQS6g0gbt3l5BUoPCfPA6jn4RcmXpqLRHVyaGABQHQS6OcGnuIcG+t/+Zgf6X//q3mAAgLgg0M0i0B04bdyKS0p10egPTohzj9evywe/JPnSdMDXWsUlpS5ODgCIBoFuTjDQ04aVH/R67UD/y1/cGwwAEBcEulkEugOnjVvOpn2Oce7x+nXp4FckX5q+z2qhnE37XJwcABANAt2cYKA3Cbli+5AhdqAPHOjeYACAuCDQzSLQHTht3Gblfh0x0Lt5/yH50nQs60zNyv3axckBANEg0M0JBvqPHi4/OGyYHej9+7s3GAAgLgh0swh0B9V9BP2/vNPsi8T50pSzca+LkwMAokGgmxPYuA0/MyTQH37YDvQHHnBvMABAXBDoZhHoDip7DbrTReJ+5n0zGOjFPxS5ODkAIBoEujnBR9DPzCo/6PPZgX7ffa7NBQCIDwLdLALdQXWv4t7Zmx0MdBUdcmlqAEC0CHRzygPdV35wxAg70Pv0cW0uAEB8EOhmEegOqnof9C4j3gu/SNyo98oD/ci3LkwMAKgOAt2c4FPcm/rKDz72mB3o997r2lwAgPgg0M0i0B1UtXFb9OU38nj9uuTxhcrZtE/FxSXlgX7omwRPCwCoLgLdnGCgN3uk/OCoUXag3323e4MBAOKCQDeLQHdQ1cbtky377fc/f2Jx+cFHm9uBXsgfVABIdgS6OcFAbz6i/ODjj9uBftdd7g0GAIgLAt0sAt1BVRu3L3Z+J4/Xr4tHf1B+cFQbO9D3b0nQlACAWBHo5gQ2bg+3CAn0sWPtQP+//3NvMABAXFQ30H0+nyzLClstW7Y0PGXqItAdVLVx2/Cfg/J4/frFiPfKDz5+lh3oe9YnaEoAQKwIdHOCgf7jR8sPPvGEHeh33OHeYACAuIgl0M877zzt3r07uPbs2WN4ytRFoDuoauO2Y//38nj96jR8bvnBcefYgb47L0FTAgBiRaCbEwz0lo+VHxw/3g70P/7RvcEAAHERS6B36dLF8FQnDwLdQVUbtz0Hi4JXcC8tLbUPjv+pHei7VidwUgBALE6lQJ84caLS09NVv359de3aVcuWLYt42+zsbPXo0UPNmzdX48aNddFFF2n+/PnV+n7BQG81svzg00/bgX7rrbH+GACAJBH4ez4/P18HDhwIrqKiIsfb+3w+nX766WrdurXS09PVu3dvbd68OcFTpw4C3UFVG7dDRceDgX70h2L74DNd7EDf8UkCJwUAxOJUCfTp06erbt26mjx5svLz8zVgwAA1atRI27dvd7z9gAEDNHbsWK1cuVIbNmzQkCFDVLduXa1eHf0/Pgc2blmtQwL92WftQP/DH2r6IwEAXBb4e77i8vl8jrefO3eu3nnnHa1Zs0YLFizQZZddppYtW2rfvn2JHTxFEOgOqtq4HS8uCQb6t4ePSSXF5Y+g50y0fw0ASFqnSqB369ZNffr0CTvWuXNnDR48OOqv8dOf/lQjRoyo+oZlgoHeJiTQn3/eDvTf/z7qrwMASE7VfQS9osOHD6tly5YaP3684UlTE4HuIJqN2zlD59iBvuptaXzn8vdB96XZv173bgInBgBUx6kQ6MeOHVOdOnU0Y8aMsOP9+/dX9+7do/oaJSUlat++vZ5//vmov28w0NuNKj84caId6L/7XdRfBwCQnOLxNms9evQ44R+QYSPQHUSzcTvfN1/3DslSqa9JeJz70iRfE3sR6QCQlE6FQN+1a5csy9KKFSvCjo8aNUodO3aM6muMGzdOTZs21TfffBPxNkVFRWGPoOTn558Y6C++aAf6TTfF9LMAAJJHTQO9qKhIbdu2rdazs04lBLqDaDZuv3xsvnZlpav0hDgPifTxGTzdHQCS0KkU6Dk5OWHHR44cqU6dOlX5+dOmTdPpp5+uBQsWVHo7p/e3tSxLvvajy2/097/bgX7DDTH9LACA5FHdQB80aJCWLFmiLVu26OOPP1avXr3UuHFjbdu2zfCkqYlAdxDNxq3f6GcjhHmFtSXy1XIBAO44FQK9Jk9xnz59uho2bCi/31/l94n0CLrvrMfLbzR5sh3o110X088CAEge1Q303r17q3Xr1qpbt67atGmjm266SevWrTM8Zeoi0ENMmDBBGRkZ6tixY5Ubt9FjHo0u0Ne8ncCfAAAQjVMh0CX7InF9+/YNO5aRkVHpReKmTZumBg0aaObMmTF9z8DG7RFPSKBPmWIHeq9eMX1NAEDyiMdr0BEZge4gmo3b0Kde4BF0AEhRp0qgB95mbcqUKcrPz9fAgQPVqFGj4NMKBw8erNtvvz14+2nTpum0007TxIkTtXv37uAqLCyM+nsGAz19TPnBqVPtQP+f/4nXjwYAcAmBbhaB7iCajVvvFz8sew2600XieA06ACSzUyXQJWnixInyeDyqV6+eunbtqqVLlwY/lpmZqcsuuyz468suu8zx9eSZmZlRf79goHcYW37wtdfsQL/mmjj8RAAANxHoZhHoDqLZuN0x5eOyq7inOUQ6V3EHgGR2KgV6ogUD/eyQQP/nP+1A79nTvcEAAHFBoJtFoDuoauM2L69AnYbNlcfr171DsrQrK73C+6BnEOcAkMQIdHMCG7cRoYH++ut2oPfo4d5gAIC4INDNItAdVLZxm5dXoHSvX56Q1cE7W3OHXyn50vT1y7fxtHYASHIEujnBQP/JuPKDb7xhB/oVV7g3GAAgLgh0swh0B5E2bsUlpbpo9AdhcR5YLw67TfKl6fVHb1NxSalLkwMAokGgmxMM9HOfKD/45pt2oP/61+4NBgCICwLdLALdQaSNW86mfY5x7vH69cyw/5N8aXpt2M3K2bTPpckBANEg0M0JbNweDQ30t9+2A72K918HACQ/At0sAt1BpI3brNyvIwb62KH3SL40TR92nWblfu3S5ACAaBDo5gQ2bo91erL8YHa2Hei/+pV7gwEA4oJAN4tAdxDLI+iPDr1P8qVp5vBreAQdAJIcgW5O8BH0TuPLD86caQf6JZe4NxgAIC4IdLMIdAdVvQa94kXiPF6/hg0dIPnStHBET16DDgBJjkA3JxjonZ8qP/juu3agX3SRe4MBAOKCQDeLQHdQ3au4e7x+/XXoXyVfmr558VoXJgYAVAeBbk7wKe4ZIYH+73/bgd6tm3uDAQDigkA3i0B3EM37oP9ixHthgf7wYz77PdBfJdABINkR6OYEA/28p8sPzpljB/qFF7o3GAAgLgh0swh0B9Fs3D4qez36hSMXKGfTPhWve9cO9Jd7JnBSAEAsCHRzgoF+/jPlB+fNswO9a1f3BgMAxAWBbhaB7iCajdu6XQfk8fp1wWPv2wc2vG8H+iTeQgYAkh2Bbk5g4zbqZyGB/t57dqB36eLeYACAuCDQzSLQHUSzcdux/3t5vH51HDbXPrBlqR3oE36ZoCkBALEi0M0JBvrPny0/uGCBHeg/+5l7gwEA4oJAN4tAdxDNxu27748FX39+7HiJtOMTO9Cf4dEBAEh2BLo5wUDv8lz5wYUL7UA/7zz3BgMAxAWBbhaB7iCajdvx4pJgoO8/fEwq+NwO9Cc7J3BSAEAsCHRzAhu30b8ICfTFi+1Az8hwbS4AQHwQ6GYR6A6i3bh1Hj5PHq9f2/YdlvZ8ZQf6mPQETQkAiBWBbk4w0Ls+X35w6VI70Dt1cm8wAEBcEOhmEegOot24/ffIBfJ4/cr7ulD6dqsd6CNbJ2ZIAEDMCHRzAhu3xy+YUH7www/tQD/3XPcGAwDEBYFuFoHuIJqNW3FJqS4a/YE8Xr9eXrZZxYUFdqA/cmYCJwUAxIJAN8cx0HNy7ED/yU/cGwwAEBcEulkEuoOqNm7z8gqCcR5YV42aZQe6L00qPp7giQEA1UGgmxPYuI25MCTQP/7YDvQOHdwbDAAQFwS6WQS6g8o2bvPyCpQeEuaB1ck7ozzQiw65MDUAIFoEujnBQP/vieUHV660A93jcW0uAEB8EOhmEegOIm3cQp/WXnGle2cHA7340F6XJgcARINANycY6L98ofzgp5/agd6+vXuDAQDigkA3i0B3EGnjlrNpn2OcB1ZRVlPJl6ZPv8hzaXIAQDQIdHMCG7exoYG+erUd6G3bujcYACAuCHSzCHQHkTZus3K/jhjnHbyzdTiruR3o774olRS7ND0AoCoEujnBQL/4xfKDn39uB3pr3ukEAFIdgW4Wge6guo+g3zskS7uy0stfg+5Lk8Z3lta969JPAACoDIFuTjDQL5lUfnDNGjvQW7Z0bzAAQFwQ6GYR6A6qeg16eoU4L8lKU0lWWnig+5rYi0gHgKRDoJsT2LiNuzQk0NeutQO9RQv3BgMAxAWBbhaB7iCaq7inlz2tfVdWukOch0T6+Aye7g4ASYZANyewcfvX+X+RisvOf/n5dqA3a+bucACAGiPQzSLQHUT7Pui9h4yLEOYV1pZlCf4JAACVIdDNCWzcDliW1K6dlJ0tffWVHehnnun2eACAGiLQzSLQHUSzcSsuKdXK2ZOiC/Q1bydwegBAVQh0c8ICvVYtez3/vB3oTZq4PR4AoIYIdLMIdAfRbty+/2oRj6ADQAoi0M0JC/RApLdqZf/vBg2kxYvLn/oOAEg5BLpZBLqDaDdux3/4QQW8Bh0AUg6Bbs4Jge60Ak99BwCkHALdLALdQTQbt8Dr0LmKOwCkHgLdnKgCPfDUdyIdAFIOgW4Wge4gmovEVXyrtRPfBz2DOAeAJEWgmxNVoAcivX17nu4OACmGQDeLQHdQ2cYt8F7onpBA95S95dq7w3tKvjQtGHGNio8fd2FyAEA0CHRzog70wFq82O2RAQDVQKCbRaA7qGzjlrNp3wlxHljjh94l+dL0r2E3KmfTPhcmBwBEg0A3p9qBPm2a2yMDAKqBQDeLQHdQ2cZtVu7XEQP90aF9JV+aZgz/jWblfu3C5ACAaBDo5vAIOgCc3Ah0swh0B7E+gj546IOSL03vD7+cR9ABIIkR6OYENm7jer1hX629Vi1egw4AJxEC3SwC3UE0r0FPdwj0fkOGSr40rXrkUhWXlLowOQAgGgS6OYGNW9++O+2rtAeu2M5V3AHgpECgm0WgO4j2Ku4VI/2uISMkX5q+e+ZXCZ4YAFAdBLo5gY3bffeVbdyys+1H0kMDvX174hwAUhSBbhaB7iDa90HvMuK9sED/w5Cxki9Nh578rwROCwCoLgLdnMDG7YEHQjZuxcVSw4Z2nP/rXzytHQBSGIFuFoHuINpAr/gIeq/Bz0m+NH2d1UHz8goSODEAoDoIdHMCG7d+/Sps3Jo3twN97Vp3BgMAxAWBbhaB7qCqjVuk90K/YvDfJV+aCrNa6aLRH/A6dABIUgS6OYGN24ABFTZugae5f/qpO4MBAOKCQDeLQHdQ1cYt0pXcu3n/IfnS9EPWmfJ4/82V3AEgSRHo5gQ2bgMHVti4nXOOHegrVrgzGAAgLgh0swh0B1Vt3CK9F/rPvdMlX5rkS9NtQ0Zr1urtCZ4cABANAt2cwMbtwQcrbNzOO88O9IULVVpaqh9++EFHjx5lubB++OEHlZbyLD8AsSHQzSLQHcTyCPq9Q7JUkJUeDHT50lQ0tqO07t0ETw8AqAqBbk5g4/aXv1TYuF1wgWRZOjZvnrZt26b8/HyWi2vbtm06duyYO39IAKQ0At0sAt1BtK9BTw+J85KsNJVkpYUFeqmvieRrQqQDQJIh0M0JbNz++tcKG7dLL1XJaafpq48+0saNG1VYWKgjR464/mjyqbaOHDmiwsJCbdy4UV999ZVKSkrc+YMCIGUR6GYR6A6ivYq7x+tXB+9s7cpKPyHOy1cTaXyGVMJbygBAsiDQzQls3B56qMLG7cordbR9e+WvXKnvv//eneEQ9P333ys/P19Hjx51exQAKYZAN4tAdxDNxq24pFRdRryn3kPGRQjzCmvLsgT+BACAyhDo5gQ2bl5vhY3b//yPjno8yl+5kihMAkePHiXQAcSEQDeLQHcQzcYt8Dr0fkOGRhfoa95O4E8AAKgMgW5OYOM2eHCFjdtNN9mB/sknRGESINABxIpAN+ukDfQbbrhBP/rRj3TzzTdX+3Oj2bgFruTOI+gAkHoIdHMCG7chQyps3G691Q70jz8mCpMAgQ4gVgS6WSdtoC9atEizZ882FuiBR9Creg16Ka9BB4CkQ6CbE9i4DRtWYeN25512oH/0Uc2jsLhYWrxYmjbN/m+x2XNsZmamLMs6YW3cuPGEj5922mnq0KGDBg0apMOHD8d9Fp/Ppy5dutT46xDoAGJFoJt10ga6JC1evNhYoIdeyT3SVdxLAoHOVdwBIKkQ6OYENm7Dh1fYuPXtawd6Tk7NojA7W2rXzn5P9cBq184+bkhmZqauueYa7d69O2wVl/3DQOjHd+zYoddff10NGzZUnz59ov4e0b7lGYEOwG0EullJGehLly5Vr1691Lp1a1mWpZkzZ55wm4kTJyo9PV3169dX165dtWzZiU8hNxnoUvmV3ANvtbarwvug78rqoNXzX6329wcAmEWgmxPYuGVlVdi4PfigHegrVsQehdnZUq1a4XFuWfaxWrWMRXpmZqauv/76an387rvvVqtWrSJ+jsfj0WOPPabMzEylpaXpjjvukCQ99NBDOvfcc9WwYUN16NBBw4cP1w8//CBJmjp16gmP4k+dOlWSVFhYqHvuuUctWrRQ48aNdfnll+vzzz+P+P0JdACxItDNSspAnzt3roYNG6bs7GzHQJ8+fbrq1q2ryZMnKz8/XwMGDFCjRo20ffv2sNuZDvTAldwDkd7BO1tPDL1L8qVp98Nn6ZYhY3TJqPdUXFJa7RkAAOYQ6OYENm4+X4WN2+DBdqAvX14ehaWl0uHD0a0DB6S2bU+M89BIb9fOvl00X680+nNzLIHer18/NWvWLOLneDwepaWl6YknntDGjRuDT5d/7LHHtGLFCm3dulWzZ89Wy5YtNXbsWEnSkSNHNGjQIJ133nnBR/GPHDmi0tJSXXrppbr22mu1atUqbdiwQYMGDVKzZs20f/9+x+9PoAOIFYFuVlIGeiinQO/WrdsJTxvr3LmzBg8eHHYs2kAvKirSgQMHgivwh66qjVvgdeihj6LvzWpX4VH0dH216F9R/rQAgEQg0M0JnENHjKiwcXvkETvQP/ywPAoPH44c3KZXNV4fnpmZqTp16qhRo0bB9bvf/S7s46GB/sknn6hZs2b6/e9/H/Frejwe3XDDDVV+73HjxumCCy4I/trpKe4LFy5UWlqaioqKwo7/5Cc/0d///nfHr0ugA4gVgW5WygX6sWPHVKdOHc2YMSPsdv3791f37t3DjkUb6D6fz/HiL1Vt3AJXcvdU9jr0LF6HDgDJhkA3J2KgjxmT0oHeo0eP4CPdGzduVEFBQdjHAwFfv3591a5dWzfeeKO++eabiF/T4/Fo5MiRJxx/++23demll6ply5bBr9eiRYvgx50Cfdy4capdu3bYPyA0atRItWvX1kMPPeT4/Ql0ALEi0M1KuUDftWuXLMvSihUrwm43atQodezYMfjrnj17qnnz5mrYsKHatm2rlStXRvweNX0EveoruadxJXcASCIEujmBc+hjj1XYuD39tB3oy5bF9hT3uXOjC++5c115insg4Ldt2xZ8zXhlPB6Pnn766bBjH330kerUqaORI0cGn6r+6KOPqkmTJsHbOAX6mDFj1LZt27B/QAisvXv3On5/Ah1ArAh0s1I20HNycsJuN3LkSHXq1Cku37M6r0H/5agFvBc6AKQYAt2cwMZt5MgKG7cXX7QDfenS2KKwuNh+jbnTReICr0Fv397IW67F8hr0qjgF+pNPPqmzzz477Nif/vSnsEAfNWqUzj///LDbvP/++6pTp462bt0a9fcn0AHEikA3K+UCvTpPcY9VdTZuzyxYr35DhkYV6CVfvBWX+QAANUOgmxPYuI0eXWHjNnWqHehLltT8Ku4VIz0Jr+JeFadAnzVrlk477TS98cYb2rRpk5599lk1bdo0LNBff/11NWrUSLm5udq7d6+KiopUWlqqX/3qV+rSpYvmz5+vrVu3asWKFRo2bJhWrVrl+P0JdACxItDNSrlAl+yLxPXt2zfsWEZGxgkXiYtVdTZus3K/jvoR9NnDeurmF5ar/7TP1H/aZ+r3+qe69aWPdPdrK/XS0s06drwkLvMDACpHoJsT2Lg9/niFjdu0aXagL14c//dBb9/e+PugJyLQJelvf/ubmjVrpjPOOEO9e/fW008/HRboRUVFuvnmm/WjH/0o7G3WDh48qH79+qlNmzaqW7eu2rdvr9tuu007duxw/P4EOoBYEehmJWWgHzp0SLm5ucrNzZVlWXrqqaeUm5sbfBu1wNusTZkyRfn5+Ro4cKAaNWqkbdu2xeX7V2fjlrNpX9lr0D0qjfAa9OBr0bPS9NXwTsoefo2yh/9Gzw27XX8YMkYdvLODF5u7/ImFwYCPdvV7/VPd8vcc3TjxQ93y9xz1e716nx/6NW4q+weEFxdv1Jh5+WG3GfDGao2Zl69JSzad8LHKZnH6vAFvrNa4+V9q+ca9Ona8RMs37NUT87/U2HlfVvr1Q7/WuAi3r/j9Ar9+aelmvfPpTr20NPLXj7Ri+RqBn3HJl99o0pJNuvvVlbrtpY/0+Jzy+Z+Y/1XwPsjZtE+zcr/W8g17tWz9Ho0NmT30Zxk3/0stW79Hyzfu1YzPdurlZeEzRfr5ne7Xyn6u0N+jwFsFFpeUavmGvXp87jrd+tJH+tOrn2hI9hcaO7f8ZykuKVVxSalyNu3TjM/C5wr9ehVvE7g/Aj/brNyvlbNpX6X3TeC+cDoWuH+cvn/gz9zYsp810p/b0K//RMh8Fb9f6O9hxe8Zev++vGyzZqw+8efK2bQveJ+EzuX056myn7fifVbxvg39vQwI/D4E7t/QrxN629DbVfaxyr5G6O0DP2ekPxeRfv+j+dqR5oz173lUT2DjNnZshY3bjBl2oC9aVPMoLC6WFi+Wpk2z/2vgae0nOwIdQKwIdLOSMtAXL17seFX1zMzM4G0mTpwoj8ejevXqqWvXrlq6dGncvn91Nm7FJaXq8sh7enLondG9Dt1hHctqorXDf6oZw68ui/eKqzzmf+Kdpd5DxqnfkKHqPWRcWNyzWKbWTwb7dcWTi3TO0DlV3raD11/l7aK5zam2fjLEr7OHJOb3MvBMnt+9sFydhs+NeNtzh/p11fjF+vUTi3Tu0PDbdRw2Rze/sDzqrxH4x4+bX1ge8fe+un8uAjME/hHDaZbQ24T+Q2SfKcsIdEMiBvq//20H+oIFOrpvX7Uu0ob4I9ABxIpANyspA91t1X1kpTqvQ6/pqvgo/eGspsoZfoGWDr9Ynwy/QEuGX1xJ6Fe2ro7D14jX10mWr8EszHIq/zwn8ywX6h9/7UGgGxLYuD3xRMjGLTtbatHCDvR583R01Srpiy+kb791b9BTHIEOIFYEulkEuoPqBnpxSanuePjJhAQ6i8VisWq+DgxuTKAbEti4Pflk2cYtcGE3ywoP9MAi0l1BoAOIFYFuFoEeYsKECcrIyFDHjh2rvXF79v187c1q6/qmk8VisVhVLwLdnMDG7amndpa/NVrZxdwcA/2LL3i6uwsIdACxItDNItAdxHLxoOKSUv3F56vyQnEsFovFcn8R6OYENm5PP73TvoBbyNXWHQN91Srp4EG3xz7lEOgAYkWgm0WgO4j16r7z8go0aegtRDqLxWIl+SLQzQls3J59dqd9lfXQQD/rLOXPnasjFQN93z63xz7lHDlyhEAHEBMC3SwC3UFN3n5nXl6BXvXdSqSzWCxWEi8C3ZywQK/wCHpxo0bKnzVL+yoGOr8PCbdv3z7l5+ermLeoA1BNBLpZBLqDmr4/bnFJqXa+8aBKk2ATymKxWKwTF4FuTmDj9vzzJ74GXZalgrvuUv6CBdq3apWOrFqlo4H11Vc6unevjh45oqNHj7IMrSNHjgTjvKCgwO0/LgBSEIFuFoHuoKaBHrR2pkpHtXF9I8pisVis8EWgmxPYuE2YULZxe+utsEAvrVXLjvRZs5Q/d67y5807ceXkKH/dOuXn57MMrYKCApVycT4AMSDQzSLQHcQt0CWppFjatFj6YIT09p+kt++SXr5aGtHU9Q0qi8VinaqLQDcnsHEbOHCniot1wtPcg093P/10HT3rLB31eJxXerqO3nSTjt5/f3Srb18d/cMfdPSGG+z/3ndf9J8b76+TLF/D6ev07aviO+6Qbrkl+tW7t3TlldIll9j//cMfqvf58fw6J9ssJ9vPwyynxM+z98YbCXSDCHQHcQ30SEqKpQ0fSO/8SZp8lTT1Wumtu+yAD10vXy092tz1zSyLxWKdTItANycQ6Ja1U+3aSZ8MnOYY6CwWi8VKzXXAskSgm2O5PUAySkigV0foo/Dv3CMt8EnLn5UWPGI/Kv/WnXbgT+4ROfSrWvH4GvH6OsnyNZiFWU7ln+dknuXlq3TgH3ck19/zJ5HQQK9VS/q1tdj1zSSLxWKx4rcIdLMstwdIJhMmTFBGRoY6duwoNm4AcPJKun+IPYmEBrplSXWsYu2t3dz1DSWLxWKx4rMIdLMstwdIRmzcAODkxt/z5lQMdMuSbrbeUmkSbCpZLBaLVfNFoJtluT1AMiosLAz+oTtw4ACLxWKxTrIViMjCwkK3Tzknne3bt8sO9JWyI91ey6/8swrLNnYsFovFSt2107IDffv27W6fck5KBLqDzZs3l20uWCwWi3UyL/71P/6WL1/u+u8ri8ViscyvlStXun3KOSkR6A6++yWCqOwAAA1CSURBVO47WZalHTt2uP4oT6yPCqXqo/+pPD+zMz+zp84qLCzUzp07VVJS4vYp56Szf/9+WZaltWvXaufOnSm38vPzZVmW8vPzXZ+F2VNjpfLsqT4/s7uztm/frpUrV+r48eNun3JOSgS6gwMHUve1iak8u5Ta8zO7e1J5fmbHySbV/1yk8vzM7o5Unl1K7fmZHScjAt1BKv8fJpVnl1J7fmZ3TyrPz+w42aT6n4tUnp/Z3ZHKs0upPT+z42REoDtI5f/DpPLsUmrPz+zuSeX5mR0nm1T/c5HK8zO7O1J5dim152d2nIwIdAdFRUXy+XwqKipye5RqS+XZpdSen9ndk8rzMztONqn+5yKV52d2d6Ty7FJqz8/sOBkR6AAAAAAAJAECHQAAAACAJECgAwAAAACQBAh0AAAAAACSAIHuYOLEiUpPT1f9+vXVtWtXLVu2zO2RTuDz+WRZVthq2bJl8OOlpaXy+Xxq3bq1GjRooMsuu0xr1651ZdalS5eqV69eat26tSzL0syZM8M+Hs2sRUVFeuCBB9SsWTOdfvrpuvbaa7Vz507XZ8/MzDzh9+GXv/xlUsw+evRoXXjhhTrjjDPUokULXX/99frqq6/CbpOs9300syfzff/CCy/oZz/7mRo3bqzGjRvroosu0ty5c4MfT9b7PZrZk/l+R3LgHBpfnEM5h5qYPZnve86hnENPdQR6BdOnT1fdunU1efJk5efna8CAAWrUqJG2b9/u9mhhfD6fzjvvPO3evTu49uzZE/z4mDFj1LhxY2VnZysvL0+9e/dW69atdfDgwYTPOnfuXA0bNkzZ2dmOJ+hoZu3Tp4/atm2rBQsWaPXq1br88svVpUsXFRcXuzp7ZmamrrnmmrDfh/3794fdxq3Zr776ak2dOlVr167V559/rt/+9rc666yzdPjw4eBtkvW+j2b2ZL7vZ8+erTlz5mj9+vVav369hg4dqrp16wY3EMl6v0czezLf73Af59D44xzKOdTE7Ml833MO5Rx6qiPQK+jWrZv69OkTdqxz584aPHiwSxM58/l86tKli+PHSktL1apVK40ZMyZ4rKioSE2aNNGkSZMSNaKjiifoaGYtLCxU3bp1NX369OBtdu3apdq1a2v+/PmuzS7Zf9Fef/31ET8nWWaXpD179siyLC1dulRSat33FWeXUuu+l6QzzzxTL7/8ckrd7xVnl1LvfkdicQ41i3Mo59B4zC6l1n0vcQ7lHHpqIdBDHDt2THXq1NGMGTPCjvfv31/du3d3aSpnPp9Pp59+ulq3bq309HT17t1bmzdvliRt3rxZlmVp9erVYZ9z3XXX6Y477nBj3KCKJ+hoZl24cKEsy9K3334bdpuf//znysrKMj90mUibiyZNmqhFixY699xzdffdd+ubb74JfjxZZpekjRs3yrIs5eXlSUqt+77i7FLq3PfFxcV64403VK9ePa1bty6l7veKs0upc78j8TiHmsc51MY5tHo4hybH7FLq3O9wF4EeYteuXbIsSytWrAg7PmrUKHXs2NGlqZzNnTtX77zzjtasWaMFCxbosssuU8uWLbVv3z6tWLFClmVp165dYZ9zzz33qGfPni5NbKt4go5m1tdff1316tU74WtdddVVuvfee80OHMJpczF9+nT5/X7l5eVp9uzZ6tKli8477zwVFRVJSp7ZS0tLde211+pXv/pV8Fiq3PdOs0vJf9+vWbNGjRo1Up06ddSkSRPNmTNHUmrc75Fml5L/fod7OIeaxznUxjk0epxDk2d2KfnvdyQHAj1EYHORk5MTdnzkyJHq1KmTS1NF5/Dhw2rZsqXGjx8f/MuroKAg7DZ33323rr76apcmtEXaXFQ2a6S/rHr06KE///nPZgcO4bS5qKigoEB169ZVdna2pOSZ/b777pPH4wm7yEiq3PdOsztJtvv+2LFj2rhxo1atWqXBgwerefPmWrduXUrc75Fmd5Js9zvcwznUPM6hNs6h0eMcmjyzO0m2+x3JgUAPkUpPz3PSo0cP9enTh6fnGRLN5kKSzjnnnOBro5Jh9gceeEDt2rXTli1bwo6nwn0fafZIku2+D3XllVfq3nvvTYn7vaLA7JEk8/2OxOEcah7nUBvn0OhwDk2u2SNJ5vsd7iDQK+jWrZv69u0bdiwjIyPpLnBTUVFRkdq2basRI0YEL6AxduzY4MePHTuW1Be4qWzWwAUz3nzzzeBtCgoKkuICNxXt27dP9evX12uvvSbJ3dlLS0t1//33q02bNtqwYYPjx5P1vq9qdifJdN87ueKKK5SZmZnU93tVsztJ9vsdicU51CzOoZxD4zG7k2S6751wDuUceioh0CsIvEXMlClTlJ+fr4EDB6pRo0batm2b26OFGTRokJYsWaItW7bo448/Vq9evdS4cePgnGPGjFGTJk00Y8YM5eXl6ZZbbnHtLWIOHTqk3Nxc5ebmyrIsPfXUU8rNzQ2+7U40s/bp00ft2rXTBx98oNWrV+uKK65IyFtOVDb7oUOHNGjQIOXk5Gjr1q1avHixLr74YrVt2zYpZu/bt6+aNGmiJUuWhL2dx5EjR4K3Sdb7vqrZk/2+HzJkiJYtW6atW7dqzZo1Gjp0qGrXrq33339fUvLe71XNnuz3O9zHOTT+OIdyDo337Ml+33MO5Rx6qiPQHUycOFEej0f16tVT165dw96WIlkE3vOxbt26atOmjW666aaw17eUlpbK5/OpVatWql+/vrp37x529c5EWrx4sSzLOmEF/jUxmlmPHj2qBx54QE2bNlXDhg3Vq1cv7dixw9XZjxw5op49e6pFixaqW7euzjrrLGVmZp4wl1uzO81tWZamTp0avE2y3vdVzZ7s9/1dd90V/DukRYsWuvLKK4MbCyl57/eqZk/2+x3JgXNofHEO5Rwa79mT/b7nHMo59FRHoAMAAAAAkAQIdAAAAAAAkgCBDgAAAABAEiDQAQAAAABIAgQ6AAAAAABJgEAHAAAAACAJEOgAAAAAACQBAh0AAAAAgCRAoAMAAAAAkAQIdABRsyxLM2fOdHsMAABSEudRAFUh0IEUkZmZKcuyTlhXX311wmZgYwEASFWcRwGkAgIdSBGZmZm65pprtHv37rD17bffJmwGNhYAgFTFeRRAKiDQgRSRmZmp66+/PuLHLcvSCy+8oGuuuUYNGjRQenq63nrrrbDbrFmzRpdffrkaNGigpk2b6p577tGhQ4fCbjNlyhT99Kc/Vb169dSqVSvdf//9Yd9j8uTJuuGGG9SwYUOdc845evfdd4Mf//bbb3XrrbeqefPmatCggc455xy98sorcboHAACIHedRAKmAQAdSRDQbi2bNmmny5Mlav369hg8frjp16ig/P1+S9P3336tNmza66aablJeXp4ULF6pDhw7KzMwMfo0XXnhBDRo00DPPPKP169dr5cqVevrpp8O+R7t27TRt2jRt3LhR/fv31xlnnKH9+/dLku6//3794he/0KpVq7R161YtWLBAs2fPNnOHAABQDZxHAaQCAh1IEZmZmapTp44aNWoUth599FFJ9km/T58+YZ/zy1/+Un379pUkvfTSSzrzzDN1+PDh4MfnzJmj2rVr6z//+Y8kqU2bNho2bFjEGSzL0vDhw4O/Pnz4sGrVqqV58+ZJkq699lrdeeed8fmBAQCII86jAFIBgQ6kiMzMTPXo0UMbN24MW4F/dbcsS6+99lrY5wwcOFC//vWvJUkPPvhg8H8HFBYWyrIsLV26VN98840sy9KiRYsizmBZ1glP90tLSwt+37lz56phw4bq0qWL/va3v2nFihU1/rkBAIgHzqMAUgGBDqSIaJ6a57SxuPzyy0/43wGBjcWyZct08ODBqDYWFS9u06RJE02dOjX46z179mjq1Km67bbb1KBBAw0aNCjaHxEAAGM4jwJIBQQ6kCKi2VgEnoYXcNFFF1XrqXnp6elVPjWvqo1FqEmTJqlx48aV/lwAACQC51EAqYBAB1JEpLeH2bt3ryT7pN+8eXNNmTJF69evV1ZWlmrXrq1169ZJsi9u07p1a918883Ky8vTokWLdPbZZ4dd3ObVV19VgwYN9Oyzz2rDhg367LPP9NxzzwU/XtXG4uGHH9asWbO0ceNGrV27Vr169VK3bt3M3jEAAESB8yiAVECgAykiMzNTlmWdsDp16iTJPulPnDhRV111lerXry+Px6M33ngj7GtE8/YwkyZNUqdOnVS3bl21bt1a/fr1C36sqo3FY489poyMDDVs2FBNmzbV9ddfry1bthi4NwAAqB7OowBSAYEOnCScTvoAACA6nEcBJAMCHThJsLEAACB2nEcBJAMCHThJsLEAACB2nEcBJAMCHQAAAACAJECgAwAAAACQBAh0AAAAAACSAIEOAAAAAEASINABAAAAAEgCBDoAAAAAAEmAQAcAAAAAIAkQ6AAAAAAAJAECHQAAAACAJECgAwAAAACQBAh0AAAAAACSAIEOAAAAAEASINABAAAAAEgCBDoAAAAAAEmAQAcAAAAAIAn8fxwP1yNEJHUxAAAAAElFTkSuQmCC\" width=\"1000\">"
      ],
      "text/plain": [
       "<IPython.core.display.HTML object>"
      ]
     },
     "metadata": {},
     "output_type": "display_data"
    }
   ],
   "source": [
    "ax, tax, lax, lines = dual_train_plots()\n",
    "fig = ax.figure\n",
    "plt.tight_layout()\n",
    "# This gets built up during the run - do not rerun this cell\n",
    "results = pd.DataFrame([], columns=Results._fields)"
   ]
  },
  {
   "cell_type": "code",
   "execution_count": 12,
   "metadata": {
    "scrolled": false
   },
   "outputs": [
    {
     "name": "stdout",
     "output_type": "stream",
     "text": [
      "for model:  ACN_3_P_10L_4S_BN(\n",
      "  (conv1): Conv1d(1, 20, kernel_size=(25,), stride=(1,), padding=(12,))\n",
      "  (conv2): Conv1d(20, 10, kernel_size=(15,), stride=(1,), padding=(7,))\n",
      "  (conv3): Conv1d(30, 10, kernel_size=(15,), stride=(1,), padding=(7,))\n",
      "  (conv4): Conv1d(10, 10, kernel_size=(15,), stride=(1,), padding=(7,))\n",
      "  (conv5): Conv1d(20, 10, kernel_size=(15,), stride=(1,), padding=(7,))\n",
      "  (conv6): Conv1d(10, 10, kernel_size=(15,), stride=(1,), padding=(7,))\n",
      "  (conv7): Conv1d(20, 7, kernel_size=(5,), stride=(1,), padding=(2,))\n",
      "  (conv8): Conv1d(7, 3, kernel_size=(5,), stride=(1,), padding=(2,))\n",
      "  (conv9): Conv1d(10, 1, kernel_size=(5,), stride=(1,), padding=(2,))\n",
      "  (finalFilter): Conv1d(1, 1, kernel_size=(91,), stride=(1,), padding=(45,))\n",
      "  (ppConv1): Conv1d(2, 20, kernel_size=(25,), stride=(1,), padding=(12,))\n",
      "  (ppConv2): Conv1d(20, 10, kernel_size=(15,), stride=(1,), padding=(7,))\n",
      "  (ppConv3): Conv1d(10, 1, kernel_size=(15,), stride=(1,), padding=(7,))\n",
      "  (ppFC): Linear(in_features=4000, out_features=4000, bias=True)\n",
      "  (conv1dropout): Dropout(p=0.15, inplace=False)\n",
      "  (conv2dropout): Dropout(p=0.15, inplace=False)\n",
      "  (conv3dropout): Dropout(p=0.15, inplace=False)\n",
      "  (conv4dropout): Dropout(p=0.15, inplace=False)\n",
      "  (conv5dropout): Dropout(p=0.15, inplace=False)\n",
      "  (conv6dropout): Dropout(p=0.15, inplace=False)\n",
      "  (conv7dropout): Dropout(p=0.15, inplace=False)\n",
      "  (conv8dropout): Dropout(p=0.15, inplace=False)\n",
      "  (conv9dropout): Dropout(p=0.15, inplace=False)\n",
      "  (bn1): BatchNorm1d(20, eps=1e-05, momentum=0.1, affine=True, track_running_stats=True)\n",
      "  (bn2): BatchNorm1d(10, eps=1e-05, momentum=0.1, affine=True, track_running_stats=True)\n",
      "  (bn3): BatchNorm1d(10, eps=1e-05, momentum=0.1, affine=True, track_running_stats=True)\n",
      "  (bn4): BatchNorm1d(10, eps=1e-05, momentum=0.1, affine=True, track_running_stats=True)\n",
      "  (bn5): BatchNorm1d(10, eps=1e-05, momentum=0.1, affine=True, track_running_stats=True)\n",
      "  (bn6): BatchNorm1d(10, eps=1e-05, momentum=0.1, affine=True, track_running_stats=True)\n",
      "  (bn7): BatchNorm1d(7, eps=1e-05, momentum=0.1, affine=True, track_running_stats=True)\n",
      "  (bn8): BatchNorm1d(3, eps=1e-05, momentum=0.1, affine=True, track_running_stats=True)\n",
      "  (bn9): BatchNorm1d(1, eps=1e-05, momentum=0.1, affine=True, track_running_stats=True)\n",
      ")\n",
      "epoch_start 1320\n",
      "batch_size 128\n",
      "epochs 400\n",
      "lr 1e-06\n",
      "Number of batches: train = 1250, val = 157\n"
     ]
    },
    {
     "name": "stderr",
     "output_type": "stream",
     "text": [
      "/home/michael24peters/pv-finder/notebooks/model/training.py:95: TqdmDeprecationWarning: This function will be removed in tqdm==5.0.0\n",
      "Please use `tqdm.notebook.tqdm` instead of `tqdm.tqdm_notebook`\n",
      "  file=sys.stderr,\n"
     ]
    },
    {
     "data": {
      "application/vnd.jupyter.widget-view+json": {
       "model_id": "540acf766f934def95b8cf464d354166",
       "version_major": 2,
       "version_minor": 0
      },
      "text/plain": [
       "HBox(children=(FloatProgress(value=0.0, description='Epochs', layout=Layout(flex='2'), max=400.0, style=Progre…"
      ]
     },
     "metadata": {},
     "output_type": "display_data"
    },
    {
     "data": {
      "application/vnd.jupyter.widget-view+json": {
       "model_id": "",
       "version_major": 2,
       "version_minor": 0
      },
      "text/plain": [
       "HBox(children=(FloatProgress(value=0.0, description='Training', layout=Layout(flex='2'), max=1250.0, style=Pro…"
      ]
     },
     "metadata": {},
     "output_type": "display_data"
    },
    {
     "name": "stdout",
     "output_type": "stream",
     "text": [
      "Epoch 1320: train=1292.55, val=1282.21, took 42.027 s\n",
      "  Validation Found 903 of 108007, added 55634 (eff 0.84%) (2.78 FP/event)\n",
      "Result epoch:  1320\n",
      "Average Eff:  0\n",
      "Average FP Rate:  0\n"
     ]
    },
    {
     "data": {
      "application/vnd.jupyter.widget-view+json": {
       "model_id": "",
       "version_major": 2,
       "version_minor": 0
      },
      "text/plain": [
       "HBox(children=(FloatProgress(value=0.0, description='Training', layout=Layout(flex='2'), max=1250.0, style=Pro…"
      ]
     },
     "metadata": {},
     "output_type": "display_data"
    },
    {
     "name": "stdout",
     "output_type": "stream",
     "text": [
      "Epoch 1321: train=1217.1, val=1215.03, took 46.424 s\n",
      "  Validation Found 41100 of 108007, added 447038 (eff 38.05%) (22.4 FP/event)\n",
      "Result epoch:  1321\n",
      "Average Eff:  0\n",
      "Average FP Rate:  0\n"
     ]
    },
    {
     "data": {
      "application/vnd.jupyter.widget-view+json": {
       "model_id": "",
       "version_major": 2,
       "version_minor": 0
      },
      "text/plain": [
       "HBox(children=(FloatProgress(value=0.0, description='Training', layout=Layout(flex='2'), max=1250.0, style=Pro…"
      ]
     },
     "metadata": {},
     "output_type": "display_data"
    },
    {
     "name": "stdout",
     "output_type": "stream",
     "text": [
      "Epoch 1322: train=1045.6, val=1090.22, took 41.814 s\n",
      "  Validation Found 84196 of 108007, added 294443 (eff 77.95%) (14.7 FP/event)\n",
      "Result epoch:  1322\n",
      "Average Eff:  0\n",
      "Average FP Rate:  0\n"
     ]
    },
    {
     "data": {
      "application/vnd.jupyter.widget-view+json": {
       "model_id": "",
       "version_major": 2,
       "version_minor": 0
      },
      "text/plain": [
       "HBox(children=(FloatProgress(value=0.0, description='Training', layout=Layout(flex='2'), max=1250.0, style=Pro…"
      ]
     },
     "metadata": {},
     "output_type": "display_data"
    },
    {
     "name": "stdout",
     "output_type": "stream",
     "text": [
      "Epoch 1323: train=798.53, val=938.648, took 40.693 s\n",
      "  Validation Found 92113 of 108007, added 251870 (eff 85.28%) (12.6 FP/event)\n",
      "Result epoch:  1323\n",
      "Average Eff:  0\n",
      "Average FP Rate:  0\n"
     ]
    },
    {
     "data": {
      "application/vnd.jupyter.widget-view+json": {
       "model_id": "",
       "version_major": 2,
       "version_minor": 0
      },
      "text/plain": [
       "HBox(children=(FloatProgress(value=0.0, description='Training', layout=Layout(flex='2'), max=1250.0, style=Pro…"
      ]
     },
     "metadata": {},
     "output_type": "display_data"
    },
    {
     "name": "stdout",
     "output_type": "stream",
     "text": [
      "Epoch 1324: train=532.16, val=779.444, took 41.229 s\n",
      "  Validation Found 94580 of 108007, added 233055 (eff 87.57%) (11.7 FP/event)\n",
      "Result epoch:  1324\n",
      "Average Eff:  0\n",
      "Average FP Rate:  0\n"
     ]
    },
    {
     "data": {
      "application/vnd.jupyter.widget-view+json": {
       "model_id": "",
       "version_major": 2,
       "version_minor": 0
      },
      "text/plain": [
       "HBox(children=(FloatProgress(value=0.0, description='Training', layout=Layout(flex='2'), max=1250.0, style=Pro…"
      ]
     },
     "metadata": {},
     "output_type": "display_data"
    },
    {
     "name": "stdout",
     "output_type": "stream",
     "text": [
      "Epoch 1325: train=293.89, val=625.774, took 40.631 s\n",
      "  Validation Found 96427 of 108007, added 188955 (eff 89.28%) (9.45 FP/event)\n",
      "Result epoch:  1325\n",
      "Average Eff:  0\n",
      "Average FP Rate:  0\n"
     ]
    },
    {
     "data": {
      "application/vnd.jupyter.widget-view+json": {
       "model_id": "",
       "version_major": 2,
       "version_minor": 0
      },
      "text/plain": [
       "HBox(children=(FloatProgress(value=0.0, description='Training', layout=Layout(flex='2'), max=1250.0, style=Pro…"
      ]
     },
     "metadata": {},
     "output_type": "display_data"
    },
    {
     "name": "stdout",
     "output_type": "stream",
     "text": [
      "Epoch 1326: train=141.451, val=488.898, took 40.912 s\n",
      "  Validation Found 98222 of 108007, added 51886 (eff 90.94%) (2.59 FP/event)\n",
      "Result epoch:  1326\n",
      "Average Eff:  0\n",
      "Average FP Rate:  0\n"
     ]
    },
    {
     "data": {
      "application/vnd.jupyter.widget-view+json": {
       "model_id": "",
       "version_major": 2,
       "version_minor": 0
      },
      "text/plain": [
       "HBox(children=(FloatProgress(value=0.0, description='Training', layout=Layout(flex='2'), max=1250.0, style=Pro…"
      ]
     },
     "metadata": {},
     "output_type": "display_data"
    },
    {
     "name": "stdout",
     "output_type": "stream",
     "text": [
      "Epoch 1327: train=68.992, val=363.67, took 40.748 s\n",
      "  Validation Found 99369 of 108007, added 15962 (eff 92.00%) (0.798 FP/event)\n",
      "Result epoch:  1327\n",
      "Average Eff:  0\n",
      "Average FP Rate:  0\n"
     ]
    },
    {
     "data": {
      "application/vnd.jupyter.widget-view+json": {
       "model_id": "",
       "version_major": 2,
       "version_minor": 0
      },
      "text/plain": [
       "HBox(children=(FloatProgress(value=0.0, description='Training', layout=Layout(flex='2'), max=1250.0, style=Pro…"
      ]
     },
     "metadata": {},
     "output_type": "display_data"
    },
    {
     "name": "stdout",
     "output_type": "stream",
     "text": [
      "Epoch 1328: train=38.0423, val=270.892, took 40.574 s\n",
      "  Validation Found 99964 of 108007, added 10331 (eff 92.55%) (0.517 FP/event)\n",
      "Result epoch:  1328\n",
      "Average Eff:  0\n",
      "Average FP Rate:  0\n"
     ]
    },
    {
     "data": {
      "application/vnd.jupyter.widget-view+json": {
       "model_id": "",
       "version_major": 2,
       "version_minor": 0
      },
      "text/plain": [
       "HBox(children=(FloatProgress(value=0.0, description='Training', layout=Layout(flex='2'), max=1250.0, style=Pro…"
      ]
     },
     "metadata": {},
     "output_type": "display_data"
    },
    {
     "name": "stdout",
     "output_type": "stream",
     "text": [
      "Epoch 1329: train=24.4909, val=188.664, took 41.09 s\n",
      "  Validation Found 100300 of 108007, added 8817 (eff 92.86%) (0.441 FP/event)\n",
      "Result epoch:  1329\n",
      "Average Eff:  0\n",
      "Average FP Rate:  0\n"
     ]
    },
    {
     "data": {
      "application/vnd.jupyter.widget-view+json": {
       "model_id": "",
       "version_major": 2,
       "version_minor": 0
      },
      "text/plain": [
       "HBox(children=(FloatProgress(value=0.0, description='Training', layout=Layout(flex='2'), max=1250.0, style=Pro…"
      ]
     },
     "metadata": {},
     "output_type": "display_data"
    },
    {
     "name": "stdout",
     "output_type": "stream",
     "text": [
      "Epoch 1330: train=18.0596, val=130.41, took 40.312 s\n",
      "  Validation Found 100640 of 108007, added 8474 (eff 93.18%) (0.424 FP/event)\n",
      "Result epoch:  1330\n",
      "Average Eff:  0\n",
      "Average FP Rate:  0\n"
     ]
    },
    {
     "data": {
      "application/vnd.jupyter.widget-view+json": {
       "model_id": "",
       "version_major": 2,
       "version_minor": 0
      },
      "text/plain": [
       "HBox(children=(FloatProgress(value=0.0, description='Training', layout=Layout(flex='2'), max=1250.0, style=Pro…"
      ]
     },
     "metadata": {},
     "output_type": "display_data"
    },
    {
     "name": "stdout",
     "output_type": "stream",
     "text": [
      "Epoch 1331: train=14.7342, val=84.7108, took 41.027 s\n",
      "  Validation Found 100892 of 108007, added 8046 (eff 93.41%) (0.402 FP/event)\n",
      "Result epoch:  1331\n",
      "Average Eff:  0\n",
      "Average FP Rate:  0\n"
     ]
    },
    {
     "data": {
      "application/vnd.jupyter.widget-view+json": {
       "model_id": "",
       "version_major": 2,
       "version_minor": 0
      },
      "text/plain": [
       "HBox(children=(FloatProgress(value=0.0, description='Training', layout=Layout(flex='2'), max=1250.0, style=Pro…"
      ]
     },
     "metadata": {},
     "output_type": "display_data"
    },
    {
     "name": "stdout",
     "output_type": "stream",
     "text": [
      "Epoch 1332: train=12.8209, val=56.441, took 40.426 s\n",
      "  Validation Found 101035 of 108007, added 7593 (eff 93.54%) (0.38 FP/event)\n",
      "Result epoch:  1332\n",
      "Average Eff:  0\n",
      "Average FP Rate:  0\n"
     ]
    },
    {
     "data": {
      "application/vnd.jupyter.widget-view+json": {
       "model_id": "",
       "version_major": 2,
       "version_minor": 0
      },
      "text/plain": [
       "HBox(children=(FloatProgress(value=0.0, description='Training', layout=Layout(flex='2'), max=1250.0, style=Pro…"
      ]
     },
     "metadata": {},
     "output_type": "display_data"
    },
    {
     "name": "stdout",
     "output_type": "stream",
     "text": [
      "Epoch 1333: train=11.5855, val=32.9323, took 40.929 s\n",
      "  Validation Found 101340 of 108007, added 7537 (eff 93.83%) (0.377 FP/event)\n",
      "Result epoch:  1333\n",
      "Average Eff:  0\n",
      "Average FP Rate:  0\n"
     ]
    },
    {
     "data": {
      "application/vnd.jupyter.widget-view+json": {
       "model_id": "",
       "version_major": 2,
       "version_minor": 0
      },
      "text/plain": [
       "HBox(children=(FloatProgress(value=0.0, description='Training', layout=Layout(flex='2'), max=1250.0, style=Pro…"
      ]
     },
     "metadata": {},
     "output_type": "display_data"
    },
    {
     "name": "stdout",
     "output_type": "stream",
     "text": [
      "Epoch 1334: train=10.6955, val=20.0445, took 40.677 s\n",
      "  Validation Found 101446 of 108007, added 6954 (eff 93.93%) (0.348 FP/event)\n",
      "Result epoch:  1334\n",
      "Average Eff:  0\n",
      "Average FP Rate:  0\n"
     ]
    },
    {
     "data": {
      "application/vnd.jupyter.widget-view+json": {
       "model_id": "",
       "version_major": 2,
       "version_minor": 0
      },
      "text/plain": [
       "HBox(children=(FloatProgress(value=0.0, description='Training', layout=Layout(flex='2'), max=1250.0, style=Pro…"
      ]
     },
     "metadata": {},
     "output_type": "display_data"
    },
    {
     "name": "stdout",
     "output_type": "stream",
     "text": [
      "Epoch 1335: train=10.026, val=13.8469, took 40.62 s\n",
      "  Validation Found 101517 of 108007, added 6414 (eff 93.99%) (0.321 FP/event)\n",
      "Result epoch:  1335\n",
      "Average Eff:  0\n",
      "Average FP Rate:  0\n"
     ]
    },
    {
     "data": {
      "application/vnd.jupyter.widget-view+json": {
       "model_id": "",
       "version_major": 2,
       "version_minor": 0
      },
      "text/plain": [
       "HBox(children=(FloatProgress(value=0.0, description='Training', layout=Layout(flex='2'), max=1250.0, style=Pro…"
      ]
     },
     "metadata": {},
     "output_type": "display_data"
    },
    {
     "name": "stdout",
     "output_type": "stream",
     "text": [
      "Epoch 1336: train=9.54634, val=10.9051, took 41.02 s\n",
      "  Validation Found 101711 of 108007, added 6337 (eff 94.17%) (0.317 FP/event)\n",
      "Result epoch:  1336\n",
      "Average Eff:  0\n",
      "Average FP Rate:  0\n"
     ]
    },
    {
     "data": {
      "application/vnd.jupyter.widget-view+json": {
       "model_id": "",
       "version_major": 2,
       "version_minor": 0
      },
      "text/plain": [
       "HBox(children=(FloatProgress(value=0.0, description='Training', layout=Layout(flex='2'), max=1250.0, style=Pro…"
      ]
     },
     "metadata": {},
     "output_type": "display_data"
    },
    {
     "name": "stdout",
     "output_type": "stream",
     "text": [
      "Epoch 1337: train=9.24083, val=9.66912, took 40.145 s\n",
      "  Validation Found 101677 of 108007, added 5921 (eff 94.14%) (0.296 FP/event)\n",
      "Result epoch:  1337\n",
      "Average Eff:  0\n",
      "Average FP Rate:  0\n"
     ]
    },
    {
     "data": {
      "application/vnd.jupyter.widget-view+json": {
       "model_id": "",
       "version_major": 2,
       "version_minor": 0
      },
      "text/plain": [
       "HBox(children=(FloatProgress(value=0.0, description='Training', layout=Layout(flex='2'), max=1250.0, style=Pro…"
      ]
     },
     "metadata": {},
     "output_type": "display_data"
    },
    {
     "name": "stdout",
     "output_type": "stream",
     "text": [
      "Epoch 1338: train=9.08009, val=9.20402, took 41.015 s\n",
      "  Validation Found 101724 of 108007, added 5909 (eff 94.18%) (0.295 FP/event)\n",
      "Result epoch:  1338\n",
      "Average Eff:  0\n",
      "Average FP Rate:  0\n"
     ]
    },
    {
     "data": {
      "application/vnd.jupyter.widget-view+json": {
       "model_id": "",
       "version_major": 2,
       "version_minor": 0
      },
      "text/plain": [
       "HBox(children=(FloatProgress(value=0.0, description='Training', layout=Layout(flex='2'), max=1250.0, style=Pro…"
      ]
     },
     "metadata": {},
     "output_type": "display_data"
    },
    {
     "name": "stdout",
     "output_type": "stream",
     "text": [
      "Epoch 1339: train=9.0282, val=9.01676, took 41.409 s\n",
      "  Validation Found 101569 of 108007, added 5512 (eff 94.04%) (0.276 FP/event)\n",
      "Result epoch:  1339\n",
      "Average Eff:  0\n",
      "Average FP Rate:  0\n"
     ]
    },
    {
     "data": {
      "application/vnd.jupyter.widget-view+json": {
       "model_id": "",
       "version_major": 2,
       "version_minor": 0
      },
      "text/plain": [
       "HBox(children=(FloatProgress(value=0.0, description='Training', layout=Layout(flex='2'), max=1250.0, style=Pro…"
      ]
     },
     "metadata": {},
     "output_type": "display_data"
    },
    {
     "name": "stdout",
     "output_type": "stream",
     "text": [
      "Epoch 1340: train=9.00897, val=8.95297, took 42.127 s\n",
      "  Validation Found 101632 of 108007, added 5601 (eff 94.10%) (0.28 FP/event)\n",
      "Result epoch:  1340\n",
      "Average Eff:  0\n",
      "Average FP Rate:  0\n"
     ]
    },
    {
     "data": {
      "application/vnd.jupyter.widget-view+json": {
       "model_id": "",
       "version_major": 2,
       "version_minor": 0
      },
      "text/plain": [
       "HBox(children=(FloatProgress(value=0.0, description='Training', layout=Layout(flex='2'), max=1250.0, style=Pro…"
      ]
     },
     "metadata": {},
     "output_type": "display_data"
    },
    {
     "name": "stdout",
     "output_type": "stream",
     "text": [
      "Epoch 1341: train=8.99583, val=8.8951, took 41.87 s\n",
      "  Validation Found 101559 of 108007, added 5361 (eff 94.03%) (0.268 FP/event)\n",
      "Result epoch:  1341\n",
      "Average Eff:  0\n",
      "Average FP Rate:  0\n"
     ]
    },
    {
     "data": {
      "application/vnd.jupyter.widget-view+json": {
       "model_id": "",
       "version_major": 2,
       "version_minor": 0
      },
      "text/plain": [
       "HBox(children=(FloatProgress(value=0.0, description='Training', layout=Layout(flex='2'), max=1250.0, style=Pro…"
      ]
     },
     "metadata": {},
     "output_type": "display_data"
    },
    {
     "name": "stdout",
     "output_type": "stream",
     "text": [
      "Epoch 1342: train=8.97979, val=8.86358, took 41.569 s\n",
      "  Validation Found 101598 of 108007, added 5444 (eff 94.07%) (0.272 FP/event)\n",
      "Result epoch:  1342\n",
      "Average Eff:  0\n",
      "Average FP Rate:  0\n"
     ]
    },
    {
     "data": {
      "application/vnd.jupyter.widget-view+json": {
       "model_id": "",
       "version_major": 2,
       "version_minor": 0
      },
      "text/plain": [
       "HBox(children=(FloatProgress(value=0.0, description='Training', layout=Layout(flex='2'), max=1250.0, style=Pro…"
      ]
     },
     "metadata": {},
     "output_type": "display_data"
    },
    {
     "name": "stdout",
     "output_type": "stream",
     "text": [
      "Epoch 1343: train=8.9653, val=8.85224, took 40.861 s\n",
      "  Validation Found 101641 of 108007, added 5514 (eff 94.11%) (0.276 FP/event)\n",
      "Result epoch:  1343\n",
      "Average Eff:  0\n",
      "Average FP Rate:  0\n"
     ]
    },
    {
     "data": {
      "application/vnd.jupyter.widget-view+json": {
       "model_id": "",
       "version_major": 2,
       "version_minor": 0
      },
      "text/plain": [
       "HBox(children=(FloatProgress(value=0.0, description='Training', layout=Layout(flex='2'), max=1250.0, style=Pro…"
      ]
     },
     "metadata": {},
     "output_type": "display_data"
    },
    {
     "name": "stdout",
     "output_type": "stream",
     "text": [
      "Epoch 1344: train=8.95363, val=8.82424, took 41.757 s\n",
      "  Validation Found 101588 of 108007, added 5407 (eff 94.06%) (0.27 FP/event)\n",
      "Result epoch:  1344\n",
      "Average Eff:  0\n",
      "Average FP Rate:  0\n"
     ]
    },
    {
     "data": {
      "application/vnd.jupyter.widget-view+json": {
       "model_id": "",
       "version_major": 2,
       "version_minor": 0
      },
      "text/plain": [
       "HBox(children=(FloatProgress(value=0.0, description='Training', layout=Layout(flex='2'), max=1250.0, style=Pro…"
      ]
     },
     "metadata": {},
     "output_type": "display_data"
    },
    {
     "name": "stdout",
     "output_type": "stream",
     "text": [
      "Epoch 1345: train=8.94266, val=8.82477, took 41.263 s\n",
      "  Validation Found 101502 of 108007, added 5233 (eff 93.98%) (0.262 FP/event)\n",
      "Result epoch:  1345\n",
      "Average Eff:  0\n",
      "Average FP Rate:  0\n"
     ]
    },
    {
     "data": {
      "application/vnd.jupyter.widget-view+json": {
       "model_id": "",
       "version_major": 2,
       "version_minor": 0
      },
      "text/plain": [
       "HBox(children=(FloatProgress(value=0.0, description='Training', layout=Layout(flex='2'), max=1250.0, style=Pro…"
      ]
     },
     "metadata": {},
     "output_type": "display_data"
    },
    {
     "name": "stdout",
     "output_type": "stream",
     "text": [
      "Epoch 1346: train=8.92783, val=8.79729, took 40.755 s\n",
      "  Validation Found 101537 of 108007, added 5290 (eff 94.01%) (0.264 FP/event)\n",
      "Result epoch:  1346\n",
      "Average Eff:  0\n",
      "Average FP Rate:  0\n"
     ]
    },
    {
     "data": {
      "application/vnd.jupyter.widget-view+json": {
       "model_id": "",
       "version_major": 2,
       "version_minor": 0
      },
      "text/plain": [
       "HBox(children=(FloatProgress(value=0.0, description='Training', layout=Layout(flex='2'), max=1250.0, style=Pro…"
      ]
     },
     "metadata": {},
     "output_type": "display_data"
    },
    {
     "name": "stdout",
     "output_type": "stream",
     "text": [
      "Epoch 1347: train=8.91301, val=8.78828, took 41.01 s\n",
      "  Validation Found 101705 of 108007, added 5570 (eff 94.17%) (0.278 FP/event)\n",
      "Result epoch:  1347\n",
      "Average Eff:  0\n",
      "Average FP Rate:  0\n"
     ]
    },
    {
     "data": {
      "application/vnd.jupyter.widget-view+json": {
       "model_id": "",
       "version_major": 2,
       "version_minor": 0
      },
      "text/plain": [
       "HBox(children=(FloatProgress(value=0.0, description='Training', layout=Layout(flex='2'), max=1250.0, style=Pro…"
      ]
     },
     "metadata": {},
     "output_type": "display_data"
    },
    {
     "name": "stdout",
     "output_type": "stream",
     "text": [
      "Epoch 1348: train=8.90565, val=8.77794, took 41.142 s\n",
      "  Validation Found 101651 of 108007, added 5513 (eff 94.12%) (0.276 FP/event)\n",
      "Result epoch:  1348\n",
      "Average Eff:  0\n",
      "Average FP Rate:  0\n"
     ]
    },
    {
     "data": {
      "application/vnd.jupyter.widget-view+json": {
       "model_id": "",
       "version_major": 2,
       "version_minor": 0
      },
      "text/plain": [
       "HBox(children=(FloatProgress(value=0.0, description='Training', layout=Layout(flex='2'), max=1250.0, style=Pro…"
      ]
     },
     "metadata": {},
     "output_type": "display_data"
    },
    {
     "name": "stdout",
     "output_type": "stream",
     "text": [
      "Epoch 1349: train=8.89851, val=8.75519, took 40.333 s\n",
      "  Validation Found 101688 of 108007, added 5554 (eff 94.15%) (0.278 FP/event)\n",
      "Result epoch:  1349\n",
      "Average Eff:  0\n",
      "Average FP Rate:  0\n"
     ]
    },
    {
     "data": {
      "application/vnd.jupyter.widget-view+json": {
       "model_id": "",
       "version_major": 2,
       "version_minor": 0
      },
      "text/plain": [
       "HBox(children=(FloatProgress(value=0.0, description='Training', layout=Layout(flex='2'), max=1250.0, style=Pro…"
      ]
     },
     "metadata": {},
     "output_type": "display_data"
    },
    {
     "name": "stdout",
     "output_type": "stream",
     "text": [
      "Epoch 1350: train=8.88869, val=8.74615, took 41.023 s\n",
      "  Validation Found 101655 of 108007, added 5471 (eff 94.12%) (0.274 FP/event)\n",
      "Result epoch:  1350\n",
      "Average Eff:  0\n",
      "Average FP Rate:  0\n"
     ]
    },
    {
     "data": {
      "application/vnd.jupyter.widget-view+json": {
       "model_id": "",
       "version_major": 2,
       "version_minor": 0
      },
      "text/plain": [
       "HBox(children=(FloatProgress(value=0.0, description='Training', layout=Layout(flex='2'), max=1250.0, style=Pro…"
      ]
     },
     "metadata": {},
     "output_type": "display_data"
    },
    {
     "name": "stdout",
     "output_type": "stream",
     "text": [
      "Epoch 1351: train=8.87717, val=8.74169, took 39.579 s\n",
      "  Validation Found 101602 of 108007, added 5376 (eff 94.07%) (0.269 FP/event)\n",
      "Result epoch:  1351\n",
      "Average Eff:  0\n",
      "Average FP Rate:  0\n"
     ]
    },
    {
     "data": {
      "application/vnd.jupyter.widget-view+json": {
       "model_id": "",
       "version_major": 2,
       "version_minor": 0
      },
      "text/plain": [
       "HBox(children=(FloatProgress(value=0.0, description='Training', layout=Layout(flex='2'), max=1250.0, style=Pro…"
      ]
     },
     "metadata": {},
     "output_type": "display_data"
    },
    {
     "name": "stdout",
     "output_type": "stream",
     "text": [
      "Epoch 1352: train=8.87251, val=8.72908, took 41.144 s\n",
      "  Validation Found 101688 of 108007, added 5542 (eff 94.15%) (0.277 FP/event)\n",
      "Result epoch:  1352\n",
      "Average Eff:  0\n",
      "Average FP Rate:  0\n"
     ]
    },
    {
     "data": {
      "application/vnd.jupyter.widget-view+json": {
       "model_id": "",
       "version_major": 2,
       "version_minor": 0
      },
      "text/plain": [
       "HBox(children=(FloatProgress(value=0.0, description='Training', layout=Layout(flex='2'), max=1250.0, style=Pro…"
      ]
     },
     "metadata": {},
     "output_type": "display_data"
    },
    {
     "name": "stdout",
     "output_type": "stream",
     "text": [
      "Epoch 1353: train=8.86806, val=8.72456, took 41.087 s\n",
      "  Validation Found 101737 of 108007, added 5627 (eff 94.19%) (0.281 FP/event)\n",
      "Result epoch:  1353\n",
      "Average Eff:  0\n",
      "Average FP Rate:  0\n"
     ]
    },
    {
     "data": {
      "application/vnd.jupyter.widget-view+json": {
       "model_id": "",
       "version_major": 2,
       "version_minor": 0
      },
      "text/plain": [
       "HBox(children=(FloatProgress(value=0.0, description='Training', layout=Layout(flex='2'), max=1250.0, style=Pro…"
      ]
     },
     "metadata": {},
     "output_type": "display_data"
    },
    {
     "name": "stdout",
     "output_type": "stream",
     "text": [
      "Epoch 1354: train=8.86197, val=8.72276, took 40.611 s\n",
      "  Validation Found 101709 of 108007, added 5579 (eff 94.17%) (0.279 FP/event)\n",
      "Result epoch:  1354\n",
      "Average Eff:  0\n",
      "Average FP Rate:  0\n"
     ]
    },
    {
     "data": {
      "application/vnd.jupyter.widget-view+json": {
       "model_id": "",
       "version_major": 2,
       "version_minor": 0
      },
      "text/plain": [
       "HBox(children=(FloatProgress(value=0.0, description='Training', layout=Layout(flex='2'), max=1250.0, style=Pro…"
      ]
     },
     "metadata": {},
     "output_type": "display_data"
    },
    {
     "name": "stdout",
     "output_type": "stream",
     "text": [
      "Epoch 1355: train=8.85397, val=8.70635, took 41.903 s\n",
      "  Validation Found 101713 of 108007, added 5533 (eff 94.17%) (0.277 FP/event)\n",
      "Result epoch:  1355\n",
      "Average Eff:  0\n",
      "Average FP Rate:  0\n"
     ]
    },
    {
     "data": {
      "application/vnd.jupyter.widget-view+json": {
       "model_id": "",
       "version_major": 2,
       "version_minor": 0
      },
      "text/plain": [
       "HBox(children=(FloatProgress(value=0.0, description='Training', layout=Layout(flex='2'), max=1250.0, style=Pro…"
      ]
     },
     "metadata": {},
     "output_type": "display_data"
    },
    {
     "name": "stdout",
     "output_type": "stream",
     "text": [
      "Epoch 1356: train=8.84402, val=8.69985, took 41.04 s\n",
      "  Validation Found 101633 of 108007, added 5391 (eff 94.10%) (0.27 FP/event)\n",
      "Result epoch:  1356\n",
      "Average Eff:  0\n",
      "Average FP Rate:  0\n"
     ]
    },
    {
     "data": {
      "application/vnd.jupyter.widget-view+json": {
       "model_id": "",
       "version_major": 2,
       "version_minor": 0
      },
      "text/plain": [
       "HBox(children=(FloatProgress(value=0.0, description='Training', layout=Layout(flex='2'), max=1250.0, style=Pro…"
      ]
     },
     "metadata": {},
     "output_type": "display_data"
    },
    {
     "name": "stdout",
     "output_type": "stream",
     "text": [
      "Epoch 1357: train=8.83996, val=8.68888, took 41.72 s\n",
      "  Validation Found 101696 of 108007, added 5522 (eff 94.16%) (0.276 FP/event)\n",
      "Result epoch:  1357\n",
      "Average Eff:  0\n",
      "Average FP Rate:  0\n"
     ]
    },
    {
     "data": {
      "application/vnd.jupyter.widget-view+json": {
       "model_id": "",
       "version_major": 2,
       "version_minor": 0
      },
      "text/plain": [
       "HBox(children=(FloatProgress(value=0.0, description='Training', layout=Layout(flex='2'), max=1250.0, style=Pro…"
      ]
     },
     "metadata": {},
     "output_type": "display_data"
    },
    {
     "name": "stdout",
     "output_type": "stream",
     "text": [
      "Epoch 1358: train=8.83936, val=8.6892, took 41.252 s\n",
      "  Validation Found 101654 of 108007, added 5420 (eff 94.12%) (0.271 FP/event)\n",
      "Result epoch:  1358\n",
      "Average Eff:  0\n",
      "Average FP Rate:  0\n"
     ]
    },
    {
     "data": {
      "application/vnd.jupyter.widget-view+json": {
       "model_id": "",
       "version_major": 2,
       "version_minor": 0
      },
      "text/plain": [
       "HBox(children=(FloatProgress(value=0.0, description='Training', layout=Layout(flex='2'), max=1250.0, style=Pro…"
      ]
     },
     "metadata": {},
     "output_type": "display_data"
    },
    {
     "name": "stdout",
     "output_type": "stream",
     "text": [
      "Epoch 1359: train=8.83343, val=8.67766, took 41.564 s\n",
      "  Validation Found 101625 of 108007, added 5376 (eff 94.09%) (0.269 FP/event)\n",
      "Result epoch:  1359\n",
      "Average Eff:  0\n",
      "Average FP Rate:  0\n"
     ]
    },
    {
     "data": {
      "application/vnd.jupyter.widget-view+json": {
       "model_id": "",
       "version_major": 2,
       "version_minor": 0
      },
      "text/plain": [
       "HBox(children=(FloatProgress(value=0.0, description='Training', layout=Layout(flex='2'), max=1250.0, style=Pro…"
      ]
     },
     "metadata": {},
     "output_type": "display_data"
    },
    {
     "name": "stdout",
     "output_type": "stream",
     "text": [
      "Epoch 1360: train=8.827, val=8.67457, took 41.525 s\n",
      "  Validation Found 101717 of 108007, added 5565 (eff 94.18%) (0.278 FP/event)\n",
      "Result epoch:  1360\n",
      "Average Eff:  0\n",
      "Average FP Rate:  0\n"
     ]
    },
    {
     "data": {
      "application/vnd.jupyter.widget-view+json": {
       "model_id": "",
       "version_major": 2,
       "version_minor": 0
      },
      "text/plain": [
       "HBox(children=(FloatProgress(value=0.0, description='Training', layout=Layout(flex='2'), max=1250.0, style=Pro…"
      ]
     },
     "metadata": {},
     "output_type": "display_data"
    },
    {
     "name": "stdout",
     "output_type": "stream",
     "text": [
      "Epoch 1361: train=8.82345, val=8.68025, took 41.237 s\n",
      "  Validation Found 101685 of 108007, added 5497 (eff 94.15%) (0.275 FP/event)\n",
      "Result epoch:  1361\n",
      "Average Eff:  0\n",
      "Average FP Rate:  0\n"
     ]
    },
    {
     "data": {
      "application/vnd.jupyter.widget-view+json": {
       "model_id": "",
       "version_major": 2,
       "version_minor": 0
      },
      "text/plain": [
       "HBox(children=(FloatProgress(value=0.0, description='Training', layout=Layout(flex='2'), max=1250.0, style=Pro…"
      ]
     },
     "metadata": {},
     "output_type": "display_data"
    },
    {
     "name": "stdout",
     "output_type": "stream",
     "text": [
      "Epoch 1362: train=8.82681, val=8.68436, took 41.832 s\n",
      "  Validation Found 101633 of 108007, added 5393 (eff 94.10%) (0.27 FP/event)\n",
      "Result epoch:  1362\n",
      "Average Eff:  0\n",
      "Average FP Rate:  0\n"
     ]
    },
    {
     "data": {
      "application/vnd.jupyter.widget-view+json": {
       "model_id": "",
       "version_major": 2,
       "version_minor": 0
      },
      "text/plain": [
       "HBox(children=(FloatProgress(value=0.0, description='Training', layout=Layout(flex='2'), max=1250.0, style=Pro…"
      ]
     },
     "metadata": {},
     "output_type": "display_data"
    },
    {
     "name": "stdout",
     "output_type": "stream",
     "text": [
      "Epoch 1363: train=8.81959, val=8.67037, took 41.057 s\n",
      "  Validation Found 101610 of 108007, added 5350 (eff 94.08%) (0.267 FP/event)\n",
      "Result epoch:  1363\n",
      "Average Eff:  0\n",
      "Average FP Rate:  0\n"
     ]
    },
    {
     "data": {
      "application/vnd.jupyter.widget-view+json": {
       "model_id": "",
       "version_major": 2,
       "version_minor": 0
      },
      "text/plain": [
       "HBox(children=(FloatProgress(value=0.0, description='Training', layout=Layout(flex='2'), max=1250.0, style=Pro…"
      ]
     },
     "metadata": {},
     "output_type": "display_data"
    },
    {
     "name": "stdout",
     "output_type": "stream",
     "text": [
      "Epoch 1364: train=8.81772, val=8.67083, took 41.714 s\n",
      "  Validation Found 101628 of 108007, added 5389 (eff 94.09%) (0.269 FP/event)\n",
      "Result epoch:  1364\n",
      "Average Eff:  0\n",
      "Average FP Rate:  0\n"
     ]
    },
    {
     "data": {
      "application/vnd.jupyter.widget-view+json": {
       "model_id": "",
       "version_major": 2,
       "version_minor": 0
      },
      "text/plain": [
       "HBox(children=(FloatProgress(value=0.0, description='Training', layout=Layout(flex='2'), max=1250.0, style=Pro…"
      ]
     },
     "metadata": {},
     "output_type": "display_data"
    },
    {
     "name": "stdout",
     "output_type": "stream",
     "text": [
      "Epoch 1365: train=8.81927, val=8.67199, took 41.523 s\n",
      "  Validation Found 101649 of 108007, added 5415 (eff 94.11%) (0.271 FP/event)\n",
      "Result epoch:  1365\n",
      "Average Eff:  0\n",
      "Average FP Rate:  0\n"
     ]
    },
    {
     "data": {
      "application/vnd.jupyter.widget-view+json": {
       "model_id": "",
       "version_major": 2,
       "version_minor": 0
      },
      "text/plain": [
       "HBox(children=(FloatProgress(value=0.0, description='Training', layout=Layout(flex='2'), max=1250.0, style=Pro…"
      ]
     },
     "metadata": {},
     "output_type": "display_data"
    },
    {
     "name": "stdout",
     "output_type": "stream",
     "text": [
      "Epoch 1366: train=8.81137, val=8.66631, took 41.907 s\n",
      "  Validation Found 101724 of 108007, added 5596 (eff 94.18%) (0.28 FP/event)\n",
      "Result epoch:  1366\n",
      "Average Eff:  0\n",
      "Average FP Rate:  0\n"
     ]
    },
    {
     "data": {
      "application/vnd.jupyter.widget-view+json": {
       "model_id": "",
       "version_major": 2,
       "version_minor": 0
      },
      "text/plain": [
       "HBox(children=(FloatProgress(value=0.0, description='Training', layout=Layout(flex='2'), max=1250.0, style=Pro…"
      ]
     },
     "metadata": {},
     "output_type": "display_data"
    },
    {
     "name": "stdout",
     "output_type": "stream",
     "text": [
      "Epoch 1367: train=8.80932, val=8.65647, took 40.975 s\n",
      "  Validation Found 101645 of 108007, added 5404 (eff 94.11%) (0.27 FP/event)\n",
      "Result epoch:  1367\n",
      "Average Eff:  0\n",
      "Average FP Rate:  0\n"
     ]
    },
    {
     "data": {
      "application/vnd.jupyter.widget-view+json": {
       "model_id": "",
       "version_major": 2,
       "version_minor": 0
      },
      "text/plain": [
       "HBox(children=(FloatProgress(value=0.0, description='Training', layout=Layout(flex='2'), max=1250.0, style=Pro…"
      ]
     },
     "metadata": {},
     "output_type": "display_data"
    },
    {
     "name": "stdout",
     "output_type": "stream",
     "text": [
      "Epoch 1368: train=8.8071, val=8.64868, took 40.684 s\n",
      "  Validation Found 101737 of 108007, added 5568 (eff 94.19%) (0.278 FP/event)\n",
      "Result epoch:  1368\n",
      "Average Eff:  0\n",
      "Average FP Rate:  0\n"
     ]
    },
    {
     "data": {
      "application/vnd.jupyter.widget-view+json": {
       "model_id": "",
       "version_major": 2,
       "version_minor": 0
      },
      "text/plain": [
       "HBox(children=(FloatProgress(value=0.0, description='Training', layout=Layout(flex='2'), max=1250.0, style=Pro…"
      ]
     },
     "metadata": {},
     "output_type": "display_data"
    },
    {
     "name": "stdout",
     "output_type": "stream",
     "text": [
      "Epoch 1369: train=8.80677, val=8.65006, took 41.301 s\n",
      "  Validation Found 101598 of 108007, added 5355 (eff 94.07%) (0.268 FP/event)\n",
      "Result epoch:  1369\n",
      "Average Eff:  0\n",
      "Average FP Rate:  0\n"
     ]
    },
    {
     "data": {
      "application/vnd.jupyter.widget-view+json": {
       "model_id": "",
       "version_major": 2,
       "version_minor": 0
      },
      "text/plain": [
       "HBox(children=(FloatProgress(value=0.0, description='Training', layout=Layout(flex='2'), max=1250.0, style=Pro…"
      ]
     },
     "metadata": {},
     "output_type": "display_data"
    },
    {
     "name": "stdout",
     "output_type": "stream",
     "text": [
      "Epoch 1370: train=8.81192, val=8.65223, took 41.097 s\n",
      "  Validation Found 101644 of 108007, added 5438 (eff 94.11%) (0.272 FP/event)\n",
      "Result epoch:  1370\n",
      "Average Eff:  0\n",
      "Average FP Rate:  0\n"
     ]
    },
    {
     "data": {
      "application/vnd.jupyter.widget-view+json": {
       "model_id": "",
       "version_major": 2,
       "version_minor": 0
      },
      "text/plain": [
       "HBox(children=(FloatProgress(value=0.0, description='Training', layout=Layout(flex='2'), max=1250.0, style=Pro…"
      ]
     },
     "metadata": {},
     "output_type": "display_data"
    },
    {
     "name": "stdout",
     "output_type": "stream",
     "text": [
      "Epoch 1371: train=8.80338, val=8.64903, took 41.997 s\n",
      "  Validation Found 101701 of 108007, added 5540 (eff 94.16%) (0.277 FP/event)\n",
      "Result epoch:  1371\n",
      "Average Eff:  0\n",
      "Average FP Rate:  0\n"
     ]
    },
    {
     "data": {
      "application/vnd.jupyter.widget-view+json": {
       "model_id": "",
       "version_major": 2,
       "version_minor": 0
      },
      "text/plain": [
       "HBox(children=(FloatProgress(value=0.0, description='Training', layout=Layout(flex='2'), max=1250.0, style=Pro…"
      ]
     },
     "metadata": {},
     "output_type": "display_data"
    },
    {
     "name": "stdout",
     "output_type": "stream",
     "text": [
      "Epoch 1372: train=8.80735, val=8.64179, took 41.322 s\n",
      "  Validation Found 101655 of 108007, added 5484 (eff 94.12%) (0.274 FP/event)\n",
      "Result epoch:  1372\n",
      "Average Eff:  0\n",
      "Average FP Rate:  0\n"
     ]
    },
    {
     "data": {
      "application/vnd.jupyter.widget-view+json": {
       "model_id": "",
       "version_major": 2,
       "version_minor": 0
      },
      "text/plain": [
       "HBox(children=(FloatProgress(value=0.0, description='Training', layout=Layout(flex='2'), max=1250.0, style=Pro…"
      ]
     },
     "metadata": {},
     "output_type": "display_data"
    },
    {
     "name": "stdout",
     "output_type": "stream",
     "text": [
      "Epoch 1373: train=8.80457, val=8.64803, took 41.347 s\n",
      "  Validation Found 101639 of 108007, added 5421 (eff 94.10%) (0.271 FP/event)\n",
      "Result epoch:  1373\n",
      "Average Eff:  0\n",
      "Average FP Rate:  0\n"
     ]
    },
    {
     "data": {
      "application/vnd.jupyter.widget-view+json": {
       "model_id": "",
       "version_major": 2,
       "version_minor": 0
      },
      "text/plain": [
       "HBox(children=(FloatProgress(value=0.0, description='Training', layout=Layout(flex='2'), max=1250.0, style=Pro…"
      ]
     },
     "metadata": {},
     "output_type": "display_data"
    },
    {
     "name": "stdout",
     "output_type": "stream",
     "text": [
      "Epoch 1374: train=8.80048, val=8.6411, took 41.751 s\n",
      "  Validation Found 101588 of 108007, added 5347 (eff 94.06%) (0.267 FP/event)\n",
      "Result epoch:  1374\n",
      "Average Eff:  0\n",
      "Average FP Rate:  0\n"
     ]
    },
    {
     "data": {
      "application/vnd.jupyter.widget-view+json": {
       "model_id": "",
       "version_major": 2,
       "version_minor": 0
      },
      "text/plain": [
       "HBox(children=(FloatProgress(value=0.0, description='Training', layout=Layout(flex='2'), max=1250.0, style=Pro…"
      ]
     },
     "metadata": {},
     "output_type": "display_data"
    },
    {
     "name": "stdout",
     "output_type": "stream",
     "text": [
      "Epoch 1375: train=8.80114, val=8.64845, took 41.006 s\n",
      "  Validation Found 101703 of 108007, added 5540 (eff 94.16%) (0.277 FP/event)\n",
      "Result epoch:  1375\n",
      "Average Eff:  0\n",
      "Average FP Rate:  0\n"
     ]
    },
    {
     "data": {
      "application/vnd.jupyter.widget-view+json": {
       "model_id": "",
       "version_major": 2,
       "version_minor": 0
      },
      "text/plain": [
       "HBox(children=(FloatProgress(value=0.0, description='Training', layout=Layout(flex='2'), max=1250.0, style=Pro…"
      ]
     },
     "metadata": {},
     "output_type": "display_data"
    },
    {
     "name": "stdout",
     "output_type": "stream",
     "text": [
      "Epoch 1376: train=8.79938, val=8.65544, took 41.797 s\n",
      "  Validation Found 101533 of 108007, added 5270 (eff 94.01%) (0.263 FP/event)\n",
      "Result epoch:  1376\n",
      "Average Eff:  0\n",
      "Average FP Rate:  0\n"
     ]
    },
    {
     "data": {
      "application/vnd.jupyter.widget-view+json": {
       "model_id": "",
       "version_major": 2,
       "version_minor": 0
      },
      "text/plain": [
       "HBox(children=(FloatProgress(value=0.0, description='Training', layout=Layout(flex='2'), max=1250.0, style=Pro…"
      ]
     },
     "metadata": {},
     "output_type": "display_data"
    },
    {
     "name": "stdout",
     "output_type": "stream",
     "text": [
      "Epoch 1377: train=8.80065, val=8.63989, took 41.049 s\n",
      "  Validation Found 101675 of 108007, added 5492 (eff 94.14%) (0.275 FP/event)\n",
      "Result epoch:  1377\n",
      "Average Eff:  0\n",
      "Average FP Rate:  0\n"
     ]
    },
    {
     "data": {
      "application/vnd.jupyter.widget-view+json": {
       "model_id": "",
       "version_major": 2,
       "version_minor": 0
      },
      "text/plain": [
       "HBox(children=(FloatProgress(value=0.0, description='Training', layout=Layout(flex='2'), max=1250.0, style=Pro…"
      ]
     },
     "metadata": {},
     "output_type": "display_data"
    },
    {
     "name": "stdout",
     "output_type": "stream",
     "text": [
      "Epoch 1378: train=8.79489, val=8.64545, took 41.746 s\n",
      "  Validation Found 101617 of 108007, added 5364 (eff 94.08%) (0.268 FP/event)\n",
      "Result epoch:  1378\n",
      "Average Eff:  0\n",
      "Average FP Rate:  0\n"
     ]
    },
    {
     "data": {
      "application/vnd.jupyter.widget-view+json": {
       "model_id": "",
       "version_major": 2,
       "version_minor": 0
      },
      "text/plain": [
       "HBox(children=(FloatProgress(value=0.0, description='Training', layout=Layout(flex='2'), max=1250.0, style=Pro…"
      ]
     },
     "metadata": {},
     "output_type": "display_data"
    },
    {
     "name": "stdout",
     "output_type": "stream",
     "text": [
      "Epoch 1379: train=8.7958, val=8.63784, took 41.291 s\n",
      "  Validation Found 101692 of 108007, added 5520 (eff 94.15%) (0.276 FP/event)\n",
      "Result epoch:  1379\n",
      "Average Eff:  0\n",
      "Average FP Rate:  0\n"
     ]
    },
    {
     "data": {
      "application/vnd.jupyter.widget-view+json": {
       "model_id": "",
       "version_major": 2,
       "version_minor": 0
      },
      "text/plain": [
       "HBox(children=(FloatProgress(value=0.0, description='Training', layout=Layout(flex='2'), max=1250.0, style=Pro…"
      ]
     },
     "metadata": {},
     "output_type": "display_data"
    },
    {
     "name": "stdout",
     "output_type": "stream",
     "text": [
      "Epoch 1380: train=8.7939, val=8.64302, took 41.445 s\n",
      "  Validation Found 101676 of 108007, added 5466 (eff 94.14%) (0.273 FP/event)\n",
      "Result epoch:  1380\n",
      "Average Eff:  0\n",
      "Average FP Rate:  0\n"
     ]
    },
    {
     "data": {
      "application/vnd.jupyter.widget-view+json": {
       "model_id": "",
       "version_major": 2,
       "version_minor": 0
      },
      "text/plain": [
       "HBox(children=(FloatProgress(value=0.0, description='Training', layout=Layout(flex='2'), max=1250.0, style=Pro…"
      ]
     },
     "metadata": {},
     "output_type": "display_data"
    },
    {
     "name": "stdout",
     "output_type": "stream",
     "text": [
      "Epoch 1381: train=8.79639, val=8.63359, took 41.55 s\n",
      "  Validation Found 101704 of 108007, added 5542 (eff 94.16%) (0.277 FP/event)\n",
      "Result epoch:  1381\n",
      "Average Eff:  0\n",
      "Average FP Rate:  0\n"
     ]
    },
    {
     "data": {
      "application/vnd.jupyter.widget-view+json": {
       "model_id": "",
       "version_major": 2,
       "version_minor": 0
      },
      "text/plain": [
       "HBox(children=(FloatProgress(value=0.0, description='Training', layout=Layout(flex='2'), max=1250.0, style=Pro…"
      ]
     },
     "metadata": {},
     "output_type": "display_data"
    },
    {
     "name": "stdout",
     "output_type": "stream",
     "text": [
      "Epoch 1382: train=8.79021, val=8.63918, took 41.059 s\n",
      "  Validation Found 101566 of 108007, added 5302 (eff 94.04%) (0.265 FP/event)\n",
      "Result epoch:  1382\n",
      "Average Eff:  0\n",
      "Average FP Rate:  0\n"
     ]
    },
    {
     "data": {
      "application/vnd.jupyter.widget-view+json": {
       "model_id": "",
       "version_major": 2,
       "version_minor": 0
      },
      "text/plain": [
       "HBox(children=(FloatProgress(value=0.0, description='Training', layout=Layout(flex='2'), max=1250.0, style=Pro…"
      ]
     },
     "metadata": {},
     "output_type": "display_data"
    },
    {
     "name": "stdout",
     "output_type": "stream",
     "text": [
      "Epoch 1383: train=8.79114, val=8.63662, took 41.629 s\n",
      "  Validation Found 101620 of 108007, added 5362 (eff 94.09%) (0.268 FP/event)\n",
      "Result epoch:  1383\n",
      "Average Eff:  0\n",
      "Average FP Rate:  0\n"
     ]
    },
    {
     "data": {
      "application/vnd.jupyter.widget-view+json": {
       "model_id": "",
       "version_major": 2,
       "version_minor": 0
      },
      "text/plain": [
       "HBox(children=(FloatProgress(value=0.0, description='Training', layout=Layout(flex='2'), max=1250.0, style=Pro…"
      ]
     },
     "metadata": {},
     "output_type": "display_data"
    },
    {
     "name": "stdout",
     "output_type": "stream",
     "text": [
      "Epoch 1384: train=8.79212, val=8.64177, took 40.844 s\n",
      "  Validation Found 101685 of 108007, added 5483 (eff 94.15%) (0.274 FP/event)\n",
      "Result epoch:  1384\n",
      "Average Eff:  0\n",
      "Average FP Rate:  0\n"
     ]
    },
    {
     "data": {
      "application/vnd.jupyter.widget-view+json": {
       "model_id": "",
       "version_major": 2,
       "version_minor": 0
      },
      "text/plain": [
       "HBox(children=(FloatProgress(value=0.0, description='Training', layout=Layout(flex='2'), max=1250.0, style=Pro…"
      ]
     },
     "metadata": {},
     "output_type": "display_data"
    },
    {
     "name": "stdout",
     "output_type": "stream",
     "text": [
      "Epoch 1385: train=8.79456, val=8.63837, took 41.563 s\n",
      "  Validation Found 101646 of 108007, added 5445 (eff 94.11%) (0.272 FP/event)\n",
      "Result epoch:  1385\n",
      "Average Eff:  0\n",
      "Average FP Rate:  0\n"
     ]
    },
    {
     "data": {
      "application/vnd.jupyter.widget-view+json": {
       "model_id": "",
       "version_major": 2,
       "version_minor": 0
      },
      "text/plain": [
       "HBox(children=(FloatProgress(value=0.0, description='Training', layout=Layout(flex='2'), max=1250.0, style=Pro…"
      ]
     },
     "metadata": {},
     "output_type": "display_data"
    },
    {
     "name": "stdout",
     "output_type": "stream",
     "text": [
      "Epoch 1386: train=8.79725, val=8.63985, took 41.051 s\n",
      "  Validation Found 101584 of 108007, added 5316 (eff 94.05%) (0.266 FP/event)\n",
      "Result epoch:  1386\n",
      "Average Eff:  0\n",
      "Average FP Rate:  0\n"
     ]
    },
    {
     "data": {
      "application/vnd.jupyter.widget-view+json": {
       "model_id": "",
       "version_major": 2,
       "version_minor": 0
      },
      "text/plain": [
       "HBox(children=(FloatProgress(value=0.0, description='Training', layout=Layout(flex='2'), max=1250.0, style=Pro…"
      ]
     },
     "metadata": {},
     "output_type": "display_data"
    },
    {
     "name": "stdout",
     "output_type": "stream",
     "text": [
      "Epoch 1387: train=8.80014, val=8.63516, took 41.072 s\n",
      "  Validation Found 101692 of 108007, added 5498 (eff 94.15%) (0.275 FP/event)\n",
      "Result epoch:  1387\n",
      "Average Eff:  0\n",
      "Average FP Rate:  0\n"
     ]
    },
    {
     "data": {
      "application/vnd.jupyter.widget-view+json": {
       "model_id": "",
       "version_major": 2,
       "version_minor": 0
      },
      "text/plain": [
       "HBox(children=(FloatProgress(value=0.0, description='Training', layout=Layout(flex='2'), max=1250.0, style=Pro…"
      ]
     },
     "metadata": {},
     "output_type": "display_data"
    },
    {
     "name": "stdout",
     "output_type": "stream",
     "text": [
      "Epoch 1388: train=8.78885, val=8.63779, took 40.784 s\n",
      "  Validation Found 101627 of 108007, added 5412 (eff 94.09%) (0.271 FP/event)\n",
      "Result epoch:  1388\n",
      "Average Eff:  0\n",
      "Average FP Rate:  0\n"
     ]
    },
    {
     "data": {
      "application/vnd.jupyter.widget-view+json": {
       "model_id": "",
       "version_major": 2,
       "version_minor": 0
      },
      "text/plain": [
       "HBox(children=(FloatProgress(value=0.0, description='Training', layout=Layout(flex='2'), max=1250.0, style=Pro…"
      ]
     },
     "metadata": {},
     "output_type": "display_data"
    },
    {
     "name": "stdout",
     "output_type": "stream",
     "text": [
      "Epoch 1389: train=8.7917, val=8.63829, took 40.874 s\n",
      "  Validation Found 101688 of 108007, added 5473 (eff 94.15%) (0.274 FP/event)\n",
      "Result epoch:  1389\n",
      "Average Eff:  0\n",
      "Average FP Rate:  0\n"
     ]
    },
    {
     "data": {
      "application/vnd.jupyter.widget-view+json": {
       "model_id": "",
       "version_major": 2,
       "version_minor": 0
      },
      "text/plain": [
       "HBox(children=(FloatProgress(value=0.0, description='Training', layout=Layout(flex='2'), max=1250.0, style=Pro…"
      ]
     },
     "metadata": {},
     "output_type": "display_data"
    },
    {
     "name": "stdout",
     "output_type": "stream",
     "text": [
      "Epoch 1390: train=8.79058, val=8.64579, took 41.276 s\n",
      "  Validation Found 101604 of 108007, added 5357 (eff 94.07%) (0.268 FP/event)\n",
      "Result epoch:  1390\n",
      "Average Eff:  0\n",
      "Average FP Rate:  0\n"
     ]
    },
    {
     "data": {
      "application/vnd.jupyter.widget-view+json": {
       "model_id": "",
       "version_major": 2,
       "version_minor": 0
      },
      "text/plain": [
       "HBox(children=(FloatProgress(value=0.0, description='Training', layout=Layout(flex='2'), max=1250.0, style=Pro…"
      ]
     },
     "metadata": {},
     "output_type": "display_data"
    },
    {
     "name": "stdout",
     "output_type": "stream",
     "text": [
      "Epoch 1391: train=8.79677, val=8.63993, took 40.508 s\n",
      "  Validation Found 101677 of 108007, added 5483 (eff 94.14%) (0.274 FP/event)\n",
      "Result epoch:  1391\n",
      "Average Eff:  0\n",
      "Average FP Rate:  0\n"
     ]
    },
    {
     "data": {
      "application/vnd.jupyter.widget-view+json": {
       "model_id": "",
       "version_major": 2,
       "version_minor": 0
      },
      "text/plain": [
       "HBox(children=(FloatProgress(value=0.0, description='Training', layout=Layout(flex='2'), max=1250.0, style=Pro…"
      ]
     },
     "metadata": {},
     "output_type": "display_data"
    },
    {
     "name": "stdout",
     "output_type": "stream",
     "text": [
      "Epoch 1392: train=8.79277, val=8.63039, took 41.228 s\n",
      "  Validation Found 101647 of 108007, added 5414 (eff 94.11%) (0.271 FP/event)\n",
      "Result epoch:  1392\n",
      "Average Eff:  0\n",
      "Average FP Rate:  0\n"
     ]
    },
    {
     "data": {
      "application/vnd.jupyter.widget-view+json": {
       "model_id": "",
       "version_major": 2,
       "version_minor": 0
      },
      "text/plain": [
       "HBox(children=(FloatProgress(value=0.0, description='Training', layout=Layout(flex='2'), max=1250.0, style=Pro…"
      ]
     },
     "metadata": {},
     "output_type": "display_data"
    },
    {
     "name": "stdout",
     "output_type": "stream",
     "text": [
      "Epoch 1393: train=8.7924, val=8.6416, took 40.689 s\n",
      "  Validation Found 101652 of 108007, added 5412 (eff 94.12%) (0.271 FP/event)\n",
      "Result epoch:  1393\n",
      "Average Eff:  0\n",
      "Average FP Rate:  0\n"
     ]
    },
    {
     "data": {
      "application/vnd.jupyter.widget-view+json": {
       "model_id": "",
       "version_major": 2,
       "version_minor": 0
      },
      "text/plain": [
       "HBox(children=(FloatProgress(value=0.0, description='Training', layout=Layout(flex='2'), max=1250.0, style=Pro…"
      ]
     },
     "metadata": {},
     "output_type": "display_data"
    },
    {
     "name": "stdout",
     "output_type": "stream",
     "text": [
      "Epoch 1394: train=8.79105, val=8.63495, took 41.014 s\n",
      "  Validation Found 101607 of 108007, added 5340 (eff 94.07%) (0.267 FP/event)\n",
      "Result epoch:  1394\n",
      "Average Eff:  0\n",
      "Average FP Rate:  0\n"
     ]
    },
    {
     "data": {
      "application/vnd.jupyter.widget-view+json": {
       "model_id": "",
       "version_major": 2,
       "version_minor": 0
      },
      "text/plain": [
       "HBox(children=(FloatProgress(value=0.0, description='Training', layout=Layout(flex='2'), max=1250.0, style=Pro…"
      ]
     },
     "metadata": {},
     "output_type": "display_data"
    },
    {
     "name": "stdout",
     "output_type": "stream",
     "text": [
      "Epoch 1395: train=8.78836, val=8.63447, took 40.995 s\n",
      "  Validation Found 101645 of 108007, added 5423 (eff 94.11%) (0.271 FP/event)\n",
      "Result epoch:  1395\n",
      "Average Eff:  0\n",
      "Average FP Rate:  0\n"
     ]
    },
    {
     "data": {
      "application/vnd.jupyter.widget-view+json": {
       "model_id": "",
       "version_major": 2,
       "version_minor": 0
      },
      "text/plain": [
       "HBox(children=(FloatProgress(value=0.0, description='Training', layout=Layout(flex='2'), max=1250.0, style=Pro…"
      ]
     },
     "metadata": {},
     "output_type": "display_data"
    },
    {
     "name": "stdout",
     "output_type": "stream",
     "text": [
      "Epoch 1396: train=8.79269, val=8.64152, took 40.679 s\n",
      "  Validation Found 101608 of 108007, added 5347 (eff 94.08%) (0.267 FP/event)\n",
      "Result epoch:  1396\n",
      "Average Eff:  0\n",
      "Average FP Rate:  0\n"
     ]
    },
    {
     "data": {
      "application/vnd.jupyter.widget-view+json": {
       "model_id": "",
       "version_major": 2,
       "version_minor": 0
      },
      "text/plain": [
       "HBox(children=(FloatProgress(value=0.0, description='Training', layout=Layout(flex='2'), max=1250.0, style=Pro…"
      ]
     },
     "metadata": {},
     "output_type": "display_data"
    },
    {
     "name": "stdout",
     "output_type": "stream",
     "text": [
      "Epoch 1397: train=8.79003, val=8.62899, took 41.986 s\n",
      "  Validation Found 101673 of 108007, added 5471 (eff 94.14%) (0.274 FP/event)\n",
      "Result epoch:  1397\n",
      "Average Eff:  0\n",
      "Average FP Rate:  0\n"
     ]
    },
    {
     "data": {
      "application/vnd.jupyter.widget-view+json": {
       "model_id": "",
       "version_major": 2,
       "version_minor": 0
      },
      "text/plain": [
       "HBox(children=(FloatProgress(value=0.0, description='Training', layout=Layout(flex='2'), max=1250.0, style=Pro…"
      ]
     },
     "metadata": {},
     "output_type": "display_data"
    },
    {
     "name": "stdout",
     "output_type": "stream",
     "text": [
      "Epoch 1398: train=8.79292, val=8.63582, took 42.127 s\n",
      "  Validation Found 101662 of 108007, added 5436 (eff 94.13%) (0.272 FP/event)\n",
      "Result epoch:  1398\n",
      "Average Eff:  0\n",
      "Average FP Rate:  0\n"
     ]
    },
    {
     "data": {
      "application/vnd.jupyter.widget-view+json": {
       "model_id": "",
       "version_major": 2,
       "version_minor": 0
      },
      "text/plain": [
       "HBox(children=(FloatProgress(value=0.0, description='Training', layout=Layout(flex='2'), max=1250.0, style=Pro…"
      ]
     },
     "metadata": {},
     "output_type": "display_data"
    },
    {
     "name": "stdout",
     "output_type": "stream",
     "text": [
      "Epoch 1399: train=8.79025, val=8.63562, took 41.386 s\n",
      "  Validation Found 101570 of 108007, added 5319 (eff 94.04%) (0.266 FP/event)\n",
      "Result epoch:  1399\n",
      "Average Eff:  0\n",
      "Average FP Rate:  0\n"
     ]
    },
    {
     "data": {
      "application/vnd.jupyter.widget-view+json": {
       "model_id": "",
       "version_major": 2,
       "version_minor": 0
      },
      "text/plain": [
       "HBox(children=(FloatProgress(value=0.0, description='Training', layout=Layout(flex='2'), max=1250.0, style=Pro…"
      ]
     },
     "metadata": {},
     "output_type": "display_data"
    },
    {
     "name": "stdout",
     "output_type": "stream",
     "text": [
      "Epoch 1400: train=8.79293, val=8.62715, took 41.229 s\n",
      "  Validation Found 101695 of 108007, added 5495 (eff 94.16%) (0.275 FP/event)\n",
      "Result epoch:  1400\n",
      "Average Eff:  0\n",
      "Average FP Rate:  0\n"
     ]
    },
    {
     "data": {
      "application/vnd.jupyter.widget-view+json": {
       "model_id": "",
       "version_major": 2,
       "version_minor": 0
      },
      "text/plain": [
       "HBox(children=(FloatProgress(value=0.0, description='Training', layout=Layout(flex='2'), max=1250.0, style=Pro…"
      ]
     },
     "metadata": {},
     "output_type": "display_data"
    },
    {
     "name": "stdout",
     "output_type": "stream",
     "text": [
      "Epoch 1401: train=8.78936, val=8.63354, took 41.297 s\n",
      "  Validation Found 101680 of 108007, added 5474 (eff 94.14%) (0.274 FP/event)\n",
      "Result epoch:  1401\n",
      "Average Eff:  0\n",
      "Average FP Rate:  0\n"
     ]
    },
    {
     "data": {
      "application/vnd.jupyter.widget-view+json": {
       "model_id": "",
       "version_major": 2,
       "version_minor": 0
      },
      "text/plain": [
       "HBox(children=(FloatProgress(value=0.0, description='Training', layout=Layout(flex='2'), max=1250.0, style=Pro…"
      ]
     },
     "metadata": {},
     "output_type": "display_data"
    },
    {
     "name": "stdout",
     "output_type": "stream",
     "text": [
      "Epoch 1402: train=8.79321, val=8.64209, took 40.564 s\n",
      "  Validation Found 101675 of 108007, added 5471 (eff 94.14%) (0.274 FP/event)\n",
      "Result epoch:  1402\n",
      "Average Eff:  0\n",
      "Average FP Rate:  0\n"
     ]
    },
    {
     "data": {
      "application/vnd.jupyter.widget-view+json": {
       "model_id": "",
       "version_major": 2,
       "version_minor": 0
      },
      "text/plain": [
       "HBox(children=(FloatProgress(value=0.0, description='Training', layout=Layout(flex='2'), max=1250.0, style=Pro…"
      ]
     },
     "metadata": {},
     "output_type": "display_data"
    },
    {
     "name": "stdout",
     "output_type": "stream",
     "text": [
      "Epoch 1403: train=8.79175, val=8.63395, took 41.188 s\n",
      "  Validation Found 101661 of 108007, added 5453 (eff 94.12%) (0.273 FP/event)\n",
      "Result epoch:  1403\n",
      "Average Eff:  0\n",
      "Average FP Rate:  0\n"
     ]
    },
    {
     "data": {
      "application/vnd.jupyter.widget-view+json": {
       "model_id": "",
       "version_major": 2,
       "version_minor": 0
      },
      "text/plain": [
       "HBox(children=(FloatProgress(value=0.0, description='Training', layout=Layout(flex='2'), max=1250.0, style=Pro…"
      ]
     },
     "metadata": {},
     "output_type": "display_data"
    },
    {
     "name": "stdout",
     "output_type": "stream",
     "text": [
      "Epoch 1404: train=8.79484, val=8.62932, took 40.669 s\n",
      "  Validation Found 101683 of 108007, added 5503 (eff 94.14%) (0.275 FP/event)\n",
      "Result epoch:  1404\n",
      "Average Eff:  0\n",
      "Average FP Rate:  0\n"
     ]
    },
    {
     "data": {
      "application/vnd.jupyter.widget-view+json": {
       "model_id": "",
       "version_major": 2,
       "version_minor": 0
      },
      "text/plain": [
       "HBox(children=(FloatProgress(value=0.0, description='Training', layout=Layout(flex='2'), max=1250.0, style=Pro…"
      ]
     },
     "metadata": {},
     "output_type": "display_data"
    },
    {
     "name": "stdout",
     "output_type": "stream",
     "text": [
      "Epoch 1405: train=8.79105, val=8.63271, took 40.979 s\n",
      "  Validation Found 101715 of 108007, added 5558 (eff 94.17%) (0.278 FP/event)\n",
      "Result epoch:  1405\n",
      "Average Eff:  0\n",
      "Average FP Rate:  0\n"
     ]
    },
    {
     "data": {
      "application/vnd.jupyter.widget-view+json": {
       "model_id": "",
       "version_major": 2,
       "version_minor": 0
      },
      "text/plain": [
       "HBox(children=(FloatProgress(value=0.0, description='Training', layout=Layout(flex='2'), max=1250.0, style=Pro…"
      ]
     },
     "metadata": {},
     "output_type": "display_data"
    },
    {
     "name": "stdout",
     "output_type": "stream",
     "text": [
      "Epoch 1406: train=8.79417, val=8.62892, took 41.016 s\n",
      "  Validation Found 101668 of 108007, added 5474 (eff 94.13%) (0.274 FP/event)\n",
      "Result epoch:  1406\n",
      "Average Eff:  0\n",
      "Average FP Rate:  0\n"
     ]
    },
    {
     "data": {
      "application/vnd.jupyter.widget-view+json": {
       "model_id": "",
       "version_major": 2,
       "version_minor": 0
      },
      "text/plain": [
       "HBox(children=(FloatProgress(value=0.0, description='Training', layout=Layout(flex='2'), max=1250.0, style=Pro…"
      ]
     },
     "metadata": {},
     "output_type": "display_data"
    },
    {
     "name": "stdout",
     "output_type": "stream",
     "text": [
      "Epoch 1407: train=8.79464, val=8.64066, took 40.699 s\n",
      "  Validation Found 101698 of 108007, added 5510 (eff 94.16%) (0.275 FP/event)\n",
      "Result epoch:  1407\n",
      "Average Eff:  0\n",
      "Average FP Rate:  0\n"
     ]
    },
    {
     "data": {
      "application/vnd.jupyter.widget-view+json": {
       "model_id": "",
       "version_major": 2,
       "version_minor": 0
      },
      "text/plain": [
       "HBox(children=(FloatProgress(value=0.0, description='Training', layout=Layout(flex='2'), max=1250.0, style=Pro…"
      ]
     },
     "metadata": {},
     "output_type": "display_data"
    },
    {
     "name": "stdout",
     "output_type": "stream",
     "text": [
      "Epoch 1408: train=8.79004, val=8.63037, took 41.285 s\n",
      "  Validation Found 101666 of 108007, added 5432 (eff 94.13%) (0.272 FP/event)\n",
      "Result epoch:  1408\n",
      "Average Eff:  0\n",
      "Average FP Rate:  0\n"
     ]
    },
    {
     "data": {
      "application/vnd.jupyter.widget-view+json": {
       "model_id": "",
       "version_major": 2,
       "version_minor": 0
      },
      "text/plain": [
       "HBox(children=(FloatProgress(value=0.0, description='Training', layout=Layout(flex='2'), max=1250.0, style=Pro…"
      ]
     },
     "metadata": {},
     "output_type": "display_data"
    },
    {
     "name": "stdout",
     "output_type": "stream",
     "text": [
      "Epoch 1409: train=8.7956, val=8.63575, took 42.001 s\n",
      "  Validation Found 101645 of 108007, added 5419 (eff 94.11%) (0.271 FP/event)\n",
      "Result epoch:  1409\n",
      "Average Eff:  0\n",
      "Average FP Rate:  0\n"
     ]
    },
    {
     "data": {
      "application/vnd.jupyter.widget-view+json": {
       "model_id": "",
       "version_major": 2,
       "version_minor": 0
      },
      "text/plain": [
       "HBox(children=(FloatProgress(value=0.0, description='Training', layout=Layout(flex='2'), max=1250.0, style=Pro…"
      ]
     },
     "metadata": {},
     "output_type": "display_data"
    },
    {
     "name": "stdout",
     "output_type": "stream",
     "text": [
      "Epoch 1410: train=8.78828, val=8.62745, took 42.041 s\n",
      "  Validation Found 101623 of 108007, added 5377 (eff 94.09%) (0.269 FP/event)\n",
      "Result epoch:  1410\n",
      "Average Eff:  0\n",
      "Average FP Rate:  0\n"
     ]
    },
    {
     "data": {
      "application/vnd.jupyter.widget-view+json": {
       "model_id": "",
       "version_major": 2,
       "version_minor": 0
      },
      "text/plain": [
       "HBox(children=(FloatProgress(value=0.0, description='Training', layout=Layout(flex='2'), max=1250.0, style=Pro…"
      ]
     },
     "metadata": {},
     "output_type": "display_data"
    },
    {
     "name": "stdout",
     "output_type": "stream",
     "text": [
      "Epoch 1411: train=8.79495, val=8.63837, took 42.124 s\n",
      "  Validation Found 101660 of 108007, added 5454 (eff 94.12%) (0.273 FP/event)\n",
      "Result epoch:  1411\n",
      "Average Eff:  0\n",
      "Average FP Rate:  0\n"
     ]
    },
    {
     "data": {
      "application/vnd.jupyter.widget-view+json": {
       "model_id": "",
       "version_major": 2,
       "version_minor": 0
      },
      "text/plain": [
       "HBox(children=(FloatProgress(value=0.0, description='Training', layout=Layout(flex='2'), max=1250.0, style=Pro…"
      ]
     },
     "metadata": {},
     "output_type": "display_data"
    },
    {
     "name": "stdout",
     "output_type": "stream",
     "text": [
      "Epoch 1412: train=8.79328, val=8.6348, took 41.783 s\n",
      "  Validation Found 101621 of 108007, added 5402 (eff 94.09%) (0.27 FP/event)\n",
      "Result epoch:  1412\n",
      "Average Eff:  0\n",
      "Average FP Rate:  0\n"
     ]
    },
    {
     "data": {
      "application/vnd.jupyter.widget-view+json": {
       "model_id": "",
       "version_major": 2,
       "version_minor": 0
      },
      "text/plain": [
       "HBox(children=(FloatProgress(value=0.0, description='Training', layout=Layout(flex='2'), max=1250.0, style=Pro…"
      ]
     },
     "metadata": {},
     "output_type": "display_data"
    },
    {
     "name": "stdout",
     "output_type": "stream",
     "text": [
      "Epoch 1413: train=8.78935, val=8.63098, took 41.896 s\n",
      "  Validation Found 101666 of 108007, added 5478 (eff 94.13%) (0.274 FP/event)\n",
      "Result epoch:  1413\n",
      "Average Eff:  0\n",
      "Average FP Rate:  0\n"
     ]
    },
    {
     "data": {
      "application/vnd.jupyter.widget-view+json": {
       "model_id": "",
       "version_major": 2,
       "version_minor": 0
      },
      "text/plain": [
       "HBox(children=(FloatProgress(value=0.0, description='Training', layout=Layout(flex='2'), max=1250.0, style=Pro…"
      ]
     },
     "metadata": {},
     "output_type": "display_data"
    },
    {
     "name": "stdout",
     "output_type": "stream",
     "text": [
      "Epoch 1414: train=8.79552, val=8.62976, took 41.226 s\n",
      "  Validation Found 101677 of 108007, added 5480 (eff 94.14%) (0.274 FP/event)\n",
      "Result epoch:  1414\n",
      "Average Eff:  0\n",
      "Average FP Rate:  0\n"
     ]
    },
    {
     "data": {
      "application/vnd.jupyter.widget-view+json": {
       "model_id": "",
       "version_major": 2,
       "version_minor": 0
      },
      "text/plain": [
       "HBox(children=(FloatProgress(value=0.0, description='Training', layout=Layout(flex='2'), max=1250.0, style=Pro…"
      ]
     },
     "metadata": {},
     "output_type": "display_data"
    },
    {
     "name": "stdout",
     "output_type": "stream",
     "text": [
      "Epoch 1415: train=8.78876, val=8.62363, took 41.364 s\n",
      "  Validation Found 101725 of 108007, added 5568 (eff 94.18%) (0.278 FP/event)\n",
      "Result epoch:  1415\n",
      "Average Eff:  0\n",
      "Average FP Rate:  0\n"
     ]
    },
    {
     "data": {
      "application/vnd.jupyter.widget-view+json": {
       "model_id": "",
       "version_major": 2,
       "version_minor": 0
      },
      "text/plain": [
       "HBox(children=(FloatProgress(value=0.0, description='Training', layout=Layout(flex='2'), max=1250.0, style=Pro…"
      ]
     },
     "metadata": {},
     "output_type": "display_data"
    },
    {
     "name": "stdout",
     "output_type": "stream",
     "text": [
      "Epoch 1416: train=8.78853, val=8.63396, took 40.778 s\n",
      "  Validation Found 101624 of 108007, added 5387 (eff 94.09%) (0.269 FP/event)\n",
      "Result epoch:  1416\n",
      "Average Eff:  0\n",
      "Average FP Rate:  0\n"
     ]
    },
    {
     "data": {
      "application/vnd.jupyter.widget-view+json": {
       "model_id": "",
       "version_major": 2,
       "version_minor": 0
      },
      "text/plain": [
       "HBox(children=(FloatProgress(value=0.0, description='Training', layout=Layout(flex='2'), max=1250.0, style=Pro…"
      ]
     },
     "metadata": {},
     "output_type": "display_data"
    },
    {
     "name": "stdout",
     "output_type": "stream",
     "text": [
      "Epoch 1417: train=8.78731, val=8.63696, took 41.059 s\n",
      "  Validation Found 101632 of 108007, added 5384 (eff 94.10%) (0.269 FP/event)\n",
      "Result epoch:  1417\n",
      "Average Eff:  0\n",
      "Average FP Rate:  0\n"
     ]
    },
    {
     "data": {
      "application/vnd.jupyter.widget-view+json": {
       "model_id": "",
       "version_major": 2,
       "version_minor": 0
      },
      "text/plain": [
       "HBox(children=(FloatProgress(value=0.0, description='Training', layout=Layout(flex='2'), max=1250.0, style=Pro…"
      ]
     },
     "metadata": {},
     "output_type": "display_data"
    },
    {
     "name": "stdout",
     "output_type": "stream",
     "text": [
      "Epoch 1418: train=8.7924, val=8.63877, took 40.907 s\n",
      "  Validation Found 101633 of 108007, added 5411 (eff 94.10%) (0.271 FP/event)\n",
      "Result epoch:  1418\n",
      "Average Eff:  0\n",
      "Average FP Rate:  0\n"
     ]
    },
    {
     "data": {
      "application/vnd.jupyter.widget-view+json": {
       "model_id": "",
       "version_major": 2,
       "version_minor": 0
      },
      "text/plain": [
       "HBox(children=(FloatProgress(value=0.0, description='Training', layout=Layout(flex='2'), max=1250.0, style=Pro…"
      ]
     },
     "metadata": {},
     "output_type": "display_data"
    },
    {
     "name": "stdout",
     "output_type": "stream",
     "text": [
      "Epoch 1419: train=8.79234, val=8.64233, took 40.724 s\n",
      "  Validation Found 101645 of 108007, added 5433 (eff 94.11%) (0.272 FP/event)\n",
      "Result epoch:  1419\n",
      "Average Eff:  0\n",
      "Average FP Rate:  0\n"
     ]
    },
    {
     "data": {
      "application/vnd.jupyter.widget-view+json": {
       "model_id": "",
       "version_major": 2,
       "version_minor": 0
      },
      "text/plain": [
       "HBox(children=(FloatProgress(value=0.0, description='Training', layout=Layout(flex='2'), max=1250.0, style=Pro…"
      ]
     },
     "metadata": {},
     "output_type": "display_data"
    },
    {
     "name": "stdout",
     "output_type": "stream",
     "text": [
      "Epoch 1420: train=8.78876, val=8.64504, took 41.278 s\n",
      "  Validation Found 101662 of 108007, added 5471 (eff 94.13%) (0.274 FP/event)\n",
      "Result epoch:  1420\n",
      "Average Eff:  0\n",
      "Average FP Rate:  0\n"
     ]
    },
    {
     "data": {
      "application/vnd.jupyter.widget-view+json": {
       "model_id": "",
       "version_major": 2,
       "version_minor": 0
      },
      "text/plain": [
       "HBox(children=(FloatProgress(value=0.0, description='Training', layout=Layout(flex='2'), max=1250.0, style=Pro…"
      ]
     },
     "metadata": {},
     "output_type": "display_data"
    },
    {
     "name": "stdout",
     "output_type": "stream",
     "text": [
      "Epoch 1421: train=8.79142, val=8.63281, took 40.541 s\n",
      "  Validation Found 101678 of 108007, added 5477 (eff 94.14%) (0.274 FP/event)\n",
      "Result epoch:  1421\n",
      "Average Eff:  0\n",
      "Average FP Rate:  0\n"
     ]
    },
    {
     "data": {
      "application/vnd.jupyter.widget-view+json": {
       "model_id": "",
       "version_major": 2,
       "version_minor": 0
      },
      "text/plain": [
       "HBox(children=(FloatProgress(value=0.0, description='Training', layout=Layout(flex='2'), max=1250.0, style=Pro…"
      ]
     },
     "metadata": {},
     "output_type": "display_data"
    },
    {
     "name": "stdout",
     "output_type": "stream",
     "text": [
      "Epoch 1422: train=8.78919, val=8.63581, took 41.193 s\n",
      "  Validation Found 101587 of 108007, added 5344 (eff 94.06%) (0.267 FP/event)\n",
      "Result epoch:  1422\n",
      "Average Eff:  0\n",
      "Average FP Rate:  0\n"
     ]
    },
    {
     "data": {
      "application/vnd.jupyter.widget-view+json": {
       "model_id": "",
       "version_major": 2,
       "version_minor": 0
      },
      "text/plain": [
       "HBox(children=(FloatProgress(value=0.0, description='Training', layout=Layout(flex='2'), max=1250.0, style=Pro…"
      ]
     },
     "metadata": {},
     "output_type": "display_data"
    },
    {
     "name": "stdout",
     "output_type": "stream",
     "text": [
      "Epoch 1423: train=8.78912, val=8.63254, took 40.717 s\n",
      "  Validation Found 101656 of 108007, added 5453 (eff 94.12%) (0.273 FP/event)\n",
      "Result epoch:  1423\n",
      "Average Eff:  0\n",
      "Average FP Rate:  0\n"
     ]
    },
    {
     "data": {
      "application/vnd.jupyter.widget-view+json": {
       "model_id": "",
       "version_major": 2,
       "version_minor": 0
      },
      "text/plain": [
       "HBox(children=(FloatProgress(value=0.0, description='Training', layout=Layout(flex='2'), max=1250.0, style=Pro…"
      ]
     },
     "metadata": {},
     "output_type": "display_data"
    },
    {
     "name": "stdout",
     "output_type": "stream",
     "text": [
      "Epoch 1424: train=8.79242, val=8.63818, took 40.972 s\n",
      "  Validation Found 101715 of 108007, added 5541 (eff 94.17%) (0.277 FP/event)\n",
      "Result epoch:  1424\n",
      "Average Eff:  0\n",
      "Average FP Rate:  0\n"
     ]
    },
    {
     "data": {
      "application/vnd.jupyter.widget-view+json": {
       "model_id": "",
       "version_major": 2,
       "version_minor": 0
      },
      "text/plain": [
       "HBox(children=(FloatProgress(value=0.0, description='Training', layout=Layout(flex='2'), max=1250.0, style=Pro…"
      ]
     },
     "metadata": {},
     "output_type": "display_data"
    },
    {
     "name": "stdout",
     "output_type": "stream",
     "text": [
      "Epoch 1425: train=8.79046, val=8.63362, took 41.948 s\n",
      "  Validation Found 101609 of 108007, added 5355 (eff 94.08%) (0.268 FP/event)\n",
      "Result epoch:  1425\n",
      "Average Eff:  0\n",
      "Average FP Rate:  0\n"
     ]
    },
    {
     "data": {
      "application/vnd.jupyter.widget-view+json": {
       "model_id": "",
       "version_major": 2,
       "version_minor": 0
      },
      "text/plain": [
       "HBox(children=(FloatProgress(value=0.0, description='Training', layout=Layout(flex='2'), max=1250.0, style=Pro…"
      ]
     },
     "metadata": {},
     "output_type": "display_data"
    },
    {
     "name": "stdout",
     "output_type": "stream",
     "text": [
      "Epoch 1426: train=8.79129, val=8.63219, took 41.556 s\n",
      "  Validation Found 101669 of 108007, added 5444 (eff 94.13%) (0.272 FP/event)\n",
      "Result epoch:  1426\n",
      "Average Eff:  0\n",
      "Average FP Rate:  0\n"
     ]
    },
    {
     "data": {
      "application/vnd.jupyter.widget-view+json": {
       "model_id": "",
       "version_major": 2,
       "version_minor": 0
      },
      "text/plain": [
       "HBox(children=(FloatProgress(value=0.0, description='Training', layout=Layout(flex='2'), max=1250.0, style=Pro…"
      ]
     },
     "metadata": {},
     "output_type": "display_data"
    },
    {
     "name": "stdout",
     "output_type": "stream",
     "text": [
      "Epoch 1427: train=8.79367, val=8.63066, took 42.128 s\n",
      "  Validation Found 101634 of 108007, added 5404 (eff 94.10%) (0.27 FP/event)\n",
      "Result epoch:  1427\n",
      "Average Eff:  0\n",
      "Average FP Rate:  0\n"
     ]
    },
    {
     "data": {
      "application/vnd.jupyter.widget-view+json": {
       "model_id": "",
       "version_major": 2,
       "version_minor": 0
      },
      "text/plain": [
       "HBox(children=(FloatProgress(value=0.0, description='Training', layout=Layout(flex='2'), max=1250.0, style=Pro…"
      ]
     },
     "metadata": {},
     "output_type": "display_data"
    },
    {
     "name": "stdout",
     "output_type": "stream",
     "text": [
      "Epoch 1428: train=8.79101, val=8.64541, took 41.422 s\n",
      "  Validation Found 101724 of 108007, added 5570 (eff 94.18%) (0.278 FP/event)\n",
      "Result epoch:  1428\n",
      "Average Eff:  0\n",
      "Average FP Rate:  0\n"
     ]
    },
    {
     "data": {
      "application/vnd.jupyter.widget-view+json": {
       "model_id": "",
       "version_major": 2,
       "version_minor": 0
      },
      "text/plain": [
       "HBox(children=(FloatProgress(value=0.0, description='Training', layout=Layout(flex='2'), max=1250.0, style=Pro…"
      ]
     },
     "metadata": {},
     "output_type": "display_data"
    },
    {
     "name": "stdout",
     "output_type": "stream",
     "text": [
      "Epoch 1429: train=8.7937, val=8.63156, took 42.021 s\n",
      "  Validation Found 101597 of 108007, added 5359 (eff 94.07%) (0.268 FP/event)\n",
      "Result epoch:  1429\n",
      "Average Eff:  0\n",
      "Average FP Rate:  0\n"
     ]
    },
    {
     "data": {
      "application/vnd.jupyter.widget-view+json": {
       "model_id": "",
       "version_major": 2,
       "version_minor": 0
      },
      "text/plain": [
       "HBox(children=(FloatProgress(value=0.0, description='Training', layout=Layout(flex='2'), max=1250.0, style=Pro…"
      ]
     },
     "metadata": {},
     "output_type": "display_data"
    },
    {
     "name": "stdout",
     "output_type": "stream",
     "text": [
      "Epoch 1430: train=8.78787, val=8.63666, took 41.955 s\n",
      "  Validation Found 101639 of 108007, added 5408 (eff 94.10%) (0.27 FP/event)\n",
      "Result epoch:  1430\n",
      "Average Eff:  0\n",
      "Average FP Rate:  0\n"
     ]
    },
    {
     "data": {
      "application/vnd.jupyter.widget-view+json": {
       "model_id": "",
       "version_major": 2,
       "version_minor": 0
      },
      "text/plain": [
       "HBox(children=(FloatProgress(value=0.0, description='Training', layout=Layout(flex='2'), max=1250.0, style=Pro…"
      ]
     },
     "metadata": {},
     "output_type": "display_data"
    },
    {
     "name": "stdout",
     "output_type": "stream",
     "text": [
      "Epoch 1431: train=8.78954, val=8.63302, took 41.84 s\n",
      "  Validation Found 101542 of 108007, added 5278 (eff 94.01%) (0.264 FP/event)\n",
      "Result epoch:  1431\n",
      "Average Eff:  0\n",
      "Average FP Rate:  0\n"
     ]
    },
    {
     "data": {
      "application/vnd.jupyter.widget-view+json": {
       "model_id": "",
       "version_major": 2,
       "version_minor": 0
      },
      "text/plain": [
       "HBox(children=(FloatProgress(value=0.0, description='Training', layout=Layout(flex='2'), max=1250.0, style=Pro…"
      ]
     },
     "metadata": {},
     "output_type": "display_data"
    },
    {
     "name": "stdout",
     "output_type": "stream",
     "text": [
      "Epoch 1432: train=8.79005, val=8.63754, took 41.232 s\n",
      "  Validation Found 101599 of 108007, added 5353 (eff 94.07%) (0.268 FP/event)\n",
      "Result epoch:  1432\n",
      "Average Eff:  0\n",
      "Average FP Rate:  0\n"
     ]
    },
    {
     "data": {
      "application/vnd.jupyter.widget-view+json": {
       "model_id": "",
       "version_major": 2,
       "version_minor": 0
      },
      "text/plain": [
       "HBox(children=(FloatProgress(value=0.0, description='Training', layout=Layout(flex='2'), max=1250.0, style=Pro…"
      ]
     },
     "metadata": {},
     "output_type": "display_data"
    },
    {
     "name": "stdout",
     "output_type": "stream",
     "text": [
      "Epoch 1433: train=8.78487, val=8.63428, took 41.194 s\n",
      "  Validation Found 101657 of 108007, added 5444 (eff 94.12%) (0.272 FP/event)\n",
      "Result epoch:  1433\n",
      "Average Eff:  0\n",
      "Average FP Rate:  0\n"
     ]
    },
    {
     "data": {
      "application/vnd.jupyter.widget-view+json": {
       "model_id": "",
       "version_major": 2,
       "version_minor": 0
      },
      "text/plain": [
       "HBox(children=(FloatProgress(value=0.0, description='Training', layout=Layout(flex='2'), max=1250.0, style=Pro…"
      ]
     },
     "metadata": {},
     "output_type": "display_data"
    },
    {
     "name": "stdout",
     "output_type": "stream",
     "text": [
      "Epoch 1434: train=8.79273, val=8.62926, took 40.97 s\n",
      "  Validation Found 101618 of 108007, added 5387 (eff 94.08%) (0.269 FP/event)\n",
      "Result epoch:  1434\n",
      "Average Eff:  0\n",
      "Average FP Rate:  0\n"
     ]
    },
    {
     "data": {
      "application/vnd.jupyter.widget-view+json": {
       "model_id": "",
       "version_major": 2,
       "version_minor": 0
      },
      "text/plain": [
       "HBox(children=(FloatProgress(value=0.0, description='Training', layout=Layout(flex='2'), max=1250.0, style=Pro…"
      ]
     },
     "metadata": {},
     "output_type": "display_data"
    },
    {
     "name": "stdout",
     "output_type": "stream",
     "text": [
      "Epoch 1435: train=8.79166, val=8.63121, took 40.392 s\n",
      "  Validation Found 101689 of 108007, added 5504 (eff 94.15%) (0.275 FP/event)\n",
      "Result epoch:  1435\n",
      "Average Eff:  0\n",
      "Average FP Rate:  0\n"
     ]
    },
    {
     "data": {
      "application/vnd.jupyter.widget-view+json": {
       "model_id": "",
       "version_major": 2,
       "version_minor": 0
      },
      "text/plain": [
       "HBox(children=(FloatProgress(value=0.0, description='Training', layout=Layout(flex='2'), max=1250.0, style=Pro…"
      ]
     },
     "metadata": {},
     "output_type": "display_data"
    },
    {
     "name": "stdout",
     "output_type": "stream",
     "text": [
      "Epoch 1436: train=8.79468, val=8.62292, took 41.131 s\n",
      "  Validation Found 101648 of 108007, added 5437 (eff 94.11%) (0.272 FP/event)\n",
      "Result epoch:  1436\n",
      "Average Eff:  0\n",
      "Average FP Rate:  0\n"
     ]
    },
    {
     "data": {
      "application/vnd.jupyter.widget-view+json": {
       "model_id": "",
       "version_major": 2,
       "version_minor": 0
      },
      "text/plain": [
       "HBox(children=(FloatProgress(value=0.0, description='Training', layout=Layout(flex='2'), max=1250.0, style=Pro…"
      ]
     },
     "metadata": {},
     "output_type": "display_data"
    },
    {
     "name": "stdout",
     "output_type": "stream",
     "text": [
      "Epoch 1437: train=8.79139, val=8.62587, took 40.384 s\n",
      "  Validation Found 101731 of 108007, added 5605 (eff 94.19%) (0.28 FP/event)\n",
      "Result epoch:  1437\n",
      "Average Eff:  0\n",
      "Average FP Rate:  0\n"
     ]
    },
    {
     "data": {
      "application/vnd.jupyter.widget-view+json": {
       "model_id": "",
       "version_major": 2,
       "version_minor": 0
      },
      "text/plain": [
       "HBox(children=(FloatProgress(value=0.0, description='Training', layout=Layout(flex='2'), max=1250.0, style=Pro…"
      ]
     },
     "metadata": {},
     "output_type": "display_data"
    },
    {
     "name": "stdout",
     "output_type": "stream",
     "text": [
      "Epoch 1438: train=8.79279, val=8.63915, took 40.929 s\n",
      "  Validation Found 101569 of 108007, added 5338 (eff 94.04%) (0.267 FP/event)\n",
      "Result epoch:  1438\n",
      "Average Eff:  0\n",
      "Average FP Rate:  0\n"
     ]
    },
    {
     "data": {
      "application/vnd.jupyter.widget-view+json": {
       "model_id": "",
       "version_major": 2,
       "version_minor": 0
      },
      "text/plain": [
       "HBox(children=(FloatProgress(value=0.0, description='Training', layout=Layout(flex='2'), max=1250.0, style=Pro…"
      ]
     },
     "metadata": {},
     "output_type": "display_data"
    },
    {
     "name": "stdout",
     "output_type": "stream",
     "text": [
      "Epoch 1439: train=8.78475, val=8.63472, took 40.622 s\n",
      "  Validation Found 101668 of 108007, added 5443 (eff 94.13%) (0.272 FP/event)\n",
      "Result epoch:  1439\n",
      "Average Eff:  0\n",
      "Average FP Rate:  0\n"
     ]
    },
    {
     "data": {
      "application/vnd.jupyter.widget-view+json": {
       "model_id": "",
       "version_major": 2,
       "version_minor": 0
      },
      "text/plain": [
       "HBox(children=(FloatProgress(value=0.0, description='Training', layout=Layout(flex='2'), max=1250.0, style=Pro…"
      ]
     },
     "metadata": {},
     "output_type": "display_data"
    },
    {
     "name": "stdout",
     "output_type": "stream",
     "text": [
      "Epoch 1440: train=8.79267, val=8.64312, took 40.833 s\n",
      "  Validation Found 101608 of 108007, added 5356 (eff 94.08%) (0.268 FP/event)\n",
      "Result epoch:  1440\n",
      "Average Eff:  0\n",
      "Average FP Rate:  0\n"
     ]
    },
    {
     "data": {
      "application/vnd.jupyter.widget-view+json": {
       "model_id": "",
       "version_major": 2,
       "version_minor": 0
      },
      "text/plain": [
       "HBox(children=(FloatProgress(value=0.0, description='Training', layout=Layout(flex='2'), max=1250.0, style=Pro…"
      ]
     },
     "metadata": {},
     "output_type": "display_data"
    },
    {
     "name": "stdout",
     "output_type": "stream",
     "text": [
      "Epoch 1441: train=8.78703, val=8.63717, took 41.288 s\n",
      "  Validation Found 101595 of 108007, added 5357 (eff 94.06%) (0.268 FP/event)\n",
      "Result epoch:  1441\n",
      "Average Eff:  0\n",
      "Average FP Rate:  0\n"
     ]
    },
    {
     "data": {
      "application/vnd.jupyter.widget-view+json": {
       "model_id": "",
       "version_major": 2,
       "version_minor": 0
      },
      "text/plain": [
       "HBox(children=(FloatProgress(value=0.0, description='Training', layout=Layout(flex='2'), max=1250.0, style=Pro…"
      ]
     },
     "metadata": {},
     "output_type": "display_data"
    },
    {
     "name": "stdout",
     "output_type": "stream",
     "text": [
      "Epoch 1442: train=8.79296, val=8.63303, took 40.503 s\n",
      "  Validation Found 101609 of 108007, added 5361 (eff 94.08%) (0.268 FP/event)\n",
      "Result epoch:  1442\n",
      "Average Eff:  0\n",
      "Average FP Rate:  0\n"
     ]
    },
    {
     "data": {
      "application/vnd.jupyter.widget-view+json": {
       "model_id": "",
       "version_major": 2,
       "version_minor": 0
      },
      "text/plain": [
       "HBox(children=(FloatProgress(value=0.0, description='Training', layout=Layout(flex='2'), max=1250.0, style=Pro…"
      ]
     },
     "metadata": {},
     "output_type": "display_data"
    },
    {
     "name": "stdout",
     "output_type": "stream",
     "text": [
      "Epoch 1443: train=8.7906, val=8.62929, took 41.285 s\n",
      "  Validation Found 101698 of 108007, added 5511 (eff 94.16%) (0.276 FP/event)\n",
      "Result epoch:  1443\n",
      "Average Eff:  0\n",
      "Average FP Rate:  0\n"
     ]
    },
    {
     "data": {
      "application/vnd.jupyter.widget-view+json": {
       "model_id": "",
       "version_major": 2,
       "version_minor": 0
      },
      "text/plain": [
       "HBox(children=(FloatProgress(value=0.0, description='Training', layout=Layout(flex='2'), max=1250.0, style=Pro…"
      ]
     },
     "metadata": {},
     "output_type": "display_data"
    },
    {
     "name": "stdout",
     "output_type": "stream",
     "text": [
      "Epoch 1444: train=8.78857, val=8.63884, took 40.533 s\n",
      "  Validation Found 101631 of 108007, added 5391 (eff 94.10%) (0.27 FP/event)\n",
      "Result epoch:  1444\n",
      "Average Eff:  0\n",
      "Average FP Rate:  0\n"
     ]
    },
    {
     "data": {
      "application/vnd.jupyter.widget-view+json": {
       "model_id": "",
       "version_major": 2,
       "version_minor": 0
      },
      "text/plain": [
       "HBox(children=(FloatProgress(value=0.0, description='Training', layout=Layout(flex='2'), max=1250.0, style=Pro…"
      ]
     },
     "metadata": {},
     "output_type": "display_data"
    },
    {
     "name": "stdout",
     "output_type": "stream",
     "text": [
      "Epoch 1445: train=8.79156, val=8.63672, took 41.289 s\n",
      "  Validation Found 101561 of 108007, added 5321 (eff 94.03%) (0.266 FP/event)\n",
      "Result epoch:  1445\n",
      "Average Eff:  0\n",
      "Average FP Rate:  0\n"
     ]
    },
    {
     "data": {
      "application/vnd.jupyter.widget-view+json": {
       "model_id": "",
       "version_major": 2,
       "version_minor": 0
      },
      "text/plain": [
       "HBox(children=(FloatProgress(value=0.0, description='Training', layout=Layout(flex='2'), max=1250.0, style=Pro…"
      ]
     },
     "metadata": {},
     "output_type": "display_data"
    },
    {
     "name": "stdout",
     "output_type": "stream",
     "text": [
      "Epoch 1446: train=8.78778, val=8.63635, took 40.936 s\n",
      "  Validation Found 101609 of 108007, added 5397 (eff 94.08%) (0.27 FP/event)\n",
      "Result epoch:  1446\n",
      "Average Eff:  0\n",
      "Average FP Rate:  0\n"
     ]
    },
    {
     "data": {
      "application/vnd.jupyter.widget-view+json": {
       "model_id": "",
       "version_major": 2,
       "version_minor": 0
      },
      "text/plain": [
       "HBox(children=(FloatProgress(value=0.0, description='Training', layout=Layout(flex='2'), max=1250.0, style=Pro…"
      ]
     },
     "metadata": {},
     "output_type": "display_data"
    },
    {
     "name": "stdout",
     "output_type": "stream",
     "text": [
      "Epoch 1447: train=8.79168, val=8.62867, took 41.048 s\n",
      "  Validation Found 101613 of 108007, added 5369 (eff 94.08%) (0.268 FP/event)\n",
      "Result epoch:  1447\n",
      "Average Eff:  0\n",
      "Average FP Rate:  0\n"
     ]
    },
    {
     "data": {
      "application/vnd.jupyter.widget-view+json": {
       "model_id": "",
       "version_major": 2,
       "version_minor": 0
      },
      "text/plain": [
       "HBox(children=(FloatProgress(value=0.0, description='Training', layout=Layout(flex='2'), max=1250.0, style=Pro…"
      ]
     },
     "metadata": {},
     "output_type": "display_data"
    },
    {
     "name": "stdout",
     "output_type": "stream",
     "text": [
      "Epoch 1448: train=8.78939, val=8.63415, took 41.423 s\n",
      "  Validation Found 101601 of 108007, added 5350 (eff 94.07%) (0.267 FP/event)\n",
      "Result epoch:  1448\n",
      "Average Eff:  0\n",
      "Average FP Rate:  0\n"
     ]
    },
    {
     "data": {
      "application/vnd.jupyter.widget-view+json": {
       "model_id": "",
       "version_major": 2,
       "version_minor": 0
      },
      "text/plain": [
       "HBox(children=(FloatProgress(value=0.0, description='Training', layout=Layout(flex='2'), max=1250.0, style=Pro…"
      ]
     },
     "metadata": {},
     "output_type": "display_data"
    },
    {
     "name": "stdout",
     "output_type": "stream",
     "text": [
      "Epoch 1449: train=8.79186, val=8.62184, took 40.649 s\n",
      "  Validation Found 101717 of 108007, added 5527 (eff 94.18%) (0.276 FP/event)\n",
      "Result epoch:  1449\n",
      "Average Eff:  0\n",
      "Average FP Rate:  0\n"
     ]
    },
    {
     "data": {
      "application/vnd.jupyter.widget-view+json": {
       "model_id": "",
       "version_major": 2,
       "version_minor": 0
      },
      "text/plain": [
       "HBox(children=(FloatProgress(value=0.0, description='Training', layout=Layout(flex='2'), max=1250.0, style=Pro…"
      ]
     },
     "metadata": {},
     "output_type": "display_data"
    },
    {
     "name": "stdout",
     "output_type": "stream",
     "text": [
      "Epoch 1450: train=8.79025, val=8.63512, took 41.378 s\n",
      "  Validation Found 101604 of 108007, added 5335 (eff 94.07%) (0.267 FP/event)\n",
      "Result epoch:  1450\n",
      "Average Eff:  0\n",
      "Average FP Rate:  0\n"
     ]
    },
    {
     "data": {
      "application/vnd.jupyter.widget-view+json": {
       "model_id": "",
       "version_major": 2,
       "version_minor": 0
      },
      "text/plain": [
       "HBox(children=(FloatProgress(value=0.0, description='Training', layout=Layout(flex='2'), max=1250.0, style=Pro…"
      ]
     },
     "metadata": {},
     "output_type": "display_data"
    },
    {
     "name": "stdout",
     "output_type": "stream",
     "text": [
      "Epoch 1451: train=8.79188, val=8.63145, took 40.811 s\n",
      "  Validation Found 101689 of 108007, added 5512 (eff 94.15%) (0.276 FP/event)\n",
      "Result epoch:  1451\n",
      "Average Eff:  0\n",
      "Average FP Rate:  0\n"
     ]
    },
    {
     "data": {
      "application/vnd.jupyter.widget-view+json": {
       "model_id": "",
       "version_major": 2,
       "version_minor": 0
      },
      "text/plain": [
       "HBox(children=(FloatProgress(value=0.0, description='Training', layout=Layout(flex='2'), max=1250.0, style=Pro…"
      ]
     },
     "metadata": {},
     "output_type": "display_data"
    },
    {
     "name": "stdout",
     "output_type": "stream",
     "text": [
      "Epoch 1452: train=8.7912, val=8.63225, took 41.697 s\n",
      "  Validation Found 101619 of 108007, added 5390 (eff 94.09%) (0.269 FP/event)\n",
      "Result epoch:  1452\n",
      "Average Eff:  0\n",
      "Average FP Rate:  0\n"
     ]
    },
    {
     "data": {
      "application/vnd.jupyter.widget-view+json": {
       "model_id": "",
       "version_major": 2,
       "version_minor": 0
      },
      "text/plain": [
       "HBox(children=(FloatProgress(value=0.0, description='Training', layout=Layout(flex='2'), max=1250.0, style=Pro…"
      ]
     },
     "metadata": {},
     "output_type": "display_data"
    },
    {
     "name": "stdout",
     "output_type": "stream",
     "text": [
      "Epoch 1453: train=8.79049, val=8.6273, took 41.009 s\n",
      "  Validation Found 101558 of 108007, added 5309 (eff 94.03%) (0.265 FP/event)\n",
      "Result epoch:  1453\n",
      "Average Eff:  0\n",
      "Average FP Rate:  0\n"
     ]
    },
    {
     "data": {
      "application/vnd.jupyter.widget-view+json": {
       "model_id": "",
       "version_major": 2,
       "version_minor": 0
      },
      "text/plain": [
       "HBox(children=(FloatProgress(value=0.0, description='Training', layout=Layout(flex='2'), max=1250.0, style=Pro…"
      ]
     },
     "metadata": {},
     "output_type": "display_data"
    },
    {
     "name": "stdout",
     "output_type": "stream",
     "text": [
      "Epoch 1454: train=8.79267, val=8.63597, took 41.064 s\n",
      "  Validation Found 101597 of 108007, added 5328 (eff 94.07%) (0.266 FP/event)\n",
      "Result epoch:  1454\n",
      "Average Eff:  0\n",
      "Average FP Rate:  0\n"
     ]
    },
    {
     "data": {
      "application/vnd.jupyter.widget-view+json": {
       "model_id": "",
       "version_major": 2,
       "version_minor": 0
      },
      "text/plain": [
       "HBox(children=(FloatProgress(value=0.0, description='Training', layout=Layout(flex='2'), max=1250.0, style=Pro…"
      ]
     },
     "metadata": {},
     "output_type": "display_data"
    },
    {
     "name": "stdout",
     "output_type": "stream",
     "text": [
      "Epoch 1455: train=8.79109, val=8.63844, took 41.402 s\n",
      "  Validation Found 101605 of 108007, added 5358 (eff 94.07%) (0.268 FP/event)\n",
      "Result epoch:  1455\n",
      "Average Eff:  0\n",
      "Average FP Rate:  0\n"
     ]
    },
    {
     "data": {
      "application/vnd.jupyter.widget-view+json": {
       "model_id": "",
       "version_major": 2,
       "version_minor": 0
      },
      "text/plain": [
       "HBox(children=(FloatProgress(value=0.0, description='Training', layout=Layout(flex='2'), max=1250.0, style=Pro…"
      ]
     },
     "metadata": {},
     "output_type": "display_data"
    },
    {
     "name": "stdout",
     "output_type": "stream",
     "text": [
      "Epoch 1456: train=8.79259, val=8.63787, took 40.629 s\n",
      "  Validation Found 101594 of 108007, added 5329 (eff 94.06%) (0.266 FP/event)\n",
      "Result epoch:  1456\n",
      "Average Eff:  0\n",
      "Average FP Rate:  0\n"
     ]
    },
    {
     "data": {
      "application/vnd.jupyter.widget-view+json": {
       "model_id": "",
       "version_major": 2,
       "version_minor": 0
      },
      "text/plain": [
       "HBox(children=(FloatProgress(value=0.0, description='Training', layout=Layout(flex='2'), max=1250.0, style=Pro…"
      ]
     },
     "metadata": {},
     "output_type": "display_data"
    },
    {
     "name": "stdout",
     "output_type": "stream",
     "text": [
      "Epoch 1457: train=8.79032, val=8.63507, took 41.393 s\n",
      "  Validation Found 101579 of 108007, added 5332 (eff 94.05%) (0.267 FP/event)\n",
      "Result epoch:  1457\n",
      "Average Eff:  0\n",
      "Average FP Rate:  0\n"
     ]
    },
    {
     "data": {
      "application/vnd.jupyter.widget-view+json": {
       "model_id": "",
       "version_major": 2,
       "version_minor": 0
      },
      "text/plain": [
       "HBox(children=(FloatProgress(value=0.0, description='Training', layout=Layout(flex='2'), max=1250.0, style=Pro…"
      ]
     },
     "metadata": {},
     "output_type": "display_data"
    },
    {
     "name": "stdout",
     "output_type": "stream",
     "text": [
      "Epoch 1458: train=8.7931, val=8.63, took 41.67 s\n",
      "  Validation Found 101637 of 108007, added 5385 (eff 94.10%) (0.269 FP/event)\n",
      "Result epoch:  1458\n",
      "Average Eff:  0\n",
      "Average FP Rate:  0\n"
     ]
    },
    {
     "data": {
      "application/vnd.jupyter.widget-view+json": {
       "model_id": "",
       "version_major": 2,
       "version_minor": 0
      },
      "text/plain": [
       "HBox(children=(FloatProgress(value=0.0, description='Training', layout=Layout(flex='2'), max=1250.0, style=Pro…"
      ]
     },
     "metadata": {},
     "output_type": "display_data"
    },
    {
     "name": "stdout",
     "output_type": "stream",
     "text": [
      "Epoch 1459: train=8.79263, val=8.62597, took 41.224 s\n",
      "  Validation Found 101699 of 108007, added 5496 (eff 94.16%) (0.275 FP/event)\n",
      "Result epoch:  1459\n",
      "Average Eff:  0\n",
      "Average FP Rate:  0\n"
     ]
    },
    {
     "data": {
      "application/vnd.jupyter.widget-view+json": {
       "model_id": "",
       "version_major": 2,
       "version_minor": 0
      },
      "text/plain": [
       "HBox(children=(FloatProgress(value=0.0, description='Training', layout=Layout(flex='2'), max=1250.0, style=Pro…"
      ]
     },
     "metadata": {},
     "output_type": "display_data"
    },
    {
     "name": "stdout",
     "output_type": "stream",
     "text": [
      "Epoch 1460: train=8.78698, val=8.64016, took 41.43 s\n",
      "  Validation Found 101600 of 108007, added 5355 (eff 94.07%) (0.268 FP/event)\n",
      "Result epoch:  1460\n",
      "Average Eff:  0\n",
      "Average FP Rate:  0\n"
     ]
    },
    {
     "data": {
      "application/vnd.jupyter.widget-view+json": {
       "model_id": "",
       "version_major": 2,
       "version_minor": 0
      },
      "text/plain": [
       "HBox(children=(FloatProgress(value=0.0, description='Training', layout=Layout(flex='2'), max=1250.0, style=Pro…"
      ]
     },
     "metadata": {},
     "output_type": "display_data"
    },
    {
     "name": "stdout",
     "output_type": "stream",
     "text": [
      "Epoch 1461: train=8.78972, val=8.63163, took 41.43 s\n",
      "  Validation Found 101615 of 108007, added 5351 (eff 94.08%) (0.268 FP/event)\n",
      "Result epoch:  1461\n",
      "Average Eff:  0\n",
      "Average FP Rate:  0\n"
     ]
    },
    {
     "data": {
      "application/vnd.jupyter.widget-view+json": {
       "model_id": "",
       "version_major": 2,
       "version_minor": 0
      },
      "text/plain": [
       "HBox(children=(FloatProgress(value=0.0, description='Training', layout=Layout(flex='2'), max=1250.0, style=Pro…"
      ]
     },
     "metadata": {},
     "output_type": "display_data"
    },
    {
     "name": "stdout",
     "output_type": "stream",
     "text": [
      "Epoch 1462: train=8.7868, val=8.63841, took 42.354 s\n",
      "  Validation Found 101605 of 108007, added 5351 (eff 94.07%) (0.268 FP/event)\n",
      "Result epoch:  1462\n",
      "Average Eff:  0\n",
      "Average FP Rate:  0\n"
     ]
    },
    {
     "data": {
      "application/vnd.jupyter.widget-view+json": {
       "model_id": "",
       "version_major": 2,
       "version_minor": 0
      },
      "text/plain": [
       "HBox(children=(FloatProgress(value=0.0, description='Training', layout=Layout(flex='2'), max=1250.0, style=Pro…"
      ]
     },
     "metadata": {},
     "output_type": "display_data"
    },
    {
     "name": "stdout",
     "output_type": "stream",
     "text": [
      "Epoch 1463: train=8.78949, val=8.62769, took 42.227 s\n",
      "  Validation Found 101644 of 108007, added 5413 (eff 94.11%) (0.271 FP/event)\n",
      "Result epoch:  1463\n",
      "Average Eff:  0\n",
      "Average FP Rate:  0\n"
     ]
    },
    {
     "data": {
      "application/vnd.jupyter.widget-view+json": {
       "model_id": "",
       "version_major": 2,
       "version_minor": 0
      },
      "text/plain": [
       "HBox(children=(FloatProgress(value=0.0, description='Training', layout=Layout(flex='2'), max=1250.0, style=Pro…"
      ]
     },
     "metadata": {},
     "output_type": "display_data"
    },
    {
     "name": "stdout",
     "output_type": "stream",
     "text": [
      "Epoch 1464: train=8.78887, val=8.62147, took 41.587 s\n",
      "  Validation Found 101627 of 108007, added 5389 (eff 94.09%) (0.269 FP/event)\n",
      "Result epoch:  1464\n",
      "Average Eff:  0\n",
      "Average FP Rate:  0\n"
     ]
    },
    {
     "data": {
      "application/vnd.jupyter.widget-view+json": {
       "model_id": "",
       "version_major": 2,
       "version_minor": 0
      },
      "text/plain": [
       "HBox(children=(FloatProgress(value=0.0, description='Training', layout=Layout(flex='2'), max=1250.0, style=Pro…"
      ]
     },
     "metadata": {},
     "output_type": "display_data"
    },
    {
     "name": "stdout",
     "output_type": "stream",
     "text": [
      "Epoch 1465: train=8.79228, val=8.64233, took 40.798 s\n",
      "  Validation Found 101626 of 108007, added 5410 (eff 94.09%) (0.27 FP/event)\n",
      "Result epoch:  1465\n",
      "Average Eff:  0\n",
      "Average FP Rate:  0\n"
     ]
    },
    {
     "data": {
      "application/vnd.jupyter.widget-view+json": {
       "model_id": "",
       "version_major": 2,
       "version_minor": 0
      },
      "text/plain": [
       "HBox(children=(FloatProgress(value=0.0, description='Training', layout=Layout(flex='2'), max=1250.0, style=Pro…"
      ]
     },
     "metadata": {},
     "output_type": "display_data"
    },
    {
     "name": "stdout",
     "output_type": "stream",
     "text": [
      "Epoch 1466: train=8.79233, val=8.63575, took 41.021 s\n",
      "  Validation Found 101798 of 108007, added 5774 (eff 94.25%) (0.289 FP/event)\n",
      "Result epoch:  1466\n",
      "Average Eff:  0\n",
      "Average FP Rate:  0\n"
     ]
    },
    {
     "data": {
      "application/vnd.jupyter.widget-view+json": {
       "model_id": "",
       "version_major": 2,
       "version_minor": 0
      },
      "text/plain": [
       "HBox(children=(FloatProgress(value=0.0, description='Training', layout=Layout(flex='2'), max=1250.0, style=Pro…"
      ]
     },
     "metadata": {},
     "output_type": "display_data"
    },
    {
     "name": "stdout",
     "output_type": "stream",
     "text": [
      "Epoch 1467: train=8.79424, val=8.64037, took 40.897 s\n",
      "  Validation Found 101624 of 108007, added 5402 (eff 94.09%) (0.27 FP/event)\n",
      "Result epoch:  1467\n",
      "Average Eff:  0\n",
      "Average FP Rate:  0\n"
     ]
    },
    {
     "data": {
      "application/vnd.jupyter.widget-view+json": {
       "model_id": "",
       "version_major": 2,
       "version_minor": 0
      },
      "text/plain": [
       "HBox(children=(FloatProgress(value=0.0, description='Training', layout=Layout(flex='2'), max=1250.0, style=Pro…"
      ]
     },
     "metadata": {},
     "output_type": "display_data"
    },
    {
     "name": "stdout",
     "output_type": "stream",
     "text": [
      "Epoch 1468: train=8.79563, val=8.63432, took 40.637 s\n",
      "  Validation Found 101667 of 108007, added 5466 (eff 94.13%) (0.273 FP/event)\n",
      "Result epoch:  1468\n",
      "Average Eff:  0\n",
      "Average FP Rate:  0\n"
     ]
    },
    {
     "data": {
      "application/vnd.jupyter.widget-view+json": {
       "model_id": "",
       "version_major": 2,
       "version_minor": 0
      },
      "text/plain": [
       "HBox(children=(FloatProgress(value=0.0, description='Training', layout=Layout(flex='2'), max=1250.0, style=Pro…"
      ]
     },
     "metadata": {},
     "output_type": "display_data"
    },
    {
     "name": "stdout",
     "output_type": "stream",
     "text": [
      "Epoch 1469: train=8.79217, val=8.63763, took 41.185 s\n",
      "  Validation Found 101687 of 108007, added 5490 (eff 94.15%) (0.274 FP/event)\n",
      "Result epoch:  1469\n",
      "Average Eff:  0\n",
      "Average FP Rate:  0\n"
     ]
    },
    {
     "data": {
      "application/vnd.jupyter.widget-view+json": {
       "model_id": "",
       "version_major": 2,
       "version_minor": 0
      },
      "text/plain": [
       "HBox(children=(FloatProgress(value=0.0, description='Training', layout=Layout(flex='2'), max=1250.0, style=Pro…"
      ]
     },
     "metadata": {},
     "output_type": "display_data"
    },
    {
     "name": "stdout",
     "output_type": "stream",
     "text": [
      "Epoch 1470: train=8.79414, val=8.62718, took 40.448 s\n",
      "  Validation Found 101625 of 108007, added 5371 (eff 94.09%) (0.269 FP/event)\n",
      "Result epoch:  1470\n",
      "Average Eff:  0\n",
      "Average FP Rate:  0\n"
     ]
    },
    {
     "data": {
      "application/vnd.jupyter.widget-view+json": {
       "model_id": "",
       "version_major": 2,
       "version_minor": 0
      },
      "text/plain": [
       "HBox(children=(FloatProgress(value=0.0, description='Training', layout=Layout(flex='2'), max=1250.0, style=Pro…"
      ]
     },
     "metadata": {},
     "output_type": "display_data"
    },
    {
     "name": "stdout",
     "output_type": "stream",
     "text": [
      "Epoch 1471: train=8.79023, val=8.63682, took 41.099 s\n",
      "  Validation Found 101583 of 108007, added 5328 (eff 94.05%) (0.266 FP/event)\n",
      "Result epoch:  1471\n",
      "Average Eff:  0\n",
      "Average FP Rate:  0\n"
     ]
    },
    {
     "data": {
      "application/vnd.jupyter.widget-view+json": {
       "model_id": "",
       "version_major": 2,
       "version_minor": 0
      },
      "text/plain": [
       "HBox(children=(FloatProgress(value=0.0, description='Training', layout=Layout(flex='2'), max=1250.0, style=Pro…"
      ]
     },
     "metadata": {},
     "output_type": "display_data"
    },
    {
     "name": "stdout",
     "output_type": "stream",
     "text": [
      "Epoch 1472: train=8.79057, val=8.63384, took 40.653 s\n",
      "  Validation Found 101671 of 108007, added 5457 (eff 94.13%) (0.273 FP/event)\n",
      "Result epoch:  1472\n",
      "Average Eff:  0\n",
      "Average FP Rate:  0\n"
     ]
    },
    {
     "data": {
      "application/vnd.jupyter.widget-view+json": {
       "model_id": "",
       "version_major": 2,
       "version_minor": 0
      },
      "text/plain": [
       "HBox(children=(FloatProgress(value=0.0, description='Training', layout=Layout(flex='2'), max=1250.0, style=Pro…"
      ]
     },
     "metadata": {},
     "output_type": "display_data"
    },
    {
     "name": "stdout",
     "output_type": "stream",
     "text": [
      "Epoch 1473: train=8.79135, val=8.63367, took 40.938 s\n",
      "  Validation Found 101683 of 108007, added 5475 (eff 94.14%) (0.274 FP/event)\n",
      "Result epoch:  1473\n",
      "Average Eff:  0\n",
      "Average FP Rate:  0\n"
     ]
    },
    {
     "data": {
      "application/vnd.jupyter.widget-view+json": {
       "model_id": "",
       "version_major": 2,
       "version_minor": 0
      },
      "text/plain": [
       "HBox(children=(FloatProgress(value=0.0, description='Training', layout=Layout(flex='2'), max=1250.0, style=Pro…"
      ]
     },
     "metadata": {},
     "output_type": "display_data"
    },
    {
     "name": "stdout",
     "output_type": "stream",
     "text": [
      "Epoch 1474: train=8.79067, val=8.63111, took 41.005 s\n",
      "  Validation Found 101602 of 108007, added 5371 (eff 94.07%) (0.269 FP/event)\n",
      "Result epoch:  1474\n",
      "Average Eff:  0\n",
      "Average FP Rate:  0\n"
     ]
    },
    {
     "data": {
      "application/vnd.jupyter.widget-view+json": {
       "model_id": "",
       "version_major": 2,
       "version_minor": 0
      },
      "text/plain": [
       "HBox(children=(FloatProgress(value=0.0, description='Training', layout=Layout(flex='2'), max=1250.0, style=Pro…"
      ]
     },
     "metadata": {},
     "output_type": "display_data"
    },
    {
     "name": "stdout",
     "output_type": "stream",
     "text": [
      "Epoch 1475: train=8.78742, val=8.62606, took 40.767 s\n",
      "  Validation Found 101642 of 108007, added 5419 (eff 94.11%) (0.271 FP/event)\n",
      "Result epoch:  1475\n",
      "Average Eff:  0\n",
      "Average FP Rate:  0\n"
     ]
    },
    {
     "data": {
      "application/vnd.jupyter.widget-view+json": {
       "model_id": "",
       "version_major": 2,
       "version_minor": 0
      },
      "text/plain": [
       "HBox(children=(FloatProgress(value=0.0, description='Training', layout=Layout(flex='2'), max=1250.0, style=Pro…"
      ]
     },
     "metadata": {},
     "output_type": "display_data"
    },
    {
     "name": "stdout",
     "output_type": "stream",
     "text": [
      "Epoch 1476: train=8.78423, val=8.64265, took 41.369 s\n",
      "  Validation Found 101624 of 108007, added 5382 (eff 94.09%) (0.269 FP/event)\n",
      "Result epoch:  1476\n",
      "Average Eff:  0\n",
      "Average FP Rate:  0\n"
     ]
    },
    {
     "data": {
      "application/vnd.jupyter.widget-view+json": {
       "model_id": "",
       "version_major": 2,
       "version_minor": 0
      },
      "text/plain": [
       "HBox(children=(FloatProgress(value=0.0, description='Training', layout=Layout(flex='2'), max=1250.0, style=Pro…"
      ]
     },
     "metadata": {},
     "output_type": "display_data"
    },
    {
     "name": "stdout",
     "output_type": "stream",
     "text": [
      "Epoch 1477: train=8.79013, val=8.63319, took 40.63 s\n",
      "  Validation Found 101717 of 108007, added 5561 (eff 94.18%) (0.278 FP/event)\n",
      "Result epoch:  1477\n",
      "Average Eff:  0\n",
      "Average FP Rate:  0\n"
     ]
    },
    {
     "data": {
      "application/vnd.jupyter.widget-view+json": {
       "model_id": "",
       "version_major": 2,
       "version_minor": 0
      },
      "text/plain": [
       "HBox(children=(FloatProgress(value=0.0, description='Training', layout=Layout(flex='2'), max=1250.0, style=Pro…"
      ]
     },
     "metadata": {},
     "output_type": "display_data"
    },
    {
     "name": "stdout",
     "output_type": "stream",
     "text": [
      "Epoch 1478: train=8.78987, val=8.64106, took 41.238 s\n",
      "  Validation Found 101607 of 108007, added 5356 (eff 94.07%) (0.268 FP/event)\n",
      "Result epoch:  1478\n",
      "Average Eff:  0\n",
      "Average FP Rate:  0\n"
     ]
    },
    {
     "data": {
      "application/vnd.jupyter.widget-view+json": {
       "model_id": "",
       "version_major": 2,
       "version_minor": 0
      },
      "text/plain": [
       "HBox(children=(FloatProgress(value=0.0, description='Training', layout=Layout(flex='2'), max=1250.0, style=Pro…"
      ]
     },
     "metadata": {},
     "output_type": "display_data"
    },
    {
     "name": "stdout",
     "output_type": "stream",
     "text": [
      "Epoch 1479: train=8.79385, val=8.64528, took 41.315 s\n",
      "  Validation Found 101521 of 108007, added 5245 (eff 93.99%) (0.262 FP/event)\n",
      "Result epoch:  1479\n",
      "Average Eff:  0\n",
      "Average FP Rate:  0\n"
     ]
    },
    {
     "data": {
      "application/vnd.jupyter.widget-view+json": {
       "model_id": "",
       "version_major": 2,
       "version_minor": 0
      },
      "text/plain": [
       "HBox(children=(FloatProgress(value=0.0, description='Training', layout=Layout(flex='2'), max=1250.0, style=Pro…"
      ]
     },
     "metadata": {},
     "output_type": "display_data"
    },
    {
     "name": "stdout",
     "output_type": "stream",
     "text": [
      "Epoch 1480: train=8.78967, val=8.63633, took 41.741 s\n",
      "  Validation Found 101562 of 108007, added 5297 (eff 94.03%) (0.265 FP/event)\n",
      "Result epoch:  1480\n",
      "Average Eff:  0\n",
      "Average FP Rate:  0\n"
     ]
    },
    {
     "data": {
      "application/vnd.jupyter.widget-view+json": {
       "model_id": "",
       "version_major": 2,
       "version_minor": 0
      },
      "text/plain": [
       "HBox(children=(FloatProgress(value=0.0, description='Training', layout=Layout(flex='2'), max=1250.0, style=Pro…"
      ]
     },
     "metadata": {},
     "output_type": "display_data"
    },
    {
     "name": "stdout",
     "output_type": "stream",
     "text": [
      "Epoch 1481: train=8.78861, val=8.63491, took 42.188 s\n",
      "  Validation Found 101585 of 108007, added 5327 (eff 94.05%) (0.266 FP/event)\n",
      "Result epoch:  1481\n",
      "Average Eff:  0\n",
      "Average FP Rate:  0\n"
     ]
    },
    {
     "data": {
      "application/vnd.jupyter.widget-view+json": {
       "model_id": "",
       "version_major": 2,
       "version_minor": 0
      },
      "text/plain": [
       "HBox(children=(FloatProgress(value=0.0, description='Training', layout=Layout(flex='2'), max=1250.0, style=Pro…"
      ]
     },
     "metadata": {},
     "output_type": "display_data"
    },
    {
     "name": "stdout",
     "output_type": "stream",
     "text": [
      "Epoch 1482: train=8.79025, val=8.6339, took 41.095 s\n",
      "  Validation Found 101639 of 108007, added 5409 (eff 94.10%) (0.27 FP/event)\n",
      "Result epoch:  1482\n",
      "Average Eff:  0\n",
      "Average FP Rate:  0\n"
     ]
    },
    {
     "data": {
      "application/vnd.jupyter.widget-view+json": {
       "model_id": "",
       "version_major": 2,
       "version_minor": 0
      },
      "text/plain": [
       "HBox(children=(FloatProgress(value=0.0, description='Training', layout=Layout(flex='2'), max=1250.0, style=Pro…"
      ]
     },
     "metadata": {},
     "output_type": "display_data"
    },
    {
     "name": "stdout",
     "output_type": "stream",
     "text": [
      "Epoch 1483: train=8.79437, val=8.63068, took 41.191 s\n",
      "  Validation Found 101657 of 108007, added 5415 (eff 94.12%) (0.271 FP/event)\n",
      "Result epoch:  1483\n",
      "Average Eff:  0\n",
      "Average FP Rate:  0\n"
     ]
    },
    {
     "data": {
      "application/vnd.jupyter.widget-view+json": {
       "model_id": "",
       "version_major": 2,
       "version_minor": 0
      },
      "text/plain": [
       "HBox(children=(FloatProgress(value=0.0, description='Training', layout=Layout(flex='2'), max=1250.0, style=Pro…"
      ]
     },
     "metadata": {},
     "output_type": "display_data"
    },
    {
     "name": "stdout",
     "output_type": "stream",
     "text": [
      "Epoch 1484: train=8.78842, val=8.63506, took 40.654 s\n",
      "  Validation Found 101717 of 108007, added 5543 (eff 94.18%) (0.277 FP/event)\n",
      "Result epoch:  1484\n",
      "Average Eff:  0\n",
      "Average FP Rate:  0\n"
     ]
    },
    {
     "data": {
      "application/vnd.jupyter.widget-view+json": {
       "model_id": "",
       "version_major": 2,
       "version_minor": 0
      },
      "text/plain": [
       "HBox(children=(FloatProgress(value=0.0, description='Training', layout=Layout(flex='2'), max=1250.0, style=Pro…"
      ]
     },
     "metadata": {},
     "output_type": "display_data"
    },
    {
     "name": "stdout",
     "output_type": "stream",
     "text": [
      "Epoch 1485: train=8.78822, val=8.635, took 40.988 s\n",
      "  Validation Found 101615 of 108007, added 5369 (eff 94.08%) (0.268 FP/event)\n",
      "Result epoch:  1485\n",
      "Average Eff:  0\n",
      "Average FP Rate:  0\n"
     ]
    },
    {
     "data": {
      "application/vnd.jupyter.widget-view+json": {
       "model_id": "",
       "version_major": 2,
       "version_minor": 0
      },
      "text/plain": [
       "HBox(children=(FloatProgress(value=0.0, description='Training', layout=Layout(flex='2'), max=1250.0, style=Pro…"
      ]
     },
     "metadata": {},
     "output_type": "display_data"
    },
    {
     "name": "stdout",
     "output_type": "stream",
     "text": [
      "Epoch 1486: train=8.78786, val=8.63014, took 40.736 s\n",
      "  Validation Found 101678 of 108007, added 5462 (eff 94.14%) (0.273 FP/event)\n",
      "Result epoch:  1486\n",
      "Average Eff:  0\n",
      "Average FP Rate:  0\n"
     ]
    },
    {
     "data": {
      "application/vnd.jupyter.widget-view+json": {
       "model_id": "",
       "version_major": 2,
       "version_minor": 0
      },
      "text/plain": [
       "HBox(children=(FloatProgress(value=0.0, description='Training', layout=Layout(flex='2'), max=1250.0, style=Pro…"
      ]
     },
     "metadata": {},
     "output_type": "display_data"
    },
    {
     "name": "stdout",
     "output_type": "stream",
     "text": [
      "Epoch 1487: train=8.79279, val=8.63145, took 40.768 s\n",
      "  Validation Found 101687 of 108007, added 5496 (eff 94.15%) (0.275 FP/event)\n",
      "Result epoch:  1487\n",
      "Average Eff:  0\n",
      "Average FP Rate:  0\n"
     ]
    },
    {
     "data": {
      "application/vnd.jupyter.widget-view+json": {
       "model_id": "",
       "version_major": 2,
       "version_minor": 0
      },
      "text/plain": [
       "HBox(children=(FloatProgress(value=0.0, description='Training', layout=Layout(flex='2'), max=1250.0, style=Pro…"
      ]
     },
     "metadata": {},
     "output_type": "display_data"
    },
    {
     "name": "stdout",
     "output_type": "stream",
     "text": [
      "Epoch 1488: train=8.78731, val=8.6249, took 41.165 s\n",
      "  Validation Found 101662 of 108007, added 5424 (eff 94.13%) (0.271 FP/event)\n",
      "Result epoch:  1488\n",
      "Average Eff:  0\n",
      "Average FP Rate:  0\n"
     ]
    },
    {
     "data": {
      "application/vnd.jupyter.widget-view+json": {
       "model_id": "",
       "version_major": 2,
       "version_minor": 0
      },
      "text/plain": [
       "HBox(children=(FloatProgress(value=0.0, description='Training', layout=Layout(flex='2'), max=1250.0, style=Pro…"
      ]
     },
     "metadata": {},
     "output_type": "display_data"
    },
    {
     "name": "stdout",
     "output_type": "stream",
     "text": [
      "Epoch 1489: train=8.78749, val=8.63542, took 40.748 s\n",
      "  Validation Found 101603 of 108007, added 5354 (eff 94.07%) (0.268 FP/event)\n",
      "Result epoch:  1489\n",
      "Average Eff:  0\n",
      "Average FP Rate:  0\n"
     ]
    },
    {
     "data": {
      "application/vnd.jupyter.widget-view+json": {
       "model_id": "",
       "version_major": 2,
       "version_minor": 0
      },
      "text/plain": [
       "HBox(children=(FloatProgress(value=0.0, description='Training', layout=Layout(flex='2'), max=1250.0, style=Pro…"
      ]
     },
     "metadata": {},
     "output_type": "display_data"
    },
    {
     "name": "stdout",
     "output_type": "stream",
     "text": [
      "Epoch 1490: train=8.78964, val=8.63895, took 42.183 s\n",
      "  Validation Found 101633 of 108007, added 5373 (eff 94.10%) (0.269 FP/event)\n",
      "Result epoch:  1490\n",
      "Average Eff:  0\n",
      "Average FP Rate:  0\n"
     ]
    },
    {
     "data": {
      "application/vnd.jupyter.widget-view+json": {
       "model_id": "",
       "version_major": 2,
       "version_minor": 0
      },
      "text/plain": [
       "HBox(children=(FloatProgress(value=0.0, description='Training', layout=Layout(flex='2'), max=1250.0, style=Pro…"
      ]
     },
     "metadata": {},
     "output_type": "display_data"
    },
    {
     "name": "stdout",
     "output_type": "stream",
     "text": [
      "Epoch 1491: train=8.78989, val=8.64084, took 41.69 s\n",
      "  Validation Found 101722 of 108007, added 5588 (eff 94.18%) (0.279 FP/event)\n",
      "Result epoch:  1491\n",
      "Average Eff:  0\n",
      "Average FP Rate:  0\n"
     ]
    },
    {
     "data": {
      "application/vnd.jupyter.widget-view+json": {
       "model_id": "",
       "version_major": 2,
       "version_minor": 0
      },
      "text/plain": [
       "HBox(children=(FloatProgress(value=0.0, description='Training', layout=Layout(flex='2'), max=1250.0, style=Pro…"
      ]
     },
     "metadata": {},
     "output_type": "display_data"
    },
    {
     "name": "stdout",
     "output_type": "stream",
     "text": [
      "Epoch 1492: train=8.79014, val=8.62365, took 41.786 s\n",
      "  Validation Found 101665 of 108007, added 5444 (eff 94.13%) (0.272 FP/event)\n",
      "Result epoch:  1492\n",
      "Average Eff:  0\n",
      "Average FP Rate:  0\n"
     ]
    },
    {
     "data": {
      "application/vnd.jupyter.widget-view+json": {
       "model_id": "",
       "version_major": 2,
       "version_minor": 0
      },
      "text/plain": [
       "HBox(children=(FloatProgress(value=0.0, description='Training', layout=Layout(flex='2'), max=1250.0, style=Pro…"
      ]
     },
     "metadata": {},
     "output_type": "display_data"
    },
    {
     "name": "stdout",
     "output_type": "stream",
     "text": [
      "Epoch 1493: train=8.78756, val=8.63491, took 41.075 s\n",
      "  Validation Found 101716 of 108007, added 5565 (eff 94.18%) (0.278 FP/event)\n",
      "Result epoch:  1493\n",
      "Average Eff:  0\n",
      "Average FP Rate:  0\n"
     ]
    },
    {
     "data": {
      "application/vnd.jupyter.widget-view+json": {
       "model_id": "",
       "version_major": 2,
       "version_minor": 0
      },
      "text/plain": [
       "HBox(children=(FloatProgress(value=0.0, description='Training', layout=Layout(flex='2'), max=1250.0, style=Pro…"
      ]
     },
     "metadata": {},
     "output_type": "display_data"
    },
    {
     "name": "stdout",
     "output_type": "stream",
     "text": [
      "Epoch 1494: train=8.79149, val=8.63551, took 40.533 s\n",
      "  Validation Found 101658 of 108007, added 5433 (eff 94.12%) (0.272 FP/event)\n",
      "Result epoch:  1494\n",
      "Average Eff:  0\n",
      "Average FP Rate:  0\n"
     ]
    },
    {
     "data": {
      "application/vnd.jupyter.widget-view+json": {
       "model_id": "",
       "version_major": 2,
       "version_minor": 0
      },
      "text/plain": [
       "HBox(children=(FloatProgress(value=0.0, description='Training', layout=Layout(flex='2'), max=1250.0, style=Pro…"
      ]
     },
     "metadata": {},
     "output_type": "display_data"
    },
    {
     "name": "stdout",
     "output_type": "stream",
     "text": [
      "Epoch 1495: train=8.79288, val=8.63626, took 41.127 s\n",
      "  Validation Found 101543 of 108007, added 5244 (eff 94.02%) (0.262 FP/event)\n",
      "Result epoch:  1495\n",
      "Average Eff:  0\n",
      "Average FP Rate:  0\n"
     ]
    },
    {
     "data": {
      "application/vnd.jupyter.widget-view+json": {
       "model_id": "",
       "version_major": 2,
       "version_minor": 0
      },
      "text/plain": [
       "HBox(children=(FloatProgress(value=0.0, description='Training', layout=Layout(flex='2'), max=1250.0, style=Pro…"
      ]
     },
     "metadata": {},
     "output_type": "display_data"
    },
    {
     "name": "stdout",
     "output_type": "stream",
     "text": [
      "Epoch 1496: train=8.79289, val=8.63122, took 40.69 s\n",
      "  Validation Found 101586 of 108007, added 5309 (eff 94.06%) (0.265 FP/event)\n",
      "Result epoch:  1496\n",
      "Average Eff:  0\n",
      "Average FP Rate:  0\n"
     ]
    },
    {
     "data": {
      "application/vnd.jupyter.widget-view+json": {
       "model_id": "",
       "version_major": 2,
       "version_minor": 0
      },
      "text/plain": [
       "HBox(children=(FloatProgress(value=0.0, description='Training', layout=Layout(flex='2'), max=1250.0, style=Pro…"
      ]
     },
     "metadata": {},
     "output_type": "display_data"
    },
    {
     "name": "stdout",
     "output_type": "stream",
     "text": [
      "Epoch 1497: train=8.78837, val=8.6314, took 40.86 s\n",
      "  Validation Found 101613 of 108007, added 5358 (eff 94.08%) (0.268 FP/event)\n",
      "Result epoch:  1497\n",
      "Average Eff:  0\n",
      "Average FP Rate:  0\n"
     ]
    },
    {
     "data": {
      "application/vnd.jupyter.widget-view+json": {
       "model_id": "",
       "version_major": 2,
       "version_minor": 0
      },
      "text/plain": [
       "HBox(children=(FloatProgress(value=0.0, description='Training', layout=Layout(flex='2'), max=1250.0, style=Pro…"
      ]
     },
     "metadata": {},
     "output_type": "display_data"
    },
    {
     "name": "stdout",
     "output_type": "stream",
     "text": [
      "Epoch 1498: train=8.78599, val=8.63806, took 41.924 s\n",
      "  Validation Found 101691 of 108007, added 5506 (eff 94.15%) (0.275 FP/event)\n",
      "Result epoch:  1498\n",
      "Average Eff:  0\n",
      "Average FP Rate:  0\n"
     ]
    },
    {
     "data": {
      "application/vnd.jupyter.widget-view+json": {
       "model_id": "",
       "version_major": 2,
       "version_minor": 0
      },
      "text/plain": [
       "HBox(children=(FloatProgress(value=0.0, description='Training', layout=Layout(flex='2'), max=1250.0, style=Pro…"
      ]
     },
     "metadata": {},
     "output_type": "display_data"
    },
    {
     "name": "stdout",
     "output_type": "stream",
     "text": [
      "Epoch 1499: train=8.78789, val=8.63955, took 41.142 s\n",
      "  Validation Found 101626 of 108007, added 5391 (eff 94.09%) (0.27 FP/event)\n",
      "Result epoch:  1499\n",
      "Average Eff:  0\n",
      "Average FP Rate:  0\n"
     ]
    },
    {
     "data": {
      "application/vnd.jupyter.widget-view+json": {
       "model_id": "",
       "version_major": 2,
       "version_minor": 0
      },
      "text/plain": [
       "HBox(children=(FloatProgress(value=0.0, description='Training', layout=Layout(flex='2'), max=1250.0, style=Pro…"
      ]
     },
     "metadata": {},
     "output_type": "display_data"
    },
    {
     "name": "stdout",
     "output_type": "stream",
     "text": [
      "Epoch 1500: train=8.79119, val=8.62964, took 41.862 s\n",
      "  Validation Found 101638 of 108007, added 5412 (eff 94.10%) (0.271 FP/event)\n",
      "Result epoch:  1500\n",
      "Average Eff:  0\n",
      "Average FP Rate:  0\n"
     ]
    },
    {
     "data": {
      "application/vnd.jupyter.widget-view+json": {
       "model_id": "",
       "version_major": 2,
       "version_minor": 0
      },
      "text/plain": [
       "HBox(children=(FloatProgress(value=0.0, description='Training', layout=Layout(flex='2'), max=1250.0, style=Pro…"
      ]
     },
     "metadata": {},
     "output_type": "display_data"
    },
    {
     "name": "stdout",
     "output_type": "stream",
     "text": [
      "Epoch 1501: train=8.78687, val=8.63536, took 41.219 s\n",
      "  Validation Found 101657 of 108007, added 5427 (eff 94.12%) (0.271 FP/event)\n",
      "Result epoch:  1501\n",
      "Average Eff:  0\n",
      "Average FP Rate:  0\n"
     ]
    },
    {
     "data": {
      "application/vnd.jupyter.widget-view+json": {
       "model_id": "",
       "version_major": 2,
       "version_minor": 0
      },
      "text/plain": [
       "HBox(children=(FloatProgress(value=0.0, description='Training', layout=Layout(flex='2'), max=1250.0, style=Pro…"
      ]
     },
     "metadata": {},
     "output_type": "display_data"
    },
    {
     "name": "stdout",
     "output_type": "stream",
     "text": [
      "Epoch 1502: train=8.79029, val=8.63197, took 41.51 s\n",
      "  Validation Found 101646 of 108007, added 5413 (eff 94.11%) (0.271 FP/event)\n",
      "Result epoch:  1502\n",
      "Average Eff:  0\n",
      "Average FP Rate:  0\n"
     ]
    },
    {
     "data": {
      "application/vnd.jupyter.widget-view+json": {
       "model_id": "",
       "version_major": 2,
       "version_minor": 0
      },
      "text/plain": [
       "HBox(children=(FloatProgress(value=0.0, description='Training', layout=Layout(flex='2'), max=1250.0, style=Pro…"
      ]
     },
     "metadata": {},
     "output_type": "display_data"
    },
    {
     "name": "stdout",
     "output_type": "stream",
     "text": [
      "Epoch 1503: train=8.78602, val=8.6293, took 41.273 s\n",
      "  Validation Found 101676 of 108007, added 5493 (eff 94.14%) (0.275 FP/event)\n",
      "Result epoch:  1503\n",
      "Average Eff:  0\n",
      "Average FP Rate:  0\n"
     ]
    },
    {
     "data": {
      "application/vnd.jupyter.widget-view+json": {
       "model_id": "",
       "version_major": 2,
       "version_minor": 0
      },
      "text/plain": [
       "HBox(children=(FloatProgress(value=0.0, description='Training', layout=Layout(flex='2'), max=1250.0, style=Pro…"
      ]
     },
     "metadata": {},
     "output_type": "display_data"
    },
    {
     "name": "stdout",
     "output_type": "stream",
     "text": [
      "Epoch 1504: train=8.79009, val=8.63456, took 41.349 s\n",
      "  Validation Found 101653 of 108007, added 5420 (eff 94.12%) (0.271 FP/event)\n",
      "Result epoch:  1504\n",
      "Average Eff:  0\n",
      "Average FP Rate:  0\n"
     ]
    },
    {
     "data": {
      "application/vnd.jupyter.widget-view+json": {
       "model_id": "",
       "version_major": 2,
       "version_minor": 0
      },
      "text/plain": [
       "HBox(children=(FloatProgress(value=0.0, description='Training', layout=Layout(flex='2'), max=1250.0, style=Pro…"
      ]
     },
     "metadata": {},
     "output_type": "display_data"
    },
    {
     "name": "stdout",
     "output_type": "stream",
     "text": [
      "Epoch 1505: train=8.7899, val=8.64703, took 41.598 s\n",
      "  Validation Found 101526 of 108007, added 5272 (eff 94.00%) (0.264 FP/event)\n",
      "Result epoch:  1505\n",
      "Average Eff:  0\n",
      "Average FP Rate:  0\n"
     ]
    },
    {
     "data": {
      "application/vnd.jupyter.widget-view+json": {
       "model_id": "",
       "version_major": 2,
       "version_minor": 0
      },
      "text/plain": [
       "HBox(children=(FloatProgress(value=0.0, description='Training', layout=Layout(flex='2'), max=1250.0, style=Pro…"
      ]
     },
     "metadata": {},
     "output_type": "display_data"
    },
    {
     "name": "stdout",
     "output_type": "stream",
     "text": [
      "Epoch 1506: train=8.79038, val=8.63821, took 40.381 s\n",
      "  Validation Found 101694 of 108007, added 5491 (eff 94.16%) (0.275 FP/event)\n",
      "Result epoch:  1506\n",
      "Average Eff:  0\n",
      "Average FP Rate:  0\n"
     ]
    },
    {
     "data": {
      "application/vnd.jupyter.widget-view+json": {
       "model_id": "",
       "version_major": 2,
       "version_minor": 0
      },
      "text/plain": [
       "HBox(children=(FloatProgress(value=0.0, description='Training', layout=Layout(flex='2'), max=1250.0, style=Pro…"
      ]
     },
     "metadata": {},
     "output_type": "display_data"
    },
    {
     "name": "stdout",
     "output_type": "stream",
     "text": [
      "Epoch 1507: train=8.7866, val=8.63699, took 41.167 s\n",
      "  Validation Found 101545 of 108007, added 5304 (eff 94.02%) (0.265 FP/event)\n",
      "Result epoch:  1507\n",
      "Average Eff:  0\n",
      "Average FP Rate:  0\n"
     ]
    },
    {
     "data": {
      "application/vnd.jupyter.widget-view+json": {
       "model_id": "",
       "version_major": 2,
       "version_minor": 0
      },
      "text/plain": [
       "HBox(children=(FloatProgress(value=0.0, description='Training', layout=Layout(flex='2'), max=1250.0, style=Pro…"
      ]
     },
     "metadata": {},
     "output_type": "display_data"
    },
    {
     "name": "stdout",
     "output_type": "stream",
     "text": [
      "Epoch 1508: train=8.79279, val=8.6258, took 40.487 s\n",
      "  Validation Found 101627 of 108007, added 5380 (eff 94.09%) (0.269 FP/event)\n",
      "Result epoch:  1508\n",
      "Average Eff:  0\n",
      "Average FP Rate:  0\n"
     ]
    },
    {
     "data": {
      "application/vnd.jupyter.widget-view+json": {
       "model_id": "",
       "version_major": 2,
       "version_minor": 0
      },
      "text/plain": [
       "HBox(children=(FloatProgress(value=0.0, description='Training', layout=Layout(flex='2'), max=1250.0, style=Pro…"
      ]
     },
     "metadata": {},
     "output_type": "display_data"
    },
    {
     "name": "stdout",
     "output_type": "stream",
     "text": [
      "Epoch 1509: train=8.79002, val=8.63303, took 41.19 s\n",
      "  Validation Found 101712 of 108007, added 5535 (eff 94.17%) (0.277 FP/event)\n",
      "Result epoch:  1509\n",
      "Average Eff:  0\n",
      "Average FP Rate:  0\n"
     ]
    },
    {
     "data": {
      "application/vnd.jupyter.widget-view+json": {
       "model_id": "",
       "version_major": 2,
       "version_minor": 0
      },
      "text/plain": [
       "HBox(children=(FloatProgress(value=0.0, description='Training', layout=Layout(flex='2'), max=1250.0, style=Pro…"
      ]
     },
     "metadata": {},
     "output_type": "display_data"
    },
    {
     "name": "stdout",
     "output_type": "stream",
     "text": [
      "Epoch 1510: train=8.79184, val=8.63653, took 41.006 s\n",
      "  Validation Found 101549 of 108007, added 5286 (eff 94.02%) (0.264 FP/event)\n",
      "Result epoch:  1510\n",
      "Average Eff:  0\n",
      "Average FP Rate:  0\n"
     ]
    },
    {
     "data": {
      "application/vnd.jupyter.widget-view+json": {
       "model_id": "",
       "version_major": 2,
       "version_minor": 0
      },
      "text/plain": [
       "HBox(children=(FloatProgress(value=0.0, description='Training', layout=Layout(flex='2'), max=1250.0, style=Pro…"
      ]
     },
     "metadata": {},
     "output_type": "display_data"
    },
    {
     "name": "stdout",
     "output_type": "stream",
     "text": [
      "Epoch 1511: train=8.78855, val=8.62741, took 41.036 s\n",
      "  Validation Found 101627 of 108007, added 5367 (eff 94.09%) (0.268 FP/event)\n",
      "Result epoch:  1511\n",
      "Average Eff:  0\n",
      "Average FP Rate:  0\n"
     ]
    },
    {
     "data": {
      "application/vnd.jupyter.widget-view+json": {
       "model_id": "",
       "version_major": 2,
       "version_minor": 0
      },
      "text/plain": [
       "HBox(children=(FloatProgress(value=0.0, description='Training', layout=Layout(flex='2'), max=1250.0, style=Pro…"
      ]
     },
     "metadata": {},
     "output_type": "display_data"
    },
    {
     "name": "stdout",
     "output_type": "stream",
     "text": [
      "Epoch 1512: train=8.79224, val=8.63723, took 41.296 s\n",
      "  Validation Found 101583 of 108007, added 5329 (eff 94.05%) (0.266 FP/event)\n",
      "Result epoch:  1512\n",
      "Average Eff:  0\n",
      "Average FP Rate:  0\n"
     ]
    },
    {
     "data": {
      "application/vnd.jupyter.widget-view+json": {
       "model_id": "",
       "version_major": 2,
       "version_minor": 0
      },
      "text/plain": [
       "HBox(children=(FloatProgress(value=0.0, description='Training', layout=Layout(flex='2'), max=1250.0, style=Pro…"
      ]
     },
     "metadata": {},
     "output_type": "display_data"
    },
    {
     "name": "stdout",
     "output_type": "stream",
     "text": [
      "Epoch 1513: train=8.79169, val=8.62955, took 40.523 s\n",
      "  Validation Found 101649 of 108007, added 5421 (eff 94.11%) (0.271 FP/event)\n",
      "Result epoch:  1513\n",
      "Average Eff:  0\n",
      "Average FP Rate:  0\n"
     ]
    },
    {
     "data": {
      "application/vnd.jupyter.widget-view+json": {
       "model_id": "",
       "version_major": 2,
       "version_minor": 0
      },
      "text/plain": [
       "HBox(children=(FloatProgress(value=0.0, description='Training', layout=Layout(flex='2'), max=1250.0, style=Pro…"
      ]
     },
     "metadata": {},
     "output_type": "display_data"
    },
    {
     "name": "stdout",
     "output_type": "stream",
     "text": [
      "Epoch 1514: train=8.78679, val=8.63207, took 41.269 s\n",
      "  Validation Found 101602 of 108007, added 5354 (eff 94.07%) (0.268 FP/event)\n",
      "Result epoch:  1514\n",
      "Average Eff:  0\n",
      "Average FP Rate:  0\n"
     ]
    },
    {
     "data": {
      "application/vnd.jupyter.widget-view+json": {
       "model_id": "",
       "version_major": 2,
       "version_minor": 0
      },
      "text/plain": [
       "HBox(children=(FloatProgress(value=0.0, description='Training', layout=Layout(flex='2'), max=1250.0, style=Pro…"
      ]
     },
     "metadata": {},
     "output_type": "display_data"
    },
    {
     "name": "stdout",
     "output_type": "stream",
     "text": [
      "Epoch 1515: train=8.79037, val=8.63184, took 40.681 s\n",
      "  Validation Found 101613 of 108007, added 5349 (eff 94.08%) (0.267 FP/event)\n",
      "Result epoch:  1515\n",
      "Average Eff:  0\n",
      "Average FP Rate:  0\n"
     ]
    },
    {
     "data": {
      "application/vnd.jupyter.widget-view+json": {
       "model_id": "",
       "version_major": 2,
       "version_minor": 0
      },
      "text/plain": [
       "HBox(children=(FloatProgress(value=0.0, description='Training', layout=Layout(flex='2'), max=1250.0, style=Pro…"
      ]
     },
     "metadata": {},
     "output_type": "display_data"
    },
    {
     "name": "stdout",
     "output_type": "stream",
     "text": [
      "Epoch 1516: train=8.79018, val=8.64246, took 41.037 s\n",
      "  Validation Found 101589 of 108007, added 5339 (eff 94.06%) (0.267 FP/event)\n",
      "Result epoch:  1516\n",
      "Average Eff:  0\n",
      "Average FP Rate:  0\n"
     ]
    },
    {
     "data": {
      "application/vnd.jupyter.widget-view+json": {
       "model_id": "",
       "version_major": 2,
       "version_minor": 0
      },
      "text/plain": [
       "HBox(children=(FloatProgress(value=0.0, description='Training', layout=Layout(flex='2'), max=1250.0, style=Pro…"
      ]
     },
     "metadata": {},
     "output_type": "display_data"
    },
    {
     "name": "stdout",
     "output_type": "stream",
     "text": [
      "Epoch 1517: train=8.79046, val=8.63099, took 40.927 s\n",
      "  Validation Found 101544 of 108007, added 5265 (eff 94.02%) (0.263 FP/event)\n",
      "Result epoch:  1517\n",
      "Average Eff:  0\n",
      "Average FP Rate:  0\n"
     ]
    },
    {
     "data": {
      "application/vnd.jupyter.widget-view+json": {
       "model_id": "",
       "version_major": 2,
       "version_minor": 0
      },
      "text/plain": [
       "HBox(children=(FloatProgress(value=0.0, description='Training', layout=Layout(flex='2'), max=1250.0, style=Pro…"
      ]
     },
     "metadata": {},
     "output_type": "display_data"
    },
    {
     "name": "stdout",
     "output_type": "stream",
     "text": [
      "Epoch 1518: train=8.78932, val=8.63271, took 40.847 s\n",
      "  Validation Found 101656 of 108007, added 5450 (eff 94.12%) (0.272 FP/event)\n",
      "Result epoch:  1518\n",
      "Average Eff:  0\n",
      "Average FP Rate:  0\n"
     ]
    },
    {
     "data": {
      "application/vnd.jupyter.widget-view+json": {
       "model_id": "",
       "version_major": 2,
       "version_minor": 0
      },
      "text/plain": [
       "HBox(children=(FloatProgress(value=0.0, description='Training', layout=Layout(flex='2'), max=1250.0, style=Pro…"
      ]
     },
     "metadata": {},
     "output_type": "display_data"
    },
    {
     "name": "stdout",
     "output_type": "stream",
     "text": [
      "Epoch 1519: train=8.78765, val=8.62436, took 41.339 s\n",
      "  Validation Found 101685 of 108007, added 5459 (eff 94.15%) (0.273 FP/event)\n",
      "Result epoch:  1519\n",
      "Average Eff:  0\n",
      "Average FP Rate:  0\n"
     ]
    },
    {
     "data": {
      "application/vnd.jupyter.widget-view+json": {
       "model_id": "",
       "version_major": 2,
       "version_minor": 0
      },
      "text/plain": [
       "HBox(children=(FloatProgress(value=0.0, description='Training', layout=Layout(flex='2'), max=1250.0, style=Pro…"
      ]
     },
     "metadata": {},
     "output_type": "display_data"
    },
    {
     "name": "stdout",
     "output_type": "stream",
     "text": [
      "Epoch 1520: train=8.7897, val=8.64539, took 40.739 s\n",
      "  Validation Found 101586 of 108007, added 5335 (eff 94.06%) (0.267 FP/event)\n",
      "Result epoch:  1520\n",
      "Average Eff:  0\n",
      "Average FP Rate:  0\n"
     ]
    },
    {
     "data": {
      "application/vnd.jupyter.widget-view+json": {
       "model_id": "",
       "version_major": 2,
       "version_minor": 0
      },
      "text/plain": [
       "HBox(children=(FloatProgress(value=0.0, description='Training', layout=Layout(flex='2'), max=1250.0, style=Pro…"
      ]
     },
     "metadata": {},
     "output_type": "display_data"
    },
    {
     "name": "stdout",
     "output_type": "stream",
     "text": [
      "Epoch 1521: train=8.78789, val=8.63653, took 41.19 s\n",
      "  Validation Found 101740 of 108007, added 5598 (eff 94.20%) (0.28 FP/event)\n",
      "Result epoch:  1521\n",
      "Average Eff:  0\n",
      "Average FP Rate:  0\n"
     ]
    },
    {
     "data": {
      "application/vnd.jupyter.widget-view+json": {
       "model_id": "",
       "version_major": 2,
       "version_minor": 0
      },
      "text/plain": [
       "HBox(children=(FloatProgress(value=0.0, description='Training', layout=Layout(flex='2'), max=1250.0, style=Pro…"
      ]
     },
     "metadata": {},
     "output_type": "display_data"
    },
    {
     "name": "stdout",
     "output_type": "stream",
     "text": [
      "Epoch 1522: train=8.79427, val=8.63445, took 40.648 s\n",
      "  Validation Found 101680 of 108007, added 5462 (eff 94.14%) (0.273 FP/event)\n",
      "Result epoch:  1522\n",
      "Average Eff:  0\n",
      "Average FP Rate:  0\n"
     ]
    },
    {
     "data": {
      "application/vnd.jupyter.widget-view+json": {
       "model_id": "",
       "version_major": 2,
       "version_minor": 0
      },
      "text/plain": [
       "HBox(children=(FloatProgress(value=0.0, description='Training', layout=Layout(flex='2'), max=1250.0, style=Pro…"
      ]
     },
     "metadata": {},
     "output_type": "display_data"
    },
    {
     "name": "stdout",
     "output_type": "stream",
     "text": [
      "Epoch 1523: train=8.79239, val=8.62915, took 40.961 s\n",
      "  Validation Found 101636 of 108007, added 5415 (eff 94.10%) (0.271 FP/event)\n",
      "Result epoch:  1523\n",
      "Average Eff:  0\n",
      "Average FP Rate:  0\n"
     ]
    },
    {
     "data": {
      "application/vnd.jupyter.widget-view+json": {
       "model_id": "",
       "version_major": 2,
       "version_minor": 0
      },
      "text/plain": [
       "HBox(children=(FloatProgress(value=0.0, description='Training', layout=Layout(flex='2'), max=1250.0, style=Pro…"
      ]
     },
     "metadata": {},
     "output_type": "display_data"
    },
    {
     "name": "stdout",
     "output_type": "stream",
     "text": [
      "Epoch 1524: train=8.79404, val=8.63604, took 41.041 s\n",
      "  Validation Found 101587 of 108007, added 5336 (eff 94.06%) (0.267 FP/event)\n",
      "Result epoch:  1524\n",
      "Average Eff:  0\n",
      "Average FP Rate:  0\n"
     ]
    },
    {
     "data": {
      "application/vnd.jupyter.widget-view+json": {
       "model_id": "",
       "version_major": 2,
       "version_minor": 0
      },
      "text/plain": [
       "HBox(children=(FloatProgress(value=0.0, description='Training', layout=Layout(flex='2'), max=1250.0, style=Pro…"
      ]
     },
     "metadata": {},
     "output_type": "display_data"
    },
    {
     "name": "stdout",
     "output_type": "stream",
     "text": [
      "Epoch 1525: train=8.78965, val=8.62757, took 40.602 s\n",
      "  Validation Found 101670 of 108007, added 5452 (eff 94.13%) (0.273 FP/event)\n",
      "Result epoch:  1525\n",
      "Average Eff:  0\n",
      "Average FP Rate:  0\n"
     ]
    },
    {
     "data": {
      "application/vnd.jupyter.widget-view+json": {
       "model_id": "",
       "version_major": 2,
       "version_minor": 0
      },
      "text/plain": [
       "HBox(children=(FloatProgress(value=0.0, description='Training', layout=Layout(flex='2'), max=1250.0, style=Pro…"
      ]
     },
     "metadata": {},
     "output_type": "display_data"
    },
    {
     "name": "stdout",
     "output_type": "stream",
     "text": [
      "Epoch 1526: train=8.78673, val=8.63868, took 41.178 s\n",
      "  Validation Found 101603 of 108007, added 5352 (eff 94.07%) (0.268 FP/event)\n",
      "Result epoch:  1526\n",
      "Average Eff:  0\n",
      "Average FP Rate:  0\n"
     ]
    },
    {
     "data": {
      "application/vnd.jupyter.widget-view+json": {
       "model_id": "",
       "version_major": 2,
       "version_minor": 0
      },
      "text/plain": [
       "HBox(children=(FloatProgress(value=0.0, description='Training', layout=Layout(flex='2'), max=1250.0, style=Pro…"
      ]
     },
     "metadata": {},
     "output_type": "display_data"
    },
    {
     "name": "stdout",
     "output_type": "stream",
     "text": [
      "Epoch 1527: train=8.7886, val=8.63053, took 40.36 s\n",
      "  Validation Found 101644 of 108007, added 5413 (eff 94.11%) (0.271 FP/event)\n",
      "Result epoch:  1527\n",
      "Average Eff:  0\n",
      "Average FP Rate:  0\n"
     ]
    },
    {
     "data": {
      "application/vnd.jupyter.widget-view+json": {
       "model_id": "",
       "version_major": 2,
       "version_minor": 0
      },
      "text/plain": [
       "HBox(children=(FloatProgress(value=0.0, description='Training', layout=Layout(flex='2'), max=1250.0, style=Pro…"
      ]
     },
     "metadata": {},
     "output_type": "display_data"
    },
    {
     "name": "stdout",
     "output_type": "stream",
     "text": [
      "Epoch 1528: train=8.78641, val=8.62672, took 41.074 s\n",
      "  Validation Found 101630 of 108007, added 5380 (eff 94.10%) (0.269 FP/event)\n",
      "Result epoch:  1528\n",
      "Average Eff:  0\n",
      "Average FP Rate:  0\n"
     ]
    },
    {
     "data": {
      "application/vnd.jupyter.widget-view+json": {
       "model_id": "",
       "version_major": 2,
       "version_minor": 0
      },
      "text/plain": [
       "HBox(children=(FloatProgress(value=0.0, description='Training', layout=Layout(flex='2'), max=1250.0, style=Pro…"
      ]
     },
     "metadata": {},
     "output_type": "display_data"
    },
    {
     "name": "stdout",
     "output_type": "stream",
     "text": [
      "Epoch 1529: train=8.78721, val=8.62591, took 40.583 s\n",
      "  Validation Found 101536 of 108007, added 5254 (eff 94.01%) (0.263 FP/event)\n",
      "Result epoch:  1529\n",
      "Average Eff:  0\n",
      "Average FP Rate:  0\n"
     ]
    },
    {
     "data": {
      "application/vnd.jupyter.widget-view+json": {
       "model_id": "",
       "version_major": 2,
       "version_minor": 0
      },
      "text/plain": [
       "HBox(children=(FloatProgress(value=0.0, description='Training', layout=Layout(flex='2'), max=1250.0, style=Pro…"
      ]
     },
     "metadata": {},
     "output_type": "display_data"
    },
    {
     "name": "stdout",
     "output_type": "stream",
     "text": [
      "Epoch 1530: train=8.78681, val=8.62871, took 40.908 s\n",
      "  Validation Found 101666 of 108007, added 5461 (eff 94.13%) (0.273 FP/event)\n",
      "Result epoch:  1530\n",
      "Average Eff:  0\n",
      "Average FP Rate:  0\n"
     ]
    },
    {
     "data": {
      "application/vnd.jupyter.widget-view+json": {
       "model_id": "",
       "version_major": 2,
       "version_minor": 0
      },
      "text/plain": [
       "HBox(children=(FloatProgress(value=0.0, description='Training', layout=Layout(flex='2'), max=1250.0, style=Pro…"
      ]
     },
     "metadata": {},
     "output_type": "display_data"
    },
    {
     "name": "stdout",
     "output_type": "stream",
     "text": [
      "Epoch 1531: train=8.78994, val=8.6297, took 40.981 s\n",
      "  Validation Found 101644 of 108007, added 5421 (eff 94.11%) (0.271 FP/event)\n",
      "Result epoch:  1531\n",
      "Average Eff:  0\n",
      "Average FP Rate:  0\n"
     ]
    },
    {
     "data": {
      "application/vnd.jupyter.widget-view+json": {
       "model_id": "",
       "version_major": 2,
       "version_minor": 0
      },
      "text/plain": [
       "HBox(children=(FloatProgress(value=0.0, description='Training', layout=Layout(flex='2'), max=1250.0, style=Pro…"
      ]
     },
     "metadata": {},
     "output_type": "display_data"
    },
    {
     "name": "stdout",
     "output_type": "stream",
     "text": [
      "Epoch 1532: train=8.79123, val=8.63242, took 40.861 s\n",
      "  Validation Found 101725 of 108007, added 5545 (eff 94.18%) (0.277 FP/event)\n",
      "Result epoch:  1532\n",
      "Average Eff:  0\n",
      "Average FP Rate:  0\n"
     ]
    },
    {
     "data": {
      "application/vnd.jupyter.widget-view+json": {
       "model_id": "",
       "version_major": 2,
       "version_minor": 0
      },
      "text/plain": [
       "HBox(children=(FloatProgress(value=0.0, description='Training', layout=Layout(flex='2'), max=1250.0, style=Pro…"
      ]
     },
     "metadata": {},
     "output_type": "display_data"
    },
    {
     "name": "stdout",
     "output_type": "stream",
     "text": [
      "Epoch 1533: train=8.79225, val=8.63575, took 41.329 s\n",
      "  Validation Found 101527 of 108007, added 5260 (eff 94.00%) (0.263 FP/event)\n",
      "Result epoch:  1533\n",
      "Average Eff:  0\n",
      "Average FP Rate:  0\n"
     ]
    },
    {
     "data": {
      "application/vnd.jupyter.widget-view+json": {
       "model_id": "",
       "version_major": 2,
       "version_minor": 0
      },
      "text/plain": [
       "HBox(children=(FloatProgress(value=0.0, description='Training', layout=Layout(flex='2'), max=1250.0, style=Pro…"
      ]
     },
     "metadata": {},
     "output_type": "display_data"
    },
    {
     "name": "stdout",
     "output_type": "stream",
     "text": [
      "Epoch 1534: train=8.79051, val=8.62934, took 40.576 s\n",
      "  Validation Found 101583 of 108007, added 5322 (eff 94.05%) (0.266 FP/event)\n",
      "Result epoch:  1534\n",
      "Average Eff:  0\n",
      "Average FP Rate:  0\n"
     ]
    },
    {
     "data": {
      "application/vnd.jupyter.widget-view+json": {
       "model_id": "",
       "version_major": 2,
       "version_minor": 0
      },
      "text/plain": [
       "HBox(children=(FloatProgress(value=0.0, description='Training', layout=Layout(flex='2'), max=1250.0, style=Pro…"
      ]
     },
     "metadata": {},
     "output_type": "display_data"
    },
    {
     "name": "stdout",
     "output_type": "stream",
     "text": [
      "Epoch 1535: train=8.78768, val=8.63707, took 42.214 s\n",
      "  Validation Found 101629 of 108007, added 5379 (eff 94.09%) (0.269 FP/event)\n",
      "Result epoch:  1535\n",
      "Average Eff:  0\n",
      "Average FP Rate:  0\n"
     ]
    },
    {
     "data": {
      "application/vnd.jupyter.widget-view+json": {
       "model_id": "",
       "version_major": 2,
       "version_minor": 0
      },
      "text/plain": [
       "HBox(children=(FloatProgress(value=0.0, description='Training', layout=Layout(flex='2'), max=1250.0, style=Pro…"
      ]
     },
     "metadata": {},
     "output_type": "display_data"
    },
    {
     "name": "stdout",
     "output_type": "stream",
     "text": [
      "Epoch 1536: train=8.78988, val=8.64066, took 41.991 s\n",
      "  Validation Found 101537 of 108007, added 5256 (eff 94.01%) (0.263 FP/event)\n",
      "Result epoch:  1536\n",
      "Average Eff:  0\n",
      "Average FP Rate:  0\n"
     ]
    },
    {
     "data": {
      "application/vnd.jupyter.widget-view+json": {
       "model_id": "",
       "version_major": 2,
       "version_minor": 0
      },
      "text/plain": [
       "HBox(children=(FloatProgress(value=0.0, description='Training', layout=Layout(flex='2'), max=1250.0, style=Pro…"
      ]
     },
     "metadata": {},
     "output_type": "display_data"
    },
    {
     "name": "stdout",
     "output_type": "stream",
     "text": [
      "Epoch 1537: train=8.79381, val=8.63839, took 41.333 s\n",
      "  Validation Found 101573 of 108007, added 5318 (eff 94.04%) (0.266 FP/event)\n",
      "Result epoch:  1537\n",
      "Average Eff:  0\n",
      "Average FP Rate:  0\n"
     ]
    },
    {
     "data": {
      "application/vnd.jupyter.widget-view+json": {
       "model_id": "",
       "version_major": 2,
       "version_minor": 0
      },
      "text/plain": [
       "HBox(children=(FloatProgress(value=0.0, description='Training', layout=Layout(flex='2'), max=1250.0, style=Pro…"
      ]
     },
     "metadata": {},
     "output_type": "display_data"
    },
    {
     "name": "stdout",
     "output_type": "stream",
     "text": [
      "Epoch 1538: train=8.78569, val=8.6349, took 41.333 s\n",
      "  Validation Found 101717 of 108007, added 5557 (eff 94.18%) (0.278 FP/event)\n",
      "Result epoch:  1538\n",
      "Average Eff:  0\n",
      "Average FP Rate:  0\n"
     ]
    },
    {
     "data": {
      "application/vnd.jupyter.widget-view+json": {
       "model_id": "",
       "version_major": 2,
       "version_minor": 0
      },
      "text/plain": [
       "HBox(children=(FloatProgress(value=0.0, description='Training', layout=Layout(flex='2'), max=1250.0, style=Pro…"
      ]
     },
     "metadata": {},
     "output_type": "display_data"
    },
    {
     "name": "stdout",
     "output_type": "stream",
     "text": [
      "Epoch 1539: train=8.7855, val=8.63363, took 42.065 s\n",
      "  Validation Found 101655 of 108007, added 5431 (eff 94.12%) (0.272 FP/event)\n",
      "Result epoch:  1539\n",
      "Average Eff:  0\n",
      "Average FP Rate:  0\n"
     ]
    },
    {
     "data": {
      "application/vnd.jupyter.widget-view+json": {
       "model_id": "",
       "version_major": 2,
       "version_minor": 0
      },
      "text/plain": [
       "HBox(children=(FloatProgress(value=0.0, description='Training', layout=Layout(flex='2'), max=1250.0, style=Pro…"
      ]
     },
     "metadata": {},
     "output_type": "display_data"
    },
    {
     "name": "stdout",
     "output_type": "stream",
     "text": [
      "Epoch 1540: train=8.78755, val=8.62355, took 40.798 s\n",
      "  Validation Found 101675 of 108007, added 5456 (eff 94.14%) (0.273 FP/event)\n",
      "Result epoch:  1540\n",
      "Average Eff:  0\n",
      "Average FP Rate:  0\n"
     ]
    },
    {
     "data": {
      "application/vnd.jupyter.widget-view+json": {
       "model_id": "",
       "version_major": 2,
       "version_minor": 0
      },
      "text/plain": [
       "HBox(children=(FloatProgress(value=0.0, description='Training', layout=Layout(flex='2'), max=1250.0, style=Pro…"
      ]
     },
     "metadata": {},
     "output_type": "display_data"
    },
    {
     "name": "stdout",
     "output_type": "stream",
     "text": [
      "Epoch 1541: train=8.78627, val=8.64099, took 41.239 s\n",
      "  Validation Found 101605 of 108007, added 5352 (eff 94.07%) (0.268 FP/event)\n",
      "Result epoch:  1541\n",
      "Average Eff:  0\n",
      "Average FP Rate:  0\n"
     ]
    },
    {
     "data": {
      "application/vnd.jupyter.widget-view+json": {
       "model_id": "",
       "version_major": 2,
       "version_minor": 0
      },
      "text/plain": [
       "HBox(children=(FloatProgress(value=0.0, description='Training', layout=Layout(flex='2'), max=1250.0, style=Pro…"
      ]
     },
     "metadata": {},
     "output_type": "display_data"
    },
    {
     "name": "stdout",
     "output_type": "stream",
     "text": [
      "Epoch 1542: train=8.79168, val=8.62902, took 40.541 s\n",
      "  Validation Found 101617 of 108007, added 5357 (eff 94.08%) (0.268 FP/event)\n",
      "Result epoch:  1542\n",
      "Average Eff:  0\n",
      "Average FP Rate:  0\n"
     ]
    },
    {
     "data": {
      "application/vnd.jupyter.widget-view+json": {
       "model_id": "",
       "version_major": 2,
       "version_minor": 0
      },
      "text/plain": [
       "HBox(children=(FloatProgress(value=0.0, description='Training', layout=Layout(flex='2'), max=1250.0, style=Pro…"
      ]
     },
     "metadata": {},
     "output_type": "display_data"
    },
    {
     "name": "stdout",
     "output_type": "stream",
     "text": [
      "Epoch 1543: train=8.78749, val=8.63655, took 40.971 s\n",
      "  Validation Found 101548 of 108007, added 5293 (eff 94.02%) (0.265 FP/event)\n",
      "Result epoch:  1543\n",
      "Average Eff:  0\n",
      "Average FP Rate:  0\n"
     ]
    },
    {
     "data": {
      "application/vnd.jupyter.widget-view+json": {
       "model_id": "",
       "version_major": 2,
       "version_minor": 0
      },
      "text/plain": [
       "HBox(children=(FloatProgress(value=0.0, description='Training', layout=Layout(flex='2'), max=1250.0, style=Pro…"
      ]
     },
     "metadata": {},
     "output_type": "display_data"
    },
    {
     "name": "stdout",
     "output_type": "stream",
     "text": [
      "Epoch 1544: train=8.79192, val=8.63466, took 40.617 s\n",
      "  Validation Found 101638 of 108007, added 5412 (eff 94.10%) (0.271 FP/event)\n",
      "Result epoch:  1544\n",
      "Average Eff:  0\n",
      "Average FP Rate:  0\n"
     ]
    },
    {
     "data": {
      "application/vnd.jupyter.widget-view+json": {
       "model_id": "",
       "version_major": 2,
       "version_minor": 0
      },
      "text/plain": [
       "HBox(children=(FloatProgress(value=0.0, description='Training', layout=Layout(flex='2'), max=1250.0, style=Pro…"
      ]
     },
     "metadata": {},
     "output_type": "display_data"
    },
    {
     "name": "stdout",
     "output_type": "stream",
     "text": [
      "Epoch 1545: train=8.79246, val=8.63594, took 40.811 s\n",
      "  Validation Found 101729 of 108007, added 5610 (eff 94.19%) (0.28 FP/event)\n",
      "Result epoch:  1545\n",
      "Average Eff:  0\n",
      "Average FP Rate:  0\n"
     ]
    },
    {
     "data": {
      "application/vnd.jupyter.widget-view+json": {
       "model_id": "",
       "version_major": 2,
       "version_minor": 0
      },
      "text/plain": [
       "HBox(children=(FloatProgress(value=0.0, description='Training', layout=Layout(flex='2'), max=1250.0, style=Pro…"
      ]
     },
     "metadata": {},
     "output_type": "display_data"
    },
    {
     "name": "stdout",
     "output_type": "stream",
     "text": [
      "Epoch 1546: train=8.79196, val=8.6393, took 41.107 s\n",
      "  Validation Found 101642 of 108007, added 5432 (eff 94.11%) (0.272 FP/event)\n",
      "Result epoch:  1546\n",
      "Average Eff:  0\n",
      "Average FP Rate:  0\n"
     ]
    },
    {
     "data": {
      "application/vnd.jupyter.widget-view+json": {
       "model_id": "",
       "version_major": 2,
       "version_minor": 0
      },
      "text/plain": [
       "HBox(children=(FloatProgress(value=0.0, description='Training', layout=Layout(flex='2'), max=1250.0, style=Pro…"
      ]
     },
     "metadata": {},
     "output_type": "display_data"
    },
    {
     "name": "stdout",
     "output_type": "stream",
     "text": [
      "Epoch 1547: train=8.78558, val=8.64268, took 40.319 s\n",
      "  Validation Found 101542 of 108007, added 5291 (eff 94.01%) (0.265 FP/event)\n",
      "Result epoch:  1547\n",
      "Average Eff:  0\n",
      "Average FP Rate:  0\n"
     ]
    },
    {
     "data": {
      "application/vnd.jupyter.widget-view+json": {
       "model_id": "",
       "version_major": 2,
       "version_minor": 0
      },
      "text/plain": [
       "HBox(children=(FloatProgress(value=0.0, description='Training', layout=Layout(flex='2'), max=1250.0, style=Pro…"
      ]
     },
     "metadata": {},
     "output_type": "display_data"
    },
    {
     "name": "stdout",
     "output_type": "stream",
     "text": [
      "Epoch 1548: train=8.78855, val=8.63465, took 41.128 s\n",
      "  Validation Found 101732 of 108007, added 5587 (eff 94.19%) (0.279 FP/event)\n",
      "Result epoch:  1548\n",
      "Average Eff:  0\n",
      "Average FP Rate:  0\n"
     ]
    },
    {
     "data": {
      "application/vnd.jupyter.widget-view+json": {
       "model_id": "",
       "version_major": 2,
       "version_minor": 0
      },
      "text/plain": [
       "HBox(children=(FloatProgress(value=0.0, description='Training', layout=Layout(flex='2'), max=1250.0, style=Pro…"
      ]
     },
     "metadata": {},
     "output_type": "display_data"
    },
    {
     "name": "stdout",
     "output_type": "stream",
     "text": [
      "Epoch 1549: train=8.78474, val=8.6399, took 40.454 s\n",
      "  Validation Found 101672 of 108007, added 5467 (eff 94.13%) (0.273 FP/event)\n",
      "Result epoch:  1549\n",
      "Average Eff:  0\n",
      "Average FP Rate:  0\n"
     ]
    },
    {
     "data": {
      "application/vnd.jupyter.widget-view+json": {
       "model_id": "",
       "version_major": 2,
       "version_minor": 0
      },
      "text/plain": [
       "HBox(children=(FloatProgress(value=0.0, description='Training', layout=Layout(flex='2'), max=1250.0, style=Pro…"
      ]
     },
     "metadata": {},
     "output_type": "display_data"
    },
    {
     "name": "stdout",
     "output_type": "stream",
     "text": [
      "Epoch 1550: train=8.78726, val=8.6349, took 40.923 s\n",
      "  Validation Found 101556 of 108007, added 5297 (eff 94.03%) (0.265 FP/event)\n",
      "Result epoch:  1550\n",
      "Average Eff:  0\n",
      "Average FP Rate:  0\n"
     ]
    },
    {
     "data": {
      "application/vnd.jupyter.widget-view+json": {
       "model_id": "",
       "version_major": 2,
       "version_minor": 0
      },
      "text/plain": [
       "HBox(children=(FloatProgress(value=0.0, description='Training', layout=Layout(flex='2'), max=1250.0, style=Pro…"
      ]
     },
     "metadata": {},
     "output_type": "display_data"
    },
    {
     "name": "stdout",
     "output_type": "stream",
     "text": [
      "Epoch 1551: train=8.78849, val=8.63162, took 40.917 s\n",
      "  Validation Found 101697 of 108007, added 5504 (eff 94.16%) (0.275 FP/event)\n",
      "Result epoch:  1551\n",
      "Average Eff:  0\n",
      "Average FP Rate:  0\n"
     ]
    },
    {
     "data": {
      "application/vnd.jupyter.widget-view+json": {
       "model_id": "",
       "version_major": 2,
       "version_minor": 0
      },
      "text/plain": [
       "HBox(children=(FloatProgress(value=0.0, description='Training', layout=Layout(flex='2'), max=1250.0, style=Pro…"
      ]
     },
     "metadata": {},
     "output_type": "display_data"
    },
    {
     "name": "stdout",
     "output_type": "stream",
     "text": [
      "Epoch 1552: train=8.79158, val=8.62972, took 40.986 s\n",
      "  Validation Found 101615 of 108007, added 5359 (eff 94.08%) (0.268 FP/event)\n",
      "Result epoch:  1552\n",
      "Average Eff:  0\n",
      "Average FP Rate:  0\n"
     ]
    },
    {
     "data": {
      "application/vnd.jupyter.widget-view+json": {
       "model_id": "",
       "version_major": 2,
       "version_minor": 0
      },
      "text/plain": [
       "HBox(children=(FloatProgress(value=0.0, description='Training', layout=Layout(flex='2'), max=1250.0, style=Pro…"
      ]
     },
     "metadata": {},
     "output_type": "display_data"
    },
    {
     "name": "stdout",
     "output_type": "stream",
     "text": [
      "Epoch 1553: train=8.78637, val=8.63246, took 41.357 s\n",
      "  Validation Found 101612 of 108007, added 5345 (eff 94.08%) (0.267 FP/event)\n",
      "Result epoch:  1553\n",
      "Average Eff:  0\n",
      "Average FP Rate:  0\n"
     ]
    },
    {
     "data": {
      "application/vnd.jupyter.widget-view+json": {
       "model_id": "",
       "version_major": 2,
       "version_minor": 0
      },
      "text/plain": [
       "HBox(children=(FloatProgress(value=0.0, description='Training', layout=Layout(flex='2'), max=1250.0, style=Pro…"
      ]
     },
     "metadata": {},
     "output_type": "display_data"
    },
    {
     "name": "stdout",
     "output_type": "stream",
     "text": [
      "Epoch 1554: train=8.79187, val=8.63313, took 40.574 s\n",
      "  Validation Found 101580 of 108007, added 5325 (eff 94.05%) (0.266 FP/event)\n",
      "Result epoch:  1554\n",
      "Average Eff:  0\n",
      "Average FP Rate:  0\n"
     ]
    },
    {
     "data": {
      "application/vnd.jupyter.widget-view+json": {
       "model_id": "",
       "version_major": 2,
       "version_minor": 0
      },
      "text/plain": [
       "HBox(children=(FloatProgress(value=0.0, description='Training', layout=Layout(flex='2'), max=1250.0, style=Pro…"
      ]
     },
     "metadata": {},
     "output_type": "display_data"
    },
    {
     "name": "stdout",
     "output_type": "stream",
     "text": [
      "Epoch 1555: train=8.79424, val=8.6257, took 41.397 s\n",
      "  Validation Found 101633 of 108007, added 5401 (eff 94.10%) (0.27 FP/event)\n",
      "Result epoch:  1555\n",
      "Average Eff:  0\n",
      "Average FP Rate:  0\n"
     ]
    },
    {
     "data": {
      "application/vnd.jupyter.widget-view+json": {
       "model_id": "",
       "version_major": 2,
       "version_minor": 0
      },
      "text/plain": [
       "HBox(children=(FloatProgress(value=0.0, description='Training', layout=Layout(flex='2'), max=1250.0, style=Pro…"
      ]
     },
     "metadata": {},
     "output_type": "display_data"
    },
    {
     "name": "stdout",
     "output_type": "stream",
     "text": [
      "Epoch 1556: train=8.78631, val=8.63531, took 40.71 s\n",
      "  Validation Found 101675 of 108007, added 5457 (eff 94.14%) (0.273 FP/event)\n",
      "Result epoch:  1556\n",
      "Average Eff:  0\n",
      "Average FP Rate:  0\n"
     ]
    },
    {
     "data": {
      "application/vnd.jupyter.widget-view+json": {
       "model_id": "",
       "version_major": 2,
       "version_minor": 0
      },
      "text/plain": [
       "HBox(children=(FloatProgress(value=0.0, description='Training', layout=Layout(flex='2'), max=1250.0, style=Pro…"
      ]
     },
     "metadata": {},
     "output_type": "display_data"
    },
    {
     "name": "stdout",
     "output_type": "stream",
     "text": [
      "Epoch 1557: train=8.78382, val=8.62634, took 41.11 s\n",
      "  Validation Found 101628 of 108007, added 5362 (eff 94.09%) (0.268 FP/event)\n",
      "Result epoch:  1557\n",
      "Average Eff:  0\n",
      "Average FP Rate:  0\n"
     ]
    },
    {
     "data": {
      "application/vnd.jupyter.widget-view+json": {
       "model_id": "",
       "version_major": 2,
       "version_minor": 0
      },
      "text/plain": [
       "HBox(children=(FloatProgress(value=0.0, description='Training', layout=Layout(flex='2'), max=1250.0, style=Pro…"
      ]
     },
     "metadata": {},
     "output_type": "display_data"
    },
    {
     "name": "stdout",
     "output_type": "stream",
     "text": [
      "Epoch 1558: train=8.79103, val=8.62499, took 40.94 s\n",
      "  Validation Found 101662 of 108007, added 5432 (eff 94.13%) (0.272 FP/event)\n",
      "Result epoch:  1558\n",
      "Average Eff:  0\n",
      "Average FP Rate:  0\n"
     ]
    },
    {
     "data": {
      "application/vnd.jupyter.widget-view+json": {
       "model_id": "",
       "version_major": 2,
       "version_minor": 0
      },
      "text/plain": [
       "HBox(children=(FloatProgress(value=0.0, description='Training', layout=Layout(flex='2'), max=1250.0, style=Pro…"
      ]
     },
     "metadata": {},
     "output_type": "display_data"
    },
    {
     "name": "stdout",
     "output_type": "stream",
     "text": [
      "Epoch 1559: train=8.78478, val=8.63289, took 40.907 s\n",
      "  Validation Found 101668 of 108007, added 5462 (eff 94.13%) (0.273 FP/event)\n",
      "Result epoch:  1559\n",
      "Average Eff:  0\n",
      "Average FP Rate:  0\n"
     ]
    },
    {
     "data": {
      "application/vnd.jupyter.widget-view+json": {
       "model_id": "",
       "version_major": 2,
       "version_minor": 0
      },
      "text/plain": [
       "HBox(children=(FloatProgress(value=0.0, description='Training', layout=Layout(flex='2'), max=1250.0, style=Pro…"
      ]
     },
     "metadata": {},
     "output_type": "display_data"
    },
    {
     "name": "stdout",
     "output_type": "stream",
     "text": [
      "Epoch 1560: train=8.78692, val=8.63194, took 42.241 s\n",
      "  Validation Found 101684 of 108007, added 5442 (eff 94.15%) (0.272 FP/event)\n",
      "Result epoch:  1560\n",
      "Average Eff:  0\n",
      "Average FP Rate:  0\n"
     ]
    },
    {
     "data": {
      "application/vnd.jupyter.widget-view+json": {
       "model_id": "",
       "version_major": 2,
       "version_minor": 0
      },
      "text/plain": [
       "HBox(children=(FloatProgress(value=0.0, description='Training', layout=Layout(flex='2'), max=1250.0, style=Pro…"
      ]
     },
     "metadata": {},
     "output_type": "display_data"
    },
    {
     "name": "stdout",
     "output_type": "stream",
     "text": [
      "Epoch 1561: train=8.78856, val=8.62709, took 41.534 s\n",
      "  Validation Found 101689 of 108007, added 5486 (eff 94.15%) (0.274 FP/event)\n",
      "Result epoch:  1561\n",
      "Average Eff:  0\n",
      "Average FP Rate:  0\n"
     ]
    },
    {
     "data": {
      "application/vnd.jupyter.widget-view+json": {
       "model_id": "",
       "version_major": 2,
       "version_minor": 0
      },
      "text/plain": [
       "HBox(children=(FloatProgress(value=0.0, description='Training', layout=Layout(flex='2'), max=1250.0, style=Pro…"
      ]
     },
     "metadata": {},
     "output_type": "display_data"
    },
    {
     "name": "stdout",
     "output_type": "stream",
     "text": [
      "Epoch 1562: train=8.79148, val=8.63058, took 41.384 s\n",
      "  Validation Found 101555 of 108007, added 5294 (eff 94.03%) (0.265 FP/event)\n",
      "Result epoch:  1562\n",
      "Average Eff:  0\n",
      "Average FP Rate:  0\n"
     ]
    },
    {
     "data": {
      "application/vnd.jupyter.widget-view+json": {
       "model_id": "",
       "version_major": 2,
       "version_minor": 0
      },
      "text/plain": [
       "HBox(children=(FloatProgress(value=0.0, description='Training', layout=Layout(flex='2'), max=1250.0, style=Pro…"
      ]
     },
     "metadata": {},
     "output_type": "display_data"
    },
    {
     "name": "stdout",
     "output_type": "stream",
     "text": [
      "Epoch 1563: train=8.7868, val=8.63246, took 40.726 s\n",
      "  Validation Found 101641 of 108007, added 5403 (eff 94.11%) (0.27 FP/event)\n",
      "Result epoch:  1563\n",
      "Average Eff:  0\n",
      "Average FP Rate:  0\n"
     ]
    },
    {
     "data": {
      "application/vnd.jupyter.widget-view+json": {
       "model_id": "",
       "version_major": 2,
       "version_minor": 0
      },
      "text/plain": [
       "HBox(children=(FloatProgress(value=0.0, description='Training', layout=Layout(flex='2'), max=1250.0, style=Pro…"
      ]
     },
     "metadata": {},
     "output_type": "display_data"
    },
    {
     "name": "stdout",
     "output_type": "stream",
     "text": [
      "Epoch 1564: train=8.78827, val=8.63119, took 41.017 s\n",
      "  Validation Found 101711 of 108007, added 5533 (eff 94.17%) (0.277 FP/event)\n",
      "Result epoch:  1564\n",
      "Average Eff:  0\n",
      "Average FP Rate:  0\n"
     ]
    },
    {
     "data": {
      "application/vnd.jupyter.widget-view+json": {
       "model_id": "",
       "version_major": 2,
       "version_minor": 0
      },
      "text/plain": [
       "HBox(children=(FloatProgress(value=0.0, description='Training', layout=Layout(flex='2'), max=1250.0, style=Pro…"
      ]
     },
     "metadata": {},
     "output_type": "display_data"
    },
    {
     "name": "stdout",
     "output_type": "stream",
     "text": [
      "Epoch 1565: train=8.79319, val=8.6277, took 41.128 s\n",
      "  Validation Found 101691 of 108007, added 5473 (eff 94.15%) (0.274 FP/event)\n",
      "Result epoch:  1565\n",
      "Average Eff:  0\n",
      "Average FP Rate:  0\n"
     ]
    },
    {
     "data": {
      "application/vnd.jupyter.widget-view+json": {
       "model_id": "",
       "version_major": 2,
       "version_minor": 0
      },
      "text/plain": [
       "HBox(children=(FloatProgress(value=0.0, description='Training', layout=Layout(flex='2'), max=1250.0, style=Pro…"
      ]
     },
     "metadata": {},
     "output_type": "display_data"
    },
    {
     "name": "stdout",
     "output_type": "stream",
     "text": [
      "Epoch 1566: train=8.79005, val=8.63759, took 40.571 s\n",
      "  Validation Found 101754 of 108007, added 5641 (eff 94.21%) (0.282 FP/event)\n",
      "Result epoch:  1566\n",
      "Average Eff:  0\n",
      "Average FP Rate:  0\n"
     ]
    },
    {
     "data": {
      "application/vnd.jupyter.widget-view+json": {
       "model_id": "",
       "version_major": 2,
       "version_minor": 0
      },
      "text/plain": [
       "HBox(children=(FloatProgress(value=0.0, description='Training', layout=Layout(flex='2'), max=1250.0, style=Pro…"
      ]
     },
     "metadata": {},
     "output_type": "display_data"
    },
    {
     "name": "stdout",
     "output_type": "stream",
     "text": [
      "Epoch 1567: train=8.79655, val=8.62667, took 41.181 s\n",
      "  Validation Found 101742 of 108007, added 5605 (eff 94.20%) (0.28 FP/event)\n",
      "Result epoch:  1567\n",
      "Average Eff:  0\n",
      "Average FP Rate:  0\n"
     ]
    },
    {
     "data": {
      "application/vnd.jupyter.widget-view+json": {
       "model_id": "",
       "version_major": 2,
       "version_minor": 0
      },
      "text/plain": [
       "HBox(children=(FloatProgress(value=0.0, description='Training', layout=Layout(flex='2'), max=1250.0, style=Pro…"
      ]
     },
     "metadata": {},
     "output_type": "display_data"
    },
    {
     "name": "stdout",
     "output_type": "stream",
     "text": [
      "Epoch 1568: train=8.78903, val=8.63878, took 40.441 s\n",
      "  Validation Found 101619 of 108007, added 5378 (eff 94.09%) (0.269 FP/event)\n",
      "Result epoch:  1568\n",
      "Average Eff:  0\n",
      "Average FP Rate:  0\n"
     ]
    },
    {
     "data": {
      "application/vnd.jupyter.widget-view+json": {
       "model_id": "",
       "version_major": 2,
       "version_minor": 0
      },
      "text/plain": [
       "HBox(children=(FloatProgress(value=0.0, description='Training', layout=Layout(flex='2'), max=1250.0, style=Pro…"
      ]
     },
     "metadata": {},
     "output_type": "display_data"
    },
    {
     "name": "stdout",
     "output_type": "stream",
     "text": [
      "Epoch 1569: train=8.78686, val=8.64053, took 41.018 s\n",
      "  Validation Found 101504 of 108007, added 5188 (eff 93.98%) (0.259 FP/event)\n",
      "Result epoch:  1569\n",
      "Average Eff:  0\n",
      "Average FP Rate:  0\n"
     ]
    },
    {
     "data": {
      "application/vnd.jupyter.widget-view+json": {
       "model_id": "",
       "version_major": 2,
       "version_minor": 0
      },
      "text/plain": [
       "HBox(children=(FloatProgress(value=0.0, description='Training', layout=Layout(flex='2'), max=1250.0, style=Pro…"
      ]
     },
     "metadata": {},
     "output_type": "display_data"
    },
    {
     "name": "stdout",
     "output_type": "stream",
     "text": [
      "Epoch 1570: train=8.7869, val=8.63142, took 40.629 s\n",
      "  Validation Found 101673 of 108007, added 5479 (eff 94.14%) (0.274 FP/event)\n",
      "Result epoch:  1570\n",
      "Average Eff:  0\n",
      "Average FP Rate:  0\n"
     ]
    },
    {
     "data": {
      "application/vnd.jupyter.widget-view+json": {
       "model_id": "",
       "version_major": 2,
       "version_minor": 0
      },
      "text/plain": [
       "HBox(children=(FloatProgress(value=0.0, description='Training', layout=Layout(flex='2'), max=1250.0, style=Pro…"
      ]
     },
     "metadata": {},
     "output_type": "display_data"
    },
    {
     "name": "stdout",
     "output_type": "stream",
     "text": [
      "Epoch 1571: train=8.79072, val=8.64151, took 41.025 s\n",
      "  Validation Found 101535 of 108007, added 5286 (eff 94.01%) (0.264 FP/event)\n",
      "Result epoch:  1571\n",
      "Average Eff:  0\n",
      "Average FP Rate:  0\n"
     ]
    },
    {
     "data": {
      "application/vnd.jupyter.widget-view+json": {
       "model_id": "",
       "version_major": 2,
       "version_minor": 0
      },
      "text/plain": [
       "HBox(children=(FloatProgress(value=0.0, description='Training', layout=Layout(flex='2'), max=1250.0, style=Pro…"
      ]
     },
     "metadata": {},
     "output_type": "display_data"
    },
    {
     "name": "stdout",
     "output_type": "stream",
     "text": [
      "Epoch 1572: train=8.79358, val=8.63021, took 41.245 s\n",
      "  Validation Found 101765 of 108007, added 5700 (eff 94.22%) (0.285 FP/event)\n",
      "Result epoch:  1572\n",
      "Average Eff:  0\n",
      "Average FP Rate:  0\n"
     ]
    },
    {
     "data": {
      "application/vnd.jupyter.widget-view+json": {
       "model_id": "",
       "version_major": 2,
       "version_minor": 0
      },
      "text/plain": [
       "HBox(children=(FloatProgress(value=0.0, description='Training', layout=Layout(flex='2'), max=1250.0, style=Pro…"
      ]
     },
     "metadata": {},
     "output_type": "display_data"
    },
    {
     "name": "stdout",
     "output_type": "stream",
     "text": [
      "Epoch 1573: train=8.79099, val=8.63184, took 40.646 s\n",
      "  Validation Found 101700 of 108007, added 5513 (eff 94.16%) (0.276 FP/event)\n",
      "Result epoch:  1573\n",
      "Average Eff:  0\n",
      "Average FP Rate:  0\n"
     ]
    },
    {
     "data": {
      "application/vnd.jupyter.widget-view+json": {
       "model_id": "",
       "version_major": 2,
       "version_minor": 0
      },
      "text/plain": [
       "HBox(children=(FloatProgress(value=0.0, description='Training', layout=Layout(flex='2'), max=1250.0, style=Pro…"
      ]
     },
     "metadata": {},
     "output_type": "display_data"
    },
    {
     "name": "stdout",
     "output_type": "stream",
     "text": [
      "Epoch 1574: train=8.78427, val=8.64401, took 41.348 s\n",
      "  Validation Found 101608 of 108007, added 5345 (eff 94.08%) (0.267 FP/event)\n",
      "Result epoch:  1574\n",
      "Average Eff:  0\n",
      "Average FP Rate:  0\n"
     ]
    },
    {
     "data": {
      "application/vnd.jupyter.widget-view+json": {
       "model_id": "",
       "version_major": 2,
       "version_minor": 0
      },
      "text/plain": [
       "HBox(children=(FloatProgress(value=0.0, description='Training', layout=Layout(flex='2'), max=1250.0, style=Pro…"
      ]
     },
     "metadata": {},
     "output_type": "display_data"
    },
    {
     "name": "stdout",
     "output_type": "stream",
     "text": [
      "Epoch 1575: train=8.7887, val=8.63289, took 40.641 s\n",
      "  Validation Found 101685 of 108007, added 5488 (eff 94.15%) (0.274 FP/event)\n",
      "Result epoch:  1575\n",
      "Average Eff:  0\n",
      "Average FP Rate:  0\n"
     ]
    },
    {
     "data": {
      "application/vnd.jupyter.widget-view+json": {
       "model_id": "",
       "version_major": 2,
       "version_minor": 0
      },
      "text/plain": [
       "HBox(children=(FloatProgress(value=0.0, description='Training', layout=Layout(flex='2'), max=1250.0, style=Pro…"
      ]
     },
     "metadata": {},
     "output_type": "display_data"
    },
    {
     "name": "stdout",
     "output_type": "stream",
     "text": [
      "Epoch 1576: train=8.79301, val=8.62537, took 41.582 s\n",
      "  Validation Found 101559 of 108007, added 5287 (eff 94.03%) (0.264 FP/event)\n",
      "Result epoch:  1576\n",
      "Average Eff:  0\n",
      "Average FP Rate:  0\n"
     ]
    },
    {
     "data": {
      "application/vnd.jupyter.widget-view+json": {
       "model_id": "",
       "version_major": 2,
       "version_minor": 0
      },
      "text/plain": [
       "HBox(children=(FloatProgress(value=0.0, description='Training', layout=Layout(flex='2'), max=1250.0, style=Pro…"
      ]
     },
     "metadata": {},
     "output_type": "display_data"
    },
    {
     "name": "stdout",
     "output_type": "stream",
     "text": [
      "Epoch 1577: train=8.7874, val=8.63088, took 41.493 s\n",
      "  Validation Found 101621 of 108007, added 5366 (eff 94.09%) (0.268 FP/event)\n",
      "Result epoch:  1577\n",
      "Average Eff:  0\n",
      "Average FP Rate:  0\n"
     ]
    },
    {
     "data": {
      "application/vnd.jupyter.widget-view+json": {
       "model_id": "",
       "version_major": 2,
       "version_minor": 0
      },
      "text/plain": [
       "HBox(children=(FloatProgress(value=0.0, description='Training', layout=Layout(flex='2'), max=1250.0, style=Pro…"
      ]
     },
     "metadata": {},
     "output_type": "display_data"
    },
    {
     "name": "stdout",
     "output_type": "stream",
     "text": [
      "Epoch 1578: train=8.79001, val=8.63205, took 41.454 s\n",
      "  Validation Found 101627 of 108007, added 5375 (eff 94.09%) (0.269 FP/event)\n",
      "Result epoch:  1578\n",
      "Average Eff:  0\n",
      "Average FP Rate:  0\n"
     ]
    },
    {
     "data": {
      "application/vnd.jupyter.widget-view+json": {
       "model_id": "",
       "version_major": 2,
       "version_minor": 0
      },
      "text/plain": [
       "HBox(children=(FloatProgress(value=0.0, description='Training', layout=Layout(flex='2'), max=1250.0, style=Pro…"
      ]
     },
     "metadata": {},
     "output_type": "display_data"
    },
    {
     "name": "stdout",
     "output_type": "stream",
     "text": [
      "Epoch 1579: train=8.79199, val=8.62237, took 41.782 s\n",
      "  Validation Found 101716 of 108007, added 5511 (eff 94.18%) (0.276 FP/event)\n",
      "Result epoch:  1579\n",
      "Average Eff:  0\n",
      "Average FP Rate:  0\n"
     ]
    },
    {
     "data": {
      "application/vnd.jupyter.widget-view+json": {
       "model_id": "",
       "version_major": 2,
       "version_minor": 0
      },
      "text/plain": [
       "HBox(children=(FloatProgress(value=0.0, description='Training', layout=Layout(flex='2'), max=1250.0, style=Pro…"
      ]
     },
     "metadata": {},
     "output_type": "display_data"
    },
    {
     "name": "stdout",
     "output_type": "stream",
     "text": [
      "Epoch 1580: train=8.78972, val=8.62839, took 41.179 s\n",
      "  Validation Found 101673 of 108007, added 5437 (eff 94.14%) (0.272 FP/event)\n",
      "Result epoch:  1580\n",
      "Average Eff:  0\n",
      "Average FP Rate:  0\n"
     ]
    },
    {
     "data": {
      "application/vnd.jupyter.widget-view+json": {
       "model_id": "",
       "version_major": 2,
       "version_minor": 0
      },
      "text/plain": [
       "HBox(children=(FloatProgress(value=0.0, description='Training', layout=Layout(flex='2'), max=1250.0, style=Pro…"
      ]
     },
     "metadata": {},
     "output_type": "display_data"
    },
    {
     "name": "stdout",
     "output_type": "stream",
     "text": [
      "Epoch 1581: train=8.78899, val=8.62952, took 41.87 s\n",
      "  Validation Found 101648 of 108007, added 5419 (eff 94.11%) (0.271 FP/event)\n",
      "Result epoch:  1581\n",
      "Average Eff:  0\n",
      "Average FP Rate:  0\n"
     ]
    },
    {
     "data": {
      "application/vnd.jupyter.widget-view+json": {
       "model_id": "",
       "version_major": 2,
       "version_minor": 0
      },
      "text/plain": [
       "HBox(children=(FloatProgress(value=0.0, description='Training', layout=Layout(flex='2'), max=1250.0, style=Pro…"
      ]
     },
     "metadata": {},
     "output_type": "display_data"
    },
    {
     "name": "stdout",
     "output_type": "stream",
     "text": [
      "Epoch 1582: train=8.78758, val=8.63043, took 41.163 s\n",
      "  Validation Found 101712 of 108007, added 5555 (eff 94.17%) (0.278 FP/event)\n",
      "Result epoch:  1582\n",
      "Average Eff:  0\n",
      "Average FP Rate:  0\n"
     ]
    },
    {
     "data": {
      "application/vnd.jupyter.widget-view+json": {
       "model_id": "",
       "version_major": 2,
       "version_minor": 0
      },
      "text/plain": [
       "HBox(children=(FloatProgress(value=0.0, description='Training', layout=Layout(flex='2'), max=1250.0, style=Pro…"
      ]
     },
     "metadata": {},
     "output_type": "display_data"
    },
    {
     "name": "stdout",
     "output_type": "stream",
     "text": [
      "Epoch 1583: train=8.78884, val=8.6396, took 41.723 s\n",
      "  Validation Found 101707 of 108007, added 5543 (eff 94.17%) (0.277 FP/event)\n",
      "Result epoch:  1583\n",
      "Average Eff:  0\n",
      "Average FP Rate:  0\n"
     ]
    },
    {
     "data": {
      "application/vnd.jupyter.widget-view+json": {
       "model_id": "",
       "version_major": 2,
       "version_minor": 0
      },
      "text/plain": [
       "HBox(children=(FloatProgress(value=0.0, description='Training', layout=Layout(flex='2'), max=1250.0, style=Pro…"
      ]
     },
     "metadata": {},
     "output_type": "display_data"
    },
    {
     "name": "stdout",
     "output_type": "stream",
     "text": [
      "Epoch 1584: train=8.79163, val=8.63609, took 41.236 s\n",
      "  Validation Found 101683 of 108007, added 5471 (eff 94.14%) (0.274 FP/event)\n",
      "Result epoch:  1584\n",
      "Average Eff:  0\n",
      "Average FP Rate:  0\n"
     ]
    },
    {
     "data": {
      "application/vnd.jupyter.widget-view+json": {
       "model_id": "",
       "version_major": 2,
       "version_minor": 0
      },
      "text/plain": [
       "HBox(children=(FloatProgress(value=0.0, description='Training', layout=Layout(flex='2'), max=1250.0, style=Pro…"
      ]
     },
     "metadata": {},
     "output_type": "display_data"
    },
    {
     "name": "stdout",
     "output_type": "stream",
     "text": [
      "Epoch 1585: train=8.79104, val=8.63879, took 41.135 s\n",
      "  Validation Found 101546 of 108007, added 5302 (eff 94.02%) (0.265 FP/event)\n",
      "Result epoch:  1585\n",
      "Average Eff:  0\n",
      "Average FP Rate:  0\n"
     ]
    },
    {
     "data": {
      "application/vnd.jupyter.widget-view+json": {
       "model_id": "",
       "version_major": 2,
       "version_minor": 0
      },
      "text/plain": [
       "HBox(children=(FloatProgress(value=0.0, description='Training', layout=Layout(flex='2'), max=1250.0, style=Pro…"
      ]
     },
     "metadata": {},
     "output_type": "display_data"
    },
    {
     "name": "stdout",
     "output_type": "stream",
     "text": [
      "Epoch 1586: train=8.78989, val=8.62648, took 40.984 s\n",
      "  Validation Found 101622 of 108007, added 5380 (eff 94.09%) (0.269 FP/event)\n",
      "Result epoch:  1586\n",
      "Average Eff:  0\n",
      "Average FP Rate:  0\n"
     ]
    },
    {
     "data": {
      "application/vnd.jupyter.widget-view+json": {
       "model_id": "",
       "version_major": 2,
       "version_minor": 0
      },
      "text/plain": [
       "HBox(children=(FloatProgress(value=0.0, description='Training', layout=Layout(flex='2'), max=1250.0, style=Pro…"
      ]
     },
     "metadata": {},
     "output_type": "display_data"
    },
    {
     "name": "stdout",
     "output_type": "stream",
     "text": [
      "Epoch 1587: train=8.79122, val=8.63201, took 40.536 s\n",
      "  Validation Found 101635 of 108007, added 5382 (eff 94.10%) (0.269 FP/event)\n",
      "Result epoch:  1587\n",
      "Average Eff:  0\n",
      "Average FP Rate:  0\n"
     ]
    },
    {
     "data": {
      "application/vnd.jupyter.widget-view+json": {
       "model_id": "",
       "version_major": 2,
       "version_minor": 0
      },
      "text/plain": [
       "HBox(children=(FloatProgress(value=0.0, description='Training', layout=Layout(flex='2'), max=1250.0, style=Pro…"
      ]
     },
     "metadata": {},
     "output_type": "display_data"
    },
    {
     "name": "stdout",
     "output_type": "stream",
     "text": [
      "Epoch 1588: train=8.79236, val=8.6417, took 41.242 s\n",
      "  Validation Found 101552 of 108007, added 5299 (eff 94.02%) (0.265 FP/event)\n",
      "Result epoch:  1588\n",
      "Average Eff:  0\n",
      "Average FP Rate:  0\n"
     ]
    },
    {
     "data": {
      "application/vnd.jupyter.widget-view+json": {
       "model_id": "",
       "version_major": 2,
       "version_minor": 0
      },
      "text/plain": [
       "HBox(children=(FloatProgress(value=0.0, description='Training', layout=Layout(flex='2'), max=1250.0, style=Pro…"
      ]
     },
     "metadata": {},
     "output_type": "display_data"
    },
    {
     "name": "stdout",
     "output_type": "stream",
     "text": [
      "Epoch 1589: train=8.7922, val=8.62905, took 40.438 s\n",
      "  Validation Found 101626 of 108007, added 5364 (eff 94.09%) (0.268 FP/event)\n",
      "Result epoch:  1589\n",
      "Average Eff:  0\n",
      "Average FP Rate:  0\n"
     ]
    },
    {
     "data": {
      "application/vnd.jupyter.widget-view+json": {
       "model_id": "",
       "version_major": 2,
       "version_minor": 0
      },
      "text/plain": [
       "HBox(children=(FloatProgress(value=0.0, description='Training', layout=Layout(flex='2'), max=1250.0, style=Pro…"
      ]
     },
     "metadata": {},
     "output_type": "display_data"
    },
    {
     "name": "stdout",
     "output_type": "stream",
     "text": [
      "Epoch 1590: train=8.79077, val=8.63091, took 41.36 s\n",
      "  Validation Found 101676 of 108007, added 5482 (eff 94.14%) (0.274 FP/event)\n",
      "Result epoch:  1590\n",
      "Average Eff:  0\n",
      "Average FP Rate:  0\n"
     ]
    },
    {
     "data": {
      "application/vnd.jupyter.widget-view+json": {
       "model_id": "",
       "version_major": 2,
       "version_minor": 0
      },
      "text/plain": [
       "HBox(children=(FloatProgress(value=0.0, description='Training', layout=Layout(flex='2'), max=1250.0, style=Pro…"
      ]
     },
     "metadata": {},
     "output_type": "display_data"
    },
    {
     "name": "stdout",
     "output_type": "stream",
     "text": [
      "Epoch 1591: train=8.79272, val=8.63328, took 40.773 s\n",
      "  Validation Found 101642 of 108007, added 5397 (eff 94.11%) (0.27 FP/event)\n",
      "Result epoch:  1591\n",
      "Average Eff:  0\n",
      "Average FP Rate:  0\n"
     ]
    },
    {
     "data": {
      "application/vnd.jupyter.widget-view+json": {
       "model_id": "",
       "version_major": 2,
       "version_minor": 0
      },
      "text/plain": [
       "HBox(children=(FloatProgress(value=0.0, description='Training', layout=Layout(flex='2'), max=1250.0, style=Pro…"
      ]
     },
     "metadata": {},
     "output_type": "display_data"
    },
    {
     "name": "stdout",
     "output_type": "stream",
     "text": [
      "Epoch 1592: train=8.79177, val=8.62801, took 40.822 s\n",
      "  Validation Found 101607 of 108007, added 5337 (eff 94.07%) (0.267 FP/event)\n",
      "Result epoch:  1592\n",
      "Average Eff:  0\n",
      "Average FP Rate:  0\n"
     ]
    },
    {
     "data": {
      "application/vnd.jupyter.widget-view+json": {
       "model_id": "",
       "version_major": 2,
       "version_minor": 0
      },
      "text/plain": [
       "HBox(children=(FloatProgress(value=0.0, description='Training', layout=Layout(flex='2'), max=1250.0, style=Pro…"
      ]
     },
     "metadata": {},
     "output_type": "display_data"
    },
    {
     "name": "stdout",
     "output_type": "stream",
     "text": [
      "Epoch 1593: train=8.79126, val=8.63527, took 41.096 s\n",
      "  Validation Found 101715 of 108007, added 5544 (eff 94.17%) (0.277 FP/event)\n",
      "Result epoch:  1593\n",
      "Average Eff:  0\n",
      "Average FP Rate:  0\n"
     ]
    },
    {
     "data": {
      "application/vnd.jupyter.widget-view+json": {
       "model_id": "",
       "version_major": 2,
       "version_minor": 0
      },
      "text/plain": [
       "HBox(children=(FloatProgress(value=0.0, description='Training', layout=Layout(flex='2'), max=1250.0, style=Pro…"
      ]
     },
     "metadata": {},
     "output_type": "display_data"
    },
    {
     "name": "stdout",
     "output_type": "stream",
     "text": [
      "Epoch 1594: train=8.78846, val=8.63886, took 40.382 s\n",
      "  Validation Found 101633 of 108007, added 5406 (eff 94.10%) (0.27 FP/event)\n",
      "Result epoch:  1594\n",
      "Average Eff:  0\n",
      "Average FP Rate:  0\n"
     ]
    },
    {
     "data": {
      "application/vnd.jupyter.widget-view+json": {
       "model_id": "",
       "version_major": 2,
       "version_minor": 0
      },
      "text/plain": [
       "HBox(children=(FloatProgress(value=0.0, description='Training', layout=Layout(flex='2'), max=1250.0, style=Pro…"
      ]
     },
     "metadata": {},
     "output_type": "display_data"
    },
    {
     "name": "stdout",
     "output_type": "stream",
     "text": [
      "Epoch 1595: train=8.78733, val=8.63628, took 41.197 s\n",
      "  Validation Found 101718 of 108007, added 5591 (eff 94.18%) (0.28 FP/event)\n",
      "Result epoch:  1595\n",
      "Average Eff:  0\n",
      "Average FP Rate:  0\n"
     ]
    },
    {
     "data": {
      "application/vnd.jupyter.widget-view+json": {
       "model_id": "",
       "version_major": 2,
       "version_minor": 0
      },
      "text/plain": [
       "HBox(children=(FloatProgress(value=0.0, description='Training', layout=Layout(flex='2'), max=1250.0, style=Pro…"
      ]
     },
     "metadata": {},
     "output_type": "display_data"
    },
    {
     "name": "stdout",
     "output_type": "stream",
     "text": [
      "Epoch 1596: train=8.79079, val=8.63676, took 40.433 s\n",
      "  Validation Found 101580 of 108007, added 5328 (eff 94.05%) (0.266 FP/event)\n",
      "Result epoch:  1596\n",
      "Average Eff:  0\n",
      "Average FP Rate:  0\n"
     ]
    },
    {
     "data": {
      "application/vnd.jupyter.widget-view+json": {
       "model_id": "",
       "version_major": 2,
       "version_minor": 0
      },
      "text/plain": [
       "HBox(children=(FloatProgress(value=0.0, description='Training', layout=Layout(flex='2'), max=1250.0, style=Pro…"
      ]
     },
     "metadata": {},
     "output_type": "display_data"
    },
    {
     "name": "stdout",
     "output_type": "stream",
     "text": [
      "Epoch 1597: train=8.79342, val=8.63478, took 41.384 s\n",
      "  Validation Found 101701 of 108007, added 5535 (eff 94.16%) (0.277 FP/event)\n",
      "Result epoch:  1597\n",
      "Average Eff:  0\n",
      "Average FP Rate:  0\n"
     ]
    },
    {
     "data": {
      "application/vnd.jupyter.widget-view+json": {
       "model_id": "",
       "version_major": 2,
       "version_minor": 0
      },
      "text/plain": [
       "HBox(children=(FloatProgress(value=0.0, description='Training', layout=Layout(flex='2'), max=1250.0, style=Pro…"
      ]
     },
     "metadata": {},
     "output_type": "display_data"
    },
    {
     "name": "stdout",
     "output_type": "stream",
     "text": [
      "Epoch 1598: train=8.78802, val=8.63729, took 41.162 s\n",
      "  Validation Found 101636 of 108007, added 5386 (eff 94.10%) (0.269 FP/event)\n",
      "Result epoch:  1598\n",
      "Average Eff:  0\n",
      "Average FP Rate:  0\n"
     ]
    },
    {
     "data": {
      "application/vnd.jupyter.widget-view+json": {
       "model_id": "",
       "version_major": 2,
       "version_minor": 0
      },
      "text/plain": [
       "HBox(children=(FloatProgress(value=0.0, description='Training', layout=Layout(flex='2'), max=1250.0, style=Pro…"
      ]
     },
     "metadata": {},
     "output_type": "display_data"
    },
    {
     "name": "stdout",
     "output_type": "stream",
     "text": [
      "Epoch 1599: train=8.7858, val=8.63654, took 41.44 s\n",
      "  Validation Found 101711 of 108007, added 5537 (eff 94.17%) (0.277 FP/event)\n",
      "Result epoch:  1599\n",
      "Average Eff:  0\n",
      "Average FP Rate:  0\n"
     ]
    },
    {
     "data": {
      "application/vnd.jupyter.widget-view+json": {
       "model_id": "",
       "version_major": 2,
       "version_minor": 0
      },
      "text/plain": [
       "HBox(children=(FloatProgress(value=0.0, description='Training', layout=Layout(flex='2'), max=1250.0, style=Pro…"
      ]
     },
     "metadata": {},
     "output_type": "display_data"
    },
    {
     "name": "stdout",
     "output_type": "stream",
     "text": [
      "Epoch 1600: train=8.79126, val=8.63443, took 42.238 s\n",
      "  Validation Found 101562 of 108007, added 5300 (eff 94.03%) (0.265 FP/event)\n",
      "Result epoch:  1600\n",
      "Average Eff:  0\n",
      "Average FP Rate:  0\n"
     ]
    },
    {
     "data": {
      "application/vnd.jupyter.widget-view+json": {
       "model_id": "",
       "version_major": 2,
       "version_minor": 0
      },
      "text/plain": [
       "HBox(children=(FloatProgress(value=0.0, description='Training', layout=Layout(flex='2'), max=1250.0, style=Pro…"
      ]
     },
     "metadata": {},
     "output_type": "display_data"
    },
    {
     "name": "stdout",
     "output_type": "stream",
     "text": [
      "Epoch 1601: train=8.79107, val=8.6329, took 41.558 s\n",
      "  Validation Found 101674 of 108007, added 5451 (eff 94.14%) (0.273 FP/event)\n",
      "Result epoch:  1601\n",
      "Average Eff:  0\n",
      "Average FP Rate:  0\n"
     ]
    },
    {
     "data": {
      "application/vnd.jupyter.widget-view+json": {
       "model_id": "",
       "version_major": 2,
       "version_minor": 0
      },
      "text/plain": [
       "HBox(children=(FloatProgress(value=0.0, description='Training', layout=Layout(flex='2'), max=1250.0, style=Pro…"
      ]
     },
     "metadata": {},
     "output_type": "display_data"
    },
    {
     "name": "stdout",
     "output_type": "stream",
     "text": [
      "Epoch 1602: train=8.79237, val=8.63025, took 42.162 s\n",
      "  Validation Found 101686 of 108007, added 5466 (eff 94.15%) (0.273 FP/event)\n",
      "Result epoch:  1602\n",
      "Average Eff:  0\n",
      "Average FP Rate:  0\n"
     ]
    },
    {
     "data": {
      "application/vnd.jupyter.widget-view+json": {
       "model_id": "",
       "version_major": 2,
       "version_minor": 0
      },
      "text/plain": [
       "HBox(children=(FloatProgress(value=0.0, description='Training', layout=Layout(flex='2'), max=1250.0, style=Pro…"
      ]
     },
     "metadata": {},
     "output_type": "display_data"
    },
    {
     "name": "stdout",
     "output_type": "stream",
     "text": [
      "Epoch 1603: train=8.78569, val=8.6258, took 41.69 s\n",
      "  Validation Found 101597 of 108007, added 5333 (eff 94.07%) (0.267 FP/event)\n",
      "Result epoch:  1603\n",
      "Average Eff:  0\n",
      "Average FP Rate:  0\n"
     ]
    },
    {
     "data": {
      "application/vnd.jupyter.widget-view+json": {
       "model_id": "",
       "version_major": 2,
       "version_minor": 0
      },
      "text/plain": [
       "HBox(children=(FloatProgress(value=0.0, description='Training', layout=Layout(flex='2'), max=1250.0, style=Pro…"
      ]
     },
     "metadata": {},
     "output_type": "display_data"
    },
    {
     "name": "stdout",
     "output_type": "stream",
     "text": [
      "Epoch 1604: train=8.78769, val=8.62933, took 41.291 s\n",
      "  Validation Found 101716 of 108007, added 5521 (eff 94.18%) (0.276 FP/event)\n",
      "Result epoch:  1604\n",
      "Average Eff:  0\n",
      "Average FP Rate:  0\n"
     ]
    },
    {
     "data": {
      "application/vnd.jupyter.widget-view+json": {
       "model_id": "",
       "version_major": 2,
       "version_minor": 0
      },
      "text/plain": [
       "HBox(children=(FloatProgress(value=0.0, description='Training', layout=Layout(flex='2'), max=1250.0, style=Pro…"
      ]
     },
     "metadata": {},
     "output_type": "display_data"
    },
    {
     "name": "stdout",
     "output_type": "stream",
     "text": [
      "Epoch 1605: train=8.7856, val=8.63755, took 41.156 s\n",
      "  Validation Found 101720 of 108007, added 5561 (eff 94.18%) (0.278 FP/event)\n",
      "Result epoch:  1605\n",
      "Average Eff:  0\n",
      "Average FP Rate:  0\n"
     ]
    },
    {
     "data": {
      "application/vnd.jupyter.widget-view+json": {
       "model_id": "",
       "version_major": 2,
       "version_minor": 0
      },
      "text/plain": [
       "HBox(children=(FloatProgress(value=0.0, description='Training', layout=Layout(flex='2'), max=1250.0, style=Pro…"
      ]
     },
     "metadata": {},
     "output_type": "display_data"
    },
    {
     "name": "stdout",
     "output_type": "stream",
     "text": [
      "Epoch 1606: train=8.79026, val=8.63349, took 41.25 s\n",
      "  Validation Found 101676 of 108007, added 5468 (eff 94.14%) (0.273 FP/event)\n",
      "Result epoch:  1606\n",
      "Average Eff:  0\n",
      "Average FP Rate:  0\n"
     ]
    },
    {
     "data": {
      "application/vnd.jupyter.widget-view+json": {
       "model_id": "",
       "version_major": 2,
       "version_minor": 0
      },
      "text/plain": [
       "HBox(children=(FloatProgress(value=0.0, description='Training', layout=Layout(flex='2'), max=1250.0, style=Pro…"
      ]
     },
     "metadata": {},
     "output_type": "display_data"
    },
    {
     "name": "stdout",
     "output_type": "stream",
     "text": [
      "Epoch 1607: train=8.78873, val=8.63217, took 41.322 s\n",
      "  Validation Found 101622 of 108007, added 5385 (eff 94.09%) (0.269 FP/event)\n",
      "Result epoch:  1607\n",
      "Average Eff:  0\n",
      "Average FP Rate:  0\n"
     ]
    },
    {
     "data": {
      "application/vnd.jupyter.widget-view+json": {
       "model_id": "",
       "version_major": 2,
       "version_minor": 0
      },
      "text/plain": [
       "HBox(children=(FloatProgress(value=0.0, description='Training', layout=Layout(flex='2'), max=1250.0, style=Pro…"
      ]
     },
     "metadata": {},
     "output_type": "display_data"
    },
    {
     "name": "stdout",
     "output_type": "stream",
     "text": [
      "Epoch 1608: train=8.78443, val=8.63406, took 40.632 s\n",
      "  Validation Found 101640 of 108007, added 5406 (eff 94.11%) (0.27 FP/event)\n",
      "Result epoch:  1608\n",
      "Average Eff:  0\n",
      "Average FP Rate:  0\n"
     ]
    },
    {
     "data": {
      "application/vnd.jupyter.widget-view+json": {
       "model_id": "",
       "version_major": 2,
       "version_minor": 0
      },
      "text/plain": [
       "HBox(children=(FloatProgress(value=0.0, description='Training', layout=Layout(flex='2'), max=1250.0, style=Pro…"
      ]
     },
     "metadata": {},
     "output_type": "display_data"
    },
    {
     "name": "stdout",
     "output_type": "stream",
     "text": [
      "Epoch 1609: train=8.79031, val=8.62645, took 41.179 s\n",
      "  Validation Found 101711 of 108007, added 5543 (eff 94.17%) (0.277 FP/event)\n",
      "Result epoch:  1609\n",
      "Average Eff:  0\n",
      "Average FP Rate:  0\n"
     ]
    },
    {
     "data": {
      "application/vnd.jupyter.widget-view+json": {
       "model_id": "",
       "version_major": 2,
       "version_minor": 0
      },
      "text/plain": [
       "HBox(children=(FloatProgress(value=0.0, description='Training', layout=Layout(flex='2'), max=1250.0, style=Pro…"
      ]
     },
     "metadata": {},
     "output_type": "display_data"
    },
    {
     "name": "stdout",
     "output_type": "stream",
     "text": [
      "Epoch 1610: train=8.78922, val=8.62565, took 40.806 s\n",
      "  Validation Found 101671 of 108007, added 5430 (eff 94.13%) (0.271 FP/event)\n",
      "Result epoch:  1610\n",
      "Average Eff:  0\n",
      "Average FP Rate:  0\n"
     ]
    },
    {
     "data": {
      "application/vnd.jupyter.widget-view+json": {
       "model_id": "",
       "version_major": 2,
       "version_minor": 0
      },
      "text/plain": [
       "HBox(children=(FloatProgress(value=0.0, description='Training', layout=Layout(flex='2'), max=1250.0, style=Pro…"
      ]
     },
     "metadata": {},
     "output_type": "display_data"
    },
    {
     "name": "stdout",
     "output_type": "stream",
     "text": [
      "Epoch 1611: train=8.79086, val=8.64489, took 41.019 s\n",
      "  Validation Found 101606 of 108007, added 5362 (eff 94.07%) (0.268 FP/event)\n",
      "Result epoch:  1611\n",
      "Average Eff:  0\n",
      "Average FP Rate:  0\n"
     ]
    },
    {
     "data": {
      "application/vnd.jupyter.widget-view+json": {
       "model_id": "",
       "version_major": 2,
       "version_minor": 0
      },
      "text/plain": [
       "HBox(children=(FloatProgress(value=0.0, description='Training', layout=Layout(flex='2'), max=1250.0, style=Pro…"
      ]
     },
     "metadata": {},
     "output_type": "display_data"
    },
    {
     "name": "stdout",
     "output_type": "stream",
     "text": [
      "Epoch 1612: train=8.78664, val=8.63124, took 41.181 s\n",
      "  Validation Found 101744 of 108007, added 5592 (eff 94.20%) (0.28 FP/event)\n",
      "Result epoch:  1612\n",
      "Average Eff:  0\n",
      "Average FP Rate:  0\n"
     ]
    },
    {
     "data": {
      "application/vnd.jupyter.widget-view+json": {
       "model_id": "",
       "version_major": 2,
       "version_minor": 0
      },
      "text/plain": [
       "HBox(children=(FloatProgress(value=0.0, description='Training', layout=Layout(flex='2'), max=1250.0, style=Pro…"
      ]
     },
     "metadata": {},
     "output_type": "display_data"
    },
    {
     "name": "stdout",
     "output_type": "stream",
     "text": [
      "Epoch 1613: train=8.79004, val=8.6315, took 40.568 s\n",
      "  Validation Found 101571 of 108007, added 5299 (eff 94.04%) (0.265 FP/event)\n",
      "Result epoch:  1613\n",
      "Average Eff:  0\n",
      "Average FP Rate:  0\n"
     ]
    },
    {
     "data": {
      "application/vnd.jupyter.widget-view+json": {
       "model_id": "",
       "version_major": 2,
       "version_minor": 0
      },
      "text/plain": [
       "HBox(children=(FloatProgress(value=0.0, description='Training', layout=Layout(flex='2'), max=1250.0, style=Pro…"
      ]
     },
     "metadata": {},
     "output_type": "display_data"
    },
    {
     "name": "stdout",
     "output_type": "stream",
     "text": [
      "Epoch 1614: train=8.78778, val=8.62542, took 41.24 s\n",
      "  Validation Found 101656 of 108007, added 5440 (eff 94.12%) (0.272 FP/event)\n",
      "Result epoch:  1614\n",
      "Average Eff:  0\n",
      "Average FP Rate:  0\n"
     ]
    },
    {
     "data": {
      "application/vnd.jupyter.widget-view+json": {
       "model_id": "",
       "version_major": 2,
       "version_minor": 0
      },
      "text/plain": [
       "HBox(children=(FloatProgress(value=0.0, description='Training', layout=Layout(flex='2'), max=1250.0, style=Pro…"
      ]
     },
     "metadata": {},
     "output_type": "display_data"
    },
    {
     "name": "stdout",
     "output_type": "stream",
     "text": [
      "Epoch 1615: train=8.79171, val=8.63352, took 40.483 s\n",
      "  Validation Found 101762 of 108007, added 5653 (eff 94.22%) (0.283 FP/event)\n",
      "Result epoch:  1615\n",
      "Average Eff:  0\n",
      "Average FP Rate:  0\n"
     ]
    },
    {
     "data": {
      "application/vnd.jupyter.widget-view+json": {
       "model_id": "",
       "version_major": 2,
       "version_minor": 0
      },
      "text/plain": [
       "HBox(children=(FloatProgress(value=0.0, description='Training', layout=Layout(flex='2'), max=1250.0, style=Pro…"
      ]
     },
     "metadata": {},
     "output_type": "display_data"
    },
    {
     "name": "stdout",
     "output_type": "stream",
     "text": [
      "Epoch 1616: train=8.78797, val=8.63159, took 41.028 s\n",
      "  Validation Found 101572 of 108007, added 5325 (eff 94.04%) (0.266 FP/event)\n",
      "Result epoch:  1616\n",
      "Average Eff:  0\n",
      "Average FP Rate:  0\n"
     ]
    },
    {
     "data": {
      "application/vnd.jupyter.widget-view+json": {
       "model_id": "",
       "version_major": 2,
       "version_minor": 0
      },
      "text/plain": [
       "HBox(children=(FloatProgress(value=0.0, description='Training', layout=Layout(flex='2'), max=1250.0, style=Pro…"
      ]
     },
     "metadata": {},
     "output_type": "display_data"
    },
    {
     "name": "stdout",
     "output_type": "stream",
     "text": [
      "Epoch 1617: train=8.78874, val=8.63244, took 40.849 s\n",
      "  Validation Found 101654 of 108007, added 5417 (eff 94.12%) (0.271 FP/event)\n",
      "Result epoch:  1617\n",
      "Average Eff:  0\n",
      "Average FP Rate:  0\n"
     ]
    },
    {
     "data": {
      "application/vnd.jupyter.widget-view+json": {
       "model_id": "",
       "version_major": 2,
       "version_minor": 0
      },
      "text/plain": [
       "HBox(children=(FloatProgress(value=0.0, description='Training', layout=Layout(flex='2'), max=1250.0, style=Pro…"
      ]
     },
     "metadata": {},
     "output_type": "display_data"
    },
    {
     "name": "stdout",
     "output_type": "stream",
     "text": [
      "Epoch 1618: train=8.78907, val=8.64468, took 40.846 s\n",
      "  Validation Found 101536 of 108007, added 5272 (eff 94.01%) (0.264 FP/event)\n",
      "Result epoch:  1618\n",
      "Average Eff:  0\n",
      "Average FP Rate:  0\n"
     ]
    },
    {
     "data": {
      "application/vnd.jupyter.widget-view+json": {
       "model_id": "",
       "version_major": 2,
       "version_minor": 0
      },
      "text/plain": [
       "HBox(children=(FloatProgress(value=0.0, description='Training', layout=Layout(flex='2'), max=1250.0, style=Pro…"
      ]
     },
     "metadata": {},
     "output_type": "display_data"
    },
    {
     "name": "stdout",
     "output_type": "stream",
     "text": [
      "Epoch 1619: train=8.79322, val=8.629, took 41.142 s\n",
      "  Validation Found 101617 of 108007, added 5343 (eff 94.08%) (0.267 FP/event)\n",
      "Result epoch:  1619\n",
      "Average Eff:  0\n",
      "Average FP Rate:  0\n"
     ]
    },
    {
     "data": {
      "application/vnd.jupyter.widget-view+json": {
       "model_id": "",
       "version_major": 2,
       "version_minor": 0
      },
      "text/plain": [
       "HBox(children=(FloatProgress(value=0.0, description='Training', layout=Layout(flex='2'), max=1250.0, style=Pro…"
      ]
     },
     "metadata": {},
     "output_type": "display_data"
    },
    {
     "name": "stdout",
     "output_type": "stream",
     "text": [
      "Epoch 1620: train=8.78858, val=8.63669, took 40.537 s\n",
      "  Validation Found 101536 of 108007, added 5272 (eff 94.01%) (0.264 FP/event)\n",
      "Result epoch:  1620\n",
      "Average Eff:  0\n",
      "Average FP Rate:  0\n"
     ]
    },
    {
     "data": {
      "application/vnd.jupyter.widget-view+json": {
       "model_id": "",
       "version_major": 2,
       "version_minor": 0
      },
      "text/plain": [
       "HBox(children=(FloatProgress(value=0.0, description='Training', layout=Layout(flex='2'), max=1250.0, style=Pro…"
      ]
     },
     "metadata": {},
     "output_type": "display_data"
    },
    {
     "name": "stdout",
     "output_type": "stream",
     "text": [
      "Epoch 1621: train=8.78439, val=8.62278, took 41.179 s\n",
      "  Validation Found 101670 of 108007, added 5472 (eff 94.13%) (0.274 FP/event)\n",
      "Result epoch:  1621\n",
      "Average Eff:  0\n",
      "Average FP Rate:  0\n"
     ]
    },
    {
     "data": {
      "application/vnd.jupyter.widget-view+json": {
       "model_id": "",
       "version_major": 2,
       "version_minor": 0
      },
      "text/plain": [
       "HBox(children=(FloatProgress(value=0.0, description='Training', layout=Layout(flex='2'), max=1250.0, style=Pro…"
      ]
     },
     "metadata": {},
     "output_type": "display_data"
    },
    {
     "name": "stdout",
     "output_type": "stream",
     "text": [
      "Epoch 1622: train=8.78781, val=8.63057, took 40.462 s\n",
      "  Validation Found 101546 of 108007, added 5311 (eff 94.02%) (0.266 FP/event)\n",
      "Result epoch:  1622\n",
      "Average Eff:  0\n",
      "Average FP Rate:  0\n"
     ]
    },
    {
     "data": {
      "application/vnd.jupyter.widget-view+json": {
       "model_id": "",
       "version_major": 2,
       "version_minor": 0
      },
      "text/plain": [
       "HBox(children=(FloatProgress(value=0.0, description='Training', layout=Layout(flex='2'), max=1250.0, style=Pro…"
      ]
     },
     "metadata": {},
     "output_type": "display_data"
    },
    {
     "name": "stdout",
     "output_type": "stream",
     "text": [
      "Epoch 1623: train=8.78824, val=8.6241, took 41.025 s\n",
      "  Validation Found 101573 of 108007, added 5312 (eff 94.04%) (0.266 FP/event)\n",
      "Result epoch:  1623\n",
      "Average Eff:  0\n",
      "Average FP Rate:  0\n"
     ]
    },
    {
     "data": {
      "application/vnd.jupyter.widget-view+json": {
       "model_id": "",
       "version_major": 2,
       "version_minor": 0
      },
      "text/plain": [
       "HBox(children=(FloatProgress(value=0.0, description='Training', layout=Layout(flex='2'), max=1250.0, style=Pro…"
      ]
     },
     "metadata": {},
     "output_type": "display_data"
    },
    {
     "name": "stdout",
     "output_type": "stream",
     "text": [
      "Epoch 1624: train=8.79254, val=8.63661, took 40.659 s\n",
      "  Validation Found 101724 of 108007, added 5544 (eff 94.18%) (0.277 FP/event)\n",
      "Result epoch:  1624\n",
      "Average Eff:  0\n",
      "Average FP Rate:  0\n"
     ]
    },
    {
     "data": {
      "application/vnd.jupyter.widget-view+json": {
       "model_id": "",
       "version_major": 2,
       "version_minor": 0
      },
      "text/plain": [
       "HBox(children=(FloatProgress(value=0.0, description='Training', layout=Layout(flex='2'), max=1250.0, style=Pro…"
      ]
     },
     "metadata": {},
     "output_type": "display_data"
    },
    {
     "name": "stdout",
     "output_type": "stream",
     "text": [
      "Epoch 1625: train=8.79351, val=8.63095, took 41.03 s\n",
      "  Validation Found 101677 of 108007, added 5469 (eff 94.14%) (0.273 FP/event)\n",
      "Result epoch:  1625\n",
      "Average Eff:  0\n",
      "Average FP Rate:  0\n"
     ]
    },
    {
     "data": {
      "application/vnd.jupyter.widget-view+json": {
       "model_id": "",
       "version_major": 2,
       "version_minor": 0
      },
      "text/plain": [
       "HBox(children=(FloatProgress(value=0.0, description='Training', layout=Layout(flex='2'), max=1250.0, style=Pro…"
      ]
     },
     "metadata": {},
     "output_type": "display_data"
    },
    {
     "name": "stdout",
     "output_type": "stream",
     "text": [
      "Epoch 1626: train=8.78545, val=8.64543, took 41.333 s\n",
      "  Validation Found 101625 of 108007, added 5395 (eff 94.09%) (0.27 FP/event)\n",
      "Result epoch:  1626\n",
      "Average Eff:  0\n",
      "Average FP Rate:  0\n"
     ]
    },
    {
     "data": {
      "application/vnd.jupyter.widget-view+json": {
       "model_id": "",
       "version_major": 2,
       "version_minor": 0
      },
      "text/plain": [
       "HBox(children=(FloatProgress(value=0.0, description='Training', layout=Layout(flex='2'), max=1250.0, style=Pro…"
      ]
     },
     "metadata": {},
     "output_type": "display_data"
    },
    {
     "name": "stdout",
     "output_type": "stream",
     "text": [
      "Epoch 1627: train=8.79591, val=8.63622, took 40.588 s\n",
      "  Validation Found 101604 of 108007, added 5353 (eff 94.07%) (0.268 FP/event)\n",
      "Result epoch:  1627\n",
      "Average Eff:  0\n",
      "Average FP Rate:  0\n"
     ]
    },
    {
     "data": {
      "application/vnd.jupyter.widget-view+json": {
       "model_id": "",
       "version_major": 2,
       "version_minor": 0
      },
      "text/plain": [
       "HBox(children=(FloatProgress(value=0.0, description='Training', layout=Layout(flex='2'), max=1250.0, style=Pro…"
      ]
     },
     "metadata": {},
     "output_type": "display_data"
    },
    {
     "name": "stdout",
     "output_type": "stream",
     "text": [
      "Epoch 1628: train=8.7892, val=8.63372, took 41.356 s\n",
      "  Validation Found 101574 of 108007, added 5307 (eff 94.04%) (0.265 FP/event)\n",
      "Result epoch:  1628\n",
      "Average Eff:  0\n",
      "Average FP Rate:  0\n"
     ]
    },
    {
     "data": {
      "application/vnd.jupyter.widget-view+json": {
       "model_id": "",
       "version_major": 2,
       "version_minor": 0
      },
      "text/plain": [
       "HBox(children=(FloatProgress(value=0.0, description='Training', layout=Layout(flex='2'), max=1250.0, style=Pro…"
      ]
     },
     "metadata": {},
     "output_type": "display_data"
    },
    {
     "name": "stdout",
     "output_type": "stream",
     "text": [
      "Epoch 1629: train=8.78956, val=8.63795, took 41.604 s\n",
      "  Validation Found 101545 of 108007, added 5293 (eff 94.02%) (0.265 FP/event)\n",
      "Result epoch:  1629\n",
      "Average Eff:  0\n",
      "Average FP Rate:  0\n"
     ]
    },
    {
     "data": {
      "application/vnd.jupyter.widget-view+json": {
       "model_id": "",
       "version_major": 2,
       "version_minor": 0
      },
      "text/plain": [
       "HBox(children=(FloatProgress(value=0.0, description='Training', layout=Layout(flex='2'), max=1250.0, style=Pro…"
      ]
     },
     "metadata": {},
     "output_type": "display_data"
    },
    {
     "name": "stdout",
     "output_type": "stream",
     "text": [
      "Epoch 1630: train=8.79139, val=8.63453, took 41.095 s\n",
      "  Validation Found 101670 of 108007, added 5443 (eff 94.13%) (0.272 FP/event)\n",
      "Result epoch:  1630\n",
      "Average Eff:  0\n",
      "Average FP Rate:  0\n"
     ]
    },
    {
     "data": {
      "application/vnd.jupyter.widget-view+json": {
       "model_id": "",
       "version_major": 2,
       "version_minor": 0
      },
      "text/plain": [
       "HBox(children=(FloatProgress(value=0.0, description='Training', layout=Layout(flex='2'), max=1250.0, style=Pro…"
      ]
     },
     "metadata": {},
     "output_type": "display_data"
    },
    {
     "name": "stdout",
     "output_type": "stream",
     "text": [
      "Epoch 1631: train=8.79012, val=8.64036, took 40.836 s\n",
      "  Validation Found 101693 of 108007, added 5496 (eff 94.15%) (0.275 FP/event)\n",
      "Result epoch:  1631\n",
      "Average Eff:  0\n",
      "Average FP Rate:  0\n"
     ]
    },
    {
     "data": {
      "application/vnd.jupyter.widget-view+json": {
       "model_id": "",
       "version_major": 2,
       "version_minor": 0
      },
      "text/plain": [
       "HBox(children=(FloatProgress(value=0.0, description='Training', layout=Layout(flex='2'), max=1250.0, style=Pro…"
      ]
     },
     "metadata": {},
     "output_type": "display_data"
    },
    {
     "name": "stdout",
     "output_type": "stream",
     "text": [
      "Epoch 1632: train=8.78664, val=8.63251, took 40.884 s\n",
      "  Validation Found 101705 of 108007, added 5513 (eff 94.17%) (0.276 FP/event)\n",
      "Result epoch:  1632\n",
      "Average Eff:  0\n",
      "Average FP Rate:  0\n"
     ]
    },
    {
     "data": {
      "application/vnd.jupyter.widget-view+json": {
       "model_id": "",
       "version_major": 2,
       "version_minor": 0
      },
      "text/plain": [
       "HBox(children=(FloatProgress(value=0.0, description='Training', layout=Layout(flex='2'), max=1250.0, style=Pro…"
      ]
     },
     "metadata": {},
     "output_type": "display_data"
    },
    {
     "name": "stdout",
     "output_type": "stream",
     "text": [
      "Epoch 1633: train=8.78899, val=8.62746, took 41.275 s\n",
      "  Validation Found 101629 of 108007, added 5402 (eff 94.09%) (0.27 FP/event)\n",
      "Result epoch:  1633\n",
      "Average Eff:  0\n",
      "Average FP Rate:  0\n"
     ]
    },
    {
     "data": {
      "application/vnd.jupyter.widget-view+json": {
       "model_id": "",
       "version_major": 2,
       "version_minor": 0
      },
      "text/plain": [
       "HBox(children=(FloatProgress(value=0.0, description='Training', layout=Layout(flex='2'), max=1250.0, style=Pro…"
      ]
     },
     "metadata": {},
     "output_type": "display_data"
    },
    {
     "name": "stdout",
     "output_type": "stream",
     "text": [
      "Epoch 1634: train=8.79119, val=8.63205, took 40.516 s\n",
      "  Validation Found 101628 of 108007, added 5377 (eff 94.09%) (0.269 FP/event)\n",
      "Result epoch:  1634\n",
      "Average Eff:  0\n",
      "Average FP Rate:  0\n"
     ]
    },
    {
     "data": {
      "application/vnd.jupyter.widget-view+json": {
       "model_id": "",
       "version_major": 2,
       "version_minor": 0
      },
      "text/plain": [
       "HBox(children=(FloatProgress(value=0.0, description='Training', layout=Layout(flex='2'), max=1250.0, style=Pro…"
      ]
     },
     "metadata": {},
     "output_type": "display_data"
    },
    {
     "name": "stdout",
     "output_type": "stream",
     "text": [
      "Epoch 1635: train=8.7902, val=8.62996, took 41.317 s\n",
      "  Validation Found 101726 of 108007, added 5558 (eff 94.18%) (0.278 FP/event)\n",
      "Result epoch:  1635\n",
      "Average Eff:  0\n",
      "Average FP Rate:  0\n"
     ]
    },
    {
     "data": {
      "application/vnd.jupyter.widget-view+json": {
       "model_id": "",
       "version_major": 2,
       "version_minor": 0
      },
      "text/plain": [
       "HBox(children=(FloatProgress(value=0.0, description='Training', layout=Layout(flex='2'), max=1250.0, style=Pro…"
      ]
     },
     "metadata": {},
     "output_type": "display_data"
    },
    {
     "name": "stdout",
     "output_type": "stream",
     "text": [
      "Epoch 1636: train=8.78953, val=8.63339, took 40.696 s\n",
      "  Validation Found 101727 of 108007, added 5584 (eff 94.19%) (0.279 FP/event)\n",
      "Result epoch:  1636\n",
      "Average Eff:  0\n",
      "Average FP Rate:  0\n"
     ]
    },
    {
     "data": {
      "application/vnd.jupyter.widget-view+json": {
       "model_id": "",
       "version_major": 2,
       "version_minor": 0
      },
      "text/plain": [
       "HBox(children=(FloatProgress(value=0.0, description='Training', layout=Layout(flex='2'), max=1250.0, style=Pro…"
      ]
     },
     "metadata": {},
     "output_type": "display_data"
    },
    {
     "name": "stdout",
     "output_type": "stream",
     "text": [
      "Epoch 1637: train=8.78487, val=8.62862, took 42.144 s\n",
      "  Validation Found 101623 of 108007, added 5372 (eff 94.09%) (0.269 FP/event)\n",
      "Result epoch:  1637\n",
      "Average Eff:  0\n",
      "Average FP Rate:  0\n"
     ]
    },
    {
     "data": {
      "application/vnd.jupyter.widget-view+json": {
       "model_id": "",
       "version_major": 2,
       "version_minor": 0
      },
      "text/plain": [
       "HBox(children=(FloatProgress(value=0.0, description='Training', layout=Layout(flex='2'), max=1250.0, style=Pro…"
      ]
     },
     "metadata": {},
     "output_type": "display_data"
    },
    {
     "name": "stdout",
     "output_type": "stream",
     "text": [
      "Epoch 1638: train=8.7885, val=8.63973, took 40.991 s\n",
      "  Validation Found 101570 of 108007, added 5312 (eff 94.04%) (0.266 FP/event)\n",
      "Result epoch:  1638\n",
      "Average Eff:  0\n",
      "Average FP Rate:  0\n"
     ]
    },
    {
     "data": {
      "application/vnd.jupyter.widget-view+json": {
       "model_id": "",
       "version_major": 2,
       "version_minor": 0
      },
      "text/plain": [
       "HBox(children=(FloatProgress(value=0.0, description='Training', layout=Layout(flex='2'), max=1250.0, style=Pro…"
      ]
     },
     "metadata": {},
     "output_type": "display_data"
    },
    {
     "name": "stdout",
     "output_type": "stream",
     "text": [
      "Epoch 1639: train=8.79164, val=8.63146, took 40.857 s\n",
      "  Validation Found 101728 of 108007, added 5558 (eff 94.19%) (0.278 FP/event)\n",
      "Result epoch:  1639\n",
      "Average Eff:  0\n",
      "Average FP Rate:  0\n"
     ]
    },
    {
     "data": {
      "application/vnd.jupyter.widget-view+json": {
       "model_id": "",
       "version_major": 2,
       "version_minor": 0
      },
      "text/plain": [
       "HBox(children=(FloatProgress(value=0.0, description='Training', layout=Layout(flex='2'), max=1250.0, style=Pro…"
      ]
     },
     "metadata": {},
     "output_type": "display_data"
    },
    {
     "name": "stdout",
     "output_type": "stream",
     "text": [
      "Epoch 1640: train=8.78508, val=8.63165, took 42.302 s\n",
      "  Validation Found 101603 of 108007, added 5333 (eff 94.07%) (0.267 FP/event)\n",
      "Result epoch:  1640\n",
      "Average Eff:  0\n",
      "Average FP Rate:  0\n"
     ]
    },
    {
     "data": {
      "application/vnd.jupyter.widget-view+json": {
       "model_id": "",
       "version_major": 2,
       "version_minor": 0
      },
      "text/plain": [
       "HBox(children=(FloatProgress(value=0.0, description='Training', layout=Layout(flex='2'), max=1250.0, style=Pro…"
      ]
     },
     "metadata": {},
     "output_type": "display_data"
    },
    {
     "name": "stdout",
     "output_type": "stream",
     "text": [
      "Epoch 1641: train=8.78875, val=8.62418, took 41.534 s\n",
      "  Validation Found 101649 of 108007, added 5387 (eff 94.11%) (0.269 FP/event)\n",
      "Result epoch:  1641\n",
      "Average Eff:  0\n",
      "Average FP Rate:  0\n"
     ]
    },
    {
     "data": {
      "application/vnd.jupyter.widget-view+json": {
       "model_id": "",
       "version_major": 2,
       "version_minor": 0
      },
      "text/plain": [
       "HBox(children=(FloatProgress(value=0.0, description='Training', layout=Layout(flex='2'), max=1250.0, style=Pro…"
      ]
     },
     "metadata": {},
     "output_type": "display_data"
    },
    {
     "name": "stdout",
     "output_type": "stream",
     "text": [
      "Epoch 1642: train=8.78721, val=8.62268, took 42.188 s\n",
      "  Validation Found 101735 of 108007, added 5565 (eff 94.19%) (0.278 FP/event)\n",
      "Result epoch:  1642\n",
      "Average Eff:  0\n",
      "Average FP Rate:  0\n"
     ]
    },
    {
     "data": {
      "application/vnd.jupyter.widget-view+json": {
       "model_id": "",
       "version_major": 2,
       "version_minor": 0
      },
      "text/plain": [
       "HBox(children=(FloatProgress(value=0.0, description='Training', layout=Layout(flex='2'), max=1250.0, style=Pro…"
      ]
     },
     "metadata": {},
     "output_type": "display_data"
    },
    {
     "name": "stdout",
     "output_type": "stream",
     "text": [
      "Epoch 1643: train=8.79107, val=8.63726, took 41.749 s\n",
      "  Validation Found 101613 of 108007, added 5341 (eff 94.08%) (0.267 FP/event)\n",
      "Result epoch:  1643\n",
      "Average Eff:  0\n",
      "Average FP Rate:  0\n"
     ]
    },
    {
     "data": {
      "application/vnd.jupyter.widget-view+json": {
       "model_id": "",
       "version_major": 2,
       "version_minor": 0
      },
      "text/plain": [
       "HBox(children=(FloatProgress(value=0.0, description='Training', layout=Layout(flex='2'), max=1250.0, style=Pro…"
      ]
     },
     "metadata": {},
     "output_type": "display_data"
    },
    {
     "name": "stdout",
     "output_type": "stream",
     "text": [
      "Epoch 1644: train=8.7872, val=8.63642, took 41.965 s\n",
      "  Validation Found 101681 of 108007, added 5462 (eff 94.14%) (0.273 FP/event)\n",
      "Result epoch:  1644\n",
      "Average Eff:  0\n",
      "Average FP Rate:  0\n"
     ]
    },
    {
     "data": {
      "application/vnd.jupyter.widget-view+json": {
       "model_id": "",
       "version_major": 2,
       "version_minor": 0
      },
      "text/plain": [
       "HBox(children=(FloatProgress(value=0.0, description='Training', layout=Layout(flex='2'), max=1250.0, style=Pro…"
      ]
     },
     "metadata": {},
     "output_type": "display_data"
    },
    {
     "name": "stdout",
     "output_type": "stream",
     "text": [
      "Epoch 1645: train=8.78715, val=8.62875, took 41.485 s\n",
      "  Validation Found 101689 of 108007, added 5480 (eff 94.15%) (0.274 FP/event)\n",
      "Result epoch:  1645\n",
      "Average Eff:  0\n",
      "Average FP Rate:  0\n"
     ]
    },
    {
     "data": {
      "application/vnd.jupyter.widget-view+json": {
       "model_id": "",
       "version_major": 2,
       "version_minor": 0
      },
      "text/plain": [
       "HBox(children=(FloatProgress(value=0.0, description='Training', layout=Layout(flex='2'), max=1250.0, style=Pro…"
      ]
     },
     "metadata": {},
     "output_type": "display_data"
    },
    {
     "name": "stdout",
     "output_type": "stream",
     "text": [
      "Epoch 1646: train=8.79202, val=8.63002, took 40.443 s\n",
      "  Validation Found 101607 of 108007, added 5353 (eff 94.07%) (0.268 FP/event)\n",
      "Result epoch:  1646\n",
      "Average Eff:  0\n",
      "Average FP Rate:  0\n"
     ]
    },
    {
     "data": {
      "application/vnd.jupyter.widget-view+json": {
       "model_id": "",
       "version_major": 2,
       "version_minor": 0
      },
      "text/plain": [
       "HBox(children=(FloatProgress(value=0.0, description='Training', layout=Layout(flex='2'), max=1250.0, style=Pro…"
      ]
     },
     "metadata": {},
     "output_type": "display_data"
    },
    {
     "name": "stdout",
     "output_type": "stream",
     "text": [
      "Epoch 1647: train=8.79011, val=8.63759, took 41.24 s\n",
      "  Validation Found 101677 of 108007, added 5463 (eff 94.14%) (0.273 FP/event)\n",
      "Result epoch:  1647\n",
      "Average Eff:  0\n",
      "Average FP Rate:  0\n"
     ]
    },
    {
     "data": {
      "application/vnd.jupyter.widget-view+json": {
       "model_id": "",
       "version_major": 2,
       "version_minor": 0
      },
      "text/plain": [
       "HBox(children=(FloatProgress(value=0.0, description='Training', layout=Layout(flex='2'), max=1250.0, style=Pro…"
      ]
     },
     "metadata": {},
     "output_type": "display_data"
    },
    {
     "name": "stdout",
     "output_type": "stream",
     "text": [
      "Epoch 1648: train=8.78713, val=8.63289, took 40.558 s\n",
      "  Validation Found 101712 of 108007, added 5551 (eff 94.17%) (0.278 FP/event)\n",
      "Result epoch:  1648\n",
      "Average Eff:  0\n",
      "Average FP Rate:  0\n"
     ]
    },
    {
     "data": {
      "application/vnd.jupyter.widget-view+json": {
       "model_id": "",
       "version_major": 2,
       "version_minor": 0
      },
      "text/plain": [
       "HBox(children=(FloatProgress(value=0.0, description='Training', layout=Layout(flex='2'), max=1250.0, style=Pro…"
      ]
     },
     "metadata": {},
     "output_type": "display_data"
    },
    {
     "name": "stdout",
     "output_type": "stream",
     "text": [
      "Epoch 1649: train=8.78659, val=8.62895, took 40.991 s\n",
      "  Validation Found 101671 of 108007, added 5484 (eff 94.13%) (0.274 FP/event)\n",
      "Result epoch:  1649\n",
      "Average Eff:  0\n",
      "Average FP Rate:  0\n"
     ]
    },
    {
     "data": {
      "application/vnd.jupyter.widget-view+json": {
       "model_id": "",
       "version_major": 2,
       "version_minor": 0
      },
      "text/plain": [
       "HBox(children=(FloatProgress(value=0.0, description='Training', layout=Layout(flex='2'), max=1250.0, style=Pro…"
      ]
     },
     "metadata": {},
     "output_type": "display_data"
    },
    {
     "name": "stdout",
     "output_type": "stream",
     "text": [
      "Epoch 1650: train=8.78841, val=8.64085, took 40.752 s\n",
      "  Validation Found 101538 of 108007, added 5271 (eff 94.01%) (0.264 FP/event)\n",
      "Result epoch:  1650\n",
      "Average Eff:  0\n",
      "Average FP Rate:  0\n"
     ]
    },
    {
     "data": {
      "application/vnd.jupyter.widget-view+json": {
       "model_id": "",
       "version_major": 2,
       "version_minor": 0
      },
      "text/plain": [
       "HBox(children=(FloatProgress(value=0.0, description='Training', layout=Layout(flex='2'), max=1250.0, style=Pro…"
      ]
     },
     "metadata": {},
     "output_type": "display_data"
    },
    {
     "name": "stdout",
     "output_type": "stream",
     "text": [
      "Epoch 1651: train=8.78375, val=8.62938, took 40.851 s\n",
      "  Validation Found 101617 of 108007, added 5367 (eff 94.08%) (0.268 FP/event)\n",
      "Result epoch:  1651\n",
      "Average Eff:  0\n",
      "Average FP Rate:  0\n"
     ]
    },
    {
     "data": {
      "application/vnd.jupyter.widget-view+json": {
       "model_id": "",
       "version_major": 2,
       "version_minor": 0
      },
      "text/plain": [
       "HBox(children=(FloatProgress(value=0.0, description='Training', layout=Layout(flex='2'), max=1250.0, style=Pro…"
      ]
     },
     "metadata": {},
     "output_type": "display_data"
    },
    {
     "name": "stdout",
     "output_type": "stream",
     "text": [
      "Epoch 1652: train=8.78385, val=8.63816, took 41.467 s\n",
      "  Validation Found 101544 of 108007, added 5303 (eff 94.02%) (0.265 FP/event)\n",
      "Result epoch:  1652\n",
      "Average Eff:  0\n",
      "Average FP Rate:  0\n"
     ]
    },
    {
     "data": {
      "application/vnd.jupyter.widget-view+json": {
       "model_id": "",
       "version_major": 2,
       "version_minor": 0
      },
      "text/plain": [
       "HBox(children=(FloatProgress(value=0.0, description='Training', layout=Layout(flex='2'), max=1250.0, style=Pro…"
      ]
     },
     "metadata": {},
     "output_type": "display_data"
    },
    {
     "name": "stdout",
     "output_type": "stream",
     "text": [
      "Epoch 1653: train=8.7881, val=8.63462, took 40.717 s\n",
      "  Validation Found 101588 of 108007, added 5354 (eff 94.06%) (0.268 FP/event)\n",
      "Result epoch:  1653\n",
      "Average Eff:  0\n",
      "Average FP Rate:  0\n"
     ]
    },
    {
     "data": {
      "application/vnd.jupyter.widget-view+json": {
       "model_id": "",
       "version_major": 2,
       "version_minor": 0
      },
      "text/plain": [
       "HBox(children=(FloatProgress(value=0.0, description='Training', layout=Layout(flex='2'), max=1250.0, style=Pro…"
      ]
     },
     "metadata": {},
     "output_type": "display_data"
    },
    {
     "name": "stdout",
     "output_type": "stream",
     "text": [
      "Epoch 1654: train=8.78742, val=8.63784, took 41.348 s\n",
      "  Validation Found 101713 of 108007, added 5540 (eff 94.17%) (0.277 FP/event)\n",
      "Result epoch:  1654\n",
      "Average Eff:  0\n",
      "Average FP Rate:  0\n"
     ]
    },
    {
     "data": {
      "application/vnd.jupyter.widget-view+json": {
       "model_id": "",
       "version_major": 2,
       "version_minor": 0
      },
      "text/plain": [
       "HBox(children=(FloatProgress(value=0.0, description='Training', layout=Layout(flex='2'), max=1250.0, style=Pro…"
      ]
     },
     "metadata": {},
     "output_type": "display_data"
    },
    {
     "name": "stdout",
     "output_type": "stream",
     "text": [
      "Epoch 1655: train=8.79205, val=8.63764, took 40.751 s\n",
      "  Validation Found 101734 of 108007, added 5612 (eff 94.19%) (0.281 FP/event)\n",
      "Result epoch:  1655\n",
      "Average Eff:  0\n",
      "Average FP Rate:  0\n"
     ]
    },
    {
     "data": {
      "application/vnd.jupyter.widget-view+json": {
       "model_id": "",
       "version_major": 2,
       "version_minor": 0
      },
      "text/plain": [
       "HBox(children=(FloatProgress(value=0.0, description='Training', layout=Layout(flex='2'), max=1250.0, style=Pro…"
      ]
     },
     "metadata": {},
     "output_type": "display_data"
    },
    {
     "name": "stdout",
     "output_type": "stream",
     "text": [
      "Epoch 1656: train=8.78523, val=8.63163, took 41.113 s\n",
      "  Validation Found 101608 of 108007, added 5351 (eff 94.08%) (0.268 FP/event)\n",
      "Result epoch:  1656\n",
      "Average Eff:  0\n",
      "Average FP Rate:  0\n"
     ]
    },
    {
     "data": {
      "application/vnd.jupyter.widget-view+json": {
       "model_id": "",
       "version_major": 2,
       "version_minor": 0
      },
      "text/plain": [
       "HBox(children=(FloatProgress(value=0.0, description='Training', layout=Layout(flex='2'), max=1250.0, style=Pro…"
      ]
     },
     "metadata": {},
     "output_type": "display_data"
    },
    {
     "name": "stdout",
     "output_type": "stream",
     "text": [
      "Epoch 1657: train=8.78556, val=8.62973, took 41.02 s\n",
      "  Validation Found 101682 of 108007, added 5450 (eff 94.14%) (0.272 FP/event)\n",
      "Result epoch:  1657\n",
      "Average Eff:  0\n",
      "Average FP Rate:  0\n"
     ]
    },
    {
     "data": {
      "application/vnd.jupyter.widget-view+json": {
       "model_id": "",
       "version_major": 2,
       "version_minor": 0
      },
      "text/plain": [
       "HBox(children=(FloatProgress(value=0.0, description='Training', layout=Layout(flex='2'), max=1250.0, style=Pro…"
      ]
     },
     "metadata": {},
     "output_type": "display_data"
    },
    {
     "name": "stdout",
     "output_type": "stream",
     "text": [
      "Epoch 1658: train=8.78982, val=8.62691, took 41.829 s\n",
      "  Validation Found 101616 of 108007, added 5355 (eff 94.08%) (0.268 FP/event)\n",
      "Result epoch:  1658\n",
      "Average Eff:  0\n",
      "Average FP Rate:  0\n"
     ]
    },
    {
     "data": {
      "application/vnd.jupyter.widget-view+json": {
       "model_id": "",
       "version_major": 2,
       "version_minor": 0
      },
      "text/plain": [
       "HBox(children=(FloatProgress(value=0.0, description='Training', layout=Layout(flex='2'), max=1250.0, style=Pro…"
      ]
     },
     "metadata": {},
     "output_type": "display_data"
    },
    {
     "name": "stdout",
     "output_type": "stream",
     "text": [
      "Epoch 1659: train=8.78254, val=8.62653, took 42.287 s\n",
      "  Validation Found 101645 of 108007, added 5404 (eff 94.11%) (0.27 FP/event)\n",
      "Result epoch:  1659\n",
      "Average Eff:  0\n",
      "Average FP Rate:  0\n"
     ]
    },
    {
     "data": {
      "application/vnd.jupyter.widget-view+json": {
       "model_id": "",
       "version_major": 2,
       "version_minor": 0
      },
      "text/plain": [
       "HBox(children=(FloatProgress(value=0.0, description='Training', layout=Layout(flex='2'), max=1250.0, style=Pro…"
      ]
     },
     "metadata": {},
     "output_type": "display_data"
    },
    {
     "name": "stdout",
     "output_type": "stream",
     "text": [
      "Epoch 1660: train=8.78753, val=8.63373, took 41.589 s\n",
      "  Validation Found 101649 of 108007, added 5412 (eff 94.11%) (0.271 FP/event)\n",
      "Result epoch:  1660\n",
      "Average Eff:  0\n",
      "Average FP Rate:  0\n"
     ]
    },
    {
     "data": {
      "application/vnd.jupyter.widget-view+json": {
       "model_id": "",
       "version_major": 2,
       "version_minor": 0
      },
      "text/plain": [
       "HBox(children=(FloatProgress(value=0.0, description='Training', layout=Layout(flex='2'), max=1250.0, style=Pro…"
      ]
     },
     "metadata": {},
     "output_type": "display_data"
    },
    {
     "name": "stdout",
     "output_type": "stream",
     "text": [
      "Epoch 1661: train=8.78606, val=8.63181, took 42.166 s\n",
      "  Validation Found 101633 of 108007, added 5387 (eff 94.10%) (0.269 FP/event)\n",
      "Result epoch:  1661\n",
      "Average Eff:  0\n",
      "Average FP Rate:  0\n"
     ]
    },
    {
     "data": {
      "application/vnd.jupyter.widget-view+json": {
       "model_id": "",
       "version_major": 2,
       "version_minor": 0
      },
      "text/plain": [
       "HBox(children=(FloatProgress(value=0.0, description='Training', layout=Layout(flex='2'), max=1250.0, style=Pro…"
      ]
     },
     "metadata": {},
     "output_type": "display_data"
    },
    {
     "name": "stdout",
     "output_type": "stream",
     "text": [
      "Epoch 1662: train=8.78535, val=8.62952, took 41.826 s\n",
      "  Validation Found 101599 of 108007, added 5332 (eff 94.07%) (0.267 FP/event)\n",
      "Result epoch:  1662\n",
      "Average Eff:  0\n",
      "Average FP Rate:  0\n"
     ]
    },
    {
     "data": {
      "application/vnd.jupyter.widget-view+json": {
       "model_id": "",
       "version_major": 2,
       "version_minor": 0
      },
      "text/plain": [
       "HBox(children=(FloatProgress(value=0.0, description='Training', layout=Layout(flex='2'), max=1250.0, style=Pro…"
      ]
     },
     "metadata": {},
     "output_type": "display_data"
    },
    {
     "name": "stdout",
     "output_type": "stream",
     "text": [
      "Epoch 1663: train=8.78693, val=8.6436, took 40.957 s\n",
      "  Validation Found 101635 of 108007, added 5407 (eff 94.10%) (0.27 FP/event)\n",
      "Result epoch:  1663\n",
      "Average Eff:  0\n",
      "Average FP Rate:  0\n"
     ]
    },
    {
     "data": {
      "application/vnd.jupyter.widget-view+json": {
       "model_id": "",
       "version_major": 2,
       "version_minor": 0
      },
      "text/plain": [
       "HBox(children=(FloatProgress(value=0.0, description='Training', layout=Layout(flex='2'), max=1250.0, style=Pro…"
      ]
     },
     "metadata": {},
     "output_type": "display_data"
    },
    {
     "name": "stdout",
     "output_type": "stream",
     "text": [
      "Epoch 1664: train=8.78815, val=8.63141, took 41.41 s\n",
      "  Validation Found 101666 of 108007, added 5463 (eff 94.13%) (0.273 FP/event)\n",
      "Result epoch:  1664\n",
      "Average Eff:  0\n",
      "Average FP Rate:  0\n"
     ]
    },
    {
     "data": {
      "application/vnd.jupyter.widget-view+json": {
       "model_id": "",
       "version_major": 2,
       "version_minor": 0
      },
      "text/plain": [
       "HBox(children=(FloatProgress(value=0.0, description='Training', layout=Layout(flex='2'), max=1250.0, style=Pro…"
      ]
     },
     "metadata": {},
     "output_type": "display_data"
    },
    {
     "name": "stdout",
     "output_type": "stream",
     "text": [
      "Epoch 1665: train=8.78208, val=8.63294, took 40.433 s\n",
      "  Validation Found 101571 of 108007, added 5312 (eff 94.04%) (0.266 FP/event)\n",
      "Result epoch:  1665\n",
      "Average Eff:  0\n",
      "Average FP Rate:  0\n"
     ]
    },
    {
     "data": {
      "application/vnd.jupyter.widget-view+json": {
       "model_id": "",
       "version_major": 2,
       "version_minor": 0
      },
      "text/plain": [
       "HBox(children=(FloatProgress(value=0.0, description='Training', layout=Layout(flex='2'), max=1250.0, style=Pro…"
      ]
     },
     "metadata": {},
     "output_type": "display_data"
    },
    {
     "name": "stdout",
     "output_type": "stream",
     "text": [
      "Epoch 1666: train=8.79036, val=8.6354, took 41.223 s\n",
      "  Validation Found 101592 of 108007, added 5338 (eff 94.06%) (0.267 FP/event)\n",
      "Result epoch:  1666\n",
      "Average Eff:  0\n",
      "Average FP Rate:  0\n"
     ]
    },
    {
     "data": {
      "application/vnd.jupyter.widget-view+json": {
       "model_id": "",
       "version_major": 2,
       "version_minor": 0
      },
      "text/plain": [
       "HBox(children=(FloatProgress(value=0.0, description='Training', layout=Layout(flex='2'), max=1250.0, style=Pro…"
      ]
     },
     "metadata": {},
     "output_type": "display_data"
    },
    {
     "name": "stdout",
     "output_type": "stream",
     "text": [
      "Epoch 1667: train=8.78886, val=8.62893, took 40.546 s\n",
      "  Validation Found 101686 of 108007, added 5455 (eff 94.15%) (0.273 FP/event)\n",
      "Result epoch:  1667\n",
      "Average Eff:  0\n",
      "Average FP Rate:  0\n"
     ]
    },
    {
     "data": {
      "application/vnd.jupyter.widget-view+json": {
       "model_id": "",
       "version_major": 2,
       "version_minor": 0
      },
      "text/plain": [
       "HBox(children=(FloatProgress(value=0.0, description='Training', layout=Layout(flex='2'), max=1250.0, style=Pro…"
      ]
     },
     "metadata": {},
     "output_type": "display_data"
    },
    {
     "name": "stdout",
     "output_type": "stream",
     "text": [
      "Epoch 1668: train=8.78446, val=8.62933, took 40.972 s\n",
      "  Validation Found 101627 of 108007, added 5399 (eff 94.09%) (0.27 FP/event)\n",
      "Result epoch:  1668\n",
      "Average Eff:  0\n",
      "Average FP Rate:  0\n"
     ]
    },
    {
     "data": {
      "application/vnd.jupyter.widget-view+json": {
       "model_id": "",
       "version_major": 2,
       "version_minor": 0
      },
      "text/plain": [
       "HBox(children=(FloatProgress(value=0.0, description='Training', layout=Layout(flex='2'), max=1250.0, style=Pro…"
      ]
     },
     "metadata": {},
     "output_type": "display_data"
    },
    {
     "name": "stdout",
     "output_type": "stream",
     "text": [
      "Epoch 1669: train=8.7857, val=8.62926, took 40.784 s\n",
      "  Validation Found 101702 of 108007, added 5508 (eff 94.16%) (0.275 FP/event)\n",
      "Result epoch:  1669\n",
      "Average Eff:  0\n",
      "Average FP Rate:  0\n"
     ]
    },
    {
     "data": {
      "application/vnd.jupyter.widget-view+json": {
       "model_id": "",
       "version_major": 2,
       "version_minor": 0
      },
      "text/plain": [
       "HBox(children=(FloatProgress(value=0.0, description='Training', layout=Layout(flex='2'), max=1250.0, style=Pro…"
      ]
     },
     "metadata": {},
     "output_type": "display_data"
    },
    {
     "name": "stdout",
     "output_type": "stream",
     "text": [
      "Epoch 1670: train=8.78829, val=8.62153, took 40.832 s\n",
      "  Validation Found 101654 of 108007, added 5407 (eff 94.12%) (0.27 FP/event)\n",
      "Result epoch:  1670\n",
      "Average Eff:  0\n",
      "Average FP Rate:  0\n"
     ]
    },
    {
     "data": {
      "application/vnd.jupyter.widget-view+json": {
       "model_id": "",
       "version_major": 2,
       "version_minor": 0
      },
      "text/plain": [
       "HBox(children=(FloatProgress(value=0.0, description='Training', layout=Layout(flex='2'), max=1250.0, style=Pro…"
      ]
     },
     "metadata": {},
     "output_type": "display_data"
    },
    {
     "name": "stdout",
     "output_type": "stream",
     "text": [
      "Epoch 1671: train=8.78695, val=8.62772, took 42.333 s\n",
      "  Validation Found 101623 of 108007, added 5364 (eff 94.09%) (0.268 FP/event)\n",
      "Result epoch:  1671\n",
      "Average Eff:  0\n",
      "Average FP Rate:  0\n"
     ]
    },
    {
     "data": {
      "application/vnd.jupyter.widget-view+json": {
       "model_id": "",
       "version_major": 2,
       "version_minor": 0
      },
      "text/plain": [
       "HBox(children=(FloatProgress(value=0.0, description='Training', layout=Layout(flex='2'), max=1250.0, style=Pro…"
      ]
     },
     "metadata": {},
     "output_type": "display_data"
    },
    {
     "name": "stdout",
     "output_type": "stream",
     "text": [
      "Epoch 1672: train=8.78785, val=8.62866, took 42.092 s\n",
      "  Validation Found 101631 of 108007, added 5392 (eff 94.10%) (0.27 FP/event)\n",
      "Result epoch:  1672\n",
      "Average Eff:  0\n",
      "Average FP Rate:  0\n"
     ]
    },
    {
     "data": {
      "application/vnd.jupyter.widget-view+json": {
       "model_id": "",
       "version_major": 2,
       "version_minor": 0
      },
      "text/plain": [
       "HBox(children=(FloatProgress(value=0.0, description='Training', layout=Layout(flex='2'), max=1250.0, style=Pro…"
      ]
     },
     "metadata": {},
     "output_type": "display_data"
    },
    {
     "name": "stdout",
     "output_type": "stream",
     "text": [
      "Epoch 1673: train=8.79041, val=8.63031, took 41.592 s\n",
      "  Validation Found 101690 of 108007, added 5485 (eff 94.15%) (0.274 FP/event)\n",
      "Result epoch:  1673\n",
      "Average Eff:  0\n",
      "Average FP Rate:  0\n"
     ]
    },
    {
     "data": {
      "application/vnd.jupyter.widget-view+json": {
       "model_id": "",
       "version_major": 2,
       "version_minor": 0
      },
      "text/plain": [
       "HBox(children=(FloatProgress(value=0.0, description='Training', layout=Layout(flex='2'), max=1250.0, style=Pro…"
      ]
     },
     "metadata": {},
     "output_type": "display_data"
    },
    {
     "name": "stdout",
     "output_type": "stream",
     "text": [
      "Epoch 1674: train=8.78846, val=8.62152, took 41.384 s\n",
      "  Validation Found 101650 of 108007, added 5399 (eff 94.11%) (0.27 FP/event)\n",
      "Result epoch:  1674\n",
      "Average Eff:  0\n",
      "Average FP Rate:  0\n"
     ]
    },
    {
     "data": {
      "application/vnd.jupyter.widget-view+json": {
       "model_id": "",
       "version_major": 2,
       "version_minor": 0
      },
      "text/plain": [
       "HBox(children=(FloatProgress(value=0.0, description='Training', layout=Layout(flex='2'), max=1250.0, style=Pro…"
      ]
     },
     "metadata": {},
     "output_type": "display_data"
    },
    {
     "name": "stdout",
     "output_type": "stream",
     "text": [
      "Epoch 1675: train=8.78807, val=8.63014, took 40.778 s\n",
      "  Validation Found 101615 of 108007, added 5349 (eff 94.08%) (0.267 FP/event)\n",
      "Result epoch:  1675\n",
      "Average Eff:  0\n",
      "Average FP Rate:  0\n"
     ]
    },
    {
     "data": {
      "application/vnd.jupyter.widget-view+json": {
       "model_id": "",
       "version_major": 2,
       "version_minor": 0
      },
      "text/plain": [
       "HBox(children=(FloatProgress(value=0.0, description='Training', layout=Layout(flex='2'), max=1250.0, style=Pro…"
      ]
     },
     "metadata": {},
     "output_type": "display_data"
    },
    {
     "name": "stdout",
     "output_type": "stream",
     "text": [
      "Epoch 1676: train=8.78929, val=8.63157, took 40.894 s\n",
      "  Validation Found 101564 of 108007, added 5317 (eff 94.03%) (0.266 FP/event)\n",
      "Result epoch:  1676\n",
      "Average Eff:  0\n",
      "Average FP Rate:  0\n"
     ]
    },
    {
     "data": {
      "application/vnd.jupyter.widget-view+json": {
       "model_id": "",
       "version_major": 2,
       "version_minor": 0
      },
      "text/plain": [
       "HBox(children=(FloatProgress(value=0.0, description='Training', layout=Layout(flex='2'), max=1250.0, style=Pro…"
      ]
     },
     "metadata": {},
     "output_type": "display_data"
    },
    {
     "name": "stdout",
     "output_type": "stream",
     "text": [
      "Epoch 1677: train=8.78799, val=8.6333, took 41.377 s\n",
      "  Validation Found 101653 of 108007, added 5410 (eff 94.12%) (0.27 FP/event)\n",
      "Result epoch:  1677\n",
      "Average Eff:  0\n",
      "Average FP Rate:  0\n"
     ]
    },
    {
     "data": {
      "application/vnd.jupyter.widget-view+json": {
       "model_id": "",
       "version_major": 2,
       "version_minor": 0
      },
      "text/plain": [
       "HBox(children=(FloatProgress(value=0.0, description='Training', layout=Layout(flex='2'), max=1250.0, style=Pro…"
      ]
     },
     "metadata": {},
     "output_type": "display_data"
    },
    {
     "name": "stdout",
     "output_type": "stream",
     "text": [
      "Epoch 1678: train=8.78668, val=8.62836, took 40.705 s\n",
      "  Validation Found 101690 of 108007, added 5488 (eff 94.15%) (0.274 FP/event)\n",
      "Result epoch:  1678\n",
      "Average Eff:  0\n",
      "Average FP Rate:  0\n"
     ]
    },
    {
     "data": {
      "application/vnd.jupyter.widget-view+json": {
       "model_id": "",
       "version_major": 2,
       "version_minor": 0
      },
      "text/plain": [
       "HBox(children=(FloatProgress(value=0.0, description='Training', layout=Layout(flex='2'), max=1250.0, style=Pro…"
      ]
     },
     "metadata": {},
     "output_type": "display_data"
    },
    {
     "name": "stdout",
     "output_type": "stream",
     "text": [
      "Epoch 1679: train=8.78647, val=8.62963, took 41.408 s\n",
      "  Validation Found 101618 of 108007, added 5389 (eff 94.08%) (0.269 FP/event)\n",
      "Result epoch:  1679\n",
      "Average Eff:  0\n",
      "Average FP Rate:  0\n"
     ]
    },
    {
     "data": {
      "application/vnd.jupyter.widget-view+json": {
       "model_id": "",
       "version_major": 2,
       "version_minor": 0
      },
      "text/plain": [
       "HBox(children=(FloatProgress(value=0.0, description='Training', layout=Layout(flex='2'), max=1250.0, style=Pro…"
      ]
     },
     "metadata": {},
     "output_type": "display_data"
    },
    {
     "name": "stdout",
     "output_type": "stream",
     "text": [
      "Epoch 1680: train=8.78341, val=8.63074, took 40.788 s\n",
      "  Validation Found 101690 of 108007, added 5479 (eff 94.15%) (0.274 FP/event)\n",
      "Result epoch:  1680\n",
      "Average Eff:  0\n",
      "Average FP Rate:  0\n"
     ]
    },
    {
     "data": {
      "application/vnd.jupyter.widget-view+json": {
       "model_id": "",
       "version_major": 2,
       "version_minor": 0
      },
      "text/plain": [
       "HBox(children=(FloatProgress(value=0.0, description='Training', layout=Layout(flex='2'), max=1250.0, style=Pro…"
      ]
     },
     "metadata": {},
     "output_type": "display_data"
    },
    {
     "name": "stdout",
     "output_type": "stream",
     "text": [
      "Epoch 1681: train=8.7887, val=8.63578, took 41.21 s\n",
      "  Validation Found 101697 of 108007, added 5476 (eff 94.16%) (0.274 FP/event)\n",
      "Result epoch:  1681\n",
      "Average Eff:  0\n",
      "Average FP Rate:  0\n"
     ]
    },
    {
     "data": {
      "application/vnd.jupyter.widget-view+json": {
       "model_id": "",
       "version_major": 2,
       "version_minor": 0
      },
      "text/plain": [
       "HBox(children=(FloatProgress(value=0.0, description='Training', layout=Layout(flex='2'), max=1250.0, style=Pro…"
      ]
     },
     "metadata": {},
     "output_type": "display_data"
    },
    {
     "name": "stdout",
     "output_type": "stream",
     "text": [
      "Epoch 1682: train=8.7874, val=8.63608, took 41.92 s\n",
      "  Validation Found 101659 of 108007, added 5444 (eff 94.12%) (0.272 FP/event)\n",
      "Result epoch:  1682\n",
      "Average Eff:  0\n",
      "Average FP Rate:  0\n"
     ]
    },
    {
     "data": {
      "application/vnd.jupyter.widget-view+json": {
       "model_id": "",
       "version_major": 2,
       "version_minor": 0
      },
      "text/plain": [
       "HBox(children=(FloatProgress(value=0.0, description='Training', layout=Layout(flex='2'), max=1250.0, style=Pro…"
      ]
     },
     "metadata": {},
     "output_type": "display_data"
    },
    {
     "name": "stdout",
     "output_type": "stream",
     "text": [
      "Epoch 1683: train=8.78757, val=8.63928, took 41.907 s\n",
      "  Validation Found 101600 of 108007, added 5345 (eff 94.07%) (0.267 FP/event)\n",
      "Result epoch:  1683\n",
      "Average Eff:  0\n",
      "Average FP Rate:  0\n"
     ]
    },
    {
     "data": {
      "application/vnd.jupyter.widget-view+json": {
       "model_id": "",
       "version_major": 2,
       "version_minor": 0
      },
      "text/plain": [
       "HBox(children=(FloatProgress(value=0.0, description='Training', layout=Layout(flex='2'), max=1250.0, style=Pro…"
      ]
     },
     "metadata": {},
     "output_type": "display_data"
    },
    {
     "name": "stdout",
     "output_type": "stream",
     "text": [
      "Epoch 1684: train=8.78466, val=8.62911, took 42.309 s\n",
      "  Validation Found 101610 of 108007, added 5354 (eff 94.08%) (0.268 FP/event)\n",
      "Result epoch:  1684\n",
      "Average Eff:  0\n",
      "Average FP Rate:  0\n"
     ]
    },
    {
     "data": {
      "application/vnd.jupyter.widget-view+json": {
       "model_id": "",
       "version_major": 2,
       "version_minor": 0
      },
      "text/plain": [
       "HBox(children=(FloatProgress(value=0.0, description='Training', layout=Layout(flex='2'), max=1250.0, style=Pro…"
      ]
     },
     "metadata": {},
     "output_type": "display_data"
    },
    {
     "name": "stdout",
     "output_type": "stream",
     "text": [
      "Epoch 1685: train=8.78516, val=8.62547, took 41.701 s\n",
      "  Validation Found 101676 of 108007, added 5486 (eff 94.14%) (0.274 FP/event)\n",
      "Result epoch:  1685\n",
      "Average Eff:  0\n",
      "Average FP Rate:  0\n"
     ]
    },
    {
     "data": {
      "application/vnd.jupyter.widget-view+json": {
       "model_id": "",
       "version_major": 2,
       "version_minor": 0
      },
      "text/plain": [
       "HBox(children=(FloatProgress(value=0.0, description='Training', layout=Layout(flex='2'), max=1250.0, style=Pro…"
      ]
     },
     "metadata": {},
     "output_type": "display_data"
    },
    {
     "name": "stdout",
     "output_type": "stream",
     "text": [
      "Epoch 1686: train=8.79062, val=8.63051, took 42.251 s\n",
      "  Validation Found 101650 of 108007, added 5399 (eff 94.11%) (0.27 FP/event)\n",
      "Result epoch:  1686\n",
      "Average Eff:  0\n",
      "Average FP Rate:  0\n"
     ]
    },
    {
     "data": {
      "application/vnd.jupyter.widget-view+json": {
       "model_id": "",
       "version_major": 2,
       "version_minor": 0
      },
      "text/plain": [
       "HBox(children=(FloatProgress(value=0.0, description='Training', layout=Layout(flex='2'), max=1250.0, style=Pro…"
      ]
     },
     "metadata": {},
     "output_type": "display_data"
    },
    {
     "name": "stdout",
     "output_type": "stream",
     "text": [
      "Epoch 1687: train=8.79028, val=8.62139, took 40.804 s\n",
      "  Validation Found 101695 of 108007, added 5480 (eff 94.16%) (0.274 FP/event)\n",
      "Result epoch:  1687\n",
      "Average Eff:  0\n",
      "Average FP Rate:  0\n"
     ]
    },
    {
     "data": {
      "application/vnd.jupyter.widget-view+json": {
       "model_id": "",
       "version_major": 2,
       "version_minor": 0
      },
      "text/plain": [
       "HBox(children=(FloatProgress(value=0.0, description='Training', layout=Layout(flex='2'), max=1250.0, style=Pro…"
      ]
     },
     "metadata": {},
     "output_type": "display_data"
    },
    {
     "name": "stdout",
     "output_type": "stream",
     "text": [
      "Epoch 1688: train=8.79223, val=8.63415, took 41.085 s\n",
      "  Validation Found 101629 of 108007, added 5404 (eff 94.09%) (0.27 FP/event)\n",
      "Result epoch:  1688\n",
      "Average Eff:  0\n",
      "Average FP Rate:  0\n"
     ]
    },
    {
     "data": {
      "application/vnd.jupyter.widget-view+json": {
       "model_id": "",
       "version_major": 2,
       "version_minor": 0
      },
      "text/plain": [
       "HBox(children=(FloatProgress(value=0.0, description='Training', layout=Layout(flex='2'), max=1250.0, style=Pro…"
      ]
     },
     "metadata": {},
     "output_type": "display_data"
    },
    {
     "name": "stdout",
     "output_type": "stream",
     "text": [
      "Epoch 1689: train=8.78806, val=8.62538, took 41.309 s\n",
      "  Validation Found 101610 of 108007, added 5363 (eff 94.08%) (0.268 FP/event)\n",
      "Result epoch:  1689\n",
      "Average Eff:  0\n",
      "Average FP Rate:  0\n"
     ]
    },
    {
     "data": {
      "application/vnd.jupyter.widget-view+json": {
       "model_id": "",
       "version_major": 2,
       "version_minor": 0
      },
      "text/plain": [
       "HBox(children=(FloatProgress(value=0.0, description='Training', layout=Layout(flex='2'), max=1250.0, style=Pro…"
      ]
     },
     "metadata": {},
     "output_type": "display_data"
    },
    {
     "name": "stdout",
     "output_type": "stream",
     "text": [
      "Epoch 1690: train=8.78498, val=8.62972, took 40.818 s\n",
      "  Validation Found 101651 of 108007, added 5408 (eff 94.12%) (0.27 FP/event)\n",
      "Result epoch:  1690\n",
      "Average Eff:  0\n",
      "Average FP Rate:  0\n"
     ]
    },
    {
     "data": {
      "application/vnd.jupyter.widget-view+json": {
       "model_id": "",
       "version_major": 2,
       "version_minor": 0
      },
      "text/plain": [
       "HBox(children=(FloatProgress(value=0.0, description='Training', layout=Layout(flex='2'), max=1250.0, style=Pro…"
      ]
     },
     "metadata": {},
     "output_type": "display_data"
    },
    {
     "name": "stdout",
     "output_type": "stream",
     "text": [
      "Epoch 1691: train=8.78909, val=8.62687, took 41.236 s\n",
      "  Validation Found 101723 of 108007, added 5539 (eff 94.18%) (0.277 FP/event)\n",
      "Result epoch:  1691\n",
      "Average Eff:  0\n",
      "Average FP Rate:  0\n"
     ]
    },
    {
     "data": {
      "application/vnd.jupyter.widget-view+json": {
       "model_id": "",
       "version_major": 2,
       "version_minor": 0
      },
      "text/plain": [
       "HBox(children=(FloatProgress(value=0.0, description='Training', layout=Layout(flex='2'), max=1250.0, style=Pro…"
      ]
     },
     "metadata": {},
     "output_type": "display_data"
    },
    {
     "name": "stdout",
     "output_type": "stream",
     "text": [
      "Epoch 1692: train=8.78767, val=8.63087, took 40.513 s\n",
      "  Validation Found 101660 of 108007, added 5435 (eff 94.12%) (0.272 FP/event)\n",
      "Result epoch:  1692\n",
      "Average Eff:  0\n",
      "Average FP Rate:  0\n"
     ]
    },
    {
     "data": {
      "application/vnd.jupyter.widget-view+json": {
       "model_id": "",
       "version_major": 2,
       "version_minor": 0
      },
      "text/plain": [
       "HBox(children=(FloatProgress(value=0.0, description='Training', layout=Layout(flex='2'), max=1250.0, style=Pro…"
      ]
     },
     "metadata": {},
     "output_type": "display_data"
    },
    {
     "name": "stdout",
     "output_type": "stream",
     "text": [
      "Epoch 1693: train=8.79247, val=8.63495, took 41.119 s\n",
      "  Validation Found 101620 of 108007, added 5343 (eff 94.09%) (0.267 FP/event)\n",
      "Result epoch:  1693\n",
      "Average Eff:  0\n",
      "Average FP Rate:  0\n"
     ]
    },
    {
     "data": {
      "application/vnd.jupyter.widget-view+json": {
       "model_id": "",
       "version_major": 2,
       "version_minor": 0
      },
      "text/plain": [
       "HBox(children=(FloatProgress(value=0.0, description='Training', layout=Layout(flex='2'), max=1250.0, style=Pro…"
      ]
     },
     "metadata": {},
     "output_type": "display_data"
    },
    {
     "name": "stdout",
     "output_type": "stream",
     "text": [
      "Epoch 1694: train=8.78798, val=8.6378, took 40.97 s\n",
      "  Validation Found 101600 of 108007, added 5348 (eff 94.07%) (0.267 FP/event)\n",
      "Result epoch:  1694\n",
      "Average Eff:  0\n",
      "Average FP Rate:  0\n"
     ]
    },
    {
     "data": {
      "application/vnd.jupyter.widget-view+json": {
       "model_id": "",
       "version_major": 2,
       "version_minor": 0
      },
      "text/plain": [
       "HBox(children=(FloatProgress(value=0.0, description='Training', layout=Layout(flex='2'), max=1250.0, style=Pro…"
      ]
     },
     "metadata": {},
     "output_type": "display_data"
    },
    {
     "name": "stdout",
     "output_type": "stream",
     "text": [
      "Epoch 1695: train=8.78284, val=8.62719, took 41.055 s\n",
      "  Validation Found 101605 of 108007, added 5338 (eff 94.07%) (0.267 FP/event)\n",
      "Result epoch:  1695\n",
      "Average Eff:  0\n",
      "Average FP Rate:  0\n"
     ]
    },
    {
     "data": {
      "application/vnd.jupyter.widget-view+json": {
       "model_id": "",
       "version_major": 2,
       "version_minor": 0
      },
      "text/plain": [
       "HBox(children=(FloatProgress(value=0.0, description='Training', layout=Layout(flex='2'), max=1250.0, style=Pro…"
      ]
     },
     "metadata": {},
     "output_type": "display_data"
    },
    {
     "name": "stdout",
     "output_type": "stream",
     "text": [
      "Epoch 1696: train=8.78667, val=8.62435, took 41.361 s\n",
      "  Validation Found 101610 of 108007, added 5380 (eff 94.08%) (0.269 FP/event)\n",
      "Result epoch:  1696\n",
      "Average Eff:  0\n",
      "Average FP Rate:  0\n"
     ]
    },
    {
     "data": {
      "application/vnd.jupyter.widget-view+json": {
       "model_id": "",
       "version_major": 2,
       "version_minor": 0
      },
      "text/plain": [
       "HBox(children=(FloatProgress(value=0.0, description='Training', layout=Layout(flex='2'), max=1250.0, style=Pro…"
      ]
     },
     "metadata": {},
     "output_type": "display_data"
    },
    {
     "name": "stdout",
     "output_type": "stream",
     "text": [
      "Epoch 1697: train=8.79108, val=8.62683, took 40.708 s\n",
      "  Validation Found 101700 of 108007, added 5515 (eff 94.16%) (0.276 FP/event)\n",
      "Result epoch:  1697\n",
      "Average Eff:  0\n",
      "Average FP Rate:  0\n"
     ]
    },
    {
     "data": {
      "application/vnd.jupyter.widget-view+json": {
       "model_id": "",
       "version_major": 2,
       "version_minor": 0
      },
      "text/plain": [
       "HBox(children=(FloatProgress(value=0.0, description='Training', layout=Layout(flex='2'), max=1250.0, style=Pro…"
      ]
     },
     "metadata": {},
     "output_type": "display_data"
    },
    {
     "name": "stdout",
     "output_type": "stream",
     "text": [
      "Epoch 1698: train=8.78102, val=8.63784, took 41.976 s\n",
      "  Validation Found 101642 of 108007, added 5411 (eff 94.11%) (0.271 FP/event)\n",
      "Result epoch:  1698\n",
      "Average Eff:  0\n",
      "Average FP Rate:  0\n"
     ]
    },
    {
     "data": {
      "application/vnd.jupyter.widget-view+json": {
       "model_id": "",
       "version_major": 2,
       "version_minor": 0
      },
      "text/plain": [
       "HBox(children=(FloatProgress(value=0.0, description='Training', layout=Layout(flex='2'), max=1250.0, style=Pro…"
      ]
     },
     "metadata": {},
     "output_type": "display_data"
    },
    {
     "name": "stdout",
     "output_type": "stream",
     "text": [
      "Epoch 1699: train=8.78791, val=8.6374, took 41.294 s\n",
      "  Validation Found 101615 of 108007, added 5341 (eff 94.08%) (0.267 FP/event)\n",
      "Result epoch:  1699\n",
      "Average Eff:  0\n",
      "Average FP Rate:  0\n"
     ]
    },
    {
     "data": {
      "application/vnd.jupyter.widget-view+json": {
       "model_id": "",
       "version_major": 2,
       "version_minor": 0
      },
      "text/plain": [
       "HBox(children=(FloatProgress(value=0.0, description='Training', layout=Layout(flex='2'), max=1250.0, style=Pro…"
      ]
     },
     "metadata": {},
     "output_type": "display_data"
    },
    {
     "name": "stdout",
     "output_type": "stream",
     "text": [
      "Epoch 1700: train=8.78207, val=8.63711, took 42.178 s\n",
      "  Validation Found 101741 of 108007, added 5593 (eff 94.20%) (0.28 FP/event)\n",
      "Result epoch:  1700\n",
      "Average Eff:  0\n",
      "Average FP Rate:  0\n"
     ]
    },
    {
     "data": {
      "application/vnd.jupyter.widget-view+json": {
       "model_id": "",
       "version_major": 2,
       "version_minor": 0
      },
      "text/plain": [
       "HBox(children=(FloatProgress(value=0.0, description='Training', layout=Layout(flex='2'), max=1250.0, style=Pro…"
      ]
     },
     "metadata": {},
     "output_type": "display_data"
    },
    {
     "name": "stdout",
     "output_type": "stream",
     "text": [
      "Epoch 1701: train=8.79153, val=8.63091, took 41.836 s\n",
      "  Validation Found 101672 of 108007, added 5445 (eff 94.13%) (0.272 FP/event)\n",
      "Result epoch:  1701\n",
      "Average Eff:  0\n",
      "Average FP Rate:  0\n"
     ]
    },
    {
     "data": {
      "application/vnd.jupyter.widget-view+json": {
       "model_id": "",
       "version_major": 2,
       "version_minor": 0
      },
      "text/plain": [
       "HBox(children=(FloatProgress(value=0.0, description='Training', layout=Layout(flex='2'), max=1250.0, style=Pro…"
      ]
     },
     "metadata": {},
     "output_type": "display_data"
    },
    {
     "name": "stdout",
     "output_type": "stream",
     "text": [
      "Epoch 1702: train=8.78597, val=8.62656, took 41.926 s\n",
      "  Validation Found 101615 of 108007, added 5349 (eff 94.08%) (0.267 FP/event)\n",
      "Result epoch:  1702\n",
      "Average Eff:  0\n",
      "Average FP Rate:  0\n"
     ]
    },
    {
     "data": {
      "application/vnd.jupyter.widget-view+json": {
       "model_id": "",
       "version_major": 2,
       "version_minor": 0
      },
      "text/plain": [
       "HBox(children=(FloatProgress(value=0.0, description='Training', layout=Layout(flex='2'), max=1250.0, style=Pro…"
      ]
     },
     "metadata": {},
     "output_type": "display_data"
    },
    {
     "name": "stdout",
     "output_type": "stream",
     "text": [
      "Epoch 1703: train=8.78719, val=8.63181, took 42.323 s\n",
      "  Validation Found 101683 of 108007, added 5486 (eff 94.14%) (0.274 FP/event)\n",
      "Result epoch:  1703\n",
      "Average Eff:  0\n",
      "Average FP Rate:  0\n"
     ]
    },
    {
     "data": {
      "application/vnd.jupyter.widget-view+json": {
       "model_id": "",
       "version_major": 2,
       "version_minor": 0
      },
      "text/plain": [
       "HBox(children=(FloatProgress(value=0.0, description='Training', layout=Layout(flex='2'), max=1250.0, style=Pro…"
      ]
     },
     "metadata": {},
     "output_type": "display_data"
    },
    {
     "name": "stdout",
     "output_type": "stream",
     "text": [
      "Epoch 1704: train=8.78736, val=8.62998, took 41.6 s\n",
      "  Validation Found 101643 of 108007, added 5386 (eff 94.11%) (0.269 FP/event)\n",
      "Result epoch:  1704\n",
      "Average Eff:  0\n",
      "Average FP Rate:  0\n"
     ]
    },
    {
     "data": {
      "application/vnd.jupyter.widget-view+json": {
       "model_id": "",
       "version_major": 2,
       "version_minor": 0
      },
      "text/plain": [
       "HBox(children=(FloatProgress(value=0.0, description='Training', layout=Layout(flex='2'), max=1250.0, style=Pro…"
      ]
     },
     "metadata": {},
     "output_type": "display_data"
    },
    {
     "name": "stdout",
     "output_type": "stream",
     "text": [
      "Epoch 1705: train=8.78824, val=8.63816, took 41.281 s\n",
      "  Validation Found 101627 of 108007, added 5391 (eff 94.09%) (0.27 FP/event)\n",
      "Result epoch:  1705\n",
      "Average Eff:  0\n",
      "Average FP Rate:  0\n"
     ]
    },
    {
     "data": {
      "application/vnd.jupyter.widget-view+json": {
       "model_id": "",
       "version_major": 2,
       "version_minor": 0
      },
      "text/plain": [
       "HBox(children=(FloatProgress(value=0.0, description='Training', layout=Layout(flex='2'), max=1250.0, style=Pro…"
      ]
     },
     "metadata": {},
     "output_type": "display_data"
    },
    {
     "name": "stdout",
     "output_type": "stream",
     "text": [
      "Epoch 1706: train=8.78592, val=8.63573, took 40.686 s\n",
      "  Validation Found 101620 of 108007, added 5363 (eff 94.09%) (0.268 FP/event)\n",
      "Result epoch:  1706\n",
      "Average Eff:  0\n",
      "Average FP Rate:  0\n"
     ]
    },
    {
     "data": {
      "application/vnd.jupyter.widget-view+json": {
       "model_id": "",
       "version_major": 2,
       "version_minor": 0
      },
      "text/plain": [
       "HBox(children=(FloatProgress(value=0.0, description='Training', layout=Layout(flex='2'), max=1250.0, style=Pro…"
      ]
     },
     "metadata": {},
     "output_type": "display_data"
    },
    {
     "name": "stdout",
     "output_type": "stream",
     "text": [
      "Epoch 1707: train=8.78711, val=8.64153, took 40.936 s\n",
      "  Validation Found 101647 of 108007, added 5386 (eff 94.11%) (0.269 FP/event)\n",
      "Result epoch:  1707\n",
      "Average Eff:  0\n",
      "Average FP Rate:  0\n"
     ]
    },
    {
     "data": {
      "application/vnd.jupyter.widget-view+json": {
       "model_id": "",
       "version_major": 2,
       "version_minor": 0
      },
      "text/plain": [
       "HBox(children=(FloatProgress(value=0.0, description='Training', layout=Layout(flex='2'), max=1250.0, style=Pro…"
      ]
     },
     "metadata": {},
     "output_type": "display_data"
    },
    {
     "name": "stdout",
     "output_type": "stream",
     "text": [
      "Epoch 1708: train=8.78676, val=8.63222, took 40.958 s\n",
      "  Validation Found 101638 of 108007, added 5388 (eff 94.10%) (0.269 FP/event)\n",
      "Result epoch:  1708\n",
      "Average Eff:  0\n",
      "Average FP Rate:  0\n"
     ]
    },
    {
     "data": {
      "application/vnd.jupyter.widget-view+json": {
       "model_id": "",
       "version_major": 2,
       "version_minor": 0
      },
      "text/plain": [
       "HBox(children=(FloatProgress(value=0.0, description='Training', layout=Layout(flex='2'), max=1250.0, style=Pro…"
      ]
     },
     "metadata": {},
     "output_type": "display_data"
    },
    {
     "name": "stdout",
     "output_type": "stream",
     "text": [
      "Epoch 1709: train=8.78771, val=8.63262, took 40.602 s\n",
      "  Validation Found 101636 of 108007, added 5393 (eff 94.10%) (0.27 FP/event)\n",
      "Result epoch:  1709\n",
      "Average Eff:  0\n",
      "Average FP Rate:  0\n"
     ]
    },
    {
     "data": {
      "application/vnd.jupyter.widget-view+json": {
       "model_id": "",
       "version_major": 2,
       "version_minor": 0
      },
      "text/plain": [
       "HBox(children=(FloatProgress(value=0.0, description='Training', layout=Layout(flex='2'), max=1250.0, style=Pro…"
      ]
     },
     "metadata": {},
     "output_type": "display_data"
    },
    {
     "name": "stdout",
     "output_type": "stream",
     "text": [
      "Epoch 1710: train=8.78932, val=8.64016, took 41.24 s\n",
      "  Validation Found 101633 of 108007, added 5377 (eff 94.10%) (0.269 FP/event)\n",
      "Result epoch:  1710\n",
      "Average Eff:  0.9409853065079116\n",
      "Average FP Rate:  0.2688365581720914\n"
     ]
    },
    {
     "data": {
      "application/vnd.jupyter.widget-view+json": {
       "model_id": "",
       "version_major": 2,
       "version_minor": 0
      },
      "text/plain": [
       "HBox(children=(FloatProgress(value=0.0, description='Training', layout=Layout(flex='2'), max=1250.0, style=Pro…"
      ]
     },
     "metadata": {},
     "output_type": "display_data"
    },
    {
     "name": "stdout",
     "output_type": "stream",
     "text": [
      "Epoch 1711: train=8.78791, val=8.62998, took 40.808 s\n",
      "  Validation Found 101633 of 108007, added 5370 (eff 94.10%) (0.268 FP/event)\n",
      "Result epoch:  1711\n",
      "Average Eff:  1.8819706130158231\n",
      "Average FP Rate:  0.5373231338433078\n"
     ]
    },
    {
     "data": {
      "application/vnd.jupyter.widget-view+json": {
       "model_id": "",
       "version_major": 2,
       "version_minor": 0
      },
      "text/plain": [
       "HBox(children=(FloatProgress(value=0.0, description='Training', layout=Layout(flex='2'), max=1250.0, style=Pro…"
      ]
     },
     "metadata": {},
     "output_type": "display_data"
    },
    {
     "name": "stdout",
     "output_type": "stream",
     "text": [
      "Epoch 1712: train=8.78592, val=8.62818, took 41.262 s\n",
      "  Validation Found 101664 of 108007, added 5451 (eff 94.13%) (0.273 FP/event)\n",
      "Result epoch:  1712\n",
      "Average Eff:  2.8232429379577253\n",
      "Average FP Rate:  0.8098595070246487\n"
     ]
    },
    {
     "data": {
      "application/vnd.jupyter.widget-view+json": {
       "model_id": "",
       "version_major": 2,
       "version_minor": 0
      },
      "text/plain": [
       "HBox(children=(FloatProgress(value=0.0, description='Training', layout=Layout(flex='2'), max=1250.0, style=Pro…"
      ]
     },
     "metadata": {},
     "output_type": "display_data"
    },
    {
     "name": "stdout",
     "output_type": "stream",
     "text": [
      "Epoch 1713: train=8.78258, val=8.6292, took 40.853 s\n",
      "  Validation Found 101669 of 108007, added 5426 (eff 94.13%) (0.271 FP/event)\n",
      "Result epoch:  1713\n",
      "Average Eff:  3.764561556195432\n",
      "Average FP Rate:  1.081145942702865\n"
     ]
    },
    {
     "data": {
      "application/vnd.jupyter.widget-view+json": {
       "model_id": "",
       "version_major": 2,
       "version_minor": 0
      },
      "text/plain": [
       "HBox(children=(FloatProgress(value=0.0, description='Training', layout=Layout(flex='2'), max=1250.0, style=Pro…"
      ]
     },
     "metadata": {},
     "output_type": "display_data"
    },
    {
     "name": "stdout",
     "output_type": "stream",
     "text": [
      "Epoch 1714: train=8.78852, val=8.63055, took 41.093 s\n",
      "  Validation Found 101709 of 108007, added 5523 (eff 94.17%) (0.276 FP/event)\n",
      "Result epoch:  1714\n",
      "Average Eff:  4.706250520799578\n",
      "Average FP Rate:  1.3572821358932055\n"
     ]
    },
    {
     "data": {
      "application/vnd.jupyter.widget-view+json": {
       "model_id": "",
       "version_major": 2,
       "version_minor": 0
      },
      "text/plain": [
       "HBox(children=(FloatProgress(value=0.0, description='Training', layout=Layout(flex='2'), max=1250.0, style=Pro…"
      ]
     },
     "metadata": {},
     "output_type": "display_data"
    },
    {
     "name": "stdout",
     "output_type": "stream",
     "text": [
      "Epoch 1715: train=8.7843, val=8.63048, took 42.244 s\n",
      "  Validation Found 101680 of 108007, added 5466 (eff 94.14%) (0.273 FP/event)\n",
      "Result epoch:  1715\n",
      "Average Eff:  5.647670984288056\n",
      "Average FP Rate:  1.6305684715764213\n"
     ]
    },
    {
     "data": {
      "application/vnd.jupyter.widget-view+json": {
       "model_id": "",
       "version_major": 2,
       "version_minor": 0
      },
      "text/plain": [
       "HBox(children=(FloatProgress(value=0.0, description='Training', layout=Layout(flex='2'), max=1250.0, style=Pro…"
      ]
     },
     "metadata": {},
     "output_type": "display_data"
    },
    {
     "name": "stdout",
     "output_type": "stream",
     "text": [
      "Epoch 1716: train=8.78727, val=8.63193, took 41.604 s\n",
      "  Validation Found 101575 of 108007, added 5319 (eff 94.04%) (0.266 FP/event)\n",
      "Result epoch:  1716\n",
      "Average Eff:  6.588119288564631\n",
      "Average FP Rate:  1.8965051747412631\n"
     ]
    },
    {
     "data": {
      "application/vnd.jupyter.widget-view+json": {
       "model_id": "",
       "version_major": 2,
       "version_minor": 0
      },
      "text/plain": [
       "HBox(children=(FloatProgress(value=0.0, description='Training', layout=Layout(flex='2'), max=1250.0, style=Pro…"
      ]
     },
     "metadata": {},
     "output_type": "display_data"
    },
    {
     "name": "stdout",
     "output_type": "stream",
     "text": [
      "Epoch 1717: train=8.7841, val=8.62536, took 42.244 s\n",
      "  Validation Found 101626 of 108007, added 5370 (eff 94.09%) (0.268 FP/event)\n",
      "Result epoch:  1717\n",
      "Average Eff:  7.529039784458416\n",
      "Average FP Rate:  2.1649917504124794\n"
     ]
    },
    {
     "data": {
      "application/vnd.jupyter.widget-view+json": {
       "model_id": "",
       "version_major": 2,
       "version_minor": 0
      },
      "text/plain": [
       "HBox(children=(FloatProgress(value=0.0, description='Training', layout=Layout(flex='2'), max=1250.0, style=Pro…"
      ]
     },
     "metadata": {},
     "output_type": "display_data"
    },
    {
     "name": "stdout",
     "output_type": "stream",
     "text": [
      "Epoch 1718: train=8.78733, val=8.63284, took 41.71 s\n",
      "  Validation Found 101778 of 108007, added 5740 (eff 94.23%) (0.287 FP/event)\n",
      "Result epoch:  1718\n",
      "Average Eff:  8.471367596544669\n",
      "Average FP Rate:  2.4519774011299433\n"
     ]
    },
    {
     "data": {
      "application/vnd.jupyter.widget-view+json": {
       "model_id": "",
       "version_major": 2,
       "version_minor": 0
      },
      "text/plain": [
       "HBox(children=(FloatProgress(value=0.0, description='Training', layout=Layout(flex='2'), max=1250.0, style=Pro…"
      ]
     },
     "metadata": {},
     "output_type": "display_data"
    },
    {
     "name": "stdout",
     "output_type": "stream",
     "text": [
      "Epoch 1719: train=8.78687, val=8.62206, took 42.043 s\n",
      "  Validation Found 101738 of 108007, added 5567 (eff 94.20%) (0.278 FP/event)\n",
      "Result epoch:  1719\n",
      "Averaging...\n",
      "\n",
      "Average Eff:  0.9413325062264484\n",
      "Average FP Rate:  0.27303134843257837\n",
      "\n"
     ]
    },
    {
     "data": {
      "application/javascript": [
       "/* Put everything inside the global mpl namespace */\n",
       "window.mpl = {};\n",
       "\n",
       "\n",
       "mpl.get_websocket_type = function() {\n",
       "    if (typeof(WebSocket) !== 'undefined') {\n",
       "        return WebSocket;\n",
       "    } else if (typeof(MozWebSocket) !== 'undefined') {\n",
       "        return MozWebSocket;\n",
       "    } else {\n",
       "        alert('Your browser does not have WebSocket support. ' +\n",
       "              'Please try Chrome, Safari or Firefox ≥ 6. ' +\n",
       "              'Firefox 4 and 5 are also supported but you ' +\n",
       "              'have to enable WebSockets in about:config.');\n",
       "    };\n",
       "}\n",
       "\n",
       "mpl.figure = function(figure_id, websocket, ondownload, parent_element) {\n",
       "    this.id = figure_id;\n",
       "\n",
       "    this.ws = websocket;\n",
       "\n",
       "    this.supports_binary = (this.ws.binaryType != undefined);\n",
       "\n",
       "    if (!this.supports_binary) {\n",
       "        var warnings = document.getElementById(\"mpl-warnings\");\n",
       "        if (warnings) {\n",
       "            warnings.style.display = 'block';\n",
       "            warnings.textContent = (\n",
       "                \"This browser does not support binary websocket messages. \" +\n",
       "                    \"Performance may be slow.\");\n",
       "        }\n",
       "    }\n",
       "\n",
       "    this.imageObj = new Image();\n",
       "\n",
       "    this.context = undefined;\n",
       "    this.message = undefined;\n",
       "    this.canvas = undefined;\n",
       "    this.rubberband_canvas = undefined;\n",
       "    this.rubberband_context = undefined;\n",
       "    this.format_dropdown = undefined;\n",
       "\n",
       "    this.image_mode = 'full';\n",
       "\n",
       "    this.root = $('<div/>');\n",
       "    this._root_extra_style(this.root)\n",
       "    this.root.attr('style', 'display: inline-block');\n",
       "\n",
       "    $(parent_element).append(this.root);\n",
       "\n",
       "    this._init_header(this);\n",
       "    this._init_canvas(this);\n",
       "    this._init_toolbar(this);\n",
       "\n",
       "    var fig = this;\n",
       "\n",
       "    this.waiting = false;\n",
       "\n",
       "    this.ws.onopen =  function () {\n",
       "            fig.send_message(\"supports_binary\", {value: fig.supports_binary});\n",
       "            fig.send_message(\"send_image_mode\", {});\n",
       "            if (mpl.ratio != 1) {\n",
       "                fig.send_message(\"set_dpi_ratio\", {'dpi_ratio': mpl.ratio});\n",
       "            }\n",
       "            fig.send_message(\"refresh\", {});\n",
       "        }\n",
       "\n",
       "    this.imageObj.onload = function() {\n",
       "            if (fig.image_mode == 'full') {\n",
       "                // Full images could contain transparency (where diff images\n",
       "                // almost always do), so we need to clear the canvas so that\n",
       "                // there is no ghosting.\n",
       "                fig.context.clearRect(0, 0, fig.canvas.width, fig.canvas.height);\n",
       "            }\n",
       "            fig.context.drawImage(fig.imageObj, 0, 0);\n",
       "        };\n",
       "\n",
       "    this.imageObj.onunload = function() {\n",
       "        fig.ws.close();\n",
       "    }\n",
       "\n",
       "    this.ws.onmessage = this._make_on_message_function(this);\n",
       "\n",
       "    this.ondownload = ondownload;\n",
       "}\n",
       "\n",
       "mpl.figure.prototype._init_header = function() {\n",
       "    var titlebar = $(\n",
       "        '<div class=\"ui-dialog-titlebar ui-widget-header ui-corner-all ' +\n",
       "        'ui-helper-clearfix\"/>');\n",
       "    var titletext = $(\n",
       "        '<div class=\"ui-dialog-title\" style=\"width: 100%; ' +\n",
       "        'text-align: center; padding: 3px;\"/>');\n",
       "    titlebar.append(titletext)\n",
       "    this.root.append(titlebar);\n",
       "    this.header = titletext[0];\n",
       "}\n",
       "\n",
       "\n",
       "\n",
       "mpl.figure.prototype._canvas_extra_style = function(canvas_div) {\n",
       "\n",
       "}\n",
       "\n",
       "\n",
       "mpl.figure.prototype._root_extra_style = function(canvas_div) {\n",
       "\n",
       "}\n",
       "\n",
       "mpl.figure.prototype._init_canvas = function() {\n",
       "    var fig = this;\n",
       "\n",
       "    var canvas_div = $('<div/>');\n",
       "\n",
       "    canvas_div.attr('style', 'position: relative; clear: both; outline: 0');\n",
       "\n",
       "    function canvas_keyboard_event(event) {\n",
       "        return fig.key_event(event, event['data']);\n",
       "    }\n",
       "\n",
       "    canvas_div.keydown('key_press', canvas_keyboard_event);\n",
       "    canvas_div.keyup('key_release', canvas_keyboard_event);\n",
       "    this.canvas_div = canvas_div\n",
       "    this._canvas_extra_style(canvas_div)\n",
       "    this.root.append(canvas_div);\n",
       "\n",
       "    var canvas = $('<canvas/>');\n",
       "    canvas.addClass('mpl-canvas');\n",
       "    canvas.attr('style', \"left: 0; top: 0; z-index: 0; outline: 0\")\n",
       "\n",
       "    this.canvas = canvas[0];\n",
       "    this.context = canvas[0].getContext(\"2d\");\n",
       "\n",
       "    var backingStore = this.context.backingStorePixelRatio ||\n",
       "\tthis.context.webkitBackingStorePixelRatio ||\n",
       "\tthis.context.mozBackingStorePixelRatio ||\n",
       "\tthis.context.msBackingStorePixelRatio ||\n",
       "\tthis.context.oBackingStorePixelRatio ||\n",
       "\tthis.context.backingStorePixelRatio || 1;\n",
       "\n",
       "    mpl.ratio = (window.devicePixelRatio || 1) / backingStore;\n",
       "\n",
       "    var rubberband = $('<canvas/>');\n",
       "    rubberband.attr('style', \"position: absolute; left: 0; top: 0; z-index: 1;\")\n",
       "\n",
       "    var pass_mouse_events = true;\n",
       "\n",
       "    canvas_div.resizable({\n",
       "        start: function(event, ui) {\n",
       "            pass_mouse_events = false;\n",
       "        },\n",
       "        resize: function(event, ui) {\n",
       "            fig.request_resize(ui.size.width, ui.size.height);\n",
       "        },\n",
       "        stop: function(event, ui) {\n",
       "            pass_mouse_events = true;\n",
       "            fig.request_resize(ui.size.width, ui.size.height);\n",
       "        },\n",
       "    });\n",
       "\n",
       "    function mouse_event_fn(event) {\n",
       "        if (pass_mouse_events)\n",
       "            return fig.mouse_event(event, event['data']);\n",
       "    }\n",
       "\n",
       "    rubberband.mousedown('button_press', mouse_event_fn);\n",
       "    rubberband.mouseup('button_release', mouse_event_fn);\n",
       "    // Throttle sequential mouse events to 1 every 20ms.\n",
       "    rubberband.mousemove('motion_notify', mouse_event_fn);\n",
       "\n",
       "    rubberband.mouseenter('figure_enter', mouse_event_fn);\n",
       "    rubberband.mouseleave('figure_leave', mouse_event_fn);\n",
       "\n",
       "    canvas_div.on(\"wheel\", function (event) {\n",
       "        event = event.originalEvent;\n",
       "        event['data'] = 'scroll'\n",
       "        if (event.deltaY < 0) {\n",
       "            event.step = 1;\n",
       "        } else {\n",
       "            event.step = -1;\n",
       "        }\n",
       "        mouse_event_fn(event);\n",
       "    });\n",
       "\n",
       "    canvas_div.append(canvas);\n",
       "    canvas_div.append(rubberband);\n",
       "\n",
       "    this.rubberband = rubberband;\n",
       "    this.rubberband_canvas = rubberband[0];\n",
       "    this.rubberband_context = rubberband[0].getContext(\"2d\");\n",
       "    this.rubberband_context.strokeStyle = \"#000000\";\n",
       "\n",
       "    this._resize_canvas = function(width, height) {\n",
       "        // Keep the size of the canvas, canvas container, and rubber band\n",
       "        // canvas in synch.\n",
       "        canvas_div.css('width', width)\n",
       "        canvas_div.css('height', height)\n",
       "\n",
       "        canvas.attr('width', width * mpl.ratio);\n",
       "        canvas.attr('height', height * mpl.ratio);\n",
       "        canvas.attr('style', 'width: ' + width + 'px; height: ' + height + 'px;');\n",
       "\n",
       "        rubberband.attr('width', width);\n",
       "        rubberband.attr('height', height);\n",
       "    }\n",
       "\n",
       "    // Set the figure to an initial 600x600px, this will subsequently be updated\n",
       "    // upon first draw.\n",
       "    this._resize_canvas(600, 600);\n",
       "\n",
       "    // Disable right mouse context menu.\n",
       "    $(this.rubberband_canvas).bind(\"contextmenu\",function(e){\n",
       "        return false;\n",
       "    });\n",
       "\n",
       "    function set_focus () {\n",
       "        canvas.focus();\n",
       "        canvas_div.focus();\n",
       "    }\n",
       "\n",
       "    window.setTimeout(set_focus, 100);\n",
       "}\n",
       "\n",
       "mpl.figure.prototype._init_toolbar = function() {\n",
       "    var fig = this;\n",
       "\n",
       "    var nav_element = $('<div/>');\n",
       "    nav_element.attr('style', 'width: 100%');\n",
       "    this.root.append(nav_element);\n",
       "\n",
       "    // Define a callback function for later on.\n",
       "    function toolbar_event(event) {\n",
       "        return fig.toolbar_button_onclick(event['data']);\n",
       "    }\n",
       "    function toolbar_mouse_event(event) {\n",
       "        return fig.toolbar_button_onmouseover(event['data']);\n",
       "    }\n",
       "\n",
       "    for(var toolbar_ind in mpl.toolbar_items) {\n",
       "        var name = mpl.toolbar_items[toolbar_ind][0];\n",
       "        var tooltip = mpl.toolbar_items[toolbar_ind][1];\n",
       "        var image = mpl.toolbar_items[toolbar_ind][2];\n",
       "        var method_name = mpl.toolbar_items[toolbar_ind][3];\n",
       "\n",
       "        if (!name) {\n",
       "            // put a spacer in here.\n",
       "            continue;\n",
       "        }\n",
       "        var button = $('<button/>');\n",
       "        button.addClass('ui-button ui-widget ui-state-default ui-corner-all ' +\n",
       "                        'ui-button-icon-only');\n",
       "        button.attr('role', 'button');\n",
       "        button.attr('aria-disabled', 'false');\n",
       "        button.click(method_name, toolbar_event);\n",
       "        button.mouseover(tooltip, toolbar_mouse_event);\n",
       "\n",
       "        var icon_img = $('<span/>');\n",
       "        icon_img.addClass('ui-button-icon-primary ui-icon');\n",
       "        icon_img.addClass(image);\n",
       "        icon_img.addClass('ui-corner-all');\n",
       "\n",
       "        var tooltip_span = $('<span/>');\n",
       "        tooltip_span.addClass('ui-button-text');\n",
       "        tooltip_span.html(tooltip);\n",
       "\n",
       "        button.append(icon_img);\n",
       "        button.append(tooltip_span);\n",
       "\n",
       "        nav_element.append(button);\n",
       "    }\n",
       "\n",
       "    var fmt_picker_span = $('<span/>');\n",
       "\n",
       "    var fmt_picker = $('<select/>');\n",
       "    fmt_picker.addClass('mpl-toolbar-option ui-widget ui-widget-content');\n",
       "    fmt_picker_span.append(fmt_picker);\n",
       "    nav_element.append(fmt_picker_span);\n",
       "    this.format_dropdown = fmt_picker[0];\n",
       "\n",
       "    for (var ind in mpl.extensions) {\n",
       "        var fmt = mpl.extensions[ind];\n",
       "        var option = $(\n",
       "            '<option/>', {selected: fmt === mpl.default_extension}).html(fmt);\n",
       "        fmt_picker.append(option);\n",
       "    }\n",
       "\n",
       "    // Add hover states to the ui-buttons\n",
       "    $( \".ui-button\" ).hover(\n",
       "        function() { $(this).addClass(\"ui-state-hover\");},\n",
       "        function() { $(this).removeClass(\"ui-state-hover\");}\n",
       "    );\n",
       "\n",
       "    var status_bar = $('<span class=\"mpl-message\"/>');\n",
       "    nav_element.append(status_bar);\n",
       "    this.message = status_bar[0];\n",
       "}\n",
       "\n",
       "mpl.figure.prototype.request_resize = function(x_pixels, y_pixels) {\n",
       "    // Request matplotlib to resize the figure. Matplotlib will then trigger a resize in the client,\n",
       "    // which will in turn request a refresh of the image.\n",
       "    this.send_message('resize', {'width': x_pixels, 'height': y_pixels});\n",
       "}\n",
       "\n",
       "mpl.figure.prototype.send_message = function(type, properties) {\n",
       "    properties['type'] = type;\n",
       "    properties['figure_id'] = this.id;\n",
       "    this.ws.send(JSON.stringify(properties));\n",
       "}\n",
       "\n",
       "mpl.figure.prototype.send_draw_message = function() {\n",
       "    if (!this.waiting) {\n",
       "        this.waiting = true;\n",
       "        this.ws.send(JSON.stringify({type: \"draw\", figure_id: this.id}));\n",
       "    }\n",
       "}\n",
       "\n",
       "\n",
       "mpl.figure.prototype.handle_save = function(fig, msg) {\n",
       "    var format_dropdown = fig.format_dropdown;\n",
       "    var format = format_dropdown.options[format_dropdown.selectedIndex].value;\n",
       "    fig.ondownload(fig, format);\n",
       "}\n",
       "\n",
       "\n",
       "mpl.figure.prototype.handle_resize = function(fig, msg) {\n",
       "    var size = msg['size'];\n",
       "    if (size[0] != fig.canvas.width || size[1] != fig.canvas.height) {\n",
       "        fig._resize_canvas(size[0], size[1]);\n",
       "        fig.send_message(\"refresh\", {});\n",
       "    };\n",
       "}\n",
       "\n",
       "mpl.figure.prototype.handle_rubberband = function(fig, msg) {\n",
       "    var x0 = msg['x0'] / mpl.ratio;\n",
       "    var y0 = (fig.canvas.height - msg['y0']) / mpl.ratio;\n",
       "    var x1 = msg['x1'] / mpl.ratio;\n",
       "    var y1 = (fig.canvas.height - msg['y1']) / mpl.ratio;\n",
       "    x0 = Math.floor(x0) + 0.5;\n",
       "    y0 = Math.floor(y0) + 0.5;\n",
       "    x1 = Math.floor(x1) + 0.5;\n",
       "    y1 = Math.floor(y1) + 0.5;\n",
       "    var min_x = Math.min(x0, x1);\n",
       "    var min_y = Math.min(y0, y1);\n",
       "    var width = Math.abs(x1 - x0);\n",
       "    var height = Math.abs(y1 - y0);\n",
       "\n",
       "    fig.rubberband_context.clearRect(\n",
       "        0, 0, fig.canvas.width / mpl.ratio, fig.canvas.height / mpl.ratio);\n",
       "\n",
       "    fig.rubberband_context.strokeRect(min_x, min_y, width, height);\n",
       "}\n",
       "\n",
       "mpl.figure.prototype.handle_figure_label = function(fig, msg) {\n",
       "    // Updates the figure title.\n",
       "    fig.header.textContent = msg['label'];\n",
       "}\n",
       "\n",
       "mpl.figure.prototype.handle_cursor = function(fig, msg) {\n",
       "    var cursor = msg['cursor'];\n",
       "    switch(cursor)\n",
       "    {\n",
       "    case 0:\n",
       "        cursor = 'pointer';\n",
       "        break;\n",
       "    case 1:\n",
       "        cursor = 'default';\n",
       "        break;\n",
       "    case 2:\n",
       "        cursor = 'crosshair';\n",
       "        break;\n",
       "    case 3:\n",
       "        cursor = 'move';\n",
       "        break;\n",
       "    }\n",
       "    fig.rubberband_canvas.style.cursor = cursor;\n",
       "}\n",
       "\n",
       "mpl.figure.prototype.handle_message = function(fig, msg) {\n",
       "    fig.message.textContent = msg['message'];\n",
       "}\n",
       "\n",
       "mpl.figure.prototype.handle_draw = function(fig, msg) {\n",
       "    // Request the server to send over a new figure.\n",
       "    fig.send_draw_message();\n",
       "}\n",
       "\n",
       "mpl.figure.prototype.handle_image_mode = function(fig, msg) {\n",
       "    fig.image_mode = msg['mode'];\n",
       "}\n",
       "\n",
       "mpl.figure.prototype.updated_canvas_event = function() {\n",
       "    // Called whenever the canvas gets updated.\n",
       "    this.send_message(\"ack\", {});\n",
       "}\n",
       "\n",
       "// A function to construct a web socket function for onmessage handling.\n",
       "// Called in the figure constructor.\n",
       "mpl.figure.prototype._make_on_message_function = function(fig) {\n",
       "    return function socket_on_message(evt) {\n",
       "        if (evt.data instanceof Blob) {\n",
       "            /* FIXME: We get \"Resource interpreted as Image but\n",
       "             * transferred with MIME type text/plain:\" errors on\n",
       "             * Chrome.  But how to set the MIME type?  It doesn't seem\n",
       "             * to be part of the websocket stream */\n",
       "            evt.data.type = \"image/png\";\n",
       "\n",
       "            /* Free the memory for the previous frames */\n",
       "            if (fig.imageObj.src) {\n",
       "                (window.URL || window.webkitURL).revokeObjectURL(\n",
       "                    fig.imageObj.src);\n",
       "            }\n",
       "\n",
       "            fig.imageObj.src = (window.URL || window.webkitURL).createObjectURL(\n",
       "                evt.data);\n",
       "            fig.updated_canvas_event();\n",
       "            fig.waiting = false;\n",
       "            return;\n",
       "        }\n",
       "        else if (typeof evt.data === 'string' && evt.data.slice(0, 21) == \"data:image/png;base64\") {\n",
       "            fig.imageObj.src = evt.data;\n",
       "            fig.updated_canvas_event();\n",
       "            fig.waiting = false;\n",
       "            return;\n",
       "        }\n",
       "\n",
       "        var msg = JSON.parse(evt.data);\n",
       "        var msg_type = msg['type'];\n",
       "\n",
       "        // Call the  \"handle_{type}\" callback, which takes\n",
       "        // the figure and JSON message as its only arguments.\n",
       "        try {\n",
       "            var callback = fig[\"handle_\" + msg_type];\n",
       "        } catch (e) {\n",
       "            console.log(\"No handler for the '\" + msg_type + \"' message type: \", msg);\n",
       "            return;\n",
       "        }\n",
       "\n",
       "        if (callback) {\n",
       "            try {\n",
       "                // console.log(\"Handling '\" + msg_type + \"' message: \", msg);\n",
       "                callback(fig, msg);\n",
       "            } catch (e) {\n",
       "                console.log(\"Exception inside the 'handler_\" + msg_type + \"' callback:\", e, e.stack, msg);\n",
       "            }\n",
       "        }\n",
       "    };\n",
       "}\n",
       "\n",
       "// from http://stackoverflow.com/questions/1114465/getting-mouse-location-in-canvas\n",
       "mpl.findpos = function(e) {\n",
       "    //this section is from http://www.quirksmode.org/js/events_properties.html\n",
       "    var targ;\n",
       "    if (!e)\n",
       "        e = window.event;\n",
       "    if (e.target)\n",
       "        targ = e.target;\n",
       "    else if (e.srcElement)\n",
       "        targ = e.srcElement;\n",
       "    if (targ.nodeType == 3) // defeat Safari bug\n",
       "        targ = targ.parentNode;\n",
       "\n",
       "    // jQuery normalizes the pageX and pageY\n",
       "    // pageX,Y are the mouse positions relative to the document\n",
       "    // offset() returns the position of the element relative to the document\n",
       "    var x = e.pageX - $(targ).offset().left;\n",
       "    var y = e.pageY - $(targ).offset().top;\n",
       "\n",
       "    return {\"x\": x, \"y\": y};\n",
       "};\n",
       "\n",
       "/*\n",
       " * return a copy of an object with only non-object keys\n",
       " * we need this to avoid circular references\n",
       " * http://stackoverflow.com/a/24161582/3208463\n",
       " */\n",
       "function simpleKeys (original) {\n",
       "  return Object.keys(original).reduce(function (obj, key) {\n",
       "    if (typeof original[key] !== 'object')\n",
       "        obj[key] = original[key]\n",
       "    return obj;\n",
       "  }, {});\n",
       "}\n",
       "\n",
       "mpl.figure.prototype.mouse_event = function(event, name) {\n",
       "    var canvas_pos = mpl.findpos(event)\n",
       "\n",
       "    if (name === 'button_press')\n",
       "    {\n",
       "        this.canvas.focus();\n",
       "        this.canvas_div.focus();\n",
       "    }\n",
       "\n",
       "    var x = canvas_pos.x * mpl.ratio;\n",
       "    var y = canvas_pos.y * mpl.ratio;\n",
       "\n",
       "    this.send_message(name, {x: x, y: y, button: event.button,\n",
       "                             step: event.step,\n",
       "                             guiEvent: simpleKeys(event)});\n",
       "\n",
       "    /* This prevents the web browser from automatically changing to\n",
       "     * the text insertion cursor when the button is pressed.  We want\n",
       "     * to control all of the cursor setting manually through the\n",
       "     * 'cursor' event from matplotlib */\n",
       "    event.preventDefault();\n",
       "    return false;\n",
       "}\n",
       "\n",
       "mpl.figure.prototype._key_event_extra = function(event, name) {\n",
       "    // Handle any extra behaviour associated with a key event\n",
       "}\n",
       "\n",
       "mpl.figure.prototype.key_event = function(event, name) {\n",
       "\n",
       "    // Prevent repeat events\n",
       "    if (name == 'key_press')\n",
       "    {\n",
       "        if (event.which === this._key)\n",
       "            return;\n",
       "        else\n",
       "            this._key = event.which;\n",
       "    }\n",
       "    if (name == 'key_release')\n",
       "        this._key = null;\n",
       "\n",
       "    var value = '';\n",
       "    if (event.ctrlKey && event.which != 17)\n",
       "        value += \"ctrl+\";\n",
       "    if (event.altKey && event.which != 18)\n",
       "        value += \"alt+\";\n",
       "    if (event.shiftKey && event.which != 16)\n",
       "        value += \"shift+\";\n",
       "\n",
       "    value += 'k';\n",
       "    value += event.which.toString();\n",
       "\n",
       "    this._key_event_extra(event, name);\n",
       "\n",
       "    this.send_message(name, {key: value,\n",
       "                             guiEvent: simpleKeys(event)});\n",
       "    return false;\n",
       "}\n",
       "\n",
       "mpl.figure.prototype.toolbar_button_onclick = function(name) {\n",
       "    if (name == 'download') {\n",
       "        this.handle_save(this, null);\n",
       "    } else {\n",
       "        this.send_message(\"toolbar_button\", {name: name});\n",
       "    }\n",
       "};\n",
       "\n",
       "mpl.figure.prototype.toolbar_button_onmouseover = function(tooltip) {\n",
       "    this.message.textContent = tooltip;\n",
       "};\n",
       "mpl.toolbar_items = [[\"Home\", \"Reset original view\", \"fa fa-home icon-home\", \"home\"], [\"Back\", \"Back to previous view\", \"fa fa-arrow-left icon-arrow-left\", \"back\"], [\"Forward\", \"Forward to next view\", \"fa fa-arrow-right icon-arrow-right\", \"forward\"], [\"\", \"\", \"\", \"\"], [\"Pan\", \"Pan axes with left mouse, zoom with right\", \"fa fa-arrows icon-move\", \"pan\"], [\"Zoom\", \"Zoom to rectangle\", \"fa fa-square-o icon-check-empty\", \"zoom\"], [\"\", \"\", \"\", \"\"], [\"Download\", \"Download plot\", \"fa fa-floppy-o icon-save\", \"download\"]];\n",
       "\n",
       "mpl.extensions = [\"eps\", \"jpeg\", \"pdf\", \"png\", \"ps\", \"raw\", \"svg\", \"tif\"];\n",
       "\n",
       "mpl.default_extension = \"png\";var comm_websocket_adapter = function(comm) {\n",
       "    // Create a \"websocket\"-like object which calls the given IPython comm\n",
       "    // object with the appropriate methods. Currently this is a non binary\n",
       "    // socket, so there is still some room for performance tuning.\n",
       "    var ws = {};\n",
       "\n",
       "    ws.close = function() {\n",
       "        comm.close()\n",
       "    };\n",
       "    ws.send = function(m) {\n",
       "        //console.log('sending', m);\n",
       "        comm.send(m);\n",
       "    };\n",
       "    // Register the callback with on_msg.\n",
       "    comm.on_msg(function(msg) {\n",
       "        //console.log('receiving', msg['content']['data'], msg);\n",
       "        // Pass the mpl event to the overridden (by mpl) onmessage function.\n",
       "        ws.onmessage(msg['content']['data'])\n",
       "    });\n",
       "    return ws;\n",
       "}\n",
       "\n",
       "mpl.mpl_figure_comm = function(comm, msg) {\n",
       "    // This is the function which gets called when the mpl process\n",
       "    // starts-up an IPython Comm through the \"matplotlib\" channel.\n",
       "\n",
       "    var id = msg.content.data.id;\n",
       "    // Get hold of the div created by the display call when the Comm\n",
       "    // socket was opened in Python.\n",
       "    var element = $(\"#\" + id);\n",
       "    var ws_proxy = comm_websocket_adapter(comm)\n",
       "\n",
       "    function ondownload(figure, format) {\n",
       "        window.open(figure.imageObj.src);\n",
       "    }\n",
       "\n",
       "    var fig = new mpl.figure(id, ws_proxy,\n",
       "                           ondownload,\n",
       "                           element.get(0));\n",
       "\n",
       "    // Call onopen now - mpl needs it, as it is assuming we've passed it a real\n",
       "    // web socket which is closed, not our websocket->open comm proxy.\n",
       "    ws_proxy.onopen();\n",
       "\n",
       "    fig.parent_element = element.get(0);\n",
       "    fig.cell_info = mpl.find_output_cell(\"<div id='\" + id + \"'></div>\");\n",
       "    if (!fig.cell_info) {\n",
       "        console.error(\"Failed to find cell for figure\", id, fig);\n",
       "        return;\n",
       "    }\n",
       "\n",
       "    var output_index = fig.cell_info[2]\n",
       "    var cell = fig.cell_info[0];\n",
       "\n",
       "};\n",
       "\n",
       "mpl.figure.prototype.handle_close = function(fig, msg) {\n",
       "    var width = fig.canvas.width/mpl.ratio\n",
       "    fig.root.unbind('remove')\n",
       "\n",
       "    // Update the output cell to use the data from the current canvas.\n",
       "    fig.push_to_output();\n",
       "    var dataURL = fig.canvas.toDataURL();\n",
       "    // Re-enable the keyboard manager in IPython - without this line, in FF,\n",
       "    // the notebook keyboard shortcuts fail.\n",
       "    IPython.keyboard_manager.enable()\n",
       "    $(fig.parent_element).html('<img src=\"' + dataURL + '\" width=\"' + width + '\">');\n",
       "    fig.close_ws(fig, msg);\n",
       "}\n",
       "\n",
       "mpl.figure.prototype.close_ws = function(fig, msg){\n",
       "    fig.send_message('closing', msg);\n",
       "    // fig.ws.close()\n",
       "}\n",
       "\n",
       "mpl.figure.prototype.push_to_output = function(remove_interactive) {\n",
       "    // Turn the data on the canvas into data in the output cell.\n",
       "    var width = this.canvas.width/mpl.ratio\n",
       "    var dataURL = this.canvas.toDataURL();\n",
       "    this.cell_info[1]['text/html'] = '<img src=\"' + dataURL + '\" width=\"' + width + '\">';\n",
       "}\n",
       "\n",
       "mpl.figure.prototype.updated_canvas_event = function() {\n",
       "    // Tell IPython that the notebook contents must change.\n",
       "    IPython.notebook.set_dirty(true);\n",
       "    this.send_message(\"ack\", {});\n",
       "    var fig = this;\n",
       "    // Wait a second, then push the new image to the DOM so\n",
       "    // that it is saved nicely (might be nice to debounce this).\n",
       "    setTimeout(function () { fig.push_to_output() }, 1000);\n",
       "}\n",
       "\n",
       "mpl.figure.prototype._init_toolbar = function() {\n",
       "    var fig = this;\n",
       "\n",
       "    var nav_element = $('<div/>');\n",
       "    nav_element.attr('style', 'width: 100%');\n",
       "    this.root.append(nav_element);\n",
       "\n",
       "    // Define a callback function for later on.\n",
       "    function toolbar_event(event) {\n",
       "        return fig.toolbar_button_onclick(event['data']);\n",
       "    }\n",
       "    function toolbar_mouse_event(event) {\n",
       "        return fig.toolbar_button_onmouseover(event['data']);\n",
       "    }\n",
       "\n",
       "    for(var toolbar_ind in mpl.toolbar_items){\n",
       "        var name = mpl.toolbar_items[toolbar_ind][0];\n",
       "        var tooltip = mpl.toolbar_items[toolbar_ind][1];\n",
       "        var image = mpl.toolbar_items[toolbar_ind][2];\n",
       "        var method_name = mpl.toolbar_items[toolbar_ind][3];\n",
       "\n",
       "        if (!name) { continue; };\n",
       "\n",
       "        var button = $('<button class=\"btn btn-default\" href=\"#\" title=\"' + name + '\"><i class=\"fa ' + image + ' fa-lg\"></i></button>');\n",
       "        button.click(method_name, toolbar_event);\n",
       "        button.mouseover(tooltip, toolbar_mouse_event);\n",
       "        nav_element.append(button);\n",
       "    }\n",
       "\n",
       "    // Add the status bar.\n",
       "    var status_bar = $('<span class=\"mpl-message\" style=\"text-align:right; float: right;\"/>');\n",
       "    nav_element.append(status_bar);\n",
       "    this.message = status_bar[0];\n",
       "\n",
       "    // Add the close button to the window.\n",
       "    var buttongrp = $('<div class=\"btn-group inline pull-right\"></div>');\n",
       "    var button = $('<button class=\"btn btn-mini btn-primary\" href=\"#\" title=\"Stop Interaction\"><i class=\"fa fa-power-off icon-remove icon-large\"></i></button>');\n",
       "    button.click(function (evt) { fig.handle_close(fig, {}); } );\n",
       "    button.mouseover('Stop Interaction', toolbar_mouse_event);\n",
       "    buttongrp.append(button);\n",
       "    var titlebar = this.root.find($('.ui-dialog-titlebar'));\n",
       "    titlebar.prepend(buttongrp);\n",
       "}\n",
       "\n",
       "mpl.figure.prototype._root_extra_style = function(el){\n",
       "    var fig = this\n",
       "    el.on(\"remove\", function(){\n",
       "\tfig.close_ws(fig, {});\n",
       "    });\n",
       "}\n",
       "\n",
       "mpl.figure.prototype._canvas_extra_style = function(el){\n",
       "    // this is important to make the div 'focusable\n",
       "    el.attr('tabindex', 0)\n",
       "    // reach out to IPython and tell the keyboard manager to turn it's self\n",
       "    // off when our div gets focus\n",
       "\n",
       "    // location in version 3\n",
       "    if (IPython.notebook.keyboard_manager) {\n",
       "        IPython.notebook.keyboard_manager.register_events(el);\n",
       "    }\n",
       "    else {\n",
       "        // location in version 2\n",
       "        IPython.keyboard_manager.register_events(el);\n",
       "    }\n",
       "\n",
       "}\n",
       "\n",
       "mpl.figure.prototype._key_event_extra = function(event, name) {\n",
       "    var manager = IPython.notebook.keyboard_manager;\n",
       "    if (!manager)\n",
       "        manager = IPython.keyboard_manager;\n",
       "\n",
       "    // Check for shift+enter\n",
       "    if (event.shiftKey && event.which == 13) {\n",
       "        this.canvas_div.blur();\n",
       "        // select the cell after this one\n",
       "        var index = IPython.notebook.find_cell_index(this.cell_info[0]);\n",
       "        IPython.notebook.select(index + 1);\n",
       "    }\n",
       "}\n",
       "\n",
       "mpl.figure.prototype.handle_save = function(fig, msg) {\n",
       "    fig.ondownload(fig, null);\n",
       "}\n",
       "\n",
       "\n",
       "mpl.find_output_cell = function(html_output) {\n",
       "    // Return the cell and output element which can be found *uniquely* in the notebook.\n",
       "    // Note - this is a bit hacky, but it is done because the \"notebook_saving.Notebook\"\n",
       "    // IPython event is triggered only after the cells have been serialised, which for\n",
       "    // our purposes (turning an active figure into a static one), is too late.\n",
       "    var cells = IPython.notebook.get_cells();\n",
       "    var ncells = cells.length;\n",
       "    for (var i=0; i<ncells; i++) {\n",
       "        var cell = cells[i];\n",
       "        if (cell.cell_type === 'code'){\n",
       "            for (var j=0; j<cell.output_area.outputs.length; j++) {\n",
       "                var data = cell.output_area.outputs[j];\n",
       "                if (data.data) {\n",
       "                    // IPython >= 3 moved mimebundle to data attribute of output\n",
       "                    data = data.data;\n",
       "                }\n",
       "                if (data['text/html'] == html_output) {\n",
       "                    return [cell, data, j];\n",
       "                }\n",
       "            }\n",
       "        }\n",
       "    }\n",
       "}\n",
       "\n",
       "// Register the function which deals with the matplotlib target/channel.\n",
       "// The kernel may be null if the page has been refreshed.\n",
       "if (IPython.notebook.kernel != null) {\n",
       "    IPython.notebook.kernel.comm_manager.register_target('matplotlib', mpl.mpl_figure_comm);\n",
       "}\n"
      ],
      "text/plain": [
       "<IPython.core.display.Javascript object>"
      ]
     },
     "metadata": {},
     "output_type": "display_data"
    },
    {
     "data": {
      "text/html": [
       "<img src=\"data:image/png;base64,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\" width=\"1000\">"
      ],
      "text/plain": [
       "<IPython.core.display.HTML object>"
      ]
     },
     "metadata": {},
     "output_type": "display_data"
    }
   ],
   "source": [
    "avgEff=0\n",
    "avgFP=0\n",
    "print('for model: ', model)   \n",
    "run_name = 'ACN_3_P_10L_4S_BN (P5)'\n",
    "# Create an mlflow run\n",
    "with mlflow.start_run(run_name=run_name) as run:\n",
    "    # Log parameters of the model\n",
    "    for key, value in vars(args).items():\n",
    "        print(key, value)\n",
    "        mlflow.log_param(key, value)\n",
    "    \n",
    "    # Log parameter count in the model\n",
    "    mlflow.log_param('Parameters', count_parameters(model))\n",
    "    \n",
    "    # Begin run\n",
    "    for result in trainNet(model, optimizer, loss,\n",
    "                            train_loader, val_loader,\n",
    "                            args.epochs+args.epoch_start, epoch_start=args.epoch_start,\n",
    "                            notebook=True, device=device):\n",
    "\n",
    "        result = result._asdict()\n",
    "        results = results.append(pd.Series(result), ignore_index=True)\n",
    "    \n",
    "        xs = results.index\n",
    "    \n",
    "        # Update the plot above\n",
    "        lines['train'].set_data(results.index,results.cost)\n",
    "        lines['val'].set_data(results.index,results.val)\n",
    "    \n",
    "        #filter first cost epoch (can be really large)\n",
    "        max_cost = max(max(results.cost if len(results.cost)<2 else results.cost[1:]), max(results.val))\n",
    "        min_cost = min(min(results.cost), min(results.val))\n",
    "    \n",
    "        # The plot limits need updating too\n",
    "        ax.set_ylim(min_cost*.9, max_cost*1.1)  \n",
    "        ax.set_xlim(-.5, len(results.cost) - .5)\n",
    "    \n",
    "        replace_in_ax(lax, lines['eff'], xs, results['eff_val'].apply(lambda x: x.eff_rate))\n",
    "        replace_in_ax(tax, lines['fp'], xs, results['eff_val'].apply(lambda x: x.fp_rate))\n",
    "    \n",
    "        # Redraw the figure\n",
    "        fig.canvas.draw()\n",
    "            \n",
    "        ## MLFLOW ##\n",
    "        # Log metrics\n",
    "        mlflow.log_metric('Efficiency', result['eff_val'].eff_rate, result['epoch'])\n",
    "        mlflow.log_metric('False Positive Rate',  result['eff_val'].fp_rate, result['epoch'])\n",
    "        mlflow.log_metric('Validation Loss',  result['val'], result['epoch'])\n",
    "        mlflow.log_metric('Training Loss',  result['cost'], result['epoch'])\n",
    "        \n",
    "        print('Result epoch: ', result['epoch'])\n",
    "        if(result['epoch'] >= args.epochs + args.epoch_start - 10):\n",
    "            avgEff += result['eff_val'].eff_rate\n",
    "            avgFP += result['eff_val'].fp_rate\n",
    "           \n",
    "        if(result['epoch'] == args.epochs + args.epoch_start - 1):\n",
    "            print('Averaging...\\n')\n",
    "            avgEff /= 10\n",
    "            avgFP /= 10\n",
    "            mlflow.log_metric('10 Efficiency Average', avgEff)\n",
    "            mlflow.log_metric('10 False Positive Average', avgFP)\n",
    "            \n",
    "        print('Average Eff: ', avgEff)\n",
    "        print('Average FP Rate: ', avgFP)\n",
    "            \n",
    "        # Log tags\n",
    "#        mlflow.set_tag('Optimizer', 'Adam')\n",
    "#        mlflow.set_tag('Kernel size', 'Mixed')\n",
    "#        mlflow.set_tag('Skip connections', '3')\n",
    "#        mlflow.set_tag('Activation', 'Softplus')\n",
    "#        mlflow.set_tag('Mid Activation', 'Relu')\n",
    "        mlflow.set_tag('Asymmetry', '2.5')\n",
    "        mlflow.set_tag('KDE', 'Poca')\n",
    "\n",
    "        # Save model state dictionary, optimizer state dictionary, and epoch number\n",
    "        torch.save({\n",
    "            'model':model.state_dict(),\n",
    "            'optimizer':optimizer.state_dict(),\n",
    "            'epoch':args.epochs+result['epoch']\n",
    "            }, 'run_stats.pyt')\n",
    "        # Save the run stats into mlflow\n",
    "        mlflow.log_artifact('run_stats.pyt')\n",
    "            \n",
    "        # Save a diagram of the architecture\n",
    "#        HL.transforms.Fold(\"Conv\", \"Conv\"),\n",
    "#        HL.build_graph(model, torch.zeros([args.batch_size, 1, 4000]).to(device)).save('architecture', format='png')\n",
    "#        mlflow.log_artifact('architecture.png')\n",
    "        \n",
    "        # log the code for the model architecture\n",
    "#        mlflow.log_artifact('architecture.txt')\n",
    "        \n",
    "    dual_train_plots(results.index,\n",
    "                 results.cost, results.val, \n",
    "                 results['eff_val'].apply(lambda x: x.eff_rate),\n",
    "                 results['eff_val'].apply(lambda x: x.fp_rate))\n",
    "    # save plot\n",
    "    plt.tight_layout()\n",
    "    plt.savefig('plot.png')\n",
    "    mlflow.log_artifact('plot.png')"
   ]
  },
  {
   "cell_type": "code",
   "execution_count": 13,
   "metadata": {},
   "outputs": [
    {
     "name": "stderr",
     "output_type": "stream",
     "text": [
      "/data/conda/envs/goofit-june2020/lib/python3.7/site-packages/ipykernel/ipkernel.py:287: DeprecationWarning: `should_run_async` will not call `transform_cell` automatically in the future. Please pass the result to `transformed_cell` argument and any exception that happen during thetransform in `preprocessing_exc_tuple` in IPython 7.17 and above.\n",
      "  and should_run_async(code)\n"
     ]
    }
   ],
   "source": [
    "##quit()"
   ]
  }
 ],
 "metadata": {
  "kernelspec": {
   "display_name": "goofit-june2020",
   "language": "python",
   "name": "goofit-june2020"
  },
  "language_info": {
   "codemirror_mode": {
    "name": "ipython",
    "version": 3
   },
   "file_extension": ".py",
   "mimetype": "text/x-python",
   "name": "python",
   "nbconvert_exporter": "python",
   "pygments_lexer": "ipython3",
   "version": "3.7.6"
  }
 },
 "nbformat": 4,
 "nbformat_minor": 2
}
