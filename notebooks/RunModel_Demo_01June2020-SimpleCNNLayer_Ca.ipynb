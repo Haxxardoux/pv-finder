{
 "cells": [
  {
   "cell_type": "code",
   "execution_count": 1,
   "metadata": {},
   "outputs": [],
   "source": [
    "##%matplotlib widget\n",
    "## with %matplotlib notebook: seems to require ipympl as part of environment, either\n",
    "## part of the conda environment or \"pip install ipympl\"\n",
    "## otherwise, does not show ANY plots in notebook, plt.savefig() works\n",
    "%matplotlib notebook  \n",
    "##%matplotlib inline    ## --plt.savefig()  works, but re-sizing does NOT\n"
   ]
  },
  {
   "cell_type": "markdown",
   "metadata": {},
   "source": [
    "This notebook is a short demo to illustrate execution.   For odd historical reasons, it uses \"toy Monte Carlo\" (simulated data)for \"training\" and \"full LHCB MC\" for validation.\n",
    "\n",
    "The network architecture is a FourFeature model that has the same basic structure as the TwoFeature 6 convolutional layer  model. The differences/similarlities are:\n",
    "\n",
    "  [1]  the FourFeature model has four channels of input rather than two.\n",
    "  [2]  the extra two channels are added by using load_xy=True in collect_data (x2)\n",
    "  [3]  the pretrained_dict is used with strict=False\n",
    "  \n",
    "In the first iterations, the weights from a trained TwoFeature_CNN6Layer_A model should be reused for the (X,Xsq) part of the algorithm, and the algorithm should only learn the filter for the (perturbative) (x,y) features.\n",
    "  \n",
    "Once the perturbative filters are beng generated, the algorithm can start with weights from a previous iteration of this algorithm and all weights free to float."
   ]
  },
  {
   "cell_type": "markdown",
   "metadata": {},
   "source": [
    "Check the current GPU usage. Please try to be nice!"
   ]
  },
  {
   "cell_type": "code",
   "execution_count": 2,
   "metadata": {},
   "outputs": [
    {
     "name": "stdout",
     "output_type": "stream",
     "text": [
      "Mon Jun  1 21:19:31 2020       \r\n",
      "+-----------------------------------------------------------------------------+\r\n",
      "| NVIDIA-SMI 440.64.00    Driver Version: 440.64.00    CUDA Version: 10.2     |\r\n",
      "|-------------------------------+----------------------+----------------------+\r\n",
      "| GPU  Name        Persistence-M| Bus-Id        Disp.A | Volatile Uncorr. ECC |\r\n",
      "| Fan  Temp  Perf  Pwr:Usage/Cap|         Memory-Usage | GPU-Util  Compute M. |\r\n",
      "|===============================+======================+======================|\r\n",
      "|   0  TITAN V             Off  | 00000000:03:00.0 Off |                  N/A |\r\n",
      "| 28%   31C    P8    23W / 250W |      0MiB / 12066MiB |      0%      Default |\r\n",
      "+-------------------------------+----------------------+----------------------+\r\n",
      "|   1  Tesla P100-PCIE...  Off  | 00000000:83:00.0 Off |                    0 |\r\n",
      "| N/A   31C    P0    27W / 250W |      0MiB / 16280MiB |      0%      Default |\r\n",
      "+-------------------------------+----------------------+----------------------+\r\n",
      "|   2  TITAN V             Off  | 00000000:84:00.0 Off |                  N/A |\r\n",
      "| 28%   34C    P8    25W / 250W |      0MiB / 12066MiB |      0%      Default |\r\n",
      "+-------------------------------+----------------------+----------------------+\r\n",
      "                                                                               \r\n",
      "+-----------------------------------------------------------------------------+\r\n",
      "| Processes:                                                       GPU Memory |\r\n",
      "|  GPU       PID   Type   Process name                             Usage      |\r\n",
      "|=============================================================================|\r\n",
      "|  No running processes found                                                 |\r\n",
      "+-----------------------------------------------------------------------------+\r\n"
     ]
    }
   ],
   "source": [
    "!nvidia-smi"
   ]
  },
  {
   "cell_type": "markdown",
   "metadata": {},
   "source": [
    "> **WARNING**: The card numbers here are *not* the same as in CUDA. You have been warned."
   ]
  },
  {
   "cell_type": "markdown",
   "metadata": {},
   "source": [
    "## Imports"
   ]
  },
  {
   "cell_type": "code",
   "execution_count": 3,
   "metadata": {},
   "outputs": [],
   "source": [
    "import matplotlib.pyplot as plt\n",
    "import numpy as np\n",
    "import time\n",
    "import torch\n",
    "import pandas as pd\n",
    "\n",
    "# Python 3 standard library\n",
    "from pathlib import Path\n",
    "\n",
    "from torchsummary import summary"
   ]
  },
  {
   "cell_type": "markdown",
   "metadata": {},
   "source": [
    "### Set up local parameters"
   ]
  },
  {
   "cell_type": "code",
   "execution_count": 4,
   "metadata": {},
   "outputs": [],
   "source": [
    "n_epochs = 20\n",
    "\n",
    "# Name is the output file name\n",
    "\n",
    "\n",
    "##  190810  mds\n",
    "folder = '01June2020_CNN5Layer_Ca_20epochs_F'\n",
    "name = '01June2020_CNN5Layer_Ca_20epochs_F'\n",
    "\n",
    "# Make an output folder named \"name\" (change if you want)\n",
    "\n",
    "## Special instructions for those working on goofy at UC\n",
    "## Please be very careful to make sure that your folder\n",
    "## does not live in a subdirectory of your home directory\n",
    "## this disk has very little capacity. Instead, use \n",
    "## a subdirectory in /share/lazy with a symbolic link to\n",
    "## it in this (the notebooks) subdirectory\n",
    "folder = 'ML/' + folder\n",
    "output = Path(folder)\n",
    "\n",
    "\n",
    "# Size of batches\n",
    "batch_size = 128\n",
    "\n",
    "# How fast to learn\n",
    "learning_rate = 1e-4"
   ]
  },
  {
   "cell_type": "markdown",
   "metadata": {},
   "source": [
    "Make the output directory if it does not exist:"
   ]
  },
  {
   "cell_type": "code",
   "execution_count": 5,
   "metadata": {},
   "outputs": [],
   "source": [
    "output.mkdir(exist_ok=True)"
   ]
  },
  {
   "cell_type": "markdown",
   "metadata": {},
   "source": [
    "## Get the helper functions\n",
    "\n",
    "Add the directory with the model\n",
    "definitions to the path so we can import from it:\n",
    "\n",
    "> When you type `import X`,\n",
    "Python searches `sys.path` for a python\n",
    "file named `X.py` to import. So we need to add the model directory to the path."
   ]
  },
  {
   "cell_type": "code",
   "execution_count": 6,
   "metadata": {
    "scrolled": true
   },
   "outputs": [],
   "source": [
    "# From model/collectdata.py\n",
    "from model.collectdata_mdsA import collect_data\n",
    "\n",
    "# From model/loss.py\n",
    "##from loss import Loss\n",
    "from model.alt_loss_A import Loss\n",
    "\n",
    "# From model/training.py\n",
    "from model.training import trainNet, select_gpu\n",
    "\n",
    "# From model/models.py\n",
    "##  will start with model from TwoFeatures_CNN6Layer_A in the first instance\n",
    "##  see relevant cell below\n",
    "\n",
    "\n",
    "from model.models_mds_01June20 import SimpleCNN5Layer_Ca as Model\n",
    "\n",
    "from model.training import trainNet, select_gpu, Results\n",
    "from model.plots import dual_train_plots, replace_in_ax"
   ]
  },
  {
   "cell_type": "code",
   "execution_count": 7,
   "metadata": {},
   "outputs": [],
   "source": [
    "# This gets built up during the run - do not rerun this cell\n",
    "results = pd.DataFrame([], columns=Results._fields)"
   ]
  },
  {
   "cell_type": "markdown",
   "metadata": {},
   "source": [
    "Set up Torch device configuration. All tensors and model parameters need to know where to be put.\n",
    "This takes a BUS ID number: The BUS ID is the same as the listing at the top of this script."
   ]
  },
  {
   "cell_type": "code",
   "execution_count": 8,
   "metadata": {},
   "outputs": [
    {
     "name": "stdout",
     "output_type": "stream",
     "text": [
      "1 available GPUs (initially using device 0):\n",
      "  0 TITAN V\n"
     ]
    }
   ],
   "source": [
    "device = select_gpu(0)"
   ]
  },
  {
   "cell_type": "markdown",
   "metadata": {},
   "source": [
    "## Loading data\n",
    "\n",
    "Load the dataset, split into parts, then move to device (see `collectdata.py` in the `../model` directory)"
   ]
  },
  {
   "cell_type": "code",
   "execution_count": 9,
   "metadata": {
    "scrolled": true
   },
   "outputs": [
    {
     "name": "stdout",
     "output_type": "stream",
     "text": [
      "Loading data...\n",
      "Loaded dataAA/Aug14_80K_train.h5 in 11.89 s\n",
      "Loaded dataAA/Oct03_80K_train.h5 in 11.73 s\n",
      "Constructing 160000 event dataset took 0.648 s\n",
      "Loading data...\n",
      "Loaded dataAA/Oct03_20K_val.h5 in 2.576 s\n",
      "Constructing 9984 event dataset took 3.194 s\n"
     ]
    }
   ],
   "source": [
    "## newer vernacular\n",
    "## Training dataset. You can put as many files here as desired.\n",
    "\n",
    "## in this DEMO example we use only one 80K training set -- the model starts with well-trained weights,\n",
    "## and using a smaller training set reduces both the time to load the data and the time to train an epoch\n",
    "##  set the option load_XandXsq = True to use both DKE and KDE^2 as input features\n",
    "train_loader = collect_data('dataAA/Aug14_80K_train.h5',\n",
    "                            'dataAA/Oct03_80K_train.h5',\n",
    "##                            'dataAA/Oct03_80K2_train.h5',\n",
    "                             batch_size=batch_size,\n",
    "## if we are using a larger dataset (240K events, with the datasets above, and 11 GB  of GPU memory),\n",
    "## not the dataset will overflow the GPU memory; device=device will allow the data to move back\n",
    "## and forth between the CPU and GPU memory. While this allows use of a larger dataset, it slows\n",
    "## down performance by about 10%.  So comment out when not needed.\n",
    "##                           device=device,\n",
    "                            masking=True, shuffle=True,\n",
    "                            load_XandXsq=False,\n",
    "                            load_xy=False)\n",
    "\n",
    "# Validation dataset. You can slice to reduce the size.\n",
    "## dataAA -> /share/lazy/sokoloff/ML-data_AA/\n",
    "val_loader = collect_data('dataAA/Oct03_20K_val.h5',\n",
    "## mds val_loader = collect_data('dataAA/HLT1CPU_1kevts_val.h5',\n",
    "\n",
    "                          batch_size=batch_size,\n",
    "                          slice=slice(256 * 39),\n",
    "                          device=device,\n",
    "                          masking=True, shuffle=False,\n",
    "                          load_XandXsq=False,\n",
    "                          load_xy=False)"
   ]
  },
  {
   "cell_type": "markdown",
   "metadata": {},
   "source": [
    "# Preparing the model"
   ]
  },
  {
   "cell_type": "markdown",
   "metadata": {},
   "source": [
    "Prepare a model, use multiple GPUs if they are VISIBLE, and move the model to the device."
   ]
  },
  {
   "cell_type": "code",
   "execution_count": 10,
   "metadata": {
    "scrolled": true
   },
   "outputs": [
    {
     "name": "stdout",
     "output_type": "stream",
     "text": [
      "ct, child =  0    Conv1d(1, 20, kernel_size=(25,), stride=(1,), padding=(12,))\n",
      "ct, child =  1    Conv1d(20, 10, kernel_size=(15,), stride=(1,), padding=(7,))\n",
      "ct, child =  2    Conv1d(10, 10, kernel_size=(15,), stride=(1,), padding=(7,))\n",
      "ct, child =  3    Conv1d(10, 10, kernel_size=(15,), stride=(1,), padding=(7,))\n",
      "ct, child =  4    Conv1d(10, 1, kernel_size=(5,), stride=(1,), padding=(2,))\n",
      "ct, child =  5    Dropout(p=0.15, inplace=False)\n",
      "ct, child =  6    Dropout(p=0.15, inplace=False)\n",
      "ct, child =  7    Dropout(p=0.15, inplace=False)\n",
      "ct, child =  8    Dropout(p=0.15, inplace=False)\n",
      "ct, child =  9    Dropout(p=0.35, inplace=False)\n",
      "ct, child =  10    Linear(in_features=4000, out_features=4000, bias=True)\n"
     ]
    }
   ],
   "source": [
    "model = Model()\n",
    "\n",
    "##summary(model, input_size=(4, 4000))\n",
    "##print(model.parameters)\n",
    "\n",
    "## add the following code to allow the user to freeze the some of the weights corresponding \n",
    "## to those taken from an earlier model trained with the original target histograms\n",
    "## presumably -- this leaves either the perturbative filter \"fixed\" and lets the \n",
    "## learning focus on the non-perturbative features, so get started faster, or vice versa\n",
    "ct = 0\n",
    "for child in model.children():\n",
    "  print('ct, child = ',ct, \"  \", child)\n",
    "  if ct < 0:\n",
    "    print(\"     About to set param.requires_grad=False for ct = \", ct, \"params\")\n",
    "    for param in child.parameters():\n",
    "        param.requires_grad = False \n",
    "  ct += 1\n",
    "##  mds 200121 loss = Loss(epsilon=1e-5,coefficient=1.0)\n",
    "loss = Loss(epsilon=1e-5,coefficient=2.5)\n",
    "optimizer = torch.optim.Adam(model.parameters(), lr=learning_rate)"
   ]
  },
  {
   "cell_type": "code",
   "execution_count": 11,
   "metadata": {
    "scrolled": true
   },
   "outputs": [
    {
     "name": "stdout",
     "output_type": "stream",
     "text": [
      "Let's use 1 GPUs!\n"
     ]
    }
   ],
   "source": [
    "print(\"Let's use\", torch.cuda.device_count(), \"GPUs!\")\n",
    "if torch.cuda.device_count() > 1:\n",
    "    model = torch.nn.DataParallel(model)"
   ]
  },
  {
   "cell_type": "markdown",
   "metadata": {},
   "source": [
    "Let's move the model's weight matricies to the GPU:"
   ]
  },
  {
   "cell_type": "markdown",
   "metadata": {
    "scrolled": true
   },
   "source": [
    "print('output = ',output)\n",
    "##print('oldOutput = ',oldOutput)\n",
    "##  use the first four layers from a pre-existing model\n",
    "##  see example at https://discuss.pytorch.org/t/how-to-load-part-of-pre-trained-model/1113\n",
    "\n",
    "##   ML -> /share/lazy/sokoloff/ML\n",
    "pretrained_dict = torch.load('ML/Aug17_FourFeature_CNN6LayerPlus_TargetsAA_Loss_A_1p0_final.pyt')\n",
    "model_dict = model.state_dict()\n",
    "## mds 190725 for debugging\n",
    "print(\"for model_dict\")\n",
    "index = 0\n",
    "for k,v in model_dict.items():\n",
    "    print(\"index, k =  \",index,\"  \",k)\n",
    "    index = index+1\n",
    "    \n",
    "print(\" \\n\",\"  for pretrained_dict\")\n",
    "index = 0\n",
    "for k,v in pretrained_dict.items():\n",
    "    print(\"index, k =  \",index,\"  \",k)\n",
    "    index = index+1\n",
    "## mds  \n",
    "\n",
    "print(\"model_dict instantiated\")\n",
    "# 1. filter out unnecessary keys\n",
    "pretrained_dict = {k: v for k, v in pretrained_dict.items() if k in model_dict}\n",
    "## print(\"pretrained_dict iterated\")\n",
    "# 2. overwrite entries in the existing state dict\n",
    "model_dict.update(pretrained_dict) \n",
    "##\n",
    "#   when starting from a model with a fully connected last layer rather than a convolutional layer\n",
    "# 3. load the new state dict\n",
    "#   need to use strict=False as the two models state model attributes do not agree exactly\n",
    "#   see https://pytorch.org/docs/master/_modules/torch/nn/modules/module.html#Module.load_state_dict\n",
    "\n",
    "model.load_state_dict(pretrained_dict,strict=False)\n",
    "\n",
    "## print('model_dict =    ', model_dict)\n"
   ]
  },
  {
   "cell_type": "code",
   "execution_count": 12,
   "metadata": {
    "scrolled": true
   },
   "outputs": [],
   "source": [
    "model = model.to(device)"
   ]
  },
  {
   "cell_type": "markdown",
   "metadata": {},
   "source": [
    "## Train \n",
    "\n",
    "\n",
    "\n",
    "The body of this loop runs once per epoch. Results is a named tuple of values (loss per epoch for training and validation, time each). Start by setting up a plot first:"
   ]
  },
  {
   "cell_type": "code",
   "execution_count": 13,
   "metadata": {
    "scrolled": false
   },
   "outputs": [
    {
     "data": {
      "application/javascript": [
       "/* Put everything inside the global mpl namespace */\n",
       "window.mpl = {};\n",
       "\n",
       "\n",
       "mpl.get_websocket_type = function() {\n",
       "    if (typeof(WebSocket) !== 'undefined') {\n",
       "        return WebSocket;\n",
       "    } else if (typeof(MozWebSocket) !== 'undefined') {\n",
       "        return MozWebSocket;\n",
       "    } else {\n",
       "        alert('Your browser does not have WebSocket support. ' +\n",
       "              'Please try Chrome, Safari or Firefox ≥ 6. ' +\n",
       "              'Firefox 4 and 5 are also supported but you ' +\n",
       "              'have to enable WebSockets in about:config.');\n",
       "    };\n",
       "}\n",
       "\n",
       "mpl.figure = function(figure_id, websocket, ondownload, parent_element) {\n",
       "    this.id = figure_id;\n",
       "\n",
       "    this.ws = websocket;\n",
       "\n",
       "    this.supports_binary = (this.ws.binaryType != undefined);\n",
       "\n",
       "    if (!this.supports_binary) {\n",
       "        var warnings = document.getElementById(\"mpl-warnings\");\n",
       "        if (warnings) {\n",
       "            warnings.style.display = 'block';\n",
       "            warnings.textContent = (\n",
       "                \"This browser does not support binary websocket messages. \" +\n",
       "                    \"Performance may be slow.\");\n",
       "        }\n",
       "    }\n",
       "\n",
       "    this.imageObj = new Image();\n",
       "\n",
       "    this.context = undefined;\n",
       "    this.message = undefined;\n",
       "    this.canvas = undefined;\n",
       "    this.rubberband_canvas = undefined;\n",
       "    this.rubberband_context = undefined;\n",
       "    this.format_dropdown = undefined;\n",
       "\n",
       "    this.image_mode = 'full';\n",
       "\n",
       "    this.root = $('<div/>');\n",
       "    this._root_extra_style(this.root)\n",
       "    this.root.attr('style', 'display: inline-block');\n",
       "\n",
       "    $(parent_element).append(this.root);\n",
       "\n",
       "    this._init_header(this);\n",
       "    this._init_canvas(this);\n",
       "    this._init_toolbar(this);\n",
       "\n",
       "    var fig = this;\n",
       "\n",
       "    this.waiting = false;\n",
       "\n",
       "    this.ws.onopen =  function () {\n",
       "            fig.send_message(\"supports_binary\", {value: fig.supports_binary});\n",
       "            fig.send_message(\"send_image_mode\", {});\n",
       "            if (mpl.ratio != 1) {\n",
       "                fig.send_message(\"set_dpi_ratio\", {'dpi_ratio': mpl.ratio});\n",
       "            }\n",
       "            fig.send_message(\"refresh\", {});\n",
       "        }\n",
       "\n",
       "    this.imageObj.onload = function() {\n",
       "            if (fig.image_mode == 'full') {\n",
       "                // Full images could contain transparency (where diff images\n",
       "                // almost always do), so we need to clear the canvas so that\n",
       "                // there is no ghosting.\n",
       "                fig.context.clearRect(0, 0, fig.canvas.width, fig.canvas.height);\n",
       "            }\n",
       "            fig.context.drawImage(fig.imageObj, 0, 0);\n",
       "        };\n",
       "\n",
       "    this.imageObj.onunload = function() {\n",
       "        fig.ws.close();\n",
       "    }\n",
       "\n",
       "    this.ws.onmessage = this._make_on_message_function(this);\n",
       "\n",
       "    this.ondownload = ondownload;\n",
       "}\n",
       "\n",
       "mpl.figure.prototype._init_header = function() {\n",
       "    var titlebar = $(\n",
       "        '<div class=\"ui-dialog-titlebar ui-widget-header ui-corner-all ' +\n",
       "        'ui-helper-clearfix\"/>');\n",
       "    var titletext = $(\n",
       "        '<div class=\"ui-dialog-title\" style=\"width: 100%; ' +\n",
       "        'text-align: center; padding: 3px;\"/>');\n",
       "    titlebar.append(titletext)\n",
       "    this.root.append(titlebar);\n",
       "    this.header = titletext[0];\n",
       "}\n",
       "\n",
       "\n",
       "\n",
       "mpl.figure.prototype._canvas_extra_style = function(canvas_div) {\n",
       "\n",
       "}\n",
       "\n",
       "\n",
       "mpl.figure.prototype._root_extra_style = function(canvas_div) {\n",
       "\n",
       "}\n",
       "\n",
       "mpl.figure.prototype._init_canvas = function() {\n",
       "    var fig = this;\n",
       "\n",
       "    var canvas_div = $('<div/>');\n",
       "\n",
       "    canvas_div.attr('style', 'position: relative; clear: both; outline: 0');\n",
       "\n",
       "    function canvas_keyboard_event(event) {\n",
       "        return fig.key_event(event, event['data']);\n",
       "    }\n",
       "\n",
       "    canvas_div.keydown('key_press', canvas_keyboard_event);\n",
       "    canvas_div.keyup('key_release', canvas_keyboard_event);\n",
       "    this.canvas_div = canvas_div\n",
       "    this._canvas_extra_style(canvas_div)\n",
       "    this.root.append(canvas_div);\n",
       "\n",
       "    var canvas = $('<canvas/>');\n",
       "    canvas.addClass('mpl-canvas');\n",
       "    canvas.attr('style', \"left: 0; top: 0; z-index: 0; outline: 0\")\n",
       "\n",
       "    this.canvas = canvas[0];\n",
       "    this.context = canvas[0].getContext(\"2d\");\n",
       "\n",
       "    var backingStore = this.context.backingStorePixelRatio ||\n",
       "\tthis.context.webkitBackingStorePixelRatio ||\n",
       "\tthis.context.mozBackingStorePixelRatio ||\n",
       "\tthis.context.msBackingStorePixelRatio ||\n",
       "\tthis.context.oBackingStorePixelRatio ||\n",
       "\tthis.context.backingStorePixelRatio || 1;\n",
       "\n",
       "    mpl.ratio = (window.devicePixelRatio || 1) / backingStore;\n",
       "\n",
       "    var rubberband = $('<canvas/>');\n",
       "    rubberband.attr('style', \"position: absolute; left: 0; top: 0; z-index: 1;\")\n",
       "\n",
       "    var pass_mouse_events = true;\n",
       "\n",
       "    canvas_div.resizable({\n",
       "        start: function(event, ui) {\n",
       "            pass_mouse_events = false;\n",
       "        },\n",
       "        resize: function(event, ui) {\n",
       "            fig.request_resize(ui.size.width, ui.size.height);\n",
       "        },\n",
       "        stop: function(event, ui) {\n",
       "            pass_mouse_events = true;\n",
       "            fig.request_resize(ui.size.width, ui.size.height);\n",
       "        },\n",
       "    });\n",
       "\n",
       "    function mouse_event_fn(event) {\n",
       "        if (pass_mouse_events)\n",
       "            return fig.mouse_event(event, event['data']);\n",
       "    }\n",
       "\n",
       "    rubberband.mousedown('button_press', mouse_event_fn);\n",
       "    rubberband.mouseup('button_release', mouse_event_fn);\n",
       "    // Throttle sequential mouse events to 1 every 20ms.\n",
       "    rubberband.mousemove('motion_notify', mouse_event_fn);\n",
       "\n",
       "    rubberband.mouseenter('figure_enter', mouse_event_fn);\n",
       "    rubberband.mouseleave('figure_leave', mouse_event_fn);\n",
       "\n",
       "    canvas_div.on(\"wheel\", function (event) {\n",
       "        event = event.originalEvent;\n",
       "        event['data'] = 'scroll'\n",
       "        if (event.deltaY < 0) {\n",
       "            event.step = 1;\n",
       "        } else {\n",
       "            event.step = -1;\n",
       "        }\n",
       "        mouse_event_fn(event);\n",
       "    });\n",
       "\n",
       "    canvas_div.append(canvas);\n",
       "    canvas_div.append(rubberband);\n",
       "\n",
       "    this.rubberband = rubberband;\n",
       "    this.rubberband_canvas = rubberband[0];\n",
       "    this.rubberband_context = rubberband[0].getContext(\"2d\");\n",
       "    this.rubberband_context.strokeStyle = \"#000000\";\n",
       "\n",
       "    this._resize_canvas = function(width, height) {\n",
       "        // Keep the size of the canvas, canvas container, and rubber band\n",
       "        // canvas in synch.\n",
       "        canvas_div.css('width', width)\n",
       "        canvas_div.css('height', height)\n",
       "\n",
       "        canvas.attr('width', width * mpl.ratio);\n",
       "        canvas.attr('height', height * mpl.ratio);\n",
       "        canvas.attr('style', 'width: ' + width + 'px; height: ' + height + 'px;');\n",
       "\n",
       "        rubberband.attr('width', width);\n",
       "        rubberband.attr('height', height);\n",
       "    }\n",
       "\n",
       "    // Set the figure to an initial 600x600px, this will subsequently be updated\n",
       "    // upon first draw.\n",
       "    this._resize_canvas(600, 600);\n",
       "\n",
       "    // Disable right mouse context menu.\n",
       "    $(this.rubberband_canvas).bind(\"contextmenu\",function(e){\n",
       "        return false;\n",
       "    });\n",
       "\n",
       "    function set_focus () {\n",
       "        canvas.focus();\n",
       "        canvas_div.focus();\n",
       "    }\n",
       "\n",
       "    window.setTimeout(set_focus, 100);\n",
       "}\n",
       "\n",
       "mpl.figure.prototype._init_toolbar = function() {\n",
       "    var fig = this;\n",
       "\n",
       "    var nav_element = $('<div/>');\n",
       "    nav_element.attr('style', 'width: 100%');\n",
       "    this.root.append(nav_element);\n",
       "\n",
       "    // Define a callback function for later on.\n",
       "    function toolbar_event(event) {\n",
       "        return fig.toolbar_button_onclick(event['data']);\n",
       "    }\n",
       "    function toolbar_mouse_event(event) {\n",
       "        return fig.toolbar_button_onmouseover(event['data']);\n",
       "    }\n",
       "\n",
       "    for(var toolbar_ind in mpl.toolbar_items) {\n",
       "        var name = mpl.toolbar_items[toolbar_ind][0];\n",
       "        var tooltip = mpl.toolbar_items[toolbar_ind][1];\n",
       "        var image = mpl.toolbar_items[toolbar_ind][2];\n",
       "        var method_name = mpl.toolbar_items[toolbar_ind][3];\n",
       "\n",
       "        if (!name) {\n",
       "            // put a spacer in here.\n",
       "            continue;\n",
       "        }\n",
       "        var button = $('<button/>');\n",
       "        button.addClass('ui-button ui-widget ui-state-default ui-corner-all ' +\n",
       "                        'ui-button-icon-only');\n",
       "        button.attr('role', 'button');\n",
       "        button.attr('aria-disabled', 'false');\n",
       "        button.click(method_name, toolbar_event);\n",
       "        button.mouseover(tooltip, toolbar_mouse_event);\n",
       "\n",
       "        var icon_img = $('<span/>');\n",
       "        icon_img.addClass('ui-button-icon-primary ui-icon');\n",
       "        icon_img.addClass(image);\n",
       "        icon_img.addClass('ui-corner-all');\n",
       "\n",
       "        var tooltip_span = $('<span/>');\n",
       "        tooltip_span.addClass('ui-button-text');\n",
       "        tooltip_span.html(tooltip);\n",
       "\n",
       "        button.append(icon_img);\n",
       "        button.append(tooltip_span);\n",
       "\n",
       "        nav_element.append(button);\n",
       "    }\n",
       "\n",
       "    var fmt_picker_span = $('<span/>');\n",
       "\n",
       "    var fmt_picker = $('<select/>');\n",
       "    fmt_picker.addClass('mpl-toolbar-option ui-widget ui-widget-content');\n",
       "    fmt_picker_span.append(fmt_picker);\n",
       "    nav_element.append(fmt_picker_span);\n",
       "    this.format_dropdown = fmt_picker[0];\n",
       "\n",
       "    for (var ind in mpl.extensions) {\n",
       "        var fmt = mpl.extensions[ind];\n",
       "        var option = $(\n",
       "            '<option/>', {selected: fmt === mpl.default_extension}).html(fmt);\n",
       "        fmt_picker.append(option);\n",
       "    }\n",
       "\n",
       "    // Add hover states to the ui-buttons\n",
       "    $( \".ui-button\" ).hover(\n",
       "        function() { $(this).addClass(\"ui-state-hover\");},\n",
       "        function() { $(this).removeClass(\"ui-state-hover\");}\n",
       "    );\n",
       "\n",
       "    var status_bar = $('<span class=\"mpl-message\"/>');\n",
       "    nav_element.append(status_bar);\n",
       "    this.message = status_bar[0];\n",
       "}\n",
       "\n",
       "mpl.figure.prototype.request_resize = function(x_pixels, y_pixels) {\n",
       "    // Request matplotlib to resize the figure. Matplotlib will then trigger a resize in the client,\n",
       "    // which will in turn request a refresh of the image.\n",
       "    this.send_message('resize', {'width': x_pixels, 'height': y_pixels});\n",
       "}\n",
       "\n",
       "mpl.figure.prototype.send_message = function(type, properties) {\n",
       "    properties['type'] = type;\n",
       "    properties['figure_id'] = this.id;\n",
       "    this.ws.send(JSON.stringify(properties));\n",
       "}\n",
       "\n",
       "mpl.figure.prototype.send_draw_message = function() {\n",
       "    if (!this.waiting) {\n",
       "        this.waiting = true;\n",
       "        this.ws.send(JSON.stringify({type: \"draw\", figure_id: this.id}));\n",
       "    }\n",
       "}\n",
       "\n",
       "\n",
       "mpl.figure.prototype.handle_save = function(fig, msg) {\n",
       "    var format_dropdown = fig.format_dropdown;\n",
       "    var format = format_dropdown.options[format_dropdown.selectedIndex].value;\n",
       "    fig.ondownload(fig, format);\n",
       "}\n",
       "\n",
       "\n",
       "mpl.figure.prototype.handle_resize = function(fig, msg) {\n",
       "    var size = msg['size'];\n",
       "    if (size[0] != fig.canvas.width || size[1] != fig.canvas.height) {\n",
       "        fig._resize_canvas(size[0], size[1]);\n",
       "        fig.send_message(\"refresh\", {});\n",
       "    };\n",
       "}\n",
       "\n",
       "mpl.figure.prototype.handle_rubberband = function(fig, msg) {\n",
       "    var x0 = msg['x0'] / mpl.ratio;\n",
       "    var y0 = (fig.canvas.height - msg['y0']) / mpl.ratio;\n",
       "    var x1 = msg['x1'] / mpl.ratio;\n",
       "    var y1 = (fig.canvas.height - msg['y1']) / mpl.ratio;\n",
       "    x0 = Math.floor(x0) + 0.5;\n",
       "    y0 = Math.floor(y0) + 0.5;\n",
       "    x1 = Math.floor(x1) + 0.5;\n",
       "    y1 = Math.floor(y1) + 0.5;\n",
       "    var min_x = Math.min(x0, x1);\n",
       "    var min_y = Math.min(y0, y1);\n",
       "    var width = Math.abs(x1 - x0);\n",
       "    var height = Math.abs(y1 - y0);\n",
       "\n",
       "    fig.rubberband_context.clearRect(\n",
       "        0, 0, fig.canvas.width / mpl.ratio, fig.canvas.height / mpl.ratio);\n",
       "\n",
       "    fig.rubberband_context.strokeRect(min_x, min_y, width, height);\n",
       "}\n",
       "\n",
       "mpl.figure.prototype.handle_figure_label = function(fig, msg) {\n",
       "    // Updates the figure title.\n",
       "    fig.header.textContent = msg['label'];\n",
       "}\n",
       "\n",
       "mpl.figure.prototype.handle_cursor = function(fig, msg) {\n",
       "    var cursor = msg['cursor'];\n",
       "    switch(cursor)\n",
       "    {\n",
       "    case 0:\n",
       "        cursor = 'pointer';\n",
       "        break;\n",
       "    case 1:\n",
       "        cursor = 'default';\n",
       "        break;\n",
       "    case 2:\n",
       "        cursor = 'crosshair';\n",
       "        break;\n",
       "    case 3:\n",
       "        cursor = 'move';\n",
       "        break;\n",
       "    }\n",
       "    fig.rubberband_canvas.style.cursor = cursor;\n",
       "}\n",
       "\n",
       "mpl.figure.prototype.handle_message = function(fig, msg) {\n",
       "    fig.message.textContent = msg['message'];\n",
       "}\n",
       "\n",
       "mpl.figure.prototype.handle_draw = function(fig, msg) {\n",
       "    // Request the server to send over a new figure.\n",
       "    fig.send_draw_message();\n",
       "}\n",
       "\n",
       "mpl.figure.prototype.handle_image_mode = function(fig, msg) {\n",
       "    fig.image_mode = msg['mode'];\n",
       "}\n",
       "\n",
       "mpl.figure.prototype.updated_canvas_event = function() {\n",
       "    // Called whenever the canvas gets updated.\n",
       "    this.send_message(\"ack\", {});\n",
       "}\n",
       "\n",
       "// A function to construct a web socket function for onmessage handling.\n",
       "// Called in the figure constructor.\n",
       "mpl.figure.prototype._make_on_message_function = function(fig) {\n",
       "    return function socket_on_message(evt) {\n",
       "        if (evt.data instanceof Blob) {\n",
       "            /* FIXME: We get \"Resource interpreted as Image but\n",
       "             * transferred with MIME type text/plain:\" errors on\n",
       "             * Chrome.  But how to set the MIME type?  It doesn't seem\n",
       "             * to be part of the websocket stream */\n",
       "            evt.data.type = \"image/png\";\n",
       "\n",
       "            /* Free the memory for the previous frames */\n",
       "            if (fig.imageObj.src) {\n",
       "                (window.URL || window.webkitURL).revokeObjectURL(\n",
       "                    fig.imageObj.src);\n",
       "            }\n",
       "\n",
       "            fig.imageObj.src = (window.URL || window.webkitURL).createObjectURL(\n",
       "                evt.data);\n",
       "            fig.updated_canvas_event();\n",
       "            fig.waiting = false;\n",
       "            return;\n",
       "        }\n",
       "        else if (typeof evt.data === 'string' && evt.data.slice(0, 21) == \"data:image/png;base64\") {\n",
       "            fig.imageObj.src = evt.data;\n",
       "            fig.updated_canvas_event();\n",
       "            fig.waiting = false;\n",
       "            return;\n",
       "        }\n",
       "\n",
       "        var msg = JSON.parse(evt.data);\n",
       "        var msg_type = msg['type'];\n",
       "\n",
       "        // Call the  \"handle_{type}\" callback, which takes\n",
       "        // the figure and JSON message as its only arguments.\n",
       "        try {\n",
       "            var callback = fig[\"handle_\" + msg_type];\n",
       "        } catch (e) {\n",
       "            console.log(\"No handler for the '\" + msg_type + \"' message type: \", msg);\n",
       "            return;\n",
       "        }\n",
       "\n",
       "        if (callback) {\n",
       "            try {\n",
       "                // console.log(\"Handling '\" + msg_type + \"' message: \", msg);\n",
       "                callback(fig, msg);\n",
       "            } catch (e) {\n",
       "                console.log(\"Exception inside the 'handler_\" + msg_type + \"' callback:\", e, e.stack, msg);\n",
       "            }\n",
       "        }\n",
       "    };\n",
       "}\n",
       "\n",
       "// from http://stackoverflow.com/questions/1114465/getting-mouse-location-in-canvas\n",
       "mpl.findpos = function(e) {\n",
       "    //this section is from http://www.quirksmode.org/js/events_properties.html\n",
       "    var targ;\n",
       "    if (!e)\n",
       "        e = window.event;\n",
       "    if (e.target)\n",
       "        targ = e.target;\n",
       "    else if (e.srcElement)\n",
       "        targ = e.srcElement;\n",
       "    if (targ.nodeType == 3) // defeat Safari bug\n",
       "        targ = targ.parentNode;\n",
       "\n",
       "    // jQuery normalizes the pageX and pageY\n",
       "    // pageX,Y are the mouse positions relative to the document\n",
       "    // offset() returns the position of the element relative to the document\n",
       "    var x = e.pageX - $(targ).offset().left;\n",
       "    var y = e.pageY - $(targ).offset().top;\n",
       "\n",
       "    return {\"x\": x, \"y\": y};\n",
       "};\n",
       "\n",
       "/*\n",
       " * return a copy of an object with only non-object keys\n",
       " * we need this to avoid circular references\n",
       " * http://stackoverflow.com/a/24161582/3208463\n",
       " */\n",
       "function simpleKeys (original) {\n",
       "  return Object.keys(original).reduce(function (obj, key) {\n",
       "    if (typeof original[key] !== 'object')\n",
       "        obj[key] = original[key]\n",
       "    return obj;\n",
       "  }, {});\n",
       "}\n",
       "\n",
       "mpl.figure.prototype.mouse_event = function(event, name) {\n",
       "    var canvas_pos = mpl.findpos(event)\n",
       "\n",
       "    if (name === 'button_press')\n",
       "    {\n",
       "        this.canvas.focus();\n",
       "        this.canvas_div.focus();\n",
       "    }\n",
       "\n",
       "    var x = canvas_pos.x * mpl.ratio;\n",
       "    var y = canvas_pos.y * mpl.ratio;\n",
       "\n",
       "    this.send_message(name, {x: x, y: y, button: event.button,\n",
       "                             step: event.step,\n",
       "                             guiEvent: simpleKeys(event)});\n",
       "\n",
       "    /* This prevents the web browser from automatically changing to\n",
       "     * the text insertion cursor when the button is pressed.  We want\n",
       "     * to control all of the cursor setting manually through the\n",
       "     * 'cursor' event from matplotlib */\n",
       "    event.preventDefault();\n",
       "    return false;\n",
       "}\n",
       "\n",
       "mpl.figure.prototype._key_event_extra = function(event, name) {\n",
       "    // Handle any extra behaviour associated with a key event\n",
       "}\n",
       "\n",
       "mpl.figure.prototype.key_event = function(event, name) {\n",
       "\n",
       "    // Prevent repeat events\n",
       "    if (name == 'key_press')\n",
       "    {\n",
       "        if (event.which === this._key)\n",
       "            return;\n",
       "        else\n",
       "            this._key = event.which;\n",
       "    }\n",
       "    if (name == 'key_release')\n",
       "        this._key = null;\n",
       "\n",
       "    var value = '';\n",
       "    if (event.ctrlKey && event.which != 17)\n",
       "        value += \"ctrl+\";\n",
       "    if (event.altKey && event.which != 18)\n",
       "        value += \"alt+\";\n",
       "    if (event.shiftKey && event.which != 16)\n",
       "        value += \"shift+\";\n",
       "\n",
       "    value += 'k';\n",
       "    value += event.which.toString();\n",
       "\n",
       "    this._key_event_extra(event, name);\n",
       "\n",
       "    this.send_message(name, {key: value,\n",
       "                             guiEvent: simpleKeys(event)});\n",
       "    return false;\n",
       "}\n",
       "\n",
       "mpl.figure.prototype.toolbar_button_onclick = function(name) {\n",
       "    if (name == 'download') {\n",
       "        this.handle_save(this, null);\n",
       "    } else {\n",
       "        this.send_message(\"toolbar_button\", {name: name});\n",
       "    }\n",
       "};\n",
       "\n",
       "mpl.figure.prototype.toolbar_button_onmouseover = function(tooltip) {\n",
       "    this.message.textContent = tooltip;\n",
       "};\n",
       "mpl.toolbar_items = [[\"Home\", \"Reset original view\", \"fa fa-home icon-home\", \"home\"], [\"Back\", \"Back to previous view\", \"fa fa-arrow-left icon-arrow-left\", \"back\"], [\"Forward\", \"Forward to next view\", \"fa fa-arrow-right icon-arrow-right\", \"forward\"], [\"\", \"\", \"\", \"\"], [\"Pan\", \"Pan axes with left mouse, zoom with right\", \"fa fa-arrows icon-move\", \"pan\"], [\"Zoom\", \"Zoom to rectangle\", \"fa fa-square-o icon-check-empty\", \"zoom\"], [\"\", \"\", \"\", \"\"], [\"Download\", \"Download plot\", \"fa fa-floppy-o icon-save\", \"download\"]];\n",
       "\n",
       "mpl.extensions = [\"eps\", \"jpeg\", \"pdf\", \"png\", \"ps\", \"raw\", \"svg\", \"tif\"];\n",
       "\n",
       "mpl.default_extension = \"png\";var comm_websocket_adapter = function(comm) {\n",
       "    // Create a \"websocket\"-like object which calls the given IPython comm\n",
       "    // object with the appropriate methods. Currently this is a non binary\n",
       "    // socket, so there is still some room for performance tuning.\n",
       "    var ws = {};\n",
       "\n",
       "    ws.close = function() {\n",
       "        comm.close()\n",
       "    };\n",
       "    ws.send = function(m) {\n",
       "        //console.log('sending', m);\n",
       "        comm.send(m);\n",
       "    };\n",
       "    // Register the callback with on_msg.\n",
       "    comm.on_msg(function(msg) {\n",
       "        //console.log('receiving', msg['content']['data'], msg);\n",
       "        // Pass the mpl event to the overridden (by mpl) onmessage function.\n",
       "        ws.onmessage(msg['content']['data'])\n",
       "    });\n",
       "    return ws;\n",
       "}\n",
       "\n",
       "mpl.mpl_figure_comm = function(comm, msg) {\n",
       "    // This is the function which gets called when the mpl process\n",
       "    // starts-up an IPython Comm through the \"matplotlib\" channel.\n",
       "\n",
       "    var id = msg.content.data.id;\n",
       "    // Get hold of the div created by the display call when the Comm\n",
       "    // socket was opened in Python.\n",
       "    var element = $(\"#\" + id);\n",
       "    var ws_proxy = comm_websocket_adapter(comm)\n",
       "\n",
       "    function ondownload(figure, format) {\n",
       "        window.open(figure.imageObj.src);\n",
       "    }\n",
       "\n",
       "    var fig = new mpl.figure(id, ws_proxy,\n",
       "                           ondownload,\n",
       "                           element.get(0));\n",
       "\n",
       "    // Call onopen now - mpl needs it, as it is assuming we've passed it a real\n",
       "    // web socket which is closed, not our websocket->open comm proxy.\n",
       "    ws_proxy.onopen();\n",
       "\n",
       "    fig.parent_element = element.get(0);\n",
       "    fig.cell_info = mpl.find_output_cell(\"<div id='\" + id + \"'></div>\");\n",
       "    if (!fig.cell_info) {\n",
       "        console.error(\"Failed to find cell for figure\", id, fig);\n",
       "        return;\n",
       "    }\n",
       "\n",
       "    var output_index = fig.cell_info[2]\n",
       "    var cell = fig.cell_info[0];\n",
       "\n",
       "};\n",
       "\n",
       "mpl.figure.prototype.handle_close = function(fig, msg) {\n",
       "    var width = fig.canvas.width/mpl.ratio\n",
       "    fig.root.unbind('remove')\n",
       "\n",
       "    // Update the output cell to use the data from the current canvas.\n",
       "    fig.push_to_output();\n",
       "    var dataURL = fig.canvas.toDataURL();\n",
       "    // Re-enable the keyboard manager in IPython - without this line, in FF,\n",
       "    // the notebook keyboard shortcuts fail.\n",
       "    IPython.keyboard_manager.enable()\n",
       "    $(fig.parent_element).html('<img src=\"' + dataURL + '\" width=\"' + width + '\">');\n",
       "    fig.close_ws(fig, msg);\n",
       "}\n",
       "\n",
       "mpl.figure.prototype.close_ws = function(fig, msg){\n",
       "    fig.send_message('closing', msg);\n",
       "    // fig.ws.close()\n",
       "}\n",
       "\n",
       "mpl.figure.prototype.push_to_output = function(remove_interactive) {\n",
       "    // Turn the data on the canvas into data in the output cell.\n",
       "    var width = this.canvas.width/mpl.ratio\n",
       "    var dataURL = this.canvas.toDataURL();\n",
       "    this.cell_info[1]['text/html'] = '<img src=\"' + dataURL + '\" width=\"' + width + '\">';\n",
       "}\n",
       "\n",
       "mpl.figure.prototype.updated_canvas_event = function() {\n",
       "    // Tell IPython that the notebook contents must change.\n",
       "    IPython.notebook.set_dirty(true);\n",
       "    this.send_message(\"ack\", {});\n",
       "    var fig = this;\n",
       "    // Wait a second, then push the new image to the DOM so\n",
       "    // that it is saved nicely (might be nice to debounce this).\n",
       "    setTimeout(function () { fig.push_to_output() }, 1000);\n",
       "}\n",
       "\n",
       "mpl.figure.prototype._init_toolbar = function() {\n",
       "    var fig = this;\n",
       "\n",
       "    var nav_element = $('<div/>');\n",
       "    nav_element.attr('style', 'width: 100%');\n",
       "    this.root.append(nav_element);\n",
       "\n",
       "    // Define a callback function for later on.\n",
       "    function toolbar_event(event) {\n",
       "        return fig.toolbar_button_onclick(event['data']);\n",
       "    }\n",
       "    function toolbar_mouse_event(event) {\n",
       "        return fig.toolbar_button_onmouseover(event['data']);\n",
       "    }\n",
       "\n",
       "    for(var toolbar_ind in mpl.toolbar_items){\n",
       "        var name = mpl.toolbar_items[toolbar_ind][0];\n",
       "        var tooltip = mpl.toolbar_items[toolbar_ind][1];\n",
       "        var image = mpl.toolbar_items[toolbar_ind][2];\n",
       "        var method_name = mpl.toolbar_items[toolbar_ind][3];\n",
       "\n",
       "        if (!name) { continue; };\n",
       "\n",
       "        var button = $('<button class=\"btn btn-default\" href=\"#\" title=\"' + name + '\"><i class=\"fa ' + image + ' fa-lg\"></i></button>');\n",
       "        button.click(method_name, toolbar_event);\n",
       "        button.mouseover(tooltip, toolbar_mouse_event);\n",
       "        nav_element.append(button);\n",
       "    }\n",
       "\n",
       "    // Add the status bar.\n",
       "    var status_bar = $('<span class=\"mpl-message\" style=\"text-align:right; float: right;\"/>');\n",
       "    nav_element.append(status_bar);\n",
       "    this.message = status_bar[0];\n",
       "\n",
       "    // Add the close button to the window.\n",
       "    var buttongrp = $('<div class=\"btn-group inline pull-right\"></div>');\n",
       "    var button = $('<button class=\"btn btn-mini btn-primary\" href=\"#\" title=\"Stop Interaction\"><i class=\"fa fa-power-off icon-remove icon-large\"></i></button>');\n",
       "    button.click(function (evt) { fig.handle_close(fig, {}); } );\n",
       "    button.mouseover('Stop Interaction', toolbar_mouse_event);\n",
       "    buttongrp.append(button);\n",
       "    var titlebar = this.root.find($('.ui-dialog-titlebar'));\n",
       "    titlebar.prepend(buttongrp);\n",
       "}\n",
       "\n",
       "mpl.figure.prototype._root_extra_style = function(el){\n",
       "    var fig = this\n",
       "    el.on(\"remove\", function(){\n",
       "\tfig.close_ws(fig, {});\n",
       "    });\n",
       "}\n",
       "\n",
       "mpl.figure.prototype._canvas_extra_style = function(el){\n",
       "    // this is important to make the div 'focusable\n",
       "    el.attr('tabindex', 0)\n",
       "    // reach out to IPython and tell the keyboard manager to turn it's self\n",
       "    // off when our div gets focus\n",
       "\n",
       "    // location in version 3\n",
       "    if (IPython.notebook.keyboard_manager) {\n",
       "        IPython.notebook.keyboard_manager.register_events(el);\n",
       "    }\n",
       "    else {\n",
       "        // location in version 2\n",
       "        IPython.keyboard_manager.register_events(el);\n",
       "    }\n",
       "\n",
       "}\n",
       "\n",
       "mpl.figure.prototype._key_event_extra = function(event, name) {\n",
       "    var manager = IPython.notebook.keyboard_manager;\n",
       "    if (!manager)\n",
       "        manager = IPython.keyboard_manager;\n",
       "\n",
       "    // Check for shift+enter\n",
       "    if (event.shiftKey && event.which == 13) {\n",
       "        this.canvas_div.blur();\n",
       "        // select the cell after this one\n",
       "        var index = IPython.notebook.find_cell_index(this.cell_info[0]);\n",
       "        IPython.notebook.select(index + 1);\n",
       "    }\n",
       "}\n",
       "\n",
       "mpl.figure.prototype.handle_save = function(fig, msg) {\n",
       "    fig.ondownload(fig, null);\n",
       "}\n",
       "\n",
       "\n",
       "mpl.find_output_cell = function(html_output) {\n",
       "    // Return the cell and output element which can be found *uniquely* in the notebook.\n",
       "    // Note - this is a bit hacky, but it is done because the \"notebook_saving.Notebook\"\n",
       "    // IPython event is triggered only after the cells have been serialised, which for\n",
       "    // our purposes (turning an active figure into a static one), is too late.\n",
       "    var cells = IPython.notebook.get_cells();\n",
       "    var ncells = cells.length;\n",
       "    for (var i=0; i<ncells; i++) {\n",
       "        var cell = cells[i];\n",
       "        if (cell.cell_type === 'code'){\n",
       "            for (var j=0; j<cell.output_area.outputs.length; j++) {\n",
       "                var data = cell.output_area.outputs[j];\n",
       "                if (data.data) {\n",
       "                    // IPython >= 3 moved mimebundle to data attribute of output\n",
       "                    data = data.data;\n",
       "                }\n",
       "                if (data['text/html'] == html_output) {\n",
       "                    return [cell, data, j];\n",
       "                }\n",
       "            }\n",
       "        }\n",
       "    }\n",
       "}\n",
       "\n",
       "// Register the function which deals with the matplotlib target/channel.\n",
       "// The kernel may be null if the page has been refreshed.\n",
       "if (IPython.notebook.kernel != null) {\n",
       "    IPython.notebook.kernel.comm_manager.register_target('matplotlib', mpl.mpl_figure_comm);\n",
       "}\n"
      ],
      "text/plain": [
       "<IPython.core.display.Javascript object>"
      ]
     },
     "metadata": {},
     "output_type": "display_data"
    },
    {
     "data": {
      "text/html": [
       "<img src=\"data:image/png;base64,iVBORw0KGgoAAAANSUhEUgAAA+gAAAH0CAYAAACuKActAAAgAElEQVR4nOzdeXgTdf4H8JRCK4eloIAcZQAFRFBU2KjsutXVVZdLdvFeoeu64P4Er1UIYKEcInJZtMULbWFda0XL5bTclLNcQoHScJWjQFuOAi1HzyTv3x9fmjbtpE3bTCbH+/U882CTSeZT8Pnk804m39GBiIiIiIiIiDSn07oAIiIiIiIiImJAJyIiIiIiInILDOhEREREREREboABnYiIiIiIiMgNMKATERERERERuQEGdCIiIiIiIiI3wIBORERERERE5AYY0ImIiIiIiIjcAAM6ERERERERkRtgQCciIiIiIiJyAwzoRERERERERG6AAZ2IiIiIiIjIDTCgExEREREREbkBBnQFZrMZZ86cQV5eHvLz87lx48aNm5dteXl5OHPmDMxms9YvOV6ntLQUu3btQmZmJs6cOcONGzdu3Lxsy8zMxK5du1BaWqr1S45XYkBXcObMGeh0Om7cuHHj5uXbmTNntH7J8Tq7du3S/N+VGzdu3Lipv+3atUvrlxyvxICuIC8vDzqdGNy0/pTn6OnzCHl3MTr/52fNa+HGjRs3b9nK3ojNy8vT+iXH62RmZloHN60/5eHGjRs3bs7fyt6IzczM1PolxysxoCvIz8+HTqdDfn6+1qUg70YJJIMMySCjxMRTMYmInMGd+ry3OXPmjPVNbiIi8j7s8+piQFfgToNbUanJGtDzC0u0LoeIyCu4U5/3NhzciIi8G/u8uhjQFbjT4GaxWNB5nAjo5/MLtS6HiMgruFOf9zYc3IiIvBv7vLoY0BW42+B2z8SVkAwyTuVe17oUIiKv4G593ptwcCMi8m7s8+piQFfgboNbn2lrIBlkHMpxj3qIvJXJZEJhYSE3L9mqu4Sau/V5b8LBjYg8HeeBQphMJrt/P+zz6mJAV+Bug9vvP1kPySBjb+ZlrUsh8koWiwXZ2dkwGo3cvGg7fPgwiouLFf/N3a3PexMObkTkqTgP2G7Z2dmwWCxV/p7Y59XFgK7A3Qa3J+duhGSQsS3jotalEHmlshfj3NxcFBQUaP6uNbf6bzdu3MCxY8dw6tQpxeHC3fq8N+HgRkSeivOA2AoKCpCbm2sN6ZXVtc9HR0dDkiQEBgZCr9dj586d1e6/ePFidO/eHYGBgejVqxcSExNt7rd3ffZZs2bVqi53w4CuwN0Gt0FRWyAZZKw/dE7rUoi8jslksr4Yk3fJy8uD0WhESUnVK2C4W5/3JgzoROSJOA9UVRbSK5/uXpc+Hx8fj4CAAMTExCA9PR0jRoxAcHAwzp8/r7j/tm3b4O/vj1mzZsFoNCI8PByNGjVCWlqadZ+cnBybLSYmBn5+fjh+/HjdfmE3wYCuwN0Gt+e/SoFkkCHvr/oOFhHVT2FhIYxGIwoKCrQuhZysoKAARqMRhYVVr4Dhbn3emzCgE5En4jxQlb3X0br0eb1ej1GjRll/NpvNaNeuHWbMmKG4/wsvvIABAwbY3PbQQw/hjTfesHuMZ599Fn/6058crsldMaArcLfBbfh3OyEZZPz8G4cdImcre0FWCnHk2ar7t3W3Pu9NGNCJyBNxHqjK3t9Jbft8cXEx/P39sXTpUpvbhw8fjsGDBys+JiQkBJGRkTa3TZo0Cffdd5/i/ufOnUPDhg3xww8/OFSTO2NAV+Bug9sb//0NkkHGf7ef0roUIq/DF2RbkiRVeUH0VAzo2mBAJyJP5M3zQE5ODp588kk0adIEzZs3t3tbZTUFdKPRiPz8fOtWVFSk+DxZWVnQ6XRISUmxuX3MmDHQ6/WKj2nUqBHi4uJsbps/fz5at26tuP/MmTPRokULr/j3Y0BX4G6D27vxqZAMMr7Z5NnfpyByR576gmxvYZSyLSIiok7Pe+HCBdy4ccO5xWqEAV0bDOhE5Ik8dR4AgLCwMMVZ4OmnnwYAjB07Fj179sTRo0et3/lWuq2ymgK6o7OHKwJ69+7dMXr0aMX7PA0DugJ3G9zGJRyAZJDx2bqjWpdC5HWc+YJsMluQkpGLZalnkZKRC5O56urhzlJxUZR58+YhKCjI5rZr165Z97VYLCgtLVWtFnfFgK4NBnQi8kTOmgdMJiA5GYiLE39WczlxpwkLC8MzzzxTZdG0y5fFJZqHDh2K4cOH2zxG6bbKnPUJutqnuG/evBk6nQ779u2r9vfxFAzoCtxtcJuyIh2SQcYnKw9pXQqR13HWC/LKtGw8/PE6SAbZuj388TqsTFN/ccfY2Fib09OSk5Oh0+mQlJSEBx98EI0aNUJycjIyMjIwePBgtG7dGk2bNkXfvn2xdu1am+eqfIq7TqfDggULMGTIEDRu3Bh33XUXli9frvrv5AwM6NpgQCciT+SMeSAhAejQAdDpyrcOHcTtagoLC8Ozzz6reJ8kSTafcoeFhSnepsRZ30EHxCJxFT/hNpvNaN++fbWLxA0cONDmtkceeURxkbiwsDD06dPH4VrcHQO6Ancb3GatOgTJICNi+UGtSyHyOs54QV6Zlo1OFYJ52dbp5qZ2SLcX0O+77z6sWbMGGRkZuHTpEvbt24evvvoKaWlpOHr0KMLDw3HLLbcgMzPT+lilgN6hQwfExcXh2LFjePvtt9GsWTNcunRJ1d/JGRjQtcGATkSeqL7zQEIC4OdnG851OnGbn5+6Ib26gH7hwgU888wzeOGFF5CTk4O8vDzF25Q4M6DHx8cjMDAQCxcuhNFoxMiRIxEcHIxz58RlpIcNG4Zx48ZZ99+2bRsaNmyIOXPm4NChQ4iIiKhymTVAvJ43adIEX375pcO1uDsGdAXuNrhFrT8KySDD8Mt+rUsh8jpKLz4WiwU3iksd2q4WlkA/fW2VcF4xpD80fR2uFpY49HwWS+1Pi7cX0JctW1bjY3v27ImoqCjrz0oBPTw83Prz9evXodPpsHLlylrX6WoM6NpgQCciT1T5NcNiAa5fd2zLzwfat68aziuG9A4dxH6OPF9tR4GwsDD4+/ujadOmNtv06dMBiMuPVf6UXOm2mv5OytS1z0dFRaFjx44ICAiAXq/Hjh07rPeFhoZWqWfx4sXo1q0bAgIC0LNnTyQmJlZ5zq+//hqNGze2+yaDJ2JAV+Bug9uCzcchGWS8/eNerUsh8jpKLz43ikvtBm61txvFtf+uuL2AfvbsWZv9rl27hvfffx933303mjdvjqZNm6JBgwYYM2aMdR+lgL548WKb5wkKCsKiRYtqXaerMaBrgwGdiDxR5deM69ftB261t+vXa1d7WFgYnnzySRw7dsxmKzvbzV0COjmGAV2Buw1u/9txCpJBxohFu7UuhcjreHNAv3Llis1+b7zxBrp06YIlS5bgwIEDOHbsGHr37o133nnHuo9SQK+8qEvz5s0RGxtb6zpdjQFdGxzciMgTeXpAt3eKO8CA7mkY0BW42+CWsOcMJIOMV7/dUfPORFQr9T3FPfnweYeCd/Lh8y4/xb1yQO/VqxemTp1q/fnatWto3rw5Azo5FQc3IvJE9TnFPSnJseCdlKTeKe4M6N6DAV2Buw1uSQeyIRlkPPflNq1LIfI69V0UxmS24OGP1ykuElf2HfSHP16n6iXXHA3of/3rX3H//fcjNTUV+/btw6BBg3DrrbcyoJNTcXAjIk9Un3nAZBLfMVdaJK7sO+ghIepdcs3eZdYuXrwIgAHd0zCgK3C3wW3DzU/oBny+WetSiLyOM1dxrxzStV7FvXJAP3nyJB5//HE0btwYISEhiI6ORmhoKAM6ORUHNyLyRM5axb1ySHfVKu4VL5tWtnXv3h0AA7qnYUBX4G6D2/bjuZAMMv40J1nrUoi8jjdcB52UMaBrg4MbEXkita6DHhKi/nXQ1cKArg0GdAXuNrjtP3MFkkFGvxnrtS6FyOs4K6AD4nT3lIxcLEs9i5SMXFVPa6eaMaBrg4MbEXkiZ80DJhOQnAzExYk/1Tqt3RUY0LXBgK7A3Qa3o+euQjLIeGDqGq1LIfI6zgzo5F4Y0LXBwY2IPBHngaoY0LXBgK7A3Qa305duQDLI6B6epHUpRF6HL8jeiwFdGxzciMgTcR6oigFdGwzoCtxtcLt4rcj6nVYzT5klciq+IHsvBnRtcHAjIk/EeaAqBnRtMKArcLfB7XpRqTWgFxR78BdZiNwQX5C9FwO6Nji4EZEn4jxQFQO6NhjQFbjb4GYyW6wB/dL1Yq3LIfIqfEH2Xgzo2uDgRkSeqOw1o6CgQOtS3EZBQQEDugYY0BW44+DW9cMkSAYZZ6+waRA5EwO692JAF6KjoyFJEgIDA6HX67Fz5067+4aGhipeS7d///4OH4+DGxF5IpPJBKPRiNzcXK1LcRu5ubkwGo0wVVqKnn1eXQzoCtxxcLtv8mpIBhnHzl/TuhQir8KA7r0Y0IH4+HgEBAQgJiYG6enpGDFiBIKDg3H+/HnF/S9duoScnBzrdvDgQfj7+yM2NtbhY3JwIyJPlZ2dbQ3pBQUFKCws9MmtoKDAGs6zs7Or/D2xz6uLAV2BOw5uD01fB8kgI+1sntalEHkVBnTvxYAO6PV6jBo1yvqz2WxGu3btMGPGDIceHxkZiVtvvRXXr193+Jgc3IjIU1ksFmtI5ybCucVSdYFq9nl1MaArcMfB7bHZyZAMMnadvKR1KURexZcDemhoKN555x3rz5IkITIystrH6HQ6LF26tN7HdtbzVMfXA3pxcTH8/f2r/D0PHz4cgwcPdug5evXqhREjRlS7T1FREfLz862b0Wjk4EZEHs1kMmn+KbbWW+XT2itiQFcXA7qCWg1uZhNwYjNw4Gfxp1mdVdafmbcZkkHGpiMXVHl+Il/lqQF94MCBePrppxXv27x5M3Q6Hfbv31/tc1QO6BcuXMCNGzeqfUxtg3VERAR69+5d5facnBwUFRU5/Dx14esBPSsrCzqdDikpKTa3jxkzBnq9vsbH79y5EzqdrtrvrAPi31jpe+sc3IiI3J+p2ITUyGRsGx2H1MhkmBy4YhQDuroY0BU4PLilLwfm3g1EBJVvc+8WtzuRqbQU/5n5Od4aPwG//BIHU2mpU5+/4nEObpWx+9evcXCrrMpxvOUYrnpjhtTn1IDuwv8vli5digYNGii+OL722mvo27dvjc9ROaA7wlkB3RUY0OsX0EeOHIl77723xv34CToRkWfaPiYBWf4dAJ3OumX5d8D2MQnVPo4BXV0M6AocGtzSlwMRzW3DeUTQzduaOy2k7121EOciOtsc41xEZ+xdtdApz+/K43jLMZC+HJZKb8xYVHhjBnDRmw0+zmkB3UVv2JUpLS1FmzZtMG3aNJvbr127hmbNmuGjjz7CSy+9hHbt2qFx48bo1asX4uLibPat6RT3o0eP4tFHH0VgYCB69OiBNWvWVAnoY8eORdeuXdG4cWN07twZ4eHhKCkpAQDExsZW+VS1bLGxys9z4MABPP7447jlllvQsmVLjBgxAteulS+KGRYWhmeffRazZ8/GHXfcgZYtW+LNN9+0HkuJrwf0+pzifv36dQQFBWHevHm1Pi4HNyIi97d9TALMOj+YK4Rz6HQ3b/OrNqSzz6uLAV1BjYOb2VR1EK8c0uf2qPenZ3tXLYR5UhDMk2yfv+w2Z4VOVxzHW46B9OWwRDSHudK/uTkiCBYnvjEDuO7NGV/nlIDuojfsKhszZgzuvPNOmwVcYmJi0LhxY5w6dQqzZ89Gamoqjh8/js8//xz+/v42pytXF9DNZjN69eqFJ554Avv27cOmTZvwwAMPVAnW06ZNw7Zt23Dy5EmsWLECbdq0wcyZMwGI66e+//776Nmzp3VV8LLry1Z8nuvXr6Nt27b429/+hrS0NKxfvx6dO3dGWFiY9ThhYWEICgrCv//9bxw6dAi//vormjRpgm+++cbu34+vB3RALBI3evRo689msxnt27evcZG42NhYBAYG1ulyQxzciIjcm6nYhCz/DlXCecWQftY/xO7p7uzz6mJAV1Dj4HZiczXhvMIW8xdg8T+AX14HEkYAS94Alr4JLBsFLH8L+PVdQP4PkPgBkGQAVo4HVk0A1kyEefVEXI9oA8sk5ee2TArC1Yg7cHn1TOStm4v8DZG4mjwPVzd+hqsbo3F903zc2PIlbmz9CgUp36Bw+wIU7ohB0c5YFO9ahJLd/0Xpnh9Q/Nv3yItoZ/c45klBuBzRASZjEnBsLZCxATi+ETi5BTi1DcjcDpzeBZz5DTi7B8jeB+QcAM6lA+cPAReOwHTuMC5GdKwSnCse43xEJ5hu5AElhYCpRLy5obBqpD2m0lKci+hc7TFyIjrX7xNoswkFn3Sr9hgFn3RzymnNrnpzBgBMZgtSMnKxLPUsUjJyYTI7/vfuDRRDnMUCFF93bCvMB+Z0r+ENu7vFfo48Xy3+vz906BB0Oh2Sk5Ottz366KN49dVXFfcfMGAA3n//fevP1QX01atXo2HDhsjKyrLev3LlyhpPcZ89ezb69Olj/dneKe4Vn+ebb75BixYtbFYKT0xMRIMGDXDu3DkAIqBLkmSzaM3zzz+PF1980W4tDOjiMmuBgYFYuHAhjEYjRo4cieDgYOvf67BhwzBu3Lgqj/vDH/5Q7d9tdTi4ERG5t92zkxWDeeUtNTJZ8fHs8+piQFdQ4+B24GfHAjq3em/miGCURrRE8eTbUTi5NQqmtMWNKe1wbWoHXJ0qIW9aZ1yZdhfypkgOPd+5j3oie04/ZM/5PbLnPiq2T0ORFfk4siL/hKx5TyLrs6eQ9flTyIp6BllRf0FW9ABkzR+EC/MedegYObHDcXLJFJxcPgMnEj/FidVf4MT673B80w84vvUXnNj5K07sWYOT+zfjVPounDqyH5knjuD0mUycyTmPzHOX1H+z4aaVadl4+GNxCb+y7eGP12FlWtVrXnorxRBXfF27/++LHb+cFQD069cPw4YNAwAcO3bMGthNJhOmTp2KXr16oUWLFmjatCkaNmyI559/3vrY6gL6vHnz0LlzZ5tj5eXlVQno8fHx6NevH9q0aYOmTZsiMDAQrVq1st7vSEB/77338Nhjjykea9OmTQBEQO/fv7/NPm+//TYef/xxu383DOhCVFQUOnbsiICAAOj1euzYscN6X2hoqM2ZCgBw+PBh6HQ6rFmzpk7H4+BGROR+8vKAH38Ewp67joX+rzkU0LeNjlN8LvZ5dTGgK3DaJ+iJY4HtXwAp0cC2z4EtkcDmucCm2cDGmUDyDGDDdGDdVGDtZGDNJGD1h8CqCTg3f4BDx9g18XdYNrE/lk/8C5aHP4MV4U/h1/CnIIc/icTwJ5EU/gRWhf8Jq8Mfx5rwx7A2PBTrw/+IDeGPIjn8URgn9nToOJkTu+DgxHthnNgThyfeg6MTeyBjYnecmNgVmRPvxJlJXZA1qRNyJkk4P6kjLk7qgEuT2iFv0h24Mek2zYO+N25ffTEbn689jB92ZGL1wRz8duoyTuVex7WiUsVrVla2Mi0bnQwyOhtW4MXxs/DW+Al4cfwsdDGsQCeD7DMh3dMD+nfffYcmTZrg6tWrmDBhgvWU9xkzZuC2227D999/j3379uHYsWMYMGAAnn32Wetj6xvQU1JS4O/vj48++gi7d+/G0aNHMXXqVDRv3tz6GGcG9Iq1A8A777yD0NBQu383DOja4OBGROQeTp8GoqOBP/8Z6NgwCx/pJiBX19KhcM5P0LXDgK7A8e+gK33nNAjO+A76wa2yQ8P8wa2y4uMtFgvMZgtKTWYUl5pRVGpCYYkJBcUmXC8qxdXCEuQXluC35OUOHWfLmiU4efE6Tly8jowL13Ds/FUcPXcVh3Ouwpidj4NZeUg7m4cDZ/Kw7/QV7M28jD2Zl/HbqUtYueInh46x9KcYrPztMBJ3HoS8/QB+3ZaK5Vt+w/KNO7F0wzYsWbcZS9Yk45dV6/Fz0hoslpOweIWMn5Yvxy9fRjh0jIR572JR7BdYFBONRd9FYeG3nyF2QSQWfjMXsV/PQexXsxHz5UzEfDEDMfOn47vojxATNRXffT4FP08f7tAxNk75M5KmP4e1Hw3GxmnPYNvUJ7B7yqNInfIw0ic/iGOT78WpiO7IieiCSxEdcDWiDYontaxTmCucdBuOTOyBNeGP4dsPX8TECW8hbPxHeDr8W/zx41UYHLUFr8XuwgeL9+GTlYewYPNxLN17FhsPn0efaWswcvwkZE3qZPOcWZM64Y3xk/Dwx+t84nT3ep/ifnSNY/9eR9c4/RR3oHxRuK+++godOnTA9OnTAYjLsP3zn/+07mc2m9G1a1eHA3rZKe7Z2eVv1KxatcomWM+ZMwddunSxqef111+3CejTp09Hr169qtRdl1PcGdA9Awc3IiJtWCzAvn3AlCnAgw+KnN1bl4qFuuEo1jWyBu+Ctp2R5xcMs86P30F3QwzoCmq3invlkO6cRaFc8p1qFx3HW46RcvQ8siZ1qvYYWZM6I+Xo+bodwGwGSgpgTHbsDQ2T3TeIbt4/qTnOTOqCreGP4IcPn8WMCSPx7/ET0X9cNHoaFmPk+EnVfs995PhJSMmo/QJRnqbei8S54A27mrz++uto0aIF/P39rd8Zf++99xASEoJt27bBaDTiX//6F4KCghwO6GazGffccw/+/Oc/Y9++fdi8eTP69OljE6yXL1+Ohg0b4scff0RGRgY+++wztGzZ0iag//DDD2jatClSU1Nx8eJF67XPKz7PjRs30LZtWwwdOhRpaWnYsGEDunTpUmWROAZ0z8DBjYjIOUwmIDkZiIsTf5oURomSEmD9euDttwFJEhnbT2dGf52Mdbo/2YbvP/wBWLIEMJkqrOLuVyWccxV3bTGgK6jfddB7OPUSa1zF3X2OYTJbYJj2UbXHMEz7qN6fOjv8ZkNRAXDpOHBsHbBrgVhgMO5lmKMfgnlam5oD/qTm1S4OmDWpM2I3H6vX7+IJnLuKuzpv2NUkJSUFOp3O5jvaly5dwrPPPotmzZqhdevWCA8Px/Dhwx0O6ABw5MgR/OEPf0BAQAC6detW5RN0QKwkf9ttt6FZs2Z48cUXERkZaRPQi4qKMHToUAQHBzvlMmsVMaC7Jw5uRET1l5AAdLC9RDk6dBC35+cDP/0EvPIKEBxcfn9j3Q2MbvQVzjTrXn6jvz/w0ktAhau4lFG6DvpZ/xBeB11jDOgKajW4mU3iO+kHfhZ/OvlTMqVLbeW46Drozj6ONxxjZVo23lA8Lbwz3hg/yWnf2673mw0WC3A1BziVAqT+AKz/SFxN4Js/ATM7K4Zype3F8bMw4PPNiN5wDBkXrlV/TA+l7nXQnfeGHdUeA7o2OLgREdVPQgLgp3z2OXQ6oGFD25/vaZmD5b0noujW28pvDAoCPvgAyMys9limYhNSI5OxbXQcUiOT7Z7WXhH7vLoY0BW42+BmKi3Fwa0ydv/6NQ5ulZ2yerdWx/GGY6xMy0a/6attFlbrN3210xdVU/PNBvNvixwK6G+Nn2CzwvufP92IuWuOwJid79BCdJ7AaQEdUP0NO6odBnRtcHAjIqo7k6n8k/MGOhNCdcl4SReHUF0yGuhM1vx9113AnLADONf/NVgCAsqDeadOQGQkcPWqajWyz6uLAV0BBzeqiauuHa7amw0OXokgL309ftyZieHf7cRdExJtwnrorA2YkXQI+05fqTGsu/O11p0a0MmtMKBrg4MbEVHdJSeLnP1XXQJO62xPPz+t64C/6n7B07qVuNTnz7Yfoz/yCPDzz4BKH+RVxD6vLgZ0BRzcyOvdXNjMYmdhM0vZ6dkVPgHOKyhBwp4z+Nei3ej6YZJNWO83Yz2mrEjHrpOXYK4Uvt39WusM6N6LAV0bHNyIiOru449FOBeLtVVeXV0HS8XbGjQAnn8eSElxaY3s8+piQFfAwY18ws2FzeyF9Oq+O329qBS/7s/Cmz/sQY+JK23Cd9+P1uLDpQew9dhFyPuz0KnCfWVbp5ubO4R0BnTvxYCuDQ5uRES1d/kyMGoU4K8z4bSuQ5VwXnml9dND3wFOnNCkVvZ5dTGgK+DgRj5DaWGzsu2Q7NBTFJaYsPpgDt6LT0WviFW2QXxc1XBeMaS7w7XWGdC9FwO6Nji4ERE5zmwGYmKAVq1E/g7VJdtfHa7CZlqXrFnN7PPqYkBXwMGNfErlhc1Wh4uAPqc7UJhXq6cqLjUj+fB5GH7ZXyWs29u0vtZ6WYgrKCjQtA5yvoKCAgZ0DXBwIyJyzN694qvjZbm7Rw/g4IdxDgV0xMVpVjf7vLoY0BVwcCOfVlIAfPaACOkr3ql5fzuW7DnjUEBflnrWicXXnslkgtFoRG6utm8UkPPl5eXBaDSipKSkyn3s8+rh4EZEVL2y09kbNBBZu2lTYPZsoLgY5avE1bQlJ2tWP/u8uhjQFXBwI593ckv5qe4nt9TpKVIycj3iE3QAyM7Otob0goICFBYWcvPw7caNGzh27BhOnTqleJUB9nn1cHAjIlJW+XR2nQ546SXgbMXPKipeZ01p8/MDQkLEfhphn1cXA7oCDm5EAFa8LQL6Zw+IT9VryWS24OGP1ykuEudO30EHAIvFYg3p3LxnO3z4MIqLixX/zdnn1cPBjYioKqXT2TdssLPzZ5/ZD+d+fkBCgktrr4x9Xl0M6Ao4uBFBfP98djcR0tdG1OkpVqZlW1dsd9dV3CsymUyaf/LLzXmb2Wy2+2/NPq8eDm5EROUqn87erBkwZw6g8O2rcq+/Lna+5RbbgB4Sonk4B9jn1caAroCDG9FNxl9FQJ/cAsjeV6enULoOun76WrcL5+Rb2OfVw8GNiEj5dPaXX650OruSrCwgIEA8YMsW8V3zuDjxp4antVfEPq8uBnQFHNyIKvhpmAjpXz0KmErr9BQmswUpGbl4eLoI6qvScpxcJFHtsM+rh4MbEfm6PXuAhx8uD+b33FPN6eyVjR0rHvSHP6haY32wz6uLAV0BBzeiCq6eA2Z0FCF967x6PdUHi/dBMsiYs/qwk4ojqiL9EiUAACAASURBVBv2efVwcCMib2cyKX+wffky8OabtTydvaK8PCAoSDz4119Vqr7+2OfVxYCugIMbUSV7vxcBfVprIDejzk/z/fZTkAwyXv12hxOLI6o99nn1cHAjIm+WkFB1kfUOHUQwv/1229PZs7Jq+eQzZ4oH9+wpzpF3U+zz6mJAV8DBjagSiwVYNFiE9NgB4uc6SDubB8kg477JqxUvfUXkKuzz6uHgRkTeKiFBLKJe3eXJ77mnjpcoLyoC2rYVT7JwobNLdyr2eXV5fUAfMmQIgoODMXToUIcfw8GNSMGlE8BHd4iQ/lvdXjhKTGZ0/TAJkkHGyYvXnVwgkePY59XDwY2IvFFNlyfX6YDgYKCwsI4HWLCg/ON4O5cIdRfs8+ry+oCenJyMFStWMKATOcO2KBHQPw4B8uu2CvuQ+VshGWQsS61pGVMi9bDPq4eDGxF5o+Tk6sN52VanT8/NZqBbN/EEc+c6uXLnY59Xl9cHdECEdAZ0Iicwm4CvHxMh/cdX6vQUEcsPQjLImLzioJOLI3Ic+7x6OLgRkTeKi3MsoMfF1eHJlywp/wj+6lWn1+5s7PPqqndAnzFjBnQ6Hd555x1n1GO1adMmDBw4EG3btoVOp8PSpUsV94uOjoYkSQgMDIRer8fOnTur7MOATuREOWnAlJYipKcvq/XDl+w9A8kg429fbFOhOCLHsM+rh4MbEXmjefNU+gTdYgEeekg8+MMP1Sjd6djn1VWvgL5r1y506tQJ9913X7UBfevWrShRuL5Aeno6zp07p/iYpKQkfPjhh1iyZIndgB4fH4+AgADExMQgPT0dI0aMQHBwMM6fP2+zHwM6kZOtmyoC+uyuQMHlWj30+IVrkAwyun2YhBKT+65QSt6NfV49HNyIyJsUFADvvVdzMPfzA0JCyi+55rBNm8QTBAYCdnKRu2GfV1edA/q1a9fQtWtXrF27FqGhoXYDutlsRu/evfHcc8/BVOH/2MOHD6NNmzaYOXNmzUXaCeh6vR6jRo2yOVa7du0wY8YMm/0Y0ImcrKQQ+LyPCOnLRtW8fwVmswX3RqyCZJCRdjZPpQKJqsc+rx4ObkTkLXbtAu6+uzyEP/mkCOKVV3Ivuy0hoQ4H6d9fPMm//+30+tXCPq+uOgf04cOH49133wWAagM6AGRlZeHOO+/EK6+8ArPZjIyMDLRr1w5vvPGGY0UqBPTi4mL4+/tXuX348OEYPHiwzW2OBvTo6Gj06NED3bp14+BGVJNTKSKgRwQBxzfW6qF/X7ADkkHGDzsyVSqOqHoM6Orh4EZEnq64GAgPB/z9RXZu2xZITBT3KV0HPSSkjuH8wAHxBA0aAMeOOfV3UBP7vLrqFNB//PFH9OrVC4U3ryNQU0AHgMzMTHTs2BEvvvgiOnbsiOHDhzt8HWSlgJ6VlQWdToeUlBSb28eMGQO9Xm/9+YknnsDtt9+Oxo0bo3379lX2V8LBjchB8n9EQJ93H1B8w+GHzVp1CJJBxtif96tYHJF97PPq4eBGRJ7swAHg/vvLw/crrwCXLtnuYzKJ75rHxYk/a31ae5lhw8RBnn++nlW7Vl37vCNrh1W0ePFidO/eHYGBgejVqxcSy94lqcBoNGLQoEEICgpCkyZN0LdvX2RmevYHQLUO6KdPn0br1q2xf3/5YO1IQAfEwm86nQ5dunRBaWmp40XWI6DXBQc3IgcV5gNze4iQvtrxhU1WH8yBZJDxdOQmFYsjso99Xj0M6ETkiUpLgRkzgEaNRGa+7Tbg559VPGBmJtCwoTjY7t0qHsj56tLnHV07rMy2bdvg7++PWbNmwWg0Ijw8HI0aNUJaWpp1n4yMDLRs2RJjxozB3r17kZGRgeXLl9t9Tk9R64C+dOlS6HQ6+Pv7WzedTgc/Pz/4+/vbfM+8onPnzqF79+4YNGgQ7rjjDowePdrxIut5inttcXAjqoXDK0VAnxwMnN3j0EPO5RdCMsjoPE7GjWLH36wjchb2efUwoBORpzlyBHj44fJPzQcPdsF6be++Kw72pz+pfCDnq0ufd3TtsDIvvPACBgwYYHPbQw89ZPMV6RdffBGvvvpqLat3f7UO6FevXkVaWprN1rdvX7z66qs272hUdPHiRfTs2RNDhgxBaWkp0tPT0apVK7z//vuOFVnNInEVg77ZbEb79u3t/kM7ioMbUS39/JoI6V/0A0xVr9ig5KHp6yAZZOw8canmnYmcjH1ePQzoROQpzGbgs8+Axo1FVg4KAhYtElc+U9WlS0DTpuKgq1erfDDnq22fr8sHqyEhIYiMjLS5bdKkSbjvvvsAiNzXrFkzTJ06FU899RRatWoFvV5v99LcnqTe10EHqj/F3Ww2o2/fvujfvz+Ki4utt+/btw8tW7bEp59+qvi4a9euITU1FampqdDpdPj000+Rmppq852C+Ph4BAYGYuHChTAajRg5ciSCg4PtXrrNURzciGrp2gXgE0mE9M1zHHrIyP/uhmSQ8c2m4+rWRqSAfV49DOhE5AlOnQIef9x2hfbTp1108GnTxEHvv98F7wY4X1mfNxqNyM/Pt25FRUWK+9flq8mNGjVCXFyczW3z589H69atAQA5OTnQ6XRo0qSJNSfOmDEDfn5+2LixdosXuxvVAzoArFmzxrqgXEV79+61+wKenJwMnU5XZQsLC7PZLyoqCh07dkRAQAD0ej127NhRr98F4OBGVCf7fhQBfWor4OLRGneP3nAMkkHGqB8cOy2eyJnY59XDgE5E7sxiAb79Frj1VpGRmzQB5s8Xn6a7REEB0KqVOHilAOopyvp85S0iIkJxfzUCetlzvvzyyzb7DBo0CC+99FIdfzP34JSA7m04uBHVgcUC/PevIqR/90yNr3Rbj12EZJDxh5nrXVQgUTn2efUwoBORu8rOBgYMKP/U/Pe/1+DqZvPni4N36iRWpvNAtf0EXY1T3IuLi9GwYUNMmzbNZp+xY8eiX79+df3V3AIDugIObkR1dCUT+KitCOm7vq121/zCEkgGGZJBRu415YZOpBb2efUwoBORluxdAu3HH4EWLUQ2DggAZs2qx+XR6qq0FOjSRRQRFeXigztPXReJq83aYS+88AIGDhxoc9sjjzxis0jcI488UmWRuCFDhlT5VN3TMKAr4OBGVA/bvxQBfXp7IO9stbs+PicZkkHGhsOefTkM8jzs8+phQCcirSQkAB06lH9CrtMB7doB/fqV//zgg8DBgxoVGB9ffg23Gzc0KqL+6nqZterWDhs2bBjGjRtn3X/btm1o2LAh5syZg0OHDiEiIqLKZdaWLFmCRo0a4ZtvvsGxY8cQFRUFf39/bNmyxXm/rAYY0BVwcCOqB7MJWPCECOk/vFjt4ifvxadCMsiIXHvEhQUSsc+riQGdiLSQkAD4+dmG84pbgwZARARQ4tjFZpzPYgEeeEAUM3myRkU4R137fHVrh4WGhlZZa2zx4sXo1q0bAgIC0LNnTyQmJlZ5zu+++w533XUXbrnlFvTu3RvLli2r0+/kThjQFXBwI6qn80Zgym0ipKf9Yne3hdtOQjLI+EfMThcWR8Q+ryYGdCJyNZOp6ifnlbc2bTQ4pb2itWvLV6XLzdWwkPpjn1cXA7oCDm5ETrDhYxHQZ3YBbihf63xv5mVIBhkPTl0DiwdeZoQ8F/u8eji4EZGrJSdXH87LtuRkDYt88klRxNtva1iEc7DPq4sBXQEHNyInKC0CovUipCeMBE5sBg78LP40i7ewC0tMuGtCIiSDjNOXPPe7WOR52OfVw8GNiFwtLs6xgK7ZVc327BEF+PsDJ09qVITzsM+riwFdAQc3Iic5vVME9Mrb3LuB9OUAgEFRWyAZZPy6P0vjYsmXsM+rh4MbEbma23+C/uKLooC//12jApyLfV5dDOgKOLgROUn6cuWAHtFcbOnL8eHSA5AMMqYnGrWulnwI+7x6OLgRkauZTED79vaDuZ8fEBKi0XfQMzLECnU6HbBvnwYFOB/7vLoY0BVwcCNyArNJfFKuGNBvhvS5PbB4l1go7vmvUrSumHwI+7x6OLgRkRZeesl+OPfzE6u8a+LNN0UhzzyjUQHOxz6vLgZ0BRzciJzgxOZqwnn5dmbPKkgGGT0mroTJzIXiyDXY59XDwY2IXO3gQaBRI5GDW7a0DeghIRqG8/PngVtucYMV6pyLfV5dDOgKOLgROcGBnx0K6Ob9i3HPxJWQDDIO51zVumryEezz6uHgRkSuZDIBer3IwAMHAqWlIgvHxYk/Nb20Wni4KOx3vxPXQfcS7PPqYkBXwMGNyAkc/AQdJzbjxa9TIBlk/LTrtNZVk49gn1cPBzcicqU5c0QGDgoCzp7VupoKrl0DWrQQxf3yi9bVOBX7vLoY0BVwcCNyAut30JtX+x10mE34OMkIySBj/JIDWldNPsKX+nx0dDQkSUJgYCD0ej127txZ7f5XrlzBm2++iTvuuAMBAQHo2rUrEhMTHT4eBzcicpWjR8vPIF+wQOtqKomMFIV17arxx/jOxz6vLgZ0Bb40uBGpKn15+YrtdlZxB4DEA9mQDDIGfL5Z44LJV/hKn4+Pj0dAQABiYmKQnp6OESNGIDg4GOfPn1fcv7i4GH379kX//v2xdetWnDx5Ehs3bsS+Wqw8zMGNiFzBbAb++EeRgZ94ws3OIC8pEV9+1+mAr7/WuhqnY59XFwO6Al8Z3IhcIn151dXc5/awhnMAOHulAJJBxp3jE1FY4l3vMpN78pU+r9frMWrUKOvPZrMZ7dq1w4wZMxT3//LLL9GlSxeUlJTU+Zgc3IjIFb74QuTfJk2AEye0rqaS//5XFNemDVBYqHU1Tsc+ry4GdAW+MrgRuYzZBKT+KML51FaAqdTmbovFgj7T1kIyyPjt1GWNiiRf4gt9vri4GP7+/li6dKnN7cOHD8fgwYMVH/OXv/wFf//73zFixAi0bt0aPXv2xPTp02Gq5vTMoqIi5OfnWzej0cjBjYhUdeoU0KyZyMCff651NZVYLECvXqK4jz/WuhpVMKCriwFdgS8MbkQuV1pUfqr7tQtV7v5n7C5IBhkxW93tbXDyRr7Q57OysqDT6ZCSkmJz+5gxY6DX6xUf0717dwQGBuKf//wnfvvtN8THx6Nly5aYPHmy3eNERERAp9NV2Ti4EZEaLBbg6adF/v3978Wp7m4lMVEU16wZcOWK1tWoggFdXQzoCnxhcCPSxNweIqCf2V3lrs/WHYVkkPHOj3s1KIx8jS/0+boE9K5duyIkJMTmE/O5c+fijjvusHscfoJORK4UGyvyb2AgcPiw1tUoKPti/Pvva12JahjQ1cWArsAXBjciTXz3jAjoB36uctfGIxcgGWQ8NjvZ9XWRz/GFPl+XU9z/+Mc/4oknnrC5LSkpCTqdDsXFxQ4dl4MbEaklOxsIDhb595NPtK5GwfbtorhGjdzsmm/OxT6vLgZ0Bb4wuBFpYsm/RUDfNLvKXZevF0MyyJAMMvJu1H2BKiJH+Eqf1+v1GD16tPVns9mM9u3b210kbvz48ZAkCeYK54zOmzcPbdu2dfiYHNyISA0WCzBkiMi/ffoApaU1P8bl/vpXUeBrr2ldiarY59XFgK7AVwY3IpdLniEC+rJRinf/cdYGSAYZm49W/Y46kTP5Sp+Pj49HYGAgFi5cCKPRiJEjRyI4OBjnzp0DAAwbNgzjxo2z7n/69GnceuutGD16NI4cOQJZltG6dWt89NFHDh+TgxsRqeGnn0T2bdgQ2L9f62oUHD4M+PmJIo1GratRFfu8uhjQFfjK4EbkcvturuS+cKDi3W/F7YVkkBG94ZiLCyNf40t9PioqCh07dkRAQAD0ej127NhhvS80NBRhYWE2+6ekpOChhx5CYGAgunTpUuMq7pVxcCMiZ7t4EWjVSmTfiAitq7HjX/8SBdr5CpE3YZ9XFwO6Al8a3Ihc6lSKCOiRvRTvXrD5OCSDjH8tqrqIHJEzsc+rh4MbETnbK6+I7NurF+DgchiulZ0NBASIIrdu1boa1bHPq4sBXQEHNyKV5GeLgD65RZVroQPA7pOXIBlk/O6jtRoUR76EfV49HNyIyJlWrBC5t0EDYNcurauxY+zY8uu++QD2eXUxoCvg4EakErMZmNpKhPTLJ6vcXVBsQpfxiZAMMnLyCl1fH/kM9nn1cHAjIme5cgVo105k37Fjta7Gjrw8IChIFLlihdbVuAT7vLoY0BVwcCNS0ed9REA/nqx49zPzNkMyyFiZluPSssi3sM+rh4MbETnL66+L3Nu1K1BQoHU1dsycKYq85x7xQYQPYJ9XFwO6Ag5uRCr6fqgI6L8tVLx7XMJ+SAYZn6w85OLCyJewz6uHgxsROcOaNSL3+vkBW7ZoXU0lJhOQnAwsWgS0bCkKjY3VuiqXYZ9XFwO6Ag5uRCqS/yMC+trJinf/uDMTkkHGKwu2u7gw8iXs8+rh4EZE9XXtGiBJIveOHq11NZUkJAAdOojiyrYGDcR14HwE+7y6GNAVcHAjUtG2z0VA//k1xbvTs/IhGWT0mrQKZrPFxcWRr2CfVw8HNyKqr7feErlXkkRYdxsJCeXXOq+8+fmJ+30A+7y6GNAVcHAjUlH6chHQv3lc8e5Skxndw5MgGWQcO+9Or8rkTdjn1cPBjYjqY8uW8sy7Zo3W1VRgMlX95LxyQA8JEft5OfZ5dTGgK+DgRqSi7P0ioM/sYneX577cBskgI2EPGz+pg31ePRzciKiuCgqAbt1E3n39da2rqSQ52X44r7glJ2tdqerY59XFgK6AgxuRigrzRECPCAKKlD8hn/prOiSDjEnL0lxcHPkK9nn1cHAjoroqu5x4u3biEmtuJS7OsYAeF6d1papjn1cXA7oCDm5EKpvRUQT0cwcV716+LwuSQcbg6K0uLox8Bfu8eji4EVFd7Nol1lrT6YDly7WuRgE/Qbdin1cXA7oCDm5EKvvqjyKgH0pUvDsz9wYkg4yuE5JQXOob1xQl12KfVw8HNyKqreJi4N57Rb59+WWtq7HDZAKCg/kddLDPq40BXQEHNyKV/TRMBPSU+Yp3WywW3D9lNSSDjP1n3O0cN/IG7PPq4eBGRLU1ebLIuK1aARcval2NHevWlX/ErxTOuYo7OQkDugIObkQqWzNRBPSksXZ3Gf7dTkgGGf9NOem6ushnsM+rh4MbEdXGgQNAw4Yi58bHa12NHRkZQIsWosjQ0KqruYeE+Ew4B9jn1caAroCDG5HKdn0rAvoPL9jdZe6aI5AMMt5fvM+FhZGvYJ9XDwc3InJUaSnQt6/IuEOGABaL1hUpyM8H7rlHFKnXA4WF4jT25GSxIFxysk+c1l4R+7y6GNAVcHAjUtmxdSKgRz9kd5d1xnOQDDKenLvRhYWRr2CfVw8HNyJy1MyZIvcGBwPZ2VpXo8BsBgYNEkW2bQtkZWldkVtgn1cXA7oCDm5EKsvNEAH9ozvsvl1+4WoRJIOMTuNkXCsqdXGB5O3Y59XDwY2I7Kn4wfOiRUBAgMi+sbFaV2bHhAmiwMBAYOdOratxG+zz6mJAV8DBjUhlpcVARHMR0q+dt7tbvxnrIRlkpGTkurA48gXs8+rh4EZEShISqn51W6cD7r/fTU9tr3jd8++/17oat8I+ry4GdAUc3IhcYO49IqCf3mV3l//732+QDDK+3JjhwsLIF7DPq4eDGxFVlpAgFjm3twC6262v9ttvwC23iALH2l/Q1lexz6uLAV0BBzciF4j5iwjo+xfb3eWrjRmQDDL+/f1vLiyMfAH7vHo4uBFRRSaT8ifnbnv58JwcoH17UVz//m5UmPtgn1cXA7oCDm5ELrD0/0RA3zTL7i4pGbmQDDL6zVjvwsLIF7DPq4eDGxFVlJxsP5xX3JKTta4UQFER8MgjoqC77wby8rSuyC2xz6uLAV0BBzciF0j+RAT0ZW/a3eVaUSk6jZMhGWScv1rowuLI27HPq4eDGxFVVPGr3NVtcXEaF2qxAP/4R/my8kePalyQ+2KfVxcDugIObkQusC9eBPTYAdXu9udPN0IyyFibfs5FhZEvYJ9XDwc3IqrIYz5Bj4wUhTRoAKxerXEx7o19Xl0M6Ao4uBG5QOZ2EdAje1W72/uL90EyyJi7+rCLCiNfwD6vHg5uRFSRR3wHffVqEcx1OhHUqVrs8+piQFfAwY3IBa7miIA+ORgwldjd7b/bT0EyyBj2Ha8/Ss7DPq8eDm5EVNl339kP55qv4n7kiDilXacDXnvNTa/55l7Y59XFgK6AgxuRC1gswLTWIqRfOmF3twNn8iAZZPSeshoWvmiSk7DPq4eDGxFV9sYbIv82amQb0ENCNA7neXlA9+6imEceEYvEUY3Y59XFgK6AgxuRi0T1FQE9Y4PdXYpLzeg6IQmSQcap3OsuLI68Gfu8eji4EVFFaWnlZ48nJ4stLk78qelp7SaTuIyaTifOwc/J0bAYz8I+ry4GdAUc3Ihc5H/PiYD+W2y1uz0bvRWSQcay1LOuqYu8Hvu8eji4EVEZiwV46imRgYcO1bqaSsaOFYU1bgzs2aN1NR6FfV5dDOgKOLgRuYj8vgjoayOq3S1i+UFIBhlTVqS7pCzyfuzz6uHgRkRlkpJEBg4IADIytK6mgu+/Lz/PPj5e62o8Dvu8uhjQFXBwI3KRbVEioC/+R7W7Jew5A8kgY+gX21xUGHk79nn1cHAjIgAoKQF69BAZ+IMPtK6mgp07gcBAUdiECVpX45HY59XFgK6AgxuRixhXiID+9WPV7pZx4Rokg4zu4UkoMZldVBx5M/Z59XBwIyIAmD9fZODbbweuXNG6mpuysoC2bUVhgwYBZs4UdcE+ry4GdAUc3IhcJOeACOgzO1e7m9lsQa+IVZAMMg5m5bmoOPJm7PPq4eBGRFeuALfdJnLw/PlaV3NTYSGg14uievYE2P/rrK59Pjo6GpIkITAwEHq9Hjt3Vn8J3cWLF6N79+4IDAxEr169kJiYaHN/WFgYdDqdzfb000/X+vdxNwzoCji4EblIYb4I6BFBQNHVand9ZcF2SAYZcTszXVQceTP2efUwoBPRBx+IHNyjB1BaqnU1EKvVDRsmimrZ0s2+EO956tLn4+PjERAQgJiYGKSnp2PEiBEIDg7G+fPnFffftm0b/P39MWvWLBiNRoSHh6NRo0ZIS0uz7hMWFoZnnnkGOTk51u3y5cv1/v20xoCugIMbkQt9IomAnpNW7W4zVx6CZJBh+GW/a+oir8Y+rx4GdCLflpFRfr3zpCStq7lp9mxRkL8/sH691tV4vLr0eb1ej1GjRll/NpvNaNeuHWbMmKG4/wsvvIABAwbY3PbQQw/hjTfesP4cFhaGZ599tpbVuz8GdAUc3Ihc6OtQEdAPydXutupgDiSDjKcjN7mkLPJu7PPqYUAn8m1Dh4os/NRT4oNrlzOZbC+2vmIF4OcnioqO1qAg71PW541GI/Lz861bUVGR4v7FxcXw9/fH0qVLbW4fPnw4Bg8erPiYkJAQREZG2tw2adIk3Hfffdafw8LC0Lx5c7Rq1QrdunXDv//9b+Tm5tbzt9MeA7oCDm5ELvTTcBHQU6p/0czJK4RkkNFlfCJuFLvD+XLkydjn1cOATuS7Nm8WObhBAyCt+hPj1JGQAHToUH4JNZ2uPJyPHKnROwbep6zPV94iIiIU98/KyoJOp0NKSorN7WPGjIFer1d8TKNGjRAXF2dz2/z589G6dWvrzz/++COWL1+OAwcOYOnSpejRowd+97vfwWQy1e8X1BgDugIObkQutGaSCOiJY2rcVT99LSSDjF0nL7mgMPJm7PPqYUAn8k1mM9Cnj8jCFc5Cdp2EhPIwrrT99JMGRXmn2n6CrlZAr+z48ePQ6XRYt25dLX8j98KAroCDG5EL7f5OBPT/PV/jriMW7YZkkLFg83EXFEbejH1ePQzoRL7pv/8VOfjWWwE7636px2Sq+sl55U/RQ0LEflRvte3zap3iruT222/HV1995VBd7ooBXQEHNyIXylgvAnq08juoFUVvOAbJIGN03F4XFEbejH1ePQzoRL7n+nWgfXuRhT/5RIMCkpPth/OKW3KyBsV5n7ouEjd69Gjrz2azGe3bt692kbiBAwfa3PbII4/YLBKnVJefnx+WL1/ucF3uiAFdAQc3IhfKzRABfVqbGr8btuXoRUgGGY/O3OCi4shbsc+rhwGdyPdMmSLyb6dO4nLjLhcX51hAr3TKNNVNXS+zFhgYiIULF8JoNGLkyJEIDg7GuXPnAADDhg3DuHHjrPtv27YNDRs2xJw5c3Do0CFERETYXGbt2rVr+OCDD7B9+3acPHkS69atw4MPPoiuXbvaPdXeUzCgK+DgRuRCpcVARHMR0q+eq3bXvIISSAYZkkHGpevFLiqQvBH7vHoY0Il8y9mzQJMmGn/Nm5+gu1Rd+3xUVBQ6duyIgIAA6PV67Nixw3pfaGgowsLCbPZfvHgxunXrhoCAAPTs2ROJiYnW+woKCvDUU0+hVatWaNSoESRJwogRI6yB35MxoCvg4EbkYp/2FAH99M4ad318djIkg4zkw67+ght5E/Z59TCgE/mWf/xDZN9+/TRcJL3sO+j2Fonjd9Cdin1eXQzoCji4EblYTH8R0PfX/Nb7u/GpkAwy5q096oLCyFuxz6uHgxuR79izpzwTV/gwVBv2VnH38xNbQoLGBXoP9nl1MaAr4OBG5GJL3xQBfeOsGneN3XoCkkHGa7G7XFAYeSv2efVwcCPyDRYLEBoqMvArr2hdzU0DBlQN6CEhDOdOxj6vLgZ0BRzciFxs40wR0Je+WeOuezIvQzLI6DNtDSyanUtHno59Xj0c3Ih8w9KlIv/ecguQmal1NQCKi4HbbxdFzZghFoRLTuZp7Spgn1cXA7oCDm5ELrb/JxHQYwfUuGthiQl3jk+EZJBx5vINFxRH3oh9Xj0c3Ii8X3ExcNddIgt/+KHWZGE2/gAAIABJREFU1dy0bJko6I47gNJSravxauzz6mJAV8DBjcjFMneIgP5pL4d2H/j5FkgGGfL+bJULI2/lS30+OjoakiQhMDAQer0eO3faX4wxNjYWOp3OZgsMDKzV8Ti4EXm/Tz8tz8JXr2pdzU1DhoiiPvhA60q8Hvu8uhjQFfjS4EbkFq7miIA+ORgwldS4+4QlByAZZHycaHRBceSNfKXPx8fHIyAgADExMUhPT8eIESMQHByM8+eVr4IQGxuLoKAg5OTkWLfaXrKGgxuRd8vNBYKDRRb+9lutq7npwgWgYUNR1M3rZJN62OfVxYCuwFcGNyK3YbEA01qLkH7peI27/7T7NCSDjBe+SnFBceSNfKXP6/V6jBo1yvqz2WxGu3btMGPGDMX9Y2Nj0bx583odk4MbkXd76y2Rg3v3dqOvd3/2mSiqTx+tK/EJ7PPqYkBX4CuDG5FbifqdCOgZ62vc9ci5q5AMMnpMXAmTmQvFUe35Qp8vLi6Gv78/li5danP78OHDMXjwYMXHxMbGwt/fHx07dkSHDh0wePBgHDx4sNrjFBUVIT8/37oZjUYObkRe6tAhwN9fZOF167SupoIHHhBFRUVpXYlPYEBXFwO6Al8Y3Ijczv+eFwF9d0yNu5rMFvSYuBKSQcaRc+7y5TfyJL7Q57OysqDT6ZCSYnumyZgxY6DX6xUfk5KSgkWLFiE1NRUbN27EwIEDERQUVO0QFhERUeV76xzciLzTwIEiBw8apHUlFezbJ4pq1Eicf0+qY0BXFwO6Al8Y3IjcTuIHIqCvmeTQ7i98lQLJIOOn3adVLoy8kS/0+boE9MpKSkpw5513Ijw83O4+/ASdyDesXStycMOGwOHDWldTwXvvicKGDtW6Ep/BgK4uBnQFvjC4EbmdlGgR0BeHObT7x4lGSAYZE5YcULcu8kq+0Ofrcoq7kueeew4vvfSSw/tzcCPyPiYTcN99Ige//bbW1VRQUgK0bi0KW7FC62p8Bvu8uhjQFfjC4Ebkdoy/ioD+9WMO7S7vz4ZkkDHw8y0qF0beyFf6vF6vx+jRo60/m81mtG/f3u4icZWZTCZ0794d7733nsPH5OBG5H0WLBAZuEUL4NIlraupYMUKUVjr1iKsk0uwz6uLAV2BrwxuRG4l54AI6J90cmj3M5dvQDLIuHN8IgpL3GUZWfIUvtLn4+PjERgYiIULF8JoNGLkyJEIDg62Xjpt2LBhGDdunHX/KVOmYPXq1Th+/Dj27NmDl156CbfccgvS09MdPiYHNyLvcvUq0KaNyMGRkVpXU8nf/iYK+89/tK7Ep7DPq4sBXYGvDG5EbqUwXwT0iCDx3zWwWCzoM20NJIOMPZmXXVAgeRNf6vNRUVHo2LEjAgICoNfrsWPHDut9oaGhCAsLs/787rvvWvdt06YN+vfvj71799bqeBzciLzLhAkiA3ftChQXa11NBbm5YmE4nQ7Yv1/ranwK+7y6GNAV+NLgRuRWPukkAnqOY98rfy12FySDjNitJ1QujLwN+7x6OLgReY9Tp4DAQJGBly3TuppKoqJEYQ88oHUlPod9Xl0M6Ao4uBFp5OvHREA3/urQ7vPWHoVkkPFufKrKhZG3YZ9XDwc3Iu/x8ssiAz/2GGCxaF1NJX36iOI++0zrSnwO+7y6GNAVcHAj0sjiMBHQt0U5tHvy4fOQDDIen52salnkfdjn1cPBjcg7bN8u8q+fH1DLb7qoLy2t/NrnFy9qXY3PYZ9XFwO6Ag5uRBpZGyECeuIHDu1+6XoxJIMMySAjr4Crt5Lj2OfVw8GNyPNZLMAjj4gM/NprWlej4IMPRHFDhmhdiU9in1cXA7oCDm5EGtkdIwL6/553+CGPztwAySBjy1G+g06OY59XDwc3Is8XHy/yb9OmQFaW1tVUUlpavqy8230x3jewz6uLAV0BBzcijWSsFwE96ncOP2R03F5IBhnRG46pWBh5G/Z59XBwI/JMJhOQnAwsXFief6dO1boqBbIsimvVitc+1wj7vLoY0BVwcCPSyKXjIqBPa+3wajQLNh+HZJAxYtFulYsjb8I+rx4ObkSeJyEB6NBB5N6yzd8fiIvTujIFzz0nCnznHa0r8Vns8+piQFfAwY1II6YSYHKwCOlXcxx6yK6TlyAZZOinr1W5OPIm7PPq4eBG5FkSEsRCcBXDednm5yfudxuXLgEBAaK4VF7BRSvs8+piQFfAwY1IQ5/2EgE9c4dDu98oLkWX8YmQDDJy8gpVLo68Bfu8eji4EXkOk6nqJ+eVA3pIiNjPLcyfLwrr3VvrSnwa+7y6GNAVcHAj0lDsABHQ98U7/JCnIzdBMshYddCxT92J2OfVw8GNyHMkJ9sP5xW35GStK73pd78TBUVGal2JT2OfVxcDugIObkQaWvamCOgbZzr8EMMv+yEZZMxceUjFwsibsM+rh4MbkeeIi3MsoLvFd9HT00UxDRsC589rXY1PY59XFwO6Ag5uRBraOEsE9KVvOvyQuJ2ZkAwy/r7AsdPiidjn1cPBjchzeNQn6GPHimIGD9a6Ep/HPq8uBnQFHNyINLT/JxHQY/o7/JCDWXmQDDJ6RayC2ezY6u/k29jn1cPBjchzlH0HvbpF4tziO+ilpUDbtqKoJUs0LobY59XFgK6AgxuRhk7vFAH9054OP6TEZEb38CRIBhkZF66pWBx5C/Z59XBwI/Is9lZx9/Nzo1Xck5JEUbfdBhQXa12Nz2OfVxcDugIObkQaunpOBPSI5kCp4y/CQ7/YBskgY8levlhQzdjn1cPBjcjzJCQADRrYBvSQEDcJ5wDw4ouiqLfe0roSAvu82hjQFXBwI9KQxQJMayNCem6Gww+LWH4QkkHGsG93ICUjFyae6k7VYJ9XDwc3Is9z40Z5MF+wQHznXPPT2stcvgwEBori9uzRuhoC+7zaGNAVcHAj0li0XgT0Y+sc2n1lWjZ6T14NySBbt4c/XoeVadkqF0qein1ePRzciDzPkSMi/zZtKt4ndytffimKu/deNyzON7HPq4sBXQEHNyKN/fCCCOi7v6tx15Vp2ehUIZiXbZ1ubgzppIR9Xj0c3Ig8z7p1IgPffbfWlSh46CFR3Jw5WldCN7HPq4sBXQEHNyKNJY4RAX3NpGp3M5ktePjjdVXCecWQ/vDH63i6O1XBPq8eDm5EnicmRmTgp57SupJKDh0Shfn7Azk5WldDN7HPq4sBXQEHNyKNpUSLgP7T8Op3y8i1G84rbikZuS4qnDwF+7x6OLgReZ4pU0QOfv11rSupZNw4UdjAgVpXQhWwz6uLAV0BBzcijR2SRUD/OrTa3ZalnnUooC9LPeuSsslzsM+rh4Mbkef5179EDp48WetKKjCZgHbtRGE//6x1NVQB+7y6GNAVcHAj0lhOmgjon0jV7sZP0Kmu2OfVw8GNyPM8/bTIwTExWldSwerVoqgWLYCiIq2roQrY59XFgK6AgxuRxoqu3rwWehBQmGd3t7LvoCstEsfvoFN12OfVw8GNyPP06CGy8Nq1WldSwcsvi6JGjdK6EqqEfV5dDOgKOLgRuYGZnUVAz95f7W5lq7jbW8mdq7iTEvZ59XBwI/IsFgvQrJnIwocPa13NTVeuALfcIoravVvraqgS9nl1MaAr4OBG5Aa+eVwEdOOKGnddmZZdZTX3O8cnMpyTXezz6uHgRuRZrlwROVinA27c0Lqam77+WhR0zz289rkbYp9XFwO6Ag5uRG5g8T9EQN8W5dDuJrMFKRm5iNt5yvppetaVApWLJE/FPq8eDm5EnmX/fpGFb7tN60oq6NdPFDVrltaVkAL2eXUxoCvg4EbkBtZGiIAuv1/rh/7ti22QDDJ+2JHp9LLIO7DPq4eDG5FnkWWRhe+/X+tKbjpyRBTUoAGQzTPh3BH7vLq8PqAPGTIEwcHBGDp0qMOP4eBG5AZ+ixUB/X/P1fqhn687CskgY8Qifm+NlLHPq4eDG5Fn+fJLkYcHDdK6kpsmTBAF/eUvWldCdrDPq8vrA3pycjJWrFjBgE7kaTI2iIAe1bfWD91/5gokg4yek1ahuNSsQnHk6djn1cPBjcizlOVht1gs3WQCOnQQBf30k9bVkB3s8+ry+oAOiJDOgE7kYS6dEAF9WmvAXLuQbTZb0GfaGl4Dnexin1cPBzciz/LqqyIPf/KJ1pVAXOdNpwOCg4HCQq2rITvY59VVp4D+xRdf4N5778Wtt96KW2+9FQ8//DCSkpKcWtimTZswcOBAtG3bFjqdDkuXLlXcLzo6GpIkITAwEHq9Hjt37qyyDwM6kQcylQCTg0VIz6/9d9Dei0+FZJDxcZJRheLI07HPq4eDG5FnCQ0VmfiHH7SuBMDf/y6K+b//07oSqgb7vLrqFNBXrFiBxMREHD16FEeOHMGECRPQqFEjHDx4UHH/rVu3oqSkpMrt6enpOHfunOJjkpKS8OGHH2LJkiV2A3p8fDwCAgIQExOD9PR0jBgxAsHBwTh//rzNfgzoRB4qspcI6Jnba/3QZalnIRlkPB25SYXCyNOxz6uHgxuRZ+nSRWTizZs1LiQ/H2jcWBSzY4fGxVB12OfV5bRT3Fu0aIFvv/22yu1msxm9e/fGc889B5PJZL398OHDaNOmDWbOnFlzkf/P3p2HN1WmbQA/pdAiIK0IqAUaBAQR1A+XCOoMo+COgKPiNlDFAVTQmVExVZGKSpFNUIrDKCIqQgXZtCwCUkAoqxRbGpCWskihQJGdbknu74+3TZv2tKRp3pwl9++6ckHPOTnn4XO+h+cmJ+etIqBbrVYMLfeFGafTiaioKIwZM8bjOAZ0IoP68iER0Hck1vitf54rROtYsdzakVO8TY48sc/Lw8GNyDicTqBePZGJ9+/XuJjp00Uh117Ltc91jn1erloHdIfDgTlz5iAsLAwZGRmqx+Tk5KBt27Z4+umn4XQ6kZWVhaioKAwZMsS7IlUCemFhIUJDQyttHzBgAHr37u2xzduAnpCQgI4dO6J9+/Yc3Ij0YNFLIqAn+/bFuD4J62GxJSFxC5dbI08M6PJwcCMyjiNHRCYOCQFUbnYNrDvv1NGX4ak67PNy+RzQ09LS0LBhQ4SGhiIiIgJLliyp9vgDBw4gOjoaTzzxBKKjozFgwAC4vPzXMbWAnpOTA0VRkJKS4rF9+PDhsFqt7p979OiBpk2b4pJLLkGLFi0qHa+GgxuRTqwdJwL6Qt++izZp5e+w2JLwwjfb/FwYGR37vDwc3IiMY8sWkYmjojQuJDOzbO3zQ4c0LoYuxtc+782zw8qbO3cuOnTogPDwcHTu3LnavDlkyBAoioJJkybVqCY98jmgFxYWIjMzE9u2bUNsbCyaNm1a5SfopdauXQtFUdCmTRsUFxd7X2QtArovOLgR6cRvc0VAn+HbWqipB8Vya51HLkeRg8utURn2eXkY0ImM4/vvRS7u2lXjQkaMEIXcd5/GhZA3fOnz3j47rNSGDRsQGhqKcePGwW63Y8SIEahXrx7S09MrHbtgwQLceOONiIqKCu6AXlGPHj0wePDgKvfn5uaiQ4cOePjhh3HllVdi2LBhXp+7tre41xQHNyKdOLhFBPSJ1/n0dqfThS7vieXWNu3lcmtUhn1eHgZ0IuOYNEnk4scf17AIpxOIjhaFzJmjYSHkLV/6vLfPDivVr18/PPTQQx7bbrvttkpfkT506BBatGiBnTt3wmKxMKCXd9dddyEmJkZ13/Hjx9GpUyf07dsXxcXFyMjIQLNmzfDaa695V2Q1D4krH/SdTidatGhR5X9ob3FwI9KJs0dFQI+LAIoLfDrFK3O2w2JLwthlu/xcHBkZ+7w8DOhExvHqqyIXv/qqhkX8/LMoIiICuHBBw0LIW6V93m634/Tp0+5XQYH6rObLB6utWrWqFLZHjhyJG264wf2z0+nEXXfdhcmTJwNAcAf02NhYrF27Fvv27UNaWhpiY2MREhKCFStWVDrW6XTilltuwYMPPojCwkL39h07dqBJkyb46KOPVK9x9uxZpKamIjU1FYqi4KOPPkJqaioOHCh72FNiYiLCw8Mxc+ZM2O12DB48GJGRkVUu3eYtDm5EOuFyAR9cKUJ6XpZPp1iw/Q9YbEl4YLLW68eQnrDPy8OATmQcjz8usnFJvtFG//6iiGruxCV9Ke3zFV9xcXGqx/vy1eR69eph9uzZHtumTp2K5s2bu3+Oj4/HPffc436umU8BvbgYWLkSmDYNOHOmtGDg7NmancePfAroAwcOhMViQVhYGJo1a4YePXqohvNSK1asQH5+5WWOtm/fXuVf4MnJyar/4St+Sj9lyhRER0cjLCwMVqsVm/ywbiIHNyIdSbhNBPTMVT69Pe9sgXu5taOnudwaCezz8jCgExnHbbeJbDx/vkYFnDkDNGggivDiQc6kDzX9BF1GQN+2bRuuuOIK5OTkuPfXOKDv3y+W9WvQAAgNBfbuFdtfeQXwcrUxGfx2i7uZcHAj0pFv+4mAvmW6z6foPeUXWGxJ+G7rQT8WRkbGPi8PAzqRcURFiWy8ZYtGBcyYIQpo355rnxtITfu8jFvcJ02ahJCQEISGhrpfiqKgTp06sFgs3v1B+vQB/vEPoLAQaNSoLKAnJwPt2nl3DgkY0FVwcCPSkaVviIC+4h2fTzFxhVhu7aVvf/VjYWRk7PPyMKATGUNRkVj/XFHEeuia+OtfRQGjR2tUAPnC14fE1eTZYf369UOvXr08tnXr1s39kLi8vDykp6d7vKKiomCz2bB7927vimrSBCg9tnxA37cPuOQSr/9s/saAroKDG5GOpEwVAf27/j6fYtv+P2GxJeH6uOUo5nJrBPZ5mRjQiYxh3z6RjcPCxIPUA27vXlFASAhwkHe4GYmvy6xV9+yw/v37IzY21n38hg0bULduXUyYMAG7du1CXFxclcuslarxLe6RkUDpMuHlA/ovvwDlvuseaAzoKji4EenIriUioE/7q8+ncDhduHHUT7DYkrB13wk/FkdGxT4vDwM6kTGsWyfycZs2GhUQFycKuOcejQogX/na56t7dlj37t0rPWts7ty5aN++PcLCwtCpUycsWbKk2vPXOKD36wcMGiR+36gRkJ0tHg53993As896fx4/Y0BXwcGNSEdyd4qAPia6VqcZNlsstzZ+uZe3PZGpsc/Lw4BOZAzffivycffuGlzc6QRatxYFfPutBgVQbZimz//xB3DddUDHjkDdukDXrsDllwMdOgBHj2pWFgO6Cg5uRDpScLZkLfTGQP4pn0/z/Tax3NpDn3C5NWKfl8k0gxuRyX34ocjH/X3/BpnvkpPFxS+9FDh/XoMCqDZM1eeLi4FZs4Dhw4EXXwQ+/xy4cEHTkhjQVXBwI9KZsW1EQD/8m8+nOHamABabWG7t2Bn1ZUAoeARTn09ISIDFYkF4eDisVis2b97s1fvmzJkDRVHQp0+fGl3PVIMbkYm99JLIyG+9FcCLOhwinP/lL+LiAwcG8OLkL6bp82vXioBeUXGx2KcRBnQVwTS4ERnCZ3eJgJ6xuFaneeiTdbDYkvD9NoP/hUK1Fix9PjExEWFhYZgxYwYyMjIwaNAgREZG4uhFbt3bt28fWrRogb/85S8M6EQm9fDDIiP/978BuuD8+UDLluKipa9mzTRchJ18ZZo+X6eO+q3seXlin0aUCxcuYNSoUZoVoEfBMrgRGca850RA3/BJrU4zfvluWGxJGDZ7u58KI6MKlj5vtVoxdOhQ989OpxNRUVFVLmsDAA6HA7fffjumT5+OmJgYBnQik/q//xMZ+SLP3fKP+fPL1nQr/woJES+GdEMxTZ8PCQGOHau8/fffxdcvNKLk5eWhjob/QqBHwTK4ERnGyndFQE96tVan2brvBCy2JNw46ic4nC4/FUdGFAx9vrCwEKGhoVi4cKHH9gEDBqB3795Vvm/kyJHo27cvAHgV0AsKCnD69Gn3y263m2NwIzK5Jk1ERk5Lk3whh6PyJ+cVQ3qrVuI4MgTDB/RHHhGvOnWABx8s+/mRR4DevcUDDO+7T7PylJ9//hlNmzbVrAA9CobBjchQts0UAf2bR2t1mmKHE9fHLYfFloRfD/zpp+LIiIKhz+fk5EBRFKSkpHhsHz58OKxWq+p7fvnlF7Ro0QLHjx8H4F1Aj4uLg6IolV6GHdyIgsD582X5+ORJyRcrfSDcxV7JyZILIX8xfEB/9lnxCgkBnnii7OdnnwUGDwbi44GSvwe1oNSpUwcvvfSSZgXoUTAMbkSGsjdZBPRPbq71qV6a9SsstiRMXPF7rc9FxhUMfb6mAf3MmTNo3bo1li5d6t7GT9CJzGn3bpGJGzUCXLJvKJs927uAPnu25ELIXwwf0Eu9+y5w7pzWVVSiVPyLm4JjcCMylD/3iYD+XjOxdmotfLf1ICy2JPSe8ot/aiNDCoY+X9Nb3FNTU6EoCkJDQ92vkJAQhISEIDQ0FFlZWV5d1zSDG5GJrVghMvF11wXgYvwE3XTY5+XiU9xVBMPgRmQojmLg3ctESD99uFanOno6HxZbElrHJiHvLJdbC1bB0uetViuGDRvm/tnpdKJFixaqD4nLz89Henq6x6tPnz64++67kZ6ejsLCQq+uycGNSP+++EJk4oB8zdbhAKKi+B10EzFVn583D3j8ceC224AuXTxfGlHefPNNr//SDRbBMrgRGcqkziKg76/9XT8PTBbLrS3YboK/WMgnwdLnExMTER4ejpkzZ8Jut2Pw4MGIjIxEbm4uAKB///6IjY2t8v18ijuROb37rsjG//xngC54111Vh3M+xd1wTNPnP/5YfM9j2DAgLAwYMgTo2ROIiADeekuzspR27drhX//6l2YF6FGwDG5EhjKzlwjoO+bU+lRjl+2CxZaEf83hcmvBSo99/rLLyp5J89xzwJkz/jnvlClTEB0djbCwMFitVmzatMm9r3v37oiJianyvQzoROb0/PMiH7/3XgAutnZtWSBv3twzoLdqxXBuQKbp8x06lD37oFEjYO9e8ft33gHKLVEaaMr69evRsmVLzQrQIz0ObkRBb9FQEdCTq16/2Vub9ubBYktCl/dWwMnl1oKSHvt8w4Zls0GdOupLsxqBaQY3IhO75x6Rj7/8UvKFCgvFF90VRTwd2+EQ3zWfPVv8ytvaDck0ff6SS4D9+8XvmzUDduwQv9+zR6xDqBHlwIEDqF+/vmYF6JEeBzeioLd2vAjoC16o9amKHE50HimWW0s9KHt9GdIjPfb5nj2B668vW/nlySfFJ+lqLz0zzeBGZGLXXisy86pVki80Zoy4ULNmwIkTki9GgWKaPn/11cD2krspb74ZmDZN/P6nn8RtbRpR1qxZA4vFolkBeqTHwY0o6KXNEwH9i/v9croXvtkGiy0Jk1ZyubVgpMc+n5sL2GzAY4+JgP7AA0DfvuovPTPN4EZkUi6XuGNHUYDfZf4VmJ0tPqFUFODrryVeiALNNH3++efFAxkAICFB/O+1Z08gMhIYOFCzspRhw4bhqaee0qwAPdLj4EYU9P7YKgL6xI5+OV3ilgOw2JLQd+p6v5yPjEXvfb51ayAvT+sqfGOawY3IpE6cKPsK+IULki7icol/ZVQU8YA46YutUyCZps87nUBxcdnPc+YAL78MfPKJ+HqGRpT8/HwUFRVpVoAe6X1wIwpKZ4+JgB4XARTXfnm0w6cuuJdb+/McV7IINnrs87IeEhdophnciExqxw6Rm5s2lXiR778XFwkLA3bvlngh0oIp+nxxMTBqFKDDPwPXQVehx8GNKOi5XMAHV4qQfjzTL6e8b9JaWGxJWJR6yC/nI+PQY5/nQ+KIKBB+/FFkZ2nLPJ85U7bu+TvvSLoIack0fb5hQ2DfPq2rqES5++67ccyoU4AkehzciAjA1K4ioGeu9Mvp4pfaYbEl4T+JqX45HxmHHvs8HxJHRIHw6aciO9dwBUXv/fvf4gJt20q8h560ZJo+37s3MHOm1lVUotxyyy148sknta5DV/Q4uBERgG+fEAF9y+d+OV1Kllhu7SYutxZ09Njnyz8krk4dPiSOiOSIjRX5edgwCSffvl00MEUBli+XcAHSA9P0+f/+F7jySuC118TSf4sXe740omzevBkRERGaFaBHehzciAjAUpsI6D+N8MvpCoud6FSy3FraH6f8ck4yBr33eT4kjohkeeYZkZ/HjvXziR0O4NZbxcmfeMLPJyc9MU2fDwmp+lWnjmZlKdu3b8ell16qWQF6pPfBjShobfxUBPTEf/jtlIO+2gqLLQmfrNrjt3OS/um1zz/wAHCq3L8VjRkDnDxZ9nNeHtDRPwsZSGOawY3IpP76V5Gh58zx84mnThUnbtwYOHzYzycnPWGfl0vp3r07+ur9frkA0+vgRhT0di8VAX3aX/x2ym83ieXW/v7pBr+dk/RPr30+JAQ4erTs50svLXtwHCBug9fwH/W9wsGNSN9atxY5er0/Vxk9ckQEc0UR60mTqbHPy6V06dKF/8etQK+DG1HQy80QAX1MtN9OmXNSLLd2dWwSTp7ncmvBQq99vmJAb9SIAZ2I/MfpBOrVEzn6wAE/nvipp8RJb7lF3OpOpsY+LxeXWVOh18GNKOgVnC1ZC70xcOHkxY/30j0frYHFloQff8vx2zlJ3/Ta5xnQiUimw4dFjq5TRywD7RcrVpSddNs2P52U9Ix9Xi7luuuuw7p167SuQ1f0OrgREYBxbUVAP7zDb6f8ICkDFlsSXpvrv3OSvum1z1dc/7xRIyA7u+xnBnQiqo1Nm0SWbtnSTyfMzwfatRMnfeUVP52U9I59Xi7l448/5nfQK9Dr4EZEAD67WwT0jEV+O+X6zOOw2JJwywcrudxakNBrnw8JAR58EHjkEfGqWxe4996ynx98kAGdiHw3b57I0t26+emEcXHihFddBeisn5I87PNyKbt27UKrVq20rkNX9Dq4ERGAeQNFQF//sd8YWZKAAAAgAElEQVROWVDsQMd3lsFiS0L6IS63Fgz02ueffda7l55xcCPSr48+Enm6Xz8/nOz334GwMHHCuXP9cEIyCsP3eacT+PBD4PbbxXMTbDbgwgWtq3JTMjMzUb9+fa3r0BW9Dm5EBGDVKBHQf/yPX0/7/Eyx3FrC6ky/npf0iX1eHsMPbkQm9p//iDz9+uu1PJHLBfToIU52//3iZwoahu/z770nbke7916gTx+gfn3guee0rspNmT9/Pq6++mqt69AVDm5EOvbrVyKgf/N3v572m437YbEl4fH/pvj1vKRP7PPyGH5wIzKxRx8Vmfrj2t6ENmuWOFH9+p5PsqSgYPg+364dMG1a2c8rV4q7QZxO7WoqR+ncuTNefvllrevQFQ5uRDq2d40I6J/c7NfTHjxxHhZbEtq8uQSnLhT59dykP+zz8hh+cCMyMatV5OoFC2pxkj//BJo3FycaPdpvtZFxGL7Ph4UBBw96bgsPB3Ty51GioqKQm5urdR26wsGNSMf+3CcC+ntN/f4vnXdPSIbFloQlaYf9el7SH/Z5eQw/uBGZ2FVXiVy9dWstTvLCC+IkHTsChYV+q42Mw/B9vuKSKUDlZVM0pGTrpBA94eBGpGOOYuDdy0RIP+3fdcvf+1EstzZ8HpdbMzv2eXkMP7gRmVRhoVgpQlGAo0d9PMnGjWUnWbPGr/WRcRi+z1dcMkVt2ZRHHtGsPEWzK+sYBzcinZt0vQjo+zf49bTr9hyDxZYE6+iVcPGBN6bGPi+P4Qc3IpPKzha5Ojzcx2e6FRcDN94oThIT4+/yyEAM3+djYnS9ZAoDugoObkQ6N/NhEdBTZ/v1tPlFDlw7Qiy3Zj/M//83M/Z5eQw/uBGZ1Nq1Ilu3bevjCUrXaGvSpPLtwRRU2OflYkBXwcGNSOcWDxMBfXW830/93JdbYLEl4dPkLL+fm/SDfV4eDm5E+lT64PW77vLhzQcPAg0bihNMn+732shYDN/n9+7V9dKADOgqOLgR6dy6CSKgLxji91N/lbIPFlsS+k3jcmtmxj4vj+EHNyKTio8X+XrAAB/e/Mgj4s133KGbpahIO4bv83XqeD6IoV8/QEcPTWdAV8HBjUjn0uaJgP7F/X4/9YE8sdxa2zeX4Ew+l1szK/Z5eQw/uBGZ1Isvioz99ts1fOMPP4g31q0LpKVJqY2MxfB9PiTEM6A3aiQ+VdcJBnQVHNyIdO6PrSKgT7hWyunvGi+WW1uWfkTK+Ul77PPyGH5wIzKpXr1Ezv7f/2rwpnPnAItFvPGNN2SVRgZj+D7PgG48HNyIdO7ccRHQ4yKAony/nz5u8U5YbEmInf+b389N+sA+L4/hBzcik7rhBpGzly6twZtsNvGm6GgR1olggj5fcR10Ha2BDjCgq+LgRqRzLhfwwVUipB/f4/fTJ+8+CostCV3jV3G5NZNin5fH8IMbkUlddpnI2unpXr4hPV3c1q4o4jZ3ohKG7/MV10FXWwOd66DrCwc3IgOY2k0E9D0r/X7q/CIH2r+9FBZbEnYfOeP385P22OflMfzgRmRCZ8+KnK0owKlTXrzB6QTuvFO8QcOgQvpk+D7vzRroXAddXzi4ERnA7CdFQN/8mZTTx8zYDIstCf9by+XWzIh9Xh7DD25EJmS3i6zduLGXb/jiC/GGhg3FEmtE5bDPy8WAroKDG5EBLIsVAf2nmj6O1jsz1mfDYkvCU59tlHJ+0hb7vDwc3Ij056efRN7u1KmagxwOIDkZmDYNuPRS8YaJEwNVIhkI+7xcDOgqOLgRGcDG/4qAnvgPKafPPn4OFlsS2r21BGcLiqVcg7TDPi8PBzci/Zk+XeTt+6tanXT+fKBly7L74BUFqFcPmDs3oHWSMbDPy8WAroKDG5EB7F4qAvp/75R2ib+OWw2LLQk/7eRya2bDPi8PBzci/YmLE5l78GCVnfPni4dmlQ/npa+QELGfqBz2ebkY0FVwcCMygKN2EdDHtJJ2iZGL0mGxJeGtBWnSrkHaYJ+Xh4Mbkf4895zI2++/X2GHw1H5k/OKAb1VK3EcUQn2ebkY0FVwcCMygMJzJWuhNwYu/CnlEqt3ieXWbh/zM5dbMxn2eXk4uBHpT8+eIm/PnFlhR3Jy1eG8/Cs5WYOqSa/Y5+ViQFfBwY3IIMa1EwE9J1XK6S8UOnBNyXJrmUe53JqZsM/Lw8GNSH86dBA5++efK+yYPdu7gD57tiZ1kz6xz8vFgK6CgxuRQXzeQwT0nQulXeIf0zfBYkvC5+v2SrsGBR77vDwc3Ij0xeUCLrlE5OzMzAo7+Qk6+cDXPp+QkACLxYLw8HBYrVZs3ry52uPnzp2LDh06IDw8HJ07d8aSJUs89sfFxaFDhw5o0KABIiMj0aNHD2zatKnGfx69YUBXwcGNyCC+f14E9PWTpV1i+i9iubVnPjd+w6cy7PPyMKAT6UteXlnOzs+vsLP0O+jVPSSO30GnCnzp84mJiQgLC8OMGTOQkZGBQYMGITIyEkePHlU9fsOGDQgNDcW4ceNgt9sxYsQI1KtXD+np6e5jvv32W6xcuRJ79+7Fzp078fzzz6Nx48Y4duxYrf+MWmJAV8HBjcggVr0nAvqP/5F2iaxjZ2GxJeGat5bifCGXWzML9nl5GNCJ9CU1VWTtZs2qOKCqp7iHhPAp7qTKlz5vtVoxdOhQ989OpxNRUVEYM2aM6vH9+vXDQw895LHttttuw5AhQ6q8Runf7atWrfK6Lj1iQFfBwY3IIH79SgT0rx+RdgmXy4U7PvwZFlsSVtlzpV2HAot9Xh4GdCJ9+eEHkbdvvrmag958s3JAb9WK4ZxUlfZ5u92O06dPu18FBQWqxxcWFiI0NBQLF3p+JXHAgAHo3bu36ntatWqFSZMmeWwbOXIkbrjhhiqvMX78eEREROD48eM+/Kn0gwFdBQc3IoPIXisC+ic3Sb3M2wvTYLElYcTC9IsfTIbAPi8PAzqRviQkiLzdt281B40eLQ7q2VM8EC45mbe1U5VK+3zFV1xcnOrxOTk5UBQFKSkpHtuHDx8Oq9Wq+p569ephdoWHE06dOhXNmzf32Pbjjz+iYcOGCAkJQVRUFLZs2eL7H0wnGNBVcHAjMog/94uA/l5TwOmUdpmVGbmw2JJw51gut2YW7PPyMKAT6YvNJrL3yy9Xc9ATT4iDxo4NWF1kXDX9BF1mQD937hwyMzOxceNGDBw4EK1bt67ye+1GwYCugoMbkUE4ioFRTURIP3VI2mXOFxbjmrfEcmt7j52Vdh0KHPZ5eRjQifTl6adF9h4/vpqDOnYUBy1bFrC6yLhq2ucDcYt7qXbt2iE+Pt6ruvSKAV0FBzciA5l8gwjo+9ZLvcwzn4vl1r74JVvqdSgw2OflYUAn0pc77xTZOzGxigPy84E6dcRBOTkBrY2MydeHxA0bNsz9s9PpRIsWLap9SFyvXr08tnXr1q3ah8QBQJs2baq81d4oGNBVcHAjMpCveouAnvqt1Mt8tnYvLLYk9P+i+jU7yRjY5+VhQCfSF4tFZO8NG6o44NdfxQGXXy4WTSe6CF+XWQsPD8fMmTNht9sxePBgREZGIjdXPIC3f//+iI2NdR+/YcMG1K1bFxMmTMCuXbsQFxfnsczauXPn8Oabb2Ljxo3Yv38/tm3bhueeew7h4eHYuXOnf//AAcaAroKDG5GBLH5ZBPTVcm9n2pN7Riy39vZSXCjkg3OMLpj6fEJCAiwWC8LDw2G1WrF5c9X/yDR//nzcfPPNiIiIQIMGDXDjjTfi66+/rtH1GNCJ9MPhAOrWFfn74MEqDpo5Uxzwt78FtDYyLl/7/JQpUxAdHY2wsDBYrVZs2rTJva979+6IiYnxOH7u3Llo3749wsLC0KlTJyxZssS9Lz8/H4888giioqIQFhaGq666Cr179+ZD4swqmAY3IsNbN0EE9PmDpV7G5XLh9jFiubXVu4z98BEKnj6fmJiIsLAwzJgxAxkZGRg0aBAiIyOrfIBOcnIyFixYALvdjqysLEyePBmhoaFYvny519dkQCfSj0OHRPYODQWKi6s46NVXxUGvvBLQ2si42OflYkBXESyDG5EppH8vAvoX90m/1JsLxHJrg7/eikWph5CSlQeHk7cDGlGw9Hmr1YqhQ4e6f3Y6nYiKiqryO39qunTpghEjRnh9PAc3Iv3YuLFsSfMq9ewpDpo+PWB1kbGxz8vFgK4iWAY3IlP4Y5sI6BM6SL9U/FI7LLYkj1fX+FVYln5Y+rXJv4Khz/vy1NzyXC4XVq1ahQYNGmDFihVeX5eDG5F+zJ0rsvftt1dzUPPm4iAT3BpMgcE+LxcDuopgGNyITONcngjocY2Bonxpl1mWfhitK4Rziy0JrUteDOnGEgx93pd1ZwHg1KlTaNiwIerWrYvw8HB88cUX1V6noKDAYx1cu93OwY1IJyZOFNn7ySerOCA3VxwQEgKcPx/Q2si4GNDlYkBXEQyDG5FpuFzA6CgR0I/9LuUSDqcLXeNXVQrn5UN61/hVvN3dQIKhz/sa0J1OJzIzM5GamooJEyYgIiICycnJVR4fFxcHRVEqvTi4EWnvX/8S+Xv48CoOWLFCHNC+fUDrImNjQJeLAV1FMAxuRKby6e0ioO/x/jbcmkjJyqsynJd/pWTlSbk++V8w9Pna3uJe6vnnn8e9995b5X5+gk6kX3//u8jfn3xSxQETJogDHnssoHWRsTGgy8WAriIYBjciU5n9lAjomz+TcvpFqYe8CuiLUg9JuT75X7D0eavVimHDhrl/djqdaNGiRY0eEvfcc8+he/fuXh/PwY1IP269VeTvCv9OVyYmRhwwalQgyyKDY5+XiwFdRbAMbkSmsSxWBPTlb0k5PT9BN59g6fOJiYkIDw/HzJkzYbfbMXjwYERGRiI3NxcA0L9/f8TGxrqPj4+Px4oVK7B3717Y7XZMmDABdevWxeeff+71NTm4EenHFVeI/P3rr1Uc0KXLRRI8UWXs83IxoKsIlsGNyDQ2TRMBPfEZKacv/Q662kPiyj/Nnd9BN45g6vNTpkxBdHQ0wsLCYLVasWnTJve+7t27IyYmxv3z22+/jXbt2qF+/fq47LLL0K1bNyQmJtboehzciPShoEBkb0UBjh1TOaC4GAgLEwfs3Rvw+si42OflYkBXEUyDG5Ep7F4mAvp/75B2idKnuFcV0ietlPOAOpKDfV4eDm5E+rB3r8je9euL56lWkpEhDmjUCHA6A14fGRf7vFwM6Co4uBEZzNFdIqDHt6xiCvGPZemHKz3N/doRS2GxJeHGUT9hf945adcm/2Kfl4eDG5E+rFkj8vc111RxwJw54oBu3QJaFxkf+7xcDOgqOLgRGUzh+bK10M+fkHoph9OFlKw8LEo9hJSsPJwrKEbvhPWw2JLQY+IanMkvknp98g/2eXk4uBHpw9dfi/x9991VHPDmm+KAIUMCWhcZH/u8XAzoKji4ERnQ+GtEQM/ZHvBLHz2dD+volbDYkvDcl1v4XXQDYJ+Xh4MbkT6MHi3yd7nHTHjq1UsckJAQyLLIBNjn5WJAV8HBjciAPu8pAvpObZ5E+9sfJ9H+bXG7e/wSuyY1kPfY5+Xh4EakDy+8IPL3O+9UcUB0tDhg3bqA1kXGxz4vFwO6Cg5uRAb0/fMioP8ySbMSftiR4/5u+vfb+JeWnrHPy8PBjUgfHnxQ5O/PPlPZefJk2SPeT54MeG1kbOzzcjGgq+DgRmRAP78vAvqP/9a0jAk/7YbFloRr3lqKXw/8qWktVDX2eXk4uBHpw/XXi/y9bJnKznXrxM7o6IDXRcbHPi8XA7oKDm5EBvTr1yKgf91X0zKcThcGf70VFlsSbn5/JXJOXtC0HlLHPi8PBzcifYiMFBl8506VnQkJYmevXgGvi4yPfV4uBnQVHNyIDCgrWQT0ce2A7HWA06FZKecKinHfpLWw2JLw4MfrcL6wWLNaSB37vDwc3Ii0d+ZM2R3sqm1u8GCx8623Al4bGR/7vFwM6Co4uBEZTMbisqe4l74mXiu2a+SPP8/jpvdWwGJLwkuzfoVL4vrsVHPs8/JwcCPSXkaGyN8REVUc0LWrOCAxMaB1kTmwz8vFgK6CgxuRgWQsBuIiPMN5XOOSbRGahvQt+06g3VtLYLElYfLKPZrVQZWxz8vDwY1Ie8uXi/zdubPKTqcTaNRIHJCREfDayPjY5+ViQFfBwY3IIJwO8Ul5pXBeLqRP7Kjp7e7fbTnofrL70rTDmtVBntjn5eHgRqS9zz8X+fvBB1V27t0rdoaFAcX8ChbVHPu8XAzoKji4ERlE9rpqwnm5V7a2a7y+92MGLLYkXDtiGdIPndK0FhLY5+Xh4EakvXfeERl8yBCVnQsXip1dugS8LjIH9nm5GNBVcHAjMoi0ed4F9LR5mpZZ7HCi/xebYbEloVv8Khw7U6BpPcQ+LxMHNyLtPfusyOAffKCyc9QosTMmJtBlkUmwz8vFgK6CgxuRQRjkE3QAOHWhCHdNSIbFloRHpq5HQbF2t90T+7xMHNyItNejh8jgX32lsvPRR8XOiRMDXheZA/u8XAzoKji4ERmE+zvoag+JK32au7bfQS8v+/g5XB+3HBZbEl79bgef7K4h9nl5OLgRae+aa0QGT06uZufKlYEui0yCfV4uBnQVHNyIDMT9FPcqQnr6Aq0r9LBuzzG0eVM82f2ztXu1Lidosc/Lw8GNSFsuF1C/vsjgWVkVdp4/D4SEiJ25uZrUR8bHPi8XA7oKDm5EBpOxWOVp7iWBfcMUraur5Mv12bDYktA6Ngmrdx3VupygxD4vDwc3Im0dPy7yt6IABRUfebJli9jRvLkmtZE5sM/LxYCugoMbkQE5HeK75mnzxK9bZ4iA/v4VwIlsravz4HK5EDs/DRZbEjqPXI49uWe0LinosM/Lw8GNSFu//ioy+BVXqOycPl3s7Nkz4HWRebDPy8WAroKDG5EJuFzAlw+JkP5VH/GzjhQWO/H4tBRYbEn467jV+PNcodYlBRX2eXk4uBFpa9EikcFvuUVl5yuviJ2vvhrwusg82OflYkBXwcGNyCTysoD3m4uQnjpb62oqOXGuEHd8+DMstiQ89dlGFDmcWpcUNNjn5eHgRqStKVNEBn/kEZWdf/ub2DlzZsDrIvNgn5eLAV0FBzciE/nlIxHQP7QAZ49pXU0lu4+cwXXvLIPFloQRC9O1LidosM/Lw8GNSFtvvCEy+L/+VWGHywU0aSJ2bt+uSW1kDuzzcjGgq+DgRmQijiLgv3eIkD7vOa2rUbUiIxetY5NgsSXh64374XC6kJKVh0Wph5CSlQeHU1+355sB+7w8HNyItPXkkyKDT5hQYcehQ2JHaCiQn69JbWQO7PNyMaCr4OBGZDI524F3I0VI371M62pUTU3OhMWWhKtjk9DlvRWw2JLcr67xq7As/bDWJZoK+7w8HNyItHXHHSKHf/ddhR3LlokdHTtqUheZB/u8XAzoKji4EZnQT2+LgD6xI1Cgv6emu1wuPP7fDR7BvPTVuuTFkO4/7PPycHAj0lZ0tMjhKSkVdowdK3Y88YQmdZF5sM/LxYCugoMbkQkVngcm3yBC+pLXta6mEofThdtGr1QN6KUhvWv8Kt7u7ifs8/JwcCPSjsMh7mBXFHFHu4dnnhE7Ro/WpDYyD/Z5uRjQVXBwIzKpvckioMdFAAc2aV2Nh5SsvCrDeflXSlae1qWaAvu8PBzciLTzxx8ig9etK8K6h+uvFzt//FGT2sg82OflYkBXwcGNyMQWviRC+pRbgeICratxW5R6yKuAvii14kci5Av2eXk4uBFpJyVFZPDo6Ao7CgtFalcU4MABTWoj82Cfl4sBXQUHNyITO38CGNdWhPTV8VpX48ZP0AOLfV4eDm5E2vnuO5HB77yzwo7ffhM7IiLEcmtEtcA+LxcDugoObkQmlz5fBPRRlwNH7VpXA0B8B71r/Cq0riacXztiGc7kF2ldqimwz8vDwY1IO+PHixz+1FMVdsyaVUVyJ6o59nm5GNBVcHAjMjmXC/j2CRHSP+8BOCt+UU8by9IPu5/YXlVIv+ejNcg6dlbrUg2PfV4eDm5E2nnlFZHD33ijwo433hA7XnpJk7rIXNjn5WJAV8HBjSgInDoEjG4hQvqm/2ldjduy9MPoGr+q0jron6zag1s/EE95v+6dZfjxtxytSzU09nl5OLgRaeeRR0QOnzKlwo777xc7pk3TpC4yF/Z5uRjQVXBwIwoSWz4XAX10FHDyoNbVuDmcLqRk5WFR6iGkZOW5l1Y7eiYfT/5vozu4xy3eicJip8bVGhP7vDwc3Ii0c/PNIocvXlxhR1RUFYujE9Uc+7xcDOgqOLgRBQmnE5h+rwjpsx4zxINzih1OjF22yx3S+ySsR87JC1qXZTjs8/JwcCPSTvPmIodv315u4/HjYqOiAGfOaFYbmQf7vFwM6Co4uBEFkWO7gfeaipCeNk/rary2yp6L6+OWw2JLwv+N+glrfj+mdUmGwj4vDwc3Im3k55fl8OPHy+1YvVpsbNNGs9rIXNjn5WJAV8HBjSjIrBkrAvrYq4FzxlnG7OCJ8+j1yS+w2JLQOjYJH6343X07PFWPfV4eDm5E2sjMFDn8kksq3BA2ebLY0aePZrWRubDPy8WAroKDG1GQKS4EEm4TIX3BEK2rqZH8IgfeWpDmvuX9H9M3Ie9sgdZl6R77vDwc3Ii0UfpBefv2FXY8/7zY8c47mtRF5sM+LxcDugoObkRB6OAWIC5ChPTMVVpXU2MLtv+Ba0cscz/1fdv+P7UuSdfY5+Xh4Eakja++Ejm8R48KO269VeyYZ5yvcZG+sc/LxYCugoMbUZBaahMBfVJnoMB4a43vPnIGd01IhsWWhLZvLsEXv2TDZYAH32mBfV4eDm5E2vjgA5HDn3uu3EaHQ9zzrijA779rVhuZC/u8XAzoKji4EQWpgrPAR51ESF/2ptbV+ORsQTFe+vZX9y3vL836FWfyi7QuS3fY5+Xh4EakjcGDRQ4fObLcxt9/L/tiusOhWW1kLuzzcjGgq+DgRhTE9qwQAf3dSOCPbVpX4xOXy4WZG/ah3VtLYLEl4a7xydh1hP2sPPZ5eTi4EWnjgQdEFv/883Ib580TG2+9VbO6yHx87fMJCQmwWCwIDw+H1WrF5s2bqz1+7ty56NChA8LDw9G5c2csWbLEva+oqAhvvPEGOnfujAYNGuCqq65C//79kZOT49OfSU8Y0FVwcCMKct//U4T0qd0Ah3E/ff71wJ/oFr8KFlsSOoxYivm/MjCVYp+XhwGdSBudO4ssvnx5uY3vvCM2DhyoWV1kPr70+cTERISFhWHGjBnIyMjAoEGDEBkZiaNHj6oev2HDBoSGhmLcuHGw2+0YMWIE6tWrh/T0dADAqVOn0LNnT3z33XfYvXs3Nm7cCKvViptvvtkvf0YtMaCr4OBGFOTOHQc+bC1C+trxWldTKyfOFeIf0ze5b3mPnZ+G/CIHHE4XUrLysCj1EFKy8oJueTb2eXkY0Im00bixyOJ2e7mNffuKjZMna1YXmY8vfd5qtWLo0KHun51OJ6KiojBmzBjV4/v164eHHnrIY9ttt92GIUOqXm1ny5YtUBQFBw4c8LouPWJAV8HBjYjw23cioL/XDDi+R+tqasXhdGHyyj1oHStC+p0f/oxb3l/pDu2lT35fln5Y61IDhn1eHgZ0osA7fVrkcEUBzpZ/xmmbNmLj6tWa1UbmU9rn7XY7Tp8+7X4VFKgv81pYWIjQ0FAsXLjQY/uAAQPQu3dv1fe0atUKkyZN8tg2cuRI3HDDDVXWtXLlSoSEhBj+73YGdBUc3IgILhfwzd9FSP/ifsDp1LqiWlu35xg6jVzuEcxLX61LXsES0tnn5WFAJwq8nTtFDo+MLLfxzJmy1H78uGa1kfmU9vmKr7i4ONXjc3JyoCgKUlJSPLYPHz4cVqtV9T316tXD7NmzPbZNnToVzZs3Vz0+Pz8fN910E55++uma/4F0hgFdBQc3IgIAnDwAfHCVCOlbv9C6mlpzOF249YOVqgG9NKR3jV8VFLe7s8/Lw4BOFHjLlokc7vHhYkqK2BgVpVldZE41/QRddkAvKirCww8/jC5dupji73UGdBUc3IjIbeOnIqDHtwROG/vJoClZeVWG8/KvlKw8rUuVLpj6fE2emvvZZ5/hzjvvRGRkJCIjI9GjR4+LPmW3IgZ0osD73/9EFvf4yu60aWLj/fdrVheZU037vMxb3IuKitC3b1/ccMMNyMszx/zCgK4imAY3IroIpwP47C4R0mc/BTiKgex1QNo88avTOOvKLko95FVAX5R6SOtSpQuWPl/Tp+Y+/fTTmDp1KlJTU7Fr1y48++yziIiIwKFD3v9vggGdKPBGjBBZ/IUXym186SWx8Y03NKuLzMnXh8QNGzbM/bPT6USLFi2qfUhcr169PLZ169bN4yFxpeG8U6dOOHbsWA3/FPrFgK4iWAY3IvJS7k5gVBMR0kuf7l76mngtkLFY6wq94u0n6DFfbMLRM/lalytVsPT5mj41tyKHw4FLL70UX331ldfXZEAnCryYGJHFR48ut/HOO8XGb77RqiwyKV+XWQsPD8fMmTNht9sxePBgREZGIjc3FwDQv39/xMbGuo/fsGED6tatiwkTJmDXrl2Ii4vzWGatqKgIvXv3RsuWLbFjxw4cOXLE/SosLPTvHzjAGNBVBMvgRkQ18N0Az2DufkWIlwFCusPpQtf4VWjtRUjvNHI5Pk3OQkGxce4QqIlg6PO+3FJY0ZkzZ1C/fn38+OOPXl+XAZ0o8O66q0IWd7mAiAix8bffNK2NzMfXPj9lyhRER0cjLCwMVqsVmzZtcu/r3r07YmJiPI6fO3cu2rdvj7CwMHTq1AlLlixx79u3b5/qg+oURUFycnJt/niaY0BXEQyDGxHVgNMBTLi2ioBeEtIndm7ia/kAACAASURBVDTE7e7L0g+7n9iu9hT3qasz0TthvXv7X8auxvKdR+BymevBccHQ5315KE9FL774Itq0aYP8/KrvqCgoKPB4SJDdbmdAJwqwdu1EFl+zpmTDgQNiQ926gME/TST94T/EysWAriIYBjciqoHsddWE83Kv7HVaV+qVZemH0TV+VZXroDudLny/7Q+PJ74/9dlG7Dpinp4YDH2+tgF9zJgxuOyyy/DbRT59i4uLU/0Eg4MbUWC4XEB4uMjje/eWbPzxR7Hh+us1rY3MiQFdLgZ0FcEwuBFRDaTN8y6gp83TulKvOZwupGTlYVHqIaRk5akurXauoBjjl+/GNW8vhcWWhKtjk/D2wjScOGf8T2OCoc/X5hb38ePHIyIiAlu3br3odfgJOpG2jh4VWTwkBHCvcjV6tNj4zDOa1kbmxIAuFwO6imAY3IioBkz2CXpNHTxxHi/N+tX9afr1ccsx/ZdsFDmcWpfms2Dp8zV9ai4AjB07Fo0bN8bGjRt9uiYHN6LA2rZNZPErryy38YknxMaxYzWri8yLfV4uBnQVwTK4EZGXnA7xtPa4CMN/B702Nu3NwwOT17mD+l0TkrF6l/pyXXoXLH2+pk/N/fDDDxEWFobvv//e44m4Z8+e9fqaHNyIAmvhQpHFb7213MaOHcXGpUs1q4vMi31eLgZ0FcEyuBFRDWQsLntiu1pI3/ql1hUGhMPpwpzNB3Dz+yvcQX3AF5uRefSM1qXVSDD1+Zo8Nddisah+nzwuLs7r63FwIwqsTz4RWfzRR0s25OcDoaFi46FDmtZG5sQ+LxcDuopgGtyIqAYyFpd8kl4umL97mfj1k5uAs8b8NNkXp/OLMHqJHe3eWgKLLQlt31yCd3/YiVPni9zHePM9d62wz8vDwY0osF5/XWTxf/+7ZMP27WJDkybiCXJEfsY+LxcDugoObkRUJadDfNc8bZ749cQ+4KNOIqRP7QqcP6F1hQGVffwcnp+51f1p+v+N+glfp+xD0m851T4pXmvs8/JwcCMKrNKvm0+cWLJh5kyx4W9/07QuMi/2ebkY0FVwcCOiGsnLAsa3FyF92l+B/FNaVxRw6/Ycwz0frfEI5BVfpWut6yGks8/Lw8GNKLBuv13k8blzSza8+qrY8MormtZF5sU+LxcDugoObkRUY0d3AWOvFiF9+j1AgfcP1TKLYocTX27IRuvY6kN61/hVmt/uzj4vDwc3osBq2VLkcffjJXr2FBumT9e0LjIv9nm5GNBVcHAjIp8c/g0Y00qE9Jm9gKILWlcUcClZedV+il76SsnK07RO9nl5OLgRBU5xMVCnjsjjOTklG5s3Fxu2bNG0NjIv9nm5GNBVcHAjIp/9sRUYHSVC+qzHgOJCrSsKqEWph7wK6ItStX2yMPu8PBzciALn4EGRxevWBRwOALm5YkNICHD+vNblkUmxz8vFgK6CgxsR1cq+9cD7V4iQnvgM4CjWuqKA8fYT9J4Tk7F85xE4NbrVnX1eHg5uRIGzYYPI461bl2xYuVJsuOYaTesic2Ofl4sBXQUHNyKqtayfgfeaipD+/T/F09+DgMPpQtf4VWjtRUi32JJw1/hkzN58APlFgf2/D/u8PBzciAJnzhyRx//yl5INEydWWBSdyP/Y5+ViQFfBwY2I/GL3UmBUExHSFw8LmvVol6Ufdj+xXe0p7olbDmL88t24Pm65e9/N769EwupMj3XUZWKfl4eDG1HgjBsn8vjTT5dsiIkRG0aN0rIsMjn2ebkY0FVwcCMiv0mfD7wbKUL60jeCKqRfbB30swXFmP5LNm4f87P7mI7vLMOoHzJw6KTcB+yxz8vDwY0ocF5+WeRxm61kQ5cuYsPChZrWRebGPi8XA7oKDm5E5Fep34qAHtcYWBkXNCHd4XQhJSsPi1IPISUrr8ql1YocTizcfgj3T17nDupt3lyCf83ZjowcOX2YfV4eDm5EgdOnj8jjU6dCPNI9LExs2LtX69LIxNjn5WJAV8HBjYj8bsv0spC+ZpzW1eiSy+XC2t+P4ZnPN3l88v6P6ZuwPvM4XH78hw32eXk4uBEFzk03iTz+ww8AMjLEDw0bAk6n1qWRibHPy8WAroKDGxFJsWFKWUjfMEXranQt/dApDJu9HVfHlgX1Bz9eh8U7clDs8Bw8vf2kvjz2eXk4uBEFTrNmIpOnpgJITBQ/dO2qdVlkcuzzcjGgq+DgRkTSrBlXFtK3TNe6Gt07eOI84hbvxLUjlrmD+h0f/owv12fjfGGxV991V8M+Lw8HN6LAuHBB5HFFAU6cAPDWW+KHwYO1Lo1Mjn1eLgZ0FRzciEgal0t8D700pKd+q3VFhvDnuUJ8vGoPbnpvhccD5dSWbit9Wnx1IZ19Xh4ObkSBsWePyOMNGpQ82qRXL7EhIUHr0sjk2OflYkBXwcGNiKRyucQT3eMaiye8p8/XuiLDyC9y4JuN+/HXsT+rhvPyIb1r/Koqb3dnn5eHgxtRYPz8s8jjHTqUbIiOFhvWrdO0LjI/9nm5GNBVcHAjIulcLrE2elxjsVb67qVaV2Qo6zOPVxvQS18pWXmq72efl4eDG1FgzJwp8vg99wA4ebLsfveTJ7UujUyOfV4uBnQVHNyIKCCcDuD7f4qQ/l5TIOtnrSsyjEWph7wK6ItSD6m+n31eHg5uRIHx3nsijw8cCPGpuaIArVppXRYFAfZ5uRjQVXBwI6KAcRQDic+IkP7+FcC+9SK4Z68D0uaJX50OravUnZSsPH6CrlMc3IgCY9Agkcnj4iC+d64owEMPaV0WBQH2ebkY0FVwcCOigCouBGY9VhLSmwPj2pY9RC6uMTDxWiBjsdZV6orD6ULX+FVoze+g6w4HN6LAuP9+kcmnTwcwZIj44c03tS6LggD7vFwM6Co4uBFRwBVdAKZ29Qzm7leEeDGke1iWftj9xHY+xV0/OLgRBcZ114lMvmIFgG7dxA9z5mhdFgUB9nm5GNBVcHAjooBzOoAJHaoI6CUhfWJH3u5eAddB1x8ObkSBcemlIpPvynACjRqJHzIytC6LggD7vFwM6Co4uBFRwGWvqyacl3tlc/mcihxOF1Ky8rAo9RBSsvKqvK29PPZ5eTi4Ecl36lTZQ9vPp+8VvwkLA4qLtS6NggD7vFwM6Co4uBFRwKXN8y6gp83TulJTYJ+Xh4MbkXzp6SKTN2kCYOFC8UOXLlqXRUGCfV4uBnQVHNyIKOC8/QQ9k0ux+QP7vDwc3IjkW7JEZPIbbwQwapT4YcAArcuiIME+LxcDugoObkQUcE6HeFp7XET1Af3jm8RSbFQr7PPycHAjkm/aNJHJe/UC8Nhj4ocJE7Qui4IE+7xcpg/offv2RWRkJB599FGv38PBjYg0kbG47IntlZ7i3hiIb1m2bfHLwIU/ta7YsNjn5eHgRiTf22+LTP7iiwDaty/3OHci+djn5TJ9QE9OTsYPP/zAgE5ExpCxuOST9PLroHcU2y/8KYJ56fZx7YD0+YDr4g9FI0/s8/JwcCOSr39/kcnHjzoPhISIH3JztS6LggT7vFymD+iACOkM6ERkGE6H+E562jzxa8Wl1fatBz65uSyoz3ocOHlQm1oNin1eHg5uRPL97W8iky8dtUX8pnlzrUuiIMI+L5dPAT0+Ph633HILGjVqhGbNmqFPnz7YvXu3Xwtbu3YtevXqhauuugqKomDhwoWqxyUkJMBisSA8PBxWqxWbN2+udAwDOhGZTnEBsDoeGHW5COkfXAWkTOU66V5in5eHgxuRfG3bilz++xvTxW969tS6JAoi7PNy+RTQ77vvPnz55ZfYuXMnduzYgQcffBDR0dE4d+6c6vHr169HUVFRpe0ZGRnIreJ2nKVLl+Ltt9/GggULqgzoiYmJCAsLw4wZM5CRkYFBgwYhMjISR48e9TiOAZ2ITOvYbuCL+8o+Tf9fd+Dwb1pXpXvs8/JwcCOSy+kUS54rCnD62VfEb/7zH63LoiDCPi+XX25xP3bsGBRFwdq1ayvtczqduPHGG/HYY4/B4Sj7ZGf37t244oorMHbs2IsXWUVAt1qtGDp0qMe1oqKiMGbMGI/jGNCJyNScTmDrDCC+lQjp714GrHgHKDyvdWW6xT4vDwc3Irlyc0UmDwkBnN1L7nX/8kuty6Igwj4vl18CemZmJhRFQXp6uur+nJwctG3bFk8//TScTieysrIQFRWFIUOGeFekSkAvLCxEaGhope0DBgxA7969PbZ5G9ATEhLQsWNHtG/fnoMbERnPmSPAdwPKPk2fdD2QuUrrqnSJAV0eDm5Ecm3dKjL5VVe6gMsvFz/8+qvWZVEQYZ+Xq9YB3el04qGHHsIdd9xR7XEHDhxAdHQ0nnjiCURHR2PAgAFwefnkYbWAnpOTA0VRkJKS4rF9+PDhsFqt7p979OiBpk2b4pJLLkGLFi0qHa+GgxsRGdrupcDE68qC+vxBwLnjWlelK+zz8nBwI5JrwQKRyR/qkiN+U6cOkJ+vdVkURNjn5ap1QH/hhRdgsVi8+g+0du1aKIqCNm3aoLi42Otr1Cag+4KDGxEZXsEZYKmtbA31Dy1A6rdlS7Jd7EnxJsc+Lw8HNyK5Jk8WufyDO5eJ33TsqHVJFGTY5+WqVUAfOnQoWrZsiezs7Isem5ubiw4dOuDhhx/GlVdeiWHDhnlfZC1vca8pDm5EZBqHtgGf3lH2afrMXsCm/6mstX6tWGs9SLDPy8PBjUiu114TufyHO8eK3zzxhNYlUZBhn5fLp4DucrkwdOhQREVFYc+ePRc9/vjx4+jUqRP69u2L4uJiZGRkoFmzZnjttde8K7Kah8SVD/pOpxMtWrSo9JC4muLgRkSm4igCfpkEvH+FZyj3eEWIV5CEdPZ5eTi4EcnVr5/I5fabnhG/GT1a65IoyLDPy+VTQH/xxRcRERGBNWvW4MiRI+7XhQsXKh3rdDpxyy234MEHH0RhYaF7+44dO9CkSRN89NFHqtc4e/YsUlNTkZqaCkVR8NFHHyE1NRUHDhxwH5OYmIjw8HDMnDkTdrsdgwcPRmRkZJVLt3mLgxsRmdLxPcB7zaoP6RM7BsXt7uzz8nBwI5Kra1eRy09FX1/yUfoPWpdEQYZ9Xi6fArqiKKqvL6tY4mHFihXIV3l4xfbt26v8D5ucnKx6jZiYGI/jpkyZgujoaISFhcFqtWLTpk2+/JE8cHAjIlPKXldNOC/3yl6ndaXSsc/Lw8GNSK4WLYB6SiGcdeuJgL5/v9YlUZBhn5fLL8usmQ0HNyIypbR53gX0tHlaVyod+7w8HNyI5CkuFg9t76ykiXDeuHHZwz+JAoR9Xi4GdBUc3IjIlLz9BP0X9a8emQn7vDwc3IjkOXBA5PIBobPEb+68U+uSKAixz8vFgK6CgxsRmZLTUfL09oiLh/RZjwN5WVpXLA37vDwc3Ijk+eUXkcunRbwhfvPSS1qXREGIfV4uBnQVHNyIyLQyFpc9sV3tKe6znwBGNRHbRl0O/DQCyDdfL2Sfl4eDG5E8s2eLXL7psvtLkvo0rUuiIMQ+LxcDugoObkRkahmLVdZB71i2xNrxPcA3j5btG38NkPot4HRqW7cfsc/Lw8GNSJ6xJUufn7gkSvxmwwatS6Ig5GufT0hIgMViQXh4OKxWKzZv3lzt8XPnzkWHDh0QHh6Ozp07Y8mSJR7758+fj3vuuQdNmjSBoihITU2t8Z9FjxjQVXBwIyLTczrEd9LT5olf1ZZW+3058HGXsqD+2V3AH9sCX6sE7PPyMKATyTN0KNBEyRPhXFEA9jDSgC99PjExEWFhYZgxYwYyMjIwaNAgREZG4ujRo6rHb9iwAaGhoRg3bhzsdjtGjBiBevXqIT093X3M119/jVGjRuHzzz9nQDc7Dm5ERCWKC4H1k4HRUWVBfcELwJkjWldWK+zz8jCgE8nTuzfQXUkW4fzqq7Uuh4KUL33earVi6NCh7p+dTieioqIwZswY1eP79euHhx56yGPbbbfdhiFDhlQ6dt++fQzoZsfBjYiogjO5wMIXy0L66CgR3IsLta7MJ8HU52tyS+HOnTvx97//HRaLBYqiYNKkSTW+HgM6kTxdugAvKx+LgN6nj9blUJCqaZ8vLCxEaGgoFi5c6LF9wIAB6N27t+p7WrVqVenvoJEjR+KGG26odCwDehAIpsGNiKhG/tgqbnUvDeofdxG3whtMsPT5mt5SuGXLFrz++uuYM2cOrrzySgZ0Ip25/HLgc+V5EdDfeUfrcihIlfZ5u92O06dPu18FBQWqx+fk5EBRFKSkpHhsHz58OKxWq+p76tWrh9mzZ3tsmzp1Kpo3b17pWAb0IBAsgxsRkU+cTvHQuPHXlAX1bx4VD5cziGDp8zW9pbA8i8XCgE6kI+fPi1y+WblV/GbePK1LoiBV2ucrvuLi4lSPZ0CvGQZ0FcEyuBER1Ur+aWDFO2I5trjGYnm25W+VLcvmzYPoNBIMfd6XWwrLY0An0pfffwfqKA6cVy4RAX33bq1LoiBV00/QeYt7zTCgqwiGwY2IyG/ysoBv+5V9mj6uLfDjqypLuV1btpSbxoKhz/vyiUV53gb0goICjwHNbrczoBNJsGoVcI3yuwjn9esDDv38oycFF18fEjds2DD3z06nEy1atKj2IXG9evXy2NatWzc+JC5YBcPgRkTkd3tWAJ/c5BnKPV4R4qWDkB4MfT5QAT0uLk71VkcGdCL/mjED+LvyvQjot9yidTkUxHxdZi08PBwzZ86E3W7H4MGDERkZidzcXABA//79ERsb6z5+w4YNqFu3LiZMmIBdu3YhLi6u0jJrJ06cQGpqKpYsWQJFUZCYmIjU1FQcOWLslWYY0FUEw+BGRCRF4QUgvmX1IX1iR81vdw+GPh+oW9z5CTpRYIwaBbyrjBQBfeBArcuhIObrV5mmTJmC6OhohIWFwWq1YtOmTe593bt3R0xMjMfxc+fORfv27REWFoZOnTphyZIlHvu//PLLGn0X3igY0FUEw+BGRCRF9rpqwnm5V/Y6TcsMlj5f01sKy+N30In05Z//BBYofUVAnzxZ63IoiLHPy8WAriJYBjciIr9Lm+ddQJ9+b8mD45yalBksfb6mtxQWFhYiNTUVqampuOqqq/D6668jNTUVmZmZXl+TgxuRHPfeC2QpbURAX71a63IoiLHPy8WAriJYBjciIr/z9hP00tfkG4C144BThwJaZjD1+ZrcUlj6oJ2Kr+7du3t9PQ5uRHLc3P6MCOeKAhw/rnU5FMTY5+ViQFcRTIMbEZFfOR0lT2+PqPo76OPaAouHAaNblG1/N1KspZ6xCCgulF4m+7w8HNyI/M/lAu6+JAVQFBQ3u0rrcijIsc/LxYCugoMbEVEtZCwue2J7dU9xLzwHpM4GZjzgedzYq4FlbwJH7dJKZJ+Xh4Mbkf+dPAkMVqYBigJHz/u0LoeCHPu8XAzoKji4ERHVUsZilXXQO1a9xFpeFrDyXWB8e8/3fHYXsHUGkF9NP3Y6xK31afNKvtd+8SfEs8/Lw8GNyL8cDmD6dGCKMhRQFDhfG651SRTk2OflYkBXwcGNiMgPfAjOcBQDu5cBc54GRjUpC+rvXwEsGALsWy/u9Syl+g8B1150rXX2eXk4uBH5z/z5QMuW4mvna5W/AIqCly/7BvPna10ZBTP2ebkY0FVwcCMi0oGzR4H1HwNTbvEM4B//H7BuArBtZhXfda9wK70K9nl5OLgR+cf8+UBICFBHcaC7shrnlEsARcH/KdsREgKGdNIM+7xcDOgqOLgREemIywUc3AwsGgqMjvLyCfER4pb6Kj61Z5+Xh4MbUe05HOKT80eU+TiotCx7erui4KDSAn9X5qNVK3EcUaCxz8vFgK6CgxsRkU4VnAW2fwMk3OZdUM9ep3oa9nl5OLgR1V5ysgjnTiUEznLhHIpSsi0EjyjzkZysdaUUjNjn5WJAV8HBjYhI59LmeRfQ0+apvp19Xh4ObkS1N2eWAweVlpXCefmQfkBphTmz+BE6BR77vFwM6Co4uBER6Vz2On6CrlMc3IhqL3VSsmowr/hKnZSsdakUhNjn5WJAV8HBjYhI55yOkqe3qz0kjt9B1xIHN6Lac86a7VVAd86arXWpFITY5+ViQFfBwY2IyAAyFpc9sZ1PcdcNDm5EfpCc7FVA55fQSQvs83IxoKvg4EZEZBCq66B35DroGuLgRuQHDgdOXdoSriqCuUsJAR/jTlphn5eLAV0FBzciIgNxOsR3zdPmiV+ruK29PPZ5eTi4EdVedjbwYZ3YkjBeIZyHhIALoZOW2OflYkBXwcGNiMjc2Ofl4eBGVHvP9D7jXv/c1aiR5yforVoxnJOm2OflYkBXwcGNiMjc2Ofl4eBGVDurVwMfKy8DioKClm2AM2fEd81nzxa/8rZ20hj7vFwM6Co4uBERmRv7vDwc3Ih8V1wMPNN2I5xKiPi0fMUKrUsiqoR9Xi4GdBUc3IiIzI19Xh4ObkS++9+UQqQpnQFFQf4TA7Quh0gV+7xcDOgqOLgREZkb+7w8HNyIfPPnn8AHl3wAKAouNGwKHD+udUlEqtjn5WJAV8HBjYjI3Njn5fFmcHO5XCgqKkJ+fj5fGryKiorgcrkC+L8K8sYHA35HvhIOKAocX83SuhyiKjGgy8WAroKDGxGRubHPy3Oxwa2wsBD79++H3W7nS8PX/v37UVhYGOD/dVBVMtKdWKN0BxQFx2+5D+A/oJCOMaDLxYCugoMbEZG5sc/LU93g5nQ6sXv3bmRmZuLUqVO4cOGC5p8mB9vrwoULOHXqFDIzM7F79244nU4N/ldC5blcwMTrpovvnYc2EIugE+kYA7pcDOgqOLgREZkb+7w81Q1u+fn5sNvtOH/+vAaVUXnnz5+H3W5Hfn6+1qUEvRVfH8GfSqT49Dx2gtblEF0UA7pcDOgqOLgREZkb+7w83gR0hkLt8b+FPhQUAEmN+gGKgj+uvFmss0akcwzocjGgq+DgRkRkbuzz8jCgGwP/W+jD98/+CCgKipVQnPtlu9blEHmFAV0uBnQVHNyIiMyNfV4eBnRj4H8L7eVmnsEfIS0BRUHaA8O1LofIawzocjGgq+DgRkRkbuzz8gQkoDscQHIyMHu2+NXhqN35LiImJgaKolR6ZWZmVtpfr149tG3bFqNGjUKxhNuVY2Ji0KdPn1qfhwFdeyuve1nc2h7eBs6zfC4DGQcDulwM6Co4uBERmRv7vDzSA/r8+UBL8amj+9WypdguSUxMDO6//34cOXLE4+Uo+YeB8vv379+PTz/9FCEhIYiPj/f6GkVFRV7XwoBufPYZG+FUQgBFQcbkFVqXQ1QjDOhyMaCr4OBGRGRu7PPySA3o8+cDISGe4VxRxLaQEGkh/WKhWG3/Pffcg65du1b5HkVR8Omnn+Lhhx9GgwYNEBcXB4fDgYEDB6J169aoX78+2rdvj8mTJ7vfExcXV+lT/OTkZADAwYMH8fjjjyMiIgKXXXYZevfujX379lV5fQZ07bgKCpHVoDOgKFjXZoDW5RDVGAO6XAzoKji4ERGZG/u8PDUK6C4XcO6cd6/Tp4EWLSqH8/IhvWVLcZw353O5vP4z+RLQe/fujZtuuqnK9yiKgubNm2PGjBnYu3cvDhw4gKKiIowcORJbt25FdnY2Zs2ahQYNGuC7774DAJw9exb9+vXz+DS/sLAQRUVF6NixIwYOHIi0tDTY7XY8/fTT6NChAwoLC1Wvz4CunR39PgAUBceUpjicdlzrcohqjAFdLgZ0FRzciIjMjX1enhoF9HPnqg7csl/nznn9Z4qJiUFoaCgaNmzofj322GMe+0sDusvlwsqVKxEeHo7XX3+9ynMqioJ///vfF7320KFD8eijj6peq9Q333yDDh06wFXuHx0KCwtxySWX4KefflI9LwO6Ns6n/o58JRxQFCx67ButyyHyCQO6XAzoKji4ERGZG/u8PGYN6D179kRmZqb7dfjwYY/9pQE+LCwMdevWxYABA3CummsoioJZs2ZV2p6QkICbbroJTZs2RcOGDVGvXj3ceuutHteqGNBff/31Sv+A0LBhQ4SEhODTTz9VvT4DugZcLmRb/gYoCtbUvw8Xznt/FweRnjCgy8WAroKDGxGRubHPyyPtFvelS70L3kuXanKLe2mAP3DggFdPb1cUBQsXLvTYNmfOHNSvXx9Tp07F9u3bkZmZicGDB+PGG2+stpYXXngBVqvV4x8QSl+nTp1SvT4DeuDljZ0OKArOKf/f3t0HR1Xfexz/hZDsopTEgJCEkAAVqTUXn7irTjs+FKlOQXCsMlOprLWNygQQxyJ2CDJTb4BbmCIKjMUK6LUEsTzVYvUyNaU1CmgNDyESECiNPBpowkOANLuf+0eGvSxsSDbJ7jn74/2a+Y1md8P5frPZ8/1+s2fPuULvzd/jdDhAmzGgxxYDegQ0bgBgN/bzsROzk8Q1NjZ9xjzSSeLOfQa9T5+YXHKtLZ9Bb0mkAX3cuHH63ve+F3bbkCFDwgb0goICDR8+POwxCxcu1FVXXRXV7zMDepwdPKgTKemSMZr/zdnR/H0IcB0G9NhiQI+Axg0A7MZ+Pnbichb3C4d0F57FvSWRBvS5c+eqW7duev/991VVVaWioiJ169YtbEAvLi5Wbm6uduzYoa+//loNDQ06deqUBgwYoLvuukt//etftWfPHpWWlmr8+PHNNtAM6PF1+O5RkjH61NyizZ+1fIQF4GYM6LHFgB4BjRsA2I39fOw4ch30Pn1ifh30eAzoZ86c0WOPPaa0tDSlp6dr7Nixev7558MG9CNHjmjo0KHq2rWrzr/M2sGDBzVmzBj16NFDHo9H/fv3V0FBQbO/4wzo8dO4+l3JGP3bJOu/Hvrc6XCAdmNAjy0G9Aho3ADAbuznYyfmA7rUdBh7aam0dGnTf2NwWLvtGNDj5Phxnbiq6Q9KL3t+rq+5qhosb/7ekgAAE4VJREFUwIAeWwzoEdC4AYDd2M/HTlwGdLQbz0V8nHlivGSMdpt+mj/rlNPhAB2CAT22GNAjoHEDALuxn48dBvTEwHMRBxs2KGCazpfweJ//VUOD0wEBHYMBPbYY0COgcQMAu7Gfjx0G9MTAcxFjDQ06fe1/SMboDfOo3n/f6YCAjsOAHlsM6BHQuAGA3djPxw4DemLguYix4mLJGB0xPfTI9/ngOezCgB5bDOgR0LgBgN3Yz8cOA3pi4LmIoaoqNaZ4JGPkT/4f7dzpdEBAx2JAjy0G9Aho3ADAbuznY6c1A3p9fb0DkeF89fX1DOixEAwqcOddkjF633xfk34edDoioMMxoMcWA3oENG4AYDf287FzqcatsbFRlZWVqqmpcSAynK+mpkaVlZVq5BJ1Heu3v5WM0SnTRf/ZfbfYxcBGDOixxYAeAY0bANiN/XzstNS4HThwIDSk19fX6/Tp06w4rvr6+tBwfuDAgTj/dliosVEqLZWWLpVWrFCgW5pkjJ41s7RokdPBAbHBgB5bDOgR0LgBgN3Yz8dOS41bMBgMDeks59aBAwcUDHL4dbusWCHl5EjGhK0vTT/5bv63AgGnAwRigwE9thjQI6BxAwC7sZ+PndY2bo2NjY6/m3y5Lg5r7wArVkhJSQpeMJwHjVHAGH1RvMLpCIGYYUCPLQb0CGjcAMBul9N+ft68ecrLy5PH45HP59PGjRsv+fjly5dr4MCB8ng8ys/P19q1a6PaXjSNW+PZRpXPKVXZuKUqn1OqxrOxGRzjsR224b7txGwbjY1STs5Fw/m5FTBJUp8+TY8DLNTWAb2j61EwGNTUqVOVmZkpr9erIUOGaKcFl01gQI/gcmrcAOBydLns55ctW6bU1FQtWrRI27dvV0FBgdLT03X48OGIjy8rK1NycrJ+9atfqbKyUkVFRUpJSdG2bdtavc3WNm6fTFqh/cnhhwfvT87RJ5M69p3HeGyHbbhvOx2+jWBQqqmRKiqk2bMjDuYXrdLSDssHcJO2DOixqEczZ85UWlqaVq9erS1btmjEiBHq16+fTp9O7KtTMKBHcLk0bgBwubpc9vM+n0+FhYWhrwOBgLKzszVjxoyIjx81apSGDRsWdtutt96qJ598stXbbE3j9smkFQqYJAUivPMYMEkdNqjFYztsw33biWobJ09KX34pffSR9PvfS/PmSUVF0s9+Jg0fLg0e3PQ585SU1g3l52/vraXtzgVwo7YM6B1dj4LBoDIzMzVr1qzQ/bW1tfJ4PCopKYkmHddhQI/gcmncAOBydTns58+ePavk5GStWrUq7PYxY8ZoxIgREb+nT58+mjNnTthtL7zwggYNGtTq7bbUuDWebdT+5JyLhqf/H6KMapK6q+yZ5fpk0oo2r7JnlqsmqfslDkNu/3bYhvu209I2gsbojElV3dXfVIOna9RD96kuGTpyZV6rHls+p7TVrxsgkUQ7oMeiHu3evVvGGJWXl4c95o477tCECRNam4orMaBHUFtbG/qlq6urY7FYLJZl61xzUVtb63TJiZn9+/fLGKOPP/447PZJkybJ5/NF/J6UlBQtXRr+rt/8+fPVs2fPZrdz5syZsJ9tRUWFjDHatGmTqqurL1rrXliuOmNYLNesg8arcpOrD8wtetPcp1lmjCaZn2uM+W/daxbpJvOuss1GpZjdMqZaSeYf2m4y9a9m/r1/GaMKk6V5c/8R8TXAYiX62rRpk4wxqqioCNv/nzlzJm71qKysTMaYiy4X+fDDD2vUqFHN1qxEwIAeQXV1U+PGYrFYLLtXdbW9Z6CN14A+bdo0x59HFovFYjm/pk2bFrd6xIB+mQkEAqqurlZtbW1U78RUVyf+O+625GJLHjblYkseNuViSx5tyaW2tlbV1dUKWHyh4ngd4n7hO+hHjx7VRx99pH379rXqnZjKykoZY1RZWen4u0LtXbbkYkseNuViSx425WJLHm3JZd++ffrb3/6mo0ePhu3/m3sHnUPco8OA3gHq6uz5LKMtudiSh2RPLrbkIdmTiy15SHbl0pF8Pp/GjRsX+joQCKh3796XPCnP8OHDw267/fbbozpJXLRseu5sycWWPCR7crElD8meXGzJQ4pPLh1dj86dJG727Nmh++vq6jhJHJrwAnUfW/KQ7MnFljwke3KxJQ/Jrlw60rJly+TxeLRkyRJVVlbqiSeeUHp6ug4dOiRJevTRR/X888+HHl9WVqbOnTtr9uzZ+uKLLzRt2rSoL7MWLZueO1tysSUPyZ5cbMlDsicXW/KQ4pNLLOrRzJkzlZ6erjVr1mjr1q0aOXIkl1lDE16g7mNLHpI9udiSh2RPLrbkIdmVS0d75ZVXlJubq9TUVPl8Pm3YsCF035133im/3x/2+OXLl+vaa69Vamqqrr/+eq1duzam8dn03NmSiy15SPbkYksekj252JKHFL9cOroeBYNBTZ06Vb169ZLH49GQIUNUVVUV0xzigQG9A5w5c0bTpk1r9nMXicSWXGzJQ7InF1vykOzJxZY8JLtyudzY9NzZkosteUj25GJLHpI9udiSh2RXLjZgQAcAAAAAwAUY0AEAAAAAcAEGdAAAAAAAXIABHQAAAAAAF2BA7wDz5s1TXl6ePB6PfD6fNm7c6HRIUZk+fboGDx6srl276uqrr9bIkSO1Y8cOp8NqtxkzZsgYo6efftrpUNrkq6++0ujRo5WRkSGv16v8/Hx9+umnTocVtcbGRhUVFalv377yer3q37+/fvnLXyoYDDod2iWtX79ew4cPV1ZWlowxWrVqVdj9584cmpmZKa/XqyFDhmjnzp0ORXtpl8qloaFBzz33nPLz83XFFVcoKytLjz76qPbv3+9gxJG19Jyc78knn5QxRnPmzIljhGiLRK+hEnXUjaihzrOljtpSQyXqaKJgQG+nZcuWKTU1VYsWLdL27dtVUFCg9PR0HT582OnQWu3ee+/V4sWLVVFRoc2bN+sHP/iBcnNzdfLkSadDa7NNmzapb9++GjRoUEI2FseOHVNeXp4ee+wxbdy4UXv27NEHH3ygL7/80unQolZcXKzu3bvrj3/8o/bu3at33nlHXbt21dy5c50O7ZLee+89TZkyRStXroxYxGbOnKm0tDStXr1aW7Zs0YgRI1x77c1L5VJbW6t77rlHb7/9tnbs2KFPPvlEPp9Pt9xyi4MRR9bSc3LOypUrdcMNNyg7O5vGwuVsqKESddRtqKHuYEsdtaWGStTRRMGA3k4+n0+FhYWhrwOBgLKzszVjxgwHo2qfI0eOyBij9evXOx1Km5w4cUIDBgzQunXrdOeddyZcYyFJkydP1ne/+12nw+gQw4YN0+OPPx5224MPPqjRo0c7FFH0LixiwWBQmZmZmjVrVui22tpaeTwelZSUOBFiq7X0F3OpqTE3xmjfvn1xiip6zeXx1VdfqXfv3qqoqFBeXh6NhcvZWEMl6qjTqKHuY0sdtaWGStRRN2NAb4ezZ88qOTn5ol/uMWPGaMSIEQ5F1X67du2SMUbbtm1zOpQ2GTNmjCZOnChJCdlYSNJ1112niRMn6qGHHtLVV1+tG2+8UQsXLnQ6rDYpLi5WXl6eqqqqJEmbN29Wz5499dZbbzkcWetdWMR2794tY4zKy8vDHnfHHXdowoQJ8Q4vKq1pLtatW6ekpCTV1dXFKaroRcojEAjo7rvv1ksvvSRJNBYuZ2sNlaijTqOGuo8tddSWGipRR92MAb0d9u/fL2OMPv7447DbJ02aJJ/P51BU7RMIBDRs2DB95zvfcTqUNikpKVF+fn7o8KhEbCwkyePxyOPx6Be/+IU+//xz/eY3v5HX69WSJUucDi1qgUBAkydPVlJSkjp37qykpCRNnz7d6bCicmERKysrkzFGBw4cCHvcww8/rFGjRsU7vKi01FycPn1aN998sx555JE4RhW9SHlMnz5dQ4cODX02k8bC3WysoRJ11A2ooe5jSx21pYZK1FE3Y0BvBxubi6eeekp5eXmqrq52OpSo/fOf/1TPnj21ZcuW0G2J2FhIUkpKim6//faw28aPH6/bbrvNoYjarqSkRDk5OSopKdHWrVv15ptvKiMjI6EaJVsaC+nSzUVDQ4Puv/9+3XTTTQn3l//PPvtMvXr1CjsxD42Fu9lYQyXqqBtQQ93HljpqSw2VqKNuxoDeDrYdnldYWKicnBzt2bPH6VDaZNWqVTLGKDk5ObSMMUpKSlJycrIaGxudDrHVcnNz9dOf/jTstgULFig7O9uhiNouJydH8+bNC7vtxRdf1MCBAx2KKHq2HJonNd9cNDQ06IEHHtCgQYNUU1PjQGTRuTCPOXPmhF7r57/+O3XqpLy8POcCRbNsq6ESddQtqKHuY0sdtaWGStRRN2NAbyefz6dx48aFvg4EAurdu3dCneAmGAyqsLBQ2dnZrry8RWsdP35c27ZtC1uDBw/Wj3/844T7HOCPfvSji05wM3HixIveEUgEGRkZWrBgQdht06dP14ABAxyKKHrNndxm9uzZodvq6upcf3IbKXJzca6xuP7663XkyBGHIovOhXnU1NRc9PrPzs7W5MmTrbjcla1sqKESddRtqKHuY0sdtaWGStRRN2NAb6dly5bJ4/FoyZIlqqys1BNPPKH09HQdOnTI6dBabezYsUpLS9Nf/vIXHTx4MLTq6+udDq3dEvHQPKnpDKCdO3dWcXGxdu3apd/97ne64oorEu6kMJLk9/vVu3fv0CViVq5cqR49eui5555zOrRLOnHihMrLy1VeXi5jjH7961+rvLw8dFbWmTNnKj09XWvWrNHWrVs1cuRIV14eRrp0Lg0NDRoxYoRycnK0efPmsH3A2bNnnQ49TEvPyYU4NM/9bKihEnXUbaih7mBLHbWlhkrU0UTBgN4BXnnlFeXm5io1NVU+n08bNmxwOqSoGGMirsWLFzsdWrslYmNxzrvvvqv8/Hx5PB5961vfStgz0B4/flxPP/20cnNz5fV61b9/f02ZMsWVhet8paWlEV8Xfr9fUtNf/6dOnapevXrJ4/FoyJAhobPsus2lctm7d2+z+4DS0lKnQw/T0nNyIRqLxJDoNVSijroRNdR5ttRRW2qoRB1NFAzoAAAAAAC4AAM6AAAAAAAuwIAOAAAAAIALMKADAAAAAOACDOgAAAAAALgAAzoAAAAAAC7AgA4AAAAAgAswoAMAAAAA4AIM6AAAAAAAuAADOoBWM8Zo1apVTocBAEBCoo4CaAkDOpAg/H6/jDEXrXvvvTduMdBYAAASFXUUQCJgQAcShN/v13333aeDBw+GrWPHjsUtBhoLAECioo4CSAQM6ECC8Pv9GjlyZLP3G2O0YMEC3XffffJ6verXr5/eeeedsMds3bpVd999t7xerzIyMlRQUKATJ06EPeb111/Xt7/9baWmpiozM1OFhYVh23jttdf0wAMPqEuXLrrmmmu0Zs2a0P3Hjh3TI488oh49esjr9eqaa67RokWLOugnAABA21FHASQCBnQgQbSmsejevbtee+01VVVVqaioSMnJyaqsrJQknTx5UllZWXrwwQe1bds2/fnPf1a/fv3k9/tD/8aCBQvk9Xr10ksvqaqqSps2bdKcOXPCtpGTk6OlS5dq165dmjBhgrp27aqjR49KkgoLC3XjjTfq008/1d69e7Vu3Tr94Q9/iM0PBACAKFBHASQCBnQgQfj9fiUnJ+vKK68MW8XFxZKaiv5TTz0V9j233nqrxo4dK0lauHChrrrqKp08eTJ0/9q1a9WpUycdOnRIkpSdna0pU6Y0G4MxRkVFRaGvT548KWOM/vSnP0mS7r//fv3kJz/pmIQBAOhA1FEAiYABHUgQfr9f99xzj3bt2hW2zv3V3RijN954I+x7Jk6cqLvuukuS9Mwzz4T+/5za2loZY7R+/XodPnxYxhh9+OGHzcZgjNHy5cvDbuvWrVtou++99566dOmiG264QZMmTVJZWVm78wYAoCNQRwEkAgZ0IEG05tC89jQWx48fb1VjceHJbdLS0rR48eLQ10eOHNGSJUs0evRoeb1ePfvss61NEQCAmKGOAkgEDOhAgmhNY3HuMLxzbrvttqgOzevbt2+Lh+a11Fic79VXX9U3vvGNS+YFAEA8UEcBJAIGdCBBNHd5mK+//lpSU9Hv0aOHXn/9dVVVVemFF15Qp06dtH37dknSqVOnlJWVpR/+8Ifatm2bPvzwQ/Xv3z/s5DZLliyR1+vV3LlztXPnTv3973/Xyy+/HLq/pcZi6tSpWr16tXbt2qWKigoNHz5cPp8vtj8YAABagToKIBEwoAMJwu/3yxhz0Ro4cKCkpqI/f/58DR06VB6PR3379tXbb78d9m+05vIwr776qgYOHKiUlBRlZWVp/PjxoftaaixefPFFXXfdderSpYsyMjI0cuRI7dmzJwY/DQAAokMdBZAIGNABS0Qq+gAAoHWoowDcgAEdsASNBQAAbUcdBeAGDOiAJWgsAABoO+ooADdgQAcAAAAAwAUY0AEAAAAAcAEGdAAAAAAAXIABHQAAAAAAF2BABwAAAADABRjQAQAAAABwAQZ0AAAAAABcgAEdAAAAAAAXYEAHAAAAAMAFGNABAAAAAHABBnQAAAAAAFyAAR0AAAAAABdgQAcAAAAAwAUY0AEAAAAAcAEGdAAAAAAAXOD/AO/In++I+I8MAAAAAElFTkSuQmCC\" width=\"1000\">"
      ],
      "text/plain": [
       "<IPython.core.display.HTML object>"
      ]
     },
     "metadata": {},
     "output_type": "display_data"
    }
   ],
   "source": [
    "ax, tax, lax, lines = dual_train_plots()\n",
    "fig = ax.figure\n",
    "plt.tight_layout()"
   ]
  },
  {
   "cell_type": "code",
   "execution_count": null,
   "metadata": {
    "scrolled": false
   },
   "outputs": [
    {
     "name": "stdout",
     "output_type": "stream",
     "text": [
      "Number of batches: train = 1250, val = 78\n"
     ]
    },
    {
     "data": {
      "application/vnd.jupyter.widget-view+json": {
       "model_id": "abbbeb44383e4f659afd92efe7a9593d",
       "version_major": 2,
       "version_minor": 0
      },
      "text/plain": [
       "HBox(children=(FloatProgress(value=0.0, description='Epochs', layout=Layout(flex='2'), max=20.0, style=Progres…"
      ]
     },
     "metadata": {},
     "output_type": "display_data"
    },
    {
     "data": {
      "application/vnd.jupyter.widget-view+json": {
       "model_id": "",
       "version_major": 2,
       "version_minor": 0
      },
      "text/plain": [
       "HBox(children=(FloatProgress(value=0.0, description='Training', layout=Layout(flex='2'), max=1250.0, style=Pro…"
      ]
     },
     "metadata": {},
     "output_type": "display_data"
    },
    {
     "name": "stdout",
     "output_type": "stream",
     "text": [
      "Epoch 0: train=203.366, val=42.6856, took 25.008 s\n",
      "  Validation Found 0 of 54504, added 0 (eff 0.00%) (0.0 FP/event)\n"
     ]
    },
    {
     "data": {
      "application/vnd.jupyter.widget-view+json": {
       "model_id": "",
       "version_major": 2,
       "version_minor": 0
      },
      "text/plain": [
       "HBox(children=(FloatProgress(value=0.0, description='Training', layout=Layout(flex='2'), max=1250.0, style=Pro…"
      ]
     },
     "metadata": {},
     "output_type": "display_data"
    },
    {
     "name": "stdout",
     "output_type": "stream",
     "text": [
      "Epoch 1: train=42.628, val=42.6618, took 27.769 s\n",
      "  Validation Found 0 of 54504, added 0 (eff 0.00%) (0.0 FP/event)\n"
     ]
    },
    {
     "data": {
      "application/vnd.jupyter.widget-view+json": {
       "model_id": "",
       "version_major": 2,
       "version_minor": 0
      },
      "text/plain": [
       "HBox(children=(FloatProgress(value=0.0, description='Training', layout=Layout(flex='2'), max=1250.0, style=Pro…"
      ]
     },
     "metadata": {},
     "output_type": "display_data"
    },
    {
     "name": "stdout",
     "output_type": "stream",
     "text": [
      "Epoch 2: train=42.6112, val=42.6472, took 26.103 s\n",
      "  Validation Found 0 of 54504, added 0 (eff 0.00%) (0.0 FP/event)\n"
     ]
    },
    {
     "data": {
      "application/vnd.jupyter.widget-view+json": {
       "model_id": "",
       "version_major": 2,
       "version_minor": 0
      },
      "text/plain": [
       "HBox(children=(FloatProgress(value=0.0, description='Training', layout=Layout(flex='2'), max=1250.0, style=Pro…"
      ]
     },
     "metadata": {},
     "output_type": "display_data"
    },
    {
     "name": "stdout",
     "output_type": "stream",
     "text": [
      "Epoch 3: train=42.5934, val=42.6228, took 25.7 s\n",
      "  Validation Found 0 of 54504, added 0 (eff 0.00%) (0.0 FP/event)\n"
     ]
    },
    {
     "data": {
      "application/vnd.jupyter.widget-view+json": {
       "model_id": "",
       "version_major": 2,
       "version_minor": 0
      },
      "text/plain": [
       "HBox(children=(FloatProgress(value=0.0, description='Training', layout=Layout(flex='2'), max=1250.0, style=Pro…"
      ]
     },
     "metadata": {},
     "output_type": "display_data"
    },
    {
     "name": "stdout",
     "output_type": "stream",
     "text": [
      "Epoch 4: train=42.5654, val=42.5937, took 25.859 s\n",
      "  Validation Found 0 of 54504, added 0 (eff 0.00%) (0.0 FP/event)\n"
     ]
    },
    {
     "data": {
      "application/vnd.jupyter.widget-view+json": {
       "model_id": "",
       "version_major": 2,
       "version_minor": 0
      },
      "text/plain": [
       "HBox(children=(FloatProgress(value=0.0, description='Training', layout=Layout(flex='2'), max=1250.0, style=Pro…"
      ]
     },
     "metadata": {},
     "output_type": "display_data"
    },
    {
     "name": "stdout",
     "output_type": "stream",
     "text": [
      "Epoch 5: train=42.5427, val=42.5772, took 25.254 s\n",
      "  Validation Found 0 of 54504, added 0 (eff 0.00%) (0.0 FP/event)\n"
     ]
    },
    {
     "data": {
      "application/vnd.jupyter.widget-view+json": {
       "model_id": "",
       "version_major": 2,
       "version_minor": 0
      },
      "text/plain": [
       "HBox(children=(FloatProgress(value=0.0, description='Training', layout=Layout(flex='2'), max=1250.0, style=Pro…"
      ]
     },
     "metadata": {},
     "output_type": "display_data"
    },
    {
     "name": "stdout",
     "output_type": "stream",
     "text": [
      "Epoch 6: train=42.5163, val=42.4979, took 25.152 s\n",
      "  Validation Found 0 of 54504, added 0 (eff 0.00%) (0.0 FP/event)\n"
     ]
    },
    {
     "data": {
      "application/vnd.jupyter.widget-view+json": {
       "model_id": "",
       "version_major": 2,
       "version_minor": 0
      },
      "text/plain": [
       "HBox(children=(FloatProgress(value=0.0, description='Training', layout=Layout(flex='2'), max=1250.0, style=Pro…"
      ]
     },
     "metadata": {},
     "output_type": "display_data"
    },
    {
     "name": "stdout",
     "output_type": "stream",
     "text": [
      "Epoch 7: train=42.2913, val=42.1436, took 24.943 s\n",
      "  Validation Found 22 of 54504, added 4 (eff 0.04%) (0.000401 FP/event)\n"
     ]
    },
    {
     "data": {
      "application/vnd.jupyter.widget-view+json": {
       "model_id": "",
       "version_major": 2,
       "version_minor": 0
      },
      "text/plain": [
       "HBox(children=(FloatProgress(value=0.0, description='Training', layout=Layout(flex='2'), max=1250.0, style=Pro…"
      ]
     },
     "metadata": {},
     "output_type": "display_data"
    },
    {
     "name": "stdout",
     "output_type": "stream",
     "text": [
      "Epoch 8: train=41.4611, val=38.3245, took 25.106 s\n",
      "  Validation Found 4264 of 54504, added 71 (eff 7.82%) (0.00711 FP/event)\n"
     ]
    },
    {
     "data": {
      "application/vnd.jupyter.widget-view+json": {
       "model_id": "",
       "version_major": 2,
       "version_minor": 0
      },
      "text/plain": [
       "HBox(children=(FloatProgress(value=0.0, description='Training', layout=Layout(flex='2'), max=1250.0, style=Pro…"
      ]
     },
     "metadata": {},
     "output_type": "display_data"
    },
    {
     "name": "stdout",
     "output_type": "stream",
     "text": [
      "Epoch 9: train=30.9667, val=23.99, took 24.849 s\n",
      "  Validation Found 25714 of 54504, added 309 (eff 47.18%) (0.0309 FP/event)\n"
     ]
    },
    {
     "data": {
      "application/vnd.jupyter.widget-view+json": {
       "model_id": "",
       "version_major": 2,
       "version_minor": 0
      },
      "text/plain": [
       "HBox(children=(FloatProgress(value=0.0, description='Training', layout=Layout(flex='2'), max=1250.0, style=Pro…"
      ]
     },
     "metadata": {},
     "output_type": "display_data"
    },
    {
     "name": "stdout",
     "output_type": "stream",
     "text": [
      "Epoch 10: train=24.9711, val=21.8073, took 24.89 s\n",
      "  Validation Found 30064 of 54504, added 378 (eff 55.16%) (0.0379 FP/event)\n"
     ]
    },
    {
     "data": {
      "application/vnd.jupyter.widget-view+json": {
       "model_id": "",
       "version_major": 2,
       "version_minor": 0
      },
      "text/plain": [
       "HBox(children=(FloatProgress(value=0.0, description='Training', layout=Layout(flex='2'), max=1250.0, style=Pro…"
      ]
     },
     "metadata": {},
     "output_type": "display_data"
    },
    {
     "name": "stdout",
     "output_type": "stream",
     "text": [
      "Epoch 11: train=23.1889, val=20.4598, took 25.085 s\n",
      "  Validation Found 33815 of 54504, added 492 (eff 62.04%) (0.0493 FP/event)\n"
     ]
    },
    {
     "data": {
      "application/vnd.jupyter.widget-view+json": {
       "model_id": "",
       "version_major": 2,
       "version_minor": 0
      },
      "text/plain": [
       "HBox(children=(FloatProgress(value=0.0, description='Training', layout=Layout(flex='2'), max=1250.0, style=Pro…"
      ]
     },
     "metadata": {},
     "output_type": "display_data"
    },
    {
     "name": "stdout",
     "output_type": "stream",
     "text": [
      "Epoch 12: train=22.1262, val=19.6827, took 24.766 s\n",
      "  Validation Found 35486 of 54504, added 544 (eff 65.11%) (0.0545 FP/event)\n"
     ]
    },
    {
     "data": {
      "application/vnd.jupyter.widget-view+json": {
       "model_id": "",
       "version_major": 2,
       "version_minor": 0
      },
      "text/plain": [
       "HBox(children=(FloatProgress(value=0.0, description='Training', layout=Layout(flex='2'), max=1250.0, style=Pro…"
      ]
     },
     "metadata": {},
     "output_type": "display_data"
    },
    {
     "name": "stdout",
     "output_type": "stream",
     "text": [
      "Epoch 13: train=21.3613, val=18.9934, took 25.004 s\n",
      "  Validation Found 36958 of 54504, added 636 (eff 67.81%) (0.0637 FP/event)\n"
     ]
    },
    {
     "data": {
      "application/vnd.jupyter.widget-view+json": {
       "model_id": "",
       "version_major": 2,
       "version_minor": 0
      },
      "text/plain": [
       "HBox(children=(FloatProgress(value=0.0, description='Training', layout=Layout(flex='2'), max=1250.0, style=Pro…"
      ]
     },
     "metadata": {},
     "output_type": "display_data"
    },
    {
     "name": "stdout",
     "output_type": "stream",
     "text": [
      "Epoch 14: train=20.7696, val=18.5509, took 25.137 s\n",
      "  Validation Found 37715 of 54504, added 655 (eff 69.20%) (0.0656 FP/event)\n"
     ]
    },
    {
     "data": {
      "application/vnd.jupyter.widget-view+json": {
       "model_id": "",
       "version_major": 2,
       "version_minor": 0
      },
      "text/plain": [
       "HBox(children=(FloatProgress(value=0.0, description='Training', layout=Layout(flex='2'), max=1250.0, style=Pro…"
      ]
     },
     "metadata": {},
     "output_type": "display_data"
    }
   ],
   "source": [
    "for result in trainNet(model, optimizer, loss,\n",
    "                        train_loader, val_loader,\n",
    "                        n_epochs, epoch_start=len(results),\n",
    "                        notebook=True):\n",
    "    \n",
    "    results = results.append(pd.Series(result._asdict()), ignore_index=True)\n",
    "    \n",
    "    xs = results.index\n",
    "    \n",
    "    # Update the plot above\n",
    "    lines['train'].set_data(results.index,results.cost)\n",
    "    lines['val'].set_data(results.index,results.val)\n",
    "    \n",
    "    #filter first cost epoch (can be really large)\n",
    "    max_cost = max(max(results.cost if len(results.cost)<2 else results.cost[1:]), max(results.val))\n",
    "    min_cost = min(min(results.cost), min(results.val))\n",
    "    \n",
    "    # The plot limits need updating too\n",
    "    \n",
    "    \n",
    "    \n",
    "    ax.set_ylim(min_cost*.9, max_cost*1.1)  \n",
    "    ax.set_xlim(-.5, len(results.cost) - .5)\n",
    "    \n",
    "    replace_in_ax(lax, lines['eff'], xs, results['eff_val'].apply(lambda x: x.eff_rate))\n",
    "    replace_in_ax(tax, lines['fp'], xs, results['eff_val'].apply(lambda x: x.fp_rate))\n",
    "    \n",
    "    # Redraw the figure\n",
    "    fig.canvas.draw()\n",
    "\n",
    "    # Save each model state dictionary\n",
    "    torch.save(model.state_dict(), output / f'{name}_{result.epoch}.pyt')"
   ]
  },
  {
   "cell_type": "markdown",
   "metadata": {},
   "source": [
    "# Results\n",
    "\n",
    "Let's save some results: (even though if you have not changed the code above, it saves the model every epoch)"
   ]
  },
  {
   "cell_type": "markdown",
   "metadata": {},
   "source": [
    "Go ahead and save the final model (even though it was also saved above):"
   ]
  },
  {
   "cell_type": "code",
   "execution_count": null,
   "metadata": {},
   "outputs": [],
   "source": [
    "torch.save(model.state_dict(), output / f'{name}_final.pyt')"
   ]
  },
  {
   "cell_type": "markdown",
   "metadata": {},
   "source": [
    "Save the output results:"
   ]
  },
  {
   "cell_type": "code",
   "execution_count": null,
   "metadata": {},
   "outputs": [],
   "source": [
    "results.to_hdf(f'{name}_stats.hdf5', 'results')"
   ]
  },
  {
   "cell_type": "markdown",
   "metadata": {},
   "source": [
    "Save the plot above:"
   ]
  },
  {
   "cell_type": "code",
   "execution_count": null,
   "metadata": {
    "scrolled": false
   },
   "outputs": [],
   "source": [
    "dual_train_plots(results.index,\n",
    "                 results.cost, results.val, \n",
    "                 results['eff_val'].apply(lambda x: x.eff_rate),\n",
    "                 results['eff_val'].apply(lambda x: x.fp_rate))\n",
    "plt.tight_layout()\n",
    "plt.savefig(str(output / f'{name}_stats_a.png'))"
   ]
  },
  {
   "cell_type": "code",
   "execution_count": null,
   "metadata": {},
   "outputs": [],
   "source": [
    "##quit()"
   ]
  }
 ],
 "metadata": {
  "kernelspec": {
   "display_name": "goofit",
   "language": "python",
   "name": "goofit"
  },
  "language_info": {
   "codemirror_mode": {
    "name": "ipython",
    "version": 3
   },
   "file_extension": ".py",
   "mimetype": "text/x-python",
   "name": "python",
   "nbconvert_exporter": "python",
   "pygments_lexer": "ipython3",
   "version": "3.7.6"
  }
 },
 "nbformat": 4,
 "nbformat_minor": 2
}
