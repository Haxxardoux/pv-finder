{
 "cells": [
  {
   "cell_type": "markdown",
   "metadata": {},
   "source": [
    "# Use POCA Ellipsoid info to match Tracks to Primary Vertices\n",
    "_____\n",
    "The goal of this notebook is to attempt to match tracks to primary vertices using the mean and widths of the POCA error ellipsoids"
   ]
  },
  {
   "cell_type": "markdown",
   "metadata": {},
   "source": [
    "___\n",
    "<span style=\"color: blue;\">First, let's check to see which GPUs are currently being used:</span>"
   ]
  },
  {
   "cell_type": "code",
   "execution_count": 1,
   "metadata": {},
   "outputs": [
    {
     "name": "stdout",
     "output_type": "stream",
     "text": [
      "Thu Jun 10 11:07:55 2021       \n",
      "+-----------------------------------------------------------------------------+\n",
      "| NVIDIA-SMI 440.64.00    Driver Version: 440.64.00    CUDA Version: 10.2     |\n",
      "|-------------------------------+----------------------+----------------------+\n",
      "| GPU  Name        Persistence-M| Bus-Id        Disp.A | Volatile Uncorr. ECC |\n",
      "| Fan  Temp  Perf  Pwr:Usage/Cap|         Memory-Usage | GPU-Util  Compute M. |\n",
      "|===============================+======================+======================|\n",
      "|   0  TITAN V             Off  | 00000000:03:00.0 Off |                  N/A |\n",
      "| 28%   40C    P8    24W / 250W |   7117MiB / 12066MiB |      0%      Default |\n",
      "+-------------------------------+----------------------+----------------------+\n",
      "|   1  Tesla P100-PCIE...  Off  | 00000000:83:00.0 Off |                    0 |\n",
      "| N/A   44C    P0    36W / 250W |   1531MiB / 16280MiB |      0%      Default |\n",
      "+-------------------------------+----------------------+----------------------+\n",
      "|   2  TITAN V             Off  | 00000000:84:00.0 Off |                  N/A |\n",
      "| 29%   43C    P8    27W / 250W |   9057MiB / 12066MiB |      0%      Default |\n",
      "+-------------------------------+----------------------+----------------------+\n",
      "                                                                               \n",
      "+-----------------------------------------------------------------------------+\n",
      "| Processes:                                                       GPU Memory |\n",
      "|  GPU       PID   Type   Process name                             Usage      |\n",
      "|=============================================================================|\n",
      "|    0      2304      C   ...a/conda/envs/goofit-june2020/bin/python  7105MiB |\n",
      "|    1     45950      C   /data/conda/envs/pvfindergpu/bin/python     1521MiB |\n",
      "|    2     45798      C   ...a/conda/envs/goofit-june2020/bin/python  9045MiB |\n",
      "+-----------------------------------------------------------------------------+\n"
     ]
    }
   ],
   "source": [
    "!nvidia-smi"
   ]
  },
  {
   "cell_type": "markdown",
   "metadata": {},
   "source": [
    "___\n",
    "<span style=\"color: blue;\">Now, we can select which GPU we want to use:</span>"
   ]
  },
  {
   "cell_type": "code",
   "execution_count": 2,
   "metadata": {},
   "outputs": [
    {
     "name": "stdout",
     "output_type": "stream",
     "text": [
      "1 available GPUs (initially using device 0):\n",
      "  0 Tesla P100-PCIE-16GB\n"
     ]
    }
   ],
   "source": [
    "from model.training import select_gpu\n",
    "device = select_gpu(1)"
   ]
  },
  {
   "cell_type": "markdown",
   "metadata": {},
   "source": [
    "___\n",
    "<span style=\"color: blue;\">Here, we import everything we need. The ellipsoid functions imported from model.plots_mdsA_200518 are originally from the Towards_Ellipsoids_*.ipynb notebooks. The model used in this notebook is the four-feature, 6-layer CNN.</span>"
   ]
  },
  {
   "cell_type": "code",
   "execution_count": 3,
   "metadata": {},
   "outputs": [],
   "source": [
    "#import libraries\n",
    "import matplotlib.pyplot as plt\n",
    "import matplotlib as mpl\n",
    "mpl.style.use('classic')\n",
    "import numpy as np\n",
    "import torch\n",
    "import h5py\n",
    "import math as m\n",
    "try:\n",
    "    import awkward0 as awkward\n",
    "except ModuleNotFoundError:\n",
    "    import awkward\n",
    "concatenate = awkward.concatenate\n",
    "from matplotlib.patches import Ellipse\n",
    "import sys\n",
    "from matplotlib.lines import Line2D\n",
    "from matplotlib.patches import Patch\n",
    "\n",
    "#local imports\n",
    "from model.models_mds_F import FourFeature_CNN6Layer_D as Model\n",
    "from model.collectdata_poca_KDE import collect_data_poca, collect_truth\n",
    "from model.plots_emk_200518 import gaussian, collect_poca, plot_ruiplot\n",
    "from model.efficiency import pv_locations, efficiency\n",
    "from model.core import modernize"
   ]
  },
  {
   "cell_type": "markdown",
   "metadata": {},
   "source": [
    "___\n",
    "<span style=\"color: blue;\">Now, we load our validation dataset, using the method imported from model.collectdata_poca_KDE. The validation set is created in slices of 500. Masking is set to True, and shuffle is set to False in order to retain the order of events. The device is set to that which we previously specified.</span>"
   ]
  },
  {
   "cell_type": "code",
   "execution_count": 4,
   "metadata": {},
   "outputs": [
    {
     "name": "stdout",
     "output_type": "stream",
     "text": [
      "Loading data...\n",
      "Loaded /share/lazy/sokoloff/ML-data_AA/1K_POCA_HLT1CPU_poca_kernel_evts_201022.h5 in 0.2446 s\n",
      "Constructing 500 event dataset took 3.597 s\n"
     ]
    }
   ],
   "source": [
    "#specify the path to the dataset (here, dataAA is a symlink to /share/lazy/sokoloff/ML-data_AA)\n",
    "file = '/share/lazy/sokoloff/ML-data_AA/1K_POCA_HLT1CPU_poca_kernel_evts_201022.h5'\n",
    "validation = collect_data_poca(file,\n",
    "                          batch_size=1,\n",
    "                          slice=slice(500),\n",
    "                          masking=True, shuffle=False,\n",
    "                          device=device,\n",
    "                          load_XandXsq=True,\n",
    "                          load_xy=True)"
   ]
  },
  {
   "cell_type": "code",
   "execution_count": 5,
   "metadata": {},
   "outputs": [
    {
     "name": "stdout",
     "output_type": "stream",
     "text": [
      "<KeysViewHDF5 ['Xmax', 'Ymax', 'kernel', 'major_axis_x', 'major_axis_y', 'major_axis_z', 'minor_axis1_x', 'minor_axis1_y', 'minor_axis1_z', 'minor_axis2_x', 'minor_axis2_y', 'minor_axis2_z', 'poca_KDE_A', 'poca_KDE_A_xMax', 'poca_KDE_A_yMax', 'poca_KDE_B', 'poca_KDE_B_xMax', 'poca_KDE_B_yMax', 'poca_x', 'poca_y', 'poca_z', 'pv', 'pv_cat', 'pv_loc', 'pv_loc_x', 'pv_loc_y', 'pv_ntracks', 'pv_other', 'recon_tx', 'recon_ty', 'recon_x', 'recon_y', 'recon_z', 'sv', 'sv_cat', 'sv_loc', 'sv_loc_x', 'sv_loc_y', 'sv_ntracks', 'sv_other']>\n"
     ]
    }
   ],
   "source": [
    "pocas = collect_poca(file)"
   ]
  },
  {
   "cell_type": "markdown",
   "metadata": {},
   "source": [
    "___\n",
    "<span style=\"color: blue;\">Now we load the Xmax and Ymax arrays from the hdf5 file:</span>"
   ]
  },
  {
   "cell_type": "code",
   "execution_count": 6,
   "metadata": {},
   "outputs": [],
   "source": [
    "with h5py.File(file, mode='r') as XY:\n",
    "    #assign numpy arrays corresponding to xmax and ymax\n",
    "    xmax = np.asarray(XY['Xmax'])\n",
    "    ymax = np.asarray(XY['Ymax'])"
   ]
  },
  {
   "cell_type": "markdown",
   "metadata": {},
   "source": [
    "___\n",
    "<span style=\"color: blue;\">Now we collect the truth information from the hdf5 file corresponding to the primary vertices (pvs = True) and print some examples.</span>"
   ]
  },
  {
   "cell_type": "code",
   "execution_count": 7,
   "metadata": {},
   "outputs": [
    {
     "name": "stdout",
     "output_type": "stream",
     "text": [
      "Loaded /share/lazy/sokoloff/ML-data_AA/1K_POCA_HLT1CPU_poca_kernel_evts_201022.h5 in 0.01175 s\n",
      "PV.n.shape =     (512,)\n",
      "PV.n[57].shape =  10\n",
      "PV.x[57] =        -0.0492 -0.0222 0.0252 -0.0338 0.0054 0.0093 -0.0277 -0.0129 -0.0187 -0.0326\n",
      "PV.y[57] =        0.0044 0.0015 -0.0091 0.0336 -0.0147 -0.0057 -0.0016 -0.0099 0.0094 0.0293\n",
      "PV.z[57] =        47.4726 -24.8486 -43.0271 -25.4903 -30.4667 12.7805 -52.4705 -39.3861 1.4138 -6.8486\n",
      "PV.n[57] =        0 0 3 0 30 0 0 19 29 40\n",
      "PV.cat[57] =      -1 -1 0 -1 1 -1 -1 1 1 1\n"
     ]
    }
   ],
   "source": [
    "PV = collect_truth(file, pvs=True)\n",
    "ind = 57\n",
    "print('PV.n.shape =    ',  PV.n.shape)\n",
    "print(f'PV.n[{ind}].shape = ', *PV.n[ind].shape)\n",
    "print(f'PV.x[{ind}] =       ', *PV.x[ind])\n",
    "print(f'PV.y[{ind}] =       ', *PV.y[ind])\n",
    "print(f'PV.z[{ind}] =       ', *PV.z[ind])\n",
    "print(f'PV.n[{ind}] =       ', *PV.n[ind])\n",
    "print(f'PV.cat[{ind}] =     ', *PV.cat[ind])"
   ]
  },
  {
   "cell_type": "markdown",
   "metadata": {},
   "source": [
    "___\n",
    "<span style=\"color: blue;\">We repeat the process for secondary vertices:</span>"
   ]
  },
  {
   "cell_type": "code",
   "execution_count": 8,
   "metadata": {},
   "outputs": [
    {
     "name": "stdout",
     "output_type": "stream",
     "text": [
      "Loaded /share/lazy/sokoloff/ML-data_AA/1K_POCA_HLT1CPU_poca_kernel_evts_201022.h5 in 0.01301 s\n",
      "SV.n.shape =     (512,)\n",
      "SV.n[57].shape =  71\n",
      "SV.x[57] =        0.0252 0.0054 0.0054 0.0054 0.0054 0.0054 0.0054 0.0054 0.0054 0.0054 0.0054 0.0054 0.0054 0.0054 0.0054 0.0054 0.0054 -0.0129 -0.0129 -0.0129 -0.0129 -0.0129 -0.0129 -0.0129 -0.0129 -0.0129 -0.0129 -0.0129 -0.0187 -0.0187 -0.0187 -0.0187 -0.0187 -0.0187 -0.0187 -0.0187 -0.0187 -0.0187 -0.0187 -0.0326 -0.0326 -0.0326 -0.0326 -0.0326 -0.0326 -0.0326 -0.0326 -0.0326 -0.0326 -0.0326 -0.0326 -0.0326 -0.0326 -0.0326 -0.0326 -0.0326 -0.0326 -14.9105 1.1078 11.7775 -0.0996 -12.4723 -12.523 3.6094 7.1751 9.7506 -6.3942 -10.021 -5.953 7.2533 -18.3299\n",
      "SV.y[57] =        -0.0091 -0.0147 -0.0147 -0.0147 -0.0147 -0.0147 -0.0147 -0.0147 -0.0147 -0.0147 -0.0147 -0.0147 -0.0147 -0.0147 -0.0147 -0.0147 -0.0147 -0.0099 -0.0099 -0.0099 -0.0099 -0.0099 -0.0099 -0.0099 -0.0099 -0.0099 -0.0099 -0.0099 0.0094 0.0094 0.0094 0.0094 0.0094 0.0094 0.0094 0.0094 0.0094 0.0094 0.0094 0.0293 0.0293 0.0293 0.0293 0.0293 0.0293 0.0293 0.0293 0.0293 0.0293 0.0293 0.0293 0.0293 0.0293 0.0293 0.0293 0.0293 0.0293 3.4757 -0.4588 -2.5766 -0.0106 -25.5326 -25.5419 4.3718 -7.0991 -6.7553 -7.4299 28.0455 20.0785 6.769 -0.5995\n",
      "SV.z[57] =        -43.0271 -30.4667 -30.4667 -30.4667 -30.4667 -30.4667 -30.4667 -30.4667 -30.4667 -30.4667 -30.4667 -30.4667 -30.4667 -30.4667 -30.4667 -30.4667 -30.4667 -39.3861 -39.3861 -39.3861 -39.3861 -39.3861 -39.3861 -39.3861 -39.3861 -39.3861 -39.3861 -39.3861 1.4138 1.4138 1.4138 1.4138 1.4138 1.4138 1.4138 1.4138 1.4138 1.4138 1.4138 -6.8486 -6.8486 -6.8486 -6.8486 -6.8486 -6.8486 -6.8486 -6.8486 -6.8486 -6.8486 -6.8486 -6.8486 -6.8486 -6.8486 -6.8486 -6.8486 -6.8486 -6.8486 587.8679 -22.3363 -137.2885 -29.0423 212.244 212.7007 49.5794 141.4164 100.373 68.6097 599.5819 377.2386 606.9114 148.6846\n",
      "SV.n[57] =        1 1 2 1 1 1 1 1 2 1 1 1 1 1 1 1 1 2 2 1 2 1 1 1 1 1 1 2 1 1 2 1 1 2 1 2 1 1 1 1 1 2 1 1 1 1 1 1 2 1 1 1 1 2 2 1 1 2 1 1 1 2 2 2 1 2 2 2 2 2 2\n",
      "SV.cat[57] =      0 0 1 0 0 0 0 0 1 0 0 0 0 0 0 0 0 1 1 0 1 0 0 0 0 0 0 1 0 0 1 0 0 1 0 1 0 0 0 0 0 1 0 0 0 0 0 0 1 0 0 0 0 1 1 0 0 1 0 0 0 1 1 1 0 1 1 1 1 1 1\n"
     ]
    }
   ],
   "source": [
    "SV = collect_truth(file, pvs=False)\n",
    "ind = 57\n",
    "print('SV.n.shape =    ', SV.n.shape)\n",
    "print(f'SV.n[{ind}].shape = ', *SV.n[ind].shape)\n",
    "print(f'SV.x[{ind}] =       ', *SV.x[ind])\n",
    "print(f'SV.y[{ind}] =       ', *SV.y[ind])\n",
    "print(f'SV.z[{ind}] =       ', *SV.z[ind])\n",
    "print(f'SV.n[{ind}] =       ', *SV.n[ind])\n",
    "print(f'SV.cat[{ind}] =     ', *SV.cat[ind])"
   ]
  },
  {
   "cell_type": "markdown",
   "metadata": {},
   "source": [
    "___\n",
    "<span style=\"color: blue;\">Now we need to load the model:</span>"
   ]
  },
  {
   "cell_type": "code",
   "execution_count": 9,
   "metadata": {},
   "outputs": [
    {
     "data": {
      "text/plain": [
       "FourFeature_CNN6Layer_D(\n",
       "  (conv1): Conv1d(2, 25, kernel_size=(25,), stride=(1,), padding=(12,))\n",
       "  (conv2): Conv1d(25, 25, kernel_size=(15,), stride=(1,), padding=(7,))\n",
       "  (conv3): Conv1d(25, 25, kernel_size=(15,), stride=(1,), padding=(7,))\n",
       "  (conv4of6): Conv1d(25, 25, kernel_size=(15,), stride=(1,), padding=(7,))\n",
       "  (conv5of6): Conv1d(25, 1, kernel_size=(5,), stride=(1,), padding=(2,))\n",
       "  (finalFilter): Conv1d(1, 1, kernel_size=(91,), stride=(1,), padding=(45,))\n",
       "  (ppConv1): Conv1d(2, 10, kernel_size=(25,), stride=(1,), padding=(12,))\n",
       "  (ppConv2): Conv1d(10, 5, kernel_size=(15,), stride=(1,), padding=(7,))\n",
       "  (ppConv3): Conv1d(5, 1, kernel_size=(5,), stride=(1,), padding=(2,))\n",
       "  (ppFc1): Linear(in_features=4000, out_features=4000, bias=True)\n",
       "  (ppFinalFilter): Conv1d(1, 1, kernel_size=(91,), stride=(1,), padding=(45,))\n",
       "  (conv1dropout): Dropout(p=0.15)\n",
       "  (conv2dropout): Dropout(p=0.15)\n",
       "  (conv3dropout): Dropout(p=0.15)\n",
       "  (conv4dropout): Dropout(p=0.15)\n",
       "  (conv5dropout): Dropout(p=0.15)\n",
       ")"
      ]
     },
     "execution_count": 9,
     "metadata": {},
     "output_type": "execute_result"
    }
   ],
   "source": [
    "#specify name of trained model\n",
    "name = '/share/lazy/sokoloff/ML/Aug16_FourFeature_CNN6LayerPlus_TargetsAA_YetAnother100epochs_160K_lr_1em4_bs128_Alt_Loss_A_4p5/Aug16_FourFeature_CNN6LayerPlus_TargetsAA_YetAnother100epochs_160K_lr_1em4_bs128_Alt_Loss_A_4p5_final.pyt'\n",
    "model = Model().to(device)\n",
    "d = torch.load(name)\n",
    "d = modernize(d, 3)\n",
    "\n",
    "#load and evaluate model\n",
    "model.load_state_dict(d)\n",
    "model.eval()"
   ]
  },
  {
   "cell_type": "markdown",
   "metadata": {},
   "source": [
    "___\n",
    "<span style=\"color: blue;\">Create numpy arrays corresponding to the outputs and labels of the model:</span>"
   ]
  },
  {
   "cell_type": "code",
   "execution_count": 10,
   "metadata": {},
   "outputs": [],
   "source": [
    "with torch.no_grad():\n",
    "    outputs = model(validation.dataset.tensors[0]).cpu().numpy()\n",
    "    labels = validation.dataset.tensors[1].cpu().numpy()"
   ]
  },
  {
   "cell_type": "markdown",
   "metadata": {},
   "source": [
    "___\n",
    "<span style=\"color: blue;\">Create numpy array corresponding to the test dataset:</span>"
   ]
  },
  {
   "cell_type": "code",
   "execution_count": 11,
   "metadata": {},
   "outputs": [
    {
     "name": "stdout",
     "output_type": "stream",
     "text": [
      "test.shape =  (500, 4, 4000)\n"
     ]
    }
   ],
   "source": [
    "test = validation.dataset.tensors[0].cpu().numpy()\n",
    "print('test.shape = ',test.shape)"
   ]
  },
  {
   "cell_type": "code",
   "execution_count": 12,
   "metadata": {},
   "outputs": [
    {
     "name": "stdout",
     "output_type": "stream",
     "text": [
      "dict_keys(['x', 'y', 'z'])\n"
     ]
    }
   ],
   "source": [
    "print(pocas.keys())"
   ]
  },
  {
   "cell_type": "markdown",
   "metadata": {},
   "source": [
    "___\n",
    "<span style=\"color: blue;\">Finally, we can create our plots:</span>"
   ]
  },
  {
   "cell_type": "code",
   "execution_count": 45,
   "metadata": {},
   "outputs": [
    {
     "name": "stdout",
     "output_type": "stream",
     "text": [
      "\n",
      "Event 0: Found 6 of 7, added 0 (eff 85.71%)\n"
     ]
    },
    {
     "data": {
      "image/png": "[encoded data removed]",
      "text/plain": [
       "<Figure size 640x480 with 1 Axes>"
      ]
     },
     "metadata": {},
     "output_type": "display_data"
    },
    {
     "name": "stdout",
     "output_type": "stream",
     "text": [
      "Event 0: Found 6 of 7, added 0 (eff 85.71%)\n",
      "\n"
     ]
    }
   ],
   "source": [
    "inputs = validation.dataset.tensors[0].cpu().numpy()[:,0,:]\n",
    "zvals = np.linspace(-100, 300, 4000, endpoint=False) + 0.05\n",
    "finalmsg = ''\n",
    "internal_count = 0\n",
    "output_filename = None # Or set: '120000_3layer_{number:02}.pdf'\n",
    "\n",
    "min_z_vals = []\n",
    "max_z_vals = []\n",
    "\n",
    "PV_colors = ['brown', 'red','orange','olive','green','cyan','blue','purple','pink']\n",
    "\n",
    "# plot for 100 events\n",
    "for event in range(2):\n",
    "    \n",
    "    #assign current input, label, and output for event\n",
    "    input = inputs[event]\n",
    "    label = labels[event]\n",
    "    output = outputs[event]\n",
    "    \n",
    "    # Consistent parameters for the calls below\n",
    "    parameters = {\n",
    "        \"threshold\": 1e-2,\n",
    "        \"integral_threshold\": .2,\n",
    "        \"min_width\": 3\n",
    "    }\n",
    "    \n",
    "    # Compute the \"actual\" efficencies and things\n",
    "    ftruth = pv_locations(label, **parameters)\n",
    "    fcomputed = pv_locations(output, **parameters)\n",
    "    results = efficiency(label, output, difference=5.0, **parameters)\n",
    "    \n",
    "    # Add a line to the final results string (print at end)\n",
    "    finalmsg += f\"Event {event}: {results}\\n\"\n",
    "    \n",
    "    # Make sure bin numbers are integers\n",
    "    truth = np.around(ftruth).astype(np.int32)\n",
    "    computed = np.around(fcomputed).astype(np.int32)\n",
    "    \n",
    "    # Join arrays and remove any points closer than 5 bins\n",
    "    # We plot over these \"points of interest\"\n",
    "    poi = np.sort(np.concatenate([truth, computed]))\n",
    "    poi = poi[np.concatenate([[True], np.fabs(np.diff(poi)) > 5])]\n",
    "    \n",
    "    print(f\"\\nEvent {event}:\", results)\n",
    "    \n",
    "    #sort PV z-position\n",
    "    sortedPVs = sorted(PV.z[event])\n",
    "    \n",
    "    for j in range(len(pocas[\"z\"][\"poca\"][event])):\n",
    "        diff = np.abs(np.add(sortedPVs, -pocas[\"z\"][\"poca\"][event][j]))\n",
    "        ind = np.where(diff == diff.min())[0][0]\n",
    "        current_gauss = gaussian(zvals, pocas[\"z\"][\"poca\"][event][j], pocas[\"z\"][\"major_axis\"][event][j])\n",
    "        plt.plot(zvals, current_gauss, color = PV_colors[ind])\n",
    "    \n",
    "    #plt.plot(zvals, 7*input, color=\"g\", label=\"Kernel Density\", linewidth = 3)\n",
    "    for j in range(len(sortedPVs)):\n",
    "        plt.plot(sortedPVs[j], np.ones_like(sortedPVs[j])*.4, 'o', color= PV_colors[j], markeredgecolor = 'k')\n",
    "    #plt.scatter(PV.z[event], np.ones_like(PV.z[event])*.4, s=50, color='r')\n",
    "    plt.xlim([zvals[0],zvals[-1]])\n",
    "    plt.ylim([0,12])\n",
    "    plt.show()\n",
    "    break\n",
    "    \n",
    "    for index, i in enumerate(poi):\n",
    "        # Convert to location in z\n",
    "        center = (i / 10) - 100\n",
    "        \n",
    "        # Collect items less than 5 apart as \"true\"\n",
    "        b_truth = np.fabs(ftruth - i) <= 5\n",
    "        b_comp = np.fabs(fcomputed - i) <= 5\n",
    "        in_truth = np.any(b_truth)\n",
    "        in_comp = np.any(b_comp)\n",
    "        \n",
    "        if in_truth and in_comp:\n",
    "            msg = 'PV found'\n",
    "        elif in_truth:\n",
    "            msg = 'PV not found'\n",
    "        elif False:\n",
    "            pass # Check for NaNs\n",
    "        else:\n",
    "            msg = 'False positive'\n",
    "            \n",
    "        with plt.style.context({\n",
    "            'font.size':18,\n",
    "            'font.weight':'bold'}):\n",
    "            \n",
    "            #specify subplot information (3 subplots)\n",
    "            fig, axs = plt.subplots(3, figsize=(12,16),\n",
    "                                    gridspec_kw={'height_ratios':[2,1,1], 'hspace':0.3})\n",
    "        \n",
    "            #bins for plot_ruiplot (needed to find min/max for first axis)\n",
    "            x_bins = np.round(zvals[i - 25 : i + 25] - 0.05, 2)\n",
    "        \n",
    "        \n",
    "            ##############################\n",
    "            #plot POCA z (second subplot)#\n",
    "            ##############################\n",
    "            \n",
    "            #specify second axis for subplot\n",
    "            ax_poca = axs[1]\n",
    "            #calculate width of bins and subtract to make sure that our domain ends up correct\n",
    "            width = x_bins[1]-x_bins[0]\n",
    "            ax_poca.set_xlim([min(x_bins), max(x_bins)-width])\n",
    "            \n",
    "            #create array to plot POCA-ellipsoid Gaussians\n",
    "            pocavals = np.arange(min(x_bins),max(x_bins)-(x_bins[1]-x_bins[0]),0.01)\n",
    "            \n",
    "            ax_poca.set_ylabel('POCA distribution (z)')\n",
    "            #initialize sum of POCA gaussians (sum used in subplot 1)\n",
    "            sum_poca = np.zeros(len(pocavals))\n",
    "            #iterate through tracks, evaluate Gaussian over range pocavals, add to sum_poca, plot current poca-gaussian\n",
    "            #note: Gaussians are scaled to unit area, width corresponds to the width of the major axis in the z-dir\n",
    "            for j in range(len(pocas[\"z\"][\"poca\"][event])):\n",
    "                current_gauss = gaussian(pocavals, pocas[\"z\"][\"poca\"][event][j], pocas[\"z\"][\"major_axis\"][event][j])\n",
    "                sum_poca = np.add(sum_poca, current_gauss)\n",
    "                ax_poca.plot(pocavals, current_gauss, color = 'indigo')\n",
    "        \n",
    "        \n",
    "            ####################################################\n",
    "            #plot KDE, target, prediction, etc. (first subplot)#\n",
    "            ####################################################\n",
    "            \n",
    "            # ax1 is the axis that is tied to left (density)\n",
    "            # ax2 is the axis that is tied to the right (probability)\n",
    "            # plot_ruiplot from plots_mdsA_200518 is the same as in plots_mdsA except ykernel is outputted in order to scale the poca sum\n",
    "            ax1, ax2, ykernel = plot_ruiplot(zvals, i, input, label, output, ax=axs[0])\n",
    "            ax1.set_title(f\"Event {event} @ {center:.1f} mm: {msg}\",\n",
    "                          fontdict={'size':18, 'weight':'bold'})\n",
    "            # calculate factor with which to scale the poca sum\n",
    "            factor = max(ykernel)/max(sum_poca)\n",
    "            # plot the sum of the gaussian poca-ellipsoids\n",
    "            ax1.plot(pocavals, sum_poca*factor, color = 'g', label = \"POCA sum\")\n",
    "            ax1.legend(loc = \"upper left\")\n",
    "            ax1.set_xlim(ax_poca.get_xlim())\n",
    "\n",
    "            msg = \"\"\n",
    "            \n",
    "            #display centroids of truth and prediction and their difference\n",
    "            truth_centroid = (ftruth[b_truth] / 10) - 100\n",
    "            for value in truth_centroid:\n",
    "                msg += f\"True: {value:.3f} mm\\n\"\n",
    "                \n",
    "            comp_centroid = (fcomputed[b_comp] / 10) - 100\n",
    "            for value in comp_centroid:\n",
    "                msg += f\"Pred: {value:.3f} mm\\n\"\n",
    "                \n",
    "            if len(truth_centroid) == 1 and len(comp_centroid) == 1:\n",
    "                diff = (comp_centroid[0] - truth_centroid[0]) * 1_000\n",
    "                msg += f\"∆: {diff:.0f} µm\\n\"\n",
    "            \n",
    "            ax1.text(.02, .8, msg,\n",
    "                     transform=ax1.transAxes,\n",
    "                     verticalalignment='top')\n",
    "            \n",
    "            print(f\"\\nEvent {event}.{index}:\")\n",
    "            \n",
    "            # Plot PVs in blue (uncomment to print as well, but there may be a lot)\n",
    "            ax2.scatter(PV.z[event], np.ones_like(PV.z[event])*.4, s=50, color='C0')\n",
    "            for x,y,z,n,cat in zip(PV.x[event], PV.y[event], PV.z[event], PV.n[event], PV.cat[event]):\n",
    "                # Only print out if z in plotting range\n",
    "                if center - 2.5 < z < center + 2.5:\n",
    "                    #print()\n",
    "                    print(f'PV: {n} tracks (type {cat})')\n",
    "                    \n",
    "\n",
    "            # Plot SVs in green (uncomment to print as well, but there may be a lot)\n",
    "            ax2.scatter(SV.z[event], np.ones_like(SV.z[event])*.6, s=50, color='C1')\n",
    "            \n",
    "            \n",
    "            ####################################\n",
    "            #plot xmax and ymax (third subplot)#\n",
    "            ####################################\n",
    "            \n",
    "            #specify 3rd axis\n",
    "            ax = axs[2]\n",
    "            #plot xmax and ymax\n",
    "            ax.plot((np.arange(4000) / 10) - 100, xmax[event]*1000000, label=\"x\", color = 'red')\n",
    "            ax.plot((np.arange(4000) / 10) - 100, ymax[event]*1000000, label=\"y\", color = 'rebeccapurple')\n",
    "            #ensure x-axis aligns with the first plot\n",
    "            ax.set_xlim(ax1.get_xlim())\n",
    "            ax.set_ylim(-150,150)\n",
    "            ax.grid(axis='y')\n",
    "            ax.set_ylabel('xy maximum [μm]')\n",
    "            ax.legend(loc='best')\n",
    "            \n",
    "            ax.set_xlabel(ax1.get_xlabel())\n",
    "            ax1.set_xlabel(\"\")\n",
    "            \n",
    "            \n",
    "            # Save and show\n",
    "            if output_filename:        \n",
    "                plt.savefig(output_filename.format(number=internal_count))\n",
    "            plt.show()\n",
    "            \n",
    "            internal_count += 1\n",
    "            \n",
    "print(finalmsg)"
   ]
  },
  {
   "cell_type": "code",
   "execution_count": null,
   "metadata": {},
   "outputs": [],
   "source": []
  },
  {
   "cell_type": "code",
   "execution_count": null,
   "metadata": {},
   "outputs": [],
   "source": []
  },
  {
   "cell_type": "code",
   "execution_count": null,
   "metadata": {},
   "outputs": [],
   "source": []
  }
 ],
 "metadata": {
  "kernelspec": {
   "display_name": "Python 3",
   "language": "python",
   "name": "python3"
  },
  "language_info": {
   "codemirror_mode": {
    "name": "ipython",
    "version": 3
   },
   "file_extension": ".py",
   "mimetype": "text/x-python",
   "name": "python",
   "nbconvert_exporter": "python",
   "pygments_lexer": "ipython3",
   "version": "3.7.3"
  }
 },
 "nbformat": 4,
 "nbformat_minor": 4
}
