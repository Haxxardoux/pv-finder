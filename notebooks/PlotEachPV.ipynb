{
 "cells": [
  {
   "cell_type": "code",
   "execution_count": null,
   "metadata": {},
   "outputs": [],
   "source": [
    "# Import from local package\n",
    "import sys\n",
    "sys.path.append('../model')\n",
    "\n",
    "import numpy as np\n",
    "import torch"
   ]
  },
  {
   "cell_type": "code",
   "execution_count": null,
   "metadata": {},
   "outputs": [],
   "source": [
    "### import numpy as np\n",
    "import matplotlib.pyplot as plt\n",
    "import matplotlib as mpl\n",
    "mpl.style.use('classic')"
   ]
  },
  {
   "cell_type": "code",
   "execution_count": null,
   "metadata": {},
   "outputs": [],
   "source": [
    "from models import SimpleCNN3Layer as Model\n",
    "from collectdata import DataCollector\n",
    "from training import select_gpu\n",
    "from plots import plot_ruiplot\n",
    "from efficiency import pv_locations, efficiency"
   ]
  },
  {
   "cell_type": "code",
   "execution_count": null,
   "metadata": {},
   "outputs": [],
   "source": [
    "device = select_gpu(0)"
   ]
  },
  {
   "cell_type": "code",
   "execution_count": null,
   "metadata": {},
   "outputs": [],
   "source": [
    "collector = DataCollector(\n",
    "    \"/data/schreihf/PvFinder/Aug_15_140000.npz\",\n",
    "    120_000, 10_000)\n",
    "validation = collector.get_validation(1, 100, device=device)"
   ]
  },
  {
   "cell_type": "code",
   "execution_count": null,
   "metadata": {},
   "outputs": [],
   "source": [
    "name = '../model/output3/20180815_120000_3layer_30.pyt'\n",
    "model = Model().to(device)\n",
    "model.load_state_dict(torch.load(name))\n",
    "model.eval()"
   ]
  },
  {
   "cell_type": "code",
   "execution_count": null,
   "metadata": {},
   "outputs": [],
   "source": [
    "%%time\n",
    "with torch.no_grad():\n",
    "    outputs = model(validation.dataset.tensors[0]).cpu().numpy()\n",
    "    labels = validation.dataset.tensors[1].cpu().numpy()"
   ]
  },
  {
   "cell_type": "code",
   "execution_count": null,
   "metadata": {},
   "outputs": [],
   "source": [
    "inputs = validation.dataset.tensors[0].cpu().numpy().squeeze()\n",
    "zvals = np.linspace(-100, 300, 4000, endpoint=False) + 0.05\n",
    "\n",
    "for n in range(5):\n",
    "    input = inputs[n]\n",
    "    label = labels[n]\n",
    "    output = outputs[n]\n",
    "    \n",
    "    parameters = {\n",
    "        \"threshold\": 1e-2,\n",
    "        \"integral_threshold\": .2,\n",
    "        \"min_width\": 3\n",
    "    }\n",
    "    \n",
    "    ftruth = pv_locations(label, **parameters)\n",
    "    fcomputed = pv_locations(output, **parameters)\n",
    "    results = efficiency(label, output, difference=5.0, **parameters)\n",
    "    \n",
    "    print(results)\n",
    "    \n",
    "    truth = np.around(ftruth).astype(np.int32)\n",
    "    computed = np.around(fcomputed).astype(np.int32)\n",
    "    \n",
    "    # Join arrays and remove any points closer than 5 bins\n",
    "    poi = np.sort(np.concatenate([truth, computed]))\n",
    "    poi = poi[np.concatenate([[True], np.fabs(np.diff(poi)) > 5])]\n",
    "    \n",
    "    for i in poi:\n",
    "        b_truth = np.fabs(ftruth - i) <= 5\n",
    "        b_comp = np.fabs(fcomputed - i) <= 5\n",
    "        in_truth = np.any(b_truth)\n",
    "        in_comp = np.any(b_comp)\n",
    "        \n",
    "        if in_truth and in_comp:\n",
    "            msg = 'PV found'\n",
    "        elif in_truth:\n",
    "            msg = 'PV not found'\n",
    "        else:\n",
    "            msg = 'False positive'\n",
    "            \n",
    "        with plt.style.context({\n",
    "            'font.size':18,\n",
    "            'font.weight':'bold'}):\n",
    "        \n",
    "            ax1, ax2 = plot_ruiplot(zvals, i, input, label, output)\n",
    "            ax1.set_title(f\"Event {n}: {msg}\", fontdict={'size':18, 'weight':'bold'})\n",
    "\n",
    "            v = .8\n",
    "\n",
    "\n",
    "            truth_centroid = ftruth[b_truth]\n",
    "            for value in truth_centroid:\n",
    "                ax1.text(.02, v, f\" True: {value:.2f} mm\",\n",
    "                         transform=ax1.transAxes)\n",
    "                v -= .07\n",
    "\n",
    "            comp_centroid = fcomputed[b_comp]\n",
    "            for value in comp_centroid:\n",
    "                ax1.text(.02, v, f\" Pred: {value:.2f} mm\",\n",
    "                         transform=ax1.transAxes)\n",
    "                v -= .07\n",
    "\n",
    "            plt.show()"
   ]
  },
  {
   "cell_type": "code",
   "execution_count": null,
   "metadata": {},
   "outputs": [],
   "source": []
  }
 ],
 "metadata": {
  "kernelspec": {
   "display_name": "Python 3",
   "language": "python",
   "name": "python3"
  },
  "language_info": {
   "codemirror_mode": {
    "name": "ipython",
    "version": 3
   },
   "file_extension": ".py",
   "mimetype": "text/x-python",
   "name": "python",
   "nbconvert_exporter": "python",
   "pygments_lexer": "ipython3",
   "version": "3.6.4"
  }
 },
 "nbformat": 4,
 "nbformat_minor": 2
}
