{
 "cells": [
  {
   "cell_type": "code",
   "execution_count": null,
   "metadata": {},
   "outputs": [],
   "source": [
    "!nvidia-smi"
   ]
  },
  {
   "cell_type": "markdown",
   "metadata": {},
   "source": [
    "First, we grab matplotlib, and set the old \"classic\" style for some reason only Rui knows."
   ]
  },
  {
   "cell_type": "code",
   "execution_count": null,
   "metadata": {
    "collapsed": true
   },
   "outputs": [],
   "source": [
    "import matplotlib.pyplot as plt\n",
    "import matplotlib as mpl\n",
    "mpl.style.use('classic')"
   ]
  },
  {
   "cell_type": "code",
   "execution_count": null,
   "metadata": {
    "collapsed": true
   },
   "outputs": [],
   "source": [
    "import numpy as np\n",
    "import torch"
   ]
  },
  {
   "cell_type": "markdown",
   "metadata": {},
   "source": [
    "These are the local imports. Make sure you import the correct model!"
   ]
  },
  {
   "cell_type": "code",
   "execution_count": null,
   "metadata": {},
   "outputs": [],
   "source": [
    "from model.models import SimpleCNN2Layer as Model\n",
    "from model.collectdata import collect_data\n",
    "from model.training import select_gpu\n",
    "from model.plots import plot_ruiplot\n",
    "from model.efficiency import pv_locations, efficiency"
   ]
  },
  {
   "cell_type": "markdown",
   "metadata": {},
   "source": [
    "Select a GPU here. Same numbering as the NVidia-SMI tool."
   ]
  },
  {
   "cell_type": "code",
   "execution_count": null,
   "metadata": {},
   "outputs": [],
   "source": [
    "device = select_gpu(0)"
   ]
  },
  {
   "cell_type": "markdown",
   "metadata": {},
   "source": [
    "Pick a file to load."
   ]
  },
  {
   "cell_type": "code",
   "execution_count": null,
   "metadata": {},
   "outputs": [],
   "source": [
    "validation = collect_data('data/Oct03_20K_val.h5',\n",
    "                          batch_size=1,\n",
    "                          slice=slice(100),\n",
    "                          masking=True,\n",
    "                          device=device)"
   ]
  },
  {
   "cell_type": "markdown",
   "metadata": {},
   "source": [
    "> Note: to get the real PV locations, use `collect_truth('file.h5', pvs=True)` to collect PVs (or SVs with `pvs=False`)"
   ]
  },
  {
   "cell_type": "markdown",
   "metadata": {},
   "source": [
    "Let's just see how many NaNs we have in the dataset."
   ]
  },
  {
   "cell_type": "code",
   "execution_count": null,
   "metadata": {},
   "outputs": [],
   "source": [
    "print(*np.sum(np.isnan(validation.dataset.tensors[1].cpu().numpy()), 1))"
   ]
  },
  {
   "cell_type": "markdown",
   "metadata": {},
   "source": [
    "Select a model to load. Make sure it matches the model you imported above."
   ]
  },
  {
   "cell_type": "code",
   "execution_count": null,
   "metadata": {},
   "outputs": [],
   "source": [
    "name = '../notebooks/Sep_18_mask_120000_2layer/Sep_18_mask_120000_2layer_5.pyt'\n",
    "model = Model().to(device)\n",
    "model.load_state_dict(torch.load(name))\n",
    "model.eval()"
   ]
  },
  {
   "cell_type": "markdown",
   "metadata": {},
   "source": [
    "Let's grab the outputs and labels as normal numpy arrays."
   ]
  },
  {
   "cell_type": "code",
   "execution_count": null,
   "metadata": {},
   "outputs": [],
   "source": [
    "%%time\n",
    "with torch.no_grad():\n",
    "    outputs = model(validation.dataset.tensors[0]).cpu().numpy()\n",
    "    labels = validation.dataset.tensors[1].cpu().numpy()"
   ]
  },
  {
   "cell_type": "markdown",
   "metadata": {},
   "source": [
    "And here's Rui's plotting code."
   ]
  },
  {
   "cell_type": "code",
   "execution_count": null,
   "metadata": {},
   "outputs": [],
   "source": [
    "inputs = validation.dataset.tensors[0].cpu().numpy().squeeze()\n",
    "zvals = np.linspace(-100, 300, 4000, endpoint=False) + 0.05\n",
    "finalmsg = ''\n",
    "internal_count = 0\n",
    "\n",
    "for n in range(10):\n",
    "    input = inputs[n]\n",
    "    label = labels[n]\n",
    "    output = outputs[n]\n",
    "    \n",
    "    parameters = {\n",
    "        \"threshold\": 1e-2,\n",
    "        \"integral_threshold\": .2,\n",
    "        \"min_width\": 3\n",
    "    }\n",
    "    \n",
    "    ftruth = pv_locations(label, **parameters)\n",
    "    fcomputed = pv_locations(output, **parameters)\n",
    "    results = efficiency(label, output, difference=5.0, **parameters)\n",
    "    \n",
    "    finalmsg += str(results) + '\\n'\n",
    "    \n",
    "    truth = np.around(ftruth).astype(np.int32)\n",
    "    computed = np.around(fcomputed).astype(np.int32)\n",
    "    \n",
    "    # Join arrays and remove any points closer than 5 bins\n",
    "    poi = np.sort(np.concatenate([truth, computed]))\n",
    "    poi = poi[np.concatenate([[True], np.fabs(np.diff(poi)) > 5])]\n",
    "    \n",
    "    for i in poi:\n",
    "        b_truth = np.fabs(ftruth - i) <= 5\n",
    "        b_comp = np.fabs(fcomputed - i) <= 5\n",
    "        in_truth = np.any(b_truth)\n",
    "        in_comp = np.any(b_comp)\n",
    "        \n",
    "        if in_truth and in_comp:\n",
    "            msg = 'PV found'\n",
    "        elif in_truth:\n",
    "            msg = 'PV not found'\n",
    "        else:\n",
    "            msg = 'False positive'\n",
    "            \n",
    "        with plt.style.context({\n",
    "            'font.size':18,\n",
    "            'font.weight':'bold'}):\n",
    "        \n",
    "            ax1, ax2 = plot_ruiplot(zvals, i, input, label, output)\n",
    "            ax1.set_title(f\"Event {n}: {msg}\", fontdict={'size':18, 'weight':'bold'})\n",
    "\n",
    "            v = .8\n",
    "\n",
    "            truth_centroid = (ftruth[b_truth] / 10) - 100\n",
    "            for value in truth_centroid:\n",
    "                ax1.text(.02, v, f\"True: {value:.3f} mm\",\n",
    "                         transform=ax1.transAxes)\n",
    "                v -= .07\n",
    "\n",
    "            comp_centroid = (fcomputed[b_comp] / 10) - 100\n",
    "            for value in comp_centroid:\n",
    "                ax1.text(.02, v, f\"Pred: {value:.3f} mm\",\n",
    "                         transform=ax1.transAxes)\n",
    "                v -= .07\n",
    "                \n",
    "            if len(truth_centroid) == 1 and len(comp_centroid) == 1:\n",
    "                diff = np.fabs(truth_centroid[0] - comp_centroid[0]) * 1_000\n",
    "                ax1.text(.02, v, f\"∆: {diff:.0f} µm\",\n",
    "                         transform=ax1.transAxes)\n",
    "                v -= .07\n",
    "\n",
    "            plt.savefig(f'120000_3layer_{internal_count:02}.pdf')\n",
    "            plt.show()\n",
    "            internal_count += 1\n",
    "            \n",
    "print(finalmsg)"
   ]
  },
  {
   "cell_type": "code",
   "execution_count": null,
   "metadata": {
    "collapsed": true
   },
   "outputs": [],
   "source": [
    "exit()"
   ]
  }
 ],
 "metadata": {
  "kernelspec": {
   "display_name": "Python 3",
   "language": "python",
   "name": "python3"
  },
  "language_info": {
   "codemirror_mode": {
    "name": "ipython",
    "version": 3
   },
   "file_extension": ".py",
   "mimetype": "text/x-python",
   "name": "python",
   "nbconvert_exporter": "python",
   "pygments_lexer": "ipython3",
   "version": "3.6.4"
  }
 },
 "nbformat": 4,
 "nbformat_minor": 2
}
