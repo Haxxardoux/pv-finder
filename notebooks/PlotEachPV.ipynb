{
 "cells": [
  {
   "cell_type": "code",
   "execution_count": null,
   "metadata": {},
   "outputs": [],
   "source": [
    "# Import from local package\n",
    "import sys\n",
    "sys.path.append('../model')\n",
    "\n",
    "import numpy as np\n",
    "import torch"
   ]
  },
  {
   "cell_type": "code",
   "execution_count": null,
   "metadata": {},
   "outputs": [],
   "source": [
    "### import numpy as np\n",
    "import matplotlib.pyplot as plt\n",
    "import matplotlib as mpl\n",
    "mpl.style.use('classic')"
   ]
  },
  {
   "cell_type": "code",
   "execution_count": null,
   "metadata": {},
   "outputs": [],
   "source": [
    "from models import SimpleCNN3Layer as Model\n",
    "from collectdata import DataCollector\n",
    "from training import select_gpu\n",
    "from plots import plot_ruiplot\n",
    "from efficiency import pv_locations, efficiency"
   ]
  },
  {
   "cell_type": "code",
   "execution_count": null,
   "metadata": {},
   "outputs": [],
   "source": [
    "device = select_gpu(0)"
   ]
  },
  {
   "cell_type": "code",
   "execution_count": null,
   "metadata": {},
   "outputs": [],
   "source": [
    "collector = DataCollector(\n",
    "    \"/data/schreihf/PvFinder/Aug_15_140000.npz\",\n",
    "    120_000, 10_000)\n",
    "validation = collector.get_validation(1, 100, device=device)"
   ]
  },
  {
   "cell_type": "code",
   "execution_count": null,
   "metadata": {},
   "outputs": [],
   "source": [
    "name = '../model/output3/20180815_120000_3layer_30.pyt'\n",
    "model = Model().to(device)\n",
    "model.load_state_dict(torch.load(name))\n",
    "model.eval()"
   ]
  },
  {
   "cell_type": "code",
   "execution_count": null,
   "metadata": {},
   "outputs": [],
   "source": [
    "%%time\n",
    "with torch.no_grad():\n",
    "    outputs = model(validation.dataset.tensors[0]).cpu().numpy()\n",
    "    labels = validation.dataset.tensors[1].cpu().numpy()"
   ]
  },
  {
   "cell_type": "code",
   "execution_count": null,
   "metadata": {},
   "outputs": [],
   "source": [
    "inputs = validation.dataset.tensors[0].cpu().numpy().squeeze()\n",
    "zvals = np.linspace(-100, 300, 4000, endpoint=False) + 0.05\n",
    "\n",
    "for n in range(5):\n",
    "    input = inputs[n]\n",
    "    label = labels[n]\n",
    "    output = outputs[n]\n",
    "    \n",
    "    parameters = {\n",
    "        \"threshold\": 1e-2,\n",
    "        \"integral_threshold\": .2,\n",
    "        \"min_width\": 3\n",
    "    }\n",
    "    \n",
    "    truth = pv_locations(label, **parameters)\n",
    "    computed = pv_locations(output, **parameters)\n",
    "    results = efficiency(label, output, difference=5.0, **parameters)\n",
    "    \n",
    "    print(results)\n",
    "    \n",
    "    truth = np.around(truth).astype(np.int32)\n",
    "    computed = np.around(computed).astype(np.int32)\n",
    "    \n",
    "    # Join arrays and remove any points closer than 5 bins\n",
    "    poi = np.sort(np.concatenate([truth, computed]))\n",
    "    poi = poi[np.concatenate([[True], np.diff(poi) > 5])]\n",
    "    \n",
    "    for i in poi:\n",
    "        ax1, ax2 = plot_ruiplot(zvals, i, input, label, output)\n",
    "        ax1.set_title(f\"Event {n}\", fontdict={'size':20, 'weight':'bold'})\n",
    "        plt.show()"
   ]
  },
  {
   "cell_type": "code",
   "execution_count": null,
   "metadata": {},
   "outputs": [],
   "source": []
  }
 ],
 "metadata": {
  "kernelspec": {
   "display_name": "Python 3",
   "language": "python",
   "name": "python3"
  },
  "language_info": {
   "codemirror_mode": {
    "name": "ipython",
    "version": 3
   },
   "file_extension": ".py",
   "mimetype": "text/x-python",
   "name": "python",
   "nbconvert_exporter": "python",
   "pygments_lexer": "ipython3",
   "version": "3.6.4"
  }
 },
 "nbformat": 4,
 "nbformat_minor": 2
}
