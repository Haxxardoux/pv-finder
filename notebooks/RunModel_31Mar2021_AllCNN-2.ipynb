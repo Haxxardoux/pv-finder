{
 "cells": [
  {
   "cell_type": "code",
   "execution_count": 1,
   "metadata": {},
   "outputs": [],
   "source": [
    "##%matplotlib widget\n",
    "## with %matplotlib notebook: seems to require ipympl as part of environment, either\n",
    "## part of the conda environment or \"pip install ipympl\"\n",
    "## otherwise, does not show ANY plots in notebook, plt.savefig() works\n",
    "%matplotlib notebook  \n",
    "##%matplotlib inline    ## --plt.savefig()  works, but re-sizing does NOT"
   ]
  },
  {
   "cell_type": "markdown",
   "metadata": {},
   "source": [
    "This notebook is a short demo to illustrate execution.   For odd historical reasons, it uses \"toy Monte Carlo\" (simulated data)for \"training\" and \"full LHCB MC\" for validation.\n",
    "\n",
    "The network architecture is a \"simple\" model that uses 1 input channel (the KDE [kernel density estimator] but from the track parameters) feeding 5 convolutional layers followed by a fully connected layer.\n",
    "\n",
    "In today's version, the network will start with weights from a previously trained version.\n",
    " "
   ]
  },
  {
   "cell_type": "markdown",
   "metadata": {},
   "source": [
    "Check the current GPU usage. Please try to be nice!"
   ]
  },
  {
   "cell_type": "code",
   "execution_count": 2,
   "metadata": {
    "scrolled": true
   },
   "outputs": [
    {
     "name": "stdout",
     "output_type": "stream",
     "text": [
      "Sun Apr  4 09:24:35 2021       \n",
      "+-----------------------------------------------------------------------------+\n",
      "| NVIDIA-SMI 440.64.00    Driver Version: 440.64.00    CUDA Version: 10.2     |\n",
      "|-------------------------------+----------------------+----------------------+\n",
      "| GPU  Name        Persistence-M| Bus-Id        Disp.A | Volatile Uncorr. ECC |\n",
      "| Fan  Temp  Perf  Pwr:Usage/Cap|         Memory-Usage | GPU-Util  Compute M. |\n",
      "|===============================+======================+======================|\n",
      "|   0  TITAN V             Off  | 00000000:03:00.0 Off |                  N/A |\n",
      "| 28%   31C    P8    23W / 250W |   9749MiB / 12066MiB |      0%      Default |\n",
      "+-------------------------------+----------------------+----------------------+\n",
      "|   1  Tesla P100-PCIE...  Off  | 00000000:83:00.0 Off |                    0 |\n",
      "| N/A   32C    P0    29W / 250W |      0MiB / 16280MiB |      0%      Default |\n",
      "+-------------------------------+----------------------+----------------------+\n",
      "|   2  TITAN V             Off  | 00000000:84:00.0 Off |                  N/A |\n",
      "| 28%   34C    P8    25W / 250W |   9749MiB / 12066MiB |      0%      Default |\n",
      "+-------------------------------+----------------------+----------------------+\n",
      "                                                                               \n",
      "+-----------------------------------------------------------------------------+\n",
      "| Processes:                                                       GPU Memory |\n",
      "|  GPU       PID   Type   Process name                             Usage      |\n",
      "|=============================================================================|\n",
      "|    0     13836      C   ...a/conda/envs/goofit-june2020/bin/python  9737MiB |\n",
      "|    2     18379      C   ...a/conda/envs/goofit-june2020/bin/python  9737MiB |\n",
      "+-----------------------------------------------------------------------------+\n"
     ]
    }
   ],
   "source": [
    "!nvidia-smi"
   ]
  },
  {
   "cell_type": "markdown",
   "metadata": {},
   "source": [
    "> **WARNING**: The card numbers here are *not* the same as in CUDA. You have been warned."
   ]
  },
  {
   "cell_type": "markdown",
   "metadata": {},
   "source": [
    "## Imports"
   ]
  },
  {
   "cell_type": "code",
   "execution_count": 3,
   "metadata": {
    "scrolled": false
   },
   "outputs": [
    {
     "name": "stderr",
     "output_type": "stream",
     "text": [
      "/data/conda/envs/goofit-june2020/lib/python3.7/site-packages/awkward/__init__.py:23: DeprecationWarning: Consider switching from 'awkward' to 'awkward1', since the new interface will become the default later this year (2020).\n",
      "\n",
      "    pip install -U awkward1\n",
      "\n",
      "In Python:\n",
      "\n",
      "    >>> import awkward1 as ak\n",
      "    >>> new_style_array = ak.from_awkward0(old_style_array)\n",
      "    >>> old_style_array = ak.to_awkward0(new_style_array)\n",
      "\n",
      "  DeprecationWarning\n"
     ]
    }
   ],
   "source": [
    "import matplotlib.pyplot as plt\n",
    "import numpy as np\n",
    "import time\n",
    "import torch\n",
    "import pandas as pd\n",
    "import mlflow\n",
    "\n",
    "# Python 3 standard library\n",
    "from pathlib import Path\n",
    "\n",
    "from torchsummary import summary\n",
    "\n",
    "'''\n",
    "HELPER FUNCTIONS\n",
    "'''\n",
    "# From model/collectdata.py\n",
    "from model.collectdata_mdsA import collect_data\n",
    "# For poca KDE\n",
    "from model.collectdata_poca_KDE import collect_data_poca\n",
    "\n",
    "# From model/loss.py\n",
    "##from loss import Loss\n",
    "from model.alt_loss_A import Loss\n",
    "\n",
    "# From model/training.py\n",
    "from model.training import trainNet, select_gpu, Results\n",
    "\n",
    "# From model/models.py\n",
    "##  will start with model from TwoFeatures_CNN6Layer_A in the first instance\n",
    "##  see relevant cell below\n",
    "\n",
    "from model.models_mjp_30Mar21 import ACN_2i4_10L_4S_BN_NI as ModelA\n",
    "\n",
    "# From model/utilities.py\n",
    "from model.utilities import load_full_state, count_parameters, Params\n",
    "\n",
    "from model.plots import dual_train_plots, replace_in_ax\n",
    "\n",
    "## adds image of model architecture\n",
    "import hiddenlayer as HL"
   ]
  },
  {
   "cell_type": "markdown",
   "metadata": {},
   "source": [
    "Set up Torch device configuration. All tensors and model parameters need to know where to be put.\n",
    "This takes a BUS ID number: The BUS ID is the same as the listing at the top of this script."
   ]
  },
  {
   "cell_type": "code",
   "execution_count": 4,
   "metadata": {},
   "outputs": [
    {
     "name": "stdout",
     "output_type": "stream",
     "text": [
      "1 available GPUs (initially using device 0):\n",
      "  0 TITAN V\n"
     ]
    },
    {
     "name": "stderr",
     "output_type": "stream",
     "text": [
      "/data/conda/envs/goofit-june2020/lib/python3.7/site-packages/ipykernel/ipkernel.py:287: DeprecationWarning: `should_run_async` will not call `transform_cell` automatically in the future. Please pass the result to `transformed_cell` argument and any exception that happen during thetransform in `preprocessing_exc_tuple` in IPython 7.17 and above.\n",
      "  and should_run_async(code)\n"
     ]
    }
   ],
   "source": [
    "device = select_gpu(2)"
   ]
  },
  {
   "cell_type": "markdown",
   "metadata": {},
   "source": [
    "### Set up local parameters"
   ]
  },
  {
   "cell_type": "code",
   "execution_count": 5,
   "metadata": {},
   "outputs": [],
   "source": [
    "# params order - batch size, epochs, lr, epoch_start (which is usually set to 0)\n",
    "args = Params(128, 500, 1e-5, 200)"
   ]
  },
  {
   "cell_type": "markdown",
   "metadata": {},
   "source": [
    "## Loading data\n",
    "\n",
    "Load the dataset, split into parts, then move to device (see `collectdata.py` in the `../model` directory)"
   ]
  },
  {
   "cell_type": "code",
   "execution_count": 6,
   "metadata": {
    "scrolled": true
   },
   "outputs": [
    {
     "name": "stdout",
     "output_type": "stream",
     "text": [
      "Loading data...\n",
      "Loaded /share/lazy/sokoloff/ML-data_A/Aug14_80K_train.h5 in 15.42 s\n",
      "Loaded /share/lazy/sokoloff/ML-data_AA/Oct03_80K_train.h5 in 12.71 s\n",
      "Loaded /share/lazy/will/ML_mdsA/June30_2020_80k_1.h5 in 12.2 s\n",
      "Constructing 240000 event dataset took 5.6 s\n",
      "Loading data...\n",
      "Loaded /share/lazy/sokoloff/ML-data_AA/Oct03_20K_val.h5 in 3.278 s\n",
      "Constructing 9984 event dataset took 0.1101 s\n"
     ]
    },
    {
     "data": {
      "text/plain": [
       "\"\\n## This is used when training with the new KDE\\ntrain_loader = collect_data_poca('/share/lazy/will/data/June30_2020_80k_1.h5',\\n                            '/share/lazy/will/data/June30_2020_80k_3.h5',\\n                            batch_size=args.batch_size,\\n                            device=device,\\n                            masking=True, shuffle=True,\\n                           ## slice = slice(0,18000)\\n                           )\\n\\nval_loader = collect_data_poca('/share/lazy/sokoloff/ML-data_AA/20K_POCA_kernel_evts_200926.h5',\\n                            batch_size=args.batch_size,\\n                            device=device,\\n                            masking=True, shuffle=True,\\n                            ##slice = slice(18000,None)\\n                           )\\n\""
      ]
     },
     "execution_count": 6,
     "metadata": {},
     "output_type": "execute_result"
    }
   ],
   "source": [
    "## newer vernacular\n",
    "## Training dataset. You can put as many files here as desired.\n",
    "##  set the option load_XandXsq = True to use both DKE and KDE^2 as input features\n",
    "\n",
    "## This is used when training with the original KDE\n",
    "train_loader = collect_data('/share/lazy/sokoloff/ML-data_A/Aug14_80K_train.h5',\n",
    "                             '/share/lazy/sokoloff/ML-data_AA/Oct03_80K_train.h5',\n",
    "#                             '/share/lazy/sokoloff/ML-data_AA/Oct03_40K_train.h5',\n",
    "                             '/share/lazy/will/ML_mdsA/June30_2020_80k_1.h5',\n",
    "#                             '/share/lazy/will/ML_mdsA/June30_2020_80k_3.h5',\n",
    "#                             '/share/lazy/will/ML_mdsA/June30_2020_80k_4.h5',\n",
    "#                             '/share/lazy/will/ML_mdsA/June30_2020_80k_5.h5',\n",
    "#                             '/share/lazy/will/ML_mdsA/June30_2020_80k_6.h5',\n",
    "#                             '/share/lazy/will/ML_mdsA/June30_2020_80k_7.h5',\n",
    "#                             '/share/lazy/will/ML_mdsA/June30_2020_80k_8.h5',\n",
    "#                             '/share/lazy/will/ML_mdsA/June30_2020_80k_9.h5',\n",
    "                            #'/share/lazy/sokoloff/ML-data_AA/Oct03_80K2_train.h5',\n",
    "                             batch_size=args.batch_size,\n",
    "## if we are using a larger dataset (240K events, with the datasets above, and 11 GB  of GPU memory),\n",
    "## not the dataset will overflow the GPU memory; device=device will allow the data to move back\n",
    "## and forth between the CPU and GPU memory. While this allows use of a larger dataset, it slows\n",
    "## down performance by about 10%.  So comment out when not needed.\n",
    "                            device=device,\n",
    "                            masking=True, shuffle=True,\n",
    "                            load_XandXsq=False,\n",
    "                            load_xy=False)\n",
    "\n",
    "# Validation dataset. You can slice to reduce the size.\n",
    "## dataAA -> /share/lazy/sokoloff/ML-data_AA/\n",
    "val_loader = collect_data('/share/lazy/sokoloff/ML-data_AA/Oct03_20K_val.h5',\n",
    "## mds val_loader = collect_data('dataAA/HLT1CPU_1kevts_val.h5',\n",
    "\n",
    "                          batch_size=args.batch_size,\n",
    "                          slice=slice(256 * 39),\n",
    "                          device=device,\n",
    "                          masking=True, shuffle=False,\n",
    "                          load_XandXsq=False,\n",
    "                          load_xy=False)\n",
    "\n",
    "'''\n",
    "## This is used when training with the new KDE\n",
    "train_loader = collect_data_poca('/share/lazy/will/data/June30_2020_80k_1.h5',\n",
    "                            '/share/lazy/will/data/June30_2020_80k_3.h5',\n",
    "                            batch_size=args.batch_size,\n",
    "                            device=device,\n",
    "                            masking=True, shuffle=True,\n",
    "                           ## slice = slice(0,18000)\n",
    "                           )\n",
    "\n",
    "val_loader = collect_data_poca('/share/lazy/sokoloff/ML-data_AA/20K_POCA_kernel_evts_200926.h5',\n",
    "                            batch_size=args.batch_size,\n",
    "                            device=device,\n",
    "                            masking=True, shuffle=True,\n",
    "                            ##slice = slice(18000,None)\n",
    "                           )\n",
    "'''"
   ]
  },
  {
   "cell_type": "markdown",
   "metadata": {},
   "source": [
    "# Preparing the model"
   ]
  },
  {
   "cell_type": "markdown",
   "metadata": {},
   "source": [
    "Prepare a model, use multiple GPUs if they are VISIBLE, and move the model to the device."
   ]
  },
  {
   "cell_type": "code",
   "execution_count": 7,
   "metadata": {
    "scrolled": true
   },
   "outputs": [
    {
     "name": "stderr",
     "output_type": "stream",
     "text": [
      "WARNING:root:Malformed experiment 'ML'. Detailed error Yaml file '/share/lazy/pv-finder_model_repo/ML/meta.yaml' does not exist.\n",
      "Traceback (most recent call last):\n",
      "  File \"/home/michael24peters/.local/lib/python3.7/site-packages/mlflow/store/tracking/file_store.py\", line 197, in list_experiments\n",
      "    experiment = self._get_experiment(exp_id, view_type)\n",
      "  File \"/home/michael24peters/.local/lib/python3.7/site-packages/mlflow/store/tracking/file_store.py\", line 260, in _get_experiment\n",
      "    meta = read_yaml(experiment_dir, FileStore.META_DATA_FILE_NAME)\n",
      "  File \"/home/michael24peters/.local/lib/python3.7/site-packages/mlflow/utils/file_utils.py\", line 167, in read_yaml\n",
      "    raise MissingConfigException(\"Yaml file '%s' does not exist.\" % file_path)\n",
      "mlflow.exceptions.MissingConfigException: Yaml file '/share/lazy/pv-finder_model_repo/ML/meta.yaml' does not exist.\n"
     ]
    }
   ],
   "source": [
    "# Set model to use (defined above)\n",
    "model = ModelA()\n",
    "\n",
    "# Prints out layout of each model (keep commented out)\n",
    "##summary(model, input_size=(4, 4000))\n",
    "##print(model.parameters)\n",
    "\n",
    "# Sets save directory for mlflow\n",
    "mlflow.tracking.set_tracking_uri('file:/share/lazy/pv-finder_model_repo')\n",
    "mlflow.set_experiment('Four Feature AllCNN')"
   ]
  },
  {
   "cell_type": "code",
   "execution_count": 8,
   "metadata": {
    "scrolled": true
   },
   "outputs": [
    {
     "name": "stdout",
     "output_type": "stream",
     "text": [
      "Let's use 1 GPUs!\n"
     ]
    }
   ],
   "source": [
    "print(\"Let's use\", torch.cuda.device_count(), \"GPUs!\")\n",
    "if torch.cuda.device_count() > 1:\n",
    "    model = torch.nn.DataParallel(model)"
   ]
  },
  {
   "cell_type": "markdown",
   "metadata": {},
   "source": [
    "Let's move the model's weight matricies to the GPU:"
   ]
  },
  {
   "cell_type": "code",
   "execution_count": 9,
   "metadata": {},
   "outputs": [
    {
     "name": "stdout",
     "output_type": "stream",
     "text": [
      "we also froze 0 weights\n",
      "Of the 35.0 parameter layers to update in the current model, 35.0 were loaded\n"
     ]
    }
   ],
   "source": [
    "loss = Loss(epsilon=1e-5,coefficient=2.5)\n",
    "optimizer = torch.optim.Adam(model.parameters(), lr=args.lr)\n",
    "\n",
    "##  use the first five layers from a pre-existing model\n",
    "##  see example at https://discuss.pytorch.org/t/how-to-load-part-of-pre-trained-model/1113\n",
    "##   ML -> /share/lazy/sokoloff/ML\n",
    "\n",
    "# When loading pretrained models, use this code; otherwise, comment it out\n",
    "# For other pretrained models, go to MLFlow and find the path for \"run_stats.pyt\"\n",
    "pretrained_dict = '/share/lazy/pv-finder_model_repo/12/50303770a9e448d99e552d2f1b9f8615/artifacts/run_stats.pyt'\n",
    "load_full_state(model, optimizer, pretrained_dict)"
   ]
  },
  {
   "cell_type": "markdown",
   "metadata": {},
   "source": [
    "Let's move the model's weight matricies to the GPU:"
   ]
  },
  {
   "cell_type": "code",
   "execution_count": 10,
   "metadata": {
    "scrolled": true
   },
   "outputs": [
    {
     "data": {
      "text/plain": [
       "ACN_2i4_10L_4S_BN_NI(\n",
       "  (conv1): Conv(\n",
       "    (0): Conv1d(1, 20, kernel_size=(25,), stride=(1,), padding=(12,))\n",
       "    (1): BatchNorm1d(20, eps=1e-05, momentum=0.1, affine=True, track_running_stats=True)\n",
       "    (2): Dropout(p=0.15, inplace=False)\n",
       "    (3): LeakyReLU(negative_slope=0.01)\n",
       "  )\n",
       "  (conv2): Conv(\n",
       "    (0): Conv1d(20, 10, kernel_size=(15,), stride=(1,), padding=(7,))\n",
       "    (1): BatchNorm1d(10, eps=1e-05, momentum=0.1, affine=True, track_running_stats=True)\n",
       "    (2): Dropout(p=0.15, inplace=False)\n",
       "    (3): LeakyReLU(negative_slope=0.01)\n",
       "  )\n",
       "  (conv3): Conv(\n",
       "    (0): Conv1d(30, 10, kernel_size=(15,), stride=(1,), padding=(7,))\n",
       "    (1): BatchNorm1d(10, eps=1e-05, momentum=0.1, affine=True, track_running_stats=True)\n",
       "    (2): Dropout(p=0.15, inplace=False)\n",
       "    (3): LeakyReLU(negative_slope=0.01)\n",
       "  )\n",
       "  (conv4): Conv(\n",
       "    (0): Conv1d(10, 10, kernel_size=(15,), stride=(1,), padding=(7,))\n",
       "    (1): BatchNorm1d(10, eps=1e-05, momentum=0.1, affine=True, track_running_stats=True)\n",
       "    (2): Dropout(p=0.15, inplace=False)\n",
       "    (3): LeakyReLU(negative_slope=0.01)\n",
       "  )\n",
       "  (conv5): Conv(\n",
       "    (0): Conv1d(20, 10, kernel_size=(15,), stride=(1,), padding=(7,))\n",
       "    (1): BatchNorm1d(10, eps=1e-05, momentum=0.1, affine=True, track_running_stats=True)\n",
       "    (2): Dropout(p=0.15, inplace=False)\n",
       "    (3): LeakyReLU(negative_slope=0.01)\n",
       "  )\n",
       "  (conv6): Conv(\n",
       "    (0): Conv1d(10, 10, kernel_size=(15,), stride=(1,), padding=(7,))\n",
       "    (1): BatchNorm1d(10, eps=1e-05, momentum=0.1, affine=True, track_running_stats=True)\n",
       "    (2): Dropout(p=0.15, inplace=False)\n",
       "    (3): LeakyReLU(negative_slope=0.01)\n",
       "  )\n",
       "  (conv7): Conv(\n",
       "    (0): Conv1d(20, 7, kernel_size=(15,), stride=(1,), padding=(7,))\n",
       "    (1): BatchNorm1d(7, eps=1e-05, momentum=0.1, affine=True, track_running_stats=True)\n",
       "    (2): Dropout(p=0.15, inplace=False)\n",
       "    (3): LeakyReLU(negative_slope=0.01)\n",
       "  )\n",
       "  (conv8): Conv(\n",
       "    (0): Conv1d(7, 5, kernel_size=(9,), stride=(1,), padding=(4,))\n",
       "    (1): BatchNorm1d(5, eps=1e-05, momentum=0.1, affine=True, track_running_stats=True)\n",
       "    (2): Dropout(p=0.15, inplace=False)\n",
       "    (3): LeakyReLU(negative_slope=0.01)\n",
       "  )\n",
       "  (conv9): Conv(\n",
       "    (0): Conv1d(12, 1, kernel_size=(5,), stride=(1,), padding=(2,))\n",
       "    (1): BatchNorm1d(1, eps=1e-05, momentum=0.1, affine=True, track_running_stats=True)\n",
       "    (2): Dropout(p=0.15, inplace=False)\n",
       "    (3): LeakyReLU(negative_slope=0.01)\n",
       "  )\n",
       "  (conv10): Conv(\n",
       "    (0): Conv1d(1, 1, kernel_size=(91,), stride=(1,), padding=(45,))\n",
       "    (1): BatchNorm1d(1, eps=1e-05, momentum=0.1, affine=True, track_running_stats=True)\n",
       "    (2): Dropout(p=0.15, inplace=False)\n",
       "    (3): LeakyReLU(negative_slope=0.01)\n",
       "  )\n",
       ")"
      ]
     },
     "execution_count": 10,
     "metadata": {},
     "output_type": "execute_result"
    }
   ],
   "source": [
    "model.to(device)"
   ]
  },
  {
   "cell_type": "markdown",
   "metadata": {},
   "source": [
    "## Train \n",
    "\n",
    "\n",
    "\n",
    "The body of this loop runs once per epoch. Results is a named tuple of values (loss per epoch for training and validation, time each). Start by setting up a plot first:"
   ]
  },
  {
   "cell_type": "code",
   "execution_count": 11,
   "metadata": {},
   "outputs": [
    {
     "data": {
      "application/javascript": [
       "/* Put everything inside the global mpl namespace */\n",
       "window.mpl = {};\n",
       "\n",
       "\n",
       "mpl.get_websocket_type = function() {\n",
       "    if (typeof(WebSocket) !== 'undefined') {\n",
       "        return WebSocket;\n",
       "    } else if (typeof(MozWebSocket) !== 'undefined') {\n",
       "        return MozWebSocket;\n",
       "    } else {\n",
       "        alert('Your browser does not have WebSocket support. ' +\n",
       "              'Please try Chrome, Safari or Firefox ≥ 6. ' +\n",
       "              'Firefox 4 and 5 are also supported but you ' +\n",
       "              'have to enable WebSockets in about:config.');\n",
       "    };\n",
       "}\n",
       "\n",
       "mpl.figure = function(figure_id, websocket, ondownload, parent_element) {\n",
       "    this.id = figure_id;\n",
       "\n",
       "    this.ws = websocket;\n",
       "\n",
       "    this.supports_binary = (this.ws.binaryType != undefined);\n",
       "\n",
       "    if (!this.supports_binary) {\n",
       "        var warnings = document.getElementById(\"mpl-warnings\");\n",
       "        if (warnings) {\n",
       "            warnings.style.display = 'block';\n",
       "            warnings.textContent = (\n",
       "                \"This browser does not support binary websocket messages. \" +\n",
       "                    \"Performance may be slow.\");\n",
       "        }\n",
       "    }\n",
       "\n",
       "    this.imageObj = new Image();\n",
       "\n",
       "    this.context = undefined;\n",
       "    this.message = undefined;\n",
       "    this.canvas = undefined;\n",
       "    this.rubberband_canvas = undefined;\n",
       "    this.rubberband_context = undefined;\n",
       "    this.format_dropdown = undefined;\n",
       "\n",
       "    this.image_mode = 'full';\n",
       "\n",
       "    this.root = $('<div/>');\n",
       "    this._root_extra_style(this.root)\n",
       "    this.root.attr('style', 'display: inline-block');\n",
       "\n",
       "    $(parent_element).append(this.root);\n",
       "\n",
       "    this._init_header(this);\n",
       "    this._init_canvas(this);\n",
       "    this._init_toolbar(this);\n",
       "\n",
       "    var fig = this;\n",
       "\n",
       "    this.waiting = false;\n",
       "\n",
       "    this.ws.onopen =  function () {\n",
       "            fig.send_message(\"supports_binary\", {value: fig.supports_binary});\n",
       "            fig.send_message(\"send_image_mode\", {});\n",
       "            if (mpl.ratio != 1) {\n",
       "                fig.send_message(\"set_dpi_ratio\", {'dpi_ratio': mpl.ratio});\n",
       "            }\n",
       "            fig.send_message(\"refresh\", {});\n",
       "        }\n",
       "\n",
       "    this.imageObj.onload = function() {\n",
       "            if (fig.image_mode == 'full') {\n",
       "                // Full images could contain transparency (where diff images\n",
       "                // almost always do), so we need to clear the canvas so that\n",
       "                // there is no ghosting.\n",
       "                fig.context.clearRect(0, 0, fig.canvas.width, fig.canvas.height);\n",
       "            }\n",
       "            fig.context.drawImage(fig.imageObj, 0, 0);\n",
       "        };\n",
       "\n",
       "    this.imageObj.onunload = function() {\n",
       "        fig.ws.close();\n",
       "    }\n",
       "\n",
       "    this.ws.onmessage = this._make_on_message_function(this);\n",
       "\n",
       "    this.ondownload = ondownload;\n",
       "}\n",
       "\n",
       "mpl.figure.prototype._init_header = function() {\n",
       "    var titlebar = $(\n",
       "        '<div class=\"ui-dialog-titlebar ui-widget-header ui-corner-all ' +\n",
       "        'ui-helper-clearfix\"/>');\n",
       "    var titletext = $(\n",
       "        '<div class=\"ui-dialog-title\" style=\"width: 100%; ' +\n",
       "        'text-align: center; padding: 3px;\"/>');\n",
       "    titlebar.append(titletext)\n",
       "    this.root.append(titlebar);\n",
       "    this.header = titletext[0];\n",
       "}\n",
       "\n",
       "\n",
       "\n",
       "mpl.figure.prototype._canvas_extra_style = function(canvas_div) {\n",
       "\n",
       "}\n",
       "\n",
       "\n",
       "mpl.figure.prototype._root_extra_style = function(canvas_div) {\n",
       "\n",
       "}\n",
       "\n",
       "mpl.figure.prototype._init_canvas = function() {\n",
       "    var fig = this;\n",
       "\n",
       "    var canvas_div = $('<div/>');\n",
       "\n",
       "    canvas_div.attr('style', 'position: relative; clear: both; outline: 0');\n",
       "\n",
       "    function canvas_keyboard_event(event) {\n",
       "        return fig.key_event(event, event['data']);\n",
       "    }\n",
       "\n",
       "    canvas_div.keydown('key_press', canvas_keyboard_event);\n",
       "    canvas_div.keyup('key_release', canvas_keyboard_event);\n",
       "    this.canvas_div = canvas_div\n",
       "    this._canvas_extra_style(canvas_div)\n",
       "    this.root.append(canvas_div);\n",
       "\n",
       "    var canvas = $('<canvas/>');\n",
       "    canvas.addClass('mpl-canvas');\n",
       "    canvas.attr('style', \"left: 0; top: 0; z-index: 0; outline: 0\")\n",
       "\n",
       "    this.canvas = canvas[0];\n",
       "    this.context = canvas[0].getContext(\"2d\");\n",
       "\n",
       "    var backingStore = this.context.backingStorePixelRatio ||\n",
       "\tthis.context.webkitBackingStorePixelRatio ||\n",
       "\tthis.context.mozBackingStorePixelRatio ||\n",
       "\tthis.context.msBackingStorePixelRatio ||\n",
       "\tthis.context.oBackingStorePixelRatio ||\n",
       "\tthis.context.backingStorePixelRatio || 1;\n",
       "\n",
       "    mpl.ratio = (window.devicePixelRatio || 1) / backingStore;\n",
       "\n",
       "    var rubberband = $('<canvas/>');\n",
       "    rubberband.attr('style', \"position: absolute; left: 0; top: 0; z-index: 1;\")\n",
       "\n",
       "    var pass_mouse_events = true;\n",
       "\n",
       "    canvas_div.resizable({\n",
       "        start: function(event, ui) {\n",
       "            pass_mouse_events = false;\n",
       "        },\n",
       "        resize: function(event, ui) {\n",
       "            fig.request_resize(ui.size.width, ui.size.height);\n",
       "        },\n",
       "        stop: function(event, ui) {\n",
       "            pass_mouse_events = true;\n",
       "            fig.request_resize(ui.size.width, ui.size.height);\n",
       "        },\n",
       "    });\n",
       "\n",
       "    function mouse_event_fn(event) {\n",
       "        if (pass_mouse_events)\n",
       "            return fig.mouse_event(event, event['data']);\n",
       "    }\n",
       "\n",
       "    rubberband.mousedown('button_press', mouse_event_fn);\n",
       "    rubberband.mouseup('button_release', mouse_event_fn);\n",
       "    // Throttle sequential mouse events to 1 every 20ms.\n",
       "    rubberband.mousemove('motion_notify', mouse_event_fn);\n",
       "\n",
       "    rubberband.mouseenter('figure_enter', mouse_event_fn);\n",
       "    rubberband.mouseleave('figure_leave', mouse_event_fn);\n",
       "\n",
       "    canvas_div.on(\"wheel\", function (event) {\n",
       "        event = event.originalEvent;\n",
       "        event['data'] = 'scroll'\n",
       "        if (event.deltaY < 0) {\n",
       "            event.step = 1;\n",
       "        } else {\n",
       "            event.step = -1;\n",
       "        }\n",
       "        mouse_event_fn(event);\n",
       "    });\n",
       "\n",
       "    canvas_div.append(canvas);\n",
       "    canvas_div.append(rubberband);\n",
       "\n",
       "    this.rubberband = rubberband;\n",
       "    this.rubberband_canvas = rubberband[0];\n",
       "    this.rubberband_context = rubberband[0].getContext(\"2d\");\n",
       "    this.rubberband_context.strokeStyle = \"#000000\";\n",
       "\n",
       "    this._resize_canvas = function(width, height) {\n",
       "        // Keep the size of the canvas, canvas container, and rubber band\n",
       "        // canvas in synch.\n",
       "        canvas_div.css('width', width)\n",
       "        canvas_div.css('height', height)\n",
       "\n",
       "        canvas.attr('width', width * mpl.ratio);\n",
       "        canvas.attr('height', height * mpl.ratio);\n",
       "        canvas.attr('style', 'width: ' + width + 'px; height: ' + height + 'px;');\n",
       "\n",
       "        rubberband.attr('width', width);\n",
       "        rubberband.attr('height', height);\n",
       "    }\n",
       "\n",
       "    // Set the figure to an initial 600x600px, this will subsequently be updated\n",
       "    // upon first draw.\n",
       "    this._resize_canvas(600, 600);\n",
       "\n",
       "    // Disable right mouse context menu.\n",
       "    $(this.rubberband_canvas).bind(\"contextmenu\",function(e){\n",
       "        return false;\n",
       "    });\n",
       "\n",
       "    function set_focus () {\n",
       "        canvas.focus();\n",
       "        canvas_div.focus();\n",
       "    }\n",
       "\n",
       "    window.setTimeout(set_focus, 100);\n",
       "}\n",
       "\n",
       "mpl.figure.prototype._init_toolbar = function() {\n",
       "    var fig = this;\n",
       "\n",
       "    var nav_element = $('<div/>');\n",
       "    nav_element.attr('style', 'width: 100%');\n",
       "    this.root.append(nav_element);\n",
       "\n",
       "    // Define a callback function for later on.\n",
       "    function toolbar_event(event) {\n",
       "        return fig.toolbar_button_onclick(event['data']);\n",
       "    }\n",
       "    function toolbar_mouse_event(event) {\n",
       "        return fig.toolbar_button_onmouseover(event['data']);\n",
       "    }\n",
       "\n",
       "    for(var toolbar_ind in mpl.toolbar_items) {\n",
       "        var name = mpl.toolbar_items[toolbar_ind][0];\n",
       "        var tooltip = mpl.toolbar_items[toolbar_ind][1];\n",
       "        var image = mpl.toolbar_items[toolbar_ind][2];\n",
       "        var method_name = mpl.toolbar_items[toolbar_ind][3];\n",
       "\n",
       "        if (!name) {\n",
       "            // put a spacer in here.\n",
       "            continue;\n",
       "        }\n",
       "        var button = $('<button/>');\n",
       "        button.addClass('ui-button ui-widget ui-state-default ui-corner-all ' +\n",
       "                        'ui-button-icon-only');\n",
       "        button.attr('role', 'button');\n",
       "        button.attr('aria-disabled', 'false');\n",
       "        button.click(method_name, toolbar_event);\n",
       "        button.mouseover(tooltip, toolbar_mouse_event);\n",
       "\n",
       "        var icon_img = $('<span/>');\n",
       "        icon_img.addClass('ui-button-icon-primary ui-icon');\n",
       "        icon_img.addClass(image);\n",
       "        icon_img.addClass('ui-corner-all');\n",
       "\n",
       "        var tooltip_span = $('<span/>');\n",
       "        tooltip_span.addClass('ui-button-text');\n",
       "        tooltip_span.html(tooltip);\n",
       "\n",
       "        button.append(icon_img);\n",
       "        button.append(tooltip_span);\n",
       "\n",
       "        nav_element.append(button);\n",
       "    }\n",
       "\n",
       "    var fmt_picker_span = $('<span/>');\n",
       "\n",
       "    var fmt_picker = $('<select/>');\n",
       "    fmt_picker.addClass('mpl-toolbar-option ui-widget ui-widget-content');\n",
       "    fmt_picker_span.append(fmt_picker);\n",
       "    nav_element.append(fmt_picker_span);\n",
       "    this.format_dropdown = fmt_picker[0];\n",
       "\n",
       "    for (var ind in mpl.extensions) {\n",
       "        var fmt = mpl.extensions[ind];\n",
       "        var option = $(\n",
       "            '<option/>', {selected: fmt === mpl.default_extension}).html(fmt);\n",
       "        fmt_picker.append(option);\n",
       "    }\n",
       "\n",
       "    // Add hover states to the ui-buttons\n",
       "    $( \".ui-button\" ).hover(\n",
       "        function() { $(this).addClass(\"ui-state-hover\");},\n",
       "        function() { $(this).removeClass(\"ui-state-hover\");}\n",
       "    );\n",
       "\n",
       "    var status_bar = $('<span class=\"mpl-message\"/>');\n",
       "    nav_element.append(status_bar);\n",
       "    this.message = status_bar[0];\n",
       "}\n",
       "\n",
       "mpl.figure.prototype.request_resize = function(x_pixels, y_pixels) {\n",
       "    // Request matplotlib to resize the figure. Matplotlib will then trigger a resize in the client,\n",
       "    // which will in turn request a refresh of the image.\n",
       "    this.send_message('resize', {'width': x_pixels, 'height': y_pixels});\n",
       "}\n",
       "\n",
       "mpl.figure.prototype.send_message = function(type, properties) {\n",
       "    properties['type'] = type;\n",
       "    properties['figure_id'] = this.id;\n",
       "    this.ws.send(JSON.stringify(properties));\n",
       "}\n",
       "\n",
       "mpl.figure.prototype.send_draw_message = function() {\n",
       "    if (!this.waiting) {\n",
       "        this.waiting = true;\n",
       "        this.ws.send(JSON.stringify({type: \"draw\", figure_id: this.id}));\n",
       "    }\n",
       "}\n",
       "\n",
       "\n",
       "mpl.figure.prototype.handle_save = function(fig, msg) {\n",
       "    var format_dropdown = fig.format_dropdown;\n",
       "    var format = format_dropdown.options[format_dropdown.selectedIndex].value;\n",
       "    fig.ondownload(fig, format);\n",
       "}\n",
       "\n",
       "\n",
       "mpl.figure.prototype.handle_resize = function(fig, msg) {\n",
       "    var size = msg['size'];\n",
       "    if (size[0] != fig.canvas.width || size[1] != fig.canvas.height) {\n",
       "        fig._resize_canvas(size[0], size[1]);\n",
       "        fig.send_message(\"refresh\", {});\n",
       "    };\n",
       "}\n",
       "\n",
       "mpl.figure.prototype.handle_rubberband = function(fig, msg) {\n",
       "    var x0 = msg['x0'] / mpl.ratio;\n",
       "    var y0 = (fig.canvas.height - msg['y0']) / mpl.ratio;\n",
       "    var x1 = msg['x1'] / mpl.ratio;\n",
       "    var y1 = (fig.canvas.height - msg['y1']) / mpl.ratio;\n",
       "    x0 = Math.floor(x0) + 0.5;\n",
       "    y0 = Math.floor(y0) + 0.5;\n",
       "    x1 = Math.floor(x1) + 0.5;\n",
       "    y1 = Math.floor(y1) + 0.5;\n",
       "    var min_x = Math.min(x0, x1);\n",
       "    var min_y = Math.min(y0, y1);\n",
       "    var width = Math.abs(x1 - x0);\n",
       "    var height = Math.abs(y1 - y0);\n",
       "\n",
       "    fig.rubberband_context.clearRect(\n",
       "        0, 0, fig.canvas.width / mpl.ratio, fig.canvas.height / mpl.ratio);\n",
       "\n",
       "    fig.rubberband_context.strokeRect(min_x, min_y, width, height);\n",
       "}\n",
       "\n",
       "mpl.figure.prototype.handle_figure_label = function(fig, msg) {\n",
       "    // Updates the figure title.\n",
       "    fig.header.textContent = msg['label'];\n",
       "}\n",
       "\n",
       "mpl.figure.prototype.handle_cursor = function(fig, msg) {\n",
       "    var cursor = msg['cursor'];\n",
       "    switch(cursor)\n",
       "    {\n",
       "    case 0:\n",
       "        cursor = 'pointer';\n",
       "        break;\n",
       "    case 1:\n",
       "        cursor = 'default';\n",
       "        break;\n",
       "    case 2:\n",
       "        cursor = 'crosshair';\n",
       "        break;\n",
       "    case 3:\n",
       "        cursor = 'move';\n",
       "        break;\n",
       "    }\n",
       "    fig.rubberband_canvas.style.cursor = cursor;\n",
       "}\n",
       "\n",
       "mpl.figure.prototype.handle_message = function(fig, msg) {\n",
       "    fig.message.textContent = msg['message'];\n",
       "}\n",
       "\n",
       "mpl.figure.prototype.handle_draw = function(fig, msg) {\n",
       "    // Request the server to send over a new figure.\n",
       "    fig.send_draw_message();\n",
       "}\n",
       "\n",
       "mpl.figure.prototype.handle_image_mode = function(fig, msg) {\n",
       "    fig.image_mode = msg['mode'];\n",
       "}\n",
       "\n",
       "mpl.figure.prototype.updated_canvas_event = function() {\n",
       "    // Called whenever the canvas gets updated.\n",
       "    this.send_message(\"ack\", {});\n",
       "}\n",
       "\n",
       "// A function to construct a web socket function for onmessage handling.\n",
       "// Called in the figure constructor.\n",
       "mpl.figure.prototype._make_on_message_function = function(fig) {\n",
       "    return function socket_on_message(evt) {\n",
       "        if (evt.data instanceof Blob) {\n",
       "            /* FIXME: We get \"Resource interpreted as Image but\n",
       "             * transferred with MIME type text/plain:\" errors on\n",
       "             * Chrome.  But how to set the MIME type?  It doesn't seem\n",
       "             * to be part of the websocket stream */\n",
       "            evt.data.type = \"image/png\";\n",
       "\n",
       "            /* Free the memory for the previous frames */\n",
       "            if (fig.imageObj.src) {\n",
       "                (window.URL || window.webkitURL).revokeObjectURL(\n",
       "                    fig.imageObj.src);\n",
       "            }\n",
       "\n",
       "            fig.imageObj.src = (window.URL || window.webkitURL).createObjectURL(\n",
       "                evt.data);\n",
       "            fig.updated_canvas_event();\n",
       "            fig.waiting = false;\n",
       "            return;\n",
       "        }\n",
       "        else if (typeof evt.data === 'string' && evt.data.slice(0, 21) == \"data:image/png;base64\") {\n",
       "            fig.imageObj.src = evt.data;\n",
       "            fig.updated_canvas_event();\n",
       "            fig.waiting = false;\n",
       "            return;\n",
       "        }\n",
       "\n",
       "        var msg = JSON.parse(evt.data);\n",
       "        var msg_type = msg['type'];\n",
       "\n",
       "        // Call the  \"handle_{type}\" callback, which takes\n",
       "        // the figure and JSON message as its only arguments.\n",
       "        try {\n",
       "            var callback = fig[\"handle_\" + msg_type];\n",
       "        } catch (e) {\n",
       "            console.log(\"No handler for the '\" + msg_type + \"' message type: \", msg);\n",
       "            return;\n",
       "        }\n",
       "\n",
       "        if (callback) {\n",
       "            try {\n",
       "                // console.log(\"Handling '\" + msg_type + \"' message: \", msg);\n",
       "                callback(fig, msg);\n",
       "            } catch (e) {\n",
       "                console.log(\"Exception inside the 'handler_\" + msg_type + \"' callback:\", e, e.stack, msg);\n",
       "            }\n",
       "        }\n",
       "    };\n",
       "}\n",
       "\n",
       "// from http://stackoverflow.com/questions/1114465/getting-mouse-location-in-canvas\n",
       "mpl.findpos = function(e) {\n",
       "    //this section is from http://www.quirksmode.org/js/events_properties.html\n",
       "    var targ;\n",
       "    if (!e)\n",
       "        e = window.event;\n",
       "    if (e.target)\n",
       "        targ = e.target;\n",
       "    else if (e.srcElement)\n",
       "        targ = e.srcElement;\n",
       "    if (targ.nodeType == 3) // defeat Safari bug\n",
       "        targ = targ.parentNode;\n",
       "\n",
       "    // jQuery normalizes the pageX and pageY\n",
       "    // pageX,Y are the mouse positions relative to the document\n",
       "    // offset() returns the position of the element relative to the document\n",
       "    var x = e.pageX - $(targ).offset().left;\n",
       "    var y = e.pageY - $(targ).offset().top;\n",
       "\n",
       "    return {\"x\": x, \"y\": y};\n",
       "};\n",
       "\n",
       "/*\n",
       " * return a copy of an object with only non-object keys\n",
       " * we need this to avoid circular references\n",
       " * http://stackoverflow.com/a/24161582/3208463\n",
       " */\n",
       "function simpleKeys (original) {\n",
       "  return Object.keys(original).reduce(function (obj, key) {\n",
       "    if (typeof original[key] !== 'object')\n",
       "        obj[key] = original[key]\n",
       "    return obj;\n",
       "  }, {});\n",
       "}\n",
       "\n",
       "mpl.figure.prototype.mouse_event = function(event, name) {\n",
       "    var canvas_pos = mpl.findpos(event)\n",
       "\n",
       "    if (name === 'button_press')\n",
       "    {\n",
       "        this.canvas.focus();\n",
       "        this.canvas_div.focus();\n",
       "    }\n",
       "\n",
       "    var x = canvas_pos.x * mpl.ratio;\n",
       "    var y = canvas_pos.y * mpl.ratio;\n",
       "\n",
       "    this.send_message(name, {x: x, y: y, button: event.button,\n",
       "                             step: event.step,\n",
       "                             guiEvent: simpleKeys(event)});\n",
       "\n",
       "    /* This prevents the web browser from automatically changing to\n",
       "     * the text insertion cursor when the button is pressed.  We want\n",
       "     * to control all of the cursor setting manually through the\n",
       "     * 'cursor' event from matplotlib */\n",
       "    event.preventDefault();\n",
       "    return false;\n",
       "}\n",
       "\n",
       "mpl.figure.prototype._key_event_extra = function(event, name) {\n",
       "    // Handle any extra behaviour associated with a key event\n",
       "}\n",
       "\n",
       "mpl.figure.prototype.key_event = function(event, name) {\n",
       "\n",
       "    // Prevent repeat events\n",
       "    if (name == 'key_press')\n",
       "    {\n",
       "        if (event.which === this._key)\n",
       "            return;\n",
       "        else\n",
       "            this._key = event.which;\n",
       "    }\n",
       "    if (name == 'key_release')\n",
       "        this._key = null;\n",
       "\n",
       "    var value = '';\n",
       "    if (event.ctrlKey && event.which != 17)\n",
       "        value += \"ctrl+\";\n",
       "    if (event.altKey && event.which != 18)\n",
       "        value += \"alt+\";\n",
       "    if (event.shiftKey && event.which != 16)\n",
       "        value += \"shift+\";\n",
       "\n",
       "    value += 'k';\n",
       "    value += event.which.toString();\n",
       "\n",
       "    this._key_event_extra(event, name);\n",
       "\n",
       "    this.send_message(name, {key: value,\n",
       "                             guiEvent: simpleKeys(event)});\n",
       "    return false;\n",
       "}\n",
       "\n",
       "mpl.figure.prototype.toolbar_button_onclick = function(name) {\n",
       "    if (name == 'download') {\n",
       "        this.handle_save(this, null);\n",
       "    } else {\n",
       "        this.send_message(\"toolbar_button\", {name: name});\n",
       "    }\n",
       "};\n",
       "\n",
       "mpl.figure.prototype.toolbar_button_onmouseover = function(tooltip) {\n",
       "    this.message.textContent = tooltip;\n",
       "};\n",
       "mpl.toolbar_items = [[\"Home\", \"Reset original view\", \"fa fa-home icon-home\", \"home\"], [\"Back\", \"Back to previous view\", \"fa fa-arrow-left icon-arrow-left\", \"back\"], [\"Forward\", \"Forward to next view\", \"fa fa-arrow-right icon-arrow-right\", \"forward\"], [\"\", \"\", \"\", \"\"], [\"Pan\", \"Pan axes with left mouse, zoom with right\", \"fa fa-arrows icon-move\", \"pan\"], [\"Zoom\", \"Zoom to rectangle\", \"fa fa-square-o icon-check-empty\", \"zoom\"], [\"\", \"\", \"\", \"\"], [\"Download\", \"Download plot\", \"fa fa-floppy-o icon-save\", \"download\"]];\n",
       "\n",
       "mpl.extensions = [\"eps\", \"jpeg\", \"pdf\", \"png\", \"ps\", \"raw\", \"svg\", \"tif\"];\n",
       "\n",
       "mpl.default_extension = \"png\";var comm_websocket_adapter = function(comm) {\n",
       "    // Create a \"websocket\"-like object which calls the given IPython comm\n",
       "    // object with the appropriate methods. Currently this is a non binary\n",
       "    // socket, so there is still some room for performance tuning.\n",
       "    var ws = {};\n",
       "\n",
       "    ws.close = function() {\n",
       "        comm.close()\n",
       "    };\n",
       "    ws.send = function(m) {\n",
       "        //console.log('sending', m);\n",
       "        comm.send(m);\n",
       "    };\n",
       "    // Register the callback with on_msg.\n",
       "    comm.on_msg(function(msg) {\n",
       "        //console.log('receiving', msg['content']['data'], msg);\n",
       "        // Pass the mpl event to the overridden (by mpl) onmessage function.\n",
       "        ws.onmessage(msg['content']['data'])\n",
       "    });\n",
       "    return ws;\n",
       "}\n",
       "\n",
       "mpl.mpl_figure_comm = function(comm, msg) {\n",
       "    // This is the function which gets called when the mpl process\n",
       "    // starts-up an IPython Comm through the \"matplotlib\" channel.\n",
       "\n",
       "    var id = msg.content.data.id;\n",
       "    // Get hold of the div created by the display call when the Comm\n",
       "    // socket was opened in Python.\n",
       "    var element = $(\"#\" + id);\n",
       "    var ws_proxy = comm_websocket_adapter(comm)\n",
       "\n",
       "    function ondownload(figure, format) {\n",
       "        window.open(figure.imageObj.src);\n",
       "    }\n",
       "\n",
       "    var fig = new mpl.figure(id, ws_proxy,\n",
       "                           ondownload,\n",
       "                           element.get(0));\n",
       "\n",
       "    // Call onopen now - mpl needs it, as it is assuming we've passed it a real\n",
       "    // web socket which is closed, not our websocket->open comm proxy.\n",
       "    ws_proxy.onopen();\n",
       "\n",
       "    fig.parent_element = element.get(0);\n",
       "    fig.cell_info = mpl.find_output_cell(\"<div id='\" + id + \"'></div>\");\n",
       "    if (!fig.cell_info) {\n",
       "        console.error(\"Failed to find cell for figure\", id, fig);\n",
       "        return;\n",
       "    }\n",
       "\n",
       "    var output_index = fig.cell_info[2]\n",
       "    var cell = fig.cell_info[0];\n",
       "\n",
       "};\n",
       "\n",
       "mpl.figure.prototype.handle_close = function(fig, msg) {\n",
       "    var width = fig.canvas.width/mpl.ratio\n",
       "    fig.root.unbind('remove')\n",
       "\n",
       "    // Update the output cell to use the data from the current canvas.\n",
       "    fig.push_to_output();\n",
       "    var dataURL = fig.canvas.toDataURL();\n",
       "    // Re-enable the keyboard manager in IPython - without this line, in FF,\n",
       "    // the notebook keyboard shortcuts fail.\n",
       "    IPython.keyboard_manager.enable()\n",
       "    $(fig.parent_element).html('<img src=\"' + dataURL + '\" width=\"' + width + '\">');\n",
       "    fig.close_ws(fig, msg);\n",
       "}\n",
       "\n",
       "mpl.figure.prototype.close_ws = function(fig, msg){\n",
       "    fig.send_message('closing', msg);\n",
       "    // fig.ws.close()\n",
       "}\n",
       "\n",
       "mpl.figure.prototype.push_to_output = function(remove_interactive) {\n",
       "    // Turn the data on the canvas into data in the output cell.\n",
       "    var width = this.canvas.width/mpl.ratio\n",
       "    var dataURL = this.canvas.toDataURL();\n",
       "    this.cell_info[1]['text/html'] = '<img src=\"' + dataURL + '\" width=\"' + width + '\">';\n",
       "}\n",
       "\n",
       "mpl.figure.prototype.updated_canvas_event = function() {\n",
       "    // Tell IPython that the notebook contents must change.\n",
       "    IPython.notebook.set_dirty(true);\n",
       "    this.send_message(\"ack\", {});\n",
       "    var fig = this;\n",
       "    // Wait a second, then push the new image to the DOM so\n",
       "    // that it is saved nicely (might be nice to debounce this).\n",
       "    setTimeout(function () { fig.push_to_output() }, 1000);\n",
       "}\n",
       "\n",
       "mpl.figure.prototype._init_toolbar = function() {\n",
       "    var fig = this;\n",
       "\n",
       "    var nav_element = $('<div/>');\n",
       "    nav_element.attr('style', 'width: 100%');\n",
       "    this.root.append(nav_element);\n",
       "\n",
       "    // Define a callback function for later on.\n",
       "    function toolbar_event(event) {\n",
       "        return fig.toolbar_button_onclick(event['data']);\n",
       "    }\n",
       "    function toolbar_mouse_event(event) {\n",
       "        return fig.toolbar_button_onmouseover(event['data']);\n",
       "    }\n",
       "\n",
       "    for(var toolbar_ind in mpl.toolbar_items){\n",
       "        var name = mpl.toolbar_items[toolbar_ind][0];\n",
       "        var tooltip = mpl.toolbar_items[toolbar_ind][1];\n",
       "        var image = mpl.toolbar_items[toolbar_ind][2];\n",
       "        var method_name = mpl.toolbar_items[toolbar_ind][3];\n",
       "\n",
       "        if (!name) { continue; };\n",
       "\n",
       "        var button = $('<button class=\"btn btn-default\" href=\"#\" title=\"' + name + '\"><i class=\"fa ' + image + ' fa-lg\"></i></button>');\n",
       "        button.click(method_name, toolbar_event);\n",
       "        button.mouseover(tooltip, toolbar_mouse_event);\n",
       "        nav_element.append(button);\n",
       "    }\n",
       "\n",
       "    // Add the status bar.\n",
       "    var status_bar = $('<span class=\"mpl-message\" style=\"text-align:right; float: right;\"/>');\n",
       "    nav_element.append(status_bar);\n",
       "    this.message = status_bar[0];\n",
       "\n",
       "    // Add the close button to the window.\n",
       "    var buttongrp = $('<div class=\"btn-group inline pull-right\"></div>');\n",
       "    var button = $('<button class=\"btn btn-mini btn-primary\" href=\"#\" title=\"Stop Interaction\"><i class=\"fa fa-power-off icon-remove icon-large\"></i></button>');\n",
       "    button.click(function (evt) { fig.handle_close(fig, {}); } );\n",
       "    button.mouseover('Stop Interaction', toolbar_mouse_event);\n",
       "    buttongrp.append(button);\n",
       "    var titlebar = this.root.find($('.ui-dialog-titlebar'));\n",
       "    titlebar.prepend(buttongrp);\n",
       "}\n",
       "\n",
       "mpl.figure.prototype._root_extra_style = function(el){\n",
       "    var fig = this\n",
       "    el.on(\"remove\", function(){\n",
       "\tfig.close_ws(fig, {});\n",
       "    });\n",
       "}\n",
       "\n",
       "mpl.figure.prototype._canvas_extra_style = function(el){\n",
       "    // this is important to make the div 'focusable\n",
       "    el.attr('tabindex', 0)\n",
       "    // reach out to IPython and tell the keyboard manager to turn it's self\n",
       "    // off when our div gets focus\n",
       "\n",
       "    // location in version 3\n",
       "    if (IPython.notebook.keyboard_manager) {\n",
       "        IPython.notebook.keyboard_manager.register_events(el);\n",
       "    }\n",
       "    else {\n",
       "        // location in version 2\n",
       "        IPython.keyboard_manager.register_events(el);\n",
       "    }\n",
       "\n",
       "}\n",
       "\n",
       "mpl.figure.prototype._key_event_extra = function(event, name) {\n",
       "    var manager = IPython.notebook.keyboard_manager;\n",
       "    if (!manager)\n",
       "        manager = IPython.keyboard_manager;\n",
       "\n",
       "    // Check for shift+enter\n",
       "    if (event.shiftKey && event.which == 13) {\n",
       "        this.canvas_div.blur();\n",
       "        // select the cell after this one\n",
       "        var index = IPython.notebook.find_cell_index(this.cell_info[0]);\n",
       "        IPython.notebook.select(index + 1);\n",
       "    }\n",
       "}\n",
       "\n",
       "mpl.figure.prototype.handle_save = function(fig, msg) {\n",
       "    fig.ondownload(fig, null);\n",
       "}\n",
       "\n",
       "\n",
       "mpl.find_output_cell = function(html_output) {\n",
       "    // Return the cell and output element which can be found *uniquely* in the notebook.\n",
       "    // Note - this is a bit hacky, but it is done because the \"notebook_saving.Notebook\"\n",
       "    // IPython event is triggered only after the cells have been serialised, which for\n",
       "    // our purposes (turning an active figure into a static one), is too late.\n",
       "    var cells = IPython.notebook.get_cells();\n",
       "    var ncells = cells.length;\n",
       "    for (var i=0; i<ncells; i++) {\n",
       "        var cell = cells[i];\n",
       "        if (cell.cell_type === 'code'){\n",
       "            for (var j=0; j<cell.output_area.outputs.length; j++) {\n",
       "                var data = cell.output_area.outputs[j];\n",
       "                if (data.data) {\n",
       "                    // IPython >= 3 moved mimebundle to data attribute of output\n",
       "                    data = data.data;\n",
       "                }\n",
       "                if (data['text/html'] == html_output) {\n",
       "                    return [cell, data, j];\n",
       "                }\n",
       "            }\n",
       "        }\n",
       "    }\n",
       "}\n",
       "\n",
       "// Register the function which deals with the matplotlib target/channel.\n",
       "// The kernel may be null if the page has been refreshed.\n",
       "if (IPython.notebook.kernel != null) {\n",
       "    IPython.notebook.kernel.comm_manager.register_target('matplotlib', mpl.mpl_figure_comm);\n",
       "}\n"
      ],
      "text/plain": [
       "<IPython.core.display.Javascript object>"
      ]
     },
     "metadata": {},
     "output_type": "display_data"
    },
    {
     "data": {
      "text/html": [
       "<img src=\"data:image/png;base64,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\" width=\"1000\">"
      ],
      "text/plain": [
       "<IPython.core.display.HTML object>"
      ]
     },
     "metadata": {},
     "output_type": "display_data"
    }
   ],
   "source": [
    "ax, tax, lax, lines = dual_train_plots()\n",
    "fig = ax.figure\n",
    "plt.tight_layout()\n",
    "# This gets built up during the run - do not rerun this cell\n",
    "results = pd.DataFrame([], columns=Results._fields)"
   ]
  },
  {
   "cell_type": "code",
   "execution_count": null,
   "metadata": {
    "scrolled": false
   },
   "outputs": [
    {
     "name": "stdout",
     "output_type": "stream",
     "text": [
      "for model:  ACN_2i4_10L_4S_BN_NI(\n",
      "  (conv1): Conv(\n",
      "    (0): Conv1d(1, 20, kernel_size=(25,), stride=(1,), padding=(12,))\n",
      "    (1): BatchNorm1d(20, eps=1e-05, momentum=0.1, affine=True, track_running_stats=True)\n",
      "    (2): Dropout(p=0.15, inplace=False)\n",
      "    (3): LeakyReLU(negative_slope=0.01)\n",
      "  )\n",
      "  (conv2): Conv(\n",
      "    (0): Conv1d(20, 10, kernel_size=(15,), stride=(1,), padding=(7,))\n",
      "    (1): BatchNorm1d(10, eps=1e-05, momentum=0.1, affine=True, track_running_stats=True)\n",
      "    (2): Dropout(p=0.15, inplace=False)\n",
      "    (3): LeakyReLU(negative_slope=0.01)\n",
      "  )\n",
      "  (conv3): Conv(\n",
      "    (0): Conv1d(30, 10, kernel_size=(15,), stride=(1,), padding=(7,))\n",
      "    (1): BatchNorm1d(10, eps=1e-05, momentum=0.1, affine=True, track_running_stats=True)\n",
      "    (2): Dropout(p=0.15, inplace=False)\n",
      "    (3): LeakyReLU(negative_slope=0.01)\n",
      "  )\n",
      "  (conv4): Conv(\n",
      "    (0): Conv1d(10, 10, kernel_size=(15,), stride=(1,), padding=(7,))\n",
      "    (1): BatchNorm1d(10, eps=1e-05, momentum=0.1, affine=True, track_running_stats=True)\n",
      "    (2): Dropout(p=0.15, inplace=False)\n",
      "    (3): LeakyReLU(negative_slope=0.01)\n",
      "  )\n",
      "  (conv5): Conv(\n",
      "    (0): Conv1d(20, 10, kernel_size=(15,), stride=(1,), padding=(7,))\n",
      "    (1): BatchNorm1d(10, eps=1e-05, momentum=0.1, affine=True, track_running_stats=True)\n",
      "    (2): Dropout(p=0.15, inplace=False)\n",
      "    (3): LeakyReLU(negative_slope=0.01)\n",
      "  )\n",
      "  (conv6): Conv(\n",
      "    (0): Conv1d(10, 10, kernel_size=(15,), stride=(1,), padding=(7,))\n",
      "    (1): BatchNorm1d(10, eps=1e-05, momentum=0.1, affine=True, track_running_stats=True)\n",
      "    (2): Dropout(p=0.15, inplace=False)\n",
      "    (3): LeakyReLU(negative_slope=0.01)\n",
      "  )\n",
      "  (conv7): Conv(\n",
      "    (0): Conv1d(20, 7, kernel_size=(15,), stride=(1,), padding=(7,))\n",
      "    (1): BatchNorm1d(7, eps=1e-05, momentum=0.1, affine=True, track_running_stats=True)\n",
      "    (2): Dropout(p=0.15, inplace=False)\n",
      "    (3): LeakyReLU(negative_slope=0.01)\n",
      "  )\n",
      "  (conv8): Conv(\n",
      "    (0): Conv1d(7, 5, kernel_size=(9,), stride=(1,), padding=(4,))\n",
      "    (1): BatchNorm1d(5, eps=1e-05, momentum=0.1, affine=True, track_running_stats=True)\n",
      "    (2): Dropout(p=0.15, inplace=False)\n",
      "    (3): LeakyReLU(negative_slope=0.01)\n",
      "  )\n",
      "  (conv9): Conv(\n",
      "    (0): Conv1d(12, 1, kernel_size=(5,), stride=(1,), padding=(2,))\n",
      "    (1): BatchNorm1d(1, eps=1e-05, momentum=0.1, affine=True, track_running_stats=True)\n",
      "    (2): Dropout(p=0.15, inplace=False)\n",
      "    (3): LeakyReLU(negative_slope=0.01)\n",
      "  )\n",
      "  (conv10): Conv(\n",
      "    (0): Conv1d(1, 1, kernel_size=(91,), stride=(1,), padding=(45,))\n",
      "    (1): BatchNorm1d(1, eps=1e-05, momentum=0.1, affine=True, track_running_stats=True)\n",
      "    (2): Dropout(p=0.15, inplace=False)\n",
      "    (3): LeakyReLU(negative_slope=0.01)\n",
      "  )\n",
      ")\n",
      "epoch_start 200\n",
      "batch_size 128\n",
      "epochs 500\n",
      "lr 1e-05\n",
      "Number of batches: train = 1875, val = 78\n"
     ]
    },
    {
     "name": "stderr",
     "output_type": "stream",
     "text": [
      "/home/michael24peters/pv-finder/notebooks/model/training.py:95: TqdmDeprecationWarning: This function will be removed in tqdm==5.0.0\n",
      "Please use `tqdm.notebook.tqdm` instead of `tqdm.tqdm_notebook`\n",
      "  file=sys.stderr,\n"
     ]
    },
    {
     "data": {
      "application/vnd.jupyter.widget-view+json": {
       "model_id": "fad2f490801c4917af6cbb87f88bf7ae",
       "version_major": 2,
       "version_minor": 0
      },
      "text/plain": [
       "HBox(children=(FloatProgress(value=0.0, description='Epochs', layout=Layout(flex='2'), max=500.0, style=Progre…"
      ]
     },
     "metadata": {},
     "output_type": "display_data"
    },
    {
     "data": {
      "application/vnd.jupyter.widget-view+json": {
       "model_id": "",
       "version_major": 2,
       "version_minor": 0
      },
      "text/plain": [
       "HBox(children=(FloatProgress(value=0.0, description='Training', layout=Layout(flex='2'), max=1875.0, style=Pro…"
      ]
     },
     "metadata": {},
     "output_type": "display_data"
    },
    {
     "name": "stdout",
     "output_type": "stream",
     "text": [
      "Epoch 200: train=1316.04, val=1314.71, took 79.292 s\n",
      "  Validation Found 321 of 54504, added 9467 (eff 0.59%) (0.948 FP/event)\n"
     ]
    },
    {
     "data": {
      "application/vnd.jupyter.widget-view+json": {
       "model_id": "",
       "version_major": 2,
       "version_minor": 0
      },
      "text/plain": [
       "HBox(children=(FloatProgress(value=0.0, description='Training', layout=Layout(flex='2'), max=1875.0, style=Pro…"
      ]
     },
     "metadata": {},
     "output_type": "display_data"
    },
    {
     "name": "stdout",
     "output_type": "stream",
     "text": [
      "Epoch 201: train=1316.02, val=1314.7, took 79.646 s\n",
      "  Validation Found 321 of 54504, added 9477 (eff 0.59%) (0.949 FP/event)\n"
     ]
    },
    {
     "data": {
      "application/vnd.jupyter.widget-view+json": {
       "model_id": "",
       "version_major": 2,
       "version_minor": 0
      },
      "text/plain": [
       "HBox(children=(FloatProgress(value=0.0, description='Training', layout=Layout(flex='2'), max=1875.0, style=Pro…"
      ]
     },
     "metadata": {},
     "output_type": "display_data"
    },
    {
     "name": "stdout",
     "output_type": "stream",
     "text": [
      "Epoch 202: train=1316.01, val=1314.68, took 79.383 s\n",
      "  Validation Found 322 of 54504, added 9466 (eff 0.59%) (0.948 FP/event)\n"
     ]
    },
    {
     "data": {
      "application/vnd.jupyter.widget-view+json": {
       "model_id": "",
       "version_major": 2,
       "version_minor": 0
      },
      "text/plain": [
       "HBox(children=(FloatProgress(value=0.0, description='Training', layout=Layout(flex='2'), max=1875.0, style=Pro…"
      ]
     },
     "metadata": {},
     "output_type": "display_data"
    },
    {
     "name": "stdout",
     "output_type": "stream",
     "text": [
      "Epoch 203: train=1315.99, val=1314.67, took 78.667 s\n",
      "  Validation Found 319 of 54504, added 9480 (eff 0.59%) (0.949 FP/event)\n"
     ]
    },
    {
     "data": {
      "application/vnd.jupyter.widget-view+json": {
       "model_id": "",
       "version_major": 2,
       "version_minor": 0
      },
      "text/plain": [
       "HBox(children=(FloatProgress(value=0.0, description='Training', layout=Layout(flex='2'), max=1875.0, style=Pro…"
      ]
     },
     "metadata": {},
     "output_type": "display_data"
    },
    {
     "name": "stdout",
     "output_type": "stream",
     "text": [
      "Epoch 204: train=1315.97, val=1314.65, took 80.464 s\n",
      "  Validation Found 321 of 54504, added 9468 (eff 0.59%) (0.948 FP/event)\n"
     ]
    },
    {
     "data": {
      "application/vnd.jupyter.widget-view+json": {
       "model_id": "",
       "version_major": 2,
       "version_minor": 0
      },
      "text/plain": [
       "HBox(children=(FloatProgress(value=0.0, description='Training', layout=Layout(flex='2'), max=1875.0, style=Pro…"
      ]
     },
     "metadata": {},
     "output_type": "display_data"
    },
    {
     "name": "stdout",
     "output_type": "stream",
     "text": [
      "Epoch 205: train=1315.95, val=1314.63, took 79.633 s\n",
      "  Validation Found 321 of 54504, added 9478 (eff 0.59%) (0.949 FP/event)\n"
     ]
    },
    {
     "data": {
      "application/vnd.jupyter.widget-view+json": {
       "model_id": "",
       "version_major": 2,
       "version_minor": 0
      },
      "text/plain": [
       "HBox(children=(FloatProgress(value=0.0, description='Training', layout=Layout(flex='2'), max=1875.0, style=Pro…"
      ]
     },
     "metadata": {},
     "output_type": "display_data"
    },
    {
     "name": "stdout",
     "output_type": "stream",
     "text": [
      "Epoch 206: train=1315.94, val=1314.61, took 79.256 s\n",
      "  Validation Found 322 of 54504, added 9465 (eff 0.59%) (0.948 FP/event)\n"
     ]
    },
    {
     "data": {
      "application/vnd.jupyter.widget-view+json": {
       "model_id": "",
       "version_major": 2,
       "version_minor": 0
      },
      "text/plain": [
       "HBox(children=(FloatProgress(value=0.0, description='Training', layout=Layout(flex='2'), max=1875.0, style=Pro…"
      ]
     },
     "metadata": {},
     "output_type": "display_data"
    },
    {
     "name": "stdout",
     "output_type": "stream",
     "text": [
      "Epoch 207: train=1315.92, val=1314.6, took 81.568 s\n",
      "  Validation Found 322 of 54504, added 9465 (eff 0.59%) (0.948 FP/event)\n"
     ]
    },
    {
     "data": {
      "application/vnd.jupyter.widget-view+json": {
       "model_id": "",
       "version_major": 2,
       "version_minor": 0
      },
      "text/plain": [
       "HBox(children=(FloatProgress(value=0.0, description='Training', layout=Layout(flex='2'), max=1875.0, style=Pro…"
      ]
     },
     "metadata": {},
     "output_type": "display_data"
    },
    {
     "name": "stdout",
     "output_type": "stream",
     "text": [
      "Epoch 208: train=1315.9, val=1314.58, took 81.246 s\n",
      "  Validation Found 322 of 54504, added 9477 (eff 0.59%) (0.949 FP/event)\n"
     ]
    },
    {
     "data": {
      "application/vnd.jupyter.widget-view+json": {
       "model_id": "",
       "version_major": 2,
       "version_minor": 0
      },
      "text/plain": [
       "HBox(children=(FloatProgress(value=0.0, description='Training', layout=Layout(flex='2'), max=1875.0, style=Pro…"
      ]
     },
     "metadata": {},
     "output_type": "display_data"
    },
    {
     "name": "stdout",
     "output_type": "stream",
     "text": [
      "Epoch 209: train=1315.89, val=1314.56, took 82.193 s\n",
      "  Validation Found 321 of 54504, added 9477 (eff 0.59%) (0.949 FP/event)\n"
     ]
    },
    {
     "data": {
      "application/vnd.jupyter.widget-view+json": {
       "model_id": "",
       "version_major": 2,
       "version_minor": 0
      },
      "text/plain": [
       "HBox(children=(FloatProgress(value=0.0, description='Training', layout=Layout(flex='2'), max=1875.0, style=Pro…"
      ]
     },
     "metadata": {},
     "output_type": "display_data"
    },
    {
     "name": "stdout",
     "output_type": "stream",
     "text": [
      "Epoch 210: train=1315.87, val=1314.54, took 80.528 s\n",
      "  Validation Found 324 of 54504, added 9465 (eff 0.59%) (0.948 FP/event)\n"
     ]
    },
    {
     "data": {
      "application/vnd.jupyter.widget-view+json": {
       "model_id": "",
       "version_major": 2,
       "version_minor": 0
      },
      "text/plain": [
       "HBox(children=(FloatProgress(value=0.0, description='Training', layout=Layout(flex='2'), max=1875.0, style=Pro…"
      ]
     },
     "metadata": {},
     "output_type": "display_data"
    },
    {
     "name": "stdout",
     "output_type": "stream",
     "text": [
      "Epoch 211: train=1315.85, val=1314.53, took 79.614 s\n",
      "  Validation Found 322 of 54504, added 9472 (eff 0.59%) (0.949 FP/event)\n"
     ]
    },
    {
     "data": {
      "application/vnd.jupyter.widget-view+json": {
       "model_id": "",
       "version_major": 2,
       "version_minor": 0
      },
      "text/plain": [
       "HBox(children=(FloatProgress(value=0.0, description='Training', layout=Layout(flex='2'), max=1875.0, style=Pro…"
      ]
     },
     "metadata": {},
     "output_type": "display_data"
    },
    {
     "name": "stdout",
     "output_type": "stream",
     "text": [
      "Epoch 212: train=1315.84, val=1314.5, took 80.059 s\n",
      "  Validation Found 323 of 54504, added 9470 (eff 0.59%) (0.948 FP/event)\n"
     ]
    },
    {
     "data": {
      "application/vnd.jupyter.widget-view+json": {
       "model_id": "",
       "version_major": 2,
       "version_minor": 0
      },
      "text/plain": [
       "HBox(children=(FloatProgress(value=0.0, description='Training', layout=Layout(flex='2'), max=1875.0, style=Pro…"
      ]
     },
     "metadata": {},
     "output_type": "display_data"
    },
    {
     "name": "stdout",
     "output_type": "stream",
     "text": [
      "Epoch 213: train=1315.82, val=1314.49, took 81.659 s\n",
      "  Validation Found 322 of 54504, added 9480 (eff 0.59%) (0.949 FP/event)\n"
     ]
    },
    {
     "data": {
      "application/vnd.jupyter.widget-view+json": {
       "model_id": "",
       "version_major": 2,
       "version_minor": 0
      },
      "text/plain": [
       "HBox(children=(FloatProgress(value=0.0, description='Training', layout=Layout(flex='2'), max=1875.0, style=Pro…"
      ]
     },
     "metadata": {},
     "output_type": "display_data"
    },
    {
     "name": "stdout",
     "output_type": "stream",
     "text": [
      "Epoch 214: train=1315.8, val=1314.47, took 79.744 s\n",
      "  Validation Found 322 of 54504, added 9477 (eff 0.59%) (0.949 FP/event)\n"
     ]
    },
    {
     "data": {
      "application/vnd.jupyter.widget-view+json": {
       "model_id": "",
       "version_major": 2,
       "version_minor": 0
      },
      "text/plain": [
       "HBox(children=(FloatProgress(value=0.0, description='Training', layout=Layout(flex='2'), max=1875.0, style=Pro…"
      ]
     },
     "metadata": {},
     "output_type": "display_data"
    },
    {
     "name": "stdout",
     "output_type": "stream",
     "text": [
      "Epoch 215: train=1315.78, val=1314.46, took 78.719 s\n",
      "  Validation Found 322 of 54504, added 9477 (eff 0.59%) (0.949 FP/event)\n"
     ]
    },
    {
     "data": {
      "application/vnd.jupyter.widget-view+json": {
       "model_id": "",
       "version_major": 2,
       "version_minor": 0
      },
      "text/plain": [
       "HBox(children=(FloatProgress(value=0.0, description='Training', layout=Layout(flex='2'), max=1875.0, style=Pro…"
      ]
     },
     "metadata": {},
     "output_type": "display_data"
    },
    {
     "name": "stdout",
     "output_type": "stream",
     "text": [
      "Epoch 216: train=1315.77, val=1314.44, took 79.039 s\n",
      "  Validation Found 321 of 54504, added 9478 (eff 0.59%) (0.949 FP/event)\n"
     ]
    },
    {
     "data": {
      "application/vnd.jupyter.widget-view+json": {
       "model_id": "",
       "version_major": 2,
       "version_minor": 0
      },
      "text/plain": [
       "HBox(children=(FloatProgress(value=0.0, description='Training', layout=Layout(flex='2'), max=1875.0, style=Pro…"
      ]
     },
     "metadata": {},
     "output_type": "display_data"
    },
    {
     "name": "stdout",
     "output_type": "stream",
     "text": [
      "Epoch 217: train=1315.75, val=1314.42, took 78.542 s\n",
      "  Validation Found 322 of 54504, added 9472 (eff 0.59%) (0.949 FP/event)\n"
     ]
    },
    {
     "data": {
      "application/vnd.jupyter.widget-view+json": {
       "model_id": "",
       "version_major": 2,
       "version_minor": 0
      },
      "text/plain": [
       "HBox(children=(FloatProgress(value=0.0, description='Training', layout=Layout(flex='2'), max=1875.0, style=Pro…"
      ]
     },
     "metadata": {},
     "output_type": "display_data"
    },
    {
     "name": "stdout",
     "output_type": "stream",
     "text": [
      "Epoch 218: train=1315.73, val=1314.4, took 78.78 s\n",
      "  Validation Found 323 of 54504, added 9465 (eff 0.59%) (0.948 FP/event)\n"
     ]
    },
    {
     "data": {
      "application/vnd.jupyter.widget-view+json": {
       "model_id": "",
       "version_major": 2,
       "version_minor": 0
      },
      "text/plain": [
       "HBox(children=(FloatProgress(value=0.0, description='Training', layout=Layout(flex='2'), max=1875.0, style=Pro…"
      ]
     },
     "metadata": {},
     "output_type": "display_data"
    },
    {
     "name": "stdout",
     "output_type": "stream",
     "text": [
      "Epoch 219: train=1315.72, val=1314.38, took 78.949 s\n",
      "  Validation Found 322 of 54504, added 9477 (eff 0.59%) (0.949 FP/event)\n"
     ]
    },
    {
     "data": {
      "application/vnd.jupyter.widget-view+json": {
       "model_id": "",
       "version_major": 2,
       "version_minor": 0
      },
      "text/plain": [
       "HBox(children=(FloatProgress(value=0.0, description='Training', layout=Layout(flex='2'), max=1875.0, style=Pro…"
      ]
     },
     "metadata": {},
     "output_type": "display_data"
    },
    {
     "name": "stdout",
     "output_type": "stream",
     "text": [
      "Epoch 220: train=1315.7, val=1314.37, took 78.262 s\n",
      "  Validation Found 323 of 54504, added 9465 (eff 0.59%) (0.948 FP/event)\n"
     ]
    },
    {
     "data": {
      "application/vnd.jupyter.widget-view+json": {
       "model_id": "",
       "version_major": 2,
       "version_minor": 0
      },
      "text/plain": [
       "HBox(children=(FloatProgress(value=0.0, description='Training', layout=Layout(flex='2'), max=1875.0, style=Pro…"
      ]
     },
     "metadata": {},
     "output_type": "display_data"
    },
    {
     "name": "stdout",
     "output_type": "stream",
     "text": [
      "Epoch 221: train=1315.68, val=1314.35, took 78.294 s\n",
      "  Validation Found 322 of 54504, added 9476 (eff 0.59%) (0.949 FP/event)\n"
     ]
    },
    {
     "data": {
      "application/vnd.jupyter.widget-view+json": {
       "model_id": "",
       "version_major": 2,
       "version_minor": 0
      },
      "text/plain": [
       "HBox(children=(FloatProgress(value=0.0, description='Training', layout=Layout(flex='2'), max=1875.0, style=Pro…"
      ]
     },
     "metadata": {},
     "output_type": "display_data"
    },
    {
     "name": "stdout",
     "output_type": "stream",
     "text": [
      "Epoch 222: train=1315.66, val=1314.34, took 78.28 s\n",
      "  Validation Found 321 of 54504, added 9477 (eff 0.59%) (0.949 FP/event)\n"
     ]
    },
    {
     "data": {
      "application/vnd.jupyter.widget-view+json": {
       "model_id": "",
       "version_major": 2,
       "version_minor": 0
      },
      "text/plain": [
       "HBox(children=(FloatProgress(value=0.0, description='Training', layout=Layout(flex='2'), max=1875.0, style=Pro…"
      ]
     },
     "metadata": {},
     "output_type": "display_data"
    },
    {
     "name": "stdout",
     "output_type": "stream",
     "text": [
      "Epoch 223: train=1315.65, val=1314.32, took 78.417 s\n",
      "  Validation Found 324 of 54504, added 9463 (eff 0.59%) (0.948 FP/event)\n"
     ]
    },
    {
     "data": {
      "application/vnd.jupyter.widget-view+json": {
       "model_id": "",
       "version_major": 2,
       "version_minor": 0
      },
      "text/plain": [
       "HBox(children=(FloatProgress(value=0.0, description='Training', layout=Layout(flex='2'), max=1875.0, style=Pro…"
      ]
     },
     "metadata": {},
     "output_type": "display_data"
    },
    {
     "name": "stdout",
     "output_type": "stream",
     "text": [
      "Epoch 224: train=1315.63, val=1310.45, took 78.232 s\n",
      "  Validation Found 349 of 54504, added 9469 (eff 0.64%) (0.948 FP/event)\n"
     ]
    },
    {
     "data": {
      "application/vnd.jupyter.widget-view+json": {
       "model_id": "c2ed2cd3d1584c6cbc730774e17ff452",
       "version_major": 2,
       "version_minor": 0
      },
      "text/plain": [
       "HBox(children=(FloatProgress(value=0.0, description='Training', layout=Layout(flex='2'), max=1875.0, style=Pro…"
      ]
     },
     "metadata": {},
     "output_type": "display_data"
    }
   ],
   "source": [
    "avgEff = 0.0\n",
    "avgFP = 0.0\n",
    "\n",
    "print('for model: ', model)   \n",
    "run_name = 'ACN_2i4_10L_4S_BN_NI (P3)'\n",
    "# Create an mlflow run\n",
    "with mlflow.start_run(run_name=run_name) as run:\n",
    "    # Log parameters of the model\n",
    "    for key, value in vars(args).items():\n",
    "        print(key, value)\n",
    "        mlflow.log_param(key, value)\n",
    "    \n",
    "    # Log parameter count in the model\n",
    "    mlflow.log_param('Parameters', count_parameters(model))\n",
    "    \n",
    "    # Begin run\n",
    "    for result in trainNet(model, optimizer, loss,\n",
    "                            train_loader, val_loader,\n",
    "                            args.epochs+args.epoch_start, epoch_start=args.epoch_start,\n",
    "                            notebook=True, device=device):\n",
    "\n",
    "        result = result._asdict()\n",
    "        results = results.append(pd.Series(result), ignore_index=True)\n",
    "        xs = results.index\n",
    "\n",
    "        # Update the plot above\n",
    "        lines['train'].set_data(results.index, results.cost)\n",
    "        lines['val'].set_data(results.index, results.val)\n",
    "\n",
    "        #filter first cost epoch (can be really large)\n",
    "        max_cost = max(max(results.cost if len(results.cost)<2 else results.cost[1:]), max(results.val))\n",
    "        min_cost = min(min(results.cost), min(results.val))\n",
    "    \n",
    "        # The plot limits need updating too\n",
    "        ax.set_ylim(min_cost*.9, max_cost*1.1)  \n",
    "        ax.set_xlim(-.5, len(results.cost) - .5)\n",
    "    \n",
    "        replace_in_ax(lax, lines['eff'], xs, results['eff_val'].apply(lambda x: x.eff_rate))\n",
    "        replace_in_ax(tax, lines['fp'], xs, results['eff_val'].apply(lambda x: x.fp_rate))            \n",
    "            \n",
    "        # Redraw the figure\n",
    "        fig.canvas.draw()\n",
    "            \n",
    "        ## MLFLOW ##\n",
    "        # Log metrics\n",
    "        mlflow.log_metric('Efficiency', result['eff_val'].eff_rate, result['epoch'])\n",
    "        mlflow.log_metric('False Positive Rate',  result['eff_val'].fp_rate, result['epoch'])\n",
    "        mlflow.log_metric('Validation Loss',  result['val'], result['epoch'])\n",
    "        mlflow.log_metric('Training Loss',  result['cost'], result['epoch'])\n",
    "        \n",
    "        # If we are on the last 10 epochs but NOT the last epoch\n",
    "        if(result['epoch'] >= args.epochs + args.epoch_start - 10):\n",
    "            avgEff += result['eff_val'].eff_rate\n",
    "            avgFP += result['eff_val'].fp_rate\n",
    "           \n",
    "        # If we are on the last epoch\n",
    "        if(result['epoch'] == args.epochs + args.epoch_start - 1):\n",
    "            print('Averaging...\\n')\n",
    "            avgEff /= 10\n",
    "            avgFP /= 10\n",
    "            mlflow.log_metric('10 Efficiency Average', avgEff)\n",
    "            mlflow.log_metric('10 False Positive Average', avgFP)\n",
    "            print('Average Eff: ', avgEff)\n",
    "            print('Average FP Rate: ', avgFP)\n",
    "            \n",
    "        \n",
    "        # Log tags\n",
    "        mlflow.set_tag('Skip connections', '4')\n",
    "        mlflow.set_tag('Asymmetry', '2.5')\n",
    "        mlflow.set_tag('KDE_A', 'False')\n",
    "        mlflow.set_tag('BN Input', 'False')\n",
    "\n",
    "        # Save model state dictionary, optimizer state dictionary, and epoch number\n",
    "        torch.save({\n",
    "            'model':model.state_dict(),\n",
    "            'optimizer':optimizer.state_dict(),\n",
    "            'epoch':args.epochs+result['epoch']\n",
    "            }, 'run_stats.pyt')\n",
    "        # Save the run stats into mlflow\n",
    "        mlflow.log_artifact('run_stats.pyt')\n",
    "    \n",
    "    # Generate tight plot at end of training\n",
    "    dual_train_plots(results.index,\n",
    "                 results.cost, results.val, \n",
    "                 results['eff_val'].apply(lambda x: x.eff_rate),\n",
    "                 results['eff_val'].apply(lambda x: x.fp_rate))\n",
    "    plt.tight_layout()\n",
    "    # Save plot\n",
    "    plt.savefig('plot.png')  \n",
    "    mlflow.log_artifact('plot.png')"
   ]
  },
  {
   "cell_type": "code",
   "execution_count": null,
   "metadata": {},
   "outputs": [],
   "source": [
    "##quit()"
   ]
  }
 ],
 "metadata": {
  "kernelspec": {
   "display_name": "goofit-june2020",
   "language": "python",
   "name": "goofit-june2020"
  },
  "language_info": {
   "codemirror_mode": {
    "name": "ipython",
    "version": 3
   },
   "file_extension": ".py",
   "mimetype": "text/x-python",
   "name": "python",
   "nbconvert_exporter": "python",
   "pygments_lexer": "ipython3",
   "version": "3.7.6"
  }
 },
 "nbformat": 4,
 "nbformat_minor": 2
}
