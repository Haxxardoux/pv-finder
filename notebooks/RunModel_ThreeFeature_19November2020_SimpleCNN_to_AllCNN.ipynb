{
 "cells": [
  {
   "cell_type": "code",
   "execution_count": 1,
   "metadata": {},
   "outputs": [],
   "source": [
    "##%matplotlib widget\n",
    "## with %matplotlib notebook: seems to require ipympl as part of environment, either\n",
    "## part of the conda environment or \"pip install ipympl\"\n",
    "## otherwise, does not show ANY plots in notebook, plt.savefig() works\n",
    "%matplotlib notebook  \n",
    "##%matplotlib inline    ## --plt.savefig()  works, but re-sizing does NOT"
   ]
  },
  {
   "cell_type": "markdown",
   "metadata": {},
   "source": [
    "This notebook is a short demo to illustrate execution.   For odd historical reasons, it uses \"toy Monte Carlo\" (simulated data)for \"training\" and \"full LHCB MC\" for validation.\n",
    "\n",
    "The network architecture is a \"simple\" model that uses 1 input channel (the KDE [kernel density estimator] but from the track parameters) feeding 5 convolutional layers followed by a fully connected layer.\n",
    "\n",
    "In today's version, the network will start with weights from a previously trained version.\n",
    " "
   ]
  },
  {
   "cell_type": "markdown",
   "metadata": {},
   "source": [
    "Check the current GPU usage. Please try to be nice!"
   ]
  },
  {
   "cell_type": "code",
   "execution_count": 2,
   "metadata": {},
   "outputs": [
    {
     "name": "stdout",
     "output_type": "stream",
     "text": [
      "Sat Mar  6 19:30:25 2021       \r\n",
      "+-----------------------------------------------------------------------------+\r\n",
      "| NVIDIA-SMI 440.64.00    Driver Version: 440.64.00    CUDA Version: 10.2     |\r\n",
      "|-------------------------------+----------------------+----------------------+\r\n",
      "| GPU  Name        Persistence-M| Bus-Id        Disp.A | Volatile Uncorr. ECC |\r\n",
      "| Fan  Temp  Perf  Pwr:Usage/Cap|         Memory-Usage | GPU-Util  Compute M. |\r\n",
      "|===============================+======================+======================|\r\n",
      "|   0  TITAN V             Off  | 00000000:03:00.0 Off |                  N/A |\r\n",
      "| 38%   50C    P0    35W / 250W |      0MiB / 12066MiB |      0%      Default |\r\n",
      "+-------------------------------+----------------------+----------------------+\r\n",
      "|   1  Tesla P100-PCIE...  Off  | 00000000:83:00.0 Off |                    0 |\r\n",
      "| N/A   32C    P0    33W / 250W |      0MiB / 16280MiB |      0%      Default |\r\n",
      "+-------------------------------+----------------------+----------------------+\r\n",
      "|   2  TITAN V             Off  | 00000000:84:00.0 Off |                  N/A |\r\n",
      "| 22%   37C    P0    34W / 250W |      0MiB / 12066MiB |      0%      Default |\r\n",
      "+-------------------------------+----------------------+----------------------+\r\n",
      "                                                                               \r\n",
      "+-----------------------------------------------------------------------------+\r\n",
      "| Processes:                                                       GPU Memory |\r\n",
      "|  GPU       PID   Type   Process name                             Usage      |\r\n",
      "|=============================================================================|\r\n",
      "|  No running processes found                                                 |\r\n",
      "+-----------------------------------------------------------------------------+\r\n"
     ]
    }
   ],
   "source": [
    "!nvidia-smi"
   ]
  },
  {
   "cell_type": "markdown",
   "metadata": {},
   "source": [
    "> **WARNING**: The card numbers here are *not* the same as in CUDA. You have been warned."
   ]
  },
  {
   "cell_type": "markdown",
   "metadata": {},
   "source": [
    "## Imports"
   ]
  },
  {
   "cell_type": "code",
   "execution_count": 3,
   "metadata": {},
   "outputs": [
    {
     "name": "stderr",
     "output_type": "stream",
     "text": [
      "/data/conda/envs/goofit-june2020/lib/python3.7/site-packages/awkward/__init__.py:23: DeprecationWarning: Consider switching from 'awkward' to 'awkward1', since the new interface will become the default later this year (2020).\n",
      "\n",
      "    pip install -U awkward1\n",
      "\n",
      "In Python:\n",
      "\n",
      "    >>> import awkward1 as ak\n",
      "    >>> new_style_array = ak.from_awkward0(old_style_array)\n",
      "    >>> old_style_array = ak.to_awkward0(new_style_array)\n",
      "\n",
      "  DeprecationWarning\n"
     ]
    }
   ],
   "source": [
    "import matplotlib.pyplot as plt\n",
    "import numpy as np\n",
    "import time\n",
    "import torch\n",
    "import pandas as pd\n",
    "import mlflow\n",
    "\n",
    "# Python 3 standard library\n",
    "from pathlib import Path\n",
    "\n",
    "from torchsummary import summary\n",
    "\n",
    "'''\n",
    "HELPER FUNCTIONS\n",
    "'''\n",
    "# From model/collectdata.py\n",
    "from model.collectdata_mdsA import collect_data\n",
    "# For poca KDE\n",
    "from model.collectdata_poca_KDE import collect_data_poca\n",
    "\n",
    "# From model/loss.py\n",
    "##from loss import Loss\n",
    "from model.alt_loss_A import Loss\n",
    "\n",
    "# From model/training.py\n",
    "from model.training import trainNet, select_gpu, Results\n",
    "\n",
    "# From model/models.py\n",
    "##  will start with model from TwoFeatures_CNN6Layer_A in the first instance\n",
    "##  see relevant cell below\n",
    "\n",
    "from model.models_mjp_19November20 import All_CNN6Layer_A as ModelA\n",
    "from model.models_mjp_19November20 import All_CNN6Layer_E as ModelE\n",
    "from model.models_mjp_19November20 import All_CNN8Layer_W as ModelW\n",
    "from model.models_mjp_26December20 import All_CNN10Layer_X as ModelX\n",
    "from model.models_mjp_26December20 import All_CNN8Layer_Y as ModelY\n",
    "from model.models_mjp_30Jan21_AllCNN import ACN_2_10L_4S_BN as ModelXX\n",
    "\n",
    "# From model/utilities.py\n",
    "from model.utilities import load_full_state, count_parameters, Params\n",
    "\n",
    "from model.plots import dual_train_plots, replace_in_ax\n",
    "\n",
    "## adds image of model architecture\n",
    "import hiddenlayer as HL"
   ]
  },
  {
   "cell_type": "markdown",
   "metadata": {},
   "source": [
    "Set up Torch device configuration. All tensors and model parameters need to know where to be put.\n",
    "This takes a BUS ID number: The BUS ID is the same as the listing at the top of this script."
   ]
  },
  {
   "cell_type": "code",
   "execution_count": 4,
   "metadata": {
    "scrolled": true
   },
   "outputs": [
    {
     "name": "stdout",
     "output_type": "stream",
     "text": [
      "1 available GPUs (initially using device 0):\n",
      "  0 TITAN V\n"
     ]
    },
    {
     "name": "stderr",
     "output_type": "stream",
     "text": [
      "/data/conda/envs/goofit-june2020/lib/python3.7/site-packages/ipykernel/ipkernel.py:287: DeprecationWarning: `should_run_async` will not call `transform_cell` automatically in the future. Please pass the result to `transformed_cell` argument and any exception that happen during thetransform in `preprocessing_exc_tuple` in IPython 7.17 and above.\n",
      "  and should_run_async(code)\n"
     ]
    }
   ],
   "source": [
    "device = select_gpu(0)"
   ]
  },
  {
   "cell_type": "markdown",
   "metadata": {},
   "source": [
    "### Set up local parameters"
   ]
  },
  {
   "cell_type": "code",
   "execution_count": 5,
   "metadata": {},
   "outputs": [],
   "source": [
    "# params order - batch size, epochs, lr, epoch_start (which is usually set to 0)\n",
    "args = Params(128, 100, 1e-4, 220)"
   ]
  },
  {
   "cell_type": "markdown",
   "metadata": {},
   "source": [
    "## Loading data\n",
    "\n",
    "Load the dataset, split into parts, then move to device (see `collectdata.py` in the `../model` directory)"
   ]
  },
  {
   "cell_type": "code",
   "execution_count": 6,
   "metadata": {
    "scrolled": true
   },
   "outputs": [
    {
     "name": "stdout",
     "output_type": "stream",
     "text": [
      "Loading data...\n",
      "Loaded /share/lazy/will/data/June30_2020_80k_1.h5 in 13.79 s\n",
      "Loaded /share/lazy/will/data/June30_2020_80k_3.h5 in 13.34 s\n",
      "Constructing 160000 event dataset took 5.816 s\n",
      "Loading data...\n",
      "Loaded /share/lazy/sokoloff/ML-data_AA/20K_POCA_kernel_evts_200926.h5 in 3.23 s\n",
      "Constructing 20000 event dataset took 0.1735 s\n"
     ]
    }
   ],
   "source": [
    "## newer vernacular\n",
    "## Training dataset. You can put as many files here as desired.\n",
    "\n",
    "## This is used when training with the original KDE\n",
    "'''\n",
    "## in this DEMO example we use only one 80K training set -- the model starts with well-trained weights,\n",
    "## and using a smaller training set reduces both the time to load the data and the time to train an epoch\n",
    "##  set the option load_XandXsq = True to use both DKE and KDE^2 as input features\n",
    "train_loader = collect_data('/share/lazy/sokoloff/ML-data_A/Aug14_80K_train.h5',\n",
    "                             '/share/lazy/sokoloff/ML-data_AA/Oct03_80K_train.h5',\n",
    "#                             '/share/lazy/sokoloff/ML-data_AA/Oct03_40K_train.h5',\n",
    "#                             '/share/lazy/will/ML_mdsA/June30_2020_80k_1.h5',\n",
    "#                             '/share/lazy/will/ML_mdsA/June30_2020_80k_3.h5',\n",
    "#                             '/share/lazy/will/ML_mdsA/June30_2020_80k_4.h5',\n",
    "#                             '/share/lazy/will/ML_mdsA/June30_2020_80k_5.h5',\n",
    "#                             '/share/lazy/will/ML_mdsA/June30_2020_80k_6.h5',\n",
    "#                             '/share/lazy/will/ML_mdsA/June30_2020_80k_7.h5',\n",
    "#                             '/share/lazy/will/ML_mdsA/June30_2020_80k_8.h5',\n",
    "#                             '/share/lazy/will/ML_mdsA/June30_2020_80k_9.h5',\n",
    "                            #'/share/lazy/sokoloff/ML-data_AA/Oct03_80K2_train.h5',\n",
    "                             batch_size=args.batch_size,\n",
    "## if we are using a larger dataset (240K events, with the datasets above, and 11 GB  of GPU memory),\n",
    "## not the dataset will overflow the GPU memory; device=device will allow the data to move back\n",
    "## and forth between the CPU and GPU memory. While this allows use of a larger dataset, it slows\n",
    "## down performance by about 10%.  So comment out when not needed.\n",
    "                            device=device,\n",
    "                            masking=True, shuffle=True,\n",
    "                            load_XandXsq=False,\n",
    "                            load_xy=False)\n",
    "\n",
    "# Validation dataset. You can slice to reduce the size.\n",
    "## dataAA -> /share/lazy/sokoloff/ML-data_AA/\n",
    "val_loader = collect_data('/share/lazy/sokoloff/ML-data_AA/Oct03_20K_val.h5',\n",
    "## mds val_loader = collect_data('dataAA/HLT1CPU_1kevts_val.h5',\n",
    "\n",
    "                          batch_size=args.batch_size,\n",
    "                          slice=slice(256 * 39),\n",
    "                          device=device,\n",
    "                          masking=True, shuffle=False,\n",
    "                          load_XandXsq=False,\n",
    "                          load_xy=False)\n",
    "'''\n",
    "\n",
    "## This is used when training with the new KDE\n",
    "train_loader = collect_data_poca('/share/lazy/will/data/June30_2020_80k_1.h5',\n",
    "                            '/share/lazy/will/data/June30_2020_80k_3.h5',\n",
    "                            batch_size=args.batch_size,\n",
    "                            device=device,\n",
    "                            masking=True, shuffle=True,\n",
    "                           ## slice = slice(0,18000)\n",
    "                           )\n",
    "\n",
    "val_loader = collect_data_poca('/share/lazy/sokoloff/ML-data_AA/20K_POCA_kernel_evts_200926.h5',\n",
    "                            batch_size=args.batch_size,\n",
    "                            device=device,\n",
    "                            masking=True, shuffle=True,\n",
    "                            ##slice = slice(18000,None)\n",
    "                           )"
   ]
  },
  {
   "cell_type": "markdown",
   "metadata": {},
   "source": [
    "# Preparing the model"
   ]
  },
  {
   "cell_type": "markdown",
   "metadata": {},
   "source": [
    "Prepare a model, use multiple GPUs if they are VISIBLE, and move the model to the device."
   ]
  },
  {
   "cell_type": "code",
   "execution_count": 7,
   "metadata": {
    "scrolled": true
   },
   "outputs": [
    {
     "name": "stderr",
     "output_type": "stream",
     "text": [
      "WARNING:root:Malformed experiment 'ML'. Detailed error Yaml file '/share/lazy/pv-finder_model_repo/ML/meta.yaml' does not exist.\n",
      "Traceback (most recent call last):\n",
      "  File \"/home/michael24peters/.local/lib/python3.7/site-packages/mlflow/store/tracking/file_store.py\", line 197, in list_experiments\n",
      "    experiment = self._get_experiment(exp_id, view_type)\n",
      "  File \"/home/michael24peters/.local/lib/python3.7/site-packages/mlflow/store/tracking/file_store.py\", line 260, in _get_experiment\n",
      "    meta = read_yaml(experiment_dir, FileStore.META_DATA_FILE_NAME)\n",
      "  File \"/home/michael24peters/.local/lib/python3.7/site-packages/mlflow/utils/file_utils.py\", line 167, in read_yaml\n",
      "    raise MissingConfigException(\"Yaml file '%s' does not exist.\" % file_path)\n",
      "mlflow.exceptions.MissingConfigException: Yaml file '/share/lazy/pv-finder_model_repo/ML/meta.yaml' does not exist.\n"
     ]
    }
   ],
   "source": [
    "model = ModelXX()\n",
    "\n",
    "##summary(model, input_size=(4, 4000))\n",
    "##print(model.parameters)\n",
    "\n",
    "mlflow.tracking.set_tracking_uri('file:/share/lazy/pv-finder_model_repo')\n",
    "mlflow.set_experiment('Four Feature AllCNN')"
   ]
  },
  {
   "cell_type": "code",
   "execution_count": 8,
   "metadata": {
    "scrolled": true
   },
   "outputs": [
    {
     "name": "stdout",
     "output_type": "stream",
     "text": [
      "Let's use 1 GPUs!\n"
     ]
    }
   ],
   "source": [
    "print(\"Let's use\", torch.cuda.device_count(), \"GPUs!\")\n",
    "if torch.cuda.device_count() > 1:\n",
    "    model = torch.nn.DataParallel(model)"
   ]
  },
  {
   "cell_type": "code",
   "execution_count": 9,
   "metadata": {},
   "outputs": [
    {
     "name": "stdout",
     "output_type": "stream",
     "text": [
      "we also froze 9 weights\n",
      "Of the 32.5 parameter layers to update in the current model, 9.0 were loaded\n"
     ]
    }
   ],
   "source": [
    "##  mds 200121 loss = Loss(epsilon=1e-5,coefficient=1.0)\n",
    "loss = Loss(epsilon=1e-5,coefficient=2.5)\n",
    "optimizer = torch.optim.Adam(model.parameters(), lr=args.lr)\n",
    "\n",
    "##  use the first five layers from a pre-existing model\n",
    "##  see example at https://discuss.pytorch.org/t/how-to-load-part-of-pre-trained-model/1113\n",
    "##   ML -> /share/lazy/sokoloff/ML\n",
    "\n",
    "#path = 'run_stats.pyt'\n",
    "#load_full_state(model, optimizer, path, freeze_weights=True)\n",
    "# For other pretrained models, go to MLFlow and find the path for \"run_stats.pyt\"\n",
    "pretrained_dict = '/share/lazy/pv-finder_model_repo/12/07cfa483f923494c94001fe45115c591/artifacts/run_stats.pyt'\n",
    "load_full_state(model, optimizer, pretrained_dict, freeze_weights=True)"
   ]
  },
  {
   "cell_type": "markdown",
   "metadata": {},
   "source": [
    "Let's move the model's weight matricies to the GPU:"
   ]
  },
  {
   "cell_type": "code",
   "execution_count": 10,
   "metadata": {
    "scrolled": true
   },
   "outputs": [
    {
     "data": {
      "text/plain": [
       "ACN_2_10L_4S_BN(\n",
       "  (conv1): Conv1d(1, 20, kernel_size=(25,), stride=(1,), padding=(12,))\n",
       "  (conv2): Conv1d(20, 10, kernel_size=(15,), stride=(1,), padding=(7,))\n",
       "  (conv3): Conv1d(30, 10, kernel_size=(15,), stride=(1,), padding=(7,))\n",
       "  (conv4): Conv1d(10, 10, kernel_size=(15,), stride=(1,), padding=(7,))\n",
       "  (conv5): Conv1d(20, 10, kernel_size=(15,), stride=(1,), padding=(7,))\n",
       "  (conv6): Conv1d(10, 10, kernel_size=(15,), stride=(1,), padding=(7,))\n",
       "  (conv7): Conv1d(20, 7, kernel_size=(5,), stride=(1,), padding=(2,))\n",
       "  (conv8): Conv1d(7, 3, kernel_size=(5,), stride=(1,), padding=(2,))\n",
       "  (conv9): Conv1d(10, 1, kernel_size=(5,), stride=(1,), padding=(2,))\n",
       "  (finalFilter): Conv1d(1, 1, kernel_size=(91,), stride=(1,), padding=(45,))\n",
       "  (conv1dropout): Dropout(p=0.15, inplace=False)\n",
       "  (conv2dropout): Dropout(p=0.15, inplace=False)\n",
       "  (conv3dropout): Dropout(p=0.15, inplace=False)\n",
       "  (conv4dropout): Dropout(p=0.15, inplace=False)\n",
       "  (conv5dropout): Dropout(p=0.15, inplace=False)\n",
       "  (conv6dropout): Dropout(p=0.15, inplace=False)\n",
       "  (conv7dropout): Dropout(p=0.15, inplace=False)\n",
       "  (conv8dropout): Dropout(p=0.15, inplace=False)\n",
       "  (conv9dropout): Dropout(p=0.15, inplace=False)\n",
       "  (bn1): BatchNorm1d(20, eps=1e-05, momentum=0.1, affine=True, track_running_stats=True)\n",
       "  (bn2): BatchNorm1d(10, eps=1e-05, momentum=0.1, affine=True, track_running_stats=True)\n",
       "  (bn3): BatchNorm1d(10, eps=1e-05, momentum=0.1, affine=True, track_running_stats=True)\n",
       "  (bn4): BatchNorm1d(10, eps=1e-05, momentum=0.1, affine=True, track_running_stats=True)\n",
       "  (bn5): BatchNorm1d(10, eps=1e-05, momentum=0.1, affine=True, track_running_stats=True)\n",
       "  (bn6): BatchNorm1d(10, eps=1e-05, momentum=0.1, affine=True, track_running_stats=True)\n",
       "  (bn7): BatchNorm1d(7, eps=1e-05, momentum=0.1, affine=True, track_running_stats=True)\n",
       "  (bn8): BatchNorm1d(3, eps=1e-05, momentum=0.1, affine=True, track_running_stats=True)\n",
       "  (bn9): BatchNorm1d(1, eps=1e-05, momentum=0.1, affine=True, track_running_stats=True)\n",
       ")"
      ]
     },
     "execution_count": 10,
     "metadata": {},
     "output_type": "execute_result"
    }
   ],
   "source": [
    "model.to(device)"
   ]
  },
  {
   "cell_type": "markdown",
   "metadata": {},
   "source": [
    "## Train \n",
    "\n",
    "\n",
    "\n",
    "The body of this loop runs once per epoch. Results is a named tuple of values (loss per epoch for training and validation, time each). Start by setting up a plot first:"
   ]
  },
  {
   "cell_type": "code",
   "execution_count": 11,
   "metadata": {},
   "outputs": [
    {
     "data": {
      "application/javascript": [
       "/* Put everything inside the global mpl namespace */\n",
       "window.mpl = {};\n",
       "\n",
       "\n",
       "mpl.get_websocket_type = function() {\n",
       "    if (typeof(WebSocket) !== 'undefined') {\n",
       "        return WebSocket;\n",
       "    } else if (typeof(MozWebSocket) !== 'undefined') {\n",
       "        return MozWebSocket;\n",
       "    } else {\n",
       "        alert('Your browser does not have WebSocket support. ' +\n",
       "              'Please try Chrome, Safari or Firefox ≥ 6. ' +\n",
       "              'Firefox 4 and 5 are also supported but you ' +\n",
       "              'have to enable WebSockets in about:config.');\n",
       "    };\n",
       "}\n",
       "\n",
       "mpl.figure = function(figure_id, websocket, ondownload, parent_element) {\n",
       "    this.id = figure_id;\n",
       "\n",
       "    this.ws = websocket;\n",
       "\n",
       "    this.supports_binary = (this.ws.binaryType != undefined);\n",
       "\n",
       "    if (!this.supports_binary) {\n",
       "        var warnings = document.getElementById(\"mpl-warnings\");\n",
       "        if (warnings) {\n",
       "            warnings.style.display = 'block';\n",
       "            warnings.textContent = (\n",
       "                \"This browser does not support binary websocket messages. \" +\n",
       "                    \"Performance may be slow.\");\n",
       "        }\n",
       "    }\n",
       "\n",
       "    this.imageObj = new Image();\n",
       "\n",
       "    this.context = undefined;\n",
       "    this.message = undefined;\n",
       "    this.canvas = undefined;\n",
       "    this.rubberband_canvas = undefined;\n",
       "    this.rubberband_context = undefined;\n",
       "    this.format_dropdown = undefined;\n",
       "\n",
       "    this.image_mode = 'full';\n",
       "\n",
       "    this.root = $('<div/>');\n",
       "    this._root_extra_style(this.root)\n",
       "    this.root.attr('style', 'display: inline-block');\n",
       "\n",
       "    $(parent_element).append(this.root);\n",
       "\n",
       "    this._init_header(this);\n",
       "    this._init_canvas(this);\n",
       "    this._init_toolbar(this);\n",
       "\n",
       "    var fig = this;\n",
       "\n",
       "    this.waiting = false;\n",
       "\n",
       "    this.ws.onopen =  function () {\n",
       "            fig.send_message(\"supports_binary\", {value: fig.supports_binary});\n",
       "            fig.send_message(\"send_image_mode\", {});\n",
       "            if (mpl.ratio != 1) {\n",
       "                fig.send_message(\"set_dpi_ratio\", {'dpi_ratio': mpl.ratio});\n",
       "            }\n",
       "            fig.send_message(\"refresh\", {});\n",
       "        }\n",
       "\n",
       "    this.imageObj.onload = function() {\n",
       "            if (fig.image_mode == 'full') {\n",
       "                // Full images could contain transparency (where diff images\n",
       "                // almost always do), so we need to clear the canvas so that\n",
       "                // there is no ghosting.\n",
       "                fig.context.clearRect(0, 0, fig.canvas.width, fig.canvas.height);\n",
       "            }\n",
       "            fig.context.drawImage(fig.imageObj, 0, 0);\n",
       "        };\n",
       "\n",
       "    this.imageObj.onunload = function() {\n",
       "        fig.ws.close();\n",
       "    }\n",
       "\n",
       "    this.ws.onmessage = this._make_on_message_function(this);\n",
       "\n",
       "    this.ondownload = ondownload;\n",
       "}\n",
       "\n",
       "mpl.figure.prototype._init_header = function() {\n",
       "    var titlebar = $(\n",
       "        '<div class=\"ui-dialog-titlebar ui-widget-header ui-corner-all ' +\n",
       "        'ui-helper-clearfix\"/>');\n",
       "    var titletext = $(\n",
       "        '<div class=\"ui-dialog-title\" style=\"width: 100%; ' +\n",
       "        'text-align: center; padding: 3px;\"/>');\n",
       "    titlebar.append(titletext)\n",
       "    this.root.append(titlebar);\n",
       "    this.header = titletext[0];\n",
       "}\n",
       "\n",
       "\n",
       "\n",
       "mpl.figure.prototype._canvas_extra_style = function(canvas_div) {\n",
       "\n",
       "}\n",
       "\n",
       "\n",
       "mpl.figure.prototype._root_extra_style = function(canvas_div) {\n",
       "\n",
       "}\n",
       "\n",
       "mpl.figure.prototype._init_canvas = function() {\n",
       "    var fig = this;\n",
       "\n",
       "    var canvas_div = $('<div/>');\n",
       "\n",
       "    canvas_div.attr('style', 'position: relative; clear: both; outline: 0');\n",
       "\n",
       "    function canvas_keyboard_event(event) {\n",
       "        return fig.key_event(event, event['data']);\n",
       "    }\n",
       "\n",
       "    canvas_div.keydown('key_press', canvas_keyboard_event);\n",
       "    canvas_div.keyup('key_release', canvas_keyboard_event);\n",
       "    this.canvas_div = canvas_div\n",
       "    this._canvas_extra_style(canvas_div)\n",
       "    this.root.append(canvas_div);\n",
       "\n",
       "    var canvas = $('<canvas/>');\n",
       "    canvas.addClass('mpl-canvas');\n",
       "    canvas.attr('style', \"left: 0; top: 0; z-index: 0; outline: 0\")\n",
       "\n",
       "    this.canvas = canvas[0];\n",
       "    this.context = canvas[0].getContext(\"2d\");\n",
       "\n",
       "    var backingStore = this.context.backingStorePixelRatio ||\n",
       "\tthis.context.webkitBackingStorePixelRatio ||\n",
       "\tthis.context.mozBackingStorePixelRatio ||\n",
       "\tthis.context.msBackingStorePixelRatio ||\n",
       "\tthis.context.oBackingStorePixelRatio ||\n",
       "\tthis.context.backingStorePixelRatio || 1;\n",
       "\n",
       "    mpl.ratio = (window.devicePixelRatio || 1) / backingStore;\n",
       "\n",
       "    var rubberband = $('<canvas/>');\n",
       "    rubberband.attr('style', \"position: absolute; left: 0; top: 0; z-index: 1;\")\n",
       "\n",
       "    var pass_mouse_events = true;\n",
       "\n",
       "    canvas_div.resizable({\n",
       "        start: function(event, ui) {\n",
       "            pass_mouse_events = false;\n",
       "        },\n",
       "        resize: function(event, ui) {\n",
       "            fig.request_resize(ui.size.width, ui.size.height);\n",
       "        },\n",
       "        stop: function(event, ui) {\n",
       "            pass_mouse_events = true;\n",
       "            fig.request_resize(ui.size.width, ui.size.height);\n",
       "        },\n",
       "    });\n",
       "\n",
       "    function mouse_event_fn(event) {\n",
       "        if (pass_mouse_events)\n",
       "            return fig.mouse_event(event, event['data']);\n",
       "    }\n",
       "\n",
       "    rubberband.mousedown('button_press', mouse_event_fn);\n",
       "    rubberband.mouseup('button_release', mouse_event_fn);\n",
       "    // Throttle sequential mouse events to 1 every 20ms.\n",
       "    rubberband.mousemove('motion_notify', mouse_event_fn);\n",
       "\n",
       "    rubberband.mouseenter('figure_enter', mouse_event_fn);\n",
       "    rubberband.mouseleave('figure_leave', mouse_event_fn);\n",
       "\n",
       "    canvas_div.on(\"wheel\", function (event) {\n",
       "        event = event.originalEvent;\n",
       "        event['data'] = 'scroll'\n",
       "        if (event.deltaY < 0) {\n",
       "            event.step = 1;\n",
       "        } else {\n",
       "            event.step = -1;\n",
       "        }\n",
       "        mouse_event_fn(event);\n",
       "    });\n",
       "\n",
       "    canvas_div.append(canvas);\n",
       "    canvas_div.append(rubberband);\n",
       "\n",
       "    this.rubberband = rubberband;\n",
       "    this.rubberband_canvas = rubberband[0];\n",
       "    this.rubberband_context = rubberband[0].getContext(\"2d\");\n",
       "    this.rubberband_context.strokeStyle = \"#000000\";\n",
       "\n",
       "    this._resize_canvas = function(width, height) {\n",
       "        // Keep the size of the canvas, canvas container, and rubber band\n",
       "        // canvas in synch.\n",
       "        canvas_div.css('width', width)\n",
       "        canvas_div.css('height', height)\n",
       "\n",
       "        canvas.attr('width', width * mpl.ratio);\n",
       "        canvas.attr('height', height * mpl.ratio);\n",
       "        canvas.attr('style', 'width: ' + width + 'px; height: ' + height + 'px;');\n",
       "\n",
       "        rubberband.attr('width', width);\n",
       "        rubberband.attr('height', height);\n",
       "    }\n",
       "\n",
       "    // Set the figure to an initial 600x600px, this will subsequently be updated\n",
       "    // upon first draw.\n",
       "    this._resize_canvas(600, 600);\n",
       "\n",
       "    // Disable right mouse context menu.\n",
       "    $(this.rubberband_canvas).bind(\"contextmenu\",function(e){\n",
       "        return false;\n",
       "    });\n",
       "\n",
       "    function set_focus () {\n",
       "        canvas.focus();\n",
       "        canvas_div.focus();\n",
       "    }\n",
       "\n",
       "    window.setTimeout(set_focus, 100);\n",
       "}\n",
       "\n",
       "mpl.figure.prototype._init_toolbar = function() {\n",
       "    var fig = this;\n",
       "\n",
       "    var nav_element = $('<div/>');\n",
       "    nav_element.attr('style', 'width: 100%');\n",
       "    this.root.append(nav_element);\n",
       "\n",
       "    // Define a callback function for later on.\n",
       "    function toolbar_event(event) {\n",
       "        return fig.toolbar_button_onclick(event['data']);\n",
       "    }\n",
       "    function toolbar_mouse_event(event) {\n",
       "        return fig.toolbar_button_onmouseover(event['data']);\n",
       "    }\n",
       "\n",
       "    for(var toolbar_ind in mpl.toolbar_items) {\n",
       "        var name = mpl.toolbar_items[toolbar_ind][0];\n",
       "        var tooltip = mpl.toolbar_items[toolbar_ind][1];\n",
       "        var image = mpl.toolbar_items[toolbar_ind][2];\n",
       "        var method_name = mpl.toolbar_items[toolbar_ind][3];\n",
       "\n",
       "        if (!name) {\n",
       "            // put a spacer in here.\n",
       "            continue;\n",
       "        }\n",
       "        var button = $('<button/>');\n",
       "        button.addClass('ui-button ui-widget ui-state-default ui-corner-all ' +\n",
       "                        'ui-button-icon-only');\n",
       "        button.attr('role', 'button');\n",
       "        button.attr('aria-disabled', 'false');\n",
       "        button.click(method_name, toolbar_event);\n",
       "        button.mouseover(tooltip, toolbar_mouse_event);\n",
       "\n",
       "        var icon_img = $('<span/>');\n",
       "        icon_img.addClass('ui-button-icon-primary ui-icon');\n",
       "        icon_img.addClass(image);\n",
       "        icon_img.addClass('ui-corner-all');\n",
       "\n",
       "        var tooltip_span = $('<span/>');\n",
       "        tooltip_span.addClass('ui-button-text');\n",
       "        tooltip_span.html(tooltip);\n",
       "\n",
       "        button.append(icon_img);\n",
       "        button.append(tooltip_span);\n",
       "\n",
       "        nav_element.append(button);\n",
       "    }\n",
       "\n",
       "    var fmt_picker_span = $('<span/>');\n",
       "\n",
       "    var fmt_picker = $('<select/>');\n",
       "    fmt_picker.addClass('mpl-toolbar-option ui-widget ui-widget-content');\n",
       "    fmt_picker_span.append(fmt_picker);\n",
       "    nav_element.append(fmt_picker_span);\n",
       "    this.format_dropdown = fmt_picker[0];\n",
       "\n",
       "    for (var ind in mpl.extensions) {\n",
       "        var fmt = mpl.extensions[ind];\n",
       "        var option = $(\n",
       "            '<option/>', {selected: fmt === mpl.default_extension}).html(fmt);\n",
       "        fmt_picker.append(option);\n",
       "    }\n",
       "\n",
       "    // Add hover states to the ui-buttons\n",
       "    $( \".ui-button\" ).hover(\n",
       "        function() { $(this).addClass(\"ui-state-hover\");},\n",
       "        function() { $(this).removeClass(\"ui-state-hover\");}\n",
       "    );\n",
       "\n",
       "    var status_bar = $('<span class=\"mpl-message\"/>');\n",
       "    nav_element.append(status_bar);\n",
       "    this.message = status_bar[0];\n",
       "}\n",
       "\n",
       "mpl.figure.prototype.request_resize = function(x_pixels, y_pixels) {\n",
       "    // Request matplotlib to resize the figure. Matplotlib will then trigger a resize in the client,\n",
       "    // which will in turn request a refresh of the image.\n",
       "    this.send_message('resize', {'width': x_pixels, 'height': y_pixels});\n",
       "}\n",
       "\n",
       "mpl.figure.prototype.send_message = function(type, properties) {\n",
       "    properties['type'] = type;\n",
       "    properties['figure_id'] = this.id;\n",
       "    this.ws.send(JSON.stringify(properties));\n",
       "}\n",
       "\n",
       "mpl.figure.prototype.send_draw_message = function() {\n",
       "    if (!this.waiting) {\n",
       "        this.waiting = true;\n",
       "        this.ws.send(JSON.stringify({type: \"draw\", figure_id: this.id}));\n",
       "    }\n",
       "}\n",
       "\n",
       "\n",
       "mpl.figure.prototype.handle_save = function(fig, msg) {\n",
       "    var format_dropdown = fig.format_dropdown;\n",
       "    var format = format_dropdown.options[format_dropdown.selectedIndex].value;\n",
       "    fig.ondownload(fig, format);\n",
       "}\n",
       "\n",
       "\n",
       "mpl.figure.prototype.handle_resize = function(fig, msg) {\n",
       "    var size = msg['size'];\n",
       "    if (size[0] != fig.canvas.width || size[1] != fig.canvas.height) {\n",
       "        fig._resize_canvas(size[0], size[1]);\n",
       "        fig.send_message(\"refresh\", {});\n",
       "    };\n",
       "}\n",
       "\n",
       "mpl.figure.prototype.handle_rubberband = function(fig, msg) {\n",
       "    var x0 = msg['x0'] / mpl.ratio;\n",
       "    var y0 = (fig.canvas.height - msg['y0']) / mpl.ratio;\n",
       "    var x1 = msg['x1'] / mpl.ratio;\n",
       "    var y1 = (fig.canvas.height - msg['y1']) / mpl.ratio;\n",
       "    x0 = Math.floor(x0) + 0.5;\n",
       "    y0 = Math.floor(y0) + 0.5;\n",
       "    x1 = Math.floor(x1) + 0.5;\n",
       "    y1 = Math.floor(y1) + 0.5;\n",
       "    var min_x = Math.min(x0, x1);\n",
       "    var min_y = Math.min(y0, y1);\n",
       "    var width = Math.abs(x1 - x0);\n",
       "    var height = Math.abs(y1 - y0);\n",
       "\n",
       "    fig.rubberband_context.clearRect(\n",
       "        0, 0, fig.canvas.width / mpl.ratio, fig.canvas.height / mpl.ratio);\n",
       "\n",
       "    fig.rubberband_context.strokeRect(min_x, min_y, width, height);\n",
       "}\n",
       "\n",
       "mpl.figure.prototype.handle_figure_label = function(fig, msg) {\n",
       "    // Updates the figure title.\n",
       "    fig.header.textContent = msg['label'];\n",
       "}\n",
       "\n",
       "mpl.figure.prototype.handle_cursor = function(fig, msg) {\n",
       "    var cursor = msg['cursor'];\n",
       "    switch(cursor)\n",
       "    {\n",
       "    case 0:\n",
       "        cursor = 'pointer';\n",
       "        break;\n",
       "    case 1:\n",
       "        cursor = 'default';\n",
       "        break;\n",
       "    case 2:\n",
       "        cursor = 'crosshair';\n",
       "        break;\n",
       "    case 3:\n",
       "        cursor = 'move';\n",
       "        break;\n",
       "    }\n",
       "    fig.rubberband_canvas.style.cursor = cursor;\n",
       "}\n",
       "\n",
       "mpl.figure.prototype.handle_message = function(fig, msg) {\n",
       "    fig.message.textContent = msg['message'];\n",
       "}\n",
       "\n",
       "mpl.figure.prototype.handle_draw = function(fig, msg) {\n",
       "    // Request the server to send over a new figure.\n",
       "    fig.send_draw_message();\n",
       "}\n",
       "\n",
       "mpl.figure.prototype.handle_image_mode = function(fig, msg) {\n",
       "    fig.image_mode = msg['mode'];\n",
       "}\n",
       "\n",
       "mpl.figure.prototype.updated_canvas_event = function() {\n",
       "    // Called whenever the canvas gets updated.\n",
       "    this.send_message(\"ack\", {});\n",
       "}\n",
       "\n",
       "// A function to construct a web socket function for onmessage handling.\n",
       "// Called in the figure constructor.\n",
       "mpl.figure.prototype._make_on_message_function = function(fig) {\n",
       "    return function socket_on_message(evt) {\n",
       "        if (evt.data instanceof Blob) {\n",
       "            /* FIXME: We get \"Resource interpreted as Image but\n",
       "             * transferred with MIME type text/plain:\" errors on\n",
       "             * Chrome.  But how to set the MIME type?  It doesn't seem\n",
       "             * to be part of the websocket stream */\n",
       "            evt.data.type = \"image/png\";\n",
       "\n",
       "            /* Free the memory for the previous frames */\n",
       "            if (fig.imageObj.src) {\n",
       "                (window.URL || window.webkitURL).revokeObjectURL(\n",
       "                    fig.imageObj.src);\n",
       "            }\n",
       "\n",
       "            fig.imageObj.src = (window.URL || window.webkitURL).createObjectURL(\n",
       "                evt.data);\n",
       "            fig.updated_canvas_event();\n",
       "            fig.waiting = false;\n",
       "            return;\n",
       "        }\n",
       "        else if (typeof evt.data === 'string' && evt.data.slice(0, 21) == \"data:image/png;base64\") {\n",
       "            fig.imageObj.src = evt.data;\n",
       "            fig.updated_canvas_event();\n",
       "            fig.waiting = false;\n",
       "            return;\n",
       "        }\n",
       "\n",
       "        var msg = JSON.parse(evt.data);\n",
       "        var msg_type = msg['type'];\n",
       "\n",
       "        // Call the  \"handle_{type}\" callback, which takes\n",
       "        // the figure and JSON message as its only arguments.\n",
       "        try {\n",
       "            var callback = fig[\"handle_\" + msg_type];\n",
       "        } catch (e) {\n",
       "            console.log(\"No handler for the '\" + msg_type + \"' message type: \", msg);\n",
       "            return;\n",
       "        }\n",
       "\n",
       "        if (callback) {\n",
       "            try {\n",
       "                // console.log(\"Handling '\" + msg_type + \"' message: \", msg);\n",
       "                callback(fig, msg);\n",
       "            } catch (e) {\n",
       "                console.log(\"Exception inside the 'handler_\" + msg_type + \"' callback:\", e, e.stack, msg);\n",
       "            }\n",
       "        }\n",
       "    };\n",
       "}\n",
       "\n",
       "// from http://stackoverflow.com/questions/1114465/getting-mouse-location-in-canvas\n",
       "mpl.findpos = function(e) {\n",
       "    //this section is from http://www.quirksmode.org/js/events_properties.html\n",
       "    var targ;\n",
       "    if (!e)\n",
       "        e = window.event;\n",
       "    if (e.target)\n",
       "        targ = e.target;\n",
       "    else if (e.srcElement)\n",
       "        targ = e.srcElement;\n",
       "    if (targ.nodeType == 3) // defeat Safari bug\n",
       "        targ = targ.parentNode;\n",
       "\n",
       "    // jQuery normalizes the pageX and pageY\n",
       "    // pageX,Y are the mouse positions relative to the document\n",
       "    // offset() returns the position of the element relative to the document\n",
       "    var x = e.pageX - $(targ).offset().left;\n",
       "    var y = e.pageY - $(targ).offset().top;\n",
       "\n",
       "    return {\"x\": x, \"y\": y};\n",
       "};\n",
       "\n",
       "/*\n",
       " * return a copy of an object with only non-object keys\n",
       " * we need this to avoid circular references\n",
       " * http://stackoverflow.com/a/24161582/3208463\n",
       " */\n",
       "function simpleKeys (original) {\n",
       "  return Object.keys(original).reduce(function (obj, key) {\n",
       "    if (typeof original[key] !== 'object')\n",
       "        obj[key] = original[key]\n",
       "    return obj;\n",
       "  }, {});\n",
       "}\n",
       "\n",
       "mpl.figure.prototype.mouse_event = function(event, name) {\n",
       "    var canvas_pos = mpl.findpos(event)\n",
       "\n",
       "    if (name === 'button_press')\n",
       "    {\n",
       "        this.canvas.focus();\n",
       "        this.canvas_div.focus();\n",
       "    }\n",
       "\n",
       "    var x = canvas_pos.x * mpl.ratio;\n",
       "    var y = canvas_pos.y * mpl.ratio;\n",
       "\n",
       "    this.send_message(name, {x: x, y: y, button: event.button,\n",
       "                             step: event.step,\n",
       "                             guiEvent: simpleKeys(event)});\n",
       "\n",
       "    /* This prevents the web browser from automatically changing to\n",
       "     * the text insertion cursor when the button is pressed.  We want\n",
       "     * to control all of the cursor setting manually through the\n",
       "     * 'cursor' event from matplotlib */\n",
       "    event.preventDefault();\n",
       "    return false;\n",
       "}\n",
       "\n",
       "mpl.figure.prototype._key_event_extra = function(event, name) {\n",
       "    // Handle any extra behaviour associated with a key event\n",
       "}\n",
       "\n",
       "mpl.figure.prototype.key_event = function(event, name) {\n",
       "\n",
       "    // Prevent repeat events\n",
       "    if (name == 'key_press')\n",
       "    {\n",
       "        if (event.which === this._key)\n",
       "            return;\n",
       "        else\n",
       "            this._key = event.which;\n",
       "    }\n",
       "    if (name == 'key_release')\n",
       "        this._key = null;\n",
       "\n",
       "    var value = '';\n",
       "    if (event.ctrlKey && event.which != 17)\n",
       "        value += \"ctrl+\";\n",
       "    if (event.altKey && event.which != 18)\n",
       "        value += \"alt+\";\n",
       "    if (event.shiftKey && event.which != 16)\n",
       "        value += \"shift+\";\n",
       "\n",
       "    value += 'k';\n",
       "    value += event.which.toString();\n",
       "\n",
       "    this._key_event_extra(event, name);\n",
       "\n",
       "    this.send_message(name, {key: value,\n",
       "                             guiEvent: simpleKeys(event)});\n",
       "    return false;\n",
       "}\n",
       "\n",
       "mpl.figure.prototype.toolbar_button_onclick = function(name) {\n",
       "    if (name == 'download') {\n",
       "        this.handle_save(this, null);\n",
       "    } else {\n",
       "        this.send_message(\"toolbar_button\", {name: name});\n",
       "    }\n",
       "};\n",
       "\n",
       "mpl.figure.prototype.toolbar_button_onmouseover = function(tooltip) {\n",
       "    this.message.textContent = tooltip;\n",
       "};\n",
       "mpl.toolbar_items = [[\"Home\", \"Reset original view\", \"fa fa-home icon-home\", \"home\"], [\"Back\", \"Back to previous view\", \"fa fa-arrow-left icon-arrow-left\", \"back\"], [\"Forward\", \"Forward to next view\", \"fa fa-arrow-right icon-arrow-right\", \"forward\"], [\"\", \"\", \"\", \"\"], [\"Pan\", \"Pan axes with left mouse, zoom with right\", \"fa fa-arrows icon-move\", \"pan\"], [\"Zoom\", \"Zoom to rectangle\", \"fa fa-square-o icon-check-empty\", \"zoom\"], [\"\", \"\", \"\", \"\"], [\"Download\", \"Download plot\", \"fa fa-floppy-o icon-save\", \"download\"]];\n",
       "\n",
       "mpl.extensions = [\"eps\", \"jpeg\", \"pdf\", \"png\", \"ps\", \"raw\", \"svg\", \"tif\"];\n",
       "\n",
       "mpl.default_extension = \"png\";var comm_websocket_adapter = function(comm) {\n",
       "    // Create a \"websocket\"-like object which calls the given IPython comm\n",
       "    // object with the appropriate methods. Currently this is a non binary\n",
       "    // socket, so there is still some room for performance tuning.\n",
       "    var ws = {};\n",
       "\n",
       "    ws.close = function() {\n",
       "        comm.close()\n",
       "    };\n",
       "    ws.send = function(m) {\n",
       "        //console.log('sending', m);\n",
       "        comm.send(m);\n",
       "    };\n",
       "    // Register the callback with on_msg.\n",
       "    comm.on_msg(function(msg) {\n",
       "        //console.log('receiving', msg['content']['data'], msg);\n",
       "        // Pass the mpl event to the overridden (by mpl) onmessage function.\n",
       "        ws.onmessage(msg['content']['data'])\n",
       "    });\n",
       "    return ws;\n",
       "}\n",
       "\n",
       "mpl.mpl_figure_comm = function(comm, msg) {\n",
       "    // This is the function which gets called when the mpl process\n",
       "    // starts-up an IPython Comm through the \"matplotlib\" channel.\n",
       "\n",
       "    var id = msg.content.data.id;\n",
       "    // Get hold of the div created by the display call when the Comm\n",
       "    // socket was opened in Python.\n",
       "    var element = $(\"#\" + id);\n",
       "    var ws_proxy = comm_websocket_adapter(comm)\n",
       "\n",
       "    function ondownload(figure, format) {\n",
       "        window.open(figure.imageObj.src);\n",
       "    }\n",
       "\n",
       "    var fig = new mpl.figure(id, ws_proxy,\n",
       "                           ondownload,\n",
       "                           element.get(0));\n",
       "\n",
       "    // Call onopen now - mpl needs it, as it is assuming we've passed it a real\n",
       "    // web socket which is closed, not our websocket->open comm proxy.\n",
       "    ws_proxy.onopen();\n",
       "\n",
       "    fig.parent_element = element.get(0);\n",
       "    fig.cell_info = mpl.find_output_cell(\"<div id='\" + id + \"'></div>\");\n",
       "    if (!fig.cell_info) {\n",
       "        console.error(\"Failed to find cell for figure\", id, fig);\n",
       "        return;\n",
       "    }\n",
       "\n",
       "    var output_index = fig.cell_info[2]\n",
       "    var cell = fig.cell_info[0];\n",
       "\n",
       "};\n",
       "\n",
       "mpl.figure.prototype.handle_close = function(fig, msg) {\n",
       "    var width = fig.canvas.width/mpl.ratio\n",
       "    fig.root.unbind('remove')\n",
       "\n",
       "    // Update the output cell to use the data from the current canvas.\n",
       "    fig.push_to_output();\n",
       "    var dataURL = fig.canvas.toDataURL();\n",
       "    // Re-enable the keyboard manager in IPython - without this line, in FF,\n",
       "    // the notebook keyboard shortcuts fail.\n",
       "    IPython.keyboard_manager.enable()\n",
       "    $(fig.parent_element).html('<img src=\"' + dataURL + '\" width=\"' + width + '\">');\n",
       "    fig.close_ws(fig, msg);\n",
       "}\n",
       "\n",
       "mpl.figure.prototype.close_ws = function(fig, msg){\n",
       "    fig.send_message('closing', msg);\n",
       "    // fig.ws.close()\n",
       "}\n",
       "\n",
       "mpl.figure.prototype.push_to_output = function(remove_interactive) {\n",
       "    // Turn the data on the canvas into data in the output cell.\n",
       "    var width = this.canvas.width/mpl.ratio\n",
       "    var dataURL = this.canvas.toDataURL();\n",
       "    this.cell_info[1]['text/html'] = '<img src=\"' + dataURL + '\" width=\"' + width + '\">';\n",
       "}\n",
       "\n",
       "mpl.figure.prototype.updated_canvas_event = function() {\n",
       "    // Tell IPython that the notebook contents must change.\n",
       "    IPython.notebook.set_dirty(true);\n",
       "    this.send_message(\"ack\", {});\n",
       "    var fig = this;\n",
       "    // Wait a second, then push the new image to the DOM so\n",
       "    // that it is saved nicely (might be nice to debounce this).\n",
       "    setTimeout(function () { fig.push_to_output() }, 1000);\n",
       "}\n",
       "\n",
       "mpl.figure.prototype._init_toolbar = function() {\n",
       "    var fig = this;\n",
       "\n",
       "    var nav_element = $('<div/>');\n",
       "    nav_element.attr('style', 'width: 100%');\n",
       "    this.root.append(nav_element);\n",
       "\n",
       "    // Define a callback function for later on.\n",
       "    function toolbar_event(event) {\n",
       "        return fig.toolbar_button_onclick(event['data']);\n",
       "    }\n",
       "    function toolbar_mouse_event(event) {\n",
       "        return fig.toolbar_button_onmouseover(event['data']);\n",
       "    }\n",
       "\n",
       "    for(var toolbar_ind in mpl.toolbar_items){\n",
       "        var name = mpl.toolbar_items[toolbar_ind][0];\n",
       "        var tooltip = mpl.toolbar_items[toolbar_ind][1];\n",
       "        var image = mpl.toolbar_items[toolbar_ind][2];\n",
       "        var method_name = mpl.toolbar_items[toolbar_ind][3];\n",
       "\n",
       "        if (!name) { continue; };\n",
       "\n",
       "        var button = $('<button class=\"btn btn-default\" href=\"#\" title=\"' + name + '\"><i class=\"fa ' + image + ' fa-lg\"></i></button>');\n",
       "        button.click(method_name, toolbar_event);\n",
       "        button.mouseover(tooltip, toolbar_mouse_event);\n",
       "        nav_element.append(button);\n",
       "    }\n",
       "\n",
       "    // Add the status bar.\n",
       "    var status_bar = $('<span class=\"mpl-message\" style=\"text-align:right; float: right;\"/>');\n",
       "    nav_element.append(status_bar);\n",
       "    this.message = status_bar[0];\n",
       "\n",
       "    // Add the close button to the window.\n",
       "    var buttongrp = $('<div class=\"btn-group inline pull-right\"></div>');\n",
       "    var button = $('<button class=\"btn btn-mini btn-primary\" href=\"#\" title=\"Stop Interaction\"><i class=\"fa fa-power-off icon-remove icon-large\"></i></button>');\n",
       "    button.click(function (evt) { fig.handle_close(fig, {}); } );\n",
       "    button.mouseover('Stop Interaction', toolbar_mouse_event);\n",
       "    buttongrp.append(button);\n",
       "    var titlebar = this.root.find($('.ui-dialog-titlebar'));\n",
       "    titlebar.prepend(buttongrp);\n",
       "}\n",
       "\n",
       "mpl.figure.prototype._root_extra_style = function(el){\n",
       "    var fig = this\n",
       "    el.on(\"remove\", function(){\n",
       "\tfig.close_ws(fig, {});\n",
       "    });\n",
       "}\n",
       "\n",
       "mpl.figure.prototype._canvas_extra_style = function(el){\n",
       "    // this is important to make the div 'focusable\n",
       "    el.attr('tabindex', 0)\n",
       "    // reach out to IPython and tell the keyboard manager to turn it's self\n",
       "    // off when our div gets focus\n",
       "\n",
       "    // location in version 3\n",
       "    if (IPython.notebook.keyboard_manager) {\n",
       "        IPython.notebook.keyboard_manager.register_events(el);\n",
       "    }\n",
       "    else {\n",
       "        // location in version 2\n",
       "        IPython.keyboard_manager.register_events(el);\n",
       "    }\n",
       "\n",
       "}\n",
       "\n",
       "mpl.figure.prototype._key_event_extra = function(event, name) {\n",
       "    var manager = IPython.notebook.keyboard_manager;\n",
       "    if (!manager)\n",
       "        manager = IPython.keyboard_manager;\n",
       "\n",
       "    // Check for shift+enter\n",
       "    if (event.shiftKey && event.which == 13) {\n",
       "        this.canvas_div.blur();\n",
       "        // select the cell after this one\n",
       "        var index = IPython.notebook.find_cell_index(this.cell_info[0]);\n",
       "        IPython.notebook.select(index + 1);\n",
       "    }\n",
       "}\n",
       "\n",
       "mpl.figure.prototype.handle_save = function(fig, msg) {\n",
       "    fig.ondownload(fig, null);\n",
       "}\n",
       "\n",
       "\n",
       "mpl.find_output_cell = function(html_output) {\n",
       "    // Return the cell and output element which can be found *uniquely* in the notebook.\n",
       "    // Note - this is a bit hacky, but it is done because the \"notebook_saving.Notebook\"\n",
       "    // IPython event is triggered only after the cells have been serialised, which for\n",
       "    // our purposes (turning an active figure into a static one), is too late.\n",
       "    var cells = IPython.notebook.get_cells();\n",
       "    var ncells = cells.length;\n",
       "    for (var i=0; i<ncells; i++) {\n",
       "        var cell = cells[i];\n",
       "        if (cell.cell_type === 'code'){\n",
       "            for (var j=0; j<cell.output_area.outputs.length; j++) {\n",
       "                var data = cell.output_area.outputs[j];\n",
       "                if (data.data) {\n",
       "                    // IPython >= 3 moved mimebundle to data attribute of output\n",
       "                    data = data.data;\n",
       "                }\n",
       "                if (data['text/html'] == html_output) {\n",
       "                    return [cell, data, j];\n",
       "                }\n",
       "            }\n",
       "        }\n",
       "    }\n",
       "}\n",
       "\n",
       "// Register the function which deals with the matplotlib target/channel.\n",
       "// The kernel may be null if the page has been refreshed.\n",
       "if (IPython.notebook.kernel != null) {\n",
       "    IPython.notebook.kernel.comm_manager.register_target('matplotlib', mpl.mpl_figure_comm);\n",
       "}\n"
      ],
      "text/plain": [
       "<IPython.core.display.Javascript object>"
      ]
     },
     "metadata": {},
     "output_type": "display_data"
    },
    {
     "data": {
      "text/html": [
       "<img src=\"data:image/png;base64,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\" width=\"1000\">"
      ],
      "text/plain": [
       "<IPython.core.display.HTML object>"
      ]
     },
     "metadata": {},
     "output_type": "display_data"
    }
   ],
   "source": [
    "ax, tax, lax, lines = dual_train_plots()\n",
    "fig = ax.figure\n",
    "plt.tight_layout()\n",
    "# This gets built up during the run - do not rerun this cell\n",
    "results = pd.DataFrame([], columns=Results._fields)"
   ]
  },
  {
   "cell_type": "code",
   "execution_count": 12,
   "metadata": {
    "scrolled": false
   },
   "outputs": [
    {
     "name": "stdout",
     "output_type": "stream",
     "text": [
      "for model:  ACN_2_10L_4S_BN(\n",
      "  (conv1): Conv1d(1, 20, kernel_size=(25,), stride=(1,), padding=(12,))\n",
      "  (conv2): Conv1d(20, 10, kernel_size=(15,), stride=(1,), padding=(7,))\n",
      "  (conv3): Conv1d(30, 10, kernel_size=(15,), stride=(1,), padding=(7,))\n",
      "  (conv4): Conv1d(10, 10, kernel_size=(15,), stride=(1,), padding=(7,))\n",
      "  (conv5): Conv1d(20, 10, kernel_size=(15,), stride=(1,), padding=(7,))\n",
      "  (conv6): Conv1d(10, 10, kernel_size=(15,), stride=(1,), padding=(7,))\n",
      "  (conv7): Conv1d(20, 7, kernel_size=(5,), stride=(1,), padding=(2,))\n",
      "  (conv8): Conv1d(7, 3, kernel_size=(5,), stride=(1,), padding=(2,))\n",
      "  (conv9): Conv1d(10, 1, kernel_size=(5,), stride=(1,), padding=(2,))\n",
      "  (finalFilter): Conv1d(1, 1, kernel_size=(91,), stride=(1,), padding=(45,))\n",
      "  (conv1dropout): Dropout(p=0.15, inplace=False)\n",
      "  (conv2dropout): Dropout(p=0.15, inplace=False)\n",
      "  (conv3dropout): Dropout(p=0.15, inplace=False)\n",
      "  (conv4dropout): Dropout(p=0.15, inplace=False)\n",
      "  (conv5dropout): Dropout(p=0.15, inplace=False)\n",
      "  (conv6dropout): Dropout(p=0.15, inplace=False)\n",
      "  (conv7dropout): Dropout(p=0.15, inplace=False)\n",
      "  (conv8dropout): Dropout(p=0.15, inplace=False)\n",
      "  (conv9dropout): Dropout(p=0.15, inplace=False)\n",
      "  (bn1): BatchNorm1d(20, eps=1e-05, momentum=0.1, affine=True, track_running_stats=True)\n",
      "  (bn2): BatchNorm1d(10, eps=1e-05, momentum=0.1, affine=True, track_running_stats=True)\n",
      "  (bn3): BatchNorm1d(10, eps=1e-05, momentum=0.1, affine=True, track_running_stats=True)\n",
      "  (bn4): BatchNorm1d(10, eps=1e-05, momentum=0.1, affine=True, track_running_stats=True)\n",
      "  (bn5): BatchNorm1d(10, eps=1e-05, momentum=0.1, affine=True, track_running_stats=True)\n",
      "  (bn6): BatchNorm1d(10, eps=1e-05, momentum=0.1, affine=True, track_running_stats=True)\n",
      "  (bn7): BatchNorm1d(7, eps=1e-05, momentum=0.1, affine=True, track_running_stats=True)\n",
      "  (bn8): BatchNorm1d(3, eps=1e-05, momentum=0.1, affine=True, track_running_stats=True)\n",
      "  (bn9): BatchNorm1d(1, eps=1e-05, momentum=0.1, affine=True, track_running_stats=True)\n",
      ")\n",
      "epoch_start 220\n",
      "batch_size 128\n",
      "epochs 100\n",
      "lr 0.0001\n",
      "Number of batches: train = 1250, val = 157\n"
     ]
    },
    {
     "name": "stderr",
     "output_type": "stream",
     "text": [
      "/home/michael24peters/pv-finder/notebooks/model/training.py:95: TqdmDeprecationWarning: This function will be removed in tqdm==5.0.0\n",
      "Please use `tqdm.notebook.tqdm` instead of `tqdm.tqdm_notebook`\n",
      "  file=sys.stderr,\n"
     ]
    },
    {
     "data": {
      "application/vnd.jupyter.widget-view+json": {
       "model_id": "bc4555d489414a0d96a4440c41f18cae",
       "version_major": 2,
       "version_minor": 0
      },
      "text/plain": [
       "HBox(children=(FloatProgress(value=0.0, description='Epochs', layout=Layout(flex='2'), style=ProgressStyle(des…"
      ]
     },
     "metadata": {},
     "output_type": "display_data"
    },
    {
     "data": {
      "application/vnd.jupyter.widget-view+json": {
       "model_id": "",
       "version_major": 2,
       "version_minor": 0
      },
      "text/plain": [
       "HBox(children=(FloatProgress(value=0.0, description='Training', layout=Layout(flex='2'), max=1250.0, style=Pro…"
      ]
     },
     "metadata": {},
     "output_type": "display_data"
    },
    {
     "name": "stdout",
     "output_type": "stream",
     "text": [
      "Epoch 220: train=932.665, val=207.18, took 40.72 s\n",
      "  Validation Found 511 of 108007, added 92586 (eff 0.47%) (4.63 FP/event)\n",
      "Result epoch:  220\n",
      "Average Eff:  0.0\n",
      "Average FP Rate:  0.0\n"
     ]
    },
    {
     "data": {
      "application/vnd.jupyter.widget-view+json": {
       "model_id": "",
       "version_major": 2,
       "version_minor": 0
      },
      "text/plain": [
       "HBox(children=(FloatProgress(value=0.0, description='Training', layout=Layout(flex='2'), max=1250.0, style=Pro…"
      ]
     },
     "metadata": {},
     "output_type": "display_data"
    },
    {
     "name": "stdout",
     "output_type": "stream",
     "text": [
      "Epoch 221: train=179.612, val=45.3211, took 40.249 s\n",
      "  Validation Found 0 of 108007, added 395 (eff 0.00%) (0.0197 FP/event)\n",
      "Result epoch:  221\n",
      "Average Eff:  0.0\n",
      "Average FP Rate:  0.0\n"
     ]
    },
    {
     "data": {
      "application/vnd.jupyter.widget-view+json": {
       "model_id": "",
       "version_major": 2,
       "version_minor": 0
      },
      "text/plain": [
       "HBox(children=(FloatProgress(value=0.0, description='Training', layout=Layout(flex='2'), max=1250.0, style=Pro…"
      ]
     },
     "metadata": {},
     "output_type": "display_data"
    },
    {
     "name": "stdout",
     "output_type": "stream",
     "text": [
      "Epoch 222: train=55.3087, val=42.7908, took 40.221 s\n",
      "  Validation Found 0 of 108007, added 8 (eff 0.00%) (0.0004 FP/event)\n",
      "Result epoch:  222\n",
      "Average Eff:  0.0\n",
      "Average FP Rate:  0.0\n"
     ]
    },
    {
     "data": {
      "application/vnd.jupyter.widget-view+json": {
       "model_id": "",
       "version_major": 2,
       "version_minor": 0
      },
      "text/plain": [
       "HBox(children=(FloatProgress(value=0.0, description='Training', layout=Layout(flex='2'), max=1250.0, style=Pro…"
      ]
     },
     "metadata": {},
     "output_type": "display_data"
    },
    {
     "name": "stdout",
     "output_type": "stream",
     "text": [
      "Epoch 223: train=45.8344, val=42.6514, took 40.184 s\n",
      "  Validation Found 0 of 108007, added 2 (eff 0.00%) (0.0001 FP/event)\n",
      "Result epoch:  223\n",
      "Average Eff:  0.0\n",
      "Average FP Rate:  0.0\n"
     ]
    },
    {
     "data": {
      "application/vnd.jupyter.widget-view+json": {
       "model_id": "",
       "version_major": 2,
       "version_minor": 0
      },
      "text/plain": [
       "HBox(children=(FloatProgress(value=0.0, description='Training', layout=Layout(flex='2'), max=1250.0, style=Pro…"
      ]
     },
     "metadata": {},
     "output_type": "display_data"
    },
    {
     "name": "stdout",
     "output_type": "stream",
     "text": [
      "Epoch 224: train=43.9467, val=42.0377, took 40.199 s\n",
      "  Validation Found 0 of 108007, added 10 (eff 0.00%) (0.0005 FP/event)\n",
      "Result epoch:  224\n",
      "Average Eff:  0.0\n",
      "Average FP Rate:  0.0\n"
     ]
    },
    {
     "data": {
      "application/vnd.jupyter.widget-view+json": {
       "model_id": "",
       "version_major": 2,
       "version_minor": 0
      },
      "text/plain": [
       "HBox(children=(FloatProgress(value=0.0, description='Training', layout=Layout(flex='2'), max=1250.0, style=Pro…"
      ]
     },
     "metadata": {},
     "output_type": "display_data"
    },
    {
     "name": "stdout",
     "output_type": "stream",
     "text": [
      "Epoch 225: train=42.8143, val=40.6881, took 40.192 s\n",
      "  Validation Found 43 of 108007, added 64 (eff 0.04%) (0.0032 FP/event)\n",
      "Result epoch:  225\n",
      "Average Eff:  0.0\n",
      "Average FP Rate:  0.0\n"
     ]
    },
    {
     "data": {
      "application/vnd.jupyter.widget-view+json": {
       "model_id": "",
       "version_major": 2,
       "version_minor": 0
      },
      "text/plain": [
       "HBox(children=(FloatProgress(value=0.0, description='Training', layout=Layout(flex='2'), max=1250.0, style=Pro…"
      ]
     },
     "metadata": {},
     "output_type": "display_data"
    },
    {
     "name": "stdout",
     "output_type": "stream",
     "text": [
      "Epoch 226: train=41.1962, val=37.692, took 41.552 s\n",
      "  Validation Found 380 of 108007, added 480 (eff 0.35%) (0.024 FP/event)\n",
      "Result epoch:  226\n",
      "Average Eff:  0.0\n",
      "Average FP Rate:  0.0\n"
     ]
    },
    {
     "data": {
      "application/vnd.jupyter.widget-view+json": {
       "model_id": "",
       "version_major": 2,
       "version_minor": 0
      },
      "text/plain": [
       "HBox(children=(FloatProgress(value=0.0, description='Training', layout=Layout(flex='2'), max=1250.0, style=Pro…"
      ]
     },
     "metadata": {},
     "output_type": "display_data"
    },
    {
     "name": "stdout",
     "output_type": "stream",
     "text": [
      "Epoch 227: train=37.2779, val=30.8114, took 40.217 s\n",
      "  Validation Found 3233 of 108007, added 689 (eff 2.99%) (0.0344 FP/event)\n",
      "Result epoch:  227\n",
      "Average Eff:  0.0\n",
      "Average FP Rate:  0.0\n"
     ]
    },
    {
     "data": {
      "application/vnd.jupyter.widget-view+json": {
       "model_id": "",
       "version_major": 2,
       "version_minor": 0
      },
      "text/plain": [
       "HBox(children=(FloatProgress(value=0.0, description='Training', layout=Layout(flex='2'), max=1250.0, style=Pro…"
      ]
     },
     "metadata": {},
     "output_type": "display_data"
    },
    {
     "name": "stdout",
     "output_type": "stream",
     "text": [
      "Epoch 228: train=30.1999, val=22.1676, took 40.88 s\n",
      "  Validation Found 46977 of 108007, added 1925 (eff 43.49%) (0.0962 FP/event)\n",
      "Result epoch:  228\n",
      "Average Eff:  0.0\n",
      "Average FP Rate:  0.0\n"
     ]
    },
    {
     "data": {
      "application/vnd.jupyter.widget-view+json": {
       "model_id": "",
       "version_major": 2,
       "version_minor": 0
      },
      "text/plain": [
       "HBox(children=(FloatProgress(value=0.0, description='Training', layout=Layout(flex='2'), max=1250.0, style=Pro…"
      ]
     },
     "metadata": {},
     "output_type": "display_data"
    },
    {
     "name": "stdout",
     "output_type": "stream",
     "text": [
      "Epoch 229: train=24.4419, val=18.7976, took 40.347 s\n",
      "  Validation Found 74100 of 108007, added 3712 (eff 68.61%) (0.186 FP/event)\n",
      "Result epoch:  229\n",
      "Average Eff:  0.0\n",
      "Average FP Rate:  0.0\n"
     ]
    },
    {
     "data": {
      "application/vnd.jupyter.widget-view+json": {
       "model_id": "",
       "version_major": 2,
       "version_minor": 0
      },
      "text/plain": [
       "HBox(children=(FloatProgress(value=0.0, description='Training', layout=Layout(flex='2'), max=1250.0, style=Pro…"
      ]
     },
     "metadata": {},
     "output_type": "display_data"
    },
    {
     "name": "stdout",
     "output_type": "stream",
     "text": [
      "Epoch 230: train=21.7788, val=17.5121, took 40.461 s\n",
      "  Validation Found 80823 of 108007, added 4651 (eff 74.83%) (0.233 FP/event)\n",
      "Result epoch:  230\n",
      "Average Eff:  0.0\n",
      "Average FP Rate:  0.0\n"
     ]
    },
    {
     "data": {
      "application/vnd.jupyter.widget-view+json": {
       "model_id": "",
       "version_major": 2,
       "version_minor": 0
      },
      "text/plain": [
       "HBox(children=(FloatProgress(value=0.0, description='Training', layout=Layout(flex='2'), max=1250.0, style=Pro…"
      ]
     },
     "metadata": {},
     "output_type": "display_data"
    },
    {
     "name": "stdout",
     "output_type": "stream",
     "text": [
      "Epoch 231: train=20.2353, val=16.3654, took 40.354 s\n",
      "  Validation Found 83940 of 108007, added 4353 (eff 77.72%) (0.218 FP/event)\n",
      "Result epoch:  231\n",
      "Average Eff:  0.0\n",
      "Average FP Rate:  0.0\n"
     ]
    },
    {
     "data": {
      "application/vnd.jupyter.widget-view+json": {
       "model_id": "",
       "version_major": 2,
       "version_minor": 0
      },
      "text/plain": [
       "HBox(children=(FloatProgress(value=0.0, description='Training', layout=Layout(flex='2'), max=1250.0, style=Pro…"
      ]
     },
     "metadata": {},
     "output_type": "display_data"
    },
    {
     "name": "stdout",
     "output_type": "stream",
     "text": [
      "Epoch 232: train=18.9433, val=15.3486, took 40.366 s\n",
      "  Validation Found 87611 of 108007, added 5041 (eff 81.12%) (0.252 FP/event)\n",
      "Result epoch:  232\n",
      "Average Eff:  0.0\n",
      "Average FP Rate:  0.0\n"
     ]
    },
    {
     "data": {
      "application/vnd.jupyter.widget-view+json": {
       "model_id": "",
       "version_major": 2,
       "version_minor": 0
      },
      "text/plain": [
       "HBox(children=(FloatProgress(value=0.0, description='Training', layout=Layout(flex='2'), max=1250.0, style=Pro…"
      ]
     },
     "metadata": {},
     "output_type": "display_data"
    },
    {
     "name": "stdout",
     "output_type": "stream",
     "text": [
      "Epoch 233: train=17.9332, val=14.7805, took 40.361 s\n",
      "  Validation Found 90040 of 108007, added 5667 (eff 83.36%) (0.283 FP/event)\n",
      "Result epoch:  233\n",
      "Average Eff:  0.0\n",
      "Average FP Rate:  0.0\n"
     ]
    },
    {
     "data": {
      "application/vnd.jupyter.widget-view+json": {
       "model_id": "",
       "version_major": 2,
       "version_minor": 0
      },
      "text/plain": [
       "HBox(children=(FloatProgress(value=0.0, description='Training', layout=Layout(flex='2'), max=1250.0, style=Pro…"
      ]
     },
     "metadata": {},
     "output_type": "display_data"
    },
    {
     "name": "stdout",
     "output_type": "stream",
     "text": [
      "Epoch 234: train=17.2477, val=14.5354, took 40.367 s\n",
      "  Validation Found 91427 of 108007, added 6194 (eff 84.65%) (0.31 FP/event)\n",
      "Result epoch:  234\n",
      "Average Eff:  0.0\n",
      "Average FP Rate:  0.0\n"
     ]
    },
    {
     "data": {
      "application/vnd.jupyter.widget-view+json": {
       "model_id": "",
       "version_major": 2,
       "version_minor": 0
      },
      "text/plain": [
       "HBox(children=(FloatProgress(value=0.0, description='Training', layout=Layout(flex='2'), max=1250.0, style=Pro…"
      ]
     },
     "metadata": {},
     "output_type": "display_data"
    },
    {
     "name": "stdout",
     "output_type": "stream",
     "text": [
      "Epoch 235: train=16.8241, val=14.3213, took 40.364 s\n",
      "  Validation Found 91705 of 108007, added 5930 (eff 84.91%) (0.296 FP/event)\n",
      "Result epoch:  235\n",
      "Average Eff:  0.0\n",
      "Average FP Rate:  0.0\n"
     ]
    },
    {
     "data": {
      "application/vnd.jupyter.widget-view+json": {
       "model_id": "",
       "version_major": 2,
       "version_minor": 0
      },
      "text/plain": [
       "HBox(children=(FloatProgress(value=0.0, description='Training', layout=Layout(flex='2'), max=1250.0, style=Pro…"
      ]
     },
     "metadata": {},
     "output_type": "display_data"
    },
    {
     "name": "stdout",
     "output_type": "stream",
     "text": [
      "Epoch 236: train=16.521, val=14.1071, took 40.342 s\n",
      "  Validation Found 92146 of 108007, added 5988 (eff 85.31%) (0.299 FP/event)\n",
      "Result epoch:  236\n",
      "Average Eff:  0.0\n",
      "Average FP Rate:  0.0\n"
     ]
    },
    {
     "data": {
      "application/vnd.jupyter.widget-view+json": {
       "model_id": "",
       "version_major": 2,
       "version_minor": 0
      },
      "text/plain": [
       "HBox(children=(FloatProgress(value=0.0, description='Training', layout=Layout(flex='2'), max=1250.0, style=Pro…"
      ]
     },
     "metadata": {},
     "output_type": "display_data"
    },
    {
     "name": "stdout",
     "output_type": "stream",
     "text": [
      "Epoch 237: train=16.2539, val=13.9626, took 40.355 s\n",
      "  Validation Found 92619 of 108007, added 6289 (eff 85.75%) (0.314 FP/event)\n",
      "Result epoch:  237\n",
      "Average Eff:  0.0\n",
      "Average FP Rate:  0.0\n"
     ]
    },
    {
     "data": {
      "application/vnd.jupyter.widget-view+json": {
       "model_id": "",
       "version_major": 2,
       "version_minor": 0
      },
      "text/plain": [
       "HBox(children=(FloatProgress(value=0.0, description='Training', layout=Layout(flex='2'), max=1250.0, style=Pro…"
      ]
     },
     "metadata": {},
     "output_type": "display_data"
    },
    {
     "name": "stdout",
     "output_type": "stream",
     "text": [
      "Epoch 238: train=16.0372, val=13.8038, took 40.358 s\n",
      "  Validation Found 92713 of 108007, added 5961 (eff 85.84%) (0.298 FP/event)\n",
      "Result epoch:  238\n",
      "Average Eff:  0.0\n",
      "Average FP Rate:  0.0\n"
     ]
    },
    {
     "data": {
      "application/vnd.jupyter.widget-view+json": {
       "model_id": "",
       "version_major": 2,
       "version_minor": 0
      },
      "text/plain": [
       "HBox(children=(FloatProgress(value=0.0, description='Training', layout=Layout(flex='2'), max=1250.0, style=Pro…"
      ]
     },
     "metadata": {},
     "output_type": "display_data"
    },
    {
     "name": "stdout",
     "output_type": "stream",
     "text": [
      "Epoch 239: train=15.8538, val=13.6575, took 40.347 s\n",
      "  Validation Found 93038 of 108007, added 6102 (eff 86.14%) (0.305 FP/event)\n",
      "Result epoch:  239\n",
      "Average Eff:  0.0\n",
      "Average FP Rate:  0.0\n"
     ]
    },
    {
     "data": {
      "application/vnd.jupyter.widget-view+json": {
       "model_id": "",
       "version_major": 2,
       "version_minor": 0
      },
      "text/plain": [
       "HBox(children=(FloatProgress(value=0.0, description='Training', layout=Layout(flex='2'), max=1250.0, style=Pro…"
      ]
     },
     "metadata": {},
     "output_type": "display_data"
    },
    {
     "name": "stdout",
     "output_type": "stream",
     "text": [
      "Epoch 240: train=15.7061, val=13.5439, took 40.349 s\n",
      "  Validation Found 93122 of 108007, added 5785 (eff 86.22%) (0.289 FP/event)\n",
      "Result epoch:  240\n",
      "Average Eff:  0.0\n",
      "Average FP Rate:  0.0\n"
     ]
    },
    {
     "data": {
      "application/vnd.jupyter.widget-view+json": {
       "model_id": "",
       "version_major": 2,
       "version_minor": 0
      },
      "text/plain": [
       "HBox(children=(FloatProgress(value=0.0, description='Training', layout=Layout(flex='2'), max=1250.0, style=Pro…"
      ]
     },
     "metadata": {},
     "output_type": "display_data"
    },
    {
     "name": "stdout",
     "output_type": "stream",
     "text": [
      "Epoch 241: train=15.562, val=13.3638, took 40.355 s\n",
      "  Validation Found 93271 of 108007, added 5703 (eff 86.36%) (0.285 FP/event)\n",
      "Result epoch:  241\n",
      "Average Eff:  0.0\n",
      "Average FP Rate:  0.0\n"
     ]
    },
    {
     "data": {
      "application/vnd.jupyter.widget-view+json": {
       "model_id": "",
       "version_major": 2,
       "version_minor": 0
      },
      "text/plain": [
       "HBox(children=(FloatProgress(value=0.0, description='Training', layout=Layout(flex='2'), max=1250.0, style=Pro…"
      ]
     },
     "metadata": {},
     "output_type": "display_data"
    },
    {
     "name": "stdout",
     "output_type": "stream",
     "text": [
      "Epoch 242: train=15.428, val=13.2862, took 40.347 s\n",
      "  Validation Found 93641 of 108007, added 5864 (eff 86.70%) (0.293 FP/event)\n",
      "Result epoch:  242\n",
      "Average Eff:  0.0\n",
      "Average FP Rate:  0.0\n"
     ]
    },
    {
     "data": {
      "application/vnd.jupyter.widget-view+json": {
       "model_id": "",
       "version_major": 2,
       "version_minor": 0
      },
      "text/plain": [
       "HBox(children=(FloatProgress(value=0.0, description='Training', layout=Layout(flex='2'), max=1250.0, style=Pro…"
      ]
     },
     "metadata": {},
     "output_type": "display_data"
    },
    {
     "name": "stdout",
     "output_type": "stream",
     "text": [
      "Epoch 243: train=15.3, val=13.2445, took 40.341 s\n",
      "  Validation Found 93951 of 108007, added 6208 (eff 86.99%) (0.31 FP/event)\n",
      "Result epoch:  243\n",
      "Average Eff:  0.0\n",
      "Average FP Rate:  0.0\n"
     ]
    },
    {
     "data": {
      "application/vnd.jupyter.widget-view+json": {
       "model_id": "",
       "version_major": 2,
       "version_minor": 0
      },
      "text/plain": [
       "HBox(children=(FloatProgress(value=0.0, description='Training', layout=Layout(flex='2'), max=1250.0, style=Pro…"
      ]
     },
     "metadata": {},
     "output_type": "display_data"
    },
    {
     "name": "stdout",
     "output_type": "stream",
     "text": [
      "Epoch 244: train=15.1644, val=13.0603, took 40.343 s\n",
      "  Validation Found 93873 of 108007, added 5726 (eff 86.91%) (0.286 FP/event)\n",
      "Result epoch:  244\n",
      "Average Eff:  0.0\n",
      "Average FP Rate:  0.0\n"
     ]
    },
    {
     "data": {
      "application/vnd.jupyter.widget-view+json": {
       "model_id": "",
       "version_major": 2,
       "version_minor": 0
      },
      "text/plain": [
       "HBox(children=(FloatProgress(value=0.0, description='Training', layout=Layout(flex='2'), max=1250.0, style=Pro…"
      ]
     },
     "metadata": {},
     "output_type": "display_data"
    },
    {
     "name": "stdout",
     "output_type": "stream",
     "text": [
      "Epoch 245: train=15.0372, val=12.976, took 41.678 s\n",
      "  Validation Found 94051 of 108007, added 5563 (eff 87.08%) (0.278 FP/event)\n",
      "Result epoch:  245\n",
      "Average Eff:  0.0\n",
      "Average FP Rate:  0.0\n"
     ]
    },
    {
     "data": {
      "application/vnd.jupyter.widget-view+json": {
       "model_id": "",
       "version_major": 2,
       "version_minor": 0
      },
      "text/plain": [
       "HBox(children=(FloatProgress(value=0.0, description='Training', layout=Layout(flex='2'), max=1250.0, style=Pro…"
      ]
     },
     "metadata": {},
     "output_type": "display_data"
    },
    {
     "name": "stdout",
     "output_type": "stream",
     "text": [
      "Epoch 246: train=14.9115, val=12.8989, took 40.372 s\n",
      "  Validation Found 94309 of 108007, added 5694 (eff 87.32%) (0.285 FP/event)\n",
      "Result epoch:  246\n",
      "Average Eff:  0.0\n",
      "Average FP Rate:  0.0\n"
     ]
    },
    {
     "data": {
      "application/vnd.jupyter.widget-view+json": {
       "model_id": "",
       "version_major": 2,
       "version_minor": 0
      },
      "text/plain": [
       "HBox(children=(FloatProgress(value=0.0, description='Training', layout=Layout(flex='2'), max=1250.0, style=Pro…"
      ]
     },
     "metadata": {},
     "output_type": "display_data"
    },
    {
     "name": "stdout",
     "output_type": "stream",
     "text": [
      "Epoch 247: train=14.8073, val=12.8149, took 40.365 s\n",
      "  Validation Found 94471 of 108007, added 5787 (eff 87.47%) (0.289 FP/event)\n",
      "Result epoch:  247\n",
      "Average Eff:  0.0\n",
      "Average FP Rate:  0.0\n"
     ]
    },
    {
     "data": {
      "application/vnd.jupyter.widget-view+json": {
       "model_id": "",
       "version_major": 2,
       "version_minor": 0
      },
      "text/plain": [
       "HBox(children=(FloatProgress(value=0.0, description='Training', layout=Layout(flex='2'), max=1250.0, style=Pro…"
      ]
     },
     "metadata": {},
     "output_type": "display_data"
    },
    {
     "name": "stdout",
     "output_type": "stream",
     "text": [
      "Epoch 248: train=14.7352, val=12.6817, took 40.346 s\n",
      "  Validation Found 94529 of 108007, added 5808 (eff 87.52%) (0.29 FP/event)\n",
      "Result epoch:  248\n",
      "Average Eff:  0.0\n",
      "Average FP Rate:  0.0\n"
     ]
    },
    {
     "data": {
      "application/vnd.jupyter.widget-view+json": {
       "model_id": "",
       "version_major": 2,
       "version_minor": 0
      },
      "text/plain": [
       "HBox(children=(FloatProgress(value=0.0, description='Training', layout=Layout(flex='2'), max=1250.0, style=Pro…"
      ]
     },
     "metadata": {},
     "output_type": "display_data"
    },
    {
     "name": "stdout",
     "output_type": "stream",
     "text": [
      "Epoch 249: train=14.6548, val=12.5681, took 40.419 s\n",
      "  Validation Found 94458 of 108007, added 5456 (eff 87.46%) (0.273 FP/event)\n",
      "Result epoch:  249\n",
      "Average Eff:  0.0\n",
      "Average FP Rate:  0.0\n"
     ]
    },
    {
     "data": {
      "application/vnd.jupyter.widget-view+json": {
       "model_id": "",
       "version_major": 2,
       "version_minor": 0
      },
      "text/plain": [
       "HBox(children=(FloatProgress(value=0.0, description='Training', layout=Layout(flex='2'), max=1250.0, style=Pro…"
      ]
     },
     "metadata": {},
     "output_type": "display_data"
    },
    {
     "name": "stdout",
     "output_type": "stream",
     "text": [
      "Epoch 250: train=14.5897, val=12.502, took 40.826 s\n",
      "  Validation Found 94604 of 108007, added 5394 (eff 87.59%) (0.27 FP/event)\n",
      "Result epoch:  250\n",
      "Average Eff:  0.0\n",
      "Average FP Rate:  0.0\n"
     ]
    },
    {
     "data": {
      "application/vnd.jupyter.widget-view+json": {
       "model_id": "",
       "version_major": 2,
       "version_minor": 0
      },
      "text/plain": [
       "HBox(children=(FloatProgress(value=0.0, description='Training', layout=Layout(flex='2'), max=1250.0, style=Pro…"
      ]
     },
     "metadata": {},
     "output_type": "display_data"
    },
    {
     "name": "stdout",
     "output_type": "stream",
     "text": [
      "Epoch 251: train=14.5205, val=12.4344, took 40.349 s\n",
      "  Validation Found 94893 of 108007, added 5648 (eff 87.86%) (0.282 FP/event)\n",
      "Result epoch:  251\n",
      "Average Eff:  0.0\n",
      "Average FP Rate:  0.0\n"
     ]
    },
    {
     "data": {
      "application/vnd.jupyter.widget-view+json": {
       "model_id": "",
       "version_major": 2,
       "version_minor": 0
      },
      "text/plain": [
       "HBox(children=(FloatProgress(value=0.0, description='Training', layout=Layout(flex='2'), max=1250.0, style=Pro…"
      ]
     },
     "metadata": {},
     "output_type": "display_data"
    },
    {
     "name": "stdout",
     "output_type": "stream",
     "text": [
      "Epoch 252: train=14.451, val=12.3849, took 40.349 s\n",
      "  Validation Found 94935 of 108007, added 5432 (eff 87.90%) (0.272 FP/event)\n",
      "Result epoch:  252\n",
      "Average Eff:  0.0\n",
      "Average FP Rate:  0.0\n"
     ]
    },
    {
     "data": {
      "application/vnd.jupyter.widget-view+json": {
       "model_id": "",
       "version_major": 2,
       "version_minor": 0
      },
      "text/plain": [
       "HBox(children=(FloatProgress(value=0.0, description='Training', layout=Layout(flex='2'), max=1250.0, style=Pro…"
      ]
     },
     "metadata": {},
     "output_type": "display_data"
    },
    {
     "name": "stdout",
     "output_type": "stream",
     "text": [
      "Epoch 253: train=14.375, val=12.295, took 40.327 s\n",
      "  Validation Found 94933 of 108007, added 5363 (eff 87.90%) (0.268 FP/event)\n",
      "Result epoch:  253\n",
      "Average Eff:  0.0\n",
      "Average FP Rate:  0.0\n"
     ]
    },
    {
     "data": {
      "application/vnd.jupyter.widget-view+json": {
       "model_id": "",
       "version_major": 2,
       "version_minor": 0
      },
      "text/plain": [
       "HBox(children=(FloatProgress(value=0.0, description='Training', layout=Layout(flex='2'), max=1250.0, style=Pro…"
      ]
     },
     "metadata": {},
     "output_type": "display_data"
    },
    {
     "name": "stdout",
     "output_type": "stream",
     "text": [
      "Epoch 254: train=14.3195, val=12.261, took 41.667 s\n",
      "  Validation Found 95035 of 108007, added 5227 (eff 87.99%) (0.261 FP/event)\n",
      "Result epoch:  254\n",
      "Average Eff:  0.0\n",
      "Average FP Rate:  0.0\n"
     ]
    },
    {
     "data": {
      "application/vnd.jupyter.widget-view+json": {
       "model_id": "",
       "version_major": 2,
       "version_minor": 0
      },
      "text/plain": [
       "HBox(children=(FloatProgress(value=0.0, description='Training', layout=Layout(flex='2'), max=1250.0, style=Pro…"
      ]
     },
     "metadata": {},
     "output_type": "display_data"
    },
    {
     "name": "stdout",
     "output_type": "stream",
     "text": [
      "Epoch 255: train=14.2423, val=12.1978, took 40.345 s\n",
      "  Validation Found 95100 of 108007, added 5281 (eff 88.05%) (0.264 FP/event)\n",
      "Result epoch:  255\n",
      "Average Eff:  0.0\n",
      "Average FP Rate:  0.0\n"
     ]
    },
    {
     "data": {
      "application/vnd.jupyter.widget-view+json": {
       "model_id": "",
       "version_major": 2,
       "version_minor": 0
      },
      "text/plain": [
       "HBox(children=(FloatProgress(value=0.0, description='Training', layout=Layout(flex='2'), max=1250.0, style=Pro…"
      ]
     },
     "metadata": {},
     "output_type": "display_data"
    },
    {
     "name": "stdout",
     "output_type": "stream",
     "text": [
      "Epoch 256: train=14.1728, val=12.1488, took 40.249 s\n",
      "  Validation Found 95188 of 108007, added 5395 (eff 88.13%) (0.27 FP/event)\n",
      "Result epoch:  256\n",
      "Average Eff:  0.0\n",
      "Average FP Rate:  0.0\n"
     ]
    },
    {
     "data": {
      "application/vnd.jupyter.widget-view+json": {
       "model_id": "",
       "version_major": 2,
       "version_minor": 0
      },
      "text/plain": [
       "HBox(children=(FloatProgress(value=0.0, description='Training', layout=Layout(flex='2'), max=1250.0, style=Pro…"
      ]
     },
     "metadata": {},
     "output_type": "display_data"
    },
    {
     "name": "stdout",
     "output_type": "stream",
     "text": [
      "Epoch 257: train=14.1164, val=12.12, took 41.018 s\n",
      "  Validation Found 95121 of 108007, added 5362 (eff 88.07%) (0.268 FP/event)\n",
      "Result epoch:  257\n",
      "Average Eff:  0.0\n",
      "Average FP Rate:  0.0\n"
     ]
    },
    {
     "data": {
      "application/vnd.jupyter.widget-view+json": {
       "model_id": "",
       "version_major": 2,
       "version_minor": 0
      },
      "text/plain": [
       "HBox(children=(FloatProgress(value=0.0, description='Training', layout=Layout(flex='2'), max=1250.0, style=Pro…"
      ]
     },
     "metadata": {},
     "output_type": "display_data"
    },
    {
     "name": "stdout",
     "output_type": "stream",
     "text": [
      "Epoch 258: train=14.0258, val=12.039, took 40.264 s\n",
      "  Validation Found 95150 of 108007, added 5387 (eff 88.10%) (0.269 FP/event)\n",
      "Result epoch:  258\n",
      "Average Eff:  0.0\n",
      "Average FP Rate:  0.0\n"
     ]
    },
    {
     "data": {
      "application/vnd.jupyter.widget-view+json": {
       "model_id": "",
       "version_major": 2,
       "version_minor": 0
      },
      "text/plain": [
       "HBox(children=(FloatProgress(value=0.0, description='Training', layout=Layout(flex='2'), max=1250.0, style=Pro…"
      ]
     },
     "metadata": {},
     "output_type": "display_data"
    },
    {
     "name": "stdout",
     "output_type": "stream",
     "text": [
      "Epoch 259: train=13.9447, val=11.9846, took 40.284 s\n",
      "  Validation Found 95106 of 108007, added 5453 (eff 88.06%) (0.273 FP/event)\n",
      "Result epoch:  259\n",
      "Average Eff:  0.0\n",
      "Average FP Rate:  0.0\n"
     ]
    },
    {
     "data": {
      "application/vnd.jupyter.widget-view+json": {
       "model_id": "",
       "version_major": 2,
       "version_minor": 0
      },
      "text/plain": [
       "HBox(children=(FloatProgress(value=0.0, description='Training', layout=Layout(flex='2'), max=1250.0, style=Pro…"
      ]
     },
     "metadata": {},
     "output_type": "display_data"
    },
    {
     "name": "stdout",
     "output_type": "stream",
     "text": [
      "Epoch 260: train=13.8741, val=11.9136, took 40.28 s\n",
      "  Validation Found 94907 of 108007, added 5249 (eff 87.87%) (0.262 FP/event)\n",
      "Result epoch:  260\n",
      "Average Eff:  0.0\n",
      "Average FP Rate:  0.0\n"
     ]
    },
    {
     "data": {
      "application/vnd.jupyter.widget-view+json": {
       "model_id": "",
       "version_major": 2,
       "version_minor": 0
      },
      "text/plain": [
       "HBox(children=(FloatProgress(value=0.0, description='Training', layout=Layout(flex='2'), max=1250.0, style=Pro…"
      ]
     },
     "metadata": {},
     "output_type": "display_data"
    },
    {
     "name": "stdout",
     "output_type": "stream",
     "text": [
      "Epoch 261: train=13.7982, val=11.8794, took 40.267 s\n",
      "  Validation Found 94960 of 108007, added 5247 (eff 87.92%) (0.262 FP/event)\n",
      "Result epoch:  261\n",
      "Average Eff:  0.0\n",
      "Average FP Rate:  0.0\n"
     ]
    },
    {
     "data": {
      "application/vnd.jupyter.widget-view+json": {
       "model_id": "",
       "version_major": 2,
       "version_minor": 0
      },
      "text/plain": [
       "HBox(children=(FloatProgress(value=0.0, description='Training', layout=Layout(flex='2'), max=1250.0, style=Pro…"
      ]
     },
     "metadata": {},
     "output_type": "display_data"
    },
    {
     "name": "stdout",
     "output_type": "stream",
     "text": [
      "Epoch 262: train=13.7237, val=11.8281, took 40.274 s\n",
      "  Validation Found 95094 of 108007, added 5467 (eff 88.04%) (0.273 FP/event)\n",
      "Result epoch:  262\n",
      "Average Eff:  0.0\n",
      "Average FP Rate:  0.0\n"
     ]
    },
    {
     "data": {
      "application/vnd.jupyter.widget-view+json": {
       "model_id": "",
       "version_major": 2,
       "version_minor": 0
      },
      "text/plain": [
       "HBox(children=(FloatProgress(value=0.0, description='Training', layout=Layout(flex='2'), max=1250.0, style=Pro…"
      ]
     },
     "metadata": {},
     "output_type": "display_data"
    },
    {
     "name": "stdout",
     "output_type": "stream",
     "text": [
      "Epoch 263: train=13.6742, val=11.7732, took 40.309 s\n",
      "  Validation Found 95027 of 108007, added 5394 (eff 87.98%) (0.27 FP/event)\n",
      "Result epoch:  263\n",
      "Average Eff:  0.0\n",
      "Average FP Rate:  0.0\n"
     ]
    },
    {
     "data": {
      "application/vnd.jupyter.widget-view+json": {
       "model_id": "",
       "version_major": 2,
       "version_minor": 0
      },
      "text/plain": [
       "HBox(children=(FloatProgress(value=0.0, description='Training', layout=Layout(flex='2'), max=1250.0, style=Pro…"
      ]
     },
     "metadata": {},
     "output_type": "display_data"
    },
    {
     "name": "stdout",
     "output_type": "stream",
     "text": [
      "Epoch 264: train=13.6211, val=11.7524, took 40.291 s\n",
      "  Validation Found 94931 of 108007, added 5211 (eff 87.89%) (0.261 FP/event)\n",
      "Result epoch:  264\n",
      "Average Eff:  0.0\n",
      "Average FP Rate:  0.0\n"
     ]
    },
    {
     "data": {
      "application/vnd.jupyter.widget-view+json": {
       "model_id": "",
       "version_major": 2,
       "version_minor": 0
      },
      "text/plain": [
       "HBox(children=(FloatProgress(value=0.0, description='Training', layout=Layout(flex='2'), max=1250.0, style=Pro…"
      ]
     },
     "metadata": {},
     "output_type": "display_data"
    },
    {
     "name": "stdout",
     "output_type": "stream",
     "text": [
      "Epoch 265: train=13.5606, val=11.6871, took 40.293 s\n",
      "  Validation Found 94895 of 108007, added 5289 (eff 87.86%) (0.264 FP/event)\n",
      "Result epoch:  265\n",
      "Average Eff:  0.0\n",
      "Average FP Rate:  0.0\n"
     ]
    },
    {
     "data": {
      "application/vnd.jupyter.widget-view+json": {
       "model_id": "",
       "version_major": 2,
       "version_minor": 0
      },
      "text/plain": [
       "HBox(children=(FloatProgress(value=0.0, description='Training', layout=Layout(flex='2'), max=1250.0, style=Pro…"
      ]
     },
     "metadata": {},
     "output_type": "display_data"
    },
    {
     "name": "stdout",
     "output_type": "stream",
     "text": [
      "Epoch 266: train=13.5167, val=11.6304, took 40.294 s\n",
      "  Validation Found 95082 of 108007, added 5645 (eff 88.03%) (0.282 FP/event)\n",
      "Result epoch:  266\n",
      "Average Eff:  0.0\n",
      "Average FP Rate:  0.0\n"
     ]
    },
    {
     "data": {
      "application/vnd.jupyter.widget-view+json": {
       "model_id": "",
       "version_major": 2,
       "version_minor": 0
      },
      "text/plain": [
       "HBox(children=(FloatProgress(value=0.0, description='Training', layout=Layout(flex='2'), max=1250.0, style=Pro…"
      ]
     },
     "metadata": {},
     "output_type": "display_data"
    },
    {
     "name": "stdout",
     "output_type": "stream",
     "text": [
      "Epoch 267: train=13.4775, val=11.6059, took 39.254 s\n",
      "  Validation Found 94873 of 108007, added 5333 (eff 87.84%) (0.267 FP/event)\n",
      "Result epoch:  267\n",
      "Average Eff:  0.0\n",
      "Average FP Rate:  0.0\n"
     ]
    },
    {
     "data": {
      "application/vnd.jupyter.widget-view+json": {
       "model_id": "",
       "version_major": 2,
       "version_minor": 0
      },
      "text/plain": [
       "HBox(children=(FloatProgress(value=0.0, description='Training', layout=Layout(flex='2'), max=1250.0, style=Pro…"
      ]
     },
     "metadata": {},
     "output_type": "display_data"
    },
    {
     "name": "stdout",
     "output_type": "stream",
     "text": [
      "Epoch 268: train=13.4386, val=11.5801, took 39.083 s\n",
      "  Validation Found 94933 of 108007, added 5379 (eff 87.90%) (0.269 FP/event)\n",
      "Result epoch:  268\n",
      "Average Eff:  0.0\n",
      "Average FP Rate:  0.0\n"
     ]
    },
    {
     "data": {
      "application/vnd.jupyter.widget-view+json": {
       "model_id": "",
       "version_major": 2,
       "version_minor": 0
      },
      "text/plain": [
       "HBox(children=(FloatProgress(value=0.0, description='Training', layout=Layout(flex='2'), max=1250.0, style=Pro…"
      ]
     },
     "metadata": {},
     "output_type": "display_data"
    },
    {
     "name": "stdout",
     "output_type": "stream",
     "text": [
      "Epoch 269: train=13.4023, val=11.5663, took 38.93 s\n",
      "  Validation Found 94972 of 108007, added 5536 (eff 87.93%) (0.277 FP/event)\n",
      "Result epoch:  269\n",
      "Average Eff:  0.0\n",
      "Average FP Rate:  0.0\n"
     ]
    },
    {
     "data": {
      "application/vnd.jupyter.widget-view+json": {
       "model_id": "",
       "version_major": 2,
       "version_minor": 0
      },
      "text/plain": [
       "HBox(children=(FloatProgress(value=0.0, description='Training', layout=Layout(flex='2'), max=1250.0, style=Pro…"
      ]
     },
     "metadata": {},
     "output_type": "display_data"
    },
    {
     "name": "stdout",
     "output_type": "stream",
     "text": [
      "Epoch 270: train=13.3766, val=11.5334, took 38.868 s\n",
      "  Validation Found 94948 of 108007, added 5518 (eff 87.91%) (0.276 FP/event)\n",
      "Result epoch:  270\n",
      "Average Eff:  0.0\n",
      "Average FP Rate:  0.0\n"
     ]
    },
    {
     "data": {
      "application/vnd.jupyter.widget-view+json": {
       "model_id": "",
       "version_major": 2,
       "version_minor": 0
      },
      "text/plain": [
       "HBox(children=(FloatProgress(value=0.0, description='Training', layout=Layout(flex='2'), max=1250.0, style=Pro…"
      ]
     },
     "metadata": {},
     "output_type": "display_data"
    },
    {
     "name": "stdout",
     "output_type": "stream",
     "text": [
      "Epoch 271: train=13.3378, val=11.5219, took 38.932 s\n",
      "  Validation Found 94915 of 108007, added 5394 (eff 87.88%) (0.27 FP/event)\n",
      "Result epoch:  271\n",
      "Average Eff:  0.0\n",
      "Average FP Rate:  0.0\n"
     ]
    },
    {
     "data": {
      "application/vnd.jupyter.widget-view+json": {
       "model_id": "",
       "version_major": 2,
       "version_minor": 0
      },
      "text/plain": [
       "HBox(children=(FloatProgress(value=0.0, description='Training', layout=Layout(flex='2'), max=1250.0, style=Pro…"
      ]
     },
     "metadata": {},
     "output_type": "display_data"
    },
    {
     "name": "stdout",
     "output_type": "stream",
     "text": [
      "Epoch 272: train=13.2974, val=11.4885, took 38.853 s\n",
      "  Validation Found 94972 of 108007, added 5534 (eff 87.93%) (0.277 FP/event)\n",
      "Result epoch:  272\n",
      "Average Eff:  0.0\n",
      "Average FP Rate:  0.0\n"
     ]
    },
    {
     "data": {
      "application/vnd.jupyter.widget-view+json": {
       "model_id": "",
       "version_major": 2,
       "version_minor": 0
      },
      "text/plain": [
       "HBox(children=(FloatProgress(value=0.0, description='Training', layout=Layout(flex='2'), max=1250.0, style=Pro…"
      ]
     },
     "metadata": {},
     "output_type": "display_data"
    },
    {
     "name": "stdout",
     "output_type": "stream",
     "text": [
      "Epoch 273: train=13.2752, val=11.4833, took 38.881 s\n",
      "  Validation Found 95007 of 108007, added 5515 (eff 87.96%) (0.276 FP/event)\n",
      "Result epoch:  273\n",
      "Average Eff:  0.0\n",
      "Average FP Rate:  0.0\n"
     ]
    },
    {
     "data": {
      "application/vnd.jupyter.widget-view+json": {
       "model_id": "",
       "version_major": 2,
       "version_minor": 0
      },
      "text/plain": [
       "HBox(children=(FloatProgress(value=0.0, description='Training', layout=Layout(flex='2'), max=1250.0, style=Pro…"
      ]
     },
     "metadata": {},
     "output_type": "display_data"
    },
    {
     "name": "stdout",
     "output_type": "stream",
     "text": [
      "Epoch 274: train=13.2556, val=11.4533, took 38.863 s\n",
      "  Validation Found 95051 of 108007, added 5713 (eff 88.00%) (0.286 FP/event)\n",
      "Result epoch:  274\n",
      "Average Eff:  0.0\n",
      "Average FP Rate:  0.0\n"
     ]
    },
    {
     "data": {
      "application/vnd.jupyter.widget-view+json": {
       "model_id": "",
       "version_major": 2,
       "version_minor": 0
      },
      "text/plain": [
       "HBox(children=(FloatProgress(value=0.0, description='Training', layout=Layout(flex='2'), max=1250.0, style=Pro…"
      ]
     },
     "metadata": {},
     "output_type": "display_data"
    },
    {
     "name": "stdout",
     "output_type": "stream",
     "text": [
      "Epoch 275: train=13.2165, val=11.4608, took 38.872 s\n",
      "  Validation Found 95223 of 108007, added 5842 (eff 88.16%) (0.292 FP/event)\n",
      "Result epoch:  275\n",
      "Average Eff:  0.0\n",
      "Average FP Rate:  0.0\n"
     ]
    },
    {
     "data": {
      "application/vnd.jupyter.widget-view+json": {
       "model_id": "",
       "version_major": 2,
       "version_minor": 0
      },
      "text/plain": [
       "HBox(children=(FloatProgress(value=0.0, description='Training', layout=Layout(flex='2'), max=1250.0, style=Pro…"
      ]
     },
     "metadata": {},
     "output_type": "display_data"
    },
    {
     "name": "stdout",
     "output_type": "stream",
     "text": [
      "Epoch 276: train=13.1925, val=11.4424, took 38.879 s\n",
      "  Validation Found 95161 of 108007, added 5740 (eff 88.11%) (0.287 FP/event)\n",
      "Result epoch:  276\n",
      "Average Eff:  0.0\n",
      "Average FP Rate:  0.0\n"
     ]
    },
    {
     "data": {
      "application/vnd.jupyter.widget-view+json": {
       "model_id": "",
       "version_major": 2,
       "version_minor": 0
      },
      "text/plain": [
       "HBox(children=(FloatProgress(value=0.0, description='Training', layout=Layout(flex='2'), max=1250.0, style=Pro…"
      ]
     },
     "metadata": {},
     "output_type": "display_data"
    },
    {
     "name": "stdout",
     "output_type": "stream",
     "text": [
      "Epoch 277: train=13.1705, val=11.4232, took 41.258 s\n",
      "  Validation Found 95221 of 108007, added 5781 (eff 88.16%) (0.289 FP/event)\n",
      "Result epoch:  277\n",
      "Average Eff:  0.0\n",
      "Average FP Rate:  0.0\n"
     ]
    },
    {
     "data": {
      "application/vnd.jupyter.widget-view+json": {
       "model_id": "",
       "version_major": 2,
       "version_minor": 0
      },
      "text/plain": [
       "HBox(children=(FloatProgress(value=0.0, description='Training', layout=Layout(flex='2'), max=1250.0, style=Pro…"
      ]
     },
     "metadata": {},
     "output_type": "display_data"
    },
    {
     "name": "stdout",
     "output_type": "stream",
     "text": [
      "Epoch 278: train=13.1207, val=11.4136, took 40.365 s\n",
      "  Validation Found 95129 of 108007, added 5607 (eff 88.08%) (0.28 FP/event)\n",
      "Result epoch:  278\n",
      "Average Eff:  0.0\n",
      "Average FP Rate:  0.0\n"
     ]
    },
    {
     "data": {
      "application/vnd.jupyter.widget-view+json": {
       "model_id": "",
       "version_major": 2,
       "version_minor": 0
      },
      "text/plain": [
       "HBox(children=(FloatProgress(value=0.0, description='Training', layout=Layout(flex='2'), max=1250.0, style=Pro…"
      ]
     },
     "metadata": {},
     "output_type": "display_data"
    },
    {
     "name": "stdout",
     "output_type": "stream",
     "text": [
      "Epoch 279: train=13.087, val=11.3671, took 40.355 s\n",
      "  Validation Found 95349 of 108007, added 5933 (eff 88.28%) (0.297 FP/event)\n",
      "Result epoch:  279\n",
      "Average Eff:  0.0\n",
      "Average FP Rate:  0.0\n"
     ]
    },
    {
     "data": {
      "application/vnd.jupyter.widget-view+json": {
       "model_id": "",
       "version_major": 2,
       "version_minor": 0
      },
      "text/plain": [
       "HBox(children=(FloatProgress(value=0.0, description='Training', layout=Layout(flex='2'), max=1250.0, style=Pro…"
      ]
     },
     "metadata": {},
     "output_type": "display_data"
    },
    {
     "name": "stdout",
     "output_type": "stream",
     "text": [
      "Epoch 280: train=13.0765, val=11.3541, took 40.403 s\n",
      "  Validation Found 95343 of 108007, added 5831 (eff 88.27%) (0.292 FP/event)\n",
      "Result epoch:  280\n",
      "Average Eff:  0.0\n",
      "Average FP Rate:  0.0\n"
     ]
    },
    {
     "data": {
      "application/vnd.jupyter.widget-view+json": {
       "model_id": "",
       "version_major": 2,
       "version_minor": 0
      },
      "text/plain": [
       "HBox(children=(FloatProgress(value=0.0, description='Training', layout=Layout(flex='2'), max=1250.0, style=Pro…"
      ]
     },
     "metadata": {},
     "output_type": "display_data"
    },
    {
     "name": "stdout",
     "output_type": "stream",
     "text": [
      "Epoch 281: train=13.0595, val=11.3368, took 40.381 s\n",
      "  Validation Found 95335 of 108007, added 5908 (eff 88.27%) (0.295 FP/event)\n",
      "Result epoch:  281\n",
      "Average Eff:  0.0\n",
      "Average FP Rate:  0.0\n"
     ]
    },
    {
     "data": {
      "application/vnd.jupyter.widget-view+json": {
       "model_id": "",
       "version_major": 2,
       "version_minor": 0
      },
      "text/plain": [
       "HBox(children=(FloatProgress(value=0.0, description='Training', layout=Layout(flex='2'), max=1250.0, style=Pro…"
      ]
     },
     "metadata": {},
     "output_type": "display_data"
    },
    {
     "name": "stdout",
     "output_type": "stream",
     "text": [
      "Epoch 282: train=13.0333, val=11.3346, took 40.391 s\n",
      "  Validation Found 95301 of 108007, added 5760 (eff 88.24%) (0.288 FP/event)\n",
      "Result epoch:  282\n",
      "Average Eff:  0.0\n",
      "Average FP Rate:  0.0\n"
     ]
    },
    {
     "data": {
      "application/vnd.jupyter.widget-view+json": {
       "model_id": "",
       "version_major": 2,
       "version_minor": 0
      },
      "text/plain": [
       "HBox(children=(FloatProgress(value=0.0, description='Training', layout=Layout(flex='2'), max=1250.0, style=Pro…"
      ]
     },
     "metadata": {},
     "output_type": "display_data"
    },
    {
     "name": "stdout",
     "output_type": "stream",
     "text": [
      "Epoch 283: train=13.0213, val=11.3293, took 40.371 s\n",
      "  Validation Found 95470 of 108007, added 5949 (eff 88.39%) (0.297 FP/event)\n",
      "Result epoch:  283\n",
      "Average Eff:  0.0\n",
      "Average FP Rate:  0.0\n"
     ]
    },
    {
     "data": {
      "application/vnd.jupyter.widget-view+json": {
       "model_id": "",
       "version_major": 2,
       "version_minor": 0
      },
      "text/plain": [
       "HBox(children=(FloatProgress(value=0.0, description='Training', layout=Layout(flex='2'), max=1250.0, style=Pro…"
      ]
     },
     "metadata": {},
     "output_type": "display_data"
    },
    {
     "name": "stdout",
     "output_type": "stream",
     "text": [
      "Epoch 284: train=13.0059, val=11.3133, took 40.375 s\n",
      "  Validation Found 95484 of 108007, added 5937 (eff 88.41%) (0.297 FP/event)\n",
      "Result epoch:  284\n",
      "Average Eff:  0.0\n",
      "Average FP Rate:  0.0\n"
     ]
    },
    {
     "data": {
      "application/vnd.jupyter.widget-view+json": {
       "model_id": "",
       "version_major": 2,
       "version_minor": 0
      },
      "text/plain": [
       "HBox(children=(FloatProgress(value=0.0, description='Training', layout=Layout(flex='2'), max=1250.0, style=Pro…"
      ]
     },
     "metadata": {},
     "output_type": "display_data"
    },
    {
     "name": "stdout",
     "output_type": "stream",
     "text": [
      "Epoch 285: train=12.9891, val=11.3048, took 40.351 s\n",
      "  Validation Found 95448 of 108007, added 5860 (eff 88.37%) (0.293 FP/event)\n",
      "Result epoch:  285\n",
      "Average Eff:  0.0\n",
      "Average FP Rate:  0.0\n"
     ]
    },
    {
     "data": {
      "application/vnd.jupyter.widget-view+json": {
       "model_id": "",
       "version_major": 2,
       "version_minor": 0
      },
      "text/plain": [
       "HBox(children=(FloatProgress(value=0.0, description='Training', layout=Layout(flex='2'), max=1250.0, style=Pro…"
      ]
     },
     "metadata": {},
     "output_type": "display_data"
    },
    {
     "name": "stdout",
     "output_type": "stream",
     "text": [
      "Epoch 286: train=12.9762, val=11.2922, took 40.343 s\n",
      "  Validation Found 95457 of 108007, added 5937 (eff 88.38%) (0.297 FP/event)\n",
      "Result epoch:  286\n",
      "Average Eff:  0.0\n",
      "Average FP Rate:  0.0\n"
     ]
    },
    {
     "data": {
      "application/vnd.jupyter.widget-view+json": {
       "model_id": "",
       "version_major": 2,
       "version_minor": 0
      },
      "text/plain": [
       "HBox(children=(FloatProgress(value=0.0, description='Training', layout=Layout(flex='2'), max=1250.0, style=Pro…"
      ]
     },
     "metadata": {},
     "output_type": "display_data"
    },
    {
     "name": "stdout",
     "output_type": "stream",
     "text": [
      "Epoch 287: train=12.961, val=11.2943, took 40.385 s\n",
      "  Validation Found 95549 of 108007, added 5995 (eff 88.47%) (0.3 FP/event)\n",
      "Result epoch:  287\n",
      "Average Eff:  0.0\n",
      "Average FP Rate:  0.0\n"
     ]
    },
    {
     "data": {
      "application/vnd.jupyter.widget-view+json": {
       "model_id": "",
       "version_major": 2,
       "version_minor": 0
      },
      "text/plain": [
       "HBox(children=(FloatProgress(value=0.0, description='Training', layout=Layout(flex='2'), max=1250.0, style=Pro…"
      ]
     },
     "metadata": {},
     "output_type": "display_data"
    },
    {
     "name": "stdout",
     "output_type": "stream",
     "text": [
      "Epoch 288: train=12.9503, val=11.3129, took 40.351 s\n",
      "  Validation Found 95485 of 108007, added 5772 (eff 88.41%) (0.289 FP/event)\n",
      "Result epoch:  288\n",
      "Average Eff:  0.0\n",
      "Average FP Rate:  0.0\n"
     ]
    },
    {
     "data": {
      "application/vnd.jupyter.widget-view+json": {
       "model_id": "",
       "version_major": 2,
       "version_minor": 0
      },
      "text/plain": [
       "HBox(children=(FloatProgress(value=0.0, description='Training', layout=Layout(flex='2'), max=1250.0, style=Pro…"
      ]
     },
     "metadata": {},
     "output_type": "display_data"
    },
    {
     "name": "stdout",
     "output_type": "stream",
     "text": [
      "Epoch 289: train=12.933, val=11.2825, took 40.526 s\n",
      "  Validation Found 95553 of 108007, added 5863 (eff 88.47%) (0.293 FP/event)\n",
      "Result epoch:  289\n",
      "Average Eff:  0.0\n",
      "Average FP Rate:  0.0\n"
     ]
    },
    {
     "data": {
      "application/vnd.jupyter.widget-view+json": {
       "model_id": "",
       "version_major": 2,
       "version_minor": 0
      },
      "text/plain": [
       "HBox(children=(FloatProgress(value=0.0, description='Training', layout=Layout(flex='2'), max=1250.0, style=Pro…"
      ]
     },
     "metadata": {},
     "output_type": "display_data"
    },
    {
     "name": "stdout",
     "output_type": "stream",
     "text": [
      "Epoch 290: train=12.9315, val=11.2632, took 40.442 s\n",
      "  Validation Found 95537 of 108007, added 5864 (eff 88.45%) (0.293 FP/event)\n",
      "Result epoch:  290\n",
      "Average Eff:  0.0\n",
      "Average FP Rate:  0.0\n"
     ]
    },
    {
     "data": {
      "application/vnd.jupyter.widget-view+json": {
       "model_id": "",
       "version_major": 2,
       "version_minor": 0
      },
      "text/plain": [
       "HBox(children=(FloatProgress(value=0.0, description='Training', layout=Layout(flex='2'), max=1250.0, style=Pro…"
      ]
     },
     "metadata": {},
     "output_type": "display_data"
    },
    {
     "name": "stdout",
     "output_type": "stream",
     "text": [
      "Epoch 291: train=12.9219, val=11.2663, took 40.388 s\n",
      "  Validation Found 95552 of 108007, added 5923 (eff 88.47%) (0.296 FP/event)\n",
      "Result epoch:  291\n",
      "Average Eff:  0.0\n",
      "Average FP Rate:  0.0\n"
     ]
    },
    {
     "data": {
      "application/vnd.jupyter.widget-view+json": {
       "model_id": "",
       "version_major": 2,
       "version_minor": 0
      },
      "text/plain": [
       "HBox(children=(FloatProgress(value=0.0, description='Training', layout=Layout(flex='2'), max=1250.0, style=Pro…"
      ]
     },
     "metadata": {},
     "output_type": "display_data"
    },
    {
     "name": "stdout",
     "output_type": "stream",
     "text": [
      "Epoch 292: train=12.9048, val=11.2683, took 40.395 s\n",
      "  Validation Found 95597 of 108007, added 5905 (eff 88.51%) (0.295 FP/event)\n",
      "Result epoch:  292\n",
      "Average Eff:  0.0\n",
      "Average FP Rate:  0.0\n"
     ]
    },
    {
     "data": {
      "application/vnd.jupyter.widget-view+json": {
       "model_id": "",
       "version_major": 2,
       "version_minor": 0
      },
      "text/plain": [
       "HBox(children=(FloatProgress(value=0.0, description='Training', layout=Layout(flex='2'), max=1250.0, style=Pro…"
      ]
     },
     "metadata": {},
     "output_type": "display_data"
    },
    {
     "name": "stdout",
     "output_type": "stream",
     "text": [
      "Epoch 293: train=12.8943, val=11.2745, took 40.407 s\n",
      "  Validation Found 95562 of 108007, added 5800 (eff 88.48%) (0.29 FP/event)\n",
      "Result epoch:  293\n",
      "Average Eff:  0.0\n",
      "Average FP Rate:  0.0\n"
     ]
    },
    {
     "data": {
      "application/vnd.jupyter.widget-view+json": {
       "model_id": "",
       "version_major": 2,
       "version_minor": 0
      },
      "text/plain": [
       "HBox(children=(FloatProgress(value=0.0, description='Training', layout=Layout(flex='2'), max=1250.0, style=Pro…"
      ]
     },
     "metadata": {},
     "output_type": "display_data"
    },
    {
     "name": "stdout",
     "output_type": "stream",
     "text": [
      "Epoch 294: train=12.9083, val=11.2485, took 40.401 s\n",
      "  Validation Found 95724 of 108007, added 6113 (eff 88.63%) (0.306 FP/event)\n",
      "Result epoch:  294\n",
      "Average Eff:  0.0\n",
      "Average FP Rate:  0.0\n"
     ]
    },
    {
     "data": {
      "application/vnd.jupyter.widget-view+json": {
       "model_id": "",
       "version_major": 2,
       "version_minor": 0
      },
      "text/plain": [
       "HBox(children=(FloatProgress(value=0.0, description='Training', layout=Layout(flex='2'), max=1250.0, style=Pro…"
      ]
     },
     "metadata": {},
     "output_type": "display_data"
    },
    {
     "name": "stdout",
     "output_type": "stream",
     "text": [
      "Epoch 295: train=12.8864, val=11.2431, took 40.38 s\n",
      "  Validation Found 95742 of 108007, added 6085 (eff 88.64%) (0.304 FP/event)\n",
      "Result epoch:  295\n",
      "Average Eff:  0.0\n",
      "Average FP Rate:  0.0\n"
     ]
    },
    {
     "data": {
      "application/vnd.jupyter.widget-view+json": {
       "model_id": "",
       "version_major": 2,
       "version_minor": 0
      },
      "text/plain": [
       "HBox(children=(FloatProgress(value=0.0, description='Training', layout=Layout(flex='2'), max=1250.0, style=Pro…"
      ]
     },
     "metadata": {},
     "output_type": "display_data"
    },
    {
     "name": "stdout",
     "output_type": "stream",
     "text": [
      "Epoch 296: train=12.8708, val=11.2347, took 40.411 s\n",
      "  Validation Found 95751 of 108007, added 6065 (eff 88.65%) (0.303 FP/event)\n",
      "Result epoch:  296\n",
      "Average Eff:  0.0\n",
      "Average FP Rate:  0.0\n"
     ]
    },
    {
     "data": {
      "application/vnd.jupyter.widget-view+json": {
       "model_id": "",
       "version_major": 2,
       "version_minor": 0
      },
      "text/plain": [
       "HBox(children=(FloatProgress(value=0.0, description='Training', layout=Layout(flex='2'), max=1250.0, style=Pro…"
      ]
     },
     "metadata": {},
     "output_type": "display_data"
    },
    {
     "name": "stdout",
     "output_type": "stream",
     "text": [
      "Epoch 297: train=12.8819, val=11.2343, took 40.385 s\n",
      "  Validation Found 95596 of 108007, added 5781 (eff 88.51%) (0.289 FP/event)\n",
      "Result epoch:  297\n",
      "Average Eff:  0.0\n",
      "Average FP Rate:  0.0\n"
     ]
    },
    {
     "data": {
      "application/vnd.jupyter.widget-view+json": {
       "model_id": "",
       "version_major": 2,
       "version_minor": 0
      },
      "text/plain": [
       "HBox(children=(FloatProgress(value=0.0, description='Training', layout=Layout(flex='2'), max=1250.0, style=Pro…"
      ]
     },
     "metadata": {},
     "output_type": "display_data"
    },
    {
     "name": "stdout",
     "output_type": "stream",
     "text": [
      "Epoch 298: train=12.8709, val=11.2324, took 40.388 s\n",
      "  Validation Found 95671 of 108007, added 5869 (eff 88.58%) (0.293 FP/event)\n",
      "Result epoch:  298\n",
      "Average Eff:  0.0\n",
      "Average FP Rate:  0.0\n"
     ]
    },
    {
     "data": {
      "application/vnd.jupyter.widget-view+json": {
       "model_id": "",
       "version_major": 2,
       "version_minor": 0
      },
      "text/plain": [
       "HBox(children=(FloatProgress(value=0.0, description='Training', layout=Layout(flex='2'), max=1250.0, style=Pro…"
      ]
     },
     "metadata": {},
     "output_type": "display_data"
    },
    {
     "name": "stdout",
     "output_type": "stream",
     "text": [
      "Epoch 299: train=12.8446, val=11.2178, took 40.38 s\n",
      "  Validation Found 95722 of 108007, added 5890 (eff 88.63%) (0.294 FP/event)\n",
      "Result epoch:  299\n",
      "Average Eff:  0.0\n",
      "Average FP Rate:  0.0\n"
     ]
    },
    {
     "data": {
      "application/vnd.jupyter.widget-view+json": {
       "model_id": "",
       "version_major": 2,
       "version_minor": 0
      },
      "text/plain": [
       "HBox(children=(FloatProgress(value=0.0, description='Training', layout=Layout(flex='2'), max=1250.0, style=Pro…"
      ]
     },
     "metadata": {},
     "output_type": "display_data"
    },
    {
     "name": "stdout",
     "output_type": "stream",
     "text": [
      "Epoch 300: train=12.8383, val=11.2085, took 40.368 s\n",
      "  Validation Found 95776 of 108007, added 5936 (eff 88.68%) (0.297 FP/event)\n",
      "Result epoch:  300\n",
      "Average Eff:  0.0\n",
      "Average FP Rate:  0.0\n"
     ]
    },
    {
     "data": {
      "application/vnd.jupyter.widget-view+json": {
       "model_id": "",
       "version_major": 2,
       "version_minor": 0
      },
      "text/plain": [
       "HBox(children=(FloatProgress(value=0.0, description='Training', layout=Layout(flex='2'), max=1250.0, style=Pro…"
      ]
     },
     "metadata": {},
     "output_type": "display_data"
    },
    {
     "name": "stdout",
     "output_type": "stream",
     "text": [
      "Epoch 301: train=12.8378, val=11.2182, took 40.406 s\n",
      "  Validation Found 95885 of 108007, added 6054 (eff 88.78%) (0.303 FP/event)\n",
      "Result epoch:  301\n",
      "Average Eff:  0.0\n",
      "Average FP Rate:  0.0\n"
     ]
    },
    {
     "data": {
      "application/vnd.jupyter.widget-view+json": {
       "model_id": "",
       "version_major": 2,
       "version_minor": 0
      },
      "text/plain": [
       "HBox(children=(FloatProgress(value=0.0, description='Training', layout=Layout(flex='2'), max=1250.0, style=Pro…"
      ]
     },
     "metadata": {},
     "output_type": "display_data"
    },
    {
     "name": "stdout",
     "output_type": "stream",
     "text": [
      "Epoch 302: train=12.8265, val=11.1962, took 40.396 s\n",
      "  Validation Found 95811 of 108007, added 5969 (eff 88.71%) (0.298 FP/event)\n",
      "Result epoch:  302\n",
      "Average Eff:  0.0\n",
      "Average FP Rate:  0.0\n"
     ]
    },
    {
     "data": {
      "application/vnd.jupyter.widget-view+json": {
       "model_id": "",
       "version_major": 2,
       "version_minor": 0
      },
      "text/plain": [
       "HBox(children=(FloatProgress(value=0.0, description='Training', layout=Layout(flex='2'), max=1250.0, style=Pro…"
      ]
     },
     "metadata": {},
     "output_type": "display_data"
    },
    {
     "name": "stdout",
     "output_type": "stream",
     "text": [
      "Epoch 303: train=12.8133, val=11.1884, took 40.894 s\n",
      "  Validation Found 95824 of 108007, added 5937 (eff 88.72%) (0.297 FP/event)\n",
      "Result epoch:  303\n",
      "Average Eff:  0.0\n",
      "Average FP Rate:  0.0\n"
     ]
    },
    {
     "data": {
      "application/vnd.jupyter.widget-view+json": {
       "model_id": "",
       "version_major": 2,
       "version_minor": 0
      },
      "text/plain": [
       "HBox(children=(FloatProgress(value=0.0, description='Training', layout=Layout(flex='2'), max=1250.0, style=Pro…"
      ]
     },
     "metadata": {},
     "output_type": "display_data"
    },
    {
     "name": "stdout",
     "output_type": "stream",
     "text": [
      "Epoch 304: train=12.7989, val=11.1965, took 40.277 s\n",
      "  Validation Found 95838 of 108007, added 5916 (eff 88.73%) (0.296 FP/event)\n",
      "Result epoch:  304\n",
      "Average Eff:  0.0\n",
      "Average FP Rate:  0.0\n"
     ]
    },
    {
     "data": {
      "application/vnd.jupyter.widget-view+json": {
       "model_id": "",
       "version_major": 2,
       "version_minor": 0
      },
      "text/plain": [
       "HBox(children=(FloatProgress(value=0.0, description='Training', layout=Layout(flex='2'), max=1250.0, style=Pro…"
      ]
     },
     "metadata": {},
     "output_type": "display_data"
    },
    {
     "name": "stdout",
     "output_type": "stream",
     "text": [
      "Epoch 305: train=12.8073, val=11.1905, took 40.261 s\n",
      "  Validation Found 95777 of 108007, added 5866 (eff 88.68%) (0.293 FP/event)\n",
      "Result epoch:  305\n",
      "Average Eff:  0.0\n",
      "Average FP Rate:  0.0\n"
     ]
    },
    {
     "data": {
      "application/vnd.jupyter.widget-view+json": {
       "model_id": "",
       "version_major": 2,
       "version_minor": 0
      },
      "text/plain": [
       "HBox(children=(FloatProgress(value=0.0, description='Training', layout=Layout(flex='2'), max=1250.0, style=Pro…"
      ]
     },
     "metadata": {},
     "output_type": "display_data"
    },
    {
     "name": "stdout",
     "output_type": "stream",
     "text": [
      "Epoch 306: train=12.805, val=11.1797, took 40.25 s\n",
      "  Validation Found 95783 of 108007, added 5886 (eff 88.68%) (0.294 FP/event)\n",
      "Result epoch:  306\n",
      "Average Eff:  0.0\n",
      "Average FP Rate:  0.0\n"
     ]
    },
    {
     "data": {
      "application/vnd.jupyter.widget-view+json": {
       "model_id": "",
       "version_major": 2,
       "version_minor": 0
      },
      "text/plain": [
       "HBox(children=(FloatProgress(value=0.0, description='Training', layout=Layout(flex='2'), max=1250.0, style=Pro…"
      ]
     },
     "metadata": {},
     "output_type": "display_data"
    },
    {
     "name": "stdout",
     "output_type": "stream",
     "text": [
      "Epoch 307: train=12.7899, val=11.1768, took 40.255 s\n",
      "  Validation Found 95772 of 108007, added 5863 (eff 88.67%) (0.293 FP/event)\n",
      "Result epoch:  307\n",
      "Average Eff:  0.0\n",
      "Average FP Rate:  0.0\n"
     ]
    },
    {
     "data": {
      "application/vnd.jupyter.widget-view+json": {
       "model_id": "",
       "version_major": 2,
       "version_minor": 0
      },
      "text/plain": [
       "HBox(children=(FloatProgress(value=0.0, description='Training', layout=Layout(flex='2'), max=1250.0, style=Pro…"
      ]
     },
     "metadata": {},
     "output_type": "display_data"
    },
    {
     "name": "stdout",
     "output_type": "stream",
     "text": [
      "Epoch 308: train=12.7968, val=11.1844, took 40.841 s\n",
      "  Validation Found 95767 of 108007, added 5811 (eff 88.67%) (0.291 FP/event)\n",
      "Result epoch:  308\n",
      "Average Eff:  0.0\n",
      "Average FP Rate:  0.0\n"
     ]
    },
    {
     "data": {
      "application/vnd.jupyter.widget-view+json": {
       "model_id": "",
       "version_major": 2,
       "version_minor": 0
      },
      "text/plain": [
       "HBox(children=(FloatProgress(value=0.0, description='Training', layout=Layout(flex='2'), max=1250.0, style=Pro…"
      ]
     },
     "metadata": {},
     "output_type": "display_data"
    },
    {
     "name": "stdout",
     "output_type": "stream",
     "text": [
      "Epoch 309: train=12.7878, val=11.1728, took 40.274 s\n",
      "  Validation Found 95923 of 108007, added 5955 (eff 88.81%) (0.298 FP/event)\n",
      "Result epoch:  309\n",
      "Average Eff:  0.0\n",
      "Average FP Rate:  0.0\n"
     ]
    },
    {
     "data": {
      "application/vnd.jupyter.widget-view+json": {
       "model_id": "",
       "version_major": 2,
       "version_minor": 0
      },
      "text/plain": [
       "HBox(children=(FloatProgress(value=0.0, description='Training', layout=Layout(flex='2'), max=1250.0, style=Pro…"
      ]
     },
     "metadata": {},
     "output_type": "display_data"
    },
    {
     "name": "stdout",
     "output_type": "stream",
     "text": [
      "Epoch 310: train=12.7854, val=11.1632, took 40.27 s\n",
      "  Validation Found 95796 of 108007, added 5833 (eff 88.69%) (0.292 FP/event)\n",
      "Result epoch:  310\n",
      "Average Eff:  0.8869425129852695\n",
      "Average FP Rate:  0.29163541822908856\n"
     ]
    },
    {
     "data": {
      "application/vnd.jupyter.widget-view+json": {
       "model_id": "",
       "version_major": 2,
       "version_minor": 0
      },
      "text/plain": [
       "HBox(children=(FloatProgress(value=0.0, description='Training', layout=Layout(flex='2'), max=1250.0, style=Pro…"
      ]
     },
     "metadata": {},
     "output_type": "display_data"
    },
    {
     "name": "stdout",
     "output_type": "stream",
     "text": [
      "Epoch 311: train=12.7723, val=11.1838, took 40.274 s\n",
      "  Validation Found 95748 of 108007, added 5710 (eff 88.65%) (0.285 FP/event)\n",
      "Result epoch:  311\n",
      "Average Eff:  1.773440610330812\n",
      "Average FP Rate:  0.5771211439428029\n"
     ]
    },
    {
     "data": {
      "application/vnd.jupyter.widget-view+json": {
       "model_id": "",
       "version_major": 2,
       "version_minor": 0
      },
      "text/plain": [
       "HBox(children=(FloatProgress(value=0.0, description='Training', layout=Layout(flex='2'), max=1250.0, style=Pro…"
      ]
     },
     "metadata": {},
     "output_type": "display_data"
    },
    {
     "name": "stdout",
     "output_type": "stream",
     "text": [
      "Epoch 312: train=12.7723, val=11.1607, took 40.248 s\n",
      "  Validation Found 95860 of 108007, added 6001 (eff 88.75%) (0.3 FP/event)\n",
      "Result epoch:  312\n",
      "Average Eff:  2.6609756775023845\n",
      "Average FP Rate:  0.8771561421928904\n"
     ]
    },
    {
     "data": {
      "application/vnd.jupyter.widget-view+json": {
       "model_id": "",
       "version_major": 2,
       "version_minor": 0
      },
      "text/plain": [
       "HBox(children=(FloatProgress(value=0.0, description='Training', layout=Layout(flex='2'), max=1250.0, style=Pro…"
      ]
     },
     "metadata": {},
     "output_type": "display_data"
    },
    {
     "name": "stdout",
     "output_type": "stream",
     "text": [
      "Epoch 313: train=12.7668, val=11.179, took 40.265 s\n",
      "  Validation Found 95739 of 108007, added 5731 (eff 88.64%) (0.287 FP/event)\n",
      "Result epoch:  313\n",
      "Average Eff:  3.547390446915478\n",
      "Average FP Rate:  1.1636918154092295\n"
     ]
    },
    {
     "data": {
      "application/vnd.jupyter.widget-view+json": {
       "model_id": "",
       "version_major": 2,
       "version_minor": 0
      },
      "text/plain": [
       "HBox(children=(FloatProgress(value=0.0, description='Training', layout=Layout(flex='2'), max=1250.0, style=Pro…"
      ]
     },
     "metadata": {},
     "output_type": "display_data"
    },
    {
     "name": "stdout",
     "output_type": "stream",
     "text": [
      "Epoch 314: train=12.7739, val=11.1541, took 40.276 s\n",
      "  Validation Found 95854 of 108007, added 5941 (eff 88.75%) (0.297 FP/event)\n",
      "Result epoch:  314\n",
      "Average Eff:  4.434869962132084\n",
      "Average FP Rate:  1.4607269636518174\n"
     ]
    },
    {
     "data": {
      "application/vnd.jupyter.widget-view+json": {
       "model_id": "",
       "version_major": 2,
       "version_minor": 0
      },
      "text/plain": [
       "HBox(children=(FloatProgress(value=0.0, description='Training', layout=Layout(flex='2'), max=1250.0, style=Pro…"
      ]
     },
     "metadata": {},
     "output_type": "display_data"
    },
    {
     "name": "stdout",
     "output_type": "stream",
     "text": [
      "Epoch 315: train=12.7584, val=11.1493, took 40.238 s\n",
      "  Validation Found 95828 of 108007, added 5912 (eff 88.72%) (0.296 FP/event)\n",
      "Result epoch:  315\n",
      "Average Eff:  5.3221087522105055\n",
      "Average FP Rate:  1.7563121843907805\n"
     ]
    },
    {
     "data": {
      "application/vnd.jupyter.widget-view+json": {
       "model_id": "",
       "version_major": 2,
       "version_minor": 0
      },
      "text/plain": [
       "HBox(children=(FloatProgress(value=0.0, description='Training', layout=Layout(flex='2'), max=1250.0, style=Pro…"
      ]
     },
     "metadata": {},
     "output_type": "display_data"
    },
    {
     "name": "stdout",
     "output_type": "stream",
     "text": [
      "Epoch 316: train=12.7431, val=11.1542, took 40.285 s\n",
      "  Validation Found 95727 of 108007, added 5662 (eff 88.63%) (0.283 FP/event)\n",
      "Result epoch:  316\n",
      "Average Eff:  6.208412417713667\n",
      "Average FP Rate:  2.039398030098495\n"
     ]
    },
    {
     "data": {
      "application/vnd.jupyter.widget-view+json": {
       "model_id": "",
       "version_major": 2,
       "version_minor": 0
      },
      "text/plain": [
       "HBox(children=(FloatProgress(value=0.0, description='Training', layout=Layout(flex='2'), max=1250.0, style=Pro…"
      ]
     },
     "metadata": {},
     "output_type": "display_data"
    },
    {
     "name": "stdout",
     "output_type": "stream",
     "text": [
      "Epoch 317: train=12.7502, val=11.1603, took 40.264 s\n",
      "  Validation Found 95845 of 108007, added 5830 (eff 88.74%) (0.291 FP/event)\n",
      "Result epoch:  317\n",
      "Average Eff:  7.095808604997825\n",
      "Average FP Rate:  2.3308834558272085\n"
     ]
    },
    {
     "data": {
      "application/vnd.jupyter.widget-view+json": {
       "model_id": "",
       "version_major": 2,
       "version_minor": 0
      },
      "text/plain": [
       "HBox(children=(FloatProgress(value=0.0, description='Training', layout=Layout(flex='2'), max=1250.0, style=Pro…"
      ]
     },
     "metadata": {},
     "output_type": "display_data"
    },
    {
     "name": "stdout",
     "output_type": "stream",
     "text": [
      "Epoch 318: train=12.7593, val=11.1657, took 40.228 s\n",
      "  Validation Found 95761 of 108007, added 5659 (eff 88.66%) (0.283 FP/event)\n",
      "Result epoch:  318\n",
      "Average Eff:  7.982427064912461\n",
      "Average FP Rate:  2.613819309034548\n"
     ]
    },
    {
     "data": {
      "application/vnd.jupyter.widget-view+json": {
       "model_id": "",
       "version_major": 2,
       "version_minor": 0
      },
      "text/plain": [
       "HBox(children=(FloatProgress(value=0.0, description='Training', layout=Layout(flex='2'), max=1250.0, style=Pro…"
      ]
     },
     "metadata": {},
     "output_type": "display_data"
    },
    {
     "name": "stdout",
     "output_type": "stream",
     "text": [
      "Epoch 319: train=12.7466, val=11.153, took 40.293 s\n",
      "  Validation Found 95799 of 108007, added 5737 (eff 88.70%) (0.287 FP/event)\n",
      "Result epoch:  319\n",
      "Averaging...\n",
      "\n",
      "Average Eff:  0.8869397353875212\n",
      "Average FP Rate:  0.29006549672516374\n",
      "\n"
     ]
    },
    {
     "data": {
      "application/javascript": [
       "/* Put everything inside the global mpl namespace */\n",
       "window.mpl = {};\n",
       "\n",
       "\n",
       "mpl.get_websocket_type = function() {\n",
       "    if (typeof(WebSocket) !== 'undefined') {\n",
       "        return WebSocket;\n",
       "    } else if (typeof(MozWebSocket) !== 'undefined') {\n",
       "        return MozWebSocket;\n",
       "    } else {\n",
       "        alert('Your browser does not have WebSocket support. ' +\n",
       "              'Please try Chrome, Safari or Firefox ≥ 6. ' +\n",
       "              'Firefox 4 and 5 are also supported but you ' +\n",
       "              'have to enable WebSockets in about:config.');\n",
       "    };\n",
       "}\n",
       "\n",
       "mpl.figure = function(figure_id, websocket, ondownload, parent_element) {\n",
       "    this.id = figure_id;\n",
       "\n",
       "    this.ws = websocket;\n",
       "\n",
       "    this.supports_binary = (this.ws.binaryType != undefined);\n",
       "\n",
       "    if (!this.supports_binary) {\n",
       "        var warnings = document.getElementById(\"mpl-warnings\");\n",
       "        if (warnings) {\n",
       "            warnings.style.display = 'block';\n",
       "            warnings.textContent = (\n",
       "                \"This browser does not support binary websocket messages. \" +\n",
       "                    \"Performance may be slow.\");\n",
       "        }\n",
       "    }\n",
       "\n",
       "    this.imageObj = new Image();\n",
       "\n",
       "    this.context = undefined;\n",
       "    this.message = undefined;\n",
       "    this.canvas = undefined;\n",
       "    this.rubberband_canvas = undefined;\n",
       "    this.rubberband_context = undefined;\n",
       "    this.format_dropdown = undefined;\n",
       "\n",
       "    this.image_mode = 'full';\n",
       "\n",
       "    this.root = $('<div/>');\n",
       "    this._root_extra_style(this.root)\n",
       "    this.root.attr('style', 'display: inline-block');\n",
       "\n",
       "    $(parent_element).append(this.root);\n",
       "\n",
       "    this._init_header(this);\n",
       "    this._init_canvas(this);\n",
       "    this._init_toolbar(this);\n",
       "\n",
       "    var fig = this;\n",
       "\n",
       "    this.waiting = false;\n",
       "\n",
       "    this.ws.onopen =  function () {\n",
       "            fig.send_message(\"supports_binary\", {value: fig.supports_binary});\n",
       "            fig.send_message(\"send_image_mode\", {});\n",
       "            if (mpl.ratio != 1) {\n",
       "                fig.send_message(\"set_dpi_ratio\", {'dpi_ratio': mpl.ratio});\n",
       "            }\n",
       "            fig.send_message(\"refresh\", {});\n",
       "        }\n",
       "\n",
       "    this.imageObj.onload = function() {\n",
       "            if (fig.image_mode == 'full') {\n",
       "                // Full images could contain transparency (where diff images\n",
       "                // almost always do), so we need to clear the canvas so that\n",
       "                // there is no ghosting.\n",
       "                fig.context.clearRect(0, 0, fig.canvas.width, fig.canvas.height);\n",
       "            }\n",
       "            fig.context.drawImage(fig.imageObj, 0, 0);\n",
       "        };\n",
       "\n",
       "    this.imageObj.onunload = function() {\n",
       "        fig.ws.close();\n",
       "    }\n",
       "\n",
       "    this.ws.onmessage = this._make_on_message_function(this);\n",
       "\n",
       "    this.ondownload = ondownload;\n",
       "}\n",
       "\n",
       "mpl.figure.prototype._init_header = function() {\n",
       "    var titlebar = $(\n",
       "        '<div class=\"ui-dialog-titlebar ui-widget-header ui-corner-all ' +\n",
       "        'ui-helper-clearfix\"/>');\n",
       "    var titletext = $(\n",
       "        '<div class=\"ui-dialog-title\" style=\"width: 100%; ' +\n",
       "        'text-align: center; padding: 3px;\"/>');\n",
       "    titlebar.append(titletext)\n",
       "    this.root.append(titlebar);\n",
       "    this.header = titletext[0];\n",
       "}\n",
       "\n",
       "\n",
       "\n",
       "mpl.figure.prototype._canvas_extra_style = function(canvas_div) {\n",
       "\n",
       "}\n",
       "\n",
       "\n",
       "mpl.figure.prototype._root_extra_style = function(canvas_div) {\n",
       "\n",
       "}\n",
       "\n",
       "mpl.figure.prototype._init_canvas = function() {\n",
       "    var fig = this;\n",
       "\n",
       "    var canvas_div = $('<div/>');\n",
       "\n",
       "    canvas_div.attr('style', 'position: relative; clear: both; outline: 0');\n",
       "\n",
       "    function canvas_keyboard_event(event) {\n",
       "        return fig.key_event(event, event['data']);\n",
       "    }\n",
       "\n",
       "    canvas_div.keydown('key_press', canvas_keyboard_event);\n",
       "    canvas_div.keyup('key_release', canvas_keyboard_event);\n",
       "    this.canvas_div = canvas_div\n",
       "    this._canvas_extra_style(canvas_div)\n",
       "    this.root.append(canvas_div);\n",
       "\n",
       "    var canvas = $('<canvas/>');\n",
       "    canvas.addClass('mpl-canvas');\n",
       "    canvas.attr('style', \"left: 0; top: 0; z-index: 0; outline: 0\")\n",
       "\n",
       "    this.canvas = canvas[0];\n",
       "    this.context = canvas[0].getContext(\"2d\");\n",
       "\n",
       "    var backingStore = this.context.backingStorePixelRatio ||\n",
       "\tthis.context.webkitBackingStorePixelRatio ||\n",
       "\tthis.context.mozBackingStorePixelRatio ||\n",
       "\tthis.context.msBackingStorePixelRatio ||\n",
       "\tthis.context.oBackingStorePixelRatio ||\n",
       "\tthis.context.backingStorePixelRatio || 1;\n",
       "\n",
       "    mpl.ratio = (window.devicePixelRatio || 1) / backingStore;\n",
       "\n",
       "    var rubberband = $('<canvas/>');\n",
       "    rubberband.attr('style', \"position: absolute; left: 0; top: 0; z-index: 1;\")\n",
       "\n",
       "    var pass_mouse_events = true;\n",
       "\n",
       "    canvas_div.resizable({\n",
       "        start: function(event, ui) {\n",
       "            pass_mouse_events = false;\n",
       "        },\n",
       "        resize: function(event, ui) {\n",
       "            fig.request_resize(ui.size.width, ui.size.height);\n",
       "        },\n",
       "        stop: function(event, ui) {\n",
       "            pass_mouse_events = true;\n",
       "            fig.request_resize(ui.size.width, ui.size.height);\n",
       "        },\n",
       "    });\n",
       "\n",
       "    function mouse_event_fn(event) {\n",
       "        if (pass_mouse_events)\n",
       "            return fig.mouse_event(event, event['data']);\n",
       "    }\n",
       "\n",
       "    rubberband.mousedown('button_press', mouse_event_fn);\n",
       "    rubberband.mouseup('button_release', mouse_event_fn);\n",
       "    // Throttle sequential mouse events to 1 every 20ms.\n",
       "    rubberband.mousemove('motion_notify', mouse_event_fn);\n",
       "\n",
       "    rubberband.mouseenter('figure_enter', mouse_event_fn);\n",
       "    rubberband.mouseleave('figure_leave', mouse_event_fn);\n",
       "\n",
       "    canvas_div.on(\"wheel\", function (event) {\n",
       "        event = event.originalEvent;\n",
       "        event['data'] = 'scroll'\n",
       "        if (event.deltaY < 0) {\n",
       "            event.step = 1;\n",
       "        } else {\n",
       "            event.step = -1;\n",
       "        }\n",
       "        mouse_event_fn(event);\n",
       "    });\n",
       "\n",
       "    canvas_div.append(canvas);\n",
       "    canvas_div.append(rubberband);\n",
       "\n",
       "    this.rubberband = rubberband;\n",
       "    this.rubberband_canvas = rubberband[0];\n",
       "    this.rubberband_context = rubberband[0].getContext(\"2d\");\n",
       "    this.rubberband_context.strokeStyle = \"#000000\";\n",
       "\n",
       "    this._resize_canvas = function(width, height) {\n",
       "        // Keep the size of the canvas, canvas container, and rubber band\n",
       "        // canvas in synch.\n",
       "        canvas_div.css('width', width)\n",
       "        canvas_div.css('height', height)\n",
       "\n",
       "        canvas.attr('width', width * mpl.ratio);\n",
       "        canvas.attr('height', height * mpl.ratio);\n",
       "        canvas.attr('style', 'width: ' + width + 'px; height: ' + height + 'px;');\n",
       "\n",
       "        rubberband.attr('width', width);\n",
       "        rubberband.attr('height', height);\n",
       "    }\n",
       "\n",
       "    // Set the figure to an initial 600x600px, this will subsequently be updated\n",
       "    // upon first draw.\n",
       "    this._resize_canvas(600, 600);\n",
       "\n",
       "    // Disable right mouse context menu.\n",
       "    $(this.rubberband_canvas).bind(\"contextmenu\",function(e){\n",
       "        return false;\n",
       "    });\n",
       "\n",
       "    function set_focus () {\n",
       "        canvas.focus();\n",
       "        canvas_div.focus();\n",
       "    }\n",
       "\n",
       "    window.setTimeout(set_focus, 100);\n",
       "}\n",
       "\n",
       "mpl.figure.prototype._init_toolbar = function() {\n",
       "    var fig = this;\n",
       "\n",
       "    var nav_element = $('<div/>');\n",
       "    nav_element.attr('style', 'width: 100%');\n",
       "    this.root.append(nav_element);\n",
       "\n",
       "    // Define a callback function for later on.\n",
       "    function toolbar_event(event) {\n",
       "        return fig.toolbar_button_onclick(event['data']);\n",
       "    }\n",
       "    function toolbar_mouse_event(event) {\n",
       "        return fig.toolbar_button_onmouseover(event['data']);\n",
       "    }\n",
       "\n",
       "    for(var toolbar_ind in mpl.toolbar_items) {\n",
       "        var name = mpl.toolbar_items[toolbar_ind][0];\n",
       "        var tooltip = mpl.toolbar_items[toolbar_ind][1];\n",
       "        var image = mpl.toolbar_items[toolbar_ind][2];\n",
       "        var method_name = mpl.toolbar_items[toolbar_ind][3];\n",
       "\n",
       "        if (!name) {\n",
       "            // put a spacer in here.\n",
       "            continue;\n",
       "        }\n",
       "        var button = $('<button/>');\n",
       "        button.addClass('ui-button ui-widget ui-state-default ui-corner-all ' +\n",
       "                        'ui-button-icon-only');\n",
       "        button.attr('role', 'button');\n",
       "        button.attr('aria-disabled', 'false');\n",
       "        button.click(method_name, toolbar_event);\n",
       "        button.mouseover(tooltip, toolbar_mouse_event);\n",
       "\n",
       "        var icon_img = $('<span/>');\n",
       "        icon_img.addClass('ui-button-icon-primary ui-icon');\n",
       "        icon_img.addClass(image);\n",
       "        icon_img.addClass('ui-corner-all');\n",
       "\n",
       "        var tooltip_span = $('<span/>');\n",
       "        tooltip_span.addClass('ui-button-text');\n",
       "        tooltip_span.html(tooltip);\n",
       "\n",
       "        button.append(icon_img);\n",
       "        button.append(tooltip_span);\n",
       "\n",
       "        nav_element.append(button);\n",
       "    }\n",
       "\n",
       "    var fmt_picker_span = $('<span/>');\n",
       "\n",
       "    var fmt_picker = $('<select/>');\n",
       "    fmt_picker.addClass('mpl-toolbar-option ui-widget ui-widget-content');\n",
       "    fmt_picker_span.append(fmt_picker);\n",
       "    nav_element.append(fmt_picker_span);\n",
       "    this.format_dropdown = fmt_picker[0];\n",
       "\n",
       "    for (var ind in mpl.extensions) {\n",
       "        var fmt = mpl.extensions[ind];\n",
       "        var option = $(\n",
       "            '<option/>', {selected: fmt === mpl.default_extension}).html(fmt);\n",
       "        fmt_picker.append(option);\n",
       "    }\n",
       "\n",
       "    // Add hover states to the ui-buttons\n",
       "    $( \".ui-button\" ).hover(\n",
       "        function() { $(this).addClass(\"ui-state-hover\");},\n",
       "        function() { $(this).removeClass(\"ui-state-hover\");}\n",
       "    );\n",
       "\n",
       "    var status_bar = $('<span class=\"mpl-message\"/>');\n",
       "    nav_element.append(status_bar);\n",
       "    this.message = status_bar[0];\n",
       "}\n",
       "\n",
       "mpl.figure.prototype.request_resize = function(x_pixels, y_pixels) {\n",
       "    // Request matplotlib to resize the figure. Matplotlib will then trigger a resize in the client,\n",
       "    // which will in turn request a refresh of the image.\n",
       "    this.send_message('resize', {'width': x_pixels, 'height': y_pixels});\n",
       "}\n",
       "\n",
       "mpl.figure.prototype.send_message = function(type, properties) {\n",
       "    properties['type'] = type;\n",
       "    properties['figure_id'] = this.id;\n",
       "    this.ws.send(JSON.stringify(properties));\n",
       "}\n",
       "\n",
       "mpl.figure.prototype.send_draw_message = function() {\n",
       "    if (!this.waiting) {\n",
       "        this.waiting = true;\n",
       "        this.ws.send(JSON.stringify({type: \"draw\", figure_id: this.id}));\n",
       "    }\n",
       "}\n",
       "\n",
       "\n",
       "mpl.figure.prototype.handle_save = function(fig, msg) {\n",
       "    var format_dropdown = fig.format_dropdown;\n",
       "    var format = format_dropdown.options[format_dropdown.selectedIndex].value;\n",
       "    fig.ondownload(fig, format);\n",
       "}\n",
       "\n",
       "\n",
       "mpl.figure.prototype.handle_resize = function(fig, msg) {\n",
       "    var size = msg['size'];\n",
       "    if (size[0] != fig.canvas.width || size[1] != fig.canvas.height) {\n",
       "        fig._resize_canvas(size[0], size[1]);\n",
       "        fig.send_message(\"refresh\", {});\n",
       "    };\n",
       "}\n",
       "\n",
       "mpl.figure.prototype.handle_rubberband = function(fig, msg) {\n",
       "    var x0 = msg['x0'] / mpl.ratio;\n",
       "    var y0 = (fig.canvas.height - msg['y0']) / mpl.ratio;\n",
       "    var x1 = msg['x1'] / mpl.ratio;\n",
       "    var y1 = (fig.canvas.height - msg['y1']) / mpl.ratio;\n",
       "    x0 = Math.floor(x0) + 0.5;\n",
       "    y0 = Math.floor(y0) + 0.5;\n",
       "    x1 = Math.floor(x1) + 0.5;\n",
       "    y1 = Math.floor(y1) + 0.5;\n",
       "    var min_x = Math.min(x0, x1);\n",
       "    var min_y = Math.min(y0, y1);\n",
       "    var width = Math.abs(x1 - x0);\n",
       "    var height = Math.abs(y1 - y0);\n",
       "\n",
       "    fig.rubberband_context.clearRect(\n",
       "        0, 0, fig.canvas.width / mpl.ratio, fig.canvas.height / mpl.ratio);\n",
       "\n",
       "    fig.rubberband_context.strokeRect(min_x, min_y, width, height);\n",
       "}\n",
       "\n",
       "mpl.figure.prototype.handle_figure_label = function(fig, msg) {\n",
       "    // Updates the figure title.\n",
       "    fig.header.textContent = msg['label'];\n",
       "}\n",
       "\n",
       "mpl.figure.prototype.handle_cursor = function(fig, msg) {\n",
       "    var cursor = msg['cursor'];\n",
       "    switch(cursor)\n",
       "    {\n",
       "    case 0:\n",
       "        cursor = 'pointer';\n",
       "        break;\n",
       "    case 1:\n",
       "        cursor = 'default';\n",
       "        break;\n",
       "    case 2:\n",
       "        cursor = 'crosshair';\n",
       "        break;\n",
       "    case 3:\n",
       "        cursor = 'move';\n",
       "        break;\n",
       "    }\n",
       "    fig.rubberband_canvas.style.cursor = cursor;\n",
       "}\n",
       "\n",
       "mpl.figure.prototype.handle_message = function(fig, msg) {\n",
       "    fig.message.textContent = msg['message'];\n",
       "}\n",
       "\n",
       "mpl.figure.prototype.handle_draw = function(fig, msg) {\n",
       "    // Request the server to send over a new figure.\n",
       "    fig.send_draw_message();\n",
       "}\n",
       "\n",
       "mpl.figure.prototype.handle_image_mode = function(fig, msg) {\n",
       "    fig.image_mode = msg['mode'];\n",
       "}\n",
       "\n",
       "mpl.figure.prototype.updated_canvas_event = function() {\n",
       "    // Called whenever the canvas gets updated.\n",
       "    this.send_message(\"ack\", {});\n",
       "}\n",
       "\n",
       "// A function to construct a web socket function for onmessage handling.\n",
       "// Called in the figure constructor.\n",
       "mpl.figure.prototype._make_on_message_function = function(fig) {\n",
       "    return function socket_on_message(evt) {\n",
       "        if (evt.data instanceof Blob) {\n",
       "            /* FIXME: We get \"Resource interpreted as Image but\n",
       "             * transferred with MIME type text/plain:\" errors on\n",
       "             * Chrome.  But how to set the MIME type?  It doesn't seem\n",
       "             * to be part of the websocket stream */\n",
       "            evt.data.type = \"image/png\";\n",
       "\n",
       "            /* Free the memory for the previous frames */\n",
       "            if (fig.imageObj.src) {\n",
       "                (window.URL || window.webkitURL).revokeObjectURL(\n",
       "                    fig.imageObj.src);\n",
       "            }\n",
       "\n",
       "            fig.imageObj.src = (window.URL || window.webkitURL).createObjectURL(\n",
       "                evt.data);\n",
       "            fig.updated_canvas_event();\n",
       "            fig.waiting = false;\n",
       "            return;\n",
       "        }\n",
       "        else if (typeof evt.data === 'string' && evt.data.slice(0, 21) == \"data:image/png;base64\") {\n",
       "            fig.imageObj.src = evt.data;\n",
       "            fig.updated_canvas_event();\n",
       "            fig.waiting = false;\n",
       "            return;\n",
       "        }\n",
       "\n",
       "        var msg = JSON.parse(evt.data);\n",
       "        var msg_type = msg['type'];\n",
       "\n",
       "        // Call the  \"handle_{type}\" callback, which takes\n",
       "        // the figure and JSON message as its only arguments.\n",
       "        try {\n",
       "            var callback = fig[\"handle_\" + msg_type];\n",
       "        } catch (e) {\n",
       "            console.log(\"No handler for the '\" + msg_type + \"' message type: \", msg);\n",
       "            return;\n",
       "        }\n",
       "\n",
       "        if (callback) {\n",
       "            try {\n",
       "                // console.log(\"Handling '\" + msg_type + \"' message: \", msg);\n",
       "                callback(fig, msg);\n",
       "            } catch (e) {\n",
       "                console.log(\"Exception inside the 'handler_\" + msg_type + \"' callback:\", e, e.stack, msg);\n",
       "            }\n",
       "        }\n",
       "    };\n",
       "}\n",
       "\n",
       "// from http://stackoverflow.com/questions/1114465/getting-mouse-location-in-canvas\n",
       "mpl.findpos = function(e) {\n",
       "    //this section is from http://www.quirksmode.org/js/events_properties.html\n",
       "    var targ;\n",
       "    if (!e)\n",
       "        e = window.event;\n",
       "    if (e.target)\n",
       "        targ = e.target;\n",
       "    else if (e.srcElement)\n",
       "        targ = e.srcElement;\n",
       "    if (targ.nodeType == 3) // defeat Safari bug\n",
       "        targ = targ.parentNode;\n",
       "\n",
       "    // jQuery normalizes the pageX and pageY\n",
       "    // pageX,Y are the mouse positions relative to the document\n",
       "    // offset() returns the position of the element relative to the document\n",
       "    var x = e.pageX - $(targ).offset().left;\n",
       "    var y = e.pageY - $(targ).offset().top;\n",
       "\n",
       "    return {\"x\": x, \"y\": y};\n",
       "};\n",
       "\n",
       "/*\n",
       " * return a copy of an object with only non-object keys\n",
       " * we need this to avoid circular references\n",
       " * http://stackoverflow.com/a/24161582/3208463\n",
       " */\n",
       "function simpleKeys (original) {\n",
       "  return Object.keys(original).reduce(function (obj, key) {\n",
       "    if (typeof original[key] !== 'object')\n",
       "        obj[key] = original[key]\n",
       "    return obj;\n",
       "  }, {});\n",
       "}\n",
       "\n",
       "mpl.figure.prototype.mouse_event = function(event, name) {\n",
       "    var canvas_pos = mpl.findpos(event)\n",
       "\n",
       "    if (name === 'button_press')\n",
       "    {\n",
       "        this.canvas.focus();\n",
       "        this.canvas_div.focus();\n",
       "    }\n",
       "\n",
       "    var x = canvas_pos.x * mpl.ratio;\n",
       "    var y = canvas_pos.y * mpl.ratio;\n",
       "\n",
       "    this.send_message(name, {x: x, y: y, button: event.button,\n",
       "                             step: event.step,\n",
       "                             guiEvent: simpleKeys(event)});\n",
       "\n",
       "    /* This prevents the web browser from automatically changing to\n",
       "     * the text insertion cursor when the button is pressed.  We want\n",
       "     * to control all of the cursor setting manually through the\n",
       "     * 'cursor' event from matplotlib */\n",
       "    event.preventDefault();\n",
       "    return false;\n",
       "}\n",
       "\n",
       "mpl.figure.prototype._key_event_extra = function(event, name) {\n",
       "    // Handle any extra behaviour associated with a key event\n",
       "}\n",
       "\n",
       "mpl.figure.prototype.key_event = function(event, name) {\n",
       "\n",
       "    // Prevent repeat events\n",
       "    if (name == 'key_press')\n",
       "    {\n",
       "        if (event.which === this._key)\n",
       "            return;\n",
       "        else\n",
       "            this._key = event.which;\n",
       "    }\n",
       "    if (name == 'key_release')\n",
       "        this._key = null;\n",
       "\n",
       "    var value = '';\n",
       "    if (event.ctrlKey && event.which != 17)\n",
       "        value += \"ctrl+\";\n",
       "    if (event.altKey && event.which != 18)\n",
       "        value += \"alt+\";\n",
       "    if (event.shiftKey && event.which != 16)\n",
       "        value += \"shift+\";\n",
       "\n",
       "    value += 'k';\n",
       "    value += event.which.toString();\n",
       "\n",
       "    this._key_event_extra(event, name);\n",
       "\n",
       "    this.send_message(name, {key: value,\n",
       "                             guiEvent: simpleKeys(event)});\n",
       "    return false;\n",
       "}\n",
       "\n",
       "mpl.figure.prototype.toolbar_button_onclick = function(name) {\n",
       "    if (name == 'download') {\n",
       "        this.handle_save(this, null);\n",
       "    } else {\n",
       "        this.send_message(\"toolbar_button\", {name: name});\n",
       "    }\n",
       "};\n",
       "\n",
       "mpl.figure.prototype.toolbar_button_onmouseover = function(tooltip) {\n",
       "    this.message.textContent = tooltip;\n",
       "};\n",
       "mpl.toolbar_items = [[\"Home\", \"Reset original view\", \"fa fa-home icon-home\", \"home\"], [\"Back\", \"Back to previous view\", \"fa fa-arrow-left icon-arrow-left\", \"back\"], [\"Forward\", \"Forward to next view\", \"fa fa-arrow-right icon-arrow-right\", \"forward\"], [\"\", \"\", \"\", \"\"], [\"Pan\", \"Pan axes with left mouse, zoom with right\", \"fa fa-arrows icon-move\", \"pan\"], [\"Zoom\", \"Zoom to rectangle\", \"fa fa-square-o icon-check-empty\", \"zoom\"], [\"\", \"\", \"\", \"\"], [\"Download\", \"Download plot\", \"fa fa-floppy-o icon-save\", \"download\"]];\n",
       "\n",
       "mpl.extensions = [\"eps\", \"jpeg\", \"pdf\", \"png\", \"ps\", \"raw\", \"svg\", \"tif\"];\n",
       "\n",
       "mpl.default_extension = \"png\";var comm_websocket_adapter = function(comm) {\n",
       "    // Create a \"websocket\"-like object which calls the given IPython comm\n",
       "    // object with the appropriate methods. Currently this is a non binary\n",
       "    // socket, so there is still some room for performance tuning.\n",
       "    var ws = {};\n",
       "\n",
       "    ws.close = function() {\n",
       "        comm.close()\n",
       "    };\n",
       "    ws.send = function(m) {\n",
       "        //console.log('sending', m);\n",
       "        comm.send(m);\n",
       "    };\n",
       "    // Register the callback with on_msg.\n",
       "    comm.on_msg(function(msg) {\n",
       "        //console.log('receiving', msg['content']['data'], msg);\n",
       "        // Pass the mpl event to the overridden (by mpl) onmessage function.\n",
       "        ws.onmessage(msg['content']['data'])\n",
       "    });\n",
       "    return ws;\n",
       "}\n",
       "\n",
       "mpl.mpl_figure_comm = function(comm, msg) {\n",
       "    // This is the function which gets called when the mpl process\n",
       "    // starts-up an IPython Comm through the \"matplotlib\" channel.\n",
       "\n",
       "    var id = msg.content.data.id;\n",
       "    // Get hold of the div created by the display call when the Comm\n",
       "    // socket was opened in Python.\n",
       "    var element = $(\"#\" + id);\n",
       "    var ws_proxy = comm_websocket_adapter(comm)\n",
       "\n",
       "    function ondownload(figure, format) {\n",
       "        window.open(figure.imageObj.src);\n",
       "    }\n",
       "\n",
       "    var fig = new mpl.figure(id, ws_proxy,\n",
       "                           ondownload,\n",
       "                           element.get(0));\n",
       "\n",
       "    // Call onopen now - mpl needs it, as it is assuming we've passed it a real\n",
       "    // web socket which is closed, not our websocket->open comm proxy.\n",
       "    ws_proxy.onopen();\n",
       "\n",
       "    fig.parent_element = element.get(0);\n",
       "    fig.cell_info = mpl.find_output_cell(\"<div id='\" + id + \"'></div>\");\n",
       "    if (!fig.cell_info) {\n",
       "        console.error(\"Failed to find cell for figure\", id, fig);\n",
       "        return;\n",
       "    }\n",
       "\n",
       "    var output_index = fig.cell_info[2]\n",
       "    var cell = fig.cell_info[0];\n",
       "\n",
       "};\n",
       "\n",
       "mpl.figure.prototype.handle_close = function(fig, msg) {\n",
       "    var width = fig.canvas.width/mpl.ratio\n",
       "    fig.root.unbind('remove')\n",
       "\n",
       "    // Update the output cell to use the data from the current canvas.\n",
       "    fig.push_to_output();\n",
       "    var dataURL = fig.canvas.toDataURL();\n",
       "    // Re-enable the keyboard manager in IPython - without this line, in FF,\n",
       "    // the notebook keyboard shortcuts fail.\n",
       "    IPython.keyboard_manager.enable()\n",
       "    $(fig.parent_element).html('<img src=\"' + dataURL + '\" width=\"' + width + '\">');\n",
       "    fig.close_ws(fig, msg);\n",
       "}\n",
       "\n",
       "mpl.figure.prototype.close_ws = function(fig, msg){\n",
       "    fig.send_message('closing', msg);\n",
       "    // fig.ws.close()\n",
       "}\n",
       "\n",
       "mpl.figure.prototype.push_to_output = function(remove_interactive) {\n",
       "    // Turn the data on the canvas into data in the output cell.\n",
       "    var width = this.canvas.width/mpl.ratio\n",
       "    var dataURL = this.canvas.toDataURL();\n",
       "    this.cell_info[1]['text/html'] = '<img src=\"' + dataURL + '\" width=\"' + width + '\">';\n",
       "}\n",
       "\n",
       "mpl.figure.prototype.updated_canvas_event = function() {\n",
       "    // Tell IPython that the notebook contents must change.\n",
       "    IPython.notebook.set_dirty(true);\n",
       "    this.send_message(\"ack\", {});\n",
       "    var fig = this;\n",
       "    // Wait a second, then push the new image to the DOM so\n",
       "    // that it is saved nicely (might be nice to debounce this).\n",
       "    setTimeout(function () { fig.push_to_output() }, 1000);\n",
       "}\n",
       "\n",
       "mpl.figure.prototype._init_toolbar = function() {\n",
       "    var fig = this;\n",
       "\n",
       "    var nav_element = $('<div/>');\n",
       "    nav_element.attr('style', 'width: 100%');\n",
       "    this.root.append(nav_element);\n",
       "\n",
       "    // Define a callback function for later on.\n",
       "    function toolbar_event(event) {\n",
       "        return fig.toolbar_button_onclick(event['data']);\n",
       "    }\n",
       "    function toolbar_mouse_event(event) {\n",
       "        return fig.toolbar_button_onmouseover(event['data']);\n",
       "    }\n",
       "\n",
       "    for(var toolbar_ind in mpl.toolbar_items){\n",
       "        var name = mpl.toolbar_items[toolbar_ind][0];\n",
       "        var tooltip = mpl.toolbar_items[toolbar_ind][1];\n",
       "        var image = mpl.toolbar_items[toolbar_ind][2];\n",
       "        var method_name = mpl.toolbar_items[toolbar_ind][3];\n",
       "\n",
       "        if (!name) { continue; };\n",
       "\n",
       "        var button = $('<button class=\"btn btn-default\" href=\"#\" title=\"' + name + '\"><i class=\"fa ' + image + ' fa-lg\"></i></button>');\n",
       "        button.click(method_name, toolbar_event);\n",
       "        button.mouseover(tooltip, toolbar_mouse_event);\n",
       "        nav_element.append(button);\n",
       "    }\n",
       "\n",
       "    // Add the status bar.\n",
       "    var status_bar = $('<span class=\"mpl-message\" style=\"text-align:right; float: right;\"/>');\n",
       "    nav_element.append(status_bar);\n",
       "    this.message = status_bar[0];\n",
       "\n",
       "    // Add the close button to the window.\n",
       "    var buttongrp = $('<div class=\"btn-group inline pull-right\"></div>');\n",
       "    var button = $('<button class=\"btn btn-mini btn-primary\" href=\"#\" title=\"Stop Interaction\"><i class=\"fa fa-power-off icon-remove icon-large\"></i></button>');\n",
       "    button.click(function (evt) { fig.handle_close(fig, {}); } );\n",
       "    button.mouseover('Stop Interaction', toolbar_mouse_event);\n",
       "    buttongrp.append(button);\n",
       "    var titlebar = this.root.find($('.ui-dialog-titlebar'));\n",
       "    titlebar.prepend(buttongrp);\n",
       "}\n",
       "\n",
       "mpl.figure.prototype._root_extra_style = function(el){\n",
       "    var fig = this\n",
       "    el.on(\"remove\", function(){\n",
       "\tfig.close_ws(fig, {});\n",
       "    });\n",
       "}\n",
       "\n",
       "mpl.figure.prototype._canvas_extra_style = function(el){\n",
       "    // this is important to make the div 'focusable\n",
       "    el.attr('tabindex', 0)\n",
       "    // reach out to IPython and tell the keyboard manager to turn it's self\n",
       "    // off when our div gets focus\n",
       "\n",
       "    // location in version 3\n",
       "    if (IPython.notebook.keyboard_manager) {\n",
       "        IPython.notebook.keyboard_manager.register_events(el);\n",
       "    }\n",
       "    else {\n",
       "        // location in version 2\n",
       "        IPython.keyboard_manager.register_events(el);\n",
       "    }\n",
       "\n",
       "}\n",
       "\n",
       "mpl.figure.prototype._key_event_extra = function(event, name) {\n",
       "    var manager = IPython.notebook.keyboard_manager;\n",
       "    if (!manager)\n",
       "        manager = IPython.keyboard_manager;\n",
       "\n",
       "    // Check for shift+enter\n",
       "    if (event.shiftKey && event.which == 13) {\n",
       "        this.canvas_div.blur();\n",
       "        // select the cell after this one\n",
       "        var index = IPython.notebook.find_cell_index(this.cell_info[0]);\n",
       "        IPython.notebook.select(index + 1);\n",
       "    }\n",
       "}\n",
       "\n",
       "mpl.figure.prototype.handle_save = function(fig, msg) {\n",
       "    fig.ondownload(fig, null);\n",
       "}\n",
       "\n",
       "\n",
       "mpl.find_output_cell = function(html_output) {\n",
       "    // Return the cell and output element which can be found *uniquely* in the notebook.\n",
       "    // Note - this is a bit hacky, but it is done because the \"notebook_saving.Notebook\"\n",
       "    // IPython event is triggered only after the cells have been serialised, which for\n",
       "    // our purposes (turning an active figure into a static one), is too late.\n",
       "    var cells = IPython.notebook.get_cells();\n",
       "    var ncells = cells.length;\n",
       "    for (var i=0; i<ncells; i++) {\n",
       "        var cell = cells[i];\n",
       "        if (cell.cell_type === 'code'){\n",
       "            for (var j=0; j<cell.output_area.outputs.length; j++) {\n",
       "                var data = cell.output_area.outputs[j];\n",
       "                if (data.data) {\n",
       "                    // IPython >= 3 moved mimebundle to data attribute of output\n",
       "                    data = data.data;\n",
       "                }\n",
       "                if (data['text/html'] == html_output) {\n",
       "                    return [cell, data, j];\n",
       "                }\n",
       "            }\n",
       "        }\n",
       "    }\n",
       "}\n",
       "\n",
       "// Register the function which deals with the matplotlib target/channel.\n",
       "// The kernel may be null if the page has been refreshed.\n",
       "if (IPython.notebook.kernel != null) {\n",
       "    IPython.notebook.kernel.comm_manager.register_target('matplotlib', mpl.mpl_figure_comm);\n",
       "}\n"
      ],
      "text/plain": [
       "<IPython.core.display.Javascript object>"
      ]
     },
     "metadata": {},
     "output_type": "display_data"
    },
    {
     "data": {
      "text/html": [
       "<img src=\"data:image/png;base64,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\" width=\"1000\">"
      ],
      "text/plain": [
       "<IPython.core.display.HTML object>"
      ]
     },
     "metadata": {},
     "output_type": "display_data"
    }
   ],
   "source": [
    "avgEff = 0.0\n",
    "avgFP = 0.0\n",
    "print('for model: ', model)   \n",
    "run_name = 'ACN_1_10L_4S (P3)'\n",
    "# Create an mlflow run\n",
    "with mlflow.start_run(run_name=run_name) as run:\n",
    "    # Log parameters of the model\n",
    "    for key, value in vars(args).items():\n",
    "        print(key, value)\n",
    "        mlflow.log_param(key, value)\n",
    "    \n",
    "    # Log parameter count in the model\n",
    "    mlflow.log_param('Parameters', count_parameters(model))\n",
    "    \n",
    "    # Begin run\n",
    "    for result in trainNet(model, optimizer, loss,\n",
    "                            train_loader, val_loader,\n",
    "                            args.epochs+args.epoch_start, epoch_start=args.epoch_start,\n",
    "                            notebook=True, device=device):\n",
    "\n",
    "        result = result._asdict()\n",
    "        results = results.append(pd.Series(result), ignore_index=True)\n",
    "        xs = results.index\n",
    "\n",
    "        # Update the plot above\n",
    "        lines['train'].set_data(results.index, results.cost)\n",
    "        lines['val'].set_data(results.index, results.val)\n",
    "\n",
    "        #filter first cost epoch (can be really large)\n",
    "        max_cost = max(max(results.cost if len(results.cost)<2 else results.cost[1:]), max(results.val))\n",
    "        min_cost = min(min(results.cost), min(results.val))\n",
    "    \n",
    "        # The plot limits need updating too\n",
    "        ax.set_ylim(min_cost*.9, max_cost*1.1)  \n",
    "        ax.set_xlim(-.5, len(results.cost) - .5)\n",
    "    \n",
    "        replace_in_ax(lax, lines['eff'], xs, results['eff_val'].apply(lambda x: x.eff_rate))\n",
    "        replace_in_ax(tax, lines['fp'], xs, results['eff_val'].apply(lambda x: x.fp_rate)) \n",
    "            \n",
    "        # Redraw the figure\n",
    "        fig.canvas.draw()  \n",
    "        \n",
    "        ## MLFLOW ##\n",
    "        # Log metrics\n",
    "        mlflow.log_metric('Efficiency', result['eff_val'].eff_rate, result['epoch'])\n",
    "        mlflow.log_metric('False Positive Rate',  result['eff_val'].fp_rate, result['epoch'])\n",
    "        mlflow.log_metric('Validation Loss',  result['val'], result['epoch'])\n",
    "        mlflow.log_metric('Training Loss',  result['cost'], result['epoch'])\n",
    "        \n",
    "        # computes averages for eff and fp of last 10 epochs\n",
    "        print('Result epoch: ', result['epoch'])\n",
    "        if(result['epoch'] >= args.epochs + args.epoch_start - 10):\n",
    "            avgEff += result['eff_val'].eff_rate\n",
    "            avgFP += result['eff_val'].fp_rate\n",
    "           \n",
    "        if(result['epoch'] == args.epochs + args.epoch_start - 1):\n",
    "            print('Averaging...\\n')\n",
    "            avgEff /= 10\n",
    "            avgFP /= 10\n",
    "            mlflow.log_metric('10 Efficiency Average', avgEff)\n",
    "            mlflow.log_metric('10 False Positive Average', avgFP)\n",
    "            \n",
    "        print('Average Eff: ', avgEff)\n",
    "        print('Average FP Rate: ', avgFP)\n",
    "            \n",
    "        # Log tags\n",
    "#        mlflow.set_tag('Optimizer', 'Adam')\n",
    "#        mlflow.set_tag('Kernel size', 'Mixed')\n",
    "#        mlflow.set_tag('Skip connections', '4')\n",
    "#        mlflow.set_tag('Activation', 'Softplus')\n",
    "#        mlflow.set_tag('Mid Activation', 'Relu')\n",
    "        mlflow.set_tag('Asymmetry', '2.5')\n",
    "        mlflow.set_tag('KDE', 'Poca')\n",
    "\n",
    "        # Save model state dictionary, optimizer state dictionary, and epoch number\n",
    "        torch.save({\n",
    "            'model':model.state_dict(),\n",
    "            'optimizer':optimizer.state_dict(),\n",
    "            'epoch':args.epochs+result['epoch']\n",
    "            }, 'run_stats.pyt')\n",
    "        # Save the run stats into mlflow\n",
    "        mlflow.log_artifact('run_stats.pyt')\n",
    "        \n",
    "    dual_train_plots(results.index,\n",
    "                 results.cost, results.val, \n",
    "                 results['eff_val'].apply(lambda x: x.eff_rate),\n",
    "                 results['eff_val'].apply(lambda x: x.fp_rate))\n",
    "    plt.tight_layout()\n",
    "    # save plot\n",
    "    fig.savefig('plot.png')  \n",
    "    mlflow.log_artifact('plot.png')"
   ]
  },
  {
   "cell_type": "code",
   "execution_count": 13,
   "metadata": {},
   "outputs": [
    {
     "name": "stderr",
     "output_type": "stream",
     "text": [
      "/data/conda/envs/goofit-june2020/lib/python3.7/site-packages/ipykernel/ipkernel.py:287: DeprecationWarning: `should_run_async` will not call `transform_cell` automatically in the future. Please pass the result to `transformed_cell` argument and any exception that happen during thetransform in `preprocessing_exc_tuple` in IPython 7.17 and above.\n",
      "  and should_run_async(code)\n"
     ]
    }
   ],
   "source": [
    "##quit()"
   ]
  }
 ],
 "metadata": {
  "kernelspec": {
   "display_name": "goofit-june2020",
   "language": "python",
   "name": "goofit-june2020"
  },
  "language_info": {
   "codemirror_mode": {
    "name": "ipython",
    "version": 3
   },
   "file_extension": ".py",
   "mimetype": "text/x-python",
   "name": "python",
   "nbconvert_exporter": "python",
   "pygments_lexer": "ipython3",
   "version": "3.7.6"
  }
 },
 "nbformat": 4,
 "nbformat_minor": 2
}
