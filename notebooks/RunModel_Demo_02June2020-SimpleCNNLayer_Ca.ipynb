{
 "cells": [
  {
   "cell_type": "code",
   "execution_count": 1,
   "metadata": {},
   "outputs": [],
   "source": [
    "##%matplotlib widget\n",
    "## with %matplotlib notebook: seems to require ipympl as part of environment, either\n",
    "## part of the conda environment or \"pip install ipympl\"\n",
    "## otherwise, does not show ANY plots in notebook, plt.savefig() works\n",
    "%matplotlib notebook  \n",
    "##%matplotlib inline    ## --plt.savefig()  works, but re-sizing does NOT\n"
   ]
  },
  {
   "cell_type": "markdown",
   "metadata": {},
   "source": [
    "This notebook is a short demo to illustrate execution.   For odd historical reasons, it uses \"toy Monte Carlo\" (simulated data)for \"training\" and \"full LHCB MC\" for validation.\n",
    "\n",
    "The network architecture is a \"simple\" model that uses 1 input channel (the KDE [kernel density estimator] but from the track parameters) feeding 5 convolutional layers followed by a fully connected layer.\n",
    "\n",
    "In today's version, the network will start with weights from a previously trained version.\n",
    " "
   ]
  },
  {
   "cell_type": "markdown",
   "metadata": {},
   "source": [
    "Check the current GPU usage. Please try to be nice!"
   ]
  },
  {
   "cell_type": "code",
   "execution_count": 2,
   "metadata": {},
   "outputs": [
    {
     "name": "stdout",
     "output_type": "stream",
     "text": [
      "Tue Jun  2 15:51:14 2020       \r\n",
      "+-----------------------------------------------------------------------------+\r\n",
      "| NVIDIA-SMI 440.64.00    Driver Version: 440.64.00    CUDA Version: 10.2     |\r\n",
      "|-------------------------------+----------------------+----------------------+\r\n",
      "| GPU  Name        Persistence-M| Bus-Id        Disp.A | Volatile Uncorr. ECC |\r\n",
      "| Fan  Temp  Perf  Pwr:Usage/Cap|         Memory-Usage | GPU-Util  Compute M. |\r\n",
      "|===============================+======================+======================|\r\n",
      "|   0  TITAN V             Off  | 00000000:03:00.0 Off |                  N/A |\r\n",
      "| 28%   34C    P8    23W / 250W |      0MiB / 12066MiB |      0%      Default |\r\n",
      "+-------------------------------+----------------------+----------------------+\r\n",
      "|   1  Tesla P100-PCIE...  Off  | 00000000:83:00.0 Off |                    0 |\r\n",
      "| N/A   30C    P0    26W / 250W |      0MiB / 16280MiB |      0%      Default |\r\n",
      "+-------------------------------+----------------------+----------------------+\r\n",
      "|   2  TITAN V             Off  | 00000000:84:00.0 Off |                  N/A |\r\n",
      "| 28%   34C    P8    25W / 250W |      0MiB / 12066MiB |      0%      Default |\r\n",
      "+-------------------------------+----------------------+----------------------+\r\n",
      "                                                                               \r\n",
      "+-----------------------------------------------------------------------------+\r\n",
      "| Processes:                                                       GPU Memory |\r\n",
      "|  GPU       PID   Type   Process name                             Usage      |\r\n",
      "|=============================================================================|\r\n",
      "|  No running processes found                                                 |\r\n",
      "+-----------------------------------------------------------------------------+\r\n"
     ]
    }
   ],
   "source": [
    "!nvidia-smi"
   ]
  },
  {
   "cell_type": "markdown",
   "metadata": {},
   "source": [
    "> **WARNING**: The card numbers here are *not* the same as in CUDA. You have been warned."
   ]
  },
  {
   "cell_type": "markdown",
   "metadata": {},
   "source": [
    "## Imports"
   ]
  },
  {
   "cell_type": "code",
   "execution_count": 3,
   "metadata": {},
   "outputs": [],
   "source": [
    "import matplotlib.pyplot as plt\n",
    "import numpy as np\n",
    "import time\n",
    "import torch\n",
    "import pandas as pd\n",
    "\n",
    "# Python 3 standard library\n",
    "from pathlib import Path\n",
    "\n",
    "from torchsummary import summary"
   ]
  },
  {
   "cell_type": "markdown",
   "metadata": {},
   "source": [
    "### Set up local parameters"
   ]
  },
  {
   "cell_type": "code",
   "execution_count": 4,
   "metadata": {},
   "outputs": [],
   "source": [
    "n_epochs = 200\n",
    "\n",
    "# Name is the output file name\n",
    "\n",
    "\n",
    "##  190810  mds\n",
    "folder = '02June2020_CNN5Layer_Ca_another200epochs_K'\n",
    "name = '02June2020_CNN5Layer_Ca_another200epochs_K'\n",
    "\n",
    "# Make an output folder named \"name\" (change if you want)\n",
    "\n",
    "## Special instructions for those working on goofy at UC\n",
    "## Please be very careful to make sure that your folder\n",
    "## does not live in a subdirectory of your home directory\n",
    "## this disk has very little capacity. Instead, use \n",
    "## a subdirectory in /share/lazy with a symbolic link to\n",
    "## it in this (the notebooks) subdirectory\n",
    "folder = 'ML/' + folder\n",
    "output = Path(folder)\n",
    "\n",
    "\n",
    "# Size of batches\n",
    "batch_size = 128\n",
    "\n",
    "# How fast to learn\n",
    "learning_rate = 3e-4"
   ]
  },
  {
   "cell_type": "markdown",
   "metadata": {},
   "source": [
    "Make the output directory if it does not exist:"
   ]
  },
  {
   "cell_type": "code",
   "execution_count": 5,
   "metadata": {},
   "outputs": [],
   "source": [
    "output.mkdir(exist_ok=True)"
   ]
  },
  {
   "cell_type": "markdown",
   "metadata": {},
   "source": [
    "## Get the helper functions\n",
    "\n",
    "Add the directory with the model\n",
    "definitions to the path so we can import from it:\n",
    "\n",
    "> When you type `import X`,\n",
    "Python searches `sys.path` for a python\n",
    "file named `X.py` to import. So we need to add the model directory to the path."
   ]
  },
  {
   "cell_type": "code",
   "execution_count": 6,
   "metadata": {
    "scrolled": true
   },
   "outputs": [],
   "source": [
    "# From model/collectdata.py\n",
    "from model.collectdata_mdsA import collect_data\n",
    "\n",
    "# From model/loss.py\n",
    "##from loss import Loss\n",
    "from model.alt_loss_A import Loss\n",
    "\n",
    "# From model/training.py\n",
    "from model.training import trainNet, select_gpu\n",
    "\n",
    "# From model/models.py\n",
    "##  will start with model from TwoFeatures_CNN6Layer_A in the first instance\n",
    "##  see relevant cell below\n",
    "\n",
    "\n",
    "from model.models_mds_01June20 import SimpleCNN5Layer_Ca as Model\n",
    "\n",
    "from model.training import trainNet, select_gpu, Results\n",
    "from model.plots import dual_train_plots, replace_in_ax"
   ]
  },
  {
   "cell_type": "code",
   "execution_count": 7,
   "metadata": {},
   "outputs": [],
   "source": [
    "# This gets built up during the run - do not rerun this cell\n",
    "results = pd.DataFrame([], columns=Results._fields)"
   ]
  },
  {
   "cell_type": "markdown",
   "metadata": {},
   "source": [
    "Set up Torch device configuration. All tensors and model parameters need to know where to be put.\n",
    "This takes a BUS ID number: The BUS ID is the same as the listing at the top of this script."
   ]
  },
  {
   "cell_type": "code",
   "execution_count": 8,
   "metadata": {},
   "outputs": [
    {
     "name": "stdout",
     "output_type": "stream",
     "text": [
      "1 available GPUs (initially using device 0):\n",
      "  0 TITAN V\n"
     ]
    }
   ],
   "source": [
    "device = select_gpu(0)"
   ]
  },
  {
   "cell_type": "markdown",
   "metadata": {},
   "source": [
    "## Loading data\n",
    "\n",
    "Load the dataset, split into parts, then move to device (see `collectdata.py` in the `../model` directory)"
   ]
  },
  {
   "cell_type": "code",
   "execution_count": 9,
   "metadata": {
    "scrolled": true
   },
   "outputs": [
    {
     "name": "stdout",
     "output_type": "stream",
     "text": [
      "Loading data...\n",
      "Loaded dataAA/Aug14_80K_train.h5 in 12.87 s\n",
      "Loaded dataAA/Oct03_80K_train.h5 in 11.53 s\n",
      "Constructing 160000 event dataset took 0.5004 s\n",
      "Loading data...\n",
      "Loaded dataAA/Oct03_20K_val.h5 in 2.581 s\n",
      "Constructing 9984 event dataset took 3.75 s\n"
     ]
    }
   ],
   "source": [
    "## newer vernacular\n",
    "## Training dataset. You can put as many files here as desired.\n",
    "\n",
    "## in this DEMO example we use only one 80K training set -- the model starts with well-trained weights,\n",
    "## and using a smaller training set reduces both the time to load the data and the time to train an epoch\n",
    "##  set the option load_XandXsq = True to use both DKE and KDE^2 as input features\n",
    "train_loader = collect_data('dataAA/Aug14_80K_train.h5',\n",
    "                            'dataAA/Oct03_80K_train.h5',\n",
    "##                            'dataAA/Oct03_80K2_train.h5',\n",
    "                             batch_size=batch_size,\n",
    "## if we are using a larger dataset (240K events, with the datasets above, and 11 GB  of GPU memory),\n",
    "## not the dataset will overflow the GPU memory; device=device will allow the data to move back\n",
    "## and forth between the CPU and GPU memory. While this allows use of a larger dataset, it slows\n",
    "## down performance by about 10%.  So comment out when not needed.\n",
    "##                           device=device,\n",
    "                            masking=True, shuffle=True,\n",
    "                            load_XandXsq=False,\n",
    "                            load_xy=False)\n",
    "\n",
    "# Validation dataset. You can slice to reduce the size.\n",
    "## dataAA -> /share/lazy/sokoloff/ML-data_AA/\n",
    "val_loader = collect_data('dataAA/Oct03_20K_val.h5',\n",
    "## mds val_loader = collect_data('dataAA/HLT1CPU_1kevts_val.h5',\n",
    "\n",
    "                          batch_size=batch_size,\n",
    "                          slice=slice(256 * 39),\n",
    "                          device=device,\n",
    "                          masking=True, shuffle=False,\n",
    "                          load_XandXsq=False,\n",
    "                          load_xy=False)"
   ]
  },
  {
   "cell_type": "markdown",
   "metadata": {},
   "source": [
    "# Preparing the model"
   ]
  },
  {
   "cell_type": "markdown",
   "metadata": {},
   "source": [
    "Prepare a model, use multiple GPUs if they are VISIBLE, and move the model to the device."
   ]
  },
  {
   "cell_type": "code",
   "execution_count": 10,
   "metadata": {
    "scrolled": true
   },
   "outputs": [
    {
     "name": "stdout",
     "output_type": "stream",
     "text": [
      "ct, child =  0    Conv1d(1, 20, kernel_size=(25,), stride=(1,), padding=(12,))\n",
      "ct, child =  1    Conv1d(20, 10, kernel_size=(15,), stride=(1,), padding=(7,))\n",
      "ct, child =  2    Conv1d(10, 10, kernel_size=(15,), stride=(1,), padding=(7,))\n",
      "ct, child =  3    Conv1d(10, 10, kernel_size=(15,), stride=(1,), padding=(7,))\n",
      "ct, child =  4    Conv1d(10, 1, kernel_size=(5,), stride=(1,), padding=(2,))\n",
      "ct, child =  5    Dropout(p=0.15, inplace=False)\n",
      "ct, child =  6    Dropout(p=0.15, inplace=False)\n",
      "ct, child =  7    Dropout(p=0.15, inplace=False)\n",
      "ct, child =  8    Dropout(p=0.15, inplace=False)\n",
      "ct, child =  9    Dropout(p=0.35, inplace=False)\n",
      "ct, child =  10    Linear(in_features=4000, out_features=4000, bias=True)\n"
     ]
    }
   ],
   "source": [
    "model = Model()\n",
    "\n",
    "##summary(model, input_size=(4, 4000))\n",
    "##print(model.parameters)\n",
    "\n",
    "## add the following code to allow the user to freeze the some of the weights corresponding \n",
    "## to those taken from an earlier model trained with the original target histograms\n",
    "## presumably -- this leaves either the perturbative filter \"fixed\" and lets the \n",
    "## learning focus on the non-perturbative features, so get started faster, or vice versa\n",
    "ct = 0\n",
    "for child in model.children():\n",
    "  print('ct, child = ',ct, \"  \", child)\n",
    "  if ct < 0:\n",
    "    print(\"     About to set param.requires_grad=False for ct = \", ct, \"params\")\n",
    "    for param in child.parameters():\n",
    "        param.requires_grad = False \n",
    "  ct += 1\n",
    "##  mds 200121 loss = Loss(epsilon=1e-5,coefficient=1.0)\n",
    "loss = Loss(epsilon=1e-5,coefficient=2.5)\n",
    "optimizer = torch.optim.Adam(model.parameters(), lr=learning_rate)"
   ]
  },
  {
   "cell_type": "code",
   "execution_count": 11,
   "metadata": {
    "scrolled": true
   },
   "outputs": [
    {
     "name": "stdout",
     "output_type": "stream",
     "text": [
      "Let's use 1 GPUs!\n"
     ]
    }
   ],
   "source": [
    "print(\"Let's use\", torch.cuda.device_count(), \"GPUs!\")\n",
    "if torch.cuda.device_count() > 1:\n",
    "    model = torch.nn.DataParallel(model)"
   ]
  },
  {
   "cell_type": "markdown",
   "metadata": {},
   "source": [
    "Let's move the model's weight matricies to the GPU:"
   ]
  },
  {
   "cell_type": "code",
   "execution_count": 13,
   "metadata": {},
   "outputs": [
    {
     "name": "stdout",
     "output_type": "stream",
     "text": [
      "output =  ML/02June2020_CNN5Layer_Ca_another200epochs_K\n",
      "for model_dict\n",
      "index, k =   0    conv1.weight\n",
      "index, k =   1    conv1.bias\n",
      "index, k =   2    conv2.weight\n",
      "index, k =   3    conv2.bias\n",
      "index, k =   4    conv3.weight\n",
      "index, k =   5    conv3.bias\n",
      "index, k =   6    conv4.weight\n",
      "index, k =   7    conv4.bias\n",
      "index, k =   8    conv5.weight\n",
      "index, k =   9    conv5.bias\n",
      "index, k =   10    fc1.weight\n",
      "index, k =   11    fc1.bias\n",
      " \n",
      "   for pretrained_dict\n",
      "index, k =   0    conv1.weight\n",
      "index, k =   1    conv1.bias\n",
      "index, k =   2    conv2.weight\n",
      "index, k =   3    conv2.bias\n",
      "index, k =   4    conv3.weight\n",
      "index, k =   5    conv3.bias\n",
      "index, k =   6    conv4.weight\n",
      "index, k =   7    conv4.bias\n",
      "index, k =   8    conv5.weight\n",
      "index, k =   9    conv5.bias\n",
      "index, k =   10    fc1.weight\n",
      "index, k =   11    fc1.bias\n",
      "model_dict instantiated\n"
     ]
    },
    {
     "data": {
      "text/plain": [
       "<All keys matched successfully>"
      ]
     },
     "execution_count": 13,
     "metadata": {},
     "output_type": "execute_result"
    }
   ],
   "source": [
    "print('output = ',output)\n",
    "##print('oldOutput = ',oldOutput)\n",
    "##  use the first four layers from a pre-existing model\n",
    "##  see example at https://discuss.pytorch.org/t/how-to-load-part-of-pre-trained-model/1113\n",
    "\n",
    "##   ML -> /share/lazy/sokoloff/ML\n",
    "pretrained_dict = torch.load('ML/02June2020_CNN5Layer_Ca_another40epochs_K/02June2020_CNN5Layer_Ca_another40epochs_K_final.pyt')\n",
    "model_dict = model.state_dict()\n",
    "## mds 190725 for debugging\n",
    "print(\"for model_dict\")\n",
    "index = 0\n",
    "for k,v in model_dict.items():\n",
    "    print(\"index, k =  \",index,\"  \",k)\n",
    "    index = index+1\n",
    "    \n",
    "print(\" \\n\",\"  for pretrained_dict\")\n",
    "index = 0\n",
    "for k,v in pretrained_dict.items():\n",
    "    print(\"index, k =  \",index,\"  \",k)\n",
    "    index = index+1\n",
    "## mds  \n",
    "\n",
    "print(\"model_dict instantiated\")\n",
    "# 1. filter out unnecessary keys\n",
    "pretrained_dict = {k: v for k, v in pretrained_dict.items() if k in model_dict}\n",
    "## print(\"pretrained_dict iterated\")\n",
    "# 2. overwrite entries in the existing state dict\n",
    "model_dict.update(pretrained_dict) \n",
    "##\n",
    "#   when starting from a model with a fully connected last layer rather than a convolutional layer\n",
    "# 3. load the new state dict\n",
    "#   need to use strict=False as the two models state model attributes do not agree exactly\n",
    "#   see https://pytorch.org/docs/master/_modules/torch/nn/modules/module.html#Module.load_state_dict\n",
    "\n",
    "model.load_state_dict(pretrained_dict,strict=False)\n",
    "\n",
    "## print('model_dict =    ', model_dict)\n"
   ]
  },
  {
   "cell_type": "code",
   "execution_count": 14,
   "metadata": {
    "scrolled": true
   },
   "outputs": [],
   "source": [
    "model = model.to(device)"
   ]
  },
  {
   "cell_type": "markdown",
   "metadata": {},
   "source": [
    "## Train \n",
    "\n",
    "\n",
    "\n",
    "The body of this loop runs once per epoch. Results is a named tuple of values (loss per epoch for training and validation, time each). Start by setting up a plot first:"
   ]
  },
  {
   "cell_type": "code",
   "execution_count": 15,
   "metadata": {
    "scrolled": false
   },
   "outputs": [
    {
     "data": {
      "application/javascript": [
       "/* Put everything inside the global mpl namespace */\n",
       "window.mpl = {};\n",
       "\n",
       "\n",
       "mpl.get_websocket_type = function() {\n",
       "    if (typeof(WebSocket) !== 'undefined') {\n",
       "        return WebSocket;\n",
       "    } else if (typeof(MozWebSocket) !== 'undefined') {\n",
       "        return MozWebSocket;\n",
       "    } else {\n",
       "        alert('Your browser does not have WebSocket support. ' +\n",
       "              'Please try Chrome, Safari or Firefox ≥ 6. ' +\n",
       "              'Firefox 4 and 5 are also supported but you ' +\n",
       "              'have to enable WebSockets in about:config.');\n",
       "    };\n",
       "}\n",
       "\n",
       "mpl.figure = function(figure_id, websocket, ondownload, parent_element) {\n",
       "    this.id = figure_id;\n",
       "\n",
       "    this.ws = websocket;\n",
       "\n",
       "    this.supports_binary = (this.ws.binaryType != undefined);\n",
       "\n",
       "    if (!this.supports_binary) {\n",
       "        var warnings = document.getElementById(\"mpl-warnings\");\n",
       "        if (warnings) {\n",
       "            warnings.style.display = 'block';\n",
       "            warnings.textContent = (\n",
       "                \"This browser does not support binary websocket messages. \" +\n",
       "                    \"Performance may be slow.\");\n",
       "        }\n",
       "    }\n",
       "\n",
       "    this.imageObj = new Image();\n",
       "\n",
       "    this.context = undefined;\n",
       "    this.message = undefined;\n",
       "    this.canvas = undefined;\n",
       "    this.rubberband_canvas = undefined;\n",
       "    this.rubberband_context = undefined;\n",
       "    this.format_dropdown = undefined;\n",
       "\n",
       "    this.image_mode = 'full';\n",
       "\n",
       "    this.root = $('<div/>');\n",
       "    this._root_extra_style(this.root)\n",
       "    this.root.attr('style', 'display: inline-block');\n",
       "\n",
       "    $(parent_element).append(this.root);\n",
       "\n",
       "    this._init_header(this);\n",
       "    this._init_canvas(this);\n",
       "    this._init_toolbar(this);\n",
       "\n",
       "    var fig = this;\n",
       "\n",
       "    this.waiting = false;\n",
       "\n",
       "    this.ws.onopen =  function () {\n",
       "            fig.send_message(\"supports_binary\", {value: fig.supports_binary});\n",
       "            fig.send_message(\"send_image_mode\", {});\n",
       "            if (mpl.ratio != 1) {\n",
       "                fig.send_message(\"set_dpi_ratio\", {'dpi_ratio': mpl.ratio});\n",
       "            }\n",
       "            fig.send_message(\"refresh\", {});\n",
       "        }\n",
       "\n",
       "    this.imageObj.onload = function() {\n",
       "            if (fig.image_mode == 'full') {\n",
       "                // Full images could contain transparency (where diff images\n",
       "                // almost always do), so we need to clear the canvas so that\n",
       "                // there is no ghosting.\n",
       "                fig.context.clearRect(0, 0, fig.canvas.width, fig.canvas.height);\n",
       "            }\n",
       "            fig.context.drawImage(fig.imageObj, 0, 0);\n",
       "        };\n",
       "\n",
       "    this.imageObj.onunload = function() {\n",
       "        fig.ws.close();\n",
       "    }\n",
       "\n",
       "    this.ws.onmessage = this._make_on_message_function(this);\n",
       "\n",
       "    this.ondownload = ondownload;\n",
       "}\n",
       "\n",
       "mpl.figure.prototype._init_header = function() {\n",
       "    var titlebar = $(\n",
       "        '<div class=\"ui-dialog-titlebar ui-widget-header ui-corner-all ' +\n",
       "        'ui-helper-clearfix\"/>');\n",
       "    var titletext = $(\n",
       "        '<div class=\"ui-dialog-title\" style=\"width: 100%; ' +\n",
       "        'text-align: center; padding: 3px;\"/>');\n",
       "    titlebar.append(titletext)\n",
       "    this.root.append(titlebar);\n",
       "    this.header = titletext[0];\n",
       "}\n",
       "\n",
       "\n",
       "\n",
       "mpl.figure.prototype._canvas_extra_style = function(canvas_div) {\n",
       "\n",
       "}\n",
       "\n",
       "\n",
       "mpl.figure.prototype._root_extra_style = function(canvas_div) {\n",
       "\n",
       "}\n",
       "\n",
       "mpl.figure.prototype._init_canvas = function() {\n",
       "    var fig = this;\n",
       "\n",
       "    var canvas_div = $('<div/>');\n",
       "\n",
       "    canvas_div.attr('style', 'position: relative; clear: both; outline: 0');\n",
       "\n",
       "    function canvas_keyboard_event(event) {\n",
       "        return fig.key_event(event, event['data']);\n",
       "    }\n",
       "\n",
       "    canvas_div.keydown('key_press', canvas_keyboard_event);\n",
       "    canvas_div.keyup('key_release', canvas_keyboard_event);\n",
       "    this.canvas_div = canvas_div\n",
       "    this._canvas_extra_style(canvas_div)\n",
       "    this.root.append(canvas_div);\n",
       "\n",
       "    var canvas = $('<canvas/>');\n",
       "    canvas.addClass('mpl-canvas');\n",
       "    canvas.attr('style', \"left: 0; top: 0; z-index: 0; outline: 0\")\n",
       "\n",
       "    this.canvas = canvas[0];\n",
       "    this.context = canvas[0].getContext(\"2d\");\n",
       "\n",
       "    var backingStore = this.context.backingStorePixelRatio ||\n",
       "\tthis.context.webkitBackingStorePixelRatio ||\n",
       "\tthis.context.mozBackingStorePixelRatio ||\n",
       "\tthis.context.msBackingStorePixelRatio ||\n",
       "\tthis.context.oBackingStorePixelRatio ||\n",
       "\tthis.context.backingStorePixelRatio || 1;\n",
       "\n",
       "    mpl.ratio = (window.devicePixelRatio || 1) / backingStore;\n",
       "\n",
       "    var rubberband = $('<canvas/>');\n",
       "    rubberband.attr('style', \"position: absolute; left: 0; top: 0; z-index: 1;\")\n",
       "\n",
       "    var pass_mouse_events = true;\n",
       "\n",
       "    canvas_div.resizable({\n",
       "        start: function(event, ui) {\n",
       "            pass_mouse_events = false;\n",
       "        },\n",
       "        resize: function(event, ui) {\n",
       "            fig.request_resize(ui.size.width, ui.size.height);\n",
       "        },\n",
       "        stop: function(event, ui) {\n",
       "            pass_mouse_events = true;\n",
       "            fig.request_resize(ui.size.width, ui.size.height);\n",
       "        },\n",
       "    });\n",
       "\n",
       "    function mouse_event_fn(event) {\n",
       "        if (pass_mouse_events)\n",
       "            return fig.mouse_event(event, event['data']);\n",
       "    }\n",
       "\n",
       "    rubberband.mousedown('button_press', mouse_event_fn);\n",
       "    rubberband.mouseup('button_release', mouse_event_fn);\n",
       "    // Throttle sequential mouse events to 1 every 20ms.\n",
       "    rubberband.mousemove('motion_notify', mouse_event_fn);\n",
       "\n",
       "    rubberband.mouseenter('figure_enter', mouse_event_fn);\n",
       "    rubberband.mouseleave('figure_leave', mouse_event_fn);\n",
       "\n",
       "    canvas_div.on(\"wheel\", function (event) {\n",
       "        event = event.originalEvent;\n",
       "        event['data'] = 'scroll'\n",
       "        if (event.deltaY < 0) {\n",
       "            event.step = 1;\n",
       "        } else {\n",
       "            event.step = -1;\n",
       "        }\n",
       "        mouse_event_fn(event);\n",
       "    });\n",
       "\n",
       "    canvas_div.append(canvas);\n",
       "    canvas_div.append(rubberband);\n",
       "\n",
       "    this.rubberband = rubberband;\n",
       "    this.rubberband_canvas = rubberband[0];\n",
       "    this.rubberband_context = rubberband[0].getContext(\"2d\");\n",
       "    this.rubberband_context.strokeStyle = \"#000000\";\n",
       "\n",
       "    this._resize_canvas = function(width, height) {\n",
       "        // Keep the size of the canvas, canvas container, and rubber band\n",
       "        // canvas in synch.\n",
       "        canvas_div.css('width', width)\n",
       "        canvas_div.css('height', height)\n",
       "\n",
       "        canvas.attr('width', width * mpl.ratio);\n",
       "        canvas.attr('height', height * mpl.ratio);\n",
       "        canvas.attr('style', 'width: ' + width + 'px; height: ' + height + 'px;');\n",
       "\n",
       "        rubberband.attr('width', width);\n",
       "        rubberband.attr('height', height);\n",
       "    }\n",
       "\n",
       "    // Set the figure to an initial 600x600px, this will subsequently be updated\n",
       "    // upon first draw.\n",
       "    this._resize_canvas(600, 600);\n",
       "\n",
       "    // Disable right mouse context menu.\n",
       "    $(this.rubberband_canvas).bind(\"contextmenu\",function(e){\n",
       "        return false;\n",
       "    });\n",
       "\n",
       "    function set_focus () {\n",
       "        canvas.focus();\n",
       "        canvas_div.focus();\n",
       "    }\n",
       "\n",
       "    window.setTimeout(set_focus, 100);\n",
       "}\n",
       "\n",
       "mpl.figure.prototype._init_toolbar = function() {\n",
       "    var fig = this;\n",
       "\n",
       "    var nav_element = $('<div/>');\n",
       "    nav_element.attr('style', 'width: 100%');\n",
       "    this.root.append(nav_element);\n",
       "\n",
       "    // Define a callback function for later on.\n",
       "    function toolbar_event(event) {\n",
       "        return fig.toolbar_button_onclick(event['data']);\n",
       "    }\n",
       "    function toolbar_mouse_event(event) {\n",
       "        return fig.toolbar_button_onmouseover(event['data']);\n",
       "    }\n",
       "\n",
       "    for(var toolbar_ind in mpl.toolbar_items) {\n",
       "        var name = mpl.toolbar_items[toolbar_ind][0];\n",
       "        var tooltip = mpl.toolbar_items[toolbar_ind][1];\n",
       "        var image = mpl.toolbar_items[toolbar_ind][2];\n",
       "        var method_name = mpl.toolbar_items[toolbar_ind][3];\n",
       "\n",
       "        if (!name) {\n",
       "            // put a spacer in here.\n",
       "            continue;\n",
       "        }\n",
       "        var button = $('<button/>');\n",
       "        button.addClass('ui-button ui-widget ui-state-default ui-corner-all ' +\n",
       "                        'ui-button-icon-only');\n",
       "        button.attr('role', 'button');\n",
       "        button.attr('aria-disabled', 'false');\n",
       "        button.click(method_name, toolbar_event);\n",
       "        button.mouseover(tooltip, toolbar_mouse_event);\n",
       "\n",
       "        var icon_img = $('<span/>');\n",
       "        icon_img.addClass('ui-button-icon-primary ui-icon');\n",
       "        icon_img.addClass(image);\n",
       "        icon_img.addClass('ui-corner-all');\n",
       "\n",
       "        var tooltip_span = $('<span/>');\n",
       "        tooltip_span.addClass('ui-button-text');\n",
       "        tooltip_span.html(tooltip);\n",
       "\n",
       "        button.append(icon_img);\n",
       "        button.append(tooltip_span);\n",
       "\n",
       "        nav_element.append(button);\n",
       "    }\n",
       "\n",
       "    var fmt_picker_span = $('<span/>');\n",
       "\n",
       "    var fmt_picker = $('<select/>');\n",
       "    fmt_picker.addClass('mpl-toolbar-option ui-widget ui-widget-content');\n",
       "    fmt_picker_span.append(fmt_picker);\n",
       "    nav_element.append(fmt_picker_span);\n",
       "    this.format_dropdown = fmt_picker[0];\n",
       "\n",
       "    for (var ind in mpl.extensions) {\n",
       "        var fmt = mpl.extensions[ind];\n",
       "        var option = $(\n",
       "            '<option/>', {selected: fmt === mpl.default_extension}).html(fmt);\n",
       "        fmt_picker.append(option);\n",
       "    }\n",
       "\n",
       "    // Add hover states to the ui-buttons\n",
       "    $( \".ui-button\" ).hover(\n",
       "        function() { $(this).addClass(\"ui-state-hover\");},\n",
       "        function() { $(this).removeClass(\"ui-state-hover\");}\n",
       "    );\n",
       "\n",
       "    var status_bar = $('<span class=\"mpl-message\"/>');\n",
       "    nav_element.append(status_bar);\n",
       "    this.message = status_bar[0];\n",
       "}\n",
       "\n",
       "mpl.figure.prototype.request_resize = function(x_pixels, y_pixels) {\n",
       "    // Request matplotlib to resize the figure. Matplotlib will then trigger a resize in the client,\n",
       "    // which will in turn request a refresh of the image.\n",
       "    this.send_message('resize', {'width': x_pixels, 'height': y_pixels});\n",
       "}\n",
       "\n",
       "mpl.figure.prototype.send_message = function(type, properties) {\n",
       "    properties['type'] = type;\n",
       "    properties['figure_id'] = this.id;\n",
       "    this.ws.send(JSON.stringify(properties));\n",
       "}\n",
       "\n",
       "mpl.figure.prototype.send_draw_message = function() {\n",
       "    if (!this.waiting) {\n",
       "        this.waiting = true;\n",
       "        this.ws.send(JSON.stringify({type: \"draw\", figure_id: this.id}));\n",
       "    }\n",
       "}\n",
       "\n",
       "\n",
       "mpl.figure.prototype.handle_save = function(fig, msg) {\n",
       "    var format_dropdown = fig.format_dropdown;\n",
       "    var format = format_dropdown.options[format_dropdown.selectedIndex].value;\n",
       "    fig.ondownload(fig, format);\n",
       "}\n",
       "\n",
       "\n",
       "mpl.figure.prototype.handle_resize = function(fig, msg) {\n",
       "    var size = msg['size'];\n",
       "    if (size[0] != fig.canvas.width || size[1] != fig.canvas.height) {\n",
       "        fig._resize_canvas(size[0], size[1]);\n",
       "        fig.send_message(\"refresh\", {});\n",
       "    };\n",
       "}\n",
       "\n",
       "mpl.figure.prototype.handle_rubberband = function(fig, msg) {\n",
       "    var x0 = msg['x0'] / mpl.ratio;\n",
       "    var y0 = (fig.canvas.height - msg['y0']) / mpl.ratio;\n",
       "    var x1 = msg['x1'] / mpl.ratio;\n",
       "    var y1 = (fig.canvas.height - msg['y1']) / mpl.ratio;\n",
       "    x0 = Math.floor(x0) + 0.5;\n",
       "    y0 = Math.floor(y0) + 0.5;\n",
       "    x1 = Math.floor(x1) + 0.5;\n",
       "    y1 = Math.floor(y1) + 0.5;\n",
       "    var min_x = Math.min(x0, x1);\n",
       "    var min_y = Math.min(y0, y1);\n",
       "    var width = Math.abs(x1 - x0);\n",
       "    var height = Math.abs(y1 - y0);\n",
       "\n",
       "    fig.rubberband_context.clearRect(\n",
       "        0, 0, fig.canvas.width / mpl.ratio, fig.canvas.height / mpl.ratio);\n",
       "\n",
       "    fig.rubberband_context.strokeRect(min_x, min_y, width, height);\n",
       "}\n",
       "\n",
       "mpl.figure.prototype.handle_figure_label = function(fig, msg) {\n",
       "    // Updates the figure title.\n",
       "    fig.header.textContent = msg['label'];\n",
       "}\n",
       "\n",
       "mpl.figure.prototype.handle_cursor = function(fig, msg) {\n",
       "    var cursor = msg['cursor'];\n",
       "    switch(cursor)\n",
       "    {\n",
       "    case 0:\n",
       "        cursor = 'pointer';\n",
       "        break;\n",
       "    case 1:\n",
       "        cursor = 'default';\n",
       "        break;\n",
       "    case 2:\n",
       "        cursor = 'crosshair';\n",
       "        break;\n",
       "    case 3:\n",
       "        cursor = 'move';\n",
       "        break;\n",
       "    }\n",
       "    fig.rubberband_canvas.style.cursor = cursor;\n",
       "}\n",
       "\n",
       "mpl.figure.prototype.handle_message = function(fig, msg) {\n",
       "    fig.message.textContent = msg['message'];\n",
       "}\n",
       "\n",
       "mpl.figure.prototype.handle_draw = function(fig, msg) {\n",
       "    // Request the server to send over a new figure.\n",
       "    fig.send_draw_message();\n",
       "}\n",
       "\n",
       "mpl.figure.prototype.handle_image_mode = function(fig, msg) {\n",
       "    fig.image_mode = msg['mode'];\n",
       "}\n",
       "\n",
       "mpl.figure.prototype.updated_canvas_event = function() {\n",
       "    // Called whenever the canvas gets updated.\n",
       "    this.send_message(\"ack\", {});\n",
       "}\n",
       "\n",
       "// A function to construct a web socket function for onmessage handling.\n",
       "// Called in the figure constructor.\n",
       "mpl.figure.prototype._make_on_message_function = function(fig) {\n",
       "    return function socket_on_message(evt) {\n",
       "        if (evt.data instanceof Blob) {\n",
       "            /* FIXME: We get \"Resource interpreted as Image but\n",
       "             * transferred with MIME type text/plain:\" errors on\n",
       "             * Chrome.  But how to set the MIME type?  It doesn't seem\n",
       "             * to be part of the websocket stream */\n",
       "            evt.data.type = \"image/png\";\n",
       "\n",
       "            /* Free the memory for the previous frames */\n",
       "            if (fig.imageObj.src) {\n",
       "                (window.URL || window.webkitURL).revokeObjectURL(\n",
       "                    fig.imageObj.src);\n",
       "            }\n",
       "\n",
       "            fig.imageObj.src = (window.URL || window.webkitURL).createObjectURL(\n",
       "                evt.data);\n",
       "            fig.updated_canvas_event();\n",
       "            fig.waiting = false;\n",
       "            return;\n",
       "        }\n",
       "        else if (typeof evt.data === 'string' && evt.data.slice(0, 21) == \"data:image/png;base64\") {\n",
       "            fig.imageObj.src = evt.data;\n",
       "            fig.updated_canvas_event();\n",
       "            fig.waiting = false;\n",
       "            return;\n",
       "        }\n",
       "\n",
       "        var msg = JSON.parse(evt.data);\n",
       "        var msg_type = msg['type'];\n",
       "\n",
       "        // Call the  \"handle_{type}\" callback, which takes\n",
       "        // the figure and JSON message as its only arguments.\n",
       "        try {\n",
       "            var callback = fig[\"handle_\" + msg_type];\n",
       "        } catch (e) {\n",
       "            console.log(\"No handler for the '\" + msg_type + \"' message type: \", msg);\n",
       "            return;\n",
       "        }\n",
       "\n",
       "        if (callback) {\n",
       "            try {\n",
       "                // console.log(\"Handling '\" + msg_type + \"' message: \", msg);\n",
       "                callback(fig, msg);\n",
       "            } catch (e) {\n",
       "                console.log(\"Exception inside the 'handler_\" + msg_type + \"' callback:\", e, e.stack, msg);\n",
       "            }\n",
       "        }\n",
       "    };\n",
       "}\n",
       "\n",
       "// from http://stackoverflow.com/questions/1114465/getting-mouse-location-in-canvas\n",
       "mpl.findpos = function(e) {\n",
       "    //this section is from http://www.quirksmode.org/js/events_properties.html\n",
       "    var targ;\n",
       "    if (!e)\n",
       "        e = window.event;\n",
       "    if (e.target)\n",
       "        targ = e.target;\n",
       "    else if (e.srcElement)\n",
       "        targ = e.srcElement;\n",
       "    if (targ.nodeType == 3) // defeat Safari bug\n",
       "        targ = targ.parentNode;\n",
       "\n",
       "    // jQuery normalizes the pageX and pageY\n",
       "    // pageX,Y are the mouse positions relative to the document\n",
       "    // offset() returns the position of the element relative to the document\n",
       "    var x = e.pageX - $(targ).offset().left;\n",
       "    var y = e.pageY - $(targ).offset().top;\n",
       "\n",
       "    return {\"x\": x, \"y\": y};\n",
       "};\n",
       "\n",
       "/*\n",
       " * return a copy of an object with only non-object keys\n",
       " * we need this to avoid circular references\n",
       " * http://stackoverflow.com/a/24161582/3208463\n",
       " */\n",
       "function simpleKeys (original) {\n",
       "  return Object.keys(original).reduce(function (obj, key) {\n",
       "    if (typeof original[key] !== 'object')\n",
       "        obj[key] = original[key]\n",
       "    return obj;\n",
       "  }, {});\n",
       "}\n",
       "\n",
       "mpl.figure.prototype.mouse_event = function(event, name) {\n",
       "    var canvas_pos = mpl.findpos(event)\n",
       "\n",
       "    if (name === 'button_press')\n",
       "    {\n",
       "        this.canvas.focus();\n",
       "        this.canvas_div.focus();\n",
       "    }\n",
       "\n",
       "    var x = canvas_pos.x * mpl.ratio;\n",
       "    var y = canvas_pos.y * mpl.ratio;\n",
       "\n",
       "    this.send_message(name, {x: x, y: y, button: event.button,\n",
       "                             step: event.step,\n",
       "                             guiEvent: simpleKeys(event)});\n",
       "\n",
       "    /* This prevents the web browser from automatically changing to\n",
       "     * the text insertion cursor when the button is pressed.  We want\n",
       "     * to control all of the cursor setting manually through the\n",
       "     * 'cursor' event from matplotlib */\n",
       "    event.preventDefault();\n",
       "    return false;\n",
       "}\n",
       "\n",
       "mpl.figure.prototype._key_event_extra = function(event, name) {\n",
       "    // Handle any extra behaviour associated with a key event\n",
       "}\n",
       "\n",
       "mpl.figure.prototype.key_event = function(event, name) {\n",
       "\n",
       "    // Prevent repeat events\n",
       "    if (name == 'key_press')\n",
       "    {\n",
       "        if (event.which === this._key)\n",
       "            return;\n",
       "        else\n",
       "            this._key = event.which;\n",
       "    }\n",
       "    if (name == 'key_release')\n",
       "        this._key = null;\n",
       "\n",
       "    var value = '';\n",
       "    if (event.ctrlKey && event.which != 17)\n",
       "        value += \"ctrl+\";\n",
       "    if (event.altKey && event.which != 18)\n",
       "        value += \"alt+\";\n",
       "    if (event.shiftKey && event.which != 16)\n",
       "        value += \"shift+\";\n",
       "\n",
       "    value += 'k';\n",
       "    value += event.which.toString();\n",
       "\n",
       "    this._key_event_extra(event, name);\n",
       "\n",
       "    this.send_message(name, {key: value,\n",
       "                             guiEvent: simpleKeys(event)});\n",
       "    return false;\n",
       "}\n",
       "\n",
       "mpl.figure.prototype.toolbar_button_onclick = function(name) {\n",
       "    if (name == 'download') {\n",
       "        this.handle_save(this, null);\n",
       "    } else {\n",
       "        this.send_message(\"toolbar_button\", {name: name});\n",
       "    }\n",
       "};\n",
       "\n",
       "mpl.figure.prototype.toolbar_button_onmouseover = function(tooltip) {\n",
       "    this.message.textContent = tooltip;\n",
       "};\n",
       "mpl.toolbar_items = [[\"Home\", \"Reset original view\", \"fa fa-home icon-home\", \"home\"], [\"Back\", \"Back to previous view\", \"fa fa-arrow-left icon-arrow-left\", \"back\"], [\"Forward\", \"Forward to next view\", \"fa fa-arrow-right icon-arrow-right\", \"forward\"], [\"\", \"\", \"\", \"\"], [\"Pan\", \"Pan axes with left mouse, zoom with right\", \"fa fa-arrows icon-move\", \"pan\"], [\"Zoom\", \"Zoom to rectangle\", \"fa fa-square-o icon-check-empty\", \"zoom\"], [\"\", \"\", \"\", \"\"], [\"Download\", \"Download plot\", \"fa fa-floppy-o icon-save\", \"download\"]];\n",
       "\n",
       "mpl.extensions = [\"eps\", \"jpeg\", \"pdf\", \"png\", \"ps\", \"raw\", \"svg\", \"tif\"];\n",
       "\n",
       "mpl.default_extension = \"png\";var comm_websocket_adapter = function(comm) {\n",
       "    // Create a \"websocket\"-like object which calls the given IPython comm\n",
       "    // object with the appropriate methods. Currently this is a non binary\n",
       "    // socket, so there is still some room for performance tuning.\n",
       "    var ws = {};\n",
       "\n",
       "    ws.close = function() {\n",
       "        comm.close()\n",
       "    };\n",
       "    ws.send = function(m) {\n",
       "        //console.log('sending', m);\n",
       "        comm.send(m);\n",
       "    };\n",
       "    // Register the callback with on_msg.\n",
       "    comm.on_msg(function(msg) {\n",
       "        //console.log('receiving', msg['content']['data'], msg);\n",
       "        // Pass the mpl event to the overridden (by mpl) onmessage function.\n",
       "        ws.onmessage(msg['content']['data'])\n",
       "    });\n",
       "    return ws;\n",
       "}\n",
       "\n",
       "mpl.mpl_figure_comm = function(comm, msg) {\n",
       "    // This is the function which gets called when the mpl process\n",
       "    // starts-up an IPython Comm through the \"matplotlib\" channel.\n",
       "\n",
       "    var id = msg.content.data.id;\n",
       "    // Get hold of the div created by the display call when the Comm\n",
       "    // socket was opened in Python.\n",
       "    var element = $(\"#\" + id);\n",
       "    var ws_proxy = comm_websocket_adapter(comm)\n",
       "\n",
       "    function ondownload(figure, format) {\n",
       "        window.open(figure.imageObj.src);\n",
       "    }\n",
       "\n",
       "    var fig = new mpl.figure(id, ws_proxy,\n",
       "                           ondownload,\n",
       "                           element.get(0));\n",
       "\n",
       "    // Call onopen now - mpl needs it, as it is assuming we've passed it a real\n",
       "    // web socket which is closed, not our websocket->open comm proxy.\n",
       "    ws_proxy.onopen();\n",
       "\n",
       "    fig.parent_element = element.get(0);\n",
       "    fig.cell_info = mpl.find_output_cell(\"<div id='\" + id + \"'></div>\");\n",
       "    if (!fig.cell_info) {\n",
       "        console.error(\"Failed to find cell for figure\", id, fig);\n",
       "        return;\n",
       "    }\n",
       "\n",
       "    var output_index = fig.cell_info[2]\n",
       "    var cell = fig.cell_info[0];\n",
       "\n",
       "};\n",
       "\n",
       "mpl.figure.prototype.handle_close = function(fig, msg) {\n",
       "    var width = fig.canvas.width/mpl.ratio\n",
       "    fig.root.unbind('remove')\n",
       "\n",
       "    // Update the output cell to use the data from the current canvas.\n",
       "    fig.push_to_output();\n",
       "    var dataURL = fig.canvas.toDataURL();\n",
       "    // Re-enable the keyboard manager in IPython - without this line, in FF,\n",
       "    // the notebook keyboard shortcuts fail.\n",
       "    IPython.keyboard_manager.enable()\n",
       "    $(fig.parent_element).html('<img src=\"' + dataURL + '\" width=\"' + width + '\">');\n",
       "    fig.close_ws(fig, msg);\n",
       "}\n",
       "\n",
       "mpl.figure.prototype.close_ws = function(fig, msg){\n",
       "    fig.send_message('closing', msg);\n",
       "    // fig.ws.close()\n",
       "}\n",
       "\n",
       "mpl.figure.prototype.push_to_output = function(remove_interactive) {\n",
       "    // Turn the data on the canvas into data in the output cell.\n",
       "    var width = this.canvas.width/mpl.ratio\n",
       "    var dataURL = this.canvas.toDataURL();\n",
       "    this.cell_info[1]['text/html'] = '<img src=\"' + dataURL + '\" width=\"' + width + '\">';\n",
       "}\n",
       "\n",
       "mpl.figure.prototype.updated_canvas_event = function() {\n",
       "    // Tell IPython that the notebook contents must change.\n",
       "    IPython.notebook.set_dirty(true);\n",
       "    this.send_message(\"ack\", {});\n",
       "    var fig = this;\n",
       "    // Wait a second, then push the new image to the DOM so\n",
       "    // that it is saved nicely (might be nice to debounce this).\n",
       "    setTimeout(function () { fig.push_to_output() }, 1000);\n",
       "}\n",
       "\n",
       "mpl.figure.prototype._init_toolbar = function() {\n",
       "    var fig = this;\n",
       "\n",
       "    var nav_element = $('<div/>');\n",
       "    nav_element.attr('style', 'width: 100%');\n",
       "    this.root.append(nav_element);\n",
       "\n",
       "    // Define a callback function for later on.\n",
       "    function toolbar_event(event) {\n",
       "        return fig.toolbar_button_onclick(event['data']);\n",
       "    }\n",
       "    function toolbar_mouse_event(event) {\n",
       "        return fig.toolbar_button_onmouseover(event['data']);\n",
       "    }\n",
       "\n",
       "    for(var toolbar_ind in mpl.toolbar_items){\n",
       "        var name = mpl.toolbar_items[toolbar_ind][0];\n",
       "        var tooltip = mpl.toolbar_items[toolbar_ind][1];\n",
       "        var image = mpl.toolbar_items[toolbar_ind][2];\n",
       "        var method_name = mpl.toolbar_items[toolbar_ind][3];\n",
       "\n",
       "        if (!name) { continue; };\n",
       "\n",
       "        var button = $('<button class=\"btn btn-default\" href=\"#\" title=\"' + name + '\"><i class=\"fa ' + image + ' fa-lg\"></i></button>');\n",
       "        button.click(method_name, toolbar_event);\n",
       "        button.mouseover(tooltip, toolbar_mouse_event);\n",
       "        nav_element.append(button);\n",
       "    }\n",
       "\n",
       "    // Add the status bar.\n",
       "    var status_bar = $('<span class=\"mpl-message\" style=\"text-align:right; float: right;\"/>');\n",
       "    nav_element.append(status_bar);\n",
       "    this.message = status_bar[0];\n",
       "\n",
       "    // Add the close button to the window.\n",
       "    var buttongrp = $('<div class=\"btn-group inline pull-right\"></div>');\n",
       "    var button = $('<button class=\"btn btn-mini btn-primary\" href=\"#\" title=\"Stop Interaction\"><i class=\"fa fa-power-off icon-remove icon-large\"></i></button>');\n",
       "    button.click(function (evt) { fig.handle_close(fig, {}); } );\n",
       "    button.mouseover('Stop Interaction', toolbar_mouse_event);\n",
       "    buttongrp.append(button);\n",
       "    var titlebar = this.root.find($('.ui-dialog-titlebar'));\n",
       "    titlebar.prepend(buttongrp);\n",
       "}\n",
       "\n",
       "mpl.figure.prototype._root_extra_style = function(el){\n",
       "    var fig = this\n",
       "    el.on(\"remove\", function(){\n",
       "\tfig.close_ws(fig, {});\n",
       "    });\n",
       "}\n",
       "\n",
       "mpl.figure.prototype._canvas_extra_style = function(el){\n",
       "    // this is important to make the div 'focusable\n",
       "    el.attr('tabindex', 0)\n",
       "    // reach out to IPython and tell the keyboard manager to turn it's self\n",
       "    // off when our div gets focus\n",
       "\n",
       "    // location in version 3\n",
       "    if (IPython.notebook.keyboard_manager) {\n",
       "        IPython.notebook.keyboard_manager.register_events(el);\n",
       "    }\n",
       "    else {\n",
       "        // location in version 2\n",
       "        IPython.keyboard_manager.register_events(el);\n",
       "    }\n",
       "\n",
       "}\n",
       "\n",
       "mpl.figure.prototype._key_event_extra = function(event, name) {\n",
       "    var manager = IPython.notebook.keyboard_manager;\n",
       "    if (!manager)\n",
       "        manager = IPython.keyboard_manager;\n",
       "\n",
       "    // Check for shift+enter\n",
       "    if (event.shiftKey && event.which == 13) {\n",
       "        this.canvas_div.blur();\n",
       "        // select the cell after this one\n",
       "        var index = IPython.notebook.find_cell_index(this.cell_info[0]);\n",
       "        IPython.notebook.select(index + 1);\n",
       "    }\n",
       "}\n",
       "\n",
       "mpl.figure.prototype.handle_save = function(fig, msg) {\n",
       "    fig.ondownload(fig, null);\n",
       "}\n",
       "\n",
       "\n",
       "mpl.find_output_cell = function(html_output) {\n",
       "    // Return the cell and output element which can be found *uniquely* in the notebook.\n",
       "    // Note - this is a bit hacky, but it is done because the \"notebook_saving.Notebook\"\n",
       "    // IPython event is triggered only after the cells have been serialised, which for\n",
       "    // our purposes (turning an active figure into a static one), is too late.\n",
       "    var cells = IPython.notebook.get_cells();\n",
       "    var ncells = cells.length;\n",
       "    for (var i=0; i<ncells; i++) {\n",
       "        var cell = cells[i];\n",
       "        if (cell.cell_type === 'code'){\n",
       "            for (var j=0; j<cell.output_area.outputs.length; j++) {\n",
       "                var data = cell.output_area.outputs[j];\n",
       "                if (data.data) {\n",
       "                    // IPython >= 3 moved mimebundle to data attribute of output\n",
       "                    data = data.data;\n",
       "                }\n",
       "                if (data['text/html'] == html_output) {\n",
       "                    return [cell, data, j];\n",
       "                }\n",
       "            }\n",
       "        }\n",
       "    }\n",
       "}\n",
       "\n",
       "// Register the function which deals with the matplotlib target/channel.\n",
       "// The kernel may be null if the page has been refreshed.\n",
       "if (IPython.notebook.kernel != null) {\n",
       "    IPython.notebook.kernel.comm_manager.register_target('matplotlib', mpl.mpl_figure_comm);\n",
       "}\n"
      ],
      "text/plain": [
       "<IPython.core.display.Javascript object>"
      ]
     },
     "metadata": {},
     "output_type": "display_data"
    },
    {
     "data": {
      "text/html": [
       "<img src=\"data:image/png;base64,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\" width=\"1000\">"
      ],
      "text/plain": [
       "<IPython.core.display.HTML object>"
      ]
     },
     "metadata": {},
     "output_type": "display_data"
    }
   ],
   "source": [
    "ax, tax, lax, lines = dual_train_plots()\n",
    "fig = ax.figure\n",
    "plt.tight_layout()"
   ]
  },
  {
   "cell_type": "code",
   "execution_count": 16,
   "metadata": {
    "scrolled": false
   },
   "outputs": [
    {
     "name": "stdout",
     "output_type": "stream",
     "text": [
      "Number of batches: train = 1250, val = 78\n"
     ]
    },
    {
     "data": {
      "application/vnd.jupyter.widget-view+json": {
       "model_id": "80dd911876ea49149693ccfa3e04559e",
       "version_major": 2,
       "version_minor": 0
      },
      "text/plain": [
       "HBox(children=(FloatProgress(value=0.0, description='Epochs', layout=Layout(flex='2'), max=200.0, style=Progre…"
      ]
     },
     "metadata": {},
     "output_type": "display_data"
    },
    {
     "data": {
      "application/vnd.jupyter.widget-view+json": {
       "model_id": "",
       "version_major": 2,
       "version_minor": 0
      },
      "text/plain": [
       "HBox(children=(FloatProgress(value=0.0, description='Training', layout=Layout(flex='2'), max=1250.0, style=Pro…"
      ]
     },
     "metadata": {},
     "output_type": "display_data"
    },
    {
     "name": "stdout",
     "output_type": "stream",
     "text": [
      "Epoch 0: train=16.344, val=15.2104, took 29.033 s\n",
      "  Validation Found 42088 of 54504, added 1333 (eff 77.22%) (0.134 FP/event)\n"
     ]
    },
    {
     "data": {
      "application/vnd.jupyter.widget-view+json": {
       "model_id": "",
       "version_major": 2,
       "version_minor": 0
      },
      "text/plain": [
       "HBox(children=(FloatProgress(value=0.0, description='Training', layout=Layout(flex='2'), max=1250.0, style=Pro…"
      ]
     },
     "metadata": {},
     "output_type": "display_data"
    },
    {
     "name": "stdout",
     "output_type": "stream",
     "text": [
      "Epoch 1: train=16.3196, val=14.9923, took 26.018 s\n",
      "  Validation Found 41805 of 54504, added 1113 (eff 76.70%) (0.111 FP/event)\n"
     ]
    },
    {
     "data": {
      "application/vnd.jupyter.widget-view+json": {
       "model_id": "",
       "version_major": 2,
       "version_minor": 0
      },
      "text/plain": [
       "HBox(children=(FloatProgress(value=0.0, description='Training', layout=Layout(flex='2'), max=1250.0, style=Pro…"
      ]
     },
     "metadata": {},
     "output_type": "display_data"
    },
    {
     "name": "stdout",
     "output_type": "stream",
     "text": [
      "Epoch 2: train=16.2667, val=14.8722, took 25.413 s\n",
      "  Validation Found 41704 of 54504, added 1078 (eff 76.52%) (0.108 FP/event)\n"
     ]
    },
    {
     "data": {
      "application/vnd.jupyter.widget-view+json": {
       "model_id": "",
       "version_major": 2,
       "version_minor": 0
      },
      "text/plain": [
       "HBox(children=(FloatProgress(value=0.0, description='Training', layout=Layout(flex='2'), max=1250.0, style=Pro…"
      ]
     },
     "metadata": {},
     "output_type": "display_data"
    },
    {
     "name": "stdout",
     "output_type": "stream",
     "text": [
      "Epoch 3: train=16.2268, val=14.9501, took 25.35 s\n",
      "  Validation Found 41950 of 54504, added 1131 (eff 76.97%) (0.113 FP/event)\n"
     ]
    },
    {
     "data": {
      "application/vnd.jupyter.widget-view+json": {
       "model_id": "",
       "version_major": 2,
       "version_minor": 0
      },
      "text/plain": [
       "HBox(children=(FloatProgress(value=0.0, description='Training', layout=Layout(flex='2'), max=1250.0, style=Pro…"
      ]
     },
     "metadata": {},
     "output_type": "display_data"
    },
    {
     "name": "stdout",
     "output_type": "stream",
     "text": [
      "Epoch 4: train=16.1716, val=14.8629, took 25.271 s\n",
      "  Validation Found 42091 of 54504, added 1284 (eff 77.23%) (0.129 FP/event)\n"
     ]
    },
    {
     "data": {
      "application/vnd.jupyter.widget-view+json": {
       "model_id": "",
       "version_major": 2,
       "version_minor": 0
      },
      "text/plain": [
       "HBox(children=(FloatProgress(value=0.0, description='Training', layout=Layout(flex='2'), max=1250.0, style=Pro…"
      ]
     },
     "metadata": {},
     "output_type": "display_data"
    },
    {
     "name": "stdout",
     "output_type": "stream",
     "text": [
      "Epoch 5: train=16.1264, val=14.9654, took 24.925 s\n",
      "  Validation Found 42077 of 54504, added 1150 (eff 77.20%) (0.115 FP/event)\n"
     ]
    },
    {
     "data": {
      "application/vnd.jupyter.widget-view+json": {
       "model_id": "",
       "version_major": 2,
       "version_minor": 0
      },
      "text/plain": [
       "HBox(children=(FloatProgress(value=0.0, description='Training', layout=Layout(flex='2'), max=1250.0, style=Pro…"
      ]
     },
     "metadata": {},
     "output_type": "display_data"
    },
    {
     "name": "stdout",
     "output_type": "stream",
     "text": [
      "Epoch 6: train=16.0927, val=14.6817, took 25.169 s\n",
      "  Validation Found 41856 of 54504, added 1111 (eff 76.79%) (0.111 FP/event)\n"
     ]
    },
    {
     "data": {
      "application/vnd.jupyter.widget-view+json": {
       "model_id": "",
       "version_major": 2,
       "version_minor": 0
      },
      "text/plain": [
       "HBox(children=(FloatProgress(value=0.0, description='Training', layout=Layout(flex='2'), max=1250.0, style=Pro…"
      ]
     },
     "metadata": {},
     "output_type": "display_data"
    },
    {
     "name": "stdout",
     "output_type": "stream",
     "text": [
      "Epoch 7: train=16.0306, val=14.7578, took 25.272 s\n",
      "  Validation Found 42221 of 54504, added 1231 (eff 77.46%) (0.123 FP/event)\n"
     ]
    },
    {
     "data": {
      "application/vnd.jupyter.widget-view+json": {
       "model_id": "",
       "version_major": 2,
       "version_minor": 0
      },
      "text/plain": [
       "HBox(children=(FloatProgress(value=0.0, description='Training', layout=Layout(flex='2'), max=1250.0, style=Pro…"
      ]
     },
     "metadata": {},
     "output_type": "display_data"
    },
    {
     "name": "stdout",
     "output_type": "stream",
     "text": [
      "Epoch 8: train=15.9689, val=14.7365, took 25.115 s\n",
      "  Validation Found 41939 of 54504, added 986 (eff 76.95%) (0.0987 FP/event)\n"
     ]
    },
    {
     "data": {
      "application/vnd.jupyter.widget-view+json": {
       "model_id": "",
       "version_major": 2,
       "version_minor": 0
      },
      "text/plain": [
       "HBox(children=(FloatProgress(value=0.0, description='Training', layout=Layout(flex='2'), max=1250.0, style=Pro…"
      ]
     },
     "metadata": {},
     "output_type": "display_data"
    },
    {
     "name": "stdout",
     "output_type": "stream",
     "text": [
      "Epoch 9: train=15.9351, val=14.7023, took 25.337 s\n",
      "  Validation Found 42141 of 54504, added 1101 (eff 77.32%) (0.11 FP/event)\n"
     ]
    },
    {
     "data": {
      "application/vnd.jupyter.widget-view+json": {
       "model_id": "",
       "version_major": 2,
       "version_minor": 0
      },
      "text/plain": [
       "HBox(children=(FloatProgress(value=0.0, description='Training', layout=Layout(flex='2'), max=1250.0, style=Pro…"
      ]
     },
     "metadata": {},
     "output_type": "display_data"
    },
    {
     "name": "stdout",
     "output_type": "stream",
     "text": [
      "Epoch 10: train=15.8898, val=14.6233, took 25.076 s\n",
      "  Validation Found 42052 of 54504, added 1017 (eff 77.15%) (0.102 FP/event)\n"
     ]
    },
    {
     "data": {
      "application/vnd.jupyter.widget-view+json": {
       "model_id": "",
       "version_major": 2,
       "version_minor": 0
      },
      "text/plain": [
       "HBox(children=(FloatProgress(value=0.0, description='Training', layout=Layout(flex='2'), max=1250.0, style=Pro…"
      ]
     },
     "metadata": {},
     "output_type": "display_data"
    },
    {
     "name": "stdout",
     "output_type": "stream",
     "text": [
      "Epoch 11: train=15.7757, val=14.424, took 25.071 s\n",
      "  Validation Found 42366 of 54504, added 1161 (eff 77.73%) (0.116 FP/event)\n"
     ]
    },
    {
     "data": {
      "application/vnd.jupyter.widget-view+json": {
       "model_id": "",
       "version_major": 2,
       "version_minor": 0
      },
      "text/plain": [
       "HBox(children=(FloatProgress(value=0.0, description='Training', layout=Layout(flex='2'), max=1250.0, style=Pro…"
      ]
     },
     "metadata": {},
     "output_type": "display_data"
    },
    {
     "name": "stdout",
     "output_type": "stream",
     "text": [
      "Epoch 12: train=15.6899, val=14.3339, took 25.271 s\n",
      "  Validation Found 42203 of 54504, added 1021 (eff 77.43%) (0.102 FP/event)\n"
     ]
    },
    {
     "data": {
      "application/vnd.jupyter.widget-view+json": {
       "model_id": "",
       "version_major": 2,
       "version_minor": 0
      },
      "text/plain": [
       "HBox(children=(FloatProgress(value=0.0, description='Training', layout=Layout(flex='2'), max=1250.0, style=Pro…"
      ]
     },
     "metadata": {},
     "output_type": "display_data"
    },
    {
     "name": "stdout",
     "output_type": "stream",
     "text": [
      "Epoch 13: train=15.6287, val=14.2849, took 26.848 s\n",
      "  Validation Found 42456 of 54504, added 1222 (eff 77.90%) (0.122 FP/event)\n"
     ]
    },
    {
     "data": {
      "application/vnd.jupyter.widget-view+json": {
       "model_id": "",
       "version_major": 2,
       "version_minor": 0
      },
      "text/plain": [
       "HBox(children=(FloatProgress(value=0.0, description='Training', layout=Layout(flex='2'), max=1250.0, style=Pro…"
      ]
     },
     "metadata": {},
     "output_type": "display_data"
    },
    {
     "name": "stdout",
     "output_type": "stream",
     "text": [
      "Epoch 14: train=15.522, val=14.3087, took 25.64 s\n",
      "  Validation Found 42663 of 54504, added 1213 (eff 78.27%) (0.121 FP/event)\n"
     ]
    },
    {
     "data": {
      "application/vnd.jupyter.widget-view+json": {
       "model_id": "",
       "version_major": 2,
       "version_minor": 0
      },
      "text/plain": [
       "HBox(children=(FloatProgress(value=0.0, description='Training', layout=Layout(flex='2'), max=1250.0, style=Pro…"
      ]
     },
     "metadata": {},
     "output_type": "display_data"
    },
    {
     "name": "stdout",
     "output_type": "stream",
     "text": [
      "Epoch 15: train=15.4533, val=14.1849, took 26.383 s\n",
      "  Validation Found 42821 of 54504, added 1287 (eff 78.56%) (0.129 FP/event)\n"
     ]
    },
    {
     "data": {
      "application/vnd.jupyter.widget-view+json": {
       "model_id": "",
       "version_major": 2,
       "version_minor": 0
      },
      "text/plain": [
       "HBox(children=(FloatProgress(value=0.0, description='Training', layout=Layout(flex='2'), max=1250.0, style=Pro…"
      ]
     },
     "metadata": {},
     "output_type": "display_data"
    },
    {
     "name": "stdout",
     "output_type": "stream",
     "text": [
      "Epoch 16: train=15.3997, val=14.0767, took 25.53 s\n",
      "  Validation Found 42491 of 54504, added 1071 (eff 77.96%) (0.107 FP/event)\n"
     ]
    },
    {
     "data": {
      "application/vnd.jupyter.widget-view+json": {
       "model_id": "",
       "version_major": 2,
       "version_minor": 0
      },
      "text/plain": [
       "HBox(children=(FloatProgress(value=0.0, description='Training', layout=Layout(flex='2'), max=1250.0, style=Pro…"
      ]
     },
     "metadata": {},
     "output_type": "display_data"
    },
    {
     "name": "stdout",
     "output_type": "stream",
     "text": [
      "Epoch 17: train=15.3182, val=13.9977, took 25.427 s\n",
      "  Validation Found 42810 of 54504, added 1209 (eff 78.54%) (0.121 FP/event)\n"
     ]
    },
    {
     "data": {
      "application/vnd.jupyter.widget-view+json": {
       "model_id": "",
       "version_major": 2,
       "version_minor": 0
      },
      "text/plain": [
       "HBox(children=(FloatProgress(value=0.0, description='Training', layout=Layout(flex='2'), max=1250.0, style=Pro…"
      ]
     },
     "metadata": {},
     "output_type": "display_data"
    },
    {
     "name": "stdout",
     "output_type": "stream",
     "text": [
      "Epoch 18: train=15.2515, val=13.9796, took 25.259 s\n",
      "  Validation Found 42817 of 54504, added 1145 (eff 78.56%) (0.115 FP/event)\n"
     ]
    },
    {
     "data": {
      "application/vnd.jupyter.widget-view+json": {
       "model_id": "",
       "version_major": 2,
       "version_minor": 0
      },
      "text/plain": [
       "HBox(children=(FloatProgress(value=0.0, description='Training', layout=Layout(flex='2'), max=1250.0, style=Pro…"
      ]
     },
     "metadata": {},
     "output_type": "display_data"
    },
    {
     "name": "stdout",
     "output_type": "stream",
     "text": [
      "Epoch 19: train=15.1853, val=13.8803, took 24.941 s\n",
      "  Validation Found 42980 of 54504, added 1277 (eff 78.86%) (0.128 FP/event)\n"
     ]
    },
    {
     "data": {
      "application/vnd.jupyter.widget-view+json": {
       "model_id": "",
       "version_major": 2,
       "version_minor": 0
      },
      "text/plain": [
       "HBox(children=(FloatProgress(value=0.0, description='Training', layout=Layout(flex='2'), max=1250.0, style=Pro…"
      ]
     },
     "metadata": {},
     "output_type": "display_data"
    },
    {
     "name": "stdout",
     "output_type": "stream",
     "text": [
      "Epoch 20: train=15.1206, val=13.8886, took 25.177 s\n",
      "  Validation Found 43010 of 54504, added 1195 (eff 78.91%) (0.12 FP/event)\n"
     ]
    },
    {
     "data": {
      "application/vnd.jupyter.widget-view+json": {
       "model_id": "",
       "version_major": 2,
       "version_minor": 0
      },
      "text/plain": [
       "HBox(children=(FloatProgress(value=0.0, description='Training', layout=Layout(flex='2'), max=1250.0, style=Pro…"
      ]
     },
     "metadata": {},
     "output_type": "display_data"
    },
    {
     "name": "stdout",
     "output_type": "stream",
     "text": [
      "Epoch 21: train=15.0576, val=13.7913, took 25.072 s\n",
      "  Validation Found 43030 of 54504, added 1208 (eff 78.95%) (0.121 FP/event)\n"
     ]
    },
    {
     "data": {
      "application/vnd.jupyter.widget-view+json": {
       "model_id": "",
       "version_major": 2,
       "version_minor": 0
      },
      "text/plain": [
       "HBox(children=(FloatProgress(value=0.0, description='Training', layout=Layout(flex='2'), max=1250.0, style=Pro…"
      ]
     },
     "metadata": {},
     "output_type": "display_data"
    },
    {
     "name": "stdout",
     "output_type": "stream",
     "text": [
      "Epoch 22: train=15.0179, val=13.8532, took 24.873 s\n",
      "  Validation Found 42938 of 54504, added 1060 (eff 78.78%) (0.106 FP/event)\n"
     ]
    },
    {
     "data": {
      "application/vnd.jupyter.widget-view+json": {
       "model_id": "",
       "version_major": 2,
       "version_minor": 0
      },
      "text/plain": [
       "HBox(children=(FloatProgress(value=0.0, description='Training', layout=Layout(flex='2'), max=1250.0, style=Pro…"
      ]
     },
     "metadata": {},
     "output_type": "display_data"
    },
    {
     "name": "stdout",
     "output_type": "stream",
     "text": [
      "Epoch 23: train=14.9535, val=13.6931, took 25.168 s\n",
      "  Validation Found 43247 of 54504, added 1270 (eff 79.35%) (0.127 FP/event)\n"
     ]
    },
    {
     "data": {
      "application/vnd.jupyter.widget-view+json": {
       "model_id": "",
       "version_major": 2,
       "version_minor": 0
      },
      "text/plain": [
       "HBox(children=(FloatProgress(value=0.0, description='Training', layout=Layout(flex='2'), max=1250.0, style=Pro…"
      ]
     },
     "metadata": {},
     "output_type": "display_data"
    },
    {
     "name": "stdout",
     "output_type": "stream",
     "text": [
      "Epoch 24: train=14.846, val=13.537, took 24.899 s\n",
      "  Validation Found 43440 of 54504, added 1278 (eff 79.70%) (0.128 FP/event)\n"
     ]
    },
    {
     "data": {
      "application/vnd.jupyter.widget-view+json": {
       "model_id": "",
       "version_major": 2,
       "version_minor": 0
      },
      "text/plain": [
       "HBox(children=(FloatProgress(value=0.0, description='Training', layout=Layout(flex='2'), max=1250.0, style=Pro…"
      ]
     },
     "metadata": {},
     "output_type": "display_data"
    },
    {
     "name": "stdout",
     "output_type": "stream",
     "text": [
      "Epoch 25: train=14.7561, val=13.4837, took 24.878 s\n",
      "  Validation Found 43528 of 54504, added 1281 (eff 79.86%) (0.128 FP/event)\n"
     ]
    },
    {
     "data": {
      "application/vnd.jupyter.widget-view+json": {
       "model_id": "",
       "version_major": 2,
       "version_minor": 0
      },
      "text/plain": [
       "HBox(children=(FloatProgress(value=0.0, description='Training', layout=Layout(flex='2'), max=1250.0, style=Pro…"
      ]
     },
     "metadata": {},
     "output_type": "display_data"
    },
    {
     "name": "stdout",
     "output_type": "stream",
     "text": [
      "Epoch 26: train=14.7056, val=13.4638, took 24.899 s\n",
      "  Validation Found 43659 of 54504, added 1283 (eff 80.10%) (0.128 FP/event)\n"
     ]
    },
    {
     "data": {
      "application/vnd.jupyter.widget-view+json": {
       "model_id": "",
       "version_major": 2,
       "version_minor": 0
      },
      "text/plain": [
       "HBox(children=(FloatProgress(value=0.0, description='Training', layout=Layout(flex='2'), max=1250.0, style=Pro…"
      ]
     },
     "metadata": {},
     "output_type": "display_data"
    },
    {
     "name": "stdout",
     "output_type": "stream",
     "text": [
      "Epoch 27: train=14.6436, val=13.4825, took 24.809 s\n",
      "  Validation Found 43894 of 54504, added 1452 (eff 80.53%) (0.145 FP/event)\n"
     ]
    },
    {
     "data": {
      "application/vnd.jupyter.widget-view+json": {
       "model_id": "",
       "version_major": 2,
       "version_minor": 0
      },
      "text/plain": [
       "HBox(children=(FloatProgress(value=0.0, description='Training', layout=Layout(flex='2'), max=1250.0, style=Pro…"
      ]
     },
     "metadata": {},
     "output_type": "display_data"
    },
    {
     "name": "stdout",
     "output_type": "stream",
     "text": [
      "Epoch 28: train=14.5504, val=13.3747, took 25.051 s\n",
      "  Validation Found 43720 of 54504, added 1240 (eff 80.21%) (0.124 FP/event)\n"
     ]
    },
    {
     "data": {
      "application/vnd.jupyter.widget-view+json": {
       "model_id": "",
       "version_major": 2,
       "version_minor": 0
      },
      "text/plain": [
       "HBox(children=(FloatProgress(value=0.0, description='Training', layout=Layout(flex='2'), max=1250.0, style=Pro…"
      ]
     },
     "metadata": {},
     "output_type": "display_data"
    },
    {
     "name": "stdout",
     "output_type": "stream",
     "text": [
      "Epoch 29: train=14.4812, val=13.4161, took 25.116 s\n",
      "  Validation Found 43813 of 54504, added 1249 (eff 80.38%) (0.125 FP/event)\n"
     ]
    },
    {
     "data": {
      "application/vnd.jupyter.widget-view+json": {
       "model_id": "",
       "version_major": 2,
       "version_minor": 0
      },
      "text/plain": [
       "HBox(children=(FloatProgress(value=0.0, description='Training', layout=Layout(flex='2'), max=1250.0, style=Pro…"
      ]
     },
     "metadata": {},
     "output_type": "display_data"
    },
    {
     "name": "stdout",
     "output_type": "stream",
     "text": [
      "Epoch 30: train=14.4212, val=13.2336, took 24.936 s\n",
      "  Validation Found 43936 of 54504, added 1318 (eff 80.61%) (0.132 FP/event)\n"
     ]
    },
    {
     "data": {
      "application/vnd.jupyter.widget-view+json": {
       "model_id": "",
       "version_major": 2,
       "version_minor": 0
      },
      "text/plain": [
       "HBox(children=(FloatProgress(value=0.0, description='Training', layout=Layout(flex='2'), max=1250.0, style=Pro…"
      ]
     },
     "metadata": {},
     "output_type": "display_data"
    },
    {
     "name": "stdout",
     "output_type": "stream",
     "text": [
      "Epoch 31: train=14.3524, val=13.1653, took 25.491 s\n",
      "  Validation Found 44051 of 54504, added 1422 (eff 80.82%) (0.142 FP/event)\n"
     ]
    },
    {
     "data": {
      "application/vnd.jupyter.widget-view+json": {
       "model_id": "",
       "version_major": 2,
       "version_minor": 0
      },
      "text/plain": [
       "HBox(children=(FloatProgress(value=0.0, description='Training', layout=Layout(flex='2'), max=1250.0, style=Pro…"
      ]
     },
     "metadata": {},
     "output_type": "display_data"
    },
    {
     "name": "stdout",
     "output_type": "stream",
     "text": [
      "Epoch 32: train=14.2865, val=13.1175, took 25.148 s\n",
      "  Validation Found 43987 of 54504, added 1302 (eff 80.70%) (0.13 FP/event)\n"
     ]
    },
    {
     "data": {
      "application/vnd.jupyter.widget-view+json": {
       "model_id": "",
       "version_major": 2,
       "version_minor": 0
      },
      "text/plain": [
       "HBox(children=(FloatProgress(value=0.0, description='Training', layout=Layout(flex='2'), max=1250.0, style=Pro…"
      ]
     },
     "metadata": {},
     "output_type": "display_data"
    },
    {
     "name": "stdout",
     "output_type": "stream",
     "text": [
      "Epoch 33: train=14.2529, val=13.018, took 24.982 s\n",
      "  Validation Found 44116 of 54504, added 1332 (eff 80.94%) (0.133 FP/event)\n"
     ]
    },
    {
     "data": {
      "application/vnd.jupyter.widget-view+json": {
       "model_id": "",
       "version_major": 2,
       "version_minor": 0
      },
      "text/plain": [
       "HBox(children=(FloatProgress(value=0.0, description='Training', layout=Layout(flex='2'), max=1250.0, style=Pro…"
      ]
     },
     "metadata": {},
     "output_type": "display_data"
    },
    {
     "name": "stdout",
     "output_type": "stream",
     "text": [
      "Epoch 34: train=14.2052, val=13.108, took 25.569 s\n",
      "  Validation Found 44249 of 54504, added 1431 (eff 81.18%) (0.143 FP/event)\n"
     ]
    },
    {
     "data": {
      "application/vnd.jupyter.widget-view+json": {
       "model_id": "",
       "version_major": 2,
       "version_minor": 0
      },
      "text/plain": [
       "HBox(children=(FloatProgress(value=0.0, description='Training', layout=Layout(flex='2'), max=1250.0, style=Pro…"
      ]
     },
     "metadata": {},
     "output_type": "display_data"
    },
    {
     "name": "stdout",
     "output_type": "stream",
     "text": [
      "Epoch 35: train=14.1816, val=13.0218, took 25.076 s\n",
      "  Validation Found 43947 of 54504, added 1129 (eff 80.63%) (0.113 FP/event)\n"
     ]
    },
    {
     "data": {
      "application/vnd.jupyter.widget-view+json": {
       "model_id": "",
       "version_major": 2,
       "version_minor": 0
      },
      "text/plain": [
       "HBox(children=(FloatProgress(value=0.0, description='Training', layout=Layout(flex='2'), max=1250.0, style=Pro…"
      ]
     },
     "metadata": {},
     "output_type": "display_data"
    },
    {
     "name": "stdout",
     "output_type": "stream",
     "text": [
      "Epoch 36: train=14.1384, val=13.0607, took 24.854 s\n",
      "  Validation Found 44289 of 54504, added 1378 (eff 81.26%) (0.138 FP/event)\n"
     ]
    },
    {
     "data": {
      "application/vnd.jupyter.widget-view+json": {
       "model_id": "",
       "version_major": 2,
       "version_minor": 0
      },
      "text/plain": [
       "HBox(children=(FloatProgress(value=0.0, description='Training', layout=Layout(flex='2'), max=1250.0, style=Pro…"
      ]
     },
     "metadata": {},
     "output_type": "display_data"
    },
    {
     "name": "stdout",
     "output_type": "stream",
     "text": [
      "Epoch 37: train=14.0949, val=12.9367, took 24.935 s\n",
      "  Validation Found 44223 of 54504, added 1260 (eff 81.14%) (0.126 FP/event)\n"
     ]
    },
    {
     "data": {
      "application/vnd.jupyter.widget-view+json": {
       "model_id": "",
       "version_major": 2,
       "version_minor": 0
      },
      "text/plain": [
       "HBox(children=(FloatProgress(value=0.0, description='Training', layout=Layout(flex='2'), max=1250.0, style=Pro…"
      ]
     },
     "metadata": {},
     "output_type": "display_data"
    },
    {
     "name": "stdout",
     "output_type": "stream",
     "text": [
      "Epoch 38: train=14.0517, val=12.9438, took 24.761 s\n",
      "  Validation Found 44432 of 54504, added 1408 (eff 81.52%) (0.141 FP/event)\n"
     ]
    },
    {
     "data": {
      "application/vnd.jupyter.widget-view+json": {
       "model_id": "",
       "version_major": 2,
       "version_minor": 0
      },
      "text/plain": [
       "HBox(children=(FloatProgress(value=0.0, description='Training', layout=Layout(flex='2'), max=1250.0, style=Pro…"
      ]
     },
     "metadata": {},
     "output_type": "display_data"
    },
    {
     "name": "stdout",
     "output_type": "stream",
     "text": [
      "Epoch 39: train=14.006, val=12.8695, took 24.966 s\n",
      "  Validation Found 44441 of 54504, added 1352 (eff 81.54%) (0.135 FP/event)\n"
     ]
    },
    {
     "data": {
      "application/vnd.jupyter.widget-view+json": {
       "model_id": "",
       "version_major": 2,
       "version_minor": 0
      },
      "text/plain": [
       "HBox(children=(FloatProgress(value=0.0, description='Training', layout=Layout(flex='2'), max=1250.0, style=Pro…"
      ]
     },
     "metadata": {},
     "output_type": "display_data"
    },
    {
     "name": "stdout",
     "output_type": "stream",
     "text": [
      "Epoch 40: train=13.9666, val=12.818, took 25.276 s\n",
      "  Validation Found 44504 of 54504, added 1383 (eff 81.65%) (0.139 FP/event)\n"
     ]
    },
    {
     "data": {
      "application/vnd.jupyter.widget-view+json": {
       "model_id": "",
       "version_major": 2,
       "version_minor": 0
      },
      "text/plain": [
       "HBox(children=(FloatProgress(value=0.0, description='Training', layout=Layout(flex='2'), max=1250.0, style=Pro…"
      ]
     },
     "metadata": {},
     "output_type": "display_data"
    },
    {
     "name": "stdout",
     "output_type": "stream",
     "text": [
      "Epoch 41: train=13.9347, val=12.812, took 25.033 s\n",
      "  Validation Found 44485 of 54504, added 1313 (eff 81.62%) (0.131 FP/event)\n"
     ]
    },
    {
     "data": {
      "application/vnd.jupyter.widget-view+json": {
       "model_id": "",
       "version_major": 2,
       "version_minor": 0
      },
      "text/plain": [
       "HBox(children=(FloatProgress(value=0.0, description='Training', layout=Layout(flex='2'), max=1250.0, style=Pro…"
      ]
     },
     "metadata": {},
     "output_type": "display_data"
    },
    {
     "name": "stdout",
     "output_type": "stream",
     "text": [
      "Epoch 42: train=13.8862, val=12.7236, took 25.11 s\n",
      "  Validation Found 44334 of 54504, added 1210 (eff 81.34%) (0.121 FP/event)\n"
     ]
    },
    {
     "data": {
      "application/vnd.jupyter.widget-view+json": {
       "model_id": "",
       "version_major": 2,
       "version_minor": 0
      },
      "text/plain": [
       "HBox(children=(FloatProgress(value=0.0, description='Training', layout=Layout(flex='2'), max=1250.0, style=Pro…"
      ]
     },
     "metadata": {},
     "output_type": "display_data"
    },
    {
     "name": "stdout",
     "output_type": "stream",
     "text": [
      "Epoch 43: train=13.8527, val=12.7377, took 25.214 s\n",
      "  Validation Found 44605 of 54504, added 1469 (eff 81.84%) (0.147 FP/event)\n"
     ]
    },
    {
     "data": {
      "application/vnd.jupyter.widget-view+json": {
       "model_id": "",
       "version_major": 2,
       "version_minor": 0
      },
      "text/plain": [
       "HBox(children=(FloatProgress(value=0.0, description='Training', layout=Layout(flex='2'), max=1250.0, style=Pro…"
      ]
     },
     "metadata": {},
     "output_type": "display_data"
    },
    {
     "name": "stdout",
     "output_type": "stream",
     "text": [
      "Epoch 44: train=13.8221, val=12.6409, took 24.781 s\n",
      "  Validation Found 44542 of 54504, added 1358 (eff 81.72%) (0.136 FP/event)\n"
     ]
    },
    {
     "data": {
      "application/vnd.jupyter.widget-view+json": {
       "model_id": "",
       "version_major": 2,
       "version_minor": 0
      },
      "text/plain": [
       "HBox(children=(FloatProgress(value=0.0, description='Training', layout=Layout(flex='2'), max=1250.0, style=Pro…"
      ]
     },
     "metadata": {},
     "output_type": "display_data"
    },
    {
     "name": "stdout",
     "output_type": "stream",
     "text": [
      "Epoch 45: train=13.7801, val=12.563, took 24.822 s\n",
      "  Validation Found 44514 of 54504, added 1252 (eff 81.67%) (0.125 FP/event)\n"
     ]
    },
    {
     "data": {
      "application/vnd.jupyter.widget-view+json": {
       "model_id": "",
       "version_major": 2,
       "version_minor": 0
      },
      "text/plain": [
       "HBox(children=(FloatProgress(value=0.0, description='Training', layout=Layout(flex='2'), max=1250.0, style=Pro…"
      ]
     },
     "metadata": {},
     "output_type": "display_data"
    },
    {
     "name": "stdout",
     "output_type": "stream",
     "text": [
      "Epoch 46: train=13.73, val=12.6301, took 25.084 s\n",
      "  Validation Found 44596 of 54504, added 1276 (eff 81.82%) (0.128 FP/event)\n"
     ]
    },
    {
     "data": {
      "application/vnd.jupyter.widget-view+json": {
       "model_id": "",
       "version_major": 2,
       "version_minor": 0
      },
      "text/plain": [
       "HBox(children=(FloatProgress(value=0.0, description='Training', layout=Layout(flex='2'), max=1250.0, style=Pro…"
      ]
     },
     "metadata": {},
     "output_type": "display_data"
    },
    {
     "name": "stdout",
     "output_type": "stream",
     "text": [
      "Epoch 47: train=13.6982, val=12.4949, took 24.796 s\n",
      "  Validation Found 44599 of 54504, added 1245 (eff 81.83%) (0.125 FP/event)\n"
     ]
    },
    {
     "data": {
      "application/vnd.jupyter.widget-view+json": {
       "model_id": "",
       "version_major": 2,
       "version_minor": 0
      },
      "text/plain": [
       "HBox(children=(FloatProgress(value=0.0, description='Training', layout=Layout(flex='2'), max=1250.0, style=Pro…"
      ]
     },
     "metadata": {},
     "output_type": "display_data"
    },
    {
     "name": "stdout",
     "output_type": "stream",
     "text": [
      "Epoch 48: train=13.664, val=12.5079, took 24.839 s\n",
      "  Validation Found 44687 of 54504, added 1313 (eff 81.99%) (0.131 FP/event)\n"
     ]
    },
    {
     "data": {
      "application/vnd.jupyter.widget-view+json": {
       "model_id": "",
       "version_major": 2,
       "version_minor": 0
      },
      "text/plain": [
       "HBox(children=(FloatProgress(value=0.0, description='Training', layout=Layout(flex='2'), max=1250.0, style=Pro…"
      ]
     },
     "metadata": {},
     "output_type": "display_data"
    },
    {
     "name": "stdout",
     "output_type": "stream",
     "text": [
      "Epoch 49: train=13.6364, val=12.4894, took 24.897 s\n",
      "  Validation Found 44896 of 54504, added 1434 (eff 82.37%) (0.144 FP/event)\n"
     ]
    },
    {
     "data": {
      "application/vnd.jupyter.widget-view+json": {
       "model_id": "",
       "version_major": 2,
       "version_minor": 0
      },
      "text/plain": [
       "HBox(children=(FloatProgress(value=0.0, description='Training', layout=Layout(flex='2'), max=1250.0, style=Pro…"
      ]
     },
     "metadata": {},
     "output_type": "display_data"
    },
    {
     "name": "stdout",
     "output_type": "stream",
     "text": [
      "Epoch 50: train=13.5995, val=12.4902, took 24.607 s\n",
      "  Validation Found 45039 of 54504, added 1451 (eff 82.63%) (0.145 FP/event)\n"
     ]
    },
    {
     "data": {
      "application/vnd.jupyter.widget-view+json": {
       "model_id": "",
       "version_major": 2,
       "version_minor": 0
      },
      "text/plain": [
       "HBox(children=(FloatProgress(value=0.0, description='Training', layout=Layout(flex='2'), max=1250.0, style=Pro…"
      ]
     },
     "metadata": {},
     "output_type": "display_data"
    },
    {
     "name": "stdout",
     "output_type": "stream",
     "text": [
      "Epoch 51: train=13.5701, val=12.4332, took 24.849 s\n",
      "  Validation Found 44787 of 54504, added 1228 (eff 82.17%) (0.123 FP/event)\n"
     ]
    },
    {
     "data": {
      "application/vnd.jupyter.widget-view+json": {
       "model_id": "",
       "version_major": 2,
       "version_minor": 0
      },
      "text/plain": [
       "HBox(children=(FloatProgress(value=0.0, description='Training', layout=Layout(flex='2'), max=1250.0, style=Pro…"
      ]
     },
     "metadata": {},
     "output_type": "display_data"
    },
    {
     "name": "stdout",
     "output_type": "stream",
     "text": [
      "Epoch 52: train=13.5507, val=12.4955, took 24.885 s\n",
      "  Validation Found 45122 of 54504, added 1467 (eff 82.79%) (0.147 FP/event)\n"
     ]
    },
    {
     "data": {
      "application/vnd.jupyter.widget-view+json": {
       "model_id": "",
       "version_major": 2,
       "version_minor": 0
      },
      "text/plain": [
       "HBox(children=(FloatProgress(value=0.0, description='Training', layout=Layout(flex='2'), max=1250.0, style=Pro…"
      ]
     },
     "metadata": {},
     "output_type": "display_data"
    },
    {
     "name": "stdout",
     "output_type": "stream",
     "text": [
      "Epoch 53: train=13.5386, val=12.3846, took 24.548 s\n",
      "  Validation Found 44761 of 54504, added 1188 (eff 82.12%) (0.119 FP/event)\n"
     ]
    },
    {
     "data": {
      "application/vnd.jupyter.widget-view+json": {
       "model_id": "",
       "version_major": 2,
       "version_minor": 0
      },
      "text/plain": [
       "HBox(children=(FloatProgress(value=0.0, description='Training', layout=Layout(flex='2'), max=1250.0, style=Pro…"
      ]
     },
     "metadata": {},
     "output_type": "display_data"
    },
    {
     "name": "stdout",
     "output_type": "stream",
     "text": [
      "Epoch 54: train=13.515, val=12.3314, took 24.774 s\n",
      "  Validation Found 45034 of 54504, added 1409 (eff 82.63%) (0.141 FP/event)\n"
     ]
    },
    {
     "data": {
      "application/vnd.jupyter.widget-view+json": {
       "model_id": "",
       "version_major": 2,
       "version_minor": 0
      },
      "text/plain": [
       "HBox(children=(FloatProgress(value=0.0, description='Training', layout=Layout(flex='2'), max=1250.0, style=Pro…"
      ]
     },
     "metadata": {},
     "output_type": "display_data"
    },
    {
     "name": "stdout",
     "output_type": "stream",
     "text": [
      "Epoch 55: train=13.4964, val=12.4251, took 25.096 s\n",
      "  Validation Found 44996 of 54504, added 1322 (eff 82.56%) (0.132 FP/event)\n"
     ]
    },
    {
     "data": {
      "application/vnd.jupyter.widget-view+json": {
       "model_id": "",
       "version_major": 2,
       "version_minor": 0
      },
      "text/plain": [
       "HBox(children=(FloatProgress(value=0.0, description='Training', layout=Layout(flex='2'), max=1250.0, style=Pro…"
      ]
     },
     "metadata": {},
     "output_type": "display_data"
    },
    {
     "name": "stdout",
     "output_type": "stream",
     "text": [
      "Epoch 56: train=13.4707, val=12.4493, took 24.534 s\n",
      "  Validation Found 45340 of 54504, added 1621 (eff 83.19%) (0.162 FP/event)\n"
     ]
    },
    {
     "data": {
      "application/vnd.jupyter.widget-view+json": {
       "model_id": "",
       "version_major": 2,
       "version_minor": 0
      },
      "text/plain": [
       "HBox(children=(FloatProgress(value=0.0, description='Training', layout=Layout(flex='2'), max=1250.0, style=Pro…"
      ]
     },
     "metadata": {},
     "output_type": "display_data"
    },
    {
     "name": "stdout",
     "output_type": "stream",
     "text": [
      "Epoch 57: train=13.46, val=12.3174, took 24.812 s\n",
      "  Validation Found 45175 of 54504, added 1489 (eff 82.88%) (0.149 FP/event)\n"
     ]
    },
    {
     "data": {
      "application/vnd.jupyter.widget-view+json": {
       "model_id": "",
       "version_major": 2,
       "version_minor": 0
      },
      "text/plain": [
       "HBox(children=(FloatProgress(value=0.0, description='Training', layout=Layout(flex='2'), max=1250.0, style=Pro…"
      ]
     },
     "metadata": {},
     "output_type": "display_data"
    },
    {
     "name": "stdout",
     "output_type": "stream",
     "text": [
      "Epoch 58: train=13.4495, val=12.3933, took 24.791 s\n",
      "  Validation Found 44953 of 54504, added 1252 (eff 82.48%) (0.125 FP/event)\n"
     ]
    },
    {
     "data": {
      "application/vnd.jupyter.widget-view+json": {
       "model_id": "",
       "version_major": 2,
       "version_minor": 0
      },
      "text/plain": [
       "HBox(children=(FloatProgress(value=0.0, description='Training', layout=Layout(flex='2'), max=1250.0, style=Pro…"
      ]
     },
     "metadata": {},
     "output_type": "display_data"
    },
    {
     "name": "stdout",
     "output_type": "stream",
     "text": [
      "Epoch 59: train=13.4188, val=12.2916, took 24.501 s\n",
      "  Validation Found 45157 of 54504, added 1373 (eff 82.85%) (0.138 FP/event)\n"
     ]
    },
    {
     "data": {
      "application/vnd.jupyter.widget-view+json": {
       "model_id": "",
       "version_major": 2,
       "version_minor": 0
      },
      "text/plain": [
       "HBox(children=(FloatProgress(value=0.0, description='Training', layout=Layout(flex='2'), max=1250.0, style=Pro…"
      ]
     },
     "metadata": {},
     "output_type": "display_data"
    },
    {
     "name": "stdout",
     "output_type": "stream",
     "text": [
      "Epoch 60: train=13.4031, val=12.226, took 24.992 s\n",
      "  Validation Found 45182 of 54504, added 1327 (eff 82.90%) (0.133 FP/event)\n"
     ]
    },
    {
     "data": {
      "application/vnd.jupyter.widget-view+json": {
       "model_id": "",
       "version_major": 2,
       "version_minor": 0
      },
      "text/plain": [
       "HBox(children=(FloatProgress(value=0.0, description='Training', layout=Layout(flex='2'), max=1250.0, style=Pro…"
      ]
     },
     "metadata": {},
     "output_type": "display_data"
    },
    {
     "name": "stdout",
     "output_type": "stream",
     "text": [
      "Epoch 61: train=13.372, val=12.2437, took 24.773 s\n",
      "  Validation Found 45389 of 54504, added 1515 (eff 83.28%) (0.152 FP/event)\n"
     ]
    },
    {
     "data": {
      "application/vnd.jupyter.widget-view+json": {
       "model_id": "",
       "version_major": 2,
       "version_minor": 0
      },
      "text/plain": [
       "HBox(children=(FloatProgress(value=0.0, description='Training', layout=Layout(flex='2'), max=1250.0, style=Pro…"
      ]
     },
     "metadata": {},
     "output_type": "display_data"
    },
    {
     "name": "stdout",
     "output_type": "stream",
     "text": [
      "Epoch 62: train=13.3619, val=12.1662, took 24.427 s\n",
      "  Validation Found 45237 of 54504, added 1429 (eff 83.00%) (0.143 FP/event)\n"
     ]
    },
    {
     "data": {
      "application/vnd.jupyter.widget-view+json": {
       "model_id": "",
       "version_major": 2,
       "version_minor": 0
      },
      "text/plain": [
       "HBox(children=(FloatProgress(value=0.0, description='Training', layout=Layout(flex='2'), max=1250.0, style=Pro…"
      ]
     },
     "metadata": {},
     "output_type": "display_data"
    },
    {
     "name": "stdout",
     "output_type": "stream",
     "text": [
      "Epoch 63: train=13.3382, val=12.1468, took 24.751 s\n",
      "  Validation Found 45291 of 54504, added 1338 (eff 83.10%) (0.134 FP/event)\n"
     ]
    },
    {
     "data": {
      "application/vnd.jupyter.widget-view+json": {
       "model_id": "",
       "version_major": 2,
       "version_minor": 0
      },
      "text/plain": [
       "HBox(children=(FloatProgress(value=0.0, description='Training', layout=Layout(flex='2'), max=1250.0, style=Pro…"
      ]
     },
     "metadata": {},
     "output_type": "display_data"
    },
    {
     "name": "stdout",
     "output_type": "stream",
     "text": [
      "Epoch 64: train=13.3135, val=12.3284, took 24.738 s\n",
      "  Validation Found 45445 of 54504, added 1444 (eff 83.38%) (0.145 FP/event)\n"
     ]
    },
    {
     "data": {
      "application/vnd.jupyter.widget-view+json": {
       "model_id": "",
       "version_major": 2,
       "version_minor": 0
      },
      "text/plain": [
       "HBox(children=(FloatProgress(value=0.0, description='Training', layout=Layout(flex='2'), max=1250.0, style=Pro…"
      ]
     },
     "metadata": {},
     "output_type": "display_data"
    },
    {
     "name": "stdout",
     "output_type": "stream",
     "text": [
      "Epoch 65: train=13.2984, val=12.1864, took 24.668 s\n",
      "  Validation Found 45452 of 54504, added 1433 (eff 83.39%) (0.144 FP/event)\n"
     ]
    },
    {
     "data": {
      "application/vnd.jupyter.widget-view+json": {
       "model_id": "",
       "version_major": 2,
       "version_minor": 0
      },
      "text/plain": [
       "HBox(children=(FloatProgress(value=0.0, description='Training', layout=Layout(flex='2'), max=1250.0, style=Pro…"
      ]
     },
     "metadata": {},
     "output_type": "display_data"
    },
    {
     "name": "stdout",
     "output_type": "stream",
     "text": [
      "Epoch 66: train=13.2726, val=12.1868, took 25.059 s\n",
      "  Validation Found 45274 of 54504, added 1248 (eff 83.07%) (0.125 FP/event)\n"
     ]
    },
    {
     "data": {
      "application/vnd.jupyter.widget-view+json": {
       "model_id": "",
       "version_major": 2,
       "version_minor": 0
      },
      "text/plain": [
       "HBox(children=(FloatProgress(value=0.0, description='Training', layout=Layout(flex='2'), max=1250.0, style=Pro…"
      ]
     },
     "metadata": {},
     "output_type": "display_data"
    },
    {
     "name": "stdout",
     "output_type": "stream",
     "text": [
      "Epoch 67: train=13.2615, val=12.0751, took 24.967 s\n",
      "  Validation Found 45491 of 54504, added 1471 (eff 83.46%) (0.147 FP/event)\n"
     ]
    },
    {
     "data": {
      "application/vnd.jupyter.widget-view+json": {
       "model_id": "",
       "version_major": 2,
       "version_minor": 0
      },
      "text/plain": [
       "HBox(children=(FloatProgress(value=0.0, description='Training', layout=Layout(flex='2'), max=1250.0, style=Pro…"
      ]
     },
     "metadata": {},
     "output_type": "display_data"
    },
    {
     "name": "stdout",
     "output_type": "stream",
     "text": [
      "Epoch 68: train=13.2404, val=12.1142, took 25.383 s\n",
      "  Validation Found 45443 of 54504, added 1392 (eff 83.38%) (0.139 FP/event)\n"
     ]
    },
    {
     "data": {
      "application/vnd.jupyter.widget-view+json": {
       "model_id": "",
       "version_major": 2,
       "version_minor": 0
      },
      "text/plain": [
       "HBox(children=(FloatProgress(value=0.0, description='Training', layout=Layout(flex='2'), max=1250.0, style=Pro…"
      ]
     },
     "metadata": {},
     "output_type": "display_data"
    },
    {
     "name": "stdout",
     "output_type": "stream",
     "text": [
      "Epoch 69: train=13.2099, val=12.026, took 25.602 s\n",
      "  Validation Found 45393 of 54504, added 1356 (eff 83.28%) (0.136 FP/event)\n"
     ]
    },
    {
     "data": {
      "application/vnd.jupyter.widget-view+json": {
       "model_id": "",
       "version_major": 2,
       "version_minor": 0
      },
      "text/plain": [
       "HBox(children=(FloatProgress(value=0.0, description='Training', layout=Layout(flex='2'), max=1250.0, style=Pro…"
      ]
     },
     "metadata": {},
     "output_type": "display_data"
    },
    {
     "name": "stdout",
     "output_type": "stream",
     "text": [
      "Epoch 70: train=13.1852, val=12.0294, took 25.394 s\n",
      "  Validation Found 45476 of 54504, added 1378 (eff 83.44%) (0.138 FP/event)\n"
     ]
    },
    {
     "data": {
      "application/vnd.jupyter.widget-view+json": {
       "model_id": "",
       "version_major": 2,
       "version_minor": 0
      },
      "text/plain": [
       "HBox(children=(FloatProgress(value=0.0, description='Training', layout=Layout(flex='2'), max=1250.0, style=Pro…"
      ]
     },
     "metadata": {},
     "output_type": "display_data"
    },
    {
     "name": "stdout",
     "output_type": "stream",
     "text": [
      "Epoch 71: train=13.1581, val=12.0694, took 24.866 s\n",
      "  Validation Found 45515 of 54504, added 1365 (eff 83.51%) (0.137 FP/event)\n"
     ]
    },
    {
     "data": {
      "application/vnd.jupyter.widget-view+json": {
       "model_id": "",
       "version_major": 2,
       "version_minor": 0
      },
      "text/plain": [
       "HBox(children=(FloatProgress(value=0.0, description='Training', layout=Layout(flex='2'), max=1250.0, style=Pro…"
      ]
     },
     "metadata": {},
     "output_type": "display_data"
    },
    {
     "name": "stdout",
     "output_type": "stream",
     "text": [
      "Epoch 72: train=13.1441, val=12.0537, took 24.888 s\n",
      "  Validation Found 45585 of 54504, added 1444 (eff 83.64%) (0.145 FP/event)\n"
     ]
    },
    {
     "data": {
      "application/vnd.jupyter.widget-view+json": {
       "model_id": "",
       "version_major": 2,
       "version_minor": 0
      },
      "text/plain": [
       "HBox(children=(FloatProgress(value=0.0, description='Training', layout=Layout(flex='2'), max=1250.0, style=Pro…"
      ]
     },
     "metadata": {},
     "output_type": "display_data"
    },
    {
     "name": "stdout",
     "output_type": "stream",
     "text": [
      "Epoch 73: train=13.1306, val=11.9975, took 24.567 s\n",
      "  Validation Found 45412 of 54504, added 1288 (eff 83.32%) (0.129 FP/event)\n"
     ]
    },
    {
     "data": {
      "application/vnd.jupyter.widget-view+json": {
       "model_id": "",
       "version_major": 2,
       "version_minor": 0
      },
      "text/plain": [
       "HBox(children=(FloatProgress(value=0.0, description='Training', layout=Layout(flex='2'), max=1250.0, style=Pro…"
      ]
     },
     "metadata": {},
     "output_type": "display_data"
    },
    {
     "name": "stdout",
     "output_type": "stream",
     "text": [
      "Epoch 74: train=13.0979, val=11.9627, took 24.847 s\n",
      "  Validation Found 45679 of 54504, added 1426 (eff 83.81%) (0.143 FP/event)\n"
     ]
    },
    {
     "data": {
      "application/vnd.jupyter.widget-view+json": {
       "model_id": "",
       "version_major": 2,
       "version_minor": 0
      },
      "text/plain": [
       "HBox(children=(FloatProgress(value=0.0, description='Training', layout=Layout(flex='2'), max=1250.0, style=Pro…"
      ]
     },
     "metadata": {},
     "output_type": "display_data"
    },
    {
     "name": "stdout",
     "output_type": "stream",
     "text": [
      "Epoch 75: train=13.0688, val=11.9443, took 25.089 s\n",
      "  Validation Found 45711 of 54504, added 1419 (eff 83.87%) (0.142 FP/event)\n"
     ]
    },
    {
     "data": {
      "application/vnd.jupyter.widget-view+json": {
       "model_id": "",
       "version_major": 2,
       "version_minor": 0
      },
      "text/plain": [
       "HBox(children=(FloatProgress(value=0.0, description='Training', layout=Layout(flex='2'), max=1250.0, style=Pro…"
      ]
     },
     "metadata": {},
     "output_type": "display_data"
    },
    {
     "name": "stdout",
     "output_type": "stream",
     "text": [
      "Epoch 76: train=13.0316, val=11.8735, took 24.876 s\n",
      "  Validation Found 45463 of 54504, added 1265 (eff 83.41%) (0.127 FP/event)\n"
     ]
    },
    {
     "data": {
      "application/vnd.jupyter.widget-view+json": {
       "model_id": "",
       "version_major": 2,
       "version_minor": 0
      },
      "text/plain": [
       "HBox(children=(FloatProgress(value=0.0, description='Training', layout=Layout(flex='2'), max=1250.0, style=Pro…"
      ]
     },
     "metadata": {},
     "output_type": "display_data"
    },
    {
     "name": "stdout",
     "output_type": "stream",
     "text": [
      "Epoch 77: train=13.0142, val=11.8275, took 25.086 s\n",
      "  Validation Found 45610 of 54504, added 1280 (eff 83.68%) (0.128 FP/event)\n"
     ]
    },
    {
     "data": {
      "application/vnd.jupyter.widget-view+json": {
       "model_id": "",
       "version_major": 2,
       "version_minor": 0
      },
      "text/plain": [
       "HBox(children=(FloatProgress(value=0.0, description='Training', layout=Layout(flex='2'), max=1250.0, style=Pro…"
      ]
     },
     "metadata": {},
     "output_type": "display_data"
    },
    {
     "name": "stdout",
     "output_type": "stream",
     "text": [
      "Epoch 78: train=12.9941, val=11.9544, took 25.198 s\n",
      "  Validation Found 45831 of 54504, added 1354 (eff 84.09%) (0.136 FP/event)\n"
     ]
    },
    {
     "data": {
      "application/vnd.jupyter.widget-view+json": {
       "model_id": "",
       "version_major": 2,
       "version_minor": 0
      },
      "text/plain": [
       "HBox(children=(FloatProgress(value=0.0, description='Training', layout=Layout(flex='2'), max=1250.0, style=Pro…"
      ]
     },
     "metadata": {},
     "output_type": "display_data"
    },
    {
     "name": "stdout",
     "output_type": "stream",
     "text": [
      "Epoch 79: train=12.9796, val=12.1162, took 24.855 s\n",
      "  Validation Found 45956 of 54504, added 1479 (eff 84.32%) (0.148 FP/event)\n"
     ]
    },
    {
     "data": {
      "application/vnd.jupyter.widget-view+json": {
       "model_id": "",
       "version_major": 2,
       "version_minor": 0
      },
      "text/plain": [
       "HBox(children=(FloatProgress(value=0.0, description='Training', layout=Layout(flex='2'), max=1250.0, style=Pro…"
      ]
     },
     "metadata": {},
     "output_type": "display_data"
    },
    {
     "name": "stdout",
     "output_type": "stream",
     "text": [
      "Epoch 80: train=12.97, val=11.828, took 24.928 s\n",
      "  Validation Found 45737 of 54504, added 1353 (eff 83.91%) (0.136 FP/event)\n"
     ]
    },
    {
     "data": {
      "application/vnd.jupyter.widget-view+json": {
       "model_id": "",
       "version_major": 2,
       "version_minor": 0
      },
      "text/plain": [
       "HBox(children=(FloatProgress(value=0.0, description='Training', layout=Layout(flex='2'), max=1250.0, style=Pro…"
      ]
     },
     "metadata": {},
     "output_type": "display_data"
    },
    {
     "name": "stdout",
     "output_type": "stream",
     "text": [
      "Epoch 81: train=12.94, val=11.8459, took 25.165 s\n",
      "  Validation Found 45875 of 54504, added 1359 (eff 84.17%) (0.136 FP/event)\n"
     ]
    },
    {
     "data": {
      "application/vnd.jupyter.widget-view+json": {
       "model_id": "",
       "version_major": 2,
       "version_minor": 0
      },
      "text/plain": [
       "HBox(children=(FloatProgress(value=0.0, description='Training', layout=Layout(flex='2'), max=1250.0, style=Pro…"
      ]
     },
     "metadata": {},
     "output_type": "display_data"
    },
    {
     "name": "stdout",
     "output_type": "stream",
     "text": [
      "Epoch 82: train=12.9047, val=11.8467, took 24.875 s\n",
      "  Validation Found 45813 of 54504, added 1281 (eff 84.05%) (0.128 FP/event)\n"
     ]
    },
    {
     "data": {
      "application/vnd.jupyter.widget-view+json": {
       "model_id": "",
       "version_major": 2,
       "version_minor": 0
      },
      "text/plain": [
       "HBox(children=(FloatProgress(value=0.0, description='Training', layout=Layout(flex='2'), max=1250.0, style=Pro…"
      ]
     },
     "metadata": {},
     "output_type": "display_data"
    },
    {
     "name": "stdout",
     "output_type": "stream",
     "text": [
      "Epoch 83: train=12.8713, val=11.7763, took 24.874 s\n",
      "  Validation Found 45987 of 54504, added 1368 (eff 84.37%) (0.137 FP/event)\n"
     ]
    },
    {
     "data": {
      "application/vnd.jupyter.widget-view+json": {
       "model_id": "",
       "version_major": 2,
       "version_minor": 0
      },
      "text/plain": [
       "HBox(children=(FloatProgress(value=0.0, description='Training', layout=Layout(flex='2'), max=1250.0, style=Pro…"
      ]
     },
     "metadata": {},
     "output_type": "display_data"
    },
    {
     "name": "stdout",
     "output_type": "stream",
     "text": [
      "Epoch 84: train=12.8591, val=11.7577, took 24.808 s\n",
      "  Validation Found 46048 of 54504, added 1412 (eff 84.49%) (0.141 FP/event)\n"
     ]
    },
    {
     "data": {
      "application/vnd.jupyter.widget-view+json": {
       "model_id": "",
       "version_major": 2,
       "version_minor": 0
      },
      "text/plain": [
       "HBox(children=(FloatProgress(value=0.0, description='Training', layout=Layout(flex='2'), max=1250.0, style=Pro…"
      ]
     },
     "metadata": {},
     "output_type": "display_data"
    },
    {
     "name": "stdout",
     "output_type": "stream",
     "text": [
      "Epoch 85: train=12.8417, val=11.8166, took 24.832 s\n",
      "  Validation Found 45854 of 54504, added 1249 (eff 84.13%) (0.125 FP/event)\n"
     ]
    },
    {
     "data": {
      "application/vnd.jupyter.widget-view+json": {
       "model_id": "",
       "version_major": 2,
       "version_minor": 0
      },
      "text/plain": [
       "HBox(children=(FloatProgress(value=0.0, description='Training', layout=Layout(flex='2'), max=1250.0, style=Pro…"
      ]
     },
     "metadata": {},
     "output_type": "display_data"
    },
    {
     "name": "stdout",
     "output_type": "stream",
     "text": [
      "Epoch 86: train=12.8345, val=11.7775, took 25.155 s\n",
      "  Validation Found 46057 of 54504, added 1445 (eff 84.50%) (0.145 FP/event)\n"
     ]
    },
    {
     "data": {
      "application/vnd.jupyter.widget-view+json": {
       "model_id": "",
       "version_major": 2,
       "version_minor": 0
      },
      "text/plain": [
       "HBox(children=(FloatProgress(value=0.0, description='Training', layout=Layout(flex='2'), max=1250.0, style=Pro…"
      ]
     },
     "metadata": {},
     "output_type": "display_data"
    },
    {
     "name": "stdout",
     "output_type": "stream",
     "text": [
      "Epoch 87: train=12.8179, val=11.7074, took 25.121 s\n",
      "  Validation Found 45866 of 54504, added 1245 (eff 84.15%) (0.125 FP/event)\n"
     ]
    },
    {
     "data": {
      "application/vnd.jupyter.widget-view+json": {
       "model_id": "",
       "version_major": 2,
       "version_minor": 0
      },
      "text/plain": [
       "HBox(children=(FloatProgress(value=0.0, description='Training', layout=Layout(flex='2'), max=1250.0, style=Pro…"
      ]
     },
     "metadata": {},
     "output_type": "display_data"
    },
    {
     "name": "stdout",
     "output_type": "stream",
     "text": [
      "Epoch 88: train=12.7973, val=11.7531, took 24.739 s\n",
      "  Validation Found 45906 of 54504, added 1258 (eff 84.23%) (0.126 FP/event)\n"
     ]
    },
    {
     "data": {
      "application/vnd.jupyter.widget-view+json": {
       "model_id": "",
       "version_major": 2,
       "version_minor": 0
      },
      "text/plain": [
       "HBox(children=(FloatProgress(value=0.0, description='Training', layout=Layout(flex='2'), max=1250.0, style=Pro…"
      ]
     },
     "metadata": {},
     "output_type": "display_data"
    },
    {
     "name": "stdout",
     "output_type": "stream",
     "text": [
      "Epoch 89: train=12.7863, val=11.7245, took 25.025 s\n",
      "  Validation Found 46019 of 54504, added 1309 (eff 84.43%) (0.131 FP/event)\n"
     ]
    },
    {
     "data": {
      "application/vnd.jupyter.widget-view+json": {
       "model_id": "",
       "version_major": 2,
       "version_minor": 0
      },
      "text/plain": [
       "HBox(children=(FloatProgress(value=0.0, description='Training', layout=Layout(flex='2'), max=1250.0, style=Pro…"
      ]
     },
     "metadata": {},
     "output_type": "display_data"
    },
    {
     "name": "stdout",
     "output_type": "stream",
     "text": [
      "Epoch 90: train=12.7709, val=11.6555, took 24.783 s\n",
      "  Validation Found 46125 of 54504, added 1435 (eff 84.63%) (0.144 FP/event)\n"
     ]
    },
    {
     "data": {
      "application/vnd.jupyter.widget-view+json": {
       "model_id": "",
       "version_major": 2,
       "version_minor": 0
      },
      "text/plain": [
       "HBox(children=(FloatProgress(value=0.0, description='Training', layout=Layout(flex='2'), max=1250.0, style=Pro…"
      ]
     },
     "metadata": {},
     "output_type": "display_data"
    },
    {
     "name": "stdout",
     "output_type": "stream",
     "text": [
      "Epoch 91: train=12.7488, val=11.5826, took 24.672 s\n",
      "  Validation Found 45761 of 54504, added 1184 (eff 83.96%) (0.119 FP/event)\n"
     ]
    },
    {
     "data": {
      "application/vnd.jupyter.widget-view+json": {
       "model_id": "",
       "version_major": 2,
       "version_minor": 0
      },
      "text/plain": [
       "HBox(children=(FloatProgress(value=0.0, description='Training', layout=Layout(flex='2'), max=1250.0, style=Pro…"
      ]
     },
     "metadata": {},
     "output_type": "display_data"
    },
    {
     "name": "stdout",
     "output_type": "stream",
     "text": [
      "Epoch 92: train=12.7228, val=11.6092, took 24.96 s\n",
      "  Validation Found 46200 of 54504, added 1438 (eff 84.76%) (0.144 FP/event)\n"
     ]
    },
    {
     "data": {
      "application/vnd.jupyter.widget-view+json": {
       "model_id": "",
       "version_major": 2,
       "version_minor": 0
      },
      "text/plain": [
       "HBox(children=(FloatProgress(value=0.0, description='Training', layout=Layout(flex='2'), max=1250.0, style=Pro…"
      ]
     },
     "metadata": {},
     "output_type": "display_data"
    },
    {
     "name": "stdout",
     "output_type": "stream",
     "text": [
      "Epoch 93: train=12.707, val=11.7158, took 25.666 s\n",
      "  Validation Found 45971 of 54504, added 1262 (eff 84.34%) (0.126 FP/event)\n"
     ]
    },
    {
     "data": {
      "application/vnd.jupyter.widget-view+json": {
       "model_id": "",
       "version_major": 2,
       "version_minor": 0
      },
      "text/plain": [
       "HBox(children=(FloatProgress(value=0.0, description='Training', layout=Layout(flex='2'), max=1250.0, style=Pro…"
      ]
     },
     "metadata": {},
     "output_type": "display_data"
    },
    {
     "name": "stdout",
     "output_type": "stream",
     "text": [
      "Epoch 94: train=12.6812, val=11.5914, took 24.82 s\n",
      "  Validation Found 46209 of 54504, added 1436 (eff 84.78%) (0.144 FP/event)\n"
     ]
    },
    {
     "data": {
      "application/vnd.jupyter.widget-view+json": {
       "model_id": "",
       "version_major": 2,
       "version_minor": 0
      },
      "text/plain": [
       "HBox(children=(FloatProgress(value=0.0, description='Training', layout=Layout(flex='2'), max=1250.0, style=Pro…"
      ]
     },
     "metadata": {},
     "output_type": "display_data"
    },
    {
     "name": "stdout",
     "output_type": "stream",
     "text": [
      "Epoch 95: train=12.6876, val=11.6253, took 25.016 s\n",
      "  Validation Found 46263 of 54504, added 1434 (eff 84.88%) (0.144 FP/event)\n"
     ]
    },
    {
     "data": {
      "application/vnd.jupyter.widget-view+json": {
       "model_id": "",
       "version_major": 2,
       "version_minor": 0
      },
      "text/plain": [
       "HBox(children=(FloatProgress(value=0.0, description='Training', layout=Layout(flex='2'), max=1250.0, style=Pro…"
      ]
     },
     "metadata": {},
     "output_type": "display_data"
    },
    {
     "name": "stdout",
     "output_type": "stream",
     "text": [
      "Epoch 96: train=12.6624, val=11.5757, took 24.776 s\n",
      "  Validation Found 46347 of 54504, added 1574 (eff 85.03%) (0.158 FP/event)\n"
     ]
    },
    {
     "data": {
      "application/vnd.jupyter.widget-view+json": {
       "model_id": "",
       "version_major": 2,
       "version_minor": 0
      },
      "text/plain": [
       "HBox(children=(FloatProgress(value=0.0, description='Training', layout=Layout(flex='2'), max=1250.0, style=Pro…"
      ]
     },
     "metadata": {},
     "output_type": "display_data"
    },
    {
     "name": "stdout",
     "output_type": "stream",
     "text": [
      "Epoch 97: train=12.6328, val=11.5322, took 24.707 s\n",
      "  Validation Found 46214 of 54504, added 1412 (eff 84.79%) (0.141 FP/event)\n"
     ]
    },
    {
     "data": {
      "application/vnd.jupyter.widget-view+json": {
       "model_id": "",
       "version_major": 2,
       "version_minor": 0
      },
      "text/plain": [
       "HBox(children=(FloatProgress(value=0.0, description='Training', layout=Layout(flex='2'), max=1250.0, style=Pro…"
      ]
     },
     "metadata": {},
     "output_type": "display_data"
    },
    {
     "name": "stdout",
     "output_type": "stream",
     "text": [
      "Epoch 98: train=12.6168, val=11.4267, took 24.976 s\n",
      "  Validation Found 46234 of 54504, added 1453 (eff 84.83%) (0.146 FP/event)\n"
     ]
    },
    {
     "data": {
      "application/vnd.jupyter.widget-view+json": {
       "model_id": "",
       "version_major": 2,
       "version_minor": 0
      },
      "text/plain": [
       "HBox(children=(FloatProgress(value=0.0, description='Training', layout=Layout(flex='2'), max=1250.0, style=Pro…"
      ]
     },
     "metadata": {},
     "output_type": "display_data"
    },
    {
     "name": "stdout",
     "output_type": "stream",
     "text": [
      "Epoch 99: train=12.5966, val=11.5104, took 24.702 s\n",
      "  Validation Found 46235 of 54504, added 1327 (eff 84.83%) (0.133 FP/event)\n"
     ]
    },
    {
     "data": {
      "application/vnd.jupyter.widget-view+json": {
       "model_id": "",
       "version_major": 2,
       "version_minor": 0
      },
      "text/plain": [
       "HBox(children=(FloatProgress(value=0.0, description='Training', layout=Layout(flex='2'), max=1250.0, style=Pro…"
      ]
     },
     "metadata": {},
     "output_type": "display_data"
    },
    {
     "name": "stdout",
     "output_type": "stream",
     "text": [
      "Epoch 100: train=12.5724, val=11.4983, took 24.765 s\n",
      "  Validation Found 46345 of 54504, added 1421 (eff 85.03%) (0.142 FP/event)\n"
     ]
    },
    {
     "data": {
      "application/vnd.jupyter.widget-view+json": {
       "model_id": "",
       "version_major": 2,
       "version_minor": 0
      },
      "text/plain": [
       "HBox(children=(FloatProgress(value=0.0, description='Training', layout=Layout(flex='2'), max=1250.0, style=Pro…"
      ]
     },
     "metadata": {},
     "output_type": "display_data"
    },
    {
     "name": "stdout",
     "output_type": "stream",
     "text": [
      "Epoch 101: train=12.5543, val=11.5499, took 24.952 s\n",
      "  Validation Found 46419 of 54504, added 1440 (eff 85.17%) (0.144 FP/event)\n"
     ]
    },
    {
     "data": {
      "application/vnd.jupyter.widget-view+json": {
       "model_id": "",
       "version_major": 2,
       "version_minor": 0
      },
      "text/plain": [
       "HBox(children=(FloatProgress(value=0.0, description='Training', layout=Layout(flex='2'), max=1250.0, style=Pro…"
      ]
     },
     "metadata": {},
     "output_type": "display_data"
    },
    {
     "name": "stdout",
     "output_type": "stream",
     "text": [
      "Epoch 102: train=12.5341, val=11.5047, took 24.618 s\n",
      "  Validation Found 46565 of 54504, added 1469 (eff 85.43%) (0.147 FP/event)\n"
     ]
    },
    {
     "data": {
      "application/vnd.jupyter.widget-view+json": {
       "model_id": "",
       "version_major": 2,
       "version_minor": 0
      },
      "text/plain": [
       "HBox(children=(FloatProgress(value=0.0, description='Training', layout=Layout(flex='2'), max=1250.0, style=Pro…"
      ]
     },
     "metadata": {},
     "output_type": "display_data"
    },
    {
     "name": "stdout",
     "output_type": "stream",
     "text": [
      "Epoch 103: train=12.5104, val=11.4543, took 24.795 s\n",
      "  Validation Found 46548 of 54504, added 1498 (eff 85.40%) (0.15 FP/event)\n"
     ]
    },
    {
     "data": {
      "application/vnd.jupyter.widget-view+json": {
       "model_id": "",
       "version_major": 2,
       "version_minor": 0
      },
      "text/plain": [
       "HBox(children=(FloatProgress(value=0.0, description='Training', layout=Layout(flex='2'), max=1250.0, style=Pro…"
      ]
     },
     "metadata": {},
     "output_type": "display_data"
    },
    {
     "name": "stdout",
     "output_type": "stream",
     "text": [
      "Epoch 104: train=12.4878, val=11.4482, took 24.946 s\n",
      "  Validation Found 46446 of 54504, added 1346 (eff 85.22%) (0.135 FP/event)\n"
     ]
    },
    {
     "data": {
      "application/vnd.jupyter.widget-view+json": {
       "model_id": "",
       "version_major": 2,
       "version_minor": 0
      },
      "text/plain": [
       "HBox(children=(FloatProgress(value=0.0, description='Training', layout=Layout(flex='2'), max=1250.0, style=Pro…"
      ]
     },
     "metadata": {},
     "output_type": "display_data"
    },
    {
     "name": "stdout",
     "output_type": "stream",
     "text": [
      "Epoch 105: train=12.4766, val=11.4311, took 24.627 s\n",
      "  Validation Found 46476 of 54504, added 1340 (eff 85.27%) (0.134 FP/event)\n"
     ]
    },
    {
     "data": {
      "application/vnd.jupyter.widget-view+json": {
       "model_id": "",
       "version_major": 2,
       "version_minor": 0
      },
      "text/plain": [
       "HBox(children=(FloatProgress(value=0.0, description='Training', layout=Layout(flex='2'), max=1250.0, style=Pro…"
      ]
     },
     "metadata": {},
     "output_type": "display_data"
    },
    {
     "name": "stdout",
     "output_type": "stream",
     "text": [
      "Epoch 106: train=12.4531, val=11.4572, took 24.803 s\n",
      "  Validation Found 46422 of 54504, added 1314 (eff 85.17%) (0.132 FP/event)\n"
     ]
    },
    {
     "data": {
      "application/vnd.jupyter.widget-view+json": {
       "model_id": "",
       "version_major": 2,
       "version_minor": 0
      },
      "text/plain": [
       "HBox(children=(FloatProgress(value=0.0, description='Training', layout=Layout(flex='2'), max=1250.0, style=Pro…"
      ]
     },
     "metadata": {},
     "output_type": "display_data"
    },
    {
     "name": "stdout",
     "output_type": "stream",
     "text": [
      "Epoch 107: train=12.4516, val=11.519, took 24.928 s\n",
      "  Validation Found 46509 of 54504, added 1342 (eff 85.33%) (0.134 FP/event)\n"
     ]
    },
    {
     "data": {
      "application/vnd.jupyter.widget-view+json": {
       "model_id": "",
       "version_major": 2,
       "version_minor": 0
      },
      "text/plain": [
       "HBox(children=(FloatProgress(value=0.0, description='Training', layout=Layout(flex='2'), max=1250.0, style=Pro…"
      ]
     },
     "metadata": {},
     "output_type": "display_data"
    },
    {
     "name": "stdout",
     "output_type": "stream",
     "text": [
      "Epoch 108: train=12.439, val=11.3935, took 24.592 s\n",
      "  Validation Found 46556 of 54504, added 1338 (eff 85.42%) (0.134 FP/event)\n"
     ]
    },
    {
     "data": {
      "application/vnd.jupyter.widget-view+json": {
       "model_id": "",
       "version_major": 2,
       "version_minor": 0
      },
      "text/plain": [
       "HBox(children=(FloatProgress(value=0.0, description='Training', layout=Layout(flex='2'), max=1250.0, style=Pro…"
      ]
     },
     "metadata": {},
     "output_type": "display_data"
    },
    {
     "name": "stdout",
     "output_type": "stream",
     "text": [
      "Epoch 109: train=12.4278, val=11.422, took 24.873 s\n",
      "  Validation Found 46662 of 54504, added 1424 (eff 85.61%) (0.143 FP/event)\n"
     ]
    },
    {
     "data": {
      "application/vnd.jupyter.widget-view+json": {
       "model_id": "",
       "version_major": 2,
       "version_minor": 0
      },
      "text/plain": [
       "HBox(children=(FloatProgress(value=0.0, description='Training', layout=Layout(flex='2'), max=1250.0, style=Pro…"
      ]
     },
     "metadata": {},
     "output_type": "display_data"
    },
    {
     "name": "stdout",
     "output_type": "stream",
     "text": [
      "Epoch 110: train=12.4098, val=11.3458, took 24.893 s\n",
      "  Validation Found 46642 of 54504, added 1413 (eff 85.58%) (0.142 FP/event)\n"
     ]
    },
    {
     "data": {
      "application/vnd.jupyter.widget-view+json": {
       "model_id": "",
       "version_major": 2,
       "version_minor": 0
      },
      "text/plain": [
       "HBox(children=(FloatProgress(value=0.0, description='Training', layout=Layout(flex='2'), max=1250.0, style=Pro…"
      ]
     },
     "metadata": {},
     "output_type": "display_data"
    },
    {
     "name": "stdout",
     "output_type": "stream",
     "text": [
      "Epoch 111: train=12.4068, val=11.2918, took 24.626 s\n",
      "  Validation Found 46785 of 54504, added 1523 (eff 85.84%) (0.153 FP/event)\n"
     ]
    },
    {
     "data": {
      "application/vnd.jupyter.widget-view+json": {
       "model_id": "",
       "version_major": 2,
       "version_minor": 0
      },
      "text/plain": [
       "HBox(children=(FloatProgress(value=0.0, description='Training', layout=Layout(flex='2'), max=1250.0, style=Pro…"
      ]
     },
     "metadata": {},
     "output_type": "display_data"
    },
    {
     "name": "stdout",
     "output_type": "stream",
     "text": [
      "Epoch 112: train=12.3766, val=11.2193, took 24.938 s\n",
      "  Validation Found 46683 of 54504, added 1404 (eff 85.65%) (0.141 FP/event)\n"
     ]
    },
    {
     "data": {
      "application/vnd.jupyter.widget-view+json": {
       "model_id": "",
       "version_major": 2,
       "version_minor": 0
      },
      "text/plain": [
       "HBox(children=(FloatProgress(value=0.0, description='Training', layout=Layout(flex='2'), max=1250.0, style=Pro…"
      ]
     },
     "metadata": {},
     "output_type": "display_data"
    },
    {
     "name": "stdout",
     "output_type": "stream",
     "text": [
      "Epoch 113: train=12.3516, val=11.3957, took 24.869 s\n",
      "  Validation Found 46858 of 54504, added 1452 (eff 85.97%) (0.145 FP/event)\n"
     ]
    },
    {
     "data": {
      "application/vnd.jupyter.widget-view+json": {
       "model_id": "",
       "version_major": 2,
       "version_minor": 0
      },
      "text/plain": [
       "HBox(children=(FloatProgress(value=0.0, description='Training', layout=Layout(flex='2'), max=1250.0, style=Pro…"
      ]
     },
     "metadata": {},
     "output_type": "display_data"
    },
    {
     "name": "stdout",
     "output_type": "stream",
     "text": [
      "Epoch 114: train=12.3273, val=11.1705, took 24.621 s\n",
      "  Validation Found 46771 of 54504, added 1443 (eff 85.81%) (0.145 FP/event)\n"
     ]
    },
    {
     "data": {
      "application/vnd.jupyter.widget-view+json": {
       "model_id": "",
       "version_major": 2,
       "version_minor": 0
      },
      "text/plain": [
       "HBox(children=(FloatProgress(value=0.0, description='Training', layout=Layout(flex='2'), max=1250.0, style=Pro…"
      ]
     },
     "metadata": {},
     "output_type": "display_data"
    },
    {
     "name": "stdout",
     "output_type": "stream",
     "text": [
      "Epoch 115: train=12.3233, val=11.1901, took 24.959 s\n",
      "  Validation Found 46830 of 54504, added 1489 (eff 85.92%) (0.149 FP/event)\n"
     ]
    },
    {
     "data": {
      "application/vnd.jupyter.widget-view+json": {
       "model_id": "",
       "version_major": 2,
       "version_minor": 0
      },
      "text/plain": [
       "HBox(children=(FloatProgress(value=0.0, description='Training', layout=Layout(flex='2'), max=1250.0, style=Pro…"
      ]
     },
     "metadata": {},
     "output_type": "display_data"
    },
    {
     "name": "stdout",
     "output_type": "stream",
     "text": [
      "Epoch 116: train=12.3095, val=11.1838, took 24.806 s\n",
      "  Validation Found 46677 of 54504, added 1350 (eff 85.64%) (0.135 FP/event)\n"
     ]
    },
    {
     "data": {
      "application/vnd.jupyter.widget-view+json": {
       "model_id": "",
       "version_major": 2,
       "version_minor": 0
      },
      "text/plain": [
       "HBox(children=(FloatProgress(value=0.0, description='Training', layout=Layout(flex='2'), max=1250.0, style=Pro…"
      ]
     },
     "metadata": {},
     "output_type": "display_data"
    },
    {
     "name": "stdout",
     "output_type": "stream",
     "text": [
      "Epoch 117: train=12.2932, val=11.2645, took 24.647 s\n",
      "  Validation Found 46748 of 54504, added 1294 (eff 85.77%) (0.13 FP/event)\n"
     ]
    },
    {
     "data": {
      "application/vnd.jupyter.widget-view+json": {
       "model_id": "",
       "version_major": 2,
       "version_minor": 0
      },
      "text/plain": [
       "HBox(children=(FloatProgress(value=0.0, description='Training', layout=Layout(flex='2'), max=1250.0, style=Pro…"
      ]
     },
     "metadata": {},
     "output_type": "display_data"
    },
    {
     "name": "stdout",
     "output_type": "stream",
     "text": [
      "Epoch 118: train=12.2812, val=11.2816, took 24.917 s\n",
      "  Validation Found 46931 of 54504, added 1349 (eff 86.11%) (0.135 FP/event)\n"
     ]
    },
    {
     "data": {
      "application/vnd.jupyter.widget-view+json": {
       "model_id": "",
       "version_major": 2,
       "version_minor": 0
      },
      "text/plain": [
       "HBox(children=(FloatProgress(value=0.0, description='Training', layout=Layout(flex='2'), max=1250.0, style=Pro…"
      ]
     },
     "metadata": {},
     "output_type": "display_data"
    },
    {
     "name": "stdout",
     "output_type": "stream",
     "text": [
      "Epoch 119: train=12.2702, val=11.1777, took 24.772 s\n",
      "  Validation Found 46834 of 54504, added 1340 (eff 85.93%) (0.134 FP/event)\n"
     ]
    },
    {
     "data": {
      "application/vnd.jupyter.widget-view+json": {
       "model_id": "",
       "version_major": 2,
       "version_minor": 0
      },
      "text/plain": [
       "HBox(children=(FloatProgress(value=0.0, description='Training', layout=Layout(flex='2'), max=1250.0, style=Pro…"
      ]
     },
     "metadata": {},
     "output_type": "display_data"
    },
    {
     "name": "stdout",
     "output_type": "stream",
     "text": [
      "Epoch 120: train=12.2647, val=11.2183, took 24.675 s\n",
      "  Validation Found 46965 of 54504, added 1454 (eff 86.17%) (0.146 FP/event)\n"
     ]
    },
    {
     "data": {
      "application/vnd.jupyter.widget-view+json": {
       "model_id": "",
       "version_major": 2,
       "version_minor": 0
      },
      "text/plain": [
       "HBox(children=(FloatProgress(value=0.0, description='Training', layout=Layout(flex='2'), max=1250.0, style=Pro…"
      ]
     },
     "metadata": {},
     "output_type": "display_data"
    },
    {
     "name": "stdout",
     "output_type": "stream",
     "text": [
      "Epoch 121: train=12.239, val=11.2839, took 24.947 s\n",
      "  Validation Found 46913 of 54504, added 1320 (eff 86.07%) (0.132 FP/event)\n"
     ]
    },
    {
     "data": {
      "application/vnd.jupyter.widget-view+json": {
       "model_id": "",
       "version_major": 2,
       "version_minor": 0
      },
      "text/plain": [
       "HBox(children=(FloatProgress(value=0.0, description='Training', layout=Layout(flex='2'), max=1250.0, style=Pro…"
      ]
     },
     "metadata": {},
     "output_type": "display_data"
    },
    {
     "name": "stdout",
     "output_type": "stream",
     "text": [
      "Epoch 122: train=12.2231, val=11.1635, took 24.714 s\n",
      "  Validation Found 46860 of 54504, added 1289 (eff 85.98%) (0.129 FP/event)\n"
     ]
    },
    {
     "data": {
      "application/vnd.jupyter.widget-view+json": {
       "model_id": "",
       "version_major": 2,
       "version_minor": 0
      },
      "text/plain": [
       "HBox(children=(FloatProgress(value=0.0, description='Training', layout=Layout(flex='2'), max=1250.0, style=Pro…"
      ]
     },
     "metadata": {},
     "output_type": "display_data"
    },
    {
     "name": "stdout",
     "output_type": "stream",
     "text": [
      "Epoch 123: train=12.1942, val=11.0897, took 24.762 s\n",
      "  Validation Found 46970 of 54504, added 1327 (eff 86.18%) (0.133 FP/event)\n"
     ]
    },
    {
     "data": {
      "application/vnd.jupyter.widget-view+json": {
       "model_id": "",
       "version_major": 2,
       "version_minor": 0
      },
      "text/plain": [
       "HBox(children=(FloatProgress(value=0.0, description='Training', layout=Layout(flex='2'), max=1250.0, style=Pro…"
      ]
     },
     "metadata": {},
     "output_type": "display_data"
    },
    {
     "name": "stdout",
     "output_type": "stream",
     "text": [
      "Epoch 124: train=12.1729, val=11.0924, took 24.977 s\n",
      "  Validation Found 46898 of 54504, added 1291 (eff 86.05%) (0.129 FP/event)\n"
     ]
    },
    {
     "data": {
      "application/vnd.jupyter.widget-view+json": {
       "model_id": "",
       "version_major": 2,
       "version_minor": 0
      },
      "text/plain": [
       "HBox(children=(FloatProgress(value=0.0, description='Training', layout=Layout(flex='2'), max=1250.0, style=Pro…"
      ]
     },
     "metadata": {},
     "output_type": "display_data"
    },
    {
     "name": "stdout",
     "output_type": "stream",
     "text": [
      "Epoch 125: train=12.1592, val=11.1129, took 24.695 s\n",
      "  Validation Found 46961 of 54504, added 1294 (eff 86.16%) (0.13 FP/event)\n"
     ]
    },
    {
     "data": {
      "application/vnd.jupyter.widget-view+json": {
       "model_id": "",
       "version_major": 2,
       "version_minor": 0
      },
      "text/plain": [
       "HBox(children=(FloatProgress(value=0.0, description='Training', layout=Layout(flex='2'), max=1250.0, style=Pro…"
      ]
     },
     "metadata": {},
     "output_type": "display_data"
    },
    {
     "name": "stdout",
     "output_type": "stream",
     "text": [
      "Epoch 126: train=12.1392, val=11.0803, took 24.976 s\n",
      "  Validation Found 46966 of 54504, added 1281 (eff 86.17%) (0.128 FP/event)\n"
     ]
    },
    {
     "data": {
      "application/vnd.jupyter.widget-view+json": {
       "model_id": "",
       "version_major": 2,
       "version_minor": 0
      },
      "text/plain": [
       "HBox(children=(FloatProgress(value=0.0, description='Training', layout=Layout(flex='2'), max=1250.0, style=Pro…"
      ]
     },
     "metadata": {},
     "output_type": "display_data"
    },
    {
     "name": "stdout",
     "output_type": "stream",
     "text": [
      "Epoch 127: train=12.1173, val=11.0568, took 25.168 s\n",
      "  Validation Found 47061 of 54504, added 1356 (eff 86.34%) (0.136 FP/event)\n"
     ]
    },
    {
     "data": {
      "application/vnd.jupyter.widget-view+json": {
       "model_id": "",
       "version_major": 2,
       "version_minor": 0
      },
      "text/plain": [
       "HBox(children=(FloatProgress(value=0.0, description='Training', layout=Layout(flex='2'), max=1250.0, style=Pro…"
      ]
     },
     "metadata": {},
     "output_type": "display_data"
    },
    {
     "name": "stdout",
     "output_type": "stream",
     "text": [
      "Epoch 128: train=12.1075, val=11.0371, took 24.857 s\n",
      "  Validation Found 47038 of 54504, added 1313 (eff 86.30%) (0.131 FP/event)\n"
     ]
    },
    {
     "data": {
      "application/vnd.jupyter.widget-view+json": {
       "model_id": "",
       "version_major": 2,
       "version_minor": 0
      },
      "text/plain": [
       "HBox(children=(FloatProgress(value=0.0, description='Training', layout=Layout(flex='2'), max=1250.0, style=Pro…"
      ]
     },
     "metadata": {},
     "output_type": "display_data"
    },
    {
     "name": "stdout",
     "output_type": "stream",
     "text": [
      "Epoch 129: train=12.1022, val=11.0355, took 25.026 s\n",
      "  Validation Found 47204 of 54504, added 1457 (eff 86.61%) (0.146 FP/event)\n"
     ]
    },
    {
     "data": {
      "application/vnd.jupyter.widget-view+json": {
       "model_id": "",
       "version_major": 2,
       "version_minor": 0
      },
      "text/plain": [
       "HBox(children=(FloatProgress(value=0.0, description='Training', layout=Layout(flex='2'), max=1250.0, style=Pro…"
      ]
     },
     "metadata": {},
     "output_type": "display_data"
    },
    {
     "name": "stdout",
     "output_type": "stream",
     "text": [
      "Epoch 130: train=12.0863, val=10.9599, took 25.165 s\n",
      "  Validation Found 47204 of 54504, added 1386 (eff 86.61%) (0.139 FP/event)\n"
     ]
    },
    {
     "data": {
      "application/vnd.jupyter.widget-view+json": {
       "model_id": "",
       "version_major": 2,
       "version_minor": 0
      },
      "text/plain": [
       "HBox(children=(FloatProgress(value=0.0, description='Training', layout=Layout(flex='2'), max=1250.0, style=Pro…"
      ]
     },
     "metadata": {},
     "output_type": "display_data"
    },
    {
     "name": "stdout",
     "output_type": "stream",
     "text": [
      "Epoch 131: train=12.0687, val=10.9971, took 24.832 s\n",
      "  Validation Found 47330 of 54504, added 1451 (eff 86.84%) (0.145 FP/event)\n"
     ]
    },
    {
     "data": {
      "application/vnd.jupyter.widget-view+json": {
       "model_id": "",
       "version_major": 2,
       "version_minor": 0
      },
      "text/plain": [
       "HBox(children=(FloatProgress(value=0.0, description='Training', layout=Layout(flex='2'), max=1250.0, style=Pro…"
      ]
     },
     "metadata": {},
     "output_type": "display_data"
    },
    {
     "name": "stdout",
     "output_type": "stream",
     "text": [
      "Epoch 132: train=12.0412, val=10.9231, took 24.801 s\n",
      "  Validation Found 47360 of 54504, added 1514 (eff 86.89%) (0.152 FP/event)\n"
     ]
    },
    {
     "data": {
      "application/vnd.jupyter.widget-view+json": {
       "model_id": "",
       "version_major": 2,
       "version_minor": 0
      },
      "text/plain": [
       "HBox(children=(FloatProgress(value=0.0, description='Training', layout=Layout(flex='2'), max=1250.0, style=Pro…"
      ]
     },
     "metadata": {},
     "output_type": "display_data"
    },
    {
     "name": "stdout",
     "output_type": "stream",
     "text": [
      "Epoch 133: train=12.0436, val=10.8962, took 24.903 s\n",
      "  Validation Found 47001 of 54504, added 1226 (eff 86.23%) (0.123 FP/event)\n"
     ]
    },
    {
     "data": {
      "application/vnd.jupyter.widget-view+json": {
       "model_id": "",
       "version_major": 2,
       "version_minor": 0
      },
      "text/plain": [
       "HBox(children=(FloatProgress(value=0.0, description='Training', layout=Layout(flex='2'), max=1250.0, style=Pro…"
      ]
     },
     "metadata": {},
     "output_type": "display_data"
    },
    {
     "name": "stdout",
     "output_type": "stream",
     "text": [
      "Epoch 134: train=12.0181, val=10.868, took 24.509 s\n",
      "  Validation Found 47297 of 54504, added 1444 (eff 86.78%) (0.145 FP/event)\n"
     ]
    },
    {
     "data": {
      "application/vnd.jupyter.widget-view+json": {
       "model_id": "",
       "version_major": 2,
       "version_minor": 0
      },
      "text/plain": [
       "HBox(children=(FloatProgress(value=0.0, description='Training', layout=Layout(flex='2'), max=1250.0, style=Pro…"
      ]
     },
     "metadata": {},
     "output_type": "display_data"
    },
    {
     "name": "stdout",
     "output_type": "stream",
     "text": [
      "Epoch 135: train=11.9999, val=10.9719, took 24.771 s\n",
      "  Validation Found 47616 of 54504, added 1741 (eff 87.36%) (0.174 FP/event)\n"
     ]
    },
    {
     "data": {
      "application/vnd.jupyter.widget-view+json": {
       "model_id": "",
       "version_major": 2,
       "version_minor": 0
      },
      "text/plain": [
       "HBox(children=(FloatProgress(value=0.0, description='Training', layout=Layout(flex='2'), max=1250.0, style=Pro…"
      ]
     },
     "metadata": {},
     "output_type": "display_data"
    },
    {
     "name": "stdout",
     "output_type": "stream",
     "text": [
      "Epoch 136: train=11.9869, val=10.8695, took 24.829 s\n",
      "  Validation Found 47532 of 54504, added 1564 (eff 87.21%) (0.157 FP/event)\n"
     ]
    },
    {
     "data": {
      "application/vnd.jupyter.widget-view+json": {
       "model_id": "",
       "version_major": 2,
       "version_minor": 0
      },
      "text/plain": [
       "HBox(children=(FloatProgress(value=0.0, description='Training', layout=Layout(flex='2'), max=1250.0, style=Pro…"
      ]
     },
     "metadata": {},
     "output_type": "display_data"
    },
    {
     "name": "stdout",
     "output_type": "stream",
     "text": [
      "Epoch 137: train=11.972, val=10.9386, took 24.804 s\n",
      "  Validation Found 47440 of 54504, added 1449 (eff 87.04%) (0.145 FP/event)\n"
     ]
    },
    {
     "data": {
      "application/vnd.jupyter.widget-view+json": {
       "model_id": "",
       "version_major": 2,
       "version_minor": 0
      },
      "text/plain": [
       "HBox(children=(FloatProgress(value=0.0, description='Training', layout=Layout(flex='2'), max=1250.0, style=Pro…"
      ]
     },
     "metadata": {},
     "output_type": "display_data"
    },
    {
     "name": "stdout",
     "output_type": "stream",
     "text": [
      "Epoch 138: train=11.9669, val=10.9087, took 24.917 s\n",
      "  Validation Found 47099 of 54504, added 1202 (eff 86.41%) (0.12 FP/event)\n"
     ]
    },
    {
     "data": {
      "application/vnd.jupyter.widget-view+json": {
       "model_id": "",
       "version_major": 2,
       "version_minor": 0
      },
      "text/plain": [
       "HBox(children=(FloatProgress(value=0.0, description='Training', layout=Layout(flex='2'), max=1250.0, style=Pro…"
      ]
     },
     "metadata": {},
     "output_type": "display_data"
    },
    {
     "name": "stdout",
     "output_type": "stream",
     "text": [
      "Epoch 139: train=11.9577, val=10.8832, took 24.817 s\n",
      "  Validation Found 47414 of 54504, added 1483 (eff 86.99%) (0.149 FP/event)\n"
     ]
    },
    {
     "data": {
      "application/vnd.jupyter.widget-view+json": {
       "model_id": "",
       "version_major": 2,
       "version_minor": 0
      },
      "text/plain": [
       "HBox(children=(FloatProgress(value=0.0, description='Training', layout=Layout(flex='2'), max=1250.0, style=Pro…"
      ]
     },
     "metadata": {},
     "output_type": "display_data"
    },
    {
     "name": "stdout",
     "output_type": "stream",
     "text": [
      "Epoch 140: train=11.9533, val=10.9167, took 24.626 s\n",
      "  Validation Found 47451 of 54504, added 1425 (eff 87.06%) (0.143 FP/event)\n"
     ]
    },
    {
     "data": {
      "application/vnd.jupyter.widget-view+json": {
       "model_id": "",
       "version_major": 2,
       "version_minor": 0
      },
      "text/plain": [
       "HBox(children=(FloatProgress(value=0.0, description='Training', layout=Layout(flex='2'), max=1250.0, style=Pro…"
      ]
     },
     "metadata": {},
     "output_type": "display_data"
    },
    {
     "name": "stdout",
     "output_type": "stream",
     "text": [
      "Epoch 141: train=11.9257, val=10.8254, took 24.935 s\n",
      "  Validation Found 47405 of 54504, added 1384 (eff 86.98%) (0.139 FP/event)\n"
     ]
    },
    {
     "data": {
      "application/vnd.jupyter.widget-view+json": {
       "model_id": "",
       "version_major": 2,
       "version_minor": 0
      },
      "text/plain": [
       "HBox(children=(FloatProgress(value=0.0, description='Training', layout=Layout(flex='2'), max=1250.0, style=Pro…"
      ]
     },
     "metadata": {},
     "output_type": "display_data"
    },
    {
     "name": "stdout",
     "output_type": "stream",
     "text": [
      "Epoch 142: train=11.9083, val=10.8832, took 24.823 s\n",
      "  Validation Found 47642 of 54504, added 1546 (eff 87.41%) (0.155 FP/event)\n"
     ]
    },
    {
     "data": {
      "application/vnd.jupyter.widget-view+json": {
       "model_id": "",
       "version_major": 2,
       "version_minor": 0
      },
      "text/plain": [
       "HBox(children=(FloatProgress(value=0.0, description='Training', layout=Layout(flex='2'), max=1250.0, style=Pro…"
      ]
     },
     "metadata": {},
     "output_type": "display_data"
    },
    {
     "name": "stdout",
     "output_type": "stream",
     "text": [
      "Epoch 143: train=11.905, val=10.8153, took 24.804 s\n",
      "  Validation Found 47335 of 54504, added 1301 (eff 86.85%) (0.13 FP/event)\n"
     ]
    },
    {
     "data": {
      "application/vnd.jupyter.widget-view+json": {
       "model_id": "",
       "version_major": 2,
       "version_minor": 0
      },
      "text/plain": [
       "HBox(children=(FloatProgress(value=0.0, description='Training', layout=Layout(flex='2'), max=1250.0, style=Pro…"
      ]
     },
     "metadata": {},
     "output_type": "display_data"
    },
    {
     "name": "stdout",
     "output_type": "stream",
     "text": [
      "Epoch 144: train=11.8909, val=10.9141, took 25.158 s\n",
      "  Validation Found 47284 of 54504, added 1238 (eff 86.75%) (0.124 FP/event)\n"
     ]
    },
    {
     "data": {
      "application/vnd.jupyter.widget-view+json": {
       "model_id": "",
       "version_major": 2,
       "version_minor": 0
      },
      "text/plain": [
       "HBox(children=(FloatProgress(value=0.0, description='Training', layout=Layout(flex='2'), max=1250.0, style=Pro…"
      ]
     },
     "metadata": {},
     "output_type": "display_data"
    },
    {
     "name": "stdout",
     "output_type": "stream",
     "text": [
      "Epoch 145: train=11.8776, val=10.8353, took 25.074 s\n",
      "  Validation Found 47533 of 54504, added 1447 (eff 87.21%) (0.145 FP/event)\n"
     ]
    },
    {
     "data": {
      "application/vnd.jupyter.widget-view+json": {
       "model_id": "",
       "version_major": 2,
       "version_minor": 0
      },
      "text/plain": [
       "HBox(children=(FloatProgress(value=0.0, description='Training', layout=Layout(flex='2'), max=1250.0, style=Pro…"
      ]
     },
     "metadata": {},
     "output_type": "display_data"
    },
    {
     "name": "stdout",
     "output_type": "stream",
     "text": [
      "Epoch 146: train=11.8777, val=10.7996, took 24.831 s\n",
      "  Validation Found 47607 of 54504, added 1504 (eff 87.35%) (0.151 FP/event)\n"
     ]
    },
    {
     "data": {
      "application/vnd.jupyter.widget-view+json": {
       "model_id": "",
       "version_major": 2,
       "version_minor": 0
      },
      "text/plain": [
       "HBox(children=(FloatProgress(value=0.0, description='Training', layout=Layout(flex='2'), max=1250.0, style=Pro…"
      ]
     },
     "metadata": {},
     "output_type": "display_data"
    },
    {
     "name": "stdout",
     "output_type": "stream",
     "text": [
      "Epoch 147: train=11.8653, val=10.8485, took 25.268 s\n",
      "  Validation Found 47328 of 54504, added 1256 (eff 86.83%) (0.126 FP/event)\n"
     ]
    },
    {
     "data": {
      "application/vnd.jupyter.widget-view+json": {
       "model_id": "",
       "version_major": 2,
       "version_minor": 0
      },
      "text/plain": [
       "HBox(children=(FloatProgress(value=0.0, description='Training', layout=Layout(flex='2'), max=1250.0, style=Pro…"
      ]
     },
     "metadata": {},
     "output_type": "display_data"
    },
    {
     "name": "stdout",
     "output_type": "stream",
     "text": [
      "Epoch 148: train=11.8333, val=10.811, took 25.062 s\n",
      "  Validation Found 47575 of 54504, added 1431 (eff 87.29%) (0.143 FP/event)\n"
     ]
    },
    {
     "data": {
      "application/vnd.jupyter.widget-view+json": {
       "model_id": "",
       "version_major": 2,
       "version_minor": 0
      },
      "text/plain": [
       "HBox(children=(FloatProgress(value=0.0, description='Training', layout=Layout(flex='2'), max=1250.0, style=Pro…"
      ]
     },
     "metadata": {},
     "output_type": "display_data"
    },
    {
     "name": "stdout",
     "output_type": "stream",
     "text": [
      "Epoch 149: train=11.8085, val=10.7923, took 24.855 s\n",
      "  Validation Found 47700 of 54504, added 1450 (eff 87.52%) (0.145 FP/event)\n"
     ]
    },
    {
     "data": {
      "application/vnd.jupyter.widget-view+json": {
       "model_id": "",
       "version_major": 2,
       "version_minor": 0
      },
      "text/plain": [
       "HBox(children=(FloatProgress(value=0.0, description='Training', layout=Layout(flex='2'), max=1250.0, style=Pro…"
      ]
     },
     "metadata": {},
     "output_type": "display_data"
    },
    {
     "name": "stdout",
     "output_type": "stream",
     "text": [
      "Epoch 150: train=11.7955, val=10.7225, took 25.163 s\n",
      "  Validation Found 47572 of 54504, added 1343 (eff 87.28%) (0.135 FP/event)\n"
     ]
    },
    {
     "data": {
      "application/vnd.jupyter.widget-view+json": {
       "model_id": "",
       "version_major": 2,
       "version_minor": 0
      },
      "text/plain": [
       "HBox(children=(FloatProgress(value=0.0, description='Training', layout=Layout(flex='2'), max=1250.0, style=Pro…"
      ]
     },
     "metadata": {},
     "output_type": "display_data"
    },
    {
     "name": "stdout",
     "output_type": "stream",
     "text": [
      "Epoch 151: train=11.7876, val=10.7046, took 25.036 s\n",
      "  Validation Found 47591 of 54504, added 1364 (eff 87.32%) (0.137 FP/event)\n"
     ]
    },
    {
     "data": {
      "application/vnd.jupyter.widget-view+json": {
       "model_id": "",
       "version_major": 2,
       "version_minor": 0
      },
      "text/plain": [
       "HBox(children=(FloatProgress(value=0.0, description='Training', layout=Layout(flex='2'), max=1250.0, style=Pro…"
      ]
     },
     "metadata": {},
     "output_type": "display_data"
    },
    {
     "name": "stdout",
     "output_type": "stream",
     "text": [
      "Epoch 152: train=11.7778, val=10.7446, took 24.682 s\n",
      "  Validation Found 47718 of 54504, added 1412 (eff 87.55%) (0.141 FP/event)\n"
     ]
    },
    {
     "data": {
      "application/vnd.jupyter.widget-view+json": {
       "model_id": "",
       "version_major": 2,
       "version_minor": 0
      },
      "text/plain": [
       "HBox(children=(FloatProgress(value=0.0, description='Training', layout=Layout(flex='2'), max=1250.0, style=Pro…"
      ]
     },
     "metadata": {},
     "output_type": "display_data"
    },
    {
     "name": "stdout",
     "output_type": "stream",
     "text": [
      "Epoch 153: train=11.7729, val=10.7468, took 25.109 s\n",
      "  Validation Found 47776 of 54504, added 1449 (eff 87.66%) (0.145 FP/event)\n"
     ]
    },
    {
     "data": {
      "application/vnd.jupyter.widget-view+json": {
       "model_id": "",
       "version_major": 2,
       "version_minor": 0
      },
      "text/plain": [
       "HBox(children=(FloatProgress(value=0.0, description='Training', layout=Layout(flex='2'), max=1250.0, style=Pro…"
      ]
     },
     "metadata": {},
     "output_type": "display_data"
    },
    {
     "name": "stdout",
     "output_type": "stream",
     "text": [
      "Epoch 154: train=11.7545, val=10.7324, took 24.751 s\n",
      "  Validation Found 47484 of 54504, added 1246 (eff 87.12%) (0.125 FP/event)\n"
     ]
    },
    {
     "data": {
      "application/vnd.jupyter.widget-view+json": {
       "model_id": "",
       "version_major": 2,
       "version_minor": 0
      },
      "text/plain": [
       "HBox(children=(FloatProgress(value=0.0, description='Training', layout=Layout(flex='2'), max=1250.0, style=Pro…"
      ]
     },
     "metadata": {},
     "output_type": "display_data"
    },
    {
     "name": "stdout",
     "output_type": "stream",
     "text": [
      "Epoch 155: train=11.7515, val=10.7442, took 24.717 s\n",
      "  Validation Found 47507 of 54504, added 1236 (eff 87.16%) (0.124 FP/event)\n"
     ]
    },
    {
     "data": {
      "application/vnd.jupyter.widget-view+json": {
       "model_id": "",
       "version_major": 2,
       "version_minor": 0
      },
      "text/plain": [
       "HBox(children=(FloatProgress(value=0.0, description='Training', layout=Layout(flex='2'), max=1250.0, style=Pro…"
      ]
     },
     "metadata": {},
     "output_type": "display_data"
    },
    {
     "name": "stdout",
     "output_type": "stream",
     "text": [
      "Epoch 156: train=11.7373, val=10.6545, took 24.948 s\n",
      "  Validation Found 47745 of 54504, added 1467 (eff 87.60%) (0.147 FP/event)\n"
     ]
    },
    {
     "data": {
      "application/vnd.jupyter.widget-view+json": {
       "model_id": "",
       "version_major": 2,
       "version_minor": 0
      },
      "text/plain": [
       "HBox(children=(FloatProgress(value=0.0, description='Training', layout=Layout(flex='2'), max=1250.0, style=Pro…"
      ]
     },
     "metadata": {},
     "output_type": "display_data"
    },
    {
     "name": "stdout",
     "output_type": "stream",
     "text": [
      "Epoch 157: train=11.7298, val=10.6703, took 24.682 s\n",
      "  Validation Found 47930 of 54504, added 1579 (eff 87.94%) (0.158 FP/event)\n"
     ]
    },
    {
     "data": {
      "application/vnd.jupyter.widget-view+json": {
       "model_id": "",
       "version_major": 2,
       "version_minor": 0
      },
      "text/plain": [
       "HBox(children=(FloatProgress(value=0.0, description='Training', layout=Layout(flex='2'), max=1250.0, style=Pro…"
      ]
     },
     "metadata": {},
     "output_type": "display_data"
    },
    {
     "name": "stdout",
     "output_type": "stream",
     "text": [
      "Epoch 158: train=11.7118, val=10.716, took 24.767 s\n",
      "  Validation Found 47738 of 54504, added 1359 (eff 87.59%) (0.136 FP/event)\n"
     ]
    },
    {
     "data": {
      "application/vnd.jupyter.widget-view+json": {
       "model_id": "",
       "version_major": 2,
       "version_minor": 0
      },
      "text/plain": [
       "HBox(children=(FloatProgress(value=0.0, description='Training', layout=Layout(flex='2'), max=1250.0, style=Pro…"
      ]
     },
     "metadata": {},
     "output_type": "display_data"
    },
    {
     "name": "stdout",
     "output_type": "stream",
     "text": [
      "Epoch 159: train=11.7095, val=10.7811, took 24.972 s\n",
      "  Validation Found 47450 of 54504, added 1179 (eff 87.06%) (0.118 FP/event)\n"
     ]
    },
    {
     "data": {
      "application/vnd.jupyter.widget-view+json": {
       "model_id": "",
       "version_major": 2,
       "version_minor": 0
      },
      "text/plain": [
       "HBox(children=(FloatProgress(value=0.0, description='Training', layout=Layout(flex='2'), max=1250.0, style=Pro…"
      ]
     },
     "metadata": {},
     "output_type": "display_data"
    },
    {
     "name": "stdout",
     "output_type": "stream",
     "text": [
      "Epoch 160: train=11.6933, val=10.6419, took 24.634 s\n",
      "  Validation Found 47432 of 54504, added 1185 (eff 87.02%) (0.119 FP/event)\n"
     ]
    },
    {
     "data": {
      "application/vnd.jupyter.widget-view+json": {
       "model_id": "",
       "version_major": 2,
       "version_minor": 0
      },
      "text/plain": [
       "HBox(children=(FloatProgress(value=0.0, description='Training', layout=Layout(flex='2'), max=1250.0, style=Pro…"
      ]
     },
     "metadata": {},
     "output_type": "display_data"
    },
    {
     "name": "stdout",
     "output_type": "stream",
     "text": [
      "Epoch 161: train=11.6874, val=10.7043, took 24.815 s\n",
      "  Validation Found 48048 of 54504, added 1600 (eff 88.15%) (0.16 FP/event)\n"
     ]
    },
    {
     "data": {
      "application/vnd.jupyter.widget-view+json": {
       "model_id": "",
       "version_major": 2,
       "version_minor": 0
      },
      "text/plain": [
       "HBox(children=(FloatProgress(value=0.0, description='Training', layout=Layout(flex='2'), max=1250.0, style=Pro…"
      ]
     },
     "metadata": {},
     "output_type": "display_data"
    },
    {
     "name": "stdout",
     "output_type": "stream",
     "text": [
      "Epoch 162: train=11.6636, val=10.6148, took 24.942 s\n",
      "  Validation Found 47876 of 54504, added 1437 (eff 87.84%) (0.144 FP/event)\n"
     ]
    },
    {
     "data": {
      "application/vnd.jupyter.widget-view+json": {
       "model_id": "",
       "version_major": 2,
       "version_minor": 0
      },
      "text/plain": [
       "HBox(children=(FloatProgress(value=0.0, description='Training', layout=Layout(flex='2'), max=1250.0, style=Pro…"
      ]
     },
     "metadata": {},
     "output_type": "display_data"
    },
    {
     "name": "stdout",
     "output_type": "stream",
     "text": [
      "Epoch 163: train=11.6589, val=10.6149, took 24.624 s\n",
      "  Validation Found 47984 of 54504, added 1482 (eff 88.04%) (0.148 FP/event)\n"
     ]
    },
    {
     "data": {
      "application/vnd.jupyter.widget-view+json": {
       "model_id": "",
       "version_major": 2,
       "version_minor": 0
      },
      "text/plain": [
       "HBox(children=(FloatProgress(value=0.0, description='Training', layout=Layout(flex='2'), max=1250.0, style=Pro…"
      ]
     },
     "metadata": {},
     "output_type": "display_data"
    },
    {
     "name": "stdout",
     "output_type": "stream",
     "text": [
      "Epoch 164: train=11.6372, val=10.6694, took 25.673 s\n",
      "  Validation Found 47647 of 54504, added 1228 (eff 87.42%) (0.123 FP/event)\n"
     ]
    },
    {
     "data": {
      "application/vnd.jupyter.widget-view+json": {
       "model_id": "",
       "version_major": 2,
       "version_minor": 0
      },
      "text/plain": [
       "HBox(children=(FloatProgress(value=0.0, description='Training', layout=Layout(flex='2'), max=1250.0, style=Pro…"
      ]
     },
     "metadata": {},
     "output_type": "display_data"
    },
    {
     "name": "stdout",
     "output_type": "stream",
     "text": [
      "Epoch 165: train=11.6338, val=10.5744, took 25.637 s\n",
      "  Validation Found 48158 of 54504, added 1653 (eff 88.36%) (0.166 FP/event)\n"
     ]
    },
    {
     "data": {
      "application/vnd.jupyter.widget-view+json": {
       "model_id": "",
       "version_major": 2,
       "version_minor": 0
      },
      "text/plain": [
       "HBox(children=(FloatProgress(value=0.0, description='Training', layout=Layout(flex='2'), max=1250.0, style=Pro…"
      ]
     },
     "metadata": {},
     "output_type": "display_data"
    },
    {
     "name": "stdout",
     "output_type": "stream",
     "text": [
      "Epoch 166: train=11.6212, val=10.6001, took 25.326 s\n",
      "  Validation Found 47895 of 54504, added 1368 (eff 87.87%) (0.137 FP/event)\n"
     ]
    },
    {
     "data": {
      "application/vnd.jupyter.widget-view+json": {
       "model_id": "",
       "version_major": 2,
       "version_minor": 0
      },
      "text/plain": [
       "HBox(children=(FloatProgress(value=0.0, description='Training', layout=Layout(flex='2'), max=1250.0, style=Pro…"
      ]
     },
     "metadata": {},
     "output_type": "display_data"
    },
    {
     "name": "stdout",
     "output_type": "stream",
     "text": [
      "Epoch 167: train=11.6163, val=10.5843, took 25.61 s\n",
      "  Validation Found 48038 of 54504, added 1492 (eff 88.14%) (0.149 FP/event)\n"
     ]
    },
    {
     "data": {
      "application/vnd.jupyter.widget-view+json": {
       "model_id": "",
       "version_major": 2,
       "version_minor": 0
      },
      "text/plain": [
       "HBox(children=(FloatProgress(value=0.0, description='Training', layout=Layout(flex='2'), max=1250.0, style=Pro…"
      ]
     },
     "metadata": {},
     "output_type": "display_data"
    },
    {
     "name": "stdout",
     "output_type": "stream",
     "text": [
      "Epoch 168: train=11.6087, val=10.6015, took 25.547 s\n",
      "  Validation Found 48024 of 54504, added 1456 (eff 88.11%) (0.146 FP/event)\n"
     ]
    },
    {
     "data": {
      "application/vnd.jupyter.widget-view+json": {
       "model_id": "",
       "version_major": 2,
       "version_minor": 0
      },
      "text/plain": [
       "HBox(children=(FloatProgress(value=0.0, description='Training', layout=Layout(flex='2'), max=1250.0, style=Pro…"
      ]
     },
     "metadata": {},
     "output_type": "display_data"
    },
    {
     "name": "stdout",
     "output_type": "stream",
     "text": [
      "Epoch 169: train=11.5951, val=10.6215, took 25.346 s\n",
      "  Validation Found 48121 of 54504, added 1554 (eff 88.29%) (0.156 FP/event)\n"
     ]
    },
    {
     "data": {
      "application/vnd.jupyter.widget-view+json": {
       "model_id": "",
       "version_major": 2,
       "version_minor": 0
      },
      "text/plain": [
       "HBox(children=(FloatProgress(value=0.0, description='Training', layout=Layout(flex='2'), max=1250.0, style=Pro…"
      ]
     },
     "metadata": {},
     "output_type": "display_data"
    },
    {
     "name": "stdout",
     "output_type": "stream",
     "text": [
      "Epoch 170: train=11.5873, val=10.5427, took 25.667 s\n",
      "  Validation Found 47799 of 54504, added 1289 (eff 87.70%) (0.129 FP/event)\n"
     ]
    },
    {
     "data": {
      "application/vnd.jupyter.widget-view+json": {
       "model_id": "",
       "version_major": 2,
       "version_minor": 0
      },
      "text/plain": [
       "HBox(children=(FloatProgress(value=0.0, description='Training', layout=Layout(flex='2'), max=1250.0, style=Pro…"
      ]
     },
     "metadata": {},
     "output_type": "display_data"
    },
    {
     "name": "stdout",
     "output_type": "stream",
     "text": [
      "Epoch 171: train=11.5942, val=10.5824, took 25.448 s\n",
      "  Validation Found 48145 of 54504, added 1559 (eff 88.33%) (0.156 FP/event)\n"
     ]
    },
    {
     "data": {
      "application/vnd.jupyter.widget-view+json": {
       "model_id": "",
       "version_major": 2,
       "version_minor": 0
      },
      "text/plain": [
       "HBox(children=(FloatProgress(value=0.0, description='Training', layout=Layout(flex='2'), max=1250.0, style=Pro…"
      ]
     },
     "metadata": {},
     "output_type": "display_data"
    },
    {
     "name": "stdout",
     "output_type": "stream",
     "text": [
      "Epoch 172: train=11.5782, val=10.5454, took 25.298 s\n",
      "  Validation Found 48232 of 54504, added 1630 (eff 88.49%) (0.163 FP/event)\n"
     ]
    },
    {
     "data": {
      "application/vnd.jupyter.widget-view+json": {
       "model_id": "",
       "version_major": 2,
       "version_minor": 0
      },
      "text/plain": [
       "HBox(children=(FloatProgress(value=0.0, description='Training', layout=Layout(flex='2'), max=1250.0, style=Pro…"
      ]
     },
     "metadata": {},
     "output_type": "display_data"
    },
    {
     "name": "stdout",
     "output_type": "stream",
     "text": [
      "Epoch 173: train=11.5678, val=10.6505, took 25.517 s\n",
      "  Validation Found 47608 of 54504, added 1155 (eff 87.35%) (0.116 FP/event)\n"
     ]
    },
    {
     "data": {
      "application/vnd.jupyter.widget-view+json": {
       "model_id": "",
       "version_major": 2,
       "version_minor": 0
      },
      "text/plain": [
       "HBox(children=(FloatProgress(value=0.0, description='Training', layout=Layout(flex='2'), max=1250.0, style=Pro…"
      ]
     },
     "metadata": {},
     "output_type": "display_data"
    },
    {
     "name": "stdout",
     "output_type": "stream",
     "text": [
      "Epoch 174: train=11.5483, val=10.5062, took 24.961 s\n",
      "  Validation Found 47937 of 54504, added 1398 (eff 87.95%) (0.14 FP/event)\n"
     ]
    },
    {
     "data": {
      "application/vnd.jupyter.widget-view+json": {
       "model_id": "",
       "version_major": 2,
       "version_minor": 0
      },
      "text/plain": [
       "HBox(children=(FloatProgress(value=0.0, description='Training', layout=Layout(flex='2'), max=1250.0, style=Pro…"
      ]
     },
     "metadata": {},
     "output_type": "display_data"
    },
    {
     "name": "stdout",
     "output_type": "stream",
     "text": [
      "Epoch 175: train=11.5568, val=10.5649, took 24.854 s\n",
      "  Validation Found 47864 of 54504, added 1297 (eff 87.82%) (0.13 FP/event)\n"
     ]
    },
    {
     "data": {
      "application/vnd.jupyter.widget-view+json": {
       "model_id": "",
       "version_major": 2,
       "version_minor": 0
      },
      "text/plain": [
       "HBox(children=(FloatProgress(value=0.0, description='Training', layout=Layout(flex='2'), max=1250.0, style=Pro…"
      ]
     },
     "metadata": {},
     "output_type": "display_data"
    },
    {
     "name": "stdout",
     "output_type": "stream",
     "text": [
      "Epoch 176: train=11.5473, val=10.55, took 24.974 s\n",
      "  Validation Found 48020 of 54504, added 1394 (eff 88.10%) (0.14 FP/event)\n"
     ]
    },
    {
     "data": {
      "application/vnd.jupyter.widget-view+json": {
       "model_id": "",
       "version_major": 2,
       "version_minor": 0
      },
      "text/plain": [
       "HBox(children=(FloatProgress(value=0.0, description='Training', layout=Layout(flex='2'), max=1250.0, style=Pro…"
      ]
     },
     "metadata": {},
     "output_type": "display_data"
    },
    {
     "name": "stdout",
     "output_type": "stream",
     "text": [
      "Epoch 177: train=11.5311, val=10.5232, took 24.647 s\n",
      "  Validation Found 47985 of 54504, added 1316 (eff 88.04%) (0.132 FP/event)\n"
     ]
    },
    {
     "data": {
      "application/vnd.jupyter.widget-view+json": {
       "model_id": "",
       "version_major": 2,
       "version_minor": 0
      },
      "text/plain": [
       "HBox(children=(FloatProgress(value=0.0, description='Training', layout=Layout(flex='2'), max=1250.0, style=Pro…"
      ]
     },
     "metadata": {},
     "output_type": "display_data"
    },
    {
     "name": "stdout",
     "output_type": "stream",
     "text": [
      "Epoch 178: train=11.5259, val=10.4958, took 24.868 s\n",
      "  Validation Found 48183 of 54504, added 1480 (eff 88.40%) (0.148 FP/event)\n"
     ]
    },
    {
     "data": {
      "application/vnd.jupyter.widget-view+json": {
       "model_id": "",
       "version_major": 2,
       "version_minor": 0
      },
      "text/plain": [
       "HBox(children=(FloatProgress(value=0.0, description='Training', layout=Layout(flex='2'), max=1250.0, style=Pro…"
      ]
     },
     "metadata": {},
     "output_type": "display_data"
    },
    {
     "name": "stdout",
     "output_type": "stream",
     "text": [
      "Epoch 179: train=11.5044, val=10.4583, took 24.963 s\n",
      "  Validation Found 48118 of 54504, added 1394 (eff 88.28%) (0.14 FP/event)\n"
     ]
    },
    {
     "data": {
      "application/vnd.jupyter.widget-view+json": {
       "model_id": "",
       "version_major": 2,
       "version_minor": 0
      },
      "text/plain": [
       "HBox(children=(FloatProgress(value=0.0, description='Training', layout=Layout(flex='2'), max=1250.0, style=Pro…"
      ]
     },
     "metadata": {},
     "output_type": "display_data"
    },
    {
     "name": "stdout",
     "output_type": "stream",
     "text": [
      "Epoch 180: train=11.4892, val=10.4381, took 25.445 s\n",
      "  Validation Found 48146 of 54504, added 1410 (eff 88.33%) (0.141 FP/event)\n"
     ]
    },
    {
     "data": {
      "application/vnd.jupyter.widget-view+json": {
       "model_id": "",
       "version_major": 2,
       "version_minor": 0
      },
      "text/plain": [
       "HBox(children=(FloatProgress(value=0.0, description='Training', layout=Layout(flex='2'), max=1250.0, style=Pro…"
      ]
     },
     "metadata": {},
     "output_type": "display_data"
    },
    {
     "name": "stdout",
     "output_type": "stream",
     "text": [
      "Epoch 181: train=11.4851, val=10.4466, took 25.629 s\n",
      "  Validation Found 47915 of 54504, added 1238 (eff 87.91%) (0.124 FP/event)\n"
     ]
    },
    {
     "data": {
      "application/vnd.jupyter.widget-view+json": {
       "model_id": "",
       "version_major": 2,
       "version_minor": 0
      },
      "text/plain": [
       "HBox(children=(FloatProgress(value=0.0, description='Training', layout=Layout(flex='2'), max=1250.0, style=Pro…"
      ]
     },
     "metadata": {},
     "output_type": "display_data"
    },
    {
     "name": "stdout",
     "output_type": "stream",
     "text": [
      "Epoch 182: train=11.481, val=10.4605, took 25.58 s\n",
      "  Validation Found 48299 of 54504, added 1545 (eff 88.62%) (0.155 FP/event)\n"
     ]
    },
    {
     "data": {
      "application/vnd.jupyter.widget-view+json": {
       "model_id": "",
       "version_major": 2,
       "version_minor": 0
      },
      "text/plain": [
       "HBox(children=(FloatProgress(value=0.0, description='Training', layout=Layout(flex='2'), max=1250.0, style=Pro…"
      ]
     },
     "metadata": {},
     "output_type": "display_data"
    },
    {
     "name": "stdout",
     "output_type": "stream",
     "text": [
      "Epoch 183: train=11.4755, val=10.4241, took 25.328 s\n",
      "  Validation Found 48006 of 54504, added 1289 (eff 88.08%) (0.129 FP/event)\n"
     ]
    },
    {
     "data": {
      "application/vnd.jupyter.widget-view+json": {
       "model_id": "",
       "version_major": 2,
       "version_minor": 0
      },
      "text/plain": [
       "HBox(children=(FloatProgress(value=0.0, description='Training', layout=Layout(flex='2'), max=1250.0, style=Pro…"
      ]
     },
     "metadata": {},
     "output_type": "display_data"
    },
    {
     "name": "stdout",
     "output_type": "stream",
     "text": [
      "Epoch 184: train=11.4563, val=10.4375, took 25.657 s\n",
      "  Validation Found 48129 of 54504, added 1376 (eff 88.30%) (0.138 FP/event)\n"
     ]
    },
    {
     "data": {
      "application/vnd.jupyter.widget-view+json": {
       "model_id": "",
       "version_major": 2,
       "version_minor": 0
      },
      "text/plain": [
       "HBox(children=(FloatProgress(value=0.0, description='Training', layout=Layout(flex='2'), max=1250.0, style=Pro…"
      ]
     },
     "metadata": {},
     "output_type": "display_data"
    },
    {
     "name": "stdout",
     "output_type": "stream",
     "text": [
      "Epoch 185: train=11.4534, val=10.4602, took 25.502 s\n",
      "  Validation Found 48284 of 54504, added 1536 (eff 88.59%) (0.154 FP/event)\n"
     ]
    },
    {
     "data": {
      "application/vnd.jupyter.widget-view+json": {
       "model_id": "",
       "version_major": 2,
       "version_minor": 0
      },
      "text/plain": [
       "HBox(children=(FloatProgress(value=0.0, description='Training', layout=Layout(flex='2'), max=1250.0, style=Pro…"
      ]
     },
     "metadata": {},
     "output_type": "display_data"
    },
    {
     "name": "stdout",
     "output_type": "stream",
     "text": [
      "Epoch 186: train=11.427, val=10.4533, took 25.434 s\n",
      "  Validation Found 47867 of 54504, added 1210 (eff 87.82%) (0.121 FP/event)\n"
     ]
    },
    {
     "data": {
      "application/vnd.jupyter.widget-view+json": {
       "model_id": "",
       "version_major": 2,
       "version_minor": 0
      },
      "text/plain": [
       "HBox(children=(FloatProgress(value=0.0, description='Training', layout=Layout(flex='2'), max=1250.0, style=Pro…"
      ]
     },
     "metadata": {},
     "output_type": "display_data"
    },
    {
     "name": "stdout",
     "output_type": "stream",
     "text": [
      "Epoch 187: train=11.4433, val=10.3982, took 25.653 s\n",
      "  Validation Found 48073 of 54504, added 1353 (eff 88.20%) (0.136 FP/event)\n"
     ]
    },
    {
     "data": {
      "application/vnd.jupyter.widget-view+json": {
       "model_id": "",
       "version_major": 2,
       "version_minor": 0
      },
      "text/plain": [
       "HBox(children=(FloatProgress(value=0.0, description='Training', layout=Layout(flex='2'), max=1250.0, style=Pro…"
      ]
     },
     "metadata": {},
     "output_type": "display_data"
    },
    {
     "name": "stdout",
     "output_type": "stream",
     "text": [
      "Epoch 188: train=11.4289, val=10.4365, took 25.37 s\n",
      "  Validation Found 48242 of 54504, added 1418 (eff 88.51%) (0.142 FP/event)\n"
     ]
    },
    {
     "data": {
      "application/vnd.jupyter.widget-view+json": {
       "model_id": "",
       "version_major": 2,
       "version_minor": 0
      },
      "text/plain": [
       "HBox(children=(FloatProgress(value=0.0, description='Training', layout=Layout(flex='2'), max=1250.0, style=Pro…"
      ]
     },
     "metadata": {},
     "output_type": "display_data"
    },
    {
     "name": "stdout",
     "output_type": "stream",
     "text": [
      "Epoch 189: train=11.4327, val=10.4441, took 25.514 s\n",
      "  Validation Found 48448 of 54504, added 1645 (eff 88.89%) (0.165 FP/event)\n"
     ]
    },
    {
     "data": {
      "application/vnd.jupyter.widget-view+json": {
       "model_id": "",
       "version_major": 2,
       "version_minor": 0
      },
      "text/plain": [
       "HBox(children=(FloatProgress(value=0.0, description='Training', layout=Layout(flex='2'), max=1250.0, style=Pro…"
      ]
     },
     "metadata": {},
     "output_type": "display_data"
    },
    {
     "name": "stdout",
     "output_type": "stream",
     "text": [
      "Epoch 190: train=11.4177, val=10.4206, took 25.674 s\n",
      "  Validation Found 48495 of 54504, added 1696 (eff 88.98%) (0.17 FP/event)\n"
     ]
    },
    {
     "data": {
      "application/vnd.jupyter.widget-view+json": {
       "model_id": "",
       "version_major": 2,
       "version_minor": 0
      },
      "text/plain": [
       "HBox(children=(FloatProgress(value=0.0, description='Training', layout=Layout(flex='2'), max=1250.0, style=Pro…"
      ]
     },
     "metadata": {},
     "output_type": "display_data"
    },
    {
     "name": "stdout",
     "output_type": "stream",
     "text": [
      "Epoch 191: train=11.4293, val=10.4365, took 25.322 s\n",
      "  Validation Found 48365 of 54504, added 1543 (eff 88.74%) (0.155 FP/event)\n"
     ]
    },
    {
     "data": {
      "application/vnd.jupyter.widget-view+json": {
       "model_id": "",
       "version_major": 2,
       "version_minor": 0
      },
      "text/plain": [
       "HBox(children=(FloatProgress(value=0.0, description='Training', layout=Layout(flex='2'), max=1250.0, style=Pro…"
      ]
     },
     "metadata": {},
     "output_type": "display_data"
    },
    {
     "name": "stdout",
     "output_type": "stream",
     "text": [
      "Epoch 192: train=11.4284, val=10.4764, took 25.582 s\n",
      "  Validation Found 48332 of 54504, added 1508 (eff 88.68%) (0.151 FP/event)\n"
     ]
    },
    {
     "data": {
      "application/vnd.jupyter.widget-view+json": {
       "model_id": "",
       "version_major": 2,
       "version_minor": 0
      },
      "text/plain": [
       "HBox(children=(FloatProgress(value=0.0, description='Training', layout=Layout(flex='2'), max=1250.0, style=Pro…"
      ]
     },
     "metadata": {},
     "output_type": "display_data"
    },
    {
     "name": "stdout",
     "output_type": "stream",
     "text": [
      "Epoch 193: train=11.4172, val=10.4188, took 25.607 s\n",
      "  Validation Found 48274 of 54504, added 1427 (eff 88.57%) (0.143 FP/event)\n"
     ]
    },
    {
     "data": {
      "application/vnd.jupyter.widget-view+json": {
       "model_id": "",
       "version_major": 2,
       "version_minor": 0
      },
      "text/plain": [
       "HBox(children=(FloatProgress(value=0.0, description='Training', layout=Layout(flex='2'), max=1250.0, style=Pro…"
      ]
     },
     "metadata": {},
     "output_type": "display_data"
    },
    {
     "name": "stdout",
     "output_type": "stream",
     "text": [
      "Epoch 194: train=11.4047, val=10.3677, took 25.334 s\n",
      "  Validation Found 48240 of 54504, added 1440 (eff 88.51%) (0.144 FP/event)\n"
     ]
    },
    {
     "data": {
      "application/vnd.jupyter.widget-view+json": {
       "model_id": "",
       "version_major": 2,
       "version_minor": 0
      },
      "text/plain": [
       "HBox(children=(FloatProgress(value=0.0, description='Training', layout=Layout(flex='2'), max=1250.0, style=Pro…"
      ]
     },
     "metadata": {},
     "output_type": "display_data"
    },
    {
     "name": "stdout",
     "output_type": "stream",
     "text": [
      "Epoch 195: train=11.391, val=10.4966, took 25.656 s\n",
      "  Validation Found 47984 of 54504, added 1235 (eff 88.04%) (0.124 FP/event)\n"
     ]
    },
    {
     "data": {
      "application/vnd.jupyter.widget-view+json": {
       "model_id": "",
       "version_major": 2,
       "version_minor": 0
      },
      "text/plain": [
       "HBox(children=(FloatProgress(value=0.0, description='Training', layout=Layout(flex='2'), max=1250.0, style=Pro…"
      ]
     },
     "metadata": {},
     "output_type": "display_data"
    },
    {
     "name": "stdout",
     "output_type": "stream",
     "text": [
      "Epoch 196: train=11.3743, val=10.3942, took 25.519 s\n",
      "  Validation Found 48308 of 54504, added 1432 (eff 88.63%) (0.143 FP/event)\n"
     ]
    },
    {
     "data": {
      "application/vnd.jupyter.widget-view+json": {
       "model_id": "",
       "version_major": 2,
       "version_minor": 0
      },
      "text/plain": [
       "HBox(children=(FloatProgress(value=0.0, description='Training', layout=Layout(flex='2'), max=1250.0, style=Pro…"
      ]
     },
     "metadata": {},
     "output_type": "display_data"
    },
    {
     "name": "stdout",
     "output_type": "stream",
     "text": [
      "Epoch 197: train=11.3651, val=10.3952, took 25.023 s\n",
      "  Validation Found 48161 of 54504, added 1295 (eff 88.36%) (0.13 FP/event)\n"
     ]
    },
    {
     "data": {
      "application/vnd.jupyter.widget-view+json": {
       "model_id": "",
       "version_major": 2,
       "version_minor": 0
      },
      "text/plain": [
       "HBox(children=(FloatProgress(value=0.0, description='Training', layout=Layout(flex='2'), max=1250.0, style=Pro…"
      ]
     },
     "metadata": {},
     "output_type": "display_data"
    },
    {
     "name": "stdout",
     "output_type": "stream",
     "text": [
      "Epoch 198: train=11.3625, val=10.3765, took 24.973 s\n",
      "  Validation Found 48276 of 54504, added 1452 (eff 88.57%) (0.145 FP/event)\n"
     ]
    },
    {
     "data": {
      "application/vnd.jupyter.widget-view+json": {
       "model_id": "",
       "version_major": 2,
       "version_minor": 0
      },
      "text/plain": [
       "HBox(children=(FloatProgress(value=0.0, description='Training', layout=Layout(flex='2'), max=1250.0, style=Pro…"
      ]
     },
     "metadata": {},
     "output_type": "display_data"
    },
    {
     "name": "stdout",
     "output_type": "stream",
     "text": [
      "Epoch 199: train=11.3465, val=10.4478, took 24.792 s\n",
      "  Validation Found 48133 of 54504, added 1339 (eff 88.31%) (0.134 FP/event)\n",
      "\n"
     ]
    }
   ],
   "source": [
    "for result in trainNet(model, optimizer, loss,\n",
    "                        train_loader, val_loader,\n",
    "                        n_epochs, epoch_start=len(results),\n",
    "                        notebook=True):\n",
    "    \n",
    "    results = results.append(pd.Series(result._asdict()), ignore_index=True)\n",
    "    \n",
    "    xs = results.index\n",
    "    \n",
    "    # Update the plot above\n",
    "    lines['train'].set_data(results.index,results.cost)\n",
    "    lines['val'].set_data(results.index,results.val)\n",
    "    \n",
    "    #filter first cost epoch (can be really large)\n",
    "    max_cost = max(max(results.cost if len(results.cost)<2 else results.cost[1:]), max(results.val))\n",
    "    min_cost = min(min(results.cost), min(results.val))\n",
    "    \n",
    "    # The plot limits need updating too\n",
    "    \n",
    "    \n",
    "    \n",
    "    ax.set_ylim(min_cost*.9, max_cost*1.1)  \n",
    "    ax.set_xlim(-.5, len(results.cost) - .5)\n",
    "    \n",
    "    replace_in_ax(lax, lines['eff'], xs, results['eff_val'].apply(lambda x: x.eff_rate))\n",
    "    replace_in_ax(tax, lines['fp'], xs, results['eff_val'].apply(lambda x: x.fp_rate))\n",
    "    \n",
    "    # Redraw the figure\n",
    "    fig.canvas.draw()\n",
    "\n",
    "    # Save each model state dictionary\n",
    "    torch.save(model.state_dict(), output / f'{name}_{result.epoch}.pyt')"
   ]
  },
  {
   "cell_type": "markdown",
   "metadata": {},
   "source": [
    "# Results\n",
    "\n",
    "Let's save some results: (even though if you have not changed the code above, it saves the model every epoch)"
   ]
  },
  {
   "cell_type": "markdown",
   "metadata": {},
   "source": [
    "Go ahead and save the final model (even though it was also saved above):"
   ]
  },
  {
   "cell_type": "code",
   "execution_count": 17,
   "metadata": {},
   "outputs": [],
   "source": [
    "torch.save(model.state_dict(), output / f'{name}_final.pyt')"
   ]
  },
  {
   "cell_type": "markdown",
   "metadata": {},
   "source": [
    "Save the output results:"
   ]
  },
  {
   "cell_type": "code",
   "execution_count": 18,
   "metadata": {},
   "outputs": [
    {
     "name": "stderr",
     "output_type": "stream",
     "text": [
      "/data/conda/envs/goofit/lib/python3.7/site-packages/pandas/core/generic.py:2505: PerformanceWarning: \n",
      "your performance may suffer as PyTables will pickle object types that it cannot\n",
      "map directly to c-types [inferred_type->mixed-integer,key->block1_values] [items->Index(['epoch', 'eff_val'], dtype='object')]\n",
      "\n",
      "  encoding=encoding,\n"
     ]
    }
   ],
   "source": [
    "results.to_hdf(f'{name}_stats.hdf5', 'results')"
   ]
  },
  {
   "cell_type": "markdown",
   "metadata": {},
   "source": [
    "Save the plot above:"
   ]
  },
  {
   "cell_type": "code",
   "execution_count": 19,
   "metadata": {
    "scrolled": false
   },
   "outputs": [
    {
     "data": {
      "application/javascript": [
       "/* Put everything inside the global mpl namespace */\n",
       "window.mpl = {};\n",
       "\n",
       "\n",
       "mpl.get_websocket_type = function() {\n",
       "    if (typeof(WebSocket) !== 'undefined') {\n",
       "        return WebSocket;\n",
       "    } else if (typeof(MozWebSocket) !== 'undefined') {\n",
       "        return MozWebSocket;\n",
       "    } else {\n",
       "        alert('Your browser does not have WebSocket support. ' +\n",
       "              'Please try Chrome, Safari or Firefox ≥ 6. ' +\n",
       "              'Firefox 4 and 5 are also supported but you ' +\n",
       "              'have to enable WebSockets in about:config.');\n",
       "    };\n",
       "}\n",
       "\n",
       "mpl.figure = function(figure_id, websocket, ondownload, parent_element) {\n",
       "    this.id = figure_id;\n",
       "\n",
       "    this.ws = websocket;\n",
       "\n",
       "    this.supports_binary = (this.ws.binaryType != undefined);\n",
       "\n",
       "    if (!this.supports_binary) {\n",
       "        var warnings = document.getElementById(\"mpl-warnings\");\n",
       "        if (warnings) {\n",
       "            warnings.style.display = 'block';\n",
       "            warnings.textContent = (\n",
       "                \"This browser does not support binary websocket messages. \" +\n",
       "                    \"Performance may be slow.\");\n",
       "        }\n",
       "    }\n",
       "\n",
       "    this.imageObj = new Image();\n",
       "\n",
       "    this.context = undefined;\n",
       "    this.message = undefined;\n",
       "    this.canvas = undefined;\n",
       "    this.rubberband_canvas = undefined;\n",
       "    this.rubberband_context = undefined;\n",
       "    this.format_dropdown = undefined;\n",
       "\n",
       "    this.image_mode = 'full';\n",
       "\n",
       "    this.root = $('<div/>');\n",
       "    this._root_extra_style(this.root)\n",
       "    this.root.attr('style', 'display: inline-block');\n",
       "\n",
       "    $(parent_element).append(this.root);\n",
       "\n",
       "    this._init_header(this);\n",
       "    this._init_canvas(this);\n",
       "    this._init_toolbar(this);\n",
       "\n",
       "    var fig = this;\n",
       "\n",
       "    this.waiting = false;\n",
       "\n",
       "    this.ws.onopen =  function () {\n",
       "            fig.send_message(\"supports_binary\", {value: fig.supports_binary});\n",
       "            fig.send_message(\"send_image_mode\", {});\n",
       "            if (mpl.ratio != 1) {\n",
       "                fig.send_message(\"set_dpi_ratio\", {'dpi_ratio': mpl.ratio});\n",
       "            }\n",
       "            fig.send_message(\"refresh\", {});\n",
       "        }\n",
       "\n",
       "    this.imageObj.onload = function() {\n",
       "            if (fig.image_mode == 'full') {\n",
       "                // Full images could contain transparency (where diff images\n",
       "                // almost always do), so we need to clear the canvas so that\n",
       "                // there is no ghosting.\n",
       "                fig.context.clearRect(0, 0, fig.canvas.width, fig.canvas.height);\n",
       "            }\n",
       "            fig.context.drawImage(fig.imageObj, 0, 0);\n",
       "        };\n",
       "\n",
       "    this.imageObj.onunload = function() {\n",
       "        fig.ws.close();\n",
       "    }\n",
       "\n",
       "    this.ws.onmessage = this._make_on_message_function(this);\n",
       "\n",
       "    this.ondownload = ondownload;\n",
       "}\n",
       "\n",
       "mpl.figure.prototype._init_header = function() {\n",
       "    var titlebar = $(\n",
       "        '<div class=\"ui-dialog-titlebar ui-widget-header ui-corner-all ' +\n",
       "        'ui-helper-clearfix\"/>');\n",
       "    var titletext = $(\n",
       "        '<div class=\"ui-dialog-title\" style=\"width: 100%; ' +\n",
       "        'text-align: center; padding: 3px;\"/>');\n",
       "    titlebar.append(titletext)\n",
       "    this.root.append(titlebar);\n",
       "    this.header = titletext[0];\n",
       "}\n",
       "\n",
       "\n",
       "\n",
       "mpl.figure.prototype._canvas_extra_style = function(canvas_div) {\n",
       "\n",
       "}\n",
       "\n",
       "\n",
       "mpl.figure.prototype._root_extra_style = function(canvas_div) {\n",
       "\n",
       "}\n",
       "\n",
       "mpl.figure.prototype._init_canvas = function() {\n",
       "    var fig = this;\n",
       "\n",
       "    var canvas_div = $('<div/>');\n",
       "\n",
       "    canvas_div.attr('style', 'position: relative; clear: both; outline: 0');\n",
       "\n",
       "    function canvas_keyboard_event(event) {\n",
       "        return fig.key_event(event, event['data']);\n",
       "    }\n",
       "\n",
       "    canvas_div.keydown('key_press', canvas_keyboard_event);\n",
       "    canvas_div.keyup('key_release', canvas_keyboard_event);\n",
       "    this.canvas_div = canvas_div\n",
       "    this._canvas_extra_style(canvas_div)\n",
       "    this.root.append(canvas_div);\n",
       "\n",
       "    var canvas = $('<canvas/>');\n",
       "    canvas.addClass('mpl-canvas');\n",
       "    canvas.attr('style', \"left: 0; top: 0; z-index: 0; outline: 0\")\n",
       "\n",
       "    this.canvas = canvas[0];\n",
       "    this.context = canvas[0].getContext(\"2d\");\n",
       "\n",
       "    var backingStore = this.context.backingStorePixelRatio ||\n",
       "\tthis.context.webkitBackingStorePixelRatio ||\n",
       "\tthis.context.mozBackingStorePixelRatio ||\n",
       "\tthis.context.msBackingStorePixelRatio ||\n",
       "\tthis.context.oBackingStorePixelRatio ||\n",
       "\tthis.context.backingStorePixelRatio || 1;\n",
       "\n",
       "    mpl.ratio = (window.devicePixelRatio || 1) / backingStore;\n",
       "\n",
       "    var rubberband = $('<canvas/>');\n",
       "    rubberband.attr('style', \"position: absolute; left: 0; top: 0; z-index: 1;\")\n",
       "\n",
       "    var pass_mouse_events = true;\n",
       "\n",
       "    canvas_div.resizable({\n",
       "        start: function(event, ui) {\n",
       "            pass_mouse_events = false;\n",
       "        },\n",
       "        resize: function(event, ui) {\n",
       "            fig.request_resize(ui.size.width, ui.size.height);\n",
       "        },\n",
       "        stop: function(event, ui) {\n",
       "            pass_mouse_events = true;\n",
       "            fig.request_resize(ui.size.width, ui.size.height);\n",
       "        },\n",
       "    });\n",
       "\n",
       "    function mouse_event_fn(event) {\n",
       "        if (pass_mouse_events)\n",
       "            return fig.mouse_event(event, event['data']);\n",
       "    }\n",
       "\n",
       "    rubberband.mousedown('button_press', mouse_event_fn);\n",
       "    rubberband.mouseup('button_release', mouse_event_fn);\n",
       "    // Throttle sequential mouse events to 1 every 20ms.\n",
       "    rubberband.mousemove('motion_notify', mouse_event_fn);\n",
       "\n",
       "    rubberband.mouseenter('figure_enter', mouse_event_fn);\n",
       "    rubberband.mouseleave('figure_leave', mouse_event_fn);\n",
       "\n",
       "    canvas_div.on(\"wheel\", function (event) {\n",
       "        event = event.originalEvent;\n",
       "        event['data'] = 'scroll'\n",
       "        if (event.deltaY < 0) {\n",
       "            event.step = 1;\n",
       "        } else {\n",
       "            event.step = -1;\n",
       "        }\n",
       "        mouse_event_fn(event);\n",
       "    });\n",
       "\n",
       "    canvas_div.append(canvas);\n",
       "    canvas_div.append(rubberband);\n",
       "\n",
       "    this.rubberband = rubberband;\n",
       "    this.rubberband_canvas = rubberband[0];\n",
       "    this.rubberband_context = rubberband[0].getContext(\"2d\");\n",
       "    this.rubberband_context.strokeStyle = \"#000000\";\n",
       "\n",
       "    this._resize_canvas = function(width, height) {\n",
       "        // Keep the size of the canvas, canvas container, and rubber band\n",
       "        // canvas in synch.\n",
       "        canvas_div.css('width', width)\n",
       "        canvas_div.css('height', height)\n",
       "\n",
       "        canvas.attr('width', width * mpl.ratio);\n",
       "        canvas.attr('height', height * mpl.ratio);\n",
       "        canvas.attr('style', 'width: ' + width + 'px; height: ' + height + 'px;');\n",
       "\n",
       "        rubberband.attr('width', width);\n",
       "        rubberband.attr('height', height);\n",
       "    }\n",
       "\n",
       "    // Set the figure to an initial 600x600px, this will subsequently be updated\n",
       "    // upon first draw.\n",
       "    this._resize_canvas(600, 600);\n",
       "\n",
       "    // Disable right mouse context menu.\n",
       "    $(this.rubberband_canvas).bind(\"contextmenu\",function(e){\n",
       "        return false;\n",
       "    });\n",
       "\n",
       "    function set_focus () {\n",
       "        canvas.focus();\n",
       "        canvas_div.focus();\n",
       "    }\n",
       "\n",
       "    window.setTimeout(set_focus, 100);\n",
       "}\n",
       "\n",
       "mpl.figure.prototype._init_toolbar = function() {\n",
       "    var fig = this;\n",
       "\n",
       "    var nav_element = $('<div/>');\n",
       "    nav_element.attr('style', 'width: 100%');\n",
       "    this.root.append(nav_element);\n",
       "\n",
       "    // Define a callback function for later on.\n",
       "    function toolbar_event(event) {\n",
       "        return fig.toolbar_button_onclick(event['data']);\n",
       "    }\n",
       "    function toolbar_mouse_event(event) {\n",
       "        return fig.toolbar_button_onmouseover(event['data']);\n",
       "    }\n",
       "\n",
       "    for(var toolbar_ind in mpl.toolbar_items) {\n",
       "        var name = mpl.toolbar_items[toolbar_ind][0];\n",
       "        var tooltip = mpl.toolbar_items[toolbar_ind][1];\n",
       "        var image = mpl.toolbar_items[toolbar_ind][2];\n",
       "        var method_name = mpl.toolbar_items[toolbar_ind][3];\n",
       "\n",
       "        if (!name) {\n",
       "            // put a spacer in here.\n",
       "            continue;\n",
       "        }\n",
       "        var button = $('<button/>');\n",
       "        button.addClass('ui-button ui-widget ui-state-default ui-corner-all ' +\n",
       "                        'ui-button-icon-only');\n",
       "        button.attr('role', 'button');\n",
       "        button.attr('aria-disabled', 'false');\n",
       "        button.click(method_name, toolbar_event);\n",
       "        button.mouseover(tooltip, toolbar_mouse_event);\n",
       "\n",
       "        var icon_img = $('<span/>');\n",
       "        icon_img.addClass('ui-button-icon-primary ui-icon');\n",
       "        icon_img.addClass(image);\n",
       "        icon_img.addClass('ui-corner-all');\n",
       "\n",
       "        var tooltip_span = $('<span/>');\n",
       "        tooltip_span.addClass('ui-button-text');\n",
       "        tooltip_span.html(tooltip);\n",
       "\n",
       "        button.append(icon_img);\n",
       "        button.append(tooltip_span);\n",
       "\n",
       "        nav_element.append(button);\n",
       "    }\n",
       "\n",
       "    var fmt_picker_span = $('<span/>');\n",
       "\n",
       "    var fmt_picker = $('<select/>');\n",
       "    fmt_picker.addClass('mpl-toolbar-option ui-widget ui-widget-content');\n",
       "    fmt_picker_span.append(fmt_picker);\n",
       "    nav_element.append(fmt_picker_span);\n",
       "    this.format_dropdown = fmt_picker[0];\n",
       "\n",
       "    for (var ind in mpl.extensions) {\n",
       "        var fmt = mpl.extensions[ind];\n",
       "        var option = $(\n",
       "            '<option/>', {selected: fmt === mpl.default_extension}).html(fmt);\n",
       "        fmt_picker.append(option);\n",
       "    }\n",
       "\n",
       "    // Add hover states to the ui-buttons\n",
       "    $( \".ui-button\" ).hover(\n",
       "        function() { $(this).addClass(\"ui-state-hover\");},\n",
       "        function() { $(this).removeClass(\"ui-state-hover\");}\n",
       "    );\n",
       "\n",
       "    var status_bar = $('<span class=\"mpl-message\"/>');\n",
       "    nav_element.append(status_bar);\n",
       "    this.message = status_bar[0];\n",
       "}\n",
       "\n",
       "mpl.figure.prototype.request_resize = function(x_pixels, y_pixels) {\n",
       "    // Request matplotlib to resize the figure. Matplotlib will then trigger a resize in the client,\n",
       "    // which will in turn request a refresh of the image.\n",
       "    this.send_message('resize', {'width': x_pixels, 'height': y_pixels});\n",
       "}\n",
       "\n",
       "mpl.figure.prototype.send_message = function(type, properties) {\n",
       "    properties['type'] = type;\n",
       "    properties['figure_id'] = this.id;\n",
       "    this.ws.send(JSON.stringify(properties));\n",
       "}\n",
       "\n",
       "mpl.figure.prototype.send_draw_message = function() {\n",
       "    if (!this.waiting) {\n",
       "        this.waiting = true;\n",
       "        this.ws.send(JSON.stringify({type: \"draw\", figure_id: this.id}));\n",
       "    }\n",
       "}\n",
       "\n",
       "\n",
       "mpl.figure.prototype.handle_save = function(fig, msg) {\n",
       "    var format_dropdown = fig.format_dropdown;\n",
       "    var format = format_dropdown.options[format_dropdown.selectedIndex].value;\n",
       "    fig.ondownload(fig, format);\n",
       "}\n",
       "\n",
       "\n",
       "mpl.figure.prototype.handle_resize = function(fig, msg) {\n",
       "    var size = msg['size'];\n",
       "    if (size[0] != fig.canvas.width || size[1] != fig.canvas.height) {\n",
       "        fig._resize_canvas(size[0], size[1]);\n",
       "        fig.send_message(\"refresh\", {});\n",
       "    };\n",
       "}\n",
       "\n",
       "mpl.figure.prototype.handle_rubberband = function(fig, msg) {\n",
       "    var x0 = msg['x0'] / mpl.ratio;\n",
       "    var y0 = (fig.canvas.height - msg['y0']) / mpl.ratio;\n",
       "    var x1 = msg['x1'] / mpl.ratio;\n",
       "    var y1 = (fig.canvas.height - msg['y1']) / mpl.ratio;\n",
       "    x0 = Math.floor(x0) + 0.5;\n",
       "    y0 = Math.floor(y0) + 0.5;\n",
       "    x1 = Math.floor(x1) + 0.5;\n",
       "    y1 = Math.floor(y1) + 0.5;\n",
       "    var min_x = Math.min(x0, x1);\n",
       "    var min_y = Math.min(y0, y1);\n",
       "    var width = Math.abs(x1 - x0);\n",
       "    var height = Math.abs(y1 - y0);\n",
       "\n",
       "    fig.rubberband_context.clearRect(\n",
       "        0, 0, fig.canvas.width / mpl.ratio, fig.canvas.height / mpl.ratio);\n",
       "\n",
       "    fig.rubberband_context.strokeRect(min_x, min_y, width, height);\n",
       "}\n",
       "\n",
       "mpl.figure.prototype.handle_figure_label = function(fig, msg) {\n",
       "    // Updates the figure title.\n",
       "    fig.header.textContent = msg['label'];\n",
       "}\n",
       "\n",
       "mpl.figure.prototype.handle_cursor = function(fig, msg) {\n",
       "    var cursor = msg['cursor'];\n",
       "    switch(cursor)\n",
       "    {\n",
       "    case 0:\n",
       "        cursor = 'pointer';\n",
       "        break;\n",
       "    case 1:\n",
       "        cursor = 'default';\n",
       "        break;\n",
       "    case 2:\n",
       "        cursor = 'crosshair';\n",
       "        break;\n",
       "    case 3:\n",
       "        cursor = 'move';\n",
       "        break;\n",
       "    }\n",
       "    fig.rubberband_canvas.style.cursor = cursor;\n",
       "}\n",
       "\n",
       "mpl.figure.prototype.handle_message = function(fig, msg) {\n",
       "    fig.message.textContent = msg['message'];\n",
       "}\n",
       "\n",
       "mpl.figure.prototype.handle_draw = function(fig, msg) {\n",
       "    // Request the server to send over a new figure.\n",
       "    fig.send_draw_message();\n",
       "}\n",
       "\n",
       "mpl.figure.prototype.handle_image_mode = function(fig, msg) {\n",
       "    fig.image_mode = msg['mode'];\n",
       "}\n",
       "\n",
       "mpl.figure.prototype.updated_canvas_event = function() {\n",
       "    // Called whenever the canvas gets updated.\n",
       "    this.send_message(\"ack\", {});\n",
       "}\n",
       "\n",
       "// A function to construct a web socket function for onmessage handling.\n",
       "// Called in the figure constructor.\n",
       "mpl.figure.prototype._make_on_message_function = function(fig) {\n",
       "    return function socket_on_message(evt) {\n",
       "        if (evt.data instanceof Blob) {\n",
       "            /* FIXME: We get \"Resource interpreted as Image but\n",
       "             * transferred with MIME type text/plain:\" errors on\n",
       "             * Chrome.  But how to set the MIME type?  It doesn't seem\n",
       "             * to be part of the websocket stream */\n",
       "            evt.data.type = \"image/png\";\n",
       "\n",
       "            /* Free the memory for the previous frames */\n",
       "            if (fig.imageObj.src) {\n",
       "                (window.URL || window.webkitURL).revokeObjectURL(\n",
       "                    fig.imageObj.src);\n",
       "            }\n",
       "\n",
       "            fig.imageObj.src = (window.URL || window.webkitURL).createObjectURL(\n",
       "                evt.data);\n",
       "            fig.updated_canvas_event();\n",
       "            fig.waiting = false;\n",
       "            return;\n",
       "        }\n",
       "        else if (typeof evt.data === 'string' && evt.data.slice(0, 21) == \"data:image/png;base64\") {\n",
       "            fig.imageObj.src = evt.data;\n",
       "            fig.updated_canvas_event();\n",
       "            fig.waiting = false;\n",
       "            return;\n",
       "        }\n",
       "\n",
       "        var msg = JSON.parse(evt.data);\n",
       "        var msg_type = msg['type'];\n",
       "\n",
       "        // Call the  \"handle_{type}\" callback, which takes\n",
       "        // the figure and JSON message as its only arguments.\n",
       "        try {\n",
       "            var callback = fig[\"handle_\" + msg_type];\n",
       "        } catch (e) {\n",
       "            console.log(\"No handler for the '\" + msg_type + \"' message type: \", msg);\n",
       "            return;\n",
       "        }\n",
       "\n",
       "        if (callback) {\n",
       "            try {\n",
       "                // console.log(\"Handling '\" + msg_type + \"' message: \", msg);\n",
       "                callback(fig, msg);\n",
       "            } catch (e) {\n",
       "                console.log(\"Exception inside the 'handler_\" + msg_type + \"' callback:\", e, e.stack, msg);\n",
       "            }\n",
       "        }\n",
       "    };\n",
       "}\n",
       "\n",
       "// from http://stackoverflow.com/questions/1114465/getting-mouse-location-in-canvas\n",
       "mpl.findpos = function(e) {\n",
       "    //this section is from http://www.quirksmode.org/js/events_properties.html\n",
       "    var targ;\n",
       "    if (!e)\n",
       "        e = window.event;\n",
       "    if (e.target)\n",
       "        targ = e.target;\n",
       "    else if (e.srcElement)\n",
       "        targ = e.srcElement;\n",
       "    if (targ.nodeType == 3) // defeat Safari bug\n",
       "        targ = targ.parentNode;\n",
       "\n",
       "    // jQuery normalizes the pageX and pageY\n",
       "    // pageX,Y are the mouse positions relative to the document\n",
       "    // offset() returns the position of the element relative to the document\n",
       "    var x = e.pageX - $(targ).offset().left;\n",
       "    var y = e.pageY - $(targ).offset().top;\n",
       "\n",
       "    return {\"x\": x, \"y\": y};\n",
       "};\n",
       "\n",
       "/*\n",
       " * return a copy of an object with only non-object keys\n",
       " * we need this to avoid circular references\n",
       " * http://stackoverflow.com/a/24161582/3208463\n",
       " */\n",
       "function simpleKeys (original) {\n",
       "  return Object.keys(original).reduce(function (obj, key) {\n",
       "    if (typeof original[key] !== 'object')\n",
       "        obj[key] = original[key]\n",
       "    return obj;\n",
       "  }, {});\n",
       "}\n",
       "\n",
       "mpl.figure.prototype.mouse_event = function(event, name) {\n",
       "    var canvas_pos = mpl.findpos(event)\n",
       "\n",
       "    if (name === 'button_press')\n",
       "    {\n",
       "        this.canvas.focus();\n",
       "        this.canvas_div.focus();\n",
       "    }\n",
       "\n",
       "    var x = canvas_pos.x * mpl.ratio;\n",
       "    var y = canvas_pos.y * mpl.ratio;\n",
       "\n",
       "    this.send_message(name, {x: x, y: y, button: event.button,\n",
       "                             step: event.step,\n",
       "                             guiEvent: simpleKeys(event)});\n",
       "\n",
       "    /* This prevents the web browser from automatically changing to\n",
       "     * the text insertion cursor when the button is pressed.  We want\n",
       "     * to control all of the cursor setting manually through the\n",
       "     * 'cursor' event from matplotlib */\n",
       "    event.preventDefault();\n",
       "    return false;\n",
       "}\n",
       "\n",
       "mpl.figure.prototype._key_event_extra = function(event, name) {\n",
       "    // Handle any extra behaviour associated with a key event\n",
       "}\n",
       "\n",
       "mpl.figure.prototype.key_event = function(event, name) {\n",
       "\n",
       "    // Prevent repeat events\n",
       "    if (name == 'key_press')\n",
       "    {\n",
       "        if (event.which === this._key)\n",
       "            return;\n",
       "        else\n",
       "            this._key = event.which;\n",
       "    }\n",
       "    if (name == 'key_release')\n",
       "        this._key = null;\n",
       "\n",
       "    var value = '';\n",
       "    if (event.ctrlKey && event.which != 17)\n",
       "        value += \"ctrl+\";\n",
       "    if (event.altKey && event.which != 18)\n",
       "        value += \"alt+\";\n",
       "    if (event.shiftKey && event.which != 16)\n",
       "        value += \"shift+\";\n",
       "\n",
       "    value += 'k';\n",
       "    value += event.which.toString();\n",
       "\n",
       "    this._key_event_extra(event, name);\n",
       "\n",
       "    this.send_message(name, {key: value,\n",
       "                             guiEvent: simpleKeys(event)});\n",
       "    return false;\n",
       "}\n",
       "\n",
       "mpl.figure.prototype.toolbar_button_onclick = function(name) {\n",
       "    if (name == 'download') {\n",
       "        this.handle_save(this, null);\n",
       "    } else {\n",
       "        this.send_message(\"toolbar_button\", {name: name});\n",
       "    }\n",
       "};\n",
       "\n",
       "mpl.figure.prototype.toolbar_button_onmouseover = function(tooltip) {\n",
       "    this.message.textContent = tooltip;\n",
       "};\n",
       "mpl.toolbar_items = [[\"Home\", \"Reset original view\", \"fa fa-home icon-home\", \"home\"], [\"Back\", \"Back to previous view\", \"fa fa-arrow-left icon-arrow-left\", \"back\"], [\"Forward\", \"Forward to next view\", \"fa fa-arrow-right icon-arrow-right\", \"forward\"], [\"\", \"\", \"\", \"\"], [\"Pan\", \"Pan axes with left mouse, zoom with right\", \"fa fa-arrows icon-move\", \"pan\"], [\"Zoom\", \"Zoom to rectangle\", \"fa fa-square-o icon-check-empty\", \"zoom\"], [\"\", \"\", \"\", \"\"], [\"Download\", \"Download plot\", \"fa fa-floppy-o icon-save\", \"download\"]];\n",
       "\n",
       "mpl.extensions = [\"eps\", \"jpeg\", \"pdf\", \"png\", \"ps\", \"raw\", \"svg\", \"tif\"];\n",
       "\n",
       "mpl.default_extension = \"png\";var comm_websocket_adapter = function(comm) {\n",
       "    // Create a \"websocket\"-like object which calls the given IPython comm\n",
       "    // object with the appropriate methods. Currently this is a non binary\n",
       "    // socket, so there is still some room for performance tuning.\n",
       "    var ws = {};\n",
       "\n",
       "    ws.close = function() {\n",
       "        comm.close()\n",
       "    };\n",
       "    ws.send = function(m) {\n",
       "        //console.log('sending', m);\n",
       "        comm.send(m);\n",
       "    };\n",
       "    // Register the callback with on_msg.\n",
       "    comm.on_msg(function(msg) {\n",
       "        //console.log('receiving', msg['content']['data'], msg);\n",
       "        // Pass the mpl event to the overridden (by mpl) onmessage function.\n",
       "        ws.onmessage(msg['content']['data'])\n",
       "    });\n",
       "    return ws;\n",
       "}\n",
       "\n",
       "mpl.mpl_figure_comm = function(comm, msg) {\n",
       "    // This is the function which gets called when the mpl process\n",
       "    // starts-up an IPython Comm through the \"matplotlib\" channel.\n",
       "\n",
       "    var id = msg.content.data.id;\n",
       "    // Get hold of the div created by the display call when the Comm\n",
       "    // socket was opened in Python.\n",
       "    var element = $(\"#\" + id);\n",
       "    var ws_proxy = comm_websocket_adapter(comm)\n",
       "\n",
       "    function ondownload(figure, format) {\n",
       "        window.open(figure.imageObj.src);\n",
       "    }\n",
       "\n",
       "    var fig = new mpl.figure(id, ws_proxy,\n",
       "                           ondownload,\n",
       "                           element.get(0));\n",
       "\n",
       "    // Call onopen now - mpl needs it, as it is assuming we've passed it a real\n",
       "    // web socket which is closed, not our websocket->open comm proxy.\n",
       "    ws_proxy.onopen();\n",
       "\n",
       "    fig.parent_element = element.get(0);\n",
       "    fig.cell_info = mpl.find_output_cell(\"<div id='\" + id + \"'></div>\");\n",
       "    if (!fig.cell_info) {\n",
       "        console.error(\"Failed to find cell for figure\", id, fig);\n",
       "        return;\n",
       "    }\n",
       "\n",
       "    var output_index = fig.cell_info[2]\n",
       "    var cell = fig.cell_info[0];\n",
       "\n",
       "};\n",
       "\n",
       "mpl.figure.prototype.handle_close = function(fig, msg) {\n",
       "    var width = fig.canvas.width/mpl.ratio\n",
       "    fig.root.unbind('remove')\n",
       "\n",
       "    // Update the output cell to use the data from the current canvas.\n",
       "    fig.push_to_output();\n",
       "    var dataURL = fig.canvas.toDataURL();\n",
       "    // Re-enable the keyboard manager in IPython - without this line, in FF,\n",
       "    // the notebook keyboard shortcuts fail.\n",
       "    IPython.keyboard_manager.enable()\n",
       "    $(fig.parent_element).html('<img src=\"' + dataURL + '\" width=\"' + width + '\">');\n",
       "    fig.close_ws(fig, msg);\n",
       "}\n",
       "\n",
       "mpl.figure.prototype.close_ws = function(fig, msg){\n",
       "    fig.send_message('closing', msg);\n",
       "    // fig.ws.close()\n",
       "}\n",
       "\n",
       "mpl.figure.prototype.push_to_output = function(remove_interactive) {\n",
       "    // Turn the data on the canvas into data in the output cell.\n",
       "    var width = this.canvas.width/mpl.ratio\n",
       "    var dataURL = this.canvas.toDataURL();\n",
       "    this.cell_info[1]['text/html'] = '<img src=\"' + dataURL + '\" width=\"' + width + '\">';\n",
       "}\n",
       "\n",
       "mpl.figure.prototype.updated_canvas_event = function() {\n",
       "    // Tell IPython that the notebook contents must change.\n",
       "    IPython.notebook.set_dirty(true);\n",
       "    this.send_message(\"ack\", {});\n",
       "    var fig = this;\n",
       "    // Wait a second, then push the new image to the DOM so\n",
       "    // that it is saved nicely (might be nice to debounce this).\n",
       "    setTimeout(function () { fig.push_to_output() }, 1000);\n",
       "}\n",
       "\n",
       "mpl.figure.prototype._init_toolbar = function() {\n",
       "    var fig = this;\n",
       "\n",
       "    var nav_element = $('<div/>');\n",
       "    nav_element.attr('style', 'width: 100%');\n",
       "    this.root.append(nav_element);\n",
       "\n",
       "    // Define a callback function for later on.\n",
       "    function toolbar_event(event) {\n",
       "        return fig.toolbar_button_onclick(event['data']);\n",
       "    }\n",
       "    function toolbar_mouse_event(event) {\n",
       "        return fig.toolbar_button_onmouseover(event['data']);\n",
       "    }\n",
       "\n",
       "    for(var toolbar_ind in mpl.toolbar_items){\n",
       "        var name = mpl.toolbar_items[toolbar_ind][0];\n",
       "        var tooltip = mpl.toolbar_items[toolbar_ind][1];\n",
       "        var image = mpl.toolbar_items[toolbar_ind][2];\n",
       "        var method_name = mpl.toolbar_items[toolbar_ind][3];\n",
       "\n",
       "        if (!name) { continue; };\n",
       "\n",
       "        var button = $('<button class=\"btn btn-default\" href=\"#\" title=\"' + name + '\"><i class=\"fa ' + image + ' fa-lg\"></i></button>');\n",
       "        button.click(method_name, toolbar_event);\n",
       "        button.mouseover(tooltip, toolbar_mouse_event);\n",
       "        nav_element.append(button);\n",
       "    }\n",
       "\n",
       "    // Add the status bar.\n",
       "    var status_bar = $('<span class=\"mpl-message\" style=\"text-align:right; float: right;\"/>');\n",
       "    nav_element.append(status_bar);\n",
       "    this.message = status_bar[0];\n",
       "\n",
       "    // Add the close button to the window.\n",
       "    var buttongrp = $('<div class=\"btn-group inline pull-right\"></div>');\n",
       "    var button = $('<button class=\"btn btn-mini btn-primary\" href=\"#\" title=\"Stop Interaction\"><i class=\"fa fa-power-off icon-remove icon-large\"></i></button>');\n",
       "    button.click(function (evt) { fig.handle_close(fig, {}); } );\n",
       "    button.mouseover('Stop Interaction', toolbar_mouse_event);\n",
       "    buttongrp.append(button);\n",
       "    var titlebar = this.root.find($('.ui-dialog-titlebar'));\n",
       "    titlebar.prepend(buttongrp);\n",
       "}\n",
       "\n",
       "mpl.figure.prototype._root_extra_style = function(el){\n",
       "    var fig = this\n",
       "    el.on(\"remove\", function(){\n",
       "\tfig.close_ws(fig, {});\n",
       "    });\n",
       "}\n",
       "\n",
       "mpl.figure.prototype._canvas_extra_style = function(el){\n",
       "    // this is important to make the div 'focusable\n",
       "    el.attr('tabindex', 0)\n",
       "    // reach out to IPython and tell the keyboard manager to turn it's self\n",
       "    // off when our div gets focus\n",
       "\n",
       "    // location in version 3\n",
       "    if (IPython.notebook.keyboard_manager) {\n",
       "        IPython.notebook.keyboard_manager.register_events(el);\n",
       "    }\n",
       "    else {\n",
       "        // location in version 2\n",
       "        IPython.keyboard_manager.register_events(el);\n",
       "    }\n",
       "\n",
       "}\n",
       "\n",
       "mpl.figure.prototype._key_event_extra = function(event, name) {\n",
       "    var manager = IPython.notebook.keyboard_manager;\n",
       "    if (!manager)\n",
       "        manager = IPython.keyboard_manager;\n",
       "\n",
       "    // Check for shift+enter\n",
       "    if (event.shiftKey && event.which == 13) {\n",
       "        this.canvas_div.blur();\n",
       "        // select the cell after this one\n",
       "        var index = IPython.notebook.find_cell_index(this.cell_info[0]);\n",
       "        IPython.notebook.select(index + 1);\n",
       "    }\n",
       "}\n",
       "\n",
       "mpl.figure.prototype.handle_save = function(fig, msg) {\n",
       "    fig.ondownload(fig, null);\n",
       "}\n",
       "\n",
       "\n",
       "mpl.find_output_cell = function(html_output) {\n",
       "    // Return the cell and output element which can be found *uniquely* in the notebook.\n",
       "    // Note - this is a bit hacky, but it is done because the \"notebook_saving.Notebook\"\n",
       "    // IPython event is triggered only after the cells have been serialised, which for\n",
       "    // our purposes (turning an active figure into a static one), is too late.\n",
       "    var cells = IPython.notebook.get_cells();\n",
       "    var ncells = cells.length;\n",
       "    for (var i=0; i<ncells; i++) {\n",
       "        var cell = cells[i];\n",
       "        if (cell.cell_type === 'code'){\n",
       "            for (var j=0; j<cell.output_area.outputs.length; j++) {\n",
       "                var data = cell.output_area.outputs[j];\n",
       "                if (data.data) {\n",
       "                    // IPython >= 3 moved mimebundle to data attribute of output\n",
       "                    data = data.data;\n",
       "                }\n",
       "                if (data['text/html'] == html_output) {\n",
       "                    return [cell, data, j];\n",
       "                }\n",
       "            }\n",
       "        }\n",
       "    }\n",
       "}\n",
       "\n",
       "// Register the function which deals with the matplotlib target/channel.\n",
       "// The kernel may be null if the page has been refreshed.\n",
       "if (IPython.notebook.kernel != null) {\n",
       "    IPython.notebook.kernel.comm_manager.register_target('matplotlib', mpl.mpl_figure_comm);\n",
       "}\n"
      ],
      "text/plain": [
       "<IPython.core.display.Javascript object>"
      ]
     },
     "metadata": {},
     "output_type": "display_data"
    },
    {
     "data": {
      "text/html": [
       "<img src=\"data:image/png;base64,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\" width=\"1000\">"
      ],
      "text/plain": [
       "<IPython.core.display.HTML object>"
      ]
     },
     "metadata": {},
     "output_type": "display_data"
    }
   ],
   "source": [
    "dual_train_plots(results.index,\n",
    "                 results.cost, results.val, \n",
    "                 results['eff_val'].apply(lambda x: x.eff_rate),\n",
    "                 results['eff_val'].apply(lambda x: x.fp_rate))\n",
    "plt.tight_layout()\n",
    "plt.savefig(str(output / f'{name}_stats_a.png'))"
   ]
  },
  {
   "cell_type": "code",
   "execution_count": null,
   "metadata": {},
   "outputs": [],
   "source": [
    "##quit()"
   ]
  }
 ],
 "metadata": {
  "kernelspec": {
   "display_name": "goofit",
   "language": "python",
   "name": "goofit"
  },
  "language_info": {
   "codemirror_mode": {
    "name": "ipython",
    "version": 3
   },
   "file_extension": ".py",
   "mimetype": "text/x-python",
   "name": "python",
   "nbconvert_exporter": "python",
   "pygments_lexer": "ipython3",
   "version": "3.7.6"
  }
 },
 "nbformat": 4,
 "nbformat_minor": 2
}
