{
 "cells": [
  {
   "cell_type": "code",
   "execution_count": 1,
   "metadata": {},
   "outputs": [],
   "source": [
    "##%matplotlib widget\n",
    "## with %matplotlib notebook: seems to require ipympl as part of environment, either\n",
    "## part of the conda environment or \"pip install ipympl\"\n",
    "## otherwise, does not show ANY plots in notebook, plt.savefig() works\n",
    "%matplotlib notebook  \n",
    "##%matplotlib inline    ## --plt.savefig()  works, but re-sizing does NOT"
   ]
  },
  {
   "cell_type": "markdown",
   "metadata": {},
   "source": [
    "This notebook is a short demo to illustrate execution.   For odd historical reasons, it uses \"toy Monte Carlo\" (simulated data)for \"training\" and \"full LHCB MC\" for validation.\n",
    "\n",
    "The network architecture is a \"simple\" model that uses 1 input channel (the KDE [kernel density estimator] but from the track parameters) feeding 5 convolutional layers followed by a fully connected layer.\n",
    "\n",
    "In today's version, the network will start with weights from a previously trained version.\n",
    " "
   ]
  },
  {
   "cell_type": "markdown",
   "metadata": {},
   "source": [
    "Check the current GPU usage. Please try to be nice!"
   ]
  },
  {
   "cell_type": "code",
   "execution_count": 2,
   "metadata": {
    "scrolled": true
   },
   "outputs": [
    {
     "name": "stdout",
     "output_type": "stream",
     "text": [
      "Tue Mar 30 14:25:58 2021       \n",
      "+-----------------------------------------------------------------------------+\n",
      "| NVIDIA-SMI 440.64.00    Driver Version: 440.64.00    CUDA Version: 10.2     |\n",
      "|-------------------------------+----------------------+----------------------+\n",
      "| GPU  Name        Persistence-M| Bus-Id        Disp.A | Volatile Uncorr. ECC |\n",
      "| Fan  Temp  Perf  Pwr:Usage/Cap|         Memory-Usage | GPU-Util  Compute M. |\n",
      "|===============================+======================+======================|\n",
      "|   0  TITAN V             Off  | 00000000:03:00.0 Off |                  N/A |\n",
      "| 20%   35C    P0    32W / 250W |      0MiB / 12066MiB |      0%      Default |\n",
      "+-------------------------------+----------------------+----------------------+\n",
      "|   1  Tesla P100-PCIE...  Off  | 00000000:83:00.0 Off |                    0 |\n",
      "| N/A   32C    P0    33W / 250W |      0MiB / 16280MiB |      0%      Default |\n",
      "+-------------------------------+----------------------+----------------------+\n",
      "|   2  TITAN V             Off  | 00000000:84:00.0 Off |                  N/A |\n",
      "| 22%   37C    P0    34W / 250W |      0MiB / 12066MiB |      0%      Default |\n",
      "+-------------------------------+----------------------+----------------------+\n",
      "                                                                               \n",
      "+-----------------------------------------------------------------------------+\n",
      "| Processes:                                                       GPU Memory |\n",
      "|  GPU       PID   Type   Process name                             Usage      |\n",
      "|=============================================================================|\n",
      "|  No running processes found                                                 |\n",
      "+-----------------------------------------------------------------------------+\n"
     ]
    }
   ],
   "source": [
    "!nvidia-smi"
   ]
  },
  {
   "cell_type": "markdown",
   "metadata": {},
   "source": [
    "> **WARNING**: The card numbers here are *not* the same as in CUDA. You have been warned."
   ]
  },
  {
   "cell_type": "markdown",
   "metadata": {},
   "source": [
    "## Imports"
   ]
  },
  {
   "cell_type": "code",
   "execution_count": 3,
   "metadata": {
    "scrolled": false
   },
   "outputs": [
    {
     "name": "stderr",
     "output_type": "stream",
     "text": [
      "/data/conda/envs/goofit-june2020/lib/python3.7/site-packages/awkward/__init__.py:23: DeprecationWarning: Consider switching from 'awkward' to 'awkward1', since the new interface will become the default later this year (2020).\n",
      "\n",
      "    pip install -U awkward1\n",
      "\n",
      "In Python:\n",
      "\n",
      "    >>> import awkward1 as ak\n",
      "    >>> new_style_array = ak.from_awkward0(old_style_array)\n",
      "    >>> old_style_array = ak.to_awkward0(new_style_array)\n",
      "\n",
      "  DeprecationWarning\n"
     ]
    }
   ],
   "source": [
    "import matplotlib.pyplot as plt\n",
    "import numpy as np\n",
    "import time\n",
    "import torch\n",
    "import pandas as pd\n",
    "import mlflow\n",
    "\n",
    "# Python 3 standard library\n",
    "from pathlib import Path\n",
    "\n",
    "from torchsummary import summary\n",
    "\n",
    "'''\n",
    "HELPER FUNCTIONS\n",
    "'''\n",
    "# From model/collectdata.py\n",
    "from model.collectdata_mdsA import collect_data\n",
    "# For poca KDE\n",
    "from model.collectdata_poca_KDE import collect_data_poca\n",
    "\n",
    "# From model/loss.py\n",
    "##from loss import Loss\n",
    "from model.alt_loss_A import Loss\n",
    "\n",
    "# From model/training.py\n",
    "from model.training import trainNet, select_gpu, Results\n",
    "\n",
    "# From model/models.py\n",
    "##  will start with model from TwoFeatures_CNN6Layer_A in the first instance\n",
    "##  see relevant cell below\n",
    "\n",
    "from model.models_mjp_19November20 import ThreeFeature_6Layer_XYPretrain_A as ModelA\n",
    "from model.models_mjp_19November20 import ThreeFeature_6Layer_XYPretrain_E as ModelE\n",
    "from model.models_mjp_19November20 import ThreeFeature_8Layer_XYPretrain_W as ModelW\n",
    "from model.models_mjp_26December20 import ThreeFeature_10Layer_XYPretrain_X as ModelX\n",
    "from model.models_mjp_26December20 import ThreeFeature_8Layer_XYPretrain_Y as ModelY\n",
    "from model.models_mjp_30Jan21_AllCNN import ACN_3_P_10L_4S_BN as ModelXX\n",
    "\n",
    "# From model/utilities.py\n",
    "from model.utilities import load_full_state, count_parameters, Params\n",
    "\n",
    "from model.plots import dual_train_plots, replace_in_ax\n",
    "\n",
    "## adds image of model architecture\n",
    "import hiddenlayer as HL"
   ]
  },
  {
   "cell_type": "markdown",
   "metadata": {},
   "source": [
    "Set up Torch device configuration. All tensors and model parameters need to know where to be put.\n",
    "This takes a BUS ID number: The BUS ID is the same as the listing at the top of this script."
   ]
  },
  {
   "cell_type": "code",
   "execution_count": 4,
   "metadata": {},
   "outputs": [
    {
     "name": "stdout",
     "output_type": "stream",
     "text": [
      "1 available GPUs (initially using device 0):\n",
      "  0 TITAN V\n"
     ]
    },
    {
     "name": "stderr",
     "output_type": "stream",
     "text": [
      "/data/conda/envs/goofit-june2020/lib/python3.7/site-packages/ipykernel/ipkernel.py:287: DeprecationWarning: `should_run_async` will not call `transform_cell` automatically in the future. Please pass the result to `transformed_cell` argument and any exception that happen during thetransform in `preprocessing_exc_tuple` in IPython 7.17 and above.\n",
      "  and should_run_async(code)\n"
     ]
    }
   ],
   "source": [
    "device = select_gpu(0)"
   ]
  },
  {
   "cell_type": "markdown",
   "metadata": {},
   "source": [
    "### Set up local parameters"
   ]
  },
  {
   "cell_type": "code",
   "execution_count": 5,
   "metadata": {},
   "outputs": [],
   "source": [
    "# params order - batch size, epochs, lr, epoch_start (which is usually set to 0)\n",
    "args = Params(128, 1500, 1e-7, 1720)"
   ]
  },
  {
   "cell_type": "markdown",
   "metadata": {},
   "source": [
    "## Loading data\n",
    "\n",
    "Load the dataset, split into parts, then move to device (see `collectdata.py` in the `../model` directory)"
   ]
  },
  {
   "cell_type": "code",
   "execution_count": 6,
   "metadata": {
    "scrolled": true
   },
   "outputs": [
    {
     "name": "stdout",
     "output_type": "stream",
     "text": [
      "Loading data...\n",
      "Loaded /share/lazy/will/data/June30_2020_80k_1.h5 in 31.13 s\n",
      "Loaded /share/lazy/will/data/June30_2020_80k_3.h5 in 29.79 s\n",
      "Constructing 160000 event dataset took 1.436 s\n",
      "Loading data...\n",
      "Loaded /share/lazy/sokoloff/ML-data_AA/20K_POCA_kernel_evts_200926.h5 in 7.443 s\n",
      "Constructing 20000 event dataset took 0.1873 s\n"
     ]
    }
   ],
   "source": [
    "## newer vernacular\n",
    "## Training dataset. You can put as many files here as desired.\n",
    "\n",
    "'''\n",
    "## in this DEMO example we use only one 80K training set -- the model starts with well-trained weights,\n",
    "## and using a smaller training set reduces both the time to load the data and the time to train an epoch\n",
    "##  set the option load_XandXsq = True to use both DKE and KDE^2 as input features\n",
    "train_loader = collect_data('/share/lazy/sokoloff/ML-data_A/Aug14_80K_train.h5',\n",
    "                             '/share/lazy/sokoloff/ML-data_AA/Oct03_80K_train.h5',\n",
    "#                             '/share/lazy/sokoloff/ML-data_AA/Oct03_40K_train.h5',\n",
    "                             '/share/lazy/will/ML_mdsA/June30_2020_80k_1.h5',\n",
    "                             '/share/lazy/will/ML_mdsA/June30_2020_80k_3.h5',\n",
    "#                             '/share/lazy/will/ML_mdsA/June30_2020_80k_4.h5',\n",
    "#                             '/share/lazy/will/ML_mdsA/June30_2020_80k_5.h5',\n",
    "#                             '/share/lazy/will/ML_mdsA/June30_2020_80k_6.h5',\n",
    "#                             '/share/lazy/will/ML_mdsA/June30_2020_80k_7.h5',\n",
    "#                             '/share/lazy/will/ML_mdsA/June30_2020_80k_8.h5',\n",
    "#                             '/share/lazy/will/ML_mdsA/June30_2020_80k_9.h5',\n",
    "                            #'/share/lazy/sokoloff/ML-data_AA/Oct03_80K2_train.h5',\n",
    "                             batch_size=args.batch_size,\n",
    "## if we are using a larger dataset (240K events, with the datasets above, and 11 GB  of GPU memory),\n",
    "## not the dataset will overflow the GPU memory; device=device will allow the data to move back\n",
    "## and forth between the CPU and GPU memory. While this allows use of a larger dataset, it slows\n",
    "## down performance by about 10%.  So comment out when not needed.\n",
    "## \n",
    "                            #device=device,\n",
    "                            masking=True, shuffle=True,\n",
    "                            load_XandXsq=True,\n",
    "                            load_xy=True)\n",
    "\n",
    "# Validation dataset. You can slice to reduce the size.\n",
    "## dataAA -> /share/lazy/sokoloff/ML-data_AA/\n",
    "val_loader = collect_data('/share/lazy/sokoloff/ML-data_AA/Oct03_20K_val.h5',\n",
    "## mds val_loader = collect_data('dataAA/HLT1CPU_1kevts_val.h5',\n",
    "\n",
    "                          batch_size=args.batch_size,\n",
    "                          slice=slice(256 * 39),\n",
    "                          #device=device,\n",
    "                          masking=True, shuffle=False,\n",
    "                          load_XandXsq=True,\n",
    "                          load_xy=True)\n",
    "'''\n",
    "\n",
    "## This is used when training with the new KDE\n",
    "train_loader = collect_data_poca('/share/lazy/will/data/June30_2020_80k_1.h5',\n",
    "                            '/share/lazy/will/data/June30_2020_80k_3.h5',\n",
    "                            batch_size=args.batch_size,\n",
    "                            #device=device,\n",
    "                            masking=True, shuffle=True,\n",
    "                            load_XandXsq=True,\n",
    "                            load_xy=True,\n",
    "                           ## slice = slice(0,18000)\n",
    "                           )\n",
    "\n",
    "val_loader = collect_data_poca('/share/lazy/sokoloff/ML-data_AA/20K_POCA_kernel_evts_200926.h5',\n",
    "                            batch_size=args.batch_size,\n",
    "                            #device=device,\n",
    "                            masking=True, shuffle=True,\n",
    "                            load_XandXsq=True,\n",
    "                            load_xy=True,\n",
    "                            ##slice = slice(18000,None)\n",
    "                           )"
   ]
  },
  {
   "cell_type": "markdown",
   "metadata": {},
   "source": [
    "# Preparing the model"
   ]
  },
  {
   "cell_type": "markdown",
   "metadata": {},
   "source": [
    "Prepare a model, use multiple GPUs if they are VISIBLE, and move the model to the device."
   ]
  },
  {
   "cell_type": "code",
   "execution_count": 7,
   "metadata": {
    "scrolled": true
   },
   "outputs": [
    {
     "name": "stderr",
     "output_type": "stream",
     "text": [
      "WARNING:root:Malformed experiment 'ML'. Detailed error Yaml file '/share/lazy/pv-finder_model_repo/ML/meta.yaml' does not exist.\n",
      "Traceback (most recent call last):\n",
      "  File \"/home/michael24peters/.local/lib/python3.7/site-packages/mlflow/store/tracking/file_store.py\", line 197, in list_experiments\n",
      "    experiment = self._get_experiment(exp_id, view_type)\n",
      "  File \"/home/michael24peters/.local/lib/python3.7/site-packages/mlflow/store/tracking/file_store.py\", line 260, in _get_experiment\n",
      "    meta = read_yaml(experiment_dir, FileStore.META_DATA_FILE_NAME)\n",
      "  File \"/home/michael24peters/.local/lib/python3.7/site-packages/mlflow/utils/file_utils.py\", line 167, in read_yaml\n",
      "    raise MissingConfigException(\"Yaml file '%s' does not exist.\" % file_path)\n",
      "mlflow.exceptions.MissingConfigException: Yaml file '/share/lazy/pv-finder_model_repo/ML/meta.yaml' does not exist.\n"
     ]
    }
   ],
   "source": [
    "model = ModelXX()\n",
    "\n",
    "#summary(model.to(device), (1, 4000))\n",
    "\n",
    "mlflow.tracking.set_tracking_uri('file:/share/lazy/pv-finder_model_repo')\n",
    "mlflow.set_experiment('Four Feature AllCNN')"
   ]
  },
  {
   "cell_type": "code",
   "execution_count": 8,
   "metadata": {
    "scrolled": true
   },
   "outputs": [
    {
     "name": "stdout",
     "output_type": "stream",
     "text": [
      "Let's use 1 GPUs!\n"
     ]
    }
   ],
   "source": [
    "print(\"Let's use\", torch.cuda.device_count(), \"GPUs!\")\n",
    "if torch.cuda.device_count() > 1:\n",
    "    model = torch.nn.DataParallel(model)"
   ]
  },
  {
   "cell_type": "markdown",
   "metadata": {},
   "source": [
    "Let's move the model's weight matricies to the GPU:"
   ]
  },
  {
   "cell_type": "code",
   "execution_count": 9,
   "metadata": {},
   "outputs": [
    {
     "name": "stdout",
     "output_type": "stream",
     "text": [
      "we also froze 0 weights\n",
      "Of the 36.5 parameter layers to update in the current model, 36.5 were loaded\n"
     ]
    }
   ],
   "source": [
    "##  mds 200121 loss = Loss(epsilon=1e-5,coefficient=1.0)\n",
    "loss = Loss(epsilon=1e-5,coefficient=2.5)\n",
    "optimizer = torch.optim.Adam(model.parameters(), lr=args.lr)\n",
    "\n",
    "##  use the first five layers from a pre-existing model\n",
    "##  see example at https://discuss.pytorch.org/t/how-to-load-part-of-pre-trained-model/1113\n",
    "##   ML -> /share/lazy/sokoloff/ML\n",
    "\n",
    "#path = 'run_stats.pyt'\n",
    "#load_full_state(model, optimizer, path)\n",
    "# For other pretrained models, go to MLFlow and find the path for \"run_stats.pyt\"\n",
    "pretrained_dict = '/share/lazy/pv-finder_model_repo/12/1814a2acb1ad42deaa08684cf5e2b1e4/artifacts/run_stats.pyt'\n",
    "load_full_state(model, optimizer, pretrained_dict, freeze_weights=False)"
   ]
  },
  {
   "cell_type": "markdown",
   "metadata": {},
   "source": [
    "Let's move the model's weight matricies to the GPU:"
   ]
  },
  {
   "cell_type": "code",
   "execution_count": 10,
   "metadata": {
    "scrolled": true
   },
   "outputs": [
    {
     "data": {
      "text/plain": [
       "ACN_3_P_10L_4S_BN(\n",
       "  (conv1): Conv1d(1, 20, kernel_size=(25,), stride=(1,), padding=(12,))\n",
       "  (conv2): Conv1d(20, 10, kernel_size=(15,), stride=(1,), padding=(7,))\n",
       "  (conv3): Conv1d(30, 10, kernel_size=(15,), stride=(1,), padding=(7,))\n",
       "  (conv4): Conv1d(10, 10, kernel_size=(15,), stride=(1,), padding=(7,))\n",
       "  (conv5): Conv1d(20, 10, kernel_size=(15,), stride=(1,), padding=(7,))\n",
       "  (conv6): Conv1d(10, 10, kernel_size=(15,), stride=(1,), padding=(7,))\n",
       "  (conv7): Conv1d(20, 7, kernel_size=(5,), stride=(1,), padding=(2,))\n",
       "  (conv8): Conv1d(7, 3, kernel_size=(5,), stride=(1,), padding=(2,))\n",
       "  (conv9): Conv1d(10, 1, kernel_size=(5,), stride=(1,), padding=(2,))\n",
       "  (finalFilter): Conv1d(1, 1, kernel_size=(91,), stride=(1,), padding=(45,))\n",
       "  (ppConv1): Conv1d(2, 20, kernel_size=(25,), stride=(1,), padding=(12,))\n",
       "  (ppConv2): Conv1d(20, 10, kernel_size=(15,), stride=(1,), padding=(7,))\n",
       "  (ppConv3): Conv1d(10, 1, kernel_size=(15,), stride=(1,), padding=(7,))\n",
       "  (ppFC): Linear(in_features=4000, out_features=4000, bias=True)\n",
       "  (conv1dropout): Dropout(p=0.15, inplace=False)\n",
       "  (conv2dropout): Dropout(p=0.15, inplace=False)\n",
       "  (conv3dropout): Dropout(p=0.15, inplace=False)\n",
       "  (conv4dropout): Dropout(p=0.15, inplace=False)\n",
       "  (conv5dropout): Dropout(p=0.15, inplace=False)\n",
       "  (conv6dropout): Dropout(p=0.15, inplace=False)\n",
       "  (conv7dropout): Dropout(p=0.15, inplace=False)\n",
       "  (conv8dropout): Dropout(p=0.15, inplace=False)\n",
       "  (conv9dropout): Dropout(p=0.15, inplace=False)\n",
       "  (bn1): BatchNorm1d(20, eps=1e-05, momentum=0.1, affine=True, track_running_stats=True)\n",
       "  (bn2): BatchNorm1d(10, eps=1e-05, momentum=0.1, affine=True, track_running_stats=True)\n",
       "  (bn3): BatchNorm1d(10, eps=1e-05, momentum=0.1, affine=True, track_running_stats=True)\n",
       "  (bn4): BatchNorm1d(10, eps=1e-05, momentum=0.1, affine=True, track_running_stats=True)\n",
       "  (bn5): BatchNorm1d(10, eps=1e-05, momentum=0.1, affine=True, track_running_stats=True)\n",
       "  (bn6): BatchNorm1d(10, eps=1e-05, momentum=0.1, affine=True, track_running_stats=True)\n",
       "  (bn7): BatchNorm1d(7, eps=1e-05, momentum=0.1, affine=True, track_running_stats=True)\n",
       "  (bn8): BatchNorm1d(3, eps=1e-05, momentum=0.1, affine=True, track_running_stats=True)\n",
       "  (bn9): BatchNorm1d(1, eps=1e-05, momentum=0.1, affine=True, track_running_stats=True)\n",
       ")"
      ]
     },
     "execution_count": 10,
     "metadata": {},
     "output_type": "execute_result"
    }
   ],
   "source": [
    "model.to(device)"
   ]
  },
  {
   "cell_type": "markdown",
   "metadata": {},
   "source": [
    "## Train \n",
    "\n",
    "\n",
    "\n",
    "The body of this loop runs once per epoch. Results is a named tuple of values (loss per epoch for training and validation, time each). Start by setting up a plot first:"
   ]
  },
  {
   "cell_type": "code",
   "execution_count": 11,
   "metadata": {
    "scrolled": true
   },
   "outputs": [
    {
     "data": {
      "application/javascript": [
       "/* Put everything inside the global mpl namespace */\n",
       "window.mpl = {};\n",
       "\n",
       "\n",
       "mpl.get_websocket_type = function() {\n",
       "    if (typeof(WebSocket) !== 'undefined') {\n",
       "        return WebSocket;\n",
       "    } else if (typeof(MozWebSocket) !== 'undefined') {\n",
       "        return MozWebSocket;\n",
       "    } else {\n",
       "        alert('Your browser does not have WebSocket support. ' +\n",
       "              'Please try Chrome, Safari or Firefox ≥ 6. ' +\n",
       "              'Firefox 4 and 5 are also supported but you ' +\n",
       "              'have to enable WebSockets in about:config.');\n",
       "    };\n",
       "}\n",
       "\n",
       "mpl.figure = function(figure_id, websocket, ondownload, parent_element) {\n",
       "    this.id = figure_id;\n",
       "\n",
       "    this.ws = websocket;\n",
       "\n",
       "    this.supports_binary = (this.ws.binaryType != undefined);\n",
       "\n",
       "    if (!this.supports_binary) {\n",
       "        var warnings = document.getElementById(\"mpl-warnings\");\n",
       "        if (warnings) {\n",
       "            warnings.style.display = 'block';\n",
       "            warnings.textContent = (\n",
       "                \"This browser does not support binary websocket messages. \" +\n",
       "                    \"Performance may be slow.\");\n",
       "        }\n",
       "    }\n",
       "\n",
       "    this.imageObj = new Image();\n",
       "\n",
       "    this.context = undefined;\n",
       "    this.message = undefined;\n",
       "    this.canvas = undefined;\n",
       "    this.rubberband_canvas = undefined;\n",
       "    this.rubberband_context = undefined;\n",
       "    this.format_dropdown = undefined;\n",
       "\n",
       "    this.image_mode = 'full';\n",
       "\n",
       "    this.root = $('<div/>');\n",
       "    this._root_extra_style(this.root)\n",
       "    this.root.attr('style', 'display: inline-block');\n",
       "\n",
       "    $(parent_element).append(this.root);\n",
       "\n",
       "    this._init_header(this);\n",
       "    this._init_canvas(this);\n",
       "    this._init_toolbar(this);\n",
       "\n",
       "    var fig = this;\n",
       "\n",
       "    this.waiting = false;\n",
       "\n",
       "    this.ws.onopen =  function () {\n",
       "            fig.send_message(\"supports_binary\", {value: fig.supports_binary});\n",
       "            fig.send_message(\"send_image_mode\", {});\n",
       "            if (mpl.ratio != 1) {\n",
       "                fig.send_message(\"set_dpi_ratio\", {'dpi_ratio': mpl.ratio});\n",
       "            }\n",
       "            fig.send_message(\"refresh\", {});\n",
       "        }\n",
       "\n",
       "    this.imageObj.onload = function() {\n",
       "            if (fig.image_mode == 'full') {\n",
       "                // Full images could contain transparency (where diff images\n",
       "                // almost always do), so we need to clear the canvas so that\n",
       "                // there is no ghosting.\n",
       "                fig.context.clearRect(0, 0, fig.canvas.width, fig.canvas.height);\n",
       "            }\n",
       "            fig.context.drawImage(fig.imageObj, 0, 0);\n",
       "        };\n",
       "\n",
       "    this.imageObj.onunload = function() {\n",
       "        fig.ws.close();\n",
       "    }\n",
       "\n",
       "    this.ws.onmessage = this._make_on_message_function(this);\n",
       "\n",
       "    this.ondownload = ondownload;\n",
       "}\n",
       "\n",
       "mpl.figure.prototype._init_header = function() {\n",
       "    var titlebar = $(\n",
       "        '<div class=\"ui-dialog-titlebar ui-widget-header ui-corner-all ' +\n",
       "        'ui-helper-clearfix\"/>');\n",
       "    var titletext = $(\n",
       "        '<div class=\"ui-dialog-title\" style=\"width: 100%; ' +\n",
       "        'text-align: center; padding: 3px;\"/>');\n",
       "    titlebar.append(titletext)\n",
       "    this.root.append(titlebar);\n",
       "    this.header = titletext[0];\n",
       "}\n",
       "\n",
       "\n",
       "\n",
       "mpl.figure.prototype._canvas_extra_style = function(canvas_div) {\n",
       "\n",
       "}\n",
       "\n",
       "\n",
       "mpl.figure.prototype._root_extra_style = function(canvas_div) {\n",
       "\n",
       "}\n",
       "\n",
       "mpl.figure.prototype._init_canvas = function() {\n",
       "    var fig = this;\n",
       "\n",
       "    var canvas_div = $('<div/>');\n",
       "\n",
       "    canvas_div.attr('style', 'position: relative; clear: both; outline: 0');\n",
       "\n",
       "    function canvas_keyboard_event(event) {\n",
       "        return fig.key_event(event, event['data']);\n",
       "    }\n",
       "\n",
       "    canvas_div.keydown('key_press', canvas_keyboard_event);\n",
       "    canvas_div.keyup('key_release', canvas_keyboard_event);\n",
       "    this.canvas_div = canvas_div\n",
       "    this._canvas_extra_style(canvas_div)\n",
       "    this.root.append(canvas_div);\n",
       "\n",
       "    var canvas = $('<canvas/>');\n",
       "    canvas.addClass('mpl-canvas');\n",
       "    canvas.attr('style', \"left: 0; top: 0; z-index: 0; outline: 0\")\n",
       "\n",
       "    this.canvas = canvas[0];\n",
       "    this.context = canvas[0].getContext(\"2d\");\n",
       "\n",
       "    var backingStore = this.context.backingStorePixelRatio ||\n",
       "\tthis.context.webkitBackingStorePixelRatio ||\n",
       "\tthis.context.mozBackingStorePixelRatio ||\n",
       "\tthis.context.msBackingStorePixelRatio ||\n",
       "\tthis.context.oBackingStorePixelRatio ||\n",
       "\tthis.context.backingStorePixelRatio || 1;\n",
       "\n",
       "    mpl.ratio = (window.devicePixelRatio || 1) / backingStore;\n",
       "\n",
       "    var rubberband = $('<canvas/>');\n",
       "    rubberband.attr('style', \"position: absolute; left: 0; top: 0; z-index: 1;\")\n",
       "\n",
       "    var pass_mouse_events = true;\n",
       "\n",
       "    canvas_div.resizable({\n",
       "        start: function(event, ui) {\n",
       "            pass_mouse_events = false;\n",
       "        },\n",
       "        resize: function(event, ui) {\n",
       "            fig.request_resize(ui.size.width, ui.size.height);\n",
       "        },\n",
       "        stop: function(event, ui) {\n",
       "            pass_mouse_events = true;\n",
       "            fig.request_resize(ui.size.width, ui.size.height);\n",
       "        },\n",
       "    });\n",
       "\n",
       "    function mouse_event_fn(event) {\n",
       "        if (pass_mouse_events)\n",
       "            return fig.mouse_event(event, event['data']);\n",
       "    }\n",
       "\n",
       "    rubberband.mousedown('button_press', mouse_event_fn);\n",
       "    rubberband.mouseup('button_release', mouse_event_fn);\n",
       "    // Throttle sequential mouse events to 1 every 20ms.\n",
       "    rubberband.mousemove('motion_notify', mouse_event_fn);\n",
       "\n",
       "    rubberband.mouseenter('figure_enter', mouse_event_fn);\n",
       "    rubberband.mouseleave('figure_leave', mouse_event_fn);\n",
       "\n",
       "    canvas_div.on(\"wheel\", function (event) {\n",
       "        event = event.originalEvent;\n",
       "        event['data'] = 'scroll'\n",
       "        if (event.deltaY < 0) {\n",
       "            event.step = 1;\n",
       "        } else {\n",
       "            event.step = -1;\n",
       "        }\n",
       "        mouse_event_fn(event);\n",
       "    });\n",
       "\n",
       "    canvas_div.append(canvas);\n",
       "    canvas_div.append(rubberband);\n",
       "\n",
       "    this.rubberband = rubberband;\n",
       "    this.rubberband_canvas = rubberband[0];\n",
       "    this.rubberband_context = rubberband[0].getContext(\"2d\");\n",
       "    this.rubberband_context.strokeStyle = \"#000000\";\n",
       "\n",
       "    this._resize_canvas = function(width, height) {\n",
       "        // Keep the size of the canvas, canvas container, and rubber band\n",
       "        // canvas in synch.\n",
       "        canvas_div.css('width', width)\n",
       "        canvas_div.css('height', height)\n",
       "\n",
       "        canvas.attr('width', width * mpl.ratio);\n",
       "        canvas.attr('height', height * mpl.ratio);\n",
       "        canvas.attr('style', 'width: ' + width + 'px; height: ' + height + 'px;');\n",
       "\n",
       "        rubberband.attr('width', width);\n",
       "        rubberband.attr('height', height);\n",
       "    }\n",
       "\n",
       "    // Set the figure to an initial 600x600px, this will subsequently be updated\n",
       "    // upon first draw.\n",
       "    this._resize_canvas(600, 600);\n",
       "\n",
       "    // Disable right mouse context menu.\n",
       "    $(this.rubberband_canvas).bind(\"contextmenu\",function(e){\n",
       "        return false;\n",
       "    });\n",
       "\n",
       "    function set_focus () {\n",
       "        canvas.focus();\n",
       "        canvas_div.focus();\n",
       "    }\n",
       "\n",
       "    window.setTimeout(set_focus, 100);\n",
       "}\n",
       "\n",
       "mpl.figure.prototype._init_toolbar = function() {\n",
       "    var fig = this;\n",
       "\n",
       "    var nav_element = $('<div/>');\n",
       "    nav_element.attr('style', 'width: 100%');\n",
       "    this.root.append(nav_element);\n",
       "\n",
       "    // Define a callback function for later on.\n",
       "    function toolbar_event(event) {\n",
       "        return fig.toolbar_button_onclick(event['data']);\n",
       "    }\n",
       "    function toolbar_mouse_event(event) {\n",
       "        return fig.toolbar_button_onmouseover(event['data']);\n",
       "    }\n",
       "\n",
       "    for(var toolbar_ind in mpl.toolbar_items) {\n",
       "        var name = mpl.toolbar_items[toolbar_ind][0];\n",
       "        var tooltip = mpl.toolbar_items[toolbar_ind][1];\n",
       "        var image = mpl.toolbar_items[toolbar_ind][2];\n",
       "        var method_name = mpl.toolbar_items[toolbar_ind][3];\n",
       "\n",
       "        if (!name) {\n",
       "            // put a spacer in here.\n",
       "            continue;\n",
       "        }\n",
       "        var button = $('<button/>');\n",
       "        button.addClass('ui-button ui-widget ui-state-default ui-corner-all ' +\n",
       "                        'ui-button-icon-only');\n",
       "        button.attr('role', 'button');\n",
       "        button.attr('aria-disabled', 'false');\n",
       "        button.click(method_name, toolbar_event);\n",
       "        button.mouseover(tooltip, toolbar_mouse_event);\n",
       "\n",
       "        var icon_img = $('<span/>');\n",
       "        icon_img.addClass('ui-button-icon-primary ui-icon');\n",
       "        icon_img.addClass(image);\n",
       "        icon_img.addClass('ui-corner-all');\n",
       "\n",
       "        var tooltip_span = $('<span/>');\n",
       "        tooltip_span.addClass('ui-button-text');\n",
       "        tooltip_span.html(tooltip);\n",
       "\n",
       "        button.append(icon_img);\n",
       "        button.append(tooltip_span);\n",
       "\n",
       "        nav_element.append(button);\n",
       "    }\n",
       "\n",
       "    var fmt_picker_span = $('<span/>');\n",
       "\n",
       "    var fmt_picker = $('<select/>');\n",
       "    fmt_picker.addClass('mpl-toolbar-option ui-widget ui-widget-content');\n",
       "    fmt_picker_span.append(fmt_picker);\n",
       "    nav_element.append(fmt_picker_span);\n",
       "    this.format_dropdown = fmt_picker[0];\n",
       "\n",
       "    for (var ind in mpl.extensions) {\n",
       "        var fmt = mpl.extensions[ind];\n",
       "        var option = $(\n",
       "            '<option/>', {selected: fmt === mpl.default_extension}).html(fmt);\n",
       "        fmt_picker.append(option);\n",
       "    }\n",
       "\n",
       "    // Add hover states to the ui-buttons\n",
       "    $( \".ui-button\" ).hover(\n",
       "        function() { $(this).addClass(\"ui-state-hover\");},\n",
       "        function() { $(this).removeClass(\"ui-state-hover\");}\n",
       "    );\n",
       "\n",
       "    var status_bar = $('<span class=\"mpl-message\"/>');\n",
       "    nav_element.append(status_bar);\n",
       "    this.message = status_bar[0];\n",
       "}\n",
       "\n",
       "mpl.figure.prototype.request_resize = function(x_pixels, y_pixels) {\n",
       "    // Request matplotlib to resize the figure. Matplotlib will then trigger a resize in the client,\n",
       "    // which will in turn request a refresh of the image.\n",
       "    this.send_message('resize', {'width': x_pixels, 'height': y_pixels});\n",
       "}\n",
       "\n",
       "mpl.figure.prototype.send_message = function(type, properties) {\n",
       "    properties['type'] = type;\n",
       "    properties['figure_id'] = this.id;\n",
       "    this.ws.send(JSON.stringify(properties));\n",
       "}\n",
       "\n",
       "mpl.figure.prototype.send_draw_message = function() {\n",
       "    if (!this.waiting) {\n",
       "        this.waiting = true;\n",
       "        this.ws.send(JSON.stringify({type: \"draw\", figure_id: this.id}));\n",
       "    }\n",
       "}\n",
       "\n",
       "\n",
       "mpl.figure.prototype.handle_save = function(fig, msg) {\n",
       "    var format_dropdown = fig.format_dropdown;\n",
       "    var format = format_dropdown.options[format_dropdown.selectedIndex].value;\n",
       "    fig.ondownload(fig, format);\n",
       "}\n",
       "\n",
       "\n",
       "mpl.figure.prototype.handle_resize = function(fig, msg) {\n",
       "    var size = msg['size'];\n",
       "    if (size[0] != fig.canvas.width || size[1] != fig.canvas.height) {\n",
       "        fig._resize_canvas(size[0], size[1]);\n",
       "        fig.send_message(\"refresh\", {});\n",
       "    };\n",
       "}\n",
       "\n",
       "mpl.figure.prototype.handle_rubberband = function(fig, msg) {\n",
       "    var x0 = msg['x0'] / mpl.ratio;\n",
       "    var y0 = (fig.canvas.height - msg['y0']) / mpl.ratio;\n",
       "    var x1 = msg['x1'] / mpl.ratio;\n",
       "    var y1 = (fig.canvas.height - msg['y1']) / mpl.ratio;\n",
       "    x0 = Math.floor(x0) + 0.5;\n",
       "    y0 = Math.floor(y0) + 0.5;\n",
       "    x1 = Math.floor(x1) + 0.5;\n",
       "    y1 = Math.floor(y1) + 0.5;\n",
       "    var min_x = Math.min(x0, x1);\n",
       "    var min_y = Math.min(y0, y1);\n",
       "    var width = Math.abs(x1 - x0);\n",
       "    var height = Math.abs(y1 - y0);\n",
       "\n",
       "    fig.rubberband_context.clearRect(\n",
       "        0, 0, fig.canvas.width / mpl.ratio, fig.canvas.height / mpl.ratio);\n",
       "\n",
       "    fig.rubberband_context.strokeRect(min_x, min_y, width, height);\n",
       "}\n",
       "\n",
       "mpl.figure.prototype.handle_figure_label = function(fig, msg) {\n",
       "    // Updates the figure title.\n",
       "    fig.header.textContent = msg['label'];\n",
       "}\n",
       "\n",
       "mpl.figure.prototype.handle_cursor = function(fig, msg) {\n",
       "    var cursor = msg['cursor'];\n",
       "    switch(cursor)\n",
       "    {\n",
       "    case 0:\n",
       "        cursor = 'pointer';\n",
       "        break;\n",
       "    case 1:\n",
       "        cursor = 'default';\n",
       "        break;\n",
       "    case 2:\n",
       "        cursor = 'crosshair';\n",
       "        break;\n",
       "    case 3:\n",
       "        cursor = 'move';\n",
       "        break;\n",
       "    }\n",
       "    fig.rubberband_canvas.style.cursor = cursor;\n",
       "}\n",
       "\n",
       "mpl.figure.prototype.handle_message = function(fig, msg) {\n",
       "    fig.message.textContent = msg['message'];\n",
       "}\n",
       "\n",
       "mpl.figure.prototype.handle_draw = function(fig, msg) {\n",
       "    // Request the server to send over a new figure.\n",
       "    fig.send_draw_message();\n",
       "}\n",
       "\n",
       "mpl.figure.prototype.handle_image_mode = function(fig, msg) {\n",
       "    fig.image_mode = msg['mode'];\n",
       "}\n",
       "\n",
       "mpl.figure.prototype.updated_canvas_event = function() {\n",
       "    // Called whenever the canvas gets updated.\n",
       "    this.send_message(\"ack\", {});\n",
       "}\n",
       "\n",
       "// A function to construct a web socket function for onmessage handling.\n",
       "// Called in the figure constructor.\n",
       "mpl.figure.prototype._make_on_message_function = function(fig) {\n",
       "    return function socket_on_message(evt) {\n",
       "        if (evt.data instanceof Blob) {\n",
       "            /* FIXME: We get \"Resource interpreted as Image but\n",
       "             * transferred with MIME type text/plain:\" errors on\n",
       "             * Chrome.  But how to set the MIME type?  It doesn't seem\n",
       "             * to be part of the websocket stream */\n",
       "            evt.data.type = \"image/png\";\n",
       "\n",
       "            /* Free the memory for the previous frames */\n",
       "            if (fig.imageObj.src) {\n",
       "                (window.URL || window.webkitURL).revokeObjectURL(\n",
       "                    fig.imageObj.src);\n",
       "            }\n",
       "\n",
       "            fig.imageObj.src = (window.URL || window.webkitURL).createObjectURL(\n",
       "                evt.data);\n",
       "            fig.updated_canvas_event();\n",
       "            fig.waiting = false;\n",
       "            return;\n",
       "        }\n",
       "        else if (typeof evt.data === 'string' && evt.data.slice(0, 21) == \"data:image/png;base64\") {\n",
       "            fig.imageObj.src = evt.data;\n",
       "            fig.updated_canvas_event();\n",
       "            fig.waiting = false;\n",
       "            return;\n",
       "        }\n",
       "\n",
       "        var msg = JSON.parse(evt.data);\n",
       "        var msg_type = msg['type'];\n",
       "\n",
       "        // Call the  \"handle_{type}\" callback, which takes\n",
       "        // the figure and JSON message as its only arguments.\n",
       "        try {\n",
       "            var callback = fig[\"handle_\" + msg_type];\n",
       "        } catch (e) {\n",
       "            console.log(\"No handler for the '\" + msg_type + \"' message type: \", msg);\n",
       "            return;\n",
       "        }\n",
       "\n",
       "        if (callback) {\n",
       "            try {\n",
       "                // console.log(\"Handling '\" + msg_type + \"' message: \", msg);\n",
       "                callback(fig, msg);\n",
       "            } catch (e) {\n",
       "                console.log(\"Exception inside the 'handler_\" + msg_type + \"' callback:\", e, e.stack, msg);\n",
       "            }\n",
       "        }\n",
       "    };\n",
       "}\n",
       "\n",
       "// from http://stackoverflow.com/questions/1114465/getting-mouse-location-in-canvas\n",
       "mpl.findpos = function(e) {\n",
       "    //this section is from http://www.quirksmode.org/js/events_properties.html\n",
       "    var targ;\n",
       "    if (!e)\n",
       "        e = window.event;\n",
       "    if (e.target)\n",
       "        targ = e.target;\n",
       "    else if (e.srcElement)\n",
       "        targ = e.srcElement;\n",
       "    if (targ.nodeType == 3) // defeat Safari bug\n",
       "        targ = targ.parentNode;\n",
       "\n",
       "    // jQuery normalizes the pageX and pageY\n",
       "    // pageX,Y are the mouse positions relative to the document\n",
       "    // offset() returns the position of the element relative to the document\n",
       "    var x = e.pageX - $(targ).offset().left;\n",
       "    var y = e.pageY - $(targ).offset().top;\n",
       "\n",
       "    return {\"x\": x, \"y\": y};\n",
       "};\n",
       "\n",
       "/*\n",
       " * return a copy of an object with only non-object keys\n",
       " * we need this to avoid circular references\n",
       " * http://stackoverflow.com/a/24161582/3208463\n",
       " */\n",
       "function simpleKeys (original) {\n",
       "  return Object.keys(original).reduce(function (obj, key) {\n",
       "    if (typeof original[key] !== 'object')\n",
       "        obj[key] = original[key]\n",
       "    return obj;\n",
       "  }, {});\n",
       "}\n",
       "\n",
       "mpl.figure.prototype.mouse_event = function(event, name) {\n",
       "    var canvas_pos = mpl.findpos(event)\n",
       "\n",
       "    if (name === 'button_press')\n",
       "    {\n",
       "        this.canvas.focus();\n",
       "        this.canvas_div.focus();\n",
       "    }\n",
       "\n",
       "    var x = canvas_pos.x * mpl.ratio;\n",
       "    var y = canvas_pos.y * mpl.ratio;\n",
       "\n",
       "    this.send_message(name, {x: x, y: y, button: event.button,\n",
       "                             step: event.step,\n",
       "                             guiEvent: simpleKeys(event)});\n",
       "\n",
       "    /* This prevents the web browser from automatically changing to\n",
       "     * the text insertion cursor when the button is pressed.  We want\n",
       "     * to control all of the cursor setting manually through the\n",
       "     * 'cursor' event from matplotlib */\n",
       "    event.preventDefault();\n",
       "    return false;\n",
       "}\n",
       "\n",
       "mpl.figure.prototype._key_event_extra = function(event, name) {\n",
       "    // Handle any extra behaviour associated with a key event\n",
       "}\n",
       "\n",
       "mpl.figure.prototype.key_event = function(event, name) {\n",
       "\n",
       "    // Prevent repeat events\n",
       "    if (name == 'key_press')\n",
       "    {\n",
       "        if (event.which === this._key)\n",
       "            return;\n",
       "        else\n",
       "            this._key = event.which;\n",
       "    }\n",
       "    if (name == 'key_release')\n",
       "        this._key = null;\n",
       "\n",
       "    var value = '';\n",
       "    if (event.ctrlKey && event.which != 17)\n",
       "        value += \"ctrl+\";\n",
       "    if (event.altKey && event.which != 18)\n",
       "        value += \"alt+\";\n",
       "    if (event.shiftKey && event.which != 16)\n",
       "        value += \"shift+\";\n",
       "\n",
       "    value += 'k';\n",
       "    value += event.which.toString();\n",
       "\n",
       "    this._key_event_extra(event, name);\n",
       "\n",
       "    this.send_message(name, {key: value,\n",
       "                             guiEvent: simpleKeys(event)});\n",
       "    return false;\n",
       "}\n",
       "\n",
       "mpl.figure.prototype.toolbar_button_onclick = function(name) {\n",
       "    if (name == 'download') {\n",
       "        this.handle_save(this, null);\n",
       "    } else {\n",
       "        this.send_message(\"toolbar_button\", {name: name});\n",
       "    }\n",
       "};\n",
       "\n",
       "mpl.figure.prototype.toolbar_button_onmouseover = function(tooltip) {\n",
       "    this.message.textContent = tooltip;\n",
       "};\n",
       "mpl.toolbar_items = [[\"Home\", \"Reset original view\", \"fa fa-home icon-home\", \"home\"], [\"Back\", \"Back to previous view\", \"fa fa-arrow-left icon-arrow-left\", \"back\"], [\"Forward\", \"Forward to next view\", \"fa fa-arrow-right icon-arrow-right\", \"forward\"], [\"\", \"\", \"\", \"\"], [\"Pan\", \"Pan axes with left mouse, zoom with right\", \"fa fa-arrows icon-move\", \"pan\"], [\"Zoom\", \"Zoom to rectangle\", \"fa fa-square-o icon-check-empty\", \"zoom\"], [\"\", \"\", \"\", \"\"], [\"Download\", \"Download plot\", \"fa fa-floppy-o icon-save\", \"download\"]];\n",
       "\n",
       "mpl.extensions = [\"eps\", \"jpeg\", \"pdf\", \"png\", \"ps\", \"raw\", \"svg\", \"tif\"];\n",
       "\n",
       "mpl.default_extension = \"png\";var comm_websocket_adapter = function(comm) {\n",
       "    // Create a \"websocket\"-like object which calls the given IPython comm\n",
       "    // object with the appropriate methods. Currently this is a non binary\n",
       "    // socket, so there is still some room for performance tuning.\n",
       "    var ws = {};\n",
       "\n",
       "    ws.close = function() {\n",
       "        comm.close()\n",
       "    };\n",
       "    ws.send = function(m) {\n",
       "        //console.log('sending', m);\n",
       "        comm.send(m);\n",
       "    };\n",
       "    // Register the callback with on_msg.\n",
       "    comm.on_msg(function(msg) {\n",
       "        //console.log('receiving', msg['content']['data'], msg);\n",
       "        // Pass the mpl event to the overridden (by mpl) onmessage function.\n",
       "        ws.onmessage(msg['content']['data'])\n",
       "    });\n",
       "    return ws;\n",
       "}\n",
       "\n",
       "mpl.mpl_figure_comm = function(comm, msg) {\n",
       "    // This is the function which gets called when the mpl process\n",
       "    // starts-up an IPython Comm through the \"matplotlib\" channel.\n",
       "\n",
       "    var id = msg.content.data.id;\n",
       "    // Get hold of the div created by the display call when the Comm\n",
       "    // socket was opened in Python.\n",
       "    var element = $(\"#\" + id);\n",
       "    var ws_proxy = comm_websocket_adapter(comm)\n",
       "\n",
       "    function ondownload(figure, format) {\n",
       "        window.open(figure.imageObj.src);\n",
       "    }\n",
       "\n",
       "    var fig = new mpl.figure(id, ws_proxy,\n",
       "                           ondownload,\n",
       "                           element.get(0));\n",
       "\n",
       "    // Call onopen now - mpl needs it, as it is assuming we've passed it a real\n",
       "    // web socket which is closed, not our websocket->open comm proxy.\n",
       "    ws_proxy.onopen();\n",
       "\n",
       "    fig.parent_element = element.get(0);\n",
       "    fig.cell_info = mpl.find_output_cell(\"<div id='\" + id + \"'></div>\");\n",
       "    if (!fig.cell_info) {\n",
       "        console.error(\"Failed to find cell for figure\", id, fig);\n",
       "        return;\n",
       "    }\n",
       "\n",
       "    var output_index = fig.cell_info[2]\n",
       "    var cell = fig.cell_info[0];\n",
       "\n",
       "};\n",
       "\n",
       "mpl.figure.prototype.handle_close = function(fig, msg) {\n",
       "    var width = fig.canvas.width/mpl.ratio\n",
       "    fig.root.unbind('remove')\n",
       "\n",
       "    // Update the output cell to use the data from the current canvas.\n",
       "    fig.push_to_output();\n",
       "    var dataURL = fig.canvas.toDataURL();\n",
       "    // Re-enable the keyboard manager in IPython - without this line, in FF,\n",
       "    // the notebook keyboard shortcuts fail.\n",
       "    IPython.keyboard_manager.enable()\n",
       "    $(fig.parent_element).html('<img src=\"' + dataURL + '\" width=\"' + width + '\">');\n",
       "    fig.close_ws(fig, msg);\n",
       "}\n",
       "\n",
       "mpl.figure.prototype.close_ws = function(fig, msg){\n",
       "    fig.send_message('closing', msg);\n",
       "    // fig.ws.close()\n",
       "}\n",
       "\n",
       "mpl.figure.prototype.push_to_output = function(remove_interactive) {\n",
       "    // Turn the data on the canvas into data in the output cell.\n",
       "    var width = this.canvas.width/mpl.ratio\n",
       "    var dataURL = this.canvas.toDataURL();\n",
       "    this.cell_info[1]['text/html'] = '<img src=\"' + dataURL + '\" width=\"' + width + '\">';\n",
       "}\n",
       "\n",
       "mpl.figure.prototype.updated_canvas_event = function() {\n",
       "    // Tell IPython that the notebook contents must change.\n",
       "    IPython.notebook.set_dirty(true);\n",
       "    this.send_message(\"ack\", {});\n",
       "    var fig = this;\n",
       "    // Wait a second, then push the new image to the DOM so\n",
       "    // that it is saved nicely (might be nice to debounce this).\n",
       "    setTimeout(function () { fig.push_to_output() }, 1000);\n",
       "}\n",
       "\n",
       "mpl.figure.prototype._init_toolbar = function() {\n",
       "    var fig = this;\n",
       "\n",
       "    var nav_element = $('<div/>');\n",
       "    nav_element.attr('style', 'width: 100%');\n",
       "    this.root.append(nav_element);\n",
       "\n",
       "    // Define a callback function for later on.\n",
       "    function toolbar_event(event) {\n",
       "        return fig.toolbar_button_onclick(event['data']);\n",
       "    }\n",
       "    function toolbar_mouse_event(event) {\n",
       "        return fig.toolbar_button_onmouseover(event['data']);\n",
       "    }\n",
       "\n",
       "    for(var toolbar_ind in mpl.toolbar_items){\n",
       "        var name = mpl.toolbar_items[toolbar_ind][0];\n",
       "        var tooltip = mpl.toolbar_items[toolbar_ind][1];\n",
       "        var image = mpl.toolbar_items[toolbar_ind][2];\n",
       "        var method_name = mpl.toolbar_items[toolbar_ind][3];\n",
       "\n",
       "        if (!name) { continue; };\n",
       "\n",
       "        var button = $('<button class=\"btn btn-default\" href=\"#\" title=\"' + name + '\"><i class=\"fa ' + image + ' fa-lg\"></i></button>');\n",
       "        button.click(method_name, toolbar_event);\n",
       "        button.mouseover(tooltip, toolbar_mouse_event);\n",
       "        nav_element.append(button);\n",
       "    }\n",
       "\n",
       "    // Add the status bar.\n",
       "    var status_bar = $('<span class=\"mpl-message\" style=\"text-align:right; float: right;\"/>');\n",
       "    nav_element.append(status_bar);\n",
       "    this.message = status_bar[0];\n",
       "\n",
       "    // Add the close button to the window.\n",
       "    var buttongrp = $('<div class=\"btn-group inline pull-right\"></div>');\n",
       "    var button = $('<button class=\"btn btn-mini btn-primary\" href=\"#\" title=\"Stop Interaction\"><i class=\"fa fa-power-off icon-remove icon-large\"></i></button>');\n",
       "    button.click(function (evt) { fig.handle_close(fig, {}); } );\n",
       "    button.mouseover('Stop Interaction', toolbar_mouse_event);\n",
       "    buttongrp.append(button);\n",
       "    var titlebar = this.root.find($('.ui-dialog-titlebar'));\n",
       "    titlebar.prepend(buttongrp);\n",
       "}\n",
       "\n",
       "mpl.figure.prototype._root_extra_style = function(el){\n",
       "    var fig = this\n",
       "    el.on(\"remove\", function(){\n",
       "\tfig.close_ws(fig, {});\n",
       "    });\n",
       "}\n",
       "\n",
       "mpl.figure.prototype._canvas_extra_style = function(el){\n",
       "    // this is important to make the div 'focusable\n",
       "    el.attr('tabindex', 0)\n",
       "    // reach out to IPython and tell the keyboard manager to turn it's self\n",
       "    // off when our div gets focus\n",
       "\n",
       "    // location in version 3\n",
       "    if (IPython.notebook.keyboard_manager) {\n",
       "        IPython.notebook.keyboard_manager.register_events(el);\n",
       "    }\n",
       "    else {\n",
       "        // location in version 2\n",
       "        IPython.keyboard_manager.register_events(el);\n",
       "    }\n",
       "\n",
       "}\n",
       "\n",
       "mpl.figure.prototype._key_event_extra = function(event, name) {\n",
       "    var manager = IPython.notebook.keyboard_manager;\n",
       "    if (!manager)\n",
       "        manager = IPython.keyboard_manager;\n",
       "\n",
       "    // Check for shift+enter\n",
       "    if (event.shiftKey && event.which == 13) {\n",
       "        this.canvas_div.blur();\n",
       "        // select the cell after this one\n",
       "        var index = IPython.notebook.find_cell_index(this.cell_info[0]);\n",
       "        IPython.notebook.select(index + 1);\n",
       "    }\n",
       "}\n",
       "\n",
       "mpl.figure.prototype.handle_save = function(fig, msg) {\n",
       "    fig.ondownload(fig, null);\n",
       "}\n",
       "\n",
       "\n",
       "mpl.find_output_cell = function(html_output) {\n",
       "    // Return the cell and output element which can be found *uniquely* in the notebook.\n",
       "    // Note - this is a bit hacky, but it is done because the \"notebook_saving.Notebook\"\n",
       "    // IPython event is triggered only after the cells have been serialised, which for\n",
       "    // our purposes (turning an active figure into a static one), is too late.\n",
       "    var cells = IPython.notebook.get_cells();\n",
       "    var ncells = cells.length;\n",
       "    for (var i=0; i<ncells; i++) {\n",
       "        var cell = cells[i];\n",
       "        if (cell.cell_type === 'code'){\n",
       "            for (var j=0; j<cell.output_area.outputs.length; j++) {\n",
       "                var data = cell.output_area.outputs[j];\n",
       "                if (data.data) {\n",
       "                    // IPython >= 3 moved mimebundle to data attribute of output\n",
       "                    data = data.data;\n",
       "                }\n",
       "                if (data['text/html'] == html_output) {\n",
       "                    return [cell, data, j];\n",
       "                }\n",
       "            }\n",
       "        }\n",
       "    }\n",
       "}\n",
       "\n",
       "// Register the function which deals with the matplotlib target/channel.\n",
       "// The kernel may be null if the page has been refreshed.\n",
       "if (IPython.notebook.kernel != null) {\n",
       "    IPython.notebook.kernel.comm_manager.register_target('matplotlib', mpl.mpl_figure_comm);\n",
       "}\n"
      ],
      "text/plain": [
       "<IPython.core.display.Javascript object>"
      ]
     },
     "metadata": {},
     "output_type": "display_data"
    },
    {
     "data": {
      "text/html": [
       "<img src=\"data:image/png;base64,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\" width=\"1000\">"
      ],
      "text/plain": [
       "<IPython.core.display.HTML object>"
      ]
     },
     "metadata": {},
     "output_type": "display_data"
    }
   ],
   "source": [
    "ax, tax, lax, lines = dual_train_plots()\n",
    "fig = ax.figure\n",
    "plt.tight_layout()\n",
    "# This gets built up during the run - do not rerun this cell\n",
    "results = pd.DataFrame([], columns=Results._fields)"
   ]
  },
  {
   "cell_type": "code",
   "execution_count": null,
   "metadata": {
    "scrolled": false
   },
   "outputs": [
    {
     "name": "stdout",
     "output_type": "stream",
     "text": [
      "for model:  ACN_3_P_10L_4S_BN(\n",
      "  (conv1): Conv1d(1, 20, kernel_size=(25,), stride=(1,), padding=(12,))\n",
      "  (conv2): Conv1d(20, 10, kernel_size=(15,), stride=(1,), padding=(7,))\n",
      "  (conv3): Conv1d(30, 10, kernel_size=(15,), stride=(1,), padding=(7,))\n",
      "  (conv4): Conv1d(10, 10, kernel_size=(15,), stride=(1,), padding=(7,))\n",
      "  (conv5): Conv1d(20, 10, kernel_size=(15,), stride=(1,), padding=(7,))\n",
      "  (conv6): Conv1d(10, 10, kernel_size=(15,), stride=(1,), padding=(7,))\n",
      "  (conv7): Conv1d(20, 7, kernel_size=(5,), stride=(1,), padding=(2,))\n",
      "  (conv8): Conv1d(7, 3, kernel_size=(5,), stride=(1,), padding=(2,))\n",
      "  (conv9): Conv1d(10, 1, kernel_size=(5,), stride=(1,), padding=(2,))\n",
      "  (finalFilter): Conv1d(1, 1, kernel_size=(91,), stride=(1,), padding=(45,))\n",
      "  (ppConv1): Conv1d(2, 20, kernel_size=(25,), stride=(1,), padding=(12,))\n",
      "  (ppConv2): Conv1d(20, 10, kernel_size=(15,), stride=(1,), padding=(7,))\n",
      "  (ppConv3): Conv1d(10, 1, kernel_size=(15,), stride=(1,), padding=(7,))\n",
      "  (ppFC): Linear(in_features=4000, out_features=4000, bias=True)\n",
      "  (conv1dropout): Dropout(p=0.15, inplace=False)\n",
      "  (conv2dropout): Dropout(p=0.15, inplace=False)\n",
      "  (conv3dropout): Dropout(p=0.15, inplace=False)\n",
      "  (conv4dropout): Dropout(p=0.15, inplace=False)\n",
      "  (conv5dropout): Dropout(p=0.15, inplace=False)\n",
      "  (conv6dropout): Dropout(p=0.15, inplace=False)\n",
      "  (conv7dropout): Dropout(p=0.15, inplace=False)\n",
      "  (conv8dropout): Dropout(p=0.15, inplace=False)\n",
      "  (conv9dropout): Dropout(p=0.15, inplace=False)\n",
      "  (bn1): BatchNorm1d(20, eps=1e-05, momentum=0.1, affine=True, track_running_stats=True)\n",
      "  (bn2): BatchNorm1d(10, eps=1e-05, momentum=0.1, affine=True, track_running_stats=True)\n",
      "  (bn3): BatchNorm1d(10, eps=1e-05, momentum=0.1, affine=True, track_running_stats=True)\n",
      "  (bn4): BatchNorm1d(10, eps=1e-05, momentum=0.1, affine=True, track_running_stats=True)\n",
      "  (bn5): BatchNorm1d(10, eps=1e-05, momentum=0.1, affine=True, track_running_stats=True)\n",
      "  (bn6): BatchNorm1d(10, eps=1e-05, momentum=0.1, affine=True, track_running_stats=True)\n",
      "  (bn7): BatchNorm1d(7, eps=1e-05, momentum=0.1, affine=True, track_running_stats=True)\n",
      "  (bn8): BatchNorm1d(3, eps=1e-05, momentum=0.1, affine=True, track_running_stats=True)\n",
      "  (bn9): BatchNorm1d(1, eps=1e-05, momentum=0.1, affine=True, track_running_stats=True)\n",
      ")\n",
      "epoch_start 1720\n",
      "batch_size 128\n",
      "epochs 1500\n",
      "lr 1e-07\n",
      "Number of batches: train = 1250, val = 157\n"
     ]
    },
    {
     "name": "stderr",
     "output_type": "stream",
     "text": [
      "/home/michael24peters/pv-finder/notebooks/model/training.py:95: TqdmDeprecationWarning: This function will be removed in tqdm==5.0.0\n",
      "Please use `tqdm.notebook.tqdm` instead of `tqdm.tqdm_notebook`\n",
      "  file=sys.stderr,\n"
     ]
    },
    {
     "data": {
      "application/vnd.jupyter.widget-view+json": {
       "model_id": "6d2e9301d54440b6b94ac08377ab68c2",
       "version_major": 2,
       "version_minor": 0
      },
      "text/plain": [
       "HBox(children=(FloatProgress(value=0.0, description='Epochs', layout=Layout(flex='2'), max=1500.0, style=Progr…"
      ]
     },
     "metadata": {},
     "output_type": "display_data"
    },
    {
     "data": {
      "application/vnd.jupyter.widget-view+json": {
       "model_id": "",
       "version_major": 2,
       "version_minor": 0
      },
      "text/plain": [
       "HBox(children=(FloatProgress(value=0.0, description='Training', layout=Layout(flex='2'), max=1250.0, style=Pro…"
      ]
     },
     "metadata": {},
     "output_type": "display_data"
    },
    {
     "name": "stdout",
     "output_type": "stream",
     "text": [
      "Epoch 1720: train=8.79163, val=8.63358, took 72.896 s\n",
      "  Validation Found 101601 of 108007, added 5319 (eff 94.07%) (0.266 FP/event)\n",
      "Result epoch:  1720\n",
      "Average Eff:  0\n",
      "Average FP Rate:  0\n"
     ]
    },
    {
     "data": {
      "application/vnd.jupyter.widget-view+json": {
       "model_id": "",
       "version_major": 2,
       "version_minor": 0
      },
      "text/plain": [
       "HBox(children=(FloatProgress(value=0.0, description='Training', layout=Layout(flex='2'), max=1250.0, style=Pro…"
      ]
     },
     "metadata": {},
     "output_type": "display_data"
    },
    {
     "name": "stdout",
     "output_type": "stream",
     "text": [
      "Epoch 1721: train=8.78521, val=8.63729, took 72.193 s\n",
      "  Validation Found 101664 of 108007, added 5443 (eff 94.13%) (0.272 FP/event)\n",
      "Result epoch:  1721\n",
      "Average Eff:  0\n",
      "Average FP Rate:  0\n"
     ]
    },
    {
     "data": {
      "application/vnd.jupyter.widget-view+json": {
       "model_id": "",
       "version_major": 2,
       "version_minor": 0
      },
      "text/plain": [
       "HBox(children=(FloatProgress(value=0.0, description='Training', layout=Layout(flex='2'), max=1250.0, style=Pro…"
      ]
     },
     "metadata": {},
     "output_type": "display_data"
    },
    {
     "name": "stdout",
     "output_type": "stream",
     "text": [
      "Epoch 1722: train=8.78351, val=8.62313, took 72.395 s\n",
      "  Validation Found 101654 of 108007, added 5412 (eff 94.12%) (0.271 FP/event)\n",
      "Result epoch:  1722\n",
      "Average Eff:  0\n",
      "Average FP Rate:  0\n"
     ]
    },
    {
     "data": {
      "application/vnd.jupyter.widget-view+json": {
       "model_id": "",
       "version_major": 2,
       "version_minor": 0
      },
      "text/plain": [
       "HBox(children=(FloatProgress(value=0.0, description='Training', layout=Layout(flex='2'), max=1250.0, style=Pro…"
      ]
     },
     "metadata": {},
     "output_type": "display_data"
    },
    {
     "name": "stdout",
     "output_type": "stream",
     "text": [
      "Epoch 1723: train=8.78744, val=8.63162, took 72.09 s\n",
      "  Validation Found 101627 of 108007, added 5350 (eff 94.09%) (0.267 FP/event)\n",
      "Result epoch:  1723\n",
      "Average Eff:  0\n",
      "Average FP Rate:  0\n"
     ]
    },
    {
     "data": {
      "application/vnd.jupyter.widget-view+json": {
       "model_id": "",
       "version_major": 2,
       "version_minor": 0
      },
      "text/plain": [
       "HBox(children=(FloatProgress(value=0.0, description='Training', layout=Layout(flex='2'), max=1250.0, style=Pro…"
      ]
     },
     "metadata": {},
     "output_type": "display_data"
    },
    {
     "name": "stdout",
     "output_type": "stream",
     "text": [
      "Epoch 1724: train=8.78449, val=8.62909, took 72.066 s\n",
      "  Validation Found 101719 of 108007, added 5507 (eff 94.18%) (0.275 FP/event)\n",
      "Result epoch:  1724\n",
      "Average Eff:  0\n",
      "Average FP Rate:  0\n"
     ]
    },
    {
     "data": {
      "application/vnd.jupyter.widget-view+json": {
       "model_id": "",
       "version_major": 2,
       "version_minor": 0
      },
      "text/plain": [
       "HBox(children=(FloatProgress(value=0.0, description='Training', layout=Layout(flex='2'), max=1250.0, style=Pro…"
      ]
     },
     "metadata": {},
     "output_type": "display_data"
    },
    {
     "name": "stdout",
     "output_type": "stream",
     "text": [
      "Epoch 1725: train=8.78379, val=8.62378, took 72.723 s\n",
      "  Validation Found 101649 of 108007, added 5393 (eff 94.11%) (0.27 FP/event)\n",
      "Result epoch:  1725\n",
      "Average Eff:  0\n",
      "Average FP Rate:  0\n"
     ]
    },
    {
     "data": {
      "application/vnd.jupyter.widget-view+json": {
       "model_id": "",
       "version_major": 2,
       "version_minor": 0
      },
      "text/plain": [
       "HBox(children=(FloatProgress(value=0.0, description='Training', layout=Layout(flex='2'), max=1250.0, style=Pro…"
      ]
     },
     "metadata": {},
     "output_type": "display_data"
    },
    {
     "name": "stdout",
     "output_type": "stream",
     "text": [
      "Epoch 1726: train=8.78697, val=8.62715, took 71.6 s\n",
      "  Validation Found 101659 of 108007, added 5421 (eff 94.12%) (0.271 FP/event)\n",
      "Result epoch:  1726\n",
      "Average Eff:  0\n",
      "Average FP Rate:  0\n"
     ]
    },
    {
     "data": {
      "application/vnd.jupyter.widget-view+json": {
       "model_id": "",
       "version_major": 2,
       "version_minor": 0
      },
      "text/plain": [
       "HBox(children=(FloatProgress(value=0.0, description='Training', layout=Layout(flex='2'), max=1250.0, style=Pro…"
      ]
     },
     "metadata": {},
     "output_type": "display_data"
    },
    {
     "name": "stdout",
     "output_type": "stream",
     "text": [
      "Epoch 1727: train=8.78854, val=8.63849, took 71.835 s\n",
      "  Validation Found 101651 of 108007, added 5400 (eff 94.12%) (0.27 FP/event)\n",
      "Result epoch:  1727\n",
      "Average Eff:  0\n",
      "Average FP Rate:  0\n"
     ]
    },
    {
     "data": {
      "application/vnd.jupyter.widget-view+json": {
       "model_id": "",
       "version_major": 2,
       "version_minor": 0
      },
      "text/plain": [
       "HBox(children=(FloatProgress(value=0.0, description='Training', layout=Layout(flex='2'), max=1250.0, style=Pro…"
      ]
     },
     "metadata": {},
     "output_type": "display_data"
    },
    {
     "name": "stdout",
     "output_type": "stream",
     "text": [
      "Epoch 1728: train=8.78392, val=8.62192, took 71.906 s\n",
      "  Validation Found 101648 of 108007, added 5377 (eff 94.11%) (0.269 FP/event)\n",
      "Result epoch:  1728\n",
      "Average Eff:  0\n",
      "Average FP Rate:  0\n"
     ]
    },
    {
     "data": {
      "application/vnd.jupyter.widget-view+json": {
       "model_id": "",
       "version_major": 2,
       "version_minor": 0
      },
      "text/plain": [
       "HBox(children=(FloatProgress(value=0.0, description='Training', layout=Layout(flex='2'), max=1250.0, style=Pro…"
      ]
     },
     "metadata": {},
     "output_type": "display_data"
    },
    {
     "name": "stdout",
     "output_type": "stream",
     "text": [
      "Epoch 1729: train=8.78456, val=8.6244, took 71.834 s\n",
      "  Validation Found 101680 of 108007, added 5436 (eff 94.14%) (0.272 FP/event)\n",
      "Result epoch:  1729\n",
      "Average Eff:  0\n",
      "Average FP Rate:  0\n"
     ]
    },
    {
     "data": {
      "application/vnd.jupyter.widget-view+json": {
       "model_id": "",
       "version_major": 2,
       "version_minor": 0
      },
      "text/plain": [
       "HBox(children=(FloatProgress(value=0.0, description='Training', layout=Layout(flex='2'), max=1250.0, style=Pro…"
      ]
     },
     "metadata": {},
     "output_type": "display_data"
    },
    {
     "name": "stdout",
     "output_type": "stream",
     "text": [
      "Epoch 1730: train=8.78229, val=8.62153, took 71.082 s\n",
      "  Validation Found 101770 of 108007, added 5616 (eff 94.23%) (0.281 FP/event)\n",
      "Result epoch:  1730\n",
      "Average Eff:  0\n",
      "Average FP Rate:  0\n"
     ]
    },
    {
     "data": {
      "application/vnd.jupyter.widget-view+json": {
       "model_id": "",
       "version_major": 2,
       "version_minor": 0
      },
      "text/plain": [
       "HBox(children=(FloatProgress(value=0.0, description='Training', layout=Layout(flex='2'), max=1250.0, style=Pro…"
      ]
     },
     "metadata": {},
     "output_type": "display_data"
    },
    {
     "name": "stdout",
     "output_type": "stream",
     "text": [
      "Epoch 1731: train=8.78665, val=8.62307, took 72.111 s\n",
      "  Validation Found 101689 of 108007, added 5459 (eff 94.15%) (0.273 FP/event)\n",
      "Result epoch:  1731\n",
      "Average Eff:  0\n",
      "Average FP Rate:  0\n"
     ]
    },
    {
     "data": {
      "application/vnd.jupyter.widget-view+json": {
       "model_id": "",
       "version_major": 2,
       "version_minor": 0
      },
      "text/plain": [
       "HBox(children=(FloatProgress(value=0.0, description='Training', layout=Layout(flex='2'), max=1250.0, style=Pro…"
      ]
     },
     "metadata": {},
     "output_type": "display_data"
    },
    {
     "name": "stdout",
     "output_type": "stream",
     "text": [
      "Epoch 1732: train=8.78593, val=8.62986, took 70.617 s\n",
      "  Validation Found 101739 of 108007, added 5532 (eff 94.20%) (0.277 FP/event)\n",
      "Result epoch:  1732\n",
      "Average Eff:  0\n",
      "Average FP Rate:  0\n"
     ]
    },
    {
     "data": {
      "application/vnd.jupyter.widget-view+json": {
       "model_id": "",
       "version_major": 2,
       "version_minor": 0
      },
      "text/plain": [
       "HBox(children=(FloatProgress(value=0.0, description='Training', layout=Layout(flex='2'), max=1250.0, style=Pro…"
      ]
     },
     "metadata": {},
     "output_type": "display_data"
    },
    {
     "name": "stdout",
     "output_type": "stream",
     "text": [
      "Epoch 1733: train=8.78556, val=8.6322, took 72.148 s\n",
      "  Validation Found 101697 of 108007, added 5470 (eff 94.16%) (0.273 FP/event)\n",
      "Result epoch:  1733\n",
      "Average Eff:  0\n",
      "Average FP Rate:  0\n"
     ]
    },
    {
     "data": {
      "application/vnd.jupyter.widget-view+json": {
       "model_id": "",
       "version_major": 2,
       "version_minor": 0
      },
      "text/plain": [
       "HBox(children=(FloatProgress(value=0.0, description='Training', layout=Layout(flex='2'), max=1250.0, style=Pro…"
      ]
     },
     "metadata": {},
     "output_type": "display_data"
    },
    {
     "name": "stdout",
     "output_type": "stream",
     "text": [
      "Epoch 1734: train=8.78305, val=8.63195, took 72.301 s\n",
      "  Validation Found 101677 of 108007, added 5416 (eff 94.14%) (0.271 FP/event)\n",
      "Result epoch:  1734\n",
      "Average Eff:  0\n",
      "Average FP Rate:  0\n"
     ]
    },
    {
     "data": {
      "application/vnd.jupyter.widget-view+json": {
       "model_id": "",
       "version_major": 2,
       "version_minor": 0
      },
      "text/plain": [
       "HBox(children=(FloatProgress(value=0.0, description='Training', layout=Layout(flex='2'), max=1250.0, style=Pro…"
      ]
     },
     "metadata": {},
     "output_type": "display_data"
    },
    {
     "name": "stdout",
     "output_type": "stream",
     "text": [
      "Epoch 1735: train=8.78269, val=8.63257, took 71.091 s\n",
      "  Validation Found 101715 of 108007, added 5481 (eff 94.17%) (0.274 FP/event)\n",
      "Result epoch:  1735\n",
      "Average Eff:  0\n",
      "Average FP Rate:  0\n"
     ]
    },
    {
     "data": {
      "application/vnd.jupyter.widget-view+json": {
       "model_id": "",
       "version_major": 2,
       "version_minor": 0
      },
      "text/plain": [
       "HBox(children=(FloatProgress(value=0.0, description='Training', layout=Layout(flex='2'), max=1250.0, style=Pro…"
      ]
     },
     "metadata": {},
     "output_type": "display_data"
    },
    {
     "name": "stdout",
     "output_type": "stream",
     "text": [
      "Epoch 1736: train=8.7845, val=8.61863, took 71.014 s\n",
      "  Validation Found 101731 of 108007, added 5484 (eff 94.19%) (0.274 FP/event)\n",
      "Result epoch:  1736\n",
      "Average Eff:  0\n",
      "Average FP Rate:  0\n"
     ]
    },
    {
     "data": {
      "application/vnd.jupyter.widget-view+json": {
       "model_id": "",
       "version_major": 2,
       "version_minor": 0
      },
      "text/plain": [
       "HBox(children=(FloatProgress(value=0.0, description='Training', layout=Layout(flex='2'), max=1250.0, style=Pro…"
      ]
     },
     "metadata": {},
     "output_type": "display_data"
    },
    {
     "name": "stdout",
     "output_type": "stream",
     "text": [
      "Epoch 1737: train=8.78393, val=8.63142, took 71.051 s\n",
      "  Validation Found 101602 of 108007, added 5316 (eff 94.07%) (0.266 FP/event)\n",
      "Result epoch:  1737\n",
      "Average Eff:  0\n",
      "Average FP Rate:  0\n"
     ]
    },
    {
     "data": {
      "application/vnd.jupyter.widget-view+json": {
       "model_id": "",
       "version_major": 2,
       "version_minor": 0
      },
      "text/plain": [
       "HBox(children=(FloatProgress(value=0.0, description='Training', layout=Layout(flex='2'), max=1250.0, style=Pro…"
      ]
     },
     "metadata": {},
     "output_type": "display_data"
    },
    {
     "name": "stdout",
     "output_type": "stream",
     "text": [
      "Epoch 1738: train=8.7874, val=8.62521, took 70.921 s\n",
      "  Validation Found 101758 of 108007, added 5546 (eff 94.21%) (0.277 FP/event)\n",
      "Result epoch:  1738\n",
      "Average Eff:  0\n",
      "Average FP Rate:  0\n"
     ]
    },
    {
     "data": {
      "application/vnd.jupyter.widget-view+json": {
       "model_id": "",
       "version_major": 2,
       "version_minor": 0
      },
      "text/plain": [
       "HBox(children=(FloatProgress(value=0.0, description='Training', layout=Layout(flex='2'), max=1250.0, style=Pro…"
      ]
     },
     "metadata": {},
     "output_type": "display_data"
    },
    {
     "name": "stdout",
     "output_type": "stream",
     "text": [
      "Epoch 1739: train=8.78263, val=8.63215, took 70.744 s\n",
      "  Validation Found 101782 of 108007, added 5618 (eff 94.24%) (0.281 FP/event)\n",
      "Result epoch:  1739\n",
      "Average Eff:  0\n",
      "Average FP Rate:  0\n"
     ]
    },
    {
     "data": {
      "application/vnd.jupyter.widget-view+json": {
       "model_id": "",
       "version_major": 2,
       "version_minor": 0
      },
      "text/plain": [
       "HBox(children=(FloatProgress(value=0.0, description='Training', layout=Layout(flex='2'), max=1250.0, style=Pro…"
      ]
     },
     "metadata": {},
     "output_type": "display_data"
    },
    {
     "name": "stdout",
     "output_type": "stream",
     "text": [
      "Epoch 1740: train=8.79087, val=8.63049, took 71.885 s\n",
      "  Validation Found 101728 of 108007, added 5486 (eff 94.19%) (0.274 FP/event)\n",
      "Result epoch:  1740\n",
      "Average Eff:  0\n",
      "Average FP Rate:  0\n"
     ]
    },
    {
     "data": {
      "application/vnd.jupyter.widget-view+json": {
       "model_id": "",
       "version_major": 2,
       "version_minor": 0
      },
      "text/plain": [
       "HBox(children=(FloatProgress(value=0.0, description='Training', layout=Layout(flex='2'), max=1250.0, style=Pro…"
      ]
     },
     "metadata": {},
     "output_type": "display_data"
    },
    {
     "name": "stdout",
     "output_type": "stream",
     "text": [
      "Epoch 1741: train=8.78066, val=8.62252, took 72.926 s\n",
      "  Validation Found 101760 of 108007, added 5540 (eff 94.22%) (0.277 FP/event)\n",
      "Result epoch:  1741\n",
      "Average Eff:  0\n",
      "Average FP Rate:  0\n"
     ]
    },
    {
     "data": {
      "application/vnd.jupyter.widget-view+json": {
       "model_id": "",
       "version_major": 2,
       "version_minor": 0
      },
      "text/plain": [
       "HBox(children=(FloatProgress(value=0.0, description='Training', layout=Layout(flex='2'), max=1250.0, style=Pro…"
      ]
     },
     "metadata": {},
     "output_type": "display_data"
    },
    {
     "name": "stdout",
     "output_type": "stream",
     "text": [
      "Epoch 1742: train=8.78828, val=8.63281, took 71.551 s\n",
      "  Validation Found 101624 of 108007, added 5346 (eff 94.09%) (0.267 FP/event)\n",
      "Result epoch:  1742\n",
      "Average Eff:  0\n",
      "Average FP Rate:  0\n"
     ]
    },
    {
     "data": {
      "application/vnd.jupyter.widget-view+json": {
       "model_id": "",
       "version_major": 2,
       "version_minor": 0
      },
      "text/plain": [
       "HBox(children=(FloatProgress(value=0.0, description='Training', layout=Layout(flex='2'), max=1250.0, style=Pro…"
      ]
     },
     "metadata": {},
     "output_type": "display_data"
    },
    {
     "name": "stdout",
     "output_type": "stream",
     "text": [
      "Epoch 1743: train=8.7846, val=8.62017, took 71.583 s\n",
      "  Validation Found 101714 of 108007, added 5449 (eff 94.17%) (0.272 FP/event)\n",
      "Result epoch:  1743\n",
      "Average Eff:  0\n",
      "Average FP Rate:  0\n"
     ]
    },
    {
     "data": {
      "application/vnd.jupyter.widget-view+json": {
       "model_id": "",
       "version_major": 2,
       "version_minor": 0
      },
      "text/plain": [
       "HBox(children=(FloatProgress(value=0.0, description='Training', layout=Layout(flex='2'), max=1250.0, style=Pro…"
      ]
     },
     "metadata": {},
     "output_type": "display_data"
    },
    {
     "name": "stdout",
     "output_type": "stream",
     "text": [
      "Epoch 1744: train=8.78502, val=8.63502, took 70.726 s\n",
      "  Validation Found 101636 of 108007, added 5342 (eff 94.10%) (0.267 FP/event)\n",
      "Result epoch:  1744\n",
      "Average Eff:  0\n",
      "Average FP Rate:  0\n"
     ]
    },
    {
     "data": {
      "application/vnd.jupyter.widget-view+json": {
       "model_id": "",
       "version_major": 2,
       "version_minor": 0
      },
      "text/plain": [
       "HBox(children=(FloatProgress(value=0.0, description='Training', layout=Layout(flex='2'), max=1250.0, style=Pro…"
      ]
     },
     "metadata": {},
     "output_type": "display_data"
    },
    {
     "name": "stdout",
     "output_type": "stream",
     "text": [
      "Epoch 1745: train=8.78354, val=8.62968, took 70.746 s\n",
      "  Validation Found 101726 of 108007, added 5476 (eff 94.18%) (0.274 FP/event)\n",
      "Result epoch:  1745\n",
      "Average Eff:  0\n",
      "Average FP Rate:  0\n"
     ]
    },
    {
     "data": {
      "application/vnd.jupyter.widget-view+json": {
       "model_id": "",
       "version_major": 2,
       "version_minor": 0
      },
      "text/plain": [
       "HBox(children=(FloatProgress(value=0.0, description='Training', layout=Layout(flex='2'), max=1250.0, style=Pro…"
      ]
     },
     "metadata": {},
     "output_type": "display_data"
    },
    {
     "name": "stdout",
     "output_type": "stream",
     "text": [
      "Epoch 1746: train=8.78532, val=8.62785, took 70.565 s\n",
      "  Validation Found 101757 of 108007, added 5528 (eff 94.21%) (0.276 FP/event)\n",
      "Result epoch:  1746\n",
      "Average Eff:  0\n",
      "Average FP Rate:  0\n"
     ]
    },
    {
     "data": {
      "application/vnd.jupyter.widget-view+json": {
       "model_id": "",
       "version_major": 2,
       "version_minor": 0
      },
      "text/plain": [
       "HBox(children=(FloatProgress(value=0.0, description='Training', layout=Layout(flex='2'), max=1250.0, style=Pro…"
      ]
     },
     "metadata": {},
     "output_type": "display_data"
    },
    {
     "name": "stdout",
     "output_type": "stream",
     "text": [
      "Epoch 1747: train=8.78649, val=8.63806, took 71.029 s\n",
      "  Validation Found 101758 of 108007, added 5542 (eff 94.21%) (0.277 FP/event)\n",
      "Result epoch:  1747\n",
      "Average Eff:  0\n",
      "Average FP Rate:  0\n"
     ]
    },
    {
     "data": {
      "application/vnd.jupyter.widget-view+json": {
       "model_id": "",
       "version_major": 2,
       "version_minor": 0
      },
      "text/plain": [
       "HBox(children=(FloatProgress(value=0.0, description='Training', layout=Layout(flex='2'), max=1250.0, style=Pro…"
      ]
     },
     "metadata": {},
     "output_type": "display_data"
    },
    {
     "name": "stdout",
     "output_type": "stream",
     "text": [
      "Epoch 1748: train=8.77908, val=8.62776, took 70.858 s\n",
      "  Validation Found 101681 of 108007, added 5408 (eff 94.14%) (0.27 FP/event)\n",
      "Result epoch:  1748\n",
      "Average Eff:  0\n",
      "Average FP Rate:  0\n"
     ]
    },
    {
     "data": {
      "application/vnd.jupyter.widget-view+json": {
       "model_id": "",
       "version_major": 2,
       "version_minor": 0
      },
      "text/plain": [
       "HBox(children=(FloatProgress(value=0.0, description='Training', layout=Layout(flex='2'), max=1250.0, style=Pro…"
      ]
     },
     "metadata": {},
     "output_type": "display_data"
    },
    {
     "name": "stdout",
     "output_type": "stream",
     "text": [
      "Epoch 1749: train=8.77955, val=8.63583, took 72.111 s\n",
      "  Validation Found 101645 of 108007, added 5359 (eff 94.11%) (0.268 FP/event)\n",
      "Result epoch:  1749\n",
      "Average Eff:  0\n",
      "Average FP Rate:  0\n"
     ]
    },
    {
     "data": {
      "application/vnd.jupyter.widget-view+json": {
       "model_id": "",
       "version_major": 2,
       "version_minor": 0
      },
      "text/plain": [
       "HBox(children=(FloatProgress(value=0.0, description='Training', layout=Layout(flex='2'), max=1250.0, style=Pro…"
      ]
     },
     "metadata": {},
     "output_type": "display_data"
    },
    {
     "name": "stdout",
     "output_type": "stream",
     "text": [
      "Epoch 1750: train=8.78581, val=8.63107, took 72.629 s\n",
      "  Validation Found 101693 of 108007, added 5426 (eff 94.15%) (0.271 FP/event)\n",
      "Result epoch:  1750\n",
      "Average Eff:  0\n",
      "Average FP Rate:  0\n"
     ]
    },
    {
     "data": {
      "application/vnd.jupyter.widget-view+json": {
       "model_id": "",
       "version_major": 2,
       "version_minor": 0
      },
      "text/plain": [
       "HBox(children=(FloatProgress(value=0.0, description='Training', layout=Layout(flex='2'), max=1250.0, style=Pro…"
      ]
     },
     "metadata": {},
     "output_type": "display_data"
    },
    {
     "name": "stdout",
     "output_type": "stream",
     "text": [
      "Epoch 1751: train=8.77817, val=8.63091, took 72.862 s\n",
      "  Validation Found 101751 of 108007, added 5535 (eff 94.21%) (0.277 FP/event)\n",
      "Result epoch:  1751\n",
      "Average Eff:  0\n",
      "Average FP Rate:  0\n"
     ]
    },
    {
     "data": {
      "application/vnd.jupyter.widget-view+json": {
       "model_id": "",
       "version_major": 2,
       "version_minor": 0
      },
      "text/plain": [
       "HBox(children=(FloatProgress(value=0.0, description='Training', layout=Layout(flex='2'), max=1250.0, style=Pro…"
      ]
     },
     "metadata": {},
     "output_type": "display_data"
    },
    {
     "name": "stdout",
     "output_type": "stream",
     "text": [
      "Epoch 1752: train=8.77989, val=8.62664, took 72.307 s\n",
      "  Validation Found 101729 of 108007, added 5504 (eff 94.19%) (0.275 FP/event)\n",
      "Result epoch:  1752\n",
      "Average Eff:  0\n",
      "Average FP Rate:  0\n"
     ]
    },
    {
     "data": {
      "application/vnd.jupyter.widget-view+json": {
       "model_id": "",
       "version_major": 2,
       "version_minor": 0
      },
      "text/plain": [
       "HBox(children=(FloatProgress(value=0.0, description='Training', layout=Layout(flex='2'), max=1250.0, style=Pro…"
      ]
     },
     "metadata": {},
     "output_type": "display_data"
    },
    {
     "name": "stdout",
     "output_type": "stream",
     "text": [
      "Epoch 1753: train=8.78617, val=8.63071, took 72.533 s\n",
      "  Validation Found 101675 of 108007, added 5383 (eff 94.14%) (0.269 FP/event)\n",
      "Result epoch:  1753\n",
      "Average Eff:  0\n",
      "Average FP Rate:  0\n"
     ]
    },
    {
     "data": {
      "application/vnd.jupyter.widget-view+json": {
       "model_id": "",
       "version_major": 2,
       "version_minor": 0
      },
      "text/plain": [
       "HBox(children=(FloatProgress(value=0.0, description='Training', layout=Layout(flex='2'), max=1250.0, style=Pro…"
      ]
     },
     "metadata": {},
     "output_type": "display_data"
    },
    {
     "name": "stdout",
     "output_type": "stream",
     "text": [
      "Epoch 1754: train=8.78166, val=8.62312, took 72.553 s\n",
      "  Validation Found 101715 of 108007, added 5456 (eff 94.17%) (0.273 FP/event)\n",
      "Result epoch:  1754\n",
      "Average Eff:  0\n",
      "Average FP Rate:  0\n"
     ]
    },
    {
     "data": {
      "application/vnd.jupyter.widget-view+json": {
       "model_id": "",
       "version_major": 2,
       "version_minor": 0
      },
      "text/plain": [
       "HBox(children=(FloatProgress(value=0.0, description='Training', layout=Layout(flex='2'), max=1250.0, style=Pro…"
      ]
     },
     "metadata": {},
     "output_type": "display_data"
    },
    {
     "name": "stdout",
     "output_type": "stream",
     "text": [
      "Epoch 1755: train=8.7805, val=8.62595, took 72.824 s\n",
      "  Validation Found 101711 of 108007, added 5449 (eff 94.17%) (0.272 FP/event)\n",
      "Result epoch:  1755\n",
      "Average Eff:  0\n",
      "Average FP Rate:  0\n"
     ]
    },
    {
     "data": {
      "application/vnd.jupyter.widget-view+json": {
       "model_id": "",
       "version_major": 2,
       "version_minor": 0
      },
      "text/plain": [
       "HBox(children=(FloatProgress(value=0.0, description='Training', layout=Layout(flex='2'), max=1250.0, style=Pro…"
      ]
     },
     "metadata": {},
     "output_type": "display_data"
    },
    {
     "name": "stdout",
     "output_type": "stream",
     "text": [
      "Epoch 1756: train=8.77985, val=8.62938, took 72.52 s\n",
      "  Validation Found 101679 of 108007, added 5398 (eff 94.14%) (0.27 FP/event)\n",
      "Result epoch:  1756\n",
      "Average Eff:  0\n",
      "Average FP Rate:  0\n"
     ]
    },
    {
     "data": {
      "application/vnd.jupyter.widget-view+json": {
       "model_id": "",
       "version_major": 2,
       "version_minor": 0
      },
      "text/plain": [
       "HBox(children=(FloatProgress(value=0.0, description='Training', layout=Layout(flex='2'), max=1250.0, style=Pro…"
      ]
     },
     "metadata": {},
     "output_type": "display_data"
    },
    {
     "name": "stdout",
     "output_type": "stream",
     "text": [
      "Epoch 1757: train=8.77382, val=8.62879, took 72.4 s\n",
      "  Validation Found 101750 of 108007, added 5493 (eff 94.21%) (0.275 FP/event)\n",
      "Result epoch:  1757\n",
      "Average Eff:  0\n",
      "Average FP Rate:  0\n"
     ]
    },
    {
     "data": {
      "application/vnd.jupyter.widget-view+json": {
       "model_id": "",
       "version_major": 2,
       "version_minor": 0
      },
      "text/plain": [
       "HBox(children=(FloatProgress(value=0.0, description='Training', layout=Layout(flex='2'), max=1250.0, style=Pro…"
      ]
     },
     "metadata": {},
     "output_type": "display_data"
    },
    {
     "name": "stdout",
     "output_type": "stream",
     "text": [
      "Epoch 1758: train=8.78363, val=8.62931, took 71.297 s\n",
      "  Validation Found 101670 of 108007, added 5387 (eff 94.13%) (0.269 FP/event)\n",
      "Result epoch:  1758\n",
      "Average Eff:  0\n",
      "Average FP Rate:  0\n"
     ]
    },
    {
     "data": {
      "application/vnd.jupyter.widget-view+json": {
       "model_id": "",
       "version_major": 2,
       "version_minor": 0
      },
      "text/plain": [
       "HBox(children=(FloatProgress(value=0.0, description='Training', layout=Layout(flex='2'), max=1250.0, style=Pro…"
      ]
     },
     "metadata": {},
     "output_type": "display_data"
    },
    {
     "name": "stdout",
     "output_type": "stream",
     "text": [
      "Epoch 1759: train=8.78256, val=8.62834, took 71.052 s\n",
      "  Validation Found 101638 of 108007, added 5308 (eff 94.10%) (0.265 FP/event)\n",
      "Result epoch:  1759\n",
      "Average Eff:  0\n",
      "Average FP Rate:  0\n"
     ]
    },
    {
     "data": {
      "application/vnd.jupyter.widget-view+json": {
       "model_id": "",
       "version_major": 2,
       "version_minor": 0
      },
      "text/plain": [
       "HBox(children=(FloatProgress(value=0.0, description='Training', layout=Layout(flex='2'), max=1250.0, style=Pro…"
      ]
     },
     "metadata": {},
     "output_type": "display_data"
    },
    {
     "name": "stdout",
     "output_type": "stream",
     "text": [
      "Epoch 1760: train=8.7864, val=8.62563, took 72.677 s\n",
      "  Validation Found 101671 of 108007, added 5346 (eff 94.13%) (0.267 FP/event)\n",
      "Result epoch:  1760\n",
      "Average Eff:  0\n",
      "Average FP Rate:  0\n"
     ]
    },
    {
     "data": {
      "application/vnd.jupyter.widget-view+json": {
       "model_id": "",
       "version_major": 2,
       "version_minor": 0
      },
      "text/plain": [
       "HBox(children=(FloatProgress(value=0.0, description='Training', layout=Layout(flex='2'), max=1250.0, style=Pro…"
      ]
     },
     "metadata": {},
     "output_type": "display_data"
    },
    {
     "name": "stdout",
     "output_type": "stream",
     "text": [
      "Epoch 1761: train=8.7838, val=8.63249, took 72.804 s\n",
      "  Validation Found 101734 of 108007, added 5481 (eff 94.19%) (0.274 FP/event)\n",
      "Result epoch:  1761\n",
      "Average Eff:  0\n",
      "Average FP Rate:  0\n"
     ]
    },
    {
     "data": {
      "application/vnd.jupyter.widget-view+json": {
       "model_id": "",
       "version_major": 2,
       "version_minor": 0
      },
      "text/plain": [
       "HBox(children=(FloatProgress(value=0.0, description='Training', layout=Layout(flex='2'), max=1250.0, style=Pro…"
      ]
     },
     "metadata": {},
     "output_type": "display_data"
    },
    {
     "name": "stdout",
     "output_type": "stream",
     "text": [
      "Epoch 1762: train=8.78629, val=8.63598, took 72.242 s\n",
      "  Validation Found 101621 of 108007, added 5336 (eff 94.09%) (0.267 FP/event)\n",
      "Result epoch:  1762\n",
      "Average Eff:  0\n",
      "Average FP Rate:  0\n"
     ]
    },
    {
     "data": {
      "application/vnd.jupyter.widget-view+json": {
       "model_id": "",
       "version_major": 2,
       "version_minor": 0
      },
      "text/plain": [
       "HBox(children=(FloatProgress(value=0.0, description='Training', layout=Layout(flex='2'), max=1250.0, style=Pro…"
      ]
     },
     "metadata": {},
     "output_type": "display_data"
    },
    {
     "name": "stdout",
     "output_type": "stream",
     "text": [
      "Epoch 1763: train=8.78109, val=8.63299, took 73.299 s\n",
      "  Validation Found 101702 of 108007, added 5433 (eff 94.16%) (0.272 FP/event)\n",
      "Result epoch:  1763\n",
      "Average Eff:  0\n",
      "Average FP Rate:  0\n"
     ]
    },
    {
     "data": {
      "application/vnd.jupyter.widget-view+json": {
       "model_id": "",
       "version_major": 2,
       "version_minor": 0
      },
      "text/plain": [
       "HBox(children=(FloatProgress(value=0.0, description='Training', layout=Layout(flex='2'), max=1250.0, style=Pro…"
      ]
     },
     "metadata": {},
     "output_type": "display_data"
    },
    {
     "name": "stdout",
     "output_type": "stream",
     "text": [
      "Epoch 1764: train=8.7817, val=8.63112, took 72.507 s\n",
      "  Validation Found 101718 of 108007, added 5450 (eff 94.18%) (0.272 FP/event)\n",
      "Result epoch:  1764\n",
      "Average Eff:  0\n",
      "Average FP Rate:  0\n"
     ]
    },
    {
     "data": {
      "application/vnd.jupyter.widget-view+json": {
       "model_id": "",
       "version_major": 2,
       "version_minor": 0
      },
      "text/plain": [
       "HBox(children=(FloatProgress(value=0.0, description='Training', layout=Layout(flex='2'), max=1250.0, style=Pro…"
      ]
     },
     "metadata": {},
     "output_type": "display_data"
    },
    {
     "name": "stdout",
     "output_type": "stream",
     "text": [
      "Epoch 1765: train=8.77883, val=8.63335, took 72.241 s\n",
      "  Validation Found 101717 of 108007, added 5448 (eff 94.18%) (0.272 FP/event)\n",
      "Result epoch:  1765\n",
      "Average Eff:  0\n",
      "Average FP Rate:  0\n"
     ]
    },
    {
     "data": {
      "application/vnd.jupyter.widget-view+json": {
       "model_id": "",
       "version_major": 2,
       "version_minor": 0
      },
      "text/plain": [
       "HBox(children=(FloatProgress(value=0.0, description='Training', layout=Layout(flex='2'), max=1250.0, style=Pro…"
      ]
     },
     "metadata": {},
     "output_type": "display_data"
    },
    {
     "name": "stdout",
     "output_type": "stream",
     "text": [
      "Epoch 1766: train=8.78036, val=8.63403, took 72.095 s\n",
      "  Validation Found 101715 of 108007, added 5438 (eff 94.17%) (0.272 FP/event)\n",
      "Result epoch:  1766\n",
      "Average Eff:  0\n",
      "Average FP Rate:  0\n"
     ]
    },
    {
     "data": {
      "application/vnd.jupyter.widget-view+json": {
       "model_id": "",
       "version_major": 2,
       "version_minor": 0
      },
      "text/plain": [
       "HBox(children=(FloatProgress(value=0.0, description='Training', layout=Layout(flex='2'), max=1250.0, style=Pro…"
      ]
     },
     "metadata": {},
     "output_type": "display_data"
    },
    {
     "name": "stdout",
     "output_type": "stream",
     "text": [
      "Epoch 1767: train=8.7864, val=8.62953, took 72.763 s\n",
      "  Validation Found 101777 of 108007, added 5617 (eff 94.23%) (0.281 FP/event)\n",
      "Result epoch:  1767\n",
      "Average Eff:  0\n",
      "Average FP Rate:  0\n"
     ]
    },
    {
     "data": {
      "application/vnd.jupyter.widget-view+json": {
       "model_id": "",
       "version_major": 2,
       "version_minor": 0
      },
      "text/plain": [
       "HBox(children=(FloatProgress(value=0.0, description='Training', layout=Layout(flex='2'), max=1250.0, style=Pro…"
      ]
     },
     "metadata": {},
     "output_type": "display_data"
    },
    {
     "name": "stdout",
     "output_type": "stream",
     "text": [
      "Epoch 1768: train=8.78213, val=8.6283, took 72.417 s\n",
      "  Validation Found 101676 of 108007, added 5381 (eff 94.14%) (0.269 FP/event)\n",
      "Result epoch:  1768\n",
      "Average Eff:  0\n",
      "Average FP Rate:  0\n"
     ]
    },
    {
     "data": {
      "application/vnd.jupyter.widget-view+json": {
       "model_id": "",
       "version_major": 2,
       "version_minor": 0
      },
      "text/plain": [
       "HBox(children=(FloatProgress(value=0.0, description='Training', layout=Layout(flex='2'), max=1250.0, style=Pro…"
      ]
     },
     "metadata": {},
     "output_type": "display_data"
    },
    {
     "name": "stdout",
     "output_type": "stream",
     "text": [
      "Epoch 1769: train=8.77977, val=8.63026, took 73.34 s\n",
      "  Validation Found 101715 of 108007, added 5440 (eff 94.17%) (0.272 FP/event)\n",
      "Result epoch:  1769\n",
      "Average Eff:  0\n",
      "Average FP Rate:  0\n"
     ]
    },
    {
     "data": {
      "application/vnd.jupyter.widget-view+json": {
       "model_id": "",
       "version_major": 2,
       "version_minor": 0
      },
      "text/plain": [
       "HBox(children=(FloatProgress(value=0.0, description='Training', layout=Layout(flex='2'), max=1250.0, style=Pro…"
      ]
     },
     "metadata": {},
     "output_type": "display_data"
    },
    {
     "name": "stdout",
     "output_type": "stream",
     "text": [
      "Epoch 1770: train=8.78644, val=8.6314, took 71.224 s\n",
      "  Validation Found 101676 of 108007, added 5380 (eff 94.14%) (0.269 FP/event)\n",
      "Result epoch:  1770\n",
      "Average Eff:  0\n",
      "Average FP Rate:  0\n"
     ]
    },
    {
     "data": {
      "application/vnd.jupyter.widget-view+json": {
       "model_id": "",
       "version_major": 2,
       "version_minor": 0
      },
      "text/plain": [
       "HBox(children=(FloatProgress(value=0.0, description='Training', layout=Layout(flex='2'), max=1250.0, style=Pro…"
      ]
     },
     "metadata": {},
     "output_type": "display_data"
    },
    {
     "name": "stdout",
     "output_type": "stream",
     "text": [
      "Epoch 1771: train=8.78764, val=8.62788, took 71.803 s\n",
      "  Validation Found 101764 of 108007, added 5562 (eff 94.22%) (0.278 FP/event)\n",
      "Result epoch:  1771\n",
      "Average Eff:  0\n",
      "Average FP Rate:  0\n"
     ]
    },
    {
     "data": {
      "application/vnd.jupyter.widget-view+json": {
       "model_id": "",
       "version_major": 2,
       "version_minor": 0
      },
      "text/plain": [
       "HBox(children=(FloatProgress(value=0.0, description='Training', layout=Layout(flex='2'), max=1250.0, style=Pro…"
      ]
     },
     "metadata": {},
     "output_type": "display_data"
    },
    {
     "name": "stdout",
     "output_type": "stream",
     "text": [
      "Epoch 1772: train=8.78455, val=8.63373, took 70.659 s\n",
      "  Validation Found 101734 of 108007, added 5492 (eff 94.19%) (0.275 FP/event)\n",
      "Result epoch:  1772\n",
      "Average Eff:  0\n",
      "Average FP Rate:  0\n"
     ]
    },
    {
     "data": {
      "application/vnd.jupyter.widget-view+json": {
       "model_id": "",
       "version_major": 2,
       "version_minor": 0
      },
      "text/plain": [
       "HBox(children=(FloatProgress(value=0.0, description='Training', layout=Layout(flex='2'), max=1250.0, style=Pro…"
      ]
     },
     "metadata": {},
     "output_type": "display_data"
    },
    {
     "name": "stdout",
     "output_type": "stream",
     "text": [
      "Epoch 1773: train=8.78011, val=8.62974, took 71.07 s\n",
      "  Validation Found 101736 of 108007, added 5497 (eff 94.19%) (0.275 FP/event)\n",
      "Result epoch:  1773\n",
      "Average Eff:  0\n",
      "Average FP Rate:  0\n"
     ]
    },
    {
     "data": {
      "application/vnd.jupyter.widget-view+json": {
       "model_id": "",
       "version_major": 2,
       "version_minor": 0
      },
      "text/plain": [
       "HBox(children=(FloatProgress(value=0.0, description='Training', layout=Layout(flex='2'), max=1250.0, style=Pro…"
      ]
     },
     "metadata": {},
     "output_type": "display_data"
    },
    {
     "name": "stdout",
     "output_type": "stream",
     "text": [
      "Epoch 1774: train=8.78018, val=8.63236, took 70.867 s\n",
      "  Validation Found 101731 of 108007, added 5468 (eff 94.19%) (0.273 FP/event)\n",
      "Result epoch:  1774\n",
      "Average Eff:  0\n",
      "Average FP Rate:  0\n"
     ]
    },
    {
     "data": {
      "application/vnd.jupyter.widget-view+json": {
       "model_id": "",
       "version_major": 2,
       "version_minor": 0
      },
      "text/plain": [
       "HBox(children=(FloatProgress(value=0.0, description='Training', layout=Layout(flex='2'), max=1250.0, style=Pro…"
      ]
     },
     "metadata": {},
     "output_type": "display_data"
    },
    {
     "name": "stdout",
     "output_type": "stream",
     "text": [
      "Epoch 1775: train=8.78771, val=8.62052, took 71.199 s\n",
      "  Validation Found 101700 of 108007, added 5393 (eff 94.16%) (0.27 FP/event)\n",
      "Result epoch:  1775\n",
      "Average Eff:  0\n",
      "Average FP Rate:  0\n"
     ]
    },
    {
     "data": {
      "application/vnd.jupyter.widget-view+json": {
       "model_id": "",
       "version_major": 2,
       "version_minor": 0
      },
      "text/plain": [
       "HBox(children=(FloatProgress(value=0.0, description='Training', layout=Layout(flex='2'), max=1250.0, style=Pro…"
      ]
     },
     "metadata": {},
     "output_type": "display_data"
    },
    {
     "name": "stdout",
     "output_type": "stream",
     "text": [
      "Epoch 1776: train=8.78039, val=8.6289, took 71.416 s\n",
      "  Validation Found 101735 of 108007, added 5466 (eff 94.19%) (0.273 FP/event)\n",
      "Result epoch:  1776\n",
      "Average Eff:  0\n",
      "Average FP Rate:  0\n"
     ]
    },
    {
     "data": {
      "application/vnd.jupyter.widget-view+json": {
       "model_id": "",
       "version_major": 2,
       "version_minor": 0
      },
      "text/plain": [
       "HBox(children=(FloatProgress(value=0.0, description='Training', layout=Layout(flex='2'), max=1250.0, style=Pro…"
      ]
     },
     "metadata": {},
     "output_type": "display_data"
    },
    {
     "name": "stdout",
     "output_type": "stream",
     "text": [
      "Epoch 1777: train=8.77929, val=8.63113, took 71.484 s\n",
      "  Validation Found 101728 of 108007, added 5468 (eff 94.19%) (0.273 FP/event)\n",
      "Result epoch:  1777\n",
      "Average Eff:  0\n",
      "Average FP Rate:  0\n"
     ]
    },
    {
     "data": {
      "application/vnd.jupyter.widget-view+json": {
       "model_id": "",
       "version_major": 2,
       "version_minor": 0
      },
      "text/plain": [
       "HBox(children=(FloatProgress(value=0.0, description='Training', layout=Layout(flex='2'), max=1250.0, style=Pro…"
      ]
     },
     "metadata": {},
     "output_type": "display_data"
    },
    {
     "name": "stdout",
     "output_type": "stream",
     "text": [
      "Epoch 1778: train=8.78611, val=8.62855, took 71.291 s\n",
      "  Validation Found 101672 of 108007, added 5381 (eff 94.13%) (0.269 FP/event)\n",
      "Result epoch:  1778\n",
      "Average Eff:  0\n",
      "Average FP Rate:  0\n"
     ]
    },
    {
     "data": {
      "application/vnd.jupyter.widget-view+json": {
       "model_id": "",
       "version_major": 2,
       "version_minor": 0
      },
      "text/plain": [
       "HBox(children=(FloatProgress(value=0.0, description='Training', layout=Layout(flex='2'), max=1250.0, style=Pro…"
      ]
     },
     "metadata": {},
     "output_type": "display_data"
    },
    {
     "name": "stdout",
     "output_type": "stream",
     "text": [
      "Epoch 1779: train=8.77838, val=8.62802, took 72.549 s\n",
      "  Validation Found 101666 of 108007, added 5373 (eff 94.13%) (0.269 FP/event)\n",
      "Result epoch:  1779\n",
      "Average Eff:  0\n",
      "Average FP Rate:  0\n"
     ]
    },
    {
     "data": {
      "application/vnd.jupyter.widget-view+json": {
       "model_id": "",
       "version_major": 2,
       "version_minor": 0
      },
      "text/plain": [
       "HBox(children=(FloatProgress(value=0.0, description='Training', layout=Layout(flex='2'), max=1250.0, style=Pro…"
      ]
     },
     "metadata": {},
     "output_type": "display_data"
    },
    {
     "name": "stdout",
     "output_type": "stream",
     "text": [
      "Epoch 1780: train=8.7775, val=8.63163, took 72.725 s\n",
      "  Validation Found 101668 of 108007, added 5383 (eff 94.13%) (0.269 FP/event)\n",
      "Result epoch:  1780\n",
      "Average Eff:  0\n",
      "Average FP Rate:  0\n"
     ]
    },
    {
     "data": {
      "application/vnd.jupyter.widget-view+json": {
       "model_id": "",
       "version_major": 2,
       "version_minor": 0
      },
      "text/plain": [
       "HBox(children=(FloatProgress(value=0.0, description='Training', layout=Layout(flex='2'), max=1250.0, style=Pro…"
      ]
     },
     "metadata": {},
     "output_type": "display_data"
    },
    {
     "name": "stdout",
     "output_type": "stream",
     "text": [
      "Epoch 1781: train=8.77902, val=8.63209, took 73.102 s\n",
      "  Validation Found 101652 of 108007, added 5343 (eff 94.12%) (0.267 FP/event)\n",
      "Result epoch:  1781\n",
      "Average Eff:  0\n",
      "Average FP Rate:  0\n"
     ]
    },
    {
     "data": {
      "application/vnd.jupyter.widget-view+json": {
       "model_id": "",
       "version_major": 2,
       "version_minor": 0
      },
      "text/plain": [
       "HBox(children=(FloatProgress(value=0.0, description='Training', layout=Layout(flex='2'), max=1250.0, style=Pro…"
      ]
     },
     "metadata": {},
     "output_type": "display_data"
    },
    {
     "name": "stdout",
     "output_type": "stream",
     "text": [
      "Epoch 1782: train=8.78219, val=8.63449, took 72.134 s\n",
      "  Validation Found 101683 of 108007, added 5413 (eff 94.14%) (0.271 FP/event)\n",
      "Result epoch:  1782\n",
      "Average Eff:  0\n",
      "Average FP Rate:  0\n"
     ]
    },
    {
     "data": {
      "application/vnd.jupyter.widget-view+json": {
       "model_id": "",
       "version_major": 2,
       "version_minor": 0
      },
      "text/plain": [
       "HBox(children=(FloatProgress(value=0.0, description='Training', layout=Layout(flex='2'), max=1250.0, style=Pro…"
      ]
     },
     "metadata": {},
     "output_type": "display_data"
    },
    {
     "name": "stdout",
     "output_type": "stream",
     "text": [
      "Epoch 1783: train=8.78194, val=8.63217, took 72.283 s\n",
      "  Validation Found 101704 of 108007, added 5426 (eff 94.16%) (0.271 FP/event)\n",
      "Result epoch:  1783\n",
      "Average Eff:  0\n",
      "Average FP Rate:  0\n"
     ]
    },
    {
     "data": {
      "application/vnd.jupyter.widget-view+json": {
       "model_id": "",
       "version_major": 2,
       "version_minor": 0
      },
      "text/plain": [
       "HBox(children=(FloatProgress(value=0.0, description='Training', layout=Layout(flex='2'), max=1250.0, style=Pro…"
      ]
     },
     "metadata": {},
     "output_type": "display_data"
    },
    {
     "name": "stdout",
     "output_type": "stream",
     "text": [
      "Epoch 1784: train=8.77789, val=8.63328, took 70.8 s\n",
      "  Validation Found 101739 of 108007, added 5519 (eff 94.20%) (0.276 FP/event)\n",
      "Result epoch:  1784\n",
      "Average Eff:  0\n",
      "Average FP Rate:  0\n"
     ]
    },
    {
     "data": {
      "application/vnd.jupyter.widget-view+json": {
       "model_id": "",
       "version_major": 2,
       "version_minor": 0
      },
      "text/plain": [
       "HBox(children=(FloatProgress(value=0.0, description='Training', layout=Layout(flex='2'), max=1250.0, style=Pro…"
      ]
     },
     "metadata": {},
     "output_type": "display_data"
    },
    {
     "name": "stdout",
     "output_type": "stream",
     "text": [
      "Epoch 1785: train=8.78039, val=8.63201, took 72.458 s\n",
      "  Validation Found 101715 of 108007, added 5440 (eff 94.17%) (0.272 FP/event)\n",
      "Result epoch:  1785\n",
      "Average Eff:  0\n",
      "Average FP Rate:  0\n"
     ]
    },
    {
     "data": {
      "application/vnd.jupyter.widget-view+json": {
       "model_id": "",
       "version_major": 2,
       "version_minor": 0
      },
      "text/plain": [
       "HBox(children=(FloatProgress(value=0.0, description='Training', layout=Layout(flex='2'), max=1250.0, style=Pro…"
      ]
     },
     "metadata": {},
     "output_type": "display_data"
    },
    {
     "name": "stdout",
     "output_type": "stream",
     "text": [
      "Epoch 1786: train=8.77763, val=8.6374, took 71.618 s\n",
      "  Validation Found 101774 of 108007, added 5611 (eff 94.23%) (0.281 FP/event)\n",
      "Result epoch:  1786\n",
      "Average Eff:  0\n",
      "Average FP Rate:  0\n"
     ]
    },
    {
     "data": {
      "application/vnd.jupyter.widget-view+json": {
       "model_id": "",
       "version_major": 2,
       "version_minor": 0
      },
      "text/plain": [
       "HBox(children=(FloatProgress(value=0.0, description='Training', layout=Layout(flex='2'), max=1250.0, style=Pro…"
      ]
     },
     "metadata": {},
     "output_type": "display_data"
    },
    {
     "name": "stdout",
     "output_type": "stream",
     "text": [
      "Epoch 1787: train=8.77782, val=8.62563, took 72.438 s\n",
      "  Validation Found 101726 of 108007, added 5455 (eff 94.18%) (0.273 FP/event)\n",
      "Result epoch:  1787\n",
      "Average Eff:  0\n",
      "Average FP Rate:  0\n"
     ]
    },
    {
     "data": {
      "application/vnd.jupyter.widget-view+json": {
       "model_id": "",
       "version_major": 2,
       "version_minor": 0
      },
      "text/plain": [
       "HBox(children=(FloatProgress(value=0.0, description='Training', layout=Layout(flex='2'), max=1250.0, style=Pro…"
      ]
     },
     "metadata": {},
     "output_type": "display_data"
    },
    {
     "name": "stdout",
     "output_type": "stream",
     "text": [
      "Epoch 1788: train=8.78267, val=8.6324, took 72.407 s\n",
      "  Validation Found 101749 of 108007, added 5549 (eff 94.21%) (0.277 FP/event)\n",
      "Result epoch:  1788\n",
      "Average Eff:  0\n",
      "Average FP Rate:  0\n"
     ]
    },
    {
     "data": {
      "application/vnd.jupyter.widget-view+json": {
       "model_id": "",
       "version_major": 2,
       "version_minor": 0
      },
      "text/plain": [
       "HBox(children=(FloatProgress(value=0.0, description='Training', layout=Layout(flex='2'), max=1250.0, style=Pro…"
      ]
     },
     "metadata": {},
     "output_type": "display_data"
    },
    {
     "name": "stdout",
     "output_type": "stream",
     "text": [
      "Epoch 1789: train=8.7839, val=8.63047, took 71.648 s\n",
      "  Validation Found 101697 of 108007, added 5431 (eff 94.16%) (0.272 FP/event)\n",
      "Result epoch:  1789\n",
      "Average Eff:  0\n",
      "Average FP Rate:  0\n"
     ]
    },
    {
     "data": {
      "application/vnd.jupyter.widget-view+json": {
       "model_id": "",
       "version_major": 2,
       "version_minor": 0
      },
      "text/plain": [
       "HBox(children=(FloatProgress(value=0.0, description='Training', layout=Layout(flex='2'), max=1250.0, style=Pro…"
      ]
     },
     "metadata": {},
     "output_type": "display_data"
    },
    {
     "name": "stdout",
     "output_type": "stream",
     "text": [
      "Epoch 1790: train=8.78498, val=8.63482, took 71.88 s\n",
      "  Validation Found 101781 of 108007, added 5607 (eff 94.24%) (0.28 FP/event)\n",
      "Result epoch:  1790\n",
      "Average Eff:  0\n",
      "Average FP Rate:  0\n"
     ]
    },
    {
     "data": {
      "application/vnd.jupyter.widget-view+json": {
       "model_id": "",
       "version_major": 2,
       "version_minor": 0
      },
      "text/plain": [
       "HBox(children=(FloatProgress(value=0.0, description='Training', layout=Layout(flex='2'), max=1250.0, style=Pro…"
      ]
     },
     "metadata": {},
     "output_type": "display_data"
    },
    {
     "name": "stdout",
     "output_type": "stream",
     "text": [
      "Epoch 1791: train=8.78664, val=8.62482, took 71.353 s\n",
      "  Validation Found 101691 of 108007, added 5391 (eff 94.15%) (0.27 FP/event)\n",
      "Result epoch:  1791\n",
      "Average Eff:  0\n",
      "Average FP Rate:  0\n"
     ]
    },
    {
     "data": {
      "application/vnd.jupyter.widget-view+json": {
       "model_id": "",
       "version_major": 2,
       "version_minor": 0
      },
      "text/plain": [
       "HBox(children=(FloatProgress(value=0.0, description='Training', layout=Layout(flex='2'), max=1250.0, style=Pro…"
      ]
     },
     "metadata": {},
     "output_type": "display_data"
    },
    {
     "name": "stdout",
     "output_type": "stream",
     "text": [
      "Epoch 1792: train=8.7835, val=8.63445, took 70.702 s\n",
      "  Validation Found 101581 of 108007, added 5264 (eff 94.05%) (0.263 FP/event)\n",
      "Result epoch:  1792\n",
      "Average Eff:  0\n",
      "Average FP Rate:  0\n"
     ]
    },
    {
     "data": {
      "application/vnd.jupyter.widget-view+json": {
       "model_id": "",
       "version_major": 2,
       "version_minor": 0
      },
      "text/plain": [
       "HBox(children=(FloatProgress(value=0.0, description='Training', layout=Layout(flex='2'), max=1250.0, style=Pro…"
      ]
     },
     "metadata": {},
     "output_type": "display_data"
    },
    {
     "name": "stdout",
     "output_type": "stream",
     "text": [
      "Epoch 1793: train=8.78526, val=8.62876, took 70.864 s\n",
      "  Validation Found 101730 of 108007, added 5452 (eff 94.19%) (0.273 FP/event)\n",
      "Result epoch:  1793\n",
      "Average Eff:  0\n",
      "Average FP Rate:  0\n"
     ]
    },
    {
     "data": {
      "application/vnd.jupyter.widget-view+json": {
       "model_id": "",
       "version_major": 2,
       "version_minor": 0
      },
      "text/plain": [
       "HBox(children=(FloatProgress(value=0.0, description='Training', layout=Layout(flex='2'), max=1250.0, style=Pro…"
      ]
     },
     "metadata": {},
     "output_type": "display_data"
    },
    {
     "name": "stdout",
     "output_type": "stream",
     "text": [
      "Epoch 1794: train=8.78254, val=8.64243, took 70.826 s\n",
      "  Validation Found 101786 of 108007, added 5616 (eff 94.24%) (0.281 FP/event)\n",
      "Result epoch:  1794\n",
      "Average Eff:  0\n",
      "Average FP Rate:  0\n"
     ]
    },
    {
     "data": {
      "application/vnd.jupyter.widget-view+json": {
       "model_id": "",
       "version_major": 2,
       "version_minor": 0
      },
      "text/plain": [
       "HBox(children=(FloatProgress(value=0.0, description='Training', layout=Layout(flex='2'), max=1250.0, style=Pro…"
      ]
     },
     "metadata": {},
     "output_type": "display_data"
    },
    {
     "name": "stdout",
     "output_type": "stream",
     "text": [
      "Epoch 1795: train=8.78127, val=8.63073, took 71.924 s\n",
      "  Validation Found 101713 of 108007, added 5435 (eff 94.17%) (0.272 FP/event)\n",
      "Result epoch:  1795\n",
      "Average Eff:  0\n",
      "Average FP Rate:  0\n"
     ]
    },
    {
     "data": {
      "application/vnd.jupyter.widget-view+json": {
       "model_id": "",
       "version_major": 2,
       "version_minor": 0
      },
      "text/plain": [
       "HBox(children=(FloatProgress(value=0.0, description='Training', layout=Layout(flex='2'), max=1250.0, style=Pro…"
      ]
     },
     "metadata": {},
     "output_type": "display_data"
    },
    {
     "name": "stdout",
     "output_type": "stream",
     "text": [
      "Epoch 1796: train=8.78037, val=8.62425, took 72.255 s\n",
      "  Validation Found 101724 of 108007, added 5463 (eff 94.18%) (0.273 FP/event)\n",
      "Result epoch:  1796\n",
      "Average Eff:  0\n",
      "Average FP Rate:  0\n"
     ]
    },
    {
     "data": {
      "application/vnd.jupyter.widget-view+json": {
       "model_id": "",
       "version_major": 2,
       "version_minor": 0
      },
      "text/plain": [
       "HBox(children=(FloatProgress(value=0.0, description='Training', layout=Layout(flex='2'), max=1250.0, style=Pro…"
      ]
     },
     "metadata": {},
     "output_type": "display_data"
    },
    {
     "name": "stdout",
     "output_type": "stream",
     "text": [
      "Epoch 1797: train=8.78309, val=8.62876, took 72.182 s\n",
      "  Validation Found 101725 of 108007, added 5445 (eff 94.18%) (0.272 FP/event)\n",
      "Result epoch:  1797\n",
      "Average Eff:  0\n",
      "Average FP Rate:  0\n"
     ]
    },
    {
     "data": {
      "application/vnd.jupyter.widget-view+json": {
       "model_id": "",
       "version_major": 2,
       "version_minor": 0
      },
      "text/plain": [
       "HBox(children=(FloatProgress(value=0.0, description='Training', layout=Layout(flex='2'), max=1250.0, style=Pro…"
      ]
     },
     "metadata": {},
     "output_type": "display_data"
    },
    {
     "name": "stdout",
     "output_type": "stream",
     "text": [
      "Epoch 1798: train=8.78074, val=8.63296, took 71.739 s\n",
      "  Validation Found 101729 of 108007, added 5470 (eff 94.19%) (0.273 FP/event)\n",
      "Result epoch:  1798\n",
      "Average Eff:  0\n",
      "Average FP Rate:  0\n"
     ]
    },
    {
     "data": {
      "application/vnd.jupyter.widget-view+json": {
       "model_id": "",
       "version_major": 2,
       "version_minor": 0
      },
      "text/plain": [
       "HBox(children=(FloatProgress(value=0.0, description='Training', layout=Layout(flex='2'), max=1250.0, style=Pro…"
      ]
     },
     "metadata": {},
     "output_type": "display_data"
    },
    {
     "name": "stdout",
     "output_type": "stream",
     "text": [
      "Epoch 1799: train=8.77669, val=8.63445, took 71.257 s\n",
      "  Validation Found 101655 of 108007, added 5367 (eff 94.12%) (0.268 FP/event)\n",
      "Result epoch:  1799\n",
      "Average Eff:  0\n",
      "Average FP Rate:  0\n"
     ]
    },
    {
     "data": {
      "application/vnd.jupyter.widget-view+json": {
       "model_id": "",
       "version_major": 2,
       "version_minor": 0
      },
      "text/plain": [
       "HBox(children=(FloatProgress(value=0.0, description='Training', layout=Layout(flex='2'), max=1250.0, style=Pro…"
      ]
     },
     "metadata": {},
     "output_type": "display_data"
    },
    {
     "name": "stdout",
     "output_type": "stream",
     "text": [
      "Epoch 1800: train=8.78122, val=8.63338, took 71.725 s\n",
      "  Validation Found 101600 of 108007, added 5296 (eff 94.07%) (0.265 FP/event)\n",
      "Result epoch:  1800\n",
      "Average Eff:  0\n",
      "Average FP Rate:  0\n"
     ]
    },
    {
     "data": {
      "application/vnd.jupyter.widget-view+json": {
       "model_id": "",
       "version_major": 2,
       "version_minor": 0
      },
      "text/plain": [
       "HBox(children=(FloatProgress(value=0.0, description='Training', layout=Layout(flex='2'), max=1250.0, style=Pro…"
      ]
     },
     "metadata": {},
     "output_type": "display_data"
    },
    {
     "name": "stdout",
     "output_type": "stream",
     "text": [
      "Epoch 1801: train=8.78754, val=8.62121, took 72.747 s\n",
      "  Validation Found 101729 of 108007, added 5439 (eff 94.19%) (0.272 FP/event)\n",
      "Result epoch:  1801\n",
      "Average Eff:  0\n",
      "Average FP Rate:  0\n"
     ]
    },
    {
     "data": {
      "application/vnd.jupyter.widget-view+json": {
       "model_id": "",
       "version_major": 2,
       "version_minor": 0
      },
      "text/plain": [
       "HBox(children=(FloatProgress(value=0.0, description='Training', layout=Layout(flex='2'), max=1250.0, style=Pro…"
      ]
     },
     "metadata": {},
     "output_type": "display_data"
    },
    {
     "name": "stdout",
     "output_type": "stream",
     "text": [
      "Epoch 1802: train=8.78101, val=8.64735, took 72.203 s\n",
      "  Validation Found 101590 of 108007, added 5300 (eff 94.06%) (0.265 FP/event)\n",
      "Result epoch:  1802\n",
      "Average Eff:  0\n",
      "Average FP Rate:  0\n"
     ]
    },
    {
     "data": {
      "application/vnd.jupyter.widget-view+json": {
       "model_id": "",
       "version_major": 2,
       "version_minor": 0
      },
      "text/plain": [
       "HBox(children=(FloatProgress(value=0.0, description='Training', layout=Layout(flex='2'), max=1250.0, style=Pro…"
      ]
     },
     "metadata": {},
     "output_type": "display_data"
    },
    {
     "name": "stdout",
     "output_type": "stream",
     "text": [
      "Epoch 1803: train=8.78035, val=8.62614, took 72.173 s\n",
      "  Validation Found 101762 of 108007, added 5551 (eff 94.22%) (0.278 FP/event)\n",
      "Result epoch:  1803\n",
      "Average Eff:  0\n",
      "Average FP Rate:  0\n"
     ]
    },
    {
     "data": {
      "application/vnd.jupyter.widget-view+json": {
       "model_id": "",
       "version_major": 2,
       "version_minor": 0
      },
      "text/plain": [
       "HBox(children=(FloatProgress(value=0.0, description='Training', layout=Layout(flex='2'), max=1250.0, style=Pro…"
      ]
     },
     "metadata": {},
     "output_type": "display_data"
    },
    {
     "name": "stdout",
     "output_type": "stream",
     "text": [
      "Epoch 1804: train=8.78177, val=8.63612, took 71.616 s\n",
      "  Validation Found 101705 of 108007, added 5432 (eff 94.17%) (0.272 FP/event)\n",
      "Result epoch:  1804\n",
      "Average Eff:  0\n",
      "Average FP Rate:  0\n"
     ]
    },
    {
     "data": {
      "application/vnd.jupyter.widget-view+json": {
       "model_id": "",
       "version_major": 2,
       "version_minor": 0
      },
      "text/plain": [
       "HBox(children=(FloatProgress(value=0.0, description='Training', layout=Layout(flex='2'), max=1250.0, style=Pro…"
      ]
     },
     "metadata": {},
     "output_type": "display_data"
    },
    {
     "name": "stdout",
     "output_type": "stream",
     "text": [
      "Epoch 1805: train=8.78475, val=8.63445, took 71.733 s\n",
      "  Validation Found 101769 of 108007, added 5566 (eff 94.22%) (0.278 FP/event)\n",
      "Result epoch:  1805\n",
      "Average Eff:  0\n",
      "Average FP Rate:  0\n"
     ]
    },
    {
     "data": {
      "application/vnd.jupyter.widget-view+json": {
       "model_id": "",
       "version_major": 2,
       "version_minor": 0
      },
      "text/plain": [
       "HBox(children=(FloatProgress(value=0.0, description='Training', layout=Layout(flex='2'), max=1250.0, style=Pro…"
      ]
     },
     "metadata": {},
     "output_type": "display_data"
    },
    {
     "name": "stdout",
     "output_type": "stream",
     "text": [
      "Epoch 1806: train=8.78295, val=8.63038, took 72.309 s\n",
      "  Validation Found 101698 of 108007, added 5409 (eff 94.16%) (0.27 FP/event)\n",
      "Result epoch:  1806\n",
      "Average Eff:  0\n",
      "Average FP Rate:  0\n"
     ]
    },
    {
     "data": {
      "application/vnd.jupyter.widget-view+json": {
       "model_id": "",
       "version_major": 2,
       "version_minor": 0
      },
      "text/plain": [
       "HBox(children=(FloatProgress(value=0.0, description='Training', layout=Layout(flex='2'), max=1250.0, style=Pro…"
      ]
     },
     "metadata": {},
     "output_type": "display_data"
    },
    {
     "name": "stdout",
     "output_type": "stream",
     "text": [
      "Epoch 1807: train=8.78237, val=8.62942, took 72.575 s\n",
      "  Validation Found 101715 of 108007, added 5433 (eff 94.17%) (0.272 FP/event)\n",
      "Result epoch:  1807\n",
      "Average Eff:  0\n",
      "Average FP Rate:  0\n"
     ]
    },
    {
     "data": {
      "application/vnd.jupyter.widget-view+json": {
       "model_id": "",
       "version_major": 2,
       "version_minor": 0
      },
      "text/plain": [
       "HBox(children=(FloatProgress(value=0.0, description='Training', layout=Layout(flex='2'), max=1250.0, style=Pro…"
      ]
     },
     "metadata": {},
     "output_type": "display_data"
    },
    {
     "name": "stdout",
     "output_type": "stream",
     "text": [
      "Epoch 1808: train=8.7798, val=8.62349, took 71.467 s\n",
      "  Validation Found 101710 of 108007, added 5419 (eff 94.17%) (0.271 FP/event)\n",
      "Result epoch:  1808\n",
      "Average Eff:  0\n",
      "Average FP Rate:  0\n"
     ]
    },
    {
     "data": {
      "application/vnd.jupyter.widget-view+json": {
       "model_id": "",
       "version_major": 2,
       "version_minor": 0
      },
      "text/plain": [
       "HBox(children=(FloatProgress(value=0.0, description='Training', layout=Layout(flex='2'), max=1250.0, style=Pro…"
      ]
     },
     "metadata": {},
     "output_type": "display_data"
    },
    {
     "name": "stdout",
     "output_type": "stream",
     "text": [
      "Epoch 1809: train=8.77602, val=8.62699, took 71.353 s\n",
      "  Validation Found 101718 of 108007, added 5448 (eff 94.18%) (0.272 FP/event)\n",
      "Result epoch:  1809\n",
      "Average Eff:  0\n",
      "Average FP Rate:  0\n"
     ]
    },
    {
     "data": {
      "application/vnd.jupyter.widget-view+json": {
       "model_id": "",
       "version_major": 2,
       "version_minor": 0
      },
      "text/plain": [
       "HBox(children=(FloatProgress(value=0.0, description='Training', layout=Layout(flex='2'), max=1250.0, style=Pro…"
      ]
     },
     "metadata": {},
     "output_type": "display_data"
    },
    {
     "name": "stdout",
     "output_type": "stream",
     "text": [
      "Epoch 1810: train=8.78086, val=8.62621, took 71.157 s\n",
      "  Validation Found 101788 of 108007, added 5632 (eff 94.24%) (0.282 FP/event)\n",
      "Result epoch:  1810\n",
      "Average Eff:  0\n",
      "Average FP Rate:  0\n"
     ]
    },
    {
     "data": {
      "application/vnd.jupyter.widget-view+json": {
       "model_id": "",
       "version_major": 2,
       "version_minor": 0
      },
      "text/plain": [
       "HBox(children=(FloatProgress(value=0.0, description='Training', layout=Layout(flex='2'), max=1250.0, style=Pro…"
      ]
     },
     "metadata": {},
     "output_type": "display_data"
    },
    {
     "name": "stdout",
     "output_type": "stream",
     "text": [
      "Epoch 1811: train=8.77963, val=8.63567, took 70.937 s\n",
      "  Validation Found 101657 of 108007, added 5371 (eff 94.12%) (0.269 FP/event)\n",
      "Result epoch:  1811\n",
      "Average Eff:  0\n",
      "Average FP Rate:  0\n"
     ]
    },
    {
     "data": {
      "application/vnd.jupyter.widget-view+json": {
       "model_id": "",
       "version_major": 2,
       "version_minor": 0
      },
      "text/plain": [
       "HBox(children=(FloatProgress(value=0.0, description='Training', layout=Layout(flex='2'), max=1250.0, style=Pro…"
      ]
     },
     "metadata": {},
     "output_type": "display_data"
    },
    {
     "name": "stdout",
     "output_type": "stream",
     "text": [
      "Epoch 1812: train=8.7772, val=8.6294, took 71.161 s\n",
      "  Validation Found 101800 of 108007, added 5641 (eff 94.25%) (0.282 FP/event)\n",
      "Result epoch:  1812\n",
      "Average Eff:  0\n",
      "Average FP Rate:  0\n"
     ]
    },
    {
     "data": {
      "application/vnd.jupyter.widget-view+json": {
       "model_id": "",
       "version_major": 2,
       "version_minor": 0
      },
      "text/plain": [
       "HBox(children=(FloatProgress(value=0.0, description='Training', layout=Layout(flex='2'), max=1250.0, style=Pro…"
      ]
     },
     "metadata": {},
     "output_type": "display_data"
    },
    {
     "name": "stdout",
     "output_type": "stream",
     "text": [
      "Epoch 1813: train=8.77858, val=8.63109, took 71.979 s\n",
      "  Validation Found 101683 of 108007, added 5371 (eff 94.14%) (0.269 FP/event)\n",
      "Result epoch:  1813\n",
      "Average Eff:  0\n",
      "Average FP Rate:  0\n"
     ]
    },
    {
     "data": {
      "application/vnd.jupyter.widget-view+json": {
       "model_id": "",
       "version_major": 2,
       "version_minor": 0
      },
      "text/plain": [
       "HBox(children=(FloatProgress(value=0.0, description='Training', layout=Layout(flex='2'), max=1250.0, style=Pro…"
      ]
     },
     "metadata": {},
     "output_type": "display_data"
    },
    {
     "name": "stdout",
     "output_type": "stream",
     "text": [
      "Epoch 1814: train=8.77624, val=8.62763, took 71.439 s\n",
      "  Validation Found 101772 of 108007, added 5550 (eff 94.23%) (0.277 FP/event)\n",
      "Result epoch:  1814\n",
      "Average Eff:  0\n",
      "Average FP Rate:  0\n"
     ]
    },
    {
     "data": {
      "application/vnd.jupyter.widget-view+json": {
       "model_id": "",
       "version_major": 2,
       "version_minor": 0
      },
      "text/plain": [
       "HBox(children=(FloatProgress(value=0.0, description='Training', layout=Layout(flex='2'), max=1250.0, style=Pro…"
      ]
     },
     "metadata": {},
     "output_type": "display_data"
    },
    {
     "name": "stdout",
     "output_type": "stream",
     "text": [
      "Epoch 1815: train=8.77987, val=8.63131, took 72.987 s\n",
      "  Validation Found 101740 of 108007, added 5515 (eff 94.20%) (0.276 FP/event)\n",
      "Result epoch:  1815\n",
      "Average Eff:  0\n",
      "Average FP Rate:  0\n"
     ]
    },
    {
     "data": {
      "application/vnd.jupyter.widget-view+json": {
       "model_id": "",
       "version_major": 2,
       "version_minor": 0
      },
      "text/plain": [
       "HBox(children=(FloatProgress(value=0.0, description='Training', layout=Layout(flex='2'), max=1250.0, style=Pro…"
      ]
     },
     "metadata": {},
     "output_type": "display_data"
    },
    {
     "name": "stdout",
     "output_type": "stream",
     "text": [
      "Epoch 1816: train=8.78553, val=8.62646, took 72.134 s\n",
      "  Validation Found 101732 of 108007, added 5466 (eff 94.19%) (0.273 FP/event)\n",
      "Result epoch:  1816\n",
      "Average Eff:  0\n",
      "Average FP Rate:  0\n"
     ]
    },
    {
     "data": {
      "application/vnd.jupyter.widget-view+json": {
       "model_id": "",
       "version_major": 2,
       "version_minor": 0
      },
      "text/plain": [
       "HBox(children=(FloatProgress(value=0.0, description='Training', layout=Layout(flex='2'), max=1250.0, style=Pro…"
      ]
     },
     "metadata": {},
     "output_type": "display_data"
    },
    {
     "name": "stdout",
     "output_type": "stream",
     "text": [
      "Epoch 1817: train=8.78239, val=8.62539, took 72.099 s\n",
      "  Validation Found 101617 of 108007, added 5315 (eff 94.08%) (0.266 FP/event)\n",
      "Result epoch:  1817\n",
      "Average Eff:  0\n",
      "Average FP Rate:  0\n"
     ]
    },
    {
     "data": {
      "application/vnd.jupyter.widget-view+json": {
       "model_id": "",
       "version_major": 2,
       "version_minor": 0
      },
      "text/plain": [
       "HBox(children=(FloatProgress(value=0.0, description='Training', layout=Layout(flex='2'), max=1250.0, style=Pro…"
      ]
     },
     "metadata": {},
     "output_type": "display_data"
    },
    {
     "name": "stdout",
     "output_type": "stream",
     "text": [
      "Epoch 1818: train=8.77964, val=8.6359, took 72.012 s\n",
      "  Validation Found 101713 of 108007, added 5436 (eff 94.17%) (0.272 FP/event)\n",
      "Result epoch:  1818\n",
      "Average Eff:  0\n",
      "Average FP Rate:  0\n"
     ]
    },
    {
     "data": {
      "application/vnd.jupyter.widget-view+json": {
       "model_id": "",
       "version_major": 2,
       "version_minor": 0
      },
      "text/plain": [
       "HBox(children=(FloatProgress(value=0.0, description='Training', layout=Layout(flex='2'), max=1250.0, style=Pro…"
      ]
     },
     "metadata": {},
     "output_type": "display_data"
    },
    {
     "name": "stdout",
     "output_type": "stream",
     "text": [
      "Epoch 1819: train=8.77756, val=8.62704, took 71.694 s\n",
      "  Validation Found 101755 of 108007, added 5528 (eff 94.21%) (0.276 FP/event)\n",
      "Result epoch:  1819\n",
      "Average Eff:  0\n",
      "Average FP Rate:  0\n"
     ]
    },
    {
     "data": {
      "application/vnd.jupyter.widget-view+json": {
       "model_id": "",
       "version_major": 2,
       "version_minor": 0
      },
      "text/plain": [
       "HBox(children=(FloatProgress(value=0.0, description='Training', layout=Layout(flex='2'), max=1250.0, style=Pro…"
      ]
     },
     "metadata": {},
     "output_type": "display_data"
    },
    {
     "name": "stdout",
     "output_type": "stream",
     "text": [
      "Epoch 1820: train=8.78412, val=8.63302, took 71.627 s\n",
      "  Validation Found 101648 of 108007, added 5366 (eff 94.11%) (0.268 FP/event)\n",
      "Result epoch:  1820\n",
      "Average Eff:  0\n",
      "Average FP Rate:  0\n"
     ]
    },
    {
     "data": {
      "application/vnd.jupyter.widget-view+json": {
       "model_id": "",
       "version_major": 2,
       "version_minor": 0
      },
      "text/plain": [
       "HBox(children=(FloatProgress(value=0.0, description='Training', layout=Layout(flex='2'), max=1250.0, style=Pro…"
      ]
     },
     "metadata": {},
     "output_type": "display_data"
    },
    {
     "name": "stdout",
     "output_type": "stream",
     "text": [
      "Epoch 1821: train=8.78047, val=8.63642, took 72.316 s\n",
      "  Validation Found 101639 of 108007, added 5325 (eff 94.10%) (0.266 FP/event)\n",
      "Result epoch:  1821\n",
      "Average Eff:  0\n",
      "Average FP Rate:  0\n"
     ]
    },
    {
     "data": {
      "application/vnd.jupyter.widget-view+json": {
       "model_id": "",
       "version_major": 2,
       "version_minor": 0
      },
      "text/plain": [
       "HBox(children=(FloatProgress(value=0.0, description='Training', layout=Layout(flex='2'), max=1250.0, style=Pro…"
      ]
     },
     "metadata": {},
     "output_type": "display_data"
    },
    {
     "name": "stdout",
     "output_type": "stream",
     "text": [
      "Epoch 1822: train=8.77946, val=8.63957, took 72.232 s\n",
      "  Validation Found 101531 of 108007, added 5187 (eff 94.00%) (0.259 FP/event)\n",
      "Result epoch:  1822\n",
      "Average Eff:  0\n",
      "Average FP Rate:  0\n"
     ]
    },
    {
     "data": {
      "application/vnd.jupyter.widget-view+json": {
       "model_id": "",
       "version_major": 2,
       "version_minor": 0
      },
      "text/plain": [
       "HBox(children=(FloatProgress(value=0.0, description='Training', layout=Layout(flex='2'), max=1250.0, style=Pro…"
      ]
     },
     "metadata": {},
     "output_type": "display_data"
    },
    {
     "name": "stdout",
     "output_type": "stream",
     "text": [
      "Epoch 1823: train=8.78227, val=8.62956, took 72.609 s\n",
      "  Validation Found 101709 of 108007, added 5403 (eff 94.17%) (0.27 FP/event)\n",
      "Result epoch:  1823\n",
      "Average Eff:  0\n",
      "Average FP Rate:  0\n"
     ]
    },
    {
     "data": {
      "application/vnd.jupyter.widget-view+json": {
       "model_id": "",
       "version_major": 2,
       "version_minor": 0
      },
      "text/plain": [
       "HBox(children=(FloatProgress(value=0.0, description='Training', layout=Layout(flex='2'), max=1250.0, style=Pro…"
      ]
     },
     "metadata": {},
     "output_type": "display_data"
    },
    {
     "name": "stdout",
     "output_type": "stream",
     "text": [
      "Epoch 1824: train=8.77841, val=8.6305, took 72.247 s\n",
      "  Validation Found 101737 of 108007, added 5525 (eff 94.19%) (0.276 FP/event)\n",
      "Result epoch:  1824\n",
      "Average Eff:  0\n",
      "Average FP Rate:  0\n"
     ]
    },
    {
     "data": {
      "application/vnd.jupyter.widget-view+json": {
       "model_id": "",
       "version_major": 2,
       "version_minor": 0
      },
      "text/plain": [
       "HBox(children=(FloatProgress(value=0.0, description='Training', layout=Layout(flex='2'), max=1250.0, style=Pro…"
      ]
     },
     "metadata": {},
     "output_type": "display_data"
    },
    {
     "name": "stdout",
     "output_type": "stream",
     "text": [
      "Epoch 1825: train=8.78396, val=8.62497, took 71.609 s\n",
      "  Validation Found 101752 of 108007, added 5501 (eff 94.21%) (0.275 FP/event)\n",
      "Result epoch:  1825\n",
      "Average Eff:  0\n",
      "Average FP Rate:  0\n"
     ]
    },
    {
     "data": {
      "application/vnd.jupyter.widget-view+json": {
       "model_id": "",
       "version_major": 2,
       "version_minor": 0
      },
      "text/plain": [
       "HBox(children=(FloatProgress(value=0.0, description='Training', layout=Layout(flex='2'), max=1250.0, style=Pro…"
      ]
     },
     "metadata": {},
     "output_type": "display_data"
    },
    {
     "name": "stdout",
     "output_type": "stream",
     "text": [
      "Epoch 1826: train=8.77935, val=8.62994, took 71.706 s\n",
      "  Validation Found 101647 of 108007, added 5331 (eff 94.11%) (0.267 FP/event)\n",
      "Result epoch:  1826\n",
      "Average Eff:  0\n",
      "Average FP Rate:  0\n"
     ]
    },
    {
     "data": {
      "application/vnd.jupyter.widget-view+json": {
       "model_id": "",
       "version_major": 2,
       "version_minor": 0
      },
      "text/plain": [
       "HBox(children=(FloatProgress(value=0.0, description='Training', layout=Layout(flex='2'), max=1250.0, style=Pro…"
      ]
     },
     "metadata": {},
     "output_type": "display_data"
    },
    {
     "name": "stdout",
     "output_type": "stream",
     "text": [
      "Epoch 1827: train=8.7818, val=8.63371, took 71.888 s\n",
      "  Validation Found 101666 of 108007, added 5344 (eff 94.13%) (0.267 FP/event)\n",
      "Result epoch:  1827\n",
      "Average Eff:  0\n",
      "Average FP Rate:  0\n"
     ]
    },
    {
     "data": {
      "application/vnd.jupyter.widget-view+json": {
       "model_id": "",
       "version_major": 2,
       "version_minor": 0
      },
      "text/plain": [
       "HBox(children=(FloatProgress(value=0.0, description='Training', layout=Layout(flex='2'), max=1250.0, style=Pro…"
      ]
     },
     "metadata": {},
     "output_type": "display_data"
    },
    {
     "name": "stdout",
     "output_type": "stream",
     "text": [
      "Epoch 1828: train=8.78156, val=8.63184, took 72.165 s\n",
      "  Validation Found 101756 of 108007, added 5544 (eff 94.21%) (0.277 FP/event)\n",
      "Result epoch:  1828\n",
      "Average Eff:  0\n",
      "Average FP Rate:  0\n"
     ]
    },
    {
     "data": {
      "application/vnd.jupyter.widget-view+json": {
       "model_id": "",
       "version_major": 2,
       "version_minor": 0
      },
      "text/plain": [
       "HBox(children=(FloatProgress(value=0.0, description='Training', layout=Layout(flex='2'), max=1250.0, style=Pro…"
      ]
     },
     "metadata": {},
     "output_type": "display_data"
    },
    {
     "name": "stdout",
     "output_type": "stream",
     "text": [
      "Epoch 1829: train=8.78168, val=8.63322, took 72.292 s\n",
      "  Validation Found 101736 of 108007, added 5484 (eff 94.19%) (0.274 FP/event)\n",
      "Result epoch:  1829\n",
      "Average Eff:  0\n",
      "Average FP Rate:  0\n"
     ]
    },
    {
     "data": {
      "application/vnd.jupyter.widget-view+json": {
       "model_id": "",
       "version_major": 2,
       "version_minor": 0
      },
      "text/plain": [
       "HBox(children=(FloatProgress(value=0.0, description='Training', layout=Layout(flex='2'), max=1250.0, style=Pro…"
      ]
     },
     "metadata": {},
     "output_type": "display_data"
    },
    {
     "name": "stdout",
     "output_type": "stream",
     "text": [
      "Epoch 1830: train=8.78172, val=8.6346, took 71.576 s\n",
      "  Validation Found 101669 of 108007, added 5361 (eff 94.13%) (0.268 FP/event)\n",
      "Result epoch:  1830\n",
      "Average Eff:  0\n",
      "Average FP Rate:  0\n"
     ]
    },
    {
     "data": {
      "application/vnd.jupyter.widget-view+json": {
       "model_id": "",
       "version_major": 2,
       "version_minor": 0
      },
      "text/plain": [
       "HBox(children=(FloatProgress(value=0.0, description='Training', layout=Layout(flex='2'), max=1250.0, style=Pro…"
      ]
     },
     "metadata": {},
     "output_type": "display_data"
    },
    {
     "name": "stdout",
     "output_type": "stream",
     "text": [
      "Epoch 1831: train=8.78268, val=8.62729, took 73.296 s\n",
      "  Validation Found 101792 of 108007, added 5617 (eff 94.25%) (0.281 FP/event)\n",
      "Result epoch:  1831\n",
      "Average Eff:  0\n",
      "Average FP Rate:  0\n"
     ]
    },
    {
     "data": {
      "application/vnd.jupyter.widget-view+json": {
       "model_id": "",
       "version_major": 2,
       "version_minor": 0
      },
      "text/plain": [
       "HBox(children=(FloatProgress(value=0.0, description='Training', layout=Layout(flex='2'), max=1250.0, style=Pro…"
      ]
     },
     "metadata": {},
     "output_type": "display_data"
    },
    {
     "name": "stdout",
     "output_type": "stream",
     "text": [
      "Epoch 1832: train=8.77903, val=8.62787, took 72.627 s\n",
      "  Validation Found 101726 of 108007, added 5462 (eff 94.18%) (0.273 FP/event)\n",
      "Result epoch:  1832\n",
      "Average Eff:  0\n",
      "Average FP Rate:  0\n"
     ]
    },
    {
     "data": {
      "application/vnd.jupyter.widget-view+json": {
       "model_id": "",
       "version_major": 2,
       "version_minor": 0
      },
      "text/plain": [
       "HBox(children=(FloatProgress(value=0.0, description='Training', layout=Layout(flex='2'), max=1250.0, style=Pro…"
      ]
     },
     "metadata": {},
     "output_type": "display_data"
    },
    {
     "name": "stdout",
     "output_type": "stream",
     "text": [
      "Epoch 1833: train=8.78093, val=8.6309, took 72.542 s\n",
      "  Validation Found 101636 of 108007, added 5334 (eff 94.10%) (0.267 FP/event)\n",
      "Result epoch:  1833\n",
      "Average Eff:  0\n",
      "Average FP Rate:  0\n"
     ]
    },
    {
     "data": {
      "application/vnd.jupyter.widget-view+json": {
       "model_id": "",
       "version_major": 2,
       "version_minor": 0
      },
      "text/plain": [
       "HBox(children=(FloatProgress(value=0.0, description='Training', layout=Layout(flex='2'), max=1250.0, style=Pro…"
      ]
     },
     "metadata": {},
     "output_type": "display_data"
    },
    {
     "name": "stdout",
     "output_type": "stream",
     "text": [
      "Epoch 1834: train=8.77818, val=8.62941, took 72.351 s\n",
      "  Validation Found 101725 of 108007, added 5455 (eff 94.18%) (0.273 FP/event)\n",
      "Result epoch:  1834\n",
      "Average Eff:  0\n",
      "Average FP Rate:  0\n"
     ]
    },
    {
     "data": {
      "application/vnd.jupyter.widget-view+json": {
       "model_id": "",
       "version_major": 2,
       "version_minor": 0
      },
      "text/plain": [
       "HBox(children=(FloatProgress(value=0.0, description='Training', layout=Layout(flex='2'), max=1250.0, style=Pro…"
      ]
     },
     "metadata": {},
     "output_type": "display_data"
    },
    {
     "name": "stdout",
     "output_type": "stream",
     "text": [
      "Epoch 1835: train=8.77945, val=8.62667, took 72.283 s\n",
      "  Validation Found 101671 of 108007, added 5348 (eff 94.13%) (0.267 FP/event)\n",
      "Result epoch:  1835\n",
      "Average Eff:  0\n",
      "Average FP Rate:  0\n"
     ]
    },
    {
     "data": {
      "application/vnd.jupyter.widget-view+json": {
       "model_id": "",
       "version_major": 2,
       "version_minor": 0
      },
      "text/plain": [
       "HBox(children=(FloatProgress(value=0.0, description='Training', layout=Layout(flex='2'), max=1250.0, style=Pro…"
      ]
     },
     "metadata": {},
     "output_type": "display_data"
    },
    {
     "name": "stdout",
     "output_type": "stream",
     "text": [
      "Epoch 1836: train=8.77963, val=8.62816, took 72.008 s\n",
      "  Validation Found 101618 of 108007, added 5314 (eff 94.08%) (0.266 FP/event)\n",
      "Result epoch:  1836\n",
      "Average Eff:  0\n",
      "Average FP Rate:  0\n"
     ]
    },
    {
     "data": {
      "application/vnd.jupyter.widget-view+json": {
       "model_id": "",
       "version_major": 2,
       "version_minor": 0
      },
      "text/plain": [
       "HBox(children=(FloatProgress(value=0.0, description='Training', layout=Layout(flex='2'), max=1250.0, style=Pro…"
      ]
     },
     "metadata": {},
     "output_type": "display_data"
    },
    {
     "name": "stdout",
     "output_type": "stream",
     "text": [
      "Epoch 1837: train=8.7817, val=8.63592, took 72.028 s\n",
      "  Validation Found 101708 of 108007, added 5427 (eff 94.17%) (0.271 FP/event)\n",
      "Result epoch:  1837\n",
      "Average Eff:  0\n",
      "Average FP Rate:  0\n"
     ]
    },
    {
     "data": {
      "application/vnd.jupyter.widget-view+json": {
       "model_id": "",
       "version_major": 2,
       "version_minor": 0
      },
      "text/plain": [
       "HBox(children=(FloatProgress(value=0.0, description='Training', layout=Layout(flex='2'), max=1250.0, style=Pro…"
      ]
     },
     "metadata": {},
     "output_type": "display_data"
    },
    {
     "name": "stdout",
     "output_type": "stream",
     "text": [
      "Epoch 1838: train=8.77732, val=8.63159, took 71.453 s\n",
      "  Validation Found 101773 of 108007, added 5584 (eff 94.23%) (0.279 FP/event)\n",
      "Result epoch:  1838\n",
      "Average Eff:  0\n",
      "Average FP Rate:  0\n"
     ]
    },
    {
     "data": {
      "application/vnd.jupyter.widget-view+json": {
       "model_id": "",
       "version_major": 2,
       "version_minor": 0
      },
      "text/plain": [
       "HBox(children=(FloatProgress(value=0.0, description='Training', layout=Layout(flex='2'), max=1250.0, style=Pro…"
      ]
     },
     "metadata": {},
     "output_type": "display_data"
    },
    {
     "name": "stdout",
     "output_type": "stream",
     "text": [
      "Epoch 1839: train=8.77741, val=8.62328, took 72.722 s\n",
      "  Validation Found 101625 of 108007, added 5304 (eff 94.09%) (0.265 FP/event)\n",
      "Result epoch:  1839\n",
      "Average Eff:  0\n",
      "Average FP Rate:  0\n"
     ]
    },
    {
     "data": {
      "application/vnd.jupyter.widget-view+json": {
       "model_id": "",
       "version_major": 2,
       "version_minor": 0
      },
      "text/plain": [
       "HBox(children=(FloatProgress(value=0.0, description='Training', layout=Layout(flex='2'), max=1250.0, style=Pro…"
      ]
     },
     "metadata": {},
     "output_type": "display_data"
    },
    {
     "name": "stdout",
     "output_type": "stream",
     "text": [
      "Epoch 1840: train=8.7796, val=8.63244, took 72.492 s\n",
      "  Validation Found 101691 of 108007, added 5384 (eff 94.15%) (0.269 FP/event)\n",
      "Result epoch:  1840\n",
      "Average Eff:  0\n",
      "Average FP Rate:  0\n"
     ]
    },
    {
     "data": {
      "application/vnd.jupyter.widget-view+json": {
       "model_id": "",
       "version_major": 2,
       "version_minor": 0
      },
      "text/plain": [
       "HBox(children=(FloatProgress(value=0.0, description='Training', layout=Layout(flex='2'), max=1250.0, style=Pro…"
      ]
     },
     "metadata": {},
     "output_type": "display_data"
    },
    {
     "name": "stdout",
     "output_type": "stream",
     "text": [
      "Epoch 1841: train=8.78092, val=8.63224, took 72.744 s\n",
      "  Validation Found 101618 of 108007, added 5308 (eff 94.08%) (0.265 FP/event)\n",
      "Result epoch:  1841\n",
      "Average Eff:  0\n",
      "Average FP Rate:  0\n"
     ]
    },
    {
     "data": {
      "application/vnd.jupyter.widget-view+json": {
       "model_id": "",
       "version_major": 2,
       "version_minor": 0
      },
      "text/plain": [
       "HBox(children=(FloatProgress(value=0.0, description='Training', layout=Layout(flex='2'), max=1250.0, style=Pro…"
      ]
     },
     "metadata": {},
     "output_type": "display_data"
    },
    {
     "name": "stdout",
     "output_type": "stream",
     "text": [
      "Epoch 1842: train=8.78209, val=8.63438, took 72.55 s\n",
      "  Validation Found 101792 of 108007, added 5644 (eff 94.25%) (0.282 FP/event)\n",
      "Result epoch:  1842\n",
      "Average Eff:  0\n",
      "Average FP Rate:  0\n"
     ]
    },
    {
     "data": {
      "application/vnd.jupyter.widget-view+json": {
       "model_id": "",
       "version_major": 2,
       "version_minor": 0
      },
      "text/plain": [
       "HBox(children=(FloatProgress(value=0.0, description='Training', layout=Layout(flex='2'), max=1250.0, style=Pro…"
      ]
     },
     "metadata": {},
     "output_type": "display_data"
    },
    {
     "name": "stdout",
     "output_type": "stream",
     "text": [
      "Epoch 1843: train=8.7792, val=8.63917, took 72.647 s\n",
      "  Validation Found 101670 of 108007, added 5380 (eff 94.13%) (0.269 FP/event)\n",
      "Result epoch:  1843\n",
      "Average Eff:  0\n",
      "Average FP Rate:  0\n"
     ]
    },
    {
     "data": {
      "application/vnd.jupyter.widget-view+json": {
       "model_id": "",
       "version_major": 2,
       "version_minor": 0
      },
      "text/plain": [
       "HBox(children=(FloatProgress(value=0.0, description='Training', layout=Layout(flex='2'), max=1250.0, style=Pro…"
      ]
     },
     "metadata": {},
     "output_type": "display_data"
    },
    {
     "name": "stdout",
     "output_type": "stream",
     "text": [
      "Epoch 1844: train=8.78277, val=8.63097, took 72.695 s\n",
      "  Validation Found 101756 of 108007, added 5572 (eff 94.21%) (0.279 FP/event)\n",
      "Result epoch:  1844\n",
      "Average Eff:  0\n",
      "Average FP Rate:  0\n"
     ]
    },
    {
     "data": {
      "application/vnd.jupyter.widget-view+json": {
       "model_id": "",
       "version_major": 2,
       "version_minor": 0
      },
      "text/plain": [
       "HBox(children=(FloatProgress(value=0.0, description='Training', layout=Layout(flex='2'), max=1250.0, style=Pro…"
      ]
     },
     "metadata": {},
     "output_type": "display_data"
    },
    {
     "name": "stdout",
     "output_type": "stream",
     "text": [
      "Epoch 1845: train=8.77888, val=8.62982, took 72.218 s\n",
      "  Validation Found 101747 of 108007, added 5498 (eff 94.20%) (0.275 FP/event)\n",
      "Result epoch:  1845\n",
      "Average Eff:  0\n",
      "Average FP Rate:  0\n"
     ]
    },
    {
     "data": {
      "application/vnd.jupyter.widget-view+json": {
       "model_id": "",
       "version_major": 2,
       "version_minor": 0
      },
      "text/plain": [
       "HBox(children=(FloatProgress(value=0.0, description='Training', layout=Layout(flex='2'), max=1250.0, style=Pro…"
      ]
     },
     "metadata": {},
     "output_type": "display_data"
    },
    {
     "name": "stdout",
     "output_type": "stream",
     "text": [
      "Epoch 1846: train=8.77357, val=8.63083, took 72.841 s\n",
      "  Validation Found 101769 of 108007, added 5578 (eff 94.22%) (0.279 FP/event)\n",
      "Result epoch:  1846\n",
      "Average Eff:  0\n",
      "Average FP Rate:  0\n"
     ]
    },
    {
     "data": {
      "application/vnd.jupyter.widget-view+json": {
       "model_id": "",
       "version_major": 2,
       "version_minor": 0
      },
      "text/plain": [
       "HBox(children=(FloatProgress(value=0.0, description='Training', layout=Layout(flex='2'), max=1250.0, style=Pro…"
      ]
     },
     "metadata": {},
     "output_type": "display_data"
    },
    {
     "name": "stdout",
     "output_type": "stream",
     "text": [
      "Epoch 1847: train=8.77972, val=8.63254, took 72.236 s\n",
      "  Validation Found 101734 of 108007, added 5453 (eff 94.19%) (0.273 FP/event)\n",
      "Result epoch:  1847\n",
      "Average Eff:  0\n",
      "Average FP Rate:  0\n"
     ]
    },
    {
     "data": {
      "application/vnd.jupyter.widget-view+json": {
       "model_id": "",
       "version_major": 2,
       "version_minor": 0
      },
      "text/plain": [
       "HBox(children=(FloatProgress(value=0.0, description='Training', layout=Layout(flex='2'), max=1250.0, style=Pro…"
      ]
     },
     "metadata": {},
     "output_type": "display_data"
    },
    {
     "name": "stdout",
     "output_type": "stream",
     "text": [
      "Epoch 1848: train=8.78052, val=8.62754, took 72.742 s\n",
      "  Validation Found 101739 of 108007, added 5462 (eff 94.20%) (0.273 FP/event)\n",
      "Result epoch:  1848\n",
      "Average Eff:  0\n",
      "Average FP Rate:  0\n"
     ]
    },
    {
     "data": {
      "application/vnd.jupyter.widget-view+json": {
       "model_id": "",
       "version_major": 2,
       "version_minor": 0
      },
      "text/plain": [
       "HBox(children=(FloatProgress(value=0.0, description='Training', layout=Layout(flex='2'), max=1250.0, style=Pro…"
      ]
     },
     "metadata": {},
     "output_type": "display_data"
    },
    {
     "name": "stdout",
     "output_type": "stream",
     "text": [
      "Epoch 1849: train=8.77839, val=8.62879, took 72.177 s\n",
      "  Validation Found 101701 of 108007, added 5415 (eff 94.16%) (0.271 FP/event)\n",
      "Result epoch:  1849\n",
      "Average Eff:  0\n",
      "Average FP Rate:  0\n"
     ]
    },
    {
     "data": {
      "application/vnd.jupyter.widget-view+json": {
       "model_id": "",
       "version_major": 2,
       "version_minor": 0
      },
      "text/plain": [
       "HBox(children=(FloatProgress(value=0.0, description='Training', layout=Layout(flex='2'), max=1250.0, style=Pro…"
      ]
     },
     "metadata": {},
     "output_type": "display_data"
    },
    {
     "name": "stdout",
     "output_type": "stream",
     "text": [
      "Epoch 1850: train=8.77867, val=8.63063, took 71.784 s\n",
      "  Validation Found 101707 of 108007, added 5415 (eff 94.17%) (0.271 FP/event)\n",
      "Result epoch:  1850\n",
      "Average Eff:  0\n",
      "Average FP Rate:  0\n"
     ]
    },
    {
     "data": {
      "application/vnd.jupyter.widget-view+json": {
       "model_id": "",
       "version_major": 2,
       "version_minor": 0
      },
      "text/plain": [
       "HBox(children=(FloatProgress(value=0.0, description='Training', layout=Layout(flex='2'), max=1250.0, style=Pro…"
      ]
     },
     "metadata": {},
     "output_type": "display_data"
    },
    {
     "name": "stdout",
     "output_type": "stream",
     "text": [
      "Epoch 1851: train=8.77924, val=8.63667, took 73.16 s\n",
      "  Validation Found 101575 of 108007, added 5269 (eff 94.04%) (0.263 FP/event)\n",
      "Result epoch:  1851\n",
      "Average Eff:  0\n",
      "Average FP Rate:  0\n"
     ]
    },
    {
     "data": {
      "application/vnd.jupyter.widget-view+json": {
       "model_id": "",
       "version_major": 2,
       "version_minor": 0
      },
      "text/plain": [
       "HBox(children=(FloatProgress(value=0.0, description='Training', layout=Layout(flex='2'), max=1250.0, style=Pro…"
      ]
     },
     "metadata": {},
     "output_type": "display_data"
    },
    {
     "name": "stdout",
     "output_type": "stream",
     "text": [
      "Epoch 1852: train=8.7836, val=8.62809, took 72.615 s\n",
      "  Validation Found 101767 of 108007, added 5550 (eff 94.22%) (0.277 FP/event)\n",
      "Result epoch:  1852\n",
      "Average Eff:  0\n",
      "Average FP Rate:  0\n"
     ]
    },
    {
     "data": {
      "application/vnd.jupyter.widget-view+json": {
       "model_id": "",
       "version_major": 2,
       "version_minor": 0
      },
      "text/plain": [
       "HBox(children=(FloatProgress(value=0.0, description='Training', layout=Layout(flex='2'), max=1250.0, style=Pro…"
      ]
     },
     "metadata": {},
     "output_type": "display_data"
    },
    {
     "name": "stdout",
     "output_type": "stream",
     "text": [
      "Epoch 1853: train=8.78411, val=8.63571, took 72.176 s\n",
      "  Validation Found 101772 of 108007, added 5551 (eff 94.23%) (0.278 FP/event)\n",
      "Result epoch:  1853\n",
      "Average Eff:  0\n",
      "Average FP Rate:  0\n"
     ]
    },
    {
     "data": {
      "application/vnd.jupyter.widget-view+json": {
       "model_id": "",
       "version_major": 2,
       "version_minor": 0
      },
      "text/plain": [
       "HBox(children=(FloatProgress(value=0.0, description='Training', layout=Layout(flex='2'), max=1250.0, style=Pro…"
      ]
     },
     "metadata": {},
     "output_type": "display_data"
    },
    {
     "name": "stdout",
     "output_type": "stream",
     "text": [
      "Epoch 1854: train=8.77448, val=8.63319, took 71.885 s\n",
      "  Validation Found 101623 of 108007, added 5318 (eff 94.09%) (0.266 FP/event)\n",
      "Result epoch:  1854\n",
      "Average Eff:  0\n",
      "Average FP Rate:  0\n"
     ]
    },
    {
     "data": {
      "application/vnd.jupyter.widget-view+json": {
       "model_id": "",
       "version_major": 2,
       "version_minor": 0
      },
      "text/plain": [
       "HBox(children=(FloatProgress(value=0.0, description='Training', layout=Layout(flex='2'), max=1250.0, style=Pro…"
      ]
     },
     "metadata": {},
     "output_type": "display_data"
    },
    {
     "name": "stdout",
     "output_type": "stream",
     "text": [
      "Epoch 1855: train=8.78053, val=8.63909, took 71.998 s\n",
      "  Validation Found 101750 of 108007, added 5526 (eff 94.21%) (0.276 FP/event)\n",
      "Result epoch:  1855\n",
      "Average Eff:  0\n",
      "Average FP Rate:  0\n"
     ]
    },
    {
     "data": {
      "application/vnd.jupyter.widget-view+json": {
       "model_id": "",
       "version_major": 2,
       "version_minor": 0
      },
      "text/plain": [
       "HBox(children=(FloatProgress(value=0.0, description='Training', layout=Layout(flex='2'), max=1250.0, style=Pro…"
      ]
     },
     "metadata": {},
     "output_type": "display_data"
    },
    {
     "name": "stdout",
     "output_type": "stream",
     "text": [
      "Epoch 1856: train=8.77855, val=8.62939, took 71.318 s\n",
      "  Validation Found 101730 of 108007, added 5469 (eff 94.19%) (0.273 FP/event)\n",
      "Result epoch:  1856\n",
      "Average Eff:  0\n",
      "Average FP Rate:  0\n"
     ]
    },
    {
     "data": {
      "application/vnd.jupyter.widget-view+json": {
       "model_id": "",
       "version_major": 2,
       "version_minor": 0
      },
      "text/plain": [
       "HBox(children=(FloatProgress(value=0.0, description='Training', layout=Layout(flex='2'), max=1250.0, style=Pro…"
      ]
     },
     "metadata": {},
     "output_type": "display_data"
    },
    {
     "name": "stdout",
     "output_type": "stream",
     "text": [
      "Epoch 1857: train=8.78227, val=8.62459, took 71.426 s\n",
      "  Validation Found 101694 of 108007, added 5346 (eff 94.16%) (0.267 FP/event)\n",
      "Result epoch:  1857\n",
      "Average Eff:  0\n",
      "Average FP Rate:  0\n"
     ]
    },
    {
     "data": {
      "application/vnd.jupyter.widget-view+json": {
       "model_id": "",
       "version_major": 2,
       "version_minor": 0
      },
      "text/plain": [
       "HBox(children=(FloatProgress(value=0.0, description='Training', layout=Layout(flex='2'), max=1250.0, style=Pro…"
      ]
     },
     "metadata": {},
     "output_type": "display_data"
    },
    {
     "name": "stdout",
     "output_type": "stream",
     "text": [
      "Epoch 1858: train=8.77745, val=8.62837, took 72.322 s\n",
      "  Validation Found 101652 of 108007, added 5323 (eff 94.12%) (0.266 FP/event)\n",
      "Result epoch:  1858\n",
      "Average Eff:  0\n",
      "Average FP Rate:  0\n"
     ]
    },
    {
     "data": {
      "application/vnd.jupyter.widget-view+json": {
       "model_id": "",
       "version_major": 2,
       "version_minor": 0
      },
      "text/plain": [
       "HBox(children=(FloatProgress(value=0.0, description='Training', layout=Layout(flex='2'), max=1250.0, style=Pro…"
      ]
     },
     "metadata": {},
     "output_type": "display_data"
    },
    {
     "name": "stdout",
     "output_type": "stream",
     "text": [
      "Epoch 1859: train=8.78466, val=8.62537, took 72.883 s\n",
      "  Validation Found 101694 of 108007, added 5383 (eff 94.16%) (0.269 FP/event)\n",
      "Result epoch:  1859\n",
      "Average Eff:  0\n",
      "Average FP Rate:  0\n"
     ]
    },
    {
     "data": {
      "application/vnd.jupyter.widget-view+json": {
       "model_id": "",
       "version_major": 2,
       "version_minor": 0
      },
      "text/plain": [
       "HBox(children=(FloatProgress(value=0.0, description='Training', layout=Layout(flex='2'), max=1250.0, style=Pro…"
      ]
     },
     "metadata": {},
     "output_type": "display_data"
    },
    {
     "name": "stdout",
     "output_type": "stream",
     "text": [
      "Epoch 1860: train=8.77516, val=8.62878, took 71.65 s\n",
      "  Validation Found 101565 of 108007, added 5239 (eff 94.04%) (0.262 FP/event)\n",
      "Result epoch:  1860\n",
      "Average Eff:  0\n",
      "Average FP Rate:  0\n"
     ]
    },
    {
     "data": {
      "application/vnd.jupyter.widget-view+json": {
       "model_id": "",
       "version_major": 2,
       "version_minor": 0
      },
      "text/plain": [
       "HBox(children=(FloatProgress(value=0.0, description='Training', layout=Layout(flex='2'), max=1250.0, style=Pro…"
      ]
     },
     "metadata": {},
     "output_type": "display_data"
    },
    {
     "name": "stdout",
     "output_type": "stream",
     "text": [
      "Epoch 1861: train=8.7797, val=8.62999, took 71.609 s\n",
      "  Validation Found 101693 of 108007, added 5395 (eff 94.15%) (0.27 FP/event)\n",
      "Result epoch:  1861\n",
      "Average Eff:  0\n",
      "Average FP Rate:  0\n"
     ]
    },
    {
     "data": {
      "application/vnd.jupyter.widget-view+json": {
       "model_id": "",
       "version_major": 2,
       "version_minor": 0
      },
      "text/plain": [
       "HBox(children=(FloatProgress(value=0.0, description='Training', layout=Layout(flex='2'), max=1250.0, style=Pro…"
      ]
     },
     "metadata": {},
     "output_type": "display_data"
    },
    {
     "name": "stdout",
     "output_type": "stream",
     "text": [
      "Epoch 1862: train=8.77949, val=8.63078, took 71.725 s\n",
      "  Validation Found 101699 of 108007, added 5396 (eff 94.16%) (0.27 FP/event)\n",
      "Result epoch:  1862\n",
      "Average Eff:  0\n",
      "Average FP Rate:  0\n"
     ]
    },
    {
     "data": {
      "application/vnd.jupyter.widget-view+json": {
       "model_id": "",
       "version_major": 2,
       "version_minor": 0
      },
      "text/plain": [
       "HBox(children=(FloatProgress(value=0.0, description='Training', layout=Layout(flex='2'), max=1250.0, style=Pro…"
      ]
     },
     "metadata": {},
     "output_type": "display_data"
    },
    {
     "name": "stdout",
     "output_type": "stream",
     "text": [
      "Epoch 1863: train=8.77719, val=8.63005, took 71.902 s\n",
      "  Validation Found 101705 of 108007, added 5418 (eff 94.17%) (0.271 FP/event)\n",
      "Result epoch:  1863\n",
      "Average Eff:  0\n",
      "Average FP Rate:  0\n"
     ]
    },
    {
     "data": {
      "application/vnd.jupyter.widget-view+json": {
       "model_id": "",
       "version_major": 2,
       "version_minor": 0
      },
      "text/plain": [
       "HBox(children=(FloatProgress(value=0.0, description='Training', layout=Layout(flex='2'), max=1250.0, style=Pro…"
      ]
     },
     "metadata": {},
     "output_type": "display_data"
    },
    {
     "name": "stdout",
     "output_type": "stream",
     "text": [
      "Epoch 1864: train=8.78242, val=8.63245, took 70.673 s\n",
      "  Validation Found 101693 of 108007, added 5390 (eff 94.15%) (0.269 FP/event)\n",
      "Result epoch:  1864\n",
      "Average Eff:  0\n",
      "Average FP Rate:  0\n"
     ]
    },
    {
     "data": {
      "application/vnd.jupyter.widget-view+json": {
       "model_id": "",
       "version_major": 2,
       "version_minor": 0
      },
      "text/plain": [
       "HBox(children=(FloatProgress(value=0.0, description='Training', layout=Layout(flex='2'), max=1250.0, style=Pro…"
      ]
     },
     "metadata": {},
     "output_type": "display_data"
    },
    {
     "name": "stdout",
     "output_type": "stream",
     "text": [
      "Epoch 1865: train=8.77892, val=8.63348, took 71.995 s\n",
      "  Validation Found 101777 of 108007, added 5587 (eff 94.23%) (0.279 FP/event)\n",
      "Result epoch:  1865\n",
      "Average Eff:  0\n",
      "Average FP Rate:  0\n"
     ]
    },
    {
     "data": {
      "application/vnd.jupyter.widget-view+json": {
       "model_id": "",
       "version_major": 2,
       "version_minor": 0
      },
      "text/plain": [
       "HBox(children=(FloatProgress(value=0.0, description='Training', layout=Layout(flex='2'), max=1250.0, style=Pro…"
      ]
     },
     "metadata": {},
     "output_type": "display_data"
    },
    {
     "name": "stdout",
     "output_type": "stream",
     "text": [
      "Epoch 1866: train=8.77719, val=8.63287, took 71.583 s\n",
      "  Validation Found 101731 of 108007, added 5474 (eff 94.19%) (0.274 FP/event)\n",
      "Result epoch:  1866\n",
      "Average Eff:  0\n",
      "Average FP Rate:  0\n"
     ]
    },
    {
     "data": {
      "application/vnd.jupyter.widget-view+json": {
       "model_id": "",
       "version_major": 2,
       "version_minor": 0
      },
      "text/plain": [
       "HBox(children=(FloatProgress(value=0.0, description='Training', layout=Layout(flex='2'), max=1250.0, style=Pro…"
      ]
     },
     "metadata": {},
     "output_type": "display_data"
    },
    {
     "name": "stdout",
     "output_type": "stream",
     "text": [
      "Epoch 1867: train=8.78138, val=8.62441, took 71.91 s\n",
      "  Validation Found 101732 of 108007, added 5435 (eff 94.19%) (0.272 FP/event)\n",
      "Result epoch:  1867\n",
      "Average Eff:  0\n",
      "Average FP Rate:  0\n"
     ]
    },
    {
     "data": {
      "application/vnd.jupyter.widget-view+json": {
       "model_id": "",
       "version_major": 2,
       "version_minor": 0
      },
      "text/plain": [
       "HBox(children=(FloatProgress(value=0.0, description='Training', layout=Layout(flex='2'), max=1250.0, style=Pro…"
      ]
     },
     "metadata": {},
     "output_type": "display_data"
    },
    {
     "name": "stdout",
     "output_type": "stream",
     "text": [
      "Epoch 1868: train=8.78303, val=8.63538, took 72.222 s\n",
      "  Validation Found 101681 of 108007, added 5374 (eff 94.14%) (0.269 FP/event)\n",
      "Result epoch:  1868\n",
      "Average Eff:  0\n",
      "Average FP Rate:  0\n"
     ]
    },
    {
     "data": {
      "application/vnd.jupyter.widget-view+json": {
       "model_id": "",
       "version_major": 2,
       "version_minor": 0
      },
      "text/plain": [
       "HBox(children=(FloatProgress(value=0.0, description='Training', layout=Layout(flex='2'), max=1250.0, style=Pro…"
      ]
     },
     "metadata": {},
     "output_type": "display_data"
    },
    {
     "name": "stdout",
     "output_type": "stream",
     "text": [
      "Epoch 1869: train=8.77932, val=8.63703, took 71.567 s\n",
      "  Validation Found 101739 of 108007, added 5489 (eff 94.20%) (0.274 FP/event)\n",
      "Result epoch:  1869\n",
      "Average Eff:  0\n",
      "Average FP Rate:  0\n"
     ]
    },
    {
     "data": {
      "application/vnd.jupyter.widget-view+json": {
       "model_id": "",
       "version_major": 2,
       "version_minor": 0
      },
      "text/plain": [
       "HBox(children=(FloatProgress(value=0.0, description='Training', layout=Layout(flex='2'), max=1250.0, style=Pro…"
      ]
     },
     "metadata": {},
     "output_type": "display_data"
    },
    {
     "name": "stdout",
     "output_type": "stream",
     "text": [
      "Epoch 1870: train=8.77685, val=8.63574, took 72.074 s\n",
      "  Validation Found 101716 of 108007, added 5425 (eff 94.18%) (0.271 FP/event)\n",
      "Result epoch:  1870\n",
      "Average Eff:  0\n",
      "Average FP Rate:  0\n"
     ]
    },
    {
     "data": {
      "application/vnd.jupyter.widget-view+json": {
       "model_id": "",
       "version_major": 2,
       "version_minor": 0
      },
      "text/plain": [
       "HBox(children=(FloatProgress(value=0.0, description='Training', layout=Layout(flex='2'), max=1250.0, style=Pro…"
      ]
     },
     "metadata": {},
     "output_type": "display_data"
    },
    {
     "name": "stdout",
     "output_type": "stream",
     "text": [
      "Epoch 1871: train=8.7843, val=8.62565, took 72.712 s\n",
      "  Validation Found 101691 of 108007, added 5366 (eff 94.15%) (0.268 FP/event)\n",
      "Result epoch:  1871\n",
      "Average Eff:  0\n",
      "Average FP Rate:  0\n"
     ]
    },
    {
     "data": {
      "application/vnd.jupyter.widget-view+json": {
       "model_id": "",
       "version_major": 2,
       "version_minor": 0
      },
      "text/plain": [
       "HBox(children=(FloatProgress(value=0.0, description='Training', layout=Layout(flex='2'), max=1250.0, style=Pro…"
      ]
     },
     "metadata": {},
     "output_type": "display_data"
    },
    {
     "name": "stdout",
     "output_type": "stream",
     "text": [
      "Epoch 1872: train=8.78065, val=8.62615, took 71.927 s\n",
      "  Validation Found 101754 of 108007, added 5502 (eff 94.21%) (0.275 FP/event)\n",
      "Result epoch:  1872\n",
      "Average Eff:  0\n",
      "Average FP Rate:  0\n"
     ]
    },
    {
     "data": {
      "application/vnd.jupyter.widget-view+json": {
       "model_id": "",
       "version_major": 2,
       "version_minor": 0
      },
      "text/plain": [
       "HBox(children=(FloatProgress(value=0.0, description='Training', layout=Layout(flex='2'), max=1250.0, style=Pro…"
      ]
     },
     "metadata": {},
     "output_type": "display_data"
    },
    {
     "name": "stdout",
     "output_type": "stream",
     "text": [
      "Epoch 1873: train=8.77946, val=8.62589, took 72.442 s\n",
      "  Validation Found 101741 of 108007, added 5504 (eff 94.20%) (0.275 FP/event)\n",
      "Result epoch:  1873\n",
      "Average Eff:  0\n",
      "Average FP Rate:  0\n"
     ]
    },
    {
     "data": {
      "application/vnd.jupyter.widget-view+json": {
       "model_id": "",
       "version_major": 2,
       "version_minor": 0
      },
      "text/plain": [
       "HBox(children=(FloatProgress(value=0.0, description='Training', layout=Layout(flex='2'), max=1250.0, style=Pro…"
      ]
     },
     "metadata": {},
     "output_type": "display_data"
    },
    {
     "name": "stdout",
     "output_type": "stream",
     "text": [
      "Epoch 1874: train=8.77898, val=8.63411, took 72.235 s\n",
      "  Validation Found 101709 of 108007, added 5405 (eff 94.17%) (0.27 FP/event)\n",
      "Result epoch:  1874\n",
      "Average Eff:  0\n",
      "Average FP Rate:  0\n"
     ]
    },
    {
     "data": {
      "application/vnd.jupyter.widget-view+json": {
       "model_id": "",
       "version_major": 2,
       "version_minor": 0
      },
      "text/plain": [
       "HBox(children=(FloatProgress(value=0.0, description='Training', layout=Layout(flex='2'), max=1250.0, style=Pro…"
      ]
     },
     "metadata": {},
     "output_type": "display_data"
    },
    {
     "name": "stdout",
     "output_type": "stream",
     "text": [
      "Epoch 1875: train=8.7786, val=8.63342, took 71.815 s\n",
      "  Validation Found 101751 of 108007, added 5536 (eff 94.21%) (0.277 FP/event)\n",
      "Result epoch:  1875\n",
      "Average Eff:  0\n",
      "Average FP Rate:  0\n"
     ]
    },
    {
     "data": {
      "application/vnd.jupyter.widget-view+json": {
       "model_id": "",
       "version_major": 2,
       "version_minor": 0
      },
      "text/plain": [
       "HBox(children=(FloatProgress(value=0.0, description='Training', layout=Layout(flex='2'), max=1250.0, style=Pro…"
      ]
     },
     "metadata": {},
     "output_type": "display_data"
    },
    {
     "name": "stdout",
     "output_type": "stream",
     "text": [
      "Epoch 1876: train=8.77392, val=8.62838, took 72.118 s\n",
      "  Validation Found 101769 of 108007, added 5569 (eff 94.22%) (0.278 FP/event)\n",
      "Result epoch:  1876\n",
      "Average Eff:  0\n",
      "Average FP Rate:  0\n"
     ]
    },
    {
     "data": {
      "application/vnd.jupyter.widget-view+json": {
       "model_id": "",
       "version_major": 2,
       "version_minor": 0
      },
      "text/plain": [
       "HBox(children=(FloatProgress(value=0.0, description='Training', layout=Layout(flex='2'), max=1250.0, style=Pro…"
      ]
     },
     "metadata": {},
     "output_type": "display_data"
    },
    {
     "name": "stdout",
     "output_type": "stream",
     "text": [
      "Epoch 1877: train=8.7776, val=8.62994, took 72.912 s\n",
      "  Validation Found 101751 of 108007, added 5549 (eff 94.21%) (0.277 FP/event)\n",
      "Result epoch:  1877\n",
      "Average Eff:  0\n",
      "Average FP Rate:  0\n"
     ]
    },
    {
     "data": {
      "application/vnd.jupyter.widget-view+json": {
       "model_id": "",
       "version_major": 2,
       "version_minor": 0
      },
      "text/plain": [
       "HBox(children=(FloatProgress(value=0.0, description='Training', layout=Layout(flex='2'), max=1250.0, style=Pro…"
      ]
     },
     "metadata": {},
     "output_type": "display_data"
    },
    {
     "name": "stdout",
     "output_type": "stream",
     "text": [
      "Epoch 1878: train=8.77787, val=8.62665, took 72.542 s\n",
      "  Validation Found 101789 of 108007, added 5609 (eff 94.24%) (0.28 FP/event)\n",
      "Result epoch:  1878\n",
      "Average Eff:  0\n",
      "Average FP Rate:  0\n"
     ]
    },
    {
     "data": {
      "application/vnd.jupyter.widget-view+json": {
       "model_id": "",
       "version_major": 2,
       "version_minor": 0
      },
      "text/plain": [
       "HBox(children=(FloatProgress(value=0.0, description='Training', layout=Layout(flex='2'), max=1250.0, style=Pro…"
      ]
     },
     "metadata": {},
     "output_type": "display_data"
    },
    {
     "name": "stdout",
     "output_type": "stream",
     "text": [
      "Epoch 1879: train=8.77707, val=8.62874, took 72.526 s\n",
      "  Validation Found 101758 of 108007, added 5536 (eff 94.21%) (0.277 FP/event)\n",
      "Result epoch:  1879\n",
      "Average Eff:  0\n",
      "Average FP Rate:  0\n"
     ]
    },
    {
     "data": {
      "application/vnd.jupyter.widget-view+json": {
       "model_id": "",
       "version_major": 2,
       "version_minor": 0
      },
      "text/plain": [
       "HBox(children=(FloatProgress(value=0.0, description='Training', layout=Layout(flex='2'), max=1250.0, style=Pro…"
      ]
     },
     "metadata": {},
     "output_type": "display_data"
    },
    {
     "name": "stdout",
     "output_type": "stream",
     "text": [
      "Epoch 1880: train=8.77565, val=8.63355, took 73.381 s\n",
      "  Validation Found 101637 of 108007, added 5342 (eff 94.10%) (0.267 FP/event)\n",
      "Result epoch:  1880\n",
      "Average Eff:  0\n",
      "Average FP Rate:  0\n"
     ]
    },
    {
     "data": {
      "application/vnd.jupyter.widget-view+json": {
       "model_id": "",
       "version_major": 2,
       "version_minor": 0
      },
      "text/plain": [
       "HBox(children=(FloatProgress(value=0.0, description='Training', layout=Layout(flex='2'), max=1250.0, style=Pro…"
      ]
     },
     "metadata": {},
     "output_type": "display_data"
    },
    {
     "name": "stdout",
     "output_type": "stream",
     "text": [
      "Epoch 1881: train=8.77885, val=8.62598, took 72.974 s\n",
      "  Validation Found 101748 of 108007, added 5506 (eff 94.21%) (0.275 FP/event)\n",
      "Result epoch:  1881\n",
      "Average Eff:  0\n",
      "Average FP Rate:  0\n"
     ]
    },
    {
     "data": {
      "application/vnd.jupyter.widget-view+json": {
       "model_id": "",
       "version_major": 2,
       "version_minor": 0
      },
      "text/plain": [
       "HBox(children=(FloatProgress(value=0.0, description='Training', layout=Layout(flex='2'), max=1250.0, style=Pro…"
      ]
     },
     "metadata": {},
     "output_type": "display_data"
    },
    {
     "name": "stdout",
     "output_type": "stream",
     "text": [
      "Epoch 1882: train=8.77706, val=8.63548, took 72.576 s\n",
      "  Validation Found 101764 of 108007, added 5537 (eff 94.22%) (0.277 FP/event)\n",
      "Result epoch:  1882\n",
      "Average Eff:  0\n",
      "Average FP Rate:  0\n"
     ]
    },
    {
     "data": {
      "application/vnd.jupyter.widget-view+json": {
       "model_id": "",
       "version_major": 2,
       "version_minor": 0
      },
      "text/plain": [
       "HBox(children=(FloatProgress(value=0.0, description='Training', layout=Layout(flex='2'), max=1250.0, style=Pro…"
      ]
     },
     "metadata": {},
     "output_type": "display_data"
    },
    {
     "name": "stdout",
     "output_type": "stream",
     "text": [
      "Epoch 1883: train=8.77577, val=8.62866, took 72.806 s\n",
      "  Validation Found 101743 of 108007, added 5448 (eff 94.20%) (0.272 FP/event)\n",
      "Result epoch:  1883\n",
      "Average Eff:  0\n",
      "Average FP Rate:  0\n"
     ]
    },
    {
     "data": {
      "application/vnd.jupyter.widget-view+json": {
       "model_id": "",
       "version_major": 2,
       "version_minor": 0
      },
      "text/plain": [
       "HBox(children=(FloatProgress(value=0.0, description='Training', layout=Layout(flex='2'), max=1250.0, style=Pro…"
      ]
     },
     "metadata": {},
     "output_type": "display_data"
    },
    {
     "name": "stdout",
     "output_type": "stream",
     "text": [
      "Epoch 1884: train=8.77818, val=8.62217, took 70.996 s\n",
      "  Validation Found 101707 of 108007, added 5384 (eff 94.17%) (0.269 FP/event)\n",
      "Result epoch:  1884\n",
      "Average Eff:  0\n",
      "Average FP Rate:  0\n"
     ]
    },
    {
     "data": {
      "application/vnd.jupyter.widget-view+json": {
       "model_id": "",
       "version_major": 2,
       "version_minor": 0
      },
      "text/plain": [
       "HBox(children=(FloatProgress(value=0.0, description='Training', layout=Layout(flex='2'), max=1250.0, style=Pro…"
      ]
     },
     "metadata": {},
     "output_type": "display_data"
    },
    {
     "name": "stdout",
     "output_type": "stream",
     "text": [
      "Epoch 1885: train=8.77717, val=8.62653, took 71.841 s\n",
      "  Validation Found 101713 of 108007, added 5422 (eff 94.17%) (0.271 FP/event)\n",
      "Result epoch:  1885\n",
      "Average Eff:  0\n",
      "Average FP Rate:  0\n"
     ]
    },
    {
     "data": {
      "application/vnd.jupyter.widget-view+json": {
       "model_id": "",
       "version_major": 2,
       "version_minor": 0
      },
      "text/plain": [
       "HBox(children=(FloatProgress(value=0.0, description='Training', layout=Layout(flex='2'), max=1250.0, style=Pro…"
      ]
     },
     "metadata": {},
     "output_type": "display_data"
    },
    {
     "name": "stdout",
     "output_type": "stream",
     "text": [
      "Epoch 1886: train=8.78234, val=8.63572, took 72.011 s\n",
      "  Validation Found 101758 of 108007, added 5511 (eff 94.21%) (0.276 FP/event)\n",
      "Result epoch:  1886\n",
      "Average Eff:  0\n",
      "Average FP Rate:  0\n"
     ]
    },
    {
     "data": {
      "application/vnd.jupyter.widget-view+json": {
       "model_id": "",
       "version_major": 2,
       "version_minor": 0
      },
      "text/plain": [
       "HBox(children=(FloatProgress(value=0.0, description='Training', layout=Layout(flex='2'), max=1250.0, style=Pro…"
      ]
     },
     "metadata": {},
     "output_type": "display_data"
    },
    {
     "name": "stdout",
     "output_type": "stream",
     "text": [
      "Epoch 1887: train=8.7827, val=8.6243, took 73.158 s\n",
      "  Validation Found 101706 of 108007, added 5397 (eff 94.17%) (0.27 FP/event)\n",
      "Result epoch:  1887\n",
      "Average Eff:  0\n",
      "Average FP Rate:  0\n"
     ]
    },
    {
     "data": {
      "application/vnd.jupyter.widget-view+json": {
       "model_id": "",
       "version_major": 2,
       "version_minor": 0
      },
      "text/plain": [
       "HBox(children=(FloatProgress(value=0.0, description='Training', layout=Layout(flex='2'), max=1250.0, style=Pro…"
      ]
     },
     "metadata": {},
     "output_type": "display_data"
    },
    {
     "name": "stdout",
     "output_type": "stream",
     "text": [
      "Epoch 1888: train=8.77494, val=8.63603, took 72.006 s\n",
      "  Validation Found 101743 of 108007, added 5497 (eff 94.20%) (0.275 FP/event)\n",
      "Result epoch:  1888\n",
      "Average Eff:  0\n",
      "Average FP Rate:  0\n"
     ]
    },
    {
     "data": {
      "application/vnd.jupyter.widget-view+json": {
       "model_id": "",
       "version_major": 2,
       "version_minor": 0
      },
      "text/plain": [
       "HBox(children=(FloatProgress(value=0.0, description='Training', layout=Layout(flex='2'), max=1250.0, style=Pro…"
      ]
     },
     "metadata": {},
     "output_type": "display_data"
    },
    {
     "name": "stdout",
     "output_type": "stream",
     "text": [
      "Epoch 1889: train=8.77576, val=8.63431, took 71.676 s\n",
      "  Validation Found 101616 of 108007, added 5301 (eff 94.08%) (0.265 FP/event)\n",
      "Result epoch:  1889\n",
      "Average Eff:  0\n",
      "Average FP Rate:  0\n"
     ]
    },
    {
     "data": {
      "application/vnd.jupyter.widget-view+json": {
       "model_id": "",
       "version_major": 2,
       "version_minor": 0
      },
      "text/plain": [
       "HBox(children=(FloatProgress(value=0.0, description='Training', layout=Layout(flex='2'), max=1250.0, style=Pro…"
      ]
     },
     "metadata": {},
     "output_type": "display_data"
    },
    {
     "name": "stdout",
     "output_type": "stream",
     "text": [
      "Epoch 1890: train=8.7721, val=8.62315, took 71.606 s\n",
      "  Validation Found 101764 of 108007, added 5523 (eff 94.22%) (0.276 FP/event)\n",
      "Result epoch:  1890\n",
      "Average Eff:  0\n",
      "Average FP Rate:  0\n"
     ]
    },
    {
     "data": {
      "application/vnd.jupyter.widget-view+json": {
       "model_id": "",
       "version_major": 2,
       "version_minor": 0
      },
      "text/plain": [
       "HBox(children=(FloatProgress(value=0.0, description='Training', layout=Layout(flex='2'), max=1250.0, style=Pro…"
      ]
     },
     "metadata": {},
     "output_type": "display_data"
    },
    {
     "name": "stdout",
     "output_type": "stream",
     "text": [
      "Epoch 1891: train=8.77769, val=8.62925, took 72.744 s\n",
      "  Validation Found 101741 of 108007, added 5485 (eff 94.20%) (0.274 FP/event)\n",
      "Result epoch:  1891\n",
      "Average Eff:  0\n",
      "Average FP Rate:  0\n"
     ]
    },
    {
     "data": {
      "application/vnd.jupyter.widget-view+json": {
       "model_id": "",
       "version_major": 2,
       "version_minor": 0
      },
      "text/plain": [
       "HBox(children=(FloatProgress(value=0.0, description='Training', layout=Layout(flex='2'), max=1250.0, style=Pro…"
      ]
     },
     "metadata": {},
     "output_type": "display_data"
    },
    {
     "name": "stdout",
     "output_type": "stream",
     "text": [
      "Epoch 1892: train=8.77644, val=8.63574, took 72.266 s\n",
      "  Validation Found 101729 of 108007, added 5455 (eff 94.19%) (0.273 FP/event)\n",
      "Result epoch:  1892\n",
      "Average Eff:  0\n",
      "Average FP Rate:  0\n"
     ]
    },
    {
     "data": {
      "application/vnd.jupyter.widget-view+json": {
       "model_id": "",
       "version_major": 2,
       "version_minor": 0
      },
      "text/plain": [
       "HBox(children=(FloatProgress(value=0.0, description='Training', layout=Layout(flex='2'), max=1250.0, style=Pro…"
      ]
     },
     "metadata": {},
     "output_type": "display_data"
    },
    {
     "name": "stdout",
     "output_type": "stream",
     "text": [
      "Epoch 1893: train=8.77748, val=8.62589, took 71.592 s\n",
      "  Validation Found 101651 of 108007, added 5322 (eff 94.12%) (0.266 FP/event)\n",
      "Result epoch:  1893\n",
      "Average Eff:  0\n",
      "Average FP Rate:  0\n"
     ]
    },
    {
     "data": {
      "application/vnd.jupyter.widget-view+json": {
       "model_id": "",
       "version_major": 2,
       "version_minor": 0
      },
      "text/plain": [
       "HBox(children=(FloatProgress(value=0.0, description='Training', layout=Layout(flex='2'), max=1250.0, style=Pro…"
      ]
     },
     "metadata": {},
     "output_type": "display_data"
    },
    {
     "name": "stdout",
     "output_type": "stream",
     "text": [
      "Epoch 1894: train=8.78395, val=8.62652, took 70.944 s\n",
      "  Validation Found 101783 of 108007, added 5586 (eff 94.24%) (0.279 FP/event)\n",
      "Result epoch:  1894\n",
      "Average Eff:  0\n",
      "Average FP Rate:  0\n"
     ]
    },
    {
     "data": {
      "application/vnd.jupyter.widget-view+json": {
       "model_id": "",
       "version_major": 2,
       "version_minor": 0
      },
      "text/plain": [
       "HBox(children=(FloatProgress(value=0.0, description='Training', layout=Layout(flex='2'), max=1250.0, style=Pro…"
      ]
     },
     "metadata": {},
     "output_type": "display_data"
    },
    {
     "name": "stdout",
     "output_type": "stream",
     "text": [
      "Epoch 1895: train=8.77454, val=8.62543, took 71.258 s\n",
      "  Validation Found 101730 of 108007, added 5442 (eff 94.19%) (0.272 FP/event)\n",
      "Result epoch:  1895\n",
      "Average Eff:  0\n",
      "Average FP Rate:  0\n"
     ]
    },
    {
     "data": {
      "application/vnd.jupyter.widget-view+json": {
       "model_id": "",
       "version_major": 2,
       "version_minor": 0
      },
      "text/plain": [
       "HBox(children=(FloatProgress(value=0.0, description='Training', layout=Layout(flex='2'), max=1250.0, style=Pro…"
      ]
     },
     "metadata": {},
     "output_type": "display_data"
    },
    {
     "name": "stdout",
     "output_type": "stream",
     "text": [
      "Epoch 1896: train=8.78218, val=8.62335, took 71.937 s\n",
      "  Validation Found 101740 of 108007, added 5447 (eff 94.20%) (0.272 FP/event)\n",
      "Result epoch:  1896\n",
      "Average Eff:  0\n",
      "Average FP Rate:  0\n"
     ]
    },
    {
     "data": {
      "application/vnd.jupyter.widget-view+json": {
       "model_id": "",
       "version_major": 2,
       "version_minor": 0
      },
      "text/plain": [
       "HBox(children=(FloatProgress(value=0.0, description='Training', layout=Layout(flex='2'), max=1250.0, style=Pro…"
      ]
     },
     "metadata": {},
     "output_type": "display_data"
    },
    {
     "name": "stdout",
     "output_type": "stream",
     "text": [
      "Epoch 1897: train=8.78105, val=8.6265, took 72.824 s\n",
      "  Validation Found 101789 of 108007, added 5636 (eff 94.24%) (0.282 FP/event)\n",
      "Result epoch:  1897\n",
      "Average Eff:  0\n",
      "Average FP Rate:  0\n"
     ]
    },
    {
     "data": {
      "application/vnd.jupyter.widget-view+json": {
       "model_id": "",
       "version_major": 2,
       "version_minor": 0
      },
      "text/plain": [
       "HBox(children=(FloatProgress(value=0.0, description='Training', layout=Layout(flex='2'), max=1250.0, style=Pro…"
      ]
     },
     "metadata": {},
     "output_type": "display_data"
    },
    {
     "name": "stdout",
     "output_type": "stream",
     "text": [
      "Epoch 1898: train=8.77895, val=8.62641, took 71.978 s\n",
      "  Validation Found 101736 of 108007, added 5455 (eff 94.19%) (0.273 FP/event)\n",
      "Result epoch:  1898\n",
      "Average Eff:  0\n",
      "Average FP Rate:  0\n"
     ]
    },
    {
     "data": {
      "application/vnd.jupyter.widget-view+json": {
       "model_id": "",
       "version_major": 2,
       "version_minor": 0
      },
      "text/plain": [
       "HBox(children=(FloatProgress(value=0.0, description='Training', layout=Layout(flex='2'), max=1250.0, style=Pro…"
      ]
     },
     "metadata": {},
     "output_type": "display_data"
    },
    {
     "name": "stdout",
     "output_type": "stream",
     "text": [
      "Epoch 1899: train=8.77998, val=8.63142, took 72.174 s\n",
      "  Validation Found 101780 of 108007, added 5605 (eff 94.23%) (0.28 FP/event)\n",
      "Result epoch:  1899\n",
      "Average Eff:  0\n",
      "Average FP Rate:  0\n"
     ]
    },
    {
     "data": {
      "application/vnd.jupyter.widget-view+json": {
       "model_id": "",
       "version_major": 2,
       "version_minor": 0
      },
      "text/plain": [
       "HBox(children=(FloatProgress(value=0.0, description='Training', layout=Layout(flex='2'), max=1250.0, style=Pro…"
      ]
     },
     "metadata": {},
     "output_type": "display_data"
    },
    {
     "name": "stdout",
     "output_type": "stream",
     "text": [
      "Epoch 1900: train=8.77918, val=8.62891, took 72.165 s\n",
      "  Validation Found 101690 of 108007, added 5384 (eff 94.15%) (0.269 FP/event)\n",
      "Result epoch:  1900\n",
      "Average Eff:  0\n",
      "Average FP Rate:  0\n"
     ]
    },
    {
     "data": {
      "application/vnd.jupyter.widget-view+json": {
       "model_id": "",
       "version_major": 2,
       "version_minor": 0
      },
      "text/plain": [
       "HBox(children=(FloatProgress(value=0.0, description='Training', layout=Layout(flex='2'), max=1250.0, style=Pro…"
      ]
     },
     "metadata": {},
     "output_type": "display_data"
    },
    {
     "name": "stdout",
     "output_type": "stream",
     "text": [
      "Epoch 1901: train=8.77754, val=8.62145, took 72.682 s\n",
      "  Validation Found 101684 of 108007, added 5357 (eff 94.15%) (0.268 FP/event)\n",
      "Result epoch:  1901\n",
      "Average Eff:  0\n",
      "Average FP Rate:  0\n"
     ]
    },
    {
     "data": {
      "application/vnd.jupyter.widget-view+json": {
       "model_id": "",
       "version_major": 2,
       "version_minor": 0
      },
      "text/plain": [
       "HBox(children=(FloatProgress(value=0.0, description='Training', layout=Layout(flex='2'), max=1250.0, style=Pro…"
      ]
     },
     "metadata": {},
     "output_type": "display_data"
    },
    {
     "name": "stdout",
     "output_type": "stream",
     "text": [
      "Epoch 1902: train=8.77766, val=8.63986, took 72.205 s\n",
      "  Validation Found 101682 of 108007, added 5388 (eff 94.14%) (0.269 FP/event)\n",
      "Result epoch:  1902\n",
      "Average Eff:  0\n",
      "Average FP Rate:  0\n"
     ]
    },
    {
     "data": {
      "application/vnd.jupyter.widget-view+json": {
       "model_id": "",
       "version_major": 2,
       "version_minor": 0
      },
      "text/plain": [
       "HBox(children=(FloatProgress(value=0.0, description='Training', layout=Layout(flex='2'), max=1250.0, style=Pro…"
      ]
     },
     "metadata": {},
     "output_type": "display_data"
    },
    {
     "name": "stdout",
     "output_type": "stream",
     "text": [
      "Epoch 1903: train=8.78386, val=8.63648, took 71.727 s\n",
      "  Validation Found 101651 of 108007, added 5348 (eff 94.12%) (0.267 FP/event)\n",
      "Result epoch:  1903\n",
      "Average Eff:  0\n",
      "Average FP Rate:  0\n"
     ]
    },
    {
     "data": {
      "application/vnd.jupyter.widget-view+json": {
       "model_id": "",
       "version_major": 2,
       "version_minor": 0
      },
      "text/plain": [
       "HBox(children=(FloatProgress(value=0.0, description='Training', layout=Layout(flex='2'), max=1250.0, style=Pro…"
      ]
     },
     "metadata": {},
     "output_type": "display_data"
    },
    {
     "name": "stdout",
     "output_type": "stream",
     "text": [
      "Epoch 1904: train=8.78227, val=8.62594, took 70.74 s\n",
      "  Validation Found 101709 of 108007, added 5405 (eff 94.17%) (0.27 FP/event)\n",
      "Result epoch:  1904\n",
      "Average Eff:  0\n",
      "Average FP Rate:  0\n"
     ]
    },
    {
     "data": {
      "application/vnd.jupyter.widget-view+json": {
       "model_id": "",
       "version_major": 2,
       "version_minor": 0
      },
      "text/plain": [
       "HBox(children=(FloatProgress(value=0.0, description='Training', layout=Layout(flex='2'), max=1250.0, style=Pro…"
      ]
     },
     "metadata": {},
     "output_type": "display_data"
    },
    {
     "name": "stdout",
     "output_type": "stream",
     "text": [
      "Epoch 1905: train=8.78025, val=8.63476, took 71.078 s\n",
      "  Validation Found 101670 of 108007, added 5374 (eff 94.13%) (0.269 FP/event)\n",
      "Result epoch:  1905\n",
      "Average Eff:  0\n",
      "Average FP Rate:  0\n"
     ]
    },
    {
     "data": {
      "application/vnd.jupyter.widget-view+json": {
       "model_id": "",
       "version_major": 2,
       "version_minor": 0
      },
      "text/plain": [
       "HBox(children=(FloatProgress(value=0.0, description='Training', layout=Layout(flex='2'), max=1250.0, style=Pro…"
      ]
     },
     "metadata": {},
     "output_type": "display_data"
    },
    {
     "name": "stdout",
     "output_type": "stream",
     "text": [
      "Epoch 1906: train=8.77798, val=8.63206, took 70.654 s\n",
      "  Validation Found 101642 of 108007, added 5331 (eff 94.11%) (0.267 FP/event)\n",
      "Result epoch:  1906\n",
      "Average Eff:  0\n",
      "Average FP Rate:  0\n"
     ]
    },
    {
     "data": {
      "application/vnd.jupyter.widget-view+json": {
       "model_id": "",
       "version_major": 2,
       "version_minor": 0
      },
      "text/plain": [
       "HBox(children=(FloatProgress(value=0.0, description='Training', layout=Layout(flex='2'), max=1250.0, style=Pro…"
      ]
     },
     "metadata": {},
     "output_type": "display_data"
    },
    {
     "name": "stdout",
     "output_type": "stream",
     "text": [
      "Epoch 1907: train=8.77882, val=8.62156, took 71.056 s\n",
      "  Validation Found 101688 of 108007, added 5354 (eff 94.15%) (0.268 FP/event)\n",
      "Result epoch:  1907\n",
      "Average Eff:  0\n",
      "Average FP Rate:  0\n"
     ]
    },
    {
     "data": {
      "application/vnd.jupyter.widget-view+json": {
       "model_id": "",
       "version_major": 2,
       "version_minor": 0
      },
      "text/plain": [
       "HBox(children=(FloatProgress(value=0.0, description='Training', layout=Layout(flex='2'), max=1250.0, style=Pro…"
      ]
     },
     "metadata": {},
     "output_type": "display_data"
    },
    {
     "name": "stdout",
     "output_type": "stream",
     "text": [
      "Epoch 1908: train=8.7844, val=8.62827, took 70.197 s\n",
      "  Validation Found 101604 of 108007, added 5281 (eff 94.07%) (0.264 FP/event)\n",
      "Result epoch:  1908\n",
      "Average Eff:  0\n",
      "Average FP Rate:  0\n"
     ]
    },
    {
     "data": {
      "application/vnd.jupyter.widget-view+json": {
       "model_id": "",
       "version_major": 2,
       "version_minor": 0
      },
      "text/plain": [
       "HBox(children=(FloatProgress(value=0.0, description='Training', layout=Layout(flex='2'), max=1250.0, style=Pro…"
      ]
     },
     "metadata": {},
     "output_type": "display_data"
    },
    {
     "name": "stdout",
     "output_type": "stream",
     "text": [
      "Epoch 1909: train=8.77378, val=8.62866, took 71.556 s\n",
      "  Validation Found 101769 of 108007, added 5578 (eff 94.22%) (0.279 FP/event)\n",
      "Result epoch:  1909\n",
      "Average Eff:  0\n",
      "Average FP Rate:  0\n"
     ]
    },
    {
     "data": {
      "application/vnd.jupyter.widget-view+json": {
       "model_id": "",
       "version_major": 2,
       "version_minor": 0
      },
      "text/plain": [
       "HBox(children=(FloatProgress(value=0.0, description='Training', layout=Layout(flex='2'), max=1250.0, style=Pro…"
      ]
     },
     "metadata": {},
     "output_type": "display_data"
    },
    {
     "name": "stdout",
     "output_type": "stream",
     "text": [
      "Epoch 1910: train=8.78008, val=8.62882, took 72.148 s\n",
      "  Validation Found 101789 of 108007, added 5620 (eff 94.24%) (0.281 FP/event)\n",
      "Result epoch:  1910\n",
      "Average Eff:  0\n",
      "Average FP Rate:  0\n"
     ]
    },
    {
     "data": {
      "application/vnd.jupyter.widget-view+json": {
       "model_id": "",
       "version_major": 2,
       "version_minor": 0
      },
      "text/plain": [
       "HBox(children=(FloatProgress(value=0.0, description='Training', layout=Layout(flex='2'), max=1250.0, style=Pro…"
      ]
     },
     "metadata": {},
     "output_type": "display_data"
    },
    {
     "name": "stdout",
     "output_type": "stream",
     "text": [
      "Epoch 1911: train=8.77871, val=8.63268, took 71.475 s\n",
      "  Validation Found 101676 of 108007, added 5350 (eff 94.14%) (0.267 FP/event)\n",
      "Result epoch:  1911\n",
      "Average Eff:  0\n",
      "Average FP Rate:  0\n"
     ]
    },
    {
     "data": {
      "application/vnd.jupyter.widget-view+json": {
       "model_id": "",
       "version_major": 2,
       "version_minor": 0
      },
      "text/plain": [
       "HBox(children=(FloatProgress(value=0.0, description='Training', layout=Layout(flex='2'), max=1250.0, style=Pro…"
      ]
     },
     "metadata": {},
     "output_type": "display_data"
    },
    {
     "name": "stdout",
     "output_type": "stream",
     "text": [
      "Epoch 1912: train=8.78235, val=8.62665, took 71.906 s\n",
      "  Validation Found 101690 of 108007, added 5380 (eff 94.15%) (0.269 FP/event)\n",
      "Result epoch:  1912\n",
      "Average Eff:  0\n",
      "Average FP Rate:  0\n"
     ]
    },
    {
     "data": {
      "application/vnd.jupyter.widget-view+json": {
       "model_id": "",
       "version_major": 2,
       "version_minor": 0
      },
      "text/plain": [
       "HBox(children=(FloatProgress(value=0.0, description='Training', layout=Layout(flex='2'), max=1250.0, style=Pro…"
      ]
     },
     "metadata": {},
     "output_type": "display_data"
    },
    {
     "name": "stdout",
     "output_type": "stream",
     "text": [
      "Epoch 1913: train=8.77678, val=8.63086, took 71.585 s\n",
      "  Validation Found 101745 of 108007, added 5551 (eff 94.20%) (0.278 FP/event)\n",
      "Result epoch:  1913\n",
      "Average Eff:  0\n",
      "Average FP Rate:  0\n"
     ]
    },
    {
     "data": {
      "application/vnd.jupyter.widget-view+json": {
       "model_id": "",
       "version_major": 2,
       "version_minor": 0
      },
      "text/plain": [
       "HBox(children=(FloatProgress(value=0.0, description='Training', layout=Layout(flex='2'), max=1250.0, style=Pro…"
      ]
     },
     "metadata": {},
     "output_type": "display_data"
    },
    {
     "name": "stdout",
     "output_type": "stream",
     "text": [
      "Epoch 1914: train=8.77903, val=8.63865, took 70.873 s\n",
      "  Validation Found 101658 of 108007, added 5351 (eff 94.12%) (0.268 FP/event)\n",
      "Result epoch:  1914\n",
      "Average Eff:  0\n",
      "Average FP Rate:  0\n"
     ]
    },
    {
     "data": {
      "application/vnd.jupyter.widget-view+json": {
       "model_id": "",
       "version_major": 2,
       "version_minor": 0
      },
      "text/plain": [
       "HBox(children=(FloatProgress(value=0.0, description='Training', layout=Layout(flex='2'), max=1250.0, style=Pro…"
      ]
     },
     "metadata": {},
     "output_type": "display_data"
    },
    {
     "name": "stdout",
     "output_type": "stream",
     "text": [
      "Epoch 1915: train=8.78071, val=8.62335, took 71.939 s\n",
      "  Validation Found 101757 of 108007, added 5518 (eff 94.21%) (0.276 FP/event)\n",
      "Result epoch:  1915\n",
      "Average Eff:  0\n",
      "Average FP Rate:  0\n"
     ]
    },
    {
     "data": {
      "application/vnd.jupyter.widget-view+json": {
       "model_id": "",
       "version_major": 2,
       "version_minor": 0
      },
      "text/plain": [
       "HBox(children=(FloatProgress(value=0.0, description='Training', layout=Layout(flex='2'), max=1250.0, style=Pro…"
      ]
     },
     "metadata": {},
     "output_type": "display_data"
    },
    {
     "name": "stdout",
     "output_type": "stream",
     "text": [
      "Epoch 1916: train=8.77429, val=8.62675, took 71.559 s\n",
      "  Validation Found 101702 of 108007, added 5398 (eff 94.16%) (0.27 FP/event)\n",
      "Result epoch:  1916\n",
      "Average Eff:  0\n",
      "Average FP Rate:  0\n"
     ]
    },
    {
     "data": {
      "application/vnd.jupyter.widget-view+json": {
       "model_id": "",
       "version_major": 2,
       "version_minor": 0
      },
      "text/plain": [
       "HBox(children=(FloatProgress(value=0.0, description='Training', layout=Layout(flex='2'), max=1250.0, style=Pro…"
      ]
     },
     "metadata": {},
     "output_type": "display_data"
    },
    {
     "name": "stdout",
     "output_type": "stream",
     "text": [
      "Epoch 1917: train=8.78009, val=8.62786, took 71.534 s\n",
      "  Validation Found 101692 of 108007, added 5364 (eff 94.15%) (0.268 FP/event)\n",
      "Result epoch:  1917\n",
      "Average Eff:  0\n",
      "Average FP Rate:  0\n"
     ]
    },
    {
     "data": {
      "application/vnd.jupyter.widget-view+json": {
       "model_id": "",
       "version_major": 2,
       "version_minor": 0
      },
      "text/plain": [
       "HBox(children=(FloatProgress(value=0.0, description='Training', layout=Layout(flex='2'), max=1250.0, style=Pro…"
      ]
     },
     "metadata": {},
     "output_type": "display_data"
    },
    {
     "name": "stdout",
     "output_type": "stream",
     "text": [
      "Epoch 1918: train=8.77223, val=8.63279, took 71.99 s\n",
      "  Validation Found 101688 of 108007, added 5386 (eff 94.15%) (0.269 FP/event)\n",
      "Result epoch:  1918\n",
      "Average Eff:  0\n",
      "Average FP Rate:  0\n"
     ]
    },
    {
     "data": {
      "application/vnd.jupyter.widget-view+json": {
       "model_id": "",
       "version_major": 2,
       "version_minor": 0
      },
      "text/plain": [
       "HBox(children=(FloatProgress(value=0.0, description='Training', layout=Layout(flex='2'), max=1250.0, style=Pro…"
      ]
     },
     "metadata": {},
     "output_type": "display_data"
    },
    {
     "name": "stdout",
     "output_type": "stream",
     "text": [
      "Epoch 1919: train=8.77558, val=8.6279, took 72.114 s\n",
      "  Validation Found 101702 of 108007, added 5399 (eff 94.16%) (0.27 FP/event)\n",
      "Result epoch:  1919\n",
      "Average Eff:  0\n",
      "Average FP Rate:  0\n"
     ]
    },
    {
     "data": {
      "application/vnd.jupyter.widget-view+json": {
       "model_id": "",
       "version_major": 2,
       "version_minor": 0
      },
      "text/plain": [
       "HBox(children=(FloatProgress(value=0.0, description='Training', layout=Layout(flex='2'), max=1250.0, style=Pro…"
      ]
     },
     "metadata": {},
     "output_type": "display_data"
    },
    {
     "name": "stdout",
     "output_type": "stream",
     "text": [
      "Epoch 1920: train=8.78149, val=8.62662, took 72.084 s\n",
      "  Validation Found 101718 of 108007, added 5428 (eff 94.18%) (0.271 FP/event)\n",
      "Result epoch:  1920\n",
      "Average Eff:  0\n",
      "Average FP Rate:  0\n"
     ]
    },
    {
     "data": {
      "application/vnd.jupyter.widget-view+json": {
       "model_id": "",
       "version_major": 2,
       "version_minor": 0
      },
      "text/plain": [
       "HBox(children=(FloatProgress(value=0.0, description='Training', layout=Layout(flex='2'), max=1250.0, style=Pro…"
      ]
     },
     "metadata": {},
     "output_type": "display_data"
    },
    {
     "name": "stdout",
     "output_type": "stream",
     "text": [
      "Epoch 1921: train=8.77794, val=8.62569, took 72.267 s\n",
      "  Validation Found 101747 of 108007, added 5476 (eff 94.20%) (0.274 FP/event)\n",
      "Result epoch:  1921\n",
      "Average Eff:  0\n",
      "Average FP Rate:  0\n"
     ]
    },
    {
     "data": {
      "application/vnd.jupyter.widget-view+json": {
       "model_id": "",
       "version_major": 2,
       "version_minor": 0
      },
      "text/plain": [
       "HBox(children=(FloatProgress(value=0.0, description='Training', layout=Layout(flex='2'), max=1250.0, style=Pro…"
      ]
     },
     "metadata": {},
     "output_type": "display_data"
    },
    {
     "name": "stdout",
     "output_type": "stream",
     "text": [
      "Epoch 1922: train=8.77844, val=8.62459, took 73.185 s\n",
      "  Validation Found 101755 of 108007, added 5494 (eff 94.21%) (0.275 FP/event)\n",
      "Result epoch:  1922\n",
      "Average Eff:  0\n",
      "Average FP Rate:  0\n"
     ]
    },
    {
     "data": {
      "application/vnd.jupyter.widget-view+json": {
       "model_id": "",
       "version_major": 2,
       "version_minor": 0
      },
      "text/plain": [
       "HBox(children=(FloatProgress(value=0.0, description='Training', layout=Layout(flex='2'), max=1250.0, style=Pro…"
      ]
     },
     "metadata": {},
     "output_type": "display_data"
    },
    {
     "name": "stdout",
     "output_type": "stream",
     "text": [
      "Epoch 1923: train=8.78117, val=8.63557, took 72.477 s\n",
      "  Validation Found 101565 of 108007, added 5231 (eff 94.04%) (0.262 FP/event)\n",
      "Result epoch:  1923\n",
      "Average Eff:  0\n",
      "Average FP Rate:  0\n"
     ]
    },
    {
     "data": {
      "application/vnd.jupyter.widget-view+json": {
       "model_id": "",
       "version_major": 2,
       "version_minor": 0
      },
      "text/plain": [
       "HBox(children=(FloatProgress(value=0.0, description='Training', layout=Layout(flex='2'), max=1250.0, style=Pro…"
      ]
     },
     "metadata": {},
     "output_type": "display_data"
    },
    {
     "name": "stdout",
     "output_type": "stream",
     "text": [
      "Epoch 1924: train=8.77932, val=8.63191, took 71.807 s\n",
      "  Validation Found 101698 of 108007, added 5396 (eff 94.16%) (0.27 FP/event)\n",
      "Result epoch:  1924\n",
      "Average Eff:  0\n",
      "Average FP Rate:  0\n"
     ]
    },
    {
     "data": {
      "application/vnd.jupyter.widget-view+json": {
       "model_id": "",
       "version_major": 2,
       "version_minor": 0
      },
      "text/plain": [
       "HBox(children=(FloatProgress(value=0.0, description='Training', layout=Layout(flex='2'), max=1250.0, style=Pro…"
      ]
     },
     "metadata": {},
     "output_type": "display_data"
    },
    {
     "name": "stdout",
     "output_type": "stream",
     "text": [
      "Epoch 1925: train=8.7784, val=8.6287, took 71.247 s\n",
      "  Validation Found 101767 of 108007, added 5568 (eff 94.22%) (0.278 FP/event)\n",
      "Result epoch:  1925\n",
      "Average Eff:  0\n",
      "Average FP Rate:  0\n"
     ]
    },
    {
     "data": {
      "application/vnd.jupyter.widget-view+json": {
       "model_id": "d4fcad04b5904bc188232bd84a91d636",
       "version_major": 2,
       "version_minor": 0
      },
      "text/plain": [
       "HBox(children=(FloatProgress(value=0.0, description='Training', layout=Layout(flex='2'), max=1250.0, style=Pro…"
      ]
     },
     "metadata": {},
     "output_type": "display_data"
    }
   ],
   "source": [
    "avgEff=0\n",
    "avgFP=0\n",
    "print('for model: ', model)   \n",
    "run_name = 'ACN_3_P_10L_4S_BN (P6)'\n",
    "# Create an mlflow run\n",
    "with mlflow.start_run(run_name=run_name) as run:\n",
    "    # Log parameters of the model\n",
    "    for key, value in vars(args).items():\n",
    "        print(key, value)\n",
    "        mlflow.log_param(key, value)\n",
    "    \n",
    "    # Log parameter count in the model\n",
    "    mlflow.log_param('Parameters', count_parameters(model))\n",
    "    \n",
    "    # Begin run\n",
    "    for result in trainNet(model, optimizer, loss,\n",
    "                            train_loader, val_loader,\n",
    "                            args.epochs+args.epoch_start, epoch_start=args.epoch_start,\n",
    "                            notebook=True, device=device):\n",
    "\n",
    "        result = result._asdict()\n",
    "        results = results.append(pd.Series(result), ignore_index=True)\n",
    "    \n",
    "        xs = results.index\n",
    "    \n",
    "        # Update the plot above\n",
    "        lines['train'].set_data(results.index,results.cost)\n",
    "        lines['val'].set_data(results.index,results.val)\n",
    "    \n",
    "        #filter first cost epoch (can be really large)\n",
    "        max_cost = max(max(results.cost if len(results.cost)<2 else results.cost[1:]), max(results.val))\n",
    "        min_cost = min(min(results.cost), min(results.val))\n",
    "    \n",
    "        # The plot limits need updating too\n",
    "        ax.set_ylim(min_cost*.9, max_cost*1.1)  \n",
    "        ax.set_xlim(-.5, len(results.cost) - .5)\n",
    "    \n",
    "        replace_in_ax(lax, lines['eff'], xs, results['eff_val'].apply(lambda x: x.eff_rate))\n",
    "        replace_in_ax(tax, lines['fp'], xs, results['eff_val'].apply(lambda x: x.fp_rate))\n",
    "    \n",
    "        # Redraw the figure\n",
    "        fig.canvas.draw()\n",
    "            \n",
    "        ## MLFLOW ##\n",
    "        # Log metrics\n",
    "        mlflow.log_metric('Efficiency', result['eff_val'].eff_rate, result['epoch'])\n",
    "        mlflow.log_metric('False Positive Rate',  result['eff_val'].fp_rate, result['epoch'])\n",
    "        mlflow.log_metric('Validation Loss',  result['val'], result['epoch'])\n",
    "        mlflow.log_metric('Training Loss',  result['cost'], result['epoch'])\n",
    "        \n",
    "        print('Result epoch: ', result['epoch'])\n",
    "        if(result['epoch'] >= args.epochs + args.epoch_start - 10):\n",
    "            avgEff += result['eff_val'].eff_rate\n",
    "            avgFP += result['eff_val'].fp_rate\n",
    "           \n",
    "        if(result['epoch'] == args.epochs + args.epoch_start - 1):\n",
    "            print('Averaging...\\n')\n",
    "            avgEff /= 10\n",
    "            avgFP /= 10\n",
    "            mlflow.log_metric('10 Efficiency Average', avgEff)\n",
    "            mlflow.log_metric('10 False Positive Average', avgFP)\n",
    "            \n",
    "        print('Average Eff: ', avgEff)\n",
    "        print('Average FP Rate: ', avgFP)\n",
    "            \n",
    "        # Log tags\n",
    "#        mlflow.set_tag('Optimizer', 'Adam')\n",
    "#        mlflow.set_tag('Kernel size', 'Mixed')\n",
    "#        mlflow.set_tag('Skip connections', '4')\n",
    "#        mlflow.set_tag('Activation', 'Softplus')\n",
    "#        mlflow.set_tag('Mid Activation', 'Relu')\n",
    "        mlflow.set_tag('Asymmetry', '2.5')\n",
    "        mlflow.set_tag('KDE', 'Poca')\n",
    "\n",
    "        # Save model state dictionary, optimizer state dictionary, and epoch number\n",
    "        torch.save({\n",
    "            'model':model.state_dict(),\n",
    "            'optimizer':optimizer.state_dict(),\n",
    "            'epoch':args.epochs+result['epoch']\n",
    "            }, 'run_stats.pyt')\n",
    "        # Save the run stats into mlflow\n",
    "        mlflow.log_artifact('run_stats.pyt')\n",
    "            \n",
    "        # Save a diagram of the architecture\n",
    "#        HL.transforms.Fold(\"Conv\", \"Conv\"),\n",
    "#        HL.build_graph(model, torch.zeros([args.batch_size, 1, 4000]).to(device)).save('architecture', format='png')\n",
    "#        mlflow.log_artifact('architecture.png')\n",
    "        \n",
    "        # log the code for the model architecture\n",
    "#        mlflow.log_artifact('architecture.txt')\n",
    "        \n",
    "    dual_train_plots(results.index,\n",
    "                 results.cost, results.val, \n",
    "                 results['eff_val'].apply(lambda x: x.eff_rate),\n",
    "                 results['eff_val'].apply(lambda x: x.fp_rate))\n",
    "    # save plot\n",
    "    plt.tight_layout()\n",
    "    plt.savefig('plot.png')\n",
    "    mlflow.log_artifact('plot.png')"
   ]
  },
  {
   "cell_type": "code",
   "execution_count": null,
   "metadata": {},
   "outputs": [],
   "source": [
    "##quit()"
   ]
  }
 ],
 "metadata": {
  "kernelspec": {
   "display_name": "goofit-june2020",
   "language": "python",
   "name": "goofit-june2020"
  },
  "language_info": {
   "codemirror_mode": {
    "name": "ipython",
    "version": 3
   },
   "file_extension": ".py",
   "mimetype": "text/x-python",
   "name": "python",
   "nbconvert_exporter": "python",
   "pygments_lexer": "ipython3",
   "version": "3.7.6"
  }
 },
 "nbformat": 4,
 "nbformat_minor": 2
}
