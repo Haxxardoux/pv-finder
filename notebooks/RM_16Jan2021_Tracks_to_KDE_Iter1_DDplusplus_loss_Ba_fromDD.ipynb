{
 "cells": [
  {
   "cell_type": "code",
   "execution_count": 1,
   "metadata": {},
   "outputs": [],
   "source": [
    "##%matplotlib widget\n",
    "## with %matplotlib notebook: seems to require ipympl as part of environment, either\n",
    "## part of the conda environment or \"pip install ipympl\"\n",
    "## otherwise, does not show ANY plots in note\"book, plt.savefig() works\n",
    "%matplotlib notebook  \n",
    "##%matplotlib inline    ## --plt.savefig()  works, but re-sizing does NOT\n"
   ]
  },
  {
   "cell_type": "markdown",
   "metadata": {},
   "source": [
    "This notebook is an iterated attempt to calculate the KDE used as input to PvFinder. We are reading in  a poca KDE (KDE_A to start) rather than the original KDEs. \n",
    "\n",
    "The starting point here is a trained version of TracksToKDE_DD (fully connected layers only) to which we add some convolutional layers and a final fully connected layer (because only CNN stalls).\n",
    "\n",
    "collectdata_kde_C.py uses poca_z, poca_x, poca_y, major_axis_x, major_axis_y, and major_axis_z as the six track parameters (for the moment)\n"
   ]
  },
  {
   "cell_type": "markdown",
   "metadata": {},
   "source": [
    "Check the current GPU usage. Please try to be nice!"
   ]
  },
  {
   "cell_type": "code",
   "execution_count": 2,
   "metadata": {},
   "outputs": [
    {
     "name": "stdout",
     "output_type": "stream",
     "text": [
      "Sun Jan 17 00:36:30 2021       \n",
      "+-----------------------------------------------------------------------------+\n",
      "| NVIDIA-SMI 440.64.00    Driver Version: 440.64.00    CUDA Version: 10.2     |\n",
      "|-------------------------------+----------------------+----------------------+\n",
      "| GPU  Name        Persistence-M| Bus-Id        Disp.A | Volatile Uncorr. ECC |\n",
      "| Fan  Temp  Perf  Pwr:Usage/Cap|         Memory-Usage | GPU-Util  Compute M. |\n",
      "|===============================+======================+======================|\n",
      "|   0  TITAN V             Off  | 00000000:03:00.0 Off |                  N/A |\n",
      "| 31%   40C    P0    33W / 250W |      0MiB / 12066MiB |      0%      Default |\n",
      "+-------------------------------+----------------------+----------------------+\n",
      "|   1  Tesla P100-PCIE...  Off  | 00000000:83:00.0 Off |                    0 |\n",
      "| N/A   34C    P0    28W / 250W |      0MiB / 16280MiB |      4%      Default |\n",
      "+-------------------------------+----------------------+----------------------+\n",
      "|   2  TITAN V             Off  | 00000000:84:00.0 Off |                  N/A |\n",
      "| 62%   83C    P2   154W / 250W |   7601MiB / 12066MiB |     97%      Default |\n",
      "+-------------------------------+----------------------+----------------------+\n",
      "                                                                               \n",
      "+-----------------------------------------------------------------------------+\n",
      "| Processes:                                                       GPU Memory |\n",
      "|  GPU       PID   Type   Process name                             Usage      |\n",
      "|=============================================================================|\n",
      "|    2     10709      C   ...a/conda/envs/goofit-june2020/bin/python  7589MiB |\n",
      "+-----------------------------------------------------------------------------+\n"
     ]
    }
   ],
   "source": [
    "!nvidia-smi"
   ]
  },
  {
   "cell_type": "markdown",
   "metadata": {},
   "source": [
    "> **WARNING**: The card numbers here are *not* the same as in CUDA. You have been warned."
   ]
  },
  {
   "cell_type": "markdown",
   "metadata": {},
   "source": [
    "This notebook is first attempt to read in track information and use it to predict the KDE used as input to PvFinder.\n"
   ]
  },
  {
   "cell_type": "markdown",
   "metadata": {},
   "source": [
    "## Imports"
   ]
  },
  {
   "cell_type": "code",
   "execution_count": 3,
   "metadata": {},
   "outputs": [],
   "source": [
    "import matplotlib.pyplot as plt\n",
    "import numpy as np\n",
    "import time\n",
    "import torch\n",
    "import pandas as pd\n",
    "\n",
    "# Python 3 standard library\n",
    "from pathlib import Path\n",
    "\n",
    "##from torchsummary import summary"
   ]
  },
  {
   "cell_type": "markdown",
   "metadata": {},
   "source": [
    "### Set up local parameters"
   ]
  },
  {
   "cell_type": "code",
   "execution_count": 4,
   "metadata": {},
   "outputs": [],
   "source": [
    "n_epochs = 300\n",
    "\n",
    "# Name is the output file name\n",
    "\n",
    "\n",
    "##  201027 -- about to go to bed, so try 2500 epochs with lr = 1e55\n",
    "##  previous iteration had l4 = 3e-5 and cost dropped almost linearly\n",
    "##  for 100 epochs -- final training costs ~ 2.02, validation cost ~ 2.01\n",
    "\n",
    "## for iter 4, try 10 epochs with lr = 3e-6\n",
    "## usually have a big jump down at epoch 0; want to try a\n",
    "## small number of epochs per iteration and see what happens (iter4: 10 epochs gave\n",
    "## traiing cost dropping from 1.54 to 1.50 immediately, then dropping very slowly)\n",
    "folder = '16Jan2021_TracksToKDE_DDplusplus_loss_Ba_iter1_floatAll_300epochs_1em4_4xwill'\n",
    "name   = folder\n",
    "\n",
    "# Make an output folder named \"name\" (change if you want)\n",
    "\n",
    "## Special instructions for those working on goofy at UC\n",
    "## Please be very careful to make sure that your folder\n",
    "## does not live in a subdirectory of your home directory\n",
    "## this disk has very little capacity. Instead, use \n",
    "## a subdirectory in /share/lazy with a symbolic link to\n",
    "## it in this (the notebooks) subdirectory\n",
    "folder = 'ML/' + folder\n",
    "output = Path(folder)\n",
    "\n",
    "\n",
    "# Size of batches\n",
    "##batch_size = 32 ## was 16 ---> on Titan V 5791MiB / 12066MiB; 32 ---> 10481MiB / 12066MiB [when freezing early layers]\n",
    "batch_size = 24 \n",
    "# How fast to learn\n",
    "learning_rate = 1e-4"
   ]
  },
  {
   "cell_type": "markdown",
   "metadata": {},
   "source": [
    "Make the output directory if it does not exist:"
   ]
  },
  {
   "cell_type": "code",
   "execution_count": 5,
   "metadata": {},
   "outputs": [],
   "source": [
    "output.mkdir(exist_ok=True)"
   ]
  },
  {
   "cell_type": "markdown",
   "metadata": {},
   "source": [
    "## Get the helper functions\n",
    "\n",
    "Add the directory with the model\n",
    "definitions to the path so we can import from it:\n",
    "\n",
    "> When you type `import X`,\n",
    "Python searches `sys.path` for a python\n",
    "file named `X.py` to import. So we need to add the model directory to the path."
   ]
  },
  {
   "cell_type": "code",
   "execution_count": 6,
   "metadata": {
    "scrolled": true
   },
   "outputs": [],
   "source": [
    "# From model/collectdata.py\n",
    "##from model.collectdata_kde_B import collect_t2kde_data\n",
    "## collectdata_kde_C should use the new poca KDE rather than the original kernel KDE\n",
    "from model.collectdata_kde_Ellipsoids import collect_t2kde_data\n",
    "\n",
    "\n",
    "# From model/loss.py\n",
    "### kde_loss_Ba is just a chisq loss, normalized\n",
    "from model.kde_loss_Ba import Loss\n",
    "\n",
    "\n",
    "##  It takes 9 input features (pocca centers + (A,B,C,D,E,F) . \n",
    "from model.models_kde import TracksToKDE_DDplusplus as Model\n",
    "\n",
    "\n",
    "from model.training_kde import trainNet, select_gpu, Results\n",
    "from model.plots import dual_train_plots, replace_in_ax"
   ]
  },
  {
   "cell_type": "code",
   "execution_count": 7,
   "metadata": {},
   "outputs": [],
   "source": [
    "# This gets built up during the run - do not rerun this cell\n",
    "results = pd.DataFrame([], columns=Results._fields)"
   ]
  },
  {
   "cell_type": "markdown",
   "metadata": {},
   "source": [
    "Set up Torch device configuration. All tensors and model parameters need to know where to be put.\n",
    "This takes a BUS ID number: The BUS ID is the same as the listing at the top of this script."
   ]
  },
  {
   "cell_type": "code",
   "execution_count": 8,
   "metadata": {},
   "outputs": [
    {
     "name": "stdout",
     "output_type": "stream",
     "text": [
      "1 available GPUs (initially using device 0):\n",
      "  0 TITAN V\n"
     ]
    }
   ],
   "source": [
    "device = select_gpu(0)\n",
    "##device = \"cpu\""
   ]
  },
  {
   "cell_type": "markdown",
   "metadata": {},
   "source": [
    "## Loading data\n",
    "\n",
    "Load the dataset, split into parts, then move to device (see `collectdata.py` in the `../model` directory)"
   ]
  },
  {
   "cell_type": "markdown",
   "metadata": {},
   "source": [
    "# Preparing the model"
   ]
  },
  {
   "cell_type": "markdown",
   "metadata": {},
   "source": [
    "Prepare a model, use multiple GPUs if they are VISIBLE, and move the model to the device."
   ]
  },
  {
   "cell_type": "code",
   "execution_count": 9,
   "metadata": {
    "scrolled": true
   },
   "outputs": [],
   "source": [
    "##print(\"Let's use\", torch.cuda.device_count(), \"GPUs!\")\n",
    "##if torch.cuda.device_count() > 1:\n",
    "##    model = torch.nn.DataParallel(model)"
   ]
  },
  {
   "cell_type": "code",
   "execution_count": 10,
   "metadata": {},
   "outputs": [
    {
     "name": "stdout",
     "output_type": "stream",
     "text": [
      "ct, child =  0    Linear(in_features=9, out_features=50, bias=True)\n",
      "ct, child =  1    Linear(in_features=50, out_features=50, bias=True)\n",
      "ct, child =  2    Linear(in_features=50, out_features=50, bias=True)\n",
      "ct, child =  3    Linear(in_features=50, out_features=50, bias=True)\n",
      "ct, child =  4    Linear(in_features=50, out_features=50, bias=True)\n",
      "ct, child =  5    Linear(in_features=50, out_features=50, bias=True)\n",
      "ct, child =  6    Linear(in_features=50, out_features=50, bias=True)\n",
      "ct, child =  7    Linear(in_features=50, out_features=50, bias=True)\n",
      "ct, child =  8    Linear(in_features=50, out_features=50, bias=True)\n",
      "ct, child =  9    Linear(in_features=50, out_features=50, bias=True)\n",
      "ct, child =  10    Linear(in_features=50, out_features=50, bias=True)\n",
      "ct, child =  11    Linear(in_features=50, out_features=32000, bias=True)\n",
      "ct, child =  12    Conv1d(8, 25, kernel_size=(51,), stride=(1,), padding=(25,))\n",
      "ct, child =  13    Conv1d(25, 15, kernel_size=(25,), stride=(1,), padding=(12,))\n",
      "ct, child =  14    Conv1d(15, 1, kernel_size=(11,), stride=(1,), padding=(5,))\n",
      "ct, child =  15    Linear(in_features=4000, out_features=4000, bias=True)\n",
      "ct, child =  16    Dropout(p=0.15, inplace=False)\n",
      "ct, child =  17    Dropout(p=0.15, inplace=False)\n",
      "ct, child =  18    Dropout(p=0.15, inplace=False)\n"
     ]
    }
   ],
   "source": [
    "## a comment on the web at https://pytorch.org/docs/stable/optim.html says\n",
    "\"\"\"\n",
    "If you need to move a model to GPU via .cuda(), please do so before constructing optimizers for it. \n",
    "Parameters of a model after .cuda() will be different objects with those before the call.\n",
    "\n",
    "In general, you should make sure that optimized parameters live in consistent locations when \n",
    "optimizers are constructed and used.\n",
    "\"\"\"\n",
    "## so move this here (although we are using model.to(device) not explicitly using .cuda()\n",
    "\n",
    "nOut1 = 50\n",
    "nOut2 = 50\n",
    "nOut3 = 50\n",
    "nOut4 = 50\n",
    "nOut5 = 50\n",
    "nOut6 = 50\n",
    "nOut7 = 50\n",
    "nOut8 = 50\n",
    "nOut9 = 50\n",
    "nOut10 = 50\n",
    "nOut11 = 50\n",
    "latentChannels = 8\n",
    "model = Model(nOut1,nOut2,nOut3,nOut4,nOut5,nOut6,nOut7,nOut8,nOut9,nOut10,nOut11,latentChannels)\n",
    "\n",
    "##summary(model, input_size=(4, 4000))\n",
    "##print(model.parameters)\n",
    "\n",
    "## add the following code to allow the user to freeze the some of the weights corresponding \n",
    "## to those taken from an earlier model trained with the original target histograms\n",
    "## presumably -- this leaves either the perturbative filter \"fixed\" and lets the \n",
    "## learning focus on the non-perturbative features, so get started faster, or vice versa\n",
    "\n",
    "## for iter0 we want the weights from the first 11 fully connected layers from DirtyDozen to be re-used without\n",
    "## floating values (or those of their biases)\n",
    "\n",
    "## for Iter1 let all the weights float\n",
    "ct = 0\n",
    "for child in model.children():\n",
    "  print('ct, child = ',ct, \"  \", child)\n",
    "  if ct < 0:\n",
    "    print(\"     About to set param.requires_grad=False for ct = \", ct, \"params\")\n",
    "    for param in child.parameters():\n",
    "        param.requires_grad = False \n",
    "  ct += 1\n",
    "##  mds 200121 loss = Loss(epsilon=1e-5,coefficient=1.0)\n",
    "##  loss = Loss(epsilon=1e-5,coefficient=2.5)\n",
    "##loss = Loss(epsilon=3e-5, debug=False)\n",
    "loss = Loss(epsilon=3e-5)"
   ]
  },
  {
   "cell_type": "markdown",
   "metadata": {},
   "source": [
    "Let's move the model's weight matricies to the GPU:"
   ]
  },
  {
   "cell_type": "code",
   "execution_count": 11,
   "metadata": {
    "scrolled": true
   },
   "outputs": [],
   "source": [
    "model = model.to(device)"
   ]
  },
  {
   "cell_type": "code",
   "execution_count": 12,
   "metadata": {
    "scrolled": true
   },
   "outputs": [],
   "source": [
    "optimizer = torch.optim.Adam(model.parameters(), lr=learning_rate)\n",
    "##optimizer = torch.optim.SGD(model.parameters(), lr=learning_rate)"
   ]
  },
  {
   "cell_type": "code",
   "execution_count": 13,
   "metadata": {
    "scrolled": false
   },
   "outputs": [
    {
     "name": "stdout",
     "output_type": "stream",
     "text": [
      "output =  ML/16Jan2021_TracksToKDE_DDplusplus_loss_Ba_iter1_floatAll_300epochs_1em4_4xwill\n",
      "for model_dict\n",
      "index, k =   0    layer1.weight\n",
      "index, k =   1    layer1.bias\n",
      "index, k =   2    layer2.weight\n",
      "index, k =   3    layer2.bias\n",
      "index, k =   4    layer3.weight\n",
      "index, k =   5    layer3.bias\n",
      "index, k =   6    layer4.weight\n",
      "index, k =   7    layer4.bias\n",
      "index, k =   8    layer5.weight\n",
      "index, k =   9    layer5.bias\n",
      "index, k =   10    layer6.weight\n",
      "index, k =   11    layer6.bias\n",
      "index, k =   12    layer7.weight\n",
      "index, k =   13    layer7.bias\n",
      "index, k =   14    layer8.weight\n",
      "index, k =   15    layer8.bias\n",
      "index, k =   16    layer9.weight\n",
      "index, k =   17    layer9.bias\n",
      "index, k =   18    layer10.weight\n",
      "index, k =   19    layer10.bias\n",
      "index, k =   20    layer11.weight\n",
      "index, k =   21    layer11.bias\n",
      "index, k =   22    layer12new.weight\n",
      "index, k =   23    layer12new.bias\n",
      "index, k =   24    conv1.weight\n",
      "index, k =   25    conv1.bias\n",
      "index, k =   26    conv1A.weight\n",
      "index, k =   27    conv1A.bias\n",
      "index, k =   28    conv2.weight\n",
      "index, k =   29    conv2.bias\n",
      "index, k =   30    fc1.weight\n",
      "index, k =   31    fc1.bias\n",
      "dict_name =  ML/16Jan2021_TracksToKDE_DDplusplus_loss_Ba_iter0_floatAll_5epochs_1em4_4xwill/16Jan2021_TracksToKDE_DDplusplus_loss_Ba_iter0_floatAll_5epochs_1em4_4xwill_final.pyt\n",
      " \n",
      "  for pretrained_dict\n",
      "index, k =   0    layer1.weight\n",
      "index, k =   1    layer1.bias\n",
      "index, k =   2    layer2.weight\n",
      "index, k =   3    layer2.bias\n",
      "index, k =   4    layer3.weight\n",
      "index, k =   5    layer3.bias\n",
      "index, k =   6    layer4.weight\n",
      "index, k =   7    layer4.bias\n",
      "index, k =   8    layer5.weight\n",
      "index, k =   9    layer5.bias\n",
      "index, k =   10    layer6.weight\n",
      "index, k =   11    layer6.bias\n",
      "index, k =   12    layer7.weight\n",
      "index, k =   13    layer7.bias\n",
      "index, k =   14    layer8.weight\n",
      "index, k =   15    layer8.bias\n",
      "index, k =   16    layer9.weight\n",
      "index, k =   17    layer9.bias\n",
      "index, k =   18    layer10.weight\n",
      "index, k =   19    layer10.bias\n",
      "index, k =   20    layer11.weight\n",
      "index, k =   21    layer11.bias\n",
      "index, k =   22    layer12new.weight\n",
      "index, k =   23    layer12new.bias\n",
      "index, k =   24    conv1.weight\n",
      "index, k =   25    conv1.bias\n",
      "index, k =   26    conv1A.weight\n",
      "index, k =   27    conv1A.bias\n",
      "index, k =   28    conv2.weight\n",
      "index, k =   29    conv2.bias\n",
      "index, k =   30    fc1.weight\n",
      "index, k =   31    fc1.bias\n",
      "pretrained_dict iterated\n"
     ]
    },
    {
     "data": {
      "text/plain": [
       "<All keys matched successfully>"
      ]
     },
     "execution_count": 13,
     "metadata": {},
     "output_type": "execute_result"
    }
   ],
   "source": [
    "print('output = ',output)\n",
    "##print('oldOutput = ',oldOutput)\n",
    "##  use the first four layers from a pre-existing model\n",
    "##  see example at https://discuss.pytorch.org/t/how-to-load-part-of-pre-trained-model/1113\n",
    "\n",
    "##   ML -> /share/lazy/sokoloff/ML\n",
    "model_dict = model.state_dict()\n",
    "## mds 190725 for debugging\n",
    "print(\"for model_dict\")\n",
    "index = 0\n",
    "for k,v in model_dict.items():\n",
    "    print(\"index, k =  \",index,\"  \",k)\n",
    "    index = index+1\n",
    "##    print(\"value = \", v)\n",
    " \n",
    "updated_dict = model_dict\n",
    "##print(\"updated_dict = \",updated_dict)\n",
    "## when starting \"ab initio\", reduce biases as the bias gets summed for each track\n",
    "## contributing to the predicted KDE\n",
    "updated_dict[\"layer1.bias\"] = 0.005*model_dict[\"layer1.bias\"]\n",
    "updated_dict[\"layer2.bias\"] = 0.005*model_dict[\"layer2.bias\"]\n",
    "updated_dict[\"layer3.bias\"] = 0.005*model_dict[\"layer3.bias\"]\n",
    "updated_dict[\"layer4.bias\"] = 0.005*model_dict[\"layer4.bias\"]\n",
    "updated_dict[\"layer5.bias\"] = 0.005*model_dict[\"layer5.bias\"]\n",
    "updated_dict[\"layer6.bias\"] = 0.005*model_dict[\"layer6.bias\"]\n",
    "updated_dict[\"layer7.bias\"] = 0.005*model_dict[\"layer7.bias\"]\n",
    "updated_dict[\"layer8.bias\"] = 0.005*model_dict[\"layer8.bias\"]\n",
    "updated_dict[\"layer9.bias\"] = 0.005*model_dict[\"layer9.bias\"]\n",
    "updated_dict[\"layer10.bias\"] = 0.005*model_dict[\"layer10.bias\"]\n",
    "updated_dict[\"layer11.bias\"] = 0.005*model_dict[\"layer11.bias\"]\n",
    "\n",
    "model.load_state_dict(updated_dict,strict=False)\n",
    "\n",
    "model_dict = model.state_dict()\n",
    "##print(\"updated model_dict = \",model_dict)\n",
    "\n",
    "## print(\" \\n\",\"  for pretrained_dict\")\n",
    "## index = 0\n",
    "##for k,v in pretrained_dict.items():\n",
    "##    print(\"index, k =  \",index,\"  \",k)\n",
    "##    index = index+1\n",
    "## mds  \n",
    "\n",
    "##pretrained_dict = torch.load('ML/29July2020_Trks_to_KDE_C_lossB_100epochs_b64_1m3_nOut_50x50/29July2020_Trks_to_KDE_C_lossB_100epochs_b64_1m3_nOut_50x50_final.pyt')\n",
    "##print(\"model_dict instantiated\")\n",
    "# 1. filter out unnecessary keys\n",
    "##pretrained_dict = {k: v for k, v in pretrained_dict.items() if k in model_dict}\n",
    "##print(\"pretrained_dict iterated\")\n",
    "# 2. overwrite entries in the existing state dict\n",
    "##model_dict.update(pretrained_dict) \n",
    "##\n",
    "#   when starting from a model with a fully connected last layer rather than a convolutional layer\n",
    "# 3. load the new state dict\n",
    "#   need to use strict=False as the two models state model attributes do not agree exactly\n",
    "#   see https://pytorch.org/docs/master/_modules/torch/nn/modules/module.html#Module.load_state_dict\n",
    "\n",
    "##model.load_state_dict(pretrained_dict,strict=False)\n",
    "\n",
    "## print('model_dict =    ', model_dict)\n",
    "\n",
    "## finished at training cost = 1.46, validation cost = 1.50\n",
    "d_folder = '16Jan2021_TracksToKDE_DDplusplus_loss_Ba_iter0_floatAll_5epochs_1em4_4xwill'\n",
    "d_name = d_folder\n",
    "suffix = 'final'\n",
    "dict_name = 'ML/' + d_folder + '/' + d_name + '_'+ suffix + '.pyt'\n",
    "print('dict_name = ',dict_name)\n",
    "pretrained_dict = torch.load(dict_name)\n",
    "\n",
    "print(\" \")\n",
    "print(\"  for pretrained_dict\")\n",
    "index = 0\n",
    "for k,v in pretrained_dict.items():\n",
    "    print(\"index, k =  \",index,\"  \",k)\n",
    "    index = index+1\n",
    " \n",
    "\n",
    "##print(\"model_dict instantiated\")\n",
    "# 1. filter out unnecessary keys\n",
    "pretrained_dict = {k: v for k, v in pretrained_dict.items() if k in model_dict}\n",
    "print(\"pretrained_dict iterated\")\n",
    "# 2. overwrite entries in the existing state dict\n",
    "model_dict.update(pretrained_dict) \n",
    "##\n",
    "#   when starting from a model with a fully connected last layer rather than a convolutional layer\n",
    "# 3. load the new state dict\n",
    "#   need to use strict=False as the two models state model attributes do not agree exactly\n",
    "#   see https://pytorch.org/docs/master/_modules/torch/nn/modules/module.html#Module.load_state_dict\n",
    "\n",
    "model.load_state_dict(pretrained_dict,strict=False)\n",
    "\n"
   ]
  },
  {
   "cell_type": "code",
   "execution_count": 14,
   "metadata": {},
   "outputs": [],
   "source": [
    "##print('validation.dataset.tensors = ',validation.dataset.tensors)\n",
    "fig_size = plt.rcParams[\"figure.figsize\"]\n",
    "fig_size[0] = 10\n",
    "fig_size[1] = 4\n",
    "plt.rcParams[\"figure.figsize\"] = fig_size"
   ]
  },
  {
   "cell_type": "code",
   "execution_count": 15,
   "metadata": {
    "scrolled": false
   },
   "outputs": [
    {
     "name": "stdout",
     "output_type": "stream",
     "text": [
      "Loading data...\n",
      "pocaMx.shape =  (80000,)\n",
      "nEvts =  80000\n",
      "len(pocaMx[0]) =  199\n",
      "len(pocaMx[1]) =  25\n",
      "len(pocaMx[2]) =  369\n",
      "len(pocaMx[3]) =  143\n",
      "len(pocaMx[4]) =  160\n",
      "majorAxis.shape =  (80000, 3)\n",
      "minorAxis_1.shape =  (80000, 3)\n",
      "minorAxis_2.shape =  (80000, 3)\n",
      "have entered six_ellipsoid_parameters\n",
      "  \n",
      " \n",
      "  nEvts =  80000\n",
      " iEvt, nTrks =  0 199\n",
      " iEvt, nTrks =  1 25\n",
      " iEvt, nTrks =  2 369\n",
      " iEvt, nTrks =  3 143\n",
      " iEvt, nTrks =  4 160\n",
      " iEvt, nTrks =  5 260\n",
      " iEvt, nTrks =  6 237\n",
      " iEvt, nTrks =  7 327\n",
      " iEvt, nTrks =  8 178\n",
      " iEvt, nTrks =  9 106\n",
      "A.shape =  (80000,)\n",
      "majorAxis[iTrk][0][0] =  0.00045611936\n",
      "majorAxis[iTrk][1][0] =  -4.8292455e-05\n",
      "majorAxis[iTrk][2][0] =  0.090019904\n",
      "minorAxis_1[iTrk][0][0] =  -1.8602173\n",
      "minorAxis_1[iTrk][1][0] =  -17.569641\n",
      "minorAxis_1[iTrk][2][0] =  4.7891795e-08\n",
      "minorAxis_2[iTrk][0][0] =  -17.569414\n",
      "minorAxis_2[iTrk][1][0] =  1.8601931\n",
      "minorAxis_2[iTrk][2][0] =  0.0900199\n",
      "  \n",
      "majorAxis[iTrk][0][0] =  0.002360258\n",
      "majorAxis[iTrk][1][0] =  -0.007426616\n",
      "majorAxis[iTrk][2][0] =  0.3710108\n",
      "minorAxis_1[iTrk][0][0] =  -16.837948\n",
      "minorAxis_1[iTrk][1][0] =  -5.3512807\n",
      "minorAxis_1[iTrk][2][0] =  8.157131e-09\n",
      "minorAxis_2[iTrk][0][0] =  -5.3501005\n",
      "minorAxis_2[iTrk][1][0] =  16.834236\n",
      "minorAxis_2[iTrk][2][0] =  0.3710108\n",
      "  \n",
      "majorAxis[iTrk][0][0] =  6.220712e-05\n",
      "majorAxis[iTrk][1][0] =  -4.4594188e-05\n",
      "majorAxis[iTrk][2][0] =  0.036773544\n",
      "minorAxis_1[iTrk][0][0] =  10.293747\n",
      "minorAxis_1[iTrk][1][0] =  14.359369\n",
      "minorAxis_1[iTrk][2][0] =  1.571041e-06\n",
      "minorAxis_2[iTrk][0][0] =  14.359338\n",
      "minorAxis_2[iTrk][1][0] =  -10.293725\n",
      "minorAxis_2[iTrk][2][0] =  -0.03677354\n",
      "  \n",
      "majorAxis[iTrk][0][0] =  0.0033452737\n",
      "majorAxis[iTrk][1][0] =  0.00013028442\n",
      "majorAxis[iTrk][2][0] =  0.2431933\n",
      "minorAxis_1[iTrk][0][0] =  0.6875674\n",
      "minorAxis_1[iTrk][1][0] =  -17.65446\n",
      "minorAxis_1[iTrk][2][0] =  -6.6602626e-09\n",
      "minorAxis_2[iTrk][0][0] =  -17.652788\n",
      "minorAxis_2[iTrk][1][0] =  -0.68750226\n",
      "minorAxis_2[iTrk][2][0] =  0.2431933\n",
      "  \n",
      "majorAxis[iTrk][0][0] =  -0.00068196515\n",
      "majorAxis[iTrk][1][0] =  -0.00044562915\n",
      "majorAxis[iTrk][2][0] =  0.119970225\n",
      "minorAxis_1[iTrk][0][0] =  9.664597\n",
      "minorAxis_1[iTrk][1][0] =  -14.790141\n",
      "minorAxis_1[iTrk][2][0] =  1.9819232e-08\n",
      "minorAxis_2[iTrk][0][0] =  -14.789802\n",
      "minorAxis_2[iTrk][1][0] =  -9.664374\n",
      "minorAxis_2[iTrk][2][0] =  -0.11997023\n",
      "  \n",
      "majorAxis[iTrk][0][0] =  -8.245073e-05\n",
      "majorAxis[iTrk][1][0] =  0.00015860004\n",
      "majorAxis[iTrk][2][0] =  0.05619731\n",
      "minorAxis_1[iTrk][0][0] =  -15.676071\n",
      "minorAxis_1[iTrk][1][0] =  -8.149452\n",
      "minorAxis_1[iTrk][2][0] =  4.1105773e-07\n",
      "minorAxis_2[iTrk][0][0] =  -8.14941\n",
      "minorAxis_2[iTrk][1][0] =  15.675991\n",
      "minorAxis_2[iTrk][2][0] =  -0.056197315\n",
      "  \n",
      "majorAxis[iTrk][0][0] =  -0.00015151131\n",
      "majorAxis[iTrk][1][0] =  0.00067339616\n",
      "majorAxis[iTrk][2][0] =  0.11042937\n",
      "minorAxis_1[iTrk][0][0] =  17.236937\n",
      "minorAxis_1[iTrk][1][0] =  3.8782384\n",
      "minorAxis_1[iTrk][2][0] =  2.3217373e-08\n",
      "minorAxis_2[iTrk][0][0] =  3.8781626\n",
      "minorAxis_2[iTrk][1][0] =  -17.236599\n",
      "minorAxis_2[iTrk][2][0] =  0.11042936\n",
      "  \n",
      "majorAxis[iTrk][0][0] =  -7.577422e-05\n",
      "majorAxis[iTrk][1][0] =  -0.00036802414\n",
      "majorAxis[iTrk][2][0] =  0.08147708\n",
      "minorAxis_1[iTrk][0][0] =  -17.304853\n",
      "minorAxis_1[iTrk][1][0] =  3.5629773\n",
      "minorAxis_1[iTrk][2][0] =  5.80501e-09\n",
      "minorAxis_2[iTrk][0][0] =  3.5629392\n",
      "minorAxis_2[iTrk][1][0] =  17.304668\n",
      "minorAxis_2[iTrk][2][0] =  0.081477076\n",
      "  \n",
      "majorAxis[iTrk][0][0] =  0.00013397264\n",
      "majorAxis[iTrk][1][0] =  0.00094400026\n",
      "majorAxis[iTrk][2][0] =  0.12978876\n",
      "minorAxis_1[iTrk][0][0] =  17.492561\n",
      "minorAxis_1[iTrk][1][0] =  -2.4825466\n",
      "minorAxis_1[iTrk][2][0] =  1.1329301e-08\n",
      "minorAxis_2[iTrk][0][0] =  -2.4824798\n",
      "minorAxis_2[iTrk][1][0] =  -17.492088\n",
      "minorAxis_2[iTrk][2][0] =  0.12978874\n",
      "  \n",
      "majorAxis[iTrk][0][0] =  0.00043501743\n",
      "majorAxis[iTrk][1][0] =  -0.0016521378\n",
      "majorAxis[iTrk][2][0] =  0.17373301\n",
      "minorAxis_1[iTrk][0][0] =  -17.0855\n",
      "minorAxis_1[iTrk][1][0] =  -4.4987106\n",
      "minorAxis_1[iTrk][2][0] =  -7.7275175e-08\n",
      "minorAxis_2[iTrk][0][0] =  -4.4984937\n",
      "minorAxis_2[iTrk][1][0] =  17.084677\n",
      "minorAxis_2[iTrk][2][0] =  0.17373303\n",
      "  \n",
      "len(X) =  80000\n",
      "len(Xlist) =  1\n",
      "Loaded /share/lazy/will/data/June30_2020_80k_1.h5 in 148.1 s\n",
      "pocaMx.shape =  (80000,)\n",
      "nEvts =  80000\n",
      "len(pocaMx[0]) =  222\n",
      "len(pocaMx[1]) =  133\n",
      "len(pocaMx[2]) =  259\n",
      "len(pocaMx[3]) =  114\n",
      "len(pocaMx[4]) =  143\n",
      "majorAxis.shape =  (80000, 3)\n",
      "minorAxis_1.shape =  (80000, 3)\n",
      "minorAxis_2.shape =  (80000, 3)\n",
      "have entered six_ellipsoid_parameters\n",
      "  \n",
      " \n",
      "  nEvts =  80000\n",
      " iEvt, nTrks =  0 222\n",
      " iEvt, nTrks =  1 133\n",
      " iEvt, nTrks =  2 259\n",
      " iEvt, nTrks =  3 114\n",
      " iEvt, nTrks =  4 143\n",
      " iEvt, nTrks =  5 136\n",
      " iEvt, nTrks =  6 397\n",
      " iEvt, nTrks =  7 370\n",
      " iEvt, nTrks =  8 97\n",
      " iEvt, nTrks =  9 67\n",
      "A.shape =  (80000,)\n",
      "majorAxis[iTrk][0][0] =  -0.001036478\n",
      "majorAxis[iTrk][1][0] =  0.0009833863\n",
      "majorAxis[iTrk][2][0] =  0.15887721\n",
      "minorAxis_1[iTrk][0][0] =  -12.160475\n",
      "minorAxis_1[iTrk][1][0] =  -12.817002\n",
      "minorAxis_1[iTrk][2][0] =  0.0\n",
      "minorAxis_2[iTrk][0][0] =  -12.816484\n",
      "minorAxis_2[iTrk][1][0] =  12.159985\n",
      "minorAxis_2[iTrk][2][0] =  -0.15887721\n",
      "  \n",
      "majorAxis[iTrk][0][0] =  0.0016579849\n",
      "majorAxis[iTrk][1][0] =  0.0020989499\n",
      "majorAxis[iTrk][2][0] =  0.21738033\n",
      "minorAxis_1[iTrk][0][0] =  -13.864233\n",
      "minorAxis_1[iTrk][1][0] =  10.95152\n",
      "minorAxis_1[iTrk][2][0] =  -3.3017489e-09\n",
      "minorAxis_2[iTrk][0][0] =  10.95069\n",
      "minorAxis_2[iTrk][1][0] =  13.863184\n",
      "minorAxis_2[iTrk][2][0] =  -0.21738033\n",
      "  \n",
      "majorAxis[iTrk][0][0] =  0.00012481198\n",
      "majorAxis[iTrk][1][0] =  -0.00028747538\n",
      "majorAxis[iTrk][2][0] =  0.07441149\n",
      "minorAxis_1[iTrk][0][0] =  -16.206305\n",
      "minorAxis_1[iTrk][1][0] =  -7.036224\n",
      "minorAxis_1[iTrk][2][0] =  5.3456716e-08\n",
      "minorAxis_2[iTrk][0][0] =  -7.0361605\n",
      "minorAxis_2[iTrk][1][0] =  16.20616\n",
      "minorAxis_2[iTrk][2][0] =  0.07441148\n",
      "  \n",
      "majorAxis[iTrk][0][0] =  -0.007920195\n",
      "majorAxis[iTrk][1][0] =  -0.009694931\n",
      "majorAxis[iTrk][2][0] =  0.47021532\n",
      "minorAxis_1[iTrk][0][0] =  -13.682467\n",
      "minorAxis_1[iTrk][1][0] =  11.177781\n",
      "minorAxis_1[iTrk][2][0] =  1.8638048e-10\n",
      "minorAxis_2[iTrk][0][0] =  11.173822\n",
      "minorAxis_2[iTrk][1][0] =  13.677622\n",
      "minorAxis_2[iTrk][2][0] =  0.47021535\n",
      "  \n",
      "majorAxis[iTrk][0][0] =  0.00038854493\n",
      "majorAxis[iTrk][1][0] =  0.0009230774\n",
      "majorAxis[iTrk][2][0] =  0.13301943\n",
      "minorAxis_1[iTrk][0][0] =  -16.284061\n",
      "minorAxis_1[iTrk][1][0] =  6.854344\n",
      "minorAxis_1[iTrk][2][0] =  2.2469074e-07\n",
      "minorAxis_2[iTrk][0][0] =  6.8541493\n",
      "minorAxis_2[iTrk][1][0] =  16.283602\n",
      "minorAxis_2[iTrk][2][0] =  -0.13301945\n",
      "  \n",
      "majorAxis[iTrk][0][0] =  -5.6093595e-05\n",
      "majorAxis[iTrk][1][0] =  0.000114469876\n",
      "majorAxis[iTrk][2][0] =  0.04745733\n",
      "minorAxis_1[iTrk][0][0] =  15.865369\n",
      "minorAxis_1[iTrk][1][0] =  7.774496\n",
      "minorAxis_1[iTrk][2][0] =  1.8465234e-06\n",
      "minorAxis_2[iTrk][0][0] =  7.774468\n",
      "minorAxis_2[iTrk][1][0] =  -15.865313\n",
      "minorAxis_2[iTrk][2][0] =  0.04745733\n",
      "  \n",
      "majorAxis[iTrk][0][0] =  9.375396e-05\n",
      "majorAxis[iTrk][1][0] =  0.0002926058\n",
      "majorAxis[iTrk][2][0] =  0.07367872\n",
      "minorAxis_1[iTrk][0][0] =  -16.825275\n",
      "minorAxis_1[iTrk][1][0] =  5.390994\n",
      "minorAxis_1[iTrk][2][0] =  -2.1861728e-08\n",
      "minorAxis_2[iTrk][0][0] =  5.3909473\n",
      "minorAxis_2[iTrk][1][0] =  16.825129\n",
      "minorAxis_2[iTrk][2][0] =  -0.07367872\n",
      "  \n",
      "majorAxis[iTrk][0][0] =  -1.1543522e-06\n",
      "majorAxis[iTrk][1][0] =  2.8112001e-05\n",
      "majorAxis[iTrk][2][0] =  0.022295665\n",
      "minorAxis_1[iTrk][0][0] =  -17.652967\n",
      "minorAxis_1[iTrk][1][0] =  -0.7248769\n",
      "minorAxis_1[iTrk][2][0] =  1.7815448e-07\n",
      "minorAxis_2[iTrk][0][0] =  -0.7248763\n",
      "minorAxis_2[iTrk][1][0] =  17.652954\n",
      "minorAxis_2[iTrk][2][0] =  -0.022295661\n",
      "  \n",
      "majorAxis[iTrk][0][0] =  -0.2612214\n",
      "majorAxis[iTrk][1][0] =  0.83076316\n",
      "majorAxis[iTrk][2][0] =  3.8745012\n",
      "minorAxis_1[iTrk][0][0] =  -16.85429\n",
      "minorAxis_1[iTrk][1][0] =  -5.299587\n",
      "minorAxis_1[iTrk][2][0] =  2.0865195e-11\n",
      "minorAxis_2[iTrk][0][0] =  -5.1705856\n",
      "minorAxis_2[iTrk][1][0] =  16.444027\n",
      "minorAxis_2[iTrk][2][0] =  -3.874501\n",
      "  \n",
      "majorAxis[iTrk][0][0] =  -0.057592034\n",
      "majorAxis[iTrk][1][0] =  0.06503555\n",
      "majorAxis[iTrk][2][0] =  1.2373537\n",
      "minorAxis_1[iTrk][0][0] =  13.227038\n",
      "minorAxis_1[iTrk][1][0] =  11.713163\n",
      "minorAxis_1[iTrk][2][0] =  1.7679876e-10\n",
      "minorAxis_2[iTrk][0][0] =  11.684402\n",
      "minorAxis_2[iTrk][1][0] =  -13.194561\n",
      "minorAxis_2[iTrk][2][0] =  1.2373537\n",
      "  \n",
      "len(X) =  80000\n",
      "len(Xlist) =  2\n",
      "Loaded /share/lazy/will/data/June30_2020_80k_2.h5 in 149.0 s\n",
      "pocaMx.shape =  (80000,)\n"
     ]
    },
    {
     "name": "stdout",
     "output_type": "stream",
     "text": [
      "nEvts =  80000\n",
      "len(pocaMx[0]) =  196\n",
      "len(pocaMx[1]) =  35\n",
      "len(pocaMx[2]) =  265\n",
      "len(pocaMx[3]) =  128\n",
      "len(pocaMx[4]) =  124\n",
      "majorAxis.shape =  (80000, 3)\n",
      "minorAxis_1.shape =  (80000, 3)\n",
      "minorAxis_2.shape =  (80000, 3)\n",
      "have entered six_ellipsoid_parameters\n",
      "  \n",
      " \n",
      "  nEvts =  80000\n",
      " iEvt, nTrks =  0 196\n",
      " iEvt, nTrks =  1 35\n",
      " iEvt, nTrks =  2 265\n",
      " iEvt, nTrks =  3 128\n",
      " iEvt, nTrks =  4 124\n",
      " iEvt, nTrks =  5 122\n",
      " iEvt, nTrks =  6 300\n",
      " iEvt, nTrks =  7 179\n",
      " iEvt, nTrks =  8 243\n",
      " iEvt, nTrks =  9 112\n",
      "A.shape =  (80000,)\n",
      "majorAxis[iTrk][0][0] =  -2.440992e-05\n",
      "majorAxis[iTrk][1][0] =  -0.00038087237\n",
      "majorAxis[iTrk][2][0] =  0.08211532\n",
      "minorAxis_1[iTrk][0][0] =  -17.631672\n",
      "minorAxis_1[iTrk][1][0] =  1.130005\n",
      "minorAxis_1[iTrk][2][0] =  4.7444193e-08\n",
      "minorAxis_2[iTrk][0][0] =  1.1299927\n",
      "minorAxis_2[iTrk][1][0] =  17.631481\n",
      "minorAxis_2[iTrk][2][0] =  0.08211532\n",
      "  \n",
      "majorAxis[iTrk][0][0] =  -0.02277395\n",
      "majorAxis[iTrk][1][0] =  0.0014473597\n",
      "majorAxis[iTrk][2][0] =  0.6347583\n",
      "minorAxis_1[iTrk][0][0] =  -1.1205891\n",
      "minorAxis_1[iTrk][1][0] =  -17.632273\n",
      "minorAxis_1[iTrk][2][0] =  2.1543272e-09\n",
      "minorAxis_2[iTrk][0][0] =  -17.620888\n",
      "minorAxis_2[iTrk][1][0] =  1.1198657\n",
      "minorAxis_2[iTrk][2][0] =  -0.63475823\n",
      "  \n",
      "majorAxis[iTrk][0][0] =  0.0004024825\n",
      "majorAxis[iTrk][1][0] =  -0.00023784715\n",
      "majorAxis[iTrk][2][0] =  0.090883136\n",
      "minorAxis_1[iTrk][0][0] =  -8.988615\n",
      "minorAxis_1[iTrk][1][0] =  -15.210441\n",
      "minorAxis_1[iTrk][2][0] =  -6.56547e-08\n",
      "minorAxis_2[iTrk][0][0] =  -15.21024\n",
      "minorAxis_2[iTrk][1][0] =  8.988497\n",
      "minorAxis_2[iTrk][2][0] =  0.090883136\n",
      "  \n",
      "majorAxis[iTrk][0][0] =  0.0068744724\n",
      "majorAxis[iTrk][1][0] =  0.0017050834\n",
      "majorAxis[iTrk][2][0] =  0.3537121\n",
      "minorAxis_1[iTrk][0][0] =  4.2532983\n",
      "minorAxis_1[iTrk][1][0] =  -17.148241\n",
      "minorAxis_1[iTrk][2][0] =  1.1939819e-09\n",
      "minorAxis_2[iTrk][0][0] =  -17.144806\n",
      "minorAxis_2[iTrk][1][0] =  -4.252446\n",
      "minorAxis_2[iTrk][2][0] =  0.3537121\n",
      "  \n",
      "majorAxis[iTrk][0][0] =  -0.004920899\n",
      "majorAxis[iTrk][1][0] =  0.0009170567\n",
      "majorAxis[iTrk][2][0] =  0.2973651\n",
      "minorAxis_1[iTrk][0][0] =  -3.236844\n",
      "minorAxis_1[iTrk][1][0] =  -17.36881\n",
      "minorAxis_1[iTrk][2][0] =  -4.7397712e-09\n",
      "minorAxis_2[iTrk][0][0] =  -17.36635\n",
      "minorAxis_2[iTrk][1][0] =  3.2363856\n",
      "minorAxis_2[iTrk][2][0] =  -0.29736507\n",
      "  \n",
      "majorAxis[iTrk][0][0] =  -0.0001240533\n",
      "majorAxis[iTrk][1][0] =  0.00033394952\n",
      "majorAxis[iTrk][2][0] =  0.079335004\n",
      "minorAxis_1[iTrk][0][0] =  -16.562042\n",
      "minorAxis_1[iTrk][1][0] =  -6.1523557\n",
      "minorAxis_1[iTrk][2][0] =  3.1261713e-08\n",
      "minorAxis_2[iTrk][0][0] =  -6.1522937\n",
      "minorAxis_2[iTrk][1][0] =  16.561876\n",
      "minorAxis_2[iTrk][2][0] =  -0.079335004\n",
      "  \n",
      "majorAxis[iTrk][0][0] =  0.00010132754\n",
      "majorAxis[iTrk][1][0] =  6.684385e-05\n",
      "majorAxis[iTrk][2][0] =  0.046310693\n",
      "minorAxis_1[iTrk][0][0] =  -9.728917\n",
      "minorAxis_1[iTrk][1][0] =  14.747911\n",
      "minorAxis_1[iTrk][2][0] =  -2.3591362e-07\n",
      "minorAxis_2[iTrk][0][0] =  14.74786\n",
      "minorAxis_2[iTrk][1][0] =  9.728883\n",
      "minorAxis_2[iTrk][2][0] =  -0.04631069\n",
      "  \n",
      "majorAxis[iTrk][0][0] =  0.0042806785\n",
      "majorAxis[iTrk][1][0] =  0.004939851\n",
      "majorAxis[iTrk][2][0] =  0.3398017\n",
      "minorAxis_1[iTrk][0][0] =  13.3521\n",
      "minorAxis_1[iTrk][1][0] =  -11.5704\n",
      "minorAxis_1[iTrk][2][0] =  1.21654296e-08\n",
      "minorAxis_2[iTrk][0][0] =  -11.56826\n",
      "minorAxis_2[iTrk][1][0] =  -13.349631\n",
      "minorAxis_2[iTrk][2][0] =  0.33980173\n",
      "  \n",
      "majorAxis[iTrk][0][0] =  -0.00013103899\n",
      "majorAxis[iTrk][1][0] =  -0.0006021903\n",
      "majorAxis[iTrk][2][0] =  0.10434653\n",
      "minorAxis_1[iTrk][0][0] =  -17.26384\n",
      "minorAxis_1[iTrk][1][0] =  3.7566798\n",
      "minorAxis_1[iTrk][2][0] =  -9.616703e-08\n",
      "minorAxis_2[iTrk][0][0] =  3.7566135\n",
      "minorAxis_2[iTrk][1][0] =  17.263535\n",
      "minorAxis_2[iTrk][2][0] =  0.10434652\n",
      "  \n",
      "majorAxis[iTrk][0][0] =  0.0016481678\n",
      "majorAxis[iTrk][1][0] =  -0.0019788505\n",
      "majorAxis[iTrk][2][0] =  0.21330062\n",
      "minorAxis_1[iTrk][0][0] =  -13.575765\n",
      "minorAxis_1[iTrk][1][0] =  -11.307139\n",
      "minorAxis_1[iTrk][2][0] =  8.543098e-09\n",
      "minorAxis_2[iTrk][0][0] =  -11.306314\n",
      "minorAxis_2[iTrk][1][0] =  13.574774\n",
      "minorAxis_2[iTrk][2][0] =  0.21330062\n",
      "  \n",
      "len(X) =  80000\n",
      "len(Xlist) =  3\n",
      "Loaded /share/lazy/will/data/June30_2020_80k_3.h5 in 149.8 s\n",
      "pocaMx.shape =  (80000,)\n",
      "nEvts =  80000\n",
      "len(pocaMx[0]) =  204\n",
      "len(pocaMx[1]) =  33\n",
      "len(pocaMx[2]) =  206\n",
      "len(pocaMx[3]) =  150\n",
      "len(pocaMx[4]) =  96\n",
      "majorAxis.shape =  (80000, 3)\n",
      "minorAxis_1.shape =  (80000, 3)\n",
      "minorAxis_2.shape =  (80000, 3)\n",
      "have entered six_ellipsoid_parameters\n",
      "  \n",
      " \n",
      "  nEvts =  80000\n",
      " iEvt, nTrks =  0 204\n",
      " iEvt, nTrks =  1 33\n",
      " iEvt, nTrks =  2 206\n",
      " iEvt, nTrks =  3 150\n",
      " iEvt, nTrks =  4 96\n",
      " iEvt, nTrks =  5 10\n",
      " iEvt, nTrks =  6 174\n",
      " iEvt, nTrks =  7 320\n",
      " iEvt, nTrks =  8 164\n",
      " iEvt, nTrks =  9 119\n",
      "A.shape =  (80000,)\n",
      "majorAxis[iTrk][0][0] =  0.00057876867\n",
      "majorAxis[iTrk][1][0] =  0.00037603904\n",
      "majorAxis[iTrk][2][0] =  0.110427074\n",
      "minorAxis_1[iTrk][0][0] =  9.62588\n",
      "minorAxis_1[iTrk][1][0] =  -14.81537\n",
      "minorAxis_1[iTrk][2][0] =  8.391163e-09\n",
      "minorAxis_2[iTrk][0][0] =  -14.815081\n",
      "minorAxis_2[iTrk][1][0] =  -9.625692\n",
      "minorAxis_2[iTrk][2][0] =  0.11042709\n",
      "  \n",
      "majorAxis[iTrk][0][0] =  -7.687664e-05\n",
      "majorAxis[iTrk][1][0] =  -0.0017985329\n",
      "majorAxis[iTrk][2][0] =  0.17833562\n",
      "minorAxis_1[iTrk][0][0] =  -17.651728\n",
      "minorAxis_1[iTrk][1][0] =  0.7545069\n",
      "minorAxis_1[iTrk][2][0] =  -7.932265e-09\n",
      "minorAxis_2[iTrk][0][0] =  0.75446844\n",
      "minorAxis_2[iTrk][1][0] =  17.650827\n",
      "minorAxis_2[iTrk][2][0] =  0.17833562\n",
      "  \n",
      "majorAxis[iTrk][0][0] =  4.5855802e-05\n",
      "majorAxis[iTrk][1][0] =  -0.00054240844\n",
      "majorAxis[iTrk][2][0] =  0.098067455\n",
      "minorAxis_1[iTrk][0][0] =  17.605043\n",
      "minorAxis_1[iTrk][1][0] =  1.4883496\n",
      "minorAxis_1[iTrk][2][0] =  -2.7847218e-08\n",
      "minorAxis_2[iTrk][0][0] =  1.4883265\n",
      "minorAxis_2[iTrk][1][0] =  -17.604773\n",
      "minorAxis_2[iTrk][2][0] =  -0.098067455\n",
      "  \n",
      "majorAxis[iTrk][0][0] =  -0.0013144773\n",
      "majorAxis[iTrk][1][0] =  0.0008680699\n",
      "majorAxis[iTrk][2][0] =  0.16682307\n",
      "minorAxis_1[iTrk][0][0] =  -9.736217\n",
      "minorAxis_1[iTrk][1][0] =  -14.743094\n",
      "minorAxis_1[iTrk][2][0] =  -1.7552136e-08\n",
      "minorAxis_2[iTrk][0][0] =  -14.742435\n",
      "minorAxis_2[iTrk][1][0] =  9.735782\n",
      "minorAxis_2[iTrk][2][0] =  -0.16682304\n",
      "  \n",
      "majorAxis[iTrk][0][0] =  0.032227762\n",
      "majorAxis[iTrk][1][0] =  0.007741693\n",
      "majorAxis[iTrk][2][0] =  0.76488173\n",
      "minorAxis_1[iTrk][0][0] =  -4.1267405\n",
      "minorAxis_1[iTrk][1][0] =  17.179138\n",
      "minorAxis_1[iTrk][2][0] =  -2.3529467e-10\n",
      "minorAxis_2[iTrk][0][0] =  17.16303\n",
      "minorAxis_2[iTrk][1][0] =  4.122871\n",
      "minorAxis_2[iTrk][2][0] =  -0.7648817\n",
      "  \n",
      "majorAxis[iTrk][0][0] =  1.9753945\n",
      "majorAxis[iTrk][1][0] =  2.5669005\n",
      "majorAxis[iTrk][2][0] =  7.226382\n",
      "minorAxis_1[iTrk][0][0] =  14.0017\n",
      "minorAxis_1[iTrk][1][0] =  -10.7752075\n",
      "minorAxis_1[iTrk][2][0] =  5.3286344e-11\n",
      "minorAxis_2[iTrk][0][0] =  -9.832683\n",
      "minorAxis_2[iTrk][1][0] =  -12.776951\n",
      "minorAxis_2[iTrk][2][0] =  7.226381\n",
      "  \n",
      "majorAxis[iTrk][0][0] =  -0.0026900356\n",
      "majorAxis[iTrk][1][0] =  -0.0015841618\n",
      "majorAxis[iTrk][2][0] =  0.234843\n",
      "minorAxis_1[iTrk][0][0] =  -8.965469\n",
      "minorAxis_1[iTrk][1][0] =  15.224096\n",
      "minorAxis_1[iTrk][2][0] =  2.8236277e-08\n",
      "minorAxis_2[iTrk][0][0] =  15.222751\n",
      "minorAxis_2[iTrk][1][0] =  8.964677\n",
      "minorAxis_2[iTrk][2][0] =  0.234843\n",
      "  \n",
      "majorAxis[iTrk][0][0] =  -0.0001692281\n",
      "majorAxis[iTrk][1][0] =  0.0003505444\n",
      "majorAxis[iTrk][2][0] =  0.08292902\n",
      "minorAxis_1[iTrk][0][0] =  -15.910811\n",
      "minorAxis_1[iTrk][1][0] =  -7.68107\n",
      "minorAxis_1[iTrk][2][0] =  1.587002e-08\n",
      "minorAxis_2[iTrk][0][0] =  -7.680986\n",
      "minorAxis_2[iTrk][1][0] =  15.910635\n",
      "minorAxis_2[iTrk][2][0] =  -0.08292903\n",
      "  \n",
      "majorAxis[iTrk][0][0] =  0.0017714669\n",
      "majorAxis[iTrk][1][0] =  -0.001515166\n",
      "majorAxis[iTrk][2][0] =  0.20293355\n",
      "minorAxis_1[iTrk][0][0] =  11.483943\n",
      "minorAxis_1[iTrk][1][0] =  13.426532\n",
      "minorAxis_1[iTrk][2][0] =  -2.7840934e-09\n",
      "minorAxis_2[iTrk][0][0] =  13.425648\n",
      "minorAxis_2[iTrk][1][0] =  -11.483187\n",
      "minorAxis_2[iTrk][2][0] =  -0.20293356\n",
      "  \n",
      "majorAxis[iTrk][0][0] =  0.0006359923\n",
      "majorAxis[iTrk][1][0] =  -0.0003371759\n",
      "majorAxis[iTrk][2][0] =  0.112773284\n",
      "minorAxis_1[iTrk][0][0] =  8.275655\n",
      "minorAxis_1[iTrk][1][0] =  15.609813\n",
      "minorAxis_1[iTrk][2][0] =  -5.6373224e-08\n",
      "minorAxis_2[iTrk][0][0] =  15.609494\n",
      "minorAxis_2[iTrk][1][0] =  -8.275486\n",
      "minorAxis_2[iTrk][2][0] =  -0.11277328\n",
      "  \n",
      "len(X) =  80000\n",
      "len(Xlist) =  4\n",
      "Loaded /share/lazy/will/data/June30_2020_80k_4.h5 in 152.2 s\n",
      "outer loop X.shape =  (320000, 9, 600)\n",
      "Constructing 18000 event dataset took 0.09071 s\n",
      "x_t.shape =  torch.Size([18000, 9, 600])\n",
      "x_t.shape[0] =  18000\n",
      "x_t.shape[1] =  9\n",
      "x_t.shape =  torch.Size([18000, 9, 600])\n",
      "Loading data...\n"
     ]
    },
    {
     "name": "stdout",
     "output_type": "stream",
     "text": [
      "pocaMx.shape =  (20000,)\n",
      "nEvts =  20000\n",
      "len(pocaMx[0]) =  211\n",
      "len(pocaMx[1]) =  21\n",
      "len(pocaMx[2]) =  20\n",
      "len(pocaMx[3]) =  198\n",
      "len(pocaMx[4]) =  233\n",
      "majorAxis.shape =  (20000, 3)\n",
      "minorAxis_1.shape =  (20000, 3)\n",
      "minorAxis_2.shape =  (20000, 3)\n",
      "have entered six_ellipsoid_parameters\n",
      "  \n",
      " \n",
      "  nEvts =  20000\n",
      " iEvt, nTrks =  0 211\n",
      " iEvt, nTrks =  1 21\n",
      " iEvt, nTrks =  2 20\n",
      " iEvt, nTrks =  3 198\n",
      " iEvt, nTrks =  4 233\n",
      " iEvt, nTrks =  5 85\n",
      " iEvt, nTrks =  6 223\n",
      " iEvt, nTrks =  7 425\n",
      " iEvt, nTrks =  8 252\n",
      " iEvt, nTrks =  9 169\n",
      "A.shape =  (20000,)\n",
      "majorAxis[iTrk][0][0] =  -0.00023452607\n",
      "majorAxis[iTrk][1][0] =  -0.00047206535\n",
      "majorAxis[iTrk][2][0] =  0.096502915\n",
      "minorAxis_1[iTrk][0][0] =  -15.822749\n",
      "minorAxis_1[iTrk][1][0] =  7.8608756\n",
      "minorAxis_1[iTrk][2][0] =  -2.6228399e-08\n",
      "minorAxis_2[iTrk][0][0] =  7.860759\n",
      "minorAxis_2[iTrk][1][0] =  15.822513\n",
      "minorAxis_2[iTrk][2][0] =  0.096502915\n",
      "  \n",
      "majorAxis[iTrk][0][0] =  -0.37655562\n",
      "majorAxis[iTrk][1][0] =  0.2768704\n",
      "majorAxis[iTrk][2][0] =  2.8546858\n",
      "minorAxis_1[iTrk][0][0] =  -10.466048\n",
      "minorAxis_1[iTrk][1][0] =  -14.234274\n",
      "minorAxis_1[iTrk][2][0] =  2.2974699e-11\n",
      "minorAxis_2[iTrk][0][0] =  -14.04724\n",
      "minorAxis_2[iTrk][1][0] =  10.328527\n",
      "minorAxis_2[iTrk][2][0] =  -2.8546853\n",
      "  \n",
      "majorAxis[iTrk][0][0] =  -0.024279848\n",
      "majorAxis[iTrk][1][0] =  0.0019689242\n",
      "majorAxis[iTrk][2][0] =  0.65580803\n",
      "minorAxis_1[iTrk][0][0] =  -1.4280497\n",
      "minorAxis_1[iTrk][1][0] =  -17.610037\n",
      "minorAxis_1[iTrk][2][0] =  -6.123401e-10\n",
      "minorAxis_2[iTrk][0][0] =  -17.597902\n",
      "minorAxis_2[iTrk][1][0] =  1.4270656\n",
      "minorAxis_2[iTrk][2][0] =  -0.6558081\n",
      "  \n",
      "majorAxis[iTrk][0][0] =  -0.007825993\n",
      "majorAxis[iTrk][1][0] =  0.004052097\n",
      "majorAxis[iTrk][2][0] =  0.3945435\n",
      "minorAxis_1[iTrk][0][0] =  8.123606\n",
      "minorAxis_1[iTrk][1][0] =  15.689478\n",
      "minorAxis_1[iTrk][2][0] =  -2.4940747e-10\n",
      "minorAxis_2[iTrk][0][0] =  15.685566\n",
      "minorAxis_2[iTrk][1][0] =  -8.12158\n",
      "minorAxis_2[iTrk][2][0] =  0.3945435\n",
      "  \n",
      "majorAxis[iTrk][0][0] =  0.0046102717\n",
      "majorAxis[iTrk][1][0] =  -0.0016007021\n",
      "majorAxis[iTrk][2][0] =  0.29361814\n",
      "minorAxis_1[iTrk][0][0] =  -5.794979\n",
      "minorAxis_1[iTrk][1][0] =  -16.690445\n",
      "minorAxis_1[iTrk][2][0] =  2.4897104e-09\n",
      "minorAxis_2[iTrk][0][0] =  -16.688139\n",
      "minorAxis_2[iTrk][1][0] =  5.794179\n",
      "minorAxis_2[iTrk][2][0] =  0.2936181\n",
      "  \n",
      "majorAxis[iTrk][0][0] =  -0.00020041714\n",
      "majorAxis[iTrk][1][0] =  0.00010468164\n",
      "majorAxis[iTrk][2][0] =  0.06320469\n",
      "minorAxis_1[iTrk][0][0] =  8.179679\n",
      "minorAxis_1[iTrk][1][0] =  15.660318\n",
      "minorAxis_1[iTrk][2][0] =  7.40176e-08\n",
      "minorAxis_2[iTrk][0][0] =  15.660218\n",
      "minorAxis_2[iTrk][1][0] =  -8.179626\n",
      "minorAxis_2[iTrk][2][0] =  0.06320469\n",
      "  \n",
      "majorAxis[iTrk][0][0] =  -0.00020603223\n",
      "majorAxis[iTrk][1][0] =  -0.0005662605\n",
      "majorAxis[iTrk][2][0] =  0.10317981\n",
      "minorAxis_1[iTrk][0][0] =  -16.603\n",
      "minorAxis_1[iTrk][1][0] =  6.040953\n",
      "minorAxis_1[iTrk][2][0] =  4.5812504e-07\n",
      "minorAxis_2[iTrk][0][0] =  6.0408506\n",
      "minorAxis_2[iTrk][1][0] =  16.602718\n",
      "minorAxis_2[iTrk][2][0] =  0.10317982\n",
      "  \n",
      "majorAxis[iTrk][0][0] =  -0.00040561036\n",
      "majorAxis[iTrk][1][0] =  0.00014461782\n",
      "majorAxis[iTrk][2][0] =  0.0872241\n",
      "minorAxis_1[iTrk][0][0] =  -5.933496\n",
      "minorAxis_1[iTrk][1][0] =  -16.641706\n",
      "minorAxis_1[iTrk][2][0] =  1.0720762e-08\n",
      "minorAxis_2[iTrk][0][0] =  -16.641502\n",
      "minorAxis_2[iTrk][1][0] =  5.9334235\n",
      "minorAxis_2[iTrk][2][0] =  -0.0872241\n",
      "  \n",
      "majorAxis[iTrk][0][0] =  0.00038461428\n",
      "majorAxis[iTrk][1][0] =  -3.4232737e-05\n",
      "majorAxis[iTrk][2][0] =  0.08259597\n",
      "minorAxis_1[iTrk][0][0] =  -1.5663412\n",
      "minorAxis_1[iTrk][1][0] =  -17.598276\n",
      "minorAxis_1[iTrk][2][0] =  3.2106848e-07\n",
      "minorAxis_2[iTrk][0][0] =  -17.598082\n",
      "minorAxis_2[iTrk][1][0] =  1.5663238\n",
      "minorAxis_2[iTrk][2][0] =  0.08259596\n",
      "  \n",
      "majorAxis[iTrk][0][0] =  -0.022277953\n",
      "majorAxis[iTrk][1][0] =  -0.0046837274\n",
      "majorAxis[iTrk][2][0] =  0.63399464\n",
      "minorAxis_1[iTrk][0][0] =  -3.6350286\n",
      "minorAxis_1[iTrk][1][0] =  17.289862\n",
      "minorAxis_1[iTrk][2][0] =  9.566169e-10\n",
      "minorAxis_2[iTrk][0][0] =  17.278727\n",
      "minorAxis_2[iTrk][1][0] =  3.6326876\n",
      "minorAxis_2[iTrk][2][0] =  0.6339946\n",
      "  \n",
      "len(X) =  20000\n",
      "len(Xlist) =  1\n",
      "Loaded dataAA/20K_POCA_kernel_evts_200926.h5 in 36.51 s\n",
      "outer loop X.shape =  (20000, 9, 600)\n",
      "Constructing 20000 event dataset took 0.07165 s\n",
      "x_t.shape =  torch.Size([20000, 9, 600])\n",
      "x_t.shape[0] =  20000\n",
      "x_t.shape[1] =  9\n",
      "x_t.shape =  torch.Size([20000, 9, 600])\n"
     ]
    }
   ],
   "source": [
    "\n",
    "## Training dataset. You can put as many files here as desired.\n",
    "\n",
    "train_loader = collect_t2kde_data('/share/lazy/will/data/June30_2020_80k_1.h5', \n",
    "                                    '/share/lazy/will/data/June30_2020_80k_2.h5',\n",
    "                                    '/share/lazy/will/data/June30_2020_80k_3.h5',\n",
    "                                    '/share/lazy/will/data/June30_2020_80k_4.h5',\n",
    "                             batch_size=batch_size,\n",
    "## if we are using a larger dataset (240K events, with the datasets above, and 11 GB  of GPU memory),\n",
    "## the dataset will overflow the GPU memory; device=device will allow the data to move back\n",
    "## and forth between the CPU and GPU memory. While this allows use of a larger dataset, it slows\n",
    "## down performance by about 10%.  So comment out when not needed.\n",
    "##                          device=device,\n",
    "                           slice = slice(None,18000)\n",
    "                           )\n",
    "                            \n",
    "# Validation dataset. You can slice to reduce the size.\n",
    "## mds no separate validation set yet,\n",
    "val_loader = collect_t2kde_data('dataAA/20K_POCA_kernel_evts_200926.h5',\n",
    "                            batch_size=batch_size,\n",
    "##                            device=device,\n",
    "##                            slice = slice(18000,None)\n",
    "                           )\n"
   ]
  },
  {
   "cell_type": "code",
   "execution_count": 16,
   "metadata": {
    "scrolled": false
   },
   "outputs": [
    {
     "data": {
      "application/javascript": [
       "/* Put everything inside the global mpl namespace */\n",
       "window.mpl = {};\n",
       "\n",
       "\n",
       "mpl.get_websocket_type = function() {\n",
       "    if (typeof(WebSocket) !== 'undefined') {\n",
       "        return WebSocket;\n",
       "    } else if (typeof(MozWebSocket) !== 'undefined') {\n",
       "        return MozWebSocket;\n",
       "    } else {\n",
       "        alert('Your browser does not have WebSocket support. ' +\n",
       "              'Please try Chrome, Safari or Firefox ≥ 6. ' +\n",
       "              'Firefox 4 and 5 are also supported but you ' +\n",
       "              'have to enable WebSockets in about:config.');\n",
       "    };\n",
       "}\n",
       "\n",
       "mpl.figure = function(figure_id, websocket, ondownload, parent_element) {\n",
       "    this.id = figure_id;\n",
       "\n",
       "    this.ws = websocket;\n",
       "\n",
       "    this.supports_binary = (this.ws.binaryType != undefined);\n",
       "\n",
       "    if (!this.supports_binary) {\n",
       "        var warnings = document.getElementById(\"mpl-warnings\");\n",
       "        if (warnings) {\n",
       "            warnings.style.display = 'block';\n",
       "            warnings.textContent = (\n",
       "                \"This browser does not support binary websocket messages. \" +\n",
       "                    \"Performance may be slow.\");\n",
       "        }\n",
       "    }\n",
       "\n",
       "    this.imageObj = new Image();\n",
       "\n",
       "    this.context = undefined;\n",
       "    this.message = undefined;\n",
       "    this.canvas = undefined;\n",
       "    this.rubberband_canvas = undefined;\n",
       "    this.rubberband_context = undefined;\n",
       "    this.format_dropdown = undefined;\n",
       "\n",
       "    this.image_mode = 'full';\n",
       "\n",
       "    this.root = $('<div/>');\n",
       "    this._root_extra_style(this.root)\n",
       "    this.root.attr('style', 'display: inline-block');\n",
       "\n",
       "    $(parent_element).append(this.root);\n",
       "\n",
       "    this._init_header(this);\n",
       "    this._init_canvas(this);\n",
       "    this._init_toolbar(this);\n",
       "\n",
       "    var fig = this;\n",
       "\n",
       "    this.waiting = false;\n",
       "\n",
       "    this.ws.onopen =  function () {\n",
       "            fig.send_message(\"supports_binary\", {value: fig.supports_binary});\n",
       "            fig.send_message(\"send_image_mode\", {});\n",
       "            if (mpl.ratio != 1) {\n",
       "                fig.send_message(\"set_dpi_ratio\", {'dpi_ratio': mpl.ratio});\n",
       "            }\n",
       "            fig.send_message(\"refresh\", {});\n",
       "        }\n",
       "\n",
       "    this.imageObj.onload = function() {\n",
       "            if (fig.image_mode == 'full') {\n",
       "                // Full images could contain transparency (where diff images\n",
       "                // almost always do), so we need to clear the canvas so that\n",
       "                // there is no ghosting.\n",
       "                fig.context.clearRect(0, 0, fig.canvas.width, fig.canvas.height);\n",
       "            }\n",
       "            fig.context.drawImage(fig.imageObj, 0, 0);\n",
       "        };\n",
       "\n",
       "    this.imageObj.onunload = function() {\n",
       "        fig.ws.close();\n",
       "    }\n",
       "\n",
       "    this.ws.onmessage = this._make_on_message_function(this);\n",
       "\n",
       "    this.ondownload = ondownload;\n",
       "}\n",
       "\n",
       "mpl.figure.prototype._init_header = function() {\n",
       "    var titlebar = $(\n",
       "        '<div class=\"ui-dialog-titlebar ui-widget-header ui-corner-all ' +\n",
       "        'ui-helper-clearfix\"/>');\n",
       "    var titletext = $(\n",
       "        '<div class=\"ui-dialog-title\" style=\"width: 100%; ' +\n",
       "        'text-align: center; padding: 3px;\"/>');\n",
       "    titlebar.append(titletext)\n",
       "    this.root.append(titlebar);\n",
       "    this.header = titletext[0];\n",
       "}\n",
       "\n",
       "\n",
       "\n",
       "mpl.figure.prototype._canvas_extra_style = function(canvas_div) {\n",
       "\n",
       "}\n",
       "\n",
       "\n",
       "mpl.figure.prototype._root_extra_style = function(canvas_div) {\n",
       "\n",
       "}\n",
       "\n",
       "mpl.figure.prototype._init_canvas = function() {\n",
       "    var fig = this;\n",
       "\n",
       "    var canvas_div = $('<div/>');\n",
       "\n",
       "    canvas_div.attr('style', 'position: relative; clear: both; outline: 0');\n",
       "\n",
       "    function canvas_keyboard_event(event) {\n",
       "        return fig.key_event(event, event['data']);\n",
       "    }\n",
       "\n",
       "    canvas_div.keydown('key_press', canvas_keyboard_event);\n",
       "    canvas_div.keyup('key_release', canvas_keyboard_event);\n",
       "    this.canvas_div = canvas_div\n",
       "    this._canvas_extra_style(canvas_div)\n",
       "    this.root.append(canvas_div);\n",
       "\n",
       "    var canvas = $('<canvas/>');\n",
       "    canvas.addClass('mpl-canvas');\n",
       "    canvas.attr('style', \"left: 0; top: 0; z-index: 0; outline: 0\")\n",
       "\n",
       "    this.canvas = canvas[0];\n",
       "    this.context = canvas[0].getContext(\"2d\");\n",
       "\n",
       "    var backingStore = this.context.backingStorePixelRatio ||\n",
       "\tthis.context.webkitBackingStorePixelRatio ||\n",
       "\tthis.context.mozBackingStorePixelRatio ||\n",
       "\tthis.context.msBackingStorePixelRatio ||\n",
       "\tthis.context.oBackingStorePixelRatio ||\n",
       "\tthis.context.backingStorePixelRatio || 1;\n",
       "\n",
       "    mpl.ratio = (window.devicePixelRatio || 1) / backingStore;\n",
       "\n",
       "    var rubberband = $('<canvas/>');\n",
       "    rubberband.attr('style', \"position: absolute; left: 0; top: 0; z-index: 1;\")\n",
       "\n",
       "    var pass_mouse_events = true;\n",
       "\n",
       "    canvas_div.resizable({\n",
       "        start: function(event, ui) {\n",
       "            pass_mouse_events = false;\n",
       "        },\n",
       "        resize: function(event, ui) {\n",
       "            fig.request_resize(ui.size.width, ui.size.height);\n",
       "        },\n",
       "        stop: function(event, ui) {\n",
       "            pass_mouse_events = true;\n",
       "            fig.request_resize(ui.size.width, ui.size.height);\n",
       "        },\n",
       "    });\n",
       "\n",
       "    function mouse_event_fn(event) {\n",
       "        if (pass_mouse_events)\n",
       "            return fig.mouse_event(event, event['data']);\n",
       "    }\n",
       "\n",
       "    rubberband.mousedown('button_press', mouse_event_fn);\n",
       "    rubberband.mouseup('button_release', mouse_event_fn);\n",
       "    // Throttle sequential mouse events to 1 every 20ms.\n",
       "    rubberband.mousemove('motion_notify', mouse_event_fn);\n",
       "\n",
       "    rubberband.mouseenter('figure_enter', mouse_event_fn);\n",
       "    rubberband.mouseleave('figure_leave', mouse_event_fn);\n",
       "\n",
       "    canvas_div.on(\"wheel\", function (event) {\n",
       "        event = event.originalEvent;\n",
       "        event['data'] = 'scroll'\n",
       "        if (event.deltaY < 0) {\n",
       "            event.step = 1;\n",
       "        } else {\n",
       "            event.step = -1;\n",
       "        }\n",
       "        mouse_event_fn(event);\n",
       "    });\n",
       "\n",
       "    canvas_div.append(canvas);\n",
       "    canvas_div.append(rubberband);\n",
       "\n",
       "    this.rubberband = rubberband;\n",
       "    this.rubberband_canvas = rubberband[0];\n",
       "    this.rubberband_context = rubberband[0].getContext(\"2d\");\n",
       "    this.rubberband_context.strokeStyle = \"#000000\";\n",
       "\n",
       "    this._resize_canvas = function(width, height) {\n",
       "        // Keep the size of the canvas, canvas container, and rubber band\n",
       "        // canvas in synch.\n",
       "        canvas_div.css('width', width)\n",
       "        canvas_div.css('height', height)\n",
       "\n",
       "        canvas.attr('width', width * mpl.ratio);\n",
       "        canvas.attr('height', height * mpl.ratio);\n",
       "        canvas.attr('style', 'width: ' + width + 'px; height: ' + height + 'px;');\n",
       "\n",
       "        rubberband.attr('width', width);\n",
       "        rubberband.attr('height', height);\n",
       "    }\n",
       "\n",
       "    // Set the figure to an initial 600x600px, this will subsequently be updated\n",
       "    // upon first draw.\n",
       "    this._resize_canvas(600, 600);\n",
       "\n",
       "    // Disable right mouse context menu.\n",
       "    $(this.rubberband_canvas).bind(\"contextmenu\",function(e){\n",
       "        return false;\n",
       "    });\n",
       "\n",
       "    function set_focus () {\n",
       "        canvas.focus();\n",
       "        canvas_div.focus();\n",
       "    }\n",
       "\n",
       "    window.setTimeout(set_focus, 100);\n",
       "}\n",
       "\n",
       "mpl.figure.prototype._init_toolbar = function() {\n",
       "    var fig = this;\n",
       "\n",
       "    var nav_element = $('<div/>');\n",
       "    nav_element.attr('style', 'width: 100%');\n",
       "    this.root.append(nav_element);\n",
       "\n",
       "    // Define a callback function for later on.\n",
       "    function toolbar_event(event) {\n",
       "        return fig.toolbar_button_onclick(event['data']);\n",
       "    }\n",
       "    function toolbar_mouse_event(event) {\n",
       "        return fig.toolbar_button_onmouseover(event['data']);\n",
       "    }\n",
       "\n",
       "    for(var toolbar_ind in mpl.toolbar_items) {\n",
       "        var name = mpl.toolbar_items[toolbar_ind][0];\n",
       "        var tooltip = mpl.toolbar_items[toolbar_ind][1];\n",
       "        var image = mpl.toolbar_items[toolbar_ind][2];\n",
       "        var method_name = mpl.toolbar_items[toolbar_ind][3];\n",
       "\n",
       "        if (!name) {\n",
       "            // put a spacer in here.\n",
       "            continue;\n",
       "        }\n",
       "        var button = $('<button/>');\n",
       "        button.addClass('ui-button ui-widget ui-state-default ui-corner-all ' +\n",
       "                        'ui-button-icon-only');\n",
       "        button.attr('role', 'button');\n",
       "        button.attr('aria-disabled', 'false');\n",
       "        button.click(method_name, toolbar_event);\n",
       "        button.mouseover(tooltip, toolbar_mouse_event);\n",
       "\n",
       "        var icon_img = $('<span/>');\n",
       "        icon_img.addClass('ui-button-icon-primary ui-icon');\n",
       "        icon_img.addClass(image);\n",
       "        icon_img.addClass('ui-corner-all');\n",
       "\n",
       "        var tooltip_span = $('<span/>');\n",
       "        tooltip_span.addClass('ui-button-text');\n",
       "        tooltip_span.html(tooltip);\n",
       "\n",
       "        button.append(icon_img);\n",
       "        button.append(tooltip_span);\n",
       "\n",
       "        nav_element.append(button);\n",
       "    }\n",
       "\n",
       "    var fmt_picker_span = $('<span/>');\n",
       "\n",
       "    var fmt_picker = $('<select/>');\n",
       "    fmt_picker.addClass('mpl-toolbar-option ui-widget ui-widget-content');\n",
       "    fmt_picker_span.append(fmt_picker);\n",
       "    nav_element.append(fmt_picker_span);\n",
       "    this.format_dropdown = fmt_picker[0];\n",
       "\n",
       "    for (var ind in mpl.extensions) {\n",
       "        var fmt = mpl.extensions[ind];\n",
       "        var option = $(\n",
       "            '<option/>', {selected: fmt === mpl.default_extension}).html(fmt);\n",
       "        fmt_picker.append(option);\n",
       "    }\n",
       "\n",
       "    // Add hover states to the ui-buttons\n",
       "    $( \".ui-button\" ).hover(\n",
       "        function() { $(this).addClass(\"ui-state-hover\");},\n",
       "        function() { $(this).removeClass(\"ui-state-hover\");}\n",
       "    );\n",
       "\n",
       "    var status_bar = $('<span class=\"mpl-message\"/>');\n",
       "    nav_element.append(status_bar);\n",
       "    this.message = status_bar[0];\n",
       "}\n",
       "\n",
       "mpl.figure.prototype.request_resize = function(x_pixels, y_pixels) {\n",
       "    // Request matplotlib to resize the figure. Matplotlib will then trigger a resize in the client,\n",
       "    // which will in turn request a refresh of the image.\n",
       "    this.send_message('resize', {'width': x_pixels, 'height': y_pixels});\n",
       "}\n",
       "\n",
       "mpl.figure.prototype.send_message = function(type, properties) {\n",
       "    properties['type'] = type;\n",
       "    properties['figure_id'] = this.id;\n",
       "    this.ws.send(JSON.stringify(properties));\n",
       "}\n",
       "\n",
       "mpl.figure.prototype.send_draw_message = function() {\n",
       "    if (!this.waiting) {\n",
       "        this.waiting = true;\n",
       "        this.ws.send(JSON.stringify({type: \"draw\", figure_id: this.id}));\n",
       "    }\n",
       "}\n",
       "\n",
       "\n",
       "mpl.figure.prototype.handle_save = function(fig, msg) {\n",
       "    var format_dropdown = fig.format_dropdown;\n",
       "    var format = format_dropdown.options[format_dropdown.selectedIndex].value;\n",
       "    fig.ondownload(fig, format);\n",
       "}\n",
       "\n",
       "\n",
       "mpl.figure.prototype.handle_resize = function(fig, msg) {\n",
       "    var size = msg['size'];\n",
       "    if (size[0] != fig.canvas.width || size[1] != fig.canvas.height) {\n",
       "        fig._resize_canvas(size[0], size[1]);\n",
       "        fig.send_message(\"refresh\", {});\n",
       "    };\n",
       "}\n",
       "\n",
       "mpl.figure.prototype.handle_rubberband = function(fig, msg) {\n",
       "    var x0 = msg['x0'] / mpl.ratio;\n",
       "    var y0 = (fig.canvas.height - msg['y0']) / mpl.ratio;\n",
       "    var x1 = msg['x1'] / mpl.ratio;\n",
       "    var y1 = (fig.canvas.height - msg['y1']) / mpl.ratio;\n",
       "    x0 = Math.floor(x0) + 0.5;\n",
       "    y0 = Math.floor(y0) + 0.5;\n",
       "    x1 = Math.floor(x1) + 0.5;\n",
       "    y1 = Math.floor(y1) + 0.5;\n",
       "    var min_x = Math.min(x0, x1);\n",
       "    var min_y = Math.min(y0, y1);\n",
       "    var width = Math.abs(x1 - x0);\n",
       "    var height = Math.abs(y1 - y0);\n",
       "\n",
       "    fig.rubberband_context.clearRect(\n",
       "        0, 0, fig.canvas.width / mpl.ratio, fig.canvas.height / mpl.ratio);\n",
       "\n",
       "    fig.rubberband_context.strokeRect(min_x, min_y, width, height);\n",
       "}\n",
       "\n",
       "mpl.figure.prototype.handle_figure_label = function(fig, msg) {\n",
       "    // Updates the figure title.\n",
       "    fig.header.textContent = msg['label'];\n",
       "}\n",
       "\n",
       "mpl.figure.prototype.handle_cursor = function(fig, msg) {\n",
       "    var cursor = msg['cursor'];\n",
       "    switch(cursor)\n",
       "    {\n",
       "    case 0:\n",
       "        cursor = 'pointer';\n",
       "        break;\n",
       "    case 1:\n",
       "        cursor = 'default';\n",
       "        break;\n",
       "    case 2:\n",
       "        cursor = 'crosshair';\n",
       "        break;\n",
       "    case 3:\n",
       "        cursor = 'move';\n",
       "        break;\n",
       "    }\n",
       "    fig.rubberband_canvas.style.cursor = cursor;\n",
       "}\n",
       "\n",
       "mpl.figure.prototype.handle_message = function(fig, msg) {\n",
       "    fig.message.textContent = msg['message'];\n",
       "}\n",
       "\n",
       "mpl.figure.prototype.handle_draw = function(fig, msg) {\n",
       "    // Request the server to send over a new figure.\n",
       "    fig.send_draw_message();\n",
       "}\n",
       "\n",
       "mpl.figure.prototype.handle_image_mode = function(fig, msg) {\n",
       "    fig.image_mode = msg['mode'];\n",
       "}\n",
       "\n",
       "mpl.figure.prototype.updated_canvas_event = function() {\n",
       "    // Called whenever the canvas gets updated.\n",
       "    this.send_message(\"ack\", {});\n",
       "}\n",
       "\n",
       "// A function to construct a web socket function for onmessage handling.\n",
       "// Called in the figure constructor.\n",
       "mpl.figure.prototype._make_on_message_function = function(fig) {\n",
       "    return function socket_on_message(evt) {\n",
       "        if (evt.data instanceof Blob) {\n",
       "            /* FIXME: We get \"Resource interpreted as Image but\n",
       "             * transferred with MIME type text/plain:\" errors on\n",
       "             * Chrome.  But how to set the MIME type?  It doesn't seem\n",
       "             * to be part of the websocket stream */\n",
       "            evt.data.type = \"image/png\";\n",
       "\n",
       "            /* Free the memory for the previous frames */\n",
       "            if (fig.imageObj.src) {\n",
       "                (window.URL || window.webkitURL).revokeObjectURL(\n",
       "                    fig.imageObj.src);\n",
       "            }\n",
       "\n",
       "            fig.imageObj.src = (window.URL || window.webkitURL).createObjectURL(\n",
       "                evt.data);\n",
       "            fig.updated_canvas_event();\n",
       "            fig.waiting = false;\n",
       "            return;\n",
       "        }\n",
       "        else if (typeof evt.data === 'string' && evt.data.slice(0, 21) == \"data:image/png;base64\") {\n",
       "            fig.imageObj.src = evt.data;\n",
       "            fig.updated_canvas_event();\n",
       "            fig.waiting = false;\n",
       "            return;\n",
       "        }\n",
       "\n",
       "        var msg = JSON.parse(evt.data);\n",
       "        var msg_type = msg['type'];\n",
       "\n",
       "        // Call the  \"handle_{type}\" callback, which takes\n",
       "        // the figure and JSON message as its only arguments.\n",
       "        try {\n",
       "            var callback = fig[\"handle_\" + msg_type];\n",
       "        } catch (e) {\n",
       "            console.log(\"No handler for the '\" + msg_type + \"' message type: \", msg);\n",
       "            return;\n",
       "        }\n",
       "\n",
       "        if (callback) {\n",
       "            try {\n",
       "                // console.log(\"Handling '\" + msg_type + \"' message: \", msg);\n",
       "                callback(fig, msg);\n",
       "            } catch (e) {\n",
       "                console.log(\"Exception inside the 'handler_\" + msg_type + \"' callback:\", e, e.stack, msg);\n",
       "            }\n",
       "        }\n",
       "    };\n",
       "}\n",
       "\n",
       "// from http://stackoverflow.com/questions/1114465/getting-mouse-location-in-canvas\n",
       "mpl.findpos = function(e) {\n",
       "    //this section is from http://www.quirksmode.org/js/events_properties.html\n",
       "    var targ;\n",
       "    if (!e)\n",
       "        e = window.event;\n",
       "    if (e.target)\n",
       "        targ = e.target;\n",
       "    else if (e.srcElement)\n",
       "        targ = e.srcElement;\n",
       "    if (targ.nodeType == 3) // defeat Safari bug\n",
       "        targ = targ.parentNode;\n",
       "\n",
       "    // jQuery normalizes the pageX and pageY\n",
       "    // pageX,Y are the mouse positions relative to the document\n",
       "    // offset() returns the position of the element relative to the document\n",
       "    var x = e.pageX - $(targ).offset().left;\n",
       "    var y = e.pageY - $(targ).offset().top;\n",
       "\n",
       "    return {\"x\": x, \"y\": y};\n",
       "};\n",
       "\n",
       "/*\n",
       " * return a copy of an object with only non-object keys\n",
       " * we need this to avoid circular references\n",
       " * http://stackoverflow.com/a/24161582/3208463\n",
       " */\n",
       "function simpleKeys (original) {\n",
       "  return Object.keys(original).reduce(function (obj, key) {\n",
       "    if (typeof original[key] !== 'object')\n",
       "        obj[key] = original[key]\n",
       "    return obj;\n",
       "  }, {});\n",
       "}\n",
       "\n",
       "mpl.figure.prototype.mouse_event = function(event, name) {\n",
       "    var canvas_pos = mpl.findpos(event)\n",
       "\n",
       "    if (name === 'button_press')\n",
       "    {\n",
       "        this.canvas.focus();\n",
       "        this.canvas_div.focus();\n",
       "    }\n",
       "\n",
       "    var x = canvas_pos.x * mpl.ratio;\n",
       "    var y = canvas_pos.y * mpl.ratio;\n",
       "\n",
       "    this.send_message(name, {x: x, y: y, button: event.button,\n",
       "                             step: event.step,\n",
       "                             guiEvent: simpleKeys(event)});\n",
       "\n",
       "    /* This prevents the web browser from automatically changing to\n",
       "     * the text insertion cursor when the button is pressed.  We want\n",
       "     * to control all of the cursor setting manually through the\n",
       "     * 'cursor' event from matplotlib */\n",
       "    event.preventDefault();\n",
       "    return false;\n",
       "}\n",
       "\n",
       "mpl.figure.prototype._key_event_extra = function(event, name) {\n",
       "    // Handle any extra behaviour associated with a key event\n",
       "}\n",
       "\n",
       "mpl.figure.prototype.key_event = function(event, name) {\n",
       "\n",
       "    // Prevent repeat events\n",
       "    if (name == 'key_press')\n",
       "    {\n",
       "        if (event.which === this._key)\n",
       "            return;\n",
       "        else\n",
       "            this._key = event.which;\n",
       "    }\n",
       "    if (name == 'key_release')\n",
       "        this._key = null;\n",
       "\n",
       "    var value = '';\n",
       "    if (event.ctrlKey && event.which != 17)\n",
       "        value += \"ctrl+\";\n",
       "    if (event.altKey && event.which != 18)\n",
       "        value += \"alt+\";\n",
       "    if (event.shiftKey && event.which != 16)\n",
       "        value += \"shift+\";\n",
       "\n",
       "    value += 'k';\n",
       "    value += event.which.toString();\n",
       "\n",
       "    this._key_event_extra(event, name);\n",
       "\n",
       "    this.send_message(name, {key: value,\n",
       "                             guiEvent: simpleKeys(event)});\n",
       "    return false;\n",
       "}\n",
       "\n",
       "mpl.figure.prototype.toolbar_button_onclick = function(name) {\n",
       "    if (name == 'download') {\n",
       "        this.handle_save(this, null);\n",
       "    } else {\n",
       "        this.send_message(\"toolbar_button\", {name: name});\n",
       "    }\n",
       "};\n",
       "\n",
       "mpl.figure.prototype.toolbar_button_onmouseover = function(tooltip) {\n",
       "    this.message.textContent = tooltip;\n",
       "};\n",
       "mpl.toolbar_items = [[\"Home\", \"Reset original view\", \"fa fa-home icon-home\", \"home\"], [\"Back\", \"Back to previous view\", \"fa fa-arrow-left icon-arrow-left\", \"back\"], [\"Forward\", \"Forward to next view\", \"fa fa-arrow-right icon-arrow-right\", \"forward\"], [\"\", \"\", \"\", \"\"], [\"Pan\", \"Pan axes with left mouse, zoom with right\", \"fa fa-arrows icon-move\", \"pan\"], [\"Zoom\", \"Zoom to rectangle\", \"fa fa-square-o icon-check-empty\", \"zoom\"], [\"\", \"\", \"\", \"\"], [\"Download\", \"Download plot\", \"fa fa-floppy-o icon-save\", \"download\"]];\n",
       "\n",
       "mpl.extensions = [\"eps\", \"jpeg\", \"pdf\", \"png\", \"ps\", \"raw\", \"svg\", \"tif\"];\n",
       "\n",
       "mpl.default_extension = \"png\";var comm_websocket_adapter = function(comm) {\n",
       "    // Create a \"websocket\"-like object which calls the given IPython comm\n",
       "    // object with the appropriate methods. Currently this is a non binary\n",
       "    // socket, so there is still some room for performance tuning.\n",
       "    var ws = {};\n",
       "\n",
       "    ws.close = function() {\n",
       "        comm.close()\n",
       "    };\n",
       "    ws.send = function(m) {\n",
       "        //console.log('sending', m);\n",
       "        comm.send(m);\n",
       "    };\n",
       "    // Register the callback with on_msg.\n",
       "    comm.on_msg(function(msg) {\n",
       "        //console.log('receiving', msg['content']['data'], msg);\n",
       "        // Pass the mpl event to the overridden (by mpl) onmessage function.\n",
       "        ws.onmessage(msg['content']['data'])\n",
       "    });\n",
       "    return ws;\n",
       "}\n",
       "\n",
       "mpl.mpl_figure_comm = function(comm, msg) {\n",
       "    // This is the function which gets called when the mpl process\n",
       "    // starts-up an IPython Comm through the \"matplotlib\" channel.\n",
       "\n",
       "    var id = msg.content.data.id;\n",
       "    // Get hold of the div created by the display call when the Comm\n",
       "    // socket was opened in Python.\n",
       "    var element = $(\"#\" + id);\n",
       "    var ws_proxy = comm_websocket_adapter(comm)\n",
       "\n",
       "    function ondownload(figure, format) {\n",
       "        window.open(figure.imageObj.src);\n",
       "    }\n",
       "\n",
       "    var fig = new mpl.figure(id, ws_proxy,\n",
       "                           ondownload,\n",
       "                           element.get(0));\n",
       "\n",
       "    // Call onopen now - mpl needs it, as it is assuming we've passed it a real\n",
       "    // web socket which is closed, not our websocket->open comm proxy.\n",
       "    ws_proxy.onopen();\n",
       "\n",
       "    fig.parent_element = element.get(0);\n",
       "    fig.cell_info = mpl.find_output_cell(\"<div id='\" + id + \"'></div>\");\n",
       "    if (!fig.cell_info) {\n",
       "        console.error(\"Failed to find cell for figure\", id, fig);\n",
       "        return;\n",
       "    }\n",
       "\n",
       "    var output_index = fig.cell_info[2]\n",
       "    var cell = fig.cell_info[0];\n",
       "\n",
       "};\n",
       "\n",
       "mpl.figure.prototype.handle_close = function(fig, msg) {\n",
       "    var width = fig.canvas.width/mpl.ratio\n",
       "    fig.root.unbind('remove')\n",
       "\n",
       "    // Update the output cell to use the data from the current canvas.\n",
       "    fig.push_to_output();\n",
       "    var dataURL = fig.canvas.toDataURL();\n",
       "    // Re-enable the keyboard manager in IPython - without this line, in FF,\n",
       "    // the notebook keyboard shortcuts fail.\n",
       "    IPython.keyboard_manager.enable()\n",
       "    $(fig.parent_element).html('<img src=\"' + dataURL + '\" width=\"' + width + '\">');\n",
       "    fig.close_ws(fig, msg);\n",
       "}\n",
       "\n",
       "mpl.figure.prototype.close_ws = function(fig, msg){\n",
       "    fig.send_message('closing', msg);\n",
       "    // fig.ws.close()\n",
       "}\n",
       "\n",
       "mpl.figure.prototype.push_to_output = function(remove_interactive) {\n",
       "    // Turn the data on the canvas into data in the output cell.\n",
       "    var width = this.canvas.width/mpl.ratio\n",
       "    var dataURL = this.canvas.toDataURL();\n",
       "    this.cell_info[1]['text/html'] = '<img src=\"' + dataURL + '\" width=\"' + width + '\">';\n",
       "}\n",
       "\n",
       "mpl.figure.prototype.updated_canvas_event = function() {\n",
       "    // Tell IPython that the notebook contents must change.\n",
       "    IPython.notebook.set_dirty(true);\n",
       "    this.send_message(\"ack\", {});\n",
       "    var fig = this;\n",
       "    // Wait a second, then push the new image to the DOM so\n",
       "    // that it is saved nicely (might be nice to debounce this).\n",
       "    setTimeout(function () { fig.push_to_output() }, 1000);\n",
       "}\n",
       "\n",
       "mpl.figure.prototype._init_toolbar = function() {\n",
       "    var fig = this;\n",
       "\n",
       "    var nav_element = $('<div/>');\n",
       "    nav_element.attr('style', 'width: 100%');\n",
       "    this.root.append(nav_element);\n",
       "\n",
       "    // Define a callback function for later on.\n",
       "    function toolbar_event(event) {\n",
       "        return fig.toolbar_button_onclick(event['data']);\n",
       "    }\n",
       "    function toolbar_mouse_event(event) {\n",
       "        return fig.toolbar_button_onmouseover(event['data']);\n",
       "    }\n",
       "\n",
       "    for(var toolbar_ind in mpl.toolbar_items){\n",
       "        var name = mpl.toolbar_items[toolbar_ind][0];\n",
       "        var tooltip = mpl.toolbar_items[toolbar_ind][1];\n",
       "        var image = mpl.toolbar_items[toolbar_ind][2];\n",
       "        var method_name = mpl.toolbar_items[toolbar_ind][3];\n",
       "\n",
       "        if (!name) { continue; };\n",
       "\n",
       "        var button = $('<button class=\"btn btn-default\" href=\"#\" title=\"' + name + '\"><i class=\"fa ' + image + ' fa-lg\"></i></button>');\n",
       "        button.click(method_name, toolbar_event);\n",
       "        button.mouseover(tooltip, toolbar_mouse_event);\n",
       "        nav_element.append(button);\n",
       "    }\n",
       "\n",
       "    // Add the status bar.\n",
       "    var status_bar = $('<span class=\"mpl-message\" style=\"text-align:right; float: right;\"/>');\n",
       "    nav_element.append(status_bar);\n",
       "    this.message = status_bar[0];\n",
       "\n",
       "    // Add the close button to the window.\n",
       "    var buttongrp = $('<div class=\"btn-group inline pull-right\"></div>');\n",
       "    var button = $('<button class=\"btn btn-mini btn-primary\" href=\"#\" title=\"Stop Interaction\"><i class=\"fa fa-power-off icon-remove icon-large\"></i></button>');\n",
       "    button.click(function (evt) { fig.handle_close(fig, {}); } );\n",
       "    button.mouseover('Stop Interaction', toolbar_mouse_event);\n",
       "    buttongrp.append(button);\n",
       "    var titlebar = this.root.find($('.ui-dialog-titlebar'));\n",
       "    titlebar.prepend(buttongrp);\n",
       "}\n",
       "\n",
       "mpl.figure.prototype._root_extra_style = function(el){\n",
       "    var fig = this\n",
       "    el.on(\"remove\", function(){\n",
       "\tfig.close_ws(fig, {});\n",
       "    });\n",
       "}\n",
       "\n",
       "mpl.figure.prototype._canvas_extra_style = function(el){\n",
       "    // this is important to make the div 'focusable\n",
       "    el.attr('tabindex', 0)\n",
       "    // reach out to IPython and tell the keyboard manager to turn it's self\n",
       "    // off when our div gets focus\n",
       "\n",
       "    // location in version 3\n",
       "    if (IPython.notebook.keyboard_manager) {\n",
       "        IPython.notebook.keyboard_manager.register_events(el);\n",
       "    }\n",
       "    else {\n",
       "        // location in version 2\n",
       "        IPython.keyboard_manager.register_events(el);\n",
       "    }\n",
       "\n",
       "}\n",
       "\n",
       "mpl.figure.prototype._key_event_extra = function(event, name) {\n",
       "    var manager = IPython.notebook.keyboard_manager;\n",
       "    if (!manager)\n",
       "        manager = IPython.keyboard_manager;\n",
       "\n",
       "    // Check for shift+enter\n",
       "    if (event.shiftKey && event.which == 13) {\n",
       "        this.canvas_div.blur();\n",
       "        // select the cell after this one\n",
       "        var index = IPython.notebook.find_cell_index(this.cell_info[0]);\n",
       "        IPython.notebook.select(index + 1);\n",
       "    }\n",
       "}\n",
       "\n",
       "mpl.figure.prototype.handle_save = function(fig, msg) {\n",
       "    fig.ondownload(fig, null);\n",
       "}\n",
       "\n",
       "\n",
       "mpl.find_output_cell = function(html_output) {\n",
       "    // Return the cell and output element which can be found *uniquely* in the notebook.\n",
       "    // Note - this is a bit hacky, but it is done because the \"notebook_saving.Notebook\"\n",
       "    // IPython event is triggered only after the cells have been serialised, which for\n",
       "    // our purposes (turning an active figure into a static one), is too late.\n",
       "    var cells = IPython.notebook.get_cells();\n",
       "    var ncells = cells.length;\n",
       "    for (var i=0; i<ncells; i++) {\n",
       "        var cell = cells[i];\n",
       "        if (cell.cell_type === 'code'){\n",
       "            for (var j=0; j<cell.output_area.outputs.length; j++) {\n",
       "                var data = cell.output_area.outputs[j];\n",
       "                if (data.data) {\n",
       "                    // IPython >= 3 moved mimebundle to data attribute of output\n",
       "                    data = data.data;\n",
       "                }\n",
       "                if (data['text/html'] == html_output) {\n",
       "                    return [cell, data, j];\n",
       "                }\n",
       "            }\n",
       "        }\n",
       "    }\n",
       "}\n",
       "\n",
       "// Register the function which deals with the matplotlib target/channel.\n",
       "// The kernel may be null if the page has been refreshed.\n",
       "if (IPython.notebook.kernel != null) {\n",
       "    IPython.notebook.kernel.comm_manager.register_target('matplotlib', mpl.mpl_figure_comm);\n",
       "}\n"
      ],
      "text/plain": [
       "<IPython.core.display.Javascript object>"
      ]
     },
     "metadata": {},
     "output_type": "display_data"
    },
    {
     "data": {
      "text/html": [
       "<img src=\"data:image/png;base64,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\" width=\"1000\">"
      ],
      "text/plain": [
       "<IPython.core.display.HTML object>"
      ]
     },
     "metadata": {},
     "output_type": "display_data"
    }
   ],
   "source": [
    "ax, tax, lax, lines = dual_train_plots()\n",
    "fig = ax.figure\n",
    "plt.tight_layout()"
   ]
  },
  {
   "cell_type": "code",
   "execution_count": 17,
   "metadata": {
    "scrolled": false
   },
   "outputs": [
    {
     "name": "stdout",
     "output_type": "stream",
     "text": [
      "Number of batches: train = 750, val = 834\n"
     ]
    },
    {
     "data": {
      "application/vnd.jupyter.widget-view+json": {
       "model_id": "0ade58a2afbb44c5962478f635c883a0",
       "version_major": 2,
       "version_minor": 0
      },
      "text/plain": [
       "HBox(children=(FloatProgress(value=0.0, description='Epochs', layout=Layout(flex='2'), max=300.0, style=Progre…"
      ]
     },
     "metadata": {},
     "output_type": "display_data"
    },
    {
     "name": "stdout",
     "output_type": "stream",
     "text": [
      "Number of batches: train = 750, val = 834\n"
     ]
    },
    {
     "data": {
      "application/vnd.jupyter.widget-view+json": {
       "model_id": "",
       "version_major": 2,
       "version_minor": 0
      },
      "text/plain": [
       "HBox(children=(FloatProgress(value=0.0, description='Training', layout=Layout(flex='2'), max=750.0, style=Prog…"
      ]
     },
     "metadata": {},
     "output_type": "display_data"
    },
    {
     "name": "stdout",
     "output_type": "stream",
     "text": [
      "Epoch 0: train=7.66612, val=6.88906, took 98.542 s\n"
     ]
    },
    {
     "data": {
      "application/vnd.jupyter.widget-view+json": {
       "model_id": "",
       "version_major": 2,
       "version_minor": 0
      },
      "text/plain": [
       "HBox(children=(FloatProgress(value=0.0, description='Training', layout=Layout(flex='2'), max=750.0, style=Prog…"
      ]
     },
     "metadata": {},
     "output_type": "display_data"
    },
    {
     "name": "stdout",
     "output_type": "stream",
     "text": [
      "Epoch 1: train=7.44928, val=6.75771, took 98.352 s\n"
     ]
    },
    {
     "data": {
      "application/vnd.jupyter.widget-view+json": {
       "model_id": "",
       "version_major": 2,
       "version_minor": 0
      },
      "text/plain": [
       "HBox(children=(FloatProgress(value=0.0, description='Training', layout=Layout(flex='2'), max=750.0, style=Prog…"
      ]
     },
     "metadata": {},
     "output_type": "display_data"
    },
    {
     "name": "stdout",
     "output_type": "stream",
     "text": [
      "Epoch 2: train=7.229, val=6.50732, took 98.138 s\n"
     ]
    },
    {
     "data": {
      "application/vnd.jupyter.widget-view+json": {
       "model_id": "",
       "version_major": 2,
       "version_minor": 0
      },
      "text/plain": [
       "HBox(children=(FloatProgress(value=0.0, description='Training', layout=Layout(flex='2'), max=750.0, style=Prog…"
      ]
     },
     "metadata": {},
     "output_type": "display_data"
    },
    {
     "name": "stdout",
     "output_type": "stream",
     "text": [
      "Epoch 3: train=7.08028, val=6.51374, took 98.009 s\n"
     ]
    },
    {
     "data": {
      "application/vnd.jupyter.widget-view+json": {
       "model_id": "",
       "version_major": 2,
       "version_minor": 0
      },
      "text/plain": [
       "HBox(children=(FloatProgress(value=0.0, description='Training', layout=Layout(flex='2'), max=750.0, style=Prog…"
      ]
     },
     "metadata": {},
     "output_type": "display_data"
    },
    {
     "name": "stdout",
     "output_type": "stream",
     "text": [
      "Epoch 4: train=6.92717, val=6.30618, took 97.858 s\n"
     ]
    },
    {
     "data": {
      "application/vnd.jupyter.widget-view+json": {
       "model_id": "",
       "version_major": 2,
       "version_minor": 0
      },
      "text/plain": [
       "HBox(children=(FloatProgress(value=0.0, description='Training', layout=Layout(flex='2'), max=750.0, style=Prog…"
      ]
     },
     "metadata": {},
     "output_type": "display_data"
    },
    {
     "name": "stdout",
     "output_type": "stream",
     "text": [
      "Epoch 5: train=6.78699, val=6.28502, took 97.802 s\n"
     ]
    },
    {
     "data": {
      "application/vnd.jupyter.widget-view+json": {
       "model_id": "",
       "version_major": 2,
       "version_minor": 0
      },
      "text/plain": [
       "HBox(children=(FloatProgress(value=0.0, description='Training', layout=Layout(flex='2'), max=750.0, style=Prog…"
      ]
     },
     "metadata": {},
     "output_type": "display_data"
    },
    {
     "name": "stdout",
     "output_type": "stream",
     "text": [
      "Epoch 6: train=6.64447, val=6.05234, took 97.964 s\n"
     ]
    },
    {
     "data": {
      "application/vnd.jupyter.widget-view+json": {
       "model_id": "",
       "version_major": 2,
       "version_minor": 0
      },
      "text/plain": [
       "HBox(children=(FloatProgress(value=0.0, description='Training', layout=Layout(flex='2'), max=750.0, style=Prog…"
      ]
     },
     "metadata": {},
     "output_type": "display_data"
    },
    {
     "name": "stdout",
     "output_type": "stream",
     "text": [
      "Epoch 7: train=6.53064, val=5.9497, took 97.985 s\n"
     ]
    },
    {
     "data": {
      "application/vnd.jupyter.widget-view+json": {
       "model_id": "",
       "version_major": 2,
       "version_minor": 0
      },
      "text/plain": [
       "HBox(children=(FloatProgress(value=0.0, description='Training', layout=Layout(flex='2'), max=750.0, style=Prog…"
      ]
     },
     "metadata": {},
     "output_type": "display_data"
    },
    {
     "name": "stdout",
     "output_type": "stream",
     "text": [
      "Epoch 8: train=6.41045, val=5.99958, took 97.839 s\n"
     ]
    },
    {
     "data": {
      "application/vnd.jupyter.widget-view+json": {
       "model_id": "",
       "version_major": 2,
       "version_minor": 0
      },
      "text/plain": [
       "HBox(children=(FloatProgress(value=0.0, description='Training', layout=Layout(flex='2'), max=750.0, style=Prog…"
      ]
     },
     "metadata": {},
     "output_type": "display_data"
    },
    {
     "name": "stdout",
     "output_type": "stream",
     "text": [
      "Epoch 9: train=6.30295, val=5.83617, took 97.862 s\n"
     ]
    },
    {
     "data": {
      "application/vnd.jupyter.widget-view+json": {
       "model_id": "",
       "version_major": 2,
       "version_minor": 0
      },
      "text/plain": [
       "HBox(children=(FloatProgress(value=0.0, description='Training', layout=Layout(flex='2'), max=750.0, style=Prog…"
      ]
     },
     "metadata": {},
     "output_type": "display_data"
    },
    {
     "name": "stdout",
     "output_type": "stream",
     "text": [
      "Epoch 10: train=6.17678, val=5.76834, took 97.783 s\n"
     ]
    },
    {
     "data": {
      "application/vnd.jupyter.widget-view+json": {
       "model_id": "",
       "version_major": 2,
       "version_minor": 0
      },
      "text/plain": [
       "HBox(children=(FloatProgress(value=0.0, description='Training', layout=Layout(flex='2'), max=750.0, style=Prog…"
      ]
     },
     "metadata": {},
     "output_type": "display_data"
    },
    {
     "name": "stdout",
     "output_type": "stream",
     "text": [
      "Epoch 11: train=6.09917, val=5.68807, took 97.878 s\n"
     ]
    },
    {
     "data": {
      "application/vnd.jupyter.widget-view+json": {
       "model_id": "",
       "version_major": 2,
       "version_minor": 0
      },
      "text/plain": [
       "HBox(children=(FloatProgress(value=0.0, description='Training', layout=Layout(flex='2'), max=750.0, style=Prog…"
      ]
     },
     "metadata": {},
     "output_type": "display_data"
    },
    {
     "name": "stdout",
     "output_type": "stream",
     "text": [
      "Epoch 12: train=5.98316, val=5.80028, took 97.704 s\n"
     ]
    },
    {
     "data": {
      "application/vnd.jupyter.widget-view+json": {
       "model_id": "",
       "version_major": 2,
       "version_minor": 0
      },
      "text/plain": [
       "HBox(children=(FloatProgress(value=0.0, description='Training', layout=Layout(flex='2'), max=750.0, style=Prog…"
      ]
     },
     "metadata": {},
     "output_type": "display_data"
    },
    {
     "name": "stdout",
     "output_type": "stream",
     "text": [
      "Epoch 13: train=5.90141, val=5.56856, took 97.852 s\n"
     ]
    },
    {
     "data": {
      "application/vnd.jupyter.widget-view+json": {
       "model_id": "",
       "version_major": 2,
       "version_minor": 0
      },
      "text/plain": [
       "HBox(children=(FloatProgress(value=0.0, description='Training', layout=Layout(flex='2'), max=750.0, style=Prog…"
      ]
     },
     "metadata": {},
     "output_type": "display_data"
    },
    {
     "name": "stdout",
     "output_type": "stream",
     "text": [
      "Epoch 14: train=5.81516, val=5.44387, took 97.767 s\n"
     ]
    },
    {
     "data": {
      "application/vnd.jupyter.widget-view+json": {
       "model_id": "",
       "version_major": 2,
       "version_minor": 0
      },
      "text/plain": [
       "HBox(children=(FloatProgress(value=0.0, description='Training', layout=Layout(flex='2'), max=750.0, style=Prog…"
      ]
     },
     "metadata": {},
     "output_type": "display_data"
    },
    {
     "name": "stdout",
     "output_type": "stream",
     "text": [
      "Epoch 15: train=5.72286, val=5.60633, took 97.769 s\n"
     ]
    },
    {
     "data": {
      "application/vnd.jupyter.widget-view+json": {
       "model_id": "",
       "version_major": 2,
       "version_minor": 0
      },
      "text/plain": [
       "HBox(children=(FloatProgress(value=0.0, description='Training', layout=Layout(flex='2'), max=750.0, style=Prog…"
      ]
     },
     "metadata": {},
     "output_type": "display_data"
    },
    {
     "name": "stdout",
     "output_type": "stream",
     "text": [
      "Epoch 16: train=5.64184, val=5.46291, took 97.822 s\n"
     ]
    },
    {
     "data": {
      "application/vnd.jupyter.widget-view+json": {
       "model_id": "",
       "version_major": 2,
       "version_minor": 0
      },
      "text/plain": [
       "HBox(children=(FloatProgress(value=0.0, description='Training', layout=Layout(flex='2'), max=750.0, style=Prog…"
      ]
     },
     "metadata": {},
     "output_type": "display_data"
    },
    {
     "name": "stdout",
     "output_type": "stream",
     "text": [
      "Epoch 17: train=5.57585, val=5.34913, took 97.867 s\n"
     ]
    },
    {
     "data": {
      "application/vnd.jupyter.widget-view+json": {
       "model_id": "",
       "version_major": 2,
       "version_minor": 0
      },
      "text/plain": [
       "HBox(children=(FloatProgress(value=0.0, description='Training', layout=Layout(flex='2'), max=750.0, style=Prog…"
      ]
     },
     "metadata": {},
     "output_type": "display_data"
    },
    {
     "name": "stdout",
     "output_type": "stream",
     "text": [
      "Epoch 18: train=5.54076, val=5.30487, took 97.832 s\n"
     ]
    },
    {
     "data": {
      "application/vnd.jupyter.widget-view+json": {
       "model_id": "",
       "version_major": 2,
       "version_minor": 0
      },
      "text/plain": [
       "HBox(children=(FloatProgress(value=0.0, description='Training', layout=Layout(flex='2'), max=750.0, style=Prog…"
      ]
     },
     "metadata": {},
     "output_type": "display_data"
    },
    {
     "name": "stdout",
     "output_type": "stream",
     "text": [
      "Epoch 19: train=5.46282, val=5.52696, took 97.874 s\n"
     ]
    },
    {
     "data": {
      "application/vnd.jupyter.widget-view+json": {
       "model_id": "",
       "version_major": 2,
       "version_minor": 0
      },
      "text/plain": [
       "HBox(children=(FloatProgress(value=0.0, description='Training', layout=Layout(flex='2'), max=750.0, style=Prog…"
      ]
     },
     "metadata": {},
     "output_type": "display_data"
    },
    {
     "name": "stdout",
     "output_type": "stream",
     "text": [
      "Epoch 20: train=5.39354, val=5.59671, took 97.674 s\n"
     ]
    },
    {
     "data": {
      "application/vnd.jupyter.widget-view+json": {
       "model_id": "",
       "version_major": 2,
       "version_minor": 0
      },
      "text/plain": [
       "HBox(children=(FloatProgress(value=0.0, description='Training', layout=Layout(flex='2'), max=750.0, style=Prog…"
      ]
     },
     "metadata": {},
     "output_type": "display_data"
    },
    {
     "name": "stdout",
     "output_type": "stream",
     "text": [
      "Epoch 21: train=5.37028, val=5.69766, took 97.698 s\n"
     ]
    },
    {
     "data": {
      "application/vnd.jupyter.widget-view+json": {
       "model_id": "",
       "version_major": 2,
       "version_minor": 0
      },
      "text/plain": [
       "HBox(children=(FloatProgress(value=0.0, description='Training', layout=Layout(flex='2'), max=750.0, style=Prog…"
      ]
     },
     "metadata": {},
     "output_type": "display_data"
    },
    {
     "name": "stdout",
     "output_type": "stream",
     "text": [
      "Epoch 22: train=5.19706, val=5.22857, took 97.868 s\n"
     ]
    },
    {
     "data": {
      "application/vnd.jupyter.widget-view+json": {
       "model_id": "",
       "version_major": 2,
       "version_minor": 0
      },
      "text/plain": [
       "HBox(children=(FloatProgress(value=0.0, description='Training', layout=Layout(flex='2'), max=750.0, style=Prog…"
      ]
     },
     "metadata": {},
     "output_type": "display_data"
    },
    {
     "name": "stdout",
     "output_type": "stream",
     "text": [
      "Epoch 23: train=5.25477, val=5.26671, took 98.079 s\n"
     ]
    },
    {
     "data": {
      "application/vnd.jupyter.widget-view+json": {
       "model_id": "",
       "version_major": 2,
       "version_minor": 0
      },
      "text/plain": [
       "HBox(children=(FloatProgress(value=0.0, description='Training', layout=Layout(flex='2'), max=750.0, style=Prog…"
      ]
     },
     "metadata": {},
     "output_type": "display_data"
    },
    {
     "name": "stdout",
     "output_type": "stream",
     "text": [
      "Epoch 24: train=5.13091, val=5.37466, took 98.158 s\n"
     ]
    },
    {
     "data": {
      "application/vnd.jupyter.widget-view+json": {
       "model_id": "",
       "version_major": 2,
       "version_minor": 0
      },
      "text/plain": [
       "HBox(children=(FloatProgress(value=0.0, description='Training', layout=Layout(flex='2'), max=750.0, style=Prog…"
      ]
     },
     "metadata": {},
     "output_type": "display_data"
    },
    {
     "name": "stdout",
     "output_type": "stream",
     "text": [
      "Epoch 25: train=5.05631, val=6.02467, took 97.689 s\n"
     ]
    },
    {
     "data": {
      "application/vnd.jupyter.widget-view+json": {
       "model_id": "",
       "version_major": 2,
       "version_minor": 0
      },
      "text/plain": [
       "HBox(children=(FloatProgress(value=0.0, description='Training', layout=Layout(flex='2'), max=750.0, style=Prog…"
      ]
     },
     "metadata": {},
     "output_type": "display_data"
    },
    {
     "name": "stdout",
     "output_type": "stream",
     "text": [
      "Epoch 26: train=5.13755, val=5.20805, took 97.744 s\n"
     ]
    },
    {
     "data": {
      "application/vnd.jupyter.widget-view+json": {
       "model_id": "",
       "version_major": 2,
       "version_minor": 0
      },
      "text/plain": [
       "HBox(children=(FloatProgress(value=0.0, description='Training', layout=Layout(flex='2'), max=750.0, style=Prog…"
      ]
     },
     "metadata": {},
     "output_type": "display_data"
    },
    {
     "name": "stdout",
     "output_type": "stream",
     "text": [
      "Epoch 27: train=4.98536, val=5.10111, took 97.709 s\n"
     ]
    },
    {
     "data": {
      "application/vnd.jupyter.widget-view+json": {
       "model_id": "",
       "version_major": 2,
       "version_minor": 0
      },
      "text/plain": [
       "HBox(children=(FloatProgress(value=0.0, description='Training', layout=Layout(flex='2'), max=750.0, style=Prog…"
      ]
     },
     "metadata": {},
     "output_type": "display_data"
    },
    {
     "name": "stdout",
     "output_type": "stream",
     "text": [
      "Epoch 28: train=4.97165, val=5.15745, took 97.78 s\n"
     ]
    },
    {
     "data": {
      "application/vnd.jupyter.widget-view+json": {
       "model_id": "",
       "version_major": 2,
       "version_minor": 0
      },
      "text/plain": [
       "HBox(children=(FloatProgress(value=0.0, description='Training', layout=Layout(flex='2'), max=750.0, style=Prog…"
      ]
     },
     "metadata": {},
     "output_type": "display_data"
    },
    {
     "name": "stdout",
     "output_type": "stream",
     "text": [
      "Epoch 29: train=4.89611, val=5.16128, took 98.066 s\n"
     ]
    },
    {
     "data": {
      "application/vnd.jupyter.widget-view+json": {
       "model_id": "",
       "version_major": 2,
       "version_minor": 0
      },
      "text/plain": [
       "HBox(children=(FloatProgress(value=0.0, description='Training', layout=Layout(flex='2'), max=750.0, style=Prog…"
      ]
     },
     "metadata": {},
     "output_type": "display_data"
    },
    {
     "name": "stdout",
     "output_type": "stream",
     "text": [
      "Epoch 30: train=4.79195, val=5.30925, took 97.963 s\n"
     ]
    },
    {
     "data": {
      "application/vnd.jupyter.widget-view+json": {
       "model_id": "",
       "version_major": 2,
       "version_minor": 0
      },
      "text/plain": [
       "HBox(children=(FloatProgress(value=0.0, description='Training', layout=Layout(flex='2'), max=750.0, style=Prog…"
      ]
     },
     "metadata": {},
     "output_type": "display_data"
    },
    {
     "name": "stdout",
     "output_type": "stream",
     "text": [
      "Epoch 31: train=4.8357, val=5.32532, took 97.702 s\n"
     ]
    },
    {
     "data": {
      "application/vnd.jupyter.widget-view+json": {
       "model_id": "",
       "version_major": 2,
       "version_minor": 0
      },
      "text/plain": [
       "HBox(children=(FloatProgress(value=0.0, description='Training', layout=Layout(flex='2'), max=750.0, style=Prog…"
      ]
     },
     "metadata": {},
     "output_type": "display_data"
    },
    {
     "name": "stdout",
     "output_type": "stream",
     "text": [
      "Epoch 32: train=4.86825, val=5.10358, took 97.649 s\n"
     ]
    },
    {
     "data": {
      "application/vnd.jupyter.widget-view+json": {
       "model_id": "",
       "version_major": 2,
       "version_minor": 0
      },
      "text/plain": [
       "HBox(children=(FloatProgress(value=0.0, description='Training', layout=Layout(flex='2'), max=750.0, style=Prog…"
      ]
     },
     "metadata": {},
     "output_type": "display_data"
    },
    {
     "name": "stdout",
     "output_type": "stream",
     "text": [
      "Epoch 33: train=4.72717, val=5.27219, took 97.961 s\n"
     ]
    },
    {
     "data": {
      "application/vnd.jupyter.widget-view+json": {
       "model_id": "",
       "version_major": 2,
       "version_minor": 0
      },
      "text/plain": [
       "HBox(children=(FloatProgress(value=0.0, description='Training', layout=Layout(flex='2'), max=750.0, style=Prog…"
      ]
     },
     "metadata": {},
     "output_type": "display_data"
    },
    {
     "name": "stdout",
     "output_type": "stream",
     "text": [
      "Epoch 34: train=4.73705, val=5.09468, took 98.415 s\n"
     ]
    },
    {
     "data": {
      "application/vnd.jupyter.widget-view+json": {
       "model_id": "",
       "version_major": 2,
       "version_minor": 0
      },
      "text/plain": [
       "HBox(children=(FloatProgress(value=0.0, description='Training', layout=Layout(flex='2'), max=750.0, style=Prog…"
      ]
     },
     "metadata": {},
     "output_type": "display_data"
    },
    {
     "name": "stdout",
     "output_type": "stream",
     "text": [
      "Epoch 35: train=4.72408, val=5.13173, took 97.76 s\n"
     ]
    },
    {
     "data": {
      "application/vnd.jupyter.widget-view+json": {
       "model_id": "",
       "version_major": 2,
       "version_minor": 0
      },
      "text/plain": [
       "HBox(children=(FloatProgress(value=0.0, description='Training', layout=Layout(flex='2'), max=750.0, style=Prog…"
      ]
     },
     "metadata": {},
     "output_type": "display_data"
    },
    {
     "name": "stdout",
     "output_type": "stream",
     "text": [
      "Epoch 36: train=4.70155, val=5.05862, took 97.642 s\n"
     ]
    },
    {
     "data": {
      "application/vnd.jupyter.widget-view+json": {
       "model_id": "",
       "version_major": 2,
       "version_minor": 0
      },
      "text/plain": [
       "HBox(children=(FloatProgress(value=0.0, description='Training', layout=Layout(flex='2'), max=750.0, style=Prog…"
      ]
     },
     "metadata": {},
     "output_type": "display_data"
    },
    {
     "name": "stdout",
     "output_type": "stream",
     "text": [
      "Epoch 37: train=4.67645, val=5.12325, took 97.719 s\n"
     ]
    },
    {
     "data": {
      "application/vnd.jupyter.widget-view+json": {
       "model_id": "",
       "version_major": 2,
       "version_minor": 0
      },
      "text/plain": [
       "HBox(children=(FloatProgress(value=0.0, description='Training', layout=Layout(flex='2'), max=750.0, style=Prog…"
      ]
     },
     "metadata": {},
     "output_type": "display_data"
    },
    {
     "name": "stdout",
     "output_type": "stream",
     "text": [
      "Epoch 38: train=4.55656, val=5.3731, took 97.656 s\n"
     ]
    },
    {
     "data": {
      "application/vnd.jupyter.widget-view+json": {
       "model_id": "",
       "version_major": 2,
       "version_minor": 0
      },
      "text/plain": [
       "HBox(children=(FloatProgress(value=0.0, description='Training', layout=Layout(flex='2'), max=750.0, style=Prog…"
      ]
     },
     "metadata": {},
     "output_type": "display_data"
    },
    {
     "name": "stdout",
     "output_type": "stream",
     "text": [
      "Epoch 39: train=4.58312, val=5.7314, took 97.558 s\n"
     ]
    },
    {
     "data": {
      "application/vnd.jupyter.widget-view+json": {
       "model_id": "",
       "version_major": 2,
       "version_minor": 0
      },
      "text/plain": [
       "HBox(children=(FloatProgress(value=0.0, description='Training', layout=Layout(flex='2'), max=750.0, style=Prog…"
      ]
     },
     "metadata": {},
     "output_type": "display_data"
    },
    {
     "name": "stdout",
     "output_type": "stream",
     "text": [
      "Epoch 40: train=4.74978, val=5.45416, took 97.072 s\n"
     ]
    },
    {
     "data": {
      "application/vnd.jupyter.widget-view+json": {
       "model_id": "",
       "version_major": 2,
       "version_minor": 0
      },
      "text/plain": [
       "HBox(children=(FloatProgress(value=0.0, description='Training', layout=Layout(flex='2'), max=750.0, style=Prog…"
      ]
     },
     "metadata": {},
     "output_type": "display_data"
    },
    {
     "name": "stdout",
     "output_type": "stream",
     "text": [
      "Epoch 41: train=4.52308, val=5.26143, took 97.915 s\n"
     ]
    },
    {
     "data": {
      "application/vnd.jupyter.widget-view+json": {
       "model_id": "",
       "version_major": 2,
       "version_minor": 0
      },
      "text/plain": [
       "HBox(children=(FloatProgress(value=0.0, description='Training', layout=Layout(flex='2'), max=750.0, style=Prog…"
      ]
     },
     "metadata": {},
     "output_type": "display_data"
    },
    {
     "name": "stdout",
     "output_type": "stream",
     "text": [
      "Epoch 42: train=4.42927, val=5.53607, took 97.551 s\n"
     ]
    },
    {
     "data": {
      "application/vnd.jupyter.widget-view+json": {
       "model_id": "",
       "version_major": 2,
       "version_minor": 0
      },
      "text/plain": [
       "HBox(children=(FloatProgress(value=0.0, description='Training', layout=Layout(flex='2'), max=750.0, style=Prog…"
      ]
     },
     "metadata": {},
     "output_type": "display_data"
    },
    {
     "name": "stdout",
     "output_type": "stream",
     "text": [
      "Epoch 43: train=4.34832, val=5.59095, took 97.212 s\n"
     ]
    },
    {
     "data": {
      "application/vnd.jupyter.widget-view+json": {
       "model_id": "",
       "version_major": 2,
       "version_minor": 0
      },
      "text/plain": [
       "HBox(children=(FloatProgress(value=0.0, description='Training', layout=Layout(flex='2'), max=750.0, style=Prog…"
      ]
     },
     "metadata": {},
     "output_type": "display_data"
    },
    {
     "name": "stdout",
     "output_type": "stream",
     "text": [
      "Epoch 44: train=4.40244, val=5.13381, took 97.528 s\n"
     ]
    },
    {
     "data": {
      "application/vnd.jupyter.widget-view+json": {
       "model_id": "",
       "version_major": 2,
       "version_minor": 0
      },
      "text/plain": [
       "HBox(children=(FloatProgress(value=0.0, description='Training', layout=Layout(flex='2'), max=750.0, style=Prog…"
      ]
     },
     "metadata": {},
     "output_type": "display_data"
    },
    {
     "name": "stdout",
     "output_type": "stream",
     "text": [
      "Epoch 45: train=4.369, val=5.6375, took 97.423 s\n"
     ]
    },
    {
     "data": {
      "application/vnd.jupyter.widget-view+json": {
       "model_id": "",
       "version_major": 2,
       "version_minor": 0
      },
      "text/plain": [
       "HBox(children=(FloatProgress(value=0.0, description='Training', layout=Layout(flex='2'), max=750.0, style=Prog…"
      ]
     },
     "metadata": {},
     "output_type": "display_data"
    },
    {
     "name": "stdout",
     "output_type": "stream",
     "text": [
      "Epoch 46: train=4.39838, val=5.4582, took 97.44 s\n"
     ]
    },
    {
     "data": {
      "application/vnd.jupyter.widget-view+json": {
       "model_id": "",
       "version_major": 2,
       "version_minor": 0
      },
      "text/plain": [
       "HBox(children=(FloatProgress(value=0.0, description='Training', layout=Layout(flex='2'), max=750.0, style=Prog…"
      ]
     },
     "metadata": {},
     "output_type": "display_data"
    },
    {
     "name": "stdout",
     "output_type": "stream",
     "text": [
      "Epoch 47: train=4.34234, val=5.20443, took 97.741 s\n"
     ]
    },
    {
     "data": {
      "application/vnd.jupyter.widget-view+json": {
       "model_id": "",
       "version_major": 2,
       "version_minor": 0
      },
      "text/plain": [
       "HBox(children=(FloatProgress(value=0.0, description='Training', layout=Layout(flex='2'), max=750.0, style=Prog…"
      ]
     },
     "metadata": {},
     "output_type": "display_data"
    },
    {
     "name": "stdout",
     "output_type": "stream",
     "text": [
      "Epoch 48: train=4.38802, val=5.49317, took 97.555 s\n"
     ]
    },
    {
     "data": {
      "application/vnd.jupyter.widget-view+json": {
       "model_id": "",
       "version_major": 2,
       "version_minor": 0
      },
      "text/plain": [
       "HBox(children=(FloatProgress(value=0.0, description='Training', layout=Layout(flex='2'), max=750.0, style=Prog…"
      ]
     },
     "metadata": {},
     "output_type": "display_data"
    },
    {
     "name": "stdout",
     "output_type": "stream",
     "text": [
      "Epoch 49: train=4.42505, val=5.16531, took 97.565 s\n"
     ]
    },
    {
     "data": {
      "application/vnd.jupyter.widget-view+json": {
       "model_id": "",
       "version_major": 2,
       "version_minor": 0
      },
      "text/plain": [
       "HBox(children=(FloatProgress(value=0.0, description='Training', layout=Layout(flex='2'), max=750.0, style=Prog…"
      ]
     },
     "metadata": {},
     "output_type": "display_data"
    },
    {
     "name": "stdout",
     "output_type": "stream",
     "text": [
      "Epoch 50: train=4.20839, val=5.57133, took 97.017 s\n"
     ]
    },
    {
     "data": {
      "application/vnd.jupyter.widget-view+json": {
       "model_id": "",
       "version_major": 2,
       "version_minor": 0
      },
      "text/plain": [
       "HBox(children=(FloatProgress(value=0.0, description='Training', layout=Layout(flex='2'), max=750.0, style=Prog…"
      ]
     },
     "metadata": {},
     "output_type": "display_data"
    },
    {
     "name": "stdout",
     "output_type": "stream",
     "text": [
      "Epoch 51: train=4.1851, val=5.16345, took 96.98 s\n"
     ]
    },
    {
     "data": {
      "application/vnd.jupyter.widget-view+json": {
       "model_id": "",
       "version_major": 2,
       "version_minor": 0
      },
      "text/plain": [
       "HBox(children=(FloatProgress(value=0.0, description='Training', layout=Layout(flex='2'), max=750.0, style=Prog…"
      ]
     },
     "metadata": {},
     "output_type": "display_data"
    },
    {
     "name": "stdout",
     "output_type": "stream",
     "text": [
      "Epoch 52: train=4.38523, val=5.04464, took 97.4 s\n"
     ]
    },
    {
     "data": {
      "application/vnd.jupyter.widget-view+json": {
       "model_id": "",
       "version_major": 2,
       "version_minor": 0
      },
      "text/plain": [
       "HBox(children=(FloatProgress(value=0.0, description='Training', layout=Layout(flex='2'), max=750.0, style=Prog…"
      ]
     },
     "metadata": {},
     "output_type": "display_data"
    },
    {
     "name": "stdout",
     "output_type": "stream",
     "text": [
      "Epoch 53: train=4.2048, val=5.00435, took 97.759 s\n"
     ]
    },
    {
     "data": {
      "application/vnd.jupyter.widget-view+json": {
       "model_id": "",
       "version_major": 2,
       "version_minor": 0
      },
      "text/plain": [
       "HBox(children=(FloatProgress(value=0.0, description='Training', layout=Layout(flex='2'), max=750.0, style=Prog…"
      ]
     },
     "metadata": {},
     "output_type": "display_data"
    },
    {
     "name": "stdout",
     "output_type": "stream",
     "text": [
      "Epoch 54: train=4.20322, val=5.13762, took 98.021 s\n"
     ]
    },
    {
     "data": {
      "application/vnd.jupyter.widget-view+json": {
       "model_id": "",
       "version_major": 2,
       "version_minor": 0
      },
      "text/plain": [
       "HBox(children=(FloatProgress(value=0.0, description='Training', layout=Layout(flex='2'), max=750.0, style=Prog…"
      ]
     },
     "metadata": {},
     "output_type": "display_data"
    },
    {
     "name": "stdout",
     "output_type": "stream",
     "text": [
      "Epoch 55: train=4.12858, val=5.21721, took 97.912 s\n"
     ]
    },
    {
     "data": {
      "application/vnd.jupyter.widget-view+json": {
       "model_id": "",
       "version_major": 2,
       "version_minor": 0
      },
      "text/plain": [
       "HBox(children=(FloatProgress(value=0.0, description='Training', layout=Layout(flex='2'), max=750.0, style=Prog…"
      ]
     },
     "metadata": {},
     "output_type": "display_data"
    },
    {
     "name": "stdout",
     "output_type": "stream",
     "text": [
      "Epoch 56: train=4.29335, val=5.28209, took 97.602 s\n"
     ]
    },
    {
     "data": {
      "application/vnd.jupyter.widget-view+json": {
       "model_id": "",
       "version_major": 2,
       "version_minor": 0
      },
      "text/plain": [
       "HBox(children=(FloatProgress(value=0.0, description='Training', layout=Layout(flex='2'), max=750.0, style=Prog…"
      ]
     },
     "metadata": {},
     "output_type": "display_data"
    },
    {
     "name": "stdout",
     "output_type": "stream",
     "text": [
      "Epoch 57: train=4.38597, val=5.05933, took 97.702 s\n"
     ]
    },
    {
     "data": {
      "application/vnd.jupyter.widget-view+json": {
       "model_id": "",
       "version_major": 2,
       "version_minor": 0
      },
      "text/plain": [
       "HBox(children=(FloatProgress(value=0.0, description='Training', layout=Layout(flex='2'), max=750.0, style=Prog…"
      ]
     },
     "metadata": {},
     "output_type": "display_data"
    },
    {
     "name": "stdout",
     "output_type": "stream",
     "text": [
      "Epoch 58: train=4.10401, val=5.00047, took 97.608 s\n"
     ]
    },
    {
     "data": {
      "application/vnd.jupyter.widget-view+json": {
       "model_id": "",
       "version_major": 2,
       "version_minor": 0
      },
      "text/plain": [
       "HBox(children=(FloatProgress(value=0.0, description='Training', layout=Layout(flex='2'), max=750.0, style=Prog…"
      ]
     },
     "metadata": {},
     "output_type": "display_data"
    },
    {
     "name": "stdout",
     "output_type": "stream",
     "text": [
      "Epoch 59: train=4.06637, val=5.51137, took 97.635 s\n"
     ]
    },
    {
     "data": {
      "application/vnd.jupyter.widget-view+json": {
       "model_id": "",
       "version_major": 2,
       "version_minor": 0
      },
      "text/plain": [
       "HBox(children=(FloatProgress(value=0.0, description='Training', layout=Layout(flex='2'), max=750.0, style=Prog…"
      ]
     },
     "metadata": {},
     "output_type": "display_data"
    },
    {
     "name": "stdout",
     "output_type": "stream",
     "text": [
      "Epoch 60: train=4.12461, val=5.11442, took 97.546 s\n"
     ]
    },
    {
     "data": {
      "application/vnd.jupyter.widget-view+json": {
       "model_id": "",
       "version_major": 2,
       "version_minor": 0
      },
      "text/plain": [
       "HBox(children=(FloatProgress(value=0.0, description='Training', layout=Layout(flex='2'), max=750.0, style=Prog…"
      ]
     },
     "metadata": {},
     "output_type": "display_data"
    },
    {
     "name": "stdout",
     "output_type": "stream",
     "text": [
      "Epoch 61: train=4.06687, val=4.98128, took 97.685 s\n"
     ]
    },
    {
     "data": {
      "application/vnd.jupyter.widget-view+json": {
       "model_id": "",
       "version_major": 2,
       "version_minor": 0
      },
      "text/plain": [
       "HBox(children=(FloatProgress(value=0.0, description='Training', layout=Layout(flex='2'), max=750.0, style=Prog…"
      ]
     },
     "metadata": {},
     "output_type": "display_data"
    },
    {
     "name": "stdout",
     "output_type": "stream",
     "text": [
      "Epoch 62: train=4.2221, val=5.01748, took 97.891 s\n"
     ]
    },
    {
     "data": {
      "application/vnd.jupyter.widget-view+json": {
       "model_id": "",
       "version_major": 2,
       "version_minor": 0
      },
      "text/plain": [
       "HBox(children=(FloatProgress(value=0.0, description='Training', layout=Layout(flex='2'), max=750.0, style=Prog…"
      ]
     },
     "metadata": {},
     "output_type": "display_data"
    },
    {
     "name": "stdout",
     "output_type": "stream",
     "text": [
      "Epoch 63: train=4.15428, val=5.41443, took 97.533 s\n"
     ]
    },
    {
     "data": {
      "application/vnd.jupyter.widget-view+json": {
       "model_id": "",
       "version_major": 2,
       "version_minor": 0
      },
      "text/plain": [
       "HBox(children=(FloatProgress(value=0.0, description='Training', layout=Layout(flex='2'), max=750.0, style=Prog…"
      ]
     },
     "metadata": {},
     "output_type": "display_data"
    },
    {
     "name": "stdout",
     "output_type": "stream",
     "text": [
      "Epoch 64: train=4.04311, val=4.90309, took 97.6 s\n"
     ]
    },
    {
     "data": {
      "application/vnd.jupyter.widget-view+json": {
       "model_id": "",
       "version_major": 2,
       "version_minor": 0
      },
      "text/plain": [
       "HBox(children=(FloatProgress(value=0.0, description='Training', layout=Layout(flex='2'), max=750.0, style=Prog…"
      ]
     },
     "metadata": {},
     "output_type": "display_data"
    },
    {
     "name": "stdout",
     "output_type": "stream",
     "text": [
      "Epoch 65: train=3.98462, val=4.79968, took 97.56 s\n"
     ]
    },
    {
     "data": {
      "application/vnd.jupyter.widget-view+json": {
       "model_id": "",
       "version_major": 2,
       "version_minor": 0
      },
      "text/plain": [
       "HBox(children=(FloatProgress(value=0.0, description='Training', layout=Layout(flex='2'), max=750.0, style=Prog…"
      ]
     },
     "metadata": {},
     "output_type": "display_data"
    },
    {
     "name": "stdout",
     "output_type": "stream",
     "text": [
      "Epoch 66: train=3.91658, val=5.05697, took 97.697 s\n"
     ]
    },
    {
     "data": {
      "application/vnd.jupyter.widget-view+json": {
       "model_id": "",
       "version_major": 2,
       "version_minor": 0
      },
      "text/plain": [
       "HBox(children=(FloatProgress(value=0.0, description='Training', layout=Layout(flex='2'), max=750.0, style=Prog…"
      ]
     },
     "metadata": {},
     "output_type": "display_data"
    },
    {
     "name": "stdout",
     "output_type": "stream",
     "text": [
      "Epoch 67: train=4.01981, val=4.93482, took 97.715 s\n"
     ]
    },
    {
     "data": {
      "application/vnd.jupyter.widget-view+json": {
       "model_id": "",
       "version_major": 2,
       "version_minor": 0
      },
      "text/plain": [
       "HBox(children=(FloatProgress(value=0.0, description='Training', layout=Layout(flex='2'), max=750.0, style=Prog…"
      ]
     },
     "metadata": {},
     "output_type": "display_data"
    },
    {
     "name": "stdout",
     "output_type": "stream",
     "text": [
      "Epoch 68: train=4.07264, val=5.22713, took 97.609 s\n"
     ]
    },
    {
     "data": {
      "application/vnd.jupyter.widget-view+json": {
       "model_id": "",
       "version_major": 2,
       "version_minor": 0
      },
      "text/plain": [
       "HBox(children=(FloatProgress(value=0.0, description='Training', layout=Layout(flex='2'), max=750.0, style=Prog…"
      ]
     },
     "metadata": {},
     "output_type": "display_data"
    },
    {
     "name": "stdout",
     "output_type": "stream",
     "text": [
      "Epoch 69: train=4.19123, val=6.48718, took 97.548 s\n"
     ]
    },
    {
     "data": {
      "application/vnd.jupyter.widget-view+json": {
       "model_id": "",
       "version_major": 2,
       "version_minor": 0
      },
      "text/plain": [
       "HBox(children=(FloatProgress(value=0.0, description='Training', layout=Layout(flex='2'), max=750.0, style=Prog…"
      ]
     },
     "metadata": {},
     "output_type": "display_data"
    },
    {
     "name": "stdout",
     "output_type": "stream",
     "text": [
      "Epoch 70: train=3.99302, val=4.80859, took 97.586 s\n"
     ]
    },
    {
     "data": {
      "application/vnd.jupyter.widget-view+json": {
       "model_id": "",
       "version_major": 2,
       "version_minor": 0
      },
      "text/plain": [
       "HBox(children=(FloatProgress(value=0.0, description='Training', layout=Layout(flex='2'), max=750.0, style=Prog…"
      ]
     },
     "metadata": {},
     "output_type": "display_data"
    },
    {
     "name": "stdout",
     "output_type": "stream",
     "text": [
      "Epoch 71: train=3.96989, val=5.01444, took 97.587 s\n"
     ]
    },
    {
     "data": {
      "application/vnd.jupyter.widget-view+json": {
       "model_id": "",
       "version_major": 2,
       "version_minor": 0
      },
      "text/plain": [
       "HBox(children=(FloatProgress(value=0.0, description='Training', layout=Layout(flex='2'), max=750.0, style=Prog…"
      ]
     },
     "metadata": {},
     "output_type": "display_data"
    },
    {
     "name": "stdout",
     "output_type": "stream",
     "text": [
      "Epoch 72: train=4.02447, val=4.96476, took 97.592 s\n"
     ]
    },
    {
     "data": {
      "application/vnd.jupyter.widget-view+json": {
       "model_id": "",
       "version_major": 2,
       "version_minor": 0
      },
      "text/plain": [
       "HBox(children=(FloatProgress(value=0.0, description='Training', layout=Layout(flex='2'), max=750.0, style=Prog…"
      ]
     },
     "metadata": {},
     "output_type": "display_data"
    },
    {
     "name": "stdout",
     "output_type": "stream",
     "text": [
      "Epoch 73: train=3.90284, val=4.85447, took 97.619 s\n"
     ]
    },
    {
     "data": {
      "application/vnd.jupyter.widget-view+json": {
       "model_id": "",
       "version_major": 2,
       "version_minor": 0
      },
      "text/plain": [
       "HBox(children=(FloatProgress(value=0.0, description='Training', layout=Layout(flex='2'), max=750.0, style=Prog…"
      ]
     },
     "metadata": {},
     "output_type": "display_data"
    },
    {
     "name": "stdout",
     "output_type": "stream",
     "text": [
      "Epoch 74: train=3.7663, val=5.35918, took 97.38 s\n"
     ]
    },
    {
     "data": {
      "application/vnd.jupyter.widget-view+json": {
       "model_id": "",
       "version_major": 2,
       "version_minor": 0
      },
      "text/plain": [
       "HBox(children=(FloatProgress(value=0.0, description='Training', layout=Layout(flex='2'), max=750.0, style=Prog…"
      ]
     },
     "metadata": {},
     "output_type": "display_data"
    },
    {
     "name": "stdout",
     "output_type": "stream",
     "text": [
      "Epoch 75: train=3.92376, val=4.76509, took 97.055 s\n"
     ]
    },
    {
     "data": {
      "application/vnd.jupyter.widget-view+json": {
       "model_id": "",
       "version_major": 2,
       "version_minor": 0
      },
      "text/plain": [
       "HBox(children=(FloatProgress(value=0.0, description='Training', layout=Layout(flex='2'), max=750.0, style=Prog…"
      ]
     },
     "metadata": {},
     "output_type": "display_data"
    },
    {
     "name": "stdout",
     "output_type": "stream",
     "text": [
      "Epoch 76: train=3.7988, val=5.43719, took 97.189 s\n"
     ]
    },
    {
     "data": {
      "application/vnd.jupyter.widget-view+json": {
       "model_id": "",
       "version_major": 2,
       "version_minor": 0
      },
      "text/plain": [
       "HBox(children=(FloatProgress(value=0.0, description='Training', layout=Layout(flex='2'), max=750.0, style=Prog…"
      ]
     },
     "metadata": {},
     "output_type": "display_data"
    },
    {
     "name": "stdout",
     "output_type": "stream",
     "text": [
      "Epoch 77: train=3.96851, val=4.72395, took 97.414 s\n"
     ]
    },
    {
     "data": {
      "application/vnd.jupyter.widget-view+json": {
       "model_id": "",
       "version_major": 2,
       "version_minor": 0
      },
      "text/plain": [
       "HBox(children=(FloatProgress(value=0.0, description='Training', layout=Layout(flex='2'), max=750.0, style=Prog…"
      ]
     },
     "metadata": {},
     "output_type": "display_data"
    },
    {
     "name": "stdout",
     "output_type": "stream",
     "text": [
      "Epoch 78: train=3.71938, val=4.80796, took 97.128 s\n"
     ]
    },
    {
     "data": {
      "application/vnd.jupyter.widget-view+json": {
       "model_id": "",
       "version_major": 2,
       "version_minor": 0
      },
      "text/plain": [
       "HBox(children=(FloatProgress(value=0.0, description='Training', layout=Layout(flex='2'), max=750.0, style=Prog…"
      ]
     },
     "metadata": {},
     "output_type": "display_data"
    },
    {
     "name": "stdout",
     "output_type": "stream",
     "text": [
      "Epoch 79: train=3.89601, val=5.34735, took 97.128 s\n"
     ]
    },
    {
     "data": {
      "application/vnd.jupyter.widget-view+json": {
       "model_id": "",
       "version_major": 2,
       "version_minor": 0
      },
      "text/plain": [
       "HBox(children=(FloatProgress(value=0.0, description='Training', layout=Layout(flex='2'), max=750.0, style=Prog…"
      ]
     },
     "metadata": {},
     "output_type": "display_data"
    },
    {
     "name": "stdout",
     "output_type": "stream",
     "text": [
      "Epoch 80: train=3.9322, val=6.12573, took 97.062 s\n"
     ]
    },
    {
     "data": {
      "application/vnd.jupyter.widget-view+json": {
       "model_id": "",
       "version_major": 2,
       "version_minor": 0
      },
      "text/plain": [
       "HBox(children=(FloatProgress(value=0.0, description='Training', layout=Layout(flex='2'), max=750.0, style=Prog…"
      ]
     },
     "metadata": {},
     "output_type": "display_data"
    },
    {
     "name": "stdout",
     "output_type": "stream",
     "text": [
      "Epoch 81: train=3.99848, val=4.76833, took 97.565 s\n"
     ]
    },
    {
     "data": {
      "application/vnd.jupyter.widget-view+json": {
       "model_id": "",
       "version_major": 2,
       "version_minor": 0
      },
      "text/plain": [
       "HBox(children=(FloatProgress(value=0.0, description='Training', layout=Layout(flex='2'), max=750.0, style=Prog…"
      ]
     },
     "metadata": {},
     "output_type": "display_data"
    },
    {
     "name": "stdout",
     "output_type": "stream",
     "text": [
      "Epoch 82: train=3.98048, val=5.18504, took 97.807 s\n"
     ]
    },
    {
     "data": {
      "application/vnd.jupyter.widget-view+json": {
       "model_id": "",
       "version_major": 2,
       "version_minor": 0
      },
      "text/plain": [
       "HBox(children=(FloatProgress(value=0.0, description='Training', layout=Layout(flex='2'), max=750.0, style=Prog…"
      ]
     },
     "metadata": {},
     "output_type": "display_data"
    },
    {
     "name": "stdout",
     "output_type": "stream",
     "text": [
      "Epoch 83: train=3.81665, val=4.67329, took 97.516 s\n"
     ]
    },
    {
     "data": {
      "application/vnd.jupyter.widget-view+json": {
       "model_id": "",
       "version_major": 2,
       "version_minor": 0
      },
      "text/plain": [
       "HBox(children=(FloatProgress(value=0.0, description='Training', layout=Layout(flex='2'), max=750.0, style=Prog…"
      ]
     },
     "metadata": {},
     "output_type": "display_data"
    },
    {
     "name": "stdout",
     "output_type": "stream",
     "text": [
      "Epoch 84: train=3.68537, val=4.74767, took 97.517 s\n"
     ]
    },
    {
     "data": {
      "application/vnd.jupyter.widget-view+json": {
       "model_id": "",
       "version_major": 2,
       "version_minor": 0
      },
      "text/plain": [
       "HBox(children=(FloatProgress(value=0.0, description='Training', layout=Layout(flex='2'), max=750.0, style=Prog…"
      ]
     },
     "metadata": {},
     "output_type": "display_data"
    },
    {
     "name": "stdout",
     "output_type": "stream",
     "text": [
      "Epoch 85: train=3.57652, val=4.74587, took 97.658 s\n"
     ]
    },
    {
     "data": {
      "application/vnd.jupyter.widget-view+json": {
       "model_id": "",
       "version_major": 2,
       "version_minor": 0
      },
      "text/plain": [
       "HBox(children=(FloatProgress(value=0.0, description='Training', layout=Layout(flex='2'), max=750.0, style=Prog…"
      ]
     },
     "metadata": {},
     "output_type": "display_data"
    },
    {
     "name": "stdout",
     "output_type": "stream",
     "text": [
      "Epoch 86: train=3.65833, val=4.86907, took 97.477 s\n"
     ]
    },
    {
     "data": {
      "application/vnd.jupyter.widget-view+json": {
       "model_id": "",
       "version_major": 2,
       "version_minor": 0
      },
      "text/plain": [
       "HBox(children=(FloatProgress(value=0.0, description='Training', layout=Layout(flex='2'), max=750.0, style=Prog…"
      ]
     },
     "metadata": {},
     "output_type": "display_data"
    },
    {
     "name": "stdout",
     "output_type": "stream",
     "text": [
      "Epoch 87: train=3.73366, val=5.1867, took 97.579 s\n"
     ]
    },
    {
     "data": {
      "application/vnd.jupyter.widget-view+json": {
       "model_id": "",
       "version_major": 2,
       "version_minor": 0
      },
      "text/plain": [
       "HBox(children=(FloatProgress(value=0.0, description='Training', layout=Layout(flex='2'), max=750.0, style=Prog…"
      ]
     },
     "metadata": {},
     "output_type": "display_data"
    },
    {
     "name": "stdout",
     "output_type": "stream",
     "text": [
      "Epoch 88: train=3.60307, val=5.30575, took 97.576 s\n"
     ]
    },
    {
     "data": {
      "application/vnd.jupyter.widget-view+json": {
       "model_id": "",
       "version_major": 2,
       "version_minor": 0
      },
      "text/plain": [
       "HBox(children=(FloatProgress(value=0.0, description='Training', layout=Layout(flex='2'), max=750.0, style=Prog…"
      ]
     },
     "metadata": {},
     "output_type": "display_data"
    },
    {
     "name": "stdout",
     "output_type": "stream",
     "text": [
      "Epoch 89: train=3.76212, val=4.97017, took 97.837 s\n"
     ]
    },
    {
     "data": {
      "application/vnd.jupyter.widget-view+json": {
       "model_id": "",
       "version_major": 2,
       "version_minor": 0
      },
      "text/plain": [
       "HBox(children=(FloatProgress(value=0.0, description='Training', layout=Layout(flex='2'), max=750.0, style=Prog…"
      ]
     },
     "metadata": {},
     "output_type": "display_data"
    },
    {
     "name": "stdout",
     "output_type": "stream",
     "text": [
      "Epoch 90: train=3.57728, val=4.8772, took 97.706 s\n"
     ]
    },
    {
     "data": {
      "application/vnd.jupyter.widget-view+json": {
       "model_id": "",
       "version_major": 2,
       "version_minor": 0
      },
      "text/plain": [
       "HBox(children=(FloatProgress(value=0.0, description='Training', layout=Layout(flex='2'), max=750.0, style=Prog…"
      ]
     },
     "metadata": {},
     "output_type": "display_data"
    },
    {
     "name": "stdout",
     "output_type": "stream",
     "text": [
      "Epoch 91: train=3.69322, val=5.32434, took 98.71 s\n"
     ]
    },
    {
     "data": {
      "application/vnd.jupyter.widget-view+json": {
       "model_id": "",
       "version_major": 2,
       "version_minor": 0
      },
      "text/plain": [
       "HBox(children=(FloatProgress(value=0.0, description='Training', layout=Layout(flex='2'), max=750.0, style=Prog…"
      ]
     },
     "metadata": {},
     "output_type": "display_data"
    },
    {
     "name": "stdout",
     "output_type": "stream",
     "text": [
      "Epoch 92: train=3.83032, val=4.87954, took 98.219 s\n"
     ]
    },
    {
     "data": {
      "application/vnd.jupyter.widget-view+json": {
       "model_id": "",
       "version_major": 2,
       "version_minor": 0
      },
      "text/plain": [
       "HBox(children=(FloatProgress(value=0.0, description='Training', layout=Layout(flex='2'), max=750.0, style=Prog…"
      ]
     },
     "metadata": {},
     "output_type": "display_data"
    },
    {
     "name": "stdout",
     "output_type": "stream",
     "text": [
      "Epoch 93: train=3.8761, val=4.85267, took 97.636 s\n"
     ]
    },
    {
     "data": {
      "application/vnd.jupyter.widget-view+json": {
       "model_id": "",
       "version_major": 2,
       "version_minor": 0
      },
      "text/plain": [
       "HBox(children=(FloatProgress(value=0.0, description='Training', layout=Layout(flex='2'), max=750.0, style=Prog…"
      ]
     },
     "metadata": {},
     "output_type": "display_data"
    },
    {
     "name": "stdout",
     "output_type": "stream",
     "text": [
      "Epoch 94: train=3.74786, val=4.78947, took 97.518 s\n"
     ]
    },
    {
     "data": {
      "application/vnd.jupyter.widget-view+json": {
       "model_id": "",
       "version_major": 2,
       "version_minor": 0
      },
      "text/plain": [
       "HBox(children=(FloatProgress(value=0.0, description='Training', layout=Layout(flex='2'), max=750.0, style=Prog…"
      ]
     },
     "metadata": {},
     "output_type": "display_data"
    },
    {
     "name": "stdout",
     "output_type": "stream",
     "text": [
      "Epoch 95: train=3.54582, val=4.88269, took 97.547 s\n"
     ]
    },
    {
     "data": {
      "application/vnd.jupyter.widget-view+json": {
       "model_id": "",
       "version_major": 2,
       "version_minor": 0
      },
      "text/plain": [
       "HBox(children=(FloatProgress(value=0.0, description='Training', layout=Layout(flex='2'), max=750.0, style=Prog…"
      ]
     },
     "metadata": {},
     "output_type": "display_data"
    },
    {
     "name": "stdout",
     "output_type": "stream",
     "text": [
      "Epoch 96: train=3.55364, val=4.88058, took 97.564 s\n"
     ]
    },
    {
     "data": {
      "application/vnd.jupyter.widget-view+json": {
       "model_id": "",
       "version_major": 2,
       "version_minor": 0
      },
      "text/plain": [
       "HBox(children=(FloatProgress(value=0.0, description='Training', layout=Layout(flex='2'), max=750.0, style=Prog…"
      ]
     },
     "metadata": {},
     "output_type": "display_data"
    },
    {
     "name": "stdout",
     "output_type": "stream",
     "text": [
      "Epoch 97: train=3.53306, val=5.07715, took 97.568 s\n"
     ]
    },
    {
     "data": {
      "application/vnd.jupyter.widget-view+json": {
       "model_id": "",
       "version_major": 2,
       "version_minor": 0
      },
      "text/plain": [
       "HBox(children=(FloatProgress(value=0.0, description='Training', layout=Layout(flex='2'), max=750.0, style=Prog…"
      ]
     },
     "metadata": {},
     "output_type": "display_data"
    },
    {
     "name": "stdout",
     "output_type": "stream",
     "text": [
      "Epoch 98: train=3.48785, val=4.9159, took 97.632 s\n"
     ]
    },
    {
     "data": {
      "application/vnd.jupyter.widget-view+json": {
       "model_id": "",
       "version_major": 2,
       "version_minor": 0
      },
      "text/plain": [
       "HBox(children=(FloatProgress(value=0.0, description='Training', layout=Layout(flex='2'), max=750.0, style=Prog…"
      ]
     },
     "metadata": {},
     "output_type": "display_data"
    },
    {
     "name": "stdout",
     "output_type": "stream",
     "text": [
      "Epoch 99: train=3.6351, val=4.96276, took 97.9 s\n"
     ]
    },
    {
     "data": {
      "application/vnd.jupyter.widget-view+json": {
       "model_id": "",
       "version_major": 2,
       "version_minor": 0
      },
      "text/plain": [
       "HBox(children=(FloatProgress(value=0.0, description='Training', layout=Layout(flex='2'), max=750.0, style=Prog…"
      ]
     },
     "metadata": {},
     "output_type": "display_data"
    },
    {
     "name": "stdout",
     "output_type": "stream",
     "text": [
      "Epoch 100: train=3.75154, val=5.31298, took 97.728 s\n"
     ]
    },
    {
     "data": {
      "application/vnd.jupyter.widget-view+json": {
       "model_id": "",
       "version_major": 2,
       "version_minor": 0
      },
      "text/plain": [
       "HBox(children=(FloatProgress(value=0.0, description='Training', layout=Layout(flex='2'), max=750.0, style=Prog…"
      ]
     },
     "metadata": {},
     "output_type": "display_data"
    },
    {
     "name": "stdout",
     "output_type": "stream",
     "text": [
      "Epoch 101: train=3.79719, val=5.00415, took 97.716 s\n"
     ]
    },
    {
     "data": {
      "application/vnd.jupyter.widget-view+json": {
       "model_id": "",
       "version_major": 2,
       "version_minor": 0
      },
      "text/plain": [
       "HBox(children=(FloatProgress(value=0.0, description='Training', layout=Layout(flex='2'), max=750.0, style=Prog…"
      ]
     },
     "metadata": {},
     "output_type": "display_data"
    },
    {
     "name": "stdout",
     "output_type": "stream",
     "text": [
      "Epoch 102: train=3.57801, val=5.0834, took 97.366 s\n"
     ]
    },
    {
     "data": {
      "application/vnd.jupyter.widget-view+json": {
       "model_id": "",
       "version_major": 2,
       "version_minor": 0
      },
      "text/plain": [
       "HBox(children=(FloatProgress(value=0.0, description='Training', layout=Layout(flex='2'), max=750.0, style=Prog…"
      ]
     },
     "metadata": {},
     "output_type": "display_data"
    },
    {
     "name": "stdout",
     "output_type": "stream",
     "text": [
      "Epoch 103: train=3.35487, val=4.93783, took 97.152 s\n"
     ]
    },
    {
     "data": {
      "application/vnd.jupyter.widget-view+json": {
       "model_id": "",
       "version_major": 2,
       "version_minor": 0
      },
      "text/plain": [
       "HBox(children=(FloatProgress(value=0.0, description='Training', layout=Layout(flex='2'), max=750.0, style=Prog…"
      ]
     },
     "metadata": {},
     "output_type": "display_data"
    },
    {
     "name": "stdout",
     "output_type": "stream",
     "text": [
      "Epoch 104: train=3.40212, val=5.01043, took 97.656 s\n"
     ]
    },
    {
     "data": {
      "application/vnd.jupyter.widget-view+json": {
       "model_id": "",
       "version_major": 2,
       "version_minor": 0
      },
      "text/plain": [
       "HBox(children=(FloatProgress(value=0.0, description='Training', layout=Layout(flex='2'), max=750.0, style=Prog…"
      ]
     },
     "metadata": {},
     "output_type": "display_data"
    },
    {
     "name": "stdout",
     "output_type": "stream",
     "text": [
      "Epoch 105: train=3.45858, val=5.15008, took 97.592 s\n"
     ]
    },
    {
     "data": {
      "application/vnd.jupyter.widget-view+json": {
       "model_id": "",
       "version_major": 2,
       "version_minor": 0
      },
      "text/plain": [
       "HBox(children=(FloatProgress(value=0.0, description='Training', layout=Layout(flex='2'), max=750.0, style=Prog…"
      ]
     },
     "metadata": {},
     "output_type": "display_data"
    },
    {
     "name": "stdout",
     "output_type": "stream",
     "text": [
      "Epoch 106: train=3.5678, val=4.89645, took 97.513 s\n"
     ]
    },
    {
     "data": {
      "application/vnd.jupyter.widget-view+json": {
       "model_id": "",
       "version_major": 2,
       "version_minor": 0
      },
      "text/plain": [
       "HBox(children=(FloatProgress(value=0.0, description='Training', layout=Layout(flex='2'), max=750.0, style=Prog…"
      ]
     },
     "metadata": {},
     "output_type": "display_data"
    },
    {
     "name": "stdout",
     "output_type": "stream",
     "text": [
      "Epoch 107: train=3.47212, val=5.07794, took 97.73 s\n"
     ]
    },
    {
     "data": {
      "application/vnd.jupyter.widget-view+json": {
       "model_id": "",
       "version_major": 2,
       "version_minor": 0
      },
      "text/plain": [
       "HBox(children=(FloatProgress(value=0.0, description='Training', layout=Layout(flex='2'), max=750.0, style=Prog…"
      ]
     },
     "metadata": {},
     "output_type": "display_data"
    },
    {
     "name": "stdout",
     "output_type": "stream",
     "text": [
      "Epoch 108: train=3.35428, val=5.53371, took 97.856 s\n"
     ]
    },
    {
     "data": {
      "application/vnd.jupyter.widget-view+json": {
       "model_id": "",
       "version_major": 2,
       "version_minor": 0
      },
      "text/plain": [
       "HBox(children=(FloatProgress(value=0.0, description='Training', layout=Layout(flex='2'), max=750.0, style=Prog…"
      ]
     },
     "metadata": {},
     "output_type": "display_data"
    },
    {
     "name": "stdout",
     "output_type": "stream",
     "text": [
      "Epoch 109: train=3.54847, val=5.44249, took 97.625 s\n"
     ]
    },
    {
     "data": {
      "application/vnd.jupyter.widget-view+json": {
       "model_id": "",
       "version_major": 2,
       "version_minor": 0
      },
      "text/plain": [
       "HBox(children=(FloatProgress(value=0.0, description='Training', layout=Layout(flex='2'), max=750.0, style=Prog…"
      ]
     },
     "metadata": {},
     "output_type": "display_data"
    },
    {
     "name": "stdout",
     "output_type": "stream",
     "text": [
      "Epoch 110: train=3.63277, val=5.12544, took 97.667 s\n"
     ]
    },
    {
     "data": {
      "application/vnd.jupyter.widget-view+json": {
       "model_id": "",
       "version_major": 2,
       "version_minor": 0
      },
      "text/plain": [
       "HBox(children=(FloatProgress(value=0.0, description='Training', layout=Layout(flex='2'), max=750.0, style=Prog…"
      ]
     },
     "metadata": {},
     "output_type": "display_data"
    },
    {
     "name": "stdout",
     "output_type": "stream",
     "text": [
      "Epoch 111: train=3.87059, val=6.54447, took 98.48 s\n"
     ]
    },
    {
     "data": {
      "application/vnd.jupyter.widget-view+json": {
       "model_id": "",
       "version_major": 2,
       "version_minor": 0
      },
      "text/plain": [
       "HBox(children=(FloatProgress(value=0.0, description='Training', layout=Layout(flex='2'), max=750.0, style=Prog…"
      ]
     },
     "metadata": {},
     "output_type": "display_data"
    },
    {
     "name": "stdout",
     "output_type": "stream",
     "text": [
      "Epoch 112: train=3.71813, val=5.05549, took 98.923 s\n"
     ]
    },
    {
     "data": {
      "application/vnd.jupyter.widget-view+json": {
       "model_id": "",
       "version_major": 2,
       "version_minor": 0
      },
      "text/plain": [
       "HBox(children=(FloatProgress(value=0.0, description='Training', layout=Layout(flex='2'), max=750.0, style=Prog…"
      ]
     },
     "metadata": {},
     "output_type": "display_data"
    },
    {
     "name": "stdout",
     "output_type": "stream",
     "text": [
      "Epoch 113: train=3.65228, val=6.28235, took 98.929 s\n"
     ]
    },
    {
     "data": {
      "application/vnd.jupyter.widget-view+json": {
       "model_id": "",
       "version_major": 2,
       "version_minor": 0
      },
      "text/plain": [
       "HBox(children=(FloatProgress(value=0.0, description='Training', layout=Layout(flex='2'), max=750.0, style=Prog…"
      ]
     },
     "metadata": {},
     "output_type": "display_data"
    },
    {
     "name": "stdout",
     "output_type": "stream",
     "text": [
      "Epoch 114: train=3.34635, val=6.13257, took 98.923 s\n"
     ]
    },
    {
     "data": {
      "application/vnd.jupyter.widget-view+json": {
       "model_id": "",
       "version_major": 2,
       "version_minor": 0
      },
      "text/plain": [
       "HBox(children=(FloatProgress(value=0.0, description='Training', layout=Layout(flex='2'), max=750.0, style=Prog…"
      ]
     },
     "metadata": {},
     "output_type": "display_data"
    },
    {
     "name": "stdout",
     "output_type": "stream",
     "text": [
      "Epoch 115: train=3.36836, val=5.21075, took 98.917 s\n"
     ]
    },
    {
     "data": {
      "application/vnd.jupyter.widget-view+json": {
       "model_id": "",
       "version_major": 2,
       "version_minor": 0
      },
      "text/plain": [
       "HBox(children=(FloatProgress(value=0.0, description='Training', layout=Layout(flex='2'), max=750.0, style=Prog…"
      ]
     },
     "metadata": {},
     "output_type": "display_data"
    },
    {
     "name": "stdout",
     "output_type": "stream",
     "text": [
      "Epoch 116: train=3.26659, val=5.59058, took 98.923 s\n"
     ]
    },
    {
     "data": {
      "application/vnd.jupyter.widget-view+json": {
       "model_id": "",
       "version_major": 2,
       "version_minor": 0
      },
      "text/plain": [
       "HBox(children=(FloatProgress(value=0.0, description='Training', layout=Layout(flex='2'), max=750.0, style=Prog…"
      ]
     },
     "metadata": {},
     "output_type": "display_data"
    },
    {
     "name": "stdout",
     "output_type": "stream",
     "text": [
      "Epoch 117: train=3.38376, val=4.94248, took 98.292 s\n"
     ]
    },
    {
     "data": {
      "application/vnd.jupyter.widget-view+json": {
       "model_id": "",
       "version_major": 2,
       "version_minor": 0
      },
      "text/plain": [
       "HBox(children=(FloatProgress(value=0.0, description='Training', layout=Layout(flex='2'), max=750.0, style=Prog…"
      ]
     },
     "metadata": {},
     "output_type": "display_data"
    },
    {
     "name": "stdout",
     "output_type": "stream",
     "text": [
      "Epoch 118: train=3.34029, val=6.07848, took 97.651 s\n"
     ]
    },
    {
     "data": {
      "application/vnd.jupyter.widget-view+json": {
       "model_id": "",
       "version_major": 2,
       "version_minor": 0
      },
      "text/plain": [
       "HBox(children=(FloatProgress(value=0.0, description='Training', layout=Layout(flex='2'), max=750.0, style=Prog…"
      ]
     },
     "metadata": {},
     "output_type": "display_data"
    },
    {
     "name": "stdout",
     "output_type": "stream",
     "text": [
      "Epoch 119: train=3.30389, val=6.3213, took 97.486 s\n"
     ]
    },
    {
     "data": {
      "application/vnd.jupyter.widget-view+json": {
       "model_id": "",
       "version_major": 2,
       "version_minor": 0
      },
      "text/plain": [
       "HBox(children=(FloatProgress(value=0.0, description='Training', layout=Layout(flex='2'), max=750.0, style=Prog…"
      ]
     },
     "metadata": {},
     "output_type": "display_data"
    },
    {
     "name": "stdout",
     "output_type": "stream",
     "text": [
      "Epoch 120: train=3.45385, val=5.50572, took 97.501 s\n"
     ]
    },
    {
     "data": {
      "application/vnd.jupyter.widget-view+json": {
       "model_id": "",
       "version_major": 2,
       "version_minor": 0
      },
      "text/plain": [
       "HBox(children=(FloatProgress(value=0.0, description='Training', layout=Layout(flex='2'), max=750.0, style=Prog…"
      ]
     },
     "metadata": {},
     "output_type": "display_data"
    },
    {
     "name": "stdout",
     "output_type": "stream",
     "text": [
      "Epoch 121: train=3.57004, val=6.07807, took 97.543 s\n"
     ]
    },
    {
     "data": {
      "application/vnd.jupyter.widget-view+json": {
       "model_id": "",
       "version_major": 2,
       "version_minor": 0
      },
      "text/plain": [
       "HBox(children=(FloatProgress(value=0.0, description='Training', layout=Layout(flex='2'), max=750.0, style=Prog…"
      ]
     },
     "metadata": {},
     "output_type": "display_data"
    },
    {
     "name": "stdout",
     "output_type": "stream",
     "text": [
      "Epoch 122: train=3.62287, val=6.06904, took 97.579 s\n"
     ]
    },
    {
     "data": {
      "application/vnd.jupyter.widget-view+json": {
       "model_id": "",
       "version_major": 2,
       "version_minor": 0
      },
      "text/plain": [
       "HBox(children=(FloatProgress(value=0.0, description='Training', layout=Layout(flex='2'), max=750.0, style=Prog…"
      ]
     },
     "metadata": {},
     "output_type": "display_data"
    },
    {
     "name": "stdout",
     "output_type": "stream",
     "text": [
      "Epoch 123: train=3.45975, val=5.57388, took 97.447 s\n"
     ]
    },
    {
     "data": {
      "application/vnd.jupyter.widget-view+json": {
       "model_id": "",
       "version_major": 2,
       "version_minor": 0
      },
      "text/plain": [
       "HBox(children=(FloatProgress(value=0.0, description='Training', layout=Layout(flex='2'), max=750.0, style=Prog…"
      ]
     },
     "metadata": {},
     "output_type": "display_data"
    },
    {
     "name": "stdout",
     "output_type": "stream",
     "text": [
      "Epoch 124: train=3.55407, val=5.51973, took 97.386 s\n"
     ]
    },
    {
     "data": {
      "application/vnd.jupyter.widget-view+json": {
       "model_id": "",
       "version_major": 2,
       "version_minor": 0
      },
      "text/plain": [
       "HBox(children=(FloatProgress(value=0.0, description='Training', layout=Layout(flex='2'), max=750.0, style=Prog…"
      ]
     },
     "metadata": {},
     "output_type": "display_data"
    },
    {
     "name": "stdout",
     "output_type": "stream",
     "text": [
      "Epoch 125: train=3.26438, val=4.78645, took 97.523 s\n"
     ]
    },
    {
     "data": {
      "application/vnd.jupyter.widget-view+json": {
       "model_id": "",
       "version_major": 2,
       "version_minor": 0
      },
      "text/plain": [
       "HBox(children=(FloatProgress(value=0.0, description='Training', layout=Layout(flex='2'), max=750.0, style=Prog…"
      ]
     },
     "metadata": {},
     "output_type": "display_data"
    },
    {
     "name": "stdout",
     "output_type": "stream",
     "text": [
      "Epoch 126: train=3.16773, val=4.74081, took 97.475 s\n"
     ]
    },
    {
     "data": {
      "application/vnd.jupyter.widget-view+json": {
       "model_id": "",
       "version_major": 2,
       "version_minor": 0
      },
      "text/plain": [
       "HBox(children=(FloatProgress(value=0.0, description='Training', layout=Layout(flex='2'), max=750.0, style=Prog…"
      ]
     },
     "metadata": {},
     "output_type": "display_data"
    },
    {
     "name": "stdout",
     "output_type": "stream",
     "text": [
      "Epoch 127: train=3.15062, val=4.75307, took 97.602 s\n"
     ]
    },
    {
     "data": {
      "application/vnd.jupyter.widget-view+json": {
       "model_id": "",
       "version_major": 2,
       "version_minor": 0
      },
      "text/plain": [
       "HBox(children=(FloatProgress(value=0.0, description='Training', layout=Layout(flex='2'), max=750.0, style=Prog…"
      ]
     },
     "metadata": {},
     "output_type": "display_data"
    },
    {
     "name": "stdout",
     "output_type": "stream",
     "text": [
      "Epoch 128: train=3.3111, val=5.91098, took 97.563 s\n"
     ]
    },
    {
     "data": {
      "application/vnd.jupyter.widget-view+json": {
       "model_id": "",
       "version_major": 2,
       "version_minor": 0
      },
      "text/plain": [
       "HBox(children=(FloatProgress(value=0.0, description='Training', layout=Layout(flex='2'), max=750.0, style=Prog…"
      ]
     },
     "metadata": {},
     "output_type": "display_data"
    },
    {
     "name": "stdout",
     "output_type": "stream",
     "text": [
      "Epoch 129: train=3.32609, val=5.20663, took 97.482 s\n"
     ]
    },
    {
     "data": {
      "application/vnd.jupyter.widget-view+json": {
       "model_id": "",
       "version_major": 2,
       "version_minor": 0
      },
      "text/plain": [
       "HBox(children=(FloatProgress(value=0.0, description='Training', layout=Layout(flex='2'), max=750.0, style=Prog…"
      ]
     },
     "metadata": {},
     "output_type": "display_data"
    },
    {
     "name": "stdout",
     "output_type": "stream",
     "text": [
      "Epoch 130: train=3.40367, val=4.92911, took 97.525 s\n"
     ]
    },
    {
     "data": {
      "application/vnd.jupyter.widget-view+json": {
       "model_id": "",
       "version_major": 2,
       "version_minor": 0
      },
      "text/plain": [
       "HBox(children=(FloatProgress(value=0.0, description='Training', layout=Layout(flex='2'), max=750.0, style=Prog…"
      ]
     },
     "metadata": {},
     "output_type": "display_data"
    },
    {
     "name": "stdout",
     "output_type": "stream",
     "text": [
      "Epoch 131: train=3.27774, val=4.95888, took 98.358 s\n"
     ]
    },
    {
     "data": {
      "application/vnd.jupyter.widget-view+json": {
       "model_id": "",
       "version_major": 2,
       "version_minor": 0
      },
      "text/plain": [
       "HBox(children=(FloatProgress(value=0.0, description='Training', layout=Layout(flex='2'), max=750.0, style=Prog…"
      ]
     },
     "metadata": {},
     "output_type": "display_data"
    },
    {
     "name": "stdout",
     "output_type": "stream",
     "text": [
      "Epoch 132: train=3.67673, val=5.15078, took 98.166 s\n"
     ]
    },
    {
     "data": {
      "application/vnd.jupyter.widget-view+json": {
       "model_id": "",
       "version_major": 2,
       "version_minor": 0
      },
      "text/plain": [
       "HBox(children=(FloatProgress(value=0.0, description='Training', layout=Layout(flex='2'), max=750.0, style=Prog…"
      ]
     },
     "metadata": {},
     "output_type": "display_data"
    },
    {
     "name": "stdout",
     "output_type": "stream",
     "text": [
      "Epoch 133: train=3.57316, val=6.60045, took 97.416 s\n"
     ]
    },
    {
     "data": {
      "application/vnd.jupyter.widget-view+json": {
       "model_id": "",
       "version_major": 2,
       "version_minor": 0
      },
      "text/plain": [
       "HBox(children=(FloatProgress(value=0.0, description='Training', layout=Layout(flex='2'), max=750.0, style=Prog…"
      ]
     },
     "metadata": {},
     "output_type": "display_data"
    },
    {
     "name": "stdout",
     "output_type": "stream",
     "text": [
      "Epoch 134: train=3.50004, val=5.9352, took 97.512 s\n"
     ]
    },
    {
     "data": {
      "application/vnd.jupyter.widget-view+json": {
       "model_id": "",
       "version_major": 2,
       "version_minor": 0
      },
      "text/plain": [
       "HBox(children=(FloatProgress(value=0.0, description='Training', layout=Layout(flex='2'), max=750.0, style=Prog…"
      ]
     },
     "metadata": {},
     "output_type": "display_data"
    },
    {
     "name": "stdout",
     "output_type": "stream",
     "text": [
      "Epoch 135: train=3.42018, val=5.13535, took 97.625 s\n"
     ]
    },
    {
     "data": {
      "application/vnd.jupyter.widget-view+json": {
       "model_id": "",
       "version_major": 2,
       "version_minor": 0
      },
      "text/plain": [
       "HBox(children=(FloatProgress(value=0.0, description='Training', layout=Layout(flex='2'), max=750.0, style=Prog…"
      ]
     },
     "metadata": {},
     "output_type": "display_data"
    },
    {
     "name": "stdout",
     "output_type": "stream",
     "text": [
      "Epoch 136: train=3.18201, val=4.96909, took 97.492 s\n"
     ]
    },
    {
     "data": {
      "application/vnd.jupyter.widget-view+json": {
       "model_id": "",
       "version_major": 2,
       "version_minor": 0
      },
      "text/plain": [
       "HBox(children=(FloatProgress(value=0.0, description='Training', layout=Layout(flex='2'), max=750.0, style=Prog…"
      ]
     },
     "metadata": {},
     "output_type": "display_data"
    },
    {
     "name": "stdout",
     "output_type": "stream",
     "text": [
      "Epoch 137: train=3.06397, val=4.6698, took 97.652 s\n"
     ]
    },
    {
     "data": {
      "application/vnd.jupyter.widget-view+json": {
       "model_id": "",
       "version_major": 2,
       "version_minor": 0
      },
      "text/plain": [
       "HBox(children=(FloatProgress(value=0.0, description='Training', layout=Layout(flex='2'), max=750.0, style=Prog…"
      ]
     },
     "metadata": {},
     "output_type": "display_data"
    },
    {
     "name": "stdout",
     "output_type": "stream",
     "text": [
      "Epoch 138: train=3.09618, val=4.6185, took 97.591 s\n"
     ]
    },
    {
     "data": {
      "application/vnd.jupyter.widget-view+json": {
       "model_id": "",
       "version_major": 2,
       "version_minor": 0
      },
      "text/plain": [
       "HBox(children=(FloatProgress(value=0.0, description='Training', layout=Layout(flex='2'), max=750.0, style=Prog…"
      ]
     },
     "metadata": {},
     "output_type": "display_data"
    },
    {
     "name": "stdout",
     "output_type": "stream",
     "text": [
      "Epoch 139: train=3.0698, val=4.6366, took 98.684 s\n"
     ]
    },
    {
     "data": {
      "application/vnd.jupyter.widget-view+json": {
       "model_id": "",
       "version_major": 2,
       "version_minor": 0
      },
      "text/plain": [
       "HBox(children=(FloatProgress(value=0.0, description='Training', layout=Layout(flex='2'), max=750.0, style=Prog…"
      ]
     },
     "metadata": {},
     "output_type": "display_data"
    },
    {
     "name": "stdout",
     "output_type": "stream",
     "text": [
      "Epoch 140: train=3.25402, val=5.20908, took 98.068 s\n"
     ]
    },
    {
     "data": {
      "application/vnd.jupyter.widget-view+json": {
       "model_id": "",
       "version_major": 2,
       "version_minor": 0
      },
      "text/plain": [
       "HBox(children=(FloatProgress(value=0.0, description='Training', layout=Layout(flex='2'), max=750.0, style=Prog…"
      ]
     },
     "metadata": {},
     "output_type": "display_data"
    },
    {
     "name": "stdout",
     "output_type": "stream",
     "text": [
      "Epoch 141: train=3.22129, val=4.87729, took 97.719 s\n"
     ]
    },
    {
     "data": {
      "application/vnd.jupyter.widget-view+json": {
       "model_id": "",
       "version_major": 2,
       "version_minor": 0
      },
      "text/plain": [
       "HBox(children=(FloatProgress(value=0.0, description='Training', layout=Layout(flex='2'), max=750.0, style=Prog…"
      ]
     },
     "metadata": {},
     "output_type": "display_data"
    },
    {
     "name": "stdout",
     "output_type": "stream",
     "text": [
      "Epoch 142: train=3.40598, val=5.38274, took 97.406 s\n"
     ]
    },
    {
     "data": {
      "application/vnd.jupyter.widget-view+json": {
       "model_id": "",
       "version_major": 2,
       "version_minor": 0
      },
      "text/plain": [
       "HBox(children=(FloatProgress(value=0.0, description='Training', layout=Layout(flex='2'), max=750.0, style=Prog…"
      ]
     },
     "metadata": {},
     "output_type": "display_data"
    },
    {
     "name": "stdout",
     "output_type": "stream",
     "text": [
      "Epoch 143: train=3.26717, val=5.11064, took 97.392 s\n"
     ]
    },
    {
     "data": {
      "application/vnd.jupyter.widget-view+json": {
       "model_id": "",
       "version_major": 2,
       "version_minor": 0
      },
      "text/plain": [
       "HBox(children=(FloatProgress(value=0.0, description='Training', layout=Layout(flex='2'), max=750.0, style=Prog…"
      ]
     },
     "metadata": {},
     "output_type": "display_data"
    },
    {
     "name": "stdout",
     "output_type": "stream",
     "text": [
      "Epoch 144: train=3.15557, val=4.95061, took 97.503 s\n"
     ]
    },
    {
     "data": {
      "application/vnd.jupyter.widget-view+json": {
       "model_id": "",
       "version_major": 2,
       "version_minor": 0
      },
      "text/plain": [
       "HBox(children=(FloatProgress(value=0.0, description='Training', layout=Layout(flex='2'), max=750.0, style=Prog…"
      ]
     },
     "metadata": {},
     "output_type": "display_data"
    },
    {
     "name": "stdout",
     "output_type": "stream",
     "text": [
      "Epoch 145: train=3.20023, val=5.51335, took 97.479 s\n"
     ]
    },
    {
     "data": {
      "application/vnd.jupyter.widget-view+json": {
       "model_id": "",
       "version_major": 2,
       "version_minor": 0
      },
      "text/plain": [
       "HBox(children=(FloatProgress(value=0.0, description='Training', layout=Layout(flex='2'), max=750.0, style=Prog…"
      ]
     },
     "metadata": {},
     "output_type": "display_data"
    },
    {
     "name": "stdout",
     "output_type": "stream",
     "text": [
      "Epoch 146: train=3.08023, val=4.71947, took 97.544 s\n"
     ]
    },
    {
     "data": {
      "application/vnd.jupyter.widget-view+json": {
       "model_id": "",
       "version_major": 2,
       "version_minor": 0
      },
      "text/plain": [
       "HBox(children=(FloatProgress(value=0.0, description='Training', layout=Layout(flex='2'), max=750.0, style=Prog…"
      ]
     },
     "metadata": {},
     "output_type": "display_data"
    },
    {
     "name": "stdout",
     "output_type": "stream",
     "text": [
      "Epoch 147: train=3.33994, val=4.90069, took 97.484 s\n"
     ]
    },
    {
     "data": {
      "application/vnd.jupyter.widget-view+json": {
       "model_id": "",
       "version_major": 2,
       "version_minor": 0
      },
      "text/plain": [
       "HBox(children=(FloatProgress(value=0.0, description='Training', layout=Layout(flex='2'), max=750.0, style=Prog…"
      ]
     },
     "metadata": {},
     "output_type": "display_data"
    },
    {
     "name": "stdout",
     "output_type": "stream",
     "text": [
      "Epoch 148: train=3.40925, val=5.11587, took 97.556 s\n"
     ]
    },
    {
     "data": {
      "application/vnd.jupyter.widget-view+json": {
       "model_id": "",
       "version_major": 2,
       "version_minor": 0
      },
      "text/plain": [
       "HBox(children=(FloatProgress(value=0.0, description='Training', layout=Layout(flex='2'), max=750.0, style=Prog…"
      ]
     },
     "metadata": {},
     "output_type": "display_data"
    },
    {
     "name": "stdout",
     "output_type": "stream",
     "text": [
      "Epoch 149: train=3.47487, val=6.78263, took 97.546 s\n"
     ]
    },
    {
     "data": {
      "application/vnd.jupyter.widget-view+json": {
       "model_id": "",
       "version_major": 2,
       "version_minor": 0
      },
      "text/plain": [
       "HBox(children=(FloatProgress(value=0.0, description='Training', layout=Layout(flex='2'), max=750.0, style=Prog…"
      ]
     },
     "metadata": {},
     "output_type": "display_data"
    },
    {
     "name": "stdout",
     "output_type": "stream",
     "text": [
      "Epoch 150: train=3.38732, val=5.15775, took 97.689 s\n"
     ]
    },
    {
     "data": {
      "application/vnd.jupyter.widget-view+json": {
       "model_id": "",
       "version_major": 2,
       "version_minor": 0
      },
      "text/plain": [
       "HBox(children=(FloatProgress(value=0.0, description='Training', layout=Layout(flex='2'), max=750.0, style=Prog…"
      ]
     },
     "metadata": {},
     "output_type": "display_data"
    },
    {
     "name": "stdout",
     "output_type": "stream",
     "text": [
      "Epoch 151: train=3.53508, val=4.91239, took 97.599 s\n"
     ]
    },
    {
     "data": {
      "application/vnd.jupyter.widget-view+json": {
       "model_id": "",
       "version_major": 2,
       "version_minor": 0
      },
      "text/plain": [
       "HBox(children=(FloatProgress(value=0.0, description='Training', layout=Layout(flex='2'), max=750.0, style=Prog…"
      ]
     },
     "metadata": {},
     "output_type": "display_data"
    },
    {
     "name": "stdout",
     "output_type": "stream",
     "text": [
      "Epoch 152: train=3.15081, val=4.75577, took 97.853 s\n"
     ]
    },
    {
     "data": {
      "application/vnd.jupyter.widget-view+json": {
       "model_id": "",
       "version_major": 2,
       "version_minor": 0
      },
      "text/plain": [
       "HBox(children=(FloatProgress(value=0.0, description='Training', layout=Layout(flex='2'), max=750.0, style=Prog…"
      ]
     },
     "metadata": {},
     "output_type": "display_data"
    },
    {
     "name": "stdout",
     "output_type": "stream",
     "text": [
      "Epoch 153: train=2.94853, val=5.0098, took 97.676 s\n"
     ]
    },
    {
     "data": {
      "application/vnd.jupyter.widget-view+json": {
       "model_id": "",
       "version_major": 2,
       "version_minor": 0
      },
      "text/plain": [
       "HBox(children=(FloatProgress(value=0.0, description='Training', layout=Layout(flex='2'), max=750.0, style=Prog…"
      ]
     },
     "metadata": {},
     "output_type": "display_data"
    },
    {
     "name": "stdout",
     "output_type": "stream",
     "text": [
      "Epoch 154: train=2.97688, val=4.62429, took 97.571 s\n"
     ]
    },
    {
     "data": {
      "application/vnd.jupyter.widget-view+json": {
       "model_id": "",
       "version_major": 2,
       "version_minor": 0
      },
      "text/plain": [
       "HBox(children=(FloatProgress(value=0.0, description='Training', layout=Layout(flex='2'), max=750.0, style=Prog…"
      ]
     },
     "metadata": {},
     "output_type": "display_data"
    },
    {
     "name": "stdout",
     "output_type": "stream",
     "text": [
      "Epoch 155: train=2.96948, val=5.39386, took 97.558 s\n"
     ]
    },
    {
     "data": {
      "application/vnd.jupyter.widget-view+json": {
       "model_id": "",
       "version_major": 2,
       "version_minor": 0
      },
      "text/plain": [
       "HBox(children=(FloatProgress(value=0.0, description='Training', layout=Layout(flex='2'), max=750.0, style=Prog…"
      ]
     },
     "metadata": {},
     "output_type": "display_data"
    },
    {
     "name": "stdout",
     "output_type": "stream",
     "text": [
      "Epoch 156: train=3.09407, val=4.74986, took 97.594 s\n"
     ]
    },
    {
     "data": {
      "application/vnd.jupyter.widget-view+json": {
       "model_id": "",
       "version_major": 2,
       "version_minor": 0
      },
      "text/plain": [
       "HBox(children=(FloatProgress(value=0.0, description='Training', layout=Layout(flex='2'), max=750.0, style=Prog…"
      ]
     },
     "metadata": {},
     "output_type": "display_data"
    },
    {
     "name": "stdout",
     "output_type": "stream",
     "text": [
      "Epoch 157: train=3.17346, val=5.46045, took 97.606 s\n"
     ]
    },
    {
     "data": {
      "application/vnd.jupyter.widget-view+json": {
       "model_id": "",
       "version_major": 2,
       "version_minor": 0
      },
      "text/plain": [
       "HBox(children=(FloatProgress(value=0.0, description='Training', layout=Layout(flex='2'), max=750.0, style=Prog…"
      ]
     },
     "metadata": {},
     "output_type": "display_data"
    },
    {
     "name": "stdout",
     "output_type": "stream",
     "text": [
      "Epoch 158: train=3.30103, val=4.75866, took 97.501 s\n"
     ]
    },
    {
     "data": {
      "application/vnd.jupyter.widget-view+json": {
       "model_id": "",
       "version_major": 2,
       "version_minor": 0
      },
      "text/plain": [
       "HBox(children=(FloatProgress(value=0.0, description='Training', layout=Layout(flex='2'), max=750.0, style=Prog…"
      ]
     },
     "metadata": {},
     "output_type": "display_data"
    },
    {
     "name": "stdout",
     "output_type": "stream",
     "text": [
      "Epoch 159: train=3.26269, val=4.74087, took 97.767 s\n"
     ]
    },
    {
     "data": {
      "application/vnd.jupyter.widget-view+json": {
       "model_id": "",
       "version_major": 2,
       "version_minor": 0
      },
      "text/plain": [
       "HBox(children=(FloatProgress(value=0.0, description='Training', layout=Layout(flex='2'), max=750.0, style=Prog…"
      ]
     },
     "metadata": {},
     "output_type": "display_data"
    },
    {
     "name": "stdout",
     "output_type": "stream",
     "text": [
      "Epoch 160: train=3.33134, val=5.61561, took 97.476 s\n"
     ]
    },
    {
     "data": {
      "application/vnd.jupyter.widget-view+json": {
       "model_id": "",
       "version_major": 2,
       "version_minor": 0
      },
      "text/plain": [
       "HBox(children=(FloatProgress(value=0.0, description='Training', layout=Layout(flex='2'), max=750.0, style=Prog…"
      ]
     },
     "metadata": {},
     "output_type": "display_data"
    },
    {
     "name": "stdout",
     "output_type": "stream",
     "text": [
      "Epoch 161: train=3.29519, val=5.66444, took 97.35 s\n"
     ]
    },
    {
     "data": {
      "application/vnd.jupyter.widget-view+json": {
       "model_id": "",
       "version_major": 2,
       "version_minor": 0
      },
      "text/plain": [
       "HBox(children=(FloatProgress(value=0.0, description='Training', layout=Layout(flex='2'), max=750.0, style=Prog…"
      ]
     },
     "metadata": {},
     "output_type": "display_data"
    },
    {
     "name": "stdout",
     "output_type": "stream",
     "text": [
      "Epoch 162: train=3.36234, val=4.88486, took 97.344 s\n"
     ]
    },
    {
     "data": {
      "application/vnd.jupyter.widget-view+json": {
       "model_id": "",
       "version_major": 2,
       "version_minor": 0
      },
      "text/plain": [
       "HBox(children=(FloatProgress(value=0.0, description='Training', layout=Layout(flex='2'), max=750.0, style=Prog…"
      ]
     },
     "metadata": {},
     "output_type": "display_data"
    },
    {
     "name": "stdout",
     "output_type": "stream",
     "text": [
      "Epoch 163: train=3.24267, val=5.63855, took 97.527 s\n"
     ]
    },
    {
     "data": {
      "application/vnd.jupyter.widget-view+json": {
       "model_id": "",
       "version_major": 2,
       "version_minor": 0
      },
      "text/plain": [
       "HBox(children=(FloatProgress(value=0.0, description='Training', layout=Layout(flex='2'), max=750.0, style=Prog…"
      ]
     },
     "metadata": {},
     "output_type": "display_data"
    },
    {
     "name": "stdout",
     "output_type": "stream",
     "text": [
      "Epoch 164: train=3.00813, val=4.69064, took 97.648 s\n"
     ]
    },
    {
     "data": {
      "application/vnd.jupyter.widget-view+json": {
       "model_id": "",
       "version_major": 2,
       "version_minor": 0
      },
      "text/plain": [
       "HBox(children=(FloatProgress(value=0.0, description='Training', layout=Layout(flex='2'), max=750.0, style=Prog…"
      ]
     },
     "metadata": {},
     "output_type": "display_data"
    },
    {
     "name": "stdout",
     "output_type": "stream",
     "text": [
      "Epoch 165: train=2.87442, val=4.70513, took 97.067 s\n"
     ]
    },
    {
     "data": {
      "application/vnd.jupyter.widget-view+json": {
       "model_id": "",
       "version_major": 2,
       "version_minor": 0
      },
      "text/plain": [
       "HBox(children=(FloatProgress(value=0.0, description='Training', layout=Layout(flex='2'), max=750.0, style=Prog…"
      ]
     },
     "metadata": {},
     "output_type": "display_data"
    },
    {
     "name": "stdout",
     "output_type": "stream",
     "text": [
      "Epoch 166: train=2.91277, val=4.62825, took 97.575 s\n"
     ]
    },
    {
     "data": {
      "application/vnd.jupyter.widget-view+json": {
       "model_id": "",
       "version_major": 2,
       "version_minor": 0
      },
      "text/plain": [
       "HBox(children=(FloatProgress(value=0.0, description='Training', layout=Layout(flex='2'), max=750.0, style=Prog…"
      ]
     },
     "metadata": {},
     "output_type": "display_data"
    },
    {
     "name": "stdout",
     "output_type": "stream",
     "text": [
      "Epoch 167: train=2.96224, val=4.7439, took 97.825 s\n"
     ]
    },
    {
     "data": {
      "application/vnd.jupyter.widget-view+json": {
       "model_id": "",
       "version_major": 2,
       "version_minor": 0
      },
      "text/plain": [
       "HBox(children=(FloatProgress(value=0.0, description='Training', layout=Layout(flex='2'), max=750.0, style=Prog…"
      ]
     },
     "metadata": {},
     "output_type": "display_data"
    },
    {
     "name": "stdout",
     "output_type": "stream",
     "text": [
      "Epoch 168: train=2.93266, val=4.66588, took 97.616 s\n"
     ]
    },
    {
     "data": {
      "application/vnd.jupyter.widget-view+json": {
       "model_id": "",
       "version_major": 2,
       "version_minor": 0
      },
      "text/plain": [
       "HBox(children=(FloatProgress(value=0.0, description='Training', layout=Layout(flex='2'), max=750.0, style=Prog…"
      ]
     },
     "metadata": {},
     "output_type": "display_data"
    },
    {
     "name": "stdout",
     "output_type": "stream",
     "text": [
      "Epoch 169: train=3.03942, val=4.6794, took 97.629 s\n"
     ]
    },
    {
     "data": {
      "application/vnd.jupyter.widget-view+json": {
       "model_id": "",
       "version_major": 2,
       "version_minor": 0
      },
      "text/plain": [
       "HBox(children=(FloatProgress(value=0.0, description='Training', layout=Layout(flex='2'), max=750.0, style=Prog…"
      ]
     },
     "metadata": {},
     "output_type": "display_data"
    },
    {
     "name": "stdout",
     "output_type": "stream",
     "text": [
      "Epoch 170: train=3.01363, val=5.6644, took 98.052 s\n"
     ]
    },
    {
     "data": {
      "application/vnd.jupyter.widget-view+json": {
       "model_id": "",
       "version_major": 2,
       "version_minor": 0
      },
      "text/plain": [
       "HBox(children=(FloatProgress(value=0.0, description='Training', layout=Layout(flex='2'), max=750.0, style=Prog…"
      ]
     },
     "metadata": {},
     "output_type": "display_data"
    },
    {
     "name": "stdout",
     "output_type": "stream",
     "text": [
      "Epoch 171: train=2.98813, val=4.8321, took 97.534 s\n"
     ]
    },
    {
     "data": {
      "application/vnd.jupyter.widget-view+json": {
       "model_id": "",
       "version_major": 2,
       "version_minor": 0
      },
      "text/plain": [
       "HBox(children=(FloatProgress(value=0.0, description='Training', layout=Layout(flex='2'), max=750.0, style=Prog…"
      ]
     },
     "metadata": {},
     "output_type": "display_data"
    },
    {
     "name": "stdout",
     "output_type": "stream",
     "text": [
      "Epoch 172: train=3.22557, val=4.98374, took 97.64 s\n"
     ]
    },
    {
     "data": {
      "application/vnd.jupyter.widget-view+json": {
       "model_id": "",
       "version_major": 2,
       "version_minor": 0
      },
      "text/plain": [
       "HBox(children=(FloatProgress(value=0.0, description='Training', layout=Layout(flex='2'), max=750.0, style=Prog…"
      ]
     },
     "metadata": {},
     "output_type": "display_data"
    },
    {
     "name": "stdout",
     "output_type": "stream",
     "text": [
      "Epoch 173: train=3.27845, val=5.45155, took 98.267 s\n"
     ]
    },
    {
     "data": {
      "application/vnd.jupyter.widget-view+json": {
       "model_id": "",
       "version_major": 2,
       "version_minor": 0
      },
      "text/plain": [
       "HBox(children=(FloatProgress(value=0.0, description='Training', layout=Layout(flex='2'), max=750.0, style=Prog…"
      ]
     },
     "metadata": {},
     "output_type": "display_data"
    },
    {
     "name": "stdout",
     "output_type": "stream",
     "text": [
      "Epoch 174: train=3.25951, val=4.98355, took 98.13 s\n"
     ]
    },
    {
     "data": {
      "application/vnd.jupyter.widget-view+json": {
       "model_id": "",
       "version_major": 2,
       "version_minor": 0
      },
      "text/plain": [
       "HBox(children=(FloatProgress(value=0.0, description='Training', layout=Layout(flex='2'), max=750.0, style=Prog…"
      ]
     },
     "metadata": {},
     "output_type": "display_data"
    },
    {
     "name": "stdout",
     "output_type": "stream",
     "text": [
      "Epoch 175: train=3.13871, val=4.99211, took 97.636 s\n"
     ]
    },
    {
     "data": {
      "application/vnd.jupyter.widget-view+json": {
       "model_id": "",
       "version_major": 2,
       "version_minor": 0
      },
      "text/plain": [
       "HBox(children=(FloatProgress(value=0.0, description='Training', layout=Layout(flex='2'), max=750.0, style=Prog…"
      ]
     },
     "metadata": {},
     "output_type": "display_data"
    },
    {
     "name": "stdout",
     "output_type": "stream",
     "text": [
      "Epoch 176: train=3.22532, val=5.70624, took 97.504 s\n"
     ]
    },
    {
     "data": {
      "application/vnd.jupyter.widget-view+json": {
       "model_id": "",
       "version_major": 2,
       "version_minor": 0
      },
      "text/plain": [
       "HBox(children=(FloatProgress(value=0.0, description='Training', layout=Layout(flex='2'), max=750.0, style=Prog…"
      ]
     },
     "metadata": {},
     "output_type": "display_data"
    },
    {
     "name": "stdout",
     "output_type": "stream",
     "text": [
      "Epoch 177: train=3.48107, val=4.95168, took 97.488 s\n"
     ]
    },
    {
     "data": {
      "application/vnd.jupyter.widget-view+json": {
       "model_id": "",
       "version_major": 2,
       "version_minor": 0
      },
      "text/plain": [
       "HBox(children=(FloatProgress(value=0.0, description='Training', layout=Layout(flex='2'), max=750.0, style=Prog…"
      ]
     },
     "metadata": {},
     "output_type": "display_data"
    },
    {
     "name": "stdout",
     "output_type": "stream",
     "text": [
      "Epoch 178: train=3.41441, val=5.54309, took 97.514 s\n"
     ]
    },
    {
     "data": {
      "application/vnd.jupyter.widget-view+json": {
       "model_id": "",
       "version_major": 2,
       "version_minor": 0
      },
      "text/plain": [
       "HBox(children=(FloatProgress(value=0.0, description='Training', layout=Layout(flex='2'), max=750.0, style=Prog…"
      ]
     },
     "metadata": {},
     "output_type": "display_data"
    },
    {
     "name": "stdout",
     "output_type": "stream",
     "text": [
      "Epoch 179: train=3.25582, val=4.82133, took 97.639 s\n"
     ]
    },
    {
     "data": {
      "application/vnd.jupyter.widget-view+json": {
       "model_id": "",
       "version_major": 2,
       "version_minor": 0
      },
      "text/plain": [
       "HBox(children=(FloatProgress(value=0.0, description='Training', layout=Layout(flex='2'), max=750.0, style=Prog…"
      ]
     },
     "metadata": {},
     "output_type": "display_data"
    },
    {
     "name": "stdout",
     "output_type": "stream",
     "text": [
      "Epoch 180: train=3.26885, val=4.84258, took 97.547 s\n"
     ]
    },
    {
     "data": {
      "application/vnd.jupyter.widget-view+json": {
       "model_id": "",
       "version_major": 2,
       "version_minor": 0
      },
      "text/plain": [
       "HBox(children=(FloatProgress(value=0.0, description='Training', layout=Layout(flex='2'), max=750.0, style=Prog…"
      ]
     },
     "metadata": {},
     "output_type": "display_data"
    },
    {
     "name": "stdout",
     "output_type": "stream",
     "text": [
      "Epoch 181: train=3.00619, val=4.82094, took 97.491 s\n"
     ]
    },
    {
     "data": {
      "application/vnd.jupyter.widget-view+json": {
       "model_id": "",
       "version_major": 2,
       "version_minor": 0
      },
      "text/plain": [
       "HBox(children=(FloatProgress(value=0.0, description='Training', layout=Layout(flex='2'), max=750.0, style=Prog…"
      ]
     },
     "metadata": {},
     "output_type": "display_data"
    },
    {
     "name": "stdout",
     "output_type": "stream",
     "text": [
      "Epoch 182: train=2.74247, val=4.6568, took 97.636 s\n"
     ]
    },
    {
     "data": {
      "application/vnd.jupyter.widget-view+json": {
       "model_id": "",
       "version_major": 2,
       "version_minor": 0
      },
      "text/plain": [
       "HBox(children=(FloatProgress(value=0.0, description='Training', layout=Layout(flex='2'), max=750.0, style=Prog…"
      ]
     },
     "metadata": {},
     "output_type": "display_data"
    },
    {
     "name": "stdout",
     "output_type": "stream",
     "text": [
      "Epoch 183: train=2.78608, val=4.69563, took 97.68 s\n"
     ]
    },
    {
     "data": {
      "application/vnd.jupyter.widget-view+json": {
       "model_id": "",
       "version_major": 2,
       "version_minor": 0
      },
      "text/plain": [
       "HBox(children=(FloatProgress(value=0.0, description='Training', layout=Layout(flex='2'), max=750.0, style=Prog…"
      ]
     },
     "metadata": {},
     "output_type": "display_data"
    },
    {
     "name": "stdout",
     "output_type": "stream",
     "text": [
      "Epoch 184: train=2.86653, val=4.97166, took 97.919 s\n"
     ]
    },
    {
     "data": {
      "application/vnd.jupyter.widget-view+json": {
       "model_id": "",
       "version_major": 2,
       "version_minor": 0
      },
      "text/plain": [
       "HBox(children=(FloatProgress(value=0.0, description='Training', layout=Layout(flex='2'), max=750.0, style=Prog…"
      ]
     },
     "metadata": {},
     "output_type": "display_data"
    },
    {
     "name": "stdout",
     "output_type": "stream",
     "text": [
      "Epoch 185: train=2.87971, val=4.73712, took 97.829 s\n"
     ]
    },
    {
     "data": {
      "application/vnd.jupyter.widget-view+json": {
       "model_id": "",
       "version_major": 2,
       "version_minor": 0
      },
      "text/plain": [
       "HBox(children=(FloatProgress(value=0.0, description='Training', layout=Layout(flex='2'), max=750.0, style=Prog…"
      ]
     },
     "metadata": {},
     "output_type": "display_data"
    },
    {
     "name": "stdout",
     "output_type": "stream",
     "text": [
      "Epoch 186: train=2.85138, val=4.63391, took 97.494 s\n"
     ]
    },
    {
     "data": {
      "application/vnd.jupyter.widget-view+json": {
       "model_id": "",
       "version_major": 2,
       "version_minor": 0
      },
      "text/plain": [
       "HBox(children=(FloatProgress(value=0.0, description='Training', layout=Layout(flex='2'), max=750.0, style=Prog…"
      ]
     },
     "metadata": {},
     "output_type": "display_data"
    },
    {
     "name": "stdout",
     "output_type": "stream",
     "text": [
      "Epoch 187: train=2.9638, val=4.67931, took 97.63 s\n"
     ]
    },
    {
     "data": {
      "application/vnd.jupyter.widget-view+json": {
       "model_id": "",
       "version_major": 2,
       "version_minor": 0
      },
      "text/plain": [
       "HBox(children=(FloatProgress(value=0.0, description='Training', layout=Layout(flex='2'), max=750.0, style=Prog…"
      ]
     },
     "metadata": {},
     "output_type": "display_data"
    },
    {
     "name": "stdout",
     "output_type": "stream",
     "text": [
      "Epoch 188: train=2.93403, val=4.66405, took 97.526 s\n"
     ]
    },
    {
     "data": {
      "application/vnd.jupyter.widget-view+json": {
       "model_id": "",
       "version_major": 2,
       "version_minor": 0
      },
      "text/plain": [
       "HBox(children=(FloatProgress(value=0.0, description='Training', layout=Layout(flex='2'), max=750.0, style=Prog…"
      ]
     },
     "metadata": {},
     "output_type": "display_data"
    },
    {
     "name": "stdout",
     "output_type": "stream",
     "text": [
      "Epoch 189: train=2.78118, val=4.77472, took 97.614 s\n"
     ]
    },
    {
     "data": {
      "application/vnd.jupyter.widget-view+json": {
       "model_id": "",
       "version_major": 2,
       "version_minor": 0
      },
      "text/plain": [
       "HBox(children=(FloatProgress(value=0.0, description='Training', layout=Layout(flex='2'), max=750.0, style=Prog…"
      ]
     },
     "metadata": {},
     "output_type": "display_data"
    },
    {
     "name": "stdout",
     "output_type": "stream",
     "text": [
      "Epoch 190: train=3.16186, val=4.84977, took 97.674 s\n"
     ]
    },
    {
     "data": {
      "application/vnd.jupyter.widget-view+json": {
       "model_id": "",
       "version_major": 2,
       "version_minor": 0
      },
      "text/plain": [
       "HBox(children=(FloatProgress(value=0.0, description='Training', layout=Layout(flex='2'), max=750.0, style=Prog…"
      ]
     },
     "metadata": {},
     "output_type": "display_data"
    },
    {
     "name": "stdout",
     "output_type": "stream",
     "text": [
      "Epoch 191: train=3.18154, val=5.39126, took 97.475 s\n"
     ]
    },
    {
     "data": {
      "application/vnd.jupyter.widget-view+json": {
       "model_id": "",
       "version_major": 2,
       "version_minor": 0
      },
      "text/plain": [
       "HBox(children=(FloatProgress(value=0.0, description='Training', layout=Layout(flex='2'), max=750.0, style=Prog…"
      ]
     },
     "metadata": {},
     "output_type": "display_data"
    },
    {
     "name": "stdout",
     "output_type": "stream",
     "text": [
      "Epoch 192: train=3.21356, val=4.75717, took 97.586 s\n"
     ]
    },
    {
     "data": {
      "application/vnd.jupyter.widget-view+json": {
       "model_id": "",
       "version_major": 2,
       "version_minor": 0
      },
      "text/plain": [
       "HBox(children=(FloatProgress(value=0.0, description='Training', layout=Layout(flex='2'), max=750.0, style=Prog…"
      ]
     },
     "metadata": {},
     "output_type": "display_data"
    },
    {
     "name": "stdout",
     "output_type": "stream",
     "text": [
      "Epoch 193: train=3.00509, val=4.77564, took 97.494 s\n"
     ]
    },
    {
     "data": {
      "application/vnd.jupyter.widget-view+json": {
       "model_id": "",
       "version_major": 2,
       "version_minor": 0
      },
      "text/plain": [
       "HBox(children=(FloatProgress(value=0.0, description='Training', layout=Layout(flex='2'), max=750.0, style=Prog…"
      ]
     },
     "metadata": {},
     "output_type": "display_data"
    },
    {
     "name": "stdout",
     "output_type": "stream",
     "text": [
      "Epoch 194: train=3.10027, val=4.99042, took 97.439 s\n"
     ]
    },
    {
     "data": {
      "application/vnd.jupyter.widget-view+json": {
       "model_id": "",
       "version_major": 2,
       "version_minor": 0
      },
      "text/plain": [
       "HBox(children=(FloatProgress(value=0.0, description='Training', layout=Layout(flex='2'), max=750.0, style=Prog…"
      ]
     },
     "metadata": {},
     "output_type": "display_data"
    },
    {
     "name": "stdout",
     "output_type": "stream",
     "text": [
      "Epoch 195: train=2.8667, val=4.7923, took 97.662 s\n"
     ]
    },
    {
     "data": {
      "application/vnd.jupyter.widget-view+json": {
       "model_id": "",
       "version_major": 2,
       "version_minor": 0
      },
      "text/plain": [
       "HBox(children=(FloatProgress(value=0.0, description='Training', layout=Layout(flex='2'), max=750.0, style=Prog…"
      ]
     },
     "metadata": {},
     "output_type": "display_data"
    },
    {
     "name": "stdout",
     "output_type": "stream",
     "text": [
      "Epoch 196: train=2.73338, val=4.59104, took 97.772 s\n"
     ]
    },
    {
     "data": {
      "application/vnd.jupyter.widget-view+json": {
       "model_id": "",
       "version_major": 2,
       "version_minor": 0
      },
      "text/plain": [
       "HBox(children=(FloatProgress(value=0.0, description='Training', layout=Layout(flex='2'), max=750.0, style=Prog…"
      ]
     },
     "metadata": {},
     "output_type": "display_data"
    },
    {
     "name": "stdout",
     "output_type": "stream",
     "text": [
      "Epoch 197: train=2.75552, val=5.41018, took 97.471 s\n"
     ]
    },
    {
     "data": {
      "application/vnd.jupyter.widget-view+json": {
       "model_id": "",
       "version_major": 2,
       "version_minor": 0
      },
      "text/plain": [
       "HBox(children=(FloatProgress(value=0.0, description='Training', layout=Layout(flex='2'), max=750.0, style=Prog…"
      ]
     },
     "metadata": {},
     "output_type": "display_data"
    },
    {
     "name": "stdout",
     "output_type": "stream",
     "text": [
      "Epoch 198: train=2.79671, val=4.88068, took 97.58 s\n"
     ]
    },
    {
     "data": {
      "application/vnd.jupyter.widget-view+json": {
       "model_id": "",
       "version_major": 2,
       "version_minor": 0
      },
      "text/plain": [
       "HBox(children=(FloatProgress(value=0.0, description='Training', layout=Layout(flex='2'), max=750.0, style=Prog…"
      ]
     },
     "metadata": {},
     "output_type": "display_data"
    },
    {
     "name": "stdout",
     "output_type": "stream",
     "text": [
      "Epoch 199: train=2.95214, val=5.40296, took 98.319 s\n"
     ]
    },
    {
     "data": {
      "application/vnd.jupyter.widget-view+json": {
       "model_id": "",
       "version_major": 2,
       "version_minor": 0
      },
      "text/plain": [
       "HBox(children=(FloatProgress(value=0.0, description='Training', layout=Layout(flex='2'), max=750.0, style=Prog…"
      ]
     },
     "metadata": {},
     "output_type": "display_data"
    },
    {
     "name": "stdout",
     "output_type": "stream",
     "text": [
      "Epoch 200: train=2.95361, val=4.98223, took 97.948 s\n"
     ]
    },
    {
     "data": {
      "application/vnd.jupyter.widget-view+json": {
       "model_id": "",
       "version_major": 2,
       "version_minor": 0
      },
      "text/plain": [
       "HBox(children=(FloatProgress(value=0.0, description='Training', layout=Layout(flex='2'), max=750.0, style=Prog…"
      ]
     },
     "metadata": {},
     "output_type": "display_data"
    },
    {
     "name": "stdout",
     "output_type": "stream",
     "text": [
      "Epoch 201: train=3.33031, val=6.32607, took 97.519 s\n"
     ]
    },
    {
     "data": {
      "application/vnd.jupyter.widget-view+json": {
       "model_id": "",
       "version_major": 2,
       "version_minor": 0
      },
      "text/plain": [
       "HBox(children=(FloatProgress(value=0.0, description='Training', layout=Layout(flex='2'), max=750.0, style=Prog…"
      ]
     },
     "metadata": {},
     "output_type": "display_data"
    },
    {
     "name": "stdout",
     "output_type": "stream",
     "text": [
      "Epoch 202: train=3.35777, val=7.18327, took 97.462 s\n"
     ]
    },
    {
     "data": {
      "application/vnd.jupyter.widget-view+json": {
       "model_id": "",
       "version_major": 2,
       "version_minor": 0
      },
      "text/plain": [
       "HBox(children=(FloatProgress(value=0.0, description='Training', layout=Layout(flex='2'), max=750.0, style=Prog…"
      ]
     },
     "metadata": {},
     "output_type": "display_data"
    },
    {
     "name": "stdout",
     "output_type": "stream",
     "text": [
      "Epoch 203: train=3.47338, val=6.21766, took 97.538 s\n"
     ]
    },
    {
     "data": {
      "application/vnd.jupyter.widget-view+json": {
       "model_id": "",
       "version_major": 2,
       "version_minor": 0
      },
      "text/plain": [
       "HBox(children=(FloatProgress(value=0.0, description='Training', layout=Layout(flex='2'), max=750.0, style=Prog…"
      ]
     },
     "metadata": {},
     "output_type": "display_data"
    },
    {
     "name": "stdout",
     "output_type": "stream",
     "text": [
      "Epoch 204: train=3.27341, val=4.89695, took 97.455 s\n"
     ]
    },
    {
     "data": {
      "application/vnd.jupyter.widget-view+json": {
       "model_id": "",
       "version_major": 2,
       "version_minor": 0
      },
      "text/plain": [
       "HBox(children=(FloatProgress(value=0.0, description='Training', layout=Layout(flex='2'), max=750.0, style=Prog…"
      ]
     },
     "metadata": {},
     "output_type": "display_data"
    },
    {
     "name": "stdout",
     "output_type": "stream",
     "text": [
      "Epoch 205: train=2.99412, val=5.23996, took 97.685 s\n"
     ]
    },
    {
     "data": {
      "application/vnd.jupyter.widget-view+json": {
       "model_id": "",
       "version_major": 2,
       "version_minor": 0
      },
      "text/plain": [
       "HBox(children=(FloatProgress(value=0.0, description='Training', layout=Layout(flex='2'), max=750.0, style=Prog…"
      ]
     },
     "metadata": {},
     "output_type": "display_data"
    },
    {
     "name": "stdout",
     "output_type": "stream",
     "text": [
      "Epoch 206: train=2.73996, val=4.84347, took 97.69 s\n"
     ]
    },
    {
     "data": {
      "application/vnd.jupyter.widget-view+json": {
       "model_id": "",
       "version_major": 2,
       "version_minor": 0
      },
      "text/plain": [
       "HBox(children=(FloatProgress(value=0.0, description='Training', layout=Layout(flex='2'), max=750.0, style=Prog…"
      ]
     },
     "metadata": {},
     "output_type": "display_data"
    },
    {
     "name": "stdout",
     "output_type": "stream",
     "text": [
      "Epoch 207: train=2.68202, val=4.78186, took 97.597 s\n"
     ]
    },
    {
     "data": {
      "application/vnd.jupyter.widget-view+json": {
       "model_id": "",
       "version_major": 2,
       "version_minor": 0
      },
      "text/plain": [
       "HBox(children=(FloatProgress(value=0.0, description='Training', layout=Layout(flex='2'), max=750.0, style=Prog…"
      ]
     },
     "metadata": {},
     "output_type": "display_data"
    },
    {
     "name": "stdout",
     "output_type": "stream",
     "text": [
      "Epoch 208: train=2.74609, val=4.66663, took 97.531 s\n"
     ]
    },
    {
     "data": {
      "application/vnd.jupyter.widget-view+json": {
       "model_id": "",
       "version_major": 2,
       "version_minor": 0
      },
      "text/plain": [
       "HBox(children=(FloatProgress(value=0.0, description='Training', layout=Layout(flex='2'), max=750.0, style=Prog…"
      ]
     },
     "metadata": {},
     "output_type": "display_data"
    },
    {
     "name": "stdout",
     "output_type": "stream",
     "text": [
      "Epoch 209: train=2.68682, val=4.8281, took 97.54 s\n"
     ]
    },
    {
     "data": {
      "application/vnd.jupyter.widget-view+json": {
       "model_id": "",
       "version_major": 2,
       "version_minor": 0
      },
      "text/plain": [
       "HBox(children=(FloatProgress(value=0.0, description='Training', layout=Layout(flex='2'), max=750.0, style=Prog…"
      ]
     },
     "metadata": {},
     "output_type": "display_data"
    },
    {
     "name": "stdout",
     "output_type": "stream",
     "text": [
      "Epoch 210: train=2.74204, val=4.63474, took 97.849 s\n"
     ]
    },
    {
     "data": {
      "application/vnd.jupyter.widget-view+json": {
       "model_id": "",
       "version_major": 2,
       "version_minor": 0
      },
      "text/plain": [
       "HBox(children=(FloatProgress(value=0.0, description='Training', layout=Layout(flex='2'), max=750.0, style=Prog…"
      ]
     },
     "metadata": {},
     "output_type": "display_data"
    },
    {
     "name": "stdout",
     "output_type": "stream",
     "text": [
      "Epoch 211: train=2.79764, val=4.62396, took 97.637 s\n"
     ]
    },
    {
     "data": {
      "application/vnd.jupyter.widget-view+json": {
       "model_id": "",
       "version_major": 2,
       "version_minor": 0
      },
      "text/plain": [
       "HBox(children=(FloatProgress(value=0.0, description='Training', layout=Layout(flex='2'), max=750.0, style=Prog…"
      ]
     },
     "metadata": {},
     "output_type": "display_data"
    },
    {
     "name": "stdout",
     "output_type": "stream",
     "text": [
      "Epoch 212: train=2.76619, val=4.56166, took 97.934 s\n"
     ]
    },
    {
     "data": {
      "application/vnd.jupyter.widget-view+json": {
       "model_id": "",
       "version_major": 2,
       "version_minor": 0
      },
      "text/plain": [
       "HBox(children=(FloatProgress(value=0.0, description='Training', layout=Layout(flex='2'), max=750.0, style=Prog…"
      ]
     },
     "metadata": {},
     "output_type": "display_data"
    },
    {
     "name": "stdout",
     "output_type": "stream",
     "text": [
      "Epoch 213: train=2.82686, val=4.96495, took 97.781 s\n"
     ]
    },
    {
     "data": {
      "application/vnd.jupyter.widget-view+json": {
       "model_id": "",
       "version_major": 2,
       "version_minor": 0
      },
      "text/plain": [
       "HBox(children=(FloatProgress(value=0.0, description='Training', layout=Layout(flex='2'), max=750.0, style=Prog…"
      ]
     },
     "metadata": {},
     "output_type": "display_data"
    },
    {
     "name": "stdout",
     "output_type": "stream",
     "text": [
      "Epoch 214: train=3.06348, val=5.16312, took 97.367 s\n"
     ]
    },
    {
     "data": {
      "application/vnd.jupyter.widget-view+json": {
       "model_id": "",
       "version_major": 2,
       "version_minor": 0
      },
      "text/plain": [
       "HBox(children=(FloatProgress(value=0.0, description='Training', layout=Layout(flex='2'), max=750.0, style=Prog…"
      ]
     },
     "metadata": {},
     "output_type": "display_data"
    },
    {
     "name": "stdout",
     "output_type": "stream",
     "text": [
      "Epoch 215: train=2.8448, val=4.72548, took 97.426 s\n"
     ]
    },
    {
     "data": {
      "application/vnd.jupyter.widget-view+json": {
       "model_id": "",
       "version_major": 2,
       "version_minor": 0
      },
      "text/plain": [
       "HBox(children=(FloatProgress(value=0.0, description='Training', layout=Layout(flex='2'), max=750.0, style=Prog…"
      ]
     },
     "metadata": {},
     "output_type": "display_data"
    },
    {
     "name": "stdout",
     "output_type": "stream",
     "text": [
      "Epoch 216: train=2.74563, val=4.74662, took 97.609 s\n"
     ]
    },
    {
     "data": {
      "application/vnd.jupyter.widget-view+json": {
       "model_id": "",
       "version_major": 2,
       "version_minor": 0
      },
      "text/plain": [
       "HBox(children=(FloatProgress(value=0.0, description='Training', layout=Layout(flex='2'), max=750.0, style=Prog…"
      ]
     },
     "metadata": {},
     "output_type": "display_data"
    },
    {
     "name": "stdout",
     "output_type": "stream",
     "text": [
      "Epoch 217: train=2.7589, val=5.69337, took 97.439 s\n"
     ]
    },
    {
     "data": {
      "application/vnd.jupyter.widget-view+json": {
       "model_id": "",
       "version_major": 2,
       "version_minor": 0
      },
      "text/plain": [
       "HBox(children=(FloatProgress(value=0.0, description='Training', layout=Layout(flex='2'), max=750.0, style=Prog…"
      ]
     },
     "metadata": {},
     "output_type": "display_data"
    },
    {
     "name": "stdout",
     "output_type": "stream",
     "text": [
      "Epoch 218: train=3.20038, val=5.61683, took 97.731 s\n"
     ]
    },
    {
     "data": {
      "application/vnd.jupyter.widget-view+json": {
       "model_id": "",
       "version_major": 2,
       "version_minor": 0
      },
      "text/plain": [
       "HBox(children=(FloatProgress(value=0.0, description='Training', layout=Layout(flex='2'), max=750.0, style=Prog…"
      ]
     },
     "metadata": {},
     "output_type": "display_data"
    },
    {
     "name": "stdout",
     "output_type": "stream",
     "text": [
      "Epoch 219: train=3.10498, val=5.53488, took 97.349 s\n"
     ]
    },
    {
     "data": {
      "application/vnd.jupyter.widget-view+json": {
       "model_id": "",
       "version_major": 2,
       "version_minor": 0
      },
      "text/plain": [
       "HBox(children=(FloatProgress(value=0.0, description='Training', layout=Layout(flex='2'), max=750.0, style=Prog…"
      ]
     },
     "metadata": {},
     "output_type": "display_data"
    },
    {
     "name": "stdout",
     "output_type": "stream",
     "text": [
      "Epoch 220: train=3.08667, val=5.33022, took 97.401 s\n"
     ]
    },
    {
     "data": {
      "application/vnd.jupyter.widget-view+json": {
       "model_id": "",
       "version_major": 2,
       "version_minor": 0
      },
      "text/plain": [
       "HBox(children=(FloatProgress(value=0.0, description='Training', layout=Layout(flex='2'), max=750.0, style=Prog…"
      ]
     },
     "metadata": {},
     "output_type": "display_data"
    },
    {
     "name": "stdout",
     "output_type": "stream",
     "text": [
      "Epoch 221: train=3.28282, val=5.1359, took 97.345 s\n"
     ]
    },
    {
     "data": {
      "application/vnd.jupyter.widget-view+json": {
       "model_id": "",
       "version_major": 2,
       "version_minor": 0
      },
      "text/plain": [
       "HBox(children=(FloatProgress(value=0.0, description='Training', layout=Layout(flex='2'), max=750.0, style=Prog…"
      ]
     },
     "metadata": {},
     "output_type": "display_data"
    },
    {
     "name": "stdout",
     "output_type": "stream",
     "text": [
      "Epoch 222: train=3.30306, val=5.0501, took 97.469 s\n"
     ]
    },
    {
     "data": {
      "application/vnd.jupyter.widget-view+json": {
       "model_id": "",
       "version_major": 2,
       "version_minor": 0
      },
      "text/plain": [
       "HBox(children=(FloatProgress(value=0.0, description='Training', layout=Layout(flex='2'), max=750.0, style=Prog…"
      ]
     },
     "metadata": {},
     "output_type": "display_data"
    },
    {
     "name": "stdout",
     "output_type": "stream",
     "text": [
      "Epoch 223: train=3.44167, val=4.90787, took 97.338 s\n"
     ]
    },
    {
     "data": {
      "application/vnd.jupyter.widget-view+json": {
       "model_id": "",
       "version_major": 2,
       "version_minor": 0
      },
      "text/plain": [
       "HBox(children=(FloatProgress(value=0.0, description='Training', layout=Layout(flex='2'), max=750.0, style=Prog…"
      ]
     },
     "metadata": {},
     "output_type": "display_data"
    },
    {
     "name": "stdout",
     "output_type": "stream",
     "text": [
      "Epoch 224: train=3.08984, val=4.68337, took 97.269 s\n"
     ]
    },
    {
     "data": {
      "application/vnd.jupyter.widget-view+json": {
       "model_id": "",
       "version_major": 2,
       "version_minor": 0
      },
      "text/plain": [
       "HBox(children=(FloatProgress(value=0.0, description='Training', layout=Layout(flex='2'), max=750.0, style=Prog…"
      ]
     },
     "metadata": {},
     "output_type": "display_data"
    },
    {
     "name": "stdout",
     "output_type": "stream",
     "text": [
      "Epoch 225: train=2.78257, val=4.70706, took 97.362 s\n"
     ]
    },
    {
     "data": {
      "application/vnd.jupyter.widget-view+json": {
       "model_id": "",
       "version_major": 2,
       "version_minor": 0
      },
      "text/plain": [
       "HBox(children=(FloatProgress(value=0.0, description='Training', layout=Layout(flex='2'), max=750.0, style=Prog…"
      ]
     },
     "metadata": {},
     "output_type": "display_data"
    },
    {
     "name": "stdout",
     "output_type": "stream",
     "text": [
      "Epoch 226: train=2.60592, val=5.08894, took 97.416 s\n"
     ]
    },
    {
     "data": {
      "application/vnd.jupyter.widget-view+json": {
       "model_id": "",
       "version_major": 2,
       "version_minor": 0
      },
      "text/plain": [
       "HBox(children=(FloatProgress(value=0.0, description='Training', layout=Layout(flex='2'), max=750.0, style=Prog…"
      ]
     },
     "metadata": {},
     "output_type": "display_data"
    },
    {
     "name": "stdout",
     "output_type": "stream",
     "text": [
      "Epoch 227: train=2.63436, val=4.67463, took 97.466 s\n"
     ]
    },
    {
     "data": {
      "application/vnd.jupyter.widget-view+json": {
       "model_id": "",
       "version_major": 2,
       "version_minor": 0
      },
      "text/plain": [
       "HBox(children=(FloatProgress(value=0.0, description='Training', layout=Layout(flex='2'), max=750.0, style=Prog…"
      ]
     },
     "metadata": {},
     "output_type": "display_data"
    },
    {
     "name": "stdout",
     "output_type": "stream",
     "text": [
      "Epoch 228: train=2.66847, val=4.59807, took 97.459 s\n"
     ]
    },
    {
     "data": {
      "application/vnd.jupyter.widget-view+json": {
       "model_id": "",
       "version_major": 2,
       "version_minor": 0
      },
      "text/plain": [
       "HBox(children=(FloatProgress(value=0.0, description='Training', layout=Layout(flex='2'), max=750.0, style=Prog…"
      ]
     },
     "metadata": {},
     "output_type": "display_data"
    },
    {
     "name": "stdout",
     "output_type": "stream",
     "text": [
      "Epoch 229: train=2.79518, val=4.72556, took 97.539 s\n"
     ]
    },
    {
     "data": {
      "application/vnd.jupyter.widget-view+json": {
       "model_id": "",
       "version_major": 2,
       "version_minor": 0
      },
      "text/plain": [
       "HBox(children=(FloatProgress(value=0.0, description='Training', layout=Layout(flex='2'), max=750.0, style=Prog…"
      ]
     },
     "metadata": {},
     "output_type": "display_data"
    },
    {
     "name": "stdout",
     "output_type": "stream",
     "text": [
      "Epoch 230: train=2.74702, val=4.68408, took 97.573 s\n"
     ]
    },
    {
     "data": {
      "application/vnd.jupyter.widget-view+json": {
       "model_id": "",
       "version_major": 2,
       "version_minor": 0
      },
      "text/plain": [
       "HBox(children=(FloatProgress(value=0.0, description='Training', layout=Layout(flex='2'), max=750.0, style=Prog…"
      ]
     },
     "metadata": {},
     "output_type": "display_data"
    },
    {
     "name": "stdout",
     "output_type": "stream",
     "text": [
      "Epoch 231: train=2.80519, val=4.72049, took 97.534 s\n"
     ]
    },
    {
     "data": {
      "application/vnd.jupyter.widget-view+json": {
       "model_id": "",
       "version_major": 2,
       "version_minor": 0
      },
      "text/plain": [
       "HBox(children=(FloatProgress(value=0.0, description='Training', layout=Layout(flex='2'), max=750.0, style=Prog…"
      ]
     },
     "metadata": {},
     "output_type": "display_data"
    },
    {
     "name": "stdout",
     "output_type": "stream",
     "text": [
      "Epoch 232: train=2.88292, val=4.57391, took 97.321 s\n"
     ]
    },
    {
     "data": {
      "application/vnd.jupyter.widget-view+json": {
       "model_id": "",
       "version_major": 2,
       "version_minor": 0
      },
      "text/plain": [
       "HBox(children=(FloatProgress(value=0.0, description='Training', layout=Layout(flex='2'), max=750.0, style=Prog…"
      ]
     },
     "metadata": {},
     "output_type": "display_data"
    },
    {
     "name": "stdout",
     "output_type": "stream",
     "text": [
      "Epoch 233: train=2.74424, val=4.6673, took 97.365 s\n"
     ]
    },
    {
     "data": {
      "application/vnd.jupyter.widget-view+json": {
       "model_id": "",
       "version_major": 2,
       "version_minor": 0
      },
      "text/plain": [
       "HBox(children=(FloatProgress(value=0.0, description='Training', layout=Layout(flex='2'), max=750.0, style=Prog…"
      ]
     },
     "metadata": {},
     "output_type": "display_data"
    },
    {
     "name": "stdout",
     "output_type": "stream",
     "text": [
      "Epoch 234: train=2.64987, val=4.54652, took 97.259 s\n"
     ]
    },
    {
     "data": {
      "application/vnd.jupyter.widget-view+json": {
       "model_id": "",
       "version_major": 2,
       "version_minor": 0
      },
      "text/plain": [
       "HBox(children=(FloatProgress(value=0.0, description='Training', layout=Layout(flex='2'), max=750.0, style=Prog…"
      ]
     },
     "metadata": {},
     "output_type": "display_data"
    },
    {
     "name": "stdout",
     "output_type": "stream",
     "text": [
      "Epoch 235: train=2.52161, val=4.66462, took 97.342 s\n"
     ]
    },
    {
     "data": {
      "application/vnd.jupyter.widget-view+json": {
       "model_id": "",
       "version_major": 2,
       "version_minor": 0
      },
      "text/plain": [
       "HBox(children=(FloatProgress(value=0.0, description='Training', layout=Layout(flex='2'), max=750.0, style=Prog…"
      ]
     },
     "metadata": {},
     "output_type": "display_data"
    },
    {
     "name": "stdout",
     "output_type": "stream",
     "text": [
      "Epoch 236: train=2.63644, val=4.54459, took 97.441 s\n"
     ]
    },
    {
     "data": {
      "application/vnd.jupyter.widget-view+json": {
       "model_id": "",
       "version_major": 2,
       "version_minor": 0
      },
      "text/plain": [
       "HBox(children=(FloatProgress(value=0.0, description='Training', layout=Layout(flex='2'), max=750.0, style=Prog…"
      ]
     },
     "metadata": {},
     "output_type": "display_data"
    },
    {
     "name": "stdout",
     "output_type": "stream",
     "text": [
      "Epoch 237: train=2.59856, val=4.64457, took 97.454 s\n"
     ]
    },
    {
     "data": {
      "application/vnd.jupyter.widget-view+json": {
       "model_id": "",
       "version_major": 2,
       "version_minor": 0
      },
      "text/plain": [
       "HBox(children=(FloatProgress(value=0.0, description='Training', layout=Layout(flex='2'), max=750.0, style=Prog…"
      ]
     },
     "metadata": {},
     "output_type": "display_data"
    },
    {
     "name": "stdout",
     "output_type": "stream",
     "text": [
      "Epoch 238: train=2.667, val=4.73735, took 97.677 s\n"
     ]
    },
    {
     "data": {
      "application/vnd.jupyter.widget-view+json": {
       "model_id": "",
       "version_major": 2,
       "version_minor": 0
      },
      "text/plain": [
       "HBox(children=(FloatProgress(value=0.0, description='Training', layout=Layout(flex='2'), max=750.0, style=Prog…"
      ]
     },
     "metadata": {},
     "output_type": "display_data"
    },
    {
     "name": "stdout",
     "output_type": "stream",
     "text": [
      "Epoch 239: train=2.80813, val=4.83979, took 97.608 s\n"
     ]
    },
    {
     "data": {
      "application/vnd.jupyter.widget-view+json": {
       "model_id": "",
       "version_major": 2,
       "version_minor": 0
      },
      "text/plain": [
       "HBox(children=(FloatProgress(value=0.0, description='Training', layout=Layout(flex='2'), max=750.0, style=Prog…"
      ]
     },
     "metadata": {},
     "output_type": "display_data"
    },
    {
     "name": "stdout",
     "output_type": "stream",
     "text": [
      "Epoch 240: train=2.93055, val=4.57618, took 97.514 s\n"
     ]
    },
    {
     "data": {
      "application/vnd.jupyter.widget-view+json": {
       "model_id": "",
       "version_major": 2,
       "version_minor": 0
      },
      "text/plain": [
       "HBox(children=(FloatProgress(value=0.0, description='Training', layout=Layout(flex='2'), max=750.0, style=Prog…"
      ]
     },
     "metadata": {},
     "output_type": "display_data"
    },
    {
     "name": "stdout",
     "output_type": "stream",
     "text": [
      "Epoch 241: train=2.82836, val=4.6512, took 97.63 s\n"
     ]
    },
    {
     "data": {
      "application/vnd.jupyter.widget-view+json": {
       "model_id": "",
       "version_major": 2,
       "version_minor": 0
      },
      "text/plain": [
       "HBox(children=(FloatProgress(value=0.0, description='Training', layout=Layout(flex='2'), max=750.0, style=Prog…"
      ]
     },
     "metadata": {},
     "output_type": "display_data"
    },
    {
     "name": "stdout",
     "output_type": "stream",
     "text": [
      "Epoch 242: train=3.00557, val=5.74245, took 97.447 s\n"
     ]
    },
    {
     "data": {
      "application/vnd.jupyter.widget-view+json": {
       "model_id": "",
       "version_major": 2,
       "version_minor": 0
      },
      "text/plain": [
       "HBox(children=(FloatProgress(value=0.0, description='Training', layout=Layout(flex='2'), max=750.0, style=Prog…"
      ]
     },
     "metadata": {},
     "output_type": "display_data"
    },
    {
     "name": "stdout",
     "output_type": "stream",
     "text": [
      "Epoch 243: train=3.3133, val=4.73874, took 97.449 s\n"
     ]
    },
    {
     "data": {
      "application/vnd.jupyter.widget-view+json": {
       "model_id": "",
       "version_major": 2,
       "version_minor": 0
      },
      "text/plain": [
       "HBox(children=(FloatProgress(value=0.0, description='Training', layout=Layout(flex='2'), max=750.0, style=Prog…"
      ]
     },
     "metadata": {},
     "output_type": "display_data"
    },
    {
     "name": "stdout",
     "output_type": "stream",
     "text": [
      "Epoch 244: train=3.16405, val=5.16661, took 97.454 s\n"
     ]
    },
    {
     "data": {
      "application/vnd.jupyter.widget-view+json": {
       "model_id": "",
       "version_major": 2,
       "version_minor": 0
      },
      "text/plain": [
       "HBox(children=(FloatProgress(value=0.0, description='Training', layout=Layout(flex='2'), max=750.0, style=Prog…"
      ]
     },
     "metadata": {},
     "output_type": "display_data"
    },
    {
     "name": "stdout",
     "output_type": "stream",
     "text": [
      "Epoch 245: train=3.05585, val=5.82759, took 97.896 s\n"
     ]
    },
    {
     "data": {
      "application/vnd.jupyter.widget-view+json": {
       "model_id": "",
       "version_major": 2,
       "version_minor": 0
      },
      "text/plain": [
       "HBox(children=(FloatProgress(value=0.0, description='Training', layout=Layout(flex='2'), max=750.0, style=Prog…"
      ]
     },
     "metadata": {},
     "output_type": "display_data"
    },
    {
     "name": "stdout",
     "output_type": "stream",
     "text": [
      "Epoch 246: train=2.76095, val=5.62564, took 97.747 s\n"
     ]
    },
    {
     "data": {
      "application/vnd.jupyter.widget-view+json": {
       "model_id": "",
       "version_major": 2,
       "version_minor": 0
      },
      "text/plain": [
       "HBox(children=(FloatProgress(value=0.0, description='Training', layout=Layout(flex='2'), max=750.0, style=Prog…"
      ]
     },
     "metadata": {},
     "output_type": "display_data"
    },
    {
     "name": "stdout",
     "output_type": "stream",
     "text": [
      "Epoch 247: train=2.57114, val=4.53252, took 97.303 s\n"
     ]
    },
    {
     "data": {
      "application/vnd.jupyter.widget-view+json": {
       "model_id": "",
       "version_major": 2,
       "version_minor": 0
      },
      "text/plain": [
       "HBox(children=(FloatProgress(value=0.0, description='Training', layout=Layout(flex='2'), max=750.0, style=Prog…"
      ]
     },
     "metadata": {},
     "output_type": "display_data"
    },
    {
     "name": "stdout",
     "output_type": "stream",
     "text": [
      "Epoch 248: train=2.5996, val=4.49651, took 97.323 s\n"
     ]
    },
    {
     "data": {
      "application/vnd.jupyter.widget-view+json": {
       "model_id": "",
       "version_major": 2,
       "version_minor": 0
      },
      "text/plain": [
       "HBox(children=(FloatProgress(value=0.0, description='Training', layout=Layout(flex='2'), max=750.0, style=Prog…"
      ]
     },
     "metadata": {},
     "output_type": "display_data"
    },
    {
     "name": "stdout",
     "output_type": "stream",
     "text": [
      "Epoch 249: train=2.52584, val=4.62182, took 97.505 s\n"
     ]
    },
    {
     "data": {
      "application/vnd.jupyter.widget-view+json": {
       "model_id": "",
       "version_major": 2,
       "version_minor": 0
      },
      "text/plain": [
       "HBox(children=(FloatProgress(value=0.0, description='Training', layout=Layout(flex='2'), max=750.0, style=Prog…"
      ]
     },
     "metadata": {},
     "output_type": "display_data"
    },
    {
     "name": "stdout",
     "output_type": "stream",
     "text": [
      "Epoch 250: train=2.71176, val=5.70599, took 97.636 s\n"
     ]
    },
    {
     "data": {
      "application/vnd.jupyter.widget-view+json": {
       "model_id": "",
       "version_major": 2,
       "version_minor": 0
      },
      "text/plain": [
       "HBox(children=(FloatProgress(value=0.0, description='Training', layout=Layout(flex='2'), max=750.0, style=Prog…"
      ]
     },
     "metadata": {},
     "output_type": "display_data"
    },
    {
     "name": "stdout",
     "output_type": "stream",
     "text": [
      "Epoch 251: train=2.64711, val=6.18436, took 97.645 s\n"
     ]
    },
    {
     "data": {
      "application/vnd.jupyter.widget-view+json": {
       "model_id": "",
       "version_major": 2,
       "version_minor": 0
      },
      "text/plain": [
       "HBox(children=(FloatProgress(value=0.0, description='Training', layout=Layout(flex='2'), max=750.0, style=Prog…"
      ]
     },
     "metadata": {},
     "output_type": "display_data"
    },
    {
     "name": "stdout",
     "output_type": "stream",
     "text": [
      "Epoch 252: train=2.81839, val=5.94257, took 97.729 s\n"
     ]
    },
    {
     "data": {
      "application/vnd.jupyter.widget-view+json": {
       "model_id": "",
       "version_major": 2,
       "version_minor": 0
      },
      "text/plain": [
       "HBox(children=(FloatProgress(value=0.0, description='Training', layout=Layout(flex='2'), max=750.0, style=Prog…"
      ]
     },
     "metadata": {},
     "output_type": "display_data"
    },
    {
     "name": "stdout",
     "output_type": "stream",
     "text": [
      "Epoch 253: train=2.59346, val=4.65366, took 97.715 s\n"
     ]
    },
    {
     "data": {
      "application/vnd.jupyter.widget-view+json": {
       "model_id": "",
       "version_major": 2,
       "version_minor": 0
      },
      "text/plain": [
       "HBox(children=(FloatProgress(value=0.0, description='Training', layout=Layout(flex='2'), max=750.0, style=Prog…"
      ]
     },
     "metadata": {},
     "output_type": "display_data"
    },
    {
     "name": "stdout",
     "output_type": "stream",
     "text": [
      "Epoch 254: train=2.66601, val=4.57696, took 97.813 s\n"
     ]
    },
    {
     "data": {
      "application/vnd.jupyter.widget-view+json": {
       "model_id": "",
       "version_major": 2,
       "version_minor": 0
      },
      "text/plain": [
       "HBox(children=(FloatProgress(value=0.0, description='Training', layout=Layout(flex='2'), max=750.0, style=Prog…"
      ]
     },
     "metadata": {},
     "output_type": "display_data"
    },
    {
     "name": "stdout",
     "output_type": "stream",
     "text": [
      "Epoch 255: train=2.52396, val=4.6376, took 97.672 s\n"
     ]
    },
    {
     "data": {
      "application/vnd.jupyter.widget-view+json": {
       "model_id": "",
       "version_major": 2,
       "version_minor": 0
      },
      "text/plain": [
       "HBox(children=(FloatProgress(value=0.0, description='Training', layout=Layout(flex='2'), max=750.0, style=Prog…"
      ]
     },
     "metadata": {},
     "output_type": "display_data"
    },
    {
     "name": "stdout",
     "output_type": "stream",
     "text": [
      "Epoch 256: train=2.53179, val=4.57005, took 97.656 s\n"
     ]
    },
    {
     "data": {
      "application/vnd.jupyter.widget-view+json": {
       "model_id": "",
       "version_major": 2,
       "version_minor": 0
      },
      "text/plain": [
       "HBox(children=(FloatProgress(value=0.0, description='Training', layout=Layout(flex='2'), max=750.0, style=Prog…"
      ]
     },
     "metadata": {},
     "output_type": "display_data"
    },
    {
     "name": "stdout",
     "output_type": "stream",
     "text": [
      "Epoch 257: train=2.88701, val=6.42392, took 97.737 s\n"
     ]
    },
    {
     "data": {
      "application/vnd.jupyter.widget-view+json": {
       "model_id": "",
       "version_major": 2,
       "version_minor": 0
      },
      "text/plain": [
       "HBox(children=(FloatProgress(value=0.0, description='Training', layout=Layout(flex='2'), max=750.0, style=Prog…"
      ]
     },
     "metadata": {},
     "output_type": "display_data"
    },
    {
     "name": "stdout",
     "output_type": "stream",
     "text": [
      "Epoch 258: train=3.01513, val=6.02018, took 97.596 s\n"
     ]
    },
    {
     "data": {
      "application/vnd.jupyter.widget-view+json": {
       "model_id": "",
       "version_major": 2,
       "version_minor": 0
      },
      "text/plain": [
       "HBox(children=(FloatProgress(value=0.0, description='Training', layout=Layout(flex='2'), max=750.0, style=Prog…"
      ]
     },
     "metadata": {},
     "output_type": "display_data"
    },
    {
     "name": "stdout",
     "output_type": "stream",
     "text": [
      "Epoch 259: train=2.88037, val=5.18502, took 97.549 s\n"
     ]
    },
    {
     "data": {
      "application/vnd.jupyter.widget-view+json": {
       "model_id": "",
       "version_major": 2,
       "version_minor": 0
      },
      "text/plain": [
       "HBox(children=(FloatProgress(value=0.0, description='Training', layout=Layout(flex='2'), max=750.0, style=Prog…"
      ]
     },
     "metadata": {},
     "output_type": "display_data"
    },
    {
     "name": "stdout",
     "output_type": "stream",
     "text": [
      "Epoch 260: train=2.65617, val=6.40293, took 97.347 s\n"
     ]
    },
    {
     "data": {
      "application/vnd.jupyter.widget-view+json": {
       "model_id": "",
       "version_major": 2,
       "version_minor": 0
      },
      "text/plain": [
       "HBox(children=(FloatProgress(value=0.0, description='Training', layout=Layout(flex='2'), max=750.0, style=Prog…"
      ]
     },
     "metadata": {},
     "output_type": "display_data"
    },
    {
     "name": "stdout",
     "output_type": "stream",
     "text": [
      "Epoch 261: train=2.59388, val=5.12874, took 97.224 s\n"
     ]
    },
    {
     "data": {
      "application/vnd.jupyter.widget-view+json": {
       "model_id": "",
       "version_major": 2,
       "version_minor": 0
      },
      "text/plain": [
       "HBox(children=(FloatProgress(value=0.0, description='Training', layout=Layout(flex='2'), max=750.0, style=Prog…"
      ]
     },
     "metadata": {},
     "output_type": "display_data"
    },
    {
     "name": "stdout",
     "output_type": "stream",
     "text": [
      "Epoch 262: train=2.55321, val=6.22749, took 97.342 s\n"
     ]
    },
    {
     "data": {
      "application/vnd.jupyter.widget-view+json": {
       "model_id": "",
       "version_major": 2,
       "version_minor": 0
      },
      "text/plain": [
       "HBox(children=(FloatProgress(value=0.0, description='Training', layout=Layout(flex='2'), max=750.0, style=Prog…"
      ]
     },
     "metadata": {},
     "output_type": "display_data"
    },
    {
     "name": "stdout",
     "output_type": "stream",
     "text": [
      "Epoch 263: train=2.57385, val=4.74832, took 97.418 s\n"
     ]
    },
    {
     "data": {
      "application/vnd.jupyter.widget-view+json": {
       "model_id": "",
       "version_major": 2,
       "version_minor": 0
      },
      "text/plain": [
       "HBox(children=(FloatProgress(value=0.0, description='Training', layout=Layout(flex='2'), max=750.0, style=Prog…"
      ]
     },
     "metadata": {},
     "output_type": "display_data"
    },
    {
     "name": "stdout",
     "output_type": "stream",
     "text": [
      "Epoch 264: train=2.54434, val=4.77308, took 97.452 s\n"
     ]
    },
    {
     "data": {
      "application/vnd.jupyter.widget-view+json": {
       "model_id": "",
       "version_major": 2,
       "version_minor": 0
      },
      "text/plain": [
       "HBox(children=(FloatProgress(value=0.0, description='Training', layout=Layout(flex='2'), max=750.0, style=Prog…"
      ]
     },
     "metadata": {},
     "output_type": "display_data"
    },
    {
     "name": "stdout",
     "output_type": "stream",
     "text": [
      "Epoch 265: train=2.66799, val=5.01152, took 98.088 s\n"
     ]
    },
    {
     "data": {
      "application/vnd.jupyter.widget-view+json": {
       "model_id": "",
       "version_major": 2,
       "version_minor": 0
      },
      "text/plain": [
       "HBox(children=(FloatProgress(value=0.0, description='Training', layout=Layout(flex='2'), max=750.0, style=Prog…"
      ]
     },
     "metadata": {},
     "output_type": "display_data"
    },
    {
     "name": "stdout",
     "output_type": "stream",
     "text": [
      "Epoch 266: train=2.85091, val=5.34395, took 97.614 s\n"
     ]
    },
    {
     "data": {
      "application/vnd.jupyter.widget-view+json": {
       "model_id": "",
       "version_major": 2,
       "version_minor": 0
      },
      "text/plain": [
       "HBox(children=(FloatProgress(value=0.0, description='Training', layout=Layout(flex='2'), max=750.0, style=Prog…"
      ]
     },
     "metadata": {},
     "output_type": "display_data"
    },
    {
     "name": "stdout",
     "output_type": "stream",
     "text": [
      "Epoch 267: train=3.11711, val=5.40969, took 97.499 s\n"
     ]
    },
    {
     "data": {
      "application/vnd.jupyter.widget-view+json": {
       "model_id": "",
       "version_major": 2,
       "version_minor": 0
      },
      "text/plain": [
       "HBox(children=(FloatProgress(value=0.0, description='Training', layout=Layout(flex='2'), max=750.0, style=Prog…"
      ]
     },
     "metadata": {},
     "output_type": "display_data"
    },
    {
     "name": "stdout",
     "output_type": "stream",
     "text": [
      "Epoch 268: train=3.12328, val=5.26925, took 97.477 s\n"
     ]
    },
    {
     "data": {
      "application/vnd.jupyter.widget-view+json": {
       "model_id": "",
       "version_major": 2,
       "version_minor": 0
      },
      "text/plain": [
       "HBox(children=(FloatProgress(value=0.0, description='Training', layout=Layout(flex='2'), max=750.0, style=Prog…"
      ]
     },
     "metadata": {},
     "output_type": "display_data"
    },
    {
     "name": "stdout",
     "output_type": "stream",
     "text": [
      "Epoch 269: train=3.13305, val=5.58398, took 97.475 s\n"
     ]
    },
    {
     "data": {
      "application/vnd.jupyter.widget-view+json": {
       "model_id": "",
       "version_major": 2,
       "version_minor": 0
      },
      "text/plain": [
       "HBox(children=(FloatProgress(value=0.0, description='Training', layout=Layout(flex='2'), max=750.0, style=Prog…"
      ]
     },
     "metadata": {},
     "output_type": "display_data"
    },
    {
     "name": "stdout",
     "output_type": "stream",
     "text": [
      "Epoch 270: train=3.23928, val=5.45232, took 97.464 s\n"
     ]
    },
    {
     "data": {
      "application/vnd.jupyter.widget-view+json": {
       "model_id": "",
       "version_major": 2,
       "version_minor": 0
      },
      "text/plain": [
       "HBox(children=(FloatProgress(value=0.0, description='Training', layout=Layout(flex='2'), max=750.0, style=Prog…"
      ]
     },
     "metadata": {},
     "output_type": "display_data"
    },
    {
     "name": "stdout",
     "output_type": "stream",
     "text": [
      "Epoch 271: train=2.95599, val=5.67794, took 97.453 s\n"
     ]
    },
    {
     "data": {
      "application/vnd.jupyter.widget-view+json": {
       "model_id": "",
       "version_major": 2,
       "version_minor": 0
      },
      "text/plain": [
       "HBox(children=(FloatProgress(value=0.0, description='Training', layout=Layout(flex='2'), max=750.0, style=Prog…"
      ]
     },
     "metadata": {},
     "output_type": "display_data"
    },
    {
     "name": "stdout",
     "output_type": "stream",
     "text": [
      "Epoch 272: train=2.77541, val=4.82836, took 97.383 s\n"
     ]
    },
    {
     "data": {
      "application/vnd.jupyter.widget-view+json": {
       "model_id": "",
       "version_major": 2,
       "version_minor": 0
      },
      "text/plain": [
       "HBox(children=(FloatProgress(value=0.0, description='Training', layout=Layout(flex='2'), max=750.0, style=Prog…"
      ]
     },
     "metadata": {},
     "output_type": "display_data"
    },
    {
     "name": "stdout",
     "output_type": "stream",
     "text": [
      "Epoch 273: train=2.60024, val=4.82293, took 97.414 s\n"
     ]
    },
    {
     "data": {
      "application/vnd.jupyter.widget-view+json": {
       "model_id": "",
       "version_major": 2,
       "version_minor": 0
      },
      "text/plain": [
       "HBox(children=(FloatProgress(value=0.0, description='Training', layout=Layout(flex='2'), max=750.0, style=Prog…"
      ]
     },
     "metadata": {},
     "output_type": "display_data"
    },
    {
     "name": "stdout",
     "output_type": "stream",
     "text": [
      "Epoch 274: train=2.46584, val=5.52321, took 97.461 s\n"
     ]
    },
    {
     "data": {
      "application/vnd.jupyter.widget-view+json": {
       "model_id": "",
       "version_major": 2,
       "version_minor": 0
      },
      "text/plain": [
       "HBox(children=(FloatProgress(value=0.0, description='Training', layout=Layout(flex='2'), max=750.0, style=Prog…"
      ]
     },
     "metadata": {},
     "output_type": "display_data"
    },
    {
     "name": "stdout",
     "output_type": "stream",
     "text": [
      "Epoch 275: train=2.41847, val=5.42468, took 97.372 s\n"
     ]
    },
    {
     "data": {
      "application/vnd.jupyter.widget-view+json": {
       "model_id": "",
       "version_major": 2,
       "version_minor": 0
      },
      "text/plain": [
       "HBox(children=(FloatProgress(value=0.0, description='Training', layout=Layout(flex='2'), max=750.0, style=Prog…"
      ]
     },
     "metadata": {},
     "output_type": "display_data"
    },
    {
     "name": "stdout",
     "output_type": "stream",
     "text": [
      "Epoch 276: train=2.51913, val=4.57945, took 97.38 s\n"
     ]
    },
    {
     "data": {
      "application/vnd.jupyter.widget-view+json": {
       "model_id": "",
       "version_major": 2,
       "version_minor": 0
      },
      "text/plain": [
       "HBox(children=(FloatProgress(value=0.0, description='Training', layout=Layout(flex='2'), max=750.0, style=Prog…"
      ]
     },
     "metadata": {},
     "output_type": "display_data"
    },
    {
     "name": "stdout",
     "output_type": "stream",
     "text": [
      "Epoch 277: train=2.47999, val=4.63873, took 97.608 s\n"
     ]
    },
    {
     "data": {
      "application/vnd.jupyter.widget-view+json": {
       "model_id": "",
       "version_major": 2,
       "version_minor": 0
      },
      "text/plain": [
       "HBox(children=(FloatProgress(value=0.0, description='Training', layout=Layout(flex='2'), max=750.0, style=Prog…"
      ]
     },
     "metadata": {},
     "output_type": "display_data"
    },
    {
     "name": "stdout",
     "output_type": "stream",
     "text": [
      "Epoch 278: train=2.56901, val=5.10849, took 98.519 s\n"
     ]
    },
    {
     "data": {
      "application/vnd.jupyter.widget-view+json": {
       "model_id": "",
       "version_major": 2,
       "version_minor": 0
      },
      "text/plain": [
       "HBox(children=(FloatProgress(value=0.0, description='Training', layout=Layout(flex='2'), max=750.0, style=Prog…"
      ]
     },
     "metadata": {},
     "output_type": "display_data"
    },
    {
     "name": "stdout",
     "output_type": "stream",
     "text": [
      "Epoch 279: train=2.52631, val=6.15436, took 98.813 s\n"
     ]
    },
    {
     "data": {
      "application/vnd.jupyter.widget-view+json": {
       "model_id": "",
       "version_major": 2,
       "version_minor": 0
      },
      "text/plain": [
       "HBox(children=(FloatProgress(value=0.0, description='Training', layout=Layout(flex='2'), max=750.0, style=Prog…"
      ]
     },
     "metadata": {},
     "output_type": "display_data"
    },
    {
     "name": "stdout",
     "output_type": "stream",
     "text": [
      "Epoch 280: train=2.5117, val=4.87913, took 98.086 s\n"
     ]
    },
    {
     "data": {
      "application/vnd.jupyter.widget-view+json": {
       "model_id": "",
       "version_major": 2,
       "version_minor": 0
      },
      "text/plain": [
       "HBox(children=(FloatProgress(value=0.0, description='Training', layout=Layout(flex='2'), max=750.0, style=Prog…"
      ]
     },
     "metadata": {},
     "output_type": "display_data"
    },
    {
     "name": "stdout",
     "output_type": "stream",
     "text": [
      "Epoch 281: train=2.67832, val=4.65547, took 97.608 s\n"
     ]
    },
    {
     "data": {
      "application/vnd.jupyter.widget-view+json": {
       "model_id": "",
       "version_major": 2,
       "version_minor": 0
      },
      "text/plain": [
       "HBox(children=(FloatProgress(value=0.0, description='Training', layout=Layout(flex='2'), max=750.0, style=Prog…"
      ]
     },
     "metadata": {},
     "output_type": "display_data"
    },
    {
     "name": "stdout",
     "output_type": "stream",
     "text": [
      "Epoch 282: train=2.72098, val=5.13025, took 97.848 s\n"
     ]
    },
    {
     "data": {
      "application/vnd.jupyter.widget-view+json": {
       "model_id": "",
       "version_major": 2,
       "version_minor": 0
      },
      "text/plain": [
       "HBox(children=(FloatProgress(value=0.0, description='Training', layout=Layout(flex='2'), max=750.0, style=Prog…"
      ]
     },
     "metadata": {},
     "output_type": "display_data"
    },
    {
     "name": "stdout",
     "output_type": "stream",
     "text": [
      "Epoch 283: train=2.85098, val=5.14304, took 97.589 s\n"
     ]
    },
    {
     "data": {
      "application/vnd.jupyter.widget-view+json": {
       "model_id": "",
       "version_major": 2,
       "version_minor": 0
      },
      "text/plain": [
       "HBox(children=(FloatProgress(value=0.0, description='Training', layout=Layout(flex='2'), max=750.0, style=Prog…"
      ]
     },
     "metadata": {},
     "output_type": "display_data"
    },
    {
     "name": "stdout",
     "output_type": "stream",
     "text": [
      "Epoch 284: train=2.75051, val=5.52014, took 97.38 s\n"
     ]
    },
    {
     "data": {
      "application/vnd.jupyter.widget-view+json": {
       "model_id": "",
       "version_major": 2,
       "version_minor": 0
      },
      "text/plain": [
       "HBox(children=(FloatProgress(value=0.0, description='Training', layout=Layout(flex='2'), max=750.0, style=Prog…"
      ]
     },
     "metadata": {},
     "output_type": "display_data"
    },
    {
     "name": "stdout",
     "output_type": "stream",
     "text": [
      "Epoch 285: train=2.98078, val=5.36865, took 97.294 s\n"
     ]
    },
    {
     "data": {
      "application/vnd.jupyter.widget-view+json": {
       "model_id": "",
       "version_major": 2,
       "version_minor": 0
      },
      "text/plain": [
       "HBox(children=(FloatProgress(value=0.0, description='Training', layout=Layout(flex='2'), max=750.0, style=Prog…"
      ]
     },
     "metadata": {},
     "output_type": "display_data"
    },
    {
     "name": "stdout",
     "output_type": "stream",
     "text": [
      "Epoch 286: train=2.9155, val=5.15909, took 97.272 s\n"
     ]
    },
    {
     "data": {
      "application/vnd.jupyter.widget-view+json": {
       "model_id": "",
       "version_major": 2,
       "version_minor": 0
      },
      "text/plain": [
       "HBox(children=(FloatProgress(value=0.0, description='Training', layout=Layout(flex='2'), max=750.0, style=Prog…"
      ]
     },
     "metadata": {},
     "output_type": "display_data"
    },
    {
     "name": "stdout",
     "output_type": "stream",
     "text": [
      "Epoch 287: train=2.96174, val=5.48576, took 97.383 s\n"
     ]
    },
    {
     "data": {
      "application/vnd.jupyter.widget-view+json": {
       "model_id": "",
       "version_major": 2,
       "version_minor": 0
      },
      "text/plain": [
       "HBox(children=(FloatProgress(value=0.0, description='Training', layout=Layout(flex='2'), max=750.0, style=Prog…"
      ]
     },
     "metadata": {},
     "output_type": "display_data"
    },
    {
     "name": "stdout",
     "output_type": "stream",
     "text": [
      "Epoch 288: train=3.00702, val=6.48097, took 97.271 s\n"
     ]
    },
    {
     "data": {
      "application/vnd.jupyter.widget-view+json": {
       "model_id": "",
       "version_major": 2,
       "version_minor": 0
      },
      "text/plain": [
       "HBox(children=(FloatProgress(value=0.0, description='Training', layout=Layout(flex='2'), max=750.0, style=Prog…"
      ]
     },
     "metadata": {},
     "output_type": "display_data"
    },
    {
     "name": "stdout",
     "output_type": "stream",
     "text": [
      "Epoch 289: train=3.04001, val=6.23351, took 97.33 s\n"
     ]
    },
    {
     "data": {
      "application/vnd.jupyter.widget-view+json": {
       "model_id": "",
       "version_major": 2,
       "version_minor": 0
      },
      "text/plain": [
       "HBox(children=(FloatProgress(value=0.0, description='Training', layout=Layout(flex='2'), max=750.0, style=Prog…"
      ]
     },
     "metadata": {},
     "output_type": "display_data"
    },
    {
     "name": "stdout",
     "output_type": "stream",
     "text": [
      "Epoch 290: train=3.17306, val=5.95264, took 97.427 s\n"
     ]
    },
    {
     "data": {
      "application/vnd.jupyter.widget-view+json": {
       "model_id": "",
       "version_major": 2,
       "version_minor": 0
      },
      "text/plain": [
       "HBox(children=(FloatProgress(value=0.0, description='Training', layout=Layout(flex='2'), max=750.0, style=Prog…"
      ]
     },
     "metadata": {},
     "output_type": "display_data"
    },
    {
     "name": "stdout",
     "output_type": "stream",
     "text": [
      "Epoch 291: train=2.90355, val=5.32385, took 97.484 s\n"
     ]
    },
    {
     "data": {
      "application/vnd.jupyter.widget-view+json": {
       "model_id": "",
       "version_major": 2,
       "version_minor": 0
      },
      "text/plain": [
       "HBox(children=(FloatProgress(value=0.0, description='Training', layout=Layout(flex='2'), max=750.0, style=Prog…"
      ]
     },
     "metadata": {},
     "output_type": "display_data"
    },
    {
     "name": "stdout",
     "output_type": "stream",
     "text": [
      "Epoch 292: train=2.50038, val=4.58297, took 97.328 s\n"
     ]
    },
    {
     "data": {
      "application/vnd.jupyter.widget-view+json": {
       "model_id": "",
       "version_major": 2,
       "version_minor": 0
      },
      "text/plain": [
       "HBox(children=(FloatProgress(value=0.0, description='Training', layout=Layout(flex='2'), max=750.0, style=Prog…"
      ]
     },
     "metadata": {},
     "output_type": "display_data"
    },
    {
     "name": "stdout",
     "output_type": "stream",
     "text": [
      "Epoch 293: train=2.42906, val=4.53648, took 97.387 s\n"
     ]
    },
    {
     "data": {
      "application/vnd.jupyter.widget-view+json": {
       "model_id": "",
       "version_major": 2,
       "version_minor": 0
      },
      "text/plain": [
       "HBox(children=(FloatProgress(value=0.0, description='Training', layout=Layout(flex='2'), max=750.0, style=Prog…"
      ]
     },
     "metadata": {},
     "output_type": "display_data"
    },
    {
     "name": "stdout",
     "output_type": "stream",
     "text": [
      "Epoch 294: train=2.42833, val=4.62691, took 97.461 s\n"
     ]
    },
    {
     "data": {
      "application/vnd.jupyter.widget-view+json": {
       "model_id": "",
       "version_major": 2,
       "version_minor": 0
      },
      "text/plain": [
       "HBox(children=(FloatProgress(value=0.0, description='Training', layout=Layout(flex='2'), max=750.0, style=Prog…"
      ]
     },
     "metadata": {},
     "output_type": "display_data"
    },
    {
     "name": "stdout",
     "output_type": "stream",
     "text": [
      "Epoch 295: train=2.46021, val=4.54987, took 97.571 s\n"
     ]
    },
    {
     "data": {
      "application/vnd.jupyter.widget-view+json": {
       "model_id": "",
       "version_major": 2,
       "version_minor": 0
      },
      "text/plain": [
       "HBox(children=(FloatProgress(value=0.0, description='Training', layout=Layout(flex='2'), max=750.0, style=Prog…"
      ]
     },
     "metadata": {},
     "output_type": "display_data"
    },
    {
     "name": "stdout",
     "output_type": "stream",
     "text": [
      "Epoch 296: train=2.49708, val=4.98599, took 97.543 s\n"
     ]
    },
    {
     "data": {
      "application/vnd.jupyter.widget-view+json": {
       "model_id": "",
       "version_major": 2,
       "version_minor": 0
      },
      "text/plain": [
       "HBox(children=(FloatProgress(value=0.0, description='Training', layout=Layout(flex='2'), max=750.0, style=Prog…"
      ]
     },
     "metadata": {},
     "output_type": "display_data"
    },
    {
     "name": "stdout",
     "output_type": "stream",
     "text": [
      "Epoch 297: train=2.52479, val=4.55737, took 97.583 s\n"
     ]
    },
    {
     "data": {
      "application/vnd.jupyter.widget-view+json": {
       "model_id": "",
       "version_major": 2,
       "version_minor": 0
      },
      "text/plain": [
       "HBox(children=(FloatProgress(value=0.0, description='Training', layout=Layout(flex='2'), max=750.0, style=Prog…"
      ]
     },
     "metadata": {},
     "output_type": "display_data"
    },
    {
     "name": "stdout",
     "output_type": "stream",
     "text": [
      "Epoch 298: train=2.54811, val=4.68817, took 97.526 s\n"
     ]
    },
    {
     "data": {
      "application/vnd.jupyter.widget-view+json": {
       "model_id": "",
       "version_major": 2,
       "version_minor": 0
      },
      "text/plain": [
       "HBox(children=(FloatProgress(value=0.0, description='Training', layout=Layout(flex='2'), max=750.0, style=Prog…"
      ]
     },
     "metadata": {},
     "output_type": "display_data"
    },
    {
     "name": "stdout",
     "output_type": "stream",
     "text": [
      "Epoch 299: train=2.59592, val=4.77378, took 97.426 s\n",
      "\n"
     ]
    }
   ],
   "source": [
    "for result in trainNet(model, optimizer, loss,\n",
    "                        train_loader, val_loader,\n",
    "                        n_epochs, epoch_start=len(results),\n",
    "                        notebook=True):\n",
    "    \n",
    "    results = results.append(pd.Series(result._asdict()), ignore_index=True)\n",
    "    xs = results.index\n",
    "    \n",
    "    # Update the plot above\n",
    "    lines['train'].set_data(results.index,results.cost)\n",
    "    lines['val'].set_data(results.index,results.val)\n",
    "    \n",
    "    #filter first cost epoch (can be really large)\n",
    "    max_cost = max(max(results.cost if len(results.cost)<2 else results.cost[1:]), max(results.val))\n",
    "    min_cost = min(min(results.cost), min(results.val))\n",
    "    \n",
    "    # The plot limits need updating too\n",
    "    \n",
    "    \n",
    "    \n",
    "    ax.set_ylim(min_cost*.9, max_cost*1.1)  \n",
    "    ax.set_xlim(-.5, len(results.cost) - .5)\n",
    "\n",
    "    \n",
    "    # Redraw the figure\n",
    "    fig.canvas.draw()\n",
    "\n",
    "    # Save each model state dictionary\n",
    "    torch.save(model.state_dict(), output / f'{name}_{result.epoch}.pyt')"
   ]
  },
  {
   "cell_type": "markdown",
   "metadata": {},
   "source": [
    "Go ahead and save the final model (even though it was also saved above):"
   ]
  },
  {
   "cell_type": "code",
   "execution_count": 18,
   "metadata": {},
   "outputs": [],
   "source": [
    "torch.save(model.state_dict(), output / f'{name}_final.pyt')"
   ]
  },
  {
   "cell_type": "markdown",
   "metadata": {},
   "source": [
    "Save the output results:"
   ]
  },
  {
   "cell_type": "code",
   "execution_count": 19,
   "metadata": {},
   "outputs": [],
   "source": [
    "results.to_hdf(f'{name}_stats.hdf5', 'results')"
   ]
  },
  {
   "cell_type": "markdown",
   "metadata": {},
   "source": [
    "Save the plot above:"
   ]
  },
  {
   "cell_type": "code",
   "execution_count": 20,
   "metadata": {},
   "outputs": [
    {
     "data": {
      "application/javascript": [
       "/* Put everything inside the global mpl namespace */\n",
       "window.mpl = {};\n",
       "\n",
       "\n",
       "mpl.get_websocket_type = function() {\n",
       "    if (typeof(WebSocket) !== 'undefined') {\n",
       "        return WebSocket;\n",
       "    } else if (typeof(MozWebSocket) !== 'undefined') {\n",
       "        return MozWebSocket;\n",
       "    } else {\n",
       "        alert('Your browser does not have WebSocket support. ' +\n",
       "              'Please try Chrome, Safari or Firefox ≥ 6. ' +\n",
       "              'Firefox 4 and 5 are also supported but you ' +\n",
       "              'have to enable WebSockets in about:config.');\n",
       "    };\n",
       "}\n",
       "\n",
       "mpl.figure = function(figure_id, websocket, ondownload, parent_element) {\n",
       "    this.id = figure_id;\n",
       "\n",
       "    this.ws = websocket;\n",
       "\n",
       "    this.supports_binary = (this.ws.binaryType != undefined);\n",
       "\n",
       "    if (!this.supports_binary) {\n",
       "        var warnings = document.getElementById(\"mpl-warnings\");\n",
       "        if (warnings) {\n",
       "            warnings.style.display = 'block';\n",
       "            warnings.textContent = (\n",
       "                \"This browser does not support binary websocket messages. \" +\n",
       "                    \"Performance may be slow.\");\n",
       "        }\n",
       "    }\n",
       "\n",
       "    this.imageObj = new Image();\n",
       "\n",
       "    this.context = undefined;\n",
       "    this.message = undefined;\n",
       "    this.canvas = undefined;\n",
       "    this.rubberband_canvas = undefined;\n",
       "    this.rubberband_context = undefined;\n",
       "    this.format_dropdown = undefined;\n",
       "\n",
       "    this.image_mode = 'full';\n",
       "\n",
       "    this.root = $('<div/>');\n",
       "    this._root_extra_style(this.root)\n",
       "    this.root.attr('style', 'display: inline-block');\n",
       "\n",
       "    $(parent_element).append(this.root);\n",
       "\n",
       "    this._init_header(this);\n",
       "    this._init_canvas(this);\n",
       "    this._init_toolbar(this);\n",
       "\n",
       "    var fig = this;\n",
       "\n",
       "    this.waiting = false;\n",
       "\n",
       "    this.ws.onopen =  function () {\n",
       "            fig.send_message(\"supports_binary\", {value: fig.supports_binary});\n",
       "            fig.send_message(\"send_image_mode\", {});\n",
       "            if (mpl.ratio != 1) {\n",
       "                fig.send_message(\"set_dpi_ratio\", {'dpi_ratio': mpl.ratio});\n",
       "            }\n",
       "            fig.send_message(\"refresh\", {});\n",
       "        }\n",
       "\n",
       "    this.imageObj.onload = function() {\n",
       "            if (fig.image_mode == 'full') {\n",
       "                // Full images could contain transparency (where diff images\n",
       "                // almost always do), so we need to clear the canvas so that\n",
       "                // there is no ghosting.\n",
       "                fig.context.clearRect(0, 0, fig.canvas.width, fig.canvas.height);\n",
       "            }\n",
       "            fig.context.drawImage(fig.imageObj, 0, 0);\n",
       "        };\n",
       "\n",
       "    this.imageObj.onunload = function() {\n",
       "        fig.ws.close();\n",
       "    }\n",
       "\n",
       "    this.ws.onmessage = this._make_on_message_function(this);\n",
       "\n",
       "    this.ondownload = ondownload;\n",
       "}\n",
       "\n",
       "mpl.figure.prototype._init_header = function() {\n",
       "    var titlebar = $(\n",
       "        '<div class=\"ui-dialog-titlebar ui-widget-header ui-corner-all ' +\n",
       "        'ui-helper-clearfix\"/>');\n",
       "    var titletext = $(\n",
       "        '<div class=\"ui-dialog-title\" style=\"width: 100%; ' +\n",
       "        'text-align: center; padding: 3px;\"/>');\n",
       "    titlebar.append(titletext)\n",
       "    this.root.append(titlebar);\n",
       "    this.header = titletext[0];\n",
       "}\n",
       "\n",
       "\n",
       "\n",
       "mpl.figure.prototype._canvas_extra_style = function(canvas_div) {\n",
       "\n",
       "}\n",
       "\n",
       "\n",
       "mpl.figure.prototype._root_extra_style = function(canvas_div) {\n",
       "\n",
       "}\n",
       "\n",
       "mpl.figure.prototype._init_canvas = function() {\n",
       "    var fig = this;\n",
       "\n",
       "    var canvas_div = $('<div/>');\n",
       "\n",
       "    canvas_div.attr('style', 'position: relative; clear: both; outline: 0');\n",
       "\n",
       "    function canvas_keyboard_event(event) {\n",
       "        return fig.key_event(event, event['data']);\n",
       "    }\n",
       "\n",
       "    canvas_div.keydown('key_press', canvas_keyboard_event);\n",
       "    canvas_div.keyup('key_release', canvas_keyboard_event);\n",
       "    this.canvas_div = canvas_div\n",
       "    this._canvas_extra_style(canvas_div)\n",
       "    this.root.append(canvas_div);\n",
       "\n",
       "    var canvas = $('<canvas/>');\n",
       "    canvas.addClass('mpl-canvas');\n",
       "    canvas.attr('style', \"left: 0; top: 0; z-index: 0; outline: 0\")\n",
       "\n",
       "    this.canvas = canvas[0];\n",
       "    this.context = canvas[0].getContext(\"2d\");\n",
       "\n",
       "    var backingStore = this.context.backingStorePixelRatio ||\n",
       "\tthis.context.webkitBackingStorePixelRatio ||\n",
       "\tthis.context.mozBackingStorePixelRatio ||\n",
       "\tthis.context.msBackingStorePixelRatio ||\n",
       "\tthis.context.oBackingStorePixelRatio ||\n",
       "\tthis.context.backingStorePixelRatio || 1;\n",
       "\n",
       "    mpl.ratio = (window.devicePixelRatio || 1) / backingStore;\n",
       "\n",
       "    var rubberband = $('<canvas/>');\n",
       "    rubberband.attr('style', \"position: absolute; left: 0; top: 0; z-index: 1;\")\n",
       "\n",
       "    var pass_mouse_events = true;\n",
       "\n",
       "    canvas_div.resizable({\n",
       "        start: function(event, ui) {\n",
       "            pass_mouse_events = false;\n",
       "        },\n",
       "        resize: function(event, ui) {\n",
       "            fig.request_resize(ui.size.width, ui.size.height);\n",
       "        },\n",
       "        stop: function(event, ui) {\n",
       "            pass_mouse_events = true;\n",
       "            fig.request_resize(ui.size.width, ui.size.height);\n",
       "        },\n",
       "    });\n",
       "\n",
       "    function mouse_event_fn(event) {\n",
       "        if (pass_mouse_events)\n",
       "            return fig.mouse_event(event, event['data']);\n",
       "    }\n",
       "\n",
       "    rubberband.mousedown('button_press', mouse_event_fn);\n",
       "    rubberband.mouseup('button_release', mouse_event_fn);\n",
       "    // Throttle sequential mouse events to 1 every 20ms.\n",
       "    rubberband.mousemove('motion_notify', mouse_event_fn);\n",
       "\n",
       "    rubberband.mouseenter('figure_enter', mouse_event_fn);\n",
       "    rubberband.mouseleave('figure_leave', mouse_event_fn);\n",
       "\n",
       "    canvas_div.on(\"wheel\", function (event) {\n",
       "        event = event.originalEvent;\n",
       "        event['data'] = 'scroll'\n",
       "        if (event.deltaY < 0) {\n",
       "            event.step = 1;\n",
       "        } else {\n",
       "            event.step = -1;\n",
       "        }\n",
       "        mouse_event_fn(event);\n",
       "    });\n",
       "\n",
       "    canvas_div.append(canvas);\n",
       "    canvas_div.append(rubberband);\n",
       "\n",
       "    this.rubberband = rubberband;\n",
       "    this.rubberband_canvas = rubberband[0];\n",
       "    this.rubberband_context = rubberband[0].getContext(\"2d\");\n",
       "    this.rubberband_context.strokeStyle = \"#000000\";\n",
       "\n",
       "    this._resize_canvas = function(width, height) {\n",
       "        // Keep the size of the canvas, canvas container, and rubber band\n",
       "        // canvas in synch.\n",
       "        canvas_div.css('width', width)\n",
       "        canvas_div.css('height', height)\n",
       "\n",
       "        canvas.attr('width', width * mpl.ratio);\n",
       "        canvas.attr('height', height * mpl.ratio);\n",
       "        canvas.attr('style', 'width: ' + width + 'px; height: ' + height + 'px;');\n",
       "\n",
       "        rubberband.attr('width', width);\n",
       "        rubberband.attr('height', height);\n",
       "    }\n",
       "\n",
       "    // Set the figure to an initial 600x600px, this will subsequently be updated\n",
       "    // upon first draw.\n",
       "    this._resize_canvas(600, 600);\n",
       "\n",
       "    // Disable right mouse context menu.\n",
       "    $(this.rubberband_canvas).bind(\"contextmenu\",function(e){\n",
       "        return false;\n",
       "    });\n",
       "\n",
       "    function set_focus () {\n",
       "        canvas.focus();\n",
       "        canvas_div.focus();\n",
       "    }\n",
       "\n",
       "    window.setTimeout(set_focus, 100);\n",
       "}\n",
       "\n",
       "mpl.figure.prototype._init_toolbar = function() {\n",
       "    var fig = this;\n",
       "\n",
       "    var nav_element = $('<div/>');\n",
       "    nav_element.attr('style', 'width: 100%');\n",
       "    this.root.append(nav_element);\n",
       "\n",
       "    // Define a callback function for later on.\n",
       "    function toolbar_event(event) {\n",
       "        return fig.toolbar_button_onclick(event['data']);\n",
       "    }\n",
       "    function toolbar_mouse_event(event) {\n",
       "        return fig.toolbar_button_onmouseover(event['data']);\n",
       "    }\n",
       "\n",
       "    for(var toolbar_ind in mpl.toolbar_items) {\n",
       "        var name = mpl.toolbar_items[toolbar_ind][0];\n",
       "        var tooltip = mpl.toolbar_items[toolbar_ind][1];\n",
       "        var image = mpl.toolbar_items[toolbar_ind][2];\n",
       "        var method_name = mpl.toolbar_items[toolbar_ind][3];\n",
       "\n",
       "        if (!name) {\n",
       "            // put a spacer in here.\n",
       "            continue;\n",
       "        }\n",
       "        var button = $('<button/>');\n",
       "        button.addClass('ui-button ui-widget ui-state-default ui-corner-all ' +\n",
       "                        'ui-button-icon-only');\n",
       "        button.attr('role', 'button');\n",
       "        button.attr('aria-disabled', 'false');\n",
       "        button.click(method_name, toolbar_event);\n",
       "        button.mouseover(tooltip, toolbar_mouse_event);\n",
       "\n",
       "        var icon_img = $('<span/>');\n",
       "        icon_img.addClass('ui-button-icon-primary ui-icon');\n",
       "        icon_img.addClass(image);\n",
       "        icon_img.addClass('ui-corner-all');\n",
       "\n",
       "        var tooltip_span = $('<span/>');\n",
       "        tooltip_span.addClass('ui-button-text');\n",
       "        tooltip_span.html(tooltip);\n",
       "\n",
       "        button.append(icon_img);\n",
       "        button.append(tooltip_span);\n",
       "\n",
       "        nav_element.append(button);\n",
       "    }\n",
       "\n",
       "    var fmt_picker_span = $('<span/>');\n",
       "\n",
       "    var fmt_picker = $('<select/>');\n",
       "    fmt_picker.addClass('mpl-toolbar-option ui-widget ui-widget-content');\n",
       "    fmt_picker_span.append(fmt_picker);\n",
       "    nav_element.append(fmt_picker_span);\n",
       "    this.format_dropdown = fmt_picker[0];\n",
       "\n",
       "    for (var ind in mpl.extensions) {\n",
       "        var fmt = mpl.extensions[ind];\n",
       "        var option = $(\n",
       "            '<option/>', {selected: fmt === mpl.default_extension}).html(fmt);\n",
       "        fmt_picker.append(option);\n",
       "    }\n",
       "\n",
       "    // Add hover states to the ui-buttons\n",
       "    $( \".ui-button\" ).hover(\n",
       "        function() { $(this).addClass(\"ui-state-hover\");},\n",
       "        function() { $(this).removeClass(\"ui-state-hover\");}\n",
       "    );\n",
       "\n",
       "    var status_bar = $('<span class=\"mpl-message\"/>');\n",
       "    nav_element.append(status_bar);\n",
       "    this.message = status_bar[0];\n",
       "}\n",
       "\n",
       "mpl.figure.prototype.request_resize = function(x_pixels, y_pixels) {\n",
       "    // Request matplotlib to resize the figure. Matplotlib will then trigger a resize in the client,\n",
       "    // which will in turn request a refresh of the image.\n",
       "    this.send_message('resize', {'width': x_pixels, 'height': y_pixels});\n",
       "}\n",
       "\n",
       "mpl.figure.prototype.send_message = function(type, properties) {\n",
       "    properties['type'] = type;\n",
       "    properties['figure_id'] = this.id;\n",
       "    this.ws.send(JSON.stringify(properties));\n",
       "}\n",
       "\n",
       "mpl.figure.prototype.send_draw_message = function() {\n",
       "    if (!this.waiting) {\n",
       "        this.waiting = true;\n",
       "        this.ws.send(JSON.stringify({type: \"draw\", figure_id: this.id}));\n",
       "    }\n",
       "}\n",
       "\n",
       "\n",
       "mpl.figure.prototype.handle_save = function(fig, msg) {\n",
       "    var format_dropdown = fig.format_dropdown;\n",
       "    var format = format_dropdown.options[format_dropdown.selectedIndex].value;\n",
       "    fig.ondownload(fig, format);\n",
       "}\n",
       "\n",
       "\n",
       "mpl.figure.prototype.handle_resize = function(fig, msg) {\n",
       "    var size = msg['size'];\n",
       "    if (size[0] != fig.canvas.width || size[1] != fig.canvas.height) {\n",
       "        fig._resize_canvas(size[0], size[1]);\n",
       "        fig.send_message(\"refresh\", {});\n",
       "    };\n",
       "}\n",
       "\n",
       "mpl.figure.prototype.handle_rubberband = function(fig, msg) {\n",
       "    var x0 = msg['x0'] / mpl.ratio;\n",
       "    var y0 = (fig.canvas.height - msg['y0']) / mpl.ratio;\n",
       "    var x1 = msg['x1'] / mpl.ratio;\n",
       "    var y1 = (fig.canvas.height - msg['y1']) / mpl.ratio;\n",
       "    x0 = Math.floor(x0) + 0.5;\n",
       "    y0 = Math.floor(y0) + 0.5;\n",
       "    x1 = Math.floor(x1) + 0.5;\n",
       "    y1 = Math.floor(y1) + 0.5;\n",
       "    var min_x = Math.min(x0, x1);\n",
       "    var min_y = Math.min(y0, y1);\n",
       "    var width = Math.abs(x1 - x0);\n",
       "    var height = Math.abs(y1 - y0);\n",
       "\n",
       "    fig.rubberband_context.clearRect(\n",
       "        0, 0, fig.canvas.width / mpl.ratio, fig.canvas.height / mpl.ratio);\n",
       "\n",
       "    fig.rubberband_context.strokeRect(min_x, min_y, width, height);\n",
       "}\n",
       "\n",
       "mpl.figure.prototype.handle_figure_label = function(fig, msg) {\n",
       "    // Updates the figure title.\n",
       "    fig.header.textContent = msg['label'];\n",
       "}\n",
       "\n",
       "mpl.figure.prototype.handle_cursor = function(fig, msg) {\n",
       "    var cursor = msg['cursor'];\n",
       "    switch(cursor)\n",
       "    {\n",
       "    case 0:\n",
       "        cursor = 'pointer';\n",
       "        break;\n",
       "    case 1:\n",
       "        cursor = 'default';\n",
       "        break;\n",
       "    case 2:\n",
       "        cursor = 'crosshair';\n",
       "        break;\n",
       "    case 3:\n",
       "        cursor = 'move';\n",
       "        break;\n",
       "    }\n",
       "    fig.rubberband_canvas.style.cursor = cursor;\n",
       "}\n",
       "\n",
       "mpl.figure.prototype.handle_message = function(fig, msg) {\n",
       "    fig.message.textContent = msg['message'];\n",
       "}\n",
       "\n",
       "mpl.figure.prototype.handle_draw = function(fig, msg) {\n",
       "    // Request the server to send over a new figure.\n",
       "    fig.send_draw_message();\n",
       "}\n",
       "\n",
       "mpl.figure.prototype.handle_image_mode = function(fig, msg) {\n",
       "    fig.image_mode = msg['mode'];\n",
       "}\n",
       "\n",
       "mpl.figure.prototype.updated_canvas_event = function() {\n",
       "    // Called whenever the canvas gets updated.\n",
       "    this.send_message(\"ack\", {});\n",
       "}\n",
       "\n",
       "// A function to construct a web socket function for onmessage handling.\n",
       "// Called in the figure constructor.\n",
       "mpl.figure.prototype._make_on_message_function = function(fig) {\n",
       "    return function socket_on_message(evt) {\n",
       "        if (evt.data instanceof Blob) {\n",
       "            /* FIXME: We get \"Resource interpreted as Image but\n",
       "             * transferred with MIME type text/plain:\" errors on\n",
       "             * Chrome.  But how to set the MIME type?  It doesn't seem\n",
       "             * to be part of the websocket stream */\n",
       "            evt.data.type = \"image/png\";\n",
       "\n",
       "            /* Free the memory for the previous frames */\n",
       "            if (fig.imageObj.src) {\n",
       "                (window.URL || window.webkitURL).revokeObjectURL(\n",
       "                    fig.imageObj.src);\n",
       "            }\n",
       "\n",
       "            fig.imageObj.src = (window.URL || window.webkitURL).createObjectURL(\n",
       "                evt.data);\n",
       "            fig.updated_canvas_event();\n",
       "            fig.waiting = false;\n",
       "            return;\n",
       "        }\n",
       "        else if (typeof evt.data === 'string' && evt.data.slice(0, 21) == \"data:image/png;base64\") {\n",
       "            fig.imageObj.src = evt.data;\n",
       "            fig.updated_canvas_event();\n",
       "            fig.waiting = false;\n",
       "            return;\n",
       "        }\n",
       "\n",
       "        var msg = JSON.parse(evt.data);\n",
       "        var msg_type = msg['type'];\n",
       "\n",
       "        // Call the  \"handle_{type}\" callback, which takes\n",
       "        // the figure and JSON message as its only arguments.\n",
       "        try {\n",
       "            var callback = fig[\"handle_\" + msg_type];\n",
       "        } catch (e) {\n",
       "            console.log(\"No handler for the '\" + msg_type + \"' message type: \", msg);\n",
       "            return;\n",
       "        }\n",
       "\n",
       "        if (callback) {\n",
       "            try {\n",
       "                // console.log(\"Handling '\" + msg_type + \"' message: \", msg);\n",
       "                callback(fig, msg);\n",
       "            } catch (e) {\n",
       "                console.log(\"Exception inside the 'handler_\" + msg_type + \"' callback:\", e, e.stack, msg);\n",
       "            }\n",
       "        }\n",
       "    };\n",
       "}\n",
       "\n",
       "// from http://stackoverflow.com/questions/1114465/getting-mouse-location-in-canvas\n",
       "mpl.findpos = function(e) {\n",
       "    //this section is from http://www.quirksmode.org/js/events_properties.html\n",
       "    var targ;\n",
       "    if (!e)\n",
       "        e = window.event;\n",
       "    if (e.target)\n",
       "        targ = e.target;\n",
       "    else if (e.srcElement)\n",
       "        targ = e.srcElement;\n",
       "    if (targ.nodeType == 3) // defeat Safari bug\n",
       "        targ = targ.parentNode;\n",
       "\n",
       "    // jQuery normalizes the pageX and pageY\n",
       "    // pageX,Y are the mouse positions relative to the document\n",
       "    // offset() returns the position of the element relative to the document\n",
       "    var x = e.pageX - $(targ).offset().left;\n",
       "    var y = e.pageY - $(targ).offset().top;\n",
       "\n",
       "    return {\"x\": x, \"y\": y};\n",
       "};\n",
       "\n",
       "/*\n",
       " * return a copy of an object with only non-object keys\n",
       " * we need this to avoid circular references\n",
       " * http://stackoverflow.com/a/24161582/3208463\n",
       " */\n",
       "function simpleKeys (original) {\n",
       "  return Object.keys(original).reduce(function (obj, key) {\n",
       "    if (typeof original[key] !== 'object')\n",
       "        obj[key] = original[key]\n",
       "    return obj;\n",
       "  }, {});\n",
       "}\n",
       "\n",
       "mpl.figure.prototype.mouse_event = function(event, name) {\n",
       "    var canvas_pos = mpl.findpos(event)\n",
       "\n",
       "    if (name === 'button_press')\n",
       "    {\n",
       "        this.canvas.focus();\n",
       "        this.canvas_div.focus();\n",
       "    }\n",
       "\n",
       "    var x = canvas_pos.x * mpl.ratio;\n",
       "    var y = canvas_pos.y * mpl.ratio;\n",
       "\n",
       "    this.send_message(name, {x: x, y: y, button: event.button,\n",
       "                             step: event.step,\n",
       "                             guiEvent: simpleKeys(event)});\n",
       "\n",
       "    /* This prevents the web browser from automatically changing to\n",
       "     * the text insertion cursor when the button is pressed.  We want\n",
       "     * to control all of the cursor setting manually through the\n",
       "     * 'cursor' event from matplotlib */\n",
       "    event.preventDefault();\n",
       "    return false;\n",
       "}\n",
       "\n",
       "mpl.figure.prototype._key_event_extra = function(event, name) {\n",
       "    // Handle any extra behaviour associated with a key event\n",
       "}\n",
       "\n",
       "mpl.figure.prototype.key_event = function(event, name) {\n",
       "\n",
       "    // Prevent repeat events\n",
       "    if (name == 'key_press')\n",
       "    {\n",
       "        if (event.which === this._key)\n",
       "            return;\n",
       "        else\n",
       "            this._key = event.which;\n",
       "    }\n",
       "    if (name == 'key_release')\n",
       "        this._key = null;\n",
       "\n",
       "    var value = '';\n",
       "    if (event.ctrlKey && event.which != 17)\n",
       "        value += \"ctrl+\";\n",
       "    if (event.altKey && event.which != 18)\n",
       "        value += \"alt+\";\n",
       "    if (event.shiftKey && event.which != 16)\n",
       "        value += \"shift+\";\n",
       "\n",
       "    value += 'k';\n",
       "    value += event.which.toString();\n",
       "\n",
       "    this._key_event_extra(event, name);\n",
       "\n",
       "    this.send_message(name, {key: value,\n",
       "                             guiEvent: simpleKeys(event)});\n",
       "    return false;\n",
       "}\n",
       "\n",
       "mpl.figure.prototype.toolbar_button_onclick = function(name) {\n",
       "    if (name == 'download') {\n",
       "        this.handle_save(this, null);\n",
       "    } else {\n",
       "        this.send_message(\"toolbar_button\", {name: name});\n",
       "    }\n",
       "};\n",
       "\n",
       "mpl.figure.prototype.toolbar_button_onmouseover = function(tooltip) {\n",
       "    this.message.textContent = tooltip;\n",
       "};\n",
       "mpl.toolbar_items = [[\"Home\", \"Reset original view\", \"fa fa-home icon-home\", \"home\"], [\"Back\", \"Back to previous view\", \"fa fa-arrow-left icon-arrow-left\", \"back\"], [\"Forward\", \"Forward to next view\", \"fa fa-arrow-right icon-arrow-right\", \"forward\"], [\"\", \"\", \"\", \"\"], [\"Pan\", \"Pan axes with left mouse, zoom with right\", \"fa fa-arrows icon-move\", \"pan\"], [\"Zoom\", \"Zoom to rectangle\", \"fa fa-square-o icon-check-empty\", \"zoom\"], [\"\", \"\", \"\", \"\"], [\"Download\", \"Download plot\", \"fa fa-floppy-o icon-save\", \"download\"]];\n",
       "\n",
       "mpl.extensions = [\"eps\", \"jpeg\", \"pdf\", \"png\", \"ps\", \"raw\", \"svg\", \"tif\"];\n",
       "\n",
       "mpl.default_extension = \"png\";var comm_websocket_adapter = function(comm) {\n",
       "    // Create a \"websocket\"-like object which calls the given IPython comm\n",
       "    // object with the appropriate methods. Currently this is a non binary\n",
       "    // socket, so there is still some room for performance tuning.\n",
       "    var ws = {};\n",
       "\n",
       "    ws.close = function() {\n",
       "        comm.close()\n",
       "    };\n",
       "    ws.send = function(m) {\n",
       "        //console.log('sending', m);\n",
       "        comm.send(m);\n",
       "    };\n",
       "    // Register the callback with on_msg.\n",
       "    comm.on_msg(function(msg) {\n",
       "        //console.log('receiving', msg['content']['data'], msg);\n",
       "        // Pass the mpl event to the overridden (by mpl) onmessage function.\n",
       "        ws.onmessage(msg['content']['data'])\n",
       "    });\n",
       "    return ws;\n",
       "}\n",
       "\n",
       "mpl.mpl_figure_comm = function(comm, msg) {\n",
       "    // This is the function which gets called when the mpl process\n",
       "    // starts-up an IPython Comm through the \"matplotlib\" channel.\n",
       "\n",
       "    var id = msg.content.data.id;\n",
       "    // Get hold of the div created by the display call when the Comm\n",
       "    // socket was opened in Python.\n",
       "    var element = $(\"#\" + id);\n",
       "    var ws_proxy = comm_websocket_adapter(comm)\n",
       "\n",
       "    function ondownload(figure, format) {\n",
       "        window.open(figure.imageObj.src);\n",
       "    }\n",
       "\n",
       "    var fig = new mpl.figure(id, ws_proxy,\n",
       "                           ondownload,\n",
       "                           element.get(0));\n",
       "\n",
       "    // Call onopen now - mpl needs it, as it is assuming we've passed it a real\n",
       "    // web socket which is closed, not our websocket->open comm proxy.\n",
       "    ws_proxy.onopen();\n",
       "\n",
       "    fig.parent_element = element.get(0);\n",
       "    fig.cell_info = mpl.find_output_cell(\"<div id='\" + id + \"'></div>\");\n",
       "    if (!fig.cell_info) {\n",
       "        console.error(\"Failed to find cell for figure\", id, fig);\n",
       "        return;\n",
       "    }\n",
       "\n",
       "    var output_index = fig.cell_info[2]\n",
       "    var cell = fig.cell_info[0];\n",
       "\n",
       "};\n",
       "\n",
       "mpl.figure.prototype.handle_close = function(fig, msg) {\n",
       "    var width = fig.canvas.width/mpl.ratio\n",
       "    fig.root.unbind('remove')\n",
       "\n",
       "    // Update the output cell to use the data from the current canvas.\n",
       "    fig.push_to_output();\n",
       "    var dataURL = fig.canvas.toDataURL();\n",
       "    // Re-enable the keyboard manager in IPython - without this line, in FF,\n",
       "    // the notebook keyboard shortcuts fail.\n",
       "    IPython.keyboard_manager.enable()\n",
       "    $(fig.parent_element).html('<img src=\"' + dataURL + '\" width=\"' + width + '\">');\n",
       "    fig.close_ws(fig, msg);\n",
       "}\n",
       "\n",
       "mpl.figure.prototype.close_ws = function(fig, msg){\n",
       "    fig.send_message('closing', msg);\n",
       "    // fig.ws.close()\n",
       "}\n",
       "\n",
       "mpl.figure.prototype.push_to_output = function(remove_interactive) {\n",
       "    // Turn the data on the canvas into data in the output cell.\n",
       "    var width = this.canvas.width/mpl.ratio\n",
       "    var dataURL = this.canvas.toDataURL();\n",
       "    this.cell_info[1]['text/html'] = '<img src=\"' + dataURL + '\" width=\"' + width + '\">';\n",
       "}\n",
       "\n",
       "mpl.figure.prototype.updated_canvas_event = function() {\n",
       "    // Tell IPython that the notebook contents must change.\n",
       "    IPython.notebook.set_dirty(true);\n",
       "    this.send_message(\"ack\", {});\n",
       "    var fig = this;\n",
       "    // Wait a second, then push the new image to the DOM so\n",
       "    // that it is saved nicely (might be nice to debounce this).\n",
       "    setTimeout(function () { fig.push_to_output() }, 1000);\n",
       "}\n",
       "\n",
       "mpl.figure.prototype._init_toolbar = function() {\n",
       "    var fig = this;\n",
       "\n",
       "    var nav_element = $('<div/>');\n",
       "    nav_element.attr('style', 'width: 100%');\n",
       "    this.root.append(nav_element);\n",
       "\n",
       "    // Define a callback function for later on.\n",
       "    function toolbar_event(event) {\n",
       "        return fig.toolbar_button_onclick(event['data']);\n",
       "    }\n",
       "    function toolbar_mouse_event(event) {\n",
       "        return fig.toolbar_button_onmouseover(event['data']);\n",
       "    }\n",
       "\n",
       "    for(var toolbar_ind in mpl.toolbar_items){\n",
       "        var name = mpl.toolbar_items[toolbar_ind][0];\n",
       "        var tooltip = mpl.toolbar_items[toolbar_ind][1];\n",
       "        var image = mpl.toolbar_items[toolbar_ind][2];\n",
       "        var method_name = mpl.toolbar_items[toolbar_ind][3];\n",
       "\n",
       "        if (!name) { continue; };\n",
       "\n",
       "        var button = $('<button class=\"btn btn-default\" href=\"#\" title=\"' + name + '\"><i class=\"fa ' + image + ' fa-lg\"></i></button>');\n",
       "        button.click(method_name, toolbar_event);\n",
       "        button.mouseover(tooltip, toolbar_mouse_event);\n",
       "        nav_element.append(button);\n",
       "    }\n",
       "\n",
       "    // Add the status bar.\n",
       "    var status_bar = $('<span class=\"mpl-message\" style=\"text-align:right; float: right;\"/>');\n",
       "    nav_element.append(status_bar);\n",
       "    this.message = status_bar[0];\n",
       "\n",
       "    // Add the close button to the window.\n",
       "    var buttongrp = $('<div class=\"btn-group inline pull-right\"></div>');\n",
       "    var button = $('<button class=\"btn btn-mini btn-primary\" href=\"#\" title=\"Stop Interaction\"><i class=\"fa fa-power-off icon-remove icon-large\"></i></button>');\n",
       "    button.click(function (evt) { fig.handle_close(fig, {}); } );\n",
       "    button.mouseover('Stop Interaction', toolbar_mouse_event);\n",
       "    buttongrp.append(button);\n",
       "    var titlebar = this.root.find($('.ui-dialog-titlebar'));\n",
       "    titlebar.prepend(buttongrp);\n",
       "}\n",
       "\n",
       "mpl.figure.prototype._root_extra_style = function(el){\n",
       "    var fig = this\n",
       "    el.on(\"remove\", function(){\n",
       "\tfig.close_ws(fig, {});\n",
       "    });\n",
       "}\n",
       "\n",
       "mpl.figure.prototype._canvas_extra_style = function(el){\n",
       "    // this is important to make the div 'focusable\n",
       "    el.attr('tabindex', 0)\n",
       "    // reach out to IPython and tell the keyboard manager to turn it's self\n",
       "    // off when our div gets focus\n",
       "\n",
       "    // location in version 3\n",
       "    if (IPython.notebook.keyboard_manager) {\n",
       "        IPython.notebook.keyboard_manager.register_events(el);\n",
       "    }\n",
       "    else {\n",
       "        // location in version 2\n",
       "        IPython.keyboard_manager.register_events(el);\n",
       "    }\n",
       "\n",
       "}\n",
       "\n",
       "mpl.figure.prototype._key_event_extra = function(event, name) {\n",
       "    var manager = IPython.notebook.keyboard_manager;\n",
       "    if (!manager)\n",
       "        manager = IPython.keyboard_manager;\n",
       "\n",
       "    // Check for shift+enter\n",
       "    if (event.shiftKey && event.which == 13) {\n",
       "        this.canvas_div.blur();\n",
       "        // select the cell after this one\n",
       "        var index = IPython.notebook.find_cell_index(this.cell_info[0]);\n",
       "        IPython.notebook.select(index + 1);\n",
       "    }\n",
       "}\n",
       "\n",
       "mpl.figure.prototype.handle_save = function(fig, msg) {\n",
       "    fig.ondownload(fig, null);\n",
       "}\n",
       "\n",
       "\n",
       "mpl.find_output_cell = function(html_output) {\n",
       "    // Return the cell and output element which can be found *uniquely* in the notebook.\n",
       "    // Note - this is a bit hacky, but it is done because the \"notebook_saving.Notebook\"\n",
       "    // IPython event is triggered only after the cells have been serialised, which for\n",
       "    // our purposes (turning an active figure into a static one), is too late.\n",
       "    var cells = IPython.notebook.get_cells();\n",
       "    var ncells = cells.length;\n",
       "    for (var i=0; i<ncells; i++) {\n",
       "        var cell = cells[i];\n",
       "        if (cell.cell_type === 'code'){\n",
       "            for (var j=0; j<cell.output_area.outputs.length; j++) {\n",
       "                var data = cell.output_area.outputs[j];\n",
       "                if (data.data) {\n",
       "                    // IPython >= 3 moved mimebundle to data attribute of output\n",
       "                    data = data.data;\n",
       "                }\n",
       "                if (data['text/html'] == html_output) {\n",
       "                    return [cell, data, j];\n",
       "                }\n",
       "            }\n",
       "        }\n",
       "    }\n",
       "}\n",
       "\n",
       "// Register the function which deals with the matplotlib target/channel.\n",
       "// The kernel may be null if the page has been refreshed.\n",
       "if (IPython.notebook.kernel != null) {\n",
       "    IPython.notebook.kernel.comm_manager.register_target('matplotlib', mpl.mpl_figure_comm);\n",
       "}\n"
      ],
      "text/plain": [
       "<IPython.core.display.Javascript object>"
      ]
     },
     "metadata": {},
     "output_type": "display_data"
    },
    {
     "data": {
      "text/html": [
       "<img src=\"data:image/png;base64,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\" width=\"1000\">"
      ],
      "text/plain": [
       "<IPython.core.display.HTML object>"
      ]
     },
     "metadata": {},
     "output_type": "display_data"
    }
   ],
   "source": [
    "dual_train_plots(results.index,\n",
    "                 results.cost, results.val,\n",
    "                 results.cost, results.val)\n",
    "plt.tight_layout()\n",
    "plt.savefig(str(output / f'{name}_stats_a.png'))"
   ]
  },
  {
   "cell_type": "code",
   "execution_count": 1,
   "metadata": {},
   "outputs": [],
   "source": [
    "##quit()\n"
   ]
  },
  {
   "cell_type": "code",
   "execution_count": null,
   "metadata": {},
   "outputs": [],
   "source": []
  },
  {
   "cell_type": "code",
   "execution_count": null,
   "metadata": {},
   "outputs": [],
   "source": []
  }
 ],
 "metadata": {
  "kernelspec": {
   "display_name": "goofit-june2020",
   "language": "python",
   "name": "goofit-june2020"
  },
  "language_info": {
   "codemirror_mode": {
    "name": "ipython",
    "version": 3
   },
   "file_extension": ".py",
   "mimetype": "text/x-python",
   "name": "python",
   "nbconvert_exporter": "python",
   "pygments_lexer": "ipython3",
   "version": "3.7.6"
  }
 },
 "nbformat": 4,
 "nbformat_minor": 2
}
