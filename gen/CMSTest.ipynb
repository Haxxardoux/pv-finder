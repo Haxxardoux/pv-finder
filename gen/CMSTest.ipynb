{
 "cells": [
  {
   "cell_type": "code",
   "execution_count": 2,
   "metadata": {},
   "outputs": [
    {
     "name": "stdout",
     "output_type": "stream",
     "text": [
      "Welcome to JupyROOT 6.18/04\n"
     ]
    }
   ],
   "source": [
    "import pandas as pd\n",
    "import numpy as np\n",
    "from ast import literal_eval\n",
    "import matplotlib.pyplot as plt\n",
    "from operator import attrgetter\n",
    "import ROOT\n",
    "import velo\n",
    "from scatter import Scatter\n",
    "from writer import prtStable, heavyFlavor, Writer, hitSel, Hits\n",
    "from dataclasses import dataclass\n",
    "from collections import namedtuple"
   ]
  },
  {
   "cell_type": "code",
   "execution_count": 3,
   "metadata": {},
   "outputs": [],
   "source": [
    "tracks_info = pd.read_csv('tracks_info.txt', header = None, delimiter = \"\\t\")\n",
    "truth_track_info = pd.read_csv('truth_track_info.txt', header = None, delimiter = \"\\t\")"
   ]
  },
  {
   "cell_type": "code",
   "execution_count": 4,
   "metadata": {},
   "outputs": [],
   "source": [
    "trks = tracks_info.to_numpy()\n",
    "truth_trks = truth_track_info.to_numpy()"
   ]
  },
  {
   "cell_type": "code",
   "execution_count": 5,
   "metadata": {},
   "outputs": [],
   "source": [
    "@dataclass\n",
    "class TrkInfo:\n",
    "    lumi_section: int\n",
    "    event_num: int\n",
    "    trk_num: int\n",
    "    pt: list\n",
    "    cottheta: float\n",
    "    phi: float\n",
    "    d0: float\n",
    "    z0: float\n",
    "    cov: np.ndarray\n",
    "        \n",
    "@dataclass\n",
    "class TruthTrkInfo:\n",
    "    lumi_section: int\n",
    "    event_num: int\n",
    "    trk_num: int\n",
    "    ptr: str\n",
    "    charge: float\n",
    "    px: float\n",
    "    py: float\n",
    "    pz: float\n",
    "    vertexX: float\n",
    "    vertexY: float\n",
    "    vertexZ: float\n",
    "    vid: int"
   ]
  },
  {
   "cell_type": "code",
   "execution_count": 6,
   "metadata": {
    "scrolled": true
   },
   "outputs": [],
   "source": [
    "track_list = []\n",
    "for i in range(len(trks)):\n",
    "    current = trks[i][0].split(maxsplit = 10)\n",
    "    lum = int(current[1])\n",
    "    evt = int(current[2])\n",
    "    tnum = int(current[3])\n",
    "    pt = [float(current[4]), float(current[5])]\n",
    "    cottheta = float(current[6])\n",
    "    phi = float(current[7])\n",
    "    d0 = float(current[8])\n",
    "    z0 = float(current[9])\n",
    "    cov = np.array(literal_eval(current[10]))\n",
    "    track = TrkInfo(lum, evt, tnum, pt, cottheta, phi, d0, z0, cov)\n",
    "    track_list.append(track)"
   ]
  },
  {
   "cell_type": "code",
   "execution_count": 7,
   "metadata": {},
   "outputs": [],
   "source": [
    "truth_track_list = []\n",
    "for i in range(len(truth_trks)):\n",
    "    current = truth_trks[i][0].split()\n",
    "    if not len(current)==12:\n",
    "        continue\n",
    "    lum = int(current[1])\n",
    "    evt = int(current[2])\n",
    "    tnum = int(current[3])\n",
    "    ptr = str(current[4])\n",
    "    charge = int(current[5])\n",
    "    px = float(current[6])\n",
    "    py = float(current[7])\n",
    "    pz = float(current[8])\n",
    "    vertexX = float(current[9])\n",
    "    vertexY = float(current[10])\n",
    "    vertexZ = float(current[11])\n",
    "    track = TruthTrkInfo(lum, evt, tnum, ptr, charge, px, py, pz, vertexX, vertexY, vertexZ, None)\n",
    "    truth_track_list.append(track)"
   ]
  },
  {
   "cell_type": "code",
   "execution_count": 8,
   "metadata": {},
   "outputs": [
    {
     "name": "stdout",
     "output_type": "stream",
     "text": [
      "TruthTrkInfo(lumi_section=28, event_num=16988, trk_num=0, ptr='0x7f0e3600cd80', charge=-1, px=-2.31078, py=1.77023, pz=97.8958, vertexX=0.00302696, vertexY=0.00107761, vertexZ=-1.03371, vid=None)\n"
     ]
    }
   ],
   "source": [
    "print(truth_track_list[0])"
   ]
  },
  {
   "cell_type": "code",
   "execution_count": 9,
   "metadata": {},
   "outputs": [],
   "source": [
    "@dataclass\n",
    "class VertexInfo:\n",
    "    lumi_section: int\n",
    "    event_num: int\n",
    "    vrtx_num: int\n",
    "    x: float\n",
    "    y: float\n",
    "    z: float\n",
    "    dx: float\n",
    "    dy: float\n",
    "    dz: float\n",
    "    n_trks: int\n",
    "    trk_pts: np.ndarray\n",
    "        \n",
    "@dataclass\n",
    "class TruthVertexInfo:\n",
    "    lumi_section: int\n",
    "    event_num: int\n",
    "    vrtx_num: int\n",
    "    ptr: str\n",
    "    x: float\n",
    "    y: float\n",
    "    z: float\n",
    "    trk_ptr: list"
   ]
  },
  {
   "cell_type": "code",
   "execution_count": 10,
   "metadata": {},
   "outputs": [],
   "source": [
    "vertex_info = pd.read_csv('vertex_info.txt', header = None, delimiter = \"\\t\")\n",
    "vrtx = vertex_info.to_numpy()\n",
    "truth_vertex_info = pd.read_csv('truth_vertex_info.txt', header = None, delimiter = \"\\t\")\n",
    "truth_vrtx = truth_vertex_info.to_numpy()"
   ]
  },
  {
   "cell_type": "code",
   "execution_count": 11,
   "metadata": {},
   "outputs": [],
   "source": [
    "vertex_list = []\n",
    "for i in range(len(vrtx)):\n",
    "    current = vrtx[i][0].split(maxsplit = 11)\n",
    "    lum = int(current[1])\n",
    "    evt = int(current[2])\n",
    "    tnum = int(current[3])\n",
    "    x = float(current[4])\n",
    "    y = float(current[5])\n",
    "    z = float(current[6])\n",
    "    dx = float(current[7])\n",
    "    dy = float(current[8])\n",
    "    dz = float(current[9])\n",
    "    num = int(current[10])\n",
    "    pts = np.sort(np.fromstring(current[11], dtype=float, sep=' '))\n",
    "    vertex = VertexInfo(lum, evt, tnum, x, y, z, dx, dy, dz, num, pts)\n",
    "    vertex_list.append(vertex)"
   ]
  },
  {
   "cell_type": "code",
   "execution_count": 12,
   "metadata": {},
   "outputs": [],
   "source": [
    "truth_vertex_list = []\n",
    "for i in range(len(vrtx)):\n",
    "    current = truth_vrtx[i][0].split(maxsplit = 8)\n",
    "    lum = int(current[1])\n",
    "    evt = int(current[2])\n",
    "    tnum = int(current[3])\n",
    "    ptr = str(current[4])\n",
    "    x = float(current[5])\n",
    "    y = float(current[6])\n",
    "    z = float(current[7])\n",
    "    trk_pointer = current[8].split()\n",
    "    vertex = TruthVertexInfo(lum, evt, tnum, ptr, x, y, z, trk_pointer)\n",
    "    truth_vertex_list.append(vertex)"
   ]
  },
  {
   "cell_type": "code",
   "execution_count": 13,
   "metadata": {},
   "outputs": [],
   "source": [
    "# sort by event, then by pt for tracks\n",
    "vertex_list = sorted(vertex_list, key = attrgetter('event_num') )\n",
    "track_list = sorted(track_list, key = attrgetter('event_num'))\n",
    "truth_vertex_list = sorted(truth_vertex_list, key = attrgetter('event_num') )\n",
    "truth_track_list = sorted(truth_track_list, key = attrgetter('event_num'))"
   ]
  },
  {
   "cell_type": "code",
   "execution_count": 14,
   "metadata": {},
   "outputs": [
    {
     "name": "stdout",
     "output_type": "stream",
     "text": [
      "Event Range:  16987 - 17188\n"
     ]
    }
   ],
   "source": [
    "#grab first and last events\n",
    "first = vertex_list[0].event_num\n",
    "last = vertex_list[-1].event_num\n",
    "print(\"Event Range: \", first, '-', last)\n",
    "\n",
    "\n",
    "#create vertex dictionary, with keys corresponding to events\n",
    "vertex_dict = {}\n",
    "current_list = []\n",
    "current_event = first\n",
    "    \n",
    "for i in range(len(vertex_list)):\n",
    "    current_list.append(vertex_list[i])\n",
    "    if i == len(vertex_list)-1 or vertex_list[i+1].event_num > current_event:\n",
    "        vertex_dict[current_event] = current_list\n",
    "        current_list = []\n",
    "        current_event+=1\n",
    "        \n",
    "#create track dictionary, with keys corresponding to events\n",
    "track_dict = {}\n",
    "current_list = []\n",
    "current_event = first\n",
    "    \n",
    "for i in range(len(track_list)):\n",
    "    current_list.append(track_list[i])\n",
    "    if i == len(track_list)-1 or track_list[i+1].event_num > current_event:\n",
    "        track_dict[current_event] = current_list\n",
    "        current_list = []\n",
    "        current_event+=1\n",
    "        \n",
    "#create truth track dictionary, with keys corresponding to events\n",
    "truth_track_dict = {}\n",
    "current_list = []\n",
    "current_event = first\n",
    "    \n",
    "for i in range(len(truth_track_list)):\n",
    "    current_list.append(truth_track_list[i])\n",
    "    if i == len(truth_track_list)-1 or truth_track_list[i+1].event_num > current_event:\n",
    "        truth_track_dict[current_event] = current_list\n",
    "        current_list = []\n",
    "        current_event+=1\n",
    "        \n",
    "#create vertex track dictionary, with keys corresponding to events\n",
    "truth_vertex_dict = {}\n",
    "current_list = []\n",
    "current_event = first\n",
    "    \n",
    "for i in range(len(truth_vertex_list)):\n",
    "    current_list.append(truth_vertex_list[i])\n",
    "    if i == len(truth_vertex_list)-1 or truth_vertex_list[i+1].event_num > current_event:\n",
    "        truth_vertex_dict[current_event] = current_list\n",
    "        current_list = []\n",
    "        current_event+=1"
   ]
  },
  {
   "cell_type": "code",
   "execution_count": 15,
   "metadata": {
    "collapsed": true,
    "jupyter": {
     "outputs_hidden": true
    }
   },
   "outputs": [
    {
     "name": "stdout",
     "output_type": "stream",
     "text": [
      "0\n",
      "7383\n",
      "7383\n",
      "13550\n",
      "13550\n",
      "13550\n",
      "22213\n",
      "27557\n",
      "27557\n",
      "27557\n",
      "27557\n",
      "27557\n",
      "27557\n",
      "27557\n",
      "27557\n",
      "27557\n",
      "27557\n",
      "27557\n",
      "27557\n",
      "27557\n",
      "27557\n",
      "27557\n",
      "27557\n",
      "27557\n",
      "27557\n",
      "27557\n",
      "27557\n",
      "27557\n",
      "27557\n",
      "27557\n",
      "27557\n",
      "27557\n",
      "27557\n",
      "27557\n",
      "27557\n",
      "27557\n",
      "27557\n",
      "27557\n",
      "27557\n",
      "27557\n",
      "27557\n",
      "27557\n",
      "27557\n",
      "27557\n",
      "27557\n",
      "27557\n",
      "27557\n",
      "27557\n",
      "27557\n",
      "27557\n",
      "27557\n",
      "27557\n",
      "27557\n",
      "27557\n",
      "27557\n",
      "27557\n",
      "27557\n",
      "27557\n",
      "27557\n",
      "27557\n",
      "27557\n",
      "27557\n",
      "27557\n",
      "27557\n",
      "27557\n",
      "27557\n",
      "27557\n",
      "27557\n",
      "27557\n",
      "27557\n",
      "27557\n",
      "27557\n",
      "27557\n",
      "27557\n",
      "27557\n",
      "27557\n",
      "27557\n",
      "27557\n",
      "27557\n",
      "27557\n",
      "27557\n",
      "27557\n",
      "27557\n",
      "27557\n",
      "27557\n",
      "27557\n",
      "27557\n",
      "27557\n",
      "27557\n",
      "27557\n",
      "27557\n",
      "27557\n",
      "27557\n",
      "27557\n",
      "27557\n",
      "27557\n",
      "27557\n",
      "27557\n",
      "27557\n",
      "27557\n",
      "27557\n",
      "27557\n",
      "27557\n",
      "27557\n",
      "27557\n",
      "27557\n",
      "27557\n",
      "27557\n",
      "27557\n",
      "27557\n",
      "27557\n",
      "27557\n",
      "27557\n",
      "27557\n",
      "27557\n",
      "27557\n",
      "27557\n",
      "27557\n",
      "27557\n",
      "27557\n",
      "27557\n",
      "27557\n",
      "27557\n",
      "27557\n",
      "27557\n",
      "27557\n",
      "27557\n",
      "27557\n",
      "27557\n",
      "27557\n",
      "27557\n",
      "27557\n",
      "27557\n",
      "27557\n",
      "27557\n",
      "27557\n",
      "27557\n",
      "27557\n",
      "27557\n",
      "27557\n",
      "27557\n",
      "27557\n",
      "27557\n",
      "27557\n",
      "27557\n",
      "27557\n",
      "27557\n",
      "27557\n",
      "27557\n",
      "27557\n",
      "27557\n",
      "27557\n",
      "27557\n",
      "27557\n",
      "27557\n",
      "27557\n",
      "27557\n",
      "27557\n",
      "27557\n",
      "27557\n",
      "27557\n",
      "27557\n",
      "27557\n",
      "27557\n",
      "27557\n",
      "27557\n",
      "27557\n",
      "27557\n",
      "27557\n",
      "27557\n",
      "27557\n",
      "27557\n",
      "27557\n",
      "27557\n",
      "27557\n",
      "27557\n",
      "27557\n",
      "27557\n",
      "27557\n",
      "27557\n",
      "27557\n",
      "27557\n",
      "27557\n",
      "27557\n",
      "27557\n",
      "27557\n",
      "27557\n",
      "27557\n",
      "27557\n",
      "27557\n",
      "27557\n",
      "27557\n",
      "27557\n",
      "27557\n",
      "27557\n",
      "27557\n",
      "27557\n",
      "27557\n",
      "27557\n",
      "27557\n",
      "27557\n",
      "27557\n"
     ]
    }
   ],
   "source": [
    "# match tracks to vertices\n",
    "matched = 0\n",
    "for event in vertex_dict:\n",
    "    if event in truth_vertex_dict.keys(): \n",
    "        for i in range(len(truth_vertex_dict[event])):\n",
    "            if event in truth_track_dict.keys():\n",
    "                for j in range(len(truth_track_dict[event])):\n",
    "                    if truth_track_dict[event][j].ptr in truth_vertex_dict[event][i].trk_ptr:\n",
    "                        truth_track_dict[event][j].vid = truth_vertex_dict[event][i].vrtx_num\n",
    "                        matched+=1\n",
    "    print(matched)"
   ]
  },
  {
   "cell_type": "code",
   "execution_count": 17,
   "metadata": {},
   "outputs": [],
   "source": [
    "# Create the output TFile and TTree.\n",
    "name = \"/home/ekauffma/emk_test.root\"\n",
    "tfile = ROOT.TFile(name, \"RECREATE\")\n",
    "ttree = ROOT.TTree(\"data\", \"\")\n",
    "\n",
    "with Writer(ttree) as writer:\n",
    "    writer.add(\"pvr_x\",\"pvr_y\",\"pvr_z\",\n",
    "               \"svr_x\",\"svr_y\",\"svr_z\",\"svr_pvr\", #TODO, currently do not have SVs\n",
    "               \"prt_pid\",\"prt_px\",\"prt_py\",\"prt_pz\",\"prt_e\",\n",
    "               \"prt_x\",\"prt_y\",\"prt_z\",\"prt_pvr\",\"ntrks_prompt\")"
   ]
  },
  {
   "cell_type": "code",
   "execution_count": null,
   "metadata": {},
   "outputs": [],
   "source": [
    "for event in vertex_dict:\n",
    "    vertices = {}\n",
    "    for i in range(len(vertex_dict[event])):\n",
    "        writer[\"pvr_x\"].append(vertex_dict[event][i].x)\n",
    "        writer[\"pvr_y\"].append(vertex_dict[event][i].y)\n",
    "        writer[\"pvr_z\"].append(vertex_dict[event][i].z)\n",
    "        writer[\"ntrks_prompt\"].append(0) #TODO\n",
    "        vertices[vertex_dict[event][i].vrtx_num] = i\n",
    "    for i in range(len(truth_track_dict[event])):\n",
    "        writer[\"prt_pid\"].append(0) #TODO\n",
    "        writer[\"prt_x\"].append(truth_track_dict[event][i].vertexX)\n",
    "        writer[\"prt_y\"].append(truth_track_dict[event][i].vertexY)\n",
    "        writer[\"prt_z\"].append(truth_track_dict[event][i].vertexZ)\n",
    "        writer[\"prt_px\"].append(truth_track_dict[event][i].px)\n",
    "        writer[\"prt_py\"].append(truth_track_dict[event][i].py)\n",
    "        writer[\"prt_pz\"].append(truth_track_dict[event][i].pz)\n",
    "        writer[\"prt_e\"].append(0) #fill with zeros for now, probably won't use\n",
    "        ## not sure if doing below correctly\n",
    "        if truth_track_dict[event][i].vid in vertices.keys():\n",
    "            writer[\"prt_pvr\"].append(vertices[truth_track_dict[event][i].vid])\n",
    "    for i in range(len(track_dict[event])):\n",
    "        phi = track_dict[event][i].phi\n",
    "        d = track_dict[event][i].d0\n",
    "        ct = track_dict[event][i].cottheta\n",
    "        \n",
    "        #print('phi = ', phi)\n",
    "        #print('arctan(py/px) = ', np.arctan(track_dict[event][i].pt[1]/track_dict[event][i].pt[0]))\n",
    "        #y = (-2*d*np.cos(phi)+\n",
    "             #np.sqrt(4*d**2*np.cos(phi)**2-4*(np.cos(phi)**2+np.sin(phi)**2)*\n",
    "                     #(d**2-z**2*np.sin(phi)**2*(1/ct)**2)))/(2*(np.cos(phi)**2 + np.sin(phi)**2))\n",
    "        #x = np.sqrt((z**2-y**2*ct**2)/(ct**2))\n",
    "        writer[\"prt_px\"].append(track_dict[event][i].pt[0])\n",
    "        writer[\"prt_py\"].append(track_dict[event][i].pt[1])\n",
    "        writer[\"prt_pz\"].append(0)\n",
    "        writer[\"prt_e\"].append(0)\n",
    "    ttree.Fill()\n",
    "    writer.clear()\n",
    "ttree.Print()\n",
    "ttree.Write(ttree.GetName(), ROOT.TObject.kOverwrite)\n",
    "tfile.Close()"
   ]
  },
  {
   "cell_type": "code",
   "execution_count": null,
   "metadata": {},
   "outputs": [],
   "source": [
    "import uproot\n",
    "testfile = uproot.open(\"emk_test.root\")"
   ]
  },
  {
   "cell_type": "code",
   "execution_count": 16,
   "metadata": {},
   "outputs": [],
   "source": [
    "data = testfile[\"data\"]"
   ]
  },
  {
   "cell_type": "code",
   "execution_count": 17,
   "metadata": {},
   "outputs": [
    {
     "name": "stdout",
     "output_type": "stream",
     "text": [
      "pvr_x                      TStreamerSTL               asjagged(asdtype('>f8'), 10)\n",
      "pvr_y                      TStreamerSTL               asjagged(asdtype('>f8'), 10)\n",
      "pvr_z                      TStreamerSTL               asjagged(asdtype('>f8'), 10)\n",
      "prt_px                     TStreamerSTL               asjagged(asdtype('>f8'), 10)\n",
      "prt_py                     TStreamerSTL               asjagged(asdtype('>f8'), 10)\n",
      "prt_pz                     TStreamerSTL               asjagged(asdtype('>f8'), 10)\n",
      "prt_e                      TStreamerSTL               asjagged(asdtype('>f8'), 10)\n",
      "prt_x                      TStreamerSTL               asjagged(asdtype('>f8'), 10)\n",
      "prt_y                      TStreamerSTL               asjagged(asdtype('>f8'), 10)\n",
      "prt_z                      TStreamerSTL               asjagged(asdtype('>f8'), 10)\n"
     ]
    }
   ],
   "source": [
    "data.show()"
   ]
  },
  {
   "cell_type": "code",
   "execution_count": 18,
   "metadata": {},
   "outputs": [
    {
     "data": {
      "image/png": "[encoded data removed]",
      "text/plain": [
       "<Figure size 432x288 with 1 Axes>"
      ]
     },
     "metadata": {
      "needs_background": "light"
     },
     "output_type": "display_data"
    },
    {
     "data": {
      "image/png": "[encoded data removed]",
      "text/plain": [
       "<Figure size 432x288 with 1 Axes>"
      ]
     },
     "metadata": {
      "needs_background": "light"
     },
     "output_type": "display_data"
    }
   ],
   "source": [
    "prt_x = data[\"prt_x\"].array()\n",
    "plt.hist(prt_x.flatten(),bins=100)\n",
    "plt.show()\n",
    "\n",
    "prt_y = data[\"prt_y\"].array()\n",
    "plt.hist(prt_y.flatten(),bins=100)\n",
    "plt.show()"
   ]
  },
  {
   "cell_type": "code",
   "execution_count": null,
   "metadata": {},
   "outputs": [],
   "source": []
  },
  {
   "cell_type": "code",
   "execution_count": null,
   "metadata": {},
   "outputs": [],
   "source": []
  }
 ],
 "metadata": {
  "kernelspec": {
   "display_name": "Python 3",
   "language": "python",
   "name": "python3"
  },
  "language_info": {
   "codemirror_mode": {
    "name": "ipython",
    "version": 3
   },
   "file_extension": ".py",
   "mimetype": "text/x-python",
   "name": "python",
   "nbconvert_exporter": "python",
   "pygments_lexer": "ipython3",
   "version": "3.7.3"
  }
 },
 "nbformat": 4,
 "nbformat_minor": 4
}
